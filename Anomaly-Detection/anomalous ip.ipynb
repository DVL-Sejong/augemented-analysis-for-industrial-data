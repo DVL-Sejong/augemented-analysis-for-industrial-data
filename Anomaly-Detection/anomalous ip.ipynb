{
 "cells": [
  {
   "cell_type": "markdown",
   "metadata": {},
   "source": [
    "## IP based grouping"
   ]
  },
  {
   "cell_type": "code",
   "execution_count": null,
   "metadata": {},
   "outputs": [],
   "source": [
    "import pandas as pd\n",
    "import ipaddress\n",
    "import numpy as np\n",
    "from analyzer import _FLOW_FIELDS"
   ]
  },
  {
   "cell_type": "code",
   "execution_count": null,
   "metadata": {},
   "outputs": [],
   "source": [
    "df_orig = pd.read_csv(\"data.csv\", names=_FLOW_FIELDS, parse_dates=['ts'])"
   ]
  },
  {
   "cell_type": "code",
   "execution_count": null,
   "metadata": {},
   "outputs": [],
   "source": [
    "df_orig.head()"
   ]
  },
  {
   "cell_type": "markdown",
   "metadata": {},
   "source": [
    "## Features"
   ]
  },
  {
   "cell_type": "code",
   "execution_count": null,
   "metadata": {},
   "outputs": [],
   "source": [
    "grouped = df_orig.set_index('ts').groupby(['src_ip', 'dst_ip']).resample('10$')"
   ]
  },
  {
   "cell_type": "code",
   "execution_count": null,
   "metadata": {},
   "outputs": [],
   "source": [
    "df = grouped['src_tx'].sum().to_frame()"
   ]
  },
  {
   "cell_type": "code",
   "execution_count": null,
   "metadata": {},
   "outputs": [],
   "source": [
    "df['bytes_dw'] = grouped['dst_tx'].sum()\n",
    "df = df.rename(columns={'src_tx': 'bytes_dw'})"
   ]
  },
  {
   "cell_type": "code",
   "execution_count": null,
   "metadata": {},
   "outputs": [],
   "source": [
    "df['num_conns'] = grouped['src_port'].count()"
   ]
  },
  {
   "cell_type": "code",
   "execution_count": null,
   "metadata": {},
   "outputs": [],
   "source": [
    "df['num_flows'] = grouped([['dst_port', 'src_port', 'ip_protocol']]).agg(lambda x: len(set(x))).max(axis=1)"
   ]
  },
  {
   "cell_type": "code",
   "execution_count": null,
   "metadata": {},
   "outputs": [],
   "source": [
    "df_orig[(df_orig['src_ip']==\"10.2.1.20\") & (df_orig['dst_ip']==\"10.12.0.31\") &\n",
    "        (df_orig['ts']<=pd.datetime.fromisoformat(\"2017-01-27 16:47:20\")) & (df_orig['ts']>=pd.datetime.fromisoformat(\"2017-01-27 16:47:10\"))]"
   ]
  },
  {
   "cell_type": "code",
   "execution_count": null,
   "metadata": {},
   "outputs": [],
   "source": [
    "df['num_dst_port'] = grouped['dst_port'].agg(lambda x: len(set(x)))\n",
    "df['num_src_port'] = grouped['src_port'].agg(lambda x: len(set(x)))"
   ]
  },
  {
   "cell_type": "code",
   "execution_count": null,
   "metadata": {},
   "outputs": [],
   "source": [
    "from collections import Counter\n",
    "\n",
    "temp = grouped['ip_protocol'].agg(lambda x: Counter(x))"
   ]
  },
  {
   "cell_type": "code",
   "execution_count": null,
   "metadata": {},
   "outputs": [],
   "source": [
    "df['tcp_conns'] = temp.apply(lambda x: x['tcp'] if 'tcp' in x else 0)\n",
    "df['udp_conns'] = temp.apply(lambda x: x['udp'] if 'udp' in x else 0)"
   ]
  },
  {
   "cell_type": "code",
   "execution_count": null,
   "metadata": {},
   "outputs": [],
   "source": [
    "import ipaddress\n",
    "\n",
    "df2 = df.reset_index()\n",
    "\n",
    "df2['cidr_src_ip'] = df2['src_ip'].apply(lambda x: str(ipaddress.ip_network(x)))\n",
    "df2['cidr_dst_ip'] = df2['dst_ip'].apply(lambda x: str(ipaddress.ip_network(x)))\n",
    "df2['pvt_src_ip'] = df2['src_ip'].apply(lambda x: ipaddress.IPv4Address(x).is_private)\n",
    "df2['pvt_dst_ip'] = df2['dst_ip'].apply(lambda x: ipaddress.IPv4Address(x).is_private)"
   ]
  },
  {
   "cell_type": "code",
   "execution_count": null,
   "metadata": {},
   "outputs": [],
   "source": [
    "# all values are counts, so fillna with zeros\n",
    "df2 = df2.fillna(0)"
   ]
  },
  {
   "cell_type": "code",
   "execution_count": null,
   "metadata": {},
   "outputs": [],
   "source": [
    "df2.to_pickle(\"df_src_dst_sampled_10s.pkl\")"
   ]
  },
  {
   "cell_type": "code",
   "execution_count": null,
   "metadata": {},
   "outputs": [],
   "source": [
    "features = ['bytes_dw', 'bytes_dw', 'num_conns',\n",
    "    'num_flows', 'num_dst_port', 'num_src_port', 'tcp_conns', 'udp_conns',\n",
    "    'cidr_src_ip', 'cidr_dst_ip', 'pvt_src_ip', 'pvt_dst_ip']\n",
    "features_min = ['bytes_dw', 'bytes_dw', 'num_conns',\n",
    "    'num_flows', 'num_dst_port', 'num_src_port', 'tcp_conns', 'udp_conns']"
   ]
  },
  {
   "cell_type": "code",
   "execution_count": null,
   "metadata": {},
   "outputs": [],
   "source": [
    "from matplotlib import pyplot as plt\n",
    "from sklearn import decomposition\n",
    "from sklearn.preprocessing import normalize, StandardScaler"
   ]
  },
  {
   "cell_type": "code",
   "execution_count": null,
   "metadata": {},
   "outputs": [],
   "source": [
    "df2 = pd.read_pickle(\"df_src_dst_sampled_10s.pkl\")\n",
    "\n",
    "X = df2.loc[:, features_min].values"
   ]
  },
  {
   "cell_type": "markdown",
   "metadata": {},
   "source": [
    "### PCA"
   ]
  },
  {
   "cell_type": "code",
   "execution_count": null,
   "metadata": {},
   "outputs": [],
   "source": [
    "pca = decomposition.PCA(n_components=6)\n",
    "#X_centered = X - X.mean(axis=0)\n",
    "\n",
    "X_std = StandardScaler().fit_transform(X)\n",
    "pca.fit(X_std)\n",
    "\n",
    "X_pca = pca.transform(X_std)\n",
    "\n",
    "print(pca.explained_variance_)\n",
    "for i, component in enumerate(pca.components_):\n",
    "    print(\"{} component: {}% of initial variance\".format(i + 1, \n",
    "        round(100 * pca.explained_variance_ratio_[i], 2)))"
   ]
  },
  {
   "cell_type": "code",
   "execution_count": null,
   "metadata": {},
   "outputs": [],
   "source": [
    "# Plotting the results of PCA\n",
    "fig = plt.figure()\n",
    "ax = fig.add_subplot(1, 1, 1)\n",
    "\n",
    "ax.plot(X_pca[:, 0], X_pca[:, 1], '+')\n",
    "ax.set_xlabel('PCA 0')\n",
    "ax.set_ylabel('PCA 1')\n",
    "ax.grid(1)"
   ]
  },
  {
   "cell_type": "markdown",
   "metadata": {},
   "source": [
    "### KMEANS"
   ]
  },
  {
   "cell_type": "code",
   "execution_count": null,
   "metadata": {},
   "outputs": [],
   "source": [
    "from sklearn.cluster import KMeans\n",
    "from scipy.spatial.distance import cdist"
   ]
  },
  {
   "cell_type": "code",
   "execution_count": null,
   "metadata": {},
   "outputs": [],
   "source": [
    "X_std = StandardScaler().fit_transform(X)\n",
    "\n",
    "clt = KMeans(n_clusters=8, random_state=0, n_jobs=-1)\n",
    "model = clt.fit(X_std)\n",
    "print( model.labels_ )\n",
    "pred_y = model.fit_predict(X_std)"
   ]
  },
  {
   "cell_type": "code",
   "execution_count": null,
   "metadata": {},
   "outputs": [],
   "source": [
    "plt.scatter(X_std[:,0], X_std[:,1], c=pred_y, cmap='plasma')\n",
    "#plt.scatter(model.cluster_centers_[:, 0], model.cluster_centers_[:, 1], s=300, c='red')\n",
    "plt.show()"
   ]
  },
  {
   "cell_type": "code",
   "execution_count": null,
   "metadata": {},
   "outputs": [],
   "source": [
    "distortions = []\n",
    "\n",
    "for k in range(1,11):\n",
    "    clt = KMeans(n_clusters=k, random_state=0, n_jobs=-1)\n",
    "    model = clt.fit(X_std)\n",
    "    print( model.labels_ )\n",
    "    pred_y = model.fit_predict(X_std)\n",
    "\n",
    "    distortions.append(sum(np.min(cdist(X_std, model.cluster_centers_, 'euclidean'), axis=1)) / X_std.shape[0])"
   ]
  },
  {
   "cell_type": "code",
   "execution_count": null,
   "metadata": {},
   "outputs": [],
   "source": [
    "plt.plot(range(1,11), distortions, 'bx-')\n",
    "plt.xlabel('k')\n",
    "plt.ylabel('Distortion')"
   ]
  }
 ],
 "metadata": {
  "language_info": {
   "name": "python"
  }
 },
 "nbformat": 4,
 "nbformat_minor": 2
}
