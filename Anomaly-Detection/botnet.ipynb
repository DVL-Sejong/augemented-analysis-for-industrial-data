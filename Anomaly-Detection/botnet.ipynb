{
 "cells": [
  {
   "cell_type": "code",
   "execution_count": null,
   "metadata": {},
   "outputs": [],
   "source": [
    "import numpy as np\n",
    "import pandas as pd\n",
    "import matplotlib.pyplot as plt\n",
    "import seaborn as sns\n",
    "from subprocess import check_output\n",
    "import math\n",
    "\n",
    "df = pd.read_csv('./input/cs448b_ipasn.csv')"
   ]
  },
  {
   "cell_type": "markdown",
   "metadata": {},
   "source": [
    "# data grouping"
   ]
  },
  {
   "cell_type": "code",
   "execution_count": null,
   "metadata": {},
   "outputs": [],
   "source": [
    "df['date'] = pd.to_datetime(df['date'])\n",
    "df = df.groupby(['date', 'l_ipn'], as_index=False).sum() # date와 l_ipn 별로 합을 구함\n",
    "df['date']"
   ]
  },
  {
   "cell_type": "code",
   "execution_count": null,
   "metadata": {},
   "outputs": [],
   "source": [
    "df['yday'] = df['date'].dt.dayofyear\n",
    "df['wday'] = df['date'].dt.dayofweek"
   ]
  },
  {
   "cell_type": "markdown",
   "metadata": {},
   "source": [
    "# visualization"
   ]
  },
  {
   "cell_type": "code",
   "execution_count": null,
   "metadata": {},
   "outputs": [],
   "source": [
    "# l_ipn 기준으로 그룹 묶기\n",
    "ip = []\n",
    "maxF = []\n",
    "for i in range(0, 10):\n",
    "    ip.insert(i, df[df['l_ipn']==i])\n",
    "    maxF.insert(i, np.max(ip[i]['f']))\n",
    "ip[0].head()"
   ]
  },
  {
   "cell_type": "code",
   "execution_count": null,
   "metadata": {},
   "outputs": [],
   "source": [
    "count, division = np.histogram(ip[0]['f'], bins=10)\n",
    "count"
   ]
  },
  {
   "cell_type": "code",
   "execution_count": null,
   "metadata": {},
   "outputs": [],
   "source": [
    "division"
   ]
  },
  {
   "cell_type": "code",
   "execution_count": null,
   "metadata": {},
   "outputs": [],
   "source": [
    "# IP 별 f(날짜 별 connection 수) 분포도\n",
    "f, axarray = plt.subplots(5, 2, figsize=(15, 20)) # 5x2로 10개의 flow를 보일 것이다\n",
    "for i in range(10):\n",
    "    count, division = np.histogram(ip[i]['f'], bins=10) # bins는 x축의 간격\n",
    "    row, col = math.floor(i/2), i%2\n",
    "    g = sns.barplot(x=division[0:len(division)-1], y=count, ax=axarray[row, col]) # (0, 0) 위치에 그래프 넣을 것\n",
    "    axarray[row, col].set_title(f'Local IP {i} Flow')"
   ]
  },
  {
   "cell_type": "code",
   "execution_count": null,
   "metadata": {},
   "outputs": [],
   "source": [
    "# 1년간 connection 수 흐름\n",
    "f, axarray = plt.subplots(5, 2, figsize=(15, 20))\n",
    "for i in range(10):\n",
    "    row, col = math.floor(i/2), i%2\n",
    "    axarray[row, col].plot(ip[i]['yday'], ip[i]['f'])\n",
    "    axarray[row, col].plot(ip[i]['yday'], [ip[i]['f'].mean() + 3*ip[i]['f'].std()]*len(ip[i]['yday']), color='g')"
   ]
  },
  {
   "cell_type": "code",
   "execution_count": null,
   "metadata": {},
   "outputs": [],
   "source": [
    "ip[0] = df[df['l_ipn']==0]\n",
    "maxF[0] = np.max(ip[0]['f'])\n",
    "ip[1] = df[df['l_ipn']==1][0:len(ip[1]['f'])-5]\n",
    "maxF[1] = np.max(ip[1]['f'])\n",
    "ip[2] = df[df['l_ipn']==2]\n",
    "maxF[2] = np.max(ip[2]['f'])\n",
    "ip[3] = df[df['l_ipn']==3]\n",
    "maxF[3] = np.max(ip[3]['f'])\n",
    "ip[4] = df[df['l_ipn']==4][0:len(ip[4]['f'])-7]"
   ]
  }
 ],
 "metadata": {
  "language_info": {
   "name": "python"
  },
  "orig_nbformat": 4
 },
 "nbformat": 4,
 "nbformat_minor": 2
}
