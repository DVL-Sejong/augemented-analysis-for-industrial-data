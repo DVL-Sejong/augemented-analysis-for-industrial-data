{
 "cells": [
  {
   "cell_type": "code",
   "execution_count": null,
   "metadata": {},
   "outputs": [],
   "source": [
    "import numpy as np\n",
    "import pandas as pd\n",
    "import matplotlib.pyplot as plt\n",
    "import seaborn as sns\n",
    "from subprocess import check_output\n",
    "import math\n",
    "\n",
    "df = pd.read_csv('./input/cs448b_ipasn.csv')"
   ]
  },
  {
   "cell_type": "markdown",
   "metadata": {},
   "source": [
    "# data grouping"
   ]
  },
  {
   "cell_type": "code",
   "execution_count": null,
   "metadata": {},
   "outputs": [],
   "source": [
    "df['date'] = pd.to_datetime(df['date'])\n",
    "df = df.groupby(['date', 'l_ipn'], as_index=False).sum() # date와 l_ipn 별로 합을 구함\n",
    "df['date']"
   ]
  },
  {
   "cell_type": "code",
   "execution_count": null,
   "metadata": {},
   "outputs": [],
   "source": [
    "df['yday'] = df['date'].dt.dayofyear\n",
    "df['wday'] = df['date'].dt.dayofweek"
   ]
  },
  {
   "cell_type": "markdown",
   "metadata": {},
   "source": [
    "# visualization"
   ]
  },
  {
   "cell_type": "code",
   "execution_count": null,
   "metadata": {},
   "outputs": [],
   "source": [
    "# l_ipn 기준으로 그룹 묶기\n",
    "ip = []\n",
    "maxF = []\n",
    "for i in range(0, 10):\n",
    "    ip.insert(i, df[df['l_ipn']==i])\n",
    "    maxF.insert(i, np.max(ip[i]['f']))\n",
    "ip[0].head()"
   ]
  },
  {
   "cell_type": "code",
   "execution_count": null,
   "metadata": {},
   "outputs": [],
   "source": [
    "count, division = np.histogram(ip[0]['f'], bins=10)\n",
    "count"
   ]
  },
  {
   "cell_type": "code",
   "execution_count": null,
   "metadata": {},
   "outputs": [],
   "source": [
    "division"
   ]
  },
  {
   "cell_type": "code",
   "execution_count": null,
   "metadata": {},
   "outputs": [],
   "source": [
    "# IP 별 f(날짜 별 connection 수) 분포도\n",
    "f, axarray = plt.subplots(5, 2, figsize=(15, 20)) # 5x2로 10개의 flow를 보일 것이다\n",
    "for i in range(10):\n",
    "    count, division = np.histogram(ip[i]['f'], bins=10) # bins는 x축의 간격\n",
    "    row, col = math.floor(i/2), i%2\n",
    "    g = sns.barplot(x=division[0:len(division)-1], y=count, ax=axarray[row, col]) # (0, 0) 위치에 그래프 넣을 것\n",
    "    axarray[row, col].set_title(f'Local IP {i} Flow')"
   ]
  },
  {
   "cell_type": "code",
   "execution_count": null,
   "metadata": {},
   "outputs": [],
   "source": [
    "# 1년간 connection 수 흐름\n",
    "f, axarray = plt.subplots(5, 2, figsize=(15, 20))\n",
    "for i in range(10):\n",
    "    row, col = math.floor(i/2), i%2\n",
    "    axarray[row, col].plot(ip[i]['yday'], ip[i]['f'])\n",
    "    axarray[row, col].plot(ip[i]['yday'], [ip[i]['f'].mean() + 3*ip[i]['f'].std()]*len(ip[i]['yday']), color='g')"
   ]
  },
  {
   "cell_type": "code",
   "execution_count": null,
   "metadata": {},
   "outputs": [],
   "source": [
    "ip[0] = df[df['l_ipn']==0]\n",
    "maxF[0] = np.max(ip[0]['f'])\n",
    "ip[1] = df[df['l_ipn']==1][0:len(ip[1]['f'])-5]\n",
    "maxF[1] = np.max(ip[1]['f'])\n",
    "ip[2] = df[df['l_ipn']==2]\n",
    "maxF[2] = np.max(ip[2]['f'])\n",
    "ip[3] = df[df['l_ipn']==3]\n",
    "maxF[3] = np.max(ip[3]['f'])\n",
    "ip[4] = df[df['l_ipn']==4][0:len(ip[4]['f'])-7]"
   ]
  },
  {
   "cell_type": "markdown",
   "metadata": {},
   "source": [
    "# prediction"
   ]
  },
  {
   "cell_type": "code",
   "execution_count": null,
   "metadata": {},
   "outputs": [],
   "source": [
    "import math\n",
    "from keras.models import Sequential\n",
    "from keras.layers import Dense\n",
    "from keras.layers import LSTM\n",
    "from keras.layers import GRU\n",
    "from sklearn.preprocessing import MinMaxScaler\n",
    "from sklearn.metrics import mean_squared_error"
   ]
  },
  {
   "cell_type": "code",
   "execution_count": null,
   "metadata": {},
   "outputs": [],
   "source": [
    "# 정규화\n",
    "for i in range(10):\n",
    "    fv = [float(v)/float(maxF[i]) for v in ip[i]['f'].values]\n",
    "    ip[i].loc[:, 'f'] = np.array(fv).reshape(-1, 1)"
   ]
  },
  {
   "cell_type": "code",
   "execution_count": null,
   "metadata": {},
   "outputs": [],
   "source": [
    "# feature 리스트와 우리 모델의 target을 만든다\n",
    "# look_back: 지금으로부터 이전 몇 개의 데이터를 볼지 결정\n",
    "def create_dataset(dataset, look_back=1):\n",
    "    dataX, dataY = [], []\n",
    "    for i in range(len(dataset)-look_back-1):\n",
    "        a = dataset[i:(i+look_back)].values\n",
    "        dataX.append(a)\n",
    "        dataY.append(dataset['f'].iloc[i+look_back])\n",
    "    return np.array(dataX), np.array(dataY)"
   ]
  },
  {
   "cell_type": "code",
   "execution_count": null,
   "metadata": {},
   "outputs": [],
   "source": [
    "# RNN Train\n",
    "def trainModel(data):\n",
    "    data['f'] = data['f'].astype('float32')\n",
    "    train = data[0:look_back*5].copy()\n",
    "    trainX, trainY = create_dataset(train, look_back)\n",
    "    trainX = np.reshape(trainX, (trainX.shape[0], look_back, 2))\n",
    "    model = Sequential()\n",
    "    model.add(GRU(64, input_shape=(trainX.shape[1], trainX.shape[2]), return_sequences=True))\n",
    "    model.add(GRU(32))\n",
    "    model.add(Dense(1))\n",
    "    model.compile(loss='mean_squared_error', optimizer='sgd')\n",
    "    model.fit(trainX, trainY, epochs=100, batch_size=16, verbose=0)\n",
    "    return model"
   ]
  },
  {
   "cell_type": "code",
   "execution_count": null,
   "metadata": {},
   "outputs": [],
   "source": [
    "def predictFlow(_model, data):\n",
    "    ypredFlow = [0] * look_back\n",
    "    for k in range(len(data)-look_back):\n",
    "        pattern = data[k:k+look_back].values\n",
    "        x = np.reshape(pattern, (1, len(pattern), 2))\n",
    "        ypredFlow.append(_model.predict(x)[0][0]) # ypredFlow = [v*_max for v in ypredFlow]\n",
    "    return ypred"
   ]
  },
  {
   "cell_type": "code",
   "execution_count": null,
   "metadata": {},
   "outputs": [],
   "source": [
    "m = []\n",
    "for i in range(10):\n",
    "    m[i] = trainModel(ip[i][['f', 'wday']].copy())\n",
    "\n",
    "f, axarray = plt.subplots(5, 2, figsize=(15, 20))\n",
    "\n",
    "ypred, ipF = [], []\n",
    "for i in range(10):\n",
    "    ypred[i] = np.multiply(predictFlow(m[i], ip[i][['f', 'wday']].copy()), max[i])\n",
    "    ipF[i] = np.multiply(ip[i]['f'], max[i])\n",
    "    \n",
    "    row, col = math.floor(i/2), i%2\n",
    "    axarray[row, col].plot(ipF[i]['yday'], ipF[i])\n",
    "    axarray[row, col].plot(ipF[i]['yday'], ypred[i], color='r')\n",
    "    axarray[row, col].set_title(f\"Local IP {i} Flow and prediction\")\n",
    "plt.show()"
   ]
  },
  {
   "cell_type": "code",
   "execution_count": null,
   "metadata": {},
   "outputs": [],
   "source": [
    "corr = []\n",
    "for i in range(10):"
   ]
  }
 ],
 "metadata": {
  "language_info": {
   "name": "python"
  },
  "orig_nbformat": 4
 },
 "nbformat": 4,
 "nbformat_minor": 2
}
