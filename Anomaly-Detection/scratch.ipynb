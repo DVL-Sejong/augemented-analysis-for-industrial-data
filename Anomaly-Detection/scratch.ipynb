{
 "cells": [
  {
   "cell_type": "markdown",
   "metadata": {},
   "source": [
    "# Scratch file to analyze netflow records"
   ]
  },
  {
   "cell_type": "code",
   "execution_count": null,
   "metadata": {},
   "outputs": [],
   "source": [
    "import pandas as pd\n",
    "import ipaddr\n",
    "import csv\n",
    "import collections\n",
    "\n",
    "from analyzer import Flow, Alert, Analyzer, _FLOW_FIELDS"
   ]
  }
 ],
 "metadata": {
  "language_info": {
   "name": "python"
  }
 },
 "nbformat": 4,
 "nbformat_minor": 2
}
