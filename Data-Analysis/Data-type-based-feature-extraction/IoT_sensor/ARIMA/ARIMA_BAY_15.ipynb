{
 "cells": [
  {
   "cell_type": "code",
   "execution_count": 1,
   "id": "bb85395b",
   "metadata": {},
   "outputs": [],
   "source": [
    "import math\n",
    "import pandas as pd\n",
    "import numpy as np\n",
    "import numpy.linalg as la\n",
    "\n",
    "from sklearn.metrics import mean_squared_error, mean_absolute_error, mean_absolute_percentage_error\n",
    "from statsmodels.tsa.arima.model import ARIMA"
   ]
  },
  {
   "cell_type": "code",
   "execution_count": 2,
   "id": "58c6e6e5",
   "metadata": {},
   "outputs": [],
   "source": [
    "def csvIndexToDatetime(path, start, freq):\n",
    "    df = pd.read_csv(path)\n",
    "    df = df.drop(columns=['Unnamed: 0'])\n",
    "    time_len = df.shape[0]\n",
    "    num_nodes = df.shape[1]\n",
    "    print(time_len, num_nodes)\n",
    "    rng = pd.date_range(start, periods=time_len, freq=freq)\n",
    "    idx = pd.DatetimeIndex(rng)\n",
    "    df.index = idx\n",
    "    return df, idx"
   ]
  },
  {
   "cell_type": "code",
   "execution_count": 3,
   "id": "91f72990",
   "metadata": {},
   "outputs": [],
   "source": [
    "def evaluation(a,b):\n",
    "    rmse = math.sqrt(mean_squared_error(a,b))\n",
    "    mae = mean_absolute_error(a, b)\n",
    "    mape = mean_absolute_percentage_error(a, b)\n",
    "    F_norm = la.norm(a-b)/la.norm(a)\n",
    "    return rmse, mae, mape, 1-F_norm"
   ]
  },
  {
   "cell_type": "code",
   "execution_count": 4,
   "id": "629b9843",
   "metadata": {},
   "outputs": [],
   "source": [
    "def predictARIMA(df, idx, timelag):\n",
    "    rmse, mae, mape, acc =  [], [], [], []\n",
    "    \n",
    "    for i in range(df.shape[1]):\n",
    "        print(i, end = ': ')\n",
    "        ts = df.iloc[:-timelag, i]\n",
    "        ts_log = np.log(ts)\n",
    "        ts_log = np.array(ts_log, dtype=np.float64)\n",
    "        where_are_inf = np.isinf(ts_log)\n",
    "        ts_log[where_are_inf] = 0\n",
    "        ts_log = pd.Series(ts_log)\n",
    "        ts_log.index = idx[:-timelag]\n",
    "        print('Data Load Finish', end = ', ')\n",
    "        \n",
    "        model = ARIMA(ts_log, order=[1,0,0])\n",
    "        properModel = model.fit()\n",
    "        predict_ts = properModel.forecast(steps=timelag)\n",
    "        log_recover = np.exp(predict_ts)\n",
    "        testX = org_df.iloc[-timelag:, 0]\n",
    "        print('Predict Finish', end = ', ')\n",
    "        \n",
    "        er_rmse, er_mae, er_mape, er_acc = evaluation(testX, log_recover)\n",
    "        print(round(er_rmse,4), round(er_mae,4), round(er_mape,4), round(er_acc,4), end = ' ')\n",
    "        \n",
    "        rmse.append(er_rmse)\n",
    "        mae.append(er_mae)\n",
    "        mape.append(er_mape)\n",
    "        acc.append(er_acc)\n",
    "        print('Evaluation Finish')\n",
    "        \n",
    "    acc = np.mat(acc)\n",
    "    acc[acc<0] = 0\n",
    "    print('RMSE: ' + str(np.mean(rmse)) + ', MAE: ' + str(np.mean(mae)) + ', MAPE: ' + str(np.mean(mape))  + '\\n'\n",
    "          + 'ACC: ' + str(np.mean(acc)))"
   ]
  },
  {
   "cell_type": "code",
   "execution_count": 5,
   "id": "e171bd77",
   "metadata": {
    "scrolled": true
   },
   "outputs": [],
   "source": [
    "path_0 = 'data/PEMS-BAY/speed_bay_0.csv'\n",
    "path_5 = 'data/PEMS-BAY/speed_bay_5.csv'\n",
    "path_10 = 'data/PEMS-BAY/speed_bay_10.csv'\n",
    "path_20 = 'data/PEMS-BAY/speed_bay_20.csv'"
   ]
  },
  {
   "cell_type": "code",
   "execution_count": 6,
   "id": "ee4dc616",
   "metadata": {},
   "outputs": [],
   "source": [
    "start = '1/1/2017'\n",
    "freq = '5min'"
   ]
  },
  {
   "cell_type": "code",
   "execution_count": 7,
   "id": "c92ee818",
   "metadata": {},
   "outputs": [
    {
     "name": "stdout",
     "output_type": "stream",
     "text": [
      "52116 325\n"
     ]
    }
   ],
   "source": [
    "org_path = 'data/PEMS-BAY/speed_bay_0.csv'\n",
    "org_df, org_idx = csvIndexToDatetime(org_path, start, freq)"
   ]
  },
  {
   "cell_type": "markdown",
   "id": "068d02b3",
   "metadata": {},
   "source": [
    "### Unobserved Nodes = 0%"
   ]
  },
  {
   "cell_type": "code",
   "execution_count": 8,
   "id": "9eaf61b7",
   "metadata": {},
   "outputs": [
    {
     "name": "stdout",
     "output_type": "stream",
     "text": [
      "52116 325\n"
     ]
    },
    {
     "data": {
      "text/plain": [
       "0"
      ]
     },
     "execution_count": 8,
     "metadata": {},
     "output_type": "execute_result"
    }
   ],
   "source": [
    "df, idx = csvIndexToDatetime(path_0, start, freq)\n",
    "(df == 0).sum().sum()"
   ]
  },
  {
   "cell_type": "code",
   "execution_count": 9,
   "id": "60f8ff1e",
   "metadata": {
    "scrolled": false
   },
   "outputs": [
    {
     "name": "stdout",
     "output_type": "stream",
     "text": [
      "0: Data Load Finish, Predict Finish, 0.6938 0.5854 0.0081 0.9903 Evaluation Finish\n",
      "1: Data Load Finish, Predict Finish, 5.2527 5.2399 0.0731 0.9267 Evaluation Finish\n",
      "2: Data Load Finish, Predict Finish, 3.6214 3.5933 0.0501 0.9495 Evaluation Finish\n",
      "3: Data Load Finish, Predict Finish, 10.784 10.7782 0.1503 0.8496 Evaluation Finish\n",
      "4: Data Load Finish, Predict Finish, 9.7803 9.7737 0.1363 0.8636 Evaluation Finish\n",
      "5: Data Load Finish, Predict Finish, 5.6843 5.6722 0.0791 0.9207 Evaluation Finish\n",
      "6: Data Load Finish, Predict Finish, 5.6713 5.6558 0.0789 0.9209 Evaluation Finish\n",
      "7: Data Load Finish, Predict Finish, 3.7492 3.7301 0.052 0.9477 Evaluation Finish\n",
      "8: Data Load Finish, Predict Finish, 6.9607 6.951 0.0969 0.9029 Evaluation Finish\n",
      "9: Data Load Finish, Predict Finish, 2.7983 2.7737 0.0387 0.961 Evaluation Finish\n",
      "10: Data Load Finish, Predict Finish, 3.4245 3.4039 0.0475 0.9522 Evaluation Finish\n",
      "11: Data Load Finish, Predict Finish, 5.2195 5.206 0.0726 0.9272 Evaluation Finish\n",
      "12: Data Load Finish, Predict Finish, 4.9417 4.9273 0.0687 0.9311 Evaluation Finish\n",
      "13: Data Load Finish, Predict Finish, 1.6409 1.5726 0.0219 0.9771 Evaluation Finish\n",
      "14: Data Load Finish, Predict Finish, 4.7253 4.7112 0.0657 0.9341 Evaluation Finish\n",
      "15: Data Load Finish, Predict Finish, 3.1602 3.1373 0.0437 0.9559 Evaluation Finish\n",
      "16: Data Load Finish, Predict Finish, 3.9211 3.9018 0.0544 0.9453 Evaluation Finish\n",
      "17: Data Load Finish, Predict Finish, 3.8353 3.8153 0.0532 0.9465 Evaluation Finish\n",
      "18: Data Load Finish, Predict Finish, 3.8476 3.8309 0.0534 0.9463 Evaluation Finish\n",
      "19: Data Load Finish, Predict Finish, 5.3051 5.2896 0.0737 0.926 Evaluation Finish\n",
      "20: Data Load Finish, Predict Finish, 4.2668 4.2497 0.0592 0.9405 Evaluation Finish\n",
      "21: Data Load Finish, Predict Finish, 3.4697 3.4469 0.048 0.9516 Evaluation Finish\n",
      "22: Data Load Finish, Predict Finish, 3.9048 3.887 0.0542 0.9455 Evaluation Finish\n",
      "23: Data Load Finish, Predict Finish, 7.5719 7.5622 0.1054 0.8944 Evaluation Finish\n",
      "24: Data Load Finish, Predict Finish, 3.7875 3.7703 0.0526 0.9472 Evaluation Finish\n",
      "25: Data Load Finish, Predict Finish, 3.8819 3.8642 0.0539 0.9459 Evaluation Finish\n",
      "26: Data Load Finish, Predict Finish, 3.8123 3.794 0.0529 0.9468 Evaluation Finish\n",
      "27: Data Load Finish, Predict Finish, 4.0813 4.0654 0.0567 0.9431 Evaluation Finish\n",
      "28: Data Load Finish, Predict Finish, 5.9001 5.8883 0.0821 0.9177 Evaluation Finish\n",
      "29: Data Load Finish, Predict Finish, 11.6187 11.6133 0.162 0.838 Evaluation Finish\n",
      "30: Data Load Finish, Predict Finish, 5.8176 5.8067 0.081 0.9189 Evaluation Finish\n",
      "31: Data Load Finish, Predict Finish, 6.2766 6.2663 0.0874 0.9125 Evaluation Finish\n",
      "32: Data Load Finish, Predict Finish, 2.5112 2.4835 0.0346 0.965 Evaluation Finish\n",
      "33: Data Load Finish, Predict Finish, 10.077 10.0708 0.1404 0.8595 Evaluation Finish\n",
      "34: Data Load Finish, Predict Finish, 4.6064 4.59 0.064 0.9358 Evaluation Finish\n",
      "35: Data Load Finish, Predict Finish, 8.2216 8.213 0.1145 0.8853 Evaluation Finish\n",
      "36: Data Load Finish, Predict Finish, 0.8264 0.7344 0.0102 0.9885 Evaluation Finish\n",
      "37: Data Load Finish, Predict Finish, 3.8254 3.807 0.0531 0.9466 Evaluation Finish\n",
      "38: Data Load Finish, Predict Finish, 7.5826 7.5728 0.1056 0.8942 Evaluation Finish\n",
      "39: Data Load Finish, Predict Finish, 5.4462 5.4331 0.0758 0.924 Evaluation Finish\n",
      "40: Data Load Finish, Predict Finish, 4.3149 4.2986 0.0599 0.9398 Evaluation Finish\n",
      "41: Data Load Finish, Predict Finish, 5.2846 5.2706 0.0735 0.9263 Evaluation Finish\n",
      "42: Data Load Finish, Predict Finish, 5.7737 5.761 0.0803 0.9195 Evaluation Finish\n",
      "43: Data Load Finish, Predict Finish, 5.4789 5.4628 0.0762 0.9236 Evaluation Finish\n",
      "44: Data Load Finish, Predict Finish, 4.755 4.7408 0.0661 0.9337 Evaluation Finish\n",
      "45: Data Load Finish, Predict Finish, 4.1462 4.1274 0.0575 0.9422 Evaluation Finish\n",
      "46: Data Load Finish, Predict Finish, 8.6373 8.6299 0.1203 0.8795 Evaluation Finish\n",
      "47: Data Load Finish, Predict Finish, 3.0816 3.0578 0.0426 0.957 Evaluation Finish\n",
      "48: Data Load Finish, Predict Finish, 4.3592 4.3426 0.0605 0.9392 Evaluation Finish\n",
      "49: Data Load Finish, Predict Finish, 3.822 3.8036 0.053 0.9467 Evaluation Finish\n",
      "50: Data Load Finish, Predict Finish, 7.112 7.1027 0.099 0.9008 Evaluation Finish\n",
      "51: Data Load Finish, Predict Finish, 1.6239 1.5774 0.022 0.9774 Evaluation Finish\n",
      "52: Data Load Finish, Predict Finish, 2.664 2.6387 0.0368 0.9628 Evaluation Finish\n",
      "53: Data Load Finish, Predict Finish, 5.6398 5.626 0.0784 0.9213 Evaluation Finish\n",
      "54: Data Load Finish, Predict Finish, 4.344 4.3275 0.0603 0.9394 Evaluation Finish\n",
      "55: Data Load Finish, Predict Finish, 4.802 4.7831 0.0667 0.933 Evaluation Finish\n",
      "56: Data Load Finish, Predict Finish, 0.4348 0.4092 0.0057 0.9939 Evaluation Finish\n",
      "57: Data Load Finish, Predict Finish, 4.1226 4.1023 0.0572 0.9425 Evaluation Finish\n",
      "58: Data Load Finish, Predict Finish, 3.942 3.9239 0.0547 0.945 Evaluation Finish\n",
      "59: Data Load Finish, Predict Finish, 3.8074 3.7892 0.0528 0.9469 Evaluation Finish\n",
      "60: Data Load Finish, Predict Finish, 4.6348 4.6195 0.0644 0.9354 Evaluation Finish\n",
      "61: Data Load Finish, Predict Finish, 2.0777 2.0395 0.0284 0.971 Evaluation Finish\n",
      "62: Data Load Finish, Predict Finish, 4.0569 4.0392 0.0563 0.9434 Evaluation Finish\n",
      "63: Data Load Finish, Predict Finish, 5.4972 5.4836 0.0765 0.9233 Evaluation Finish\n",
      "64: Data Load Finish, Predict Finish, 7.4985 7.4892 0.1044 0.8954 Evaluation Finish\n",
      "65: Data Load Finish, Predict Finish, 3.7348 3.7024 0.0516 0.9479 Evaluation Finish\n",
      "66: Data Load Finish, Predict Finish, 9.3914 9.3834 0.1308 0.869 Evaluation Finish\n",
      "67: Data Load Finish, Predict Finish, 8.1368 8.1286 0.1133 0.8865 Evaluation Finish\n",
      "68: Data Load Finish, Predict Finish, 2.7641 2.7329 0.0381 0.9614 Evaluation Finish\n",
      "69: Data Load Finish, Predict Finish, 7.0067 6.9973 0.0976 0.9023 Evaluation Finish\n",
      "70: Data Load Finish, Predict Finish, 5.0957 5.0828 0.0709 0.9289 Evaluation Finish\n",
      "71: Data Load Finish, Predict Finish, 8.1949 8.1869 0.1142 0.8857 Evaluation Finish\n",
      "72: Data Load Finish, Predict Finish, 4.7659 4.7493 0.0662 0.9335 Evaluation Finish\n",
      "73: Data Load Finish, Predict Finish, 5.0472 5.0317 0.0702 0.9296 Evaluation Finish\n",
      "74: Data Load Finish, Predict Finish, 10.3329 10.3265 0.144 0.8559 Evaluation Finish\n",
      "75: Data Load Finish, Predict Finish, 4.5718 4.5569 0.0635 0.9362 Evaluation Finish\n",
      "76: Data Load Finish, Predict Finish, 1.204 1.106 0.0154 0.9832 Evaluation Finish\n",
      "77: Data Load Finish, Predict Finish, 4.6051 4.59 0.064 0.9358 Evaluation Finish\n",
      "78: Data Load Finish, Predict Finish, 3.3033 3.2823 0.0458 0.9539 Evaluation Finish\n",
      "79: Data Load Finish, Predict Finish, 2.1286 2.0956 0.0292 0.9703 Evaluation Finish\n",
      "80: Data Load Finish, Predict Finish, 6.4903 6.4778 0.0903 0.9095 Evaluation Finish\n",
      "81: Data Load Finish, Predict Finish, 2.8695 2.8442 0.0396 0.96 Evaluation Finish\n",
      "82: Data Load Finish, Predict Finish, 2.9225 2.8985 0.0404 0.9592 Evaluation Finish\n",
      "83: Data Load Finish, Predict Finish, 5.0509 5.0276 0.0701 0.9296 Evaluation Finish\n",
      "84: Data Load Finish, Predict Finish, 2.0708 2.0328 0.0283 0.9711 Evaluation Finish\n",
      "85: Data Load Finish, Predict Finish, 7.4054 7.3965 0.1031 0.8967 Evaluation Finish\n",
      "86: Data Load Finish, Predict Finish, 6.664 6.6538 0.0928 0.9071 Evaluation Finish\n",
      "87: Data Load Finish, Predict Finish, 3.3192 3.2963 0.0459 0.9537 Evaluation Finish\n",
      "88: Data Load Finish, Predict Finish, 7.7957 7.7861 0.1086 0.8913 Evaluation Finish\n",
      "89: Data Load Finish, Predict Finish, 3.9888 3.9715 0.0554 0.9444 Evaluation Finish\n",
      "90: Data Load Finish, Predict Finish, 3.5262 3.5045 0.0489 0.9508 Evaluation Finish\n",
      "91: Data Load Finish, Predict Finish, 15.4909 15.4869 0.216 0.784 Evaluation Finish\n",
      "92: Data Load Finish, Predict Finish, 2.9636 2.9408 0.041 0.9587 Evaluation Finish\n",
      "93: Data Load Finish, Predict Finish, 4.5048 4.4881 0.0626 0.9372 Evaluation Finish\n",
      "94: Data Load Finish, Predict Finish, 9.7785 9.7719 0.1363 0.8636 Evaluation Finish\n",
      "95: Data Load Finish, Predict Finish, 4.8747 4.8607 0.0678 0.932 Evaluation Finish\n",
      "96: Data Load Finish, Predict Finish, 9.7046 9.6978 0.1352 0.8647 Evaluation Finish\n",
      "97: Data Load Finish, Predict Finish, 2.8971 2.8692 0.04 0.9596 Evaluation Finish\n"
     ]
    },
    {
     "name": "stdout",
     "output_type": "stream",
     "text": [
      "98: Data Load Finish, Predict Finish, 10.0634 10.0569 0.1402 0.8596 Evaluation Finish\n",
      "99: Data Load Finish, Predict Finish, 2.2136 2.1797 0.0304 0.9691 Evaluation Finish\n",
      "100: Data Load Finish, Predict Finish, 4.6077 4.584 0.0639 0.9357 Evaluation Finish\n",
      "101: Data Load Finish, Predict Finish, 4.7284 4.7135 0.0657 0.9341 Evaluation Finish\n",
      "102: Data Load Finish, Predict Finish, 1.1196 1.0396 0.0145 0.9844 Evaluation Finish\n",
      "103: Data Load Finish, Predict Finish, 1.5275 1.478 0.0206 0.9787 Evaluation Finish\n",
      "104: Data Load Finish, Predict Finish, 7.3406 7.3229 0.1021 0.8976 Evaluation Finish\n",
      "105: Data Load Finish, Predict Finish, 2.9628 2.94 0.041 0.9587 Evaluation Finish\n",
      "106: Data Load Finish, Predict Finish, 4.1793 4.1617 0.058 0.9417 Evaluation Finish\n",
      "107: Data Load Finish, Predict Finish, 1.9048 1.8685 0.026 0.9734 Evaluation Finish\n",
      "108: Data Load Finish, Predict Finish, 2.6335 2.6067 0.0363 0.9633 Evaluation Finish\n",
      "109: Data Load Finish, Predict Finish, 0.682 0.5543 0.0078 0.9905 Evaluation Finish\n",
      "110: Data Load Finish, Predict Finish, 4.6029 4.5878 0.064 0.9358 Evaluation Finish\n",
      "111: Data Load Finish, Predict Finish, 3.5797 3.5616 0.0496 0.9501 Evaluation Finish\n",
      "112: Data Load Finish, Predict Finish, 3.4075 3.3871 0.0472 0.9525 Evaluation Finish\n",
      "113: Data Load Finish, Predict Finish, 4.7988 4.7843 0.0667 0.9331 Evaluation Finish\n",
      "114: Data Load Finish, Predict Finish, 2.9544 2.9301 0.0408 0.9588 Evaluation Finish\n",
      "115: Data Load Finish, Predict Finish, 8.7183 8.7107 0.1215 0.8784 Evaluation Finish\n",
      "116: Data Load Finish, Predict Finish, 9.1534 9.146 0.1275 0.8723 Evaluation Finish\n",
      "117: Data Load Finish, Predict Finish, 4.1403 4.1248 0.0575 0.9423 Evaluation Finish\n",
      "118: Data Load Finish, Predict Finish, 2.8853 2.8598 0.0399 0.9598 Evaluation Finish\n",
      "119: Data Load Finish, Predict Finish, 3.9704 3.9532 0.0551 0.9446 Evaluation Finish\n",
      "120: Data Load Finish, Predict Finish, 4.2427 4.2259 0.0589 0.9408 Evaluation Finish\n",
      "121: Data Load Finish, Predict Finish, 3.4324 3.4118 0.0476 0.9521 Evaluation Finish\n",
      "122: Data Load Finish, Predict Finish, 1.6843 1.6371 0.0228 0.9765 Evaluation Finish\n",
      "123: Data Load Finish, Predict Finish, 5.6011 5.5894 0.0779 0.9219 Evaluation Finish\n",
      "124: Data Load Finish, Predict Finish, 3.3384 3.3184 0.0463 0.9534 Evaluation Finish\n",
      "125: Data Load Finish, Predict Finish, 7.2409 7.2323 0.1008 0.899 Evaluation Finish\n",
      "126: Data Load Finish, Predict Finish, 6.1984 6.1872 0.0863 0.9136 Evaluation Finish\n",
      "127: Data Load Finish, Predict Finish, 7.5253 7.5165 0.1048 0.895 Evaluation Finish\n",
      "128: Data Load Finish, Predict Finish, 4.9746 4.9598 0.0692 0.9306 Evaluation Finish\n",
      "129: Data Load Finish, Predict Finish, 4.762 4.7478 0.0662 0.9336 Evaluation Finish\n",
      "130: Data Load Finish, Predict Finish, 4.8808 4.8657 0.0678 0.9319 Evaluation Finish\n",
      "131: Data Load Finish, Predict Finish, 5.5216 5.5096 0.0768 0.923 Evaluation Finish\n",
      "132: Data Load Finish, Predict Finish, 5.4133 5.3993 0.0753 0.9245 Evaluation Finish\n",
      "133: Data Load Finish, Predict Finish, 15.1577 15.1529 0.2113 0.7886 Evaluation Finish\n",
      "134: Data Load Finish, Predict Finish, 3.1019 3.0575 0.0426 0.9567 Evaluation Finish\n",
      "135: Data Load Finish, Predict Finish, 3.9042 3.885 0.0542 0.9455 Evaluation Finish\n",
      "136: Data Load Finish, Predict Finish, 0.3927 0.3084 0.0043 0.9945 Evaluation Finish\n",
      "137: Data Load Finish, Predict Finish, 5.2295 5.2167 0.0727 0.9271 Evaluation Finish\n",
      "138: Data Load Finish, Predict Finish, 6.4688 6.4575 0.09 0.9098 Evaluation Finish\n",
      "139: Data Load Finish, Predict Finish, 4.6502 4.6358 0.0646 0.9351 Evaluation Finish\n",
      "140: Data Load Finish, Predict Finish, 4.8944 4.8802 0.068 0.9317 Evaluation Finish\n",
      "141: Data Load Finish, Predict Finish, 1.5417 1.4958 0.0208 0.9785 Evaluation Finish\n",
      "142: Data Load Finish, Predict Finish, 1.2514 1.1944 0.0166 0.9825 Evaluation Finish\n",
      "143: Data Load Finish, Predict Finish, 4.9971 4.984 0.0695 0.9303 Evaluation Finish\n",
      "144: Data Load Finish, Predict Finish, 3.0407 3.0154 0.042 0.9576 Evaluation Finish\n",
      "145: Data Load Finish, Predict Finish, 6.7159 6.7061 0.0935 0.9063 Evaluation Finish\n",
      "146: Data Load Finish, Predict Finish, 6.5686 6.5089 0.0907 0.9084 Evaluation Finish\n",
      "147: Data Load Finish, Predict Finish, 6.9263 6.9167 0.0964 0.9034 Evaluation Finish\n",
      "148: Data Load Finish, "
     ]
    },
    {
     "name": "stderr",
     "output_type": "stream",
     "text": [
      "/home/vislab/anaconda3/envs/cctv/lib/python3.7/site-packages/statsmodels/base/model.py:606: ConvergenceWarning: Maximum Likelihood optimization failed to converge. Check mle_retvals\n",
      "  ConvergenceWarning)\n"
     ]
    },
    {
     "name": "stdout",
     "output_type": "stream",
     "text": [
      "Predict Finish, 4.1403 4.1249 0.0575 0.9423 Evaluation Finish\n",
      "149: Data Load Finish, Predict Finish, 5.2389 5.2253 0.0729 0.9269 Evaluation Finish\n",
      "150: Data Load Finish, Predict Finish, 4.2865 4.2705 0.0595 0.9402 Evaluation Finish\n",
      "151: Data Load Finish, Predict Finish, 5.3447 5.3302 0.0743 0.9255 Evaluation Finish\n",
      "152: Data Load Finish, Predict Finish, 12.4803 12.4748 0.174 0.8259 Evaluation Finish\n",
      "153: Data Load Finish, Predict Finish, 3.3436 3.3223 0.0463 0.9534 Evaluation Finish\n",
      "154: Data Load Finish, Predict Finish, 2.6086 2.5819 0.036 0.9636 Evaluation Finish\n",
      "155: Data Load Finish, Predict Finish, 9.3349 9.3282 0.1301 0.8698 Evaluation Finish\n",
      "156: Data Load Finish, Predict Finish, 2.2476 2.2178 0.0309 0.9687 Evaluation Finish\n",
      "157: Data Load Finish, Predict Finish, 3.7783 3.7589 0.0524 0.9473 Evaluation Finish\n",
      "158: Data Load Finish, Predict Finish, 3.5609 3.5341 0.0493 0.9503 Evaluation Finish\n",
      "159: Data Load Finish, Predict Finish, 9.8542 9.8468 0.1373 0.8626 Evaluation Finish\n",
      "160: Data Load Finish, Predict Finish, 7.8339 7.8257 0.1091 0.8907 Evaluation Finish\n",
      "161: Data Load Finish, Predict Finish, 8.4153 8.4075 0.1172 0.8826 Evaluation Finish\n",
      "162: Data Load Finish, Predict Finish, 9.3636 9.3564 0.1305 0.8694 Evaluation Finish\n",
      "163: Data Load Finish, Predict Finish, 4.5069 4.4902 0.0626 0.9371 Evaluation Finish\n",
      "164: Data Load Finish, Predict Finish, 4.2772 4.2612 0.0594 0.9403 Evaluation Finish\n",
      "165: Data Load Finish, Predict Finish, 3.6192 3.601 0.0502 0.9495 Evaluation Finish\n",
      "166: Data Load Finish, Predict Finish, 4.8805 4.8664 0.0678 0.9319 Evaluation Finish\n",
      "167: Data Load Finish, Predict Finish, 7.8627 7.8541 0.1095 0.8903 Evaluation Finish\n",
      "168: Data Load Finish, Predict Finish, 2.6705 2.6409 0.0368 0.9628 Evaluation Finish\n",
      "169: Data Load Finish, Predict Finish, 3.4681 3.443 0.048 0.9516 Evaluation Finish\n",
      "170: Data Load Finish, Predict Finish, 4.3877 4.3676 0.0609 0.9388 Evaluation Finish\n",
      "171: Data Load Finish, Predict Finish, 7.4909 7.4822 0.1043 0.8955 Evaluation Finish\n",
      "172: Data Load Finish, Predict Finish, 1.4397 1.3906 0.0194 0.9799 Evaluation Finish\n",
      "173: Data Load Finish, Predict Finish, 3.0642 3.0421 0.0424 0.9573 Evaluation Finish\n",
      "174: Data Load Finish, Predict Finish, 7.8922 7.8834 0.1099 0.8899 Evaluation Finish\n",
      "175: Data Load Finish, Predict Finish, 1.8775 1.8387 0.0256 0.9738 Evaluation Finish\n",
      "176: Data Load Finish, Predict Finish, 8.7375 8.7286 0.1217 0.8781 Evaluation Finish\n",
      "177: Data Load Finish, Predict Finish, 4.2303 4.2152 0.0588 0.941 Evaluation Finish\n",
      "178: Data Load Finish, Predict Finish, 2.3172 2.2847 0.0318 0.9677 Evaluation Finish\n",
      "179: Data Load Finish, Predict Finish, 2.5866 2.5601 0.0357 0.9639 Evaluation Finish\n",
      "180: Data Load Finish, Predict Finish, 3.5724 3.552 0.0495 0.9502 Evaluation Finish\n",
      "181: Data Load Finish, Predict Finish, 4.749 4.7349 0.066 0.9338 Evaluation Finish\n",
      "182: Data Load Finish, Predict Finish, 3.2112 3.1895 0.0445 0.9552 Evaluation Finish\n",
      "183: Data Load Finish, Predict Finish, 4.3794 4.3593 0.0608 0.9389 Evaluation Finish\n",
      "184: Data Load Finish, Predict Finish, 4.8054 4.7909 0.0668 0.933 Evaluation Finish\n",
      "185: Data Load Finish, Predict Finish, 4.2628 4.2443 0.0592 0.9405 Evaluation Finish\n",
      "186: Data Load Finish, Predict Finish, 4.1294 4.1122 0.0573 0.9424 Evaluation Finish\n",
      "187: Data Load Finish, Predict Finish, 2.8115 2.7867 0.0388 0.9608 Evaluation Finish\n",
      "188: Data Load Finish, Predict Finish, 3.1644 3.1415 0.0438 0.9559 Evaluation Finish\n",
      "189: Data Load Finish, Predict Finish, 3.2698 3.2476 0.0453 0.9544 Evaluation Finish\n",
      "190: Data Load Finish, Predict Finish, 2.6036 2.577 0.0359 0.9637 Evaluation Finish\n",
      "191: Data Load Finish, Predict Finish, 4.8689 4.8549 0.0677 0.9321 Evaluation Finish\n",
      "192: Data Load Finish, Predict Finish, 5.318 5.3048 0.074 0.9258 Evaluation Finish\n",
      "193: Data Load Finish, Predict Finish, 1.2895 1.2363 0.0172 0.982 Evaluation Finish\n",
      "194: Data Load Finish, Predict Finish, 4.3608 4.3442 0.0606 0.9392 Evaluation Finish\n",
      "195: Data Load Finish, Predict Finish, 3.4538 3.433 0.0479 0.9518 Evaluation Finish\n",
      "196: Data Load Finish, Predict Finish, 1.9379 1.9014 0.0265 0.973 Evaluation Finish\n",
      "197: Data Load Finish, Predict Finish, 4.5706 4.5557 0.0635 0.9363 Evaluation Finish\n",
      "198: Data Load Finish, Predict Finish, 4.5294 4.5018 0.0628 0.9368 Evaluation Finish\n",
      "199: Data Load Finish, Predict Finish, 2.1988 2.1621 0.0301 0.9693 Evaluation Finish\n",
      "200: Data Load Finish, Predict Finish, 2.9116 2.8858 0.0402 0.9594 Evaluation Finish\n",
      "201: Data Load Finish, Predict Finish, 3.4314 3.4091 0.0475 0.9521 Evaluation Finish\n",
      "202: Data Load Finish, Predict Finish, 6.9437 6.9333 0.0967 0.9032 Evaluation Finish\n",
      "203: Data Load Finish, Predict Finish, 6.3251 6.3139 0.088 0.9118 Evaluation Finish\n",
      "204: Data Load Finish, Predict Finish, 7.5746 7.5656 0.1055 0.8944 Evaluation Finish\n",
      "205: Data Load Finish, Predict Finish, 6.2919 6.2809 0.0876 0.9122 Evaluation Finish\n",
      "206: Data Load Finish, Predict Finish, 4.6619 4.6463 0.0648 0.935 Evaluation Finish\n",
      "207: Data Load Finish, Predict Finish, 1.0102 0.9033 0.0126 0.9859 Evaluation Finish\n",
      "208: Data Load Finish, Predict Finish, 7.5638 7.5548 0.1053 0.8945 Evaluation Finish\n",
      "209: Data Load Finish, Predict Finish, 4.4391 4.4218 0.0616 0.9381 Evaluation Finish\n",
      "210: Data Load Finish, Predict Finish, 6.6898 6.6795 0.0931 0.9067 Evaluation Finish\n",
      "211: Data Load Finish, Predict Finish, 8.6075 8.6001 0.1199 0.88 Evaluation Finish\n",
      "212: Data Load Finish, "
     ]
    },
    {
     "name": "stderr",
     "output_type": "stream",
     "text": [
      "/home/vislab/anaconda3/envs/cctv/lib/python3.7/site-packages/statsmodels/base/model.py:606: ConvergenceWarning: Maximum Likelihood optimization failed to converge. Check mle_retvals\n",
      "  ConvergenceWarning)\n"
     ]
    },
    {
     "name": "stdout",
     "output_type": "stream",
     "text": [
      "Predict Finish, 3.4529 3.4282 0.0478 0.9518 Evaluation Finish\n",
      "213: Data Load Finish, Predict Finish, 7.1071 7.0982 0.099 0.9009 Evaluation Finish\n",
      "214: Data Load Finish, Predict Finish, 7.5409 7.532 0.105 0.8948 Evaluation Finish\n",
      "215: Data Load Finish, Predict Finish, 7.7135 7.7044 0.1074 0.8924 Evaluation Finish\n",
      "216: Data Load Finish, Predict Finish, 6.7933 6.7837 0.0946 0.9053 Evaluation Finish\n",
      "217: Data Load Finish, Predict Finish, 3.4852 3.4655 0.0483 0.9514 Evaluation Finish\n",
      "218: Data Load Finish, Predict Finish, 7.9629 7.9548 0.1109 0.8889 Evaluation Finish\n",
      "219: Data Load Finish, Predict Finish, 5.5428 5.5307 0.0771 0.9227 Evaluation Finish\n",
      "220: Data Load Finish, Predict Finish, 4.7943 4.7807 0.0667 0.9331 Evaluation Finish\n",
      "221: Data Load Finish, Predict Finish, 6.2563 6.2455 0.0871 0.9127 Evaluation Finish\n",
      "222: Data Load Finish, Predict Finish, 7.2457 7.2368 0.1009 0.8989 Evaluation Finish\n",
      "223: Data Load Finish, Predict Finish, 6.4466 6.4362 0.0897 0.9101 Evaluation Finish\n",
      "224: Data Load Finish, Predict Finish, 7.9306 7.9222 0.1105 0.8894 Evaluation Finish\n",
      "225: Data Load Finish, Predict Finish, 6.7441 6.7341 0.0939 0.9059 Evaluation Finish\n",
      "226: Data Load Finish, Predict Finish, 3.6681 3.6465 0.0508 0.9488 Evaluation Finish\n",
      "227: Data Load Finish, Predict Finish, 3.1192 3.0926 0.0431 0.9565 Evaluation Finish\n",
      "228: Data Load Finish, Predict Finish, 3.4414 3.4207 0.0477 0.952 Evaluation Finish\n",
      "229: Data Load Finish, Predict Finish, 5.014 5.0 0.0697 0.9301 Evaluation Finish\n",
      "230: Data Load Finish, Predict Finish, 1.3362 1.2793 0.0178 0.9814 Evaluation Finish\n",
      "231: Data Load Finish, Predict Finish, 11.401 11.3953 0.1589 0.841 Evaluation Finish\n",
      "232: Data Load Finish, Predict Finish, 1.1883 1.1266 0.0157 0.9834 Evaluation Finish\n",
      "233: Data Load Finish, Predict Finish, 0.8481 0.7649 0.0107 0.9882 Evaluation Finish\n",
      "234: Data Load Finish, Predict Finish, 9.4903 9.4838 0.1322 0.8676 Evaluation Finish\n",
      "235: Data Load Finish, Predict Finish, 4.8375 4.8228 0.0672 0.9325 Evaluation Finish\n",
      "236: Data Load Finish, Predict Finish, 3.5848 3.5657 0.0497 0.95 Evaluation Finish\n",
      "237: Data Load Finish, Predict Finish, 3.2965 3.2755 0.0457 0.954 Evaluation Finish\n",
      "238: Data Load Finish, Predict Finish, 9.3229 9.3161 0.1299 0.87 Evaluation Finish\n",
      "239: Data Load Finish, Predict Finish, 5.8181 5.8068 0.081 0.9189 Evaluation Finish\n",
      "240: Data Load Finish, Predict Finish, 7.466 7.4574 0.104 0.8959 Evaluation Finish\n",
      "241: Data Load Finish, Predict Finish, 8.6577 8.6498 0.1206 0.8793 Evaluation Finish\n",
      "242: Data Load Finish, Predict Finish, 3.4796 3.461 0.0482 0.9515 Evaluation Finish\n",
      "243: Data Load Finish, Predict Finish, 4.5496 4.5308 0.0632 0.9365 Evaluation Finish\n",
      "244: Data Load Finish, Predict Finish, 4.4219 4.406 0.0614 0.9383 Evaluation Finish\n",
      "245: Data Load Finish, Predict Finish, 3.4281 3.4059 0.0475 0.9522 Evaluation Finish\n",
      "246: Data Load Finish, Predict Finish, 5.5645 5.5523 0.0774 0.9224 Evaluation Finish\n",
      "247: Data Load Finish, Predict Finish, 6.8448 6.835 0.0953 0.9045 Evaluation Finish\n",
      "248: Data Load Finish, Predict Finish, 1.6266 1.576 0.022 0.9773 Evaluation Finish\n",
      "249: Data Load Finish, Predict Finish, 6.283 6.2721 0.0875 0.9124 Evaluation Finish\n",
      "250: Data Load Finish, Predict Finish, 5.3562 5.3427 0.0745 0.9253 Evaluation Finish\n",
      "251: Data Load Finish, Predict Finish, 9.4127 9.4056 0.1312 0.8687 Evaluation Finish\n",
      "252: Data Load Finish, Predict Finish, 7.0817 7.0725 0.0986 0.9012 Evaluation Finish\n",
      "253: Data Load Finish, Predict Finish, 0.8724 0.7888 0.011 0.9878 Evaluation Finish\n",
      "254: Data Load Finish, Predict Finish, 3.2237 3.1979 0.0446 0.955 Evaluation Finish\n",
      "255: Data Load Finish, Predict Finish, 7.4315 7.4229 0.1035 0.8964 Evaluation Finish\n",
      "256: Data Load Finish, Predict Finish, 4.7539 4.7387 0.0661 0.9337 Evaluation Finish\n",
      "257: Data Load Finish, Predict Finish, 1.2752 1.2183 0.017 0.9822 Evaluation Finish\n",
      "258: Data Load Finish, Predict Finish, 3.6446 3.625 0.0505 0.9492 Evaluation Finish\n",
      "259: Data Load Finish, Predict Finish, 3.4109 3.3889 0.0472 0.9524 Evaluation Finish\n",
      "260: Data Load Finish, Predict Finish, 4.7296 4.7161 0.0658 0.934 Evaluation Finish\n",
      "261: Data Load Finish, Predict Finish, 2.6015 2.5729 0.0359 0.9637 Evaluation Finish\n",
      "262: Data Load Finish, Predict Finish, 3.2893 3.2684 0.0456 0.9541 Evaluation Finish\n",
      "263: Data Load Finish, Predict Finish, 5.5901 5.5777 0.0778 0.922 Evaluation Finish\n",
      "264: Data Load Finish, Predict Finish, 4.385 4.3694 0.0609 0.9388 Evaluation Finish\n",
      "265: Data Load Finish, Predict Finish, 3.0513 3.0278 0.0422 0.9574 Evaluation Finish\n",
      "266: Data Load Finish, Predict Finish, 4.1549 4.1387 0.0577 0.9421 Evaluation Finish\n",
      "267: Data Load Finish, Predict Finish, 4.6793 4.6654 0.065 0.9347 Evaluation Finish\n",
      "268: Data Load Finish, "
     ]
    },
    {
     "name": "stderr",
     "output_type": "stream",
     "text": [
      "/home/vislab/anaconda3/envs/cctv/lib/python3.7/site-packages/statsmodels/base/model.py:606: ConvergenceWarning: Maximum Likelihood optimization failed to converge. Check mle_retvals\n",
      "  ConvergenceWarning)\n"
     ]
    },
    {
     "name": "stdout",
     "output_type": "stream",
     "text": [
      "Predict Finish, 3.5954 3.5649 0.0497 0.9499 Evaluation Finish\n",
      "269: Data Load Finish, Predict Finish, 4.8971 4.883 0.0681 0.9317 Evaluation Finish\n",
      "270: Data Load Finish, Predict Finish, 5.0207 5.0067 0.0698 0.93 Evaluation Finish\n",
      "271: Data Load Finish, Predict Finish, 4.2188 4.2022 0.0586 0.9412 Evaluation Finish\n",
      "272: Data Load Finish, Predict Finish, 2.1354 2.0924 0.0292 0.9702 Evaluation Finish\n",
      "273: Data Load Finish, Predict Finish, 6.4903 6.4797 0.0903 0.9095 Evaluation Finish\n",
      "274: Data Load Finish, Predict Finish, 4.4307 4.4133 0.0615 0.9382 Evaluation Finish\n",
      "275: Data Load Finish, Predict Finish, 4.8066 4.7876 0.0667 0.933 Evaluation Finish\n",
      "276: Data Load Finish, Predict Finish, 3.346 3.3247 0.0463 0.9533 Evaluation Finish\n",
      "277: Data Load Finish, Predict Finish, 2.842 2.8148 0.0392 0.9604 Evaluation Finish\n",
      "278: Data Load Finish, Predict Finish, 7.0342 7.0247 0.098 0.9019 Evaluation Finish\n",
      "279: Data Load Finish, Predict Finish, 5.5549 5.5418 0.0773 0.9225 Evaluation Finish\n",
      "280: Data Load Finish, Predict Finish, 3.402 3.38 0.0471 0.9526 Evaluation Finish\n",
      "281: Data Load Finish, Predict Finish, 3.4243 3.4037 0.0474 0.9522 Evaluation Finish\n",
      "282: Data Load Finish, Predict Finish, 4.4173 4.4001 0.0613 0.9384 Evaluation Finish\n",
      "283: Data Load Finish, Predict Finish, 10.8278 10.8219 0.1509 0.849 Evaluation Finish\n",
      "284: Data Load Finish, Predict Finish, 4.4274 4.3821 0.0611 0.9383 Evaluation Finish\n",
      "285: Data Load Finish, Predict Finish, 2.8485 2.8213 0.0393 0.9603 Evaluation Finish\n",
      "286: Data Load Finish, Predict Finish, 3.9194 3.9015 0.0544 0.9453 Evaluation Finish\n",
      "287: Data Load Finish, Predict Finish, 4.4574 4.4382 0.0619 0.9378 Evaluation Finish\n",
      "288: Data Load Finish, Predict Finish, 4.4537 4.4386 0.0619 0.9379 Evaluation Finish\n",
      "289: Data Load Finish, Predict Finish, 4.2518 4.2349 0.059 0.9407 Evaluation Finish\n",
      "290: Data Load Finish, Predict Finish, 4.21 4.1934 0.0585 0.9413 Evaluation Finish\n",
      "291: Data Load Finish, Predict Finish, 7.3025 7.2922 0.1017 0.8982 Evaluation Finish\n",
      "292: Data Load Finish, "
     ]
    },
    {
     "name": "stderr",
     "output_type": "stream",
     "text": [
      "/home/vislab/anaconda3/envs/cctv/lib/python3.7/site-packages/statsmodels/base/model.py:606: ConvergenceWarning: Maximum Likelihood optimization failed to converge. Check mle_retvals\n",
      "  ConvergenceWarning)\n"
     ]
    },
    {
     "name": "stdout",
     "output_type": "stream",
     "text": [
      "Predict Finish, 5.4857 5.384 0.0751 0.9235 Evaluation Finish\n",
      "293: Data Load Finish, Predict Finish, 7.5588 7.5374 0.1051 0.8946 Evaluation Finish\n",
      "294: Data Load Finish, Predict Finish, 4.516 4.5005 0.0627 0.937 Evaluation Finish\n",
      "295: Data Load Finish, Predict Finish, 7.8361 7.8252 0.1091 0.8907 Evaluation Finish\n",
      "296: Data Load Finish, Predict Finish, 4.6537 4.6392 0.0647 0.9351 Evaluation Finish\n",
      "297: Data Load Finish, Predict Finish, 4.6825 4.6678 0.0651 0.9347 Evaluation Finish\n",
      "298: Data Load Finish, Predict Finish, 3.0195 2.9963 0.0418 0.9579 Evaluation Finish\n",
      "299: Data Load Finish, Predict Finish, 3.951 3.9328 0.0548 0.9449 Evaluation Finish\n",
      "300: Data Load Finish, Predict Finish, 3.7662 3.7452 0.0522 0.9475 Evaluation Finish\n",
      "301: Data Load Finish, Predict Finish, 7.1978 7.1881 0.1002 0.8996 Evaluation Finish\n",
      "302: Data Load Finish, Predict Finish, 3.9224 3.9011 0.0544 0.9453 Evaluation Finish\n",
      "303: Data Load Finish, Predict Finish, 4.4207 4.4019 0.0614 0.9383 Evaluation Finish\n",
      "304: Data Load Finish, Predict Finish, 3.8421 3.8176 0.0532 0.9464 Evaluation Finish\n",
      "305: Data Load Finish, Predict Finish, 5.4489 5.4331 0.0758 0.924 Evaluation Finish\n",
      "306: Data Load Finish, Predict Finish, 2.4675 2.4382 0.034 0.9656 Evaluation Finish\n",
      "307: Data Load Finish, Predict Finish, 4.37 4.3518 0.0607 0.9391 Evaluation Finish\n",
      "308: Data Load Finish, Predict Finish, 6.9588 6.9302 0.0966 0.9029 Evaluation Finish\n",
      "309: Data Load Finish, Predict Finish, 2.1356 2.1025 0.0293 0.9702 Evaluation Finish\n",
      "310: Data Load Finish, Predict Finish, 6.834 6.8236 0.0951 0.9047 Evaluation Finish\n",
      "311: Data Load Finish, Predict Finish, 13.365 13.3603 0.1863 0.8136 Evaluation Finish\n",
      "312: Data Load Finish, Predict Finish, 3.8212 3.8028 0.053 0.9467 Evaluation Finish\n",
      "313: Data Load Finish, Predict Finish, 5.3765 5.3616 0.0748 0.925 Evaluation Finish\n",
      "314: Data Load Finish, Predict Finish, 4.3466 4.3301 0.0604 0.9394 Evaluation Finish\n",
      "315: Data Load Finish, Predict Finish, 6.5837 6.5742 0.0917 0.9082 Evaluation Finish\n",
      "316: Data Load Finish, Predict Finish, 4.6146 4.5994 0.0641 0.9356 Evaluation Finish\n",
      "317: Data Load Finish, Predict Finish, 6.9625 6.9532 0.097 0.9029 Evaluation Finish\n",
      "318: Data Load Finish, Predict Finish, 10.926 10.9202 0.1523 0.8476 Evaluation Finish\n",
      "319: Data Load Finish, Predict Finish, 2.249 2.2146 0.0309 0.9686 Evaluation Finish\n",
      "320: Data Load Finish, Predict Finish, 9.666 9.659 0.1347 0.8652 Evaluation Finish\n",
      "321: Data Load Finish, Predict Finish, 2.4662 2.4387 0.034 0.9656 Evaluation Finish\n",
      "322: Data Load Finish, Predict Finish, 3.3514 3.3299 0.0464 0.9533 Evaluation Finish\n",
      "323: Data Load Finish, Predict Finish, 0.6215 0.4791 0.0067 0.9913 Evaluation Finish\n",
      "324: Data Load Finish, Predict Finish, 3.6086 3.5877 0.05 0.9497 Evaluation Finish\n",
      "RMSE: 4.941267752024555, MAE: 4.920070898669806, MAPE: 0.06859713991682471\n",
      "ACC: 0.9310849807661397\n"
     ]
    }
   ],
   "source": [
    "predictARIMA(df, idx, 3)"
   ]
  },
  {
   "cell_type": "markdown",
   "id": "c1acb05c",
   "metadata": {},
   "source": [
    "### Unobserved Nodes = 5%"
   ]
  },
  {
   "cell_type": "code",
   "execution_count": 10,
   "id": "8a799433",
   "metadata": {},
   "outputs": [
    {
     "name": "stdout",
     "output_type": "stream",
     "text": [
      "52116 325\n"
     ]
    },
    {
     "data": {
      "text/plain": [
       "833856"
      ]
     },
     "execution_count": 10,
     "metadata": {},
     "output_type": "execute_result"
    }
   ],
   "source": [
    "df, idx = csvIndexToDatetime(path_5, start, freq)\n",
    "(df == 0).sum().sum()"
   ]
  },
  {
   "cell_type": "code",
   "execution_count": 11,
   "id": "83ef8625",
   "metadata": {
    "scrolled": false
   },
   "outputs": [
    {
     "name": "stdout",
     "output_type": "stream",
     "text": [
      "0: Data Load Finish, Predict Finish, 0.6938 0.5854 0.0081 0.9903 Evaluation Finish\n",
      "1: Data Load Finish, Predict Finish, 5.2527 5.2399 0.0731 0.9267 Evaluation Finish\n",
      "2: Data Load Finish, Predict Finish, 3.6214 3.5933 0.0501 0.9495 Evaluation Finish\n",
      "3: Data Load Finish, Predict Finish, 10.784 10.7782 0.1503 0.8496 Evaluation Finish\n",
      "4: Data Load Finish, Predict Finish, 9.7803 9.7737 0.1363 0.8636 Evaluation Finish\n",
      "5: Data Load Finish, Predict Finish, 5.6843 5.6722 0.0791 0.9207 Evaluation Finish\n",
      "6: Data Load Finish, Predict Finish, 5.6713 5.6558 0.0789 0.9209 Evaluation Finish\n",
      "7: Data Load Finish, Predict Finish, 3.7492 3.7301 0.052 0.9477 Evaluation Finish\n",
      "8: Data Load Finish, Predict Finish, 6.9607 6.951 0.0969 0.9029 Evaluation Finish\n",
      "9: Data Load Finish, Predict Finish, 2.7983 2.7737 0.0387 0.961 Evaluation Finish\n",
      "10: Data Load Finish, Predict Finish, 3.4245 3.4039 0.0475 0.9522 Evaluation Finish\n",
      "11: Data Load Finish, Predict Finish, 5.2195 5.206 0.0726 0.9272 Evaluation Finish\n",
      "12: Data Load Finish, Predict Finish, 4.9417 4.9273 0.0687 0.9311 Evaluation Finish\n",
      "13: Data Load Finish, Predict Finish, 1.6409 1.5726 0.0219 0.9771 Evaluation Finish\n",
      "14: Data Load Finish, Predict Finish, 4.7253 4.7112 0.0657 0.9341 Evaluation Finish\n",
      "15: Data Load Finish, Predict Finish, 3.1602 3.1373 0.0437 0.9559 Evaluation Finish\n",
      "16: Data Load Finish, Predict Finish, 3.9211 3.9018 0.0544 0.9453 Evaluation Finish\n",
      "17: Data Load Finish, Predict Finish, 3.8353 3.8153 0.0532 0.9465 Evaluation Finish\n",
      "18: Data Load Finish, Predict Finish, 3.8476 3.8309 0.0534 0.9463 Evaluation Finish\n",
      "19: Data Load Finish, Predict Finish, 5.3051 5.2896 0.0737 0.926 Evaluation Finish\n",
      "20: Data Load Finish, Predict Finish, 4.2668 4.2497 0.0592 0.9405 Evaluation Finish\n",
      "21: Data Load Finish, Predict Finish, 3.4697 3.4469 0.048 0.9516 Evaluation Finish\n",
      "22: Data Load Finish, Predict Finish, 3.9048 3.887 0.0542 0.9455 Evaluation Finish\n",
      "23: Data Load Finish, Predict Finish, 7.5719 7.5622 0.1054 0.8944 Evaluation Finish\n",
      "24: Data Load Finish, Predict Finish, 3.7875 3.7703 0.0526 0.9472 Evaluation Finish\n",
      "25: Data Load Finish, Predict Finish, 3.8819 3.8642 0.0539 0.9459 Evaluation Finish\n",
      "26: Data Load Finish, Predict Finish, 3.8123 3.794 0.0529 0.9468 Evaluation Finish\n",
      "27: Data Load Finish, Predict Finish, 4.0813 4.0654 0.0567 0.9431 Evaluation Finish\n",
      "28: Data Load Finish, Predict Finish, 5.9001 5.8883 0.0821 0.9177 Evaluation Finish\n",
      "29: Data Load Finish, Predict Finish, 11.6187 11.6133 0.162 0.838 Evaluation Finish\n",
      "30: Data Load Finish, Predict Finish, 5.8176 5.8067 0.081 0.9189 Evaluation Finish\n",
      "31: Data Load Finish, Predict Finish, 6.2766 6.2663 0.0874 0.9125 Evaluation Finish\n",
      "32: Data Load Finish, Predict Finish, 2.5112 2.4835 0.0346 0.965 Evaluation Finish\n",
      "33: Data Load Finish, Predict Finish, 10.077 10.0708 0.1404 0.8595 Evaluation Finish\n",
      "34: Data Load Finish, Predict Finish, 4.6064 4.59 0.064 0.9358 Evaluation Finish\n",
      "35: Data Load Finish, Predict Finish, 8.2216 8.213 0.1145 0.8853 Evaluation Finish\n",
      "36: Data Load Finish, Predict Finish, 0.8264 0.7344 0.0102 0.9885 Evaluation Finish\n",
      "37: Data Load Finish, Predict Finish, 3.8254 3.807 0.0531 0.9466 Evaluation Finish\n",
      "38: Data Load Finish, Predict Finish, 7.5826 7.5728 0.1056 0.8942 Evaluation Finish\n",
      "39: Data Load Finish, Predict Finish, 5.4462 5.4331 0.0758 0.924 Evaluation Finish\n",
      "40: Data Load Finish, "
     ]
    },
    {
     "name": "stderr",
     "output_type": "stream",
     "text": [
      "/home/vislab/anaconda3/envs/cctv/lib/python3.7/site-packages/pandas/core/arraylike.py:364: RuntimeWarning: divide by zero encountered in log\n",
      "  result = getattr(ufunc, method)(*inputs, **kwargs)\n",
      "/home/vislab/anaconda3/envs/cctv/lib/python3.7/site-packages/statsmodels/base/model.py:606: ConvergenceWarning: Maximum Likelihood optimization failed to converge. Check mle_retvals\n",
      "  ConvergenceWarning)\n"
     ]
    },
    {
     "name": "stdout",
     "output_type": "stream",
     "text": [
      "Predict Finish, 70.7009 70.7 0.9861 0.0139 Evaluation Finish\n",
      "41: Data Load Finish, Predict Finish, 5.2846 5.2706 0.0735 0.9263 Evaluation Finish\n",
      "42: Data Load Finish, Predict Finish, 5.7737 5.761 0.0803 0.9195 Evaluation Finish\n",
      "43: Data Load Finish, Predict Finish, 5.4789 5.4628 0.0762 0.9236 Evaluation Finish\n",
      "44: Data Load Finish, Predict Finish, 4.755 4.7408 0.0661 0.9337 Evaluation Finish\n",
      "45: Data Load Finish, Predict Finish, 4.1462 4.1274 0.0575 0.9422 Evaluation Finish\n",
      "46: Data Load Finish, Predict Finish, 8.6373 8.6299 0.1203 0.8795 Evaluation Finish\n",
      "47: Data Load Finish, "
     ]
    },
    {
     "name": "stderr",
     "output_type": "stream",
     "text": [
      "/home/vislab/anaconda3/envs/cctv/lib/python3.7/site-packages/pandas/core/arraylike.py:364: RuntimeWarning: divide by zero encountered in log\n",
      "  result = getattr(ufunc, method)(*inputs, **kwargs)\n",
      "/home/vislab/anaconda3/envs/cctv/lib/python3.7/site-packages/statsmodels/base/model.py:606: ConvergenceWarning: Maximum Likelihood optimization failed to converge. Check mle_retvals\n",
      "  ConvergenceWarning)\n"
     ]
    },
    {
     "name": "stdout",
     "output_type": "stream",
     "text": [
      "Predict Finish, 70.7009 70.7 0.9861 0.0139 Evaluation Finish\n",
      "48: Data Load Finish, Predict Finish, 4.3592 4.3426 0.0605 0.9392 Evaluation Finish\n",
      "49: Data Load Finish, Predict Finish, 3.822 3.8036 0.053 0.9467 Evaluation Finish\n",
      "50: Data Load Finish, Predict Finish, 7.112 7.1027 0.099 0.9008 Evaluation Finish\n",
      "51: Data Load Finish, Predict Finish, 1.6239 1.5774 0.022 0.9774 Evaluation Finish\n",
      "52: Data Load Finish, Predict Finish, 2.664 2.6387 0.0368 0.9628 Evaluation Finish\n",
      "53: Data Load Finish, Predict Finish, 5.6398 5.626 0.0784 0.9213 Evaluation Finish\n",
      "54: Data Load Finish, Predict Finish, 4.344 4.3275 0.0603 0.9394 Evaluation Finish\n",
      "55: Data Load Finish, "
     ]
    },
    {
     "name": "stderr",
     "output_type": "stream",
     "text": [
      "/home/vislab/anaconda3/envs/cctv/lib/python3.7/site-packages/pandas/core/arraylike.py:364: RuntimeWarning: divide by zero encountered in log\n",
      "  result = getattr(ufunc, method)(*inputs, **kwargs)\n",
      "/home/vislab/anaconda3/envs/cctv/lib/python3.7/site-packages/statsmodels/base/model.py:606: ConvergenceWarning: Maximum Likelihood optimization failed to converge. Check mle_retvals\n",
      "  ConvergenceWarning)\n"
     ]
    },
    {
     "name": "stdout",
     "output_type": "stream",
     "text": [
      "Predict Finish, 70.7009 70.7 0.9861 0.0139 Evaluation Finish\n",
      "56: Data Load Finish, "
     ]
    },
    {
     "name": "stderr",
     "output_type": "stream",
     "text": [
      "/home/vislab/anaconda3/envs/cctv/lib/python3.7/site-packages/pandas/core/arraylike.py:364: RuntimeWarning: divide by zero encountered in log\n",
      "  result = getattr(ufunc, method)(*inputs, **kwargs)\n",
      "/home/vislab/anaconda3/envs/cctv/lib/python3.7/site-packages/statsmodels/base/model.py:606: ConvergenceWarning: Maximum Likelihood optimization failed to converge. Check mle_retvals\n",
      "  ConvergenceWarning)\n"
     ]
    },
    {
     "name": "stdout",
     "output_type": "stream",
     "text": [
      "Predict Finish, 70.7009 70.7 0.9861 0.0139 Evaluation Finish\n",
      "57: Data Load Finish, "
     ]
    },
    {
     "name": "stderr",
     "output_type": "stream",
     "text": [
      "/home/vislab/anaconda3/envs/cctv/lib/python3.7/site-packages/pandas/core/arraylike.py:364: RuntimeWarning: divide by zero encountered in log\n",
      "  result = getattr(ufunc, method)(*inputs, **kwargs)\n",
      "/home/vislab/anaconda3/envs/cctv/lib/python3.7/site-packages/statsmodels/base/model.py:606: ConvergenceWarning: Maximum Likelihood optimization failed to converge. Check mle_retvals\n",
      "  ConvergenceWarning)\n"
     ]
    },
    {
     "name": "stdout",
     "output_type": "stream",
     "text": [
      "Predict Finish, 70.7009 70.7 0.9861 0.0139 Evaluation Finish\n",
      "58: Data Load Finish, Predict Finish, 3.942 3.9239 0.0547 0.945 Evaluation Finish\n",
      "59: Data Load Finish, Predict Finish, 3.8074 3.7892 0.0528 0.9469 Evaluation Finish\n",
      "60: Data Load Finish, "
     ]
    },
    {
     "name": "stderr",
     "output_type": "stream",
     "text": [
      "/home/vislab/anaconda3/envs/cctv/lib/python3.7/site-packages/pandas/core/arraylike.py:364: RuntimeWarning: divide by zero encountered in log\n",
      "  result = getattr(ufunc, method)(*inputs, **kwargs)\n",
      "/home/vislab/anaconda3/envs/cctv/lib/python3.7/site-packages/statsmodels/base/model.py:606: ConvergenceWarning: Maximum Likelihood optimization failed to converge. Check mle_retvals\n",
      "  ConvergenceWarning)\n"
     ]
    },
    {
     "name": "stdout",
     "output_type": "stream",
     "text": [
      "Predict Finish, 70.7009 70.7 0.9861 0.0139 Evaluation Finish\n",
      "61: Data Load Finish, Predict Finish, 2.0777 2.0395 0.0284 0.971 Evaluation Finish\n",
      "62: Data Load Finish, Predict Finish, 4.0569 4.0392 0.0563 0.9434 Evaluation Finish\n",
      "63: Data Load Finish, Predict Finish, 5.4972 5.4836 0.0765 0.9233 Evaluation Finish\n",
      "64: Data Load Finish, Predict Finish, 7.4985 7.4892 0.1044 0.8954 Evaluation Finish\n",
      "65: Data Load Finish, "
     ]
    },
    {
     "name": "stderr",
     "output_type": "stream",
     "text": [
      "/home/vislab/anaconda3/envs/cctv/lib/python3.7/site-packages/pandas/core/arraylike.py:364: RuntimeWarning: divide by zero encountered in log\n",
      "  result = getattr(ufunc, method)(*inputs, **kwargs)\n",
      "/home/vislab/anaconda3/envs/cctv/lib/python3.7/site-packages/statsmodels/base/model.py:606: ConvergenceWarning: Maximum Likelihood optimization failed to converge. Check mle_retvals\n",
      "  ConvergenceWarning)\n"
     ]
    },
    {
     "name": "stdout",
     "output_type": "stream",
     "text": [
      "Predict Finish, 70.7009 70.7 0.9861 0.0139 Evaluation Finish\n",
      "66: Data Load Finish, Predict Finish, 9.3914 9.3834 0.1308 0.869 Evaluation Finish\n",
      "67: Data Load Finish, Predict Finish, 8.1368 8.1286 0.1133 0.8865 Evaluation Finish\n",
      "68: Data Load Finish, Predict Finish, 2.7641 2.7329 0.0381 0.9614 Evaluation Finish\n",
      "69: Data Load Finish, Predict Finish, 7.0067 6.9973 0.0976 0.9023 Evaluation Finish\n",
      "70: Data Load Finish, Predict Finish, 5.0957 5.0828 0.0709 0.9289 Evaluation Finish\n",
      "71: Data Load Finish, Predict Finish, 8.1949 8.1869 0.1142 0.8857 Evaluation Finish\n",
      "72: Data Load Finish, Predict Finish, 4.7659 4.7493 0.0662 0.9335 Evaluation Finish\n",
      "73: Data Load Finish, Predict Finish, 5.0472 5.0317 0.0702 0.9296 Evaluation Finish\n",
      "74: Data Load Finish, Predict Finish, 10.3329 10.3265 0.144 0.8559 Evaluation Finish\n",
      "75: Data Load Finish, Predict Finish, 4.5718 4.5569 0.0635 0.9362 Evaluation Finish\n",
      "76: Data Load Finish, Predict Finish, 1.204 1.106 0.0154 0.9832 Evaluation Finish\n",
      "77: Data Load Finish, Predict Finish, 4.6051 4.59 0.064 0.9358 Evaluation Finish\n",
      "78: Data Load Finish, "
     ]
    },
    {
     "name": "stderr",
     "output_type": "stream",
     "text": [
      "/home/vislab/anaconda3/envs/cctv/lib/python3.7/site-packages/pandas/core/arraylike.py:364: RuntimeWarning: divide by zero encountered in log\n",
      "  result = getattr(ufunc, method)(*inputs, **kwargs)\n",
      "/home/vislab/anaconda3/envs/cctv/lib/python3.7/site-packages/statsmodels/base/model.py:606: ConvergenceWarning: Maximum Likelihood optimization failed to converge. Check mle_retvals\n",
      "  ConvergenceWarning)\n"
     ]
    },
    {
     "name": "stdout",
     "output_type": "stream",
     "text": [
      "Predict Finish, 70.7009 70.7 0.9861 0.0139 Evaluation Finish\n",
      "79: Data Load Finish, Predict Finish, 2.1286 2.0956 0.0292 0.9703 Evaluation Finish\n",
      "80: Data Load Finish, Predict Finish, 6.4903 6.4778 0.0903 0.9095 Evaluation Finish\n",
      "81: Data Load Finish, Predict Finish, 2.8695 2.8442 0.0396 0.96 Evaluation Finish\n",
      "82: Data Load Finish, Predict Finish, 2.9225 2.8985 0.0404 0.9592 Evaluation Finish\n",
      "83: Data Load Finish, Predict Finish, 5.0509 5.0276 0.0701 0.9296 Evaluation Finish\n",
      "84: Data Load Finish, Predict Finish, 2.0708 2.0328 0.0283 0.9711 Evaluation Finish\n",
      "85: Data Load Finish, Predict Finish, 7.4054 7.3965 0.1031 0.8967 Evaluation Finish\n",
      "86: Data Load Finish, Predict Finish, 6.664 6.6538 0.0928 0.9071 Evaluation Finish\n",
      "87: Data Load Finish, Predict Finish, 3.3192 3.2963 0.0459 0.9537 Evaluation Finish\n",
      "88: Data Load Finish, Predict Finish, 7.7957 7.7861 0.1086 0.8913 Evaluation Finish\n",
      "89: Data Load Finish, Predict Finish, 3.9888 3.9715 0.0554 0.9444 Evaluation Finish\n",
      "90: Data Load Finish, Predict Finish, 3.5262 3.5045 0.0489 0.9508 Evaluation Finish\n",
      "91: Data Load Finish, Predict Finish, 15.4909 15.4869 0.216 0.784 Evaluation Finish\n",
      "92: Data Load Finish, Predict Finish, 2.9636 2.9408 0.041 0.9587 Evaluation Finish\n",
      "93: Data Load Finish, Predict Finish, 4.5048 4.4881 0.0626 0.9372 Evaluation Finish\n",
      "94: Data Load Finish, Predict Finish, 9.7785 9.7719 0.1363 0.8636 Evaluation Finish\n",
      "95: Data Load Finish, Predict Finish, 4.8747 4.8607 0.0678 0.932 Evaluation Finish\n",
      "96: Data Load Finish, Predict Finish, 9.7046 9.6978 0.1352 0.8647 Evaluation Finish\n",
      "97: Data Load Finish, Predict Finish, 2.8971 2.8692 0.04 0.9596 Evaluation Finish\n",
      "98: Data Load Finish, Predict Finish, 10.0634 10.0569 0.1402 0.8596 Evaluation Finish\n",
      "99: Data Load Finish, Predict Finish, 2.2136 2.1797 0.0304 0.9691 Evaluation Finish\n",
      "100: Data Load Finish, Predict Finish, 4.6077 4.584 0.0639 0.9357 Evaluation Finish\n",
      "101: Data Load Finish, Predict Finish, 4.7284 4.7135 0.0657 0.9341 Evaluation Finish\n",
      "102: Data Load Finish, Predict Finish, 1.1196 1.0396 0.0145 0.9844 Evaluation Finish\n",
      "103: Data Load Finish, Predict Finish, 1.5275 1.478 0.0206 0.9787 Evaluation Finish\n",
      "104: Data Load Finish, Predict Finish, 7.3406 7.3229 0.1021 0.8976 Evaluation Finish\n",
      "105: Data Load Finish, Predict Finish, 2.9628 2.94 0.041 0.9587 Evaluation Finish\n",
      "106: Data Load Finish, Predict Finish, 4.1793 4.1617 0.058 0.9417 Evaluation Finish\n",
      "107: Data Load Finish, Predict Finish, 1.9048 1.8685 0.026 0.9734 Evaluation Finish\n",
      "108: Data Load Finish, Predict Finish, 2.6335 2.6067 0.0363 0.9633 Evaluation Finish\n",
      "109: Data Load Finish, Predict Finish, 0.682 0.5543 0.0078 0.9905 Evaluation Finish\n",
      "110: Data Load Finish, Predict Finish, 4.6029 4.5878 0.064 0.9358 Evaluation Finish\n",
      "111: Data Load Finish, Predict Finish, 3.5797 3.5616 0.0496 0.9501 Evaluation Finish\n",
      "112: Data Load Finish, Predict Finish, 3.4075 3.3871 0.0472 0.9525 Evaluation Finish\n",
      "113: Data Load Finish, Predict Finish, 4.7988 4.7843 0.0667 0.9331 Evaluation Finish\n",
      "114: Data Load Finish, Predict Finish, 2.9544 2.9301 0.0408 0.9588 Evaluation Finish\n",
      "115: Data Load Finish, Predict Finish, 8.7183 8.7107 0.1215 0.8784 Evaluation Finish\n",
      "116: Data Load Finish, Predict Finish, 9.1534 9.146 0.1275 0.8723 Evaluation Finish\n",
      "117: Data Load Finish, Predict Finish, 4.1403 4.1248 0.0575 0.9423 Evaluation Finish\n",
      "118: Data Load Finish, Predict Finish, 2.8853 2.8598 0.0399 0.9598 Evaluation Finish\n",
      "119: Data Load Finish, Predict Finish, 3.9704 3.9532 0.0551 0.9446 Evaluation Finish\n",
      "120: Data Load Finish, Predict Finish, 4.2427 4.2259 0.0589 0.9408 Evaluation Finish\n",
      "121: Data Load Finish, Predict Finish, 3.4324 3.4118 0.0476 0.9521 Evaluation Finish\n",
      "122: Data Load Finish, Predict Finish, 1.6843 1.6371 0.0228 0.9765 Evaluation Finish\n",
      "123: Data Load Finish, "
     ]
    },
    {
     "name": "stderr",
     "output_type": "stream",
     "text": [
      "/home/vislab/anaconda3/envs/cctv/lib/python3.7/site-packages/pandas/core/arraylike.py:364: RuntimeWarning: divide by zero encountered in log\n",
      "  result = getattr(ufunc, method)(*inputs, **kwargs)\n",
      "/home/vislab/anaconda3/envs/cctv/lib/python3.7/site-packages/statsmodels/base/model.py:606: ConvergenceWarning: Maximum Likelihood optimization failed to converge. Check mle_retvals\n",
      "  ConvergenceWarning)\n"
     ]
    },
    {
     "name": "stdout",
     "output_type": "stream",
     "text": [
      "Predict Finish, 70.7009 70.7 0.9861 0.0139 Evaluation Finish\n",
      "124: Data Load Finish, Predict Finish, 3.3384 3.3184 0.0463 0.9534 Evaluation Finish\n",
      "125: Data Load Finish, Predict Finish, 7.2409 7.2323 0.1008 0.899 Evaluation Finish\n",
      "126: Data Load Finish, Predict Finish, 6.1984 6.1872 0.0863 0.9136 Evaluation Finish\n",
      "127: Data Load Finish, Predict Finish, 7.5253 7.5165 0.1048 0.895 Evaluation Finish\n",
      "128: Data Load Finish, Predict Finish, 4.9746 4.9598 0.0692 0.9306 Evaluation Finish\n",
      "129: Data Load Finish, Predict Finish, 4.762 4.7478 0.0662 0.9336 Evaluation Finish\n",
      "130: Data Load Finish, Predict Finish, 4.8808 4.8657 0.0678 0.9319 Evaluation Finish\n",
      "131: Data Load Finish, Predict Finish, 5.5216 5.5096 0.0768 0.923 Evaluation Finish\n",
      "132: Data Load Finish, Predict Finish, 5.4133 5.3993 0.0753 0.9245 Evaluation Finish\n",
      "133: Data Load Finish, Predict Finish, 15.1577 15.1529 0.2113 0.7886 Evaluation Finish\n",
      "134: Data Load Finish, Predict Finish, 3.1019 3.0575 0.0426 0.9567 Evaluation Finish\n",
      "135: Data Load Finish, Predict Finish, 3.9042 3.885 0.0542 0.9455 Evaluation Finish\n",
      "136: Data Load Finish, Predict Finish, 0.3927 0.3084 0.0043 0.9945 Evaluation Finish\n",
      "137: Data Load Finish, Predict Finish, 5.2295 5.2167 0.0727 0.9271 Evaluation Finish\n",
      "138: Data Load Finish, Predict Finish, 6.4688 6.4575 0.09 0.9098 Evaluation Finish\n",
      "139: Data Load Finish, Predict Finish, 4.6502 4.6358 0.0646 0.9351 Evaluation Finish\n",
      "140: Data Load Finish, Predict Finish, 4.8944 4.8802 0.068 0.9317 Evaluation Finish\n",
      "141: Data Load Finish, Predict Finish, 1.5417 1.4958 0.0208 0.9785 Evaluation Finish\n",
      "142: Data Load Finish, Predict Finish, 1.2514 1.1944 0.0166 0.9825 Evaluation Finish\n",
      "143: Data Load Finish, Predict Finish, 4.9971 4.984 0.0695 0.9303 Evaluation Finish\n",
      "144: Data Load Finish, Predict Finish, 3.0407 3.0154 0.042 0.9576 Evaluation Finish\n",
      "145: Data Load Finish, Predict Finish, 6.7159 6.7061 0.0935 0.9063 Evaluation Finish\n",
      "146: Data Load Finish, Predict Finish, 6.5686 6.5089 0.0907 0.9084 Evaluation Finish\n",
      "147: Data Load Finish, Predict Finish, 6.9263 6.9167 0.0964 0.9034 Evaluation Finish\n",
      "148: Data Load Finish, "
     ]
    },
    {
     "name": "stderr",
     "output_type": "stream",
     "text": [
      "/home/vislab/anaconda3/envs/cctv/lib/python3.7/site-packages/statsmodels/base/model.py:606: ConvergenceWarning: Maximum Likelihood optimization failed to converge. Check mle_retvals\n",
      "  ConvergenceWarning)\n"
     ]
    },
    {
     "name": "stdout",
     "output_type": "stream",
     "text": [
      "Predict Finish, 4.1403 4.1249 0.0575 0.9423 Evaluation Finish\n",
      "149: Data Load Finish, Predict Finish, 5.2389 5.2253 0.0729 0.9269 Evaluation Finish\n",
      "150: Data Load Finish, Predict Finish, 4.2865 4.2705 0.0595 0.9402 Evaluation Finish\n",
      "151: Data Load Finish, Predict Finish, 5.3447 5.3302 0.0743 0.9255 Evaluation Finish\n",
      "152: Data Load Finish, Predict Finish, 12.4803 12.4748 0.174 0.8259 Evaluation Finish\n",
      "153: Data Load Finish, Predict Finish, 3.3436 3.3223 0.0463 0.9534 Evaluation Finish\n",
      "154: Data Load Finish, Predict Finish, 2.6086 2.5819 0.036 0.9636 Evaluation Finish\n",
      "155: Data Load Finish, Predict Finish, 9.3349 9.3282 0.1301 0.8698 Evaluation Finish\n",
      "156: Data Load Finish, Predict Finish, 2.2476 2.2178 0.0309 0.9687 Evaluation Finish\n",
      "157: Data Load Finish, Predict Finish, 3.7783 3.7589 0.0524 0.9473 Evaluation Finish\n",
      "158: Data Load Finish, Predict Finish, 3.5609 3.5341 0.0493 0.9503 Evaluation Finish\n",
      "159: Data Load Finish, Predict Finish, 9.8542 9.8468 0.1373 0.8626 Evaluation Finish\n",
      "160: Data Load Finish, Predict Finish, 7.8339 7.8257 0.1091 0.8907 Evaluation Finish\n",
      "161: Data Load Finish, Predict Finish, 8.4153 8.4075 0.1172 0.8826 Evaluation Finish\n",
      "162: Data Load Finish, Predict Finish, 9.3636 9.3564 0.1305 0.8694 Evaluation Finish\n",
      "163: Data Load Finish, Predict Finish, 4.5069 4.4902 0.0626 0.9371 Evaluation Finish\n",
      "164: Data Load Finish, Predict Finish, 4.2772 4.2612 0.0594 0.9403 Evaluation Finish\n",
      "165: Data Load Finish, Predict Finish, 3.6192 3.601 0.0502 0.9495 Evaluation Finish\n",
      "166: Data Load Finish, Predict Finish, 4.8805 4.8664 0.0678 0.9319 Evaluation Finish\n",
      "167: Data Load Finish, Predict Finish, 7.8627 7.8541 0.1095 0.8903 Evaluation Finish\n",
      "168: Data Load Finish, Predict Finish, 2.6705 2.6409 0.0368 0.9628 Evaluation Finish\n",
      "169: Data Load Finish, Predict Finish, 3.4681 3.443 0.048 0.9516 Evaluation Finish\n",
      "170: Data Load Finish, Predict Finish, 4.3877 4.3676 0.0609 0.9388 Evaluation Finish\n",
      "171: Data Load Finish, Predict Finish, 7.4909 7.4822 0.1043 0.8955 Evaluation Finish\n",
      "172: Data Load Finish, Predict Finish, 1.4397 1.3906 0.0194 0.9799 Evaluation Finish\n",
      "173: Data Load Finish, Predict Finish, 3.0642 3.0421 0.0424 0.9573 Evaluation Finish\n",
      "174: Data Load Finish, Predict Finish, 7.8922 7.8834 0.1099 0.8899 Evaluation Finish\n",
      "175: Data Load Finish, Predict Finish, 1.8775 1.8387 0.0256 0.9738 Evaluation Finish\n",
      "176: Data Load Finish, Predict Finish, 8.7375 8.7286 0.1217 0.8781 Evaluation Finish\n",
      "177: Data Load Finish, Predict Finish, 4.2303 4.2152 0.0588 0.941 Evaluation Finish\n",
      "178: Data Load Finish, Predict Finish, 2.3172 2.2847 0.0318 0.9677 Evaluation Finish\n",
      "179: Data Load Finish, "
     ]
    },
    {
     "name": "stderr",
     "output_type": "stream",
     "text": [
      "/home/vislab/anaconda3/envs/cctv/lib/python3.7/site-packages/pandas/core/arraylike.py:364: RuntimeWarning: divide by zero encountered in log\n",
      "  result = getattr(ufunc, method)(*inputs, **kwargs)\n",
      "/home/vislab/anaconda3/envs/cctv/lib/python3.7/site-packages/statsmodels/base/model.py:606: ConvergenceWarning: Maximum Likelihood optimization failed to converge. Check mle_retvals\n",
      "  ConvergenceWarning)\n"
     ]
    },
    {
     "name": "stdout",
     "output_type": "stream",
     "text": [
      "Predict Finish, 70.7009 70.7 0.9861 0.0139 Evaluation Finish\n",
      "180: Data Load Finish, Predict Finish, 3.5724 3.552 0.0495 0.9502 Evaluation Finish\n",
      "181: Data Load Finish, Predict Finish, 4.749 4.7349 0.066 0.9338 Evaluation Finish\n",
      "182: Data Load Finish, Predict Finish, 3.2112 3.1895 0.0445 0.9552 Evaluation Finish\n",
      "183: Data Load Finish, Predict Finish, 4.3794 4.3593 0.0608 0.9389 Evaluation Finish\n",
      "184: Data Load Finish, Predict Finish, 4.8054 4.7909 0.0668 0.933 Evaluation Finish\n",
      "185: Data Load Finish, Predict Finish, 4.2628 4.2443 0.0592 0.9405 Evaluation Finish\n",
      "186: Data Load Finish, Predict Finish, 4.1294 4.1122 0.0573 0.9424 Evaluation Finish\n",
      "187: Data Load Finish, Predict Finish, 2.8115 2.7867 0.0388 0.9608 Evaluation Finish\n",
      "188: Data Load Finish, "
     ]
    },
    {
     "name": "stderr",
     "output_type": "stream",
     "text": [
      "/home/vislab/anaconda3/envs/cctv/lib/python3.7/site-packages/pandas/core/arraylike.py:364: RuntimeWarning: divide by zero encountered in log\n",
      "  result = getattr(ufunc, method)(*inputs, **kwargs)\n",
      "/home/vislab/anaconda3/envs/cctv/lib/python3.7/site-packages/statsmodels/base/model.py:606: ConvergenceWarning: Maximum Likelihood optimization failed to converge. Check mle_retvals\n",
      "  ConvergenceWarning)\n"
     ]
    },
    {
     "name": "stdout",
     "output_type": "stream",
     "text": [
      "Predict Finish, 70.7009 70.7 0.9861 0.0139 Evaluation Finish\n",
      "189: Data Load Finish, Predict Finish, 3.2698 3.2476 0.0453 0.9544 Evaluation Finish\n",
      "190: Data Load Finish, Predict Finish, 2.6036 2.577 0.0359 0.9637 Evaluation Finish\n",
      "191: Data Load Finish, Predict Finish, 4.8689 4.8549 0.0677 0.9321 Evaluation Finish\n",
      "192: Data Load Finish, Predict Finish, 5.318 5.3048 0.074 0.9258 Evaluation Finish\n",
      "193: Data Load Finish, Predict Finish, 1.2895 1.2363 0.0172 0.982 Evaluation Finish\n",
      "194: Data Load Finish, Predict Finish, 4.3608 4.3442 0.0606 0.9392 Evaluation Finish\n",
      "195: Data Load Finish, Predict Finish, 3.4538 3.433 0.0479 0.9518 Evaluation Finish\n",
      "196: Data Load Finish, Predict Finish, 1.9379 1.9014 0.0265 0.973 Evaluation Finish\n",
      "197: Data Load Finish, Predict Finish, 4.5706 4.5557 0.0635 0.9363 Evaluation Finish\n",
      "198: Data Load Finish, Predict Finish, 4.5294 4.5018 0.0628 0.9368 Evaluation Finish\n",
      "199: Data Load Finish, Predict Finish, 2.1988 2.1621 0.0301 0.9693 Evaluation Finish\n",
      "200: Data Load Finish, Predict Finish, 2.9116 2.8858 0.0402 0.9594 Evaluation Finish\n",
      "201: Data Load Finish, Predict Finish, 3.4314 3.4091 0.0475 0.9521 Evaluation Finish\n",
      "202: Data Load Finish, Predict Finish, 6.9437 6.9333 0.0967 0.9032 Evaluation Finish\n",
      "203: Data Load Finish, Predict Finish, 6.3251 6.3139 0.088 0.9118 Evaluation Finish\n",
      "204: Data Load Finish, Predict Finish, 7.5746 7.5656 0.1055 0.8944 Evaluation Finish\n",
      "205: Data Load Finish, Predict Finish, 6.2919 6.2809 0.0876 0.9122 Evaluation Finish\n",
      "206: Data Load Finish, "
     ]
    },
    {
     "name": "stderr",
     "output_type": "stream",
     "text": [
      "/home/vislab/anaconda3/envs/cctv/lib/python3.7/site-packages/pandas/core/arraylike.py:364: RuntimeWarning: divide by zero encountered in log\n",
      "  result = getattr(ufunc, method)(*inputs, **kwargs)\n",
      "/home/vislab/anaconda3/envs/cctv/lib/python3.7/site-packages/statsmodels/base/model.py:606: ConvergenceWarning: Maximum Likelihood optimization failed to converge. Check mle_retvals\n",
      "  ConvergenceWarning)\n"
     ]
    },
    {
     "name": "stdout",
     "output_type": "stream",
     "text": [
      "Predict Finish, 70.7009 70.7 0.9861 0.0139 Evaluation Finish\n",
      "207: Data Load Finish, Predict Finish, 1.0102 0.9033 0.0126 0.9859 Evaluation Finish\n",
      "208: Data Load Finish, Predict Finish, 7.5638 7.5548 0.1053 0.8945 Evaluation Finish\n",
      "209: Data Load Finish, "
     ]
    },
    {
     "name": "stderr",
     "output_type": "stream",
     "text": [
      "/home/vislab/anaconda3/envs/cctv/lib/python3.7/site-packages/pandas/core/arraylike.py:364: RuntimeWarning: divide by zero encountered in log\n",
      "  result = getattr(ufunc, method)(*inputs, **kwargs)\n",
      "/home/vislab/anaconda3/envs/cctv/lib/python3.7/site-packages/statsmodels/base/model.py:606: ConvergenceWarning: Maximum Likelihood optimization failed to converge. Check mle_retvals\n",
      "  ConvergenceWarning)\n"
     ]
    },
    {
     "name": "stdout",
     "output_type": "stream",
     "text": [
      "Predict Finish, 70.7009 70.7 0.9861 0.0139 Evaluation Finish\n",
      "210: Data Load Finish, Predict Finish, 6.6898 6.6795 0.0931 0.9067 Evaluation Finish\n",
      "211: Data Load Finish, Predict Finish, 8.6075 8.6001 0.1199 0.88 Evaluation Finish\n",
      "212: Data Load Finish, "
     ]
    },
    {
     "name": "stderr",
     "output_type": "stream",
     "text": [
      "/home/vislab/anaconda3/envs/cctv/lib/python3.7/site-packages/statsmodels/base/model.py:606: ConvergenceWarning: Maximum Likelihood optimization failed to converge. Check mle_retvals\n",
      "  ConvergenceWarning)\n"
     ]
    },
    {
     "name": "stdout",
     "output_type": "stream",
     "text": [
      "Predict Finish, 3.4529 3.4282 0.0478 0.9518 Evaluation Finish\n",
      "213: Data Load Finish, "
     ]
    },
    {
     "name": "stderr",
     "output_type": "stream",
     "text": [
      "/home/vislab/anaconda3/envs/cctv/lib/python3.7/site-packages/pandas/core/arraylike.py:364: RuntimeWarning: divide by zero encountered in log\n",
      "  result = getattr(ufunc, method)(*inputs, **kwargs)\n",
      "/home/vislab/anaconda3/envs/cctv/lib/python3.7/site-packages/statsmodels/base/model.py:606: ConvergenceWarning: Maximum Likelihood optimization failed to converge. Check mle_retvals\n",
      "  ConvergenceWarning)\n"
     ]
    },
    {
     "name": "stdout",
     "output_type": "stream",
     "text": [
      "Predict Finish, 70.7009 70.7 0.9861 0.0139 Evaluation Finish\n",
      "214: Data Load Finish, Predict Finish, 7.5409 7.532 0.105 0.8948 Evaluation Finish\n",
      "215: Data Load Finish, Predict Finish, 7.7135 7.7044 0.1074 0.8924 Evaluation Finish\n",
      "216: Data Load Finish, Predict Finish, 6.7933 6.7837 0.0946 0.9053 Evaluation Finish\n",
      "217: Data Load Finish, Predict Finish, 3.4852 3.4655 0.0483 0.9514 Evaluation Finish\n",
      "218: Data Load Finish, Predict Finish, 7.9629 7.9548 0.1109 0.8889 Evaluation Finish\n",
      "219: Data Load Finish, Predict Finish, 5.5428 5.5307 0.0771 0.9227 Evaluation Finish\n",
      "220: Data Load Finish, "
     ]
    },
    {
     "name": "stderr",
     "output_type": "stream",
     "text": [
      "/home/vislab/anaconda3/envs/cctv/lib/python3.7/site-packages/pandas/core/arraylike.py:364: RuntimeWarning: divide by zero encountered in log\n",
      "  result = getattr(ufunc, method)(*inputs, **kwargs)\n",
      "/home/vislab/anaconda3/envs/cctv/lib/python3.7/site-packages/statsmodels/base/model.py:606: ConvergenceWarning: Maximum Likelihood optimization failed to converge. Check mle_retvals\n",
      "  ConvergenceWarning)\n"
     ]
    },
    {
     "name": "stdout",
     "output_type": "stream",
     "text": [
      "Predict Finish, 70.7009 70.7 0.9861 0.0139 Evaluation Finish\n",
      "221: Data Load Finish, Predict Finish, 6.2563 6.2455 0.0871 0.9127 Evaluation Finish\n",
      "222: Data Load Finish, Predict Finish, 7.2457 7.2368 0.1009 0.8989 Evaluation Finish\n",
      "223: Data Load Finish, Predict Finish, 6.4466 6.4362 0.0897 0.9101 Evaluation Finish\n",
      "224: Data Load Finish, Predict Finish, 7.9306 7.9222 0.1105 0.8894 Evaluation Finish\n",
      "225: Data Load Finish, Predict Finish, 6.7441 6.7341 0.0939 0.9059 Evaluation Finish\n",
      "226: Data Load Finish, Predict Finish, 3.6681 3.6465 0.0508 0.9488 Evaluation Finish\n",
      "227: Data Load Finish, Predict Finish, 3.1192 3.0926 0.0431 0.9565 Evaluation Finish\n",
      "228: Data Load Finish, Predict Finish, 3.4414 3.4207 0.0477 0.952 Evaluation Finish\n",
      "229: Data Load Finish, Predict Finish, 5.014 5.0 0.0697 0.9301 Evaluation Finish\n",
      "230: Data Load Finish, Predict Finish, 1.3362 1.2793 0.0178 0.9814 Evaluation Finish\n",
      "231: Data Load Finish, Predict Finish, 11.401 11.3953 0.1589 0.841 Evaluation Finish\n",
      "232: Data Load Finish, Predict Finish, 1.1883 1.1266 0.0157 0.9834 Evaluation Finish\n",
      "233: Data Load Finish, Predict Finish, 0.8481 0.7649 0.0107 0.9882 Evaluation Finish\n",
      "234: Data Load Finish, Predict Finish, 9.4903 9.4838 0.1322 0.8676 Evaluation Finish\n",
      "235: Data Load Finish, Predict Finish, 4.8375 4.8228 0.0672 0.9325 Evaluation Finish\n",
      "236: Data Load Finish, Predict Finish, 3.5848 3.5657 0.0497 0.95 Evaluation Finish\n",
      "237: Data Load Finish, Predict Finish, 3.2965 3.2755 0.0457 0.954 Evaluation Finish\n",
      "238: Data Load Finish, Predict Finish, 9.3229 9.3161 0.1299 0.87 Evaluation Finish\n",
      "239: Data Load Finish, Predict Finish, 5.8181 5.8068 0.081 0.9189 Evaluation Finish\n",
      "240: Data Load Finish, Predict Finish, 7.466 7.4574 0.104 0.8959 Evaluation Finish\n",
      "241: Data Load Finish, Predict Finish, 8.6577 8.6498 0.1206 0.8793 Evaluation Finish\n",
      "242: Data Load Finish, Predict Finish, 3.4796 3.461 0.0482 0.9515 Evaluation Finish\n",
      "243: Data Load Finish, Predict Finish, 4.5496 4.5308 0.0632 0.9365 Evaluation Finish\n",
      "244: Data Load Finish, Predict Finish, 4.4219 4.406 0.0614 0.9383 Evaluation Finish\n",
      "245: Data Load Finish, Predict Finish, 3.4281 3.4059 0.0475 0.9522 Evaluation Finish\n",
      "246: Data Load Finish, Predict Finish, 5.5645 5.5523 0.0774 0.9224 Evaluation Finish\n",
      "247: Data Load Finish, Predict Finish, 6.8448 6.835 0.0953 0.9045 Evaluation Finish\n",
      "248: Data Load Finish, Predict Finish, 1.6266 1.576 0.022 0.9773 Evaluation Finish\n",
      "249: Data Load Finish, Predict Finish, 6.283 6.2721 0.0875 0.9124 Evaluation Finish\n",
      "250: Data Load Finish, Predict Finish, 5.3562 5.3427 0.0745 0.9253 Evaluation Finish\n",
      "251: Data Load Finish, Predict Finish, 9.4127 9.4056 0.1312 0.8687 Evaluation Finish\n",
      "252: Data Load Finish, Predict Finish, 7.0817 7.0725 0.0986 0.9012 Evaluation Finish\n",
      "253: Data Load Finish, Predict Finish, 0.8724 0.7888 0.011 0.9878 Evaluation Finish\n",
      "254: Data Load Finish, Predict Finish, 3.2237 3.1979 0.0446 0.955 Evaluation Finish\n",
      "255: Data Load Finish, Predict Finish, 7.4315 7.4229 0.1035 0.8964 Evaluation Finish\n",
      "256: Data Load Finish, Predict Finish, 4.7539 4.7387 0.0661 0.9337 Evaluation Finish\n",
      "257: Data Load Finish, Predict Finish, 1.2752 1.2183 0.017 0.9822 Evaluation Finish\n",
      "258: Data Load Finish, Predict Finish, 3.6446 3.625 0.0505 0.9492 Evaluation Finish\n",
      "259: Data Load Finish, Predict Finish, 3.4109 3.3889 0.0472 0.9524 Evaluation Finish\n",
      "260: Data Load Finish, Predict Finish, 4.7296 4.7161 0.0658 0.934 Evaluation Finish\n",
      "261: Data Load Finish, Predict Finish, 2.6015 2.5729 0.0359 0.9637 Evaluation Finish\n",
      "262: Data Load Finish, Predict Finish, 3.2893 3.2684 0.0456 0.9541 Evaluation Finish\n",
      "263: Data Load Finish, Predict Finish, 5.5901 5.5777 0.0778 0.922 Evaluation Finish\n",
      "264: Data Load Finish, Predict Finish, 4.385 4.3694 0.0609 0.9388 Evaluation Finish\n",
      "265: Data Load Finish, Predict Finish, 3.0513 3.0278 0.0422 0.9574 Evaluation Finish\n",
      "266: Data Load Finish, Predict Finish, 4.1549 4.1387 0.0577 0.9421 Evaluation Finish\n",
      "267: Data Load Finish, Predict Finish, 4.6793 4.6654 0.065 0.9347 Evaluation Finish\n",
      "268: Data Load Finish, "
     ]
    },
    {
     "name": "stderr",
     "output_type": "stream",
     "text": [
      "/home/vislab/anaconda3/envs/cctv/lib/python3.7/site-packages/statsmodels/base/model.py:606: ConvergenceWarning: Maximum Likelihood optimization failed to converge. Check mle_retvals\n",
      "  ConvergenceWarning)\n"
     ]
    },
    {
     "name": "stdout",
     "output_type": "stream",
     "text": [
      "Predict Finish, 3.5954 3.5649 0.0497 0.9499 Evaluation Finish\n",
      "269: Data Load Finish, Predict Finish, 4.8971 4.883 0.0681 0.9317 Evaluation Finish\n",
      "270: Data Load Finish, Predict Finish, 5.0207 5.0067 0.0698 0.93 Evaluation Finish\n",
      "271: Data Load Finish, Predict Finish, 4.2188 4.2022 0.0586 0.9412 Evaluation Finish\n",
      "272: Data Load Finish, Predict Finish, 2.1354 2.0924 0.0292 0.9702 Evaluation Finish\n",
      "273: Data Load Finish, Predict Finish, 6.4903 6.4797 0.0903 0.9095 Evaluation Finish\n",
      "274: Data Load Finish, Predict Finish, 4.4307 4.4133 0.0615 0.9382 Evaluation Finish\n",
      "275: Data Load Finish, Predict Finish, 4.8066 4.7876 0.0667 0.933 Evaluation Finish\n",
      "276: Data Load Finish, "
     ]
    },
    {
     "name": "stderr",
     "output_type": "stream",
     "text": [
      "/home/vislab/anaconda3/envs/cctv/lib/python3.7/site-packages/pandas/core/arraylike.py:364: RuntimeWarning: divide by zero encountered in log\n",
      "  result = getattr(ufunc, method)(*inputs, **kwargs)\n",
      "/home/vislab/anaconda3/envs/cctv/lib/python3.7/site-packages/statsmodels/base/model.py:606: ConvergenceWarning: Maximum Likelihood optimization failed to converge. Check mle_retvals\n",
      "  ConvergenceWarning)\n"
     ]
    },
    {
     "name": "stdout",
     "output_type": "stream",
     "text": [
      "Predict Finish, 70.7009 70.7 0.9861 0.0139 Evaluation Finish\n",
      "277: Data Load Finish, Predict Finish, 2.842 2.8148 0.0392 0.9604 Evaluation Finish\n",
      "278: Data Load Finish, Predict Finish, 7.0342 7.0247 0.098 0.9019 Evaluation Finish\n",
      "279: Data Load Finish, Predict Finish, 5.5549 5.5418 0.0773 0.9225 Evaluation Finish\n",
      "280: Data Load Finish, Predict Finish, 3.402 3.38 0.0471 0.9526 Evaluation Finish\n",
      "281: Data Load Finish, Predict Finish, 3.4243 3.4037 0.0474 0.9522 Evaluation Finish\n",
      "282: Data Load Finish, Predict Finish, 4.4173 4.4001 0.0613 0.9384 Evaluation Finish\n",
      "283: Data Load Finish, Predict Finish, 10.8278 10.8219 0.1509 0.849 Evaluation Finish\n",
      "284: Data Load Finish, Predict Finish, 4.4274 4.3821 0.0611 0.9383 Evaluation Finish\n",
      "285: Data Load Finish, Predict Finish, 2.8485 2.8213 0.0393 0.9603 Evaluation Finish\n",
      "286: Data Load Finish, Predict Finish, 3.9194 3.9015 0.0544 0.9453 Evaluation Finish\n",
      "287: Data Load Finish, Predict Finish, 4.4574 4.4382 0.0619 0.9378 Evaluation Finish\n",
      "288: Data Load Finish, Predict Finish, 4.4537 4.4386 0.0619 0.9379 Evaluation Finish\n",
      "289: Data Load Finish, Predict Finish, 4.2518 4.2349 0.059 0.9407 Evaluation Finish\n",
      "290: Data Load Finish, Predict Finish, 4.21 4.1934 0.0585 0.9413 Evaluation Finish\n",
      "291: Data Load Finish, Predict Finish, 7.3025 7.2922 0.1017 0.8982 Evaluation Finish\n",
      "292: Data Load Finish, "
     ]
    },
    {
     "name": "stderr",
     "output_type": "stream",
     "text": [
      "/home/vislab/anaconda3/envs/cctv/lib/python3.7/site-packages/statsmodels/base/model.py:606: ConvergenceWarning: Maximum Likelihood optimization failed to converge. Check mle_retvals\n",
      "  ConvergenceWarning)\n"
     ]
    },
    {
     "name": "stdout",
     "output_type": "stream",
     "text": [
      "Predict Finish, 5.4857 5.384 0.0751 0.9235 Evaluation Finish\n",
      "293: Data Load Finish, Predict Finish, 7.5588 7.5374 0.1051 0.8946 Evaluation Finish\n",
      "294: Data Load Finish, Predict Finish, 4.516 4.5005 0.0627 0.937 Evaluation Finish\n",
      "295: Data Load Finish, Predict Finish, 7.8361 7.8252 0.1091 0.8907 Evaluation Finish\n",
      "296: Data Load Finish, Predict Finish, 4.6537 4.6392 0.0647 0.9351 Evaluation Finish\n",
      "297: Data Load Finish, Predict Finish, 4.6825 4.6678 0.0651 0.9347 Evaluation Finish\n",
      "298: Data Load Finish, Predict Finish, 3.0195 2.9963 0.0418 0.9579 Evaluation Finish\n",
      "299: Data Load Finish, Predict Finish, 3.951 3.9328 0.0548 0.9449 Evaluation Finish\n",
      "300: Data Load Finish, Predict Finish, 3.7662 3.7452 0.0522 0.9475 Evaluation Finish\n",
      "301: Data Load Finish, Predict Finish, 7.1978 7.1881 0.1002 0.8996 Evaluation Finish\n",
      "302: Data Load Finish, Predict Finish, 3.9224 3.9011 0.0544 0.9453 Evaluation Finish\n",
      "303: Data Load Finish, Predict Finish, 4.4207 4.4019 0.0614 0.9383 Evaluation Finish\n",
      "304: Data Load Finish, Predict Finish, 3.8421 3.8176 0.0532 0.9464 Evaluation Finish\n",
      "305: Data Load Finish, Predict Finish, 5.4489 5.4331 0.0758 0.924 Evaluation Finish\n",
      "306: Data Load Finish, Predict Finish, 2.4675 2.4382 0.034 0.9656 Evaluation Finish\n",
      "307: Data Load Finish, Predict Finish, 4.37 4.3518 0.0607 0.9391 Evaluation Finish\n",
      "308: Data Load Finish, Predict Finish, 6.9588 6.9302 0.0966 0.9029 Evaluation Finish\n",
      "309: Data Load Finish, Predict Finish, 2.1356 2.1025 0.0293 0.9702 Evaluation Finish\n",
      "310: Data Load Finish, Predict Finish, 6.834 6.8236 0.0951 0.9047 Evaluation Finish\n",
      "311: Data Load Finish, Predict Finish, 13.365 13.3603 0.1863 0.8136 Evaluation Finish\n",
      "312: Data Load Finish, Predict Finish, 3.8212 3.8028 0.053 0.9467 Evaluation Finish\n",
      "313: Data Load Finish, Predict Finish, 5.3765 5.3616 0.0748 0.925 Evaluation Finish\n",
      "314: Data Load Finish, Predict Finish, 4.3466 4.3301 0.0604 0.9394 Evaluation Finish\n",
      "315: Data Load Finish, Predict Finish, 6.5837 6.5742 0.0917 0.9082 Evaluation Finish\n",
      "316: Data Load Finish, Predict Finish, 4.6146 4.5994 0.0641 0.9356 Evaluation Finish\n",
      "317: Data Load Finish, Predict Finish, 6.9625 6.9532 0.097 0.9029 Evaluation Finish\n",
      "318: Data Load Finish, Predict Finish, 10.926 10.9202 0.1523 0.8476 Evaluation Finish\n",
      "319: Data Load Finish, Predict Finish, 2.249 2.2146 0.0309 0.9686 Evaluation Finish\n",
      "320: Data Load Finish, Predict Finish, 9.666 9.659 0.1347 0.8652 Evaluation Finish\n",
      "321: Data Load Finish, Predict Finish, 2.4662 2.4387 0.034 0.9656 Evaluation Finish\n",
      "322: Data Load Finish, Predict Finish, 3.3514 3.3299 0.0464 0.9533 Evaluation Finish\n",
      "323: Data Load Finish, Predict Finish, 0.6215 0.4791 0.0067 0.9913 Evaluation Finish\n",
      "324: Data Load Finish, Predict Finish, 3.6086 3.5877 0.05 0.9497 Evaluation Finish\n",
      "RMSE: 8.224606500448818, MAE: 8.20432382546717, MAPE: 0.11440368867120683\n",
      "ACC: 0.8852928147969452\n"
     ]
    }
   ],
   "source": [
    "predictARIMA(df, idx, 3)"
   ]
  },
  {
   "cell_type": "markdown",
   "id": "dcb35d64",
   "metadata": {},
   "source": [
    "### Unobserved Nodes = 10%"
   ]
  },
  {
   "cell_type": "code",
   "execution_count": 12,
   "id": "83ad788d",
   "metadata": {},
   "outputs": [
    {
     "name": "stdout",
     "output_type": "stream",
     "text": [
      "52116 325\n"
     ]
    },
    {
     "data": {
      "text/plain": [
       "1667712"
      ]
     },
     "execution_count": 12,
     "metadata": {},
     "output_type": "execute_result"
    }
   ],
   "source": [
    "df, idx = csvIndexToDatetime(path_10, start, freq)\n",
    "(df == 0).sum().sum()"
   ]
  },
  {
   "cell_type": "code",
   "execution_count": 13,
   "id": "010ff399",
   "metadata": {
    "scrolled": false
   },
   "outputs": [
    {
     "name": "stdout",
     "output_type": "stream",
     "text": [
      "0: Data Load Finish, "
     ]
    },
    {
     "name": "stderr",
     "output_type": "stream",
     "text": [
      "/home/vislab/anaconda3/envs/cctv/lib/python3.7/site-packages/pandas/core/arraylike.py:364: RuntimeWarning: divide by zero encountered in log\n",
      "  result = getattr(ufunc, method)(*inputs, **kwargs)\n",
      "/home/vislab/anaconda3/envs/cctv/lib/python3.7/site-packages/statsmodels/base/model.py:606: ConvergenceWarning: Maximum Likelihood optimization failed to converge. Check mle_retvals\n",
      "  ConvergenceWarning)\n"
     ]
    },
    {
     "name": "stdout",
     "output_type": "stream",
     "text": [
      "Predict Finish, 70.7009 70.7 0.9861 0.0139 Evaluation Finish\n",
      "1: Data Load Finish, Predict Finish, 5.2527 5.2399 0.0731 0.9267 Evaluation Finish\n",
      "2: Data Load Finish, Predict Finish, 3.6214 3.5933 0.0501 0.9495 Evaluation Finish\n",
      "3: Data Load Finish, Predict Finish, 10.784 10.7782 0.1503 0.8496 Evaluation Finish\n",
      "4: Data Load Finish, Predict Finish, 9.7803 9.7737 0.1363 0.8636 Evaluation Finish\n",
      "5: Data Load Finish, "
     ]
    },
    {
     "name": "stderr",
     "output_type": "stream",
     "text": [
      "/home/vislab/anaconda3/envs/cctv/lib/python3.7/site-packages/pandas/core/arraylike.py:364: RuntimeWarning: divide by zero encountered in log\n",
      "  result = getattr(ufunc, method)(*inputs, **kwargs)\n",
      "/home/vislab/anaconda3/envs/cctv/lib/python3.7/site-packages/statsmodels/base/model.py:606: ConvergenceWarning: Maximum Likelihood optimization failed to converge. Check mle_retvals\n",
      "  ConvergenceWarning)\n"
     ]
    },
    {
     "name": "stdout",
     "output_type": "stream",
     "text": [
      "Predict Finish, 70.7009 70.7 0.9861 0.0139 Evaluation Finish\n",
      "6: Data Load Finish, Predict Finish, 5.6713 5.6558 0.0789 0.9209 Evaluation Finish\n",
      "7: Data Load Finish, Predict Finish, 3.7492 3.7301 0.052 0.9477 Evaluation Finish\n",
      "8: Data Load Finish, Predict Finish, 6.9607 6.951 0.0969 0.9029 Evaluation Finish\n",
      "9: Data Load Finish, Predict Finish, 2.7983 2.7737 0.0387 0.961 Evaluation Finish\n",
      "10: Data Load Finish, Predict Finish, 3.4245 3.4039 0.0475 0.9522 Evaluation Finish\n",
      "11: Data Load Finish, Predict Finish, 5.2195 5.206 0.0726 0.9272 Evaluation Finish\n",
      "12: Data Load Finish, Predict Finish, 4.9417 4.9273 0.0687 0.9311 Evaluation Finish\n",
      "13: Data Load Finish, "
     ]
    },
    {
     "name": "stderr",
     "output_type": "stream",
     "text": [
      "/home/vislab/anaconda3/envs/cctv/lib/python3.7/site-packages/pandas/core/arraylike.py:364: RuntimeWarning: divide by zero encountered in log\n",
      "  result = getattr(ufunc, method)(*inputs, **kwargs)\n",
      "/home/vislab/anaconda3/envs/cctv/lib/python3.7/site-packages/statsmodels/base/model.py:606: ConvergenceWarning: Maximum Likelihood optimization failed to converge. Check mle_retvals\n",
      "  ConvergenceWarning)\n"
     ]
    },
    {
     "name": "stdout",
     "output_type": "stream",
     "text": [
      "Predict Finish, 70.7009 70.7 0.9861 0.0139 Evaluation Finish\n",
      "14: Data Load Finish, Predict Finish, 4.7253 4.7112 0.0657 0.9341 Evaluation Finish\n",
      "15: Data Load Finish, Predict Finish, 3.1602 3.1373 0.0437 0.9559 Evaluation Finish\n",
      "16: Data Load Finish, Predict Finish, 3.9211 3.9018 0.0544 0.9453 Evaluation Finish\n",
      "17: Data Load Finish, Predict Finish, 3.8353 3.8153 0.0532 0.9465 Evaluation Finish\n",
      "18: Data Load Finish, Predict Finish, 3.8476 3.8309 0.0534 0.9463 Evaluation Finish\n",
      "19: Data Load Finish, Predict Finish, 5.3051 5.2896 0.0737 0.926 Evaluation Finish\n",
      "20: Data Load Finish, Predict Finish, 4.2668 4.2497 0.0592 0.9405 Evaluation Finish\n",
      "21: Data Load Finish, Predict Finish, 3.4697 3.4469 0.048 0.9516 Evaluation Finish\n",
      "22: Data Load Finish, Predict Finish, 3.9048 3.887 0.0542 0.9455 Evaluation Finish\n",
      "23: Data Load Finish, Predict Finish, 7.5719 7.5622 0.1054 0.8944 Evaluation Finish\n",
      "24: Data Load Finish, Predict Finish, 3.7875 3.7703 0.0526 0.9472 Evaluation Finish\n",
      "25: Data Load Finish, "
     ]
    },
    {
     "name": "stderr",
     "output_type": "stream",
     "text": [
      "/home/vislab/anaconda3/envs/cctv/lib/python3.7/site-packages/pandas/core/arraylike.py:364: RuntimeWarning: divide by zero encountered in log\n",
      "  result = getattr(ufunc, method)(*inputs, **kwargs)\n",
      "/home/vislab/anaconda3/envs/cctv/lib/python3.7/site-packages/statsmodels/base/model.py:606: ConvergenceWarning: Maximum Likelihood optimization failed to converge. Check mle_retvals\n",
      "  ConvergenceWarning)\n"
     ]
    },
    {
     "name": "stdout",
     "output_type": "stream",
     "text": [
      "Predict Finish, 70.7009 70.7 0.9861 0.0139 Evaluation Finish\n",
      "26: Data Load Finish, Predict Finish, 3.8123 3.794 0.0529 0.9468 Evaluation Finish\n",
      "27: Data Load Finish, Predict Finish, 4.0813 4.0654 0.0567 0.9431 Evaluation Finish\n",
      "28: Data Load Finish, Predict Finish, 5.9001 5.8883 0.0821 0.9177 Evaluation Finish\n",
      "29: Data Load Finish, Predict Finish, 11.6187 11.6133 0.162 0.838 Evaluation Finish\n",
      "30: Data Load Finish, Predict Finish, 5.8176 5.8067 0.081 0.9189 Evaluation Finish\n",
      "31: Data Load Finish, Predict Finish, 6.2766 6.2663 0.0874 0.9125 Evaluation Finish\n",
      "32: Data Load Finish, Predict Finish, 2.5112 2.4835 0.0346 0.965 Evaluation Finish\n",
      "33: Data Load Finish, Predict Finish, 10.077 10.0708 0.1404 0.8595 Evaluation Finish\n",
      "34: Data Load Finish, Predict Finish, 4.6064 4.59 0.064 0.9358 Evaluation Finish\n",
      "35: Data Load Finish, Predict Finish, 8.2216 8.213 0.1145 0.8853 Evaluation Finish\n",
      "36: Data Load Finish, Predict Finish, 0.8264 0.7344 0.0102 0.9885 Evaluation Finish\n",
      "37: Data Load Finish, Predict Finish, 3.8254 3.807 0.0531 0.9466 Evaluation Finish\n",
      "38: Data Load Finish, Predict Finish, 7.5826 7.5728 0.1056 0.8942 Evaluation Finish\n",
      "39: Data Load Finish, Predict Finish, 5.4462 5.4331 0.0758 0.924 Evaluation Finish\n",
      "40: Data Load Finish, Predict Finish, 4.3149 4.2986 0.0599 0.9398 Evaluation Finish\n",
      "41: Data Load Finish, Predict Finish, 5.2846 5.2706 0.0735 0.9263 Evaluation Finish\n",
      "42: Data Load Finish, Predict Finish, 5.7737 5.761 0.0803 0.9195 Evaluation Finish\n",
      "43: Data Load Finish, Predict Finish, 5.4789 5.4628 0.0762 0.9236 Evaluation Finish\n",
      "44: Data Load Finish, Predict Finish, 4.755 4.7408 0.0661 0.9337 Evaluation Finish\n",
      "45: Data Load Finish, Predict Finish, 4.1462 4.1274 0.0575 0.9422 Evaluation Finish\n",
      "46: Data Load Finish, Predict Finish, 8.6373 8.6299 0.1203 0.8795 Evaluation Finish\n",
      "47: Data Load Finish, Predict Finish, 3.0816 3.0578 0.0426 0.957 Evaluation Finish\n",
      "48: Data Load Finish, Predict Finish, 4.3592 4.3426 0.0605 0.9392 Evaluation Finish\n",
      "49: Data Load Finish, Predict Finish, 3.822 3.8036 0.053 0.9467 Evaluation Finish\n",
      "50: Data Load Finish, Predict Finish, 7.112 7.1027 0.099 0.9008 Evaluation Finish\n",
      "51: Data Load Finish, Predict Finish, 1.6239 1.5774 0.022 0.9774 Evaluation Finish\n",
      "52: Data Load Finish, Predict Finish, 2.664 2.6387 0.0368 0.9628 Evaluation Finish\n",
      "53: Data Load Finish, "
     ]
    },
    {
     "name": "stderr",
     "output_type": "stream",
     "text": [
      "/home/vislab/anaconda3/envs/cctv/lib/python3.7/site-packages/pandas/core/arraylike.py:364: RuntimeWarning: divide by zero encountered in log\n",
      "  result = getattr(ufunc, method)(*inputs, **kwargs)\n",
      "/home/vislab/anaconda3/envs/cctv/lib/python3.7/site-packages/statsmodels/base/model.py:606: ConvergenceWarning: Maximum Likelihood optimization failed to converge. Check mle_retvals\n",
      "  ConvergenceWarning)\n"
     ]
    },
    {
     "name": "stdout",
     "output_type": "stream",
     "text": [
      "Predict Finish, 70.7009 70.7 0.9861 0.0139 Evaluation Finish\n",
      "54: Data Load Finish, Predict Finish, 4.344 4.3275 0.0603 0.9394 Evaluation Finish\n",
      "55: Data Load Finish, "
     ]
    },
    {
     "name": "stderr",
     "output_type": "stream",
     "text": [
      "/home/vislab/anaconda3/envs/cctv/lib/python3.7/site-packages/pandas/core/arraylike.py:364: RuntimeWarning: divide by zero encountered in log\n",
      "  result = getattr(ufunc, method)(*inputs, **kwargs)\n",
      "/home/vislab/anaconda3/envs/cctv/lib/python3.7/site-packages/statsmodels/base/model.py:606: ConvergenceWarning: Maximum Likelihood optimization failed to converge. Check mle_retvals\n",
      "  ConvergenceWarning)\n"
     ]
    },
    {
     "name": "stdout",
     "output_type": "stream",
     "text": [
      "Predict Finish, 70.7009 70.7 0.9861 0.0139 Evaluation Finish\n",
      "56: Data Load Finish, Predict Finish, 0.4348 0.4092 0.0057 0.9939 Evaluation Finish\n",
      "57: Data Load Finish, "
     ]
    },
    {
     "name": "stderr",
     "output_type": "stream",
     "text": [
      "/home/vislab/anaconda3/envs/cctv/lib/python3.7/site-packages/pandas/core/arraylike.py:364: RuntimeWarning: divide by zero encountered in log\n",
      "  result = getattr(ufunc, method)(*inputs, **kwargs)\n",
      "/home/vislab/anaconda3/envs/cctv/lib/python3.7/site-packages/statsmodels/base/model.py:606: ConvergenceWarning: Maximum Likelihood optimization failed to converge. Check mle_retvals\n",
      "  ConvergenceWarning)\n"
     ]
    },
    {
     "name": "stdout",
     "output_type": "stream",
     "text": [
      "Predict Finish, 70.7009 70.7 0.9861 0.0139 Evaluation Finish\n",
      "58: Data Load Finish, "
     ]
    },
    {
     "name": "stderr",
     "output_type": "stream",
     "text": [
      "/home/vislab/anaconda3/envs/cctv/lib/python3.7/site-packages/pandas/core/arraylike.py:364: RuntimeWarning: divide by zero encountered in log\n",
      "  result = getattr(ufunc, method)(*inputs, **kwargs)\n",
      "/home/vislab/anaconda3/envs/cctv/lib/python3.7/site-packages/statsmodels/base/model.py:606: ConvergenceWarning: Maximum Likelihood optimization failed to converge. Check mle_retvals\n",
      "  ConvergenceWarning)\n"
     ]
    },
    {
     "name": "stdout",
     "output_type": "stream",
     "text": [
      "Predict Finish, 70.7009 70.7 0.9861 0.0139 Evaluation Finish\n",
      "59: Data Load Finish, "
     ]
    },
    {
     "name": "stderr",
     "output_type": "stream",
     "text": [
      "/home/vislab/anaconda3/envs/cctv/lib/python3.7/site-packages/pandas/core/arraylike.py:364: RuntimeWarning: divide by zero encountered in log\n",
      "  result = getattr(ufunc, method)(*inputs, **kwargs)\n",
      "/home/vislab/anaconda3/envs/cctv/lib/python3.7/site-packages/statsmodels/base/model.py:606: ConvergenceWarning: Maximum Likelihood optimization failed to converge. Check mle_retvals\n",
      "  ConvergenceWarning)\n"
     ]
    },
    {
     "name": "stdout",
     "output_type": "stream",
     "text": [
      "Predict Finish, 70.7009 70.7 0.9861 0.0139 Evaluation Finish\n",
      "60: Data Load Finish, Predict Finish, 4.6348 4.6195 0.0644 0.9354 Evaluation Finish\n",
      "61: Data Load Finish, "
     ]
    },
    {
     "name": "stderr",
     "output_type": "stream",
     "text": [
      "/home/vislab/anaconda3/envs/cctv/lib/python3.7/site-packages/pandas/core/arraylike.py:364: RuntimeWarning: divide by zero encountered in log\n",
      "  result = getattr(ufunc, method)(*inputs, **kwargs)\n",
      "/home/vislab/anaconda3/envs/cctv/lib/python3.7/site-packages/statsmodels/base/model.py:606: ConvergenceWarning: Maximum Likelihood optimization failed to converge. Check mle_retvals\n",
      "  ConvergenceWarning)\n"
     ]
    },
    {
     "name": "stdout",
     "output_type": "stream",
     "text": [
      "Predict Finish, 70.7009 70.7 0.9861 0.0139 Evaluation Finish\n",
      "62: Data Load Finish, Predict Finish, 4.0569 4.0392 0.0563 0.9434 Evaluation Finish\n",
      "63: Data Load Finish, Predict Finish, 5.4972 5.4836 0.0765 0.9233 Evaluation Finish\n",
      "64: Data Load Finish, Predict Finish, 7.4985 7.4892 0.1044 0.8954 Evaluation Finish\n",
      "65: Data Load Finish, Predict Finish, 3.7348 3.7024 0.0516 0.9479 Evaluation Finish\n",
      "66: Data Load Finish, Predict Finish, 9.3914 9.3834 0.1308 0.869 Evaluation Finish\n",
      "67: Data Load Finish, Predict Finish, 8.1368 8.1286 0.1133 0.8865 Evaluation Finish\n",
      "68: Data Load Finish, Predict Finish, 2.7641 2.7329 0.0381 0.9614 Evaluation Finish\n",
      "69: Data Load Finish, Predict Finish, 7.0067 6.9973 0.0976 0.9023 Evaluation Finish\n",
      "70: Data Load Finish, Predict Finish, 5.0957 5.0828 0.0709 0.9289 Evaluation Finish\n",
      "71: Data Load Finish, Predict Finish, 8.1949 8.1869 0.1142 0.8857 Evaluation Finish\n",
      "72: Data Load Finish, Predict Finish, 4.7659 4.7493 0.0662 0.9335 Evaluation Finish\n",
      "73: Data Load Finish, Predict Finish, 5.0472 5.0317 0.0702 0.9296 Evaluation Finish\n",
      "74: Data Load Finish, Predict Finish, 10.3329 10.3265 0.144 0.8559 Evaluation Finish\n",
      "75: Data Load Finish, Predict Finish, 4.5718 4.5569 0.0635 0.9362 Evaluation Finish\n",
      "76: Data Load Finish, Predict Finish, 1.204 1.106 0.0154 0.9832 Evaluation Finish\n",
      "77: Data Load Finish, Predict Finish, 4.6051 4.59 0.064 0.9358 Evaluation Finish\n",
      "78: Data Load Finish, Predict Finish, 3.3033 3.2823 0.0458 0.9539 Evaluation Finish\n",
      "79: Data Load Finish, Predict Finish, 2.1286 2.0956 0.0292 0.9703 Evaluation Finish\n",
      "80: Data Load Finish, Predict Finish, 6.4903 6.4778 0.0903 0.9095 Evaluation Finish\n",
      "81: Data Load Finish, Predict Finish, 2.8695 2.8442 0.0396 0.96 Evaluation Finish\n",
      "82: Data Load Finish, Predict Finish, 2.9225 2.8985 0.0404 0.9592 Evaluation Finish\n",
      "83: Data Load Finish, Predict Finish, 5.0509 5.0276 0.0701 0.9296 Evaluation Finish\n",
      "84: Data Load Finish, Predict Finish, 2.0708 2.0328 0.0283 0.9711 Evaluation Finish\n",
      "85: Data Load Finish, Predict Finish, 7.4054 7.3965 0.1031 0.8967 Evaluation Finish\n",
      "86: Data Load Finish, Predict Finish, 6.664 6.6538 0.0928 0.9071 Evaluation Finish\n",
      "87: Data Load Finish, Predict Finish, 3.3192 3.2963 0.0459 0.9537 Evaluation Finish\n",
      "88: Data Load Finish, Predict Finish, 7.7957 7.7861 0.1086 0.8913 Evaluation Finish\n",
      "89: Data Load Finish, Predict Finish, 3.9888 3.9715 0.0554 0.9444 Evaluation Finish\n",
      "90: Data Load Finish, "
     ]
    },
    {
     "name": "stderr",
     "output_type": "stream",
     "text": [
      "/home/vislab/anaconda3/envs/cctv/lib/python3.7/site-packages/pandas/core/arraylike.py:364: RuntimeWarning: divide by zero encountered in log\n",
      "  result = getattr(ufunc, method)(*inputs, **kwargs)\n",
      "/home/vislab/anaconda3/envs/cctv/lib/python3.7/site-packages/statsmodels/base/model.py:606: ConvergenceWarning: Maximum Likelihood optimization failed to converge. Check mle_retvals\n",
      "  ConvergenceWarning)\n"
     ]
    },
    {
     "name": "stdout",
     "output_type": "stream",
     "text": [
      "Predict Finish, 70.7009 70.7 0.9861 0.0139 Evaluation Finish\n",
      "91: Data Load Finish, Predict Finish, 15.4909 15.4869 0.216 0.784 Evaluation Finish\n",
      "92: Data Load Finish, Predict Finish, 2.9636 2.9408 0.041 0.9587 Evaluation Finish\n",
      "93: Data Load Finish, Predict Finish, 4.5048 4.4881 0.0626 0.9372 Evaluation Finish\n",
      "94: Data Load Finish, "
     ]
    },
    {
     "name": "stderr",
     "output_type": "stream",
     "text": [
      "/home/vislab/anaconda3/envs/cctv/lib/python3.7/site-packages/pandas/core/arraylike.py:364: RuntimeWarning: divide by zero encountered in log\n",
      "  result = getattr(ufunc, method)(*inputs, **kwargs)\n",
      "/home/vislab/anaconda3/envs/cctv/lib/python3.7/site-packages/statsmodels/base/model.py:606: ConvergenceWarning: Maximum Likelihood optimization failed to converge. Check mle_retvals\n",
      "  ConvergenceWarning)\n"
     ]
    },
    {
     "name": "stdout",
     "output_type": "stream",
     "text": [
      "Predict Finish, 70.7009 70.7 0.9861 0.0139 Evaluation Finish\n",
      "95: Data Load Finish, Predict Finish, 4.8747 4.8607 0.0678 0.932 Evaluation Finish\n",
      "96: Data Load Finish, Predict Finish, 9.7046 9.6978 0.1352 0.8647 Evaluation Finish\n",
      "97: Data Load Finish, Predict Finish, 2.8971 2.8692 0.04 0.9596 Evaluation Finish\n",
      "98: Data Load Finish, Predict Finish, 10.0634 10.0569 0.1402 0.8596 Evaluation Finish\n",
      "99: Data Load Finish, Predict Finish, 2.2136 2.1797 0.0304 0.9691 Evaluation Finish\n",
      "100: Data Load Finish, Predict Finish, 4.6077 4.584 0.0639 0.9357 Evaluation Finish\n",
      "101: Data Load Finish, Predict Finish, 4.7284 4.7135 0.0657 0.9341 Evaluation Finish\n",
      "102: Data Load Finish, Predict Finish, 1.1196 1.0396 0.0145 0.9844 Evaluation Finish\n",
      "103: Data Load Finish, Predict Finish, 1.5275 1.478 0.0206 0.9787 Evaluation Finish\n",
      "104: Data Load Finish, Predict Finish, 7.3406 7.3229 0.1021 0.8976 Evaluation Finish\n",
      "105: Data Load Finish, Predict Finish, 2.9628 2.94 0.041 0.9587 Evaluation Finish\n",
      "106: Data Load Finish, Predict Finish, 4.1793 4.1617 0.058 0.9417 Evaluation Finish\n",
      "107: Data Load Finish, Predict Finish, 1.9048 1.8685 0.026 0.9734 Evaluation Finish\n",
      "108: Data Load Finish, Predict Finish, 2.6335 2.6067 0.0363 0.9633 Evaluation Finish\n",
      "109: Data Load Finish, Predict Finish, 0.682 0.5543 0.0078 0.9905 Evaluation Finish\n",
      "110: Data Load Finish, Predict Finish, 4.6029 4.5878 0.064 0.9358 Evaluation Finish\n",
      "111: Data Load Finish, Predict Finish, 3.5797 3.5616 0.0496 0.9501 Evaluation Finish\n",
      "112: Data Load Finish, Predict Finish, 3.4075 3.3871 0.0472 0.9525 Evaluation Finish\n",
      "113: Data Load Finish, Predict Finish, 4.7988 4.7843 0.0667 0.9331 Evaluation Finish\n",
      "114: Data Load Finish, Predict Finish, 2.9544 2.9301 0.0408 0.9588 Evaluation Finish\n",
      "115: Data Load Finish, Predict Finish, 8.7183 8.7107 0.1215 0.8784 Evaluation Finish\n",
      "116: Data Load Finish, Predict Finish, 9.1534 9.146 0.1275 0.8723 Evaluation Finish\n",
      "117: Data Load Finish, Predict Finish, 4.1403 4.1248 0.0575 0.9423 Evaluation Finish\n",
      "118: Data Load Finish, Predict Finish, 2.8853 2.8598 0.0399 0.9598 Evaluation Finish\n",
      "119: Data Load Finish, Predict Finish, 3.9704 3.9532 0.0551 0.9446 Evaluation Finish\n",
      "120: Data Load Finish, Predict Finish, 4.2427 4.2259 0.0589 0.9408 Evaluation Finish\n",
      "121: Data Load Finish, Predict Finish, 3.4324 3.4118 0.0476 0.9521 Evaluation Finish\n",
      "122: Data Load Finish, Predict Finish, 1.6843 1.6371 0.0228 0.9765 Evaluation Finish\n",
      "123: Data Load Finish, Predict Finish, 5.6011 5.5894 0.0779 0.9219 Evaluation Finish\n",
      "124: Data Load Finish, Predict Finish, 3.3384 3.3184 0.0463 0.9534 Evaluation Finish\n",
      "125: Data Load Finish, Predict Finish, 7.2409 7.2323 0.1008 0.899 Evaluation Finish\n",
      "126: Data Load Finish, Predict Finish, 6.1984 6.1872 0.0863 0.9136 Evaluation Finish\n",
      "127: Data Load Finish, Predict Finish, 7.5253 7.5165 0.1048 0.895 Evaluation Finish\n",
      "128: Data Load Finish, Predict Finish, 4.9746 4.9598 0.0692 0.9306 Evaluation Finish\n",
      "129: Data Load Finish, Predict Finish, 4.762 4.7478 0.0662 0.9336 Evaluation Finish\n",
      "130: Data Load Finish, Predict Finish, 4.8808 4.8657 0.0678 0.9319 Evaluation Finish\n",
      "131: Data Load Finish, Predict Finish, 5.5216 5.5096 0.0768 0.923 Evaluation Finish\n",
      "132: Data Load Finish, "
     ]
    },
    {
     "name": "stderr",
     "output_type": "stream",
     "text": [
      "/home/vislab/anaconda3/envs/cctv/lib/python3.7/site-packages/pandas/core/arraylike.py:364: RuntimeWarning: divide by zero encountered in log\n",
      "  result = getattr(ufunc, method)(*inputs, **kwargs)\n",
      "/home/vislab/anaconda3/envs/cctv/lib/python3.7/site-packages/statsmodels/base/model.py:606: ConvergenceWarning: Maximum Likelihood optimization failed to converge. Check mle_retvals\n",
      "  ConvergenceWarning)\n"
     ]
    },
    {
     "name": "stdout",
     "output_type": "stream",
     "text": [
      "Predict Finish, 70.7009 70.7 0.9861 0.0139 Evaluation Finish\n",
      "133: Data Load Finish, Predict Finish, 15.1577 15.1529 0.2113 0.7886 Evaluation Finish\n",
      "134: Data Load Finish, Predict Finish, 3.1019 3.0575 0.0426 0.9567 Evaluation Finish\n",
      "135: Data Load Finish, Predict Finish, 3.9042 3.885 0.0542 0.9455 Evaluation Finish\n",
      "136: Data Load Finish, Predict Finish, 0.3927 0.3084 0.0043 0.9945 Evaluation Finish\n",
      "137: Data Load Finish, Predict Finish, 5.2295 5.2167 0.0727 0.9271 Evaluation Finish\n",
      "138: Data Load Finish, "
     ]
    },
    {
     "name": "stderr",
     "output_type": "stream",
     "text": [
      "/home/vislab/anaconda3/envs/cctv/lib/python3.7/site-packages/pandas/core/arraylike.py:364: RuntimeWarning: divide by zero encountered in log\n",
      "  result = getattr(ufunc, method)(*inputs, **kwargs)\n",
      "/home/vislab/anaconda3/envs/cctv/lib/python3.7/site-packages/statsmodels/base/model.py:606: ConvergenceWarning: Maximum Likelihood optimization failed to converge. Check mle_retvals\n",
      "  ConvergenceWarning)\n"
     ]
    },
    {
     "name": "stdout",
     "output_type": "stream",
     "text": [
      "Predict Finish, 70.7009 70.7 0.9861 0.0139 Evaluation Finish\n",
      "139: Data Load Finish, "
     ]
    },
    {
     "name": "stderr",
     "output_type": "stream",
     "text": [
      "/home/vislab/anaconda3/envs/cctv/lib/python3.7/site-packages/pandas/core/arraylike.py:364: RuntimeWarning: divide by zero encountered in log\n",
      "  result = getattr(ufunc, method)(*inputs, **kwargs)\n",
      "/home/vislab/anaconda3/envs/cctv/lib/python3.7/site-packages/statsmodels/base/model.py:606: ConvergenceWarning: Maximum Likelihood optimization failed to converge. Check mle_retvals\n",
      "  ConvergenceWarning)\n"
     ]
    },
    {
     "name": "stdout",
     "output_type": "stream",
     "text": [
      "Predict Finish, 70.7009 70.7 0.9861 0.0139 Evaluation Finish\n",
      "140: Data Load Finish, Predict Finish, 4.8944 4.8802 0.068 0.9317 Evaluation Finish\n",
      "141: Data Load Finish, Predict Finish, 1.5417 1.4958 0.0208 0.9785 Evaluation Finish\n",
      "142: Data Load Finish, Predict Finish, 1.2514 1.1944 0.0166 0.9825 Evaluation Finish\n",
      "143: Data Load Finish, Predict Finish, 4.9971 4.984 0.0695 0.9303 Evaluation Finish\n",
      "144: Data Load Finish, Predict Finish, 3.0407 3.0154 0.042 0.9576 Evaluation Finish\n",
      "145: Data Load Finish, Predict Finish, 6.7159 6.7061 0.0935 0.9063 Evaluation Finish\n",
      "146: Data Load Finish, Predict Finish, 6.5686 6.5089 0.0907 0.9084 Evaluation Finish\n",
      "147: Data Load Finish, Predict Finish, 6.9263 6.9167 0.0964 0.9034 Evaluation Finish\n",
      "148: Data Load Finish, "
     ]
    },
    {
     "name": "stderr",
     "output_type": "stream",
     "text": [
      "/home/vislab/anaconda3/envs/cctv/lib/python3.7/site-packages/statsmodels/base/model.py:606: ConvergenceWarning: Maximum Likelihood optimization failed to converge. Check mle_retvals\n",
      "  ConvergenceWarning)\n"
     ]
    },
    {
     "name": "stdout",
     "output_type": "stream",
     "text": [
      "Predict Finish, 4.1403 4.1249 0.0575 0.9423 Evaluation Finish\n",
      "149: Data Load Finish, "
     ]
    },
    {
     "name": "stderr",
     "output_type": "stream",
     "text": [
      "/home/vislab/anaconda3/envs/cctv/lib/python3.7/site-packages/pandas/core/arraylike.py:364: RuntimeWarning: divide by zero encountered in log\n",
      "  result = getattr(ufunc, method)(*inputs, **kwargs)\n",
      "/home/vislab/anaconda3/envs/cctv/lib/python3.7/site-packages/statsmodels/base/model.py:606: ConvergenceWarning: Maximum Likelihood optimization failed to converge. Check mle_retvals\n",
      "  ConvergenceWarning)\n"
     ]
    },
    {
     "name": "stdout",
     "output_type": "stream",
     "text": [
      "Predict Finish, 70.7009 70.7 0.9861 0.0139 Evaluation Finish\n",
      "150: Data Load Finish, "
     ]
    },
    {
     "name": "stderr",
     "output_type": "stream",
     "text": [
      "/home/vislab/anaconda3/envs/cctv/lib/python3.7/site-packages/pandas/core/arraylike.py:364: RuntimeWarning: divide by zero encountered in log\n",
      "  result = getattr(ufunc, method)(*inputs, **kwargs)\n",
      "/home/vislab/anaconda3/envs/cctv/lib/python3.7/site-packages/statsmodels/base/model.py:606: ConvergenceWarning: Maximum Likelihood optimization failed to converge. Check mle_retvals\n",
      "  ConvergenceWarning)\n"
     ]
    },
    {
     "name": "stdout",
     "output_type": "stream",
     "text": [
      "Predict Finish, 70.7009 70.7 0.9861 0.0139 Evaluation Finish\n",
      "151: Data Load Finish, Predict Finish, 5.3447 5.3302 0.0743 0.9255 Evaluation Finish\n",
      "152: Data Load Finish, "
     ]
    },
    {
     "name": "stderr",
     "output_type": "stream",
     "text": [
      "/home/vislab/anaconda3/envs/cctv/lib/python3.7/site-packages/pandas/core/arraylike.py:364: RuntimeWarning: divide by zero encountered in log\n",
      "  result = getattr(ufunc, method)(*inputs, **kwargs)\n",
      "/home/vislab/anaconda3/envs/cctv/lib/python3.7/site-packages/statsmodels/base/model.py:606: ConvergenceWarning: Maximum Likelihood optimization failed to converge. Check mle_retvals\n",
      "  ConvergenceWarning)\n"
     ]
    },
    {
     "name": "stdout",
     "output_type": "stream",
     "text": [
      "Predict Finish, 70.7009 70.7 0.9861 0.0139 Evaluation Finish\n",
      "153: Data Load Finish, Predict Finish, 3.3436 3.3223 0.0463 0.9534 Evaluation Finish\n",
      "154: Data Load Finish, Predict Finish, 2.6086 2.5819 0.036 0.9636 Evaluation Finish\n",
      "155: Data Load Finish, Predict Finish, 9.3349 9.3282 0.1301 0.8698 Evaluation Finish\n",
      "156: Data Load Finish, Predict Finish, 2.2476 2.2178 0.0309 0.9687 Evaluation Finish\n",
      "157: Data Load Finish, Predict Finish, 3.7783 3.7589 0.0524 0.9473 Evaluation Finish\n",
      "158: Data Load Finish, Predict Finish, 3.5609 3.5341 0.0493 0.9503 Evaluation Finish\n",
      "159: Data Load Finish, Predict Finish, 9.8542 9.8468 0.1373 0.8626 Evaluation Finish\n",
      "160: Data Load Finish, "
     ]
    },
    {
     "name": "stderr",
     "output_type": "stream",
     "text": [
      "/home/vislab/anaconda3/envs/cctv/lib/python3.7/site-packages/pandas/core/arraylike.py:364: RuntimeWarning: divide by zero encountered in log\n",
      "  result = getattr(ufunc, method)(*inputs, **kwargs)\n",
      "/home/vislab/anaconda3/envs/cctv/lib/python3.7/site-packages/statsmodels/base/model.py:606: ConvergenceWarning: Maximum Likelihood optimization failed to converge. Check mle_retvals\n",
      "  ConvergenceWarning)\n"
     ]
    },
    {
     "name": "stdout",
     "output_type": "stream",
     "text": [
      "Predict Finish, 70.7009 70.7 0.9861 0.0139 Evaluation Finish\n",
      "161: Data Load Finish, Predict Finish, 8.4153 8.4075 0.1172 0.8826 Evaluation Finish\n",
      "162: Data Load Finish, Predict Finish, 9.3636 9.3564 0.1305 0.8694 Evaluation Finish\n",
      "163: Data Load Finish, Predict Finish, 4.5069 4.4902 0.0626 0.9371 Evaluation Finish\n",
      "164: Data Load Finish, Predict Finish, 4.2772 4.2612 0.0594 0.9403 Evaluation Finish\n",
      "165: Data Load Finish, Predict Finish, 3.6192 3.601 0.0502 0.9495 Evaluation Finish\n",
      "166: Data Load Finish, Predict Finish, 4.8805 4.8664 0.0678 0.9319 Evaluation Finish\n",
      "167: Data Load Finish, Predict Finish, 7.8627 7.8541 0.1095 0.8903 Evaluation Finish\n",
      "168: Data Load Finish, Predict Finish, 2.6705 2.6409 0.0368 0.9628 Evaluation Finish\n",
      "169: Data Load Finish, Predict Finish, 3.4681 3.443 0.048 0.9516 Evaluation Finish\n",
      "170: Data Load Finish, Predict Finish, 4.3877 4.3676 0.0609 0.9388 Evaluation Finish\n",
      "171: Data Load Finish, Predict Finish, 7.4909 7.4822 0.1043 0.8955 Evaluation Finish\n",
      "172: Data Load Finish, Predict Finish, 1.4397 1.3906 0.0194 0.9799 Evaluation Finish\n",
      "173: Data Load Finish, Predict Finish, 3.0642 3.0421 0.0424 0.9573 Evaluation Finish\n",
      "174: Data Load Finish, Predict Finish, 7.8922 7.8834 0.1099 0.8899 Evaluation Finish\n",
      "175: Data Load Finish, Predict Finish, 1.8775 1.8387 0.0256 0.9738 Evaluation Finish\n",
      "176: Data Load Finish, Predict Finish, 8.7375 8.7286 0.1217 0.8781 Evaluation Finish\n",
      "177: Data Load Finish, Predict Finish, 4.2303 4.2152 0.0588 0.941 Evaluation Finish\n",
      "178: Data Load Finish, Predict Finish, 2.3172 2.2847 0.0318 0.9677 Evaluation Finish\n",
      "179: Data Load Finish, Predict Finish, 2.5866 2.5601 0.0357 0.9639 Evaluation Finish\n",
      "180: Data Load Finish, Predict Finish, 3.5724 3.552 0.0495 0.9502 Evaluation Finish\n",
      "181: Data Load Finish, Predict Finish, 4.749 4.7349 0.066 0.9338 Evaluation Finish\n",
      "182: Data Load Finish, Predict Finish, 3.2112 3.1895 0.0445 0.9552 Evaluation Finish\n",
      "183: Data Load Finish, Predict Finish, 4.3794 4.3593 0.0608 0.9389 Evaluation Finish\n",
      "184: Data Load Finish, Predict Finish, 4.8054 4.7909 0.0668 0.933 Evaluation Finish\n",
      "185: Data Load Finish, Predict Finish, 4.2628 4.2443 0.0592 0.9405 Evaluation Finish\n",
      "186: Data Load Finish, Predict Finish, 4.1294 4.1122 0.0573 0.9424 Evaluation Finish\n",
      "187: Data Load Finish, Predict Finish, 2.8115 2.7867 0.0388 0.9608 Evaluation Finish\n",
      "188: Data Load Finish, Predict Finish, 3.1644 3.1415 0.0438 0.9559 Evaluation Finish\n",
      "189: Data Load Finish, Predict Finish, 3.2698 3.2476 0.0453 0.9544 Evaluation Finish\n",
      "190: Data Load Finish, Predict Finish, 2.6036 2.577 0.0359 0.9637 Evaluation Finish\n",
      "191: Data Load Finish, Predict Finish, 4.8689 4.8549 0.0677 0.9321 Evaluation Finish\n",
      "192: Data Load Finish, Predict Finish, 5.318 5.3048 0.074 0.9258 Evaluation Finish\n",
      "193: Data Load Finish, Predict Finish, 1.2895 1.2363 0.0172 0.982 Evaluation Finish\n",
      "194: Data Load Finish, "
     ]
    },
    {
     "name": "stderr",
     "output_type": "stream",
     "text": [
      "/home/vislab/anaconda3/envs/cctv/lib/python3.7/site-packages/pandas/core/arraylike.py:364: RuntimeWarning: divide by zero encountered in log\n",
      "  result = getattr(ufunc, method)(*inputs, **kwargs)\n",
      "/home/vislab/anaconda3/envs/cctv/lib/python3.7/site-packages/statsmodels/base/model.py:606: ConvergenceWarning: Maximum Likelihood optimization failed to converge. Check mle_retvals\n",
      "  ConvergenceWarning)\n"
     ]
    },
    {
     "name": "stdout",
     "output_type": "stream",
     "text": [
      "Predict Finish, 70.7009 70.7 0.9861 0.0139 Evaluation Finish\n",
      "195: Data Load Finish, Predict Finish, 3.4538 3.433 0.0479 0.9518 Evaluation Finish\n",
      "196: Data Load Finish, Predict Finish, 1.9379 1.9014 0.0265 0.973 Evaluation Finish\n",
      "197: Data Load Finish, Predict Finish, 4.5706 4.5557 0.0635 0.9363 Evaluation Finish\n",
      "198: Data Load Finish, Predict Finish, 4.5294 4.5018 0.0628 0.9368 Evaluation Finish\n",
      "199: Data Load Finish, "
     ]
    },
    {
     "name": "stderr",
     "output_type": "stream",
     "text": [
      "/home/vislab/anaconda3/envs/cctv/lib/python3.7/site-packages/pandas/core/arraylike.py:364: RuntimeWarning: divide by zero encountered in log\n",
      "  result = getattr(ufunc, method)(*inputs, **kwargs)\n",
      "/home/vislab/anaconda3/envs/cctv/lib/python3.7/site-packages/statsmodels/base/model.py:606: ConvergenceWarning: Maximum Likelihood optimization failed to converge. Check mle_retvals\n",
      "  ConvergenceWarning)\n"
     ]
    },
    {
     "name": "stdout",
     "output_type": "stream",
     "text": [
      "Predict Finish, 70.7009 70.7 0.9861 0.0139 Evaluation Finish\n",
      "200: Data Load Finish, Predict Finish, 2.9116 2.8858 0.0402 0.9594 Evaluation Finish\n",
      "201: Data Load Finish, Predict Finish, 3.4314 3.4091 0.0475 0.9521 Evaluation Finish\n",
      "202: Data Load Finish, Predict Finish, 6.9437 6.9333 0.0967 0.9032 Evaluation Finish\n",
      "203: Data Load Finish, Predict Finish, 6.3251 6.3139 0.088 0.9118 Evaluation Finish\n",
      "204: Data Load Finish, Predict Finish, 7.5746 7.5656 0.1055 0.8944 Evaluation Finish\n",
      "205: Data Load Finish, "
     ]
    },
    {
     "name": "stderr",
     "output_type": "stream",
     "text": [
      "/home/vislab/anaconda3/envs/cctv/lib/python3.7/site-packages/pandas/core/arraylike.py:364: RuntimeWarning: divide by zero encountered in log\n",
      "  result = getattr(ufunc, method)(*inputs, **kwargs)\n",
      "/home/vislab/anaconda3/envs/cctv/lib/python3.7/site-packages/statsmodels/base/model.py:606: ConvergenceWarning: Maximum Likelihood optimization failed to converge. Check mle_retvals\n",
      "  ConvergenceWarning)\n"
     ]
    },
    {
     "name": "stdout",
     "output_type": "stream",
     "text": [
      "Predict Finish, 70.7009 70.7 0.9861 0.0139 Evaluation Finish\n",
      "206: Data Load Finish, Predict Finish, 4.6619 4.6463 0.0648 0.935 Evaluation Finish\n",
      "207: Data Load Finish, Predict Finish, 1.0102 0.9033 0.0126 0.9859 Evaluation Finish\n",
      "208: Data Load Finish, Predict Finish, 7.5638 7.5548 0.1053 0.8945 Evaluation Finish\n",
      "209: Data Load Finish, Predict Finish, 4.4391 4.4218 0.0616 0.9381 Evaluation Finish\n",
      "210: Data Load Finish, Predict Finish, 6.6898 6.6795 0.0931 0.9067 Evaluation Finish\n",
      "211: Data Load Finish, Predict Finish, 8.6075 8.6001 0.1199 0.88 Evaluation Finish\n",
      "212: Data Load Finish, "
     ]
    },
    {
     "name": "stderr",
     "output_type": "stream",
     "text": [
      "/home/vislab/anaconda3/envs/cctv/lib/python3.7/site-packages/statsmodels/base/model.py:606: ConvergenceWarning: Maximum Likelihood optimization failed to converge. Check mle_retvals\n",
      "  ConvergenceWarning)\n"
     ]
    },
    {
     "name": "stdout",
     "output_type": "stream",
     "text": [
      "Predict Finish, 3.4529 3.4282 0.0478 0.9518 Evaluation Finish\n",
      "213: Data Load Finish, Predict Finish, 7.1071 7.0982 0.099 0.9009 Evaluation Finish\n",
      "214: Data Load Finish, Predict Finish, 7.5409 7.532 0.105 0.8948 Evaluation Finish\n",
      "215: Data Load Finish, Predict Finish, 7.7135 7.7044 0.1074 0.8924 Evaluation Finish\n",
      "216: Data Load Finish, Predict Finish, 6.7933 6.7837 0.0946 0.9053 Evaluation Finish\n",
      "217: Data Load Finish, Predict Finish, 3.4852 3.4655 0.0483 0.9514 Evaluation Finish\n",
      "218: Data Load Finish, Predict Finish, 7.9629 7.9548 0.1109 0.8889 Evaluation Finish\n",
      "219: Data Load Finish, Predict Finish, 5.5428 5.5307 0.0771 0.9227 Evaluation Finish\n",
      "220: Data Load Finish, Predict Finish, 4.7943 4.7807 0.0667 0.9331 Evaluation Finish\n",
      "221: Data Load Finish, Predict Finish, 6.2563 6.2455 0.0871 0.9127 Evaluation Finish\n",
      "222: Data Load Finish, Predict Finish, 7.2457 7.2368 0.1009 0.8989 Evaluation Finish\n",
      "223: Data Load Finish, Predict Finish, 6.4466 6.4362 0.0897 0.9101 Evaluation Finish\n",
      "224: Data Load Finish, Predict Finish, 7.9306 7.9222 0.1105 0.8894 Evaluation Finish\n",
      "225: Data Load Finish, Predict Finish, 6.7441 6.7341 0.0939 0.9059 Evaluation Finish\n",
      "226: Data Load Finish, Predict Finish, 3.6681 3.6465 0.0508 0.9488 Evaluation Finish\n",
      "227: Data Load Finish, Predict Finish, 3.1192 3.0926 0.0431 0.9565 Evaluation Finish\n",
      "228: Data Load Finish, Predict Finish, 3.4414 3.4207 0.0477 0.952 Evaluation Finish\n",
      "229: Data Load Finish, Predict Finish, 5.014 5.0 0.0697 0.9301 Evaluation Finish\n",
      "230: Data Load Finish, Predict Finish, 1.3362 1.2793 0.0178 0.9814 Evaluation Finish\n",
      "231: Data Load Finish, Predict Finish, 11.401 11.3953 0.1589 0.841 Evaluation Finish\n",
      "232: Data Load Finish, Predict Finish, 1.1883 1.1266 0.0157 0.9834 Evaluation Finish\n",
      "233: Data Load Finish, Predict Finish, 0.8481 0.7649 0.0107 0.9882 Evaluation Finish\n",
      "234: Data Load Finish, "
     ]
    },
    {
     "name": "stderr",
     "output_type": "stream",
     "text": [
      "/home/vislab/anaconda3/envs/cctv/lib/python3.7/site-packages/pandas/core/arraylike.py:364: RuntimeWarning: divide by zero encountered in log\n",
      "  result = getattr(ufunc, method)(*inputs, **kwargs)\n",
      "/home/vislab/anaconda3/envs/cctv/lib/python3.7/site-packages/statsmodels/base/model.py:606: ConvergenceWarning: Maximum Likelihood optimization failed to converge. Check mle_retvals\n",
      "  ConvergenceWarning)\n"
     ]
    },
    {
     "name": "stdout",
     "output_type": "stream",
     "text": [
      "Predict Finish, 70.7009 70.7 0.9861 0.0139 Evaluation Finish\n",
      "235: Data Load Finish, Predict Finish, 4.8375 4.8228 0.0672 0.9325 Evaluation Finish\n",
      "236: Data Load Finish, Predict Finish, 3.5848 3.5657 0.0497 0.95 Evaluation Finish\n",
      "237: Data Load Finish, Predict Finish, 3.2965 3.2755 0.0457 0.954 Evaluation Finish\n",
      "238: Data Load Finish, Predict Finish, 9.3229 9.3161 0.1299 0.87 Evaluation Finish\n",
      "239: Data Load Finish, Predict Finish, 5.8181 5.8068 0.081 0.9189 Evaluation Finish\n",
      "240: Data Load Finish, Predict Finish, 7.466 7.4574 0.104 0.8959 Evaluation Finish\n",
      "241: Data Load Finish, Predict Finish, 8.6577 8.6498 0.1206 0.8793 Evaluation Finish\n",
      "242: Data Load Finish, Predict Finish, 3.4796 3.461 0.0482 0.9515 Evaluation Finish\n",
      "243: Data Load Finish, Predict Finish, 4.5496 4.5308 0.0632 0.9365 Evaluation Finish\n",
      "244: Data Load Finish, Predict Finish, 4.4219 4.406 0.0614 0.9383 Evaluation Finish\n",
      "245: Data Load Finish, Predict Finish, 3.4281 3.4059 0.0475 0.9522 Evaluation Finish\n",
      "246: Data Load Finish, Predict Finish, 5.5645 5.5523 0.0774 0.9224 Evaluation Finish\n",
      "247: Data Load Finish, Predict Finish, 6.8448 6.835 0.0953 0.9045 Evaluation Finish\n",
      "248: Data Load Finish, Predict Finish, 1.6266 1.576 0.022 0.9773 Evaluation Finish\n",
      "249: Data Load Finish, Predict Finish, 6.283 6.2721 0.0875 0.9124 Evaluation Finish\n",
      "250: Data Load Finish, Predict Finish, 5.3562 5.3427 0.0745 0.9253 Evaluation Finish\n",
      "251: Data Load Finish, Predict Finish, 9.4127 9.4056 0.1312 0.8687 Evaluation Finish\n",
      "252: Data Load Finish, Predict Finish, 7.0817 7.0725 0.0986 0.9012 Evaluation Finish\n",
      "253: Data Load Finish, Predict Finish, 0.8724 0.7888 0.011 0.9878 Evaluation Finish\n",
      "254: Data Load Finish, Predict Finish, 3.2237 3.1979 0.0446 0.955 Evaluation Finish\n",
      "255: Data Load Finish, Predict Finish, 7.4315 7.4229 0.1035 0.8964 Evaluation Finish\n",
      "256: Data Load Finish, Predict Finish, 4.7539 4.7387 0.0661 0.9337 Evaluation Finish\n",
      "257: Data Load Finish, Predict Finish, 1.2752 1.2183 0.017 0.9822 Evaluation Finish\n",
      "258: Data Load Finish, Predict Finish, 3.6446 3.625 0.0505 0.9492 Evaluation Finish\n",
      "259: Data Load Finish, Predict Finish, 3.4109 3.3889 0.0472 0.9524 Evaluation Finish\n",
      "260: Data Load Finish, Predict Finish, 4.7296 4.7161 0.0658 0.934 Evaluation Finish\n",
      "261: Data Load Finish, Predict Finish, 2.6015 2.5729 0.0359 0.9637 Evaluation Finish\n",
      "262: Data Load Finish, "
     ]
    },
    {
     "name": "stderr",
     "output_type": "stream",
     "text": [
      "/home/vislab/anaconda3/envs/cctv/lib/python3.7/site-packages/pandas/core/arraylike.py:364: RuntimeWarning: divide by zero encountered in log\n",
      "  result = getattr(ufunc, method)(*inputs, **kwargs)\n",
      "/home/vislab/anaconda3/envs/cctv/lib/python3.7/site-packages/statsmodels/base/model.py:606: ConvergenceWarning: Maximum Likelihood optimization failed to converge. Check mle_retvals\n",
      "  ConvergenceWarning)\n"
     ]
    },
    {
     "name": "stdout",
     "output_type": "stream",
     "text": [
      "Predict Finish, 70.7009 70.7 0.9861 0.0139 Evaluation Finish\n",
      "263: Data Load Finish, Predict Finish, 5.5901 5.5777 0.0778 0.922 Evaluation Finish\n",
      "264: Data Load Finish, "
     ]
    },
    {
     "name": "stderr",
     "output_type": "stream",
     "text": [
      "/home/vislab/anaconda3/envs/cctv/lib/python3.7/site-packages/pandas/core/arraylike.py:364: RuntimeWarning: divide by zero encountered in log\n",
      "  result = getattr(ufunc, method)(*inputs, **kwargs)\n",
      "/home/vislab/anaconda3/envs/cctv/lib/python3.7/site-packages/statsmodels/base/model.py:606: ConvergenceWarning: Maximum Likelihood optimization failed to converge. Check mle_retvals\n",
      "  ConvergenceWarning)\n"
     ]
    },
    {
     "name": "stdout",
     "output_type": "stream",
     "text": [
      "Predict Finish, 70.7009 70.7 0.9861 0.0139 Evaluation Finish\n",
      "265: Data Load Finish, Predict Finish, 3.0513 3.0278 0.0422 0.9574 Evaluation Finish\n",
      "266: Data Load Finish, Predict Finish, 4.1549 4.1387 0.0577 0.9421 Evaluation Finish\n",
      "267: Data Load Finish, Predict Finish, 4.6793 4.6654 0.065 0.9347 Evaluation Finish\n",
      "268: Data Load Finish, "
     ]
    },
    {
     "name": "stderr",
     "output_type": "stream",
     "text": [
      "/home/vislab/anaconda3/envs/cctv/lib/python3.7/site-packages/statsmodels/base/model.py:606: ConvergenceWarning: Maximum Likelihood optimization failed to converge. Check mle_retvals\n",
      "  ConvergenceWarning)\n"
     ]
    },
    {
     "name": "stdout",
     "output_type": "stream",
     "text": [
      "Predict Finish, 3.5954 3.5649 0.0497 0.9499 Evaluation Finish\n",
      "269: Data Load Finish, Predict Finish, 4.8971 4.883 0.0681 0.9317 Evaluation Finish\n",
      "270: Data Load Finish, Predict Finish, 5.0207 5.0067 0.0698 0.93 Evaluation Finish\n",
      "271: Data Load Finish, Predict Finish, 4.2188 4.2022 0.0586 0.9412 Evaluation Finish\n",
      "272: Data Load Finish, Predict Finish, 2.1354 2.0924 0.0292 0.9702 Evaluation Finish\n",
      "273: Data Load Finish, "
     ]
    },
    {
     "name": "stderr",
     "output_type": "stream",
     "text": [
      "/home/vislab/anaconda3/envs/cctv/lib/python3.7/site-packages/pandas/core/arraylike.py:364: RuntimeWarning: divide by zero encountered in log\n",
      "  result = getattr(ufunc, method)(*inputs, **kwargs)\n",
      "/home/vislab/anaconda3/envs/cctv/lib/python3.7/site-packages/statsmodels/base/model.py:606: ConvergenceWarning: Maximum Likelihood optimization failed to converge. Check mle_retvals\n",
      "  ConvergenceWarning)\n"
     ]
    },
    {
     "name": "stdout",
     "output_type": "stream",
     "text": [
      "Predict Finish, 70.7009 70.7 0.9861 0.0139 Evaluation Finish\n",
      "274: Data Load Finish, Predict Finish, 4.4307 4.4133 0.0615 0.9382 Evaluation Finish\n",
      "275: Data Load Finish, Predict Finish, 4.8066 4.7876 0.0667 0.933 Evaluation Finish\n",
      "276: Data Load Finish, Predict Finish, 3.346 3.3247 0.0463 0.9533 Evaluation Finish\n",
      "277: Data Load Finish, Predict Finish, 2.842 2.8148 0.0392 0.9604 Evaluation Finish\n",
      "278: Data Load Finish, Predict Finish, 7.0342 7.0247 0.098 0.9019 Evaluation Finish\n",
      "279: Data Load Finish, Predict Finish, 5.5549 5.5418 0.0773 0.9225 Evaluation Finish\n",
      "280: Data Load Finish, Predict Finish, 3.402 3.38 0.0471 0.9526 Evaluation Finish\n",
      "281: Data Load Finish, Predict Finish, 3.4243 3.4037 0.0474 0.9522 Evaluation Finish\n",
      "282: Data Load Finish, "
     ]
    },
    {
     "name": "stderr",
     "output_type": "stream",
     "text": [
      "/home/vislab/anaconda3/envs/cctv/lib/python3.7/site-packages/pandas/core/arraylike.py:364: RuntimeWarning: divide by zero encountered in log\n",
      "  result = getattr(ufunc, method)(*inputs, **kwargs)\n",
      "/home/vislab/anaconda3/envs/cctv/lib/python3.7/site-packages/statsmodels/base/model.py:606: ConvergenceWarning: Maximum Likelihood optimization failed to converge. Check mle_retvals\n",
      "  ConvergenceWarning)\n"
     ]
    },
    {
     "name": "stdout",
     "output_type": "stream",
     "text": [
      "Predict Finish, 70.7009 70.7 0.9861 0.0139 Evaluation Finish\n",
      "283: Data Load Finish, Predict Finish, 10.8278 10.8219 0.1509 0.849 Evaluation Finish\n",
      "284: Data Load Finish, "
     ]
    },
    {
     "name": "stderr",
     "output_type": "stream",
     "text": [
      "/home/vislab/anaconda3/envs/cctv/lib/python3.7/site-packages/pandas/core/arraylike.py:364: RuntimeWarning: divide by zero encountered in log\n",
      "  result = getattr(ufunc, method)(*inputs, **kwargs)\n",
      "/home/vislab/anaconda3/envs/cctv/lib/python3.7/site-packages/statsmodels/base/model.py:606: ConvergenceWarning: Maximum Likelihood optimization failed to converge. Check mle_retvals\n",
      "  ConvergenceWarning)\n"
     ]
    },
    {
     "name": "stdout",
     "output_type": "stream",
     "text": [
      "Predict Finish, 70.7009 70.7 0.9861 0.0139 Evaluation Finish\n",
      "285: Data Load Finish, Predict Finish, 2.8485 2.8213 0.0393 0.9603 Evaluation Finish\n",
      "286: Data Load Finish, Predict Finish, 3.9194 3.9015 0.0544 0.9453 Evaluation Finish\n",
      "287: Data Load Finish, Predict Finish, 4.4574 4.4382 0.0619 0.9378 Evaluation Finish\n",
      "288: Data Load Finish, Predict Finish, 4.4537 4.4386 0.0619 0.9379 Evaluation Finish\n",
      "289: Data Load Finish, Predict Finish, 4.2518 4.2349 0.059 0.9407 Evaluation Finish\n",
      "290: Data Load Finish, Predict Finish, 4.21 4.1934 0.0585 0.9413 Evaluation Finish\n",
      "291: Data Load Finish, "
     ]
    },
    {
     "name": "stderr",
     "output_type": "stream",
     "text": [
      "/home/vislab/anaconda3/envs/cctv/lib/python3.7/site-packages/pandas/core/arraylike.py:364: RuntimeWarning: divide by zero encountered in log\n",
      "  result = getattr(ufunc, method)(*inputs, **kwargs)\n",
      "/home/vislab/anaconda3/envs/cctv/lib/python3.7/site-packages/statsmodels/base/model.py:606: ConvergenceWarning: Maximum Likelihood optimization failed to converge. Check mle_retvals\n",
      "  ConvergenceWarning)\n"
     ]
    },
    {
     "name": "stdout",
     "output_type": "stream",
     "text": [
      "Predict Finish, 70.7009 70.7 0.9861 0.0139 Evaluation Finish\n",
      "292: Data Load Finish, "
     ]
    },
    {
     "name": "stderr",
     "output_type": "stream",
     "text": [
      "/home/vislab/anaconda3/envs/cctv/lib/python3.7/site-packages/statsmodels/base/model.py:606: ConvergenceWarning: Maximum Likelihood optimization failed to converge. Check mle_retvals\n",
      "  ConvergenceWarning)\n"
     ]
    },
    {
     "name": "stdout",
     "output_type": "stream",
     "text": [
      "Predict Finish, 5.4857 5.384 0.0751 0.9235 Evaluation Finish\n",
      "293: Data Load Finish, Predict Finish, 7.5588 7.5374 0.1051 0.8946 Evaluation Finish\n",
      "294: Data Load Finish, Predict Finish, 4.516 4.5005 0.0627 0.937 Evaluation Finish\n",
      "295: Data Load Finish, "
     ]
    },
    {
     "name": "stderr",
     "output_type": "stream",
     "text": [
      "/home/vislab/anaconda3/envs/cctv/lib/python3.7/site-packages/pandas/core/arraylike.py:364: RuntimeWarning: divide by zero encountered in log\n",
      "  result = getattr(ufunc, method)(*inputs, **kwargs)\n",
      "/home/vislab/anaconda3/envs/cctv/lib/python3.7/site-packages/statsmodels/base/model.py:606: ConvergenceWarning: Maximum Likelihood optimization failed to converge. Check mle_retvals\n",
      "  ConvergenceWarning)\n"
     ]
    },
    {
     "name": "stdout",
     "output_type": "stream",
     "text": [
      "Predict Finish, 70.7009 70.7 0.9861 0.0139 Evaluation Finish\n",
      "296: Data Load Finish, Predict Finish, 4.6537 4.6392 0.0647 0.9351 Evaluation Finish\n",
      "297: Data Load Finish, Predict Finish, 4.6825 4.6678 0.0651 0.9347 Evaluation Finish\n",
      "298: Data Load Finish, Predict Finish, 3.0195 2.9963 0.0418 0.9579 Evaluation Finish\n",
      "299: Data Load Finish, "
     ]
    },
    {
     "name": "stderr",
     "output_type": "stream",
     "text": [
      "/home/vislab/anaconda3/envs/cctv/lib/python3.7/site-packages/pandas/core/arraylike.py:364: RuntimeWarning: divide by zero encountered in log\n",
      "  result = getattr(ufunc, method)(*inputs, **kwargs)\n",
      "/home/vislab/anaconda3/envs/cctv/lib/python3.7/site-packages/statsmodels/base/model.py:606: ConvergenceWarning: Maximum Likelihood optimization failed to converge. Check mle_retvals\n",
      "  ConvergenceWarning)\n"
     ]
    },
    {
     "name": "stdout",
     "output_type": "stream",
     "text": [
      "Predict Finish, 70.7009 70.7 0.9861 0.0139 Evaluation Finish\n",
      "300: Data Load Finish, Predict Finish, 3.7662 3.7452 0.0522 0.9475 Evaluation Finish\n",
      "301: Data Load Finish, Predict Finish, 7.1978 7.1881 0.1002 0.8996 Evaluation Finish\n",
      "302: Data Load Finish, Predict Finish, 3.9224 3.9011 0.0544 0.9453 Evaluation Finish\n",
      "303: Data Load Finish, Predict Finish, 4.4207 4.4019 0.0614 0.9383 Evaluation Finish\n",
      "304: Data Load Finish, Predict Finish, 3.8421 3.8176 0.0532 0.9464 Evaluation Finish\n",
      "305: Data Load Finish, Predict Finish, 5.4489 5.4331 0.0758 0.924 Evaluation Finish\n",
      "306: Data Load Finish, "
     ]
    },
    {
     "name": "stderr",
     "output_type": "stream",
     "text": [
      "/home/vislab/anaconda3/envs/cctv/lib/python3.7/site-packages/pandas/core/arraylike.py:364: RuntimeWarning: divide by zero encountered in log\n",
      "  result = getattr(ufunc, method)(*inputs, **kwargs)\n",
      "/home/vislab/anaconda3/envs/cctv/lib/python3.7/site-packages/statsmodels/base/model.py:606: ConvergenceWarning: Maximum Likelihood optimization failed to converge. Check mle_retvals\n",
      "  ConvergenceWarning)\n"
     ]
    },
    {
     "name": "stdout",
     "output_type": "stream",
     "text": [
      "Predict Finish, 70.7009 70.7 0.9861 0.0139 Evaluation Finish\n",
      "307: Data Load Finish, Predict Finish, 4.37 4.3518 0.0607 0.9391 Evaluation Finish\n",
      "308: Data Load Finish, Predict Finish, 6.9588 6.9302 0.0966 0.9029 Evaluation Finish\n",
      "309: Data Load Finish, Predict Finish, 2.1356 2.1025 0.0293 0.9702 Evaluation Finish\n",
      "310: Data Load Finish, Predict Finish, 6.834 6.8236 0.0951 0.9047 Evaluation Finish\n",
      "311: Data Load Finish, Predict Finish, 13.365 13.3603 0.1863 0.8136 Evaluation Finish\n",
      "312: Data Load Finish, Predict Finish, 3.8212 3.8028 0.053 0.9467 Evaluation Finish\n",
      "313: Data Load Finish, Predict Finish, 5.3765 5.3616 0.0748 0.925 Evaluation Finish\n",
      "314: Data Load Finish, Predict Finish, 4.3466 4.3301 0.0604 0.9394 Evaluation Finish\n",
      "315: Data Load Finish, Predict Finish, 6.5837 6.5742 0.0917 0.9082 Evaluation Finish\n",
      "316: Data Load Finish, Predict Finish, 4.6146 4.5994 0.0641 0.9356 Evaluation Finish\n",
      "317: Data Load Finish, Predict Finish, 6.9625 6.9532 0.097 0.9029 Evaluation Finish\n",
      "318: Data Load Finish, Predict Finish, 10.926 10.9202 0.1523 0.8476 Evaluation Finish\n",
      "319: Data Load Finish, Predict Finish, 2.249 2.2146 0.0309 0.9686 Evaluation Finish\n",
      "320: Data Load Finish, Predict Finish, 9.666 9.659 0.1347 0.8652 Evaluation Finish\n",
      "321: Data Load Finish, Predict Finish, 2.4662 2.4387 0.034 0.9656 Evaluation Finish\n",
      "322: Data Load Finish, Predict Finish, 3.3514 3.3299 0.0464 0.9533 Evaluation Finish\n",
      "323: Data Load Finish, Predict Finish, 0.6215 0.4791 0.0067 0.9913 Evaluation Finish\n",
      "324: Data Load Finish, Predict Finish, 3.6086 3.5877 0.05 0.9497 Evaluation Finish\n",
      "RMSE: 11.40142654439125, MAE: 11.382278399887607, MAPE: 0.1587276848765658\n",
      "ACC: 0.8409862470459659\n"
     ]
    }
   ],
   "source": [
    "predictARIMA(df, idx, 3)"
   ]
  },
  {
   "cell_type": "markdown",
   "id": "8624171f",
   "metadata": {},
   "source": [
    "### Unobserved Nodes = 20%"
   ]
  },
  {
   "cell_type": "code",
   "execution_count": 14,
   "id": "a8313c43",
   "metadata": {},
   "outputs": [
    {
     "name": "stdout",
     "output_type": "stream",
     "text": [
      "52116 325\n"
     ]
    },
    {
     "data": {
      "text/plain": [
       "3387540"
      ]
     },
     "execution_count": 14,
     "metadata": {},
     "output_type": "execute_result"
    }
   ],
   "source": [
    "df, idx = csvIndexToDatetime(path_20, start, freq)\n",
    "(df == 0).sum().sum()"
   ]
  },
  {
   "cell_type": "code",
   "execution_count": 15,
   "id": "5ce0fefa",
   "metadata": {
    "scrolled": false
   },
   "outputs": [
    {
     "name": "stdout",
     "output_type": "stream",
     "text": [
      "0: Data Load Finish, Predict Finish, 0.6938 0.5854 0.0081 0.9903 Evaluation Finish\n",
      "1: Data Load Finish, Predict Finish, 5.2527 5.2399 0.0731 0.9267 Evaluation Finish\n",
      "2: Data Load Finish, Predict Finish, 3.6214 3.5933 0.0501 0.9495 Evaluation Finish\n",
      "3: Data Load Finish, Predict Finish, 10.784 10.7782 0.1503 0.8496 Evaluation Finish\n",
      "4: Data Load Finish, Predict Finish, 9.7803 9.7737 0.1363 0.8636 Evaluation Finish\n",
      "5: Data Load Finish, Predict Finish, 5.6843 5.6722 0.0791 0.9207 Evaluation Finish\n",
      "6: Data Load Finish, Predict Finish, 5.6713 5.6558 0.0789 0.9209 Evaluation Finish\n",
      "7: Data Load Finish, Predict Finish, 3.7492 3.7301 0.052 0.9477 Evaluation Finish\n",
      "8: Data Load Finish, "
     ]
    },
    {
     "name": "stderr",
     "output_type": "stream",
     "text": [
      "/home/vislab/anaconda3/envs/cctv/lib/python3.7/site-packages/pandas/core/arraylike.py:364: RuntimeWarning: divide by zero encountered in log\n",
      "  result = getattr(ufunc, method)(*inputs, **kwargs)\n",
      "/home/vislab/anaconda3/envs/cctv/lib/python3.7/site-packages/statsmodels/base/model.py:606: ConvergenceWarning: Maximum Likelihood optimization failed to converge. Check mle_retvals\n",
      "  ConvergenceWarning)\n"
     ]
    },
    {
     "name": "stdout",
     "output_type": "stream",
     "text": [
      "Predict Finish, 70.7009 70.7 0.9861 0.0139 Evaluation Finish\n",
      "9: Data Load Finish, Predict Finish, 2.7983 2.7737 0.0387 0.961 Evaluation Finish\n",
      "10: Data Load Finish, Predict Finish, 3.4245 3.4039 0.0475 0.9522 Evaluation Finish\n",
      "11: Data Load Finish, "
     ]
    },
    {
     "name": "stderr",
     "output_type": "stream",
     "text": [
      "/home/vislab/anaconda3/envs/cctv/lib/python3.7/site-packages/pandas/core/arraylike.py:364: RuntimeWarning: divide by zero encountered in log\n",
      "  result = getattr(ufunc, method)(*inputs, **kwargs)\n",
      "/home/vislab/anaconda3/envs/cctv/lib/python3.7/site-packages/statsmodels/base/model.py:606: ConvergenceWarning: Maximum Likelihood optimization failed to converge. Check mle_retvals\n",
      "  ConvergenceWarning)\n"
     ]
    },
    {
     "name": "stdout",
     "output_type": "stream",
     "text": [
      "Predict Finish, 70.7009 70.7 0.9861 0.0139 Evaluation Finish\n",
      "12: Data Load Finish, Predict Finish, 4.9417 4.9273 0.0687 0.9311 Evaluation Finish\n",
      "13: Data Load Finish, Predict Finish, 1.6409 1.5726 0.0219 0.9771 Evaluation Finish\n",
      "14: Data Load Finish, Predict Finish, 4.7253 4.7112 0.0657 0.9341 Evaluation Finish\n",
      "15: Data Load Finish, Predict Finish, 3.1602 3.1373 0.0437 0.9559 Evaluation Finish\n",
      "16: Data Load Finish, Predict Finish, 3.9211 3.9018 0.0544 0.9453 Evaluation Finish\n",
      "17: Data Load Finish, Predict Finish, 3.8353 3.8153 0.0532 0.9465 Evaluation Finish\n",
      "18: Data Load Finish, Predict Finish, 3.8476 3.8309 0.0534 0.9463 Evaluation Finish\n",
      "19: Data Load Finish, Predict Finish, 5.3051 5.2896 0.0737 0.926 Evaluation Finish\n",
      "20: Data Load Finish, Predict Finish, 4.2668 4.2497 0.0592 0.9405 Evaluation Finish\n",
      "21: Data Load Finish, "
     ]
    },
    {
     "name": "stderr",
     "output_type": "stream",
     "text": [
      "/home/vislab/anaconda3/envs/cctv/lib/python3.7/site-packages/pandas/core/arraylike.py:364: RuntimeWarning: divide by zero encountered in log\n",
      "  result = getattr(ufunc, method)(*inputs, **kwargs)\n",
      "/home/vislab/anaconda3/envs/cctv/lib/python3.7/site-packages/statsmodels/base/model.py:606: ConvergenceWarning: Maximum Likelihood optimization failed to converge. Check mle_retvals\n",
      "  ConvergenceWarning)\n"
     ]
    },
    {
     "name": "stdout",
     "output_type": "stream",
     "text": [
      "Predict Finish, 70.7009 70.7 0.9861 0.0139 Evaluation Finish\n",
      "22: Data Load Finish, Predict Finish, 3.9048 3.887 0.0542 0.9455 Evaluation Finish\n",
      "23: Data Load Finish, Predict Finish, 7.5719 7.5622 0.1054 0.8944 Evaluation Finish\n",
      "24: Data Load Finish, Predict Finish, 3.7875 3.7703 0.0526 0.9472 Evaluation Finish\n",
      "25: Data Load Finish, "
     ]
    },
    {
     "name": "stderr",
     "output_type": "stream",
     "text": [
      "/home/vislab/anaconda3/envs/cctv/lib/python3.7/site-packages/pandas/core/arraylike.py:364: RuntimeWarning: divide by zero encountered in log\n",
      "  result = getattr(ufunc, method)(*inputs, **kwargs)\n",
      "/home/vislab/anaconda3/envs/cctv/lib/python3.7/site-packages/statsmodels/base/model.py:606: ConvergenceWarning: Maximum Likelihood optimization failed to converge. Check mle_retvals\n",
      "  ConvergenceWarning)\n"
     ]
    },
    {
     "name": "stdout",
     "output_type": "stream",
     "text": [
      "Predict Finish, 70.7009 70.7 0.9861 0.0139 Evaluation Finish\n",
      "26: Data Load Finish, "
     ]
    },
    {
     "name": "stderr",
     "output_type": "stream",
     "text": [
      "/home/vislab/anaconda3/envs/cctv/lib/python3.7/site-packages/pandas/core/arraylike.py:364: RuntimeWarning: divide by zero encountered in log\n",
      "  result = getattr(ufunc, method)(*inputs, **kwargs)\n",
      "/home/vislab/anaconda3/envs/cctv/lib/python3.7/site-packages/statsmodels/base/model.py:606: ConvergenceWarning: Maximum Likelihood optimization failed to converge. Check mle_retvals\n",
      "  ConvergenceWarning)\n"
     ]
    },
    {
     "name": "stdout",
     "output_type": "stream",
     "text": [
      "Predict Finish, 70.7009 70.7 0.9861 0.0139 Evaluation Finish\n",
      "27: Data Load Finish, Predict Finish, 4.0813 4.0654 0.0567 0.9431 Evaluation Finish\n",
      "28: Data Load Finish, Predict Finish, 5.9001 5.8883 0.0821 0.9177 Evaluation Finish\n",
      "29: Data Load Finish, "
     ]
    },
    {
     "name": "stderr",
     "output_type": "stream",
     "text": [
      "/home/vislab/anaconda3/envs/cctv/lib/python3.7/site-packages/pandas/core/arraylike.py:364: RuntimeWarning: divide by zero encountered in log\n",
      "  result = getattr(ufunc, method)(*inputs, **kwargs)\n",
      "/home/vislab/anaconda3/envs/cctv/lib/python3.7/site-packages/statsmodels/base/model.py:606: ConvergenceWarning: Maximum Likelihood optimization failed to converge. Check mle_retvals\n",
      "  ConvergenceWarning)\n"
     ]
    },
    {
     "name": "stdout",
     "output_type": "stream",
     "text": [
      "Predict Finish, 70.7009 70.7 0.9861 0.0139 Evaluation Finish\n",
      "30: Data Load Finish, Predict Finish, 5.8176 5.8067 0.081 0.9189 Evaluation Finish\n",
      "31: Data Load Finish, Predict Finish, 6.2766 6.2663 0.0874 0.9125 Evaluation Finish\n",
      "32: Data Load Finish, Predict Finish, 2.5112 2.4835 0.0346 0.965 Evaluation Finish\n",
      "33: Data Load Finish, "
     ]
    },
    {
     "name": "stderr",
     "output_type": "stream",
     "text": [
      "/home/vislab/anaconda3/envs/cctv/lib/python3.7/site-packages/pandas/core/arraylike.py:364: RuntimeWarning: divide by zero encountered in log\n",
      "  result = getattr(ufunc, method)(*inputs, **kwargs)\n",
      "/home/vislab/anaconda3/envs/cctv/lib/python3.7/site-packages/statsmodels/base/model.py:606: ConvergenceWarning: Maximum Likelihood optimization failed to converge. Check mle_retvals\n",
      "  ConvergenceWarning)\n"
     ]
    },
    {
     "name": "stdout",
     "output_type": "stream",
     "text": [
      "Predict Finish, 70.7009 70.7 0.9861 0.0139 Evaluation Finish\n",
      "34: Data Load Finish, "
     ]
    },
    {
     "name": "stderr",
     "output_type": "stream",
     "text": [
      "/home/vislab/anaconda3/envs/cctv/lib/python3.7/site-packages/pandas/core/arraylike.py:364: RuntimeWarning: divide by zero encountered in log\n",
      "  result = getattr(ufunc, method)(*inputs, **kwargs)\n",
      "/home/vislab/anaconda3/envs/cctv/lib/python3.7/site-packages/statsmodels/base/model.py:606: ConvergenceWarning: Maximum Likelihood optimization failed to converge. Check mle_retvals\n",
      "  ConvergenceWarning)\n"
     ]
    },
    {
     "name": "stdout",
     "output_type": "stream",
     "text": [
      "Predict Finish, 70.7009 70.7 0.9861 0.0139 Evaluation Finish\n",
      "35: Data Load Finish, Predict Finish, 8.2216 8.213 0.1145 0.8853 Evaluation Finish\n",
      "36: Data Load Finish, Predict Finish, 0.8264 0.7344 0.0102 0.9885 Evaluation Finish\n",
      "37: Data Load Finish, Predict Finish, 3.8254 3.807 0.0531 0.9466 Evaluation Finish\n",
      "38: Data Load Finish, "
     ]
    },
    {
     "name": "stderr",
     "output_type": "stream",
     "text": [
      "/home/vislab/anaconda3/envs/cctv/lib/python3.7/site-packages/pandas/core/arraylike.py:364: RuntimeWarning: divide by zero encountered in log\n",
      "  result = getattr(ufunc, method)(*inputs, **kwargs)\n",
      "/home/vislab/anaconda3/envs/cctv/lib/python3.7/site-packages/statsmodels/base/model.py:606: ConvergenceWarning: Maximum Likelihood optimization failed to converge. Check mle_retvals\n",
      "  ConvergenceWarning)\n"
     ]
    },
    {
     "name": "stdout",
     "output_type": "stream",
     "text": [
      "Predict Finish, 70.7009 70.7 0.9861 0.0139 Evaluation Finish\n",
      "39: Data Load Finish, Predict Finish, 5.4462 5.4331 0.0758 0.924 Evaluation Finish\n",
      "40: Data Load Finish, Predict Finish, 4.3149 4.2986 0.0599 0.9398 Evaluation Finish\n",
      "41: Data Load Finish, "
     ]
    },
    {
     "name": "stderr",
     "output_type": "stream",
     "text": [
      "/home/vislab/anaconda3/envs/cctv/lib/python3.7/site-packages/pandas/core/arraylike.py:364: RuntimeWarning: divide by zero encountered in log\n",
      "  result = getattr(ufunc, method)(*inputs, **kwargs)\n",
      "/home/vislab/anaconda3/envs/cctv/lib/python3.7/site-packages/statsmodels/base/model.py:606: ConvergenceWarning: Maximum Likelihood optimization failed to converge. Check mle_retvals\n",
      "  ConvergenceWarning)\n"
     ]
    },
    {
     "name": "stdout",
     "output_type": "stream",
     "text": [
      "Predict Finish, 70.7009 70.7 0.9861 0.0139 Evaluation Finish\n",
      "42: Data Load Finish, Predict Finish, 5.7737 5.761 0.0803 0.9195 Evaluation Finish\n",
      "43: Data Load Finish, "
     ]
    },
    {
     "name": "stderr",
     "output_type": "stream",
     "text": [
      "/home/vislab/anaconda3/envs/cctv/lib/python3.7/site-packages/pandas/core/arraylike.py:364: RuntimeWarning: divide by zero encountered in log\n",
      "  result = getattr(ufunc, method)(*inputs, **kwargs)\n",
      "/home/vislab/anaconda3/envs/cctv/lib/python3.7/site-packages/statsmodels/base/model.py:606: ConvergenceWarning: Maximum Likelihood optimization failed to converge. Check mle_retvals\n",
      "  ConvergenceWarning)\n"
     ]
    },
    {
     "name": "stdout",
     "output_type": "stream",
     "text": [
      "Predict Finish, 70.7009 70.7 0.9861 0.0139 Evaluation Finish\n",
      "44: Data Load Finish, Predict Finish, 4.755 4.7408 0.0661 0.9337 Evaluation Finish\n",
      "45: Data Load Finish, Predict Finish, 4.1462 4.1274 0.0575 0.9422 Evaluation Finish\n",
      "46: Data Load Finish, Predict Finish, 8.6373 8.6299 0.1203 0.8795 Evaluation Finish\n",
      "47: Data Load Finish, "
     ]
    },
    {
     "name": "stderr",
     "output_type": "stream",
     "text": [
      "/home/vislab/anaconda3/envs/cctv/lib/python3.7/site-packages/pandas/core/arraylike.py:364: RuntimeWarning: divide by zero encountered in log\n",
      "  result = getattr(ufunc, method)(*inputs, **kwargs)\n",
      "/home/vislab/anaconda3/envs/cctv/lib/python3.7/site-packages/statsmodels/base/model.py:606: ConvergenceWarning: Maximum Likelihood optimization failed to converge. Check mle_retvals\n",
      "  ConvergenceWarning)\n"
     ]
    },
    {
     "name": "stdout",
     "output_type": "stream",
     "text": [
      "Predict Finish, 70.7009 70.7 0.9861 0.0139 Evaluation Finish\n",
      "48: Data Load Finish, Predict Finish, 4.3592 4.3426 0.0605 0.9392 Evaluation Finish\n",
      "49: Data Load Finish, Predict Finish, 3.822 3.8036 0.053 0.9467 Evaluation Finish\n",
      "50: Data Load Finish, Predict Finish, 7.112 7.1027 0.099 0.9008 Evaluation Finish\n",
      "51: Data Load Finish, Predict Finish, 1.6239 1.5774 0.022 0.9774 Evaluation Finish\n",
      "52: Data Load Finish, Predict Finish, 2.664 2.6387 0.0368 0.9628 Evaluation Finish\n",
      "53: Data Load Finish, Predict Finish, 5.6398 5.626 0.0784 0.9213 Evaluation Finish\n",
      "54: Data Load Finish, "
     ]
    },
    {
     "name": "stderr",
     "output_type": "stream",
     "text": [
      "/home/vislab/anaconda3/envs/cctv/lib/python3.7/site-packages/pandas/core/arraylike.py:364: RuntimeWarning: divide by zero encountered in log\n",
      "  result = getattr(ufunc, method)(*inputs, **kwargs)\n",
      "/home/vislab/anaconda3/envs/cctv/lib/python3.7/site-packages/statsmodels/base/model.py:606: ConvergenceWarning: Maximum Likelihood optimization failed to converge. Check mle_retvals\n",
      "  ConvergenceWarning)\n"
     ]
    },
    {
     "name": "stdout",
     "output_type": "stream",
     "text": [
      "Predict Finish, 70.7009 70.7 0.9861 0.0139 Evaluation Finish\n",
      "55: Data Load Finish, Predict Finish, 4.802 4.7831 0.0667 0.933 Evaluation Finish\n",
      "56: Data Load Finish, Predict Finish, 0.4348 0.4092 0.0057 0.9939 Evaluation Finish\n",
      "57: Data Load Finish, Predict Finish, 4.1226 4.1023 0.0572 0.9425 Evaluation Finish\n",
      "58: Data Load Finish, "
     ]
    },
    {
     "name": "stderr",
     "output_type": "stream",
     "text": [
      "/home/vislab/anaconda3/envs/cctv/lib/python3.7/site-packages/pandas/core/arraylike.py:364: RuntimeWarning: divide by zero encountered in log\n",
      "  result = getattr(ufunc, method)(*inputs, **kwargs)\n",
      "/home/vislab/anaconda3/envs/cctv/lib/python3.7/site-packages/statsmodels/base/model.py:606: ConvergenceWarning: Maximum Likelihood optimization failed to converge. Check mle_retvals\n",
      "  ConvergenceWarning)\n"
     ]
    },
    {
     "name": "stdout",
     "output_type": "stream",
     "text": [
      "Predict Finish, 70.7009 70.7 0.9861 0.0139 Evaluation Finish\n",
      "59: Data Load Finish, Predict Finish, 3.8074 3.7892 0.0528 0.9469 Evaluation Finish\n",
      "60: Data Load Finish, Predict Finish, 4.6348 4.6195 0.0644 0.9354 Evaluation Finish\n",
      "61: Data Load Finish, Predict Finish, 2.0777 2.0395 0.0284 0.971 Evaluation Finish\n",
      "62: Data Load Finish, Predict Finish, 4.0569 4.0392 0.0563 0.9434 Evaluation Finish\n",
      "63: Data Load Finish, Predict Finish, 5.4972 5.4836 0.0765 0.9233 Evaluation Finish\n",
      "64: Data Load Finish, Predict Finish, 7.4985 7.4892 0.1044 0.8954 Evaluation Finish\n",
      "65: Data Load Finish, Predict Finish, 3.7348 3.7024 0.0516 0.9479 Evaluation Finish\n",
      "66: Data Load Finish, Predict Finish, 9.3914 9.3834 0.1308 0.869 Evaluation Finish\n",
      "67: Data Load Finish, Predict Finish, 8.1368 8.1286 0.1133 0.8865 Evaluation Finish\n",
      "68: Data Load Finish, Predict Finish, 2.7641 2.7329 0.0381 0.9614 Evaluation Finish\n",
      "69: Data Load Finish, "
     ]
    },
    {
     "name": "stderr",
     "output_type": "stream",
     "text": [
      "/home/vislab/anaconda3/envs/cctv/lib/python3.7/site-packages/pandas/core/arraylike.py:364: RuntimeWarning: divide by zero encountered in log\n",
      "  result = getattr(ufunc, method)(*inputs, **kwargs)\n",
      "/home/vislab/anaconda3/envs/cctv/lib/python3.7/site-packages/statsmodels/base/model.py:606: ConvergenceWarning: Maximum Likelihood optimization failed to converge. Check mle_retvals\n",
      "  ConvergenceWarning)\n"
     ]
    },
    {
     "name": "stdout",
     "output_type": "stream",
     "text": [
      "Predict Finish, 70.7009 70.7 0.9861 0.0139 Evaluation Finish\n",
      "70: Data Load Finish, Predict Finish, 5.0957 5.0828 0.0709 0.9289 Evaluation Finish\n",
      "71: Data Load Finish, Predict Finish, 8.1949 8.1869 0.1142 0.8857 Evaluation Finish\n",
      "72: Data Load Finish, Predict Finish, 4.7659 4.7493 0.0662 0.9335 Evaluation Finish\n",
      "73: Data Load Finish, Predict Finish, 5.0472 5.0317 0.0702 0.9296 Evaluation Finish\n",
      "74: Data Load Finish, "
     ]
    },
    {
     "name": "stderr",
     "output_type": "stream",
     "text": [
      "/home/vislab/anaconda3/envs/cctv/lib/python3.7/site-packages/pandas/core/arraylike.py:364: RuntimeWarning: divide by zero encountered in log\n",
      "  result = getattr(ufunc, method)(*inputs, **kwargs)\n",
      "/home/vislab/anaconda3/envs/cctv/lib/python3.7/site-packages/statsmodels/base/model.py:606: ConvergenceWarning: Maximum Likelihood optimization failed to converge. Check mle_retvals\n",
      "  ConvergenceWarning)\n"
     ]
    },
    {
     "name": "stdout",
     "output_type": "stream",
     "text": [
      "Predict Finish, 70.7009 70.7 0.9861 0.0139 Evaluation Finish\n",
      "75: Data Load Finish, Predict Finish, 4.5718 4.5569 0.0635 0.9362 Evaluation Finish\n",
      "76: Data Load Finish, Predict Finish, 1.204 1.106 0.0154 0.9832 Evaluation Finish\n",
      "77: Data Load Finish, Predict Finish, 4.6051 4.59 0.064 0.9358 Evaluation Finish\n",
      "78: Data Load Finish, "
     ]
    },
    {
     "name": "stderr",
     "output_type": "stream",
     "text": [
      "/home/vislab/anaconda3/envs/cctv/lib/python3.7/site-packages/pandas/core/arraylike.py:364: RuntimeWarning: divide by zero encountered in log\n",
      "  result = getattr(ufunc, method)(*inputs, **kwargs)\n",
      "/home/vislab/anaconda3/envs/cctv/lib/python3.7/site-packages/statsmodels/base/model.py:606: ConvergenceWarning: Maximum Likelihood optimization failed to converge. Check mle_retvals\n",
      "  ConvergenceWarning)\n"
     ]
    },
    {
     "name": "stdout",
     "output_type": "stream",
     "text": [
      "Predict Finish, 70.7009 70.7 0.9861 0.0139 Evaluation Finish\n",
      "79: Data Load Finish, "
     ]
    },
    {
     "name": "stderr",
     "output_type": "stream",
     "text": [
      "/home/vislab/anaconda3/envs/cctv/lib/python3.7/site-packages/pandas/core/arraylike.py:364: RuntimeWarning: divide by zero encountered in log\n",
      "  result = getattr(ufunc, method)(*inputs, **kwargs)\n",
      "/home/vislab/anaconda3/envs/cctv/lib/python3.7/site-packages/statsmodels/base/model.py:606: ConvergenceWarning: Maximum Likelihood optimization failed to converge. Check mle_retvals\n",
      "  ConvergenceWarning)\n"
     ]
    },
    {
     "name": "stdout",
     "output_type": "stream",
     "text": [
      "Predict Finish, 70.7009 70.7 0.9861 0.0139 Evaluation Finish\n",
      "80: Data Load Finish, Predict Finish, 6.4903 6.4778 0.0903 0.9095 Evaluation Finish\n",
      "81: Data Load Finish, Predict Finish, 2.8695 2.8442 0.0396 0.96 Evaluation Finish\n",
      "82: Data Load Finish, Predict Finish, 2.9225 2.8985 0.0404 0.9592 Evaluation Finish\n",
      "83: Data Load Finish, "
     ]
    },
    {
     "name": "stderr",
     "output_type": "stream",
     "text": [
      "/home/vislab/anaconda3/envs/cctv/lib/python3.7/site-packages/pandas/core/arraylike.py:364: RuntimeWarning: divide by zero encountered in log\n",
      "  result = getattr(ufunc, method)(*inputs, **kwargs)\n",
      "/home/vislab/anaconda3/envs/cctv/lib/python3.7/site-packages/statsmodels/base/model.py:606: ConvergenceWarning: Maximum Likelihood optimization failed to converge. Check mle_retvals\n",
      "  ConvergenceWarning)\n"
     ]
    },
    {
     "name": "stdout",
     "output_type": "stream",
     "text": [
      "Predict Finish, 70.7009 70.7 0.9861 0.0139 Evaluation Finish\n",
      "84: Data Load Finish, Predict Finish, 2.0708 2.0328 0.0283 0.9711 Evaluation Finish\n",
      "85: Data Load Finish, "
     ]
    },
    {
     "name": "stderr",
     "output_type": "stream",
     "text": [
      "/home/vislab/anaconda3/envs/cctv/lib/python3.7/site-packages/pandas/core/arraylike.py:364: RuntimeWarning: divide by zero encountered in log\n",
      "  result = getattr(ufunc, method)(*inputs, **kwargs)\n",
      "/home/vislab/anaconda3/envs/cctv/lib/python3.7/site-packages/statsmodels/base/model.py:606: ConvergenceWarning: Maximum Likelihood optimization failed to converge. Check mle_retvals\n",
      "  ConvergenceWarning)\n"
     ]
    },
    {
     "name": "stdout",
     "output_type": "stream",
     "text": [
      "Predict Finish, 70.7009 70.7 0.9861 0.0139 Evaluation Finish\n",
      "86: Data Load Finish, "
     ]
    },
    {
     "name": "stderr",
     "output_type": "stream",
     "text": [
      "/home/vislab/anaconda3/envs/cctv/lib/python3.7/site-packages/pandas/core/arraylike.py:364: RuntimeWarning: divide by zero encountered in log\n",
      "  result = getattr(ufunc, method)(*inputs, **kwargs)\n",
      "/home/vislab/anaconda3/envs/cctv/lib/python3.7/site-packages/statsmodels/base/model.py:606: ConvergenceWarning: Maximum Likelihood optimization failed to converge. Check mle_retvals\n",
      "  ConvergenceWarning)\n"
     ]
    },
    {
     "name": "stdout",
     "output_type": "stream",
     "text": [
      "Predict Finish, 70.7009 70.7 0.9861 0.0139 Evaluation Finish\n",
      "87: Data Load Finish, Predict Finish, 3.3192 3.2963 0.0459 0.9537 Evaluation Finish\n",
      "88: Data Load Finish, Predict Finish, 7.7957 7.7861 0.1086 0.8913 Evaluation Finish\n",
      "89: Data Load Finish, Predict Finish, 3.9888 3.9715 0.0554 0.9444 Evaluation Finish\n",
      "90: Data Load Finish, Predict Finish, 3.5262 3.5045 0.0489 0.9508 Evaluation Finish\n",
      "91: Data Load Finish, "
     ]
    },
    {
     "name": "stderr",
     "output_type": "stream",
     "text": [
      "/home/vislab/anaconda3/envs/cctv/lib/python3.7/site-packages/pandas/core/arraylike.py:364: RuntimeWarning: divide by zero encountered in log\n",
      "  result = getattr(ufunc, method)(*inputs, **kwargs)\n",
      "/home/vislab/anaconda3/envs/cctv/lib/python3.7/site-packages/statsmodels/base/model.py:606: ConvergenceWarning: Maximum Likelihood optimization failed to converge. Check mle_retvals\n",
      "  ConvergenceWarning)\n"
     ]
    },
    {
     "name": "stdout",
     "output_type": "stream",
     "text": [
      "Predict Finish, 70.7009 70.7 0.9861 0.0139 Evaluation Finish\n",
      "92: Data Load Finish, Predict Finish, 2.9636 2.9408 0.041 0.9587 Evaluation Finish\n",
      "93: Data Load Finish, Predict Finish, 4.5048 4.4881 0.0626 0.9372 Evaluation Finish\n",
      "94: Data Load Finish, "
     ]
    },
    {
     "name": "stderr",
     "output_type": "stream",
     "text": [
      "/home/vislab/anaconda3/envs/cctv/lib/python3.7/site-packages/pandas/core/arraylike.py:364: RuntimeWarning: divide by zero encountered in log\n",
      "  result = getattr(ufunc, method)(*inputs, **kwargs)\n",
      "/home/vislab/anaconda3/envs/cctv/lib/python3.7/site-packages/statsmodels/base/model.py:606: ConvergenceWarning: Maximum Likelihood optimization failed to converge. Check mle_retvals\n",
      "  ConvergenceWarning)\n"
     ]
    },
    {
     "name": "stdout",
     "output_type": "stream",
     "text": [
      "Predict Finish, 70.7009 70.7 0.9861 0.0139 Evaluation Finish\n",
      "95: Data Load Finish, Predict Finish, 4.8747 4.8607 0.0678 0.932 Evaluation Finish\n",
      "96: Data Load Finish, Predict Finish, 9.7046 9.6978 0.1352 0.8647 Evaluation Finish\n",
      "97: Data Load Finish, Predict Finish, 2.8971 2.8692 0.04 0.9596 Evaluation Finish\n",
      "98: Data Load Finish, Predict Finish, 10.0634 10.0569 0.1402 0.8596 Evaluation Finish\n",
      "99: Data Load Finish, Predict Finish, 2.2136 2.1797 0.0304 0.9691 Evaluation Finish\n",
      "100: Data Load Finish, Predict Finish, 4.6077 4.584 0.0639 0.9357 Evaluation Finish\n",
      "101: Data Load Finish, Predict Finish, 4.7284 4.7135 0.0657 0.9341 Evaluation Finish\n",
      "102: Data Load Finish, "
     ]
    },
    {
     "name": "stderr",
     "output_type": "stream",
     "text": [
      "/home/vislab/anaconda3/envs/cctv/lib/python3.7/site-packages/pandas/core/arraylike.py:364: RuntimeWarning: divide by zero encountered in log\n",
      "  result = getattr(ufunc, method)(*inputs, **kwargs)\n",
      "/home/vislab/anaconda3/envs/cctv/lib/python3.7/site-packages/statsmodels/base/model.py:606: ConvergenceWarning: Maximum Likelihood optimization failed to converge. Check mle_retvals\n",
      "  ConvergenceWarning)\n"
     ]
    },
    {
     "name": "stdout",
     "output_type": "stream",
     "text": [
      "Predict Finish, 70.7009 70.7 0.9861 0.0139 Evaluation Finish\n",
      "103: Data Load Finish, "
     ]
    },
    {
     "name": "stderr",
     "output_type": "stream",
     "text": [
      "/home/vislab/anaconda3/envs/cctv/lib/python3.7/site-packages/pandas/core/arraylike.py:364: RuntimeWarning: divide by zero encountered in log\n",
      "  result = getattr(ufunc, method)(*inputs, **kwargs)\n",
      "/home/vislab/anaconda3/envs/cctv/lib/python3.7/site-packages/statsmodels/base/model.py:606: ConvergenceWarning: Maximum Likelihood optimization failed to converge. Check mle_retvals\n",
      "  ConvergenceWarning)\n"
     ]
    },
    {
     "name": "stdout",
     "output_type": "stream",
     "text": [
      "Predict Finish, 70.7009 70.7 0.9861 0.0139 Evaluation Finish\n",
      "104: Data Load Finish, Predict Finish, 7.3406 7.3229 0.1021 0.8976 Evaluation Finish\n",
      "105: Data Load Finish, "
     ]
    },
    {
     "name": "stderr",
     "output_type": "stream",
     "text": [
      "/home/vislab/anaconda3/envs/cctv/lib/python3.7/site-packages/pandas/core/arraylike.py:364: RuntimeWarning: divide by zero encountered in log\n",
      "  result = getattr(ufunc, method)(*inputs, **kwargs)\n",
      "/home/vislab/anaconda3/envs/cctv/lib/python3.7/site-packages/statsmodels/base/model.py:606: ConvergenceWarning: Maximum Likelihood optimization failed to converge. Check mle_retvals\n",
      "  ConvergenceWarning)\n"
     ]
    },
    {
     "name": "stdout",
     "output_type": "stream",
     "text": [
      "Predict Finish, 70.7009 70.7 0.9861 0.0139 Evaluation Finish\n",
      "106: Data Load Finish, Predict Finish, 4.1793 4.1617 0.058 0.9417 Evaluation Finish\n",
      "107: Data Load Finish, "
     ]
    },
    {
     "name": "stderr",
     "output_type": "stream",
     "text": [
      "/home/vislab/anaconda3/envs/cctv/lib/python3.7/site-packages/pandas/core/arraylike.py:364: RuntimeWarning: divide by zero encountered in log\n",
      "  result = getattr(ufunc, method)(*inputs, **kwargs)\n",
      "/home/vislab/anaconda3/envs/cctv/lib/python3.7/site-packages/statsmodels/base/model.py:606: ConvergenceWarning: Maximum Likelihood optimization failed to converge. Check mle_retvals\n",
      "  ConvergenceWarning)\n"
     ]
    },
    {
     "name": "stdout",
     "output_type": "stream",
     "text": [
      "Predict Finish, 70.7009 70.7 0.9861 0.0139 Evaluation Finish\n",
      "108: Data Load Finish, Predict Finish, 2.6335 2.6067 0.0363 0.9633 Evaluation Finish\n",
      "109: Data Load Finish, Predict Finish, 0.682 0.5543 0.0078 0.9905 Evaluation Finish\n",
      "110: Data Load Finish, "
     ]
    },
    {
     "name": "stderr",
     "output_type": "stream",
     "text": [
      "/home/vislab/anaconda3/envs/cctv/lib/python3.7/site-packages/pandas/core/arraylike.py:364: RuntimeWarning: divide by zero encountered in log\n",
      "  result = getattr(ufunc, method)(*inputs, **kwargs)\n",
      "/home/vislab/anaconda3/envs/cctv/lib/python3.7/site-packages/statsmodels/base/model.py:606: ConvergenceWarning: Maximum Likelihood optimization failed to converge. Check mle_retvals\n",
      "  ConvergenceWarning)\n"
     ]
    },
    {
     "name": "stdout",
     "output_type": "stream",
     "text": [
      "Predict Finish, 70.7009 70.7 0.9861 0.0139 Evaluation Finish\n",
      "111: Data Load Finish, Predict Finish, 3.5797 3.5616 0.0496 0.9501 Evaluation Finish\n",
      "112: Data Load Finish, Predict Finish, 3.4075 3.3871 0.0472 0.9525 Evaluation Finish\n",
      "113: Data Load Finish, Predict Finish, 4.7988 4.7843 0.0667 0.9331 Evaluation Finish\n",
      "114: Data Load Finish, Predict Finish, 2.9544 2.9301 0.0408 0.9588 Evaluation Finish\n",
      "115: Data Load Finish, Predict Finish, 8.7183 8.7107 0.1215 0.8784 Evaluation Finish\n",
      "116: Data Load Finish, Predict Finish, 9.1534 9.146 0.1275 0.8723 Evaluation Finish\n",
      "117: Data Load Finish, "
     ]
    },
    {
     "name": "stderr",
     "output_type": "stream",
     "text": [
      "/home/vislab/anaconda3/envs/cctv/lib/python3.7/site-packages/pandas/core/arraylike.py:364: RuntimeWarning: divide by zero encountered in log\n",
      "  result = getattr(ufunc, method)(*inputs, **kwargs)\n",
      "/home/vislab/anaconda3/envs/cctv/lib/python3.7/site-packages/statsmodels/base/model.py:606: ConvergenceWarning: Maximum Likelihood optimization failed to converge. Check mle_retvals\n",
      "  ConvergenceWarning)\n"
     ]
    },
    {
     "name": "stdout",
     "output_type": "stream",
     "text": [
      "Predict Finish, 70.7009 70.7 0.9861 0.0139 Evaluation Finish\n",
      "118: Data Load Finish, Predict Finish, 2.8853 2.8598 0.0399 0.9598 Evaluation Finish\n",
      "119: Data Load Finish, Predict Finish, 3.9704 3.9532 0.0551 0.9446 Evaluation Finish\n",
      "120: Data Load Finish, Predict Finish, 4.2427 4.2259 0.0589 0.9408 Evaluation Finish\n",
      "121: Data Load Finish, "
     ]
    },
    {
     "name": "stderr",
     "output_type": "stream",
     "text": [
      "/home/vislab/anaconda3/envs/cctv/lib/python3.7/site-packages/pandas/core/arraylike.py:364: RuntimeWarning: divide by zero encountered in log\n",
      "  result = getattr(ufunc, method)(*inputs, **kwargs)\n",
      "/home/vislab/anaconda3/envs/cctv/lib/python3.7/site-packages/statsmodels/base/model.py:606: ConvergenceWarning: Maximum Likelihood optimization failed to converge. Check mle_retvals\n",
      "  ConvergenceWarning)\n"
     ]
    },
    {
     "name": "stdout",
     "output_type": "stream",
     "text": [
      "Predict Finish, 70.7009 70.7 0.9861 0.0139 Evaluation Finish\n",
      "122: Data Load Finish, Predict Finish, 1.6843 1.6371 0.0228 0.9765 Evaluation Finish\n",
      "123: Data Load Finish, Predict Finish, 5.6011 5.5894 0.0779 0.9219 Evaluation Finish\n",
      "124: Data Load Finish, Predict Finish, 3.3384 3.3184 0.0463 0.9534 Evaluation Finish\n",
      "125: Data Load Finish, Predict Finish, 7.2409 7.2323 0.1008 0.899 Evaluation Finish\n",
      "126: Data Load Finish, Predict Finish, 6.1984 6.1872 0.0863 0.9136 Evaluation Finish\n",
      "127: Data Load Finish, Predict Finish, 7.5253 7.5165 0.1048 0.895 Evaluation Finish\n",
      "128: Data Load Finish, Predict Finish, 4.9746 4.9598 0.0692 0.9306 Evaluation Finish\n",
      "129: Data Load Finish, Predict Finish, 4.762 4.7478 0.0662 0.9336 Evaluation Finish\n",
      "130: Data Load Finish, Predict Finish, 4.8808 4.8657 0.0678 0.9319 Evaluation Finish\n",
      "131: Data Load Finish, Predict Finish, 5.5216 5.5096 0.0768 0.923 Evaluation Finish\n",
      "132: Data Load Finish, Predict Finish, 5.4133 5.3993 0.0753 0.9245 Evaluation Finish\n",
      "133: Data Load Finish, Predict Finish, 15.1577 15.1529 0.2113 0.7886 Evaluation Finish\n",
      "134: Data Load Finish, Predict Finish, 3.1019 3.0575 0.0426 0.9567 Evaluation Finish\n",
      "135: Data Load Finish, "
     ]
    },
    {
     "name": "stderr",
     "output_type": "stream",
     "text": [
      "/home/vislab/anaconda3/envs/cctv/lib/python3.7/site-packages/pandas/core/arraylike.py:364: RuntimeWarning: divide by zero encountered in log\n",
      "  result = getattr(ufunc, method)(*inputs, **kwargs)\n",
      "/home/vislab/anaconda3/envs/cctv/lib/python3.7/site-packages/statsmodels/base/model.py:606: ConvergenceWarning: Maximum Likelihood optimization failed to converge. Check mle_retvals\n",
      "  ConvergenceWarning)\n"
     ]
    },
    {
     "name": "stdout",
     "output_type": "stream",
     "text": [
      "Predict Finish, 70.7009 70.7 0.9861 0.0139 Evaluation Finish\n",
      "136: Data Load Finish, Predict Finish, 0.3927 0.3084 0.0043 0.9945 Evaluation Finish\n",
      "137: Data Load Finish, Predict Finish, 5.2295 5.2167 0.0727 0.9271 Evaluation Finish\n",
      "138: Data Load Finish, Predict Finish, 6.4688 6.4575 0.09 0.9098 Evaluation Finish\n",
      "139: Data Load Finish, Predict Finish, 4.6502 4.6358 0.0646 0.9351 Evaluation Finish\n",
      "140: Data Load Finish, "
     ]
    },
    {
     "name": "stderr",
     "output_type": "stream",
     "text": [
      "/home/vislab/anaconda3/envs/cctv/lib/python3.7/site-packages/pandas/core/arraylike.py:364: RuntimeWarning: divide by zero encountered in log\n",
      "  result = getattr(ufunc, method)(*inputs, **kwargs)\n",
      "/home/vislab/anaconda3/envs/cctv/lib/python3.7/site-packages/statsmodels/base/model.py:606: ConvergenceWarning: Maximum Likelihood optimization failed to converge. Check mle_retvals\n",
      "  ConvergenceWarning)\n"
     ]
    },
    {
     "name": "stdout",
     "output_type": "stream",
     "text": [
      "Predict Finish, 70.7009 70.7 0.9861 0.0139 Evaluation Finish\n",
      "141: Data Load Finish, Predict Finish, 1.5417 1.4958 0.0208 0.9785 Evaluation Finish\n",
      "142: Data Load Finish, Predict Finish, 1.2514 1.1944 0.0166 0.9825 Evaluation Finish\n",
      "143: Data Load Finish, "
     ]
    },
    {
     "name": "stderr",
     "output_type": "stream",
     "text": [
      "/home/vislab/anaconda3/envs/cctv/lib/python3.7/site-packages/pandas/core/arraylike.py:364: RuntimeWarning: divide by zero encountered in log\n",
      "  result = getattr(ufunc, method)(*inputs, **kwargs)\n",
      "/home/vislab/anaconda3/envs/cctv/lib/python3.7/site-packages/statsmodels/base/model.py:606: ConvergenceWarning: Maximum Likelihood optimization failed to converge. Check mle_retvals\n",
      "  ConvergenceWarning)\n"
     ]
    },
    {
     "name": "stdout",
     "output_type": "stream",
     "text": [
      "Predict Finish, 70.7009 70.7 0.9861 0.0139 Evaluation Finish\n",
      "144: Data Load Finish, Predict Finish, 3.0407 3.0154 0.042 0.9576 Evaluation Finish\n",
      "145: Data Load Finish, Predict Finish, 6.7159 6.7061 0.0935 0.9063 Evaluation Finish\n",
      "146: Data Load Finish, Predict Finish, 6.5686 6.5089 0.0907 0.9084 Evaluation Finish\n",
      "147: Data Load Finish, Predict Finish, 6.9263 6.9167 0.0964 0.9034 Evaluation Finish\n",
      "148: Data Load Finish, "
     ]
    },
    {
     "name": "stderr",
     "output_type": "stream",
     "text": [
      "/home/vislab/anaconda3/envs/cctv/lib/python3.7/site-packages/pandas/core/arraylike.py:364: RuntimeWarning: divide by zero encountered in log\n",
      "  result = getattr(ufunc, method)(*inputs, **kwargs)\n",
      "/home/vislab/anaconda3/envs/cctv/lib/python3.7/site-packages/statsmodels/base/model.py:606: ConvergenceWarning: Maximum Likelihood optimization failed to converge. Check mle_retvals\n",
      "  ConvergenceWarning)\n"
     ]
    },
    {
     "name": "stdout",
     "output_type": "stream",
     "text": [
      "Predict Finish, 70.7009 70.7 0.9861 0.0139 Evaluation Finish\n",
      "149: Data Load Finish, Predict Finish, 5.2389 5.2253 0.0729 0.9269 Evaluation Finish\n",
      "150: Data Load Finish, "
     ]
    },
    {
     "name": "stderr",
     "output_type": "stream",
     "text": [
      "/home/vislab/anaconda3/envs/cctv/lib/python3.7/site-packages/pandas/core/arraylike.py:364: RuntimeWarning: divide by zero encountered in log\n",
      "  result = getattr(ufunc, method)(*inputs, **kwargs)\n",
      "/home/vislab/anaconda3/envs/cctv/lib/python3.7/site-packages/statsmodels/base/model.py:606: ConvergenceWarning: Maximum Likelihood optimization failed to converge. Check mle_retvals\n",
      "  ConvergenceWarning)\n"
     ]
    },
    {
     "name": "stdout",
     "output_type": "stream",
     "text": [
      "Predict Finish, 70.7009 70.7 0.9861 0.0139 Evaluation Finish\n",
      "151: Data Load Finish, Predict Finish, 5.3447 5.3302 0.0743 0.9255 Evaluation Finish\n",
      "152: Data Load Finish, Predict Finish, 12.4803 12.4748 0.174 0.8259 Evaluation Finish\n",
      "153: Data Load Finish, Predict Finish, 3.3436 3.3223 0.0463 0.9534 Evaluation Finish\n",
      "154: Data Load Finish, Predict Finish, 2.6086 2.5819 0.036 0.9636 Evaluation Finish\n",
      "155: Data Load Finish, Predict Finish, 9.3349 9.3282 0.1301 0.8698 Evaluation Finish\n",
      "156: Data Load Finish, Predict Finish, 2.2476 2.2178 0.0309 0.9687 Evaluation Finish\n",
      "157: Data Load Finish, Predict Finish, 3.7783 3.7589 0.0524 0.9473 Evaluation Finish\n",
      "158: Data Load Finish, Predict Finish, 3.5609 3.5341 0.0493 0.9503 Evaluation Finish\n",
      "159: Data Load Finish, "
     ]
    },
    {
     "name": "stderr",
     "output_type": "stream",
     "text": [
      "/home/vislab/anaconda3/envs/cctv/lib/python3.7/site-packages/pandas/core/arraylike.py:364: RuntimeWarning: divide by zero encountered in log\n",
      "  result = getattr(ufunc, method)(*inputs, **kwargs)\n",
      "/home/vislab/anaconda3/envs/cctv/lib/python3.7/site-packages/statsmodels/base/model.py:606: ConvergenceWarning: Maximum Likelihood optimization failed to converge. Check mle_retvals\n",
      "  ConvergenceWarning)\n"
     ]
    },
    {
     "name": "stdout",
     "output_type": "stream",
     "text": [
      "Predict Finish, 70.7009 70.7 0.9861 0.0139 Evaluation Finish\n",
      "160: Data Load Finish, Predict Finish, 7.8339 7.8257 0.1091 0.8907 Evaluation Finish\n",
      "161: Data Load Finish, "
     ]
    },
    {
     "name": "stderr",
     "output_type": "stream",
     "text": [
      "/home/vislab/anaconda3/envs/cctv/lib/python3.7/site-packages/pandas/core/arraylike.py:364: RuntimeWarning: divide by zero encountered in log\n",
      "  result = getattr(ufunc, method)(*inputs, **kwargs)\n",
      "/home/vislab/anaconda3/envs/cctv/lib/python3.7/site-packages/statsmodels/base/model.py:606: ConvergenceWarning: Maximum Likelihood optimization failed to converge. Check mle_retvals\n",
      "  ConvergenceWarning)\n"
     ]
    },
    {
     "name": "stdout",
     "output_type": "stream",
     "text": [
      "Predict Finish, 70.7009 70.7 0.9861 0.0139 Evaluation Finish\n",
      "162: Data Load Finish, Predict Finish, 9.3636 9.3564 0.1305 0.8694 Evaluation Finish\n",
      "163: Data Load Finish, Predict Finish, 4.5069 4.4902 0.0626 0.9371 Evaluation Finish\n",
      "164: Data Load Finish, Predict Finish, 4.2772 4.2612 0.0594 0.9403 Evaluation Finish\n",
      "165: Data Load Finish, Predict Finish, 3.6192 3.601 0.0502 0.9495 Evaluation Finish\n",
      "166: Data Load Finish, Predict Finish, 4.8805 4.8664 0.0678 0.9319 Evaluation Finish\n",
      "167: Data Load Finish, Predict Finish, 7.8627 7.8541 0.1095 0.8903 Evaluation Finish\n",
      "168: Data Load Finish, Predict Finish, 2.6705 2.6409 0.0368 0.9628 Evaluation Finish\n",
      "169: Data Load Finish, Predict Finish, 3.4681 3.443 0.048 0.9516 Evaluation Finish\n",
      "170: Data Load Finish, Predict Finish, 4.3877 4.3676 0.0609 0.9388 Evaluation Finish\n",
      "171: Data Load Finish, Predict Finish, 7.4909 7.4822 0.1043 0.8955 Evaluation Finish\n",
      "172: Data Load Finish, "
     ]
    },
    {
     "name": "stderr",
     "output_type": "stream",
     "text": [
      "/home/vislab/anaconda3/envs/cctv/lib/python3.7/site-packages/pandas/core/arraylike.py:364: RuntimeWarning: divide by zero encountered in log\n",
      "  result = getattr(ufunc, method)(*inputs, **kwargs)\n",
      "/home/vislab/anaconda3/envs/cctv/lib/python3.7/site-packages/statsmodels/base/model.py:606: ConvergenceWarning: Maximum Likelihood optimization failed to converge. Check mle_retvals\n",
      "  ConvergenceWarning)\n"
     ]
    },
    {
     "name": "stdout",
     "output_type": "stream",
     "text": [
      "Predict Finish, 70.7009 70.7 0.9861 0.0139 Evaluation Finish\n",
      "173: Data Load Finish, Predict Finish, 3.0642 3.0421 0.0424 0.9573 Evaluation Finish\n",
      "174: Data Load Finish, Predict Finish, 7.8922 7.8834 0.1099 0.8899 Evaluation Finish\n",
      "175: Data Load Finish, Predict Finish, 1.8775 1.8387 0.0256 0.9738 Evaluation Finish\n",
      "176: Data Load Finish, Predict Finish, 8.7375 8.7286 0.1217 0.8781 Evaluation Finish\n",
      "177: Data Load Finish, Predict Finish, 4.2303 4.2152 0.0588 0.941 Evaluation Finish\n",
      "178: Data Load Finish, Predict Finish, 2.3172 2.2847 0.0318 0.9677 Evaluation Finish\n",
      "179: Data Load Finish, Predict Finish, 2.5866 2.5601 0.0357 0.9639 Evaluation Finish\n",
      "180: Data Load Finish, "
     ]
    },
    {
     "name": "stderr",
     "output_type": "stream",
     "text": [
      "/home/vislab/anaconda3/envs/cctv/lib/python3.7/site-packages/pandas/core/arraylike.py:364: RuntimeWarning: divide by zero encountered in log\n",
      "  result = getattr(ufunc, method)(*inputs, **kwargs)\n",
      "/home/vislab/anaconda3/envs/cctv/lib/python3.7/site-packages/statsmodels/base/model.py:606: ConvergenceWarning: Maximum Likelihood optimization failed to converge. Check mle_retvals\n",
      "  ConvergenceWarning)\n"
     ]
    },
    {
     "name": "stdout",
     "output_type": "stream",
     "text": [
      "Predict Finish, 70.7009 70.7 0.9861 0.0139 Evaluation Finish\n",
      "181: Data Load Finish, "
     ]
    },
    {
     "name": "stderr",
     "output_type": "stream",
     "text": [
      "/home/vislab/anaconda3/envs/cctv/lib/python3.7/site-packages/pandas/core/arraylike.py:364: RuntimeWarning: divide by zero encountered in log\n",
      "  result = getattr(ufunc, method)(*inputs, **kwargs)\n",
      "/home/vislab/anaconda3/envs/cctv/lib/python3.7/site-packages/statsmodels/base/model.py:606: ConvergenceWarning: Maximum Likelihood optimization failed to converge. Check mle_retvals\n",
      "  ConvergenceWarning)\n"
     ]
    },
    {
     "name": "stdout",
     "output_type": "stream",
     "text": [
      "Predict Finish, 70.7009 70.7 0.9861 0.0139 Evaluation Finish\n",
      "182: Data Load Finish, Predict Finish, 3.2112 3.1895 0.0445 0.9552 Evaluation Finish\n",
      "183: Data Load Finish, Predict Finish, 4.3794 4.3593 0.0608 0.9389 Evaluation Finish\n",
      "184: Data Load Finish, Predict Finish, 4.8054 4.7909 0.0668 0.933 Evaluation Finish\n",
      "185: Data Load Finish, Predict Finish, 4.2628 4.2443 0.0592 0.9405 Evaluation Finish\n",
      "186: Data Load Finish, Predict Finish, 4.1294 4.1122 0.0573 0.9424 Evaluation Finish\n",
      "187: Data Load Finish, Predict Finish, 2.8115 2.7867 0.0388 0.9608 Evaluation Finish\n",
      "188: Data Load Finish, Predict Finish, 3.1644 3.1415 0.0438 0.9559 Evaluation Finish\n",
      "189: Data Load Finish, Predict Finish, 3.2698 3.2476 0.0453 0.9544 Evaluation Finish\n",
      "190: Data Load Finish, Predict Finish, 2.6036 2.577 0.0359 0.9637 Evaluation Finish\n",
      "191: Data Load Finish, Predict Finish, 4.8689 4.8549 0.0677 0.9321 Evaluation Finish\n",
      "192: Data Load Finish, Predict Finish, 5.318 5.3048 0.074 0.9258 Evaluation Finish\n",
      "193: Data Load Finish, Predict Finish, 1.2895 1.2363 0.0172 0.982 Evaluation Finish\n",
      "194: Data Load Finish, Predict Finish, 4.3608 4.3442 0.0606 0.9392 Evaluation Finish\n",
      "195: Data Load Finish, Predict Finish, 3.4538 3.433 0.0479 0.9518 Evaluation Finish\n",
      "196: Data Load Finish, Predict Finish, 1.9379 1.9014 0.0265 0.973 Evaluation Finish\n",
      "197: Data Load Finish, Predict Finish, 4.5706 4.5557 0.0635 0.9363 Evaluation Finish\n",
      "198: Data Load Finish, Predict Finish, 4.5294 4.5018 0.0628 0.9368 Evaluation Finish\n",
      "199: Data Load Finish, "
     ]
    },
    {
     "name": "stderr",
     "output_type": "stream",
     "text": [
      "/home/vislab/anaconda3/envs/cctv/lib/python3.7/site-packages/pandas/core/arraylike.py:364: RuntimeWarning: divide by zero encountered in log\n",
      "  result = getattr(ufunc, method)(*inputs, **kwargs)\n",
      "/home/vislab/anaconda3/envs/cctv/lib/python3.7/site-packages/statsmodels/base/model.py:606: ConvergenceWarning: Maximum Likelihood optimization failed to converge. Check mle_retvals\n",
      "  ConvergenceWarning)\n"
     ]
    },
    {
     "name": "stdout",
     "output_type": "stream",
     "text": [
      "Predict Finish, 70.7009 70.7 0.9861 0.0139 Evaluation Finish\n",
      "200: Data Load Finish, "
     ]
    },
    {
     "name": "stderr",
     "output_type": "stream",
     "text": [
      "/home/vislab/anaconda3/envs/cctv/lib/python3.7/site-packages/pandas/core/arraylike.py:364: RuntimeWarning: divide by zero encountered in log\n",
      "  result = getattr(ufunc, method)(*inputs, **kwargs)\n",
      "/home/vislab/anaconda3/envs/cctv/lib/python3.7/site-packages/statsmodels/base/model.py:606: ConvergenceWarning: Maximum Likelihood optimization failed to converge. Check mle_retvals\n",
      "  ConvergenceWarning)\n"
     ]
    },
    {
     "name": "stdout",
     "output_type": "stream",
     "text": [
      "Predict Finish, 70.7009 70.7 0.9861 0.0139 Evaluation Finish\n",
      "201: Data Load Finish, Predict Finish, 3.4314 3.4091 0.0475 0.9521 Evaluation Finish\n",
      "202: Data Load Finish, Predict Finish, 6.9437 6.9333 0.0967 0.9032 Evaluation Finish\n",
      "203: Data Load Finish, Predict Finish, 6.3251 6.3139 0.088 0.9118 Evaluation Finish\n",
      "204: Data Load Finish, Predict Finish, 7.5746 7.5656 0.1055 0.8944 Evaluation Finish\n",
      "205: Data Load Finish, Predict Finish, 6.2919 6.2809 0.0876 0.9122 Evaluation Finish\n",
      "206: Data Load Finish, Predict Finish, 4.6619 4.6463 0.0648 0.935 Evaluation Finish\n",
      "207: Data Load Finish, Predict Finish, 1.0102 0.9033 0.0126 0.9859 Evaluation Finish\n",
      "208: Data Load Finish, "
     ]
    },
    {
     "name": "stderr",
     "output_type": "stream",
     "text": [
      "/home/vislab/anaconda3/envs/cctv/lib/python3.7/site-packages/pandas/core/arraylike.py:364: RuntimeWarning: divide by zero encountered in log\n",
      "  result = getattr(ufunc, method)(*inputs, **kwargs)\n",
      "/home/vislab/anaconda3/envs/cctv/lib/python3.7/site-packages/statsmodels/base/model.py:606: ConvergenceWarning: Maximum Likelihood optimization failed to converge. Check mle_retvals\n",
      "  ConvergenceWarning)\n"
     ]
    },
    {
     "name": "stdout",
     "output_type": "stream",
     "text": [
      "Predict Finish, 70.7009 70.7 0.9861 0.0139 Evaluation Finish\n",
      "209: Data Load Finish, Predict Finish, 4.4391 4.4218 0.0616 0.9381 Evaluation Finish\n",
      "210: Data Load Finish, "
     ]
    },
    {
     "name": "stderr",
     "output_type": "stream",
     "text": [
      "/home/vislab/anaconda3/envs/cctv/lib/python3.7/site-packages/pandas/core/arraylike.py:364: RuntimeWarning: divide by zero encountered in log\n",
      "  result = getattr(ufunc, method)(*inputs, **kwargs)\n",
      "/home/vislab/anaconda3/envs/cctv/lib/python3.7/site-packages/statsmodels/base/model.py:606: ConvergenceWarning: Maximum Likelihood optimization failed to converge. Check mle_retvals\n",
      "  ConvergenceWarning)\n"
     ]
    },
    {
     "name": "stdout",
     "output_type": "stream",
     "text": [
      "Predict Finish, 70.7009 70.7 0.9861 0.0139 Evaluation Finish\n",
      "211: Data Load Finish, Predict Finish, 8.6075 8.6001 0.1199 0.88 Evaluation Finish\n",
      "212: Data Load Finish, "
     ]
    },
    {
     "name": "stderr",
     "output_type": "stream",
     "text": [
      "/home/vislab/anaconda3/envs/cctv/lib/python3.7/site-packages/pandas/core/arraylike.py:364: RuntimeWarning: divide by zero encountered in log\n",
      "  result = getattr(ufunc, method)(*inputs, **kwargs)\n",
      "/home/vislab/anaconda3/envs/cctv/lib/python3.7/site-packages/statsmodels/base/model.py:606: ConvergenceWarning: Maximum Likelihood optimization failed to converge. Check mle_retvals\n",
      "  ConvergenceWarning)\n"
     ]
    },
    {
     "name": "stdout",
     "output_type": "stream",
     "text": [
      "Predict Finish, 70.7009 70.7 0.9861 0.0139 Evaluation Finish\n",
      "213: Data Load Finish, Predict Finish, 7.1071 7.0982 0.099 0.9009 Evaluation Finish\n",
      "214: Data Load Finish, Predict Finish, 7.5409 7.532 0.105 0.8948 Evaluation Finish\n",
      "215: Data Load Finish, Predict Finish, 7.7135 7.7044 0.1074 0.8924 Evaluation Finish\n",
      "216: Data Load Finish, Predict Finish, 6.7933 6.7837 0.0946 0.9053 Evaluation Finish\n",
      "217: Data Load Finish, Predict Finish, 3.4852 3.4655 0.0483 0.9514 Evaluation Finish\n",
      "218: Data Load Finish, Predict Finish, 7.9629 7.9548 0.1109 0.8889 Evaluation Finish\n",
      "219: Data Load Finish, Predict Finish, 5.5428 5.5307 0.0771 0.9227 Evaluation Finish\n",
      "220: Data Load Finish, Predict Finish, 4.7943 4.7807 0.0667 0.9331 Evaluation Finish\n",
      "221: Data Load Finish, Predict Finish, 6.2563 6.2455 0.0871 0.9127 Evaluation Finish\n",
      "222: Data Load Finish, Predict Finish, 7.2457 7.2368 0.1009 0.8989 Evaluation Finish\n",
      "223: Data Load Finish, Predict Finish, 6.4466 6.4362 0.0897 0.9101 Evaluation Finish\n",
      "224: Data Load Finish, Predict Finish, 7.9306 7.9222 0.1105 0.8894 Evaluation Finish\n",
      "225: Data Load Finish, Predict Finish, 6.7441 6.7341 0.0939 0.9059 Evaluation Finish\n",
      "226: Data Load Finish, Predict Finish, 3.6681 3.6465 0.0508 0.9488 Evaluation Finish\n",
      "227: Data Load Finish, Predict Finish, 3.1192 3.0926 0.0431 0.9565 Evaluation Finish\n",
      "228: Data Load Finish, Predict Finish, 3.4414 3.4207 0.0477 0.952 Evaluation Finish\n",
      "229: Data Load Finish, Predict Finish, 5.014 5.0 0.0697 0.9301 Evaluation Finish\n",
      "230: Data Load Finish, Predict Finish, 1.3362 1.2793 0.0178 0.9814 Evaluation Finish\n",
      "231: Data Load Finish, "
     ]
    },
    {
     "name": "stderr",
     "output_type": "stream",
     "text": [
      "/home/vislab/anaconda3/envs/cctv/lib/python3.7/site-packages/pandas/core/arraylike.py:364: RuntimeWarning: divide by zero encountered in log\n",
      "  result = getattr(ufunc, method)(*inputs, **kwargs)\n",
      "/home/vislab/anaconda3/envs/cctv/lib/python3.7/site-packages/statsmodels/base/model.py:606: ConvergenceWarning: Maximum Likelihood optimization failed to converge. Check mle_retvals\n",
      "  ConvergenceWarning)\n"
     ]
    },
    {
     "name": "stdout",
     "output_type": "stream",
     "text": [
      "Predict Finish, 70.7009 70.7 0.9861 0.0139 Evaluation Finish\n",
      "232: Data Load Finish, Predict Finish, 1.1883 1.1266 0.0157 0.9834 Evaluation Finish\n",
      "233: Data Load Finish, Predict Finish, 0.8481 0.7649 0.0107 0.9882 Evaluation Finish\n",
      "234: Data Load Finish, Predict Finish, 9.4903 9.4838 0.1322 0.8676 Evaluation Finish\n",
      "235: Data Load Finish, Predict Finish, 4.8375 4.8228 0.0672 0.9325 Evaluation Finish\n",
      "236: Data Load Finish, Predict Finish, 3.5848 3.5657 0.0497 0.95 Evaluation Finish\n",
      "237: Data Load Finish, Predict Finish, 3.2965 3.2755 0.0457 0.954 Evaluation Finish\n",
      "238: Data Load Finish, Predict Finish, 9.3229 9.3161 0.1299 0.87 Evaluation Finish\n",
      "239: Data Load Finish, Predict Finish, 5.8181 5.8068 0.081 0.9189 Evaluation Finish\n",
      "240: Data Load Finish, Predict Finish, 7.466 7.4574 0.104 0.8959 Evaluation Finish\n",
      "241: Data Load Finish, Predict Finish, 8.6577 8.6498 0.1206 0.8793 Evaluation Finish\n",
      "242: Data Load Finish, Predict Finish, 3.4796 3.461 0.0482 0.9515 Evaluation Finish\n",
      "243: Data Load Finish, Predict Finish, 4.5496 4.5308 0.0632 0.9365 Evaluation Finish\n",
      "244: Data Load Finish, Predict Finish, 4.4219 4.406 0.0614 0.9383 Evaluation Finish\n",
      "245: Data Load Finish, Predict Finish, 3.4281 3.4059 0.0475 0.9522 Evaluation Finish\n",
      "246: Data Load Finish, Predict Finish, 5.5645 5.5523 0.0774 0.9224 Evaluation Finish\n",
      "247: Data Load Finish, "
     ]
    },
    {
     "name": "stderr",
     "output_type": "stream",
     "text": [
      "/home/vislab/anaconda3/envs/cctv/lib/python3.7/site-packages/pandas/core/arraylike.py:364: RuntimeWarning: divide by zero encountered in log\n",
      "  result = getattr(ufunc, method)(*inputs, **kwargs)\n",
      "/home/vislab/anaconda3/envs/cctv/lib/python3.7/site-packages/statsmodels/base/model.py:606: ConvergenceWarning: Maximum Likelihood optimization failed to converge. Check mle_retvals\n",
      "  ConvergenceWarning)\n"
     ]
    },
    {
     "name": "stdout",
     "output_type": "stream",
     "text": [
      "Predict Finish, 70.7009 70.7 0.9861 0.0139 Evaluation Finish\n",
      "248: Data Load Finish, "
     ]
    },
    {
     "name": "stderr",
     "output_type": "stream",
     "text": [
      "/home/vislab/anaconda3/envs/cctv/lib/python3.7/site-packages/pandas/core/arraylike.py:364: RuntimeWarning: divide by zero encountered in log\n",
      "  result = getattr(ufunc, method)(*inputs, **kwargs)\n",
      "/home/vislab/anaconda3/envs/cctv/lib/python3.7/site-packages/statsmodels/base/model.py:606: ConvergenceWarning: Maximum Likelihood optimization failed to converge. Check mle_retvals\n",
      "  ConvergenceWarning)\n"
     ]
    },
    {
     "name": "stdout",
     "output_type": "stream",
     "text": [
      "Predict Finish, 70.7009 70.7 0.9861 0.0139 Evaluation Finish\n",
      "249: Data Load Finish, "
     ]
    },
    {
     "name": "stderr",
     "output_type": "stream",
     "text": [
      "/home/vislab/anaconda3/envs/cctv/lib/python3.7/site-packages/pandas/core/arraylike.py:364: RuntimeWarning: divide by zero encountered in log\n",
      "  result = getattr(ufunc, method)(*inputs, **kwargs)\n",
      "/home/vislab/anaconda3/envs/cctv/lib/python3.7/site-packages/statsmodels/base/model.py:606: ConvergenceWarning: Maximum Likelihood optimization failed to converge. Check mle_retvals\n",
      "  ConvergenceWarning)\n"
     ]
    },
    {
     "name": "stdout",
     "output_type": "stream",
     "text": [
      "Predict Finish, 70.7009 70.7 0.9861 0.0139 Evaluation Finish\n",
      "250: Data Load Finish, Predict Finish, 5.3562 5.3427 0.0745 0.9253 Evaluation Finish\n",
      "251: Data Load Finish, Predict Finish, 9.4127 9.4056 0.1312 0.8687 Evaluation Finish\n",
      "252: Data Load Finish, "
     ]
    },
    {
     "name": "stderr",
     "output_type": "stream",
     "text": [
      "/home/vislab/anaconda3/envs/cctv/lib/python3.7/site-packages/pandas/core/arraylike.py:364: RuntimeWarning: divide by zero encountered in log\n",
      "  result = getattr(ufunc, method)(*inputs, **kwargs)\n",
      "/home/vislab/anaconda3/envs/cctv/lib/python3.7/site-packages/statsmodels/base/model.py:606: ConvergenceWarning: Maximum Likelihood optimization failed to converge. Check mle_retvals\n",
      "  ConvergenceWarning)\n"
     ]
    },
    {
     "name": "stdout",
     "output_type": "stream",
     "text": [
      "Predict Finish, 70.7009 70.7 0.9861 0.0139 Evaluation Finish\n",
      "253: Data Load Finish, "
     ]
    },
    {
     "name": "stderr",
     "output_type": "stream",
     "text": [
      "/home/vislab/anaconda3/envs/cctv/lib/python3.7/site-packages/pandas/core/arraylike.py:364: RuntimeWarning: divide by zero encountered in log\n",
      "  result = getattr(ufunc, method)(*inputs, **kwargs)\n",
      "/home/vislab/anaconda3/envs/cctv/lib/python3.7/site-packages/statsmodels/base/model.py:606: ConvergenceWarning: Maximum Likelihood optimization failed to converge. Check mle_retvals\n",
      "  ConvergenceWarning)\n"
     ]
    },
    {
     "name": "stdout",
     "output_type": "stream",
     "text": [
      "Predict Finish, 70.7009 70.7 0.9861 0.0139 Evaluation Finish\n",
      "254: Data Load Finish, "
     ]
    },
    {
     "name": "stderr",
     "output_type": "stream",
     "text": [
      "/home/vislab/anaconda3/envs/cctv/lib/python3.7/site-packages/pandas/core/arraylike.py:364: RuntimeWarning: divide by zero encountered in log\n",
      "  result = getattr(ufunc, method)(*inputs, **kwargs)\n",
      "/home/vislab/anaconda3/envs/cctv/lib/python3.7/site-packages/statsmodels/base/model.py:606: ConvergenceWarning: Maximum Likelihood optimization failed to converge. Check mle_retvals\n",
      "  ConvergenceWarning)\n"
     ]
    },
    {
     "name": "stdout",
     "output_type": "stream",
     "text": [
      "Predict Finish, 70.7009 70.7 0.9861 0.0139 Evaluation Finish\n",
      "255: Data Load Finish, "
     ]
    },
    {
     "name": "stderr",
     "output_type": "stream",
     "text": [
      "/home/vislab/anaconda3/envs/cctv/lib/python3.7/site-packages/pandas/core/arraylike.py:364: RuntimeWarning: divide by zero encountered in log\n",
      "  result = getattr(ufunc, method)(*inputs, **kwargs)\n",
      "/home/vislab/anaconda3/envs/cctv/lib/python3.7/site-packages/statsmodels/base/model.py:606: ConvergenceWarning: Maximum Likelihood optimization failed to converge. Check mle_retvals\n",
      "  ConvergenceWarning)\n"
     ]
    },
    {
     "name": "stdout",
     "output_type": "stream",
     "text": [
      "Predict Finish, 70.7009 70.7 0.9861 0.0139 Evaluation Finish\n",
      "256: Data Load Finish, Predict Finish, 4.7539 4.7387 0.0661 0.9337 Evaluation Finish\n",
      "257: Data Load Finish, Predict Finish, 1.2752 1.2183 0.017 0.9822 Evaluation Finish\n",
      "258: Data Load Finish, Predict Finish, 3.6446 3.625 0.0505 0.9492 Evaluation Finish\n",
      "259: Data Load Finish, Predict Finish, 3.4109 3.3889 0.0472 0.9524 Evaluation Finish\n",
      "260: Data Load Finish, Predict Finish, 4.7296 4.7161 0.0658 0.934 Evaluation Finish\n",
      "261: Data Load Finish, "
     ]
    },
    {
     "name": "stderr",
     "output_type": "stream",
     "text": [
      "/home/vislab/anaconda3/envs/cctv/lib/python3.7/site-packages/pandas/core/arraylike.py:364: RuntimeWarning: divide by zero encountered in log\n",
      "  result = getattr(ufunc, method)(*inputs, **kwargs)\n",
      "/home/vislab/anaconda3/envs/cctv/lib/python3.7/site-packages/statsmodels/base/model.py:606: ConvergenceWarning: Maximum Likelihood optimization failed to converge. Check mle_retvals\n",
      "  ConvergenceWarning)\n"
     ]
    },
    {
     "name": "stdout",
     "output_type": "stream",
     "text": [
      "Predict Finish, 70.7009 70.7 0.9861 0.0139 Evaluation Finish\n",
      "262: Data Load Finish, Predict Finish, 3.2893 3.2684 0.0456 0.9541 Evaluation Finish\n",
      "263: Data Load Finish, "
     ]
    },
    {
     "name": "stderr",
     "output_type": "stream",
     "text": [
      "/home/vislab/anaconda3/envs/cctv/lib/python3.7/site-packages/pandas/core/arraylike.py:364: RuntimeWarning: divide by zero encountered in log\n",
      "  result = getattr(ufunc, method)(*inputs, **kwargs)\n",
      "/home/vislab/anaconda3/envs/cctv/lib/python3.7/site-packages/statsmodels/base/model.py:606: ConvergenceWarning: Maximum Likelihood optimization failed to converge. Check mle_retvals\n",
      "  ConvergenceWarning)\n"
     ]
    },
    {
     "name": "stdout",
     "output_type": "stream",
     "text": [
      "Predict Finish, 70.7009 70.7 0.9861 0.0139 Evaluation Finish\n",
      "264: Data Load Finish, "
     ]
    },
    {
     "name": "stderr",
     "output_type": "stream",
     "text": [
      "/home/vislab/anaconda3/envs/cctv/lib/python3.7/site-packages/pandas/core/arraylike.py:364: RuntimeWarning: divide by zero encountered in log\n",
      "  result = getattr(ufunc, method)(*inputs, **kwargs)\n",
      "/home/vislab/anaconda3/envs/cctv/lib/python3.7/site-packages/statsmodels/base/model.py:606: ConvergenceWarning: Maximum Likelihood optimization failed to converge. Check mle_retvals\n",
      "  ConvergenceWarning)\n"
     ]
    },
    {
     "name": "stdout",
     "output_type": "stream",
     "text": [
      "Predict Finish, 70.7009 70.7 0.9861 0.0139 Evaluation Finish\n",
      "265: Data Load Finish, Predict Finish, 3.0513 3.0278 0.0422 0.9574 Evaluation Finish\n",
      "266: Data Load Finish, "
     ]
    },
    {
     "name": "stderr",
     "output_type": "stream",
     "text": [
      "/home/vislab/anaconda3/envs/cctv/lib/python3.7/site-packages/pandas/core/arraylike.py:364: RuntimeWarning: divide by zero encountered in log\n",
      "  result = getattr(ufunc, method)(*inputs, **kwargs)\n",
      "/home/vislab/anaconda3/envs/cctv/lib/python3.7/site-packages/statsmodels/base/model.py:606: ConvergenceWarning: Maximum Likelihood optimization failed to converge. Check mle_retvals\n",
      "  ConvergenceWarning)\n"
     ]
    },
    {
     "name": "stdout",
     "output_type": "stream",
     "text": [
      "Predict Finish, 70.7009 70.7 0.9861 0.0139 Evaluation Finish\n",
      "267: Data Load Finish, Predict Finish, 4.6793 4.6654 0.065 0.9347 Evaluation Finish\n",
      "268: Data Load Finish, "
     ]
    },
    {
     "name": "stderr",
     "output_type": "stream",
     "text": [
      "/home/vislab/anaconda3/envs/cctv/lib/python3.7/site-packages/pandas/core/arraylike.py:364: RuntimeWarning: divide by zero encountered in log\n",
      "  result = getattr(ufunc, method)(*inputs, **kwargs)\n",
      "/home/vislab/anaconda3/envs/cctv/lib/python3.7/site-packages/statsmodels/base/model.py:606: ConvergenceWarning: Maximum Likelihood optimization failed to converge. Check mle_retvals\n",
      "  ConvergenceWarning)\n"
     ]
    },
    {
     "name": "stdout",
     "output_type": "stream",
     "text": [
      "Predict Finish, 70.7009 70.7 0.9861 0.0139 Evaluation Finish\n",
      "269: Data Load Finish, "
     ]
    },
    {
     "name": "stderr",
     "output_type": "stream",
     "text": [
      "/home/vislab/anaconda3/envs/cctv/lib/python3.7/site-packages/pandas/core/arraylike.py:364: RuntimeWarning: divide by zero encountered in log\n",
      "  result = getattr(ufunc, method)(*inputs, **kwargs)\n",
      "/home/vislab/anaconda3/envs/cctv/lib/python3.7/site-packages/statsmodels/base/model.py:606: ConvergenceWarning: Maximum Likelihood optimization failed to converge. Check mle_retvals\n",
      "  ConvergenceWarning)\n"
     ]
    },
    {
     "name": "stdout",
     "output_type": "stream",
     "text": [
      "Predict Finish, 70.7009 70.7 0.9861 0.0139 Evaluation Finish\n",
      "270: Data Load Finish, Predict Finish, 5.0207 5.0067 0.0698 0.93 Evaluation Finish\n",
      "271: Data Load Finish, Predict Finish, 4.2188 4.2022 0.0586 0.9412 Evaluation Finish\n",
      "272: Data Load Finish, Predict Finish, 2.1354 2.0924 0.0292 0.9702 Evaluation Finish\n",
      "273: Data Load Finish, Predict Finish, 6.4903 6.4797 0.0903 0.9095 Evaluation Finish\n",
      "274: Data Load Finish, Predict Finish, 4.4307 4.4133 0.0615 0.9382 Evaluation Finish\n",
      "275: Data Load Finish, Predict Finish, 4.8066 4.7876 0.0667 0.933 Evaluation Finish\n",
      "276: Data Load Finish, Predict Finish, 3.346 3.3247 0.0463 0.9533 Evaluation Finish\n",
      "277: Data Load Finish, Predict Finish, 2.842 2.8148 0.0392 0.9604 Evaluation Finish\n",
      "278: Data Load Finish, Predict Finish, 7.0342 7.0247 0.098 0.9019 Evaluation Finish\n",
      "279: Data Load Finish, Predict Finish, 5.5549 5.5418 0.0773 0.9225 Evaluation Finish\n",
      "280: Data Load Finish, Predict Finish, 3.402 3.38 0.0471 0.9526 Evaluation Finish\n",
      "281: Data Load Finish, Predict Finish, 3.4243 3.4037 0.0474 0.9522 Evaluation Finish\n",
      "282: Data Load Finish, Predict Finish, 4.4173 4.4001 0.0613 0.9384 Evaluation Finish\n",
      "283: Data Load Finish, Predict Finish, 10.8278 10.8219 0.1509 0.849 Evaluation Finish\n",
      "284: Data Load Finish, "
     ]
    },
    {
     "name": "stderr",
     "output_type": "stream",
     "text": [
      "/home/vislab/anaconda3/envs/cctv/lib/python3.7/site-packages/pandas/core/arraylike.py:364: RuntimeWarning: divide by zero encountered in log\n",
      "  result = getattr(ufunc, method)(*inputs, **kwargs)\n",
      "/home/vislab/anaconda3/envs/cctv/lib/python3.7/site-packages/statsmodels/base/model.py:606: ConvergenceWarning: Maximum Likelihood optimization failed to converge. Check mle_retvals\n",
      "  ConvergenceWarning)\n"
     ]
    },
    {
     "name": "stdout",
     "output_type": "stream",
     "text": [
      "Predict Finish, 70.7009 70.7 0.9861 0.0139 Evaluation Finish\n",
      "285: Data Load Finish, Predict Finish, 2.8485 2.8213 0.0393 0.9603 Evaluation Finish\n",
      "286: Data Load Finish, Predict Finish, 3.9194 3.9015 0.0544 0.9453 Evaluation Finish\n",
      "287: Data Load Finish, Predict Finish, 4.4574 4.4382 0.0619 0.9378 Evaluation Finish\n",
      "288: Data Load Finish, Predict Finish, 4.4537 4.4386 0.0619 0.9379 Evaluation Finish\n",
      "289: Data Load Finish, Predict Finish, 4.2518 4.2349 0.059 0.9407 Evaluation Finish\n",
      "290: Data Load Finish, Predict Finish, 4.21 4.1934 0.0585 0.9413 Evaluation Finish\n",
      "291: Data Load Finish, Predict Finish, 7.3025 7.2922 0.1017 0.8982 Evaluation Finish\n",
      "292: Data Load Finish, "
     ]
    },
    {
     "name": "stderr",
     "output_type": "stream",
     "text": [
      "/home/vislab/anaconda3/envs/cctv/lib/python3.7/site-packages/statsmodels/base/model.py:606: ConvergenceWarning: Maximum Likelihood optimization failed to converge. Check mle_retvals\n",
      "  ConvergenceWarning)\n"
     ]
    },
    {
     "name": "stdout",
     "output_type": "stream",
     "text": [
      "Predict Finish, 5.4857 5.384 0.0751 0.9235 Evaluation Finish\n",
      "293: Data Load Finish, Predict Finish, 7.5588 7.5374 0.1051 0.8946 Evaluation Finish\n",
      "294: Data Load Finish, Predict Finish, 4.516 4.5005 0.0627 0.937 Evaluation Finish\n",
      "295: Data Load Finish, Predict Finish, 7.8361 7.8252 0.1091 0.8907 Evaluation Finish\n",
      "296: Data Load Finish, "
     ]
    },
    {
     "name": "stderr",
     "output_type": "stream",
     "text": [
      "/home/vislab/anaconda3/envs/cctv/lib/python3.7/site-packages/pandas/core/arraylike.py:364: RuntimeWarning: divide by zero encountered in log\n",
      "  result = getattr(ufunc, method)(*inputs, **kwargs)\n",
      "/home/vislab/anaconda3/envs/cctv/lib/python3.7/site-packages/statsmodels/base/model.py:606: ConvergenceWarning: Maximum Likelihood optimization failed to converge. Check mle_retvals\n",
      "  ConvergenceWarning)\n"
     ]
    },
    {
     "name": "stdout",
     "output_type": "stream",
     "text": [
      "Predict Finish, 70.7009 70.7 0.9861 0.0139 Evaluation Finish\n",
      "297: Data Load Finish, Predict Finish, 4.6825 4.6678 0.0651 0.9347 Evaluation Finish\n",
      "298: Data Load Finish, Predict Finish, 3.0195 2.9963 0.0418 0.9579 Evaluation Finish\n",
      "299: Data Load Finish, Predict Finish, 3.951 3.9328 0.0548 0.9449 Evaluation Finish\n",
      "300: Data Load Finish, Predict Finish, 3.7662 3.7452 0.0522 0.9475 Evaluation Finish\n",
      "301: Data Load Finish, Predict Finish, 7.1978 7.1881 0.1002 0.8996 Evaluation Finish\n",
      "302: Data Load Finish, Predict Finish, 3.9224 3.9011 0.0544 0.9453 Evaluation Finish\n",
      "303: Data Load Finish, Predict Finish, 4.4207 4.4019 0.0614 0.9383 Evaluation Finish\n",
      "304: Data Load Finish, Predict Finish, 3.8421 3.8176 0.0532 0.9464 Evaluation Finish\n",
      "305: Data Load Finish, Predict Finish, 5.4489 5.4331 0.0758 0.924 Evaluation Finish\n",
      "306: Data Load Finish, Predict Finish, 2.4675 2.4382 0.034 0.9656 Evaluation Finish\n",
      "307: Data Load Finish, Predict Finish, 4.37 4.3518 0.0607 0.9391 Evaluation Finish\n",
      "308: Data Load Finish, Predict Finish, 6.9588 6.9302 0.0966 0.9029 Evaluation Finish\n",
      "309: Data Load Finish, Predict Finish, 2.1356 2.1025 0.0293 0.9702 Evaluation Finish\n",
      "310: Data Load Finish, Predict Finish, 6.834 6.8236 0.0951 0.9047 Evaluation Finish\n",
      "311: Data Load Finish, "
     ]
    },
    {
     "name": "stderr",
     "output_type": "stream",
     "text": [
      "/home/vislab/anaconda3/envs/cctv/lib/python3.7/site-packages/pandas/core/arraylike.py:364: RuntimeWarning: divide by zero encountered in log\n",
      "  result = getattr(ufunc, method)(*inputs, **kwargs)\n",
      "/home/vislab/anaconda3/envs/cctv/lib/python3.7/site-packages/statsmodels/base/model.py:606: ConvergenceWarning: Maximum Likelihood optimization failed to converge. Check mle_retvals\n",
      "  ConvergenceWarning)\n"
     ]
    },
    {
     "name": "stdout",
     "output_type": "stream",
     "text": [
      "Predict Finish, 70.7009 70.7 0.9861 0.0139 Evaluation Finish\n",
      "312: Data Load Finish, Predict Finish, 3.8212 3.8028 0.053 0.9467 Evaluation Finish\n",
      "313: Data Load Finish, Predict Finish, 5.3765 5.3616 0.0748 0.925 Evaluation Finish\n",
      "314: Data Load Finish, Predict Finish, 4.3466 4.3301 0.0604 0.9394 Evaluation Finish\n",
      "315: Data Load Finish, Predict Finish, 6.5837 6.5742 0.0917 0.9082 Evaluation Finish\n",
      "316: Data Load Finish, Predict Finish, 4.6146 4.5994 0.0641 0.9356 Evaluation Finish\n",
      "317: Data Load Finish, "
     ]
    },
    {
     "name": "stderr",
     "output_type": "stream",
     "text": [
      "/home/vislab/anaconda3/envs/cctv/lib/python3.7/site-packages/pandas/core/arraylike.py:364: RuntimeWarning: divide by zero encountered in log\n",
      "  result = getattr(ufunc, method)(*inputs, **kwargs)\n",
      "/home/vislab/anaconda3/envs/cctv/lib/python3.7/site-packages/statsmodels/base/model.py:606: ConvergenceWarning: Maximum Likelihood optimization failed to converge. Check mle_retvals\n",
      "  ConvergenceWarning)\n"
     ]
    },
    {
     "name": "stdout",
     "output_type": "stream",
     "text": [
      "Predict Finish, 70.7009 70.7 0.9861 0.0139 Evaluation Finish\n",
      "318: Data Load Finish, Predict Finish, 10.926 10.9202 0.1523 0.8476 Evaluation Finish\n",
      "319: Data Load Finish, "
     ]
    },
    {
     "name": "stderr",
     "output_type": "stream",
     "text": [
      "/home/vislab/anaconda3/envs/cctv/lib/python3.7/site-packages/pandas/core/arraylike.py:364: RuntimeWarning: divide by zero encountered in log\n",
      "  result = getattr(ufunc, method)(*inputs, **kwargs)\n",
      "/home/vislab/anaconda3/envs/cctv/lib/python3.7/site-packages/statsmodels/base/model.py:606: ConvergenceWarning: Maximum Likelihood optimization failed to converge. Check mle_retvals\n",
      "  ConvergenceWarning)\n"
     ]
    },
    {
     "name": "stdout",
     "output_type": "stream",
     "text": [
      "Predict Finish, 70.7009 70.7 0.9861 0.0139 Evaluation Finish\n",
      "320: Data Load Finish, Predict Finish, 9.666 9.659 0.1347 0.8652 Evaluation Finish\n",
      "321: Data Load Finish, Predict Finish, 2.4662 2.4387 0.034 0.9656 Evaluation Finish\n",
      "322: Data Load Finish, Predict Finish, 3.3514 3.3299 0.0464 0.9533 Evaluation Finish\n",
      "323: Data Load Finish, Predict Finish, 0.6215 0.4791 0.0067 0.9913 Evaluation Finish\n",
      "324: Data Load Finish, "
     ]
    },
    {
     "name": "stderr",
     "output_type": "stream",
     "text": [
      "/home/vislab/anaconda3/envs/cctv/lib/python3.7/site-packages/pandas/core/arraylike.py:364: RuntimeWarning: divide by zero encountered in log\n",
      "  result = getattr(ufunc, method)(*inputs, **kwargs)\n",
      "/home/vislab/anaconda3/envs/cctv/lib/python3.7/site-packages/statsmodels/base/model.py:606: ConvergenceWarning: Maximum Likelihood optimization failed to converge. Check mle_retvals\n",
      "  ConvergenceWarning)\n"
     ]
    },
    {
     "name": "stdout",
     "output_type": "stream",
     "text": [
      "Predict Finish, 70.7009 70.7 0.9861 0.0139 Evaluation Finish\n",
      "RMSE: 18.02133724015096, MAE: 18.003976255486418, MAPE: 0.25108283777914675\n",
      "ACC: 0.7486594807545018\n"
     ]
    }
   ],
   "source": [
    "predictARIMA(df, idx, 3)"
   ]
  },
  {
   "cell_type": "code",
   "execution_count": null,
   "id": "af950e15",
   "metadata": {},
   "outputs": [],
   "source": []
  }
 ],
 "metadata": {
  "kernelspec": {
   "display_name": "cctv",
   "language": "python",
   "name": "cctv"
  },
  "language_info": {
   "codemirror_mode": {
    "name": "ipython",
    "version": 3
   },
   "file_extension": ".py",
   "mimetype": "text/x-python",
   "name": "python",
   "nbconvert_exporter": "python",
   "pygments_lexer": "ipython3",
   "version": "3.7.13"
  }
 },
 "nbformat": 4,
 "nbformat_minor": 5
}
