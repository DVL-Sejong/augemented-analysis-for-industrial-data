{
 "cells": [
  {
   "cell_type": "code",
   "execution_count": 1,
   "id": "e686ad41",
   "metadata": {},
   "outputs": [],
   "source": [
    "import math\n",
    "import pandas as pd\n",
    "import numpy as np\n",
    "import numpy.linalg as la\n",
    "\n",
    "from sklearn.metrics import mean_squared_error, mean_absolute_error, mean_absolute_percentage_error\n",
    "from statsmodels.tsa.arima.model import ARIMA"
   ]
  },
  {
   "cell_type": "code",
   "execution_count": 2,
   "id": "440ac5e6",
   "metadata": {},
   "outputs": [],
   "source": [
    "def csvIndexToDatetime(path, start, freq):\n",
    "    df = pd.read_csv(path)\n",
    "    df = df.drop(columns=['Unnamed: 0'])\n",
    "    time_len = df.shape[0]\n",
    "    num_nodes = df.shape[1]\n",
    "    print(time_len, num_nodes)\n",
    "    rng = pd.date_range(start, periods=time_len, freq=freq)\n",
    "    idx = pd.DatetimeIndex(rng)\n",
    "    df.index = idx\n",
    "    return df, idx"
   ]
  },
  {
   "cell_type": "code",
   "execution_count": 3,
   "id": "91f72990",
   "metadata": {},
   "outputs": [],
   "source": [
    "def evaluation(a,b):\n",
    "    rmse = math.sqrt(mean_squared_error(a,b))\n",
    "    mae = mean_absolute_error(a, b)\n",
    "    mape = mean_absolute_percentage_error(a, b)\n",
    "    F_norm = la.norm(a-b)/la.norm(a)\n",
    "    return rmse, mae, mape, 1-F_norm"
   ]
  },
  {
   "cell_type": "code",
   "execution_count": 4,
   "id": "629b9843",
   "metadata": {},
   "outputs": [],
   "source": [
    "def predictARIMA(df, idx, timelag):\n",
    "    rmse, mae, mape, acc =  [], [], [], []\n",
    "    \n",
    "    for i in range(df.shape[1]):\n",
    "        print(i, end = ': ')\n",
    "        ts = df.iloc[:-timelag, i]\n",
    "        ts_log = np.log(ts)\n",
    "        ts_log = np.array(ts_log, dtype=np.float64)\n",
    "        where_are_inf = np.isinf(ts_log)\n",
    "        ts_log[where_are_inf] = 0\n",
    "        ts_log = pd.Series(ts_log)\n",
    "        ts_log.index = idx[:-timelag]\n",
    "        print('Data Load Finish', end = ', ')\n",
    "        \n",
    "        model = ARIMA(ts_log, order=[1,0,0])\n",
    "        properModel = model.fit()\n",
    "        predict_ts = properModel.forecast(steps=timelag)\n",
    "        log_recover = np.exp(predict_ts)\n",
    "        testX = org_df.iloc[-timelag:, 0]\n",
    "        print('Predict Finish', end = ', ')\n",
    "        \n",
    "        er_rmse, er_mae, er_mape, er_acc = evaluation(testX, log_recover)\n",
    "        print(round(er_rmse,4), round(er_mae,4), round(er_mape,4), round(er_acc,4), end = ' ')\n",
    "        \n",
    "        rmse.append(er_rmse)\n",
    "        mae.append(er_mae)\n",
    "        mape.append(er_mape)\n",
    "        acc.append(er_acc)\n",
    "        print('Evaluation Finish')\n",
    "        \n",
    "    acc = np.mat(acc)\n",
    "    acc[acc<0] = 0\n",
    "    print('RMSE: ' + str(np.mean(rmse)) + ', MAE: ' + str(np.mean(mae)) + ', MAPE: ' + str(np.mean(mape))  + '\\n'\n",
    "          + 'ACC: ' + str(np.mean(acc)))"
   ]
  },
  {
   "cell_type": "code",
   "execution_count": 5,
   "id": "e171bd77",
   "metadata": {
    "scrolled": true
   },
   "outputs": [],
   "source": [
    "path_0 = 'data/PEMS-BAY/speed_bay_0.csv'\n",
    "path_5 = 'data/PEMS-BAY/speed_bay_5.csv'\n",
    "path_10 = 'data/PEMS-BAY/speed_bay_10.csv'\n",
    "path_20 = 'data/PEMS-BAY/speed_bay_20.csv'"
   ]
  },
  {
   "cell_type": "code",
   "execution_count": 6,
   "id": "ee4dc616",
   "metadata": {},
   "outputs": [],
   "source": [
    "start = '1/1/2017'\n",
    "freq = '5min'"
   ]
  },
  {
   "cell_type": "code",
   "execution_count": 7,
   "id": "bfac5703",
   "metadata": {},
   "outputs": [
    {
     "name": "stdout",
     "output_type": "stream",
     "text": [
      "52116 325\n"
     ]
    }
   ],
   "source": [
    "org_path = 'data/PEMS-BAY/speed_bay_0.csv'\n",
    "org_df, org_idx = csvIndexToDatetime(org_path, start, freq)"
   ]
  },
  {
   "cell_type": "markdown",
   "id": "5feb8eb9",
   "metadata": {},
   "source": [
    "### Unobserved Nodes = 0%"
   ]
  },
  {
   "cell_type": "code",
   "execution_count": 8,
   "id": "9eaf61b7",
   "metadata": {},
   "outputs": [
    {
     "name": "stdout",
     "output_type": "stream",
     "text": [
      "52116 325\n"
     ]
    },
    {
     "data": {
      "text/plain": [
       "0"
      ]
     },
     "execution_count": 8,
     "metadata": {},
     "output_type": "execute_result"
    }
   ],
   "source": [
    "df, idx = csvIndexToDatetime(path_0, start, freq)\n",
    "(df == 0).sum().sum()"
   ]
  },
  {
   "cell_type": "code",
   "execution_count": 9,
   "id": "60f8ff1e",
   "metadata": {
    "scrolled": false
   },
   "outputs": [
    {
     "name": "stdout",
     "output_type": "stream",
     "text": [
      "0: Data Load Finish, Predict Finish, 0.5352 0.408 0.0057 0.9925 Evaluation Finish\n",
      "1: Data Load Finish, Predict Finish, 5.7771 5.7583 0.0806 0.9191 Evaluation Finish\n",
      "2: Data Load Finish, Predict Finish, 3.9123 3.8345 0.0536 0.9452 Evaluation Finish\n",
      "3: Data Load Finish, Predict Finish, 10.228 10.2207 0.1431 0.8568 Evaluation Finish\n",
      "4: Data Load Finish, Predict Finish, 10.227 10.2185 0.143 0.8568 Evaluation Finish\n",
      "5: Data Load Finish, Predict Finish, 5.1786 5.1544 0.0721 0.9275 Evaluation Finish\n",
      "6: Data Load Finish, Predict Finish, 7.0291 7.0002 0.098 0.9016 Evaluation Finish\n",
      "7: Data Load Finish, Predict Finish, 4.0306 3.9975 0.0559 0.9436 Evaluation Finish\n",
      "8: Data Load Finish, Predict Finish, 6.1564 6.1366 0.0859 0.9138 Evaluation Finish\n",
      "9: Data Load Finish, Predict Finish, 4.9139 4.8906 0.0684 0.9312 Evaluation Finish\n",
      "10: Data Load Finish, Predict Finish, 4.5407 4.5146 0.0632 0.9364 Evaluation Finish\n",
      "11: Data Load Finish, Predict Finish, 5.0203 4.9937 0.0699 0.9297 Evaluation Finish\n",
      "12: Data Load Finish, Predict Finish, 3.9734 3.933 0.055 0.9444 Evaluation Finish\n",
      "13: Data Load Finish, Predict Finish, 3.9621 3.9116 0.0547 0.9445 Evaluation Finish\n",
      "14: Data Load Finish, Predict Finish, 3.6565 3.6239 0.0507 0.9488 Evaluation Finish\n",
      "15: Data Load Finish, Predict Finish, 3.2755 3.2322 0.0452 0.9541 Evaluation Finish\n",
      "16: Data Load Finish, Predict Finish, 3.8626 3.8232 0.0535 0.9459 Evaluation Finish\n",
      "17: Data Load Finish, Predict Finish, 3.6357 3.587 0.0502 0.9491 Evaluation Finish\n",
      "18: Data Load Finish, Predict Finish, 3.6102 3.5872 0.0502 0.9495 Evaluation Finish\n",
      "19: Data Load Finish, Predict Finish, 6.6244 6.5976 0.0923 0.9073 Evaluation Finish\n",
      "20: Data Load Finish, Predict Finish, 5.3937 5.37 0.0751 0.9245 Evaluation Finish\n",
      "21: Data Load Finish, Predict Finish, 6.0682 6.0446 0.0846 0.9151 Evaluation Finish\n",
      "22: Data Load Finish, Predict Finish, 3.9443 3.9149 0.0548 0.9448 Evaluation Finish\n",
      "23: Data Load Finish, Predict Finish, 6.6734 6.6486 0.093 0.9066 Evaluation Finish\n",
      "24: Data Load Finish, Predict Finish, 2.7967 2.7479 0.0384 0.9608 Evaluation Finish\n",
      "25: Data Load Finish, Predict Finish, 4.3151 4.2887 0.06 0.9396 Evaluation Finish\n",
      "26: Data Load Finish, Predict Finish, 5.1591 5.1353 0.0719 0.9278 Evaluation Finish\n",
      "27: Data Load Finish, Predict Finish, 2.441 2.3663 0.0331 0.9658 Evaluation Finish\n",
      "28: Data Load Finish, Predict Finish, 5.9666 5.9459 0.0832 0.9165 Evaluation Finish\n",
      "29: Data Load Finish, Predict Finish, 11.5636 11.5584 0.1618 0.8381 Evaluation Finish\n",
      "30: Data Load Finish, Predict Finish, 4.646 4.6243 0.0647 0.935 Evaluation Finish\n",
      "31: Data Load Finish, Predict Finish, 6.844 6.831 0.0956 0.9042 Evaluation Finish\n",
      "32: Data Load Finish, Predict Finish, 3.1667 3.1283 0.0438 0.9557 Evaluation Finish\n",
      "33: Data Load Finish, Predict Finish, 9.5293 9.5233 0.1333 0.8666 Evaluation Finish\n",
      "34: Data Load Finish, Predict Finish, 4.6451 4.6116 0.0645 0.935 Evaluation Finish\n",
      "35: Data Load Finish, Predict Finish, 7.9326 7.9155 0.1108 0.889 Evaluation Finish\n",
      "36: Data Load Finish, Predict Finish, 0.562 0.484 0.0068 0.9921 Evaluation Finish\n",
      "37: Data Load Finish, Predict Finish, 2.8911 2.8414 0.0397 0.9595 Evaluation Finish\n",
      "38: Data Load Finish, Predict Finish, 7.6985 7.6791 0.1075 0.8922 Evaluation Finish\n",
      "39: Data Load Finish, Predict Finish, 5.8368 5.8198 0.0814 0.9183 Evaluation Finish\n",
      "40: Data Load Finish, Predict Finish, 4.3914 4.3625 0.061 0.9385 Evaluation Finish\n",
      "41: Data Load Finish, Predict Finish, 7.3339 7.3178 0.1024 0.8973 Evaluation Finish\n",
      "42: Data Load Finish, Predict Finish, 5.8894 5.8645 0.0821 0.9176 Evaluation Finish\n",
      "43: Data Load Finish, Predict Finish, 6.1639 6.1302 0.0858 0.9137 Evaluation Finish\n",
      "44: Data Load Finish, Predict Finish, 4.3314 4.3048 0.0602 0.9394 Evaluation Finish\n",
      "45: Data Load Finish, Predict Finish, 3.5075 3.4529 0.0483 0.9509 Evaluation Finish\n",
      "46: Data Load Finish, Predict Finish, 9.3941 9.3866 0.1314 0.8685 Evaluation Finish\n",
      "47: Data Load Finish, Predict Finish, 2.6741 2.6152 0.0366 0.9626 Evaluation Finish\n",
      "48: Data Load Finish, Predict Finish, 5.3242 5.299 0.0741 0.9255 Evaluation Finish\n",
      "49: Data Load Finish, Predict Finish, 3.1592 3.1155 0.0436 0.9558 Evaluation Finish\n",
      "50: Data Load Finish, Predict Finish, 6.566 6.5499 0.0917 0.9081 Evaluation Finish\n",
      "51: Data Load Finish, Predict Finish, 2.958 2.9116 0.0407 0.9586 Evaluation Finish\n",
      "52: Data Load Finish, Predict Finish, 3.0853 3.0504 0.0427 0.9568 Evaluation Finish\n",
      "53: Data Load Finish, Predict Finish, 6.7134 6.6907 0.0936 0.906 Evaluation Finish\n",
      "54: Data Load Finish, Predict Finish, 3.6121 3.5708 0.0499 0.9494 Evaluation Finish\n",
      "55: Data Load Finish, Predict Finish, 5.6593 5.6172 0.0786 0.9208 Evaluation Finish\n",
      "56: Data Load Finish, Predict Finish, 0.5341 0.4021 0.0056 0.9925 Evaluation Finish\n",
      "57: Data Load Finish, Predict Finish, 4.1679 4.1181 0.0576 0.9417 Evaluation Finish\n",
      "58: Data Load Finish, Predict Finish, 4.3179 4.2873 0.06 0.9396 Evaluation Finish\n",
      "59: Data Load Finish, Predict Finish, 4.3595 4.3316 0.0606 0.939 Evaluation Finish\n",
      "60: Data Load Finish, Predict Finish, 5.2054 5.1803 0.0725 0.9271 Evaluation Finish\n",
      "61: Data Load Finish, Predict Finish, 3.8467 3.8058 0.0532 0.9462 Evaluation Finish\n",
      "62: Data Load Finish, Predict Finish, 3.9614 3.9273 0.0549 0.9445 Evaluation Finish\n",
      "63: Data Load Finish, Predict Finish, 5.5191 5.492 0.0768 0.9227 Evaluation Finish\n",
      "64: Data Load Finish, Predict Finish, 7.0993 7.081 0.0991 0.9006 Evaluation Finish\n",
      "65: Data Load Finish, Predict Finish, 4.4993 4.4531 0.0623 0.937 Evaluation Finish\n",
      "66: Data Load Finish, Predict Finish, 9.1508 9.133 0.1278 0.8719 Evaluation Finish\n",
      "67: Data Load Finish, Predict Finish, 8.255 8.2423 0.1154 0.8844 Evaluation Finish\n",
      "68: Data Load Finish, Predict Finish, 3.665 3.6085 0.0505 0.9487 Evaluation Finish\n",
      "69: Data Load Finish, Predict Finish, 7.1041 7.0904 0.0992 0.9006 Evaluation Finish\n",
      "70: Data Load Finish, Predict Finish, 4.9879 4.969 0.0695 0.9302 Evaluation Finish\n",
      "71: Data Load Finish, Predict Finish, 9.5966 9.5891 0.1342 0.8657 Evaluation Finish\n",
      "72: Data Load Finish, Predict Finish, 6.598 6.5754 0.092 0.9076 Evaluation Finish\n",
      "73: Data Load Finish, Predict Finish, 5.3925 5.3614 0.075 0.9245 Evaluation Finish\n",
      "74: Data Load Finish, Predict Finish, 11.0089 11.0013 0.154 0.8459 Evaluation Finish\n",
      "75: Data Load Finish, Predict Finish, 3.1273 3.0851 0.0432 0.9562 Evaluation Finish\n",
      "76: Data Load Finish, Predict Finish, 2.1275 1.9959 0.0279 0.9702 Evaluation Finish\n",
      "77: Data Load Finish, Predict Finish, 5.0434 5.0199 0.0702 0.9294 Evaluation Finish\n",
      "78: Data Load Finish, Predict Finish, 3.0044 2.9622 0.0414 0.9579 Evaluation Finish\n",
      "79: Data Load Finish, Predict Finish, 2.6941 2.6475 0.037 0.9623 Evaluation Finish\n",
      "80: Data Load Finish, Predict Finish, 4.1947 4.1306 0.0578 0.9413 Evaluation Finish\n",
      "81: Data Load Finish, Predict Finish, 3.185 3.1398 0.0439 0.9554 Evaluation Finish\n",
      "82: Data Load Finish, Predict Finish, 4.8555 4.8304 0.0676 0.932 Evaluation Finish\n",
      "83: Data Load Finish, Predict Finish, 5.4008 5.3337 0.0746 0.9244 Evaluation Finish\n",
      "84: Data Load Finish, Predict Finish, 4.038 3.9994 0.0559 0.9435 Evaluation Finish\n",
      "85: Data Load Finish, Predict Finish, 7.4993 7.4864 0.1048 0.895 Evaluation Finish\n",
      "86: Data Load Finish, Predict Finish, 6.506 6.4889 0.0908 0.9089 Evaluation Finish\n",
      "87: Data Load Finish, Predict Finish, 4.3217 4.2863 0.06 0.9395 Evaluation Finish\n",
      "88: Data Load Finish, Predict Finish, 8.9706 8.9543 0.1253 0.8744 Evaluation Finish\n",
      "89: Data Load Finish, Predict Finish, 4.7897 4.7668 0.0667 0.933 Evaluation Finish\n",
      "90: Data Load Finish, Predict Finish, 5.0031 4.9732 0.0696 0.93 Evaluation Finish\n",
      "91: Data Load Finish, Predict Finish, 12.4351 12.4299 0.174 0.8259 Evaluation Finish\n",
      "92: Data Load Finish, Predict Finish, 2.8936 2.8566 0.04 0.9595 Evaluation Finish\n",
      "93: Data Load Finish, Predict Finish, 3.1003 3.0393 0.0425 0.9566 Evaluation Finish\n",
      "94: Data Load Finish, Predict Finish, 9.6627 9.6532 0.1351 0.8647 Evaluation Finish\n",
      "95: Data Load Finish, Predict Finish, 5.4587 5.4395 0.0761 0.9236 Evaluation Finish\n",
      "96: Data Load Finish, Predict Finish, 10.5595 10.5509 0.1477 0.8522 Evaluation Finish\n",
      "97: Data Load Finish, Predict Finish, 4.3837 4.3459 0.0608 0.9386 Evaluation Finish\n"
     ]
    },
    {
     "name": "stdout",
     "output_type": "stream",
     "text": [
      "98: Data Load Finish, Predict Finish, 9.9347 9.9259 0.1389 0.8609 Evaluation Finish\n",
      "99: Data Load Finish, Predict Finish, 2.0081 1.9262 0.0269 0.9719 Evaluation Finish\n",
      "100: Data Load Finish, Predict Finish, 5.1785 5.132 0.0718 0.9275 Evaluation Finish\n",
      "101: Data Load Finish, Predict Finish, 5.3718 5.3487 0.0748 0.9248 Evaluation Finish\n",
      "102: Data Load Finish, Predict Finish, 2.5793 2.5093 0.0351 0.9639 Evaluation Finish\n",
      "103: Data Load Finish, Predict Finish, 2.7624 2.7127 0.0379 0.9613 Evaluation Finish\n",
      "104: Data Load Finish, Predict Finish, 7.8159 7.764 0.1086 0.8906 Evaluation Finish\n",
      "105: Data Load Finish, Predict Finish, 2.721 2.6795 0.0375 0.9619 Evaluation Finish\n",
      "106: Data Load Finish, Predict Finish, 4.6829 4.6518 0.0651 0.9344 Evaluation Finish\n",
      "107: Data Load Finish, Predict Finish, 2.2533 2.2014 0.0308 0.9685 Evaluation Finish\n",
      "108: Data Load Finish, Predict Finish, 3.3818 3.345 0.0468 0.9527 Evaluation Finish\n",
      "109: Data Load Finish, Predict Finish, 0.8791 0.6907 0.0096 0.9877 Evaluation Finish\n",
      "110: Data Load Finish, Predict Finish, 4.9216 4.8984 0.0685 0.9311 Evaluation Finish\n",
      "111: Data Load Finish, Predict Finish, 3.6516 3.6273 0.0507 0.9489 Evaluation Finish\n",
      "112: Data Load Finish, Predict Finish, 3.2945 3.2561 0.0455 0.9539 Evaluation Finish\n",
      "113: Data Load Finish, Predict Finish, 5.2535 5.2304 0.0732 0.9265 Evaluation Finish\n",
      "114: Data Load Finish, Predict Finish, 2.9745 2.927 0.0409 0.9584 Evaluation Finish\n",
      "115: Data Load Finish, Predict Finish, 9.5537 9.5443 0.1336 0.8663 Evaluation Finish\n",
      "116: Data Load Finish, Predict Finish, 9.5526 9.5416 0.1335 0.8663 Evaluation Finish\n",
      "117: Data Load Finish, "
     ]
    },
    {
     "name": "stderr",
     "output_type": "stream",
     "text": [
      "/home/vislab/anaconda3/envs/cctv/lib/python3.7/site-packages/statsmodels/base/model.py:606: ConvergenceWarning: Maximum Likelihood optimization failed to converge. Check mle_retvals\n",
      "  ConvergenceWarning)\n"
     ]
    },
    {
     "name": "stdout",
     "output_type": "stream",
     "text": [
      "Predict Finish, 3.9918 3.9715 0.0556 0.9441 Evaluation Finish\n",
      "118: Data Load Finish, Predict Finish, 2.2836 2.2132 0.0309 0.968 Evaluation Finish\n",
      "119: Data Load Finish, Predict Finish, 3.4662 3.4313 0.048 0.9515 Evaluation Finish\n",
      "120: Data Load Finish, Predict Finish, 3.505 3.4628 0.0484 0.9509 Evaluation Finish\n",
      "121: Data Load Finish, Predict Finish, 6.8368 6.8193 0.0954 0.9043 Evaluation Finish\n",
      "122: Data Load Finish, Predict Finish, 3.0184 2.9693 0.0415 0.9577 Evaluation Finish\n",
      "123: Data Load Finish, Predict Finish, 5.4054 5.3874 0.0754 0.9243 Evaluation Finish\n",
      "124: Data Load Finish, Predict Finish, 2.8882 2.8509 0.0399 0.9596 Evaluation Finish\n",
      "125: Data Load Finish, Predict Finish, 6.8714 6.8635 0.0961 0.9038 Evaluation Finish\n",
      "126: Data Load Finish, Predict Finish, 7.585 7.5704 0.1059 0.8938 Evaluation Finish\n",
      "127: Data Load Finish, Predict Finish, 7.7323 7.7191 0.108 0.8918 Evaluation Finish\n",
      "128: Data Load Finish, Predict Finish, 5.6422 5.6178 0.0786 0.921 Evaluation Finish\n",
      "129: Data Load Finish, Predict Finish, 3.2282 3.1872 0.0446 0.9548 Evaluation Finish\n",
      "130: Data Load Finish, Predict Finish, 5.5115 5.4878 0.0768 0.9228 Evaluation Finish\n",
      "131: Data Load Finish, Predict Finish, 4.6728 4.6499 0.0651 0.9346 Evaluation Finish\n",
      "132: Data Load Finish, Predict Finish, 4.5543 4.5144 0.0632 0.9362 Evaluation Finish\n",
      "133: Data Load Finish, Predict Finish, 15.3463 15.3372 0.2147 0.7852 Evaluation Finish\n",
      "134: Data Load Finish, Predict Finish, 6.445 6.3895 0.0894 0.9098 Evaluation Finish\n",
      "135: Data Load Finish, Predict Finish, 6.0556 6.0323 0.0844 0.9152 Evaluation Finish\n",
      "136: Data Load Finish, Predict Finish, 0.5295 0.4481 0.0063 0.9926 Evaluation Finish\n",
      "137: Data Load Finish, Predict Finish, 3.8318 3.8015 0.0532 0.9464 Evaluation Finish\n",
      "138: Data Load Finish, Predict Finish, 5.7426 5.7149 0.08 0.9196 Evaluation Finish\n",
      "139: Data Load Finish, Predict Finish, 5.2245 5.2054 0.0728 0.9269 Evaluation Finish\n",
      "140: Data Load Finish, Predict Finish, 5.011 4.9887 0.0698 0.9299 Evaluation Finish\n",
      "141: Data Load Finish, Predict Finish, 0.7937 0.6296 0.0088 0.9889 Evaluation Finish\n",
      "142: Data Load Finish, Predict Finish, 1.2683 1.1638 0.0163 0.9822 Evaluation Finish\n",
      "143: Data Load Finish, Predict Finish, 3.7987 3.7698 0.0527 0.9468 Evaluation Finish\n",
      "144: Data Load Finish, Predict Finish, 3.6708 3.6267 0.0507 0.9486 Evaluation Finish\n",
      "145: Data Load Finish, Predict Finish, 6.6299 6.6146 0.0926 0.9072 Evaluation Finish\n",
      "146: Data Load Finish, Predict Finish, 14.9958 14.8704 0.2082 0.7901 Evaluation Finish\n",
      "147: Data Load Finish, Predict Finish, 7.2178 7.2041 0.1008 0.899 Evaluation Finish\n",
      "148: Data Load Finish, "
     ]
    },
    {
     "name": "stderr",
     "output_type": "stream",
     "text": [
      "/home/vislab/anaconda3/envs/cctv/lib/python3.7/site-packages/statsmodels/base/model.py:606: ConvergenceWarning: Maximum Likelihood optimization failed to converge. Check mle_retvals\n",
      "  ConvergenceWarning)\n"
     ]
    },
    {
     "name": "stdout",
     "output_type": "stream",
     "text": [
      "Predict Finish, 3.9918 3.9715 0.0556 0.9441 Evaluation Finish\n",
      "149: Data Load Finish, Predict Finish, 5.9047 5.8825 0.0823 0.9173 Evaluation Finish\n",
      "150: Data Load Finish, Predict Finish, 4.2431 4.2153 0.059 0.9406 Evaluation Finish\n",
      "151: Data Load Finish, Predict Finish, 6.5988 6.5762 0.092 0.9076 Evaluation Finish\n",
      "152: Data Load Finish, Predict Finish, 13.5145 13.5097 0.1891 0.8108 Evaluation Finish\n",
      "153: Data Load Finish, Predict Finish, 3.3416 3.3015 0.0462 0.9532 Evaluation Finish\n",
      "154: Data Load Finish, Predict Finish, 3.3185 3.2845 0.0459 0.9535 Evaluation Finish\n",
      "155: Data Load Finish, Predict Finish, 7.4668 7.4562 0.1044 0.8955 Evaluation Finish\n",
      "156: Data Load Finish, Predict Finish, 1.7255 1.6615 0.0232 0.9758 Evaluation Finish\n",
      "157: Data Load Finish, Predict Finish, 3.2706 3.2219 0.0451 0.9542 Evaluation Finish\n",
      "158: Data Load Finish, Predict Finish, 4.3958 4.3413 0.0607 0.9385 Evaluation Finish\n",
      "159: Data Load Finish, Predict Finish, 9.5042 9.4884 0.1328 0.867 Evaluation Finish\n",
      "160: Data Load Finish, Predict Finish, 7.2237 7.2118 0.1009 0.8989 Evaluation Finish\n",
      "161: Data Load Finish, Predict Finish, 8.2311 8.2187 0.115 0.8848 Evaluation Finish\n",
      "162: Data Load Finish, Predict Finish, 9.7848 9.7735 0.1368 0.863 Evaluation Finish\n",
      "163: Data Load Finish, Predict Finish, 4.6543 4.6199 0.0646 0.9348 Evaluation Finish\n",
      "164: Data Load Finish, Predict Finish, 5.0506 5.0331 0.0704 0.9293 Evaluation Finish\n",
      "165: Data Load Finish, Predict Finish, 1.0002 0.864 0.0121 0.986 Evaluation Finish\n",
      "166: Data Load Finish, Predict Finish, 5.4859 5.4659 0.0765 0.9232 Evaluation Finish\n",
      "167: Data Load Finish, Predict Finish, 8.837 8.8254 0.1235 0.8763 Evaluation Finish\n",
      "168: Data Load Finish, Predict Finish, 3.9964 3.96 0.0554 0.9441 Evaluation Finish\n",
      "169: Data Load Finish, Predict Finish, 5.029 4.9889 0.0698 0.9296 Evaluation Finish\n",
      "170: Data Load Finish, Predict Finish, 5.0432 5.0094 0.0701 0.9294 Evaluation Finish\n",
      "171: Data Load Finish, Predict Finish, 6.6299 6.6146 0.0926 0.9072 Evaluation Finish\n",
      "172: Data Load Finish, Predict Finish, 1.9593 1.8999 0.0266 0.9726 Evaluation Finish\n",
      "173: Data Load Finish, Predict Finish, 3.1954 3.1613 0.0442 0.9553 Evaluation Finish\n",
      "174: Data Load Finish, Predict Finish, 0.8993 0.7541 0.0105 0.9874 Evaluation Finish\n",
      "175: Data Load Finish, Predict Finish, 1.3135 1.192 0.0166 0.9816 Evaluation Finish\n",
      "176: Data Load Finish, "
     ]
    },
    {
     "name": "stderr",
     "output_type": "stream",
     "text": [
      "/home/vislab/anaconda3/envs/cctv/lib/python3.7/site-packages/statsmodels/base/model.py:606: ConvergenceWarning: Maximum Likelihood optimization failed to converge. Check mle_retvals\n",
      "  ConvergenceWarning)\n"
     ]
    },
    {
     "name": "stdout",
     "output_type": "stream",
     "text": [
      "Predict Finish, 7.7477 7.7212 0.108 0.8915 Evaluation Finish\n",
      "177: Data Load Finish, "
     ]
    },
    {
     "name": "stderr",
     "output_type": "stream",
     "text": [
      "/home/vislab/anaconda3/envs/cctv/lib/python3.7/site-packages/statsmodels/base/model.py:606: ConvergenceWarning: Maximum Likelihood optimization failed to converge. Check mle_retvals\n",
      "  ConvergenceWarning)\n"
     ]
    },
    {
     "name": "stdout",
     "output_type": "stream",
     "text": [
      "Predict Finish, 3.8825 3.8619 0.054 0.9457 Evaluation Finish\n",
      "178: Data Load Finish, Predict Finish, 3.1859 3.1411 0.0439 0.9554 Evaluation Finish\n",
      "179: Data Load Finish, Predict Finish, 3.0962 3.061 0.0428 0.9567 Evaluation Finish\n",
      "180: Data Load Finish, Predict Finish, 3.5023 3.4607 0.0484 0.951 Evaluation Finish\n",
      "181: Data Load Finish, Predict Finish, 4.5842 4.5607 0.0638 0.9358 Evaluation Finish\n",
      "182: Data Load Finish, Predict Finish, 4.1537 4.1246 0.0577 0.9419 Evaluation Finish\n",
      "183: Data Load Finish, Predict Finish, 5.1824 5.1413 0.0719 0.9275 Evaluation Finish\n",
      "184: Data Load Finish, Predict Finish, 5.2371 5.2146 0.073 0.9267 Evaluation Finish\n",
      "185: Data Load Finish, Predict Finish, 4.3287 4.2893 0.06 0.9394 Evaluation Finish\n",
      "186: Data Load Finish, Predict Finish, 4.3068 4.2767 0.0598 0.9397 Evaluation Finish\n",
      "187: Data Load Finish, Predict Finish, 3.8293 3.7991 0.0531 0.9464 Evaluation Finish\n",
      "188: Data Load Finish, Predict Finish, 4.7949 4.7719 0.0668 0.9329 Evaluation Finish\n",
      "189: Data Load Finish, Predict Finish, 2.4156 2.3469 0.0328 0.9662 Evaluation Finish\n",
      "190: Data Load Finish, Predict Finish, 2.9315 2.8925 0.0405 0.959 Evaluation Finish\n",
      "191: Data Load Finish, Predict Finish, 4.0841 4.0535 0.0567 0.9428 Evaluation Finish\n",
      "192: Data Load Finish, Predict Finish, 4.7531 4.724 0.0661 0.9335 Evaluation Finish\n",
      "193: Data Load Finish, Predict Finish, 1.0813 0.9735 0.0136 0.9849 Evaluation Finish\n",
      "194: Data Load Finish, Predict Finish, 4.1941 4.1592 0.0582 0.9413 Evaluation Finish\n",
      "195: Data Load Finish, Predict Finish, 3.9379 3.9035 0.0546 0.9449 Evaluation Finish\n",
      "196: Data Load Finish, Predict Finish, 1.0569 0.917 0.0128 0.9852 Evaluation Finish\n",
      "197: Data Load Finish, Predict Finish, 5.0005 4.9781 0.0697 0.93 Evaluation Finish\n",
      "198: Data Load Finish, Predict Finish, 4.8821 4.8067 0.0672 0.9317 Evaluation Finish\n",
      "199: Data Load Finish, Predict Finish, 2.8278 2.7678 0.0387 0.9604 Evaluation Finish\n",
      "200: Data Load Finish, Predict Finish, 3.252 3.2036 0.0448 0.9545 Evaluation Finish\n",
      "201: Data Load Finish, Predict Finish, 4.3563 4.3194 0.0604 0.939 Evaluation Finish\n",
      "202: Data Load Finish, "
     ]
    },
    {
     "name": "stderr",
     "output_type": "stream",
     "text": [
      "/home/vislab/anaconda3/envs/cctv/lib/python3.7/site-packages/statsmodels/base/model.py:606: ConvergenceWarning: Maximum Likelihood optimization failed to converge. Check mle_retvals\n",
      "  ConvergenceWarning)\n"
     ]
    },
    {
     "name": "stdout",
     "output_type": "stream",
     "text": [
      "Predict Finish, 7.5429 7.5272 0.1053 0.8944 Evaluation Finish\n",
      "203: Data Load Finish, Predict Finish, 7.2706 7.2533 0.1015 0.8982 Evaluation Finish\n",
      "204: Data Load Finish, Predict Finish, 8.0928 8.0811 0.1131 0.8867 Evaluation Finish\n",
      "205: Data Load Finish, Predict Finish, 7.492 7.4771 0.1046 0.8951 Evaluation Finish\n",
      "206: Data Load Finish, Predict Finish, 6.2366 6.2203 0.087 0.9127 Evaluation Finish\n",
      "207: Data Load Finish, Predict Finish, 3.2043 3.1385 0.0439 0.9551 Evaluation Finish\n",
      "208: Data Load Finish, Predict Finish, 7.6985 7.6839 0.1075 0.8922 Evaluation Finish\n",
      "209: Data Load Finish, Predict Finish, 4.6528 4.6195 0.0646 0.9349 Evaluation Finish\n",
      "210: Data Load Finish, Predict Finish, 6.8397 6.8222 0.0955 0.9043 Evaluation Finish\n",
      "211: Data Load Finish, Predict Finish, 8.0601 8.0504 0.1127 0.8872 Evaluation Finish\n",
      "212: Data Load Finish, Predict Finish, 3.6452 3.5926 0.0503 0.949 Evaluation Finish\n",
      "213: Data Load Finish, Predict Finish, 7.0266 7.016 0.0982 0.9016 Evaluation Finish\n",
      "214: Data Load Finish, Predict Finish, 7.0904 7.0747 0.099 0.9007 Evaluation Finish\n",
      "215: Data Load Finish, Predict Finish, 8.0093 7.9952 0.1119 0.8879 Evaluation Finish\n",
      "216: Data Load Finish, Predict Finish, 5.0283 5.0052 0.07 0.9296 Evaluation Finish\n",
      "217: Data Load Finish, Predict Finish, 4.9923 4.9701 0.0695 0.9301 Evaluation Finish\n",
      "218: Data Load Finish, Predict Finish, 7.549 7.5371 0.1055 0.8943 Evaluation Finish\n",
      "219: Data Load Finish, Predict Finish, 6.4336 6.4178 0.0898 0.9099 Evaluation Finish\n",
      "220: Data Load Finish, Predict Finish, 4.8793 4.8602 0.068 0.9317 Evaluation Finish\n",
      "221: Data Load Finish, Predict Finish, 7.2293 7.2153 0.101 0.8988 Evaluation Finish\n",
      "222: Data Load Finish, Predict Finish, 7.2013 7.1898 0.1006 0.8992 Evaluation Finish\n",
      "223: Data Load Finish, "
     ]
    },
    {
     "name": "stderr",
     "output_type": "stream",
     "text": [
      "/home/vislab/anaconda3/envs/cctv/lib/python3.7/site-packages/statsmodels/base/model.py:606: ConvergenceWarning: Maximum Likelihood optimization failed to converge. Check mle_retvals\n",
      "  ConvergenceWarning)\n"
     ]
    },
    {
     "name": "stdout",
     "output_type": "stream",
     "text": [
      "Predict Finish, 6.6589 6.643 0.093 0.9068 Evaluation Finish\n",
      "224: Data Load Finish, "
     ]
    },
    {
     "name": "stderr",
     "output_type": "stream",
     "text": [
      "/home/vislab/anaconda3/envs/cctv/lib/python3.7/site-packages/statsmodels/base/model.py:606: ConvergenceWarning: Maximum Likelihood optimization failed to converge. Check mle_retvals\n",
      "  ConvergenceWarning)\n"
     ]
    },
    {
     "name": "stdout",
     "output_type": "stream",
     "text": [
      "Predict Finish, 6.218 6.1967 0.0867 0.913 Evaluation Finish\n",
      "225: Data Load Finish, Predict Finish, 6.7709 6.755 0.0945 0.9052 Evaluation Finish\n",
      "226: Data Load Finish, Predict Finish, 5.2145 5.1855 0.0726 0.927 Evaluation Finish\n",
      "227: Data Load Finish, Predict Finish, 5.6222 5.5949 0.0783 0.9213 Evaluation Finish\n",
      "228: Data Load Finish, Predict Finish, 3.7276 3.6975 0.0517 0.9478 Evaluation Finish\n",
      "229: Data Load Finish, Predict Finish, 5.3676 5.3446 0.0748 0.9249 Evaluation Finish\n",
      "230: Data Load Finish, Predict Finish, 2.9381 2.899 0.0405 0.9589 Evaluation Finish\n",
      "231: Data Load Finish, Predict Finish, 7.0297 6.9977 0.0979 0.9016 Evaluation Finish\n",
      "232: Data Load Finish, Predict Finish, 2.0547 1.9892 0.0278 0.9712 Evaluation Finish\n",
      "233: Data Load Finish, Predict Finish, 0.8734 0.7799 0.0109 0.9878 Evaluation Finish\n",
      "234: Data Load Finish, Predict Finish, 3.1714 3.0251 0.0423 0.9556 Evaluation Finish\n",
      "235: Data Load Finish, Predict Finish, 3.601 3.5599 0.0498 0.9496 Evaluation Finish\n",
      "236: Data Load Finish, Predict Finish, 3.6449 3.6125 0.0505 0.949 Evaluation Finish\n",
      "237: Data Load Finish, Predict Finish, 3.0812 3.0418 0.0425 0.9569 Evaluation Finish\n",
      "238: Data Load Finish, Predict Finish, 7.637 7.6255 0.1067 0.8931 Evaluation Finish\n",
      "239: Data Load Finish, Predict Finish, 5.6313 5.6135 0.0786 0.9212 Evaluation Finish\n",
      "240: Data Load Finish, Predict Finish, 6.6795 6.6655 0.0933 0.9065 Evaluation Finish\n",
      "241: Data Load Finish, Predict Finish, 9.0688 9.0569 0.1268 0.873 Evaluation Finish\n",
      "242: Data Load Finish, Predict Finish, 3.551 3.5261 0.0493 0.9503 Evaluation Finish\n",
      "243: Data Load Finish, Predict Finish, 5.509 5.4735 0.0766 0.9229 Evaluation Finish\n",
      "244: Data Load Finish, Predict Finish, 4.6964 4.669 0.0653 0.9343 Evaluation Finish\n",
      "245: Data Load Finish, Predict Finish, 4.052 4.0187 0.0562 0.9433 Evaluation Finish\n",
      "246: Data Load Finish, Predict Finish, 6.3367 6.3207 0.0885 0.9113 Evaluation Finish\n",
      "247: Data Load Finish, Predict Finish, 7.5999 7.5872 0.1062 0.8936 Evaluation Finish\n",
      "248: Data Load Finish, Predict Finish, 2.7935 2.7353 0.0383 0.9609 Evaluation Finish\n",
      "249: Data Load Finish, Predict Finish, 6.7121 6.695 0.0937 0.906 Evaluation Finish\n",
      "250: Data Load Finish, Predict Finish, 2.1564 2.0643 0.0289 0.9698 Evaluation Finish\n",
      "251: Data Load Finish, Predict Finish, 6.5161 6.4957 0.0909 0.9088 Evaluation Finish\n",
      "252: Data Load Finish, Predict Finish, 7.1562 7.1436 0.1 0.8998 Evaluation Finish\n",
      "253: Data Load Finish, Predict Finish, 0.6415 0.5504 0.0077 0.991 Evaluation Finish\n",
      "254: Data Load Finish, Predict Finish, 5.6245 5.5971 0.0783 0.9213 Evaluation Finish\n",
      "255: Data Load Finish, Predict Finish, 7.1833 7.1721 0.1004 0.8994 Evaluation Finish\n",
      "256: Data Load Finish, Predict Finish, 4.6736 4.643 0.065 0.9346 Evaluation Finish\n",
      "257: Data Load Finish, Predict Finish, 1.4891 1.3964 0.0195 0.9792 Evaluation Finish\n",
      "258: Data Load Finish, Predict Finish, 5.5829 5.5685 0.0779 0.9218 Evaluation Finish\n",
      "259: Data Load Finish, Predict Finish, 5.8286 5.8159 0.0814 0.9184 Evaluation Finish\n",
      "260: Data Load Finish, Predict Finish, 4.8146 4.7996 0.0672 0.9326 Evaluation Finish\n",
      "261: Data Load Finish, Predict Finish, 3.3212 3.2823 0.0459 0.9535 Evaluation Finish\n",
      "262: Data Load Finish, Predict Finish, 3.9512 3.9253 0.0549 0.9447 Evaluation Finish\n",
      "263: Data Load Finish, Predict Finish, 5.9718 5.9566 0.0834 0.9164 Evaluation Finish\n",
      "264: Data Load Finish, Predict Finish, 6.6995 6.6872 0.0936 0.9062 Evaluation Finish\n",
      "265: Data Load Finish, Predict Finish, 4.4154 4.3897 0.0614 0.9382 Evaluation Finish\n",
      "266: Data Load Finish, Predict Finish, 4.4264 4.404 0.0616 0.938 Evaluation Finish\n",
      "267: Data Load Finish, Predict Finish, 3.4192 3.3864 0.0474 0.9521 Evaluation Finish\n",
      "268: Data Load Finish, Predict Finish, 4.9788 4.9265 0.0689 0.9303 Evaluation Finish\n",
      "269: Data Load Finish, Predict Finish, 4.6808 4.6541 0.0651 0.9345 Evaluation Finish\n",
      "270: Data Load Finish, Predict Finish, 5.5516 5.5299 0.0774 0.9223 Evaluation Finish\n",
      "271: Data Load Finish, Predict Finish, 4.9111 4.8881 0.0684 0.9313 Evaluation Finish\n",
      "272: Data Load Finish, Predict Finish, 3.3186 3.2616 0.0456 0.9535 Evaluation Finish\n",
      "273: Data Load Finish, "
     ]
    },
    {
     "name": "stderr",
     "output_type": "stream",
     "text": [
      "/home/vislab/anaconda3/envs/cctv/lib/python3.7/site-packages/statsmodels/base/model.py:606: ConvergenceWarning: Maximum Likelihood optimization failed to converge. Check mle_retvals\n",
      "  ConvergenceWarning)\n"
     ]
    },
    {
     "name": "stdout",
     "output_type": "stream",
     "text": [
      "Predict Finish, 6.7983 6.7819 0.0949 0.9048 Evaluation Finish\n",
      "274: Data Load Finish, Predict Finish, 4.0404 3.9962 0.0559 0.9434 Evaluation Finish\n",
      "275: Data Load Finish, Predict Finish, 4.9159 4.8651 0.0681 0.9312 Evaluation Finish\n",
      "276: Data Load Finish, Predict Finish, 3.7376 3.7013 0.0518 0.9477 Evaluation Finish\n",
      "277: Data Load Finish, Predict Finish, 4.2129 4.1772 0.0584 0.941 Evaluation Finish\n",
      "278: Data Load Finish, Predict Finish, 7.2475 7.2331 0.1012 0.8985 Evaluation Finish\n",
      "279: Data Load Finish, Predict Finish, 3.7843 3.7405 0.0523 0.947 Evaluation Finish\n",
      "280: Data Load Finish, Predict Finish, 4.3531 4.3214 0.0605 0.9391 Evaluation Finish\n",
      "281: Data Load Finish, Predict Finish, 2.4795 2.4227 0.0339 0.9653 Evaluation Finish\n",
      "282: Data Load Finish, Predict Finish, 4.5582 4.5233 0.0633 0.9362 Evaluation Finish\n",
      "283: Data Load Finish, Predict Finish, 9.8978 9.8881 0.1384 0.8614 Evaluation Finish\n",
      "284: Data Load Finish, Predict Finish, 4.7694 4.5953 0.0644 0.9332 Evaluation Finish\n",
      "285: Data Load Finish, Predict Finish, 3.2103 3.1576 0.0442 0.9551 Evaluation Finish\n",
      "286: Data Load Finish, Predict Finish, 4.2808 4.2516 0.0595 0.9401 Evaluation Finish\n",
      "287: Data Load Finish, Predict Finish, 4.1168 4.0602 0.0568 0.9424 Evaluation Finish\n",
      "288: Data Load Finish, Predict Finish, 3.9261 3.8968 0.0545 0.945 Evaluation Finish\n",
      "289: Data Load Finish, Predict Finish, 5.01 4.9838 0.0697 0.9299 Evaluation Finish\n",
      "290: Data Load Finish, Predict Finish, 4.382 4.3533 0.0609 0.9387 Evaluation Finish\n",
      "291: Data Load Finish, Predict Finish, 7.7978 7.7839 0.1089 0.8908 Evaluation Finish\n",
      "292: Data Load Finish, Predict Finish, 6.6816 6.4019 0.0895 0.9065 Evaluation Finish\n",
      "293: Data Load Finish, Predict Finish, 7.1656 7.0742 0.099 0.8997 Evaluation Finish\n",
      "294: Data Load Finish, Predict Finish, 4.127 4.0946 0.0573 0.9422 Evaluation Finish\n",
      "295: Data Load Finish, Predict Finish, 7.8881 7.8603 0.11 0.8896 Evaluation Finish\n",
      "296: Data Load Finish, Predict Finish, 4.3106 4.2844 0.0599 0.9397 Evaluation Finish\n",
      "297: Data Load Finish, Predict Finish, 3.9825 3.951 0.0553 0.9442 Evaluation Finish\n",
      "298: Data Load Finish, Predict Finish, 3.3723 3.3361 0.0467 0.9528 Evaluation Finish\n",
      "299: Data Load Finish, Predict Finish, 3.8713 3.8346 0.0536 0.9458 Evaluation Finish\n",
      "300: Data Load Finish, Predict Finish, 3.23 3.1691 0.0443 0.9548 Evaluation Finish\n",
      "301: Data Load Finish, Predict Finish, 7.0718 7.0542 0.0987 0.901 Evaluation Finish\n",
      "302: Data Load Finish, Predict Finish, 4.4388 4.393 0.0615 0.9379 Evaluation Finish\n",
      "303: Data Load Finish, Predict Finish, 5.1171 5.0783 0.071 0.9284 Evaluation Finish\n",
      "304: Data Load Finish, Predict Finish, 4.8695 4.8211 0.0674 0.9318 Evaluation Finish\n",
      "305: Data Load Finish, Predict Finish, 9.7901 9.7788 0.1369 0.8629 Evaluation Finish\n",
      "306: Data Load Finish, Predict Finish, 3.2866 3.2488 0.0454 0.954 Evaluation Finish\n",
      "307: Data Load Finish, Predict Finish, 4.752 4.7136 0.0659 0.9335 Evaluation Finish\n",
      "308: Data Load Finish, Predict Finish, 9.0357 8.9773 0.1256 0.8735 Evaluation Finish\n",
      "309: Data Load Finish, Predict Finish, 3.3254 3.2911 0.046 0.9534 Evaluation Finish\n",
      "310: Data Load Finish, Predict Finish, 6.3594 6.337 0.0887 0.911 Evaluation Finish\n",
      "311: Data Load Finish, Predict Finish, 3.1155 3.0794 0.0431 0.9564 Evaluation Finish\n",
      "312: Data Load Finish, Predict Finish, 3.8022 3.7687 0.0527 0.9468 Evaluation Finish\n",
      "313: Data Load Finish, Predict Finish, 5.9115 5.8824 0.0823 0.9172 Evaluation Finish\n",
      "314: Data Load Finish, Predict Finish, 3.8193 3.7803 0.0529 0.9465 Evaluation Finish\n",
      "315: Data Load Finish, Predict Finish, 5.5133 5.498 0.0769 0.9228 Evaluation Finish\n",
      "316: Data Load Finish, Predict Finish, 3.9597 3.9246 0.0549 0.9446 Evaluation Finish\n",
      "317: Data Load Finish, Predict Finish, 7.8768 7.8667 0.1101 0.8897 Evaluation Finish\n",
      "318: Data Load Finish, Predict Finish, 11.0395 11.0326 0.1544 0.8455 Evaluation Finish\n",
      "319: Data Load Finish, Predict Finish, 3.1496 3.1072 0.0435 0.9559 Evaluation Finish\n",
      "320: Data Load Finish, Predict Finish, 8.4725 8.4576 0.1184 0.8814 Evaluation Finish\n",
      "321: Data Load Finish, Predict Finish, 1.8024 1.7344 0.0242 0.9748 Evaluation Finish\n",
      "322: Data Load Finish, Predict Finish, 3.4445 3.4054 0.0476 0.9518 Evaluation Finish\n",
      "323: Data Load Finish, Predict Finish, 0.7689 0.6058 0.0084 0.9892 Evaluation Finish\n",
      "324: Data Load Finish, Predict Finish, 4.3657 4.3336 0.0606 0.9389 Evaluation Finish\n",
      "RMSE: 5.12373424945347, MAE: 5.086485915803729, MAPE: 0.07117160855790172\n",
      "ACC: 0.9282735721891084\n"
     ]
    }
   ],
   "source": [
    "predictARIMA(df, idx, 6)"
   ]
  },
  {
   "cell_type": "markdown",
   "id": "c1acb05c",
   "metadata": {},
   "source": [
    "### Unobserved Nodes = 5%"
   ]
  },
  {
   "cell_type": "code",
   "execution_count": 10,
   "id": "8a799433",
   "metadata": {},
   "outputs": [
    {
     "name": "stdout",
     "output_type": "stream",
     "text": [
      "52116 325\n"
     ]
    },
    {
     "data": {
      "text/plain": [
       "833856"
      ]
     },
     "execution_count": 10,
     "metadata": {},
     "output_type": "execute_result"
    }
   ],
   "source": [
    "df, idx = csvIndexToDatetime(path_5, start, freq)\n",
    "(df == 0).sum().sum()"
   ]
  },
  {
   "cell_type": "code",
   "execution_count": 11,
   "id": "83ef8625",
   "metadata": {
    "scrolled": false
   },
   "outputs": [
    {
     "name": "stdout",
     "output_type": "stream",
     "text": [
      "0: Data Load Finish, Predict Finish, 0.5352 0.408 0.0057 0.9925 Evaluation Finish\n",
      "1: Data Load Finish, Predict Finish, 5.7771 5.7583 0.0806 0.9191 Evaluation Finish\n",
      "2: Data Load Finish, Predict Finish, 3.9123 3.8345 0.0536 0.9452 Evaluation Finish\n",
      "3: Data Load Finish, Predict Finish, 10.228 10.2207 0.1431 0.8568 Evaluation Finish\n",
      "4: Data Load Finish, Predict Finish, 10.227 10.2185 0.143 0.8568 Evaluation Finish\n",
      "5: Data Load Finish, Predict Finish, 5.1786 5.1544 0.0721 0.9275 Evaluation Finish\n",
      "6: Data Load Finish, Predict Finish, 7.0291 7.0002 0.098 0.9016 Evaluation Finish\n",
      "7: Data Load Finish, Predict Finish, 4.0306 3.9975 0.0559 0.9436 Evaluation Finish\n",
      "8: Data Load Finish, Predict Finish, 6.1564 6.1366 0.0859 0.9138 Evaluation Finish\n",
      "9: Data Load Finish, Predict Finish, 4.9139 4.8906 0.0684 0.9312 Evaluation Finish\n",
      "10: Data Load Finish, Predict Finish, 4.5407 4.5146 0.0632 0.9364 Evaluation Finish\n",
      "11: Data Load Finish, Predict Finish, 5.0203 4.9937 0.0699 0.9297 Evaluation Finish\n",
      "12: Data Load Finish, Predict Finish, 3.9734 3.933 0.055 0.9444 Evaluation Finish\n",
      "13: Data Load Finish, Predict Finish, 3.9621 3.9116 0.0547 0.9445 Evaluation Finish\n",
      "14: Data Load Finish, Predict Finish, 3.6565 3.6239 0.0507 0.9488 Evaluation Finish\n",
      "15: Data Load Finish, Predict Finish, 3.2755 3.2322 0.0452 0.9541 Evaluation Finish\n",
      "16: Data Load Finish, Predict Finish, 3.8626 3.8232 0.0535 0.9459 Evaluation Finish\n",
      "17: Data Load Finish, Predict Finish, 3.6357 3.587 0.0502 0.9491 Evaluation Finish\n",
      "18: Data Load Finish, Predict Finish, 3.6102 3.5872 0.0502 0.9495 Evaluation Finish\n",
      "19: Data Load Finish, Predict Finish, 6.6244 6.5976 0.0923 0.9073 Evaluation Finish\n",
      "20: Data Load Finish, Predict Finish, 5.3937 5.37 0.0751 0.9245 Evaluation Finish\n",
      "21: Data Load Finish, Predict Finish, 6.0682 6.0446 0.0846 0.9151 Evaluation Finish\n",
      "22: Data Load Finish, Predict Finish, 3.9443 3.9149 0.0548 0.9448 Evaluation Finish\n",
      "23: Data Load Finish, Predict Finish, 6.6734 6.6486 0.093 0.9066 Evaluation Finish\n",
      "24: Data Load Finish, Predict Finish, 2.7967 2.7479 0.0384 0.9608 Evaluation Finish\n",
      "25: Data Load Finish, Predict Finish, 4.3151 4.2887 0.06 0.9396 Evaluation Finish\n",
      "26: Data Load Finish, Predict Finish, 5.1591 5.1353 0.0719 0.9278 Evaluation Finish\n",
      "27: Data Load Finish, Predict Finish, 2.441 2.3663 0.0331 0.9658 Evaluation Finish\n",
      "28: Data Load Finish, Predict Finish, 5.9666 5.9459 0.0832 0.9165 Evaluation Finish\n",
      "29: Data Load Finish, Predict Finish, 11.5636 11.5584 0.1618 0.8381 Evaluation Finish\n",
      "30: Data Load Finish, Predict Finish, 4.646 4.6243 0.0647 0.935 Evaluation Finish\n",
      "31: Data Load Finish, Predict Finish, 6.844 6.831 0.0956 0.9042 Evaluation Finish\n",
      "32: Data Load Finish, Predict Finish, 3.1667 3.1283 0.0438 0.9557 Evaluation Finish\n",
      "33: Data Load Finish, Predict Finish, 9.5293 9.5233 0.1333 0.8666 Evaluation Finish\n",
      "34: Data Load Finish, Predict Finish, 4.6451 4.6116 0.0645 0.935 Evaluation Finish\n",
      "35: Data Load Finish, Predict Finish, 7.9326 7.9155 0.1108 0.889 Evaluation Finish\n",
      "36: Data Load Finish, Predict Finish, 0.562 0.484 0.0068 0.9921 Evaluation Finish\n",
      "37: Data Load Finish, Predict Finish, 2.8911 2.8414 0.0397 0.9595 Evaluation Finish\n",
      "38: Data Load Finish, Predict Finish, 7.6985 7.6791 0.1075 0.8922 Evaluation Finish\n",
      "39: Data Load Finish, Predict Finish, 5.8368 5.8198 0.0814 0.9183 Evaluation Finish\n",
      "40: Data Load Finish, "
     ]
    },
    {
     "name": "stderr",
     "output_type": "stream",
     "text": [
      "/home/vislab/anaconda3/envs/cctv/lib/python3.7/site-packages/pandas/core/arraylike.py:364: RuntimeWarning: divide by zero encountered in log\n",
      "  result = getattr(ufunc, method)(*inputs, **kwargs)\n",
      "/home/vislab/anaconda3/envs/cctv/lib/python3.7/site-packages/statsmodels/base/model.py:606: ConvergenceWarning: Maximum Likelihood optimization failed to converge. Check mle_retvals\n",
      "  ConvergenceWarning)\n"
     ]
    },
    {
     "name": "stdout",
     "output_type": "stream",
     "text": [
      "Predict Finish, 70.4344 70.4333 0.986 0.014 Evaluation Finish\n",
      "41: Data Load Finish, Predict Finish, 7.3339 7.3178 0.1024 0.8973 Evaluation Finish\n",
      "42: Data Load Finish, Predict Finish, 5.8894 5.8645 0.0821 0.9176 Evaluation Finish\n",
      "43: Data Load Finish, Predict Finish, 6.1639 6.1302 0.0858 0.9137 Evaluation Finish\n",
      "44: Data Load Finish, Predict Finish, 4.3314 4.3048 0.0602 0.9394 Evaluation Finish\n",
      "45: Data Load Finish, Predict Finish, 3.5075 3.4529 0.0483 0.9509 Evaluation Finish\n",
      "46: Data Load Finish, Predict Finish, 9.3941 9.3866 0.1314 0.8685 Evaluation Finish\n",
      "47: Data Load Finish, "
     ]
    },
    {
     "name": "stderr",
     "output_type": "stream",
     "text": [
      "/home/vislab/anaconda3/envs/cctv/lib/python3.7/site-packages/pandas/core/arraylike.py:364: RuntimeWarning: divide by zero encountered in log\n",
      "  result = getattr(ufunc, method)(*inputs, **kwargs)\n",
      "/home/vislab/anaconda3/envs/cctv/lib/python3.7/site-packages/statsmodels/base/model.py:606: ConvergenceWarning: Maximum Likelihood optimization failed to converge. Check mle_retvals\n",
      "  ConvergenceWarning)\n"
     ]
    },
    {
     "name": "stdout",
     "output_type": "stream",
     "text": [
      "Predict Finish, 70.4344 70.4333 0.986 0.014 Evaluation Finish\n",
      "48: Data Load Finish, Predict Finish, 5.3242 5.299 0.0741 0.9255 Evaluation Finish\n",
      "49: Data Load Finish, Predict Finish, 3.1592 3.1155 0.0436 0.9558 Evaluation Finish\n",
      "50: Data Load Finish, Predict Finish, 6.566 6.5499 0.0917 0.9081 Evaluation Finish\n",
      "51: Data Load Finish, Predict Finish, 2.958 2.9116 0.0407 0.9586 Evaluation Finish\n",
      "52: Data Load Finish, Predict Finish, 3.0853 3.0504 0.0427 0.9568 Evaluation Finish\n",
      "53: Data Load Finish, Predict Finish, 6.7134 6.6907 0.0936 0.906 Evaluation Finish\n",
      "54: Data Load Finish, Predict Finish, 3.6121 3.5708 0.0499 0.9494 Evaluation Finish\n",
      "55: Data Load Finish, "
     ]
    },
    {
     "name": "stderr",
     "output_type": "stream",
     "text": [
      "/home/vislab/anaconda3/envs/cctv/lib/python3.7/site-packages/pandas/core/arraylike.py:364: RuntimeWarning: divide by zero encountered in log\n",
      "  result = getattr(ufunc, method)(*inputs, **kwargs)\n",
      "/home/vislab/anaconda3/envs/cctv/lib/python3.7/site-packages/statsmodels/base/model.py:606: ConvergenceWarning: Maximum Likelihood optimization failed to converge. Check mle_retvals\n",
      "  ConvergenceWarning)\n"
     ]
    },
    {
     "name": "stdout",
     "output_type": "stream",
     "text": [
      "Predict Finish, 70.4344 70.4333 0.986 0.014 Evaluation Finish\n",
      "56: Data Load Finish, "
     ]
    },
    {
     "name": "stderr",
     "output_type": "stream",
     "text": [
      "/home/vislab/anaconda3/envs/cctv/lib/python3.7/site-packages/pandas/core/arraylike.py:364: RuntimeWarning: divide by zero encountered in log\n",
      "  result = getattr(ufunc, method)(*inputs, **kwargs)\n",
      "/home/vislab/anaconda3/envs/cctv/lib/python3.7/site-packages/statsmodels/base/model.py:606: ConvergenceWarning: Maximum Likelihood optimization failed to converge. Check mle_retvals\n",
      "  ConvergenceWarning)\n"
     ]
    },
    {
     "name": "stdout",
     "output_type": "stream",
     "text": [
      "Predict Finish, 70.4344 70.4333 0.986 0.014 Evaluation Finish\n",
      "57: Data Load Finish, "
     ]
    },
    {
     "name": "stderr",
     "output_type": "stream",
     "text": [
      "/home/vislab/anaconda3/envs/cctv/lib/python3.7/site-packages/pandas/core/arraylike.py:364: RuntimeWarning: divide by zero encountered in log\n",
      "  result = getattr(ufunc, method)(*inputs, **kwargs)\n",
      "/home/vislab/anaconda3/envs/cctv/lib/python3.7/site-packages/statsmodels/base/model.py:606: ConvergenceWarning: Maximum Likelihood optimization failed to converge. Check mle_retvals\n",
      "  ConvergenceWarning)\n"
     ]
    },
    {
     "name": "stdout",
     "output_type": "stream",
     "text": [
      "Predict Finish, 70.4344 70.4333 0.986 0.014 Evaluation Finish\n",
      "58: Data Load Finish, Predict Finish, 4.3179 4.2873 0.06 0.9396 Evaluation Finish\n",
      "59: Data Load Finish, Predict Finish, 4.3595 4.3316 0.0606 0.939 Evaluation Finish\n",
      "60: Data Load Finish, "
     ]
    },
    {
     "name": "stderr",
     "output_type": "stream",
     "text": [
      "/home/vislab/anaconda3/envs/cctv/lib/python3.7/site-packages/pandas/core/arraylike.py:364: RuntimeWarning: divide by zero encountered in log\n",
      "  result = getattr(ufunc, method)(*inputs, **kwargs)\n",
      "/home/vislab/anaconda3/envs/cctv/lib/python3.7/site-packages/statsmodels/base/model.py:606: ConvergenceWarning: Maximum Likelihood optimization failed to converge. Check mle_retvals\n",
      "  ConvergenceWarning)\n"
     ]
    },
    {
     "name": "stdout",
     "output_type": "stream",
     "text": [
      "Predict Finish, 70.4344 70.4333 0.986 0.014 Evaluation Finish\n",
      "61: Data Load Finish, Predict Finish, 3.8467 3.8058 0.0532 0.9462 Evaluation Finish\n",
      "62: Data Load Finish, Predict Finish, 3.9614 3.9273 0.0549 0.9445 Evaluation Finish\n",
      "63: Data Load Finish, Predict Finish, 5.5191 5.492 0.0768 0.9227 Evaluation Finish\n",
      "64: Data Load Finish, Predict Finish, 7.0993 7.081 0.0991 0.9006 Evaluation Finish\n",
      "65: Data Load Finish, "
     ]
    },
    {
     "name": "stderr",
     "output_type": "stream",
     "text": [
      "/home/vislab/anaconda3/envs/cctv/lib/python3.7/site-packages/pandas/core/arraylike.py:364: RuntimeWarning: divide by zero encountered in log\n",
      "  result = getattr(ufunc, method)(*inputs, **kwargs)\n",
      "/home/vislab/anaconda3/envs/cctv/lib/python3.7/site-packages/statsmodels/base/model.py:606: ConvergenceWarning: Maximum Likelihood optimization failed to converge. Check mle_retvals\n",
      "  ConvergenceWarning)\n"
     ]
    },
    {
     "name": "stdout",
     "output_type": "stream",
     "text": [
      "Predict Finish, 70.4344 70.4333 0.986 0.014 Evaluation Finish\n",
      "66: Data Load Finish, Predict Finish, 9.1508 9.133 0.1278 0.8719 Evaluation Finish\n",
      "67: Data Load Finish, Predict Finish, 8.255 8.2423 0.1154 0.8844 Evaluation Finish\n",
      "68: Data Load Finish, Predict Finish, 3.665 3.6085 0.0505 0.9487 Evaluation Finish\n",
      "69: Data Load Finish, Predict Finish, 7.1041 7.0904 0.0992 0.9006 Evaluation Finish\n",
      "70: Data Load Finish, Predict Finish, 4.9879 4.969 0.0695 0.9302 Evaluation Finish\n",
      "71: Data Load Finish, Predict Finish, 9.5966 9.5891 0.1342 0.8657 Evaluation Finish\n",
      "72: Data Load Finish, Predict Finish, 6.598 6.5754 0.092 0.9076 Evaluation Finish\n",
      "73: Data Load Finish, Predict Finish, 5.3925 5.3614 0.075 0.9245 Evaluation Finish\n",
      "74: Data Load Finish, Predict Finish, 11.0089 11.0013 0.154 0.8459 Evaluation Finish\n",
      "75: Data Load Finish, Predict Finish, 3.1273 3.0851 0.0432 0.9562 Evaluation Finish\n",
      "76: Data Load Finish, Predict Finish, 2.1275 1.9959 0.0279 0.9702 Evaluation Finish\n",
      "77: Data Load Finish, Predict Finish, 5.0434 5.0199 0.0702 0.9294 Evaluation Finish\n",
      "78: Data Load Finish, "
     ]
    },
    {
     "name": "stderr",
     "output_type": "stream",
     "text": [
      "/home/vislab/anaconda3/envs/cctv/lib/python3.7/site-packages/pandas/core/arraylike.py:364: RuntimeWarning: divide by zero encountered in log\n",
      "  result = getattr(ufunc, method)(*inputs, **kwargs)\n",
      "/home/vislab/anaconda3/envs/cctv/lib/python3.7/site-packages/statsmodels/base/model.py:606: ConvergenceWarning: Maximum Likelihood optimization failed to converge. Check mle_retvals\n",
      "  ConvergenceWarning)\n"
     ]
    },
    {
     "name": "stdout",
     "output_type": "stream",
     "text": [
      "Predict Finish, 70.4344 70.4333 0.986 0.014 Evaluation Finish\n",
      "79: Data Load Finish, Predict Finish, 2.6941 2.6475 0.037 0.9623 Evaluation Finish\n",
      "80: Data Load Finish, Predict Finish, 4.1947 4.1306 0.0578 0.9413 Evaluation Finish\n",
      "81: Data Load Finish, Predict Finish, 3.185 3.1398 0.0439 0.9554 Evaluation Finish\n",
      "82: Data Load Finish, Predict Finish, 4.8555 4.8304 0.0676 0.932 Evaluation Finish\n",
      "83: Data Load Finish, Predict Finish, 5.4008 5.3337 0.0746 0.9244 Evaluation Finish\n",
      "84: Data Load Finish, Predict Finish, 4.038 3.9994 0.0559 0.9435 Evaluation Finish\n",
      "85: Data Load Finish, Predict Finish, 7.4993 7.4864 0.1048 0.895 Evaluation Finish\n",
      "86: Data Load Finish, Predict Finish, 6.506 6.4889 0.0908 0.9089 Evaluation Finish\n",
      "87: Data Load Finish, Predict Finish, 4.3217 4.2863 0.06 0.9395 Evaluation Finish\n",
      "88: Data Load Finish, Predict Finish, 8.9706 8.9543 0.1253 0.8744 Evaluation Finish\n",
      "89: Data Load Finish, Predict Finish, 4.7897 4.7668 0.0667 0.933 Evaluation Finish\n",
      "90: Data Load Finish, Predict Finish, 5.0031 4.9732 0.0696 0.93 Evaluation Finish\n",
      "91: Data Load Finish, Predict Finish, 12.4351 12.4299 0.174 0.8259 Evaluation Finish\n",
      "92: Data Load Finish, Predict Finish, 2.8936 2.8566 0.04 0.9595 Evaluation Finish\n",
      "93: Data Load Finish, Predict Finish, 3.1003 3.0393 0.0425 0.9566 Evaluation Finish\n",
      "94: Data Load Finish, Predict Finish, 9.6627 9.6532 0.1351 0.8647 Evaluation Finish\n",
      "95: Data Load Finish, Predict Finish, 5.4587 5.4395 0.0761 0.9236 Evaluation Finish\n",
      "96: Data Load Finish, Predict Finish, 10.5595 10.5509 0.1477 0.8522 Evaluation Finish\n",
      "97: Data Load Finish, Predict Finish, 4.3837 4.3459 0.0608 0.9386 Evaluation Finish\n",
      "98: Data Load Finish, Predict Finish, 9.9347 9.9259 0.1389 0.8609 Evaluation Finish\n",
      "99: Data Load Finish, Predict Finish, 2.0081 1.9262 0.0269 0.9719 Evaluation Finish\n",
      "100: Data Load Finish, Predict Finish, 5.1785 5.132 0.0718 0.9275 Evaluation Finish\n",
      "101: Data Load Finish, Predict Finish, 5.3718 5.3487 0.0748 0.9248 Evaluation Finish\n",
      "102: Data Load Finish, Predict Finish, 2.5793 2.5093 0.0351 0.9639 Evaluation Finish\n",
      "103: Data Load Finish, Predict Finish, 2.7624 2.7127 0.0379 0.9613 Evaluation Finish\n",
      "104: Data Load Finish, Predict Finish, 7.8159 7.764 0.1086 0.8906 Evaluation Finish\n",
      "105: Data Load Finish, Predict Finish, 2.721 2.6795 0.0375 0.9619 Evaluation Finish\n",
      "106: Data Load Finish, Predict Finish, 4.6829 4.6518 0.0651 0.9344 Evaluation Finish\n",
      "107: Data Load Finish, Predict Finish, 2.2533 2.2014 0.0308 0.9685 Evaluation Finish\n",
      "108: Data Load Finish, Predict Finish, 3.3818 3.345 0.0468 0.9527 Evaluation Finish\n",
      "109: Data Load Finish, Predict Finish, 0.8791 0.6907 0.0096 0.9877 Evaluation Finish\n",
      "110: Data Load Finish, Predict Finish, 4.9216 4.8984 0.0685 0.9311 Evaluation Finish\n",
      "111: Data Load Finish, Predict Finish, 3.6516 3.6273 0.0507 0.9489 Evaluation Finish\n",
      "112: Data Load Finish, Predict Finish, 3.2945 3.2561 0.0455 0.9539 Evaluation Finish\n",
      "113: Data Load Finish, Predict Finish, 5.2535 5.2304 0.0732 0.9265 Evaluation Finish\n",
      "114: Data Load Finish, Predict Finish, 2.9745 2.927 0.0409 0.9584 Evaluation Finish\n",
      "115: Data Load Finish, Predict Finish, 9.5537 9.5443 0.1336 0.8663 Evaluation Finish\n",
      "116: Data Load Finish, Predict Finish, 9.5526 9.5416 0.1335 0.8663 Evaluation Finish\n",
      "117: Data Load Finish, "
     ]
    },
    {
     "name": "stderr",
     "output_type": "stream",
     "text": [
      "/home/vislab/anaconda3/envs/cctv/lib/python3.7/site-packages/statsmodels/base/model.py:606: ConvergenceWarning: Maximum Likelihood optimization failed to converge. Check mle_retvals\n",
      "  ConvergenceWarning)\n"
     ]
    },
    {
     "name": "stdout",
     "output_type": "stream",
     "text": [
      "Predict Finish, 3.9918 3.9715 0.0556 0.9441 Evaluation Finish\n",
      "118: Data Load Finish, Predict Finish, 2.2836 2.2132 0.0309 0.968 Evaluation Finish\n",
      "119: Data Load Finish, Predict Finish, 3.4662 3.4313 0.048 0.9515 Evaluation Finish\n",
      "120: Data Load Finish, Predict Finish, 3.505 3.4628 0.0484 0.9509 Evaluation Finish\n",
      "121: Data Load Finish, Predict Finish, 6.8368 6.8193 0.0954 0.9043 Evaluation Finish\n",
      "122: Data Load Finish, Predict Finish, 3.0184 2.9693 0.0415 0.9577 Evaluation Finish\n",
      "123: Data Load Finish, "
     ]
    },
    {
     "name": "stderr",
     "output_type": "stream",
     "text": [
      "/home/vislab/anaconda3/envs/cctv/lib/python3.7/site-packages/pandas/core/arraylike.py:364: RuntimeWarning: divide by zero encountered in log\n",
      "  result = getattr(ufunc, method)(*inputs, **kwargs)\n",
      "/home/vislab/anaconda3/envs/cctv/lib/python3.7/site-packages/statsmodels/base/model.py:606: ConvergenceWarning: Maximum Likelihood optimization failed to converge. Check mle_retvals\n",
      "  ConvergenceWarning)\n"
     ]
    },
    {
     "name": "stdout",
     "output_type": "stream",
     "text": [
      "Predict Finish, 70.4344 70.4333 0.986 0.014 Evaluation Finish\n",
      "124: Data Load Finish, Predict Finish, 2.8882 2.8509 0.0399 0.9596 Evaluation Finish\n",
      "125: Data Load Finish, Predict Finish, 6.8714 6.8635 0.0961 0.9038 Evaluation Finish\n",
      "126: Data Load Finish, Predict Finish, 7.585 7.5704 0.1059 0.8938 Evaluation Finish\n",
      "127: Data Load Finish, Predict Finish, 7.7323 7.7191 0.108 0.8918 Evaluation Finish\n",
      "128: Data Load Finish, Predict Finish, 5.6422 5.6178 0.0786 0.921 Evaluation Finish\n",
      "129: Data Load Finish, Predict Finish, 3.2282 3.1872 0.0446 0.9548 Evaluation Finish\n",
      "130: Data Load Finish, Predict Finish, 5.5115 5.4878 0.0768 0.9228 Evaluation Finish\n",
      "131: Data Load Finish, Predict Finish, 4.6728 4.6499 0.0651 0.9346 Evaluation Finish\n",
      "132: Data Load Finish, Predict Finish, 4.5543 4.5144 0.0632 0.9362 Evaluation Finish\n",
      "133: Data Load Finish, Predict Finish, 15.3463 15.3372 0.2147 0.7852 Evaluation Finish\n",
      "134: Data Load Finish, Predict Finish, 6.445 6.3895 0.0894 0.9098 Evaluation Finish\n",
      "135: Data Load Finish, Predict Finish, 6.0556 6.0323 0.0844 0.9152 Evaluation Finish\n",
      "136: Data Load Finish, Predict Finish, 0.5295 0.4481 0.0063 0.9926 Evaluation Finish\n",
      "137: Data Load Finish, Predict Finish, 3.8318 3.8015 0.0532 0.9464 Evaluation Finish\n",
      "138: Data Load Finish, Predict Finish, 5.7426 5.7149 0.08 0.9196 Evaluation Finish\n",
      "139: Data Load Finish, Predict Finish, 5.2245 5.2054 0.0728 0.9269 Evaluation Finish\n",
      "140: Data Load Finish, Predict Finish, 5.011 4.9887 0.0698 0.9299 Evaluation Finish\n",
      "141: Data Load Finish, Predict Finish, 0.7937 0.6296 0.0088 0.9889 Evaluation Finish\n",
      "142: Data Load Finish, Predict Finish, 1.2683 1.1638 0.0163 0.9822 Evaluation Finish\n",
      "143: Data Load Finish, Predict Finish, 3.7987 3.7698 0.0527 0.9468 Evaluation Finish\n",
      "144: Data Load Finish, Predict Finish, 3.6708 3.6267 0.0507 0.9486 Evaluation Finish\n",
      "145: Data Load Finish, Predict Finish, 6.6299 6.6146 0.0926 0.9072 Evaluation Finish\n",
      "146: Data Load Finish, Predict Finish, 14.9958 14.8704 0.2082 0.7901 Evaluation Finish\n",
      "147: Data Load Finish, Predict Finish, 7.2178 7.2041 0.1008 0.899 Evaluation Finish\n",
      "148: Data Load Finish, "
     ]
    },
    {
     "name": "stderr",
     "output_type": "stream",
     "text": [
      "/home/vislab/anaconda3/envs/cctv/lib/python3.7/site-packages/statsmodels/base/model.py:606: ConvergenceWarning: Maximum Likelihood optimization failed to converge. Check mle_retvals\n",
      "  ConvergenceWarning)\n"
     ]
    },
    {
     "name": "stdout",
     "output_type": "stream",
     "text": [
      "Predict Finish, 3.9918 3.9715 0.0556 0.9441 Evaluation Finish\n",
      "149: Data Load Finish, Predict Finish, 5.9047 5.8825 0.0823 0.9173 Evaluation Finish\n",
      "150: Data Load Finish, Predict Finish, 4.2431 4.2153 0.059 0.9406 Evaluation Finish\n",
      "151: Data Load Finish, Predict Finish, 6.5988 6.5762 0.092 0.9076 Evaluation Finish\n",
      "152: Data Load Finish, Predict Finish, 13.5145 13.5097 0.1891 0.8108 Evaluation Finish\n",
      "153: Data Load Finish, Predict Finish, 3.3416 3.3015 0.0462 0.9532 Evaluation Finish\n",
      "154: Data Load Finish, Predict Finish, 3.3185 3.2845 0.0459 0.9535 Evaluation Finish\n",
      "155: Data Load Finish, Predict Finish, 7.4668 7.4562 0.1044 0.8955 Evaluation Finish\n",
      "156: Data Load Finish, Predict Finish, 1.7255 1.6615 0.0232 0.9758 Evaluation Finish\n",
      "157: Data Load Finish, Predict Finish, 3.2706 3.2219 0.0451 0.9542 Evaluation Finish\n",
      "158: Data Load Finish, Predict Finish, 4.3958 4.3413 0.0607 0.9385 Evaluation Finish\n",
      "159: Data Load Finish, Predict Finish, 9.5042 9.4884 0.1328 0.867 Evaluation Finish\n",
      "160: Data Load Finish, Predict Finish, 7.2237 7.2118 0.1009 0.8989 Evaluation Finish\n",
      "161: Data Load Finish, Predict Finish, 8.2311 8.2187 0.115 0.8848 Evaluation Finish\n",
      "162: Data Load Finish, Predict Finish, 9.7848 9.7735 0.1368 0.863 Evaluation Finish\n",
      "163: Data Load Finish, Predict Finish, 4.6543 4.6199 0.0646 0.9348 Evaluation Finish\n",
      "164: Data Load Finish, Predict Finish, 5.0506 5.0331 0.0704 0.9293 Evaluation Finish\n",
      "165: Data Load Finish, Predict Finish, 1.0002 0.864 0.0121 0.986 Evaluation Finish\n",
      "166: Data Load Finish, Predict Finish, 5.4859 5.4659 0.0765 0.9232 Evaluation Finish\n",
      "167: Data Load Finish, Predict Finish, 8.837 8.8254 0.1235 0.8763 Evaluation Finish\n",
      "168: Data Load Finish, Predict Finish, 3.9964 3.96 0.0554 0.9441 Evaluation Finish\n",
      "169: Data Load Finish, Predict Finish, 5.029 4.9889 0.0698 0.9296 Evaluation Finish\n",
      "170: Data Load Finish, Predict Finish, 5.0432 5.0094 0.0701 0.9294 Evaluation Finish\n",
      "171: Data Load Finish, Predict Finish, 6.6299 6.6146 0.0926 0.9072 Evaluation Finish\n",
      "172: Data Load Finish, Predict Finish, 1.9593 1.8999 0.0266 0.9726 Evaluation Finish\n",
      "173: Data Load Finish, Predict Finish, 3.1954 3.1613 0.0442 0.9553 Evaluation Finish\n",
      "174: Data Load Finish, Predict Finish, 0.8993 0.7541 0.0105 0.9874 Evaluation Finish\n",
      "175: Data Load Finish, Predict Finish, 1.3135 1.192 0.0166 0.9816 Evaluation Finish\n",
      "176: Data Load Finish, "
     ]
    },
    {
     "name": "stderr",
     "output_type": "stream",
     "text": [
      "/home/vislab/anaconda3/envs/cctv/lib/python3.7/site-packages/statsmodels/base/model.py:606: ConvergenceWarning: Maximum Likelihood optimization failed to converge. Check mle_retvals\n",
      "  ConvergenceWarning)\n"
     ]
    },
    {
     "name": "stdout",
     "output_type": "stream",
     "text": [
      "Predict Finish, 7.7477 7.7212 0.108 0.8915 Evaluation Finish\n",
      "177: Data Load Finish, "
     ]
    },
    {
     "name": "stderr",
     "output_type": "stream",
     "text": [
      "/home/vislab/anaconda3/envs/cctv/lib/python3.7/site-packages/statsmodels/base/model.py:606: ConvergenceWarning: Maximum Likelihood optimization failed to converge. Check mle_retvals\n",
      "  ConvergenceWarning)\n"
     ]
    },
    {
     "name": "stdout",
     "output_type": "stream",
     "text": [
      "Predict Finish, 3.8825 3.8619 0.054 0.9457 Evaluation Finish\n",
      "178: Data Load Finish, Predict Finish, 3.1859 3.1411 0.0439 0.9554 Evaluation Finish\n",
      "179: Data Load Finish, "
     ]
    },
    {
     "name": "stderr",
     "output_type": "stream",
     "text": [
      "/home/vislab/anaconda3/envs/cctv/lib/python3.7/site-packages/pandas/core/arraylike.py:364: RuntimeWarning: divide by zero encountered in log\n",
      "  result = getattr(ufunc, method)(*inputs, **kwargs)\n",
      "/home/vislab/anaconda3/envs/cctv/lib/python3.7/site-packages/statsmodels/base/model.py:606: ConvergenceWarning: Maximum Likelihood optimization failed to converge. Check mle_retvals\n",
      "  ConvergenceWarning)\n"
     ]
    },
    {
     "name": "stdout",
     "output_type": "stream",
     "text": [
      "Predict Finish, 70.4344 70.4333 0.986 0.014 Evaluation Finish\n",
      "180: Data Load Finish, Predict Finish, 3.5023 3.4607 0.0484 0.951 Evaluation Finish\n",
      "181: Data Load Finish, Predict Finish, 4.5842 4.5607 0.0638 0.9358 Evaluation Finish\n",
      "182: Data Load Finish, Predict Finish, 4.1537 4.1246 0.0577 0.9419 Evaluation Finish\n",
      "183: Data Load Finish, Predict Finish, 5.1824 5.1413 0.0719 0.9275 Evaluation Finish\n",
      "184: Data Load Finish, Predict Finish, 5.2371 5.2146 0.073 0.9267 Evaluation Finish\n",
      "185: Data Load Finish, Predict Finish, 4.3287 4.2893 0.06 0.9394 Evaluation Finish\n",
      "186: Data Load Finish, Predict Finish, 4.3068 4.2767 0.0598 0.9397 Evaluation Finish\n",
      "187: Data Load Finish, Predict Finish, 3.8293 3.7991 0.0531 0.9464 Evaluation Finish\n",
      "188: Data Load Finish, "
     ]
    },
    {
     "name": "stderr",
     "output_type": "stream",
     "text": [
      "/home/vislab/anaconda3/envs/cctv/lib/python3.7/site-packages/pandas/core/arraylike.py:364: RuntimeWarning: divide by zero encountered in log\n",
      "  result = getattr(ufunc, method)(*inputs, **kwargs)\n",
      "/home/vislab/anaconda3/envs/cctv/lib/python3.7/site-packages/statsmodels/base/model.py:606: ConvergenceWarning: Maximum Likelihood optimization failed to converge. Check mle_retvals\n",
      "  ConvergenceWarning)\n"
     ]
    },
    {
     "name": "stdout",
     "output_type": "stream",
     "text": [
      "Predict Finish, 70.4344 70.4333 0.986 0.014 Evaluation Finish\n",
      "189: Data Load Finish, Predict Finish, 2.4156 2.3469 0.0328 0.9662 Evaluation Finish\n",
      "190: Data Load Finish, Predict Finish, 2.9315 2.8925 0.0405 0.959 Evaluation Finish\n",
      "191: Data Load Finish, Predict Finish, 4.0841 4.0535 0.0567 0.9428 Evaluation Finish\n",
      "192: Data Load Finish, Predict Finish, 4.7531 4.724 0.0661 0.9335 Evaluation Finish\n",
      "193: Data Load Finish, Predict Finish, 1.0813 0.9735 0.0136 0.9849 Evaluation Finish\n",
      "194: Data Load Finish, Predict Finish, 4.1941 4.1592 0.0582 0.9413 Evaluation Finish\n",
      "195: Data Load Finish, Predict Finish, 3.9379 3.9035 0.0546 0.9449 Evaluation Finish\n",
      "196: Data Load Finish, Predict Finish, 1.0569 0.917 0.0128 0.9852 Evaluation Finish\n",
      "197: Data Load Finish, Predict Finish, 5.0005 4.9781 0.0697 0.93 Evaluation Finish\n",
      "198: Data Load Finish, Predict Finish, 4.8821 4.8067 0.0672 0.9317 Evaluation Finish\n",
      "199: Data Load Finish, Predict Finish, 2.8278 2.7678 0.0387 0.9604 Evaluation Finish\n",
      "200: Data Load Finish, Predict Finish, 3.252 3.2036 0.0448 0.9545 Evaluation Finish\n",
      "201: Data Load Finish, Predict Finish, 4.3563 4.3194 0.0604 0.939 Evaluation Finish\n",
      "202: Data Load Finish, "
     ]
    },
    {
     "name": "stderr",
     "output_type": "stream",
     "text": [
      "/home/vislab/anaconda3/envs/cctv/lib/python3.7/site-packages/statsmodels/base/model.py:606: ConvergenceWarning: Maximum Likelihood optimization failed to converge. Check mle_retvals\n",
      "  ConvergenceWarning)\n"
     ]
    },
    {
     "name": "stdout",
     "output_type": "stream",
     "text": [
      "Predict Finish, 7.5429 7.5272 0.1053 0.8944 Evaluation Finish\n",
      "203: Data Load Finish, Predict Finish, 7.2706 7.2533 0.1015 0.8982 Evaluation Finish\n",
      "204: Data Load Finish, Predict Finish, 8.0928 8.0811 0.1131 0.8867 Evaluation Finish\n",
      "205: Data Load Finish, Predict Finish, 7.492 7.4771 0.1046 0.8951 Evaluation Finish\n",
      "206: Data Load Finish, "
     ]
    },
    {
     "name": "stderr",
     "output_type": "stream",
     "text": [
      "/home/vislab/anaconda3/envs/cctv/lib/python3.7/site-packages/pandas/core/arraylike.py:364: RuntimeWarning: divide by zero encountered in log\n",
      "  result = getattr(ufunc, method)(*inputs, **kwargs)\n",
      "/home/vislab/anaconda3/envs/cctv/lib/python3.7/site-packages/statsmodels/base/model.py:606: ConvergenceWarning: Maximum Likelihood optimization failed to converge. Check mle_retvals\n",
      "  ConvergenceWarning)\n"
     ]
    },
    {
     "name": "stdout",
     "output_type": "stream",
     "text": [
      "Predict Finish, 70.4344 70.4333 0.986 0.014 Evaluation Finish\n",
      "207: Data Load Finish, Predict Finish, 3.2043 3.1385 0.0439 0.9551 Evaluation Finish\n",
      "208: Data Load Finish, Predict Finish, 7.6985 7.6839 0.1075 0.8922 Evaluation Finish\n",
      "209: Data Load Finish, "
     ]
    },
    {
     "name": "stderr",
     "output_type": "stream",
     "text": [
      "/home/vislab/anaconda3/envs/cctv/lib/python3.7/site-packages/pandas/core/arraylike.py:364: RuntimeWarning: divide by zero encountered in log\n",
      "  result = getattr(ufunc, method)(*inputs, **kwargs)\n",
      "/home/vislab/anaconda3/envs/cctv/lib/python3.7/site-packages/statsmodels/base/model.py:606: ConvergenceWarning: Maximum Likelihood optimization failed to converge. Check mle_retvals\n",
      "  ConvergenceWarning)\n"
     ]
    },
    {
     "name": "stdout",
     "output_type": "stream",
     "text": [
      "Predict Finish, 70.4344 70.4333 0.986 0.014 Evaluation Finish\n",
      "210: Data Load Finish, Predict Finish, 6.8397 6.8222 0.0955 0.9043 Evaluation Finish\n",
      "211: Data Load Finish, Predict Finish, 8.0601 8.0504 0.1127 0.8872 Evaluation Finish\n",
      "212: Data Load Finish, Predict Finish, 3.6452 3.5926 0.0503 0.949 Evaluation Finish\n",
      "213: Data Load Finish, "
     ]
    },
    {
     "name": "stderr",
     "output_type": "stream",
     "text": [
      "/home/vislab/anaconda3/envs/cctv/lib/python3.7/site-packages/pandas/core/arraylike.py:364: RuntimeWarning: divide by zero encountered in log\n",
      "  result = getattr(ufunc, method)(*inputs, **kwargs)\n",
      "/home/vislab/anaconda3/envs/cctv/lib/python3.7/site-packages/statsmodels/base/model.py:606: ConvergenceWarning: Maximum Likelihood optimization failed to converge. Check mle_retvals\n",
      "  ConvergenceWarning)\n"
     ]
    },
    {
     "name": "stdout",
     "output_type": "stream",
     "text": [
      "Predict Finish, 70.4344 70.4333 0.986 0.014 Evaluation Finish\n",
      "214: Data Load Finish, Predict Finish, 7.0904 7.0747 0.099 0.9007 Evaluation Finish\n",
      "215: Data Load Finish, Predict Finish, 8.0093 7.9952 0.1119 0.8879 Evaluation Finish\n",
      "216: Data Load Finish, Predict Finish, 5.0283 5.0052 0.07 0.9296 Evaluation Finish\n",
      "217: Data Load Finish, Predict Finish, 4.9923 4.9701 0.0695 0.9301 Evaluation Finish\n",
      "218: Data Load Finish, Predict Finish, 7.549 7.5371 0.1055 0.8943 Evaluation Finish\n",
      "219: Data Load Finish, Predict Finish, 6.4336 6.4178 0.0898 0.9099 Evaluation Finish\n",
      "220: Data Load Finish, "
     ]
    },
    {
     "name": "stderr",
     "output_type": "stream",
     "text": [
      "/home/vislab/anaconda3/envs/cctv/lib/python3.7/site-packages/pandas/core/arraylike.py:364: RuntimeWarning: divide by zero encountered in log\n",
      "  result = getattr(ufunc, method)(*inputs, **kwargs)\n",
      "/home/vislab/anaconda3/envs/cctv/lib/python3.7/site-packages/statsmodels/base/model.py:606: ConvergenceWarning: Maximum Likelihood optimization failed to converge. Check mle_retvals\n",
      "  ConvergenceWarning)\n"
     ]
    },
    {
     "name": "stdout",
     "output_type": "stream",
     "text": [
      "Predict Finish, 70.4344 70.4333 0.986 0.014 Evaluation Finish\n",
      "221: Data Load Finish, Predict Finish, 7.2293 7.2153 0.101 0.8988 Evaluation Finish\n",
      "222: Data Load Finish, Predict Finish, 7.2013 7.1898 0.1006 0.8992 Evaluation Finish\n",
      "223: Data Load Finish, "
     ]
    },
    {
     "name": "stderr",
     "output_type": "stream",
     "text": [
      "/home/vislab/anaconda3/envs/cctv/lib/python3.7/site-packages/statsmodels/base/model.py:606: ConvergenceWarning: Maximum Likelihood optimization failed to converge. Check mle_retvals\n",
      "  ConvergenceWarning)\n"
     ]
    },
    {
     "name": "stdout",
     "output_type": "stream",
     "text": [
      "Predict Finish, 6.6589 6.643 0.093 0.9068 Evaluation Finish\n",
      "224: Data Load Finish, "
     ]
    },
    {
     "name": "stderr",
     "output_type": "stream",
     "text": [
      "/home/vislab/anaconda3/envs/cctv/lib/python3.7/site-packages/statsmodels/base/model.py:606: ConvergenceWarning: Maximum Likelihood optimization failed to converge. Check mle_retvals\n",
      "  ConvergenceWarning)\n"
     ]
    },
    {
     "name": "stdout",
     "output_type": "stream",
     "text": [
      "Predict Finish, 6.218 6.1967 0.0867 0.913 Evaluation Finish\n",
      "225: Data Load Finish, Predict Finish, 6.7709 6.755 0.0945 0.9052 Evaluation Finish\n",
      "226: Data Load Finish, Predict Finish, 5.2145 5.1855 0.0726 0.927 Evaluation Finish\n",
      "227: Data Load Finish, Predict Finish, 5.6222 5.5949 0.0783 0.9213 Evaluation Finish\n",
      "228: Data Load Finish, Predict Finish, 3.7276 3.6975 0.0517 0.9478 Evaluation Finish\n",
      "229: Data Load Finish, Predict Finish, 5.3676 5.3446 0.0748 0.9249 Evaluation Finish\n",
      "230: Data Load Finish, Predict Finish, 2.9381 2.899 0.0405 0.9589 Evaluation Finish\n",
      "231: Data Load Finish, Predict Finish, 7.0297 6.9977 0.0979 0.9016 Evaluation Finish\n",
      "232: Data Load Finish, Predict Finish, 2.0547 1.9892 0.0278 0.9712 Evaluation Finish\n",
      "233: Data Load Finish, Predict Finish, 0.8734 0.7799 0.0109 0.9878 Evaluation Finish\n",
      "234: Data Load Finish, Predict Finish, 3.1714 3.0251 0.0423 0.9556 Evaluation Finish\n",
      "235: Data Load Finish, Predict Finish, 3.601 3.5599 0.0498 0.9496 Evaluation Finish\n",
      "236: Data Load Finish, Predict Finish, 3.6449 3.6125 0.0505 0.949 Evaluation Finish\n",
      "237: Data Load Finish, Predict Finish, 3.0812 3.0418 0.0425 0.9569 Evaluation Finish\n",
      "238: Data Load Finish, Predict Finish, 7.637 7.6255 0.1067 0.8931 Evaluation Finish\n",
      "239: Data Load Finish, Predict Finish, 5.6313 5.6135 0.0786 0.9212 Evaluation Finish\n",
      "240: Data Load Finish, Predict Finish, 6.6795 6.6655 0.0933 0.9065 Evaluation Finish\n",
      "241: Data Load Finish, Predict Finish, 9.0688 9.0569 0.1268 0.873 Evaluation Finish\n",
      "242: Data Load Finish, Predict Finish, 3.551 3.5261 0.0493 0.9503 Evaluation Finish\n",
      "243: Data Load Finish, Predict Finish, 5.509 5.4735 0.0766 0.9229 Evaluation Finish\n",
      "244: Data Load Finish, Predict Finish, 4.6964 4.669 0.0653 0.9343 Evaluation Finish\n",
      "245: Data Load Finish, Predict Finish, 4.052 4.0187 0.0562 0.9433 Evaluation Finish\n",
      "246: Data Load Finish, Predict Finish, 6.3367 6.3207 0.0885 0.9113 Evaluation Finish\n",
      "247: Data Load Finish, Predict Finish, 7.5999 7.5872 0.1062 0.8936 Evaluation Finish\n",
      "248: Data Load Finish, Predict Finish, 2.7935 2.7353 0.0383 0.9609 Evaluation Finish\n",
      "249: Data Load Finish, Predict Finish, 6.7121 6.695 0.0937 0.906 Evaluation Finish\n",
      "250: Data Load Finish, Predict Finish, 2.1564 2.0643 0.0289 0.9698 Evaluation Finish\n",
      "251: Data Load Finish, Predict Finish, 6.5161 6.4957 0.0909 0.9088 Evaluation Finish\n",
      "252: Data Load Finish, Predict Finish, 7.1562 7.1436 0.1 0.8998 Evaluation Finish\n",
      "253: Data Load Finish, Predict Finish, 0.6415 0.5504 0.0077 0.991 Evaluation Finish\n",
      "254: Data Load Finish, Predict Finish, 5.6245 5.5971 0.0783 0.9213 Evaluation Finish\n",
      "255: Data Load Finish, Predict Finish, 7.1833 7.1721 0.1004 0.8994 Evaluation Finish\n",
      "256: Data Load Finish, Predict Finish, 4.6736 4.643 0.065 0.9346 Evaluation Finish\n",
      "257: Data Load Finish, Predict Finish, 1.4891 1.3964 0.0195 0.9792 Evaluation Finish\n",
      "258: Data Load Finish, Predict Finish, 5.5829 5.5685 0.0779 0.9218 Evaluation Finish\n",
      "259: Data Load Finish, Predict Finish, 5.8286 5.8159 0.0814 0.9184 Evaluation Finish\n",
      "260: Data Load Finish, Predict Finish, 4.8146 4.7996 0.0672 0.9326 Evaluation Finish\n",
      "261: Data Load Finish, Predict Finish, 3.3212 3.2823 0.0459 0.9535 Evaluation Finish\n",
      "262: Data Load Finish, Predict Finish, 3.9512 3.9253 0.0549 0.9447 Evaluation Finish\n",
      "263: Data Load Finish, Predict Finish, 5.9718 5.9566 0.0834 0.9164 Evaluation Finish\n",
      "264: Data Load Finish, Predict Finish, 6.6995 6.6872 0.0936 0.9062 Evaluation Finish\n",
      "265: Data Load Finish, Predict Finish, 4.4154 4.3897 0.0614 0.9382 Evaluation Finish\n",
      "266: Data Load Finish, Predict Finish, 4.4264 4.404 0.0616 0.938 Evaluation Finish\n",
      "267: Data Load Finish, Predict Finish, 3.4192 3.3864 0.0474 0.9521 Evaluation Finish\n",
      "268: Data Load Finish, Predict Finish, 4.9788 4.9265 0.0689 0.9303 Evaluation Finish\n",
      "269: Data Load Finish, Predict Finish, 4.6808 4.6541 0.0651 0.9345 Evaluation Finish\n",
      "270: Data Load Finish, Predict Finish, 5.5516 5.5299 0.0774 0.9223 Evaluation Finish\n",
      "271: Data Load Finish, Predict Finish, 4.9111 4.8881 0.0684 0.9313 Evaluation Finish\n",
      "272: Data Load Finish, Predict Finish, 3.3186 3.2616 0.0456 0.9535 Evaluation Finish\n",
      "273: Data Load Finish, "
     ]
    },
    {
     "name": "stderr",
     "output_type": "stream",
     "text": [
      "/home/vislab/anaconda3/envs/cctv/lib/python3.7/site-packages/statsmodels/base/model.py:606: ConvergenceWarning: Maximum Likelihood optimization failed to converge. Check mle_retvals\n",
      "  ConvergenceWarning)\n"
     ]
    },
    {
     "name": "stdout",
     "output_type": "stream",
     "text": [
      "Predict Finish, 6.7983 6.7819 0.0949 0.9048 Evaluation Finish\n",
      "274: Data Load Finish, Predict Finish, 4.0404 3.9962 0.0559 0.9434 Evaluation Finish\n",
      "275: Data Load Finish, Predict Finish, 4.9159 4.8651 0.0681 0.9312 Evaluation Finish\n",
      "276: Data Load Finish, "
     ]
    },
    {
     "name": "stderr",
     "output_type": "stream",
     "text": [
      "/home/vislab/anaconda3/envs/cctv/lib/python3.7/site-packages/pandas/core/arraylike.py:364: RuntimeWarning: divide by zero encountered in log\n",
      "  result = getattr(ufunc, method)(*inputs, **kwargs)\n",
      "/home/vislab/anaconda3/envs/cctv/lib/python3.7/site-packages/statsmodels/base/model.py:606: ConvergenceWarning: Maximum Likelihood optimization failed to converge. Check mle_retvals\n",
      "  ConvergenceWarning)\n"
     ]
    },
    {
     "name": "stdout",
     "output_type": "stream",
     "text": [
      "Predict Finish, 70.4344 70.4333 0.986 0.014 Evaluation Finish\n",
      "277: Data Load Finish, Predict Finish, 4.2129 4.1772 0.0584 0.941 Evaluation Finish\n",
      "278: Data Load Finish, Predict Finish, 7.2475 7.2331 0.1012 0.8985 Evaluation Finish\n",
      "279: Data Load Finish, Predict Finish, 3.7843 3.7405 0.0523 0.947 Evaluation Finish\n",
      "280: Data Load Finish, Predict Finish, 4.3531 4.3214 0.0605 0.9391 Evaluation Finish\n",
      "281: Data Load Finish, Predict Finish, 2.4795 2.4227 0.0339 0.9653 Evaluation Finish\n",
      "282: Data Load Finish, Predict Finish, 4.5582 4.5233 0.0633 0.9362 Evaluation Finish\n",
      "283: Data Load Finish, Predict Finish, 9.8978 9.8881 0.1384 0.8614 Evaluation Finish\n",
      "284: Data Load Finish, Predict Finish, 4.7694 4.5953 0.0644 0.9332 Evaluation Finish\n",
      "285: Data Load Finish, Predict Finish, 3.2103 3.1576 0.0442 0.9551 Evaluation Finish\n",
      "286: Data Load Finish, Predict Finish, 4.2808 4.2516 0.0595 0.9401 Evaluation Finish\n",
      "287: Data Load Finish, Predict Finish, 4.1168 4.0602 0.0568 0.9424 Evaluation Finish\n",
      "288: Data Load Finish, Predict Finish, 3.9261 3.8968 0.0545 0.945 Evaluation Finish\n",
      "289: Data Load Finish, Predict Finish, 5.01 4.9838 0.0697 0.9299 Evaluation Finish\n",
      "290: Data Load Finish, Predict Finish, 4.382 4.3533 0.0609 0.9387 Evaluation Finish\n",
      "291: Data Load Finish, Predict Finish, 7.7978 7.7839 0.1089 0.8908 Evaluation Finish\n",
      "292: Data Load Finish, Predict Finish, 6.6816 6.4019 0.0895 0.9065 Evaluation Finish\n",
      "293: Data Load Finish, Predict Finish, 7.1656 7.0742 0.099 0.8997 Evaluation Finish\n",
      "294: Data Load Finish, Predict Finish, 4.127 4.0946 0.0573 0.9422 Evaluation Finish\n",
      "295: Data Load Finish, Predict Finish, 7.8881 7.8603 0.11 0.8896 Evaluation Finish\n",
      "296: Data Load Finish, Predict Finish, 4.3106 4.2844 0.0599 0.9397 Evaluation Finish\n",
      "297: Data Load Finish, Predict Finish, 3.9825 3.951 0.0553 0.9442 Evaluation Finish\n",
      "298: Data Load Finish, Predict Finish, 3.3723 3.3361 0.0467 0.9528 Evaluation Finish\n",
      "299: Data Load Finish, Predict Finish, 3.8713 3.8346 0.0536 0.9458 Evaluation Finish\n",
      "300: Data Load Finish, Predict Finish, 3.23 3.1691 0.0443 0.9548 Evaluation Finish\n",
      "301: Data Load Finish, Predict Finish, 7.0718 7.0542 0.0987 0.901 Evaluation Finish\n",
      "302: Data Load Finish, Predict Finish, 4.4388 4.393 0.0615 0.9379 Evaluation Finish\n",
      "303: Data Load Finish, Predict Finish, 5.1171 5.0783 0.071 0.9284 Evaluation Finish\n",
      "304: Data Load Finish, Predict Finish, 4.8695 4.8211 0.0674 0.9318 Evaluation Finish\n",
      "305: Data Load Finish, Predict Finish, 9.7901 9.7788 0.1369 0.8629 Evaluation Finish\n",
      "306: Data Load Finish, Predict Finish, 3.2866 3.2488 0.0454 0.954 Evaluation Finish\n",
      "307: Data Load Finish, Predict Finish, 4.752 4.7136 0.0659 0.9335 Evaluation Finish\n",
      "308: Data Load Finish, Predict Finish, 9.0357 8.9773 0.1256 0.8735 Evaluation Finish\n",
      "309: Data Load Finish, Predict Finish, 3.3254 3.2911 0.046 0.9534 Evaluation Finish\n",
      "310: Data Load Finish, Predict Finish, 6.3594 6.337 0.0887 0.911 Evaluation Finish\n",
      "311: Data Load Finish, Predict Finish, 3.1155 3.0794 0.0431 0.9564 Evaluation Finish\n",
      "312: Data Load Finish, Predict Finish, 3.8022 3.7687 0.0527 0.9468 Evaluation Finish\n",
      "313: Data Load Finish, Predict Finish, 5.9115 5.8824 0.0823 0.9172 Evaluation Finish\n",
      "314: Data Load Finish, Predict Finish, 3.8193 3.7803 0.0529 0.9465 Evaluation Finish\n",
      "315: Data Load Finish, Predict Finish, 5.5133 5.498 0.0769 0.9228 Evaluation Finish\n",
      "316: Data Load Finish, Predict Finish, 3.9597 3.9246 0.0549 0.9446 Evaluation Finish\n",
      "317: Data Load Finish, Predict Finish, 7.8768 7.8667 0.1101 0.8897 Evaluation Finish\n",
      "318: Data Load Finish, Predict Finish, 11.0395 11.0326 0.1544 0.8455 Evaluation Finish\n",
      "319: Data Load Finish, Predict Finish, 3.1496 3.1072 0.0435 0.9559 Evaluation Finish\n",
      "320: Data Load Finish, Predict Finish, 8.4725 8.4576 0.1184 0.8814 Evaluation Finish\n",
      "321: Data Load Finish, Predict Finish, 1.8024 1.7344 0.0242 0.9748 Evaluation Finish\n",
      "322: Data Load Finish, Predict Finish, 3.4445 3.4054 0.0476 0.9518 Evaluation Finish\n",
      "323: Data Load Finish, Predict Finish, 0.7689 0.6058 0.0084 0.9892 Evaluation Finish\n",
      "324: Data Load Finish, Predict Finish, 4.3657 4.3336 0.0606 0.9389 Evaluation Finish\n",
      "RMSE: 8.375997562363498, MAE: 8.340593496876547, MAPE: 0.11672777453417697\n",
      "ACC: 0.8827456001323349\n"
     ]
    }
   ],
   "source": [
    "predictARIMA(df, idx, 6)"
   ]
  },
  {
   "cell_type": "markdown",
   "id": "dcb35d64",
   "metadata": {},
   "source": [
    "### Unobserved Nodes = 10%"
   ]
  },
  {
   "cell_type": "code",
   "execution_count": 12,
   "id": "83ad788d",
   "metadata": {},
   "outputs": [
    {
     "name": "stdout",
     "output_type": "stream",
     "text": [
      "52116 325\n"
     ]
    },
    {
     "data": {
      "text/plain": [
       "1667712"
      ]
     },
     "execution_count": 12,
     "metadata": {},
     "output_type": "execute_result"
    }
   ],
   "source": [
    "df, idx = csvIndexToDatetime(path_10, start, freq)\n",
    "(df == 0).sum().sum()"
   ]
  },
  {
   "cell_type": "code",
   "execution_count": 13,
   "id": "010ff399",
   "metadata": {
    "scrolled": false
   },
   "outputs": [
    {
     "name": "stdout",
     "output_type": "stream",
     "text": [
      "0: Data Load Finish, "
     ]
    },
    {
     "name": "stderr",
     "output_type": "stream",
     "text": [
      "/home/vislab/anaconda3/envs/cctv/lib/python3.7/site-packages/pandas/core/arraylike.py:364: RuntimeWarning: divide by zero encountered in log\n",
      "  result = getattr(ufunc, method)(*inputs, **kwargs)\n",
      "/home/vislab/anaconda3/envs/cctv/lib/python3.7/site-packages/statsmodels/base/model.py:606: ConvergenceWarning: Maximum Likelihood optimization failed to converge. Check mle_retvals\n",
      "  ConvergenceWarning)\n"
     ]
    },
    {
     "name": "stdout",
     "output_type": "stream",
     "text": [
      "Predict Finish, 70.4344 70.4333 0.986 0.014 Evaluation Finish\n",
      "1: Data Load Finish, Predict Finish, 5.7771 5.7583 0.0806 0.9191 Evaluation Finish\n",
      "2: Data Load Finish, Predict Finish, 3.9123 3.8345 0.0536 0.9452 Evaluation Finish\n",
      "3: Data Load Finish, Predict Finish, 10.228 10.2207 0.1431 0.8568 Evaluation Finish\n",
      "4: Data Load Finish, Predict Finish, 10.227 10.2185 0.143 0.8568 Evaluation Finish\n",
      "5: Data Load Finish, "
     ]
    },
    {
     "name": "stderr",
     "output_type": "stream",
     "text": [
      "/home/vislab/anaconda3/envs/cctv/lib/python3.7/site-packages/pandas/core/arraylike.py:364: RuntimeWarning: divide by zero encountered in log\n",
      "  result = getattr(ufunc, method)(*inputs, **kwargs)\n",
      "/home/vislab/anaconda3/envs/cctv/lib/python3.7/site-packages/statsmodels/base/model.py:606: ConvergenceWarning: Maximum Likelihood optimization failed to converge. Check mle_retvals\n",
      "  ConvergenceWarning)\n"
     ]
    },
    {
     "name": "stdout",
     "output_type": "stream",
     "text": [
      "Predict Finish, 70.4344 70.4333 0.986 0.014 Evaluation Finish\n",
      "6: Data Load Finish, Predict Finish, 7.0291 7.0002 0.098 0.9016 Evaluation Finish\n",
      "7: Data Load Finish, Predict Finish, 4.0306 3.9975 0.0559 0.9436 Evaluation Finish\n",
      "8: Data Load Finish, Predict Finish, 6.1564 6.1366 0.0859 0.9138 Evaluation Finish\n",
      "9: Data Load Finish, Predict Finish, 4.9139 4.8906 0.0684 0.9312 Evaluation Finish\n",
      "10: Data Load Finish, Predict Finish, 4.5407 4.5146 0.0632 0.9364 Evaluation Finish\n",
      "11: Data Load Finish, Predict Finish, 5.0203 4.9937 0.0699 0.9297 Evaluation Finish\n",
      "12: Data Load Finish, Predict Finish, 3.9734 3.933 0.055 0.9444 Evaluation Finish\n",
      "13: Data Load Finish, "
     ]
    },
    {
     "name": "stderr",
     "output_type": "stream",
     "text": [
      "/home/vislab/anaconda3/envs/cctv/lib/python3.7/site-packages/pandas/core/arraylike.py:364: RuntimeWarning: divide by zero encountered in log\n",
      "  result = getattr(ufunc, method)(*inputs, **kwargs)\n",
      "/home/vislab/anaconda3/envs/cctv/lib/python3.7/site-packages/statsmodels/base/model.py:606: ConvergenceWarning: Maximum Likelihood optimization failed to converge. Check mle_retvals\n",
      "  ConvergenceWarning)\n"
     ]
    },
    {
     "name": "stdout",
     "output_type": "stream",
     "text": [
      "Predict Finish, 70.4344 70.4333 0.986 0.014 Evaluation Finish\n",
      "14: Data Load Finish, Predict Finish, 3.6565 3.6239 0.0507 0.9488 Evaluation Finish\n",
      "15: Data Load Finish, Predict Finish, 3.2755 3.2322 0.0452 0.9541 Evaluation Finish\n",
      "16: Data Load Finish, Predict Finish, 3.8626 3.8232 0.0535 0.9459 Evaluation Finish\n",
      "17: Data Load Finish, Predict Finish, 3.6357 3.587 0.0502 0.9491 Evaluation Finish\n",
      "18: Data Load Finish, Predict Finish, 3.6102 3.5872 0.0502 0.9495 Evaluation Finish\n",
      "19: Data Load Finish, Predict Finish, 6.6244 6.5976 0.0923 0.9073 Evaluation Finish\n",
      "20: Data Load Finish, Predict Finish, 5.3937 5.37 0.0751 0.9245 Evaluation Finish\n",
      "21: Data Load Finish, Predict Finish, 6.0682 6.0446 0.0846 0.9151 Evaluation Finish\n",
      "22: Data Load Finish, Predict Finish, 3.9443 3.9149 0.0548 0.9448 Evaluation Finish\n",
      "23: Data Load Finish, Predict Finish, 6.6734 6.6486 0.093 0.9066 Evaluation Finish\n",
      "24: Data Load Finish, Predict Finish, 2.7967 2.7479 0.0384 0.9608 Evaluation Finish\n",
      "25: Data Load Finish, "
     ]
    },
    {
     "name": "stderr",
     "output_type": "stream",
     "text": [
      "/home/vislab/anaconda3/envs/cctv/lib/python3.7/site-packages/pandas/core/arraylike.py:364: RuntimeWarning: divide by zero encountered in log\n",
      "  result = getattr(ufunc, method)(*inputs, **kwargs)\n",
      "/home/vislab/anaconda3/envs/cctv/lib/python3.7/site-packages/statsmodels/base/model.py:606: ConvergenceWarning: Maximum Likelihood optimization failed to converge. Check mle_retvals\n",
      "  ConvergenceWarning)\n"
     ]
    },
    {
     "name": "stdout",
     "output_type": "stream",
     "text": [
      "Predict Finish, 70.4344 70.4333 0.986 0.014 Evaluation Finish\n",
      "26: Data Load Finish, Predict Finish, 5.1591 5.1353 0.0719 0.9278 Evaluation Finish\n",
      "27: Data Load Finish, Predict Finish, 2.441 2.3663 0.0331 0.9658 Evaluation Finish\n",
      "28: Data Load Finish, Predict Finish, 5.9666 5.9459 0.0832 0.9165 Evaluation Finish\n",
      "29: Data Load Finish, Predict Finish, 11.5636 11.5584 0.1618 0.8381 Evaluation Finish\n",
      "30: Data Load Finish, Predict Finish, 4.646 4.6243 0.0647 0.935 Evaluation Finish\n",
      "31: Data Load Finish, Predict Finish, 6.844 6.831 0.0956 0.9042 Evaluation Finish\n",
      "32: Data Load Finish, Predict Finish, 3.1667 3.1283 0.0438 0.9557 Evaluation Finish\n",
      "33: Data Load Finish, Predict Finish, 9.5293 9.5233 0.1333 0.8666 Evaluation Finish\n",
      "34: Data Load Finish, Predict Finish, 4.6451 4.6116 0.0645 0.935 Evaluation Finish\n",
      "35: Data Load Finish, Predict Finish, 7.9326 7.9155 0.1108 0.889 Evaluation Finish\n",
      "36: Data Load Finish, Predict Finish, 0.562 0.484 0.0068 0.9921 Evaluation Finish\n",
      "37: Data Load Finish, Predict Finish, 2.8911 2.8414 0.0397 0.9595 Evaluation Finish\n",
      "38: Data Load Finish, Predict Finish, 7.6985 7.6791 0.1075 0.8922 Evaluation Finish\n",
      "39: Data Load Finish, Predict Finish, 5.8368 5.8198 0.0814 0.9183 Evaluation Finish\n",
      "40: Data Load Finish, Predict Finish, 4.3914 4.3625 0.061 0.9385 Evaluation Finish\n",
      "41: Data Load Finish, Predict Finish, 7.3339 7.3178 0.1024 0.8973 Evaluation Finish\n",
      "42: Data Load Finish, Predict Finish, 5.8894 5.8645 0.0821 0.9176 Evaluation Finish\n",
      "43: Data Load Finish, Predict Finish, 6.1639 6.1302 0.0858 0.9137 Evaluation Finish\n",
      "44: Data Load Finish, Predict Finish, 4.3314 4.3048 0.0602 0.9394 Evaluation Finish\n",
      "45: Data Load Finish, Predict Finish, 3.5075 3.4529 0.0483 0.9509 Evaluation Finish\n",
      "46: Data Load Finish, Predict Finish, 9.3941 9.3866 0.1314 0.8685 Evaluation Finish\n",
      "47: Data Load Finish, Predict Finish, 2.6741 2.6152 0.0366 0.9626 Evaluation Finish\n",
      "48: Data Load Finish, Predict Finish, 5.3242 5.299 0.0741 0.9255 Evaluation Finish\n",
      "49: Data Load Finish, Predict Finish, 3.1592 3.1155 0.0436 0.9558 Evaluation Finish\n",
      "50: Data Load Finish, Predict Finish, 6.566 6.5499 0.0917 0.9081 Evaluation Finish\n",
      "51: Data Load Finish, Predict Finish, 2.958 2.9116 0.0407 0.9586 Evaluation Finish\n",
      "52: Data Load Finish, Predict Finish, 3.0853 3.0504 0.0427 0.9568 Evaluation Finish\n",
      "53: Data Load Finish, "
     ]
    },
    {
     "name": "stderr",
     "output_type": "stream",
     "text": [
      "/home/vislab/anaconda3/envs/cctv/lib/python3.7/site-packages/pandas/core/arraylike.py:364: RuntimeWarning: divide by zero encountered in log\n",
      "  result = getattr(ufunc, method)(*inputs, **kwargs)\n",
      "/home/vislab/anaconda3/envs/cctv/lib/python3.7/site-packages/statsmodels/base/model.py:606: ConvergenceWarning: Maximum Likelihood optimization failed to converge. Check mle_retvals\n",
      "  ConvergenceWarning)\n"
     ]
    },
    {
     "name": "stdout",
     "output_type": "stream",
     "text": [
      "Predict Finish, 70.4344 70.4333 0.986 0.014 Evaluation Finish\n",
      "54: Data Load Finish, Predict Finish, 3.6121 3.5708 0.0499 0.9494 Evaluation Finish\n",
      "55: Data Load Finish, "
     ]
    },
    {
     "name": "stderr",
     "output_type": "stream",
     "text": [
      "/home/vislab/anaconda3/envs/cctv/lib/python3.7/site-packages/pandas/core/arraylike.py:364: RuntimeWarning: divide by zero encountered in log\n",
      "  result = getattr(ufunc, method)(*inputs, **kwargs)\n",
      "/home/vislab/anaconda3/envs/cctv/lib/python3.7/site-packages/statsmodels/base/model.py:606: ConvergenceWarning: Maximum Likelihood optimization failed to converge. Check mle_retvals\n",
      "  ConvergenceWarning)\n"
     ]
    },
    {
     "name": "stdout",
     "output_type": "stream",
     "text": [
      "Predict Finish, 70.4344 70.4333 0.986 0.014 Evaluation Finish\n",
      "56: Data Load Finish, Predict Finish, 0.5341 0.4021 0.0056 0.9925 Evaluation Finish\n",
      "57: Data Load Finish, "
     ]
    },
    {
     "name": "stderr",
     "output_type": "stream",
     "text": [
      "/home/vislab/anaconda3/envs/cctv/lib/python3.7/site-packages/pandas/core/arraylike.py:364: RuntimeWarning: divide by zero encountered in log\n",
      "  result = getattr(ufunc, method)(*inputs, **kwargs)\n",
      "/home/vislab/anaconda3/envs/cctv/lib/python3.7/site-packages/statsmodels/base/model.py:606: ConvergenceWarning: Maximum Likelihood optimization failed to converge. Check mle_retvals\n",
      "  ConvergenceWarning)\n"
     ]
    },
    {
     "name": "stdout",
     "output_type": "stream",
     "text": [
      "Predict Finish, 70.4344 70.4333 0.986 0.014 Evaluation Finish\n",
      "58: Data Load Finish, "
     ]
    },
    {
     "name": "stderr",
     "output_type": "stream",
     "text": [
      "/home/vislab/anaconda3/envs/cctv/lib/python3.7/site-packages/pandas/core/arraylike.py:364: RuntimeWarning: divide by zero encountered in log\n",
      "  result = getattr(ufunc, method)(*inputs, **kwargs)\n",
      "/home/vislab/anaconda3/envs/cctv/lib/python3.7/site-packages/statsmodels/base/model.py:606: ConvergenceWarning: Maximum Likelihood optimization failed to converge. Check mle_retvals\n",
      "  ConvergenceWarning)\n"
     ]
    },
    {
     "name": "stdout",
     "output_type": "stream",
     "text": [
      "Predict Finish, 70.4344 70.4333 0.986 0.014 Evaluation Finish\n",
      "59: Data Load Finish, "
     ]
    },
    {
     "name": "stderr",
     "output_type": "stream",
     "text": [
      "/home/vislab/anaconda3/envs/cctv/lib/python3.7/site-packages/pandas/core/arraylike.py:364: RuntimeWarning: divide by zero encountered in log\n",
      "  result = getattr(ufunc, method)(*inputs, **kwargs)\n",
      "/home/vislab/anaconda3/envs/cctv/lib/python3.7/site-packages/statsmodels/base/model.py:606: ConvergenceWarning: Maximum Likelihood optimization failed to converge. Check mle_retvals\n",
      "  ConvergenceWarning)\n"
     ]
    },
    {
     "name": "stdout",
     "output_type": "stream",
     "text": [
      "Predict Finish, 70.4344 70.4333 0.986 0.014 Evaluation Finish\n",
      "60: Data Load Finish, Predict Finish, 5.2054 5.1803 0.0725 0.9271 Evaluation Finish\n",
      "61: Data Load Finish, "
     ]
    },
    {
     "name": "stderr",
     "output_type": "stream",
     "text": [
      "/home/vislab/anaconda3/envs/cctv/lib/python3.7/site-packages/pandas/core/arraylike.py:364: RuntimeWarning: divide by zero encountered in log\n",
      "  result = getattr(ufunc, method)(*inputs, **kwargs)\n",
      "/home/vislab/anaconda3/envs/cctv/lib/python3.7/site-packages/statsmodels/base/model.py:606: ConvergenceWarning: Maximum Likelihood optimization failed to converge. Check mle_retvals\n",
      "  ConvergenceWarning)\n"
     ]
    },
    {
     "name": "stdout",
     "output_type": "stream",
     "text": [
      "Predict Finish, 70.4344 70.4333 0.986 0.014 Evaluation Finish\n",
      "62: Data Load Finish, Predict Finish, 3.9614 3.9273 0.0549 0.9445 Evaluation Finish\n",
      "63: Data Load Finish, Predict Finish, 5.5191 5.492 0.0768 0.9227 Evaluation Finish\n",
      "64: Data Load Finish, Predict Finish, 7.0993 7.081 0.0991 0.9006 Evaluation Finish\n",
      "65: Data Load Finish, Predict Finish, 4.4993 4.4531 0.0623 0.937 Evaluation Finish\n",
      "66: Data Load Finish, Predict Finish, 9.1508 9.133 0.1278 0.8719 Evaluation Finish\n",
      "67: Data Load Finish, Predict Finish, 8.255 8.2423 0.1154 0.8844 Evaluation Finish\n",
      "68: Data Load Finish, Predict Finish, 3.665 3.6085 0.0505 0.9487 Evaluation Finish\n",
      "69: Data Load Finish, Predict Finish, 7.1041 7.0904 0.0992 0.9006 Evaluation Finish\n",
      "70: Data Load Finish, Predict Finish, 4.9879 4.969 0.0695 0.9302 Evaluation Finish\n",
      "71: Data Load Finish, Predict Finish, 9.5966 9.5891 0.1342 0.8657 Evaluation Finish\n",
      "72: Data Load Finish, Predict Finish, 6.598 6.5754 0.092 0.9076 Evaluation Finish\n",
      "73: Data Load Finish, Predict Finish, 5.3925 5.3614 0.075 0.9245 Evaluation Finish\n",
      "74: Data Load Finish, Predict Finish, 11.0089 11.0013 0.154 0.8459 Evaluation Finish\n",
      "75: Data Load Finish, Predict Finish, 3.1273 3.0851 0.0432 0.9562 Evaluation Finish\n",
      "76: Data Load Finish, Predict Finish, 2.1275 1.9959 0.0279 0.9702 Evaluation Finish\n",
      "77: Data Load Finish, Predict Finish, 5.0434 5.0199 0.0702 0.9294 Evaluation Finish\n",
      "78: Data Load Finish, Predict Finish, 3.0044 2.9622 0.0414 0.9579 Evaluation Finish\n",
      "79: Data Load Finish, Predict Finish, 2.6941 2.6475 0.037 0.9623 Evaluation Finish\n",
      "80: Data Load Finish, Predict Finish, 4.1947 4.1306 0.0578 0.9413 Evaluation Finish\n",
      "81: Data Load Finish, Predict Finish, 3.185 3.1398 0.0439 0.9554 Evaluation Finish\n",
      "82: Data Load Finish, Predict Finish, 4.8555 4.8304 0.0676 0.932 Evaluation Finish\n",
      "83: Data Load Finish, Predict Finish, 5.4008 5.3337 0.0746 0.9244 Evaluation Finish\n",
      "84: Data Load Finish, Predict Finish, 4.038 3.9994 0.0559 0.9435 Evaluation Finish\n",
      "85: Data Load Finish, Predict Finish, 7.4993 7.4864 0.1048 0.895 Evaluation Finish\n",
      "86: Data Load Finish, Predict Finish, 6.506 6.4889 0.0908 0.9089 Evaluation Finish\n",
      "87: Data Load Finish, Predict Finish, 4.3217 4.2863 0.06 0.9395 Evaluation Finish\n",
      "88: Data Load Finish, Predict Finish, 8.9706 8.9543 0.1253 0.8744 Evaluation Finish\n",
      "89: Data Load Finish, Predict Finish, 4.7897 4.7668 0.0667 0.933 Evaluation Finish\n",
      "90: Data Load Finish, "
     ]
    },
    {
     "name": "stderr",
     "output_type": "stream",
     "text": [
      "/home/vislab/anaconda3/envs/cctv/lib/python3.7/site-packages/pandas/core/arraylike.py:364: RuntimeWarning: divide by zero encountered in log\n",
      "  result = getattr(ufunc, method)(*inputs, **kwargs)\n",
      "/home/vislab/anaconda3/envs/cctv/lib/python3.7/site-packages/statsmodels/base/model.py:606: ConvergenceWarning: Maximum Likelihood optimization failed to converge. Check mle_retvals\n",
      "  ConvergenceWarning)\n"
     ]
    },
    {
     "name": "stdout",
     "output_type": "stream",
     "text": [
      "Predict Finish, 70.4344 70.4333 0.986 0.014 Evaluation Finish\n",
      "91: Data Load Finish, Predict Finish, 12.4351 12.4299 0.174 0.8259 Evaluation Finish\n",
      "92: Data Load Finish, Predict Finish, 2.8936 2.8566 0.04 0.9595 Evaluation Finish\n",
      "93: Data Load Finish, Predict Finish, 3.1003 3.0393 0.0425 0.9566 Evaluation Finish\n",
      "94: Data Load Finish, "
     ]
    },
    {
     "name": "stderr",
     "output_type": "stream",
     "text": [
      "/home/vislab/anaconda3/envs/cctv/lib/python3.7/site-packages/pandas/core/arraylike.py:364: RuntimeWarning: divide by zero encountered in log\n",
      "  result = getattr(ufunc, method)(*inputs, **kwargs)\n",
      "/home/vislab/anaconda3/envs/cctv/lib/python3.7/site-packages/statsmodels/base/model.py:606: ConvergenceWarning: Maximum Likelihood optimization failed to converge. Check mle_retvals\n",
      "  ConvergenceWarning)\n"
     ]
    },
    {
     "name": "stdout",
     "output_type": "stream",
     "text": [
      "Predict Finish, 70.4344 70.4333 0.986 0.014 Evaluation Finish\n",
      "95: Data Load Finish, Predict Finish, 5.4587 5.4395 0.0761 0.9236 Evaluation Finish\n",
      "96: Data Load Finish, Predict Finish, 10.5595 10.5509 0.1477 0.8522 Evaluation Finish\n",
      "97: Data Load Finish, Predict Finish, 4.3837 4.3459 0.0608 0.9386 Evaluation Finish\n",
      "98: Data Load Finish, Predict Finish, 9.9347 9.9259 0.1389 0.8609 Evaluation Finish\n",
      "99: Data Load Finish, Predict Finish, 2.0081 1.9262 0.0269 0.9719 Evaluation Finish\n",
      "100: Data Load Finish, Predict Finish, 5.1785 5.132 0.0718 0.9275 Evaluation Finish\n",
      "101: Data Load Finish, Predict Finish, 5.3718 5.3487 0.0748 0.9248 Evaluation Finish\n",
      "102: Data Load Finish, Predict Finish, 2.5793 2.5093 0.0351 0.9639 Evaluation Finish\n",
      "103: Data Load Finish, Predict Finish, 2.7624 2.7127 0.0379 0.9613 Evaluation Finish\n",
      "104: Data Load Finish, Predict Finish, 7.8159 7.764 0.1086 0.8906 Evaluation Finish\n",
      "105: Data Load Finish, Predict Finish, 2.721 2.6795 0.0375 0.9619 Evaluation Finish\n",
      "106: Data Load Finish, Predict Finish, 4.6829 4.6518 0.0651 0.9344 Evaluation Finish\n",
      "107: Data Load Finish, Predict Finish, 2.2533 2.2014 0.0308 0.9685 Evaluation Finish\n",
      "108: Data Load Finish, Predict Finish, 3.3818 3.345 0.0468 0.9527 Evaluation Finish\n",
      "109: Data Load Finish, Predict Finish, 0.8791 0.6907 0.0096 0.9877 Evaluation Finish\n",
      "110: Data Load Finish, Predict Finish, 4.9216 4.8984 0.0685 0.9311 Evaluation Finish\n",
      "111: Data Load Finish, Predict Finish, 3.6516 3.6273 0.0507 0.9489 Evaluation Finish\n",
      "112: Data Load Finish, Predict Finish, 3.2945 3.2561 0.0455 0.9539 Evaluation Finish\n",
      "113: Data Load Finish, Predict Finish, 5.2535 5.2304 0.0732 0.9265 Evaluation Finish\n",
      "114: Data Load Finish, Predict Finish, 2.9745 2.927 0.0409 0.9584 Evaluation Finish\n",
      "115: Data Load Finish, Predict Finish, 9.5537 9.5443 0.1336 0.8663 Evaluation Finish\n",
      "116: Data Load Finish, Predict Finish, 9.5526 9.5416 0.1335 0.8663 Evaluation Finish\n",
      "117: Data Load Finish, "
     ]
    },
    {
     "name": "stderr",
     "output_type": "stream",
     "text": [
      "/home/vislab/anaconda3/envs/cctv/lib/python3.7/site-packages/statsmodels/base/model.py:606: ConvergenceWarning: Maximum Likelihood optimization failed to converge. Check mle_retvals\n",
      "  ConvergenceWarning)\n"
     ]
    },
    {
     "name": "stdout",
     "output_type": "stream",
     "text": [
      "Predict Finish, 3.9918 3.9715 0.0556 0.9441 Evaluation Finish\n",
      "118: Data Load Finish, Predict Finish, 2.2836 2.2132 0.0309 0.968 Evaluation Finish\n",
      "119: Data Load Finish, Predict Finish, 3.4662 3.4313 0.048 0.9515 Evaluation Finish\n",
      "120: Data Load Finish, Predict Finish, 3.505 3.4628 0.0484 0.9509 Evaluation Finish\n",
      "121: Data Load Finish, Predict Finish, 6.8368 6.8193 0.0954 0.9043 Evaluation Finish\n",
      "122: Data Load Finish, Predict Finish, 3.0184 2.9693 0.0415 0.9577 Evaluation Finish\n",
      "123: Data Load Finish, Predict Finish, 5.4054 5.3874 0.0754 0.9243 Evaluation Finish\n",
      "124: Data Load Finish, Predict Finish, 2.8882 2.8509 0.0399 0.9596 Evaluation Finish\n",
      "125: Data Load Finish, Predict Finish, 6.8714 6.8635 0.0961 0.9038 Evaluation Finish\n",
      "126: Data Load Finish, Predict Finish, 7.585 7.5704 0.1059 0.8938 Evaluation Finish\n",
      "127: Data Load Finish, Predict Finish, 7.7323 7.7191 0.108 0.8918 Evaluation Finish\n",
      "128: Data Load Finish, Predict Finish, 5.6422 5.6178 0.0786 0.921 Evaluation Finish\n",
      "129: Data Load Finish, Predict Finish, 3.2282 3.1872 0.0446 0.9548 Evaluation Finish\n",
      "130: Data Load Finish, Predict Finish, 5.5115 5.4878 0.0768 0.9228 Evaluation Finish\n",
      "131: Data Load Finish, Predict Finish, 4.6728 4.6499 0.0651 0.9346 Evaluation Finish\n",
      "132: Data Load Finish, "
     ]
    },
    {
     "name": "stderr",
     "output_type": "stream",
     "text": [
      "/home/vislab/anaconda3/envs/cctv/lib/python3.7/site-packages/pandas/core/arraylike.py:364: RuntimeWarning: divide by zero encountered in log\n",
      "  result = getattr(ufunc, method)(*inputs, **kwargs)\n",
      "/home/vislab/anaconda3/envs/cctv/lib/python3.7/site-packages/statsmodels/base/model.py:606: ConvergenceWarning: Maximum Likelihood optimization failed to converge. Check mle_retvals\n",
      "  ConvergenceWarning)\n"
     ]
    },
    {
     "name": "stdout",
     "output_type": "stream",
     "text": [
      "Predict Finish, 70.4344 70.4333 0.986 0.014 Evaluation Finish\n",
      "133: Data Load Finish, Predict Finish, 15.3463 15.3372 0.2147 0.7852 Evaluation Finish\n",
      "134: Data Load Finish, Predict Finish, 6.445 6.3895 0.0894 0.9098 Evaluation Finish\n",
      "135: Data Load Finish, Predict Finish, 6.0556 6.0323 0.0844 0.9152 Evaluation Finish\n",
      "136: Data Load Finish, Predict Finish, 0.5295 0.4481 0.0063 0.9926 Evaluation Finish\n",
      "137: Data Load Finish, Predict Finish, 3.8318 3.8015 0.0532 0.9464 Evaluation Finish\n",
      "138: Data Load Finish, "
     ]
    },
    {
     "name": "stderr",
     "output_type": "stream",
     "text": [
      "/home/vislab/anaconda3/envs/cctv/lib/python3.7/site-packages/pandas/core/arraylike.py:364: RuntimeWarning: divide by zero encountered in log\n",
      "  result = getattr(ufunc, method)(*inputs, **kwargs)\n",
      "/home/vislab/anaconda3/envs/cctv/lib/python3.7/site-packages/statsmodels/base/model.py:606: ConvergenceWarning: Maximum Likelihood optimization failed to converge. Check mle_retvals\n",
      "  ConvergenceWarning)\n"
     ]
    },
    {
     "name": "stdout",
     "output_type": "stream",
     "text": [
      "Predict Finish, 70.4344 70.4333 0.986 0.014 Evaluation Finish\n",
      "139: Data Load Finish, "
     ]
    },
    {
     "name": "stderr",
     "output_type": "stream",
     "text": [
      "/home/vislab/anaconda3/envs/cctv/lib/python3.7/site-packages/pandas/core/arraylike.py:364: RuntimeWarning: divide by zero encountered in log\n",
      "  result = getattr(ufunc, method)(*inputs, **kwargs)\n",
      "/home/vislab/anaconda3/envs/cctv/lib/python3.7/site-packages/statsmodels/base/model.py:606: ConvergenceWarning: Maximum Likelihood optimization failed to converge. Check mle_retvals\n",
      "  ConvergenceWarning)\n"
     ]
    },
    {
     "name": "stdout",
     "output_type": "stream",
     "text": [
      "Predict Finish, 70.4344 70.4333 0.986 0.014 Evaluation Finish\n",
      "140: Data Load Finish, Predict Finish, 5.011 4.9887 0.0698 0.9299 Evaluation Finish\n",
      "141: Data Load Finish, Predict Finish, 0.7937 0.6296 0.0088 0.9889 Evaluation Finish\n",
      "142: Data Load Finish, Predict Finish, 1.2683 1.1638 0.0163 0.9822 Evaluation Finish\n",
      "143: Data Load Finish, Predict Finish, 3.7987 3.7698 0.0527 0.9468 Evaluation Finish\n",
      "144: Data Load Finish, Predict Finish, 3.6708 3.6267 0.0507 0.9486 Evaluation Finish\n",
      "145: Data Load Finish, Predict Finish, 6.6299 6.6146 0.0926 0.9072 Evaluation Finish\n",
      "146: Data Load Finish, Predict Finish, 14.9958 14.8704 0.2082 0.7901 Evaluation Finish\n",
      "147: Data Load Finish, Predict Finish, 7.2178 7.2041 0.1008 0.899 Evaluation Finish\n",
      "148: Data Load Finish, "
     ]
    },
    {
     "name": "stderr",
     "output_type": "stream",
     "text": [
      "/home/vislab/anaconda3/envs/cctv/lib/python3.7/site-packages/statsmodels/base/model.py:606: ConvergenceWarning: Maximum Likelihood optimization failed to converge. Check mle_retvals\n",
      "  ConvergenceWarning)\n"
     ]
    },
    {
     "name": "stdout",
     "output_type": "stream",
     "text": [
      "Predict Finish, 3.9918 3.9715 0.0556 0.9441 Evaluation Finish\n",
      "149: Data Load Finish, "
     ]
    },
    {
     "name": "stderr",
     "output_type": "stream",
     "text": [
      "/home/vislab/anaconda3/envs/cctv/lib/python3.7/site-packages/pandas/core/arraylike.py:364: RuntimeWarning: divide by zero encountered in log\n",
      "  result = getattr(ufunc, method)(*inputs, **kwargs)\n",
      "/home/vislab/anaconda3/envs/cctv/lib/python3.7/site-packages/statsmodels/base/model.py:606: ConvergenceWarning: Maximum Likelihood optimization failed to converge. Check mle_retvals\n",
      "  ConvergenceWarning)\n"
     ]
    },
    {
     "name": "stdout",
     "output_type": "stream",
     "text": [
      "Predict Finish, 70.4344 70.4333 0.986 0.014 Evaluation Finish\n",
      "150: Data Load Finish, "
     ]
    },
    {
     "name": "stderr",
     "output_type": "stream",
     "text": [
      "/home/vislab/anaconda3/envs/cctv/lib/python3.7/site-packages/pandas/core/arraylike.py:364: RuntimeWarning: divide by zero encountered in log\n",
      "  result = getattr(ufunc, method)(*inputs, **kwargs)\n",
      "/home/vislab/anaconda3/envs/cctv/lib/python3.7/site-packages/statsmodels/base/model.py:606: ConvergenceWarning: Maximum Likelihood optimization failed to converge. Check mle_retvals\n",
      "  ConvergenceWarning)\n"
     ]
    },
    {
     "name": "stdout",
     "output_type": "stream",
     "text": [
      "Predict Finish, 70.4344 70.4333 0.986 0.014 Evaluation Finish\n",
      "151: Data Load Finish, Predict Finish, 6.5988 6.5762 0.092 0.9076 Evaluation Finish\n",
      "152: Data Load Finish, "
     ]
    },
    {
     "name": "stderr",
     "output_type": "stream",
     "text": [
      "/home/vislab/anaconda3/envs/cctv/lib/python3.7/site-packages/pandas/core/arraylike.py:364: RuntimeWarning: divide by zero encountered in log\n",
      "  result = getattr(ufunc, method)(*inputs, **kwargs)\n",
      "/home/vislab/anaconda3/envs/cctv/lib/python3.7/site-packages/statsmodels/base/model.py:606: ConvergenceWarning: Maximum Likelihood optimization failed to converge. Check mle_retvals\n",
      "  ConvergenceWarning)\n"
     ]
    },
    {
     "name": "stdout",
     "output_type": "stream",
     "text": [
      "Predict Finish, 70.4344 70.4333 0.986 0.014 Evaluation Finish\n",
      "153: Data Load Finish, Predict Finish, 3.3416 3.3015 0.0462 0.9532 Evaluation Finish\n",
      "154: Data Load Finish, Predict Finish, 3.3185 3.2845 0.0459 0.9535 Evaluation Finish\n",
      "155: Data Load Finish, Predict Finish, 7.4668 7.4562 0.1044 0.8955 Evaluation Finish\n",
      "156: Data Load Finish, Predict Finish, 1.7255 1.6615 0.0232 0.9758 Evaluation Finish\n",
      "157: Data Load Finish, Predict Finish, 3.2706 3.2219 0.0451 0.9542 Evaluation Finish\n",
      "158: Data Load Finish, Predict Finish, 4.3958 4.3413 0.0607 0.9385 Evaluation Finish\n",
      "159: Data Load Finish, Predict Finish, 9.5042 9.4884 0.1328 0.867 Evaluation Finish\n",
      "160: Data Load Finish, "
     ]
    },
    {
     "name": "stderr",
     "output_type": "stream",
     "text": [
      "/home/vislab/anaconda3/envs/cctv/lib/python3.7/site-packages/pandas/core/arraylike.py:364: RuntimeWarning: divide by zero encountered in log\n",
      "  result = getattr(ufunc, method)(*inputs, **kwargs)\n",
      "/home/vislab/anaconda3/envs/cctv/lib/python3.7/site-packages/statsmodels/base/model.py:606: ConvergenceWarning: Maximum Likelihood optimization failed to converge. Check mle_retvals\n",
      "  ConvergenceWarning)\n"
     ]
    },
    {
     "name": "stdout",
     "output_type": "stream",
     "text": [
      "Predict Finish, 70.4344 70.4333 0.986 0.014 Evaluation Finish\n",
      "161: Data Load Finish, Predict Finish, 8.2311 8.2187 0.115 0.8848 Evaluation Finish\n",
      "162: Data Load Finish, Predict Finish, 9.7848 9.7735 0.1368 0.863 Evaluation Finish\n",
      "163: Data Load Finish, Predict Finish, 4.6543 4.6199 0.0646 0.9348 Evaluation Finish\n",
      "164: Data Load Finish, Predict Finish, 5.0506 5.0331 0.0704 0.9293 Evaluation Finish\n",
      "165: Data Load Finish, Predict Finish, 1.0002 0.864 0.0121 0.986 Evaluation Finish\n",
      "166: Data Load Finish, Predict Finish, 5.4859 5.4659 0.0765 0.9232 Evaluation Finish\n",
      "167: Data Load Finish, Predict Finish, 8.837 8.8254 0.1235 0.8763 Evaluation Finish\n",
      "168: Data Load Finish, Predict Finish, 3.9964 3.96 0.0554 0.9441 Evaluation Finish\n",
      "169: Data Load Finish, Predict Finish, 5.029 4.9889 0.0698 0.9296 Evaluation Finish\n",
      "170: Data Load Finish, Predict Finish, 5.0432 5.0094 0.0701 0.9294 Evaluation Finish\n",
      "171: Data Load Finish, Predict Finish, 6.6299 6.6146 0.0926 0.9072 Evaluation Finish\n",
      "172: Data Load Finish, Predict Finish, 1.9593 1.8999 0.0266 0.9726 Evaluation Finish\n",
      "173: Data Load Finish, Predict Finish, 3.1954 3.1613 0.0442 0.9553 Evaluation Finish\n",
      "174: Data Load Finish, Predict Finish, 0.8993 0.7541 0.0105 0.9874 Evaluation Finish\n",
      "175: Data Load Finish, Predict Finish, 1.3135 1.192 0.0166 0.9816 Evaluation Finish\n",
      "176: Data Load Finish, "
     ]
    },
    {
     "name": "stderr",
     "output_type": "stream",
     "text": [
      "/home/vislab/anaconda3/envs/cctv/lib/python3.7/site-packages/statsmodels/base/model.py:606: ConvergenceWarning: Maximum Likelihood optimization failed to converge. Check mle_retvals\n",
      "  ConvergenceWarning)\n"
     ]
    },
    {
     "name": "stdout",
     "output_type": "stream",
     "text": [
      "Predict Finish, 7.7477 7.7212 0.108 0.8915 Evaluation Finish\n",
      "177: Data Load Finish, "
     ]
    },
    {
     "name": "stderr",
     "output_type": "stream",
     "text": [
      "/home/vislab/anaconda3/envs/cctv/lib/python3.7/site-packages/statsmodels/base/model.py:606: ConvergenceWarning: Maximum Likelihood optimization failed to converge. Check mle_retvals\n",
      "  ConvergenceWarning)\n"
     ]
    },
    {
     "name": "stdout",
     "output_type": "stream",
     "text": [
      "Predict Finish, 3.8825 3.8619 0.054 0.9457 Evaluation Finish\n",
      "178: Data Load Finish, Predict Finish, 3.1859 3.1411 0.0439 0.9554 Evaluation Finish\n",
      "179: Data Load Finish, Predict Finish, 3.0962 3.061 0.0428 0.9567 Evaluation Finish\n",
      "180: Data Load Finish, Predict Finish, 3.5023 3.4607 0.0484 0.951 Evaluation Finish\n",
      "181: Data Load Finish, Predict Finish, 4.5842 4.5607 0.0638 0.9358 Evaluation Finish\n",
      "182: Data Load Finish, Predict Finish, 4.1537 4.1246 0.0577 0.9419 Evaluation Finish\n",
      "183: Data Load Finish, Predict Finish, 5.1824 5.1413 0.0719 0.9275 Evaluation Finish\n",
      "184: Data Load Finish, Predict Finish, 5.2371 5.2146 0.073 0.9267 Evaluation Finish\n",
      "185: Data Load Finish, Predict Finish, 4.3287 4.2893 0.06 0.9394 Evaluation Finish\n",
      "186: Data Load Finish, Predict Finish, 4.3068 4.2767 0.0598 0.9397 Evaluation Finish\n",
      "187: Data Load Finish, Predict Finish, 3.8293 3.7991 0.0531 0.9464 Evaluation Finish\n",
      "188: Data Load Finish, Predict Finish, 4.7949 4.7719 0.0668 0.9329 Evaluation Finish\n",
      "189: Data Load Finish, Predict Finish, 2.4156 2.3469 0.0328 0.9662 Evaluation Finish\n",
      "190: Data Load Finish, Predict Finish, 2.9315 2.8925 0.0405 0.959 Evaluation Finish\n",
      "191: Data Load Finish, Predict Finish, 4.0841 4.0535 0.0567 0.9428 Evaluation Finish\n",
      "192: Data Load Finish, Predict Finish, 4.7531 4.724 0.0661 0.9335 Evaluation Finish\n",
      "193: Data Load Finish, Predict Finish, 1.0813 0.9735 0.0136 0.9849 Evaluation Finish\n",
      "194: Data Load Finish, "
     ]
    },
    {
     "name": "stderr",
     "output_type": "stream",
     "text": [
      "/home/vislab/anaconda3/envs/cctv/lib/python3.7/site-packages/pandas/core/arraylike.py:364: RuntimeWarning: divide by zero encountered in log\n",
      "  result = getattr(ufunc, method)(*inputs, **kwargs)\n",
      "/home/vislab/anaconda3/envs/cctv/lib/python3.7/site-packages/statsmodels/base/model.py:606: ConvergenceWarning: Maximum Likelihood optimization failed to converge. Check mle_retvals\n",
      "  ConvergenceWarning)\n"
     ]
    },
    {
     "name": "stdout",
     "output_type": "stream",
     "text": [
      "Predict Finish, 70.4344 70.4333 0.986 0.014 Evaluation Finish\n",
      "195: Data Load Finish, Predict Finish, 3.9379 3.9035 0.0546 0.9449 Evaluation Finish\n",
      "196: Data Load Finish, Predict Finish, 1.0569 0.917 0.0128 0.9852 Evaluation Finish\n",
      "197: Data Load Finish, Predict Finish, 5.0005 4.9781 0.0697 0.93 Evaluation Finish\n",
      "198: Data Load Finish, Predict Finish, 4.8821 4.8067 0.0672 0.9317 Evaluation Finish\n",
      "199: Data Load Finish, "
     ]
    },
    {
     "name": "stderr",
     "output_type": "stream",
     "text": [
      "/home/vislab/anaconda3/envs/cctv/lib/python3.7/site-packages/pandas/core/arraylike.py:364: RuntimeWarning: divide by zero encountered in log\n",
      "  result = getattr(ufunc, method)(*inputs, **kwargs)\n",
      "/home/vislab/anaconda3/envs/cctv/lib/python3.7/site-packages/statsmodels/base/model.py:606: ConvergenceWarning: Maximum Likelihood optimization failed to converge. Check mle_retvals\n",
      "  ConvergenceWarning)\n"
     ]
    },
    {
     "name": "stdout",
     "output_type": "stream",
     "text": [
      "Predict Finish, 70.4344 70.4333 0.986 0.014 Evaluation Finish\n",
      "200: Data Load Finish, Predict Finish, 3.252 3.2036 0.0448 0.9545 Evaluation Finish\n",
      "201: Data Load Finish, Predict Finish, 4.3563 4.3194 0.0604 0.939 Evaluation Finish\n",
      "202: Data Load Finish, "
     ]
    },
    {
     "name": "stderr",
     "output_type": "stream",
     "text": [
      "/home/vislab/anaconda3/envs/cctv/lib/python3.7/site-packages/statsmodels/base/model.py:606: ConvergenceWarning: Maximum Likelihood optimization failed to converge. Check mle_retvals\n",
      "  ConvergenceWarning)\n"
     ]
    },
    {
     "name": "stdout",
     "output_type": "stream",
     "text": [
      "Predict Finish, 7.5429 7.5272 0.1053 0.8944 Evaluation Finish\n",
      "203: Data Load Finish, Predict Finish, 7.2706 7.2533 0.1015 0.8982 Evaluation Finish\n",
      "204: Data Load Finish, Predict Finish, 8.0928 8.0811 0.1131 0.8867 Evaluation Finish\n",
      "205: Data Load Finish, "
     ]
    },
    {
     "name": "stderr",
     "output_type": "stream",
     "text": [
      "/home/vislab/anaconda3/envs/cctv/lib/python3.7/site-packages/pandas/core/arraylike.py:364: RuntimeWarning: divide by zero encountered in log\n",
      "  result = getattr(ufunc, method)(*inputs, **kwargs)\n",
      "/home/vislab/anaconda3/envs/cctv/lib/python3.7/site-packages/statsmodels/base/model.py:606: ConvergenceWarning: Maximum Likelihood optimization failed to converge. Check mle_retvals\n",
      "  ConvergenceWarning)\n"
     ]
    },
    {
     "name": "stdout",
     "output_type": "stream",
     "text": [
      "Predict Finish, 70.4344 70.4333 0.986 0.014 Evaluation Finish\n",
      "206: Data Load Finish, Predict Finish, 6.2366 6.2203 0.087 0.9127 Evaluation Finish\n",
      "207: Data Load Finish, Predict Finish, 3.2043 3.1385 0.0439 0.9551 Evaluation Finish\n",
      "208: Data Load Finish, Predict Finish, 7.6985 7.6839 0.1075 0.8922 Evaluation Finish\n",
      "209: Data Load Finish, Predict Finish, 4.6528 4.6195 0.0646 0.9349 Evaluation Finish\n",
      "210: Data Load Finish, Predict Finish, 6.8397 6.8222 0.0955 0.9043 Evaluation Finish\n",
      "211: Data Load Finish, Predict Finish, 8.0601 8.0504 0.1127 0.8872 Evaluation Finish\n",
      "212: Data Load Finish, Predict Finish, 3.6452 3.5926 0.0503 0.949 Evaluation Finish\n",
      "213: Data Load Finish, Predict Finish, 7.0266 7.016 0.0982 0.9016 Evaluation Finish\n",
      "214: Data Load Finish, Predict Finish, 7.0904 7.0747 0.099 0.9007 Evaluation Finish\n",
      "215: Data Load Finish, Predict Finish, 8.0093 7.9952 0.1119 0.8879 Evaluation Finish\n",
      "216: Data Load Finish, Predict Finish, 5.0283 5.0052 0.07 0.9296 Evaluation Finish\n",
      "217: Data Load Finish, Predict Finish, 4.9923 4.9701 0.0695 0.9301 Evaluation Finish\n",
      "218: Data Load Finish, Predict Finish, 7.549 7.5371 0.1055 0.8943 Evaluation Finish\n",
      "219: Data Load Finish, Predict Finish, 6.4336 6.4178 0.0898 0.9099 Evaluation Finish\n",
      "220: Data Load Finish, Predict Finish, 4.8793 4.8602 0.068 0.9317 Evaluation Finish\n",
      "221: Data Load Finish, Predict Finish, 7.2293 7.2153 0.101 0.8988 Evaluation Finish\n",
      "222: Data Load Finish, Predict Finish, 7.2013 7.1898 0.1006 0.8992 Evaluation Finish\n",
      "223: Data Load Finish, "
     ]
    },
    {
     "name": "stderr",
     "output_type": "stream",
     "text": [
      "/home/vislab/anaconda3/envs/cctv/lib/python3.7/site-packages/statsmodels/base/model.py:606: ConvergenceWarning: Maximum Likelihood optimization failed to converge. Check mle_retvals\n",
      "  ConvergenceWarning)\n"
     ]
    },
    {
     "name": "stdout",
     "output_type": "stream",
     "text": [
      "Predict Finish, 6.6589 6.643 0.093 0.9068 Evaluation Finish\n",
      "224: Data Load Finish, "
     ]
    },
    {
     "name": "stderr",
     "output_type": "stream",
     "text": [
      "/home/vislab/anaconda3/envs/cctv/lib/python3.7/site-packages/statsmodels/base/model.py:606: ConvergenceWarning: Maximum Likelihood optimization failed to converge. Check mle_retvals\n",
      "  ConvergenceWarning)\n"
     ]
    },
    {
     "name": "stdout",
     "output_type": "stream",
     "text": [
      "Predict Finish, 6.218 6.1967 0.0867 0.913 Evaluation Finish\n",
      "225: Data Load Finish, Predict Finish, 6.7709 6.755 0.0945 0.9052 Evaluation Finish\n",
      "226: Data Load Finish, Predict Finish, 5.2145 5.1855 0.0726 0.927 Evaluation Finish\n",
      "227: Data Load Finish, Predict Finish, 5.6222 5.5949 0.0783 0.9213 Evaluation Finish\n",
      "228: Data Load Finish, Predict Finish, 3.7276 3.6975 0.0517 0.9478 Evaluation Finish\n",
      "229: Data Load Finish, Predict Finish, 5.3676 5.3446 0.0748 0.9249 Evaluation Finish\n",
      "230: Data Load Finish, Predict Finish, 2.9381 2.899 0.0405 0.9589 Evaluation Finish\n",
      "231: Data Load Finish, Predict Finish, 7.0297 6.9977 0.0979 0.9016 Evaluation Finish\n",
      "232: Data Load Finish, Predict Finish, 2.0547 1.9892 0.0278 0.9712 Evaluation Finish\n",
      "233: Data Load Finish, Predict Finish, 0.8734 0.7799 0.0109 0.9878 Evaluation Finish\n",
      "234: Data Load Finish, "
     ]
    },
    {
     "name": "stderr",
     "output_type": "stream",
     "text": [
      "/home/vislab/anaconda3/envs/cctv/lib/python3.7/site-packages/pandas/core/arraylike.py:364: RuntimeWarning: divide by zero encountered in log\n",
      "  result = getattr(ufunc, method)(*inputs, **kwargs)\n",
      "/home/vislab/anaconda3/envs/cctv/lib/python3.7/site-packages/statsmodels/base/model.py:606: ConvergenceWarning: Maximum Likelihood optimization failed to converge. Check mle_retvals\n",
      "  ConvergenceWarning)\n"
     ]
    },
    {
     "name": "stdout",
     "output_type": "stream",
     "text": [
      "Predict Finish, 70.4344 70.4333 0.986 0.014 Evaluation Finish\n",
      "235: Data Load Finish, Predict Finish, 3.601 3.5599 0.0498 0.9496 Evaluation Finish\n",
      "236: Data Load Finish, Predict Finish, 3.6449 3.6125 0.0505 0.949 Evaluation Finish\n",
      "237: Data Load Finish, Predict Finish, 3.0812 3.0418 0.0425 0.9569 Evaluation Finish\n",
      "238: Data Load Finish, Predict Finish, 7.637 7.6255 0.1067 0.8931 Evaluation Finish\n",
      "239: Data Load Finish, Predict Finish, 5.6313 5.6135 0.0786 0.9212 Evaluation Finish\n",
      "240: Data Load Finish, Predict Finish, 6.6795 6.6655 0.0933 0.9065 Evaluation Finish\n",
      "241: Data Load Finish, Predict Finish, 9.0688 9.0569 0.1268 0.873 Evaluation Finish\n",
      "242: Data Load Finish, Predict Finish, 3.551 3.5261 0.0493 0.9503 Evaluation Finish\n",
      "243: Data Load Finish, Predict Finish, 5.509 5.4735 0.0766 0.9229 Evaluation Finish\n",
      "244: Data Load Finish, Predict Finish, 4.6964 4.669 0.0653 0.9343 Evaluation Finish\n",
      "245: Data Load Finish, Predict Finish, 4.052 4.0187 0.0562 0.9433 Evaluation Finish\n",
      "246: Data Load Finish, Predict Finish, 6.3367 6.3207 0.0885 0.9113 Evaluation Finish\n",
      "247: Data Load Finish, Predict Finish, 7.5999 7.5872 0.1062 0.8936 Evaluation Finish\n",
      "248: Data Load Finish, Predict Finish, 2.7935 2.7353 0.0383 0.9609 Evaluation Finish\n",
      "249: Data Load Finish, Predict Finish, 6.7121 6.695 0.0937 0.906 Evaluation Finish\n",
      "250: Data Load Finish, Predict Finish, 2.1564 2.0643 0.0289 0.9698 Evaluation Finish\n",
      "251: Data Load Finish, Predict Finish, 6.5161 6.4957 0.0909 0.9088 Evaluation Finish\n",
      "252: Data Load Finish, Predict Finish, 7.1562 7.1436 0.1 0.8998 Evaluation Finish\n",
      "253: Data Load Finish, Predict Finish, 0.6415 0.5504 0.0077 0.991 Evaluation Finish\n",
      "254: Data Load Finish, Predict Finish, 5.6245 5.5971 0.0783 0.9213 Evaluation Finish\n",
      "255: Data Load Finish, Predict Finish, 7.1833 7.1721 0.1004 0.8994 Evaluation Finish\n",
      "256: Data Load Finish, Predict Finish, 4.6736 4.643 0.065 0.9346 Evaluation Finish\n",
      "257: Data Load Finish, Predict Finish, 1.4891 1.3964 0.0195 0.9792 Evaluation Finish\n",
      "258: Data Load Finish, Predict Finish, 5.5829 5.5685 0.0779 0.9218 Evaluation Finish\n",
      "259: Data Load Finish, Predict Finish, 5.8286 5.8159 0.0814 0.9184 Evaluation Finish\n",
      "260: Data Load Finish, Predict Finish, 4.8146 4.7996 0.0672 0.9326 Evaluation Finish\n",
      "261: Data Load Finish, Predict Finish, 3.3212 3.2823 0.0459 0.9535 Evaluation Finish\n",
      "262: Data Load Finish, "
     ]
    },
    {
     "name": "stderr",
     "output_type": "stream",
     "text": [
      "/home/vislab/anaconda3/envs/cctv/lib/python3.7/site-packages/pandas/core/arraylike.py:364: RuntimeWarning: divide by zero encountered in log\n",
      "  result = getattr(ufunc, method)(*inputs, **kwargs)\n",
      "/home/vislab/anaconda3/envs/cctv/lib/python3.7/site-packages/statsmodels/base/model.py:606: ConvergenceWarning: Maximum Likelihood optimization failed to converge. Check mle_retvals\n",
      "  ConvergenceWarning)\n"
     ]
    },
    {
     "name": "stdout",
     "output_type": "stream",
     "text": [
      "Predict Finish, 70.4344 70.4333 0.986 0.014 Evaluation Finish\n",
      "263: Data Load Finish, Predict Finish, 5.9718 5.9566 0.0834 0.9164 Evaluation Finish\n",
      "264: Data Load Finish, "
     ]
    },
    {
     "name": "stderr",
     "output_type": "stream",
     "text": [
      "/home/vislab/anaconda3/envs/cctv/lib/python3.7/site-packages/pandas/core/arraylike.py:364: RuntimeWarning: divide by zero encountered in log\n",
      "  result = getattr(ufunc, method)(*inputs, **kwargs)\n",
      "/home/vislab/anaconda3/envs/cctv/lib/python3.7/site-packages/statsmodels/base/model.py:606: ConvergenceWarning: Maximum Likelihood optimization failed to converge. Check mle_retvals\n",
      "  ConvergenceWarning)\n"
     ]
    },
    {
     "name": "stdout",
     "output_type": "stream",
     "text": [
      "Predict Finish, 70.4344 70.4333 0.986 0.014 Evaluation Finish\n",
      "265: Data Load Finish, Predict Finish, 4.4154 4.3897 0.0614 0.9382 Evaluation Finish\n",
      "266: Data Load Finish, Predict Finish, 4.4264 4.404 0.0616 0.938 Evaluation Finish\n",
      "267: Data Load Finish, Predict Finish, 3.4192 3.3864 0.0474 0.9521 Evaluation Finish\n",
      "268: Data Load Finish, Predict Finish, 4.9788 4.9265 0.0689 0.9303 Evaluation Finish\n",
      "269: Data Load Finish, Predict Finish, 4.6808 4.6541 0.0651 0.9345 Evaluation Finish\n",
      "270: Data Load Finish, Predict Finish, 5.5516 5.5299 0.0774 0.9223 Evaluation Finish\n",
      "271: Data Load Finish, Predict Finish, 4.9111 4.8881 0.0684 0.9313 Evaluation Finish\n",
      "272: Data Load Finish, Predict Finish, 3.3186 3.2616 0.0456 0.9535 Evaluation Finish\n",
      "273: Data Load Finish, "
     ]
    },
    {
     "name": "stderr",
     "output_type": "stream",
     "text": [
      "/home/vislab/anaconda3/envs/cctv/lib/python3.7/site-packages/pandas/core/arraylike.py:364: RuntimeWarning: divide by zero encountered in log\n",
      "  result = getattr(ufunc, method)(*inputs, **kwargs)\n",
      "/home/vislab/anaconda3/envs/cctv/lib/python3.7/site-packages/statsmodels/base/model.py:606: ConvergenceWarning: Maximum Likelihood optimization failed to converge. Check mle_retvals\n",
      "  ConvergenceWarning)\n"
     ]
    },
    {
     "name": "stdout",
     "output_type": "stream",
     "text": [
      "Predict Finish, 70.4344 70.4333 0.986 0.014 Evaluation Finish\n",
      "274: Data Load Finish, Predict Finish, 4.0404 3.9962 0.0559 0.9434 Evaluation Finish\n",
      "275: Data Load Finish, Predict Finish, 4.9159 4.8651 0.0681 0.9312 Evaluation Finish\n",
      "276: Data Load Finish, Predict Finish, 3.7376 3.7013 0.0518 0.9477 Evaluation Finish\n",
      "277: Data Load Finish, Predict Finish, 4.2129 4.1772 0.0584 0.941 Evaluation Finish\n",
      "278: Data Load Finish, Predict Finish, 7.2475 7.2331 0.1012 0.8985 Evaluation Finish\n",
      "279: Data Load Finish, Predict Finish, 3.7843 3.7405 0.0523 0.947 Evaluation Finish\n",
      "280: Data Load Finish, Predict Finish, 4.3531 4.3214 0.0605 0.9391 Evaluation Finish\n",
      "281: Data Load Finish, Predict Finish, 2.4795 2.4227 0.0339 0.9653 Evaluation Finish\n",
      "282: Data Load Finish, "
     ]
    },
    {
     "name": "stderr",
     "output_type": "stream",
     "text": [
      "/home/vislab/anaconda3/envs/cctv/lib/python3.7/site-packages/pandas/core/arraylike.py:364: RuntimeWarning: divide by zero encountered in log\n",
      "  result = getattr(ufunc, method)(*inputs, **kwargs)\n",
      "/home/vislab/anaconda3/envs/cctv/lib/python3.7/site-packages/statsmodels/base/model.py:606: ConvergenceWarning: Maximum Likelihood optimization failed to converge. Check mle_retvals\n",
      "  ConvergenceWarning)\n"
     ]
    },
    {
     "name": "stdout",
     "output_type": "stream",
     "text": [
      "Predict Finish, 70.4344 70.4333 0.986 0.014 Evaluation Finish\n",
      "283: Data Load Finish, Predict Finish, 9.8978 9.8881 0.1384 0.8614 Evaluation Finish\n",
      "284: Data Load Finish, "
     ]
    },
    {
     "name": "stderr",
     "output_type": "stream",
     "text": [
      "/home/vislab/anaconda3/envs/cctv/lib/python3.7/site-packages/pandas/core/arraylike.py:364: RuntimeWarning: divide by zero encountered in log\n",
      "  result = getattr(ufunc, method)(*inputs, **kwargs)\n",
      "/home/vislab/anaconda3/envs/cctv/lib/python3.7/site-packages/statsmodels/base/model.py:606: ConvergenceWarning: Maximum Likelihood optimization failed to converge. Check mle_retvals\n",
      "  ConvergenceWarning)\n"
     ]
    },
    {
     "name": "stdout",
     "output_type": "stream",
     "text": [
      "Predict Finish, 70.4344 70.4333 0.986 0.014 Evaluation Finish\n",
      "285: Data Load Finish, Predict Finish, 3.2103 3.1576 0.0442 0.9551 Evaluation Finish\n",
      "286: Data Load Finish, Predict Finish, 4.2808 4.2516 0.0595 0.9401 Evaluation Finish\n",
      "287: Data Load Finish, Predict Finish, 4.1168 4.0602 0.0568 0.9424 Evaluation Finish\n",
      "288: Data Load Finish, Predict Finish, 3.9261 3.8968 0.0545 0.945 Evaluation Finish\n",
      "289: Data Load Finish, Predict Finish, 5.01 4.9838 0.0697 0.9299 Evaluation Finish\n",
      "290: Data Load Finish, Predict Finish, 4.382 4.3533 0.0609 0.9387 Evaluation Finish\n",
      "291: Data Load Finish, "
     ]
    },
    {
     "name": "stderr",
     "output_type": "stream",
     "text": [
      "/home/vislab/anaconda3/envs/cctv/lib/python3.7/site-packages/pandas/core/arraylike.py:364: RuntimeWarning: divide by zero encountered in log\n",
      "  result = getattr(ufunc, method)(*inputs, **kwargs)\n",
      "/home/vislab/anaconda3/envs/cctv/lib/python3.7/site-packages/statsmodels/base/model.py:606: ConvergenceWarning: Maximum Likelihood optimization failed to converge. Check mle_retvals\n",
      "  ConvergenceWarning)\n"
     ]
    },
    {
     "name": "stdout",
     "output_type": "stream",
     "text": [
      "Predict Finish, 70.4344 70.4333 0.986 0.014 Evaluation Finish\n",
      "292: Data Load Finish, Predict Finish, 6.6816 6.4019 0.0895 0.9065 Evaluation Finish\n",
      "293: Data Load Finish, Predict Finish, 7.1656 7.0742 0.099 0.8997 Evaluation Finish\n",
      "294: Data Load Finish, Predict Finish, 4.127 4.0946 0.0573 0.9422 Evaluation Finish\n",
      "295: Data Load Finish, "
     ]
    },
    {
     "name": "stderr",
     "output_type": "stream",
     "text": [
      "/home/vislab/anaconda3/envs/cctv/lib/python3.7/site-packages/pandas/core/arraylike.py:364: RuntimeWarning: divide by zero encountered in log\n",
      "  result = getattr(ufunc, method)(*inputs, **kwargs)\n",
      "/home/vislab/anaconda3/envs/cctv/lib/python3.7/site-packages/statsmodels/base/model.py:606: ConvergenceWarning: Maximum Likelihood optimization failed to converge. Check mle_retvals\n",
      "  ConvergenceWarning)\n"
     ]
    },
    {
     "name": "stdout",
     "output_type": "stream",
     "text": [
      "Predict Finish, 70.4344 70.4333 0.986 0.014 Evaluation Finish\n",
      "296: Data Load Finish, Predict Finish, 4.3106 4.2844 0.0599 0.9397 Evaluation Finish\n",
      "297: Data Load Finish, Predict Finish, 3.9825 3.951 0.0553 0.9442 Evaluation Finish\n",
      "298: Data Load Finish, Predict Finish, 3.3723 3.3361 0.0467 0.9528 Evaluation Finish\n",
      "299: Data Load Finish, "
     ]
    },
    {
     "name": "stderr",
     "output_type": "stream",
     "text": [
      "/home/vislab/anaconda3/envs/cctv/lib/python3.7/site-packages/pandas/core/arraylike.py:364: RuntimeWarning: divide by zero encountered in log\n",
      "  result = getattr(ufunc, method)(*inputs, **kwargs)\n",
      "/home/vislab/anaconda3/envs/cctv/lib/python3.7/site-packages/statsmodels/base/model.py:606: ConvergenceWarning: Maximum Likelihood optimization failed to converge. Check mle_retvals\n",
      "  ConvergenceWarning)\n"
     ]
    },
    {
     "name": "stdout",
     "output_type": "stream",
     "text": [
      "Predict Finish, 70.4344 70.4333 0.986 0.014 Evaluation Finish\n",
      "300: Data Load Finish, Predict Finish, 3.23 3.1691 0.0443 0.9548 Evaluation Finish\n",
      "301: Data Load Finish, Predict Finish, 7.0718 7.0542 0.0987 0.901 Evaluation Finish\n",
      "302: Data Load Finish, Predict Finish, 4.4388 4.393 0.0615 0.9379 Evaluation Finish\n",
      "303: Data Load Finish, Predict Finish, 5.1171 5.0783 0.071 0.9284 Evaluation Finish\n",
      "304: Data Load Finish, Predict Finish, 4.8695 4.8211 0.0674 0.9318 Evaluation Finish\n",
      "305: Data Load Finish, Predict Finish, 9.7901 9.7788 0.1369 0.8629 Evaluation Finish\n",
      "306: Data Load Finish, "
     ]
    },
    {
     "name": "stderr",
     "output_type": "stream",
     "text": [
      "/home/vislab/anaconda3/envs/cctv/lib/python3.7/site-packages/pandas/core/arraylike.py:364: RuntimeWarning: divide by zero encountered in log\n",
      "  result = getattr(ufunc, method)(*inputs, **kwargs)\n",
      "/home/vislab/anaconda3/envs/cctv/lib/python3.7/site-packages/statsmodels/base/model.py:606: ConvergenceWarning: Maximum Likelihood optimization failed to converge. Check mle_retvals\n",
      "  ConvergenceWarning)\n"
     ]
    },
    {
     "name": "stdout",
     "output_type": "stream",
     "text": [
      "Predict Finish, 70.4344 70.4333 0.986 0.014 Evaluation Finish\n",
      "307: Data Load Finish, Predict Finish, 4.752 4.7136 0.0659 0.9335 Evaluation Finish\n",
      "308: Data Load Finish, Predict Finish, 9.0357 8.9773 0.1256 0.8735 Evaluation Finish\n",
      "309: Data Load Finish, Predict Finish, 3.3254 3.2911 0.046 0.9534 Evaluation Finish\n",
      "310: Data Load Finish, Predict Finish, 6.3594 6.337 0.0887 0.911 Evaluation Finish\n",
      "311: Data Load Finish, Predict Finish, 3.1155 3.0794 0.0431 0.9564 Evaluation Finish\n",
      "312: Data Load Finish, Predict Finish, 3.8022 3.7687 0.0527 0.9468 Evaluation Finish\n",
      "313: Data Load Finish, Predict Finish, 5.9115 5.8824 0.0823 0.9172 Evaluation Finish\n",
      "314: Data Load Finish, Predict Finish, 3.8193 3.7803 0.0529 0.9465 Evaluation Finish\n",
      "315: Data Load Finish, Predict Finish, 5.5133 5.498 0.0769 0.9228 Evaluation Finish\n",
      "316: Data Load Finish, Predict Finish, 3.9597 3.9246 0.0549 0.9446 Evaluation Finish\n",
      "317: Data Load Finish, Predict Finish, 7.8768 7.8667 0.1101 0.8897 Evaluation Finish\n",
      "318: Data Load Finish, Predict Finish, 11.0395 11.0326 0.1544 0.8455 Evaluation Finish\n",
      "319: Data Load Finish, Predict Finish, 3.1496 3.1072 0.0435 0.9559 Evaluation Finish\n",
      "320: Data Load Finish, Predict Finish, 8.4725 8.4576 0.1184 0.8814 Evaluation Finish\n",
      "321: Data Load Finish, Predict Finish, 1.8024 1.7344 0.0242 0.9748 Evaluation Finish\n",
      "322: Data Load Finish, Predict Finish, 3.4445 3.4054 0.0476 0.9518 Evaluation Finish\n",
      "323: Data Load Finish, Predict Finish, 0.7689 0.6058 0.0084 0.9892 Evaluation Finish\n",
      "324: Data Load Finish, Predict Finish, 4.3657 4.3336 0.0606 0.9389 Evaluation Finish\n",
      "RMSE: 11.531325604353547, MAE: 11.497880479652881, MAPE: 0.1609282781788577\n",
      "ACC: 0.8385746111612301\n"
     ]
    }
   ],
   "source": [
    "predictARIMA(df, idx, 6)"
   ]
  },
  {
   "cell_type": "markdown",
   "id": "8624171f",
   "metadata": {},
   "source": [
    "### Unobserved Nodes = 20%"
   ]
  },
  {
   "cell_type": "code",
   "execution_count": 14,
   "id": "a8313c43",
   "metadata": {},
   "outputs": [
    {
     "name": "stdout",
     "output_type": "stream",
     "text": [
      "52116 325\n"
     ]
    },
    {
     "data": {
      "text/plain": [
       "3387540"
      ]
     },
     "execution_count": 14,
     "metadata": {},
     "output_type": "execute_result"
    }
   ],
   "source": [
    "df, idx = csvIndexToDatetime(path_20, start, freq)\n",
    "(df == 0).sum().sum()"
   ]
  },
  {
   "cell_type": "code",
   "execution_count": null,
   "id": "7ab1c7bf",
   "metadata": {},
   "outputs": [],
   "source": []
  },
  {
   "cell_type": "code",
   "execution_count": 15,
   "id": "5ce0fefa",
   "metadata": {
    "scrolled": false
   },
   "outputs": [
    {
     "name": "stdout",
     "output_type": "stream",
     "text": [
      "0: Data Load Finish, Predict Finish, 0.5352 0.408 0.0057 0.9925 Evaluation Finish\n",
      "1: Data Load Finish, Predict Finish, 5.7771 5.7583 0.0806 0.9191 Evaluation Finish\n",
      "2: Data Load Finish, Predict Finish, 3.9123 3.8345 0.0536 0.9452 Evaluation Finish\n",
      "3: Data Load Finish, Predict Finish, 10.228 10.2207 0.1431 0.8568 Evaluation Finish\n",
      "4: Data Load Finish, Predict Finish, 10.227 10.2185 0.143 0.8568 Evaluation Finish\n",
      "5: Data Load Finish, Predict Finish, 5.1786 5.1544 0.0721 0.9275 Evaluation Finish\n",
      "6: Data Load Finish, Predict Finish, 7.0291 7.0002 0.098 0.9016 Evaluation Finish\n",
      "7: Data Load Finish, Predict Finish, 4.0306 3.9975 0.0559 0.9436 Evaluation Finish\n",
      "8: Data Load Finish, "
     ]
    },
    {
     "name": "stderr",
     "output_type": "stream",
     "text": [
      "/home/vislab/anaconda3/envs/cctv/lib/python3.7/site-packages/pandas/core/arraylike.py:364: RuntimeWarning: divide by zero encountered in log\n",
      "  result = getattr(ufunc, method)(*inputs, **kwargs)\n",
      "/home/vislab/anaconda3/envs/cctv/lib/python3.7/site-packages/statsmodels/base/model.py:606: ConvergenceWarning: Maximum Likelihood optimization failed to converge. Check mle_retvals\n",
      "  ConvergenceWarning)\n"
     ]
    },
    {
     "name": "stdout",
     "output_type": "stream",
     "text": [
      "Predict Finish, 70.4344 70.4333 0.986 0.014 Evaluation Finish\n",
      "9: Data Load Finish, Predict Finish, 4.9139 4.8906 0.0684 0.9312 Evaluation Finish\n",
      "10: Data Load Finish, Predict Finish, 4.5407 4.5146 0.0632 0.9364 Evaluation Finish\n",
      "11: Data Load Finish, "
     ]
    },
    {
     "name": "stderr",
     "output_type": "stream",
     "text": [
      "/home/vislab/anaconda3/envs/cctv/lib/python3.7/site-packages/pandas/core/arraylike.py:364: RuntimeWarning: divide by zero encountered in log\n",
      "  result = getattr(ufunc, method)(*inputs, **kwargs)\n",
      "/home/vislab/anaconda3/envs/cctv/lib/python3.7/site-packages/statsmodels/base/model.py:606: ConvergenceWarning: Maximum Likelihood optimization failed to converge. Check mle_retvals\n",
      "  ConvergenceWarning)\n"
     ]
    },
    {
     "name": "stdout",
     "output_type": "stream",
     "text": [
      "Predict Finish, 70.4344 70.4333 0.986 0.014 Evaluation Finish\n",
      "12: Data Load Finish, Predict Finish, 3.9734 3.933 0.055 0.9444 Evaluation Finish\n",
      "13: Data Load Finish, Predict Finish, 3.9621 3.9116 0.0547 0.9445 Evaluation Finish\n",
      "14: Data Load Finish, Predict Finish, 3.6565 3.6239 0.0507 0.9488 Evaluation Finish\n",
      "15: Data Load Finish, Predict Finish, 3.2755 3.2322 0.0452 0.9541 Evaluation Finish\n",
      "16: Data Load Finish, Predict Finish, 3.8626 3.8232 0.0535 0.9459 Evaluation Finish\n",
      "17: Data Load Finish, Predict Finish, 3.6357 3.587 0.0502 0.9491 Evaluation Finish\n",
      "18: Data Load Finish, Predict Finish, 3.6102 3.5872 0.0502 0.9495 Evaluation Finish\n",
      "19: Data Load Finish, Predict Finish, 6.6244 6.5976 0.0923 0.9073 Evaluation Finish\n",
      "20: Data Load Finish, Predict Finish, 5.3937 5.37 0.0751 0.9245 Evaluation Finish\n",
      "21: Data Load Finish, "
     ]
    },
    {
     "name": "stderr",
     "output_type": "stream",
     "text": [
      "/home/vislab/anaconda3/envs/cctv/lib/python3.7/site-packages/pandas/core/arraylike.py:364: RuntimeWarning: divide by zero encountered in log\n",
      "  result = getattr(ufunc, method)(*inputs, **kwargs)\n",
      "/home/vislab/anaconda3/envs/cctv/lib/python3.7/site-packages/statsmodels/base/model.py:606: ConvergenceWarning: Maximum Likelihood optimization failed to converge. Check mle_retvals\n",
      "  ConvergenceWarning)\n"
     ]
    },
    {
     "name": "stdout",
     "output_type": "stream",
     "text": [
      "Predict Finish, 70.4344 70.4333 0.986 0.014 Evaluation Finish\n",
      "22: Data Load Finish, Predict Finish, 3.9443 3.9149 0.0548 0.9448 Evaluation Finish\n",
      "23: Data Load Finish, Predict Finish, 6.6734 6.6486 0.093 0.9066 Evaluation Finish\n",
      "24: Data Load Finish, Predict Finish, 2.7967 2.7479 0.0384 0.9608 Evaluation Finish\n",
      "25: Data Load Finish, "
     ]
    },
    {
     "name": "stderr",
     "output_type": "stream",
     "text": [
      "/home/vislab/anaconda3/envs/cctv/lib/python3.7/site-packages/pandas/core/arraylike.py:364: RuntimeWarning: divide by zero encountered in log\n",
      "  result = getattr(ufunc, method)(*inputs, **kwargs)\n",
      "/home/vislab/anaconda3/envs/cctv/lib/python3.7/site-packages/statsmodels/base/model.py:606: ConvergenceWarning: Maximum Likelihood optimization failed to converge. Check mle_retvals\n",
      "  ConvergenceWarning)\n"
     ]
    },
    {
     "name": "stdout",
     "output_type": "stream",
     "text": [
      "Predict Finish, 70.4344 70.4333 0.986 0.014 Evaluation Finish\n",
      "26: Data Load Finish, "
     ]
    },
    {
     "name": "stderr",
     "output_type": "stream",
     "text": [
      "/home/vislab/anaconda3/envs/cctv/lib/python3.7/site-packages/pandas/core/arraylike.py:364: RuntimeWarning: divide by zero encountered in log\n",
      "  result = getattr(ufunc, method)(*inputs, **kwargs)\n",
      "/home/vislab/anaconda3/envs/cctv/lib/python3.7/site-packages/statsmodels/base/model.py:606: ConvergenceWarning: Maximum Likelihood optimization failed to converge. Check mle_retvals\n",
      "  ConvergenceWarning)\n"
     ]
    },
    {
     "name": "stdout",
     "output_type": "stream",
     "text": [
      "Predict Finish, 70.4344 70.4333 0.986 0.014 Evaluation Finish\n",
      "27: Data Load Finish, Predict Finish, 2.441 2.3663 0.0331 0.9658 Evaluation Finish\n",
      "28: Data Load Finish, Predict Finish, 5.9666 5.9459 0.0832 0.9165 Evaluation Finish\n",
      "29: Data Load Finish, "
     ]
    },
    {
     "name": "stderr",
     "output_type": "stream",
     "text": [
      "/home/vislab/anaconda3/envs/cctv/lib/python3.7/site-packages/pandas/core/arraylike.py:364: RuntimeWarning: divide by zero encountered in log\n",
      "  result = getattr(ufunc, method)(*inputs, **kwargs)\n",
      "/home/vislab/anaconda3/envs/cctv/lib/python3.7/site-packages/statsmodels/base/model.py:606: ConvergenceWarning: Maximum Likelihood optimization failed to converge. Check mle_retvals\n",
      "  ConvergenceWarning)\n"
     ]
    },
    {
     "name": "stdout",
     "output_type": "stream",
     "text": [
      "Predict Finish, 70.4344 70.4333 0.986 0.014 Evaluation Finish\n",
      "30: Data Load Finish, Predict Finish, 4.646 4.6243 0.0647 0.935 Evaluation Finish\n",
      "31: Data Load Finish, Predict Finish, 6.844 6.831 0.0956 0.9042 Evaluation Finish\n",
      "32: Data Load Finish, Predict Finish, 3.1667 3.1283 0.0438 0.9557 Evaluation Finish\n",
      "33: Data Load Finish, "
     ]
    },
    {
     "name": "stderr",
     "output_type": "stream",
     "text": [
      "/home/vislab/anaconda3/envs/cctv/lib/python3.7/site-packages/pandas/core/arraylike.py:364: RuntimeWarning: divide by zero encountered in log\n",
      "  result = getattr(ufunc, method)(*inputs, **kwargs)\n",
      "/home/vislab/anaconda3/envs/cctv/lib/python3.7/site-packages/statsmodels/base/model.py:606: ConvergenceWarning: Maximum Likelihood optimization failed to converge. Check mle_retvals\n",
      "  ConvergenceWarning)\n"
     ]
    },
    {
     "name": "stdout",
     "output_type": "stream",
     "text": [
      "Predict Finish, 70.4344 70.4333 0.986 0.014 Evaluation Finish\n",
      "34: Data Load Finish, "
     ]
    },
    {
     "name": "stderr",
     "output_type": "stream",
     "text": [
      "/home/vislab/anaconda3/envs/cctv/lib/python3.7/site-packages/pandas/core/arraylike.py:364: RuntimeWarning: divide by zero encountered in log\n",
      "  result = getattr(ufunc, method)(*inputs, **kwargs)\n",
      "/home/vislab/anaconda3/envs/cctv/lib/python3.7/site-packages/statsmodels/base/model.py:606: ConvergenceWarning: Maximum Likelihood optimization failed to converge. Check mle_retvals\n",
      "  ConvergenceWarning)\n"
     ]
    },
    {
     "name": "stdout",
     "output_type": "stream",
     "text": [
      "Predict Finish, 70.4344 70.4333 0.986 0.014 Evaluation Finish\n",
      "35: Data Load Finish, Predict Finish, 7.9326 7.9155 0.1108 0.889 Evaluation Finish\n",
      "36: Data Load Finish, Predict Finish, 0.562 0.484 0.0068 0.9921 Evaluation Finish\n",
      "37: Data Load Finish, Predict Finish, 2.8911 2.8414 0.0397 0.9595 Evaluation Finish\n",
      "38: Data Load Finish, "
     ]
    },
    {
     "name": "stderr",
     "output_type": "stream",
     "text": [
      "/home/vislab/anaconda3/envs/cctv/lib/python3.7/site-packages/pandas/core/arraylike.py:364: RuntimeWarning: divide by zero encountered in log\n",
      "  result = getattr(ufunc, method)(*inputs, **kwargs)\n",
      "/home/vislab/anaconda3/envs/cctv/lib/python3.7/site-packages/statsmodels/base/model.py:606: ConvergenceWarning: Maximum Likelihood optimization failed to converge. Check mle_retvals\n",
      "  ConvergenceWarning)\n"
     ]
    },
    {
     "name": "stdout",
     "output_type": "stream",
     "text": [
      "Predict Finish, 70.4344 70.4333 0.986 0.014 Evaluation Finish\n",
      "39: Data Load Finish, Predict Finish, 5.8368 5.8198 0.0814 0.9183 Evaluation Finish\n",
      "40: Data Load Finish, Predict Finish, 4.3914 4.3625 0.061 0.9385 Evaluation Finish\n",
      "41: Data Load Finish, "
     ]
    },
    {
     "name": "stderr",
     "output_type": "stream",
     "text": [
      "/home/vislab/anaconda3/envs/cctv/lib/python3.7/site-packages/pandas/core/arraylike.py:364: RuntimeWarning: divide by zero encountered in log\n",
      "  result = getattr(ufunc, method)(*inputs, **kwargs)\n",
      "/home/vislab/anaconda3/envs/cctv/lib/python3.7/site-packages/statsmodels/base/model.py:606: ConvergenceWarning: Maximum Likelihood optimization failed to converge. Check mle_retvals\n",
      "  ConvergenceWarning)\n"
     ]
    },
    {
     "name": "stdout",
     "output_type": "stream",
     "text": [
      "Predict Finish, 70.4344 70.4333 0.986 0.014 Evaluation Finish\n",
      "42: Data Load Finish, Predict Finish, 5.8894 5.8645 0.0821 0.9176 Evaluation Finish\n",
      "43: Data Load Finish, "
     ]
    },
    {
     "name": "stderr",
     "output_type": "stream",
     "text": [
      "/home/vislab/anaconda3/envs/cctv/lib/python3.7/site-packages/pandas/core/arraylike.py:364: RuntimeWarning: divide by zero encountered in log\n",
      "  result = getattr(ufunc, method)(*inputs, **kwargs)\n",
      "/home/vislab/anaconda3/envs/cctv/lib/python3.7/site-packages/statsmodels/base/model.py:606: ConvergenceWarning: Maximum Likelihood optimization failed to converge. Check mle_retvals\n",
      "  ConvergenceWarning)\n"
     ]
    },
    {
     "name": "stdout",
     "output_type": "stream",
     "text": [
      "Predict Finish, 70.4344 70.4333 0.986 0.014 Evaluation Finish\n",
      "44: Data Load Finish, Predict Finish, 4.3314 4.3048 0.0602 0.9394 Evaluation Finish\n",
      "45: Data Load Finish, Predict Finish, 3.5075 3.4529 0.0483 0.9509 Evaluation Finish\n",
      "46: Data Load Finish, Predict Finish, 9.3941 9.3866 0.1314 0.8685 Evaluation Finish\n",
      "47: Data Load Finish, "
     ]
    },
    {
     "name": "stderr",
     "output_type": "stream",
     "text": [
      "/home/vislab/anaconda3/envs/cctv/lib/python3.7/site-packages/pandas/core/arraylike.py:364: RuntimeWarning: divide by zero encountered in log\n",
      "  result = getattr(ufunc, method)(*inputs, **kwargs)\n",
      "/home/vislab/anaconda3/envs/cctv/lib/python3.7/site-packages/statsmodels/base/model.py:606: ConvergenceWarning: Maximum Likelihood optimization failed to converge. Check mle_retvals\n",
      "  ConvergenceWarning)\n"
     ]
    },
    {
     "name": "stdout",
     "output_type": "stream",
     "text": [
      "Predict Finish, 70.4344 70.4333 0.986 0.014 Evaluation Finish\n",
      "48: Data Load Finish, Predict Finish, 5.3242 5.299 0.0741 0.9255 Evaluation Finish\n",
      "49: Data Load Finish, Predict Finish, 3.1592 3.1155 0.0436 0.9558 Evaluation Finish\n",
      "50: Data Load Finish, Predict Finish, 6.566 6.5499 0.0917 0.9081 Evaluation Finish\n",
      "51: Data Load Finish, Predict Finish, 2.958 2.9116 0.0407 0.9586 Evaluation Finish\n",
      "52: Data Load Finish, Predict Finish, 3.0853 3.0504 0.0427 0.9568 Evaluation Finish\n",
      "53: Data Load Finish, Predict Finish, 6.7134 6.6907 0.0936 0.906 Evaluation Finish\n",
      "54: Data Load Finish, "
     ]
    },
    {
     "name": "stderr",
     "output_type": "stream",
     "text": [
      "/home/vislab/anaconda3/envs/cctv/lib/python3.7/site-packages/pandas/core/arraylike.py:364: RuntimeWarning: divide by zero encountered in log\n",
      "  result = getattr(ufunc, method)(*inputs, **kwargs)\n",
      "/home/vislab/anaconda3/envs/cctv/lib/python3.7/site-packages/statsmodels/base/model.py:606: ConvergenceWarning: Maximum Likelihood optimization failed to converge. Check mle_retvals\n",
      "  ConvergenceWarning)\n"
     ]
    },
    {
     "name": "stdout",
     "output_type": "stream",
     "text": [
      "Predict Finish, 70.4344 70.4333 0.986 0.014 Evaluation Finish\n",
      "55: Data Load Finish, Predict Finish, 5.6593 5.6172 0.0786 0.9208 Evaluation Finish\n",
      "56: Data Load Finish, Predict Finish, 0.5341 0.4021 0.0056 0.9925 Evaluation Finish\n",
      "57: Data Load Finish, Predict Finish, 4.1679 4.1181 0.0576 0.9417 Evaluation Finish\n",
      "58: Data Load Finish, "
     ]
    },
    {
     "name": "stderr",
     "output_type": "stream",
     "text": [
      "/home/vislab/anaconda3/envs/cctv/lib/python3.7/site-packages/pandas/core/arraylike.py:364: RuntimeWarning: divide by zero encountered in log\n",
      "  result = getattr(ufunc, method)(*inputs, **kwargs)\n",
      "/home/vislab/anaconda3/envs/cctv/lib/python3.7/site-packages/statsmodels/base/model.py:606: ConvergenceWarning: Maximum Likelihood optimization failed to converge. Check mle_retvals\n",
      "  ConvergenceWarning)\n"
     ]
    },
    {
     "name": "stdout",
     "output_type": "stream",
     "text": [
      "Predict Finish, 70.4344 70.4333 0.986 0.014 Evaluation Finish\n",
      "59: Data Load Finish, Predict Finish, 4.3595 4.3316 0.0606 0.939 Evaluation Finish\n",
      "60: Data Load Finish, Predict Finish, 5.2054 5.1803 0.0725 0.9271 Evaluation Finish\n",
      "61: Data Load Finish, Predict Finish, 3.8467 3.8058 0.0532 0.9462 Evaluation Finish\n",
      "62: Data Load Finish, Predict Finish, 3.9614 3.9273 0.0549 0.9445 Evaluation Finish\n",
      "63: Data Load Finish, Predict Finish, 5.5191 5.492 0.0768 0.9227 Evaluation Finish\n",
      "64: Data Load Finish, Predict Finish, 7.0993 7.081 0.0991 0.9006 Evaluation Finish\n",
      "65: Data Load Finish, Predict Finish, 4.4993 4.4531 0.0623 0.937 Evaluation Finish\n",
      "66: Data Load Finish, Predict Finish, 9.1508 9.133 0.1278 0.8719 Evaluation Finish\n",
      "67: Data Load Finish, Predict Finish, 8.255 8.2423 0.1154 0.8844 Evaluation Finish\n",
      "68: Data Load Finish, Predict Finish, 3.665 3.6085 0.0505 0.9487 Evaluation Finish\n",
      "69: Data Load Finish, "
     ]
    },
    {
     "name": "stderr",
     "output_type": "stream",
     "text": [
      "/home/vislab/anaconda3/envs/cctv/lib/python3.7/site-packages/pandas/core/arraylike.py:364: RuntimeWarning: divide by zero encountered in log\n",
      "  result = getattr(ufunc, method)(*inputs, **kwargs)\n",
      "/home/vislab/anaconda3/envs/cctv/lib/python3.7/site-packages/statsmodels/base/model.py:606: ConvergenceWarning: Maximum Likelihood optimization failed to converge. Check mle_retvals\n",
      "  ConvergenceWarning)\n"
     ]
    },
    {
     "name": "stdout",
     "output_type": "stream",
     "text": [
      "Predict Finish, 70.4344 70.4333 0.986 0.014 Evaluation Finish\n",
      "70: Data Load Finish, Predict Finish, 4.9879 4.969 0.0695 0.9302 Evaluation Finish\n",
      "71: Data Load Finish, Predict Finish, 9.5966 9.5891 0.1342 0.8657 Evaluation Finish\n",
      "72: Data Load Finish, Predict Finish, 6.598 6.5754 0.092 0.9076 Evaluation Finish\n",
      "73: Data Load Finish, Predict Finish, 5.3925 5.3614 0.075 0.9245 Evaluation Finish\n",
      "74: Data Load Finish, "
     ]
    },
    {
     "name": "stderr",
     "output_type": "stream",
     "text": [
      "/home/vislab/anaconda3/envs/cctv/lib/python3.7/site-packages/pandas/core/arraylike.py:364: RuntimeWarning: divide by zero encountered in log\n",
      "  result = getattr(ufunc, method)(*inputs, **kwargs)\n",
      "/home/vislab/anaconda3/envs/cctv/lib/python3.7/site-packages/statsmodels/base/model.py:606: ConvergenceWarning: Maximum Likelihood optimization failed to converge. Check mle_retvals\n",
      "  ConvergenceWarning)\n"
     ]
    },
    {
     "name": "stdout",
     "output_type": "stream",
     "text": [
      "Predict Finish, 70.4344 70.4333 0.986 0.014 Evaluation Finish\n",
      "75: Data Load Finish, Predict Finish, 3.1273 3.0851 0.0432 0.9562 Evaluation Finish\n",
      "76: Data Load Finish, Predict Finish, 2.1275 1.9959 0.0279 0.9702 Evaluation Finish\n",
      "77: Data Load Finish, Predict Finish, 5.0434 5.0199 0.0702 0.9294 Evaluation Finish\n",
      "78: Data Load Finish, "
     ]
    },
    {
     "name": "stderr",
     "output_type": "stream",
     "text": [
      "/home/vislab/anaconda3/envs/cctv/lib/python3.7/site-packages/pandas/core/arraylike.py:364: RuntimeWarning: divide by zero encountered in log\n",
      "  result = getattr(ufunc, method)(*inputs, **kwargs)\n",
      "/home/vislab/anaconda3/envs/cctv/lib/python3.7/site-packages/statsmodels/base/model.py:606: ConvergenceWarning: Maximum Likelihood optimization failed to converge. Check mle_retvals\n",
      "  ConvergenceWarning)\n"
     ]
    },
    {
     "name": "stdout",
     "output_type": "stream",
     "text": [
      "Predict Finish, 70.4344 70.4333 0.986 0.014 Evaluation Finish\n",
      "79: Data Load Finish, "
     ]
    },
    {
     "name": "stderr",
     "output_type": "stream",
     "text": [
      "/home/vislab/anaconda3/envs/cctv/lib/python3.7/site-packages/pandas/core/arraylike.py:364: RuntimeWarning: divide by zero encountered in log\n",
      "  result = getattr(ufunc, method)(*inputs, **kwargs)\n",
      "/home/vislab/anaconda3/envs/cctv/lib/python3.7/site-packages/statsmodels/base/model.py:606: ConvergenceWarning: Maximum Likelihood optimization failed to converge. Check mle_retvals\n",
      "  ConvergenceWarning)\n"
     ]
    },
    {
     "name": "stdout",
     "output_type": "stream",
     "text": [
      "Predict Finish, 70.4344 70.4333 0.986 0.014 Evaluation Finish\n",
      "80: Data Load Finish, Predict Finish, 4.1947 4.1306 0.0578 0.9413 Evaluation Finish\n",
      "81: Data Load Finish, Predict Finish, 3.185 3.1398 0.0439 0.9554 Evaluation Finish\n",
      "82: Data Load Finish, Predict Finish, 4.8555 4.8304 0.0676 0.932 Evaluation Finish\n",
      "83: Data Load Finish, "
     ]
    },
    {
     "name": "stderr",
     "output_type": "stream",
     "text": [
      "/home/vislab/anaconda3/envs/cctv/lib/python3.7/site-packages/pandas/core/arraylike.py:364: RuntimeWarning: divide by zero encountered in log\n",
      "  result = getattr(ufunc, method)(*inputs, **kwargs)\n",
      "/home/vislab/anaconda3/envs/cctv/lib/python3.7/site-packages/statsmodels/base/model.py:606: ConvergenceWarning: Maximum Likelihood optimization failed to converge. Check mle_retvals\n",
      "  ConvergenceWarning)\n"
     ]
    },
    {
     "name": "stdout",
     "output_type": "stream",
     "text": [
      "Predict Finish, 70.4344 70.4333 0.986 0.014 Evaluation Finish\n",
      "84: Data Load Finish, Predict Finish, 4.038 3.9994 0.0559 0.9435 Evaluation Finish\n",
      "85: Data Load Finish, "
     ]
    },
    {
     "name": "stderr",
     "output_type": "stream",
     "text": [
      "/home/vislab/anaconda3/envs/cctv/lib/python3.7/site-packages/pandas/core/arraylike.py:364: RuntimeWarning: divide by zero encountered in log\n",
      "  result = getattr(ufunc, method)(*inputs, **kwargs)\n",
      "/home/vislab/anaconda3/envs/cctv/lib/python3.7/site-packages/statsmodels/base/model.py:606: ConvergenceWarning: Maximum Likelihood optimization failed to converge. Check mle_retvals\n",
      "  ConvergenceWarning)\n"
     ]
    },
    {
     "name": "stdout",
     "output_type": "stream",
     "text": [
      "Predict Finish, 70.4344 70.4333 0.986 0.014 Evaluation Finish\n",
      "86: Data Load Finish, "
     ]
    },
    {
     "name": "stderr",
     "output_type": "stream",
     "text": [
      "/home/vislab/anaconda3/envs/cctv/lib/python3.7/site-packages/pandas/core/arraylike.py:364: RuntimeWarning: divide by zero encountered in log\n",
      "  result = getattr(ufunc, method)(*inputs, **kwargs)\n",
      "/home/vislab/anaconda3/envs/cctv/lib/python3.7/site-packages/statsmodels/base/model.py:606: ConvergenceWarning: Maximum Likelihood optimization failed to converge. Check mle_retvals\n",
      "  ConvergenceWarning)\n"
     ]
    },
    {
     "name": "stdout",
     "output_type": "stream",
     "text": [
      "Predict Finish, 70.4344 70.4333 0.986 0.014 Evaluation Finish\n",
      "87: Data Load Finish, Predict Finish, 4.3217 4.2863 0.06 0.9395 Evaluation Finish\n",
      "88: Data Load Finish, Predict Finish, 8.9706 8.9543 0.1253 0.8744 Evaluation Finish\n",
      "89: Data Load Finish, Predict Finish, 4.7897 4.7668 0.0667 0.933 Evaluation Finish\n",
      "90: Data Load Finish, Predict Finish, 5.0031 4.9732 0.0696 0.93 Evaluation Finish\n",
      "91: Data Load Finish, "
     ]
    },
    {
     "name": "stderr",
     "output_type": "stream",
     "text": [
      "/home/vislab/anaconda3/envs/cctv/lib/python3.7/site-packages/pandas/core/arraylike.py:364: RuntimeWarning: divide by zero encountered in log\n",
      "  result = getattr(ufunc, method)(*inputs, **kwargs)\n",
      "/home/vislab/anaconda3/envs/cctv/lib/python3.7/site-packages/statsmodels/base/model.py:606: ConvergenceWarning: Maximum Likelihood optimization failed to converge. Check mle_retvals\n",
      "  ConvergenceWarning)\n"
     ]
    },
    {
     "name": "stdout",
     "output_type": "stream",
     "text": [
      "Predict Finish, 70.4344 70.4333 0.986 0.014 Evaluation Finish\n",
      "92: Data Load Finish, Predict Finish, 2.8936 2.8566 0.04 0.9595 Evaluation Finish\n",
      "93: Data Load Finish, Predict Finish, 3.1003 3.0393 0.0425 0.9566 Evaluation Finish\n",
      "94: Data Load Finish, "
     ]
    },
    {
     "name": "stderr",
     "output_type": "stream",
     "text": [
      "/home/vislab/anaconda3/envs/cctv/lib/python3.7/site-packages/pandas/core/arraylike.py:364: RuntimeWarning: divide by zero encountered in log\n",
      "  result = getattr(ufunc, method)(*inputs, **kwargs)\n",
      "/home/vislab/anaconda3/envs/cctv/lib/python3.7/site-packages/statsmodels/base/model.py:606: ConvergenceWarning: Maximum Likelihood optimization failed to converge. Check mle_retvals\n",
      "  ConvergenceWarning)\n"
     ]
    },
    {
     "name": "stdout",
     "output_type": "stream",
     "text": [
      "Predict Finish, 70.4344 70.4333 0.986 0.014 Evaluation Finish\n",
      "95: Data Load Finish, Predict Finish, 5.4587 5.4395 0.0761 0.9236 Evaluation Finish\n",
      "96: Data Load Finish, Predict Finish, 10.5595 10.5509 0.1477 0.8522 Evaluation Finish\n",
      "97: Data Load Finish, Predict Finish, 4.3837 4.3459 0.0608 0.9386 Evaluation Finish\n",
      "98: Data Load Finish, Predict Finish, 9.9347 9.9259 0.1389 0.8609 Evaluation Finish\n",
      "99: Data Load Finish, Predict Finish, 2.0081 1.9262 0.0269 0.9719 Evaluation Finish\n",
      "100: Data Load Finish, Predict Finish, 5.1785 5.132 0.0718 0.9275 Evaluation Finish\n",
      "101: Data Load Finish, Predict Finish, 5.3718 5.3487 0.0748 0.9248 Evaluation Finish\n",
      "102: Data Load Finish, "
     ]
    },
    {
     "name": "stderr",
     "output_type": "stream",
     "text": [
      "/home/vislab/anaconda3/envs/cctv/lib/python3.7/site-packages/pandas/core/arraylike.py:364: RuntimeWarning: divide by zero encountered in log\n",
      "  result = getattr(ufunc, method)(*inputs, **kwargs)\n",
      "/home/vislab/anaconda3/envs/cctv/lib/python3.7/site-packages/statsmodels/base/model.py:606: ConvergenceWarning: Maximum Likelihood optimization failed to converge. Check mle_retvals\n",
      "  ConvergenceWarning)\n"
     ]
    },
    {
     "name": "stdout",
     "output_type": "stream",
     "text": [
      "Predict Finish, 70.4344 70.4333 0.986 0.014 Evaluation Finish\n",
      "103: Data Load Finish, "
     ]
    },
    {
     "name": "stderr",
     "output_type": "stream",
     "text": [
      "/home/vislab/anaconda3/envs/cctv/lib/python3.7/site-packages/pandas/core/arraylike.py:364: RuntimeWarning: divide by zero encountered in log\n",
      "  result = getattr(ufunc, method)(*inputs, **kwargs)\n",
      "/home/vislab/anaconda3/envs/cctv/lib/python3.7/site-packages/statsmodels/base/model.py:606: ConvergenceWarning: Maximum Likelihood optimization failed to converge. Check mle_retvals\n",
      "  ConvergenceWarning)\n"
     ]
    },
    {
     "name": "stdout",
     "output_type": "stream",
     "text": [
      "Predict Finish, 70.4344 70.4333 0.986 0.014 Evaluation Finish\n",
      "104: Data Load Finish, Predict Finish, 7.8159 7.764 0.1086 0.8906 Evaluation Finish\n",
      "105: Data Load Finish, "
     ]
    },
    {
     "name": "stderr",
     "output_type": "stream",
     "text": [
      "/home/vislab/anaconda3/envs/cctv/lib/python3.7/site-packages/pandas/core/arraylike.py:364: RuntimeWarning: divide by zero encountered in log\n",
      "  result = getattr(ufunc, method)(*inputs, **kwargs)\n",
      "/home/vislab/anaconda3/envs/cctv/lib/python3.7/site-packages/statsmodels/base/model.py:606: ConvergenceWarning: Maximum Likelihood optimization failed to converge. Check mle_retvals\n",
      "  ConvergenceWarning)\n"
     ]
    },
    {
     "name": "stdout",
     "output_type": "stream",
     "text": [
      "Predict Finish, 70.4344 70.4333 0.986 0.014 Evaluation Finish\n",
      "106: Data Load Finish, Predict Finish, 4.6829 4.6518 0.0651 0.9344 Evaluation Finish\n",
      "107: Data Load Finish, "
     ]
    },
    {
     "name": "stderr",
     "output_type": "stream",
     "text": [
      "/home/vislab/anaconda3/envs/cctv/lib/python3.7/site-packages/pandas/core/arraylike.py:364: RuntimeWarning: divide by zero encountered in log\n",
      "  result = getattr(ufunc, method)(*inputs, **kwargs)\n",
      "/home/vislab/anaconda3/envs/cctv/lib/python3.7/site-packages/statsmodels/base/model.py:606: ConvergenceWarning: Maximum Likelihood optimization failed to converge. Check mle_retvals\n",
      "  ConvergenceWarning)\n"
     ]
    },
    {
     "name": "stdout",
     "output_type": "stream",
     "text": [
      "Predict Finish, 70.4344 70.4333 0.986 0.014 Evaluation Finish\n",
      "108: Data Load Finish, Predict Finish, 3.3818 3.345 0.0468 0.9527 Evaluation Finish\n",
      "109: Data Load Finish, Predict Finish, 0.8791 0.6907 0.0096 0.9877 Evaluation Finish\n",
      "110: Data Load Finish, "
     ]
    },
    {
     "name": "stderr",
     "output_type": "stream",
     "text": [
      "/home/vislab/anaconda3/envs/cctv/lib/python3.7/site-packages/pandas/core/arraylike.py:364: RuntimeWarning: divide by zero encountered in log\n",
      "  result = getattr(ufunc, method)(*inputs, **kwargs)\n",
      "/home/vislab/anaconda3/envs/cctv/lib/python3.7/site-packages/statsmodels/base/model.py:606: ConvergenceWarning: Maximum Likelihood optimization failed to converge. Check mle_retvals\n",
      "  ConvergenceWarning)\n"
     ]
    },
    {
     "name": "stdout",
     "output_type": "stream",
     "text": [
      "Predict Finish, 70.4344 70.4333 0.986 0.014 Evaluation Finish\n",
      "111: Data Load Finish, Predict Finish, 3.6516 3.6273 0.0507 0.9489 Evaluation Finish\n",
      "112: Data Load Finish, Predict Finish, 3.2945 3.2561 0.0455 0.9539 Evaluation Finish\n",
      "113: Data Load Finish, Predict Finish, 5.2535 5.2304 0.0732 0.9265 Evaluation Finish\n",
      "114: Data Load Finish, Predict Finish, 2.9745 2.927 0.0409 0.9584 Evaluation Finish\n",
      "115: Data Load Finish, Predict Finish, 9.5537 9.5443 0.1336 0.8663 Evaluation Finish\n",
      "116: Data Load Finish, Predict Finish, 9.5526 9.5416 0.1335 0.8663 Evaluation Finish\n",
      "117: Data Load Finish, "
     ]
    },
    {
     "name": "stderr",
     "output_type": "stream",
     "text": [
      "/home/vislab/anaconda3/envs/cctv/lib/python3.7/site-packages/pandas/core/arraylike.py:364: RuntimeWarning: divide by zero encountered in log\n",
      "  result = getattr(ufunc, method)(*inputs, **kwargs)\n",
      "/home/vislab/anaconda3/envs/cctv/lib/python3.7/site-packages/statsmodels/base/model.py:606: ConvergenceWarning: Maximum Likelihood optimization failed to converge. Check mle_retvals\n",
      "  ConvergenceWarning)\n"
     ]
    },
    {
     "name": "stdout",
     "output_type": "stream",
     "text": [
      "Predict Finish, 70.4344 70.4333 0.986 0.014 Evaluation Finish\n",
      "118: Data Load Finish, Predict Finish, 2.2836 2.2132 0.0309 0.968 Evaluation Finish\n",
      "119: Data Load Finish, Predict Finish, 3.4662 3.4313 0.048 0.9515 Evaluation Finish\n",
      "120: Data Load Finish, Predict Finish, 3.505 3.4628 0.0484 0.9509 Evaluation Finish\n",
      "121: Data Load Finish, "
     ]
    },
    {
     "name": "stderr",
     "output_type": "stream",
     "text": [
      "/home/vislab/anaconda3/envs/cctv/lib/python3.7/site-packages/pandas/core/arraylike.py:364: RuntimeWarning: divide by zero encountered in log\n",
      "  result = getattr(ufunc, method)(*inputs, **kwargs)\n",
      "/home/vislab/anaconda3/envs/cctv/lib/python3.7/site-packages/statsmodels/base/model.py:606: ConvergenceWarning: Maximum Likelihood optimization failed to converge. Check mle_retvals\n",
      "  ConvergenceWarning)\n"
     ]
    },
    {
     "name": "stdout",
     "output_type": "stream",
     "text": [
      "Predict Finish, 70.4344 70.4333 0.986 0.014 Evaluation Finish\n",
      "122: Data Load Finish, Predict Finish, 3.0184 2.9693 0.0415 0.9577 Evaluation Finish\n",
      "123: Data Load Finish, Predict Finish, 5.4054 5.3874 0.0754 0.9243 Evaluation Finish\n",
      "124: Data Load Finish, Predict Finish, 2.8882 2.8509 0.0399 0.9596 Evaluation Finish\n",
      "125: Data Load Finish, Predict Finish, 6.8714 6.8635 0.0961 0.9038 Evaluation Finish\n",
      "126: Data Load Finish, Predict Finish, 7.585 7.5704 0.1059 0.8938 Evaluation Finish\n",
      "127: Data Load Finish, Predict Finish, 7.7323 7.7191 0.108 0.8918 Evaluation Finish\n",
      "128: Data Load Finish, Predict Finish, 5.6422 5.6178 0.0786 0.921 Evaluation Finish\n",
      "129: Data Load Finish, Predict Finish, 3.2282 3.1872 0.0446 0.9548 Evaluation Finish\n",
      "130: Data Load Finish, Predict Finish, 5.5115 5.4878 0.0768 0.9228 Evaluation Finish\n",
      "131: Data Load Finish, Predict Finish, 4.6728 4.6499 0.0651 0.9346 Evaluation Finish\n",
      "132: Data Load Finish, Predict Finish, 4.5543 4.5144 0.0632 0.9362 Evaluation Finish\n",
      "133: Data Load Finish, Predict Finish, 15.3463 15.3372 0.2147 0.7852 Evaluation Finish\n",
      "134: Data Load Finish, Predict Finish, 6.445 6.3895 0.0894 0.9098 Evaluation Finish\n",
      "135: Data Load Finish, "
     ]
    },
    {
     "name": "stderr",
     "output_type": "stream",
     "text": [
      "/home/vislab/anaconda3/envs/cctv/lib/python3.7/site-packages/pandas/core/arraylike.py:364: RuntimeWarning: divide by zero encountered in log\n",
      "  result = getattr(ufunc, method)(*inputs, **kwargs)\n",
      "/home/vislab/anaconda3/envs/cctv/lib/python3.7/site-packages/statsmodels/base/model.py:606: ConvergenceWarning: Maximum Likelihood optimization failed to converge. Check mle_retvals\n",
      "  ConvergenceWarning)\n"
     ]
    },
    {
     "name": "stdout",
     "output_type": "stream",
     "text": [
      "Predict Finish, 70.4344 70.4333 0.986 0.014 Evaluation Finish\n",
      "136: Data Load Finish, Predict Finish, 0.5295 0.4481 0.0063 0.9926 Evaluation Finish\n",
      "137: Data Load Finish, Predict Finish, 3.8318 3.8015 0.0532 0.9464 Evaluation Finish\n",
      "138: Data Load Finish, Predict Finish, 5.7426 5.7149 0.08 0.9196 Evaluation Finish\n",
      "139: Data Load Finish, Predict Finish, 5.2245 5.2054 0.0728 0.9269 Evaluation Finish\n",
      "140: Data Load Finish, "
     ]
    },
    {
     "name": "stderr",
     "output_type": "stream",
     "text": [
      "/home/vislab/anaconda3/envs/cctv/lib/python3.7/site-packages/pandas/core/arraylike.py:364: RuntimeWarning: divide by zero encountered in log\n",
      "  result = getattr(ufunc, method)(*inputs, **kwargs)\n",
      "/home/vislab/anaconda3/envs/cctv/lib/python3.7/site-packages/statsmodels/base/model.py:606: ConvergenceWarning: Maximum Likelihood optimization failed to converge. Check mle_retvals\n",
      "  ConvergenceWarning)\n"
     ]
    },
    {
     "name": "stdout",
     "output_type": "stream",
     "text": [
      "Predict Finish, 70.4344 70.4333 0.986 0.014 Evaluation Finish\n",
      "141: Data Load Finish, Predict Finish, 0.7937 0.6296 0.0088 0.9889 Evaluation Finish\n",
      "142: Data Load Finish, Predict Finish, 1.2683 1.1638 0.0163 0.9822 Evaluation Finish\n",
      "143: Data Load Finish, "
     ]
    },
    {
     "name": "stderr",
     "output_type": "stream",
     "text": [
      "/home/vislab/anaconda3/envs/cctv/lib/python3.7/site-packages/pandas/core/arraylike.py:364: RuntimeWarning: divide by zero encountered in log\n",
      "  result = getattr(ufunc, method)(*inputs, **kwargs)\n",
      "/home/vislab/anaconda3/envs/cctv/lib/python3.7/site-packages/statsmodels/base/model.py:606: ConvergenceWarning: Maximum Likelihood optimization failed to converge. Check mle_retvals\n",
      "  ConvergenceWarning)\n"
     ]
    },
    {
     "name": "stdout",
     "output_type": "stream",
     "text": [
      "Predict Finish, 70.4344 70.4333 0.986 0.014 Evaluation Finish\n",
      "144: Data Load Finish, Predict Finish, 3.6708 3.6267 0.0507 0.9486 Evaluation Finish\n",
      "145: Data Load Finish, Predict Finish, 6.6299 6.6146 0.0926 0.9072 Evaluation Finish\n",
      "146: Data Load Finish, Predict Finish, 14.9958 14.8704 0.2082 0.7901 Evaluation Finish\n",
      "147: Data Load Finish, Predict Finish, 7.2178 7.2041 0.1008 0.899 Evaluation Finish\n",
      "148: Data Load Finish, "
     ]
    },
    {
     "name": "stderr",
     "output_type": "stream",
     "text": [
      "/home/vislab/anaconda3/envs/cctv/lib/python3.7/site-packages/pandas/core/arraylike.py:364: RuntimeWarning: divide by zero encountered in log\n",
      "  result = getattr(ufunc, method)(*inputs, **kwargs)\n",
      "/home/vislab/anaconda3/envs/cctv/lib/python3.7/site-packages/statsmodels/base/model.py:606: ConvergenceWarning: Maximum Likelihood optimization failed to converge. Check mle_retvals\n",
      "  ConvergenceWarning)\n"
     ]
    },
    {
     "name": "stdout",
     "output_type": "stream",
     "text": [
      "Predict Finish, 70.4344 70.4333 0.986 0.014 Evaluation Finish\n",
      "149: Data Load Finish, Predict Finish, 5.9047 5.8825 0.0823 0.9173 Evaluation Finish\n",
      "150: Data Load Finish, "
     ]
    },
    {
     "name": "stderr",
     "output_type": "stream",
     "text": [
      "/home/vislab/anaconda3/envs/cctv/lib/python3.7/site-packages/pandas/core/arraylike.py:364: RuntimeWarning: divide by zero encountered in log\n",
      "  result = getattr(ufunc, method)(*inputs, **kwargs)\n",
      "/home/vislab/anaconda3/envs/cctv/lib/python3.7/site-packages/statsmodels/base/model.py:606: ConvergenceWarning: Maximum Likelihood optimization failed to converge. Check mle_retvals\n",
      "  ConvergenceWarning)\n"
     ]
    },
    {
     "name": "stdout",
     "output_type": "stream",
     "text": [
      "Predict Finish, 70.4344 70.4333 0.986 0.014 Evaluation Finish\n",
      "151: Data Load Finish, Predict Finish, 6.5988 6.5762 0.092 0.9076 Evaluation Finish\n",
      "152: Data Load Finish, Predict Finish, 13.5145 13.5097 0.1891 0.8108 Evaluation Finish\n",
      "153: Data Load Finish, Predict Finish, 3.3416 3.3015 0.0462 0.9532 Evaluation Finish\n",
      "154: Data Load Finish, Predict Finish, 3.3185 3.2845 0.0459 0.9535 Evaluation Finish\n",
      "155: Data Load Finish, Predict Finish, 7.4668 7.4562 0.1044 0.8955 Evaluation Finish\n",
      "156: Data Load Finish, Predict Finish, 1.7255 1.6615 0.0232 0.9758 Evaluation Finish\n",
      "157: Data Load Finish, Predict Finish, 3.2706 3.2219 0.0451 0.9542 Evaluation Finish\n",
      "158: Data Load Finish, Predict Finish, 4.3958 4.3413 0.0607 0.9385 Evaluation Finish\n",
      "159: Data Load Finish, "
     ]
    },
    {
     "name": "stderr",
     "output_type": "stream",
     "text": [
      "/home/vislab/anaconda3/envs/cctv/lib/python3.7/site-packages/pandas/core/arraylike.py:364: RuntimeWarning: divide by zero encountered in log\n",
      "  result = getattr(ufunc, method)(*inputs, **kwargs)\n",
      "/home/vislab/anaconda3/envs/cctv/lib/python3.7/site-packages/statsmodels/base/model.py:606: ConvergenceWarning: Maximum Likelihood optimization failed to converge. Check mle_retvals\n",
      "  ConvergenceWarning)\n"
     ]
    },
    {
     "name": "stdout",
     "output_type": "stream",
     "text": [
      "Predict Finish, 70.4344 70.4333 0.986 0.014 Evaluation Finish\n",
      "160: Data Load Finish, Predict Finish, 7.2237 7.2118 0.1009 0.8989 Evaluation Finish\n",
      "161: Data Load Finish, "
     ]
    },
    {
     "name": "stderr",
     "output_type": "stream",
     "text": [
      "/home/vislab/anaconda3/envs/cctv/lib/python3.7/site-packages/pandas/core/arraylike.py:364: RuntimeWarning: divide by zero encountered in log\n",
      "  result = getattr(ufunc, method)(*inputs, **kwargs)\n",
      "/home/vislab/anaconda3/envs/cctv/lib/python3.7/site-packages/statsmodels/base/model.py:606: ConvergenceWarning: Maximum Likelihood optimization failed to converge. Check mle_retvals\n",
      "  ConvergenceWarning)\n"
     ]
    },
    {
     "name": "stdout",
     "output_type": "stream",
     "text": [
      "Predict Finish, 70.4344 70.4333 0.986 0.014 Evaluation Finish\n",
      "162: Data Load Finish, Predict Finish, 9.7848 9.7735 0.1368 0.863 Evaluation Finish\n",
      "163: Data Load Finish, Predict Finish, 4.6543 4.6199 0.0646 0.9348 Evaluation Finish\n",
      "164: Data Load Finish, Predict Finish, 5.0506 5.0331 0.0704 0.9293 Evaluation Finish\n",
      "165: Data Load Finish, Predict Finish, 1.0002 0.864 0.0121 0.986 Evaluation Finish\n",
      "166: Data Load Finish, Predict Finish, 5.4859 5.4659 0.0765 0.9232 Evaluation Finish\n",
      "167: Data Load Finish, Predict Finish, 8.837 8.8254 0.1235 0.8763 Evaluation Finish\n",
      "168: Data Load Finish, Predict Finish, 3.9964 3.96 0.0554 0.9441 Evaluation Finish\n",
      "169: Data Load Finish, Predict Finish, 5.029 4.9889 0.0698 0.9296 Evaluation Finish\n",
      "170: Data Load Finish, Predict Finish, 5.0432 5.0094 0.0701 0.9294 Evaluation Finish\n",
      "171: Data Load Finish, Predict Finish, 6.6299 6.6146 0.0926 0.9072 Evaluation Finish\n",
      "172: Data Load Finish, "
     ]
    },
    {
     "name": "stderr",
     "output_type": "stream",
     "text": [
      "/home/vislab/anaconda3/envs/cctv/lib/python3.7/site-packages/pandas/core/arraylike.py:364: RuntimeWarning: divide by zero encountered in log\n",
      "  result = getattr(ufunc, method)(*inputs, **kwargs)\n",
      "/home/vislab/anaconda3/envs/cctv/lib/python3.7/site-packages/statsmodels/base/model.py:606: ConvergenceWarning: Maximum Likelihood optimization failed to converge. Check mle_retvals\n",
      "  ConvergenceWarning)\n"
     ]
    },
    {
     "name": "stdout",
     "output_type": "stream",
     "text": [
      "Predict Finish, 70.4344 70.4333 0.986 0.014 Evaluation Finish\n",
      "173: Data Load Finish, Predict Finish, 3.1954 3.1613 0.0442 0.9553 Evaluation Finish\n",
      "174: Data Load Finish, Predict Finish, 0.8993 0.7541 0.0105 0.9874 Evaluation Finish\n",
      "175: Data Load Finish, Predict Finish, 1.3135 1.192 0.0166 0.9816 Evaluation Finish\n",
      "176: Data Load Finish, "
     ]
    },
    {
     "name": "stderr",
     "output_type": "stream",
     "text": [
      "/home/vislab/anaconda3/envs/cctv/lib/python3.7/site-packages/statsmodels/base/model.py:606: ConvergenceWarning: Maximum Likelihood optimization failed to converge. Check mle_retvals\n",
      "  ConvergenceWarning)\n"
     ]
    },
    {
     "name": "stdout",
     "output_type": "stream",
     "text": [
      "Predict Finish, 7.7477 7.7212 0.108 0.8915 Evaluation Finish\n",
      "177: Data Load Finish, "
     ]
    },
    {
     "name": "stderr",
     "output_type": "stream",
     "text": [
      "/home/vislab/anaconda3/envs/cctv/lib/python3.7/site-packages/statsmodels/base/model.py:606: ConvergenceWarning: Maximum Likelihood optimization failed to converge. Check mle_retvals\n",
      "  ConvergenceWarning)\n"
     ]
    },
    {
     "name": "stdout",
     "output_type": "stream",
     "text": [
      "Predict Finish, 3.8825 3.8619 0.054 0.9457 Evaluation Finish\n",
      "178: Data Load Finish, Predict Finish, 3.1859 3.1411 0.0439 0.9554 Evaluation Finish\n",
      "179: Data Load Finish, Predict Finish, 3.0962 3.061 0.0428 0.9567 Evaluation Finish\n",
      "180: Data Load Finish, "
     ]
    },
    {
     "name": "stderr",
     "output_type": "stream",
     "text": [
      "/home/vislab/anaconda3/envs/cctv/lib/python3.7/site-packages/pandas/core/arraylike.py:364: RuntimeWarning: divide by zero encountered in log\n",
      "  result = getattr(ufunc, method)(*inputs, **kwargs)\n",
      "/home/vislab/anaconda3/envs/cctv/lib/python3.7/site-packages/statsmodels/base/model.py:606: ConvergenceWarning: Maximum Likelihood optimization failed to converge. Check mle_retvals\n",
      "  ConvergenceWarning)\n"
     ]
    },
    {
     "name": "stdout",
     "output_type": "stream",
     "text": [
      "Predict Finish, 70.4344 70.4333 0.986 0.014 Evaluation Finish\n",
      "181: Data Load Finish, "
     ]
    },
    {
     "name": "stderr",
     "output_type": "stream",
     "text": [
      "/home/vislab/anaconda3/envs/cctv/lib/python3.7/site-packages/pandas/core/arraylike.py:364: RuntimeWarning: divide by zero encountered in log\n",
      "  result = getattr(ufunc, method)(*inputs, **kwargs)\n",
      "/home/vislab/anaconda3/envs/cctv/lib/python3.7/site-packages/statsmodels/base/model.py:606: ConvergenceWarning: Maximum Likelihood optimization failed to converge. Check mle_retvals\n",
      "  ConvergenceWarning)\n"
     ]
    },
    {
     "name": "stdout",
     "output_type": "stream",
     "text": [
      "Predict Finish, 70.4344 70.4333 0.986 0.014 Evaluation Finish\n",
      "182: Data Load Finish, Predict Finish, 4.1537 4.1246 0.0577 0.9419 Evaluation Finish\n",
      "183: Data Load Finish, Predict Finish, 5.1824 5.1413 0.0719 0.9275 Evaluation Finish\n",
      "184: Data Load Finish, Predict Finish, 5.2371 5.2146 0.073 0.9267 Evaluation Finish\n",
      "185: Data Load Finish, Predict Finish, 4.3287 4.2893 0.06 0.9394 Evaluation Finish\n",
      "186: Data Load Finish, Predict Finish, 4.3068 4.2767 0.0598 0.9397 Evaluation Finish\n",
      "187: Data Load Finish, Predict Finish, 3.8293 3.7991 0.0531 0.9464 Evaluation Finish\n",
      "188: Data Load Finish, Predict Finish, 4.7949 4.7719 0.0668 0.9329 Evaluation Finish\n",
      "189: Data Load Finish, Predict Finish, 2.4156 2.3469 0.0328 0.9662 Evaluation Finish\n",
      "190: Data Load Finish, Predict Finish, 2.9315 2.8925 0.0405 0.959 Evaluation Finish\n",
      "191: Data Load Finish, Predict Finish, 4.0841 4.0535 0.0567 0.9428 Evaluation Finish\n",
      "192: Data Load Finish, Predict Finish, 4.7531 4.724 0.0661 0.9335 Evaluation Finish\n",
      "193: Data Load Finish, Predict Finish, 1.0813 0.9735 0.0136 0.9849 Evaluation Finish\n",
      "194: Data Load Finish, Predict Finish, 4.1941 4.1592 0.0582 0.9413 Evaluation Finish\n",
      "195: Data Load Finish, Predict Finish, 3.9379 3.9035 0.0546 0.9449 Evaluation Finish\n",
      "196: Data Load Finish, Predict Finish, 1.0569 0.917 0.0128 0.9852 Evaluation Finish\n",
      "197: Data Load Finish, Predict Finish, 5.0005 4.9781 0.0697 0.93 Evaluation Finish\n",
      "198: Data Load Finish, Predict Finish, 4.8821 4.8067 0.0672 0.9317 Evaluation Finish\n",
      "199: Data Load Finish, "
     ]
    },
    {
     "name": "stderr",
     "output_type": "stream",
     "text": [
      "/home/vislab/anaconda3/envs/cctv/lib/python3.7/site-packages/pandas/core/arraylike.py:364: RuntimeWarning: divide by zero encountered in log\n",
      "  result = getattr(ufunc, method)(*inputs, **kwargs)\n",
      "/home/vislab/anaconda3/envs/cctv/lib/python3.7/site-packages/statsmodels/base/model.py:606: ConvergenceWarning: Maximum Likelihood optimization failed to converge. Check mle_retvals\n",
      "  ConvergenceWarning)\n"
     ]
    },
    {
     "name": "stdout",
     "output_type": "stream",
     "text": [
      "Predict Finish, 70.4344 70.4333 0.986 0.014 Evaluation Finish\n",
      "200: Data Load Finish, "
     ]
    },
    {
     "name": "stderr",
     "output_type": "stream",
     "text": [
      "/home/vislab/anaconda3/envs/cctv/lib/python3.7/site-packages/pandas/core/arraylike.py:364: RuntimeWarning: divide by zero encountered in log\n",
      "  result = getattr(ufunc, method)(*inputs, **kwargs)\n",
      "/home/vislab/anaconda3/envs/cctv/lib/python3.7/site-packages/statsmodels/base/model.py:606: ConvergenceWarning: Maximum Likelihood optimization failed to converge. Check mle_retvals\n",
      "  ConvergenceWarning)\n"
     ]
    },
    {
     "name": "stdout",
     "output_type": "stream",
     "text": [
      "Predict Finish, 70.4344 70.4333 0.986 0.014 Evaluation Finish\n",
      "201: Data Load Finish, Predict Finish, 4.3563 4.3194 0.0604 0.939 Evaluation Finish\n",
      "202: Data Load Finish, "
     ]
    },
    {
     "name": "stderr",
     "output_type": "stream",
     "text": [
      "/home/vislab/anaconda3/envs/cctv/lib/python3.7/site-packages/statsmodels/base/model.py:606: ConvergenceWarning: Maximum Likelihood optimization failed to converge. Check mle_retvals\n",
      "  ConvergenceWarning)\n"
     ]
    },
    {
     "name": "stdout",
     "output_type": "stream",
     "text": [
      "Predict Finish, 7.5429 7.5272 0.1053 0.8944 Evaluation Finish\n",
      "203: Data Load Finish, Predict Finish, 7.2706 7.2533 0.1015 0.8982 Evaluation Finish\n",
      "204: Data Load Finish, Predict Finish, 8.0928 8.0811 0.1131 0.8867 Evaluation Finish\n",
      "205: Data Load Finish, Predict Finish, 7.492 7.4771 0.1046 0.8951 Evaluation Finish\n",
      "206: Data Load Finish, Predict Finish, 6.2366 6.2203 0.087 0.9127 Evaluation Finish\n",
      "207: Data Load Finish, Predict Finish, 3.2043 3.1385 0.0439 0.9551 Evaluation Finish\n",
      "208: Data Load Finish, "
     ]
    },
    {
     "name": "stderr",
     "output_type": "stream",
     "text": [
      "/home/vislab/anaconda3/envs/cctv/lib/python3.7/site-packages/pandas/core/arraylike.py:364: RuntimeWarning: divide by zero encountered in log\n",
      "  result = getattr(ufunc, method)(*inputs, **kwargs)\n",
      "/home/vislab/anaconda3/envs/cctv/lib/python3.7/site-packages/statsmodels/base/model.py:606: ConvergenceWarning: Maximum Likelihood optimization failed to converge. Check mle_retvals\n",
      "  ConvergenceWarning)\n"
     ]
    },
    {
     "name": "stdout",
     "output_type": "stream",
     "text": [
      "Predict Finish, 70.4344 70.4333 0.986 0.014 Evaluation Finish\n",
      "209: Data Load Finish, Predict Finish, 4.6528 4.6195 0.0646 0.9349 Evaluation Finish\n",
      "210: Data Load Finish, "
     ]
    },
    {
     "name": "stderr",
     "output_type": "stream",
     "text": [
      "/home/vislab/anaconda3/envs/cctv/lib/python3.7/site-packages/pandas/core/arraylike.py:364: RuntimeWarning: divide by zero encountered in log\n",
      "  result = getattr(ufunc, method)(*inputs, **kwargs)\n",
      "/home/vislab/anaconda3/envs/cctv/lib/python3.7/site-packages/statsmodels/base/model.py:606: ConvergenceWarning: Maximum Likelihood optimization failed to converge. Check mle_retvals\n",
      "  ConvergenceWarning)\n"
     ]
    },
    {
     "name": "stdout",
     "output_type": "stream",
     "text": [
      "Predict Finish, 70.4344 70.4333 0.986 0.014 Evaluation Finish\n",
      "211: Data Load Finish, Predict Finish, 8.0601 8.0504 0.1127 0.8872 Evaluation Finish\n",
      "212: Data Load Finish, "
     ]
    },
    {
     "name": "stderr",
     "output_type": "stream",
     "text": [
      "/home/vislab/anaconda3/envs/cctv/lib/python3.7/site-packages/pandas/core/arraylike.py:364: RuntimeWarning: divide by zero encountered in log\n",
      "  result = getattr(ufunc, method)(*inputs, **kwargs)\n",
      "/home/vislab/anaconda3/envs/cctv/lib/python3.7/site-packages/statsmodels/base/model.py:606: ConvergenceWarning: Maximum Likelihood optimization failed to converge. Check mle_retvals\n",
      "  ConvergenceWarning)\n"
     ]
    },
    {
     "name": "stdout",
     "output_type": "stream",
     "text": [
      "Predict Finish, 70.4344 70.4333 0.986 0.014 Evaluation Finish\n",
      "213: Data Load Finish, Predict Finish, 7.0266 7.016 0.0982 0.9016 Evaluation Finish\n",
      "214: Data Load Finish, Predict Finish, 7.0904 7.0747 0.099 0.9007 Evaluation Finish\n",
      "215: Data Load Finish, Predict Finish, 8.0093 7.9952 0.1119 0.8879 Evaluation Finish\n",
      "216: Data Load Finish, Predict Finish, 5.0283 5.0052 0.07 0.9296 Evaluation Finish\n",
      "217: Data Load Finish, Predict Finish, 4.9923 4.9701 0.0695 0.9301 Evaluation Finish\n",
      "218: Data Load Finish, Predict Finish, 7.549 7.5371 0.1055 0.8943 Evaluation Finish\n",
      "219: Data Load Finish, Predict Finish, 6.4336 6.4178 0.0898 0.9099 Evaluation Finish\n",
      "220: Data Load Finish, Predict Finish, 4.8793 4.8602 0.068 0.9317 Evaluation Finish\n",
      "221: Data Load Finish, Predict Finish, 7.2293 7.2153 0.101 0.8988 Evaluation Finish\n",
      "222: Data Load Finish, Predict Finish, 7.2013 7.1898 0.1006 0.8992 Evaluation Finish\n",
      "223: Data Load Finish, "
     ]
    },
    {
     "name": "stderr",
     "output_type": "stream",
     "text": [
      "/home/vislab/anaconda3/envs/cctv/lib/python3.7/site-packages/statsmodels/base/model.py:606: ConvergenceWarning: Maximum Likelihood optimization failed to converge. Check mle_retvals\n",
      "  ConvergenceWarning)\n"
     ]
    },
    {
     "name": "stdout",
     "output_type": "stream",
     "text": [
      "Predict Finish, 6.6589 6.643 0.093 0.9068 Evaluation Finish\n",
      "224: Data Load Finish, "
     ]
    },
    {
     "name": "stderr",
     "output_type": "stream",
     "text": [
      "/home/vislab/anaconda3/envs/cctv/lib/python3.7/site-packages/statsmodels/base/model.py:606: ConvergenceWarning: Maximum Likelihood optimization failed to converge. Check mle_retvals\n",
      "  ConvergenceWarning)\n"
     ]
    },
    {
     "name": "stdout",
     "output_type": "stream",
     "text": [
      "Predict Finish, 6.218 6.1967 0.0867 0.913 Evaluation Finish\n",
      "225: Data Load Finish, Predict Finish, 6.7709 6.755 0.0945 0.9052 Evaluation Finish\n",
      "226: Data Load Finish, Predict Finish, 5.2145 5.1855 0.0726 0.927 Evaluation Finish\n",
      "227: Data Load Finish, Predict Finish, 5.6222 5.5949 0.0783 0.9213 Evaluation Finish\n",
      "228: Data Load Finish, Predict Finish, 3.7276 3.6975 0.0517 0.9478 Evaluation Finish\n",
      "229: Data Load Finish, Predict Finish, 5.3676 5.3446 0.0748 0.9249 Evaluation Finish\n",
      "230: Data Load Finish, Predict Finish, 2.9381 2.899 0.0405 0.9589 Evaluation Finish\n",
      "231: Data Load Finish, "
     ]
    },
    {
     "name": "stderr",
     "output_type": "stream",
     "text": [
      "/home/vislab/anaconda3/envs/cctv/lib/python3.7/site-packages/pandas/core/arraylike.py:364: RuntimeWarning: divide by zero encountered in log\n",
      "  result = getattr(ufunc, method)(*inputs, **kwargs)\n",
      "/home/vislab/anaconda3/envs/cctv/lib/python3.7/site-packages/statsmodels/base/model.py:606: ConvergenceWarning: Maximum Likelihood optimization failed to converge. Check mle_retvals\n",
      "  ConvergenceWarning)\n"
     ]
    },
    {
     "name": "stdout",
     "output_type": "stream",
     "text": [
      "Predict Finish, 70.4344 70.4333 0.986 0.014 Evaluation Finish\n",
      "232: Data Load Finish, Predict Finish, 2.0547 1.9892 0.0278 0.9712 Evaluation Finish\n",
      "233: Data Load Finish, Predict Finish, 0.8734 0.7799 0.0109 0.9878 Evaluation Finish\n",
      "234: Data Load Finish, Predict Finish, 3.1714 3.0251 0.0423 0.9556 Evaluation Finish\n",
      "235: Data Load Finish, Predict Finish, 3.601 3.5599 0.0498 0.9496 Evaluation Finish\n",
      "236: Data Load Finish, Predict Finish, 3.6449 3.6125 0.0505 0.949 Evaluation Finish\n",
      "237: Data Load Finish, Predict Finish, 3.0812 3.0418 0.0425 0.9569 Evaluation Finish\n",
      "238: Data Load Finish, Predict Finish, 7.637 7.6255 0.1067 0.8931 Evaluation Finish\n",
      "239: Data Load Finish, Predict Finish, 5.6313 5.6135 0.0786 0.9212 Evaluation Finish\n",
      "240: Data Load Finish, Predict Finish, 6.6795 6.6655 0.0933 0.9065 Evaluation Finish\n",
      "241: Data Load Finish, Predict Finish, 9.0688 9.0569 0.1268 0.873 Evaluation Finish\n",
      "242: Data Load Finish, Predict Finish, 3.551 3.5261 0.0493 0.9503 Evaluation Finish\n",
      "243: Data Load Finish, Predict Finish, 5.509 5.4735 0.0766 0.9229 Evaluation Finish\n",
      "244: Data Load Finish, Predict Finish, 4.6964 4.669 0.0653 0.9343 Evaluation Finish\n",
      "245: Data Load Finish, Predict Finish, 4.052 4.0187 0.0562 0.9433 Evaluation Finish\n",
      "246: Data Load Finish, Predict Finish, 6.3367 6.3207 0.0885 0.9113 Evaluation Finish\n",
      "247: Data Load Finish, "
     ]
    },
    {
     "name": "stderr",
     "output_type": "stream",
     "text": [
      "/home/vislab/anaconda3/envs/cctv/lib/python3.7/site-packages/pandas/core/arraylike.py:364: RuntimeWarning: divide by zero encountered in log\n",
      "  result = getattr(ufunc, method)(*inputs, **kwargs)\n",
      "/home/vislab/anaconda3/envs/cctv/lib/python3.7/site-packages/statsmodels/base/model.py:606: ConvergenceWarning: Maximum Likelihood optimization failed to converge. Check mle_retvals\n",
      "  ConvergenceWarning)\n"
     ]
    },
    {
     "name": "stdout",
     "output_type": "stream",
     "text": [
      "Predict Finish, 70.4344 70.4333 0.986 0.014 Evaluation Finish\n",
      "248: Data Load Finish, "
     ]
    },
    {
     "name": "stderr",
     "output_type": "stream",
     "text": [
      "/home/vislab/anaconda3/envs/cctv/lib/python3.7/site-packages/pandas/core/arraylike.py:364: RuntimeWarning: divide by zero encountered in log\n",
      "  result = getattr(ufunc, method)(*inputs, **kwargs)\n",
      "/home/vislab/anaconda3/envs/cctv/lib/python3.7/site-packages/statsmodels/base/model.py:606: ConvergenceWarning: Maximum Likelihood optimization failed to converge. Check mle_retvals\n",
      "  ConvergenceWarning)\n"
     ]
    },
    {
     "name": "stdout",
     "output_type": "stream",
     "text": [
      "Predict Finish, 70.4344 70.4333 0.986 0.014 Evaluation Finish\n",
      "249: Data Load Finish, "
     ]
    },
    {
     "name": "stderr",
     "output_type": "stream",
     "text": [
      "/home/vislab/anaconda3/envs/cctv/lib/python3.7/site-packages/pandas/core/arraylike.py:364: RuntimeWarning: divide by zero encountered in log\n",
      "  result = getattr(ufunc, method)(*inputs, **kwargs)\n",
      "/home/vislab/anaconda3/envs/cctv/lib/python3.7/site-packages/statsmodels/base/model.py:606: ConvergenceWarning: Maximum Likelihood optimization failed to converge. Check mle_retvals\n",
      "  ConvergenceWarning)\n"
     ]
    },
    {
     "name": "stdout",
     "output_type": "stream",
     "text": [
      "Predict Finish, 70.4344 70.4333 0.986 0.014 Evaluation Finish\n",
      "250: Data Load Finish, Predict Finish, 2.1564 2.0643 0.0289 0.9698 Evaluation Finish\n",
      "251: Data Load Finish, Predict Finish, 6.5161 6.4957 0.0909 0.9088 Evaluation Finish\n",
      "252: Data Load Finish, "
     ]
    },
    {
     "name": "stderr",
     "output_type": "stream",
     "text": [
      "/home/vislab/anaconda3/envs/cctv/lib/python3.7/site-packages/pandas/core/arraylike.py:364: RuntimeWarning: divide by zero encountered in log\n",
      "  result = getattr(ufunc, method)(*inputs, **kwargs)\n",
      "/home/vislab/anaconda3/envs/cctv/lib/python3.7/site-packages/statsmodels/base/model.py:606: ConvergenceWarning: Maximum Likelihood optimization failed to converge. Check mle_retvals\n",
      "  ConvergenceWarning)\n"
     ]
    },
    {
     "name": "stdout",
     "output_type": "stream",
     "text": [
      "Predict Finish, 70.4344 70.4333 0.986 0.014 Evaluation Finish\n",
      "253: Data Load Finish, "
     ]
    },
    {
     "name": "stderr",
     "output_type": "stream",
     "text": [
      "/home/vislab/anaconda3/envs/cctv/lib/python3.7/site-packages/pandas/core/arraylike.py:364: RuntimeWarning: divide by zero encountered in log\n",
      "  result = getattr(ufunc, method)(*inputs, **kwargs)\n",
      "/home/vislab/anaconda3/envs/cctv/lib/python3.7/site-packages/statsmodels/base/model.py:606: ConvergenceWarning: Maximum Likelihood optimization failed to converge. Check mle_retvals\n",
      "  ConvergenceWarning)\n"
     ]
    },
    {
     "name": "stdout",
     "output_type": "stream",
     "text": [
      "Predict Finish, 70.4344 70.4333 0.986 0.014 Evaluation Finish\n",
      "254: Data Load Finish, "
     ]
    },
    {
     "name": "stderr",
     "output_type": "stream",
     "text": [
      "/home/vislab/anaconda3/envs/cctv/lib/python3.7/site-packages/pandas/core/arraylike.py:364: RuntimeWarning: divide by zero encountered in log\n",
      "  result = getattr(ufunc, method)(*inputs, **kwargs)\n",
      "/home/vislab/anaconda3/envs/cctv/lib/python3.7/site-packages/statsmodels/base/model.py:606: ConvergenceWarning: Maximum Likelihood optimization failed to converge. Check mle_retvals\n",
      "  ConvergenceWarning)\n"
     ]
    },
    {
     "name": "stdout",
     "output_type": "stream",
     "text": [
      "Predict Finish, 70.4344 70.4333 0.986 0.014 Evaluation Finish\n",
      "255: Data Load Finish, "
     ]
    },
    {
     "name": "stderr",
     "output_type": "stream",
     "text": [
      "/home/vislab/anaconda3/envs/cctv/lib/python3.7/site-packages/pandas/core/arraylike.py:364: RuntimeWarning: divide by zero encountered in log\n",
      "  result = getattr(ufunc, method)(*inputs, **kwargs)\n",
      "/home/vislab/anaconda3/envs/cctv/lib/python3.7/site-packages/statsmodels/base/model.py:606: ConvergenceWarning: Maximum Likelihood optimization failed to converge. Check mle_retvals\n",
      "  ConvergenceWarning)\n"
     ]
    },
    {
     "name": "stdout",
     "output_type": "stream",
     "text": [
      "Predict Finish, 70.4344 70.4333 0.986 0.014 Evaluation Finish\n",
      "256: Data Load Finish, Predict Finish, 4.6736 4.643 0.065 0.9346 Evaluation Finish\n",
      "257: Data Load Finish, Predict Finish, 1.4891 1.3964 0.0195 0.9792 Evaluation Finish\n",
      "258: Data Load Finish, Predict Finish, 5.5829 5.5685 0.0779 0.9218 Evaluation Finish\n",
      "259: Data Load Finish, Predict Finish, 5.8286 5.8159 0.0814 0.9184 Evaluation Finish\n",
      "260: Data Load Finish, Predict Finish, 4.8146 4.7996 0.0672 0.9326 Evaluation Finish\n",
      "261: Data Load Finish, "
     ]
    },
    {
     "name": "stderr",
     "output_type": "stream",
     "text": [
      "/home/vislab/anaconda3/envs/cctv/lib/python3.7/site-packages/pandas/core/arraylike.py:364: RuntimeWarning: divide by zero encountered in log\n",
      "  result = getattr(ufunc, method)(*inputs, **kwargs)\n",
      "/home/vislab/anaconda3/envs/cctv/lib/python3.7/site-packages/statsmodels/base/model.py:606: ConvergenceWarning: Maximum Likelihood optimization failed to converge. Check mle_retvals\n",
      "  ConvergenceWarning)\n"
     ]
    },
    {
     "name": "stdout",
     "output_type": "stream",
     "text": [
      "Predict Finish, 70.4344 70.4333 0.986 0.014 Evaluation Finish\n",
      "262: Data Load Finish, Predict Finish, 3.9512 3.9253 0.0549 0.9447 Evaluation Finish\n",
      "263: Data Load Finish, "
     ]
    },
    {
     "name": "stderr",
     "output_type": "stream",
     "text": [
      "/home/vislab/anaconda3/envs/cctv/lib/python3.7/site-packages/pandas/core/arraylike.py:364: RuntimeWarning: divide by zero encountered in log\n",
      "  result = getattr(ufunc, method)(*inputs, **kwargs)\n",
      "/home/vislab/anaconda3/envs/cctv/lib/python3.7/site-packages/statsmodels/base/model.py:606: ConvergenceWarning: Maximum Likelihood optimization failed to converge. Check mle_retvals\n",
      "  ConvergenceWarning)\n"
     ]
    },
    {
     "name": "stdout",
     "output_type": "stream",
     "text": [
      "Predict Finish, 70.4344 70.4333 0.986 0.014 Evaluation Finish\n",
      "264: Data Load Finish, "
     ]
    },
    {
     "name": "stderr",
     "output_type": "stream",
     "text": [
      "/home/vislab/anaconda3/envs/cctv/lib/python3.7/site-packages/pandas/core/arraylike.py:364: RuntimeWarning: divide by zero encountered in log\n",
      "  result = getattr(ufunc, method)(*inputs, **kwargs)\n",
      "/home/vislab/anaconda3/envs/cctv/lib/python3.7/site-packages/statsmodels/base/model.py:606: ConvergenceWarning: Maximum Likelihood optimization failed to converge. Check mle_retvals\n",
      "  ConvergenceWarning)\n"
     ]
    },
    {
     "name": "stdout",
     "output_type": "stream",
     "text": [
      "Predict Finish, 70.4344 70.4333 0.986 0.014 Evaluation Finish\n",
      "265: Data Load Finish, Predict Finish, 4.4154 4.3897 0.0614 0.9382 Evaluation Finish\n",
      "266: Data Load Finish, "
     ]
    },
    {
     "name": "stderr",
     "output_type": "stream",
     "text": [
      "/home/vislab/anaconda3/envs/cctv/lib/python3.7/site-packages/pandas/core/arraylike.py:364: RuntimeWarning: divide by zero encountered in log\n",
      "  result = getattr(ufunc, method)(*inputs, **kwargs)\n",
      "/home/vislab/anaconda3/envs/cctv/lib/python3.7/site-packages/statsmodels/base/model.py:606: ConvergenceWarning: Maximum Likelihood optimization failed to converge. Check mle_retvals\n",
      "  ConvergenceWarning)\n"
     ]
    },
    {
     "name": "stdout",
     "output_type": "stream",
     "text": [
      "Predict Finish, 70.4344 70.4333 0.986 0.014 Evaluation Finish\n",
      "267: Data Load Finish, Predict Finish, 3.4192 3.3864 0.0474 0.9521 Evaluation Finish\n",
      "268: Data Load Finish, "
     ]
    },
    {
     "name": "stderr",
     "output_type": "stream",
     "text": [
      "/home/vislab/anaconda3/envs/cctv/lib/python3.7/site-packages/pandas/core/arraylike.py:364: RuntimeWarning: divide by zero encountered in log\n",
      "  result = getattr(ufunc, method)(*inputs, **kwargs)\n",
      "/home/vislab/anaconda3/envs/cctv/lib/python3.7/site-packages/statsmodels/base/model.py:606: ConvergenceWarning: Maximum Likelihood optimization failed to converge. Check mle_retvals\n",
      "  ConvergenceWarning)\n"
     ]
    },
    {
     "name": "stdout",
     "output_type": "stream",
     "text": [
      "Predict Finish, 70.4344 70.4333 0.986 0.014 Evaluation Finish\n",
      "269: Data Load Finish, "
     ]
    },
    {
     "name": "stderr",
     "output_type": "stream",
     "text": [
      "/home/vislab/anaconda3/envs/cctv/lib/python3.7/site-packages/pandas/core/arraylike.py:364: RuntimeWarning: divide by zero encountered in log\n",
      "  result = getattr(ufunc, method)(*inputs, **kwargs)\n",
      "/home/vislab/anaconda3/envs/cctv/lib/python3.7/site-packages/statsmodels/base/model.py:606: ConvergenceWarning: Maximum Likelihood optimization failed to converge. Check mle_retvals\n",
      "  ConvergenceWarning)\n"
     ]
    },
    {
     "name": "stdout",
     "output_type": "stream",
     "text": [
      "Predict Finish, 70.4344 70.4333 0.986 0.014 Evaluation Finish\n",
      "270: Data Load Finish, Predict Finish, 5.5516 5.5299 0.0774 0.9223 Evaluation Finish\n",
      "271: Data Load Finish, Predict Finish, 4.9111 4.8881 0.0684 0.9313 Evaluation Finish\n",
      "272: Data Load Finish, Predict Finish, 3.3186 3.2616 0.0456 0.9535 Evaluation Finish\n",
      "273: Data Load Finish, "
     ]
    },
    {
     "name": "stderr",
     "output_type": "stream",
     "text": [
      "/home/vislab/anaconda3/envs/cctv/lib/python3.7/site-packages/statsmodels/base/model.py:606: ConvergenceWarning: Maximum Likelihood optimization failed to converge. Check mle_retvals\n",
      "  ConvergenceWarning)\n"
     ]
    },
    {
     "name": "stdout",
     "output_type": "stream",
     "text": [
      "Predict Finish, 6.7983 6.7819 0.0949 0.9048 Evaluation Finish\n",
      "274: Data Load Finish, Predict Finish, 4.0404 3.9962 0.0559 0.9434 Evaluation Finish\n",
      "275: Data Load Finish, Predict Finish, 4.9159 4.8651 0.0681 0.9312 Evaluation Finish\n",
      "276: Data Load Finish, Predict Finish, 3.7376 3.7013 0.0518 0.9477 Evaluation Finish\n",
      "277: Data Load Finish, Predict Finish, 4.2129 4.1772 0.0584 0.941 Evaluation Finish\n",
      "278: Data Load Finish, Predict Finish, 7.2475 7.2331 0.1012 0.8985 Evaluation Finish\n",
      "279: Data Load Finish, Predict Finish, 3.7843 3.7405 0.0523 0.947 Evaluation Finish\n",
      "280: Data Load Finish, Predict Finish, 4.3531 4.3214 0.0605 0.9391 Evaluation Finish\n",
      "281: Data Load Finish, Predict Finish, 2.4795 2.4227 0.0339 0.9653 Evaluation Finish\n",
      "282: Data Load Finish, Predict Finish, 4.5582 4.5233 0.0633 0.9362 Evaluation Finish\n",
      "283: Data Load Finish, Predict Finish, 9.8978 9.8881 0.1384 0.8614 Evaluation Finish\n",
      "284: Data Load Finish, "
     ]
    },
    {
     "name": "stderr",
     "output_type": "stream",
     "text": [
      "/home/vislab/anaconda3/envs/cctv/lib/python3.7/site-packages/pandas/core/arraylike.py:364: RuntimeWarning: divide by zero encountered in log\n",
      "  result = getattr(ufunc, method)(*inputs, **kwargs)\n",
      "/home/vislab/anaconda3/envs/cctv/lib/python3.7/site-packages/statsmodels/base/model.py:606: ConvergenceWarning: Maximum Likelihood optimization failed to converge. Check mle_retvals\n",
      "  ConvergenceWarning)\n"
     ]
    },
    {
     "name": "stdout",
     "output_type": "stream",
     "text": [
      "Predict Finish, 70.4344 70.4333 0.986 0.014 Evaluation Finish\n",
      "285: Data Load Finish, Predict Finish, 3.2103 3.1576 0.0442 0.9551 Evaluation Finish\n",
      "286: Data Load Finish, Predict Finish, 4.2808 4.2516 0.0595 0.9401 Evaluation Finish\n",
      "287: Data Load Finish, Predict Finish, 4.1168 4.0602 0.0568 0.9424 Evaluation Finish\n",
      "288: Data Load Finish, Predict Finish, 3.9261 3.8968 0.0545 0.945 Evaluation Finish\n",
      "289: Data Load Finish, Predict Finish, 5.01 4.9838 0.0697 0.9299 Evaluation Finish\n",
      "290: Data Load Finish, Predict Finish, 4.382 4.3533 0.0609 0.9387 Evaluation Finish\n",
      "291: Data Load Finish, Predict Finish, 7.7978 7.7839 0.1089 0.8908 Evaluation Finish\n",
      "292: Data Load Finish, Predict Finish, 6.6816 6.4019 0.0895 0.9065 Evaluation Finish\n",
      "293: Data Load Finish, Predict Finish, 7.1656 7.0742 0.099 0.8997 Evaluation Finish\n",
      "294: Data Load Finish, Predict Finish, 4.127 4.0946 0.0573 0.9422 Evaluation Finish\n",
      "295: Data Load Finish, Predict Finish, 7.8881 7.8603 0.11 0.8896 Evaluation Finish\n",
      "296: Data Load Finish, "
     ]
    },
    {
     "name": "stderr",
     "output_type": "stream",
     "text": [
      "/home/vislab/anaconda3/envs/cctv/lib/python3.7/site-packages/pandas/core/arraylike.py:364: RuntimeWarning: divide by zero encountered in log\n",
      "  result = getattr(ufunc, method)(*inputs, **kwargs)\n",
      "/home/vislab/anaconda3/envs/cctv/lib/python3.7/site-packages/statsmodels/base/model.py:606: ConvergenceWarning: Maximum Likelihood optimization failed to converge. Check mle_retvals\n",
      "  ConvergenceWarning)\n"
     ]
    },
    {
     "name": "stdout",
     "output_type": "stream",
     "text": [
      "Predict Finish, 70.4344 70.4333 0.986 0.014 Evaluation Finish\n",
      "297: Data Load Finish, Predict Finish, 3.9825 3.951 0.0553 0.9442 Evaluation Finish\n",
      "298: Data Load Finish, Predict Finish, 3.3723 3.3361 0.0467 0.9528 Evaluation Finish\n",
      "299: Data Load Finish, Predict Finish, 3.8713 3.8346 0.0536 0.9458 Evaluation Finish\n",
      "300: Data Load Finish, Predict Finish, 3.23 3.1691 0.0443 0.9548 Evaluation Finish\n",
      "301: Data Load Finish, Predict Finish, 7.0718 7.0542 0.0987 0.901 Evaluation Finish\n",
      "302: Data Load Finish, Predict Finish, 4.4388 4.393 0.0615 0.9379 Evaluation Finish\n",
      "303: Data Load Finish, Predict Finish, 5.1171 5.0783 0.071 0.9284 Evaluation Finish\n",
      "304: Data Load Finish, Predict Finish, 4.8695 4.8211 0.0674 0.9318 Evaluation Finish\n",
      "305: Data Load Finish, Predict Finish, 9.7901 9.7788 0.1369 0.8629 Evaluation Finish\n",
      "306: Data Load Finish, Predict Finish, 3.2866 3.2488 0.0454 0.954 Evaluation Finish\n",
      "307: Data Load Finish, Predict Finish, 4.752 4.7136 0.0659 0.9335 Evaluation Finish\n",
      "308: Data Load Finish, Predict Finish, 9.0357 8.9773 0.1256 0.8735 Evaluation Finish\n",
      "309: Data Load Finish, Predict Finish, 3.3254 3.2911 0.046 0.9534 Evaluation Finish\n",
      "310: Data Load Finish, Predict Finish, 6.3594 6.337 0.0887 0.911 Evaluation Finish\n",
      "311: Data Load Finish, "
     ]
    },
    {
     "name": "stderr",
     "output_type": "stream",
     "text": [
      "/home/vislab/anaconda3/envs/cctv/lib/python3.7/site-packages/pandas/core/arraylike.py:364: RuntimeWarning: divide by zero encountered in log\n",
      "  result = getattr(ufunc, method)(*inputs, **kwargs)\n",
      "/home/vislab/anaconda3/envs/cctv/lib/python3.7/site-packages/statsmodels/base/model.py:606: ConvergenceWarning: Maximum Likelihood optimization failed to converge. Check mle_retvals\n",
      "  ConvergenceWarning)\n"
     ]
    },
    {
     "name": "stdout",
     "output_type": "stream",
     "text": [
      "Predict Finish, 70.4344 70.4333 0.986 0.014 Evaluation Finish\n",
      "312: Data Load Finish, Predict Finish, 3.8022 3.7687 0.0527 0.9468 Evaluation Finish\n",
      "313: Data Load Finish, Predict Finish, 5.9115 5.8824 0.0823 0.9172 Evaluation Finish\n",
      "314: Data Load Finish, Predict Finish, 3.8193 3.7803 0.0529 0.9465 Evaluation Finish\n",
      "315: Data Load Finish, Predict Finish, 5.5133 5.498 0.0769 0.9228 Evaluation Finish\n",
      "316: Data Load Finish, Predict Finish, 3.9597 3.9246 0.0549 0.9446 Evaluation Finish\n",
      "317: Data Load Finish, "
     ]
    },
    {
     "name": "stderr",
     "output_type": "stream",
     "text": [
      "/home/vislab/anaconda3/envs/cctv/lib/python3.7/site-packages/pandas/core/arraylike.py:364: RuntimeWarning: divide by zero encountered in log\n",
      "  result = getattr(ufunc, method)(*inputs, **kwargs)\n",
      "/home/vislab/anaconda3/envs/cctv/lib/python3.7/site-packages/statsmodels/base/model.py:606: ConvergenceWarning: Maximum Likelihood optimization failed to converge. Check mle_retvals\n",
      "  ConvergenceWarning)\n"
     ]
    },
    {
     "name": "stdout",
     "output_type": "stream",
     "text": [
      "Predict Finish, 70.4344 70.4333 0.986 0.014 Evaluation Finish\n",
      "318: Data Load Finish, Predict Finish, 11.0395 11.0326 0.1544 0.8455 Evaluation Finish\n",
      "319: Data Load Finish, "
     ]
    },
    {
     "name": "stderr",
     "output_type": "stream",
     "text": [
      "/home/vislab/anaconda3/envs/cctv/lib/python3.7/site-packages/pandas/core/arraylike.py:364: RuntimeWarning: divide by zero encountered in log\n",
      "  result = getattr(ufunc, method)(*inputs, **kwargs)\n",
      "/home/vislab/anaconda3/envs/cctv/lib/python3.7/site-packages/statsmodels/base/model.py:606: ConvergenceWarning: Maximum Likelihood optimization failed to converge. Check mle_retvals\n",
      "  ConvergenceWarning)\n"
     ]
    },
    {
     "name": "stdout",
     "output_type": "stream",
     "text": [
      "Predict Finish, 70.4344 70.4333 0.986 0.014 Evaluation Finish\n",
      "320: Data Load Finish, Predict Finish, 8.4725 8.4576 0.1184 0.8814 Evaluation Finish\n",
      "321: Data Load Finish, Predict Finish, 1.8024 1.7344 0.0242 0.9748 Evaluation Finish\n",
      "322: Data Load Finish, Predict Finish, 3.4445 3.4054 0.0476 0.9518 Evaluation Finish\n",
      "323: Data Load Finish, Predict Finish, 0.7689 0.6058 0.0084 0.9892 Evaluation Finish\n",
      "324: Data Load Finish, "
     ]
    },
    {
     "name": "stderr",
     "output_type": "stream",
     "text": [
      "/home/vislab/anaconda3/envs/cctv/lib/python3.7/site-packages/pandas/core/arraylike.py:364: RuntimeWarning: divide by zero encountered in log\n",
      "  result = getattr(ufunc, method)(*inputs, **kwargs)\n",
      "/home/vislab/anaconda3/envs/cctv/lib/python3.7/site-packages/statsmodels/base/model.py:606: ConvergenceWarning: Maximum Likelihood optimization failed to converge. Check mle_retvals\n",
      "  ConvergenceWarning)\n"
     ]
    },
    {
     "name": "stdout",
     "output_type": "stream",
     "text": [
      "Predict Finish, 70.4344 70.4333 0.986 0.014 Evaluation Finish\n",
      "RMSE: 18.12387887031757, MAE: 18.09281567578009, MAPE: 0.2532543804060142\n",
      "ACC: 0.7462863946185664\n"
     ]
    }
   ],
   "source": [
    "predictARIMA(df, idx, 6)"
   ]
  }
 ],
 "metadata": {
  "kernelspec": {
   "display_name": "cctv",
   "language": "python",
   "name": "cctv"
  },
  "language_info": {
   "codemirror_mode": {
    "name": "ipython",
    "version": 3
   },
   "file_extension": ".py",
   "mimetype": "text/x-python",
   "name": "python",
   "nbconvert_exporter": "python",
   "pygments_lexer": "ipython3",
   "version": "3.7.13"
  }
 },
 "nbformat": 4,
 "nbformat_minor": 5
}
