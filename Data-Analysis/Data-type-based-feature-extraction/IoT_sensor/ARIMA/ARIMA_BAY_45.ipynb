{
 "cells": [
  {
   "cell_type": "code",
   "execution_count": 1,
   "id": "7d67ccae",
   "metadata": {},
   "outputs": [],
   "source": [
    "import math\n",
    "import pandas as pd\n",
    "import numpy as np\n",
    "import numpy.linalg as la\n",
    "\n",
    "from sklearn.metrics import mean_squared_error, mean_absolute_error, mean_absolute_percentage_error\n",
    "from statsmodels.tsa.arima.model import ARIMA"
   ]
  },
  {
   "cell_type": "code",
   "execution_count": 2,
   "id": "029079c8",
   "metadata": {},
   "outputs": [],
   "source": [
    "def csvIndexToDatetime(path, start, freq):\n",
    "    df = pd.read_csv(path)\n",
    "    df = df.drop(columns=['Unnamed: 0'])\n",
    "    time_len = df.shape[0]\n",
    "    num_nodes = df.shape[1]\n",
    "    print(time_len, num_nodes)\n",
    "    rng = pd.date_range(start, periods=time_len, freq=freq)\n",
    "    idx = pd.DatetimeIndex(rng)\n",
    "    df.index = idx\n",
    "    return df, idx"
   ]
  },
  {
   "cell_type": "code",
   "execution_count": 3,
   "id": "91f72990",
   "metadata": {},
   "outputs": [],
   "source": [
    "def evaluation(a,b):\n",
    "    rmse = math.sqrt(mean_squared_error(a,b))\n",
    "    mae = mean_absolute_error(a, b)\n",
    "    mape = mean_absolute_percentage_error(a, b)\n",
    "    F_norm = la.norm(a-b)/la.norm(a)\n",
    "    return rmse, mae, mape, 1-F_norm"
   ]
  },
  {
   "cell_type": "code",
   "execution_count": 4,
   "id": "629b9843",
   "metadata": {},
   "outputs": [],
   "source": [
    "def predictARIMA(df, idx, timelag):\n",
    "    rmse, mae, mape, acc =  [], [], [], []\n",
    "    \n",
    "    for i in range(df.shape[1]):\n",
    "        print(i, end = ': ')\n",
    "        ts = df.iloc[:-timelag, i]\n",
    "        ts_log = np.log(ts)\n",
    "        ts_log = np.array(ts_log, dtype=np.float64)\n",
    "        where_are_inf = np.isinf(ts_log)\n",
    "        ts_log[where_are_inf] = 0\n",
    "        ts_log = pd.Series(ts_log)\n",
    "        ts_log.index = idx[:-timelag]\n",
    "        print('Data Load Finish', end = ', ')\n",
    "        \n",
    "        model = ARIMA(ts_log, order=[1,0,0])\n",
    "        properModel = model.fit()\n",
    "        predict_ts = properModel.forecast(steps=timelag)\n",
    "        log_recover = np.exp(predict_ts)\n",
    "        testX = org_df.iloc[-timelag:, 0]\n",
    "        print('Predict Finish', end = ', ')\n",
    "        \n",
    "        er_rmse, er_mae, er_mape, er_acc = evaluation(testX, log_recover)\n",
    "        print(round(er_rmse,4), round(er_mae,4), round(er_mape,4), round(er_acc,4), end = ' ')\n",
    "        \n",
    "        rmse.append(er_rmse)\n",
    "        mae.append(er_mae)\n",
    "        mape.append(er_mape)\n",
    "        acc.append(er_acc)\n",
    "        print('Evaluation Finish')\n",
    "        \n",
    "    acc = np.mat(acc)\n",
    "    acc[acc<0] = 0\n",
    "    print('RMSE: ' + str(np.mean(rmse)) + ', MAE: ' + str(np.mean(mae)) + ', MAPE: ' + str(np.mean(mape))  + '\\n'\n",
    "          + 'ACC: ' + str(np.mean(acc)))"
   ]
  },
  {
   "cell_type": "code",
   "execution_count": 5,
   "id": "e171bd77",
   "metadata": {
    "scrolled": true
   },
   "outputs": [],
   "source": [
    "path_0 = 'data/PEMS-BAY/speed_bay_0.csv'\n",
    "path_5 = 'data/PEMS-BAY/speed_bay_5.csv'\n",
    "path_10 = 'data/PEMS-BAY/speed_bay_10.csv'\n",
    "path_20 = 'data/PEMS-BAY/speed_bay_20.csv'"
   ]
  },
  {
   "cell_type": "code",
   "execution_count": 6,
   "id": "ee4dc616",
   "metadata": {},
   "outputs": [],
   "source": [
    "start = '1/1/2017'\n",
    "freq = '5min'"
   ]
  },
  {
   "cell_type": "code",
   "execution_count": 7,
   "id": "8a02480a",
   "metadata": {},
   "outputs": [
    {
     "name": "stdout",
     "output_type": "stream",
     "text": [
      "52116 325\n"
     ]
    }
   ],
   "source": [
    "org_path = 'data/PEMS-BAY/speed_bay_0.csv'\n",
    "org_df, org_idx = csvIndexToDatetime(org_path, start, freq)"
   ]
  },
  {
   "cell_type": "markdown",
   "id": "14a7524f",
   "metadata": {},
   "source": [
    "### Unobserved Nodes = 0%"
   ]
  },
  {
   "cell_type": "code",
   "execution_count": 8,
   "id": "9eaf61b7",
   "metadata": {},
   "outputs": [
    {
     "name": "stdout",
     "output_type": "stream",
     "text": [
      "52116 325\n"
     ]
    },
    {
     "data": {
      "text/plain": [
       "0"
      ]
     },
     "execution_count": 8,
     "metadata": {},
     "output_type": "execute_result"
    }
   ],
   "source": [
    "df, idx = csvIndexToDatetime(path_0, start, freq)\n",
    "(df == 0).sum().sum()"
   ]
  },
  {
   "cell_type": "code",
   "execution_count": 9,
   "id": "60f8ff1e",
   "metadata": {
    "scrolled": false
   },
   "outputs": [
    {
     "name": "stdout",
     "output_type": "stream",
     "text": [
      "0: Data Load Finish, Predict Finish, 0.4912 0.4344 0.0061 0.9931 Evaluation Finish\n",
      "1: Data Load Finish, Predict Finish, 6.1456 6.1339 0.0857 0.9141 Evaluation Finish\n",
      "2: Data Load Finish, Predict Finish, 4.4655 4.402 0.0615 0.9376 Evaluation Finish\n",
      "3: Data Load Finish, Predict Finish, 11.0191 11.0135 0.154 0.8459 Evaluation Finish\n",
      "4: Data Load Finish, Predict Finish, 10.1645 10.1584 0.142 0.8579 Evaluation Finish\n",
      "5: Data Load Finish, Predict Finish, 5.388 5.3726 0.0751 0.9247 Evaluation Finish\n",
      "6: Data Load Finish, Predict Finish, 6.7575 6.7309 0.0941 0.9055 Evaluation Finish\n",
      "7: Data Load Finish, Predict Finish, 3.9859 3.9625 0.0554 0.9443 Evaluation Finish\n",
      "8: Data Load Finish, Predict Finish, 7.4523 7.4427 0.104 0.8958 Evaluation Finish\n",
      "9: Data Load Finish, Predict Finish, 5.1997 5.185 0.0725 0.9273 Evaluation Finish\n",
      "10: Data Load Finish, Predict Finish, 4.3666 4.348 0.0608 0.9389 Evaluation Finish\n",
      "11: Data Load Finish, Predict Finish, 4.4139 4.3915 0.0614 0.9383 Evaluation Finish\n",
      "12: Data Load Finish, Predict Finish, 3.6602 3.6245 0.0507 0.9488 Evaluation Finish\n",
      "13: Data Load Finish, Predict Finish, 4.052 4.0125 0.0561 0.9433 Evaluation Finish\n",
      "14: Data Load Finish, Predict Finish, 4.0154 3.9968 0.0559 0.9439 Evaluation Finish\n",
      "15: Data Load Finish, Predict Finish, 4.0632 4.0406 0.0565 0.9432 Evaluation Finish\n",
      "16: Data Load Finish, Predict Finish, 3.9629 3.9368 0.055 0.9446 Evaluation Finish\n",
      "17: Data Load Finish, Predict Finish, 4.2142 4.1832 0.0585 0.9411 Evaluation Finish\n",
      "18: Data Load Finish, Predict Finish, 3.7151 3.6988 0.0517 0.9481 Evaluation Finish\n",
      "19: Data Load Finish, Predict Finish, 7.8251 7.8104 0.1092 0.8906 Evaluation Finish\n",
      "20: Data Load Finish, Predict Finish, 5.6087 5.5936 0.0782 0.9216 Evaluation Finish\n",
      "21: Data Load Finish, Predict Finish, 7.5844 7.5734 0.1059 0.894 Evaluation Finish\n",
      "22: Data Load Finish, Predict Finish, 3.9679 3.9485 0.0552 0.9445 Evaluation Finish\n",
      "23: Data Load Finish, Predict Finish, 6.96 6.9427 0.0971 0.9027 Evaluation Finish\n",
      "24: Data Load Finish, Predict Finish, 3.2438 3.2222 0.045 0.9546 Evaluation Finish\n",
      "25: Data Load Finish, Predict Finish, 3.4787 3.4551 0.0483 0.9514 Evaluation Finish\n",
      "26: Data Load Finish, Predict Finish, 5.2698 5.2541 0.0734 0.9263 Evaluation Finish\n",
      "27: Data Load Finish, Predict Finish, 3.6518 3.6338 0.0508 0.9489 Evaluation Finish\n",
      "28: Data Load Finish, Predict Finish, 5.6255 5.6099 0.0784 0.9213 Evaluation Finish\n",
      "29: Data Load Finish, Predict Finish, 13.2495 13.2427 0.1851 0.8148 Evaluation Finish\n",
      "30: Data Load Finish, Predict Finish, 4.0272 4.0069 0.056 0.9437 Evaluation Finish\n",
      "31: Data Load Finish, Predict Finish, 7.0666 7.0578 0.0987 0.9012 Evaluation Finish\n",
      "32: Data Load Finish, Predict Finish, 4.0308 4.0114 0.0561 0.9436 Evaluation Finish\n",
      "33: Data Load Finish, Predict Finish, 9.7179 9.7103 0.1357 0.8641 Evaluation Finish\n",
      "34: Data Load Finish, Predict Finish, 4.0782 4.0454 0.0565 0.943 Evaluation Finish\n",
      "35: Data Load Finish, Predict Finish, 4.6091 4.564 0.0638 0.9356 Evaluation Finish\n",
      "36: Data Load Finish, Predict Finish, 2.337 2.2995 0.0321 0.9673 Evaluation Finish\n",
      "37: Data Load Finish, Predict Finish, 4.2192 4.1987 0.0587 0.941 Evaluation Finish\n",
      "38: Data Load Finish, Predict Finish, 7.695 7.6809 0.1074 0.8924 Evaluation Finish\n",
      "39: Data Load Finish, Predict Finish, 6.1075 6.0975 0.0852 0.9146 Evaluation Finish\n",
      "40: Data Load Finish, Predict Finish, 3.6964 3.6706 0.0513 0.9483 Evaluation Finish\n",
      "41: Data Load Finish, Predict Finish, 5.0465 5.0234 0.0702 0.9294 Evaluation Finish\n",
      "42: Data Load Finish, Predict Finish, 7.6548 7.6443 0.1069 0.893 Evaluation Finish\n",
      "43: Data Load Finish, Predict Finish, 6.0134 5.9827 0.0836 0.9159 Evaluation Finish\n",
      "44: Data Load Finish, Predict Finish, 5.02 5.0065 0.07 0.9298 Evaluation Finish\n",
      "45: Data Load Finish, Predict Finish, 4.4295 4.4003 0.0615 0.9381 Evaluation Finish\n",
      "46: Data Load Finish, Predict Finish, 9.0253 9.0187 0.1261 0.8738 Evaluation Finish\n",
      "47: Data Load Finish, Predict Finish, 2.5969 2.5513 0.0356 0.9637 Evaluation Finish\n",
      "48: Data Load Finish, Predict Finish, 4.9047 4.8848 0.0683 0.9314 Evaluation Finish\n",
      "49: Data Load Finish, Predict Finish, 3.4795 3.4527 0.0483 0.9514 Evaluation Finish\n",
      "50: Data Load Finish, Predict Finish, 7.158 7.149 0.0999 0.8999 Evaluation Finish\n",
      "51: Data Load Finish, Predict Finish, 3.2715 3.2435 0.0453 0.9543 Evaluation Finish\n",
      "52: Data Load Finish, Predict Finish, 2.5953 2.5668 0.0359 0.9637 Evaluation Finish\n",
      "53: Data Load Finish, Predict Finish, 7.2399 7.226 0.101 0.8988 Evaluation Finish\n",
      "54: Data Load Finish, Predict Finish, 3.8619 3.8351 0.0536 0.946 Evaluation Finish\n",
      "55: Data Load Finish, Predict Finish, 6.2395 6.207 0.0868 0.9128 Evaluation Finish\n",
      "56: Data Load Finish, Predict Finish, 1.1666 1.0987 0.0153 0.9837 Evaluation Finish\n",
      "57: Data Load Finish, Predict Finish, 3.1534 3.0844 0.0431 0.9559 Evaluation Finish\n",
      "58: Data Load Finish, Predict Finish, 4.0852 4.0622 0.0568 0.9429 Evaluation Finish\n",
      "59: Data Load Finish, Predict Finish, 4.4674 4.4492 0.0622 0.9375 Evaluation Finish\n",
      "60: Data Load Finish, Predict Finish, 5.3346 5.3178 0.0743 0.9254 Evaluation Finish\n",
      "61: Data Load Finish, Predict Finish, 4.4774 4.4535 0.0622 0.9374 Evaluation Finish\n",
      "62: Data Load Finish, Predict Finish, 4.1008 4.0794 0.057 0.9427 Evaluation Finish\n",
      "63: Data Load Finish, Predict Finish, 6.0804 6.0658 0.0848 0.915 Evaluation Finish\n",
      "64: Data Load Finish, Predict Finish, 7.6728 7.6623 0.1071 0.8927 Evaluation Finish\n",
      "65: Data Load Finish, Predict Finish, 4.5432 4.5068 0.063 0.9365 Evaluation Finish\n",
      "66: Data Load Finish, Predict Finish, 8.892 8.8776 0.1241 0.8757 Evaluation Finish\n",
      "67: Data Load Finish, Predict Finish, 8.238 8.2294 0.115 0.8848 Evaluation Finish\n",
      "68: Data Load Finish, Predict Finish, 3.48 3.428 0.0479 0.9513 Evaluation Finish\n",
      "69: Data Load Finish, Predict Finish, 7.1587 7.1495 0.0999 0.8999 Evaluation Finish\n",
      "70: Data Load Finish, Predict Finish, 4.0407 4.0235 0.0562 0.9435 Evaluation Finish\n",
      "71: Data Load Finish, Predict Finish, 10.0946 10.0884 0.141 0.8589 Evaluation Finish\n",
      "72: Data Load Finish, Predict Finish, 4.996 4.9673 0.0694 0.9301 Evaluation Finish\n",
      "73: Data Load Finish, Predict Finish, 4.3002 4.2626 0.0596 0.9399 Evaluation Finish\n",
      "74: Data Load Finish, Predict Finish, 11.1207 11.1153 0.1554 0.8445 Evaluation Finish\n",
      "75: Data Load Finish, Predict Finish, 3.7061 3.6833 0.0515 0.9482 Evaluation Finish\n",
      "76: Data Load Finish, Predict Finish, 2.9038 2.8417 0.0397 0.9594 Evaluation Finish\n",
      "77: Data Load Finish, Predict Finish, 4.4268 4.4072 0.0616 0.9381 Evaluation Finish\n",
      "78: Data Load Finish, Predict Finish, 3.464 3.4413 0.0481 0.9516 Evaluation Finish\n",
      "79: Data Load Finish, Predict Finish, 3.1777 3.1518 0.044 0.9556 Evaluation Finish\n",
      "80: Data Load Finish, Predict Finish, 6.9227 6.9014 0.0965 0.9032 Evaluation Finish\n",
      "81: Data Load Finish, Predict Finish, 4.3617 4.3405 0.0607 0.939 Evaluation Finish\n",
      "82: Data Load Finish, Predict Finish, 4.8672 4.8503 0.0678 0.9319 Evaluation Finish\n",
      "83: Data Load Finish, Predict Finish, 5.8436 5.7824 0.0808 0.9183 Evaluation Finish\n",
      "84: Data Load Finish, Predict Finish, 3.753 3.7212 0.052 0.9475 Evaluation Finish\n",
      "85: Data Load Finish, Predict Finish, 7.6466 7.6381 0.1068 0.8931 Evaluation Finish\n",
      "86: Data Load Finish, Predict Finish, 6.6798 6.6693 0.0932 0.9066 Evaluation Finish\n",
      "87: Data Load Finish, Predict Finish, 5.3201 5.3013 0.0741 0.9256 Evaluation Finish\n",
      "88: Data Load Finish, Predict Finish, 9.7782 9.7684 0.1366 0.8633 Evaluation Finish\n",
      "89: Data Load Finish, Predict Finish, 4.1462 4.1273 0.0577 0.942 Evaluation Finish\n",
      "90: Data Load Finish, Predict Finish, 4.9852 4.9633 0.0694 0.9303 Evaluation Finish\n",
      "91: Data Load Finish, Predict Finish, 18.3034 18.2988 0.2558 0.7441 Evaluation Finish\n",
      "92: Data Load Finish, Predict Finish, 2.8902 2.8655 0.04 0.9596 Evaluation Finish\n",
      "93: Data Load Finish, Predict Finish, 5.1809 5.1602 0.0721 0.9276 Evaluation Finish\n",
      "94: Data Load Finish, Predict Finish, 9.5165 9.5098 0.1329 0.8669 Evaluation Finish\n",
      "95: Data Load Finish, Predict Finish, 5.2705 5.2569 0.0735 0.9263 Evaluation Finish\n",
      "96: Data Load Finish, Predict Finish, 10.9741 10.9684 0.1533 0.8466 Evaluation Finish\n",
      "97: Data Load Finish, Predict Finish, 2.4714 2.4006 0.0335 0.9654 Evaluation Finish\n"
     ]
    },
    {
     "name": "stdout",
     "output_type": "stream",
     "text": [
      "98: Data Load Finish, Predict Finish, 10.0584 10.0523 0.1405 0.8594 Evaluation Finish\n",
      "99: Data Load Finish, Predict Finish, 2.2671 2.2149 0.0309 0.9683 Evaluation Finish\n",
      "100: Data Load Finish, Predict Finish, 4.9426 4.8898 0.0683 0.9309 Evaluation Finish\n",
      "101: Data Load Finish, Predict Finish, 5.7606 5.7466 0.0803 0.9195 Evaluation Finish\n",
      "102: Data Load Finish, Predict Finish, 1.0711 0.858 0.012 0.985 Evaluation Finish\n",
      "103: Data Load Finish, Predict Finish, 3.3413 3.315 0.0463 0.9533 Evaluation Finish\n",
      "104: Data Load Finish, Predict Finish, 9.1291 9.0943 0.1271 0.8724 Evaluation Finish\n",
      "105: Data Load Finish, Predict Finish, 2.7084 2.6805 0.0375 0.9621 Evaluation Finish\n",
      "106: Data Load Finish, Predict Finish, 5.0233 5.0034 0.0699 0.9298 Evaluation Finish\n",
      "107: Data Load Finish, Predict Finish, 1.6103 1.5584 0.0218 0.9775 Evaluation Finish\n",
      "108: Data Load Finish, Predict Finish, 3.3999 3.3752 0.0472 0.9525 Evaluation Finish\n",
      "109: Data Load Finish, Predict Finish, 0.7177 0.5252 0.0073 0.99 Evaluation Finish\n",
      "110: Data Load Finish, Predict Finish, 4.9342 4.9187 0.0688 0.931 Evaluation Finish\n",
      "111: Data Load Finish, Predict Finish, 3.7713 3.7549 0.0525 0.9473 Evaluation Finish\n",
      "112: Data Load Finish, Predict Finish, 2.4001 2.3605 0.033 0.9664 Evaluation Finish\n",
      "113: Data Load Finish, Predict Finish, 4.9849 4.9681 0.0694 0.9303 Evaluation Finish\n",
      "114: Data Load Finish, Predict Finish, 4.7973 4.7796 0.0668 0.9329 Evaluation Finish\n",
      "115: Data Load Finish, Predict Finish, 9.2342 9.2273 0.129 0.8709 Evaluation Finish\n",
      "116: Data Load Finish, Predict Finish, 9.9912 9.9845 0.1396 0.8603 Evaluation Finish\n",
      "117: Data Load Finish, Predict Finish, 3.9977 3.9827 0.0557 0.9441 Evaluation Finish\n",
      "118: Data Load Finish, Predict Finish, 2.1829 2.1275 0.0297 0.9695 Evaluation Finish\n",
      "119: Data Load Finish, Predict Finish, 3.5718 3.5495 0.0496 0.9501 Evaluation Finish\n",
      "120: Data Load Finish, Predict Finish, 4.2077 4.1845 0.0585 0.9412 Evaluation Finish\n",
      "121: Data Load Finish, Predict Finish, 6.46 6.4473 0.0901 0.9097 Evaluation Finish\n",
      "122: Data Load Finish, Predict Finish, 3.6907 3.6656 0.0512 0.9484 Evaluation Finish\n",
      "123: Data Load Finish, Predict Finish, 5.7359 5.7247 0.08 0.9198 Evaluation Finish\n",
      "124: Data Load Finish, Predict Finish, 2.4954 2.4658 0.0345 0.9651 Evaluation Finish\n",
      "125: Data Load Finish, Predict Finish, 7.0088 6.9971 0.0978 0.902 Evaluation Finish\n",
      "126: Data Load Finish, Predict Finish, 8.3198 8.3114 0.1162 0.8837 Evaluation Finish\n",
      "127: Data Load Finish, Predict Finish, 8.0817 8.0734 0.1129 0.887 Evaluation Finish\n",
      "128: Data Load Finish, Predict Finish, 4.9864 4.9649 0.0694 0.9303 Evaluation Finish\n",
      "129: Data Load Finish, Predict Finish, 4.1622 4.143 0.0579 0.9418 Evaluation Finish\n",
      "130: Data Load Finish, Predict Finish, 4.2356 4.2057 0.0588 0.9408 Evaluation Finish\n",
      "131: Data Load Finish, Predict Finish, 5.1254 5.1119 0.0715 0.9283 Evaluation Finish\n",
      "132: Data Load Finish, Predict Finish, 3.8942 3.8526 0.0538 0.9456 Evaluation Finish\n",
      "133: Data Load Finish, Predict Finish, 9.6193 9.5872 0.134 0.8655 Evaluation Finish\n",
      "134: Data Load Finish, Predict Finish, 5.5283 5.4462 0.0761 0.9227 Evaluation Finish\n",
      "135: Data Load Finish, Predict Finish, 5.8316 5.814 0.0813 0.9185 Evaluation Finish\n",
      "136: Data Load Finish, Predict Finish, 0.5442 0.399 0.0056 0.9924 Evaluation Finish\n",
      "137: Data Load Finish, Predict Finish, 4.203 4.1851 0.0585 0.9412 Evaluation Finish\n",
      "138: Data Load Finish, Predict Finish, 5.6514 5.6302 0.0787 0.921 Evaluation Finish\n",
      "139: Data Load Finish, Predict Finish, 6.0003 5.9899 0.0837 0.9161 Evaluation Finish\n",
      "140: Data Load Finish, Predict Finish, 5.7373 5.7263 0.08 0.9198 Evaluation Finish\n",
      "141: Data Load Finish, Predict Finish, 1.5645 1.507 0.021 0.9781 Evaluation Finish\n",
      "142: Data Load Finish, Predict Finish, 1.0149 0.9226 0.0129 0.9858 Evaluation Finish\n",
      "143: Data Load Finish, Predict Finish, 4.408 4.3927 0.0614 0.9384 Evaluation Finish\n",
      "144: Data Load Finish, Predict Finish, 5.0204 5.0007 0.0699 0.9298 Evaluation Finish\n",
      "145: Data Load Finish, Predict Finish, 6.885 6.8752 0.0961 0.9037 Evaluation Finish\n",
      "146: Data Load Finish, Predict Finish, 8.4707 8.425 0.1178 0.8816 Evaluation Finish\n",
      "147: Data Load Finish, Predict Finish, 7.6454 7.637 0.1068 0.8931 Evaluation Finish\n",
      "148: Data Load Finish, "
     ]
    },
    {
     "name": "stderr",
     "output_type": "stream",
     "text": [
      "/home/vislab/anaconda3/envs/cctv/lib/python3.7/site-packages/statsmodels/base/model.py:606: ConvergenceWarning: Maximum Likelihood optimization failed to converge. Check mle_retvals\n",
      "  ConvergenceWarning)\n"
     ]
    },
    {
     "name": "stdout",
     "output_type": "stream",
     "text": [
      "Predict Finish, 3.9977 3.9827 0.0557 0.9441 Evaluation Finish\n",
      "149: Data Load Finish, Predict Finish, 6.6852 6.6727 0.0933 0.9065 Evaluation Finish\n",
      "150: Data Load Finish, Predict Finish, 4.345 4.3271 0.0605 0.9393 Evaluation Finish\n",
      "151: Data Load Finish, Predict Finish, 6.2413 6.2228 0.087 0.9127 Evaluation Finish\n",
      "152: Data Load Finish, "
     ]
    },
    {
     "name": "stderr",
     "output_type": "stream",
     "text": [
      "/home/vislab/anaconda3/envs/cctv/lib/python3.7/site-packages/statsmodels/base/model.py:606: ConvergenceWarning: Maximum Likelihood optimization failed to converge. Check mle_retvals\n",
      "  ConvergenceWarning)\n"
     ]
    },
    {
     "name": "stdout",
     "output_type": "stream",
     "text": [
      "Predict Finish, 14.504 14.4967 0.2027 0.7972 Evaluation Finish\n",
      "153: Data Load Finish, Predict Finish, 4.5887 4.5728 0.0639 0.9358 Evaluation Finish\n",
      "154: Data Load Finish, Predict Finish, 3.4054 3.3835 0.0473 0.9524 Evaluation Finish\n",
      "155: Data Load Finish, Predict Finish, 6.2471 6.2368 0.0872 0.9127 Evaluation Finish\n",
      "156: Data Load Finish, Predict Finish, 2.3262 2.2968 0.0321 0.9675 Evaluation Finish\n",
      "157: Data Load Finish, Predict Finish, 3.1076 3.068 0.0429 0.9566 Evaluation Finish\n",
      "158: Data Load Finish, Predict Finish, 5.5228 5.493 0.0768 0.9228 Evaluation Finish\n",
      "159: Data Load Finish, Predict Finish, 10.0829 10.0739 0.1408 0.859 Evaluation Finish\n",
      "160: Data Load Finish, Predict Finish, 7.7791 7.7714 0.1086 0.8912 Evaluation Finish\n",
      "161: Data Load Finish, Predict Finish, 8.2055 8.1971 0.1146 0.8853 Evaluation Finish\n",
      "162: Data Load Finish, Predict Finish, 9.689 9.6813 0.1353 0.8645 Evaluation Finish\n",
      "163: Data Load Finish, Predict Finish, 5.8369 5.8195 0.0813 0.9184 Evaluation Finish\n",
      "164: Data Load Finish, Predict Finish, 3.6057 3.5806 0.05 0.9496 Evaluation Finish\n",
      "165: Data Load Finish, Predict Finish, 0.5569 0.4116 0.0057 0.9922 Evaluation Finish\n",
      "166: Data Load Finish, Predict Finish, 4.8481 4.8318 0.0675 0.9322 Evaluation Finish\n",
      "167: Data Load Finish, Predict Finish, 8.908 8.9003 0.1244 0.8755 Evaluation Finish\n",
      "168: Data Load Finish, Predict Finish, 3.1371 3.0965 0.0433 0.9561 Evaluation Finish\n",
      "169: Data Load Finish, Predict Finish, 5.7319 5.7052 0.0797 0.9199 Evaluation Finish\n",
      "170: Data Load Finish, Predict Finish, 5.3794 5.3595 0.0749 0.9248 Evaluation Finish\n",
      "171: Data Load Finish, Predict Finish, 7.7053 7.6971 0.1076 0.8923 Evaluation Finish\n",
      "172: Data Load Finish, Predict Finish, 2.5633 2.5358 0.0354 0.9642 Evaluation Finish\n",
      "173: Data Load Finish, Predict Finish, 3.2725 3.2505 0.0454 0.9542 Evaluation Finish\n",
      "174: Data Load Finish, Predict Finish, 0.9095 0.7281 0.0102 0.9873 Evaluation Finish\n",
      "175: Data Load Finish, Predict Finish, 2.6401 2.6074 0.0364 0.9631 Evaluation Finish\n",
      "176: Data Load Finish, Predict Finish, 9.2501 9.2377 0.1291 0.8707 Evaluation Finish\n",
      "177: Data Load Finish, Predict Finish, 4.0745 4.0598 0.0567 0.943 Evaluation Finish\n",
      "178: Data Load Finish, Predict Finish, 2.2014 2.1462 0.03 0.9692 Evaluation Finish\n",
      "179: Data Load Finish, Predict Finish, 2.1917 2.1544 0.0301 0.9694 Evaluation Finish\n",
      "180: Data Load Finish, Predict Finish, 3.0694 3.0316 0.0424 0.9571 Evaluation Finish\n",
      "181: Data Load Finish, Predict Finish, 4.8324 4.8183 0.0673 0.9324 Evaluation Finish\n",
      "182: Data Load Finish, Predict Finish, 4.1634 4.1439 0.0579 0.9418 Evaluation Finish\n",
      "183: Data Load Finish, "
     ]
    },
    {
     "name": "stderr",
     "output_type": "stream",
     "text": [
      "/home/vislab/anaconda3/envs/cctv/lib/python3.7/site-packages/statsmodels/base/model.py:606: ConvergenceWarning: Maximum Likelihood optimization failed to converge. Check mle_retvals\n",
      "  ConvergenceWarning)\n"
     ]
    },
    {
     "name": "stdout",
     "output_type": "stream",
     "text": [
      "Predict Finish, 5.8831 5.8559 0.0819 0.9177 Evaluation Finish\n",
      "184: Data Load Finish, Predict Finish, 6.7685 6.7589 0.0945 0.9054 Evaluation Finish\n",
      "185: Data Load Finish, Predict Finish, 5.3694 5.3532 0.0748 0.9249 Evaluation Finish\n",
      "186: Data Load Finish, Predict Finish, 3.7161 3.6899 0.0516 0.948 Evaluation Finish\n",
      "187: Data Load Finish, Predict Finish, 3.4596 3.4365 0.048 0.9516 Evaluation Finish\n",
      "188: Data Load Finish, Predict Finish, 4.0135 3.9926 0.0558 0.9439 Evaluation Finish\n",
      "189: Data Load Finish, Predict Finish, 2.7609 2.7195 0.038 0.9614 Evaluation Finish\n",
      "190: Data Load Finish, Predict Finish, 3.0202 2.9953 0.0419 0.9578 Evaluation Finish\n",
      "191: Data Load Finish, Predict Finish, 4.2884 4.2693 0.0597 0.94 Evaluation Finish\n",
      "192: Data Load Finish, Predict Finish, 5.5145 5.4991 0.0769 0.9229 Evaluation Finish\n",
      "193: Data Load Finish, Predict Finish, 2.2108 2.1802 0.0305 0.9691 Evaluation Finish\n",
      "194: Data Load Finish, Predict Finish, 4.5321 4.51 0.063 0.9366 Evaluation Finish\n",
      "195: Data Load Finish, Predict Finish, 5.5487 5.5343 0.0774 0.9224 Evaluation Finish\n",
      "196: Data Load Finish, Predict Finish, 2.988 2.9602 0.0414 0.9582 Evaluation Finish\n",
      "197: Data Load Finish, Predict Finish, 4.6191 4.6025 0.0643 0.9354 Evaluation Finish\n",
      "198: Data Load Finish, Predict Finish, 5.5666 5.5138 0.0771 0.9222 Evaluation Finish\n",
      "199: Data Load Finish, Predict Finish, 2.6067 2.5539 0.0357 0.9636 Evaluation Finish\n",
      "200: Data Load Finish, Predict Finish, 7.4723 7.4625 0.1043 0.8955 Evaluation Finish\n",
      "201: Data Load Finish, Predict Finish, 4.6326 4.6073 0.0644 0.9352 Evaluation Finish\n",
      "202: Data Load Finish, Predict Finish, 7.489 7.4782 0.1045 0.8953 Evaluation Finish\n",
      "203: Data Load Finish, Predict Finish, 8.0459 8.0359 0.1123 0.8875 Evaluation Finish\n",
      "204: Data Load Finish, Predict Finish, 8.075 8.067 0.1128 0.8871 Evaluation Finish\n",
      "205: Data Load Finish, Predict Finish, 9.1651 9.1579 0.128 0.8719 Evaluation Finish\n",
      "206: Data Load Finish, Predict Finish, 6.1407 6.1295 0.0857 0.9141 Evaluation Finish\n",
      "207: Data Load Finish, Predict Finish, 3.2983 3.2452 0.0454 0.9539 Evaluation Finish\n",
      "208: Data Load Finish, Predict Finish, 9.9174 9.911 0.1386 0.8613 Evaluation Finish\n",
      "209: Data Load Finish, Predict Finish, 5.1353 5.117 0.0715 0.9282 Evaluation Finish\n",
      "210: Data Load Finish, Predict Finish, 6.8571 6.8454 0.0957 0.9041 Evaluation Finish\n",
      "211: Data Load Finish, Predict Finish, 7.0505 7.0418 0.0984 0.9014 Evaluation Finish\n",
      "212: Data Load Finish, "
     ]
    },
    {
     "name": "stderr",
     "output_type": "stream",
     "text": [
      "/home/vislab/anaconda3/envs/cctv/lib/python3.7/site-packages/statsmodels/base/model.py:606: ConvergenceWarning: Maximum Likelihood optimization failed to converge. Check mle_retvals\n",
      "  ConvergenceWarning)\n"
     ]
    },
    {
     "name": "stdout",
     "output_type": "stream",
     "text": [
      "Predict Finish, 5.4314 5.4192 0.0757 0.9241 Evaluation Finish\n",
      "213: Data Load Finish, Predict Finish, 6.1184 6.1086 0.0854 0.9145 Evaluation Finish\n",
      "214: Data Load Finish, Predict Finish, 6.7118 6.7004 0.0937 0.9062 Evaluation Finish\n",
      "215: Data Load Finish, Predict Finish, 8.5015 8.4937 0.1187 0.8811 Evaluation Finish\n",
      "216: Data Load Finish, Predict Finish, 5.3056 5.2915 0.074 0.9258 Evaluation Finish\n",
      "217: Data Load Finish, Predict Finish, 5.1718 5.1576 0.0721 0.9277 Evaluation Finish\n",
      "218: Data Load Finish, Predict Finish, 6.7431 6.7335 0.0941 0.9057 Evaluation Finish\n",
      "219: Data Load Finish, Predict Finish, 5.6491 5.6365 0.0788 0.921 Evaluation Finish\n",
      "220: Data Load Finish, Predict Finish, 3.6095 3.5906 0.0502 0.9495 Evaluation Finish\n",
      "221: Data Load Finish, Predict Finish, 7.6627 7.6542 0.107 0.8929 Evaluation Finish\n",
      "222: Data Load Finish, Predict Finish, 6.8368 6.8279 0.0954 0.9044 Evaluation Finish\n",
      "223: Data Load Finish, Predict Finish, 7.5571 7.5484 0.1055 0.8943 Evaluation Finish\n",
      "224: Data Load Finish, Predict Finish, 6.9624 6.951 0.0972 0.9027 Evaluation Finish\n",
      "225: Data Load Finish, Predict Finish, 7.5027 7.4936 0.1048 0.8951 Evaluation Finish\n",
      "226: Data Load Finish, Predict Finish, 4.2442 4.213 0.0589 0.9407 Evaluation Finish\n",
      "227: Data Load Finish, Predict Finish, 4.2064 4.172 0.0583 0.9412 Evaluation Finish\n",
      "228: Data Load Finish, Predict Finish, 3.3899 3.3645 0.047 0.9526 Evaluation Finish\n",
      "229: Data Load Finish, Predict Finish, 6.6625 6.6517 0.093 0.9068 Evaluation Finish\n",
      "230: Data Load Finish, Predict Finish, 1.1597 1.0529 0.0147 0.9838 Evaluation Finish\n",
      "231: Data Load Finish, Predict Finish, 10.2716 10.2638 0.1435 0.8564 Evaluation Finish\n",
      "232: Data Load Finish, Predict Finish, 2.2656 2.2253 0.0311 0.9683 Evaluation Finish\n",
      "233: Data Load Finish, Predict Finish, 0.484 0.3781 0.0053 0.9932 Evaluation Finish\n",
      "234: Data Load Finish, Predict Finish, 3.8002 3.6848 0.0515 0.9469 Evaluation Finish\n",
      "235: Data Load Finish, Predict Finish, 4.4199 4.3971 0.0615 0.9382 Evaluation Finish\n",
      "236: Data Load Finish, Predict Finish, 4.2133 4.1952 0.0586 0.9411 Evaluation Finish\n",
      "237: Data Load Finish, Predict Finish, 3.189 3.1643 0.0442 0.9554 Evaluation Finish\n",
      "238: Data Load Finish, Predict Finish, 7.2915 7.2829 0.1018 0.8981 Evaluation Finish\n",
      "239: Data Load Finish, Predict Finish, 5.699 5.6873 0.0795 0.9203 Evaluation Finish\n",
      "240: Data Load Finish, Predict Finish, 7.7379 7.7301 0.1081 0.8918 Evaluation Finish\n",
      "241: Data Load Finish, Predict Finish, 10.2555 10.2492 0.1433 0.8566 Evaluation Finish\n",
      "242: Data Load Finish, Predict Finish, 3.5764 3.5591 0.0497 0.95 Evaluation Finish\n",
      "243: Data Load Finish, Predict Finish, 6.184 6.1613 0.0861 0.9135 Evaluation Finish\n",
      "244: Data Load Finish, Predict Finish, 5.7473 5.7334 0.0801 0.9196 Evaluation Finish\n",
      "245: Data Load Finish, Predict Finish, 4.1127 4.0905 0.0572 0.9425 Evaluation Finish\n",
      "246: Data Load Finish, Predict Finish, 6.6737 6.6639 0.0932 0.9067 Evaluation Finish\n",
      "247: Data Load Finish, "
     ]
    },
    {
     "name": "stderr",
     "output_type": "stream",
     "text": [
      "/home/vislab/anaconda3/envs/cctv/lib/python3.7/site-packages/statsmodels/base/model.py:606: ConvergenceWarning: Maximum Likelihood optimization failed to converge. Check mle_retvals\n",
      "  ConvergenceWarning)\n"
     ]
    },
    {
     "name": "stdout",
     "output_type": "stream",
     "text": [
      "Predict Finish, 6.7663 6.7556 0.0944 0.9054 Evaluation Finish\n",
      "248: Data Load Finish, Predict Finish, 3.4761 3.4465 0.0482 0.9514 Evaluation Finish\n",
      "249: Data Load Finish, Predict Finish, 7.9109 7.9022 0.1105 0.8894 Evaluation Finish\n",
      "250: Data Load Finish, Predict Finish, 4.3478 4.3207 0.0604 0.9392 Evaluation Finish\n",
      "251: Data Load Finish, Predict Finish, 7.8344 7.8245 0.1094 0.8905 Evaluation Finish\n",
      "252: Data Load Finish, Predict Finish, 7.286 7.2775 0.1017 0.8981 Evaluation Finish\n",
      "253: Data Load Finish, Predict Finish, 0.7155 0.6577 0.0092 0.99 Evaluation Finish\n",
      "254: Data Load Finish, Predict Finish, 3.4421 3.3926 0.0474 0.9519 Evaluation Finish\n",
      "255: Data Load Finish, Predict Finish, 6.9493 6.9405 0.097 0.9028 Evaluation Finish\n",
      "256: Data Load Finish, Predict Finish, 5.8175 5.8027 0.0811 0.9187 Evaluation Finish\n",
      "257: Data Load Finish, Predict Finish, 0.7538 0.6082 0.0085 0.9895 Evaluation Finish\n",
      "258: Data Load Finish, Predict Finish, 3.2092 3.1768 0.0444 0.9551 Evaluation Finish\n",
      "259: Data Load Finish, Predict Finish, 5.5981 5.5874 0.0781 0.9217 Evaluation Finish\n",
      "260: Data Load Finish, Predict Finish, 4.3353 4.3214 0.0604 0.9394 Evaluation Finish\n",
      "261: Data Load Finish, Predict Finish, 3.691 3.6693 0.0513 0.9484 Evaluation Finish\n",
      "262: Data Load Finish, Predict Finish, 3.4255 3.4036 0.0476 0.9521 Evaluation Finish\n",
      "263: Data Load Finish, Predict Finish, 5.4827 5.469 0.0764 0.9233 Evaluation Finish\n",
      "264: Data Load Finish, Predict Finish, 4.7031 4.6873 0.0655 0.9342 Evaluation Finish\n",
      "265: Data Load Finish, Predict Finish, 4.6839 4.6684 0.0653 0.9345 Evaluation Finish\n",
      "266: Data Load Finish, Predict Finish, 3.9148 3.896 0.0545 0.9453 Evaluation Finish\n",
      "267: Data Load Finish, Predict Finish, 4.2549 4.2399 0.0593 0.9405 Evaluation Finish\n",
      "268: Data Load Finish, Predict Finish, 5.073 5.0256 0.0702 0.9291 Evaluation Finish\n",
      "269: Data Load Finish, Predict Finish, 4.1763 4.1542 0.0581 0.9416 Evaluation Finish\n",
      "270: Data Load Finish, Predict Finish, 3.9898 3.963 0.0554 0.9442 Evaluation Finish\n",
      "271: Data Load Finish, Predict Finish, 3.6364 3.6095 0.0504 0.9492 Evaluation Finish\n",
      "272: Data Load Finish, Predict Finish, 2.3236 2.2296 0.0312 0.9675 Evaluation Finish\n",
      "273: Data Load Finish, Predict Finish, 6.4705 6.4582 0.0903 0.9095 Evaluation Finish\n",
      "274: Data Load Finish, Predict Finish, 3.1727 3.1228 0.0436 0.9556 Evaluation Finish\n",
      "275: Data Load Finish, Predict Finish, 3.4377 3.3497 0.0468 0.9519 Evaluation Finish\n",
      "276: Data Load Finish, Predict Finish, 3.6849 3.6592 0.0511 0.9485 Evaluation Finish\n",
      "277: Data Load Finish, Predict Finish, 2.3252 2.2626 0.0316 0.9675 Evaluation Finish\n",
      "278: Data Load Finish, Predict Finish, 5.4384 5.4238 0.0758 0.924 Evaluation Finish\n",
      "279: Data Load Finish, Predict Finish, 3.2418 3.2005 0.0447 0.9547 Evaluation Finish\n",
      "280: Data Load Finish, Predict Finish, 3.2718 3.2355 0.0452 0.9543 Evaluation Finish\n",
      "281: Data Load Finish, Predict Finish, 1.7901 1.7306 0.0242 0.975 Evaluation Finish\n",
      "282: Data Load Finish, Predict Finish, 4.8253 4.8022 0.0671 0.9325 Evaluation Finish\n",
      "283: Data Load Finish, Predict Finish, 13.8177 13.8088 0.1931 0.8068 Evaluation Finish\n",
      "284: Data Load Finish, Predict Finish, 3.6641 3.385 0.0473 0.9488 Evaluation Finish\n",
      "285: Data Load Finish, Predict Finish, 2.5185 2.4611 0.0344 0.9648 Evaluation Finish\n",
      "286: Data Load Finish, Predict Finish, 3.4848 3.4578 0.0483 0.9513 Evaluation Finish\n",
      "287: Data Load Finish, Predict Finish, 3.925 3.8661 0.054 0.9451 Evaluation Finish\n",
      "288: Data Load Finish, Predict Finish, 4.3817 4.3651 0.061 0.9387 Evaluation Finish\n",
      "289: Data Load Finish, Predict Finish, 5.6879 5.6732 0.0793 0.9205 Evaluation Finish\n",
      "290: Data Load Finish, Predict Finish, 3.1099 3.0786 0.043 0.9565 Evaluation Finish\n",
      "291: Data Load Finish, Predict Finish, 7.5134 7.5021 0.1049 0.895 Evaluation Finish\n",
      "292: Data Load Finish, Predict Finish, 7.6561 7.3419 0.1026 0.893 Evaluation Finish\n",
      "293: Data Load Finish, Predict Finish, 8.2406 8.1626 0.1141 0.8848 Evaluation Finish\n",
      "294: Data Load Finish, Predict Finish, 4.2594 4.238 0.0592 0.9404 Evaluation Finish\n",
      "295: Data Load Finish, Predict Finish, 8.6128 8.593 0.1201 0.8796 Evaluation Finish\n",
      "296: Data Load Finish, Predict Finish, 5.3153 5.3024 0.0741 0.9257 Evaluation Finish\n",
      "297: Data Load Finish, Predict Finish, 5.7722 5.7595 0.0805 0.9193 Evaluation Finish\n",
      "298: Data Load Finish, Predict Finish, 2.9429 2.9131 0.0407 0.9589 Evaluation Finish\n",
      "299: Data Load Finish, Predict Finish, 3.7437 3.7164 0.0519 0.9477 Evaluation Finish\n",
      "300: Data Load Finish, Predict Finish, 4.5261 4.4973 0.0629 0.9367 Evaluation Finish\n",
      "301: Data Load Finish, Predict Finish, 7.1928 7.1813 0.1004 0.8994 Evaluation Finish\n",
      "302: Data Load Finish, Predict Finish, 5.6904 5.6649 0.0792 0.9204 Evaluation Finish\n",
      "303: Data Load Finish, Predict Finish, 6.4498 6.4285 0.0899 0.9098 Evaluation Finish\n",
      "304: Data Load Finish, Predict Finish, 5.2555 5.2177 0.0729 0.9265 Evaluation Finish\n",
      "305: Data Load Finish, Predict Finish, 6.378 6.3533 0.0888 0.9108 Evaluation Finish\n",
      "306: Data Load Finish, Predict Finish, 4.1793 4.162 0.0582 0.9416 Evaluation Finish\n",
      "307: Data Load Finish, Predict Finish, 6.0632 6.0431 0.0845 0.9152 Evaluation Finish\n",
      "308: Data Load Finish, Predict Finish, 9.7666 9.7105 0.1358 0.8634 Evaluation Finish\n",
      "309: Data Load Finish, Predict Finish, 3.8667 3.8482 0.0538 0.9459 Evaluation Finish\n",
      "310: Data Load Finish, Predict Finish, 6.4198 6.4041 0.0895 0.9102 Evaluation Finish\n",
      "311: Data Load Finish, Predict Finish, 3.577 3.5565 0.0497 0.95 Evaluation Finish\n",
      "312: Data Load Finish, Predict Finish, 3.7515 3.728 0.0521 0.9475 Evaluation Finish\n",
      "313: Data Load Finish, Predict Finish, 5.0228 4.9899 0.0697 0.9298 Evaluation Finish\n",
      "314: Data Load Finish, Predict Finish, 5.4825 5.4694 0.0764 0.9233 Evaluation Finish\n",
      "315: Data Load Finish, Predict Finish, 6.1214 6.1117 0.0854 0.9144 Evaluation Finish\n",
      "316: Data Load Finish, Predict Finish, 5.4168 5.4029 0.0755 0.9243 Evaluation Finish\n",
      "317: Data Load Finish, Predict Finish, 7.4183 7.4102 0.1036 0.8963 Evaluation Finish\n",
      "318: Data Load Finish, Predict Finish, 11.0388 11.0334 0.1542 0.8457 Evaluation Finish\n",
      "319: Data Load Finish, Predict Finish, 3.2809 3.2539 0.0455 0.9541 Evaluation Finish\n",
      "320: Data Load Finish, Predict Finish, 8.0357 8.0245 0.1122 0.8876 Evaluation Finish\n",
      "321: Data Load Finish, Predict Finish, 2.3925 2.3625 0.033 0.9665 Evaluation Finish\n",
      "322: Data Load Finish, Predict Finish, 3.4066 3.379 0.0472 0.9524 Evaluation Finish\n",
      "323: Data Load Finish, Predict Finish, 0.9468 0.7859 0.011 0.9868 Evaluation Finish\n",
      "324: Data Load Finish, Predict Finish, 3.4904 3.4559 0.0483 0.9512 Evaluation Finish\n",
      "RMSE: 5.258173012063418, MAE: 5.22932699507487, MAPE: 0.07309413072806865\n",
      "ACC: 0.9264828268853121\n"
     ]
    }
   ],
   "source": [
    "predictARIMA(df, idx, 9)"
   ]
  },
  {
   "cell_type": "markdown",
   "id": "c1acb05c",
   "metadata": {},
   "source": [
    "### Unobserved Nodes = 5%"
   ]
  },
  {
   "cell_type": "code",
   "execution_count": 10,
   "id": "8a799433",
   "metadata": {},
   "outputs": [
    {
     "name": "stdout",
     "output_type": "stream",
     "text": [
      "52116 325\n"
     ]
    },
    {
     "data": {
      "text/plain": [
       "833856"
      ]
     },
     "execution_count": 10,
     "metadata": {},
     "output_type": "execute_result"
    }
   ],
   "source": [
    "df, idx = csvIndexToDatetime(path_5, start, freq)\n",
    "(df == 0).sum().sum()"
   ]
  },
  {
   "cell_type": "code",
   "execution_count": 11,
   "id": "83ef8625",
   "metadata": {
    "scrolled": false
   },
   "outputs": [
    {
     "name": "stdout",
     "output_type": "stream",
     "text": [
      "0: Data Load Finish, Predict Finish, 0.4912 0.4344 0.0061 0.9931 Evaluation Finish\n",
      "1: Data Load Finish, Predict Finish, 6.1456 6.1339 0.0857 0.9141 Evaluation Finish\n",
      "2: Data Load Finish, Predict Finish, 4.4655 4.402 0.0615 0.9376 Evaluation Finish\n",
      "3: Data Load Finish, Predict Finish, 11.0191 11.0135 0.154 0.8459 Evaluation Finish\n",
      "4: Data Load Finish, Predict Finish, 10.1645 10.1584 0.142 0.8579 Evaluation Finish\n",
      "5: Data Load Finish, Predict Finish, 5.388 5.3726 0.0751 0.9247 Evaluation Finish\n",
      "6: Data Load Finish, Predict Finish, 6.7575 6.7309 0.0941 0.9055 Evaluation Finish\n",
      "7: Data Load Finish, Predict Finish, 3.9859 3.9625 0.0554 0.9443 Evaluation Finish\n",
      "8: Data Load Finish, Predict Finish, 7.4523 7.4427 0.104 0.8958 Evaluation Finish\n",
      "9: Data Load Finish, Predict Finish, 5.1997 5.185 0.0725 0.9273 Evaluation Finish\n",
      "10: Data Load Finish, Predict Finish, 4.3666 4.348 0.0608 0.9389 Evaluation Finish\n",
      "11: Data Load Finish, Predict Finish, 4.4139 4.3915 0.0614 0.9383 Evaluation Finish\n",
      "12: Data Load Finish, Predict Finish, 3.6602 3.6245 0.0507 0.9488 Evaluation Finish\n",
      "13: Data Load Finish, Predict Finish, 4.052 4.0125 0.0561 0.9433 Evaluation Finish\n",
      "14: Data Load Finish, Predict Finish, 4.0154 3.9968 0.0559 0.9439 Evaluation Finish\n",
      "15: Data Load Finish, Predict Finish, 4.0632 4.0406 0.0565 0.9432 Evaluation Finish\n",
      "16: Data Load Finish, Predict Finish, 3.9629 3.9368 0.055 0.9446 Evaluation Finish\n",
      "17: Data Load Finish, Predict Finish, 4.2142 4.1832 0.0585 0.9411 Evaluation Finish\n",
      "18: Data Load Finish, Predict Finish, 3.7151 3.6988 0.0517 0.9481 Evaluation Finish\n",
      "19: Data Load Finish, Predict Finish, 7.8251 7.8104 0.1092 0.8906 Evaluation Finish\n",
      "20: Data Load Finish, Predict Finish, 5.6087 5.5936 0.0782 0.9216 Evaluation Finish\n",
      "21: Data Load Finish, Predict Finish, 7.5844 7.5734 0.1059 0.894 Evaluation Finish\n",
      "22: Data Load Finish, Predict Finish, 3.9679 3.9485 0.0552 0.9445 Evaluation Finish\n",
      "23: Data Load Finish, Predict Finish, 6.96 6.9427 0.0971 0.9027 Evaluation Finish\n",
      "24: Data Load Finish, Predict Finish, 3.2438 3.2222 0.045 0.9546 Evaluation Finish\n",
      "25: Data Load Finish, Predict Finish, 3.4787 3.4551 0.0483 0.9514 Evaluation Finish\n",
      "26: Data Load Finish, Predict Finish, 5.2698 5.2541 0.0734 0.9263 Evaluation Finish\n",
      "27: Data Load Finish, Predict Finish, 3.6518 3.6338 0.0508 0.9489 Evaluation Finish\n",
      "28: Data Load Finish, Predict Finish, 5.6255 5.6099 0.0784 0.9213 Evaluation Finish\n",
      "29: Data Load Finish, Predict Finish, 13.2495 13.2427 0.1851 0.8148 Evaluation Finish\n",
      "30: Data Load Finish, Predict Finish, 4.0272 4.0069 0.056 0.9437 Evaluation Finish\n",
      "31: Data Load Finish, Predict Finish, 7.0666 7.0578 0.0987 0.9012 Evaluation Finish\n",
      "32: Data Load Finish, Predict Finish, 4.0308 4.0114 0.0561 0.9436 Evaluation Finish\n",
      "33: Data Load Finish, Predict Finish, 9.7179 9.7103 0.1357 0.8641 Evaluation Finish\n",
      "34: Data Load Finish, Predict Finish, 4.0782 4.0454 0.0565 0.943 Evaluation Finish\n",
      "35: Data Load Finish, Predict Finish, 4.6091 4.564 0.0638 0.9356 Evaluation Finish\n",
      "36: Data Load Finish, Predict Finish, 2.337 2.2995 0.0321 0.9673 Evaluation Finish\n",
      "37: Data Load Finish, Predict Finish, 4.2192 4.1987 0.0587 0.941 Evaluation Finish\n",
      "38: Data Load Finish, Predict Finish, 7.695 7.6809 0.1074 0.8924 Evaluation Finish\n",
      "39: Data Load Finish, Predict Finish, 6.1075 6.0975 0.0852 0.9146 Evaluation Finish\n",
      "40: Data Load Finish, "
     ]
    },
    {
     "name": "stderr",
     "output_type": "stream",
     "text": [
      "/home/vislab/anaconda3/envs/cctv/lib/python3.7/site-packages/pandas/core/arraylike.py:364: RuntimeWarning: divide by zero encountered in log\n",
      "  result = getattr(ufunc, method)(*inputs, **kwargs)\n",
      "/home/vislab/anaconda3/envs/cctv/lib/python3.7/site-packages/statsmodels/base/model.py:606: ConvergenceWarning: Maximum Likelihood optimization failed to converge. Check mle_retvals\n",
      "  ConvergenceWarning)\n"
     ]
    },
    {
     "name": "stdout",
     "output_type": "stream",
     "text": [
      "Predict Finish, 70.5231 70.5222 0.986 0.014 Evaluation Finish\n",
      "41: Data Load Finish, Predict Finish, 5.0465 5.0234 0.0702 0.9294 Evaluation Finish\n",
      "42: Data Load Finish, Predict Finish, 7.6548 7.6443 0.1069 0.893 Evaluation Finish\n",
      "43: Data Load Finish, Predict Finish, 6.0134 5.9827 0.0836 0.9159 Evaluation Finish\n",
      "44: Data Load Finish, Predict Finish, 5.02 5.0065 0.07 0.9298 Evaluation Finish\n",
      "45: Data Load Finish, Predict Finish, 4.4295 4.4003 0.0615 0.9381 Evaluation Finish\n",
      "46: Data Load Finish, Predict Finish, 9.0253 9.0187 0.1261 0.8738 Evaluation Finish\n",
      "47: Data Load Finish, "
     ]
    },
    {
     "name": "stderr",
     "output_type": "stream",
     "text": [
      "/home/vislab/anaconda3/envs/cctv/lib/python3.7/site-packages/pandas/core/arraylike.py:364: RuntimeWarning: divide by zero encountered in log\n",
      "  result = getattr(ufunc, method)(*inputs, **kwargs)\n",
      "/home/vislab/anaconda3/envs/cctv/lib/python3.7/site-packages/statsmodels/base/model.py:606: ConvergenceWarning: Maximum Likelihood optimization failed to converge. Check mle_retvals\n",
      "  ConvergenceWarning)\n"
     ]
    },
    {
     "name": "stdout",
     "output_type": "stream",
     "text": [
      "Predict Finish, 70.5231 70.5222 0.986 0.014 Evaluation Finish\n",
      "48: Data Load Finish, Predict Finish, 4.9047 4.8848 0.0683 0.9314 Evaluation Finish\n",
      "49: Data Load Finish, Predict Finish, 3.4795 3.4527 0.0483 0.9514 Evaluation Finish\n",
      "50: Data Load Finish, Predict Finish, 7.158 7.149 0.0999 0.8999 Evaluation Finish\n",
      "51: Data Load Finish, Predict Finish, 3.2715 3.2435 0.0453 0.9543 Evaluation Finish\n",
      "52: Data Load Finish, Predict Finish, 2.5953 2.5668 0.0359 0.9637 Evaluation Finish\n",
      "53: Data Load Finish, Predict Finish, 7.2399 7.226 0.101 0.8988 Evaluation Finish\n",
      "54: Data Load Finish, Predict Finish, 3.8619 3.8351 0.0536 0.946 Evaluation Finish\n",
      "55: Data Load Finish, "
     ]
    },
    {
     "name": "stderr",
     "output_type": "stream",
     "text": [
      "/home/vislab/anaconda3/envs/cctv/lib/python3.7/site-packages/pandas/core/arraylike.py:364: RuntimeWarning: divide by zero encountered in log\n",
      "  result = getattr(ufunc, method)(*inputs, **kwargs)\n",
      "/home/vislab/anaconda3/envs/cctv/lib/python3.7/site-packages/statsmodels/base/model.py:606: ConvergenceWarning: Maximum Likelihood optimization failed to converge. Check mle_retvals\n",
      "  ConvergenceWarning)\n"
     ]
    },
    {
     "name": "stdout",
     "output_type": "stream",
     "text": [
      "Predict Finish, 70.5231 70.5222 0.986 0.014 Evaluation Finish\n",
      "56: Data Load Finish, "
     ]
    },
    {
     "name": "stderr",
     "output_type": "stream",
     "text": [
      "/home/vislab/anaconda3/envs/cctv/lib/python3.7/site-packages/pandas/core/arraylike.py:364: RuntimeWarning: divide by zero encountered in log\n",
      "  result = getattr(ufunc, method)(*inputs, **kwargs)\n",
      "/home/vislab/anaconda3/envs/cctv/lib/python3.7/site-packages/statsmodels/base/model.py:606: ConvergenceWarning: Maximum Likelihood optimization failed to converge. Check mle_retvals\n",
      "  ConvergenceWarning)\n"
     ]
    },
    {
     "name": "stdout",
     "output_type": "stream",
     "text": [
      "Predict Finish, 70.5231 70.5222 0.986 0.014 Evaluation Finish\n",
      "57: Data Load Finish, "
     ]
    },
    {
     "name": "stderr",
     "output_type": "stream",
     "text": [
      "/home/vislab/anaconda3/envs/cctv/lib/python3.7/site-packages/pandas/core/arraylike.py:364: RuntimeWarning: divide by zero encountered in log\n",
      "  result = getattr(ufunc, method)(*inputs, **kwargs)\n",
      "/home/vislab/anaconda3/envs/cctv/lib/python3.7/site-packages/statsmodels/base/model.py:606: ConvergenceWarning: Maximum Likelihood optimization failed to converge. Check mle_retvals\n",
      "  ConvergenceWarning)\n"
     ]
    },
    {
     "name": "stdout",
     "output_type": "stream",
     "text": [
      "Predict Finish, 70.5231 70.5222 0.986 0.014 Evaluation Finish\n",
      "58: Data Load Finish, Predict Finish, 4.0852 4.0622 0.0568 0.9429 Evaluation Finish\n",
      "59: Data Load Finish, Predict Finish, 4.4674 4.4492 0.0622 0.9375 Evaluation Finish\n",
      "60: Data Load Finish, "
     ]
    },
    {
     "name": "stderr",
     "output_type": "stream",
     "text": [
      "/home/vislab/anaconda3/envs/cctv/lib/python3.7/site-packages/pandas/core/arraylike.py:364: RuntimeWarning: divide by zero encountered in log\n",
      "  result = getattr(ufunc, method)(*inputs, **kwargs)\n",
      "/home/vislab/anaconda3/envs/cctv/lib/python3.7/site-packages/statsmodels/base/model.py:606: ConvergenceWarning: Maximum Likelihood optimization failed to converge. Check mle_retvals\n",
      "  ConvergenceWarning)\n"
     ]
    },
    {
     "name": "stdout",
     "output_type": "stream",
     "text": [
      "Predict Finish, 70.5231 70.5222 0.986 0.014 Evaluation Finish\n",
      "61: Data Load Finish, Predict Finish, 4.4774 4.4535 0.0622 0.9374 Evaluation Finish\n",
      "62: Data Load Finish, Predict Finish, 4.1008 4.0794 0.057 0.9427 Evaluation Finish\n",
      "63: Data Load Finish, Predict Finish, 6.0804 6.0658 0.0848 0.915 Evaluation Finish\n",
      "64: Data Load Finish, Predict Finish, 7.6728 7.6623 0.1071 0.8927 Evaluation Finish\n",
      "65: Data Load Finish, "
     ]
    },
    {
     "name": "stderr",
     "output_type": "stream",
     "text": [
      "/home/vislab/anaconda3/envs/cctv/lib/python3.7/site-packages/pandas/core/arraylike.py:364: RuntimeWarning: divide by zero encountered in log\n",
      "  result = getattr(ufunc, method)(*inputs, **kwargs)\n",
      "/home/vislab/anaconda3/envs/cctv/lib/python3.7/site-packages/statsmodels/base/model.py:606: ConvergenceWarning: Maximum Likelihood optimization failed to converge. Check mle_retvals\n",
      "  ConvergenceWarning)\n"
     ]
    },
    {
     "name": "stdout",
     "output_type": "stream",
     "text": [
      "Predict Finish, 70.5231 70.5222 0.986 0.014 Evaluation Finish\n",
      "66: Data Load Finish, Predict Finish, 8.892 8.8776 0.1241 0.8757 Evaluation Finish\n",
      "67: Data Load Finish, Predict Finish, 8.238 8.2294 0.115 0.8848 Evaluation Finish\n",
      "68: Data Load Finish, Predict Finish, 3.48 3.428 0.0479 0.9513 Evaluation Finish\n",
      "69: Data Load Finish, Predict Finish, 7.1587 7.1495 0.0999 0.8999 Evaluation Finish\n",
      "70: Data Load Finish, Predict Finish, 4.0407 4.0235 0.0562 0.9435 Evaluation Finish\n",
      "71: Data Load Finish, Predict Finish, 10.0946 10.0884 0.141 0.8589 Evaluation Finish\n",
      "72: Data Load Finish, Predict Finish, 4.996 4.9673 0.0694 0.9301 Evaluation Finish\n",
      "73: Data Load Finish, Predict Finish, 4.3002 4.2626 0.0596 0.9399 Evaluation Finish\n",
      "74: Data Load Finish, Predict Finish, 11.1207 11.1153 0.1554 0.8445 Evaluation Finish\n",
      "75: Data Load Finish, Predict Finish, 3.7061 3.6833 0.0515 0.9482 Evaluation Finish\n",
      "76: Data Load Finish, Predict Finish, 2.9038 2.8417 0.0397 0.9594 Evaluation Finish\n",
      "77: Data Load Finish, Predict Finish, 4.4268 4.4072 0.0616 0.9381 Evaluation Finish\n",
      "78: Data Load Finish, "
     ]
    },
    {
     "name": "stderr",
     "output_type": "stream",
     "text": [
      "/home/vislab/anaconda3/envs/cctv/lib/python3.7/site-packages/pandas/core/arraylike.py:364: RuntimeWarning: divide by zero encountered in log\n",
      "  result = getattr(ufunc, method)(*inputs, **kwargs)\n",
      "/home/vislab/anaconda3/envs/cctv/lib/python3.7/site-packages/statsmodels/base/model.py:606: ConvergenceWarning: Maximum Likelihood optimization failed to converge. Check mle_retvals\n",
      "  ConvergenceWarning)\n"
     ]
    },
    {
     "name": "stdout",
     "output_type": "stream",
     "text": [
      "Predict Finish, 70.5231 70.5222 0.986 0.014 Evaluation Finish\n",
      "79: Data Load Finish, Predict Finish, 3.1777 3.1518 0.044 0.9556 Evaluation Finish\n",
      "80: Data Load Finish, Predict Finish, 6.9227 6.9014 0.0965 0.9032 Evaluation Finish\n",
      "81: Data Load Finish, Predict Finish, 4.3617 4.3405 0.0607 0.939 Evaluation Finish\n",
      "82: Data Load Finish, Predict Finish, 4.8672 4.8503 0.0678 0.9319 Evaluation Finish\n",
      "83: Data Load Finish, Predict Finish, 5.8436 5.7824 0.0808 0.9183 Evaluation Finish\n",
      "84: Data Load Finish, Predict Finish, 3.753 3.7212 0.052 0.9475 Evaluation Finish\n",
      "85: Data Load Finish, Predict Finish, 7.6466 7.6381 0.1068 0.8931 Evaluation Finish\n",
      "86: Data Load Finish, Predict Finish, 6.6798 6.6693 0.0932 0.9066 Evaluation Finish\n",
      "87: Data Load Finish, Predict Finish, 5.3201 5.3013 0.0741 0.9256 Evaluation Finish\n",
      "88: Data Load Finish, Predict Finish, 9.7782 9.7684 0.1366 0.8633 Evaluation Finish\n",
      "89: Data Load Finish, Predict Finish, 4.1462 4.1273 0.0577 0.942 Evaluation Finish\n",
      "90: Data Load Finish, Predict Finish, 4.9852 4.9633 0.0694 0.9303 Evaluation Finish\n",
      "91: Data Load Finish, Predict Finish, 18.3034 18.2988 0.2558 0.7441 Evaluation Finish\n",
      "92: Data Load Finish, Predict Finish, 2.8902 2.8655 0.04 0.9596 Evaluation Finish\n",
      "93: Data Load Finish, Predict Finish, 5.1809 5.1602 0.0721 0.9276 Evaluation Finish\n",
      "94: Data Load Finish, Predict Finish, 9.5165 9.5098 0.1329 0.8669 Evaluation Finish\n",
      "95: Data Load Finish, Predict Finish, 5.2705 5.2569 0.0735 0.9263 Evaluation Finish\n",
      "96: Data Load Finish, Predict Finish, 10.9741 10.9684 0.1533 0.8466 Evaluation Finish\n",
      "97: Data Load Finish, Predict Finish, 2.4714 2.4006 0.0335 0.9654 Evaluation Finish\n",
      "98: Data Load Finish, Predict Finish, 10.0584 10.0523 0.1405 0.8594 Evaluation Finish\n",
      "99: Data Load Finish, Predict Finish, 2.2671 2.2149 0.0309 0.9683 Evaluation Finish\n",
      "100: Data Load Finish, Predict Finish, 4.9426 4.8898 0.0683 0.9309 Evaluation Finish\n",
      "101: Data Load Finish, Predict Finish, 5.7606 5.7466 0.0803 0.9195 Evaluation Finish\n",
      "102: Data Load Finish, Predict Finish, 1.0711 0.858 0.012 0.985 Evaluation Finish\n",
      "103: Data Load Finish, Predict Finish, 3.3413 3.315 0.0463 0.9533 Evaluation Finish\n",
      "104: Data Load Finish, Predict Finish, 9.1291 9.0943 0.1271 0.8724 Evaluation Finish\n",
      "105: Data Load Finish, Predict Finish, 2.7084 2.6805 0.0375 0.9621 Evaluation Finish\n",
      "106: Data Load Finish, Predict Finish, 5.0233 5.0034 0.0699 0.9298 Evaluation Finish\n",
      "107: Data Load Finish, Predict Finish, 1.6103 1.5584 0.0218 0.9775 Evaluation Finish\n",
      "108: Data Load Finish, Predict Finish, 3.3999 3.3752 0.0472 0.9525 Evaluation Finish\n",
      "109: Data Load Finish, Predict Finish, 0.7177 0.5252 0.0073 0.99 Evaluation Finish\n",
      "110: Data Load Finish, Predict Finish, 4.9342 4.9187 0.0688 0.931 Evaluation Finish\n",
      "111: Data Load Finish, Predict Finish, 3.7713 3.7549 0.0525 0.9473 Evaluation Finish\n",
      "112: Data Load Finish, Predict Finish, 2.4001 2.3605 0.033 0.9664 Evaluation Finish\n",
      "113: Data Load Finish, Predict Finish, 4.9849 4.9681 0.0694 0.9303 Evaluation Finish\n",
      "114: Data Load Finish, Predict Finish, 4.7973 4.7796 0.0668 0.9329 Evaluation Finish\n",
      "115: Data Load Finish, Predict Finish, 9.2342 9.2273 0.129 0.8709 Evaluation Finish\n",
      "116: Data Load Finish, Predict Finish, 9.9912 9.9845 0.1396 0.8603 Evaluation Finish\n",
      "117: Data Load Finish, Predict Finish, 3.9977 3.9827 0.0557 0.9441 Evaluation Finish\n",
      "118: Data Load Finish, Predict Finish, 2.1829 2.1275 0.0297 0.9695 Evaluation Finish\n",
      "119: Data Load Finish, Predict Finish, 3.5718 3.5495 0.0496 0.9501 Evaluation Finish\n",
      "120: Data Load Finish, Predict Finish, 4.2077 4.1845 0.0585 0.9412 Evaluation Finish\n",
      "121: Data Load Finish, Predict Finish, 6.46 6.4473 0.0901 0.9097 Evaluation Finish\n",
      "122: Data Load Finish, Predict Finish, 3.6907 3.6656 0.0512 0.9484 Evaluation Finish\n",
      "123: Data Load Finish, "
     ]
    },
    {
     "name": "stderr",
     "output_type": "stream",
     "text": [
      "/home/vislab/anaconda3/envs/cctv/lib/python3.7/site-packages/pandas/core/arraylike.py:364: RuntimeWarning: divide by zero encountered in log\n",
      "  result = getattr(ufunc, method)(*inputs, **kwargs)\n",
      "/home/vislab/anaconda3/envs/cctv/lib/python3.7/site-packages/statsmodels/base/model.py:606: ConvergenceWarning: Maximum Likelihood optimization failed to converge. Check mle_retvals\n",
      "  ConvergenceWarning)\n"
     ]
    },
    {
     "name": "stdout",
     "output_type": "stream",
     "text": [
      "Predict Finish, 70.5231 70.5222 0.986 0.014 Evaluation Finish\n",
      "124: Data Load Finish, Predict Finish, 2.4954 2.4658 0.0345 0.9651 Evaluation Finish\n",
      "125: Data Load Finish, Predict Finish, 7.0088 6.9971 0.0978 0.902 Evaluation Finish\n",
      "126: Data Load Finish, Predict Finish, 8.3198 8.3114 0.1162 0.8837 Evaluation Finish\n",
      "127: Data Load Finish, Predict Finish, 8.0817 8.0734 0.1129 0.887 Evaluation Finish\n",
      "128: Data Load Finish, Predict Finish, 4.9864 4.9649 0.0694 0.9303 Evaluation Finish\n",
      "129: Data Load Finish, Predict Finish, 4.1622 4.143 0.0579 0.9418 Evaluation Finish\n",
      "130: Data Load Finish, Predict Finish, 4.2356 4.2057 0.0588 0.9408 Evaluation Finish\n",
      "131: Data Load Finish, Predict Finish, 5.1254 5.1119 0.0715 0.9283 Evaluation Finish\n",
      "132: Data Load Finish, Predict Finish, 3.8942 3.8526 0.0538 0.9456 Evaluation Finish\n",
      "133: Data Load Finish, Predict Finish, 9.6193 9.5872 0.134 0.8655 Evaluation Finish\n",
      "134: Data Load Finish, Predict Finish, 5.5283 5.4462 0.0761 0.9227 Evaluation Finish\n",
      "135: Data Load Finish, Predict Finish, 5.8316 5.814 0.0813 0.9185 Evaluation Finish\n",
      "136: Data Load Finish, Predict Finish, 0.5442 0.399 0.0056 0.9924 Evaluation Finish\n",
      "137: Data Load Finish, Predict Finish, 4.203 4.1851 0.0585 0.9412 Evaluation Finish\n",
      "138: Data Load Finish, Predict Finish, 5.6514 5.6302 0.0787 0.921 Evaluation Finish\n",
      "139: Data Load Finish, Predict Finish, 6.0003 5.9899 0.0837 0.9161 Evaluation Finish\n",
      "140: Data Load Finish, Predict Finish, 5.7373 5.7263 0.08 0.9198 Evaluation Finish\n",
      "141: Data Load Finish, Predict Finish, 1.5645 1.507 0.021 0.9781 Evaluation Finish\n",
      "142: Data Load Finish, Predict Finish, 1.0149 0.9226 0.0129 0.9858 Evaluation Finish\n",
      "143: Data Load Finish, Predict Finish, 4.408 4.3927 0.0614 0.9384 Evaluation Finish\n",
      "144: Data Load Finish, Predict Finish, 5.0204 5.0007 0.0699 0.9298 Evaluation Finish\n",
      "145: Data Load Finish, Predict Finish, 6.885 6.8752 0.0961 0.9037 Evaluation Finish\n",
      "146: Data Load Finish, Predict Finish, 8.4707 8.425 0.1178 0.8816 Evaluation Finish\n",
      "147: Data Load Finish, Predict Finish, 7.6454 7.637 0.1068 0.8931 Evaluation Finish\n",
      "148: Data Load Finish, "
     ]
    },
    {
     "name": "stderr",
     "output_type": "stream",
     "text": [
      "/home/vislab/anaconda3/envs/cctv/lib/python3.7/site-packages/statsmodels/base/model.py:606: ConvergenceWarning: Maximum Likelihood optimization failed to converge. Check mle_retvals\n",
      "  ConvergenceWarning)\n"
     ]
    },
    {
     "name": "stdout",
     "output_type": "stream",
     "text": [
      "Predict Finish, 3.9977 3.9827 0.0557 0.9441 Evaluation Finish\n",
      "149: Data Load Finish, Predict Finish, 6.6852 6.6727 0.0933 0.9065 Evaluation Finish\n",
      "150: Data Load Finish, Predict Finish, 4.345 4.3271 0.0605 0.9393 Evaluation Finish\n",
      "151: Data Load Finish, Predict Finish, 6.2413 6.2228 0.087 0.9127 Evaluation Finish\n",
      "152: Data Load Finish, "
     ]
    },
    {
     "name": "stderr",
     "output_type": "stream",
     "text": [
      "/home/vislab/anaconda3/envs/cctv/lib/python3.7/site-packages/statsmodels/base/model.py:606: ConvergenceWarning: Maximum Likelihood optimization failed to converge. Check mle_retvals\n",
      "  ConvergenceWarning)\n"
     ]
    },
    {
     "name": "stdout",
     "output_type": "stream",
     "text": [
      "Predict Finish, 14.504 14.4967 0.2027 0.7972 Evaluation Finish\n",
      "153: Data Load Finish, Predict Finish, 4.5887 4.5728 0.0639 0.9358 Evaluation Finish\n",
      "154: Data Load Finish, Predict Finish, 3.4054 3.3835 0.0473 0.9524 Evaluation Finish\n",
      "155: Data Load Finish, Predict Finish, 6.2471 6.2368 0.0872 0.9127 Evaluation Finish\n",
      "156: Data Load Finish, Predict Finish, 2.3262 2.2968 0.0321 0.9675 Evaluation Finish\n",
      "157: Data Load Finish, Predict Finish, 3.1076 3.068 0.0429 0.9566 Evaluation Finish\n",
      "158: Data Load Finish, Predict Finish, 5.5228 5.493 0.0768 0.9228 Evaluation Finish\n",
      "159: Data Load Finish, Predict Finish, 10.0829 10.0739 0.1408 0.859 Evaluation Finish\n",
      "160: Data Load Finish, Predict Finish, 7.7791 7.7714 0.1086 0.8912 Evaluation Finish\n",
      "161: Data Load Finish, Predict Finish, 8.2055 8.1971 0.1146 0.8853 Evaluation Finish\n",
      "162: Data Load Finish, Predict Finish, 9.689 9.6813 0.1353 0.8645 Evaluation Finish\n",
      "163: Data Load Finish, Predict Finish, 5.8369 5.8195 0.0813 0.9184 Evaluation Finish\n",
      "164: Data Load Finish, Predict Finish, 3.6057 3.5806 0.05 0.9496 Evaluation Finish\n",
      "165: Data Load Finish, Predict Finish, 0.5569 0.4116 0.0057 0.9922 Evaluation Finish\n",
      "166: Data Load Finish, Predict Finish, 4.8481 4.8318 0.0675 0.9322 Evaluation Finish\n",
      "167: Data Load Finish, Predict Finish, 8.908 8.9003 0.1244 0.8755 Evaluation Finish\n",
      "168: Data Load Finish, Predict Finish, 3.1371 3.0965 0.0433 0.9561 Evaluation Finish\n",
      "169: Data Load Finish, Predict Finish, 5.7319 5.7052 0.0797 0.9199 Evaluation Finish\n",
      "170: Data Load Finish, Predict Finish, 5.3794 5.3595 0.0749 0.9248 Evaluation Finish\n",
      "171: Data Load Finish, Predict Finish, 7.7053 7.6971 0.1076 0.8923 Evaluation Finish\n",
      "172: Data Load Finish, Predict Finish, 2.5633 2.5358 0.0354 0.9642 Evaluation Finish\n",
      "173: Data Load Finish, Predict Finish, 3.2725 3.2505 0.0454 0.9542 Evaluation Finish\n",
      "174: Data Load Finish, Predict Finish, 0.9095 0.7281 0.0102 0.9873 Evaluation Finish\n",
      "175: Data Load Finish, Predict Finish, 2.6401 2.6074 0.0364 0.9631 Evaluation Finish\n",
      "176: Data Load Finish, Predict Finish, 9.2501 9.2377 0.1291 0.8707 Evaluation Finish\n",
      "177: Data Load Finish, Predict Finish, 4.0745 4.0598 0.0567 0.943 Evaluation Finish\n",
      "178: Data Load Finish, Predict Finish, 2.2014 2.1462 0.03 0.9692 Evaluation Finish\n",
      "179: Data Load Finish, "
     ]
    },
    {
     "name": "stderr",
     "output_type": "stream",
     "text": [
      "/home/vislab/anaconda3/envs/cctv/lib/python3.7/site-packages/pandas/core/arraylike.py:364: RuntimeWarning: divide by zero encountered in log\n",
      "  result = getattr(ufunc, method)(*inputs, **kwargs)\n",
      "/home/vislab/anaconda3/envs/cctv/lib/python3.7/site-packages/statsmodels/base/model.py:606: ConvergenceWarning: Maximum Likelihood optimization failed to converge. Check mle_retvals\n",
      "  ConvergenceWarning)\n"
     ]
    },
    {
     "name": "stdout",
     "output_type": "stream",
     "text": [
      "Predict Finish, 70.5231 70.5222 0.986 0.014 Evaluation Finish\n",
      "180: Data Load Finish, Predict Finish, 3.0694 3.0316 0.0424 0.9571 Evaluation Finish\n",
      "181: Data Load Finish, Predict Finish, 4.8324 4.8183 0.0673 0.9324 Evaluation Finish\n",
      "182: Data Load Finish, Predict Finish, 4.1634 4.1439 0.0579 0.9418 Evaluation Finish\n",
      "183: Data Load Finish, "
     ]
    },
    {
     "name": "stderr",
     "output_type": "stream",
     "text": [
      "/home/vislab/anaconda3/envs/cctv/lib/python3.7/site-packages/statsmodels/base/model.py:606: ConvergenceWarning: Maximum Likelihood optimization failed to converge. Check mle_retvals\n",
      "  ConvergenceWarning)\n"
     ]
    },
    {
     "name": "stdout",
     "output_type": "stream",
     "text": [
      "Predict Finish, 5.8831 5.8559 0.0819 0.9177 Evaluation Finish\n",
      "184: Data Load Finish, Predict Finish, 6.7685 6.7589 0.0945 0.9054 Evaluation Finish\n",
      "185: Data Load Finish, Predict Finish, 5.3694 5.3532 0.0748 0.9249 Evaluation Finish\n",
      "186: Data Load Finish, Predict Finish, 3.7161 3.6899 0.0516 0.948 Evaluation Finish\n",
      "187: Data Load Finish, Predict Finish, 3.4596 3.4365 0.048 0.9516 Evaluation Finish\n",
      "188: Data Load Finish, "
     ]
    },
    {
     "name": "stderr",
     "output_type": "stream",
     "text": [
      "/home/vislab/anaconda3/envs/cctv/lib/python3.7/site-packages/pandas/core/arraylike.py:364: RuntimeWarning: divide by zero encountered in log\n",
      "  result = getattr(ufunc, method)(*inputs, **kwargs)\n",
      "/home/vislab/anaconda3/envs/cctv/lib/python3.7/site-packages/statsmodels/base/model.py:606: ConvergenceWarning: Maximum Likelihood optimization failed to converge. Check mle_retvals\n",
      "  ConvergenceWarning)\n"
     ]
    },
    {
     "name": "stdout",
     "output_type": "stream",
     "text": [
      "Predict Finish, 70.5231 70.5222 0.986 0.014 Evaluation Finish\n",
      "189: Data Load Finish, Predict Finish, 2.7609 2.7195 0.038 0.9614 Evaluation Finish\n",
      "190: Data Load Finish, Predict Finish, 3.0202 2.9953 0.0419 0.9578 Evaluation Finish\n",
      "191: Data Load Finish, Predict Finish, 4.2884 4.2693 0.0597 0.94 Evaluation Finish\n",
      "192: Data Load Finish, Predict Finish, 5.5145 5.4991 0.0769 0.9229 Evaluation Finish\n",
      "193: Data Load Finish, Predict Finish, 2.2108 2.1802 0.0305 0.9691 Evaluation Finish\n",
      "194: Data Load Finish, Predict Finish, 4.5321 4.51 0.063 0.9366 Evaluation Finish\n",
      "195: Data Load Finish, Predict Finish, 5.5487 5.5343 0.0774 0.9224 Evaluation Finish\n",
      "196: Data Load Finish, Predict Finish, 2.988 2.9602 0.0414 0.9582 Evaluation Finish\n",
      "197: Data Load Finish, Predict Finish, 4.6191 4.6025 0.0643 0.9354 Evaluation Finish\n",
      "198: Data Load Finish, Predict Finish, 5.5666 5.5138 0.0771 0.9222 Evaluation Finish\n",
      "199: Data Load Finish, Predict Finish, 2.6067 2.5539 0.0357 0.9636 Evaluation Finish\n",
      "200: Data Load Finish, Predict Finish, 7.4723 7.4625 0.1043 0.8955 Evaluation Finish\n",
      "201: Data Load Finish, Predict Finish, 4.6326 4.6073 0.0644 0.9352 Evaluation Finish\n",
      "202: Data Load Finish, Predict Finish, 7.489 7.4782 0.1045 0.8953 Evaluation Finish\n",
      "203: Data Load Finish, Predict Finish, 8.0459 8.0359 0.1123 0.8875 Evaluation Finish\n",
      "204: Data Load Finish, Predict Finish, 8.075 8.067 0.1128 0.8871 Evaluation Finish\n",
      "205: Data Load Finish, Predict Finish, 9.1651 9.1579 0.128 0.8719 Evaluation Finish\n",
      "206: Data Load Finish, "
     ]
    },
    {
     "name": "stderr",
     "output_type": "stream",
     "text": [
      "/home/vislab/anaconda3/envs/cctv/lib/python3.7/site-packages/pandas/core/arraylike.py:364: RuntimeWarning: divide by zero encountered in log\n",
      "  result = getattr(ufunc, method)(*inputs, **kwargs)\n",
      "/home/vislab/anaconda3/envs/cctv/lib/python3.7/site-packages/statsmodels/base/model.py:606: ConvergenceWarning: Maximum Likelihood optimization failed to converge. Check mle_retvals\n",
      "  ConvergenceWarning)\n"
     ]
    },
    {
     "name": "stdout",
     "output_type": "stream",
     "text": [
      "Predict Finish, 70.5231 70.5222 0.986 0.014 Evaluation Finish\n",
      "207: Data Load Finish, Predict Finish, 3.2983 3.2452 0.0454 0.9539 Evaluation Finish\n",
      "208: Data Load Finish, Predict Finish, 9.9174 9.911 0.1386 0.8613 Evaluation Finish\n",
      "209: Data Load Finish, "
     ]
    },
    {
     "name": "stderr",
     "output_type": "stream",
     "text": [
      "/home/vislab/anaconda3/envs/cctv/lib/python3.7/site-packages/pandas/core/arraylike.py:364: RuntimeWarning: divide by zero encountered in log\n",
      "  result = getattr(ufunc, method)(*inputs, **kwargs)\n",
      "/home/vislab/anaconda3/envs/cctv/lib/python3.7/site-packages/statsmodels/base/model.py:606: ConvergenceWarning: Maximum Likelihood optimization failed to converge. Check mle_retvals\n",
      "  ConvergenceWarning)\n"
     ]
    },
    {
     "name": "stdout",
     "output_type": "stream",
     "text": [
      "Predict Finish, 70.5231 70.5222 0.986 0.014 Evaluation Finish\n",
      "210: Data Load Finish, Predict Finish, 6.8571 6.8454 0.0957 0.9041 Evaluation Finish\n",
      "211: Data Load Finish, Predict Finish, 7.0505 7.0418 0.0984 0.9014 Evaluation Finish\n",
      "212: Data Load Finish, "
     ]
    },
    {
     "name": "stderr",
     "output_type": "stream",
     "text": [
      "/home/vislab/anaconda3/envs/cctv/lib/python3.7/site-packages/statsmodels/base/model.py:606: ConvergenceWarning: Maximum Likelihood optimization failed to converge. Check mle_retvals\n",
      "  ConvergenceWarning)\n"
     ]
    },
    {
     "name": "stdout",
     "output_type": "stream",
     "text": [
      "Predict Finish, 5.4314 5.4192 0.0757 0.9241 Evaluation Finish\n",
      "213: Data Load Finish, "
     ]
    },
    {
     "name": "stderr",
     "output_type": "stream",
     "text": [
      "/home/vislab/anaconda3/envs/cctv/lib/python3.7/site-packages/pandas/core/arraylike.py:364: RuntimeWarning: divide by zero encountered in log\n",
      "  result = getattr(ufunc, method)(*inputs, **kwargs)\n",
      "/home/vislab/anaconda3/envs/cctv/lib/python3.7/site-packages/statsmodels/base/model.py:606: ConvergenceWarning: Maximum Likelihood optimization failed to converge. Check mle_retvals\n",
      "  ConvergenceWarning)\n"
     ]
    },
    {
     "name": "stdout",
     "output_type": "stream",
     "text": [
      "Predict Finish, 70.5231 70.5222 0.986 0.014 Evaluation Finish\n",
      "214: Data Load Finish, Predict Finish, 6.7118 6.7004 0.0937 0.9062 Evaluation Finish\n",
      "215: Data Load Finish, Predict Finish, 8.5015 8.4937 0.1187 0.8811 Evaluation Finish\n",
      "216: Data Load Finish, Predict Finish, 5.3056 5.2915 0.074 0.9258 Evaluation Finish\n",
      "217: Data Load Finish, Predict Finish, 5.1718 5.1576 0.0721 0.9277 Evaluation Finish\n",
      "218: Data Load Finish, Predict Finish, 6.7431 6.7335 0.0941 0.9057 Evaluation Finish\n",
      "219: Data Load Finish, Predict Finish, 5.6491 5.6365 0.0788 0.921 Evaluation Finish\n",
      "220: Data Load Finish, "
     ]
    },
    {
     "name": "stderr",
     "output_type": "stream",
     "text": [
      "/home/vislab/anaconda3/envs/cctv/lib/python3.7/site-packages/pandas/core/arraylike.py:364: RuntimeWarning: divide by zero encountered in log\n",
      "  result = getattr(ufunc, method)(*inputs, **kwargs)\n",
      "/home/vislab/anaconda3/envs/cctv/lib/python3.7/site-packages/statsmodels/base/model.py:606: ConvergenceWarning: Maximum Likelihood optimization failed to converge. Check mle_retvals\n",
      "  ConvergenceWarning)\n"
     ]
    },
    {
     "name": "stdout",
     "output_type": "stream",
     "text": [
      "Predict Finish, 70.5231 70.5222 0.986 0.014 Evaluation Finish\n",
      "221: Data Load Finish, Predict Finish, 7.6627 7.6542 0.107 0.8929 Evaluation Finish\n",
      "222: Data Load Finish, Predict Finish, 6.8368 6.8279 0.0954 0.9044 Evaluation Finish\n",
      "223: Data Load Finish, Predict Finish, 7.5571 7.5484 0.1055 0.8943 Evaluation Finish\n",
      "224: Data Load Finish, Predict Finish, 6.9624 6.951 0.0972 0.9027 Evaluation Finish\n",
      "225: Data Load Finish, Predict Finish, 7.5027 7.4936 0.1048 0.8951 Evaluation Finish\n",
      "226: Data Load Finish, Predict Finish, 4.2442 4.213 0.0589 0.9407 Evaluation Finish\n",
      "227: Data Load Finish, Predict Finish, 4.2064 4.172 0.0583 0.9412 Evaluation Finish\n",
      "228: Data Load Finish, Predict Finish, 3.3899 3.3645 0.047 0.9526 Evaluation Finish\n",
      "229: Data Load Finish, Predict Finish, 6.6625 6.6517 0.093 0.9068 Evaluation Finish\n",
      "230: Data Load Finish, Predict Finish, 1.1597 1.0529 0.0147 0.9838 Evaluation Finish\n",
      "231: Data Load Finish, Predict Finish, 10.2716 10.2638 0.1435 0.8564 Evaluation Finish\n",
      "232: Data Load Finish, Predict Finish, 2.2656 2.2253 0.0311 0.9683 Evaluation Finish\n",
      "233: Data Load Finish, Predict Finish, 0.484 0.3781 0.0053 0.9932 Evaluation Finish\n",
      "234: Data Load Finish, Predict Finish, 3.8002 3.6848 0.0515 0.9469 Evaluation Finish\n",
      "235: Data Load Finish, Predict Finish, 4.4199 4.3971 0.0615 0.9382 Evaluation Finish\n",
      "236: Data Load Finish, Predict Finish, 4.2133 4.1952 0.0586 0.9411 Evaluation Finish\n",
      "237: Data Load Finish, Predict Finish, 3.189 3.1643 0.0442 0.9554 Evaluation Finish\n",
      "238: Data Load Finish, Predict Finish, 7.2915 7.2829 0.1018 0.8981 Evaluation Finish\n",
      "239: Data Load Finish, Predict Finish, 5.699 5.6873 0.0795 0.9203 Evaluation Finish\n",
      "240: Data Load Finish, Predict Finish, 7.7379 7.7301 0.1081 0.8918 Evaluation Finish\n",
      "241: Data Load Finish, Predict Finish, 10.2555 10.2492 0.1433 0.8566 Evaluation Finish\n",
      "242: Data Load Finish, Predict Finish, 3.5764 3.5591 0.0497 0.95 Evaluation Finish\n",
      "243: Data Load Finish, Predict Finish, 6.184 6.1613 0.0861 0.9135 Evaluation Finish\n",
      "244: Data Load Finish, Predict Finish, 5.7473 5.7334 0.0801 0.9196 Evaluation Finish\n",
      "245: Data Load Finish, Predict Finish, 4.1127 4.0905 0.0572 0.9425 Evaluation Finish\n",
      "246: Data Load Finish, Predict Finish, 6.6737 6.6639 0.0932 0.9067 Evaluation Finish\n",
      "247: Data Load Finish, "
     ]
    },
    {
     "name": "stderr",
     "output_type": "stream",
     "text": [
      "/home/vislab/anaconda3/envs/cctv/lib/python3.7/site-packages/statsmodels/base/model.py:606: ConvergenceWarning: Maximum Likelihood optimization failed to converge. Check mle_retvals\n",
      "  ConvergenceWarning)\n"
     ]
    },
    {
     "name": "stdout",
     "output_type": "stream",
     "text": [
      "Predict Finish, 6.7663 6.7556 0.0944 0.9054 Evaluation Finish\n",
      "248: Data Load Finish, Predict Finish, 3.4761 3.4465 0.0482 0.9514 Evaluation Finish\n",
      "249: Data Load Finish, Predict Finish, 7.9109 7.9022 0.1105 0.8894 Evaluation Finish\n",
      "250: Data Load Finish, Predict Finish, 4.3478 4.3207 0.0604 0.9392 Evaluation Finish\n",
      "251: Data Load Finish, Predict Finish, 7.8344 7.8245 0.1094 0.8905 Evaluation Finish\n",
      "252: Data Load Finish, Predict Finish, 7.286 7.2775 0.1017 0.8981 Evaluation Finish\n",
      "253: Data Load Finish, Predict Finish, 0.7155 0.6577 0.0092 0.99 Evaluation Finish\n",
      "254: Data Load Finish, Predict Finish, 3.4421 3.3926 0.0474 0.9519 Evaluation Finish\n",
      "255: Data Load Finish, Predict Finish, 6.9493 6.9405 0.097 0.9028 Evaluation Finish\n",
      "256: Data Load Finish, Predict Finish, 5.8175 5.8027 0.0811 0.9187 Evaluation Finish\n",
      "257: Data Load Finish, Predict Finish, 0.7538 0.6082 0.0085 0.9895 Evaluation Finish\n",
      "258: Data Load Finish, Predict Finish, 3.2092 3.1768 0.0444 0.9551 Evaluation Finish\n",
      "259: Data Load Finish, Predict Finish, 5.5981 5.5874 0.0781 0.9217 Evaluation Finish\n",
      "260: Data Load Finish, Predict Finish, 4.3353 4.3214 0.0604 0.9394 Evaluation Finish\n",
      "261: Data Load Finish, Predict Finish, 3.691 3.6693 0.0513 0.9484 Evaluation Finish\n",
      "262: Data Load Finish, Predict Finish, 3.4255 3.4036 0.0476 0.9521 Evaluation Finish\n",
      "263: Data Load Finish, Predict Finish, 5.4827 5.469 0.0764 0.9233 Evaluation Finish\n",
      "264: Data Load Finish, Predict Finish, 4.7031 4.6873 0.0655 0.9342 Evaluation Finish\n",
      "265: Data Load Finish, Predict Finish, 4.6839 4.6684 0.0653 0.9345 Evaluation Finish\n",
      "266: Data Load Finish, Predict Finish, 3.9148 3.896 0.0545 0.9453 Evaluation Finish\n",
      "267: Data Load Finish, Predict Finish, 4.2549 4.2399 0.0593 0.9405 Evaluation Finish\n",
      "268: Data Load Finish, Predict Finish, 5.073 5.0256 0.0702 0.9291 Evaluation Finish\n",
      "269: Data Load Finish, Predict Finish, 4.1763 4.1542 0.0581 0.9416 Evaluation Finish\n",
      "270: Data Load Finish, Predict Finish, 3.9898 3.963 0.0554 0.9442 Evaluation Finish\n",
      "271: Data Load Finish, Predict Finish, 3.6364 3.6095 0.0504 0.9492 Evaluation Finish\n",
      "272: Data Load Finish, Predict Finish, 2.3236 2.2296 0.0312 0.9675 Evaluation Finish\n",
      "273: Data Load Finish, Predict Finish, 6.4705 6.4582 0.0903 0.9095 Evaluation Finish\n",
      "274: Data Load Finish, Predict Finish, 3.1727 3.1228 0.0436 0.9556 Evaluation Finish\n",
      "275: Data Load Finish, Predict Finish, 3.4377 3.3497 0.0468 0.9519 Evaluation Finish\n",
      "276: Data Load Finish, "
     ]
    },
    {
     "name": "stderr",
     "output_type": "stream",
     "text": [
      "/home/vislab/anaconda3/envs/cctv/lib/python3.7/site-packages/pandas/core/arraylike.py:364: RuntimeWarning: divide by zero encountered in log\n",
      "  result = getattr(ufunc, method)(*inputs, **kwargs)\n",
      "/home/vislab/anaconda3/envs/cctv/lib/python3.7/site-packages/statsmodels/base/model.py:606: ConvergenceWarning: Maximum Likelihood optimization failed to converge. Check mle_retvals\n",
      "  ConvergenceWarning)\n"
     ]
    },
    {
     "name": "stdout",
     "output_type": "stream",
     "text": [
      "Predict Finish, 70.5231 70.5222 0.986 0.014 Evaluation Finish\n",
      "277: Data Load Finish, Predict Finish, 2.3252 2.2626 0.0316 0.9675 Evaluation Finish\n",
      "278: Data Load Finish, Predict Finish, 5.4384 5.4238 0.0758 0.924 Evaluation Finish\n",
      "279: Data Load Finish, Predict Finish, 3.2418 3.2005 0.0447 0.9547 Evaluation Finish\n",
      "280: Data Load Finish, Predict Finish, 3.2718 3.2355 0.0452 0.9543 Evaluation Finish\n",
      "281: Data Load Finish, Predict Finish, 1.7901 1.7306 0.0242 0.975 Evaluation Finish\n",
      "282: Data Load Finish, Predict Finish, 4.8253 4.8022 0.0671 0.9325 Evaluation Finish\n",
      "283: Data Load Finish, Predict Finish, 13.8177 13.8088 0.1931 0.8068 Evaluation Finish\n",
      "284: Data Load Finish, Predict Finish, 3.6641 3.385 0.0473 0.9488 Evaluation Finish\n",
      "285: Data Load Finish, Predict Finish, 2.5185 2.4611 0.0344 0.9648 Evaluation Finish\n",
      "286: Data Load Finish, Predict Finish, 3.4848 3.4578 0.0483 0.9513 Evaluation Finish\n",
      "287: Data Load Finish, Predict Finish, 3.925 3.8661 0.054 0.9451 Evaluation Finish\n",
      "288: Data Load Finish, Predict Finish, 4.3817 4.3651 0.061 0.9387 Evaluation Finish\n",
      "289: Data Load Finish, Predict Finish, 5.6879 5.6732 0.0793 0.9205 Evaluation Finish\n",
      "290: Data Load Finish, Predict Finish, 3.1099 3.0786 0.043 0.9565 Evaluation Finish\n",
      "291: Data Load Finish, Predict Finish, 7.5134 7.5021 0.1049 0.895 Evaluation Finish\n",
      "292: Data Load Finish, Predict Finish, 7.6561 7.3419 0.1026 0.893 Evaluation Finish\n",
      "293: Data Load Finish, Predict Finish, 8.2406 8.1626 0.1141 0.8848 Evaluation Finish\n",
      "294: Data Load Finish, Predict Finish, 4.2594 4.238 0.0592 0.9404 Evaluation Finish\n",
      "295: Data Load Finish, Predict Finish, 8.6128 8.593 0.1201 0.8796 Evaluation Finish\n",
      "296: Data Load Finish, Predict Finish, 5.3153 5.3024 0.0741 0.9257 Evaluation Finish\n",
      "297: Data Load Finish, Predict Finish, 5.7722 5.7595 0.0805 0.9193 Evaluation Finish\n",
      "298: Data Load Finish, Predict Finish, 2.9429 2.9131 0.0407 0.9589 Evaluation Finish\n",
      "299: Data Load Finish, Predict Finish, 3.7437 3.7164 0.0519 0.9477 Evaluation Finish\n",
      "300: Data Load Finish, Predict Finish, 4.5261 4.4973 0.0629 0.9367 Evaluation Finish\n",
      "301: Data Load Finish, Predict Finish, 7.1928 7.1813 0.1004 0.8994 Evaluation Finish\n",
      "302: Data Load Finish, Predict Finish, 5.6904 5.6649 0.0792 0.9204 Evaluation Finish\n",
      "303: Data Load Finish, Predict Finish, 6.4498 6.4285 0.0899 0.9098 Evaluation Finish\n",
      "304: Data Load Finish, Predict Finish, 5.2555 5.2177 0.0729 0.9265 Evaluation Finish\n",
      "305: Data Load Finish, Predict Finish, 6.378 6.3533 0.0888 0.9108 Evaluation Finish\n",
      "306: Data Load Finish, Predict Finish, 4.1793 4.162 0.0582 0.9416 Evaluation Finish\n",
      "307: Data Load Finish, Predict Finish, 6.0632 6.0431 0.0845 0.9152 Evaluation Finish\n",
      "308: Data Load Finish, Predict Finish, 9.7666 9.7105 0.1358 0.8634 Evaluation Finish\n",
      "309: Data Load Finish, Predict Finish, 3.8667 3.8482 0.0538 0.9459 Evaluation Finish\n",
      "310: Data Load Finish, Predict Finish, 6.4198 6.4041 0.0895 0.9102 Evaluation Finish\n",
      "311: Data Load Finish, Predict Finish, 3.577 3.5565 0.0497 0.95 Evaluation Finish\n",
      "312: Data Load Finish, Predict Finish, 3.7515 3.728 0.0521 0.9475 Evaluation Finish\n",
      "313: Data Load Finish, Predict Finish, 5.0228 4.9899 0.0697 0.9298 Evaluation Finish\n",
      "314: Data Load Finish, Predict Finish, 5.4825 5.4694 0.0764 0.9233 Evaluation Finish\n",
      "315: Data Load Finish, Predict Finish, 6.1214 6.1117 0.0854 0.9144 Evaluation Finish\n",
      "316: Data Load Finish, Predict Finish, 5.4168 5.4029 0.0755 0.9243 Evaluation Finish\n",
      "317: Data Load Finish, Predict Finish, 7.4183 7.4102 0.1036 0.8963 Evaluation Finish\n",
      "318: Data Load Finish, Predict Finish, 11.0388 11.0334 0.1542 0.8457 Evaluation Finish\n",
      "319: Data Load Finish, Predict Finish, 3.2809 3.2539 0.0455 0.9541 Evaluation Finish\n",
      "320: Data Load Finish, Predict Finish, 8.0357 8.0245 0.1122 0.8876 Evaluation Finish\n",
      "321: Data Load Finish, Predict Finish, 2.3925 2.3625 0.033 0.9665 Evaluation Finish\n",
      "322: Data Load Finish, Predict Finish, 3.4066 3.379 0.0472 0.9524 Evaluation Finish\n",
      "323: Data Load Finish, Predict Finish, 0.9468 0.7859 0.011 0.9868 Evaluation Finish\n",
      "324: Data Load Finish, Predict Finish, 3.4904 3.4559 0.0483 0.9512 Evaluation Finish\n",
      "RMSE: 8.5244642509849, MAE: 8.497023186331143, MAPE: 0.11878300474586455\n",
      "ACC: 0.8808151590653545\n"
     ]
    }
   ],
   "source": [
    "predictARIMA(df, idx, 9)"
   ]
  },
  {
   "cell_type": "markdown",
   "id": "dcb35d64",
   "metadata": {},
   "source": [
    "### Unobserved Nodes = 10%"
   ]
  },
  {
   "cell_type": "code",
   "execution_count": 12,
   "id": "83ad788d",
   "metadata": {},
   "outputs": [
    {
     "name": "stdout",
     "output_type": "stream",
     "text": [
      "52116 325\n"
     ]
    },
    {
     "data": {
      "text/plain": [
       "1667712"
      ]
     },
     "execution_count": 12,
     "metadata": {},
     "output_type": "execute_result"
    }
   ],
   "source": [
    "df, idx = csvIndexToDatetime(path_10, start, freq)\n",
    "(df == 0).sum().sum()"
   ]
  },
  {
   "cell_type": "code",
   "execution_count": 13,
   "id": "010ff399",
   "metadata": {
    "scrolled": false
   },
   "outputs": [
    {
     "name": "stdout",
     "output_type": "stream",
     "text": [
      "0: Data Load Finish, "
     ]
    },
    {
     "name": "stderr",
     "output_type": "stream",
     "text": [
      "/home/vislab/anaconda3/envs/cctv/lib/python3.7/site-packages/pandas/core/arraylike.py:364: RuntimeWarning: divide by zero encountered in log\n",
      "  result = getattr(ufunc, method)(*inputs, **kwargs)\n",
      "/home/vislab/anaconda3/envs/cctv/lib/python3.7/site-packages/statsmodels/base/model.py:606: ConvergenceWarning: Maximum Likelihood optimization failed to converge. Check mle_retvals\n",
      "  ConvergenceWarning)\n"
     ]
    },
    {
     "name": "stdout",
     "output_type": "stream",
     "text": [
      "Predict Finish, 70.5231 70.5222 0.986 0.014 Evaluation Finish\n",
      "1: Data Load Finish, Predict Finish, 6.1456 6.1339 0.0857 0.9141 Evaluation Finish\n",
      "2: Data Load Finish, Predict Finish, 4.4655 4.402 0.0615 0.9376 Evaluation Finish\n",
      "3: Data Load Finish, Predict Finish, 11.0191 11.0135 0.154 0.8459 Evaluation Finish\n",
      "4: Data Load Finish, Predict Finish, 10.1645 10.1584 0.142 0.8579 Evaluation Finish\n",
      "5: Data Load Finish, "
     ]
    },
    {
     "name": "stderr",
     "output_type": "stream",
     "text": [
      "/home/vislab/anaconda3/envs/cctv/lib/python3.7/site-packages/pandas/core/arraylike.py:364: RuntimeWarning: divide by zero encountered in log\n",
      "  result = getattr(ufunc, method)(*inputs, **kwargs)\n",
      "/home/vislab/anaconda3/envs/cctv/lib/python3.7/site-packages/statsmodels/base/model.py:606: ConvergenceWarning: Maximum Likelihood optimization failed to converge. Check mle_retvals\n",
      "  ConvergenceWarning)\n"
     ]
    },
    {
     "name": "stdout",
     "output_type": "stream",
     "text": [
      "Predict Finish, 70.5231 70.5222 0.986 0.014 Evaluation Finish\n",
      "6: Data Load Finish, Predict Finish, 6.7575 6.7309 0.0941 0.9055 Evaluation Finish\n",
      "7: Data Load Finish, Predict Finish, 3.9859 3.9625 0.0554 0.9443 Evaluation Finish\n",
      "8: Data Load Finish, Predict Finish, 7.4523 7.4427 0.104 0.8958 Evaluation Finish\n",
      "9: Data Load Finish, Predict Finish, 5.1997 5.185 0.0725 0.9273 Evaluation Finish\n",
      "10: Data Load Finish, Predict Finish, 4.3666 4.348 0.0608 0.9389 Evaluation Finish\n",
      "11: Data Load Finish, Predict Finish, 4.4139 4.3915 0.0614 0.9383 Evaluation Finish\n",
      "12: Data Load Finish, Predict Finish, 3.6602 3.6245 0.0507 0.9488 Evaluation Finish\n",
      "13: Data Load Finish, "
     ]
    },
    {
     "name": "stderr",
     "output_type": "stream",
     "text": [
      "/home/vislab/anaconda3/envs/cctv/lib/python3.7/site-packages/pandas/core/arraylike.py:364: RuntimeWarning: divide by zero encountered in log\n",
      "  result = getattr(ufunc, method)(*inputs, **kwargs)\n",
      "/home/vislab/anaconda3/envs/cctv/lib/python3.7/site-packages/statsmodels/base/model.py:606: ConvergenceWarning: Maximum Likelihood optimization failed to converge. Check mle_retvals\n",
      "  ConvergenceWarning)\n"
     ]
    },
    {
     "name": "stdout",
     "output_type": "stream",
     "text": [
      "Predict Finish, 70.5231 70.5222 0.986 0.014 Evaluation Finish\n",
      "14: Data Load Finish, Predict Finish, 4.0154 3.9968 0.0559 0.9439 Evaluation Finish\n",
      "15: Data Load Finish, Predict Finish, 4.0632 4.0406 0.0565 0.9432 Evaluation Finish\n",
      "16: Data Load Finish, Predict Finish, 3.9629 3.9368 0.055 0.9446 Evaluation Finish\n",
      "17: Data Load Finish, Predict Finish, 4.2142 4.1832 0.0585 0.9411 Evaluation Finish\n",
      "18: Data Load Finish, Predict Finish, 3.7151 3.6988 0.0517 0.9481 Evaluation Finish\n",
      "19: Data Load Finish, Predict Finish, 7.8251 7.8104 0.1092 0.8906 Evaluation Finish\n",
      "20: Data Load Finish, Predict Finish, 5.6087 5.5936 0.0782 0.9216 Evaluation Finish\n",
      "21: Data Load Finish, Predict Finish, 7.5844 7.5734 0.1059 0.894 Evaluation Finish\n",
      "22: Data Load Finish, Predict Finish, 3.9679 3.9485 0.0552 0.9445 Evaluation Finish\n",
      "23: Data Load Finish, Predict Finish, 6.96 6.9427 0.0971 0.9027 Evaluation Finish\n",
      "24: Data Load Finish, Predict Finish, 3.2438 3.2222 0.045 0.9546 Evaluation Finish\n",
      "25: Data Load Finish, "
     ]
    },
    {
     "name": "stderr",
     "output_type": "stream",
     "text": [
      "/home/vislab/anaconda3/envs/cctv/lib/python3.7/site-packages/pandas/core/arraylike.py:364: RuntimeWarning: divide by zero encountered in log\n",
      "  result = getattr(ufunc, method)(*inputs, **kwargs)\n",
      "/home/vislab/anaconda3/envs/cctv/lib/python3.7/site-packages/statsmodels/base/model.py:606: ConvergenceWarning: Maximum Likelihood optimization failed to converge. Check mle_retvals\n",
      "  ConvergenceWarning)\n"
     ]
    },
    {
     "name": "stdout",
     "output_type": "stream",
     "text": [
      "Predict Finish, 70.5231 70.5222 0.986 0.014 Evaluation Finish\n",
      "26: Data Load Finish, Predict Finish, 5.2698 5.2541 0.0734 0.9263 Evaluation Finish\n",
      "27: Data Load Finish, Predict Finish, 3.6518 3.6338 0.0508 0.9489 Evaluation Finish\n",
      "28: Data Load Finish, Predict Finish, 5.6255 5.6099 0.0784 0.9213 Evaluation Finish\n",
      "29: Data Load Finish, Predict Finish, 13.2495 13.2427 0.1851 0.8148 Evaluation Finish\n",
      "30: Data Load Finish, Predict Finish, 4.0272 4.0069 0.056 0.9437 Evaluation Finish\n",
      "31: Data Load Finish, Predict Finish, 7.0666 7.0578 0.0987 0.9012 Evaluation Finish\n",
      "32: Data Load Finish, Predict Finish, 4.0308 4.0114 0.0561 0.9436 Evaluation Finish\n",
      "33: Data Load Finish, Predict Finish, 9.7179 9.7103 0.1357 0.8641 Evaluation Finish\n",
      "34: Data Load Finish, Predict Finish, 4.0782 4.0454 0.0565 0.943 Evaluation Finish\n",
      "35: Data Load Finish, Predict Finish, 4.6091 4.564 0.0638 0.9356 Evaluation Finish\n",
      "36: Data Load Finish, Predict Finish, 2.337 2.2995 0.0321 0.9673 Evaluation Finish\n",
      "37: Data Load Finish, Predict Finish, 4.2192 4.1987 0.0587 0.941 Evaluation Finish\n",
      "38: Data Load Finish, Predict Finish, 7.695 7.6809 0.1074 0.8924 Evaluation Finish\n",
      "39: Data Load Finish, Predict Finish, 6.1075 6.0975 0.0852 0.9146 Evaluation Finish\n",
      "40: Data Load Finish, Predict Finish, 3.6964 3.6706 0.0513 0.9483 Evaluation Finish\n",
      "41: Data Load Finish, Predict Finish, 5.0465 5.0234 0.0702 0.9294 Evaluation Finish\n",
      "42: Data Load Finish, Predict Finish, 7.6548 7.6443 0.1069 0.893 Evaluation Finish\n",
      "43: Data Load Finish, Predict Finish, 6.0134 5.9827 0.0836 0.9159 Evaluation Finish\n",
      "44: Data Load Finish, Predict Finish, 5.02 5.0065 0.07 0.9298 Evaluation Finish\n",
      "45: Data Load Finish, Predict Finish, 4.4295 4.4003 0.0615 0.9381 Evaluation Finish\n",
      "46: Data Load Finish, Predict Finish, 9.0253 9.0187 0.1261 0.8738 Evaluation Finish\n",
      "47: Data Load Finish, Predict Finish, 2.5969 2.5513 0.0356 0.9637 Evaluation Finish\n",
      "48: Data Load Finish, Predict Finish, 4.9047 4.8848 0.0683 0.9314 Evaluation Finish\n",
      "49: Data Load Finish, Predict Finish, 3.4795 3.4527 0.0483 0.9514 Evaluation Finish\n",
      "50: Data Load Finish, Predict Finish, 7.158 7.149 0.0999 0.8999 Evaluation Finish\n",
      "51: Data Load Finish, Predict Finish, 3.2715 3.2435 0.0453 0.9543 Evaluation Finish\n",
      "52: Data Load Finish, Predict Finish, 2.5953 2.5668 0.0359 0.9637 Evaluation Finish\n",
      "53: Data Load Finish, "
     ]
    },
    {
     "name": "stderr",
     "output_type": "stream",
     "text": [
      "/home/vislab/anaconda3/envs/cctv/lib/python3.7/site-packages/pandas/core/arraylike.py:364: RuntimeWarning: divide by zero encountered in log\n",
      "  result = getattr(ufunc, method)(*inputs, **kwargs)\n",
      "/home/vislab/anaconda3/envs/cctv/lib/python3.7/site-packages/statsmodels/base/model.py:606: ConvergenceWarning: Maximum Likelihood optimization failed to converge. Check mle_retvals\n",
      "  ConvergenceWarning)\n"
     ]
    },
    {
     "name": "stdout",
     "output_type": "stream",
     "text": [
      "Predict Finish, 70.5231 70.5222 0.986 0.014 Evaluation Finish\n",
      "54: Data Load Finish, Predict Finish, 3.8619 3.8351 0.0536 0.946 Evaluation Finish\n",
      "55: Data Load Finish, "
     ]
    },
    {
     "name": "stderr",
     "output_type": "stream",
     "text": [
      "/home/vislab/anaconda3/envs/cctv/lib/python3.7/site-packages/pandas/core/arraylike.py:364: RuntimeWarning: divide by zero encountered in log\n",
      "  result = getattr(ufunc, method)(*inputs, **kwargs)\n",
      "/home/vislab/anaconda3/envs/cctv/lib/python3.7/site-packages/statsmodels/base/model.py:606: ConvergenceWarning: Maximum Likelihood optimization failed to converge. Check mle_retvals\n",
      "  ConvergenceWarning)\n"
     ]
    },
    {
     "name": "stdout",
     "output_type": "stream",
     "text": [
      "Predict Finish, 70.5231 70.5222 0.986 0.014 Evaluation Finish\n",
      "56: Data Load Finish, Predict Finish, 1.1666 1.0987 0.0153 0.9837 Evaluation Finish\n",
      "57: Data Load Finish, "
     ]
    },
    {
     "name": "stderr",
     "output_type": "stream",
     "text": [
      "/home/vislab/anaconda3/envs/cctv/lib/python3.7/site-packages/pandas/core/arraylike.py:364: RuntimeWarning: divide by zero encountered in log\n",
      "  result = getattr(ufunc, method)(*inputs, **kwargs)\n",
      "/home/vislab/anaconda3/envs/cctv/lib/python3.7/site-packages/statsmodels/base/model.py:606: ConvergenceWarning: Maximum Likelihood optimization failed to converge. Check mle_retvals\n",
      "  ConvergenceWarning)\n"
     ]
    },
    {
     "name": "stdout",
     "output_type": "stream",
     "text": [
      "Predict Finish, 70.5231 70.5222 0.986 0.014 Evaluation Finish\n",
      "58: Data Load Finish, "
     ]
    },
    {
     "name": "stderr",
     "output_type": "stream",
     "text": [
      "/home/vislab/anaconda3/envs/cctv/lib/python3.7/site-packages/pandas/core/arraylike.py:364: RuntimeWarning: divide by zero encountered in log\n",
      "  result = getattr(ufunc, method)(*inputs, **kwargs)\n",
      "/home/vislab/anaconda3/envs/cctv/lib/python3.7/site-packages/statsmodels/base/model.py:606: ConvergenceWarning: Maximum Likelihood optimization failed to converge. Check mle_retvals\n",
      "  ConvergenceWarning)\n"
     ]
    },
    {
     "name": "stdout",
     "output_type": "stream",
     "text": [
      "Predict Finish, 70.5231 70.5222 0.986 0.014 Evaluation Finish\n",
      "59: Data Load Finish, "
     ]
    },
    {
     "name": "stderr",
     "output_type": "stream",
     "text": [
      "/home/vislab/anaconda3/envs/cctv/lib/python3.7/site-packages/pandas/core/arraylike.py:364: RuntimeWarning: divide by zero encountered in log\n",
      "  result = getattr(ufunc, method)(*inputs, **kwargs)\n",
      "/home/vislab/anaconda3/envs/cctv/lib/python3.7/site-packages/statsmodels/base/model.py:606: ConvergenceWarning: Maximum Likelihood optimization failed to converge. Check mle_retvals\n",
      "  ConvergenceWarning)\n"
     ]
    },
    {
     "name": "stdout",
     "output_type": "stream",
     "text": [
      "Predict Finish, 70.5231 70.5222 0.986 0.014 Evaluation Finish\n",
      "60: Data Load Finish, Predict Finish, 5.3346 5.3178 0.0743 0.9254 Evaluation Finish\n",
      "61: Data Load Finish, "
     ]
    },
    {
     "name": "stderr",
     "output_type": "stream",
     "text": [
      "/home/vislab/anaconda3/envs/cctv/lib/python3.7/site-packages/pandas/core/arraylike.py:364: RuntimeWarning: divide by zero encountered in log\n",
      "  result = getattr(ufunc, method)(*inputs, **kwargs)\n",
      "/home/vislab/anaconda3/envs/cctv/lib/python3.7/site-packages/statsmodels/base/model.py:606: ConvergenceWarning: Maximum Likelihood optimization failed to converge. Check mle_retvals\n",
      "  ConvergenceWarning)\n"
     ]
    },
    {
     "name": "stdout",
     "output_type": "stream",
     "text": [
      "Predict Finish, 70.5231 70.5222 0.986 0.014 Evaluation Finish\n",
      "62: Data Load Finish, Predict Finish, 4.1008 4.0794 0.057 0.9427 Evaluation Finish\n",
      "63: Data Load Finish, Predict Finish, 6.0804 6.0658 0.0848 0.915 Evaluation Finish\n",
      "64: Data Load Finish, Predict Finish, 7.6728 7.6623 0.1071 0.8927 Evaluation Finish\n",
      "65: Data Load Finish, Predict Finish, 4.5432 4.5068 0.063 0.9365 Evaluation Finish\n",
      "66: Data Load Finish, Predict Finish, 8.892 8.8776 0.1241 0.8757 Evaluation Finish\n",
      "67: Data Load Finish, Predict Finish, 8.238 8.2294 0.115 0.8848 Evaluation Finish\n",
      "68: Data Load Finish, Predict Finish, 3.48 3.428 0.0479 0.9513 Evaluation Finish\n",
      "69: Data Load Finish, Predict Finish, 7.1587 7.1495 0.0999 0.8999 Evaluation Finish\n",
      "70: Data Load Finish, Predict Finish, 4.0407 4.0235 0.0562 0.9435 Evaluation Finish\n",
      "71: Data Load Finish, Predict Finish, 10.0946 10.0884 0.141 0.8589 Evaluation Finish\n",
      "72: Data Load Finish, Predict Finish, 4.996 4.9673 0.0694 0.9301 Evaluation Finish\n",
      "73: Data Load Finish, Predict Finish, 4.3002 4.2626 0.0596 0.9399 Evaluation Finish\n",
      "74: Data Load Finish, Predict Finish, 11.1207 11.1153 0.1554 0.8445 Evaluation Finish\n",
      "75: Data Load Finish, Predict Finish, 3.7061 3.6833 0.0515 0.9482 Evaluation Finish\n",
      "76: Data Load Finish, Predict Finish, 2.9038 2.8417 0.0397 0.9594 Evaluation Finish\n",
      "77: Data Load Finish, Predict Finish, 4.4268 4.4072 0.0616 0.9381 Evaluation Finish\n",
      "78: Data Load Finish, Predict Finish, 3.464 3.4413 0.0481 0.9516 Evaluation Finish\n",
      "79: Data Load Finish, Predict Finish, 3.1777 3.1518 0.044 0.9556 Evaluation Finish\n",
      "80: Data Load Finish, Predict Finish, 6.9227 6.9014 0.0965 0.9032 Evaluation Finish\n",
      "81: Data Load Finish, Predict Finish, 4.3617 4.3405 0.0607 0.939 Evaluation Finish\n",
      "82: Data Load Finish, Predict Finish, 4.8672 4.8503 0.0678 0.9319 Evaluation Finish\n",
      "83: Data Load Finish, Predict Finish, 5.8436 5.7824 0.0808 0.9183 Evaluation Finish\n",
      "84: Data Load Finish, Predict Finish, 3.753 3.7212 0.052 0.9475 Evaluation Finish\n",
      "85: Data Load Finish, Predict Finish, 7.6466 7.6381 0.1068 0.8931 Evaluation Finish\n",
      "86: Data Load Finish, Predict Finish, 6.6798 6.6693 0.0932 0.9066 Evaluation Finish\n",
      "87: Data Load Finish, Predict Finish, 5.3201 5.3013 0.0741 0.9256 Evaluation Finish\n",
      "88: Data Load Finish, Predict Finish, 9.7782 9.7684 0.1366 0.8633 Evaluation Finish\n",
      "89: Data Load Finish, Predict Finish, 4.1462 4.1273 0.0577 0.942 Evaluation Finish\n",
      "90: Data Load Finish, "
     ]
    },
    {
     "name": "stderr",
     "output_type": "stream",
     "text": [
      "/home/vislab/anaconda3/envs/cctv/lib/python3.7/site-packages/pandas/core/arraylike.py:364: RuntimeWarning: divide by zero encountered in log\n",
      "  result = getattr(ufunc, method)(*inputs, **kwargs)\n",
      "/home/vislab/anaconda3/envs/cctv/lib/python3.7/site-packages/statsmodels/base/model.py:606: ConvergenceWarning: Maximum Likelihood optimization failed to converge. Check mle_retvals\n",
      "  ConvergenceWarning)\n"
     ]
    },
    {
     "name": "stdout",
     "output_type": "stream",
     "text": [
      "Predict Finish, 70.5231 70.5222 0.986 0.014 Evaluation Finish\n",
      "91: Data Load Finish, Predict Finish, 18.3034 18.2988 0.2558 0.7441 Evaluation Finish\n",
      "92: Data Load Finish, Predict Finish, 2.8902 2.8655 0.04 0.9596 Evaluation Finish\n",
      "93: Data Load Finish, Predict Finish, 5.1809 5.1602 0.0721 0.9276 Evaluation Finish\n",
      "94: Data Load Finish, "
     ]
    },
    {
     "name": "stderr",
     "output_type": "stream",
     "text": [
      "/home/vislab/anaconda3/envs/cctv/lib/python3.7/site-packages/pandas/core/arraylike.py:364: RuntimeWarning: divide by zero encountered in log\n",
      "  result = getattr(ufunc, method)(*inputs, **kwargs)\n",
      "/home/vislab/anaconda3/envs/cctv/lib/python3.7/site-packages/statsmodels/base/model.py:606: ConvergenceWarning: Maximum Likelihood optimization failed to converge. Check mle_retvals\n",
      "  ConvergenceWarning)\n"
     ]
    },
    {
     "name": "stdout",
     "output_type": "stream",
     "text": [
      "Predict Finish, 70.5231 70.5222 0.986 0.014 Evaluation Finish\n",
      "95: Data Load Finish, Predict Finish, 5.2705 5.2569 0.0735 0.9263 Evaluation Finish\n",
      "96: Data Load Finish, Predict Finish, 10.9741 10.9684 0.1533 0.8466 Evaluation Finish\n",
      "97: Data Load Finish, Predict Finish, 2.4714 2.4006 0.0335 0.9654 Evaluation Finish\n",
      "98: Data Load Finish, Predict Finish, 10.0584 10.0523 0.1405 0.8594 Evaluation Finish\n",
      "99: Data Load Finish, Predict Finish, 2.2671 2.2149 0.0309 0.9683 Evaluation Finish\n",
      "100: Data Load Finish, Predict Finish, 4.9426 4.8898 0.0683 0.9309 Evaluation Finish\n",
      "101: Data Load Finish, Predict Finish, 5.7606 5.7466 0.0803 0.9195 Evaluation Finish\n",
      "102: Data Load Finish, Predict Finish, 1.0711 0.858 0.012 0.985 Evaluation Finish\n",
      "103: Data Load Finish, Predict Finish, 3.3413 3.315 0.0463 0.9533 Evaluation Finish\n",
      "104: Data Load Finish, Predict Finish, 9.1291 9.0943 0.1271 0.8724 Evaluation Finish\n",
      "105: Data Load Finish, Predict Finish, 2.7084 2.6805 0.0375 0.9621 Evaluation Finish\n",
      "106: Data Load Finish, Predict Finish, 5.0233 5.0034 0.0699 0.9298 Evaluation Finish\n",
      "107: Data Load Finish, Predict Finish, 1.6103 1.5584 0.0218 0.9775 Evaluation Finish\n",
      "108: Data Load Finish, Predict Finish, 3.3999 3.3752 0.0472 0.9525 Evaluation Finish\n",
      "109: Data Load Finish, Predict Finish, 0.7177 0.5252 0.0073 0.99 Evaluation Finish\n",
      "110: Data Load Finish, Predict Finish, 4.9342 4.9187 0.0688 0.931 Evaluation Finish\n",
      "111: Data Load Finish, Predict Finish, 3.7713 3.7549 0.0525 0.9473 Evaluation Finish\n",
      "112: Data Load Finish, Predict Finish, 2.4001 2.3605 0.033 0.9664 Evaluation Finish\n",
      "113: Data Load Finish, Predict Finish, 4.9849 4.9681 0.0694 0.9303 Evaluation Finish\n",
      "114: Data Load Finish, Predict Finish, 4.7973 4.7796 0.0668 0.9329 Evaluation Finish\n",
      "115: Data Load Finish, Predict Finish, 9.2342 9.2273 0.129 0.8709 Evaluation Finish\n",
      "116: Data Load Finish, Predict Finish, 9.9912 9.9845 0.1396 0.8603 Evaluation Finish\n",
      "117: Data Load Finish, Predict Finish, 3.9977 3.9827 0.0557 0.9441 Evaluation Finish\n",
      "118: Data Load Finish, Predict Finish, 2.1829 2.1275 0.0297 0.9695 Evaluation Finish\n",
      "119: Data Load Finish, Predict Finish, 3.5718 3.5495 0.0496 0.9501 Evaluation Finish\n",
      "120: Data Load Finish, Predict Finish, 4.2077 4.1845 0.0585 0.9412 Evaluation Finish\n",
      "121: Data Load Finish, Predict Finish, 6.46 6.4473 0.0901 0.9097 Evaluation Finish\n",
      "122: Data Load Finish, Predict Finish, 3.6907 3.6656 0.0512 0.9484 Evaluation Finish\n",
      "123: Data Load Finish, Predict Finish, 5.7359 5.7247 0.08 0.9198 Evaluation Finish\n",
      "124: Data Load Finish, Predict Finish, 2.4954 2.4658 0.0345 0.9651 Evaluation Finish\n",
      "125: Data Load Finish, Predict Finish, 7.0088 6.9971 0.0978 0.902 Evaluation Finish\n",
      "126: Data Load Finish, Predict Finish, 8.3198 8.3114 0.1162 0.8837 Evaluation Finish\n",
      "127: Data Load Finish, Predict Finish, 8.0817 8.0734 0.1129 0.887 Evaluation Finish\n",
      "128: Data Load Finish, Predict Finish, 4.9864 4.9649 0.0694 0.9303 Evaluation Finish\n",
      "129: Data Load Finish, Predict Finish, 4.1622 4.143 0.0579 0.9418 Evaluation Finish\n",
      "130: Data Load Finish, Predict Finish, 4.2356 4.2057 0.0588 0.9408 Evaluation Finish\n",
      "131: Data Load Finish, Predict Finish, 5.1254 5.1119 0.0715 0.9283 Evaluation Finish\n",
      "132: Data Load Finish, "
     ]
    },
    {
     "name": "stderr",
     "output_type": "stream",
     "text": [
      "/home/vislab/anaconda3/envs/cctv/lib/python3.7/site-packages/pandas/core/arraylike.py:364: RuntimeWarning: divide by zero encountered in log\n",
      "  result = getattr(ufunc, method)(*inputs, **kwargs)\n",
      "/home/vislab/anaconda3/envs/cctv/lib/python3.7/site-packages/statsmodels/base/model.py:606: ConvergenceWarning: Maximum Likelihood optimization failed to converge. Check mle_retvals\n",
      "  ConvergenceWarning)\n"
     ]
    },
    {
     "name": "stdout",
     "output_type": "stream",
     "text": [
      "Predict Finish, 70.5231 70.5222 0.986 0.014 Evaluation Finish\n",
      "133: Data Load Finish, Predict Finish, 9.6193 9.5872 0.134 0.8655 Evaluation Finish\n",
      "134: Data Load Finish, Predict Finish, 5.5283 5.4462 0.0761 0.9227 Evaluation Finish\n",
      "135: Data Load Finish, Predict Finish, 5.8316 5.814 0.0813 0.9185 Evaluation Finish\n",
      "136: Data Load Finish, Predict Finish, 0.5442 0.399 0.0056 0.9924 Evaluation Finish\n",
      "137: Data Load Finish, Predict Finish, 4.203 4.1851 0.0585 0.9412 Evaluation Finish\n",
      "138: Data Load Finish, "
     ]
    },
    {
     "name": "stderr",
     "output_type": "stream",
     "text": [
      "/home/vislab/anaconda3/envs/cctv/lib/python3.7/site-packages/pandas/core/arraylike.py:364: RuntimeWarning: divide by zero encountered in log\n",
      "  result = getattr(ufunc, method)(*inputs, **kwargs)\n",
      "/home/vislab/anaconda3/envs/cctv/lib/python3.7/site-packages/statsmodels/base/model.py:606: ConvergenceWarning: Maximum Likelihood optimization failed to converge. Check mle_retvals\n",
      "  ConvergenceWarning)\n"
     ]
    },
    {
     "name": "stdout",
     "output_type": "stream",
     "text": [
      "Predict Finish, 70.5231 70.5222 0.986 0.014 Evaluation Finish\n",
      "139: Data Load Finish, "
     ]
    },
    {
     "name": "stderr",
     "output_type": "stream",
     "text": [
      "/home/vislab/anaconda3/envs/cctv/lib/python3.7/site-packages/pandas/core/arraylike.py:364: RuntimeWarning: divide by zero encountered in log\n",
      "  result = getattr(ufunc, method)(*inputs, **kwargs)\n",
      "/home/vislab/anaconda3/envs/cctv/lib/python3.7/site-packages/statsmodels/base/model.py:606: ConvergenceWarning: Maximum Likelihood optimization failed to converge. Check mle_retvals\n",
      "  ConvergenceWarning)\n"
     ]
    },
    {
     "name": "stdout",
     "output_type": "stream",
     "text": [
      "Predict Finish, 70.5231 70.5222 0.986 0.014 Evaluation Finish\n",
      "140: Data Load Finish, Predict Finish, 5.7373 5.7263 0.08 0.9198 Evaluation Finish\n",
      "141: Data Load Finish, Predict Finish, 1.5645 1.507 0.021 0.9781 Evaluation Finish\n",
      "142: Data Load Finish, Predict Finish, 1.0149 0.9226 0.0129 0.9858 Evaluation Finish\n",
      "143: Data Load Finish, Predict Finish, 4.408 4.3927 0.0614 0.9384 Evaluation Finish\n",
      "144: Data Load Finish, Predict Finish, 5.0204 5.0007 0.0699 0.9298 Evaluation Finish\n",
      "145: Data Load Finish, Predict Finish, 6.885 6.8752 0.0961 0.9037 Evaluation Finish\n",
      "146: Data Load Finish, Predict Finish, 8.4707 8.425 0.1178 0.8816 Evaluation Finish\n",
      "147: Data Load Finish, Predict Finish, 7.6454 7.637 0.1068 0.8931 Evaluation Finish\n",
      "148: Data Load Finish, "
     ]
    },
    {
     "name": "stderr",
     "output_type": "stream",
     "text": [
      "/home/vislab/anaconda3/envs/cctv/lib/python3.7/site-packages/statsmodels/base/model.py:606: ConvergenceWarning: Maximum Likelihood optimization failed to converge. Check mle_retvals\n",
      "  ConvergenceWarning)\n"
     ]
    },
    {
     "name": "stdout",
     "output_type": "stream",
     "text": [
      "Predict Finish, 3.9977 3.9827 0.0557 0.9441 Evaluation Finish\n",
      "149: Data Load Finish, "
     ]
    },
    {
     "name": "stderr",
     "output_type": "stream",
     "text": [
      "/home/vislab/anaconda3/envs/cctv/lib/python3.7/site-packages/pandas/core/arraylike.py:364: RuntimeWarning: divide by zero encountered in log\n",
      "  result = getattr(ufunc, method)(*inputs, **kwargs)\n",
      "/home/vislab/anaconda3/envs/cctv/lib/python3.7/site-packages/statsmodels/base/model.py:606: ConvergenceWarning: Maximum Likelihood optimization failed to converge. Check mle_retvals\n",
      "  ConvergenceWarning)\n"
     ]
    },
    {
     "name": "stdout",
     "output_type": "stream",
     "text": [
      "Predict Finish, 70.5231 70.5222 0.986 0.014 Evaluation Finish\n",
      "150: Data Load Finish, "
     ]
    },
    {
     "name": "stderr",
     "output_type": "stream",
     "text": [
      "/home/vislab/anaconda3/envs/cctv/lib/python3.7/site-packages/pandas/core/arraylike.py:364: RuntimeWarning: divide by zero encountered in log\n",
      "  result = getattr(ufunc, method)(*inputs, **kwargs)\n",
      "/home/vislab/anaconda3/envs/cctv/lib/python3.7/site-packages/statsmodels/base/model.py:606: ConvergenceWarning: Maximum Likelihood optimization failed to converge. Check mle_retvals\n",
      "  ConvergenceWarning)\n"
     ]
    },
    {
     "name": "stdout",
     "output_type": "stream",
     "text": [
      "Predict Finish, 70.5231 70.5222 0.986 0.014 Evaluation Finish\n",
      "151: Data Load Finish, Predict Finish, 6.2413 6.2228 0.087 0.9127 Evaluation Finish\n",
      "152: Data Load Finish, "
     ]
    },
    {
     "name": "stderr",
     "output_type": "stream",
     "text": [
      "/home/vislab/anaconda3/envs/cctv/lib/python3.7/site-packages/pandas/core/arraylike.py:364: RuntimeWarning: divide by zero encountered in log\n",
      "  result = getattr(ufunc, method)(*inputs, **kwargs)\n",
      "/home/vislab/anaconda3/envs/cctv/lib/python3.7/site-packages/statsmodels/base/model.py:606: ConvergenceWarning: Maximum Likelihood optimization failed to converge. Check mle_retvals\n",
      "  ConvergenceWarning)\n"
     ]
    },
    {
     "name": "stdout",
     "output_type": "stream",
     "text": [
      "Predict Finish, 70.5231 70.5222 0.986 0.014 Evaluation Finish\n",
      "153: Data Load Finish, Predict Finish, 4.5887 4.5728 0.0639 0.9358 Evaluation Finish\n",
      "154: Data Load Finish, Predict Finish, 3.4054 3.3835 0.0473 0.9524 Evaluation Finish\n",
      "155: Data Load Finish, Predict Finish, 6.2471 6.2368 0.0872 0.9127 Evaluation Finish\n",
      "156: Data Load Finish, Predict Finish, 2.3262 2.2968 0.0321 0.9675 Evaluation Finish\n",
      "157: Data Load Finish, Predict Finish, 3.1076 3.068 0.0429 0.9566 Evaluation Finish\n",
      "158: Data Load Finish, Predict Finish, 5.5228 5.493 0.0768 0.9228 Evaluation Finish\n",
      "159: Data Load Finish, Predict Finish, 10.0829 10.0739 0.1408 0.859 Evaluation Finish\n",
      "160: Data Load Finish, "
     ]
    },
    {
     "name": "stderr",
     "output_type": "stream",
     "text": [
      "/home/vislab/anaconda3/envs/cctv/lib/python3.7/site-packages/pandas/core/arraylike.py:364: RuntimeWarning: divide by zero encountered in log\n",
      "  result = getattr(ufunc, method)(*inputs, **kwargs)\n",
      "/home/vislab/anaconda3/envs/cctv/lib/python3.7/site-packages/statsmodels/base/model.py:606: ConvergenceWarning: Maximum Likelihood optimization failed to converge. Check mle_retvals\n",
      "  ConvergenceWarning)\n"
     ]
    },
    {
     "name": "stdout",
     "output_type": "stream",
     "text": [
      "Predict Finish, 70.5231 70.5222 0.986 0.014 Evaluation Finish\n",
      "161: Data Load Finish, Predict Finish, 8.2055 8.1971 0.1146 0.8853 Evaluation Finish\n",
      "162: Data Load Finish, Predict Finish, 9.689 9.6813 0.1353 0.8645 Evaluation Finish\n",
      "163: Data Load Finish, Predict Finish, 5.8369 5.8195 0.0813 0.9184 Evaluation Finish\n",
      "164: Data Load Finish, Predict Finish, 3.6057 3.5806 0.05 0.9496 Evaluation Finish\n",
      "165: Data Load Finish, Predict Finish, 0.5569 0.4116 0.0057 0.9922 Evaluation Finish\n",
      "166: Data Load Finish, Predict Finish, 4.8481 4.8318 0.0675 0.9322 Evaluation Finish\n",
      "167: Data Load Finish, Predict Finish, 8.908 8.9003 0.1244 0.8755 Evaluation Finish\n",
      "168: Data Load Finish, Predict Finish, 3.1371 3.0965 0.0433 0.9561 Evaluation Finish\n",
      "169: Data Load Finish, Predict Finish, 5.7319 5.7052 0.0797 0.9199 Evaluation Finish\n",
      "170: Data Load Finish, Predict Finish, 5.3794 5.3595 0.0749 0.9248 Evaluation Finish\n",
      "171: Data Load Finish, Predict Finish, 7.7053 7.6971 0.1076 0.8923 Evaluation Finish\n",
      "172: Data Load Finish, Predict Finish, 2.5633 2.5358 0.0354 0.9642 Evaluation Finish\n",
      "173: Data Load Finish, Predict Finish, 3.2725 3.2505 0.0454 0.9542 Evaluation Finish\n",
      "174: Data Load Finish, Predict Finish, 0.9095 0.7281 0.0102 0.9873 Evaluation Finish\n",
      "175: Data Load Finish, Predict Finish, 2.6401 2.6074 0.0364 0.9631 Evaluation Finish\n",
      "176: Data Load Finish, Predict Finish, 9.2501 9.2377 0.1291 0.8707 Evaluation Finish\n",
      "177: Data Load Finish, Predict Finish, 4.0745 4.0598 0.0567 0.943 Evaluation Finish\n",
      "178: Data Load Finish, Predict Finish, 2.2014 2.1462 0.03 0.9692 Evaluation Finish\n",
      "179: Data Load Finish, Predict Finish, 2.1917 2.1544 0.0301 0.9694 Evaluation Finish\n",
      "180: Data Load Finish, Predict Finish, 3.0694 3.0316 0.0424 0.9571 Evaluation Finish\n",
      "181: Data Load Finish, Predict Finish, 4.8324 4.8183 0.0673 0.9324 Evaluation Finish\n",
      "182: Data Load Finish, Predict Finish, 4.1634 4.1439 0.0579 0.9418 Evaluation Finish\n",
      "183: Data Load Finish, "
     ]
    },
    {
     "name": "stderr",
     "output_type": "stream",
     "text": [
      "/home/vislab/anaconda3/envs/cctv/lib/python3.7/site-packages/statsmodels/base/model.py:606: ConvergenceWarning: Maximum Likelihood optimization failed to converge. Check mle_retvals\n",
      "  ConvergenceWarning)\n"
     ]
    },
    {
     "name": "stdout",
     "output_type": "stream",
     "text": [
      "Predict Finish, 5.8831 5.8559 0.0819 0.9177 Evaluation Finish\n",
      "184: Data Load Finish, Predict Finish, 6.7685 6.7589 0.0945 0.9054 Evaluation Finish\n",
      "185: Data Load Finish, Predict Finish, 5.3694 5.3532 0.0748 0.9249 Evaluation Finish\n",
      "186: Data Load Finish, Predict Finish, 3.7161 3.6899 0.0516 0.948 Evaluation Finish\n",
      "187: Data Load Finish, Predict Finish, 3.4596 3.4365 0.048 0.9516 Evaluation Finish\n",
      "188: Data Load Finish, Predict Finish, 4.0135 3.9926 0.0558 0.9439 Evaluation Finish\n",
      "189: Data Load Finish, Predict Finish, 2.7609 2.7195 0.038 0.9614 Evaluation Finish\n",
      "190: Data Load Finish, Predict Finish, 3.0202 2.9953 0.0419 0.9578 Evaluation Finish\n",
      "191: Data Load Finish, Predict Finish, 4.2884 4.2693 0.0597 0.94 Evaluation Finish\n",
      "192: Data Load Finish, Predict Finish, 5.5145 5.4991 0.0769 0.9229 Evaluation Finish\n",
      "193: Data Load Finish, Predict Finish, 2.2108 2.1802 0.0305 0.9691 Evaluation Finish\n",
      "194: Data Load Finish, "
     ]
    },
    {
     "name": "stderr",
     "output_type": "stream",
     "text": [
      "/home/vislab/anaconda3/envs/cctv/lib/python3.7/site-packages/pandas/core/arraylike.py:364: RuntimeWarning: divide by zero encountered in log\n",
      "  result = getattr(ufunc, method)(*inputs, **kwargs)\n",
      "/home/vislab/anaconda3/envs/cctv/lib/python3.7/site-packages/statsmodels/base/model.py:606: ConvergenceWarning: Maximum Likelihood optimization failed to converge. Check mle_retvals\n",
      "  ConvergenceWarning)\n"
     ]
    },
    {
     "name": "stdout",
     "output_type": "stream",
     "text": [
      "Predict Finish, 70.5231 70.5222 0.986 0.014 Evaluation Finish\n",
      "195: Data Load Finish, Predict Finish, 5.5487 5.5343 0.0774 0.9224 Evaluation Finish\n",
      "196: Data Load Finish, Predict Finish, 2.988 2.9602 0.0414 0.9582 Evaluation Finish\n",
      "197: Data Load Finish, Predict Finish, 4.6191 4.6025 0.0643 0.9354 Evaluation Finish\n",
      "198: Data Load Finish, Predict Finish, 5.5666 5.5138 0.0771 0.9222 Evaluation Finish\n",
      "199: Data Load Finish, "
     ]
    },
    {
     "name": "stderr",
     "output_type": "stream",
     "text": [
      "/home/vislab/anaconda3/envs/cctv/lib/python3.7/site-packages/pandas/core/arraylike.py:364: RuntimeWarning: divide by zero encountered in log\n",
      "  result = getattr(ufunc, method)(*inputs, **kwargs)\n",
      "/home/vislab/anaconda3/envs/cctv/lib/python3.7/site-packages/statsmodels/base/model.py:606: ConvergenceWarning: Maximum Likelihood optimization failed to converge. Check mle_retvals\n",
      "  ConvergenceWarning)\n"
     ]
    },
    {
     "name": "stdout",
     "output_type": "stream",
     "text": [
      "Predict Finish, 70.5231 70.5222 0.986 0.014 Evaluation Finish\n",
      "200: Data Load Finish, Predict Finish, 7.4723 7.4625 0.1043 0.8955 Evaluation Finish\n",
      "201: Data Load Finish, Predict Finish, 4.6326 4.6073 0.0644 0.9352 Evaluation Finish\n",
      "202: Data Load Finish, Predict Finish, 7.489 7.4782 0.1045 0.8953 Evaluation Finish\n",
      "203: Data Load Finish, Predict Finish, 8.0459 8.0359 0.1123 0.8875 Evaluation Finish\n",
      "204: Data Load Finish, Predict Finish, 8.075 8.067 0.1128 0.8871 Evaluation Finish\n",
      "205: Data Load Finish, "
     ]
    },
    {
     "name": "stderr",
     "output_type": "stream",
     "text": [
      "/home/vislab/anaconda3/envs/cctv/lib/python3.7/site-packages/pandas/core/arraylike.py:364: RuntimeWarning: divide by zero encountered in log\n",
      "  result = getattr(ufunc, method)(*inputs, **kwargs)\n",
      "/home/vislab/anaconda3/envs/cctv/lib/python3.7/site-packages/statsmodels/base/model.py:606: ConvergenceWarning: Maximum Likelihood optimization failed to converge. Check mle_retvals\n",
      "  ConvergenceWarning)\n"
     ]
    },
    {
     "name": "stdout",
     "output_type": "stream",
     "text": [
      "Predict Finish, 70.5231 70.5222 0.986 0.014 Evaluation Finish\n",
      "206: Data Load Finish, Predict Finish, 6.1407 6.1295 0.0857 0.9141 Evaluation Finish\n",
      "207: Data Load Finish, Predict Finish, 3.2983 3.2452 0.0454 0.9539 Evaluation Finish\n",
      "208: Data Load Finish, Predict Finish, 9.9174 9.911 0.1386 0.8613 Evaluation Finish\n",
      "209: Data Load Finish, Predict Finish, 5.1353 5.117 0.0715 0.9282 Evaluation Finish\n",
      "210: Data Load Finish, Predict Finish, 6.8571 6.8454 0.0957 0.9041 Evaluation Finish\n",
      "211: Data Load Finish, Predict Finish, 7.0505 7.0418 0.0984 0.9014 Evaluation Finish\n",
      "212: Data Load Finish, "
     ]
    },
    {
     "name": "stderr",
     "output_type": "stream",
     "text": [
      "/home/vislab/anaconda3/envs/cctv/lib/python3.7/site-packages/statsmodels/base/model.py:606: ConvergenceWarning: Maximum Likelihood optimization failed to converge. Check mle_retvals\n",
      "  ConvergenceWarning)\n"
     ]
    },
    {
     "name": "stdout",
     "output_type": "stream",
     "text": [
      "Predict Finish, 5.4314 5.4192 0.0757 0.9241 Evaluation Finish\n",
      "213: Data Load Finish, Predict Finish, 6.1184 6.1086 0.0854 0.9145 Evaluation Finish\n",
      "214: Data Load Finish, Predict Finish, 6.7118 6.7004 0.0937 0.9062 Evaluation Finish\n",
      "215: Data Load Finish, Predict Finish, 8.5015 8.4937 0.1187 0.8811 Evaluation Finish\n",
      "216: Data Load Finish, Predict Finish, 5.3056 5.2915 0.074 0.9258 Evaluation Finish\n",
      "217: Data Load Finish, Predict Finish, 5.1718 5.1576 0.0721 0.9277 Evaluation Finish\n",
      "218: Data Load Finish, Predict Finish, 6.7431 6.7335 0.0941 0.9057 Evaluation Finish\n",
      "219: Data Load Finish, Predict Finish, 5.6491 5.6365 0.0788 0.921 Evaluation Finish\n",
      "220: Data Load Finish, Predict Finish, 3.6095 3.5906 0.0502 0.9495 Evaluation Finish\n",
      "221: Data Load Finish, Predict Finish, 7.6627 7.6542 0.107 0.8929 Evaluation Finish\n",
      "222: Data Load Finish, Predict Finish, 6.8368 6.8279 0.0954 0.9044 Evaluation Finish\n",
      "223: Data Load Finish, Predict Finish, 7.5571 7.5484 0.1055 0.8943 Evaluation Finish\n",
      "224: Data Load Finish, Predict Finish, 6.9624 6.951 0.0972 0.9027 Evaluation Finish\n",
      "225: Data Load Finish, Predict Finish, 7.5027 7.4936 0.1048 0.8951 Evaluation Finish\n",
      "226: Data Load Finish, Predict Finish, 4.2442 4.213 0.0589 0.9407 Evaluation Finish\n",
      "227: Data Load Finish, Predict Finish, 4.2064 4.172 0.0583 0.9412 Evaluation Finish\n",
      "228: Data Load Finish, Predict Finish, 3.3899 3.3645 0.047 0.9526 Evaluation Finish\n",
      "229: Data Load Finish, Predict Finish, 6.6625 6.6517 0.093 0.9068 Evaluation Finish\n",
      "230: Data Load Finish, Predict Finish, 1.1597 1.0529 0.0147 0.9838 Evaluation Finish\n",
      "231: Data Load Finish, Predict Finish, 10.2716 10.2638 0.1435 0.8564 Evaluation Finish\n",
      "232: Data Load Finish, Predict Finish, 2.2656 2.2253 0.0311 0.9683 Evaluation Finish\n",
      "233: Data Load Finish, Predict Finish, 0.484 0.3781 0.0053 0.9932 Evaluation Finish\n",
      "234: Data Load Finish, "
     ]
    },
    {
     "name": "stderr",
     "output_type": "stream",
     "text": [
      "/home/vislab/anaconda3/envs/cctv/lib/python3.7/site-packages/pandas/core/arraylike.py:364: RuntimeWarning: divide by zero encountered in log\n",
      "  result = getattr(ufunc, method)(*inputs, **kwargs)\n",
      "/home/vislab/anaconda3/envs/cctv/lib/python3.7/site-packages/statsmodels/base/model.py:606: ConvergenceWarning: Maximum Likelihood optimization failed to converge. Check mle_retvals\n",
      "  ConvergenceWarning)\n"
     ]
    },
    {
     "name": "stdout",
     "output_type": "stream",
     "text": [
      "Predict Finish, 70.5231 70.5222 0.986 0.014 Evaluation Finish\n",
      "235: Data Load Finish, Predict Finish, 4.4199 4.3971 0.0615 0.9382 Evaluation Finish\n",
      "236: Data Load Finish, Predict Finish, 4.2133 4.1952 0.0586 0.9411 Evaluation Finish\n",
      "237: Data Load Finish, Predict Finish, 3.189 3.1643 0.0442 0.9554 Evaluation Finish\n",
      "238: Data Load Finish, Predict Finish, 7.2915 7.2829 0.1018 0.8981 Evaluation Finish\n",
      "239: Data Load Finish, Predict Finish, 5.699 5.6873 0.0795 0.9203 Evaluation Finish\n",
      "240: Data Load Finish, Predict Finish, 7.7379 7.7301 0.1081 0.8918 Evaluation Finish\n",
      "241: Data Load Finish, Predict Finish, 10.2555 10.2492 0.1433 0.8566 Evaluation Finish\n",
      "242: Data Load Finish, Predict Finish, 3.5764 3.5591 0.0497 0.95 Evaluation Finish\n",
      "243: Data Load Finish, Predict Finish, 6.184 6.1613 0.0861 0.9135 Evaluation Finish\n",
      "244: Data Load Finish, Predict Finish, 5.7473 5.7334 0.0801 0.9196 Evaluation Finish\n",
      "245: Data Load Finish, Predict Finish, 4.1127 4.0905 0.0572 0.9425 Evaluation Finish\n",
      "246: Data Load Finish, Predict Finish, 6.6737 6.6639 0.0932 0.9067 Evaluation Finish\n",
      "247: Data Load Finish, "
     ]
    },
    {
     "name": "stderr",
     "output_type": "stream",
     "text": [
      "/home/vislab/anaconda3/envs/cctv/lib/python3.7/site-packages/statsmodels/base/model.py:606: ConvergenceWarning: Maximum Likelihood optimization failed to converge. Check mle_retvals\n",
      "  ConvergenceWarning)\n"
     ]
    },
    {
     "name": "stdout",
     "output_type": "stream",
     "text": [
      "Predict Finish, 6.7663 6.7556 0.0944 0.9054 Evaluation Finish\n",
      "248: Data Load Finish, Predict Finish, 3.4761 3.4465 0.0482 0.9514 Evaluation Finish\n",
      "249: Data Load Finish, Predict Finish, 7.9109 7.9022 0.1105 0.8894 Evaluation Finish\n",
      "250: Data Load Finish, Predict Finish, 4.3478 4.3207 0.0604 0.9392 Evaluation Finish\n",
      "251: Data Load Finish, Predict Finish, 7.8344 7.8245 0.1094 0.8905 Evaluation Finish\n",
      "252: Data Load Finish, Predict Finish, 7.286 7.2775 0.1017 0.8981 Evaluation Finish\n",
      "253: Data Load Finish, Predict Finish, 0.7155 0.6577 0.0092 0.99 Evaluation Finish\n",
      "254: Data Load Finish, Predict Finish, 3.4421 3.3926 0.0474 0.9519 Evaluation Finish\n",
      "255: Data Load Finish, Predict Finish, 6.9493 6.9405 0.097 0.9028 Evaluation Finish\n",
      "256: Data Load Finish, Predict Finish, 5.8175 5.8027 0.0811 0.9187 Evaluation Finish\n",
      "257: Data Load Finish, Predict Finish, 0.7538 0.6082 0.0085 0.9895 Evaluation Finish\n",
      "258: Data Load Finish, Predict Finish, 3.2092 3.1768 0.0444 0.9551 Evaluation Finish\n",
      "259: Data Load Finish, Predict Finish, 5.5981 5.5874 0.0781 0.9217 Evaluation Finish\n",
      "260: Data Load Finish, Predict Finish, 4.3353 4.3214 0.0604 0.9394 Evaluation Finish\n",
      "261: Data Load Finish, Predict Finish, 3.691 3.6693 0.0513 0.9484 Evaluation Finish\n",
      "262: Data Load Finish, "
     ]
    },
    {
     "name": "stderr",
     "output_type": "stream",
     "text": [
      "/home/vislab/anaconda3/envs/cctv/lib/python3.7/site-packages/pandas/core/arraylike.py:364: RuntimeWarning: divide by zero encountered in log\n",
      "  result = getattr(ufunc, method)(*inputs, **kwargs)\n",
      "/home/vislab/anaconda3/envs/cctv/lib/python3.7/site-packages/statsmodels/base/model.py:606: ConvergenceWarning: Maximum Likelihood optimization failed to converge. Check mle_retvals\n",
      "  ConvergenceWarning)\n"
     ]
    },
    {
     "name": "stdout",
     "output_type": "stream",
     "text": [
      "Predict Finish, 70.5231 70.5222 0.986 0.014 Evaluation Finish\n",
      "263: Data Load Finish, Predict Finish, 5.4827 5.469 0.0764 0.9233 Evaluation Finish\n",
      "264: Data Load Finish, "
     ]
    },
    {
     "name": "stderr",
     "output_type": "stream",
     "text": [
      "/home/vislab/anaconda3/envs/cctv/lib/python3.7/site-packages/pandas/core/arraylike.py:364: RuntimeWarning: divide by zero encountered in log\n",
      "  result = getattr(ufunc, method)(*inputs, **kwargs)\n",
      "/home/vislab/anaconda3/envs/cctv/lib/python3.7/site-packages/statsmodels/base/model.py:606: ConvergenceWarning: Maximum Likelihood optimization failed to converge. Check mle_retvals\n",
      "  ConvergenceWarning)\n"
     ]
    },
    {
     "name": "stdout",
     "output_type": "stream",
     "text": [
      "Predict Finish, 70.5231 70.5222 0.986 0.014 Evaluation Finish\n",
      "265: Data Load Finish, Predict Finish, 4.6839 4.6684 0.0653 0.9345 Evaluation Finish\n",
      "266: Data Load Finish, Predict Finish, 3.9148 3.896 0.0545 0.9453 Evaluation Finish\n",
      "267: Data Load Finish, Predict Finish, 4.2549 4.2399 0.0593 0.9405 Evaluation Finish\n",
      "268: Data Load Finish, Predict Finish, 5.073 5.0256 0.0702 0.9291 Evaluation Finish\n",
      "269: Data Load Finish, Predict Finish, 4.1763 4.1542 0.0581 0.9416 Evaluation Finish\n",
      "270: Data Load Finish, Predict Finish, 3.9898 3.963 0.0554 0.9442 Evaluation Finish\n",
      "271: Data Load Finish, Predict Finish, 3.6364 3.6095 0.0504 0.9492 Evaluation Finish\n",
      "272: Data Load Finish, Predict Finish, 2.3236 2.2296 0.0312 0.9675 Evaluation Finish\n",
      "273: Data Load Finish, "
     ]
    },
    {
     "name": "stderr",
     "output_type": "stream",
     "text": [
      "/home/vislab/anaconda3/envs/cctv/lib/python3.7/site-packages/pandas/core/arraylike.py:364: RuntimeWarning: divide by zero encountered in log\n",
      "  result = getattr(ufunc, method)(*inputs, **kwargs)\n",
      "/home/vislab/anaconda3/envs/cctv/lib/python3.7/site-packages/statsmodels/base/model.py:606: ConvergenceWarning: Maximum Likelihood optimization failed to converge. Check mle_retvals\n",
      "  ConvergenceWarning)\n"
     ]
    },
    {
     "name": "stdout",
     "output_type": "stream",
     "text": [
      "Predict Finish, 70.5231 70.5222 0.986 0.014 Evaluation Finish\n",
      "274: Data Load Finish, Predict Finish, 3.1727 3.1228 0.0436 0.9556 Evaluation Finish\n",
      "275: Data Load Finish, Predict Finish, 3.4377 3.3497 0.0468 0.9519 Evaluation Finish\n",
      "276: Data Load Finish, Predict Finish, 3.6849 3.6592 0.0511 0.9485 Evaluation Finish\n",
      "277: Data Load Finish, Predict Finish, 2.3252 2.2626 0.0316 0.9675 Evaluation Finish\n",
      "278: Data Load Finish, Predict Finish, 5.4384 5.4238 0.0758 0.924 Evaluation Finish\n",
      "279: Data Load Finish, Predict Finish, 3.2418 3.2005 0.0447 0.9547 Evaluation Finish\n",
      "280: Data Load Finish, Predict Finish, 3.2718 3.2355 0.0452 0.9543 Evaluation Finish\n",
      "281: Data Load Finish, Predict Finish, 1.7901 1.7306 0.0242 0.975 Evaluation Finish\n",
      "282: Data Load Finish, "
     ]
    },
    {
     "name": "stderr",
     "output_type": "stream",
     "text": [
      "/home/vislab/anaconda3/envs/cctv/lib/python3.7/site-packages/pandas/core/arraylike.py:364: RuntimeWarning: divide by zero encountered in log\n",
      "  result = getattr(ufunc, method)(*inputs, **kwargs)\n",
      "/home/vislab/anaconda3/envs/cctv/lib/python3.7/site-packages/statsmodels/base/model.py:606: ConvergenceWarning: Maximum Likelihood optimization failed to converge. Check mle_retvals\n",
      "  ConvergenceWarning)\n"
     ]
    },
    {
     "name": "stdout",
     "output_type": "stream",
     "text": [
      "Predict Finish, 70.5231 70.5222 0.986 0.014 Evaluation Finish\n",
      "283: Data Load Finish, Predict Finish, 13.8177 13.8088 0.1931 0.8068 Evaluation Finish\n",
      "284: Data Load Finish, "
     ]
    },
    {
     "name": "stderr",
     "output_type": "stream",
     "text": [
      "/home/vislab/anaconda3/envs/cctv/lib/python3.7/site-packages/pandas/core/arraylike.py:364: RuntimeWarning: divide by zero encountered in log\n",
      "  result = getattr(ufunc, method)(*inputs, **kwargs)\n",
      "/home/vislab/anaconda3/envs/cctv/lib/python3.7/site-packages/statsmodels/base/model.py:606: ConvergenceWarning: Maximum Likelihood optimization failed to converge. Check mle_retvals\n",
      "  ConvergenceWarning)\n"
     ]
    },
    {
     "name": "stdout",
     "output_type": "stream",
     "text": [
      "Predict Finish, 70.5231 70.5222 0.986 0.014 Evaluation Finish\n",
      "285: Data Load Finish, Predict Finish, 2.5185 2.4611 0.0344 0.9648 Evaluation Finish\n",
      "286: Data Load Finish, Predict Finish, 3.4848 3.4578 0.0483 0.9513 Evaluation Finish\n",
      "287: Data Load Finish, Predict Finish, 3.925 3.8661 0.054 0.9451 Evaluation Finish\n",
      "288: Data Load Finish, Predict Finish, 4.3817 4.3651 0.061 0.9387 Evaluation Finish\n",
      "289: Data Load Finish, Predict Finish, 5.6879 5.6732 0.0793 0.9205 Evaluation Finish\n",
      "290: Data Load Finish, Predict Finish, 3.1099 3.0786 0.043 0.9565 Evaluation Finish\n",
      "291: Data Load Finish, "
     ]
    },
    {
     "name": "stderr",
     "output_type": "stream",
     "text": [
      "/home/vislab/anaconda3/envs/cctv/lib/python3.7/site-packages/pandas/core/arraylike.py:364: RuntimeWarning: divide by zero encountered in log\n",
      "  result = getattr(ufunc, method)(*inputs, **kwargs)\n",
      "/home/vislab/anaconda3/envs/cctv/lib/python3.7/site-packages/statsmodels/base/model.py:606: ConvergenceWarning: Maximum Likelihood optimization failed to converge. Check mle_retvals\n",
      "  ConvergenceWarning)\n"
     ]
    },
    {
     "name": "stdout",
     "output_type": "stream",
     "text": [
      "Predict Finish, 70.5231 70.5222 0.986 0.014 Evaluation Finish\n",
      "292: Data Load Finish, Predict Finish, 7.6561 7.3419 0.1026 0.893 Evaluation Finish\n",
      "293: Data Load Finish, Predict Finish, 8.2406 8.1626 0.1141 0.8848 Evaluation Finish\n",
      "294: Data Load Finish, Predict Finish, 4.2594 4.238 0.0592 0.9404 Evaluation Finish\n",
      "295: Data Load Finish, "
     ]
    },
    {
     "name": "stderr",
     "output_type": "stream",
     "text": [
      "/home/vislab/anaconda3/envs/cctv/lib/python3.7/site-packages/pandas/core/arraylike.py:364: RuntimeWarning: divide by zero encountered in log\n",
      "  result = getattr(ufunc, method)(*inputs, **kwargs)\n",
      "/home/vislab/anaconda3/envs/cctv/lib/python3.7/site-packages/statsmodels/base/model.py:606: ConvergenceWarning: Maximum Likelihood optimization failed to converge. Check mle_retvals\n",
      "  ConvergenceWarning)\n"
     ]
    },
    {
     "name": "stdout",
     "output_type": "stream",
     "text": [
      "Predict Finish, 70.5231 70.5222 0.986 0.014 Evaluation Finish\n",
      "296: Data Load Finish, Predict Finish, 5.3153 5.3024 0.0741 0.9257 Evaluation Finish\n",
      "297: Data Load Finish, Predict Finish, 5.7722 5.7595 0.0805 0.9193 Evaluation Finish\n",
      "298: Data Load Finish, Predict Finish, 2.9429 2.9131 0.0407 0.9589 Evaluation Finish\n",
      "299: Data Load Finish, "
     ]
    },
    {
     "name": "stderr",
     "output_type": "stream",
     "text": [
      "/home/vislab/anaconda3/envs/cctv/lib/python3.7/site-packages/pandas/core/arraylike.py:364: RuntimeWarning: divide by zero encountered in log\n",
      "  result = getattr(ufunc, method)(*inputs, **kwargs)\n",
      "/home/vislab/anaconda3/envs/cctv/lib/python3.7/site-packages/statsmodels/base/model.py:606: ConvergenceWarning: Maximum Likelihood optimization failed to converge. Check mle_retvals\n",
      "  ConvergenceWarning)\n"
     ]
    },
    {
     "name": "stdout",
     "output_type": "stream",
     "text": [
      "Predict Finish, 70.5231 70.5222 0.986 0.014 Evaluation Finish\n",
      "300: Data Load Finish, Predict Finish, 4.5261 4.4973 0.0629 0.9367 Evaluation Finish\n",
      "301: Data Load Finish, Predict Finish, 7.1928 7.1813 0.1004 0.8994 Evaluation Finish\n",
      "302: Data Load Finish, Predict Finish, 5.6904 5.6649 0.0792 0.9204 Evaluation Finish\n",
      "303: Data Load Finish, Predict Finish, 6.4498 6.4285 0.0899 0.9098 Evaluation Finish\n",
      "304: Data Load Finish, Predict Finish, 5.2555 5.2177 0.0729 0.9265 Evaluation Finish\n",
      "305: Data Load Finish, Predict Finish, 6.378 6.3533 0.0888 0.9108 Evaluation Finish\n",
      "306: Data Load Finish, "
     ]
    },
    {
     "name": "stderr",
     "output_type": "stream",
     "text": [
      "/home/vislab/anaconda3/envs/cctv/lib/python3.7/site-packages/pandas/core/arraylike.py:364: RuntimeWarning: divide by zero encountered in log\n",
      "  result = getattr(ufunc, method)(*inputs, **kwargs)\n",
      "/home/vislab/anaconda3/envs/cctv/lib/python3.7/site-packages/statsmodels/base/model.py:606: ConvergenceWarning: Maximum Likelihood optimization failed to converge. Check mle_retvals\n",
      "  ConvergenceWarning)\n"
     ]
    },
    {
     "name": "stdout",
     "output_type": "stream",
     "text": [
      "Predict Finish, 70.5231 70.5222 0.986 0.014 Evaluation Finish\n",
      "307: Data Load Finish, Predict Finish, 6.0632 6.0431 0.0845 0.9152 Evaluation Finish\n",
      "308: Data Load Finish, Predict Finish, 9.7666 9.7105 0.1358 0.8634 Evaluation Finish\n",
      "309: Data Load Finish, Predict Finish, 3.8667 3.8482 0.0538 0.9459 Evaluation Finish\n",
      "310: Data Load Finish, Predict Finish, 6.4198 6.4041 0.0895 0.9102 Evaluation Finish\n",
      "311: Data Load Finish, Predict Finish, 3.577 3.5565 0.0497 0.95 Evaluation Finish\n",
      "312: Data Load Finish, Predict Finish, 3.7515 3.728 0.0521 0.9475 Evaluation Finish\n",
      "313: Data Load Finish, Predict Finish, 5.0228 4.9899 0.0697 0.9298 Evaluation Finish\n",
      "314: Data Load Finish, Predict Finish, 5.4825 5.4694 0.0764 0.9233 Evaluation Finish\n",
      "315: Data Load Finish, Predict Finish, 6.1214 6.1117 0.0854 0.9144 Evaluation Finish\n",
      "316: Data Load Finish, Predict Finish, 5.4168 5.4029 0.0755 0.9243 Evaluation Finish\n",
      "317: Data Load Finish, Predict Finish, 7.4183 7.4102 0.1036 0.8963 Evaluation Finish\n",
      "318: Data Load Finish, Predict Finish, 11.0388 11.0334 0.1542 0.8457 Evaluation Finish\n",
      "319: Data Load Finish, Predict Finish, 3.2809 3.2539 0.0455 0.9541 Evaluation Finish\n",
      "320: Data Load Finish, Predict Finish, 8.0357 8.0245 0.1122 0.8876 Evaluation Finish\n",
      "321: Data Load Finish, Predict Finish, 2.3925 2.3625 0.033 0.9665 Evaluation Finish\n",
      "322: Data Load Finish, Predict Finish, 3.4066 3.379 0.0472 0.9524 Evaluation Finish\n",
      "323: Data Load Finish, Predict Finish, 0.9468 0.7859 0.011 0.9868 Evaluation Finish\n",
      "324: Data Load Finish, Predict Finish, 3.4904 3.4559 0.0483 0.9512 Evaluation Finish\n",
      "RMSE: 11.667597194110696, MAE: 11.642017073208466, MAPE: 0.16275606489997727\n",
      "ACC: 0.8368694295938968\n"
     ]
    }
   ],
   "source": [
    "predictARIMA(df, idx, 9)"
   ]
  },
  {
   "cell_type": "markdown",
   "id": "8624171f",
   "metadata": {},
   "source": [
    "### Unobserved Nodes = 20%"
   ]
  },
  {
   "cell_type": "code",
   "execution_count": 14,
   "id": "a8313c43",
   "metadata": {},
   "outputs": [
    {
     "name": "stdout",
     "output_type": "stream",
     "text": [
      "52116 325\n"
     ]
    },
    {
     "data": {
      "text/plain": [
       "3387540"
      ]
     },
     "execution_count": 14,
     "metadata": {},
     "output_type": "execute_result"
    }
   ],
   "source": [
    "df, idx = csvIndexToDatetime(path_20, start, freq)\n",
    "(df == 0).sum().sum()"
   ]
  },
  {
   "cell_type": "code",
   "execution_count": 15,
   "id": "5ce0fefa",
   "metadata": {
    "scrolled": false
   },
   "outputs": [
    {
     "name": "stdout",
     "output_type": "stream",
     "text": [
      "0: Data Load Finish, Predict Finish, 0.4912 0.4344 0.0061 0.9931 Evaluation Finish\n",
      "1: Data Load Finish, Predict Finish, 6.1456 6.1339 0.0857 0.9141 Evaluation Finish\n",
      "2: Data Load Finish, Predict Finish, 4.4655 4.402 0.0615 0.9376 Evaluation Finish\n",
      "3: Data Load Finish, Predict Finish, 11.0191 11.0135 0.154 0.8459 Evaluation Finish\n",
      "4: Data Load Finish, Predict Finish, 10.1645 10.1584 0.142 0.8579 Evaluation Finish\n",
      "5: Data Load Finish, Predict Finish, 5.388 5.3726 0.0751 0.9247 Evaluation Finish\n",
      "6: Data Load Finish, Predict Finish, 6.7575 6.7309 0.0941 0.9055 Evaluation Finish\n",
      "7: Data Load Finish, Predict Finish, 3.9859 3.9625 0.0554 0.9443 Evaluation Finish\n",
      "8: Data Load Finish, "
     ]
    },
    {
     "name": "stderr",
     "output_type": "stream",
     "text": [
      "/home/vislab/anaconda3/envs/cctv/lib/python3.7/site-packages/pandas/core/arraylike.py:364: RuntimeWarning: divide by zero encountered in log\n",
      "  result = getattr(ufunc, method)(*inputs, **kwargs)\n",
      "/home/vislab/anaconda3/envs/cctv/lib/python3.7/site-packages/statsmodels/base/model.py:606: ConvergenceWarning: Maximum Likelihood optimization failed to converge. Check mle_retvals\n",
      "  ConvergenceWarning)\n"
     ]
    },
    {
     "name": "stdout",
     "output_type": "stream",
     "text": [
      "Predict Finish, 70.5231 70.5222 0.986 0.014 Evaluation Finish\n",
      "9: Data Load Finish, Predict Finish, 5.1997 5.185 0.0725 0.9273 Evaluation Finish\n",
      "10: Data Load Finish, Predict Finish, 4.3666 4.348 0.0608 0.9389 Evaluation Finish\n",
      "11: Data Load Finish, "
     ]
    },
    {
     "name": "stderr",
     "output_type": "stream",
     "text": [
      "/home/vislab/anaconda3/envs/cctv/lib/python3.7/site-packages/pandas/core/arraylike.py:364: RuntimeWarning: divide by zero encountered in log\n",
      "  result = getattr(ufunc, method)(*inputs, **kwargs)\n",
      "/home/vislab/anaconda3/envs/cctv/lib/python3.7/site-packages/statsmodels/base/model.py:606: ConvergenceWarning: Maximum Likelihood optimization failed to converge. Check mle_retvals\n",
      "  ConvergenceWarning)\n"
     ]
    },
    {
     "name": "stdout",
     "output_type": "stream",
     "text": [
      "Predict Finish, 70.5231 70.5222 0.986 0.014 Evaluation Finish\n",
      "12: Data Load Finish, Predict Finish, 3.6602 3.6245 0.0507 0.9488 Evaluation Finish\n",
      "13: Data Load Finish, Predict Finish, 4.052 4.0125 0.0561 0.9433 Evaluation Finish\n",
      "14: Data Load Finish, Predict Finish, 4.0154 3.9968 0.0559 0.9439 Evaluation Finish\n",
      "15: Data Load Finish, Predict Finish, 4.0632 4.0406 0.0565 0.9432 Evaluation Finish\n",
      "16: Data Load Finish, Predict Finish, 3.9629 3.9368 0.055 0.9446 Evaluation Finish\n",
      "17: Data Load Finish, Predict Finish, 4.2142 4.1832 0.0585 0.9411 Evaluation Finish\n",
      "18: Data Load Finish, Predict Finish, 3.7151 3.6988 0.0517 0.9481 Evaluation Finish\n",
      "19: Data Load Finish, Predict Finish, 7.8251 7.8104 0.1092 0.8906 Evaluation Finish\n",
      "20: Data Load Finish, Predict Finish, 5.6087 5.5936 0.0782 0.9216 Evaluation Finish\n",
      "21: Data Load Finish, "
     ]
    },
    {
     "name": "stderr",
     "output_type": "stream",
     "text": [
      "/home/vislab/anaconda3/envs/cctv/lib/python3.7/site-packages/pandas/core/arraylike.py:364: RuntimeWarning: divide by zero encountered in log\n",
      "  result = getattr(ufunc, method)(*inputs, **kwargs)\n",
      "/home/vislab/anaconda3/envs/cctv/lib/python3.7/site-packages/statsmodels/base/model.py:606: ConvergenceWarning: Maximum Likelihood optimization failed to converge. Check mle_retvals\n",
      "  ConvergenceWarning)\n"
     ]
    },
    {
     "name": "stdout",
     "output_type": "stream",
     "text": [
      "Predict Finish, 70.5231 70.5222 0.986 0.014 Evaluation Finish\n",
      "22: Data Load Finish, Predict Finish, 3.9679 3.9485 0.0552 0.9445 Evaluation Finish\n",
      "23: Data Load Finish, Predict Finish, 6.96 6.9427 0.0971 0.9027 Evaluation Finish\n",
      "24: Data Load Finish, Predict Finish, 3.2438 3.2222 0.045 0.9546 Evaluation Finish\n",
      "25: Data Load Finish, "
     ]
    },
    {
     "name": "stderr",
     "output_type": "stream",
     "text": [
      "/home/vislab/anaconda3/envs/cctv/lib/python3.7/site-packages/pandas/core/arraylike.py:364: RuntimeWarning: divide by zero encountered in log\n",
      "  result = getattr(ufunc, method)(*inputs, **kwargs)\n",
      "/home/vislab/anaconda3/envs/cctv/lib/python3.7/site-packages/statsmodels/base/model.py:606: ConvergenceWarning: Maximum Likelihood optimization failed to converge. Check mle_retvals\n",
      "  ConvergenceWarning)\n"
     ]
    },
    {
     "name": "stdout",
     "output_type": "stream",
     "text": [
      "Predict Finish, 70.5231 70.5222 0.986 0.014 Evaluation Finish\n",
      "26: Data Load Finish, "
     ]
    },
    {
     "name": "stderr",
     "output_type": "stream",
     "text": [
      "/home/vislab/anaconda3/envs/cctv/lib/python3.7/site-packages/pandas/core/arraylike.py:364: RuntimeWarning: divide by zero encountered in log\n",
      "  result = getattr(ufunc, method)(*inputs, **kwargs)\n",
      "/home/vislab/anaconda3/envs/cctv/lib/python3.7/site-packages/statsmodels/base/model.py:606: ConvergenceWarning: Maximum Likelihood optimization failed to converge. Check mle_retvals\n",
      "  ConvergenceWarning)\n"
     ]
    },
    {
     "name": "stdout",
     "output_type": "stream",
     "text": [
      "Predict Finish, 70.5231 70.5222 0.986 0.014 Evaluation Finish\n",
      "27: Data Load Finish, Predict Finish, 3.6518 3.6338 0.0508 0.9489 Evaluation Finish\n",
      "28: Data Load Finish, Predict Finish, 5.6255 5.6099 0.0784 0.9213 Evaluation Finish\n",
      "29: Data Load Finish, "
     ]
    },
    {
     "name": "stderr",
     "output_type": "stream",
     "text": [
      "/home/vislab/anaconda3/envs/cctv/lib/python3.7/site-packages/pandas/core/arraylike.py:364: RuntimeWarning: divide by zero encountered in log\n",
      "  result = getattr(ufunc, method)(*inputs, **kwargs)\n",
      "/home/vislab/anaconda3/envs/cctv/lib/python3.7/site-packages/statsmodels/base/model.py:606: ConvergenceWarning: Maximum Likelihood optimization failed to converge. Check mle_retvals\n",
      "  ConvergenceWarning)\n"
     ]
    },
    {
     "name": "stdout",
     "output_type": "stream",
     "text": [
      "Predict Finish, 70.5231 70.5222 0.986 0.014 Evaluation Finish\n",
      "30: Data Load Finish, Predict Finish, 4.0272 4.0069 0.056 0.9437 Evaluation Finish\n",
      "31: Data Load Finish, Predict Finish, 7.0666 7.0578 0.0987 0.9012 Evaluation Finish\n",
      "32: Data Load Finish, Predict Finish, 4.0308 4.0114 0.0561 0.9436 Evaluation Finish\n",
      "33: Data Load Finish, "
     ]
    },
    {
     "name": "stderr",
     "output_type": "stream",
     "text": [
      "/home/vislab/anaconda3/envs/cctv/lib/python3.7/site-packages/pandas/core/arraylike.py:364: RuntimeWarning: divide by zero encountered in log\n",
      "  result = getattr(ufunc, method)(*inputs, **kwargs)\n",
      "/home/vislab/anaconda3/envs/cctv/lib/python3.7/site-packages/statsmodels/base/model.py:606: ConvergenceWarning: Maximum Likelihood optimization failed to converge. Check mle_retvals\n",
      "  ConvergenceWarning)\n"
     ]
    },
    {
     "name": "stdout",
     "output_type": "stream",
     "text": [
      "Predict Finish, 70.5231 70.5222 0.986 0.014 Evaluation Finish\n",
      "34: Data Load Finish, "
     ]
    },
    {
     "name": "stderr",
     "output_type": "stream",
     "text": [
      "/home/vislab/anaconda3/envs/cctv/lib/python3.7/site-packages/pandas/core/arraylike.py:364: RuntimeWarning: divide by zero encountered in log\n",
      "  result = getattr(ufunc, method)(*inputs, **kwargs)\n",
      "/home/vislab/anaconda3/envs/cctv/lib/python3.7/site-packages/statsmodels/base/model.py:606: ConvergenceWarning: Maximum Likelihood optimization failed to converge. Check mle_retvals\n",
      "  ConvergenceWarning)\n"
     ]
    },
    {
     "name": "stdout",
     "output_type": "stream",
     "text": [
      "Predict Finish, 70.5231 70.5222 0.986 0.014 Evaluation Finish\n",
      "35: Data Load Finish, Predict Finish, 4.6091 4.564 0.0638 0.9356 Evaluation Finish\n",
      "36: Data Load Finish, Predict Finish, 2.337 2.2995 0.0321 0.9673 Evaluation Finish\n",
      "37: Data Load Finish, Predict Finish, 4.2192 4.1987 0.0587 0.941 Evaluation Finish\n",
      "38: Data Load Finish, "
     ]
    },
    {
     "name": "stderr",
     "output_type": "stream",
     "text": [
      "/home/vislab/anaconda3/envs/cctv/lib/python3.7/site-packages/pandas/core/arraylike.py:364: RuntimeWarning: divide by zero encountered in log\n",
      "  result = getattr(ufunc, method)(*inputs, **kwargs)\n",
      "/home/vislab/anaconda3/envs/cctv/lib/python3.7/site-packages/statsmodels/base/model.py:606: ConvergenceWarning: Maximum Likelihood optimization failed to converge. Check mle_retvals\n",
      "  ConvergenceWarning)\n"
     ]
    },
    {
     "name": "stdout",
     "output_type": "stream",
     "text": [
      "Predict Finish, 70.5231 70.5222 0.986 0.014 Evaluation Finish\n",
      "39: Data Load Finish, Predict Finish, 6.1075 6.0975 0.0852 0.9146 Evaluation Finish\n",
      "40: Data Load Finish, Predict Finish, 3.6964 3.6706 0.0513 0.9483 Evaluation Finish\n",
      "41: Data Load Finish, "
     ]
    },
    {
     "name": "stderr",
     "output_type": "stream",
     "text": [
      "/home/vislab/anaconda3/envs/cctv/lib/python3.7/site-packages/pandas/core/arraylike.py:364: RuntimeWarning: divide by zero encountered in log\n",
      "  result = getattr(ufunc, method)(*inputs, **kwargs)\n",
      "/home/vislab/anaconda3/envs/cctv/lib/python3.7/site-packages/statsmodels/base/model.py:606: ConvergenceWarning: Maximum Likelihood optimization failed to converge. Check mle_retvals\n",
      "  ConvergenceWarning)\n"
     ]
    },
    {
     "name": "stdout",
     "output_type": "stream",
     "text": [
      "Predict Finish, 70.5231 70.5222 0.986 0.014 Evaluation Finish\n",
      "42: Data Load Finish, Predict Finish, 7.6548 7.6443 0.1069 0.893 Evaluation Finish\n",
      "43: Data Load Finish, "
     ]
    },
    {
     "name": "stderr",
     "output_type": "stream",
     "text": [
      "/home/vislab/anaconda3/envs/cctv/lib/python3.7/site-packages/pandas/core/arraylike.py:364: RuntimeWarning: divide by zero encountered in log\n",
      "  result = getattr(ufunc, method)(*inputs, **kwargs)\n",
      "/home/vislab/anaconda3/envs/cctv/lib/python3.7/site-packages/statsmodels/base/model.py:606: ConvergenceWarning: Maximum Likelihood optimization failed to converge. Check mle_retvals\n",
      "  ConvergenceWarning)\n"
     ]
    },
    {
     "name": "stdout",
     "output_type": "stream",
     "text": [
      "Predict Finish, 70.5231 70.5222 0.986 0.014 Evaluation Finish\n",
      "44: Data Load Finish, Predict Finish, 5.02 5.0065 0.07 0.9298 Evaluation Finish\n",
      "45: Data Load Finish, Predict Finish, 4.4295 4.4003 0.0615 0.9381 Evaluation Finish\n",
      "46: Data Load Finish, Predict Finish, 9.0253 9.0187 0.1261 0.8738 Evaluation Finish\n",
      "47: Data Load Finish, "
     ]
    },
    {
     "name": "stderr",
     "output_type": "stream",
     "text": [
      "/home/vislab/anaconda3/envs/cctv/lib/python3.7/site-packages/pandas/core/arraylike.py:364: RuntimeWarning: divide by zero encountered in log\n",
      "  result = getattr(ufunc, method)(*inputs, **kwargs)\n",
      "/home/vislab/anaconda3/envs/cctv/lib/python3.7/site-packages/statsmodels/base/model.py:606: ConvergenceWarning: Maximum Likelihood optimization failed to converge. Check mle_retvals\n",
      "  ConvergenceWarning)\n"
     ]
    },
    {
     "name": "stdout",
     "output_type": "stream",
     "text": [
      "Predict Finish, 70.5231 70.5222 0.986 0.014 Evaluation Finish\n",
      "48: Data Load Finish, Predict Finish, 4.9047 4.8848 0.0683 0.9314 Evaluation Finish\n",
      "49: Data Load Finish, Predict Finish, 3.4795 3.4527 0.0483 0.9514 Evaluation Finish\n",
      "50: Data Load Finish, Predict Finish, 7.158 7.149 0.0999 0.8999 Evaluation Finish\n",
      "51: Data Load Finish, Predict Finish, 3.2715 3.2435 0.0453 0.9543 Evaluation Finish\n",
      "52: Data Load Finish, Predict Finish, 2.5953 2.5668 0.0359 0.9637 Evaluation Finish\n",
      "53: Data Load Finish, Predict Finish, 7.2399 7.226 0.101 0.8988 Evaluation Finish\n",
      "54: Data Load Finish, "
     ]
    },
    {
     "name": "stderr",
     "output_type": "stream",
     "text": [
      "/home/vislab/anaconda3/envs/cctv/lib/python3.7/site-packages/pandas/core/arraylike.py:364: RuntimeWarning: divide by zero encountered in log\n",
      "  result = getattr(ufunc, method)(*inputs, **kwargs)\n",
      "/home/vislab/anaconda3/envs/cctv/lib/python3.7/site-packages/statsmodels/base/model.py:606: ConvergenceWarning: Maximum Likelihood optimization failed to converge. Check mle_retvals\n",
      "  ConvergenceWarning)\n"
     ]
    },
    {
     "name": "stdout",
     "output_type": "stream",
     "text": [
      "Predict Finish, 70.5231 70.5222 0.986 0.014 Evaluation Finish\n",
      "55: Data Load Finish, Predict Finish, 6.2395 6.207 0.0868 0.9128 Evaluation Finish\n",
      "56: Data Load Finish, Predict Finish, 1.1666 1.0987 0.0153 0.9837 Evaluation Finish\n",
      "57: Data Load Finish, Predict Finish, 3.1534 3.0844 0.0431 0.9559 Evaluation Finish\n",
      "58: Data Load Finish, "
     ]
    },
    {
     "name": "stderr",
     "output_type": "stream",
     "text": [
      "/home/vislab/anaconda3/envs/cctv/lib/python3.7/site-packages/pandas/core/arraylike.py:364: RuntimeWarning: divide by zero encountered in log\n",
      "  result = getattr(ufunc, method)(*inputs, **kwargs)\n",
      "/home/vislab/anaconda3/envs/cctv/lib/python3.7/site-packages/statsmodels/base/model.py:606: ConvergenceWarning: Maximum Likelihood optimization failed to converge. Check mle_retvals\n",
      "  ConvergenceWarning)\n"
     ]
    },
    {
     "name": "stdout",
     "output_type": "stream",
     "text": [
      "Predict Finish, 70.5231 70.5222 0.986 0.014 Evaluation Finish\n",
      "59: Data Load Finish, Predict Finish, 4.4674 4.4492 0.0622 0.9375 Evaluation Finish\n",
      "60: Data Load Finish, Predict Finish, 5.3346 5.3178 0.0743 0.9254 Evaluation Finish\n",
      "61: Data Load Finish, Predict Finish, 4.4774 4.4535 0.0622 0.9374 Evaluation Finish\n",
      "62: Data Load Finish, Predict Finish, 4.1008 4.0794 0.057 0.9427 Evaluation Finish\n",
      "63: Data Load Finish, Predict Finish, 6.0804 6.0658 0.0848 0.915 Evaluation Finish\n",
      "64: Data Load Finish, Predict Finish, 7.6728 7.6623 0.1071 0.8927 Evaluation Finish\n",
      "65: Data Load Finish, Predict Finish, 4.5432 4.5068 0.063 0.9365 Evaluation Finish\n",
      "66: Data Load Finish, Predict Finish, 8.892 8.8776 0.1241 0.8757 Evaluation Finish\n",
      "67: Data Load Finish, Predict Finish, 8.238 8.2294 0.115 0.8848 Evaluation Finish\n",
      "68: Data Load Finish, Predict Finish, 3.48 3.428 0.0479 0.9513 Evaluation Finish\n",
      "69: Data Load Finish, "
     ]
    },
    {
     "name": "stderr",
     "output_type": "stream",
     "text": [
      "/home/vislab/anaconda3/envs/cctv/lib/python3.7/site-packages/pandas/core/arraylike.py:364: RuntimeWarning: divide by zero encountered in log\n",
      "  result = getattr(ufunc, method)(*inputs, **kwargs)\n",
      "/home/vislab/anaconda3/envs/cctv/lib/python3.7/site-packages/statsmodels/base/model.py:606: ConvergenceWarning: Maximum Likelihood optimization failed to converge. Check mle_retvals\n",
      "  ConvergenceWarning)\n"
     ]
    },
    {
     "name": "stdout",
     "output_type": "stream",
     "text": [
      "Predict Finish, 70.5231 70.5222 0.986 0.014 Evaluation Finish\n",
      "70: Data Load Finish, Predict Finish, 4.0407 4.0235 0.0562 0.9435 Evaluation Finish\n",
      "71: Data Load Finish, Predict Finish, 10.0946 10.0884 0.141 0.8589 Evaluation Finish\n",
      "72: Data Load Finish, Predict Finish, 4.996 4.9673 0.0694 0.9301 Evaluation Finish\n",
      "73: Data Load Finish, Predict Finish, 4.3002 4.2626 0.0596 0.9399 Evaluation Finish\n",
      "74: Data Load Finish, "
     ]
    },
    {
     "name": "stderr",
     "output_type": "stream",
     "text": [
      "/home/vislab/anaconda3/envs/cctv/lib/python3.7/site-packages/pandas/core/arraylike.py:364: RuntimeWarning: divide by zero encountered in log\n",
      "  result = getattr(ufunc, method)(*inputs, **kwargs)\n",
      "/home/vislab/anaconda3/envs/cctv/lib/python3.7/site-packages/statsmodels/base/model.py:606: ConvergenceWarning: Maximum Likelihood optimization failed to converge. Check mle_retvals\n",
      "  ConvergenceWarning)\n"
     ]
    },
    {
     "name": "stdout",
     "output_type": "stream",
     "text": [
      "Predict Finish, 70.5231 70.5222 0.986 0.014 Evaluation Finish\n",
      "75: Data Load Finish, Predict Finish, 3.7061 3.6833 0.0515 0.9482 Evaluation Finish\n",
      "76: Data Load Finish, Predict Finish, 2.9038 2.8417 0.0397 0.9594 Evaluation Finish\n",
      "77: Data Load Finish, Predict Finish, 4.4268 4.4072 0.0616 0.9381 Evaluation Finish\n",
      "78: Data Load Finish, "
     ]
    },
    {
     "name": "stderr",
     "output_type": "stream",
     "text": [
      "/home/vislab/anaconda3/envs/cctv/lib/python3.7/site-packages/pandas/core/arraylike.py:364: RuntimeWarning: divide by zero encountered in log\n",
      "  result = getattr(ufunc, method)(*inputs, **kwargs)\n",
      "/home/vislab/anaconda3/envs/cctv/lib/python3.7/site-packages/statsmodels/base/model.py:606: ConvergenceWarning: Maximum Likelihood optimization failed to converge. Check mle_retvals\n",
      "  ConvergenceWarning)\n"
     ]
    },
    {
     "name": "stdout",
     "output_type": "stream",
     "text": [
      "Predict Finish, 70.5231 70.5222 0.986 0.014 Evaluation Finish\n",
      "79: Data Load Finish, "
     ]
    },
    {
     "name": "stderr",
     "output_type": "stream",
     "text": [
      "/home/vislab/anaconda3/envs/cctv/lib/python3.7/site-packages/pandas/core/arraylike.py:364: RuntimeWarning: divide by zero encountered in log\n",
      "  result = getattr(ufunc, method)(*inputs, **kwargs)\n",
      "/home/vislab/anaconda3/envs/cctv/lib/python3.7/site-packages/statsmodels/base/model.py:606: ConvergenceWarning: Maximum Likelihood optimization failed to converge. Check mle_retvals\n",
      "  ConvergenceWarning)\n"
     ]
    },
    {
     "name": "stdout",
     "output_type": "stream",
     "text": [
      "Predict Finish, 70.5231 70.5222 0.986 0.014 Evaluation Finish\n",
      "80: Data Load Finish, Predict Finish, 6.9227 6.9014 0.0965 0.9032 Evaluation Finish\n",
      "81: Data Load Finish, Predict Finish, 4.3617 4.3405 0.0607 0.939 Evaluation Finish\n",
      "82: Data Load Finish, Predict Finish, 4.8672 4.8503 0.0678 0.9319 Evaluation Finish\n",
      "83: Data Load Finish, "
     ]
    },
    {
     "name": "stderr",
     "output_type": "stream",
     "text": [
      "/home/vislab/anaconda3/envs/cctv/lib/python3.7/site-packages/pandas/core/arraylike.py:364: RuntimeWarning: divide by zero encountered in log\n",
      "  result = getattr(ufunc, method)(*inputs, **kwargs)\n",
      "/home/vislab/anaconda3/envs/cctv/lib/python3.7/site-packages/statsmodels/base/model.py:606: ConvergenceWarning: Maximum Likelihood optimization failed to converge. Check mle_retvals\n",
      "  ConvergenceWarning)\n"
     ]
    },
    {
     "name": "stdout",
     "output_type": "stream",
     "text": [
      "Predict Finish, 70.5231 70.5222 0.986 0.014 Evaluation Finish\n",
      "84: Data Load Finish, Predict Finish, 3.753 3.7212 0.052 0.9475 Evaluation Finish\n",
      "85: Data Load Finish, "
     ]
    },
    {
     "name": "stderr",
     "output_type": "stream",
     "text": [
      "/home/vislab/anaconda3/envs/cctv/lib/python3.7/site-packages/pandas/core/arraylike.py:364: RuntimeWarning: divide by zero encountered in log\n",
      "  result = getattr(ufunc, method)(*inputs, **kwargs)\n",
      "/home/vislab/anaconda3/envs/cctv/lib/python3.7/site-packages/statsmodels/base/model.py:606: ConvergenceWarning: Maximum Likelihood optimization failed to converge. Check mle_retvals\n",
      "  ConvergenceWarning)\n"
     ]
    },
    {
     "name": "stdout",
     "output_type": "stream",
     "text": [
      "Predict Finish, 70.5231 70.5222 0.986 0.014 Evaluation Finish\n",
      "86: Data Load Finish, "
     ]
    },
    {
     "name": "stderr",
     "output_type": "stream",
     "text": [
      "/home/vislab/anaconda3/envs/cctv/lib/python3.7/site-packages/pandas/core/arraylike.py:364: RuntimeWarning: divide by zero encountered in log\n",
      "  result = getattr(ufunc, method)(*inputs, **kwargs)\n",
      "/home/vislab/anaconda3/envs/cctv/lib/python3.7/site-packages/statsmodels/base/model.py:606: ConvergenceWarning: Maximum Likelihood optimization failed to converge. Check mle_retvals\n",
      "  ConvergenceWarning)\n"
     ]
    },
    {
     "name": "stdout",
     "output_type": "stream",
     "text": [
      "Predict Finish, 70.5231 70.5222 0.986 0.014 Evaluation Finish\n",
      "87: Data Load Finish, Predict Finish, 5.3201 5.3013 0.0741 0.9256 Evaluation Finish\n",
      "88: Data Load Finish, Predict Finish, 9.7782 9.7684 0.1366 0.8633 Evaluation Finish\n",
      "89: Data Load Finish, Predict Finish, 4.1462 4.1273 0.0577 0.942 Evaluation Finish\n",
      "90: Data Load Finish, Predict Finish, 4.9852 4.9633 0.0694 0.9303 Evaluation Finish\n",
      "91: Data Load Finish, "
     ]
    },
    {
     "name": "stderr",
     "output_type": "stream",
     "text": [
      "/home/vislab/anaconda3/envs/cctv/lib/python3.7/site-packages/pandas/core/arraylike.py:364: RuntimeWarning: divide by zero encountered in log\n",
      "  result = getattr(ufunc, method)(*inputs, **kwargs)\n",
      "/home/vislab/anaconda3/envs/cctv/lib/python3.7/site-packages/statsmodels/base/model.py:606: ConvergenceWarning: Maximum Likelihood optimization failed to converge. Check mle_retvals\n",
      "  ConvergenceWarning)\n"
     ]
    },
    {
     "name": "stdout",
     "output_type": "stream",
     "text": [
      "Predict Finish, 70.5231 70.5222 0.986 0.014 Evaluation Finish\n",
      "92: Data Load Finish, Predict Finish, 2.8902 2.8655 0.04 0.9596 Evaluation Finish\n",
      "93: Data Load Finish, Predict Finish, 5.1809 5.1602 0.0721 0.9276 Evaluation Finish\n",
      "94: Data Load Finish, "
     ]
    },
    {
     "name": "stderr",
     "output_type": "stream",
     "text": [
      "/home/vislab/anaconda3/envs/cctv/lib/python3.7/site-packages/pandas/core/arraylike.py:364: RuntimeWarning: divide by zero encountered in log\n",
      "  result = getattr(ufunc, method)(*inputs, **kwargs)\n",
      "/home/vislab/anaconda3/envs/cctv/lib/python3.7/site-packages/statsmodels/base/model.py:606: ConvergenceWarning: Maximum Likelihood optimization failed to converge. Check mle_retvals\n",
      "  ConvergenceWarning)\n"
     ]
    },
    {
     "name": "stdout",
     "output_type": "stream",
     "text": [
      "Predict Finish, 70.5231 70.5222 0.986 0.014 Evaluation Finish\n",
      "95: Data Load Finish, Predict Finish, 5.2705 5.2569 0.0735 0.9263 Evaluation Finish\n",
      "96: Data Load Finish, Predict Finish, 10.9741 10.9684 0.1533 0.8466 Evaluation Finish\n",
      "97: Data Load Finish, Predict Finish, 2.4714 2.4006 0.0335 0.9654 Evaluation Finish\n",
      "98: Data Load Finish, Predict Finish, 10.0584 10.0523 0.1405 0.8594 Evaluation Finish\n",
      "99: Data Load Finish, Predict Finish, 2.2671 2.2149 0.0309 0.9683 Evaluation Finish\n",
      "100: Data Load Finish, Predict Finish, 4.9426 4.8898 0.0683 0.9309 Evaluation Finish\n",
      "101: Data Load Finish, Predict Finish, 5.7606 5.7466 0.0803 0.9195 Evaluation Finish\n",
      "102: Data Load Finish, "
     ]
    },
    {
     "name": "stderr",
     "output_type": "stream",
     "text": [
      "/home/vislab/anaconda3/envs/cctv/lib/python3.7/site-packages/pandas/core/arraylike.py:364: RuntimeWarning: divide by zero encountered in log\n",
      "  result = getattr(ufunc, method)(*inputs, **kwargs)\n",
      "/home/vislab/anaconda3/envs/cctv/lib/python3.7/site-packages/statsmodels/base/model.py:606: ConvergenceWarning: Maximum Likelihood optimization failed to converge. Check mle_retvals\n",
      "  ConvergenceWarning)\n"
     ]
    },
    {
     "name": "stdout",
     "output_type": "stream",
     "text": [
      "Predict Finish, 70.5231 70.5222 0.986 0.014 Evaluation Finish\n",
      "103: Data Load Finish, "
     ]
    },
    {
     "name": "stderr",
     "output_type": "stream",
     "text": [
      "/home/vislab/anaconda3/envs/cctv/lib/python3.7/site-packages/pandas/core/arraylike.py:364: RuntimeWarning: divide by zero encountered in log\n",
      "  result = getattr(ufunc, method)(*inputs, **kwargs)\n",
      "/home/vislab/anaconda3/envs/cctv/lib/python3.7/site-packages/statsmodels/base/model.py:606: ConvergenceWarning: Maximum Likelihood optimization failed to converge. Check mle_retvals\n",
      "  ConvergenceWarning)\n"
     ]
    },
    {
     "name": "stdout",
     "output_type": "stream",
     "text": [
      "Predict Finish, 70.5231 70.5222 0.986 0.014 Evaluation Finish\n",
      "104: Data Load Finish, Predict Finish, 9.1291 9.0943 0.1271 0.8724 Evaluation Finish\n",
      "105: Data Load Finish, "
     ]
    },
    {
     "name": "stderr",
     "output_type": "stream",
     "text": [
      "/home/vislab/anaconda3/envs/cctv/lib/python3.7/site-packages/pandas/core/arraylike.py:364: RuntimeWarning: divide by zero encountered in log\n",
      "  result = getattr(ufunc, method)(*inputs, **kwargs)\n",
      "/home/vislab/anaconda3/envs/cctv/lib/python3.7/site-packages/statsmodels/base/model.py:606: ConvergenceWarning: Maximum Likelihood optimization failed to converge. Check mle_retvals\n",
      "  ConvergenceWarning)\n"
     ]
    },
    {
     "name": "stdout",
     "output_type": "stream",
     "text": [
      "Predict Finish, 70.5231 70.5222 0.986 0.014 Evaluation Finish\n",
      "106: Data Load Finish, Predict Finish, 5.0233 5.0034 0.0699 0.9298 Evaluation Finish\n",
      "107: Data Load Finish, "
     ]
    },
    {
     "name": "stderr",
     "output_type": "stream",
     "text": [
      "/home/vislab/anaconda3/envs/cctv/lib/python3.7/site-packages/pandas/core/arraylike.py:364: RuntimeWarning: divide by zero encountered in log\n",
      "  result = getattr(ufunc, method)(*inputs, **kwargs)\n",
      "/home/vislab/anaconda3/envs/cctv/lib/python3.7/site-packages/statsmodels/base/model.py:606: ConvergenceWarning: Maximum Likelihood optimization failed to converge. Check mle_retvals\n",
      "  ConvergenceWarning)\n"
     ]
    },
    {
     "name": "stdout",
     "output_type": "stream",
     "text": [
      "Predict Finish, 70.5231 70.5222 0.986 0.014 Evaluation Finish\n",
      "108: Data Load Finish, Predict Finish, 3.3999 3.3752 0.0472 0.9525 Evaluation Finish\n",
      "109: Data Load Finish, Predict Finish, 0.7177 0.5252 0.0073 0.99 Evaluation Finish\n",
      "110: Data Load Finish, "
     ]
    },
    {
     "name": "stderr",
     "output_type": "stream",
     "text": [
      "/home/vislab/anaconda3/envs/cctv/lib/python3.7/site-packages/pandas/core/arraylike.py:364: RuntimeWarning: divide by zero encountered in log\n",
      "  result = getattr(ufunc, method)(*inputs, **kwargs)\n",
      "/home/vislab/anaconda3/envs/cctv/lib/python3.7/site-packages/statsmodels/base/model.py:606: ConvergenceWarning: Maximum Likelihood optimization failed to converge. Check mle_retvals\n",
      "  ConvergenceWarning)\n"
     ]
    },
    {
     "name": "stdout",
     "output_type": "stream",
     "text": [
      "Predict Finish, 70.5231 70.5222 0.986 0.014 Evaluation Finish\n",
      "111: Data Load Finish, Predict Finish, 3.7713 3.7549 0.0525 0.9473 Evaluation Finish\n",
      "112: Data Load Finish, Predict Finish, 2.4001 2.3605 0.033 0.9664 Evaluation Finish\n",
      "113: Data Load Finish, Predict Finish, 4.9849 4.9681 0.0694 0.9303 Evaluation Finish\n",
      "114: Data Load Finish, Predict Finish, 4.7973 4.7796 0.0668 0.9329 Evaluation Finish\n",
      "115: Data Load Finish, Predict Finish, 9.2342 9.2273 0.129 0.8709 Evaluation Finish\n",
      "116: Data Load Finish, Predict Finish, 9.9912 9.9845 0.1396 0.8603 Evaluation Finish\n",
      "117: Data Load Finish, "
     ]
    },
    {
     "name": "stderr",
     "output_type": "stream",
     "text": [
      "/home/vislab/anaconda3/envs/cctv/lib/python3.7/site-packages/pandas/core/arraylike.py:364: RuntimeWarning: divide by zero encountered in log\n",
      "  result = getattr(ufunc, method)(*inputs, **kwargs)\n",
      "/home/vislab/anaconda3/envs/cctv/lib/python3.7/site-packages/statsmodels/base/model.py:606: ConvergenceWarning: Maximum Likelihood optimization failed to converge. Check mle_retvals\n",
      "  ConvergenceWarning)\n"
     ]
    },
    {
     "name": "stdout",
     "output_type": "stream",
     "text": [
      "Predict Finish, 70.5231 70.5222 0.986 0.014 Evaluation Finish\n",
      "118: Data Load Finish, Predict Finish, 2.1829 2.1275 0.0297 0.9695 Evaluation Finish\n",
      "119: Data Load Finish, Predict Finish, 3.5718 3.5495 0.0496 0.9501 Evaluation Finish\n",
      "120: Data Load Finish, Predict Finish, 4.2077 4.1845 0.0585 0.9412 Evaluation Finish\n",
      "121: Data Load Finish, "
     ]
    },
    {
     "name": "stderr",
     "output_type": "stream",
     "text": [
      "/home/vislab/anaconda3/envs/cctv/lib/python3.7/site-packages/pandas/core/arraylike.py:364: RuntimeWarning: divide by zero encountered in log\n",
      "  result = getattr(ufunc, method)(*inputs, **kwargs)\n",
      "/home/vislab/anaconda3/envs/cctv/lib/python3.7/site-packages/statsmodels/base/model.py:606: ConvergenceWarning: Maximum Likelihood optimization failed to converge. Check mle_retvals\n",
      "  ConvergenceWarning)\n"
     ]
    },
    {
     "name": "stdout",
     "output_type": "stream",
     "text": [
      "Predict Finish, 70.5231 70.5222 0.986 0.014 Evaluation Finish\n",
      "122: Data Load Finish, Predict Finish, 3.6907 3.6656 0.0512 0.9484 Evaluation Finish\n",
      "123: Data Load Finish, Predict Finish, 5.7359 5.7247 0.08 0.9198 Evaluation Finish\n",
      "124: Data Load Finish, Predict Finish, 2.4954 2.4658 0.0345 0.9651 Evaluation Finish\n",
      "125: Data Load Finish, Predict Finish, 7.0088 6.9971 0.0978 0.902 Evaluation Finish\n",
      "126: Data Load Finish, Predict Finish, 8.3198 8.3114 0.1162 0.8837 Evaluation Finish\n",
      "127: Data Load Finish, Predict Finish, 8.0817 8.0734 0.1129 0.887 Evaluation Finish\n",
      "128: Data Load Finish, Predict Finish, 4.9864 4.9649 0.0694 0.9303 Evaluation Finish\n",
      "129: Data Load Finish, Predict Finish, 4.1622 4.143 0.0579 0.9418 Evaluation Finish\n",
      "130: Data Load Finish, Predict Finish, 4.2356 4.2057 0.0588 0.9408 Evaluation Finish\n",
      "131: Data Load Finish, Predict Finish, 5.1254 5.1119 0.0715 0.9283 Evaluation Finish\n",
      "132: Data Load Finish, Predict Finish, 3.8942 3.8526 0.0538 0.9456 Evaluation Finish\n",
      "133: Data Load Finish, Predict Finish, 9.6193 9.5872 0.134 0.8655 Evaluation Finish\n",
      "134: Data Load Finish, Predict Finish, 5.5283 5.4462 0.0761 0.9227 Evaluation Finish\n",
      "135: Data Load Finish, "
     ]
    },
    {
     "name": "stderr",
     "output_type": "stream",
     "text": [
      "/home/vislab/anaconda3/envs/cctv/lib/python3.7/site-packages/pandas/core/arraylike.py:364: RuntimeWarning: divide by zero encountered in log\n",
      "  result = getattr(ufunc, method)(*inputs, **kwargs)\n",
      "/home/vislab/anaconda3/envs/cctv/lib/python3.7/site-packages/statsmodels/base/model.py:606: ConvergenceWarning: Maximum Likelihood optimization failed to converge. Check mle_retvals\n",
      "  ConvergenceWarning)\n"
     ]
    },
    {
     "name": "stdout",
     "output_type": "stream",
     "text": [
      "Predict Finish, 70.5231 70.5222 0.986 0.014 Evaluation Finish\n",
      "136: Data Load Finish, Predict Finish, 0.5442 0.399 0.0056 0.9924 Evaluation Finish\n",
      "137: Data Load Finish, Predict Finish, 4.203 4.1851 0.0585 0.9412 Evaluation Finish\n",
      "138: Data Load Finish, Predict Finish, 5.6514 5.6302 0.0787 0.921 Evaluation Finish\n",
      "139: Data Load Finish, Predict Finish, 6.0003 5.9899 0.0837 0.9161 Evaluation Finish\n",
      "140: Data Load Finish, "
     ]
    },
    {
     "name": "stderr",
     "output_type": "stream",
     "text": [
      "/home/vislab/anaconda3/envs/cctv/lib/python3.7/site-packages/pandas/core/arraylike.py:364: RuntimeWarning: divide by zero encountered in log\n",
      "  result = getattr(ufunc, method)(*inputs, **kwargs)\n",
      "/home/vislab/anaconda3/envs/cctv/lib/python3.7/site-packages/statsmodels/base/model.py:606: ConvergenceWarning: Maximum Likelihood optimization failed to converge. Check mle_retvals\n",
      "  ConvergenceWarning)\n"
     ]
    },
    {
     "name": "stdout",
     "output_type": "stream",
     "text": [
      "Predict Finish, 70.5231 70.5222 0.986 0.014 Evaluation Finish\n",
      "141: Data Load Finish, Predict Finish, 1.5645 1.507 0.021 0.9781 Evaluation Finish\n",
      "142: Data Load Finish, Predict Finish, 1.0149 0.9226 0.0129 0.9858 Evaluation Finish\n",
      "143: Data Load Finish, "
     ]
    },
    {
     "name": "stderr",
     "output_type": "stream",
     "text": [
      "/home/vislab/anaconda3/envs/cctv/lib/python3.7/site-packages/pandas/core/arraylike.py:364: RuntimeWarning: divide by zero encountered in log\n",
      "  result = getattr(ufunc, method)(*inputs, **kwargs)\n",
      "/home/vislab/anaconda3/envs/cctv/lib/python3.7/site-packages/statsmodels/base/model.py:606: ConvergenceWarning: Maximum Likelihood optimization failed to converge. Check mle_retvals\n",
      "  ConvergenceWarning)\n"
     ]
    },
    {
     "name": "stdout",
     "output_type": "stream",
     "text": [
      "Predict Finish, 70.5231 70.5222 0.986 0.014 Evaluation Finish\n",
      "144: Data Load Finish, Predict Finish, 5.0204 5.0007 0.0699 0.9298 Evaluation Finish\n",
      "145: Data Load Finish, Predict Finish, 6.885 6.8752 0.0961 0.9037 Evaluation Finish\n",
      "146: Data Load Finish, Predict Finish, 8.4707 8.425 0.1178 0.8816 Evaluation Finish\n",
      "147: Data Load Finish, Predict Finish, 7.6454 7.637 0.1068 0.8931 Evaluation Finish\n",
      "148: Data Load Finish, "
     ]
    },
    {
     "name": "stderr",
     "output_type": "stream",
     "text": [
      "/home/vislab/anaconda3/envs/cctv/lib/python3.7/site-packages/pandas/core/arraylike.py:364: RuntimeWarning: divide by zero encountered in log\n",
      "  result = getattr(ufunc, method)(*inputs, **kwargs)\n",
      "/home/vislab/anaconda3/envs/cctv/lib/python3.7/site-packages/statsmodels/base/model.py:606: ConvergenceWarning: Maximum Likelihood optimization failed to converge. Check mle_retvals\n",
      "  ConvergenceWarning)\n"
     ]
    },
    {
     "name": "stdout",
     "output_type": "stream",
     "text": [
      "Predict Finish, 70.5231 70.5222 0.986 0.014 Evaluation Finish\n",
      "149: Data Load Finish, Predict Finish, 6.6852 6.6727 0.0933 0.9065 Evaluation Finish\n",
      "150: Data Load Finish, "
     ]
    },
    {
     "name": "stderr",
     "output_type": "stream",
     "text": [
      "/home/vislab/anaconda3/envs/cctv/lib/python3.7/site-packages/pandas/core/arraylike.py:364: RuntimeWarning: divide by zero encountered in log\n",
      "  result = getattr(ufunc, method)(*inputs, **kwargs)\n",
      "/home/vislab/anaconda3/envs/cctv/lib/python3.7/site-packages/statsmodels/base/model.py:606: ConvergenceWarning: Maximum Likelihood optimization failed to converge. Check mle_retvals\n",
      "  ConvergenceWarning)\n"
     ]
    },
    {
     "name": "stdout",
     "output_type": "stream",
     "text": [
      "Predict Finish, 70.5231 70.5222 0.986 0.014 Evaluation Finish\n",
      "151: Data Load Finish, Predict Finish, 6.2413 6.2228 0.087 0.9127 Evaluation Finish\n",
      "152: Data Load Finish, "
     ]
    },
    {
     "name": "stderr",
     "output_type": "stream",
     "text": [
      "/home/vislab/anaconda3/envs/cctv/lib/python3.7/site-packages/statsmodels/base/model.py:606: ConvergenceWarning: Maximum Likelihood optimization failed to converge. Check mle_retvals\n",
      "  ConvergenceWarning)\n"
     ]
    },
    {
     "name": "stdout",
     "output_type": "stream",
     "text": [
      "Predict Finish, 14.504 14.4967 0.2027 0.7972 Evaluation Finish\n",
      "153: Data Load Finish, Predict Finish, 4.5887 4.5728 0.0639 0.9358 Evaluation Finish\n",
      "154: Data Load Finish, Predict Finish, 3.4054 3.3835 0.0473 0.9524 Evaluation Finish\n",
      "155: Data Load Finish, Predict Finish, 6.2471 6.2368 0.0872 0.9127 Evaluation Finish\n",
      "156: Data Load Finish, Predict Finish, 2.3262 2.2968 0.0321 0.9675 Evaluation Finish\n",
      "157: Data Load Finish, Predict Finish, 3.1076 3.068 0.0429 0.9566 Evaluation Finish\n",
      "158: Data Load Finish, Predict Finish, 5.5228 5.493 0.0768 0.9228 Evaluation Finish\n",
      "159: Data Load Finish, "
     ]
    },
    {
     "name": "stderr",
     "output_type": "stream",
     "text": [
      "/home/vislab/anaconda3/envs/cctv/lib/python3.7/site-packages/pandas/core/arraylike.py:364: RuntimeWarning: divide by zero encountered in log\n",
      "  result = getattr(ufunc, method)(*inputs, **kwargs)\n",
      "/home/vislab/anaconda3/envs/cctv/lib/python3.7/site-packages/statsmodels/base/model.py:606: ConvergenceWarning: Maximum Likelihood optimization failed to converge. Check mle_retvals\n",
      "  ConvergenceWarning)\n"
     ]
    },
    {
     "name": "stdout",
     "output_type": "stream",
     "text": [
      "Predict Finish, 70.5231 70.5222 0.986 0.014 Evaluation Finish\n",
      "160: Data Load Finish, Predict Finish, 7.7791 7.7714 0.1086 0.8912 Evaluation Finish\n",
      "161: Data Load Finish, "
     ]
    },
    {
     "name": "stderr",
     "output_type": "stream",
     "text": [
      "/home/vislab/anaconda3/envs/cctv/lib/python3.7/site-packages/pandas/core/arraylike.py:364: RuntimeWarning: divide by zero encountered in log\n",
      "  result = getattr(ufunc, method)(*inputs, **kwargs)\n",
      "/home/vislab/anaconda3/envs/cctv/lib/python3.7/site-packages/statsmodels/base/model.py:606: ConvergenceWarning: Maximum Likelihood optimization failed to converge. Check mle_retvals\n",
      "  ConvergenceWarning)\n"
     ]
    },
    {
     "name": "stdout",
     "output_type": "stream",
     "text": [
      "Predict Finish, 70.5231 70.5222 0.986 0.014 Evaluation Finish\n",
      "162: Data Load Finish, Predict Finish, 9.689 9.6813 0.1353 0.8645 Evaluation Finish\n",
      "163: Data Load Finish, Predict Finish, 5.8369 5.8195 0.0813 0.9184 Evaluation Finish\n",
      "164: Data Load Finish, Predict Finish, 3.6057 3.5806 0.05 0.9496 Evaluation Finish\n",
      "165: Data Load Finish, Predict Finish, 0.5569 0.4116 0.0057 0.9922 Evaluation Finish\n",
      "166: Data Load Finish, Predict Finish, 4.8481 4.8318 0.0675 0.9322 Evaluation Finish\n",
      "167: Data Load Finish, Predict Finish, 8.908 8.9003 0.1244 0.8755 Evaluation Finish\n",
      "168: Data Load Finish, Predict Finish, 3.1371 3.0965 0.0433 0.9561 Evaluation Finish\n",
      "169: Data Load Finish, Predict Finish, 5.7319 5.7052 0.0797 0.9199 Evaluation Finish\n",
      "170: Data Load Finish, Predict Finish, 5.3794 5.3595 0.0749 0.9248 Evaluation Finish\n",
      "171: Data Load Finish, Predict Finish, 7.7053 7.6971 0.1076 0.8923 Evaluation Finish\n",
      "172: Data Load Finish, "
     ]
    },
    {
     "name": "stderr",
     "output_type": "stream",
     "text": [
      "/home/vislab/anaconda3/envs/cctv/lib/python3.7/site-packages/pandas/core/arraylike.py:364: RuntimeWarning: divide by zero encountered in log\n",
      "  result = getattr(ufunc, method)(*inputs, **kwargs)\n",
      "/home/vislab/anaconda3/envs/cctv/lib/python3.7/site-packages/statsmodels/base/model.py:606: ConvergenceWarning: Maximum Likelihood optimization failed to converge. Check mle_retvals\n",
      "  ConvergenceWarning)\n"
     ]
    },
    {
     "name": "stdout",
     "output_type": "stream",
     "text": [
      "Predict Finish, 70.5231 70.5222 0.986 0.014 Evaluation Finish\n",
      "173: Data Load Finish, Predict Finish, 3.2725 3.2505 0.0454 0.9542 Evaluation Finish\n",
      "174: Data Load Finish, Predict Finish, 0.9095 0.7281 0.0102 0.9873 Evaluation Finish\n",
      "175: Data Load Finish, Predict Finish, 2.6401 2.6074 0.0364 0.9631 Evaluation Finish\n",
      "176: Data Load Finish, Predict Finish, 9.2501 9.2377 0.1291 0.8707 Evaluation Finish\n",
      "177: Data Load Finish, Predict Finish, 4.0745 4.0598 0.0567 0.943 Evaluation Finish\n",
      "178: Data Load Finish, Predict Finish, 2.2014 2.1462 0.03 0.9692 Evaluation Finish\n",
      "179: Data Load Finish, Predict Finish, 2.1917 2.1544 0.0301 0.9694 Evaluation Finish\n",
      "180: Data Load Finish, "
     ]
    },
    {
     "name": "stderr",
     "output_type": "stream",
     "text": [
      "/home/vislab/anaconda3/envs/cctv/lib/python3.7/site-packages/pandas/core/arraylike.py:364: RuntimeWarning: divide by zero encountered in log\n",
      "  result = getattr(ufunc, method)(*inputs, **kwargs)\n",
      "/home/vislab/anaconda3/envs/cctv/lib/python3.7/site-packages/statsmodels/base/model.py:606: ConvergenceWarning: Maximum Likelihood optimization failed to converge. Check mle_retvals\n",
      "  ConvergenceWarning)\n"
     ]
    },
    {
     "name": "stdout",
     "output_type": "stream",
     "text": [
      "Predict Finish, 70.5231 70.5222 0.986 0.014 Evaluation Finish\n",
      "181: Data Load Finish, "
     ]
    },
    {
     "name": "stderr",
     "output_type": "stream",
     "text": [
      "/home/vislab/anaconda3/envs/cctv/lib/python3.7/site-packages/pandas/core/arraylike.py:364: RuntimeWarning: divide by zero encountered in log\n",
      "  result = getattr(ufunc, method)(*inputs, **kwargs)\n",
      "/home/vislab/anaconda3/envs/cctv/lib/python3.7/site-packages/statsmodels/base/model.py:606: ConvergenceWarning: Maximum Likelihood optimization failed to converge. Check mle_retvals\n",
      "  ConvergenceWarning)\n"
     ]
    },
    {
     "name": "stdout",
     "output_type": "stream",
     "text": [
      "Predict Finish, 70.5231 70.5222 0.986 0.014 Evaluation Finish\n",
      "182: Data Load Finish, Predict Finish, 4.1634 4.1439 0.0579 0.9418 Evaluation Finish\n",
      "183: Data Load Finish, "
     ]
    },
    {
     "name": "stderr",
     "output_type": "stream",
     "text": [
      "/home/vislab/anaconda3/envs/cctv/lib/python3.7/site-packages/statsmodels/base/model.py:606: ConvergenceWarning: Maximum Likelihood optimization failed to converge. Check mle_retvals\n",
      "  ConvergenceWarning)\n"
     ]
    },
    {
     "name": "stdout",
     "output_type": "stream",
     "text": [
      "Predict Finish, 5.8831 5.8559 0.0819 0.9177 Evaluation Finish\n",
      "184: Data Load Finish, Predict Finish, 6.7685 6.7589 0.0945 0.9054 Evaluation Finish\n",
      "185: Data Load Finish, Predict Finish, 5.3694 5.3532 0.0748 0.9249 Evaluation Finish\n",
      "186: Data Load Finish, Predict Finish, 3.7161 3.6899 0.0516 0.948 Evaluation Finish\n",
      "187: Data Load Finish, Predict Finish, 3.4596 3.4365 0.048 0.9516 Evaluation Finish\n",
      "188: Data Load Finish, Predict Finish, 4.0135 3.9926 0.0558 0.9439 Evaluation Finish\n",
      "189: Data Load Finish, Predict Finish, 2.7609 2.7195 0.038 0.9614 Evaluation Finish\n",
      "190: Data Load Finish, Predict Finish, 3.0202 2.9953 0.0419 0.9578 Evaluation Finish\n",
      "191: Data Load Finish, Predict Finish, 4.2884 4.2693 0.0597 0.94 Evaluation Finish\n",
      "192: Data Load Finish, Predict Finish, 5.5145 5.4991 0.0769 0.9229 Evaluation Finish\n",
      "193: Data Load Finish, Predict Finish, 2.2108 2.1802 0.0305 0.9691 Evaluation Finish\n",
      "194: Data Load Finish, Predict Finish, 4.5321 4.51 0.063 0.9366 Evaluation Finish\n",
      "195: Data Load Finish, Predict Finish, 5.5487 5.5343 0.0774 0.9224 Evaluation Finish\n",
      "196: Data Load Finish, Predict Finish, 2.988 2.9602 0.0414 0.9582 Evaluation Finish\n",
      "197: Data Load Finish, Predict Finish, 4.6191 4.6025 0.0643 0.9354 Evaluation Finish\n",
      "198: Data Load Finish, Predict Finish, 5.5666 5.5138 0.0771 0.9222 Evaluation Finish\n",
      "199: Data Load Finish, "
     ]
    },
    {
     "name": "stderr",
     "output_type": "stream",
     "text": [
      "/home/vislab/anaconda3/envs/cctv/lib/python3.7/site-packages/pandas/core/arraylike.py:364: RuntimeWarning: divide by zero encountered in log\n",
      "  result = getattr(ufunc, method)(*inputs, **kwargs)\n",
      "/home/vislab/anaconda3/envs/cctv/lib/python3.7/site-packages/statsmodels/base/model.py:606: ConvergenceWarning: Maximum Likelihood optimization failed to converge. Check mle_retvals\n",
      "  ConvergenceWarning)\n"
     ]
    },
    {
     "name": "stdout",
     "output_type": "stream",
     "text": [
      "Predict Finish, 70.5231 70.5222 0.986 0.014 Evaluation Finish\n",
      "200: Data Load Finish, "
     ]
    },
    {
     "name": "stderr",
     "output_type": "stream",
     "text": [
      "/home/vislab/anaconda3/envs/cctv/lib/python3.7/site-packages/pandas/core/arraylike.py:364: RuntimeWarning: divide by zero encountered in log\n",
      "  result = getattr(ufunc, method)(*inputs, **kwargs)\n",
      "/home/vislab/anaconda3/envs/cctv/lib/python3.7/site-packages/statsmodels/base/model.py:606: ConvergenceWarning: Maximum Likelihood optimization failed to converge. Check mle_retvals\n",
      "  ConvergenceWarning)\n"
     ]
    },
    {
     "name": "stdout",
     "output_type": "stream",
     "text": [
      "Predict Finish, 70.5231 70.5222 0.986 0.014 Evaluation Finish\n",
      "201: Data Load Finish, Predict Finish, 4.6326 4.6073 0.0644 0.9352 Evaluation Finish\n",
      "202: Data Load Finish, Predict Finish, 7.489 7.4782 0.1045 0.8953 Evaluation Finish\n",
      "203: Data Load Finish, Predict Finish, 8.0459 8.0359 0.1123 0.8875 Evaluation Finish\n",
      "204: Data Load Finish, Predict Finish, 8.075 8.067 0.1128 0.8871 Evaluation Finish\n",
      "205: Data Load Finish, Predict Finish, 9.1651 9.1579 0.128 0.8719 Evaluation Finish\n",
      "206: Data Load Finish, Predict Finish, 6.1407 6.1295 0.0857 0.9141 Evaluation Finish\n",
      "207: Data Load Finish, Predict Finish, 3.2983 3.2452 0.0454 0.9539 Evaluation Finish\n",
      "208: Data Load Finish, "
     ]
    },
    {
     "name": "stderr",
     "output_type": "stream",
     "text": [
      "/home/vislab/anaconda3/envs/cctv/lib/python3.7/site-packages/pandas/core/arraylike.py:364: RuntimeWarning: divide by zero encountered in log\n",
      "  result = getattr(ufunc, method)(*inputs, **kwargs)\n",
      "/home/vislab/anaconda3/envs/cctv/lib/python3.7/site-packages/statsmodels/base/model.py:606: ConvergenceWarning: Maximum Likelihood optimization failed to converge. Check mle_retvals\n",
      "  ConvergenceWarning)\n"
     ]
    },
    {
     "name": "stdout",
     "output_type": "stream",
     "text": [
      "Predict Finish, 70.5231 70.5222 0.986 0.014 Evaluation Finish\n",
      "209: Data Load Finish, Predict Finish, 5.1353 5.117 0.0715 0.9282 Evaluation Finish\n",
      "210: Data Load Finish, "
     ]
    },
    {
     "name": "stderr",
     "output_type": "stream",
     "text": [
      "/home/vislab/anaconda3/envs/cctv/lib/python3.7/site-packages/pandas/core/arraylike.py:364: RuntimeWarning: divide by zero encountered in log\n",
      "  result = getattr(ufunc, method)(*inputs, **kwargs)\n",
      "/home/vislab/anaconda3/envs/cctv/lib/python3.7/site-packages/statsmodels/base/model.py:606: ConvergenceWarning: Maximum Likelihood optimization failed to converge. Check mle_retvals\n",
      "  ConvergenceWarning)\n"
     ]
    },
    {
     "name": "stdout",
     "output_type": "stream",
     "text": [
      "Predict Finish, 70.5231 70.5222 0.986 0.014 Evaluation Finish\n",
      "211: Data Load Finish, Predict Finish, 7.0505 7.0418 0.0984 0.9014 Evaluation Finish\n",
      "212: Data Load Finish, "
     ]
    },
    {
     "name": "stderr",
     "output_type": "stream",
     "text": [
      "/home/vislab/anaconda3/envs/cctv/lib/python3.7/site-packages/pandas/core/arraylike.py:364: RuntimeWarning: divide by zero encountered in log\n",
      "  result = getattr(ufunc, method)(*inputs, **kwargs)\n",
      "/home/vislab/anaconda3/envs/cctv/lib/python3.7/site-packages/statsmodels/base/model.py:606: ConvergenceWarning: Maximum Likelihood optimization failed to converge. Check mle_retvals\n",
      "  ConvergenceWarning)\n"
     ]
    },
    {
     "name": "stdout",
     "output_type": "stream",
     "text": [
      "Predict Finish, 70.5231 70.5222 0.986 0.014 Evaluation Finish\n",
      "213: Data Load Finish, Predict Finish, 6.1184 6.1086 0.0854 0.9145 Evaluation Finish\n",
      "214: Data Load Finish, Predict Finish, 6.7118 6.7004 0.0937 0.9062 Evaluation Finish\n",
      "215: Data Load Finish, Predict Finish, 8.5015 8.4937 0.1187 0.8811 Evaluation Finish\n",
      "216: Data Load Finish, Predict Finish, 5.3056 5.2915 0.074 0.9258 Evaluation Finish\n",
      "217: Data Load Finish, Predict Finish, 5.1718 5.1576 0.0721 0.9277 Evaluation Finish\n",
      "218: Data Load Finish, Predict Finish, 6.7431 6.7335 0.0941 0.9057 Evaluation Finish\n",
      "219: Data Load Finish, Predict Finish, 5.6491 5.6365 0.0788 0.921 Evaluation Finish\n",
      "220: Data Load Finish, Predict Finish, 3.6095 3.5906 0.0502 0.9495 Evaluation Finish\n",
      "221: Data Load Finish, Predict Finish, 7.6627 7.6542 0.107 0.8929 Evaluation Finish\n",
      "222: Data Load Finish, Predict Finish, 6.8368 6.8279 0.0954 0.9044 Evaluation Finish\n",
      "223: Data Load Finish, Predict Finish, 7.5571 7.5484 0.1055 0.8943 Evaluation Finish\n",
      "224: Data Load Finish, Predict Finish, 6.9624 6.951 0.0972 0.9027 Evaluation Finish\n",
      "225: Data Load Finish, Predict Finish, 7.5027 7.4936 0.1048 0.8951 Evaluation Finish\n",
      "226: Data Load Finish, Predict Finish, 4.2442 4.213 0.0589 0.9407 Evaluation Finish\n",
      "227: Data Load Finish, Predict Finish, 4.2064 4.172 0.0583 0.9412 Evaluation Finish\n",
      "228: Data Load Finish, Predict Finish, 3.3899 3.3645 0.047 0.9526 Evaluation Finish\n",
      "229: Data Load Finish, Predict Finish, 6.6625 6.6517 0.093 0.9068 Evaluation Finish\n",
      "230: Data Load Finish, Predict Finish, 1.1597 1.0529 0.0147 0.9838 Evaluation Finish\n",
      "231: Data Load Finish, "
     ]
    },
    {
     "name": "stderr",
     "output_type": "stream",
     "text": [
      "/home/vislab/anaconda3/envs/cctv/lib/python3.7/site-packages/pandas/core/arraylike.py:364: RuntimeWarning: divide by zero encountered in log\n",
      "  result = getattr(ufunc, method)(*inputs, **kwargs)\n",
      "/home/vislab/anaconda3/envs/cctv/lib/python3.7/site-packages/statsmodels/base/model.py:606: ConvergenceWarning: Maximum Likelihood optimization failed to converge. Check mle_retvals\n",
      "  ConvergenceWarning)\n"
     ]
    },
    {
     "name": "stdout",
     "output_type": "stream",
     "text": [
      "Predict Finish, 70.5231 70.5222 0.986 0.014 Evaluation Finish\n",
      "232: Data Load Finish, Predict Finish, 2.2656 2.2253 0.0311 0.9683 Evaluation Finish\n",
      "233: Data Load Finish, Predict Finish, 0.484 0.3781 0.0053 0.9932 Evaluation Finish\n",
      "234: Data Load Finish, Predict Finish, 3.8002 3.6848 0.0515 0.9469 Evaluation Finish\n",
      "235: Data Load Finish, Predict Finish, 4.4199 4.3971 0.0615 0.9382 Evaluation Finish\n",
      "236: Data Load Finish, Predict Finish, 4.2133 4.1952 0.0586 0.9411 Evaluation Finish\n",
      "237: Data Load Finish, Predict Finish, 3.189 3.1643 0.0442 0.9554 Evaluation Finish\n",
      "238: Data Load Finish, Predict Finish, 7.2915 7.2829 0.1018 0.8981 Evaluation Finish\n",
      "239: Data Load Finish, Predict Finish, 5.699 5.6873 0.0795 0.9203 Evaluation Finish\n",
      "240: Data Load Finish, Predict Finish, 7.7379 7.7301 0.1081 0.8918 Evaluation Finish\n",
      "241: Data Load Finish, Predict Finish, 10.2555 10.2492 0.1433 0.8566 Evaluation Finish\n",
      "242: Data Load Finish, Predict Finish, 3.5764 3.5591 0.0497 0.95 Evaluation Finish\n",
      "243: Data Load Finish, Predict Finish, 6.184 6.1613 0.0861 0.9135 Evaluation Finish\n",
      "244: Data Load Finish, Predict Finish, 5.7473 5.7334 0.0801 0.9196 Evaluation Finish\n",
      "245: Data Load Finish, Predict Finish, 4.1127 4.0905 0.0572 0.9425 Evaluation Finish\n",
      "246: Data Load Finish, Predict Finish, 6.6737 6.6639 0.0932 0.9067 Evaluation Finish\n",
      "247: Data Load Finish, "
     ]
    },
    {
     "name": "stderr",
     "output_type": "stream",
     "text": [
      "/home/vislab/anaconda3/envs/cctv/lib/python3.7/site-packages/pandas/core/arraylike.py:364: RuntimeWarning: divide by zero encountered in log\n",
      "  result = getattr(ufunc, method)(*inputs, **kwargs)\n",
      "/home/vislab/anaconda3/envs/cctv/lib/python3.7/site-packages/statsmodels/base/model.py:606: ConvergenceWarning: Maximum Likelihood optimization failed to converge. Check mle_retvals\n",
      "  ConvergenceWarning)\n"
     ]
    },
    {
     "name": "stdout",
     "output_type": "stream",
     "text": [
      "Predict Finish, 70.5231 70.5222 0.986 0.014 Evaluation Finish\n",
      "248: Data Load Finish, "
     ]
    },
    {
     "name": "stderr",
     "output_type": "stream",
     "text": [
      "/home/vislab/anaconda3/envs/cctv/lib/python3.7/site-packages/pandas/core/arraylike.py:364: RuntimeWarning: divide by zero encountered in log\n",
      "  result = getattr(ufunc, method)(*inputs, **kwargs)\n",
      "/home/vislab/anaconda3/envs/cctv/lib/python3.7/site-packages/statsmodels/base/model.py:606: ConvergenceWarning: Maximum Likelihood optimization failed to converge. Check mle_retvals\n",
      "  ConvergenceWarning)\n"
     ]
    },
    {
     "name": "stdout",
     "output_type": "stream",
     "text": [
      "Predict Finish, 70.5231 70.5222 0.986 0.014 Evaluation Finish\n",
      "249: Data Load Finish, "
     ]
    },
    {
     "name": "stderr",
     "output_type": "stream",
     "text": [
      "/home/vislab/anaconda3/envs/cctv/lib/python3.7/site-packages/pandas/core/arraylike.py:364: RuntimeWarning: divide by zero encountered in log\n",
      "  result = getattr(ufunc, method)(*inputs, **kwargs)\n",
      "/home/vislab/anaconda3/envs/cctv/lib/python3.7/site-packages/statsmodels/base/model.py:606: ConvergenceWarning: Maximum Likelihood optimization failed to converge. Check mle_retvals\n",
      "  ConvergenceWarning)\n"
     ]
    },
    {
     "name": "stdout",
     "output_type": "stream",
     "text": [
      "Predict Finish, 70.5231 70.5222 0.986 0.014 Evaluation Finish\n",
      "250: Data Load Finish, Predict Finish, 4.3478 4.3207 0.0604 0.9392 Evaluation Finish\n",
      "251: Data Load Finish, Predict Finish, 7.8344 7.8245 0.1094 0.8905 Evaluation Finish\n",
      "252: Data Load Finish, "
     ]
    },
    {
     "name": "stderr",
     "output_type": "stream",
     "text": [
      "/home/vislab/anaconda3/envs/cctv/lib/python3.7/site-packages/pandas/core/arraylike.py:364: RuntimeWarning: divide by zero encountered in log\n",
      "  result = getattr(ufunc, method)(*inputs, **kwargs)\n",
      "/home/vislab/anaconda3/envs/cctv/lib/python3.7/site-packages/statsmodels/base/model.py:606: ConvergenceWarning: Maximum Likelihood optimization failed to converge. Check mle_retvals\n",
      "  ConvergenceWarning)\n"
     ]
    },
    {
     "name": "stdout",
     "output_type": "stream",
     "text": [
      "Predict Finish, 70.5231 70.5222 0.986 0.014 Evaluation Finish\n",
      "253: Data Load Finish, "
     ]
    },
    {
     "name": "stderr",
     "output_type": "stream",
     "text": [
      "/home/vislab/anaconda3/envs/cctv/lib/python3.7/site-packages/pandas/core/arraylike.py:364: RuntimeWarning: divide by zero encountered in log\n",
      "  result = getattr(ufunc, method)(*inputs, **kwargs)\n",
      "/home/vislab/anaconda3/envs/cctv/lib/python3.7/site-packages/statsmodels/base/model.py:606: ConvergenceWarning: Maximum Likelihood optimization failed to converge. Check mle_retvals\n",
      "  ConvergenceWarning)\n"
     ]
    },
    {
     "name": "stdout",
     "output_type": "stream",
     "text": [
      "Predict Finish, 70.5231 70.5222 0.986 0.014 Evaluation Finish\n",
      "254: Data Load Finish, "
     ]
    },
    {
     "name": "stderr",
     "output_type": "stream",
     "text": [
      "/home/vislab/anaconda3/envs/cctv/lib/python3.7/site-packages/pandas/core/arraylike.py:364: RuntimeWarning: divide by zero encountered in log\n",
      "  result = getattr(ufunc, method)(*inputs, **kwargs)\n",
      "/home/vislab/anaconda3/envs/cctv/lib/python3.7/site-packages/statsmodels/base/model.py:606: ConvergenceWarning: Maximum Likelihood optimization failed to converge. Check mle_retvals\n",
      "  ConvergenceWarning)\n"
     ]
    },
    {
     "name": "stdout",
     "output_type": "stream",
     "text": [
      "Predict Finish, 70.5231 70.5222 0.986 0.014 Evaluation Finish\n",
      "255: Data Load Finish, "
     ]
    },
    {
     "name": "stderr",
     "output_type": "stream",
     "text": [
      "/home/vislab/anaconda3/envs/cctv/lib/python3.7/site-packages/pandas/core/arraylike.py:364: RuntimeWarning: divide by zero encountered in log\n",
      "  result = getattr(ufunc, method)(*inputs, **kwargs)\n",
      "/home/vislab/anaconda3/envs/cctv/lib/python3.7/site-packages/statsmodels/base/model.py:606: ConvergenceWarning: Maximum Likelihood optimization failed to converge. Check mle_retvals\n",
      "  ConvergenceWarning)\n"
     ]
    },
    {
     "name": "stdout",
     "output_type": "stream",
     "text": [
      "Predict Finish, 70.5231 70.5222 0.986 0.014 Evaluation Finish\n",
      "256: Data Load Finish, Predict Finish, 5.8175 5.8027 0.0811 0.9187 Evaluation Finish\n",
      "257: Data Load Finish, Predict Finish, 0.7538 0.6082 0.0085 0.9895 Evaluation Finish\n",
      "258: Data Load Finish, Predict Finish, 3.2092 3.1768 0.0444 0.9551 Evaluation Finish\n",
      "259: Data Load Finish, Predict Finish, 5.5981 5.5874 0.0781 0.9217 Evaluation Finish\n",
      "260: Data Load Finish, Predict Finish, 4.3353 4.3214 0.0604 0.9394 Evaluation Finish\n",
      "261: Data Load Finish, "
     ]
    },
    {
     "name": "stderr",
     "output_type": "stream",
     "text": [
      "/home/vislab/anaconda3/envs/cctv/lib/python3.7/site-packages/pandas/core/arraylike.py:364: RuntimeWarning: divide by zero encountered in log\n",
      "  result = getattr(ufunc, method)(*inputs, **kwargs)\n",
      "/home/vislab/anaconda3/envs/cctv/lib/python3.7/site-packages/statsmodels/base/model.py:606: ConvergenceWarning: Maximum Likelihood optimization failed to converge. Check mle_retvals\n",
      "  ConvergenceWarning)\n"
     ]
    },
    {
     "name": "stdout",
     "output_type": "stream",
     "text": [
      "Predict Finish, 70.5231 70.5222 0.986 0.014 Evaluation Finish\n",
      "262: Data Load Finish, Predict Finish, 3.4255 3.4036 0.0476 0.9521 Evaluation Finish\n",
      "263: Data Load Finish, "
     ]
    },
    {
     "name": "stderr",
     "output_type": "stream",
     "text": [
      "/home/vislab/anaconda3/envs/cctv/lib/python3.7/site-packages/pandas/core/arraylike.py:364: RuntimeWarning: divide by zero encountered in log\n",
      "  result = getattr(ufunc, method)(*inputs, **kwargs)\n",
      "/home/vislab/anaconda3/envs/cctv/lib/python3.7/site-packages/statsmodels/base/model.py:606: ConvergenceWarning: Maximum Likelihood optimization failed to converge. Check mle_retvals\n",
      "  ConvergenceWarning)\n"
     ]
    },
    {
     "name": "stdout",
     "output_type": "stream",
     "text": [
      "Predict Finish, 70.5231 70.5222 0.986 0.014 Evaluation Finish\n",
      "264: Data Load Finish, "
     ]
    },
    {
     "name": "stderr",
     "output_type": "stream",
     "text": [
      "/home/vislab/anaconda3/envs/cctv/lib/python3.7/site-packages/pandas/core/arraylike.py:364: RuntimeWarning: divide by zero encountered in log\n",
      "  result = getattr(ufunc, method)(*inputs, **kwargs)\n",
      "/home/vislab/anaconda3/envs/cctv/lib/python3.7/site-packages/statsmodels/base/model.py:606: ConvergenceWarning: Maximum Likelihood optimization failed to converge. Check mle_retvals\n",
      "  ConvergenceWarning)\n"
     ]
    },
    {
     "name": "stdout",
     "output_type": "stream",
     "text": [
      "Predict Finish, 70.5231 70.5222 0.986 0.014 Evaluation Finish\n",
      "265: Data Load Finish, Predict Finish, 4.6839 4.6684 0.0653 0.9345 Evaluation Finish\n",
      "266: Data Load Finish, "
     ]
    },
    {
     "name": "stderr",
     "output_type": "stream",
     "text": [
      "/home/vislab/anaconda3/envs/cctv/lib/python3.7/site-packages/pandas/core/arraylike.py:364: RuntimeWarning: divide by zero encountered in log\n",
      "  result = getattr(ufunc, method)(*inputs, **kwargs)\n",
      "/home/vislab/anaconda3/envs/cctv/lib/python3.7/site-packages/statsmodels/base/model.py:606: ConvergenceWarning: Maximum Likelihood optimization failed to converge. Check mle_retvals\n",
      "  ConvergenceWarning)\n"
     ]
    },
    {
     "name": "stdout",
     "output_type": "stream",
     "text": [
      "Predict Finish, 70.5231 70.5222 0.986 0.014 Evaluation Finish\n",
      "267: Data Load Finish, Predict Finish, 4.2549 4.2399 0.0593 0.9405 Evaluation Finish\n",
      "268: Data Load Finish, "
     ]
    },
    {
     "name": "stderr",
     "output_type": "stream",
     "text": [
      "/home/vislab/anaconda3/envs/cctv/lib/python3.7/site-packages/pandas/core/arraylike.py:364: RuntimeWarning: divide by zero encountered in log\n",
      "  result = getattr(ufunc, method)(*inputs, **kwargs)\n",
      "/home/vislab/anaconda3/envs/cctv/lib/python3.7/site-packages/statsmodels/base/model.py:606: ConvergenceWarning: Maximum Likelihood optimization failed to converge. Check mle_retvals\n",
      "  ConvergenceWarning)\n"
     ]
    },
    {
     "name": "stdout",
     "output_type": "stream",
     "text": [
      "Predict Finish, 70.5231 70.5222 0.986 0.014 Evaluation Finish\n",
      "269: Data Load Finish, "
     ]
    },
    {
     "name": "stderr",
     "output_type": "stream",
     "text": [
      "/home/vislab/anaconda3/envs/cctv/lib/python3.7/site-packages/pandas/core/arraylike.py:364: RuntimeWarning: divide by zero encountered in log\n",
      "  result = getattr(ufunc, method)(*inputs, **kwargs)\n",
      "/home/vislab/anaconda3/envs/cctv/lib/python3.7/site-packages/statsmodels/base/model.py:606: ConvergenceWarning: Maximum Likelihood optimization failed to converge. Check mle_retvals\n",
      "  ConvergenceWarning)\n"
     ]
    },
    {
     "name": "stdout",
     "output_type": "stream",
     "text": [
      "Predict Finish, 70.5231 70.5222 0.986 0.014 Evaluation Finish\n",
      "270: Data Load Finish, Predict Finish, 3.9898 3.963 0.0554 0.9442 Evaluation Finish\n",
      "271: Data Load Finish, Predict Finish, 3.6364 3.6095 0.0504 0.9492 Evaluation Finish\n",
      "272: Data Load Finish, Predict Finish, 2.3236 2.2296 0.0312 0.9675 Evaluation Finish\n",
      "273: Data Load Finish, Predict Finish, 6.4705 6.4582 0.0903 0.9095 Evaluation Finish\n",
      "274: Data Load Finish, Predict Finish, 3.1727 3.1228 0.0436 0.9556 Evaluation Finish\n",
      "275: Data Load Finish, Predict Finish, 3.4377 3.3497 0.0468 0.9519 Evaluation Finish\n",
      "276: Data Load Finish, Predict Finish, 3.6849 3.6592 0.0511 0.9485 Evaluation Finish\n",
      "277: Data Load Finish, Predict Finish, 2.3252 2.2626 0.0316 0.9675 Evaluation Finish\n",
      "278: Data Load Finish, Predict Finish, 5.4384 5.4238 0.0758 0.924 Evaluation Finish\n",
      "279: Data Load Finish, Predict Finish, 3.2418 3.2005 0.0447 0.9547 Evaluation Finish\n",
      "280: Data Load Finish, Predict Finish, 3.2718 3.2355 0.0452 0.9543 Evaluation Finish\n",
      "281: Data Load Finish, Predict Finish, 1.7901 1.7306 0.0242 0.975 Evaluation Finish\n",
      "282: Data Load Finish, Predict Finish, 4.8253 4.8022 0.0671 0.9325 Evaluation Finish\n",
      "283: Data Load Finish, Predict Finish, 13.8177 13.8088 0.1931 0.8068 Evaluation Finish\n",
      "284: Data Load Finish, "
     ]
    },
    {
     "name": "stderr",
     "output_type": "stream",
     "text": [
      "/home/vislab/anaconda3/envs/cctv/lib/python3.7/site-packages/pandas/core/arraylike.py:364: RuntimeWarning: divide by zero encountered in log\n",
      "  result = getattr(ufunc, method)(*inputs, **kwargs)\n",
      "/home/vislab/anaconda3/envs/cctv/lib/python3.7/site-packages/statsmodels/base/model.py:606: ConvergenceWarning: Maximum Likelihood optimization failed to converge. Check mle_retvals\n",
      "  ConvergenceWarning)\n"
     ]
    },
    {
     "name": "stdout",
     "output_type": "stream",
     "text": [
      "Predict Finish, 70.5231 70.5222 0.986 0.014 Evaluation Finish\n",
      "285: Data Load Finish, Predict Finish, 2.5185 2.4611 0.0344 0.9648 Evaluation Finish\n",
      "286: Data Load Finish, Predict Finish, 3.4848 3.4578 0.0483 0.9513 Evaluation Finish\n",
      "287: Data Load Finish, Predict Finish, 3.925 3.8661 0.054 0.9451 Evaluation Finish\n",
      "288: Data Load Finish, Predict Finish, 4.3817 4.3651 0.061 0.9387 Evaluation Finish\n",
      "289: Data Load Finish, Predict Finish, 5.6879 5.6732 0.0793 0.9205 Evaluation Finish\n",
      "290: Data Load Finish, Predict Finish, 3.1099 3.0786 0.043 0.9565 Evaluation Finish\n",
      "291: Data Load Finish, Predict Finish, 7.5134 7.5021 0.1049 0.895 Evaluation Finish\n",
      "292: Data Load Finish, Predict Finish, 7.6561 7.3419 0.1026 0.893 Evaluation Finish\n",
      "293: Data Load Finish, Predict Finish, 8.2406 8.1626 0.1141 0.8848 Evaluation Finish\n",
      "294: Data Load Finish, Predict Finish, 4.2594 4.238 0.0592 0.9404 Evaluation Finish\n",
      "295: Data Load Finish, Predict Finish, 8.6128 8.593 0.1201 0.8796 Evaluation Finish\n",
      "296: Data Load Finish, "
     ]
    },
    {
     "name": "stderr",
     "output_type": "stream",
     "text": [
      "/home/vislab/anaconda3/envs/cctv/lib/python3.7/site-packages/pandas/core/arraylike.py:364: RuntimeWarning: divide by zero encountered in log\n",
      "  result = getattr(ufunc, method)(*inputs, **kwargs)\n",
      "/home/vislab/anaconda3/envs/cctv/lib/python3.7/site-packages/statsmodels/base/model.py:606: ConvergenceWarning: Maximum Likelihood optimization failed to converge. Check mle_retvals\n",
      "  ConvergenceWarning)\n"
     ]
    },
    {
     "name": "stdout",
     "output_type": "stream",
     "text": [
      "Predict Finish, 70.5231 70.5222 0.986 0.014 Evaluation Finish\n",
      "297: Data Load Finish, Predict Finish, 5.7722 5.7595 0.0805 0.9193 Evaluation Finish\n",
      "298: Data Load Finish, Predict Finish, 2.9429 2.9131 0.0407 0.9589 Evaluation Finish\n",
      "299: Data Load Finish, Predict Finish, 3.7437 3.7164 0.0519 0.9477 Evaluation Finish\n",
      "300: Data Load Finish, Predict Finish, 4.5261 4.4973 0.0629 0.9367 Evaluation Finish\n",
      "301: Data Load Finish, Predict Finish, 7.1928 7.1813 0.1004 0.8994 Evaluation Finish\n",
      "302: Data Load Finish, Predict Finish, 5.6904 5.6649 0.0792 0.9204 Evaluation Finish\n",
      "303: Data Load Finish, Predict Finish, 6.4498 6.4285 0.0899 0.9098 Evaluation Finish\n",
      "304: Data Load Finish, Predict Finish, 5.2555 5.2177 0.0729 0.9265 Evaluation Finish\n",
      "305: Data Load Finish, Predict Finish, 6.378 6.3533 0.0888 0.9108 Evaluation Finish\n",
      "306: Data Load Finish, Predict Finish, 4.1793 4.162 0.0582 0.9416 Evaluation Finish\n",
      "307: Data Load Finish, Predict Finish, 6.0632 6.0431 0.0845 0.9152 Evaluation Finish\n",
      "308: Data Load Finish, Predict Finish, 9.7666 9.7105 0.1358 0.8634 Evaluation Finish\n",
      "309: Data Load Finish, Predict Finish, 3.8667 3.8482 0.0538 0.9459 Evaluation Finish\n",
      "310: Data Load Finish, Predict Finish, 6.4198 6.4041 0.0895 0.9102 Evaluation Finish\n",
      "311: Data Load Finish, "
     ]
    },
    {
     "name": "stderr",
     "output_type": "stream",
     "text": [
      "/home/vislab/anaconda3/envs/cctv/lib/python3.7/site-packages/pandas/core/arraylike.py:364: RuntimeWarning: divide by zero encountered in log\n",
      "  result = getattr(ufunc, method)(*inputs, **kwargs)\n",
      "/home/vislab/anaconda3/envs/cctv/lib/python3.7/site-packages/statsmodels/base/model.py:606: ConvergenceWarning: Maximum Likelihood optimization failed to converge. Check mle_retvals\n",
      "  ConvergenceWarning)\n"
     ]
    },
    {
     "name": "stdout",
     "output_type": "stream",
     "text": [
      "Predict Finish, 70.5231 70.5222 0.986 0.014 Evaluation Finish\n",
      "312: Data Load Finish, Predict Finish, 3.7515 3.728 0.0521 0.9475 Evaluation Finish\n",
      "313: Data Load Finish, Predict Finish, 5.0228 4.9899 0.0697 0.9298 Evaluation Finish\n",
      "314: Data Load Finish, Predict Finish, 5.4825 5.4694 0.0764 0.9233 Evaluation Finish\n",
      "315: Data Load Finish, Predict Finish, 6.1214 6.1117 0.0854 0.9144 Evaluation Finish\n",
      "316: Data Load Finish, Predict Finish, 5.4168 5.4029 0.0755 0.9243 Evaluation Finish\n",
      "317: Data Load Finish, "
     ]
    },
    {
     "name": "stderr",
     "output_type": "stream",
     "text": [
      "/home/vislab/anaconda3/envs/cctv/lib/python3.7/site-packages/pandas/core/arraylike.py:364: RuntimeWarning: divide by zero encountered in log\n",
      "  result = getattr(ufunc, method)(*inputs, **kwargs)\n",
      "/home/vislab/anaconda3/envs/cctv/lib/python3.7/site-packages/statsmodels/base/model.py:606: ConvergenceWarning: Maximum Likelihood optimization failed to converge. Check mle_retvals\n",
      "  ConvergenceWarning)\n"
     ]
    },
    {
     "name": "stdout",
     "output_type": "stream",
     "text": [
      "Predict Finish, 70.5231 70.5222 0.986 0.014 Evaluation Finish\n",
      "318: Data Load Finish, Predict Finish, 11.0388 11.0334 0.1542 0.8457 Evaluation Finish\n",
      "319: Data Load Finish, "
     ]
    },
    {
     "name": "stderr",
     "output_type": "stream",
     "text": [
      "/home/vislab/anaconda3/envs/cctv/lib/python3.7/site-packages/pandas/core/arraylike.py:364: RuntimeWarning: divide by zero encountered in log\n",
      "  result = getattr(ufunc, method)(*inputs, **kwargs)\n",
      "/home/vislab/anaconda3/envs/cctv/lib/python3.7/site-packages/statsmodels/base/model.py:606: ConvergenceWarning: Maximum Likelihood optimization failed to converge. Check mle_retvals\n",
      "  ConvergenceWarning)\n"
     ]
    },
    {
     "name": "stdout",
     "output_type": "stream",
     "text": [
      "Predict Finish, 70.5231 70.5222 0.986 0.014 Evaluation Finish\n",
      "320: Data Load Finish, Predict Finish, 8.0357 8.0245 0.1122 0.8876 Evaluation Finish\n",
      "321: Data Load Finish, Predict Finish, 2.3925 2.3625 0.033 0.9665 Evaluation Finish\n",
      "322: Data Load Finish, Predict Finish, 3.4066 3.379 0.0472 0.9524 Evaluation Finish\n",
      "323: Data Load Finish, Predict Finish, 0.9468 0.7859 0.011 0.9868 Evaluation Finish\n",
      "324: Data Load Finish, "
     ]
    },
    {
     "name": "stderr",
     "output_type": "stream",
     "text": [
      "/home/vislab/anaconda3/envs/cctv/lib/python3.7/site-packages/pandas/core/arraylike.py:364: RuntimeWarning: divide by zero encountered in log\n",
      "  result = getattr(ufunc, method)(*inputs, **kwargs)\n",
      "/home/vislab/anaconda3/envs/cctv/lib/python3.7/site-packages/statsmodels/base/model.py:606: ConvergenceWarning: Maximum Likelihood optimization failed to converge. Check mle_retvals\n",
      "  ConvergenceWarning)\n"
     ]
    },
    {
     "name": "stdout",
     "output_type": "stream",
     "text": [
      "Predict Finish, 70.5231 70.5222 0.986 0.014 Evaluation Finish\n",
      "RMSE: 18.231895476967956, MAE: 18.208353488953, MAPE: 0.2545664870488243\n",
      "ACC: 0.7450906592624337\n"
     ]
    }
   ],
   "source": [
    "predictARIMA(df, idx, 9)"
   ]
  },
  {
   "cell_type": "code",
   "execution_count": null,
   "id": "447e88a5",
   "metadata": {},
   "outputs": [],
   "source": []
  }
 ],
 "metadata": {
  "kernelspec": {
   "display_name": "cctv",
   "language": "python",
   "name": "cctv"
  },
  "language_info": {
   "codemirror_mode": {
    "name": "ipython",
    "version": 3
   },
   "file_extension": ".py",
   "mimetype": "text/x-python",
   "name": "python",
   "nbconvert_exporter": "python",
   "pygments_lexer": "ipython3",
   "version": "3.7.13"
  }
 },
 "nbformat": 4,
 "nbformat_minor": 5
}
