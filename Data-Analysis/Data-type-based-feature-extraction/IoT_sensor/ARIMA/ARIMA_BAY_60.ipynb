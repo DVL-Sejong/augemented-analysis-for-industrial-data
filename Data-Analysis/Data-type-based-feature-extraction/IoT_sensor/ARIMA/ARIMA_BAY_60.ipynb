{
 "cells": [
  {
   "cell_type": "code",
   "execution_count": 1,
   "id": "408880c3",
   "metadata": {},
   "outputs": [],
   "source": [
    "import math\n",
    "import pandas as pd\n",
    "import numpy as np\n",
    "import numpy.linalg as la\n",
    "\n",
    "from sklearn.metrics import mean_squared_error, mean_absolute_error, mean_absolute_percentage_error\n",
    "from statsmodels.tsa.arima.model import ARIMA"
   ]
  },
  {
   "cell_type": "code",
   "execution_count": 2,
   "id": "762ab51e",
   "metadata": {},
   "outputs": [],
   "source": [
    "def csvIndexToDatetime(path, start, freq):\n",
    "    df = pd.read_csv(path)\n",
    "    df = df.drop(columns=['Unnamed: 0'])\n",
    "    time_len = df.shape[0]\n",
    "    num_nodes = df.shape[1]\n",
    "    print(time_len, num_nodes)\n",
    "    rng = pd.date_range(start, periods=time_len, freq=freq)\n",
    "    idx = pd.DatetimeIndex(rng)\n",
    "    df.index = idx\n",
    "    return df, idx"
   ]
  },
  {
   "cell_type": "code",
   "execution_count": 3,
   "id": "91f72990",
   "metadata": {},
   "outputs": [],
   "source": [
    "def evaluation(a,b):\n",
    "    rmse = math.sqrt(mean_squared_error(a,b))\n",
    "    mae = mean_absolute_error(a, b)\n",
    "    mape = mean_absolute_percentage_error(a, b)\n",
    "    F_norm = la.norm(a-b)/la.norm(a)\n",
    "    return rmse, mae, mape, 1-F_norm"
   ]
  },
  {
   "cell_type": "code",
   "execution_count": 4,
   "id": "629b9843",
   "metadata": {},
   "outputs": [],
   "source": [
    "def predictARIMA(df, idx, timelag):\n",
    "    rmse, mae, mape, acc =  [], [], [], []\n",
    "    \n",
    "    for i in range(df.shape[1]):\n",
    "        print(i, end = ': ')\n",
    "        ts = df.iloc[:-timelag, i]\n",
    "        ts_log = np.log(ts)\n",
    "        ts_log = np.array(ts_log, dtype=np.float64)\n",
    "        where_are_inf = np.isinf(ts_log)\n",
    "        ts_log[where_are_inf] = 0\n",
    "        ts_log = pd.Series(ts_log)\n",
    "        ts_log.index = idx[:-timelag]\n",
    "        print('Data Load Finish', end = ', ')\n",
    "        \n",
    "        model = ARIMA(ts_log, order=[1,0,0])\n",
    "        properModel = model.fit()\n",
    "        predict_ts = properModel.forecast(steps=timelag)\n",
    "        log_recover = np.exp(predict_ts)\n",
    "        testX = org_df.iloc[-timelag:, 0]\n",
    "        print('Predict Finish', end = ', ')\n",
    "        \n",
    "        er_rmse, er_mae, er_mape, er_acc = evaluation(testX, log_recover)\n",
    "        print(round(er_rmse,4), round(er_mae,4), round(er_mape,4), round(er_acc,4), end = ' ')\n",
    "        \n",
    "        rmse.append(er_rmse)\n",
    "        mae.append(er_mae)\n",
    "        mape.append(er_mape)\n",
    "        acc.append(er_acc)\n",
    "        print('Evaluation Finish')\n",
    "        \n",
    "    acc = np.mat(acc)\n",
    "    acc[acc<0] = 0\n",
    "    print('RMSE: ' + str(np.mean(rmse)) + ', MAE: ' + str(np.mean(mae)) + ', MAPE: ' + str(np.mean(mape))  + '\\n'\n",
    "          + 'ACC: ' + str(np.mean(acc)))"
   ]
  },
  {
   "cell_type": "code",
   "execution_count": 5,
   "id": "e171bd77",
   "metadata": {
    "scrolled": true
   },
   "outputs": [],
   "source": [
    "path_0 = 'data/PEMS-BAY/speed_bay_0.csv'\n",
    "path_5 = 'data/PEMS-BAY/speed_bay_5.csv'\n",
    "path_10 = 'data/PEMS-BAY/speed_bay_10.csv'\n",
    "path_20 = 'data/PEMS-BAY/speed_bay_20.csv'"
   ]
  },
  {
   "cell_type": "code",
   "execution_count": 6,
   "id": "ee4dc616",
   "metadata": {},
   "outputs": [],
   "source": [
    "start = '1/1/2017'\n",
    "freq = '5min'"
   ]
  },
  {
   "cell_type": "code",
   "execution_count": 7,
   "id": "38d2c1eb",
   "metadata": {},
   "outputs": [
    {
     "name": "stdout",
     "output_type": "stream",
     "text": [
      "52116 325\n"
     ]
    }
   ],
   "source": [
    "org_path = 'data/PEMS-BAY/speed_bay_0.csv'\n",
    "org_df, org_idx = csvIndexToDatetime(org_path, start, freq)"
   ]
  },
  {
   "cell_type": "markdown",
   "id": "646868ac",
   "metadata": {},
   "source": [
    "### Unobserved Nodes = 0%"
   ]
  },
  {
   "cell_type": "code",
   "execution_count": 8,
   "id": "9eaf61b7",
   "metadata": {},
   "outputs": [
    {
     "name": "stdout",
     "output_type": "stream",
     "text": [
      "52116 325\n"
     ]
    },
    {
     "data": {
      "text/plain": [
       "0"
      ]
     },
     "execution_count": 8,
     "metadata": {},
     "output_type": "execute_result"
    }
   ],
   "source": [
    "df, idx = csvIndexToDatetime(path_0, start, freq)\n",
    "(df == 0).sum().sum()"
   ]
  },
  {
   "cell_type": "code",
   "execution_count": 9,
   "id": "60f8ff1e",
   "metadata": {
    "scrolled": false
   },
   "outputs": [
    {
     "name": "stdout",
     "output_type": "stream",
     "text": [
      "0: Data Load Finish, Predict Finish, 0.6205 0.5084 0.0071 0.9913 Evaluation Finish\n",
      "1: Data Load Finish, Predict Finish, 6.006 5.9914 0.0837 0.9161 Evaluation Finish\n",
      "2: Data Load Finish, Predict Finish, 6.4662 6.4196 0.0897 0.9097 Evaluation Finish\n",
      "3: Data Load Finish, Predict Finish, 9.0809 9.0727 0.1267 0.8731 Evaluation Finish\n",
      "4: Data Load Finish, Predict Finish, 9.1863 9.1777 0.1282 0.8717 Evaluation Finish\n",
      "5: Data Load Finish, Predict Finish, 4.0756 4.043 0.0565 0.9431 Evaluation Finish\n",
      "6: Data Load Finish, Predict Finish, 4.5766 4.4876 0.0627 0.9361 Evaluation Finish\n",
      "7: Data Load Finish, Predict Finish, 3.678 3.6422 0.0509 0.9486 Evaluation Finish\n",
      "8: Data Load Finish, Predict Finish, 8.2171 8.2073 0.1146 0.8852 Evaluation Finish\n",
      "9: Data Load Finish, Predict Finish, 4.0186 3.9939 0.0558 0.9439 Evaluation Finish\n",
      "10: Data Load Finish, Predict Finish, 5.2609 5.2434 0.0732 0.9265 Evaluation Finish\n",
      "11: Data Load Finish, Predict Finish, 3.3741 3.3292 0.0465 0.9529 Evaluation Finish\n",
      "12: Data Load Finish, Predict Finish, 4.1617 4.1231 0.0576 0.9419 Evaluation Finish\n",
      "13: Data Load Finish, Predict Finish, 3.3277 3.225 0.045 0.9535 Evaluation Finish\n",
      "14: Data Load Finish, Predict Finish, 3.845 3.8195 0.0533 0.9463 Evaluation Finish\n",
      "15: Data Load Finish, Predict Finish, 3.9971 3.9667 0.0554 0.9442 Evaluation Finish\n",
      "16: Data Load Finish, Predict Finish, 5.0221 5.0065 0.0699 0.9298 Evaluation Finish\n",
      "17: Data Load Finish, Predict Finish, 5.3073 5.2769 0.0737 0.9259 Evaluation Finish\n",
      "18: Data Load Finish, Predict Finish, 3.6009 3.5805 0.05 0.9497 Evaluation Finish\n",
      "19: Data Load Finish, Predict Finish, 5.6577 5.6149 0.0784 0.921 Evaluation Finish\n",
      "20: Data Load Finish, Predict Finish, 3.4639 3.4158 0.0477 0.9516 Evaluation Finish\n",
      "21: Data Load Finish, Predict Finish, 5.2161 5.1854 0.0724 0.9271 Evaluation Finish\n",
      "22: Data Load Finish, Predict Finish, 3.9097 3.8835 0.0542 0.9454 Evaluation Finish\n",
      "23: Data Load Finish, Predict Finish, 6.0967 6.0638 0.0847 0.9148 Evaluation Finish\n",
      "24: Data Load Finish, Predict Finish, 3.325 3.2983 0.0461 0.9535 Evaluation Finish\n",
      "25: Data Load Finish, Predict Finish, 3.7486 3.7216 0.052 0.9476 Evaluation Finish\n",
      "26: Data Load Finish, Predict Finish, 2.7974 2.7537 0.0384 0.9609 Evaluation Finish\n",
      "27: Data Load Finish, Predict Finish, 3.8867 3.867 0.054 0.9457 Evaluation Finish\n",
      "28: Data Load Finish, Predict Finish, 5.6396 5.6194 0.0785 0.9212 Evaluation Finish\n",
      "29: Data Load Finish, Predict Finish, 11.4067 11.3988 0.1592 0.8406 Evaluation Finish\n",
      "30: Data Load Finish, Predict Finish, 4.1995 4.1755 0.0583 0.9413 Evaluation Finish\n",
      "31: Data Load Finish, Predict Finish, 6.1068 6.0944 0.0851 0.9147 Evaluation Finish\n",
      "32: Data Load Finish, Predict Finish, 4.5765 4.5558 0.0636 0.9361 Evaluation Finish\n",
      "33: Data Load Finish, Predict Finish, 9.6873 9.6766 0.1352 0.8647 Evaluation Finish\n",
      "34: Data Load Finish, Predict Finish, 4.8962 4.8658 0.068 0.9316 Evaluation Finish\n",
      "35: Data Load Finish, Predict Finish, 4.2667 4.1838 0.0584 0.9404 Evaluation Finish\n",
      "36: Data Load Finish, Predict Finish, 0.8315 0.711 0.0099 0.9884 Evaluation Finish\n",
      "37: Data Load Finish, Predict Finish, 4.3202 4.2947 0.06 0.9396 Evaluation Finish\n",
      "38: Data Load Finish, Predict Finish, 8.0927 8.076 0.1128 0.8869 Evaluation Finish\n",
      "39: Data Load Finish, Predict Finish, 5.3457 5.3227 0.0743 0.9253 Evaluation Finish\n",
      "40: Data Load Finish, Predict Finish, 3.8189 3.7865 0.0529 0.9466 Evaluation Finish\n",
      "41: Data Load Finish, Predict Finish, 5.3803 5.3521 0.0748 0.9248 Evaluation Finish\n",
      "42: Data Load Finish, Predict Finish, 4.826 4.7884 0.0669 0.9326 Evaluation Finish\n",
      "43: Data Load Finish, Predict Finish, 5.0381 4.9635 0.0693 0.9296 Evaluation Finish\n",
      "44: Data Load Finish, Predict Finish, 3.9494 3.9215 0.0548 0.9448 Evaluation Finish\n",
      "45: Data Load Finish, Predict Finish, 4.1176 4.0691 0.0568 0.9425 Evaluation Finish\n",
      "46: Data Load Finish, Predict Finish, 10.0923 10.0841 0.1409 0.859 Evaluation Finish\n",
      "47: Data Load Finish, Predict Finish, 3.2347 3.1925 0.0446 0.9548 Evaluation Finish\n",
      "48: Data Load Finish, Predict Finish, 4.0375 4.0014 0.0559 0.9436 Evaluation Finish\n",
      "49: Data Load Finish, Predict Finish, 4.7645 4.7428 0.0662 0.9334 Evaluation Finish\n",
      "50: Data Load Finish, Predict Finish, 7.7606 7.751 0.1083 0.8916 Evaluation Finish\n",
      "51: Data Load Finish, Predict Finish, 3.2997 3.2634 0.0456 0.9539 Evaluation Finish\n",
      "52: Data Load Finish, Predict Finish, 3.1185 3.0903 0.0431 0.9564 Evaluation Finish\n",
      "53: Data Load Finish, Predict Finish, 6.0199 5.99 0.0837 0.9159 Evaluation Finish\n",
      "54: Data Load Finish, Predict Finish, 3.8296 3.7926 0.053 0.9465 Evaluation Finish\n",
      "55: Data Load Finish, Predict Finish, 5.4615 5.3988 0.0754 0.9237 Evaluation Finish\n",
      "56: Data Load Finish, Predict Finish, 0.4529 0.3258 0.0045 0.9937 Evaluation Finish\n",
      "57: Data Load Finish, Predict Finish, 4.2567 4.1954 0.0586 0.9405 Evaluation Finish\n",
      "58: Data Load Finish, Predict Finish, 3.766 3.7312 0.0521 0.9474 Evaluation Finish\n",
      "59: Data Load Finish, Predict Finish, 2.9991 2.9586 0.0413 0.9581 Evaluation Finish\n",
      "60: Data Load Finish, Predict Finish, 4.5304 4.5022 0.0629 0.9367 Evaluation Finish\n",
      "61: Data Load Finish, Predict Finish, 2.7819 2.7128 0.0379 0.9611 Evaluation Finish\n",
      "62: Data Load Finish, Predict Finish, 4.2849 4.2595 0.0595 0.9401 Evaluation Finish\n",
      "63: Data Load Finish, Predict Finish, 6.1957 6.1772 0.0863 0.9134 Evaluation Finish\n",
      "64: Data Load Finish, Predict Finish, 6.1462 6.1226 0.0855 0.9141 Evaluation Finish\n",
      "65: Data Load Finish, Predict Finish, 3.6076 3.3626 0.047 0.9496 Evaluation Finish\n",
      "66: Data Load Finish, Predict Finish, 8.2805 8.2564 0.1153 0.8843 Evaluation Finish\n",
      "67: Data Load Finish, Predict Finish, 8.4713 8.4613 0.1182 0.8816 Evaluation Finish\n",
      "68: Data Load Finish, Predict Finish, 5.4446 5.4102 0.0756 0.9239 Evaluation Finish\n",
      "69: Data Load Finish, Predict Finish, 7.1852 7.1742 0.1002 0.8996 Evaluation Finish\n",
      "70: Data Load Finish, Predict Finish, 4.2669 4.2473 0.0593 0.9404 Evaluation Finish\n",
      "71: Data Load Finish, Predict Finish, 7.9982 7.9883 0.1116 0.8883 Evaluation Finish\n",
      "72: Data Load Finish, Predict Finish, 5.7964 5.766 0.0805 0.919 Evaluation Finish\n",
      "73: Data Load Finish, Predict Finish, 4.3688 4.3146 0.0603 0.939 Evaluation Finish\n",
      "74: Data Load Finish, Predict Finish, 9.0995 9.0851 0.1269 0.8729 Evaluation Finish\n",
      "75: Data Load Finish, Predict Finish, 3.0104 2.97 0.0415 0.9579 Evaluation Finish\n",
      "76: Data Load Finish, Predict Finish, 3.3412 3.2749 0.0457 0.9533 Evaluation Finish\n",
      "77: Data Load Finish, Predict Finish, 4.1813 4.1531 0.058 0.9416 Evaluation Finish\n",
      "78: Data Load Finish, Predict Finish, 2.9736 2.9353 0.041 0.9585 Evaluation Finish\n",
      "79: Data Load Finish, Predict Finish, 2.8967 2.8597 0.0399 0.9595 Evaluation Finish\n",
      "80: Data Load Finish, Predict Finish, 5.6626 5.6104 0.0784 0.9209 Evaluation Finish\n",
      "81: Data Load Finish, Predict Finish, 3.6487 3.613 0.0505 0.949 Evaluation Finish\n",
      "82: Data Load Finish, Predict Finish, 2.8653 2.8244 0.0394 0.96 Evaluation Finish\n",
      "83: Data Load Finish, Predict Finish, 6.2508 6.1668 0.0861 0.9127 Evaluation Finish\n",
      "84: Data Load Finish, Predict Finish, 2.9444 2.8813 0.0402 0.9589 Evaluation Finish\n",
      "85: Data Load Finish, Predict Finish, 7.9455 7.9358 0.1108 0.889 Evaluation Finish\n",
      "86: Data Load Finish, Predict Finish, 6.8171 6.8047 0.095 0.9048 Evaluation Finish\n",
      "87: Data Load Finish, Predict Finish, 3.8381 3.7952 0.053 0.9464 Evaluation Finish\n",
      "88: Data Load Finish, Predict Finish, 8.3698 8.3513 0.1167 0.8831 Evaluation Finish\n",
      "89: Data Load Finish, Predict Finish, 3.7865 3.7588 0.0525 0.9471 Evaluation Finish\n",
      "90: Data Load Finish, Predict Finish, 4.062 4.0201 0.0561 0.9432 Evaluation Finish\n",
      "91: Data Load Finish, Predict Finish, 13.7137 13.7071 0.1915 0.8084 Evaluation Finish\n",
      "92: Data Load Finish, Predict Finish, 3.0329 3.0044 0.042 0.9576 Evaluation Finish\n",
      "93: Data Load Finish, Predict Finish, 2.7871 2.701 0.0377 0.9611 Evaluation Finish\n",
      "94: Data Load Finish, Predict Finish, 9.3481 9.3398 0.1305 0.8694 Evaluation Finish\n",
      "95: Data Load Finish, Predict Finish, 5.4156 5.3996 0.0754 0.9243 Evaluation Finish\n",
      "96: Data Load Finish, Predict Finish, 10.2455 10.2379 0.143 0.8569 Evaluation Finish\n",
      "97: Data Load Finish, Predict Finish, 3.3899 3.3257 0.0464 0.9526 Evaluation Finish\n"
     ]
    },
    {
     "name": "stdout",
     "output_type": "stream",
     "text": [
      "98: Data Load Finish, Predict Finish, 9.9688 9.9613 0.1391 0.8607 Evaluation Finish\n",
      "99: Data Load Finish, Predict Finish, 2.0086 1.9226 0.0268 0.9719 Evaluation Finish\n",
      "100: Data Load Finish, Predict Finish, 5.5006 5.4491 0.0761 0.9232 Evaluation Finish\n",
      "101: Data Load Finish, Predict Finish, 5.4053 5.3853 0.0752 0.9245 Evaluation Finish\n",
      "102: Data Load Finish, Predict Finish, 2.059 1.9394 0.0271 0.9712 Evaluation Finish\n",
      "103: Data Load Finish, Predict Finish, 3.1891 3.1521 0.044 0.9554 Evaluation Finish\n",
      "104: Data Load Finish, Predict Finish, 8.3921 8.3121 0.1161 0.8828 Evaluation Finish\n",
      "105: Data Load Finish, Predict Finish, 3.2372 3.2095 0.0448 0.9548 Evaluation Finish\n",
      "106: Data Load Finish, Predict Finish, 4.7962 4.7674 0.0666 0.933 Evaluation Finish\n",
      "107: Data Load Finish, Predict Finish, 1.7927 1.7346 0.0242 0.975 Evaluation Finish\n",
      "108: Data Load Finish, Predict Finish, 3.3153 3.2824 0.0458 0.9537 Evaluation Finish\n",
      "109: Data Load Finish, Predict Finish, 0.7199 0.5841 0.0082 0.9899 Evaluation Finish\n",
      "110: Data Load Finish, Predict Finish, 4.5292 4.5053 0.0629 0.9367 Evaluation Finish\n",
      "111: Data Load Finish, Predict Finish, 3.4971 3.4756 0.0485 0.9511 Evaluation Finish\n",
      "112: Data Load Finish, Predict Finish, 3.5963 3.5666 0.0498 0.9498 Evaluation Finish\n",
      "113: Data Load Finish, Predict Finish, 5.3546 5.3353 0.0745 0.9252 Evaluation Finish\n",
      "114: Data Load Finish, Predict Finish, 4.0656 4.0367 0.0564 0.9432 Evaluation Finish\n",
      "115: Data Load Finish, Predict Finish, 10.3044 10.2973 0.1438 0.856 Evaluation Finish\n",
      "116: Data Load Finish, Predict Finish, 8.3729 8.3604 0.1168 0.883 Evaluation Finish\n",
      "117: Data Load Finish, "
     ]
    },
    {
     "name": "stderr",
     "output_type": "stream",
     "text": [
      "/home/vislab/anaconda3/envs/cctv/lib/python3.7/site-packages/statsmodels/base/model.py:606: ConvergenceWarning: Maximum Likelihood optimization failed to converge. Check mle_retvals\n",
      "  ConvergenceWarning)\n"
     ]
    },
    {
     "name": "stdout",
     "output_type": "stream",
     "text": [
      "Predict Finish, 4.1616 4.1439 0.0579 0.9419 Evaluation Finish\n",
      "118: Data Load Finish, Predict Finish, 2.9701 2.9199 0.0408 0.9585 Evaluation Finish\n",
      "119: Data Load Finish, Predict Finish, 3.8248 3.7995 0.0531 0.9466 Evaluation Finish\n",
      "120: Data Load Finish, Predict Finish, 4.8661 4.8421 0.0676 0.932 Evaluation Finish\n",
      "121: Data Load Finish, Predict Finish, 3.3087 3.271 0.0457 0.9538 Evaluation Finish\n",
      "122: Data Load Finish, Predict Finish, 2.5844 2.5205 0.0352 0.9639 Evaluation Finish\n",
      "123: Data Load Finish, Predict Finish, 5.7571 5.7436 0.0802 0.9196 Evaluation Finish\n",
      "124: Data Load Finish, Predict Finish, 3.0138 2.9848 0.0417 0.9579 Evaluation Finish\n",
      "125: Data Load Finish, Predict Finish, 6.1052 6.0932 0.0851 0.9147 Evaluation Finish\n",
      "126: Data Load Finish, Predict Finish, 6.6518 6.6364 0.0927 0.9071 Evaluation Finish\n",
      "127: Data Load Finish, Predict Finish, 7.6519 7.641 0.1067 0.8931 Evaluation Finish\n",
      "128: Data Load Finish, Predict Finish, 4.9628 4.9329 0.0689 0.9307 Evaluation Finish\n",
      "129: Data Load Finish, Predict Finish, 4.16 4.1355 0.0578 0.9419 Evaluation Finish\n",
      "130: Data Load Finish, Predict Finish, 3.8786 3.8254 0.0534 0.9458 Evaluation Finish\n",
      "131: Data Load Finish, Predict Finish, 5.0782 5.0614 0.0707 0.9291 Evaluation Finish\n",
      "132: Data Load Finish, Predict Finish, 6.2558 6.2321 0.087 0.9126 Evaluation Finish\n",
      "133: Data Load Finish, Predict Finish, 9.5009 9.4475 0.132 0.8673 Evaluation Finish\n",
      "134: Data Load Finish, Predict Finish, 8.7284 8.6782 0.1212 0.8781 Evaluation Finish\n",
      "135: Data Load Finish, Predict Finish, 8.0899 8.0765 0.1128 0.887 Evaluation Finish\n",
      "136: Data Load Finish, Predict Finish, 0.5206 0.394 0.0055 0.9927 Evaluation Finish\n",
      "137: Data Load Finish, Predict Finish, 4.3609 4.3398 0.0606 0.9391 Evaluation Finish\n",
      "138: Data Load Finish, Predict Finish, 4.75 4.7098 0.0658 0.9336 Evaluation Finish\n",
      "139: Data Load Finish, Predict Finish, 4.8061 4.7881 0.0669 0.9329 Evaluation Finish\n",
      "140: Data Load Finish, Predict Finish, 5.2515 5.2348 0.0731 0.9266 Evaluation Finish\n",
      "141: Data Load Finish, Predict Finish, 0.7581 0.6489 0.0091 0.9894 Evaluation Finish\n",
      "142: Data Load Finish, Predict Finish, 1.0511 0.9342 0.013 0.9853 Evaluation Finish\n",
      "143: Data Load Finish, Predict Finish, 4.1142 4.0931 0.0572 0.9425 Evaluation Finish\n",
      "144: Data Load Finish, Predict Finish, 4.5402 4.5083 0.063 0.9366 Evaluation Finish\n",
      "145: Data Load Finish, Predict Finish, 5.9721 5.9578 0.0832 0.9166 Evaluation Finish\n",
      "146: Data Load Finish, Predict Finish, 14.7672 14.3132 0.1999 0.7937 Evaluation Finish\n",
      "147: Data Load Finish, Predict Finish, 6.9577 6.9457 0.097 0.9028 Evaluation Finish\n",
      "148: Data Load Finish, Predict Finish, 4.1616 4.144 0.0579 0.9419 Evaluation Finish\n",
      "149: Data Load Finish, Predict Finish, 5.1467 5.1214 0.0715 0.9281 Evaluation Finish\n",
      "150: Data Load Finish, Predict Finish, 4.5935 4.5731 0.0639 0.9358 Evaluation Finish\n",
      "151: Data Load Finish, "
     ]
    },
    {
     "name": "stderr",
     "output_type": "stream",
     "text": [
      "/home/vislab/anaconda3/envs/cctv/lib/python3.7/site-packages/statsmodels/base/model.py:606: ConvergenceWarning: Maximum Likelihood optimization failed to converge. Check mle_retvals\n",
      "  ConvergenceWarning)\n"
     ]
    },
    {
     "name": "stdout",
     "output_type": "stream",
     "text": [
      "Predict Finish, 6.3191 6.294 0.0879 0.9117 Evaluation Finish\n",
      "152: Data Load Finish, Predict Finish, 12.8679 12.862 0.1797 0.8202 Evaluation Finish\n",
      "153: Data Load Finish, Predict Finish, 2.8594 2.8098 0.0392 0.9601 Evaluation Finish\n",
      "154: Data Load Finish, Predict Finish, 3.4743 3.4477 0.0481 0.9515 Evaluation Finish\n",
      "155: Data Load Finish, Predict Finish, 7.6251 7.6154 0.1064 0.8935 Evaluation Finish\n",
      "156: Data Load Finish, Predict Finish, 2.9829 2.9567 0.0413 0.9583 Evaluation Finish\n",
      "157: Data Load Finish, Predict Finish, 4.5081 4.4815 0.0626 0.937 Evaluation Finish\n",
      "158: Data Load Finish, Predict Finish, 4.5136 4.4398 0.062 0.9369 Evaluation Finish\n",
      "159: Data Load Finish, Predict Finish, 9.5873 9.572 0.1337 0.8661 Evaluation Finish\n",
      "160: Data Load Finish, Predict Finish, 7.6773 7.6678 0.1071 0.8927 Evaluation Finish\n",
      "161: Data Load Finish, Predict Finish, 7.7917 7.7806 0.1087 0.8911 Evaluation Finish\n",
      "162: Data Load Finish, Predict Finish, 8.9361 8.9247 0.1247 0.8752 Evaluation Finish\n",
      "163: Data Load Finish, Predict Finish, 4.3865 4.3467 0.0607 0.9387 Evaluation Finish\n",
      "164: Data Load Finish, Predict Finish, 2.9454 2.8884 0.0403 0.9588 Evaluation Finish\n",
      "165: Data Load Finish, Predict Finish, 0.6778 0.5685 0.008 0.9905 Evaluation Finish\n",
      "166: Data Load Finish, Predict Finish, 4.3184 4.2931 0.06 0.9397 Evaluation Finish\n",
      "167: Data Load Finish, Predict Finish, 7.529 7.5158 0.105 0.8948 Evaluation Finish\n",
      "168: Data Load Finish, Predict Finish, 1.7153 1.5486 0.0216 0.976 Evaluation Finish\n",
      "169: Data Load Finish, Predict Finish, 1.9835 1.772 0.0247 0.9723 Evaluation Finish\n",
      "170: Data Load Finish, Predict Finish, 6.2791 6.2652 0.0875 0.9123 Evaluation Finish\n",
      "171: Data Load Finish, Predict Finish, 7.5394 7.5292 0.1052 0.8947 Evaluation Finish\n",
      "172: Data Load Finish, Predict Finish, 2.5372 2.5025 0.0349 0.9646 Evaluation Finish\n",
      "173: Data Load Finish, Predict Finish, 2.9765 2.9454 0.0411 0.9584 Evaluation Finish\n",
      "174: Data Load Finish, Predict Finish, 1.609 1.3817 0.0193 0.9775 Evaluation Finish\n",
      "175: Data Load Finish, Predict Finish, 2.7458 2.7056 0.0378 0.9616 Evaluation Finish\n",
      "176: Data Load Finish, Predict Finish, 9.1748 9.1567 0.1279 0.8718 Evaluation Finish\n",
      "177: Data Load Finish, "
     ]
    },
    {
     "name": "stderr",
     "output_type": "stream",
     "text": [
      "/home/vislab/anaconda3/envs/cctv/lib/python3.7/site-packages/statsmodels/base/model.py:606: ConvergenceWarning: Maximum Likelihood optimization failed to converge. Check mle_retvals\n",
      "  ConvergenceWarning)\n"
     ]
    },
    {
     "name": "stdout",
     "output_type": "stream",
     "text": [
      "Predict Finish, 3.9499 3.9313 0.0549 0.9448 Evaluation Finish\n",
      "178: Data Load Finish, Predict Finish, 1.5799 1.4511 0.0203 0.9779 Evaluation Finish\n",
      "179: Data Load Finish, Predict Finish, 2.1978 2.1503 0.03 0.9693 Evaluation Finish\n",
      "180: Data Load Finish, Predict Finish, 2.9996 2.9439 0.0411 0.9581 Evaluation Finish\n",
      "181: Data Load Finish, Predict Finish, 4.4959 4.4753 0.0625 0.9372 Evaluation Finish\n",
      "182: Data Load Finish, Predict Finish, 1.158 1.0357 0.0144 0.9838 Evaluation Finish\n",
      "183: Data Load Finish, "
     ]
    },
    {
     "name": "stderr",
     "output_type": "stream",
     "text": [
      "/home/vislab/anaconda3/envs/cctv/lib/python3.7/site-packages/statsmodels/base/model.py:606: ConvergenceWarning: Maximum Likelihood optimization failed to converge. Check mle_retvals\n",
      "  ConvergenceWarning)\n"
     ]
    },
    {
     "name": "stdout",
     "output_type": "stream",
     "text": [
      "Predict Finish, 5.4511 5.4028 0.0755 0.9238 Evaluation Finish\n",
      "184: Data Load Finish, Predict Finish, 5.1621 5.1424 0.0718 0.9279 Evaluation Finish\n",
      "185: Data Load Finish, Predict Finish, 4.9841 4.9559 0.0692 0.9304 Evaluation Finish\n",
      "186: Data Load Finish, Predict Finish, 4.0168 3.9862 0.0557 0.9439 Evaluation Finish\n",
      "187: Data Load Finish, Predict Finish, 4.6328 4.6135 0.0644 0.9353 Evaluation Finish\n",
      "188: Data Load Finish, Predict Finish, 4.2788 4.2547 0.0594 0.9402 Evaluation Finish\n",
      "189: Data Load Finish, Predict Finish, 2.7675 2.7095 0.0378 0.9613 Evaluation Finish\n",
      "190: Data Load Finish, Predict Finish, 3.7651 3.7431 0.0523 0.9474 Evaluation Finish\n",
      "191: Data Load Finish, Predict Finish, 4.5511 4.529 0.0633 0.9364 Evaluation Finish\n",
      "192: Data Load Finish, Predict Finish, 4.0936 4.0564 0.0567 0.9428 Evaluation Finish\n",
      "193: Data Load Finish, Predict Finish, 0.7299 0.6195 0.0086 0.9898 Evaluation Finish\n",
      "194: Data Load Finish, Predict Finish, 4.2288 4.1952 0.0586 0.9409 Evaluation Finish\n",
      "195: Data Load Finish, Predict Finish, 4.1002 4.0705 0.0568 0.9427 Evaluation Finish\n",
      "196: Data Load Finish, Predict Finish, 0.8849 0.7683 0.0107 0.9876 Evaluation Finish\n",
      "197: Data Load Finish, Predict Finish, 4.8754 4.8562 0.0678 0.9319 Evaluation Finish\n",
      "198: Data Load Finish, Predict Finish, 5.2302 5.1151 0.0714 0.9269 Evaluation Finish\n",
      "199: Data Load Finish, Predict Finish, 3.9047 3.8707 0.0541 0.9454 Evaluation Finish\n",
      "200: Data Load Finish, Predict Finish, 4.8312 4.8048 0.0671 0.9325 Evaluation Finish\n",
      "201: Data Load Finish, Predict Finish, 4.7048 4.6708 0.0652 0.9343 Evaluation Finish\n",
      "202: Data Load Finish, "
     ]
    },
    {
     "name": "stderr",
     "output_type": "stream",
     "text": [
      "/home/vislab/anaconda3/envs/cctv/lib/python3.7/site-packages/statsmodels/base/model.py:606: ConvergenceWarning: Maximum Likelihood optimization failed to converge. Check mle_retvals\n",
      "  ConvergenceWarning)\n"
     ]
    },
    {
     "name": "stdout",
     "output_type": "stream",
     "text": [
      "Predict Finish, 6.6484 6.6273 0.0926 0.9071 Evaluation Finish\n",
      "203: Data Load Finish, Predict Finish, 6.57 6.5518 0.0915 0.9082 Evaluation Finish\n",
      "204: Data Load Finish, Predict Finish, 6.8877 6.8693 0.096 0.9038 Evaluation Finish\n",
      "205: Data Load Finish, Predict Finish, 7.3718 7.359 0.1028 0.897 Evaluation Finish\n",
      "206: Data Load Finish, Predict Finish, 5.4089 5.3895 0.0753 0.9244 Evaluation Finish\n",
      "207: Data Load Finish, Predict Finish, 2.528 2.3887 0.0334 0.9647 Evaluation Finish\n",
      "208: Data Load Finish, Predict Finish, 8.4882 8.4781 0.1184 0.8814 Evaluation Finish\n",
      "209: Data Load Finish, Predict Finish, 5.1209 5.0953 0.0712 0.9285 Evaluation Finish\n",
      "210: Data Load Finish, Predict Finish, 8.0005 7.9896 0.1116 0.8882 Evaluation Finish\n",
      "211: Data Load Finish, Predict Finish, 5.8864 5.873 0.082 0.9178 Evaluation Finish\n",
      "212: Data Load Finish, Predict Finish, 5.1609 5.1425 0.0718 0.9279 Evaluation Finish\n",
      "213: Data Load Finish, Predict Finish, 6.5448 6.5335 0.0913 0.9086 Evaluation Finish\n",
      "214: Data Load Finish, Predict Finish, 7.5157 7.504 0.1048 0.895 Evaluation Finish\n",
      "215: Data Load Finish, Predict Finish, 8.6216 8.6123 0.1203 0.8795 Evaluation Finish\n",
      "216: Data Load Finish, Predict Finish, 5.8055 5.7906 0.0809 0.9189 Evaluation Finish\n",
      "217: Data Load Finish, Predict Finish, 4.665 4.645 0.0649 0.9348 Evaluation Finish\n",
      "218: Data Load Finish, Predict Finish, 7.1317 7.121 0.0995 0.9004 Evaluation Finish\n",
      "219: Data Load Finish, Predict Finish, 4.8681 4.8489 0.0677 0.932 Evaluation Finish\n",
      "220: Data Load Finish, Predict Finish, 4.3839 4.3659 0.061 0.9388 Evaluation Finish\n",
      "221: Data Load Finish, Predict Finish, 6.2602 6.2454 0.0872 0.9125 Evaluation Finish\n",
      "222: Data Load Finish, Predict Finish, 7.3875 7.3776 0.103 0.8968 Evaluation Finish\n",
      "223: Data Load Finish, Predict Finish, 6.7855 6.7729 0.0946 0.9052 Evaluation Finish\n",
      "224: Data Load Finish, Predict Finish, 7.4661 7.4538 0.1041 0.8957 Evaluation Finish\n",
      "225: Data Load Finish, Predict Finish, 6.8147 6.8018 0.095 0.9048 Evaluation Finish\n",
      "226: Data Load Finish, Predict Finish, 4.6865 4.6499 0.0649 0.9345 Evaluation Finish\n",
      "227: Data Load Finish, Predict Finish, 5.6903 5.6632 0.0791 0.9205 Evaluation Finish\n",
      "228: Data Load Finish, Predict Finish, 3.5704 3.5406 0.0494 0.9501 Evaluation Finish\n",
      "229: Data Load Finish, Predict Finish, 2.4517 2.3772 0.0332 0.9657 Evaluation Finish\n",
      "230: Data Load Finish, Predict Finish, 0.8941 0.7521 0.0105 0.9875 Evaluation Finish\n",
      "231: Data Load Finish, Predict Finish, 8.4934 8.4709 0.1183 0.8813 Evaluation Finish\n",
      "232: Data Load Finish, Predict Finish, 3.9666 3.9124 0.0547 0.9446 Evaluation Finish\n",
      "233: Data Load Finish, Predict Finish, 1.8782 1.8263 0.0255 0.9738 Evaluation Finish\n",
      "234: Data Load Finish, Predict Finish, 10.5754 10.5561 0.1475 0.8522 Evaluation Finish\n",
      "235: Data Load Finish, Predict Finish, 2.6122 2.5514 0.0356 0.9635 Evaluation Finish\n",
      "236: Data Load Finish, Predict Finish, 2.9945 2.9588 0.0413 0.9582 Evaluation Finish\n",
      "237: Data Load Finish, Predict Finish, 2.8467 2.8049 0.0392 0.9602 Evaluation Finish\n",
      "238: Data Load Finish, Predict Finish, 7.2076 7.1971 0.1005 0.8993 Evaluation Finish\n",
      "239: Data Load Finish, Predict Finish, 6.1371 6.1247 0.0855 0.9143 Evaluation Finish\n",
      "240: Data Load Finish, Predict Finish, 7.3728 7.3627 0.1028 0.897 Evaluation Finish\n",
      "241: Data Load Finish, Predict Finish, 8.4015 8.39 0.1172 0.8826 Evaluation Finish\n",
      "242: Data Load Finish, Predict Finish, 3.3042 3.2814 0.0458 0.9538 Evaluation Finish\n",
      "243: Data Load Finish, Predict Finish, 4.8225 4.764 0.0665 0.9326 Evaluation Finish\n",
      "244: Data Load Finish, Predict Finish, 3.8391 3.8057 0.0531 0.9464 Evaluation Finish\n",
      "245: Data Load Finish, Predict Finish, 3.6616 3.6195 0.0505 0.9488 Evaluation Finish\n",
      "246: Data Load Finish, Predict Finish, 5.7549 5.7391 0.0802 0.9196 Evaluation Finish\n",
      "247: Data Load Finish, "
     ]
    },
    {
     "name": "stderr",
     "output_type": "stream",
     "text": [
      "/home/vislab/anaconda3/envs/cctv/lib/python3.7/site-packages/statsmodels/base/model.py:606: ConvergenceWarning: Maximum Likelihood optimization failed to converge. Check mle_retvals\n",
      "  ConvergenceWarning)\n"
     ]
    },
    {
     "name": "stdout",
     "output_type": "stream",
     "text": [
      "Predict Finish, 6.9115 6.8989 0.0964 0.9034 Evaluation Finish\n",
      "248: Data Load Finish, Predict Finish, 3.0596 3.0073 0.042 0.9573 Evaluation Finish\n",
      "249: Data Load Finish, Predict Finish, 6.7902 6.7761 0.0946 0.9051 Evaluation Finish\n",
      "250: Data Load Finish, Predict Finish, 4.1637 4.123 0.0576 0.9418 Evaluation Finish\n",
      "251: Data Load Finish, Predict Finish, 7.5584 7.5447 0.1054 0.8944 Evaluation Finish\n",
      "252: Data Load Finish, Predict Finish, 7.2023 7.1919 0.1005 0.8994 Evaluation Finish\n",
      "253: Data Load Finish, Predict Finish, 0.6556 0.5392 0.0075 0.9908 Evaluation Finish\n",
      "254: Data Load Finish, Predict Finish, 7.2263 7.211 0.1007 0.899 Evaluation Finish\n",
      "255: Data Load Finish, Predict Finish, 6.8753 6.8645 0.0959 0.9039 Evaluation Finish\n",
      "256: Data Load Finish, Predict Finish, 4.3489 4.3153 0.0603 0.9392 Evaluation Finish\n",
      "257: Data Load Finish, Predict Finish, 1.047 0.9285 0.0129 0.9854 Evaluation Finish\n",
      "258: Data Load Finish, Predict Finish, 3.2836 3.2407 0.0453 0.9541 Evaluation Finish\n",
      "259: Data Load Finish, Predict Finish, 3.2618 3.2096 0.0448 0.9544 Evaluation Finish\n",
      "260: Data Load Finish, Predict Finish, 4.1205 4.1023 0.0573 0.9424 Evaluation Finish\n",
      "261: Data Load Finish, Predict Finish, 3.2435 3.206 0.0448 0.9547 Evaluation Finish\n",
      "262: Data Load Finish, Predict Finish, 3.8241 3.8014 0.0531 0.9466 Evaluation Finish\n",
      "263: Data Load Finish, Predict Finish, 4.969 4.9398 0.069 0.9306 Evaluation Finish\n",
      "264: Data Load Finish, Predict Finish, 5.6972 5.6834 0.0794 0.9204 Evaluation Finish\n",
      "265: Data Load Finish, Predict Finish, 3.1474 3.1075 0.0434 0.956 Evaluation Finish\n",
      "266: Data Load Finish, Predict Finish, 2.6932 2.6399 0.0369 0.9624 Evaluation Finish\n",
      "267: Data Load Finish, Predict Finish, 3.6584 3.634 0.0507 0.9489 Evaluation Finish\n",
      "268: Data Load Finish, Predict Finish, 5.8888 5.8404 0.0816 0.9177 Evaluation Finish\n",
      "269: Data Load Finish, Predict Finish, 5.2382 5.2193 0.0729 0.9268 Evaluation Finish\n",
      "270: Data Load Finish, Predict Finish, 4.9819 4.9584 0.0693 0.9304 Evaluation Finish\n",
      "271: Data Load Finish, Predict Finish, 4.9103 4.891 0.0683 0.9314 Evaluation Finish\n",
      "272: Data Load Finish, Predict Finish, 2.9661 2.8754 0.0402 0.9586 Evaluation Finish\n",
      "273: Data Load Finish, Predict Finish, 6.8792 6.8658 0.0959 0.9039 Evaluation Finish\n",
      "274: Data Load Finish, Predict Finish, 2.8017 2.7132 0.0379 0.9609 Evaluation Finish\n",
      "275: Data Load Finish, Predict Finish, 3.6593 3.5313 0.0493 0.9489 Evaluation Finish\n",
      "276: Data Load Finish, Predict Finish, 3.3484 3.3097 0.0462 0.9532 Evaluation Finish\n",
      "277: Data Load Finish, Predict Finish, 3.8263 3.7844 0.0528 0.9465 Evaluation Finish\n",
      "278: Data Load Finish, Predict Finish, 5.6085 5.5911 0.0781 0.9216 Evaluation Finish\n",
      "279: Data Load Finish, Predict Finish, 2.9055 2.8367 0.0396 0.9594 Evaluation Finish\n",
      "280: Data Load Finish, Predict Finish, 3.6922 3.6513 0.051 0.9484 Evaluation Finish\n",
      "281: Data Load Finish, Predict Finish, 2.2034 2.1415 0.0299 0.9692 Evaluation Finish\n",
      "282: Data Load Finish, Predict Finish, 8.3638 8.355 0.1167 0.8831 Evaluation Finish\n",
      "283: Data Load Finish, Predict Finish, 30.1915 30.0823 0.4203 0.5782 Evaluation Finish\n",
      "284: Data Load Finish, Predict Finish, 1.6148 1.3342 0.0186 0.9774 Evaluation Finish\n",
      "285: Data Load Finish, "
     ]
    },
    {
     "name": "stderr",
     "output_type": "stream",
     "text": [
      "/home/vislab/anaconda3/envs/cctv/lib/python3.7/site-packages/statsmodels/base/model.py:606: ConvergenceWarning: Maximum Likelihood optimization failed to converge. Check mle_retvals\n",
      "  ConvergenceWarning)\n"
     ]
    },
    {
     "name": "stdout",
     "output_type": "stream",
     "text": [
      "Predict Finish, 5.1464 5.1213 0.0715 0.9281 Evaluation Finish\n",
      "286: Data Load Finish, Predict Finish, 4.3133 4.288 0.0599 0.9397 Evaluation Finish\n",
      "287: Data Load Finish, Predict Finish, 5.0149 4.9762 0.0695 0.9299 Evaluation Finish\n",
      "288: Data Load Finish, Predict Finish, 4.5324 4.5127 0.063 0.9367 Evaluation Finish\n",
      "289: Data Load Finish, Predict Finish, 5.5136 5.4937 0.0767 0.923 Evaluation Finish\n",
      "290: Data Load Finish, Predict Finish, 3.5067 3.4717 0.0485 0.951 Evaluation Finish\n",
      "291: Data Load Finish, Predict Finish, 7.4046 7.3869 0.1032 0.8965 Evaluation Finish\n",
      "292: Data Load Finish, Predict Finish, 8.8586 8.5403 0.1193 0.8762 Evaluation Finish\n",
      "293: Data Load Finish, Predict Finish, 8.7906 8.6856 0.1213 0.8772 Evaluation Finish\n",
      "294: Data Load Finish, Predict Finish, 3.8348 3.8016 0.0531 0.9464 Evaluation Finish\n",
      "295: Data Load Finish, Predict Finish, 9.534 9.5118 0.1329 0.8668 Evaluation Finish\n",
      "296: Data Load Finish, Predict Finish, 5.6273 5.6129 0.0784 0.9214 Evaluation Finish\n",
      "297: Data Load Finish, Predict Finish, 3.9198 3.8916 0.0543 0.9452 Evaluation Finish\n",
      "298: Data Load Finish, Predict Finish, 3.9163 3.8916 0.0543 0.9453 Evaluation Finish\n",
      "299: Data Load Finish, Predict Finish, 3.6125 3.5738 0.0499 0.9495 Evaluation Finish\n",
      "300: Data Load Finish, Predict Finish, 4.371 4.3272 0.0604 0.9389 Evaluation Finish\n",
      "301: Data Load Finish, Predict Finish, 7.0346 7.0188 0.098 0.9017 Evaluation Finish\n",
      "302: Data Load Finish, Predict Finish, 4.4903 4.4341 0.0619 0.9373 Evaluation Finish\n",
      "303: Data Load Finish, Predict Finish, 4.8097 4.7562 0.0664 0.9328 Evaluation Finish\n",
      "304: Data Load Finish, Predict Finish, 4.9583 4.8925 0.0683 0.9307 Evaluation Finish\n",
      "305: Data Load Finish, Predict Finish, 8.1441 8.1265 0.1135 0.8862 Evaluation Finish\n",
      "306: Data Load Finish, Predict Finish, 3.9917 3.9683 0.0554 0.9442 Evaluation Finish\n",
      "307: Data Load Finish, Predict Finish, 4.912 4.8703 0.068 0.9314 Evaluation Finish\n",
      "308: Data Load Finish, Predict Finish, 9.6242 9.5217 0.133 0.8655 Evaluation Finish\n",
      "309: Data Load Finish, Predict Finish, 3.2238 3.1936 0.0446 0.955 Evaluation Finish\n",
      "310: Data Load Finish, Predict Finish, 6.5502 6.53 0.0912 0.9085 Evaluation Finish\n",
      "311: Data Load Finish, Predict Finish, 3.0778 3.0474 0.0426 0.957 Evaluation Finish\n",
      "312: Data Load Finish, Predict Finish, 3.7788 3.7484 0.0523 0.9472 Evaluation Finish\n",
      "313: Data Load Finish, Predict Finish, 5.6565 5.6199 0.0785 0.921 Evaluation Finish\n",
      "314: Data Load Finish, Predict Finish, 4.5171 4.4906 0.0627 0.9369 Evaluation Finish\n",
      "315: Data Load Finish, Predict Finish, 6.4907 6.4787 0.0905 0.9093 Evaluation Finish\n",
      "316: Data Load Finish, Predict Finish, 4.8143 4.7919 0.0669 0.9327 Evaluation Finish\n",
      "317: Data Load Finish, Predict Finish, 7.6797 7.6702 0.1071 0.8927 Evaluation Finish\n",
      "318: Data Load Finish, "
     ]
    },
    {
     "name": "stderr",
     "output_type": "stream",
     "text": [
      "/home/vislab/anaconda3/envs/cctv/lib/python3.7/site-packages/statsmodels/base/model.py:606: ConvergenceWarning: Maximum Likelihood optimization failed to converge. Check mle_retvals\n",
      "  ConvergenceWarning)\n"
     ]
    },
    {
     "name": "stdout",
     "output_type": "stream",
     "text": [
      "Predict Finish, 11.7726 11.7659 0.1644 0.8355 Evaluation Finish\n",
      "319: Data Load Finish, Predict Finish, 3.1735 3.1343 0.0438 0.9557 Evaluation Finish\n",
      "320: Data Load Finish, Predict Finish, 7.5939 7.5777 0.1058 0.8939 Evaluation Finish\n",
      "321: Data Load Finish, Predict Finish, 1.6813 1.6152 0.0225 0.9765 Evaluation Finish\n",
      "322: Data Load Finish, Predict Finish, 3.124 3.0803 0.043 0.9564 Evaluation Finish\n",
      "323: Data Load Finish, Predict Finish, 1.2191 1.0905 0.0152 0.983 Evaluation Finish\n",
      "324: Data Load Finish, Predict Finish, 4.3122 4.2807 0.0598 0.9398 Evaluation Finish\n",
      "RMSE: 5.088836936011041, MAE: 5.047128698645646, MAPE: 0.07049243820003248\n",
      "ACC: 0.9289030644529102\n"
     ]
    }
   ],
   "source": [
    "predictARIMA(df, idx, 12)"
   ]
  },
  {
   "cell_type": "markdown",
   "id": "c1acb05c",
   "metadata": {},
   "source": [
    "### Unobserved Nodes = 5%"
   ]
  },
  {
   "cell_type": "code",
   "execution_count": 10,
   "id": "8a799433",
   "metadata": {},
   "outputs": [
    {
     "name": "stdout",
     "output_type": "stream",
     "text": [
      "52116 325\n"
     ]
    },
    {
     "data": {
      "text/plain": [
       "833856"
      ]
     },
     "execution_count": 10,
     "metadata": {},
     "output_type": "execute_result"
    }
   ],
   "source": [
    "df, idx = csvIndexToDatetime(path_5, start, freq)\n",
    "(df == 0).sum().sum()"
   ]
  },
  {
   "cell_type": "code",
   "execution_count": 11,
   "id": "83ef8625",
   "metadata": {
    "scrolled": false
   },
   "outputs": [
    {
     "name": "stdout",
     "output_type": "stream",
     "text": [
      "0: Data Load Finish, Predict Finish, 0.6205 0.5084 0.0071 0.9913 Evaluation Finish\n",
      "1: Data Load Finish, Predict Finish, 6.006 5.9914 0.0837 0.9161 Evaluation Finish\n",
      "2: Data Load Finish, Predict Finish, 6.4662 6.4196 0.0897 0.9097 Evaluation Finish\n",
      "3: Data Load Finish, Predict Finish, 9.0809 9.0727 0.1267 0.8731 Evaluation Finish\n",
      "4: Data Load Finish, Predict Finish, 9.1863 9.1777 0.1282 0.8717 Evaluation Finish\n",
      "5: Data Load Finish, Predict Finish, 4.0756 4.043 0.0565 0.9431 Evaluation Finish\n",
      "6: Data Load Finish, Predict Finish, 4.5766 4.4876 0.0627 0.9361 Evaluation Finish\n",
      "7: Data Load Finish, Predict Finish, 3.678 3.6422 0.0509 0.9486 Evaluation Finish\n",
      "8: Data Load Finish, Predict Finish, 8.2171 8.2073 0.1146 0.8852 Evaluation Finish\n",
      "9: Data Load Finish, Predict Finish, 4.0186 3.9939 0.0558 0.9439 Evaluation Finish\n",
      "10: Data Load Finish, Predict Finish, 5.2609 5.2434 0.0732 0.9265 Evaluation Finish\n",
      "11: Data Load Finish, Predict Finish, 3.3741 3.3292 0.0465 0.9529 Evaluation Finish\n",
      "12: Data Load Finish, Predict Finish, 4.1617 4.1231 0.0576 0.9419 Evaluation Finish\n",
      "13: Data Load Finish, Predict Finish, 3.3277 3.225 0.045 0.9535 Evaluation Finish\n",
      "14: Data Load Finish, Predict Finish, 3.845 3.8195 0.0533 0.9463 Evaluation Finish\n",
      "15: Data Load Finish, Predict Finish, 3.9971 3.9667 0.0554 0.9442 Evaluation Finish\n",
      "16: Data Load Finish, Predict Finish, 5.0221 5.0065 0.0699 0.9298 Evaluation Finish\n",
      "17: Data Load Finish, Predict Finish, 5.3073 5.2769 0.0737 0.9259 Evaluation Finish\n",
      "18: Data Load Finish, Predict Finish, 3.6009 3.5805 0.05 0.9497 Evaluation Finish\n",
      "19: Data Load Finish, Predict Finish, 5.6577 5.6149 0.0784 0.921 Evaluation Finish\n",
      "20: Data Load Finish, Predict Finish, 3.4639 3.4158 0.0477 0.9516 Evaluation Finish\n",
      "21: Data Load Finish, Predict Finish, 5.2161 5.1854 0.0724 0.9271 Evaluation Finish\n",
      "22: Data Load Finish, Predict Finish, 3.9097 3.8835 0.0542 0.9454 Evaluation Finish\n",
      "23: Data Load Finish, Predict Finish, 6.0967 6.0638 0.0847 0.9148 Evaluation Finish\n",
      "24: Data Load Finish, Predict Finish, 3.325 3.2983 0.0461 0.9535 Evaluation Finish\n",
      "25: Data Load Finish, Predict Finish, 3.7486 3.7216 0.052 0.9476 Evaluation Finish\n",
      "26: Data Load Finish, Predict Finish, 2.7974 2.7537 0.0384 0.9609 Evaluation Finish\n",
      "27: Data Load Finish, Predict Finish, 3.8867 3.867 0.054 0.9457 Evaluation Finish\n",
      "28: Data Load Finish, Predict Finish, 5.6396 5.6194 0.0785 0.9212 Evaluation Finish\n",
      "29: Data Load Finish, Predict Finish, 11.4067 11.3988 0.1592 0.8406 Evaluation Finish\n",
      "30: Data Load Finish, Predict Finish, 4.1995 4.1755 0.0583 0.9413 Evaluation Finish\n",
      "31: Data Load Finish, Predict Finish, 6.1068 6.0944 0.0851 0.9147 Evaluation Finish\n",
      "32: Data Load Finish, Predict Finish, 4.5765 4.5558 0.0636 0.9361 Evaluation Finish\n",
      "33: Data Load Finish, Predict Finish, 9.6873 9.6766 0.1352 0.8647 Evaluation Finish\n",
      "34: Data Load Finish, Predict Finish, 4.8962 4.8658 0.068 0.9316 Evaluation Finish\n",
      "35: Data Load Finish, Predict Finish, 4.2667 4.1838 0.0584 0.9404 Evaluation Finish\n",
      "36: Data Load Finish, Predict Finish, 0.8315 0.711 0.0099 0.9884 Evaluation Finish\n",
      "37: Data Load Finish, Predict Finish, 4.3202 4.2947 0.06 0.9396 Evaluation Finish\n",
      "38: Data Load Finish, Predict Finish, 8.0927 8.076 0.1128 0.8869 Evaluation Finish\n",
      "39: Data Load Finish, Predict Finish, 5.3457 5.3227 0.0743 0.9253 Evaluation Finish\n",
      "40: Data Load Finish, "
     ]
    },
    {
     "name": "stderr",
     "output_type": "stream",
     "text": [
      "/home/vislab/anaconda3/envs/cctv/lib/python3.7/site-packages/pandas/core/arraylike.py:364: RuntimeWarning: divide by zero encountered in log\n",
      "  result = getattr(ufunc, method)(*inputs, **kwargs)\n",
      "/home/vislab/anaconda3/envs/cctv/lib/python3.7/site-packages/statsmodels/base/model.py:606: ConvergenceWarning: Maximum Likelihood optimization failed to converge. Check mle_retvals\n",
      "  ConvergenceWarning)\n"
     ]
    },
    {
     "name": "stdout",
     "output_type": "stream",
     "text": [
      "Predict Finish, 70.5761 70.575 0.986 0.014 Evaluation Finish\n",
      "41: Data Load Finish, Predict Finish, 5.3803 5.3521 0.0748 0.9248 Evaluation Finish\n",
      "42: Data Load Finish, Predict Finish, 4.826 4.7884 0.0669 0.9326 Evaluation Finish\n",
      "43: Data Load Finish, Predict Finish, 5.0381 4.9635 0.0693 0.9296 Evaluation Finish\n",
      "44: Data Load Finish, Predict Finish, 3.9494 3.9215 0.0548 0.9448 Evaluation Finish\n",
      "45: Data Load Finish, Predict Finish, 4.1176 4.0691 0.0568 0.9425 Evaluation Finish\n",
      "46: Data Load Finish, Predict Finish, 10.0923 10.0841 0.1409 0.859 Evaluation Finish\n",
      "47: Data Load Finish, "
     ]
    },
    {
     "name": "stderr",
     "output_type": "stream",
     "text": [
      "/home/vislab/anaconda3/envs/cctv/lib/python3.7/site-packages/pandas/core/arraylike.py:364: RuntimeWarning: divide by zero encountered in log\n",
      "  result = getattr(ufunc, method)(*inputs, **kwargs)\n",
      "/home/vislab/anaconda3/envs/cctv/lib/python3.7/site-packages/statsmodels/base/model.py:606: ConvergenceWarning: Maximum Likelihood optimization failed to converge. Check mle_retvals\n",
      "  ConvergenceWarning)\n"
     ]
    },
    {
     "name": "stdout",
     "output_type": "stream",
     "text": [
      "Predict Finish, 70.5761 70.575 0.986 0.014 Evaluation Finish\n",
      "48: Data Load Finish, Predict Finish, 4.0375 4.0014 0.0559 0.9436 Evaluation Finish\n",
      "49: Data Load Finish, Predict Finish, 4.7645 4.7428 0.0662 0.9334 Evaluation Finish\n",
      "50: Data Load Finish, Predict Finish, 7.7606 7.751 0.1083 0.8916 Evaluation Finish\n",
      "51: Data Load Finish, Predict Finish, 3.2997 3.2634 0.0456 0.9539 Evaluation Finish\n",
      "52: Data Load Finish, Predict Finish, 3.1185 3.0903 0.0431 0.9564 Evaluation Finish\n",
      "53: Data Load Finish, Predict Finish, 6.0199 5.99 0.0837 0.9159 Evaluation Finish\n",
      "54: Data Load Finish, Predict Finish, 3.8296 3.7926 0.053 0.9465 Evaluation Finish\n",
      "55: Data Load Finish, "
     ]
    },
    {
     "name": "stderr",
     "output_type": "stream",
     "text": [
      "/home/vislab/anaconda3/envs/cctv/lib/python3.7/site-packages/pandas/core/arraylike.py:364: RuntimeWarning: divide by zero encountered in log\n",
      "  result = getattr(ufunc, method)(*inputs, **kwargs)\n",
      "/home/vislab/anaconda3/envs/cctv/lib/python3.7/site-packages/statsmodels/base/model.py:606: ConvergenceWarning: Maximum Likelihood optimization failed to converge. Check mle_retvals\n",
      "  ConvergenceWarning)\n"
     ]
    },
    {
     "name": "stdout",
     "output_type": "stream",
     "text": [
      "Predict Finish, 70.5761 70.575 0.986 0.014 Evaluation Finish\n",
      "56: Data Load Finish, "
     ]
    },
    {
     "name": "stderr",
     "output_type": "stream",
     "text": [
      "/home/vislab/anaconda3/envs/cctv/lib/python3.7/site-packages/pandas/core/arraylike.py:364: RuntimeWarning: divide by zero encountered in log\n",
      "  result = getattr(ufunc, method)(*inputs, **kwargs)\n",
      "/home/vislab/anaconda3/envs/cctv/lib/python3.7/site-packages/statsmodels/base/model.py:606: ConvergenceWarning: Maximum Likelihood optimization failed to converge. Check mle_retvals\n",
      "  ConvergenceWarning)\n"
     ]
    },
    {
     "name": "stdout",
     "output_type": "stream",
     "text": [
      "Predict Finish, 70.5761 70.575 0.986 0.014 Evaluation Finish\n",
      "57: Data Load Finish, "
     ]
    },
    {
     "name": "stderr",
     "output_type": "stream",
     "text": [
      "/home/vislab/anaconda3/envs/cctv/lib/python3.7/site-packages/pandas/core/arraylike.py:364: RuntimeWarning: divide by zero encountered in log\n",
      "  result = getattr(ufunc, method)(*inputs, **kwargs)\n",
      "/home/vislab/anaconda3/envs/cctv/lib/python3.7/site-packages/statsmodels/base/model.py:606: ConvergenceWarning: Maximum Likelihood optimization failed to converge. Check mle_retvals\n",
      "  ConvergenceWarning)\n"
     ]
    },
    {
     "name": "stdout",
     "output_type": "stream",
     "text": [
      "Predict Finish, 70.5761 70.575 0.986 0.014 Evaluation Finish\n",
      "58: Data Load Finish, Predict Finish, 3.766 3.7312 0.0521 0.9474 Evaluation Finish\n",
      "59: Data Load Finish, Predict Finish, 2.9991 2.9586 0.0413 0.9581 Evaluation Finish\n",
      "60: Data Load Finish, "
     ]
    },
    {
     "name": "stderr",
     "output_type": "stream",
     "text": [
      "/home/vislab/anaconda3/envs/cctv/lib/python3.7/site-packages/pandas/core/arraylike.py:364: RuntimeWarning: divide by zero encountered in log\n",
      "  result = getattr(ufunc, method)(*inputs, **kwargs)\n",
      "/home/vislab/anaconda3/envs/cctv/lib/python3.7/site-packages/statsmodels/base/model.py:606: ConvergenceWarning: Maximum Likelihood optimization failed to converge. Check mle_retvals\n",
      "  ConvergenceWarning)\n"
     ]
    },
    {
     "name": "stdout",
     "output_type": "stream",
     "text": [
      "Predict Finish, 70.5761 70.575 0.986 0.014 Evaluation Finish\n",
      "61: Data Load Finish, Predict Finish, 2.7819 2.7128 0.0379 0.9611 Evaluation Finish\n",
      "62: Data Load Finish, Predict Finish, 4.2849 4.2595 0.0595 0.9401 Evaluation Finish\n",
      "63: Data Load Finish, Predict Finish, 6.1957 6.1772 0.0863 0.9134 Evaluation Finish\n",
      "64: Data Load Finish, Predict Finish, 6.1462 6.1226 0.0855 0.9141 Evaluation Finish\n",
      "65: Data Load Finish, "
     ]
    },
    {
     "name": "stderr",
     "output_type": "stream",
     "text": [
      "/home/vislab/anaconda3/envs/cctv/lib/python3.7/site-packages/pandas/core/arraylike.py:364: RuntimeWarning: divide by zero encountered in log\n",
      "  result = getattr(ufunc, method)(*inputs, **kwargs)\n",
      "/home/vislab/anaconda3/envs/cctv/lib/python3.7/site-packages/statsmodels/base/model.py:606: ConvergenceWarning: Maximum Likelihood optimization failed to converge. Check mle_retvals\n",
      "  ConvergenceWarning)\n"
     ]
    },
    {
     "name": "stdout",
     "output_type": "stream",
     "text": [
      "Predict Finish, 70.5761 70.575 0.986 0.014 Evaluation Finish\n",
      "66: Data Load Finish, Predict Finish, 8.2805 8.2564 0.1153 0.8843 Evaluation Finish\n",
      "67: Data Load Finish, Predict Finish, 8.4713 8.4613 0.1182 0.8816 Evaluation Finish\n",
      "68: Data Load Finish, Predict Finish, 5.4446 5.4102 0.0756 0.9239 Evaluation Finish\n",
      "69: Data Load Finish, Predict Finish, 7.1852 7.1742 0.1002 0.8996 Evaluation Finish\n",
      "70: Data Load Finish, Predict Finish, 4.2669 4.2473 0.0593 0.9404 Evaluation Finish\n",
      "71: Data Load Finish, Predict Finish, 7.9982 7.9883 0.1116 0.8883 Evaluation Finish\n",
      "72: Data Load Finish, Predict Finish, 5.7964 5.766 0.0805 0.919 Evaluation Finish\n",
      "73: Data Load Finish, Predict Finish, 4.3688 4.3146 0.0603 0.939 Evaluation Finish\n",
      "74: Data Load Finish, Predict Finish, 9.0995 9.0851 0.1269 0.8729 Evaluation Finish\n",
      "75: Data Load Finish, Predict Finish, 3.0104 2.97 0.0415 0.9579 Evaluation Finish\n",
      "76: Data Load Finish, Predict Finish, 3.3412 3.2749 0.0457 0.9533 Evaluation Finish\n",
      "77: Data Load Finish, Predict Finish, 4.1813 4.1531 0.058 0.9416 Evaluation Finish\n",
      "78: Data Load Finish, "
     ]
    },
    {
     "name": "stderr",
     "output_type": "stream",
     "text": [
      "/home/vislab/anaconda3/envs/cctv/lib/python3.7/site-packages/pandas/core/arraylike.py:364: RuntimeWarning: divide by zero encountered in log\n",
      "  result = getattr(ufunc, method)(*inputs, **kwargs)\n",
      "/home/vislab/anaconda3/envs/cctv/lib/python3.7/site-packages/statsmodels/base/model.py:606: ConvergenceWarning: Maximum Likelihood optimization failed to converge. Check mle_retvals\n",
      "  ConvergenceWarning)\n"
     ]
    },
    {
     "name": "stdout",
     "output_type": "stream",
     "text": [
      "Predict Finish, 70.5761 70.575 0.986 0.014 Evaluation Finish\n",
      "79: Data Load Finish, Predict Finish, 2.8967 2.8597 0.0399 0.9595 Evaluation Finish\n",
      "80: Data Load Finish, Predict Finish, 5.6626 5.6104 0.0784 0.9209 Evaluation Finish\n",
      "81: Data Load Finish, Predict Finish, 3.6487 3.613 0.0505 0.949 Evaluation Finish\n",
      "82: Data Load Finish, Predict Finish, 2.8653 2.8244 0.0394 0.96 Evaluation Finish\n",
      "83: Data Load Finish, Predict Finish, 6.2508 6.1668 0.0861 0.9127 Evaluation Finish\n",
      "84: Data Load Finish, Predict Finish, 2.9444 2.8813 0.0402 0.9589 Evaluation Finish\n",
      "85: Data Load Finish, Predict Finish, 7.9455 7.9358 0.1108 0.889 Evaluation Finish\n",
      "86: Data Load Finish, Predict Finish, 6.8171 6.8047 0.095 0.9048 Evaluation Finish\n",
      "87: Data Load Finish, Predict Finish, 3.8381 3.7952 0.053 0.9464 Evaluation Finish\n",
      "88: Data Load Finish, Predict Finish, 8.3698 8.3513 0.1167 0.8831 Evaluation Finish\n",
      "89: Data Load Finish, Predict Finish, 3.7865 3.7588 0.0525 0.9471 Evaluation Finish\n",
      "90: Data Load Finish, Predict Finish, 4.062 4.0201 0.0561 0.9432 Evaluation Finish\n",
      "91: Data Load Finish, Predict Finish, 13.7137 13.7071 0.1915 0.8084 Evaluation Finish\n",
      "92: Data Load Finish, Predict Finish, 3.0329 3.0044 0.042 0.9576 Evaluation Finish\n",
      "93: Data Load Finish, Predict Finish, 2.7871 2.701 0.0377 0.9611 Evaluation Finish\n",
      "94: Data Load Finish, Predict Finish, 9.3481 9.3398 0.1305 0.8694 Evaluation Finish\n",
      "95: Data Load Finish, Predict Finish, 5.4156 5.3996 0.0754 0.9243 Evaluation Finish\n",
      "96: Data Load Finish, Predict Finish, 10.2455 10.2379 0.143 0.8569 Evaluation Finish\n",
      "97: Data Load Finish, Predict Finish, 3.3899 3.3257 0.0464 0.9526 Evaluation Finish\n",
      "98: Data Load Finish, Predict Finish, 9.9688 9.9613 0.1391 0.8607 Evaluation Finish\n",
      "99: Data Load Finish, Predict Finish, 2.0086 1.9226 0.0268 0.9719 Evaluation Finish\n",
      "100: Data Load Finish, Predict Finish, 5.5006 5.4491 0.0761 0.9232 Evaluation Finish\n",
      "101: Data Load Finish, Predict Finish, 5.4053 5.3853 0.0752 0.9245 Evaluation Finish\n",
      "102: Data Load Finish, Predict Finish, 2.059 1.9394 0.0271 0.9712 Evaluation Finish\n",
      "103: Data Load Finish, Predict Finish, 3.1891 3.1521 0.044 0.9554 Evaluation Finish\n",
      "104: Data Load Finish, Predict Finish, 8.3921 8.3121 0.1161 0.8828 Evaluation Finish\n",
      "105: Data Load Finish, Predict Finish, 3.2372 3.2095 0.0448 0.9548 Evaluation Finish\n",
      "106: Data Load Finish, Predict Finish, 4.7962 4.7674 0.0666 0.933 Evaluation Finish\n",
      "107: Data Load Finish, Predict Finish, 1.7927 1.7346 0.0242 0.975 Evaluation Finish\n",
      "108: Data Load Finish, Predict Finish, 3.3153 3.2824 0.0458 0.9537 Evaluation Finish\n",
      "109: Data Load Finish, Predict Finish, 0.7199 0.5841 0.0082 0.9899 Evaluation Finish\n",
      "110: Data Load Finish, Predict Finish, 4.5292 4.5053 0.0629 0.9367 Evaluation Finish\n",
      "111: Data Load Finish, Predict Finish, 3.4971 3.4756 0.0485 0.9511 Evaluation Finish\n",
      "112: Data Load Finish, Predict Finish, 3.5963 3.5666 0.0498 0.9498 Evaluation Finish\n",
      "113: Data Load Finish, Predict Finish, 5.3546 5.3353 0.0745 0.9252 Evaluation Finish\n",
      "114: Data Load Finish, Predict Finish, 4.0656 4.0367 0.0564 0.9432 Evaluation Finish\n",
      "115: Data Load Finish, Predict Finish, 10.3044 10.2973 0.1438 0.856 Evaluation Finish\n",
      "116: Data Load Finish, Predict Finish, 8.3729 8.3604 0.1168 0.883 Evaluation Finish\n",
      "117: Data Load Finish, "
     ]
    },
    {
     "name": "stderr",
     "output_type": "stream",
     "text": [
      "/home/vislab/anaconda3/envs/cctv/lib/python3.7/site-packages/statsmodels/base/model.py:606: ConvergenceWarning: Maximum Likelihood optimization failed to converge. Check mle_retvals\n",
      "  ConvergenceWarning)\n"
     ]
    },
    {
     "name": "stdout",
     "output_type": "stream",
     "text": [
      "Predict Finish, 4.1616 4.1439 0.0579 0.9419 Evaluation Finish\n",
      "118: Data Load Finish, Predict Finish, 2.9701 2.9199 0.0408 0.9585 Evaluation Finish\n",
      "119: Data Load Finish, Predict Finish, 3.8248 3.7995 0.0531 0.9466 Evaluation Finish\n",
      "120: Data Load Finish, Predict Finish, 4.8661 4.8421 0.0676 0.932 Evaluation Finish\n",
      "121: Data Load Finish, Predict Finish, 3.3087 3.271 0.0457 0.9538 Evaluation Finish\n",
      "122: Data Load Finish, Predict Finish, 2.5844 2.5205 0.0352 0.9639 Evaluation Finish\n",
      "123: Data Load Finish, "
     ]
    },
    {
     "name": "stderr",
     "output_type": "stream",
     "text": [
      "/home/vislab/anaconda3/envs/cctv/lib/python3.7/site-packages/pandas/core/arraylike.py:364: RuntimeWarning: divide by zero encountered in log\n",
      "  result = getattr(ufunc, method)(*inputs, **kwargs)\n",
      "/home/vislab/anaconda3/envs/cctv/lib/python3.7/site-packages/statsmodels/base/model.py:606: ConvergenceWarning: Maximum Likelihood optimization failed to converge. Check mle_retvals\n",
      "  ConvergenceWarning)\n"
     ]
    },
    {
     "name": "stdout",
     "output_type": "stream",
     "text": [
      "Predict Finish, 70.5761 70.575 0.986 0.014 Evaluation Finish\n",
      "124: Data Load Finish, Predict Finish, 3.0138 2.9848 0.0417 0.9579 Evaluation Finish\n",
      "125: Data Load Finish, Predict Finish, 6.1052 6.0932 0.0851 0.9147 Evaluation Finish\n",
      "126: Data Load Finish, Predict Finish, 6.6518 6.6364 0.0927 0.9071 Evaluation Finish\n",
      "127: Data Load Finish, Predict Finish, 7.6519 7.641 0.1067 0.8931 Evaluation Finish\n",
      "128: Data Load Finish, Predict Finish, 4.9628 4.9329 0.0689 0.9307 Evaluation Finish\n",
      "129: Data Load Finish, Predict Finish, 4.16 4.1355 0.0578 0.9419 Evaluation Finish\n",
      "130: Data Load Finish, Predict Finish, 3.8786 3.8254 0.0534 0.9458 Evaluation Finish\n",
      "131: Data Load Finish, Predict Finish, 5.0782 5.0614 0.0707 0.9291 Evaluation Finish\n",
      "132: Data Load Finish, Predict Finish, 6.2558 6.2321 0.087 0.9126 Evaluation Finish\n",
      "133: Data Load Finish, Predict Finish, 9.5009 9.4475 0.132 0.8673 Evaluation Finish\n",
      "134: Data Load Finish, Predict Finish, 8.7284 8.6782 0.1212 0.8781 Evaluation Finish\n",
      "135: Data Load Finish, Predict Finish, 8.0899 8.0765 0.1128 0.887 Evaluation Finish\n",
      "136: Data Load Finish, Predict Finish, 0.5206 0.394 0.0055 0.9927 Evaluation Finish\n",
      "137: Data Load Finish, Predict Finish, 4.3609 4.3398 0.0606 0.9391 Evaluation Finish\n",
      "138: Data Load Finish, Predict Finish, 4.75 4.7098 0.0658 0.9336 Evaluation Finish\n",
      "139: Data Load Finish, Predict Finish, 4.8061 4.7881 0.0669 0.9329 Evaluation Finish\n",
      "140: Data Load Finish, Predict Finish, 5.2515 5.2348 0.0731 0.9266 Evaluation Finish\n",
      "141: Data Load Finish, Predict Finish, 0.7581 0.6489 0.0091 0.9894 Evaluation Finish\n",
      "142: Data Load Finish, Predict Finish, 1.0511 0.9342 0.013 0.9853 Evaluation Finish\n",
      "143: Data Load Finish, Predict Finish, 4.1142 4.0931 0.0572 0.9425 Evaluation Finish\n",
      "144: Data Load Finish, Predict Finish, 4.5402 4.5083 0.063 0.9366 Evaluation Finish\n",
      "145: Data Load Finish, Predict Finish, 5.9721 5.9578 0.0832 0.9166 Evaluation Finish\n",
      "146: Data Load Finish, Predict Finish, 14.7672 14.3132 0.1999 0.7937 Evaluation Finish\n",
      "147: Data Load Finish, Predict Finish, 6.9577 6.9457 0.097 0.9028 Evaluation Finish\n",
      "148: Data Load Finish, Predict Finish, 4.1616 4.144 0.0579 0.9419 Evaluation Finish\n",
      "149: Data Load Finish, Predict Finish, 5.1467 5.1214 0.0715 0.9281 Evaluation Finish\n",
      "150: Data Load Finish, Predict Finish, 4.5935 4.5731 0.0639 0.9358 Evaluation Finish\n",
      "151: Data Load Finish, "
     ]
    },
    {
     "name": "stderr",
     "output_type": "stream",
     "text": [
      "/home/vislab/anaconda3/envs/cctv/lib/python3.7/site-packages/statsmodels/base/model.py:606: ConvergenceWarning: Maximum Likelihood optimization failed to converge. Check mle_retvals\n",
      "  ConvergenceWarning)\n"
     ]
    },
    {
     "name": "stdout",
     "output_type": "stream",
     "text": [
      "Predict Finish, 6.3191 6.294 0.0879 0.9117 Evaluation Finish\n",
      "152: Data Load Finish, Predict Finish, 12.8679 12.862 0.1797 0.8202 Evaluation Finish\n",
      "153: Data Load Finish, Predict Finish, 2.8594 2.8098 0.0392 0.9601 Evaluation Finish\n",
      "154: Data Load Finish, Predict Finish, 3.4743 3.4477 0.0481 0.9515 Evaluation Finish\n",
      "155: Data Load Finish, Predict Finish, 7.6251 7.6154 0.1064 0.8935 Evaluation Finish\n",
      "156: Data Load Finish, Predict Finish, 2.9829 2.9567 0.0413 0.9583 Evaluation Finish\n",
      "157: Data Load Finish, Predict Finish, 4.5081 4.4815 0.0626 0.937 Evaluation Finish\n",
      "158: Data Load Finish, Predict Finish, 4.5136 4.4398 0.062 0.9369 Evaluation Finish\n",
      "159: Data Load Finish, Predict Finish, 9.5873 9.572 0.1337 0.8661 Evaluation Finish\n",
      "160: Data Load Finish, Predict Finish, 7.6773 7.6678 0.1071 0.8927 Evaluation Finish\n",
      "161: Data Load Finish, Predict Finish, 7.7917 7.7806 0.1087 0.8911 Evaluation Finish\n",
      "162: Data Load Finish, Predict Finish, 8.9361 8.9247 0.1247 0.8752 Evaluation Finish\n",
      "163: Data Load Finish, Predict Finish, 4.3865 4.3467 0.0607 0.9387 Evaluation Finish\n",
      "164: Data Load Finish, Predict Finish, 2.9454 2.8884 0.0403 0.9588 Evaluation Finish\n",
      "165: Data Load Finish, Predict Finish, 0.6778 0.5685 0.008 0.9905 Evaluation Finish\n",
      "166: Data Load Finish, Predict Finish, 4.3184 4.2931 0.06 0.9397 Evaluation Finish\n",
      "167: Data Load Finish, Predict Finish, 7.529 7.5158 0.105 0.8948 Evaluation Finish\n",
      "168: Data Load Finish, Predict Finish, 1.7153 1.5486 0.0216 0.976 Evaluation Finish\n",
      "169: Data Load Finish, Predict Finish, 1.9835 1.772 0.0247 0.9723 Evaluation Finish\n",
      "170: Data Load Finish, Predict Finish, 6.2791 6.2652 0.0875 0.9123 Evaluation Finish\n",
      "171: Data Load Finish, Predict Finish, 7.5394 7.5292 0.1052 0.8947 Evaluation Finish\n",
      "172: Data Load Finish, Predict Finish, 2.5372 2.5025 0.0349 0.9646 Evaluation Finish\n",
      "173: Data Load Finish, Predict Finish, 2.9765 2.9454 0.0411 0.9584 Evaluation Finish\n",
      "174: Data Load Finish, Predict Finish, 1.609 1.3817 0.0193 0.9775 Evaluation Finish\n",
      "175: Data Load Finish, Predict Finish, 2.7458 2.7056 0.0378 0.9616 Evaluation Finish\n",
      "176: Data Load Finish, Predict Finish, 9.1748 9.1567 0.1279 0.8718 Evaluation Finish\n",
      "177: Data Load Finish, "
     ]
    },
    {
     "name": "stderr",
     "output_type": "stream",
     "text": [
      "/home/vislab/anaconda3/envs/cctv/lib/python3.7/site-packages/statsmodels/base/model.py:606: ConvergenceWarning: Maximum Likelihood optimization failed to converge. Check mle_retvals\n",
      "  ConvergenceWarning)\n"
     ]
    },
    {
     "name": "stdout",
     "output_type": "stream",
     "text": [
      "Predict Finish, 3.9499 3.9313 0.0549 0.9448 Evaluation Finish\n",
      "178: Data Load Finish, Predict Finish, 1.5799 1.4511 0.0203 0.9779 Evaluation Finish\n",
      "179: Data Load Finish, "
     ]
    },
    {
     "name": "stderr",
     "output_type": "stream",
     "text": [
      "/home/vislab/anaconda3/envs/cctv/lib/python3.7/site-packages/pandas/core/arraylike.py:364: RuntimeWarning: divide by zero encountered in log\n",
      "  result = getattr(ufunc, method)(*inputs, **kwargs)\n",
      "/home/vislab/anaconda3/envs/cctv/lib/python3.7/site-packages/statsmodels/base/model.py:606: ConvergenceWarning: Maximum Likelihood optimization failed to converge. Check mle_retvals\n",
      "  ConvergenceWarning)\n"
     ]
    },
    {
     "name": "stdout",
     "output_type": "stream",
     "text": [
      "Predict Finish, 70.5761 70.575 0.986 0.014 Evaluation Finish\n",
      "180: Data Load Finish, Predict Finish, 2.9996 2.9439 0.0411 0.9581 Evaluation Finish\n",
      "181: Data Load Finish, Predict Finish, 4.4959 4.4753 0.0625 0.9372 Evaluation Finish\n",
      "182: Data Load Finish, Predict Finish, 1.158 1.0357 0.0144 0.9838 Evaluation Finish\n",
      "183: Data Load Finish, "
     ]
    },
    {
     "name": "stderr",
     "output_type": "stream",
     "text": [
      "/home/vislab/anaconda3/envs/cctv/lib/python3.7/site-packages/statsmodels/base/model.py:606: ConvergenceWarning: Maximum Likelihood optimization failed to converge. Check mle_retvals\n",
      "  ConvergenceWarning)\n"
     ]
    },
    {
     "name": "stdout",
     "output_type": "stream",
     "text": [
      "Predict Finish, 5.4511 5.4028 0.0755 0.9238 Evaluation Finish\n",
      "184: Data Load Finish, Predict Finish, 5.1621 5.1424 0.0718 0.9279 Evaluation Finish\n",
      "185: Data Load Finish, Predict Finish, 4.9841 4.9559 0.0692 0.9304 Evaluation Finish\n",
      "186: Data Load Finish, Predict Finish, 4.0168 3.9862 0.0557 0.9439 Evaluation Finish\n",
      "187: Data Load Finish, Predict Finish, 4.6328 4.6135 0.0644 0.9353 Evaluation Finish\n",
      "188: Data Load Finish, "
     ]
    },
    {
     "name": "stderr",
     "output_type": "stream",
     "text": [
      "/home/vislab/anaconda3/envs/cctv/lib/python3.7/site-packages/pandas/core/arraylike.py:364: RuntimeWarning: divide by zero encountered in log\n",
      "  result = getattr(ufunc, method)(*inputs, **kwargs)\n",
      "/home/vislab/anaconda3/envs/cctv/lib/python3.7/site-packages/statsmodels/base/model.py:606: ConvergenceWarning: Maximum Likelihood optimization failed to converge. Check mle_retvals\n",
      "  ConvergenceWarning)\n"
     ]
    },
    {
     "name": "stdout",
     "output_type": "stream",
     "text": [
      "Predict Finish, 70.5761 70.575 0.986 0.014 Evaluation Finish\n",
      "189: Data Load Finish, Predict Finish, 2.7675 2.7095 0.0378 0.9613 Evaluation Finish\n",
      "190: Data Load Finish, Predict Finish, 3.7651 3.7431 0.0523 0.9474 Evaluation Finish\n",
      "191: Data Load Finish, Predict Finish, 4.5511 4.529 0.0633 0.9364 Evaluation Finish\n",
      "192: Data Load Finish, Predict Finish, 4.0936 4.0564 0.0567 0.9428 Evaluation Finish\n",
      "193: Data Load Finish, Predict Finish, 0.7299 0.6195 0.0086 0.9898 Evaluation Finish\n",
      "194: Data Load Finish, Predict Finish, 4.2288 4.1952 0.0586 0.9409 Evaluation Finish\n",
      "195: Data Load Finish, Predict Finish, 4.1002 4.0705 0.0568 0.9427 Evaluation Finish\n",
      "196: Data Load Finish, Predict Finish, 0.8849 0.7683 0.0107 0.9876 Evaluation Finish\n",
      "197: Data Load Finish, Predict Finish, 4.8754 4.8562 0.0678 0.9319 Evaluation Finish\n",
      "198: Data Load Finish, Predict Finish, 5.2302 5.1151 0.0714 0.9269 Evaluation Finish\n",
      "199: Data Load Finish, Predict Finish, 3.9047 3.8707 0.0541 0.9454 Evaluation Finish\n",
      "200: Data Load Finish, Predict Finish, 4.8312 4.8048 0.0671 0.9325 Evaluation Finish\n",
      "201: Data Load Finish, Predict Finish, 4.7048 4.6708 0.0652 0.9343 Evaluation Finish\n",
      "202: Data Load Finish, "
     ]
    },
    {
     "name": "stderr",
     "output_type": "stream",
     "text": [
      "/home/vislab/anaconda3/envs/cctv/lib/python3.7/site-packages/statsmodels/base/model.py:606: ConvergenceWarning: Maximum Likelihood optimization failed to converge. Check mle_retvals\n",
      "  ConvergenceWarning)\n"
     ]
    },
    {
     "name": "stdout",
     "output_type": "stream",
     "text": [
      "Predict Finish, 6.6484 6.6273 0.0926 0.9071 Evaluation Finish\n",
      "203: Data Load Finish, Predict Finish, 6.57 6.5518 0.0915 0.9082 Evaluation Finish\n",
      "204: Data Load Finish, Predict Finish, 6.8877 6.8693 0.096 0.9038 Evaluation Finish\n",
      "205: Data Load Finish, Predict Finish, 7.3718 7.359 0.1028 0.897 Evaluation Finish\n",
      "206: Data Load Finish, "
     ]
    },
    {
     "name": "stderr",
     "output_type": "stream",
     "text": [
      "/home/vislab/anaconda3/envs/cctv/lib/python3.7/site-packages/pandas/core/arraylike.py:364: RuntimeWarning: divide by zero encountered in log\n",
      "  result = getattr(ufunc, method)(*inputs, **kwargs)\n",
      "/home/vislab/anaconda3/envs/cctv/lib/python3.7/site-packages/statsmodels/base/model.py:606: ConvergenceWarning: Maximum Likelihood optimization failed to converge. Check mle_retvals\n",
      "  ConvergenceWarning)\n"
     ]
    },
    {
     "name": "stdout",
     "output_type": "stream",
     "text": [
      "Predict Finish, 70.5761 70.575 0.986 0.014 Evaluation Finish\n",
      "207: Data Load Finish, Predict Finish, 2.528 2.3887 0.0334 0.9647 Evaluation Finish\n",
      "208: Data Load Finish, Predict Finish, 8.4882 8.4781 0.1184 0.8814 Evaluation Finish\n",
      "209: Data Load Finish, "
     ]
    },
    {
     "name": "stderr",
     "output_type": "stream",
     "text": [
      "/home/vislab/anaconda3/envs/cctv/lib/python3.7/site-packages/pandas/core/arraylike.py:364: RuntimeWarning: divide by zero encountered in log\n",
      "  result = getattr(ufunc, method)(*inputs, **kwargs)\n",
      "/home/vislab/anaconda3/envs/cctv/lib/python3.7/site-packages/statsmodels/base/model.py:606: ConvergenceWarning: Maximum Likelihood optimization failed to converge. Check mle_retvals\n",
      "  ConvergenceWarning)\n"
     ]
    },
    {
     "name": "stdout",
     "output_type": "stream",
     "text": [
      "Predict Finish, 70.5761 70.575 0.986 0.014 Evaluation Finish\n",
      "210: Data Load Finish, Predict Finish, 8.0005 7.9896 0.1116 0.8882 Evaluation Finish\n",
      "211: Data Load Finish, Predict Finish, 5.8864 5.873 0.082 0.9178 Evaluation Finish\n",
      "212: Data Load Finish, Predict Finish, 5.1609 5.1425 0.0718 0.9279 Evaluation Finish\n",
      "213: Data Load Finish, "
     ]
    },
    {
     "name": "stderr",
     "output_type": "stream",
     "text": [
      "/home/vislab/anaconda3/envs/cctv/lib/python3.7/site-packages/pandas/core/arraylike.py:364: RuntimeWarning: divide by zero encountered in log\n",
      "  result = getattr(ufunc, method)(*inputs, **kwargs)\n",
      "/home/vislab/anaconda3/envs/cctv/lib/python3.7/site-packages/statsmodels/base/model.py:606: ConvergenceWarning: Maximum Likelihood optimization failed to converge. Check mle_retvals\n",
      "  ConvergenceWarning)\n"
     ]
    },
    {
     "name": "stdout",
     "output_type": "stream",
     "text": [
      "Predict Finish, 70.5761 70.575 0.986 0.014 Evaluation Finish\n",
      "214: Data Load Finish, Predict Finish, 7.5157 7.504 0.1048 0.895 Evaluation Finish\n",
      "215: Data Load Finish, Predict Finish, 8.6216 8.6123 0.1203 0.8795 Evaluation Finish\n",
      "216: Data Load Finish, Predict Finish, 5.8055 5.7906 0.0809 0.9189 Evaluation Finish\n",
      "217: Data Load Finish, Predict Finish, 4.665 4.645 0.0649 0.9348 Evaluation Finish\n",
      "218: Data Load Finish, Predict Finish, 7.1317 7.121 0.0995 0.9004 Evaluation Finish\n",
      "219: Data Load Finish, Predict Finish, 4.8681 4.8489 0.0677 0.932 Evaluation Finish\n",
      "220: Data Load Finish, "
     ]
    },
    {
     "name": "stderr",
     "output_type": "stream",
     "text": [
      "/home/vislab/anaconda3/envs/cctv/lib/python3.7/site-packages/pandas/core/arraylike.py:364: RuntimeWarning: divide by zero encountered in log\n",
      "  result = getattr(ufunc, method)(*inputs, **kwargs)\n",
      "/home/vislab/anaconda3/envs/cctv/lib/python3.7/site-packages/statsmodels/base/model.py:606: ConvergenceWarning: Maximum Likelihood optimization failed to converge. Check mle_retvals\n",
      "  ConvergenceWarning)\n"
     ]
    },
    {
     "name": "stdout",
     "output_type": "stream",
     "text": [
      "Predict Finish, 70.5761 70.575 0.986 0.014 Evaluation Finish\n",
      "221: Data Load Finish, Predict Finish, 6.2602 6.2454 0.0872 0.9125 Evaluation Finish\n",
      "222: Data Load Finish, Predict Finish, 7.3875 7.3776 0.103 0.8968 Evaluation Finish\n",
      "223: Data Load Finish, Predict Finish, 6.7855 6.7729 0.0946 0.9052 Evaluation Finish\n",
      "224: Data Load Finish, Predict Finish, 7.4661 7.4538 0.1041 0.8957 Evaluation Finish\n",
      "225: Data Load Finish, Predict Finish, 6.8147 6.8018 0.095 0.9048 Evaluation Finish\n",
      "226: Data Load Finish, Predict Finish, 4.6865 4.6499 0.0649 0.9345 Evaluation Finish\n",
      "227: Data Load Finish, Predict Finish, 5.6903 5.6632 0.0791 0.9205 Evaluation Finish\n",
      "228: Data Load Finish, Predict Finish, 3.5704 3.5406 0.0494 0.9501 Evaluation Finish\n",
      "229: Data Load Finish, Predict Finish, 2.4517 2.3772 0.0332 0.9657 Evaluation Finish\n",
      "230: Data Load Finish, Predict Finish, 0.8941 0.7521 0.0105 0.9875 Evaluation Finish\n",
      "231: Data Load Finish, Predict Finish, 8.4934 8.4709 0.1183 0.8813 Evaluation Finish\n",
      "232: Data Load Finish, Predict Finish, 3.9666 3.9124 0.0547 0.9446 Evaluation Finish\n",
      "233: Data Load Finish, Predict Finish, 1.8782 1.8263 0.0255 0.9738 Evaluation Finish\n",
      "234: Data Load Finish, Predict Finish, 10.5754 10.5561 0.1475 0.8522 Evaluation Finish\n",
      "235: Data Load Finish, Predict Finish, 2.6122 2.5514 0.0356 0.9635 Evaluation Finish\n",
      "236: Data Load Finish, Predict Finish, 2.9945 2.9588 0.0413 0.9582 Evaluation Finish\n",
      "237: Data Load Finish, Predict Finish, 2.8467 2.8049 0.0392 0.9602 Evaluation Finish\n",
      "238: Data Load Finish, Predict Finish, 7.2076 7.1971 0.1005 0.8993 Evaluation Finish\n",
      "239: Data Load Finish, Predict Finish, 6.1371 6.1247 0.0855 0.9143 Evaluation Finish\n",
      "240: Data Load Finish, Predict Finish, 7.3728 7.3627 0.1028 0.897 Evaluation Finish\n",
      "241: Data Load Finish, Predict Finish, 8.4015 8.39 0.1172 0.8826 Evaluation Finish\n",
      "242: Data Load Finish, Predict Finish, 3.3042 3.2814 0.0458 0.9538 Evaluation Finish\n",
      "243: Data Load Finish, Predict Finish, 4.8225 4.764 0.0665 0.9326 Evaluation Finish\n",
      "244: Data Load Finish, Predict Finish, 3.8391 3.8057 0.0531 0.9464 Evaluation Finish\n",
      "245: Data Load Finish, Predict Finish, 3.6616 3.6195 0.0505 0.9488 Evaluation Finish\n",
      "246: Data Load Finish, Predict Finish, 5.7549 5.7391 0.0802 0.9196 Evaluation Finish\n",
      "247: Data Load Finish, "
     ]
    },
    {
     "name": "stderr",
     "output_type": "stream",
     "text": [
      "/home/vislab/anaconda3/envs/cctv/lib/python3.7/site-packages/statsmodels/base/model.py:606: ConvergenceWarning: Maximum Likelihood optimization failed to converge. Check mle_retvals\n",
      "  ConvergenceWarning)\n"
     ]
    },
    {
     "name": "stdout",
     "output_type": "stream",
     "text": [
      "Predict Finish, 6.9115 6.8989 0.0964 0.9034 Evaluation Finish\n",
      "248: Data Load Finish, Predict Finish, 3.0596 3.0073 0.042 0.9573 Evaluation Finish\n",
      "249: Data Load Finish, Predict Finish, 6.7902 6.7761 0.0946 0.9051 Evaluation Finish\n",
      "250: Data Load Finish, Predict Finish, 4.1637 4.123 0.0576 0.9418 Evaluation Finish\n",
      "251: Data Load Finish, Predict Finish, 7.5584 7.5447 0.1054 0.8944 Evaluation Finish\n",
      "252: Data Load Finish, Predict Finish, 7.2023 7.1919 0.1005 0.8994 Evaluation Finish\n",
      "253: Data Load Finish, Predict Finish, 0.6556 0.5392 0.0075 0.9908 Evaluation Finish\n",
      "254: Data Load Finish, Predict Finish, 7.2263 7.211 0.1007 0.899 Evaluation Finish\n",
      "255: Data Load Finish, Predict Finish, 6.8753 6.8645 0.0959 0.9039 Evaluation Finish\n",
      "256: Data Load Finish, Predict Finish, 4.3489 4.3153 0.0603 0.9392 Evaluation Finish\n",
      "257: Data Load Finish, Predict Finish, 1.047 0.9285 0.0129 0.9854 Evaluation Finish\n",
      "258: Data Load Finish, Predict Finish, 3.2836 3.2407 0.0453 0.9541 Evaluation Finish\n",
      "259: Data Load Finish, Predict Finish, 3.2618 3.2096 0.0448 0.9544 Evaluation Finish\n",
      "260: Data Load Finish, Predict Finish, 4.1205 4.1023 0.0573 0.9424 Evaluation Finish\n",
      "261: Data Load Finish, Predict Finish, 3.2435 3.206 0.0448 0.9547 Evaluation Finish\n",
      "262: Data Load Finish, Predict Finish, 3.8241 3.8014 0.0531 0.9466 Evaluation Finish\n",
      "263: Data Load Finish, Predict Finish, 4.969 4.9398 0.069 0.9306 Evaluation Finish\n",
      "264: Data Load Finish, Predict Finish, 5.6972 5.6834 0.0794 0.9204 Evaluation Finish\n",
      "265: Data Load Finish, Predict Finish, 3.1474 3.1075 0.0434 0.956 Evaluation Finish\n",
      "266: Data Load Finish, Predict Finish, 2.6932 2.6399 0.0369 0.9624 Evaluation Finish\n",
      "267: Data Load Finish, Predict Finish, 3.6584 3.634 0.0507 0.9489 Evaluation Finish\n",
      "268: Data Load Finish, Predict Finish, 5.8888 5.8404 0.0816 0.9177 Evaluation Finish\n",
      "269: Data Load Finish, Predict Finish, 5.2382 5.2193 0.0729 0.9268 Evaluation Finish\n",
      "270: Data Load Finish, Predict Finish, 4.9819 4.9584 0.0693 0.9304 Evaluation Finish\n",
      "271: Data Load Finish, Predict Finish, 4.9103 4.891 0.0683 0.9314 Evaluation Finish\n",
      "272: Data Load Finish, Predict Finish, 2.9661 2.8754 0.0402 0.9586 Evaluation Finish\n",
      "273: Data Load Finish, Predict Finish, 6.8792 6.8658 0.0959 0.9039 Evaluation Finish\n",
      "274: Data Load Finish, Predict Finish, 2.8017 2.7132 0.0379 0.9609 Evaluation Finish\n",
      "275: Data Load Finish, Predict Finish, 3.6593 3.5313 0.0493 0.9489 Evaluation Finish\n",
      "276: Data Load Finish, "
     ]
    },
    {
     "name": "stderr",
     "output_type": "stream",
     "text": [
      "/home/vislab/anaconda3/envs/cctv/lib/python3.7/site-packages/pandas/core/arraylike.py:364: RuntimeWarning: divide by zero encountered in log\n",
      "  result = getattr(ufunc, method)(*inputs, **kwargs)\n",
      "/home/vislab/anaconda3/envs/cctv/lib/python3.7/site-packages/statsmodels/base/model.py:606: ConvergenceWarning: Maximum Likelihood optimization failed to converge. Check mle_retvals\n",
      "  ConvergenceWarning)\n"
     ]
    },
    {
     "name": "stdout",
     "output_type": "stream",
     "text": [
      "Predict Finish, 70.5761 70.575 0.986 0.014 Evaluation Finish\n",
      "277: Data Load Finish, Predict Finish, 3.8263 3.7844 0.0528 0.9465 Evaluation Finish\n",
      "278: Data Load Finish, Predict Finish, 5.6085 5.5911 0.0781 0.9216 Evaluation Finish\n",
      "279: Data Load Finish, Predict Finish, 2.9055 2.8367 0.0396 0.9594 Evaluation Finish\n",
      "280: Data Load Finish, Predict Finish, 3.6922 3.6513 0.051 0.9484 Evaluation Finish\n",
      "281: Data Load Finish, Predict Finish, 2.2034 2.1415 0.0299 0.9692 Evaluation Finish\n",
      "282: Data Load Finish, Predict Finish, 8.3638 8.355 0.1167 0.8831 Evaluation Finish\n",
      "283: Data Load Finish, Predict Finish, 30.1915 30.0823 0.4203 0.5782 Evaluation Finish\n",
      "284: Data Load Finish, Predict Finish, 1.6148 1.3342 0.0186 0.9774 Evaluation Finish\n",
      "285: Data Load Finish, "
     ]
    },
    {
     "name": "stderr",
     "output_type": "stream",
     "text": [
      "/home/vislab/anaconda3/envs/cctv/lib/python3.7/site-packages/statsmodels/base/model.py:606: ConvergenceWarning: Maximum Likelihood optimization failed to converge. Check mle_retvals\n",
      "  ConvergenceWarning)\n"
     ]
    },
    {
     "name": "stdout",
     "output_type": "stream",
     "text": [
      "Predict Finish, 5.1464 5.1213 0.0715 0.9281 Evaluation Finish\n",
      "286: Data Load Finish, Predict Finish, 4.3133 4.288 0.0599 0.9397 Evaluation Finish\n",
      "287: Data Load Finish, Predict Finish, 5.0149 4.9762 0.0695 0.9299 Evaluation Finish\n",
      "288: Data Load Finish, Predict Finish, 4.5324 4.5127 0.063 0.9367 Evaluation Finish\n",
      "289: Data Load Finish, Predict Finish, 5.5136 5.4937 0.0767 0.923 Evaluation Finish\n",
      "290: Data Load Finish, Predict Finish, 3.5067 3.4717 0.0485 0.951 Evaluation Finish\n",
      "291: Data Load Finish, Predict Finish, 7.4046 7.3869 0.1032 0.8965 Evaluation Finish\n",
      "292: Data Load Finish, Predict Finish, 8.8586 8.5403 0.1193 0.8762 Evaluation Finish\n",
      "293: Data Load Finish, Predict Finish, 8.7906 8.6856 0.1213 0.8772 Evaluation Finish\n",
      "294: Data Load Finish, Predict Finish, 3.8348 3.8016 0.0531 0.9464 Evaluation Finish\n",
      "295: Data Load Finish, Predict Finish, 9.534 9.5118 0.1329 0.8668 Evaluation Finish\n",
      "296: Data Load Finish, Predict Finish, 5.6273 5.6129 0.0784 0.9214 Evaluation Finish\n",
      "297: Data Load Finish, Predict Finish, 3.9198 3.8916 0.0543 0.9452 Evaluation Finish\n",
      "298: Data Load Finish, Predict Finish, 3.9163 3.8916 0.0543 0.9453 Evaluation Finish\n",
      "299: Data Load Finish, Predict Finish, 3.6125 3.5738 0.0499 0.9495 Evaluation Finish\n",
      "300: Data Load Finish, Predict Finish, 4.371 4.3272 0.0604 0.9389 Evaluation Finish\n",
      "301: Data Load Finish, Predict Finish, 7.0346 7.0188 0.098 0.9017 Evaluation Finish\n",
      "302: Data Load Finish, Predict Finish, 4.4903 4.4341 0.0619 0.9373 Evaluation Finish\n",
      "303: Data Load Finish, Predict Finish, 4.8097 4.7562 0.0664 0.9328 Evaluation Finish\n",
      "304: Data Load Finish, Predict Finish, 4.9583 4.8925 0.0683 0.9307 Evaluation Finish\n",
      "305: Data Load Finish, Predict Finish, 8.1441 8.1265 0.1135 0.8862 Evaluation Finish\n",
      "306: Data Load Finish, Predict Finish, 3.9917 3.9683 0.0554 0.9442 Evaluation Finish\n",
      "307: Data Load Finish, Predict Finish, 4.912 4.8703 0.068 0.9314 Evaluation Finish\n",
      "308: Data Load Finish, Predict Finish, 9.6242 9.5217 0.133 0.8655 Evaluation Finish\n",
      "309: Data Load Finish, Predict Finish, 3.2238 3.1936 0.0446 0.955 Evaluation Finish\n",
      "310: Data Load Finish, Predict Finish, 6.5502 6.53 0.0912 0.9085 Evaluation Finish\n",
      "311: Data Load Finish, Predict Finish, 3.0778 3.0474 0.0426 0.957 Evaluation Finish\n",
      "312: Data Load Finish, Predict Finish, 3.7788 3.7484 0.0523 0.9472 Evaluation Finish\n",
      "313: Data Load Finish, Predict Finish, 5.6565 5.6199 0.0785 0.921 Evaluation Finish\n",
      "314: Data Load Finish, Predict Finish, 4.5171 4.4906 0.0627 0.9369 Evaluation Finish\n",
      "315: Data Load Finish, Predict Finish, 6.4907 6.4787 0.0905 0.9093 Evaluation Finish\n",
      "316: Data Load Finish, Predict Finish, 4.8143 4.7919 0.0669 0.9327 Evaluation Finish\n",
      "317: Data Load Finish, Predict Finish, 7.6797 7.6702 0.1071 0.8927 Evaluation Finish\n",
      "318: Data Load Finish, "
     ]
    },
    {
     "name": "stderr",
     "output_type": "stream",
     "text": [
      "/home/vislab/anaconda3/envs/cctv/lib/python3.7/site-packages/statsmodels/base/model.py:606: ConvergenceWarning: Maximum Likelihood optimization failed to converge. Check mle_retvals\n",
      "  ConvergenceWarning)\n"
     ]
    },
    {
     "name": "stdout",
     "output_type": "stream",
     "text": [
      "Predict Finish, 11.7726 11.7659 0.1644 0.8355 Evaluation Finish\n",
      "319: Data Load Finish, Predict Finish, 3.1735 3.1343 0.0438 0.9557 Evaluation Finish\n",
      "320: Data Load Finish, Predict Finish, 7.5939 7.5777 0.1058 0.8939 Evaluation Finish\n",
      "321: Data Load Finish, Predict Finish, 1.6813 1.6152 0.0225 0.9765 Evaluation Finish\n",
      "322: Data Load Finish, Predict Finish, 3.124 3.0803 0.043 0.9564 Evaluation Finish\n",
      "323: Data Load Finish, Predict Finish, 1.2191 1.0905 0.0152 0.983 Evaluation Finish\n",
      "324: Data Load Finish, Predict Finish, 4.3122 4.2807 0.0598 0.9398 Evaluation Finish\n",
      "RMSE: 8.362190659155244, MAE: 8.322999852785797, MAPE: 0.11626188473939356\n",
      "ACC: 0.8831705283933766\n"
     ]
    }
   ],
   "source": [
    "predictARIMA(df, idx, 12)"
   ]
  },
  {
   "cell_type": "markdown",
   "id": "dcb35d64",
   "metadata": {},
   "source": [
    "### Unobserved Nodes = 10%"
   ]
  },
  {
   "cell_type": "code",
   "execution_count": 12,
   "id": "83ad788d",
   "metadata": {},
   "outputs": [
    {
     "name": "stdout",
     "output_type": "stream",
     "text": [
      "52116 325\n"
     ]
    },
    {
     "data": {
      "text/plain": [
       "1667712"
      ]
     },
     "execution_count": 12,
     "metadata": {},
     "output_type": "execute_result"
    }
   ],
   "source": [
    "df, idx = csvIndexToDatetime(path_10, start, freq)\n",
    "(df == 0).sum().sum()"
   ]
  },
  {
   "cell_type": "code",
   "execution_count": 13,
   "id": "010ff399",
   "metadata": {
    "scrolled": false
   },
   "outputs": [
    {
     "name": "stdout",
     "output_type": "stream",
     "text": [
      "0: Data Load Finish, "
     ]
    },
    {
     "name": "stderr",
     "output_type": "stream",
     "text": [
      "/home/vislab/anaconda3/envs/cctv/lib/python3.7/site-packages/pandas/core/arraylike.py:364: RuntimeWarning: divide by zero encountered in log\n",
      "  result = getattr(ufunc, method)(*inputs, **kwargs)\n",
      "/home/vislab/anaconda3/envs/cctv/lib/python3.7/site-packages/statsmodels/base/model.py:606: ConvergenceWarning: Maximum Likelihood optimization failed to converge. Check mle_retvals\n",
      "  ConvergenceWarning)\n"
     ]
    },
    {
     "name": "stdout",
     "output_type": "stream",
     "text": [
      "Predict Finish, 70.5761 70.575 0.986 0.014 Evaluation Finish\n",
      "1: Data Load Finish, Predict Finish, 6.006 5.9914 0.0837 0.9161 Evaluation Finish\n",
      "2: Data Load Finish, Predict Finish, 6.4662 6.4196 0.0897 0.9097 Evaluation Finish\n",
      "3: Data Load Finish, Predict Finish, 9.0809 9.0727 0.1267 0.8731 Evaluation Finish\n",
      "4: Data Load Finish, Predict Finish, 9.1863 9.1777 0.1282 0.8717 Evaluation Finish\n",
      "5: Data Load Finish, "
     ]
    },
    {
     "name": "stderr",
     "output_type": "stream",
     "text": [
      "/home/vislab/anaconda3/envs/cctv/lib/python3.7/site-packages/pandas/core/arraylike.py:364: RuntimeWarning: divide by zero encountered in log\n",
      "  result = getattr(ufunc, method)(*inputs, **kwargs)\n",
      "/home/vislab/anaconda3/envs/cctv/lib/python3.7/site-packages/statsmodels/base/model.py:606: ConvergenceWarning: Maximum Likelihood optimization failed to converge. Check mle_retvals\n",
      "  ConvergenceWarning)\n"
     ]
    },
    {
     "name": "stdout",
     "output_type": "stream",
     "text": [
      "Predict Finish, 70.5761 70.575 0.986 0.014 Evaluation Finish\n",
      "6: Data Load Finish, Predict Finish, 4.5766 4.4876 0.0627 0.9361 Evaluation Finish\n",
      "7: Data Load Finish, Predict Finish, 3.678 3.6422 0.0509 0.9486 Evaluation Finish\n",
      "8: Data Load Finish, Predict Finish, 8.2171 8.2073 0.1146 0.8852 Evaluation Finish\n",
      "9: Data Load Finish, Predict Finish, 4.0186 3.9939 0.0558 0.9439 Evaluation Finish\n",
      "10: Data Load Finish, Predict Finish, 5.2609 5.2434 0.0732 0.9265 Evaluation Finish\n",
      "11: Data Load Finish, Predict Finish, 3.3741 3.3292 0.0465 0.9529 Evaluation Finish\n",
      "12: Data Load Finish, Predict Finish, 4.1617 4.1231 0.0576 0.9419 Evaluation Finish\n",
      "13: Data Load Finish, "
     ]
    },
    {
     "name": "stderr",
     "output_type": "stream",
     "text": [
      "/home/vislab/anaconda3/envs/cctv/lib/python3.7/site-packages/pandas/core/arraylike.py:364: RuntimeWarning: divide by zero encountered in log\n",
      "  result = getattr(ufunc, method)(*inputs, **kwargs)\n",
      "/home/vislab/anaconda3/envs/cctv/lib/python3.7/site-packages/statsmodels/base/model.py:606: ConvergenceWarning: Maximum Likelihood optimization failed to converge. Check mle_retvals\n",
      "  ConvergenceWarning)\n"
     ]
    },
    {
     "name": "stdout",
     "output_type": "stream",
     "text": [
      "Predict Finish, 70.5761 70.575 0.986 0.014 Evaluation Finish\n",
      "14: Data Load Finish, Predict Finish, 3.845 3.8195 0.0533 0.9463 Evaluation Finish\n",
      "15: Data Load Finish, Predict Finish, 3.9971 3.9667 0.0554 0.9442 Evaluation Finish\n",
      "16: Data Load Finish, Predict Finish, 5.0221 5.0065 0.0699 0.9298 Evaluation Finish\n",
      "17: Data Load Finish, Predict Finish, 5.3073 5.2769 0.0737 0.9259 Evaluation Finish\n",
      "18: Data Load Finish, Predict Finish, 3.6009 3.5805 0.05 0.9497 Evaluation Finish\n",
      "19: Data Load Finish, Predict Finish, 5.6577 5.6149 0.0784 0.921 Evaluation Finish\n",
      "20: Data Load Finish, Predict Finish, 3.4639 3.4158 0.0477 0.9516 Evaluation Finish\n",
      "21: Data Load Finish, Predict Finish, 5.2161 5.1854 0.0724 0.9271 Evaluation Finish\n",
      "22: Data Load Finish, Predict Finish, 3.9097 3.8835 0.0542 0.9454 Evaluation Finish\n",
      "23: Data Load Finish, Predict Finish, 6.0967 6.0638 0.0847 0.9148 Evaluation Finish\n",
      "24: Data Load Finish, Predict Finish, 3.325 3.2983 0.0461 0.9535 Evaluation Finish\n",
      "25: Data Load Finish, "
     ]
    },
    {
     "name": "stderr",
     "output_type": "stream",
     "text": [
      "/home/vislab/anaconda3/envs/cctv/lib/python3.7/site-packages/pandas/core/arraylike.py:364: RuntimeWarning: divide by zero encountered in log\n",
      "  result = getattr(ufunc, method)(*inputs, **kwargs)\n",
      "/home/vislab/anaconda3/envs/cctv/lib/python3.7/site-packages/statsmodels/base/model.py:606: ConvergenceWarning: Maximum Likelihood optimization failed to converge. Check mle_retvals\n",
      "  ConvergenceWarning)\n"
     ]
    },
    {
     "name": "stdout",
     "output_type": "stream",
     "text": [
      "Predict Finish, 70.5761 70.575 0.986 0.014 Evaluation Finish\n",
      "26: Data Load Finish, Predict Finish, 2.7974 2.7537 0.0384 0.9609 Evaluation Finish\n",
      "27: Data Load Finish, Predict Finish, 3.8867 3.867 0.054 0.9457 Evaluation Finish\n",
      "28: Data Load Finish, Predict Finish, 5.6396 5.6194 0.0785 0.9212 Evaluation Finish\n",
      "29: Data Load Finish, Predict Finish, 11.4067 11.3988 0.1592 0.8406 Evaluation Finish\n",
      "30: Data Load Finish, Predict Finish, 4.1995 4.1755 0.0583 0.9413 Evaluation Finish\n",
      "31: Data Load Finish, Predict Finish, 6.1068 6.0944 0.0851 0.9147 Evaluation Finish\n",
      "32: Data Load Finish, Predict Finish, 4.5765 4.5558 0.0636 0.9361 Evaluation Finish\n",
      "33: Data Load Finish, Predict Finish, 9.6873 9.6766 0.1352 0.8647 Evaluation Finish\n",
      "34: Data Load Finish, Predict Finish, 4.8962 4.8658 0.068 0.9316 Evaluation Finish\n",
      "35: Data Load Finish, Predict Finish, 4.2667 4.1838 0.0584 0.9404 Evaluation Finish\n",
      "36: Data Load Finish, Predict Finish, 0.8315 0.711 0.0099 0.9884 Evaluation Finish\n",
      "37: Data Load Finish, Predict Finish, 4.3202 4.2947 0.06 0.9396 Evaluation Finish\n",
      "38: Data Load Finish, Predict Finish, 8.0927 8.076 0.1128 0.8869 Evaluation Finish\n",
      "39: Data Load Finish, Predict Finish, 5.3457 5.3227 0.0743 0.9253 Evaluation Finish\n",
      "40: Data Load Finish, Predict Finish, 3.8189 3.7865 0.0529 0.9466 Evaluation Finish\n",
      "41: Data Load Finish, Predict Finish, 5.3803 5.3521 0.0748 0.9248 Evaluation Finish\n",
      "42: Data Load Finish, Predict Finish, 4.826 4.7884 0.0669 0.9326 Evaluation Finish\n",
      "43: Data Load Finish, Predict Finish, 5.0381 4.9635 0.0693 0.9296 Evaluation Finish\n",
      "44: Data Load Finish, Predict Finish, 3.9494 3.9215 0.0548 0.9448 Evaluation Finish\n",
      "45: Data Load Finish, Predict Finish, 4.1176 4.0691 0.0568 0.9425 Evaluation Finish\n",
      "46: Data Load Finish, Predict Finish, 10.0923 10.0841 0.1409 0.859 Evaluation Finish\n",
      "47: Data Load Finish, Predict Finish, 3.2347 3.1925 0.0446 0.9548 Evaluation Finish\n",
      "48: Data Load Finish, Predict Finish, 4.0375 4.0014 0.0559 0.9436 Evaluation Finish\n",
      "49: Data Load Finish, Predict Finish, 4.7645 4.7428 0.0662 0.9334 Evaluation Finish\n",
      "50: Data Load Finish, Predict Finish, 7.7606 7.751 0.1083 0.8916 Evaluation Finish\n",
      "51: Data Load Finish, Predict Finish, 3.2997 3.2634 0.0456 0.9539 Evaluation Finish\n",
      "52: Data Load Finish, Predict Finish, 3.1185 3.0903 0.0431 0.9564 Evaluation Finish\n",
      "53: Data Load Finish, "
     ]
    },
    {
     "name": "stderr",
     "output_type": "stream",
     "text": [
      "/home/vislab/anaconda3/envs/cctv/lib/python3.7/site-packages/pandas/core/arraylike.py:364: RuntimeWarning: divide by zero encountered in log\n",
      "  result = getattr(ufunc, method)(*inputs, **kwargs)\n",
      "/home/vislab/anaconda3/envs/cctv/lib/python3.7/site-packages/statsmodels/base/model.py:606: ConvergenceWarning: Maximum Likelihood optimization failed to converge. Check mle_retvals\n",
      "  ConvergenceWarning)\n"
     ]
    },
    {
     "name": "stdout",
     "output_type": "stream",
     "text": [
      "Predict Finish, 70.5761 70.575 0.986 0.014 Evaluation Finish\n",
      "54: Data Load Finish, Predict Finish, 3.8296 3.7926 0.053 0.9465 Evaluation Finish\n",
      "55: Data Load Finish, "
     ]
    },
    {
     "name": "stderr",
     "output_type": "stream",
     "text": [
      "/home/vislab/anaconda3/envs/cctv/lib/python3.7/site-packages/pandas/core/arraylike.py:364: RuntimeWarning: divide by zero encountered in log\n",
      "  result = getattr(ufunc, method)(*inputs, **kwargs)\n",
      "/home/vislab/anaconda3/envs/cctv/lib/python3.7/site-packages/statsmodels/base/model.py:606: ConvergenceWarning: Maximum Likelihood optimization failed to converge. Check mle_retvals\n",
      "  ConvergenceWarning)\n"
     ]
    },
    {
     "name": "stdout",
     "output_type": "stream",
     "text": [
      "Predict Finish, 70.5761 70.575 0.986 0.014 Evaluation Finish\n",
      "56: Data Load Finish, Predict Finish, 0.4529 0.3258 0.0045 0.9937 Evaluation Finish\n",
      "57: Data Load Finish, "
     ]
    },
    {
     "name": "stderr",
     "output_type": "stream",
     "text": [
      "/home/vislab/anaconda3/envs/cctv/lib/python3.7/site-packages/pandas/core/arraylike.py:364: RuntimeWarning: divide by zero encountered in log\n",
      "  result = getattr(ufunc, method)(*inputs, **kwargs)\n",
      "/home/vislab/anaconda3/envs/cctv/lib/python3.7/site-packages/statsmodels/base/model.py:606: ConvergenceWarning: Maximum Likelihood optimization failed to converge. Check mle_retvals\n",
      "  ConvergenceWarning)\n"
     ]
    },
    {
     "name": "stdout",
     "output_type": "stream",
     "text": [
      "Predict Finish, 70.5761 70.575 0.986 0.014 Evaluation Finish\n",
      "58: Data Load Finish, "
     ]
    },
    {
     "name": "stderr",
     "output_type": "stream",
     "text": [
      "/home/vislab/anaconda3/envs/cctv/lib/python3.7/site-packages/pandas/core/arraylike.py:364: RuntimeWarning: divide by zero encountered in log\n",
      "  result = getattr(ufunc, method)(*inputs, **kwargs)\n",
      "/home/vislab/anaconda3/envs/cctv/lib/python3.7/site-packages/statsmodels/base/model.py:606: ConvergenceWarning: Maximum Likelihood optimization failed to converge. Check mle_retvals\n",
      "  ConvergenceWarning)\n"
     ]
    },
    {
     "name": "stdout",
     "output_type": "stream",
     "text": [
      "Predict Finish, 70.5761 70.575 0.986 0.014 Evaluation Finish\n",
      "59: Data Load Finish, "
     ]
    },
    {
     "name": "stderr",
     "output_type": "stream",
     "text": [
      "/home/vislab/anaconda3/envs/cctv/lib/python3.7/site-packages/pandas/core/arraylike.py:364: RuntimeWarning: divide by zero encountered in log\n",
      "  result = getattr(ufunc, method)(*inputs, **kwargs)\n",
      "/home/vislab/anaconda3/envs/cctv/lib/python3.7/site-packages/statsmodels/base/model.py:606: ConvergenceWarning: Maximum Likelihood optimization failed to converge. Check mle_retvals\n",
      "  ConvergenceWarning)\n"
     ]
    },
    {
     "name": "stdout",
     "output_type": "stream",
     "text": [
      "Predict Finish, 70.5761 70.575 0.986 0.014 Evaluation Finish\n",
      "60: Data Load Finish, Predict Finish, 4.5304 4.5022 0.0629 0.9367 Evaluation Finish\n",
      "61: Data Load Finish, "
     ]
    },
    {
     "name": "stderr",
     "output_type": "stream",
     "text": [
      "/home/vislab/anaconda3/envs/cctv/lib/python3.7/site-packages/pandas/core/arraylike.py:364: RuntimeWarning: divide by zero encountered in log\n",
      "  result = getattr(ufunc, method)(*inputs, **kwargs)\n",
      "/home/vislab/anaconda3/envs/cctv/lib/python3.7/site-packages/statsmodels/base/model.py:606: ConvergenceWarning: Maximum Likelihood optimization failed to converge. Check mle_retvals\n",
      "  ConvergenceWarning)\n"
     ]
    },
    {
     "name": "stdout",
     "output_type": "stream",
     "text": [
      "Predict Finish, 70.5761 70.575 0.986 0.014 Evaluation Finish\n",
      "62: Data Load Finish, Predict Finish, 4.2849 4.2595 0.0595 0.9401 Evaluation Finish\n",
      "63: Data Load Finish, Predict Finish, 6.1957 6.1772 0.0863 0.9134 Evaluation Finish\n",
      "64: Data Load Finish, Predict Finish, 6.1462 6.1226 0.0855 0.9141 Evaluation Finish\n",
      "65: Data Load Finish, Predict Finish, 3.6076 3.3626 0.047 0.9496 Evaluation Finish\n",
      "66: Data Load Finish, Predict Finish, 8.2805 8.2564 0.1153 0.8843 Evaluation Finish\n",
      "67: Data Load Finish, Predict Finish, 8.4713 8.4613 0.1182 0.8816 Evaluation Finish\n",
      "68: Data Load Finish, Predict Finish, 5.4446 5.4102 0.0756 0.9239 Evaluation Finish\n",
      "69: Data Load Finish, Predict Finish, 7.1852 7.1742 0.1002 0.8996 Evaluation Finish\n",
      "70: Data Load Finish, Predict Finish, 4.2669 4.2473 0.0593 0.9404 Evaluation Finish\n",
      "71: Data Load Finish, Predict Finish, 7.9982 7.9883 0.1116 0.8883 Evaluation Finish\n",
      "72: Data Load Finish, Predict Finish, 5.7964 5.766 0.0805 0.919 Evaluation Finish\n",
      "73: Data Load Finish, Predict Finish, 4.3688 4.3146 0.0603 0.939 Evaluation Finish\n",
      "74: Data Load Finish, Predict Finish, 9.0995 9.0851 0.1269 0.8729 Evaluation Finish\n",
      "75: Data Load Finish, Predict Finish, 3.0104 2.97 0.0415 0.9579 Evaluation Finish\n",
      "76: Data Load Finish, Predict Finish, 3.3412 3.2749 0.0457 0.9533 Evaluation Finish\n",
      "77: Data Load Finish, Predict Finish, 4.1813 4.1531 0.058 0.9416 Evaluation Finish\n",
      "78: Data Load Finish, Predict Finish, 2.9736 2.9353 0.041 0.9585 Evaluation Finish\n",
      "79: Data Load Finish, Predict Finish, 2.8967 2.8597 0.0399 0.9595 Evaluation Finish\n",
      "80: Data Load Finish, Predict Finish, 5.6626 5.6104 0.0784 0.9209 Evaluation Finish\n",
      "81: Data Load Finish, Predict Finish, 3.6487 3.613 0.0505 0.949 Evaluation Finish\n",
      "82: Data Load Finish, Predict Finish, 2.8653 2.8244 0.0394 0.96 Evaluation Finish\n",
      "83: Data Load Finish, Predict Finish, 6.2508 6.1668 0.0861 0.9127 Evaluation Finish\n",
      "84: Data Load Finish, Predict Finish, 2.9444 2.8813 0.0402 0.9589 Evaluation Finish\n",
      "85: Data Load Finish, Predict Finish, 7.9455 7.9358 0.1108 0.889 Evaluation Finish\n",
      "86: Data Load Finish, Predict Finish, 6.8171 6.8047 0.095 0.9048 Evaluation Finish\n",
      "87: Data Load Finish, Predict Finish, 3.8381 3.7952 0.053 0.9464 Evaluation Finish\n",
      "88: Data Load Finish, Predict Finish, 8.3698 8.3513 0.1167 0.8831 Evaluation Finish\n",
      "89: Data Load Finish, Predict Finish, 3.7865 3.7588 0.0525 0.9471 Evaluation Finish\n",
      "90: Data Load Finish, "
     ]
    },
    {
     "name": "stderr",
     "output_type": "stream",
     "text": [
      "/home/vislab/anaconda3/envs/cctv/lib/python3.7/site-packages/pandas/core/arraylike.py:364: RuntimeWarning: divide by zero encountered in log\n",
      "  result = getattr(ufunc, method)(*inputs, **kwargs)\n",
      "/home/vislab/anaconda3/envs/cctv/lib/python3.7/site-packages/statsmodels/base/model.py:606: ConvergenceWarning: Maximum Likelihood optimization failed to converge. Check mle_retvals\n",
      "  ConvergenceWarning)\n"
     ]
    },
    {
     "name": "stdout",
     "output_type": "stream",
     "text": [
      "Predict Finish, 70.5761 70.575 0.986 0.014 Evaluation Finish\n",
      "91: Data Load Finish, Predict Finish, 13.7137 13.7071 0.1915 0.8084 Evaluation Finish\n",
      "92: Data Load Finish, Predict Finish, 3.0329 3.0044 0.042 0.9576 Evaluation Finish\n",
      "93: Data Load Finish, Predict Finish, 2.7871 2.701 0.0377 0.9611 Evaluation Finish\n",
      "94: Data Load Finish, "
     ]
    },
    {
     "name": "stderr",
     "output_type": "stream",
     "text": [
      "/home/vislab/anaconda3/envs/cctv/lib/python3.7/site-packages/pandas/core/arraylike.py:364: RuntimeWarning: divide by zero encountered in log\n",
      "  result = getattr(ufunc, method)(*inputs, **kwargs)\n",
      "/home/vislab/anaconda3/envs/cctv/lib/python3.7/site-packages/statsmodels/base/model.py:606: ConvergenceWarning: Maximum Likelihood optimization failed to converge. Check mle_retvals\n",
      "  ConvergenceWarning)\n"
     ]
    },
    {
     "name": "stdout",
     "output_type": "stream",
     "text": [
      "Predict Finish, 70.5761 70.575 0.986 0.014 Evaluation Finish\n",
      "95: Data Load Finish, Predict Finish, 5.4156 5.3996 0.0754 0.9243 Evaluation Finish\n",
      "96: Data Load Finish, Predict Finish, 10.2455 10.2379 0.143 0.8569 Evaluation Finish\n",
      "97: Data Load Finish, Predict Finish, 3.3899 3.3257 0.0464 0.9526 Evaluation Finish\n",
      "98: Data Load Finish, Predict Finish, 9.9688 9.9613 0.1391 0.8607 Evaluation Finish\n",
      "99: Data Load Finish, Predict Finish, 2.0086 1.9226 0.0268 0.9719 Evaluation Finish\n",
      "100: Data Load Finish, Predict Finish, 5.5006 5.4491 0.0761 0.9232 Evaluation Finish\n",
      "101: Data Load Finish, Predict Finish, 5.4053 5.3853 0.0752 0.9245 Evaluation Finish\n",
      "102: Data Load Finish, Predict Finish, 2.059 1.9394 0.0271 0.9712 Evaluation Finish\n",
      "103: Data Load Finish, Predict Finish, 3.1891 3.1521 0.044 0.9554 Evaluation Finish\n",
      "104: Data Load Finish, Predict Finish, 8.3921 8.3121 0.1161 0.8828 Evaluation Finish\n",
      "105: Data Load Finish, Predict Finish, 3.2372 3.2095 0.0448 0.9548 Evaluation Finish\n",
      "106: Data Load Finish, Predict Finish, 4.7962 4.7674 0.0666 0.933 Evaluation Finish\n",
      "107: Data Load Finish, Predict Finish, 1.7927 1.7346 0.0242 0.975 Evaluation Finish\n",
      "108: Data Load Finish, Predict Finish, 3.3153 3.2824 0.0458 0.9537 Evaluation Finish\n",
      "109: Data Load Finish, Predict Finish, 0.7199 0.5841 0.0082 0.9899 Evaluation Finish\n",
      "110: Data Load Finish, Predict Finish, 4.5292 4.5053 0.0629 0.9367 Evaluation Finish\n",
      "111: Data Load Finish, Predict Finish, 3.4971 3.4756 0.0485 0.9511 Evaluation Finish\n",
      "112: Data Load Finish, Predict Finish, 3.5963 3.5666 0.0498 0.9498 Evaluation Finish\n",
      "113: Data Load Finish, Predict Finish, 5.3546 5.3353 0.0745 0.9252 Evaluation Finish\n",
      "114: Data Load Finish, Predict Finish, 4.0656 4.0367 0.0564 0.9432 Evaluation Finish\n",
      "115: Data Load Finish, Predict Finish, 10.3044 10.2973 0.1438 0.856 Evaluation Finish\n",
      "116: Data Load Finish, Predict Finish, 8.3729 8.3604 0.1168 0.883 Evaluation Finish\n",
      "117: Data Load Finish, "
     ]
    },
    {
     "name": "stderr",
     "output_type": "stream",
     "text": [
      "/home/vislab/anaconda3/envs/cctv/lib/python3.7/site-packages/statsmodels/base/model.py:606: ConvergenceWarning: Maximum Likelihood optimization failed to converge. Check mle_retvals\n",
      "  ConvergenceWarning)\n"
     ]
    },
    {
     "name": "stdout",
     "output_type": "stream",
     "text": [
      "Predict Finish, 4.1616 4.1439 0.0579 0.9419 Evaluation Finish\n",
      "118: Data Load Finish, Predict Finish, 2.9701 2.9199 0.0408 0.9585 Evaluation Finish\n",
      "119: Data Load Finish, Predict Finish, 3.8248 3.7995 0.0531 0.9466 Evaluation Finish\n",
      "120: Data Load Finish, Predict Finish, 4.8661 4.8421 0.0676 0.932 Evaluation Finish\n",
      "121: Data Load Finish, Predict Finish, 3.3087 3.271 0.0457 0.9538 Evaluation Finish\n",
      "122: Data Load Finish, Predict Finish, 2.5844 2.5205 0.0352 0.9639 Evaluation Finish\n",
      "123: Data Load Finish, Predict Finish, 5.7571 5.7436 0.0802 0.9196 Evaluation Finish\n",
      "124: Data Load Finish, Predict Finish, 3.0138 2.9848 0.0417 0.9579 Evaluation Finish\n",
      "125: Data Load Finish, Predict Finish, 6.1052 6.0932 0.0851 0.9147 Evaluation Finish\n",
      "126: Data Load Finish, Predict Finish, 6.6518 6.6364 0.0927 0.9071 Evaluation Finish\n",
      "127: Data Load Finish, Predict Finish, 7.6519 7.641 0.1067 0.8931 Evaluation Finish\n",
      "128: Data Load Finish, Predict Finish, 4.9628 4.9329 0.0689 0.9307 Evaluation Finish\n",
      "129: Data Load Finish, Predict Finish, 4.16 4.1355 0.0578 0.9419 Evaluation Finish\n",
      "130: Data Load Finish, Predict Finish, 3.8786 3.8254 0.0534 0.9458 Evaluation Finish\n",
      "131: Data Load Finish, Predict Finish, 5.0782 5.0614 0.0707 0.9291 Evaluation Finish\n",
      "132: Data Load Finish, "
     ]
    },
    {
     "name": "stderr",
     "output_type": "stream",
     "text": [
      "/home/vislab/anaconda3/envs/cctv/lib/python3.7/site-packages/pandas/core/arraylike.py:364: RuntimeWarning: divide by zero encountered in log\n",
      "  result = getattr(ufunc, method)(*inputs, **kwargs)\n",
      "/home/vislab/anaconda3/envs/cctv/lib/python3.7/site-packages/statsmodels/base/model.py:606: ConvergenceWarning: Maximum Likelihood optimization failed to converge. Check mle_retvals\n",
      "  ConvergenceWarning)\n"
     ]
    },
    {
     "name": "stdout",
     "output_type": "stream",
     "text": [
      "Predict Finish, 70.5761 70.575 0.986 0.014 Evaluation Finish\n",
      "133: Data Load Finish, Predict Finish, 9.5009 9.4475 0.132 0.8673 Evaluation Finish\n",
      "134: Data Load Finish, Predict Finish, 8.7284 8.6782 0.1212 0.8781 Evaluation Finish\n",
      "135: Data Load Finish, Predict Finish, 8.0899 8.0765 0.1128 0.887 Evaluation Finish\n",
      "136: Data Load Finish, Predict Finish, 0.5206 0.394 0.0055 0.9927 Evaluation Finish\n",
      "137: Data Load Finish, Predict Finish, 4.3609 4.3398 0.0606 0.9391 Evaluation Finish\n",
      "138: Data Load Finish, "
     ]
    },
    {
     "name": "stderr",
     "output_type": "stream",
     "text": [
      "/home/vislab/anaconda3/envs/cctv/lib/python3.7/site-packages/pandas/core/arraylike.py:364: RuntimeWarning: divide by zero encountered in log\n",
      "  result = getattr(ufunc, method)(*inputs, **kwargs)\n",
      "/home/vislab/anaconda3/envs/cctv/lib/python3.7/site-packages/statsmodels/base/model.py:606: ConvergenceWarning: Maximum Likelihood optimization failed to converge. Check mle_retvals\n",
      "  ConvergenceWarning)\n"
     ]
    },
    {
     "name": "stdout",
     "output_type": "stream",
     "text": [
      "Predict Finish, 70.5761 70.575 0.986 0.014 Evaluation Finish\n",
      "139: Data Load Finish, "
     ]
    },
    {
     "name": "stderr",
     "output_type": "stream",
     "text": [
      "/home/vislab/anaconda3/envs/cctv/lib/python3.7/site-packages/pandas/core/arraylike.py:364: RuntimeWarning: divide by zero encountered in log\n",
      "  result = getattr(ufunc, method)(*inputs, **kwargs)\n",
      "/home/vislab/anaconda3/envs/cctv/lib/python3.7/site-packages/statsmodels/base/model.py:606: ConvergenceWarning: Maximum Likelihood optimization failed to converge. Check mle_retvals\n",
      "  ConvergenceWarning)\n"
     ]
    },
    {
     "name": "stdout",
     "output_type": "stream",
     "text": [
      "Predict Finish, 70.5761 70.575 0.986 0.014 Evaluation Finish\n",
      "140: Data Load Finish, Predict Finish, 5.2515 5.2348 0.0731 0.9266 Evaluation Finish\n",
      "141: Data Load Finish, Predict Finish, 0.7581 0.6489 0.0091 0.9894 Evaluation Finish\n",
      "142: Data Load Finish, Predict Finish, 1.0511 0.9342 0.013 0.9853 Evaluation Finish\n",
      "143: Data Load Finish, Predict Finish, 4.1142 4.0931 0.0572 0.9425 Evaluation Finish\n",
      "144: Data Load Finish, Predict Finish, 4.5402 4.5083 0.063 0.9366 Evaluation Finish\n",
      "145: Data Load Finish, Predict Finish, 5.9721 5.9578 0.0832 0.9166 Evaluation Finish\n",
      "146: Data Load Finish, Predict Finish, 14.7672 14.3132 0.1999 0.7937 Evaluation Finish\n",
      "147: Data Load Finish, Predict Finish, 6.9577 6.9457 0.097 0.9028 Evaluation Finish\n",
      "148: Data Load Finish, Predict Finish, 4.1616 4.144 0.0579 0.9419 Evaluation Finish\n",
      "149: Data Load Finish, "
     ]
    },
    {
     "name": "stderr",
     "output_type": "stream",
     "text": [
      "/home/vislab/anaconda3/envs/cctv/lib/python3.7/site-packages/pandas/core/arraylike.py:364: RuntimeWarning: divide by zero encountered in log\n",
      "  result = getattr(ufunc, method)(*inputs, **kwargs)\n",
      "/home/vislab/anaconda3/envs/cctv/lib/python3.7/site-packages/statsmodels/base/model.py:606: ConvergenceWarning: Maximum Likelihood optimization failed to converge. Check mle_retvals\n",
      "  ConvergenceWarning)\n"
     ]
    },
    {
     "name": "stdout",
     "output_type": "stream",
     "text": [
      "Predict Finish, 70.5761 70.575 0.986 0.014 Evaluation Finish\n",
      "150: Data Load Finish, "
     ]
    },
    {
     "name": "stderr",
     "output_type": "stream",
     "text": [
      "/home/vislab/anaconda3/envs/cctv/lib/python3.7/site-packages/pandas/core/arraylike.py:364: RuntimeWarning: divide by zero encountered in log\n",
      "  result = getattr(ufunc, method)(*inputs, **kwargs)\n",
      "/home/vislab/anaconda3/envs/cctv/lib/python3.7/site-packages/statsmodels/base/model.py:606: ConvergenceWarning: Maximum Likelihood optimization failed to converge. Check mle_retvals\n",
      "  ConvergenceWarning)\n"
     ]
    },
    {
     "name": "stdout",
     "output_type": "stream",
     "text": [
      "Predict Finish, 70.5761 70.575 0.986 0.014 Evaluation Finish\n",
      "151: Data Load Finish, "
     ]
    },
    {
     "name": "stderr",
     "output_type": "stream",
     "text": [
      "/home/vislab/anaconda3/envs/cctv/lib/python3.7/site-packages/statsmodels/base/model.py:606: ConvergenceWarning: Maximum Likelihood optimization failed to converge. Check mle_retvals\n",
      "  ConvergenceWarning)\n"
     ]
    },
    {
     "name": "stdout",
     "output_type": "stream",
     "text": [
      "Predict Finish, 6.3191 6.294 0.0879 0.9117 Evaluation Finish\n",
      "152: Data Load Finish, "
     ]
    },
    {
     "name": "stderr",
     "output_type": "stream",
     "text": [
      "/home/vislab/anaconda3/envs/cctv/lib/python3.7/site-packages/pandas/core/arraylike.py:364: RuntimeWarning: divide by zero encountered in log\n",
      "  result = getattr(ufunc, method)(*inputs, **kwargs)\n",
      "/home/vislab/anaconda3/envs/cctv/lib/python3.7/site-packages/statsmodels/base/model.py:606: ConvergenceWarning: Maximum Likelihood optimization failed to converge. Check mle_retvals\n",
      "  ConvergenceWarning)\n"
     ]
    },
    {
     "name": "stdout",
     "output_type": "stream",
     "text": [
      "Predict Finish, 70.5761 70.575 0.986 0.014 Evaluation Finish\n",
      "153: Data Load Finish, Predict Finish, 2.8594 2.8098 0.0392 0.9601 Evaluation Finish\n",
      "154: Data Load Finish, Predict Finish, 3.4743 3.4477 0.0481 0.9515 Evaluation Finish\n",
      "155: Data Load Finish, Predict Finish, 7.6251 7.6154 0.1064 0.8935 Evaluation Finish\n",
      "156: Data Load Finish, Predict Finish, 2.9829 2.9567 0.0413 0.9583 Evaluation Finish\n",
      "157: Data Load Finish, Predict Finish, 4.5081 4.4815 0.0626 0.937 Evaluation Finish\n",
      "158: Data Load Finish, Predict Finish, 4.5136 4.4398 0.062 0.9369 Evaluation Finish\n",
      "159: Data Load Finish, Predict Finish, 9.5873 9.572 0.1337 0.8661 Evaluation Finish\n",
      "160: Data Load Finish, "
     ]
    },
    {
     "name": "stderr",
     "output_type": "stream",
     "text": [
      "/home/vislab/anaconda3/envs/cctv/lib/python3.7/site-packages/pandas/core/arraylike.py:364: RuntimeWarning: divide by zero encountered in log\n",
      "  result = getattr(ufunc, method)(*inputs, **kwargs)\n",
      "/home/vislab/anaconda3/envs/cctv/lib/python3.7/site-packages/statsmodels/base/model.py:606: ConvergenceWarning: Maximum Likelihood optimization failed to converge. Check mle_retvals\n",
      "  ConvergenceWarning)\n"
     ]
    },
    {
     "name": "stdout",
     "output_type": "stream",
     "text": [
      "Predict Finish, 70.5761 70.575 0.986 0.014 Evaluation Finish\n",
      "161: Data Load Finish, Predict Finish, 7.7917 7.7806 0.1087 0.8911 Evaluation Finish\n",
      "162: Data Load Finish, Predict Finish, 8.9361 8.9247 0.1247 0.8752 Evaluation Finish\n",
      "163: Data Load Finish, Predict Finish, 4.3865 4.3467 0.0607 0.9387 Evaluation Finish\n",
      "164: Data Load Finish, Predict Finish, 2.9454 2.8884 0.0403 0.9588 Evaluation Finish\n",
      "165: Data Load Finish, Predict Finish, 0.6778 0.5685 0.008 0.9905 Evaluation Finish\n",
      "166: Data Load Finish, Predict Finish, 4.3184 4.2931 0.06 0.9397 Evaluation Finish\n",
      "167: Data Load Finish, Predict Finish, 7.529 7.5158 0.105 0.8948 Evaluation Finish\n",
      "168: Data Load Finish, Predict Finish, 1.7153 1.5486 0.0216 0.976 Evaluation Finish\n",
      "169: Data Load Finish, Predict Finish, 1.9835 1.772 0.0247 0.9723 Evaluation Finish\n",
      "170: Data Load Finish, Predict Finish, 6.2791 6.2652 0.0875 0.9123 Evaluation Finish\n",
      "171: Data Load Finish, Predict Finish, 7.5394 7.5292 0.1052 0.8947 Evaluation Finish\n",
      "172: Data Load Finish, Predict Finish, 2.5372 2.5025 0.0349 0.9646 Evaluation Finish\n",
      "173: Data Load Finish, Predict Finish, 2.9765 2.9454 0.0411 0.9584 Evaluation Finish\n",
      "174: Data Load Finish, Predict Finish, 1.609 1.3817 0.0193 0.9775 Evaluation Finish\n",
      "175: Data Load Finish, Predict Finish, 2.7458 2.7056 0.0378 0.9616 Evaluation Finish\n",
      "176: Data Load Finish, Predict Finish, 9.1748 9.1567 0.1279 0.8718 Evaluation Finish\n",
      "177: Data Load Finish, "
     ]
    },
    {
     "name": "stderr",
     "output_type": "stream",
     "text": [
      "/home/vislab/anaconda3/envs/cctv/lib/python3.7/site-packages/statsmodels/base/model.py:606: ConvergenceWarning: Maximum Likelihood optimization failed to converge. Check mle_retvals\n",
      "  ConvergenceWarning)\n"
     ]
    },
    {
     "name": "stdout",
     "output_type": "stream",
     "text": [
      "Predict Finish, 3.9499 3.9313 0.0549 0.9448 Evaluation Finish\n",
      "178: Data Load Finish, Predict Finish, 1.5799 1.4511 0.0203 0.9779 Evaluation Finish\n",
      "179: Data Load Finish, Predict Finish, 2.1978 2.1503 0.03 0.9693 Evaluation Finish\n",
      "180: Data Load Finish, Predict Finish, 2.9996 2.9439 0.0411 0.9581 Evaluation Finish\n",
      "181: Data Load Finish, Predict Finish, 4.4959 4.4753 0.0625 0.9372 Evaluation Finish\n",
      "182: Data Load Finish, Predict Finish, 1.158 1.0357 0.0144 0.9838 Evaluation Finish\n",
      "183: Data Load Finish, "
     ]
    },
    {
     "name": "stderr",
     "output_type": "stream",
     "text": [
      "/home/vislab/anaconda3/envs/cctv/lib/python3.7/site-packages/statsmodels/base/model.py:606: ConvergenceWarning: Maximum Likelihood optimization failed to converge. Check mle_retvals\n",
      "  ConvergenceWarning)\n"
     ]
    },
    {
     "name": "stdout",
     "output_type": "stream",
     "text": [
      "Predict Finish, 5.4511 5.4028 0.0755 0.9238 Evaluation Finish\n",
      "184: Data Load Finish, Predict Finish, 5.1621 5.1424 0.0718 0.9279 Evaluation Finish\n",
      "185: Data Load Finish, Predict Finish, 4.9841 4.9559 0.0692 0.9304 Evaluation Finish\n",
      "186: Data Load Finish, Predict Finish, 4.0168 3.9862 0.0557 0.9439 Evaluation Finish\n",
      "187: Data Load Finish, Predict Finish, 4.6328 4.6135 0.0644 0.9353 Evaluation Finish\n",
      "188: Data Load Finish, Predict Finish, 4.2788 4.2547 0.0594 0.9402 Evaluation Finish\n",
      "189: Data Load Finish, Predict Finish, 2.7675 2.7095 0.0378 0.9613 Evaluation Finish\n",
      "190: Data Load Finish, Predict Finish, 3.7651 3.7431 0.0523 0.9474 Evaluation Finish\n",
      "191: Data Load Finish, Predict Finish, 4.5511 4.529 0.0633 0.9364 Evaluation Finish\n",
      "192: Data Load Finish, Predict Finish, 4.0936 4.0564 0.0567 0.9428 Evaluation Finish\n",
      "193: Data Load Finish, Predict Finish, 0.7299 0.6195 0.0086 0.9898 Evaluation Finish\n",
      "194: Data Load Finish, "
     ]
    },
    {
     "name": "stderr",
     "output_type": "stream",
     "text": [
      "/home/vislab/anaconda3/envs/cctv/lib/python3.7/site-packages/pandas/core/arraylike.py:364: RuntimeWarning: divide by zero encountered in log\n",
      "  result = getattr(ufunc, method)(*inputs, **kwargs)\n",
      "/home/vislab/anaconda3/envs/cctv/lib/python3.7/site-packages/statsmodels/base/model.py:606: ConvergenceWarning: Maximum Likelihood optimization failed to converge. Check mle_retvals\n",
      "  ConvergenceWarning)\n"
     ]
    },
    {
     "name": "stdout",
     "output_type": "stream",
     "text": [
      "Predict Finish, 70.5761 70.575 0.986 0.014 Evaluation Finish\n",
      "195: Data Load Finish, Predict Finish, 4.1002 4.0705 0.0568 0.9427 Evaluation Finish\n",
      "196: Data Load Finish, Predict Finish, 0.8849 0.7683 0.0107 0.9876 Evaluation Finish\n",
      "197: Data Load Finish, Predict Finish, 4.8754 4.8562 0.0678 0.9319 Evaluation Finish\n",
      "198: Data Load Finish, Predict Finish, 5.2302 5.1151 0.0714 0.9269 Evaluation Finish\n",
      "199: Data Load Finish, "
     ]
    },
    {
     "name": "stderr",
     "output_type": "stream",
     "text": [
      "/home/vislab/anaconda3/envs/cctv/lib/python3.7/site-packages/pandas/core/arraylike.py:364: RuntimeWarning: divide by zero encountered in log\n",
      "  result = getattr(ufunc, method)(*inputs, **kwargs)\n",
      "/home/vislab/anaconda3/envs/cctv/lib/python3.7/site-packages/statsmodels/base/model.py:606: ConvergenceWarning: Maximum Likelihood optimization failed to converge. Check mle_retvals\n",
      "  ConvergenceWarning)\n"
     ]
    },
    {
     "name": "stdout",
     "output_type": "stream",
     "text": [
      "Predict Finish, 70.5761 70.575 0.986 0.014 Evaluation Finish\n",
      "200: Data Load Finish, Predict Finish, 4.8312 4.8048 0.0671 0.9325 Evaluation Finish\n",
      "201: Data Load Finish, Predict Finish, 4.7048 4.6708 0.0652 0.9343 Evaluation Finish\n",
      "202: Data Load Finish, "
     ]
    },
    {
     "name": "stderr",
     "output_type": "stream",
     "text": [
      "/home/vislab/anaconda3/envs/cctv/lib/python3.7/site-packages/statsmodels/base/model.py:606: ConvergenceWarning: Maximum Likelihood optimization failed to converge. Check mle_retvals\n",
      "  ConvergenceWarning)\n"
     ]
    },
    {
     "name": "stdout",
     "output_type": "stream",
     "text": [
      "Predict Finish, 6.6484 6.6273 0.0926 0.9071 Evaluation Finish\n",
      "203: Data Load Finish, Predict Finish, 6.57 6.5518 0.0915 0.9082 Evaluation Finish\n",
      "204: Data Load Finish, Predict Finish, 6.8877 6.8693 0.096 0.9038 Evaluation Finish\n",
      "205: Data Load Finish, "
     ]
    },
    {
     "name": "stderr",
     "output_type": "stream",
     "text": [
      "/home/vislab/anaconda3/envs/cctv/lib/python3.7/site-packages/pandas/core/arraylike.py:364: RuntimeWarning: divide by zero encountered in log\n",
      "  result = getattr(ufunc, method)(*inputs, **kwargs)\n",
      "/home/vislab/anaconda3/envs/cctv/lib/python3.7/site-packages/statsmodels/base/model.py:606: ConvergenceWarning: Maximum Likelihood optimization failed to converge. Check mle_retvals\n",
      "  ConvergenceWarning)\n"
     ]
    },
    {
     "name": "stdout",
     "output_type": "stream",
     "text": [
      "Predict Finish, 70.5761 70.575 0.986 0.014 Evaluation Finish\n",
      "206: Data Load Finish, Predict Finish, 5.4089 5.3895 0.0753 0.9244 Evaluation Finish\n",
      "207: Data Load Finish, Predict Finish, 2.528 2.3887 0.0334 0.9647 Evaluation Finish\n",
      "208: Data Load Finish, Predict Finish, 8.4882 8.4781 0.1184 0.8814 Evaluation Finish\n",
      "209: Data Load Finish, Predict Finish, 5.1209 5.0953 0.0712 0.9285 Evaluation Finish\n",
      "210: Data Load Finish, Predict Finish, 8.0005 7.9896 0.1116 0.8882 Evaluation Finish\n",
      "211: Data Load Finish, Predict Finish, 5.8864 5.873 0.082 0.9178 Evaluation Finish\n",
      "212: Data Load Finish, Predict Finish, 5.1609 5.1425 0.0718 0.9279 Evaluation Finish\n",
      "213: Data Load Finish, Predict Finish, 6.5448 6.5335 0.0913 0.9086 Evaluation Finish\n",
      "214: Data Load Finish, Predict Finish, 7.5157 7.504 0.1048 0.895 Evaluation Finish\n",
      "215: Data Load Finish, Predict Finish, 8.6216 8.6123 0.1203 0.8795 Evaluation Finish\n",
      "216: Data Load Finish, Predict Finish, 5.8055 5.7906 0.0809 0.9189 Evaluation Finish\n",
      "217: Data Load Finish, Predict Finish, 4.665 4.645 0.0649 0.9348 Evaluation Finish\n",
      "218: Data Load Finish, Predict Finish, 7.1317 7.121 0.0995 0.9004 Evaluation Finish\n",
      "219: Data Load Finish, Predict Finish, 4.8681 4.8489 0.0677 0.932 Evaluation Finish\n",
      "220: Data Load Finish, Predict Finish, 4.3839 4.3659 0.061 0.9388 Evaluation Finish\n",
      "221: Data Load Finish, Predict Finish, 6.2602 6.2454 0.0872 0.9125 Evaluation Finish\n",
      "222: Data Load Finish, Predict Finish, 7.3875 7.3776 0.103 0.8968 Evaluation Finish\n",
      "223: Data Load Finish, Predict Finish, 6.7855 6.7729 0.0946 0.9052 Evaluation Finish\n",
      "224: Data Load Finish, Predict Finish, 7.4661 7.4538 0.1041 0.8957 Evaluation Finish\n",
      "225: Data Load Finish, Predict Finish, 6.8147 6.8018 0.095 0.9048 Evaluation Finish\n",
      "226: Data Load Finish, Predict Finish, 4.6865 4.6499 0.0649 0.9345 Evaluation Finish\n",
      "227: Data Load Finish, Predict Finish, 5.6903 5.6632 0.0791 0.9205 Evaluation Finish\n",
      "228: Data Load Finish, Predict Finish, 3.5704 3.5406 0.0494 0.9501 Evaluation Finish\n",
      "229: Data Load Finish, Predict Finish, 2.4517 2.3772 0.0332 0.9657 Evaluation Finish\n",
      "230: Data Load Finish, Predict Finish, 0.8941 0.7521 0.0105 0.9875 Evaluation Finish\n",
      "231: Data Load Finish, Predict Finish, 8.4934 8.4709 0.1183 0.8813 Evaluation Finish\n",
      "232: Data Load Finish, Predict Finish, 3.9666 3.9124 0.0547 0.9446 Evaluation Finish\n",
      "233: Data Load Finish, Predict Finish, 1.8782 1.8263 0.0255 0.9738 Evaluation Finish\n",
      "234: Data Load Finish, "
     ]
    },
    {
     "name": "stderr",
     "output_type": "stream",
     "text": [
      "/home/vislab/anaconda3/envs/cctv/lib/python3.7/site-packages/pandas/core/arraylike.py:364: RuntimeWarning: divide by zero encountered in log\n",
      "  result = getattr(ufunc, method)(*inputs, **kwargs)\n",
      "/home/vislab/anaconda3/envs/cctv/lib/python3.7/site-packages/statsmodels/base/model.py:606: ConvergenceWarning: Maximum Likelihood optimization failed to converge. Check mle_retvals\n",
      "  ConvergenceWarning)\n"
     ]
    },
    {
     "name": "stdout",
     "output_type": "stream",
     "text": [
      "Predict Finish, 70.5761 70.575 0.986 0.014 Evaluation Finish\n",
      "235: Data Load Finish, Predict Finish, 2.6122 2.5514 0.0356 0.9635 Evaluation Finish\n",
      "236: Data Load Finish, Predict Finish, 2.9945 2.9588 0.0413 0.9582 Evaluation Finish\n",
      "237: Data Load Finish, Predict Finish, 2.8467 2.8049 0.0392 0.9602 Evaluation Finish\n",
      "238: Data Load Finish, Predict Finish, 7.2076 7.1971 0.1005 0.8993 Evaluation Finish\n",
      "239: Data Load Finish, Predict Finish, 6.1371 6.1247 0.0855 0.9143 Evaluation Finish\n",
      "240: Data Load Finish, Predict Finish, 7.3728 7.3627 0.1028 0.897 Evaluation Finish\n",
      "241: Data Load Finish, Predict Finish, 8.4015 8.39 0.1172 0.8826 Evaluation Finish\n",
      "242: Data Load Finish, Predict Finish, 3.3042 3.2814 0.0458 0.9538 Evaluation Finish\n",
      "243: Data Load Finish, Predict Finish, 4.8225 4.764 0.0665 0.9326 Evaluation Finish\n",
      "244: Data Load Finish, Predict Finish, 3.8391 3.8057 0.0531 0.9464 Evaluation Finish\n",
      "245: Data Load Finish, Predict Finish, 3.6616 3.6195 0.0505 0.9488 Evaluation Finish\n",
      "246: Data Load Finish, Predict Finish, 5.7549 5.7391 0.0802 0.9196 Evaluation Finish\n",
      "247: Data Load Finish, "
     ]
    },
    {
     "name": "stderr",
     "output_type": "stream",
     "text": [
      "/home/vislab/anaconda3/envs/cctv/lib/python3.7/site-packages/statsmodels/base/model.py:606: ConvergenceWarning: Maximum Likelihood optimization failed to converge. Check mle_retvals\n",
      "  ConvergenceWarning)\n"
     ]
    },
    {
     "name": "stdout",
     "output_type": "stream",
     "text": [
      "Predict Finish, 6.9115 6.8989 0.0964 0.9034 Evaluation Finish\n",
      "248: Data Load Finish, Predict Finish, 3.0596 3.0073 0.042 0.9573 Evaluation Finish\n",
      "249: Data Load Finish, Predict Finish, 6.7902 6.7761 0.0946 0.9051 Evaluation Finish\n",
      "250: Data Load Finish, Predict Finish, 4.1637 4.123 0.0576 0.9418 Evaluation Finish\n",
      "251: Data Load Finish, Predict Finish, 7.5584 7.5447 0.1054 0.8944 Evaluation Finish\n",
      "252: Data Load Finish, Predict Finish, 7.2023 7.1919 0.1005 0.8994 Evaluation Finish\n",
      "253: Data Load Finish, Predict Finish, 0.6556 0.5392 0.0075 0.9908 Evaluation Finish\n",
      "254: Data Load Finish, Predict Finish, 7.2263 7.211 0.1007 0.899 Evaluation Finish\n",
      "255: Data Load Finish, Predict Finish, 6.8753 6.8645 0.0959 0.9039 Evaluation Finish\n",
      "256: Data Load Finish, Predict Finish, 4.3489 4.3153 0.0603 0.9392 Evaluation Finish\n",
      "257: Data Load Finish, Predict Finish, 1.047 0.9285 0.0129 0.9854 Evaluation Finish\n",
      "258: Data Load Finish, Predict Finish, 3.2836 3.2407 0.0453 0.9541 Evaluation Finish\n",
      "259: Data Load Finish, Predict Finish, 3.2618 3.2096 0.0448 0.9544 Evaluation Finish\n",
      "260: Data Load Finish, Predict Finish, 4.1205 4.1023 0.0573 0.9424 Evaluation Finish\n",
      "261: Data Load Finish, Predict Finish, 3.2435 3.206 0.0448 0.9547 Evaluation Finish\n",
      "262: Data Load Finish, "
     ]
    },
    {
     "name": "stderr",
     "output_type": "stream",
     "text": [
      "/home/vislab/anaconda3/envs/cctv/lib/python3.7/site-packages/pandas/core/arraylike.py:364: RuntimeWarning: divide by zero encountered in log\n",
      "  result = getattr(ufunc, method)(*inputs, **kwargs)\n",
      "/home/vislab/anaconda3/envs/cctv/lib/python3.7/site-packages/statsmodels/base/model.py:606: ConvergenceWarning: Maximum Likelihood optimization failed to converge. Check mle_retvals\n",
      "  ConvergenceWarning)\n"
     ]
    },
    {
     "name": "stdout",
     "output_type": "stream",
     "text": [
      "Predict Finish, 70.5761 70.575 0.986 0.014 Evaluation Finish\n",
      "263: Data Load Finish, Predict Finish, 4.969 4.9398 0.069 0.9306 Evaluation Finish\n",
      "264: Data Load Finish, "
     ]
    },
    {
     "name": "stderr",
     "output_type": "stream",
     "text": [
      "/home/vislab/anaconda3/envs/cctv/lib/python3.7/site-packages/pandas/core/arraylike.py:364: RuntimeWarning: divide by zero encountered in log\n",
      "  result = getattr(ufunc, method)(*inputs, **kwargs)\n",
      "/home/vislab/anaconda3/envs/cctv/lib/python3.7/site-packages/statsmodels/base/model.py:606: ConvergenceWarning: Maximum Likelihood optimization failed to converge. Check mle_retvals\n",
      "  ConvergenceWarning)\n"
     ]
    },
    {
     "name": "stdout",
     "output_type": "stream",
     "text": [
      "Predict Finish, 70.5761 70.575 0.986 0.014 Evaluation Finish\n",
      "265: Data Load Finish, Predict Finish, 3.1474 3.1075 0.0434 0.956 Evaluation Finish\n",
      "266: Data Load Finish, Predict Finish, 2.6932 2.6399 0.0369 0.9624 Evaluation Finish\n",
      "267: Data Load Finish, Predict Finish, 3.6584 3.634 0.0507 0.9489 Evaluation Finish\n",
      "268: Data Load Finish, Predict Finish, 5.8888 5.8404 0.0816 0.9177 Evaluation Finish\n",
      "269: Data Load Finish, Predict Finish, 5.2382 5.2193 0.0729 0.9268 Evaluation Finish\n",
      "270: Data Load Finish, Predict Finish, 4.9819 4.9584 0.0693 0.9304 Evaluation Finish\n",
      "271: Data Load Finish, Predict Finish, 4.9103 4.891 0.0683 0.9314 Evaluation Finish\n",
      "272: Data Load Finish, Predict Finish, 2.9661 2.8754 0.0402 0.9586 Evaluation Finish\n",
      "273: Data Load Finish, "
     ]
    },
    {
     "name": "stderr",
     "output_type": "stream",
     "text": [
      "/home/vislab/anaconda3/envs/cctv/lib/python3.7/site-packages/pandas/core/arraylike.py:364: RuntimeWarning: divide by zero encountered in log\n",
      "  result = getattr(ufunc, method)(*inputs, **kwargs)\n",
      "/home/vislab/anaconda3/envs/cctv/lib/python3.7/site-packages/statsmodels/base/model.py:606: ConvergenceWarning: Maximum Likelihood optimization failed to converge. Check mle_retvals\n",
      "  ConvergenceWarning)\n"
     ]
    },
    {
     "name": "stdout",
     "output_type": "stream",
     "text": [
      "Predict Finish, 70.5761 70.575 0.986 0.014 Evaluation Finish\n",
      "274: Data Load Finish, Predict Finish, 2.8017 2.7132 0.0379 0.9609 Evaluation Finish\n",
      "275: Data Load Finish, Predict Finish, 3.6593 3.5313 0.0493 0.9489 Evaluation Finish\n",
      "276: Data Load Finish, Predict Finish, 3.3484 3.3097 0.0462 0.9532 Evaluation Finish\n",
      "277: Data Load Finish, Predict Finish, 3.8263 3.7844 0.0528 0.9465 Evaluation Finish\n",
      "278: Data Load Finish, Predict Finish, 5.6085 5.5911 0.0781 0.9216 Evaluation Finish\n",
      "279: Data Load Finish, Predict Finish, 2.9055 2.8367 0.0396 0.9594 Evaluation Finish\n",
      "280: Data Load Finish, Predict Finish, 3.6922 3.6513 0.051 0.9484 Evaluation Finish\n",
      "281: Data Load Finish, Predict Finish, 2.2034 2.1415 0.0299 0.9692 Evaluation Finish\n",
      "282: Data Load Finish, "
     ]
    },
    {
     "name": "stderr",
     "output_type": "stream",
     "text": [
      "/home/vislab/anaconda3/envs/cctv/lib/python3.7/site-packages/pandas/core/arraylike.py:364: RuntimeWarning: divide by zero encountered in log\n",
      "  result = getattr(ufunc, method)(*inputs, **kwargs)\n",
      "/home/vislab/anaconda3/envs/cctv/lib/python3.7/site-packages/statsmodels/base/model.py:606: ConvergenceWarning: Maximum Likelihood optimization failed to converge. Check mle_retvals\n",
      "  ConvergenceWarning)\n"
     ]
    },
    {
     "name": "stdout",
     "output_type": "stream",
     "text": [
      "Predict Finish, 70.5761 70.575 0.986 0.014 Evaluation Finish\n",
      "283: Data Load Finish, Predict Finish, 30.1915 30.0823 0.4203 0.5782 Evaluation Finish\n",
      "284: Data Load Finish, "
     ]
    },
    {
     "name": "stderr",
     "output_type": "stream",
     "text": [
      "/home/vislab/anaconda3/envs/cctv/lib/python3.7/site-packages/pandas/core/arraylike.py:364: RuntimeWarning: divide by zero encountered in log\n",
      "  result = getattr(ufunc, method)(*inputs, **kwargs)\n",
      "/home/vislab/anaconda3/envs/cctv/lib/python3.7/site-packages/statsmodels/base/model.py:606: ConvergenceWarning: Maximum Likelihood optimization failed to converge. Check mle_retvals\n",
      "  ConvergenceWarning)\n"
     ]
    },
    {
     "name": "stdout",
     "output_type": "stream",
     "text": [
      "Predict Finish, 70.5761 70.575 0.986 0.014 Evaluation Finish\n",
      "285: Data Load Finish, "
     ]
    },
    {
     "name": "stderr",
     "output_type": "stream",
     "text": [
      "/home/vislab/anaconda3/envs/cctv/lib/python3.7/site-packages/statsmodels/base/model.py:606: ConvergenceWarning: Maximum Likelihood optimization failed to converge. Check mle_retvals\n",
      "  ConvergenceWarning)\n"
     ]
    },
    {
     "name": "stdout",
     "output_type": "stream",
     "text": [
      "Predict Finish, 5.1464 5.1213 0.0715 0.9281 Evaluation Finish\n",
      "286: Data Load Finish, Predict Finish, 4.3133 4.288 0.0599 0.9397 Evaluation Finish\n",
      "287: Data Load Finish, Predict Finish, 5.0149 4.9762 0.0695 0.9299 Evaluation Finish\n",
      "288: Data Load Finish, Predict Finish, 4.5324 4.5127 0.063 0.9367 Evaluation Finish\n",
      "289: Data Load Finish, Predict Finish, 5.5136 5.4937 0.0767 0.923 Evaluation Finish\n",
      "290: Data Load Finish, Predict Finish, 3.5067 3.4717 0.0485 0.951 Evaluation Finish\n",
      "291: Data Load Finish, "
     ]
    },
    {
     "name": "stderr",
     "output_type": "stream",
     "text": [
      "/home/vislab/anaconda3/envs/cctv/lib/python3.7/site-packages/pandas/core/arraylike.py:364: RuntimeWarning: divide by zero encountered in log\n",
      "  result = getattr(ufunc, method)(*inputs, **kwargs)\n",
      "/home/vislab/anaconda3/envs/cctv/lib/python3.7/site-packages/statsmodels/base/model.py:606: ConvergenceWarning: Maximum Likelihood optimization failed to converge. Check mle_retvals\n",
      "  ConvergenceWarning)\n"
     ]
    },
    {
     "name": "stdout",
     "output_type": "stream",
     "text": [
      "Predict Finish, 70.5761 70.575 0.986 0.014 Evaluation Finish\n",
      "292: Data Load Finish, Predict Finish, 8.8586 8.5403 0.1193 0.8762 Evaluation Finish\n",
      "293: Data Load Finish, Predict Finish, 8.7906 8.6856 0.1213 0.8772 Evaluation Finish\n",
      "294: Data Load Finish, Predict Finish, 3.8348 3.8016 0.0531 0.9464 Evaluation Finish\n",
      "295: Data Load Finish, "
     ]
    },
    {
     "name": "stderr",
     "output_type": "stream",
     "text": [
      "/home/vislab/anaconda3/envs/cctv/lib/python3.7/site-packages/pandas/core/arraylike.py:364: RuntimeWarning: divide by zero encountered in log\n",
      "  result = getattr(ufunc, method)(*inputs, **kwargs)\n",
      "/home/vislab/anaconda3/envs/cctv/lib/python3.7/site-packages/statsmodels/base/model.py:606: ConvergenceWarning: Maximum Likelihood optimization failed to converge. Check mle_retvals\n",
      "  ConvergenceWarning)\n"
     ]
    },
    {
     "name": "stdout",
     "output_type": "stream",
     "text": [
      "Predict Finish, 70.5761 70.575 0.986 0.014 Evaluation Finish\n",
      "296: Data Load Finish, Predict Finish, 5.6273 5.6129 0.0784 0.9214 Evaluation Finish\n",
      "297: Data Load Finish, Predict Finish, 3.9198 3.8916 0.0543 0.9452 Evaluation Finish\n",
      "298: Data Load Finish, Predict Finish, 3.9163 3.8916 0.0543 0.9453 Evaluation Finish\n",
      "299: Data Load Finish, "
     ]
    },
    {
     "name": "stderr",
     "output_type": "stream",
     "text": [
      "/home/vislab/anaconda3/envs/cctv/lib/python3.7/site-packages/pandas/core/arraylike.py:364: RuntimeWarning: divide by zero encountered in log\n",
      "  result = getattr(ufunc, method)(*inputs, **kwargs)\n",
      "/home/vislab/anaconda3/envs/cctv/lib/python3.7/site-packages/statsmodels/base/model.py:606: ConvergenceWarning: Maximum Likelihood optimization failed to converge. Check mle_retvals\n",
      "  ConvergenceWarning)\n"
     ]
    },
    {
     "name": "stdout",
     "output_type": "stream",
     "text": [
      "Predict Finish, 70.5761 70.575 0.986 0.014 Evaluation Finish\n",
      "300: Data Load Finish, Predict Finish, 4.371 4.3272 0.0604 0.9389 Evaluation Finish\n",
      "301: Data Load Finish, Predict Finish, 7.0346 7.0188 0.098 0.9017 Evaluation Finish\n",
      "302: Data Load Finish, Predict Finish, 4.4903 4.4341 0.0619 0.9373 Evaluation Finish\n",
      "303: Data Load Finish, Predict Finish, 4.8097 4.7562 0.0664 0.9328 Evaluation Finish\n",
      "304: Data Load Finish, Predict Finish, 4.9583 4.8925 0.0683 0.9307 Evaluation Finish\n",
      "305: Data Load Finish, Predict Finish, 8.1441 8.1265 0.1135 0.8862 Evaluation Finish\n",
      "306: Data Load Finish, "
     ]
    },
    {
     "name": "stderr",
     "output_type": "stream",
     "text": [
      "/home/vislab/anaconda3/envs/cctv/lib/python3.7/site-packages/pandas/core/arraylike.py:364: RuntimeWarning: divide by zero encountered in log\n",
      "  result = getattr(ufunc, method)(*inputs, **kwargs)\n",
      "/home/vislab/anaconda3/envs/cctv/lib/python3.7/site-packages/statsmodels/base/model.py:606: ConvergenceWarning: Maximum Likelihood optimization failed to converge. Check mle_retvals\n",
      "  ConvergenceWarning)\n"
     ]
    },
    {
     "name": "stdout",
     "output_type": "stream",
     "text": [
      "Predict Finish, 70.5761 70.575 0.986 0.014 Evaluation Finish\n",
      "307: Data Load Finish, Predict Finish, 4.912 4.8703 0.068 0.9314 Evaluation Finish\n",
      "308: Data Load Finish, Predict Finish, 9.6242 9.5217 0.133 0.8655 Evaluation Finish\n",
      "309: Data Load Finish, Predict Finish, 3.2238 3.1936 0.0446 0.955 Evaluation Finish\n",
      "310: Data Load Finish, Predict Finish, 6.5502 6.53 0.0912 0.9085 Evaluation Finish\n",
      "311: Data Load Finish, Predict Finish, 3.0778 3.0474 0.0426 0.957 Evaluation Finish\n",
      "312: Data Load Finish, Predict Finish, 3.7788 3.7484 0.0523 0.9472 Evaluation Finish\n",
      "313: Data Load Finish, Predict Finish, 5.6565 5.6199 0.0785 0.921 Evaluation Finish\n",
      "314: Data Load Finish, Predict Finish, 4.5171 4.4906 0.0627 0.9369 Evaluation Finish\n",
      "315: Data Load Finish, Predict Finish, 6.4907 6.4787 0.0905 0.9093 Evaluation Finish\n",
      "316: Data Load Finish, Predict Finish, 4.8143 4.7919 0.0669 0.9327 Evaluation Finish\n",
      "317: Data Load Finish, Predict Finish, 7.6797 7.6702 0.1071 0.8927 Evaluation Finish\n",
      "318: Data Load Finish, "
     ]
    },
    {
     "name": "stderr",
     "output_type": "stream",
     "text": [
      "/home/vislab/anaconda3/envs/cctv/lib/python3.7/site-packages/statsmodels/base/model.py:606: ConvergenceWarning: Maximum Likelihood optimization failed to converge. Check mle_retvals\n",
      "  ConvergenceWarning)\n"
     ]
    },
    {
     "name": "stdout",
     "output_type": "stream",
     "text": [
      "Predict Finish, 11.7726 11.7659 0.1644 0.8355 Evaluation Finish\n",
      "319: Data Load Finish, Predict Finish, 3.1735 3.1343 0.0438 0.9557 Evaluation Finish\n",
      "320: Data Load Finish, Predict Finish, 7.5939 7.5777 0.1058 0.8939 Evaluation Finish\n",
      "321: Data Load Finish, Predict Finish, 1.6813 1.6152 0.0225 0.9765 Evaluation Finish\n",
      "322: Data Load Finish, Predict Finish, 3.124 3.0803 0.043 0.9564 Evaluation Finish\n",
      "323: Data Load Finish, Predict Finish, 1.2191 1.0905 0.0152 0.983 Evaluation Finish\n",
      "324: Data Load Finish, Predict Finish, 4.3122 4.2807 0.0598 0.9398 Evaluation Finish\n",
      "RMSE: 11.50380947642946, MAE: 11.466020179565684, MAPE: 0.16017529818732837\n",
      "ACC: 0.8392784812765449\n"
     ]
    }
   ],
   "source": [
    "predictARIMA(df, idx, 12)"
   ]
  },
  {
   "cell_type": "markdown",
   "id": "8624171f",
   "metadata": {},
   "source": [
    "### Unobserved Nodes = 20%"
   ]
  },
  {
   "cell_type": "code",
   "execution_count": 14,
   "id": "a8313c43",
   "metadata": {},
   "outputs": [
    {
     "name": "stdout",
     "output_type": "stream",
     "text": [
      "52116 325\n"
     ]
    },
    {
     "data": {
      "text/plain": [
       "3387540"
      ]
     },
     "execution_count": 14,
     "metadata": {},
     "output_type": "execute_result"
    }
   ],
   "source": [
    "df, idx = csvIndexToDatetime(path_20, start, freq)\n",
    "(df == 0).sum().sum()"
   ]
  },
  {
   "cell_type": "code",
   "execution_count": 15,
   "id": "5ce0fefa",
   "metadata": {
    "scrolled": false
   },
   "outputs": [
    {
     "name": "stdout",
     "output_type": "stream",
     "text": [
      "0: Data Load Finish, Predict Finish, 0.6205 0.5084 0.0071 0.9913 Evaluation Finish\n",
      "1: Data Load Finish, Predict Finish, 6.006 5.9914 0.0837 0.9161 Evaluation Finish\n",
      "2: Data Load Finish, Predict Finish, 6.4662 6.4196 0.0897 0.9097 Evaluation Finish\n",
      "3: Data Load Finish, Predict Finish, 9.0809 9.0727 0.1267 0.8731 Evaluation Finish\n",
      "4: Data Load Finish, Predict Finish, 9.1863 9.1777 0.1282 0.8717 Evaluation Finish\n",
      "5: Data Load Finish, Predict Finish, 4.0756 4.043 0.0565 0.9431 Evaluation Finish\n",
      "6: Data Load Finish, Predict Finish, 4.5766 4.4876 0.0627 0.9361 Evaluation Finish\n",
      "7: Data Load Finish, Predict Finish, 3.678 3.6422 0.0509 0.9486 Evaluation Finish\n",
      "8: Data Load Finish, "
     ]
    },
    {
     "name": "stderr",
     "output_type": "stream",
     "text": [
      "/home/vislab/anaconda3/envs/cctv/lib/python3.7/site-packages/pandas/core/arraylike.py:364: RuntimeWarning: divide by zero encountered in log\n",
      "  result = getattr(ufunc, method)(*inputs, **kwargs)\n",
      "/home/vislab/anaconda3/envs/cctv/lib/python3.7/site-packages/statsmodels/base/model.py:606: ConvergenceWarning: Maximum Likelihood optimization failed to converge. Check mle_retvals\n",
      "  ConvergenceWarning)\n"
     ]
    },
    {
     "name": "stdout",
     "output_type": "stream",
     "text": [
      "Predict Finish, 70.5761 70.575 0.986 0.014 Evaluation Finish\n",
      "9: Data Load Finish, Predict Finish, 4.0186 3.9939 0.0558 0.9439 Evaluation Finish\n",
      "10: Data Load Finish, Predict Finish, 5.2609 5.2434 0.0732 0.9265 Evaluation Finish\n",
      "11: Data Load Finish, "
     ]
    },
    {
     "name": "stderr",
     "output_type": "stream",
     "text": [
      "/home/vislab/anaconda3/envs/cctv/lib/python3.7/site-packages/pandas/core/arraylike.py:364: RuntimeWarning: divide by zero encountered in log\n",
      "  result = getattr(ufunc, method)(*inputs, **kwargs)\n",
      "/home/vislab/anaconda3/envs/cctv/lib/python3.7/site-packages/statsmodels/base/model.py:606: ConvergenceWarning: Maximum Likelihood optimization failed to converge. Check mle_retvals\n",
      "  ConvergenceWarning)\n"
     ]
    },
    {
     "name": "stdout",
     "output_type": "stream",
     "text": [
      "Predict Finish, 70.5761 70.575 0.986 0.014 Evaluation Finish\n",
      "12: Data Load Finish, Predict Finish, 4.1617 4.1231 0.0576 0.9419 Evaluation Finish\n",
      "13: Data Load Finish, Predict Finish, 3.3277 3.225 0.045 0.9535 Evaluation Finish\n",
      "14: Data Load Finish, Predict Finish, 3.845 3.8195 0.0533 0.9463 Evaluation Finish\n",
      "15: Data Load Finish, Predict Finish, 3.9971 3.9667 0.0554 0.9442 Evaluation Finish\n",
      "16: Data Load Finish, Predict Finish, 5.0221 5.0065 0.0699 0.9298 Evaluation Finish\n",
      "17: Data Load Finish, Predict Finish, 5.3073 5.2769 0.0737 0.9259 Evaluation Finish\n",
      "18: Data Load Finish, Predict Finish, 3.6009 3.5805 0.05 0.9497 Evaluation Finish\n",
      "19: Data Load Finish, Predict Finish, 5.6577 5.6149 0.0784 0.921 Evaluation Finish\n",
      "20: Data Load Finish, Predict Finish, 3.4639 3.4158 0.0477 0.9516 Evaluation Finish\n",
      "21: Data Load Finish, "
     ]
    },
    {
     "name": "stderr",
     "output_type": "stream",
     "text": [
      "/home/vislab/anaconda3/envs/cctv/lib/python3.7/site-packages/pandas/core/arraylike.py:364: RuntimeWarning: divide by zero encountered in log\n",
      "  result = getattr(ufunc, method)(*inputs, **kwargs)\n",
      "/home/vislab/anaconda3/envs/cctv/lib/python3.7/site-packages/statsmodels/base/model.py:606: ConvergenceWarning: Maximum Likelihood optimization failed to converge. Check mle_retvals\n",
      "  ConvergenceWarning)\n"
     ]
    },
    {
     "name": "stdout",
     "output_type": "stream",
     "text": [
      "Predict Finish, 70.5761 70.575 0.986 0.014 Evaluation Finish\n",
      "22: Data Load Finish, Predict Finish, 3.9097 3.8835 0.0542 0.9454 Evaluation Finish\n",
      "23: Data Load Finish, Predict Finish, 6.0967 6.0638 0.0847 0.9148 Evaluation Finish\n",
      "24: Data Load Finish, Predict Finish, 3.325 3.2983 0.0461 0.9535 Evaluation Finish\n",
      "25: Data Load Finish, "
     ]
    },
    {
     "name": "stderr",
     "output_type": "stream",
     "text": [
      "/home/vislab/anaconda3/envs/cctv/lib/python3.7/site-packages/pandas/core/arraylike.py:364: RuntimeWarning: divide by zero encountered in log\n",
      "  result = getattr(ufunc, method)(*inputs, **kwargs)\n",
      "/home/vislab/anaconda3/envs/cctv/lib/python3.7/site-packages/statsmodels/base/model.py:606: ConvergenceWarning: Maximum Likelihood optimization failed to converge. Check mle_retvals\n",
      "  ConvergenceWarning)\n"
     ]
    },
    {
     "name": "stdout",
     "output_type": "stream",
     "text": [
      "Predict Finish, 70.5761 70.575 0.986 0.014 Evaluation Finish\n",
      "26: Data Load Finish, "
     ]
    },
    {
     "name": "stderr",
     "output_type": "stream",
     "text": [
      "/home/vislab/anaconda3/envs/cctv/lib/python3.7/site-packages/pandas/core/arraylike.py:364: RuntimeWarning: divide by zero encountered in log\n",
      "  result = getattr(ufunc, method)(*inputs, **kwargs)\n",
      "/home/vislab/anaconda3/envs/cctv/lib/python3.7/site-packages/statsmodels/base/model.py:606: ConvergenceWarning: Maximum Likelihood optimization failed to converge. Check mle_retvals\n",
      "  ConvergenceWarning)\n"
     ]
    },
    {
     "name": "stdout",
     "output_type": "stream",
     "text": [
      "Predict Finish, 70.5761 70.575 0.986 0.014 Evaluation Finish\n",
      "27: Data Load Finish, Predict Finish, 3.8867 3.867 0.054 0.9457 Evaluation Finish\n",
      "28: Data Load Finish, Predict Finish, 5.6396 5.6194 0.0785 0.9212 Evaluation Finish\n",
      "29: Data Load Finish, "
     ]
    },
    {
     "name": "stderr",
     "output_type": "stream",
     "text": [
      "/home/vislab/anaconda3/envs/cctv/lib/python3.7/site-packages/pandas/core/arraylike.py:364: RuntimeWarning: divide by zero encountered in log\n",
      "  result = getattr(ufunc, method)(*inputs, **kwargs)\n",
      "/home/vislab/anaconda3/envs/cctv/lib/python3.7/site-packages/statsmodels/base/model.py:606: ConvergenceWarning: Maximum Likelihood optimization failed to converge. Check mle_retvals\n",
      "  ConvergenceWarning)\n"
     ]
    },
    {
     "name": "stdout",
     "output_type": "stream",
     "text": [
      "Predict Finish, 70.5761 70.575 0.986 0.014 Evaluation Finish\n",
      "30: Data Load Finish, Predict Finish, 4.1995 4.1755 0.0583 0.9413 Evaluation Finish\n",
      "31: Data Load Finish, Predict Finish, 6.1068 6.0944 0.0851 0.9147 Evaluation Finish\n",
      "32: Data Load Finish, Predict Finish, 4.5765 4.5558 0.0636 0.9361 Evaluation Finish\n",
      "33: Data Load Finish, "
     ]
    },
    {
     "name": "stderr",
     "output_type": "stream",
     "text": [
      "/home/vislab/anaconda3/envs/cctv/lib/python3.7/site-packages/pandas/core/arraylike.py:364: RuntimeWarning: divide by zero encountered in log\n",
      "  result = getattr(ufunc, method)(*inputs, **kwargs)\n",
      "/home/vislab/anaconda3/envs/cctv/lib/python3.7/site-packages/statsmodels/base/model.py:606: ConvergenceWarning: Maximum Likelihood optimization failed to converge. Check mle_retvals\n",
      "  ConvergenceWarning)\n"
     ]
    },
    {
     "name": "stdout",
     "output_type": "stream",
     "text": [
      "Predict Finish, 70.5761 70.575 0.986 0.014 Evaluation Finish\n",
      "34: Data Load Finish, "
     ]
    },
    {
     "name": "stderr",
     "output_type": "stream",
     "text": [
      "/home/vislab/anaconda3/envs/cctv/lib/python3.7/site-packages/pandas/core/arraylike.py:364: RuntimeWarning: divide by zero encountered in log\n",
      "  result = getattr(ufunc, method)(*inputs, **kwargs)\n",
      "/home/vislab/anaconda3/envs/cctv/lib/python3.7/site-packages/statsmodels/base/model.py:606: ConvergenceWarning: Maximum Likelihood optimization failed to converge. Check mle_retvals\n",
      "  ConvergenceWarning)\n"
     ]
    },
    {
     "name": "stdout",
     "output_type": "stream",
     "text": [
      "Predict Finish, 70.5761 70.575 0.986 0.014 Evaluation Finish\n",
      "35: Data Load Finish, Predict Finish, 4.2667 4.1838 0.0584 0.9404 Evaluation Finish\n",
      "36: Data Load Finish, Predict Finish, 0.8315 0.711 0.0099 0.9884 Evaluation Finish\n",
      "37: Data Load Finish, Predict Finish, 4.3202 4.2947 0.06 0.9396 Evaluation Finish\n",
      "38: Data Load Finish, "
     ]
    },
    {
     "name": "stderr",
     "output_type": "stream",
     "text": [
      "/home/vislab/anaconda3/envs/cctv/lib/python3.7/site-packages/pandas/core/arraylike.py:364: RuntimeWarning: divide by zero encountered in log\n",
      "  result = getattr(ufunc, method)(*inputs, **kwargs)\n",
      "/home/vislab/anaconda3/envs/cctv/lib/python3.7/site-packages/statsmodels/base/model.py:606: ConvergenceWarning: Maximum Likelihood optimization failed to converge. Check mle_retvals\n",
      "  ConvergenceWarning)\n"
     ]
    },
    {
     "name": "stdout",
     "output_type": "stream",
     "text": [
      "Predict Finish, 70.5761 70.575 0.986 0.014 Evaluation Finish\n",
      "39: Data Load Finish, Predict Finish, 5.3457 5.3227 0.0743 0.9253 Evaluation Finish\n",
      "40: Data Load Finish, Predict Finish, 3.8189 3.7865 0.0529 0.9466 Evaluation Finish\n",
      "41: Data Load Finish, "
     ]
    },
    {
     "name": "stderr",
     "output_type": "stream",
     "text": [
      "/home/vislab/anaconda3/envs/cctv/lib/python3.7/site-packages/pandas/core/arraylike.py:364: RuntimeWarning: divide by zero encountered in log\n",
      "  result = getattr(ufunc, method)(*inputs, **kwargs)\n",
      "/home/vislab/anaconda3/envs/cctv/lib/python3.7/site-packages/statsmodels/base/model.py:606: ConvergenceWarning: Maximum Likelihood optimization failed to converge. Check mle_retvals\n",
      "  ConvergenceWarning)\n"
     ]
    },
    {
     "name": "stdout",
     "output_type": "stream",
     "text": [
      "Predict Finish, 70.5761 70.575 0.986 0.014 Evaluation Finish\n",
      "42: Data Load Finish, Predict Finish, 4.826 4.7884 0.0669 0.9326 Evaluation Finish\n",
      "43: Data Load Finish, "
     ]
    },
    {
     "name": "stderr",
     "output_type": "stream",
     "text": [
      "/home/vislab/anaconda3/envs/cctv/lib/python3.7/site-packages/pandas/core/arraylike.py:364: RuntimeWarning: divide by zero encountered in log\n",
      "  result = getattr(ufunc, method)(*inputs, **kwargs)\n",
      "/home/vislab/anaconda3/envs/cctv/lib/python3.7/site-packages/statsmodels/base/model.py:606: ConvergenceWarning: Maximum Likelihood optimization failed to converge. Check mle_retvals\n",
      "  ConvergenceWarning)\n"
     ]
    },
    {
     "name": "stdout",
     "output_type": "stream",
     "text": [
      "Predict Finish, 70.5761 70.575 0.986 0.014 Evaluation Finish\n",
      "44: Data Load Finish, Predict Finish, 3.9494 3.9215 0.0548 0.9448 Evaluation Finish\n",
      "45: Data Load Finish, Predict Finish, 4.1176 4.0691 0.0568 0.9425 Evaluation Finish\n",
      "46: Data Load Finish, Predict Finish, 10.0923 10.0841 0.1409 0.859 Evaluation Finish\n",
      "47: Data Load Finish, "
     ]
    },
    {
     "name": "stderr",
     "output_type": "stream",
     "text": [
      "/home/vislab/anaconda3/envs/cctv/lib/python3.7/site-packages/pandas/core/arraylike.py:364: RuntimeWarning: divide by zero encountered in log\n",
      "  result = getattr(ufunc, method)(*inputs, **kwargs)\n",
      "/home/vislab/anaconda3/envs/cctv/lib/python3.7/site-packages/statsmodels/base/model.py:606: ConvergenceWarning: Maximum Likelihood optimization failed to converge. Check mle_retvals\n",
      "  ConvergenceWarning)\n"
     ]
    },
    {
     "name": "stdout",
     "output_type": "stream",
     "text": [
      "Predict Finish, 70.5761 70.575 0.986 0.014 Evaluation Finish\n",
      "48: Data Load Finish, Predict Finish, 4.0375 4.0014 0.0559 0.9436 Evaluation Finish\n",
      "49: Data Load Finish, Predict Finish, 4.7645 4.7428 0.0662 0.9334 Evaluation Finish\n",
      "50: Data Load Finish, Predict Finish, 7.7606 7.751 0.1083 0.8916 Evaluation Finish\n",
      "51: Data Load Finish, Predict Finish, 3.2997 3.2634 0.0456 0.9539 Evaluation Finish\n",
      "52: Data Load Finish, Predict Finish, 3.1185 3.0903 0.0431 0.9564 Evaluation Finish\n",
      "53: Data Load Finish, Predict Finish, 6.0199 5.99 0.0837 0.9159 Evaluation Finish\n",
      "54: Data Load Finish, "
     ]
    },
    {
     "name": "stderr",
     "output_type": "stream",
     "text": [
      "/home/vislab/anaconda3/envs/cctv/lib/python3.7/site-packages/pandas/core/arraylike.py:364: RuntimeWarning: divide by zero encountered in log\n",
      "  result = getattr(ufunc, method)(*inputs, **kwargs)\n",
      "/home/vislab/anaconda3/envs/cctv/lib/python3.7/site-packages/statsmodels/base/model.py:606: ConvergenceWarning: Maximum Likelihood optimization failed to converge. Check mle_retvals\n",
      "  ConvergenceWarning)\n"
     ]
    },
    {
     "name": "stdout",
     "output_type": "stream",
     "text": [
      "Predict Finish, 70.5761 70.575 0.986 0.014 Evaluation Finish\n",
      "55: Data Load Finish, Predict Finish, 5.4615 5.3988 0.0754 0.9237 Evaluation Finish\n",
      "56: Data Load Finish, Predict Finish, 0.4529 0.3258 0.0045 0.9937 Evaluation Finish\n",
      "57: Data Load Finish, Predict Finish, 4.2567 4.1954 0.0586 0.9405 Evaluation Finish\n",
      "58: Data Load Finish, "
     ]
    },
    {
     "name": "stderr",
     "output_type": "stream",
     "text": [
      "/home/vislab/anaconda3/envs/cctv/lib/python3.7/site-packages/pandas/core/arraylike.py:364: RuntimeWarning: divide by zero encountered in log\n",
      "  result = getattr(ufunc, method)(*inputs, **kwargs)\n",
      "/home/vislab/anaconda3/envs/cctv/lib/python3.7/site-packages/statsmodels/base/model.py:606: ConvergenceWarning: Maximum Likelihood optimization failed to converge. Check mle_retvals\n",
      "  ConvergenceWarning)\n"
     ]
    },
    {
     "name": "stdout",
     "output_type": "stream",
     "text": [
      "Predict Finish, 70.5761 70.575 0.986 0.014 Evaluation Finish\n",
      "59: Data Load Finish, Predict Finish, 2.9991 2.9586 0.0413 0.9581 Evaluation Finish\n",
      "60: Data Load Finish, Predict Finish, 4.5304 4.5022 0.0629 0.9367 Evaluation Finish\n",
      "61: Data Load Finish, Predict Finish, 2.7819 2.7128 0.0379 0.9611 Evaluation Finish\n",
      "62: Data Load Finish, Predict Finish, 4.2849 4.2595 0.0595 0.9401 Evaluation Finish\n",
      "63: Data Load Finish, Predict Finish, 6.1957 6.1772 0.0863 0.9134 Evaluation Finish\n",
      "64: Data Load Finish, Predict Finish, 6.1462 6.1226 0.0855 0.9141 Evaluation Finish\n",
      "65: Data Load Finish, Predict Finish, 3.6076 3.3626 0.047 0.9496 Evaluation Finish\n",
      "66: Data Load Finish, Predict Finish, 8.2805 8.2564 0.1153 0.8843 Evaluation Finish\n",
      "67: Data Load Finish, Predict Finish, 8.4713 8.4613 0.1182 0.8816 Evaluation Finish\n",
      "68: Data Load Finish, Predict Finish, 5.4446 5.4102 0.0756 0.9239 Evaluation Finish\n",
      "69: Data Load Finish, "
     ]
    },
    {
     "name": "stderr",
     "output_type": "stream",
     "text": [
      "/home/vislab/anaconda3/envs/cctv/lib/python3.7/site-packages/pandas/core/arraylike.py:364: RuntimeWarning: divide by zero encountered in log\n",
      "  result = getattr(ufunc, method)(*inputs, **kwargs)\n",
      "/home/vislab/anaconda3/envs/cctv/lib/python3.7/site-packages/statsmodels/base/model.py:606: ConvergenceWarning: Maximum Likelihood optimization failed to converge. Check mle_retvals\n",
      "  ConvergenceWarning)\n"
     ]
    },
    {
     "name": "stdout",
     "output_type": "stream",
     "text": [
      "Predict Finish, 70.5761 70.575 0.986 0.014 Evaluation Finish\n",
      "70: Data Load Finish, Predict Finish, 4.2669 4.2473 0.0593 0.9404 Evaluation Finish\n",
      "71: Data Load Finish, Predict Finish, 7.9982 7.9883 0.1116 0.8883 Evaluation Finish\n",
      "72: Data Load Finish, Predict Finish, 5.7964 5.766 0.0805 0.919 Evaluation Finish\n",
      "73: Data Load Finish, Predict Finish, 4.3688 4.3146 0.0603 0.939 Evaluation Finish\n",
      "74: Data Load Finish, "
     ]
    },
    {
     "name": "stderr",
     "output_type": "stream",
     "text": [
      "/home/vislab/anaconda3/envs/cctv/lib/python3.7/site-packages/pandas/core/arraylike.py:364: RuntimeWarning: divide by zero encountered in log\n",
      "  result = getattr(ufunc, method)(*inputs, **kwargs)\n",
      "/home/vislab/anaconda3/envs/cctv/lib/python3.7/site-packages/statsmodels/base/model.py:606: ConvergenceWarning: Maximum Likelihood optimization failed to converge. Check mle_retvals\n",
      "  ConvergenceWarning)\n"
     ]
    },
    {
     "name": "stdout",
     "output_type": "stream",
     "text": [
      "Predict Finish, 70.5761 70.575 0.986 0.014 Evaluation Finish\n",
      "75: Data Load Finish, Predict Finish, 3.0104 2.97 0.0415 0.9579 Evaluation Finish\n",
      "76: Data Load Finish, Predict Finish, 3.3412 3.2749 0.0457 0.9533 Evaluation Finish\n",
      "77: Data Load Finish, Predict Finish, 4.1813 4.1531 0.058 0.9416 Evaluation Finish\n",
      "78: Data Load Finish, "
     ]
    },
    {
     "name": "stderr",
     "output_type": "stream",
     "text": [
      "/home/vislab/anaconda3/envs/cctv/lib/python3.7/site-packages/pandas/core/arraylike.py:364: RuntimeWarning: divide by zero encountered in log\n",
      "  result = getattr(ufunc, method)(*inputs, **kwargs)\n",
      "/home/vislab/anaconda3/envs/cctv/lib/python3.7/site-packages/statsmodels/base/model.py:606: ConvergenceWarning: Maximum Likelihood optimization failed to converge. Check mle_retvals\n",
      "  ConvergenceWarning)\n"
     ]
    },
    {
     "name": "stdout",
     "output_type": "stream",
     "text": [
      "Predict Finish, 70.5761 70.575 0.986 0.014 Evaluation Finish\n",
      "79: Data Load Finish, "
     ]
    },
    {
     "name": "stderr",
     "output_type": "stream",
     "text": [
      "/home/vislab/anaconda3/envs/cctv/lib/python3.7/site-packages/pandas/core/arraylike.py:364: RuntimeWarning: divide by zero encountered in log\n",
      "  result = getattr(ufunc, method)(*inputs, **kwargs)\n",
      "/home/vislab/anaconda3/envs/cctv/lib/python3.7/site-packages/statsmodels/base/model.py:606: ConvergenceWarning: Maximum Likelihood optimization failed to converge. Check mle_retvals\n",
      "  ConvergenceWarning)\n"
     ]
    },
    {
     "name": "stdout",
     "output_type": "stream",
     "text": [
      "Predict Finish, 70.5761 70.575 0.986 0.014 Evaluation Finish\n",
      "80: Data Load Finish, Predict Finish, 5.6626 5.6104 0.0784 0.9209 Evaluation Finish\n",
      "81: Data Load Finish, Predict Finish, 3.6487 3.613 0.0505 0.949 Evaluation Finish\n",
      "82: Data Load Finish, Predict Finish, 2.8653 2.8244 0.0394 0.96 Evaluation Finish\n",
      "83: Data Load Finish, "
     ]
    },
    {
     "name": "stderr",
     "output_type": "stream",
     "text": [
      "/home/vislab/anaconda3/envs/cctv/lib/python3.7/site-packages/pandas/core/arraylike.py:364: RuntimeWarning: divide by zero encountered in log\n",
      "  result = getattr(ufunc, method)(*inputs, **kwargs)\n",
      "/home/vislab/anaconda3/envs/cctv/lib/python3.7/site-packages/statsmodels/base/model.py:606: ConvergenceWarning: Maximum Likelihood optimization failed to converge. Check mle_retvals\n",
      "  ConvergenceWarning)\n"
     ]
    },
    {
     "name": "stdout",
     "output_type": "stream",
     "text": [
      "Predict Finish, 70.5761 70.575 0.986 0.014 Evaluation Finish\n",
      "84: Data Load Finish, Predict Finish, 2.9444 2.8813 0.0402 0.9589 Evaluation Finish\n",
      "85: Data Load Finish, "
     ]
    },
    {
     "name": "stderr",
     "output_type": "stream",
     "text": [
      "/home/vislab/anaconda3/envs/cctv/lib/python3.7/site-packages/pandas/core/arraylike.py:364: RuntimeWarning: divide by zero encountered in log\n",
      "  result = getattr(ufunc, method)(*inputs, **kwargs)\n",
      "/home/vislab/anaconda3/envs/cctv/lib/python3.7/site-packages/statsmodels/base/model.py:606: ConvergenceWarning: Maximum Likelihood optimization failed to converge. Check mle_retvals\n",
      "  ConvergenceWarning)\n"
     ]
    },
    {
     "name": "stdout",
     "output_type": "stream",
     "text": [
      "Predict Finish, 70.5761 70.575 0.986 0.014 Evaluation Finish\n",
      "86: Data Load Finish, "
     ]
    },
    {
     "name": "stderr",
     "output_type": "stream",
     "text": [
      "/home/vislab/anaconda3/envs/cctv/lib/python3.7/site-packages/pandas/core/arraylike.py:364: RuntimeWarning: divide by zero encountered in log\n",
      "  result = getattr(ufunc, method)(*inputs, **kwargs)\n",
      "/home/vislab/anaconda3/envs/cctv/lib/python3.7/site-packages/statsmodels/base/model.py:606: ConvergenceWarning: Maximum Likelihood optimization failed to converge. Check mle_retvals\n",
      "  ConvergenceWarning)\n"
     ]
    },
    {
     "name": "stdout",
     "output_type": "stream",
     "text": [
      "Predict Finish, 70.5761 70.575 0.986 0.014 Evaluation Finish\n",
      "87: Data Load Finish, Predict Finish, 3.8381 3.7952 0.053 0.9464 Evaluation Finish\n",
      "88: Data Load Finish, Predict Finish, 8.3698 8.3513 0.1167 0.8831 Evaluation Finish\n",
      "89: Data Load Finish, Predict Finish, 3.7865 3.7588 0.0525 0.9471 Evaluation Finish\n",
      "90: Data Load Finish, Predict Finish, 4.062 4.0201 0.0561 0.9432 Evaluation Finish\n",
      "91: Data Load Finish, "
     ]
    },
    {
     "name": "stderr",
     "output_type": "stream",
     "text": [
      "/home/vislab/anaconda3/envs/cctv/lib/python3.7/site-packages/pandas/core/arraylike.py:364: RuntimeWarning: divide by zero encountered in log\n",
      "  result = getattr(ufunc, method)(*inputs, **kwargs)\n",
      "/home/vislab/anaconda3/envs/cctv/lib/python3.7/site-packages/statsmodels/base/model.py:606: ConvergenceWarning: Maximum Likelihood optimization failed to converge. Check mle_retvals\n",
      "  ConvergenceWarning)\n"
     ]
    },
    {
     "name": "stdout",
     "output_type": "stream",
     "text": [
      "Predict Finish, 70.5761 70.575 0.986 0.014 Evaluation Finish\n",
      "92: Data Load Finish, Predict Finish, 3.0329 3.0044 0.042 0.9576 Evaluation Finish\n",
      "93: Data Load Finish, Predict Finish, 2.7871 2.701 0.0377 0.9611 Evaluation Finish\n",
      "94: Data Load Finish, "
     ]
    },
    {
     "name": "stderr",
     "output_type": "stream",
     "text": [
      "/home/vislab/anaconda3/envs/cctv/lib/python3.7/site-packages/pandas/core/arraylike.py:364: RuntimeWarning: divide by zero encountered in log\n",
      "  result = getattr(ufunc, method)(*inputs, **kwargs)\n",
      "/home/vislab/anaconda3/envs/cctv/lib/python3.7/site-packages/statsmodels/base/model.py:606: ConvergenceWarning: Maximum Likelihood optimization failed to converge. Check mle_retvals\n",
      "  ConvergenceWarning)\n"
     ]
    },
    {
     "name": "stdout",
     "output_type": "stream",
     "text": [
      "Predict Finish, 70.5761 70.575 0.986 0.014 Evaluation Finish\n",
      "95: Data Load Finish, Predict Finish, 5.4156 5.3996 0.0754 0.9243 Evaluation Finish\n",
      "96: Data Load Finish, Predict Finish, 10.2455 10.2379 0.143 0.8569 Evaluation Finish\n",
      "97: Data Load Finish, Predict Finish, 3.3899 3.3257 0.0464 0.9526 Evaluation Finish\n",
      "98: Data Load Finish, Predict Finish, 9.9688 9.9613 0.1391 0.8607 Evaluation Finish\n",
      "99: Data Load Finish, Predict Finish, 2.0086 1.9226 0.0268 0.9719 Evaluation Finish\n",
      "100: Data Load Finish, Predict Finish, 5.5006 5.4491 0.0761 0.9232 Evaluation Finish\n",
      "101: Data Load Finish, Predict Finish, 5.4053 5.3853 0.0752 0.9245 Evaluation Finish\n",
      "102: Data Load Finish, "
     ]
    },
    {
     "name": "stderr",
     "output_type": "stream",
     "text": [
      "/home/vislab/anaconda3/envs/cctv/lib/python3.7/site-packages/pandas/core/arraylike.py:364: RuntimeWarning: divide by zero encountered in log\n",
      "  result = getattr(ufunc, method)(*inputs, **kwargs)\n",
      "/home/vislab/anaconda3/envs/cctv/lib/python3.7/site-packages/statsmodels/base/model.py:606: ConvergenceWarning: Maximum Likelihood optimization failed to converge. Check mle_retvals\n",
      "  ConvergenceWarning)\n"
     ]
    },
    {
     "name": "stdout",
     "output_type": "stream",
     "text": [
      "Predict Finish, 70.5761 70.575 0.986 0.014 Evaluation Finish\n",
      "103: Data Load Finish, "
     ]
    },
    {
     "name": "stderr",
     "output_type": "stream",
     "text": [
      "/home/vislab/anaconda3/envs/cctv/lib/python3.7/site-packages/pandas/core/arraylike.py:364: RuntimeWarning: divide by zero encountered in log\n",
      "  result = getattr(ufunc, method)(*inputs, **kwargs)\n",
      "/home/vislab/anaconda3/envs/cctv/lib/python3.7/site-packages/statsmodels/base/model.py:606: ConvergenceWarning: Maximum Likelihood optimization failed to converge. Check mle_retvals\n",
      "  ConvergenceWarning)\n"
     ]
    },
    {
     "name": "stdout",
     "output_type": "stream",
     "text": [
      "Predict Finish, 70.5761 70.575 0.986 0.014 Evaluation Finish\n",
      "104: Data Load Finish, Predict Finish, 8.3921 8.3121 0.1161 0.8828 Evaluation Finish\n",
      "105: Data Load Finish, "
     ]
    },
    {
     "name": "stderr",
     "output_type": "stream",
     "text": [
      "/home/vislab/anaconda3/envs/cctv/lib/python3.7/site-packages/pandas/core/arraylike.py:364: RuntimeWarning: divide by zero encountered in log\n",
      "  result = getattr(ufunc, method)(*inputs, **kwargs)\n",
      "/home/vislab/anaconda3/envs/cctv/lib/python3.7/site-packages/statsmodels/base/model.py:606: ConvergenceWarning: Maximum Likelihood optimization failed to converge. Check mle_retvals\n",
      "  ConvergenceWarning)\n"
     ]
    },
    {
     "name": "stdout",
     "output_type": "stream",
     "text": [
      "Predict Finish, 70.5761 70.575 0.986 0.014 Evaluation Finish\n",
      "106: Data Load Finish, Predict Finish, 4.7962 4.7674 0.0666 0.933 Evaluation Finish\n",
      "107: Data Load Finish, "
     ]
    },
    {
     "name": "stderr",
     "output_type": "stream",
     "text": [
      "/home/vislab/anaconda3/envs/cctv/lib/python3.7/site-packages/pandas/core/arraylike.py:364: RuntimeWarning: divide by zero encountered in log\n",
      "  result = getattr(ufunc, method)(*inputs, **kwargs)\n",
      "/home/vislab/anaconda3/envs/cctv/lib/python3.7/site-packages/statsmodels/base/model.py:606: ConvergenceWarning: Maximum Likelihood optimization failed to converge. Check mle_retvals\n",
      "  ConvergenceWarning)\n"
     ]
    },
    {
     "name": "stdout",
     "output_type": "stream",
     "text": [
      "Predict Finish, 70.5761 70.575 0.986 0.014 Evaluation Finish\n",
      "108: Data Load Finish, Predict Finish, 3.3153 3.2824 0.0458 0.9537 Evaluation Finish\n",
      "109: Data Load Finish, Predict Finish, 0.7199 0.5841 0.0082 0.9899 Evaluation Finish\n",
      "110: Data Load Finish, "
     ]
    },
    {
     "name": "stderr",
     "output_type": "stream",
     "text": [
      "/home/vislab/anaconda3/envs/cctv/lib/python3.7/site-packages/pandas/core/arraylike.py:364: RuntimeWarning: divide by zero encountered in log\n",
      "  result = getattr(ufunc, method)(*inputs, **kwargs)\n",
      "/home/vislab/anaconda3/envs/cctv/lib/python3.7/site-packages/statsmodels/base/model.py:606: ConvergenceWarning: Maximum Likelihood optimization failed to converge. Check mle_retvals\n",
      "  ConvergenceWarning)\n"
     ]
    },
    {
     "name": "stdout",
     "output_type": "stream",
     "text": [
      "Predict Finish, 70.5761 70.575 0.986 0.014 Evaluation Finish\n",
      "111: Data Load Finish, Predict Finish, 3.4971 3.4756 0.0485 0.9511 Evaluation Finish\n",
      "112: Data Load Finish, Predict Finish, 3.5963 3.5666 0.0498 0.9498 Evaluation Finish\n",
      "113: Data Load Finish, Predict Finish, 5.3546 5.3353 0.0745 0.9252 Evaluation Finish\n",
      "114: Data Load Finish, Predict Finish, 4.0656 4.0367 0.0564 0.9432 Evaluation Finish\n",
      "115: Data Load Finish, Predict Finish, 10.3044 10.2973 0.1438 0.856 Evaluation Finish\n",
      "116: Data Load Finish, Predict Finish, 8.3729 8.3604 0.1168 0.883 Evaluation Finish\n",
      "117: Data Load Finish, "
     ]
    },
    {
     "name": "stderr",
     "output_type": "stream",
     "text": [
      "/home/vislab/anaconda3/envs/cctv/lib/python3.7/site-packages/pandas/core/arraylike.py:364: RuntimeWarning: divide by zero encountered in log\n",
      "  result = getattr(ufunc, method)(*inputs, **kwargs)\n",
      "/home/vislab/anaconda3/envs/cctv/lib/python3.7/site-packages/statsmodels/base/model.py:606: ConvergenceWarning: Maximum Likelihood optimization failed to converge. Check mle_retvals\n",
      "  ConvergenceWarning)\n"
     ]
    },
    {
     "name": "stdout",
     "output_type": "stream",
     "text": [
      "Predict Finish, 70.5761 70.575 0.986 0.014 Evaluation Finish\n",
      "118: Data Load Finish, Predict Finish, 2.9701 2.9199 0.0408 0.9585 Evaluation Finish\n",
      "119: Data Load Finish, Predict Finish, 3.8248 3.7995 0.0531 0.9466 Evaluation Finish\n",
      "120: Data Load Finish, Predict Finish, 4.8661 4.8421 0.0676 0.932 Evaluation Finish\n",
      "121: Data Load Finish, "
     ]
    },
    {
     "name": "stderr",
     "output_type": "stream",
     "text": [
      "/home/vislab/anaconda3/envs/cctv/lib/python3.7/site-packages/pandas/core/arraylike.py:364: RuntimeWarning: divide by zero encountered in log\n",
      "  result = getattr(ufunc, method)(*inputs, **kwargs)\n",
      "/home/vislab/anaconda3/envs/cctv/lib/python3.7/site-packages/statsmodels/base/model.py:606: ConvergenceWarning: Maximum Likelihood optimization failed to converge. Check mle_retvals\n",
      "  ConvergenceWarning)\n"
     ]
    },
    {
     "name": "stdout",
     "output_type": "stream",
     "text": [
      "Predict Finish, 70.5761 70.575 0.986 0.014 Evaluation Finish\n",
      "122: Data Load Finish, Predict Finish, 2.5844 2.5205 0.0352 0.9639 Evaluation Finish\n",
      "123: Data Load Finish, Predict Finish, 5.7571 5.7436 0.0802 0.9196 Evaluation Finish\n",
      "124: Data Load Finish, Predict Finish, 3.0138 2.9848 0.0417 0.9579 Evaluation Finish\n",
      "125: Data Load Finish, Predict Finish, 6.1052 6.0932 0.0851 0.9147 Evaluation Finish\n",
      "126: Data Load Finish, Predict Finish, 6.6518 6.6364 0.0927 0.9071 Evaluation Finish\n",
      "127: Data Load Finish, Predict Finish, 7.6519 7.641 0.1067 0.8931 Evaluation Finish\n",
      "128: Data Load Finish, Predict Finish, 4.9628 4.9329 0.0689 0.9307 Evaluation Finish\n",
      "129: Data Load Finish, Predict Finish, 4.16 4.1355 0.0578 0.9419 Evaluation Finish\n",
      "130: Data Load Finish, Predict Finish, 3.8786 3.8254 0.0534 0.9458 Evaluation Finish\n",
      "131: Data Load Finish, Predict Finish, 5.0782 5.0614 0.0707 0.9291 Evaluation Finish\n",
      "132: Data Load Finish, Predict Finish, 6.2558 6.2321 0.087 0.9126 Evaluation Finish\n",
      "133: Data Load Finish, Predict Finish, 9.5009 9.4475 0.132 0.8673 Evaluation Finish\n",
      "134: Data Load Finish, Predict Finish, 8.7284 8.6782 0.1212 0.8781 Evaluation Finish\n",
      "135: Data Load Finish, "
     ]
    },
    {
     "name": "stderr",
     "output_type": "stream",
     "text": [
      "/home/vislab/anaconda3/envs/cctv/lib/python3.7/site-packages/pandas/core/arraylike.py:364: RuntimeWarning: divide by zero encountered in log\n",
      "  result = getattr(ufunc, method)(*inputs, **kwargs)\n",
      "/home/vislab/anaconda3/envs/cctv/lib/python3.7/site-packages/statsmodels/base/model.py:606: ConvergenceWarning: Maximum Likelihood optimization failed to converge. Check mle_retvals\n",
      "  ConvergenceWarning)\n"
     ]
    },
    {
     "name": "stdout",
     "output_type": "stream",
     "text": [
      "Predict Finish, 70.5761 70.575 0.986 0.014 Evaluation Finish\n",
      "136: Data Load Finish, Predict Finish, 0.5206 0.394 0.0055 0.9927 Evaluation Finish\n",
      "137: Data Load Finish, Predict Finish, 4.3609 4.3398 0.0606 0.9391 Evaluation Finish\n",
      "138: Data Load Finish, Predict Finish, 4.75 4.7098 0.0658 0.9336 Evaluation Finish\n",
      "139: Data Load Finish, Predict Finish, 4.8061 4.7881 0.0669 0.9329 Evaluation Finish\n",
      "140: Data Load Finish, "
     ]
    },
    {
     "name": "stderr",
     "output_type": "stream",
     "text": [
      "/home/vislab/anaconda3/envs/cctv/lib/python3.7/site-packages/pandas/core/arraylike.py:364: RuntimeWarning: divide by zero encountered in log\n",
      "  result = getattr(ufunc, method)(*inputs, **kwargs)\n",
      "/home/vislab/anaconda3/envs/cctv/lib/python3.7/site-packages/statsmodels/base/model.py:606: ConvergenceWarning: Maximum Likelihood optimization failed to converge. Check mle_retvals\n",
      "  ConvergenceWarning)\n"
     ]
    },
    {
     "name": "stdout",
     "output_type": "stream",
     "text": [
      "Predict Finish, 70.5761 70.575 0.986 0.014 Evaluation Finish\n",
      "141: Data Load Finish, Predict Finish, 0.7581 0.6489 0.0091 0.9894 Evaluation Finish\n",
      "142: Data Load Finish, Predict Finish, 1.0511 0.9342 0.013 0.9853 Evaluation Finish\n",
      "143: Data Load Finish, "
     ]
    },
    {
     "name": "stderr",
     "output_type": "stream",
     "text": [
      "/home/vislab/anaconda3/envs/cctv/lib/python3.7/site-packages/pandas/core/arraylike.py:364: RuntimeWarning: divide by zero encountered in log\n",
      "  result = getattr(ufunc, method)(*inputs, **kwargs)\n",
      "/home/vislab/anaconda3/envs/cctv/lib/python3.7/site-packages/statsmodels/base/model.py:606: ConvergenceWarning: Maximum Likelihood optimization failed to converge. Check mle_retvals\n",
      "  ConvergenceWarning)\n"
     ]
    },
    {
     "name": "stdout",
     "output_type": "stream",
     "text": [
      "Predict Finish, 70.5761 70.575 0.986 0.014 Evaluation Finish\n",
      "144: Data Load Finish, Predict Finish, 4.5402 4.5083 0.063 0.9366 Evaluation Finish\n",
      "145: Data Load Finish, Predict Finish, 5.9721 5.9578 0.0832 0.9166 Evaluation Finish\n",
      "146: Data Load Finish, Predict Finish, 14.7672 14.3132 0.1999 0.7937 Evaluation Finish\n",
      "147: Data Load Finish, Predict Finish, 6.9577 6.9457 0.097 0.9028 Evaluation Finish\n",
      "148: Data Load Finish, "
     ]
    },
    {
     "name": "stderr",
     "output_type": "stream",
     "text": [
      "/home/vislab/anaconda3/envs/cctv/lib/python3.7/site-packages/pandas/core/arraylike.py:364: RuntimeWarning: divide by zero encountered in log\n",
      "  result = getattr(ufunc, method)(*inputs, **kwargs)\n",
      "/home/vislab/anaconda3/envs/cctv/lib/python3.7/site-packages/statsmodels/base/model.py:606: ConvergenceWarning: Maximum Likelihood optimization failed to converge. Check mle_retvals\n",
      "  ConvergenceWarning)\n"
     ]
    },
    {
     "name": "stdout",
     "output_type": "stream",
     "text": [
      "Predict Finish, 70.5761 70.575 0.986 0.014 Evaluation Finish\n",
      "149: Data Load Finish, Predict Finish, 5.1467 5.1214 0.0715 0.9281 Evaluation Finish\n",
      "150: Data Load Finish, "
     ]
    },
    {
     "name": "stderr",
     "output_type": "stream",
     "text": [
      "/home/vislab/anaconda3/envs/cctv/lib/python3.7/site-packages/pandas/core/arraylike.py:364: RuntimeWarning: divide by zero encountered in log\n",
      "  result = getattr(ufunc, method)(*inputs, **kwargs)\n",
      "/home/vislab/anaconda3/envs/cctv/lib/python3.7/site-packages/statsmodels/base/model.py:606: ConvergenceWarning: Maximum Likelihood optimization failed to converge. Check mle_retvals\n",
      "  ConvergenceWarning)\n"
     ]
    },
    {
     "name": "stdout",
     "output_type": "stream",
     "text": [
      "Predict Finish, 70.5761 70.575 0.986 0.014 Evaluation Finish\n",
      "151: Data Load Finish, "
     ]
    },
    {
     "name": "stderr",
     "output_type": "stream",
     "text": [
      "/home/vislab/anaconda3/envs/cctv/lib/python3.7/site-packages/statsmodels/base/model.py:606: ConvergenceWarning: Maximum Likelihood optimization failed to converge. Check mle_retvals\n",
      "  ConvergenceWarning)\n"
     ]
    },
    {
     "name": "stdout",
     "output_type": "stream",
     "text": [
      "Predict Finish, 6.3191 6.294 0.0879 0.9117 Evaluation Finish\n",
      "152: Data Load Finish, Predict Finish, 12.8679 12.862 0.1797 0.8202 Evaluation Finish\n",
      "153: Data Load Finish, Predict Finish, 2.8594 2.8098 0.0392 0.9601 Evaluation Finish\n",
      "154: Data Load Finish, Predict Finish, 3.4743 3.4477 0.0481 0.9515 Evaluation Finish\n",
      "155: Data Load Finish, Predict Finish, 7.6251 7.6154 0.1064 0.8935 Evaluation Finish\n",
      "156: Data Load Finish, Predict Finish, 2.9829 2.9567 0.0413 0.9583 Evaluation Finish\n",
      "157: Data Load Finish, Predict Finish, 4.5081 4.4815 0.0626 0.937 Evaluation Finish\n",
      "158: Data Load Finish, Predict Finish, 4.5136 4.4398 0.062 0.9369 Evaluation Finish\n",
      "159: Data Load Finish, "
     ]
    },
    {
     "name": "stderr",
     "output_type": "stream",
     "text": [
      "/home/vislab/anaconda3/envs/cctv/lib/python3.7/site-packages/pandas/core/arraylike.py:364: RuntimeWarning: divide by zero encountered in log\n",
      "  result = getattr(ufunc, method)(*inputs, **kwargs)\n",
      "/home/vislab/anaconda3/envs/cctv/lib/python3.7/site-packages/statsmodels/base/model.py:606: ConvergenceWarning: Maximum Likelihood optimization failed to converge. Check mle_retvals\n",
      "  ConvergenceWarning)\n"
     ]
    },
    {
     "name": "stdout",
     "output_type": "stream",
     "text": [
      "Predict Finish, 70.5761 70.575 0.986 0.014 Evaluation Finish\n",
      "160: Data Load Finish, Predict Finish, 7.6773 7.6678 0.1071 0.8927 Evaluation Finish\n",
      "161: Data Load Finish, "
     ]
    },
    {
     "name": "stderr",
     "output_type": "stream",
     "text": [
      "/home/vislab/anaconda3/envs/cctv/lib/python3.7/site-packages/pandas/core/arraylike.py:364: RuntimeWarning: divide by zero encountered in log\n",
      "  result = getattr(ufunc, method)(*inputs, **kwargs)\n",
      "/home/vislab/anaconda3/envs/cctv/lib/python3.7/site-packages/statsmodels/base/model.py:606: ConvergenceWarning: Maximum Likelihood optimization failed to converge. Check mle_retvals\n",
      "  ConvergenceWarning)\n"
     ]
    },
    {
     "name": "stdout",
     "output_type": "stream",
     "text": [
      "Predict Finish, 70.5761 70.575 0.986 0.014 Evaluation Finish\n",
      "162: Data Load Finish, Predict Finish, 8.9361 8.9247 0.1247 0.8752 Evaluation Finish\n",
      "163: Data Load Finish, Predict Finish, 4.3865 4.3467 0.0607 0.9387 Evaluation Finish\n",
      "164: Data Load Finish, Predict Finish, 2.9454 2.8884 0.0403 0.9588 Evaluation Finish\n",
      "165: Data Load Finish, Predict Finish, 0.6778 0.5685 0.008 0.9905 Evaluation Finish\n",
      "166: Data Load Finish, Predict Finish, 4.3184 4.2931 0.06 0.9397 Evaluation Finish\n",
      "167: Data Load Finish, Predict Finish, 7.529 7.5158 0.105 0.8948 Evaluation Finish\n",
      "168: Data Load Finish, Predict Finish, 1.7153 1.5486 0.0216 0.976 Evaluation Finish\n",
      "169: Data Load Finish, Predict Finish, 1.9835 1.772 0.0247 0.9723 Evaluation Finish\n",
      "170: Data Load Finish, Predict Finish, 6.2791 6.2652 0.0875 0.9123 Evaluation Finish\n",
      "171: Data Load Finish, Predict Finish, 7.5394 7.5292 0.1052 0.8947 Evaluation Finish\n",
      "172: Data Load Finish, "
     ]
    },
    {
     "name": "stderr",
     "output_type": "stream",
     "text": [
      "/home/vislab/anaconda3/envs/cctv/lib/python3.7/site-packages/pandas/core/arraylike.py:364: RuntimeWarning: divide by zero encountered in log\n",
      "  result = getattr(ufunc, method)(*inputs, **kwargs)\n",
      "/home/vislab/anaconda3/envs/cctv/lib/python3.7/site-packages/statsmodels/base/model.py:606: ConvergenceWarning: Maximum Likelihood optimization failed to converge. Check mle_retvals\n",
      "  ConvergenceWarning)\n"
     ]
    },
    {
     "name": "stdout",
     "output_type": "stream",
     "text": [
      "Predict Finish, 70.5761 70.575 0.986 0.014 Evaluation Finish\n",
      "173: Data Load Finish, Predict Finish, 2.9765 2.9454 0.0411 0.9584 Evaluation Finish\n",
      "174: Data Load Finish, Predict Finish, 1.609 1.3817 0.0193 0.9775 Evaluation Finish\n",
      "175: Data Load Finish, Predict Finish, 2.7458 2.7056 0.0378 0.9616 Evaluation Finish\n",
      "176: Data Load Finish, Predict Finish, 9.1748 9.1567 0.1279 0.8718 Evaluation Finish\n",
      "177: Data Load Finish, "
     ]
    },
    {
     "name": "stderr",
     "output_type": "stream",
     "text": [
      "/home/vislab/anaconda3/envs/cctv/lib/python3.7/site-packages/statsmodels/base/model.py:606: ConvergenceWarning: Maximum Likelihood optimization failed to converge. Check mle_retvals\n",
      "  ConvergenceWarning)\n"
     ]
    },
    {
     "name": "stdout",
     "output_type": "stream",
     "text": [
      "Predict Finish, 3.9499 3.9313 0.0549 0.9448 Evaluation Finish\n",
      "178: Data Load Finish, Predict Finish, 1.5799 1.4511 0.0203 0.9779 Evaluation Finish\n",
      "179: Data Load Finish, Predict Finish, 2.1978 2.1503 0.03 0.9693 Evaluation Finish\n",
      "180: Data Load Finish, "
     ]
    },
    {
     "name": "stderr",
     "output_type": "stream",
     "text": [
      "/home/vislab/anaconda3/envs/cctv/lib/python3.7/site-packages/pandas/core/arraylike.py:364: RuntimeWarning: divide by zero encountered in log\n",
      "  result = getattr(ufunc, method)(*inputs, **kwargs)\n",
      "/home/vislab/anaconda3/envs/cctv/lib/python3.7/site-packages/statsmodels/base/model.py:606: ConvergenceWarning: Maximum Likelihood optimization failed to converge. Check mle_retvals\n",
      "  ConvergenceWarning)\n"
     ]
    },
    {
     "name": "stdout",
     "output_type": "stream",
     "text": [
      "Predict Finish, 70.5761 70.575 0.986 0.014 Evaluation Finish\n",
      "181: Data Load Finish, "
     ]
    },
    {
     "name": "stderr",
     "output_type": "stream",
     "text": [
      "/home/vislab/anaconda3/envs/cctv/lib/python3.7/site-packages/pandas/core/arraylike.py:364: RuntimeWarning: divide by zero encountered in log\n",
      "  result = getattr(ufunc, method)(*inputs, **kwargs)\n",
      "/home/vislab/anaconda3/envs/cctv/lib/python3.7/site-packages/statsmodels/base/model.py:606: ConvergenceWarning: Maximum Likelihood optimization failed to converge. Check mle_retvals\n",
      "  ConvergenceWarning)\n"
     ]
    },
    {
     "name": "stdout",
     "output_type": "stream",
     "text": [
      "Predict Finish, 70.5761 70.575 0.986 0.014 Evaluation Finish\n",
      "182: Data Load Finish, Predict Finish, 1.158 1.0357 0.0144 0.9838 Evaluation Finish\n",
      "183: Data Load Finish, "
     ]
    },
    {
     "name": "stderr",
     "output_type": "stream",
     "text": [
      "/home/vislab/anaconda3/envs/cctv/lib/python3.7/site-packages/statsmodels/base/model.py:606: ConvergenceWarning: Maximum Likelihood optimization failed to converge. Check mle_retvals\n",
      "  ConvergenceWarning)\n"
     ]
    },
    {
     "name": "stdout",
     "output_type": "stream",
     "text": [
      "Predict Finish, 5.4511 5.4028 0.0755 0.9238 Evaluation Finish\n",
      "184: Data Load Finish, Predict Finish, 5.1621 5.1424 0.0718 0.9279 Evaluation Finish\n",
      "185: Data Load Finish, Predict Finish, 4.9841 4.9559 0.0692 0.9304 Evaluation Finish\n",
      "186: Data Load Finish, Predict Finish, 4.0168 3.9862 0.0557 0.9439 Evaluation Finish\n",
      "187: Data Load Finish, Predict Finish, 4.6328 4.6135 0.0644 0.9353 Evaluation Finish\n",
      "188: Data Load Finish, Predict Finish, 4.2788 4.2547 0.0594 0.9402 Evaluation Finish\n",
      "189: Data Load Finish, Predict Finish, 2.7675 2.7095 0.0378 0.9613 Evaluation Finish\n",
      "190: Data Load Finish, Predict Finish, 3.7651 3.7431 0.0523 0.9474 Evaluation Finish\n",
      "191: Data Load Finish, Predict Finish, 4.5511 4.529 0.0633 0.9364 Evaluation Finish\n",
      "192: Data Load Finish, Predict Finish, 4.0936 4.0564 0.0567 0.9428 Evaluation Finish\n",
      "193: Data Load Finish, Predict Finish, 0.7299 0.6195 0.0086 0.9898 Evaluation Finish\n",
      "194: Data Load Finish, Predict Finish, 4.2288 4.1952 0.0586 0.9409 Evaluation Finish\n",
      "195: Data Load Finish, Predict Finish, 4.1002 4.0705 0.0568 0.9427 Evaluation Finish\n",
      "196: Data Load Finish, Predict Finish, 0.8849 0.7683 0.0107 0.9876 Evaluation Finish\n",
      "197: Data Load Finish, Predict Finish, 4.8754 4.8562 0.0678 0.9319 Evaluation Finish\n",
      "198: Data Load Finish, Predict Finish, 5.2302 5.1151 0.0714 0.9269 Evaluation Finish\n",
      "199: Data Load Finish, "
     ]
    },
    {
     "name": "stderr",
     "output_type": "stream",
     "text": [
      "/home/vislab/anaconda3/envs/cctv/lib/python3.7/site-packages/pandas/core/arraylike.py:364: RuntimeWarning: divide by zero encountered in log\n",
      "  result = getattr(ufunc, method)(*inputs, **kwargs)\n",
      "/home/vislab/anaconda3/envs/cctv/lib/python3.7/site-packages/statsmodels/base/model.py:606: ConvergenceWarning: Maximum Likelihood optimization failed to converge. Check mle_retvals\n",
      "  ConvergenceWarning)\n"
     ]
    },
    {
     "name": "stdout",
     "output_type": "stream",
     "text": [
      "Predict Finish, 70.5761 70.575 0.986 0.014 Evaluation Finish\n",
      "200: Data Load Finish, "
     ]
    },
    {
     "name": "stderr",
     "output_type": "stream",
     "text": [
      "/home/vislab/anaconda3/envs/cctv/lib/python3.7/site-packages/pandas/core/arraylike.py:364: RuntimeWarning: divide by zero encountered in log\n",
      "  result = getattr(ufunc, method)(*inputs, **kwargs)\n",
      "/home/vislab/anaconda3/envs/cctv/lib/python3.7/site-packages/statsmodels/base/model.py:606: ConvergenceWarning: Maximum Likelihood optimization failed to converge. Check mle_retvals\n",
      "  ConvergenceWarning)\n"
     ]
    },
    {
     "name": "stdout",
     "output_type": "stream",
     "text": [
      "Predict Finish, 70.5761 70.575 0.986 0.014 Evaluation Finish\n",
      "201: Data Load Finish, Predict Finish, 4.7048 4.6708 0.0652 0.9343 Evaluation Finish\n",
      "202: Data Load Finish, "
     ]
    },
    {
     "name": "stderr",
     "output_type": "stream",
     "text": [
      "/home/vislab/anaconda3/envs/cctv/lib/python3.7/site-packages/statsmodels/base/model.py:606: ConvergenceWarning: Maximum Likelihood optimization failed to converge. Check mle_retvals\n",
      "  ConvergenceWarning)\n"
     ]
    },
    {
     "name": "stdout",
     "output_type": "stream",
     "text": [
      "Predict Finish, 6.6484 6.6273 0.0926 0.9071 Evaluation Finish\n",
      "203: Data Load Finish, Predict Finish, 6.57 6.5518 0.0915 0.9082 Evaluation Finish\n",
      "204: Data Load Finish, Predict Finish, 6.8877 6.8693 0.096 0.9038 Evaluation Finish\n",
      "205: Data Load Finish, Predict Finish, 7.3718 7.359 0.1028 0.897 Evaluation Finish\n",
      "206: Data Load Finish, Predict Finish, 5.4089 5.3895 0.0753 0.9244 Evaluation Finish\n",
      "207: Data Load Finish, Predict Finish, 2.528 2.3887 0.0334 0.9647 Evaluation Finish\n",
      "208: Data Load Finish, "
     ]
    },
    {
     "name": "stderr",
     "output_type": "stream",
     "text": [
      "/home/vislab/anaconda3/envs/cctv/lib/python3.7/site-packages/pandas/core/arraylike.py:364: RuntimeWarning: divide by zero encountered in log\n",
      "  result = getattr(ufunc, method)(*inputs, **kwargs)\n",
      "/home/vislab/anaconda3/envs/cctv/lib/python3.7/site-packages/statsmodels/base/model.py:606: ConvergenceWarning: Maximum Likelihood optimization failed to converge. Check mle_retvals\n",
      "  ConvergenceWarning)\n"
     ]
    },
    {
     "name": "stdout",
     "output_type": "stream",
     "text": [
      "Predict Finish, 70.5761 70.575 0.986 0.014 Evaluation Finish\n",
      "209: Data Load Finish, Predict Finish, 5.1209 5.0953 0.0712 0.9285 Evaluation Finish\n",
      "210: Data Load Finish, "
     ]
    },
    {
     "name": "stderr",
     "output_type": "stream",
     "text": [
      "/home/vislab/anaconda3/envs/cctv/lib/python3.7/site-packages/pandas/core/arraylike.py:364: RuntimeWarning: divide by zero encountered in log\n",
      "  result = getattr(ufunc, method)(*inputs, **kwargs)\n",
      "/home/vislab/anaconda3/envs/cctv/lib/python3.7/site-packages/statsmodels/base/model.py:606: ConvergenceWarning: Maximum Likelihood optimization failed to converge. Check mle_retvals\n",
      "  ConvergenceWarning)\n"
     ]
    },
    {
     "name": "stdout",
     "output_type": "stream",
     "text": [
      "Predict Finish, 70.5761 70.575 0.986 0.014 Evaluation Finish\n",
      "211: Data Load Finish, Predict Finish, 5.8864 5.873 0.082 0.9178 Evaluation Finish\n",
      "212: Data Load Finish, "
     ]
    },
    {
     "name": "stderr",
     "output_type": "stream",
     "text": [
      "/home/vislab/anaconda3/envs/cctv/lib/python3.7/site-packages/pandas/core/arraylike.py:364: RuntimeWarning: divide by zero encountered in log\n",
      "  result = getattr(ufunc, method)(*inputs, **kwargs)\n",
      "/home/vislab/anaconda3/envs/cctv/lib/python3.7/site-packages/statsmodels/base/model.py:606: ConvergenceWarning: Maximum Likelihood optimization failed to converge. Check mle_retvals\n",
      "  ConvergenceWarning)\n"
     ]
    },
    {
     "name": "stdout",
     "output_type": "stream",
     "text": [
      "Predict Finish, 70.5761 70.575 0.986 0.014 Evaluation Finish\n",
      "213: Data Load Finish, Predict Finish, 6.5448 6.5335 0.0913 0.9086 Evaluation Finish\n",
      "214: Data Load Finish, Predict Finish, 7.5157 7.504 0.1048 0.895 Evaluation Finish\n",
      "215: Data Load Finish, Predict Finish, 8.6216 8.6123 0.1203 0.8795 Evaluation Finish\n",
      "216: Data Load Finish, Predict Finish, 5.8055 5.7906 0.0809 0.9189 Evaluation Finish\n",
      "217: Data Load Finish, Predict Finish, 4.665 4.645 0.0649 0.9348 Evaluation Finish\n",
      "218: Data Load Finish, Predict Finish, 7.1317 7.121 0.0995 0.9004 Evaluation Finish\n",
      "219: Data Load Finish, Predict Finish, 4.8681 4.8489 0.0677 0.932 Evaluation Finish\n",
      "220: Data Load Finish, Predict Finish, 4.3839 4.3659 0.061 0.9388 Evaluation Finish\n",
      "221: Data Load Finish, Predict Finish, 6.2602 6.2454 0.0872 0.9125 Evaluation Finish\n",
      "222: Data Load Finish, Predict Finish, 7.3875 7.3776 0.103 0.8968 Evaluation Finish\n",
      "223: Data Load Finish, Predict Finish, 6.7855 6.7729 0.0946 0.9052 Evaluation Finish\n",
      "224: Data Load Finish, Predict Finish, 7.4661 7.4538 0.1041 0.8957 Evaluation Finish\n",
      "225: Data Load Finish, Predict Finish, 6.8147 6.8018 0.095 0.9048 Evaluation Finish\n",
      "226: Data Load Finish, Predict Finish, 4.6865 4.6499 0.0649 0.9345 Evaluation Finish\n",
      "227: Data Load Finish, Predict Finish, 5.6903 5.6632 0.0791 0.9205 Evaluation Finish\n",
      "228: Data Load Finish, Predict Finish, 3.5704 3.5406 0.0494 0.9501 Evaluation Finish\n",
      "229: Data Load Finish, Predict Finish, 2.4517 2.3772 0.0332 0.9657 Evaluation Finish\n",
      "230: Data Load Finish, Predict Finish, 0.8941 0.7521 0.0105 0.9875 Evaluation Finish\n",
      "231: Data Load Finish, "
     ]
    },
    {
     "name": "stderr",
     "output_type": "stream",
     "text": [
      "/home/vislab/anaconda3/envs/cctv/lib/python3.7/site-packages/pandas/core/arraylike.py:364: RuntimeWarning: divide by zero encountered in log\n",
      "  result = getattr(ufunc, method)(*inputs, **kwargs)\n",
      "/home/vislab/anaconda3/envs/cctv/lib/python3.7/site-packages/statsmodels/base/model.py:606: ConvergenceWarning: Maximum Likelihood optimization failed to converge. Check mle_retvals\n",
      "  ConvergenceWarning)\n"
     ]
    },
    {
     "name": "stdout",
     "output_type": "stream",
     "text": [
      "Predict Finish, 70.5761 70.575 0.986 0.014 Evaluation Finish\n",
      "232: Data Load Finish, Predict Finish, 3.9666 3.9124 0.0547 0.9446 Evaluation Finish\n",
      "233: Data Load Finish, Predict Finish, 1.8782 1.8263 0.0255 0.9738 Evaluation Finish\n",
      "234: Data Load Finish, Predict Finish, 10.5754 10.5561 0.1475 0.8522 Evaluation Finish\n",
      "235: Data Load Finish, Predict Finish, 2.6122 2.5514 0.0356 0.9635 Evaluation Finish\n",
      "236: Data Load Finish, Predict Finish, 2.9945 2.9588 0.0413 0.9582 Evaluation Finish\n",
      "237: Data Load Finish, Predict Finish, 2.8467 2.8049 0.0392 0.9602 Evaluation Finish\n",
      "238: Data Load Finish, Predict Finish, 7.2076 7.1971 0.1005 0.8993 Evaluation Finish\n",
      "239: Data Load Finish, Predict Finish, 6.1371 6.1247 0.0855 0.9143 Evaluation Finish\n",
      "240: Data Load Finish, Predict Finish, 7.3728 7.3627 0.1028 0.897 Evaluation Finish\n",
      "241: Data Load Finish, Predict Finish, 8.4015 8.39 0.1172 0.8826 Evaluation Finish\n",
      "242: Data Load Finish, Predict Finish, 3.3042 3.2814 0.0458 0.9538 Evaluation Finish\n",
      "243: Data Load Finish, Predict Finish, 4.8225 4.764 0.0665 0.9326 Evaluation Finish\n",
      "244: Data Load Finish, Predict Finish, 3.8391 3.8057 0.0531 0.9464 Evaluation Finish\n",
      "245: Data Load Finish, Predict Finish, 3.6616 3.6195 0.0505 0.9488 Evaluation Finish\n",
      "246: Data Load Finish, Predict Finish, 5.7549 5.7391 0.0802 0.9196 Evaluation Finish\n",
      "247: Data Load Finish, "
     ]
    },
    {
     "name": "stderr",
     "output_type": "stream",
     "text": [
      "/home/vislab/anaconda3/envs/cctv/lib/python3.7/site-packages/pandas/core/arraylike.py:364: RuntimeWarning: divide by zero encountered in log\n",
      "  result = getattr(ufunc, method)(*inputs, **kwargs)\n",
      "/home/vislab/anaconda3/envs/cctv/lib/python3.7/site-packages/statsmodels/base/model.py:606: ConvergenceWarning: Maximum Likelihood optimization failed to converge. Check mle_retvals\n",
      "  ConvergenceWarning)\n"
     ]
    },
    {
     "name": "stdout",
     "output_type": "stream",
     "text": [
      "Predict Finish, 70.5761 70.575 0.986 0.014 Evaluation Finish\n",
      "248: Data Load Finish, "
     ]
    },
    {
     "name": "stderr",
     "output_type": "stream",
     "text": [
      "/home/vislab/anaconda3/envs/cctv/lib/python3.7/site-packages/pandas/core/arraylike.py:364: RuntimeWarning: divide by zero encountered in log\n",
      "  result = getattr(ufunc, method)(*inputs, **kwargs)\n",
      "/home/vislab/anaconda3/envs/cctv/lib/python3.7/site-packages/statsmodels/base/model.py:606: ConvergenceWarning: Maximum Likelihood optimization failed to converge. Check mle_retvals\n",
      "  ConvergenceWarning)\n"
     ]
    },
    {
     "name": "stdout",
     "output_type": "stream",
     "text": [
      "Predict Finish, 70.5761 70.575 0.986 0.014 Evaluation Finish\n",
      "249: Data Load Finish, "
     ]
    },
    {
     "name": "stderr",
     "output_type": "stream",
     "text": [
      "/home/vislab/anaconda3/envs/cctv/lib/python3.7/site-packages/pandas/core/arraylike.py:364: RuntimeWarning: divide by zero encountered in log\n",
      "  result = getattr(ufunc, method)(*inputs, **kwargs)\n",
      "/home/vislab/anaconda3/envs/cctv/lib/python3.7/site-packages/statsmodels/base/model.py:606: ConvergenceWarning: Maximum Likelihood optimization failed to converge. Check mle_retvals\n",
      "  ConvergenceWarning)\n"
     ]
    },
    {
     "name": "stdout",
     "output_type": "stream",
     "text": [
      "Predict Finish, 70.5761 70.575 0.986 0.014 Evaluation Finish\n",
      "250: Data Load Finish, Predict Finish, 4.1637 4.123 0.0576 0.9418 Evaluation Finish\n",
      "251: Data Load Finish, Predict Finish, 7.5584 7.5447 0.1054 0.8944 Evaluation Finish\n",
      "252: Data Load Finish, "
     ]
    },
    {
     "name": "stderr",
     "output_type": "stream",
     "text": [
      "/home/vislab/anaconda3/envs/cctv/lib/python3.7/site-packages/pandas/core/arraylike.py:364: RuntimeWarning: divide by zero encountered in log\n",
      "  result = getattr(ufunc, method)(*inputs, **kwargs)\n",
      "/home/vislab/anaconda3/envs/cctv/lib/python3.7/site-packages/statsmodels/base/model.py:606: ConvergenceWarning: Maximum Likelihood optimization failed to converge. Check mle_retvals\n",
      "  ConvergenceWarning)\n"
     ]
    },
    {
     "name": "stdout",
     "output_type": "stream",
     "text": [
      "Predict Finish, 70.5761 70.575 0.986 0.014 Evaluation Finish\n",
      "253: Data Load Finish, "
     ]
    },
    {
     "name": "stderr",
     "output_type": "stream",
     "text": [
      "/home/vislab/anaconda3/envs/cctv/lib/python3.7/site-packages/pandas/core/arraylike.py:364: RuntimeWarning: divide by zero encountered in log\n",
      "  result = getattr(ufunc, method)(*inputs, **kwargs)\n",
      "/home/vislab/anaconda3/envs/cctv/lib/python3.7/site-packages/statsmodels/base/model.py:606: ConvergenceWarning: Maximum Likelihood optimization failed to converge. Check mle_retvals\n",
      "  ConvergenceWarning)\n"
     ]
    },
    {
     "name": "stdout",
     "output_type": "stream",
     "text": [
      "Predict Finish, 70.5761 70.575 0.986 0.014 Evaluation Finish\n",
      "254: Data Load Finish, "
     ]
    },
    {
     "name": "stderr",
     "output_type": "stream",
     "text": [
      "/home/vislab/anaconda3/envs/cctv/lib/python3.7/site-packages/pandas/core/arraylike.py:364: RuntimeWarning: divide by zero encountered in log\n",
      "  result = getattr(ufunc, method)(*inputs, **kwargs)\n",
      "/home/vislab/anaconda3/envs/cctv/lib/python3.7/site-packages/statsmodels/base/model.py:606: ConvergenceWarning: Maximum Likelihood optimization failed to converge. Check mle_retvals\n",
      "  ConvergenceWarning)\n"
     ]
    },
    {
     "name": "stdout",
     "output_type": "stream",
     "text": [
      "Predict Finish, 70.5761 70.575 0.986 0.014 Evaluation Finish\n",
      "255: Data Load Finish, "
     ]
    },
    {
     "name": "stderr",
     "output_type": "stream",
     "text": [
      "/home/vislab/anaconda3/envs/cctv/lib/python3.7/site-packages/pandas/core/arraylike.py:364: RuntimeWarning: divide by zero encountered in log\n",
      "  result = getattr(ufunc, method)(*inputs, **kwargs)\n",
      "/home/vislab/anaconda3/envs/cctv/lib/python3.7/site-packages/statsmodels/base/model.py:606: ConvergenceWarning: Maximum Likelihood optimization failed to converge. Check mle_retvals\n",
      "  ConvergenceWarning)\n"
     ]
    },
    {
     "name": "stdout",
     "output_type": "stream",
     "text": [
      "Predict Finish, 70.5761 70.575 0.986 0.014 Evaluation Finish\n",
      "256: Data Load Finish, Predict Finish, 4.3489 4.3153 0.0603 0.9392 Evaluation Finish\n",
      "257: Data Load Finish, Predict Finish, 1.047 0.9285 0.0129 0.9854 Evaluation Finish\n",
      "258: Data Load Finish, Predict Finish, 3.2836 3.2407 0.0453 0.9541 Evaluation Finish\n",
      "259: Data Load Finish, Predict Finish, 3.2618 3.2096 0.0448 0.9544 Evaluation Finish\n",
      "260: Data Load Finish, Predict Finish, 4.1205 4.1023 0.0573 0.9424 Evaluation Finish\n",
      "261: Data Load Finish, "
     ]
    },
    {
     "name": "stderr",
     "output_type": "stream",
     "text": [
      "/home/vislab/anaconda3/envs/cctv/lib/python3.7/site-packages/pandas/core/arraylike.py:364: RuntimeWarning: divide by zero encountered in log\n",
      "  result = getattr(ufunc, method)(*inputs, **kwargs)\n",
      "/home/vislab/anaconda3/envs/cctv/lib/python3.7/site-packages/statsmodels/base/model.py:606: ConvergenceWarning: Maximum Likelihood optimization failed to converge. Check mle_retvals\n",
      "  ConvergenceWarning)\n"
     ]
    },
    {
     "name": "stdout",
     "output_type": "stream",
     "text": [
      "Predict Finish, 70.5761 70.575 0.986 0.014 Evaluation Finish\n",
      "262: Data Load Finish, Predict Finish, 3.8241 3.8014 0.0531 0.9466 Evaluation Finish\n",
      "263: Data Load Finish, "
     ]
    },
    {
     "name": "stderr",
     "output_type": "stream",
     "text": [
      "/home/vislab/anaconda3/envs/cctv/lib/python3.7/site-packages/pandas/core/arraylike.py:364: RuntimeWarning: divide by zero encountered in log\n",
      "  result = getattr(ufunc, method)(*inputs, **kwargs)\n",
      "/home/vislab/anaconda3/envs/cctv/lib/python3.7/site-packages/statsmodels/base/model.py:606: ConvergenceWarning: Maximum Likelihood optimization failed to converge. Check mle_retvals\n",
      "  ConvergenceWarning)\n"
     ]
    },
    {
     "name": "stdout",
     "output_type": "stream",
     "text": [
      "Predict Finish, 70.5761 70.575 0.986 0.014 Evaluation Finish\n",
      "264: Data Load Finish, "
     ]
    },
    {
     "name": "stderr",
     "output_type": "stream",
     "text": [
      "/home/vislab/anaconda3/envs/cctv/lib/python3.7/site-packages/pandas/core/arraylike.py:364: RuntimeWarning: divide by zero encountered in log\n",
      "  result = getattr(ufunc, method)(*inputs, **kwargs)\n",
      "/home/vislab/anaconda3/envs/cctv/lib/python3.7/site-packages/statsmodels/base/model.py:606: ConvergenceWarning: Maximum Likelihood optimization failed to converge. Check mle_retvals\n",
      "  ConvergenceWarning)\n"
     ]
    },
    {
     "name": "stdout",
     "output_type": "stream",
     "text": [
      "Predict Finish, 70.5761 70.575 0.986 0.014 Evaluation Finish\n",
      "265: Data Load Finish, Predict Finish, 3.1474 3.1075 0.0434 0.956 Evaluation Finish\n",
      "266: Data Load Finish, "
     ]
    },
    {
     "name": "stderr",
     "output_type": "stream",
     "text": [
      "/home/vislab/anaconda3/envs/cctv/lib/python3.7/site-packages/pandas/core/arraylike.py:364: RuntimeWarning: divide by zero encountered in log\n",
      "  result = getattr(ufunc, method)(*inputs, **kwargs)\n",
      "/home/vislab/anaconda3/envs/cctv/lib/python3.7/site-packages/statsmodels/base/model.py:606: ConvergenceWarning: Maximum Likelihood optimization failed to converge. Check mle_retvals\n",
      "  ConvergenceWarning)\n"
     ]
    },
    {
     "name": "stdout",
     "output_type": "stream",
     "text": [
      "Predict Finish, 70.5761 70.575 0.986 0.014 Evaluation Finish\n",
      "267: Data Load Finish, Predict Finish, 3.6584 3.634 0.0507 0.9489 Evaluation Finish\n",
      "268: Data Load Finish, "
     ]
    },
    {
     "name": "stderr",
     "output_type": "stream",
     "text": [
      "/home/vislab/anaconda3/envs/cctv/lib/python3.7/site-packages/pandas/core/arraylike.py:364: RuntimeWarning: divide by zero encountered in log\n",
      "  result = getattr(ufunc, method)(*inputs, **kwargs)\n",
      "/home/vislab/anaconda3/envs/cctv/lib/python3.7/site-packages/statsmodels/base/model.py:606: ConvergenceWarning: Maximum Likelihood optimization failed to converge. Check mle_retvals\n",
      "  ConvergenceWarning)\n"
     ]
    },
    {
     "name": "stdout",
     "output_type": "stream",
     "text": [
      "Predict Finish, 70.5761 70.575 0.986 0.014 Evaluation Finish\n",
      "269: Data Load Finish, "
     ]
    },
    {
     "name": "stderr",
     "output_type": "stream",
     "text": [
      "/home/vislab/anaconda3/envs/cctv/lib/python3.7/site-packages/pandas/core/arraylike.py:364: RuntimeWarning: divide by zero encountered in log\n",
      "  result = getattr(ufunc, method)(*inputs, **kwargs)\n",
      "/home/vislab/anaconda3/envs/cctv/lib/python3.7/site-packages/statsmodels/base/model.py:606: ConvergenceWarning: Maximum Likelihood optimization failed to converge. Check mle_retvals\n",
      "  ConvergenceWarning)\n"
     ]
    },
    {
     "name": "stdout",
     "output_type": "stream",
     "text": [
      "Predict Finish, 70.5761 70.575 0.986 0.014 Evaluation Finish\n",
      "270: Data Load Finish, Predict Finish, 4.9819 4.9584 0.0693 0.9304 Evaluation Finish\n",
      "271: Data Load Finish, Predict Finish, 4.9103 4.891 0.0683 0.9314 Evaluation Finish\n",
      "272: Data Load Finish, Predict Finish, 2.9661 2.8754 0.0402 0.9586 Evaluation Finish\n",
      "273: Data Load Finish, Predict Finish, 6.8792 6.8658 0.0959 0.9039 Evaluation Finish\n",
      "274: Data Load Finish, Predict Finish, 2.8017 2.7132 0.0379 0.9609 Evaluation Finish\n",
      "275: Data Load Finish, Predict Finish, 3.6593 3.5313 0.0493 0.9489 Evaluation Finish\n",
      "276: Data Load Finish, Predict Finish, 3.3484 3.3097 0.0462 0.9532 Evaluation Finish\n",
      "277: Data Load Finish, Predict Finish, 3.8263 3.7844 0.0528 0.9465 Evaluation Finish\n",
      "278: Data Load Finish, Predict Finish, 5.6085 5.5911 0.0781 0.9216 Evaluation Finish\n",
      "279: Data Load Finish, Predict Finish, 2.9055 2.8367 0.0396 0.9594 Evaluation Finish\n",
      "280: Data Load Finish, Predict Finish, 3.6922 3.6513 0.051 0.9484 Evaluation Finish\n",
      "281: Data Load Finish, Predict Finish, 2.2034 2.1415 0.0299 0.9692 Evaluation Finish\n",
      "282: Data Load Finish, Predict Finish, 8.3638 8.355 0.1167 0.8831 Evaluation Finish\n",
      "283: Data Load Finish, Predict Finish, 30.1915 30.0823 0.4203 0.5782 Evaluation Finish\n",
      "284: Data Load Finish, "
     ]
    },
    {
     "name": "stderr",
     "output_type": "stream",
     "text": [
      "/home/vislab/anaconda3/envs/cctv/lib/python3.7/site-packages/pandas/core/arraylike.py:364: RuntimeWarning: divide by zero encountered in log\n",
      "  result = getattr(ufunc, method)(*inputs, **kwargs)\n",
      "/home/vislab/anaconda3/envs/cctv/lib/python3.7/site-packages/statsmodels/base/model.py:606: ConvergenceWarning: Maximum Likelihood optimization failed to converge. Check mle_retvals\n",
      "  ConvergenceWarning)\n"
     ]
    },
    {
     "name": "stdout",
     "output_type": "stream",
     "text": [
      "Predict Finish, 70.5761 70.575 0.986 0.014 Evaluation Finish\n",
      "285: Data Load Finish, "
     ]
    },
    {
     "name": "stderr",
     "output_type": "stream",
     "text": [
      "/home/vislab/anaconda3/envs/cctv/lib/python3.7/site-packages/statsmodels/base/model.py:606: ConvergenceWarning: Maximum Likelihood optimization failed to converge. Check mle_retvals\n",
      "  ConvergenceWarning)\n"
     ]
    },
    {
     "name": "stdout",
     "output_type": "stream",
     "text": [
      "Predict Finish, 5.1464 5.1213 0.0715 0.9281 Evaluation Finish\n",
      "286: Data Load Finish, Predict Finish, 4.3133 4.288 0.0599 0.9397 Evaluation Finish\n",
      "287: Data Load Finish, Predict Finish, 5.0149 4.9762 0.0695 0.9299 Evaluation Finish\n",
      "288: Data Load Finish, Predict Finish, 4.5324 4.5127 0.063 0.9367 Evaluation Finish\n",
      "289: Data Load Finish, Predict Finish, 5.5136 5.4937 0.0767 0.923 Evaluation Finish\n",
      "290: Data Load Finish, Predict Finish, 3.5067 3.4717 0.0485 0.951 Evaluation Finish\n",
      "291: Data Load Finish, Predict Finish, 7.4046 7.3869 0.1032 0.8965 Evaluation Finish\n",
      "292: Data Load Finish, Predict Finish, 8.8586 8.5403 0.1193 0.8762 Evaluation Finish\n",
      "293: Data Load Finish, Predict Finish, 8.7906 8.6856 0.1213 0.8772 Evaluation Finish\n",
      "294: Data Load Finish, Predict Finish, 3.8348 3.8016 0.0531 0.9464 Evaluation Finish\n",
      "295: Data Load Finish, Predict Finish, 9.534 9.5118 0.1329 0.8668 Evaluation Finish\n",
      "296: Data Load Finish, "
     ]
    },
    {
     "name": "stderr",
     "output_type": "stream",
     "text": [
      "/home/vislab/anaconda3/envs/cctv/lib/python3.7/site-packages/pandas/core/arraylike.py:364: RuntimeWarning: divide by zero encountered in log\n",
      "  result = getattr(ufunc, method)(*inputs, **kwargs)\n",
      "/home/vislab/anaconda3/envs/cctv/lib/python3.7/site-packages/statsmodels/base/model.py:606: ConvergenceWarning: Maximum Likelihood optimization failed to converge. Check mle_retvals\n",
      "  ConvergenceWarning)\n"
     ]
    },
    {
     "name": "stdout",
     "output_type": "stream",
     "text": [
      "Predict Finish, 70.5761 70.575 0.986 0.014 Evaluation Finish\n",
      "297: Data Load Finish, Predict Finish, 3.9198 3.8916 0.0543 0.9452 Evaluation Finish\n",
      "298: Data Load Finish, Predict Finish, 3.9163 3.8916 0.0543 0.9453 Evaluation Finish\n",
      "299: Data Load Finish, Predict Finish, 3.6125 3.5738 0.0499 0.9495 Evaluation Finish\n",
      "300: Data Load Finish, Predict Finish, 4.371 4.3272 0.0604 0.9389 Evaluation Finish\n",
      "301: Data Load Finish, Predict Finish, 7.0346 7.0188 0.098 0.9017 Evaluation Finish\n",
      "302: Data Load Finish, Predict Finish, 4.4903 4.4341 0.0619 0.9373 Evaluation Finish\n",
      "303: Data Load Finish, Predict Finish, 4.8097 4.7562 0.0664 0.9328 Evaluation Finish\n",
      "304: Data Load Finish, Predict Finish, 4.9583 4.8925 0.0683 0.9307 Evaluation Finish\n",
      "305: Data Load Finish, Predict Finish, 8.1441 8.1265 0.1135 0.8862 Evaluation Finish\n",
      "306: Data Load Finish, Predict Finish, 3.9917 3.9683 0.0554 0.9442 Evaluation Finish\n",
      "307: Data Load Finish, Predict Finish, 4.912 4.8703 0.068 0.9314 Evaluation Finish\n",
      "308: Data Load Finish, Predict Finish, 9.6242 9.5217 0.133 0.8655 Evaluation Finish\n",
      "309: Data Load Finish, Predict Finish, 3.2238 3.1936 0.0446 0.955 Evaluation Finish\n",
      "310: Data Load Finish, Predict Finish, 6.5502 6.53 0.0912 0.9085 Evaluation Finish\n",
      "311: Data Load Finish, "
     ]
    },
    {
     "name": "stderr",
     "output_type": "stream",
     "text": [
      "/home/vislab/anaconda3/envs/cctv/lib/python3.7/site-packages/pandas/core/arraylike.py:364: RuntimeWarning: divide by zero encountered in log\n",
      "  result = getattr(ufunc, method)(*inputs, **kwargs)\n",
      "/home/vislab/anaconda3/envs/cctv/lib/python3.7/site-packages/statsmodels/base/model.py:606: ConvergenceWarning: Maximum Likelihood optimization failed to converge. Check mle_retvals\n",
      "  ConvergenceWarning)\n"
     ]
    },
    {
     "name": "stdout",
     "output_type": "stream",
     "text": [
      "Predict Finish, 70.5761 70.575 0.986 0.014 Evaluation Finish\n",
      "312: Data Load Finish, Predict Finish, 3.7788 3.7484 0.0523 0.9472 Evaluation Finish\n",
      "313: Data Load Finish, Predict Finish, 5.6565 5.6199 0.0785 0.921 Evaluation Finish\n",
      "314: Data Load Finish, Predict Finish, 4.5171 4.4906 0.0627 0.9369 Evaluation Finish\n",
      "315: Data Load Finish, Predict Finish, 6.4907 6.4787 0.0905 0.9093 Evaluation Finish\n",
      "316: Data Load Finish, Predict Finish, 4.8143 4.7919 0.0669 0.9327 Evaluation Finish\n",
      "317: Data Load Finish, "
     ]
    },
    {
     "name": "stderr",
     "output_type": "stream",
     "text": [
      "/home/vislab/anaconda3/envs/cctv/lib/python3.7/site-packages/pandas/core/arraylike.py:364: RuntimeWarning: divide by zero encountered in log\n",
      "  result = getattr(ufunc, method)(*inputs, **kwargs)\n",
      "/home/vislab/anaconda3/envs/cctv/lib/python3.7/site-packages/statsmodels/base/model.py:606: ConvergenceWarning: Maximum Likelihood optimization failed to converge. Check mle_retvals\n",
      "  ConvergenceWarning)\n"
     ]
    },
    {
     "name": "stdout",
     "output_type": "stream",
     "text": [
      "Predict Finish, 70.5761 70.575 0.986 0.014 Evaluation Finish\n",
      "318: Data Load Finish, "
     ]
    },
    {
     "name": "stderr",
     "output_type": "stream",
     "text": [
      "/home/vislab/anaconda3/envs/cctv/lib/python3.7/site-packages/statsmodels/base/model.py:606: ConvergenceWarning: Maximum Likelihood optimization failed to converge. Check mle_retvals\n",
      "  ConvergenceWarning)\n"
     ]
    },
    {
     "name": "stdout",
     "output_type": "stream",
     "text": [
      "Predict Finish, 11.7726 11.7659 0.1644 0.8355 Evaluation Finish\n",
      "319: Data Load Finish, "
     ]
    },
    {
     "name": "stderr",
     "output_type": "stream",
     "text": [
      "/home/vislab/anaconda3/envs/cctv/lib/python3.7/site-packages/pandas/core/arraylike.py:364: RuntimeWarning: divide by zero encountered in log\n",
      "  result = getattr(ufunc, method)(*inputs, **kwargs)\n",
      "/home/vislab/anaconda3/envs/cctv/lib/python3.7/site-packages/statsmodels/base/model.py:606: ConvergenceWarning: Maximum Likelihood optimization failed to converge. Check mle_retvals\n",
      "  ConvergenceWarning)\n"
     ]
    },
    {
     "name": "stdout",
     "output_type": "stream",
     "text": [
      "Predict Finish, 70.5761 70.575 0.986 0.014 Evaluation Finish\n",
      "320: Data Load Finish, Predict Finish, 7.5939 7.5777 0.1058 0.8939 Evaluation Finish\n",
      "321: Data Load Finish, Predict Finish, 1.6813 1.6152 0.0225 0.9765 Evaluation Finish\n",
      "322: Data Load Finish, Predict Finish, 3.124 3.0803 0.043 0.9564 Evaluation Finish\n",
      "323: Data Load Finish, Predict Finish, 1.2191 1.0905 0.0152 0.983 Evaluation Finish\n",
      "324: Data Load Finish, "
     ]
    },
    {
     "name": "stderr",
     "output_type": "stream",
     "text": [
      "/home/vislab/anaconda3/envs/cctv/lib/python3.7/site-packages/pandas/core/arraylike.py:364: RuntimeWarning: divide by zero encountered in log\n",
      "  result = getattr(ufunc, method)(*inputs, **kwargs)\n",
      "/home/vislab/anaconda3/envs/cctv/lib/python3.7/site-packages/statsmodels/base/model.py:606: ConvergenceWarning: Maximum Likelihood optimization failed to converge. Check mle_retvals\n",
      "  ConvergenceWarning)\n"
     ]
    },
    {
     "name": "stdout",
     "output_type": "stream",
     "text": [
      "Predict Finish, 70.5761 70.575 0.986 0.014 Evaluation Finish\n",
      "RMSE: 18.122109901155735, MAE: 18.08686732653635, MAPE: 0.2526799615248446\n",
      "ACC: 0.746813172475182\n"
     ]
    }
   ],
   "source": [
    "predictARIMA(df, idx, 12)"
   ]
  },
  {
   "cell_type": "code",
   "execution_count": null,
   "id": "b6102a7f",
   "metadata": {},
   "outputs": [],
   "source": []
  }
 ],
 "metadata": {
  "kernelspec": {
   "display_name": "cctv",
   "language": "python",
   "name": "cctv"
  },
  "language_info": {
   "codemirror_mode": {
    "name": "ipython",
    "version": 3
   },
   "file_extension": ".py",
   "mimetype": "text/x-python",
   "name": "python",
   "nbconvert_exporter": "python",
   "pygments_lexer": "ipython3",
   "version": "3.7.13"
  }
 },
 "nbformat": 4,
 "nbformat_minor": 5
}
