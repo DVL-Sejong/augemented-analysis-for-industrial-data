{
 "cells": [
  {
   "cell_type": "code",
   "execution_count": 1,
   "id": "ea68090e",
   "metadata": {},
   "outputs": [],
   "source": [
    "import math\n",
    "import pandas as pd\n",
    "import numpy as np\n",
    "import numpy.linalg as la\n",
    "\n",
    "from sklearn.metrics import mean_squared_error, mean_absolute_error, mean_absolute_percentage_error\n",
    "from statsmodels.tsa.arima.model import ARIMA"
   ]
  },
  {
   "cell_type": "code",
   "execution_count": 2,
   "id": "844c2224",
   "metadata": {},
   "outputs": [],
   "source": [
    "def csvIndexToDatetime(path, start, freq):\n",
    "    df = pd.read_csv(path)\n",
    "    df = df.drop(columns=['Unnamed: 0'])\n",
    "    time_len = df.shape[0]\n",
    "    num_nodes = df.shape[1]\n",
    "    print(time_len, num_nodes)\n",
    "    rng = pd.date_range(start, periods=time_len, freq=freq)\n",
    "    idx = pd.DatetimeIndex(rng)\n",
    "    df.index = idx\n",
    "    return df, idx"
   ]
  },
  {
   "cell_type": "code",
   "execution_count": 3,
   "id": "aa8af9c0",
   "metadata": {},
   "outputs": [],
   "source": [
    "def evaluation(a,b):\n",
    "    rmse = math.sqrt(mean_squared_error(a,b))\n",
    "    mae = mean_absolute_error(a, b)\n",
    "    mape = mean_absolute_percentage_error(a, b)\n",
    "    F_norm = la.norm(a-b)/la.norm(a)\n",
    "    return rmse, mae, mape, 1-F_norm"
   ]
  },
  {
   "cell_type": "code",
   "execution_count": 4,
   "id": "ee5c0335",
   "metadata": {},
   "outputs": [],
   "source": [
    "def predictARIMA(df, idx, timelag):\n",
    "    rmse, mae, mape, acc =  [], [], [], []\n",
    "    \n",
    "    for i in range(df.shape[1]):\n",
    "        print(i, end = ': ')\n",
    "        ts = df.iloc[:-timelag, i]\n",
    "        ts_log = np.log(ts)\n",
    "        ts_log = np.array(ts_log, dtype=np.float64)\n",
    "        where_are_inf = np.isinf(ts_log)\n",
    "        ts_log[where_are_inf] = 0\n",
    "        ts_log = pd.Series(ts_log)\n",
    "        ts_log.index = idx[:-timelag]\n",
    "        print('Data Load Finish', end = ', ')\n",
    "        \n",
    "        model = ARIMA(ts_log, order=[1,0,0])\n",
    "        properModel = model.fit()\n",
    "        predict_ts = properModel.forecast(steps=timelag)\n",
    "        log_recover = np.exp(predict_ts)\n",
    "        testX = org_df.iloc[-timelag:, 0]\n",
    "        print('Predict Finish', end = ', ')\n",
    "        \n",
    "        er_rmse, er_mae, er_mape, er_acc = evaluation(testX, log_recover)\n",
    "        print(round(er_rmse,4), round(er_mae,4), round(er_mape,4), round(er_acc,4), end = ' ')\n",
    "        \n",
    "        rmse.append(er_rmse)\n",
    "        mae.append(er_mae)\n",
    "        mape.append(er_mape)\n",
    "        acc.append(er_acc)\n",
    "        print('Evaluation Finish')\n",
    "        \n",
    "    acc = np.mat(acc)\n",
    "    acc[acc<0] = 0\n",
    "    print('RMSE: ' + str(np.mean(rmse)) + ', MAE: ' + str(np.mean(mae)) + ', MAPE: ' + str(np.mean(mape))  + '\\n'\n",
    "          + 'ACC: ' + str(np.mean(acc)))"
   ]
  },
  {
   "cell_type": "code",
   "execution_count": 5,
   "id": "e171bd77",
   "metadata": {
    "scrolled": true
   },
   "outputs": [],
   "source": [
    "path_0 = '../Data/Gangnam/speed_gangnam_0.csv'\n",
    "path_5 = '../Data/Gangnam/speed_gangnam_5.csv'\n",
    "path_10 = '../Data/Gangnam/speed_gangnam_10.csv'\n",
    "path_20 = '../Data/Gangnam/speed_gangnam_20.csv'"
   ]
  },
  {
   "cell_type": "code",
   "execution_count": 6,
   "id": "ee4dc616",
   "metadata": {},
   "outputs": [],
   "source": [
    "start = '1/10/2020'\n",
    "freq = '5min'"
   ]
  },
  {
   "cell_type": "code",
   "execution_count": 7,
   "id": "b2841bf9",
   "metadata": {},
   "outputs": [
    {
     "name": "stdout",
     "output_type": "stream",
     "text": [
      "2880 506\n"
     ]
    }
   ],
   "source": [
    "org_path = '../Data/Gangnam/speed_gangnam_0.csv'\n",
    "org_df, org_idx = csvIndexToDatetime(org_path, start, freq)"
   ]
  },
  {
   "cell_type": "markdown",
   "id": "aa5366c6",
   "metadata": {},
   "source": [
    "### Unobserved Nodes = 0%"
   ]
  },
  {
   "cell_type": "code",
   "execution_count": 8,
   "id": "9eaf61b7",
   "metadata": {},
   "outputs": [
    {
     "name": "stdout",
     "output_type": "stream",
     "text": [
      "2880 506\n"
     ]
    },
    {
     "data": {
      "text/plain": [
       "0"
      ]
     },
     "execution_count": 8,
     "metadata": {},
     "output_type": "execute_result"
    }
   ],
   "source": [
    "df, idx = csvIndexToDatetime(path_0, start, freq)\n",
    "(df == 0).sum().sum()"
   ]
  },
  {
   "cell_type": "code",
   "execution_count": 9,
   "id": "60f8ff1e",
   "metadata": {
    "scrolled": false
   },
   "outputs": [
    {
     "name": "stdout",
     "output_type": "stream",
     "text": [
      "0: Data Load Finish, Predict Finish, 3.547 3.4717 0.1219 0.8759 Evaluation Finish\n",
      "1: Data Load Finish, Predict Finish, 3.9207 3.401 0.1194 0.8628 Evaluation Finish\n",
      "2: Data Load Finish, Predict Finish, 5.0571 3.9157 0.1537 0.823 Evaluation Finish\n",
      "3: Data Load Finish, Predict Finish, 13.0645 12.6348 0.4656 0.5428 Evaluation Finish\n",
      "4: Data Load Finish, Predict Finish, 6.6472 5.5728 0.1844 0.7674 Evaluation Finish\n",
      "5: Data Load Finish, Predict Finish, 6.691 5.8393 0.1945 0.7659 Evaluation Finish\n",
      "6: Data Load Finish, Predict Finish, 3.5226 3.0056 0.1103 0.8767 Evaluation Finish\n",
      "7: Data Load Finish, Predict Finish, 11.4934 11.0395 0.3805 0.5978 Evaluation Finish\n",
      "8: Data Load Finish, Predict Finish, 5.876 4.8442 0.1588 0.7944 Evaluation Finish\n",
      "9: Data Load Finish, Predict Finish, 9.7921 9.237 0.3159 0.6573 Evaluation Finish\n",
      "10: Data Load Finish, Predict Finish, 12.0162 11.5933 0.4005 0.5795 Evaluation Finish\n",
      "11: Data Load Finish, Predict Finish, 3.4725 3.2956 0.1165 0.8785 Evaluation Finish\n",
      "12: Data Load Finish, Predict Finish, 15.4933 15.1499 0.5552 0.4578 Evaluation Finish\n",
      "13: Data Load Finish, Predict Finish, 26.0449 25.8359 0.937 0.0886 Evaluation Finish\n",
      "14: Data Load Finish, Predict Finish, 29.5648 29.3795 1.0636 -0.0346 Evaluation Finish\n",
      "15: Data Load Finish, Predict Finish, 18.4932 18.1968 0.6642 0.3528 Evaluation Finish\n",
      "16: Data Load Finish, Predict Finish, 8.5555 7.8346 0.2944 0.7006 Evaluation Finish\n",
      "17: Data Load Finish, Predict Finish, 11.0244 10.5311 0.3621 0.6142 Evaluation Finish\n",
      "18: Data Load Finish, Predict Finish, 5.5337 4.4628 0.1453 0.8063 Evaluation Finish\n",
      "19: Data Load Finish, Predict Finish, 10.9093 10.4425 0.3595 0.6182 Evaluation Finish\n",
      "20: Data Load Finish, "
     ]
    },
    {
     "name": "stderr",
     "output_type": "stream",
     "text": [
      "C:\\Users\\vfgtr554\\anaconda3\\envs\\cctv\\lib\\site-packages\\statsmodels\\base\\model.py:606: ConvergenceWarning: Maximum Likelihood optimization failed to converge. Check mle_retvals\n",
      "  ConvergenceWarning)\n"
     ]
    },
    {
     "name": "stdout",
     "output_type": "stream",
     "text": [
      "Predict Finish, 7.2059 6.4193 0.2152 0.7478 Evaluation Finish\n",
      "21: Data Load Finish, "
     ]
    },
    {
     "name": "stderr",
     "output_type": "stream",
     "text": [
      "C:\\Users\\vfgtr554\\anaconda3\\envs\\cctv\\lib\\site-packages\\statsmodels\\base\\model.py:606: ConvergenceWarning: Maximum Likelihood optimization failed to converge. Check mle_retvals\n",
      "  ConvergenceWarning)\n"
     ]
    },
    {
     "name": "stdout",
     "output_type": "stream",
     "text": [
      "Predict Finish, 3.7703 3.2578 0.1134 0.8681 Evaluation Finish\n",
      "22: Data Load Finish, Predict Finish, 3.9366 3.5807 0.1225 0.8622 Evaluation Finish\n",
      "23: Data Load Finish, Predict Finish, 4.1146 3.8392 0.1307 0.856 Evaluation Finish\n",
      "24: Data Load Finish, Predict Finish, 15.9693 15.5787 0.5711 0.4412 Evaluation Finish\n",
      "25: Data Load Finish, Predict Finish, 6.4251 5.5711 0.1853 0.7752 Evaluation Finish\n",
      "26: Data Load Finish, Predict Finish, 6.0958 5.1949 0.1718 0.7867 Evaluation Finish\n",
      "27: Data Load Finish, Predict Finish, 5.9701 4.9703 0.1634 0.7911 Evaluation Finish\n",
      "28: Data Load Finish, Predict Finish, 7.2815 6.2657 0.2383 0.7452 Evaluation Finish\n",
      "29: Data Load Finish, Predict Finish, 4.2925 3.5573 0.1189 0.8498 Evaluation Finish\n",
      "30: Data Load Finish, Predict Finish, 3.5433 3.0556 0.1152 0.876 Evaluation Finish\n",
      "31: Data Load Finish, Predict Finish, 3.531 3.3023 0.1156 0.8764 Evaluation Finish\n",
      "32: Data Load Finish, Predict Finish, 3.45 3.128 0.1109 0.8793 Evaluation Finish\n",
      "33: Data Load Finish, Predict Finish, 10.1584 9.4274 0.3227 0.6445 Evaluation Finish\n",
      "34: Data Load Finish, Predict Finish, 3.849 3.5335 0.1256 0.8653 Evaluation Finish\n",
      "35: Data Load Finish, Predict Finish, 7.6551 6.8959 0.2321 0.7321 Evaluation Finish\n",
      "36: Data Load Finish, Predict Finish, 5.3383 4.2234 0.1371 0.8132 Evaluation Finish\n",
      "37: Data Load Finish, Predict Finish, 5.5557 4.4869 0.1462 0.8056 Evaluation Finish\n",
      "38: Data Load Finish, Predict Finish, 6.438 5.4301 0.1796 0.7747 Evaluation Finish\n",
      "39: Data Load Finish, Predict Finish, 3.5549 3.276 0.1146 0.8756 Evaluation Finish\n",
      "40: Data Load Finish, Predict Finish, 6.4264 5.5467 0.1842 0.7751 Evaluation Finish\n",
      "41: Data Load Finish, Predict Finish, 8.7611 8.0837 0.2746 0.6934 Evaluation Finish\n",
      "42: Data Load Finish, Predict Finish, 6.5716 5.5541 0.1845 0.77 Evaluation Finish\n",
      "43: Data Load Finish, Predict Finish, 4.6277 4.2229 0.1491 0.8381 Evaluation Finish\n",
      "44: Data Load Finish, Predict Finish, 3.3916 2.6969 0.1029 0.8813 Evaluation Finish\n",
      "45: Data Load Finish, Predict Finish, 5.9711 4.8805 0.1598 0.791 Evaluation Finish\n",
      "46: Data Load Finish, Predict Finish, 5.4486 4.3701 0.1702 0.8093 Evaluation Finish\n",
      "47: Data Load Finish, Predict Finish, 4.7557 3.7328 0.1221 0.8336 Evaluation Finish\n",
      "48: Data Load Finish, Predict Finish, 3.5316 3.4848 0.1226 0.8764 Evaluation Finish\n",
      "49: Data Load Finish, Predict Finish, 3.2707 2.8874 0.1064 0.8855 Evaluation Finish\n",
      "50: Data Load Finish, Predict Finish, 5.2916 4.4978 0.1487 0.8148 Evaluation Finish\n",
      "51: Data Load Finish, Predict Finish, 7.7926 7.0573 0.2379 0.7273 Evaluation Finish\n",
      "52: Data Load Finish, Predict Finish, 9.394 8.587 0.2927 0.6713 Evaluation Finish\n",
      "53: Data Load Finish, Predict Finish, 13.5726 13.1768 0.4566 0.525 Evaluation Finish\n",
      "54: Data Load Finish, Predict Finish, 11.8639 11.4081 0.3935 0.5848 Evaluation Finish\n",
      "55: Data Load Finish, Predict Finish, 3.2297 2.8937 0.1072 0.887 Evaluation Finish\n",
      "56: Data Load Finish, Predict Finish, 8.2974 7.6373 0.2868 0.7096 Evaluation Finish\n",
      "57: Data Load Finish, Predict Finish, 3.3835 2.5998 0.1003 0.8816 Evaluation Finish\n",
      "58: Data Load Finish, Predict Finish, 19.8777 19.5822 0.714 0.3044 Evaluation Finish\n",
      "59: Data Load Finish, Predict Finish, 8.1481 7.4189 0.2794 0.7149 Evaluation Finish\n",
      "60: Data Load Finish, Predict Finish, 5.2411 4.1209 0.1612 0.8166 Evaluation Finish\n",
      "61: Data Load Finish, Predict Finish, 8.1199 7.4365 0.2515 0.7158 Evaluation Finish\n",
      "62: Data Load Finish, Predict Finish, 4.7396 3.4438 0.1371 0.8341 Evaluation Finish\n",
      "63: Data Load Finish, Predict Finish, 3.9415 3.1534 0.1225 0.8621 Evaluation Finish\n",
      "64: Data Load Finish, Predict Finish, 4.0248 2.4396 0.1004 0.8592 Evaluation Finish\n",
      "65: Data Load Finish, Predict Finish, 8.9907 8.4195 0.2873 0.6854 Evaluation Finish\n",
      "66: Data Load Finish, Predict Finish, 6.3519 5.3813 0.2066 0.7777 Evaluation Finish\n",
      "67: Data Load Finish, Predict Finish, 8.4825 7.8645 0.2672 0.7032 Evaluation Finish\n",
      "68: Data Load Finish, Predict Finish, 3.5543 3.0274 0.1127 0.8756 Evaluation Finish\n",
      "69: Data Load Finish, Predict Finish, 13.4951 13.1095 0.4821 0.5277 Evaluation Finish\n",
      "70: Data Load Finish, Predict Finish, 25.8434 25.6118 0.9292 0.0956 Evaluation Finish\n",
      "71: Data Load Finish, Predict Finish, 31.0485 30.8675 1.1166 -0.0865 Evaluation Finish\n",
      "72: Data Load Finish, Predict Finish, 34.041 33.8589 1.2241 -0.1913 Evaluation Finish\n",
      "73: Data Load Finish, Predict Finish, 28.6799 28.4617 1.0314 -0.0037 Evaluation Finish\n",
      "74: Data Load Finish, Predict Finish, 29.2689 29.0905 1.0531 -0.0243 Evaluation Finish\n",
      "75: Data Load Finish, Predict Finish, 17.3822 17.0429 0.6232 0.3917 Evaluation Finish\n",
      "76: Data Load Finish, Predict Finish, 10.5169 9.9709 0.3705 0.632 Evaluation Finish\n",
      "77: Data Load Finish, Predict Finish, 3.7743 3.5605 0.1229 0.8679 Evaluation Finish\n",
      "78: Data Load Finish, Predict Finish, 3.3497 2.8165 0.1049 0.8828 Evaluation Finish\n",
      "79: Data Load Finish, Predict Finish, 4.5409 4.1033 0.1383 0.8411 Evaluation Finish\n",
      "80: Data Load Finish, Predict Finish, 3.2179 2.7648 0.1045 0.8874 Evaluation Finish\n",
      "81: Data Load Finish, Predict Finish, 12.5889 12.163 0.4204 0.5595 Evaluation Finish\n",
      "82: Data Load Finish, Predict Finish, 10.1494 9.5854 0.3567 0.6448 Evaluation Finish\n",
      "83: Data Load Finish, Predict Finish, 3.4909 3.2566 0.1153 0.8778 Evaluation Finish\n",
      "84: Data Load Finish, Predict Finish, 14.7348 14.3411 0.5267 0.4844 Evaluation Finish\n",
      "85: Data Load Finish, Predict Finish, 20.1015 19.821 0.7223 0.2966 Evaluation Finish\n",
      "86: Data Load Finish, Predict Finish, 11.4746 10.8498 0.4025 0.5984 Evaluation Finish\n",
      "87: Data Load Finish, Predict Finish, 4.6446 4.0517 0.135 0.8375 Evaluation Finish\n",
      "88: Data Load Finish, Predict Finish, 3.9799 3.0951 0.1211 0.8607 Evaluation Finish\n",
      "89: Data Load Finish, Predict Finish, 3.2954 2.9395 0.1079 0.8847 Evaluation Finish\n",
      "90: Data Load Finish, Predict Finish, 9.8367 9.2708 0.3453 0.6558 Evaluation Finish\n",
      "91: Data Load Finish, Predict Finish, 10.2998 9.7723 0.3631 0.6396 Evaluation Finish\n",
      "92: Data Load Finish, Predict Finish, 3.6865 3.1265 0.1191 0.871 Evaluation Finish\n",
      "93: Data Load Finish, Predict Finish, 4.0627 3.7013 0.126 0.8578 Evaluation Finish\n",
      "94: Data Load Finish, Predict Finish, 3.5464 2.9414 0.1116 0.8759 Evaluation Finish\n",
      "95: Data Load Finish, Predict Finish, 4.9409 4.1449 0.1366 0.8271 Evaluation Finish\n",
      "96: Data Load Finish, Predict Finish, 4.9766 3.8167 0.15 0.8258 Evaluation Finish\n",
      "97: Data Load Finish, Predict Finish, 7.9949 7.1701 0.2709 0.7202 Evaluation Finish\n",
      "98: Data Load Finish, Predict Finish, 4.2581 3.6123 0.1222 0.851 Evaluation Finish\n",
      "99: Data Load Finish, Predict Finish, 3.6003 2.9252 0.1122 0.874 Evaluation Finish\n",
      "100: Data Load Finish, Predict Finish, 6.5113 5.6117 0.1866 0.7721 Evaluation Finish\n",
      "101: Data Load Finish, Predict Finish, 7.737 7.0317 0.2649 0.7292 Evaluation Finish\n",
      "102: Data Load Finish, Predict Finish, 11.1973 10.7103 0.3685 0.6082 Evaluation Finish\n",
      "103: Data Load Finish, Predict Finish, 3.3218 2.7021 0.1026 0.8838 Evaluation Finish\n",
      "104: Data Load Finish, Predict Finish, 3.3993 2.7757 0.1 0.881 Evaluation Finish\n",
      "105: Data Load Finish, Predict Finish, 4.6727 3.9275 0.1299 0.8365 Evaluation Finish\n",
      "106: Data Load Finish, Predict Finish, 3.5234 3.2135 0.1128 0.8767 Evaluation Finish\n",
      "107: Data Load Finish, Predict Finish, 6.139 5.1535 0.198 0.7852 Evaluation Finish\n",
      "108: Data Load Finish, Predict Finish, 7.4361 6.7028 0.2255 0.7398 Evaluation Finish\n",
      "109: Data Load Finish, Predict Finish, 6.9939 6.1819 0.2067 0.7553 Evaluation Finish\n",
      "110: Data Load Finish, Predict Finish, 3.675 3.4943 0.1214 0.8714 Evaluation Finish\n",
      "111: Data Load Finish, Predict Finish, 3.6641 3.0513 0.1099 0.8718 Evaluation Finish\n",
      "112: Data Load Finish, Predict Finish, 3.744 3.5608 0.1232 0.869 Evaluation Finish\n",
      "113: Data Load Finish, Predict Finish, 5.5227 4.4482 0.1448 0.8067 Evaluation Finish\n",
      "114: Data Load Finish, Predict Finish, 3.4378 3.1933 0.1136 0.8797 Evaluation Finish\n",
      "115: Data Load Finish, Predict Finish, 4.0643 3.7109 0.1263 0.8578 Evaluation Finish\n",
      "116: Data Load Finish, Predict Finish, 6.0919 5.0459 0.1946 0.7868 Evaluation Finish\n",
      "117: Data Load Finish, Predict Finish, 15.8856 15.4936 0.568 0.4441 Evaluation Finish\n",
      "118: Data Load Finish, Predict Finish, 29.997 29.8116 1.0791 -0.0497 Evaluation Finish\n"
     ]
    },
    {
     "name": "stdout",
     "output_type": "stream",
     "text": [
      "119: Data Load Finish, Predict Finish, 6.2572 5.3058 0.2037 0.781 Evaluation Finish\n",
      "120: Data Load Finish, Predict Finish, 4.0137 3.6761 0.1253 0.8595 Evaluation Finish\n",
      "121: Data Load Finish, Predict Finish, 5.7269 4.6734 0.1527 0.7996 Evaluation Finish\n",
      "122: Data Load Finish, Predict Finish, 9.1904 8.6202 0.2946 0.6784 Evaluation Finish\n",
      "123: Data Load Finish, Predict Finish, 6.4879 5.6024 0.186 0.773 Evaluation Finish\n",
      "124: Data Load Finish, Predict Finish, 9.4443 8.8444 0.3017 0.6695 Evaluation Finish\n",
      "125: Data Load Finish, Predict Finish, 15.6722 15.331 0.5616 0.4516 Evaluation Finish\n",
      "126: Data Load Finish, Predict Finish, 7.2558 6.5089 0.2186 0.7461 Evaluation Finish\n",
      "127: Data Load Finish, Predict Finish, 7.7303 7.0281 0.2371 0.7295 Evaluation Finish\n",
      "128: Data Load Finish, Predict Finish, 8.368 7.729 0.2622 0.7072 Evaluation Finish\n",
      "129: Data Load Finish, Predict Finish, 4.1823 3.8015 0.1287 0.8536 Evaluation Finish\n",
      "130: Data Load Finish, Predict Finish, 3.2682 3.1303 0.1131 0.8856 Evaluation Finish\n",
      "131: Data Load Finish, Predict Finish, 3.4528 3.2626 0.1155 0.8792 Evaluation Finish\n",
      "132: Data Load Finish, Predict Finish, 6.4369 5.5619 0.1846 0.7747 Evaluation Finish\n",
      "133: Data Load Finish, Predict Finish, 6.2052 5.3223 0.1766 0.7828 Evaluation Finish\n",
      "134: Data Load Finish, Predict Finish, 10.676 10.1797 0.3497 0.6264 Evaluation Finish\n",
      "135: Data Load Finish, Predict Finish, 8.0861 7.3954 0.25 0.717 Evaluation Finish\n",
      "136: Data Load Finish, Predict Finish, 5.9649 4.9846 0.1639 0.7913 Evaluation Finish\n",
      "137: Data Load Finish, Predict Finish, 8.7039 8.1064 0.2759 0.6954 Evaluation Finish\n",
      "138: Data Load Finish, Predict Finish, 4.5706 3.9164 0.1305 0.8401 Evaluation Finish\n",
      "139: Data Load Finish, Predict Finish, 5.8677 4.8878 0.1605 0.7947 Evaluation Finish\n",
      "140: Data Load Finish, Predict Finish, 3.9605 3.6901 0.1262 0.8614 Evaluation Finish\n",
      "141: Data Load Finish, Predict Finish, 6.8009 6.0156 0.2012 0.762 Evaluation Finish\n",
      "142: Data Load Finish, Predict Finish, 4.7123 3.9129 0.1511 0.8351 Evaluation Finish\n",
      "143: Data Load Finish, Predict Finish, 5.5484 4.4833 0.1461 0.8058 Evaluation Finish\n",
      "144: Data Load Finish, Predict Finish, 18.4208 18.1157 0.6614 0.3554 Evaluation Finish\n",
      "145: Data Load Finish, Predict Finish, 31.7326 31.5621 1.1415 -0.1105 Evaluation Finish\n",
      "146: Data Load Finish, Predict Finish, 4.4606 3.4433 0.1353 0.8439 Evaluation Finish\n",
      "147: Data Load Finish, Predict Finish, 4.8999 3.6904 0.1457 0.8285 Evaluation Finish\n",
      "148: Data Load Finish, Predict Finish, 7.0857 6.2458 0.2088 0.752 Evaluation Finish\n",
      "149: Data Load Finish, Predict Finish, 4.6052 3.8987 0.13 0.8388 Evaluation Finish\n",
      "150: Data Load Finish, Predict Finish, 7.6493 6.921 0.2332 0.7323 Evaluation Finish\n",
      "151: Data Load Finish, Predict Finish, 5.5972 4.5203 0.1473 0.8041 Evaluation Finish\n",
      "152: Data Load Finish, Predict Finish, 8.0138 7.3333 0.2482 0.7196 Evaluation Finish\n",
      "153: Data Load Finish, Predict Finish, 3.4895 3.0012 0.1119 0.8779 Evaluation Finish\n",
      "154: Data Load Finish, Predict Finish, 3.6689 3.3575 0.1172 0.8716 Evaluation Finish\n",
      "155: Data Load Finish, Predict Finish, 3.3806 3.1119 0.1111 0.8817 Evaluation Finish\n",
      "156: Data Load Finish, Predict Finish, 5.4247 4.4494 0.1455 0.8102 Evaluation Finish\n",
      "157: Data Load Finish, Predict Finish, 6.8497 6.0321 0.2014 0.7603 Evaluation Finish\n",
      "158: Data Load Finish, Predict Finish, 7.6298 6.8871 0.2319 0.733 Evaluation Finish\n",
      "159: Data Load Finish, Predict Finish, 7.3917 6.4671 0.2167 0.7413 Evaluation Finish\n",
      "160: Data Load Finish, Predict Finish, 4.4392 3.8341 0.1284 0.8447 Evaluation Finish\n",
      "161: Data Load Finish, Predict Finish, 5.5424 4.4802 0.1459 0.806 Evaluation Finish\n",
      "162: Data Load Finish, Predict Finish, 8.2341 7.5251 0.2545 0.7118 Evaluation Finish\n",
      "163: Data Load Finish, Predict Finish, 5.4136 4.4393 0.1452 0.8106 Evaluation Finish\n",
      "164: Data Load Finish, Predict Finish, 4.2899 3.8723 0.1306 0.8499 Evaluation Finish\n",
      "165: Data Load Finish, Predict Finish, 3.9437 3.13 0.1218 0.862 Evaluation Finish\n",
      "166: Data Load Finish, Predict Finish, 14.5147 14.1208 0.5188 0.4921 Evaluation Finish\n",
      "167: Data Load Finish, Predict Finish, 14.3389 13.9457 0.5124 0.4982 Evaluation Finish\n",
      "168: Data Load Finish, Predict Finish, 27.3571 27.1495 0.9841 0.0426 Evaluation Finish\n",
      "169: Data Load Finish, "
     ]
    },
    {
     "name": "stderr",
     "output_type": "stream",
     "text": [
      "C:\\Users\\vfgtr554\\anaconda3\\envs\\cctv\\lib\\site-packages\\statsmodels\\base\\model.py:606: ConvergenceWarning: Maximum Likelihood optimization failed to converge. Check mle_retvals\n",
      "  ConvergenceWarning)\n"
     ]
    },
    {
     "name": "stdout",
     "output_type": "stream",
     "text": [
      "Predict Finish, 15.8095 15.4315 0.5658 0.4467 Evaluation Finish\n",
      "170: Data Load Finish, Predict Finish, 6.2121 5.294 0.175 0.7826 Evaluation Finish\n",
      "171: Data Load Finish, Predict Finish, 7.5918 6.8006 0.2573 0.7343 Evaluation Finish\n",
      "172: Data Load Finish, Predict Finish, 3.4426 3.0314 0.1097 0.8795 Evaluation Finish\n",
      "173: Data Load Finish, Predict Finish, 3.3502 2.8186 0.1047 0.8828 Evaluation Finish\n",
      "174: Data Load Finish, Predict Finish, 3.4674 2.879 0.1094 0.8787 Evaluation Finish\n",
      "175: Data Load Finish, Predict Finish, 8.7972 8.087 0.3022 0.6921 Evaluation Finish\n",
      "176: Data Load Finish, Predict Finish, 9.704 9.1599 0.3133 0.6604 Evaluation Finish\n",
      "177: Data Load Finish, Predict Finish, 18.2238 17.9074 0.6539 0.3623 Evaluation Finish\n",
      "178: Data Load Finish, Predict Finish, 3.5017 3.2639 0.1154 0.8775 Evaluation Finish\n",
      "179: Data Load Finish, Predict Finish, 3.5261 2.8202 0.1083 0.8766 Evaluation Finish\n",
      "180: Data Load Finish, Predict Finish, 18.144 17.8119 0.6506 0.3651 Evaluation Finish\n",
      "181: Data Load Finish, Predict Finish, 7.2176 6.4022 0.2146 0.7474 Evaluation Finish\n",
      "182: Data Load Finish, Predict Finish, 4.9423 4.1015 0.135 0.827 Evaluation Finish\n",
      "183: Data Load Finish, Predict Finish, 5.5105 4.4466 0.1448 0.8072 Evaluation Finish\n",
      "184: Data Load Finish, Predict Finish, 4.0616 3.6609 0.1243 0.8579 Evaluation Finish\n",
      "185: Data Load Finish, Predict Finish, 3.8257 3.2805 0.1137 0.8661 Evaluation Finish\n",
      "186: Data Load Finish, Predict Finish, 5.2188 4.1231 0.1344 0.8174 Evaluation Finish\n",
      "187: Data Load Finish, Predict Finish, 4.3514 3.7502 0.1258 0.8477 Evaluation Finish\n",
      "188: Data Load Finish, Predict Finish, 3.3606 3.1436 0.1122 0.8824 Evaluation Finish\n",
      "189: Data Load Finish, Predict Finish, 3.8296 3.5021 0.1305 0.866 Evaluation Finish\n",
      "190: Data Load Finish, Predict Finish, 6.5451 5.6894 0.1892 0.771 Evaluation Finish\n",
      "191: Data Load Finish, Predict Finish, 3.6566 3.1213 0.118 0.872 Evaluation Finish\n",
      "192: Data Load Finish, Predict Finish, 6.063 5.0577 0.1664 0.7878 Evaluation Finish\n",
      "193: Data Load Finish, Predict Finish, 14.4799 14.1115 0.49 0.4933 Evaluation Finish\n",
      "194: Data Load Finish, Predict Finish, 4.1705 3.7172 0.126 0.8541 Evaluation Finish\n",
      "195: Data Load Finish, Predict Finish, 3.9701 3.6602 0.1252 0.8611 Evaluation Finish\n",
      "196: Data Load Finish, "
     ]
    },
    {
     "name": "stderr",
     "output_type": "stream",
     "text": [
      "C:\\Users\\vfgtr554\\anaconda3\\envs\\cctv\\lib\\site-packages\\statsmodels\\base\\model.py:606: ConvergenceWarning: Maximum Likelihood optimization failed to converge. Check mle_retvals\n",
      "  ConvergenceWarning)\n"
     ]
    },
    {
     "name": "stdout",
     "output_type": "stream",
     "text": [
      "Predict Finish, 6.4274 5.5344 0.1836 0.7751 Evaluation Finish\n",
      "197: Data Load Finish, Predict Finish, 4.6439 4.0242 0.1339 0.8375 Evaluation Finish\n",
      "198: Data Load Finish, Predict Finish, 6.4149 5.5823 0.1858 0.7755 Evaluation Finish\n",
      "199: Data Load Finish, Predict Finish, 9.2142 8.6462 0.295 0.6775 Evaluation Finish\n",
      "200: Data Load Finish, Predict Finish, 3.6508 3.4467 0.1199 0.8722 Evaluation Finish\n",
      "201: Data Load Finish, Predict Finish, 6.9948 6.2109 0.2079 0.7552 Evaluation Finish\n",
      "202: Data Load Finish, "
     ]
    },
    {
     "name": "stderr",
     "output_type": "stream",
     "text": [
      "C:\\Users\\vfgtr554\\anaconda3\\envs\\cctv\\lib\\site-packages\\statsmodels\\base\\model.py:606: ConvergenceWarning: Maximum Likelihood optimization failed to converge. Check mle_retvals\n",
      "  ConvergenceWarning)\n"
     ]
    },
    {
     "name": "stdout",
     "output_type": "stream",
     "text": [
      "Predict Finish, 5.7085 4.7383 0.1555 0.8002 Evaluation Finish\n",
      "203: Data Load Finish, Predict Finish, 10.7845 10.2732 0.3528 0.6226 Evaluation Finish\n",
      "204: Data Load Finish, Predict Finish, 5.0883 4.057 0.1324 0.8219 Evaluation Finish\n",
      "205: Data Load Finish, Predict Finish, 7.5574 6.7925 0.2284 0.7355 Evaluation Finish\n",
      "206: Data Load Finish, Predict Finish, 9.2515 8.5609 0.2913 0.6762 Evaluation Finish\n",
      "207: Data Load Finish, Predict Finish, 5.7427 4.6923 0.1537 0.799 Evaluation Finish\n",
      "208: Data Load Finish, Predict Finish, 11.899 11.451 0.395 0.5836 Evaluation Finish\n",
      "209: Data Load Finish, Predict Finish, 4.7849 3.5314 0.1401 0.8326 Evaluation Finish\n",
      "210: Data Load Finish, Predict Finish, 3.3532 2.7721 0.1038 0.8827 Evaluation Finish\n",
      "211: Data Load Finish, Predict Finish, 7.8018 7.0054 0.2648 0.727 Evaluation Finish\n",
      "212: Data Load Finish, Predict Finish, 3.4039 2.687 0.1019 0.8809 Evaluation Finish\n",
      "213: Data Load Finish, Predict Finish, 16.7133 16.3163 0.5975 0.4151 Evaluation Finish\n",
      "214: Data Load Finish, Predict Finish, 13.5307 13.142 0.4555 0.5265 Evaluation Finish\n",
      "215: Data Load Finish, Predict Finish, 7.8496 7.1481 0.2413 0.7253 Evaluation Finish\n",
      "216: Data Load Finish, Predict Finish, 3.821 3.6014 0.124 0.8663 Evaluation Finish\n",
      "217: Data Load Finish, Predict Finish, 16.0229 15.6634 0.5738 0.4393 Evaluation Finish\n",
      "218: Data Load Finish, Predict Finish, 3.8962 3.5908 0.1233 0.8637 Evaluation Finish\n",
      "219: Data Load Finish, Predict Finish, 6.5181 5.623 0.215 0.7719 Evaluation Finish\n",
      "220: Data Load Finish, Predict Finish, 11.298 10.6859 0.3966 0.6046 Evaluation Finish\n",
      "221: Data Load Finish, "
     ]
    },
    {
     "name": "stderr",
     "output_type": "stream",
     "text": [
      "C:\\Users\\vfgtr554\\anaconda3\\envs\\cctv\\lib\\site-packages\\statsmodels\\base\\model.py:606: ConvergenceWarning: Maximum Likelihood optimization failed to converge. Check mle_retvals\n",
      "  ConvergenceWarning)\n"
     ]
    },
    {
     "name": "stdout",
     "output_type": "stream",
     "text": [
      "Predict Finish, 3.1934 3.0489 0.1116 0.8882 Evaluation Finish\n",
      "222: Data Load Finish, Predict Finish, 4.9189 4.1804 0.1382 0.8279 Evaluation Finish\n",
      "223: Data Load Finish, Predict Finish, 3.5563 3.0033 0.1133 0.8755 Evaluation Finish\n",
      "224: Data Load Finish, Predict Finish, 3.7449 3.0514 0.1176 0.8689 Evaluation Finish\n",
      "225: Data Load Finish, Predict Finish, 3.3468 3.0626 0.1108 0.8829 Evaluation Finish\n",
      "226: Data Load Finish, Predict Finish, 6.2287 5.6084 0.2103 0.782 Evaluation Finish\n",
      "227: Data Load Finish, Predict Finish, 6.0464 5.1146 0.1687 0.7884 Evaluation Finish\n",
      "228: Data Load Finish, Predict Finish, 5.7267 4.693 0.1535 0.7996 Evaluation Finish\n",
      "229: Data Load Finish, Predict Finish, 13.4071 13.0067 0.4786 0.5308 Evaluation Finish\n",
      "230: Data Load Finish, Predict Finish, 3.8569 3.2338 0.1102 0.865 Evaluation Finish\n",
      "231: Data Load Finish, Predict Finish, 3.4254 2.8779 0.1022 0.8801 Evaluation Finish\n",
      "232: Data Load Finish, Predict Finish, 4.2258 3.2401 0.1119 0.8521 Evaluation Finish\n",
      "233: Data Load Finish, Predict Finish, 4.7486 4.1898 0.14 0.8338 Evaluation Finish\n",
      "234: Data Load Finish, Predict Finish, 3.5629 3.1509 0.1148 0.8753 Evaluation Finish\n",
      "235: Data Load Finish, Predict Finish, 14.8673 14.5123 0.5323 0.4797 Evaluation Finish\n",
      "236: Data Load Finish, Predict Finish, 4.4199 3.742 0.1252 0.8453 Evaluation Finish\n",
      "237: Data Load Finish, Predict Finish, 5.1409 4.0714 0.1326 0.8201 Evaluation Finish\n",
      "238: Data Load Finish, Predict Finish, 5.6678 4.5956 0.15 0.8017 Evaluation Finish\n",
      "239: Data Load Finish, Predict Finish, 4.49 3.9499 0.1321 0.8429 Evaluation Finish\n",
      "240: Data Load Finish, Predict Finish, 4.0365 3.5585 0.1349 0.8587 Evaluation Finish\n",
      "241: Data Load Finish, Predict Finish, 4.577 3.9995 0.1334 0.8398 Evaluation Finish\n",
      "242: Data Load Finish, Predict Finish, 6.2354 5.333 0.1765 0.7818 Evaluation Finish\n",
      "243: Data Load Finish, Predict Finish, 26.2757 26.0286 0.9445 0.0805 Evaluation Finish\n",
      "244: Data Load Finish, Predict Finish, 10.1053 9.5403 0.3268 0.6464 Evaluation Finish\n",
      "245: Data Load Finish, Predict Finish, 11.2931 10.7697 0.3708 0.6048 Evaluation Finish\n",
      "246: Data Load Finish, Predict Finish, 14.4062 14.0421 0.4876 0.4959 Evaluation Finish\n",
      "247: Data Load Finish, Predict Finish, 9.1722 8.5164 0.29 0.679 Evaluation Finish\n",
      "248: Data Load Finish, Predict Finish, 11.0803 10.526 0.3618 0.6122 Evaluation Finish\n",
      "249: Data Load Finish, Predict Finish, 10.4536 9.938 0.3409 0.6342 Evaluation Finish\n",
      "250: Data Load Finish, Predict Finish, 10.9314 10.4425 0.3591 0.6175 Evaluation Finish\n",
      "251: Data Load Finish, Predict Finish, 11.8338 11.3606 0.3916 0.5859 Evaluation Finish\n",
      "252: Data Load Finish, Predict Finish, 3.3318 3.2514 0.1173 0.8834 Evaluation Finish\n",
      "253: Data Load Finish, Predict Finish, 7.4383 6.6354 0.2229 0.7397 Evaluation Finish\n",
      "254: Data Load Finish, Predict Finish, 5.0865 3.9283 0.1541 0.822 Evaluation Finish\n",
      "255: Data Load Finish, Predict Finish, 7.3021 6.4428 0.2157 0.7445 Evaluation Finish\n",
      "256: Data Load Finish, Predict Finish, 6.004 4.9913 0.164 0.7899 Evaluation Finish\n",
      "257: Data Load Finish, Predict Finish, 5.9818 5.0144 0.1932 0.7907 Evaluation Finish\n",
      "258: Data Load Finish, Predict Finish, 6.8628 6.02 0.2008 0.7598 Evaluation Finish\n",
      "259: Data Load Finish, Predict Finish, 3.3438 2.7275 0.1055 0.883 Evaluation Finish\n",
      "260: Data Load Finish, Predict Finish, 4.3273 3.3157 0.1305 0.8486 Evaluation Finish\n",
      "261: Data Load Finish, Predict Finish, 4.5886 3.585 0.1405 0.8394 Evaluation Finish\n",
      "262: Data Load Finish, Predict Finish, 4.2651 3.5495 0.137 0.8507 Evaluation Finish\n",
      "263: Data Load Finish, Predict Finish, 3.5304 3.0092 0.1112 0.8765 Evaluation Finish\n",
      "264: Data Load Finish, Predict Finish, 6.4005 5.5044 0.1826 0.776 Evaluation Finish\n",
      "265: Data Load Finish, Predict Finish, 5.8935 4.9019 0.161 0.7938 Evaluation Finish\n",
      "266: Data Load Finish, Predict Finish, 10.0995 9.5356 0.3266 0.6466 Evaluation Finish\n",
      "267: Data Load Finish, Predict Finish, 6.2908 5.4129 0.1795 0.7799 Evaluation Finish\n",
      "268: Data Load Finish, Predict Finish, 5.9008 4.9154 0.1615 0.7935 Evaluation Finish\n",
      "269: Data Load Finish, Predict Finish, 3.6211 3.0672 0.1161 0.8733 Evaluation Finish\n",
      "270: Data Load Finish, Predict Finish, 10.6678 10.0861 0.3457 0.6267 Evaluation Finish\n",
      "271: Data Load Finish, Predict Finish, 4.249 3.7982 0.1438 0.8513 Evaluation Finish\n",
      "272: Data Load Finish, Predict Finish, 4.597 3.9594 0.1515 0.8391 Evaluation Finish\n",
      "273: Data Load Finish, Predict Finish, 4.4559 3.9155 0.1311 0.8441 Evaluation Finish\n",
      "274: Data Load Finish, Predict Finish, 8.495 7.8046 0.2645 0.7027 Evaluation Finish\n",
      "275: Data Load Finish, Predict Finish, 8.0884 7.3822 0.2495 0.7169 Evaluation Finish\n",
      "276: Data Load Finish, Predict Finish, 9.2028 8.6066 0.2933 0.6779 Evaluation Finish\n",
      "277: Data Load Finish, Predict Finish, 10.9576 10.4851 0.3609 0.6165 Evaluation Finish\n",
      "278: Data Load Finish, Predict Finish, 5.9675 5.0118 0.165 0.7912 Evaluation Finish\n",
      "279: Data Load Finish, Predict Finish, 5.8549 4.822 0.158 0.7951 Evaluation Finish\n",
      "280: Data Load Finish, Predict Finish, 5.2126 4.3018 0.1409 0.8176 Evaluation Finish\n",
      "281: Data Load Finish, Predict Finish, 5.1524 4.1944 0.1372 0.8197 Evaluation Finish\n",
      "282: Data Load Finish, Predict Finish, 3.7337 3.2438 0.1136 0.8693 Evaluation Finish\n",
      "283: Data Load Finish, Predict Finish, 4.2058 3.6798 0.1401 0.8528 Evaluation Finish\n",
      "284: Data Load Finish, Predict Finish, 5.0415 4.1845 0.1612 0.8236 Evaluation Finish\n",
      "285: Data Load Finish, Predict Finish, 8.0092 7.2437 0.2443 0.7197 Evaluation Finish\n",
      "286: Data Load Finish, Predict Finish, 3.5696 2.9179 0.1118 0.8751 Evaluation Finish\n",
      "287: Data Load Finish, Predict Finish, 5.4207 3.4549 0.1101 0.8103 Evaluation Finish\n",
      "288: Data Load Finish, Predict Finish, 4.0255 3.7185 0.1268 0.8591 Evaluation Finish\n",
      "289: Data Load Finish, Predict Finish, 9.1281 8.5279 0.2905 0.6806 Evaluation Finish\n",
      "290: Data Load Finish, Predict Finish, 5.4989 4.3951 0.1711 0.8076 Evaluation Finish\n",
      "291: Data Load Finish, "
     ]
    },
    {
     "name": "stderr",
     "output_type": "stream",
     "text": [
      "C:\\Users\\vfgtr554\\anaconda3\\envs\\cctv\\lib\\site-packages\\statsmodels\\base\\model.py:606: ConvergenceWarning: Maximum Likelihood optimization failed to converge. Check mle_retvals\n",
      "  ConvergenceWarning)\n"
     ]
    },
    {
     "name": "stdout",
     "output_type": "stream",
     "text": [
      "Predict Finish, 4.0473 3.8804 0.1423 0.8584 Evaluation Finish\n",
      "292: Data Load Finish, Predict Finish, 3.8663 3.2312 0.1145 0.8647 Evaluation Finish\n",
      "293: Data Load Finish, Predict Finish, 4.8877 4.0423 0.133 0.829 Evaluation Finish\n",
      "294: Data Load Finish, Predict Finish, 4.8754 3.9173 0.1286 0.8294 Evaluation Finish\n",
      "295: Data Load Finish, Predict Finish, 5.5328 4.4681 0.1455 0.8064 Evaluation Finish\n",
      "296: Data Load Finish, Predict Finish, 5.2924 4.3001 0.1403 0.8148 Evaluation Finish\n",
      "297: Data Load Finish, Predict Finish, 5.4973 4.4319 0.1442 0.8076 Evaluation Finish\n",
      "298: Data Load Finish, Predict Finish, 10.4843 9.9778 0.3427 0.6331 Evaluation Finish\n",
      "299: Data Load Finish, Predict Finish, 3.5622 2.8186 0.1089 0.8753 Evaluation Finish\n",
      "300: Data Load Finish, Predict Finish, 5.807 4.821 0.1862 0.7968 Evaluation Finish\n",
      "301: Data Load Finish, Predict Finish, 7.9806 7.2534 0.2448 0.7207 Evaluation Finish\n",
      "302: Data Load Finish, Predict Finish, 10.9298 10.4047 0.3573 0.6175 Evaluation Finish\n",
      "303: Data Load Finish, Predict Finish, 6.3017 5.3784 0.2063 0.7795 Evaluation Finish\n",
      "304: Data Load Finish, Predict Finish, 7.5518 6.8233 0.2297 0.7357 Evaluation Finish\n",
      "305: Data Load Finish, Predict Finish, 4.4038 3.9119 0.1313 0.8459 Evaluation Finish\n",
      "306: Data Load Finish, Predict Finish, 10.824 10.3269 0.3548 0.6212 Evaluation Finish\n",
      "307: Data Load Finish, Predict Finish, 7.8331 7.11 0.2397 0.7259 Evaluation Finish\n",
      "308: Data Load Finish, Predict Finish, 5.4014 4.4029 0.1437 0.811 Evaluation Finish\n",
      "309: Data Load Finish, Predict Finish, 3.7873 3.2714 0.1142 0.8675 Evaluation Finish\n",
      "310: Data Load Finish, Predict Finish, 8.0327 7.2923 0.2461 0.7189 Evaluation Finish\n",
      "311: Data Load Finish, Predict Finish, 3.707 3.4331 0.1191 0.8703 Evaluation Finish\n",
      "312: Data Load Finish, Predict Finish, 12.9117 12.4631 0.4594 0.5482 Evaluation Finish\n",
      "313: Data Load Finish, Predict Finish, 8.3798 7.6648 0.2594 0.7067 Evaluation Finish\n",
      "314: Data Load Finish, Predict Finish, 4.7377 4.0493 0.1343 0.8342 Evaluation Finish\n",
      "315: Data Load Finish, Predict Finish, 4.2548 3.8104 0.1287 0.8511 Evaluation Finish\n",
      "316: Data Load Finish, Predict Finish, 5.9375 4.9535 0.1628 0.7922 Evaluation Finish\n",
      "317: Data Load Finish, Predict Finish, 3.4677 2.8518 0.1068 0.8786 Evaluation Finish\n",
      "318: Data Load Finish, Predict Finish, 10.521 9.9976 0.343 0.6318 Evaluation Finish\n",
      "319: Data Load Finish, Predict Finish, 9.6752 9.1162 0.3116 0.6614 Evaluation Finish\n",
      "320: Data Load Finish, Predict Finish, 6.0404 5.0816 0.1674 0.7886 Evaluation Finish\n",
      "321: Data Load Finish, Predict Finish, 3.4156 3.2631 0.1158 0.8805 Evaluation Finish\n",
      "322: Data Load Finish, Predict Finish, 3.4335 3.2392 0.1151 0.8798 Evaluation Finish\n",
      "323: Data Load Finish, Predict Finish, 5.09 4.1895 0.1374 0.8219 Evaluation Finish\n",
      "324: Data Load Finish, Predict Finish, 6.1924 5.107 0.197 0.7833 Evaluation Finish\n",
      "325: Data Load Finish, Predict Finish, 7.6882 6.9206 0.2614 0.731 Evaluation Finish\n",
      "326: Data Load Finish, Predict Finish, 7.1668 6.3892 0.2142 0.7492 Evaluation Finish\n",
      "327: Data Load Finish, Predict Finish, 17.1275 16.8035 0.6145 0.4006 Evaluation Finish\n",
      "328: Data Load Finish, Predict Finish, 14.3095 13.869 0.5101 0.4992 Evaluation Finish\n",
      "329: Data Load Finish, Predict Finish, 5.0588 3.8396 0.1513 0.823 Evaluation Finish\n",
      "330: Data Load Finish, Predict Finish, 6.3065 5.3671 0.2059 0.7793 Evaluation Finish\n",
      "331: Data Load Finish, Predict Finish, 7.2532 6.4383 0.2437 0.7462 Evaluation Finish\n",
      "332: Data Load Finish, "
     ]
    },
    {
     "name": "stderr",
     "output_type": "stream",
     "text": [
      "C:\\Users\\vfgtr554\\anaconda3\\envs\\cctv\\lib\\site-packages\\statsmodels\\base\\model.py:606: ConvergenceWarning: Maximum Likelihood optimization failed to converge. Check mle_retvals\n",
      "  ConvergenceWarning)\n"
     ]
    },
    {
     "name": "stdout",
     "output_type": "stream",
     "text": [
      "Predict Finish, 13.1058 12.1546 0.4495 0.5414 Evaluation Finish\n",
      "333: Data Load Finish, Predict Finish, 10.7378 10.2402 0.3796 0.6242 Evaluation Finish\n",
      "334: Data Load Finish, Predict Finish, 19.7657 19.4911 0.7104 0.3083 Evaluation Finish\n",
      "335: Data Load Finish, Predict Finish, 4.2473 3.3496 0.1309 0.8514 Evaluation Finish\n",
      "336: Data Load Finish, Predict Finish, 13.5714 13.1098 0.4829 0.5251 Evaluation Finish\n",
      "337: Data Load Finish, Predict Finish, 6.2865 5.2664 0.2026 0.78 Evaluation Finish\n",
      "338: Data Load Finish, Predict Finish, 15.5672 15.2257 0.5579 0.4552 Evaluation Finish\n",
      "339: Data Load Finish, Predict Finish, 6.6007 5.7141 0.2183 0.769 Evaluation Finish\n",
      "340: Data Load Finish, Predict Finish, 3.3874 2.5723 0.0998 0.8815 Evaluation Finish\n",
      "341: Data Load Finish, Predict Finish, 4.7677 3.4843 0.1385 0.8332 Evaluation Finish\n",
      "342: Data Load Finish, Predict Finish, 15.6875 15.3322 0.5619 0.451 Evaluation Finish\n",
      "343: Data Load Finish, Predict Finish, 11.0169 10.466 0.3884 0.6145 Evaluation Finish\n",
      "344: Data Load Finish, Predict Finish, 5.0558 3.9307 0.154 0.8231 Evaluation Finish\n",
      "345: Data Load Finish, Predict Finish, 8.4886 7.7361 0.291 0.7029 Evaluation Finish\n",
      "346: Data Load Finish, Predict Finish, 11.9524 11.5045 0.3969 0.5817 Evaluation Finish\n",
      "347: Data Load Finish, Predict Finish, 3.3497 2.8694 0.1059 0.8828 Evaluation Finish\n",
      "348: Data Load Finish, Predict Finish, 8.6083 7.975 0.2986 0.6988 Evaluation Finish\n",
      "349: Data Load Finish, Predict Finish, 7.9143 7.2036 0.2433 0.723 Evaluation Finish\n",
      "350: Data Load Finish, Predict Finish, 14.3889 14.0182 0.4867 0.4965 Evaluation Finish\n",
      "351: Data Load Finish, Predict Finish, 4.0776 3.6165 0.1229 0.8573 Evaluation Finish\n",
      "352: Data Load Finish, Predict Finish, 3.6114 3.2575 0.1145 0.8736 Evaluation Finish\n",
      "353: Data Load Finish, Predict Finish, 5.2295 4.0154 0.1578 0.817 Evaluation Finish\n",
      "354: Data Load Finish, Predict Finish, 4.1587 3.2203 0.1263 0.8545 Evaluation Finish\n",
      "355: Data Load Finish, Predict Finish, 4.0139 3.087 0.1212 0.8595 Evaluation Finish\n",
      "356: Data Load Finish, Predict Finish, 3.2961 2.8155 0.1051 0.8847 Evaluation Finish\n",
      "357: Data Load Finish, Predict Finish, 3.8552 2.8329 0.1121 0.8651 Evaluation Finish\n",
      "358: Data Load Finish, Predict Finish, 3.3798 2.7863 0.1037 0.8817 Evaluation Finish\n",
      "359: Data Load Finish, Predict Finish, 6.3763 5.3783 0.2066 0.7769 Evaluation Finish\n",
      "360: Data Load Finish, Predict Finish, 6.8134 5.8242 0.2228 0.7616 Evaluation Finish\n",
      "361: Data Load Finish, Predict Finish, 7.0871 6.093 0.2324 0.752 Evaluation Finish\n",
      "362: Data Load Finish, Predict Finish, 3.5983 3.1277 0.1109 0.8741 Evaluation Finish\n",
      "363: Data Load Finish, Predict Finish, 8.2644 7.5404 0.255 0.7108 Evaluation Finish\n",
      "364: Data Load Finish, Predict Finish, 7.5158 6.7588 0.2272 0.737 Evaluation Finish\n",
      "365: Data Load Finish, Predict Finish, 3.9762 3.1326 0.1222 0.8609 Evaluation Finish\n",
      "366: Data Load Finish, Predict Finish, 4.4816 3.9517 0.1323 0.8432 Evaluation Finish\n",
      "367: Data Load Finish, Predict Finish, 7.2304 6.3921 0.2427 0.747 Evaluation Finish\n",
      "368: Data Load Finish, Predict Finish, 5.4011 4.37 0.1424 0.811 Evaluation Finish\n",
      "369: Data Load Finish, Predict Finish, 4.4687 3.8824 0.13 0.8436 Evaluation Finish\n",
      "370: Data Load Finish, Predict Finish, 3.8341 3.4342 0.1289 0.8658 Evaluation Finish\n",
      "371: Data Load Finish, Predict Finish, 3.2297 2.9327 0.1083 0.887 Evaluation Finish\n",
      "372: Data Load Finish, Predict Finish, 14.3634 13.9688 0.5132 0.4974 Evaluation Finish\n",
      "373: Data Load Finish, Predict Finish, 4.9019 4.0545 0.1337 0.8285 Evaluation Finish\n",
      "374: Data Load Finish, Predict Finish, 12.3773 11.8651 0.4385 0.5669 Evaluation Finish\n",
      "375: Data Load Finish, Predict Finish, 36.319 36.1661 1.3061 -0.271 Evaluation Finish\n",
      "376: Data Load Finish, Predict Finish, 54.0795 53.9818 1.9422 -0.8925 Evaluation Finish\n",
      "377: Data Load Finish, Predict Finish, 50.5474 50.3316 1.8141 -0.7689 Evaluation Finish\n",
      "378: Data Load Finish, Predict Finish, 37.851 37.6237 1.3595 -0.3246 Evaluation Finish\n",
      "379: Data Load Finish, Predict Finish, 4.3078 3.825 0.1451 0.8492 Evaluation Finish\n",
      "380: Data Load Finish, Predict Finish, 9.3248 8.4829 0.3179 0.6737 Evaluation Finish\n",
      "381: Data Load Finish, Predict Finish, 4.1351 3.6147 0.1228 0.8553 Evaluation Finish\n",
      "382: Data Load Finish, Predict Finish, 7.142 6.1146 0.2334 0.7501 Evaluation Finish\n",
      "383: Data Load Finish, Predict Finish, 4.7476 4.1558 0.1385 0.8339 Evaluation Finish\n",
      "384: Data Load Finish, Predict Finish, 4.998 4.2239 0.1393 0.8251 Evaluation Finish\n",
      "385: Data Load Finish, Predict Finish, 4.1123 3.7744 0.1282 0.8561 Evaluation Finish\n",
      "386: Data Load Finish, Predict Finish, 6.4474 5.3639 0.2063 0.7744 Evaluation Finish\n",
      "387: Data Load Finish, Predict Finish, 5.3014 4.1185 0.1614 0.8145 Evaluation Finish\n",
      "388: Data Load Finish, Predict Finish, 4.5139 3.5091 0.1376 0.842 Evaluation Finish\n",
      "389: Data Load Finish, Predict Finish, 19.3163 19.0332 0.694 0.324 Evaluation Finish\n",
      "390: Data Load Finish, Predict Finish, 27.5332 27.3347 0.9906 0.0365 Evaluation Finish\n",
      "391: Data Load Finish, Predict Finish, 10.447 9.9314 0.3408 0.6344 Evaluation Finish\n",
      "392: Data Load Finish, Predict Finish, 9.613 9.0546 0.3095 0.6636 Evaluation Finish\n",
      "393: Data Load Finish, Predict Finish, 5.4172 4.2825 0.139 0.8104 Evaluation Finish\n",
      "394: Data Load Finish, Predict Finish, 6.1666 5.2112 0.1721 0.7842 Evaluation Finish\n",
      "395: Data Load Finish, Predict Finish, 6.8065 5.8835 0.1957 0.7618 Evaluation Finish\n",
      "396: Data Load Finish, Predict Finish, 3.8634 3.2399 0.1125 0.8648 Evaluation Finish\n",
      "397: Data Load Finish, Predict Finish, 4.5931 3.5581 0.1396 0.8393 Evaluation Finish\n",
      "398: Data Load Finish, Predict Finish, 6.8643 5.9443 0.1982 0.7598 Evaluation Finish\n",
      "399: Data Load Finish, Predict Finish, 6.9467 6.0113 0.2002 0.7569 Evaluation Finish\n",
      "400: Data Load Finish, Predict Finish, 10.0486 9.5159 0.3259 0.6484 Evaluation Finish\n",
      "401: Data Load Finish, Predict Finish, 5.3122 4.2001 0.1365 0.8141 Evaluation Finish\n",
      "402: Data Load Finish, Predict Finish, 4.856 3.9398 0.1299 0.8301 Evaluation Finish\n",
      "403: Data Load Finish, Predict Finish, 6.6436 5.7459 0.191 0.7675 Evaluation Finish\n",
      "404: Data Load Finish, Predict Finish, 7.32 6.5006 0.2179 0.7438 Evaluation Finish\n",
      "405: Data Load Finish, Predict Finish, 9.2813 8.6488 0.3233 0.6752 Evaluation Finish\n",
      "406: Data Load Finish, Predict Finish, 3.3976 2.7009 0.1023 0.8811 Evaluation Finish\n",
      "407: Data Load Finish, Predict Finish, 3.2004 2.9357 0.1084 0.888 Evaluation Finish\n",
      "408: Data Load Finish, Predict Finish, 3.8341 3.177 0.1221 0.8658 Evaluation Finish\n",
      "409: Data Load Finish, Predict Finish, 5.3237 4.1007 0.1608 0.8137 Evaluation Finish\n",
      "410: Data Load Finish, Predict Finish, 3.4886 3.2924 0.1163 0.8779 Evaluation Finish\n",
      "411: Data Load Finish, Predict Finish, 3.4351 3.1303 0.112 0.8798 Evaluation Finish\n",
      "412: Data Load Finish, Predict Finish, 11.9604 11.4814 0.4238 0.5814 Evaluation Finish\n",
      "413: Data Load Finish, Predict Finish, 5.3056 3.7796 0.1216 0.8143 Evaluation Finish\n",
      "414: Data Load Finish, Predict Finish, 6.6173 5.5962 0.2127 0.7684 Evaluation Finish\n",
      "415: Data Load Finish, Predict Finish, 3.521 2.8372 0.1007 0.8768 Evaluation Finish\n",
      "416: Data Load Finish, Predict Finish, 3.3391 3.0268 0.1141 0.8831 Evaluation Finish\n",
      "417: Data Load Finish, Predict Finish, 4.8221 4.7667 0.1733 0.8312 Evaluation Finish\n",
      "418: Data Load Finish, Predict Finish, 16.3532 16.01 0.5861 0.4277 Evaluation Finish\n",
      "419: Data Load Finish, Predict Finish, 10.1566 9.6333 0.3302 0.6446 Evaluation Finish\n",
      "420: Data Load Finish, Predict Finish, 3.6322 3.112 0.1172 0.8729 Evaluation Finish\n",
      "421: Data Load Finish, Predict Finish, 3.3494 3.3029 0.1202 0.8828 Evaluation Finish\n",
      "422: Data Load Finish, Predict Finish, 7.1944 6.4308 0.2157 0.7482 Evaluation Finish\n",
      "423: Data Load Finish, Predict Finish, 5.4115 4.2302 0.1655 0.8106 Evaluation Finish\n",
      "424: Data Load Finish, "
     ]
    },
    {
     "name": "stderr",
     "output_type": "stream",
     "text": [
      "C:\\Users\\vfgtr554\\anaconda3\\envs\\cctv\\lib\\site-packages\\statsmodels\\base\\model.py:606: ConvergenceWarning: Maximum Likelihood optimization failed to converge. Check mle_retvals\n",
      "  ConvergenceWarning)\n"
     ]
    },
    {
     "name": "stdout",
     "output_type": "stream",
     "text": [
      "Predict Finish, 7.668 6.7192 0.2549 0.7317 Evaluation Finish\n",
      "425: Data Load Finish, Predict Finish, 4.1842 3.8331 0.1298 0.8536 Evaluation Finish\n",
      "426: Data Load Finish, Predict Finish, 18.3233 18.0005 0.6575 0.3588 Evaluation Finish\n",
      "427: Data Load Finish, Predict Finish, 26.9134 26.707 0.9682 0.0582 Evaluation Finish\n",
      "428: Data Load Finish, Predict Finish, 23.4125 23.195 0.8422 0.1807 Evaluation Finish\n",
      "429: Data Load Finish, Predict Finish, 30.2427 30.044 1.0877 -0.0583 Evaluation Finish\n",
      "430: Data Load Finish, Predict Finish, 27.9403 27.7425 1.0045 0.0222 Evaluation Finish\n",
      "431: Data Load Finish, Predict Finish, 23.6575 23.3972 0.8502 0.1721 Evaluation Finish\n",
      "432: Data Load Finish, Predict Finish, 13.0976 12.6687 0.4385 0.5417 Evaluation Finish\n",
      "433: Data Load Finish, Predict Finish, 15.2419 14.8727 0.5172 0.4666 Evaluation Finish\n",
      "434: Data Load Finish, Predict Finish, 6.9333 6.0183 0.2008 0.7574 Evaluation Finish\n",
      "435: Data Load Finish, Predict Finish, 7.9835 7.1633 0.2416 0.7206 Evaluation Finish\n",
      "436: Data Load Finish, Predict Finish, 11.7338 11.2758 0.3887 0.5894 Evaluation Finish\n",
      "437: Data Load Finish, Predict Finish, 5.5427 4.3712 0.1421 0.806 Evaluation Finish\n",
      "438: Data Load Finish, Predict Finish, 6.1305 5.2408 0.1735 0.7855 Evaluation Finish\n",
      "439: Data Load Finish, Predict Finish, 3.3304 2.9779 0.107 0.8835 Evaluation Finish\n",
      "440: Data Load Finish, Predict Finish, 6.2931 5.3924 0.2067 0.7798 Evaluation Finish\n",
      "441: Data Load Finish, Predict Finish, 3.4268 2.6317 0.1017 0.8801 Evaluation Finish\n",
      "442: Data Load Finish, Predict Finish, 4.4952 3.237 0.1291 0.8427 Evaluation Finish\n",
      "443: Data Load Finish, Predict Finish, 8.8776 8.2695 0.2814 0.6893 Evaluation Finish\n",
      "444: Data Load Finish, Predict Finish, 6.2471 5.0365 0.1659 0.7814 Evaluation Finish\n",
      "445: Data Load Finish, Predict Finish, 7.0536 6.1676 0.2058 0.7532 Evaluation Finish\n",
      "446: Data Load Finish, Predict Finish, 3.8064 3.5819 0.1234 0.8668 Evaluation Finish\n",
      "447: Data Load Finish, Predict Finish, 3.7662 3.4986 0.1205 0.8682 Evaluation Finish\n",
      "448: Data Load Finish, Predict Finish, 7.9584 7.247 0.2729 0.7215 Evaluation Finish\n",
      "449: Data Load Finish, Predict Finish, 5.1605 4.1884 0.1369 0.8194 Evaluation Finish\n",
      "450: Data Load Finish, "
     ]
    },
    {
     "name": "stderr",
     "output_type": "stream",
     "text": [
      "C:\\Users\\vfgtr554\\anaconda3\\envs\\cctv\\lib\\site-packages\\statsmodels\\base\\model.py:606: ConvergenceWarning: Maximum Likelihood optimization failed to converge. Check mle_retvals\n",
      "  ConvergenceWarning)\n"
     ]
    },
    {
     "name": "stdout",
     "output_type": "stream",
     "text": [
      "Predict Finish, 5.0452 4.162 0.1365 0.8234 Evaluation Finish\n",
      "451: Data Load Finish, Predict Finish, 4.0353 3.5513 0.1349 0.8588 Evaluation Finish\n",
      "452: Data Load Finish, Predict Finish, 4.5335 3.847 0.1284 0.8414 Evaluation Finish\n",
      "453: Data Load Finish, Predict Finish, 4.3656 3.9703 0.134 0.8472 Evaluation Finish\n",
      "454: Data Load Finish, Predict Finish, 10.1017 9.5737 0.3282 0.6465 Evaluation Finish\n",
      "455: Data Load Finish, Predict Finish, 11.8538 11.4193 0.3941 0.5852 Evaluation Finish\n",
      "456: Data Load Finish, Predict Finish, 7.7181 7.0411 0.2378 0.7299 Evaluation Finish\n",
      "457: Data Load Finish, Predict Finish, 7.5996 6.8849 0.232 0.7341 Evaluation Finish\n",
      "458: Data Load Finish, Predict Finish, 3.4909 2.9156 0.1065 0.8778 Evaluation Finish\n",
      "459: Data Load Finish, Predict Finish, 3.3791 2.6383 0.101 0.8817 Evaluation Finish\n",
      "460: Data Load Finish, Predict Finish, 8.2162 7.5333 0.2549 0.7125 Evaluation Finish\n",
      "461: Data Load Finish, Predict Finish, 3.6622 3.5243 0.1225 0.8718 Evaluation Finish\n",
      "462: Data Load Finish, Predict Finish, 4.5165 3.9587 0.1323 0.8419 Evaluation Finish\n",
      "463: Data Load Finish, Predict Finish, 6.6699 5.8263 0.1941 0.7666 Evaluation Finish\n",
      "464: Data Load Finish, Predict Finish, 3.3386 2.8394 0.1052 0.8832 Evaluation Finish\n",
      "465: Data Load Finish, Predict Finish, 8.6143 8.0079 0.2723 0.6985 Evaluation Finish\n",
      "466: Data Load Finish, Predict Finish, 11.598 11.153 0.3846 0.5941 Evaluation Finish\n",
      "467: Data Load Finish, Predict Finish, 3.2402 3.1218 0.113 0.8866 Evaluation Finish\n",
      "468: Data Load Finish, Predict Finish, 10.1811 9.6308 0.3582 0.6437 Evaluation Finish\n",
      "469: Data Load Finish, Predict Finish, 3.4372 2.8112 0.1065 0.8797 Evaluation Finish\n",
      "470: Data Load Finish, Predict Finish, 10.6037 10.0231 0.3437 0.6289 Evaluation Finish\n",
      "471: Data Load Finish, Predict Finish, 3.3629 3.0472 0.11 0.8823 Evaluation Finish\n",
      "472: Data Load Finish, Predict Finish, 8.3671 7.5516 0.2552 0.7072 Evaluation Finish\n",
      "473: Data Load Finish, Predict Finish, 10.3724 9.138 0.3426 0.637 Evaluation Finish\n",
      "474: Data Load Finish, Predict Finish, 5.6444 4.571 0.1775 0.8025 Evaluation Finish\n",
      "475: Data Load Finish, Predict Finish, 9.998 9.4745 0.3252 0.6501 Evaluation Finish\n",
      "476: Data Load Finish, Predict Finish, 5.4851 4.3751 0.1421 0.808 Evaluation Finish\n",
      "477: Data Load Finish, Predict Finish, 4.8706 4.1995 0.1393 0.8296 Evaluation Finish\n",
      "478: Data Load Finish, Predict Finish, 6.4716 5.5494 0.1839 0.7735 Evaluation Finish\n",
      "479: Data Load Finish, Predict Finish, 6.5174 5.6966 0.1898 0.7719 Evaluation Finish\n",
      "480: Data Load Finish, Predict Finish, 6.6715 5.7795 0.1921 0.7665 Evaluation Finish\n",
      "481: Data Load Finish, Predict Finish, 3.4718 3.1499 0.112 0.8785 Evaluation Finish\n",
      "482: Data Load Finish, Predict Finish, 4.6361 3.918 0.1305 0.8378 Evaluation Finish\n",
      "483: Data Load Finish, Predict Finish, 3.977 3.6032 0.1231 0.8608 Evaluation Finish\n",
      "484: Data Load Finish, "
     ]
    },
    {
     "name": "stderr",
     "output_type": "stream",
     "text": [
      "C:\\Users\\vfgtr554\\anaconda3\\envs\\cctv\\lib\\site-packages\\statsmodels\\base\\model.py:606: ConvergenceWarning: Maximum Likelihood optimization failed to converge. Check mle_retvals\n",
      "  ConvergenceWarning)\n"
     ]
    },
    {
     "name": "stdout",
     "output_type": "stream",
     "text": [
      "Predict Finish, 4.0667 3.714 0.1263 0.8577 Evaluation Finish\n",
      "485: Data Load Finish, Predict Finish, 4.6767 4.1702 0.1581 0.8363 Evaluation Finish\n",
      "486: Data Load Finish, Predict Finish, 4.0779 3.7372 0.1271 0.8573 Evaluation Finish\n",
      "487: Data Load Finish, Predict Finish, 11.6371 11.1585 0.4126 0.5928 Evaluation Finish\n",
      "488: Data Load Finish, Predict Finish, 4.4285 3.4194 0.1343 0.845 Evaluation Finish\n",
      "489: Data Load Finish, Predict Finish, 13.895 13.4966 0.4958 0.5137 Evaluation Finish\n",
      "490: Data Load Finish, Predict Finish, 11.0625 10.5542 0.3912 0.6129 Evaluation Finish\n",
      "491: Data Load Finish, Predict Finish, 7.0038 6.1177 0.2051 0.7549 Evaluation Finish\n",
      "492: Data Load Finish, Predict Finish, 5.2582 3.8541 0.125 0.816 Evaluation Finish\n",
      "493: Data Load Finish, Predict Finish, 3.4048 2.5886 0.0999 0.8808 Evaluation Finish\n",
      "494: Data Load Finish, Predict Finish, 5.0658 4.1319 0.1354 0.8227 Evaluation Finish\n",
      "495: Data Load Finish, Predict Finish, 3.9063 3.6391 0.1349 0.8633 Evaluation Finish\n",
      "496: Data Load Finish, Predict Finish, 3.5683 3.3606 0.1173 0.8751 Evaluation Finish\n",
      "497: Data Load Finish, Predict Finish, 3.9933 3.7611 0.1289 0.8603 Evaluation Finish\n",
      "498: Data Load Finish, Predict Finish, 5.1224 3.9514 0.1552 0.8207 Evaluation Finish\n",
      "499: Data Load Finish, Predict Finish, 3.2662 3.0559 0.1114 0.8857 Evaluation Finish\n",
      "500: Data Load Finish, Predict Finish, 3.3026 2.7523 0.1016 0.8844 Evaluation Finish\n",
      "501: Data Load Finish, Predict Finish, 3.6181 3.146 0.1187 0.8734 Evaluation Finish\n",
      "502: Data Load Finish, Predict Finish, 6.5387 5.7004 0.2149 0.7712 Evaluation Finish\n",
      "503: Data Load Finish, Predict Finish, 5.5933 4.515 0.1471 0.8043 Evaluation Finish\n",
      "504: Data Load Finish, Predict Finish, 3.4722 3.016 0.1118 0.8785 Evaluation Finish\n",
      "505: Data Load Finish, Predict Finish, 11.9951 11.5032 0.3974 0.5802 Evaluation Finish\n",
      "RMSE: 7.830157371068953, MAE: 7.180431188481703, MAPE: 0.2549178267154006\n",
      "ACC: 0.7315493631337746\n"
     ]
    }
   ],
   "source": [
    "predictARIMA(df, idx, 3)"
   ]
  },
  {
   "cell_type": "markdown",
   "id": "c1acb05c",
   "metadata": {},
   "source": [
    "### Unobserved Nodes = 5%"
   ]
  },
  {
   "cell_type": "code",
   "execution_count": 10,
   "id": "8a799433",
   "metadata": {},
   "outputs": [
    {
     "name": "stdout",
     "output_type": "stream",
     "text": [
      "2880 506\n"
     ]
    },
    {
     "data": {
      "text/plain": [
       "72000"
      ]
     },
     "execution_count": 10,
     "metadata": {},
     "output_type": "execute_result"
    }
   ],
   "source": [
    "df, idx = csvIndexToDatetime(path_5, start, freq)\n",
    "(df == 0).sum().sum()"
   ]
  },
  {
   "cell_type": "code",
   "execution_count": 11,
   "id": "83ef8625",
   "metadata": {
    "scrolled": false
   },
   "outputs": [
    {
     "name": "stdout",
     "output_type": "stream",
     "text": [
      "0: Data Load Finish, Predict Finish, 3.547 3.4717 0.1219 0.8759 Evaluation Finish\n",
      "1: Data Load Finish, Predict Finish, 3.9207 3.401 0.1194 0.8628 Evaluation Finish\n",
      "2: Data Load Finish, Predict Finish, 5.0571 3.9157 0.1537 0.823 Evaluation Finish\n",
      "3: Data Load Finish, Predict Finish, 13.0645 12.6348 0.4656 0.5428 Evaluation Finish\n",
      "4: Data Load Finish, Predict Finish, 6.6472 5.5728 0.1844 0.7674 Evaluation Finish\n",
      "5: Data Load Finish, Predict Finish, 6.691 5.8393 0.1945 0.7659 Evaluation Finish\n",
      "6: Data Load Finish, Predict Finish, 3.5226 3.0056 0.1103 0.8767 Evaluation Finish\n",
      "7: Data Load Finish, Predict Finish, 11.4934 11.0395 0.3805 0.5978 Evaluation Finish\n",
      "8: Data Load Finish, Predict Finish, 5.876 4.8442 0.1588 0.7944 Evaluation Finish\n",
      "9: Data Load Finish, Predict Finish, 9.7921 9.237 0.3159 0.6573 Evaluation Finish\n",
      "10: Data Load Finish, Predict Finish, 12.0162 11.5933 0.4005 0.5795 Evaluation Finish\n",
      "11: Data Load Finish, Predict Finish, 3.4725 3.2956 0.1165 0.8785 Evaluation Finish\n",
      "12: Data Load Finish, Predict Finish, 15.4933 15.1499 0.5552 0.4578 Evaluation Finish\n",
      "13: Data Load Finish, Predict Finish, 26.0449 25.8359 0.937 0.0886 Evaluation Finish\n",
      "14: Data Load Finish, Predict Finish, 29.5648 29.3795 1.0636 -0.0346 Evaluation Finish\n",
      "15: Data Load Finish, Predict Finish, 18.4932 18.1968 0.6642 0.3528 Evaluation Finish\n",
      "16: Data Load Finish, Predict Finish, 8.5555 7.8346 0.2944 0.7006 Evaluation Finish\n",
      "17: Data Load Finish, Predict Finish, 11.0244 10.5311 0.3621 0.6142 Evaluation Finish\n",
      "18: Data Load Finish, Predict Finish, 5.5337 4.4628 0.1453 0.8063 Evaluation Finish\n",
      "19: Data Load Finish, Predict Finish, 10.9093 10.4425 0.3595 0.6182 Evaluation Finish\n",
      "20: Data Load Finish, "
     ]
    },
    {
     "name": "stderr",
     "output_type": "stream",
     "text": [
      "C:\\Users\\vfgtr554\\anaconda3\\envs\\cctv\\lib\\site-packages\\statsmodels\\base\\model.py:606: ConvergenceWarning: Maximum Likelihood optimization failed to converge. Check mle_retvals\n",
      "  ConvergenceWarning)\n"
     ]
    },
    {
     "name": "stdout",
     "output_type": "stream",
     "text": [
      "Predict Finish, 7.2059 6.4193 0.2152 0.7478 Evaluation Finish\n",
      "21: Data Load Finish, "
     ]
    },
    {
     "name": "stderr",
     "output_type": "stream",
     "text": [
      "C:\\Users\\vfgtr554\\anaconda3\\envs\\cctv\\lib\\site-packages\\statsmodels\\base\\model.py:606: ConvergenceWarning: Maximum Likelihood optimization failed to converge. Check mle_retvals\n",
      "  ConvergenceWarning)\n"
     ]
    },
    {
     "name": "stdout",
     "output_type": "stream",
     "text": [
      "Predict Finish, 3.7703 3.2578 0.1134 0.8681 Evaluation Finish\n",
      "22: Data Load Finish, Predict Finish, 3.9366 3.5807 0.1225 0.8622 Evaluation Finish\n",
      "23: Data Load Finish, Predict Finish, 4.1146 3.8392 0.1307 0.856 Evaluation Finish\n",
      "24: Data Load Finish, Predict Finish, 15.9693 15.5787 0.5711 0.4412 Evaluation Finish\n",
      "25: Data Load Finish, "
     ]
    },
    {
     "name": "stderr",
     "output_type": "stream",
     "text": [
      "C:\\Users\\vfgtr554\\anaconda3\\envs\\cctv\\lib\\site-packages\\pandas\\core\\arraylike.py:364: RuntimeWarning: divide by zero encountered in log\n",
      "  result = getattr(ufunc, method)(*inputs, **kwargs)\n",
      "C:\\Users\\vfgtr554\\anaconda3\\envs\\cctv\\lib\\site-packages\\statsmodels\\base\\model.py:606: ConvergenceWarning: Maximum Likelihood optimization failed to converge. Check mle_retvals\n",
      "  ConvergenceWarning)\n"
     ]
    },
    {
     "name": "stdout",
     "output_type": "stream",
     "text": [
      "Predict Finish, 27.5823 27.39 0.9643 0.0348 Evaluation Finish\n",
      "26: Data Load Finish, Predict Finish, 6.0958 5.1949 0.1718 0.7867 Evaluation Finish\n",
      "27: Data Load Finish, Predict Finish, 5.9701 4.9703 0.1634 0.7911 Evaluation Finish\n",
      "28: Data Load Finish, Predict Finish, 7.2815 6.2657 0.2383 0.7452 Evaluation Finish\n",
      "29: Data Load Finish, Predict Finish, 4.2925 3.5573 0.1189 0.8498 Evaluation Finish\n",
      "30: Data Load Finish, Predict Finish, 3.5433 3.0556 0.1152 0.876 Evaluation Finish\n",
      "31: Data Load Finish, Predict Finish, 3.531 3.3023 0.1156 0.8764 Evaluation Finish\n",
      "32: Data Load Finish, Predict Finish, 3.45 3.128 0.1109 0.8793 Evaluation Finish\n",
      "33: Data Load Finish, Predict Finish, 10.1584 9.4274 0.3227 0.6445 Evaluation Finish\n",
      "34: Data Load Finish, Predict Finish, 3.849 3.5335 0.1256 0.8653 Evaluation Finish\n",
      "35: Data Load Finish, Predict Finish, 7.6551 6.8959 0.2321 0.7321 Evaluation Finish\n",
      "36: Data Load Finish, "
     ]
    },
    {
     "name": "stderr",
     "output_type": "stream",
     "text": [
      "C:\\Users\\vfgtr554\\anaconda3\\envs\\cctv\\lib\\site-packages\\pandas\\core\\arraylike.py:364: RuntimeWarning: divide by zero encountered in log\n",
      "  result = getattr(ufunc, method)(*inputs, **kwargs)\n",
      "C:\\Users\\vfgtr554\\anaconda3\\envs\\cctv\\lib\\site-packages\\statsmodels\\base\\model.py:606: ConvergenceWarning: Maximum Likelihood optimization failed to converge. Check mle_retvals\n",
      "  ConvergenceWarning)\n"
     ]
    },
    {
     "name": "stdout",
     "output_type": "stream",
     "text": [
      "Predict Finish, 27.5823 27.39 0.9643 0.0348 Evaluation Finish\n",
      "37: Data Load Finish, Predict Finish, 5.5557 4.4869 0.1462 0.8056 Evaluation Finish\n",
      "38: Data Load Finish, Predict Finish, 6.438 5.4301 0.1796 0.7747 Evaluation Finish\n",
      "39: Data Load Finish, Predict Finish, 3.5549 3.276 0.1146 0.8756 Evaluation Finish\n",
      "40: Data Load Finish, Predict Finish, 6.4264 5.5467 0.1842 0.7751 Evaluation Finish\n",
      "41: Data Load Finish, Predict Finish, 8.7611 8.0837 0.2746 0.6934 Evaluation Finish\n",
      "42: Data Load Finish, Predict Finish, 6.5716 5.5541 0.1845 0.77 Evaluation Finish\n",
      "43: Data Load Finish, Predict Finish, 4.6277 4.2229 0.1491 0.8381 Evaluation Finish\n",
      "44: Data Load Finish, Predict Finish, 3.3916 2.6969 0.1029 0.8813 Evaluation Finish\n",
      "45: Data Load Finish, Predict Finish, 5.9711 4.8805 0.1598 0.791 Evaluation Finish\n",
      "46: Data Load Finish, Predict Finish, 5.4486 4.3701 0.1702 0.8093 Evaluation Finish\n",
      "47: Data Load Finish, Predict Finish, 4.7557 3.7328 0.1221 0.8336 Evaluation Finish\n",
      "48: Data Load Finish, Predict Finish, 3.5316 3.4848 0.1226 0.8764 Evaluation Finish\n",
      "49: Data Load Finish, Predict Finish, 3.2707 2.8874 0.1064 0.8855 Evaluation Finish\n",
      "50: Data Load Finish, Predict Finish, 5.2916 4.4978 0.1487 0.8148 Evaluation Finish\n",
      "51: Data Load Finish, Predict Finish, 7.7926 7.0573 0.2379 0.7273 Evaluation Finish\n",
      "52: Data Load Finish, Predict Finish, 9.394 8.587 0.2927 0.6713 Evaluation Finish\n",
      "53: Data Load Finish, Predict Finish, 13.5726 13.1768 0.4566 0.525 Evaluation Finish\n",
      "54: Data Load Finish, Predict Finish, 11.8639 11.4081 0.3935 0.5848 Evaluation Finish\n",
      "55: Data Load Finish, Predict Finish, 3.2297 2.8937 0.1072 0.887 Evaluation Finish\n",
      "56: Data Load Finish, Predict Finish, 8.2974 7.6373 0.2868 0.7096 Evaluation Finish\n",
      "57: Data Load Finish, Predict Finish, 3.3835 2.5998 0.1003 0.8816 Evaluation Finish\n",
      "58: Data Load Finish, Predict Finish, 19.8777 19.5822 0.714 0.3044 Evaluation Finish\n",
      "59: Data Load Finish, Predict Finish, 8.1481 7.4189 0.2794 0.7149 Evaluation Finish\n",
      "60: Data Load Finish, Predict Finish, 5.2411 4.1209 0.1612 0.8166 Evaluation Finish\n",
      "61: Data Load Finish, Predict Finish, 8.1199 7.4365 0.2515 0.7158 Evaluation Finish\n",
      "62: Data Load Finish, "
     ]
    },
    {
     "name": "stderr",
     "output_type": "stream",
     "text": [
      "C:\\Users\\vfgtr554\\anaconda3\\envs\\cctv\\lib\\site-packages\\pandas\\core\\arraylike.py:364: RuntimeWarning: divide by zero encountered in log\n",
      "  result = getattr(ufunc, method)(*inputs, **kwargs)\n",
      "C:\\Users\\vfgtr554\\anaconda3\\envs\\cctv\\lib\\site-packages\\statsmodels\\base\\model.py:606: ConvergenceWarning: Maximum Likelihood optimization failed to converge. Check mle_retvals\n",
      "  ConvergenceWarning)\n"
     ]
    },
    {
     "name": "stdout",
     "output_type": "stream",
     "text": [
      "Predict Finish, 27.5823 27.39 0.9643 0.0348 Evaluation Finish\n",
      "63: Data Load Finish, Predict Finish, 3.9415 3.1534 0.1225 0.8621 Evaluation Finish\n",
      "64: Data Load Finish, Predict Finish, 4.0248 2.4396 0.1004 0.8592 Evaluation Finish\n",
      "65: Data Load Finish, Predict Finish, 8.9907 8.4195 0.2873 0.6854 Evaluation Finish\n",
      "66: Data Load Finish, Predict Finish, 6.3519 5.3813 0.2066 0.7777 Evaluation Finish\n",
      "67: Data Load Finish, Predict Finish, 8.4825 7.8645 0.2672 0.7032 Evaluation Finish\n",
      "68: Data Load Finish, Predict Finish, 3.5543 3.0274 0.1127 0.8756 Evaluation Finish\n",
      "69: Data Load Finish, Predict Finish, 13.4951 13.1095 0.4821 0.5277 Evaluation Finish\n",
      "70: Data Load Finish, Predict Finish, 25.8434 25.6118 0.9292 0.0956 Evaluation Finish\n",
      "71: Data Load Finish, Predict Finish, 31.0485 30.8675 1.1166 -0.0865 Evaluation Finish\n",
      "72: Data Load Finish, Predict Finish, 34.041 33.8589 1.2241 -0.1913 Evaluation Finish\n",
      "73: Data Load Finish, Predict Finish, 28.6799 28.4617 1.0314 -0.0037 Evaluation Finish\n",
      "74: Data Load Finish, Predict Finish, 29.2689 29.0905 1.0531 -0.0243 Evaluation Finish\n",
      "75: Data Load Finish, Predict Finish, 17.3822 17.0429 0.6232 0.3917 Evaluation Finish\n",
      "76: Data Load Finish, Predict Finish, 10.5169 9.9709 0.3705 0.632 Evaluation Finish\n",
      "77: Data Load Finish, Predict Finish, 3.7743 3.5605 0.1229 0.8679 Evaluation Finish\n",
      "78: Data Load Finish, Predict Finish, 3.3497 2.8165 0.1049 0.8828 Evaluation Finish\n",
      "79: Data Load Finish, Predict Finish, 4.5409 4.1033 0.1383 0.8411 Evaluation Finish\n",
      "80: Data Load Finish, Predict Finish, 3.2179 2.7648 0.1045 0.8874 Evaluation Finish\n",
      "81: Data Load Finish, Predict Finish, 12.5889 12.163 0.4204 0.5595 Evaluation Finish\n",
      "82: Data Load Finish, Predict Finish, 10.1494 9.5854 0.3567 0.6448 Evaluation Finish\n",
      "83: Data Load Finish, Predict Finish, 3.4909 3.2566 0.1153 0.8778 Evaluation Finish\n",
      "84: Data Load Finish, Predict Finish, 14.7348 14.3411 0.5267 0.4844 Evaluation Finish\n",
      "85: Data Load Finish, Predict Finish, 20.1015 19.821 0.7223 0.2966 Evaluation Finish\n",
      "86: Data Load Finish, Predict Finish, 11.4746 10.8498 0.4025 0.5984 Evaluation Finish\n",
      "87: Data Load Finish, Predict Finish, 4.6446 4.0517 0.135 0.8375 Evaluation Finish\n",
      "88: Data Load Finish, Predict Finish, 3.9799 3.0951 0.1211 0.8607 Evaluation Finish\n",
      "89: Data Load Finish, Predict Finish, 3.2954 2.9395 0.1079 0.8847 Evaluation Finish\n",
      "90: Data Load Finish, Predict Finish, 9.8367 9.2708 0.3453 0.6558 Evaluation Finish\n",
      "91: Data Load Finish, Predict Finish, 10.2998 9.7723 0.3631 0.6396 Evaluation Finish\n",
      "92: Data Load Finish, Predict Finish, 3.6865 3.1265 0.1191 0.871 Evaluation Finish\n",
      "93: Data Load Finish, Predict Finish, 4.0627 3.7013 0.126 0.8578 Evaluation Finish\n",
      "94: Data Load Finish, Predict Finish, 3.5464 2.9414 0.1116 0.8759 Evaluation Finish\n",
      "95: Data Load Finish, Predict Finish, 4.9409 4.1449 0.1366 0.8271 Evaluation Finish\n",
      "96: Data Load Finish, Predict Finish, 4.9766 3.8167 0.15 0.8258 Evaluation Finish\n",
      "97: Data Load Finish, Predict Finish, 7.9949 7.1701 0.2709 0.7202 Evaluation Finish\n",
      "98: Data Load Finish, Predict Finish, 4.2581 3.6123 0.1222 0.851 Evaluation Finish\n",
      "99: Data Load Finish, Predict Finish, 3.6003 2.9252 0.1122 0.874 Evaluation Finish\n",
      "100: Data Load Finish, Predict Finish, 6.5113 5.6117 0.1866 0.7721 Evaluation Finish\n",
      "101: Data Load Finish, Predict Finish, 7.737 7.0317 0.2649 0.7292 Evaluation Finish\n",
      "102: Data Load Finish, Predict Finish, 11.1973 10.7103 0.3685 0.6082 Evaluation Finish\n",
      "103: Data Load Finish, Predict Finish, 3.3218 2.7021 0.1026 0.8838 Evaluation Finish\n",
      "104: Data Load Finish, Predict Finish, 3.3993 2.7757 0.1 0.881 Evaluation Finish\n",
      "105: Data Load Finish, "
     ]
    },
    {
     "name": "stderr",
     "output_type": "stream",
     "text": [
      "C:\\Users\\vfgtr554\\anaconda3\\envs\\cctv\\lib\\site-packages\\pandas\\core\\arraylike.py:364: RuntimeWarning: divide by zero encountered in log\n",
      "  result = getattr(ufunc, method)(*inputs, **kwargs)\n",
      "C:\\Users\\vfgtr554\\anaconda3\\envs\\cctv\\lib\\site-packages\\statsmodels\\base\\model.py:606: ConvergenceWarning: Maximum Likelihood optimization failed to converge. Check mle_retvals\n",
      "  ConvergenceWarning)\n",
      "C:\\Users\\vfgtr554\\anaconda3\\envs\\cctv\\lib\\site-packages\\pandas\\core\\arraylike.py:364: RuntimeWarning: divide by zero encountered in log\n",
      "  result = getattr(ufunc, method)(*inputs, **kwargs)\n"
     ]
    },
    {
     "name": "stdout",
     "output_type": "stream",
     "text": [
      "Predict Finish, 27.5823 27.39 0.9643 0.0348 Evaluation Finish\n",
      "106: Data Load Finish, "
     ]
    },
    {
     "name": "stderr",
     "output_type": "stream",
     "text": [
      "C:\\Users\\vfgtr554\\anaconda3\\envs\\cctv\\lib\\site-packages\\statsmodels\\base\\model.py:606: ConvergenceWarning: Maximum Likelihood optimization failed to converge. Check mle_retvals\n",
      "  ConvergenceWarning)\n"
     ]
    },
    {
     "name": "stdout",
     "output_type": "stream",
     "text": [
      "Predict Finish, 27.5823 27.39 0.9643 0.0348 Evaluation Finish\n",
      "107: Data Load Finish, Predict Finish, 6.139 5.1535 0.198 0.7852 Evaluation Finish\n",
      "108: Data Load Finish, "
     ]
    },
    {
     "name": "stderr",
     "output_type": "stream",
     "text": [
      "C:\\Users\\vfgtr554\\anaconda3\\envs\\cctv\\lib\\site-packages\\pandas\\core\\arraylike.py:364: RuntimeWarning: divide by zero encountered in log\n",
      "  result = getattr(ufunc, method)(*inputs, **kwargs)\n",
      "C:\\Users\\vfgtr554\\anaconda3\\envs\\cctv\\lib\\site-packages\\statsmodels\\base\\model.py:606: ConvergenceWarning: Maximum Likelihood optimization failed to converge. Check mle_retvals\n",
      "  ConvergenceWarning)\n"
     ]
    },
    {
     "name": "stdout",
     "output_type": "stream",
     "text": [
      "Predict Finish, 27.5823 27.39 0.9643 0.0348 Evaluation Finish\n",
      "109: Data Load Finish, Predict Finish, 6.9939 6.1819 0.2067 0.7553 Evaluation Finish\n",
      "110: Data Load Finish, Predict Finish, 3.675 3.4943 0.1214 0.8714 Evaluation Finish\n",
      "111: Data Load Finish, Predict Finish, 3.6641 3.0513 0.1099 0.8718 Evaluation Finish\n",
      "112: Data Load Finish, Predict Finish, 3.744 3.5608 0.1232 0.869 Evaluation Finish\n",
      "113: Data Load Finish, Predict Finish, 5.5227 4.4482 0.1448 0.8067 Evaluation Finish\n",
      "114: Data Load Finish, Predict Finish, 3.4378 3.1933 0.1136 0.8797 Evaluation Finish\n",
      "115: Data Load Finish, Predict Finish, 4.0643 3.7109 0.1263 0.8578 Evaluation Finish\n",
      "116: Data Load Finish, Predict Finish, 6.0919 5.0459 0.1946 0.7868 Evaluation Finish\n",
      "117: Data Load Finish, "
     ]
    },
    {
     "name": "stderr",
     "output_type": "stream",
     "text": [
      "C:\\Users\\vfgtr554\\anaconda3\\envs\\cctv\\lib\\site-packages\\pandas\\core\\arraylike.py:364: RuntimeWarning: divide by zero encountered in log\n",
      "  result = getattr(ufunc, method)(*inputs, **kwargs)\n",
      "C:\\Users\\vfgtr554\\anaconda3\\envs\\cctv\\lib\\site-packages\\statsmodels\\base\\model.py:606: ConvergenceWarning: Maximum Likelihood optimization failed to converge. Check mle_retvals\n",
      "  ConvergenceWarning)\n"
     ]
    },
    {
     "name": "stdout",
     "output_type": "stream",
     "text": [
      "Predict Finish, 27.5823 27.39 0.9643 0.0348 Evaluation Finish\n",
      "118: Data Load Finish, Predict Finish, 29.997 29.8116 1.0791 -0.0497 Evaluation Finish\n",
      "119: Data Load Finish, Predict Finish, 6.2572 5.3058 0.2037 0.781 Evaluation Finish\n",
      "120: Data Load Finish, Predict Finish, 4.0137 3.6761 0.1253 0.8595 Evaluation Finish\n",
      "121: Data Load Finish, Predict Finish, 5.7269 4.6734 0.1527 0.7996 Evaluation Finish\n",
      "122: Data Load Finish, Predict Finish, 9.1904 8.6202 0.2946 0.6784 Evaluation Finish\n",
      "123: Data Load Finish, Predict Finish, 6.4879 5.6024 0.186 0.773 Evaluation Finish\n",
      "124: Data Load Finish, Predict Finish, 9.4443 8.8444 0.3017 0.6695 Evaluation Finish\n",
      "125: Data Load Finish, Predict Finish, 15.6722 15.331 0.5616 0.4516 Evaluation Finish\n",
      "126: Data Load Finish, Predict Finish, 7.2558 6.5089 0.2186 0.7461 Evaluation Finish\n",
      "127: Data Load Finish, Predict Finish, 7.7303 7.0281 0.2371 0.7295 Evaluation Finish\n",
      "128: Data Load Finish, Predict Finish, 8.368 7.729 0.2622 0.7072 Evaluation Finish\n",
      "129: Data Load Finish, Predict Finish, 4.1823 3.8015 0.1287 0.8536 Evaluation Finish\n",
      "130: Data Load Finish, Predict Finish, 3.2682 3.1303 0.1131 0.8856 Evaluation Finish\n",
      "131: Data Load Finish, "
     ]
    },
    {
     "name": "stderr",
     "output_type": "stream",
     "text": [
      "C:\\Users\\vfgtr554\\anaconda3\\envs\\cctv\\lib\\site-packages\\pandas\\core\\arraylike.py:364: RuntimeWarning: divide by zero encountered in log\n",
      "  result = getattr(ufunc, method)(*inputs, **kwargs)\n",
      "C:\\Users\\vfgtr554\\anaconda3\\envs\\cctv\\lib\\site-packages\\statsmodels\\base\\model.py:606: ConvergenceWarning: Maximum Likelihood optimization failed to converge. Check mle_retvals\n",
      "  ConvergenceWarning)\n"
     ]
    },
    {
     "name": "stdout",
     "output_type": "stream",
     "text": [
      "Predict Finish, 27.5823 27.39 0.9643 0.0348 Evaluation Finish\n",
      "132: Data Load Finish, Predict Finish, 6.4369 5.5619 0.1846 0.7747 Evaluation Finish\n",
      "133: Data Load Finish, Predict Finish, 6.2052 5.3223 0.1766 0.7828 Evaluation Finish\n",
      "134: Data Load Finish, Predict Finish, 10.676 10.1797 0.3497 0.6264 Evaluation Finish\n",
      "135: Data Load Finish, Predict Finish, 8.0861 7.3954 0.25 0.717 Evaluation Finish\n",
      "136: Data Load Finish, Predict Finish, 5.9649 4.9846 0.1639 0.7913 Evaluation Finish\n",
      "137: Data Load Finish, Predict Finish, 8.7039 8.1064 0.2759 0.6954 Evaluation Finish\n",
      "138: Data Load Finish, Predict Finish, 4.5706 3.9164 0.1305 0.8401 Evaluation Finish\n",
      "139: Data Load Finish, Predict Finish, 5.8677 4.8878 0.1605 0.7947 Evaluation Finish\n",
      "140: Data Load Finish, Predict Finish, 3.9605 3.6901 0.1262 0.8614 Evaluation Finish\n",
      "141: Data Load Finish, Predict Finish, 6.8009 6.0156 0.2012 0.762 Evaluation Finish\n",
      "142: Data Load Finish, "
     ]
    },
    {
     "name": "stderr",
     "output_type": "stream",
     "text": [
      "C:\\Users\\vfgtr554\\anaconda3\\envs\\cctv\\lib\\site-packages\\pandas\\core\\arraylike.py:364: RuntimeWarning: divide by zero encountered in log\n",
      "  result = getattr(ufunc, method)(*inputs, **kwargs)\n",
      "C:\\Users\\vfgtr554\\anaconda3\\envs\\cctv\\lib\\site-packages\\statsmodels\\base\\model.py:606: ConvergenceWarning: Maximum Likelihood optimization failed to converge. Check mle_retvals\n",
      "  ConvergenceWarning)\n"
     ]
    },
    {
     "name": "stdout",
     "output_type": "stream",
     "text": [
      "Predict Finish, 27.5823 27.39 0.9643 0.0348 Evaluation Finish\n",
      "143: Data Load Finish, Predict Finish, 5.5484 4.4833 0.1461 0.8058 Evaluation Finish\n",
      "144: Data Load Finish, Predict Finish, 18.4208 18.1157 0.6614 0.3554 Evaluation Finish\n",
      "145: Data Load Finish, Predict Finish, 31.7326 31.5621 1.1415 -0.1105 Evaluation Finish\n",
      "146: Data Load Finish, Predict Finish, 4.4606 3.4433 0.1353 0.8439 Evaluation Finish\n",
      "147: Data Load Finish, Predict Finish, 4.8999 3.6904 0.1457 0.8285 Evaluation Finish\n",
      "148: Data Load Finish, Predict Finish, 7.0857 6.2458 0.2088 0.752 Evaluation Finish\n",
      "149: Data Load Finish, Predict Finish, 4.6052 3.8987 0.13 0.8388 Evaluation Finish\n",
      "150: Data Load Finish, Predict Finish, 7.6493 6.921 0.2332 0.7323 Evaluation Finish\n",
      "151: Data Load Finish, Predict Finish, 5.5972 4.5203 0.1473 0.8041 Evaluation Finish\n",
      "152: Data Load Finish, Predict Finish, 8.0138 7.3333 0.2482 0.7196 Evaluation Finish\n",
      "153: Data Load Finish, Predict Finish, 3.4895 3.0012 0.1119 0.8779 Evaluation Finish\n",
      "154: Data Load Finish, Predict Finish, 3.6689 3.3575 0.1172 0.8716 Evaluation Finish\n",
      "155: Data Load Finish, Predict Finish, 3.3806 3.1119 0.1111 0.8817 Evaluation Finish\n",
      "156: Data Load Finish, Predict Finish, 5.4247 4.4494 0.1455 0.8102 Evaluation Finish\n",
      "157: Data Load Finish, Predict Finish, 6.8497 6.0321 0.2014 0.7603 Evaluation Finish\n",
      "158: Data Load Finish, Predict Finish, 7.6298 6.8871 0.2319 0.733 Evaluation Finish\n",
      "159: Data Load Finish, Predict Finish, 7.3917 6.4671 0.2167 0.7413 Evaluation Finish\n",
      "160: Data Load Finish, Predict Finish, 4.4392 3.8341 0.1284 0.8447 Evaluation Finish\n",
      "161: Data Load Finish, Predict Finish, 5.5424 4.4802 0.1459 0.806 Evaluation Finish\n",
      "162: Data Load Finish, Predict Finish, 8.2341 7.5251 0.2545 0.7118 Evaluation Finish\n",
      "163: Data Load Finish, Predict Finish, 5.4136 4.4393 0.1452 0.8106 Evaluation Finish\n",
      "164: Data Load Finish, Predict Finish, 4.2899 3.8723 0.1306 0.8499 Evaluation Finish\n",
      "165: Data Load Finish, Predict Finish, 3.9437 3.13 0.1218 0.862 Evaluation Finish\n",
      "166: Data Load Finish, Predict Finish, 14.5147 14.1208 0.5188 0.4921 Evaluation Finish\n",
      "167: Data Load Finish, Predict Finish, 14.3389 13.9457 0.5124 0.4982 Evaluation Finish\n",
      "168: Data Load Finish, Predict Finish, 27.3571 27.1495 0.9841 0.0426 Evaluation Finish\n",
      "169: Data Load Finish, "
     ]
    },
    {
     "name": "stderr",
     "output_type": "stream",
     "text": [
      "C:\\Users\\vfgtr554\\anaconda3\\envs\\cctv\\lib\\site-packages\\statsmodels\\base\\model.py:606: ConvergenceWarning: Maximum Likelihood optimization failed to converge. Check mle_retvals\n",
      "  ConvergenceWarning)\n"
     ]
    },
    {
     "name": "stdout",
     "output_type": "stream",
     "text": [
      "Predict Finish, 15.8095 15.4315 0.5658 0.4467 Evaluation Finish\n",
      "170: Data Load Finish, Predict Finish, 6.2121 5.294 0.175 0.7826 Evaluation Finish\n",
      "171: Data Load Finish, Predict Finish, 7.5918 6.8006 0.2573 0.7343 Evaluation Finish\n",
      "172: Data Load Finish, Predict Finish, 3.4426 3.0314 0.1097 0.8795 Evaluation Finish\n",
      "173: Data Load Finish, Predict Finish, 3.3502 2.8186 0.1047 0.8828 Evaluation Finish\n",
      "174: Data Load Finish, Predict Finish, 3.4674 2.879 0.1094 0.8787 Evaluation Finish\n",
      "175: Data Load Finish, Predict Finish, 8.7972 8.087 0.3022 0.6921 Evaluation Finish\n",
      "176: Data Load Finish, Predict Finish, 9.704 9.1599 0.3133 0.6604 Evaluation Finish\n",
      "177: Data Load Finish, Predict Finish, 18.2238 17.9074 0.6539 0.3623 Evaluation Finish\n",
      "178: Data Load Finish, Predict Finish, 3.5017 3.2639 0.1154 0.8775 Evaluation Finish\n",
      "179: Data Load Finish, Predict Finish, 3.5261 2.8202 0.1083 0.8766 Evaluation Finish\n",
      "180: Data Load Finish, Predict Finish, 18.144 17.8119 0.6506 0.3651 Evaluation Finish\n",
      "181: Data Load Finish, Predict Finish, 7.2176 6.4022 0.2146 0.7474 Evaluation Finish\n",
      "182: Data Load Finish, Predict Finish, 4.9423 4.1015 0.135 0.827 Evaluation Finish\n",
      "183: Data Load Finish, Predict Finish, 5.5105 4.4466 0.1448 0.8072 Evaluation Finish\n",
      "184: Data Load Finish, Predict Finish, 4.0616 3.6609 0.1243 0.8579 Evaluation Finish\n",
      "185: Data Load Finish, Predict Finish, 3.8257 3.2805 0.1137 0.8661 Evaluation Finish\n",
      "186: Data Load Finish, Predict Finish, 5.2188 4.1231 0.1344 0.8174 Evaluation Finish\n",
      "187: Data Load Finish, Predict Finish, 4.3514 3.7502 0.1258 0.8477 Evaluation Finish\n",
      "188: Data Load Finish, Predict Finish, 3.3606 3.1436 0.1122 0.8824 Evaluation Finish\n",
      "189: Data Load Finish, Predict Finish, 3.8296 3.5021 0.1305 0.866 Evaluation Finish\n",
      "190: Data Load Finish, Predict Finish, 6.5451 5.6894 0.1892 0.771 Evaluation Finish\n",
      "191: Data Load Finish, Predict Finish, 3.6566 3.1213 0.118 0.872 Evaluation Finish\n",
      "192: Data Load Finish, Predict Finish, 6.063 5.0577 0.1664 0.7878 Evaluation Finish\n",
      "193: Data Load Finish, Predict Finish, 14.4799 14.1115 0.49 0.4933 Evaluation Finish\n",
      "194: Data Load Finish, Predict Finish, 4.1705 3.7172 0.126 0.8541 Evaluation Finish\n",
      "195: Data Load Finish, Predict Finish, 3.9701 3.6602 0.1252 0.8611 Evaluation Finish\n",
      "196: Data Load Finish, "
     ]
    },
    {
     "name": "stderr",
     "output_type": "stream",
     "text": [
      "C:\\Users\\vfgtr554\\anaconda3\\envs\\cctv\\lib\\site-packages\\statsmodels\\base\\model.py:606: ConvergenceWarning: Maximum Likelihood optimization failed to converge. Check mle_retvals\n",
      "  ConvergenceWarning)\n"
     ]
    },
    {
     "name": "stdout",
     "output_type": "stream",
     "text": [
      "Predict Finish, 6.4274 5.5344 0.1836 0.7751 Evaluation Finish\n",
      "197: Data Load Finish, Predict Finish, 4.6439 4.0242 0.1339 0.8375 Evaluation Finish\n",
      "198: Data Load Finish, Predict Finish, 6.4149 5.5823 0.1858 0.7755 Evaluation Finish\n",
      "199: Data Load Finish, Predict Finish, 9.2142 8.6462 0.295 0.6775 Evaluation Finish\n",
      "200: Data Load Finish, Predict Finish, 3.6508 3.4467 0.1199 0.8722 Evaluation Finish\n",
      "201: Data Load Finish, "
     ]
    },
    {
     "name": "stderr",
     "output_type": "stream",
     "text": [
      "C:\\Users\\vfgtr554\\anaconda3\\envs\\cctv\\lib\\site-packages\\pandas\\core\\arraylike.py:364: RuntimeWarning: divide by zero encountered in log\n",
      "  result = getattr(ufunc, method)(*inputs, **kwargs)\n",
      "C:\\Users\\vfgtr554\\anaconda3\\envs\\cctv\\lib\\site-packages\\statsmodels\\base\\model.py:606: ConvergenceWarning: Maximum Likelihood optimization failed to converge. Check mle_retvals\n",
      "  ConvergenceWarning)\n"
     ]
    },
    {
     "name": "stdout",
     "output_type": "stream",
     "text": [
      "Predict Finish, 27.5823 27.39 0.9643 0.0348 Evaluation Finish\n",
      "202: Data Load Finish, "
     ]
    },
    {
     "name": "stderr",
     "output_type": "stream",
     "text": [
      "C:\\Users\\vfgtr554\\anaconda3\\envs\\cctv\\lib\\site-packages\\statsmodels\\base\\model.py:606: ConvergenceWarning: Maximum Likelihood optimization failed to converge. Check mle_retvals\n",
      "  ConvergenceWarning)\n"
     ]
    },
    {
     "name": "stdout",
     "output_type": "stream",
     "text": [
      "Predict Finish, 5.7085 4.7383 0.1555 0.8002 Evaluation Finish\n",
      "203: Data Load Finish, Predict Finish, 10.7845 10.2732 0.3528 0.6226 Evaluation Finish\n",
      "204: Data Load Finish, Predict Finish, 5.0883 4.057 0.1324 0.8219 Evaluation Finish\n",
      "205: Data Load Finish, Predict Finish, 7.5574 6.7925 0.2284 0.7355 Evaluation Finish\n",
      "206: Data Load Finish, Predict Finish, 9.2515 8.5609 0.2913 0.6762 Evaluation Finish\n",
      "207: Data Load Finish, Predict Finish, 5.7427 4.6923 0.1537 0.799 Evaluation Finish\n",
      "208: Data Load Finish, Predict Finish, 11.899 11.451 0.395 0.5836 Evaluation Finish\n",
      "209: Data Load Finish, Predict Finish, 4.7849 3.5314 0.1401 0.8326 Evaluation Finish\n",
      "210: Data Load Finish, Predict Finish, 3.3532 2.7721 0.1038 0.8827 Evaluation Finish\n",
      "211: Data Load Finish, Predict Finish, 7.8018 7.0054 0.2648 0.727 Evaluation Finish\n",
      "212: Data Load Finish, Predict Finish, 3.4039 2.687 0.1019 0.8809 Evaluation Finish\n",
      "213: Data Load Finish, Predict Finish, 16.7133 16.3163 0.5975 0.4151 Evaluation Finish\n",
      "214: Data Load Finish, Predict Finish, 13.5307 13.142 0.4555 0.5265 Evaluation Finish\n",
      "215: Data Load Finish, Predict Finish, 7.8496 7.1481 0.2413 0.7253 Evaluation Finish\n",
      "216: Data Load Finish, Predict Finish, 3.821 3.6014 0.124 0.8663 Evaluation Finish\n",
      "217: Data Load Finish, Predict Finish, 16.0229 15.6634 0.5738 0.4393 Evaluation Finish\n",
      "218: Data Load Finish, Predict Finish, 3.8962 3.5908 0.1233 0.8637 Evaluation Finish\n",
      "219: Data Load Finish, Predict Finish, 6.5181 5.623 0.215 0.7719 Evaluation Finish\n",
      "220: Data Load Finish, Predict Finish, 11.298 10.6859 0.3966 0.6046 Evaluation Finish\n",
      "221: Data Load Finish, "
     ]
    },
    {
     "name": "stderr",
     "output_type": "stream",
     "text": [
      "C:\\Users\\vfgtr554\\anaconda3\\envs\\cctv\\lib\\site-packages\\statsmodels\\base\\model.py:606: ConvergenceWarning: Maximum Likelihood optimization failed to converge. Check mle_retvals\n",
      "  ConvergenceWarning)\n"
     ]
    },
    {
     "name": "stdout",
     "output_type": "stream",
     "text": [
      "Predict Finish, 3.1934 3.0489 0.1116 0.8882 Evaluation Finish\n",
      "222: Data Load Finish, Predict Finish, 4.9189 4.1804 0.1382 0.8279 Evaluation Finish\n",
      "223: Data Load Finish, Predict Finish, 3.5563 3.0033 0.1133 0.8755 Evaluation Finish\n",
      "224: Data Load Finish, Predict Finish, 3.7449 3.0514 0.1176 0.8689 Evaluation Finish\n",
      "225: Data Load Finish, Predict Finish, 3.3468 3.0626 0.1108 0.8829 Evaluation Finish\n",
      "226: Data Load Finish, Predict Finish, 6.2287 5.6084 0.2103 0.782 Evaluation Finish\n",
      "227: Data Load Finish, Predict Finish, 6.0464 5.1146 0.1687 0.7884 Evaluation Finish\n",
      "228: Data Load Finish, Predict Finish, 5.7267 4.693 0.1535 0.7996 Evaluation Finish\n",
      "229: Data Load Finish, Predict Finish, 13.4071 13.0067 0.4786 0.5308 Evaluation Finish\n",
      "230: Data Load Finish, Predict Finish, 3.8569 3.2338 0.1102 0.865 Evaluation Finish\n",
      "231: Data Load Finish, Predict Finish, 3.4254 2.8779 0.1022 0.8801 Evaluation Finish\n",
      "232: Data Load Finish, Predict Finish, 4.2258 3.2401 0.1119 0.8521 Evaluation Finish\n",
      "233: Data Load Finish, Predict Finish, 4.7486 4.1898 0.14 0.8338 Evaluation Finish\n",
      "234: Data Load Finish, Predict Finish, 3.5629 3.1509 0.1148 0.8753 Evaluation Finish\n",
      "235: Data Load Finish, Predict Finish, 14.8673 14.5123 0.5323 0.4797 Evaluation Finish\n",
      "236: Data Load Finish, Predict Finish, 4.4199 3.742 0.1252 0.8453 Evaluation Finish\n",
      "237: Data Load Finish, Predict Finish, 5.1409 4.0714 0.1326 0.8201 Evaluation Finish\n",
      "238: Data Load Finish, Predict Finish, 5.6678 4.5956 0.15 0.8017 Evaluation Finish\n",
      "239: Data Load Finish, Predict Finish, 4.49 3.9499 0.1321 0.8429 Evaluation Finish\n",
      "240: Data Load Finish, Predict Finish, 4.0365 3.5585 0.1349 0.8587 Evaluation Finish\n",
      "241: Data Load Finish, Predict Finish, 4.577 3.9995 0.1334 0.8398 Evaluation Finish\n",
      "242: Data Load Finish, Predict Finish, 6.2354 5.333 0.1765 0.7818 Evaluation Finish\n",
      "243: Data Load Finish, Predict Finish, 26.2757 26.0286 0.9445 0.0805 Evaluation Finish\n",
      "244: Data Load Finish, Predict Finish, 10.1053 9.5403 0.3268 0.6464 Evaluation Finish\n",
      "245: Data Load Finish, Predict Finish, 11.2931 10.7697 0.3708 0.6048 Evaluation Finish\n",
      "246: Data Load Finish, Predict Finish, 14.4062 14.0421 0.4876 0.4959 Evaluation Finish\n",
      "247: Data Load Finish, Predict Finish, 9.1722 8.5164 0.29 0.679 Evaluation Finish\n",
      "248: Data Load Finish, Predict Finish, 11.0803 10.526 0.3618 0.6122 Evaluation Finish\n",
      "249: Data Load Finish, Predict Finish, 10.4536 9.938 0.3409 0.6342 Evaluation Finish\n",
      "250: Data Load Finish, Predict Finish, 10.9314 10.4425 0.3591 0.6175 Evaluation Finish\n",
      "251: Data Load Finish, Predict Finish, 11.8338 11.3606 0.3916 0.5859 Evaluation Finish\n",
      "252: Data Load Finish, Predict Finish, 3.3318 3.2514 0.1173 0.8834 Evaluation Finish\n",
      "253: Data Load Finish, Predict Finish, 7.4383 6.6354 0.2229 0.7397 Evaluation Finish\n",
      "254: Data Load Finish, Predict Finish, 5.0865 3.9283 0.1541 0.822 Evaluation Finish\n",
      "255: Data Load Finish, Predict Finish, 7.3021 6.4428 0.2157 0.7445 Evaluation Finish\n",
      "256: Data Load Finish, Predict Finish, 6.004 4.9913 0.164 0.7899 Evaluation Finish\n",
      "257: Data Load Finish, Predict Finish, 5.9818 5.0144 0.1932 0.7907 Evaluation Finish\n",
      "258: Data Load Finish, Predict Finish, 6.8628 6.02 0.2008 0.7598 Evaluation Finish\n",
      "259: Data Load Finish, Predict Finish, 3.3438 2.7275 0.1055 0.883 Evaluation Finish\n",
      "260: Data Load Finish, Predict Finish, 4.3273 3.3157 0.1305 0.8486 Evaluation Finish\n",
      "261: Data Load Finish, Predict Finish, 4.5886 3.585 0.1405 0.8394 Evaluation Finish\n",
      "262: Data Load Finish, Predict Finish, 4.2651 3.5495 0.137 0.8507 Evaluation Finish\n",
      "263: Data Load Finish, Predict Finish, 3.5304 3.0092 0.1112 0.8765 Evaluation Finish\n",
      "264: Data Load Finish, Predict Finish, 6.4005 5.5044 0.1826 0.776 Evaluation Finish\n",
      "265: Data Load Finish, Predict Finish, 5.8935 4.9019 0.161 0.7938 Evaluation Finish\n",
      "266: Data Load Finish, "
     ]
    },
    {
     "name": "stderr",
     "output_type": "stream",
     "text": [
      "C:\\Users\\vfgtr554\\anaconda3\\envs\\cctv\\lib\\site-packages\\pandas\\core\\arraylike.py:364: RuntimeWarning: divide by zero encountered in log\n",
      "  result = getattr(ufunc, method)(*inputs, **kwargs)\n",
      "C:\\Users\\vfgtr554\\anaconda3\\envs\\cctv\\lib\\site-packages\\statsmodels\\base\\model.py:606: ConvergenceWarning: Maximum Likelihood optimization failed to converge. Check mle_retvals\n",
      "  ConvergenceWarning)\n"
     ]
    },
    {
     "name": "stdout",
     "output_type": "stream",
     "text": [
      "Predict Finish, 27.5823 27.39 0.9643 0.0348 Evaluation Finish\n",
      "267: Data Load Finish, Predict Finish, 6.2908 5.4129 0.1795 0.7799 Evaluation Finish\n",
      "268: Data Load Finish, Predict Finish, 5.9008 4.9154 0.1615 0.7935 Evaluation Finish\n",
      "269: Data Load Finish, Predict Finish, 3.6211 3.0672 0.1161 0.8733 Evaluation Finish\n",
      "270: Data Load Finish, Predict Finish, 10.6678 10.0861 0.3457 0.6267 Evaluation Finish\n",
      "271: Data Load Finish, Predict Finish, 4.249 3.7982 0.1438 0.8513 Evaluation Finish\n",
      "272: Data Load Finish, Predict Finish, 4.597 3.9594 0.1515 0.8391 Evaluation Finish\n",
      "273: Data Load Finish, "
     ]
    },
    {
     "name": "stderr",
     "output_type": "stream",
     "text": [
      "C:\\Users\\vfgtr554\\anaconda3\\envs\\cctv\\lib\\site-packages\\pandas\\core\\arraylike.py:364: RuntimeWarning: divide by zero encountered in log\n",
      "  result = getattr(ufunc, method)(*inputs, **kwargs)\n",
      "C:\\Users\\vfgtr554\\anaconda3\\envs\\cctv\\lib\\site-packages\\statsmodels\\base\\model.py:606: ConvergenceWarning: Maximum Likelihood optimization failed to converge. Check mle_retvals\n",
      "  ConvergenceWarning)\n"
     ]
    },
    {
     "name": "stdout",
     "output_type": "stream",
     "text": [
      "Predict Finish, 27.5823 27.39 0.9643 0.0348 Evaluation Finish\n",
      "274: Data Load Finish, Predict Finish, 8.495 7.8046 0.2645 0.7027 Evaluation Finish\n",
      "275: Data Load Finish, Predict Finish, 8.0884 7.3822 0.2495 0.7169 Evaluation Finish\n",
      "276: Data Load Finish, Predict Finish, 9.2028 8.6066 0.2933 0.6779 Evaluation Finish\n",
      "277: Data Load Finish, Predict Finish, 10.9576 10.4851 0.3609 0.6165 Evaluation Finish\n",
      "278: Data Load Finish, Predict Finish, 5.9675 5.0118 0.165 0.7912 Evaluation Finish\n",
      "279: Data Load Finish, Predict Finish, 5.8549 4.822 0.158 0.7951 Evaluation Finish\n",
      "280: Data Load Finish, Predict Finish, 5.2126 4.3018 0.1409 0.8176 Evaluation Finish\n",
      "281: Data Load Finish, Predict Finish, 5.1524 4.1944 0.1372 0.8197 Evaluation Finish\n",
      "282: Data Load Finish, Predict Finish, 3.7337 3.2438 0.1136 0.8693 Evaluation Finish\n",
      "283: Data Load Finish, Predict Finish, 4.2058 3.6798 0.1401 0.8528 Evaluation Finish\n",
      "284: Data Load Finish, Predict Finish, 5.0415 4.1845 0.1612 0.8236 Evaluation Finish\n",
      "285: Data Load Finish, Predict Finish, 8.0092 7.2437 0.2443 0.7197 Evaluation Finish\n",
      "286: Data Load Finish, Predict Finish, 3.5696 2.9179 0.1118 0.8751 Evaluation Finish\n",
      "287: Data Load Finish, Predict Finish, 5.4207 3.4549 0.1101 0.8103 Evaluation Finish\n",
      "288: Data Load Finish, Predict Finish, 4.0255 3.7185 0.1268 0.8591 Evaluation Finish\n",
      "289: Data Load Finish, Predict Finish, 9.1281 8.5279 0.2905 0.6806 Evaluation Finish\n",
      "290: Data Load Finish, Predict Finish, 5.4989 4.3951 0.1711 0.8076 Evaluation Finish\n",
      "291: Data Load Finish, "
     ]
    },
    {
     "name": "stderr",
     "output_type": "stream",
     "text": [
      "C:\\Users\\vfgtr554\\anaconda3\\envs\\cctv\\lib\\site-packages\\statsmodels\\base\\model.py:606: ConvergenceWarning: Maximum Likelihood optimization failed to converge. Check mle_retvals\n",
      "  ConvergenceWarning)\n"
     ]
    },
    {
     "name": "stdout",
     "output_type": "stream",
     "text": [
      "Predict Finish, 4.0473 3.8804 0.1423 0.8584 Evaluation Finish\n",
      "292: Data Load Finish, Predict Finish, 3.8663 3.2312 0.1145 0.8647 Evaluation Finish\n",
      "293: Data Load Finish, Predict Finish, 4.8877 4.0423 0.133 0.829 Evaluation Finish\n",
      "294: Data Load Finish, Predict Finish, 4.8754 3.9173 0.1286 0.8294 Evaluation Finish\n",
      "295: Data Load Finish, Predict Finish, 5.5328 4.4681 0.1455 0.8064 Evaluation Finish\n",
      "296: Data Load Finish, Predict Finish, 5.2924 4.3001 0.1403 0.8148 Evaluation Finish\n",
      "297: Data Load Finish, Predict Finish, 5.4973 4.4319 0.1442 0.8076 Evaluation Finish\n",
      "298: Data Load Finish, Predict Finish, 10.4843 9.9778 0.3427 0.6331 Evaluation Finish\n",
      "299: Data Load Finish, Predict Finish, 3.5622 2.8186 0.1089 0.8753 Evaluation Finish\n",
      "300: Data Load Finish, Predict Finish, 5.807 4.821 0.1862 0.7968 Evaluation Finish\n",
      "301: Data Load Finish, Predict Finish, 7.9806 7.2534 0.2448 0.7207 Evaluation Finish\n",
      "302: Data Load Finish, Predict Finish, 10.9298 10.4047 0.3573 0.6175 Evaluation Finish\n",
      "303: Data Load Finish, Predict Finish, 6.3017 5.3784 0.2063 0.7795 Evaluation Finish\n",
      "304: Data Load Finish, Predict Finish, 7.5518 6.8233 0.2297 0.7357 Evaluation Finish\n",
      "305: Data Load Finish, Predict Finish, 4.4038 3.9119 0.1313 0.8459 Evaluation Finish\n",
      "306: Data Load Finish, Predict Finish, 10.824 10.3269 0.3548 0.6212 Evaluation Finish\n",
      "307: Data Load Finish, Predict Finish, 7.8331 7.11 0.2397 0.7259 Evaluation Finish\n",
      "308: Data Load Finish, Predict Finish, 5.4014 4.4029 0.1437 0.811 Evaluation Finish\n",
      "309: Data Load Finish, "
     ]
    },
    {
     "name": "stderr",
     "output_type": "stream",
     "text": [
      "C:\\Users\\vfgtr554\\anaconda3\\envs\\cctv\\lib\\site-packages\\pandas\\core\\arraylike.py:364: RuntimeWarning: divide by zero encountered in log\n",
      "  result = getattr(ufunc, method)(*inputs, **kwargs)\n",
      "C:\\Users\\vfgtr554\\anaconda3\\envs\\cctv\\lib\\site-packages\\statsmodels\\base\\model.py:606: ConvergenceWarning: Maximum Likelihood optimization failed to converge. Check mle_retvals\n",
      "  ConvergenceWarning)\n",
      "C:\\Users\\vfgtr554\\anaconda3\\envs\\cctv\\lib\\site-packages\\pandas\\core\\arraylike.py:364: RuntimeWarning: divide by zero encountered in log\n",
      "  result = getattr(ufunc, method)(*inputs, **kwargs)\n"
     ]
    },
    {
     "name": "stdout",
     "output_type": "stream",
     "text": [
      "Predict Finish, 27.5823 27.39 0.9643 0.0348 Evaluation Finish\n",
      "310: Data Load Finish, "
     ]
    },
    {
     "name": "stderr",
     "output_type": "stream",
     "text": [
      "C:\\Users\\vfgtr554\\anaconda3\\envs\\cctv\\lib\\site-packages\\statsmodels\\base\\model.py:606: ConvergenceWarning: Maximum Likelihood optimization failed to converge. Check mle_retvals\n",
      "  ConvergenceWarning)\n"
     ]
    },
    {
     "name": "stdout",
     "output_type": "stream",
     "text": [
      "Predict Finish, 27.5823 27.39 0.9643 0.0348 Evaluation Finish\n",
      "311: Data Load Finish, Predict Finish, 3.707 3.4331 0.1191 0.8703 Evaluation Finish\n",
      "312: Data Load Finish, Predict Finish, 12.9117 12.4631 0.4594 0.5482 Evaluation Finish\n",
      "313: Data Load Finish, Predict Finish, 8.3798 7.6648 0.2594 0.7067 Evaluation Finish\n",
      "314: Data Load Finish, Predict Finish, 4.7377 4.0493 0.1343 0.8342 Evaluation Finish\n",
      "315: Data Load Finish, Predict Finish, 4.2548 3.8104 0.1287 0.8511 Evaluation Finish\n",
      "316: Data Load Finish, Predict Finish, 5.9375 4.9535 0.1628 0.7922 Evaluation Finish\n",
      "317: Data Load Finish, Predict Finish, 3.4677 2.8518 0.1068 0.8786 Evaluation Finish\n",
      "318: Data Load Finish, Predict Finish, 10.521 9.9976 0.343 0.6318 Evaluation Finish\n",
      "319: Data Load Finish, Predict Finish, 9.6752 9.1162 0.3116 0.6614 Evaluation Finish\n",
      "320: Data Load Finish, Predict Finish, 6.0404 5.0816 0.1674 0.7886 Evaluation Finish\n",
      "321: Data Load Finish, Predict Finish, 3.4156 3.2631 0.1158 0.8805 Evaluation Finish\n",
      "322: Data Load Finish, Predict Finish, 3.4335 3.2392 0.1151 0.8798 Evaluation Finish\n",
      "323: Data Load Finish, Predict Finish, 5.09 4.1895 0.1374 0.8219 Evaluation Finish\n",
      "324: Data Load Finish, Predict Finish, 6.1924 5.107 0.197 0.7833 Evaluation Finish\n",
      "325: Data Load Finish, Predict Finish, 7.6882 6.9206 0.2614 0.731 Evaluation Finish\n",
      "326: Data Load Finish, Predict Finish, 7.1668 6.3892 0.2142 0.7492 Evaluation Finish\n",
      "327: Data Load Finish, Predict Finish, 17.1275 16.8035 0.6145 0.4006 Evaluation Finish\n",
      "328: Data Load Finish, "
     ]
    },
    {
     "name": "stderr",
     "output_type": "stream",
     "text": [
      "C:\\Users\\vfgtr554\\anaconda3\\envs\\cctv\\lib\\site-packages\\pandas\\core\\arraylike.py:364: RuntimeWarning: divide by zero encountered in log\n",
      "  result = getattr(ufunc, method)(*inputs, **kwargs)\n",
      "C:\\Users\\vfgtr554\\anaconda3\\envs\\cctv\\lib\\site-packages\\statsmodels\\base\\model.py:606: ConvergenceWarning: Maximum Likelihood optimization failed to converge. Check mle_retvals\n",
      "  ConvergenceWarning)\n"
     ]
    },
    {
     "name": "stdout",
     "output_type": "stream",
     "text": [
      "Predict Finish, 27.5823 27.39 0.9643 0.0348 Evaluation Finish\n",
      "329: Data Load Finish, Predict Finish, 5.0588 3.8396 0.1513 0.823 Evaluation Finish\n",
      "330: Data Load Finish, Predict Finish, 6.3065 5.3671 0.2059 0.7793 Evaluation Finish\n",
      "331: Data Load Finish, Predict Finish, 7.2532 6.4383 0.2437 0.7462 Evaluation Finish\n",
      "332: Data Load Finish, "
     ]
    },
    {
     "name": "stderr",
     "output_type": "stream",
     "text": [
      "C:\\Users\\vfgtr554\\anaconda3\\envs\\cctv\\lib\\site-packages\\statsmodels\\base\\model.py:606: ConvergenceWarning: Maximum Likelihood optimization failed to converge. Check mle_retvals\n",
      "  ConvergenceWarning)\n"
     ]
    },
    {
     "name": "stdout",
     "output_type": "stream",
     "text": [
      "Predict Finish, 13.1058 12.1546 0.4495 0.5414 Evaluation Finish\n",
      "333: Data Load Finish, Predict Finish, 10.7378 10.2402 0.3796 0.6242 Evaluation Finish\n",
      "334: Data Load Finish, Predict Finish, 19.7657 19.4911 0.7104 0.3083 Evaluation Finish\n",
      "335: Data Load Finish, Predict Finish, 4.2473 3.3496 0.1309 0.8514 Evaluation Finish\n",
      "336: Data Load Finish, Predict Finish, 13.5714 13.1098 0.4829 0.5251 Evaluation Finish\n",
      "337: Data Load Finish, Predict Finish, 6.2865 5.2664 0.2026 0.78 Evaluation Finish\n",
      "338: Data Load Finish, Predict Finish, 15.5672 15.2257 0.5579 0.4552 Evaluation Finish\n",
      "339: Data Load Finish, Predict Finish, 6.6007 5.7141 0.2183 0.769 Evaluation Finish\n",
      "340: Data Load Finish, Predict Finish, 3.3874 2.5723 0.0998 0.8815 Evaluation Finish\n",
      "341: Data Load Finish, Predict Finish, 4.7677 3.4843 0.1385 0.8332 Evaluation Finish\n",
      "342: Data Load Finish, Predict Finish, 15.6875 15.3322 0.5619 0.451 Evaluation Finish\n",
      "343: Data Load Finish, Predict Finish, 11.0169 10.466 0.3884 0.6145 Evaluation Finish\n",
      "344: Data Load Finish, Predict Finish, 5.0558 3.9307 0.154 0.8231 Evaluation Finish\n",
      "345: Data Load Finish, Predict Finish, 8.4886 7.7361 0.291 0.7029 Evaluation Finish\n",
      "346: Data Load Finish, Predict Finish, 11.9524 11.5045 0.3969 0.5817 Evaluation Finish\n",
      "347: Data Load Finish, Predict Finish, 3.3497 2.8694 0.1059 0.8828 Evaluation Finish\n",
      "348: Data Load Finish, Predict Finish, 8.6083 7.975 0.2986 0.6988 Evaluation Finish\n",
      "349: Data Load Finish, Predict Finish, 7.9143 7.2036 0.2433 0.723 Evaluation Finish\n",
      "350: Data Load Finish, Predict Finish, 14.3889 14.0182 0.4867 0.4965 Evaluation Finish\n",
      "351: Data Load Finish, Predict Finish, 4.0776 3.6165 0.1229 0.8573 Evaluation Finish\n",
      "352: "
     ]
    },
    {
     "name": "stderr",
     "output_type": "stream",
     "text": [
      "C:\\Users\\vfgtr554\\anaconda3\\envs\\cctv\\lib\\site-packages\\pandas\\core\\arraylike.py:364: RuntimeWarning: divide by zero encountered in log\n",
      "  result = getattr(ufunc, method)(*inputs, **kwargs)\n"
     ]
    },
    {
     "name": "stdout",
     "output_type": "stream",
     "text": [
      "Data Load Finish, "
     ]
    },
    {
     "name": "stderr",
     "output_type": "stream",
     "text": [
      "C:\\Users\\vfgtr554\\anaconda3\\envs\\cctv\\lib\\site-packages\\statsmodels\\base\\model.py:606: ConvergenceWarning: Maximum Likelihood optimization failed to converge. Check mle_retvals\n",
      "  ConvergenceWarning)\n"
     ]
    },
    {
     "name": "stdout",
     "output_type": "stream",
     "text": [
      "Predict Finish, 27.5823 27.39 0.9643 0.0348 Evaluation Finish\n",
      "353: Data Load Finish, Predict Finish, 5.2295 4.0154 0.1578 0.817 Evaluation Finish\n",
      "354: Data Load Finish, Predict Finish, 4.1587 3.2203 0.1263 0.8545 Evaluation Finish\n",
      "355: Data Load Finish, Predict Finish, 4.0139 3.087 0.1212 0.8595 Evaluation Finish\n",
      "356: Data Load Finish, Predict Finish, 3.2961 2.8155 0.1051 0.8847 Evaluation Finish\n",
      "357: Data Load Finish, Predict Finish, 3.8552 2.8329 0.1121 0.8651 Evaluation Finish\n",
      "358: Data Load Finish, Predict Finish, 3.3798 2.7863 0.1037 0.8817 Evaluation Finish\n",
      "359: Data Load Finish, Predict Finish, 6.3763 5.3783 0.2066 0.7769 Evaluation Finish\n",
      "360: Data Load Finish, Predict Finish, 6.8134 5.8242 0.2228 0.7616 Evaluation Finish\n",
      "361: Data Load Finish, Predict Finish, 7.0871 6.093 0.2324 0.752 Evaluation Finish\n",
      "362: Data Load Finish, Predict Finish, 3.5983 3.1277 0.1109 0.8741 Evaluation Finish\n",
      "363: Data Load Finish, Predict Finish, 8.2644 7.5404 0.255 0.7108 Evaluation Finish\n",
      "364: Data Load Finish, Predict Finish, 7.5158 6.7588 0.2272 0.737 Evaluation Finish\n",
      "365: Data Load Finish, Predict Finish, 3.9762 3.1326 0.1222 0.8609 Evaluation Finish\n",
      "366: Data Load Finish, Predict Finish, 4.4816 3.9517 0.1323 0.8432 Evaluation Finish\n",
      "367: Data Load Finish, Predict Finish, 7.2304 6.3921 0.2427 0.747 Evaluation Finish\n",
      "368: Data Load Finish, Predict Finish, 5.4011 4.37 0.1424 0.811 Evaluation Finish\n",
      "369: Data Load Finish, Predict Finish, 4.4687 3.8824 0.13 0.8436 Evaluation Finish\n",
      "370: Data Load Finish, Predict Finish, 3.8341 3.4342 0.1289 0.8658 Evaluation Finish\n",
      "371: Data Load Finish, Predict Finish, 3.2297 2.9327 0.1083 0.887 Evaluation Finish\n",
      "372: Data Load Finish, Predict Finish, 14.3634 13.9688 0.5132 0.4974 Evaluation Finish\n",
      "373: Data Load Finish, Predict Finish, 4.9019 4.0545 0.1337 0.8285 Evaluation Finish\n",
      "374: Data Load Finish, Predict Finish, 12.3773 11.8651 0.4385 0.5669 Evaluation Finish\n",
      "375: Data Load Finish, Predict Finish, 36.319 36.1661 1.3061 -0.271 Evaluation Finish\n",
      "376: Data Load Finish, Predict Finish, 54.0795 53.9818 1.9422 -0.8925 Evaluation Finish\n",
      "377: Data Load Finish, Predict Finish, 50.5474 50.3316 1.8141 -0.7689 Evaluation Finish\n",
      "378: Data Load Finish, Predict Finish, 37.851 37.6237 1.3595 -0.3246 Evaluation Finish\n",
      "379: Data Load Finish, Predict Finish, 4.3078 3.825 0.1451 0.8492 Evaluation Finish\n",
      "380: Data Load Finish, Predict Finish, 9.3248 8.4829 0.3179 0.6737 Evaluation Finish\n",
      "381: Data Load Finish, Predict Finish, 4.1351 3.6147 0.1228 0.8553 Evaluation Finish\n",
      "382: Data Load Finish, "
     ]
    },
    {
     "name": "stderr",
     "output_type": "stream",
     "text": [
      "C:\\Users\\vfgtr554\\anaconda3\\envs\\cctv\\lib\\site-packages\\pandas\\core\\arraylike.py:364: RuntimeWarning: divide by zero encountered in log\n",
      "  result = getattr(ufunc, method)(*inputs, **kwargs)\n",
      "C:\\Users\\vfgtr554\\anaconda3\\envs\\cctv\\lib\\site-packages\\statsmodels\\base\\model.py:606: ConvergenceWarning: Maximum Likelihood optimization failed to converge. Check mle_retvals\n",
      "  ConvergenceWarning)\n"
     ]
    },
    {
     "name": "stdout",
     "output_type": "stream",
     "text": [
      "Predict Finish, 27.5823 27.39 0.9643 0.0348 Evaluation Finish\n",
      "383: Data Load Finish, Predict Finish, 4.7476 4.1558 0.1385 0.8339 Evaluation Finish\n",
      "384: Data Load Finish, Predict Finish, 4.998 4.2239 0.1393 0.8251 Evaluation Finish\n",
      "385: Data Load Finish, Predict Finish, 4.1123 3.7744 0.1282 0.8561 Evaluation Finish\n",
      "386: Data Load Finish, Predict Finish, 6.4474 5.3639 0.2063 0.7744 Evaluation Finish\n",
      "387: Data Load Finish, Predict Finish, 5.3014 4.1185 0.1614 0.8145 Evaluation Finish\n",
      "388: Data Load Finish, Predict Finish, 4.5139 3.5091 0.1376 0.842 Evaluation Finish\n",
      "389: Data Load Finish, Predict Finish, 19.3163 19.0332 0.694 0.324 Evaluation Finish\n",
      "390: Data Load Finish, Predict Finish, 27.5332 27.3347 0.9906 0.0365 Evaluation Finish\n",
      "391: Data Load Finish, Predict Finish, 10.447 9.9314 0.3408 0.6344 Evaluation Finish\n",
      "392: Data Load Finish, Predict Finish, 9.613 9.0546 0.3095 0.6636 Evaluation Finish\n",
      "393: Data Load Finish, Predict Finish, 5.4172 4.2825 0.139 0.8104 Evaluation Finish\n",
      "394: Data Load Finish, Predict Finish, 6.1666 5.2112 0.1721 0.7842 Evaluation Finish\n",
      "395: Data Load Finish, Predict Finish, 6.8065 5.8835 0.1957 0.7618 Evaluation Finish\n",
      "396: Data Load Finish, Predict Finish, 3.8634 3.2399 0.1125 0.8648 Evaluation Finish\n",
      "397: Data Load Finish, Predict Finish, 4.5931 3.5581 0.1396 0.8393 Evaluation Finish\n",
      "398: Data Load Finish, Predict Finish, 6.8643 5.9443 0.1982 0.7598 Evaluation Finish\n",
      "399: Data Load Finish, Predict Finish, 6.9467 6.0113 0.2002 0.7569 Evaluation Finish\n",
      "400: Data Load Finish, Predict Finish, 10.0486 9.5159 0.3259 0.6484 Evaluation Finish\n",
      "401: Data Load Finish, Predict Finish, 5.3122 4.2001 0.1365 0.8141 Evaluation Finish\n",
      "402: Data Load Finish, Predict Finish, 4.856 3.9398 0.1299 0.8301 Evaluation Finish\n",
      "403: Data Load Finish, Predict Finish, 6.6436 5.7459 0.191 0.7675 Evaluation Finish\n",
      "404: Data Load Finish, Predict Finish, 7.32 6.5006 0.2179 0.7438 Evaluation Finish\n",
      "405: Data Load Finish, Predict Finish, 9.2813 8.6488 0.3233 0.6752 Evaluation Finish\n",
      "406: Data Load Finish, Predict Finish, 3.3976 2.7009 0.1023 0.8811 Evaluation Finish\n",
      "407: Data Load Finish, Predict Finish, 3.2004 2.9357 0.1084 0.888 Evaluation Finish\n",
      "408: Data Load Finish, Predict Finish, 3.8341 3.177 0.1221 0.8658 Evaluation Finish\n",
      "409: Data Load Finish, Predict Finish, 5.3237 4.1007 0.1608 0.8137 Evaluation Finish\n",
      "410: Data Load Finish, Predict Finish, 3.4886 3.2924 0.1163 0.8779 Evaluation Finish\n",
      "411: Data Load Finish, Predict Finish, 3.4351 3.1303 0.112 0.8798 Evaluation Finish\n",
      "412: Data Load Finish, Predict Finish, 11.9604 11.4814 0.4238 0.5814 Evaluation Finish\n",
      "413: Data Load Finish, Predict Finish, 5.3056 3.7796 0.1216 0.8143 Evaluation Finish\n",
      "414: Data Load Finish, Predict Finish, 6.6173 5.5962 0.2127 0.7684 Evaluation Finish\n",
      "415: Data Load Finish, Predict Finish, 3.521 2.8372 0.1007 0.8768 Evaluation Finish\n",
      "416: Data Load Finish, Predict Finish, 3.3391 3.0268 0.1141 0.8831 Evaluation Finish\n",
      "417: Data Load Finish, Predict Finish, 4.8221 4.7667 0.1733 0.8312 Evaluation Finish\n",
      "418: Data Load Finish, Predict Finish, 16.3532 16.01 0.5861 0.4277 Evaluation Finish\n",
      "419: Data Load Finish, Predict Finish, 10.1566 9.6333 0.3302 0.6446 Evaluation Finish\n",
      "420: Data Load Finish, Predict Finish, 3.6322 3.112 0.1172 0.8729 Evaluation Finish\n",
      "421: Data Load Finish, Predict Finish, 3.3494 3.3029 0.1202 0.8828 Evaluation Finish\n",
      "422: Data Load Finish, Predict Finish, 7.1944 6.4308 0.2157 0.7482 Evaluation Finish\n",
      "423: Data Load Finish, Predict Finish, 5.4115 4.2302 0.1655 0.8106 Evaluation Finish\n",
      "424: Data Load Finish, "
     ]
    },
    {
     "name": "stderr",
     "output_type": "stream",
     "text": [
      "C:\\Users\\vfgtr554\\anaconda3\\envs\\cctv\\lib\\site-packages\\pandas\\core\\arraylike.py:364: RuntimeWarning: divide by zero encountered in log\n",
      "  result = getattr(ufunc, method)(*inputs, **kwargs)\n",
      "C:\\Users\\vfgtr554\\anaconda3\\envs\\cctv\\lib\\site-packages\\statsmodels\\base\\model.py:606: ConvergenceWarning: Maximum Likelihood optimization failed to converge. Check mle_retvals\n",
      "  ConvergenceWarning)\n"
     ]
    },
    {
     "name": "stdout",
     "output_type": "stream",
     "text": [
      "Predict Finish, 27.5823 27.39 0.9643 0.0348 Evaluation Finish\n",
      "425: Data Load Finish, Predict Finish, 4.1842 3.8331 0.1298 0.8536 Evaluation Finish\n",
      "426: Data Load Finish, Predict Finish, 18.3233 18.0005 0.6575 0.3588 Evaluation Finish\n",
      "427: Data Load Finish, Predict Finish, 26.9134 26.707 0.9682 0.0582 Evaluation Finish\n",
      "428: Data Load Finish, Predict Finish, 23.4125 23.195 0.8422 0.1807 Evaluation Finish\n",
      "429: Data Load Finish, Predict Finish, 30.2427 30.044 1.0877 -0.0583 Evaluation Finish\n",
      "430: Data Load Finish, Predict Finish, 27.9403 27.7425 1.0045 0.0222 Evaluation Finish\n",
      "431: Data Load Finish, Predict Finish, 23.6575 23.3972 0.8502 0.1721 Evaluation Finish\n",
      "432: Data Load Finish, Predict Finish, 13.0976 12.6687 0.4385 0.5417 Evaluation Finish\n",
      "433: Data Load Finish, Predict Finish, 15.2419 14.8727 0.5172 0.4666 Evaluation Finish\n",
      "434: Data Load Finish, "
     ]
    },
    {
     "name": "stderr",
     "output_type": "stream",
     "text": [
      "C:\\Users\\vfgtr554\\anaconda3\\envs\\cctv\\lib\\site-packages\\pandas\\core\\arraylike.py:364: RuntimeWarning: divide by zero encountered in log\n",
      "  result = getattr(ufunc, method)(*inputs, **kwargs)\n",
      "C:\\Users\\vfgtr554\\anaconda3\\envs\\cctv\\lib\\site-packages\\statsmodels\\base\\model.py:606: ConvergenceWarning: Maximum Likelihood optimization failed to converge. Check mle_retvals\n",
      "  ConvergenceWarning)\n"
     ]
    },
    {
     "name": "stdout",
     "output_type": "stream",
     "text": [
      "Predict Finish, 27.5823 27.39 0.9643 0.0348 Evaluation Finish\n",
      "435: Data Load Finish, Predict Finish, 7.9835 7.1633 0.2416 0.7206 Evaluation Finish\n",
      "436: Data Load Finish, Predict Finish, 11.7338 11.2758 0.3887 0.5894 Evaluation Finish\n",
      "437: Data Load Finish, Predict Finish, 5.5427 4.3712 0.1421 0.806 Evaluation Finish\n",
      "438: Data Load Finish, Predict Finish, 6.1305 5.2408 0.1735 0.7855 Evaluation Finish\n",
      "439: Data Load Finish, Predict Finish, 3.3304 2.9779 0.107 0.8835 Evaluation Finish\n",
      "440: Data Load Finish, Predict Finish, 6.2931 5.3924 0.2067 0.7798 Evaluation Finish\n",
      "441: Data Load Finish, Predict Finish, 3.4268 2.6317 0.1017 0.8801 Evaluation Finish\n",
      "442: Data Load Finish, Predict Finish, 4.4952 3.237 0.1291 0.8427 Evaluation Finish\n",
      "443: Data Load Finish, Predict Finish, 8.8776 8.2695 0.2814 0.6893 Evaluation Finish\n",
      "444: Data Load Finish, Predict Finish, 6.2471 5.0365 0.1659 0.7814 Evaluation Finish\n",
      "445: Data Load Finish, Predict Finish, 7.0536 6.1676 0.2058 0.7532 Evaluation Finish\n",
      "446: Data Load Finish, Predict Finish, 3.8064 3.5819 0.1234 0.8668 Evaluation Finish\n",
      "447: "
     ]
    },
    {
     "name": "stderr",
     "output_type": "stream",
     "text": [
      "C:\\Users\\vfgtr554\\anaconda3\\envs\\cctv\\lib\\site-packages\\pandas\\core\\arraylike.py:364: RuntimeWarning: divide by zero encountered in log\n",
      "  result = getattr(ufunc, method)(*inputs, **kwargs)\n"
     ]
    },
    {
     "name": "stdout",
     "output_type": "stream",
     "text": [
      "Data Load Finish, "
     ]
    },
    {
     "name": "stderr",
     "output_type": "stream",
     "text": [
      "C:\\Users\\vfgtr554\\anaconda3\\envs\\cctv\\lib\\site-packages\\statsmodels\\base\\model.py:606: ConvergenceWarning: Maximum Likelihood optimization failed to converge. Check mle_retvals\n",
      "  ConvergenceWarning)\n"
     ]
    },
    {
     "name": "stdout",
     "output_type": "stream",
     "text": [
      "Predict Finish, 27.5823 27.39 0.9643 0.0348 Evaluation Finish\n",
      "448: Data Load Finish, Predict Finish, 7.9584 7.247 0.2729 0.7215 Evaluation Finish\n",
      "449: Data Load Finish, Predict Finish, 5.1605 4.1884 0.1369 0.8194 Evaluation Finish\n",
      "450: Data Load Finish, "
     ]
    },
    {
     "name": "stderr",
     "output_type": "stream",
     "text": [
      "C:\\Users\\vfgtr554\\anaconda3\\envs\\cctv\\lib\\site-packages\\statsmodels\\base\\model.py:606: ConvergenceWarning: Maximum Likelihood optimization failed to converge. Check mle_retvals\n",
      "  ConvergenceWarning)\n"
     ]
    },
    {
     "name": "stdout",
     "output_type": "stream",
     "text": [
      "Predict Finish, 5.0452 4.162 0.1365 0.8234 Evaluation Finish\n",
      "451: Data Load Finish, Predict Finish, 4.0353 3.5513 0.1349 0.8588 Evaluation Finish\n",
      "452: Data Load Finish, Predict Finish, 4.5335 3.847 0.1284 0.8414 Evaluation Finish\n",
      "453: Data Load Finish, Predict Finish, 4.3656 3.9703 0.134 0.8472 Evaluation Finish\n",
      "454: Data Load Finish, Predict Finish, 10.1017 9.5737 0.3282 0.6465 Evaluation Finish\n",
      "455: Data Load Finish, Predict Finish, 11.8538 11.4193 0.3941 0.5852 Evaluation Finish\n",
      "456: Data Load Finish, Predict Finish, 7.7181 7.0411 0.2378 0.7299 Evaluation Finish\n",
      "457: Data Load Finish, Predict Finish, 7.5996 6.8849 0.232 0.7341 Evaluation Finish\n",
      "458: Data Load Finish, "
     ]
    },
    {
     "name": "stderr",
     "output_type": "stream",
     "text": [
      "C:\\Users\\vfgtr554\\anaconda3\\envs\\cctv\\lib\\site-packages\\pandas\\core\\arraylike.py:364: RuntimeWarning: divide by zero encountered in log\n",
      "  result = getattr(ufunc, method)(*inputs, **kwargs)\n",
      "C:\\Users\\vfgtr554\\anaconda3\\envs\\cctv\\lib\\site-packages\\statsmodels\\base\\model.py:606: ConvergenceWarning: Maximum Likelihood optimization failed to converge. Check mle_retvals\n",
      "  ConvergenceWarning)\n"
     ]
    },
    {
     "name": "stdout",
     "output_type": "stream",
     "text": [
      "Predict Finish, 27.5823 27.39 0.9643 0.0348 Evaluation Finish\n",
      "459: Data Load Finish, Predict Finish, 3.3791 2.6383 0.101 0.8817 Evaluation Finish\n",
      "460: Data Load Finish, Predict Finish, 8.2162 7.5333 0.2549 0.7125 Evaluation Finish\n",
      "461: Data Load Finish, Predict Finish, 3.6622 3.5243 0.1225 0.8718 Evaluation Finish\n",
      "462: Data Load Finish, Predict Finish, 4.5165 3.9587 0.1323 0.8419 Evaluation Finish\n",
      "463: Data Load Finish, Predict Finish, 6.6699 5.8263 0.1941 0.7666 Evaluation Finish\n",
      "464: Data Load Finish, Predict Finish, 3.3386 2.8394 0.1052 0.8832 Evaluation Finish\n",
      "465: Data Load Finish, Predict Finish, 8.6143 8.0079 0.2723 0.6985 Evaluation Finish\n",
      "466: "
     ]
    },
    {
     "name": "stderr",
     "output_type": "stream",
     "text": [
      "C:\\Users\\vfgtr554\\anaconda3\\envs\\cctv\\lib\\site-packages\\pandas\\core\\arraylike.py:364: RuntimeWarning: divide by zero encountered in log\n",
      "  result = getattr(ufunc, method)(*inputs, **kwargs)\n"
     ]
    },
    {
     "name": "stdout",
     "output_type": "stream",
     "text": [
      "Data Load Finish, "
     ]
    },
    {
     "name": "stderr",
     "output_type": "stream",
     "text": [
      "C:\\Users\\vfgtr554\\anaconda3\\envs\\cctv\\lib\\site-packages\\statsmodels\\base\\model.py:606: ConvergenceWarning: Maximum Likelihood optimization failed to converge. Check mle_retvals\n",
      "  ConvergenceWarning)\n"
     ]
    },
    {
     "name": "stdout",
     "output_type": "stream",
     "text": [
      "Predict Finish, 27.5823 27.39 0.9643 0.0348 Evaluation Finish\n",
      "467: Data Load Finish, Predict Finish, 3.2402 3.1218 0.113 0.8866 Evaluation Finish\n",
      "468: Data Load Finish, Predict Finish, 10.1811 9.6308 0.3582 0.6437 Evaluation Finish\n",
      "469: Data Load Finish, Predict Finish, 3.4372 2.8112 0.1065 0.8797 Evaluation Finish\n",
      "470: Data Load Finish, Predict Finish, 10.6037 10.0231 0.3437 0.6289 Evaluation Finish\n",
      "471: Data Load Finish, Predict Finish, 3.3629 3.0472 0.11 0.8823 Evaluation Finish\n",
      "472: Data Load Finish, Predict Finish, 8.3671 7.5516 0.2552 0.7072 Evaluation Finish\n",
      "473: Data Load Finish, Predict Finish, 10.3724 9.138 0.3426 0.637 Evaluation Finish\n",
      "474: Data Load Finish, "
     ]
    },
    {
     "name": "stderr",
     "output_type": "stream",
     "text": [
      "C:\\Users\\vfgtr554\\anaconda3\\envs\\cctv\\lib\\site-packages\\pandas\\core\\arraylike.py:364: RuntimeWarning: divide by zero encountered in log\n",
      "  result = getattr(ufunc, method)(*inputs, **kwargs)\n",
      "C:\\Users\\vfgtr554\\anaconda3\\envs\\cctv\\lib\\site-packages\\statsmodels\\base\\model.py:606: ConvergenceWarning: Maximum Likelihood optimization failed to converge. Check mle_retvals\n",
      "  ConvergenceWarning)\n"
     ]
    },
    {
     "name": "stdout",
     "output_type": "stream",
     "text": [
      "Predict Finish, 27.5823 27.39 0.9643 0.0348 Evaluation Finish\n",
      "475: Data Load Finish, Predict Finish, 9.998 9.4745 0.3252 0.6501 Evaluation Finish\n",
      "476: Data Load Finish, Predict Finish, 5.4851 4.3751 0.1421 0.808 Evaluation Finish\n",
      "477: Data Load Finish, "
     ]
    },
    {
     "name": "stderr",
     "output_type": "stream",
     "text": [
      "C:\\Users\\vfgtr554\\anaconda3\\envs\\cctv\\lib\\site-packages\\pandas\\core\\arraylike.py:364: RuntimeWarning: divide by zero encountered in log\n",
      "  result = getattr(ufunc, method)(*inputs, **kwargs)\n",
      "C:\\Users\\vfgtr554\\anaconda3\\envs\\cctv\\lib\\site-packages\\statsmodels\\base\\model.py:606: ConvergenceWarning: Maximum Likelihood optimization failed to converge. Check mle_retvals\n",
      "  ConvergenceWarning)\n"
     ]
    },
    {
     "name": "stdout",
     "output_type": "stream",
     "text": [
      "Predict Finish, 27.5823 27.39 0.9643 0.0348 Evaluation Finish\n",
      "478: Data Load Finish, Predict Finish, 6.4716 5.5494 0.1839 0.7735 Evaluation Finish\n",
      "479: Data Load Finish, Predict Finish, 6.5174 5.6966 0.1898 0.7719 Evaluation Finish\n",
      "480: Data Load Finish, Predict Finish, 6.6715 5.7795 0.1921 0.7665 Evaluation Finish\n",
      "481: Data Load Finish, Predict Finish, 3.4718 3.1499 0.112 0.8785 Evaluation Finish\n",
      "482: Data Load Finish, Predict Finish, 4.6361 3.918 0.1305 0.8378 Evaluation Finish\n",
      "483: Data Load Finish, Predict Finish, 3.977 3.6032 0.1231 0.8608 Evaluation Finish\n",
      "484: Data Load Finish, "
     ]
    },
    {
     "name": "stderr",
     "output_type": "stream",
     "text": [
      "C:\\Users\\vfgtr554\\anaconda3\\envs\\cctv\\lib\\site-packages\\pandas\\core\\arraylike.py:364: RuntimeWarning: divide by zero encountered in log\n",
      "  result = getattr(ufunc, method)(*inputs, **kwargs)\n",
      "C:\\Users\\vfgtr554\\anaconda3\\envs\\cctv\\lib\\site-packages\\statsmodels\\base\\model.py:606: ConvergenceWarning: Maximum Likelihood optimization failed to converge. Check mle_retvals\n",
      "  ConvergenceWarning)\n"
     ]
    },
    {
     "name": "stdout",
     "output_type": "stream",
     "text": [
      "Predict Finish, 27.5823 27.39 0.9643 0.0348 Evaluation Finish\n",
      "485: Data Load Finish, Predict Finish, 4.6767 4.1702 0.1581 0.8363 Evaluation Finish\n",
      "486: Data Load Finish, Predict Finish, 4.0779 3.7372 0.1271 0.8573 Evaluation Finish\n",
      "487: Data Load Finish, Predict Finish, 11.6371 11.1585 0.4126 0.5928 Evaluation Finish\n",
      "488: Data Load Finish, Predict Finish, 4.4285 3.4194 0.1343 0.845 Evaluation Finish\n",
      "489: Data Load Finish, Predict Finish, 13.895 13.4966 0.4958 0.5137 Evaluation Finish\n",
      "490: Data Load Finish, Predict Finish, 11.0625 10.5542 0.3912 0.6129 Evaluation Finish\n",
      "491: Data Load Finish, Predict Finish, 7.0038 6.1177 0.2051 0.7549 Evaluation Finish\n",
      "492: Data Load Finish, Predict Finish, 5.2582 3.8541 0.125 0.816 Evaluation Finish\n",
      "493: Data Load Finish, Predict Finish, 3.4048 2.5886 0.0999 0.8808 Evaluation Finish\n",
      "494: Data Load Finish, Predict Finish, 5.0658 4.1319 0.1354 0.8227 Evaluation Finish\n",
      "495: Data Load Finish, Predict Finish, 3.9063 3.6391 0.1349 0.8633 Evaluation Finish\n",
      "496: Data Load Finish, Predict Finish, 3.5683 3.3606 0.1173 0.8751 Evaluation Finish\n",
      "497: Data Load Finish, Predict Finish, 3.9933 3.7611 0.1289 0.8603 Evaluation Finish\n",
      "498: Data Load Finish, Predict Finish, 5.1224 3.9514 0.1552 0.8207 Evaluation Finish\n",
      "499: Data Load Finish, Predict Finish, 3.2662 3.0559 0.1114 0.8857 Evaluation Finish\n",
      "500: Data Load Finish, Predict Finish, 3.3026 2.7523 0.1016 0.8844 Evaluation Finish\n",
      "501: Data Load Finish, Predict Finish, 3.6181 3.146 0.1187 0.8734 Evaluation Finish\n",
      "502: Data Load Finish, Predict Finish, 6.5387 5.7004 0.2149 0.7712 Evaluation Finish\n",
      "503: Data Load Finish, Predict Finish, 5.5933 4.515 0.1471 0.8043 Evaluation Finish\n",
      "504: Data Load Finish, Predict Finish, 3.4722 3.016 0.1118 0.8785 Evaluation Finish\n",
      "505: Data Load Finish, Predict Finish, 11.9951 11.5032 0.3974 0.5802 Evaluation Finish\n",
      "RMSE: 8.871463759000417, MAE: 8.245140297014704, MAPE: 0.29236921032087143\n",
      "ACC: 0.6951089461243747\n"
     ]
    }
   ],
   "source": [
    "predictARIMA(df, idx, 3)"
   ]
  },
  {
   "cell_type": "markdown",
   "id": "dcb35d64",
   "metadata": {},
   "source": [
    "### Unobserved Nodes = 10%"
   ]
  },
  {
   "cell_type": "code",
   "execution_count": 12,
   "id": "83ad788d",
   "metadata": {},
   "outputs": [
    {
     "name": "stdout",
     "output_type": "stream",
     "text": [
      "2880 506\n"
     ]
    },
    {
     "data": {
      "text/plain": [
       "144000"
      ]
     },
     "execution_count": 12,
     "metadata": {},
     "output_type": "execute_result"
    }
   ],
   "source": [
    "df, idx = csvIndexToDatetime(path_10, start, freq)\n",
    "(df == 0).sum().sum()"
   ]
  },
  {
   "cell_type": "code",
   "execution_count": 13,
   "id": "010ff399",
   "metadata": {
    "scrolled": false
   },
   "outputs": [
    {
     "name": "stdout",
     "output_type": "stream",
     "text": [
      "0: Data Load Finish, Predict Finish, 3.547 3.4717 0.1219 0.8759 Evaluation Finish\n",
      "1: Data Load Finish, Predict Finish, 3.9207 3.401 0.1194 0.8628 Evaluation Finish\n",
      "2: Data Load Finish, Predict Finish, 5.0571 3.9157 0.1537 0.823 Evaluation Finish\n",
      "3: "
     ]
    },
    {
     "name": "stderr",
     "output_type": "stream",
     "text": [
      "C:\\Users\\vfgtr554\\anaconda3\\envs\\cctv\\lib\\site-packages\\pandas\\core\\arraylike.py:364: RuntimeWarning: divide by zero encountered in log\n",
      "  result = getattr(ufunc, method)(*inputs, **kwargs)\n"
     ]
    },
    {
     "name": "stdout",
     "output_type": "stream",
     "text": [
      "Data Load Finish, "
     ]
    },
    {
     "name": "stderr",
     "output_type": "stream",
     "text": [
      "C:\\Users\\vfgtr554\\anaconda3\\envs\\cctv\\lib\\site-packages\\statsmodels\\base\\model.py:606: ConvergenceWarning: Maximum Likelihood optimization failed to converge. Check mle_retvals\n",
      "  ConvergenceWarning)\n"
     ]
    },
    {
     "name": "stdout",
     "output_type": "stream",
     "text": [
      "Predict Finish, 27.5823 27.39 0.9643 0.0348 Evaluation Finish\n",
      "4: Data Load Finish, Predict Finish, 6.6472 5.5728 0.1844 0.7674 Evaluation Finish\n",
      "5: Data Load Finish, Predict Finish, 6.691 5.8393 0.1945 0.7659 Evaluation Finish\n",
      "6: Data Load Finish, "
     ]
    },
    {
     "name": "stderr",
     "output_type": "stream",
     "text": [
      "C:\\Users\\vfgtr554\\anaconda3\\envs\\cctv\\lib\\site-packages\\pandas\\core\\arraylike.py:364: RuntimeWarning: divide by zero encountered in log\n",
      "  result = getattr(ufunc, method)(*inputs, **kwargs)\n",
      "C:\\Users\\vfgtr554\\anaconda3\\envs\\cctv\\lib\\site-packages\\statsmodels\\base\\model.py:606: ConvergenceWarning: Maximum Likelihood optimization failed to converge. Check mle_retvals\n",
      "  ConvergenceWarning)\n"
     ]
    },
    {
     "name": "stdout",
     "output_type": "stream",
     "text": [
      "Predict Finish, 27.5823 27.39 0.9643 0.0348 Evaluation Finish\n",
      "7: Data Load Finish, Predict Finish, 11.4934 11.0395 0.3805 0.5978 Evaluation Finish\n",
      "8: "
     ]
    },
    {
     "name": "stderr",
     "output_type": "stream",
     "text": [
      "C:\\Users\\vfgtr554\\anaconda3\\envs\\cctv\\lib\\site-packages\\pandas\\core\\arraylike.py:364: RuntimeWarning: divide by zero encountered in log\n",
      "  result = getattr(ufunc, method)(*inputs, **kwargs)\n"
     ]
    },
    {
     "name": "stdout",
     "output_type": "stream",
     "text": [
      "Data Load Finish, "
     ]
    },
    {
     "name": "stderr",
     "output_type": "stream",
     "text": [
      "C:\\Users\\vfgtr554\\anaconda3\\envs\\cctv\\lib\\site-packages\\statsmodels\\base\\model.py:606: ConvergenceWarning: Maximum Likelihood optimization failed to converge. Check mle_retvals\n",
      "  ConvergenceWarning)\n"
     ]
    },
    {
     "name": "stdout",
     "output_type": "stream",
     "text": [
      "Predict Finish, 27.5823 27.39 0.9643 0.0348 Evaluation Finish\n",
      "9: Data Load Finish, Predict Finish, 9.7921 9.237 0.3159 0.6573 Evaluation Finish\n",
      "10: Data Load Finish, Predict Finish, 12.0162 11.5933 0.4005 0.5795 Evaluation Finish\n",
      "11: Data Load Finish, Predict Finish, 3.4725 3.2956 0.1165 0.8785 Evaluation Finish\n",
      "12: Data Load Finish, Predict Finish, 15.4933 15.1499 0.5552 0.4578 Evaluation Finish\n",
      "13: Data Load Finish, Predict Finish, 26.0449 25.8359 0.937 0.0886 Evaluation Finish\n",
      "14: Data Load Finish, "
     ]
    },
    {
     "name": "stderr",
     "output_type": "stream",
     "text": [
      "C:\\Users\\vfgtr554\\anaconda3\\envs\\cctv\\lib\\site-packages\\pandas\\core\\arraylike.py:364: RuntimeWarning: divide by zero encountered in log\n",
      "  result = getattr(ufunc, method)(*inputs, **kwargs)\n",
      "C:\\Users\\vfgtr554\\anaconda3\\envs\\cctv\\lib\\site-packages\\statsmodels\\base\\model.py:606: ConvergenceWarning: Maximum Likelihood optimization failed to converge. Check mle_retvals\n",
      "  ConvergenceWarning)\n",
      "C:\\Users\\vfgtr554\\anaconda3\\envs\\cctv\\lib\\site-packages\\pandas\\core\\arraylike.py:364: RuntimeWarning: divide by zero encountered in log\n",
      "  result = getattr(ufunc, method)(*inputs, **kwargs)\n"
     ]
    },
    {
     "name": "stdout",
     "output_type": "stream",
     "text": [
      "Predict Finish, 27.5823 27.39 0.9643 0.0348 Evaluation Finish\n",
      "15: Data Load Finish, "
     ]
    },
    {
     "name": "stderr",
     "output_type": "stream",
     "text": [
      "C:\\Users\\vfgtr554\\anaconda3\\envs\\cctv\\lib\\site-packages\\statsmodels\\base\\model.py:606: ConvergenceWarning: Maximum Likelihood optimization failed to converge. Check mle_retvals\n",
      "  ConvergenceWarning)\n"
     ]
    },
    {
     "name": "stdout",
     "output_type": "stream",
     "text": [
      "Predict Finish, 27.5823 27.39 0.9643 0.0348 Evaluation Finish\n",
      "16: Data Load Finish, Predict Finish, 8.5555 7.8346 0.2944 0.7006 Evaluation Finish\n",
      "17: Data Load Finish, "
     ]
    },
    {
     "name": "stderr",
     "output_type": "stream",
     "text": [
      "C:\\Users\\vfgtr554\\anaconda3\\envs\\cctv\\lib\\site-packages\\pandas\\core\\arraylike.py:364: RuntimeWarning: divide by zero encountered in log\n",
      "  result = getattr(ufunc, method)(*inputs, **kwargs)\n",
      "C:\\Users\\vfgtr554\\anaconda3\\envs\\cctv\\lib\\site-packages\\statsmodels\\base\\model.py:606: ConvergenceWarning: Maximum Likelihood optimization failed to converge. Check mle_retvals\n",
      "  ConvergenceWarning)\n"
     ]
    },
    {
     "name": "stdout",
     "output_type": "stream",
     "text": [
      "Predict Finish, 27.5823 27.39 0.9643 0.0348 Evaluation Finish\n",
      "18: Data Load Finish, Predict Finish, 5.5337 4.4628 0.1453 0.8063 Evaluation Finish\n",
      "19: Data Load Finish, Predict Finish, 10.9093 10.4425 0.3595 0.6182 Evaluation Finish\n",
      "20: Data Load Finish, "
     ]
    },
    {
     "name": "stderr",
     "output_type": "stream",
     "text": [
      "C:\\Users\\vfgtr554\\anaconda3\\envs\\cctv\\lib\\site-packages\\statsmodels\\base\\model.py:606: ConvergenceWarning: Maximum Likelihood optimization failed to converge. Check mle_retvals\n",
      "  ConvergenceWarning)\n"
     ]
    },
    {
     "name": "stdout",
     "output_type": "stream",
     "text": [
      "Predict Finish, 7.2059 6.4193 0.2152 0.7478 Evaluation Finish\n",
      "21: Data Load Finish, "
     ]
    },
    {
     "name": "stderr",
     "output_type": "stream",
     "text": [
      "C:\\Users\\vfgtr554\\anaconda3\\envs\\cctv\\lib\\site-packages\\statsmodels\\base\\model.py:606: ConvergenceWarning: Maximum Likelihood optimization failed to converge. Check mle_retvals\n",
      "  ConvergenceWarning)\n"
     ]
    },
    {
     "name": "stdout",
     "output_type": "stream",
     "text": [
      "Predict Finish, 3.7703 3.2578 0.1134 0.8681 Evaluation Finish\n",
      "22: Data Load Finish, Predict Finish, 3.9366 3.5807 0.1225 0.8622 Evaluation Finish\n",
      "23: Data Load Finish, Predict Finish, 4.1146 3.8392 0.1307 0.856 Evaluation Finish\n",
      "24: Data Load Finish, Predict Finish, 15.9693 15.5787 0.5711 0.4412 Evaluation Finish\n",
      "25: Data Load Finish, Predict Finish, 6.4251 5.5711 0.1853 0.7752 Evaluation Finish\n",
      "26: Data Load Finish, "
     ]
    },
    {
     "name": "stderr",
     "output_type": "stream",
     "text": [
      "C:\\Users\\vfgtr554\\anaconda3\\envs\\cctv\\lib\\site-packages\\pandas\\core\\arraylike.py:364: RuntimeWarning: divide by zero encountered in log\n",
      "  result = getattr(ufunc, method)(*inputs, **kwargs)\n",
      "C:\\Users\\vfgtr554\\anaconda3\\envs\\cctv\\lib\\site-packages\\statsmodels\\base\\model.py:606: ConvergenceWarning: Maximum Likelihood optimization failed to converge. Check mle_retvals\n",
      "  ConvergenceWarning)\n",
      "C:\\Users\\vfgtr554\\anaconda3\\envs\\cctv\\lib\\site-packages\\pandas\\core\\arraylike.py:364: RuntimeWarning: divide by zero encountered in log\n",
      "  result = getattr(ufunc, method)(*inputs, **kwargs)\n"
     ]
    },
    {
     "name": "stdout",
     "output_type": "stream",
     "text": [
      "Predict Finish, 27.5823 27.39 0.9643 0.0348 Evaluation Finish\n",
      "27: Data Load Finish, "
     ]
    },
    {
     "name": "stderr",
     "output_type": "stream",
     "text": [
      "C:\\Users\\vfgtr554\\anaconda3\\envs\\cctv\\lib\\site-packages\\statsmodels\\base\\model.py:606: ConvergenceWarning: Maximum Likelihood optimization failed to converge. Check mle_retvals\n",
      "  ConvergenceWarning)\n"
     ]
    },
    {
     "name": "stdout",
     "output_type": "stream",
     "text": [
      "Predict Finish, 27.5823 27.39 0.9643 0.0348 Evaluation Finish\n",
      "28: Data Load Finish, Predict Finish, 7.2815 6.2657 0.2383 0.7452 Evaluation Finish\n",
      "29: Data Load Finish, "
     ]
    },
    {
     "name": "stderr",
     "output_type": "stream",
     "text": [
      "C:\\Users\\vfgtr554\\anaconda3\\envs\\cctv\\lib\\site-packages\\pandas\\core\\arraylike.py:364: RuntimeWarning: divide by zero encountered in log\n",
      "  result = getattr(ufunc, method)(*inputs, **kwargs)\n",
      "C:\\Users\\vfgtr554\\anaconda3\\envs\\cctv\\lib\\site-packages\\statsmodels\\base\\model.py:606: ConvergenceWarning: Maximum Likelihood optimization failed to converge. Check mle_retvals\n",
      "  ConvergenceWarning)\n"
     ]
    },
    {
     "name": "stdout",
     "output_type": "stream",
     "text": [
      "Predict Finish, 27.5823 27.39 0.9643 0.0348 Evaluation Finish\n",
      "30: Data Load Finish, Predict Finish, 3.5433 3.0556 0.1152 0.876 Evaluation Finish\n",
      "31: Data Load Finish, Predict Finish, 3.531 3.3023 0.1156 0.8764 Evaluation Finish\n",
      "32: Data Load Finish, Predict Finish, 3.45 3.128 0.1109 0.8793 Evaluation Finish\n",
      "33: Data Load Finish, Predict Finish, 10.1584 9.4274 0.3227 0.6445 Evaluation Finish\n",
      "34: Data Load Finish, Predict Finish, 3.849 3.5335 0.1256 0.8653 Evaluation Finish\n",
      "35: Data Load Finish, Predict Finish, 7.6551 6.8959 0.2321 0.7321 Evaluation Finish\n",
      "36: Data Load Finish, Predict Finish, 5.3383 4.2234 0.1371 0.8132 Evaluation Finish\n",
      "37: Data Load Finish, Predict Finish, 5.5557 4.4869 0.1462 0.8056 Evaluation Finish\n",
      "38: Data Load Finish, Predict Finish, 6.438 5.4301 0.1796 0.7747 Evaluation Finish\n",
      "39: Data Load Finish, Predict Finish, 3.5549 3.276 0.1146 0.8756 Evaluation Finish\n",
      "40: Data Load Finish, Predict Finish, 6.4264 5.5467 0.1842 0.7751 Evaluation Finish\n",
      "41: Data Load Finish, Predict Finish, 8.7611 8.0837 0.2746 0.6934 Evaluation Finish\n",
      "42: Data Load Finish, Predict Finish, 6.5716 5.5541 0.1845 0.77 Evaluation Finish\n",
      "43: Data Load Finish, Predict Finish, 4.6277 4.2229 0.1491 0.8381 Evaluation Finish\n",
      "44: Data Load Finish, Predict Finish, 3.3916 2.6969 0.1029 0.8813 Evaluation Finish\n",
      "45: Data Load Finish, Predict Finish, 5.9711 4.8805 0.1598 0.791 Evaluation Finish\n",
      "46: Data Load Finish, Predict Finish, 5.4486 4.3701 0.1702 0.8093 Evaluation Finish\n",
      "47: Data Load Finish, "
     ]
    },
    {
     "name": "stderr",
     "output_type": "stream",
     "text": [
      "C:\\Users\\vfgtr554\\anaconda3\\envs\\cctv\\lib\\site-packages\\pandas\\core\\arraylike.py:364: RuntimeWarning: divide by zero encountered in log\n",
      "  result = getattr(ufunc, method)(*inputs, **kwargs)\n",
      "C:\\Users\\vfgtr554\\anaconda3\\envs\\cctv\\lib\\site-packages\\statsmodels\\base\\model.py:606: ConvergenceWarning: Maximum Likelihood optimization failed to converge. Check mle_retvals\n",
      "  ConvergenceWarning)\n"
     ]
    },
    {
     "name": "stdout",
     "output_type": "stream",
     "text": [
      "Predict Finish, 27.5823 27.39 0.9643 0.0348 Evaluation Finish\n",
      "48: Data Load Finish, Predict Finish, 3.5316 3.4848 0.1226 0.8764 Evaluation Finish\n",
      "49: Data Load Finish, Predict Finish, 3.2707 2.8874 0.1064 0.8855 Evaluation Finish\n",
      "50: Data Load Finish, Predict Finish, 5.2916 4.4978 0.1487 0.8148 Evaluation Finish\n",
      "51: Data Load Finish, Predict Finish, 7.7926 7.0573 0.2379 0.7273 Evaluation Finish\n",
      "52: Data Load Finish, Predict Finish, 9.394 8.587 0.2927 0.6713 Evaluation Finish\n",
      "53: Data Load Finish, Predict Finish, 13.5726 13.1768 0.4566 0.525 Evaluation Finish\n",
      "54: Data Load Finish, Predict Finish, 11.8639 11.4081 0.3935 0.5848 Evaluation Finish\n",
      "55: Data Load Finish, "
     ]
    },
    {
     "name": "stderr",
     "output_type": "stream",
     "text": [
      "C:\\Users\\vfgtr554\\anaconda3\\envs\\cctv\\lib\\site-packages\\pandas\\core\\arraylike.py:364: RuntimeWarning: divide by zero encountered in log\n",
      "  result = getattr(ufunc, method)(*inputs, **kwargs)\n",
      "C:\\Users\\vfgtr554\\anaconda3\\envs\\cctv\\lib\\site-packages\\statsmodels\\base\\model.py:606: ConvergenceWarning: Maximum Likelihood optimization failed to converge. Check mle_retvals\n",
      "  ConvergenceWarning)\n"
     ]
    },
    {
     "name": "stdout",
     "output_type": "stream",
     "text": [
      "Predict Finish, 27.5823 27.39 0.9643 0.0348 Evaluation Finish\n",
      "56: Data Load Finish, Predict Finish, 8.2974 7.6373 0.2868 0.7096 Evaluation Finish\n",
      "57: Data Load Finish, Predict Finish, 3.3835 2.5998 0.1003 0.8816 Evaluation Finish\n",
      "58: Data Load Finish, Predict Finish, 19.8777 19.5822 0.714 0.3044 Evaluation Finish\n",
      "59: Data Load Finish, Predict Finish, 8.1481 7.4189 0.2794 0.7149 Evaluation Finish\n",
      "60: Data Load Finish, Predict Finish, 5.2411 4.1209 0.1612 0.8166 Evaluation Finish\n",
      "61: Data Load Finish, Predict Finish, 8.1199 7.4365 0.2515 0.7158 Evaluation Finish\n",
      "62: Data Load Finish, Predict Finish, 4.7396 3.4438 0.1371 0.8341 Evaluation Finish\n",
      "63: Data Load Finish, Predict Finish, 3.9415 3.1534 0.1225 0.8621 Evaluation Finish\n",
      "64: Data Load Finish, Predict Finish, 4.0248 2.4396 0.1004 0.8592 Evaluation Finish\n",
      "65: Data Load Finish, Predict Finish, 8.9907 8.4195 0.2873 0.6854 Evaluation Finish\n",
      "66: Data Load Finish, Predict Finish, 6.3519 5.3813 0.2066 0.7777 Evaluation Finish\n",
      "67: Data Load Finish, Predict Finish, 8.4825 7.8645 0.2672 0.7032 Evaluation Finish\n",
      "68: Data Load Finish, Predict Finish, 3.5543 3.0274 0.1127 0.8756 Evaluation Finish\n",
      "69: Data Load Finish, Predict Finish, 13.4951 13.1095 0.4821 0.5277 Evaluation Finish\n",
      "70: "
     ]
    },
    {
     "name": "stderr",
     "output_type": "stream",
     "text": [
      "C:\\Users\\vfgtr554\\anaconda3\\envs\\cctv\\lib\\site-packages\\pandas\\core\\arraylike.py:364: RuntimeWarning: divide by zero encountered in log\n",
      "  result = getattr(ufunc, method)(*inputs, **kwargs)\n"
     ]
    },
    {
     "name": "stdout",
     "output_type": "stream",
     "text": [
      "Data Load Finish, "
     ]
    },
    {
     "name": "stderr",
     "output_type": "stream",
     "text": [
      "C:\\Users\\vfgtr554\\anaconda3\\envs\\cctv\\lib\\site-packages\\statsmodels\\base\\model.py:606: ConvergenceWarning: Maximum Likelihood optimization failed to converge. Check mle_retvals\n",
      "  ConvergenceWarning)\n"
     ]
    },
    {
     "name": "stdout",
     "output_type": "stream",
     "text": [
      "Predict Finish, 27.5823 27.39 0.9643 0.0348 Evaluation Finish\n",
      "71: Data Load Finish, Predict Finish, 31.0485 30.8675 1.1166 -0.0865 Evaluation Finish\n",
      "72: Data Load Finish, Predict Finish, 34.041 33.8589 1.2241 -0.1913 Evaluation Finish\n",
      "73: Data Load Finish, Predict Finish, 28.6799 28.4617 1.0314 -0.0037 Evaluation Finish\n",
      "74: Data Load Finish, Predict Finish, 29.2689 29.0905 1.0531 -0.0243 Evaluation Finish\n",
      "75: Data Load Finish, Predict Finish, 17.3822 17.0429 0.6232 0.3917 Evaluation Finish\n",
      "76: Data Load Finish, Predict Finish, 10.5169 9.9709 0.3705 0.632 Evaluation Finish\n",
      "77: Data Load Finish, Predict Finish, 3.7743 3.5605 0.1229 0.8679 Evaluation Finish\n",
      "78: Data Load Finish, Predict Finish, 3.3497 2.8165 0.1049 0.8828 Evaluation Finish\n",
      "79: Data Load Finish, Predict Finish, 4.5409 4.1033 0.1383 0.8411 Evaluation Finish\n",
      "80: Data Load Finish, Predict Finish, 3.2179 2.7648 0.1045 0.8874 Evaluation Finish\n",
      "81: Data Load Finish, Predict Finish, 12.5889 12.163 0.4204 0.5595 Evaluation Finish\n",
      "82: Data Load Finish, Predict Finish, 10.1494 9.5854 0.3567 0.6448 Evaluation Finish\n",
      "83: Data Load Finish, "
     ]
    },
    {
     "name": "stderr",
     "output_type": "stream",
     "text": [
      "C:\\Users\\vfgtr554\\anaconda3\\envs\\cctv\\lib\\site-packages\\pandas\\core\\arraylike.py:364: RuntimeWarning: divide by zero encountered in log\n",
      "  result = getattr(ufunc, method)(*inputs, **kwargs)\n",
      "C:\\Users\\vfgtr554\\anaconda3\\envs\\cctv\\lib\\site-packages\\statsmodels\\base\\model.py:606: ConvergenceWarning: Maximum Likelihood optimization failed to converge. Check mle_retvals\n",
      "  ConvergenceWarning)\n"
     ]
    },
    {
     "name": "stdout",
     "output_type": "stream",
     "text": [
      "Predict Finish, 27.5823 27.39 0.9643 0.0348 Evaluation Finish\n",
      "84: Data Load Finish, Predict Finish, 14.7348 14.3411 0.5267 0.4844 Evaluation Finish\n",
      "85: Data Load Finish, Predict Finish, 20.1015 19.821 0.7223 0.2966 Evaluation Finish\n",
      "86: Data Load Finish, Predict Finish, 11.4746 10.8498 0.4025 0.5984 Evaluation Finish\n",
      "87: Data Load Finish, "
     ]
    },
    {
     "name": "stderr",
     "output_type": "stream",
     "text": [
      "C:\\Users\\vfgtr554\\anaconda3\\envs\\cctv\\lib\\site-packages\\pandas\\core\\arraylike.py:364: RuntimeWarning: divide by zero encountered in log\n",
      "  result = getattr(ufunc, method)(*inputs, **kwargs)\n",
      "C:\\Users\\vfgtr554\\anaconda3\\envs\\cctv\\lib\\site-packages\\statsmodels\\base\\model.py:606: ConvergenceWarning: Maximum Likelihood optimization failed to converge. Check mle_retvals\n",
      "  ConvergenceWarning)\n"
     ]
    },
    {
     "name": "stdout",
     "output_type": "stream",
     "text": [
      "Predict Finish, 27.5823 27.39 0.9643 0.0348 Evaluation Finish\n",
      "88: Data Load Finish, Predict Finish, 3.9799 3.0951 0.1211 0.8607 Evaluation Finish\n",
      "89: Data Load Finish, Predict Finish, 3.2954 2.9395 0.1079 0.8847 Evaluation Finish\n",
      "90: Data Load Finish, Predict Finish, 9.8367 9.2708 0.3453 0.6558 Evaluation Finish\n",
      "91: Data Load Finish, Predict Finish, 10.2998 9.7723 0.3631 0.6396 Evaluation Finish\n",
      "92: Data Load Finish, Predict Finish, 3.6865 3.1265 0.1191 0.871 Evaluation Finish\n",
      "93: Data Load Finish, Predict Finish, 4.0627 3.7013 0.126 0.8578 Evaluation Finish\n",
      "94: Data Load Finish, Predict Finish, 3.5464 2.9414 0.1116 0.8759 Evaluation Finish\n",
      "95: Data Load Finish, Predict Finish, 4.9409 4.1449 0.1366 0.8271 Evaluation Finish\n",
      "96: Data Load Finish, Predict Finish, 4.9766 3.8167 0.15 0.8258 Evaluation Finish\n",
      "97: Data Load Finish, Predict Finish, 7.9949 7.1701 0.2709 0.7202 Evaluation Finish\n",
      "98: Data Load Finish, Predict Finish, 4.2581 3.6123 0.1222 0.851 Evaluation Finish\n",
      "99: Data Load Finish, Predict Finish, 3.6003 2.9252 0.1122 0.874 Evaluation Finish\n",
      "100: Data Load Finish, Predict Finish, 6.5113 5.6117 0.1866 0.7721 Evaluation Finish\n",
      "101: Data Load Finish, Predict Finish, 7.737 7.0317 0.2649 0.7292 Evaluation Finish\n",
      "102: Data Load Finish, Predict Finish, 11.1973 10.7103 0.3685 0.6082 Evaluation Finish\n",
      "103: Data Load Finish, Predict Finish, 3.3218 2.7021 0.1026 0.8838 Evaluation Finish\n",
      "104: Data Load Finish, Predict Finish, 3.3993 2.7757 0.1 0.881 Evaluation Finish\n",
      "105: Data Load Finish, Predict Finish, 4.6727 3.9275 0.1299 0.8365 Evaluation Finish\n",
      "106: Data Load Finish, "
     ]
    },
    {
     "name": "stderr",
     "output_type": "stream",
     "text": [
      "C:\\Users\\vfgtr554\\anaconda3\\envs\\cctv\\lib\\site-packages\\pandas\\core\\arraylike.py:364: RuntimeWarning: divide by zero encountered in log\n",
      "  result = getattr(ufunc, method)(*inputs, **kwargs)\n",
      "C:\\Users\\vfgtr554\\anaconda3\\envs\\cctv\\lib\\site-packages\\statsmodels\\base\\model.py:606: ConvergenceWarning: Maximum Likelihood optimization failed to converge. Check mle_retvals\n",
      "  ConvergenceWarning)\n"
     ]
    },
    {
     "name": "stdout",
     "output_type": "stream",
     "text": [
      "Predict Finish, 27.5823 27.39 0.9643 0.0348 Evaluation Finish\n",
      "107: Data Load Finish, Predict Finish, 6.139 5.1535 0.198 0.7852 Evaluation Finish\n",
      "108: Data Load Finish, Predict Finish, 7.4361 6.7028 0.2255 0.7398 Evaluation Finish\n",
      "109: Data Load Finish, Predict Finish, 6.9939 6.1819 0.2067 0.7553 Evaluation Finish\n",
      "110: Data Load Finish, Predict Finish, 3.675 3.4943 0.1214 0.8714 Evaluation Finish\n",
      "111: Data Load Finish, Predict Finish, 3.6641 3.0513 0.1099 0.8718 Evaluation Finish\n",
      "112: Data Load Finish, Predict Finish, 3.744 3.5608 0.1232 0.869 Evaluation Finish\n",
      "113: Data Load Finish, Predict Finish, 5.5227 4.4482 0.1448 0.8067 Evaluation Finish\n",
      "114: Data Load Finish, Predict Finish, 3.4378 3.1933 0.1136 0.8797 Evaluation Finish\n",
      "115: Data Load Finish, Predict Finish, 4.0643 3.7109 0.1263 0.8578 Evaluation Finish\n",
      "116: Data Load Finish, Predict Finish, 6.0919 5.0459 0.1946 0.7868 Evaluation Finish\n",
      "117: Data Load Finish, Predict Finish, 15.8856 15.4936 0.568 0.4441 Evaluation Finish\n",
      "118: Data Load Finish, "
     ]
    },
    {
     "name": "stderr",
     "output_type": "stream",
     "text": [
      "C:\\Users\\vfgtr554\\anaconda3\\envs\\cctv\\lib\\site-packages\\pandas\\core\\arraylike.py:364: RuntimeWarning: divide by zero encountered in log\n",
      "  result = getattr(ufunc, method)(*inputs, **kwargs)\n",
      "C:\\Users\\vfgtr554\\anaconda3\\envs\\cctv\\lib\\site-packages\\statsmodels\\base\\model.py:606: ConvergenceWarning: Maximum Likelihood optimization failed to converge. Check mle_retvals\n",
      "  ConvergenceWarning)\n"
     ]
    },
    {
     "name": "stdout",
     "output_type": "stream",
     "text": [
      "Predict Finish, 27.5823 27.39 0.9643 0.0348 Evaluation Finish\n",
      "119: Data Load Finish, Predict Finish, 6.2572 5.3058 0.2037 0.781 Evaluation Finish\n",
      "120: Data Load Finish, Predict Finish, 4.0137 3.6761 0.1253 0.8595 Evaluation Finish\n",
      "121: Data Load Finish, Predict Finish, 5.7269 4.6734 0.1527 0.7996 Evaluation Finish\n",
      "122: Data Load Finish, "
     ]
    },
    {
     "name": "stderr",
     "output_type": "stream",
     "text": [
      "C:\\Users\\vfgtr554\\anaconda3\\envs\\cctv\\lib\\site-packages\\pandas\\core\\arraylike.py:364: RuntimeWarning: divide by zero encountered in log\n",
      "  result = getattr(ufunc, method)(*inputs, **kwargs)\n",
      "C:\\Users\\vfgtr554\\anaconda3\\envs\\cctv\\lib\\site-packages\\statsmodels\\base\\model.py:606: ConvergenceWarning: Maximum Likelihood optimization failed to converge. Check mle_retvals\n",
      "  ConvergenceWarning)\n"
     ]
    },
    {
     "name": "stdout",
     "output_type": "stream",
     "text": [
      "Predict Finish, 27.5823 27.39 0.9643 0.0348 Evaluation Finish\n",
      "123: Data Load Finish, Predict Finish, 6.4879 5.6024 0.186 0.773 Evaluation Finish\n",
      "124: Data Load Finish, Predict Finish, 9.4443 8.8444 0.3017 0.6695 Evaluation Finish\n",
      "125: Data Load Finish, "
     ]
    },
    {
     "name": "stderr",
     "output_type": "stream",
     "text": [
      "C:\\Users\\vfgtr554\\anaconda3\\envs\\cctv\\lib\\site-packages\\pandas\\core\\arraylike.py:364: RuntimeWarning: divide by zero encountered in log\n",
      "  result = getattr(ufunc, method)(*inputs, **kwargs)\n",
      "C:\\Users\\vfgtr554\\anaconda3\\envs\\cctv\\lib\\site-packages\\statsmodels\\base\\model.py:606: ConvergenceWarning: Maximum Likelihood optimization failed to converge. Check mle_retvals\n",
      "  ConvergenceWarning)\n"
     ]
    },
    {
     "name": "stdout",
     "output_type": "stream",
     "text": [
      "Predict Finish, 27.5823 27.39 0.9643 0.0348 Evaluation Finish\n",
      "126: Data Load Finish, Predict Finish, 7.2558 6.5089 0.2186 0.7461 Evaluation Finish\n",
      "127: Data Load Finish, Predict Finish, 7.7303 7.0281 0.2371 0.7295 Evaluation Finish\n",
      "128: Data Load Finish, Predict Finish, 8.368 7.729 0.2622 0.7072 Evaluation Finish\n",
      "129: Data Load Finish, Predict Finish, 4.1823 3.8015 0.1287 0.8536 Evaluation Finish\n",
      "130: Data Load Finish, Predict Finish, 3.2682 3.1303 0.1131 0.8856 Evaluation Finish\n",
      "131: Data Load Finish, Predict Finish, 3.4528 3.2626 0.1155 0.8792 Evaluation Finish\n",
      "132: Data Load Finish, "
     ]
    },
    {
     "name": "stderr",
     "output_type": "stream",
     "text": [
      "C:\\Users\\vfgtr554\\anaconda3\\envs\\cctv\\lib\\site-packages\\pandas\\core\\arraylike.py:364: RuntimeWarning: divide by zero encountered in log\n",
      "  result = getattr(ufunc, method)(*inputs, **kwargs)\n",
      "C:\\Users\\vfgtr554\\anaconda3\\envs\\cctv\\lib\\site-packages\\statsmodels\\base\\model.py:606: ConvergenceWarning: Maximum Likelihood optimization failed to converge. Check mle_retvals\n",
      "  ConvergenceWarning)\n",
      "C:\\Users\\vfgtr554\\anaconda3\\envs\\cctv\\lib\\site-packages\\pandas\\core\\arraylike.py:364: RuntimeWarning: divide by zero encountered in log\n",
      "  result = getattr(ufunc, method)(*inputs, **kwargs)\n"
     ]
    },
    {
     "name": "stdout",
     "output_type": "stream",
     "text": [
      "Predict Finish, 27.5823 27.39 0.9643 0.0348 Evaluation Finish\n",
      "133: Data Load Finish, "
     ]
    },
    {
     "name": "stderr",
     "output_type": "stream",
     "text": [
      "C:\\Users\\vfgtr554\\anaconda3\\envs\\cctv\\lib\\site-packages\\statsmodels\\base\\model.py:606: ConvergenceWarning: Maximum Likelihood optimization failed to converge. Check mle_retvals\n",
      "  ConvergenceWarning)\n"
     ]
    },
    {
     "name": "stdout",
     "output_type": "stream",
     "text": [
      "Predict Finish, 27.5823 27.39 0.9643 0.0348 Evaluation Finish\n",
      "134: Data Load Finish, Predict Finish, 10.676 10.1797 0.3497 0.6264 Evaluation Finish\n",
      "135: Data Load Finish, Predict Finish, 8.0861 7.3954 0.25 0.717 Evaluation Finish\n",
      "136: Data Load Finish, Predict Finish, 5.9649 4.9846 0.1639 0.7913 Evaluation Finish\n",
      "137: Data Load Finish, Predict Finish, 8.7039 8.1064 0.2759 0.6954 Evaluation Finish\n",
      "138: Data Load Finish, "
     ]
    },
    {
     "name": "stderr",
     "output_type": "stream",
     "text": [
      "C:\\Users\\vfgtr554\\anaconda3\\envs\\cctv\\lib\\site-packages\\pandas\\core\\arraylike.py:364: RuntimeWarning: divide by zero encountered in log\n",
      "  result = getattr(ufunc, method)(*inputs, **kwargs)\n",
      "C:\\Users\\vfgtr554\\anaconda3\\envs\\cctv\\lib\\site-packages\\statsmodels\\base\\model.py:606: ConvergenceWarning: Maximum Likelihood optimization failed to converge. Check mle_retvals\n",
      "  ConvergenceWarning)\n",
      "C:\\Users\\vfgtr554\\anaconda3\\envs\\cctv\\lib\\site-packages\\pandas\\core\\arraylike.py:364: RuntimeWarning: divide by zero encountered in log\n",
      "  result = getattr(ufunc, method)(*inputs, **kwargs)\n"
     ]
    },
    {
     "name": "stdout",
     "output_type": "stream",
     "text": [
      "Predict Finish, 27.5823 27.39 0.9643 0.0348 Evaluation Finish\n",
      "139: Data Load Finish, Predict Finish, 5.8677 4.8878 0.1605 0.7947 Evaluation Finish\n",
      "140: Data Load Finish, "
     ]
    },
    {
     "name": "stderr",
     "output_type": "stream",
     "text": [
      "C:\\Users\\vfgtr554\\anaconda3\\envs\\cctv\\lib\\site-packages\\statsmodels\\base\\model.py:606: ConvergenceWarning: Maximum Likelihood optimization failed to converge. Check mle_retvals\n",
      "  ConvergenceWarning)\n"
     ]
    },
    {
     "name": "stdout",
     "output_type": "stream",
     "text": [
      "Predict Finish, 27.5823 27.39 0.9643 0.0348 Evaluation Finish\n",
      "141: Data Load Finish, Predict Finish, 6.8009 6.0156 0.2012 0.762 Evaluation Finish\n",
      "142: Data Load Finish, Predict Finish, 4.7123 3.9129 0.1511 0.8351 Evaluation Finish\n",
      "143: Data Load Finish, Predict Finish, 5.5484 4.4833 0.1461 0.8058 Evaluation Finish\n",
      "144: Data Load Finish, Predict Finish, 18.4208 18.1157 0.6614 0.3554 Evaluation Finish\n",
      "145: Data Load Finish, Predict Finish, 31.7326 31.5621 1.1415 -0.1105 Evaluation Finish\n",
      "146: Data Load Finish, Predict Finish, 4.4606 3.4433 0.1353 0.8439 Evaluation Finish\n",
      "147: Data Load Finish, Predict Finish, 4.8999 3.6904 0.1457 0.8285 Evaluation Finish\n",
      "148: Data Load Finish, Predict Finish, 7.0857 6.2458 0.2088 0.752 Evaluation Finish\n",
      "149: Data Load Finish, Predict Finish, 4.6052 3.8987 0.13 0.8388 Evaluation Finish\n",
      "150: Data Load Finish, Predict Finish, 7.6493 6.921 0.2332 0.7323 Evaluation Finish\n",
      "151: Data Load Finish, Predict Finish, 5.5972 4.5203 0.1473 0.8041 Evaluation Finish\n",
      "152: Data Load Finish, Predict Finish, 8.0138 7.3333 0.2482 0.7196 Evaluation Finish\n",
      "153: Data Load Finish, Predict Finish, 3.4895 3.0012 0.1119 0.8779 Evaluation Finish\n",
      "154: Data Load Finish, "
     ]
    },
    {
     "name": "stderr",
     "output_type": "stream",
     "text": [
      "C:\\Users\\vfgtr554\\anaconda3\\envs\\cctv\\lib\\site-packages\\pandas\\core\\arraylike.py:364: RuntimeWarning: divide by zero encountered in log\n",
      "  result = getattr(ufunc, method)(*inputs, **kwargs)\n",
      "C:\\Users\\vfgtr554\\anaconda3\\envs\\cctv\\lib\\site-packages\\statsmodels\\base\\model.py:606: ConvergenceWarning: Maximum Likelihood optimization failed to converge. Check mle_retvals\n",
      "  ConvergenceWarning)\n"
     ]
    },
    {
     "name": "stdout",
     "output_type": "stream",
     "text": [
      "Predict Finish, 27.5823 27.39 0.9643 0.0348 Evaluation Finish\n",
      "155: Data Load Finish, Predict Finish, 3.3806 3.1119 0.1111 0.8817 Evaluation Finish\n",
      "156: Data Load Finish, Predict Finish, 5.4247 4.4494 0.1455 0.8102 Evaluation Finish\n",
      "157: Data Load Finish, Predict Finish, 6.8497 6.0321 0.2014 0.7603 Evaluation Finish\n",
      "158: Data Load Finish, Predict Finish, 7.6298 6.8871 0.2319 0.733 Evaluation Finish\n",
      "159: Data Load Finish, Predict Finish, 7.3917 6.4671 0.2167 0.7413 Evaluation Finish\n",
      "160: Data Load Finish, Predict Finish, 4.4392 3.8341 0.1284 0.8447 Evaluation Finish\n",
      "161: Data Load Finish, Predict Finish, 5.5424 4.4802 0.1459 0.806 Evaluation Finish\n",
      "162: Data Load Finish, Predict Finish, 8.2341 7.5251 0.2545 0.7118 Evaluation Finish\n",
      "163: Data Load Finish, Predict Finish, 5.4136 4.4393 0.1452 0.8106 Evaluation Finish\n",
      "164: Data Load Finish, Predict Finish, 4.2899 3.8723 0.1306 0.8499 Evaluation Finish\n",
      "165: Data Load Finish, Predict Finish, 3.9437 3.13 0.1218 0.862 Evaluation Finish\n",
      "166: Data Load Finish, Predict Finish, 14.5147 14.1208 0.5188 0.4921 Evaluation Finish\n",
      "167: Data Load Finish, Predict Finish, 14.3389 13.9457 0.5124 0.4982 Evaluation Finish\n",
      "168: Data Load Finish, Predict Finish, 27.3571 27.1495 0.9841 0.0426 Evaluation Finish\n",
      "169: Data Load Finish, "
     ]
    },
    {
     "name": "stderr",
     "output_type": "stream",
     "text": [
      "C:\\Users\\vfgtr554\\anaconda3\\envs\\cctv\\lib\\site-packages\\statsmodels\\base\\model.py:606: ConvergenceWarning: Maximum Likelihood optimization failed to converge. Check mle_retvals\n",
      "  ConvergenceWarning)\n"
     ]
    },
    {
     "name": "stdout",
     "output_type": "stream",
     "text": [
      "Predict Finish, 15.8095 15.4315 0.5658 0.4467 Evaluation Finish\n",
      "170: Data Load Finish, Predict Finish, 6.2121 5.294 0.175 0.7826 Evaluation Finish\n",
      "171: Data Load Finish, Predict Finish, 7.5918 6.8006 0.2573 0.7343 Evaluation Finish\n",
      "172: Data Load Finish, Predict Finish, 3.4426 3.0314 0.1097 0.8795 Evaluation Finish\n",
      "173: Data Load Finish, Predict Finish, 3.3502 2.8186 0.1047 0.8828 Evaluation Finish\n",
      "174: Data Load Finish, Predict Finish, 3.4674 2.879 0.1094 0.8787 Evaluation Finish\n",
      "175: Data Load Finish, Predict Finish, 8.7972 8.087 0.3022 0.6921 Evaluation Finish\n",
      "176: Data Load Finish, Predict Finish, 9.704 9.1599 0.3133 0.6604 Evaluation Finish\n",
      "177: Data Load Finish, Predict Finish, 18.2238 17.9074 0.6539 0.3623 Evaluation Finish\n",
      "178: Data Load Finish, Predict Finish, 3.5017 3.2639 0.1154 0.8775 Evaluation Finish\n",
      "179: Data Load Finish, Predict Finish, 3.5261 2.8202 0.1083 0.8766 Evaluation Finish\n",
      "180: Data Load Finish, Predict Finish, 18.144 17.8119 0.6506 0.3651 Evaluation Finish\n",
      "181: Data Load Finish, Predict Finish, 7.2176 6.4022 0.2146 0.7474 Evaluation Finish\n",
      "182: Data Load Finish, Predict Finish, 4.9423 4.1015 0.135 0.827 Evaluation Finish\n",
      "183: Data Load Finish, Predict Finish, 5.5105 4.4466 0.1448 0.8072 Evaluation Finish\n",
      "184: Data Load Finish, Predict Finish, 4.0616 3.6609 0.1243 0.8579 Evaluation Finish\n",
      "185: Data Load Finish, Predict Finish, 3.8257 3.2805 0.1137 0.8661 Evaluation Finish\n",
      "186: Data Load Finish, Predict Finish, 5.2188 4.1231 0.1344 0.8174 Evaluation Finish\n",
      "187: Data Load Finish, "
     ]
    },
    {
     "name": "stderr",
     "output_type": "stream",
     "text": [
      "C:\\Users\\vfgtr554\\anaconda3\\envs\\cctv\\lib\\site-packages\\pandas\\core\\arraylike.py:364: RuntimeWarning: divide by zero encountered in log\n",
      "  result = getattr(ufunc, method)(*inputs, **kwargs)\n",
      "C:\\Users\\vfgtr554\\anaconda3\\envs\\cctv\\lib\\site-packages\\statsmodels\\base\\model.py:606: ConvergenceWarning: Maximum Likelihood optimization failed to converge. Check mle_retvals\n",
      "  ConvergenceWarning)\n"
     ]
    },
    {
     "name": "stdout",
     "output_type": "stream",
     "text": [
      "Predict Finish, 27.5823 27.39 0.9643 0.0348 Evaluation Finish\n",
      "188: Data Load Finish, Predict Finish, 3.3606 3.1436 0.1122 0.8824 Evaluation Finish\n",
      "189: Data Load Finish, Predict Finish, 3.8296 3.5021 0.1305 0.866 Evaluation Finish\n",
      "190: Data Load Finish, Predict Finish, 6.5451 5.6894 0.1892 0.771 Evaluation Finish\n",
      "191: Data Load Finish, Predict Finish, 3.6566 3.1213 0.118 0.872 Evaluation Finish\n",
      "192: Data Load Finish, Predict Finish, 6.063 5.0577 0.1664 0.7878 Evaluation Finish\n",
      "193: Data Load Finish, Predict Finish, 14.4799 14.1115 0.49 0.4933 Evaluation Finish\n",
      "194: Data Load Finish, Predict Finish, 4.1705 3.7172 0.126 0.8541 Evaluation Finish\n",
      "195: Data Load Finish, Predict Finish, 3.9701 3.6602 0.1252 0.8611 Evaluation Finish\n",
      "196: Data Load Finish, "
     ]
    },
    {
     "name": "stderr",
     "output_type": "stream",
     "text": [
      "C:\\Users\\vfgtr554\\anaconda3\\envs\\cctv\\lib\\site-packages\\pandas\\core\\arraylike.py:364: RuntimeWarning: divide by zero encountered in log\n",
      "  result = getattr(ufunc, method)(*inputs, **kwargs)\n",
      "C:\\Users\\vfgtr554\\anaconda3\\envs\\cctv\\lib\\site-packages\\statsmodels\\base\\model.py:606: ConvergenceWarning: Maximum Likelihood optimization failed to converge. Check mle_retvals\n",
      "  ConvergenceWarning)\n"
     ]
    },
    {
     "name": "stdout",
     "output_type": "stream",
     "text": [
      "Predict Finish, 27.5823 27.39 0.9643 0.0348 Evaluation Finish\n",
      "197: Data Load Finish, Predict Finish, 4.6439 4.0242 0.1339 0.8375 Evaluation Finish\n",
      "198: Data Load Finish, Predict Finish, 6.4149 5.5823 0.1858 0.7755 Evaluation Finish\n",
      "199: Data Load Finish, Predict Finish, 9.2142 8.6462 0.295 0.6775 Evaluation Finish\n",
      "200: Data Load Finish, Predict Finish, 3.6508 3.4467 0.1199 0.8722 Evaluation Finish\n",
      "201: Data Load Finish, Predict Finish, 6.9948 6.2109 0.2079 0.7552 Evaluation Finish\n",
      "202: Data Load Finish, "
     ]
    },
    {
     "name": "stderr",
     "output_type": "stream",
     "text": [
      "C:\\Users\\vfgtr554\\anaconda3\\envs\\cctv\\lib\\site-packages\\statsmodels\\base\\model.py:606: ConvergenceWarning: Maximum Likelihood optimization failed to converge. Check mle_retvals\n",
      "  ConvergenceWarning)\n"
     ]
    },
    {
     "name": "stdout",
     "output_type": "stream",
     "text": [
      "Predict Finish, 5.7085 4.7383 0.1555 0.8002 Evaluation Finish\n",
      "203: Data Load Finish, Predict Finish, 10.7845 10.2732 0.3528 0.6226 Evaluation Finish\n",
      "204: Data Load Finish, Predict Finish, 5.0883 4.057 0.1324 0.8219 Evaluation Finish\n",
      "205: "
     ]
    },
    {
     "name": "stderr",
     "output_type": "stream",
     "text": [
      "C:\\Users\\vfgtr554\\anaconda3\\envs\\cctv\\lib\\site-packages\\pandas\\core\\arraylike.py:364: RuntimeWarning: divide by zero encountered in log\n",
      "  result = getattr(ufunc, method)(*inputs, **kwargs)\n"
     ]
    },
    {
     "name": "stdout",
     "output_type": "stream",
     "text": [
      "Data Load Finish, "
     ]
    },
    {
     "name": "stderr",
     "output_type": "stream",
     "text": [
      "C:\\Users\\vfgtr554\\anaconda3\\envs\\cctv\\lib\\site-packages\\statsmodels\\base\\model.py:606: ConvergenceWarning: Maximum Likelihood optimization failed to converge. Check mle_retvals\n",
      "  ConvergenceWarning)\n"
     ]
    },
    {
     "name": "stdout",
     "output_type": "stream",
     "text": [
      "Predict Finish, 27.5823 27.39 0.9643 0.0348 Evaluation Finish\n",
      "206: Data Load Finish, Predict Finish, 9.2515 8.5609 0.2913 0.6762 Evaluation Finish\n",
      "207: Data Load Finish, Predict Finish, 5.7427 4.6923 0.1537 0.799 Evaluation Finish\n",
      "208: Data Load Finish, Predict Finish, 11.899 11.451 0.395 0.5836 Evaluation Finish\n",
      "209: Data Load Finish, Predict Finish, 4.7849 3.5314 0.1401 0.8326 Evaluation Finish\n",
      "210: Data Load Finish, Predict Finish, 3.3532 2.7721 0.1038 0.8827 Evaluation Finish\n",
      "211: Data Load Finish, Predict Finish, 7.8018 7.0054 0.2648 0.727 Evaluation Finish\n",
      "212: Data Load Finish, Predict Finish, 3.4039 2.687 0.1019 0.8809 Evaluation Finish\n",
      "213: Data Load Finish, Predict Finish, 16.7133 16.3163 0.5975 0.4151 Evaluation Finish\n",
      "214: Data Load Finish, Predict Finish, 13.5307 13.142 0.4555 0.5265 Evaluation Finish\n",
      "215: Data Load Finish, Predict Finish, 7.8496 7.1481 0.2413 0.7253 Evaluation Finish\n",
      "216: Data Load Finish, Predict Finish, 3.821 3.6014 0.124 0.8663 Evaluation Finish\n",
      "217: Data Load Finish, "
     ]
    },
    {
     "name": "stderr",
     "output_type": "stream",
     "text": [
      "C:\\Users\\vfgtr554\\anaconda3\\envs\\cctv\\lib\\site-packages\\pandas\\core\\arraylike.py:364: RuntimeWarning: divide by zero encountered in log\n",
      "  result = getattr(ufunc, method)(*inputs, **kwargs)\n",
      "C:\\Users\\vfgtr554\\anaconda3\\envs\\cctv\\lib\\site-packages\\statsmodels\\base\\model.py:606: ConvergenceWarning: Maximum Likelihood optimization failed to converge. Check mle_retvals\n",
      "  ConvergenceWarning)\n"
     ]
    },
    {
     "name": "stdout",
     "output_type": "stream",
     "text": [
      "Predict Finish, 27.5823 27.39 0.9643 0.0348 Evaluation Finish\n",
      "218: Data Load Finish, Predict Finish, 3.8962 3.5908 0.1233 0.8637 Evaluation Finish\n",
      "219: Data Load Finish, Predict Finish, 6.5181 5.623 0.215 0.7719 Evaluation Finish\n",
      "220: Data Load Finish, Predict Finish, 11.298 10.6859 0.3966 0.6046 Evaluation Finish\n",
      "221: Data Load Finish, "
     ]
    },
    {
     "name": "stderr",
     "output_type": "stream",
     "text": [
      "C:\\Users\\vfgtr554\\anaconda3\\envs\\cctv\\lib\\site-packages\\statsmodels\\base\\model.py:606: ConvergenceWarning: Maximum Likelihood optimization failed to converge. Check mle_retvals\n",
      "  ConvergenceWarning)\n"
     ]
    },
    {
     "name": "stdout",
     "output_type": "stream",
     "text": [
      "Predict Finish, 3.1934 3.0489 0.1116 0.8882 Evaluation Finish\n",
      "222: Data Load Finish, Predict Finish, 4.9189 4.1804 0.1382 0.8279 Evaluation Finish\n",
      "223: Data Load Finish, Predict Finish, 3.5563 3.0033 0.1133 0.8755 Evaluation Finish\n",
      "224: Data Load Finish, "
     ]
    },
    {
     "name": "stderr",
     "output_type": "stream",
     "text": [
      "C:\\Users\\vfgtr554\\anaconda3\\envs\\cctv\\lib\\site-packages\\pandas\\core\\arraylike.py:364: RuntimeWarning: divide by zero encountered in log\n",
      "  result = getattr(ufunc, method)(*inputs, **kwargs)\n",
      "C:\\Users\\vfgtr554\\anaconda3\\envs\\cctv\\lib\\site-packages\\statsmodels\\base\\model.py:606: ConvergenceWarning: Maximum Likelihood optimization failed to converge. Check mle_retvals\n",
      "  ConvergenceWarning)\n"
     ]
    },
    {
     "name": "stdout",
     "output_type": "stream",
     "text": [
      "Predict Finish, 27.5823 27.39 0.9643 0.0348 Evaluation Finish\n",
      "225: Data Load Finish, Predict Finish, 3.3468 3.0626 0.1108 0.8829 Evaluation Finish\n",
      "226: Data Load Finish, Predict Finish, 6.2287 5.6084 0.2103 0.782 Evaluation Finish\n",
      "227: Data Load Finish, Predict Finish, 6.0464 5.1146 0.1687 0.7884 Evaluation Finish\n",
      "228: Data Load Finish, Predict Finish, 5.7267 4.693 0.1535 0.7996 Evaluation Finish\n",
      "229: Data Load Finish, Predict Finish, 13.4071 13.0067 0.4786 0.5308 Evaluation Finish\n",
      "230: Data Load Finish, Predict Finish, 3.8569 3.2338 0.1102 0.865 Evaluation Finish\n",
      "231: Data Load Finish, Predict Finish, 3.4254 2.8779 0.1022 0.8801 Evaluation Finish\n",
      "232: Data Load Finish, Predict Finish, 4.2258 3.2401 0.1119 0.8521 Evaluation Finish\n",
      "233: Data Load Finish, Predict Finish, 4.7486 4.1898 0.14 0.8338 Evaluation Finish\n",
      "234: Data Load Finish, Predict Finish, 3.5629 3.1509 0.1148 0.8753 Evaluation Finish\n",
      "235: Data Load Finish, Predict Finish, 14.8673 14.5123 0.5323 0.4797 Evaluation Finish\n",
      "236: Data Load Finish, Predict Finish, 4.4199 3.742 0.1252 0.8453 Evaluation Finish\n",
      "237: Data Load Finish, Predict Finish, 5.1409 4.0714 0.1326 0.8201 Evaluation Finish\n",
      "238: Data Load Finish, Predict Finish, 5.6678 4.5956 0.15 0.8017 Evaluation Finish\n",
      "239: Data Load Finish, Predict Finish, 4.49 3.9499 0.1321 0.8429 Evaluation Finish\n",
      "240: Data Load Finish, Predict Finish, 4.0365 3.5585 0.1349 0.8587 Evaluation Finish\n",
      "241: Data Load Finish, Predict Finish, 4.577 3.9995 0.1334 0.8398 Evaluation Finish\n",
      "242: Data Load Finish, Predict Finish, 6.2354 5.333 0.1765 0.7818 Evaluation Finish\n",
      "243: Data Load Finish, Predict Finish, 26.2757 26.0286 0.9445 0.0805 Evaluation Finish\n",
      "244: Data Load Finish, Predict Finish, 10.1053 9.5403 0.3268 0.6464 Evaluation Finish\n",
      "245: Data Load Finish, "
     ]
    },
    {
     "name": "stderr",
     "output_type": "stream",
     "text": [
      "C:\\Users\\vfgtr554\\anaconda3\\envs\\cctv\\lib\\site-packages\\pandas\\core\\arraylike.py:364: RuntimeWarning: divide by zero encountered in log\n",
      "  result = getattr(ufunc, method)(*inputs, **kwargs)\n",
      "C:\\Users\\vfgtr554\\anaconda3\\envs\\cctv\\lib\\site-packages\\statsmodels\\base\\model.py:606: ConvergenceWarning: Maximum Likelihood optimization failed to converge. Check mle_retvals\n",
      "  ConvergenceWarning)\n"
     ]
    },
    {
     "name": "stdout",
     "output_type": "stream",
     "text": [
      "Predict Finish, 27.5823 27.39 0.9643 0.0348 Evaluation Finish\n",
      "246: Data Load Finish, Predict Finish, 14.4062 14.0421 0.4876 0.4959 Evaluation Finish\n",
      "247: Data Load Finish, "
     ]
    },
    {
     "name": "stderr",
     "output_type": "stream",
     "text": [
      "C:\\Users\\vfgtr554\\anaconda3\\envs\\cctv\\lib\\site-packages\\pandas\\core\\arraylike.py:364: RuntimeWarning: divide by zero encountered in log\n",
      "  result = getattr(ufunc, method)(*inputs, **kwargs)\n",
      "C:\\Users\\vfgtr554\\anaconda3\\envs\\cctv\\lib\\site-packages\\statsmodels\\base\\model.py:606: ConvergenceWarning: Maximum Likelihood optimization failed to converge. Check mle_retvals\n",
      "  ConvergenceWarning)\n",
      "C:\\Users\\vfgtr554\\anaconda3\\envs\\cctv\\lib\\site-packages\\pandas\\core\\arraylike.py:364: RuntimeWarning: divide by zero encountered in log\n",
      "  result = getattr(ufunc, method)(*inputs, **kwargs)\n"
     ]
    },
    {
     "name": "stdout",
     "output_type": "stream",
     "text": [
      "Predict Finish, 27.5823 27.39 0.9643 0.0348 Evaluation Finish\n",
      "248: Data Load Finish, "
     ]
    },
    {
     "name": "stderr",
     "output_type": "stream",
     "text": [
      "C:\\Users\\vfgtr554\\anaconda3\\envs\\cctv\\lib\\site-packages\\statsmodels\\base\\model.py:606: ConvergenceWarning: Maximum Likelihood optimization failed to converge. Check mle_retvals\n",
      "  ConvergenceWarning)\n"
     ]
    },
    {
     "name": "stdout",
     "output_type": "stream",
     "text": [
      "Predict Finish, 27.5823 27.39 0.9643 0.0348 Evaluation Finish\n",
      "249: Data Load Finish, Predict Finish, 10.4536 9.938 0.3409 0.6342 Evaluation Finish\n",
      "250: Data Load Finish, Predict Finish, 10.9314 10.4425 0.3591 0.6175 Evaluation Finish\n",
      "251: Data Load Finish, "
     ]
    },
    {
     "name": "stderr",
     "output_type": "stream",
     "text": [
      "C:\\Users\\vfgtr554\\anaconda3\\envs\\cctv\\lib\\site-packages\\pandas\\core\\arraylike.py:364: RuntimeWarning: divide by zero encountered in log\n",
      "  result = getattr(ufunc, method)(*inputs, **kwargs)\n",
      "C:\\Users\\vfgtr554\\anaconda3\\envs\\cctv\\lib\\site-packages\\statsmodels\\base\\model.py:606: ConvergenceWarning: Maximum Likelihood optimization failed to converge. Check mle_retvals\n",
      "  ConvergenceWarning)\n"
     ]
    },
    {
     "name": "stdout",
     "output_type": "stream",
     "text": [
      "Predict Finish, 27.5823 27.39 0.9643 0.0348 Evaluation Finish\n",
      "252: Data Load Finish, Predict Finish, 3.3318 3.2514 0.1173 0.8834 Evaluation Finish\n",
      "253: Data Load Finish, Predict Finish, 7.4383 6.6354 0.2229 0.7397 Evaluation Finish\n",
      "254: Data Load Finish, Predict Finish, 5.0865 3.9283 0.1541 0.822 Evaluation Finish\n",
      "255: Data Load Finish, Predict Finish, 7.3021 6.4428 0.2157 0.7445 Evaluation Finish\n",
      "256: Data Load Finish, Predict Finish, 6.004 4.9913 0.164 0.7899 Evaluation Finish\n",
      "257: Data Load Finish, Predict Finish, 5.9818 5.0144 0.1932 0.7907 Evaluation Finish\n",
      "258: Data Load Finish, Predict Finish, 6.8628 6.02 0.2008 0.7598 Evaluation Finish\n",
      "259: Data Load Finish, Predict Finish, 3.3438 2.7275 0.1055 0.883 Evaluation Finish\n",
      "260: Data Load Finish, "
     ]
    },
    {
     "name": "stderr",
     "output_type": "stream",
     "text": [
      "C:\\Users\\vfgtr554\\anaconda3\\envs\\cctv\\lib\\site-packages\\pandas\\core\\arraylike.py:364: RuntimeWarning: divide by zero encountered in log\n",
      "  result = getattr(ufunc, method)(*inputs, **kwargs)\n",
      "C:\\Users\\vfgtr554\\anaconda3\\envs\\cctv\\lib\\site-packages\\statsmodels\\base\\model.py:606: ConvergenceWarning: Maximum Likelihood optimization failed to converge. Check mle_retvals\n",
      "  ConvergenceWarning)\n"
     ]
    },
    {
     "name": "stdout",
     "output_type": "stream",
     "text": [
      "Predict Finish, 27.5823 27.39 0.9643 0.0348 Evaluation Finish\n",
      "261: Data Load Finish, Predict Finish, 4.5886 3.585 0.1405 0.8394 Evaluation Finish\n",
      "262: Data Load Finish, Predict Finish, 4.2651 3.5495 0.137 0.8507 Evaluation Finish\n",
      "263: Data Load Finish, Predict Finish, 3.5304 3.0092 0.1112 0.8765 Evaluation Finish\n",
      "264: Data Load Finish, Predict Finish, 6.4005 5.5044 0.1826 0.776 Evaluation Finish\n",
      "265: Data Load Finish, Predict Finish, 5.8935 4.9019 0.161 0.7938 Evaluation Finish\n",
      "266: Data Load Finish, Predict Finish, 10.0995 9.5356 0.3266 0.6466 Evaluation Finish\n",
      "267: Data Load Finish, Predict Finish, 6.2908 5.4129 0.1795 0.7799 Evaluation Finish\n",
      "268: Data Load Finish, Predict Finish, 5.9008 4.9154 0.1615 0.7935 Evaluation Finish\n",
      "269: Data Load Finish, Predict Finish, 3.6211 3.0672 0.1161 0.8733 Evaluation Finish\n",
      "270: Data Load Finish, Predict Finish, 10.6678 10.0861 0.3457 0.6267 Evaluation Finish\n",
      "271: Data Load Finish, Predict Finish, 4.249 3.7982 0.1438 0.8513 Evaluation Finish\n",
      "272: Data Load Finish, Predict Finish, 4.597 3.9594 0.1515 0.8391 Evaluation Finish\n",
      "273: Data Load Finish, Predict Finish, 4.4559 3.9155 0.1311 0.8441 Evaluation Finish\n",
      "274: Data Load Finish, Predict Finish, 8.495 7.8046 0.2645 0.7027 Evaluation Finish\n",
      "275: Data Load Finish, Predict Finish, 8.0884 7.3822 0.2495 0.7169 Evaluation Finish\n",
      "276: Data Load Finish, "
     ]
    },
    {
     "name": "stderr",
     "output_type": "stream",
     "text": [
      "C:\\Users\\vfgtr554\\anaconda3\\envs\\cctv\\lib\\site-packages\\pandas\\core\\arraylike.py:364: RuntimeWarning: divide by zero encountered in log\n",
      "  result = getattr(ufunc, method)(*inputs, **kwargs)\n",
      "C:\\Users\\vfgtr554\\anaconda3\\envs\\cctv\\lib\\site-packages\\statsmodels\\base\\model.py:606: ConvergenceWarning: Maximum Likelihood optimization failed to converge. Check mle_retvals\n",
      "  ConvergenceWarning)\n"
     ]
    },
    {
     "name": "stdout",
     "output_type": "stream",
     "text": [
      "Predict Finish, 27.5823 27.39 0.9643 0.0348 Evaluation Finish\n",
      "277: Data Load Finish, Predict Finish, 10.9576 10.4851 0.3609 0.6165 Evaluation Finish\n",
      "278: Data Load Finish, Predict Finish, 5.9675 5.0118 0.165 0.7912 Evaluation Finish\n",
      "279: Data Load Finish, Predict Finish, 5.8549 4.822 0.158 0.7951 Evaluation Finish\n",
      "280: Data Load Finish, Predict Finish, 5.2126 4.3018 0.1409 0.8176 Evaluation Finish\n",
      "281: Data Load Finish, Predict Finish, 5.1524 4.1944 0.1372 0.8197 Evaluation Finish\n",
      "282: Data Load Finish, Predict Finish, 3.7337 3.2438 0.1136 0.8693 Evaluation Finish\n",
      "283: Data Load Finish, Predict Finish, 4.2058 3.6798 0.1401 0.8528 Evaluation Finish\n",
      "284: Data Load Finish, Predict Finish, 5.0415 4.1845 0.1612 0.8236 Evaluation Finish\n",
      "285: Data Load Finish, Predict Finish, 8.0092 7.2437 0.2443 0.7197 Evaluation Finish\n",
      "286: Data Load Finish, Predict Finish, 3.5696 2.9179 0.1118 0.8751 Evaluation Finish\n",
      "287: "
     ]
    },
    {
     "name": "stderr",
     "output_type": "stream",
     "text": [
      "C:\\Users\\vfgtr554\\anaconda3\\envs\\cctv\\lib\\site-packages\\pandas\\core\\arraylike.py:364: RuntimeWarning: divide by zero encountered in log\n",
      "  result = getattr(ufunc, method)(*inputs, **kwargs)\n"
     ]
    },
    {
     "name": "stdout",
     "output_type": "stream",
     "text": [
      "Data Load Finish, "
     ]
    },
    {
     "name": "stderr",
     "output_type": "stream",
     "text": [
      "C:\\Users\\vfgtr554\\anaconda3\\envs\\cctv\\lib\\site-packages\\statsmodels\\base\\model.py:606: ConvergenceWarning: Maximum Likelihood optimization failed to converge. Check mle_retvals\n",
      "  ConvergenceWarning)\n"
     ]
    },
    {
     "name": "stdout",
     "output_type": "stream",
     "text": [
      "Predict Finish, 27.5823 27.39 0.9643 0.0348 Evaluation Finish\n",
      "288: Data Load Finish, Predict Finish, 4.0255 3.7185 0.1268 0.8591 Evaluation Finish\n",
      "289: Data Load Finish, Predict Finish, 9.1281 8.5279 0.2905 0.6806 Evaluation Finish\n",
      "290: Data Load Finish, "
     ]
    },
    {
     "name": "stderr",
     "output_type": "stream",
     "text": [
      "C:\\Users\\vfgtr554\\anaconda3\\envs\\cctv\\lib\\site-packages\\pandas\\core\\arraylike.py:364: RuntimeWarning: divide by zero encountered in log\n",
      "  result = getattr(ufunc, method)(*inputs, **kwargs)\n",
      "C:\\Users\\vfgtr554\\anaconda3\\envs\\cctv\\lib\\site-packages\\statsmodels\\base\\model.py:606: ConvergenceWarning: Maximum Likelihood optimization failed to converge. Check mle_retvals\n",
      "  ConvergenceWarning)\n"
     ]
    },
    {
     "name": "stdout",
     "output_type": "stream",
     "text": [
      "Predict Finish, 27.5823 27.39 0.9643 0.0348 Evaluation Finish\n",
      "291: Data Load Finish, "
     ]
    },
    {
     "name": "stderr",
     "output_type": "stream",
     "text": [
      "C:\\Users\\vfgtr554\\anaconda3\\envs\\cctv\\lib\\site-packages\\statsmodels\\base\\model.py:606: ConvergenceWarning: Maximum Likelihood optimization failed to converge. Check mle_retvals\n",
      "  ConvergenceWarning)\n"
     ]
    },
    {
     "name": "stdout",
     "output_type": "stream",
     "text": [
      "Predict Finish, 4.0473 3.8804 0.1423 0.8584 Evaluation Finish\n",
      "292: Data Load Finish, Predict Finish, 3.8663 3.2312 0.1145 0.8647 Evaluation Finish\n",
      "293: Data Load Finish, Predict Finish, 4.8877 4.0423 0.133 0.829 Evaluation Finish\n",
      "294: Data Load Finish, Predict Finish, 4.8754 3.9173 0.1286 0.8294 Evaluation Finish\n",
      "295: Data Load Finish, Predict Finish, 5.5328 4.4681 0.1455 0.8064 Evaluation Finish\n",
      "296: Data Load Finish, Predict Finish, 5.2924 4.3001 0.1403 0.8148 Evaluation Finish\n",
      "297: Data Load Finish, Predict Finish, 5.4973 4.4319 0.1442 0.8076 Evaluation Finish\n",
      "298: Data Load Finish, "
     ]
    },
    {
     "name": "stderr",
     "output_type": "stream",
     "text": [
      "C:\\Users\\vfgtr554\\anaconda3\\envs\\cctv\\lib\\site-packages\\pandas\\core\\arraylike.py:364: RuntimeWarning: divide by zero encountered in log\n",
      "  result = getattr(ufunc, method)(*inputs, **kwargs)\n",
      "C:\\Users\\vfgtr554\\anaconda3\\envs\\cctv\\lib\\site-packages\\statsmodels\\base\\model.py:606: ConvergenceWarning: Maximum Likelihood optimization failed to converge. Check mle_retvals\n",
      "  ConvergenceWarning)\n"
     ]
    },
    {
     "name": "stdout",
     "output_type": "stream",
     "text": [
      "Predict Finish, 27.5823 27.39 0.9643 0.0348 Evaluation Finish\n",
      "299: Data Load Finish, Predict Finish, 3.5622 2.8186 0.1089 0.8753 Evaluation Finish\n",
      "300: Data Load Finish, Predict Finish, 5.807 4.821 0.1862 0.7968 Evaluation Finish\n",
      "301: Data Load Finish, Predict Finish, 7.9806 7.2534 0.2448 0.7207 Evaluation Finish\n",
      "302: Data Load Finish, Predict Finish, 10.9298 10.4047 0.3573 0.6175 Evaluation Finish\n",
      "303: Data Load Finish, Predict Finish, 6.3017 5.3784 0.2063 0.7795 Evaluation Finish\n",
      "304: Data Load Finish, Predict Finish, 7.5518 6.8233 0.2297 0.7357 Evaluation Finish\n",
      "305: Data Load Finish, Predict Finish, 4.4038 3.9119 0.1313 0.8459 Evaluation Finish\n",
      "306: Data Load Finish, Predict Finish, 10.824 10.3269 0.3548 0.6212 Evaluation Finish\n",
      "307: Data Load Finish, Predict Finish, 7.8331 7.11 0.2397 0.7259 Evaluation Finish\n",
      "308: Data Load Finish, Predict Finish, 5.4014 4.4029 0.1437 0.811 Evaluation Finish\n",
      "309: Data Load Finish, Predict Finish, 3.7873 3.2714 0.1142 0.8675 Evaluation Finish\n",
      "310: Data Load Finish, "
     ]
    },
    {
     "name": "stderr",
     "output_type": "stream",
     "text": [
      "C:\\Users\\vfgtr554\\anaconda3\\envs\\cctv\\lib\\site-packages\\pandas\\core\\arraylike.py:364: RuntimeWarning: divide by zero encountered in log\n",
      "  result = getattr(ufunc, method)(*inputs, **kwargs)\n",
      "C:\\Users\\vfgtr554\\anaconda3\\envs\\cctv\\lib\\site-packages\\statsmodels\\base\\model.py:606: ConvergenceWarning: Maximum Likelihood optimization failed to converge. Check mle_retvals\n",
      "  ConvergenceWarning)\n"
     ]
    },
    {
     "name": "stdout",
     "output_type": "stream",
     "text": [
      "Predict Finish, 27.5823 27.39 0.9643 0.0348 Evaluation Finish\n",
      "311: Data Load Finish, Predict Finish, 3.707 3.4331 0.1191 0.8703 Evaluation Finish\n",
      "312: Data Load Finish, Predict Finish, 12.9117 12.4631 0.4594 0.5482 Evaluation Finish\n",
      "313: Data Load Finish, Predict Finish, 8.3798 7.6648 0.2594 0.7067 Evaluation Finish\n",
      "314: Data Load Finish, Predict Finish, 4.7377 4.0493 0.1343 0.8342 Evaluation Finish\n",
      "315: Data Load Finish, Predict Finish, 4.2548 3.8104 0.1287 0.8511 Evaluation Finish\n",
      "316: Data Load Finish, Predict Finish, 5.9375 4.9535 0.1628 0.7922 Evaluation Finish\n",
      "317: Data Load Finish, Predict Finish, 3.4677 2.8518 0.1068 0.8786 Evaluation Finish\n",
      "318: Data Load Finish, Predict Finish, 10.521 9.9976 0.343 0.6318 Evaluation Finish\n",
      "319: Data Load Finish, Predict Finish, 9.6752 9.1162 0.3116 0.6614 Evaluation Finish\n",
      "320: Data Load Finish, Predict Finish, 6.0404 5.0816 0.1674 0.7886 Evaluation Finish\n",
      "321: Data Load Finish, Predict Finish, 3.4156 3.2631 0.1158 0.8805 Evaluation Finish\n",
      "322: "
     ]
    },
    {
     "name": "stderr",
     "output_type": "stream",
     "text": [
      "C:\\Users\\vfgtr554\\anaconda3\\envs\\cctv\\lib\\site-packages\\pandas\\core\\arraylike.py:364: RuntimeWarning: divide by zero encountered in log\n",
      "  result = getattr(ufunc, method)(*inputs, **kwargs)\n"
     ]
    },
    {
     "name": "stdout",
     "output_type": "stream",
     "text": [
      "Data Load Finish, "
     ]
    },
    {
     "name": "stderr",
     "output_type": "stream",
     "text": [
      "C:\\Users\\vfgtr554\\anaconda3\\envs\\cctv\\lib\\site-packages\\statsmodels\\base\\model.py:606: ConvergenceWarning: Maximum Likelihood optimization failed to converge. Check mle_retvals\n",
      "  ConvergenceWarning)\n"
     ]
    },
    {
     "name": "stdout",
     "output_type": "stream",
     "text": [
      "Predict Finish, 27.5823 27.39 0.9643 0.0348 Evaluation Finish\n",
      "323: Data Load Finish, Predict Finish, 5.09 4.1895 0.1374 0.8219 Evaluation Finish\n",
      "324: Data Load Finish, Predict Finish, 6.1924 5.107 0.197 0.7833 Evaluation Finish\n",
      "325: Data Load Finish, Predict Finish, 7.6882 6.9206 0.2614 0.731 Evaluation Finish\n",
      "326: Data Load Finish, Predict Finish, 7.1668 6.3892 0.2142 0.7492 Evaluation Finish\n",
      "327: Data Load Finish, Predict Finish, 17.1275 16.8035 0.6145 0.4006 Evaluation Finish\n",
      "328: Data Load Finish, "
     ]
    },
    {
     "name": "stderr",
     "output_type": "stream",
     "text": [
      "C:\\Users\\vfgtr554\\anaconda3\\envs\\cctv\\lib\\site-packages\\pandas\\core\\arraylike.py:364: RuntimeWarning: divide by zero encountered in log\n",
      "  result = getattr(ufunc, method)(*inputs, **kwargs)\n",
      "C:\\Users\\vfgtr554\\anaconda3\\envs\\cctv\\lib\\site-packages\\statsmodels\\base\\model.py:606: ConvergenceWarning: Maximum Likelihood optimization failed to converge. Check mle_retvals\n",
      "  ConvergenceWarning)\n"
     ]
    },
    {
     "name": "stdout",
     "output_type": "stream",
     "text": [
      "Predict Finish, 27.5823 27.39 0.9643 0.0348 Evaluation Finish\n",
      "329: Data Load Finish, Predict Finish, 5.0588 3.8396 0.1513 0.823 Evaluation Finish\n",
      "330: Data Load Finish, "
     ]
    },
    {
     "name": "stderr",
     "output_type": "stream",
     "text": [
      "C:\\Users\\vfgtr554\\anaconda3\\envs\\cctv\\lib\\site-packages\\pandas\\core\\arraylike.py:364: RuntimeWarning: divide by zero encountered in log\n",
      "  result = getattr(ufunc, method)(*inputs, **kwargs)\n",
      "C:\\Users\\vfgtr554\\anaconda3\\envs\\cctv\\lib\\site-packages\\statsmodels\\base\\model.py:606: ConvergenceWarning: Maximum Likelihood optimization failed to converge. Check mle_retvals\n",
      "  ConvergenceWarning)\n"
     ]
    },
    {
     "name": "stdout",
     "output_type": "stream",
     "text": [
      "Predict Finish, 27.5823 27.39 0.9643 0.0348 Evaluation Finish\n",
      "331: Data Load Finish, Predict Finish, 7.2532 6.4383 0.2437 0.7462 Evaluation Finish\n",
      "332: Data Load Finish, "
     ]
    },
    {
     "name": "stderr",
     "output_type": "stream",
     "text": [
      "C:\\Users\\vfgtr554\\anaconda3\\envs\\cctv\\lib\\site-packages\\statsmodels\\base\\model.py:606: ConvergenceWarning: Maximum Likelihood optimization failed to converge. Check mle_retvals\n",
      "  ConvergenceWarning)\n"
     ]
    },
    {
     "name": "stdout",
     "output_type": "stream",
     "text": [
      "Predict Finish, 13.1058 12.1546 0.4495 0.5414 Evaluation Finish\n",
      "333: Data Load Finish, Predict Finish, 10.7378 10.2402 0.3796 0.6242 Evaluation Finish\n",
      "334: Data Load Finish, "
     ]
    },
    {
     "name": "stderr",
     "output_type": "stream",
     "text": [
      "C:\\Users\\vfgtr554\\anaconda3\\envs\\cctv\\lib\\site-packages\\pandas\\core\\arraylike.py:364: RuntimeWarning: divide by zero encountered in log\n",
      "  result = getattr(ufunc, method)(*inputs, **kwargs)\n",
      "C:\\Users\\vfgtr554\\anaconda3\\envs\\cctv\\lib\\site-packages\\statsmodels\\base\\model.py:606: ConvergenceWarning: Maximum Likelihood optimization failed to converge. Check mle_retvals\n",
      "  ConvergenceWarning)\n"
     ]
    },
    {
     "name": "stdout",
     "output_type": "stream",
     "text": [
      "Predict Finish, 27.5823 27.39 0.9643 0.0348 Evaluation Finish\n",
      "335: Data Load Finish, Predict Finish, 4.2473 3.3496 0.1309 0.8514 Evaluation Finish\n",
      "336: Data Load Finish, Predict Finish, 13.5714 13.1098 0.4829 0.5251 Evaluation Finish\n",
      "337: Data Load Finish, "
     ]
    },
    {
     "name": "stderr",
     "output_type": "stream",
     "text": [
      "C:\\Users\\vfgtr554\\anaconda3\\envs\\cctv\\lib\\site-packages\\pandas\\core\\arraylike.py:364: RuntimeWarning: divide by zero encountered in log\n",
      "  result = getattr(ufunc, method)(*inputs, **kwargs)\n",
      "C:\\Users\\vfgtr554\\anaconda3\\envs\\cctv\\lib\\site-packages\\statsmodels\\base\\model.py:606: ConvergenceWarning: Maximum Likelihood optimization failed to converge. Check mle_retvals\n",
      "  ConvergenceWarning)\n"
     ]
    },
    {
     "name": "stdout",
     "output_type": "stream",
     "text": [
      "Predict Finish, 27.5823 27.39 0.9643 0.0348 Evaluation Finish\n",
      "338: Data Load Finish, Predict Finish, 15.5672 15.2257 0.5579 0.4552 Evaluation Finish\n",
      "339: Data Load Finish, Predict Finish, 6.6007 5.7141 0.2183 0.769 Evaluation Finish\n",
      "340: Data Load Finish, Predict Finish, 3.3874 2.5723 0.0998 0.8815 Evaluation Finish\n",
      "341: Data Load Finish, Predict Finish, 4.7677 3.4843 0.1385 0.8332 Evaluation Finish\n",
      "342: Data Load Finish, "
     ]
    },
    {
     "name": "stderr",
     "output_type": "stream",
     "text": [
      "C:\\Users\\vfgtr554\\anaconda3\\envs\\cctv\\lib\\site-packages\\pandas\\core\\arraylike.py:364: RuntimeWarning: divide by zero encountered in log\n",
      "  result = getattr(ufunc, method)(*inputs, **kwargs)\n",
      "C:\\Users\\vfgtr554\\anaconda3\\envs\\cctv\\lib\\site-packages\\statsmodels\\base\\model.py:606: ConvergenceWarning: Maximum Likelihood optimization failed to converge. Check mle_retvals\n",
      "  ConvergenceWarning)\n"
     ]
    },
    {
     "name": "stdout",
     "output_type": "stream",
     "text": [
      "Predict Finish, 27.5823 27.39 0.9643 0.0348 Evaluation Finish\n",
      "343: Data Load Finish, Predict Finish, 11.0169 10.466 0.3884 0.6145 Evaluation Finish\n",
      "344: Data Load Finish, Predict Finish, 5.0558 3.9307 0.154 0.8231 Evaluation Finish\n",
      "345: Data Load Finish, Predict Finish, 8.4886 7.7361 0.291 0.7029 Evaluation Finish\n",
      "346: Data Load Finish, Predict Finish, 11.9524 11.5045 0.3969 0.5817 Evaluation Finish\n",
      "347: Data Load Finish, Predict Finish, 3.3497 2.8694 0.1059 0.8828 Evaluation Finish\n",
      "348: Data Load Finish, Predict Finish, 8.6083 7.975 0.2986 0.6988 Evaluation Finish\n",
      "349: Data Load Finish, Predict Finish, 7.9143 7.2036 0.2433 0.723 Evaluation Finish\n",
      "350: Data Load Finish, Predict Finish, 14.3889 14.0182 0.4867 0.4965 Evaluation Finish\n",
      "351: Data Load Finish, Predict Finish, 4.0776 3.6165 0.1229 0.8573 Evaluation Finish\n",
      "352: Data Load Finish, Predict Finish, 3.6114 3.2575 0.1145 0.8736 Evaluation Finish\n",
      "353: Data Load Finish, Predict Finish, 5.2295 4.0154 0.1578 0.817 Evaluation Finish\n",
      "354: Data Load Finish, Predict Finish, 4.1587 3.2203 0.1263 0.8545 Evaluation Finish\n",
      "355: Data Load Finish, Predict Finish, 4.0139 3.087 0.1212 0.8595 Evaluation Finish\n",
      "356: Data Load Finish, Predict Finish, 3.2961 2.8155 0.1051 0.8847 Evaluation Finish\n",
      "357: Data Load Finish, Predict Finish, 3.8552 2.8329 0.1121 0.8651 Evaluation Finish\n",
      "358: Data Load Finish, Predict Finish, 3.3798 2.7863 0.1037 0.8817 Evaluation Finish\n",
      "359: Data Load Finish, Predict Finish, 6.3763 5.3783 0.2066 0.7769 Evaluation Finish\n",
      "360: Data Load Finish, Predict Finish, 6.8134 5.8242 0.2228 0.7616 Evaluation Finish\n",
      "361: Data Load Finish, Predict Finish, 7.0871 6.093 0.2324 0.752 Evaluation Finish\n",
      "362: Data Load Finish, Predict Finish, 3.5983 3.1277 0.1109 0.8741 Evaluation Finish\n",
      "363: Data Load Finish, Predict Finish, 8.2644 7.5404 0.255 0.7108 Evaluation Finish\n",
      "364: Data Load Finish, Predict Finish, 7.5158 6.7588 0.2272 0.737 Evaluation Finish\n",
      "365: Data Load Finish, Predict Finish, 3.9762 3.1326 0.1222 0.8609 Evaluation Finish\n",
      "366: Data Load Finish, Predict Finish, 4.4816 3.9517 0.1323 0.8432 Evaluation Finish\n",
      "367: Data Load Finish, Predict Finish, 7.2304 6.3921 0.2427 0.747 Evaluation Finish\n",
      "368: Data Load Finish, Predict Finish, 5.4011 4.37 0.1424 0.811 Evaluation Finish\n",
      "369: Data Load Finish, Predict Finish, 4.4687 3.8824 0.13 0.8436 Evaluation Finish\n",
      "370: Data Load Finish, Predict Finish, 3.8341 3.4342 0.1289 0.8658 Evaluation Finish\n",
      "371: Data Load Finish, Predict Finish, 3.2297 2.9327 0.1083 0.887 Evaluation Finish\n",
      "372: Data Load Finish, Predict Finish, 14.3634 13.9688 0.5132 0.4974 Evaluation Finish\n",
      "373: Data Load Finish, Predict Finish, 4.9019 4.0545 0.1337 0.8285 Evaluation Finish\n",
      "374: Data Load Finish, Predict Finish, 12.3773 11.8651 0.4385 0.5669 Evaluation Finish\n",
      "375: Data Load Finish, Predict Finish, 36.319 36.1661 1.3061 -0.271 Evaluation Finish\n",
      "376: Data Load Finish, Predict Finish, 54.0795 53.9818 1.9422 -0.8925 Evaluation Finish\n",
      "377: Data Load Finish, Predict Finish, 50.5474 50.3316 1.8141 -0.7689 Evaluation Finish\n",
      "378: Data Load Finish, Predict Finish, 37.851 37.6237 1.3595 -0.3246 Evaluation Finish\n",
      "379: Data Load Finish, Predict Finish, 4.3078 3.825 0.1451 0.8492 Evaluation Finish\n",
      "380: Data Load Finish, Predict Finish, 9.3248 8.4829 0.3179 0.6737 Evaluation Finish\n",
      "381: Data Load Finish, Predict Finish, 4.1351 3.6147 0.1228 0.8553 Evaluation Finish\n",
      "382: Data Load Finish, Predict Finish, 7.142 6.1146 0.2334 0.7501 Evaluation Finish\n",
      "383: Data Load Finish, Predict Finish, 4.7476 4.1558 0.1385 0.8339 Evaluation Finish\n",
      "384: Data Load Finish, Predict Finish, 4.998 4.2239 0.1393 0.8251 Evaluation Finish\n",
      "385: Data Load Finish, "
     ]
    },
    {
     "name": "stderr",
     "output_type": "stream",
     "text": [
      "C:\\Users\\vfgtr554\\anaconda3\\envs\\cctv\\lib\\site-packages\\pandas\\core\\arraylike.py:364: RuntimeWarning: divide by zero encountered in log\n",
      "  result = getattr(ufunc, method)(*inputs, **kwargs)\n",
      "C:\\Users\\vfgtr554\\anaconda3\\envs\\cctv\\lib\\site-packages\\statsmodels\\base\\model.py:606: ConvergenceWarning: Maximum Likelihood optimization failed to converge. Check mle_retvals\n",
      "  ConvergenceWarning)\n"
     ]
    },
    {
     "name": "stdout",
     "output_type": "stream",
     "text": [
      "Predict Finish, 27.5823 27.39 0.9643 0.0348 Evaluation Finish\n",
      "386: Data Load Finish, Predict Finish, 6.4474 5.3639 0.2063 0.7744 Evaluation Finish\n",
      "387: Data Load Finish, Predict Finish, 5.3014 4.1185 0.1614 0.8145 Evaluation Finish\n",
      "388: Data Load Finish, Predict Finish, 4.5139 3.5091 0.1376 0.842 Evaluation Finish\n",
      "389: Data Load Finish, Predict Finish, 19.3163 19.0332 0.694 0.324 Evaluation Finish\n",
      "390: Data Load Finish, "
     ]
    },
    {
     "name": "stderr",
     "output_type": "stream",
     "text": [
      "C:\\Users\\vfgtr554\\anaconda3\\envs\\cctv\\lib\\site-packages\\pandas\\core\\arraylike.py:364: RuntimeWarning: divide by zero encountered in log\n",
      "  result = getattr(ufunc, method)(*inputs, **kwargs)\n",
      "C:\\Users\\vfgtr554\\anaconda3\\envs\\cctv\\lib\\site-packages\\statsmodels\\base\\model.py:606: ConvergenceWarning: Maximum Likelihood optimization failed to converge. Check mle_retvals\n",
      "  ConvergenceWarning)\n"
     ]
    },
    {
     "name": "stdout",
     "output_type": "stream",
     "text": [
      "Predict Finish, 27.5823 27.39 0.9643 0.0348 Evaluation Finish\n",
      "391: Data Load Finish, Predict Finish, 10.447 9.9314 0.3408 0.6344 Evaluation Finish\n",
      "392: Data Load Finish, Predict Finish, 9.613 9.0546 0.3095 0.6636 Evaluation Finish\n",
      "393: Data Load Finish, Predict Finish, 5.4172 4.2825 0.139 0.8104 Evaluation Finish\n",
      "394: Data Load Finish, Predict Finish, 6.1666 5.2112 0.1721 0.7842 Evaluation Finish\n",
      "395: Data Load Finish, Predict Finish, 6.8065 5.8835 0.1957 0.7618 Evaluation Finish\n",
      "396: Data Load Finish, Predict Finish, 3.8634 3.2399 0.1125 0.8648 Evaluation Finish\n",
      "397: Data Load Finish, Predict Finish, 4.5931 3.5581 0.1396 0.8393 Evaluation Finish\n",
      "398: Data Load Finish, Predict Finish, 6.8643 5.9443 0.1982 0.7598 Evaluation Finish\n",
      "399: Data Load Finish, Predict Finish, 6.9467 6.0113 0.2002 0.7569 Evaluation Finish\n",
      "400: Data Load Finish, Predict Finish, 10.0486 9.5159 0.3259 0.6484 Evaluation Finish\n",
      "401: Data Load Finish, Predict Finish, 5.3122 4.2001 0.1365 0.8141 Evaluation Finish\n",
      "402: Data Load Finish, Predict Finish, 4.856 3.9398 0.1299 0.8301 Evaluation Finish\n",
      "403: Data Load Finish, Predict Finish, 6.6436 5.7459 0.191 0.7675 Evaluation Finish\n",
      "404: Data Load Finish, Predict Finish, 7.32 6.5006 0.2179 0.7438 Evaluation Finish\n",
      "405: Data Load Finish, Predict Finish, 9.2813 8.6488 0.3233 0.6752 Evaluation Finish\n",
      "406: Data Load Finish, Predict Finish, 3.3976 2.7009 0.1023 0.8811 Evaluation Finish\n",
      "407: Data Load Finish, Predict Finish, 3.2004 2.9357 0.1084 0.888 Evaluation Finish\n",
      "408: Data Load Finish, Predict Finish, 3.8341 3.177 0.1221 0.8658 Evaluation Finish\n",
      "409: Data Load Finish, Predict Finish, 5.3237 4.1007 0.1608 0.8137 Evaluation Finish\n",
      "410: Data Load Finish, Predict Finish, 3.4886 3.2924 0.1163 0.8779 Evaluation Finish\n",
      "411: Data Load Finish, Predict Finish, 3.4351 3.1303 0.112 0.8798 Evaluation Finish\n",
      "412: Data Load Finish, Predict Finish, 11.9604 11.4814 0.4238 0.5814 Evaluation Finish\n",
      "413: Data Load Finish, Predict Finish, 5.3056 3.7796 0.1216 0.8143 Evaluation Finish\n",
      "414: Data Load Finish, Predict Finish, 6.6173 5.5962 0.2127 0.7684 Evaluation Finish\n",
      "415: Data Load Finish, Predict Finish, 3.521 2.8372 0.1007 0.8768 Evaluation Finish\n",
      "416: Data Load Finish, Predict Finish, 3.3391 3.0268 0.1141 0.8831 Evaluation Finish\n",
      "417: Data Load Finish, Predict Finish, 4.8221 4.7667 0.1733 0.8312 Evaluation Finish\n",
      "418: Data Load Finish, Predict Finish, 16.3532 16.01 0.5861 0.4277 Evaluation Finish\n",
      "419: Data Load Finish, Predict Finish, 10.1566 9.6333 0.3302 0.6446 Evaluation Finish\n",
      "420: Data Load Finish, Predict Finish, 3.6322 3.112 0.1172 0.8729 Evaluation Finish\n",
      "421: Data Load Finish, Predict Finish, 3.3494 3.3029 0.1202 0.8828 Evaluation Finish\n",
      "422: Data Load Finish, Predict Finish, 7.1944 6.4308 0.2157 0.7482 Evaluation Finish\n",
      "423: Data Load Finish, Predict Finish, 5.4115 4.2302 0.1655 0.8106 Evaluation Finish\n",
      "424: Data Load Finish, "
     ]
    },
    {
     "name": "stderr",
     "output_type": "stream",
     "text": [
      "C:\\Users\\vfgtr554\\anaconda3\\envs\\cctv\\lib\\site-packages\\statsmodels\\base\\model.py:606: ConvergenceWarning: Maximum Likelihood optimization failed to converge. Check mle_retvals\n",
      "  ConvergenceWarning)\n"
     ]
    },
    {
     "name": "stdout",
     "output_type": "stream",
     "text": [
      "Predict Finish, 7.668 6.7192 0.2549 0.7317 Evaluation Finish\n",
      "425: Data Load Finish, Predict Finish, 4.1842 3.8331 0.1298 0.8536 Evaluation Finish\n",
      "426: Data Load Finish, Predict Finish, 18.3233 18.0005 0.6575 0.3588 Evaluation Finish\n",
      "427: Data Load Finish, Predict Finish, 26.9134 26.707 0.9682 0.0582 Evaluation Finish\n",
      "428: Data Load Finish, Predict Finish, 23.4125 23.195 0.8422 0.1807 Evaluation Finish\n",
      "429: Data Load Finish, Predict Finish, 30.2427 30.044 1.0877 -0.0583 Evaluation Finish\n",
      "430: Data Load Finish, Predict Finish, 27.9403 27.7425 1.0045 0.0222 Evaluation Finish\n",
      "431: Data Load Finish, Predict Finish, 23.6575 23.3972 0.8502 0.1721 Evaluation Finish\n",
      "432: Data Load Finish, Predict Finish, 13.0976 12.6687 0.4385 0.5417 Evaluation Finish\n",
      "433: Data Load Finish, Predict Finish, 15.2419 14.8727 0.5172 0.4666 Evaluation Finish\n",
      "434: Data Load Finish, Predict Finish, 6.9333 6.0183 0.2008 0.7574 Evaluation Finish\n",
      "435: Data Load Finish, Predict Finish, 7.9835 7.1633 0.2416 0.7206 Evaluation Finish\n",
      "436: Data Load Finish, Predict Finish, 11.7338 11.2758 0.3887 0.5894 Evaluation Finish\n",
      "437: Data Load Finish, Predict Finish, 5.5427 4.3712 0.1421 0.806 Evaluation Finish\n",
      "438: Data Load Finish, Predict Finish, 6.1305 5.2408 0.1735 0.7855 Evaluation Finish\n",
      "439: Data Load Finish, Predict Finish, 3.3304 2.9779 0.107 0.8835 Evaluation Finish\n",
      "440: Data Load Finish, Predict Finish, 6.2931 5.3924 0.2067 0.7798 Evaluation Finish\n",
      "441: Data Load Finish, Predict Finish, 3.4268 2.6317 0.1017 0.8801 Evaluation Finish\n",
      "442: Data Load Finish, Predict Finish, 4.4952 3.237 0.1291 0.8427 Evaluation Finish\n",
      "443: Data Load Finish, Predict Finish, 8.8776 8.2695 0.2814 0.6893 Evaluation Finish\n",
      "444: Data Load Finish, Predict Finish, 6.2471 5.0365 0.1659 0.7814 Evaluation Finish\n",
      "445: Data Load Finish, Predict Finish, 7.0536 6.1676 0.2058 0.7532 Evaluation Finish\n",
      "446: Data Load Finish, Predict Finish, 3.8064 3.5819 0.1234 0.8668 Evaluation Finish\n",
      "447: Data Load Finish, Predict Finish, 3.7662 3.4986 0.1205 0.8682 Evaluation Finish\n",
      "448: Data Load Finish, Predict Finish, 7.9584 7.247 0.2729 0.7215 Evaluation Finish\n",
      "449: Data Load Finish, Predict Finish, 5.1605 4.1884 0.1369 0.8194 Evaluation Finish\n",
      "450: Data Load Finish, "
     ]
    },
    {
     "name": "stderr",
     "output_type": "stream",
     "text": [
      "C:\\Users\\vfgtr554\\anaconda3\\envs\\cctv\\lib\\site-packages\\statsmodels\\base\\model.py:606: ConvergenceWarning: Maximum Likelihood optimization failed to converge. Check mle_retvals\n",
      "  ConvergenceWarning)\n"
     ]
    },
    {
     "name": "stdout",
     "output_type": "stream",
     "text": [
      "Predict Finish, 5.0452 4.162 0.1365 0.8234 Evaluation Finish\n",
      "451: Data Load Finish, Predict Finish, 4.0353 3.5513 0.1349 0.8588 Evaluation Finish\n",
      "452: Data Load Finish, Predict Finish, 4.5335 3.847 0.1284 0.8414 Evaluation Finish\n",
      "453: Data Load Finish, Predict Finish, 4.3656 3.9703 0.134 0.8472 Evaluation Finish\n",
      "454: Data Load Finish, "
     ]
    },
    {
     "name": "stderr",
     "output_type": "stream",
     "text": [
      "C:\\Users\\vfgtr554\\anaconda3\\envs\\cctv\\lib\\site-packages\\pandas\\core\\arraylike.py:364: RuntimeWarning: divide by zero encountered in log\n",
      "  result = getattr(ufunc, method)(*inputs, **kwargs)\n",
      "C:\\Users\\vfgtr554\\anaconda3\\envs\\cctv\\lib\\site-packages\\statsmodels\\base\\model.py:606: ConvergenceWarning: Maximum Likelihood optimization failed to converge. Check mle_retvals\n",
      "  ConvergenceWarning)\n"
     ]
    },
    {
     "name": "stdout",
     "output_type": "stream",
     "text": [
      "Predict Finish, 27.5823 27.39 0.9643 0.0348 Evaluation Finish\n",
      "455: Data Load Finish, Predict Finish, 11.8538 11.4193 0.3941 0.5852 Evaluation Finish\n",
      "456: Data Load Finish, Predict Finish, 7.7181 7.0411 0.2378 0.7299 Evaluation Finish\n",
      "457: Data Load Finish, Predict Finish, 7.5996 6.8849 0.232 0.7341 Evaluation Finish\n",
      "458: Data Load Finish, Predict Finish, 3.4909 2.9156 0.1065 0.8778 Evaluation Finish\n",
      "459: Data Load Finish, Predict Finish, 3.3791 2.6383 0.101 0.8817 Evaluation Finish\n",
      "460: Data Load Finish, Predict Finish, 8.2162 7.5333 0.2549 0.7125 Evaluation Finish\n",
      "461: Data Load Finish, Predict Finish, 3.6622 3.5243 0.1225 0.8718 Evaluation Finish\n",
      "462: Data Load Finish, Predict Finish, 4.5165 3.9587 0.1323 0.8419 Evaluation Finish\n",
      "463: Data Load Finish, Predict Finish, 6.6699 5.8263 0.1941 0.7666 Evaluation Finish\n",
      "464: Data Load Finish, Predict Finish, 3.3386 2.8394 0.1052 0.8832 Evaluation Finish\n",
      "465: Data Load Finish, Predict Finish, 8.6143 8.0079 0.2723 0.6985 Evaluation Finish\n",
      "466: Data Load Finish, Predict Finish, 11.598 11.153 0.3846 0.5941 Evaluation Finish\n",
      "467: Data Load Finish, Predict Finish, 3.2402 3.1218 0.113 0.8866 Evaluation Finish\n",
      "468: Data Load Finish, Predict Finish, 10.1811 9.6308 0.3582 0.6437 Evaluation Finish\n",
      "469: Data Load Finish, Predict Finish, 3.4372 2.8112 0.1065 0.8797 Evaluation Finish\n",
      "470: Data Load Finish, Predict Finish, 10.6037 10.0231 0.3437 0.6289 Evaluation Finish\n",
      "471: Data Load Finish, Predict Finish, 3.3629 3.0472 0.11 0.8823 Evaluation Finish\n",
      "472: Data Load Finish, Predict Finish, 8.3671 7.5516 0.2552 0.7072 Evaluation Finish\n",
      "473: Data Load Finish, Predict Finish, 10.3724 9.138 0.3426 0.637 Evaluation Finish\n",
      "474: Data Load Finish, Predict Finish, 5.6444 4.571 0.1775 0.8025 Evaluation Finish\n",
      "475: Data Load Finish, "
     ]
    },
    {
     "name": "stderr",
     "output_type": "stream",
     "text": [
      "C:\\Users\\vfgtr554\\anaconda3\\envs\\cctv\\lib\\site-packages\\pandas\\core\\arraylike.py:364: RuntimeWarning: divide by zero encountered in log\n",
      "  result = getattr(ufunc, method)(*inputs, **kwargs)\n",
      "C:\\Users\\vfgtr554\\anaconda3\\envs\\cctv\\lib\\site-packages\\statsmodels\\base\\model.py:606: ConvergenceWarning: Maximum Likelihood optimization failed to converge. Check mle_retvals\n",
      "  ConvergenceWarning)\n"
     ]
    },
    {
     "name": "stdout",
     "output_type": "stream",
     "text": [
      "Predict Finish, 27.5823 27.39 0.9643 0.0348 Evaluation Finish\n",
      "476: Data Load Finish, Predict Finish, 5.4851 4.3751 0.1421 0.808 Evaluation Finish\n",
      "477: Data Load Finish, Predict Finish, 4.8706 4.1995 0.1393 0.8296 Evaluation Finish\n",
      "478: Data Load Finish, Predict Finish, 6.4716 5.5494 0.1839 0.7735 Evaluation Finish\n",
      "479: Data Load Finish, Predict Finish, 6.5174 5.6966 0.1898 0.7719 Evaluation Finish\n",
      "480: Data Load Finish, Predict Finish, 6.6715 5.7795 0.1921 0.7665 Evaluation Finish\n",
      "481: Data Load Finish, Predict Finish, 3.4718 3.1499 0.112 0.8785 Evaluation Finish\n",
      "482: Data Load Finish, Predict Finish, 4.6361 3.918 0.1305 0.8378 Evaluation Finish\n",
      "483: Data Load Finish, Predict Finish, 3.977 3.6032 0.1231 0.8608 Evaluation Finish\n",
      "484: Data Load Finish, "
     ]
    },
    {
     "name": "stderr",
     "output_type": "stream",
     "text": [
      "C:\\Users\\vfgtr554\\anaconda3\\envs\\cctv\\lib\\site-packages\\statsmodels\\base\\model.py:606: ConvergenceWarning: Maximum Likelihood optimization failed to converge. Check mle_retvals\n",
      "  ConvergenceWarning)\n"
     ]
    },
    {
     "name": "stdout",
     "output_type": "stream",
     "text": [
      "Predict Finish, 4.0667 3.714 0.1263 0.8577 Evaluation Finish\n",
      "485: Data Load Finish, Predict Finish, 4.6767 4.1702 0.1581 0.8363 Evaluation Finish\n",
      "486: Data Load Finish, Predict Finish, 4.0779 3.7372 0.1271 0.8573 Evaluation Finish\n",
      "487: Data Load Finish, Predict Finish, 11.6371 11.1585 0.4126 0.5928 Evaluation Finish\n",
      "488: Data Load Finish, Predict Finish, 4.4285 3.4194 0.1343 0.845 Evaluation Finish\n",
      "489: Data Load Finish, Predict Finish, 13.895 13.4966 0.4958 0.5137 Evaluation Finish\n",
      "490: Data Load Finish, Predict Finish, 11.0625 10.5542 0.3912 0.6129 Evaluation Finish\n",
      "491: Data Load Finish, Predict Finish, 7.0038 6.1177 0.2051 0.7549 Evaluation Finish\n",
      "492: Data Load Finish, Predict Finish, 5.2582 3.8541 0.125 0.816 Evaluation Finish\n",
      "493: Data Load Finish, "
     ]
    },
    {
     "name": "stderr",
     "output_type": "stream",
     "text": [
      "C:\\Users\\vfgtr554\\anaconda3\\envs\\cctv\\lib\\site-packages\\pandas\\core\\arraylike.py:364: RuntimeWarning: divide by zero encountered in log\n",
      "  result = getattr(ufunc, method)(*inputs, **kwargs)\n",
      "C:\\Users\\vfgtr554\\anaconda3\\envs\\cctv\\lib\\site-packages\\statsmodels\\base\\model.py:606: ConvergenceWarning: Maximum Likelihood optimization failed to converge. Check mle_retvals\n",
      "  ConvergenceWarning)\n"
     ]
    },
    {
     "name": "stdout",
     "output_type": "stream",
     "text": [
      "Predict Finish, 27.5823 27.39 0.9643 0.0348 Evaluation Finish\n",
      "494: Data Load Finish, Predict Finish, 5.0658 4.1319 0.1354 0.8227 Evaluation Finish\n",
      "495: Data Load Finish, Predict Finish, 3.9063 3.6391 0.1349 0.8633 Evaluation Finish\n",
      "496: Data Load Finish, Predict Finish, 3.5683 3.3606 0.1173 0.8751 Evaluation Finish\n",
      "497: Data Load Finish, Predict Finish, 3.9933 3.7611 0.1289 0.8603 Evaluation Finish\n",
      "498: Data Load Finish, Predict Finish, 5.1224 3.9514 0.1552 0.8207 Evaluation Finish\n",
      "499: Data Load Finish, Predict Finish, 3.2662 3.0559 0.1114 0.8857 Evaluation Finish\n",
      "500: Data Load Finish, "
     ]
    },
    {
     "name": "stderr",
     "output_type": "stream",
     "text": [
      "C:\\Users\\vfgtr554\\anaconda3\\envs\\cctv\\lib\\site-packages\\pandas\\core\\arraylike.py:364: RuntimeWarning: divide by zero encountered in log\n",
      "  result = getattr(ufunc, method)(*inputs, **kwargs)\n",
      "C:\\Users\\vfgtr554\\anaconda3\\envs\\cctv\\lib\\site-packages\\statsmodels\\base\\model.py:606: ConvergenceWarning: Maximum Likelihood optimization failed to converge. Check mle_retvals\n",
      "  ConvergenceWarning)\n"
     ]
    },
    {
     "name": "stdout",
     "output_type": "stream",
     "text": [
      "Predict Finish, 27.5823 27.39 0.9643 0.0348 Evaluation Finish\n",
      "501: Data Load Finish, Predict Finish, 3.6181 3.146 0.1187 0.8734 Evaluation Finish\n",
      "502: Data Load Finish, Predict Finish, 6.5387 5.7004 0.2149 0.7712 Evaluation Finish\n",
      "503: Data Load Finish, Predict Finish, 5.5933 4.515 0.1471 0.8043 Evaluation Finish\n",
      "504: Data Load Finish, Predict Finish, 3.4722 3.016 0.1118 0.8785 Evaluation Finish\n",
      "505: Data Load Finish, Predict Finish, 11.9951 11.5032 0.3974 0.5802 Evaluation Finish\n",
      "RMSE: 9.623302060571374, MAE: 9.013917860315544, MAPE: 0.3191996471660442\n",
      "ACC: 0.668631719530557\n"
     ]
    }
   ],
   "source": [
    "predictARIMA(df, idx, 3)"
   ]
  },
  {
   "cell_type": "markdown",
   "id": "8624171f",
   "metadata": {},
   "source": [
    "### Unobserved Nodes = 20%"
   ]
  },
  {
   "cell_type": "code",
   "execution_count": 14,
   "id": "a8313c43",
   "metadata": {},
   "outputs": [
    {
     "name": "stdout",
     "output_type": "stream",
     "text": [
      "2880 506\n"
     ]
    },
    {
     "data": {
      "text/plain": [
       "290880"
      ]
     },
     "execution_count": 14,
     "metadata": {},
     "output_type": "execute_result"
    }
   ],
   "source": [
    "df, idx = csvIndexToDatetime(path_20, start, freq)\n",
    "(df == 0).sum().sum()"
   ]
  },
  {
   "cell_type": "code",
   "execution_count": 15,
   "id": "5ce0fefa",
   "metadata": {
    "scrolled": false
   },
   "outputs": [
    {
     "name": "stdout",
     "output_type": "stream",
     "text": [
      "0: Data Load Finish, Predict Finish, 3.547 3.4717 0.1219 0.8759 Evaluation Finish\n",
      "1: Data Load Finish, Predict Finish, 3.9207 3.401 0.1194 0.8628 Evaluation Finish\n",
      "2: Data Load Finish, Predict Finish, 5.0571 3.9157 0.1537 0.823 Evaluation Finish\n",
      "3: "
     ]
    },
    {
     "name": "stderr",
     "output_type": "stream",
     "text": [
      "C:\\Users\\vfgtr554\\anaconda3\\envs\\cctv\\lib\\site-packages\\pandas\\core\\arraylike.py:364: RuntimeWarning: divide by zero encountered in log\n",
      "  result = getattr(ufunc, method)(*inputs, **kwargs)\n"
     ]
    },
    {
     "name": "stdout",
     "output_type": "stream",
     "text": [
      "Data Load Finish, "
     ]
    },
    {
     "name": "stderr",
     "output_type": "stream",
     "text": [
      "C:\\Users\\vfgtr554\\anaconda3\\envs\\cctv\\lib\\site-packages\\statsmodels\\base\\model.py:606: ConvergenceWarning: Maximum Likelihood optimization failed to converge. Check mle_retvals\n",
      "  ConvergenceWarning)\n"
     ]
    },
    {
     "name": "stdout",
     "output_type": "stream",
     "text": [
      "Predict Finish, 27.5823 27.39 0.9643 0.0348 Evaluation Finish\n",
      "4: Data Load Finish, Predict Finish, 6.6472 5.5728 0.1844 0.7674 Evaluation Finish\n",
      "5: Data Load Finish, Predict Finish, 6.691 5.8393 0.1945 0.7659 Evaluation Finish\n",
      "6: Data Load Finish, Predict Finish, 3.5226 3.0056 0.1103 0.8767 Evaluation Finish\n",
      "7: Data Load Finish, Predict Finish, 11.4934 11.0395 0.3805 0.5978 Evaluation Finish\n",
      "8: "
     ]
    },
    {
     "name": "stderr",
     "output_type": "stream",
     "text": [
      "C:\\Users\\vfgtr554\\anaconda3\\envs\\cctv\\lib\\site-packages\\pandas\\core\\arraylike.py:364: RuntimeWarning: divide by zero encountered in log\n",
      "  result = getattr(ufunc, method)(*inputs, **kwargs)\n"
     ]
    },
    {
     "name": "stdout",
     "output_type": "stream",
     "text": [
      "Data Load Finish, "
     ]
    },
    {
     "name": "stderr",
     "output_type": "stream",
     "text": [
      "C:\\Users\\vfgtr554\\anaconda3\\envs\\cctv\\lib\\site-packages\\statsmodels\\base\\model.py:606: ConvergenceWarning: Maximum Likelihood optimization failed to converge. Check mle_retvals\n",
      "  ConvergenceWarning)\n"
     ]
    },
    {
     "name": "stdout",
     "output_type": "stream",
     "text": [
      "Predict Finish, 27.5823 27.39 0.9643 0.0348 Evaluation Finish\n",
      "9: Data Load Finish, Predict Finish, 9.7921 9.237 0.3159 0.6573 Evaluation Finish\n",
      "10: Data Load Finish, "
     ]
    },
    {
     "name": "stderr",
     "output_type": "stream",
     "text": [
      "C:\\Users\\vfgtr554\\anaconda3\\envs\\cctv\\lib\\site-packages\\pandas\\core\\arraylike.py:364: RuntimeWarning: divide by zero encountered in log\n",
      "  result = getattr(ufunc, method)(*inputs, **kwargs)\n",
      "C:\\Users\\vfgtr554\\anaconda3\\envs\\cctv\\lib\\site-packages\\statsmodels\\base\\model.py:606: ConvergenceWarning: Maximum Likelihood optimization failed to converge. Check mle_retvals\n",
      "  ConvergenceWarning)\n"
     ]
    },
    {
     "name": "stdout",
     "output_type": "stream",
     "text": [
      "Predict Finish, 27.5823 27.39 0.9643 0.0348 Evaluation Finish\n",
      "11: Data Load Finish, Predict Finish, 3.4725 3.2956 0.1165 0.8785 Evaluation Finish\n",
      "12: Data Load Finish, Predict Finish, 15.4933 15.1499 0.5552 0.4578 Evaluation Finish\n",
      "13: Data Load Finish, Predict Finish, 26.0449 25.8359 0.937 0.0886 Evaluation Finish\n",
      "14: Data Load Finish, Predict Finish, 29.5648 29.3795 1.0636 -0.0346 Evaluation Finish\n",
      "15: Data Load Finish, Predict Finish, 18.4932 18.1968 0.6642 0.3528 Evaluation Finish\n",
      "16: Data Load Finish, Predict Finish, 8.5555 7.8346 0.2944 0.7006 Evaluation Finish\n",
      "17: Data Load Finish, "
     ]
    },
    {
     "name": "stderr",
     "output_type": "stream",
     "text": [
      "C:\\Users\\vfgtr554\\anaconda3\\envs\\cctv\\lib\\site-packages\\pandas\\core\\arraylike.py:364: RuntimeWarning: divide by zero encountered in log\n",
      "  result = getattr(ufunc, method)(*inputs, **kwargs)\n",
      "C:\\Users\\vfgtr554\\anaconda3\\envs\\cctv\\lib\\site-packages\\statsmodels\\base\\model.py:606: ConvergenceWarning: Maximum Likelihood optimization failed to converge. Check mle_retvals\n",
      "  ConvergenceWarning)\n"
     ]
    },
    {
     "name": "stdout",
     "output_type": "stream",
     "text": [
      "Predict Finish, 27.5823 27.39 0.9643 0.0348 Evaluation Finish\n",
      "18: Data Load Finish, Predict Finish, 5.5337 4.4628 0.1453 0.8063 Evaluation Finish\n",
      "19: "
     ]
    },
    {
     "name": "stderr",
     "output_type": "stream",
     "text": [
      "C:\\Users\\vfgtr554\\anaconda3\\envs\\cctv\\lib\\site-packages\\pandas\\core\\arraylike.py:364: RuntimeWarning: divide by zero encountered in log\n",
      "  result = getattr(ufunc, method)(*inputs, **kwargs)\n"
     ]
    },
    {
     "name": "stdout",
     "output_type": "stream",
     "text": [
      "Data Load Finish, "
     ]
    },
    {
     "name": "stderr",
     "output_type": "stream",
     "text": [
      "C:\\Users\\vfgtr554\\anaconda3\\envs\\cctv\\lib\\site-packages\\statsmodels\\base\\model.py:606: ConvergenceWarning: Maximum Likelihood optimization failed to converge. Check mle_retvals\n",
      "  ConvergenceWarning)\n"
     ]
    },
    {
     "name": "stdout",
     "output_type": "stream",
     "text": [
      "Predict Finish, 27.5823 27.39 0.9643 0.0348 Evaluation Finish\n",
      "20: Data Load Finish, "
     ]
    },
    {
     "name": "stderr",
     "output_type": "stream",
     "text": [
      "C:\\Users\\vfgtr554\\anaconda3\\envs\\cctv\\lib\\site-packages\\statsmodels\\base\\model.py:606: ConvergenceWarning: Maximum Likelihood optimization failed to converge. Check mle_retvals\n",
      "  ConvergenceWarning)\n",
      "C:\\Users\\vfgtr554\\anaconda3\\envs\\cctv\\lib\\site-packages\\pandas\\core\\arraylike.py:364: RuntimeWarning: divide by zero encountered in log\n",
      "  result = getattr(ufunc, method)(*inputs, **kwargs)\n"
     ]
    },
    {
     "name": "stdout",
     "output_type": "stream",
     "text": [
      "Predict Finish, 7.2059 6.4193 0.2152 0.7478 Evaluation Finish\n",
      "21: Data Load Finish, "
     ]
    },
    {
     "name": "stderr",
     "output_type": "stream",
     "text": [
      "C:\\Users\\vfgtr554\\anaconda3\\envs\\cctv\\lib\\site-packages\\statsmodels\\base\\model.py:606: ConvergenceWarning: Maximum Likelihood optimization failed to converge. Check mle_retvals\n",
      "  ConvergenceWarning)\n"
     ]
    },
    {
     "name": "stdout",
     "output_type": "stream",
     "text": [
      "Predict Finish, 27.5823 27.39 0.9643 0.0348 Evaluation Finish\n",
      "22: Data Load Finish, Predict Finish, 3.9366 3.5807 0.1225 0.8622 Evaluation Finish\n",
      "23: Data Load Finish, Predict Finish, 4.1146 3.8392 0.1307 0.856 Evaluation Finish\n",
      "24: Data Load Finish, Predict Finish, 15.9693 15.5787 0.5711 0.4412 Evaluation Finish\n",
      "25: Data Load Finish, Predict Finish, 6.4251 5.5711 0.1853 0.7752 Evaluation Finish\n",
      "26: Data Load Finish, Predict Finish, 6.0958 5.1949 0.1718 0.7867 Evaluation Finish\n",
      "27: Data Load Finish, Predict Finish, 5.9701 4.9703 0.1634 0.7911 Evaluation Finish\n",
      "28: Data Load Finish, Predict Finish, 7.2815 6.2657 0.2383 0.7452 Evaluation Finish\n",
      "29: Data Load Finish, Predict Finish, 4.2925 3.5573 0.1189 0.8498 Evaluation Finish\n",
      "30: Data Load Finish, Predict Finish, 3.5433 3.0556 0.1152 0.876 Evaluation Finish\n",
      "31: Data Load Finish, Predict Finish, 3.531 3.3023 0.1156 0.8764 Evaluation Finish\n",
      "32: "
     ]
    },
    {
     "name": "stderr",
     "output_type": "stream",
     "text": [
      "C:\\Users\\vfgtr554\\anaconda3\\envs\\cctv\\lib\\site-packages\\pandas\\core\\arraylike.py:364: RuntimeWarning: divide by zero encountered in log\n",
      "  result = getattr(ufunc, method)(*inputs, **kwargs)\n"
     ]
    },
    {
     "name": "stdout",
     "output_type": "stream",
     "text": [
      "Data Load Finish, "
     ]
    },
    {
     "name": "stderr",
     "output_type": "stream",
     "text": [
      "C:\\Users\\vfgtr554\\anaconda3\\envs\\cctv\\lib\\site-packages\\statsmodels\\base\\model.py:606: ConvergenceWarning: Maximum Likelihood optimization failed to converge. Check mle_retvals\n",
      "  ConvergenceWarning)\n",
      "C:\\Users\\vfgtr554\\anaconda3\\envs\\cctv\\lib\\site-packages\\pandas\\core\\arraylike.py:364: RuntimeWarning: divide by zero encountered in log\n",
      "  result = getattr(ufunc, method)(*inputs, **kwargs)\n"
     ]
    },
    {
     "name": "stdout",
     "output_type": "stream",
     "text": [
      "Predict Finish, 27.5823 27.39 0.9643 0.0348 Evaluation Finish\n",
      "33: Data Load Finish, "
     ]
    },
    {
     "name": "stderr",
     "output_type": "stream",
     "text": [
      "C:\\Users\\vfgtr554\\anaconda3\\envs\\cctv\\lib\\site-packages\\statsmodels\\base\\model.py:606: ConvergenceWarning: Maximum Likelihood optimization failed to converge. Check mle_retvals\n",
      "  ConvergenceWarning)\n"
     ]
    },
    {
     "name": "stdout",
     "output_type": "stream",
     "text": [
      "Predict Finish, 27.5823 27.39 0.9643 0.0348 Evaluation Finish\n",
      "34: Data Load Finish, Predict Finish, 3.849 3.5335 0.1256 0.8653 Evaluation Finish\n",
      "35: Data Load Finish, Predict Finish, 7.6551 6.8959 0.2321 0.7321 Evaluation Finish\n",
      "36: Data Load Finish, Predict Finish, 5.3383 4.2234 0.1371 0.8132 Evaluation Finish\n",
      "37: Data Load Finish, Predict Finish, 5.5557 4.4869 0.1462 0.8056 Evaluation Finish\n",
      "38: Data Load Finish, Predict Finish, 6.438 5.4301 0.1796 0.7747 Evaluation Finish\n",
      "39: Data Load Finish, Predict Finish, 3.5549 3.276 0.1146 0.8756 Evaluation Finish\n",
      "40: Data Load Finish, Predict Finish, 6.4264 5.5467 0.1842 0.7751 Evaluation Finish\n",
      "41: Data Load Finish, Predict Finish, 8.7611 8.0837 0.2746 0.6934 Evaluation Finish\n",
      "42: Data Load Finish, Predict Finish, 6.5716 5.5541 0.1845 0.77 Evaluation Finish\n",
      "43: "
     ]
    },
    {
     "name": "stderr",
     "output_type": "stream",
     "text": [
      "C:\\Users\\vfgtr554\\anaconda3\\envs\\cctv\\lib\\site-packages\\pandas\\core\\arraylike.py:364: RuntimeWarning: divide by zero encountered in log\n",
      "  result = getattr(ufunc, method)(*inputs, **kwargs)\n"
     ]
    },
    {
     "name": "stdout",
     "output_type": "stream",
     "text": [
      "Data Load Finish, "
     ]
    },
    {
     "name": "stderr",
     "output_type": "stream",
     "text": [
      "C:\\Users\\vfgtr554\\anaconda3\\envs\\cctv\\lib\\site-packages\\statsmodels\\base\\model.py:606: ConvergenceWarning: Maximum Likelihood optimization failed to converge. Check mle_retvals\n",
      "  ConvergenceWarning)\n"
     ]
    },
    {
     "name": "stdout",
     "output_type": "stream",
     "text": [
      "Predict Finish, 27.5823 27.39 0.9643 0.0348 Evaluation Finish\n",
      "44: Data Load Finish, Predict Finish, 3.3916 2.6969 0.1029 0.8813 Evaluation Finish\n",
      "45: Data Load Finish, Predict Finish, 5.9711 4.8805 0.1598 0.791 Evaluation Finish\n",
      "46: Data Load Finish, "
     ]
    },
    {
     "name": "stderr",
     "output_type": "stream",
     "text": [
      "C:\\Users\\vfgtr554\\anaconda3\\envs\\cctv\\lib\\site-packages\\pandas\\core\\arraylike.py:364: RuntimeWarning: divide by zero encountered in log\n",
      "  result = getattr(ufunc, method)(*inputs, **kwargs)\n",
      "C:\\Users\\vfgtr554\\anaconda3\\envs\\cctv\\lib\\site-packages\\statsmodels\\base\\model.py:606: ConvergenceWarning: Maximum Likelihood optimization failed to converge. Check mle_retvals\n",
      "  ConvergenceWarning)\n"
     ]
    },
    {
     "name": "stdout",
     "output_type": "stream",
     "text": [
      "Predict Finish, 27.5823 27.39 0.9643 0.0348 Evaluation Finish\n",
      "47: Data Load Finish, Predict Finish, 4.7557 3.7328 0.1221 0.8336 Evaluation Finish\n",
      "48: Data Load Finish, "
     ]
    },
    {
     "name": "stderr",
     "output_type": "stream",
     "text": [
      "C:\\Users\\vfgtr554\\anaconda3\\envs\\cctv\\lib\\site-packages\\pandas\\core\\arraylike.py:364: RuntimeWarning: divide by zero encountered in log\n",
      "  result = getattr(ufunc, method)(*inputs, **kwargs)\n",
      "C:\\Users\\vfgtr554\\anaconda3\\envs\\cctv\\lib\\site-packages\\statsmodels\\base\\model.py:606: ConvergenceWarning: Maximum Likelihood optimization failed to converge. Check mle_retvals\n",
      "  ConvergenceWarning)\n"
     ]
    },
    {
     "name": "stdout",
     "output_type": "stream",
     "text": [
      "Predict Finish, 27.5823 27.39 0.9643 0.0348 Evaluation Finish\n",
      "49: Data Load Finish, Predict Finish, 3.2707 2.8874 0.1064 0.8855 Evaluation Finish\n",
      "50: Data Load Finish, Predict Finish, 5.2916 4.4978 0.1487 0.8148 Evaluation Finish\n",
      "51: Data Load Finish, Predict Finish, 7.7926 7.0573 0.2379 0.7273 Evaluation Finish\n",
      "52: Data Load Finish, Predict Finish, 9.394 8.587 0.2927 0.6713 Evaluation Finish\n",
      "53: Data Load Finish, Predict Finish, 13.5726 13.1768 0.4566 0.525 Evaluation Finish\n",
      "54: Data Load Finish, Predict Finish, 11.8639 11.4081 0.3935 0.5848 Evaluation Finish\n",
      "55: Data Load Finish, Predict Finish, 3.2297 2.8937 0.1072 0.887 Evaluation Finish\n",
      "56: Data Load Finish, Predict Finish, 8.2974 7.6373 0.2868 0.7096 Evaluation Finish\n",
      "57: Data Load Finish, Predict Finish, 3.3835 2.5998 0.1003 0.8816 Evaluation Finish\n",
      "58: Data Load Finish, Predict Finish, 19.8777 19.5822 0.714 0.3044 Evaluation Finish\n",
      "59: Data Load Finish, Predict Finish, 8.1481 7.4189 0.2794 0.7149 Evaluation Finish\n",
      "60: Data Load Finish, "
     ]
    },
    {
     "name": "stderr",
     "output_type": "stream",
     "text": [
      "C:\\Users\\vfgtr554\\anaconda3\\envs\\cctv\\lib\\site-packages\\pandas\\core\\arraylike.py:364: RuntimeWarning: divide by zero encountered in log\n",
      "  result = getattr(ufunc, method)(*inputs, **kwargs)\n",
      "C:\\Users\\vfgtr554\\anaconda3\\envs\\cctv\\lib\\site-packages\\statsmodels\\base\\model.py:606: ConvergenceWarning: Maximum Likelihood optimization failed to converge. Check mle_retvals\n",
      "  ConvergenceWarning)\n"
     ]
    },
    {
     "name": "stdout",
     "output_type": "stream",
     "text": [
      "Predict Finish, 27.5823 27.39 0.9643 0.0348 Evaluation Finish\n",
      "61: Data Load Finish, Predict Finish, 8.1199 7.4365 0.2515 0.7158 Evaluation Finish\n",
      "62: Data Load Finish, "
     ]
    },
    {
     "name": "stderr",
     "output_type": "stream",
     "text": [
      "C:\\Users\\vfgtr554\\anaconda3\\envs\\cctv\\lib\\site-packages\\pandas\\core\\arraylike.py:364: RuntimeWarning: divide by zero encountered in log\n",
      "  result = getattr(ufunc, method)(*inputs, **kwargs)\n",
      "C:\\Users\\vfgtr554\\anaconda3\\envs\\cctv\\lib\\site-packages\\statsmodels\\base\\model.py:606: ConvergenceWarning: Maximum Likelihood optimization failed to converge. Check mle_retvals\n",
      "  ConvergenceWarning)\n"
     ]
    },
    {
     "name": "stdout",
     "output_type": "stream",
     "text": [
      "Predict Finish, 27.5823 27.39 0.9643 0.0348 Evaluation Finish\n",
      "63: Data Load Finish, Predict Finish, 3.9415 3.1534 0.1225 0.8621 Evaluation Finish\n",
      "64: Data Load Finish, Predict Finish, 4.0248 2.4396 0.1004 0.8592 Evaluation Finish\n",
      "65: Data Load Finish, Predict Finish, 8.9907 8.4195 0.2873 0.6854 Evaluation Finish\n",
      "66: Data Load Finish, Predict Finish, 6.3519 5.3813 0.2066 0.7777 Evaluation Finish\n",
      "67: Data Load Finish, Predict Finish, 8.4825 7.8645 0.2672 0.7032 Evaluation Finish\n",
      "68: Data Load Finish, Predict Finish, 3.5543 3.0274 0.1127 0.8756 Evaluation Finish\n",
      "69: Data Load Finish, "
     ]
    },
    {
     "name": "stderr",
     "output_type": "stream",
     "text": [
      "C:\\Users\\vfgtr554\\anaconda3\\envs\\cctv\\lib\\site-packages\\pandas\\core\\arraylike.py:364: RuntimeWarning: divide by zero encountered in log\n",
      "  result = getattr(ufunc, method)(*inputs, **kwargs)\n",
      "C:\\Users\\vfgtr554\\anaconda3\\envs\\cctv\\lib\\site-packages\\statsmodels\\base\\model.py:606: ConvergenceWarning: Maximum Likelihood optimization failed to converge. Check mle_retvals\n",
      "  ConvergenceWarning)\n"
     ]
    },
    {
     "name": "stdout",
     "output_type": "stream",
     "text": [
      "Predict Finish, 27.5823 27.39 0.9643 0.0348 Evaluation Finish\n",
      "70: Data Load Finish, Predict Finish, 25.8434 25.6118 0.9292 0.0956 Evaluation Finish\n",
      "71: Data Load Finish, Predict Finish, 31.0485 30.8675 1.1166 -0.0865 Evaluation Finish\n",
      "72: Data Load Finish, Predict Finish, 34.041 33.8589 1.2241 -0.1913 Evaluation Finish\n",
      "73: Data Load Finish, Predict Finish, 28.6799 28.4617 1.0314 -0.0037 Evaluation Finish\n",
      "74: Data Load Finish, Predict Finish, 29.2689 29.0905 1.0531 -0.0243 Evaluation Finish\n",
      "75: Data Load Finish, Predict Finish, 17.3822 17.0429 0.6232 0.3917 Evaluation Finish\n",
      "76: Data Load Finish, "
     ]
    },
    {
     "name": "stderr",
     "output_type": "stream",
     "text": [
      "C:\\Users\\vfgtr554\\anaconda3\\envs\\cctv\\lib\\site-packages\\pandas\\core\\arraylike.py:364: RuntimeWarning: divide by zero encountered in log\n",
      "  result = getattr(ufunc, method)(*inputs, **kwargs)\n",
      "C:\\Users\\vfgtr554\\anaconda3\\envs\\cctv\\lib\\site-packages\\statsmodels\\base\\model.py:606: ConvergenceWarning: Maximum Likelihood optimization failed to converge. Check mle_retvals\n",
      "  ConvergenceWarning)\n"
     ]
    },
    {
     "name": "stdout",
     "output_type": "stream",
     "text": [
      "Predict Finish, 27.5823 27.39 0.9643 0.0348 Evaluation Finish\n",
      "77: Data Load Finish, Predict Finish, 3.7743 3.5605 0.1229 0.8679 Evaluation Finish\n",
      "78: Data Load Finish, "
     ]
    },
    {
     "name": "stderr",
     "output_type": "stream",
     "text": [
      "C:\\Users\\vfgtr554\\anaconda3\\envs\\cctv\\lib\\site-packages\\pandas\\core\\arraylike.py:364: RuntimeWarning: divide by zero encountered in log\n",
      "  result = getattr(ufunc, method)(*inputs, **kwargs)\n",
      "C:\\Users\\vfgtr554\\anaconda3\\envs\\cctv\\lib\\site-packages\\statsmodels\\base\\model.py:606: ConvergenceWarning: Maximum Likelihood optimization failed to converge. Check mle_retvals\n",
      "  ConvergenceWarning)\n"
     ]
    },
    {
     "name": "stdout",
     "output_type": "stream",
     "text": [
      "Predict Finish, 27.5823 27.39 0.9643 0.0348 Evaluation Finish\n",
      "79: Data Load Finish, Predict Finish, 4.5409 4.1033 0.1383 0.8411 Evaluation Finish\n",
      "80: Data Load Finish, Predict Finish, 3.2179 2.7648 0.1045 0.8874 Evaluation Finish\n",
      "81: Data Load Finish, Predict Finish, 12.5889 12.163 0.4204 0.5595 Evaluation Finish\n",
      "82: Data Load Finish, Predict Finish, 10.1494 9.5854 0.3567 0.6448 Evaluation Finish\n",
      "83: Data Load Finish, Predict Finish, 3.4909 3.2566 0.1153 0.8778 Evaluation Finish\n",
      "84: Data Load Finish, Predict Finish, 14.7348 14.3411 0.5267 0.4844 Evaluation Finish\n",
      "85: Data Load Finish, "
     ]
    },
    {
     "name": "stderr",
     "output_type": "stream",
     "text": [
      "C:\\Users\\vfgtr554\\anaconda3\\envs\\cctv\\lib\\site-packages\\pandas\\core\\arraylike.py:364: RuntimeWarning: divide by zero encountered in log\n",
      "  result = getattr(ufunc, method)(*inputs, **kwargs)\n",
      "C:\\Users\\vfgtr554\\anaconda3\\envs\\cctv\\lib\\site-packages\\statsmodels\\base\\model.py:606: ConvergenceWarning: Maximum Likelihood optimization failed to converge. Check mle_retvals\n",
      "  ConvergenceWarning)\n"
     ]
    },
    {
     "name": "stdout",
     "output_type": "stream",
     "text": [
      "Predict Finish, 27.5823 27.39 0.9643 0.0348 Evaluation Finish\n",
      "86: Data Load Finish, Predict Finish, 11.4746 10.8498 0.4025 0.5984 Evaluation Finish\n",
      "87: Data Load Finish, Predict Finish, 4.6446 4.0517 0.135 0.8375 Evaluation Finish\n",
      "88: Data Load Finish, Predict Finish, 3.9799 3.0951 0.1211 0.8607 Evaluation Finish\n",
      "89: Data Load Finish, Predict Finish, 3.2954 2.9395 0.1079 0.8847 Evaluation Finish\n",
      "90: Data Load Finish, "
     ]
    },
    {
     "name": "stderr",
     "output_type": "stream",
     "text": [
      "C:\\Users\\vfgtr554\\anaconda3\\envs\\cctv\\lib\\site-packages\\pandas\\core\\arraylike.py:364: RuntimeWarning: divide by zero encountered in log\n",
      "  result = getattr(ufunc, method)(*inputs, **kwargs)\n",
      "C:\\Users\\vfgtr554\\anaconda3\\envs\\cctv\\lib\\site-packages\\statsmodels\\base\\model.py:606: ConvergenceWarning: Maximum Likelihood optimization failed to converge. Check mle_retvals\n",
      "  ConvergenceWarning)\n"
     ]
    },
    {
     "name": "stdout",
     "output_type": "stream",
     "text": [
      "Predict Finish, 27.5823 27.39 0.9643 0.0348 Evaluation Finish\n",
      "91: Data Load Finish, Predict Finish, 10.2998 9.7723 0.3631 0.6396 Evaluation Finish\n",
      "92: Data Load Finish, Predict Finish, 3.6865 3.1265 0.1191 0.871 Evaluation Finish\n",
      "93: Data Load Finish, Predict Finish, 4.0627 3.7013 0.126 0.8578 Evaluation Finish\n",
      "94: Data Load Finish, Predict Finish, 3.5464 2.9414 0.1116 0.8759 Evaluation Finish\n",
      "95: Data Load Finish, Predict Finish, 4.9409 4.1449 0.1366 0.8271 Evaluation Finish\n",
      "96: Data Load Finish, "
     ]
    },
    {
     "name": "stderr",
     "output_type": "stream",
     "text": [
      "C:\\Users\\vfgtr554\\anaconda3\\envs\\cctv\\lib\\site-packages\\pandas\\core\\arraylike.py:364: RuntimeWarning: divide by zero encountered in log\n",
      "  result = getattr(ufunc, method)(*inputs, **kwargs)\n",
      "C:\\Users\\vfgtr554\\anaconda3\\envs\\cctv\\lib\\site-packages\\statsmodels\\base\\model.py:606: ConvergenceWarning: Maximum Likelihood optimization failed to converge. Check mle_retvals\n",
      "  ConvergenceWarning)\n"
     ]
    },
    {
     "name": "stdout",
     "output_type": "stream",
     "text": [
      "Predict Finish, 27.5823 27.39 0.9643 0.0348 Evaluation Finish\n",
      "97: Data Load Finish, Predict Finish, 7.9949 7.1701 0.2709 0.7202 Evaluation Finish\n",
      "98: Data Load Finish, Predict Finish, 4.2581 3.6123 0.1222 0.851 Evaluation Finish\n",
      "99: Data Load Finish, "
     ]
    },
    {
     "name": "stderr",
     "output_type": "stream",
     "text": [
      "C:\\Users\\vfgtr554\\anaconda3\\envs\\cctv\\lib\\site-packages\\pandas\\core\\arraylike.py:364: RuntimeWarning: divide by zero encountered in log\n",
      "  result = getattr(ufunc, method)(*inputs, **kwargs)\n",
      "C:\\Users\\vfgtr554\\anaconda3\\envs\\cctv\\lib\\site-packages\\statsmodels\\base\\model.py:606: ConvergenceWarning: Maximum Likelihood optimization failed to converge. Check mle_retvals\n",
      "  ConvergenceWarning)\n"
     ]
    },
    {
     "name": "stdout",
     "output_type": "stream",
     "text": [
      "Predict Finish, 27.5823 27.39 0.9643 0.0348 Evaluation Finish\n",
      "100: Data Load Finish, Predict Finish, 6.5113 5.6117 0.1866 0.7721 Evaluation Finish\n",
      "101: Data Load Finish, Predict Finish, 7.737 7.0317 0.2649 0.7292 Evaluation Finish\n",
      "102: Data Load Finish, Predict Finish, 11.1973 10.7103 0.3685 0.6082 Evaluation Finish\n",
      "103: Data Load Finish, Predict Finish, 3.3218 2.7021 0.1026 0.8838 Evaluation Finish\n",
      "104: Data Load Finish, Predict Finish, 3.3993 2.7757 0.1 0.881 Evaluation Finish\n",
      "105: Data Load Finish, Predict Finish, 4.6727 3.9275 0.1299 0.8365 Evaluation Finish\n",
      "106: Data Load Finish, Predict Finish, 3.5234 3.2135 0.1128 0.8767 Evaluation Finish\n",
      "107: Data Load Finish, Predict Finish, 6.139 5.1535 0.198 0.7852 Evaluation Finish\n",
      "108: Data Load Finish, "
     ]
    },
    {
     "name": "stderr",
     "output_type": "stream",
     "text": [
      "C:\\Users\\vfgtr554\\anaconda3\\envs\\cctv\\lib\\site-packages\\pandas\\core\\arraylike.py:364: RuntimeWarning: divide by zero encountered in log\n",
      "  result = getattr(ufunc, method)(*inputs, **kwargs)\n",
      "C:\\Users\\vfgtr554\\anaconda3\\envs\\cctv\\lib\\site-packages\\statsmodels\\base\\model.py:606: ConvergenceWarning: Maximum Likelihood optimization failed to converge. Check mle_retvals\n",
      "  ConvergenceWarning)\n",
      "C:\\Users\\vfgtr554\\anaconda3\\envs\\cctv\\lib\\site-packages\\pandas\\core\\arraylike.py:364: RuntimeWarning: divide by zero encountered in log\n",
      "  result = getattr(ufunc, method)(*inputs, **kwargs)\n"
     ]
    },
    {
     "name": "stdout",
     "output_type": "stream",
     "text": [
      "Predict Finish, 27.5823 27.39 0.9643 0.0348 Evaluation Finish\n",
      "109: Data Load Finish, "
     ]
    },
    {
     "name": "stderr",
     "output_type": "stream",
     "text": [
      "C:\\Users\\vfgtr554\\anaconda3\\envs\\cctv\\lib\\site-packages\\statsmodels\\base\\model.py:606: ConvergenceWarning: Maximum Likelihood optimization failed to converge. Check mle_retvals\n",
      "  ConvergenceWarning)\n"
     ]
    },
    {
     "name": "stdout",
     "output_type": "stream",
     "text": [
      "Predict Finish, 27.5823 27.39 0.9643 0.0348 Evaluation Finish\n",
      "110: Data Load Finish, Predict Finish, 3.675 3.4943 0.1214 0.8714 Evaluation Finish\n",
      "111: Data Load Finish, Predict Finish, 3.6641 3.0513 0.1099 0.8718 Evaluation Finish\n",
      "112: Data Load Finish, "
     ]
    },
    {
     "name": "stderr",
     "output_type": "stream",
     "text": [
      "C:\\Users\\vfgtr554\\anaconda3\\envs\\cctv\\lib\\site-packages\\pandas\\core\\arraylike.py:364: RuntimeWarning: divide by zero encountered in log\n",
      "  result = getattr(ufunc, method)(*inputs, **kwargs)\n",
      "C:\\Users\\vfgtr554\\anaconda3\\envs\\cctv\\lib\\site-packages\\statsmodels\\base\\model.py:606: ConvergenceWarning: Maximum Likelihood optimization failed to converge. Check mle_retvals\n",
      "  ConvergenceWarning)\n"
     ]
    },
    {
     "name": "stdout",
     "output_type": "stream",
     "text": [
      "Predict Finish, 27.5823 27.39 0.9643 0.0348 Evaluation Finish\n",
      "113: Data Load Finish, Predict Finish, 5.5227 4.4482 0.1448 0.8067 Evaluation Finish\n",
      "114: Data Load Finish, Predict Finish, 3.4378 3.1933 0.1136 0.8797 Evaluation Finish\n",
      "115: Data Load Finish, Predict Finish, 4.0643 3.7109 0.1263 0.8578 Evaluation Finish\n",
      "116: Data Load Finish, Predict Finish, 6.0919 5.0459 0.1946 0.7868 Evaluation Finish\n",
      "117: Data Load Finish, Predict Finish, 15.8856 15.4936 0.568 0.4441 Evaluation Finish\n",
      "118: Data Load Finish, Predict Finish, 29.997 29.8116 1.0791 -0.0497 Evaluation Finish\n",
      "119: Data Load Finish, Predict Finish, 6.2572 5.3058 0.2037 0.781 Evaluation Finish\n",
      "120: Data Load Finish, Predict Finish, 4.0137 3.6761 0.1253 0.8595 Evaluation Finish\n",
      "121: Data Load Finish, Predict Finish, 5.7269 4.6734 0.1527 0.7996 Evaluation Finish\n",
      "122: Data Load Finish, Predict Finish, 9.1904 8.6202 0.2946 0.6784 Evaluation Finish\n",
      "123: Data Load Finish, Predict Finish, 6.4879 5.6024 0.186 0.773 Evaluation Finish\n",
      "124: Data Load Finish, Predict Finish, 9.4443 8.8444 0.3017 0.6695 Evaluation Finish\n",
      "125: Data Load Finish, Predict Finish, 15.6722 15.331 0.5616 0.4516 Evaluation Finish\n",
      "126: Data Load Finish, Predict Finish, 7.2558 6.5089 0.2186 0.7461 Evaluation Finish\n",
      "127: Data Load Finish, Predict Finish, 7.7303 7.0281 0.2371 0.7295 Evaluation Finish\n",
      "128: Data Load Finish, Predict Finish, 8.368 7.729 0.2622 0.7072 Evaluation Finish\n",
      "129: Data Load Finish, "
     ]
    },
    {
     "name": "stderr",
     "output_type": "stream",
     "text": [
      "C:\\Users\\vfgtr554\\anaconda3\\envs\\cctv\\lib\\site-packages\\pandas\\core\\arraylike.py:364: RuntimeWarning: divide by zero encountered in log\n",
      "  result = getattr(ufunc, method)(*inputs, **kwargs)\n",
      "C:\\Users\\vfgtr554\\anaconda3\\envs\\cctv\\lib\\site-packages\\statsmodels\\base\\model.py:606: ConvergenceWarning: Maximum Likelihood optimization failed to converge. Check mle_retvals\n",
      "  ConvergenceWarning)\n"
     ]
    },
    {
     "name": "stdout",
     "output_type": "stream",
     "text": [
      "Predict Finish, 27.5823 27.39 0.9643 0.0348 Evaluation Finish\n",
      "130: Data Load Finish, Predict Finish, 3.2682 3.1303 0.1131 0.8856 Evaluation Finish\n",
      "131: Data Load Finish, Predict Finish, 3.4528 3.2626 0.1155 0.8792 Evaluation Finish\n",
      "132: Data Load Finish, Predict Finish, 6.4369 5.5619 0.1846 0.7747 Evaluation Finish\n",
      "133: Data Load Finish, Predict Finish, 6.2052 5.3223 0.1766 0.7828 Evaluation Finish\n",
      "134: Data Load Finish, Predict Finish, 10.676 10.1797 0.3497 0.6264 Evaluation Finish\n",
      "135: Data Load Finish, Predict Finish, 8.0861 7.3954 0.25 0.717 Evaluation Finish\n",
      "136: Data Load Finish, Predict Finish, 5.9649 4.9846 0.1639 0.7913 Evaluation Finish\n",
      "137: "
     ]
    },
    {
     "name": "stderr",
     "output_type": "stream",
     "text": [
      "C:\\Users\\vfgtr554\\anaconda3\\envs\\cctv\\lib\\site-packages\\pandas\\core\\arraylike.py:364: RuntimeWarning: divide by zero encountered in log\n",
      "  result = getattr(ufunc, method)(*inputs, **kwargs)\n"
     ]
    },
    {
     "name": "stdout",
     "output_type": "stream",
     "text": [
      "Data Load Finish, "
     ]
    },
    {
     "name": "stderr",
     "output_type": "stream",
     "text": [
      "C:\\Users\\vfgtr554\\anaconda3\\envs\\cctv\\lib\\site-packages\\statsmodels\\base\\model.py:606: ConvergenceWarning: Maximum Likelihood optimization failed to converge. Check mle_retvals\n",
      "  ConvergenceWarning)\n"
     ]
    },
    {
     "name": "stdout",
     "output_type": "stream",
     "text": [
      "Predict Finish, 27.5823 27.39 0.9643 0.0348 Evaluation Finish\n",
      "138: Data Load Finish, Predict Finish, 4.5706 3.9164 0.1305 0.8401 Evaluation Finish\n",
      "139: Data Load Finish, "
     ]
    },
    {
     "name": "stderr",
     "output_type": "stream",
     "text": [
      "C:\\Users\\vfgtr554\\anaconda3\\envs\\cctv\\lib\\site-packages\\pandas\\core\\arraylike.py:364: RuntimeWarning: divide by zero encountered in log\n",
      "  result = getattr(ufunc, method)(*inputs, **kwargs)\n",
      "C:\\Users\\vfgtr554\\anaconda3\\envs\\cctv\\lib\\site-packages\\statsmodels\\base\\model.py:606: ConvergenceWarning: Maximum Likelihood optimization failed to converge. Check mle_retvals\n",
      "  ConvergenceWarning)\n"
     ]
    },
    {
     "name": "stdout",
     "output_type": "stream",
     "text": [
      "Predict Finish, 27.5823 27.39 0.9643 0.0348 Evaluation Finish\n",
      "140: Data Load Finish, Predict Finish, 3.9605 3.6901 0.1262 0.8614 Evaluation Finish\n",
      "141: Data Load Finish, Predict Finish, 6.8009 6.0156 0.2012 0.762 Evaluation Finish\n",
      "142: Data Load Finish, Predict Finish, 4.7123 3.9129 0.1511 0.8351 Evaluation Finish\n",
      "143: Data Load Finish, "
     ]
    },
    {
     "name": "stderr",
     "output_type": "stream",
     "text": [
      "C:\\Users\\vfgtr554\\anaconda3\\envs\\cctv\\lib\\site-packages\\pandas\\core\\arraylike.py:364: RuntimeWarning: divide by zero encountered in log\n",
      "  result = getattr(ufunc, method)(*inputs, **kwargs)\n",
      "C:\\Users\\vfgtr554\\anaconda3\\envs\\cctv\\lib\\site-packages\\statsmodels\\base\\model.py:606: ConvergenceWarning: Maximum Likelihood optimization failed to converge. Check mle_retvals\n",
      "  ConvergenceWarning)\n",
      "C:\\Users\\vfgtr554\\anaconda3\\envs\\cctv\\lib\\site-packages\\pandas\\core\\arraylike.py:364: RuntimeWarning: divide by zero encountered in log\n",
      "  result = getattr(ufunc, method)(*inputs, **kwargs)\n"
     ]
    },
    {
     "name": "stdout",
     "output_type": "stream",
     "text": [
      "Predict Finish, 27.5823 27.39 0.9643 0.0348 Evaluation Finish\n",
      "144: Data Load Finish, "
     ]
    },
    {
     "name": "stderr",
     "output_type": "stream",
     "text": [
      "C:\\Users\\vfgtr554\\anaconda3\\envs\\cctv\\lib\\site-packages\\statsmodels\\base\\model.py:606: ConvergenceWarning: Maximum Likelihood optimization failed to converge. Check mle_retvals\n",
      "  ConvergenceWarning)\n"
     ]
    },
    {
     "name": "stdout",
     "output_type": "stream",
     "text": [
      "Predict Finish, 27.5823 27.39 0.9643 0.0348 Evaluation Finish\n",
      "145: Data Load Finish, Predict Finish, 31.7326 31.5621 1.1415 -0.1105 Evaluation Finish\n",
      "146: Data Load Finish, Predict Finish, 4.4606 3.4433 0.1353 0.8439 Evaluation Finish\n",
      "147: Data Load Finish, Predict Finish, 4.8999 3.6904 0.1457 0.8285 Evaluation Finish\n",
      "148: Data Load Finish, Predict Finish, 7.0857 6.2458 0.2088 0.752 Evaluation Finish\n",
      "149: Data Load Finish, Predict Finish, 4.6052 3.8987 0.13 0.8388 Evaluation Finish\n",
      "150: Data Load Finish, "
     ]
    },
    {
     "name": "stderr",
     "output_type": "stream",
     "text": [
      "C:\\Users\\vfgtr554\\anaconda3\\envs\\cctv\\lib\\site-packages\\pandas\\core\\arraylike.py:364: RuntimeWarning: divide by zero encountered in log\n",
      "  result = getattr(ufunc, method)(*inputs, **kwargs)\n",
      "C:\\Users\\vfgtr554\\anaconda3\\envs\\cctv\\lib\\site-packages\\statsmodels\\base\\model.py:606: ConvergenceWarning: Maximum Likelihood optimization failed to converge. Check mle_retvals\n",
      "  ConvergenceWarning)\n",
      "C:\\Users\\vfgtr554\\anaconda3\\envs\\cctv\\lib\\site-packages\\pandas\\core\\arraylike.py:364: RuntimeWarning: divide by zero encountered in log\n",
      "  result = getattr(ufunc, method)(*inputs, **kwargs)\n"
     ]
    },
    {
     "name": "stdout",
     "output_type": "stream",
     "text": [
      "Predict Finish, 27.5823 27.39 0.9643 0.0348 Evaluation Finish\n",
      "151: Data Load Finish, "
     ]
    },
    {
     "name": "stderr",
     "output_type": "stream",
     "text": [
      "C:\\Users\\vfgtr554\\anaconda3\\envs\\cctv\\lib\\site-packages\\statsmodels\\base\\model.py:606: ConvergenceWarning: Maximum Likelihood optimization failed to converge. Check mle_retvals\n",
      "  ConvergenceWarning)\n"
     ]
    },
    {
     "name": "stdout",
     "output_type": "stream",
     "text": [
      "Predict Finish, 27.5823 27.39 0.9643 0.0348 Evaluation Finish\n",
      "152: Data Load Finish, Predict Finish, 8.0138 7.3333 0.2482 0.7196 Evaluation Finish\n",
      "153: Data Load Finish, "
     ]
    },
    {
     "name": "stderr",
     "output_type": "stream",
     "text": [
      "C:\\Users\\vfgtr554\\anaconda3\\envs\\cctv\\lib\\site-packages\\pandas\\core\\arraylike.py:364: RuntimeWarning: divide by zero encountered in log\n",
      "  result = getattr(ufunc, method)(*inputs, **kwargs)\n",
      "C:\\Users\\vfgtr554\\anaconda3\\envs\\cctv\\lib\\site-packages\\statsmodels\\base\\model.py:606: ConvergenceWarning: Maximum Likelihood optimization failed to converge. Check mle_retvals\n",
      "  ConvergenceWarning)\n",
      "C:\\Users\\vfgtr554\\anaconda3\\envs\\cctv\\lib\\site-packages\\pandas\\core\\arraylike.py:364: RuntimeWarning: divide by zero encountered in log\n",
      "  result = getattr(ufunc, method)(*inputs, **kwargs)\n"
     ]
    },
    {
     "name": "stdout",
     "output_type": "stream",
     "text": [
      "Predict Finish, 27.5823 27.39 0.9643 0.0348 Evaluation Finish\n",
      "154: Data Load Finish, "
     ]
    },
    {
     "name": "stderr",
     "output_type": "stream",
     "text": [
      "C:\\Users\\vfgtr554\\anaconda3\\envs\\cctv\\lib\\site-packages\\statsmodels\\base\\model.py:606: ConvergenceWarning: Maximum Likelihood optimization failed to converge. Check mle_retvals\n",
      "  ConvergenceWarning)\n",
      "C:\\Users\\vfgtr554\\anaconda3\\envs\\cctv\\lib\\site-packages\\pandas\\core\\arraylike.py:364: RuntimeWarning: divide by zero encountered in log\n",
      "  result = getattr(ufunc, method)(*inputs, **kwargs)\n"
     ]
    },
    {
     "name": "stdout",
     "output_type": "stream",
     "text": [
      "Predict Finish, 27.5823 27.39 0.9643 0.0348 Evaluation Finish\n",
      "155: Data Load Finish, "
     ]
    },
    {
     "name": "stderr",
     "output_type": "stream",
     "text": [
      "C:\\Users\\vfgtr554\\anaconda3\\envs\\cctv\\lib\\site-packages\\statsmodels\\base\\model.py:606: ConvergenceWarning: Maximum Likelihood optimization failed to converge. Check mle_retvals\n",
      "  ConvergenceWarning)\n"
     ]
    },
    {
     "name": "stdout",
     "output_type": "stream",
     "text": [
      "Predict Finish, 27.5823 27.39 0.9643 0.0348 Evaluation Finish\n",
      "156: Data Load Finish, Predict Finish, 5.4247 4.4494 0.1455 0.8102 Evaluation Finish\n",
      "157: Data Load Finish, Predict Finish, 6.8497 6.0321 0.2014 0.7603 Evaluation Finish\n",
      "158: Data Load Finish, "
     ]
    },
    {
     "name": "stderr",
     "output_type": "stream",
     "text": [
      "C:\\Users\\vfgtr554\\anaconda3\\envs\\cctv\\lib\\site-packages\\pandas\\core\\arraylike.py:364: RuntimeWarning: divide by zero encountered in log\n",
      "  result = getattr(ufunc, method)(*inputs, **kwargs)\n",
      "C:\\Users\\vfgtr554\\anaconda3\\envs\\cctv\\lib\\site-packages\\statsmodels\\base\\model.py:606: ConvergenceWarning: Maximum Likelihood optimization failed to converge. Check mle_retvals\n",
      "  ConvergenceWarning)\n",
      "C:\\Users\\vfgtr554\\anaconda3\\envs\\cctv\\lib\\site-packages\\pandas\\core\\arraylike.py:364: RuntimeWarning: divide by zero encountered in log\n",
      "  result = getattr(ufunc, method)(*inputs, **kwargs)\n"
     ]
    },
    {
     "name": "stdout",
     "output_type": "stream",
     "text": [
      "Predict Finish, 27.5823 27.39 0.9643 0.0348 Evaluation Finish\n",
      "159: Data Load Finish, "
     ]
    },
    {
     "name": "stderr",
     "output_type": "stream",
     "text": [
      "C:\\Users\\vfgtr554\\anaconda3\\envs\\cctv\\lib\\site-packages\\statsmodels\\base\\model.py:606: ConvergenceWarning: Maximum Likelihood optimization failed to converge. Check mle_retvals\n",
      "  ConvergenceWarning)\n"
     ]
    },
    {
     "name": "stdout",
     "output_type": "stream",
     "text": [
      "Predict Finish, 27.5823 27.39 0.9643 0.0348 Evaluation Finish\n",
      "160: Data Load Finish, Predict Finish, 4.4392 3.8341 0.1284 0.8447 Evaluation Finish\n",
      "161: Data Load Finish, Predict Finish, 5.5424 4.4802 0.1459 0.806 Evaluation Finish\n",
      "162: Data Load Finish, "
     ]
    },
    {
     "name": "stderr",
     "output_type": "stream",
     "text": [
      "C:\\Users\\vfgtr554\\anaconda3\\envs\\cctv\\lib\\site-packages\\pandas\\core\\arraylike.py:364: RuntimeWarning: divide by zero encountered in log\n",
      "  result = getattr(ufunc, method)(*inputs, **kwargs)\n",
      "C:\\Users\\vfgtr554\\anaconda3\\envs\\cctv\\lib\\site-packages\\statsmodels\\base\\model.py:606: ConvergenceWarning: Maximum Likelihood optimization failed to converge. Check mle_retvals\n",
      "  ConvergenceWarning)\n",
      "C:\\Users\\vfgtr554\\anaconda3\\envs\\cctv\\lib\\site-packages\\pandas\\core\\arraylike.py:364: RuntimeWarning: divide by zero encountered in log\n",
      "  result = getattr(ufunc, method)(*inputs, **kwargs)\n"
     ]
    },
    {
     "name": "stdout",
     "output_type": "stream",
     "text": [
      "Predict Finish, 27.5823 27.39 0.9643 0.0348 Evaluation Finish\n",
      "163: Data Load Finish, "
     ]
    },
    {
     "name": "stderr",
     "output_type": "stream",
     "text": [
      "C:\\Users\\vfgtr554\\anaconda3\\envs\\cctv\\lib\\site-packages\\statsmodels\\base\\model.py:606: ConvergenceWarning: Maximum Likelihood optimization failed to converge. Check mle_retvals\n",
      "  ConvergenceWarning)\n"
     ]
    },
    {
     "name": "stdout",
     "output_type": "stream",
     "text": [
      "Predict Finish, 27.5823 27.39 0.9643 0.0348 Evaluation Finish\n",
      "164: Data Load Finish, Predict Finish, 4.2899 3.8723 0.1306 0.8499 Evaluation Finish\n",
      "165: Data Load Finish, Predict Finish, 3.9437 3.13 0.1218 0.862 Evaluation Finish\n",
      "166: Data Load Finish, Predict Finish, 14.5147 14.1208 0.5188 0.4921 Evaluation Finish\n",
      "167: Data Load Finish, Predict Finish, 14.3389 13.9457 0.5124 0.4982 Evaluation Finish\n",
      "168: Data Load Finish, Predict Finish, 27.3571 27.1495 0.9841 0.0426 Evaluation Finish\n",
      "169: Data Load Finish, "
     ]
    },
    {
     "name": "stderr",
     "output_type": "stream",
     "text": [
      "C:\\Users\\vfgtr554\\anaconda3\\envs\\cctv\\lib\\site-packages\\statsmodels\\base\\model.py:606: ConvergenceWarning: Maximum Likelihood optimization failed to converge. Check mle_retvals\n",
      "  ConvergenceWarning)\n"
     ]
    },
    {
     "name": "stdout",
     "output_type": "stream",
     "text": [
      "Predict Finish, 15.8095 15.4315 0.5658 0.4467 Evaluation Finish\n",
      "170: Data Load Finish, Predict Finish, 6.2121 5.294 0.175 0.7826 Evaluation Finish\n",
      "171: Data Load Finish, Predict Finish, 7.5918 6.8006 0.2573 0.7343 Evaluation Finish\n",
      "172: Data Load Finish, Predict Finish, 3.4426 3.0314 0.1097 0.8795 Evaluation Finish\n",
      "173: Data Load Finish, Predict Finish, 3.3502 2.8186 0.1047 0.8828 Evaluation Finish\n",
      "174: Data Load Finish, Predict Finish, 3.4674 2.879 0.1094 0.8787 Evaluation Finish\n",
      "175: Data Load Finish, Predict Finish, 8.7972 8.087 0.3022 0.6921 Evaluation Finish\n",
      "176: Data Load Finish, Predict Finish, 9.704 9.1599 0.3133 0.6604 Evaluation Finish\n",
      "177: Data Load Finish, Predict Finish, 18.2238 17.9074 0.6539 0.3623 Evaluation Finish\n",
      "178: Data Load Finish, Predict Finish, 3.5017 3.2639 0.1154 0.8775 Evaluation Finish\n",
      "179: Data Load Finish, Predict Finish, 3.5261 2.8202 0.1083 0.8766 Evaluation Finish\n",
      "180: Data Load Finish, Predict Finish, 18.144 17.8119 0.6506 0.3651 Evaluation Finish\n",
      "181: Data Load Finish, Predict Finish, 7.2176 6.4022 0.2146 0.7474 Evaluation Finish\n",
      "182: Data Load Finish, Predict Finish, 4.9423 4.1015 0.135 0.827 Evaluation Finish\n",
      "183: Data Load Finish, "
     ]
    },
    {
     "name": "stderr",
     "output_type": "stream",
     "text": [
      "C:\\Users\\vfgtr554\\anaconda3\\envs\\cctv\\lib\\site-packages\\pandas\\core\\arraylike.py:364: RuntimeWarning: divide by zero encountered in log\n",
      "  result = getattr(ufunc, method)(*inputs, **kwargs)\n",
      "C:\\Users\\vfgtr554\\anaconda3\\envs\\cctv\\lib\\site-packages\\statsmodels\\base\\model.py:606: ConvergenceWarning: Maximum Likelihood optimization failed to converge. Check mle_retvals\n",
      "  ConvergenceWarning)\n"
     ]
    },
    {
     "name": "stdout",
     "output_type": "stream",
     "text": [
      "Predict Finish, 27.5823 27.39 0.9643 0.0348 Evaluation Finish\n",
      "184: Data Load Finish, Predict Finish, 4.0616 3.6609 0.1243 0.8579 Evaluation Finish\n",
      "185: Data Load Finish, Predict Finish, 3.8257 3.2805 0.1137 0.8661 Evaluation Finish\n",
      "186: Data Load Finish, "
     ]
    },
    {
     "name": "stderr",
     "output_type": "stream",
     "text": [
      "C:\\Users\\vfgtr554\\anaconda3\\envs\\cctv\\lib\\site-packages\\pandas\\core\\arraylike.py:364: RuntimeWarning: divide by zero encountered in log\n",
      "  result = getattr(ufunc, method)(*inputs, **kwargs)\n",
      "C:\\Users\\vfgtr554\\anaconda3\\envs\\cctv\\lib\\site-packages\\statsmodels\\base\\model.py:606: ConvergenceWarning: Maximum Likelihood optimization failed to converge. Check mle_retvals\n",
      "  ConvergenceWarning)\n"
     ]
    },
    {
     "name": "stdout",
     "output_type": "stream",
     "text": [
      "Predict Finish, 27.5823 27.39 0.9643 0.0348 Evaluation Finish\n",
      "187: Data Load Finish, Predict Finish, 4.3514 3.7502 0.1258 0.8477 Evaluation Finish\n",
      "188: Data Load Finish, Predict Finish, 3.3606 3.1436 0.1122 0.8824 Evaluation Finish\n",
      "189: Data Load Finish, Predict Finish, 3.8296 3.5021 0.1305 0.866 Evaluation Finish\n",
      "190: Data Load Finish, Predict Finish, 6.5451 5.6894 0.1892 0.771 Evaluation Finish\n",
      "191: Data Load Finish, Predict Finish, 3.6566 3.1213 0.118 0.872 Evaluation Finish\n",
      "192: Data Load Finish, Predict Finish, 6.063 5.0577 0.1664 0.7878 Evaluation Finish\n",
      "193: Data Load Finish, Predict Finish, 14.4799 14.1115 0.49 0.4933 Evaluation Finish\n",
      "194: Data Load Finish, Predict Finish, 4.1705 3.7172 0.126 0.8541 Evaluation Finish\n",
      "195: Data Load Finish, Predict Finish, 3.9701 3.6602 0.1252 0.8611 Evaluation Finish\n",
      "196: Data Load Finish, "
     ]
    },
    {
     "name": "stderr",
     "output_type": "stream",
     "text": [
      "C:\\Users\\vfgtr554\\anaconda3\\envs\\cctv\\lib\\site-packages\\statsmodels\\base\\model.py:606: ConvergenceWarning: Maximum Likelihood optimization failed to converge. Check mle_retvals\n",
      "  ConvergenceWarning)\n",
      "C:\\Users\\vfgtr554\\anaconda3\\envs\\cctv\\lib\\site-packages\\pandas\\core\\arraylike.py:364: RuntimeWarning: divide by zero encountered in log\n",
      "  result = getattr(ufunc, method)(*inputs, **kwargs)\n"
     ]
    },
    {
     "name": "stdout",
     "output_type": "stream",
     "text": [
      "Predict Finish, 6.4274 5.5344 0.1836 0.7751 Evaluation Finish\n",
      "197: Data Load Finish, "
     ]
    },
    {
     "name": "stderr",
     "output_type": "stream",
     "text": [
      "C:\\Users\\vfgtr554\\anaconda3\\envs\\cctv\\lib\\site-packages\\statsmodels\\base\\model.py:606: ConvergenceWarning: Maximum Likelihood optimization failed to converge. Check mle_retvals\n",
      "  ConvergenceWarning)\n"
     ]
    },
    {
     "name": "stdout",
     "output_type": "stream",
     "text": [
      "Predict Finish, 27.5823 27.39 0.9643 0.0348 Evaluation Finish\n",
      "198: Data Load Finish, Predict Finish, 6.4149 5.5823 0.1858 0.7755 Evaluation Finish\n",
      "199: Data Load Finish, Predict Finish, 9.2142 8.6462 0.295 0.6775 Evaluation Finish\n",
      "200: Data Load Finish, Predict Finish, 3.6508 3.4467 0.1199 0.8722 Evaluation Finish\n",
      "201: Data Load Finish, Predict Finish, 6.9948 6.2109 0.2079 0.7552 Evaluation Finish\n",
      "202: "
     ]
    },
    {
     "name": "stderr",
     "output_type": "stream",
     "text": [
      "C:\\Users\\vfgtr554\\anaconda3\\envs\\cctv\\lib\\site-packages\\pandas\\core\\arraylike.py:364: RuntimeWarning: divide by zero encountered in log\n",
      "  result = getattr(ufunc, method)(*inputs, **kwargs)\n"
     ]
    },
    {
     "name": "stdout",
     "output_type": "stream",
     "text": [
      "Data Load Finish, "
     ]
    },
    {
     "name": "stderr",
     "output_type": "stream",
     "text": [
      "C:\\Users\\vfgtr554\\anaconda3\\envs\\cctv\\lib\\site-packages\\statsmodels\\base\\model.py:606: ConvergenceWarning: Maximum Likelihood optimization failed to converge. Check mle_retvals\n",
      "  ConvergenceWarning)\n"
     ]
    },
    {
     "name": "stdout",
     "output_type": "stream",
     "text": [
      "Predict Finish, 27.5823 27.39 0.9643 0.0348 Evaluation Finish\n",
      "203: Data Load Finish, Predict Finish, 10.7845 10.2732 0.3528 0.6226 Evaluation Finish\n",
      "204: Data Load Finish, Predict Finish, 5.0883 4.057 0.1324 0.8219 Evaluation Finish\n",
      "205: Data Load Finish, Predict Finish, 7.5574 6.7925 0.2284 0.7355 Evaluation Finish\n",
      "206: Data Load Finish, Predict Finish, 9.2515 8.5609 0.2913 0.6762 Evaluation Finish\n",
      "207: Data Load Finish, Predict Finish, 5.7427 4.6923 0.1537 0.799 Evaluation Finish\n",
      "208: Data Load Finish, Predict Finish, 11.899 11.451 0.395 0.5836 Evaluation Finish\n",
      "209: Data Load Finish, Predict Finish, 4.7849 3.5314 0.1401 0.8326 Evaluation Finish\n",
      "210: Data Load Finish, Predict Finish, 3.3532 2.7721 0.1038 0.8827 Evaluation Finish\n",
      "211: Data Load Finish, Predict Finish, 7.8018 7.0054 0.2648 0.727 Evaluation Finish\n",
      "212: Data Load Finish, Predict Finish, 3.4039 2.687 0.1019 0.8809 Evaluation Finish\n",
      "213: Data Load Finish, Predict Finish, 16.7133 16.3163 0.5975 0.4151 Evaluation Finish\n",
      "214: Data Load Finish, Predict Finish, 13.5307 13.142 0.4555 0.5265 Evaluation Finish\n",
      "215: Data Load Finish, Predict Finish, 7.8496 7.1481 0.2413 0.7253 Evaluation Finish\n",
      "216: Data Load Finish, Predict Finish, 3.821 3.6014 0.124 0.8663 Evaluation Finish\n",
      "217: Data Load Finish, Predict Finish, 16.0229 15.6634 0.5738 0.4393 Evaluation Finish\n",
      "218: Data Load Finish, Predict Finish, 3.8962 3.5908 0.1233 0.8637 Evaluation Finish\n",
      "219: Data Load Finish, Predict Finish, 6.5181 5.623 0.215 0.7719 Evaluation Finish\n",
      "220: Data Load Finish, "
     ]
    },
    {
     "name": "stderr",
     "output_type": "stream",
     "text": [
      "C:\\Users\\vfgtr554\\anaconda3\\envs\\cctv\\lib\\site-packages\\pandas\\core\\arraylike.py:364: RuntimeWarning: divide by zero encountered in log\n",
      "  result = getattr(ufunc, method)(*inputs, **kwargs)\n",
      "C:\\Users\\vfgtr554\\anaconda3\\envs\\cctv\\lib\\site-packages\\statsmodels\\base\\model.py:606: ConvergenceWarning: Maximum Likelihood optimization failed to converge. Check mle_retvals\n",
      "  ConvergenceWarning)\n"
     ]
    },
    {
     "name": "stdout",
     "output_type": "stream",
     "text": [
      "Predict Finish, 27.5823 27.39 0.9643 0.0348 Evaluation Finish\n",
      "221: Data Load Finish, "
     ]
    },
    {
     "name": "stderr",
     "output_type": "stream",
     "text": [
      "C:\\Users\\vfgtr554\\anaconda3\\envs\\cctv\\lib\\site-packages\\statsmodels\\base\\model.py:606: ConvergenceWarning: Maximum Likelihood optimization failed to converge. Check mle_retvals\n",
      "  ConvergenceWarning)\n"
     ]
    },
    {
     "name": "stdout",
     "output_type": "stream",
     "text": [
      "Predict Finish, 3.1934 3.0489 0.1116 0.8882 Evaluation Finish\n",
      "222: Data Load Finish, Predict Finish, 4.9189 4.1804 0.1382 0.8279 Evaluation Finish\n",
      "223: Data Load Finish, Predict Finish, 3.5563 3.0033 0.1133 0.8755 Evaluation Finish\n",
      "224: Data Load Finish, "
     ]
    },
    {
     "name": "stderr",
     "output_type": "stream",
     "text": [
      "C:\\Users\\vfgtr554\\anaconda3\\envs\\cctv\\lib\\site-packages\\pandas\\core\\arraylike.py:364: RuntimeWarning: divide by zero encountered in log\n",
      "  result = getattr(ufunc, method)(*inputs, **kwargs)\n",
      "C:\\Users\\vfgtr554\\anaconda3\\envs\\cctv\\lib\\site-packages\\statsmodels\\base\\model.py:606: ConvergenceWarning: Maximum Likelihood optimization failed to converge. Check mle_retvals\n",
      "  ConvergenceWarning)\n",
      "C:\\Users\\vfgtr554\\anaconda3\\envs\\cctv\\lib\\site-packages\\pandas\\core\\arraylike.py:364: RuntimeWarning: divide by zero encountered in log\n",
      "  result = getattr(ufunc, method)(*inputs, **kwargs)\n"
     ]
    },
    {
     "name": "stdout",
     "output_type": "stream",
     "text": [
      "Predict Finish, 27.5823 27.39 0.9643 0.0348 Evaluation Finish\n",
      "225: Data Load Finish, "
     ]
    },
    {
     "name": "stderr",
     "output_type": "stream",
     "text": [
      "C:\\Users\\vfgtr554\\anaconda3\\envs\\cctv\\lib\\site-packages\\statsmodels\\base\\model.py:606: ConvergenceWarning: Maximum Likelihood optimization failed to converge. Check mle_retvals\n",
      "  ConvergenceWarning)\n"
     ]
    },
    {
     "name": "stdout",
     "output_type": "stream",
     "text": [
      "Predict Finish, 27.5823 27.39 0.9643 0.0348 Evaluation Finish\n",
      "226: Data Load Finish, Predict Finish, 6.2287 5.6084 0.2103 0.782 Evaluation Finish\n",
      "227: Data Load Finish, "
     ]
    },
    {
     "name": "stderr",
     "output_type": "stream",
     "text": [
      "C:\\Users\\vfgtr554\\anaconda3\\envs\\cctv\\lib\\site-packages\\pandas\\core\\arraylike.py:364: RuntimeWarning: divide by zero encountered in log\n",
      "  result = getattr(ufunc, method)(*inputs, **kwargs)\n",
      "C:\\Users\\vfgtr554\\anaconda3\\envs\\cctv\\lib\\site-packages\\statsmodels\\base\\model.py:606: ConvergenceWarning: Maximum Likelihood optimization failed to converge. Check mle_retvals\n",
      "  ConvergenceWarning)\n"
     ]
    },
    {
     "name": "stdout",
     "output_type": "stream",
     "text": [
      "Predict Finish, 27.5823 27.39 0.9643 0.0348 Evaluation Finish\n",
      "228: Data Load Finish, Predict Finish, 5.7267 4.693 0.1535 0.7996 Evaluation Finish\n",
      "229: Data Load Finish, Predict Finish, 13.4071 13.0067 0.4786 0.5308 Evaluation Finish\n",
      "230: Data Load Finish, Predict Finish, 3.8569 3.2338 0.1102 0.865 Evaluation Finish\n",
      "231: Data Load Finish, Predict Finish, 3.4254 2.8779 0.1022 0.8801 Evaluation Finish\n",
      "232: Data Load Finish, "
     ]
    },
    {
     "name": "stderr",
     "output_type": "stream",
     "text": [
      "C:\\Users\\vfgtr554\\anaconda3\\envs\\cctv\\lib\\site-packages\\pandas\\core\\arraylike.py:364: RuntimeWarning: divide by zero encountered in log\n",
      "  result = getattr(ufunc, method)(*inputs, **kwargs)\n",
      "C:\\Users\\vfgtr554\\anaconda3\\envs\\cctv\\lib\\site-packages\\statsmodels\\base\\model.py:606: ConvergenceWarning: Maximum Likelihood optimization failed to converge. Check mle_retvals\n",
      "  ConvergenceWarning)\n"
     ]
    },
    {
     "name": "stdout",
     "output_type": "stream",
     "text": [
      "Predict Finish, 27.5823 27.39 0.9643 0.0348 Evaluation Finish\n",
      "233: Data Load Finish, Predict Finish, 4.7486 4.1898 0.14 0.8338 Evaluation Finish\n",
      "234: Data Load Finish, Predict Finish, 3.5629 3.1509 0.1148 0.8753 Evaluation Finish\n",
      "235: Data Load Finish, "
     ]
    },
    {
     "name": "stderr",
     "output_type": "stream",
     "text": [
      "C:\\Users\\vfgtr554\\anaconda3\\envs\\cctv\\lib\\site-packages\\pandas\\core\\arraylike.py:364: RuntimeWarning: divide by zero encountered in log\n",
      "  result = getattr(ufunc, method)(*inputs, **kwargs)\n",
      "C:\\Users\\vfgtr554\\anaconda3\\envs\\cctv\\lib\\site-packages\\statsmodels\\base\\model.py:606: ConvergenceWarning: Maximum Likelihood optimization failed to converge. Check mle_retvals\n",
      "  ConvergenceWarning)\n"
     ]
    },
    {
     "name": "stdout",
     "output_type": "stream",
     "text": [
      "Predict Finish, 27.5823 27.39 0.9643 0.0348 Evaluation Finish\n",
      "236: Data Load Finish, Predict Finish, 4.4199 3.742 0.1252 0.8453 Evaluation Finish\n",
      "237: Data Load Finish, Predict Finish, 5.1409 4.0714 0.1326 0.8201 Evaluation Finish\n",
      "238: Data Load Finish, Predict Finish, 5.6678 4.5956 0.15 0.8017 Evaluation Finish\n",
      "239: Data Load Finish, Predict Finish, 4.49 3.9499 0.1321 0.8429 Evaluation Finish\n",
      "240: Data Load Finish, Predict Finish, 4.0365 3.5585 0.1349 0.8587 Evaluation Finish\n",
      "241: Data Load Finish, Predict Finish, 4.577 3.9995 0.1334 0.8398 Evaluation Finish\n",
      "242: Data Load Finish, Predict Finish, 6.2354 5.333 0.1765 0.7818 Evaluation Finish\n",
      "243: Data Load Finish, "
     ]
    },
    {
     "name": "stderr",
     "output_type": "stream",
     "text": [
      "C:\\Users\\vfgtr554\\anaconda3\\envs\\cctv\\lib\\site-packages\\pandas\\core\\arraylike.py:364: RuntimeWarning: divide by zero encountered in log\n",
      "  result = getattr(ufunc, method)(*inputs, **kwargs)\n",
      "C:\\Users\\vfgtr554\\anaconda3\\envs\\cctv\\lib\\site-packages\\statsmodels\\base\\model.py:606: ConvergenceWarning: Maximum Likelihood optimization failed to converge. Check mle_retvals\n",
      "  ConvergenceWarning)\n"
     ]
    },
    {
     "name": "stdout",
     "output_type": "stream",
     "text": [
      "Predict Finish, 27.5823 27.39 0.9643 0.0348 Evaluation Finish\n",
      "244: Data Load Finish, Predict Finish, 10.1053 9.5403 0.3268 0.6464 Evaluation Finish\n",
      "245: Data Load Finish, Predict Finish, 11.2931 10.7697 0.3708 0.6048 Evaluation Finish\n",
      "246: Data Load Finish, Predict Finish, 14.4062 14.0421 0.4876 0.4959 Evaluation Finish\n",
      "247: Data Load Finish, "
     ]
    },
    {
     "name": "stderr",
     "output_type": "stream",
     "text": [
      "C:\\Users\\vfgtr554\\anaconda3\\envs\\cctv\\lib\\site-packages\\pandas\\core\\arraylike.py:364: RuntimeWarning: divide by zero encountered in log\n",
      "  result = getattr(ufunc, method)(*inputs, **kwargs)\n",
      "C:\\Users\\vfgtr554\\anaconda3\\envs\\cctv\\lib\\site-packages\\statsmodels\\base\\model.py:606: ConvergenceWarning: Maximum Likelihood optimization failed to converge. Check mle_retvals\n",
      "  ConvergenceWarning)\n",
      "C:\\Users\\vfgtr554\\anaconda3\\envs\\cctv\\lib\\site-packages\\pandas\\core\\arraylike.py:364: RuntimeWarning: divide by zero encountered in log\n",
      "  result = getattr(ufunc, method)(*inputs, **kwargs)\n"
     ]
    },
    {
     "name": "stdout",
     "output_type": "stream",
     "text": [
      "Predict Finish, 27.5823 27.39 0.9643 0.0348 Evaluation Finish\n",
      "248: Data Load Finish, "
     ]
    },
    {
     "name": "stderr",
     "output_type": "stream",
     "text": [
      "C:\\Users\\vfgtr554\\anaconda3\\envs\\cctv\\lib\\site-packages\\statsmodels\\base\\model.py:606: ConvergenceWarning: Maximum Likelihood optimization failed to converge. Check mle_retvals\n",
      "  ConvergenceWarning)\n",
      "C:\\Users\\vfgtr554\\anaconda3\\envs\\cctv\\lib\\site-packages\\pandas\\core\\arraylike.py:364: RuntimeWarning: divide by zero encountered in log\n",
      "  result = getattr(ufunc, method)(*inputs, **kwargs)\n"
     ]
    },
    {
     "name": "stdout",
     "output_type": "stream",
     "text": [
      "Predict Finish, 27.5823 27.39 0.9643 0.0348 Evaluation Finish\n",
      "249: Data Load Finish, "
     ]
    },
    {
     "name": "stderr",
     "output_type": "stream",
     "text": [
      "C:\\Users\\vfgtr554\\anaconda3\\envs\\cctv\\lib\\site-packages\\statsmodels\\base\\model.py:606: ConvergenceWarning: Maximum Likelihood optimization failed to converge. Check mle_retvals\n",
      "  ConvergenceWarning)\n"
     ]
    },
    {
     "name": "stdout",
     "output_type": "stream",
     "text": [
      "Predict Finish, 27.5823 27.39 0.9643 0.0348 Evaluation Finish\n",
      "250: Data Load Finish, Predict Finish, 10.9314 10.4425 0.3591 0.6175 Evaluation Finish\n",
      "251: Data Load Finish, Predict Finish, 11.8338 11.3606 0.3916 0.5859 Evaluation Finish\n",
      "252: Data Load Finish, Predict Finish, 3.3318 3.2514 0.1173 0.8834 Evaluation Finish\n",
      "253: Data Load Finish, Predict Finish, 7.4383 6.6354 0.2229 0.7397 Evaluation Finish\n",
      "254: Data Load Finish, "
     ]
    },
    {
     "name": "stderr",
     "output_type": "stream",
     "text": [
      "C:\\Users\\vfgtr554\\anaconda3\\envs\\cctv\\lib\\site-packages\\pandas\\core\\arraylike.py:364: RuntimeWarning: divide by zero encountered in log\n",
      "  result = getattr(ufunc, method)(*inputs, **kwargs)\n",
      "C:\\Users\\vfgtr554\\anaconda3\\envs\\cctv\\lib\\site-packages\\statsmodels\\base\\model.py:606: ConvergenceWarning: Maximum Likelihood optimization failed to converge. Check mle_retvals\n",
      "  ConvergenceWarning)\n"
     ]
    },
    {
     "name": "stdout",
     "output_type": "stream",
     "text": [
      "Predict Finish, 27.5823 27.39 0.9643 0.0348 Evaluation Finish\n",
      "255: Data Load Finish, Predict Finish, 7.3021 6.4428 0.2157 0.7445 Evaluation Finish\n",
      "256: Data Load Finish, Predict Finish, 6.004 4.9913 0.164 0.7899 Evaluation Finish\n",
      "257: Data Load Finish, "
     ]
    },
    {
     "name": "stderr",
     "output_type": "stream",
     "text": [
      "C:\\Users\\vfgtr554\\anaconda3\\envs\\cctv\\lib\\site-packages\\pandas\\core\\arraylike.py:364: RuntimeWarning: divide by zero encountered in log\n",
      "  result = getattr(ufunc, method)(*inputs, **kwargs)\n",
      "C:\\Users\\vfgtr554\\anaconda3\\envs\\cctv\\lib\\site-packages\\statsmodels\\base\\model.py:606: ConvergenceWarning: Maximum Likelihood optimization failed to converge. Check mle_retvals\n",
      "  ConvergenceWarning)\n"
     ]
    },
    {
     "name": "stdout",
     "output_type": "stream",
     "text": [
      "Predict Finish, 27.5823 27.39 0.9643 0.0348 Evaluation Finish\n",
      "258: Data Load Finish, Predict Finish, 6.8628 6.02 0.2008 0.7598 Evaluation Finish\n",
      "259: "
     ]
    },
    {
     "name": "stderr",
     "output_type": "stream",
     "text": [
      "C:\\Users\\vfgtr554\\anaconda3\\envs\\cctv\\lib\\site-packages\\pandas\\core\\arraylike.py:364: RuntimeWarning: divide by zero encountered in log\n",
      "  result = getattr(ufunc, method)(*inputs, **kwargs)\n"
     ]
    },
    {
     "name": "stdout",
     "output_type": "stream",
     "text": [
      "Data Load Finish, "
     ]
    },
    {
     "name": "stderr",
     "output_type": "stream",
     "text": [
      "C:\\Users\\vfgtr554\\anaconda3\\envs\\cctv\\lib\\site-packages\\statsmodels\\base\\model.py:606: ConvergenceWarning: Maximum Likelihood optimization failed to converge. Check mle_retvals\n",
      "  ConvergenceWarning)\n",
      "C:\\Users\\vfgtr554\\anaconda3\\envs\\cctv\\lib\\site-packages\\pandas\\core\\arraylike.py:364: RuntimeWarning: divide by zero encountered in log\n",
      "  result = getattr(ufunc, method)(*inputs, **kwargs)\n"
     ]
    },
    {
     "name": "stdout",
     "output_type": "stream",
     "text": [
      "Predict Finish, 27.5823 27.39 0.9643 0.0348 Evaluation Finish\n",
      "260: Data Load Finish, "
     ]
    },
    {
     "name": "stderr",
     "output_type": "stream",
     "text": [
      "C:\\Users\\vfgtr554\\anaconda3\\envs\\cctv\\lib\\site-packages\\statsmodels\\base\\model.py:606: ConvergenceWarning: Maximum Likelihood optimization failed to converge. Check mle_retvals\n",
      "  ConvergenceWarning)\n"
     ]
    },
    {
     "name": "stdout",
     "output_type": "stream",
     "text": [
      "Predict Finish, 27.5823 27.39 0.9643 0.0348 Evaluation Finish\n",
      "261: Data Load Finish, Predict Finish, 4.5886 3.585 0.1405 0.8394 Evaluation Finish\n",
      "262: Data Load Finish, "
     ]
    },
    {
     "name": "stderr",
     "output_type": "stream",
     "text": [
      "C:\\Users\\vfgtr554\\anaconda3\\envs\\cctv\\lib\\site-packages\\pandas\\core\\arraylike.py:364: RuntimeWarning: divide by zero encountered in log\n",
      "  result = getattr(ufunc, method)(*inputs, **kwargs)\n",
      "C:\\Users\\vfgtr554\\anaconda3\\envs\\cctv\\lib\\site-packages\\statsmodels\\base\\model.py:606: ConvergenceWarning: Maximum Likelihood optimization failed to converge. Check mle_retvals\n",
      "  ConvergenceWarning)\n"
     ]
    },
    {
     "name": "stdout",
     "output_type": "stream",
     "text": [
      "Predict Finish, 27.5823 27.39 0.9643 0.0348 Evaluation Finish\n",
      "263: Data Load Finish, Predict Finish, 3.5304 3.0092 0.1112 0.8765 Evaluation Finish\n",
      "264: Data Load Finish, Predict Finish, 6.4005 5.5044 0.1826 0.776 Evaluation Finish\n",
      "265: Data Load Finish, Predict Finish, 5.8935 4.9019 0.161 0.7938 Evaluation Finish\n",
      "266: Data Load Finish, Predict Finish, 10.0995 9.5356 0.3266 0.6466 Evaluation Finish\n",
      "267: Data Load Finish, Predict Finish, 6.2908 5.4129 0.1795 0.7799 Evaluation Finish\n",
      "268: Data Load Finish, Predict Finish, 5.9008 4.9154 0.1615 0.7935 Evaluation Finish\n",
      "269: Data Load Finish, Predict Finish, 3.6211 3.0672 0.1161 0.8733 Evaluation Finish\n",
      "270: Data Load Finish, Predict Finish, 10.6678 10.0861 0.3457 0.6267 Evaluation Finish\n",
      "271: Data Load Finish, Predict Finish, 4.249 3.7982 0.1438 0.8513 Evaluation Finish\n",
      "272: Data Load Finish, "
     ]
    },
    {
     "name": "stderr",
     "output_type": "stream",
     "text": [
      "C:\\Users\\vfgtr554\\anaconda3\\envs\\cctv\\lib\\site-packages\\pandas\\core\\arraylike.py:364: RuntimeWarning: divide by zero encountered in log\n",
      "  result = getattr(ufunc, method)(*inputs, **kwargs)\n",
      "C:\\Users\\vfgtr554\\anaconda3\\envs\\cctv\\lib\\site-packages\\statsmodels\\base\\model.py:606: ConvergenceWarning: Maximum Likelihood optimization failed to converge. Check mle_retvals\n",
      "  ConvergenceWarning)\n"
     ]
    },
    {
     "name": "stdout",
     "output_type": "stream",
     "text": [
      "Predict Finish, 27.5823 27.39 0.9643 0.0348 Evaluation Finish\n",
      "273: Data Load Finish, Predict Finish, 4.4559 3.9155 0.1311 0.8441 Evaluation Finish\n",
      "274: Data Load Finish, Predict Finish, 8.495 7.8046 0.2645 0.7027 Evaluation Finish\n",
      "275: Data Load Finish, Predict Finish, 8.0884 7.3822 0.2495 0.7169 Evaluation Finish\n",
      "276: Data Load Finish, Predict Finish, 9.2028 8.6066 0.2933 0.6779 Evaluation Finish\n",
      "277: Data Load Finish, "
     ]
    },
    {
     "name": "stderr",
     "output_type": "stream",
     "text": [
      "C:\\Users\\vfgtr554\\anaconda3\\envs\\cctv\\lib\\site-packages\\pandas\\core\\arraylike.py:364: RuntimeWarning: divide by zero encountered in log\n",
      "  result = getattr(ufunc, method)(*inputs, **kwargs)\n",
      "C:\\Users\\vfgtr554\\anaconda3\\envs\\cctv\\lib\\site-packages\\statsmodels\\base\\model.py:606: ConvergenceWarning: Maximum Likelihood optimization failed to converge. Check mle_retvals\n",
      "  ConvergenceWarning)\n",
      "C:\\Users\\vfgtr554\\anaconda3\\envs\\cctv\\lib\\site-packages\\pandas\\core\\arraylike.py:364: RuntimeWarning: divide by zero encountered in log\n",
      "  result = getattr(ufunc, method)(*inputs, **kwargs)\n"
     ]
    },
    {
     "name": "stdout",
     "output_type": "stream",
     "text": [
      "Predict Finish, 27.5823 27.39 0.9643 0.0348 Evaluation Finish\n",
      "278: Data Load Finish, "
     ]
    },
    {
     "name": "stderr",
     "output_type": "stream",
     "text": [
      "C:\\Users\\vfgtr554\\anaconda3\\envs\\cctv\\lib\\site-packages\\statsmodels\\base\\model.py:606: ConvergenceWarning: Maximum Likelihood optimization failed to converge. Check mle_retvals\n",
      "  ConvergenceWarning)\n"
     ]
    },
    {
     "name": "stdout",
     "output_type": "stream",
     "text": [
      "Predict Finish, 27.5823 27.39 0.9643 0.0348 Evaluation Finish\n",
      "279: Data Load Finish, Predict Finish, 5.8549 4.822 0.158 0.7951 Evaluation Finish\n",
      "280: Data Load Finish, Predict Finish, 5.2126 4.3018 0.1409 0.8176 Evaluation Finish\n",
      "281: Data Load Finish, Predict Finish, 5.1524 4.1944 0.1372 0.8197 Evaluation Finish\n",
      "282: Data Load Finish, Predict Finish, 3.7337 3.2438 0.1136 0.8693 Evaluation Finish\n",
      "283: Data Load Finish, Predict Finish, 4.2058 3.6798 0.1401 0.8528 Evaluation Finish\n",
      "284: Data Load Finish, Predict Finish, 5.0415 4.1845 0.1612 0.8236 Evaluation Finish\n",
      "285: Data Load Finish, Predict Finish, 8.0092 7.2437 0.2443 0.7197 Evaluation Finish\n",
      "286: Data Load Finish, Predict Finish, 3.5696 2.9179 0.1118 0.8751 Evaluation Finish\n",
      "287: Data Load Finish, Predict Finish, 5.4207 3.4549 0.1101 0.8103 Evaluation Finish\n",
      "288: Data Load Finish, Predict Finish, 4.0255 3.7185 0.1268 0.8591 Evaluation Finish\n",
      "289: Data Load Finish, Predict Finish, 9.1281 8.5279 0.2905 0.6806 Evaluation Finish\n",
      "290: Data Load Finish, Predict Finish, 5.4989 4.3951 0.1711 0.8076 Evaluation Finish\n",
      "291: Data Load Finish, "
     ]
    },
    {
     "name": "stderr",
     "output_type": "stream",
     "text": [
      "C:\\Users\\vfgtr554\\anaconda3\\envs\\cctv\\lib\\site-packages\\pandas\\core\\arraylike.py:364: RuntimeWarning: divide by zero encountered in log\n",
      "  result = getattr(ufunc, method)(*inputs, **kwargs)\n",
      "C:\\Users\\vfgtr554\\anaconda3\\envs\\cctv\\lib\\site-packages\\statsmodels\\base\\model.py:606: ConvergenceWarning: Maximum Likelihood optimization failed to converge. Check mle_retvals\n",
      "  ConvergenceWarning)\n"
     ]
    },
    {
     "name": "stdout",
     "output_type": "stream",
     "text": [
      "Predict Finish, 27.5823 27.39 0.9643 0.0348 Evaluation Finish\n",
      "292: Data Load Finish, Predict Finish, 3.8663 3.2312 0.1145 0.8647 Evaluation Finish\n",
      "293: Data Load Finish, "
     ]
    },
    {
     "name": "stderr",
     "output_type": "stream",
     "text": [
      "C:\\Users\\vfgtr554\\anaconda3\\envs\\cctv\\lib\\site-packages\\pandas\\core\\arraylike.py:364: RuntimeWarning: divide by zero encountered in log\n",
      "  result = getattr(ufunc, method)(*inputs, **kwargs)\n",
      "C:\\Users\\vfgtr554\\anaconda3\\envs\\cctv\\lib\\site-packages\\statsmodels\\base\\model.py:606: ConvergenceWarning: Maximum Likelihood optimization failed to converge. Check mle_retvals\n",
      "  ConvergenceWarning)\n"
     ]
    },
    {
     "name": "stdout",
     "output_type": "stream",
     "text": [
      "Predict Finish, 27.5823 27.39 0.9643 0.0348 Evaluation Finish\n",
      "294: Data Load Finish, Predict Finish, 4.8754 3.9173 0.1286 0.8294 Evaluation Finish\n",
      "295: Data Load Finish, Predict Finish, 5.5328 4.4681 0.1455 0.8064 Evaluation Finish\n",
      "296: Data Load Finish, Predict Finish, 5.2924 4.3001 0.1403 0.8148 Evaluation Finish\n",
      "297: Data Load Finish, Predict Finish, 5.4973 4.4319 0.1442 0.8076 Evaluation Finish\n",
      "298: Data Load Finish, Predict Finish, 10.4843 9.9778 0.3427 0.6331 Evaluation Finish\n",
      "299: Data Load Finish, Predict Finish, 3.5622 2.8186 0.1089 0.8753 Evaluation Finish\n",
      "300: Data Load Finish, Predict Finish, 5.807 4.821 0.1862 0.7968 Evaluation Finish\n",
      "301: Data Load Finish, Predict Finish, 7.9806 7.2534 0.2448 0.7207 Evaluation Finish\n",
      "302: Data Load Finish, Predict Finish, 10.9298 10.4047 0.3573 0.6175 Evaluation Finish\n",
      "303: Data Load Finish, Predict Finish, 6.3017 5.3784 0.2063 0.7795 Evaluation Finish\n",
      "304: "
     ]
    },
    {
     "name": "stderr",
     "output_type": "stream",
     "text": [
      "C:\\Users\\vfgtr554\\anaconda3\\envs\\cctv\\lib\\site-packages\\pandas\\core\\arraylike.py:364: RuntimeWarning: divide by zero encountered in log\n",
      "  result = getattr(ufunc, method)(*inputs, **kwargs)\n"
     ]
    },
    {
     "name": "stdout",
     "output_type": "stream",
     "text": [
      "Data Load Finish, "
     ]
    },
    {
     "name": "stderr",
     "output_type": "stream",
     "text": [
      "C:\\Users\\vfgtr554\\anaconda3\\envs\\cctv\\lib\\site-packages\\statsmodels\\base\\model.py:606: ConvergenceWarning: Maximum Likelihood optimization failed to converge. Check mle_retvals\n",
      "  ConvergenceWarning)\n",
      "C:\\Users\\vfgtr554\\anaconda3\\envs\\cctv\\lib\\site-packages\\pandas\\core\\arraylike.py:364: RuntimeWarning: divide by zero encountered in log\n",
      "  result = getattr(ufunc, method)(*inputs, **kwargs)\n"
     ]
    },
    {
     "name": "stdout",
     "output_type": "stream",
     "text": [
      "Predict Finish, 27.5823 27.39 0.9643 0.0348 Evaluation Finish\n",
      "305: Data Load Finish, "
     ]
    },
    {
     "name": "stderr",
     "output_type": "stream",
     "text": [
      "C:\\Users\\vfgtr554\\anaconda3\\envs\\cctv\\lib\\site-packages\\statsmodels\\base\\model.py:606: ConvergenceWarning: Maximum Likelihood optimization failed to converge. Check mle_retvals\n",
      "  ConvergenceWarning)\n"
     ]
    },
    {
     "name": "stdout",
     "output_type": "stream",
     "text": [
      "Predict Finish, 27.5823 27.39 0.9643 0.0348 Evaluation Finish\n",
      "306: Data Load Finish, Predict Finish, 10.824 10.3269 0.3548 0.6212 Evaluation Finish\n",
      "307: Data Load Finish, "
     ]
    },
    {
     "name": "stderr",
     "output_type": "stream",
     "text": [
      "C:\\Users\\vfgtr554\\anaconda3\\envs\\cctv\\lib\\site-packages\\pandas\\core\\arraylike.py:364: RuntimeWarning: divide by zero encountered in log\n",
      "  result = getattr(ufunc, method)(*inputs, **kwargs)\n",
      "C:\\Users\\vfgtr554\\anaconda3\\envs\\cctv\\lib\\site-packages\\statsmodels\\base\\model.py:606: ConvergenceWarning: Maximum Likelihood optimization failed to converge. Check mle_retvals\n",
      "  ConvergenceWarning)\n",
      "C:\\Users\\vfgtr554\\anaconda3\\envs\\cctv\\lib\\site-packages\\pandas\\core\\arraylike.py:364: RuntimeWarning: divide by zero encountered in log\n",
      "  result = getattr(ufunc, method)(*inputs, **kwargs)\n"
     ]
    },
    {
     "name": "stdout",
     "output_type": "stream",
     "text": [
      "Predict Finish, 27.5823 27.39 0.9643 0.0348 Evaluation Finish\n",
      "308: Data Load Finish, "
     ]
    },
    {
     "name": "stderr",
     "output_type": "stream",
     "text": [
      "C:\\Users\\vfgtr554\\anaconda3\\envs\\cctv\\lib\\site-packages\\statsmodels\\base\\model.py:606: ConvergenceWarning: Maximum Likelihood optimization failed to converge. Check mle_retvals\n",
      "  ConvergenceWarning)\n"
     ]
    },
    {
     "name": "stdout",
     "output_type": "stream",
     "text": [
      "Predict Finish, 27.5823 27.39 0.9643 0.0348 Evaluation Finish\n",
      "309: Data Load Finish, Predict Finish, 3.7873 3.2714 0.1142 0.8675 Evaluation Finish\n",
      "310: Data Load Finish, Predict Finish, 8.0327 7.2923 0.2461 0.7189 Evaluation Finish\n",
      "311: Data Load Finish, "
     ]
    },
    {
     "name": "stderr",
     "output_type": "stream",
     "text": [
      "C:\\Users\\vfgtr554\\anaconda3\\envs\\cctv\\lib\\site-packages\\pandas\\core\\arraylike.py:364: RuntimeWarning: divide by zero encountered in log\n",
      "  result = getattr(ufunc, method)(*inputs, **kwargs)\n",
      "C:\\Users\\vfgtr554\\anaconda3\\envs\\cctv\\lib\\site-packages\\statsmodels\\base\\model.py:606: ConvergenceWarning: Maximum Likelihood optimization failed to converge. Check mle_retvals\n",
      "  ConvergenceWarning)\n"
     ]
    },
    {
     "name": "stdout",
     "output_type": "stream",
     "text": [
      "Predict Finish, 27.5823 27.39 0.9643 0.0348 Evaluation Finish\n",
      "312: Data Load Finish, Predict Finish, 12.9117 12.4631 0.4594 0.5482 Evaluation Finish\n",
      "313: Data Load Finish, Predict Finish, 8.3798 7.6648 0.2594 0.7067 Evaluation Finish\n",
      "314: Data Load Finish, "
     ]
    },
    {
     "name": "stderr",
     "output_type": "stream",
     "text": [
      "C:\\Users\\vfgtr554\\anaconda3\\envs\\cctv\\lib\\site-packages\\pandas\\core\\arraylike.py:364: RuntimeWarning: divide by zero encountered in log\n",
      "  result = getattr(ufunc, method)(*inputs, **kwargs)\n",
      "C:\\Users\\vfgtr554\\anaconda3\\envs\\cctv\\lib\\site-packages\\statsmodels\\base\\model.py:606: ConvergenceWarning: Maximum Likelihood optimization failed to converge. Check mle_retvals\n",
      "  ConvergenceWarning)\n"
     ]
    },
    {
     "name": "stdout",
     "output_type": "stream",
     "text": [
      "Predict Finish, 27.5823 27.39 0.9643 0.0348 Evaluation Finish\n",
      "315: Data Load Finish, Predict Finish, 4.2548 3.8104 0.1287 0.8511 Evaluation Finish\n",
      "316: Data Load Finish, Predict Finish, 5.9375 4.9535 0.1628 0.7922 Evaluation Finish\n",
      "317: Data Load Finish, Predict Finish, 3.4677 2.8518 0.1068 0.8786 Evaluation Finish\n",
      "318: Data Load Finish, Predict Finish, 10.521 9.9976 0.343 0.6318 Evaluation Finish\n",
      "319: Data Load Finish, Predict Finish, 9.6752 9.1162 0.3116 0.6614 Evaluation Finish\n",
      "320: Data Load Finish, "
     ]
    },
    {
     "name": "stderr",
     "output_type": "stream",
     "text": [
      "C:\\Users\\vfgtr554\\anaconda3\\envs\\cctv\\lib\\site-packages\\pandas\\core\\arraylike.py:364: RuntimeWarning: divide by zero encountered in log\n",
      "  result = getattr(ufunc, method)(*inputs, **kwargs)\n",
      "C:\\Users\\vfgtr554\\anaconda3\\envs\\cctv\\lib\\site-packages\\statsmodels\\base\\model.py:606: ConvergenceWarning: Maximum Likelihood optimization failed to converge. Check mle_retvals\n",
      "  ConvergenceWarning)\n",
      "C:\\Users\\vfgtr554\\anaconda3\\envs\\cctv\\lib\\site-packages\\pandas\\core\\arraylike.py:364: RuntimeWarning: divide by zero encountered in log\n",
      "  result = getattr(ufunc, method)(*inputs, **kwargs)\n"
     ]
    },
    {
     "name": "stdout",
     "output_type": "stream",
     "text": [
      "Predict Finish, 27.5823 27.39 0.9643 0.0348 Evaluation Finish\n",
      "321: Data Load Finish, "
     ]
    },
    {
     "name": "stderr",
     "output_type": "stream",
     "text": [
      "C:\\Users\\vfgtr554\\anaconda3\\envs\\cctv\\lib\\site-packages\\statsmodels\\base\\model.py:606: ConvergenceWarning: Maximum Likelihood optimization failed to converge. Check mle_retvals\n",
      "  ConvergenceWarning)\n"
     ]
    },
    {
     "name": "stdout",
     "output_type": "stream",
     "text": [
      "Predict Finish, 27.5823 27.39 0.9643 0.0348 Evaluation Finish\n",
      "322: Data Load Finish, Predict Finish, 3.4335 3.2392 0.1151 0.8798 Evaluation Finish\n",
      "323: Data Load Finish, Predict Finish, 5.09 4.1895 0.1374 0.8219 Evaluation Finish\n",
      "324: Data Load Finish, Predict Finish, 6.1924 5.107 0.197 0.7833 Evaluation Finish\n",
      "325: Data Load Finish, Predict Finish, 7.6882 6.9206 0.2614 0.731 Evaluation Finish\n",
      "326: Data Load Finish, Predict Finish, 7.1668 6.3892 0.2142 0.7492 Evaluation Finish\n",
      "327: Data Load Finish, "
     ]
    },
    {
     "name": "stderr",
     "output_type": "stream",
     "text": [
      "C:\\Users\\vfgtr554\\anaconda3\\envs\\cctv\\lib\\site-packages\\pandas\\core\\arraylike.py:364: RuntimeWarning: divide by zero encountered in log\n",
      "  result = getattr(ufunc, method)(*inputs, **kwargs)\n",
      "C:\\Users\\vfgtr554\\anaconda3\\envs\\cctv\\lib\\site-packages\\statsmodels\\base\\model.py:606: ConvergenceWarning: Maximum Likelihood optimization failed to converge. Check mle_retvals\n",
      "  ConvergenceWarning)\n"
     ]
    },
    {
     "name": "stdout",
     "output_type": "stream",
     "text": [
      "Predict Finish, 27.5823 27.39 0.9643 0.0348 Evaluation Finish\n",
      "328: Data Load Finish, Predict Finish, 14.3095 13.869 0.5101 0.4992 Evaluation Finish\n",
      "329: Data Load Finish, Predict Finish, 5.0588 3.8396 0.1513 0.823 Evaluation Finish\n",
      "330: Data Load Finish, "
     ]
    },
    {
     "name": "stderr",
     "output_type": "stream",
     "text": [
      "C:\\Users\\vfgtr554\\anaconda3\\envs\\cctv\\lib\\site-packages\\pandas\\core\\arraylike.py:364: RuntimeWarning: divide by zero encountered in log\n",
      "  result = getattr(ufunc, method)(*inputs, **kwargs)\n",
      "C:\\Users\\vfgtr554\\anaconda3\\envs\\cctv\\lib\\site-packages\\statsmodels\\base\\model.py:606: ConvergenceWarning: Maximum Likelihood optimization failed to converge. Check mle_retvals\n",
      "  ConvergenceWarning)\n",
      "C:\\Users\\vfgtr554\\anaconda3\\envs\\cctv\\lib\\site-packages\\pandas\\core\\arraylike.py:364: RuntimeWarning: divide by zero encountered in log\n",
      "  result = getattr(ufunc, method)(*inputs, **kwargs)\n"
     ]
    },
    {
     "name": "stdout",
     "output_type": "stream",
     "text": [
      "Predict Finish, 27.5823 27.39 0.9643 0.0348 Evaluation Finish\n",
      "331: Data Load Finish, "
     ]
    },
    {
     "name": "stderr",
     "output_type": "stream",
     "text": [
      "C:\\Users\\vfgtr554\\anaconda3\\envs\\cctv\\lib\\site-packages\\statsmodels\\base\\model.py:606: ConvergenceWarning: Maximum Likelihood optimization failed to converge. Check mle_retvals\n",
      "  ConvergenceWarning)\n"
     ]
    },
    {
     "name": "stdout",
     "output_type": "stream",
     "text": [
      "Predict Finish, 27.5823 27.39 0.9643 0.0348 Evaluation Finish\n",
      "332: Data Load Finish, "
     ]
    },
    {
     "name": "stderr",
     "output_type": "stream",
     "text": [
      "C:\\Users\\vfgtr554\\anaconda3\\envs\\cctv\\lib\\site-packages\\statsmodels\\base\\model.py:606: ConvergenceWarning: Maximum Likelihood optimization failed to converge. Check mle_retvals\n",
      "  ConvergenceWarning)\n"
     ]
    },
    {
     "name": "stdout",
     "output_type": "stream",
     "text": [
      "Predict Finish, 13.1058 12.1546 0.4495 0.5414 Evaluation Finish\n",
      "333: Data Load Finish, Predict Finish, 10.7378 10.2402 0.3796 0.6242 Evaluation Finish\n",
      "334: Data Load Finish, Predict Finish, 19.7657 19.4911 0.7104 0.3083 Evaluation Finish\n",
      "335: Data Load Finish, "
     ]
    },
    {
     "name": "stderr",
     "output_type": "stream",
     "text": [
      "C:\\Users\\vfgtr554\\anaconda3\\envs\\cctv\\lib\\site-packages\\pandas\\core\\arraylike.py:364: RuntimeWarning: divide by zero encountered in log\n",
      "  result = getattr(ufunc, method)(*inputs, **kwargs)\n",
      "C:\\Users\\vfgtr554\\anaconda3\\envs\\cctv\\lib\\site-packages\\statsmodels\\base\\model.py:606: ConvergenceWarning: Maximum Likelihood optimization failed to converge. Check mle_retvals\n",
      "  ConvergenceWarning)\n"
     ]
    },
    {
     "name": "stdout",
     "output_type": "stream",
     "text": [
      "Predict Finish, 27.5823 27.39 0.9643 0.0348 Evaluation Finish\n",
      "336: Data Load Finish, Predict Finish, 13.5714 13.1098 0.4829 0.5251 Evaluation Finish\n",
      "337: Data Load Finish, Predict Finish, 6.2865 5.2664 0.2026 0.78 Evaluation Finish\n",
      "338: Data Load Finish, Predict Finish, 15.5672 15.2257 0.5579 0.4552 Evaluation Finish\n",
      "339: Data Load Finish, Predict Finish, 6.6007 5.7141 0.2183 0.769 Evaluation Finish\n",
      "340: Data Load Finish, Predict Finish, 3.3874 2.5723 0.0998 0.8815 Evaluation Finish\n",
      "341: Data Load Finish, Predict Finish, 4.7677 3.4843 0.1385 0.8332 Evaluation Finish\n",
      "342: Data Load Finish, "
     ]
    },
    {
     "name": "stderr",
     "output_type": "stream",
     "text": [
      "C:\\Users\\vfgtr554\\anaconda3\\envs\\cctv\\lib\\site-packages\\pandas\\core\\arraylike.py:364: RuntimeWarning: divide by zero encountered in log\n",
      "  result = getattr(ufunc, method)(*inputs, **kwargs)\n",
      "C:\\Users\\vfgtr554\\anaconda3\\envs\\cctv\\lib\\site-packages\\statsmodels\\base\\model.py:606: ConvergenceWarning: Maximum Likelihood optimization failed to converge. Check mle_retvals\n",
      "  ConvergenceWarning)\n"
     ]
    },
    {
     "name": "stdout",
     "output_type": "stream",
     "text": [
      "Predict Finish, 27.5823 27.39 0.9643 0.0348 Evaluation Finish\n",
      "343: Data Load Finish, Predict Finish, 11.0169 10.466 0.3884 0.6145 Evaluation Finish\n",
      "344: Data Load Finish, Predict Finish, 5.0558 3.9307 0.154 0.8231 Evaluation Finish\n",
      "345: Data Load Finish, Predict Finish, 8.4886 7.7361 0.291 0.7029 Evaluation Finish\n",
      "346: Data Load Finish, Predict Finish, 11.9524 11.5045 0.3969 0.5817 Evaluation Finish\n",
      "347: Data Load Finish, "
     ]
    },
    {
     "name": "stderr",
     "output_type": "stream",
     "text": [
      "C:\\Users\\vfgtr554\\anaconda3\\envs\\cctv\\lib\\site-packages\\pandas\\core\\arraylike.py:364: RuntimeWarning: divide by zero encountered in log\n",
      "  result = getattr(ufunc, method)(*inputs, **kwargs)\n",
      "C:\\Users\\vfgtr554\\anaconda3\\envs\\cctv\\lib\\site-packages\\statsmodels\\base\\model.py:606: ConvergenceWarning: Maximum Likelihood optimization failed to converge. Check mle_retvals\n",
      "  ConvergenceWarning)\n",
      "C:\\Users\\vfgtr554\\anaconda3\\envs\\cctv\\lib\\site-packages\\pandas\\core\\arraylike.py:364: RuntimeWarning: divide by zero encountered in log\n",
      "  result = getattr(ufunc, method)(*inputs, **kwargs)\n"
     ]
    },
    {
     "name": "stdout",
     "output_type": "stream",
     "text": [
      "Predict Finish, 27.5823 27.39 0.9643 0.0348 Evaluation Finish\n",
      "348: Data Load Finish, "
     ]
    },
    {
     "name": "stderr",
     "output_type": "stream",
     "text": [
      "C:\\Users\\vfgtr554\\anaconda3\\envs\\cctv\\lib\\site-packages\\statsmodels\\base\\model.py:606: ConvergenceWarning: Maximum Likelihood optimization failed to converge. Check mle_retvals\n",
      "  ConvergenceWarning)\n"
     ]
    },
    {
     "name": "stdout",
     "output_type": "stream",
     "text": [
      "Predict Finish, 27.5823 27.39 0.9643 0.0348 Evaluation Finish\n",
      "349: Data Load Finish, Predict Finish, 7.9143 7.2036 0.2433 0.723 Evaluation Finish\n",
      "350: Data Load Finish, Predict Finish, 14.3889 14.0182 0.4867 0.4965 Evaluation Finish\n",
      "351: Data Load Finish, Predict Finish, 4.0776 3.6165 0.1229 0.8573 Evaluation Finish\n",
      "352: Data Load Finish, Predict Finish, 3.6114 3.2575 0.1145 0.8736 Evaluation Finish\n",
      "353: Data Load Finish, Predict Finish, 5.2295 4.0154 0.1578 0.817 Evaluation Finish\n",
      "354: Data Load Finish, "
     ]
    },
    {
     "name": "stderr",
     "output_type": "stream",
     "text": [
      "C:\\Users\\vfgtr554\\anaconda3\\envs\\cctv\\lib\\site-packages\\pandas\\core\\arraylike.py:364: RuntimeWarning: divide by zero encountered in log\n",
      "  result = getattr(ufunc, method)(*inputs, **kwargs)\n",
      "C:\\Users\\vfgtr554\\anaconda3\\envs\\cctv\\lib\\site-packages\\statsmodels\\base\\model.py:606: ConvergenceWarning: Maximum Likelihood optimization failed to converge. Check mle_retvals\n",
      "  ConvergenceWarning)\n"
     ]
    },
    {
     "name": "stdout",
     "output_type": "stream",
     "text": [
      "Predict Finish, 27.5823 27.39 0.9643 0.0348 Evaluation Finish\n",
      "355: Data Load Finish, Predict Finish, 4.0139 3.087 0.1212 0.8595 Evaluation Finish\n",
      "356: Data Load Finish, "
     ]
    },
    {
     "name": "stderr",
     "output_type": "stream",
     "text": [
      "C:\\Users\\vfgtr554\\anaconda3\\envs\\cctv\\lib\\site-packages\\pandas\\core\\arraylike.py:364: RuntimeWarning: divide by zero encountered in log\n",
      "  result = getattr(ufunc, method)(*inputs, **kwargs)\n",
      "C:\\Users\\vfgtr554\\anaconda3\\envs\\cctv\\lib\\site-packages\\statsmodels\\base\\model.py:606: ConvergenceWarning: Maximum Likelihood optimization failed to converge. Check mle_retvals\n",
      "  ConvergenceWarning)\n"
     ]
    },
    {
     "name": "stdout",
     "output_type": "stream",
     "text": [
      "Predict Finish, 27.5823 27.39 0.9643 0.0348 Evaluation Finish\n",
      "357: Data Load Finish, Predict Finish, 3.8552 2.8329 0.1121 0.8651 Evaluation Finish\n",
      "358: Data Load Finish, "
     ]
    },
    {
     "name": "stderr",
     "output_type": "stream",
     "text": [
      "C:\\Users\\vfgtr554\\anaconda3\\envs\\cctv\\lib\\site-packages\\pandas\\core\\arraylike.py:364: RuntimeWarning: divide by zero encountered in log\n",
      "  result = getattr(ufunc, method)(*inputs, **kwargs)\n",
      "C:\\Users\\vfgtr554\\anaconda3\\envs\\cctv\\lib\\site-packages\\statsmodels\\base\\model.py:606: ConvergenceWarning: Maximum Likelihood optimization failed to converge. Check mle_retvals\n",
      "  ConvergenceWarning)\n"
     ]
    },
    {
     "name": "stdout",
     "output_type": "stream",
     "text": [
      "Predict Finish, 27.5823 27.39 0.9643 0.0348 Evaluation Finish\n",
      "359: Data Load Finish, Predict Finish, 6.3763 5.3783 0.2066 0.7769 Evaluation Finish\n",
      "360: Data Load Finish, Predict Finish, 6.8134 5.8242 0.2228 0.7616 Evaluation Finish\n",
      "361: Data Load Finish, Predict Finish, 7.0871 6.093 0.2324 0.752 Evaluation Finish\n",
      "362: Data Load Finish, Predict Finish, 3.5983 3.1277 0.1109 0.8741 Evaluation Finish\n",
      "363: Data Load Finish, Predict Finish, 8.2644 7.5404 0.255 0.7108 Evaluation Finish\n",
      "364: Data Load Finish, Predict Finish, 7.5158 6.7588 0.2272 0.737 Evaluation Finish\n",
      "365: Data Load Finish, Predict Finish, 3.9762 3.1326 0.1222 0.8609 Evaluation Finish\n",
      "366: Data Load Finish, Predict Finish, 4.4816 3.9517 0.1323 0.8432 Evaluation Finish\n",
      "367: Data Load Finish, Predict Finish, 7.2304 6.3921 0.2427 0.747 Evaluation Finish\n",
      "368: Data Load Finish, Predict Finish, 5.4011 4.37 0.1424 0.811 Evaluation Finish\n",
      "369: Data Load Finish, Predict Finish, 4.4687 3.8824 0.13 0.8436 Evaluation Finish\n",
      "370: Data Load Finish, Predict Finish, 3.8341 3.4342 0.1289 0.8658 Evaluation Finish\n",
      "371: Data Load Finish, Predict Finish, 3.2297 2.9327 0.1083 0.887 Evaluation Finish\n",
      "372: Data Load Finish, Predict Finish, 14.3634 13.9688 0.5132 0.4974 Evaluation Finish\n",
      "373: Data Load Finish, "
     ]
    },
    {
     "name": "stderr",
     "output_type": "stream",
     "text": [
      "C:\\Users\\vfgtr554\\anaconda3\\envs\\cctv\\lib\\site-packages\\pandas\\core\\arraylike.py:364: RuntimeWarning: divide by zero encountered in log\n",
      "  result = getattr(ufunc, method)(*inputs, **kwargs)\n",
      "C:\\Users\\vfgtr554\\anaconda3\\envs\\cctv\\lib\\site-packages\\statsmodels\\base\\model.py:606: ConvergenceWarning: Maximum Likelihood optimization failed to converge. Check mle_retvals\n",
      "  ConvergenceWarning)\n",
      "C:\\Users\\vfgtr554\\anaconda3\\envs\\cctv\\lib\\site-packages\\pandas\\core\\arraylike.py:364: RuntimeWarning: divide by zero encountered in log\n",
      "  result = getattr(ufunc, method)(*inputs, **kwargs)\n"
     ]
    },
    {
     "name": "stdout",
     "output_type": "stream",
     "text": [
      "Predict Finish, 27.5823 27.39 0.9643 0.0348 Evaluation Finish\n",
      "374: Data Load Finish, "
     ]
    },
    {
     "name": "stderr",
     "output_type": "stream",
     "text": [
      "C:\\Users\\vfgtr554\\anaconda3\\envs\\cctv\\lib\\site-packages\\statsmodels\\base\\model.py:606: ConvergenceWarning: Maximum Likelihood optimization failed to converge. Check mle_retvals\n",
      "  ConvergenceWarning)\n"
     ]
    },
    {
     "name": "stdout",
     "output_type": "stream",
     "text": [
      "Predict Finish, 27.5823 27.39 0.9643 0.0348 Evaluation Finish\n",
      "375: Data Load Finish, Predict Finish, 36.319 36.1661 1.3061 -0.271 Evaluation Finish\n",
      "376: Data Load Finish, Predict Finish, 54.0795 53.9818 1.9422 -0.8925 Evaluation Finish\n",
      "377: Data Load Finish, Predict Finish, 50.5474 50.3316 1.8141 -0.7689 Evaluation Finish\n",
      "378: Data Load Finish, Predict Finish, 37.851 37.6237 1.3595 -0.3246 Evaluation Finish\n",
      "379: Data Load Finish, "
     ]
    },
    {
     "name": "stderr",
     "output_type": "stream",
     "text": [
      "C:\\Users\\vfgtr554\\anaconda3\\envs\\cctv\\lib\\site-packages\\pandas\\core\\arraylike.py:364: RuntimeWarning: divide by zero encountered in log\n",
      "  result = getattr(ufunc, method)(*inputs, **kwargs)\n",
      "C:\\Users\\vfgtr554\\anaconda3\\envs\\cctv\\lib\\site-packages\\statsmodels\\base\\model.py:606: ConvergenceWarning: Maximum Likelihood optimization failed to converge. Check mle_retvals\n",
      "  ConvergenceWarning)\n"
     ]
    },
    {
     "name": "stdout",
     "output_type": "stream",
     "text": [
      "Predict Finish, 27.5823 27.39 0.9643 0.0348 Evaluation Finish\n",
      "380: Data Load Finish, Predict Finish, 9.3248 8.4829 0.3179 0.6737 Evaluation Finish\n",
      "381: Data Load Finish, Predict Finish, 4.1351 3.6147 0.1228 0.8553 Evaluation Finish\n",
      "382: Data Load Finish, Predict Finish, 7.142 6.1146 0.2334 0.7501 Evaluation Finish\n",
      "383: Data Load Finish, Predict Finish, 4.7476 4.1558 0.1385 0.8339 Evaluation Finish\n",
      "384: Data Load Finish, Predict Finish, 4.998 4.2239 0.1393 0.8251 Evaluation Finish\n",
      "385: Data Load Finish, "
     ]
    },
    {
     "name": "stderr",
     "output_type": "stream",
     "text": [
      "C:\\Users\\vfgtr554\\anaconda3\\envs\\cctv\\lib\\site-packages\\pandas\\core\\arraylike.py:364: RuntimeWarning: divide by zero encountered in log\n",
      "  result = getattr(ufunc, method)(*inputs, **kwargs)\n",
      "C:\\Users\\vfgtr554\\anaconda3\\envs\\cctv\\lib\\site-packages\\statsmodels\\base\\model.py:606: ConvergenceWarning: Maximum Likelihood optimization failed to converge. Check mle_retvals\n",
      "  ConvergenceWarning)\n"
     ]
    },
    {
     "name": "stdout",
     "output_type": "stream",
     "text": [
      "Predict Finish, 27.5823 27.39 0.9643 0.0348 Evaluation Finish\n",
      "386: Data Load Finish, Predict Finish, 6.4474 5.3639 0.2063 0.7744 Evaluation Finish\n",
      "387: Data Load Finish, Predict Finish, 5.3014 4.1185 0.1614 0.8145 Evaluation Finish\n",
      "388: Data Load Finish, Predict Finish, 4.5139 3.5091 0.1376 0.842 Evaluation Finish\n",
      "389: Data Load Finish, Predict Finish, 19.3163 19.0332 0.694 0.324 Evaluation Finish\n",
      "390: Data Load Finish, "
     ]
    },
    {
     "name": "stderr",
     "output_type": "stream",
     "text": [
      "C:\\Users\\vfgtr554\\anaconda3\\envs\\cctv\\lib\\site-packages\\pandas\\core\\arraylike.py:364: RuntimeWarning: divide by zero encountered in log\n",
      "  result = getattr(ufunc, method)(*inputs, **kwargs)\n",
      "C:\\Users\\vfgtr554\\anaconda3\\envs\\cctv\\lib\\site-packages\\statsmodels\\base\\model.py:606: ConvergenceWarning: Maximum Likelihood optimization failed to converge. Check mle_retvals\n",
      "  ConvergenceWarning)\n"
     ]
    },
    {
     "name": "stdout",
     "output_type": "stream",
     "text": [
      "Predict Finish, 27.5823 27.39 0.9643 0.0348 Evaluation Finish\n",
      "391: Data Load Finish, Predict Finish, 10.447 9.9314 0.3408 0.6344 Evaluation Finish\n",
      "392: Data Load Finish, Predict Finish, 9.613 9.0546 0.3095 0.6636 Evaluation Finish\n",
      "393: Data Load Finish, Predict Finish, 5.4172 4.2825 0.139 0.8104 Evaluation Finish\n",
      "394: Data Load Finish, Predict Finish, 6.1666 5.2112 0.1721 0.7842 Evaluation Finish\n",
      "395: Data Load Finish, Predict Finish, 6.8065 5.8835 0.1957 0.7618 Evaluation Finish\n",
      "396: Data Load Finish, Predict Finish, 3.8634 3.2399 0.1125 0.8648 Evaluation Finish\n",
      "397: Data Load Finish, Predict Finish, 4.5931 3.5581 0.1396 0.8393 Evaluation Finish\n",
      "398: Data Load Finish, Predict Finish, 6.8643 5.9443 0.1982 0.7598 Evaluation Finish\n",
      "399: Data Load Finish, Predict Finish, 6.9467 6.0113 0.2002 0.7569 Evaluation Finish\n",
      "400: Data Load Finish, Predict Finish, 10.0486 9.5159 0.3259 0.6484 Evaluation Finish\n",
      "401: Data Load Finish, Predict Finish, 5.3122 4.2001 0.1365 0.8141 Evaluation Finish\n",
      "402: Data Load Finish, Predict Finish, 4.856 3.9398 0.1299 0.8301 Evaluation Finish\n",
      "403: Data Load Finish, Predict Finish, 6.6436 5.7459 0.191 0.7675 Evaluation Finish\n",
      "404: Data Load Finish, Predict Finish, 7.32 6.5006 0.2179 0.7438 Evaluation Finish\n",
      "405: Data Load Finish, Predict Finish, 9.2813 8.6488 0.3233 0.6752 Evaluation Finish\n",
      "406: Data Load Finish, Predict Finish, 3.3976 2.7009 0.1023 0.8811 Evaluation Finish\n",
      "407: Data Load Finish, Predict Finish, 3.2004 2.9357 0.1084 0.888 Evaluation Finish\n",
      "408: Data Load Finish, Predict Finish, 3.8341 3.177 0.1221 0.8658 Evaluation Finish\n",
      "409: Data Load Finish, Predict Finish, 5.3237 4.1007 0.1608 0.8137 Evaluation Finish\n",
      "410: Data Load Finish, Predict Finish, 3.4886 3.2924 0.1163 0.8779 Evaluation Finish\n",
      "411: Data Load Finish, Predict Finish, 3.4351 3.1303 0.112 0.8798 Evaluation Finish\n",
      "412: Data Load Finish, Predict Finish, 11.9604 11.4814 0.4238 0.5814 Evaluation Finish\n",
      "413: Data Load Finish, Predict Finish, 5.3056 3.7796 0.1216 0.8143 Evaluation Finish\n",
      "414: Data Load Finish, Predict Finish, 6.6173 5.5962 0.2127 0.7684 Evaluation Finish\n",
      "415: Data Load Finish, "
     ]
    },
    {
     "name": "stderr",
     "output_type": "stream",
     "text": [
      "C:\\Users\\vfgtr554\\anaconda3\\envs\\cctv\\lib\\site-packages\\pandas\\core\\arraylike.py:364: RuntimeWarning: divide by zero encountered in log\n",
      "  result = getattr(ufunc, method)(*inputs, **kwargs)\n",
      "C:\\Users\\vfgtr554\\anaconda3\\envs\\cctv\\lib\\site-packages\\statsmodels\\base\\model.py:606: ConvergenceWarning: Maximum Likelihood optimization failed to converge. Check mle_retvals\n",
      "  ConvergenceWarning)\n"
     ]
    },
    {
     "name": "stdout",
     "output_type": "stream",
     "text": [
      "Predict Finish, 27.5823 27.39 0.9643 0.0348 Evaluation Finish\n",
      "416: Data Load Finish, Predict Finish, 3.3391 3.0268 0.1141 0.8831 Evaluation Finish\n",
      "417: Data Load Finish, Predict Finish, 4.8221 4.7667 0.1733 0.8312 Evaluation Finish\n",
      "418: Data Load Finish, Predict Finish, 16.3532 16.01 0.5861 0.4277 Evaluation Finish\n",
      "419: Data Load Finish, "
     ]
    },
    {
     "name": "stderr",
     "output_type": "stream",
     "text": [
      "C:\\Users\\vfgtr554\\anaconda3\\envs\\cctv\\lib\\site-packages\\pandas\\core\\arraylike.py:364: RuntimeWarning: divide by zero encountered in log\n",
      "  result = getattr(ufunc, method)(*inputs, **kwargs)\n",
      "C:\\Users\\vfgtr554\\anaconda3\\envs\\cctv\\lib\\site-packages\\statsmodels\\base\\model.py:606: ConvergenceWarning: Maximum Likelihood optimization failed to converge. Check mle_retvals\n",
      "  ConvergenceWarning)\n"
     ]
    },
    {
     "name": "stdout",
     "output_type": "stream",
     "text": [
      "Predict Finish, 27.5823 27.39 0.9643 0.0348 Evaluation Finish\n",
      "420: Data Load Finish, Predict Finish, 3.6322 3.112 0.1172 0.8729 Evaluation Finish\n",
      "421: Data Load Finish, "
     ]
    },
    {
     "name": "stderr",
     "output_type": "stream",
     "text": [
      "C:\\Users\\vfgtr554\\anaconda3\\envs\\cctv\\lib\\site-packages\\pandas\\core\\arraylike.py:364: RuntimeWarning: divide by zero encountered in log\n",
      "  result = getattr(ufunc, method)(*inputs, **kwargs)\n",
      "C:\\Users\\vfgtr554\\anaconda3\\envs\\cctv\\lib\\site-packages\\statsmodels\\base\\model.py:606: ConvergenceWarning: Maximum Likelihood optimization failed to converge. Check mle_retvals\n",
      "  ConvergenceWarning)\n"
     ]
    },
    {
     "name": "stdout",
     "output_type": "stream",
     "text": [
      "Predict Finish, 27.5823 27.39 0.9643 0.0348 Evaluation Finish\n",
      "422: Data Load Finish, Predict Finish, 7.1944 6.4308 0.2157 0.7482 Evaluation Finish\n",
      "423: Data Load Finish, "
     ]
    },
    {
     "name": "stderr",
     "output_type": "stream",
     "text": [
      "C:\\Users\\vfgtr554\\anaconda3\\envs\\cctv\\lib\\site-packages\\pandas\\core\\arraylike.py:364: RuntimeWarning: divide by zero encountered in log\n",
      "  result = getattr(ufunc, method)(*inputs, **kwargs)\n",
      "C:\\Users\\vfgtr554\\anaconda3\\envs\\cctv\\lib\\site-packages\\statsmodels\\base\\model.py:606: ConvergenceWarning: Maximum Likelihood optimization failed to converge. Check mle_retvals\n",
      "  ConvergenceWarning)\n"
     ]
    },
    {
     "name": "stdout",
     "output_type": "stream",
     "text": [
      "Predict Finish, 27.5823 27.39 0.9643 0.0348 Evaluation Finish\n",
      "424: Data Load Finish, "
     ]
    },
    {
     "name": "stderr",
     "output_type": "stream",
     "text": [
      "C:\\Users\\vfgtr554\\anaconda3\\envs\\cctv\\lib\\site-packages\\statsmodels\\base\\model.py:606: ConvergenceWarning: Maximum Likelihood optimization failed to converge. Check mle_retvals\n",
      "  ConvergenceWarning)\n"
     ]
    },
    {
     "name": "stdout",
     "output_type": "stream",
     "text": [
      "Predict Finish, 7.668 6.7192 0.2549 0.7317 Evaluation Finish\n",
      "425: Data Load Finish, Predict Finish, 4.1842 3.8331 0.1298 0.8536 Evaluation Finish\n",
      "426: Data Load Finish, Predict Finish, 18.3233 18.0005 0.6575 0.3588 Evaluation Finish\n",
      "427: Data Load Finish, Predict Finish, 26.9134 26.707 0.9682 0.0582 Evaluation Finish\n",
      "428: Data Load Finish, Predict Finish, 23.4125 23.195 0.8422 0.1807 Evaluation Finish\n",
      "429: Data Load Finish, Predict Finish, 30.2427 30.044 1.0877 -0.0583 Evaluation Finish\n",
      "430: Data Load Finish, "
     ]
    },
    {
     "name": "stderr",
     "output_type": "stream",
     "text": [
      "C:\\Users\\vfgtr554\\anaconda3\\envs\\cctv\\lib\\site-packages\\pandas\\core\\arraylike.py:364: RuntimeWarning: divide by zero encountered in log\n",
      "  result = getattr(ufunc, method)(*inputs, **kwargs)\n",
      "C:\\Users\\vfgtr554\\anaconda3\\envs\\cctv\\lib\\site-packages\\statsmodels\\base\\model.py:606: ConvergenceWarning: Maximum Likelihood optimization failed to converge. Check mle_retvals\n",
      "  ConvergenceWarning)\n"
     ]
    },
    {
     "name": "stdout",
     "output_type": "stream",
     "text": [
      "Predict Finish, 27.5823 27.39 0.9643 0.0348 Evaluation Finish\n",
      "431: Data Load Finish, Predict Finish, 23.6575 23.3972 0.8502 0.1721 Evaluation Finish\n",
      "432: Data Load Finish, Predict Finish, 13.0976 12.6687 0.4385 0.5417 Evaluation Finish\n",
      "433: Data Load Finish, Predict Finish, 15.2419 14.8727 0.5172 0.4666 Evaluation Finish\n",
      "434: Data Load Finish, Predict Finish, 6.9333 6.0183 0.2008 0.7574 Evaluation Finish\n",
      "435: Data Load Finish, Predict Finish, 7.9835 7.1633 0.2416 0.7206 Evaluation Finish\n",
      "436: Data Load Finish, Predict Finish, 11.7338 11.2758 0.3887 0.5894 Evaluation Finish\n",
      "437: Data Load Finish, Predict Finish, 5.5427 4.3712 0.1421 0.806 Evaluation Finish\n",
      "438: Data Load Finish, Predict Finish, 6.1305 5.2408 0.1735 0.7855 Evaluation Finish\n",
      "439: Data Load Finish, Predict Finish, 3.3304 2.9779 0.107 0.8835 Evaluation Finish\n",
      "440: Data Load Finish, Predict Finish, 6.2931 5.3924 0.2067 0.7798 Evaluation Finish\n",
      "441: Data Load Finish, Predict Finish, 3.4268 2.6317 0.1017 0.8801 Evaluation Finish\n",
      "442: Data Load Finish, Predict Finish, 4.4952 3.237 0.1291 0.8427 Evaluation Finish\n",
      "443: Data Load Finish, Predict Finish, 8.8776 8.2695 0.2814 0.6893 Evaluation Finish\n",
      "444: Data Load Finish, "
     ]
    },
    {
     "name": "stderr",
     "output_type": "stream",
     "text": [
      "C:\\Users\\vfgtr554\\anaconda3\\envs\\cctv\\lib\\site-packages\\pandas\\core\\arraylike.py:364: RuntimeWarning: divide by zero encountered in log\n",
      "  result = getattr(ufunc, method)(*inputs, **kwargs)\n",
      "C:\\Users\\vfgtr554\\anaconda3\\envs\\cctv\\lib\\site-packages\\statsmodels\\base\\model.py:606: ConvergenceWarning: Maximum Likelihood optimization failed to converge. Check mle_retvals\n",
      "  ConvergenceWarning)\n"
     ]
    },
    {
     "name": "stdout",
     "output_type": "stream",
     "text": [
      "Predict Finish, 27.5823 27.39 0.9643 0.0348 Evaluation Finish\n",
      "445: Data Load Finish, Predict Finish, 7.0536 6.1676 0.2058 0.7532 Evaluation Finish\n",
      "446: Data Load Finish, Predict Finish, 3.8064 3.5819 0.1234 0.8668 Evaluation Finish\n",
      "447: Data Load Finish, Predict Finish, 3.7662 3.4986 0.1205 0.8682 Evaluation Finish\n",
      "448: Data Load Finish, "
     ]
    },
    {
     "name": "stderr",
     "output_type": "stream",
     "text": [
      "C:\\Users\\vfgtr554\\anaconda3\\envs\\cctv\\lib\\site-packages\\pandas\\core\\arraylike.py:364: RuntimeWarning: divide by zero encountered in log\n",
      "  result = getattr(ufunc, method)(*inputs, **kwargs)\n",
      "C:\\Users\\vfgtr554\\anaconda3\\envs\\cctv\\lib\\site-packages\\statsmodels\\base\\model.py:606: ConvergenceWarning: Maximum Likelihood optimization failed to converge. Check mle_retvals\n",
      "  ConvergenceWarning)\n"
     ]
    },
    {
     "name": "stdout",
     "output_type": "stream",
     "text": [
      "Predict Finish, 27.5823 27.39 0.9643 0.0348 Evaluation Finish\n",
      "449: Data Load Finish, Predict Finish, 5.1605 4.1884 0.1369 0.8194 Evaluation Finish\n",
      "450: Data Load Finish, "
     ]
    },
    {
     "name": "stderr",
     "output_type": "stream",
     "text": [
      "C:\\Users\\vfgtr554\\anaconda3\\envs\\cctv\\lib\\site-packages\\statsmodels\\base\\model.py:606: ConvergenceWarning: Maximum Likelihood optimization failed to converge. Check mle_retvals\n",
      "  ConvergenceWarning)\n"
     ]
    },
    {
     "name": "stdout",
     "output_type": "stream",
     "text": [
      "Predict Finish, 5.0452 4.162 0.1365 0.8234 Evaluation Finish\n",
      "451: Data Load Finish, Predict Finish, 4.0353 3.5513 0.1349 0.8588 Evaluation Finish\n",
      "452: Data Load Finish, Predict Finish, 4.5335 3.847 0.1284 0.8414 Evaluation Finish\n",
      "453: Data Load Finish, "
     ]
    },
    {
     "name": "stderr",
     "output_type": "stream",
     "text": [
      "C:\\Users\\vfgtr554\\anaconda3\\envs\\cctv\\lib\\site-packages\\pandas\\core\\arraylike.py:364: RuntimeWarning: divide by zero encountered in log\n",
      "  result = getattr(ufunc, method)(*inputs, **kwargs)\n",
      "C:\\Users\\vfgtr554\\anaconda3\\envs\\cctv\\lib\\site-packages\\statsmodels\\base\\model.py:606: ConvergenceWarning: Maximum Likelihood optimization failed to converge. Check mle_retvals\n",
      "  ConvergenceWarning)\n"
     ]
    },
    {
     "name": "stdout",
     "output_type": "stream",
     "text": [
      "Predict Finish, 27.5823 27.39 0.9643 0.0348 Evaluation Finish\n",
      "454: Data Load Finish, Predict Finish, 10.1017 9.5737 0.3282 0.6465 Evaluation Finish\n",
      "455: Data Load Finish, Predict Finish, 11.8538 11.4193 0.3941 0.5852 Evaluation Finish\n",
      "456: Data Load Finish, "
     ]
    },
    {
     "name": "stderr",
     "output_type": "stream",
     "text": [
      "C:\\Users\\vfgtr554\\anaconda3\\envs\\cctv\\lib\\site-packages\\pandas\\core\\arraylike.py:364: RuntimeWarning: divide by zero encountered in log\n",
      "  result = getattr(ufunc, method)(*inputs, **kwargs)\n",
      "C:\\Users\\vfgtr554\\anaconda3\\envs\\cctv\\lib\\site-packages\\statsmodels\\base\\model.py:606: ConvergenceWarning: Maximum Likelihood optimization failed to converge. Check mle_retvals\n",
      "  ConvergenceWarning)\n"
     ]
    },
    {
     "name": "stdout",
     "output_type": "stream",
     "text": [
      "Predict Finish, 27.5823 27.39 0.9643 0.0348 Evaluation Finish\n",
      "457: Data Load Finish, Predict Finish, 7.5996 6.8849 0.232 0.7341 Evaluation Finish\n",
      "458: Data Load Finish, Predict Finish, 3.4909 2.9156 0.1065 0.8778 Evaluation Finish\n",
      "459: Data Load Finish, "
     ]
    },
    {
     "name": "stderr",
     "output_type": "stream",
     "text": [
      "C:\\Users\\vfgtr554\\anaconda3\\envs\\cctv\\lib\\site-packages\\pandas\\core\\arraylike.py:364: RuntimeWarning: divide by zero encountered in log\n",
      "  result = getattr(ufunc, method)(*inputs, **kwargs)\n",
      "C:\\Users\\vfgtr554\\anaconda3\\envs\\cctv\\lib\\site-packages\\statsmodels\\base\\model.py:606: ConvergenceWarning: Maximum Likelihood optimization failed to converge. Check mle_retvals\n",
      "  ConvergenceWarning)\n"
     ]
    },
    {
     "name": "stdout",
     "output_type": "stream",
     "text": [
      "Predict Finish, 27.5823 27.39 0.9643 0.0348 Evaluation Finish\n",
      "460: Data Load Finish, Predict Finish, 8.2162 7.5333 0.2549 0.7125 Evaluation Finish\n",
      "461: Data Load Finish, Predict Finish, 3.6622 3.5243 0.1225 0.8718 Evaluation Finish\n",
      "462: Data Load Finish, "
     ]
    },
    {
     "name": "stderr",
     "output_type": "stream",
     "text": [
      "C:\\Users\\vfgtr554\\anaconda3\\envs\\cctv\\lib\\site-packages\\pandas\\core\\arraylike.py:364: RuntimeWarning: divide by zero encountered in log\n",
      "  result = getattr(ufunc, method)(*inputs, **kwargs)\n",
      "C:\\Users\\vfgtr554\\anaconda3\\envs\\cctv\\lib\\site-packages\\statsmodels\\base\\model.py:606: ConvergenceWarning: Maximum Likelihood optimization failed to converge. Check mle_retvals\n",
      "  ConvergenceWarning)\n"
     ]
    },
    {
     "name": "stdout",
     "output_type": "stream",
     "text": [
      "Predict Finish, 27.5823 27.39 0.9643 0.0348 Evaluation Finish\n",
      "463: Data Load Finish, Predict Finish, 6.6699 5.8263 0.1941 0.7666 Evaluation Finish\n",
      "464: Data Load Finish, Predict Finish, 3.3386 2.8394 0.1052 0.8832 Evaluation Finish\n",
      "465: Data Load Finish, Predict Finish, 8.6143 8.0079 0.2723 0.6985 Evaluation Finish\n",
      "466: Data Load Finish, Predict Finish, 11.598 11.153 0.3846 0.5941 Evaluation Finish\n",
      "467: Data Load Finish, Predict Finish, 3.2402 3.1218 0.113 0.8866 Evaluation Finish\n",
      "468: Data Load Finish, Predict Finish, 10.1811 9.6308 0.3582 0.6437 Evaluation Finish\n",
      "469: Data Load Finish, Predict Finish, 3.4372 2.8112 0.1065 0.8797 Evaluation Finish\n",
      "470: Data Load Finish, Predict Finish, 10.6037 10.0231 0.3437 0.6289 Evaluation Finish\n",
      "471: Data Load Finish, Predict Finish, 3.3629 3.0472 0.11 0.8823 Evaluation Finish\n",
      "472: Data Load Finish, Predict Finish, 8.3671 7.5516 0.2552 0.7072 Evaluation Finish\n",
      "473: Data Load Finish, Predict Finish, 10.3724 9.138 0.3426 0.637 Evaluation Finish\n",
      "474: Data Load Finish, Predict Finish, 5.6444 4.571 0.1775 0.8025 Evaluation Finish\n",
      "475: Data Load Finish, Predict Finish, 9.998 9.4745 0.3252 0.6501 Evaluation Finish\n",
      "476: Data Load Finish, Predict Finish, 5.4851 4.3751 0.1421 0.808 Evaluation Finish\n",
      "477: Data Load Finish, Predict Finish, 4.8706 4.1995 0.1393 0.8296 Evaluation Finish\n",
      "478: Data Load Finish, Predict Finish, 6.4716 5.5494 0.1839 0.7735 Evaluation Finish\n",
      "479: Data Load Finish, Predict Finish, 6.5174 5.6966 0.1898 0.7719 Evaluation Finish\n",
      "480: Data Load Finish, Predict Finish, 6.6715 5.7795 0.1921 0.7665 Evaluation Finish\n",
      "481: Data Load Finish, Predict Finish, 3.4718 3.1499 0.112 0.8785 Evaluation Finish\n",
      "482: Data Load Finish, Predict Finish, 4.6361 3.918 0.1305 0.8378 Evaluation Finish\n",
      "483: Data Load Finish, "
     ]
    },
    {
     "name": "stderr",
     "output_type": "stream",
     "text": [
      "C:\\Users\\vfgtr554\\anaconda3\\envs\\cctv\\lib\\site-packages\\pandas\\core\\arraylike.py:364: RuntimeWarning: divide by zero encountered in log\n",
      "  result = getattr(ufunc, method)(*inputs, **kwargs)\n",
      "C:\\Users\\vfgtr554\\anaconda3\\envs\\cctv\\lib\\site-packages\\statsmodels\\base\\model.py:606: ConvergenceWarning: Maximum Likelihood optimization failed to converge. Check mle_retvals\n",
      "  ConvergenceWarning)\n",
      "C:\\Users\\vfgtr554\\anaconda3\\envs\\cctv\\lib\\site-packages\\pandas\\core\\arraylike.py:364: RuntimeWarning: divide by zero encountered in log\n",
      "  result = getattr(ufunc, method)(*inputs, **kwargs)\n"
     ]
    },
    {
     "name": "stdout",
     "output_type": "stream",
     "text": [
      "Predict Finish, 27.5823 27.39 0.9643 0.0348 Evaluation Finish\n",
      "484: Data Load Finish, "
     ]
    },
    {
     "name": "stderr",
     "output_type": "stream",
     "text": [
      "C:\\Users\\vfgtr554\\anaconda3\\envs\\cctv\\lib\\site-packages\\statsmodels\\base\\model.py:606: ConvergenceWarning: Maximum Likelihood optimization failed to converge. Check mle_retvals\n",
      "  ConvergenceWarning)\n"
     ]
    },
    {
     "name": "stdout",
     "output_type": "stream",
     "text": [
      "Predict Finish, 27.5823 27.39 0.9643 0.0348 Evaluation Finish\n",
      "485: Data Load Finish, Predict Finish, 4.6767 4.1702 0.1581 0.8363 Evaluation Finish\n",
      "486: Data Load Finish, Predict Finish, 4.0779 3.7372 0.1271 0.8573 Evaluation Finish\n",
      "487: Data Load Finish, Predict Finish, 11.6371 11.1585 0.4126 0.5928 Evaluation Finish\n",
      "488: Data Load Finish, Predict Finish, 4.4285 3.4194 0.1343 0.845 Evaluation Finish\n",
      "489: Data Load Finish, Predict Finish, 13.895 13.4966 0.4958 0.5137 Evaluation Finish\n",
      "490: Data Load Finish, Predict Finish, 11.0625 10.5542 0.3912 0.6129 Evaluation Finish\n",
      "491: Data Load Finish, Predict Finish, 7.0038 6.1177 0.2051 0.7549 Evaluation Finish\n",
      "492: Data Load Finish, Predict Finish, 5.2582 3.8541 0.125 0.816 Evaluation Finish\n",
      "493: Data Load Finish, Predict Finish, 3.4048 2.5886 0.0999 0.8808 Evaluation Finish\n",
      "494: Data Load Finish, "
     ]
    },
    {
     "name": "stderr",
     "output_type": "stream",
     "text": [
      "C:\\Users\\vfgtr554\\anaconda3\\envs\\cctv\\lib\\site-packages\\pandas\\core\\arraylike.py:364: RuntimeWarning: divide by zero encountered in log\n",
      "  result = getattr(ufunc, method)(*inputs, **kwargs)\n",
      "C:\\Users\\vfgtr554\\anaconda3\\envs\\cctv\\lib\\site-packages\\statsmodels\\base\\model.py:606: ConvergenceWarning: Maximum Likelihood optimization failed to converge. Check mle_retvals\n",
      "  ConvergenceWarning)\n"
     ]
    },
    {
     "name": "stdout",
     "output_type": "stream",
     "text": [
      "Predict Finish, 27.5823 27.39 0.9643 0.0348 Evaluation Finish\n",
      "495: Data Load Finish, Predict Finish, 3.9063 3.6391 0.1349 0.8633 Evaluation Finish\n",
      "496: Data Load Finish, "
     ]
    },
    {
     "name": "stderr",
     "output_type": "stream",
     "text": [
      "C:\\Users\\vfgtr554\\anaconda3\\envs\\cctv\\lib\\site-packages\\pandas\\core\\arraylike.py:364: RuntimeWarning: divide by zero encountered in log\n",
      "  result = getattr(ufunc, method)(*inputs, **kwargs)\n",
      "C:\\Users\\vfgtr554\\anaconda3\\envs\\cctv\\lib\\site-packages\\statsmodels\\base\\model.py:606: ConvergenceWarning: Maximum Likelihood optimization failed to converge. Check mle_retvals\n",
      "  ConvergenceWarning)\n"
     ]
    },
    {
     "name": "stdout",
     "output_type": "stream",
     "text": [
      "Predict Finish, 27.5823 27.39 0.9643 0.0348 Evaluation Finish\n",
      "497: Data Load Finish, Predict Finish, 3.9933 3.7611 0.1289 0.8603 Evaluation Finish\n",
      "498: Data Load Finish, Predict Finish, 5.1224 3.9514 0.1552 0.8207 Evaluation Finish\n",
      "499: Data Load Finish, Predict Finish, 3.2662 3.0559 0.1114 0.8857 Evaluation Finish\n",
      "500: Data Load Finish, Predict Finish, 3.3026 2.7523 0.1016 0.8844 Evaluation Finish\n",
      "501: Data Load Finish, Predict Finish, 3.6181 3.146 0.1187 0.8734 Evaluation Finish\n",
      "502: Data Load Finish, Predict Finish, 6.5387 5.7004 0.2149 0.7712 Evaluation Finish\n",
      "503: Data Load Finish, "
     ]
    },
    {
     "name": "stderr",
     "output_type": "stream",
     "text": [
      "C:\\Users\\vfgtr554\\anaconda3\\envs\\cctv\\lib\\site-packages\\pandas\\core\\arraylike.py:364: RuntimeWarning: divide by zero encountered in log\n",
      "  result = getattr(ufunc, method)(*inputs, **kwargs)\n",
      "C:\\Users\\vfgtr554\\anaconda3\\envs\\cctv\\lib\\site-packages\\statsmodels\\base\\model.py:606: ConvergenceWarning: Maximum Likelihood optimization failed to converge. Check mle_retvals\n",
      "  ConvergenceWarning)\n",
      "C:\\Users\\vfgtr554\\anaconda3\\envs\\cctv\\lib\\site-packages\\pandas\\core\\arraylike.py:364: RuntimeWarning: divide by zero encountered in log\n",
      "  result = getattr(ufunc, method)(*inputs, **kwargs)\n"
     ]
    },
    {
     "name": "stdout",
     "output_type": "stream",
     "text": [
      "Predict Finish, 27.5823 27.39 0.9643 0.0348 Evaluation Finish\n",
      "504: Data Load Finish, "
     ]
    },
    {
     "name": "stderr",
     "output_type": "stream",
     "text": [
      "C:\\Users\\vfgtr554\\anaconda3\\envs\\cctv\\lib\\site-packages\\statsmodels\\base\\model.py:606: ConvergenceWarning: Maximum Likelihood optimization failed to converge. Check mle_retvals\n",
      "  ConvergenceWarning)\n"
     ]
    },
    {
     "name": "stdout",
     "output_type": "stream",
     "text": [
      "Predict Finish, 27.5823 27.39 0.9643 0.0348 Evaluation Finish\n",
      "505: Data Load Finish, Predict Finish, 11.9951 11.5032 0.3974 0.5802 Evaluation Finish\n",
      "RMSE: 11.896618481668346, MAE: 11.337151398274443, MAPE: 0.40080404476470094\n",
      "ACC: 0.5892439472252886\n"
     ]
    }
   ],
   "source": [
    "predictARIMA(df, idx, 3)"
   ]
  },
  {
   "cell_type": "code",
   "execution_count": null,
   "id": "96b7cfe2",
   "metadata": {},
   "outputs": [],
   "source": []
  }
 ],
 "metadata": {
  "kernelspec": {
   "display_name": "cctv",
   "language": "python",
   "name": "cctv"
  },
  "language_info": {
   "codemirror_mode": {
    "name": "ipython",
    "version": 3
   },
   "file_extension": ".py",
   "mimetype": "text/x-python",
   "name": "python",
   "nbconvert_exporter": "python",
   "pygments_lexer": "ipython3",
   "version": "3.7.13"
  }
 },
 "nbformat": 4,
 "nbformat_minor": 5
}
