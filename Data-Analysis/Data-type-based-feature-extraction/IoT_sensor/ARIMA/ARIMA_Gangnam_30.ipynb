{
 "cells": [
  {
   "cell_type": "code",
   "execution_count": 1,
   "id": "ea68090e",
   "metadata": {},
   "outputs": [],
   "source": [
    "import math\n",
    "import pandas as pd\n",
    "import numpy as np\n",
    "import numpy.linalg as la\n",
    "\n",
    "from sklearn.metrics import mean_squared_error, mean_absolute_error, mean_absolute_percentage_error\n",
    "from statsmodels.tsa.arima.model import ARIMA"
   ]
  },
  {
   "cell_type": "code",
   "execution_count": 2,
   "id": "844c2224",
   "metadata": {},
   "outputs": [],
   "source": [
    "def csvIndexToDatetime(path, start, freq):\n",
    "    df = pd.read_csv(path)\n",
    "    df = df.drop(columns=['Unnamed: 0'])\n",
    "    time_len = df.shape[0]\n",
    "    num_nodes = df.shape[1]\n",
    "    print(time_len, num_nodes)\n",
    "    rng = pd.date_range(start, periods=time_len, freq=freq)\n",
    "    idx = pd.DatetimeIndex(rng)\n",
    "    df.index = idx\n",
    "    return df, idx"
   ]
  },
  {
   "cell_type": "code",
   "execution_count": 3,
   "id": "aa8af9c0",
   "metadata": {},
   "outputs": [],
   "source": [
    "def evaluation(a,b):\n",
    "    rmse = math.sqrt(mean_squared_error(a,b))\n",
    "    mae = mean_absolute_error(a, b)\n",
    "    mape = mean_absolute_percentage_error(a, b)\n",
    "    F_norm = la.norm(a-b)/la.norm(a)\n",
    "    return rmse, mae, mape, 1-F_norm"
   ]
  },
  {
   "cell_type": "code",
   "execution_count": 4,
   "id": "ee5c0335",
   "metadata": {},
   "outputs": [],
   "source": [
    "def predictARIMA(df, idx, timelag):\n",
    "    rmse, mae, mape, acc =  [], [], [], []\n",
    "    \n",
    "    for i in range(df.shape[1]):\n",
    "        print(i, end = ': ')\n",
    "        ts = df.iloc[:-timelag, i]\n",
    "        ts_log = np.log(ts)\n",
    "        ts_log = np.array(ts_log, dtype=np.float64)\n",
    "        where_are_inf = np.isinf(ts_log)\n",
    "        ts_log[where_are_inf] = 0\n",
    "        ts_log = pd.Series(ts_log)\n",
    "        ts_log.index = idx[:-timelag]\n",
    "        print('Data Load Finish', end = ', ')\n",
    "        \n",
    "        model = ARIMA(ts_log, order=[1,0,0])\n",
    "        properModel = model.fit()\n",
    "        predict_ts = properModel.forecast(steps=timelag)\n",
    "        log_recover = np.exp(predict_ts)\n",
    "        testX = org_df.iloc[-timelag:, 0]\n",
    "        print('Predict Finish', end = ', ')\n",
    "        \n",
    "        er_rmse, er_mae, er_mape, er_acc = evaluation(testX, log_recover)\n",
    "        print(round(er_rmse,4), round(er_mae,4), round(er_mape,4), round(er_acc,4), end = ' ')\n",
    "        \n",
    "        rmse.append(er_rmse)\n",
    "        mae.append(er_mae)\n",
    "        mape.append(er_mape)\n",
    "        acc.append(er_acc)\n",
    "        print('Evaluation Finish')\n",
    "        \n",
    "    acc = np.mat(acc)\n",
    "    acc[acc<0] = 0\n",
    "    print('RMSE: ' + str(np.mean(rmse)) + ', MAE: ' + str(np.mean(mae)) + ', MAPE: ' + str(np.mean(mape))  + '\\n'\n",
    "          + 'ACC: ' + str(np.mean(acc)))"
   ]
  },
  {
   "cell_type": "code",
   "execution_count": 5,
   "id": "e171bd77",
   "metadata": {
    "scrolled": true
   },
   "outputs": [],
   "source": [
    "path_0 = '../Data/Gangnam/speed_gangnam_0.csv'\n",
    "path_5 = '../Data/Gangnam/speed_gangnam_5.csv'\n",
    "path_10 = '../Data/Gangnam/speed_gangnam_10.csv'\n",
    "path_20 = '../Data/Gangnam/speed_gangnam_20.csv'"
   ]
  },
  {
   "cell_type": "code",
   "execution_count": 6,
   "id": "ee4dc616",
   "metadata": {},
   "outputs": [],
   "source": [
    "start = '1/10/2020'\n",
    "freq = '5min'"
   ]
  },
  {
   "cell_type": "code",
   "execution_count": 7,
   "id": "8ce044a2",
   "metadata": {},
   "outputs": [
    {
     "name": "stdout",
     "output_type": "stream",
     "text": [
      "2880 506\n"
     ]
    }
   ],
   "source": [
    "org_path = '../Data/Gangnam/speed_gangnam_0.csv'\n",
    "org_df, org_idx = csvIndexToDatetime(org_path, start, freq)"
   ]
  },
  {
   "cell_type": "markdown",
   "id": "96840976",
   "metadata": {},
   "source": [
    "### Unobserved Nodes = 0%"
   ]
  },
  {
   "cell_type": "code",
   "execution_count": 8,
   "id": "9eaf61b7",
   "metadata": {},
   "outputs": [
    {
     "name": "stdout",
     "output_type": "stream",
     "text": [
      "2880 506\n"
     ]
    },
    {
     "data": {
      "text/plain": [
       "0"
      ]
     },
     "execution_count": 8,
     "metadata": {},
     "output_type": "execute_result"
    }
   ],
   "source": [
    "df, idx = csvIndexToDatetime(path_0, start, freq)\n",
    "(df == 0).sum().sum()"
   ]
  },
  {
   "cell_type": "code",
   "execution_count": 9,
   "id": "60f8ff1e",
   "metadata": {
    "scrolled": false
   },
   "outputs": [
    {
     "name": "stdout",
     "output_type": "stream",
     "text": [
      "0: Data Load Finish, Predict Finish, 3.2028 2.8599 0.1005 0.8866 Evaluation Finish\n",
      "1: Data Load Finish, Predict Finish, 3.8612 3.0704 0.1026 0.8633 Evaluation Finish\n",
      "2: Data Load Finish, Predict Finish, 5.8793 5.1538 0.1952 0.7919 Evaluation Finish\n",
      "3: Data Load Finish, Predict Finish, 16.9453 16.6122 0.6048 0.4003 Evaluation Finish\n",
      "4: Data Load Finish, Predict Finish, 7.0359 6.3972 0.221 0.751 Evaluation Finish\n",
      "5: Data Load Finish, Predict Finish, 6.7796 6.1555 0.2109 0.7601 Evaluation Finish\n",
      "6: Data Load Finish, Predict Finish, 3.8622 3.244 0.11 0.8633 Evaluation Finish\n",
      "7: Data Load Finish, Predict Finish, 7.1127 6.5232 0.2251 0.7483 Evaluation Finish\n",
      "8: Data Load Finish, Predict Finish, 5.4057 4.6592 0.1577 0.8087 Evaluation Finish\n",
      "9: Data Load Finish, Predict Finish, 9.3777 8.9684 0.3122 0.6681 Evaluation Finish\n",
      "10: Data Load Finish, Predict Finish, 10.3222 9.9121 0.3458 0.6347 Evaluation Finish\n",
      "11: Data Load Finish, Predict Finish, 2.8575 2.4735 0.0871 0.8989 Evaluation Finish\n",
      "12: Data Load Finish, Predict Finish, 16.2414 16.0177 0.5847 0.4252 Evaluation Finish\n",
      "13: Data Load Finish, Predict Finish, 28.5705 28.4349 1.0307 -0.0112 Evaluation Finish\n",
      "14: Data Load Finish, Predict Finish, 29.2071 29.0772 1.0539 -0.0337 Evaluation Finish\n",
      "15: Data Load Finish, Predict Finish, 18.4296 18.2241 0.6641 0.3477 Evaluation Finish\n",
      "16: Data Load Finish, Predict Finish, 3.6007 2.9842 0.1138 0.8726 Evaluation Finish\n",
      "17: Data Load Finish, Predict Finish, 8.7175 8.2752 0.2874 0.6915 Evaluation Finish\n",
      "18: Data Load Finish, Predict Finish, 2.8274 2.4974 0.0894 0.8999 Evaluation Finish\n",
      "19: Data Load Finish, Predict Finish, 9.7873 9.2793 0.3227 0.6536 Evaluation Finish\n",
      "20: Data Load Finish, Predict Finish, 9.1318 8.6991 0.3024 0.6768 Evaluation Finish\n",
      "21: Data Load Finish, Predict Finish, 3.7181 2.8254 0.094 0.8684 Evaluation Finish\n",
      "22: Data Load Finish, Predict Finish, 3.0268 2.3299 0.0797 0.8929 Evaluation Finish\n",
      "23: Data Load Finish, Predict Finish, 2.8107 2.4562 0.0878 0.9005 Evaluation Finish\n",
      "24: Data Load Finish, Predict Finish, 12.8106 12.518 0.4592 0.5466 Evaluation Finish\n",
      "25: Data Load Finish, Predict Finish, 5.4208 4.606 0.1554 0.8081 Evaluation Finish\n",
      "26: Data Load Finish, Predict Finish, 5.6008 4.7735 0.1611 0.8018 Evaluation Finish\n",
      "27: Data Load Finish, Predict Finish, 4.8752 4.0531 0.137 0.8275 Evaluation Finish\n",
      "28: Data Load Finish, Predict Finish, 6.1032 5.3875 0.2016 0.784 Evaluation Finish\n",
      "29: Data Load Finish, Predict Finish, 5.2072 4.369 0.147 0.8157 Evaluation Finish\n",
      "30: Data Load Finish, Predict Finish, 2.7735 2.4084 0.0896 0.9018 Evaluation Finish\n",
      "31: Data Load Finish, Predict Finish, 3.1294 2.7594 0.0957 0.8892 Evaluation Finish\n",
      "32: Data Load Finish, Predict Finish, 2.6872 2.2392 0.0792 0.9049 Evaluation Finish\n",
      "33: Data Load Finish, Predict Finish, 11.5652 11.2646 0.3955 0.5907 Evaluation Finish\n",
      "34: Data Load Finish, Predict Finish, 4.4699 3.7512 0.1268 0.8418 Evaluation Finish\n",
      "35: Data Load Finish, Predict Finish, 6.8937 6.3324 0.2181 0.756 Evaluation Finish\n",
      "36: Data Load Finish, Predict Finish, 4.8412 4.0527 0.1366 0.8287 Evaluation Finish\n",
      "37: Data Load Finish, Predict Finish, 6.0654 5.2881 0.1794 0.7853 Evaluation Finish\n",
      "38: Data Load Finish, Predict Finish, 6.2839 5.6568 0.1943 0.7776 Evaluation Finish\n",
      "39: Data Load Finish, Predict Finish, 3.2347 2.8263 0.0974 0.8855 Evaluation Finish\n",
      "40: Data Load Finish, Predict Finish, 6.9558 5.9163 0.2007 0.7538 Evaluation Finish\n",
      "41: Data Load Finish, Predict Finish, 8.4862 8.0698 0.2811 0.6997 Evaluation Finish\n",
      "42: Data Load Finish, Predict Finish, 6.65 6.1203 0.2113 0.7646 Evaluation Finish\n",
      "43: Data Load Finish, Predict Finish, 3.6773 3.0074 0.1154 0.8699 Evaluation Finish\n",
      "44: Data Load Finish, Predict Finish, 3.4394 2.8308 0.1034 0.8783 Evaluation Finish\n",
      "45: Data Load Finish, Predict Finish, 7.4554 6.9357 0.2395 0.7361 Evaluation Finish\n",
      "46: Data Load Finish, Predict Finish, 6.0611 5.4677 0.2048 0.7855 Evaluation Finish\n",
      "47: Data Load Finish, Predict Finish, 4.1376 3.1182 0.1045 0.8536 Evaluation Finish\n",
      "48: Data Load Finish, Predict Finish, 2.7917 2.4717 0.0894 0.9012 Evaluation Finish\n",
      "49: Data Load Finish, Predict Finish, 2.761 2.3545 0.0875 0.9023 Evaluation Finish\n",
      "50: Data Load Finish, "
     ]
    },
    {
     "name": "stderr",
     "output_type": "stream",
     "text": [
      "C:\\Users\\vfgtr554\\anaconda3\\envs\\cctv\\lib\\site-packages\\statsmodels\\base\\model.py:606: ConvergenceWarning: Maximum Likelihood optimization failed to converge. Check mle_retvals\n",
      "  ConvergenceWarning)\n"
     ]
    },
    {
     "name": "stdout",
     "output_type": "stream",
     "text": [
      "Predict Finish, 4.5086 3.7465 0.126 0.8404 Evaluation Finish\n",
      "51: Data Load Finish, Predict Finish, 7.4949 6.9935 0.2416 0.7347 Evaluation Finish\n",
      "52: Data Load Finish, Predict Finish, 10.7749 10.452 0.3664 0.6187 Evaluation Finish\n",
      "53: Data Load Finish, Predict Finish, 13.602 13.2921 0.467 0.5186 Evaluation Finish\n",
      "54: Data Load Finish, Predict Finish, 11.1781 10.8735 0.3815 0.6044 Evaluation Finish\n",
      "55: Data Load Finish, Predict Finish, 3.6353 2.9263 0.1124 0.8713 Evaluation Finish\n",
      "56: Data Load Finish, Predict Finish, 9.1087 8.6882 0.3218 0.6776 Evaluation Finish\n",
      "57: Data Load Finish, Predict Finish, 2.875 2.4498 0.091 0.8982 Evaluation Finish\n",
      "58: Data Load Finish, Predict Finish, 14.1873 13.9177 0.5095 0.4979 Evaluation Finish\n",
      "59: Data Load Finish, Predict Finish, 8.2602 7.7763 0.2886 0.7077 Evaluation Finish\n",
      "60: Data Load Finish, Predict Finish, 5.8482 5.1802 0.1957 0.793 Evaluation Finish\n",
      "61: Data Load Finish, Predict Finish, 7.6686 7.1733 0.2479 0.7286 Evaluation Finish\n",
      "62: Data Load Finish, Predict Finish, 5.8545 5.1757 0.1952 0.7928 Evaluation Finish\n",
      "63: Data Load Finish, Predict Finish, 4.4857 3.9003 0.1478 0.8412 Evaluation Finish\n",
      "64: Data Load Finish, Predict Finish, 5.3775 4.5104 0.1719 0.8097 Evaluation Finish\n",
      "65: Data Load Finish, Predict Finish, 6.9464 6.2571 0.2143 0.7542 Evaluation Finish\n",
      "66: Data Load Finish, Predict Finish, 3.1659 2.7933 0.0966 0.888 Evaluation Finish\n",
      "67: Data Load Finish, Predict Finish, 8.1903 7.6496 0.2645 0.7101 Evaluation Finish\n",
      "68: Data Load Finish, Predict Finish, 3.8055 3.0122 0.1007 0.8653 Evaluation Finish\n",
      "69: Data Load Finish, Predict Finish, 15.1882 14.9427 0.5463 0.4625 Evaluation Finish\n",
      "70: Data Load Finish, Predict Finish, 25.1701 25.0286 0.9078 0.1092 Evaluation Finish\n",
      "71: Data Load Finish, Predict Finish, 30.6438 30.5301 1.1056 -0.0846 Evaluation Finish\n",
      "72: Data Load Finish, Predict Finish, 31.0792 30.9564 1.1211 -0.1 Evaluation Finish\n",
      "73: Data Load Finish, Predict Finish, 29.2748 29.1087 1.0545 -0.0361 Evaluation Finish\n",
      "74: Data Load Finish, Predict Finish, 30.6831 30.5619 1.1072 -0.0859 Evaluation Finish\n",
      "75: Data Load Finish, Predict Finish, 15.5357 15.2958 0.5589 0.4502 Evaluation Finish\n",
      "76: Data Load Finish, Predict Finish, 6.8151 6.2412 0.2339 0.7588 Evaluation Finish\n",
      "77: Data Load Finish, Predict Finish, 2.8453 2.4765 0.0919 0.8993 Evaluation Finish\n",
      "78: Data Load Finish, Predict Finish, 2.7514 2.4768 0.0896 0.9026 Evaluation Finish\n",
      "79: Data Load Finish, Predict Finish, 3.5591 3.1277 0.1082 0.874 Evaluation Finish\n",
      "80: Data Load Finish, Predict Finish, 3.9309 2.9747 0.116 0.8609 Evaluation Finish\n",
      "81: Data Load Finish, Predict Finish, 11.4933 11.1633 0.3911 0.5932 Evaluation Finish\n",
      "82: Data Load Finish, Predict Finish, 13.2006 12.8873 0.4723 0.5328 Evaluation Finish\n",
      "83: Data Load Finish, Predict Finish, 4.1351 3.3911 0.1137 0.8536 Evaluation Finish\n",
      "84: Data Load Finish, "
     ]
    },
    {
     "name": "stderr",
     "output_type": "stream",
     "text": [
      "C:\\Users\\vfgtr554\\anaconda3\\envs\\cctv\\lib\\site-packages\\statsmodels\\base\\model.py:606: ConvergenceWarning: Maximum Likelihood optimization failed to converge. Check mle_retvals\n",
      "  ConvergenceWarning)\n"
     ]
    },
    {
     "name": "stdout",
     "output_type": "stream",
     "text": [
      "Predict Finish, 11.6936 11.3688 0.418 0.5861 Evaluation Finish\n",
      "85: Data Load Finish, Predict Finish, 21.3019 21.1162 0.7679 0.2461 Evaluation Finish\n",
      "86: Data Load Finish, Predict Finish, 9.664 9.1434 0.3372 0.658 Evaluation Finish\n",
      "87: Data Load Finish, Predict Finish, 4.5378 3.8685 0.1307 0.8394 Evaluation Finish\n",
      "88: Data Load Finish, Predict Finish, 2.989 2.4493 0.0927 0.8942 Evaluation Finish\n",
      "89: Data Load Finish, Predict Finish, 2.87 2.5371 0.0896 0.8984 Evaluation Finish\n",
      "90: Data Load Finish, Predict Finish, 10.2206 9.8464 0.3633 0.6383 Evaluation Finish\n",
      "91: Data Load Finish, Predict Finish, 10.4449 10.085 0.3719 0.6303 Evaluation Finish\n",
      "92: Data Load Finish, Predict Finish, 2.8521 2.4931 0.0918 0.8991 Evaluation Finish\n",
      "93: Data Load Finish, Predict Finish, 2.9356 2.4895 0.0868 0.8961 Evaluation Finish\n",
      "94: Data Load Finish, Predict Finish, 3.3678 2.8765 0.108 0.8808 Evaluation Finish\n",
      "95: Data Load Finish, Predict Finish, 4.786 3.9229 0.1312 0.8306 Evaluation Finish\n",
      "96: Data Load Finish, Predict Finish, 3.8794 3.3226 0.1261 0.8627 Evaluation Finish\n",
      "97: Data Load Finish, Predict Finish, 5.6801 4.9971 0.1883 0.799 Evaluation Finish\n",
      "98: Data Load Finish, Predict Finish, 4.3666 3.2125 0.1065 0.8455 Evaluation Finish\n",
      "99: Data Load Finish, Predict Finish, 3.0375 2.4656 0.0933 0.8925 Evaluation Finish\n",
      "100: Data Load Finish, Predict Finish, 5.4799 4.6194 0.156 0.8061 Evaluation Finish\n",
      "101: Data Load Finish, Predict Finish, 7.5638 7.0767 0.2637 0.7323 Evaluation Finish\n",
      "102: Data Load Finish, Predict Finish, 11.0464 10.6988 0.3743 0.609 Evaluation Finish\n",
      "103: Data Load Finish, Predict Finish, 2.9625 2.549 0.0951 0.8951 Evaluation Finish\n",
      "104: Data Load Finish, Predict Finish, 3.3627 2.9641 0.103 0.881 Evaluation Finish\n",
      "105: Data Load Finish, Predict Finish, 4.2781 3.5505 0.1192 0.8486 Evaluation Finish\n",
      "106: Data Load Finish, Predict Finish, 3.1735 2.7727 0.0956 0.8877 Evaluation Finish\n",
      "107: Data Load Finish, Predict Finish, 5.5791 4.9371 0.1863 0.8025 Evaluation Finish\n",
      "108: Data Load Finish, Predict Finish, 6.2869 5.6671 0.1938 0.7775 Evaluation Finish\n",
      "109: Data Load Finish, Predict Finish, 6.9012 6.3349 0.2177 0.7558 Evaluation Finish\n",
      "110: Data Load Finish, Predict Finish, 3.3147 2.8755 0.0986 0.8827 Evaluation Finish\n",
      "111: Data Load Finish, Predict Finish, 3.5308 2.6243 0.0876 0.875 Evaluation Finish\n",
      "112: Data Load Finish, Predict Finish, 3.7167 3.1797 0.1085 0.8685 Evaluation Finish\n",
      "113: Data Load Finish, Predict Finish, 5.2732 4.5065 0.152 0.8134 Evaluation Finish\n",
      "114: Data Load Finish, Predict Finish, 3.6759 3.121 0.1061 0.8699 Evaluation Finish\n",
      "115: Data Load Finish, Predict Finish, 4.7425 3.9815 0.1338 0.8322 Evaluation Finish\n",
      "116: Data Load Finish, Predict Finish, 4.6203 3.7218 0.1435 0.8365 Evaluation Finish\n",
      "117: Data Load Finish, Predict Finish, 13.5906 13.3176 0.4879 0.519 Evaluation Finish\n",
      "118: Data Load Finish, Predict Finish, 25.3371 25.1884 0.9143 0.1033 Evaluation Finish\n",
      "119: Data Load Finish, Predict Finish, 5.0669 4.0438 0.1559 0.8207 Evaluation Finish\n",
      "120: Data Load Finish, Predict Finish, 2.8703 2.3417 0.082 0.8984 Evaluation Finish\n",
      "121: Data Load Finish, Predict Finish, 5.7909 5.1047 0.1736 0.795 Evaluation Finish\n",
      "122: Data Load Finish, Predict Finish, 8.3421 7.5653 0.2607 0.7048 Evaluation Finish\n",
      "123: Data Load Finish, Predict Finish, 6.3411 5.7208 0.1956 0.7756 Evaluation Finish\n",
      "124: Data Load Finish, Predict Finish, 9.3475 8.946 0.3116 0.6692 Evaluation Finish\n",
      "125: Data Load Finish, Predict Finish, 16.2057 15.9177 0.5822 0.4264 Evaluation Finish\n",
      "126: Data Load Finish, Predict Finish, 7.3216 6.7343 0.2317 0.7409 Evaluation Finish\n",
      "127: Data Load Finish, Predict Finish, 9.9255 9.4753 0.33 0.6487 Evaluation Finish\n",
      "128: Data Load Finish, Predict Finish, 7.6909 7.1645 0.2473 0.7278 Evaluation Finish\n",
      "129: Data Load Finish, Predict Finish, 3.8975 3.2529 0.1098 0.8621 Evaluation Finish\n",
      "130: Data Load Finish, Predict Finish, 3.1761 2.8475 0.1006 0.8876 Evaluation Finish\n",
      "131: Data Load Finish, Predict Finish, 2.856 2.4668 0.0866 0.8989 Evaluation Finish\n",
      "132: Data Load Finish, Predict Finish, 6.5137 5.8898 0.2015 0.7695 Evaluation Finish\n",
      "133: Data Load Finish, Predict Finish, 3.2172 2.7782 0.0954 0.8861 Evaluation Finish\n",
      "134: Data Load Finish, Predict Finish, 10.155 9.772 0.341 0.6406 Evaluation Finish\n",
      "135: Data Load Finish, Predict Finish, 6.4808 5.8724 0.2013 0.7706 Evaluation Finish\n",
      "136: Data Load Finish, Predict Finish, 8.3457 7.8704 0.2727 0.7046 Evaluation Finish\n",
      "137: Data Load Finish, Predict Finish, 5.6611 4.9575 0.1682 0.7996 Evaluation Finish\n",
      "138: Data Load Finish, Predict Finish, 3.8746 2.8632 0.0947 0.8629 Evaluation Finish\n",
      "139: Data Load Finish, Predict Finish, 5.0475 4.2439 0.1426 0.8214 Evaluation Finish\n",
      "140: Data Load Finish, Predict Finish, 2.7508 2.4533 0.0876 0.9026 Evaluation Finish\n",
      "141: Data Load Finish, Predict Finish, 5.4175 4.6072 0.1553 0.8083 Evaluation Finish\n",
      "142: Data Load Finish, Predict Finish, 2.8148 2.4913 0.0898 0.9004 Evaluation Finish\n",
      "143: Data Load Finish, Predict Finish, 5.2019 4.4363 0.1496 0.8159 Evaluation Finish\n",
      "144: Data Load Finish, Predict Finish, 15.4133 15.1682 0.5544 0.4545 Evaluation Finish\n",
      "145: Data Load Finish, Predict Finish, 32.1134 31.9975 1.1586 -0.1366 Evaluation Finish\n",
      "146: Data Load Finish, Predict Finish, 3.41 2.74 0.1049 0.8793 Evaluation Finish\n",
      "147: Data Load Finish, Predict Finish, 3.5752 2.9399 0.1123 0.8735 Evaluation Finish\n",
      "148: Data Load Finish, Predict Finish, 6.507 5.8859 0.2018 0.7697 Evaluation Finish\n",
      "149: Data Load Finish, Predict Finish, 4.1843 2.9413 0.0964 0.8519 Evaluation Finish\n",
      "150: Data Load Finish, Predict Finish, 6.1784 5.5683 0.1904 0.7813 Evaluation Finish\n",
      "151: Data Load Finish, Predict Finish, 5.151 4.4156 0.1492 0.8177 Evaluation Finish\n",
      "152: Data Load Finish, Predict Finish, 5.7948 5.1287 0.1745 0.7949 Evaluation Finish\n",
      "153: Data Load Finish, Predict Finish, 2.7981 2.4608 0.0879 0.901 Evaluation Finish\n",
      "154: Data Load Finish, Predict Finish, 2.9082 2.425 0.0854 0.8971 Evaluation Finish\n",
      "155: Data Load Finish, Predict Finish, 2.6318 2.2625 0.081 0.9069 Evaluation Finish\n",
      "156: Data Load Finish, Predict Finish, 4.462 3.7082 0.1244 0.8421 Evaluation Finish\n",
      "157: Data Load Finish, Predict Finish, 5.674 5.0293 0.1715 0.7992 Evaluation Finish\n",
      "158: Data Load Finish, Predict Finish, 6.1971 5.6014 0.1917 0.7807 Evaluation Finish\n",
      "159: Data Load Finish, Predict Finish, 9.7593 9.2625 0.3219 0.6546 Evaluation Finish\n",
      "160: Data Load Finish, Predict Finish, 5.9839 5.2929 0.1801 0.7882 Evaluation Finish\n",
      "161: Data Load Finish, Predict Finish, 4.8125 4.0079 0.1345 0.8297 Evaluation Finish\n",
      "162: Data Load Finish, Predict Finish, 6.5903 5.9348 0.2041 0.7668 Evaluation Finish\n",
      "163: Data Load Finish, Predict Finish, 4.1758 3.4546 0.116 0.8522 Evaluation Finish\n",
      "164: Data Load Finish, Predict Finish, 3.3079 2.8757 0.0987 0.8829 Evaluation Finish\n",
      "165: Data Load Finish, Predict Finish, 3.6375 2.9962 0.1145 0.8713 Evaluation Finish\n",
      "166: Data Load Finish, Predict Finish, 11.7266 11.3964 0.4189 0.585 Evaluation Finish\n",
      "167: Data Load Finish, Predict Finish, 9.9181 9.5321 0.3521 0.649 Evaluation Finish\n",
      "168: Data Load Finish, Predict Finish, 24.5466 24.3935 0.8857 0.1312 Evaluation Finish\n",
      "169: Data Load Finish, Predict Finish, 9.6284 9.2111 0.3404 0.6592 Evaluation Finish\n",
      "170: Data Load Finish, Predict Finish, 3.7415 2.8807 0.096 0.8676 Evaluation Finish\n",
      "171: Data Load Finish, Predict Finish, 6.2149 5.5634 0.2094 0.78 Evaluation Finish\n",
      "172: Data Load Finish, Predict Finish, 4.4534 3.5321 0.1175 0.8424 Evaluation Finish\n",
      "173: Data Load Finish, Predict Finish, 2.9025 2.4431 0.0909 0.8973 Evaluation Finish\n",
      "174: Data Load Finish, Predict Finish, 2.9657 2.5515 0.0951 0.895 Evaluation Finish\n",
      "175: Data Load Finish, Predict Finish, 7.9306 7.5102 0.2782 0.7193 Evaluation Finish\n",
      "176: Data Load Finish, Predict Finish, 9.5952 9.1632 0.3189 0.6604 Evaluation Finish\n",
      "177: Data Load Finish, Predict Finish, 18.2984 18.0987 0.6587 0.3524 Evaluation Finish\n",
      "178: Data Load Finish, Predict Finish, 4.2883 3.5714 0.12 0.8482 Evaluation Finish\n",
      "179: Data Load Finish, Predict Finish, 2.9229 2.4674 0.0927 0.8966 Evaluation Finish\n",
      "180: Data Load Finish, Predict Finish, 17.7877 17.5755 0.64 0.3705 Evaluation Finish\n"
     ]
    },
    {
     "name": "stdout",
     "output_type": "stream",
     "text": [
      "181: Data Load Finish, Predict Finish, 5.1854 4.4757 0.1515 0.8165 Evaluation Finish\n",
      "182: Data Load Finish, Predict Finish, 5.0222 4.224 0.142 0.8223 Evaluation Finish\n",
      "183: Data Load Finish, Predict Finish, 5.0596 4.2527 0.1429 0.8209 Evaluation Finish\n",
      "184: Data Load Finish, Predict Finish, 3.521 2.8789 0.0971 0.8754 Evaluation Finish\n",
      "185: Data Load Finish, Predict Finish, 3.4298 2.4832 0.083 0.8786 Evaluation Finish\n",
      "186: Data Load Finish, Predict Finish, 5.8024 5.067 0.1729 0.7946 Evaluation Finish\n",
      "187: Data Load Finish, Predict Finish, 4.3658 3.5239 0.1176 0.8455 Evaluation Finish\n",
      "188: Data Load Finish, Predict Finish, 3.0371 2.7005 0.095 0.8925 Evaluation Finish\n",
      "189: Data Load Finish, Predict Finish, 2.7758 2.4211 0.0856 0.9018 Evaluation Finish\n",
      "190: Data Load Finish, Predict Finish, 5.0675 4.2808 0.1442 0.8206 Evaluation Finish\n",
      "191: Data Load Finish, Predict Finish, 2.9164 2.4731 0.0863 0.8968 Evaluation Finish\n",
      "192: Data Load Finish, Predict Finish, 6.1947 5.5681 0.1903 0.7808 Evaluation Finish\n",
      "193: Data Load Finish, Predict Finish, 13.8876 13.6145 0.4791 0.5085 Evaluation Finish\n",
      "194: Data Load Finish, Predict Finish, 3.6187 2.7946 0.0935 0.8719 Evaluation Finish\n",
      "195: Data Load Finish, Predict Finish, 3.4241 2.8566 0.097 0.8788 Evaluation Finish\n",
      "196: Data Load Finish, Predict Finish, 5.3852 4.6424 0.157 0.8094 Evaluation Finish\n",
      "197: Data Load Finish, Predict Finish, 3.6433 2.997 0.1011 0.8711 Evaluation Finish\n",
      "198: Data Load Finish, Predict Finish, 5.5579 4.7899 0.1624 0.8033 Evaluation Finish\n",
      "199: Data Load Finish, Predict Finish, 7.116 6.5639 0.2258 0.7482 Evaluation Finish\n",
      "200: Data Load Finish, Predict Finish, 3.0502 2.6438 0.0914 0.892 Evaluation Finish\n",
      "201: Data Load Finish, Predict Finish, 4.9069 4.1091 0.1386 0.8263 Evaluation Finish\n",
      "202: Data Load Finish, Predict Finish, 4.9609 4.253 0.1438 0.8244 Evaluation Finish\n",
      "203: Data Load Finish, Predict Finish, 9.9848 9.5486 0.3325 0.6466 Evaluation Finish\n",
      "204: Data Load Finish, Predict Finish, 4.8938 4.107 0.1385 0.8268 Evaluation Finish\n",
      "205: Data Load Finish, Predict Finish, 8.6356 8.1341 0.2818 0.6944 Evaluation Finish\n",
      "206: Data Load Finish, Predict Finish, 9.6048 9.2094 0.3218 0.6601 Evaluation Finish\n",
      "207: Data Load Finish, Predict Finish, 6.0645 5.3548 0.1821 0.7854 Evaluation Finish\n",
      "208: Data Load Finish, Predict Finish, 9.1863 8.7308 0.3059 0.6749 Evaluation Finish\n",
      "209: Data Load Finish, Predict Finish, 4.95 4.0897 0.1569 0.8248 Evaluation Finish\n",
      "210: Data Load Finish, Predict Finish, 2.7546 2.4583 0.0879 0.9025 Evaluation Finish\n",
      "211: Data Load Finish, Predict Finish, 9.5432 9.0535 0.3344 0.6622 Evaluation Finish\n",
      "212: Data Load Finish, Predict Finish, 4.2549 3.6761 0.1395 0.8494 Evaluation Finish\n",
      "213: Data Load Finish, Predict Finish, 14.9136 14.6513 0.5352 0.4722 Evaluation Finish\n",
      "214: Data Load Finish, Predict Finish, 12.5167 12.1997 0.4281 0.557 Evaluation Finish\n",
      "215: Data Load Finish, Predict Finish, 7.9369 7.4267 0.2567 0.7191 Evaluation Finish\n",
      "216: Data Load Finish, Predict Finish, 3.4372 2.9659 0.1014 0.8784 Evaluation Finish\n",
      "217: Data Load Finish, Predict Finish, 15.408 15.1648 0.554 0.4547 Evaluation Finish\n",
      "218: Data Load Finish, Predict Finish, 5.9607 5.2882 0.18 0.789 Evaluation Finish\n",
      "219: Data Load Finish, Predict Finish, 3.9848 3.0024 0.1171 0.859 Evaluation Finish\n",
      "220: Data Load Finish, Predict Finish, 7.1215 6.5672 0.2453 0.748 Evaluation Finish\n",
      "221: Data Load Finish, Predict Finish, 2.929 2.4479 0.0905 0.8963 Evaluation Finish\n",
      "222: Data Load Finish, Predict Finish, 4.2423 3.5304 0.1186 0.8499 Evaluation Finish\n",
      "223: Data Load Finish, Predict Finish, 2.8528 2.44 0.0902 0.899 Evaluation Finish\n",
      "224: Data Load Finish, Predict Finish, 5.0987 4.5338 0.1706 0.8195 Evaluation Finish\n",
      "225: Data Load Finish, Predict Finish, 3.1334 2.5955 0.0975 0.8891 Evaluation Finish\n",
      "226: Data Load Finish, Predict Finish, 3.5005 2.726 0.0914 0.8761 Evaluation Finish\n",
      "227: Data Load Finish, Predict Finish, 9.9971 9.2918 0.3226 0.6462 Evaluation Finish\n",
      "228: Data Load Finish, Predict Finish, 3.6613 2.3738 0.0782 0.8704 Evaluation Finish\n",
      "229: Data Load Finish, Predict Finish, 13.4716 13.1842 0.4834 0.5232 Evaluation Finish\n",
      "230: Data Load Finish, Predict Finish, 4.9715 4.069 0.1372 0.824 Evaluation Finish\n",
      "231: Data Load Finish, Predict Finish, 2.9349 2.5634 0.0891 0.8961 Evaluation Finish\n",
      "232: Data Load Finish, Predict Finish, 7.3992 6.8761 0.2375 0.7381 Evaluation Finish\n",
      "233: Data Load Finish, Predict Finish, 4.0158 3.3223 0.1119 0.8579 Evaluation Finish\n",
      "234: Data Load Finish, Predict Finish, 3.6804 3.185 0.1093 0.8697 Evaluation Finish\n",
      "235: Data Load Finish, Predict Finish, 15.4443 15.1995 0.5556 0.4534 Evaluation Finish\n",
      "236: Data Load Finish, Predict Finish, 4.0361 3.0259 0.1002 0.8572 Evaluation Finish\n",
      "237: Data Load Finish, Predict Finish, 5.5514 4.8623 0.1651 0.8035 Evaluation Finish\n",
      "238: Data Load Finish, Predict Finish, 5.1596 4.4424 0.1505 0.8174 Evaluation Finish\n",
      "239: Data Load Finish, Predict Finish, 3.5133 2.831 0.0953 0.8757 Evaluation Finish\n",
      "240: Data Load Finish, Predict Finish, 3.2037 2.8304 0.0979 0.8866 Evaluation Finish\n",
      "241: Data Load Finish, Predict Finish, 4.0204 3.3314 0.112 0.8577 Evaluation Finish\n",
      "242: Data Load Finish, Predict Finish, 4.8907 4.0651 0.1363 0.8269 Evaluation Finish\n",
      "243: Data Load Finish, Predict Finish, 23.6344 23.4709 0.8521 0.1635 Evaluation Finish\n",
      "244: Data Load Finish, Predict Finish, 9.9483 9.6017 0.3358 0.6479 Evaluation Finish\n",
      "245: Data Load Finish, Predict Finish, 12.2613 11.9238 0.418 0.566 Evaluation Finish\n",
      "246: Data Load Finish, Predict Finish, 8.5379 7.3005 0.2559 0.6978 Evaluation Finish\n",
      "247: Data Load Finish, "
     ]
    },
    {
     "name": "stderr",
     "output_type": "stream",
     "text": [
      "C:\\Users\\vfgtr554\\anaconda3\\envs\\cctv\\lib\\site-packages\\statsmodels\\base\\model.py:606: ConvergenceWarning: Maximum Likelihood optimization failed to converge. Check mle_retvals\n",
      "  ConvergenceWarning)\n"
     ]
    },
    {
     "name": "stdout",
     "output_type": "stream",
     "text": [
      "Predict Finish, 9.0699 8.6702 0.3025 0.679 Evaluation Finish\n",
      "248: Data Load Finish, Predict Finish, 12.7024 12.3569 0.4333 0.5504 Evaluation Finish\n",
      "249: Data Load Finish, Predict Finish, 10.3291 9.8939 0.3448 0.6344 Evaluation Finish\n",
      "250: Data Load Finish, Predict Finish, 10.5427 10.0805 0.3512 0.6269 Evaluation Finish\n",
      "251: Data Load Finish, Predict Finish, 11.561 11.2425 0.3942 0.5908 Evaluation Finish\n",
      "252: Data Load Finish, "
     ]
    },
    {
     "name": "stderr",
     "output_type": "stream",
     "text": [
      "C:\\Users\\vfgtr554\\anaconda3\\envs\\cctv\\lib\\site-packages\\statsmodels\\base\\model.py:606: ConvergenceWarning: Maximum Likelihood optimization failed to converge. Check mle_retvals\n",
      "  ConvergenceWarning)\n"
     ]
    },
    {
     "name": "stdout",
     "output_type": "stream",
     "text": [
      "Predict Finish, 2.8001 2.4961 0.0907 0.9009 Evaluation Finish\n",
      "253: Data Load Finish, Predict Finish, 7.8342 7.3463 0.2541 0.7227 Evaluation Finish\n",
      "254: Data Load Finish, Predict Finish, 3.9537 3.3004 0.1262 0.8601 Evaluation Finish\n",
      "255: Data Load Finish, Predict Finish, 9.22 8.7933 0.3058 0.6737 Evaluation Finish\n",
      "256: Data Load Finish, Predict Finish, 6.2946 5.6629 0.1937 0.7772 Evaluation Finish\n",
      "257: Data Load Finish, Predict Finish, 6.071 5.4208 0.2044 0.7851 Evaluation Finish\n",
      "258: Data Load Finish, Predict Finish, 5.2683 4.4875 0.1515 0.8135 Evaluation Finish\n",
      "259: Data Load Finish, Predict Finish, 4.7142 3.8346 0.1475 0.8332 Evaluation Finish\n",
      "260: Data Load Finish, Predict Finish, 3.0762 2.4902 0.0948 0.8911 Evaluation Finish\n",
      "261: Data Load Finish, Predict Finish, 2.9544 2.487 0.0932 0.8954 Evaluation Finish\n",
      "262: Data Load Finish, Predict Finish, 3.5095 2.8168 0.1083 0.8758 Evaluation Finish\n",
      "263: Data Load Finish, Predict Finish, 3.3309 2.8136 0.0959 0.8821 Evaluation Finish\n",
      "264: Data Load Finish, Predict Finish, 5.8296 5.1954 0.1772 0.7937 Evaluation Finish\n",
      "265: Data Load Finish, Predict Finish, 5.1357 4.4048 0.149 0.8182 Evaluation Finish\n",
      "266: Data Load Finish, Predict Finish, 10.4147 10.0508 0.3511 0.6314 Evaluation Finish\n",
      "267: Data Load Finish, Predict Finish, 4.587 3.7671 0.126 0.8377 Evaluation Finish\n",
      "268: Data Load Finish, Predict Finish, 5.8831 5.1719 0.1757 0.7918 Evaluation Finish\n",
      "269: Data Load Finish, Predict Finish, 2.8214 2.462 0.0905 0.9001 Evaluation Finish\n",
      "270: Data Load Finish, Predict Finish, 10.894 10.5236 0.3688 0.6144 Evaluation Finish\n",
      "271: Data Load Finish, Predict Finish, 4.6672 4.2858 0.1569 0.8348 Evaluation Finish\n",
      "272: Data Load Finish, Predict Finish, 3.3619 2.8829 0.1085 0.881 Evaluation Finish\n",
      "273: Data Load Finish, Predict Finish, 3.8813 3.1257 0.1047 0.8626 Evaluation Finish\n",
      "274: Data Load Finish, Predict Finish, 8.102 7.648 0.2656 0.7133 Evaluation Finish\n",
      "275: Data Load Finish, Predict Finish, 8.2023 7.7337 0.2679 0.7097 Evaluation Finish\n",
      "276: Data Load Finish, Predict Finish, 7.2898 6.7223 0.2333 0.742 Evaluation Finish\n",
      "277: Data Load Finish, Predict Finish, 8.7576 8.3036 0.2882 0.69 Evaluation Finish\n",
      "278: Data Load Finish, Predict Finish, 5.1463 4.3762 0.1475 0.8179 Evaluation Finish\n",
      "279: Data Load Finish, Predict Finish, 5.6084 4.9116 0.1668 0.8015 Evaluation Finish\n",
      "280: Data Load Finish, Predict Finish, 4.2898 3.6156 0.1218 0.8482 Evaluation Finish\n",
      "281: Data Load Finish, Predict Finish, 4.9013 4.0731 0.1369 0.8265 Evaluation Finish\n",
      "282: Data Load Finish, Predict Finish, 3.3596 3.0189 0.1061 0.8811 Evaluation Finish\n",
      "283: Data Load Finish, Predict Finish, 2.819 2.4484 0.0896 0.9002 Evaluation Finish\n",
      "284: Data Load Finish, Predict Finish, 3.8046 3.1378 0.1202 0.8653 Evaluation Finish\n",
      "285: Data Load Finish, Predict Finish, 9.7082 9.3 0.324 0.6564 Evaluation Finish\n",
      "286: Data Load Finish, Predict Finish, 3.2534 2.7217 0.103 0.8849 Evaluation Finish\n",
      "287: Data Load Finish, Predict Finish, 5.6453 4.3788 0.1512 0.8002 Evaluation Finish\n",
      "288: Data Load Finish, Predict Finish, 3.2395 2.7513 0.094 0.8853 Evaluation Finish\n",
      "289: Data Load Finish, Predict Finish, 7.6604 7.178 0.2492 0.7289 Evaluation Finish\n",
      "290: Data Load Finish, Predict Finish, 5.4428 4.769 0.1801 0.8074 Evaluation Finish\n",
      "291: Data Load Finish, Predict Finish, 3.8346 3.2464 0.1104 0.8643 Evaluation Finish\n",
      "292: Data Load Finish, Predict Finish, 8.851 8.2499 0.2856 0.6867 Evaluation Finish\n",
      "293: Data Load Finish, Predict Finish, 4.7473 3.9172 0.1311 0.832 Evaluation Finish\n",
      "294: Data Load Finish, Predict Finish, 4.6829 3.8332 0.1289 0.8343 Evaluation Finish\n",
      "295: Data Load Finish, Predict Finish, 5.9302 5.2531 0.1788 0.7901 Evaluation Finish\n",
      "296: Data Load Finish, Predict Finish, 4.1635 3.2849 0.1094 0.8526 Evaluation Finish\n",
      "297: Data Load Finish, Predict Finish, 4.7094 3.8772 0.1297 0.8333 Evaluation Finish\n",
      "298: Data Load Finish, Predict Finish, 9.8285 9.2528 0.3212 0.6521 Evaluation Finish\n",
      "299: Data Load Finish, Predict Finish, 3.1658 2.4959 0.0957 0.888 Evaluation Finish\n",
      "300: Data Load Finish, Predict Finish, 5.5324 4.6743 0.1783 0.8042 Evaluation Finish\n",
      "301: Data Load Finish, Predict Finish, 8.4818 8.0285 0.2786 0.6998 Evaluation Finish\n",
      "302: Data Load Finish, Predict Finish, 13.2039 12.9062 0.4535 0.5327 Evaluation Finish\n",
      "303: Data Load Finish, Predict Finish, 6.2504 5.622 0.2116 0.7788 Evaluation Finish\n",
      "304: Data Load Finish, Predict Finish, 6.4927 5.9091 0.2026 0.7702 Evaluation Finish\n",
      "305: Data Load Finish, Predict Finish, 3.5822 2.9417 0.0992 0.8732 Evaluation Finish\n",
      "306: Data Load Finish, Predict Finish, 10.7006 10.2731 0.3583 0.6213 Evaluation Finish\n",
      "307: Data Load Finish, Predict Finish, 7.1971 6.6024 0.2269 0.7453 Evaluation Finish\n",
      "308: Data Load Finish, Predict Finish, 5.1511 4.4058 0.1489 0.8177 Evaluation Finish\n",
      "309: Data Load Finish, Predict Finish, 5.0815 4.2917 0.1446 0.8202 Evaluation Finish\n",
      "310: Data Load Finish, Predict Finish, 8.2146 7.7401 0.2684 0.7093 Evaluation Finish\n",
      "311: Data Load Finish, Predict Finish, 2.9784 2.4371 0.084 0.8946 Evaluation Finish\n",
      "312: Data Load Finish, Predict Finish, 12.6982 12.4184 0.4549 0.5506 Evaluation Finish\n",
      "313: Data Load Finish, Predict Finish, 9.3358 8.9199 0.3107 0.6696 Evaluation Finish\n",
      "314: Data Load Finish, Predict Finish, 4.1894 3.4089 0.114 0.8517 Evaluation Finish\n",
      "315: Data Load Finish, Predict Finish, 5.3698 4.6164 0.156 0.81 Evaluation Finish\n",
      "316: Data Load Finish, Predict Finish, 5.6904 4.9904 0.1694 0.7986 Evaluation Finish\n",
      "317: Data Load Finish, Predict Finish, 3.6421 2.9773 0.1003 0.8711 Evaluation Finish\n",
      "318: Data Load Finish, Predict Finish, 10.4929 10.1304 0.354 0.6286 Evaluation Finish\n",
      "319: Data Load Finish, Predict Finish, 7.603 7.0948 0.2452 0.7309 Evaluation Finish\n",
      "320: Data Load Finish, Predict Finish, 4.7329 3.8713 0.1295 0.8325 Evaluation Finish\n",
      "321: Data Load Finish, Predict Finish, 3.1492 2.8141 0.0982 0.8885 Evaluation Finish\n",
      "322: Data Load Finish, Predict Finish, 2.916 2.5178 0.088 0.8968 Evaluation Finish\n",
      "323: Data Load Finish, Predict Finish, 4.8018 3.927 0.1315 0.8301 Evaluation Finish\n",
      "324: Data Load Finish, Predict Finish, 3.8281 3.0738 0.1184 0.8645 Evaluation Finish\n",
      "325: Data Load Finish, Predict Finish, 7.5513 7.0747 0.2629 0.7327 Evaluation Finish\n",
      "326: Data Load Finish, Predict Finish, 6.7496 6.1618 0.2114 0.7611 Evaluation Finish\n",
      "327: Data Load Finish, Predict Finish, 16.9226 16.6988 0.6093 0.4011 Evaluation Finish\n",
      "328: Data Load Finish, Predict Finish, 8.7528 8.3143 0.3083 0.6902 Evaluation Finish\n",
      "329: Data Load Finish, Predict Finish, 9.8974 9.382 0.3458 0.6497 Evaluation Finish\n",
      "330: Data Load Finish, Predict Finish, 8.5126 7.9915 0.2959 0.6987 Evaluation Finish\n",
      "331: Data Load Finish, Predict Finish, 6.6001 6.0655 0.227 0.7664 Evaluation Finish\n",
      "332: Data Load Finish, Predict Finish, 5.3508 4.6258 0.1755 0.8106 Evaluation Finish\n",
      "333: Data Load Finish, Predict Finish, 11.0574 10.5634 0.3904 0.6087 Evaluation Finish\n",
      "334: Data Load Finish, Predict Finish, 19.7201 19.5308 0.7111 0.3021 Evaluation Finish\n",
      "335: Data Load Finish, Predict Finish, 5.2488 4.6239 0.1743 0.8142 Evaluation Finish\n",
      "336: Data Load Finish, Predict Finish, 12.3839 12.0454 0.4418 0.5617 Evaluation Finish\n",
      "337: Data Load Finish, Predict Finish, 4.0301 3.3057 0.1269 0.8574 Evaluation Finish\n",
      "338: Data Load Finish, Predict Finish, 15.782 15.5063 0.5672 0.4414 Evaluation Finish\n",
      "339: Data Load Finish, Predict Finish, 7.9278 7.4141 0.2754 0.7194 Evaluation Finish\n",
      "340: Data Load Finish, Predict Finish, 2.9843 2.4347 0.0919 0.8944 Evaluation Finish\n",
      "341: Data Load Finish, Predict Finish, 7.8844 7.3198 0.272 0.721 Evaluation Finish\n",
      "342: Data Load Finish, Predict Finish, 15.2502 14.999 0.5483 0.4603 Evaluation Finish\n",
      "343: Data Load Finish, Predict Finish, 8.2293 7.7482 0.2878 0.7087 Evaluation Finish\n",
      "344: Data Load Finish, Predict Finish, 3.7458 3.2106 0.1217 0.8674 Evaluation Finish\n",
      "345: Data Load Finish, Predict Finish, 3.2332 2.5767 0.0985 0.8856 Evaluation Finish\n",
      "346: Data Load Finish, Predict Finish, 11.8086 11.4459 0.4007 0.5821 Evaluation Finish\n",
      "347: Data Load Finish, Predict Finish, 2.7686 2.4552 0.0873 0.902 Evaluation Finish\n",
      "348: Data Load Finish, Predict Finish, 8.4089 7.9759 0.2959 0.7024 Evaluation Finish\n",
      "349: Data Load Finish, Predict Finish, 8.1713 7.6454 0.2643 0.7108 Evaluation Finish\n"
     ]
    },
    {
     "name": "stdout",
     "output_type": "stream",
     "text": [
      "350: Data Load Finish, Predict Finish, 13.3113 13.05 0.4595 0.5289 Evaluation Finish\n",
      "351: Data Load Finish, Predict Finish, 4.2236 3.4422 0.1152 0.8505 Evaluation Finish\n",
      "352: Data Load Finish, Predict Finish, 4.2959 3.5647 0.1197 0.848 Evaluation Finish\n",
      "353: Data Load Finish, Predict Finish, 3.205 2.5754 0.0985 0.8866 Evaluation Finish\n",
      "354: Data Load Finish, Predict Finish, 3.9456 3.2561 0.1248 0.8604 Evaluation Finish\n",
      "355: Data Load Finish, Predict Finish, 3.8778 3.1734 0.1218 0.8628 Evaluation Finish\n",
      "356: Data Load Finish, Predict Finish, 2.7664 2.4596 0.0906 0.9021 Evaluation Finish\n",
      "357: Data Load Finish, Predict Finish, 3.6815 2.8795 0.1115 0.8697 Evaluation Finish\n",
      "358: Data Load Finish, Predict Finish, 2.7349 2.4452 0.0875 0.9032 Evaluation Finish\n",
      "359: Data Load Finish, Predict Finish, 3.3184 2.654 0.1014 0.8826 Evaluation Finish\n",
      "360: Data Load Finish, Predict Finish, 3.6771 3.1415 0.119 0.8699 Evaluation Finish\n",
      "361: Data Load Finish, Predict Finish, 3.9999 3.4449 0.1307 0.8584 Evaluation Finish\n",
      "362: Data Load Finish, Predict Finish, 4.4461 3.6778 0.1233 0.8426 Evaluation Finish\n",
      "363: Data Load Finish, Predict Finish, 8.5054 8.0636 0.2801 0.699 Evaluation Finish\n",
      "364: Data Load Finish, Predict Finish, 7.4479 6.9271 0.239 0.7364 Evaluation Finish\n",
      "365: Data Load Finish, Predict Finish, 5.2492 4.6361 0.1746 0.8142 Evaluation Finish\n",
      "366: Data Load Finish, Predict Finish, 3.3183 2.8252 0.0965 0.8826 Evaluation Finish\n",
      "367: Data Load Finish, Predict Finish, 6.3482 5.7063 0.2145 0.7753 Evaluation Finish\n",
      "368: Data Load Finish, Predict Finish, 4.2013 3.4923 0.1174 0.8513 Evaluation Finish\n",
      "369: Data Load Finish, Predict Finish, 3.775 2.8594 0.0951 0.8664 Evaluation Finish\n",
      "370: Data Load Finish, Predict Finish, 3.6447 3.3615 0.123 0.871 Evaluation Finish\n",
      "371: Data Load Finish, Predict Finish, 2.795 2.4565 0.09 0.9011 Evaluation Finish\n",
      "372: Data Load Finish, Predict Finish, 15.3818 15.1215 0.552 0.4556 Evaluation Finish\n",
      "373: Data Load Finish, Predict Finish, 5.3812 4.6213 0.1565 0.8095 Evaluation Finish\n",
      "374: Data Load Finish, Predict Finish, 7.6283 7.1222 0.2655 0.73 Evaluation Finish\n",
      "375: Data Load Finish, Predict Finish, 38.9778 38.8755 1.4055 -0.3795 Evaluation Finish\n",
      "376: Data Load Finish, Predict Finish, 55.9281 55.8609 2.0151 -0.9794 Evaluation Finish\n",
      "377: Data Load Finish, Predict Finish, 30.3745 30.2427 1.0954 -0.075 Evaluation Finish\n",
      "378: Data Load Finish, Predict Finish, 30.2401 30.0752 1.089 -0.0703 Evaluation Finish\n",
      "379: Data Load Finish, Predict Finish, 3.7484 3.3864 0.1245 0.8673 Evaluation Finish\n",
      "380: Data Load Finish, Predict Finish, 7.1804 6.5228 0.2427 0.7459 Evaluation Finish\n",
      "381: Data Load Finish, Predict Finish, 4.0923 3.0785 0.1018 0.8552 Evaluation Finish\n",
      "382: Data Load Finish, Predict Finish, 4.8096 4.4067 0.1641 0.8298 Evaluation Finish\n",
      "383: Data Load Finish, Predict Finish, 2.8202 2.4497 0.0879 0.9002 Evaluation Finish\n",
      "384: Data Load Finish, Predict Finish, 4.0229 3.3566 0.1131 0.8576 Evaluation Finish\n",
      "385: Data Load Finish, Predict Finish, 3.6517 3.0837 0.1047 0.8708 Evaluation Finish\n",
      "386: Data Load Finish, Predict Finish, 3.2709 2.6335 0.1004 0.8842 Evaluation Finish\n",
      "387: Data Load Finish, Predict Finish, 3.5413 2.8595 0.1096 0.8747 Evaluation Finish\n",
      "388: Data Load Finish, Predict Finish, 2.7517 2.4778 0.0893 0.9026 Evaluation Finish\n",
      "389: Data Load Finish, Predict Finish, 18.743 18.5413 0.6755 0.3366 Evaluation Finish\n",
      "390: Data Load Finish, Predict Finish, 27.7153 27.5783 1.0 0.0191 Evaluation Finish\n",
      "391: Data Load Finish, Predict Finish, 7.9147 7.4593 0.2592 0.7199 Evaluation Finish\n",
      "392: Data Load Finish, Predict Finish, 9.2689 8.7182 0.3022 0.672 Evaluation Finish\n",
      "393: Data Load Finish, Predict Finish, 6.1824 5.5503 0.1898 0.7812 Evaluation Finish\n",
      "394: Data Load Finish, Predict Finish, 4.3219 3.5594 0.1193 0.847 Evaluation Finish\n",
      "395: Data Load Finish, Predict Finish, 7.0668 6.5236 0.2249 0.7499 Evaluation Finish\n",
      "396: Data Load Finish, Predict Finish, 4.5395 3.65 0.1217 0.8393 Evaluation Finish\n",
      "397: Data Load Finish, Predict Finish, 3.918 3.0521 0.1183 0.8613 Evaluation Finish\n",
      "398: Data Load Finish, Predict Finish, 6.5134 5.9342 0.2048 0.7695 Evaluation Finish\n",
      "399: Data Load Finish, Predict Finish, 6.5683 5.8982 0.203 0.7675 Evaluation Finish\n",
      "400: Data Load Finish, Predict Finish, 10.278 9.8498 0.3434 0.6362 Evaluation Finish\n",
      "401: Data Load Finish, Predict Finish, 5.5119 4.8119 0.1635 0.8049 Evaluation Finish\n",
      "402: Data Load Finish, Predict Finish, 4.9796 4.0642 0.1371 0.8238 Evaluation Finish\n",
      "403: Data Load Finish, Predict Finish, 7.2582 6.7141 0.2312 0.7431 Evaluation Finish\n",
      "404: Data Load Finish, Predict Finish, 6.9106 6.3423 0.2184 0.7554 Evaluation Finish\n",
      "405: Data Load Finish, Predict Finish, 5.2768 4.5088 0.1716 0.8132 Evaluation Finish\n",
      "406: Data Load Finish, Predict Finish, 2.7881 2.4471 0.0906 0.9013 Evaluation Finish\n",
      "407: Data Load Finish, Predict Finish, 2.8137 2.4249 0.0886 0.9004 Evaluation Finish\n",
      "408: Data Load Finish, Predict Finish, 2.7609 2.4681 0.0904 0.9023 Evaluation Finish\n",
      "409: Data Load Finish, Predict Finish, 3.7162 3.177 0.1205 0.8685 Evaluation Finish\n",
      "410: Data Load Finish, Predict Finish, 2.99 2.5912 0.09 0.8942 Evaluation Finish\n",
      "411: Data Load Finish, Predict Finish, 3.1723 2.6779 0.0918 0.8877 Evaluation Finish\n",
      "412: Data Load Finish, Predict Finish, 10.6685 10.1879 0.3768 0.6224 Evaluation Finish\n",
      "413: Data Load Finish, Predict Finish, 5.6735 4.928 0.169 0.7992 Evaluation Finish\n",
      "414: Data Load Finish, Predict Finish, 3.638 3.3002 0.1217 0.8712 Evaluation Finish\n",
      "415: Data Load Finish, Predict Finish, 2.8867 2.4003 0.0829 0.8978 Evaluation Finish\n",
      "416: Data Load Finish, Predict Finish, 3.6324 2.9762 0.1119 0.8714 Evaluation Finish\n",
      "417: Data Load Finish, Predict Finish, 3.4033 2.5125 0.085 0.8795 Evaluation Finish\n",
      "418: Data Load Finish, Predict Finish, 16.8817 16.6563 0.6074 0.4025 Evaluation Finish\n",
      "419: Data Load Finish, Predict Finish, 8.6007 8.172 0.284 0.6956 Evaluation Finish\n",
      "420: Data Load Finish, Predict Finish, 3.7749 3.3908 0.1258 0.8664 Evaluation Finish\n",
      "421: Data Load Finish, Predict Finish, 3.6406 2.9234 0.1118 0.8712 Evaluation Finish\n",
      "422: Data Load Finish, Predict Finish, 6.994 6.3706 0.2185 0.7525 Evaluation Finish\n",
      "423: Data Load Finish, Predict Finish, 3.8577 3.2219 0.1231 0.8635 Evaluation Finish\n",
      "424: Data Load Finish, Predict Finish, 6.0359 5.4056 0.202 0.7864 Evaluation Finish\n",
      "425: Data Load Finish, Predict Finish, 3.5651 3.0827 0.1055 0.8738 Evaluation Finish\n",
      "426: Data Load Finish, Predict Finish, 16.4761 16.2432 0.5928 0.4169 Evaluation Finish\n",
      "427: Data Load Finish, Predict Finish, 27.0428 26.9009 0.9757 0.0429 Evaluation Finish\n",
      "428: Data Load Finish, Predict Finish, 33.0928 32.7542 1.1827 -0.1712 Evaluation Finish\n",
      "429: Data Load Finish, Predict Finish, 33.186 33.0384 1.1956 -0.1745 Evaluation Finish\n",
      "430: Data Load Finish, "
     ]
    },
    {
     "name": "stderr",
     "output_type": "stream",
     "text": [
      "C:\\Users\\vfgtr554\\anaconda3\\envs\\cctv\\lib\\site-packages\\statsmodels\\base\\model.py:606: ConvergenceWarning: Maximum Likelihood optimization failed to converge. Check mle_retvals\n",
      "  ConvergenceWarning)\n"
     ]
    },
    {
     "name": "stdout",
     "output_type": "stream",
     "text": [
      "Predict Finish, 29.6982 29.5202 1.071 -0.0511 Evaluation Finish\n",
      "431: Data Load Finish, Predict Finish, 22.3892 22.2255 0.8073 0.2076 Evaluation Finish\n",
      "432: Data Load Finish, Predict Finish, 12.0167 11.6103 0.4061 0.5747 Evaluation Finish\n",
      "433: Data Load Finish, Predict Finish, 15.4366 15.2059 0.5366 0.4537 Evaluation Finish\n",
      "434: Data Load Finish, Predict Finish, 7.3889 6.8952 0.2382 0.7385 Evaluation Finish\n",
      "435: Data Load Finish, Predict Finish, 8.1142 7.6554 0.2664 0.7128 Evaluation Finish\n",
      "436: Data Load Finish, Predict Finish, 11.4278 11.0439 0.3862 0.5955 Evaluation Finish\n",
      "437: Data Load Finish, Predict Finish, 4.6118 3.4929 0.1184 0.8368 Evaluation Finish\n",
      "438: Data Load Finish, Predict Finish, 4.1776 3.5117 0.1184 0.8521 Evaluation Finish\n",
      "439: Data Load Finish, Predict Finish, 2.9579 2.6208 0.0923 0.8953 Evaluation Finish\n",
      "440: Data Load Finish, Predict Finish, 6.4191 5.7092 0.2154 0.7728 Evaluation Finish\n",
      "441: Data Load Finish, Predict Finish, 3.113 2.4822 0.0949 0.8898 Evaluation Finish\n",
      "442: Data Load Finish, Predict Finish, 4.2917 3.2525 0.1268 0.8481 Evaluation Finish\n",
      "443: Data Load Finish, Predict Finish, 8.1861 7.6341 0.2637 0.7103 Evaluation Finish\n",
      "444: Data Load Finish, Predict Finish, 7.0756 6.5746 0.2271 0.7496 Evaluation Finish\n",
      "445: Data Load Finish, Predict Finish, 6.0411 5.2918 0.1807 0.7862 Evaluation Finish\n",
      "446: Data Load Finish, Predict Finish, 3.0483 2.6337 0.0908 0.8921 Evaluation Finish\n",
      "447: Data Load Finish, Predict Finish, 3.0958 2.6569 0.0913 0.8904 Evaluation Finish\n",
      "448: Data Load Finish, Predict Finish, 7.5769 7.0738 0.2637 0.7318 Evaluation Finish\n",
      "449: Data Load Finish, Predict Finish, 5.1939 4.4321 0.1497 0.8162 Evaluation Finish\n",
      "450: Data Load Finish, Predict Finish, 4.4019 3.6196 0.1212 0.8442 Evaluation Finish\n",
      "451: Data Load Finish, Predict Finish, 3.3351 2.9421 0.1097 0.882 Evaluation Finish\n",
      "452: Data Load Finish, Predict Finish, 3.7994 3.4945 0.1223 0.8655 Evaluation Finish\n",
      "453: Data Load Finish, Predict Finish, 3.9691 3.3244 0.1127 0.8595 Evaluation Finish\n",
      "454: Data Load Finish, Predict Finish, 8.055 7.5725 0.2621 0.7149 Evaluation Finish\n",
      "455: Data Load Finish, Predict Finish, 11.3196 10.9581 0.3835 0.5994 Evaluation Finish\n",
      "456: Data Load Finish, Predict Finish, 5.5314 4.7541 0.1607 0.8042 Evaluation Finish\n",
      "457: Data Load Finish, Predict Finish, 6.1608 5.5143 0.1882 0.782 Evaluation Finish\n",
      "458: Data Load Finish, Predict Finish, 3.2968 2.576 0.0873 0.8833 Evaluation Finish\n",
      "459: Data Load Finish, Predict Finish, 2.9142 2.4594 0.0924 0.8969 Evaluation Finish\n",
      "460: Data Load Finish, Predict Finish, 8.4801 8.0264 0.2784 0.6999 Evaluation Finish\n",
      "461: Data Load Finish, Predict Finish, 6.4628 5.5601 0.1898 0.7713 Evaluation Finish\n",
      "462: Data Load Finish, Predict Finish, 3.5192 2.9109 0.0985 0.8754 Evaluation Finish\n",
      "463: Data Load Finish, Predict Finish, 7.7544 7.2456 0.2503 0.7256 Evaluation Finish\n",
      "464: Data Load Finish, Predict Finish, 2.8795 2.4452 0.0908 0.8981 Evaluation Finish\n",
      "465: Data Load Finish, Predict Finish, 8.7012 8.1882 0.2838 0.692 Evaluation Finish\n",
      "466: Data Load Finish, Predict Finish, 9.9457 9.5463 0.3328 0.648 Evaluation Finish\n",
      "467: Data Load Finish, Predict Finish, 2.9321 2.4498 0.0923 0.8962 Evaluation Finish\n",
      "468: Data Load Finish, Predict Finish, 11.2483 10.9043 0.4012 0.6019 Evaluation Finish\n",
      "469: Data Load Finish, Predict Finish, 2.7864 2.4144 0.0899 0.9014 Evaluation Finish\n",
      "470: Data Load Finish, Predict Finish, 11.538 11.2208 0.3934 0.5916 Evaluation Finish\n",
      "471: Data Load Finish, Predict Finish, 3.0264 2.6623 0.0926 0.8929 Evaluation Finish\n",
      "472: Data Load Finish, Predict Finish, 8.0776 7.4624 0.26 0.7141 Evaluation Finish\n",
      "473: Data Load Finish, Predict Finish, 6.938 6.3773 0.2192 0.7544 Evaluation Finish\n",
      "474: Data Load Finish, Predict Finish, 4.9858 4.166 0.1593 0.8235 Evaluation Finish\n",
      "475: Data Load Finish, Predict Finish, 3.3414 2.3764 0.0799 0.8817 Evaluation Finish\n",
      "476: Data Load Finish, Predict Finish, 5.1923 4.4279 0.1494 0.8162 Evaluation Finish\n",
      "477: Data Load Finish, Predict Finish, 3.0705 2.3956 0.0817 0.8913 Evaluation Finish\n",
      "478: Data Load Finish, Predict Finish, 5.5238 4.7818 0.1623 0.8045 Evaluation Finish\n",
      "479: Data Load Finish, Predict Finish, 4.6655 3.996 0.1351 0.8349 Evaluation Finish\n",
      "480: Data Load Finish, Predict Finish, 4.3069 3.2544 0.1075 0.8476 Evaluation Finish\n",
      "481: Data Load Finish, Predict Finish, 2.9117 2.4338 0.0845 0.8969 Evaluation Finish\n",
      "482: Data Load Finish, Predict Finish, 10.2936 9.923 0.3466 0.6357 Evaluation Finish\n",
      "483: Data Load Finish, Predict Finish, 3.0956 2.3834 0.0813 0.8904 Evaluation Finish\n",
      "484: Data Load Finish, Predict Finish, 3.788 3.1006 0.1043 0.8659 Evaluation Finish\n",
      "485: Data Load Finish, Predict Finish, 3.3796 2.9492 0.1013 0.8804 Evaluation Finish\n",
      "486: Data Load Finish, Predict Finish, 3.8677 3.2245 0.1089 0.8631 Evaluation Finish\n",
      "487: Data Load Finish, Predict Finish, 11.1954 10.8589 0.3997 0.6038 Evaluation Finish\n",
      "488: Data Load Finish, Predict Finish, 4.2787 3.6414 0.1387 0.8486 Evaluation Finish\n",
      "489: Data Load Finish, Predict Finish, 13.48 13.2241 0.4841 0.5229 Evaluation Finish\n",
      "490: Data Load Finish, Predict Finish, 10.3447 9.9763 0.368 0.6339 Evaluation Finish\n",
      "491: Data Load Finish, Predict Finish, 8.0204 7.4431 0.2567 0.7161 Evaluation Finish\n",
      "492: Data Load Finish, Predict Finish, 6.5564 5.924 0.2041 0.768 Evaluation Finish\n",
      "493: Data Load Finish, Predict Finish, 2.9859 2.4559 0.093 0.8943 Evaluation Finish\n",
      "494: Data Load Finish, Predict Finish, 3.6057 2.3149 0.077 0.8724 Evaluation Finish\n",
      "495: Data Load Finish, Predict Finish, 3.6081 3.443 0.1239 0.8723 Evaluation Finish\n",
      "496: Data Load Finish, Predict Finish, 2.9091 2.5417 0.0885 0.897 Evaluation Finish\n",
      "497: Data Load Finish, Predict Finish, 3.3857 2.9448 0.1011 0.8802 Evaluation Finish\n",
      "498: Data Load Finish, Predict Finish, 4.9647 4.1456 0.1586 0.8243 Evaluation Finish\n",
      "499: Data Load Finish, Predict Finish, 2.7226 2.4348 0.0888 0.9036 Evaluation Finish\n",
      "500: Data Load Finish, Predict Finish, 2.6117 2.2814 0.0835 0.9076 Evaluation Finish\n",
      "501: Data Load Finish, Predict Finish, 2.8904 2.4416 0.0916 0.8977 Evaluation Finish\n",
      "502: Data Load Finish, Predict Finish, 3.1034 2.8457 0.1047 0.8902 Evaluation Finish\n",
      "503: Data Load Finish, Predict Finish, 4.1223 2.9966 0.0993 0.8541 Evaluation Finish\n",
      "504: Data Load Finish, Predict Finish, 2.6492 2.2848 0.0837 0.9062 Evaluation Finish\n",
      "505: Data Load Finish, Predict Finish, 9.4525 8.9353 0.3101 0.6655 Evaluation Finish\n",
      "RMSE: 7.258310670710554, MAE: 6.709157192022767, MAPE: 0.23888712071549356\n",
      "ACC: 0.7478338257384414\n"
     ]
    }
   ],
   "source": [
    "predictARIMA(df, idx, 6)"
   ]
  },
  {
   "cell_type": "markdown",
   "id": "c1acb05c",
   "metadata": {},
   "source": [
    "### Unobserved Nodes = 5%"
   ]
  },
  {
   "cell_type": "code",
   "execution_count": 10,
   "id": "8a799433",
   "metadata": {},
   "outputs": [
    {
     "name": "stdout",
     "output_type": "stream",
     "text": [
      "2880 506\n"
     ]
    },
    {
     "data": {
      "text/plain": [
       "72000"
      ]
     },
     "execution_count": 10,
     "metadata": {},
     "output_type": "execute_result"
    }
   ],
   "source": [
    "df, idx = csvIndexToDatetime(path_5, start, freq)\n",
    "(df == 0).sum().sum()"
   ]
  },
  {
   "cell_type": "code",
   "execution_count": 11,
   "id": "83ef8625",
   "metadata": {
    "scrolled": false
   },
   "outputs": [
    {
     "name": "stdout",
     "output_type": "stream",
     "text": [
      "0: Data Load Finish, Predict Finish, 3.2028 2.8599 0.1005 0.8866 Evaluation Finish\n",
      "1: Data Load Finish, Predict Finish, 3.8612 3.0704 0.1026 0.8633 Evaluation Finish\n",
      "2: Data Load Finish, Predict Finish, 5.8793 5.1538 0.1952 0.7919 Evaluation Finish\n",
      "3: Data Load Finish, Predict Finish, 16.9453 16.6122 0.6048 0.4003 Evaluation Finish\n",
      "4: Data Load Finish, Predict Finish, 7.0359 6.3972 0.221 0.751 Evaluation Finish\n",
      "5: Data Load Finish, Predict Finish, 6.7796 6.1555 0.2109 0.7601 Evaluation Finish\n",
      "6: Data Load Finish, Predict Finish, 3.8622 3.244 0.11 0.8633 Evaluation Finish\n",
      "7: Data Load Finish, Predict Finish, 7.1127 6.5232 0.2251 0.7483 Evaluation Finish\n",
      "8: Data Load Finish, Predict Finish, 5.4057 4.6592 0.1577 0.8087 Evaluation Finish\n",
      "9: Data Load Finish, Predict Finish, 9.3777 8.9684 0.3122 0.6681 Evaluation Finish\n",
      "10: Data Load Finish, Predict Finish, 10.3222 9.9121 0.3458 0.6347 Evaluation Finish\n",
      "11: Data Load Finish, Predict Finish, 2.8575 2.4735 0.0871 0.8989 Evaluation Finish\n",
      "12: Data Load Finish, Predict Finish, 16.2414 16.0177 0.5847 0.4252 Evaluation Finish\n",
      "13: Data Load Finish, Predict Finish, 28.5705 28.4349 1.0307 -0.0112 Evaluation Finish\n",
      "14: Data Load Finish, Predict Finish, 29.2071 29.0772 1.0539 -0.0337 Evaluation Finish\n",
      "15: Data Load Finish, Predict Finish, 18.4296 18.2241 0.6641 0.3477 Evaluation Finish\n",
      "16: Data Load Finish, Predict Finish, 3.6007 2.9842 0.1138 0.8726 Evaluation Finish\n",
      "17: Data Load Finish, Predict Finish, 8.7175 8.2752 0.2874 0.6915 Evaluation Finish\n",
      "18: Data Load Finish, Predict Finish, 2.8274 2.4974 0.0894 0.8999 Evaluation Finish\n",
      "19: Data Load Finish, Predict Finish, 9.7873 9.2793 0.3227 0.6536 Evaluation Finish\n",
      "20: Data Load Finish, Predict Finish, 9.1318 8.6991 0.3024 0.6768 Evaluation Finish\n",
      "21: Data Load Finish, Predict Finish, 3.7181 2.8254 0.094 0.8684 Evaluation Finish\n",
      "22: Data Load Finish, Predict Finish, 3.0268 2.3299 0.0797 0.8929 Evaluation Finish\n",
      "23: Data Load Finish, Predict Finish, 2.8107 2.4562 0.0878 0.9005 Evaluation Finish\n",
      "24: Data Load Finish, Predict Finish, 12.8106 12.518 0.4592 0.5466 Evaluation Finish\n",
      "25: Data Load Finish, "
     ]
    },
    {
     "name": "stderr",
     "output_type": "stream",
     "text": [
      "C:\\Users\\vfgtr554\\anaconda3\\envs\\cctv\\lib\\site-packages\\pandas\\core\\arraylike.py:364: RuntimeWarning: divide by zero encountered in log\n",
      "  result = getattr(ufunc, method)(*inputs, **kwargs)\n",
      "C:\\Users\\vfgtr554\\anaconda3\\envs\\cctv\\lib\\site-packages\\statsmodels\\base\\model.py:606: ConvergenceWarning: Maximum Likelihood optimization failed to converge. Check mle_retvals\n",
      "  ConvergenceWarning)\n"
     ]
    },
    {
     "name": "stdout",
     "output_type": "stream",
     "text": [
      "Predict Finish, 27.2597 27.1217 0.9641 0.0352 Evaluation Finish\n",
      "26: Data Load Finish, Predict Finish, 5.6008 4.7735 0.1611 0.8018 Evaluation Finish\n",
      "27: Data Load Finish, Predict Finish, 4.8752 4.0531 0.137 0.8275 Evaluation Finish\n",
      "28: Data Load Finish, Predict Finish, 6.1032 5.3875 0.2016 0.784 Evaluation Finish\n",
      "29: Data Load Finish, Predict Finish, 5.2072 4.369 0.147 0.8157 Evaluation Finish\n",
      "30: Data Load Finish, Predict Finish, 2.7735 2.4084 0.0896 0.9018 Evaluation Finish\n",
      "31: Data Load Finish, Predict Finish, 3.1294 2.7594 0.0957 0.8892 Evaluation Finish\n",
      "32: Data Load Finish, Predict Finish, 2.6872 2.2392 0.0792 0.9049 Evaluation Finish\n",
      "33: Data Load Finish, Predict Finish, 11.5652 11.2646 0.3955 0.5907 Evaluation Finish\n",
      "34: Data Load Finish, Predict Finish, 4.4699 3.7512 0.1268 0.8418 Evaluation Finish\n",
      "35: Data Load Finish, Predict Finish, 6.8937 6.3324 0.2181 0.756 Evaluation Finish\n",
      "36: Data Load Finish, "
     ]
    },
    {
     "name": "stderr",
     "output_type": "stream",
     "text": [
      "C:\\Users\\vfgtr554\\anaconda3\\envs\\cctv\\lib\\site-packages\\pandas\\core\\arraylike.py:364: RuntimeWarning: divide by zero encountered in log\n",
      "  result = getattr(ufunc, method)(*inputs, **kwargs)\n",
      "C:\\Users\\vfgtr554\\anaconda3\\envs\\cctv\\lib\\site-packages\\statsmodels\\base\\model.py:606: ConvergenceWarning: Maximum Likelihood optimization failed to converge. Check mle_retvals\n",
      "  ConvergenceWarning)\n"
     ]
    },
    {
     "name": "stdout",
     "output_type": "stream",
     "text": [
      "Predict Finish, 27.2597 27.1217 0.9641 0.0352 Evaluation Finish\n",
      "37: Data Load Finish, Predict Finish, 6.0654 5.2881 0.1794 0.7853 Evaluation Finish\n",
      "38: Data Load Finish, Predict Finish, 6.2839 5.6568 0.1943 0.7776 Evaluation Finish\n",
      "39: Data Load Finish, Predict Finish, 3.2347 2.8263 0.0974 0.8855 Evaluation Finish\n",
      "40: Data Load Finish, Predict Finish, 6.9558 5.9163 0.2007 0.7538 Evaluation Finish\n",
      "41: Data Load Finish, Predict Finish, 8.4862 8.0698 0.2811 0.6997 Evaluation Finish\n",
      "42: Data Load Finish, Predict Finish, 6.65 6.1203 0.2113 0.7646 Evaluation Finish\n",
      "43: Data Load Finish, Predict Finish, 3.6773 3.0074 0.1154 0.8699 Evaluation Finish\n",
      "44: Data Load Finish, Predict Finish, 3.4394 2.8308 0.1034 0.8783 Evaluation Finish\n",
      "45: Data Load Finish, Predict Finish, 7.4554 6.9357 0.2395 0.7361 Evaluation Finish\n",
      "46: Data Load Finish, Predict Finish, 6.0611 5.4677 0.2048 0.7855 Evaluation Finish\n",
      "47: Data Load Finish, Predict Finish, 4.1376 3.1182 0.1045 0.8536 Evaluation Finish\n",
      "48: Data Load Finish, Predict Finish, 2.7917 2.4717 0.0894 0.9012 Evaluation Finish\n",
      "49: Data Load Finish, Predict Finish, 2.761 2.3545 0.0875 0.9023 Evaluation Finish\n",
      "50: Data Load Finish, "
     ]
    },
    {
     "name": "stderr",
     "output_type": "stream",
     "text": [
      "C:\\Users\\vfgtr554\\anaconda3\\envs\\cctv\\lib\\site-packages\\statsmodels\\base\\model.py:606: ConvergenceWarning: Maximum Likelihood optimization failed to converge. Check mle_retvals\n",
      "  ConvergenceWarning)\n"
     ]
    },
    {
     "name": "stdout",
     "output_type": "stream",
     "text": [
      "Predict Finish, 4.5086 3.7465 0.126 0.8404 Evaluation Finish\n",
      "51: Data Load Finish, Predict Finish, 7.4949 6.9935 0.2416 0.7347 Evaluation Finish\n",
      "52: Data Load Finish, Predict Finish, 10.7749 10.452 0.3664 0.6187 Evaluation Finish\n",
      "53: Data Load Finish, Predict Finish, 13.602 13.2921 0.467 0.5186 Evaluation Finish\n",
      "54: Data Load Finish, Predict Finish, 11.1781 10.8735 0.3815 0.6044 Evaluation Finish\n",
      "55: Data Load Finish, Predict Finish, 3.6353 2.9263 0.1124 0.8713 Evaluation Finish\n",
      "56: Data Load Finish, Predict Finish, 9.1087 8.6882 0.3218 0.6776 Evaluation Finish\n",
      "57: Data Load Finish, Predict Finish, 2.875 2.4498 0.091 0.8982 Evaluation Finish\n",
      "58: Data Load Finish, Predict Finish, 14.1873 13.9177 0.5095 0.4979 Evaluation Finish\n",
      "59: Data Load Finish, Predict Finish, 8.2602 7.7763 0.2886 0.7077 Evaluation Finish\n",
      "60: Data Load Finish, Predict Finish, 5.8482 5.1802 0.1957 0.793 Evaluation Finish\n",
      "61: Data Load Finish, Predict Finish, 7.6686 7.1733 0.2479 0.7286 Evaluation Finish\n",
      "62: Data Load Finish, "
     ]
    },
    {
     "name": "stderr",
     "output_type": "stream",
     "text": [
      "C:\\Users\\vfgtr554\\anaconda3\\envs\\cctv\\lib\\site-packages\\pandas\\core\\arraylike.py:364: RuntimeWarning: divide by zero encountered in log\n",
      "  result = getattr(ufunc, method)(*inputs, **kwargs)\n",
      "C:\\Users\\vfgtr554\\anaconda3\\envs\\cctv\\lib\\site-packages\\statsmodels\\base\\model.py:606: ConvergenceWarning: Maximum Likelihood optimization failed to converge. Check mle_retvals\n",
      "  ConvergenceWarning)\n"
     ]
    },
    {
     "name": "stdout",
     "output_type": "stream",
     "text": [
      "Predict Finish, 27.2597 27.1217 0.9641 0.0352 Evaluation Finish\n",
      "63: Data Load Finish, Predict Finish, 4.4857 3.9003 0.1478 0.8412 Evaluation Finish\n",
      "64: Data Load Finish, Predict Finish, 5.3775 4.5104 0.1719 0.8097 Evaluation Finish\n",
      "65: Data Load Finish, Predict Finish, 6.9464 6.2571 0.2143 0.7542 Evaluation Finish\n",
      "66: Data Load Finish, Predict Finish, 3.1659 2.7933 0.0966 0.888 Evaluation Finish\n",
      "67: Data Load Finish, Predict Finish, 8.1903 7.6496 0.2645 0.7101 Evaluation Finish\n",
      "68: Data Load Finish, Predict Finish, 3.8055 3.0122 0.1007 0.8653 Evaluation Finish\n",
      "69: Data Load Finish, Predict Finish, 15.1882 14.9427 0.5463 0.4625 Evaluation Finish\n",
      "70: Data Load Finish, Predict Finish, 25.1701 25.0286 0.9078 0.1092 Evaluation Finish\n",
      "71: Data Load Finish, Predict Finish, 30.6438 30.5301 1.1056 -0.0846 Evaluation Finish\n",
      "72: Data Load Finish, Predict Finish, 31.0792 30.9564 1.1211 -0.1 Evaluation Finish\n",
      "73: Data Load Finish, Predict Finish, 29.2748 29.1087 1.0545 -0.0361 Evaluation Finish\n",
      "74: Data Load Finish, Predict Finish, 30.6831 30.5619 1.1072 -0.0859 Evaluation Finish\n",
      "75: Data Load Finish, Predict Finish, 15.5357 15.2958 0.5589 0.4502 Evaluation Finish\n",
      "76: Data Load Finish, Predict Finish, 6.8151 6.2412 0.2339 0.7588 Evaluation Finish\n",
      "77: Data Load Finish, Predict Finish, 2.8453 2.4765 0.0919 0.8993 Evaluation Finish\n",
      "78: Data Load Finish, Predict Finish, 2.7514 2.4768 0.0896 0.9026 Evaluation Finish\n",
      "79: Data Load Finish, Predict Finish, 3.5591 3.1277 0.1082 0.874 Evaluation Finish\n",
      "80: Data Load Finish, Predict Finish, 3.9309 2.9747 0.116 0.8609 Evaluation Finish\n",
      "81: Data Load Finish, Predict Finish, 11.4933 11.1633 0.3911 0.5932 Evaluation Finish\n",
      "82: Data Load Finish, Predict Finish, 13.2006 12.8873 0.4723 0.5328 Evaluation Finish\n",
      "83: Data Load Finish, Predict Finish, 4.1351 3.3911 0.1137 0.8536 Evaluation Finish\n",
      "84: Data Load Finish, "
     ]
    },
    {
     "name": "stderr",
     "output_type": "stream",
     "text": [
      "C:\\Users\\vfgtr554\\anaconda3\\envs\\cctv\\lib\\site-packages\\statsmodels\\base\\model.py:606: ConvergenceWarning: Maximum Likelihood optimization failed to converge. Check mle_retvals\n",
      "  ConvergenceWarning)\n"
     ]
    },
    {
     "name": "stdout",
     "output_type": "stream",
     "text": [
      "Predict Finish, 11.6936 11.3688 0.418 0.5861 Evaluation Finish\n",
      "85: Data Load Finish, Predict Finish, 21.3019 21.1162 0.7679 0.2461 Evaluation Finish\n",
      "86: Data Load Finish, Predict Finish, 9.664 9.1434 0.3372 0.658 Evaluation Finish\n",
      "87: Data Load Finish, Predict Finish, 4.5378 3.8685 0.1307 0.8394 Evaluation Finish\n",
      "88: Data Load Finish, Predict Finish, 2.989 2.4493 0.0927 0.8942 Evaluation Finish\n",
      "89: Data Load Finish, Predict Finish, 2.87 2.5371 0.0896 0.8984 Evaluation Finish\n",
      "90: Data Load Finish, Predict Finish, 10.2206 9.8464 0.3633 0.6383 Evaluation Finish\n",
      "91: Data Load Finish, Predict Finish, 10.4449 10.085 0.3719 0.6303 Evaluation Finish\n",
      "92: Data Load Finish, Predict Finish, 2.8521 2.4931 0.0918 0.8991 Evaluation Finish\n",
      "93: Data Load Finish, Predict Finish, 2.9356 2.4895 0.0868 0.8961 Evaluation Finish\n",
      "94: Data Load Finish, Predict Finish, 3.3678 2.8765 0.108 0.8808 Evaluation Finish\n",
      "95: Data Load Finish, Predict Finish, 4.786 3.9229 0.1312 0.8306 Evaluation Finish\n",
      "96: Data Load Finish, Predict Finish, 3.8794 3.3226 0.1261 0.8627 Evaluation Finish\n",
      "97: Data Load Finish, Predict Finish, 5.6801 4.9971 0.1883 0.799 Evaluation Finish\n",
      "98: Data Load Finish, Predict Finish, 4.3666 3.2125 0.1065 0.8455 Evaluation Finish\n",
      "99: Data Load Finish, Predict Finish, 3.0375 2.4656 0.0933 0.8925 Evaluation Finish\n",
      "100: Data Load Finish, Predict Finish, 5.4799 4.6194 0.156 0.8061 Evaluation Finish\n",
      "101: Data Load Finish, Predict Finish, 7.5638 7.0767 0.2637 0.7323 Evaluation Finish\n",
      "102: Data Load Finish, Predict Finish, 11.0464 10.6988 0.3743 0.609 Evaluation Finish\n",
      "103: Data Load Finish, Predict Finish, 2.9625 2.549 0.0951 0.8951 Evaluation Finish\n",
      "104: Data Load Finish, Predict Finish, 3.3627 2.9641 0.103 0.881 Evaluation Finish\n",
      "105: "
     ]
    },
    {
     "name": "stderr",
     "output_type": "stream",
     "text": [
      "C:\\Users\\vfgtr554\\anaconda3\\envs\\cctv\\lib\\site-packages\\pandas\\core\\arraylike.py:364: RuntimeWarning: divide by zero encountered in log\n",
      "  result = getattr(ufunc, method)(*inputs, **kwargs)\n"
     ]
    },
    {
     "name": "stdout",
     "output_type": "stream",
     "text": [
      "Data Load Finish, "
     ]
    },
    {
     "name": "stderr",
     "output_type": "stream",
     "text": [
      "C:\\Users\\vfgtr554\\anaconda3\\envs\\cctv\\lib\\site-packages\\statsmodels\\base\\model.py:606: ConvergenceWarning: Maximum Likelihood optimization failed to converge. Check mle_retvals\n",
      "  ConvergenceWarning)\n",
      "C:\\Users\\vfgtr554\\anaconda3\\envs\\cctv\\lib\\site-packages\\pandas\\core\\arraylike.py:364: RuntimeWarning: divide by zero encountered in log\n",
      "  result = getattr(ufunc, method)(*inputs, **kwargs)\n"
     ]
    },
    {
     "name": "stdout",
     "output_type": "stream",
     "text": [
      "Predict Finish, 27.2597 27.1217 0.9641 0.0352 Evaluation Finish\n",
      "106: Data Load Finish, "
     ]
    },
    {
     "name": "stderr",
     "output_type": "stream",
     "text": [
      "C:\\Users\\vfgtr554\\anaconda3\\envs\\cctv\\lib\\site-packages\\statsmodels\\base\\model.py:606: ConvergenceWarning: Maximum Likelihood optimization failed to converge. Check mle_retvals\n",
      "  ConvergenceWarning)\n"
     ]
    },
    {
     "name": "stdout",
     "output_type": "stream",
     "text": [
      "Predict Finish, 27.2597 27.1217 0.9641 0.0352 Evaluation Finish\n",
      "107: Data Load Finish, Predict Finish, 5.5791 4.9371 0.1863 0.8025 Evaluation Finish\n",
      "108: Data Load Finish, "
     ]
    },
    {
     "name": "stderr",
     "output_type": "stream",
     "text": [
      "C:\\Users\\vfgtr554\\anaconda3\\envs\\cctv\\lib\\site-packages\\pandas\\core\\arraylike.py:364: RuntimeWarning: divide by zero encountered in log\n",
      "  result = getattr(ufunc, method)(*inputs, **kwargs)\n",
      "C:\\Users\\vfgtr554\\anaconda3\\envs\\cctv\\lib\\site-packages\\statsmodels\\base\\model.py:606: ConvergenceWarning: Maximum Likelihood optimization failed to converge. Check mle_retvals\n",
      "  ConvergenceWarning)\n"
     ]
    },
    {
     "name": "stdout",
     "output_type": "stream",
     "text": [
      "Predict Finish, 27.2597 27.1217 0.9641 0.0352 Evaluation Finish\n",
      "109: Data Load Finish, Predict Finish, 6.9012 6.3349 0.2177 0.7558 Evaluation Finish\n",
      "110: Data Load Finish, Predict Finish, 3.3147 2.8755 0.0986 0.8827 Evaluation Finish\n",
      "111: Data Load Finish, Predict Finish, 3.5308 2.6243 0.0876 0.875 Evaluation Finish\n",
      "112: Data Load Finish, Predict Finish, 3.7167 3.1797 0.1085 0.8685 Evaluation Finish\n",
      "113: Data Load Finish, Predict Finish, 5.2732 4.5065 0.152 0.8134 Evaluation Finish\n",
      "114: Data Load Finish, Predict Finish, 3.6759 3.121 0.1061 0.8699 Evaluation Finish\n",
      "115: Data Load Finish, Predict Finish, 4.7425 3.9815 0.1338 0.8322 Evaluation Finish\n",
      "116: Data Load Finish, Predict Finish, 4.6203 3.7218 0.1435 0.8365 Evaluation Finish\n",
      "117: Data Load Finish, "
     ]
    },
    {
     "name": "stderr",
     "output_type": "stream",
     "text": [
      "C:\\Users\\vfgtr554\\anaconda3\\envs\\cctv\\lib\\site-packages\\pandas\\core\\arraylike.py:364: RuntimeWarning: divide by zero encountered in log\n",
      "  result = getattr(ufunc, method)(*inputs, **kwargs)\n",
      "C:\\Users\\vfgtr554\\anaconda3\\envs\\cctv\\lib\\site-packages\\statsmodels\\base\\model.py:606: ConvergenceWarning: Maximum Likelihood optimization failed to converge. Check mle_retvals\n",
      "  ConvergenceWarning)\n"
     ]
    },
    {
     "name": "stdout",
     "output_type": "stream",
     "text": [
      "Predict Finish, 27.2597 27.1217 0.9641 0.0352 Evaluation Finish\n",
      "118: Data Load Finish, Predict Finish, 25.3371 25.1884 0.9143 0.1033 Evaluation Finish\n",
      "119: Data Load Finish, Predict Finish, 5.0669 4.0438 0.1559 0.8207 Evaluation Finish\n",
      "120: Data Load Finish, Predict Finish, 2.8703 2.3417 0.082 0.8984 Evaluation Finish\n",
      "121: Data Load Finish, Predict Finish, 5.7909 5.1047 0.1736 0.795 Evaluation Finish\n",
      "122: Data Load Finish, Predict Finish, 8.3421 7.5653 0.2607 0.7048 Evaluation Finish\n",
      "123: Data Load Finish, Predict Finish, 6.3411 5.7208 0.1956 0.7756 Evaluation Finish\n",
      "124: Data Load Finish, Predict Finish, 9.3475 8.946 0.3116 0.6692 Evaluation Finish\n",
      "125: Data Load Finish, Predict Finish, 16.2057 15.9177 0.5822 0.4264 Evaluation Finish\n",
      "126: Data Load Finish, Predict Finish, 7.3216 6.7343 0.2317 0.7409 Evaluation Finish\n",
      "127: Data Load Finish, Predict Finish, 9.9255 9.4753 0.33 0.6487 Evaluation Finish\n",
      "128: Data Load Finish, Predict Finish, 7.6909 7.1645 0.2473 0.7278 Evaluation Finish\n",
      "129: Data Load Finish, Predict Finish, 3.8975 3.2529 0.1098 0.8621 Evaluation Finish\n",
      "130: Data Load Finish, Predict Finish, 3.1761 2.8475 0.1006 0.8876 Evaluation Finish\n",
      "131: "
     ]
    },
    {
     "name": "stderr",
     "output_type": "stream",
     "text": [
      "C:\\Users\\vfgtr554\\anaconda3\\envs\\cctv\\lib\\site-packages\\pandas\\core\\arraylike.py:364: RuntimeWarning: divide by zero encountered in log\n",
      "  result = getattr(ufunc, method)(*inputs, **kwargs)\n"
     ]
    },
    {
     "name": "stdout",
     "output_type": "stream",
     "text": [
      "Data Load Finish, "
     ]
    },
    {
     "name": "stderr",
     "output_type": "stream",
     "text": [
      "C:\\Users\\vfgtr554\\anaconda3\\envs\\cctv\\lib\\site-packages\\statsmodels\\base\\model.py:606: ConvergenceWarning: Maximum Likelihood optimization failed to converge. Check mle_retvals\n",
      "  ConvergenceWarning)\n"
     ]
    },
    {
     "name": "stdout",
     "output_type": "stream",
     "text": [
      "Predict Finish, 27.2597 27.1217 0.9641 0.0352 Evaluation Finish\n",
      "132: Data Load Finish, Predict Finish, 6.5137 5.8898 0.2015 0.7695 Evaluation Finish\n",
      "133: Data Load Finish, Predict Finish, 3.2172 2.7782 0.0954 0.8861 Evaluation Finish\n",
      "134: Data Load Finish, Predict Finish, 10.155 9.772 0.341 0.6406 Evaluation Finish\n",
      "135: Data Load Finish, Predict Finish, 6.4808 5.8724 0.2013 0.7706 Evaluation Finish\n",
      "136: Data Load Finish, Predict Finish, 8.3457 7.8704 0.2727 0.7046 Evaluation Finish\n",
      "137: Data Load Finish, Predict Finish, 5.6611 4.9575 0.1682 0.7996 Evaluation Finish\n",
      "138: Data Load Finish, Predict Finish, 3.8746 2.8632 0.0947 0.8629 Evaluation Finish\n",
      "139: Data Load Finish, Predict Finish, 5.0475 4.2439 0.1426 0.8214 Evaluation Finish\n",
      "140: Data Load Finish, Predict Finish, 2.7508 2.4533 0.0876 0.9026 Evaluation Finish\n",
      "141: Data Load Finish, Predict Finish, 5.4175 4.6072 0.1553 0.8083 Evaluation Finish\n",
      "142: Data Load Finish, "
     ]
    },
    {
     "name": "stderr",
     "output_type": "stream",
     "text": [
      "C:\\Users\\vfgtr554\\anaconda3\\envs\\cctv\\lib\\site-packages\\pandas\\core\\arraylike.py:364: RuntimeWarning: divide by zero encountered in log\n",
      "  result = getattr(ufunc, method)(*inputs, **kwargs)\n",
      "C:\\Users\\vfgtr554\\anaconda3\\envs\\cctv\\lib\\site-packages\\statsmodels\\base\\model.py:606: ConvergenceWarning: Maximum Likelihood optimization failed to converge. Check mle_retvals\n",
      "  ConvergenceWarning)\n"
     ]
    },
    {
     "name": "stdout",
     "output_type": "stream",
     "text": [
      "Predict Finish, 27.2597 27.1217 0.9641 0.0352 Evaluation Finish\n",
      "143: Data Load Finish, Predict Finish, 5.2019 4.4363 0.1496 0.8159 Evaluation Finish\n",
      "144: Data Load Finish, Predict Finish, 15.4133 15.1682 0.5544 0.4545 Evaluation Finish\n",
      "145: Data Load Finish, Predict Finish, 32.1134 31.9975 1.1586 -0.1366 Evaluation Finish\n",
      "146: Data Load Finish, Predict Finish, 3.41 2.74 0.1049 0.8793 Evaluation Finish\n",
      "147: Data Load Finish, Predict Finish, 3.5752 2.9399 0.1123 0.8735 Evaluation Finish\n",
      "148: Data Load Finish, Predict Finish, 6.507 5.8859 0.2018 0.7697 Evaluation Finish\n",
      "149: Data Load Finish, Predict Finish, 4.1843 2.9413 0.0964 0.8519 Evaluation Finish\n",
      "150: Data Load Finish, Predict Finish, 6.1784 5.5683 0.1904 0.7813 Evaluation Finish\n",
      "151: Data Load Finish, Predict Finish, 5.151 4.4156 0.1492 0.8177 Evaluation Finish\n",
      "152: Data Load Finish, Predict Finish, 5.7948 5.1287 0.1745 0.7949 Evaluation Finish\n",
      "153: Data Load Finish, Predict Finish, 2.7981 2.4608 0.0879 0.901 Evaluation Finish\n",
      "154: Data Load Finish, Predict Finish, 2.9082 2.425 0.0854 0.8971 Evaluation Finish\n",
      "155: Data Load Finish, Predict Finish, 2.6318 2.2625 0.081 0.9069 Evaluation Finish\n",
      "156: Data Load Finish, Predict Finish, 4.462 3.7082 0.1244 0.8421 Evaluation Finish\n",
      "157: Data Load Finish, Predict Finish, 5.674 5.0293 0.1715 0.7992 Evaluation Finish\n",
      "158: Data Load Finish, Predict Finish, 6.1971 5.6014 0.1917 0.7807 Evaluation Finish\n",
      "159: Data Load Finish, Predict Finish, 9.7593 9.2625 0.3219 0.6546 Evaluation Finish\n",
      "160: Data Load Finish, Predict Finish, 5.9839 5.2929 0.1801 0.7882 Evaluation Finish\n",
      "161: Data Load Finish, Predict Finish, 4.8125 4.0079 0.1345 0.8297 Evaluation Finish\n",
      "162: Data Load Finish, Predict Finish, 6.5903 5.9348 0.2041 0.7668 Evaluation Finish\n",
      "163: Data Load Finish, Predict Finish, 4.1758 3.4546 0.116 0.8522 Evaluation Finish\n",
      "164: Data Load Finish, Predict Finish, 3.3079 2.8757 0.0987 0.8829 Evaluation Finish\n",
      "165: Data Load Finish, Predict Finish, 3.6375 2.9962 0.1145 0.8713 Evaluation Finish\n",
      "166: Data Load Finish, Predict Finish, 11.7266 11.3964 0.4189 0.585 Evaluation Finish\n",
      "167: Data Load Finish, Predict Finish, 9.9181 9.5321 0.3521 0.649 Evaluation Finish\n",
      "168: Data Load Finish, Predict Finish, 24.5466 24.3935 0.8857 0.1312 Evaluation Finish\n",
      "169: Data Load Finish, Predict Finish, 9.6284 9.2111 0.3404 0.6592 Evaluation Finish\n",
      "170: Data Load Finish, Predict Finish, 3.7415 2.8807 0.096 0.8676 Evaluation Finish\n",
      "171: Data Load Finish, Predict Finish, 6.2149 5.5634 0.2094 0.78 Evaluation Finish\n",
      "172: Data Load Finish, Predict Finish, 4.4534 3.5321 0.1175 0.8424 Evaluation Finish\n",
      "173: Data Load Finish, Predict Finish, 2.9025 2.4431 0.0909 0.8973 Evaluation Finish\n",
      "174: Data Load Finish, Predict Finish, 2.9657 2.5515 0.0951 0.895 Evaluation Finish\n",
      "175: Data Load Finish, Predict Finish, 7.9306 7.5102 0.2782 0.7193 Evaluation Finish\n",
      "176: Data Load Finish, Predict Finish, 9.5952 9.1632 0.3189 0.6604 Evaluation Finish\n",
      "177: Data Load Finish, Predict Finish, 18.2984 18.0987 0.6587 0.3524 Evaluation Finish\n",
      "178: Data Load Finish, Predict Finish, 4.2883 3.5714 0.12 0.8482 Evaluation Finish\n",
      "179: Data Load Finish, Predict Finish, 2.9229 2.4674 0.0927 0.8966 Evaluation Finish\n",
      "180: Data Load Finish, Predict Finish, 17.7877 17.5755 0.64 0.3705 Evaluation Finish\n",
      "181: Data Load Finish, Predict Finish, 5.1854 4.4757 0.1515 0.8165 Evaluation Finish\n",
      "182: Data Load Finish, Predict Finish, 5.0222 4.224 0.142 0.8223 Evaluation Finish\n",
      "183: Data Load Finish, Predict Finish, 5.0596 4.2527 0.1429 0.8209 Evaluation Finish\n",
      "184: Data Load Finish, Predict Finish, 3.521 2.8789 0.0971 0.8754 Evaluation Finish\n",
      "185: Data Load Finish, Predict Finish, 3.4298 2.4832 0.083 0.8786 Evaluation Finish\n",
      "186: Data Load Finish, Predict Finish, 5.8024 5.067 0.1729 0.7946 Evaluation Finish\n",
      "187: Data Load Finish, Predict Finish, 4.3658 3.5239 0.1176 0.8455 Evaluation Finish\n",
      "188: Data Load Finish, Predict Finish, 3.0371 2.7005 0.095 0.8925 Evaluation Finish\n",
      "189: Data Load Finish, Predict Finish, 2.7758 2.4211 0.0856 0.9018 Evaluation Finish\n",
      "190: Data Load Finish, Predict Finish, 5.0675 4.2808 0.1442 0.8206 Evaluation Finish\n",
      "191: Data Load Finish, Predict Finish, 2.9164 2.4731 0.0863 0.8968 Evaluation Finish\n",
      "192: Data Load Finish, Predict Finish, 6.1947 5.5681 0.1903 0.7808 Evaluation Finish\n",
      "193: Data Load Finish, Predict Finish, 13.8876 13.6145 0.4791 0.5085 Evaluation Finish\n",
      "194: Data Load Finish, Predict Finish, 3.6187 2.7946 0.0935 0.8719 Evaluation Finish\n",
      "195: Data Load Finish, Predict Finish, 3.4241 2.8566 0.097 0.8788 Evaluation Finish\n",
      "196: Data Load Finish, Predict Finish, 5.3852 4.6424 0.157 0.8094 Evaluation Finish\n",
      "197: Data Load Finish, Predict Finish, 3.6433 2.997 0.1011 0.8711 Evaluation Finish\n",
      "198: Data Load Finish, Predict Finish, 5.5579 4.7899 0.1624 0.8033 Evaluation Finish\n",
      "199: Data Load Finish, Predict Finish, 7.116 6.5639 0.2258 0.7482 Evaluation Finish\n",
      "200: Data Load Finish, Predict Finish, 3.0502 2.6438 0.0914 0.892 Evaluation Finish\n",
      "201: Data Load Finish, "
     ]
    },
    {
     "name": "stderr",
     "output_type": "stream",
     "text": [
      "C:\\Users\\vfgtr554\\anaconda3\\envs\\cctv\\lib\\site-packages\\pandas\\core\\arraylike.py:364: RuntimeWarning: divide by zero encountered in log\n",
      "  result = getattr(ufunc, method)(*inputs, **kwargs)\n",
      "C:\\Users\\vfgtr554\\anaconda3\\envs\\cctv\\lib\\site-packages\\statsmodels\\base\\model.py:606: ConvergenceWarning: Maximum Likelihood optimization failed to converge. Check mle_retvals\n",
      "  ConvergenceWarning)\n"
     ]
    },
    {
     "name": "stdout",
     "output_type": "stream",
     "text": [
      "Predict Finish, 27.2597 27.1217 0.9641 0.0352 Evaluation Finish\n",
      "202: Data Load Finish, Predict Finish, 4.9609 4.253 0.1438 0.8244 Evaluation Finish\n",
      "203: Data Load Finish, Predict Finish, 9.9848 9.5486 0.3325 0.6466 Evaluation Finish\n",
      "204: Data Load Finish, Predict Finish, 4.8938 4.107 0.1385 0.8268 Evaluation Finish\n",
      "205: Data Load Finish, Predict Finish, 8.6356 8.1341 0.2818 0.6944 Evaluation Finish\n",
      "206: Data Load Finish, Predict Finish, 9.6048 9.2094 0.3218 0.6601 Evaluation Finish\n",
      "207: Data Load Finish, Predict Finish, 6.0645 5.3548 0.1821 0.7854 Evaluation Finish\n",
      "208: Data Load Finish, Predict Finish, 9.1863 8.7308 0.3059 0.6749 Evaluation Finish\n",
      "209: Data Load Finish, Predict Finish, 4.95 4.0897 0.1569 0.8248 Evaluation Finish\n",
      "210: Data Load Finish, Predict Finish, 2.7546 2.4583 0.0879 0.9025 Evaluation Finish\n",
      "211: Data Load Finish, Predict Finish, 9.5432 9.0535 0.3344 0.6622 Evaluation Finish\n",
      "212: Data Load Finish, Predict Finish, 4.2549 3.6761 0.1395 0.8494 Evaluation Finish\n",
      "213: Data Load Finish, Predict Finish, 14.9136 14.6513 0.5352 0.4722 Evaluation Finish\n",
      "214: Data Load Finish, Predict Finish, 12.5167 12.1997 0.4281 0.557 Evaluation Finish\n",
      "215: Data Load Finish, Predict Finish, 7.9369 7.4267 0.2567 0.7191 Evaluation Finish\n",
      "216: Data Load Finish, Predict Finish, 3.4372 2.9659 0.1014 0.8784 Evaluation Finish\n",
      "217: Data Load Finish, Predict Finish, 15.408 15.1648 0.554 0.4547 Evaluation Finish\n",
      "218: Data Load Finish, Predict Finish, 5.9607 5.2882 0.18 0.789 Evaluation Finish\n",
      "219: Data Load Finish, Predict Finish, 3.9848 3.0024 0.1171 0.859 Evaluation Finish\n",
      "220: Data Load Finish, Predict Finish, 7.1215 6.5672 0.2453 0.748 Evaluation Finish\n",
      "221: Data Load Finish, Predict Finish, 2.929 2.4479 0.0905 0.8963 Evaluation Finish\n",
      "222: Data Load Finish, Predict Finish, 4.2423 3.5304 0.1186 0.8499 Evaluation Finish\n",
      "223: Data Load Finish, Predict Finish, 2.8528 2.44 0.0902 0.899 Evaluation Finish\n",
      "224: Data Load Finish, Predict Finish, 5.0987 4.5338 0.1706 0.8195 Evaluation Finish\n",
      "225: Data Load Finish, Predict Finish, 3.1334 2.5955 0.0975 0.8891 Evaluation Finish\n",
      "226: Data Load Finish, Predict Finish, 3.5005 2.726 0.0914 0.8761 Evaluation Finish\n",
      "227: Data Load Finish, Predict Finish, 9.9971 9.2918 0.3226 0.6462 Evaluation Finish\n",
      "228: Data Load Finish, Predict Finish, 3.6613 2.3738 0.0782 0.8704 Evaluation Finish\n",
      "229: Data Load Finish, Predict Finish, 13.4716 13.1842 0.4834 0.5232 Evaluation Finish\n",
      "230: Data Load Finish, Predict Finish, 4.9715 4.069 0.1372 0.824 Evaluation Finish\n",
      "231: Data Load Finish, Predict Finish, 2.9349 2.5634 0.0891 0.8961 Evaluation Finish\n",
      "232: Data Load Finish, Predict Finish, 7.3992 6.8761 0.2375 0.7381 Evaluation Finish\n",
      "233: Data Load Finish, Predict Finish, 4.0158 3.3223 0.1119 0.8579 Evaluation Finish\n",
      "234: Data Load Finish, Predict Finish, 3.6804 3.185 0.1093 0.8697 Evaluation Finish\n",
      "235: Data Load Finish, Predict Finish, 15.4443 15.1995 0.5556 0.4534 Evaluation Finish\n",
      "236: Data Load Finish, Predict Finish, 4.0361 3.0259 0.1002 0.8572 Evaluation Finish\n",
      "237: Data Load Finish, Predict Finish, 5.5514 4.8623 0.1651 0.8035 Evaluation Finish\n",
      "238: Data Load Finish, Predict Finish, 5.1596 4.4424 0.1505 0.8174 Evaluation Finish\n",
      "239: Data Load Finish, Predict Finish, 3.5133 2.831 0.0953 0.8757 Evaluation Finish\n",
      "240: Data Load Finish, Predict Finish, 3.2037 2.8304 0.0979 0.8866 Evaluation Finish\n",
      "241: Data Load Finish, Predict Finish, 4.0204 3.3314 0.112 0.8577 Evaluation Finish\n",
      "242: Data Load Finish, Predict Finish, 4.8907 4.0651 0.1363 0.8269 Evaluation Finish\n",
      "243: Data Load Finish, Predict Finish, 23.6344 23.4709 0.8521 0.1635 Evaluation Finish\n",
      "244: Data Load Finish, Predict Finish, 9.9483 9.6017 0.3358 0.6479 Evaluation Finish\n",
      "245: Data Load Finish, Predict Finish, 12.2613 11.9238 0.418 0.566 Evaluation Finish\n",
      "246: Data Load Finish, Predict Finish, 8.5379 7.3005 0.2559 0.6978 Evaluation Finish\n",
      "247: Data Load Finish, "
     ]
    },
    {
     "name": "stderr",
     "output_type": "stream",
     "text": [
      "C:\\Users\\vfgtr554\\anaconda3\\envs\\cctv\\lib\\site-packages\\statsmodels\\base\\model.py:606: ConvergenceWarning: Maximum Likelihood optimization failed to converge. Check mle_retvals\n",
      "  ConvergenceWarning)\n"
     ]
    },
    {
     "name": "stdout",
     "output_type": "stream",
     "text": [
      "Predict Finish, 9.0699 8.6702 0.3025 0.679 Evaluation Finish\n",
      "248: Data Load Finish, Predict Finish, 12.7024 12.3569 0.4333 0.5504 Evaluation Finish\n",
      "249: Data Load Finish, Predict Finish, 10.3291 9.8939 0.3448 0.6344 Evaluation Finish\n",
      "250: Data Load Finish, Predict Finish, 10.5427 10.0805 0.3512 0.6269 Evaluation Finish\n",
      "251: Data Load Finish, Predict Finish, 11.561 11.2425 0.3942 0.5908 Evaluation Finish\n",
      "252: Data Load Finish, "
     ]
    },
    {
     "name": "stderr",
     "output_type": "stream",
     "text": [
      "C:\\Users\\vfgtr554\\anaconda3\\envs\\cctv\\lib\\site-packages\\statsmodels\\base\\model.py:606: ConvergenceWarning: Maximum Likelihood optimization failed to converge. Check mle_retvals\n",
      "  ConvergenceWarning)\n"
     ]
    },
    {
     "name": "stdout",
     "output_type": "stream",
     "text": [
      "Predict Finish, 2.8001 2.4961 0.0907 0.9009 Evaluation Finish\n",
      "253: Data Load Finish, Predict Finish, 7.8342 7.3463 0.2541 0.7227 Evaluation Finish\n",
      "254: Data Load Finish, Predict Finish, 3.9537 3.3004 0.1262 0.8601 Evaluation Finish\n",
      "255: Data Load Finish, Predict Finish, 9.22 8.7933 0.3058 0.6737 Evaluation Finish\n",
      "256: Data Load Finish, Predict Finish, 6.2946 5.6629 0.1937 0.7772 Evaluation Finish\n",
      "257: Data Load Finish, Predict Finish, 6.071 5.4208 0.2044 0.7851 Evaluation Finish\n",
      "258: Data Load Finish, Predict Finish, 5.2683 4.4875 0.1515 0.8135 Evaluation Finish\n",
      "259: Data Load Finish, Predict Finish, 4.7142 3.8346 0.1475 0.8332 Evaluation Finish\n",
      "260: Data Load Finish, Predict Finish, 3.0762 2.4902 0.0948 0.8911 Evaluation Finish\n",
      "261: Data Load Finish, Predict Finish, 2.9544 2.487 0.0932 0.8954 Evaluation Finish\n",
      "262: Data Load Finish, Predict Finish, 3.5095 2.8168 0.1083 0.8758 Evaluation Finish\n",
      "263: Data Load Finish, Predict Finish, 3.3309 2.8136 0.0959 0.8821 Evaluation Finish\n",
      "264: Data Load Finish, Predict Finish, 5.8296 5.1954 0.1772 0.7937 Evaluation Finish\n",
      "265: Data Load Finish, Predict Finish, 5.1357 4.4048 0.149 0.8182 Evaluation Finish\n",
      "266: "
     ]
    },
    {
     "name": "stderr",
     "output_type": "stream",
     "text": [
      "C:\\Users\\vfgtr554\\anaconda3\\envs\\cctv\\lib\\site-packages\\pandas\\core\\arraylike.py:364: RuntimeWarning: divide by zero encountered in log\n",
      "  result = getattr(ufunc, method)(*inputs, **kwargs)\n"
     ]
    },
    {
     "name": "stdout",
     "output_type": "stream",
     "text": [
      "Data Load Finish, "
     ]
    },
    {
     "name": "stderr",
     "output_type": "stream",
     "text": [
      "C:\\Users\\vfgtr554\\anaconda3\\envs\\cctv\\lib\\site-packages\\statsmodels\\base\\model.py:606: ConvergenceWarning: Maximum Likelihood optimization failed to converge. Check mle_retvals\n",
      "  ConvergenceWarning)\n"
     ]
    },
    {
     "name": "stdout",
     "output_type": "stream",
     "text": [
      "Predict Finish, 27.2597 27.1217 0.9641 0.0352 Evaluation Finish\n",
      "267: Data Load Finish, Predict Finish, 4.587 3.7671 0.126 0.8377 Evaluation Finish\n",
      "268: Data Load Finish, Predict Finish, 5.8831 5.1719 0.1757 0.7918 Evaluation Finish\n",
      "269: Data Load Finish, Predict Finish, 2.8214 2.462 0.0905 0.9001 Evaluation Finish\n",
      "270: Data Load Finish, Predict Finish, 10.894 10.5236 0.3688 0.6144 Evaluation Finish\n",
      "271: Data Load Finish, Predict Finish, 4.6672 4.2858 0.1569 0.8348 Evaluation Finish\n",
      "272: Data Load Finish, Predict Finish, 3.3619 2.8829 0.1085 0.881 Evaluation Finish\n",
      "273: Data Load Finish, "
     ]
    },
    {
     "name": "stderr",
     "output_type": "stream",
     "text": [
      "C:\\Users\\vfgtr554\\anaconda3\\envs\\cctv\\lib\\site-packages\\pandas\\core\\arraylike.py:364: RuntimeWarning: divide by zero encountered in log\n",
      "  result = getattr(ufunc, method)(*inputs, **kwargs)\n",
      "C:\\Users\\vfgtr554\\anaconda3\\envs\\cctv\\lib\\site-packages\\statsmodels\\base\\model.py:606: ConvergenceWarning: Maximum Likelihood optimization failed to converge. Check mle_retvals\n",
      "  ConvergenceWarning)\n"
     ]
    },
    {
     "name": "stdout",
     "output_type": "stream",
     "text": [
      "Predict Finish, 27.2597 27.1217 0.9641 0.0352 Evaluation Finish\n",
      "274: Data Load Finish, Predict Finish, 8.102 7.648 0.2656 0.7133 Evaluation Finish\n",
      "275: Data Load Finish, Predict Finish, 8.2023 7.7337 0.2679 0.7097 Evaluation Finish\n",
      "276: Data Load Finish, Predict Finish, 7.2898 6.7223 0.2333 0.742 Evaluation Finish\n",
      "277: Data Load Finish, Predict Finish, 8.7576 8.3036 0.2882 0.69 Evaluation Finish\n",
      "278: Data Load Finish, Predict Finish, 5.1463 4.3762 0.1475 0.8179 Evaluation Finish\n",
      "279: Data Load Finish, Predict Finish, 5.6084 4.9116 0.1668 0.8015 Evaluation Finish\n",
      "280: Data Load Finish, Predict Finish, 4.2898 3.6156 0.1218 0.8482 Evaluation Finish\n",
      "281: Data Load Finish, Predict Finish, 4.9013 4.0731 0.1369 0.8265 Evaluation Finish\n",
      "282: Data Load Finish, Predict Finish, 3.3596 3.0189 0.1061 0.8811 Evaluation Finish\n",
      "283: Data Load Finish, Predict Finish, 2.819 2.4484 0.0896 0.9002 Evaluation Finish\n",
      "284: Data Load Finish, Predict Finish, 3.8046 3.1378 0.1202 0.8653 Evaluation Finish\n",
      "285: Data Load Finish, Predict Finish, 9.7082 9.3 0.324 0.6564 Evaluation Finish\n",
      "286: Data Load Finish, Predict Finish, 3.2534 2.7217 0.103 0.8849 Evaluation Finish\n",
      "287: Data Load Finish, Predict Finish, 5.6453 4.3788 0.1512 0.8002 Evaluation Finish\n",
      "288: Data Load Finish, Predict Finish, 3.2395 2.7513 0.094 0.8853 Evaluation Finish\n",
      "289: Data Load Finish, Predict Finish, 7.6604 7.178 0.2492 0.7289 Evaluation Finish\n",
      "290: Data Load Finish, Predict Finish, 5.4428 4.769 0.1801 0.8074 Evaluation Finish\n",
      "291: Data Load Finish, Predict Finish, 3.8346 3.2464 0.1104 0.8643 Evaluation Finish\n",
      "292: Data Load Finish, Predict Finish, 8.851 8.2499 0.2856 0.6867 Evaluation Finish\n",
      "293: Data Load Finish, Predict Finish, 4.7473 3.9172 0.1311 0.832 Evaluation Finish\n",
      "294: Data Load Finish, Predict Finish, 4.6829 3.8332 0.1289 0.8343 Evaluation Finish\n",
      "295: Data Load Finish, Predict Finish, 5.9302 5.2531 0.1788 0.7901 Evaluation Finish\n",
      "296: Data Load Finish, Predict Finish, 4.1635 3.2849 0.1094 0.8526 Evaluation Finish\n",
      "297: Data Load Finish, Predict Finish, 4.7094 3.8772 0.1297 0.8333 Evaluation Finish\n",
      "298: Data Load Finish, Predict Finish, 9.8285 9.2528 0.3212 0.6521 Evaluation Finish\n",
      "299: Data Load Finish, Predict Finish, 3.1658 2.4959 0.0957 0.888 Evaluation Finish\n",
      "300: Data Load Finish, Predict Finish, 5.5324 4.6743 0.1783 0.8042 Evaluation Finish\n",
      "301: Data Load Finish, Predict Finish, 8.4818 8.0285 0.2786 0.6998 Evaluation Finish\n",
      "302: Data Load Finish, Predict Finish, 13.2039 12.9062 0.4535 0.5327 Evaluation Finish\n",
      "303: Data Load Finish, Predict Finish, 6.2504 5.622 0.2116 0.7788 Evaluation Finish\n",
      "304: Data Load Finish, Predict Finish, 6.4927 5.9091 0.2026 0.7702 Evaluation Finish\n",
      "305: Data Load Finish, Predict Finish, 3.5822 2.9417 0.0992 0.8732 Evaluation Finish\n",
      "306: Data Load Finish, Predict Finish, 10.7006 10.2731 0.3583 0.6213 Evaluation Finish\n",
      "307: Data Load Finish, Predict Finish, 7.1971 6.6024 0.2269 0.7453 Evaluation Finish\n",
      "308: Data Load Finish, Predict Finish, 5.1511 4.4058 0.1489 0.8177 Evaluation Finish\n",
      "309: Data Load Finish, "
     ]
    },
    {
     "name": "stderr",
     "output_type": "stream",
     "text": [
      "C:\\Users\\vfgtr554\\anaconda3\\envs\\cctv\\lib\\site-packages\\pandas\\core\\arraylike.py:364: RuntimeWarning: divide by zero encountered in log\n",
      "  result = getattr(ufunc, method)(*inputs, **kwargs)\n",
      "C:\\Users\\vfgtr554\\anaconda3\\envs\\cctv\\lib\\site-packages\\statsmodels\\base\\model.py:606: ConvergenceWarning: Maximum Likelihood optimization failed to converge. Check mle_retvals\n",
      "  ConvergenceWarning)\n",
      "C:\\Users\\vfgtr554\\anaconda3\\envs\\cctv\\lib\\site-packages\\pandas\\core\\arraylike.py:364: RuntimeWarning: divide by zero encountered in log\n",
      "  result = getattr(ufunc, method)(*inputs, **kwargs)\n"
     ]
    },
    {
     "name": "stdout",
     "output_type": "stream",
     "text": [
      "Predict Finish, 27.2597 27.1217 0.9641 0.0352 Evaluation Finish\n",
      "310: Data Load Finish, "
     ]
    },
    {
     "name": "stderr",
     "output_type": "stream",
     "text": [
      "C:\\Users\\vfgtr554\\anaconda3\\envs\\cctv\\lib\\site-packages\\statsmodels\\base\\model.py:606: ConvergenceWarning: Maximum Likelihood optimization failed to converge. Check mle_retvals\n",
      "  ConvergenceWarning)\n"
     ]
    },
    {
     "name": "stdout",
     "output_type": "stream",
     "text": [
      "Predict Finish, 27.2597 27.1217 0.9641 0.0352 Evaluation Finish\n",
      "311: Data Load Finish, Predict Finish, 2.9784 2.4371 0.084 0.8946 Evaluation Finish\n",
      "312: Data Load Finish, Predict Finish, 12.6982 12.4184 0.4549 0.5506 Evaluation Finish\n",
      "313: Data Load Finish, Predict Finish, 9.3358 8.9199 0.3107 0.6696 Evaluation Finish\n",
      "314: Data Load Finish, Predict Finish, 4.1894 3.4089 0.114 0.8517 Evaluation Finish\n",
      "315: Data Load Finish, Predict Finish, 5.3698 4.6164 0.156 0.81 Evaluation Finish\n",
      "316: Data Load Finish, Predict Finish, 5.6904 4.9904 0.1694 0.7986 Evaluation Finish\n",
      "317: Data Load Finish, Predict Finish, 3.6421 2.9773 0.1003 0.8711 Evaluation Finish\n",
      "318: Data Load Finish, Predict Finish, 10.4929 10.1304 0.354 0.6286 Evaluation Finish\n",
      "319: Data Load Finish, Predict Finish, 7.603 7.0948 0.2452 0.7309 Evaluation Finish\n",
      "320: Data Load Finish, Predict Finish, 4.7329 3.8713 0.1295 0.8325 Evaluation Finish\n",
      "321: Data Load Finish, Predict Finish, 3.1492 2.8141 0.0982 0.8885 Evaluation Finish\n",
      "322: Data Load Finish, Predict Finish, 2.916 2.5178 0.088 0.8968 Evaluation Finish\n",
      "323: Data Load Finish, Predict Finish, 4.8018 3.927 0.1315 0.8301 Evaluation Finish\n",
      "324: Data Load Finish, Predict Finish, 3.8281 3.0738 0.1184 0.8645 Evaluation Finish\n",
      "325: Data Load Finish, Predict Finish, 7.5513 7.0747 0.2629 0.7327 Evaluation Finish\n",
      "326: Data Load Finish, Predict Finish, 6.7496 6.1618 0.2114 0.7611 Evaluation Finish\n",
      "327: Data Load Finish, Predict Finish, 16.9226 16.6988 0.6093 0.4011 Evaluation Finish\n",
      "328: Data Load Finish, "
     ]
    },
    {
     "name": "stderr",
     "output_type": "stream",
     "text": [
      "C:\\Users\\vfgtr554\\anaconda3\\envs\\cctv\\lib\\site-packages\\pandas\\core\\arraylike.py:364: RuntimeWarning: divide by zero encountered in log\n",
      "  result = getattr(ufunc, method)(*inputs, **kwargs)\n",
      "C:\\Users\\vfgtr554\\anaconda3\\envs\\cctv\\lib\\site-packages\\statsmodels\\base\\model.py:606: ConvergenceWarning: Maximum Likelihood optimization failed to converge. Check mle_retvals\n",
      "  ConvergenceWarning)\n"
     ]
    },
    {
     "name": "stdout",
     "output_type": "stream",
     "text": [
      "Predict Finish, 27.2597 27.1217 0.9641 0.0352 Evaluation Finish\n",
      "329: Data Load Finish, Predict Finish, 9.8974 9.382 0.3458 0.6497 Evaluation Finish\n",
      "330: Data Load Finish, Predict Finish, 8.5126 7.9915 0.2959 0.6987 Evaluation Finish\n",
      "331: Data Load Finish, Predict Finish, 6.6001 6.0655 0.227 0.7664 Evaluation Finish\n",
      "332: Data Load Finish, Predict Finish, 5.3508 4.6258 0.1755 0.8106 Evaluation Finish\n",
      "333: Data Load Finish, Predict Finish, 11.0574 10.5634 0.3904 0.6087 Evaluation Finish\n",
      "334: Data Load Finish, Predict Finish, 19.7201 19.5308 0.7111 0.3021 Evaluation Finish\n",
      "335: Data Load Finish, Predict Finish, 5.2488 4.6239 0.1743 0.8142 Evaluation Finish\n",
      "336: Data Load Finish, Predict Finish, 12.3839 12.0454 0.4418 0.5617 Evaluation Finish\n",
      "337: Data Load Finish, Predict Finish, 4.0301 3.3057 0.1269 0.8574 Evaluation Finish\n",
      "338: Data Load Finish, Predict Finish, 15.782 15.5063 0.5672 0.4414 Evaluation Finish\n",
      "339: Data Load Finish, Predict Finish, 7.9278 7.4141 0.2754 0.7194 Evaluation Finish\n",
      "340: Data Load Finish, Predict Finish, 2.9843 2.4347 0.0919 0.8944 Evaluation Finish\n",
      "341: Data Load Finish, Predict Finish, 7.8844 7.3198 0.272 0.721 Evaluation Finish\n",
      "342: Data Load Finish, Predict Finish, 15.2502 14.999 0.5483 0.4603 Evaluation Finish\n",
      "343: Data Load Finish, Predict Finish, 8.2293 7.7482 0.2878 0.7087 Evaluation Finish\n",
      "344: Data Load Finish, Predict Finish, 3.7458 3.2106 0.1217 0.8674 Evaluation Finish\n",
      "345: Data Load Finish, Predict Finish, 3.2332 2.5767 0.0985 0.8856 Evaluation Finish\n",
      "346: Data Load Finish, Predict Finish, 11.8086 11.4459 0.4007 0.5821 Evaluation Finish\n",
      "347: Data Load Finish, Predict Finish, 2.7686 2.4552 0.0873 0.902 Evaluation Finish\n",
      "348: Data Load Finish, Predict Finish, 8.4089 7.9759 0.2959 0.7024 Evaluation Finish\n",
      "349: Data Load Finish, Predict Finish, 8.1713 7.6454 0.2643 0.7108 Evaluation Finish\n",
      "350: Data Load Finish, Predict Finish, 13.3113 13.05 0.4595 0.5289 Evaluation Finish\n",
      "351: Data Load Finish, Predict Finish, 4.2236 3.4422 0.1152 0.8505 Evaluation Finish\n",
      "352: Data Load Finish, "
     ]
    },
    {
     "name": "stderr",
     "output_type": "stream",
     "text": [
      "C:\\Users\\vfgtr554\\anaconda3\\envs\\cctv\\lib\\site-packages\\pandas\\core\\arraylike.py:364: RuntimeWarning: divide by zero encountered in log\n",
      "  result = getattr(ufunc, method)(*inputs, **kwargs)\n",
      "C:\\Users\\vfgtr554\\anaconda3\\envs\\cctv\\lib\\site-packages\\statsmodels\\base\\model.py:606: ConvergenceWarning: Maximum Likelihood optimization failed to converge. Check mle_retvals\n",
      "  ConvergenceWarning)\n"
     ]
    },
    {
     "name": "stdout",
     "output_type": "stream",
     "text": [
      "Predict Finish, 27.2597 27.1217 0.9641 0.0352 Evaluation Finish\n",
      "353: Data Load Finish, Predict Finish, 3.205 2.5754 0.0985 0.8866 Evaluation Finish\n",
      "354: Data Load Finish, Predict Finish, 3.9456 3.2561 0.1248 0.8604 Evaluation Finish\n",
      "355: Data Load Finish, Predict Finish, 3.8778 3.1734 0.1218 0.8628 Evaluation Finish\n",
      "356: Data Load Finish, Predict Finish, 2.7664 2.4596 0.0906 0.9021 Evaluation Finish\n",
      "357: Data Load Finish, Predict Finish, 3.6815 2.8795 0.1115 0.8697 Evaluation Finish\n",
      "358: Data Load Finish, Predict Finish, 2.7349 2.4452 0.0875 0.9032 Evaluation Finish\n",
      "359: Data Load Finish, Predict Finish, 3.3184 2.654 0.1014 0.8826 Evaluation Finish\n",
      "360: Data Load Finish, Predict Finish, 3.6771 3.1415 0.119 0.8699 Evaluation Finish\n",
      "361: Data Load Finish, Predict Finish, 3.9999 3.4449 0.1307 0.8584 Evaluation Finish\n",
      "362: Data Load Finish, Predict Finish, 4.4461 3.6778 0.1233 0.8426 Evaluation Finish\n",
      "363: Data Load Finish, Predict Finish, 8.5054 8.0636 0.2801 0.699 Evaluation Finish\n",
      "364: Data Load Finish, Predict Finish, 7.4479 6.9271 0.239 0.7364 Evaluation Finish\n",
      "365: Data Load Finish, Predict Finish, 5.2492 4.6361 0.1746 0.8142 Evaluation Finish\n",
      "366: Data Load Finish, Predict Finish, 3.3183 2.8252 0.0965 0.8826 Evaluation Finish\n",
      "367: Data Load Finish, Predict Finish, 6.3482 5.7063 0.2145 0.7753 Evaluation Finish\n",
      "368: Data Load Finish, Predict Finish, 4.2013 3.4923 0.1174 0.8513 Evaluation Finish\n",
      "369: Data Load Finish, Predict Finish, 3.775 2.8594 0.0951 0.8664 Evaluation Finish\n",
      "370: Data Load Finish, Predict Finish, 3.6447 3.3615 0.123 0.871 Evaluation Finish\n",
      "371: Data Load Finish, Predict Finish, 2.795 2.4565 0.09 0.9011 Evaluation Finish\n",
      "372: Data Load Finish, Predict Finish, 15.3818 15.1215 0.552 0.4556 Evaluation Finish\n",
      "373: Data Load Finish, Predict Finish, 5.3812 4.6213 0.1565 0.8095 Evaluation Finish\n",
      "374: Data Load Finish, Predict Finish, 7.6283 7.1222 0.2655 0.73 Evaluation Finish\n",
      "375: Data Load Finish, Predict Finish, 38.9778 38.8755 1.4055 -0.3795 Evaluation Finish\n",
      "376: Data Load Finish, Predict Finish, 55.9281 55.8609 2.0151 -0.9794 Evaluation Finish\n",
      "377: Data Load Finish, Predict Finish, 30.3745 30.2427 1.0954 -0.075 Evaluation Finish\n",
      "378: Data Load Finish, Predict Finish, 30.2401 30.0752 1.089 -0.0703 Evaluation Finish\n",
      "379: Data Load Finish, Predict Finish, 3.7484 3.3864 0.1245 0.8673 Evaluation Finish\n",
      "380: Data Load Finish, Predict Finish, 7.1804 6.5228 0.2427 0.7459 Evaluation Finish\n",
      "381: Data Load Finish, Predict Finish, 4.0923 3.0785 0.1018 0.8552 Evaluation Finish\n",
      "382: Data Load Finish, "
     ]
    },
    {
     "name": "stderr",
     "output_type": "stream",
     "text": [
      "C:\\Users\\vfgtr554\\anaconda3\\envs\\cctv\\lib\\site-packages\\pandas\\core\\arraylike.py:364: RuntimeWarning: divide by zero encountered in log\n",
      "  result = getattr(ufunc, method)(*inputs, **kwargs)\n",
      "C:\\Users\\vfgtr554\\anaconda3\\envs\\cctv\\lib\\site-packages\\statsmodels\\base\\model.py:606: ConvergenceWarning: Maximum Likelihood optimization failed to converge. Check mle_retvals\n",
      "  ConvergenceWarning)\n"
     ]
    },
    {
     "name": "stdout",
     "output_type": "stream",
     "text": [
      "Predict Finish, 27.2597 27.1217 0.9641 0.0352 Evaluation Finish\n",
      "383: Data Load Finish, Predict Finish, 2.8202 2.4497 0.0879 0.9002 Evaluation Finish\n",
      "384: Data Load Finish, Predict Finish, 4.0229 3.3566 0.1131 0.8576 Evaluation Finish\n",
      "385: Data Load Finish, Predict Finish, 3.6517 3.0837 0.1047 0.8708 Evaluation Finish\n",
      "386: Data Load Finish, Predict Finish, 3.2709 2.6335 0.1004 0.8842 Evaluation Finish\n",
      "387: Data Load Finish, Predict Finish, 3.5413 2.8595 0.1096 0.8747 Evaluation Finish\n",
      "388: Data Load Finish, Predict Finish, 2.7517 2.4778 0.0893 0.9026 Evaluation Finish\n",
      "389: Data Load Finish, Predict Finish, 18.743 18.5413 0.6755 0.3366 Evaluation Finish\n",
      "390: Data Load Finish, Predict Finish, 27.7153 27.5783 1.0 0.0191 Evaluation Finish\n",
      "391: Data Load Finish, Predict Finish, 7.9147 7.4593 0.2592 0.7199 Evaluation Finish\n",
      "392: Data Load Finish, Predict Finish, 9.2689 8.7182 0.3022 0.672 Evaluation Finish\n",
      "393: Data Load Finish, Predict Finish, 6.1824 5.5503 0.1898 0.7812 Evaluation Finish\n",
      "394: Data Load Finish, Predict Finish, 4.3219 3.5594 0.1193 0.847 Evaluation Finish\n",
      "395: Data Load Finish, Predict Finish, 7.0668 6.5236 0.2249 0.7499 Evaluation Finish\n",
      "396: Data Load Finish, Predict Finish, 4.5395 3.65 0.1217 0.8393 Evaluation Finish\n",
      "397: Data Load Finish, Predict Finish, 3.918 3.0521 0.1183 0.8613 Evaluation Finish\n",
      "398: Data Load Finish, Predict Finish, 6.5134 5.9342 0.2048 0.7695 Evaluation Finish\n",
      "399: Data Load Finish, Predict Finish, 6.5683 5.8982 0.203 0.7675 Evaluation Finish\n",
      "400: Data Load Finish, Predict Finish, 10.278 9.8498 0.3434 0.6362 Evaluation Finish\n",
      "401: Data Load Finish, Predict Finish, 5.5119 4.8119 0.1635 0.8049 Evaluation Finish\n",
      "402: Data Load Finish, Predict Finish, 4.9796 4.0642 0.1371 0.8238 Evaluation Finish\n",
      "403: Data Load Finish, Predict Finish, 7.2582 6.7141 0.2312 0.7431 Evaluation Finish\n",
      "404: Data Load Finish, Predict Finish, 6.9106 6.3423 0.2184 0.7554 Evaluation Finish\n",
      "405: Data Load Finish, Predict Finish, 5.2768 4.5088 0.1716 0.8132 Evaluation Finish\n",
      "406: Data Load Finish, Predict Finish, 2.7881 2.4471 0.0906 0.9013 Evaluation Finish\n",
      "407: Data Load Finish, Predict Finish, 2.8137 2.4249 0.0886 0.9004 Evaluation Finish\n",
      "408: Data Load Finish, Predict Finish, 2.7609 2.4681 0.0904 0.9023 Evaluation Finish\n",
      "409: Data Load Finish, Predict Finish, 3.7162 3.177 0.1205 0.8685 Evaluation Finish\n",
      "410: Data Load Finish, Predict Finish, 2.99 2.5912 0.09 0.8942 Evaluation Finish\n",
      "411: Data Load Finish, Predict Finish, 3.1723 2.6779 0.0918 0.8877 Evaluation Finish\n",
      "412: Data Load Finish, Predict Finish, 10.6685 10.1879 0.3768 0.6224 Evaluation Finish\n",
      "413: Data Load Finish, Predict Finish, 5.6735 4.928 0.169 0.7992 Evaluation Finish\n",
      "414: Data Load Finish, Predict Finish, 3.638 3.3002 0.1217 0.8712 Evaluation Finish\n",
      "415: Data Load Finish, Predict Finish, 2.8867 2.4003 0.0829 0.8978 Evaluation Finish\n",
      "416: Data Load Finish, Predict Finish, 3.6324 2.9762 0.1119 0.8714 Evaluation Finish\n",
      "417: Data Load Finish, Predict Finish, 3.4033 2.5125 0.085 0.8795 Evaluation Finish\n",
      "418: Data Load Finish, Predict Finish, 16.8817 16.6563 0.6074 0.4025 Evaluation Finish\n",
      "419: Data Load Finish, Predict Finish, 8.6007 8.172 0.284 0.6956 Evaluation Finish\n",
      "420: Data Load Finish, Predict Finish, 3.7749 3.3908 0.1258 0.8664 Evaluation Finish\n",
      "421: Data Load Finish, Predict Finish, 3.6406 2.9234 0.1118 0.8712 Evaluation Finish\n",
      "422: Data Load Finish, Predict Finish, 6.994 6.3706 0.2185 0.7525 Evaluation Finish\n",
      "423: Data Load Finish, Predict Finish, 3.8577 3.2219 0.1231 0.8635 Evaluation Finish\n",
      "424: Data Load Finish, "
     ]
    },
    {
     "name": "stderr",
     "output_type": "stream",
     "text": [
      "C:\\Users\\vfgtr554\\anaconda3\\envs\\cctv\\lib\\site-packages\\pandas\\core\\arraylike.py:364: RuntimeWarning: divide by zero encountered in log\n",
      "  result = getattr(ufunc, method)(*inputs, **kwargs)\n",
      "C:\\Users\\vfgtr554\\anaconda3\\envs\\cctv\\lib\\site-packages\\statsmodels\\base\\model.py:606: ConvergenceWarning: Maximum Likelihood optimization failed to converge. Check mle_retvals\n",
      "  ConvergenceWarning)\n"
     ]
    },
    {
     "name": "stdout",
     "output_type": "stream",
     "text": [
      "Predict Finish, 27.2597 27.1217 0.9641 0.0352 Evaluation Finish\n",
      "425: Data Load Finish, Predict Finish, 3.5651 3.0827 0.1055 0.8738 Evaluation Finish\n",
      "426: Data Load Finish, Predict Finish, 16.4761 16.2432 0.5928 0.4169 Evaluation Finish\n",
      "427: Data Load Finish, Predict Finish, 27.0428 26.9009 0.9757 0.0429 Evaluation Finish\n",
      "428: Data Load Finish, Predict Finish, 33.0928 32.7542 1.1827 -0.1712 Evaluation Finish\n",
      "429: Data Load Finish, Predict Finish, 33.186 33.0384 1.1956 -0.1745 Evaluation Finish\n",
      "430: Data Load Finish, "
     ]
    },
    {
     "name": "stderr",
     "output_type": "stream",
     "text": [
      "C:\\Users\\vfgtr554\\anaconda3\\envs\\cctv\\lib\\site-packages\\statsmodels\\base\\model.py:606: ConvergenceWarning: Maximum Likelihood optimization failed to converge. Check mle_retvals\n",
      "  ConvergenceWarning)\n"
     ]
    },
    {
     "name": "stdout",
     "output_type": "stream",
     "text": [
      "Predict Finish, 29.6982 29.5202 1.071 -0.0511 Evaluation Finish\n",
      "431: Data Load Finish, Predict Finish, 22.3892 22.2255 0.8073 0.2076 Evaluation Finish\n",
      "432: Data Load Finish, Predict Finish, 12.0167 11.6103 0.4061 0.5747 Evaluation Finish\n",
      "433: Data Load Finish, Predict Finish, 15.4366 15.2059 0.5366 0.4537 Evaluation Finish\n",
      "434: Data Load Finish, "
     ]
    },
    {
     "name": "stderr",
     "output_type": "stream",
     "text": [
      "C:\\Users\\vfgtr554\\anaconda3\\envs\\cctv\\lib\\site-packages\\pandas\\core\\arraylike.py:364: RuntimeWarning: divide by zero encountered in log\n",
      "  result = getattr(ufunc, method)(*inputs, **kwargs)\n",
      "C:\\Users\\vfgtr554\\anaconda3\\envs\\cctv\\lib\\site-packages\\statsmodels\\base\\model.py:606: ConvergenceWarning: Maximum Likelihood optimization failed to converge. Check mle_retvals\n",
      "  ConvergenceWarning)\n"
     ]
    },
    {
     "name": "stdout",
     "output_type": "stream",
     "text": [
      "Predict Finish, 27.2597 27.1217 0.9641 0.0352 Evaluation Finish\n",
      "435: Data Load Finish, Predict Finish, 8.1142 7.6554 0.2664 0.7128 Evaluation Finish\n",
      "436: Data Load Finish, Predict Finish, 11.4278 11.0439 0.3862 0.5955 Evaluation Finish\n",
      "437: Data Load Finish, Predict Finish, 4.6118 3.4929 0.1184 0.8368 Evaluation Finish\n",
      "438: Data Load Finish, Predict Finish, 4.1776 3.5117 0.1184 0.8521 Evaluation Finish\n",
      "439: Data Load Finish, Predict Finish, 2.9579 2.6208 0.0923 0.8953 Evaluation Finish\n",
      "440: Data Load Finish, Predict Finish, 6.4191 5.7092 0.2154 0.7728 Evaluation Finish\n",
      "441: Data Load Finish, Predict Finish, 3.113 2.4822 0.0949 0.8898 Evaluation Finish\n",
      "442: Data Load Finish, Predict Finish, 4.2917 3.2525 0.1268 0.8481 Evaluation Finish\n",
      "443: Data Load Finish, Predict Finish, 8.1861 7.6341 0.2637 0.7103 Evaluation Finish\n",
      "444: Data Load Finish, Predict Finish, 7.0756 6.5746 0.2271 0.7496 Evaluation Finish\n",
      "445: Data Load Finish, Predict Finish, 6.0411 5.2918 0.1807 0.7862 Evaluation Finish\n",
      "446: Data Load Finish, Predict Finish, 3.0483 2.6337 0.0908 0.8921 Evaluation Finish\n",
      "447: Data Load Finish, "
     ]
    },
    {
     "name": "stderr",
     "output_type": "stream",
     "text": [
      "C:\\Users\\vfgtr554\\anaconda3\\envs\\cctv\\lib\\site-packages\\pandas\\core\\arraylike.py:364: RuntimeWarning: divide by zero encountered in log\n",
      "  result = getattr(ufunc, method)(*inputs, **kwargs)\n",
      "C:\\Users\\vfgtr554\\anaconda3\\envs\\cctv\\lib\\site-packages\\statsmodels\\base\\model.py:606: ConvergenceWarning: Maximum Likelihood optimization failed to converge. Check mle_retvals\n",
      "  ConvergenceWarning)\n"
     ]
    },
    {
     "name": "stdout",
     "output_type": "stream",
     "text": [
      "Predict Finish, 27.2597 27.1217 0.9641 0.0352 Evaluation Finish\n",
      "448: Data Load Finish, Predict Finish, 7.5769 7.0738 0.2637 0.7318 Evaluation Finish\n",
      "449: Data Load Finish, Predict Finish, 5.1939 4.4321 0.1497 0.8162 Evaluation Finish\n",
      "450: Data Load Finish, Predict Finish, 4.4019 3.6196 0.1212 0.8442 Evaluation Finish\n",
      "451: Data Load Finish, Predict Finish, 3.3351 2.9421 0.1097 0.882 Evaluation Finish\n",
      "452: Data Load Finish, Predict Finish, 3.7994 3.4945 0.1223 0.8655 Evaluation Finish\n",
      "453: Data Load Finish, Predict Finish, 3.9691 3.3244 0.1127 0.8595 Evaluation Finish\n",
      "454: Data Load Finish, Predict Finish, 8.055 7.5725 0.2621 0.7149 Evaluation Finish\n",
      "455: Data Load Finish, Predict Finish, 11.3196 10.9581 0.3835 0.5994 Evaluation Finish\n",
      "456: Data Load Finish, Predict Finish, 5.5314 4.7541 0.1607 0.8042 Evaluation Finish\n",
      "457: Data Load Finish, Predict Finish, 6.1608 5.5143 0.1882 0.782 Evaluation Finish\n",
      "458: Data Load Finish, "
     ]
    },
    {
     "name": "stderr",
     "output_type": "stream",
     "text": [
      "C:\\Users\\vfgtr554\\anaconda3\\envs\\cctv\\lib\\site-packages\\pandas\\core\\arraylike.py:364: RuntimeWarning: divide by zero encountered in log\n",
      "  result = getattr(ufunc, method)(*inputs, **kwargs)\n",
      "C:\\Users\\vfgtr554\\anaconda3\\envs\\cctv\\lib\\site-packages\\statsmodels\\base\\model.py:606: ConvergenceWarning: Maximum Likelihood optimization failed to converge. Check mle_retvals\n",
      "  ConvergenceWarning)\n"
     ]
    },
    {
     "name": "stdout",
     "output_type": "stream",
     "text": [
      "Predict Finish, 27.2597 27.1217 0.9641 0.0352 Evaluation Finish\n",
      "459: Data Load Finish, Predict Finish, 2.9142 2.4594 0.0924 0.8969 Evaluation Finish\n",
      "460: Data Load Finish, Predict Finish, 8.4801 8.0264 0.2784 0.6999 Evaluation Finish\n",
      "461: Data Load Finish, Predict Finish, 6.4628 5.5601 0.1898 0.7713 Evaluation Finish\n",
      "462: Data Load Finish, Predict Finish, 3.5192 2.9109 0.0985 0.8754 Evaluation Finish\n",
      "463: Data Load Finish, Predict Finish, 7.7544 7.2456 0.2503 0.7256 Evaluation Finish\n",
      "464: Data Load Finish, Predict Finish, 2.8795 2.4452 0.0908 0.8981 Evaluation Finish\n",
      "465: Data Load Finish, Predict Finish, 8.7012 8.1882 0.2838 0.692 Evaluation Finish\n",
      "466: Data Load Finish, "
     ]
    },
    {
     "name": "stderr",
     "output_type": "stream",
     "text": [
      "C:\\Users\\vfgtr554\\anaconda3\\envs\\cctv\\lib\\site-packages\\pandas\\core\\arraylike.py:364: RuntimeWarning: divide by zero encountered in log\n",
      "  result = getattr(ufunc, method)(*inputs, **kwargs)\n",
      "C:\\Users\\vfgtr554\\anaconda3\\envs\\cctv\\lib\\site-packages\\statsmodels\\base\\model.py:606: ConvergenceWarning: Maximum Likelihood optimization failed to converge. Check mle_retvals\n",
      "  ConvergenceWarning)\n"
     ]
    },
    {
     "name": "stdout",
     "output_type": "stream",
     "text": [
      "Predict Finish, 27.2597 27.1217 0.9641 0.0352 Evaluation Finish\n",
      "467: Data Load Finish, Predict Finish, 2.9321 2.4498 0.0923 0.8962 Evaluation Finish\n",
      "468: Data Load Finish, Predict Finish, 11.2483 10.9043 0.4012 0.6019 Evaluation Finish\n",
      "469: Data Load Finish, Predict Finish, 2.7864 2.4144 0.0899 0.9014 Evaluation Finish\n",
      "470: Data Load Finish, Predict Finish, 11.538 11.2208 0.3934 0.5916 Evaluation Finish\n",
      "471: Data Load Finish, Predict Finish, 3.0264 2.6623 0.0926 0.8929 Evaluation Finish\n",
      "472: Data Load Finish, Predict Finish, 8.0776 7.4624 0.26 0.7141 Evaluation Finish\n",
      "473: Data Load Finish, Predict Finish, 6.938 6.3773 0.2192 0.7544 Evaluation Finish\n",
      "474: Data Load Finish, "
     ]
    },
    {
     "name": "stderr",
     "output_type": "stream",
     "text": [
      "C:\\Users\\vfgtr554\\anaconda3\\envs\\cctv\\lib\\site-packages\\pandas\\core\\arraylike.py:364: RuntimeWarning: divide by zero encountered in log\n",
      "  result = getattr(ufunc, method)(*inputs, **kwargs)\n",
      "C:\\Users\\vfgtr554\\anaconda3\\envs\\cctv\\lib\\site-packages\\statsmodels\\base\\model.py:606: ConvergenceWarning: Maximum Likelihood optimization failed to converge. Check mle_retvals\n",
      "  ConvergenceWarning)\n"
     ]
    },
    {
     "name": "stdout",
     "output_type": "stream",
     "text": [
      "Predict Finish, 27.2597 27.1217 0.9641 0.0352 Evaluation Finish\n",
      "475: Data Load Finish, Predict Finish, 3.3414 2.3764 0.0799 0.8817 Evaluation Finish\n",
      "476: Data Load Finish, Predict Finish, 5.1923 4.4279 0.1494 0.8162 Evaluation Finish\n",
      "477: Data Load Finish, "
     ]
    },
    {
     "name": "stderr",
     "output_type": "stream",
     "text": [
      "C:\\Users\\vfgtr554\\anaconda3\\envs\\cctv\\lib\\site-packages\\pandas\\core\\arraylike.py:364: RuntimeWarning: divide by zero encountered in log\n",
      "  result = getattr(ufunc, method)(*inputs, **kwargs)\n",
      "C:\\Users\\vfgtr554\\anaconda3\\envs\\cctv\\lib\\site-packages\\statsmodels\\base\\model.py:606: ConvergenceWarning: Maximum Likelihood optimization failed to converge. Check mle_retvals\n",
      "  ConvergenceWarning)\n"
     ]
    },
    {
     "name": "stdout",
     "output_type": "stream",
     "text": [
      "Predict Finish, 27.2597 27.1217 0.9641 0.0352 Evaluation Finish\n",
      "478: Data Load Finish, Predict Finish, 5.5238 4.7818 0.1623 0.8045 Evaluation Finish\n",
      "479: Data Load Finish, Predict Finish, 4.6655 3.996 0.1351 0.8349 Evaluation Finish\n",
      "480: Data Load Finish, Predict Finish, 4.3069 3.2544 0.1075 0.8476 Evaluation Finish\n",
      "481: Data Load Finish, Predict Finish, 2.9117 2.4338 0.0845 0.8969 Evaluation Finish\n",
      "482: Data Load Finish, Predict Finish, 10.2936 9.923 0.3466 0.6357 Evaluation Finish\n",
      "483: Data Load Finish, Predict Finish, 3.0956 2.3834 0.0813 0.8904 Evaluation Finish\n",
      "484: Data Load Finish, "
     ]
    },
    {
     "name": "stderr",
     "output_type": "stream",
     "text": [
      "C:\\Users\\vfgtr554\\anaconda3\\envs\\cctv\\lib\\site-packages\\pandas\\core\\arraylike.py:364: RuntimeWarning: divide by zero encountered in log\n",
      "  result = getattr(ufunc, method)(*inputs, **kwargs)\n",
      "C:\\Users\\vfgtr554\\anaconda3\\envs\\cctv\\lib\\site-packages\\statsmodels\\base\\model.py:606: ConvergenceWarning: Maximum Likelihood optimization failed to converge. Check mle_retvals\n",
      "  ConvergenceWarning)\n"
     ]
    },
    {
     "name": "stdout",
     "output_type": "stream",
     "text": [
      "Predict Finish, 27.2597 27.1217 0.9641 0.0352 Evaluation Finish\n",
      "485: Data Load Finish, Predict Finish, 3.3796 2.9492 0.1013 0.8804 Evaluation Finish\n",
      "486: Data Load Finish, Predict Finish, 3.8677 3.2245 0.1089 0.8631 Evaluation Finish\n",
      "487: Data Load Finish, Predict Finish, 11.1954 10.8589 0.3997 0.6038 Evaluation Finish\n",
      "488: Data Load Finish, Predict Finish, 4.2787 3.6414 0.1387 0.8486 Evaluation Finish\n",
      "489: Data Load Finish, Predict Finish, 13.48 13.2241 0.4841 0.5229 Evaluation Finish\n",
      "490: Data Load Finish, Predict Finish, 10.3447 9.9763 0.368 0.6339 Evaluation Finish\n",
      "491: Data Load Finish, Predict Finish, 8.0204 7.4431 0.2567 0.7161 Evaluation Finish\n",
      "492: Data Load Finish, Predict Finish, 6.5564 5.924 0.2041 0.768 Evaluation Finish\n",
      "493: Data Load Finish, Predict Finish, 2.9859 2.4559 0.093 0.8943 Evaluation Finish\n",
      "494: Data Load Finish, Predict Finish, 3.6057 2.3149 0.077 0.8724 Evaluation Finish\n",
      "495: Data Load Finish, Predict Finish, 3.6081 3.443 0.1239 0.8723 Evaluation Finish\n",
      "496: Data Load Finish, Predict Finish, 2.9091 2.5417 0.0885 0.897 Evaluation Finish\n",
      "497: Data Load Finish, Predict Finish, 3.3857 2.9448 0.1011 0.8802 Evaluation Finish\n",
      "498: Data Load Finish, Predict Finish, 4.9647 4.1456 0.1586 0.8243 Evaluation Finish\n",
      "499: Data Load Finish, Predict Finish, 2.7226 2.4348 0.0888 0.9036 Evaluation Finish\n",
      "500: Data Load Finish, Predict Finish, 2.6117 2.2814 0.0835 0.9076 Evaluation Finish\n",
      "501: Data Load Finish, Predict Finish, 2.8904 2.4416 0.0916 0.8977 Evaluation Finish\n",
      "502: Data Load Finish, Predict Finish, 3.1034 2.8457 0.1047 0.8902 Evaluation Finish\n",
      "503: Data Load Finish, Predict Finish, 4.1223 2.9966 0.0993 0.8541 Evaluation Finish\n",
      "504: Data Load Finish, Predict Finish, 2.6492 2.2848 0.0837 0.9062 Evaluation Finish\n",
      "505: Data Load Finish, Predict Finish, 9.4525 8.9353 0.3101 0.6655 Evaluation Finish\n",
      "RMSE: 8.326317186133174, MAE: 7.799268572491863, MAPE: 0.2777132165952217\n",
      "ACC: 0.7100347203495982\n"
     ]
    }
   ],
   "source": [
    "predictARIMA(df, idx, 6)"
   ]
  },
  {
   "cell_type": "markdown",
   "id": "dcb35d64",
   "metadata": {},
   "source": [
    "### Unobserved Nodes = 10%"
   ]
  },
  {
   "cell_type": "code",
   "execution_count": 12,
   "id": "83ad788d",
   "metadata": {},
   "outputs": [
    {
     "name": "stdout",
     "output_type": "stream",
     "text": [
      "2880 506\n"
     ]
    },
    {
     "data": {
      "text/plain": [
       "144000"
      ]
     },
     "execution_count": 12,
     "metadata": {},
     "output_type": "execute_result"
    }
   ],
   "source": [
    "df, idx = csvIndexToDatetime(path_10, start, freq)\n",
    "(df == 0).sum().sum()"
   ]
  },
  {
   "cell_type": "code",
   "execution_count": 13,
   "id": "010ff399",
   "metadata": {
    "scrolled": false
   },
   "outputs": [
    {
     "name": "stdout",
     "output_type": "stream",
     "text": [
      "0: Data Load Finish, Predict Finish, 3.2028 2.8599 0.1005 0.8866 Evaluation Finish\n",
      "1: Data Load Finish, Predict Finish, 3.8612 3.0704 0.1026 0.8633 Evaluation Finish\n",
      "2: Data Load Finish, Predict Finish, 5.8793 5.1538 0.1952 0.7919 Evaluation Finish\n",
      "3: "
     ]
    },
    {
     "name": "stderr",
     "output_type": "stream",
     "text": [
      "C:\\Users\\vfgtr554\\anaconda3\\envs\\cctv\\lib\\site-packages\\pandas\\core\\arraylike.py:364: RuntimeWarning: divide by zero encountered in log\n",
      "  result = getattr(ufunc, method)(*inputs, **kwargs)\n"
     ]
    },
    {
     "name": "stdout",
     "output_type": "stream",
     "text": [
      "Data Load Finish, "
     ]
    },
    {
     "name": "stderr",
     "output_type": "stream",
     "text": [
      "C:\\Users\\vfgtr554\\anaconda3\\envs\\cctv\\lib\\site-packages\\statsmodels\\base\\model.py:606: ConvergenceWarning: Maximum Likelihood optimization failed to converge. Check mle_retvals\n",
      "  ConvergenceWarning)\n"
     ]
    },
    {
     "name": "stdout",
     "output_type": "stream",
     "text": [
      "Predict Finish, 27.2597 27.1217 0.9641 0.0352 Evaluation Finish\n",
      "4: Data Load Finish, Predict Finish, 7.0359 6.3972 0.221 0.751 Evaluation Finish\n",
      "5: Data Load Finish, Predict Finish, 6.7796 6.1555 0.2109 0.7601 Evaluation Finish\n",
      "6: Data Load Finish, "
     ]
    },
    {
     "name": "stderr",
     "output_type": "stream",
     "text": [
      "C:\\Users\\vfgtr554\\anaconda3\\envs\\cctv\\lib\\site-packages\\pandas\\core\\arraylike.py:364: RuntimeWarning: divide by zero encountered in log\n",
      "  result = getattr(ufunc, method)(*inputs, **kwargs)\n",
      "C:\\Users\\vfgtr554\\anaconda3\\envs\\cctv\\lib\\site-packages\\statsmodels\\base\\model.py:606: ConvergenceWarning: Maximum Likelihood optimization failed to converge. Check mle_retvals\n",
      "  ConvergenceWarning)\n"
     ]
    },
    {
     "name": "stdout",
     "output_type": "stream",
     "text": [
      "Predict Finish, 27.2597 27.1217 0.9641 0.0352 Evaluation Finish\n",
      "7: Data Load Finish, Predict Finish, 7.1127 6.5232 0.2251 0.7483 Evaluation Finish\n",
      "8: "
     ]
    },
    {
     "name": "stderr",
     "output_type": "stream",
     "text": [
      "C:\\Users\\vfgtr554\\anaconda3\\envs\\cctv\\lib\\site-packages\\pandas\\core\\arraylike.py:364: RuntimeWarning: divide by zero encountered in log\n",
      "  result = getattr(ufunc, method)(*inputs, **kwargs)\n"
     ]
    },
    {
     "name": "stdout",
     "output_type": "stream",
     "text": [
      "Data Load Finish, "
     ]
    },
    {
     "name": "stderr",
     "output_type": "stream",
     "text": [
      "C:\\Users\\vfgtr554\\anaconda3\\envs\\cctv\\lib\\site-packages\\statsmodels\\base\\model.py:606: ConvergenceWarning: Maximum Likelihood optimization failed to converge. Check mle_retvals\n",
      "  ConvergenceWarning)\n"
     ]
    },
    {
     "name": "stdout",
     "output_type": "stream",
     "text": [
      "Predict Finish, 27.2597 27.1217 0.9641 0.0352 Evaluation Finish\n",
      "9: Data Load Finish, Predict Finish, 9.3777 8.9684 0.3122 0.6681 Evaluation Finish\n",
      "10: Data Load Finish, Predict Finish, 10.3222 9.9121 0.3458 0.6347 Evaluation Finish\n",
      "11: Data Load Finish, Predict Finish, 2.8575 2.4735 0.0871 0.8989 Evaluation Finish\n",
      "12: Data Load Finish, Predict Finish, 16.2414 16.0177 0.5847 0.4252 Evaluation Finish\n",
      "13: Data Load Finish, Predict Finish, 28.5705 28.4349 1.0307 -0.0112 Evaluation Finish\n",
      "14: Data Load Finish, "
     ]
    },
    {
     "name": "stderr",
     "output_type": "stream",
     "text": [
      "C:\\Users\\vfgtr554\\anaconda3\\envs\\cctv\\lib\\site-packages\\pandas\\core\\arraylike.py:364: RuntimeWarning: divide by zero encountered in log\n",
      "  result = getattr(ufunc, method)(*inputs, **kwargs)\n",
      "C:\\Users\\vfgtr554\\anaconda3\\envs\\cctv\\lib\\site-packages\\statsmodels\\base\\model.py:606: ConvergenceWarning: Maximum Likelihood optimization failed to converge. Check mle_retvals\n",
      "  ConvergenceWarning)\n",
      "C:\\Users\\vfgtr554\\anaconda3\\envs\\cctv\\lib\\site-packages\\pandas\\core\\arraylike.py:364: RuntimeWarning: divide by zero encountered in log\n",
      "  result = getattr(ufunc, method)(*inputs, **kwargs)\n"
     ]
    },
    {
     "name": "stdout",
     "output_type": "stream",
     "text": [
      "Predict Finish, 27.2597 27.1217 0.9641 0.0352 Evaluation Finish\n",
      "15: Data Load Finish, "
     ]
    },
    {
     "name": "stderr",
     "output_type": "stream",
     "text": [
      "C:\\Users\\vfgtr554\\anaconda3\\envs\\cctv\\lib\\site-packages\\statsmodels\\base\\model.py:606: ConvergenceWarning: Maximum Likelihood optimization failed to converge. Check mle_retvals\n",
      "  ConvergenceWarning)\n"
     ]
    },
    {
     "name": "stdout",
     "output_type": "stream",
     "text": [
      "Predict Finish, 27.2597 27.1217 0.9641 0.0352 Evaluation Finish\n",
      "16: Data Load Finish, Predict Finish, 3.6007 2.9842 0.1138 0.8726 Evaluation Finish\n",
      "17: Data Load Finish, "
     ]
    },
    {
     "name": "stderr",
     "output_type": "stream",
     "text": [
      "C:\\Users\\vfgtr554\\anaconda3\\envs\\cctv\\lib\\site-packages\\pandas\\core\\arraylike.py:364: RuntimeWarning: divide by zero encountered in log\n",
      "  result = getattr(ufunc, method)(*inputs, **kwargs)\n",
      "C:\\Users\\vfgtr554\\anaconda3\\envs\\cctv\\lib\\site-packages\\statsmodels\\base\\model.py:606: ConvergenceWarning: Maximum Likelihood optimization failed to converge. Check mle_retvals\n",
      "  ConvergenceWarning)\n"
     ]
    },
    {
     "name": "stdout",
     "output_type": "stream",
     "text": [
      "Predict Finish, 27.2597 27.1217 0.9641 0.0352 Evaluation Finish\n",
      "18: Data Load Finish, Predict Finish, 2.8274 2.4974 0.0894 0.8999 Evaluation Finish\n",
      "19: Data Load Finish, Predict Finish, 9.7873 9.2793 0.3227 0.6536 Evaluation Finish\n",
      "20: Data Load Finish, Predict Finish, 9.1318 8.6991 0.3024 0.6768 Evaluation Finish\n",
      "21: Data Load Finish, Predict Finish, 3.7181 2.8254 0.094 0.8684 Evaluation Finish\n",
      "22: Data Load Finish, Predict Finish, 3.0268 2.3299 0.0797 0.8929 Evaluation Finish\n",
      "23: Data Load Finish, Predict Finish, 2.8107 2.4562 0.0878 0.9005 Evaluation Finish\n",
      "24: Data Load Finish, Predict Finish, 12.8106 12.518 0.4592 0.5466 Evaluation Finish\n",
      "25: Data Load Finish, Predict Finish, 5.4208 4.606 0.1554 0.8081 Evaluation Finish\n",
      "26: Data Load Finish, "
     ]
    },
    {
     "name": "stderr",
     "output_type": "stream",
     "text": [
      "C:\\Users\\vfgtr554\\anaconda3\\envs\\cctv\\lib\\site-packages\\pandas\\core\\arraylike.py:364: RuntimeWarning: divide by zero encountered in log\n",
      "  result = getattr(ufunc, method)(*inputs, **kwargs)\n",
      "C:\\Users\\vfgtr554\\anaconda3\\envs\\cctv\\lib\\site-packages\\statsmodels\\base\\model.py:606: ConvergenceWarning: Maximum Likelihood optimization failed to converge. Check mle_retvals\n",
      "  ConvergenceWarning)\n",
      "C:\\Users\\vfgtr554\\anaconda3\\envs\\cctv\\lib\\site-packages\\pandas\\core\\arraylike.py:364: RuntimeWarning: divide by zero encountered in log\n",
      "  result = getattr(ufunc, method)(*inputs, **kwargs)\n"
     ]
    },
    {
     "name": "stdout",
     "output_type": "stream",
     "text": [
      "Predict Finish, 27.2597 27.1217 0.9641 0.0352 Evaluation Finish\n",
      "27: Data Load Finish, "
     ]
    },
    {
     "name": "stderr",
     "output_type": "stream",
     "text": [
      "C:\\Users\\vfgtr554\\anaconda3\\envs\\cctv\\lib\\site-packages\\statsmodels\\base\\model.py:606: ConvergenceWarning: Maximum Likelihood optimization failed to converge. Check mle_retvals\n",
      "  ConvergenceWarning)\n"
     ]
    },
    {
     "name": "stdout",
     "output_type": "stream",
     "text": [
      "Predict Finish, 27.2597 27.1217 0.9641 0.0352 Evaluation Finish\n",
      "28: Data Load Finish, Predict Finish, 6.1032 5.3875 0.2016 0.784 Evaluation Finish\n",
      "29: Data Load Finish, "
     ]
    },
    {
     "name": "stderr",
     "output_type": "stream",
     "text": [
      "C:\\Users\\vfgtr554\\anaconda3\\envs\\cctv\\lib\\site-packages\\pandas\\core\\arraylike.py:364: RuntimeWarning: divide by zero encountered in log\n",
      "  result = getattr(ufunc, method)(*inputs, **kwargs)\n",
      "C:\\Users\\vfgtr554\\anaconda3\\envs\\cctv\\lib\\site-packages\\statsmodels\\base\\model.py:606: ConvergenceWarning: Maximum Likelihood optimization failed to converge. Check mle_retvals\n",
      "  ConvergenceWarning)\n"
     ]
    },
    {
     "name": "stdout",
     "output_type": "stream",
     "text": [
      "Predict Finish, 27.2597 27.1217 0.9641 0.0352 Evaluation Finish\n",
      "30: Data Load Finish, Predict Finish, 2.7735 2.4084 0.0896 0.9018 Evaluation Finish\n",
      "31: Data Load Finish, Predict Finish, 3.1294 2.7594 0.0957 0.8892 Evaluation Finish\n",
      "32: Data Load Finish, Predict Finish, 2.6872 2.2392 0.0792 0.9049 Evaluation Finish\n",
      "33: Data Load Finish, Predict Finish, 11.5652 11.2646 0.3955 0.5907 Evaluation Finish\n",
      "34: Data Load Finish, Predict Finish, 4.4699 3.7512 0.1268 0.8418 Evaluation Finish\n",
      "35: Data Load Finish, Predict Finish, 6.8937 6.3324 0.2181 0.756 Evaluation Finish\n",
      "36: Data Load Finish, Predict Finish, 4.8412 4.0527 0.1366 0.8287 Evaluation Finish\n",
      "37: Data Load Finish, Predict Finish, 6.0654 5.2881 0.1794 0.7853 Evaluation Finish\n",
      "38: Data Load Finish, Predict Finish, 6.2839 5.6568 0.1943 0.7776 Evaluation Finish\n",
      "39: Data Load Finish, Predict Finish, 3.2347 2.8263 0.0974 0.8855 Evaluation Finish\n",
      "40: Data Load Finish, Predict Finish, 6.9558 5.9163 0.2007 0.7538 Evaluation Finish\n",
      "41: Data Load Finish, Predict Finish, 8.4862 8.0698 0.2811 0.6997 Evaluation Finish\n",
      "42: Data Load Finish, Predict Finish, 6.65 6.1203 0.2113 0.7646 Evaluation Finish\n",
      "43: Data Load Finish, Predict Finish, 3.6773 3.0074 0.1154 0.8699 Evaluation Finish\n",
      "44: Data Load Finish, Predict Finish, 3.4394 2.8308 0.1034 0.8783 Evaluation Finish\n",
      "45: Data Load Finish, Predict Finish, 7.4554 6.9357 0.2395 0.7361 Evaluation Finish\n",
      "46: Data Load Finish, Predict Finish, 6.0611 5.4677 0.2048 0.7855 Evaluation Finish\n",
      "47: Data Load Finish, "
     ]
    },
    {
     "name": "stderr",
     "output_type": "stream",
     "text": [
      "C:\\Users\\vfgtr554\\anaconda3\\envs\\cctv\\lib\\site-packages\\pandas\\core\\arraylike.py:364: RuntimeWarning: divide by zero encountered in log\n",
      "  result = getattr(ufunc, method)(*inputs, **kwargs)\n",
      "C:\\Users\\vfgtr554\\anaconda3\\envs\\cctv\\lib\\site-packages\\statsmodels\\base\\model.py:606: ConvergenceWarning: Maximum Likelihood optimization failed to converge. Check mle_retvals\n",
      "  ConvergenceWarning)\n"
     ]
    },
    {
     "name": "stdout",
     "output_type": "stream",
     "text": [
      "Predict Finish, 27.2597 27.1217 0.9641 0.0352 Evaluation Finish\n",
      "48: Data Load Finish, Predict Finish, 2.7917 2.4717 0.0894 0.9012 Evaluation Finish\n",
      "49: Data Load Finish, Predict Finish, 2.761 2.3545 0.0875 0.9023 Evaluation Finish\n",
      "50: Data Load Finish, "
     ]
    },
    {
     "name": "stderr",
     "output_type": "stream",
     "text": [
      "C:\\Users\\vfgtr554\\anaconda3\\envs\\cctv\\lib\\site-packages\\statsmodels\\base\\model.py:606: ConvergenceWarning: Maximum Likelihood optimization failed to converge. Check mle_retvals\n",
      "  ConvergenceWarning)\n"
     ]
    },
    {
     "name": "stdout",
     "output_type": "stream",
     "text": [
      "Predict Finish, 4.5086 3.7465 0.126 0.8404 Evaluation Finish\n",
      "51: Data Load Finish, Predict Finish, 7.4949 6.9935 0.2416 0.7347 Evaluation Finish\n",
      "52: Data Load Finish, Predict Finish, 10.7749 10.452 0.3664 0.6187 Evaluation Finish\n",
      "53: Data Load Finish, Predict Finish, 13.602 13.2921 0.467 0.5186 Evaluation Finish\n",
      "54: Data Load Finish, Predict Finish, 11.1781 10.8735 0.3815 0.6044 Evaluation Finish\n",
      "55: "
     ]
    },
    {
     "name": "stderr",
     "output_type": "stream",
     "text": [
      "C:\\Users\\vfgtr554\\anaconda3\\envs\\cctv\\lib\\site-packages\\pandas\\core\\arraylike.py:364: RuntimeWarning: divide by zero encountered in log\n",
      "  result = getattr(ufunc, method)(*inputs, **kwargs)\n"
     ]
    },
    {
     "name": "stdout",
     "output_type": "stream",
     "text": [
      "Data Load Finish, "
     ]
    },
    {
     "name": "stderr",
     "output_type": "stream",
     "text": [
      "C:\\Users\\vfgtr554\\anaconda3\\envs\\cctv\\lib\\site-packages\\statsmodels\\base\\model.py:606: ConvergenceWarning: Maximum Likelihood optimization failed to converge. Check mle_retvals\n",
      "  ConvergenceWarning)\n"
     ]
    },
    {
     "name": "stdout",
     "output_type": "stream",
     "text": [
      "Predict Finish, 27.2597 27.1217 0.9641 0.0352 Evaluation Finish\n",
      "56: Data Load Finish, Predict Finish, 9.1087 8.6882 0.3218 0.6776 Evaluation Finish\n",
      "57: Data Load Finish, Predict Finish, 2.875 2.4498 0.091 0.8982 Evaluation Finish\n",
      "58: Data Load Finish, Predict Finish, 14.1873 13.9177 0.5095 0.4979 Evaluation Finish\n",
      "59: Data Load Finish, Predict Finish, 8.2602 7.7763 0.2886 0.7077 Evaluation Finish\n",
      "60: Data Load Finish, Predict Finish, 5.8482 5.1802 0.1957 0.793 Evaluation Finish\n",
      "61: Data Load Finish, Predict Finish, 7.6686 7.1733 0.2479 0.7286 Evaluation Finish\n",
      "62: Data Load Finish, Predict Finish, 5.8545 5.1757 0.1952 0.7928 Evaluation Finish\n",
      "63: Data Load Finish, Predict Finish, 4.4857 3.9003 0.1478 0.8412 Evaluation Finish\n",
      "64: Data Load Finish, Predict Finish, 5.3775 4.5104 0.1719 0.8097 Evaluation Finish\n",
      "65: Data Load Finish, Predict Finish, 6.9464 6.2571 0.2143 0.7542 Evaluation Finish\n",
      "66: Data Load Finish, Predict Finish, 3.1659 2.7933 0.0966 0.888 Evaluation Finish\n",
      "67: Data Load Finish, Predict Finish, 8.1903 7.6496 0.2645 0.7101 Evaluation Finish\n",
      "68: Data Load Finish, Predict Finish, 3.8055 3.0122 0.1007 0.8653 Evaluation Finish\n",
      "69: Data Load Finish, Predict Finish, 15.1882 14.9427 0.5463 0.4625 Evaluation Finish\n",
      "70: Data Load Finish, "
     ]
    },
    {
     "name": "stderr",
     "output_type": "stream",
     "text": [
      "C:\\Users\\vfgtr554\\anaconda3\\envs\\cctv\\lib\\site-packages\\pandas\\core\\arraylike.py:364: RuntimeWarning: divide by zero encountered in log\n",
      "  result = getattr(ufunc, method)(*inputs, **kwargs)\n",
      "C:\\Users\\vfgtr554\\anaconda3\\envs\\cctv\\lib\\site-packages\\statsmodels\\base\\model.py:606: ConvergenceWarning: Maximum Likelihood optimization failed to converge. Check mle_retvals\n",
      "  ConvergenceWarning)\n"
     ]
    },
    {
     "name": "stdout",
     "output_type": "stream",
     "text": [
      "Predict Finish, 27.2597 27.1217 0.9641 0.0352 Evaluation Finish\n",
      "71: Data Load Finish, Predict Finish, 30.6438 30.5301 1.1056 -0.0846 Evaluation Finish\n",
      "72: Data Load Finish, Predict Finish, 31.0792 30.9564 1.1211 -0.1 Evaluation Finish\n",
      "73: Data Load Finish, Predict Finish, 29.2748 29.1087 1.0545 -0.0361 Evaluation Finish\n",
      "74: Data Load Finish, Predict Finish, 30.6831 30.5619 1.1072 -0.0859 Evaluation Finish\n",
      "75: Data Load Finish, Predict Finish, 15.5357 15.2958 0.5589 0.4502 Evaluation Finish\n",
      "76: Data Load Finish, Predict Finish, 6.8151 6.2412 0.2339 0.7588 Evaluation Finish\n",
      "77: Data Load Finish, Predict Finish, 2.8453 2.4765 0.0919 0.8993 Evaluation Finish\n",
      "78: Data Load Finish, Predict Finish, 2.7514 2.4768 0.0896 0.9026 Evaluation Finish\n",
      "79: Data Load Finish, Predict Finish, 3.5591 3.1277 0.1082 0.874 Evaluation Finish\n",
      "80: Data Load Finish, Predict Finish, 3.9309 2.9747 0.116 0.8609 Evaluation Finish\n",
      "81: Data Load Finish, Predict Finish, 11.4933 11.1633 0.3911 0.5932 Evaluation Finish\n",
      "82: Data Load Finish, Predict Finish, 13.2006 12.8873 0.4723 0.5328 Evaluation Finish\n",
      "83: Data Load Finish, "
     ]
    },
    {
     "name": "stderr",
     "output_type": "stream",
     "text": [
      "C:\\Users\\vfgtr554\\anaconda3\\envs\\cctv\\lib\\site-packages\\pandas\\core\\arraylike.py:364: RuntimeWarning: divide by zero encountered in log\n",
      "  result = getattr(ufunc, method)(*inputs, **kwargs)\n",
      "C:\\Users\\vfgtr554\\anaconda3\\envs\\cctv\\lib\\site-packages\\statsmodels\\base\\model.py:606: ConvergenceWarning: Maximum Likelihood optimization failed to converge. Check mle_retvals\n",
      "  ConvergenceWarning)\n"
     ]
    },
    {
     "name": "stdout",
     "output_type": "stream",
     "text": [
      "Predict Finish, 27.2597 27.1217 0.9641 0.0352 Evaluation Finish\n",
      "84: Data Load Finish, "
     ]
    },
    {
     "name": "stderr",
     "output_type": "stream",
     "text": [
      "C:\\Users\\vfgtr554\\anaconda3\\envs\\cctv\\lib\\site-packages\\statsmodels\\base\\model.py:606: ConvergenceWarning: Maximum Likelihood optimization failed to converge. Check mle_retvals\n",
      "  ConvergenceWarning)\n"
     ]
    },
    {
     "name": "stdout",
     "output_type": "stream",
     "text": [
      "Predict Finish, 11.6936 11.3688 0.418 0.5861 Evaluation Finish\n",
      "85: Data Load Finish, Predict Finish, 21.3019 21.1162 0.7679 0.2461 Evaluation Finish\n",
      "86: Data Load Finish, Predict Finish, 9.664 9.1434 0.3372 0.658 Evaluation Finish\n",
      "87: Data Load Finish, "
     ]
    },
    {
     "name": "stderr",
     "output_type": "stream",
     "text": [
      "C:\\Users\\vfgtr554\\anaconda3\\envs\\cctv\\lib\\site-packages\\pandas\\core\\arraylike.py:364: RuntimeWarning: divide by zero encountered in log\n",
      "  result = getattr(ufunc, method)(*inputs, **kwargs)\n",
      "C:\\Users\\vfgtr554\\anaconda3\\envs\\cctv\\lib\\site-packages\\statsmodels\\base\\model.py:606: ConvergenceWarning: Maximum Likelihood optimization failed to converge. Check mle_retvals\n",
      "  ConvergenceWarning)\n"
     ]
    },
    {
     "name": "stdout",
     "output_type": "stream",
     "text": [
      "Predict Finish, 27.2597 27.1217 0.9641 0.0352 Evaluation Finish\n",
      "88: Data Load Finish, Predict Finish, 2.989 2.4493 0.0927 0.8942 Evaluation Finish\n",
      "89: Data Load Finish, Predict Finish, 2.87 2.5371 0.0896 0.8984 Evaluation Finish\n",
      "90: Data Load Finish, Predict Finish, 10.2206 9.8464 0.3633 0.6383 Evaluation Finish\n",
      "91: Data Load Finish, Predict Finish, 10.4449 10.085 0.3719 0.6303 Evaluation Finish\n",
      "92: Data Load Finish, Predict Finish, 2.8521 2.4931 0.0918 0.8991 Evaluation Finish\n",
      "93: Data Load Finish, Predict Finish, 2.9356 2.4895 0.0868 0.8961 Evaluation Finish\n",
      "94: Data Load Finish, Predict Finish, 3.3678 2.8765 0.108 0.8808 Evaluation Finish\n",
      "95: Data Load Finish, Predict Finish, 4.786 3.9229 0.1312 0.8306 Evaluation Finish\n",
      "96: Data Load Finish, Predict Finish, 3.8794 3.3226 0.1261 0.8627 Evaluation Finish\n",
      "97: Data Load Finish, Predict Finish, 5.6801 4.9971 0.1883 0.799 Evaluation Finish\n",
      "98: Data Load Finish, Predict Finish, 4.3666 3.2125 0.1065 0.8455 Evaluation Finish\n",
      "99: Data Load Finish, Predict Finish, 3.0375 2.4656 0.0933 0.8925 Evaluation Finish\n",
      "100: Data Load Finish, Predict Finish, 5.4799 4.6194 0.156 0.8061 Evaluation Finish\n",
      "101: Data Load Finish, Predict Finish, 7.5638 7.0767 0.2637 0.7323 Evaluation Finish\n",
      "102: Data Load Finish, Predict Finish, 11.0464 10.6988 0.3743 0.609 Evaluation Finish\n",
      "103: Data Load Finish, Predict Finish, 2.9625 2.549 0.0951 0.8951 Evaluation Finish\n",
      "104: Data Load Finish, Predict Finish, 3.3627 2.9641 0.103 0.881 Evaluation Finish\n",
      "105: Data Load Finish, Predict Finish, 4.2781 3.5505 0.1192 0.8486 Evaluation Finish\n",
      "106: Data Load Finish, "
     ]
    },
    {
     "name": "stderr",
     "output_type": "stream",
     "text": [
      "C:\\Users\\vfgtr554\\anaconda3\\envs\\cctv\\lib\\site-packages\\pandas\\core\\arraylike.py:364: RuntimeWarning: divide by zero encountered in log\n",
      "  result = getattr(ufunc, method)(*inputs, **kwargs)\n",
      "C:\\Users\\vfgtr554\\anaconda3\\envs\\cctv\\lib\\site-packages\\statsmodels\\base\\model.py:606: ConvergenceWarning: Maximum Likelihood optimization failed to converge. Check mle_retvals\n",
      "  ConvergenceWarning)\n"
     ]
    },
    {
     "name": "stdout",
     "output_type": "stream",
     "text": [
      "Predict Finish, 27.2597 27.1217 0.9641 0.0352 Evaluation Finish\n",
      "107: Data Load Finish, Predict Finish, 5.5791 4.9371 0.1863 0.8025 Evaluation Finish\n",
      "108: Data Load Finish, Predict Finish, 6.2869 5.6671 0.1938 0.7775 Evaluation Finish\n",
      "109: Data Load Finish, Predict Finish, 6.9012 6.3349 0.2177 0.7558 Evaluation Finish\n",
      "110: Data Load Finish, Predict Finish, 3.3147 2.8755 0.0986 0.8827 Evaluation Finish\n",
      "111: Data Load Finish, Predict Finish, 3.5308 2.6243 0.0876 0.875 Evaluation Finish\n",
      "112: Data Load Finish, Predict Finish, 3.7167 3.1797 0.1085 0.8685 Evaluation Finish\n",
      "113: Data Load Finish, Predict Finish, 5.2732 4.5065 0.152 0.8134 Evaluation Finish\n",
      "114: Data Load Finish, Predict Finish, 3.6759 3.121 0.1061 0.8699 Evaluation Finish\n",
      "115: Data Load Finish, Predict Finish, 4.7425 3.9815 0.1338 0.8322 Evaluation Finish\n",
      "116: Data Load Finish, Predict Finish, 4.6203 3.7218 0.1435 0.8365 Evaluation Finish\n",
      "117: Data Load Finish, Predict Finish, 13.5906 13.3176 0.4879 0.519 Evaluation Finish\n",
      "118: Data Load Finish, "
     ]
    },
    {
     "name": "stderr",
     "output_type": "stream",
     "text": [
      "C:\\Users\\vfgtr554\\anaconda3\\envs\\cctv\\lib\\site-packages\\pandas\\core\\arraylike.py:364: RuntimeWarning: divide by zero encountered in log\n",
      "  result = getattr(ufunc, method)(*inputs, **kwargs)\n",
      "C:\\Users\\vfgtr554\\anaconda3\\envs\\cctv\\lib\\site-packages\\statsmodels\\base\\model.py:606: ConvergenceWarning: Maximum Likelihood optimization failed to converge. Check mle_retvals\n",
      "  ConvergenceWarning)\n"
     ]
    },
    {
     "name": "stdout",
     "output_type": "stream",
     "text": [
      "Predict Finish, 27.2597 27.1217 0.9641 0.0352 Evaluation Finish\n",
      "119: Data Load Finish, Predict Finish, 5.0669 4.0438 0.1559 0.8207 Evaluation Finish\n",
      "120: Data Load Finish, Predict Finish, 2.8703 2.3417 0.082 0.8984 Evaluation Finish\n",
      "121: Data Load Finish, Predict Finish, 5.7909 5.1047 0.1736 0.795 Evaluation Finish\n",
      "122: Data Load Finish, "
     ]
    },
    {
     "name": "stderr",
     "output_type": "stream",
     "text": [
      "C:\\Users\\vfgtr554\\anaconda3\\envs\\cctv\\lib\\site-packages\\pandas\\core\\arraylike.py:364: RuntimeWarning: divide by zero encountered in log\n",
      "  result = getattr(ufunc, method)(*inputs, **kwargs)\n",
      "C:\\Users\\vfgtr554\\anaconda3\\envs\\cctv\\lib\\site-packages\\statsmodels\\base\\model.py:606: ConvergenceWarning: Maximum Likelihood optimization failed to converge. Check mle_retvals\n",
      "  ConvergenceWarning)\n"
     ]
    },
    {
     "name": "stdout",
     "output_type": "stream",
     "text": [
      "Predict Finish, 27.2597 27.1217 0.9641 0.0352 Evaluation Finish\n",
      "123: Data Load Finish, Predict Finish, 6.3411 5.7208 0.1956 0.7756 Evaluation Finish\n",
      "124: Data Load Finish, Predict Finish, 9.3475 8.946 0.3116 0.6692 Evaluation Finish\n",
      "125: Data Load Finish, "
     ]
    },
    {
     "name": "stderr",
     "output_type": "stream",
     "text": [
      "C:\\Users\\vfgtr554\\anaconda3\\envs\\cctv\\lib\\site-packages\\pandas\\core\\arraylike.py:364: RuntimeWarning: divide by zero encountered in log\n",
      "  result = getattr(ufunc, method)(*inputs, **kwargs)\n",
      "C:\\Users\\vfgtr554\\anaconda3\\envs\\cctv\\lib\\site-packages\\statsmodels\\base\\model.py:606: ConvergenceWarning: Maximum Likelihood optimization failed to converge. Check mle_retvals\n",
      "  ConvergenceWarning)\n"
     ]
    },
    {
     "name": "stdout",
     "output_type": "stream",
     "text": [
      "Predict Finish, 27.2597 27.1217 0.9641 0.0352 Evaluation Finish\n",
      "126: Data Load Finish, Predict Finish, 7.3216 6.7343 0.2317 0.7409 Evaluation Finish\n",
      "127: Data Load Finish, Predict Finish, 9.9255 9.4753 0.33 0.6487 Evaluation Finish\n",
      "128: Data Load Finish, Predict Finish, 7.6909 7.1645 0.2473 0.7278 Evaluation Finish\n",
      "129: Data Load Finish, Predict Finish, 3.8975 3.2529 0.1098 0.8621 Evaluation Finish\n",
      "130: Data Load Finish, Predict Finish, 3.1761 2.8475 0.1006 0.8876 Evaluation Finish\n",
      "131: Data Load Finish, Predict Finish, 2.856 2.4668 0.0866 0.8989 Evaluation Finish\n",
      "132: Data Load Finish, "
     ]
    },
    {
     "name": "stderr",
     "output_type": "stream",
     "text": [
      "C:\\Users\\vfgtr554\\anaconda3\\envs\\cctv\\lib\\site-packages\\pandas\\core\\arraylike.py:364: RuntimeWarning: divide by zero encountered in log\n",
      "  result = getattr(ufunc, method)(*inputs, **kwargs)\n",
      "C:\\Users\\vfgtr554\\anaconda3\\envs\\cctv\\lib\\site-packages\\statsmodels\\base\\model.py:606: ConvergenceWarning: Maximum Likelihood optimization failed to converge. Check mle_retvals\n",
      "  ConvergenceWarning)\n",
      "C:\\Users\\vfgtr554\\anaconda3\\envs\\cctv\\lib\\site-packages\\pandas\\core\\arraylike.py:364: RuntimeWarning: divide by zero encountered in log\n",
      "  result = getattr(ufunc, method)(*inputs, **kwargs)\n"
     ]
    },
    {
     "name": "stdout",
     "output_type": "stream",
     "text": [
      "Predict Finish, 27.2597 27.1217 0.9641 0.0352 Evaluation Finish\n",
      "133: Data Load Finish, "
     ]
    },
    {
     "name": "stderr",
     "output_type": "stream",
     "text": [
      "C:\\Users\\vfgtr554\\anaconda3\\envs\\cctv\\lib\\site-packages\\statsmodels\\base\\model.py:606: ConvergenceWarning: Maximum Likelihood optimization failed to converge. Check mle_retvals\n",
      "  ConvergenceWarning)\n"
     ]
    },
    {
     "name": "stdout",
     "output_type": "stream",
     "text": [
      "Predict Finish, 27.2597 27.1217 0.9641 0.0352 Evaluation Finish\n",
      "134: Data Load Finish, Predict Finish, 10.155 9.772 0.341 0.6406 Evaluation Finish\n",
      "135: Data Load Finish, Predict Finish, 6.4808 5.8724 0.2013 0.7706 Evaluation Finish\n",
      "136: Data Load Finish, Predict Finish, 8.3457 7.8704 0.2727 0.7046 Evaluation Finish\n",
      "137: Data Load Finish, Predict Finish, 5.6611 4.9575 0.1682 0.7996 Evaluation Finish\n",
      "138: "
     ]
    },
    {
     "name": "stderr",
     "output_type": "stream",
     "text": [
      "C:\\Users\\vfgtr554\\anaconda3\\envs\\cctv\\lib\\site-packages\\pandas\\core\\arraylike.py:364: RuntimeWarning: divide by zero encountered in log\n",
      "  result = getattr(ufunc, method)(*inputs, **kwargs)\n"
     ]
    },
    {
     "name": "stdout",
     "output_type": "stream",
     "text": [
      "Data Load Finish, "
     ]
    },
    {
     "name": "stderr",
     "output_type": "stream",
     "text": [
      "C:\\Users\\vfgtr554\\anaconda3\\envs\\cctv\\lib\\site-packages\\statsmodels\\base\\model.py:606: ConvergenceWarning: Maximum Likelihood optimization failed to converge. Check mle_retvals\n",
      "  ConvergenceWarning)\n"
     ]
    },
    {
     "name": "stdout",
     "output_type": "stream",
     "text": [
      "Predict Finish, 27.2597 27.1217 0.9641 0.0352 Evaluation Finish\n",
      "139: Data Load Finish, Predict Finish, 5.0475 4.2439 0.1426 0.8214 Evaluation Finish\n",
      "140: Data Load Finish, "
     ]
    },
    {
     "name": "stderr",
     "output_type": "stream",
     "text": [
      "C:\\Users\\vfgtr554\\anaconda3\\envs\\cctv\\lib\\site-packages\\pandas\\core\\arraylike.py:364: RuntimeWarning: divide by zero encountered in log\n",
      "  result = getattr(ufunc, method)(*inputs, **kwargs)\n",
      "C:\\Users\\vfgtr554\\anaconda3\\envs\\cctv\\lib\\site-packages\\statsmodels\\base\\model.py:606: ConvergenceWarning: Maximum Likelihood optimization failed to converge. Check mle_retvals\n",
      "  ConvergenceWarning)\n"
     ]
    },
    {
     "name": "stdout",
     "output_type": "stream",
     "text": [
      "Predict Finish, 27.2597 27.1217 0.9641 0.0352 Evaluation Finish\n",
      "141: Data Load Finish, Predict Finish, 5.4175 4.6072 0.1553 0.8083 Evaluation Finish\n",
      "142: Data Load Finish, Predict Finish, 2.8148 2.4913 0.0898 0.9004 Evaluation Finish\n",
      "143: Data Load Finish, Predict Finish, 5.2019 4.4363 0.1496 0.8159 Evaluation Finish\n",
      "144: Data Load Finish, Predict Finish, 15.4133 15.1682 0.5544 0.4545 Evaluation Finish\n",
      "145: Data Load Finish, Predict Finish, 32.1134 31.9975 1.1586 -0.1366 Evaluation Finish\n",
      "146: Data Load Finish, Predict Finish, 3.41 2.74 0.1049 0.8793 Evaluation Finish\n",
      "147: Data Load Finish, Predict Finish, 3.5752 2.9399 0.1123 0.8735 Evaluation Finish\n",
      "148: Data Load Finish, Predict Finish, 6.507 5.8859 0.2018 0.7697 Evaluation Finish\n",
      "149: Data Load Finish, Predict Finish, 4.1843 2.9413 0.0964 0.8519 Evaluation Finish\n",
      "150: Data Load Finish, Predict Finish, 6.1784 5.5683 0.1904 0.7813 Evaluation Finish\n",
      "151: Data Load Finish, Predict Finish, 5.151 4.4156 0.1492 0.8177 Evaluation Finish\n",
      "152: Data Load Finish, Predict Finish, 5.7948 5.1287 0.1745 0.7949 Evaluation Finish\n",
      "153: Data Load Finish, Predict Finish, 2.7981 2.4608 0.0879 0.901 Evaluation Finish\n",
      "154: Data Load Finish, "
     ]
    },
    {
     "name": "stderr",
     "output_type": "stream",
     "text": [
      "C:\\Users\\vfgtr554\\anaconda3\\envs\\cctv\\lib\\site-packages\\pandas\\core\\arraylike.py:364: RuntimeWarning: divide by zero encountered in log\n",
      "  result = getattr(ufunc, method)(*inputs, **kwargs)\n",
      "C:\\Users\\vfgtr554\\anaconda3\\envs\\cctv\\lib\\site-packages\\statsmodels\\base\\model.py:606: ConvergenceWarning: Maximum Likelihood optimization failed to converge. Check mle_retvals\n",
      "  ConvergenceWarning)\n"
     ]
    },
    {
     "name": "stdout",
     "output_type": "stream",
     "text": [
      "Predict Finish, 27.2597 27.1217 0.9641 0.0352 Evaluation Finish\n",
      "155: Data Load Finish, Predict Finish, 2.6318 2.2625 0.081 0.9069 Evaluation Finish\n",
      "156: Data Load Finish, Predict Finish, 4.462 3.7082 0.1244 0.8421 Evaluation Finish\n",
      "157: Data Load Finish, Predict Finish, 5.674 5.0293 0.1715 0.7992 Evaluation Finish\n",
      "158: Data Load Finish, Predict Finish, 6.1971 5.6014 0.1917 0.7807 Evaluation Finish\n",
      "159: Data Load Finish, Predict Finish, 9.7593 9.2625 0.3219 0.6546 Evaluation Finish\n",
      "160: Data Load Finish, Predict Finish, 5.9839 5.2929 0.1801 0.7882 Evaluation Finish\n",
      "161: Data Load Finish, Predict Finish, 4.8125 4.0079 0.1345 0.8297 Evaluation Finish\n",
      "162: Data Load Finish, Predict Finish, 6.5903 5.9348 0.2041 0.7668 Evaluation Finish\n",
      "163: Data Load Finish, Predict Finish, 4.1758 3.4546 0.116 0.8522 Evaluation Finish\n",
      "164: Data Load Finish, Predict Finish, 3.3079 2.8757 0.0987 0.8829 Evaluation Finish\n",
      "165: Data Load Finish, Predict Finish, 3.6375 2.9962 0.1145 0.8713 Evaluation Finish\n",
      "166: Data Load Finish, Predict Finish, 11.7266 11.3964 0.4189 0.585 Evaluation Finish\n",
      "167: Data Load Finish, Predict Finish, 9.9181 9.5321 0.3521 0.649 Evaluation Finish\n",
      "168: Data Load Finish, Predict Finish, 24.5466 24.3935 0.8857 0.1312 Evaluation Finish\n",
      "169: Data Load Finish, Predict Finish, 9.6284 9.2111 0.3404 0.6592 Evaluation Finish\n",
      "170: Data Load Finish, Predict Finish, 3.7415 2.8807 0.096 0.8676 Evaluation Finish\n",
      "171: Data Load Finish, Predict Finish, 6.2149 5.5634 0.2094 0.78 Evaluation Finish\n",
      "172: Data Load Finish, Predict Finish, 4.4534 3.5321 0.1175 0.8424 Evaluation Finish\n",
      "173: Data Load Finish, Predict Finish, 2.9025 2.4431 0.0909 0.8973 Evaluation Finish\n",
      "174: Data Load Finish, Predict Finish, 2.9657 2.5515 0.0951 0.895 Evaluation Finish\n",
      "175: Data Load Finish, Predict Finish, 7.9306 7.5102 0.2782 0.7193 Evaluation Finish\n",
      "176: Data Load Finish, Predict Finish, 9.5952 9.1632 0.3189 0.6604 Evaluation Finish\n",
      "177: Data Load Finish, Predict Finish, 18.2984 18.0987 0.6587 0.3524 Evaluation Finish\n",
      "178: Data Load Finish, Predict Finish, 4.2883 3.5714 0.12 0.8482 Evaluation Finish\n",
      "179: Data Load Finish, Predict Finish, 2.9229 2.4674 0.0927 0.8966 Evaluation Finish\n",
      "180: Data Load Finish, Predict Finish, 17.7877 17.5755 0.64 0.3705 Evaluation Finish\n",
      "181: Data Load Finish, Predict Finish, 5.1854 4.4757 0.1515 0.8165 Evaluation Finish\n",
      "182: Data Load Finish, Predict Finish, 5.0222 4.224 0.142 0.8223 Evaluation Finish\n",
      "183: Data Load Finish, Predict Finish, 5.0596 4.2527 0.1429 0.8209 Evaluation Finish\n",
      "184: Data Load Finish, Predict Finish, 3.521 2.8789 0.0971 0.8754 Evaluation Finish\n",
      "185: Data Load Finish, Predict Finish, 3.4298 2.4832 0.083 0.8786 Evaluation Finish\n",
      "186: Data Load Finish, Predict Finish, 5.8024 5.067 0.1729 0.7946 Evaluation Finish\n",
      "187: Data Load Finish, "
     ]
    },
    {
     "name": "stderr",
     "output_type": "stream",
     "text": [
      "C:\\Users\\vfgtr554\\anaconda3\\envs\\cctv\\lib\\site-packages\\pandas\\core\\arraylike.py:364: RuntimeWarning: divide by zero encountered in log\n",
      "  result = getattr(ufunc, method)(*inputs, **kwargs)\n",
      "C:\\Users\\vfgtr554\\anaconda3\\envs\\cctv\\lib\\site-packages\\statsmodels\\base\\model.py:606: ConvergenceWarning: Maximum Likelihood optimization failed to converge. Check mle_retvals\n",
      "  ConvergenceWarning)\n"
     ]
    },
    {
     "name": "stdout",
     "output_type": "stream",
     "text": [
      "Predict Finish, 27.2597 27.1217 0.9641 0.0352 Evaluation Finish\n",
      "188: Data Load Finish, Predict Finish, 3.0371 2.7005 0.095 0.8925 Evaluation Finish\n",
      "189: Data Load Finish, Predict Finish, 2.7758 2.4211 0.0856 0.9018 Evaluation Finish\n",
      "190: Data Load Finish, Predict Finish, 5.0675 4.2808 0.1442 0.8206 Evaluation Finish\n",
      "191: Data Load Finish, Predict Finish, 2.9164 2.4731 0.0863 0.8968 Evaluation Finish\n",
      "192: Data Load Finish, Predict Finish, 6.1947 5.5681 0.1903 0.7808 Evaluation Finish\n",
      "193: Data Load Finish, Predict Finish, 13.8876 13.6145 0.4791 0.5085 Evaluation Finish\n",
      "194: Data Load Finish, Predict Finish, 3.6187 2.7946 0.0935 0.8719 Evaluation Finish\n",
      "195: Data Load Finish, Predict Finish, 3.4241 2.8566 0.097 0.8788 Evaluation Finish\n",
      "196: Data Load Finish, "
     ]
    },
    {
     "name": "stderr",
     "output_type": "stream",
     "text": [
      "C:\\Users\\vfgtr554\\anaconda3\\envs\\cctv\\lib\\site-packages\\pandas\\core\\arraylike.py:364: RuntimeWarning: divide by zero encountered in log\n",
      "  result = getattr(ufunc, method)(*inputs, **kwargs)\n",
      "C:\\Users\\vfgtr554\\anaconda3\\envs\\cctv\\lib\\site-packages\\statsmodels\\base\\model.py:606: ConvergenceWarning: Maximum Likelihood optimization failed to converge. Check mle_retvals\n",
      "  ConvergenceWarning)\n"
     ]
    },
    {
     "name": "stdout",
     "output_type": "stream",
     "text": [
      "Predict Finish, 27.2597 27.1217 0.9641 0.0352 Evaluation Finish\n",
      "197: Data Load Finish, Predict Finish, 3.6433 2.997 0.1011 0.8711 Evaluation Finish\n",
      "198: Data Load Finish, Predict Finish, 5.5579 4.7899 0.1624 0.8033 Evaluation Finish\n",
      "199: Data Load Finish, Predict Finish, 7.116 6.5639 0.2258 0.7482 Evaluation Finish\n",
      "200: Data Load Finish, Predict Finish, 3.0502 2.6438 0.0914 0.892 Evaluation Finish\n",
      "201: Data Load Finish, Predict Finish, 4.9069 4.1091 0.1386 0.8263 Evaluation Finish\n",
      "202: Data Load Finish, Predict Finish, 4.9609 4.253 0.1438 0.8244 Evaluation Finish\n",
      "203: Data Load Finish, Predict Finish, 9.9848 9.5486 0.3325 0.6466 Evaluation Finish\n",
      "204: Data Load Finish, Predict Finish, 4.8938 4.107 0.1385 0.8268 Evaluation Finish\n",
      "205: Data Load Finish, "
     ]
    },
    {
     "name": "stderr",
     "output_type": "stream",
     "text": [
      "C:\\Users\\vfgtr554\\anaconda3\\envs\\cctv\\lib\\site-packages\\pandas\\core\\arraylike.py:364: RuntimeWarning: divide by zero encountered in log\n",
      "  result = getattr(ufunc, method)(*inputs, **kwargs)\n",
      "C:\\Users\\vfgtr554\\anaconda3\\envs\\cctv\\lib\\site-packages\\statsmodels\\base\\model.py:606: ConvergenceWarning: Maximum Likelihood optimization failed to converge. Check mle_retvals\n",
      "  ConvergenceWarning)\n"
     ]
    },
    {
     "name": "stdout",
     "output_type": "stream",
     "text": [
      "Predict Finish, 27.2597 27.1217 0.9641 0.0352 Evaluation Finish\n",
      "206: Data Load Finish, Predict Finish, 9.6048 9.2094 0.3218 0.6601 Evaluation Finish\n",
      "207: Data Load Finish, Predict Finish, 6.0645 5.3548 0.1821 0.7854 Evaluation Finish\n",
      "208: Data Load Finish, Predict Finish, 9.1863 8.7308 0.3059 0.6749 Evaluation Finish\n",
      "209: Data Load Finish, Predict Finish, 4.95 4.0897 0.1569 0.8248 Evaluation Finish\n",
      "210: Data Load Finish, Predict Finish, 2.7546 2.4583 0.0879 0.9025 Evaluation Finish\n",
      "211: Data Load Finish, Predict Finish, 9.5432 9.0535 0.3344 0.6622 Evaluation Finish\n",
      "212: Data Load Finish, Predict Finish, 4.2549 3.6761 0.1395 0.8494 Evaluation Finish\n",
      "213: Data Load Finish, Predict Finish, 14.9136 14.6513 0.5352 0.4722 Evaluation Finish\n",
      "214: Data Load Finish, Predict Finish, 12.5167 12.1997 0.4281 0.557 Evaluation Finish\n",
      "215: Data Load Finish, Predict Finish, 7.9369 7.4267 0.2567 0.7191 Evaluation Finish\n",
      "216: Data Load Finish, Predict Finish, 3.4372 2.9659 0.1014 0.8784 Evaluation Finish\n",
      "217: Data Load Finish, "
     ]
    },
    {
     "name": "stderr",
     "output_type": "stream",
     "text": [
      "C:\\Users\\vfgtr554\\anaconda3\\envs\\cctv\\lib\\site-packages\\pandas\\core\\arraylike.py:364: RuntimeWarning: divide by zero encountered in log\n",
      "  result = getattr(ufunc, method)(*inputs, **kwargs)\n",
      "C:\\Users\\vfgtr554\\anaconda3\\envs\\cctv\\lib\\site-packages\\statsmodels\\base\\model.py:606: ConvergenceWarning: Maximum Likelihood optimization failed to converge. Check mle_retvals\n",
      "  ConvergenceWarning)\n"
     ]
    },
    {
     "name": "stdout",
     "output_type": "stream",
     "text": [
      "Predict Finish, 27.2597 27.1217 0.9641 0.0352 Evaluation Finish\n",
      "218: Data Load Finish, Predict Finish, 5.9607 5.2882 0.18 0.789 Evaluation Finish\n",
      "219: Data Load Finish, Predict Finish, 3.9848 3.0024 0.1171 0.859 Evaluation Finish\n",
      "220: Data Load Finish, Predict Finish, 7.1215 6.5672 0.2453 0.748 Evaluation Finish\n",
      "221: Data Load Finish, Predict Finish, 2.929 2.4479 0.0905 0.8963 Evaluation Finish\n",
      "222: Data Load Finish, Predict Finish, 4.2423 3.5304 0.1186 0.8499 Evaluation Finish\n",
      "223: Data Load Finish, Predict Finish, 2.8528 2.44 0.0902 0.899 Evaluation Finish\n",
      "224: Data Load Finish, "
     ]
    },
    {
     "name": "stderr",
     "output_type": "stream",
     "text": [
      "C:\\Users\\vfgtr554\\anaconda3\\envs\\cctv\\lib\\site-packages\\pandas\\core\\arraylike.py:364: RuntimeWarning: divide by zero encountered in log\n",
      "  result = getattr(ufunc, method)(*inputs, **kwargs)\n",
      "C:\\Users\\vfgtr554\\anaconda3\\envs\\cctv\\lib\\site-packages\\statsmodels\\base\\model.py:606: ConvergenceWarning: Maximum Likelihood optimization failed to converge. Check mle_retvals\n",
      "  ConvergenceWarning)\n"
     ]
    },
    {
     "name": "stdout",
     "output_type": "stream",
     "text": [
      "Predict Finish, 27.2597 27.1217 0.9641 0.0352 Evaluation Finish\n",
      "225: Data Load Finish, Predict Finish, 3.1334 2.5955 0.0975 0.8891 Evaluation Finish\n",
      "226: Data Load Finish, Predict Finish, 3.5005 2.726 0.0914 0.8761 Evaluation Finish\n",
      "227: Data Load Finish, Predict Finish, 9.9971 9.2918 0.3226 0.6462 Evaluation Finish\n",
      "228: Data Load Finish, Predict Finish, 3.6613 2.3738 0.0782 0.8704 Evaluation Finish\n",
      "229: Data Load Finish, Predict Finish, 13.4716 13.1842 0.4834 0.5232 Evaluation Finish\n",
      "230: Data Load Finish, Predict Finish, 4.9715 4.069 0.1372 0.824 Evaluation Finish\n",
      "231: Data Load Finish, Predict Finish, 2.9349 2.5634 0.0891 0.8961 Evaluation Finish\n",
      "232: Data Load Finish, Predict Finish, 7.3992 6.8761 0.2375 0.7381 Evaluation Finish\n",
      "233: Data Load Finish, Predict Finish, 4.0158 3.3223 0.1119 0.8579 Evaluation Finish\n",
      "234: Data Load Finish, Predict Finish, 3.6804 3.185 0.1093 0.8697 Evaluation Finish\n",
      "235: Data Load Finish, Predict Finish, 15.4443 15.1995 0.5556 0.4534 Evaluation Finish\n",
      "236: Data Load Finish, Predict Finish, 4.0361 3.0259 0.1002 0.8572 Evaluation Finish\n",
      "237: Data Load Finish, Predict Finish, 5.5514 4.8623 0.1651 0.8035 Evaluation Finish\n",
      "238: Data Load Finish, Predict Finish, 5.1596 4.4424 0.1505 0.8174 Evaluation Finish\n",
      "239: Data Load Finish, Predict Finish, 3.5133 2.831 0.0953 0.8757 Evaluation Finish\n",
      "240: Data Load Finish, Predict Finish, 3.2037 2.8304 0.0979 0.8866 Evaluation Finish\n",
      "241: Data Load Finish, Predict Finish, 4.0204 3.3314 0.112 0.8577 Evaluation Finish\n",
      "242: Data Load Finish, Predict Finish, 4.8907 4.0651 0.1363 0.8269 Evaluation Finish\n",
      "243: Data Load Finish, Predict Finish, 23.6344 23.4709 0.8521 0.1635 Evaluation Finish\n",
      "244: Data Load Finish, Predict Finish, 9.9483 9.6017 0.3358 0.6479 Evaluation Finish\n",
      "245: Data Load Finish, "
     ]
    },
    {
     "name": "stderr",
     "output_type": "stream",
     "text": [
      "C:\\Users\\vfgtr554\\anaconda3\\envs\\cctv\\lib\\site-packages\\pandas\\core\\arraylike.py:364: RuntimeWarning: divide by zero encountered in log\n",
      "  result = getattr(ufunc, method)(*inputs, **kwargs)\n",
      "C:\\Users\\vfgtr554\\anaconda3\\envs\\cctv\\lib\\site-packages\\statsmodels\\base\\model.py:606: ConvergenceWarning: Maximum Likelihood optimization failed to converge. Check mle_retvals\n",
      "  ConvergenceWarning)\n"
     ]
    },
    {
     "name": "stdout",
     "output_type": "stream",
     "text": [
      "Predict Finish, 27.2597 27.1217 0.9641 0.0352 Evaluation Finish\n",
      "246: Data Load Finish, Predict Finish, 8.5379 7.3005 0.2559 0.6978 Evaluation Finish\n",
      "247: Data Load Finish, "
     ]
    },
    {
     "name": "stderr",
     "output_type": "stream",
     "text": [
      "C:\\Users\\vfgtr554\\anaconda3\\envs\\cctv\\lib\\site-packages\\pandas\\core\\arraylike.py:364: RuntimeWarning: divide by zero encountered in log\n",
      "  result = getattr(ufunc, method)(*inputs, **kwargs)\n",
      "C:\\Users\\vfgtr554\\anaconda3\\envs\\cctv\\lib\\site-packages\\statsmodels\\base\\model.py:606: ConvergenceWarning: Maximum Likelihood optimization failed to converge. Check mle_retvals\n",
      "  ConvergenceWarning)\n",
      "C:\\Users\\vfgtr554\\anaconda3\\envs\\cctv\\lib\\site-packages\\pandas\\core\\arraylike.py:364: RuntimeWarning: divide by zero encountered in log\n",
      "  result = getattr(ufunc, method)(*inputs, **kwargs)\n"
     ]
    },
    {
     "name": "stdout",
     "output_type": "stream",
     "text": [
      "Predict Finish, 27.2597 27.1217 0.9641 0.0352 Evaluation Finish\n",
      "248: Data Load Finish, "
     ]
    },
    {
     "name": "stderr",
     "output_type": "stream",
     "text": [
      "C:\\Users\\vfgtr554\\anaconda3\\envs\\cctv\\lib\\site-packages\\statsmodels\\base\\model.py:606: ConvergenceWarning: Maximum Likelihood optimization failed to converge. Check mle_retvals\n",
      "  ConvergenceWarning)\n"
     ]
    },
    {
     "name": "stdout",
     "output_type": "stream",
     "text": [
      "Predict Finish, 27.2597 27.1217 0.9641 0.0352 Evaluation Finish\n",
      "249: Data Load Finish, Predict Finish, 10.3291 9.8939 0.3448 0.6344 Evaluation Finish\n",
      "250: Data Load Finish, Predict Finish, 10.5427 10.0805 0.3512 0.6269 Evaluation Finish\n",
      "251: Data Load Finish, "
     ]
    },
    {
     "name": "stderr",
     "output_type": "stream",
     "text": [
      "C:\\Users\\vfgtr554\\anaconda3\\envs\\cctv\\lib\\site-packages\\pandas\\core\\arraylike.py:364: RuntimeWarning: divide by zero encountered in log\n",
      "  result = getattr(ufunc, method)(*inputs, **kwargs)\n",
      "C:\\Users\\vfgtr554\\anaconda3\\envs\\cctv\\lib\\site-packages\\statsmodels\\base\\model.py:606: ConvergenceWarning: Maximum Likelihood optimization failed to converge. Check mle_retvals\n",
      "  ConvergenceWarning)\n"
     ]
    },
    {
     "name": "stdout",
     "output_type": "stream",
     "text": [
      "Predict Finish, 27.2597 27.1217 0.9641 0.0352 Evaluation Finish\n",
      "252: Data Load Finish, "
     ]
    },
    {
     "name": "stderr",
     "output_type": "stream",
     "text": [
      "C:\\Users\\vfgtr554\\anaconda3\\envs\\cctv\\lib\\site-packages\\statsmodels\\base\\model.py:606: ConvergenceWarning: Maximum Likelihood optimization failed to converge. Check mle_retvals\n",
      "  ConvergenceWarning)\n"
     ]
    },
    {
     "name": "stdout",
     "output_type": "stream",
     "text": [
      "Predict Finish, 2.8001 2.4961 0.0907 0.9009 Evaluation Finish\n",
      "253: Data Load Finish, Predict Finish, 7.8342 7.3463 0.2541 0.7227 Evaluation Finish\n",
      "254: Data Load Finish, Predict Finish, 3.9537 3.3004 0.1262 0.8601 Evaluation Finish\n",
      "255: Data Load Finish, Predict Finish, 9.22 8.7933 0.3058 0.6737 Evaluation Finish\n",
      "256: Data Load Finish, Predict Finish, 6.2946 5.6629 0.1937 0.7772 Evaluation Finish\n",
      "257: Data Load Finish, Predict Finish, 6.071 5.4208 0.2044 0.7851 Evaluation Finish\n",
      "258: Data Load Finish, Predict Finish, 5.2683 4.4875 0.1515 0.8135 Evaluation Finish\n",
      "259: Data Load Finish, Predict Finish, 4.7142 3.8346 0.1475 0.8332 Evaluation Finish\n",
      "260: Data Load Finish, "
     ]
    },
    {
     "name": "stderr",
     "output_type": "stream",
     "text": [
      "C:\\Users\\vfgtr554\\anaconda3\\envs\\cctv\\lib\\site-packages\\pandas\\core\\arraylike.py:364: RuntimeWarning: divide by zero encountered in log\n",
      "  result = getattr(ufunc, method)(*inputs, **kwargs)\n",
      "C:\\Users\\vfgtr554\\anaconda3\\envs\\cctv\\lib\\site-packages\\statsmodels\\base\\model.py:606: ConvergenceWarning: Maximum Likelihood optimization failed to converge. Check mle_retvals\n",
      "  ConvergenceWarning)\n"
     ]
    },
    {
     "name": "stdout",
     "output_type": "stream",
     "text": [
      "Predict Finish, 27.2597 27.1217 0.9641 0.0352 Evaluation Finish\n",
      "261: Data Load Finish, Predict Finish, 2.9544 2.487 0.0932 0.8954 Evaluation Finish\n",
      "262: Data Load Finish, Predict Finish, 3.5095 2.8168 0.1083 0.8758 Evaluation Finish\n",
      "263: Data Load Finish, Predict Finish, 3.3309 2.8136 0.0959 0.8821 Evaluation Finish\n",
      "264: Data Load Finish, Predict Finish, 5.8296 5.1954 0.1772 0.7937 Evaluation Finish\n",
      "265: Data Load Finish, Predict Finish, 5.1357 4.4048 0.149 0.8182 Evaluation Finish\n",
      "266: Data Load Finish, Predict Finish, 10.4147 10.0508 0.3511 0.6314 Evaluation Finish\n",
      "267: Data Load Finish, Predict Finish, 4.587 3.7671 0.126 0.8377 Evaluation Finish\n",
      "268: Data Load Finish, Predict Finish, 5.8831 5.1719 0.1757 0.7918 Evaluation Finish\n",
      "269: Data Load Finish, Predict Finish, 2.8214 2.462 0.0905 0.9001 Evaluation Finish\n",
      "270: Data Load Finish, Predict Finish, 10.894 10.5236 0.3688 0.6144 Evaluation Finish\n",
      "271: Data Load Finish, Predict Finish, 4.6672 4.2858 0.1569 0.8348 Evaluation Finish\n",
      "272: Data Load Finish, Predict Finish, 3.3619 2.8829 0.1085 0.881 Evaluation Finish\n",
      "273: Data Load Finish, Predict Finish, 3.8813 3.1257 0.1047 0.8626 Evaluation Finish\n",
      "274: Data Load Finish, Predict Finish, 8.102 7.648 0.2656 0.7133 Evaluation Finish\n",
      "275: Data Load Finish, Predict Finish, 8.2023 7.7337 0.2679 0.7097 Evaluation Finish\n",
      "276: Data Load Finish, "
     ]
    },
    {
     "name": "stderr",
     "output_type": "stream",
     "text": [
      "C:\\Users\\vfgtr554\\anaconda3\\envs\\cctv\\lib\\site-packages\\pandas\\core\\arraylike.py:364: RuntimeWarning: divide by zero encountered in log\n",
      "  result = getattr(ufunc, method)(*inputs, **kwargs)\n",
      "C:\\Users\\vfgtr554\\anaconda3\\envs\\cctv\\lib\\site-packages\\statsmodels\\base\\model.py:606: ConvergenceWarning: Maximum Likelihood optimization failed to converge. Check mle_retvals\n",
      "  ConvergenceWarning)\n"
     ]
    },
    {
     "name": "stdout",
     "output_type": "stream",
     "text": [
      "Predict Finish, 27.2597 27.1217 0.9641 0.0352 Evaluation Finish\n",
      "277: Data Load Finish, Predict Finish, 8.7576 8.3036 0.2882 0.69 Evaluation Finish\n",
      "278: Data Load Finish, Predict Finish, 5.1463 4.3762 0.1475 0.8179 Evaluation Finish\n",
      "279: Data Load Finish, Predict Finish, 5.6084 4.9116 0.1668 0.8015 Evaluation Finish\n",
      "280: Data Load Finish, Predict Finish, 4.2898 3.6156 0.1218 0.8482 Evaluation Finish\n",
      "281: Data Load Finish, Predict Finish, 4.9013 4.0731 0.1369 0.8265 Evaluation Finish\n",
      "282: Data Load Finish, Predict Finish, 3.3596 3.0189 0.1061 0.8811 Evaluation Finish\n",
      "283: Data Load Finish, Predict Finish, 2.819 2.4484 0.0896 0.9002 Evaluation Finish\n",
      "284: Data Load Finish, Predict Finish, 3.8046 3.1378 0.1202 0.8653 Evaluation Finish\n",
      "285: Data Load Finish, Predict Finish, 9.7082 9.3 0.324 0.6564 Evaluation Finish\n",
      "286: Data Load Finish, Predict Finish, 3.2534 2.7217 0.103 0.8849 Evaluation Finish\n",
      "287: Data Load Finish, "
     ]
    },
    {
     "name": "stderr",
     "output_type": "stream",
     "text": [
      "C:\\Users\\vfgtr554\\anaconda3\\envs\\cctv\\lib\\site-packages\\pandas\\core\\arraylike.py:364: RuntimeWarning: divide by zero encountered in log\n",
      "  result = getattr(ufunc, method)(*inputs, **kwargs)\n",
      "C:\\Users\\vfgtr554\\anaconda3\\envs\\cctv\\lib\\site-packages\\statsmodels\\base\\model.py:606: ConvergenceWarning: Maximum Likelihood optimization failed to converge. Check mle_retvals\n",
      "  ConvergenceWarning)\n"
     ]
    },
    {
     "name": "stdout",
     "output_type": "stream",
     "text": [
      "Predict Finish, 27.2597 27.1217 0.9641 0.0352 Evaluation Finish\n",
      "288: Data Load Finish, Predict Finish, 3.2395 2.7513 0.094 0.8853 Evaluation Finish\n",
      "289: Data Load Finish, Predict Finish, 7.6604 7.178 0.2492 0.7289 Evaluation Finish\n",
      "290: Data Load Finish, "
     ]
    },
    {
     "name": "stderr",
     "output_type": "stream",
     "text": [
      "C:\\Users\\vfgtr554\\anaconda3\\envs\\cctv\\lib\\site-packages\\pandas\\core\\arraylike.py:364: RuntimeWarning: divide by zero encountered in log\n",
      "  result = getattr(ufunc, method)(*inputs, **kwargs)\n",
      "C:\\Users\\vfgtr554\\anaconda3\\envs\\cctv\\lib\\site-packages\\statsmodels\\base\\model.py:606: ConvergenceWarning: Maximum Likelihood optimization failed to converge. Check mle_retvals\n",
      "  ConvergenceWarning)\n"
     ]
    },
    {
     "name": "stdout",
     "output_type": "stream",
     "text": [
      "Predict Finish, 27.2597 27.1217 0.9641 0.0352 Evaluation Finish\n",
      "291: Data Load Finish, Predict Finish, 3.8346 3.2464 0.1104 0.8643 Evaluation Finish\n",
      "292: Data Load Finish, Predict Finish, 8.851 8.2499 0.2856 0.6867 Evaluation Finish\n",
      "293: Data Load Finish, Predict Finish, 4.7473 3.9172 0.1311 0.832 Evaluation Finish\n",
      "294: Data Load Finish, Predict Finish, 4.6829 3.8332 0.1289 0.8343 Evaluation Finish\n",
      "295: Data Load Finish, Predict Finish, 5.9302 5.2531 0.1788 0.7901 Evaluation Finish\n",
      "296: Data Load Finish, Predict Finish, 4.1635 3.2849 0.1094 0.8526 Evaluation Finish\n",
      "297: Data Load Finish, Predict Finish, 4.7094 3.8772 0.1297 0.8333 Evaluation Finish\n",
      "298: "
     ]
    },
    {
     "name": "stderr",
     "output_type": "stream",
     "text": [
      "C:\\Users\\vfgtr554\\anaconda3\\envs\\cctv\\lib\\site-packages\\pandas\\core\\arraylike.py:364: RuntimeWarning: divide by zero encountered in log\n",
      "  result = getattr(ufunc, method)(*inputs, **kwargs)\n"
     ]
    },
    {
     "name": "stdout",
     "output_type": "stream",
     "text": [
      "Data Load Finish, "
     ]
    },
    {
     "name": "stderr",
     "output_type": "stream",
     "text": [
      "C:\\Users\\vfgtr554\\anaconda3\\envs\\cctv\\lib\\site-packages\\statsmodels\\base\\model.py:606: ConvergenceWarning: Maximum Likelihood optimization failed to converge. Check mle_retvals\n",
      "  ConvergenceWarning)\n"
     ]
    },
    {
     "name": "stdout",
     "output_type": "stream",
     "text": [
      "Predict Finish, 27.2597 27.1217 0.9641 0.0352 Evaluation Finish\n",
      "299: Data Load Finish, Predict Finish, 3.1658 2.4959 0.0957 0.888 Evaluation Finish\n",
      "300: Data Load Finish, Predict Finish, 5.5324 4.6743 0.1783 0.8042 Evaluation Finish\n",
      "301: Data Load Finish, Predict Finish, 8.4818 8.0285 0.2786 0.6998 Evaluation Finish\n",
      "302: Data Load Finish, Predict Finish, 13.2039 12.9062 0.4535 0.5327 Evaluation Finish\n",
      "303: Data Load Finish, Predict Finish, 6.2504 5.622 0.2116 0.7788 Evaluation Finish\n",
      "304: Data Load Finish, Predict Finish, 6.4927 5.9091 0.2026 0.7702 Evaluation Finish\n",
      "305: Data Load Finish, Predict Finish, 3.5822 2.9417 0.0992 0.8732 Evaluation Finish\n",
      "306: Data Load Finish, Predict Finish, 10.7006 10.2731 0.3583 0.6213 Evaluation Finish\n",
      "307: Data Load Finish, Predict Finish, 7.1971 6.6024 0.2269 0.7453 Evaluation Finish\n",
      "308: Data Load Finish, Predict Finish, 5.1511 4.4058 0.1489 0.8177 Evaluation Finish\n",
      "309: Data Load Finish, Predict Finish, 5.0815 4.2917 0.1446 0.8202 Evaluation Finish\n",
      "310: Data Load Finish, "
     ]
    },
    {
     "name": "stderr",
     "output_type": "stream",
     "text": [
      "C:\\Users\\vfgtr554\\anaconda3\\envs\\cctv\\lib\\site-packages\\pandas\\core\\arraylike.py:364: RuntimeWarning: divide by zero encountered in log\n",
      "  result = getattr(ufunc, method)(*inputs, **kwargs)\n",
      "C:\\Users\\vfgtr554\\anaconda3\\envs\\cctv\\lib\\site-packages\\statsmodels\\base\\model.py:606: ConvergenceWarning: Maximum Likelihood optimization failed to converge. Check mle_retvals\n",
      "  ConvergenceWarning)\n"
     ]
    },
    {
     "name": "stdout",
     "output_type": "stream",
     "text": [
      "Predict Finish, 27.2597 27.1217 0.9641 0.0352 Evaluation Finish\n",
      "311: Data Load Finish, Predict Finish, 2.9784 2.4371 0.084 0.8946 Evaluation Finish\n",
      "312: Data Load Finish, Predict Finish, 12.6982 12.4184 0.4549 0.5506 Evaluation Finish\n",
      "313: Data Load Finish, Predict Finish, 9.3358 8.9199 0.3107 0.6696 Evaluation Finish\n",
      "314: Data Load Finish, Predict Finish, 4.1894 3.4089 0.114 0.8517 Evaluation Finish\n",
      "315: Data Load Finish, Predict Finish, 5.3698 4.6164 0.156 0.81 Evaluation Finish\n",
      "316: Data Load Finish, Predict Finish, 5.6904 4.9904 0.1694 0.7986 Evaluation Finish\n",
      "317: Data Load Finish, Predict Finish, 3.6421 2.9773 0.1003 0.8711 Evaluation Finish\n",
      "318: Data Load Finish, Predict Finish, 10.4929 10.1304 0.354 0.6286 Evaluation Finish\n",
      "319: Data Load Finish, Predict Finish, 7.603 7.0948 0.2452 0.7309 Evaluation Finish\n",
      "320: Data Load Finish, Predict Finish, 4.7329 3.8713 0.1295 0.8325 Evaluation Finish\n",
      "321: Data Load Finish, Predict Finish, 3.1492 2.8141 0.0982 0.8885 Evaluation Finish\n",
      "322: Data Load Finish, "
     ]
    },
    {
     "name": "stderr",
     "output_type": "stream",
     "text": [
      "C:\\Users\\vfgtr554\\anaconda3\\envs\\cctv\\lib\\site-packages\\pandas\\core\\arraylike.py:364: RuntimeWarning: divide by zero encountered in log\n",
      "  result = getattr(ufunc, method)(*inputs, **kwargs)\n",
      "C:\\Users\\vfgtr554\\anaconda3\\envs\\cctv\\lib\\site-packages\\statsmodels\\base\\model.py:606: ConvergenceWarning: Maximum Likelihood optimization failed to converge. Check mle_retvals\n",
      "  ConvergenceWarning)\n"
     ]
    },
    {
     "name": "stdout",
     "output_type": "stream",
     "text": [
      "Predict Finish, 27.2597 27.1217 0.9641 0.0352 Evaluation Finish\n",
      "323: Data Load Finish, Predict Finish, 4.8018 3.927 0.1315 0.8301 Evaluation Finish\n",
      "324: Data Load Finish, Predict Finish, 3.8281 3.0738 0.1184 0.8645 Evaluation Finish\n",
      "325: Data Load Finish, Predict Finish, 7.5513 7.0747 0.2629 0.7327 Evaluation Finish\n",
      "326: Data Load Finish, Predict Finish, 6.7496 6.1618 0.2114 0.7611 Evaluation Finish\n",
      "327: Data Load Finish, Predict Finish, 16.9226 16.6988 0.6093 0.4011 Evaluation Finish\n",
      "328: Data Load Finish, "
     ]
    },
    {
     "name": "stderr",
     "output_type": "stream",
     "text": [
      "C:\\Users\\vfgtr554\\anaconda3\\envs\\cctv\\lib\\site-packages\\pandas\\core\\arraylike.py:364: RuntimeWarning: divide by zero encountered in log\n",
      "  result = getattr(ufunc, method)(*inputs, **kwargs)\n",
      "C:\\Users\\vfgtr554\\anaconda3\\envs\\cctv\\lib\\site-packages\\statsmodels\\base\\model.py:606: ConvergenceWarning: Maximum Likelihood optimization failed to converge. Check mle_retvals\n",
      "  ConvergenceWarning)\n"
     ]
    },
    {
     "name": "stdout",
     "output_type": "stream",
     "text": [
      "Predict Finish, 27.2597 27.1217 0.9641 0.0352 Evaluation Finish\n",
      "329: Data Load Finish, "
     ]
    },
    {
     "name": "stderr",
     "output_type": "stream",
     "text": [
      "C:\\Users\\vfgtr554\\anaconda3\\envs\\cctv\\lib\\site-packages\\pandas\\core\\arraylike.py:364: RuntimeWarning: divide by zero encountered in log\n",
      "  result = getattr(ufunc, method)(*inputs, **kwargs)\n"
     ]
    },
    {
     "name": "stdout",
     "output_type": "stream",
     "text": [
      "Predict Finish, 9.8974 9.382 0.3458 0.6497 Evaluation Finish\n",
      "330: Data Load Finish, "
     ]
    },
    {
     "name": "stderr",
     "output_type": "stream",
     "text": [
      "C:\\Users\\vfgtr554\\anaconda3\\envs\\cctv\\lib\\site-packages\\statsmodels\\base\\model.py:606: ConvergenceWarning: Maximum Likelihood optimization failed to converge. Check mle_retvals\n",
      "  ConvergenceWarning)\n"
     ]
    },
    {
     "name": "stdout",
     "output_type": "stream",
     "text": [
      "Predict Finish, 27.2597 27.1217 0.9641 0.0352 Evaluation Finish\n",
      "331: Data Load Finish, Predict Finish, 6.6001 6.0655 0.227 0.7664 Evaluation Finish\n",
      "332: Data Load Finish, Predict Finish, 5.3508 4.6258 0.1755 0.8106 Evaluation Finish\n",
      "333: Data Load Finish, Predict Finish, 11.0574 10.5634 0.3904 0.6087 Evaluation Finish\n",
      "334: Data Load Finish, "
     ]
    },
    {
     "name": "stderr",
     "output_type": "stream",
     "text": [
      "C:\\Users\\vfgtr554\\anaconda3\\envs\\cctv\\lib\\site-packages\\pandas\\core\\arraylike.py:364: RuntimeWarning: divide by zero encountered in log\n",
      "  result = getattr(ufunc, method)(*inputs, **kwargs)\n",
      "C:\\Users\\vfgtr554\\anaconda3\\envs\\cctv\\lib\\site-packages\\statsmodels\\base\\model.py:606: ConvergenceWarning: Maximum Likelihood optimization failed to converge. Check mle_retvals\n",
      "  ConvergenceWarning)\n"
     ]
    },
    {
     "name": "stdout",
     "output_type": "stream",
     "text": [
      "Predict Finish, 27.2597 27.1217 0.9641 0.0352 Evaluation Finish\n",
      "335: Data Load Finish, Predict Finish, 5.2488 4.6239 0.1743 0.8142 Evaluation Finish\n",
      "336: Data Load Finish, Predict Finish, 12.3839 12.0454 0.4418 0.5617 Evaluation Finish\n",
      "337: Data Load Finish, "
     ]
    },
    {
     "name": "stderr",
     "output_type": "stream",
     "text": [
      "C:\\Users\\vfgtr554\\anaconda3\\envs\\cctv\\lib\\site-packages\\pandas\\core\\arraylike.py:364: RuntimeWarning: divide by zero encountered in log\n",
      "  result = getattr(ufunc, method)(*inputs, **kwargs)\n",
      "C:\\Users\\vfgtr554\\anaconda3\\envs\\cctv\\lib\\site-packages\\statsmodels\\base\\model.py:606: ConvergenceWarning: Maximum Likelihood optimization failed to converge. Check mle_retvals\n",
      "  ConvergenceWarning)\n"
     ]
    },
    {
     "name": "stdout",
     "output_type": "stream",
     "text": [
      "Predict Finish, 27.2597 27.1217 0.9641 0.0352 Evaluation Finish\n",
      "338: Data Load Finish, Predict Finish, 15.782 15.5063 0.5672 0.4414 Evaluation Finish\n",
      "339: Data Load Finish, Predict Finish, 7.9278 7.4141 0.2754 0.7194 Evaluation Finish\n",
      "340: Data Load Finish, Predict Finish, 2.9843 2.4347 0.0919 0.8944 Evaluation Finish\n",
      "341: Data Load Finish, Predict Finish, 7.8844 7.3198 0.272 0.721 Evaluation Finish\n",
      "342: Data Load Finish, "
     ]
    },
    {
     "name": "stderr",
     "output_type": "stream",
     "text": [
      "C:\\Users\\vfgtr554\\anaconda3\\envs\\cctv\\lib\\site-packages\\pandas\\core\\arraylike.py:364: RuntimeWarning: divide by zero encountered in log\n",
      "  result = getattr(ufunc, method)(*inputs, **kwargs)\n",
      "C:\\Users\\vfgtr554\\anaconda3\\envs\\cctv\\lib\\site-packages\\statsmodels\\base\\model.py:606: ConvergenceWarning: Maximum Likelihood optimization failed to converge. Check mle_retvals\n",
      "  ConvergenceWarning)\n"
     ]
    },
    {
     "name": "stdout",
     "output_type": "stream",
     "text": [
      "Predict Finish, 27.2597 27.1217 0.9641 0.0352 Evaluation Finish\n",
      "343: Data Load Finish, Predict Finish, 8.2293 7.7482 0.2878 0.7087 Evaluation Finish\n",
      "344: Data Load Finish, Predict Finish, 3.7458 3.2106 0.1217 0.8674 Evaluation Finish\n",
      "345: Data Load Finish, Predict Finish, 3.2332 2.5767 0.0985 0.8856 Evaluation Finish\n",
      "346: Data Load Finish, Predict Finish, 11.8086 11.4459 0.4007 0.5821 Evaluation Finish\n",
      "347: Data Load Finish, Predict Finish, 2.7686 2.4552 0.0873 0.902 Evaluation Finish\n",
      "348: Data Load Finish, Predict Finish, 8.4089 7.9759 0.2959 0.7024 Evaluation Finish\n",
      "349: Data Load Finish, Predict Finish, 8.1713 7.6454 0.2643 0.7108 Evaluation Finish\n",
      "350: Data Load Finish, Predict Finish, 13.3113 13.05 0.4595 0.5289 Evaluation Finish\n",
      "351: Data Load Finish, Predict Finish, 4.2236 3.4422 0.1152 0.8505 Evaluation Finish\n",
      "352: Data Load Finish, Predict Finish, 4.2959 3.5647 0.1197 0.848 Evaluation Finish\n",
      "353: Data Load Finish, Predict Finish, 3.205 2.5754 0.0985 0.8866 Evaluation Finish\n",
      "354: Data Load Finish, Predict Finish, 3.9456 3.2561 0.1248 0.8604 Evaluation Finish\n",
      "355: Data Load Finish, Predict Finish, 3.8778 3.1734 0.1218 0.8628 Evaluation Finish\n",
      "356: Data Load Finish, Predict Finish, 2.7664 2.4596 0.0906 0.9021 Evaluation Finish\n",
      "357: Data Load Finish, Predict Finish, 3.6815 2.8795 0.1115 0.8697 Evaluation Finish\n",
      "358: Data Load Finish, Predict Finish, 2.7349 2.4452 0.0875 0.9032 Evaluation Finish\n",
      "359: Data Load Finish, Predict Finish, 3.3184 2.654 0.1014 0.8826 Evaluation Finish\n",
      "360: Data Load Finish, Predict Finish, 3.6771 3.1415 0.119 0.8699 Evaluation Finish\n",
      "361: Data Load Finish, Predict Finish, 3.9999 3.4449 0.1307 0.8584 Evaluation Finish\n",
      "362: Data Load Finish, Predict Finish, 4.4461 3.6778 0.1233 0.8426 Evaluation Finish\n",
      "363: Data Load Finish, Predict Finish, 8.5054 8.0636 0.2801 0.699 Evaluation Finish\n",
      "364: Data Load Finish, Predict Finish, 7.4479 6.9271 0.239 0.7364 Evaluation Finish\n",
      "365: Data Load Finish, Predict Finish, 5.2492 4.6361 0.1746 0.8142 Evaluation Finish\n",
      "366: Data Load Finish, Predict Finish, 3.3183 2.8252 0.0965 0.8826 Evaluation Finish\n",
      "367: Data Load Finish, Predict Finish, 6.3482 5.7063 0.2145 0.7753 Evaluation Finish\n",
      "368: Data Load Finish, Predict Finish, 4.2013 3.4923 0.1174 0.8513 Evaluation Finish\n",
      "369: Data Load Finish, Predict Finish, 3.775 2.8594 0.0951 0.8664 Evaluation Finish\n",
      "370: Data Load Finish, Predict Finish, 3.6447 3.3615 0.123 0.871 Evaluation Finish\n",
      "371: Data Load Finish, Predict Finish, 2.795 2.4565 0.09 0.9011 Evaluation Finish\n",
      "372: Data Load Finish, Predict Finish, 15.3818 15.1215 0.552 0.4556 Evaluation Finish\n",
      "373: Data Load Finish, Predict Finish, 5.3812 4.6213 0.1565 0.8095 Evaluation Finish\n",
      "374: Data Load Finish, Predict Finish, 7.6283 7.1222 0.2655 0.73 Evaluation Finish\n",
      "375: Data Load Finish, Predict Finish, 38.9778 38.8755 1.4055 -0.3795 Evaluation Finish\n",
      "376: Data Load Finish, Predict Finish, 55.9281 55.8609 2.0151 -0.9794 Evaluation Finish\n",
      "377: Data Load Finish, Predict Finish, 30.3745 30.2427 1.0954 -0.075 Evaluation Finish\n",
      "378: Data Load Finish, Predict Finish, 30.2401 30.0752 1.089 -0.0703 Evaluation Finish\n",
      "379: Data Load Finish, Predict Finish, 3.7484 3.3864 0.1245 0.8673 Evaluation Finish\n",
      "380: Data Load Finish, Predict Finish, 7.1804 6.5228 0.2427 0.7459 Evaluation Finish\n",
      "381: Data Load Finish, Predict Finish, 4.0923 3.0785 0.1018 0.8552 Evaluation Finish\n",
      "382: Data Load Finish, Predict Finish, 4.8096 4.4067 0.1641 0.8298 Evaluation Finish\n",
      "383: Data Load Finish, Predict Finish, 2.8202 2.4497 0.0879 0.9002 Evaluation Finish\n",
      "384: Data Load Finish, Predict Finish, 4.0229 3.3566 0.1131 0.8576 Evaluation Finish\n",
      "385: Data Load Finish, "
     ]
    },
    {
     "name": "stderr",
     "output_type": "stream",
     "text": [
      "C:\\Users\\vfgtr554\\anaconda3\\envs\\cctv\\lib\\site-packages\\pandas\\core\\arraylike.py:364: RuntimeWarning: divide by zero encountered in log\n",
      "  result = getattr(ufunc, method)(*inputs, **kwargs)\n",
      "C:\\Users\\vfgtr554\\anaconda3\\envs\\cctv\\lib\\site-packages\\statsmodels\\base\\model.py:606: ConvergenceWarning: Maximum Likelihood optimization failed to converge. Check mle_retvals\n",
      "  ConvergenceWarning)\n"
     ]
    },
    {
     "name": "stdout",
     "output_type": "stream",
     "text": [
      "Predict Finish, 27.2597 27.1217 0.9641 0.0352 Evaluation Finish\n",
      "386: Data Load Finish, Predict Finish, 3.2709 2.6335 0.1004 0.8842 Evaluation Finish\n",
      "387: Data Load Finish, Predict Finish, 3.5413 2.8595 0.1096 0.8747 Evaluation Finish\n",
      "388: Data Load Finish, Predict Finish, 2.7517 2.4778 0.0893 0.9026 Evaluation Finish\n",
      "389: Data Load Finish, Predict Finish, 18.743 18.5413 0.6755 0.3366 Evaluation Finish\n",
      "390: Data Load Finish, "
     ]
    },
    {
     "name": "stderr",
     "output_type": "stream",
     "text": [
      "C:\\Users\\vfgtr554\\anaconda3\\envs\\cctv\\lib\\site-packages\\pandas\\core\\arraylike.py:364: RuntimeWarning: divide by zero encountered in log\n",
      "  result = getattr(ufunc, method)(*inputs, **kwargs)\n",
      "C:\\Users\\vfgtr554\\anaconda3\\envs\\cctv\\lib\\site-packages\\statsmodels\\base\\model.py:606: ConvergenceWarning: Maximum Likelihood optimization failed to converge. Check mle_retvals\n",
      "  ConvergenceWarning)\n"
     ]
    },
    {
     "name": "stdout",
     "output_type": "stream",
     "text": [
      "Predict Finish, 27.2597 27.1217 0.9641 0.0352 Evaluation Finish\n",
      "391: Data Load Finish, Predict Finish, 7.9147 7.4593 0.2592 0.7199 Evaluation Finish\n",
      "392: Data Load Finish, Predict Finish, 9.2689 8.7182 0.3022 0.672 Evaluation Finish\n",
      "393: Data Load Finish, Predict Finish, 6.1824 5.5503 0.1898 0.7812 Evaluation Finish\n",
      "394: Data Load Finish, Predict Finish, 4.3219 3.5594 0.1193 0.847 Evaluation Finish\n",
      "395: Data Load Finish, Predict Finish, 7.0668 6.5236 0.2249 0.7499 Evaluation Finish\n",
      "396: Data Load Finish, Predict Finish, 4.5395 3.65 0.1217 0.8393 Evaluation Finish\n",
      "397: Data Load Finish, Predict Finish, 3.918 3.0521 0.1183 0.8613 Evaluation Finish\n",
      "398: Data Load Finish, Predict Finish, 6.5134 5.9342 0.2048 0.7695 Evaluation Finish\n",
      "399: Data Load Finish, Predict Finish, 6.5683 5.8982 0.203 0.7675 Evaluation Finish\n",
      "400: Data Load Finish, Predict Finish, 10.278 9.8498 0.3434 0.6362 Evaluation Finish\n",
      "401: Data Load Finish, Predict Finish, 5.5119 4.8119 0.1635 0.8049 Evaluation Finish\n",
      "402: Data Load Finish, Predict Finish, 4.9796 4.0642 0.1371 0.8238 Evaluation Finish\n",
      "403: Data Load Finish, Predict Finish, 7.2582 6.7141 0.2312 0.7431 Evaluation Finish\n",
      "404: Data Load Finish, Predict Finish, 6.9106 6.3423 0.2184 0.7554 Evaluation Finish\n",
      "405: Data Load Finish, Predict Finish, 5.2768 4.5088 0.1716 0.8132 Evaluation Finish\n",
      "406: Data Load Finish, Predict Finish, 2.7881 2.4471 0.0906 0.9013 Evaluation Finish\n",
      "407: Data Load Finish, Predict Finish, 2.8137 2.4249 0.0886 0.9004 Evaluation Finish\n",
      "408: Data Load Finish, Predict Finish, 2.7609 2.4681 0.0904 0.9023 Evaluation Finish\n",
      "409: Data Load Finish, Predict Finish, 3.7162 3.177 0.1205 0.8685 Evaluation Finish\n",
      "410: Data Load Finish, Predict Finish, 2.99 2.5912 0.09 0.8942 Evaluation Finish\n",
      "411: Data Load Finish, Predict Finish, 3.1723 2.6779 0.0918 0.8877 Evaluation Finish\n",
      "412: Data Load Finish, Predict Finish, 10.6685 10.1879 0.3768 0.6224 Evaluation Finish\n",
      "413: Data Load Finish, Predict Finish, 5.6735 4.928 0.169 0.7992 Evaluation Finish\n",
      "414: Data Load Finish, Predict Finish, 3.638 3.3002 0.1217 0.8712 Evaluation Finish\n",
      "415: Data Load Finish, Predict Finish, 2.8867 2.4003 0.0829 0.8978 Evaluation Finish\n",
      "416: Data Load Finish, Predict Finish, 3.6324 2.9762 0.1119 0.8714 Evaluation Finish\n",
      "417: Data Load Finish, Predict Finish, 3.4033 2.5125 0.085 0.8795 Evaluation Finish\n",
      "418: Data Load Finish, Predict Finish, 16.8817 16.6563 0.6074 0.4025 Evaluation Finish\n",
      "419: Data Load Finish, Predict Finish, 8.6007 8.172 0.284 0.6956 Evaluation Finish\n",
      "420: Data Load Finish, Predict Finish, 3.7749 3.3908 0.1258 0.8664 Evaluation Finish\n",
      "421: Data Load Finish, Predict Finish, 3.6406 2.9234 0.1118 0.8712 Evaluation Finish\n",
      "422: Data Load Finish, Predict Finish, 6.994 6.3706 0.2185 0.7525 Evaluation Finish\n",
      "423: Data Load Finish, Predict Finish, 3.8577 3.2219 0.1231 0.8635 Evaluation Finish\n",
      "424: Data Load Finish, Predict Finish, 6.0359 5.4056 0.202 0.7864 Evaluation Finish\n",
      "425: Data Load Finish, Predict Finish, 3.5651 3.0827 0.1055 0.8738 Evaluation Finish\n",
      "426: Data Load Finish, Predict Finish, 16.4761 16.2432 0.5928 0.4169 Evaluation Finish\n",
      "427: Data Load Finish, Predict Finish, 27.0428 26.9009 0.9757 0.0429 Evaluation Finish\n",
      "428: Data Load Finish, Predict Finish, 33.0928 32.7542 1.1827 -0.1712 Evaluation Finish\n",
      "429: Data Load Finish, Predict Finish, 33.186 33.0384 1.1956 -0.1745 Evaluation Finish\n",
      "430: Data Load Finish, "
     ]
    },
    {
     "name": "stderr",
     "output_type": "stream",
     "text": [
      "C:\\Users\\vfgtr554\\anaconda3\\envs\\cctv\\lib\\site-packages\\statsmodels\\base\\model.py:606: ConvergenceWarning: Maximum Likelihood optimization failed to converge. Check mle_retvals\n",
      "  ConvergenceWarning)\n"
     ]
    },
    {
     "name": "stdout",
     "output_type": "stream",
     "text": [
      "Predict Finish, 29.6982 29.5202 1.071 -0.0511 Evaluation Finish\n",
      "431: Data Load Finish, Predict Finish, 22.3892 22.2255 0.8073 0.2076 Evaluation Finish\n",
      "432: Data Load Finish, Predict Finish, 12.0167 11.6103 0.4061 0.5747 Evaluation Finish\n",
      "433: Data Load Finish, Predict Finish, 15.4366 15.2059 0.5366 0.4537 Evaluation Finish\n",
      "434: Data Load Finish, Predict Finish, 7.3889 6.8952 0.2382 0.7385 Evaluation Finish\n",
      "435: Data Load Finish, Predict Finish, 8.1142 7.6554 0.2664 0.7128 Evaluation Finish\n",
      "436: Data Load Finish, Predict Finish, 11.4278 11.0439 0.3862 0.5955 Evaluation Finish\n",
      "437: Data Load Finish, Predict Finish, 4.6118 3.4929 0.1184 0.8368 Evaluation Finish\n",
      "438: Data Load Finish, Predict Finish, 4.1776 3.5117 0.1184 0.8521 Evaluation Finish\n",
      "439: Data Load Finish, Predict Finish, 2.9579 2.6208 0.0923 0.8953 Evaluation Finish\n",
      "440: Data Load Finish, Predict Finish, 6.4191 5.7092 0.2154 0.7728 Evaluation Finish\n",
      "441: Data Load Finish, Predict Finish, 3.113 2.4822 0.0949 0.8898 Evaluation Finish\n",
      "442: Data Load Finish, Predict Finish, 4.2917 3.2525 0.1268 0.8481 Evaluation Finish\n",
      "443: Data Load Finish, Predict Finish, 8.1861 7.6341 0.2637 0.7103 Evaluation Finish\n",
      "444: Data Load Finish, Predict Finish, 7.0756 6.5746 0.2271 0.7496 Evaluation Finish\n",
      "445: Data Load Finish, Predict Finish, 6.0411 5.2918 0.1807 0.7862 Evaluation Finish\n",
      "446: Data Load Finish, Predict Finish, 3.0483 2.6337 0.0908 0.8921 Evaluation Finish\n",
      "447: Data Load Finish, Predict Finish, 3.0958 2.6569 0.0913 0.8904 Evaluation Finish\n",
      "448: Data Load Finish, Predict Finish, 7.5769 7.0738 0.2637 0.7318 Evaluation Finish\n",
      "449: Data Load Finish, Predict Finish, 5.1939 4.4321 0.1497 0.8162 Evaluation Finish\n",
      "450: Data Load Finish, Predict Finish, 4.4019 3.6196 0.1212 0.8442 Evaluation Finish\n",
      "451: Data Load Finish, Predict Finish, 3.3351 2.9421 0.1097 0.882 Evaluation Finish\n",
      "452: Data Load Finish, Predict Finish, 3.7994 3.4945 0.1223 0.8655 Evaluation Finish\n",
      "453: Data Load Finish, Predict Finish, 3.9691 3.3244 0.1127 0.8595 Evaluation Finish\n",
      "454: "
     ]
    },
    {
     "name": "stderr",
     "output_type": "stream",
     "text": [
      "C:\\Users\\vfgtr554\\anaconda3\\envs\\cctv\\lib\\site-packages\\pandas\\core\\arraylike.py:364: RuntimeWarning: divide by zero encountered in log\n",
      "  result = getattr(ufunc, method)(*inputs, **kwargs)\n"
     ]
    },
    {
     "name": "stdout",
     "output_type": "stream",
     "text": [
      "Data Load Finish, "
     ]
    },
    {
     "name": "stderr",
     "output_type": "stream",
     "text": [
      "C:\\Users\\vfgtr554\\anaconda3\\envs\\cctv\\lib\\site-packages\\statsmodels\\base\\model.py:606: ConvergenceWarning: Maximum Likelihood optimization failed to converge. Check mle_retvals\n",
      "  ConvergenceWarning)\n"
     ]
    },
    {
     "name": "stdout",
     "output_type": "stream",
     "text": [
      "Predict Finish, 27.2597 27.1217 0.9641 0.0352 Evaluation Finish\n",
      "455: Data Load Finish, Predict Finish, 11.3196 10.9581 0.3835 0.5994 Evaluation Finish\n",
      "456: Data Load Finish, Predict Finish, 5.5314 4.7541 0.1607 0.8042 Evaluation Finish\n",
      "457: Data Load Finish, Predict Finish, 6.1608 5.5143 0.1882 0.782 Evaluation Finish\n",
      "458: Data Load Finish, Predict Finish, 3.2968 2.576 0.0873 0.8833 Evaluation Finish\n",
      "459: Data Load Finish, Predict Finish, 2.9142 2.4594 0.0924 0.8969 Evaluation Finish\n",
      "460: Data Load Finish, Predict Finish, 8.4801 8.0264 0.2784 0.6999 Evaluation Finish\n",
      "461: Data Load Finish, Predict Finish, 6.4628 5.5601 0.1898 0.7713 Evaluation Finish\n",
      "462: Data Load Finish, Predict Finish, 3.5192 2.9109 0.0985 0.8754 Evaluation Finish\n",
      "463: Data Load Finish, Predict Finish, 7.7544 7.2456 0.2503 0.7256 Evaluation Finish\n",
      "464: Data Load Finish, Predict Finish, 2.8795 2.4452 0.0908 0.8981 Evaluation Finish\n",
      "465: Data Load Finish, Predict Finish, 8.7012 8.1882 0.2838 0.692 Evaluation Finish\n",
      "466: Data Load Finish, Predict Finish, 9.9457 9.5463 0.3328 0.648 Evaluation Finish\n",
      "467: Data Load Finish, Predict Finish, 2.9321 2.4498 0.0923 0.8962 Evaluation Finish\n",
      "468: Data Load Finish, Predict Finish, 11.2483 10.9043 0.4012 0.6019 Evaluation Finish\n",
      "469: Data Load Finish, Predict Finish, 2.7864 2.4144 0.0899 0.9014 Evaluation Finish\n",
      "470: Data Load Finish, Predict Finish, 11.538 11.2208 0.3934 0.5916 Evaluation Finish\n",
      "471: Data Load Finish, Predict Finish, 3.0264 2.6623 0.0926 0.8929 Evaluation Finish\n",
      "472: Data Load Finish, Predict Finish, 8.0776 7.4624 0.26 0.7141 Evaluation Finish\n",
      "473: Data Load Finish, Predict Finish, 6.938 6.3773 0.2192 0.7544 Evaluation Finish\n",
      "474: Data Load Finish, Predict Finish, 4.9858 4.166 0.1593 0.8235 Evaluation Finish\n",
      "475: "
     ]
    },
    {
     "name": "stderr",
     "output_type": "stream",
     "text": [
      "C:\\Users\\vfgtr554\\anaconda3\\envs\\cctv\\lib\\site-packages\\pandas\\core\\arraylike.py:364: RuntimeWarning: divide by zero encountered in log\n",
      "  result = getattr(ufunc, method)(*inputs, **kwargs)\n"
     ]
    },
    {
     "name": "stdout",
     "output_type": "stream",
     "text": [
      "Data Load Finish, "
     ]
    },
    {
     "name": "stderr",
     "output_type": "stream",
     "text": [
      "C:\\Users\\vfgtr554\\anaconda3\\envs\\cctv\\lib\\site-packages\\statsmodels\\base\\model.py:606: ConvergenceWarning: Maximum Likelihood optimization failed to converge. Check mle_retvals\n",
      "  ConvergenceWarning)\n"
     ]
    },
    {
     "name": "stdout",
     "output_type": "stream",
     "text": [
      "Predict Finish, 27.2597 27.1217 0.9641 0.0352 Evaluation Finish\n",
      "476: Data Load Finish, Predict Finish, 5.1923 4.4279 0.1494 0.8162 Evaluation Finish\n",
      "477: Data Load Finish, Predict Finish, 3.0705 2.3956 0.0817 0.8913 Evaluation Finish\n",
      "478: Data Load Finish, Predict Finish, 5.5238 4.7818 0.1623 0.8045 Evaluation Finish\n",
      "479: Data Load Finish, Predict Finish, 4.6655 3.996 0.1351 0.8349 Evaluation Finish\n",
      "480: Data Load Finish, Predict Finish, 4.3069 3.2544 0.1075 0.8476 Evaluation Finish\n",
      "481: Data Load Finish, Predict Finish, 2.9117 2.4338 0.0845 0.8969 Evaluation Finish\n",
      "482: Data Load Finish, Predict Finish, 10.2936 9.923 0.3466 0.6357 Evaluation Finish\n",
      "483: Data Load Finish, Predict Finish, 3.0956 2.3834 0.0813 0.8904 Evaluation Finish\n",
      "484: Data Load Finish, Predict Finish, 3.788 3.1006 0.1043 0.8659 Evaluation Finish\n",
      "485: Data Load Finish, Predict Finish, 3.3796 2.9492 0.1013 0.8804 Evaluation Finish\n",
      "486: Data Load Finish, Predict Finish, 3.8677 3.2245 0.1089 0.8631 Evaluation Finish\n",
      "487: Data Load Finish, Predict Finish, 11.1954 10.8589 0.3997 0.6038 Evaluation Finish\n",
      "488: Data Load Finish, Predict Finish, 4.2787 3.6414 0.1387 0.8486 Evaluation Finish\n",
      "489: Data Load Finish, Predict Finish, 13.48 13.2241 0.4841 0.5229 Evaluation Finish\n",
      "490: Data Load Finish, Predict Finish, 10.3447 9.9763 0.368 0.6339 Evaluation Finish\n",
      "491: Data Load Finish, Predict Finish, 8.0204 7.4431 0.2567 0.7161 Evaluation Finish\n",
      "492: Data Load Finish, Predict Finish, 6.5564 5.924 0.2041 0.768 Evaluation Finish\n",
      "493: Data Load Finish, "
     ]
    },
    {
     "name": "stderr",
     "output_type": "stream",
     "text": [
      "C:\\Users\\vfgtr554\\anaconda3\\envs\\cctv\\lib\\site-packages\\pandas\\core\\arraylike.py:364: RuntimeWarning: divide by zero encountered in log\n",
      "  result = getattr(ufunc, method)(*inputs, **kwargs)\n",
      "C:\\Users\\vfgtr554\\anaconda3\\envs\\cctv\\lib\\site-packages\\statsmodels\\base\\model.py:606: ConvergenceWarning: Maximum Likelihood optimization failed to converge. Check mle_retvals\n",
      "  ConvergenceWarning)\n"
     ]
    },
    {
     "name": "stdout",
     "output_type": "stream",
     "text": [
      "Predict Finish, 27.2597 27.1217 0.9641 0.0352 Evaluation Finish\n",
      "494: Data Load Finish, Predict Finish, 3.6057 2.3149 0.077 0.8724 Evaluation Finish\n",
      "495: Data Load Finish, Predict Finish, 3.6081 3.443 0.1239 0.8723 Evaluation Finish\n",
      "496: Data Load Finish, Predict Finish, 2.9091 2.5417 0.0885 0.897 Evaluation Finish\n",
      "497: Data Load Finish, Predict Finish, 3.3857 2.9448 0.1011 0.8802 Evaluation Finish\n",
      "498: Data Load Finish, Predict Finish, 4.9647 4.1456 0.1586 0.8243 Evaluation Finish\n",
      "499: Data Load Finish, Predict Finish, 2.7226 2.4348 0.0888 0.9036 Evaluation Finish\n",
      "500: Data Load Finish, "
     ]
    },
    {
     "name": "stderr",
     "output_type": "stream",
     "text": [
      "C:\\Users\\vfgtr554\\anaconda3\\envs\\cctv\\lib\\site-packages\\pandas\\core\\arraylike.py:364: RuntimeWarning: divide by zero encountered in log\n",
      "  result = getattr(ufunc, method)(*inputs, **kwargs)\n",
      "C:\\Users\\vfgtr554\\anaconda3\\envs\\cctv\\lib\\site-packages\\statsmodels\\base\\model.py:606: ConvergenceWarning: Maximum Likelihood optimization failed to converge. Check mle_retvals\n",
      "  ConvergenceWarning)\n"
     ]
    },
    {
     "name": "stdout",
     "output_type": "stream",
     "text": [
      "Predict Finish, 27.2597 27.1217 0.9641 0.0352 Evaluation Finish\n",
      "501: Data Load Finish, Predict Finish, 2.8904 2.4416 0.0916 0.8977 Evaluation Finish\n",
      "502: Data Load Finish, Predict Finish, 3.1034 2.8457 0.1047 0.8902 Evaluation Finish\n",
      "503: Data Load Finish, Predict Finish, 4.1223 2.9966 0.0993 0.8541 Evaluation Finish\n",
      "504: Data Load Finish, Predict Finish, 2.6492 2.2848 0.0837 0.9062 Evaluation Finish\n",
      "505: Data Load Finish, Predict Finish, 9.4525 8.9353 0.3101 0.6655 Evaluation Finish\n",
      "RMSE: 9.0750453694875, MAE: 8.565000946620328, MAPE: 0.3047276916439705\n",
      "ACC: 0.6834689712467775\n"
     ]
    }
   ],
   "source": [
    "predictARIMA(df, idx, 6)"
   ]
  },
  {
   "cell_type": "markdown",
   "id": "8624171f",
   "metadata": {},
   "source": [
    "### Unobserved Nodes = 20%"
   ]
  },
  {
   "cell_type": "code",
   "execution_count": 14,
   "id": "a8313c43",
   "metadata": {},
   "outputs": [
    {
     "name": "stdout",
     "output_type": "stream",
     "text": [
      "2880 506\n"
     ]
    },
    {
     "data": {
      "text/plain": [
       "290880"
      ]
     },
     "execution_count": 14,
     "metadata": {},
     "output_type": "execute_result"
    }
   ],
   "source": [
    "df, idx = csvIndexToDatetime(path_20, start, freq)\n",
    "(df == 0).sum().sum()"
   ]
  },
  {
   "cell_type": "code",
   "execution_count": 15,
   "id": "5ce0fefa",
   "metadata": {
    "scrolled": false
   },
   "outputs": [
    {
     "name": "stdout",
     "output_type": "stream",
     "text": [
      "0: Data Load Finish, Predict Finish, 3.2028 2.8599 0.1005 0.8866 Evaluation Finish\n",
      "1: Data Load Finish, Predict Finish, 3.8612 3.0704 0.1026 0.8633 Evaluation Finish\n",
      "2: Data Load Finish, Predict Finish, 5.8793 5.1538 0.1952 0.7919 Evaluation Finish\n",
      "3: Data Load Finish, "
     ]
    },
    {
     "name": "stderr",
     "output_type": "stream",
     "text": [
      "C:\\Users\\vfgtr554\\anaconda3\\envs\\cctv\\lib\\site-packages\\pandas\\core\\arraylike.py:364: RuntimeWarning: divide by zero encountered in log\n",
      "  result = getattr(ufunc, method)(*inputs, **kwargs)\n",
      "C:\\Users\\vfgtr554\\anaconda3\\envs\\cctv\\lib\\site-packages\\statsmodels\\base\\model.py:606: ConvergenceWarning: Maximum Likelihood optimization failed to converge. Check mle_retvals\n",
      "  ConvergenceWarning)\n"
     ]
    },
    {
     "name": "stdout",
     "output_type": "stream",
     "text": [
      "Predict Finish, 27.2597 27.1217 0.9641 0.0352 Evaluation Finish\n",
      "4: Data Load Finish, Predict Finish, 7.0359 6.3972 0.221 0.751 Evaluation Finish\n",
      "5: Data Load Finish, Predict Finish, 6.7796 6.1555 0.2109 0.7601 Evaluation Finish\n",
      "6: Data Load Finish, Predict Finish, 3.8622 3.244 0.11 0.8633 Evaluation Finish\n",
      "7: Data Load Finish, Predict Finish, 7.1127 6.5232 0.2251 0.7483 Evaluation Finish\n",
      "8: Data Load Finish, "
     ]
    },
    {
     "name": "stderr",
     "output_type": "stream",
     "text": [
      "C:\\Users\\vfgtr554\\anaconda3\\envs\\cctv\\lib\\site-packages\\pandas\\core\\arraylike.py:364: RuntimeWarning: divide by zero encountered in log\n",
      "  result = getattr(ufunc, method)(*inputs, **kwargs)\n",
      "C:\\Users\\vfgtr554\\anaconda3\\envs\\cctv\\lib\\site-packages\\statsmodels\\base\\model.py:606: ConvergenceWarning: Maximum Likelihood optimization failed to converge. Check mle_retvals\n",
      "  ConvergenceWarning)\n"
     ]
    },
    {
     "name": "stdout",
     "output_type": "stream",
     "text": [
      "Predict Finish, 27.2597 27.1217 0.9641 0.0352 Evaluation Finish\n",
      "9: Data Load Finish, Predict Finish, 9.3777 8.9684 0.3122 0.6681 Evaluation Finish\n",
      "10: Data Load Finish, "
     ]
    },
    {
     "name": "stderr",
     "output_type": "stream",
     "text": [
      "C:\\Users\\vfgtr554\\anaconda3\\envs\\cctv\\lib\\site-packages\\pandas\\core\\arraylike.py:364: RuntimeWarning: divide by zero encountered in log\n",
      "  result = getattr(ufunc, method)(*inputs, **kwargs)\n",
      "C:\\Users\\vfgtr554\\anaconda3\\envs\\cctv\\lib\\site-packages\\statsmodels\\base\\model.py:606: ConvergenceWarning: Maximum Likelihood optimization failed to converge. Check mle_retvals\n",
      "  ConvergenceWarning)\n"
     ]
    },
    {
     "name": "stdout",
     "output_type": "stream",
     "text": [
      "Predict Finish, 27.2597 27.1217 0.9641 0.0352 Evaluation Finish\n",
      "11: Data Load Finish, Predict Finish, 2.8575 2.4735 0.0871 0.8989 Evaluation Finish\n",
      "12: Data Load Finish, Predict Finish, 16.2414 16.0177 0.5847 0.4252 Evaluation Finish\n",
      "13: Data Load Finish, Predict Finish, 28.5705 28.4349 1.0307 -0.0112 Evaluation Finish\n",
      "14: Data Load Finish, Predict Finish, 29.2071 29.0772 1.0539 -0.0337 Evaluation Finish\n",
      "15: Data Load Finish, Predict Finish, 18.4296 18.2241 0.6641 0.3477 Evaluation Finish\n",
      "16: Data Load Finish, Predict Finish, 3.6007 2.9842 0.1138 0.8726 Evaluation Finish\n",
      "17: Data Load Finish, "
     ]
    },
    {
     "name": "stderr",
     "output_type": "stream",
     "text": [
      "C:\\Users\\vfgtr554\\anaconda3\\envs\\cctv\\lib\\site-packages\\pandas\\core\\arraylike.py:364: RuntimeWarning: divide by zero encountered in log\n",
      "  result = getattr(ufunc, method)(*inputs, **kwargs)\n",
      "C:\\Users\\vfgtr554\\anaconda3\\envs\\cctv\\lib\\site-packages\\statsmodels\\base\\model.py:606: ConvergenceWarning: Maximum Likelihood optimization failed to converge. Check mle_retvals\n",
      "  ConvergenceWarning)\n"
     ]
    },
    {
     "name": "stdout",
     "output_type": "stream",
     "text": [
      "Predict Finish, 27.2597 27.1217 0.9641 0.0352 Evaluation Finish\n",
      "18: Data Load Finish, Predict Finish, 2.8274 2.4974 0.0894 0.8999 Evaluation Finish\n",
      "19: Data Load Finish, "
     ]
    },
    {
     "name": "stderr",
     "output_type": "stream",
     "text": [
      "C:\\Users\\vfgtr554\\anaconda3\\envs\\cctv\\lib\\site-packages\\pandas\\core\\arraylike.py:364: RuntimeWarning: divide by zero encountered in log\n",
      "  result = getattr(ufunc, method)(*inputs, **kwargs)\n",
      "C:\\Users\\vfgtr554\\anaconda3\\envs\\cctv\\lib\\site-packages\\statsmodels\\base\\model.py:606: ConvergenceWarning: Maximum Likelihood optimization failed to converge. Check mle_retvals\n",
      "  ConvergenceWarning)\n"
     ]
    },
    {
     "name": "stdout",
     "output_type": "stream",
     "text": [
      "Predict Finish, 27.2597 27.1217 0.9641 0.0352 Evaluation Finish\n",
      "20: Data Load Finish, Predict Finish, 9.1318 8.6991 0.3024 0.6768 Evaluation Finish\n",
      "21: Data Load Finish, "
     ]
    },
    {
     "name": "stderr",
     "output_type": "stream",
     "text": [
      "C:\\Users\\vfgtr554\\anaconda3\\envs\\cctv\\lib\\site-packages\\pandas\\core\\arraylike.py:364: RuntimeWarning: divide by zero encountered in log\n",
      "  result = getattr(ufunc, method)(*inputs, **kwargs)\n",
      "C:\\Users\\vfgtr554\\anaconda3\\envs\\cctv\\lib\\site-packages\\statsmodels\\base\\model.py:606: ConvergenceWarning: Maximum Likelihood optimization failed to converge. Check mle_retvals\n",
      "  ConvergenceWarning)\n"
     ]
    },
    {
     "name": "stdout",
     "output_type": "stream",
     "text": [
      "Predict Finish, 27.2597 27.1217 0.9641 0.0352 Evaluation Finish\n",
      "22: Data Load Finish, Predict Finish, 3.0268 2.3299 0.0797 0.8929 Evaluation Finish\n",
      "23: Data Load Finish, Predict Finish, 2.8107 2.4562 0.0878 0.9005 Evaluation Finish\n",
      "24: Data Load Finish, Predict Finish, 12.8106 12.518 0.4592 0.5466 Evaluation Finish\n",
      "25: Data Load Finish, Predict Finish, 5.4208 4.606 0.1554 0.8081 Evaluation Finish\n",
      "26: Data Load Finish, Predict Finish, 5.6008 4.7735 0.1611 0.8018 Evaluation Finish\n",
      "27: Data Load Finish, Predict Finish, 4.8752 4.0531 0.137 0.8275 Evaluation Finish\n",
      "28: Data Load Finish, Predict Finish, 6.1032 5.3875 0.2016 0.784 Evaluation Finish\n",
      "29: Data Load Finish, Predict Finish, 5.2072 4.369 0.147 0.8157 Evaluation Finish\n",
      "30: Data Load Finish, Predict Finish, 2.7735 2.4084 0.0896 0.9018 Evaluation Finish\n",
      "31: Data Load Finish, Predict Finish, 3.1294 2.7594 0.0957 0.8892 Evaluation Finish\n",
      "32: "
     ]
    },
    {
     "name": "stderr",
     "output_type": "stream",
     "text": [
      "C:\\Users\\vfgtr554\\anaconda3\\envs\\cctv\\lib\\site-packages\\pandas\\core\\arraylike.py:364: RuntimeWarning: divide by zero encountered in log\n",
      "  result = getattr(ufunc, method)(*inputs, **kwargs)\n"
     ]
    },
    {
     "name": "stdout",
     "output_type": "stream",
     "text": [
      "Data Load Finish, "
     ]
    },
    {
     "name": "stderr",
     "output_type": "stream",
     "text": [
      "C:\\Users\\vfgtr554\\anaconda3\\envs\\cctv\\lib\\site-packages\\statsmodels\\base\\model.py:606: ConvergenceWarning: Maximum Likelihood optimization failed to converge. Check mle_retvals\n",
      "  ConvergenceWarning)\n",
      "C:\\Users\\vfgtr554\\anaconda3\\envs\\cctv\\lib\\site-packages\\pandas\\core\\arraylike.py:364: RuntimeWarning: divide by zero encountered in log\n",
      "  result = getattr(ufunc, method)(*inputs, **kwargs)\n"
     ]
    },
    {
     "name": "stdout",
     "output_type": "stream",
     "text": [
      "Predict Finish, 27.2597 27.1217 0.9641 0.0352 Evaluation Finish\n",
      "33: Data Load Finish, "
     ]
    },
    {
     "name": "stderr",
     "output_type": "stream",
     "text": [
      "C:\\Users\\vfgtr554\\anaconda3\\envs\\cctv\\lib\\site-packages\\statsmodels\\base\\model.py:606: ConvergenceWarning: Maximum Likelihood optimization failed to converge. Check mle_retvals\n",
      "  ConvergenceWarning)\n"
     ]
    },
    {
     "name": "stdout",
     "output_type": "stream",
     "text": [
      "Predict Finish, 27.2597 27.1217 0.9641 0.0352 Evaluation Finish\n",
      "34: Data Load Finish, Predict Finish, 4.4699 3.7512 0.1268 0.8418 Evaluation Finish\n",
      "35: Data Load Finish, Predict Finish, 6.8937 6.3324 0.2181 0.756 Evaluation Finish\n",
      "36: Data Load Finish, Predict Finish, 4.8412 4.0527 0.1366 0.8287 Evaluation Finish\n",
      "37: Data Load Finish, Predict Finish, 6.0654 5.2881 0.1794 0.7853 Evaluation Finish\n",
      "38: Data Load Finish, Predict Finish, 6.2839 5.6568 0.1943 0.7776 Evaluation Finish\n",
      "39: Data Load Finish, Predict Finish, 3.2347 2.8263 0.0974 0.8855 Evaluation Finish\n",
      "40: Data Load Finish, Predict Finish, 6.9558 5.9163 0.2007 0.7538 Evaluation Finish\n",
      "41: Data Load Finish, Predict Finish, 8.4862 8.0698 0.2811 0.6997 Evaluation Finish\n",
      "42: Data Load Finish, Predict Finish, 6.65 6.1203 0.2113 0.7646 Evaluation Finish\n",
      "43: Data Load Finish, "
     ]
    },
    {
     "name": "stderr",
     "output_type": "stream",
     "text": [
      "C:\\Users\\vfgtr554\\anaconda3\\envs\\cctv\\lib\\site-packages\\pandas\\core\\arraylike.py:364: RuntimeWarning: divide by zero encountered in log\n",
      "  result = getattr(ufunc, method)(*inputs, **kwargs)\n",
      "C:\\Users\\vfgtr554\\anaconda3\\envs\\cctv\\lib\\site-packages\\statsmodels\\base\\model.py:606: ConvergenceWarning: Maximum Likelihood optimization failed to converge. Check mle_retvals\n",
      "  ConvergenceWarning)\n"
     ]
    },
    {
     "name": "stdout",
     "output_type": "stream",
     "text": [
      "Predict Finish, 27.2597 27.1217 0.9641 0.0352 Evaluation Finish\n",
      "44: Data Load Finish, Predict Finish, 3.4394 2.8308 0.1034 0.8783 Evaluation Finish\n",
      "45: Data Load Finish, Predict Finish, 7.4554 6.9357 0.2395 0.7361 Evaluation Finish\n",
      "46: Data Load Finish, "
     ]
    },
    {
     "name": "stderr",
     "output_type": "stream",
     "text": [
      "C:\\Users\\vfgtr554\\anaconda3\\envs\\cctv\\lib\\site-packages\\pandas\\core\\arraylike.py:364: RuntimeWarning: divide by zero encountered in log\n",
      "  result = getattr(ufunc, method)(*inputs, **kwargs)\n",
      "C:\\Users\\vfgtr554\\anaconda3\\envs\\cctv\\lib\\site-packages\\statsmodels\\base\\model.py:606: ConvergenceWarning: Maximum Likelihood optimization failed to converge. Check mle_retvals\n",
      "  ConvergenceWarning)\n"
     ]
    },
    {
     "name": "stdout",
     "output_type": "stream",
     "text": [
      "Predict Finish, 27.2597 27.1217 0.9641 0.0352 Evaluation Finish\n",
      "47: Data Load Finish, Predict Finish, 4.1376 3.1182 0.1045 0.8536 Evaluation Finish\n",
      "48: Data Load Finish, "
     ]
    },
    {
     "name": "stderr",
     "output_type": "stream",
     "text": [
      "C:\\Users\\vfgtr554\\anaconda3\\envs\\cctv\\lib\\site-packages\\pandas\\core\\arraylike.py:364: RuntimeWarning: divide by zero encountered in log\n",
      "  result = getattr(ufunc, method)(*inputs, **kwargs)\n",
      "C:\\Users\\vfgtr554\\anaconda3\\envs\\cctv\\lib\\site-packages\\statsmodels\\base\\model.py:606: ConvergenceWarning: Maximum Likelihood optimization failed to converge. Check mle_retvals\n",
      "  ConvergenceWarning)\n"
     ]
    },
    {
     "name": "stdout",
     "output_type": "stream",
     "text": [
      "Predict Finish, 27.2597 27.1217 0.9641 0.0352 Evaluation Finish\n",
      "49: Data Load Finish, Predict Finish, 2.761 2.3545 0.0875 0.9023 Evaluation Finish\n",
      "50: Data Load Finish, "
     ]
    },
    {
     "name": "stderr",
     "output_type": "stream",
     "text": [
      "C:\\Users\\vfgtr554\\anaconda3\\envs\\cctv\\lib\\site-packages\\statsmodels\\base\\model.py:606: ConvergenceWarning: Maximum Likelihood optimization failed to converge. Check mle_retvals\n",
      "  ConvergenceWarning)\n"
     ]
    },
    {
     "name": "stdout",
     "output_type": "stream",
     "text": [
      "Predict Finish, 4.5086 3.7465 0.126 0.8404 Evaluation Finish\n",
      "51: Data Load Finish, Predict Finish, 7.4949 6.9935 0.2416 0.7347 Evaluation Finish\n",
      "52: Data Load Finish, Predict Finish, 10.7749 10.452 0.3664 0.6187 Evaluation Finish\n",
      "53: Data Load Finish, Predict Finish, 13.602 13.2921 0.467 0.5186 Evaluation Finish\n",
      "54: Data Load Finish, Predict Finish, 11.1781 10.8735 0.3815 0.6044 Evaluation Finish\n",
      "55: Data Load Finish, Predict Finish, 3.6353 2.9263 0.1124 0.8713 Evaluation Finish\n",
      "56: Data Load Finish, Predict Finish, 9.1087 8.6882 0.3218 0.6776 Evaluation Finish\n",
      "57: Data Load Finish, Predict Finish, 2.875 2.4498 0.091 0.8982 Evaluation Finish\n",
      "58: Data Load Finish, Predict Finish, 14.1873 13.9177 0.5095 0.4979 Evaluation Finish\n",
      "59: Data Load Finish, Predict Finish, 8.2602 7.7763 0.2886 0.7077 Evaluation Finish\n",
      "60: Data Load Finish, "
     ]
    },
    {
     "name": "stderr",
     "output_type": "stream",
     "text": [
      "C:\\Users\\vfgtr554\\anaconda3\\envs\\cctv\\lib\\site-packages\\pandas\\core\\arraylike.py:364: RuntimeWarning: divide by zero encountered in log\n",
      "  result = getattr(ufunc, method)(*inputs, **kwargs)\n",
      "C:\\Users\\vfgtr554\\anaconda3\\envs\\cctv\\lib\\site-packages\\statsmodels\\base\\model.py:606: ConvergenceWarning: Maximum Likelihood optimization failed to converge. Check mle_retvals\n",
      "  ConvergenceWarning)\n"
     ]
    },
    {
     "name": "stdout",
     "output_type": "stream",
     "text": [
      "Predict Finish, 27.2597 27.1217 0.9641 0.0352 Evaluation Finish\n",
      "61: Data Load Finish, Predict Finish, 7.6686 7.1733 0.2479 0.7286 Evaluation Finish\n",
      "62: Data Load Finish, "
     ]
    },
    {
     "name": "stderr",
     "output_type": "stream",
     "text": [
      "C:\\Users\\vfgtr554\\anaconda3\\envs\\cctv\\lib\\site-packages\\pandas\\core\\arraylike.py:364: RuntimeWarning: divide by zero encountered in log\n",
      "  result = getattr(ufunc, method)(*inputs, **kwargs)\n",
      "C:\\Users\\vfgtr554\\anaconda3\\envs\\cctv\\lib\\site-packages\\statsmodels\\base\\model.py:606: ConvergenceWarning: Maximum Likelihood optimization failed to converge. Check mle_retvals\n",
      "  ConvergenceWarning)\n"
     ]
    },
    {
     "name": "stdout",
     "output_type": "stream",
     "text": [
      "Predict Finish, 27.2597 27.1217 0.9641 0.0352 Evaluation Finish\n",
      "63: Data Load Finish, Predict Finish, 4.4857 3.9003 0.1478 0.8412 Evaluation Finish\n",
      "64: Data Load Finish, Predict Finish, 5.3775 4.5104 0.1719 0.8097 Evaluation Finish\n",
      "65: Data Load Finish, Predict Finish, 6.9464 6.2571 0.2143 0.7542 Evaluation Finish\n",
      "66: Data Load Finish, Predict Finish, 3.1659 2.7933 0.0966 0.888 Evaluation Finish\n",
      "67: Data Load Finish, Predict Finish, 8.1903 7.6496 0.2645 0.7101 Evaluation Finish\n",
      "68: Data Load Finish, Predict Finish, 3.8055 3.0122 0.1007 0.8653 Evaluation Finish\n",
      "69: Data Load Finish, "
     ]
    },
    {
     "name": "stderr",
     "output_type": "stream",
     "text": [
      "C:\\Users\\vfgtr554\\anaconda3\\envs\\cctv\\lib\\site-packages\\pandas\\core\\arraylike.py:364: RuntimeWarning: divide by zero encountered in log\n",
      "  result = getattr(ufunc, method)(*inputs, **kwargs)\n",
      "C:\\Users\\vfgtr554\\anaconda3\\envs\\cctv\\lib\\site-packages\\statsmodels\\base\\model.py:606: ConvergenceWarning: Maximum Likelihood optimization failed to converge. Check mle_retvals\n",
      "  ConvergenceWarning)\n"
     ]
    },
    {
     "name": "stdout",
     "output_type": "stream",
     "text": [
      "Predict Finish, 27.2597 27.1217 0.9641 0.0352 Evaluation Finish\n",
      "70: Data Load Finish, Predict Finish, 25.1701 25.0286 0.9078 0.1092 Evaluation Finish\n",
      "71: Data Load Finish, Predict Finish, 30.6438 30.5301 1.1056 -0.0846 Evaluation Finish\n",
      "72: Data Load Finish, Predict Finish, 31.0792 30.9564 1.1211 -0.1 Evaluation Finish\n",
      "73: Data Load Finish, Predict Finish, 29.2748 29.1087 1.0545 -0.0361 Evaluation Finish\n",
      "74: Data Load Finish, Predict Finish, 30.6831 30.5619 1.1072 -0.0859 Evaluation Finish\n",
      "75: Data Load Finish, Predict Finish, 15.5357 15.2958 0.5589 0.4502 Evaluation Finish\n",
      "76: Data Load Finish, "
     ]
    },
    {
     "name": "stderr",
     "output_type": "stream",
     "text": [
      "C:\\Users\\vfgtr554\\anaconda3\\envs\\cctv\\lib\\site-packages\\pandas\\core\\arraylike.py:364: RuntimeWarning: divide by zero encountered in log\n",
      "  result = getattr(ufunc, method)(*inputs, **kwargs)\n",
      "C:\\Users\\vfgtr554\\anaconda3\\envs\\cctv\\lib\\site-packages\\statsmodels\\base\\model.py:606: ConvergenceWarning: Maximum Likelihood optimization failed to converge. Check mle_retvals\n",
      "  ConvergenceWarning)\n",
      "C:\\Users\\vfgtr554\\anaconda3\\envs\\cctv\\lib\\site-packages\\pandas\\core\\arraylike.py:364: RuntimeWarning: divide by zero encountered in log\n",
      "  result = getattr(ufunc, method)(*inputs, **kwargs)\n"
     ]
    },
    {
     "name": "stdout",
     "output_type": "stream",
     "text": [
      "Predict Finish, 27.2597 27.1217 0.9641 0.0352 Evaluation Finish\n",
      "77: Data Load Finish, Predict Finish, 2.8453 2.4765 0.0919 0.8993 Evaluation Finish\n",
      "78: Data Load Finish, "
     ]
    },
    {
     "name": "stderr",
     "output_type": "stream",
     "text": [
      "C:\\Users\\vfgtr554\\anaconda3\\envs\\cctv\\lib\\site-packages\\statsmodels\\base\\model.py:606: ConvergenceWarning: Maximum Likelihood optimization failed to converge. Check mle_retvals\n",
      "  ConvergenceWarning)\n"
     ]
    },
    {
     "name": "stdout",
     "output_type": "stream",
     "text": [
      "Predict Finish, 27.2597 27.1217 0.9641 0.0352 Evaluation Finish\n",
      "79: Data Load Finish, Predict Finish, 3.5591 3.1277 0.1082 0.874 Evaluation Finish\n",
      "80: Data Load Finish, Predict Finish, 3.9309 2.9747 0.116 0.8609 Evaluation Finish\n",
      "81: Data Load Finish, Predict Finish, 11.4933 11.1633 0.3911 0.5932 Evaluation Finish\n",
      "82: Data Load Finish, Predict Finish, 13.2006 12.8873 0.4723 0.5328 Evaluation Finish\n",
      "83: Data Load Finish, Predict Finish, 4.1351 3.3911 0.1137 0.8536 Evaluation Finish\n",
      "84: Data Load Finish, "
     ]
    },
    {
     "name": "stderr",
     "output_type": "stream",
     "text": [
      "C:\\Users\\vfgtr554\\anaconda3\\envs\\cctv\\lib\\site-packages\\statsmodels\\base\\model.py:606: ConvergenceWarning: Maximum Likelihood optimization failed to converge. Check mle_retvals\n",
      "  ConvergenceWarning)\n",
      "C:\\Users\\vfgtr554\\anaconda3\\envs\\cctv\\lib\\site-packages\\pandas\\core\\arraylike.py:364: RuntimeWarning: divide by zero encountered in log\n",
      "  result = getattr(ufunc, method)(*inputs, **kwargs)\n"
     ]
    },
    {
     "name": "stdout",
     "output_type": "stream",
     "text": [
      "Predict Finish, 11.6936 11.3688 0.418 0.5861 Evaluation Finish\n",
      "85: Data Load Finish, "
     ]
    },
    {
     "name": "stderr",
     "output_type": "stream",
     "text": [
      "C:\\Users\\vfgtr554\\anaconda3\\envs\\cctv\\lib\\site-packages\\statsmodels\\base\\model.py:606: ConvergenceWarning: Maximum Likelihood optimization failed to converge. Check mle_retvals\n",
      "  ConvergenceWarning)\n"
     ]
    },
    {
     "name": "stdout",
     "output_type": "stream",
     "text": [
      "Predict Finish, 27.2597 27.1217 0.9641 0.0352 Evaluation Finish\n",
      "86: Data Load Finish, Predict Finish, 9.664 9.1434 0.3372 0.658 Evaluation Finish\n",
      "87: Data Load Finish, Predict Finish, 4.5378 3.8685 0.1307 0.8394 Evaluation Finish\n",
      "88: Data Load Finish, Predict Finish, 2.989 2.4493 0.0927 0.8942 Evaluation Finish\n",
      "89: Data Load Finish, Predict Finish, 2.87 2.5371 0.0896 0.8984 Evaluation Finish\n",
      "90: Data Load Finish, "
     ]
    },
    {
     "name": "stderr",
     "output_type": "stream",
     "text": [
      "C:\\Users\\vfgtr554\\anaconda3\\envs\\cctv\\lib\\site-packages\\pandas\\core\\arraylike.py:364: RuntimeWarning: divide by zero encountered in log\n",
      "  result = getattr(ufunc, method)(*inputs, **kwargs)\n",
      "C:\\Users\\vfgtr554\\anaconda3\\envs\\cctv\\lib\\site-packages\\statsmodels\\base\\model.py:606: ConvergenceWarning: Maximum Likelihood optimization failed to converge. Check mle_retvals\n",
      "  ConvergenceWarning)\n"
     ]
    },
    {
     "name": "stdout",
     "output_type": "stream",
     "text": [
      "Predict Finish, 27.2597 27.1217 0.9641 0.0352 Evaluation Finish\n",
      "91: Data Load Finish, Predict Finish, 10.4449 10.085 0.3719 0.6303 Evaluation Finish\n",
      "92: Data Load Finish, Predict Finish, 2.8521 2.4931 0.0918 0.8991 Evaluation Finish\n",
      "93: Data Load Finish, Predict Finish, 2.9356 2.4895 0.0868 0.8961 Evaluation Finish\n",
      "94: Data Load Finish, Predict Finish, 3.3678 2.8765 0.108 0.8808 Evaluation Finish\n",
      "95: Data Load Finish, Predict Finish, 4.786 3.9229 0.1312 0.8306 Evaluation Finish\n",
      "96: Data Load Finish, "
     ]
    },
    {
     "name": "stderr",
     "output_type": "stream",
     "text": [
      "C:\\Users\\vfgtr554\\anaconda3\\envs\\cctv\\lib\\site-packages\\pandas\\core\\arraylike.py:364: RuntimeWarning: divide by zero encountered in log\n",
      "  result = getattr(ufunc, method)(*inputs, **kwargs)\n",
      "C:\\Users\\vfgtr554\\anaconda3\\envs\\cctv\\lib\\site-packages\\statsmodels\\base\\model.py:606: ConvergenceWarning: Maximum Likelihood optimization failed to converge. Check mle_retvals\n",
      "  ConvergenceWarning)\n"
     ]
    },
    {
     "name": "stdout",
     "output_type": "stream",
     "text": [
      "Predict Finish, 27.2597 27.1217 0.9641 0.0352 Evaluation Finish\n",
      "97: Data Load Finish, Predict Finish, 5.6801 4.9971 0.1883 0.799 Evaluation Finish\n",
      "98: Data Load Finish, Predict Finish, 4.3666 3.2125 0.1065 0.8455 Evaluation Finish\n",
      "99: Data Load Finish, "
     ]
    },
    {
     "name": "stderr",
     "output_type": "stream",
     "text": [
      "C:\\Users\\vfgtr554\\anaconda3\\envs\\cctv\\lib\\site-packages\\pandas\\core\\arraylike.py:364: RuntimeWarning: divide by zero encountered in log\n",
      "  result = getattr(ufunc, method)(*inputs, **kwargs)\n",
      "C:\\Users\\vfgtr554\\anaconda3\\envs\\cctv\\lib\\site-packages\\statsmodels\\base\\model.py:606: ConvergenceWarning: Maximum Likelihood optimization failed to converge. Check mle_retvals\n",
      "  ConvergenceWarning)\n"
     ]
    },
    {
     "name": "stdout",
     "output_type": "stream",
     "text": [
      "Predict Finish, 27.2597 27.1217 0.9641 0.0352 Evaluation Finish\n",
      "100: Data Load Finish, Predict Finish, 5.4799 4.6194 0.156 0.8061 Evaluation Finish\n",
      "101: Data Load Finish, Predict Finish, 7.5638 7.0767 0.2637 0.7323 Evaluation Finish\n",
      "102: Data Load Finish, Predict Finish, 11.0464 10.6988 0.3743 0.609 Evaluation Finish\n",
      "103: Data Load Finish, Predict Finish, 2.9625 2.549 0.0951 0.8951 Evaluation Finish\n",
      "104: Data Load Finish, Predict Finish, 3.3627 2.9641 0.103 0.881 Evaluation Finish\n",
      "105: Data Load Finish, Predict Finish, 4.2781 3.5505 0.1192 0.8486 Evaluation Finish\n",
      "106: Data Load Finish, Predict Finish, 3.1735 2.7727 0.0956 0.8877 Evaluation Finish\n",
      "107: Data Load Finish, Predict Finish, 5.5791 4.9371 0.1863 0.8025 Evaluation Finish\n",
      "108: Data Load Finish, "
     ]
    },
    {
     "name": "stderr",
     "output_type": "stream",
     "text": [
      "C:\\Users\\vfgtr554\\anaconda3\\envs\\cctv\\lib\\site-packages\\pandas\\core\\arraylike.py:364: RuntimeWarning: divide by zero encountered in log\n",
      "  result = getattr(ufunc, method)(*inputs, **kwargs)\n",
      "C:\\Users\\vfgtr554\\anaconda3\\envs\\cctv\\lib\\site-packages\\statsmodels\\base\\model.py:606: ConvergenceWarning: Maximum Likelihood optimization failed to converge. Check mle_retvals\n",
      "  ConvergenceWarning)\n",
      "C:\\Users\\vfgtr554\\anaconda3\\envs\\cctv\\lib\\site-packages\\pandas\\core\\arraylike.py:364: RuntimeWarning: divide by zero encountered in log\n",
      "  result = getattr(ufunc, method)(*inputs, **kwargs)\n"
     ]
    },
    {
     "name": "stdout",
     "output_type": "stream",
     "text": [
      "Predict Finish, 27.2597 27.1217 0.9641 0.0352 Evaluation Finish\n",
      "109: Data Load Finish, "
     ]
    },
    {
     "name": "stderr",
     "output_type": "stream",
     "text": [
      "C:\\Users\\vfgtr554\\anaconda3\\envs\\cctv\\lib\\site-packages\\statsmodels\\base\\model.py:606: ConvergenceWarning: Maximum Likelihood optimization failed to converge. Check mle_retvals\n",
      "  ConvergenceWarning)\n"
     ]
    },
    {
     "name": "stdout",
     "output_type": "stream",
     "text": [
      "Predict Finish, 27.2597 27.1217 0.9641 0.0352 Evaluation Finish\n",
      "110: Data Load Finish, Predict Finish, 3.3147 2.8755 0.0986 0.8827 Evaluation Finish\n",
      "111: Data Load Finish, Predict Finish, 3.5308 2.6243 0.0876 0.875 Evaluation Finish\n",
      "112: Data Load Finish, "
     ]
    },
    {
     "name": "stderr",
     "output_type": "stream",
     "text": [
      "C:\\Users\\vfgtr554\\anaconda3\\envs\\cctv\\lib\\site-packages\\pandas\\core\\arraylike.py:364: RuntimeWarning: divide by zero encountered in log\n",
      "  result = getattr(ufunc, method)(*inputs, **kwargs)\n",
      "C:\\Users\\vfgtr554\\anaconda3\\envs\\cctv\\lib\\site-packages\\statsmodels\\base\\model.py:606: ConvergenceWarning: Maximum Likelihood optimization failed to converge. Check mle_retvals\n",
      "  ConvergenceWarning)\n"
     ]
    },
    {
     "name": "stdout",
     "output_type": "stream",
     "text": [
      "Predict Finish, 27.2597 27.1217 0.9641 0.0352 Evaluation Finish\n",
      "113: Data Load Finish, Predict Finish, 5.2732 4.5065 0.152 0.8134 Evaluation Finish\n",
      "114: Data Load Finish, Predict Finish, 3.6759 3.121 0.1061 0.8699 Evaluation Finish\n",
      "115: Data Load Finish, Predict Finish, 4.7425 3.9815 0.1338 0.8322 Evaluation Finish\n",
      "116: Data Load Finish, Predict Finish, 4.6203 3.7218 0.1435 0.8365 Evaluation Finish\n",
      "117: Data Load Finish, Predict Finish, 13.5906 13.3176 0.4879 0.519 Evaluation Finish\n",
      "118: Data Load Finish, Predict Finish, 25.3371 25.1884 0.9143 0.1033 Evaluation Finish\n",
      "119: Data Load Finish, Predict Finish, 5.0669 4.0438 0.1559 0.8207 Evaluation Finish\n",
      "120: Data Load Finish, Predict Finish, 2.8703 2.3417 0.082 0.8984 Evaluation Finish\n",
      "121: Data Load Finish, Predict Finish, 5.7909 5.1047 0.1736 0.795 Evaluation Finish\n",
      "122: Data Load Finish, Predict Finish, 8.3421 7.5653 0.2607 0.7048 Evaluation Finish\n",
      "123: Data Load Finish, Predict Finish, 6.3411 5.7208 0.1956 0.7756 Evaluation Finish\n",
      "124: Data Load Finish, Predict Finish, 9.3475 8.946 0.3116 0.6692 Evaluation Finish\n",
      "125: Data Load Finish, Predict Finish, 16.2057 15.9177 0.5822 0.4264 Evaluation Finish\n",
      "126: Data Load Finish, Predict Finish, 7.3216 6.7343 0.2317 0.7409 Evaluation Finish\n",
      "127: Data Load Finish, Predict Finish, 9.9255 9.4753 0.33 0.6487 Evaluation Finish\n",
      "128: Data Load Finish, Predict Finish, 7.6909 7.1645 0.2473 0.7278 Evaluation Finish\n",
      "129: Data Load Finish, "
     ]
    },
    {
     "name": "stderr",
     "output_type": "stream",
     "text": [
      "C:\\Users\\vfgtr554\\anaconda3\\envs\\cctv\\lib\\site-packages\\pandas\\core\\arraylike.py:364: RuntimeWarning: divide by zero encountered in log\n",
      "  result = getattr(ufunc, method)(*inputs, **kwargs)\n",
      "C:\\Users\\vfgtr554\\anaconda3\\envs\\cctv\\lib\\site-packages\\statsmodels\\base\\model.py:606: ConvergenceWarning: Maximum Likelihood optimization failed to converge. Check mle_retvals\n",
      "  ConvergenceWarning)\n"
     ]
    },
    {
     "name": "stdout",
     "output_type": "stream",
     "text": [
      "Predict Finish, 27.2597 27.1217 0.9641 0.0352 Evaluation Finish\n",
      "130: Data Load Finish, Predict Finish, 3.1761 2.8475 0.1006 0.8876 Evaluation Finish\n",
      "131: Data Load Finish, Predict Finish, 2.856 2.4668 0.0866 0.8989 Evaluation Finish\n",
      "132: Data Load Finish, Predict Finish, 6.5137 5.8898 0.2015 0.7695 Evaluation Finish\n",
      "133: Data Load Finish, Predict Finish, 3.2172 2.7782 0.0954 0.8861 Evaluation Finish\n",
      "134: Data Load Finish, Predict Finish, 10.155 9.772 0.341 0.6406 Evaluation Finish\n",
      "135: Data Load Finish, Predict Finish, 6.4808 5.8724 0.2013 0.7706 Evaluation Finish\n",
      "136: Data Load Finish, Predict Finish, 8.3457 7.8704 0.2727 0.7046 Evaluation Finish\n",
      "137: Data Load Finish, "
     ]
    },
    {
     "name": "stderr",
     "output_type": "stream",
     "text": [
      "C:\\Users\\vfgtr554\\anaconda3\\envs\\cctv\\lib\\site-packages\\pandas\\core\\arraylike.py:364: RuntimeWarning: divide by zero encountered in log\n",
      "  result = getattr(ufunc, method)(*inputs, **kwargs)\n",
      "C:\\Users\\vfgtr554\\anaconda3\\envs\\cctv\\lib\\site-packages\\statsmodels\\base\\model.py:606: ConvergenceWarning: Maximum Likelihood optimization failed to converge. Check mle_retvals\n",
      "  ConvergenceWarning)\n"
     ]
    },
    {
     "name": "stdout",
     "output_type": "stream",
     "text": [
      "Predict Finish, 27.2597 27.1217 0.9641 0.0352 Evaluation Finish\n",
      "138: Data Load Finish, Predict Finish, 3.8746 2.8632 0.0947 0.8629 Evaluation Finish\n",
      "139: Data Load Finish, "
     ]
    },
    {
     "name": "stderr",
     "output_type": "stream",
     "text": [
      "C:\\Users\\vfgtr554\\anaconda3\\envs\\cctv\\lib\\site-packages\\pandas\\core\\arraylike.py:364: RuntimeWarning: divide by zero encountered in log\n",
      "  result = getattr(ufunc, method)(*inputs, **kwargs)\n",
      "C:\\Users\\vfgtr554\\anaconda3\\envs\\cctv\\lib\\site-packages\\statsmodels\\base\\model.py:606: ConvergenceWarning: Maximum Likelihood optimization failed to converge. Check mle_retvals\n",
      "  ConvergenceWarning)\n"
     ]
    },
    {
     "name": "stdout",
     "output_type": "stream",
     "text": [
      "Predict Finish, 27.2597 27.1217 0.9641 0.0352 Evaluation Finish\n",
      "140: Data Load Finish, Predict Finish, 2.7508 2.4533 0.0876 0.9026 Evaluation Finish\n",
      "141: Data Load Finish, Predict Finish, 5.4175 4.6072 0.1553 0.8083 Evaluation Finish\n",
      "142: Data Load Finish, Predict Finish, 2.8148 2.4913 0.0898 0.9004 Evaluation Finish\n",
      "143: Data Load Finish, "
     ]
    },
    {
     "name": "stderr",
     "output_type": "stream",
     "text": [
      "C:\\Users\\vfgtr554\\anaconda3\\envs\\cctv\\lib\\site-packages\\pandas\\core\\arraylike.py:364: RuntimeWarning: divide by zero encountered in log\n",
      "  result = getattr(ufunc, method)(*inputs, **kwargs)\n",
      "C:\\Users\\vfgtr554\\anaconda3\\envs\\cctv\\lib\\site-packages\\statsmodels\\base\\model.py:606: ConvergenceWarning: Maximum Likelihood optimization failed to converge. Check mle_retvals\n",
      "  ConvergenceWarning)\n",
      "C:\\Users\\vfgtr554\\anaconda3\\envs\\cctv\\lib\\site-packages\\pandas\\core\\arraylike.py:364: RuntimeWarning: divide by zero encountered in log\n",
      "  result = getattr(ufunc, method)(*inputs, **kwargs)\n"
     ]
    },
    {
     "name": "stdout",
     "output_type": "stream",
     "text": [
      "Predict Finish, 27.2597 27.1217 0.9641 0.0352 Evaluation Finish\n",
      "144: Data Load Finish, "
     ]
    },
    {
     "name": "stderr",
     "output_type": "stream",
     "text": [
      "C:\\Users\\vfgtr554\\anaconda3\\envs\\cctv\\lib\\site-packages\\statsmodels\\base\\model.py:606: ConvergenceWarning: Maximum Likelihood optimization failed to converge. Check mle_retvals\n",
      "  ConvergenceWarning)\n"
     ]
    },
    {
     "name": "stdout",
     "output_type": "stream",
     "text": [
      "Predict Finish, 27.2597 27.1217 0.9641 0.0352 Evaluation Finish\n",
      "145: Data Load Finish, Predict Finish, 32.1134 31.9975 1.1586 -0.1366 Evaluation Finish\n",
      "146: Data Load Finish, Predict Finish, 3.41 2.74 0.1049 0.8793 Evaluation Finish\n",
      "147: Data Load Finish, Predict Finish, 3.5752 2.9399 0.1123 0.8735 Evaluation Finish\n",
      "148: Data Load Finish, Predict Finish, 6.507 5.8859 0.2018 0.7697 Evaluation Finish\n",
      "149: Data Load Finish, Predict Finish, 4.1843 2.9413 0.0964 0.8519 Evaluation Finish\n",
      "150: Data Load Finish, "
     ]
    },
    {
     "name": "stderr",
     "output_type": "stream",
     "text": [
      "C:\\Users\\vfgtr554\\anaconda3\\envs\\cctv\\lib\\site-packages\\pandas\\core\\arraylike.py:364: RuntimeWarning: divide by zero encountered in log\n",
      "  result = getattr(ufunc, method)(*inputs, **kwargs)\n",
      "C:\\Users\\vfgtr554\\anaconda3\\envs\\cctv\\lib\\site-packages\\statsmodels\\base\\model.py:606: ConvergenceWarning: Maximum Likelihood optimization failed to converge. Check mle_retvals\n",
      "  ConvergenceWarning)\n",
      "C:\\Users\\vfgtr554\\anaconda3\\envs\\cctv\\lib\\site-packages\\pandas\\core\\arraylike.py:364: RuntimeWarning: divide by zero encountered in log\n",
      "  result = getattr(ufunc, method)(*inputs, **kwargs)\n"
     ]
    },
    {
     "name": "stdout",
     "output_type": "stream",
     "text": [
      "Predict Finish, 27.2597 27.1217 0.9641 0.0352 Evaluation Finish\n",
      "151: Data Load Finish, "
     ]
    },
    {
     "name": "stderr",
     "output_type": "stream",
     "text": [
      "C:\\Users\\vfgtr554\\anaconda3\\envs\\cctv\\lib\\site-packages\\statsmodels\\base\\model.py:606: ConvergenceWarning: Maximum Likelihood optimization failed to converge. Check mle_retvals\n",
      "  ConvergenceWarning)\n"
     ]
    },
    {
     "name": "stdout",
     "output_type": "stream",
     "text": [
      "Predict Finish, 27.2597 27.1217 0.9641 0.0352 Evaluation Finish\n",
      "152: Data Load Finish, Predict Finish, 5.7948 5.1287 0.1745 0.7949 Evaluation Finish\n",
      "153: Data Load Finish, "
     ]
    },
    {
     "name": "stderr",
     "output_type": "stream",
     "text": [
      "C:\\Users\\vfgtr554\\anaconda3\\envs\\cctv\\lib\\site-packages\\pandas\\core\\arraylike.py:364: RuntimeWarning: divide by zero encountered in log\n",
      "  result = getattr(ufunc, method)(*inputs, **kwargs)\n",
      "C:\\Users\\vfgtr554\\anaconda3\\envs\\cctv\\lib\\site-packages\\statsmodels\\base\\model.py:606: ConvergenceWarning: Maximum Likelihood optimization failed to converge. Check mle_retvals\n",
      "  ConvergenceWarning)\n",
      "C:\\Users\\vfgtr554\\anaconda3\\envs\\cctv\\lib\\site-packages\\pandas\\core\\arraylike.py:364: RuntimeWarning: divide by zero encountered in log\n",
      "  result = getattr(ufunc, method)(*inputs, **kwargs)\n"
     ]
    },
    {
     "name": "stdout",
     "output_type": "stream",
     "text": [
      "Predict Finish, 27.2597 27.1217 0.9641 0.0352 Evaluation Finish\n",
      "154: Data Load Finish, "
     ]
    },
    {
     "name": "stderr",
     "output_type": "stream",
     "text": [
      "C:\\Users\\vfgtr554\\anaconda3\\envs\\cctv\\lib\\site-packages\\statsmodels\\base\\model.py:606: ConvergenceWarning: Maximum Likelihood optimization failed to converge. Check mle_retvals\n",
      "  ConvergenceWarning)\n",
      "C:\\Users\\vfgtr554\\anaconda3\\envs\\cctv\\lib\\site-packages\\pandas\\core\\arraylike.py:364: RuntimeWarning: divide by zero encountered in log\n",
      "  result = getattr(ufunc, method)(*inputs, **kwargs)\n"
     ]
    },
    {
     "name": "stdout",
     "output_type": "stream",
     "text": [
      "Predict Finish, 27.2597 27.1217 0.9641 0.0352 Evaluation Finish\n",
      "155: Data Load Finish, "
     ]
    },
    {
     "name": "stderr",
     "output_type": "stream",
     "text": [
      "C:\\Users\\vfgtr554\\anaconda3\\envs\\cctv\\lib\\site-packages\\statsmodels\\base\\model.py:606: ConvergenceWarning: Maximum Likelihood optimization failed to converge. Check mle_retvals\n",
      "  ConvergenceWarning)\n"
     ]
    },
    {
     "name": "stdout",
     "output_type": "stream",
     "text": [
      "Predict Finish, 27.2597 27.1217 0.9641 0.0352 Evaluation Finish\n",
      "156: Data Load Finish, Predict Finish, 4.462 3.7082 0.1244 0.8421 Evaluation Finish\n",
      "157: Data Load Finish, Predict Finish, 5.674 5.0293 0.1715 0.7992 Evaluation Finish\n",
      "158: Data Load Finish, "
     ]
    },
    {
     "name": "stderr",
     "output_type": "stream",
     "text": [
      "C:\\Users\\vfgtr554\\anaconda3\\envs\\cctv\\lib\\site-packages\\pandas\\core\\arraylike.py:364: RuntimeWarning: divide by zero encountered in log\n",
      "  result = getattr(ufunc, method)(*inputs, **kwargs)\n",
      "C:\\Users\\vfgtr554\\anaconda3\\envs\\cctv\\lib\\site-packages\\statsmodels\\base\\model.py:606: ConvergenceWarning: Maximum Likelihood optimization failed to converge. Check mle_retvals\n",
      "  ConvergenceWarning)\n",
      "C:\\Users\\vfgtr554\\anaconda3\\envs\\cctv\\lib\\site-packages\\pandas\\core\\arraylike.py:364: RuntimeWarning: divide by zero encountered in log\n",
      "  result = getattr(ufunc, method)(*inputs, **kwargs)\n"
     ]
    },
    {
     "name": "stdout",
     "output_type": "stream",
     "text": [
      "Predict Finish, 27.2597 27.1217 0.9641 0.0352 Evaluation Finish\n",
      "159: Data Load Finish, "
     ]
    },
    {
     "name": "stderr",
     "output_type": "stream",
     "text": [
      "C:\\Users\\vfgtr554\\anaconda3\\envs\\cctv\\lib\\site-packages\\statsmodels\\base\\model.py:606: ConvergenceWarning: Maximum Likelihood optimization failed to converge. Check mle_retvals\n",
      "  ConvergenceWarning)\n"
     ]
    },
    {
     "name": "stdout",
     "output_type": "stream",
     "text": [
      "Predict Finish, 27.2597 27.1217 0.9641 0.0352 Evaluation Finish\n",
      "160: Data Load Finish, Predict Finish, 5.9839 5.2929 0.1801 0.7882 Evaluation Finish\n",
      "161: Data Load Finish, Predict Finish, 4.8125 4.0079 0.1345 0.8297 Evaluation Finish\n",
      "162: "
     ]
    },
    {
     "name": "stderr",
     "output_type": "stream",
     "text": [
      "C:\\Users\\vfgtr554\\anaconda3\\envs\\cctv\\lib\\site-packages\\pandas\\core\\arraylike.py:364: RuntimeWarning: divide by zero encountered in log\n",
      "  result = getattr(ufunc, method)(*inputs, **kwargs)\n"
     ]
    },
    {
     "name": "stdout",
     "output_type": "stream",
     "text": [
      "Data Load Finish, "
     ]
    },
    {
     "name": "stderr",
     "output_type": "stream",
     "text": [
      "C:\\Users\\vfgtr554\\anaconda3\\envs\\cctv\\lib\\site-packages\\statsmodels\\base\\model.py:606: ConvergenceWarning: Maximum Likelihood optimization failed to converge. Check mle_retvals\n",
      "  ConvergenceWarning)\n",
      "C:\\Users\\vfgtr554\\anaconda3\\envs\\cctv\\lib\\site-packages\\pandas\\core\\arraylike.py:364: RuntimeWarning: divide by zero encountered in log\n",
      "  result = getattr(ufunc, method)(*inputs, **kwargs)\n"
     ]
    },
    {
     "name": "stdout",
     "output_type": "stream",
     "text": [
      "Predict Finish, 27.2597 27.1217 0.9641 0.0352 Evaluation Finish\n",
      "163: Data Load Finish, "
     ]
    },
    {
     "name": "stderr",
     "output_type": "stream",
     "text": [
      "C:\\Users\\vfgtr554\\anaconda3\\envs\\cctv\\lib\\site-packages\\statsmodels\\base\\model.py:606: ConvergenceWarning: Maximum Likelihood optimization failed to converge. Check mle_retvals\n",
      "  ConvergenceWarning)\n"
     ]
    },
    {
     "name": "stdout",
     "output_type": "stream",
     "text": [
      "Predict Finish, 27.2597 27.1217 0.9641 0.0352 Evaluation Finish\n",
      "164: Data Load Finish, Predict Finish, 3.3079 2.8757 0.0987 0.8829 Evaluation Finish\n",
      "165: Data Load Finish, Predict Finish, 3.6375 2.9962 0.1145 0.8713 Evaluation Finish\n",
      "166: Data Load Finish, Predict Finish, 11.7266 11.3964 0.4189 0.585 Evaluation Finish\n",
      "167: Data Load Finish, Predict Finish, 9.9181 9.5321 0.3521 0.649 Evaluation Finish\n",
      "168: Data Load Finish, Predict Finish, 24.5466 24.3935 0.8857 0.1312 Evaluation Finish\n",
      "169: Data Load Finish, Predict Finish, 9.6284 9.2111 0.3404 0.6592 Evaluation Finish\n",
      "170: Data Load Finish, Predict Finish, 3.7415 2.8807 0.096 0.8676 Evaluation Finish\n",
      "171: Data Load Finish, Predict Finish, 6.2149 5.5634 0.2094 0.78 Evaluation Finish\n",
      "172: Data Load Finish, Predict Finish, 4.4534 3.5321 0.1175 0.8424 Evaluation Finish\n",
      "173: Data Load Finish, Predict Finish, 2.9025 2.4431 0.0909 0.8973 Evaluation Finish\n",
      "174: Data Load Finish, Predict Finish, 2.9657 2.5515 0.0951 0.895 Evaluation Finish\n",
      "175: Data Load Finish, Predict Finish, 7.9306 7.5102 0.2782 0.7193 Evaluation Finish\n",
      "176: Data Load Finish, Predict Finish, 9.5952 9.1632 0.3189 0.6604 Evaluation Finish\n",
      "177: Data Load Finish, Predict Finish, 18.2984 18.0987 0.6587 0.3524 Evaluation Finish\n",
      "178: Data Load Finish, Predict Finish, 4.2883 3.5714 0.12 0.8482 Evaluation Finish\n",
      "179: Data Load Finish, Predict Finish, 2.9229 2.4674 0.0927 0.8966 Evaluation Finish\n",
      "180: Data Load Finish, Predict Finish, 17.7877 17.5755 0.64 0.3705 Evaluation Finish\n",
      "181: Data Load Finish, Predict Finish, 5.1854 4.4757 0.1515 0.8165 Evaluation Finish\n",
      "182: Data Load Finish, Predict Finish, 5.0222 4.224 0.142 0.8223 Evaluation Finish\n",
      "183: Data Load Finish, "
     ]
    },
    {
     "name": "stderr",
     "output_type": "stream",
     "text": [
      "C:\\Users\\vfgtr554\\anaconda3\\envs\\cctv\\lib\\site-packages\\pandas\\core\\arraylike.py:364: RuntimeWarning: divide by zero encountered in log\n",
      "  result = getattr(ufunc, method)(*inputs, **kwargs)\n",
      "C:\\Users\\vfgtr554\\anaconda3\\envs\\cctv\\lib\\site-packages\\statsmodels\\base\\model.py:606: ConvergenceWarning: Maximum Likelihood optimization failed to converge. Check mle_retvals\n",
      "  ConvergenceWarning)\n"
     ]
    },
    {
     "name": "stdout",
     "output_type": "stream",
     "text": [
      "Predict Finish, 27.2597 27.1217 0.9641 0.0352 Evaluation Finish\n",
      "184: Data Load Finish, Predict Finish, 3.521 2.8789 0.0971 0.8754 Evaluation Finish\n",
      "185: Data Load Finish, Predict Finish, 3.4298 2.4832 0.083 0.8786 Evaluation Finish\n",
      "186: Data Load Finish, "
     ]
    },
    {
     "name": "stderr",
     "output_type": "stream",
     "text": [
      "C:\\Users\\vfgtr554\\anaconda3\\envs\\cctv\\lib\\site-packages\\pandas\\core\\arraylike.py:364: RuntimeWarning: divide by zero encountered in log\n",
      "  result = getattr(ufunc, method)(*inputs, **kwargs)\n",
      "C:\\Users\\vfgtr554\\anaconda3\\envs\\cctv\\lib\\site-packages\\statsmodels\\base\\model.py:606: ConvergenceWarning: Maximum Likelihood optimization failed to converge. Check mle_retvals\n",
      "  ConvergenceWarning)\n"
     ]
    },
    {
     "name": "stdout",
     "output_type": "stream",
     "text": [
      "Predict Finish, 27.2597 27.1217 0.9641 0.0352 Evaluation Finish\n",
      "187: Data Load Finish, Predict Finish, 4.3658 3.5239 0.1176 0.8455 Evaluation Finish\n",
      "188: Data Load Finish, Predict Finish, 3.0371 2.7005 0.095 0.8925 Evaluation Finish\n",
      "189: Data Load Finish, Predict Finish, 2.7758 2.4211 0.0856 0.9018 Evaluation Finish\n",
      "190: Data Load Finish, Predict Finish, 5.0675 4.2808 0.1442 0.8206 Evaluation Finish\n",
      "191: Data Load Finish, Predict Finish, 2.9164 2.4731 0.0863 0.8968 Evaluation Finish\n",
      "192: Data Load Finish, Predict Finish, 6.1947 5.5681 0.1903 0.7808 Evaluation Finish\n",
      "193: Data Load Finish, Predict Finish, 13.8876 13.6145 0.4791 0.5085 Evaluation Finish\n",
      "194: Data Load Finish, Predict Finish, 3.6187 2.7946 0.0935 0.8719 Evaluation Finish\n",
      "195: Data Load Finish, Predict Finish, 3.4241 2.8566 0.097 0.8788 Evaluation Finish\n",
      "196: Data Load Finish, Predict Finish, 5.3852 4.6424 0.157 0.8094 Evaluation Finish\n",
      "197: Data Load Finish, "
     ]
    },
    {
     "name": "stderr",
     "output_type": "stream",
     "text": [
      "C:\\Users\\vfgtr554\\anaconda3\\envs\\cctv\\lib\\site-packages\\pandas\\core\\arraylike.py:364: RuntimeWarning: divide by zero encountered in log\n",
      "  result = getattr(ufunc, method)(*inputs, **kwargs)\n",
      "C:\\Users\\vfgtr554\\anaconda3\\envs\\cctv\\lib\\site-packages\\statsmodels\\base\\model.py:606: ConvergenceWarning: Maximum Likelihood optimization failed to converge. Check mle_retvals\n",
      "  ConvergenceWarning)\n"
     ]
    },
    {
     "name": "stdout",
     "output_type": "stream",
     "text": [
      "Predict Finish, 27.2597 27.1217 0.9641 0.0352 Evaluation Finish\n",
      "198: Data Load Finish, Predict Finish, 5.5579 4.7899 0.1624 0.8033 Evaluation Finish\n",
      "199: Data Load Finish, Predict Finish, 7.116 6.5639 0.2258 0.7482 Evaluation Finish\n",
      "200: Data Load Finish, Predict Finish, 3.0502 2.6438 0.0914 0.892 Evaluation Finish\n",
      "201: Data Load Finish, Predict Finish, 4.9069 4.1091 0.1386 0.8263 Evaluation Finish\n",
      "202: Data Load Finish, "
     ]
    },
    {
     "name": "stderr",
     "output_type": "stream",
     "text": [
      "C:\\Users\\vfgtr554\\anaconda3\\envs\\cctv\\lib\\site-packages\\pandas\\core\\arraylike.py:364: RuntimeWarning: divide by zero encountered in log\n",
      "  result = getattr(ufunc, method)(*inputs, **kwargs)\n",
      "C:\\Users\\vfgtr554\\anaconda3\\envs\\cctv\\lib\\site-packages\\statsmodels\\base\\model.py:606: ConvergenceWarning: Maximum Likelihood optimization failed to converge. Check mle_retvals\n",
      "  ConvergenceWarning)\n"
     ]
    },
    {
     "name": "stdout",
     "output_type": "stream",
     "text": [
      "Predict Finish, 27.2597 27.1217 0.9641 0.0352 Evaluation Finish\n",
      "203: Data Load Finish, Predict Finish, 9.9848 9.5486 0.3325 0.6466 Evaluation Finish\n",
      "204: Data Load Finish, Predict Finish, 4.8938 4.107 0.1385 0.8268 Evaluation Finish\n",
      "205: Data Load Finish, Predict Finish, 8.6356 8.1341 0.2818 0.6944 Evaluation Finish\n",
      "206: Data Load Finish, Predict Finish, 9.6048 9.2094 0.3218 0.6601 Evaluation Finish\n",
      "207: Data Load Finish, Predict Finish, 6.0645 5.3548 0.1821 0.7854 Evaluation Finish\n",
      "208: Data Load Finish, Predict Finish, 9.1863 8.7308 0.3059 0.6749 Evaluation Finish\n",
      "209: Data Load Finish, Predict Finish, 4.95 4.0897 0.1569 0.8248 Evaluation Finish\n",
      "210: Data Load Finish, Predict Finish, 2.7546 2.4583 0.0879 0.9025 Evaluation Finish\n",
      "211: Data Load Finish, Predict Finish, 9.5432 9.0535 0.3344 0.6622 Evaluation Finish\n",
      "212: Data Load Finish, Predict Finish, 4.2549 3.6761 0.1395 0.8494 Evaluation Finish\n",
      "213: Data Load Finish, Predict Finish, 14.9136 14.6513 0.5352 0.4722 Evaluation Finish\n",
      "214: Data Load Finish, Predict Finish, 12.5167 12.1997 0.4281 0.557 Evaluation Finish\n",
      "215: Data Load Finish, Predict Finish, 7.9369 7.4267 0.2567 0.7191 Evaluation Finish\n",
      "216: Data Load Finish, Predict Finish, 3.4372 2.9659 0.1014 0.8784 Evaluation Finish\n",
      "217: Data Load Finish, Predict Finish, 15.408 15.1648 0.554 0.4547 Evaluation Finish\n",
      "218: Data Load Finish, Predict Finish, 5.9607 5.2882 0.18 0.789 Evaluation Finish\n",
      "219: Data Load Finish, Predict Finish, 3.9848 3.0024 0.1171 0.859 Evaluation Finish\n",
      "220: Data Load Finish, "
     ]
    },
    {
     "name": "stderr",
     "output_type": "stream",
     "text": [
      "C:\\Users\\vfgtr554\\anaconda3\\envs\\cctv\\lib\\site-packages\\pandas\\core\\arraylike.py:364: RuntimeWarning: divide by zero encountered in log\n",
      "  result = getattr(ufunc, method)(*inputs, **kwargs)\n",
      "C:\\Users\\vfgtr554\\anaconda3\\envs\\cctv\\lib\\site-packages\\statsmodels\\base\\model.py:606: ConvergenceWarning: Maximum Likelihood optimization failed to converge. Check mle_retvals\n",
      "  ConvergenceWarning)\n"
     ]
    },
    {
     "name": "stdout",
     "output_type": "stream",
     "text": [
      "Predict Finish, 27.2597 27.1217 0.9641 0.0352 Evaluation Finish\n",
      "221: Data Load Finish, Predict Finish, 2.929 2.4479 0.0905 0.8963 Evaluation Finish\n",
      "222: Data Load Finish, Predict Finish, 4.2423 3.5304 0.1186 0.8499 Evaluation Finish\n",
      "223: Data Load Finish, Predict Finish, 2.8528 2.44 0.0902 0.899 Evaluation Finish\n",
      "224: Data Load Finish, "
     ]
    },
    {
     "name": "stderr",
     "output_type": "stream",
     "text": [
      "C:\\Users\\vfgtr554\\anaconda3\\envs\\cctv\\lib\\site-packages\\pandas\\core\\arraylike.py:364: RuntimeWarning: divide by zero encountered in log\n",
      "  result = getattr(ufunc, method)(*inputs, **kwargs)\n",
      "C:\\Users\\vfgtr554\\anaconda3\\envs\\cctv\\lib\\site-packages\\statsmodels\\base\\model.py:606: ConvergenceWarning: Maximum Likelihood optimization failed to converge. Check mle_retvals\n",
      "  ConvergenceWarning)\n",
      "C:\\Users\\vfgtr554\\anaconda3\\envs\\cctv\\lib\\site-packages\\pandas\\core\\arraylike.py:364: RuntimeWarning: divide by zero encountered in log\n",
      "  result = getattr(ufunc, method)(*inputs, **kwargs)\n"
     ]
    },
    {
     "name": "stdout",
     "output_type": "stream",
     "text": [
      "Predict Finish, 27.2597 27.1217 0.9641 0.0352 Evaluation Finish\n",
      "225: Data Load Finish, "
     ]
    },
    {
     "name": "stderr",
     "output_type": "stream",
     "text": [
      "C:\\Users\\vfgtr554\\anaconda3\\envs\\cctv\\lib\\site-packages\\statsmodels\\base\\model.py:606: ConvergenceWarning: Maximum Likelihood optimization failed to converge. Check mle_retvals\n",
      "  ConvergenceWarning)\n"
     ]
    },
    {
     "name": "stdout",
     "output_type": "stream",
     "text": [
      "Predict Finish, 27.2597 27.1217 0.9641 0.0352 Evaluation Finish\n",
      "226: Data Load Finish, Predict Finish, 3.5005 2.726 0.0914 0.8761 Evaluation Finish\n",
      "227: Data Load Finish, "
     ]
    },
    {
     "name": "stderr",
     "output_type": "stream",
     "text": [
      "C:\\Users\\vfgtr554\\anaconda3\\envs\\cctv\\lib\\site-packages\\pandas\\core\\arraylike.py:364: RuntimeWarning: divide by zero encountered in log\n",
      "  result = getattr(ufunc, method)(*inputs, **kwargs)\n",
      "C:\\Users\\vfgtr554\\anaconda3\\envs\\cctv\\lib\\site-packages\\statsmodels\\base\\model.py:606: ConvergenceWarning: Maximum Likelihood optimization failed to converge. Check mle_retvals\n",
      "  ConvergenceWarning)\n"
     ]
    },
    {
     "name": "stdout",
     "output_type": "stream",
     "text": [
      "Predict Finish, 27.2597 27.1217 0.9641 0.0352 Evaluation Finish\n",
      "228: Data Load Finish, Predict Finish, 3.6613 2.3738 0.0782 0.8704 Evaluation Finish\n",
      "229: Data Load Finish, Predict Finish, 13.4716 13.1842 0.4834 0.5232 Evaluation Finish\n",
      "230: Data Load Finish, Predict Finish, 4.9715 4.069 0.1372 0.824 Evaluation Finish\n",
      "231: Data Load Finish, Predict Finish, 2.9349 2.5634 0.0891 0.8961 Evaluation Finish\n",
      "232: "
     ]
    },
    {
     "name": "stderr",
     "output_type": "stream",
     "text": [
      "C:\\Users\\vfgtr554\\anaconda3\\envs\\cctv\\lib\\site-packages\\pandas\\core\\arraylike.py:364: RuntimeWarning: divide by zero encountered in log\n",
      "  result = getattr(ufunc, method)(*inputs, **kwargs)\n"
     ]
    },
    {
     "name": "stdout",
     "output_type": "stream",
     "text": [
      "Data Load Finish, "
     ]
    },
    {
     "name": "stderr",
     "output_type": "stream",
     "text": [
      "C:\\Users\\vfgtr554\\anaconda3\\envs\\cctv\\lib\\site-packages\\statsmodels\\base\\model.py:606: ConvergenceWarning: Maximum Likelihood optimization failed to converge. Check mle_retvals\n",
      "  ConvergenceWarning)\n"
     ]
    },
    {
     "name": "stdout",
     "output_type": "stream",
     "text": [
      "Predict Finish, 27.2597 27.1217 0.9641 0.0352 Evaluation Finish\n",
      "233: Data Load Finish, Predict Finish, 4.0158 3.3223 0.1119 0.8579 Evaluation Finish\n",
      "234: Data Load Finish, Predict Finish, 3.6804 3.185 0.1093 0.8697 Evaluation Finish\n",
      "235: Data Load Finish, "
     ]
    },
    {
     "name": "stderr",
     "output_type": "stream",
     "text": [
      "C:\\Users\\vfgtr554\\anaconda3\\envs\\cctv\\lib\\site-packages\\pandas\\core\\arraylike.py:364: RuntimeWarning: divide by zero encountered in log\n",
      "  result = getattr(ufunc, method)(*inputs, **kwargs)\n",
      "C:\\Users\\vfgtr554\\anaconda3\\envs\\cctv\\lib\\site-packages\\statsmodels\\base\\model.py:606: ConvergenceWarning: Maximum Likelihood optimization failed to converge. Check mle_retvals\n",
      "  ConvergenceWarning)\n"
     ]
    },
    {
     "name": "stdout",
     "output_type": "stream",
     "text": [
      "Predict Finish, 27.2597 27.1217 0.9641 0.0352 Evaluation Finish\n",
      "236: Data Load Finish, Predict Finish, 4.0361 3.0259 0.1002 0.8572 Evaluation Finish\n",
      "237: Data Load Finish, Predict Finish, 5.5514 4.8623 0.1651 0.8035 Evaluation Finish\n",
      "238: Data Load Finish, Predict Finish, 5.1596 4.4424 0.1505 0.8174 Evaluation Finish\n",
      "239: Data Load Finish, Predict Finish, 3.5133 2.831 0.0953 0.8757 Evaluation Finish\n",
      "240: Data Load Finish, Predict Finish, 3.2037 2.8304 0.0979 0.8866 Evaluation Finish\n",
      "241: Data Load Finish, Predict Finish, 4.0204 3.3314 0.112 0.8577 Evaluation Finish\n",
      "242: Data Load Finish, Predict Finish, 4.8907 4.0651 0.1363 0.8269 Evaluation Finish\n",
      "243: "
     ]
    },
    {
     "name": "stderr",
     "output_type": "stream",
     "text": [
      "C:\\Users\\vfgtr554\\anaconda3\\envs\\cctv\\lib\\site-packages\\pandas\\core\\arraylike.py:364: RuntimeWarning: divide by zero encountered in log\n",
      "  result = getattr(ufunc, method)(*inputs, **kwargs)\n"
     ]
    },
    {
     "name": "stdout",
     "output_type": "stream",
     "text": [
      "Data Load Finish, "
     ]
    },
    {
     "name": "stderr",
     "output_type": "stream",
     "text": [
      "C:\\Users\\vfgtr554\\anaconda3\\envs\\cctv\\lib\\site-packages\\statsmodels\\base\\model.py:606: ConvergenceWarning: Maximum Likelihood optimization failed to converge. Check mle_retvals\n",
      "  ConvergenceWarning)\n"
     ]
    },
    {
     "name": "stdout",
     "output_type": "stream",
     "text": [
      "Predict Finish, 27.2597 27.1217 0.9641 0.0352 Evaluation Finish\n",
      "244: Data Load Finish, Predict Finish, 9.9483 9.6017 0.3358 0.6479 Evaluation Finish\n",
      "245: Data Load Finish, Predict Finish, 12.2613 11.9238 0.418 0.566 Evaluation Finish\n",
      "246: Data Load Finish, Predict Finish, 8.5379 7.3005 0.2559 0.6978 Evaluation Finish\n",
      "247: Data Load Finish, "
     ]
    },
    {
     "name": "stderr",
     "output_type": "stream",
     "text": [
      "C:\\Users\\vfgtr554\\anaconda3\\envs\\cctv\\lib\\site-packages\\pandas\\core\\arraylike.py:364: RuntimeWarning: divide by zero encountered in log\n",
      "  result = getattr(ufunc, method)(*inputs, **kwargs)\n",
      "C:\\Users\\vfgtr554\\anaconda3\\envs\\cctv\\lib\\site-packages\\statsmodels\\base\\model.py:606: ConvergenceWarning: Maximum Likelihood optimization failed to converge. Check mle_retvals\n",
      "  ConvergenceWarning)\n",
      "C:\\Users\\vfgtr554\\anaconda3\\envs\\cctv\\lib\\site-packages\\pandas\\core\\arraylike.py:364: RuntimeWarning: divide by zero encountered in log\n",
      "  result = getattr(ufunc, method)(*inputs, **kwargs)\n"
     ]
    },
    {
     "name": "stdout",
     "output_type": "stream",
     "text": [
      "Predict Finish, 27.2597 27.1217 0.9641 0.0352 Evaluation Finish\n",
      "248: Data Load Finish, "
     ]
    },
    {
     "name": "stderr",
     "output_type": "stream",
     "text": [
      "C:\\Users\\vfgtr554\\anaconda3\\envs\\cctv\\lib\\site-packages\\statsmodels\\base\\model.py:606: ConvergenceWarning: Maximum Likelihood optimization failed to converge. Check mle_retvals\n",
      "  ConvergenceWarning)\n",
      "C:\\Users\\vfgtr554\\anaconda3\\envs\\cctv\\lib\\site-packages\\pandas\\core\\arraylike.py:364: RuntimeWarning: divide by zero encountered in log\n",
      "  result = getattr(ufunc, method)(*inputs, **kwargs)\n"
     ]
    },
    {
     "name": "stdout",
     "output_type": "stream",
     "text": [
      "Predict Finish, 27.2597 27.1217 0.9641 0.0352 Evaluation Finish\n",
      "249: Data Load Finish, "
     ]
    },
    {
     "name": "stderr",
     "output_type": "stream",
     "text": [
      "C:\\Users\\vfgtr554\\anaconda3\\envs\\cctv\\lib\\site-packages\\statsmodels\\base\\model.py:606: ConvergenceWarning: Maximum Likelihood optimization failed to converge. Check mle_retvals\n",
      "  ConvergenceWarning)\n"
     ]
    },
    {
     "name": "stdout",
     "output_type": "stream",
     "text": [
      "Predict Finish, 27.2597 27.1217 0.9641 0.0352 Evaluation Finish\n",
      "250: Data Load Finish, Predict Finish, 10.5427 10.0805 0.3512 0.6269 Evaluation Finish\n",
      "251: Data Load Finish, Predict Finish, 11.561 11.2425 0.3942 0.5908 Evaluation Finish\n",
      "252: Data Load Finish, "
     ]
    },
    {
     "name": "stderr",
     "output_type": "stream",
     "text": [
      "C:\\Users\\vfgtr554\\anaconda3\\envs\\cctv\\lib\\site-packages\\statsmodels\\base\\model.py:606: ConvergenceWarning: Maximum Likelihood optimization failed to converge. Check mle_retvals\n",
      "  ConvergenceWarning)\n"
     ]
    },
    {
     "name": "stdout",
     "output_type": "stream",
     "text": [
      "Predict Finish, 2.8001 2.4961 0.0907 0.9009 Evaluation Finish\n",
      "253: Data Load Finish, Predict Finish, 7.8342 7.3463 0.2541 0.7227 Evaluation Finish\n",
      "254: Data Load Finish, "
     ]
    },
    {
     "name": "stderr",
     "output_type": "stream",
     "text": [
      "C:\\Users\\vfgtr554\\anaconda3\\envs\\cctv\\lib\\site-packages\\pandas\\core\\arraylike.py:364: RuntimeWarning: divide by zero encountered in log\n",
      "  result = getattr(ufunc, method)(*inputs, **kwargs)\n",
      "C:\\Users\\vfgtr554\\anaconda3\\envs\\cctv\\lib\\site-packages\\statsmodels\\base\\model.py:606: ConvergenceWarning: Maximum Likelihood optimization failed to converge. Check mle_retvals\n",
      "  ConvergenceWarning)\n"
     ]
    },
    {
     "name": "stdout",
     "output_type": "stream",
     "text": [
      "Predict Finish, 27.2597 27.1217 0.9641 0.0352 Evaluation Finish\n",
      "255: Data Load Finish, Predict Finish, 9.22 8.7933 0.3058 0.6737 Evaluation Finish\n",
      "256: Data Load Finish, Predict Finish, 6.2946 5.6629 0.1937 0.7772 Evaluation Finish\n",
      "257: Data Load Finish, "
     ]
    },
    {
     "name": "stderr",
     "output_type": "stream",
     "text": [
      "C:\\Users\\vfgtr554\\anaconda3\\envs\\cctv\\lib\\site-packages\\pandas\\core\\arraylike.py:364: RuntimeWarning: divide by zero encountered in log\n",
      "  result = getattr(ufunc, method)(*inputs, **kwargs)\n",
      "C:\\Users\\vfgtr554\\anaconda3\\envs\\cctv\\lib\\site-packages\\statsmodels\\base\\model.py:606: ConvergenceWarning: Maximum Likelihood optimization failed to converge. Check mle_retvals\n",
      "  ConvergenceWarning)\n"
     ]
    },
    {
     "name": "stdout",
     "output_type": "stream",
     "text": [
      "Predict Finish, 27.2597 27.1217 0.9641 0.0352 Evaluation Finish\n",
      "258: Data Load Finish, Predict Finish, 5.2683 4.4875 0.1515 0.8135 Evaluation Finish\n",
      "259: Data Load Finish, "
     ]
    },
    {
     "name": "stderr",
     "output_type": "stream",
     "text": [
      "C:\\Users\\vfgtr554\\anaconda3\\envs\\cctv\\lib\\site-packages\\pandas\\core\\arraylike.py:364: RuntimeWarning: divide by zero encountered in log\n",
      "  result = getattr(ufunc, method)(*inputs, **kwargs)\n",
      "C:\\Users\\vfgtr554\\anaconda3\\envs\\cctv\\lib\\site-packages\\statsmodels\\base\\model.py:606: ConvergenceWarning: Maximum Likelihood optimization failed to converge. Check mle_retvals\n",
      "  ConvergenceWarning)\n",
      "C:\\Users\\vfgtr554\\anaconda3\\envs\\cctv\\lib\\site-packages\\pandas\\core\\arraylike.py:364: RuntimeWarning: divide by zero encountered in log\n",
      "  result = getattr(ufunc, method)(*inputs, **kwargs)\n"
     ]
    },
    {
     "name": "stdout",
     "output_type": "stream",
     "text": [
      "Predict Finish, 27.2597 27.1217 0.9641 0.0352 Evaluation Finish\n",
      "260: Data Load Finish, "
     ]
    },
    {
     "name": "stderr",
     "output_type": "stream",
     "text": [
      "C:\\Users\\vfgtr554\\anaconda3\\envs\\cctv\\lib\\site-packages\\statsmodels\\base\\model.py:606: ConvergenceWarning: Maximum Likelihood optimization failed to converge. Check mle_retvals\n",
      "  ConvergenceWarning)\n"
     ]
    },
    {
     "name": "stdout",
     "output_type": "stream",
     "text": [
      "Predict Finish, 27.2597 27.1217 0.9641 0.0352 Evaluation Finish\n",
      "261: Data Load Finish, Predict Finish, 2.9544 2.487 0.0932 0.8954 Evaluation Finish\n",
      "262: Data Load Finish, "
     ]
    },
    {
     "name": "stderr",
     "output_type": "stream",
     "text": [
      "C:\\Users\\vfgtr554\\anaconda3\\envs\\cctv\\lib\\site-packages\\pandas\\core\\arraylike.py:364: RuntimeWarning: divide by zero encountered in log\n",
      "  result = getattr(ufunc, method)(*inputs, **kwargs)\n",
      "C:\\Users\\vfgtr554\\anaconda3\\envs\\cctv\\lib\\site-packages\\statsmodels\\base\\model.py:606: ConvergenceWarning: Maximum Likelihood optimization failed to converge. Check mle_retvals\n",
      "  ConvergenceWarning)\n"
     ]
    },
    {
     "name": "stdout",
     "output_type": "stream",
     "text": [
      "Predict Finish, 27.2597 27.1217 0.9641 0.0352 Evaluation Finish\n",
      "263: Data Load Finish, Predict Finish, 3.3309 2.8136 0.0959 0.8821 Evaluation Finish\n",
      "264: Data Load Finish, Predict Finish, 5.8296 5.1954 0.1772 0.7937 Evaluation Finish\n",
      "265: Data Load Finish, Predict Finish, 5.1357 4.4048 0.149 0.8182 Evaluation Finish\n",
      "266: Data Load Finish, Predict Finish, 10.4147 10.0508 0.3511 0.6314 Evaluation Finish\n",
      "267: Data Load Finish, Predict Finish, 4.587 3.7671 0.126 0.8377 Evaluation Finish\n",
      "268: Data Load Finish, Predict Finish, 5.8831 5.1719 0.1757 0.7918 Evaluation Finish\n",
      "269: Data Load Finish, Predict Finish, 2.8214 2.462 0.0905 0.9001 Evaluation Finish\n",
      "270: Data Load Finish, Predict Finish, 10.894 10.5236 0.3688 0.6144 Evaluation Finish\n",
      "271: Data Load Finish, Predict Finish, 4.6672 4.2858 0.1569 0.8348 Evaluation Finish\n",
      "272: Data Load Finish, "
     ]
    },
    {
     "name": "stderr",
     "output_type": "stream",
     "text": [
      "C:\\Users\\vfgtr554\\anaconda3\\envs\\cctv\\lib\\site-packages\\pandas\\core\\arraylike.py:364: RuntimeWarning: divide by zero encountered in log\n",
      "  result = getattr(ufunc, method)(*inputs, **kwargs)\n",
      "C:\\Users\\vfgtr554\\anaconda3\\envs\\cctv\\lib\\site-packages\\statsmodels\\base\\model.py:606: ConvergenceWarning: Maximum Likelihood optimization failed to converge. Check mle_retvals\n",
      "  ConvergenceWarning)\n"
     ]
    },
    {
     "name": "stdout",
     "output_type": "stream",
     "text": [
      "Predict Finish, 27.2597 27.1217 0.9641 0.0352 Evaluation Finish\n",
      "273: Data Load Finish, Predict Finish, 3.8813 3.1257 0.1047 0.8626 Evaluation Finish\n",
      "274: Data Load Finish, Predict Finish, 8.102 7.648 0.2656 0.7133 Evaluation Finish\n",
      "275: Data Load Finish, Predict Finish, 8.2023 7.7337 0.2679 0.7097 Evaluation Finish\n",
      "276: Data Load Finish, Predict Finish, 7.2898 6.7223 0.2333 0.742 Evaluation Finish\n",
      "277: Data Load Finish, "
     ]
    },
    {
     "name": "stderr",
     "output_type": "stream",
     "text": [
      "C:\\Users\\vfgtr554\\anaconda3\\envs\\cctv\\lib\\site-packages\\pandas\\core\\arraylike.py:364: RuntimeWarning: divide by zero encountered in log\n",
      "  result = getattr(ufunc, method)(*inputs, **kwargs)\n",
      "C:\\Users\\vfgtr554\\anaconda3\\envs\\cctv\\lib\\site-packages\\statsmodels\\base\\model.py:606: ConvergenceWarning: Maximum Likelihood optimization failed to converge. Check mle_retvals\n",
      "  ConvergenceWarning)\n",
      "C:\\Users\\vfgtr554\\anaconda3\\envs\\cctv\\lib\\site-packages\\pandas\\core\\arraylike.py:364: RuntimeWarning: divide by zero encountered in log\n",
      "  result = getattr(ufunc, method)(*inputs, **kwargs)\n"
     ]
    },
    {
     "name": "stdout",
     "output_type": "stream",
     "text": [
      "Predict Finish, 27.2597 27.1217 0.9641 0.0352 Evaluation Finish\n",
      "278: Data Load Finish, "
     ]
    },
    {
     "name": "stderr",
     "output_type": "stream",
     "text": [
      "C:\\Users\\vfgtr554\\anaconda3\\envs\\cctv\\lib\\site-packages\\statsmodels\\base\\model.py:606: ConvergenceWarning: Maximum Likelihood optimization failed to converge. Check mle_retvals\n",
      "  ConvergenceWarning)\n"
     ]
    },
    {
     "name": "stdout",
     "output_type": "stream",
     "text": [
      "Predict Finish, 27.2597 27.1217 0.9641 0.0352 Evaluation Finish\n",
      "279: Data Load Finish, Predict Finish, 5.6084 4.9116 0.1668 0.8015 Evaluation Finish\n",
      "280: Data Load Finish, Predict Finish, 4.2898 3.6156 0.1218 0.8482 Evaluation Finish\n",
      "281: Data Load Finish, Predict Finish, 4.9013 4.0731 0.1369 0.8265 Evaluation Finish\n",
      "282: Data Load Finish, Predict Finish, 3.3596 3.0189 0.1061 0.8811 Evaluation Finish\n",
      "283: Data Load Finish, Predict Finish, 2.819 2.4484 0.0896 0.9002 Evaluation Finish\n",
      "284: Data Load Finish, Predict Finish, 3.8046 3.1378 0.1202 0.8653 Evaluation Finish\n",
      "285: Data Load Finish, Predict Finish, 9.7082 9.3 0.324 0.6564 Evaluation Finish\n",
      "286: Data Load Finish, Predict Finish, 3.2534 2.7217 0.103 0.8849 Evaluation Finish\n",
      "287: Data Load Finish, Predict Finish, 5.6453 4.3788 0.1512 0.8002 Evaluation Finish\n",
      "288: Data Load Finish, Predict Finish, 3.2395 2.7513 0.094 0.8853 Evaluation Finish\n",
      "289: Data Load Finish, Predict Finish, 7.6604 7.178 0.2492 0.7289 Evaluation Finish\n",
      "290: Data Load Finish, Predict Finish, 5.4428 4.769 0.1801 0.8074 Evaluation Finish\n",
      "291: Data Load Finish, "
     ]
    },
    {
     "name": "stderr",
     "output_type": "stream",
     "text": [
      "C:\\Users\\vfgtr554\\anaconda3\\envs\\cctv\\lib\\site-packages\\pandas\\core\\arraylike.py:364: RuntimeWarning: divide by zero encountered in log\n",
      "  result = getattr(ufunc, method)(*inputs, **kwargs)\n",
      "C:\\Users\\vfgtr554\\anaconda3\\envs\\cctv\\lib\\site-packages\\statsmodels\\base\\model.py:606: ConvergenceWarning: Maximum Likelihood optimization failed to converge. Check mle_retvals\n",
      "  ConvergenceWarning)\n"
     ]
    },
    {
     "name": "stdout",
     "output_type": "stream",
     "text": [
      "Predict Finish, 27.2597 27.1217 0.9641 0.0352 Evaluation Finish\n",
      "292: Data Load Finish, Predict Finish, 8.851 8.2499 0.2856 0.6867 Evaluation Finish\n",
      "293: Data Load Finish, "
     ]
    },
    {
     "name": "stderr",
     "output_type": "stream",
     "text": [
      "C:\\Users\\vfgtr554\\anaconda3\\envs\\cctv\\lib\\site-packages\\pandas\\core\\arraylike.py:364: RuntimeWarning: divide by zero encountered in log\n",
      "  result = getattr(ufunc, method)(*inputs, **kwargs)\n",
      "C:\\Users\\vfgtr554\\anaconda3\\envs\\cctv\\lib\\site-packages\\statsmodels\\base\\model.py:606: ConvergenceWarning: Maximum Likelihood optimization failed to converge. Check mle_retvals\n",
      "  ConvergenceWarning)\n"
     ]
    },
    {
     "name": "stdout",
     "output_type": "stream",
     "text": [
      "Predict Finish, 27.2597 27.1217 0.9641 0.0352 Evaluation Finish\n",
      "294: Data Load Finish, Predict Finish, 4.6829 3.8332 0.1289 0.8343 Evaluation Finish\n",
      "295: Data Load Finish, Predict Finish, 5.9302 5.2531 0.1788 0.7901 Evaluation Finish\n",
      "296: Data Load Finish, Predict Finish, 4.1635 3.2849 0.1094 0.8526 Evaluation Finish\n",
      "297: Data Load Finish, Predict Finish, 4.7094 3.8772 0.1297 0.8333 Evaluation Finish\n",
      "298: Data Load Finish, Predict Finish, 9.8285 9.2528 0.3212 0.6521 Evaluation Finish\n",
      "299: Data Load Finish, Predict Finish, 3.1658 2.4959 0.0957 0.888 Evaluation Finish\n",
      "300: Data Load Finish, Predict Finish, 5.5324 4.6743 0.1783 0.8042 Evaluation Finish\n",
      "301: Data Load Finish, Predict Finish, 8.4818 8.0285 0.2786 0.6998 Evaluation Finish\n",
      "302: Data Load Finish, Predict Finish, 13.2039 12.9062 0.4535 0.5327 Evaluation Finish\n",
      "303: Data Load Finish, Predict Finish, 6.2504 5.622 0.2116 0.7788 Evaluation Finish\n",
      "304: Data Load Finish, "
     ]
    },
    {
     "name": "stderr",
     "output_type": "stream",
     "text": [
      "C:\\Users\\vfgtr554\\anaconda3\\envs\\cctv\\lib\\site-packages\\pandas\\core\\arraylike.py:364: RuntimeWarning: divide by zero encountered in log\n",
      "  result = getattr(ufunc, method)(*inputs, **kwargs)\n",
      "C:\\Users\\vfgtr554\\anaconda3\\envs\\cctv\\lib\\site-packages\\statsmodels\\base\\model.py:606: ConvergenceWarning: Maximum Likelihood optimization failed to converge. Check mle_retvals\n",
      "  ConvergenceWarning)\n",
      "C:\\Users\\vfgtr554\\anaconda3\\envs\\cctv\\lib\\site-packages\\pandas\\core\\arraylike.py:364: RuntimeWarning: divide by zero encountered in log\n",
      "  result = getattr(ufunc, method)(*inputs, **kwargs)\n"
     ]
    },
    {
     "name": "stdout",
     "output_type": "stream",
     "text": [
      "Predict Finish, 27.2597 27.1217 0.9641 0.0352 Evaluation Finish\n",
      "305: Data Load Finish, "
     ]
    },
    {
     "name": "stderr",
     "output_type": "stream",
     "text": [
      "C:\\Users\\vfgtr554\\anaconda3\\envs\\cctv\\lib\\site-packages\\statsmodels\\base\\model.py:606: ConvergenceWarning: Maximum Likelihood optimization failed to converge. Check mle_retvals\n",
      "  ConvergenceWarning)\n"
     ]
    },
    {
     "name": "stdout",
     "output_type": "stream",
     "text": [
      "Predict Finish, 27.2597 27.1217 0.9641 0.0352 Evaluation Finish\n",
      "306: Data Load Finish, Predict Finish, 10.7006 10.2731 0.3583 0.6213 Evaluation Finish\n",
      "307: Data Load Finish, "
     ]
    },
    {
     "name": "stderr",
     "output_type": "stream",
     "text": [
      "C:\\Users\\vfgtr554\\anaconda3\\envs\\cctv\\lib\\site-packages\\pandas\\core\\arraylike.py:364: RuntimeWarning: divide by zero encountered in log\n",
      "  result = getattr(ufunc, method)(*inputs, **kwargs)\n",
      "C:\\Users\\vfgtr554\\anaconda3\\envs\\cctv\\lib\\site-packages\\statsmodels\\base\\model.py:606: ConvergenceWarning: Maximum Likelihood optimization failed to converge. Check mle_retvals\n",
      "  ConvergenceWarning)\n",
      "C:\\Users\\vfgtr554\\anaconda3\\envs\\cctv\\lib\\site-packages\\pandas\\core\\arraylike.py:364: RuntimeWarning: divide by zero encountered in log\n",
      "  result = getattr(ufunc, method)(*inputs, **kwargs)\n"
     ]
    },
    {
     "name": "stdout",
     "output_type": "stream",
     "text": [
      "Predict Finish, 27.2597 27.1217 0.9641 0.0352 Evaluation Finish\n",
      "308: Data Load Finish, "
     ]
    },
    {
     "name": "stderr",
     "output_type": "stream",
     "text": [
      "C:\\Users\\vfgtr554\\anaconda3\\envs\\cctv\\lib\\site-packages\\statsmodels\\base\\model.py:606: ConvergenceWarning: Maximum Likelihood optimization failed to converge. Check mle_retvals\n",
      "  ConvergenceWarning)\n"
     ]
    },
    {
     "name": "stdout",
     "output_type": "stream",
     "text": [
      "Predict Finish, 27.2597 27.1217 0.9641 0.0352 Evaluation Finish\n",
      "309: Data Load Finish, Predict Finish, 5.0815 4.2917 0.1446 0.8202 Evaluation Finish\n",
      "310: Data Load Finish, Predict Finish, 8.2146 7.7401 0.2684 0.7093 Evaluation Finish\n",
      "311: Data Load Finish, "
     ]
    },
    {
     "name": "stderr",
     "output_type": "stream",
     "text": [
      "C:\\Users\\vfgtr554\\anaconda3\\envs\\cctv\\lib\\site-packages\\pandas\\core\\arraylike.py:364: RuntimeWarning: divide by zero encountered in log\n",
      "  result = getattr(ufunc, method)(*inputs, **kwargs)\n",
      "C:\\Users\\vfgtr554\\anaconda3\\envs\\cctv\\lib\\site-packages\\statsmodels\\base\\model.py:606: ConvergenceWarning: Maximum Likelihood optimization failed to converge. Check mle_retvals\n",
      "  ConvergenceWarning)\n"
     ]
    },
    {
     "name": "stdout",
     "output_type": "stream",
     "text": [
      "Predict Finish, 27.2597 27.1217 0.9641 0.0352 Evaluation Finish\n",
      "312: Data Load Finish, Predict Finish, 12.6982 12.4184 0.4549 0.5506 Evaluation Finish\n",
      "313: Data Load Finish, Predict Finish, 9.3358 8.9199 0.3107 0.6696 Evaluation Finish\n",
      "314: Data Load Finish, "
     ]
    },
    {
     "name": "stderr",
     "output_type": "stream",
     "text": [
      "C:\\Users\\vfgtr554\\anaconda3\\envs\\cctv\\lib\\site-packages\\pandas\\core\\arraylike.py:364: RuntimeWarning: divide by zero encountered in log\n",
      "  result = getattr(ufunc, method)(*inputs, **kwargs)\n",
      "C:\\Users\\vfgtr554\\anaconda3\\envs\\cctv\\lib\\site-packages\\statsmodels\\base\\model.py:606: ConvergenceWarning: Maximum Likelihood optimization failed to converge. Check mle_retvals\n",
      "  ConvergenceWarning)\n"
     ]
    },
    {
     "name": "stdout",
     "output_type": "stream",
     "text": [
      "Predict Finish, 27.2597 27.1217 0.9641 0.0352 Evaluation Finish\n",
      "315: Data Load Finish, Predict Finish, 5.3698 4.6164 0.156 0.81 Evaluation Finish\n",
      "316: Data Load Finish, Predict Finish, 5.6904 4.9904 0.1694 0.7986 Evaluation Finish\n",
      "317: Data Load Finish, Predict Finish, 3.6421 2.9773 0.1003 0.8711 Evaluation Finish\n",
      "318: Data Load Finish, Predict Finish, 10.4929 10.1304 0.354 0.6286 Evaluation Finish\n",
      "319: Data Load Finish, Predict Finish, 7.603 7.0948 0.2452 0.7309 Evaluation Finish\n",
      "320: Data Load Finish, "
     ]
    },
    {
     "name": "stderr",
     "output_type": "stream",
     "text": [
      "C:\\Users\\vfgtr554\\anaconda3\\envs\\cctv\\lib\\site-packages\\pandas\\core\\arraylike.py:364: RuntimeWarning: divide by zero encountered in log\n",
      "  result = getattr(ufunc, method)(*inputs, **kwargs)\n",
      "C:\\Users\\vfgtr554\\anaconda3\\envs\\cctv\\lib\\site-packages\\statsmodels\\base\\model.py:606: ConvergenceWarning: Maximum Likelihood optimization failed to converge. Check mle_retvals\n",
      "  ConvergenceWarning)\n",
      "C:\\Users\\vfgtr554\\anaconda3\\envs\\cctv\\lib\\site-packages\\pandas\\core\\arraylike.py:364: RuntimeWarning: divide by zero encountered in log\n",
      "  result = getattr(ufunc, method)(*inputs, **kwargs)\n"
     ]
    },
    {
     "name": "stdout",
     "output_type": "stream",
     "text": [
      "Predict Finish, 27.2597 27.1217 0.9641 0.0352 Evaluation Finish\n",
      "321: Data Load Finish, "
     ]
    },
    {
     "name": "stderr",
     "output_type": "stream",
     "text": [
      "C:\\Users\\vfgtr554\\anaconda3\\envs\\cctv\\lib\\site-packages\\statsmodels\\base\\model.py:606: ConvergenceWarning: Maximum Likelihood optimization failed to converge. Check mle_retvals\n",
      "  ConvergenceWarning)\n"
     ]
    },
    {
     "name": "stdout",
     "output_type": "stream",
     "text": [
      "Predict Finish, 27.2597 27.1217 0.9641 0.0352 Evaluation Finish\n",
      "322: Data Load Finish, Predict Finish, 2.916 2.5178 0.088 0.8968 Evaluation Finish\n",
      "323: Data Load Finish, Predict Finish, 4.8018 3.927 0.1315 0.8301 Evaluation Finish\n",
      "324: Data Load Finish, Predict Finish, 3.8281 3.0738 0.1184 0.8645 Evaluation Finish\n",
      "325: Data Load Finish, Predict Finish, 7.5513 7.0747 0.2629 0.7327 Evaluation Finish\n",
      "326: Data Load Finish, Predict Finish, 6.7496 6.1618 0.2114 0.7611 Evaluation Finish\n",
      "327: "
     ]
    },
    {
     "name": "stderr",
     "output_type": "stream",
     "text": [
      "C:\\Users\\vfgtr554\\anaconda3\\envs\\cctv\\lib\\site-packages\\pandas\\core\\arraylike.py:364: RuntimeWarning: divide by zero encountered in log\n",
      "  result = getattr(ufunc, method)(*inputs, **kwargs)\n"
     ]
    },
    {
     "name": "stdout",
     "output_type": "stream",
     "text": [
      "Data Load Finish, "
     ]
    },
    {
     "name": "stderr",
     "output_type": "stream",
     "text": [
      "C:\\Users\\vfgtr554\\anaconda3\\envs\\cctv\\lib\\site-packages\\statsmodels\\base\\model.py:606: ConvergenceWarning: Maximum Likelihood optimization failed to converge. Check mle_retvals\n",
      "  ConvergenceWarning)\n"
     ]
    },
    {
     "name": "stdout",
     "output_type": "stream",
     "text": [
      "Predict Finish, 27.2597 27.1217 0.9641 0.0352 Evaluation Finish\n",
      "328: Data Load Finish, Predict Finish, 8.7528 8.3143 0.3083 0.6902 Evaluation Finish\n",
      "329: Data Load Finish, Predict Finish, 9.8974 9.382 0.3458 0.6497 Evaluation Finish\n",
      "330: Data Load Finish, "
     ]
    },
    {
     "name": "stderr",
     "output_type": "stream",
     "text": [
      "C:\\Users\\vfgtr554\\anaconda3\\envs\\cctv\\lib\\site-packages\\pandas\\core\\arraylike.py:364: RuntimeWarning: divide by zero encountered in log\n",
      "  result = getattr(ufunc, method)(*inputs, **kwargs)\n",
      "C:\\Users\\vfgtr554\\anaconda3\\envs\\cctv\\lib\\site-packages\\statsmodels\\base\\model.py:606: ConvergenceWarning: Maximum Likelihood optimization failed to converge. Check mle_retvals\n",
      "  ConvergenceWarning)\n",
      "C:\\Users\\vfgtr554\\anaconda3\\envs\\cctv\\lib\\site-packages\\pandas\\core\\arraylike.py:364: RuntimeWarning: divide by zero encountered in log\n",
      "  result = getattr(ufunc, method)(*inputs, **kwargs)\n"
     ]
    },
    {
     "name": "stdout",
     "output_type": "stream",
     "text": [
      "Predict Finish, 27.2597 27.1217 0.9641 0.0352 Evaluation Finish\n",
      "331: Data Load Finish, "
     ]
    },
    {
     "name": "stderr",
     "output_type": "stream",
     "text": [
      "C:\\Users\\vfgtr554\\anaconda3\\envs\\cctv\\lib\\site-packages\\statsmodels\\base\\model.py:606: ConvergenceWarning: Maximum Likelihood optimization failed to converge. Check mle_retvals\n",
      "  ConvergenceWarning)\n"
     ]
    },
    {
     "name": "stdout",
     "output_type": "stream",
     "text": [
      "Predict Finish, 27.2597 27.1217 0.9641 0.0352 Evaluation Finish\n",
      "332: Data Load Finish, Predict Finish, 5.3508 4.6258 0.1755 0.8106 Evaluation Finish\n",
      "333: Data Load Finish, Predict Finish, 11.0574 10.5634 0.3904 0.6087 Evaluation Finish\n",
      "334: Data Load Finish, Predict Finish, 19.7201 19.5308 0.7111 0.3021 Evaluation Finish\n",
      "335: Data Load Finish, "
     ]
    },
    {
     "name": "stderr",
     "output_type": "stream",
     "text": [
      "C:\\Users\\vfgtr554\\anaconda3\\envs\\cctv\\lib\\site-packages\\pandas\\core\\arraylike.py:364: RuntimeWarning: divide by zero encountered in log\n",
      "  result = getattr(ufunc, method)(*inputs, **kwargs)\n",
      "C:\\Users\\vfgtr554\\anaconda3\\envs\\cctv\\lib\\site-packages\\statsmodels\\base\\model.py:606: ConvergenceWarning: Maximum Likelihood optimization failed to converge. Check mle_retvals\n",
      "  ConvergenceWarning)\n"
     ]
    },
    {
     "name": "stdout",
     "output_type": "stream",
     "text": [
      "Predict Finish, 27.2597 27.1217 0.9641 0.0352 Evaluation Finish\n",
      "336: Data Load Finish, Predict Finish, 12.3839 12.0454 0.4418 0.5617 Evaluation Finish\n",
      "337: Data Load Finish, Predict Finish, 4.0301 3.3057 0.1269 0.8574 Evaluation Finish\n",
      "338: Data Load Finish, Predict Finish, 15.782 15.5063 0.5672 0.4414 Evaluation Finish\n",
      "339: Data Load Finish, Predict Finish, 7.9278 7.4141 0.2754 0.7194 Evaluation Finish\n",
      "340: Data Load Finish, Predict Finish, 2.9843 2.4347 0.0919 0.8944 Evaluation Finish\n",
      "341: Data Load Finish, Predict Finish, 7.8844 7.3198 0.272 0.721 Evaluation Finish\n",
      "342: Data Load Finish, "
     ]
    },
    {
     "name": "stderr",
     "output_type": "stream",
     "text": [
      "C:\\Users\\vfgtr554\\anaconda3\\envs\\cctv\\lib\\site-packages\\pandas\\core\\arraylike.py:364: RuntimeWarning: divide by zero encountered in log\n",
      "  result = getattr(ufunc, method)(*inputs, **kwargs)\n",
      "C:\\Users\\vfgtr554\\anaconda3\\envs\\cctv\\lib\\site-packages\\statsmodels\\base\\model.py:606: ConvergenceWarning: Maximum Likelihood optimization failed to converge. Check mle_retvals\n",
      "  ConvergenceWarning)\n"
     ]
    },
    {
     "name": "stdout",
     "output_type": "stream",
     "text": [
      "Predict Finish, 27.2597 27.1217 0.9641 0.0352 Evaluation Finish\n",
      "343: Data Load Finish, Predict Finish, 8.2293 7.7482 0.2878 0.7087 Evaluation Finish\n",
      "344: Data Load Finish, Predict Finish, 3.7458 3.2106 0.1217 0.8674 Evaluation Finish\n",
      "345: Data Load Finish, Predict Finish, 3.2332 2.5767 0.0985 0.8856 Evaluation Finish\n",
      "346: Data Load Finish, Predict Finish, 11.8086 11.4459 0.4007 0.5821 Evaluation Finish\n",
      "347: Data Load Finish, "
     ]
    },
    {
     "name": "stderr",
     "output_type": "stream",
     "text": [
      "C:\\Users\\vfgtr554\\anaconda3\\envs\\cctv\\lib\\site-packages\\pandas\\core\\arraylike.py:364: RuntimeWarning: divide by zero encountered in log\n",
      "  result = getattr(ufunc, method)(*inputs, **kwargs)\n",
      "C:\\Users\\vfgtr554\\anaconda3\\envs\\cctv\\lib\\site-packages\\statsmodels\\base\\model.py:606: ConvergenceWarning: Maximum Likelihood optimization failed to converge. Check mle_retvals\n",
      "  ConvergenceWarning)\n",
      "C:\\Users\\vfgtr554\\anaconda3\\envs\\cctv\\lib\\site-packages\\pandas\\core\\arraylike.py:364: RuntimeWarning: divide by zero encountered in log\n",
      "  result = getattr(ufunc, method)(*inputs, **kwargs)\n"
     ]
    },
    {
     "name": "stdout",
     "output_type": "stream",
     "text": [
      "Predict Finish, 27.2597 27.1217 0.9641 0.0352 Evaluation Finish\n",
      "348: Data Load Finish, "
     ]
    },
    {
     "name": "stderr",
     "output_type": "stream",
     "text": [
      "C:\\Users\\vfgtr554\\anaconda3\\envs\\cctv\\lib\\site-packages\\statsmodels\\base\\model.py:606: ConvergenceWarning: Maximum Likelihood optimization failed to converge. Check mle_retvals\n",
      "  ConvergenceWarning)\n"
     ]
    },
    {
     "name": "stdout",
     "output_type": "stream",
     "text": [
      "Predict Finish, 27.2597 27.1217 0.9641 0.0352 Evaluation Finish\n",
      "349: Data Load Finish, Predict Finish, 8.1713 7.6454 0.2643 0.7108 Evaluation Finish\n",
      "350: Data Load Finish, Predict Finish, 13.3113 13.05 0.4595 0.5289 Evaluation Finish\n",
      "351: Data Load Finish, Predict Finish, 4.2236 3.4422 0.1152 0.8505 Evaluation Finish\n",
      "352: Data Load Finish, Predict Finish, 4.2959 3.5647 0.1197 0.848 Evaluation Finish\n",
      "353: Data Load Finish, Predict Finish, 3.205 2.5754 0.0985 0.8866 Evaluation Finish\n",
      "354: Data Load Finish, "
     ]
    },
    {
     "name": "stderr",
     "output_type": "stream",
     "text": [
      "C:\\Users\\vfgtr554\\anaconda3\\envs\\cctv\\lib\\site-packages\\pandas\\core\\arraylike.py:364: RuntimeWarning: divide by zero encountered in log\n",
      "  result = getattr(ufunc, method)(*inputs, **kwargs)\n",
      "C:\\Users\\vfgtr554\\anaconda3\\envs\\cctv\\lib\\site-packages\\statsmodels\\base\\model.py:606: ConvergenceWarning: Maximum Likelihood optimization failed to converge. Check mle_retvals\n",
      "  ConvergenceWarning)\n"
     ]
    },
    {
     "name": "stdout",
     "output_type": "stream",
     "text": [
      "Predict Finish, 27.2597 27.1217 0.9641 0.0352 Evaluation Finish\n",
      "355: Data Load Finish, Predict Finish, 3.8778 3.1734 0.1218 0.8628 Evaluation Finish\n",
      "356: Data Load Finish, "
     ]
    },
    {
     "name": "stderr",
     "output_type": "stream",
     "text": [
      "C:\\Users\\vfgtr554\\anaconda3\\envs\\cctv\\lib\\site-packages\\pandas\\core\\arraylike.py:364: RuntimeWarning: divide by zero encountered in log\n",
      "  result = getattr(ufunc, method)(*inputs, **kwargs)\n",
      "C:\\Users\\vfgtr554\\anaconda3\\envs\\cctv\\lib\\site-packages\\statsmodels\\base\\model.py:606: ConvergenceWarning: Maximum Likelihood optimization failed to converge. Check mle_retvals\n",
      "  ConvergenceWarning)\n"
     ]
    },
    {
     "name": "stdout",
     "output_type": "stream",
     "text": [
      "Predict Finish, 27.2597 27.1217 0.9641 0.0352 Evaluation Finish\n",
      "357: Data Load Finish, Predict Finish, 3.6815 2.8795 0.1115 0.8697 Evaluation Finish\n",
      "358: Data Load Finish, "
     ]
    },
    {
     "name": "stderr",
     "output_type": "stream",
     "text": [
      "C:\\Users\\vfgtr554\\anaconda3\\envs\\cctv\\lib\\site-packages\\pandas\\core\\arraylike.py:364: RuntimeWarning: divide by zero encountered in log\n",
      "  result = getattr(ufunc, method)(*inputs, **kwargs)\n",
      "C:\\Users\\vfgtr554\\anaconda3\\envs\\cctv\\lib\\site-packages\\statsmodels\\base\\model.py:606: ConvergenceWarning: Maximum Likelihood optimization failed to converge. Check mle_retvals\n",
      "  ConvergenceWarning)\n"
     ]
    },
    {
     "name": "stdout",
     "output_type": "stream",
     "text": [
      "Predict Finish, 27.2597 27.1217 0.9641 0.0352 Evaluation Finish\n",
      "359: Data Load Finish, Predict Finish, 3.3184 2.654 0.1014 0.8826 Evaluation Finish\n",
      "360: Data Load Finish, Predict Finish, 3.6771 3.1415 0.119 0.8699 Evaluation Finish\n",
      "361: Data Load Finish, Predict Finish, 3.9999 3.4449 0.1307 0.8584 Evaluation Finish\n",
      "362: Data Load Finish, Predict Finish, 4.4461 3.6778 0.1233 0.8426 Evaluation Finish\n",
      "363: Data Load Finish, Predict Finish, 8.5054 8.0636 0.2801 0.699 Evaluation Finish\n",
      "364: Data Load Finish, Predict Finish, 7.4479 6.9271 0.239 0.7364 Evaluation Finish\n",
      "365: Data Load Finish, Predict Finish, 5.2492 4.6361 0.1746 0.8142 Evaluation Finish\n",
      "366: Data Load Finish, Predict Finish, 3.3183 2.8252 0.0965 0.8826 Evaluation Finish\n",
      "367: Data Load Finish, Predict Finish, 6.3482 5.7063 0.2145 0.7753 Evaluation Finish\n",
      "368: Data Load Finish, Predict Finish, 4.2013 3.4923 0.1174 0.8513 Evaluation Finish\n",
      "369: Data Load Finish, Predict Finish, 3.775 2.8594 0.0951 0.8664 Evaluation Finish\n",
      "370: Data Load Finish, Predict Finish, 3.6447 3.3615 0.123 0.871 Evaluation Finish\n",
      "371: Data Load Finish, Predict Finish, 2.795 2.4565 0.09 0.9011 Evaluation Finish\n",
      "372: Data Load Finish, Predict Finish, 15.3818 15.1215 0.552 0.4556 Evaluation Finish\n",
      "373: Data Load Finish, "
     ]
    },
    {
     "name": "stderr",
     "output_type": "stream",
     "text": [
      "C:\\Users\\vfgtr554\\anaconda3\\envs\\cctv\\lib\\site-packages\\pandas\\core\\arraylike.py:364: RuntimeWarning: divide by zero encountered in log\n",
      "  result = getattr(ufunc, method)(*inputs, **kwargs)\n",
      "C:\\Users\\vfgtr554\\anaconda3\\envs\\cctv\\lib\\site-packages\\statsmodels\\base\\model.py:606: ConvergenceWarning: Maximum Likelihood optimization failed to converge. Check mle_retvals\n",
      "  ConvergenceWarning)\n",
      "C:\\Users\\vfgtr554\\anaconda3\\envs\\cctv\\lib\\site-packages\\pandas\\core\\arraylike.py:364: RuntimeWarning: divide by zero encountered in log\n",
      "  result = getattr(ufunc, method)(*inputs, **kwargs)\n"
     ]
    },
    {
     "name": "stdout",
     "output_type": "stream",
     "text": [
      "Predict Finish, 27.2597 27.1217 0.9641 0.0352 Evaluation Finish\n",
      "374: Data Load Finish, "
     ]
    },
    {
     "name": "stderr",
     "output_type": "stream",
     "text": [
      "C:\\Users\\vfgtr554\\anaconda3\\envs\\cctv\\lib\\site-packages\\statsmodels\\base\\model.py:606: ConvergenceWarning: Maximum Likelihood optimization failed to converge. Check mle_retvals\n",
      "  ConvergenceWarning)\n"
     ]
    },
    {
     "name": "stdout",
     "output_type": "stream",
     "text": [
      "Predict Finish, 27.2597 27.1217 0.9641 0.0352 Evaluation Finish\n",
      "375: Data Load Finish, Predict Finish, 38.9778 38.8755 1.4055 -0.3795 Evaluation Finish\n",
      "376: Data Load Finish, Predict Finish, 55.9281 55.8609 2.0151 -0.9794 Evaluation Finish\n",
      "377: Data Load Finish, Predict Finish, 30.3745 30.2427 1.0954 -0.075 Evaluation Finish\n",
      "378: Data Load Finish, Predict Finish, 30.2401 30.0752 1.089 -0.0703 Evaluation Finish\n",
      "379: Data Load Finish, "
     ]
    },
    {
     "name": "stderr",
     "output_type": "stream",
     "text": [
      "C:\\Users\\vfgtr554\\anaconda3\\envs\\cctv\\lib\\site-packages\\pandas\\core\\arraylike.py:364: RuntimeWarning: divide by zero encountered in log\n",
      "  result = getattr(ufunc, method)(*inputs, **kwargs)\n",
      "C:\\Users\\vfgtr554\\anaconda3\\envs\\cctv\\lib\\site-packages\\statsmodels\\base\\model.py:606: ConvergenceWarning: Maximum Likelihood optimization failed to converge. Check mle_retvals\n",
      "  ConvergenceWarning)\n"
     ]
    },
    {
     "name": "stdout",
     "output_type": "stream",
     "text": [
      "Predict Finish, 27.2597 27.1217 0.9641 0.0352 Evaluation Finish\n",
      "380: Data Load Finish, Predict Finish, 7.1804 6.5228 0.2427 0.7459 Evaluation Finish\n",
      "381: Data Load Finish, Predict Finish, 4.0923 3.0785 0.1018 0.8552 Evaluation Finish\n",
      "382: Data Load Finish, Predict Finish, 4.8096 4.4067 0.1641 0.8298 Evaluation Finish\n",
      "383: Data Load Finish, Predict Finish, 2.8202 2.4497 0.0879 0.9002 Evaluation Finish\n",
      "384: Data Load Finish, Predict Finish, 4.0229 3.3566 0.1131 0.8576 Evaluation Finish\n",
      "385: Data Load Finish, "
     ]
    },
    {
     "name": "stderr",
     "output_type": "stream",
     "text": [
      "C:\\Users\\vfgtr554\\anaconda3\\envs\\cctv\\lib\\site-packages\\pandas\\core\\arraylike.py:364: RuntimeWarning: divide by zero encountered in log\n",
      "  result = getattr(ufunc, method)(*inputs, **kwargs)\n",
      "C:\\Users\\vfgtr554\\anaconda3\\envs\\cctv\\lib\\site-packages\\statsmodels\\base\\model.py:606: ConvergenceWarning: Maximum Likelihood optimization failed to converge. Check mle_retvals\n",
      "  ConvergenceWarning)\n"
     ]
    },
    {
     "name": "stdout",
     "output_type": "stream",
     "text": [
      "Predict Finish, 27.2597 27.1217 0.9641 0.0352 Evaluation Finish\n",
      "386: Data Load Finish, Predict Finish, 3.2709 2.6335 0.1004 0.8842 Evaluation Finish\n",
      "387: Data Load Finish, Predict Finish, 3.5413 2.8595 0.1096 0.8747 Evaluation Finish\n",
      "388: Data Load Finish, Predict Finish, 2.7517 2.4778 0.0893 0.9026 Evaluation Finish\n",
      "389: Data Load Finish, Predict Finish, 18.743 18.5413 0.6755 0.3366 Evaluation Finish\n",
      "390: Data Load Finish, "
     ]
    },
    {
     "name": "stderr",
     "output_type": "stream",
     "text": [
      "C:\\Users\\vfgtr554\\anaconda3\\envs\\cctv\\lib\\site-packages\\pandas\\core\\arraylike.py:364: RuntimeWarning: divide by zero encountered in log\n",
      "  result = getattr(ufunc, method)(*inputs, **kwargs)\n",
      "C:\\Users\\vfgtr554\\anaconda3\\envs\\cctv\\lib\\site-packages\\statsmodels\\base\\model.py:606: ConvergenceWarning: Maximum Likelihood optimization failed to converge. Check mle_retvals\n",
      "  ConvergenceWarning)\n"
     ]
    },
    {
     "name": "stdout",
     "output_type": "stream",
     "text": [
      "Predict Finish, 27.2597 27.1217 0.9641 0.0352 Evaluation Finish\n",
      "391: Data Load Finish, Predict Finish, 7.9147 7.4593 0.2592 0.7199 Evaluation Finish\n",
      "392: Data Load Finish, Predict Finish, 9.2689 8.7182 0.3022 0.672 Evaluation Finish\n",
      "393: Data Load Finish, Predict Finish, 6.1824 5.5503 0.1898 0.7812 Evaluation Finish\n",
      "394: Data Load Finish, Predict Finish, 4.3219 3.5594 0.1193 0.847 Evaluation Finish\n",
      "395: Data Load Finish, Predict Finish, 7.0668 6.5236 0.2249 0.7499 Evaluation Finish\n",
      "396: Data Load Finish, Predict Finish, 4.5395 3.65 0.1217 0.8393 Evaluation Finish\n",
      "397: Data Load Finish, Predict Finish, 3.918 3.0521 0.1183 0.8613 Evaluation Finish\n",
      "398: Data Load Finish, Predict Finish, 6.5134 5.9342 0.2048 0.7695 Evaluation Finish\n",
      "399: Data Load Finish, Predict Finish, 6.5683 5.8982 0.203 0.7675 Evaluation Finish\n",
      "400: Data Load Finish, Predict Finish, 10.278 9.8498 0.3434 0.6362 Evaluation Finish\n",
      "401: Data Load Finish, Predict Finish, 5.5119 4.8119 0.1635 0.8049 Evaluation Finish\n",
      "402: Data Load Finish, Predict Finish, 4.9796 4.0642 0.1371 0.8238 Evaluation Finish\n",
      "403: Data Load Finish, Predict Finish, 7.2582 6.7141 0.2312 0.7431 Evaluation Finish\n",
      "404: Data Load Finish, Predict Finish, 6.9106 6.3423 0.2184 0.7554 Evaluation Finish\n",
      "405: Data Load Finish, Predict Finish, 5.2768 4.5088 0.1716 0.8132 Evaluation Finish\n",
      "406: Data Load Finish, Predict Finish, 2.7881 2.4471 0.0906 0.9013 Evaluation Finish\n",
      "407: Data Load Finish, Predict Finish, 2.8137 2.4249 0.0886 0.9004 Evaluation Finish\n",
      "408: Data Load Finish, Predict Finish, 2.7609 2.4681 0.0904 0.9023 Evaluation Finish\n",
      "409: Data Load Finish, Predict Finish, 3.7162 3.177 0.1205 0.8685 Evaluation Finish\n",
      "410: Data Load Finish, Predict Finish, 2.99 2.5912 0.09 0.8942 Evaluation Finish\n",
      "411: Data Load Finish, Predict Finish, 3.1723 2.6779 0.0918 0.8877 Evaluation Finish\n",
      "412: Data Load Finish, Predict Finish, 10.6685 10.1879 0.3768 0.6224 Evaluation Finish\n",
      "413: Data Load Finish, Predict Finish, 5.6735 4.928 0.169 0.7992 Evaluation Finish\n",
      "414: Data Load Finish, Predict Finish, 3.638 3.3002 0.1217 0.8712 Evaluation Finish\n",
      "415: Data Load Finish, "
     ]
    },
    {
     "name": "stderr",
     "output_type": "stream",
     "text": [
      "C:\\Users\\vfgtr554\\anaconda3\\envs\\cctv\\lib\\site-packages\\pandas\\core\\arraylike.py:364: RuntimeWarning: divide by zero encountered in log\n",
      "  result = getattr(ufunc, method)(*inputs, **kwargs)\n",
      "C:\\Users\\vfgtr554\\anaconda3\\envs\\cctv\\lib\\site-packages\\statsmodels\\base\\model.py:606: ConvergenceWarning: Maximum Likelihood optimization failed to converge. Check mle_retvals\n",
      "  ConvergenceWarning)\n"
     ]
    },
    {
     "name": "stdout",
     "output_type": "stream",
     "text": [
      "Predict Finish, 27.2597 27.1217 0.9641 0.0352 Evaluation Finish\n",
      "416: Data Load Finish, Predict Finish, 3.6324 2.9762 0.1119 0.8714 Evaluation Finish\n",
      "417: Data Load Finish, Predict Finish, 3.4033 2.5125 0.085 0.8795 Evaluation Finish\n",
      "418: Data Load Finish, Predict Finish, 16.8817 16.6563 0.6074 0.4025 Evaluation Finish\n",
      "419: "
     ]
    },
    {
     "name": "stderr",
     "output_type": "stream",
     "text": [
      "C:\\Users\\vfgtr554\\anaconda3\\envs\\cctv\\lib\\site-packages\\pandas\\core\\arraylike.py:364: RuntimeWarning: divide by zero encountered in log\n",
      "  result = getattr(ufunc, method)(*inputs, **kwargs)\n"
     ]
    },
    {
     "name": "stdout",
     "output_type": "stream",
     "text": [
      "Data Load Finish, "
     ]
    },
    {
     "name": "stderr",
     "output_type": "stream",
     "text": [
      "C:\\Users\\vfgtr554\\anaconda3\\envs\\cctv\\lib\\site-packages\\statsmodels\\base\\model.py:606: ConvergenceWarning: Maximum Likelihood optimization failed to converge. Check mle_retvals\n",
      "  ConvergenceWarning)\n"
     ]
    },
    {
     "name": "stdout",
     "output_type": "stream",
     "text": [
      "Predict Finish, 27.2597 27.1217 0.9641 0.0352 Evaluation Finish\n",
      "420: Data Load Finish, Predict Finish, 3.7749 3.3908 0.1258 0.8664 Evaluation Finish\n",
      "421: Data Load Finish, "
     ]
    },
    {
     "name": "stderr",
     "output_type": "stream",
     "text": [
      "C:\\Users\\vfgtr554\\anaconda3\\envs\\cctv\\lib\\site-packages\\pandas\\core\\arraylike.py:364: RuntimeWarning: divide by zero encountered in log\n",
      "  result = getattr(ufunc, method)(*inputs, **kwargs)\n",
      "C:\\Users\\vfgtr554\\anaconda3\\envs\\cctv\\lib\\site-packages\\statsmodels\\base\\model.py:606: ConvergenceWarning: Maximum Likelihood optimization failed to converge. Check mle_retvals\n",
      "  ConvergenceWarning)\n"
     ]
    },
    {
     "name": "stdout",
     "output_type": "stream",
     "text": [
      "Predict Finish, 27.2597 27.1217 0.9641 0.0352 Evaluation Finish\n",
      "422: Data Load Finish, Predict Finish, 6.994 6.3706 0.2185 0.7525 Evaluation Finish\n",
      "423: Data Load Finish, "
     ]
    },
    {
     "name": "stderr",
     "output_type": "stream",
     "text": [
      "C:\\Users\\vfgtr554\\anaconda3\\envs\\cctv\\lib\\site-packages\\pandas\\core\\arraylike.py:364: RuntimeWarning: divide by zero encountered in log\n",
      "  result = getattr(ufunc, method)(*inputs, **kwargs)\n",
      "C:\\Users\\vfgtr554\\anaconda3\\envs\\cctv\\lib\\site-packages\\statsmodels\\base\\model.py:606: ConvergenceWarning: Maximum Likelihood optimization failed to converge. Check mle_retvals\n",
      "  ConvergenceWarning)\n"
     ]
    },
    {
     "name": "stdout",
     "output_type": "stream",
     "text": [
      "Predict Finish, 27.2597 27.1217 0.9641 0.0352 Evaluation Finish\n",
      "424: Data Load Finish, Predict Finish, 6.0359 5.4056 0.202 0.7864 Evaluation Finish\n",
      "425: Data Load Finish, Predict Finish, 3.5651 3.0827 0.1055 0.8738 Evaluation Finish\n",
      "426: Data Load Finish, Predict Finish, 16.4761 16.2432 0.5928 0.4169 Evaluation Finish\n",
      "427: Data Load Finish, Predict Finish, 27.0428 26.9009 0.9757 0.0429 Evaluation Finish\n",
      "428: Data Load Finish, Predict Finish, 33.0928 32.7542 1.1827 -0.1712 Evaluation Finish\n",
      "429: Data Load Finish, Predict Finish, 33.186 33.0384 1.1956 -0.1745 Evaluation Finish\n",
      "430: Data Load Finish, "
     ]
    },
    {
     "name": "stderr",
     "output_type": "stream",
     "text": [
      "C:\\Users\\vfgtr554\\anaconda3\\envs\\cctv\\lib\\site-packages\\pandas\\core\\arraylike.py:364: RuntimeWarning: divide by zero encountered in log\n",
      "  result = getattr(ufunc, method)(*inputs, **kwargs)\n",
      "C:\\Users\\vfgtr554\\anaconda3\\envs\\cctv\\lib\\site-packages\\statsmodels\\base\\model.py:606: ConvergenceWarning: Maximum Likelihood optimization failed to converge. Check mle_retvals\n",
      "  ConvergenceWarning)\n"
     ]
    },
    {
     "name": "stdout",
     "output_type": "stream",
     "text": [
      "Predict Finish, 27.2597 27.1217 0.9641 0.0352 Evaluation Finish\n",
      "431: Data Load Finish, Predict Finish, 22.3892 22.2255 0.8073 0.2076 Evaluation Finish\n",
      "432: Data Load Finish, Predict Finish, 12.0167 11.6103 0.4061 0.5747 Evaluation Finish\n",
      "433: Data Load Finish, Predict Finish, 15.4366 15.2059 0.5366 0.4537 Evaluation Finish\n",
      "434: Data Load Finish, Predict Finish, 7.3889 6.8952 0.2382 0.7385 Evaluation Finish\n",
      "435: Data Load Finish, Predict Finish, 8.1142 7.6554 0.2664 0.7128 Evaluation Finish\n",
      "436: Data Load Finish, Predict Finish, 11.4278 11.0439 0.3862 0.5955 Evaluation Finish\n",
      "437: Data Load Finish, Predict Finish, 4.6118 3.4929 0.1184 0.8368 Evaluation Finish\n",
      "438: Data Load Finish, Predict Finish, 4.1776 3.5117 0.1184 0.8521 Evaluation Finish\n",
      "439: Data Load Finish, Predict Finish, 2.9579 2.6208 0.0923 0.8953 Evaluation Finish\n",
      "440: Data Load Finish, Predict Finish, 6.4191 5.7092 0.2154 0.7728 Evaluation Finish\n",
      "441: Data Load Finish, Predict Finish, 3.113 2.4822 0.0949 0.8898 Evaluation Finish\n",
      "442: Data Load Finish, Predict Finish, 4.2917 3.2525 0.1268 0.8481 Evaluation Finish\n",
      "443: Data Load Finish, Predict Finish, 8.1861 7.6341 0.2637 0.7103 Evaluation Finish\n",
      "444: Data Load Finish, "
     ]
    },
    {
     "name": "stderr",
     "output_type": "stream",
     "text": [
      "C:\\Users\\vfgtr554\\anaconda3\\envs\\cctv\\lib\\site-packages\\pandas\\core\\arraylike.py:364: RuntimeWarning: divide by zero encountered in log\n",
      "  result = getattr(ufunc, method)(*inputs, **kwargs)\n",
      "C:\\Users\\vfgtr554\\anaconda3\\envs\\cctv\\lib\\site-packages\\statsmodels\\base\\model.py:606: ConvergenceWarning: Maximum Likelihood optimization failed to converge. Check mle_retvals\n",
      "  ConvergenceWarning)\n"
     ]
    },
    {
     "name": "stdout",
     "output_type": "stream",
     "text": [
      "Predict Finish, 27.2597 27.1217 0.9641 0.0352 Evaluation Finish\n",
      "445: Data Load Finish, Predict Finish, 6.0411 5.2918 0.1807 0.7862 Evaluation Finish\n",
      "446: Data Load Finish, Predict Finish, 3.0483 2.6337 0.0908 0.8921 Evaluation Finish\n",
      "447: Data Load Finish, Predict Finish, 3.0958 2.6569 0.0913 0.8904 Evaluation Finish\n",
      "448: Data Load Finish, "
     ]
    },
    {
     "name": "stderr",
     "output_type": "stream",
     "text": [
      "C:\\Users\\vfgtr554\\anaconda3\\envs\\cctv\\lib\\site-packages\\pandas\\core\\arraylike.py:364: RuntimeWarning: divide by zero encountered in log\n",
      "  result = getattr(ufunc, method)(*inputs, **kwargs)\n",
      "C:\\Users\\vfgtr554\\anaconda3\\envs\\cctv\\lib\\site-packages\\statsmodels\\base\\model.py:606: ConvergenceWarning: Maximum Likelihood optimization failed to converge. Check mle_retvals\n",
      "  ConvergenceWarning)\n"
     ]
    },
    {
     "name": "stdout",
     "output_type": "stream",
     "text": [
      "Predict Finish, 27.2597 27.1217 0.9641 0.0352 Evaluation Finish\n",
      "449: Data Load Finish, Predict Finish, 5.1939 4.4321 0.1497 0.8162 Evaluation Finish\n",
      "450: Data Load Finish, Predict Finish, 4.4019 3.6196 0.1212 0.8442 Evaluation Finish\n",
      "451: Data Load Finish, Predict Finish, 3.3351 2.9421 0.1097 0.882 Evaluation Finish\n",
      "452: Data Load Finish, Predict Finish, 3.7994 3.4945 0.1223 0.8655 Evaluation Finish\n",
      "453: Data Load Finish, "
     ]
    },
    {
     "name": "stderr",
     "output_type": "stream",
     "text": [
      "C:\\Users\\vfgtr554\\anaconda3\\envs\\cctv\\lib\\site-packages\\pandas\\core\\arraylike.py:364: RuntimeWarning: divide by zero encountered in log\n",
      "  result = getattr(ufunc, method)(*inputs, **kwargs)\n",
      "C:\\Users\\vfgtr554\\anaconda3\\envs\\cctv\\lib\\site-packages\\statsmodels\\base\\model.py:606: ConvergenceWarning: Maximum Likelihood optimization failed to converge. Check mle_retvals\n",
      "  ConvergenceWarning)\n"
     ]
    },
    {
     "name": "stdout",
     "output_type": "stream",
     "text": [
      "Predict Finish, 27.2597 27.1217 0.9641 0.0352 Evaluation Finish\n",
      "454: Data Load Finish, Predict Finish, 8.055 7.5725 0.2621 0.7149 Evaluation Finish\n",
      "455: Data Load Finish, Predict Finish, 11.3196 10.9581 0.3835 0.5994 Evaluation Finish\n",
      "456: Data Load Finish, "
     ]
    },
    {
     "name": "stderr",
     "output_type": "stream",
     "text": [
      "C:\\Users\\vfgtr554\\anaconda3\\envs\\cctv\\lib\\site-packages\\pandas\\core\\arraylike.py:364: RuntimeWarning: divide by zero encountered in log\n",
      "  result = getattr(ufunc, method)(*inputs, **kwargs)\n",
      "C:\\Users\\vfgtr554\\anaconda3\\envs\\cctv\\lib\\site-packages\\statsmodels\\base\\model.py:606: ConvergenceWarning: Maximum Likelihood optimization failed to converge. Check mle_retvals\n",
      "  ConvergenceWarning)\n"
     ]
    },
    {
     "name": "stdout",
     "output_type": "stream",
     "text": [
      "Predict Finish, 27.2597 27.1217 0.9641 0.0352 Evaluation Finish\n",
      "457: Data Load Finish, Predict Finish, 6.1608 5.5143 0.1882 0.782 Evaluation Finish\n",
      "458: Data Load Finish, Predict Finish, 3.2968 2.576 0.0873 0.8833 Evaluation Finish\n",
      "459: Data Load Finish, "
     ]
    },
    {
     "name": "stderr",
     "output_type": "stream",
     "text": [
      "C:\\Users\\vfgtr554\\anaconda3\\envs\\cctv\\lib\\site-packages\\pandas\\core\\arraylike.py:364: RuntimeWarning: divide by zero encountered in log\n",
      "  result = getattr(ufunc, method)(*inputs, **kwargs)\n",
      "C:\\Users\\vfgtr554\\anaconda3\\envs\\cctv\\lib\\site-packages\\statsmodels\\base\\model.py:606: ConvergenceWarning: Maximum Likelihood optimization failed to converge. Check mle_retvals\n",
      "  ConvergenceWarning)\n"
     ]
    },
    {
     "name": "stdout",
     "output_type": "stream",
     "text": [
      "Predict Finish, 27.2597 27.1217 0.9641 0.0352 Evaluation Finish\n",
      "460: Data Load Finish, Predict Finish, 8.4801 8.0264 0.2784 0.6999 Evaluation Finish\n",
      "461: Data Load Finish, Predict Finish, 6.4628 5.5601 0.1898 0.7713 Evaluation Finish\n",
      "462: Data Load Finish, "
     ]
    },
    {
     "name": "stderr",
     "output_type": "stream",
     "text": [
      "C:\\Users\\vfgtr554\\anaconda3\\envs\\cctv\\lib\\site-packages\\pandas\\core\\arraylike.py:364: RuntimeWarning: divide by zero encountered in log\n",
      "  result = getattr(ufunc, method)(*inputs, **kwargs)\n",
      "C:\\Users\\vfgtr554\\anaconda3\\envs\\cctv\\lib\\site-packages\\statsmodels\\base\\model.py:606: ConvergenceWarning: Maximum Likelihood optimization failed to converge. Check mle_retvals\n",
      "  ConvergenceWarning)\n"
     ]
    },
    {
     "name": "stdout",
     "output_type": "stream",
     "text": [
      "Predict Finish, 27.2597 27.1217 0.9641 0.0352 Evaluation Finish\n",
      "463: Data Load Finish, Predict Finish, 7.7544 7.2456 0.2503 0.7256 Evaluation Finish\n",
      "464: Data Load Finish, Predict Finish, 2.8795 2.4452 0.0908 0.8981 Evaluation Finish\n",
      "465: Data Load Finish, Predict Finish, 8.7012 8.1882 0.2838 0.692 Evaluation Finish\n",
      "466: Data Load Finish, Predict Finish, 9.9457 9.5463 0.3328 0.648 Evaluation Finish\n",
      "467: Data Load Finish, Predict Finish, 2.9321 2.4498 0.0923 0.8962 Evaluation Finish\n",
      "468: Data Load Finish, Predict Finish, 11.2483 10.9043 0.4012 0.6019 Evaluation Finish\n",
      "469: Data Load Finish, Predict Finish, 2.7864 2.4144 0.0899 0.9014 Evaluation Finish\n",
      "470: Data Load Finish, Predict Finish, 11.538 11.2208 0.3934 0.5916 Evaluation Finish\n",
      "471: Data Load Finish, Predict Finish, 3.0264 2.6623 0.0926 0.8929 Evaluation Finish\n",
      "472: Data Load Finish, Predict Finish, 8.0776 7.4624 0.26 0.7141 Evaluation Finish\n",
      "473: Data Load Finish, Predict Finish, 6.938 6.3773 0.2192 0.7544 Evaluation Finish\n",
      "474: Data Load Finish, Predict Finish, 4.9858 4.166 0.1593 0.8235 Evaluation Finish\n",
      "475: Data Load Finish, Predict Finish, 3.3414 2.3764 0.0799 0.8817 Evaluation Finish\n",
      "476: Data Load Finish, Predict Finish, 5.1923 4.4279 0.1494 0.8162 Evaluation Finish\n",
      "477: Data Load Finish, Predict Finish, 3.0705 2.3956 0.0817 0.8913 Evaluation Finish\n",
      "478: Data Load Finish, Predict Finish, 5.5238 4.7818 0.1623 0.8045 Evaluation Finish\n",
      "479: Data Load Finish, Predict Finish, 4.6655 3.996 0.1351 0.8349 Evaluation Finish\n",
      "480: Data Load Finish, Predict Finish, 4.3069 3.2544 0.1075 0.8476 Evaluation Finish\n",
      "481: Data Load Finish, Predict Finish, 2.9117 2.4338 0.0845 0.8969 Evaluation Finish\n",
      "482: Data Load Finish, Predict Finish, 10.2936 9.923 0.3466 0.6357 Evaluation Finish\n",
      "483: Data Load Finish, "
     ]
    },
    {
     "name": "stderr",
     "output_type": "stream",
     "text": [
      "C:\\Users\\vfgtr554\\anaconda3\\envs\\cctv\\lib\\site-packages\\pandas\\core\\arraylike.py:364: RuntimeWarning: divide by zero encountered in log\n",
      "  result = getattr(ufunc, method)(*inputs, **kwargs)\n",
      "C:\\Users\\vfgtr554\\anaconda3\\envs\\cctv\\lib\\site-packages\\statsmodels\\base\\model.py:606: ConvergenceWarning: Maximum Likelihood optimization failed to converge. Check mle_retvals\n",
      "  ConvergenceWarning)\n",
      "C:\\Users\\vfgtr554\\anaconda3\\envs\\cctv\\lib\\site-packages\\pandas\\core\\arraylike.py:364: RuntimeWarning: divide by zero encountered in log\n",
      "  result = getattr(ufunc, method)(*inputs, **kwargs)\n"
     ]
    },
    {
     "name": "stdout",
     "output_type": "stream",
     "text": [
      "Predict Finish, 27.2597 27.1217 0.9641 0.0352 Evaluation Finish\n",
      "484: Data Load Finish, "
     ]
    },
    {
     "name": "stderr",
     "output_type": "stream",
     "text": [
      "C:\\Users\\vfgtr554\\anaconda3\\envs\\cctv\\lib\\site-packages\\statsmodels\\base\\model.py:606: ConvergenceWarning: Maximum Likelihood optimization failed to converge. Check mle_retvals\n",
      "  ConvergenceWarning)\n"
     ]
    },
    {
     "name": "stdout",
     "output_type": "stream",
     "text": [
      "Predict Finish, 27.2597 27.1217 0.9641 0.0352 Evaluation Finish\n",
      "485: Data Load Finish, Predict Finish, 3.3796 2.9492 0.1013 0.8804 Evaluation Finish\n",
      "486: Data Load Finish, Predict Finish, 3.8677 3.2245 0.1089 0.8631 Evaluation Finish\n",
      "487: Data Load Finish, Predict Finish, 11.1954 10.8589 0.3997 0.6038 Evaluation Finish\n",
      "488: Data Load Finish, Predict Finish, 4.2787 3.6414 0.1387 0.8486 Evaluation Finish\n",
      "489: Data Load Finish, Predict Finish, 13.48 13.2241 0.4841 0.5229 Evaluation Finish\n",
      "490: Data Load Finish, Predict Finish, 10.3447 9.9763 0.368 0.6339 Evaluation Finish\n",
      "491: Data Load Finish, Predict Finish, 8.0204 7.4431 0.2567 0.7161 Evaluation Finish\n",
      "492: Data Load Finish, Predict Finish, 6.5564 5.924 0.2041 0.768 Evaluation Finish\n",
      "493: Data Load Finish, Predict Finish, 2.9859 2.4559 0.093 0.8943 Evaluation Finish\n",
      "494: Data Load Finish, "
     ]
    },
    {
     "name": "stderr",
     "output_type": "stream",
     "text": [
      "C:\\Users\\vfgtr554\\anaconda3\\envs\\cctv\\lib\\site-packages\\pandas\\core\\arraylike.py:364: RuntimeWarning: divide by zero encountered in log\n",
      "  result = getattr(ufunc, method)(*inputs, **kwargs)\n",
      "C:\\Users\\vfgtr554\\anaconda3\\envs\\cctv\\lib\\site-packages\\statsmodels\\base\\model.py:606: ConvergenceWarning: Maximum Likelihood optimization failed to converge. Check mle_retvals\n",
      "  ConvergenceWarning)\n"
     ]
    },
    {
     "name": "stdout",
     "output_type": "stream",
     "text": [
      "Predict Finish, 27.2597 27.1217 0.9641 0.0352 Evaluation Finish\n",
      "495: Data Load Finish, Predict Finish, 3.6081 3.443 0.1239 0.8723 Evaluation Finish\n",
      "496: Data Load Finish, "
     ]
    },
    {
     "name": "stderr",
     "output_type": "stream",
     "text": [
      "C:\\Users\\vfgtr554\\anaconda3\\envs\\cctv\\lib\\site-packages\\pandas\\core\\arraylike.py:364: RuntimeWarning: divide by zero encountered in log\n",
      "  result = getattr(ufunc, method)(*inputs, **kwargs)\n",
      "C:\\Users\\vfgtr554\\anaconda3\\envs\\cctv\\lib\\site-packages\\statsmodels\\base\\model.py:606: ConvergenceWarning: Maximum Likelihood optimization failed to converge. Check mle_retvals\n",
      "  ConvergenceWarning)\n"
     ]
    },
    {
     "name": "stdout",
     "output_type": "stream",
     "text": [
      "Predict Finish, 27.2597 27.1217 0.9641 0.0352 Evaluation Finish\n",
      "497: Data Load Finish, Predict Finish, 3.3857 2.9448 0.1011 0.8802 Evaluation Finish\n",
      "498: Data Load Finish, Predict Finish, 4.9647 4.1456 0.1586 0.8243 Evaluation Finish\n",
      "499: Data Load Finish, Predict Finish, 2.7226 2.4348 0.0888 0.9036 Evaluation Finish\n",
      "500: Data Load Finish, Predict Finish, 2.6117 2.2814 0.0835 0.9076 Evaluation Finish\n",
      "501: Data Load Finish, Predict Finish, 2.8904 2.4416 0.0916 0.8977 Evaluation Finish\n",
      "502: Data Load Finish, Predict Finish, 3.1034 2.8457 0.1047 0.8902 Evaluation Finish\n",
      "503: Data Load Finish, "
     ]
    },
    {
     "name": "stderr",
     "output_type": "stream",
     "text": [
      "C:\\Users\\vfgtr554\\anaconda3\\envs\\cctv\\lib\\site-packages\\pandas\\core\\arraylike.py:364: RuntimeWarning: divide by zero encountered in log\n",
      "  result = getattr(ufunc, method)(*inputs, **kwargs)\n",
      "C:\\Users\\vfgtr554\\anaconda3\\envs\\cctv\\lib\\site-packages\\statsmodels\\base\\model.py:606: ConvergenceWarning: Maximum Likelihood optimization failed to converge. Check mle_retvals\n",
      "  ConvergenceWarning)\n",
      "C:\\Users\\vfgtr554\\anaconda3\\envs\\cctv\\lib\\site-packages\\pandas\\core\\arraylike.py:364: RuntimeWarning: divide by zero encountered in log\n",
      "  result = getattr(ufunc, method)(*inputs, **kwargs)\n"
     ]
    },
    {
     "name": "stdout",
     "output_type": "stream",
     "text": [
      "Predict Finish, 27.2597 27.1217 0.9641 0.0352 Evaluation Finish\n",
      "504: Data Load Finish, "
     ]
    },
    {
     "name": "stderr",
     "output_type": "stream",
     "text": [
      "C:\\Users\\vfgtr554\\anaconda3\\envs\\cctv\\lib\\site-packages\\statsmodels\\base\\model.py:606: ConvergenceWarning: Maximum Likelihood optimization failed to converge. Check mle_retvals\n",
      "  ConvergenceWarning)\n"
     ]
    },
    {
     "name": "stdout",
     "output_type": "stream",
     "text": [
      "Predict Finish, 27.2597 27.1217 0.9641 0.0352 Evaluation Finish\n",
      "505: Data Load Finish, Predict Finish, 9.4525 8.9353 0.3101 0.6655 Evaluation Finish\n",
      "RMSE: 11.347979882860773, MAE: 10.88140420935744, MAPE: 0.387002492816243\n",
      "ACC: 0.6029904576998576\n"
     ]
    }
   ],
   "source": [
    "predictARIMA(df, idx, 6)"
   ]
  },
  {
   "cell_type": "code",
   "execution_count": null,
   "id": "4008fe8a",
   "metadata": {},
   "outputs": [],
   "source": []
  }
 ],
 "metadata": {
  "kernelspec": {
   "display_name": "cctv",
   "language": "python",
   "name": "cctv"
  },
  "language_info": {
   "codemirror_mode": {
    "name": "ipython",
    "version": 3
   },
   "file_extension": ".py",
   "mimetype": "text/x-python",
   "name": "python",
   "nbconvert_exporter": "python",
   "pygments_lexer": "ipython3",
   "version": "3.7.13"
  }
 },
 "nbformat": 4,
 "nbformat_minor": 5
}
