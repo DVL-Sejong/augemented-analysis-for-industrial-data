{
 "cells": [
  {
   "cell_type": "code",
   "execution_count": 1,
   "id": "ea68090e",
   "metadata": {},
   "outputs": [],
   "source": [
    "import math\n",
    "import pandas as pd\n",
    "import numpy as np\n",
    "import numpy.linalg as la\n",
    "\n",
    "from sklearn.metrics import mean_squared_error, mean_absolute_error, mean_absolute_percentage_error\n",
    "from statsmodels.tsa.arima.model import ARIMA"
   ]
  },
  {
   "cell_type": "code",
   "execution_count": 2,
   "id": "844c2224",
   "metadata": {},
   "outputs": [],
   "source": [
    "def csvIndexToDatetime(path, start, freq):\n",
    "    df = pd.read_csv(path)\n",
    "    df = df.drop(columns=['Unnamed: 0'])\n",
    "    time_len = df.shape[0]\n",
    "    num_nodes = df.shape[1]\n",
    "    print(time_len, num_nodes)\n",
    "    rng = pd.date_range(start, periods=time_len, freq=freq)\n",
    "    idx = pd.DatetimeIndex(rng)\n",
    "    df.index = idx\n",
    "    return df, idx"
   ]
  },
  {
   "cell_type": "code",
   "execution_count": 3,
   "id": "aa8af9c0",
   "metadata": {},
   "outputs": [],
   "source": [
    "def evaluation(a,b):\n",
    "    rmse = math.sqrt(mean_squared_error(a,b))\n",
    "    mae = mean_absolute_error(a, b)\n",
    "    mape = mean_absolute_percentage_error(a, b)\n",
    "    F_norm = la.norm(a-b)/la.norm(a)\n",
    "    return rmse, mae, mape, 1-F_norm"
   ]
  },
  {
   "cell_type": "code",
   "execution_count": 4,
   "id": "ee5c0335",
   "metadata": {},
   "outputs": [],
   "source": [
    "def predictARIMA(df, idx, timelag):\n",
    "    rmse, mae, mape, acc =  [], [], [], []\n",
    "    \n",
    "    for i in range(df.shape[1]):\n",
    "        print(i, end = ': ')\n",
    "        ts = df.iloc[:-timelag, i]\n",
    "        ts_log = np.log(ts)\n",
    "        ts_log = np.array(ts_log, dtype=np.float64)\n",
    "        where_are_inf = np.isinf(ts_log)\n",
    "        ts_log[where_are_inf] = 0\n",
    "        ts_log = pd.Series(ts_log)\n",
    "        ts_log.index = idx[:-timelag]\n",
    "        print('Data Load Finish', end = ', ')\n",
    "        \n",
    "        model = ARIMA(ts_log, order=[1,0,0])\n",
    "        properModel = model.fit()\n",
    "        predict_ts = properModel.forecast(steps=timelag)\n",
    "        log_recover = np.exp(predict_ts)\n",
    "        testX = org_df.iloc[-timelag:, 0]\n",
    "        print('Predict Finish', end = ', ')\n",
    "        \n",
    "        er_rmse, er_mae, er_mape, er_acc = evaluation(testX, log_recover)\n",
    "        print(round(er_rmse,4), round(er_mae,4), round(er_mape,4), round(er_acc,4), end = ' ')\n",
    "        \n",
    "        rmse.append(er_rmse)\n",
    "        mae.append(er_mae)\n",
    "        mape.append(er_mape)\n",
    "        acc.append(er_acc)\n",
    "        print('Evaluation Finish')\n",
    "        \n",
    "    acc = np.mat(acc)\n",
    "    acc[acc<0] = 0\n",
    "    print('RMSE: ' + str(np.mean(rmse)) + ', MAE: ' + str(np.mean(mae)) + ', MAPE: ' + str(np.mean(mape))  + '\\n'\n",
    "          + 'ACC: ' + str(np.mean(acc)))"
   ]
  },
  {
   "cell_type": "code",
   "execution_count": 5,
   "id": "e171bd77",
   "metadata": {
    "scrolled": true
   },
   "outputs": [],
   "source": [
    "path_0 = '../Data/Gangnam/speed_gangnam_0.csv'\n",
    "path_5 = '../Data/Gangnam/speed_gangnam_5.csv'\n",
    "path_10 = '../Data/Gangnam/speed_gangnam_10.csv'\n",
    "path_20 = '../Data/Gangnam/speed_gangnam_20.csv'"
   ]
  },
  {
   "cell_type": "code",
   "execution_count": 6,
   "id": "ee4dc616",
   "metadata": {},
   "outputs": [],
   "source": [
    "start = '1/10/2020'\n",
    "freq = '5min'"
   ]
  },
  {
   "cell_type": "code",
   "execution_count": 7,
   "id": "7b3da56c",
   "metadata": {},
   "outputs": [
    {
     "name": "stdout",
     "output_type": "stream",
     "text": [
      "2880 506\n"
     ]
    }
   ],
   "source": [
    "org_path = '../Data/Gangnam/speed_gangnam_0.csv'\n",
    "org_df, org_idx = csvIndexToDatetime(org_path, start, freq)"
   ]
  },
  {
   "cell_type": "markdown",
   "id": "74270736",
   "metadata": {},
   "source": [
    "### Unobserved Nodes = 0%"
   ]
  },
  {
   "cell_type": "code",
   "execution_count": 8,
   "id": "9eaf61b7",
   "metadata": {},
   "outputs": [
    {
     "name": "stdout",
     "output_type": "stream",
     "text": [
      "2880 506\n"
     ]
    },
    {
     "data": {
      "text/plain": [
       "0"
      ]
     },
     "execution_count": 8,
     "metadata": {},
     "output_type": "execute_result"
    }
   ],
   "source": [
    "df, idx = csvIndexToDatetime(path_0, start, freq)\n",
    "(df == 0).sum().sum()"
   ]
  },
  {
   "cell_type": "code",
   "execution_count": 9,
   "id": "60f8ff1e",
   "metadata": {
    "scrolled": false
   },
   "outputs": [
    {
     "name": "stdout",
     "output_type": "stream",
     "text": [
      "0: Data Load Finish, Predict Finish, 3.1458 2.8845 0.1063 0.8866 Evaluation Finish\n",
      "1: Data Load Finish, Predict Finish, 3.774 3.0358 0.1076 0.864 Evaluation Finish\n",
      "2: Data Load Finish, Predict Finish, 6.379 5.5085 0.2156 0.7701 Evaluation Finish\n",
      "3: Data Load Finish, Predict Finish, 11.9185 11.4811 0.4352 0.5705 Evaluation Finish\n",
      "4: Data Load Finish, Predict Finish, 7.1377 6.1099 0.2116 0.7428 Evaluation Finish\n",
      "5: Data Load Finish, Predict Finish, 5.9589 5.0701 0.1732 0.7853 Evaluation Finish\n",
      "6: Data Load Finish, Predict Finish, 3.2452 2.9393 0.1062 0.8831 Evaluation Finish\n",
      "7: Data Load Finish, Predict Finish, 9.3639 8.8158 0.3108 0.6625 Evaluation Finish\n",
      "8: Data Load Finish, Predict Finish, 6.6493 5.8521 0.2018 0.7604 Evaluation Finish\n",
      "9: Data Load Finish, Predict Finish, 8.4574 7.8446 0.2751 0.6952 Evaluation Finish\n",
      "10: Data Load Finish, Predict Finish, 9.8118 9.2481 0.3268 0.6464 Evaluation Finish\n",
      "11: Data Load Finish, Predict Finish, 5.9826 5.0852 0.1737 0.7844 Evaluation Finish\n",
      "12: Data Load Finish, Predict Finish, 16.1703 15.8516 0.5959 0.4173 Evaluation Finish\n",
      "13: Data Load Finish, Predict Finish, 28.0791 27.8872 1.0384 -0.0119 Evaluation Finish\n",
      "14: Data Load Finish, Predict Finish, 31.6876 31.5178 1.1719 -0.1419 Evaluation Finish\n",
      "15: Data Load Finish, Predict Finish, 18.5832 18.3047 0.6861 0.3303 Evaluation Finish\n",
      "16: Data Load Finish, Predict Finish, 4.2431 3.2946 0.1314 0.8471 Evaluation Finish\n",
      "17: Data Load Finish, Predict Finish, 7.654 6.9444 0.2418 0.7242 Evaluation Finish\n",
      "18: Data Load Finish, Predict Finish, 5.01 3.895 0.1299 0.8195 Evaluation Finish\n",
      "19: Data Load Finish, Predict Finish, 9.2701 8.5549 0.3014 0.6659 Evaluation Finish\n",
      "20: Data Load Finish, Predict Finish, 9.2674 8.7028 0.3068 0.666 Evaluation Finish\n",
      "21: Data Load Finish, Predict Finish, 3.9508 3.3128 0.1141 0.8576 Evaluation Finish\n",
      "22: Data Load Finish, Predict Finish, 3.4363 2.9604 0.1056 0.8762 Evaluation Finish\n",
      "23: Data Load Finish, Predict Finish, 5.1343 4.171 0.1621 0.815 Evaluation Finish\n",
      "24: Data Load Finish, Predict Finish, 17.5528 17.0469 0.6399 0.3674 Evaluation Finish\n",
      "25: Data Load Finish, Predict Finish, 5.2506 4.0891 0.1373 0.8108 Evaluation Finish\n",
      "26: Data Load Finish, Predict Finish, 5.0313 3.932 0.1318 0.8187 Evaluation Finish\n",
      "27: Data Load Finish, Predict Finish, 6.0401 5.1076 0.1743 0.7823 Evaluation Finish\n",
      "28: Data Load Finish, Predict Finish, 6.3189 5.3828 0.2101 0.7723 Evaluation Finish\n",
      "29: Data Load Finish, Predict Finish, 4.8019 3.5926 0.1189 0.827 Evaluation Finish\n",
      "30: Data Load Finish, Predict Finish, 3.3818 2.9241 0.1132 0.8781 Evaluation Finish\n",
      "31: Data Load Finish, Predict Finish, 3.3175 2.9961 0.1065 0.8804 Evaluation Finish\n",
      "32: Data Load Finish, Predict Finish, 4.5936 3.3193 0.1123 0.8345 Evaluation Finish\n",
      "33: Data Load Finish, Predict Finish, 12.3014 11.8184 0.4206 0.5567 Evaluation Finish\n",
      "34: Data Load Finish, Predict Finish, 4.3049 3.2513 0.1088 0.8449 Evaluation Finish\n",
      "35: Data Load Finish, Predict Finish, 6.0053 5.0507 0.174 0.7836 Evaluation Finish\n",
      "36: Data Load Finish, Predict Finish, 5.9016 4.8691 0.1654 0.7873 Evaluation Finish\n",
      "37: Data Load Finish, Predict Finish, 4.3541 3.5738 0.1225 0.8431 Evaluation Finish\n",
      "38: Data Load Finish, Predict Finish, 7.6836 6.9783 0.2431 0.7231 Evaluation Finish\n",
      "39: Data Load Finish, Predict Finish, 3.3165 2.9872 0.1057 0.8805 Evaluation Finish\n",
      "40: Data Load Finish, Predict Finish, 6.7226 5.2501 0.1784 0.7577 Evaluation Finish\n",
      "41: Data Load Finish, Predict Finish, 9.6706 9.0249 0.3178 0.6515 Evaluation Finish\n",
      "42: Data Load Finish, Predict Finish, 6.9867 6.261 0.2171 0.7482 Evaluation Finish\n",
      "43: Data Load Finish, Predict Finish, 4.3171 3.3701 0.135 0.8444 Evaluation Finish\n",
      "44: Data Load Finish, Predict Finish, 3.5341 3.1289 0.12 0.8726 Evaluation Finish\n",
      "45: Data Load Finish, Predict Finish, 8.0246 7.3717 0.2577 0.7108 Evaluation Finish\n",
      "46: Data Load Finish, Predict Finish, 6.0186 5.1253 0.2016 0.7831 Evaluation Finish\n",
      "47: Data Load Finish, Predict Finish, 4.7701 3.7011 0.1234 0.8281 Evaluation Finish\n",
      "48: Data Load Finish, Predict Finish, 3.2544 2.9514 0.112 0.8827 Evaluation Finish\n",
      "49: Data Load Finish, Predict Finish, 3.2571 2.9963 0.1112 0.8826 Evaluation Finish\n",
      "50: Data Load Finish, Predict Finish, 4.6568 3.5029 0.1168 0.8322 Evaluation Finish\n",
      "51: Data Load Finish, Predict Finish, 7.4435 6.7455 0.2347 0.7318 Evaluation Finish\n",
      "52: Data Load Finish, Predict Finish, 10.7046 10.2483 0.3638 0.6142 Evaluation Finish\n",
      "53: Data Load Finish, Predict Finish, 13.1446 12.7216 0.4539 0.5263 Evaluation Finish\n",
      "54: Data Load Finish, Predict Finish, 11.0692 10.6294 0.3777 0.6011 Evaluation Finish\n",
      "55: Data Load Finish, Predict Finish, 3.9832 3.2586 0.1288 0.8565 Evaluation Finish\n",
      "56: Data Load Finish, Predict Finish, 11.3486 10.8739 0.4131 0.591 Evaluation Finish\n",
      "57: Data Load Finish, Predict Finish, 4.7033 3.7725 0.1501 0.8305 Evaluation Finish\n",
      "58: Data Load Finish, Predict Finish, 15.9209 15.5761 0.586 0.4263 Evaluation Finish\n",
      "59: Data Load Finish, Predict Finish, 7.3414 6.6111 0.2563 0.7354 Evaluation Finish\n",
      "60: Data Load Finish, Predict Finish, 6.7251 5.9241 0.231 0.7576 Evaluation Finish\n",
      "61: Data Load Finish, Predict Finish, 7.6533 6.9485 0.242 0.7242 Evaluation Finish\n",
      "62: Data Load Finish, Predict Finish, 6.4108 5.5158 0.216 0.769 Evaluation Finish\n",
      "63: Data Load Finish, Predict Finish, 4.915 4.0224 0.1591 0.8229 Evaluation Finish\n",
      "64: Data Load Finish, Predict Finish, 6.9928 6.1912 0.2404 0.748 Evaluation Finish\n",
      "65: Data Load Finish, Predict Finish, 8.1075 7.1477 0.2498 0.7078 Evaluation Finish\n",
      "66: Data Load Finish, Predict Finish, 3.266 2.9622 0.1055 0.8823 Evaluation Finish\n",
      "67: Data Load Finish, Predict Finish, 7.202 6.42 0.2229 0.7405 Evaluation Finish\n",
      "68: Data Load Finish, Predict Finish, 3.7468 3.1631 0.1097 0.865 Evaluation Finish\n",
      "69: Data Load Finish, Predict Finish, 15.4366 15.1104 0.5686 0.4437 Evaluation Finish\n",
      "70: Data Load Finish, Predict Finish, 24.9848 24.7865 0.9242 0.0996 Evaluation Finish\n",
      "71: Data Load Finish, Predict Finish, 30.2464 30.0256 1.1178 -0.09 Evaluation Finish\n",
      "72: Data Load Finish, Predict Finish, 30.1789 30.0102 1.1163 -0.0876 Evaluation Finish\n",
      "73: Data Load Finish, Predict Finish, 28.3319 28.0643 1.0453 -0.021 Evaluation Finish\n",
      "74: Data Load Finish, Predict Finish, 30.4687 30.3046 1.127 -0.098 Evaluation Finish\n",
      "75: Data Load Finish, Predict Finish, 15.5725 15.249 0.5737 0.4388 Evaluation Finish\n",
      "76: Data Load Finish, Predict Finish, 9.0859 8.4982 0.3257 0.6726 Evaluation Finish\n",
      "77: Data Load Finish, Predict Finish, 3.8079 3.1105 0.106 0.8628 Evaluation Finish\n",
      "78: Data Load Finish, Predict Finish, 3.2267 2.9318 0.1072 0.8837 Evaluation Finish\n",
      "79: Data Load Finish, Predict Finish, 4.8847 3.504 0.119 0.824 Evaluation Finish\n",
      "80: Data Load Finish, Predict Finish, 3.4326 2.8213 0.1014 0.8763 Evaluation Finish\n",
      "81: Data Load Finish, Predict Finish, 11.0939 10.632 0.3775 0.6002 Evaluation Finish\n",
      "82: Data Load Finish, Predict Finish, 9.1482 8.5592 0.328 0.6703 Evaluation Finish\n",
      "83: Data Load Finish, Predict Finish, 3.9215 3.2373 0.1105 0.8587 Evaluation Finish\n",
      "84: Data Load Finish, Predict Finish, 13.0791 12.685 0.4795 0.5287 Evaluation Finish\n",
      "85: Data Load Finish, Predict Finish, 20.5197 20.2467 0.7577 0.2605 Evaluation Finish\n",
      "86: Data Load Finish, Predict Finish, 7.127 6.3024 0.245 0.7432 Evaluation Finish\n",
      "87: Data Load Finish, Predict Finish, 3.5389 3.0584 0.1065 0.8725 Evaluation Finish\n",
      "88: Data Load Finish, Predict Finish, 3.644 3.1543 0.1224 0.8687 Evaluation Finish\n",
      "89: Data Load Finish, "
     ]
    },
    {
     "name": "stderr",
     "output_type": "stream",
     "text": [
      "C:\\Users\\vfgtr554\\anaconda3\\envs\\cctv\\lib\\site-packages\\statsmodels\\base\\model.py:606: ConvergenceWarning: Maximum Likelihood optimization failed to converge. Check mle_retvals\n",
      "  ConvergenceWarning)\n"
     ]
    },
    {
     "name": "stdout",
     "output_type": "stream",
     "text": [
      "Predict Finish, 3.1968 2.9304 0.1094 0.8848 Evaluation Finish\n",
      "90: Data Load Finish, Predict Finish, 9.7685 9.2387 0.3529 0.648 Evaluation Finish\n",
      "91: Data Load Finish, Predict Finish, 11.0814 10.6285 0.4038 0.6007 Evaluation Finish\n",
      "92: Data Load Finish, Predict Finish, 3.4442 3.0168 0.1165 0.8759 Evaluation Finish\n",
      "93: Data Load Finish, Predict Finish, 3.7376 3.1435 0.1087 0.8653 Evaluation Finish\n",
      "94: Data Load Finish, Predict Finish, 3.5665 3.0271 0.117 0.8715 Evaluation Finish\n",
      "95: Data Load Finish, Predict Finish, 5.2384 4.156 0.1394 0.8112 Evaluation Finish\n",
      "96: Data Load Finish, Predict Finish, 4.8974 4.0092 0.1584 0.8235 Evaluation Finish\n",
      "97: Data Load Finish, "
     ]
    },
    {
     "name": "stderr",
     "output_type": "stream",
     "text": [
      "C:\\Users\\vfgtr554\\anaconda3\\envs\\cctv\\lib\\site-packages\\statsmodels\\base\\model.py:606: ConvergenceWarning: Maximum Likelihood optimization failed to converge. Check mle_retvals\n",
      "  ConvergenceWarning)\n"
     ]
    },
    {
     "name": "stdout",
     "output_type": "stream",
     "text": [
      "Predict Finish, 5.6167 4.7654 0.1866 0.7976 Evaluation Finish\n",
      "98: Data Load Finish, Predict Finish, 4.5977 3.8403 0.1359 0.8343 Evaluation Finish\n",
      "99: Data Load Finish, Predict Finish, 6.594 5.6801 0.2204 0.7624 Evaluation Finish\n",
      "100: Data Load Finish, Predict Finish, 4.9258 3.6596 0.1215 0.8225 Evaluation Finish\n",
      "101: Data Load Finish, Predict Finish, 8.1955 7.5872 0.2919 0.7047 Evaluation Finish\n",
      "102: Data Load Finish, Predict Finish, 10.1835 9.694 0.3433 0.633 Evaluation Finish\n",
      "103: Data Load Finish, "
     ]
    },
    {
     "name": "stderr",
     "output_type": "stream",
     "text": [
      "C:\\Users\\vfgtr554\\anaconda3\\envs\\cctv\\lib\\site-packages\\statsmodels\\base\\model.py:606: ConvergenceWarning: Maximum Likelihood optimization failed to converge. Check mle_retvals\n",
      "  ConvergenceWarning)\n"
     ]
    },
    {
     "name": "stdout",
     "output_type": "stream",
     "text": [
      "Predict Finish, 3.5383 3.136 0.1202 0.8725 Evaluation Finish\n",
      "104: Data Load Finish, Predict Finish, 3.1008 2.8643 0.1038 0.8883 Evaluation Finish\n",
      "105: Data Load Finish, Predict Finish, 3.9493 3.2134 0.1092 0.8577 Evaluation Finish\n",
      "106: Data Load Finish, Predict Finish, 3.3486 3.0018 0.106 0.8793 Evaluation Finish\n",
      "107: Data Load Finish, Predict Finish, 6.1352 5.3207 0.2083 0.7789 Evaluation Finish\n",
      "108: Data Load Finish, Predict Finish, 6.0076 5.1167 0.1748 0.7835 Evaluation Finish\n",
      "109: Data Load Finish, Predict Finish, 5.3997 4.3878 0.1483 0.8054 Evaluation Finish\n",
      "110: Data Load Finish, Predict Finish, 3.1903 2.9104 0.1074 0.885 Evaluation Finish\n",
      "111: Data Load Finish, Predict Finish, 3.9012 3.0774 0.1108 0.8594 Evaluation Finish\n",
      "112: Data Load Finish, Predict Finish, 3.8133 3.0647 0.1047 0.8626 Evaluation Finish\n",
      "113: Data Load Finish, Predict Finish, 5.8875 4.9665 0.1693 0.7878 Evaluation Finish\n",
      "114: Data Load Finish, Predict Finish, 3.534 3.0433 0.1057 0.8726 Evaluation Finish\n",
      "115: Data Load Finish, Predict Finish, 4.4368 3.4439 0.115 0.8401 Evaluation Finish\n",
      "116: Data Load Finish, Predict Finish, 5.0608 4.1282 0.1639 0.8176 Evaluation Finish\n",
      "117: Data Load Finish, Predict Finish, 13.0871 12.6811 0.4793 0.5284 Evaluation Finish\n",
      "118: Data Load Finish, Predict Finish, 31.1211 30.9436 1.1508 -0.1215 Evaluation Finish\n",
      "119: Data Load Finish, Predict Finish, 6.5044 5.7132 0.2229 0.7656 Evaluation Finish\n",
      "120: Data Load Finish, Predict Finish, 3.4708 3.0345 0.1063 0.8749 Evaluation Finish\n",
      "121: Data Load Finish, Predict Finish, 5.7385 4.771 0.162 0.7932 Evaluation Finish\n",
      "122: Data Load Finish, Predict Finish, 7.2064 6.0985 0.211 0.7403 Evaluation Finish\n",
      "123: Data Load Finish, Predict Finish, 7.3998 6.6791 0.2324 0.7333 Evaluation Finish\n",
      "124: Data Load Finish, Predict Finish, 9.4853 8.9451 0.3155 0.6582 Evaluation Finish\n",
      "125: Data Load Finish, Predict Finish, 17.0956 16.7714 0.63 0.3839 Evaluation Finish\n",
      "126: Data Load Finish, Predict Finish, 6.7064 5.8708 0.2026 0.7583 Evaluation Finish\n",
      "127: Data Load Finish, Predict Finish, 8.2137 7.5414 0.2642 0.704 Evaluation Finish\n",
      "128: Data Load Finish, Predict Finish, 7.5717 6.8554 0.2388 0.7271 Evaluation Finish\n",
      "129: Data Load Finish, Predict Finish, 3.7561 3.0988 0.106 0.8646 Evaluation Finish\n",
      "130: Data Load Finish, Predict Finish, 3.3563 2.9152 0.1054 0.879 Evaluation Finish\n",
      "131: Data Load Finish, Predict Finish, 3.2565 2.866 0.107 0.8826 Evaluation Finish\n",
      "132: Data Load Finish, Predict Finish, 5.8654 4.9405 0.1684 0.7886 Evaluation Finish\n",
      "133: Data Load Finish, Predict Finish, 3.9087 3.1072 0.1055 0.8591 Evaluation Finish\n",
      "134: Data Load Finish, Predict Finish, 9.6375 9.1072 0.3216 0.6527 Evaluation Finish\n",
      "135: Data Load Finish, Predict Finish, 5.0104 4.2033 0.1441 0.8194 Evaluation Finish\n",
      "136: Data Load Finish, Predict Finish, 8.9467 8.3569 0.2941 0.6776 Evaluation Finish\n",
      "137: Data Load Finish, Predict Finish, 5.4167 4.4028 0.1486 0.8048 Evaluation Finish\n",
      "138: Data Load Finish, Predict Finish, 4.8577 3.8625 0.1297 0.8249 Evaluation Finish\n",
      "139: Data Load Finish, Predict Finish, 4.42 3.5151 0.1182 0.8407 Evaluation Finish\n",
      "140: Data Load Finish, Predict Finish, 3.5794 2.9861 0.1147 0.871 Evaluation Finish\n",
      "141: Data Load Finish, Predict Finish, 4.6742 3.554 0.1181 0.8316 Evaluation Finish\n",
      "142: Data Load Finish, Predict Finish, 5.7424 4.798 0.1632 0.7931 Evaluation Finish\n",
      "143: Data Load Finish, Predict Finish, 4.9536 3.8513 0.1285 0.8215 Evaluation Finish\n",
      "144: Data Load Finish, Predict Finish, 16.2288 15.9119 0.5982 0.4152 Evaluation Finish\n",
      "145: Data Load Finish, Predict Finish, 32.1023 31.9461 1.1874 -0.1569 Evaluation Finish\n",
      "146: Data Load Finish, Predict Finish, 3.5543 3.0856 0.1193 0.8719 Evaluation Finish\n",
      "147: Data Load Finish, Predict Finish, 4.2761 3.3227 0.1326 0.8459 Evaluation Finish\n",
      "148: Data Load Finish, Predict Finish, 9.1649 8.6041 0.303 0.6697 Evaluation Finish\n",
      "149: Data Load Finish, Predict Finish, 4.7996 4.0804 0.1417 0.827 Evaluation Finish\n",
      "150: Data Load Finish, Predict Finish, 5.6375 4.7283 0.1612 0.7968 Evaluation Finish\n",
      "151: Data Load Finish, Predict Finish, 4.7889 3.838 0.1295 0.8274 Evaluation Finish\n",
      "152: Data Load Finish, Predict Finish, 5.9737 5.0345 0.1716 0.7847 Evaluation Finish\n",
      "153: Data Load Finish, Predict Finish, 4.075 3.0862 0.107 0.8531 Evaluation Finish\n",
      "154: Data Load Finish, Predict Finish, 3.6396 3.1003 0.1078 0.8688 Evaluation Finish\n",
      "155: Data Load Finish, Predict Finish, 3.1048 2.8619 0.1046 0.8881 Evaluation Finish\n",
      "156: Data Load Finish, Predict Finish, 4.1567 3.3202 0.1119 0.8502 Evaluation Finish\n",
      "157: Data Load Finish, Predict Finish, 5.2595 4.3342 0.1478 0.8105 Evaluation Finish\n",
      "158: Data Load Finish, Predict Finish, 6.3195 5.4258 0.1859 0.7723 Evaluation Finish\n",
      "159: Data Load Finish, Predict Finish, 7.8267 7.1751 0.2511 0.7179 Evaluation Finish\n",
      "160: Data Load Finish, Predict Finish, 7.1872 6.2879 0.2179 0.741 Evaluation Finish\n",
      "161: Data Load Finish, Predict Finish, 5.8692 4.6869 0.1584 0.7885 Evaluation Finish\n",
      "162: Data Load Finish, Predict Finish, 6.8919 5.9497 0.2054 0.7516 Evaluation Finish\n",
      "163: Data Load Finish, Predict Finish, 3.7746 3.181 0.1097 0.864 Evaluation Finish\n",
      "164: Data Load Finish, Predict Finish, 3.1894 2.9125 0.1076 0.8851 Evaluation Finish\n",
      "165: Data Load Finish, Predict Finish, 3.2072 2.9415 0.1063 0.8844 Evaluation Finish\n",
      "166: Data Load Finish, Predict Finish, 9.2257 8.6534 0.3314 0.6675 Evaluation Finish\n",
      "167: Data Load Finish, Predict Finish, 11.6983 11.2491 0.4268 0.5784 Evaluation Finish\n",
      "168: Data Load Finish, Predict Finish, 25.7877 25.5852 0.9537 0.0707 Evaluation Finish\n",
      "169: Data Load Finish, Predict Finish, 10.3794 9.8075 0.3741 0.626 Evaluation Finish\n",
      "170: Data Load Finish, Predict Finish, 4.3715 3.5373 0.1198 0.8425 Evaluation Finish\n",
      "171: Data Load Finish, Predict Finish, 5.853 4.9057 0.1935 0.7891 Evaluation Finish\n",
      "172: Data Load Finish, Predict Finish, 4.084 3.3647 0.1154 0.8528 Evaluation Finish\n",
      "173: Data Load Finish, Predict Finish, 4.6723 3.7983 0.1479 0.8316 Evaluation Finish\n",
      "174: Data Load Finish, Predict Finish, 3.5725 2.9092 0.1146 0.8713 Evaluation Finish\n",
      "175: Data Load Finish, Predict Finish, 8.266 7.6898 0.2953 0.7021 Evaluation Finish\n",
      "176: Data Load Finish, Predict Finish, 8.7468 8.139 0.286 0.6848 Evaluation Finish\n",
      "177: Data Load Finish, Predict Finish, 18.0498 17.7766 0.6664 0.3495 Evaluation Finish\n",
      "178: Data Load Finish, Predict Finish, 3.7098 3.109 0.107 0.8663 Evaluation Finish\n",
      "179: Data Load Finish, Predict Finish, 3.6515 3.0643 0.1199 0.8684 Evaluation Finish\n",
      "180: Data Load Finish, Predict Finish, 18.5081 18.1892 0.6812 0.333 Evaluation Finish\n",
      "181: Data Load Finish, Predict Finish, 5.238 4.2098 0.1416 0.8112 Evaluation Finish\n",
      "182: Data Load Finish, Predict Finish, 4.8752 3.7653 0.1254 0.8243 Evaluation Finish\n",
      "183: Data Load Finish, Predict Finish, 4.7705 3.6599 0.1217 0.8281 Evaluation Finish\n",
      "184: Data Load Finish, Predict Finish, 3.5457 3.028 0.1051 0.8722 Evaluation Finish\n",
      "185: Data Load Finish, Predict Finish, 5.6101 4.4649 0.1507 0.7978 Evaluation Finish\n",
      "186: Data Load Finish, Predict Finish, 5.8413 4.8828 0.1674 0.7895 Evaluation Finish\n",
      "187: Data Load Finish, Predict Finish, 4.3723 3.5041 0.1182 0.8424 Evaluation Finish\n",
      "188: Data Load Finish, Predict Finish, 3.1256 2.8735 0.1051 0.8874 Evaluation Finish\n",
      "189: Data Load Finish, Predict Finish, 3.1486 2.8972 0.1058 0.8865 Evaluation Finish\n",
      "190: Data Load Finish, Predict Finish, 5.6663 4.7024 0.1596 0.7958 Evaluation Finish\n",
      "191: Data Load Finish, Predict Finish, 3.6822 3.1017 0.107 0.8673 Evaluation Finish\n",
      "192: Data Load Finish, Predict Finish, 5.9542 5.0307 0.1716 0.7854 Evaluation Finish\n",
      "193: Data Load Finish, Predict Finish, 14.8134 14.4752 0.5189 0.4662 Evaluation Finish\n",
      "194: Data Load Finish, Predict Finish, 4.3225 3.525 0.1198 0.8442 Evaluation Finish\n",
      "195: Data Load Finish, Predict Finish, 4.8665 3.7779 0.126 0.8246 Evaluation Finish\n",
      "196: Data Load Finish, Predict Finish, 6.4471 5.6214 0.1934 0.7677 Evaluation Finish\n",
      "197: Data Load Finish, Predict Finish, 5.145 4.0663 0.1362 0.8146 Evaluation Finish\n",
      "198: Data Load Finish, Predict Finish, 3.8223 3.0914 0.1052 0.8623 Evaluation Finish\n",
      "199: Data Load Finish, Predict Finish, 7.3239 6.5956 0.2292 0.7361 Evaluation Finish\n"
     ]
    },
    {
     "name": "stdout",
     "output_type": "stream",
     "text": [
      "200: Data Load Finish, Predict Finish, 3.485 3.0348 0.1059 0.8744 Evaluation Finish\n",
      "201: Data Load Finish, Predict Finish, 6.651 5.6694 0.1948 0.7603 Evaluation Finish\n",
      "202: Data Load Finish, Predict Finish, 4.6361 3.5249 0.1176 0.8329 Evaluation Finish\n",
      "203: Data Load Finish, Predict Finish, 9.8843 9.2229 0.3248 0.6438 Evaluation Finish\n",
      "204: Data Load Finish, Predict Finish, 5.5056 4.5097 0.1525 0.8016 Evaluation Finish\n",
      "205: Data Load Finish, Predict Finish, 6.6495 5.8204 0.201 0.7604 Evaluation Finish\n",
      "206: Data Load Finish, Predict Finish, 9.9813 9.467 0.3349 0.6403 Evaluation Finish\n",
      "207: Data Load Finish, Predict Finish, 5.6185 4.6338 0.157 0.7975 Evaluation Finish\n",
      "208: Data Load Finish, Predict Finish, 9.9518 9.4591 0.3349 0.6414 Evaluation Finish\n",
      "209: Data Load Finish, Predict Finish, 6.3581 5.5247 0.2158 0.7709 Evaluation Finish\n",
      "210: Data Load Finish, Predict Finish, 3.4213 3.0066 0.1053 0.8767 Evaluation Finish\n",
      "211: Data Load Finish, Predict Finish, 4.956 4.035 0.1602 0.8214 Evaluation Finish\n",
      "212: Data Load Finish, Predict Finish, 3.2697 2.9664 0.1075 0.8822 Evaluation Finish\n",
      "213: Data Load Finish, Predict Finish, 14.898 14.5315 0.5472 0.4631 Evaluation Finish\n",
      "214: Data Load Finish, Predict Finish, 11.8068 11.3791 0.405 0.5745 Evaluation Finish\n",
      "215: Data Load Finish, Predict Finish, 7.0068 6.2547 0.2166 0.7475 Evaluation Finish\n",
      "216: Data Load Finish, Predict Finish, 3.6195 3.053 0.1053 0.8696 Evaluation Finish\n",
      "217: Data Load Finish, Predict Finish, 14.5536 14.2065 0.5354 0.4755 Evaluation Finish\n",
      "218: Data Load Finish, Predict Finish, 7.3743 6.6473 0.2313 0.7342 Evaluation Finish\n",
      "219: Data Load Finish, Predict Finish, 5.5409 4.556 0.1807 0.8003 Evaluation Finish\n",
      "220: Data Load Finish, Predict Finish, 7.6404 6.894 0.2667 0.7247 Evaluation Finish\n",
      "221: Data Load Finish, Predict Finish, 3.4327 2.9869 0.1118 0.8763 Evaluation Finish\n",
      "222: Data Load Finish, Predict Finish, 4.1572 3.3248 0.112 0.8502 Evaluation Finish\n",
      "223: Data Load Finish, Predict Finish, 3.5892 2.9854 0.1152 0.8707 Evaluation Finish\n",
      "224: Data Load Finish, Predict Finish, 3.5279 3.0635 0.1184 0.8729 Evaluation Finish\n",
      "225: Data Load Finish, Predict Finish, 3.4381 3.0128 0.1146 0.8761 Evaluation Finish\n",
      "226: Data Load Finish, Predict Finish, 3.708 2.9853 0.1078 0.8664 Evaluation Finish\n",
      "227: Data Load Finish, Predict Finish, 6.2335 5.2547 0.1799 0.7754 Evaluation Finish\n",
      "228: Data Load Finish, Predict Finish, 6.5693 5.6158 0.193 0.7633 Evaluation Finish\n",
      "229: Data Load Finish, Predict Finish, 14.0072 13.6288 0.5144 0.4952 Evaluation Finish\n",
      "230: Data Load Finish, Predict Finish, 3.8762 3.1646 0.1077 0.8603 Evaluation Finish\n",
      "231: Data Load Finish, Predict Finish, 3.4178 3.0446 0.1077 0.8768 Evaluation Finish\n",
      "232: Data Load Finish, Predict Finish, 8.2279 7.5977 0.266 0.7035 Evaluation Finish\n",
      "233: Data Load Finish, Predict Finish, 3.5951 3.023 0.104 0.8704 Evaluation Finish\n",
      "234: Data Load Finish, Predict Finish, 3.1881 2.9276 0.1052 0.8851 Evaluation Finish\n",
      "235: Data Load Finish, Predict Finish, 16.008 15.6923 0.59 0.4231 Evaluation Finish\n",
      "236: Data Load Finish, Predict Finish, 5.1424 4.0484 0.1355 0.8147 Evaluation Finish\n",
      "237: Data Load Finish, Predict Finish, 4.7635 3.9188 0.1343 0.8283 Evaluation Finish\n",
      "238: Data Load Finish, Predict Finish, 5.3294 4.3263 0.146 0.8079 Evaluation Finish\n",
      "239: Data Load Finish, Predict Finish, 3.7755 3.1561 0.1082 0.8639 Evaluation Finish\n",
      "240: Data Load Finish, Predict Finish, 3.2994 2.9747 0.1056 0.8811 Evaluation Finish\n",
      "241: Data Load Finish, "
     ]
    },
    {
     "name": "stderr",
     "output_type": "stream",
     "text": [
      "C:\\Users\\vfgtr554\\anaconda3\\envs\\cctv\\lib\\site-packages\\statsmodels\\base\\model.py:606: ConvergenceWarning: Maximum Likelihood optimization failed to converge. Check mle_retvals\n",
      "  ConvergenceWarning)\n"
     ]
    },
    {
     "name": "stdout",
     "output_type": "stream",
     "text": [
      "Predict Finish, 3.8207 3.1564 0.1078 0.8623 Evaluation Finish\n",
      "242: Data Load Finish, Predict Finish, 4.8424 3.7587 0.1254 0.8255 Evaluation Finish\n",
      "243: Data Load Finish, Predict Finish, 20.8524 20.6025 0.7704 0.2485 Evaluation Finish\n",
      "244: Data Load Finish, Predict Finish, 9.7987 9.3046 0.3292 0.6469 Evaluation Finish\n",
      "245: Data Load Finish, Predict Finish, 10.8745 10.4361 0.3717 0.6081 Evaluation Finish\n",
      "246: Data Load Finish, Predict Finish, 9.7622 8.4377 0.2982 0.6482 Evaluation Finish\n",
      "247: Data Load Finish, Predict Finish, 8.6673 8.0366 0.2829 0.6877 Evaluation Finish\n",
      "248: Data Load Finish, Predict Finish, 11.6338 11.2041 0.3986 0.5807 Evaluation Finish\n",
      "249: Data Load Finish, Predict Finish, 9.2057 8.6656 0.3055 0.6683 Evaluation Finish\n",
      "250: Data Load Finish, Predict Finish, 9.1118 8.5572 0.3014 0.6716 Evaluation Finish\n",
      "251: Data Load Finish, Predict Finish, 11.0863 10.6187 0.3772 0.6005 Evaluation Finish\n",
      "252: Data Load Finish, "
     ]
    },
    {
     "name": "stderr",
     "output_type": "stream",
     "text": [
      "C:\\Users\\vfgtr554\\anaconda3\\envs\\cctv\\lib\\site-packages\\statsmodels\\base\\model.py:606: ConvergenceWarning: Maximum Likelihood optimization failed to converge. Check mle_retvals\n",
      "  ConvergenceWarning)\n"
     ]
    },
    {
     "name": "stdout",
     "output_type": "stream",
     "text": [
      "Predict Finish, 3.2621 3.0046 0.1124 0.8824 Evaluation Finish\n",
      "253: Data Load Finish, Predict Finish, 7.5479 6.8561 0.2387 0.728 Evaluation Finish\n",
      "254: Data Load Finish, Predict Finish, 4.6435 3.6933 0.1473 0.8327 Evaluation Finish\n",
      "255: Data Load Finish, Predict Finish, 8.4981 7.8904 0.2768 0.6938 Evaluation Finish\n",
      "256: Data Load Finish, Predict Finish, 6.1333 5.2028 0.1778 0.779 Evaluation Finish\n",
      "257: Data Load Finish, Predict Finish, 6.6455 5.8441 0.2281 0.7605 Evaluation Finish\n",
      "258: Data Load Finish, Predict Finish, 4.2237 3.4983 0.1203 0.8478 Evaluation Finish\n",
      "259: Data Load Finish, Predict Finish, 5.0941 4.1942 0.1662 0.8164 Evaluation Finish\n",
      "260: Data Load Finish, Predict Finish, 4.9087 3.9683 0.1578 0.8231 Evaluation Finish\n",
      "261: Data Load Finish, Predict Finish, 3.7637 3.1363 0.1224 0.8644 Evaluation Finish\n",
      "262: Data Load Finish, Predict Finish, 4.2648 3.3272 0.1332 0.8463 Evaluation Finish\n",
      "263: Data Load Finish, Predict Finish, 3.3735 3.0127 0.1069 0.8784 Evaluation Finish\n",
      "264: Data Load Finish, Predict Finish, 5.745 4.828 0.1644 0.793 Evaluation Finish\n",
      "265: Data Load Finish, Predict Finish, 5.501 4.4815 0.1514 0.8018 Evaluation Finish\n",
      "266: Data Load Finish, Predict Finish, 10.1438 9.6259 0.3404 0.6344 Evaluation Finish\n",
      "267: Data Load Finish, Predict Finish, 3.9378 3.2941 0.1146 0.8581 Evaluation Finish\n",
      "268: Data Load Finish, Predict Finish, 5.3924 4.3646 0.1471 0.8057 Evaluation Finish\n",
      "269: Data Load Finish, Predict Finish, 3.8903 3.1876 0.1239 0.8598 Evaluation Finish\n",
      "270: Data Load Finish, Predict Finish, 10.9236 10.3739 0.368 0.6063 Evaluation Finish\n",
      "271: Data Load Finish, Predict Finish, 3.5124 2.9107 0.1117 0.8734 Evaluation Finish\n",
      "272: Data Load Finish, Predict Finish, 3.9057 3.1566 0.1244 0.8593 Evaluation Finish\n",
      "273: Data Load Finish, Predict Finish, 3.6954 3.141 0.109 0.8668 Evaluation Finish\n",
      "274: Data Load Finish, Predict Finish, 7.5657 6.7914 0.2371 0.7274 Evaluation Finish\n",
      "275: Data Load Finish, Predict Finish, 8.7838 8.0848 0.2835 0.6835 Evaluation Finish\n",
      "276: Data Load Finish, Predict Finish, 7.4517 6.6752 0.233 0.7315 Evaluation Finish\n",
      "277: Data Load Finish, Predict Finish, 8.8382 8.2105 0.2884 0.6815 Evaluation Finish\n",
      "278: Data Load Finish, Predict Finish, 5.0895 3.9852 0.1332 0.8166 Evaluation Finish\n",
      "279: Data Load Finish, Predict Finish, 5.8966 4.9819 0.1699 0.7875 Evaluation Finish\n",
      "280: Data Load Finish, Predict Finish, 4.8419 3.7688 0.1261 0.8255 Evaluation Finish\n",
      "281: Data Load Finish, Predict Finish, 5.1527 4.1281 0.1389 0.8143 Evaluation Finish\n",
      "282: Data Load Finish, Predict Finish, 4.9406 3.8827 0.13 0.822 Evaluation Finish\n",
      "283: Data Load Finish, Predict Finish, 5.1207 4.1847 0.1618 0.8155 Evaluation Finish\n",
      "284: Data Load Finish, Predict Finish, 4.429 3.4427 0.138 0.8404 Evaluation Finish\n",
      "285: Data Load Finish, Predict Finish, 6.9186 5.9025 0.205 0.7507 Evaluation Finish\n",
      "286: Data Load Finish, Predict Finish, 3.491 3.0985 0.1187 0.8742 Evaluation Finish\n",
      "287: Data Load Finish, Predict Finish, 6.6093 5.8288 0.2019 0.7618 Evaluation Finish\n",
      "288: Data Load Finish, Predict Finish, 3.4008 3.0035 0.1053 0.8774 Evaluation Finish\n",
      "289: Data Load Finish, Predict Finish, 8.4876 7.8692 0.2759 0.6941 Evaluation Finish\n",
      "290: Data Load Finish, Predict Finish, 6.2818 5.4333 0.2119 0.7736 Evaluation Finish\n",
      "291: Data Load Finish, Predict Finish, 3.2231 2.9073 0.105 0.8838 Evaluation Finish\n",
      "292: Data Load Finish, Predict Finish, 5.0059 4.0705 0.1378 0.8196 Evaluation Finish\n",
      "293: Data Load Finish, Predict Finish, 5.2102 4.0605 0.1358 0.8122 Evaluation Finish\n",
      "294: Data Load Finish, Predict Finish, 4.9664 3.9983 0.1349 0.821 Evaluation Finish\n",
      "295: Data Load Finish, Predict Finish, 7.176 6.4229 0.223 0.7414 Evaluation Finish\n",
      "296: Data Load Finish, Predict Finish, 4.4055 3.5065 0.118 0.8412 Evaluation Finish\n",
      "297: Data Load Finish, Predict Finish, 4.8998 3.7336 0.1239 0.8234 Evaluation Finish\n",
      "298: Data Load Finish, Predict Finish, 8.6259 7.9054 0.277 0.6891 Evaluation Finish\n",
      "299: Data Load Finish, Predict Finish, 3.8253 3.1213 0.1234 0.8621 Evaluation Finish\n",
      "300: Data Load Finish, Predict Finish, 7.4422 6.7321 0.2601 0.7318 Evaluation Finish\n",
      "301: Data Load Finish, Predict Finish, 9.8415 9.3227 0.3294 0.6453 Evaluation Finish\n",
      "302: Data Load Finish, Predict Finish, 11.6633 11.2272 0.3994 0.5797 Evaluation Finish\n",
      "303: Data Load Finish, Predict Finish, 5.7213 4.7731 0.1886 0.7938 Evaluation Finish\n",
      "304: Data Load Finish, Predict Finish, 5.765 4.8024 0.1638 0.7922 Evaluation Finish\n",
      "305: Data Load Finish, Predict Finish, 3.7097 3.1088 0.1068 0.8663 Evaluation Finish\n",
      "306: Data Load Finish, Predict Finish, 9.7652 9.2339 0.3261 0.6481 Evaluation Finish\n",
      "307: Data Load Finish, Predict Finish, 6.8028 5.9761 0.2061 0.7548 Evaluation Finish\n",
      "308: Data Load Finish, Predict Finish, 5.2864 4.1817 0.1412 0.8095 Evaluation Finish\n",
      "309: Data Load Finish, Predict Finish, 5.3234 4.2754 0.1439 0.8082 Evaluation Finish\n",
      "310: Data Load Finish, Predict Finish, 6.8708 5.9088 0.2037 0.7524 Evaluation Finish\n",
      "311: Data Load Finish, Predict Finish, 3.3589 2.995 0.1063 0.879 Evaluation Finish\n",
      "312: Data Load Finish, Predict Finish, 12.3535 11.9316 0.4519 0.5548 Evaluation Finish\n",
      "313: Data Load Finish, Predict Finish, 10.6131 10.1256 0.3588 0.6175 Evaluation Finish\n",
      "314: Data Load Finish, Predict Finish, 4.7514 3.5868 0.1188 0.8288 Evaluation Finish\n",
      "315: Data Load Finish, Predict Finish, 5.3907 4.3368 0.146 0.8057 Evaluation Finish\n",
      "316: Data Load Finish, Predict Finish, 5.3295 4.2831 0.1441 0.8079 Evaluation Finish\n",
      "317: Data Load Finish, Predict Finish, 4.3034 3.4114 0.1146 0.8449 Evaluation Finish\n",
      "318: Data Load Finish, Predict Finish, 10.7031 10.2278 0.3627 0.6143 Evaluation Finish\n",
      "319: Data Load Finish, "
     ]
    },
    {
     "name": "stderr",
     "output_type": "stream",
     "text": [
      "C:\\Users\\vfgtr554\\anaconda3\\envs\\cctv\\lib\\site-packages\\statsmodels\\base\\model.py:606: ConvergenceWarning: Maximum Likelihood optimization failed to converge. Check mle_retvals\n",
      "  ConvergenceWarning)\n"
     ]
    },
    {
     "name": "stdout",
     "output_type": "stream",
     "text": [
      "Predict Finish, 8.892 8.3129 0.2923 0.6796 Evaluation Finish\n",
      "320: Data Load Finish, Predict Finish, 5.5689 4.5877 0.1554 0.7993 Evaluation Finish\n",
      "321: Data Load Finish, Predict Finish, 3.3387 2.9694 0.1056 0.8797 Evaluation Finish\n",
      "322: Data Load Finish, Predict Finish, 3.5088 3.0419 0.1165 0.8736 Evaluation Finish\n",
      "323: Data Load Finish, Predict Finish, 4.2364 3.5208 0.1212 0.8473 Evaluation Finish\n",
      "324: Data Load Finish, Predict Finish, 4.4569 3.5342 0.1411 0.8394 Evaluation Finish\n",
      "325: Data Load Finish, Predict Finish, 7.6477 6.9844 0.2697 0.7244 Evaluation Finish\n",
      "326: Data Load Finish, Predict Finish, 6.4176 5.59 0.1922 0.7687 Evaluation Finish\n",
      "327: Data Load Finish, Predict Finish, 13.9545 13.5923 0.5127 0.4971 Evaluation Finish\n",
      "328: Data Load Finish, Predict Finish, 11.2424 10.729 0.4078 0.5949 Evaluation Finish\n",
      "329: Data Load Finish, Predict Finish, 9.0861 8.2653 0.3174 0.6726 Evaluation Finish\n",
      "330: Data Load Finish, Predict Finish, 5.8608 4.9381 0.1947 0.7888 Evaluation Finish\n",
      "331: Data Load Finish, Predict Finish, 7.2336 6.5742 0.2541 0.7393 Evaluation Finish\n",
      "332: Data Load Finish, Predict Finish, 6.4678 5.5922 0.2185 0.7669 Evaluation Finish\n",
      "333: Data Load Finish, Predict Finish, 12.223 11.7363 0.445 0.5595 Evaluation Finish\n",
      "334: Data Load Finish, Predict Finish, 20.1729 19.9236 0.7455 0.273 Evaluation Finish\n",
      "335: Data Load Finish, Predict Finish, 3.2669 2.967 0.1113 0.8823 Evaluation Finish\n",
      "336: Data Load Finish, Predict Finish, 11.2556 10.7554 0.4087 0.5944 Evaluation Finish\n",
      "337: Data Load Finish, Predict Finish, 4.3494 3.4642 0.1381 0.8433 Evaluation Finish\n",
      "338: Data Load Finish, Predict Finish, 16.2275 15.836 0.5961 0.4152 Evaluation Finish\n",
      "339: Data Load Finish, Predict Finish, 6.2199 5.3566 0.2101 0.7759 Evaluation Finish\n",
      "340: Data Load Finish, Predict Finish, 3.5524 3.1114 0.1194 0.872 Evaluation Finish\n",
      "341: Data Load Finish, Predict Finish, 3.8906 3.3276 0.1299 0.8598 Evaluation Finish\n",
      "342: Data Load Finish, Predict Finish, 13.3179 12.9297 0.4886 0.5201 Evaluation Finish\n",
      "343: Data Load Finish, Predict Finish, 14.6005 14.0045 0.5286 0.4738 Evaluation Finish\n",
      "344: Data Load Finish, Predict Finish, 3.2139 2.9587 0.111 0.8842 Evaluation Finish\n",
      "345: Data Load Finish, Predict Finish, 5.4605 4.5843 0.1805 0.8032 Evaluation Finish\n",
      "346: Data Load Finish, Predict Finish, 11.2739 10.7859 0.3829 0.5937 Evaluation Finish\n",
      "347: Data Load Finish, Predict Finish, 3.4245 3.016 0.1057 0.8766 Evaluation Finish\n",
      "348: Data Load Finish, Predict Finish, 8.9909 8.4264 0.3229 0.676 Evaluation Finish\n",
      "349: Data Load Finish, Predict Finish, 7.4499 6.7564 0.2351 0.7315 Evaluation Finish\n",
      "350: Data Load Finish, Predict Finish, 13.4944 13.1164 0.4688 0.5137 Evaluation Finish\n",
      "351: Data Load Finish, Predict Finish, 3.7484 3.0652 0.1095 0.8649 Evaluation Finish\n",
      "352: Data Load Finish, Predict Finish, 4.218 3.3643 0.1133 0.848 Evaluation Finish\n",
      "353: Data Load Finish, Predict Finish, 3.8328 3.1899 0.1254 0.8619 Evaluation Finish\n",
      "354: Data Load Finish, Predict Finish, 4.7836 3.8386 0.1529 0.8276 Evaluation Finish\n",
      "355: Data Load Finish, Predict Finish, 4.5972 3.6243 0.1449 0.8343 Evaluation Finish\n",
      "356: Data Load Finish, Predict Finish, 3.1741 2.9279 0.1088 0.8856 Evaluation Finish\n",
      "357: Data Load Finish, Predict Finish, 4.359 3.5771 0.1415 0.8429 Evaluation Finish\n",
      "358: Data Load Finish, Predict Finish, 3.2196 2.9482 0.1059 0.884 Evaluation Finish\n",
      "359: Data Load Finish, Predict Finish, 3.2814 2.9923 0.1131 0.8817 Evaluation Finish\n",
      "360: Data Load Finish, Predict Finish, 3.6944 3.1029 0.121 0.8669 Evaluation Finish\n",
      "361: Data Load Finish, Predict Finish, 4.18 3.2552 0.1299 0.8494 Evaluation Finish\n",
      "362: Data Load Finish, Predict Finish, 4.374 3.4521 0.1158 0.8424 Evaluation Finish\n",
      "363: Data Load Finish, Predict Finish, 8.0447 7.3632 0.2575 0.7101 Evaluation Finish\n",
      "364: Data Load Finish, "
     ]
    },
    {
     "name": "stderr",
     "output_type": "stream",
     "text": [
      "C:\\Users\\vfgtr554\\anaconda3\\envs\\cctv\\lib\\site-packages\\statsmodels\\base\\model.py:606: ConvergenceWarning: Maximum Likelihood optimization failed to converge. Check mle_retvals\n",
      "  ConvergenceWarning)\n"
     ]
    },
    {
     "name": "stdout",
     "output_type": "stream",
     "text": [
      "Predict Finish, 8.6301 8.034 0.2821 0.689 Evaluation Finish\n",
      "365: Data Load Finish, Predict Finish, 4.439 3.4668 0.1386 0.84 Evaluation Finish\n",
      "366: Data Load Finish, Predict Finish, 4.2277 3.3489 0.1125 0.8476 Evaluation Finish\n",
      "367: Data Load Finish, Predict Finish, 5.2216 4.274 0.1696 0.8118 Evaluation Finish\n",
      "368: Data Load Finish, Predict Finish, 3.9731 3.2366 0.1099 0.8568 Evaluation Finish\n",
      "369: Data Load Finish, Predict Finish, 6.4397 5.6038 0.1927 0.7679 Evaluation Finish\n",
      "370: Data Load Finish, Predict Finish, 3.6541 3.0393 0.1161 0.8683 Evaluation Finish\n",
      "371: Data Load Finish, Predict Finish, 3.6671 3.0786 0.1204 0.8678 Evaluation Finish\n",
      "372: Data Load Finish, Predict Finish, 14.2186 13.8624 0.5227 0.4876 Evaluation Finish\n",
      "373: Data Load Finish, Predict Finish, 5.6542 4.6344 0.1571 0.7962 Evaluation Finish\n",
      "374: Data Load Finish, Predict Finish, 10.4566 9.8965 0.3772 0.6232 Evaluation Finish\n",
      "375: Data Load Finish, Predict Finish, 35.621 35.4736 1.3172 -0.2837 Evaluation Finish\n",
      "376: Data Load Finish, Predict Finish, 55.5773 55.4865 2.0525 -1.0029 Evaluation Finish\n",
      "377: Data Load Finish, Predict Finish, 29.616 29.4274 1.0951 -0.0673 Evaluation Finish\n",
      "378: Data Load Finish, Predict Finish, 32.3692 32.0399 1.1915 -0.1665 Evaluation Finish\n",
      "379: Data Load Finish, Predict Finish, 3.4875 2.9068 0.1093 0.8743 Evaluation Finish\n",
      "380: Data Load Finish, "
     ]
    },
    {
     "name": "stderr",
     "output_type": "stream",
     "text": [
      "C:\\Users\\vfgtr554\\anaconda3\\envs\\cctv\\lib\\site-packages\\statsmodels\\base\\model.py:606: ConvergenceWarning: Maximum Likelihood optimization failed to converge. Check mle_retvals\n",
      "  ConvergenceWarning)\n"
     ]
    },
    {
     "name": "stdout",
     "output_type": "stream",
     "text": [
      "Predict Finish, 7.6595 6.6721 0.2581 0.724 Evaluation Finish\n",
      "381: Data Load Finish, Predict Finish, 4.0604 3.2983 0.1165 0.8537 Evaluation Finish\n",
      "382: Data Load Finish, Predict Finish, 4.4498 3.6044 0.1404 0.8396 Evaluation Finish\n",
      "383: Data Load Finish, Predict Finish, 3.7268 3.0815 0.1059 0.8657 Evaluation Finish\n",
      "384: Data Load Finish, Predict Finish, 4.0712 3.2206 0.1085 0.8533 Evaluation Finish\n",
      "385: Data Load Finish, Predict Finish, 3.3055 2.9066 0.1071 0.8809 Evaluation Finish\n",
      "386: Data Load Finish, Predict Finish, 3.5894 3.073 0.1194 0.8706 Evaluation Finish\n",
      "387: Data Load Finish, Predict Finish, 4.8232 3.8969 0.1549 0.8262 Evaluation Finish\n",
      "388: Data Load Finish, Predict Finish, 3.2436 2.9587 0.1071 0.8831 Evaluation Finish\n",
      "389: Data Load Finish, Predict Finish, 18.0956 17.8144 0.6681 0.3479 Evaluation Finish\n",
      "390: Data Load Finish, Predict Finish, 26.4738 26.2778 0.9792 0.046 Evaluation Finish\n",
      "391: Data Load Finish, Predict Finish, 8.4966 7.8873 0.2766 0.6938 Evaluation Finish\n",
      "392: Data Load Finish, Predict Finish, 7.0783 6.3364 0.2203 0.7449 Evaluation Finish\n",
      "393: Data Load Finish, Predict Finish, 5.0519 4.2559 0.1464 0.8179 Evaluation Finish\n",
      "394: Data Load Finish, Predict Finish, 4.1697 3.3595 0.1135 0.8497 Evaluation Finish\n",
      "395: Data Load Finish, Predict Finish, 7.1086 6.3448 0.22 0.7438 Evaluation Finish\n",
      "396: Data Load Finish, Predict Finish, 4.3206 3.5661 0.1218 0.8443 Evaluation Finish\n",
      "397: Data Load Finish, Predict Finish, 4.9043 3.9746 0.158 0.8233 Evaluation Finish\n",
      "398: Data Load Finish, Predict Finish, 6.8355 6.0932 0.2112 0.7537 Evaluation Finish\n",
      "399: Data Load Finish, Predict Finish, 7.4509 6.6867 0.2326 0.7315 Evaluation Finish\n",
      "400: Data Load Finish, Predict Finish, 9.4376 8.8616 0.3124 0.6599 Evaluation Finish\n",
      "401: Data Load Finish, Predict Finish, 5.2115 4.2605 0.1445 0.8122 Evaluation Finish\n",
      "402: Data Load Finish, Predict Finish, 5.0044 4.2457 0.148 0.8197 Evaluation Finish\n",
      "403: Data Load Finish, Predict Finish, 6.5162 5.7047 0.1965 0.7652 Evaluation Finish\n",
      "404: Data Load Finish, Predict Finish, 6.7738 5.9081 0.2039 0.7559 Evaluation Finish\n",
      "405: Data Load Finish, Predict Finish, 7.6329 6.8956 0.2669 0.7249 Evaluation Finish\n",
      "406: Data Load Finish, Predict Finish, 3.4634 3.0119 0.116 0.8752 Evaluation Finish\n",
      "407: Data Load Finish, Predict Finish, 3.514 3.0614 0.1181 0.8734 Evaluation Finish\n",
      "408: Data Load Finish, Predict Finish, 3.2349 2.9513 0.1104 0.8834 Evaluation Finish\n",
      "409: Data Load Finish, Predict Finish, 6.0419 5.1558 0.2009 0.7823 Evaluation Finish\n",
      "410: Data Load Finish, Predict Finish, 3.2838 2.9845 0.1065 0.8817 Evaluation Finish\n",
      "411: Data Load Finish, Predict Finish, 3.3428 2.9967 0.1077 0.8795 Evaluation Finish\n",
      "412: Data Load Finish, Predict Finish, 11.5081 10.9841 0.4178 0.5853 Evaluation Finish\n",
      "413: Data Load Finish, Predict Finish, 7.169 6.3755 0.2208 0.7416 Evaluation Finish\n",
      "414: Data Load Finish, "
     ]
    },
    {
     "name": "stderr",
     "output_type": "stream",
     "text": [
      "C:\\Users\\vfgtr554\\anaconda3\\envs\\cctv\\lib\\site-packages\\statsmodels\\base\\model.py:606: ConvergenceWarning: Maximum Likelihood optimization failed to converge. Check mle_retvals\n",
      "  ConvergenceWarning)\n"
     ]
    },
    {
     "name": "stdout",
     "output_type": "stream",
     "text": [
      "Predict Finish, 3.536 2.9183 0.1134 0.8726 Evaluation Finish\n",
      "415: Data Load Finish, Predict Finish, 3.2523 2.9375 0.1041 0.8828 Evaluation Finish\n",
      "416: Data Load Finish, Predict Finish, 4.3435 3.512 0.1395 0.8435 Evaluation Finish\n",
      "417: Data Load Finish, Predict Finish, 4.0076 3.2147 0.1139 0.8556 Evaluation Finish\n",
      "418: Data Load Finish, Predict Finish, 15.8417 15.5241 0.5838 0.4291 Evaluation Finish\n",
      "419: Data Load Finish, Predict Finish, 7.6952 6.9624 0.2432 0.7227 Evaluation Finish\n",
      "420: Data Load Finish, Predict Finish, 3.6754 3.0169 0.1154 0.8675 Evaluation Finish\n",
      "421: Data Load Finish, Predict Finish, 4.5593 3.8103 0.1498 0.8357 Evaluation Finish\n",
      "422: Data Load Finish, Predict Finish, 6.605 5.734 0.1973 0.762 Evaluation Finish\n",
      "423: Data Load Finish, Predict Finish, 4.9965 4.0967 0.1622 0.8199 Evaluation Finish\n",
      "424: Data Load Finish, Predict Finish, 5.5695 4.6862 0.1832 0.7993 Evaluation Finish\n",
      "425: Data Load Finish, Predict Finish, 3.1767 2.8855 0.1046 0.8855 Evaluation Finish\n",
      "426: Data Load Finish, Predict Finish, 14.1595 13.8038 0.5205 0.4897 Evaluation Finish\n",
      "427: Data Load Finish, Predict Finish, 23.8472 23.6339 0.8819 0.1406 Evaluation Finish\n",
      "428: Data Load Finish, Predict Finish, 25.5137 25.3097 0.9435 0.0806 Evaluation Finish\n",
      "429: Data Load Finish, Predict Finish, 31.2892 31.0587 1.1554 -0.1276 Evaluation Finish\n",
      "430: Data Load Finish, Predict Finish, 32.5692 32.4096 1.2038 -0.1737 Evaluation Finish\n",
      "431: Data Load Finish, Predict Finish, 21.9649 21.7374 0.8121 0.2084 Evaluation Finish\n",
      "432: Data Load Finish, Predict Finish, 11.433 10.8976 0.3866 0.588 Evaluation Finish\n",
      "433: Data Load Finish, Predict Finish, 14.496 14.1608 0.5084 0.4776 Evaluation Finish\n",
      "434: Data Load Finish, Predict Finish, 6.9534 6.2274 0.2162 0.7494 Evaluation Finish\n",
      "435: Data Load Finish, Predict Finish, 8.4539 7.8608 0.2761 0.6953 Evaluation Finish\n",
      "436: Data Load Finish, Predict Finish, 10.688 10.1958 0.3613 0.6148 Evaluation Finish\n",
      "437: Data Load Finish, Predict Finish, 7.264 6.0652 0.2083 0.7382 Evaluation Finish\n",
      "438: Data Load Finish, Predict Finish, 4.2984 3.2868 0.1097 0.8451 Evaluation Finish\n",
      "439: Data Load Finish, Predict Finish, 3.1769 2.9132 0.1059 0.8855 Evaluation Finish\n",
      "440: Data Load Finish, Predict Finish, 7.5511 6.8865 0.2661 0.7279 Evaluation Finish\n",
      "441: Data Load Finish, Predict Finish, 3.766 3.2062 0.1251 0.8643 Evaluation Finish\n",
      "442: Data Load Finish, Predict Finish, 5.0656 4.0912 0.1629 0.8174 Evaluation Finish\n",
      "443: Data Load Finish, Predict Finish, 7.3162 6.586 0.2287 0.7363 Evaluation Finish\n",
      "444: Data Load Finish, Predict Finish, 6.8963 6.1736 0.2142 0.7515 Evaluation Finish\n",
      "445: Data Load Finish, Predict Finish, 10.3071 9.793 0.3465 0.6286 Evaluation Finish\n",
      "446: Data Load Finish, Predict Finish, 3.4101 3.0268 0.1065 0.8771 Evaluation Finish\n",
      "447: Data Load Finish, Predict Finish, 3.4002 3.0132 0.1058 0.8775 Evaluation Finish\n",
      "448: Data Load Finish, Predict Finish, 8.2424 7.6239 0.2933 0.703 Evaluation Finish\n",
      "449: Data Load Finish, Predict Finish, 5.0869 4.0778 0.1373 0.8167 Evaluation Finish\n",
      "450: Data Load Finish, Predict Finish, 4.1744 3.3622 0.1137 0.8496 Evaluation Finish\n",
      "451: Data Load Finish, Predict Finish, 3.2623 2.9925 0.1112 0.8824 Evaluation Finish\n",
      "452: Data Load Finish, Predict Finish, 5.0238 4.1275 0.1402 0.819 Evaluation Finish\n",
      "453: Data Load Finish, Predict Finish, 3.8387 3.1523 0.108 0.8617 Evaluation Finish\n",
      "454: Data Load Finish, Predict Finish, 8.0557 7.3711 0.2575 0.7097 Evaluation Finish\n",
      "455: Data Load Finish, Predict Finish, 9.5365 8.99 0.3174 0.6563 Evaluation Finish\n",
      "456: Data Load Finish, Predict Finish, 6.7901 5.8993 0.204 0.7553 Evaluation Finish\n",
      "457: Data Load Finish, Predict Finish, 4.0145 3.309 0.1129 0.8553 Evaluation Finish\n",
      "458: Data Load Finish, Predict Finish, 3.7606 3.1338 0.1102 0.8645 Evaluation Finish\n",
      "459: Data Load Finish, Predict Finish, 3.17 2.9084 0.1055 0.8858 Evaluation Finish\n",
      "460: Data Load Finish, Predict Finish, 8.4201 7.8063 0.2737 0.6966 Evaluation Finish\n",
      "461: Data Load Finish, Predict Finish, 5.2323 4.0257 0.1374 0.8114 Evaluation Finish\n",
      "462: Data Load Finish, Predict Finish, 3.7881 3.1615 0.1086 0.8635 Evaluation Finish\n",
      "463: Data Load Finish, Predict Finish, 7.0447 6.3005 0.2184 0.7461 Evaluation Finish\n",
      "464: Data Load Finish, Predict Finish, 3.3393 2.958 0.1122 0.8797 Evaluation Finish\n",
      "465: Data Load Finish, Predict Finish, 6.5281 5.6918 0.1961 0.7647 Evaluation Finish\n",
      "466: Data Load Finish, Predict Finish, 9.7105 9.1698 0.3239 0.6501 Evaluation Finish\n",
      "467: Data Load Finish, Predict Finish, 3.3489 2.8673 0.1039 0.8793 Evaluation Finish\n",
      "468: Data Load Finish, Predict Finish, 11.4469 10.9715 0.4167 0.5875 Evaluation Finish\n",
      "469: Data Load Finish, Predict Finish, 3.3514 2.987 0.1145 0.8792 Evaluation Finish\n",
      "470: Data Load Finish, Predict Finish, 11.1192 10.6713 0.3791 0.5993 Evaluation Finish\n",
      "471: Data Load Finish, Predict Finish, 3.9214 3.2901 0.1261 0.8587 Evaluation Finish\n",
      "472: Data Load Finish, Predict Finish, 9.7198 9.1882 0.3246 0.6497 Evaluation Finish\n",
      "473: Data Load Finish, Predict Finish, 9.404 8.8034 0.3106 0.6611 Evaluation Finish\n",
      "474: Data Load Finish, Predict Finish, 5.2646 4.2883 0.1704 0.8103 Evaluation Finish\n",
      "475: Data Load Finish, Predict Finish, 6.5434 5.5507 0.1908 0.7642 Evaluation Finish\n",
      "476: Data Load Finish, Predict Finish, 4.4453 3.6909 0.1262 0.8398 Evaluation Finish\n",
      "477: Data Load Finish, Predict Finish, 4.1016 3.1946 0.1075 0.8522 Evaluation Finish\n",
      "478: Data Load Finish, Predict Finish, 7.3542 6.6426 0.2309 0.735 Evaluation Finish\n",
      "479: Data Load Finish, Predict Finish, 4.5207 3.4367 0.1145 0.8371 Evaluation Finish\n",
      "480: Data Load Finish, Predict Finish, 7.4166 6.6859 0.2324 0.7327 Evaluation Finish\n",
      "481: Data Load Finish, Predict Finish, 3.2604 2.9558 0.1063 0.8825 Evaluation Finish\n",
      "482: Data Load Finish, Predict Finish, 8.9521 8.3456 0.2933 0.6774 Evaluation Finish\n",
      "483: Data Load Finish, Predict Finish, 3.8216 3.1934 0.1094 0.8623 Evaluation Finish\n",
      "484: Data Load Finish, Predict Finish, 3.6314 3.0849 0.1067 0.8691 Evaluation Finish\n",
      "485: Data Load Finish, Predict Finish, 3.3167 2.9871 0.1059 0.8805 Evaluation Finish\n",
      "486: Data Load Finish, Predict Finish, 3.3622 2.9113 0.1066 0.8788 Evaluation Finish\n",
      "487: Data Load Finish, Predict Finish, 11.7025 11.257 0.4271 0.5783 Evaluation Finish\n",
      "488: Data Load Finish, Predict Finish, 4.7461 3.7711 0.1506 0.829 Evaluation Finish\n",
      "489: Data Load Finish, Predict Finish, 13.9365 13.5854 0.5123 0.4978 Evaluation Finish\n",
      "490: Data Load Finish, Predict Finish, 11.6479 11.2058 0.425 0.5802 Evaluation Finish\n",
      "491: Data Load Finish, Predict Finish, 8.2096 7.2355 0.2509 0.7041 Evaluation Finish\n",
      "492: Data Load Finish, Predict Finish, 6.6195 5.6593 0.1953 0.7614 Evaluation Finish\n",
      "493: Data Load Finish, Predict Finish, 3.6676 3.1093 0.1214 0.8678 Evaluation Finish\n",
      "494: Data Load Finish, Predict Finish, 7.2585 6.381 0.2212 0.7384 Evaluation Finish\n",
      "495: Data Load Finish, Predict Finish, 3.2962 2.9768 0.106 0.8812 Evaluation Finish\n",
      "496: Data Load Finish, Predict Finish, 3.189 2.9213 0.1045 0.8851 Evaluation Finish\n",
      "497: Data Load Finish, Predict Finish, 3.2758 2.9585 0.1048 0.8819 Evaluation Finish\n",
      "498: Data Load Finish, Predict Finish, 5.7024 4.7557 0.188 0.7945 Evaluation Finish\n",
      "499: Data Load Finish, Predict Finish, 3.5635 3.1642 0.116 0.8716 Evaluation Finish\n",
      "500: Data Load Finish, Predict Finish, 3.1949 2.7056 0.1038 0.8849 Evaluation Finish\n",
      "501: Data Load Finish, Predict Finish, 3.3486 2.9592 0.1138 0.8793 Evaluation Finish\n",
      "502: Data Load Finish, Predict Finish, 3.202 2.9335 0.1078 0.8846 Evaluation Finish\n",
      "503: Data Load Finish, Predict Finish, 4.6678 3.8139 0.1296 0.8318 Evaluation Finish\n",
      "504: Data Load Finish, Predict Finish, 3.1308 2.8747 0.1069 0.8872 Evaluation Finish\n",
      "505: Data Load Finish, Predict Finish, 8.5597 7.9009 0.2768 0.6915 Evaluation Finish\n",
      "RMSE: 7.413847916546988, MAE: 6.746530993967444, MAPE: 0.24544554139558378\n",
      "ACC: 0.7378650699840391\n"
     ]
    }
   ],
   "source": [
    "predictARIMA(df, idx, 9)"
   ]
  },
  {
   "cell_type": "markdown",
   "id": "c1acb05c",
   "metadata": {},
   "source": [
    "### Unobserved Nodes = 5%"
   ]
  },
  {
   "cell_type": "code",
   "execution_count": 10,
   "id": "8a799433",
   "metadata": {},
   "outputs": [
    {
     "name": "stdout",
     "output_type": "stream",
     "text": [
      "2880 506\n"
     ]
    },
    {
     "data": {
      "text/plain": [
       "72000"
      ]
     },
     "execution_count": 10,
     "metadata": {},
     "output_type": "execute_result"
    }
   ],
   "source": [
    "df, idx = csvIndexToDatetime(path_5, start, freq)\n",
    "(df == 0).sum().sum()"
   ]
  },
  {
   "cell_type": "code",
   "execution_count": 11,
   "id": "83ef8625",
   "metadata": {
    "scrolled": false
   },
   "outputs": [
    {
     "name": "stdout",
     "output_type": "stream",
     "text": [
      "0: Data Load Finish, Predict Finish, 3.1458 2.8845 0.1063 0.8866 Evaluation Finish\n",
      "1: Data Load Finish, Predict Finish, 3.774 3.0358 0.1076 0.864 Evaluation Finish\n",
      "2: Data Load Finish, Predict Finish, 6.379 5.5085 0.2156 0.7701 Evaluation Finish\n",
      "3: Data Load Finish, Predict Finish, 11.9185 11.4811 0.4352 0.5705 Evaluation Finish\n",
      "4: Data Load Finish, Predict Finish, 7.1377 6.1099 0.2116 0.7428 Evaluation Finish\n",
      "5: Data Load Finish, Predict Finish, 5.9589 5.0701 0.1732 0.7853 Evaluation Finish\n",
      "6: Data Load Finish, Predict Finish, 3.2452 2.9393 0.1062 0.8831 Evaluation Finish\n",
      "7: Data Load Finish, Predict Finish, 9.3639 8.8158 0.3108 0.6625 Evaluation Finish\n",
      "8: Data Load Finish, Predict Finish, 6.6493 5.8521 0.2018 0.7604 Evaluation Finish\n",
      "9: Data Load Finish, Predict Finish, 8.4574 7.8446 0.2751 0.6952 Evaluation Finish\n",
      "10: Data Load Finish, Predict Finish, 9.8118 9.2481 0.3268 0.6464 Evaluation Finish\n",
      "11: Data Load Finish, Predict Finish, 5.9826 5.0852 0.1737 0.7844 Evaluation Finish\n",
      "12: Data Load Finish, Predict Finish, 16.1703 15.8516 0.5959 0.4173 Evaluation Finish\n",
      "13: Data Load Finish, Predict Finish, 28.0791 27.8872 1.0384 -0.0119 Evaluation Finish\n",
      "14: Data Load Finish, Predict Finish, 31.6876 31.5178 1.1719 -0.1419 Evaluation Finish\n",
      "15: Data Load Finish, Predict Finish, 18.5832 18.3047 0.6861 0.3303 Evaluation Finish\n",
      "16: Data Load Finish, Predict Finish, 4.2431 3.2946 0.1314 0.8471 Evaluation Finish\n",
      "17: Data Load Finish, Predict Finish, 7.654 6.9444 0.2418 0.7242 Evaluation Finish\n",
      "18: Data Load Finish, Predict Finish, 5.01 3.895 0.1299 0.8195 Evaluation Finish\n",
      "19: Data Load Finish, Predict Finish, 9.2701 8.5549 0.3014 0.6659 Evaluation Finish\n",
      "20: Data Load Finish, Predict Finish, 9.2674 8.7028 0.3068 0.666 Evaluation Finish\n",
      "21: Data Load Finish, Predict Finish, 3.9508 3.3128 0.1141 0.8576 Evaluation Finish\n",
      "22: Data Load Finish, Predict Finish, 3.4363 2.9604 0.1056 0.8762 Evaluation Finish\n",
      "23: Data Load Finish, Predict Finish, 5.1343 4.171 0.1621 0.815 Evaluation Finish\n",
      "24: Data Load Finish, Predict Finish, 17.5528 17.0469 0.6399 0.3674 Evaluation Finish\n",
      "25: Data Load Finish, "
     ]
    },
    {
     "name": "stderr",
     "output_type": "stream",
     "text": [
      "C:\\Users\\vfgtr554\\anaconda3\\envs\\cctv\\lib\\site-packages\\pandas\\core\\arraylike.py:364: RuntimeWarning: divide by zero encountered in log\n",
      "  result = getattr(ufunc, method)(*inputs, **kwargs)\n",
      "C:\\Users\\vfgtr554\\anaconda3\\envs\\cctv\\lib\\site-packages\\statsmodels\\base\\model.py:606: ConvergenceWarning: Maximum Likelihood optimization failed to converge. Check mle_retvals\n",
      "  ConvergenceWarning)\n"
     ]
    },
    {
     "name": "stdout",
     "output_type": "stream",
     "text": [
      "Predict Finish, 26.7557 26.5689 0.9632 0.0358 Evaluation Finish\n",
      "26: Data Load Finish, Predict Finish, 5.0313 3.932 0.1318 0.8187 Evaluation Finish\n",
      "27: Data Load Finish, Predict Finish, 6.0401 5.1076 0.1743 0.7823 Evaluation Finish\n",
      "28: Data Load Finish, Predict Finish, 6.3189 5.3828 0.2101 0.7723 Evaluation Finish\n",
      "29: Data Load Finish, Predict Finish, 4.8019 3.5926 0.1189 0.827 Evaluation Finish\n",
      "30: Data Load Finish, Predict Finish, 3.3818 2.9241 0.1132 0.8781 Evaluation Finish\n",
      "31: Data Load Finish, Predict Finish, 3.3175 2.9961 0.1065 0.8804 Evaluation Finish\n",
      "32: Data Load Finish, Predict Finish, 4.5936 3.3193 0.1123 0.8345 Evaluation Finish\n",
      "33: Data Load Finish, Predict Finish, 12.3014 11.8184 0.4206 0.5567 Evaluation Finish\n",
      "34: Data Load Finish, Predict Finish, 4.3049 3.2513 0.1088 0.8449 Evaluation Finish\n",
      "35: Data Load Finish, Predict Finish, 6.0053 5.0507 0.174 0.7836 Evaluation Finish\n",
      "36: Data Load Finish, "
     ]
    },
    {
     "name": "stderr",
     "output_type": "stream",
     "text": [
      "C:\\Users\\vfgtr554\\anaconda3\\envs\\cctv\\lib\\site-packages\\pandas\\core\\arraylike.py:364: RuntimeWarning: divide by zero encountered in log\n",
      "  result = getattr(ufunc, method)(*inputs, **kwargs)\n",
      "C:\\Users\\vfgtr554\\anaconda3\\envs\\cctv\\lib\\site-packages\\statsmodels\\base\\model.py:606: ConvergenceWarning: Maximum Likelihood optimization failed to converge. Check mle_retvals\n",
      "  ConvergenceWarning)\n"
     ]
    },
    {
     "name": "stdout",
     "output_type": "stream",
     "text": [
      "Predict Finish, 26.7557 26.5689 0.9632 0.0358 Evaluation Finish\n",
      "37: Data Load Finish, Predict Finish, 4.3541 3.5738 0.1225 0.8431 Evaluation Finish\n",
      "38: Data Load Finish, Predict Finish, 7.6836 6.9783 0.2431 0.7231 Evaluation Finish\n",
      "39: Data Load Finish, Predict Finish, 3.3165 2.9872 0.1057 0.8805 Evaluation Finish\n",
      "40: Data Load Finish, Predict Finish, 6.7226 5.2501 0.1784 0.7577 Evaluation Finish\n",
      "41: Data Load Finish, Predict Finish, 9.6706 9.0249 0.3178 0.6515 Evaluation Finish\n",
      "42: Data Load Finish, Predict Finish, 6.9867 6.261 0.2171 0.7482 Evaluation Finish\n",
      "43: Data Load Finish, Predict Finish, 4.3171 3.3701 0.135 0.8444 Evaluation Finish\n",
      "44: Data Load Finish, Predict Finish, 3.5341 3.1289 0.12 0.8726 Evaluation Finish\n",
      "45: Data Load Finish, Predict Finish, 8.0246 7.3717 0.2577 0.7108 Evaluation Finish\n",
      "46: Data Load Finish, Predict Finish, 6.0186 5.1253 0.2016 0.7831 Evaluation Finish\n",
      "47: Data Load Finish, Predict Finish, 4.7701 3.7011 0.1234 0.8281 Evaluation Finish\n",
      "48: Data Load Finish, Predict Finish, 3.2544 2.9514 0.112 0.8827 Evaluation Finish\n",
      "49: Data Load Finish, Predict Finish, 3.2571 2.9963 0.1112 0.8826 Evaluation Finish\n",
      "50: Data Load Finish, Predict Finish, 4.6568 3.5029 0.1168 0.8322 Evaluation Finish\n",
      "51: Data Load Finish, Predict Finish, 7.4435 6.7455 0.2347 0.7318 Evaluation Finish\n",
      "52: Data Load Finish, Predict Finish, 10.7046 10.2483 0.3638 0.6142 Evaluation Finish\n",
      "53: Data Load Finish, Predict Finish, 13.1446 12.7216 0.4539 0.5263 Evaluation Finish\n",
      "54: Data Load Finish, Predict Finish, 11.0692 10.6294 0.3777 0.6011 Evaluation Finish\n",
      "55: Data Load Finish, Predict Finish, 3.9832 3.2586 0.1288 0.8565 Evaluation Finish\n",
      "56: Data Load Finish, Predict Finish, 11.3486 10.8739 0.4131 0.591 Evaluation Finish\n",
      "57: Data Load Finish, Predict Finish, 4.7033 3.7725 0.1501 0.8305 Evaluation Finish\n",
      "58: Data Load Finish, Predict Finish, 15.9209 15.5761 0.586 0.4263 Evaluation Finish\n",
      "59: Data Load Finish, Predict Finish, 7.3414 6.6111 0.2563 0.7354 Evaluation Finish\n",
      "60: Data Load Finish, Predict Finish, 6.7251 5.9241 0.231 0.7576 Evaluation Finish\n",
      "61: Data Load Finish, Predict Finish, 7.6533 6.9485 0.242 0.7242 Evaluation Finish\n",
      "62: Data Load Finish, "
     ]
    },
    {
     "name": "stderr",
     "output_type": "stream",
     "text": [
      "C:\\Users\\vfgtr554\\anaconda3\\envs\\cctv\\lib\\site-packages\\pandas\\core\\arraylike.py:364: RuntimeWarning: divide by zero encountered in log\n",
      "  result = getattr(ufunc, method)(*inputs, **kwargs)\n",
      "C:\\Users\\vfgtr554\\anaconda3\\envs\\cctv\\lib\\site-packages\\statsmodels\\base\\model.py:606: ConvergenceWarning: Maximum Likelihood optimization failed to converge. Check mle_retvals\n",
      "  ConvergenceWarning)\n"
     ]
    },
    {
     "name": "stdout",
     "output_type": "stream",
     "text": [
      "Predict Finish, 26.7557 26.5689 0.9632 0.0358 Evaluation Finish\n",
      "63: Data Load Finish, Predict Finish, 4.915 4.0224 0.1591 0.8229 Evaluation Finish\n",
      "64: Data Load Finish, Predict Finish, 6.9928 6.1912 0.2404 0.748 Evaluation Finish\n",
      "65: Data Load Finish, Predict Finish, 8.1075 7.1477 0.2498 0.7078 Evaluation Finish\n",
      "66: Data Load Finish, Predict Finish, 3.266 2.9622 0.1055 0.8823 Evaluation Finish\n",
      "67: Data Load Finish, Predict Finish, 7.202 6.42 0.2229 0.7405 Evaluation Finish\n",
      "68: Data Load Finish, Predict Finish, 3.7468 3.1631 0.1097 0.865 Evaluation Finish\n",
      "69: Data Load Finish, Predict Finish, 15.4366 15.1104 0.5686 0.4437 Evaluation Finish\n",
      "70: Data Load Finish, Predict Finish, 24.9848 24.7865 0.9242 0.0996 Evaluation Finish\n",
      "71: Data Load Finish, Predict Finish, 30.2464 30.0256 1.1178 -0.09 Evaluation Finish\n",
      "72: Data Load Finish, Predict Finish, 30.1789 30.0102 1.1163 -0.0876 Evaluation Finish\n",
      "73: Data Load Finish, Predict Finish, 28.3319 28.0643 1.0453 -0.021 Evaluation Finish\n",
      "74: Data Load Finish, Predict Finish, 30.4687 30.3046 1.127 -0.098 Evaluation Finish\n",
      "75: Data Load Finish, Predict Finish, 15.5725 15.249 0.5737 0.4388 Evaluation Finish\n",
      "76: Data Load Finish, Predict Finish, 9.0859 8.4982 0.3257 0.6726 Evaluation Finish\n",
      "77: Data Load Finish, Predict Finish, 3.8079 3.1105 0.106 0.8628 Evaluation Finish\n",
      "78: Data Load Finish, Predict Finish, 3.2267 2.9318 0.1072 0.8837 Evaluation Finish\n",
      "79: Data Load Finish, Predict Finish, 4.8847 3.504 0.119 0.824 Evaluation Finish\n",
      "80: Data Load Finish, Predict Finish, 3.4326 2.8213 0.1014 0.8763 Evaluation Finish\n",
      "81: Data Load Finish, Predict Finish, 11.0939 10.632 0.3775 0.6002 Evaluation Finish\n",
      "82: Data Load Finish, Predict Finish, 9.1482 8.5592 0.328 0.6703 Evaluation Finish\n",
      "83: Data Load Finish, Predict Finish, 3.9215 3.2373 0.1105 0.8587 Evaluation Finish\n",
      "84: Data Load Finish, Predict Finish, 13.0791 12.685 0.4795 0.5287 Evaluation Finish\n",
      "85: Data Load Finish, Predict Finish, 20.5197 20.2467 0.7577 0.2605 Evaluation Finish\n",
      "86: Data Load Finish, Predict Finish, 7.127 6.3024 0.245 0.7432 Evaluation Finish\n",
      "87: Data Load Finish, Predict Finish, 3.5389 3.0584 0.1065 0.8725 Evaluation Finish\n",
      "88: Data Load Finish, Predict Finish, 3.644 3.1543 0.1224 0.8687 Evaluation Finish\n",
      "89: Data Load Finish, "
     ]
    },
    {
     "name": "stderr",
     "output_type": "stream",
     "text": [
      "C:\\Users\\vfgtr554\\anaconda3\\envs\\cctv\\lib\\site-packages\\statsmodels\\base\\model.py:606: ConvergenceWarning: Maximum Likelihood optimization failed to converge. Check mle_retvals\n",
      "  ConvergenceWarning)\n"
     ]
    },
    {
     "name": "stdout",
     "output_type": "stream",
     "text": [
      "Predict Finish, 3.1968 2.9304 0.1094 0.8848 Evaluation Finish\n",
      "90: Data Load Finish, Predict Finish, 9.7685 9.2387 0.3529 0.648 Evaluation Finish\n",
      "91: Data Load Finish, Predict Finish, 11.0814 10.6285 0.4038 0.6007 Evaluation Finish\n",
      "92: Data Load Finish, Predict Finish, 3.4442 3.0168 0.1165 0.8759 Evaluation Finish\n",
      "93: Data Load Finish, Predict Finish, 3.7376 3.1435 0.1087 0.8653 Evaluation Finish\n",
      "94: Data Load Finish, Predict Finish, 3.5665 3.0271 0.117 0.8715 Evaluation Finish\n",
      "95: Data Load Finish, Predict Finish, 5.2384 4.156 0.1394 0.8112 Evaluation Finish\n",
      "96: Data Load Finish, Predict Finish, 4.8974 4.0092 0.1584 0.8235 Evaluation Finish\n",
      "97: Data Load Finish, "
     ]
    },
    {
     "name": "stderr",
     "output_type": "stream",
     "text": [
      "C:\\Users\\vfgtr554\\anaconda3\\envs\\cctv\\lib\\site-packages\\statsmodels\\base\\model.py:606: ConvergenceWarning: Maximum Likelihood optimization failed to converge. Check mle_retvals\n",
      "  ConvergenceWarning)\n"
     ]
    },
    {
     "name": "stdout",
     "output_type": "stream",
     "text": [
      "Predict Finish, 5.6167 4.7654 0.1866 0.7976 Evaluation Finish\n",
      "98: Data Load Finish, Predict Finish, 4.5977 3.8403 0.1359 0.8343 Evaluation Finish\n",
      "99: Data Load Finish, Predict Finish, 6.594 5.6801 0.2204 0.7624 Evaluation Finish\n",
      "100: Data Load Finish, Predict Finish, 4.9258 3.6596 0.1215 0.8225 Evaluation Finish\n",
      "101: Data Load Finish, Predict Finish, 8.1955 7.5872 0.2919 0.7047 Evaluation Finish\n",
      "102: Data Load Finish, Predict Finish, 10.1835 9.694 0.3433 0.633 Evaluation Finish\n",
      "103: Data Load Finish, "
     ]
    },
    {
     "name": "stderr",
     "output_type": "stream",
     "text": [
      "C:\\Users\\vfgtr554\\anaconda3\\envs\\cctv\\lib\\site-packages\\statsmodels\\base\\model.py:606: ConvergenceWarning: Maximum Likelihood optimization failed to converge. Check mle_retvals\n",
      "  ConvergenceWarning)\n"
     ]
    },
    {
     "name": "stdout",
     "output_type": "stream",
     "text": [
      "Predict Finish, 3.5383 3.136 0.1202 0.8725 Evaluation Finish\n",
      "104: Data Load Finish, Predict Finish, 3.1008 2.8643 0.1038 0.8883 Evaluation Finish\n",
      "105: "
     ]
    },
    {
     "name": "stderr",
     "output_type": "stream",
     "text": [
      "C:\\Users\\vfgtr554\\anaconda3\\envs\\cctv\\lib\\site-packages\\pandas\\core\\arraylike.py:364: RuntimeWarning: divide by zero encountered in log\n",
      "  result = getattr(ufunc, method)(*inputs, **kwargs)\n"
     ]
    },
    {
     "name": "stdout",
     "output_type": "stream",
     "text": [
      "Data Load Finish, "
     ]
    },
    {
     "name": "stderr",
     "output_type": "stream",
     "text": [
      "C:\\Users\\vfgtr554\\anaconda3\\envs\\cctv\\lib\\site-packages\\statsmodels\\base\\model.py:606: ConvergenceWarning: Maximum Likelihood optimization failed to converge. Check mle_retvals\n",
      "  ConvergenceWarning)\n",
      "C:\\Users\\vfgtr554\\anaconda3\\envs\\cctv\\lib\\site-packages\\pandas\\core\\arraylike.py:364: RuntimeWarning: divide by zero encountered in log\n",
      "  result = getattr(ufunc, method)(*inputs, **kwargs)\n"
     ]
    },
    {
     "name": "stdout",
     "output_type": "stream",
     "text": [
      "Predict Finish, 26.7557 26.5689 0.9632 0.0358 Evaluation Finish\n",
      "106: Data Load Finish, "
     ]
    },
    {
     "name": "stderr",
     "output_type": "stream",
     "text": [
      "C:\\Users\\vfgtr554\\anaconda3\\envs\\cctv\\lib\\site-packages\\statsmodels\\base\\model.py:606: ConvergenceWarning: Maximum Likelihood optimization failed to converge. Check mle_retvals\n",
      "  ConvergenceWarning)\n"
     ]
    },
    {
     "name": "stdout",
     "output_type": "stream",
     "text": [
      "Predict Finish, 26.7557 26.5689 0.9632 0.0358 Evaluation Finish\n",
      "107: Data Load Finish, Predict Finish, 6.1352 5.3207 0.2083 0.7789 Evaluation Finish\n",
      "108: Data Load Finish, "
     ]
    },
    {
     "name": "stderr",
     "output_type": "stream",
     "text": [
      "C:\\Users\\vfgtr554\\anaconda3\\envs\\cctv\\lib\\site-packages\\pandas\\core\\arraylike.py:364: RuntimeWarning: divide by zero encountered in log\n",
      "  result = getattr(ufunc, method)(*inputs, **kwargs)\n",
      "C:\\Users\\vfgtr554\\anaconda3\\envs\\cctv\\lib\\site-packages\\statsmodels\\base\\model.py:606: ConvergenceWarning: Maximum Likelihood optimization failed to converge. Check mle_retvals\n",
      "  ConvergenceWarning)\n"
     ]
    },
    {
     "name": "stdout",
     "output_type": "stream",
     "text": [
      "Predict Finish, 26.7557 26.5689 0.9632 0.0358 Evaluation Finish\n",
      "109: Data Load Finish, Predict Finish, 5.3997 4.3878 0.1483 0.8054 Evaluation Finish\n",
      "110: Data Load Finish, Predict Finish, 3.1903 2.9104 0.1074 0.885 Evaluation Finish\n",
      "111: Data Load Finish, Predict Finish, 3.9012 3.0774 0.1108 0.8594 Evaluation Finish\n",
      "112: Data Load Finish, Predict Finish, 3.8133 3.0647 0.1047 0.8626 Evaluation Finish\n",
      "113: Data Load Finish, Predict Finish, 5.8875 4.9665 0.1693 0.7878 Evaluation Finish\n",
      "114: Data Load Finish, Predict Finish, 3.534 3.0433 0.1057 0.8726 Evaluation Finish\n",
      "115: Data Load Finish, Predict Finish, 4.4368 3.4439 0.115 0.8401 Evaluation Finish\n",
      "116: Data Load Finish, Predict Finish, 5.0608 4.1282 0.1639 0.8176 Evaluation Finish\n",
      "117: Data Load Finish, "
     ]
    },
    {
     "name": "stderr",
     "output_type": "stream",
     "text": [
      "C:\\Users\\vfgtr554\\anaconda3\\envs\\cctv\\lib\\site-packages\\pandas\\core\\arraylike.py:364: RuntimeWarning: divide by zero encountered in log\n",
      "  result = getattr(ufunc, method)(*inputs, **kwargs)\n",
      "C:\\Users\\vfgtr554\\anaconda3\\envs\\cctv\\lib\\site-packages\\statsmodels\\base\\model.py:606: ConvergenceWarning: Maximum Likelihood optimization failed to converge. Check mle_retvals\n",
      "  ConvergenceWarning)\n"
     ]
    },
    {
     "name": "stdout",
     "output_type": "stream",
     "text": [
      "Predict Finish, 26.7557 26.5689 0.9632 0.0358 Evaluation Finish\n",
      "118: Data Load Finish, Predict Finish, 31.1211 30.9436 1.1508 -0.1215 Evaluation Finish\n",
      "119: Data Load Finish, Predict Finish, 6.5044 5.7132 0.2229 0.7656 Evaluation Finish\n",
      "120: Data Load Finish, Predict Finish, 3.4708 3.0345 0.1063 0.8749 Evaluation Finish\n",
      "121: Data Load Finish, Predict Finish, 5.7385 4.771 0.162 0.7932 Evaluation Finish\n",
      "122: Data Load Finish, Predict Finish, 7.2064 6.0985 0.211 0.7403 Evaluation Finish\n",
      "123: Data Load Finish, Predict Finish, 7.3998 6.6791 0.2324 0.7333 Evaluation Finish\n",
      "124: Data Load Finish, Predict Finish, 9.4853 8.9451 0.3155 0.6582 Evaluation Finish\n",
      "125: Data Load Finish, Predict Finish, 17.0956 16.7714 0.63 0.3839 Evaluation Finish\n",
      "126: Data Load Finish, Predict Finish, 6.7064 5.8708 0.2026 0.7583 Evaluation Finish\n",
      "127: Data Load Finish, Predict Finish, 8.2137 7.5414 0.2642 0.704 Evaluation Finish\n",
      "128: Data Load Finish, Predict Finish, 7.5717 6.8554 0.2388 0.7271 Evaluation Finish\n",
      "129: Data Load Finish, Predict Finish, 3.7561 3.0988 0.106 0.8646 Evaluation Finish\n",
      "130: Data Load Finish, Predict Finish, 3.3563 2.9152 0.1054 0.879 Evaluation Finish\n",
      "131: "
     ]
    },
    {
     "name": "stderr",
     "output_type": "stream",
     "text": [
      "C:\\Users\\vfgtr554\\anaconda3\\envs\\cctv\\lib\\site-packages\\pandas\\core\\arraylike.py:364: RuntimeWarning: divide by zero encountered in log\n",
      "  result = getattr(ufunc, method)(*inputs, **kwargs)\n"
     ]
    },
    {
     "name": "stdout",
     "output_type": "stream",
     "text": [
      "Data Load Finish, "
     ]
    },
    {
     "name": "stderr",
     "output_type": "stream",
     "text": [
      "C:\\Users\\vfgtr554\\anaconda3\\envs\\cctv\\lib\\site-packages\\statsmodels\\base\\model.py:606: ConvergenceWarning: Maximum Likelihood optimization failed to converge. Check mle_retvals\n",
      "  ConvergenceWarning)\n"
     ]
    },
    {
     "name": "stdout",
     "output_type": "stream",
     "text": [
      "Predict Finish, 26.7557 26.5689 0.9632 0.0358 Evaluation Finish\n",
      "132: Data Load Finish, Predict Finish, 5.8654 4.9405 0.1684 0.7886 Evaluation Finish\n",
      "133: Data Load Finish, Predict Finish, 3.9087 3.1072 0.1055 0.8591 Evaluation Finish\n",
      "134: Data Load Finish, Predict Finish, 9.6375 9.1072 0.3216 0.6527 Evaluation Finish\n",
      "135: Data Load Finish, Predict Finish, 5.0104 4.2033 0.1441 0.8194 Evaluation Finish\n",
      "136: Data Load Finish, Predict Finish, 8.9467 8.3569 0.2941 0.6776 Evaluation Finish\n",
      "137: Data Load Finish, Predict Finish, 5.4167 4.4028 0.1486 0.8048 Evaluation Finish\n",
      "138: Data Load Finish, Predict Finish, 4.8577 3.8625 0.1297 0.8249 Evaluation Finish\n",
      "139: Data Load Finish, Predict Finish, 4.42 3.5151 0.1182 0.8407 Evaluation Finish\n",
      "140: Data Load Finish, Predict Finish, 3.5794 2.9861 0.1147 0.871 Evaluation Finish\n",
      "141: Data Load Finish, Predict Finish, 4.6742 3.554 0.1181 0.8316 Evaluation Finish\n",
      "142: "
     ]
    },
    {
     "name": "stderr",
     "output_type": "stream",
     "text": [
      "C:\\Users\\vfgtr554\\anaconda3\\envs\\cctv\\lib\\site-packages\\pandas\\core\\arraylike.py:364: RuntimeWarning: divide by zero encountered in log\n",
      "  result = getattr(ufunc, method)(*inputs, **kwargs)\n"
     ]
    },
    {
     "name": "stdout",
     "output_type": "stream",
     "text": [
      "Data Load Finish, "
     ]
    },
    {
     "name": "stderr",
     "output_type": "stream",
     "text": [
      "C:\\Users\\vfgtr554\\anaconda3\\envs\\cctv\\lib\\site-packages\\statsmodels\\base\\model.py:606: ConvergenceWarning: Maximum Likelihood optimization failed to converge. Check mle_retvals\n",
      "  ConvergenceWarning)\n"
     ]
    },
    {
     "name": "stdout",
     "output_type": "stream",
     "text": [
      "Predict Finish, 26.7557 26.5689 0.9632 0.0358 Evaluation Finish\n",
      "143: Data Load Finish, Predict Finish, 4.9536 3.8513 0.1285 0.8215 Evaluation Finish\n",
      "144: Data Load Finish, Predict Finish, 16.2288 15.9119 0.5982 0.4152 Evaluation Finish\n",
      "145: Data Load Finish, Predict Finish, 32.1023 31.9461 1.1874 -0.1569 Evaluation Finish\n",
      "146: Data Load Finish, Predict Finish, 3.5543 3.0856 0.1193 0.8719 Evaluation Finish\n",
      "147: Data Load Finish, Predict Finish, 4.2761 3.3227 0.1326 0.8459 Evaluation Finish\n",
      "148: Data Load Finish, Predict Finish, 9.1649 8.6041 0.303 0.6697 Evaluation Finish\n",
      "149: Data Load Finish, Predict Finish, 4.7996 4.0804 0.1417 0.827 Evaluation Finish\n",
      "150: Data Load Finish, Predict Finish, 5.6375 4.7283 0.1612 0.7968 Evaluation Finish\n",
      "151: Data Load Finish, Predict Finish, 4.7889 3.838 0.1295 0.8274 Evaluation Finish\n",
      "152: Data Load Finish, Predict Finish, 5.9737 5.0345 0.1716 0.7847 Evaluation Finish\n",
      "153: Data Load Finish, Predict Finish, 4.075 3.0862 0.107 0.8531 Evaluation Finish\n",
      "154: Data Load Finish, Predict Finish, 3.6396 3.1003 0.1078 0.8688 Evaluation Finish\n",
      "155: Data Load Finish, Predict Finish, 3.1048 2.8619 0.1046 0.8881 Evaluation Finish\n",
      "156: Data Load Finish, Predict Finish, 4.1567 3.3202 0.1119 0.8502 Evaluation Finish\n",
      "157: Data Load Finish, Predict Finish, 5.2595 4.3342 0.1478 0.8105 Evaluation Finish\n",
      "158: Data Load Finish, Predict Finish, 6.3195 5.4258 0.1859 0.7723 Evaluation Finish\n",
      "159: Data Load Finish, Predict Finish, 7.8267 7.1751 0.2511 0.7179 Evaluation Finish\n",
      "160: Data Load Finish, Predict Finish, 7.1872 6.2879 0.2179 0.741 Evaluation Finish\n",
      "161: Data Load Finish, Predict Finish, 5.8692 4.6869 0.1584 0.7885 Evaluation Finish\n",
      "162: Data Load Finish, Predict Finish, 6.8919 5.9497 0.2054 0.7516 Evaluation Finish\n",
      "163: Data Load Finish, Predict Finish, 3.7746 3.181 0.1097 0.864 Evaluation Finish\n",
      "164: Data Load Finish, Predict Finish, 3.1894 2.9125 0.1076 0.8851 Evaluation Finish\n",
      "165: Data Load Finish, Predict Finish, 3.2072 2.9415 0.1063 0.8844 Evaluation Finish\n",
      "166: Data Load Finish, Predict Finish, 9.2257 8.6534 0.3314 0.6675 Evaluation Finish\n",
      "167: Data Load Finish, Predict Finish, 11.6983 11.2491 0.4268 0.5784 Evaluation Finish\n",
      "168: Data Load Finish, Predict Finish, 25.7877 25.5852 0.9537 0.0707 Evaluation Finish\n",
      "169: Data Load Finish, Predict Finish, 10.3794 9.8075 0.3741 0.626 Evaluation Finish\n",
      "170: Data Load Finish, Predict Finish, 4.3715 3.5373 0.1198 0.8425 Evaluation Finish\n",
      "171: Data Load Finish, Predict Finish, 5.853 4.9057 0.1935 0.7891 Evaluation Finish\n",
      "172: Data Load Finish, Predict Finish, 4.084 3.3647 0.1154 0.8528 Evaluation Finish\n",
      "173: Data Load Finish, Predict Finish, 4.6723 3.7983 0.1479 0.8316 Evaluation Finish\n",
      "174: Data Load Finish, Predict Finish, 3.5725 2.9092 0.1146 0.8713 Evaluation Finish\n",
      "175: Data Load Finish, Predict Finish, 8.266 7.6898 0.2953 0.7021 Evaluation Finish\n",
      "176: Data Load Finish, Predict Finish, 8.7468 8.139 0.286 0.6848 Evaluation Finish\n",
      "177: Data Load Finish, Predict Finish, 18.0498 17.7766 0.6664 0.3495 Evaluation Finish\n",
      "178: Data Load Finish, Predict Finish, 3.7098 3.109 0.107 0.8663 Evaluation Finish\n",
      "179: Data Load Finish, Predict Finish, 3.6515 3.0643 0.1199 0.8684 Evaluation Finish\n",
      "180: Data Load Finish, Predict Finish, 18.5081 18.1892 0.6812 0.333 Evaluation Finish\n",
      "181: Data Load Finish, Predict Finish, 5.238 4.2098 0.1416 0.8112 Evaluation Finish\n",
      "182: Data Load Finish, Predict Finish, 4.8752 3.7653 0.1254 0.8243 Evaluation Finish\n",
      "183: Data Load Finish, Predict Finish, 4.7705 3.6599 0.1217 0.8281 Evaluation Finish\n",
      "184: Data Load Finish, Predict Finish, 3.5457 3.028 0.1051 0.8722 Evaluation Finish\n",
      "185: Data Load Finish, Predict Finish, 5.6101 4.4649 0.1507 0.7978 Evaluation Finish\n",
      "186: Data Load Finish, Predict Finish, 5.8413 4.8828 0.1674 0.7895 Evaluation Finish\n",
      "187: Data Load Finish, Predict Finish, 4.3723 3.5041 0.1182 0.8424 Evaluation Finish\n",
      "188: Data Load Finish, Predict Finish, 3.1256 2.8735 0.1051 0.8874 Evaluation Finish\n",
      "189: Data Load Finish, Predict Finish, 3.1486 2.8972 0.1058 0.8865 Evaluation Finish\n",
      "190: Data Load Finish, Predict Finish, 5.6663 4.7024 0.1596 0.7958 Evaluation Finish\n",
      "191: Data Load Finish, Predict Finish, 3.6822 3.1017 0.107 0.8673 Evaluation Finish\n",
      "192: Data Load Finish, Predict Finish, 5.9542 5.0307 0.1716 0.7854 Evaluation Finish\n",
      "193: Data Load Finish, Predict Finish, 14.8134 14.4752 0.5189 0.4662 Evaluation Finish\n",
      "194: Data Load Finish, Predict Finish, 4.3225 3.525 0.1198 0.8442 Evaluation Finish\n",
      "195: Data Load Finish, Predict Finish, 4.8665 3.7779 0.126 0.8246 Evaluation Finish\n",
      "196: Data Load Finish, Predict Finish, 6.4471 5.6214 0.1934 0.7677 Evaluation Finish\n",
      "197: Data Load Finish, Predict Finish, 5.145 4.0663 0.1362 0.8146 Evaluation Finish\n",
      "198: Data Load Finish, Predict Finish, 3.8223 3.0914 0.1052 0.8623 Evaluation Finish\n",
      "199: Data Load Finish, Predict Finish, 7.3239 6.5956 0.2292 0.7361 Evaluation Finish\n",
      "200: Data Load Finish, Predict Finish, 3.485 3.0348 0.1059 0.8744 Evaluation Finish\n",
      "201: Data Load Finish, "
     ]
    },
    {
     "name": "stderr",
     "output_type": "stream",
     "text": [
      "C:\\Users\\vfgtr554\\anaconda3\\envs\\cctv\\lib\\site-packages\\pandas\\core\\arraylike.py:364: RuntimeWarning: divide by zero encountered in log\n",
      "  result = getattr(ufunc, method)(*inputs, **kwargs)\n",
      "C:\\Users\\vfgtr554\\anaconda3\\envs\\cctv\\lib\\site-packages\\statsmodels\\base\\model.py:606: ConvergenceWarning: Maximum Likelihood optimization failed to converge. Check mle_retvals\n",
      "  ConvergenceWarning)\n"
     ]
    },
    {
     "name": "stdout",
     "output_type": "stream",
     "text": [
      "Predict Finish, 26.7557 26.5689 0.9632 0.0358 Evaluation Finish\n",
      "202: Data Load Finish, Predict Finish, 4.6361 3.5249 0.1176 0.8329 Evaluation Finish\n",
      "203: Data Load Finish, Predict Finish, 9.8843 9.2229 0.3248 0.6438 Evaluation Finish\n",
      "204: Data Load Finish, Predict Finish, 5.5056 4.5097 0.1525 0.8016 Evaluation Finish\n",
      "205: Data Load Finish, Predict Finish, 6.6495 5.8204 0.201 0.7604 Evaluation Finish\n",
      "206: Data Load Finish, Predict Finish, 9.9813 9.467 0.3349 0.6403 Evaluation Finish\n",
      "207: Data Load Finish, Predict Finish, 5.6185 4.6338 0.157 0.7975 Evaluation Finish\n",
      "208: Data Load Finish, Predict Finish, 9.9518 9.4591 0.3349 0.6414 Evaluation Finish\n",
      "209: Data Load Finish, Predict Finish, 6.3581 5.5247 0.2158 0.7709 Evaluation Finish\n",
      "210: Data Load Finish, Predict Finish, 3.4213 3.0066 0.1053 0.8767 Evaluation Finish\n",
      "211: Data Load Finish, Predict Finish, 4.956 4.035 0.1602 0.8214 Evaluation Finish\n",
      "212: Data Load Finish, Predict Finish, 3.2697 2.9664 0.1075 0.8822 Evaluation Finish\n",
      "213: Data Load Finish, Predict Finish, 14.898 14.5315 0.5472 0.4631 Evaluation Finish\n",
      "214: Data Load Finish, Predict Finish, 11.8068 11.3791 0.405 0.5745 Evaluation Finish\n",
      "215: Data Load Finish, Predict Finish, 7.0068 6.2547 0.2166 0.7475 Evaluation Finish\n",
      "216: Data Load Finish, Predict Finish, 3.6195 3.053 0.1053 0.8696 Evaluation Finish\n",
      "217: Data Load Finish, Predict Finish, 14.5536 14.2065 0.5354 0.4755 Evaluation Finish\n",
      "218: Data Load Finish, Predict Finish, 7.3743 6.6473 0.2313 0.7342 Evaluation Finish\n",
      "219: Data Load Finish, Predict Finish, 5.5409 4.556 0.1807 0.8003 Evaluation Finish\n",
      "220: Data Load Finish, Predict Finish, 7.6404 6.894 0.2667 0.7247 Evaluation Finish\n",
      "221: Data Load Finish, Predict Finish, 3.4327 2.9869 0.1118 0.8763 Evaluation Finish\n",
      "222: Data Load Finish, Predict Finish, 4.1572 3.3248 0.112 0.8502 Evaluation Finish\n",
      "223: Data Load Finish, Predict Finish, 3.5892 2.9854 0.1152 0.8707 Evaluation Finish\n",
      "224: Data Load Finish, Predict Finish, 3.5279 3.0635 0.1184 0.8729 Evaluation Finish\n",
      "225: Data Load Finish, Predict Finish, 3.4381 3.0128 0.1146 0.8761 Evaluation Finish\n",
      "226: Data Load Finish, Predict Finish, 3.708 2.9853 0.1078 0.8664 Evaluation Finish\n",
      "227: Data Load Finish, Predict Finish, 6.2335 5.2547 0.1799 0.7754 Evaluation Finish\n",
      "228: Data Load Finish, Predict Finish, 6.5693 5.6158 0.193 0.7633 Evaluation Finish\n",
      "229: Data Load Finish, Predict Finish, 14.0072 13.6288 0.5144 0.4952 Evaluation Finish\n",
      "230: Data Load Finish, Predict Finish, 3.8762 3.1646 0.1077 0.8603 Evaluation Finish\n",
      "231: Data Load Finish, Predict Finish, 3.4178 3.0446 0.1077 0.8768 Evaluation Finish\n",
      "232: Data Load Finish, Predict Finish, 8.2279 7.5977 0.266 0.7035 Evaluation Finish\n",
      "233: Data Load Finish, Predict Finish, 3.5951 3.023 0.104 0.8704 Evaluation Finish\n",
      "234: Data Load Finish, Predict Finish, 3.1881 2.9276 0.1052 0.8851 Evaluation Finish\n",
      "235: Data Load Finish, Predict Finish, 16.008 15.6923 0.59 0.4231 Evaluation Finish\n",
      "236: Data Load Finish, Predict Finish, 5.1424 4.0484 0.1355 0.8147 Evaluation Finish\n",
      "237: Data Load Finish, Predict Finish, 4.7635 3.9188 0.1343 0.8283 Evaluation Finish\n",
      "238: Data Load Finish, Predict Finish, 5.3294 4.3263 0.146 0.8079 Evaluation Finish\n",
      "239: Data Load Finish, Predict Finish, 3.7755 3.1561 0.1082 0.8639 Evaluation Finish\n",
      "240: Data Load Finish, Predict Finish, 3.2994 2.9747 0.1056 0.8811 Evaluation Finish\n",
      "241: Data Load Finish, "
     ]
    },
    {
     "name": "stderr",
     "output_type": "stream",
     "text": [
      "C:\\Users\\vfgtr554\\anaconda3\\envs\\cctv\\lib\\site-packages\\statsmodels\\base\\model.py:606: ConvergenceWarning: Maximum Likelihood optimization failed to converge. Check mle_retvals\n",
      "  ConvergenceWarning)\n"
     ]
    },
    {
     "name": "stdout",
     "output_type": "stream",
     "text": [
      "Predict Finish, 3.8207 3.1564 0.1078 0.8623 Evaluation Finish\n",
      "242: Data Load Finish, Predict Finish, 4.8424 3.7587 0.1254 0.8255 Evaluation Finish\n",
      "243: Data Load Finish, Predict Finish, 20.8524 20.6025 0.7704 0.2485 Evaluation Finish\n",
      "244: Data Load Finish, Predict Finish, 9.7987 9.3046 0.3292 0.6469 Evaluation Finish\n",
      "245: Data Load Finish, Predict Finish, 10.8745 10.4361 0.3717 0.6081 Evaluation Finish\n",
      "246: Data Load Finish, Predict Finish, 9.7622 8.4377 0.2982 0.6482 Evaluation Finish\n",
      "247: Data Load Finish, Predict Finish, 8.6673 8.0366 0.2829 0.6877 Evaluation Finish\n",
      "248: Data Load Finish, Predict Finish, 11.6338 11.2041 0.3986 0.5807 Evaluation Finish\n",
      "249: Data Load Finish, Predict Finish, 9.2057 8.6656 0.3055 0.6683 Evaluation Finish\n",
      "250: Data Load Finish, Predict Finish, 9.1118 8.5572 0.3014 0.6716 Evaluation Finish\n",
      "251: Data Load Finish, Predict Finish, 11.0863 10.6187 0.3772 0.6005 Evaluation Finish\n",
      "252: Data Load Finish, "
     ]
    },
    {
     "name": "stderr",
     "output_type": "stream",
     "text": [
      "C:\\Users\\vfgtr554\\anaconda3\\envs\\cctv\\lib\\site-packages\\statsmodels\\base\\model.py:606: ConvergenceWarning: Maximum Likelihood optimization failed to converge. Check mle_retvals\n",
      "  ConvergenceWarning)\n"
     ]
    },
    {
     "name": "stdout",
     "output_type": "stream",
     "text": [
      "Predict Finish, 3.2621 3.0046 0.1124 0.8824 Evaluation Finish\n",
      "253: Data Load Finish, Predict Finish, 7.5479 6.8561 0.2387 0.728 Evaluation Finish\n",
      "254: Data Load Finish, Predict Finish, 4.6435 3.6933 0.1473 0.8327 Evaluation Finish\n",
      "255: Data Load Finish, Predict Finish, 8.4981 7.8904 0.2768 0.6938 Evaluation Finish\n",
      "256: Data Load Finish, Predict Finish, 6.1333 5.2028 0.1778 0.779 Evaluation Finish\n",
      "257: Data Load Finish, Predict Finish, 6.6455 5.8441 0.2281 0.7605 Evaluation Finish\n",
      "258: Data Load Finish, Predict Finish, 4.2237 3.4983 0.1203 0.8478 Evaluation Finish\n",
      "259: Data Load Finish, Predict Finish, 5.0941 4.1942 0.1662 0.8164 Evaluation Finish\n",
      "260: Data Load Finish, Predict Finish, 4.9087 3.9683 0.1578 0.8231 Evaluation Finish\n",
      "261: Data Load Finish, Predict Finish, 3.7637 3.1363 0.1224 0.8644 Evaluation Finish\n",
      "262: Data Load Finish, Predict Finish, 4.2648 3.3272 0.1332 0.8463 Evaluation Finish\n",
      "263: Data Load Finish, Predict Finish, 3.3735 3.0127 0.1069 0.8784 Evaluation Finish\n",
      "264: Data Load Finish, Predict Finish, 5.745 4.828 0.1644 0.793 Evaluation Finish\n",
      "265: Data Load Finish, Predict Finish, 5.501 4.4815 0.1514 0.8018 Evaluation Finish\n",
      "266: Data Load Finish, "
     ]
    },
    {
     "name": "stderr",
     "output_type": "stream",
     "text": [
      "C:\\Users\\vfgtr554\\anaconda3\\envs\\cctv\\lib\\site-packages\\pandas\\core\\arraylike.py:364: RuntimeWarning: divide by zero encountered in log\n",
      "  result = getattr(ufunc, method)(*inputs, **kwargs)\n",
      "C:\\Users\\vfgtr554\\anaconda3\\envs\\cctv\\lib\\site-packages\\statsmodels\\base\\model.py:606: ConvergenceWarning: Maximum Likelihood optimization failed to converge. Check mle_retvals\n",
      "  ConvergenceWarning)\n"
     ]
    },
    {
     "name": "stdout",
     "output_type": "stream",
     "text": [
      "Predict Finish, 26.7557 26.5689 0.9632 0.0358 Evaluation Finish\n",
      "267: Data Load Finish, Predict Finish, 3.9378 3.2941 0.1146 0.8581 Evaluation Finish\n",
      "268: Data Load Finish, Predict Finish, 5.3924 4.3646 0.1471 0.8057 Evaluation Finish\n",
      "269: Data Load Finish, Predict Finish, 3.8903 3.1876 0.1239 0.8598 Evaluation Finish\n",
      "270: Data Load Finish, Predict Finish, 10.9236 10.3739 0.368 0.6063 Evaluation Finish\n",
      "271: Data Load Finish, Predict Finish, 3.5124 2.9107 0.1117 0.8734 Evaluation Finish\n",
      "272: Data Load Finish, Predict Finish, 3.9057 3.1566 0.1244 0.8593 Evaluation Finish\n",
      "273: Data Load Finish, "
     ]
    },
    {
     "name": "stderr",
     "output_type": "stream",
     "text": [
      "C:\\Users\\vfgtr554\\anaconda3\\envs\\cctv\\lib\\site-packages\\pandas\\core\\arraylike.py:364: RuntimeWarning: divide by zero encountered in log\n",
      "  result = getattr(ufunc, method)(*inputs, **kwargs)\n",
      "C:\\Users\\vfgtr554\\anaconda3\\envs\\cctv\\lib\\site-packages\\statsmodels\\base\\model.py:606: ConvergenceWarning: Maximum Likelihood optimization failed to converge. Check mle_retvals\n",
      "  ConvergenceWarning)\n"
     ]
    },
    {
     "name": "stdout",
     "output_type": "stream",
     "text": [
      "Predict Finish, 26.7557 26.5689 0.9632 0.0358 Evaluation Finish\n",
      "274: Data Load Finish, Predict Finish, 7.5657 6.7914 0.2371 0.7274 Evaluation Finish\n",
      "275: Data Load Finish, Predict Finish, 8.7838 8.0848 0.2835 0.6835 Evaluation Finish\n",
      "276: Data Load Finish, Predict Finish, 7.4517 6.6752 0.233 0.7315 Evaluation Finish\n",
      "277: Data Load Finish, Predict Finish, 8.8382 8.2105 0.2884 0.6815 Evaluation Finish\n",
      "278: Data Load Finish, Predict Finish, 5.0895 3.9852 0.1332 0.8166 Evaluation Finish\n",
      "279: Data Load Finish, Predict Finish, 5.8966 4.9819 0.1699 0.7875 Evaluation Finish\n",
      "280: Data Load Finish, Predict Finish, 4.8419 3.7688 0.1261 0.8255 Evaluation Finish\n",
      "281: Data Load Finish, Predict Finish, 5.1527 4.1281 0.1389 0.8143 Evaluation Finish\n",
      "282: Data Load Finish, Predict Finish, 4.9406 3.8827 0.13 0.822 Evaluation Finish\n",
      "283: Data Load Finish, Predict Finish, 5.1207 4.1847 0.1618 0.8155 Evaluation Finish\n",
      "284: Data Load Finish, Predict Finish, 4.429 3.4427 0.138 0.8404 Evaluation Finish\n",
      "285: Data Load Finish, Predict Finish, 6.9186 5.9025 0.205 0.7507 Evaluation Finish\n",
      "286: Data Load Finish, Predict Finish, 3.491 3.0985 0.1187 0.8742 Evaluation Finish\n",
      "287: Data Load Finish, Predict Finish, 6.6093 5.8288 0.2019 0.7618 Evaluation Finish\n",
      "288: Data Load Finish, Predict Finish, 3.4008 3.0035 0.1053 0.8774 Evaluation Finish\n",
      "289: Data Load Finish, Predict Finish, 8.4876 7.8692 0.2759 0.6941 Evaluation Finish\n",
      "290: Data Load Finish, Predict Finish, 6.2818 5.4333 0.2119 0.7736 Evaluation Finish\n",
      "291: Data Load Finish, Predict Finish, 3.2231 2.9073 0.105 0.8838 Evaluation Finish\n",
      "292: Data Load Finish, Predict Finish, 5.0059 4.0705 0.1378 0.8196 Evaluation Finish\n",
      "293: Data Load Finish, Predict Finish, 5.2102 4.0605 0.1358 0.8122 Evaluation Finish\n",
      "294: Data Load Finish, Predict Finish, 4.9664 3.9983 0.1349 0.821 Evaluation Finish\n",
      "295: Data Load Finish, Predict Finish, 7.176 6.4229 0.223 0.7414 Evaluation Finish\n",
      "296: Data Load Finish, Predict Finish, 4.4055 3.5065 0.118 0.8412 Evaluation Finish\n",
      "297: Data Load Finish, Predict Finish, 4.8998 3.7336 0.1239 0.8234 Evaluation Finish\n",
      "298: Data Load Finish, Predict Finish, 8.6259 7.9054 0.277 0.6891 Evaluation Finish\n",
      "299: Data Load Finish, Predict Finish, 3.8253 3.1213 0.1234 0.8621 Evaluation Finish\n",
      "300: Data Load Finish, Predict Finish, 7.4422 6.7321 0.2601 0.7318 Evaluation Finish\n",
      "301: Data Load Finish, Predict Finish, 9.8415 9.3227 0.3294 0.6453 Evaluation Finish\n",
      "302: Data Load Finish, Predict Finish, 11.6633 11.2272 0.3994 0.5797 Evaluation Finish\n",
      "303: Data Load Finish, Predict Finish, 5.7213 4.7731 0.1886 0.7938 Evaluation Finish\n",
      "304: Data Load Finish, Predict Finish, 5.765 4.8024 0.1638 0.7922 Evaluation Finish\n",
      "305: Data Load Finish, Predict Finish, 3.7097 3.1088 0.1068 0.8663 Evaluation Finish\n",
      "306: Data Load Finish, Predict Finish, 9.7652 9.2339 0.3261 0.6481 Evaluation Finish\n",
      "307: Data Load Finish, Predict Finish, 6.8028 5.9761 0.2061 0.7548 Evaluation Finish\n",
      "308: Data Load Finish, Predict Finish, 5.2864 4.1817 0.1412 0.8095 Evaluation Finish\n",
      "309: Data Load Finish, "
     ]
    },
    {
     "name": "stderr",
     "output_type": "stream",
     "text": [
      "C:\\Users\\vfgtr554\\anaconda3\\envs\\cctv\\lib\\site-packages\\pandas\\core\\arraylike.py:364: RuntimeWarning: divide by zero encountered in log\n",
      "  result = getattr(ufunc, method)(*inputs, **kwargs)\n",
      "C:\\Users\\vfgtr554\\anaconda3\\envs\\cctv\\lib\\site-packages\\statsmodels\\base\\model.py:606: ConvergenceWarning: Maximum Likelihood optimization failed to converge. Check mle_retvals\n",
      "  ConvergenceWarning)\n",
      "C:\\Users\\vfgtr554\\anaconda3\\envs\\cctv\\lib\\site-packages\\pandas\\core\\arraylike.py:364: RuntimeWarning: divide by zero encountered in log\n",
      "  result = getattr(ufunc, method)(*inputs, **kwargs)\n"
     ]
    },
    {
     "name": "stdout",
     "output_type": "stream",
     "text": [
      "Predict Finish, 26.7557 26.5689 0.9632 0.0358 Evaluation Finish\n",
      "310: Data Load Finish, "
     ]
    },
    {
     "name": "stderr",
     "output_type": "stream",
     "text": [
      "C:\\Users\\vfgtr554\\anaconda3\\envs\\cctv\\lib\\site-packages\\statsmodels\\base\\model.py:606: ConvergenceWarning: Maximum Likelihood optimization failed to converge. Check mle_retvals\n",
      "  ConvergenceWarning)\n"
     ]
    },
    {
     "name": "stdout",
     "output_type": "stream",
     "text": [
      "Predict Finish, 26.7557 26.5689 0.9632 0.0358 Evaluation Finish\n",
      "311: Data Load Finish, Predict Finish, 3.3589 2.995 0.1063 0.879 Evaluation Finish\n",
      "312: Data Load Finish, Predict Finish, 12.3535 11.9316 0.4519 0.5548 Evaluation Finish\n",
      "313: Data Load Finish, Predict Finish, 10.6131 10.1256 0.3588 0.6175 Evaluation Finish\n",
      "314: Data Load Finish, Predict Finish, 4.7514 3.5868 0.1188 0.8288 Evaluation Finish\n",
      "315: Data Load Finish, Predict Finish, 5.3907 4.3368 0.146 0.8057 Evaluation Finish\n",
      "316: Data Load Finish, Predict Finish, 5.3295 4.2831 0.1441 0.8079 Evaluation Finish\n",
      "317: Data Load Finish, Predict Finish, 4.3034 3.4114 0.1146 0.8449 Evaluation Finish\n",
      "318: Data Load Finish, Predict Finish, 10.7031 10.2278 0.3627 0.6143 Evaluation Finish\n",
      "319: Data Load Finish, "
     ]
    },
    {
     "name": "stderr",
     "output_type": "stream",
     "text": [
      "C:\\Users\\vfgtr554\\anaconda3\\envs\\cctv\\lib\\site-packages\\statsmodels\\base\\model.py:606: ConvergenceWarning: Maximum Likelihood optimization failed to converge. Check mle_retvals\n",
      "  ConvergenceWarning)\n"
     ]
    },
    {
     "name": "stdout",
     "output_type": "stream",
     "text": [
      "Predict Finish, 8.892 8.3129 0.2923 0.6796 Evaluation Finish\n",
      "320: Data Load Finish, Predict Finish, 5.5689 4.5877 0.1554 0.7993 Evaluation Finish\n",
      "321: Data Load Finish, Predict Finish, 3.3387 2.9694 0.1056 0.8797 Evaluation Finish\n",
      "322: Data Load Finish, Predict Finish, 3.5088 3.0419 0.1165 0.8736 Evaluation Finish\n",
      "323: Data Load Finish, Predict Finish, 4.2364 3.5208 0.1212 0.8473 Evaluation Finish\n",
      "324: Data Load Finish, Predict Finish, 4.4569 3.5342 0.1411 0.8394 Evaluation Finish\n",
      "325: Data Load Finish, Predict Finish, 7.6477 6.9844 0.2697 0.7244 Evaluation Finish\n",
      "326: Data Load Finish, Predict Finish, 6.4176 5.59 0.1922 0.7687 Evaluation Finish\n",
      "327: Data Load Finish, Predict Finish, 13.9545 13.5923 0.5127 0.4971 Evaluation Finish\n",
      "328: Data Load Finish, "
     ]
    },
    {
     "name": "stderr",
     "output_type": "stream",
     "text": [
      "C:\\Users\\vfgtr554\\anaconda3\\envs\\cctv\\lib\\site-packages\\pandas\\core\\arraylike.py:364: RuntimeWarning: divide by zero encountered in log\n",
      "  result = getattr(ufunc, method)(*inputs, **kwargs)\n",
      "C:\\Users\\vfgtr554\\anaconda3\\envs\\cctv\\lib\\site-packages\\statsmodels\\base\\model.py:606: ConvergenceWarning: Maximum Likelihood optimization failed to converge. Check mle_retvals\n",
      "  ConvergenceWarning)\n"
     ]
    },
    {
     "name": "stdout",
     "output_type": "stream",
     "text": [
      "Predict Finish, 26.7557 26.5689 0.9632 0.0358 Evaluation Finish\n",
      "329: Data Load Finish, Predict Finish, 9.0861 8.2653 0.3174 0.6726 Evaluation Finish\n",
      "330: Data Load Finish, Predict Finish, 5.8608 4.9381 0.1947 0.7888 Evaluation Finish\n",
      "331: Data Load Finish, Predict Finish, 7.2336 6.5742 0.2541 0.7393 Evaluation Finish\n",
      "332: Data Load Finish, Predict Finish, 6.4678 5.5922 0.2185 0.7669 Evaluation Finish\n",
      "333: Data Load Finish, Predict Finish, 12.223 11.7363 0.445 0.5595 Evaluation Finish\n",
      "334: Data Load Finish, Predict Finish, 20.1729 19.9236 0.7455 0.273 Evaluation Finish\n",
      "335: Data Load Finish, Predict Finish, 3.2669 2.967 0.1113 0.8823 Evaluation Finish\n",
      "336: Data Load Finish, Predict Finish, 11.2556 10.7554 0.4087 0.5944 Evaluation Finish\n",
      "337: Data Load Finish, Predict Finish, 4.3494 3.4642 0.1381 0.8433 Evaluation Finish\n",
      "338: Data Load Finish, Predict Finish, 16.2275 15.836 0.5961 0.4152 Evaluation Finish\n",
      "339: Data Load Finish, Predict Finish, 6.2199 5.3566 0.2101 0.7759 Evaluation Finish\n",
      "340: Data Load Finish, Predict Finish, 3.5524 3.1114 0.1194 0.872 Evaluation Finish\n",
      "341: Data Load Finish, Predict Finish, 3.8906 3.3276 0.1299 0.8598 Evaluation Finish\n",
      "342: Data Load Finish, Predict Finish, 13.3179 12.9297 0.4886 0.5201 Evaluation Finish\n",
      "343: Data Load Finish, Predict Finish, 14.6005 14.0045 0.5286 0.4738 Evaluation Finish\n",
      "344: Data Load Finish, Predict Finish, 3.2139 2.9587 0.111 0.8842 Evaluation Finish\n",
      "345: Data Load Finish, Predict Finish, 5.4605 4.5843 0.1805 0.8032 Evaluation Finish\n",
      "346: Data Load Finish, Predict Finish, 11.2739 10.7859 0.3829 0.5937 Evaluation Finish\n",
      "347: Data Load Finish, Predict Finish, 3.4245 3.016 0.1057 0.8766 Evaluation Finish\n",
      "348: Data Load Finish, Predict Finish, 8.9909 8.4264 0.3229 0.676 Evaluation Finish\n",
      "349: Data Load Finish, Predict Finish, 7.4499 6.7564 0.2351 0.7315 Evaluation Finish\n",
      "350: Data Load Finish, Predict Finish, 13.4944 13.1164 0.4688 0.5137 Evaluation Finish\n",
      "351: Data Load Finish, Predict Finish, 3.7484 3.0652 0.1095 0.8649 Evaluation Finish\n",
      "352: Data Load Finish, "
     ]
    },
    {
     "name": "stderr",
     "output_type": "stream",
     "text": [
      "C:\\Users\\vfgtr554\\anaconda3\\envs\\cctv\\lib\\site-packages\\pandas\\core\\arraylike.py:364: RuntimeWarning: divide by zero encountered in log\n",
      "  result = getattr(ufunc, method)(*inputs, **kwargs)\n",
      "C:\\Users\\vfgtr554\\anaconda3\\envs\\cctv\\lib\\site-packages\\statsmodels\\base\\model.py:606: ConvergenceWarning: Maximum Likelihood optimization failed to converge. Check mle_retvals\n",
      "  ConvergenceWarning)\n"
     ]
    },
    {
     "name": "stdout",
     "output_type": "stream",
     "text": [
      "Predict Finish, 26.7557 26.5689 0.9632 0.0358 Evaluation Finish\n",
      "353: Data Load Finish, Predict Finish, 3.8328 3.1899 0.1254 0.8619 Evaluation Finish\n",
      "354: Data Load Finish, Predict Finish, 4.7836 3.8386 0.1529 0.8276 Evaluation Finish\n",
      "355: Data Load Finish, Predict Finish, 4.5972 3.6243 0.1449 0.8343 Evaluation Finish\n",
      "356: Data Load Finish, Predict Finish, 3.1741 2.9279 0.1088 0.8856 Evaluation Finish\n",
      "357: Data Load Finish, Predict Finish, 4.359 3.5771 0.1415 0.8429 Evaluation Finish\n",
      "358: Data Load Finish, Predict Finish, 3.2196 2.9482 0.1059 0.884 Evaluation Finish\n",
      "359: Data Load Finish, Predict Finish, 3.2814 2.9923 0.1131 0.8817 Evaluation Finish\n",
      "360: Data Load Finish, Predict Finish, 3.6944 3.1029 0.121 0.8669 Evaluation Finish\n",
      "361: Data Load Finish, Predict Finish, 4.18 3.2552 0.1299 0.8494 Evaluation Finish\n",
      "362: Data Load Finish, Predict Finish, 4.374 3.4521 0.1158 0.8424 Evaluation Finish\n",
      "363: Data Load Finish, Predict Finish, 8.0447 7.3632 0.2575 0.7101 Evaluation Finish\n",
      "364: Data Load Finish, "
     ]
    },
    {
     "name": "stderr",
     "output_type": "stream",
     "text": [
      "C:\\Users\\vfgtr554\\anaconda3\\envs\\cctv\\lib\\site-packages\\statsmodels\\base\\model.py:606: ConvergenceWarning: Maximum Likelihood optimization failed to converge. Check mle_retvals\n",
      "  ConvergenceWarning)\n"
     ]
    },
    {
     "name": "stdout",
     "output_type": "stream",
     "text": [
      "Predict Finish, 8.6301 8.034 0.2821 0.689 Evaluation Finish\n",
      "365: Data Load Finish, Predict Finish, 4.439 3.4668 0.1386 0.84 Evaluation Finish\n",
      "366: Data Load Finish, Predict Finish, 4.2277 3.3489 0.1125 0.8476 Evaluation Finish\n",
      "367: Data Load Finish, Predict Finish, 5.2216 4.274 0.1696 0.8118 Evaluation Finish\n",
      "368: Data Load Finish, Predict Finish, 3.9731 3.2366 0.1099 0.8568 Evaluation Finish\n",
      "369: Data Load Finish, Predict Finish, 6.4397 5.6038 0.1927 0.7679 Evaluation Finish\n",
      "370: Data Load Finish, Predict Finish, 3.6541 3.0393 0.1161 0.8683 Evaluation Finish\n",
      "371: Data Load Finish, Predict Finish, 3.6671 3.0786 0.1204 0.8678 Evaluation Finish\n",
      "372: Data Load Finish, Predict Finish, 14.2186 13.8624 0.5227 0.4876 Evaluation Finish\n",
      "373: Data Load Finish, Predict Finish, 5.6542 4.6344 0.1571 0.7962 Evaluation Finish\n",
      "374: Data Load Finish, Predict Finish, 10.4566 9.8965 0.3772 0.6232 Evaluation Finish\n",
      "375: Data Load Finish, Predict Finish, 35.621 35.4736 1.3172 -0.2837 Evaluation Finish\n",
      "376: Data Load Finish, Predict Finish, 55.5773 55.4865 2.0525 -1.0029 Evaluation Finish\n",
      "377: Data Load Finish, Predict Finish, 29.616 29.4274 1.0951 -0.0673 Evaluation Finish\n",
      "378: Data Load Finish, Predict Finish, 32.3692 32.0399 1.1915 -0.1665 Evaluation Finish\n",
      "379: Data Load Finish, Predict Finish, 3.4875 2.9068 0.1093 0.8743 Evaluation Finish\n",
      "380: Data Load Finish, "
     ]
    },
    {
     "name": "stderr",
     "output_type": "stream",
     "text": [
      "C:\\Users\\vfgtr554\\anaconda3\\envs\\cctv\\lib\\site-packages\\statsmodels\\base\\model.py:606: ConvergenceWarning: Maximum Likelihood optimization failed to converge. Check mle_retvals\n",
      "  ConvergenceWarning)\n"
     ]
    },
    {
     "name": "stdout",
     "output_type": "stream",
     "text": [
      "Predict Finish, 7.6595 6.6721 0.2581 0.724 Evaluation Finish\n",
      "381: Data Load Finish, Predict Finish, 4.0604 3.2983 0.1165 0.8537 Evaluation Finish\n",
      "382: Data Load Finish, "
     ]
    },
    {
     "name": "stderr",
     "output_type": "stream",
     "text": [
      "C:\\Users\\vfgtr554\\anaconda3\\envs\\cctv\\lib\\site-packages\\pandas\\core\\arraylike.py:364: RuntimeWarning: divide by zero encountered in log\n",
      "  result = getattr(ufunc, method)(*inputs, **kwargs)\n",
      "C:\\Users\\vfgtr554\\anaconda3\\envs\\cctv\\lib\\site-packages\\statsmodels\\base\\model.py:606: ConvergenceWarning: Maximum Likelihood optimization failed to converge. Check mle_retvals\n",
      "  ConvergenceWarning)\n"
     ]
    },
    {
     "name": "stdout",
     "output_type": "stream",
     "text": [
      "Predict Finish, 26.7557 26.5689 0.9632 0.0358 Evaluation Finish\n",
      "383: Data Load Finish, Predict Finish, 3.7268 3.0815 0.1059 0.8657 Evaluation Finish\n",
      "384: Data Load Finish, Predict Finish, 4.0712 3.2206 0.1085 0.8533 Evaluation Finish\n",
      "385: Data Load Finish, Predict Finish, 3.3055 2.9066 0.1071 0.8809 Evaluation Finish\n",
      "386: Data Load Finish, Predict Finish, 3.5894 3.073 0.1194 0.8706 Evaluation Finish\n",
      "387: Data Load Finish, Predict Finish, 4.8232 3.8969 0.1549 0.8262 Evaluation Finish\n",
      "388: Data Load Finish, Predict Finish, 3.2436 2.9587 0.1071 0.8831 Evaluation Finish\n",
      "389: Data Load Finish, Predict Finish, 18.0956 17.8144 0.6681 0.3479 Evaluation Finish\n",
      "390: Data Load Finish, Predict Finish, 26.4738 26.2778 0.9792 0.046 Evaluation Finish\n",
      "391: Data Load Finish, Predict Finish, 8.4966 7.8873 0.2766 0.6938 Evaluation Finish\n",
      "392: Data Load Finish, Predict Finish, 7.0783 6.3364 0.2203 0.7449 Evaluation Finish\n",
      "393: Data Load Finish, Predict Finish, 5.0519 4.2559 0.1464 0.8179 Evaluation Finish\n",
      "394: Data Load Finish, Predict Finish, 4.1697 3.3595 0.1135 0.8497 Evaluation Finish\n",
      "395: Data Load Finish, Predict Finish, 7.1086 6.3448 0.22 0.7438 Evaluation Finish\n",
      "396: Data Load Finish, Predict Finish, 4.3206 3.5661 0.1218 0.8443 Evaluation Finish\n",
      "397: Data Load Finish, Predict Finish, 4.9043 3.9746 0.158 0.8233 Evaluation Finish\n",
      "398: Data Load Finish, Predict Finish, 6.8355 6.0932 0.2112 0.7537 Evaluation Finish\n",
      "399: Data Load Finish, Predict Finish, 7.4509 6.6867 0.2326 0.7315 Evaluation Finish\n",
      "400: Data Load Finish, Predict Finish, 9.4376 8.8616 0.3124 0.6599 Evaluation Finish\n",
      "401: Data Load Finish, Predict Finish, 5.2115 4.2605 0.1445 0.8122 Evaluation Finish\n",
      "402: Data Load Finish, Predict Finish, 5.0044 4.2457 0.148 0.8197 Evaluation Finish\n",
      "403: Data Load Finish, Predict Finish, 6.5162 5.7047 0.1965 0.7652 Evaluation Finish\n",
      "404: Data Load Finish, Predict Finish, 6.7738 5.9081 0.2039 0.7559 Evaluation Finish\n",
      "405: Data Load Finish, Predict Finish, 7.6329 6.8956 0.2669 0.7249 Evaluation Finish\n",
      "406: Data Load Finish, Predict Finish, 3.4634 3.0119 0.116 0.8752 Evaluation Finish\n",
      "407: Data Load Finish, Predict Finish, 3.514 3.0614 0.1181 0.8734 Evaluation Finish\n",
      "408: Data Load Finish, Predict Finish, 3.2349 2.9513 0.1104 0.8834 Evaluation Finish\n",
      "409: Data Load Finish, Predict Finish, 6.0419 5.1558 0.2009 0.7823 Evaluation Finish\n",
      "410: Data Load Finish, Predict Finish, 3.2838 2.9845 0.1065 0.8817 Evaluation Finish\n",
      "411: Data Load Finish, Predict Finish, 3.3428 2.9967 0.1077 0.8795 Evaluation Finish\n",
      "412: Data Load Finish, Predict Finish, 11.5081 10.9841 0.4178 0.5853 Evaluation Finish\n",
      "413: Data Load Finish, Predict Finish, 7.169 6.3755 0.2208 0.7416 Evaluation Finish\n",
      "414: Data Load Finish, "
     ]
    },
    {
     "name": "stderr",
     "output_type": "stream",
     "text": [
      "C:\\Users\\vfgtr554\\anaconda3\\envs\\cctv\\lib\\site-packages\\statsmodels\\base\\model.py:606: ConvergenceWarning: Maximum Likelihood optimization failed to converge. Check mle_retvals\n",
      "  ConvergenceWarning)\n"
     ]
    },
    {
     "name": "stdout",
     "output_type": "stream",
     "text": [
      "Predict Finish, 3.536 2.9183 0.1134 0.8726 Evaluation Finish\n",
      "415: Data Load Finish, Predict Finish, 3.2523 2.9375 0.1041 0.8828 Evaluation Finish\n",
      "416: Data Load Finish, Predict Finish, 4.3435 3.512 0.1395 0.8435 Evaluation Finish\n",
      "417: Data Load Finish, Predict Finish, 4.0076 3.2147 0.1139 0.8556 Evaluation Finish\n",
      "418: Data Load Finish, Predict Finish, 15.8417 15.5241 0.5838 0.4291 Evaluation Finish\n",
      "419: Data Load Finish, Predict Finish, 7.6952 6.9624 0.2432 0.7227 Evaluation Finish\n",
      "420: Data Load Finish, Predict Finish, 3.6754 3.0169 0.1154 0.8675 Evaluation Finish\n",
      "421: Data Load Finish, Predict Finish, 4.5593 3.8103 0.1498 0.8357 Evaluation Finish\n",
      "422: Data Load Finish, Predict Finish, 6.605 5.734 0.1973 0.762 Evaluation Finish\n",
      "423: Data Load Finish, Predict Finish, 4.9965 4.0967 0.1622 0.8199 Evaluation Finish\n",
      "424: Data Load Finish, "
     ]
    },
    {
     "name": "stderr",
     "output_type": "stream",
     "text": [
      "C:\\Users\\vfgtr554\\anaconda3\\envs\\cctv\\lib\\site-packages\\pandas\\core\\arraylike.py:364: RuntimeWarning: divide by zero encountered in log\n",
      "  result = getattr(ufunc, method)(*inputs, **kwargs)\n",
      "C:\\Users\\vfgtr554\\anaconda3\\envs\\cctv\\lib\\site-packages\\statsmodels\\base\\model.py:606: ConvergenceWarning: Maximum Likelihood optimization failed to converge. Check mle_retvals\n",
      "  ConvergenceWarning)\n"
     ]
    },
    {
     "name": "stdout",
     "output_type": "stream",
     "text": [
      "Predict Finish, 26.7557 26.5689 0.9632 0.0358 Evaluation Finish\n",
      "425: Data Load Finish, Predict Finish, 3.1767 2.8855 0.1046 0.8855 Evaluation Finish\n",
      "426: Data Load Finish, Predict Finish, 14.1595 13.8038 0.5205 0.4897 Evaluation Finish\n",
      "427: Data Load Finish, Predict Finish, 23.8472 23.6339 0.8819 0.1406 Evaluation Finish\n",
      "428: Data Load Finish, Predict Finish, 25.5137 25.3097 0.9435 0.0806 Evaluation Finish\n",
      "429: Data Load Finish, Predict Finish, 31.2892 31.0587 1.1554 -0.1276 Evaluation Finish\n",
      "430: Data Load Finish, Predict Finish, 32.5692 32.4096 1.2038 -0.1737 Evaluation Finish\n",
      "431: Data Load Finish, Predict Finish, 21.9649 21.7374 0.8121 0.2084 Evaluation Finish\n",
      "432: Data Load Finish, Predict Finish, 11.433 10.8976 0.3866 0.588 Evaluation Finish\n",
      "433: Data Load Finish, Predict Finish, 14.496 14.1608 0.5084 0.4776 Evaluation Finish\n",
      "434: Data Load Finish, "
     ]
    },
    {
     "name": "stderr",
     "output_type": "stream",
     "text": [
      "C:\\Users\\vfgtr554\\anaconda3\\envs\\cctv\\lib\\site-packages\\pandas\\core\\arraylike.py:364: RuntimeWarning: divide by zero encountered in log\n",
      "  result = getattr(ufunc, method)(*inputs, **kwargs)\n",
      "C:\\Users\\vfgtr554\\anaconda3\\envs\\cctv\\lib\\site-packages\\statsmodels\\base\\model.py:606: ConvergenceWarning: Maximum Likelihood optimization failed to converge. Check mle_retvals\n",
      "  ConvergenceWarning)\n"
     ]
    },
    {
     "name": "stdout",
     "output_type": "stream",
     "text": [
      "Predict Finish, 26.7557 26.5689 0.9632 0.0358 Evaluation Finish\n",
      "435: Data Load Finish, Predict Finish, 8.4539 7.8608 0.2761 0.6953 Evaluation Finish\n",
      "436: Data Load Finish, Predict Finish, 10.688 10.1958 0.3613 0.6148 Evaluation Finish\n",
      "437: Data Load Finish, Predict Finish, 7.264 6.0652 0.2083 0.7382 Evaluation Finish\n",
      "438: Data Load Finish, Predict Finish, 4.2984 3.2868 0.1097 0.8451 Evaluation Finish\n",
      "439: Data Load Finish, Predict Finish, 3.1769 2.9132 0.1059 0.8855 Evaluation Finish\n",
      "440: Data Load Finish, Predict Finish, 7.5511 6.8865 0.2661 0.7279 Evaluation Finish\n",
      "441: Data Load Finish, Predict Finish, 3.766 3.2062 0.1251 0.8643 Evaluation Finish\n",
      "442: Data Load Finish, Predict Finish, 5.0656 4.0912 0.1629 0.8174 Evaluation Finish\n",
      "443: Data Load Finish, Predict Finish, 7.3162 6.586 0.2287 0.7363 Evaluation Finish\n",
      "444: Data Load Finish, Predict Finish, 6.8963 6.1736 0.2142 0.7515 Evaluation Finish\n",
      "445: Data Load Finish, Predict Finish, 10.3071 9.793 0.3465 0.6286 Evaluation Finish\n",
      "446: Data Load Finish, Predict Finish, 3.4101 3.0268 0.1065 0.8771 Evaluation Finish\n",
      "447: "
     ]
    },
    {
     "name": "stderr",
     "output_type": "stream",
     "text": [
      "C:\\Users\\vfgtr554\\anaconda3\\envs\\cctv\\lib\\site-packages\\pandas\\core\\arraylike.py:364: RuntimeWarning: divide by zero encountered in log\n",
      "  result = getattr(ufunc, method)(*inputs, **kwargs)\n"
     ]
    },
    {
     "name": "stdout",
     "output_type": "stream",
     "text": [
      "Data Load Finish, "
     ]
    },
    {
     "name": "stderr",
     "output_type": "stream",
     "text": [
      "C:\\Users\\vfgtr554\\anaconda3\\envs\\cctv\\lib\\site-packages\\statsmodels\\base\\model.py:606: ConvergenceWarning: Maximum Likelihood optimization failed to converge. Check mle_retvals\n",
      "  ConvergenceWarning)\n"
     ]
    },
    {
     "name": "stdout",
     "output_type": "stream",
     "text": [
      "Predict Finish, 26.7557 26.5689 0.9632 0.0358 Evaluation Finish\n",
      "448: Data Load Finish, Predict Finish, 8.2424 7.6239 0.2933 0.703 Evaluation Finish\n",
      "449: Data Load Finish, Predict Finish, 5.0869 4.0778 0.1373 0.8167 Evaluation Finish\n",
      "450: Data Load Finish, Predict Finish, 4.1744 3.3622 0.1137 0.8496 Evaluation Finish\n",
      "451: Data Load Finish, Predict Finish, 3.2623 2.9925 0.1112 0.8824 Evaluation Finish\n",
      "452: Data Load Finish, Predict Finish, 5.0238 4.1275 0.1402 0.819 Evaluation Finish\n",
      "453: Data Load Finish, Predict Finish, 3.8387 3.1523 0.108 0.8617 Evaluation Finish\n",
      "454: Data Load Finish, Predict Finish, 8.0557 7.3711 0.2575 0.7097 Evaluation Finish\n",
      "455: Data Load Finish, Predict Finish, 9.5365 8.99 0.3174 0.6563 Evaluation Finish\n",
      "456: Data Load Finish, Predict Finish, 6.7901 5.8993 0.204 0.7553 Evaluation Finish\n",
      "457: Data Load Finish, Predict Finish, 4.0145 3.309 0.1129 0.8553 Evaluation Finish\n",
      "458: Data Load Finish, "
     ]
    },
    {
     "name": "stderr",
     "output_type": "stream",
     "text": [
      "C:\\Users\\vfgtr554\\anaconda3\\envs\\cctv\\lib\\site-packages\\pandas\\core\\arraylike.py:364: RuntimeWarning: divide by zero encountered in log\n",
      "  result = getattr(ufunc, method)(*inputs, **kwargs)\n",
      "C:\\Users\\vfgtr554\\anaconda3\\envs\\cctv\\lib\\site-packages\\statsmodels\\base\\model.py:606: ConvergenceWarning: Maximum Likelihood optimization failed to converge. Check mle_retvals\n",
      "  ConvergenceWarning)\n"
     ]
    },
    {
     "name": "stdout",
     "output_type": "stream",
     "text": [
      "Predict Finish, 26.7557 26.5689 0.9632 0.0358 Evaluation Finish\n",
      "459: Data Load Finish, Predict Finish, 3.17 2.9084 0.1055 0.8858 Evaluation Finish\n",
      "460: Data Load Finish, Predict Finish, 8.4201 7.8063 0.2737 0.6966 Evaluation Finish\n",
      "461: Data Load Finish, Predict Finish, 5.2323 4.0257 0.1374 0.8114 Evaluation Finish\n",
      "462: Data Load Finish, Predict Finish, 3.7881 3.1615 0.1086 0.8635 Evaluation Finish\n",
      "463: Data Load Finish, Predict Finish, 7.0447 6.3005 0.2184 0.7461 Evaluation Finish\n",
      "464: Data Load Finish, Predict Finish, 3.3393 2.958 0.1122 0.8797 Evaluation Finish\n",
      "465: Data Load Finish, Predict Finish, 6.5281 5.6918 0.1961 0.7647 Evaluation Finish\n",
      "466: Data Load Finish, "
     ]
    },
    {
     "name": "stderr",
     "output_type": "stream",
     "text": [
      "C:\\Users\\vfgtr554\\anaconda3\\envs\\cctv\\lib\\site-packages\\pandas\\core\\arraylike.py:364: RuntimeWarning: divide by zero encountered in log\n",
      "  result = getattr(ufunc, method)(*inputs, **kwargs)\n",
      "C:\\Users\\vfgtr554\\anaconda3\\envs\\cctv\\lib\\site-packages\\statsmodels\\base\\model.py:606: ConvergenceWarning: Maximum Likelihood optimization failed to converge. Check mle_retvals\n",
      "  ConvergenceWarning)\n"
     ]
    },
    {
     "name": "stdout",
     "output_type": "stream",
     "text": [
      "Predict Finish, 26.7557 26.5689 0.9632 0.0358 Evaluation Finish\n",
      "467: Data Load Finish, Predict Finish, 3.3489 2.8673 0.1039 0.8793 Evaluation Finish\n",
      "468: Data Load Finish, Predict Finish, 11.4469 10.9715 0.4167 0.5875 Evaluation Finish\n",
      "469: Data Load Finish, Predict Finish, 3.3514 2.987 0.1145 0.8792 Evaluation Finish\n",
      "470: Data Load Finish, Predict Finish, 11.1192 10.6713 0.3791 0.5993 Evaluation Finish\n",
      "471: Data Load Finish, Predict Finish, 3.9214 3.2901 0.1261 0.8587 Evaluation Finish\n",
      "472: Data Load Finish, Predict Finish, 9.7198 9.1882 0.3246 0.6497 Evaluation Finish\n",
      "473: Data Load Finish, Predict Finish, 9.404 8.8034 0.3106 0.6611 Evaluation Finish\n",
      "474: Data Load Finish, "
     ]
    },
    {
     "name": "stderr",
     "output_type": "stream",
     "text": [
      "C:\\Users\\vfgtr554\\anaconda3\\envs\\cctv\\lib\\site-packages\\pandas\\core\\arraylike.py:364: RuntimeWarning: divide by zero encountered in log\n",
      "  result = getattr(ufunc, method)(*inputs, **kwargs)\n",
      "C:\\Users\\vfgtr554\\anaconda3\\envs\\cctv\\lib\\site-packages\\statsmodels\\base\\model.py:606: ConvergenceWarning: Maximum Likelihood optimization failed to converge. Check mle_retvals\n",
      "  ConvergenceWarning)\n"
     ]
    },
    {
     "name": "stdout",
     "output_type": "stream",
     "text": [
      "Predict Finish, 26.7557 26.5689 0.9632 0.0358 Evaluation Finish\n",
      "475: Data Load Finish, Predict Finish, 6.5434 5.5507 0.1908 0.7642 Evaluation Finish\n",
      "476: Data Load Finish, Predict Finish, 4.4453 3.6909 0.1262 0.8398 Evaluation Finish\n",
      "477: Data Load Finish, "
     ]
    },
    {
     "name": "stderr",
     "output_type": "stream",
     "text": [
      "C:\\Users\\vfgtr554\\anaconda3\\envs\\cctv\\lib\\site-packages\\pandas\\core\\arraylike.py:364: RuntimeWarning: divide by zero encountered in log\n",
      "  result = getattr(ufunc, method)(*inputs, **kwargs)\n",
      "C:\\Users\\vfgtr554\\anaconda3\\envs\\cctv\\lib\\site-packages\\statsmodels\\base\\model.py:606: ConvergenceWarning: Maximum Likelihood optimization failed to converge. Check mle_retvals\n",
      "  ConvergenceWarning)\n"
     ]
    },
    {
     "name": "stdout",
     "output_type": "stream",
     "text": [
      "Predict Finish, 26.7557 26.5689 0.9632 0.0358 Evaluation Finish\n",
      "478: Data Load Finish, Predict Finish, 7.3542 6.6426 0.2309 0.735 Evaluation Finish\n",
      "479: Data Load Finish, Predict Finish, 4.5207 3.4367 0.1145 0.8371 Evaluation Finish\n",
      "480: Data Load Finish, Predict Finish, 7.4166 6.6859 0.2324 0.7327 Evaluation Finish\n",
      "481: Data Load Finish, Predict Finish, 3.2604 2.9558 0.1063 0.8825 Evaluation Finish\n",
      "482: Data Load Finish, Predict Finish, 8.9521 8.3456 0.2933 0.6774 Evaluation Finish\n",
      "483: Data Load Finish, Predict Finish, 3.8216 3.1934 0.1094 0.8623 Evaluation Finish\n",
      "484: Data Load Finish, "
     ]
    },
    {
     "name": "stderr",
     "output_type": "stream",
     "text": [
      "C:\\Users\\vfgtr554\\anaconda3\\envs\\cctv\\lib\\site-packages\\pandas\\core\\arraylike.py:364: RuntimeWarning: divide by zero encountered in log\n",
      "  result = getattr(ufunc, method)(*inputs, **kwargs)\n",
      "C:\\Users\\vfgtr554\\anaconda3\\envs\\cctv\\lib\\site-packages\\statsmodels\\base\\model.py:606: ConvergenceWarning: Maximum Likelihood optimization failed to converge. Check mle_retvals\n",
      "  ConvergenceWarning)\n"
     ]
    },
    {
     "name": "stdout",
     "output_type": "stream",
     "text": [
      "Predict Finish, 26.7557 26.5689 0.9632 0.0358 Evaluation Finish\n",
      "485: Data Load Finish, Predict Finish, 3.3167 2.9871 0.1059 0.8805 Evaluation Finish\n",
      "486: Data Load Finish, Predict Finish, 3.3622 2.9113 0.1066 0.8788 Evaluation Finish\n",
      "487: Data Load Finish, Predict Finish, 11.7025 11.257 0.4271 0.5783 Evaluation Finish\n",
      "488: Data Load Finish, Predict Finish, 4.7461 3.7711 0.1506 0.829 Evaluation Finish\n",
      "489: Data Load Finish, Predict Finish, 13.9365 13.5854 0.5123 0.4978 Evaluation Finish\n",
      "490: Data Load Finish, Predict Finish, 11.6479 11.2058 0.425 0.5802 Evaluation Finish\n",
      "491: Data Load Finish, Predict Finish, 8.2096 7.2355 0.2509 0.7041 Evaluation Finish\n",
      "492: Data Load Finish, Predict Finish, 6.6195 5.6593 0.1953 0.7614 Evaluation Finish\n",
      "493: Data Load Finish, Predict Finish, 3.6676 3.1093 0.1214 0.8678 Evaluation Finish\n",
      "494: Data Load Finish, Predict Finish, 7.2585 6.381 0.2212 0.7384 Evaluation Finish\n",
      "495: Data Load Finish, Predict Finish, 3.2962 2.9768 0.106 0.8812 Evaluation Finish\n",
      "496: Data Load Finish, Predict Finish, 3.189 2.9213 0.1045 0.8851 Evaluation Finish\n",
      "497: Data Load Finish, Predict Finish, 3.2758 2.9585 0.1048 0.8819 Evaluation Finish\n",
      "498: Data Load Finish, Predict Finish, 5.7024 4.7557 0.188 0.7945 Evaluation Finish\n",
      "499: Data Load Finish, Predict Finish, 3.5635 3.1642 0.116 0.8716 Evaluation Finish\n",
      "500: Data Load Finish, Predict Finish, 3.1949 2.7056 0.1038 0.8849 Evaluation Finish\n",
      "501: Data Load Finish, Predict Finish, 3.3486 2.9592 0.1138 0.8793 Evaluation Finish\n",
      "502: Data Load Finish, Predict Finish, 3.202 2.9335 0.1078 0.8846 Evaluation Finish\n",
      "503: Data Load Finish, Predict Finish, 4.6678 3.8139 0.1296 0.8318 Evaluation Finish\n",
      "504: Data Load Finish, Predict Finish, 3.1308 2.8747 0.1069 0.8872 Evaluation Finish\n",
      "505: Data Load Finish, Predict Finish, 8.5597 7.9009 0.2768 0.6915 Evaluation Finish\n",
      "RMSE: 8.443398619928818, MAE: 7.803753618451485, MAPE: 0.2838762249757577\n",
      "ACC: 0.7007628061580756\n"
     ]
    }
   ],
   "source": [
    "predictARIMA(df, idx, 9)"
   ]
  },
  {
   "cell_type": "markdown",
   "id": "dcb35d64",
   "metadata": {},
   "source": [
    "### Unobserved Nodes = 10%"
   ]
  },
  {
   "cell_type": "code",
   "execution_count": 12,
   "id": "83ad788d",
   "metadata": {},
   "outputs": [
    {
     "name": "stdout",
     "output_type": "stream",
     "text": [
      "2880 506\n"
     ]
    },
    {
     "data": {
      "text/plain": [
       "144000"
      ]
     },
     "execution_count": 12,
     "metadata": {},
     "output_type": "execute_result"
    }
   ],
   "source": [
    "df, idx = csvIndexToDatetime(path_10, start, freq)\n",
    "(df == 0).sum().sum()"
   ]
  },
  {
   "cell_type": "code",
   "execution_count": 13,
   "id": "010ff399",
   "metadata": {
    "scrolled": false
   },
   "outputs": [
    {
     "name": "stdout",
     "output_type": "stream",
     "text": [
      "0: Data Load Finish, Predict Finish, 3.1458 2.8845 0.1063 0.8866 Evaluation Finish\n",
      "1: Data Load Finish, Predict Finish, 3.774 3.0358 0.1076 0.864 Evaluation Finish\n",
      "2: Data Load Finish, Predict Finish, 6.379 5.5085 0.2156 0.7701 Evaluation Finish\n",
      "3: "
     ]
    },
    {
     "name": "stderr",
     "output_type": "stream",
     "text": [
      "C:\\Users\\vfgtr554\\anaconda3\\envs\\cctv\\lib\\site-packages\\pandas\\core\\arraylike.py:364: RuntimeWarning: divide by zero encountered in log\n",
      "  result = getattr(ufunc, method)(*inputs, **kwargs)\n"
     ]
    },
    {
     "name": "stdout",
     "output_type": "stream",
     "text": [
      "Data Load Finish, "
     ]
    },
    {
     "name": "stderr",
     "output_type": "stream",
     "text": [
      "C:\\Users\\vfgtr554\\anaconda3\\envs\\cctv\\lib\\site-packages\\statsmodels\\base\\model.py:606: ConvergenceWarning: Maximum Likelihood optimization failed to converge. Check mle_retvals\n",
      "  ConvergenceWarning)\n"
     ]
    },
    {
     "name": "stdout",
     "output_type": "stream",
     "text": [
      "Predict Finish, 26.7557 26.5689 0.9632 0.0358 Evaluation Finish\n",
      "4: Data Load Finish, Predict Finish, 7.1377 6.1099 0.2116 0.7428 Evaluation Finish\n",
      "5: Data Load Finish, Predict Finish, 5.9589 5.0701 0.1732 0.7853 Evaluation Finish\n",
      "6: Data Load Finish, "
     ]
    },
    {
     "name": "stderr",
     "output_type": "stream",
     "text": [
      "C:\\Users\\vfgtr554\\anaconda3\\envs\\cctv\\lib\\site-packages\\pandas\\core\\arraylike.py:364: RuntimeWarning: divide by zero encountered in log\n",
      "  result = getattr(ufunc, method)(*inputs, **kwargs)\n",
      "C:\\Users\\vfgtr554\\anaconda3\\envs\\cctv\\lib\\site-packages\\statsmodels\\base\\model.py:606: ConvergenceWarning: Maximum Likelihood optimization failed to converge. Check mle_retvals\n",
      "  ConvergenceWarning)\n"
     ]
    },
    {
     "name": "stdout",
     "output_type": "stream",
     "text": [
      "Predict Finish, 26.7557 26.5689 0.9632 0.0358 Evaluation Finish\n",
      "7: Data Load Finish, Predict Finish, 9.3639 8.8158 0.3108 0.6625 Evaluation Finish\n",
      "8: Data Load Finish, "
     ]
    },
    {
     "name": "stderr",
     "output_type": "stream",
     "text": [
      "C:\\Users\\vfgtr554\\anaconda3\\envs\\cctv\\lib\\site-packages\\pandas\\core\\arraylike.py:364: RuntimeWarning: divide by zero encountered in log\n",
      "  result = getattr(ufunc, method)(*inputs, **kwargs)\n",
      "C:\\Users\\vfgtr554\\anaconda3\\envs\\cctv\\lib\\site-packages\\statsmodels\\base\\model.py:606: ConvergenceWarning: Maximum Likelihood optimization failed to converge. Check mle_retvals\n",
      "  ConvergenceWarning)\n"
     ]
    },
    {
     "name": "stdout",
     "output_type": "stream",
     "text": [
      "Predict Finish, 26.7557 26.5689 0.9632 0.0358 Evaluation Finish\n",
      "9: Data Load Finish, Predict Finish, 8.4574 7.8446 0.2751 0.6952 Evaluation Finish\n",
      "10: Data Load Finish, Predict Finish, 9.8118 9.2481 0.3268 0.6464 Evaluation Finish\n",
      "11: Data Load Finish, Predict Finish, 5.9826 5.0852 0.1737 0.7844 Evaluation Finish\n",
      "12: Data Load Finish, Predict Finish, 16.1703 15.8516 0.5959 0.4173 Evaluation Finish\n",
      "13: Data Load Finish, Predict Finish, 28.0791 27.8872 1.0384 -0.0119 Evaluation Finish\n",
      "14: Data Load Finish, "
     ]
    },
    {
     "name": "stderr",
     "output_type": "stream",
     "text": [
      "C:\\Users\\vfgtr554\\anaconda3\\envs\\cctv\\lib\\site-packages\\pandas\\core\\arraylike.py:364: RuntimeWarning: divide by zero encountered in log\n",
      "  result = getattr(ufunc, method)(*inputs, **kwargs)\n",
      "C:\\Users\\vfgtr554\\anaconda3\\envs\\cctv\\lib\\site-packages\\statsmodels\\base\\model.py:606: ConvergenceWarning: Maximum Likelihood optimization failed to converge. Check mle_retvals\n",
      "  ConvergenceWarning)\n",
      "C:\\Users\\vfgtr554\\anaconda3\\envs\\cctv\\lib\\site-packages\\pandas\\core\\arraylike.py:364: RuntimeWarning: divide by zero encountered in log\n",
      "  result = getattr(ufunc, method)(*inputs, **kwargs)\n"
     ]
    },
    {
     "name": "stdout",
     "output_type": "stream",
     "text": [
      "Predict Finish, 26.7557 26.5689 0.9632 0.0358 Evaluation Finish\n",
      "15: Data Load Finish, "
     ]
    },
    {
     "name": "stderr",
     "output_type": "stream",
     "text": [
      "C:\\Users\\vfgtr554\\anaconda3\\envs\\cctv\\lib\\site-packages\\statsmodels\\base\\model.py:606: ConvergenceWarning: Maximum Likelihood optimization failed to converge. Check mle_retvals\n",
      "  ConvergenceWarning)\n"
     ]
    },
    {
     "name": "stdout",
     "output_type": "stream",
     "text": [
      "Predict Finish, 26.7557 26.5689 0.9632 0.0358 Evaluation Finish\n",
      "16: Data Load Finish, Predict Finish, 4.2431 3.2946 0.1314 0.8471 Evaluation Finish\n",
      "17: Data Load Finish, "
     ]
    },
    {
     "name": "stderr",
     "output_type": "stream",
     "text": [
      "C:\\Users\\vfgtr554\\anaconda3\\envs\\cctv\\lib\\site-packages\\pandas\\core\\arraylike.py:364: RuntimeWarning: divide by zero encountered in log\n",
      "  result = getattr(ufunc, method)(*inputs, **kwargs)\n",
      "C:\\Users\\vfgtr554\\anaconda3\\envs\\cctv\\lib\\site-packages\\statsmodels\\base\\model.py:606: ConvergenceWarning: Maximum Likelihood optimization failed to converge. Check mle_retvals\n",
      "  ConvergenceWarning)\n"
     ]
    },
    {
     "name": "stdout",
     "output_type": "stream",
     "text": [
      "Predict Finish, 26.7557 26.5689 0.9632 0.0358 Evaluation Finish\n",
      "18: Data Load Finish, Predict Finish, 5.01 3.895 0.1299 0.8195 Evaluation Finish\n",
      "19: Data Load Finish, Predict Finish, 9.2701 8.5549 0.3014 0.6659 Evaluation Finish\n",
      "20: Data Load Finish, Predict Finish, 9.2674 8.7028 0.3068 0.666 Evaluation Finish\n",
      "21: Data Load Finish, Predict Finish, 3.9508 3.3128 0.1141 0.8576 Evaluation Finish\n",
      "22: Data Load Finish, Predict Finish, 3.4363 2.9604 0.1056 0.8762 Evaluation Finish\n",
      "23: Data Load Finish, Predict Finish, 5.1343 4.171 0.1621 0.815 Evaluation Finish\n",
      "24: Data Load Finish, Predict Finish, 17.5528 17.0469 0.6399 0.3674 Evaluation Finish\n",
      "25: Data Load Finish, Predict Finish, 5.2506 4.0891 0.1373 0.8108 Evaluation Finish\n",
      "26: Data Load Finish, "
     ]
    },
    {
     "name": "stderr",
     "output_type": "stream",
     "text": [
      "C:\\Users\\vfgtr554\\anaconda3\\envs\\cctv\\lib\\site-packages\\pandas\\core\\arraylike.py:364: RuntimeWarning: divide by zero encountered in log\n",
      "  result = getattr(ufunc, method)(*inputs, **kwargs)\n",
      "C:\\Users\\vfgtr554\\anaconda3\\envs\\cctv\\lib\\site-packages\\statsmodels\\base\\model.py:606: ConvergenceWarning: Maximum Likelihood optimization failed to converge. Check mle_retvals\n",
      "  ConvergenceWarning)\n",
      "C:\\Users\\vfgtr554\\anaconda3\\envs\\cctv\\lib\\site-packages\\pandas\\core\\arraylike.py:364: RuntimeWarning: divide by zero encountered in log\n",
      "  result = getattr(ufunc, method)(*inputs, **kwargs)\n"
     ]
    },
    {
     "name": "stdout",
     "output_type": "stream",
     "text": [
      "Predict Finish, 26.7557 26.5689 0.9632 0.0358 Evaluation Finish\n",
      "27: Data Load Finish, "
     ]
    },
    {
     "name": "stderr",
     "output_type": "stream",
     "text": [
      "C:\\Users\\vfgtr554\\anaconda3\\envs\\cctv\\lib\\site-packages\\statsmodels\\base\\model.py:606: ConvergenceWarning: Maximum Likelihood optimization failed to converge. Check mle_retvals\n",
      "  ConvergenceWarning)\n"
     ]
    },
    {
     "name": "stdout",
     "output_type": "stream",
     "text": [
      "Predict Finish, 26.7557 26.5689 0.9632 0.0358 Evaluation Finish\n",
      "28: Data Load Finish, Predict Finish, 6.3189 5.3828 0.2101 0.7723 Evaluation Finish\n",
      "29: "
     ]
    },
    {
     "name": "stderr",
     "output_type": "stream",
     "text": [
      "C:\\Users\\vfgtr554\\anaconda3\\envs\\cctv\\lib\\site-packages\\pandas\\core\\arraylike.py:364: RuntimeWarning: divide by zero encountered in log\n",
      "  result = getattr(ufunc, method)(*inputs, **kwargs)\n"
     ]
    },
    {
     "name": "stdout",
     "output_type": "stream",
     "text": [
      "Data Load Finish, "
     ]
    },
    {
     "name": "stderr",
     "output_type": "stream",
     "text": [
      "C:\\Users\\vfgtr554\\anaconda3\\envs\\cctv\\lib\\site-packages\\statsmodels\\base\\model.py:606: ConvergenceWarning: Maximum Likelihood optimization failed to converge. Check mle_retvals\n",
      "  ConvergenceWarning)\n"
     ]
    },
    {
     "name": "stdout",
     "output_type": "stream",
     "text": [
      "Predict Finish, 26.7557 26.5689 0.9632 0.0358 Evaluation Finish\n",
      "30: Data Load Finish, Predict Finish, 3.3818 2.9241 0.1132 0.8781 Evaluation Finish\n",
      "31: Data Load Finish, Predict Finish, 3.3175 2.9961 0.1065 0.8804 Evaluation Finish\n",
      "32: Data Load Finish, Predict Finish, 4.5936 3.3193 0.1123 0.8345 Evaluation Finish\n",
      "33: Data Load Finish, Predict Finish, 12.3014 11.8184 0.4206 0.5567 Evaluation Finish\n",
      "34: Data Load Finish, Predict Finish, 4.3049 3.2513 0.1088 0.8449 Evaluation Finish\n",
      "35: Data Load Finish, Predict Finish, 6.0053 5.0507 0.174 0.7836 Evaluation Finish\n",
      "36: Data Load Finish, Predict Finish, 5.9016 4.8691 0.1654 0.7873 Evaluation Finish\n",
      "37: Data Load Finish, Predict Finish, 4.3541 3.5738 0.1225 0.8431 Evaluation Finish\n",
      "38: Data Load Finish, Predict Finish, 7.6836 6.9783 0.2431 0.7231 Evaluation Finish\n",
      "39: Data Load Finish, Predict Finish, 3.3165 2.9872 0.1057 0.8805 Evaluation Finish\n",
      "40: Data Load Finish, Predict Finish, 6.7226 5.2501 0.1784 0.7577 Evaluation Finish\n",
      "41: Data Load Finish, Predict Finish, 9.6706 9.0249 0.3178 0.6515 Evaluation Finish\n",
      "42: Data Load Finish, Predict Finish, 6.9867 6.261 0.2171 0.7482 Evaluation Finish\n",
      "43: Data Load Finish, Predict Finish, 4.3171 3.3701 0.135 0.8444 Evaluation Finish\n",
      "44: Data Load Finish, Predict Finish, 3.5341 3.1289 0.12 0.8726 Evaluation Finish\n",
      "45: Data Load Finish, Predict Finish, 8.0246 7.3717 0.2577 0.7108 Evaluation Finish\n",
      "46: Data Load Finish, Predict Finish, 6.0186 5.1253 0.2016 0.7831 Evaluation Finish\n",
      "47: "
     ]
    },
    {
     "name": "stderr",
     "output_type": "stream",
     "text": [
      "C:\\Users\\vfgtr554\\anaconda3\\envs\\cctv\\lib\\site-packages\\pandas\\core\\arraylike.py:364: RuntimeWarning: divide by zero encountered in log\n",
      "  result = getattr(ufunc, method)(*inputs, **kwargs)\n"
     ]
    },
    {
     "name": "stdout",
     "output_type": "stream",
     "text": [
      "Data Load Finish, "
     ]
    },
    {
     "name": "stderr",
     "output_type": "stream",
     "text": [
      "C:\\Users\\vfgtr554\\anaconda3\\envs\\cctv\\lib\\site-packages\\statsmodels\\base\\model.py:606: ConvergenceWarning: Maximum Likelihood optimization failed to converge. Check mle_retvals\n",
      "  ConvergenceWarning)\n"
     ]
    },
    {
     "name": "stdout",
     "output_type": "stream",
     "text": [
      "Predict Finish, 26.7557 26.5689 0.9632 0.0358 Evaluation Finish\n",
      "48: Data Load Finish, Predict Finish, 3.2544 2.9514 0.112 0.8827 Evaluation Finish\n",
      "49: Data Load Finish, Predict Finish, 3.2571 2.9963 0.1112 0.8826 Evaluation Finish\n",
      "50: Data Load Finish, Predict Finish, 4.6568 3.5029 0.1168 0.8322 Evaluation Finish\n",
      "51: Data Load Finish, Predict Finish, 7.4435 6.7455 0.2347 0.7318 Evaluation Finish\n",
      "52: Data Load Finish, Predict Finish, 10.7046 10.2483 0.3638 0.6142 Evaluation Finish\n",
      "53: Data Load Finish, Predict Finish, 13.1446 12.7216 0.4539 0.5263 Evaluation Finish\n",
      "54: Data Load Finish, Predict Finish, 11.0692 10.6294 0.3777 0.6011 Evaluation Finish\n",
      "55: Data Load Finish, "
     ]
    },
    {
     "name": "stderr",
     "output_type": "stream",
     "text": [
      "C:\\Users\\vfgtr554\\anaconda3\\envs\\cctv\\lib\\site-packages\\pandas\\core\\arraylike.py:364: RuntimeWarning: divide by zero encountered in log\n",
      "  result = getattr(ufunc, method)(*inputs, **kwargs)\n",
      "C:\\Users\\vfgtr554\\anaconda3\\envs\\cctv\\lib\\site-packages\\statsmodels\\base\\model.py:606: ConvergenceWarning: Maximum Likelihood optimization failed to converge. Check mle_retvals\n",
      "  ConvergenceWarning)\n"
     ]
    },
    {
     "name": "stdout",
     "output_type": "stream",
     "text": [
      "Predict Finish, 26.7557 26.5689 0.9632 0.0358 Evaluation Finish\n",
      "56: Data Load Finish, Predict Finish, 11.3486 10.8739 0.4131 0.591 Evaluation Finish\n",
      "57: Data Load Finish, Predict Finish, 4.7033 3.7725 0.1501 0.8305 Evaluation Finish\n",
      "58: Data Load Finish, Predict Finish, 15.9209 15.5761 0.586 0.4263 Evaluation Finish\n",
      "59: Data Load Finish, Predict Finish, 7.3414 6.6111 0.2563 0.7354 Evaluation Finish\n",
      "60: Data Load Finish, Predict Finish, 6.7251 5.9241 0.231 0.7576 Evaluation Finish\n",
      "61: Data Load Finish, Predict Finish, 7.6533 6.9485 0.242 0.7242 Evaluation Finish\n",
      "62: Data Load Finish, Predict Finish, 6.4108 5.5158 0.216 0.769 Evaluation Finish\n",
      "63: Data Load Finish, Predict Finish, 4.915 4.0224 0.1591 0.8229 Evaluation Finish\n",
      "64: Data Load Finish, Predict Finish, 6.9928 6.1912 0.2404 0.748 Evaluation Finish\n",
      "65: Data Load Finish, Predict Finish, 8.1075 7.1477 0.2498 0.7078 Evaluation Finish\n",
      "66: Data Load Finish, Predict Finish, 3.266 2.9622 0.1055 0.8823 Evaluation Finish\n",
      "67: Data Load Finish, Predict Finish, 7.202 6.42 0.2229 0.7405 Evaluation Finish\n",
      "68: Data Load Finish, Predict Finish, 3.7468 3.1631 0.1097 0.865 Evaluation Finish\n",
      "69: Data Load Finish, Predict Finish, 15.4366 15.1104 0.5686 0.4437 Evaluation Finish\n",
      "70: Data Load Finish, "
     ]
    },
    {
     "name": "stderr",
     "output_type": "stream",
     "text": [
      "C:\\Users\\vfgtr554\\anaconda3\\envs\\cctv\\lib\\site-packages\\pandas\\core\\arraylike.py:364: RuntimeWarning: divide by zero encountered in log\n",
      "  result = getattr(ufunc, method)(*inputs, **kwargs)\n",
      "C:\\Users\\vfgtr554\\anaconda3\\envs\\cctv\\lib\\site-packages\\statsmodels\\base\\model.py:606: ConvergenceWarning: Maximum Likelihood optimization failed to converge. Check mle_retvals\n",
      "  ConvergenceWarning)\n"
     ]
    },
    {
     "name": "stdout",
     "output_type": "stream",
     "text": [
      "Predict Finish, 26.7557 26.5689 0.9632 0.0358 Evaluation Finish\n",
      "71: Data Load Finish, Predict Finish, 30.2464 30.0256 1.1178 -0.09 Evaluation Finish\n",
      "72: Data Load Finish, Predict Finish, 30.1789 30.0102 1.1163 -0.0876 Evaluation Finish\n",
      "73: Data Load Finish, Predict Finish, 28.3319 28.0643 1.0453 -0.021 Evaluation Finish\n",
      "74: Data Load Finish, Predict Finish, 30.4687 30.3046 1.127 -0.098 Evaluation Finish\n",
      "75: Data Load Finish, Predict Finish, 15.5725 15.249 0.5737 0.4388 Evaluation Finish\n",
      "76: Data Load Finish, Predict Finish, 9.0859 8.4982 0.3257 0.6726 Evaluation Finish\n",
      "77: Data Load Finish, Predict Finish, 3.8079 3.1105 0.106 0.8628 Evaluation Finish\n",
      "78: Data Load Finish, Predict Finish, 3.2267 2.9318 0.1072 0.8837 Evaluation Finish\n",
      "79: Data Load Finish, Predict Finish, 4.8847 3.504 0.119 0.824 Evaluation Finish\n",
      "80: Data Load Finish, Predict Finish, 3.4326 2.8213 0.1014 0.8763 Evaluation Finish\n",
      "81: Data Load Finish, Predict Finish, 11.0939 10.632 0.3775 0.6002 Evaluation Finish\n",
      "82: Data Load Finish, Predict Finish, 9.1482 8.5592 0.328 0.6703 Evaluation Finish\n",
      "83: Data Load Finish, "
     ]
    },
    {
     "name": "stderr",
     "output_type": "stream",
     "text": [
      "C:\\Users\\vfgtr554\\anaconda3\\envs\\cctv\\lib\\site-packages\\pandas\\core\\arraylike.py:364: RuntimeWarning: divide by zero encountered in log\n",
      "  result = getattr(ufunc, method)(*inputs, **kwargs)\n",
      "C:\\Users\\vfgtr554\\anaconda3\\envs\\cctv\\lib\\site-packages\\statsmodels\\base\\model.py:606: ConvergenceWarning: Maximum Likelihood optimization failed to converge. Check mle_retvals\n",
      "  ConvergenceWarning)\n"
     ]
    },
    {
     "name": "stdout",
     "output_type": "stream",
     "text": [
      "Predict Finish, 26.7557 26.5689 0.9632 0.0358 Evaluation Finish\n",
      "84: Data Load Finish, Predict Finish, 13.0791 12.685 0.4795 0.5287 Evaluation Finish\n",
      "85: Data Load Finish, Predict Finish, 20.5197 20.2467 0.7577 0.2605 Evaluation Finish\n",
      "86: Data Load Finish, Predict Finish, 7.127 6.3024 0.245 0.7432 Evaluation Finish\n",
      "87: Data Load Finish, "
     ]
    },
    {
     "name": "stderr",
     "output_type": "stream",
     "text": [
      "C:\\Users\\vfgtr554\\anaconda3\\envs\\cctv\\lib\\site-packages\\pandas\\core\\arraylike.py:364: RuntimeWarning: divide by zero encountered in log\n",
      "  result = getattr(ufunc, method)(*inputs, **kwargs)\n",
      "C:\\Users\\vfgtr554\\anaconda3\\envs\\cctv\\lib\\site-packages\\statsmodels\\base\\model.py:606: ConvergenceWarning: Maximum Likelihood optimization failed to converge. Check mle_retvals\n",
      "  ConvergenceWarning)\n"
     ]
    },
    {
     "name": "stdout",
     "output_type": "stream",
     "text": [
      "Predict Finish, 26.7557 26.5689 0.9632 0.0358 Evaluation Finish\n",
      "88: Data Load Finish, Predict Finish, 3.644 3.1543 0.1224 0.8687 Evaluation Finish\n",
      "89: Data Load Finish, "
     ]
    },
    {
     "name": "stderr",
     "output_type": "stream",
     "text": [
      "C:\\Users\\vfgtr554\\anaconda3\\envs\\cctv\\lib\\site-packages\\statsmodels\\base\\model.py:606: ConvergenceWarning: Maximum Likelihood optimization failed to converge. Check mle_retvals\n",
      "  ConvergenceWarning)\n"
     ]
    },
    {
     "name": "stdout",
     "output_type": "stream",
     "text": [
      "Predict Finish, 3.1968 2.9304 0.1094 0.8848 Evaluation Finish\n",
      "90: Data Load Finish, Predict Finish, 9.7685 9.2387 0.3529 0.648 Evaluation Finish\n",
      "91: Data Load Finish, Predict Finish, 11.0814 10.6285 0.4038 0.6007 Evaluation Finish\n",
      "92: Data Load Finish, Predict Finish, 3.4442 3.0168 0.1165 0.8759 Evaluation Finish\n",
      "93: Data Load Finish, Predict Finish, 3.7376 3.1435 0.1087 0.8653 Evaluation Finish\n",
      "94: Data Load Finish, Predict Finish, 3.5665 3.0271 0.117 0.8715 Evaluation Finish\n",
      "95: Data Load Finish, Predict Finish, 5.2384 4.156 0.1394 0.8112 Evaluation Finish\n",
      "96: Data Load Finish, Predict Finish, 4.8974 4.0092 0.1584 0.8235 Evaluation Finish\n",
      "97: Data Load Finish, "
     ]
    },
    {
     "name": "stderr",
     "output_type": "stream",
     "text": [
      "C:\\Users\\vfgtr554\\anaconda3\\envs\\cctv\\lib\\site-packages\\statsmodels\\base\\model.py:606: ConvergenceWarning: Maximum Likelihood optimization failed to converge. Check mle_retvals\n",
      "  ConvergenceWarning)\n"
     ]
    },
    {
     "name": "stdout",
     "output_type": "stream",
     "text": [
      "Predict Finish, 5.6167 4.7654 0.1866 0.7976 Evaluation Finish\n",
      "98: Data Load Finish, Predict Finish, 4.5977 3.8403 0.1359 0.8343 Evaluation Finish\n",
      "99: Data Load Finish, Predict Finish, 6.594 5.6801 0.2204 0.7624 Evaluation Finish\n",
      "100: Data Load Finish, Predict Finish, 4.9258 3.6596 0.1215 0.8225 Evaluation Finish\n",
      "101: Data Load Finish, Predict Finish, 8.1955 7.5872 0.2919 0.7047 Evaluation Finish\n",
      "102: Data Load Finish, Predict Finish, 10.1835 9.694 0.3433 0.633 Evaluation Finish\n",
      "103: Data Load Finish, "
     ]
    },
    {
     "name": "stderr",
     "output_type": "stream",
     "text": [
      "C:\\Users\\vfgtr554\\anaconda3\\envs\\cctv\\lib\\site-packages\\statsmodels\\base\\model.py:606: ConvergenceWarning: Maximum Likelihood optimization failed to converge. Check mle_retvals\n",
      "  ConvergenceWarning)\n"
     ]
    },
    {
     "name": "stdout",
     "output_type": "stream",
     "text": [
      "Predict Finish, 3.5383 3.136 0.1202 0.8725 Evaluation Finish\n",
      "104: Data Load Finish, Predict Finish, 3.1008 2.8643 0.1038 0.8883 Evaluation Finish\n",
      "105: Data Load Finish, Predict Finish, 3.9493 3.2134 0.1092 0.8577 Evaluation Finish\n",
      "106: Data Load Finish, "
     ]
    },
    {
     "name": "stderr",
     "output_type": "stream",
     "text": [
      "C:\\Users\\vfgtr554\\anaconda3\\envs\\cctv\\lib\\site-packages\\pandas\\core\\arraylike.py:364: RuntimeWarning: divide by zero encountered in log\n",
      "  result = getattr(ufunc, method)(*inputs, **kwargs)\n",
      "C:\\Users\\vfgtr554\\anaconda3\\envs\\cctv\\lib\\site-packages\\statsmodels\\base\\model.py:606: ConvergenceWarning: Maximum Likelihood optimization failed to converge. Check mle_retvals\n",
      "  ConvergenceWarning)\n"
     ]
    },
    {
     "name": "stdout",
     "output_type": "stream",
     "text": [
      "Predict Finish, 26.7557 26.5689 0.9632 0.0358 Evaluation Finish\n",
      "107: Data Load Finish, Predict Finish, 6.1352 5.3207 0.2083 0.7789 Evaluation Finish\n",
      "108: Data Load Finish, Predict Finish, 6.0076 5.1167 0.1748 0.7835 Evaluation Finish\n",
      "109: Data Load Finish, Predict Finish, 5.3997 4.3878 0.1483 0.8054 Evaluation Finish\n",
      "110: Data Load Finish, Predict Finish, 3.1903 2.9104 0.1074 0.885 Evaluation Finish\n",
      "111: Data Load Finish, Predict Finish, 3.9012 3.0774 0.1108 0.8594 Evaluation Finish\n",
      "112: Data Load Finish, Predict Finish, 3.8133 3.0647 0.1047 0.8626 Evaluation Finish\n",
      "113: Data Load Finish, Predict Finish, 5.8875 4.9665 0.1693 0.7878 Evaluation Finish\n",
      "114: Data Load Finish, Predict Finish, 3.534 3.0433 0.1057 0.8726 Evaluation Finish\n",
      "115: Data Load Finish, Predict Finish, 4.4368 3.4439 0.115 0.8401 Evaluation Finish\n",
      "116: Data Load Finish, Predict Finish, 5.0608 4.1282 0.1639 0.8176 Evaluation Finish\n",
      "117: Data Load Finish, Predict Finish, 13.0871 12.6811 0.4793 0.5284 Evaluation Finish\n",
      "118: "
     ]
    },
    {
     "name": "stderr",
     "output_type": "stream",
     "text": [
      "C:\\Users\\vfgtr554\\anaconda3\\envs\\cctv\\lib\\site-packages\\pandas\\core\\arraylike.py:364: RuntimeWarning: divide by zero encountered in log\n",
      "  result = getattr(ufunc, method)(*inputs, **kwargs)\n"
     ]
    },
    {
     "name": "stdout",
     "output_type": "stream",
     "text": [
      "Data Load Finish, "
     ]
    },
    {
     "name": "stderr",
     "output_type": "stream",
     "text": [
      "C:\\Users\\vfgtr554\\anaconda3\\envs\\cctv\\lib\\site-packages\\statsmodels\\base\\model.py:606: ConvergenceWarning: Maximum Likelihood optimization failed to converge. Check mle_retvals\n",
      "  ConvergenceWarning)\n"
     ]
    },
    {
     "name": "stdout",
     "output_type": "stream",
     "text": [
      "Predict Finish, 26.7557 26.5689 0.9632 0.0358 Evaluation Finish\n",
      "119: Data Load Finish, Predict Finish, 6.5044 5.7132 0.2229 0.7656 Evaluation Finish\n",
      "120: Data Load Finish, Predict Finish, 3.4708 3.0345 0.1063 0.8749 Evaluation Finish\n",
      "121: Data Load Finish, Predict Finish, 5.7385 4.771 0.162 0.7932 Evaluation Finish\n",
      "122: Data Load Finish, "
     ]
    },
    {
     "name": "stderr",
     "output_type": "stream",
     "text": [
      "C:\\Users\\vfgtr554\\anaconda3\\envs\\cctv\\lib\\site-packages\\pandas\\core\\arraylike.py:364: RuntimeWarning: divide by zero encountered in log\n",
      "  result = getattr(ufunc, method)(*inputs, **kwargs)\n",
      "C:\\Users\\vfgtr554\\anaconda3\\envs\\cctv\\lib\\site-packages\\statsmodels\\base\\model.py:606: ConvergenceWarning: Maximum Likelihood optimization failed to converge. Check mle_retvals\n",
      "  ConvergenceWarning)\n"
     ]
    },
    {
     "name": "stdout",
     "output_type": "stream",
     "text": [
      "Predict Finish, 26.7557 26.5689 0.9632 0.0358 Evaluation Finish\n",
      "123: Data Load Finish, Predict Finish, 7.3998 6.6791 0.2324 0.7333 Evaluation Finish\n",
      "124: Data Load Finish, Predict Finish, 9.4853 8.9451 0.3155 0.6582 Evaluation Finish\n",
      "125: Data Load Finish, "
     ]
    },
    {
     "name": "stderr",
     "output_type": "stream",
     "text": [
      "C:\\Users\\vfgtr554\\anaconda3\\envs\\cctv\\lib\\site-packages\\pandas\\core\\arraylike.py:364: RuntimeWarning: divide by zero encountered in log\n",
      "  result = getattr(ufunc, method)(*inputs, **kwargs)\n",
      "C:\\Users\\vfgtr554\\anaconda3\\envs\\cctv\\lib\\site-packages\\statsmodels\\base\\model.py:606: ConvergenceWarning: Maximum Likelihood optimization failed to converge. Check mle_retvals\n",
      "  ConvergenceWarning)\n"
     ]
    },
    {
     "name": "stdout",
     "output_type": "stream",
     "text": [
      "Predict Finish, 26.7557 26.5689 0.9632 0.0358 Evaluation Finish\n",
      "126: Data Load Finish, Predict Finish, 6.7064 5.8708 0.2026 0.7583 Evaluation Finish\n",
      "127: Data Load Finish, Predict Finish, 8.2137 7.5414 0.2642 0.704 Evaluation Finish\n",
      "128: Data Load Finish, Predict Finish, 7.5717 6.8554 0.2388 0.7271 Evaluation Finish\n",
      "129: Data Load Finish, Predict Finish, 3.7561 3.0988 0.106 0.8646 Evaluation Finish\n",
      "130: Data Load Finish, Predict Finish, 3.3563 2.9152 0.1054 0.879 Evaluation Finish\n",
      "131: Data Load Finish, Predict Finish, 3.2565 2.866 0.107 0.8826 Evaluation Finish\n",
      "132: "
     ]
    },
    {
     "name": "stderr",
     "output_type": "stream",
     "text": [
      "C:\\Users\\vfgtr554\\anaconda3\\envs\\cctv\\lib\\site-packages\\pandas\\core\\arraylike.py:364: RuntimeWarning: divide by zero encountered in log\n",
      "  result = getattr(ufunc, method)(*inputs, **kwargs)\n"
     ]
    },
    {
     "name": "stdout",
     "output_type": "stream",
     "text": [
      "Data Load Finish, "
     ]
    },
    {
     "name": "stderr",
     "output_type": "stream",
     "text": [
      "C:\\Users\\vfgtr554\\anaconda3\\envs\\cctv\\lib\\site-packages\\statsmodels\\base\\model.py:606: ConvergenceWarning: Maximum Likelihood optimization failed to converge. Check mle_retvals\n",
      "  ConvergenceWarning)\n",
      "C:\\Users\\vfgtr554\\anaconda3\\envs\\cctv\\lib\\site-packages\\pandas\\core\\arraylike.py:364: RuntimeWarning: divide by zero encountered in log\n",
      "  result = getattr(ufunc, method)(*inputs, **kwargs)\n"
     ]
    },
    {
     "name": "stdout",
     "output_type": "stream",
     "text": [
      "Predict Finish, 26.7557 26.5689 0.9632 0.0358 Evaluation Finish\n",
      "133: Data Load Finish, "
     ]
    },
    {
     "name": "stderr",
     "output_type": "stream",
     "text": [
      "C:\\Users\\vfgtr554\\anaconda3\\envs\\cctv\\lib\\site-packages\\statsmodels\\base\\model.py:606: ConvergenceWarning: Maximum Likelihood optimization failed to converge. Check mle_retvals\n",
      "  ConvergenceWarning)\n"
     ]
    },
    {
     "name": "stdout",
     "output_type": "stream",
     "text": [
      "Predict Finish, 26.7557 26.5689 0.9632 0.0358 Evaluation Finish\n",
      "134: Data Load Finish, Predict Finish, 9.6375 9.1072 0.3216 0.6527 Evaluation Finish\n",
      "135: Data Load Finish, Predict Finish, 5.0104 4.2033 0.1441 0.8194 Evaluation Finish\n",
      "136: Data Load Finish, Predict Finish, 8.9467 8.3569 0.2941 0.6776 Evaluation Finish\n",
      "137: Data Load Finish, Predict Finish, 5.4167 4.4028 0.1486 0.8048 Evaluation Finish\n",
      "138: "
     ]
    },
    {
     "name": "stderr",
     "output_type": "stream",
     "text": [
      "C:\\Users\\vfgtr554\\anaconda3\\envs\\cctv\\lib\\site-packages\\pandas\\core\\arraylike.py:364: RuntimeWarning: divide by zero encountered in log\n",
      "  result = getattr(ufunc, method)(*inputs, **kwargs)\n"
     ]
    },
    {
     "name": "stdout",
     "output_type": "stream",
     "text": [
      "Data Load Finish, "
     ]
    },
    {
     "name": "stderr",
     "output_type": "stream",
     "text": [
      "C:\\Users\\vfgtr554\\anaconda3\\envs\\cctv\\lib\\site-packages\\statsmodels\\base\\model.py:606: ConvergenceWarning: Maximum Likelihood optimization failed to converge. Check mle_retvals\n",
      "  ConvergenceWarning)\n"
     ]
    },
    {
     "name": "stdout",
     "output_type": "stream",
     "text": [
      "Predict Finish, 26.7557 26.5689 0.9632 0.0358 Evaluation Finish\n",
      "139: Data Load Finish, Predict Finish, 4.42 3.5151 0.1182 0.8407 Evaluation Finish\n",
      "140: Data Load Finish, "
     ]
    },
    {
     "name": "stderr",
     "output_type": "stream",
     "text": [
      "C:\\Users\\vfgtr554\\anaconda3\\envs\\cctv\\lib\\site-packages\\pandas\\core\\arraylike.py:364: RuntimeWarning: divide by zero encountered in log\n",
      "  result = getattr(ufunc, method)(*inputs, **kwargs)\n",
      "C:\\Users\\vfgtr554\\anaconda3\\envs\\cctv\\lib\\site-packages\\statsmodels\\base\\model.py:606: ConvergenceWarning: Maximum Likelihood optimization failed to converge. Check mle_retvals\n",
      "  ConvergenceWarning)\n"
     ]
    },
    {
     "name": "stdout",
     "output_type": "stream",
     "text": [
      "Predict Finish, 26.7557 26.5689 0.9632 0.0358 Evaluation Finish\n",
      "141: Data Load Finish, Predict Finish, 4.6742 3.554 0.1181 0.8316 Evaluation Finish\n",
      "142: Data Load Finish, Predict Finish, 5.7424 4.798 0.1632 0.7931 Evaluation Finish\n",
      "143: Data Load Finish, Predict Finish, 4.9536 3.8513 0.1285 0.8215 Evaluation Finish\n",
      "144: Data Load Finish, Predict Finish, 16.2288 15.9119 0.5982 0.4152 Evaluation Finish\n",
      "145: Data Load Finish, Predict Finish, 32.1023 31.9461 1.1874 -0.1569 Evaluation Finish\n",
      "146: Data Load Finish, Predict Finish, 3.5543 3.0856 0.1193 0.8719 Evaluation Finish\n",
      "147: Data Load Finish, Predict Finish, 4.2761 3.3227 0.1326 0.8459 Evaluation Finish\n",
      "148: Data Load Finish, Predict Finish, 9.1649 8.6041 0.303 0.6697 Evaluation Finish\n",
      "149: Data Load Finish, Predict Finish, 4.7996 4.0804 0.1417 0.827 Evaluation Finish\n",
      "150: Data Load Finish, Predict Finish, 5.6375 4.7283 0.1612 0.7968 Evaluation Finish\n",
      "151: Data Load Finish, Predict Finish, 4.7889 3.838 0.1295 0.8274 Evaluation Finish\n",
      "152: Data Load Finish, Predict Finish, 5.9737 5.0345 0.1716 0.7847 Evaluation Finish\n",
      "153: Data Load Finish, Predict Finish, 4.075 3.0862 0.107 0.8531 Evaluation Finish\n",
      "154: Data Load Finish, "
     ]
    },
    {
     "name": "stderr",
     "output_type": "stream",
     "text": [
      "C:\\Users\\vfgtr554\\anaconda3\\envs\\cctv\\lib\\site-packages\\pandas\\core\\arraylike.py:364: RuntimeWarning: divide by zero encountered in log\n",
      "  result = getattr(ufunc, method)(*inputs, **kwargs)\n",
      "C:\\Users\\vfgtr554\\anaconda3\\envs\\cctv\\lib\\site-packages\\statsmodels\\base\\model.py:606: ConvergenceWarning: Maximum Likelihood optimization failed to converge. Check mle_retvals\n",
      "  ConvergenceWarning)\n"
     ]
    },
    {
     "name": "stdout",
     "output_type": "stream",
     "text": [
      "Predict Finish, 26.7557 26.5689 0.9632 0.0358 Evaluation Finish\n",
      "155: Data Load Finish, Predict Finish, 3.1048 2.8619 0.1046 0.8881 Evaluation Finish\n",
      "156: Data Load Finish, Predict Finish, 4.1567 3.3202 0.1119 0.8502 Evaluation Finish\n",
      "157: Data Load Finish, Predict Finish, 5.2595 4.3342 0.1478 0.8105 Evaluation Finish\n",
      "158: Data Load Finish, Predict Finish, 6.3195 5.4258 0.1859 0.7723 Evaluation Finish\n",
      "159: Data Load Finish, Predict Finish, 7.8267 7.1751 0.2511 0.7179 Evaluation Finish\n",
      "160: Data Load Finish, Predict Finish, 7.1872 6.2879 0.2179 0.741 Evaluation Finish\n",
      "161: Data Load Finish, Predict Finish, 5.8692 4.6869 0.1584 0.7885 Evaluation Finish\n",
      "162: Data Load Finish, Predict Finish, 6.8919 5.9497 0.2054 0.7516 Evaluation Finish\n",
      "163: Data Load Finish, Predict Finish, 3.7746 3.181 0.1097 0.864 Evaluation Finish\n",
      "164: Data Load Finish, Predict Finish, 3.1894 2.9125 0.1076 0.8851 Evaluation Finish\n",
      "165: Data Load Finish, Predict Finish, 3.2072 2.9415 0.1063 0.8844 Evaluation Finish\n",
      "166: Data Load Finish, Predict Finish, 9.2257 8.6534 0.3314 0.6675 Evaluation Finish\n",
      "167: Data Load Finish, Predict Finish, 11.6983 11.2491 0.4268 0.5784 Evaluation Finish\n",
      "168: Data Load Finish, Predict Finish, 25.7877 25.5852 0.9537 0.0707 Evaluation Finish\n",
      "169: Data Load Finish, Predict Finish, 10.3794 9.8075 0.3741 0.626 Evaluation Finish\n",
      "170: Data Load Finish, Predict Finish, 4.3715 3.5373 0.1198 0.8425 Evaluation Finish\n",
      "171: Data Load Finish, Predict Finish, 5.853 4.9057 0.1935 0.7891 Evaluation Finish\n",
      "172: Data Load Finish, Predict Finish, 4.084 3.3647 0.1154 0.8528 Evaluation Finish\n",
      "173: Data Load Finish, Predict Finish, 4.6723 3.7983 0.1479 0.8316 Evaluation Finish\n",
      "174: Data Load Finish, Predict Finish, 3.5725 2.9092 0.1146 0.8713 Evaluation Finish\n",
      "175: Data Load Finish, Predict Finish, 8.266 7.6898 0.2953 0.7021 Evaluation Finish\n",
      "176: Data Load Finish, Predict Finish, 8.7468 8.139 0.286 0.6848 Evaluation Finish\n",
      "177: Data Load Finish, Predict Finish, 18.0498 17.7766 0.6664 0.3495 Evaluation Finish\n",
      "178: Data Load Finish, Predict Finish, 3.7098 3.109 0.107 0.8663 Evaluation Finish\n",
      "179: Data Load Finish, Predict Finish, 3.6515 3.0643 0.1199 0.8684 Evaluation Finish\n",
      "180: Data Load Finish, Predict Finish, 18.5081 18.1892 0.6812 0.333 Evaluation Finish\n",
      "181: Data Load Finish, Predict Finish, 5.238 4.2098 0.1416 0.8112 Evaluation Finish\n",
      "182: Data Load Finish, Predict Finish, 4.8752 3.7653 0.1254 0.8243 Evaluation Finish\n",
      "183: Data Load Finish, Predict Finish, 4.7705 3.6599 0.1217 0.8281 Evaluation Finish\n",
      "184: Data Load Finish, Predict Finish, 3.5457 3.028 0.1051 0.8722 Evaluation Finish\n",
      "185: Data Load Finish, Predict Finish, 5.6101 4.4649 0.1507 0.7978 Evaluation Finish\n",
      "186: Data Load Finish, Predict Finish, 5.8413 4.8828 0.1674 0.7895 Evaluation Finish\n",
      "187: Data Load Finish, "
     ]
    },
    {
     "name": "stderr",
     "output_type": "stream",
     "text": [
      "C:\\Users\\vfgtr554\\anaconda3\\envs\\cctv\\lib\\site-packages\\pandas\\core\\arraylike.py:364: RuntimeWarning: divide by zero encountered in log\n",
      "  result = getattr(ufunc, method)(*inputs, **kwargs)\n",
      "C:\\Users\\vfgtr554\\anaconda3\\envs\\cctv\\lib\\site-packages\\statsmodels\\base\\model.py:606: ConvergenceWarning: Maximum Likelihood optimization failed to converge. Check mle_retvals\n",
      "  ConvergenceWarning)\n"
     ]
    },
    {
     "name": "stdout",
     "output_type": "stream",
     "text": [
      "Predict Finish, 26.7557 26.5689 0.9632 0.0358 Evaluation Finish\n",
      "188: Data Load Finish, Predict Finish, 3.1256 2.8735 0.1051 0.8874 Evaluation Finish\n",
      "189: Data Load Finish, Predict Finish, 3.1486 2.8972 0.1058 0.8865 Evaluation Finish\n",
      "190: Data Load Finish, Predict Finish, 5.6663 4.7024 0.1596 0.7958 Evaluation Finish\n",
      "191: Data Load Finish, Predict Finish, 3.6822 3.1017 0.107 0.8673 Evaluation Finish\n",
      "192: Data Load Finish, Predict Finish, 5.9542 5.0307 0.1716 0.7854 Evaluation Finish\n",
      "193: Data Load Finish, Predict Finish, 14.8134 14.4752 0.5189 0.4662 Evaluation Finish\n",
      "194: Data Load Finish, Predict Finish, 4.3225 3.525 0.1198 0.8442 Evaluation Finish\n",
      "195: Data Load Finish, Predict Finish, 4.8665 3.7779 0.126 0.8246 Evaluation Finish\n",
      "196: Data Load Finish, "
     ]
    },
    {
     "name": "stderr",
     "output_type": "stream",
     "text": [
      "C:\\Users\\vfgtr554\\anaconda3\\envs\\cctv\\lib\\site-packages\\pandas\\core\\arraylike.py:364: RuntimeWarning: divide by zero encountered in log\n",
      "  result = getattr(ufunc, method)(*inputs, **kwargs)\n",
      "C:\\Users\\vfgtr554\\anaconda3\\envs\\cctv\\lib\\site-packages\\statsmodels\\base\\model.py:606: ConvergenceWarning: Maximum Likelihood optimization failed to converge. Check mle_retvals\n",
      "  ConvergenceWarning)\n"
     ]
    },
    {
     "name": "stdout",
     "output_type": "stream",
     "text": [
      "Predict Finish, 26.7557 26.5689 0.9632 0.0358 Evaluation Finish\n",
      "197: Data Load Finish, Predict Finish, 5.145 4.0663 0.1362 0.8146 Evaluation Finish\n",
      "198: Data Load Finish, Predict Finish, 3.8223 3.0914 0.1052 0.8623 Evaluation Finish\n",
      "199: Data Load Finish, Predict Finish, 7.3239 6.5956 0.2292 0.7361 Evaluation Finish\n",
      "200: Data Load Finish, Predict Finish, 3.485 3.0348 0.1059 0.8744 Evaluation Finish\n",
      "201: Data Load Finish, Predict Finish, 6.651 5.6694 0.1948 0.7603 Evaluation Finish\n",
      "202: Data Load Finish, Predict Finish, 4.6361 3.5249 0.1176 0.8329 Evaluation Finish\n",
      "203: Data Load Finish, Predict Finish, 9.8843 9.2229 0.3248 0.6438 Evaluation Finish\n",
      "204: Data Load Finish, Predict Finish, 5.5056 4.5097 0.1525 0.8016 Evaluation Finish\n",
      "205: Data Load Finish, "
     ]
    },
    {
     "name": "stderr",
     "output_type": "stream",
     "text": [
      "C:\\Users\\vfgtr554\\anaconda3\\envs\\cctv\\lib\\site-packages\\pandas\\core\\arraylike.py:364: RuntimeWarning: divide by zero encountered in log\n",
      "  result = getattr(ufunc, method)(*inputs, **kwargs)\n",
      "C:\\Users\\vfgtr554\\anaconda3\\envs\\cctv\\lib\\site-packages\\statsmodels\\base\\model.py:606: ConvergenceWarning: Maximum Likelihood optimization failed to converge. Check mle_retvals\n",
      "  ConvergenceWarning)\n"
     ]
    },
    {
     "name": "stdout",
     "output_type": "stream",
     "text": [
      "Predict Finish, 26.7557 26.5689 0.9632 0.0358 Evaluation Finish\n",
      "206: Data Load Finish, Predict Finish, 9.9813 9.467 0.3349 0.6403 Evaluation Finish\n",
      "207: Data Load Finish, Predict Finish, 5.6185 4.6338 0.157 0.7975 Evaluation Finish\n",
      "208: Data Load Finish, Predict Finish, 9.9518 9.4591 0.3349 0.6414 Evaluation Finish\n",
      "209: Data Load Finish, Predict Finish, 6.3581 5.5247 0.2158 0.7709 Evaluation Finish\n",
      "210: Data Load Finish, Predict Finish, 3.4213 3.0066 0.1053 0.8767 Evaluation Finish\n",
      "211: Data Load Finish, Predict Finish, 4.956 4.035 0.1602 0.8214 Evaluation Finish\n",
      "212: Data Load Finish, Predict Finish, 3.2697 2.9664 0.1075 0.8822 Evaluation Finish\n",
      "213: Data Load Finish, Predict Finish, 14.898 14.5315 0.5472 0.4631 Evaluation Finish\n",
      "214: Data Load Finish, Predict Finish, 11.8068 11.3791 0.405 0.5745 Evaluation Finish\n",
      "215: Data Load Finish, Predict Finish, 7.0068 6.2547 0.2166 0.7475 Evaluation Finish\n",
      "216: Data Load Finish, Predict Finish, 3.6195 3.053 0.1053 0.8696 Evaluation Finish\n",
      "217: Data Load Finish, "
     ]
    },
    {
     "name": "stderr",
     "output_type": "stream",
     "text": [
      "C:\\Users\\vfgtr554\\anaconda3\\envs\\cctv\\lib\\site-packages\\pandas\\core\\arraylike.py:364: RuntimeWarning: divide by zero encountered in log\n",
      "  result = getattr(ufunc, method)(*inputs, **kwargs)\n",
      "C:\\Users\\vfgtr554\\anaconda3\\envs\\cctv\\lib\\site-packages\\statsmodels\\base\\model.py:606: ConvergenceWarning: Maximum Likelihood optimization failed to converge. Check mle_retvals\n",
      "  ConvergenceWarning)\n"
     ]
    },
    {
     "name": "stdout",
     "output_type": "stream",
     "text": [
      "Predict Finish, 26.7557 26.5689 0.9632 0.0358 Evaluation Finish\n",
      "218: Data Load Finish, Predict Finish, 7.3743 6.6473 0.2313 0.7342 Evaluation Finish\n",
      "219: Data Load Finish, Predict Finish, 5.5409 4.556 0.1807 0.8003 Evaluation Finish\n",
      "220: Data Load Finish, Predict Finish, 7.6404 6.894 0.2667 0.7247 Evaluation Finish\n",
      "221: Data Load Finish, Predict Finish, 3.4327 2.9869 0.1118 0.8763 Evaluation Finish\n",
      "222: Data Load Finish, Predict Finish, 4.1572 3.3248 0.112 0.8502 Evaluation Finish\n",
      "223: Data Load Finish, Predict Finish, 3.5892 2.9854 0.1152 0.8707 Evaluation Finish\n",
      "224: Data Load Finish, "
     ]
    },
    {
     "name": "stderr",
     "output_type": "stream",
     "text": [
      "C:\\Users\\vfgtr554\\anaconda3\\envs\\cctv\\lib\\site-packages\\pandas\\core\\arraylike.py:364: RuntimeWarning: divide by zero encountered in log\n",
      "  result = getattr(ufunc, method)(*inputs, **kwargs)\n",
      "C:\\Users\\vfgtr554\\anaconda3\\envs\\cctv\\lib\\site-packages\\statsmodels\\base\\model.py:606: ConvergenceWarning: Maximum Likelihood optimization failed to converge. Check mle_retvals\n",
      "  ConvergenceWarning)\n"
     ]
    },
    {
     "name": "stdout",
     "output_type": "stream",
     "text": [
      "Predict Finish, 26.7557 26.5689 0.9632 0.0358 Evaluation Finish\n",
      "225: Data Load Finish, Predict Finish, 3.4381 3.0128 0.1146 0.8761 Evaluation Finish\n",
      "226: Data Load Finish, Predict Finish, 3.708 2.9853 0.1078 0.8664 Evaluation Finish\n",
      "227: Data Load Finish, Predict Finish, 6.2335 5.2547 0.1799 0.7754 Evaluation Finish\n",
      "228: Data Load Finish, Predict Finish, 6.5693 5.6158 0.193 0.7633 Evaluation Finish\n",
      "229: Data Load Finish, Predict Finish, 14.0072 13.6288 0.5144 0.4952 Evaluation Finish\n",
      "230: Data Load Finish, Predict Finish, 3.8762 3.1646 0.1077 0.8603 Evaluation Finish\n",
      "231: Data Load Finish, Predict Finish, 3.4178 3.0446 0.1077 0.8768 Evaluation Finish\n",
      "232: Data Load Finish, Predict Finish, 8.2279 7.5977 0.266 0.7035 Evaluation Finish\n",
      "233: Data Load Finish, Predict Finish, 3.5951 3.023 0.104 0.8704 Evaluation Finish\n",
      "234: Data Load Finish, Predict Finish, 3.1881 2.9276 0.1052 0.8851 Evaluation Finish\n",
      "235: Data Load Finish, Predict Finish, 16.008 15.6923 0.59 0.4231 Evaluation Finish\n",
      "236: Data Load Finish, Predict Finish, 5.1424 4.0484 0.1355 0.8147 Evaluation Finish\n",
      "237: Data Load Finish, Predict Finish, 4.7635 3.9188 0.1343 0.8283 Evaluation Finish\n",
      "238: Data Load Finish, Predict Finish, 5.3294 4.3263 0.146 0.8079 Evaluation Finish\n",
      "239: Data Load Finish, Predict Finish, 3.7755 3.1561 0.1082 0.8639 Evaluation Finish\n",
      "240: Data Load Finish, Predict Finish, 3.2994 2.9747 0.1056 0.8811 Evaluation Finish\n",
      "241: Data Load Finish, "
     ]
    },
    {
     "name": "stderr",
     "output_type": "stream",
     "text": [
      "C:\\Users\\vfgtr554\\anaconda3\\envs\\cctv\\lib\\site-packages\\statsmodels\\base\\model.py:606: ConvergenceWarning: Maximum Likelihood optimization failed to converge. Check mle_retvals\n",
      "  ConvergenceWarning)\n"
     ]
    },
    {
     "name": "stdout",
     "output_type": "stream",
     "text": [
      "Predict Finish, 3.8207 3.1564 0.1078 0.8623 Evaluation Finish\n",
      "242: Data Load Finish, Predict Finish, 4.8424 3.7587 0.1254 0.8255 Evaluation Finish\n",
      "243: Data Load Finish, Predict Finish, 20.8524 20.6025 0.7704 0.2485 Evaluation Finish\n",
      "244: Data Load Finish, Predict Finish, 9.7987 9.3046 0.3292 0.6469 Evaluation Finish\n",
      "245: Data Load Finish, "
     ]
    },
    {
     "name": "stderr",
     "output_type": "stream",
     "text": [
      "C:\\Users\\vfgtr554\\anaconda3\\envs\\cctv\\lib\\site-packages\\pandas\\core\\arraylike.py:364: RuntimeWarning: divide by zero encountered in log\n",
      "  result = getattr(ufunc, method)(*inputs, **kwargs)\n",
      "C:\\Users\\vfgtr554\\anaconda3\\envs\\cctv\\lib\\site-packages\\statsmodels\\base\\model.py:606: ConvergenceWarning: Maximum Likelihood optimization failed to converge. Check mle_retvals\n",
      "  ConvergenceWarning)\n"
     ]
    },
    {
     "name": "stdout",
     "output_type": "stream",
     "text": [
      "Predict Finish, 26.7557 26.5689 0.9632 0.0358 Evaluation Finish\n",
      "246: Data Load Finish, Predict Finish, 9.7622 8.4377 0.2982 0.6482 Evaluation Finish\n",
      "247: Data Load Finish, "
     ]
    },
    {
     "name": "stderr",
     "output_type": "stream",
     "text": [
      "C:\\Users\\vfgtr554\\anaconda3\\envs\\cctv\\lib\\site-packages\\pandas\\core\\arraylike.py:364: RuntimeWarning: divide by zero encountered in log\n",
      "  result = getattr(ufunc, method)(*inputs, **kwargs)\n",
      "C:\\Users\\vfgtr554\\anaconda3\\envs\\cctv\\lib\\site-packages\\statsmodels\\base\\model.py:606: ConvergenceWarning: Maximum Likelihood optimization failed to converge. Check mle_retvals\n",
      "  ConvergenceWarning)\n",
      "C:\\Users\\vfgtr554\\anaconda3\\envs\\cctv\\lib\\site-packages\\pandas\\core\\arraylike.py:364: RuntimeWarning: divide by zero encountered in log\n",
      "  result = getattr(ufunc, method)(*inputs, **kwargs)\n"
     ]
    },
    {
     "name": "stdout",
     "output_type": "stream",
     "text": [
      "Predict Finish, 26.7557 26.5689 0.9632 0.0358 Evaluation Finish\n",
      "248: Data Load Finish, "
     ]
    },
    {
     "name": "stderr",
     "output_type": "stream",
     "text": [
      "C:\\Users\\vfgtr554\\anaconda3\\envs\\cctv\\lib\\site-packages\\statsmodels\\base\\model.py:606: ConvergenceWarning: Maximum Likelihood optimization failed to converge. Check mle_retvals\n",
      "  ConvergenceWarning)\n"
     ]
    },
    {
     "name": "stdout",
     "output_type": "stream",
     "text": [
      "Predict Finish, 26.7557 26.5689 0.9632 0.0358 Evaluation Finish\n",
      "249: Data Load Finish, Predict Finish, 9.2057 8.6656 0.3055 0.6683 Evaluation Finish\n",
      "250: Data Load Finish, Predict Finish, 9.1118 8.5572 0.3014 0.6716 Evaluation Finish\n",
      "251: Data Load Finish, "
     ]
    },
    {
     "name": "stderr",
     "output_type": "stream",
     "text": [
      "C:\\Users\\vfgtr554\\anaconda3\\envs\\cctv\\lib\\site-packages\\pandas\\core\\arraylike.py:364: RuntimeWarning: divide by zero encountered in log\n",
      "  result = getattr(ufunc, method)(*inputs, **kwargs)\n",
      "C:\\Users\\vfgtr554\\anaconda3\\envs\\cctv\\lib\\site-packages\\statsmodels\\base\\model.py:606: ConvergenceWarning: Maximum Likelihood optimization failed to converge. Check mle_retvals\n",
      "  ConvergenceWarning)\n"
     ]
    },
    {
     "name": "stdout",
     "output_type": "stream",
     "text": [
      "Predict Finish, 26.7557 26.5689 0.9632 0.0358 Evaluation Finish\n",
      "252: Data Load Finish, "
     ]
    },
    {
     "name": "stderr",
     "output_type": "stream",
     "text": [
      "C:\\Users\\vfgtr554\\anaconda3\\envs\\cctv\\lib\\site-packages\\statsmodels\\base\\model.py:606: ConvergenceWarning: Maximum Likelihood optimization failed to converge. Check mle_retvals\n",
      "  ConvergenceWarning)\n"
     ]
    },
    {
     "name": "stdout",
     "output_type": "stream",
     "text": [
      "Predict Finish, 3.2621 3.0046 0.1124 0.8824 Evaluation Finish\n",
      "253: Data Load Finish, Predict Finish, 7.5479 6.8561 0.2387 0.728 Evaluation Finish\n",
      "254: Data Load Finish, Predict Finish, 4.6435 3.6933 0.1473 0.8327 Evaluation Finish\n",
      "255: Data Load Finish, Predict Finish, 8.4981 7.8904 0.2768 0.6938 Evaluation Finish\n",
      "256: Data Load Finish, Predict Finish, 6.1333 5.2028 0.1778 0.779 Evaluation Finish\n",
      "257: Data Load Finish, Predict Finish, 6.6455 5.8441 0.2281 0.7605 Evaluation Finish\n",
      "258: Data Load Finish, Predict Finish, 4.2237 3.4983 0.1203 0.8478 Evaluation Finish\n",
      "259: Data Load Finish, Predict Finish, 5.0941 4.1942 0.1662 0.8164 Evaluation Finish\n",
      "260: Data Load Finish, "
     ]
    },
    {
     "name": "stderr",
     "output_type": "stream",
     "text": [
      "C:\\Users\\vfgtr554\\anaconda3\\envs\\cctv\\lib\\site-packages\\pandas\\core\\arraylike.py:364: RuntimeWarning: divide by zero encountered in log\n",
      "  result = getattr(ufunc, method)(*inputs, **kwargs)\n",
      "C:\\Users\\vfgtr554\\anaconda3\\envs\\cctv\\lib\\site-packages\\statsmodels\\base\\model.py:606: ConvergenceWarning: Maximum Likelihood optimization failed to converge. Check mle_retvals\n",
      "  ConvergenceWarning)\n"
     ]
    },
    {
     "name": "stdout",
     "output_type": "stream",
     "text": [
      "Predict Finish, 26.7557 26.5689 0.9632 0.0358 Evaluation Finish\n",
      "261: Data Load Finish, Predict Finish, 3.7637 3.1363 0.1224 0.8644 Evaluation Finish\n",
      "262: Data Load Finish, Predict Finish, 4.2648 3.3272 0.1332 0.8463 Evaluation Finish\n",
      "263: Data Load Finish, Predict Finish, 3.3735 3.0127 0.1069 0.8784 Evaluation Finish\n",
      "264: Data Load Finish, Predict Finish, 5.745 4.828 0.1644 0.793 Evaluation Finish\n",
      "265: Data Load Finish, Predict Finish, 5.501 4.4815 0.1514 0.8018 Evaluation Finish\n",
      "266: Data Load Finish, Predict Finish, 10.1438 9.6259 0.3404 0.6344 Evaluation Finish\n",
      "267: Data Load Finish, Predict Finish, 3.9378 3.2941 0.1146 0.8581 Evaluation Finish\n",
      "268: Data Load Finish, Predict Finish, 5.3924 4.3646 0.1471 0.8057 Evaluation Finish\n",
      "269: Data Load Finish, Predict Finish, 3.8903 3.1876 0.1239 0.8598 Evaluation Finish\n",
      "270: Data Load Finish, Predict Finish, 10.9236 10.3739 0.368 0.6063 Evaluation Finish\n",
      "271: Data Load Finish, Predict Finish, 3.5124 2.9107 0.1117 0.8734 Evaluation Finish\n",
      "272: Data Load Finish, Predict Finish, 3.9057 3.1566 0.1244 0.8593 Evaluation Finish\n",
      "273: Data Load Finish, Predict Finish, 3.6954 3.141 0.109 0.8668 Evaluation Finish\n",
      "274: Data Load Finish, Predict Finish, 7.5657 6.7914 0.2371 0.7274 Evaluation Finish\n",
      "275: Data Load Finish, Predict Finish, 8.7838 8.0848 0.2835 0.6835 Evaluation Finish\n",
      "276: Data Load Finish, "
     ]
    },
    {
     "name": "stderr",
     "output_type": "stream",
     "text": [
      "C:\\Users\\vfgtr554\\anaconda3\\envs\\cctv\\lib\\site-packages\\pandas\\core\\arraylike.py:364: RuntimeWarning: divide by zero encountered in log\n",
      "  result = getattr(ufunc, method)(*inputs, **kwargs)\n",
      "C:\\Users\\vfgtr554\\anaconda3\\envs\\cctv\\lib\\site-packages\\statsmodels\\base\\model.py:606: ConvergenceWarning: Maximum Likelihood optimization failed to converge. Check mle_retvals\n",
      "  ConvergenceWarning)\n"
     ]
    },
    {
     "name": "stdout",
     "output_type": "stream",
     "text": [
      "Predict Finish, 26.7557 26.5689 0.9632 0.0358 Evaluation Finish\n",
      "277: Data Load Finish, Predict Finish, 8.8382 8.2105 0.2884 0.6815 Evaluation Finish\n",
      "278: Data Load Finish, Predict Finish, 5.0895 3.9852 0.1332 0.8166 Evaluation Finish\n",
      "279: Data Load Finish, Predict Finish, 5.8966 4.9819 0.1699 0.7875 Evaluation Finish\n",
      "280: Data Load Finish, Predict Finish, 4.8419 3.7688 0.1261 0.8255 Evaluation Finish\n",
      "281: Data Load Finish, Predict Finish, 5.1527 4.1281 0.1389 0.8143 Evaluation Finish\n",
      "282: Data Load Finish, Predict Finish, 4.9406 3.8827 0.13 0.822 Evaluation Finish\n",
      "283: Data Load Finish, Predict Finish, 5.1207 4.1847 0.1618 0.8155 Evaluation Finish\n",
      "284: Data Load Finish, Predict Finish, 4.429 3.4427 0.138 0.8404 Evaluation Finish\n",
      "285: Data Load Finish, Predict Finish, 6.9186 5.9025 0.205 0.7507 Evaluation Finish\n",
      "286: Data Load Finish, Predict Finish, 3.491 3.0985 0.1187 0.8742 Evaluation Finish\n",
      "287: Data Load Finish, "
     ]
    },
    {
     "name": "stderr",
     "output_type": "stream",
     "text": [
      "C:\\Users\\vfgtr554\\anaconda3\\envs\\cctv\\lib\\site-packages\\pandas\\core\\arraylike.py:364: RuntimeWarning: divide by zero encountered in log\n",
      "  result = getattr(ufunc, method)(*inputs, **kwargs)\n",
      "C:\\Users\\vfgtr554\\anaconda3\\envs\\cctv\\lib\\site-packages\\statsmodels\\base\\model.py:606: ConvergenceWarning: Maximum Likelihood optimization failed to converge. Check mle_retvals\n",
      "  ConvergenceWarning)\n"
     ]
    },
    {
     "name": "stdout",
     "output_type": "stream",
     "text": [
      "Predict Finish, 26.7557 26.5689 0.9632 0.0358 Evaluation Finish\n",
      "288: Data Load Finish, Predict Finish, 3.4008 3.0035 0.1053 0.8774 Evaluation Finish\n",
      "289: Data Load Finish, Predict Finish, 8.4876 7.8692 0.2759 0.6941 Evaluation Finish\n",
      "290: Data Load Finish, "
     ]
    },
    {
     "name": "stderr",
     "output_type": "stream",
     "text": [
      "C:\\Users\\vfgtr554\\anaconda3\\envs\\cctv\\lib\\site-packages\\pandas\\core\\arraylike.py:364: RuntimeWarning: divide by zero encountered in log\n",
      "  result = getattr(ufunc, method)(*inputs, **kwargs)\n",
      "C:\\Users\\vfgtr554\\anaconda3\\envs\\cctv\\lib\\site-packages\\statsmodels\\base\\model.py:606: ConvergenceWarning: Maximum Likelihood optimization failed to converge. Check mle_retvals\n",
      "  ConvergenceWarning)\n"
     ]
    },
    {
     "name": "stdout",
     "output_type": "stream",
     "text": [
      "Predict Finish, 26.7557 26.5689 0.9632 0.0358 Evaluation Finish\n",
      "291: Data Load Finish, Predict Finish, 3.2231 2.9073 0.105 0.8838 Evaluation Finish\n",
      "292: Data Load Finish, Predict Finish, 5.0059 4.0705 0.1378 0.8196 Evaluation Finish\n",
      "293: Data Load Finish, Predict Finish, 5.2102 4.0605 0.1358 0.8122 Evaluation Finish\n",
      "294: Data Load Finish, Predict Finish, 4.9664 3.9983 0.1349 0.821 Evaluation Finish\n",
      "295: Data Load Finish, Predict Finish, 7.176 6.4229 0.223 0.7414 Evaluation Finish\n",
      "296: Data Load Finish, Predict Finish, 4.4055 3.5065 0.118 0.8412 Evaluation Finish\n",
      "297: Data Load Finish, Predict Finish, 4.8998 3.7336 0.1239 0.8234 Evaluation Finish\n",
      "298: "
     ]
    },
    {
     "name": "stderr",
     "output_type": "stream",
     "text": [
      "C:\\Users\\vfgtr554\\anaconda3\\envs\\cctv\\lib\\site-packages\\pandas\\core\\arraylike.py:364: RuntimeWarning: divide by zero encountered in log\n",
      "  result = getattr(ufunc, method)(*inputs, **kwargs)\n"
     ]
    },
    {
     "name": "stdout",
     "output_type": "stream",
     "text": [
      "Data Load Finish, "
     ]
    },
    {
     "name": "stderr",
     "output_type": "stream",
     "text": [
      "C:\\Users\\vfgtr554\\anaconda3\\envs\\cctv\\lib\\site-packages\\statsmodels\\base\\model.py:606: ConvergenceWarning: Maximum Likelihood optimization failed to converge. Check mle_retvals\n",
      "  ConvergenceWarning)\n"
     ]
    },
    {
     "name": "stdout",
     "output_type": "stream",
     "text": [
      "Predict Finish, 26.7557 26.5689 0.9632 0.0358 Evaluation Finish\n",
      "299: Data Load Finish, Predict Finish, 3.8253 3.1213 0.1234 0.8621 Evaluation Finish\n",
      "300: Data Load Finish, Predict Finish, 7.4422 6.7321 0.2601 0.7318 Evaluation Finish\n",
      "301: Data Load Finish, Predict Finish, 9.8415 9.3227 0.3294 0.6453 Evaluation Finish\n",
      "302: Data Load Finish, Predict Finish, 11.6633 11.2272 0.3994 0.5797 Evaluation Finish\n",
      "303: Data Load Finish, Predict Finish, 5.7213 4.7731 0.1886 0.7938 Evaluation Finish\n",
      "304: Data Load Finish, Predict Finish, 5.765 4.8024 0.1638 0.7922 Evaluation Finish\n",
      "305: Data Load Finish, Predict Finish, 3.7097 3.1088 0.1068 0.8663 Evaluation Finish\n",
      "306: Data Load Finish, Predict Finish, 9.7652 9.2339 0.3261 0.6481 Evaluation Finish\n",
      "307: Data Load Finish, Predict Finish, 6.8028 5.9761 0.2061 0.7548 Evaluation Finish\n",
      "308: Data Load Finish, Predict Finish, 5.2864 4.1817 0.1412 0.8095 Evaluation Finish\n",
      "309: Data Load Finish, Predict Finish, 5.3234 4.2754 0.1439 0.8082 Evaluation Finish\n",
      "310: Data Load Finish, "
     ]
    },
    {
     "name": "stderr",
     "output_type": "stream",
     "text": [
      "C:\\Users\\vfgtr554\\anaconda3\\envs\\cctv\\lib\\site-packages\\pandas\\core\\arraylike.py:364: RuntimeWarning: divide by zero encountered in log\n",
      "  result = getattr(ufunc, method)(*inputs, **kwargs)\n",
      "C:\\Users\\vfgtr554\\anaconda3\\envs\\cctv\\lib\\site-packages\\statsmodels\\base\\model.py:606: ConvergenceWarning: Maximum Likelihood optimization failed to converge. Check mle_retvals\n",
      "  ConvergenceWarning)\n"
     ]
    },
    {
     "name": "stdout",
     "output_type": "stream",
     "text": [
      "Predict Finish, 26.7557 26.5689 0.9632 0.0358 Evaluation Finish\n",
      "311: Data Load Finish, Predict Finish, 3.3589 2.995 0.1063 0.879 Evaluation Finish\n",
      "312: Data Load Finish, Predict Finish, 12.3535 11.9316 0.4519 0.5548 Evaluation Finish\n",
      "313: Data Load Finish, Predict Finish, 10.6131 10.1256 0.3588 0.6175 Evaluation Finish\n",
      "314: Data Load Finish, Predict Finish, 4.7514 3.5868 0.1188 0.8288 Evaluation Finish\n",
      "315: Data Load Finish, Predict Finish, 5.3907 4.3368 0.146 0.8057 Evaluation Finish\n",
      "316: Data Load Finish, Predict Finish, 5.3295 4.2831 0.1441 0.8079 Evaluation Finish\n",
      "317: Data Load Finish, Predict Finish, 4.3034 3.4114 0.1146 0.8449 Evaluation Finish\n",
      "318: Data Load Finish, Predict Finish, 10.7031 10.2278 0.3627 0.6143 Evaluation Finish\n",
      "319: Data Load Finish, "
     ]
    },
    {
     "name": "stderr",
     "output_type": "stream",
     "text": [
      "C:\\Users\\vfgtr554\\anaconda3\\envs\\cctv\\lib\\site-packages\\statsmodels\\base\\model.py:606: ConvergenceWarning: Maximum Likelihood optimization failed to converge. Check mle_retvals\n",
      "  ConvergenceWarning)\n"
     ]
    },
    {
     "name": "stdout",
     "output_type": "stream",
     "text": [
      "Predict Finish, 8.892 8.3129 0.2923 0.6796 Evaluation Finish\n",
      "320: Data Load Finish, Predict Finish, 5.5689 4.5877 0.1554 0.7993 Evaluation Finish\n",
      "321: Data Load Finish, Predict Finish, 3.3387 2.9694 0.1056 0.8797 Evaluation Finish\n",
      "322: Data Load Finish, "
     ]
    },
    {
     "name": "stderr",
     "output_type": "stream",
     "text": [
      "C:\\Users\\vfgtr554\\anaconda3\\envs\\cctv\\lib\\site-packages\\pandas\\core\\arraylike.py:364: RuntimeWarning: divide by zero encountered in log\n",
      "  result = getattr(ufunc, method)(*inputs, **kwargs)\n",
      "C:\\Users\\vfgtr554\\anaconda3\\envs\\cctv\\lib\\site-packages\\statsmodels\\base\\model.py:606: ConvergenceWarning: Maximum Likelihood optimization failed to converge. Check mle_retvals\n",
      "  ConvergenceWarning)\n"
     ]
    },
    {
     "name": "stdout",
     "output_type": "stream",
     "text": [
      "Predict Finish, 26.7557 26.5689 0.9632 0.0358 Evaluation Finish\n",
      "323: Data Load Finish, Predict Finish, 4.2364 3.5208 0.1212 0.8473 Evaluation Finish\n",
      "324: Data Load Finish, Predict Finish, 4.4569 3.5342 0.1411 0.8394 Evaluation Finish\n",
      "325: Data Load Finish, Predict Finish, 7.6477 6.9844 0.2697 0.7244 Evaluation Finish\n",
      "326: Data Load Finish, Predict Finish, 6.4176 5.59 0.1922 0.7687 Evaluation Finish\n",
      "327: Data Load Finish, Predict Finish, 13.9545 13.5923 0.5127 0.4971 Evaluation Finish\n",
      "328: Data Load Finish, "
     ]
    },
    {
     "name": "stderr",
     "output_type": "stream",
     "text": [
      "C:\\Users\\vfgtr554\\anaconda3\\envs\\cctv\\lib\\site-packages\\pandas\\core\\arraylike.py:364: RuntimeWarning: divide by zero encountered in log\n",
      "  result = getattr(ufunc, method)(*inputs, **kwargs)\n",
      "C:\\Users\\vfgtr554\\anaconda3\\envs\\cctv\\lib\\site-packages\\statsmodels\\base\\model.py:606: ConvergenceWarning: Maximum Likelihood optimization failed to converge. Check mle_retvals\n",
      "  ConvergenceWarning)\n"
     ]
    },
    {
     "name": "stdout",
     "output_type": "stream",
     "text": [
      "Predict Finish, 26.7557 26.5689 0.9632 0.0358 Evaluation Finish\n",
      "329: Data Load Finish, Predict Finish, 9.0861 8.2653 0.3174 0.6726 Evaluation Finish\n",
      "330: Data Load Finish, "
     ]
    },
    {
     "name": "stderr",
     "output_type": "stream",
     "text": [
      "C:\\Users\\vfgtr554\\anaconda3\\envs\\cctv\\lib\\site-packages\\pandas\\core\\arraylike.py:364: RuntimeWarning: divide by zero encountered in log\n",
      "  result = getattr(ufunc, method)(*inputs, **kwargs)\n",
      "C:\\Users\\vfgtr554\\anaconda3\\envs\\cctv\\lib\\site-packages\\statsmodels\\base\\model.py:606: ConvergenceWarning: Maximum Likelihood optimization failed to converge. Check mle_retvals\n",
      "  ConvergenceWarning)\n"
     ]
    },
    {
     "name": "stdout",
     "output_type": "stream",
     "text": [
      "Predict Finish, 26.7557 26.5689 0.9632 0.0358 Evaluation Finish\n",
      "331: Data Load Finish, Predict Finish, 7.2336 6.5742 0.2541 0.7393 Evaluation Finish\n",
      "332: Data Load Finish, Predict Finish, 6.4678 5.5922 0.2185 0.7669 Evaluation Finish\n",
      "333: Data Load Finish, Predict Finish, 12.223 11.7363 0.445 0.5595 Evaluation Finish\n",
      "334: Data Load Finish, "
     ]
    },
    {
     "name": "stderr",
     "output_type": "stream",
     "text": [
      "C:\\Users\\vfgtr554\\anaconda3\\envs\\cctv\\lib\\site-packages\\pandas\\core\\arraylike.py:364: RuntimeWarning: divide by zero encountered in log\n",
      "  result = getattr(ufunc, method)(*inputs, **kwargs)\n",
      "C:\\Users\\vfgtr554\\anaconda3\\envs\\cctv\\lib\\site-packages\\statsmodels\\base\\model.py:606: ConvergenceWarning: Maximum Likelihood optimization failed to converge. Check mle_retvals\n",
      "  ConvergenceWarning)\n"
     ]
    },
    {
     "name": "stdout",
     "output_type": "stream",
     "text": [
      "Predict Finish, 26.7557 26.5689 0.9632 0.0358 Evaluation Finish\n",
      "335: Data Load Finish, Predict Finish, 3.2669 2.967 0.1113 0.8823 Evaluation Finish\n",
      "336: Data Load Finish, Predict Finish, 11.2556 10.7554 0.4087 0.5944 Evaluation Finish\n",
      "337: Data Load Finish, "
     ]
    },
    {
     "name": "stderr",
     "output_type": "stream",
     "text": [
      "C:\\Users\\vfgtr554\\anaconda3\\envs\\cctv\\lib\\site-packages\\pandas\\core\\arraylike.py:364: RuntimeWarning: divide by zero encountered in log\n",
      "  result = getattr(ufunc, method)(*inputs, **kwargs)\n",
      "C:\\Users\\vfgtr554\\anaconda3\\envs\\cctv\\lib\\site-packages\\statsmodels\\base\\model.py:606: ConvergenceWarning: Maximum Likelihood optimization failed to converge. Check mle_retvals\n",
      "  ConvergenceWarning)\n"
     ]
    },
    {
     "name": "stdout",
     "output_type": "stream",
     "text": [
      "Predict Finish, 26.7557 26.5689 0.9632 0.0358 Evaluation Finish\n",
      "338: Data Load Finish, Predict Finish, 16.2275 15.836 0.5961 0.4152 Evaluation Finish\n",
      "339: Data Load Finish, Predict Finish, 6.2199 5.3566 0.2101 0.7759 Evaluation Finish\n",
      "340: Data Load Finish, Predict Finish, 3.5524 3.1114 0.1194 0.872 Evaluation Finish\n",
      "341: Data Load Finish, Predict Finish, 3.8906 3.3276 0.1299 0.8598 Evaluation Finish\n",
      "342: "
     ]
    },
    {
     "name": "stderr",
     "output_type": "stream",
     "text": [
      "C:\\Users\\vfgtr554\\anaconda3\\envs\\cctv\\lib\\site-packages\\pandas\\core\\arraylike.py:364: RuntimeWarning: divide by zero encountered in log\n",
      "  result = getattr(ufunc, method)(*inputs, **kwargs)\n"
     ]
    },
    {
     "name": "stdout",
     "output_type": "stream",
     "text": [
      "Data Load Finish, "
     ]
    },
    {
     "name": "stderr",
     "output_type": "stream",
     "text": [
      "C:\\Users\\vfgtr554\\anaconda3\\envs\\cctv\\lib\\site-packages\\statsmodels\\base\\model.py:606: ConvergenceWarning: Maximum Likelihood optimization failed to converge. Check mle_retvals\n",
      "  ConvergenceWarning)\n"
     ]
    },
    {
     "name": "stdout",
     "output_type": "stream",
     "text": [
      "Predict Finish, 26.7557 26.5689 0.9632 0.0358 Evaluation Finish\n",
      "343: Data Load Finish, Predict Finish, 14.6005 14.0045 0.5286 0.4738 Evaluation Finish\n",
      "344: Data Load Finish, Predict Finish, 3.2139 2.9587 0.111 0.8842 Evaluation Finish\n",
      "345: Data Load Finish, Predict Finish, 5.4605 4.5843 0.1805 0.8032 Evaluation Finish\n",
      "346: Data Load Finish, Predict Finish, 11.2739 10.7859 0.3829 0.5937 Evaluation Finish\n",
      "347: Data Load Finish, Predict Finish, 3.4245 3.016 0.1057 0.8766 Evaluation Finish\n",
      "348: Data Load Finish, Predict Finish, 8.9909 8.4264 0.3229 0.676 Evaluation Finish\n",
      "349: Data Load Finish, Predict Finish, 7.4499 6.7564 0.2351 0.7315 Evaluation Finish\n",
      "350: Data Load Finish, Predict Finish, 13.4944 13.1164 0.4688 0.5137 Evaluation Finish\n",
      "351: Data Load Finish, Predict Finish, 3.7484 3.0652 0.1095 0.8649 Evaluation Finish\n",
      "352: Data Load Finish, Predict Finish, 4.218 3.3643 0.1133 0.848 Evaluation Finish\n",
      "353: Data Load Finish, Predict Finish, 3.8328 3.1899 0.1254 0.8619 Evaluation Finish\n",
      "354: Data Load Finish, Predict Finish, 4.7836 3.8386 0.1529 0.8276 Evaluation Finish\n",
      "355: Data Load Finish, Predict Finish, 4.5972 3.6243 0.1449 0.8343 Evaluation Finish\n",
      "356: Data Load Finish, Predict Finish, 3.1741 2.9279 0.1088 0.8856 Evaluation Finish\n",
      "357: Data Load Finish, Predict Finish, 4.359 3.5771 0.1415 0.8429 Evaluation Finish\n",
      "358: Data Load Finish, Predict Finish, 3.2196 2.9482 0.1059 0.884 Evaluation Finish\n",
      "359: Data Load Finish, Predict Finish, 3.2814 2.9923 0.1131 0.8817 Evaluation Finish\n",
      "360: Data Load Finish, Predict Finish, 3.6944 3.1029 0.121 0.8669 Evaluation Finish\n",
      "361: Data Load Finish, Predict Finish, 4.18 3.2552 0.1299 0.8494 Evaluation Finish\n",
      "362: Data Load Finish, Predict Finish, 4.374 3.4521 0.1158 0.8424 Evaluation Finish\n",
      "363: Data Load Finish, Predict Finish, 8.0447 7.3632 0.2575 0.7101 Evaluation Finish\n",
      "364: Data Load Finish, "
     ]
    },
    {
     "name": "stderr",
     "output_type": "stream",
     "text": [
      "C:\\Users\\vfgtr554\\anaconda3\\envs\\cctv\\lib\\site-packages\\statsmodels\\base\\model.py:606: ConvergenceWarning: Maximum Likelihood optimization failed to converge. Check mle_retvals\n",
      "  ConvergenceWarning)\n"
     ]
    },
    {
     "name": "stdout",
     "output_type": "stream",
     "text": [
      "Predict Finish, 8.6301 8.034 0.2821 0.689 Evaluation Finish\n",
      "365: Data Load Finish, Predict Finish, 4.439 3.4668 0.1386 0.84 Evaluation Finish\n",
      "366: Data Load Finish, Predict Finish, 4.2277 3.3489 0.1125 0.8476 Evaluation Finish\n",
      "367: Data Load Finish, Predict Finish, 5.2216 4.274 0.1696 0.8118 Evaluation Finish\n",
      "368: Data Load Finish, Predict Finish, 3.9731 3.2366 0.1099 0.8568 Evaluation Finish\n",
      "369: Data Load Finish, Predict Finish, 6.4397 5.6038 0.1927 0.7679 Evaluation Finish\n",
      "370: Data Load Finish, Predict Finish, 3.6541 3.0393 0.1161 0.8683 Evaluation Finish\n",
      "371: Data Load Finish, Predict Finish, 3.6671 3.0786 0.1204 0.8678 Evaluation Finish\n",
      "372: Data Load Finish, Predict Finish, 14.2186 13.8624 0.5227 0.4876 Evaluation Finish\n",
      "373: Data Load Finish, Predict Finish, 5.6542 4.6344 0.1571 0.7962 Evaluation Finish\n",
      "374: Data Load Finish, Predict Finish, 10.4566 9.8965 0.3772 0.6232 Evaluation Finish\n",
      "375: Data Load Finish, Predict Finish, 35.621 35.4736 1.3172 -0.2837 Evaluation Finish\n",
      "376: Data Load Finish, Predict Finish, 55.5773 55.4865 2.0525 -1.0029 Evaluation Finish\n",
      "377: Data Load Finish, Predict Finish, 29.616 29.4274 1.0951 -0.0673 Evaluation Finish\n",
      "378: Data Load Finish, Predict Finish, 32.3692 32.0399 1.1915 -0.1665 Evaluation Finish\n",
      "379: Data Load Finish, Predict Finish, 3.4875 2.9068 0.1093 0.8743 Evaluation Finish\n",
      "380: Data Load Finish, "
     ]
    },
    {
     "name": "stderr",
     "output_type": "stream",
     "text": [
      "C:\\Users\\vfgtr554\\anaconda3\\envs\\cctv\\lib\\site-packages\\statsmodels\\base\\model.py:606: ConvergenceWarning: Maximum Likelihood optimization failed to converge. Check mle_retvals\n",
      "  ConvergenceWarning)\n"
     ]
    },
    {
     "name": "stdout",
     "output_type": "stream",
     "text": [
      "Predict Finish, 7.6595 6.6721 0.2581 0.724 Evaluation Finish\n",
      "381: Data Load Finish, Predict Finish, 4.0604 3.2983 0.1165 0.8537 Evaluation Finish\n",
      "382: Data Load Finish, Predict Finish, 4.4498 3.6044 0.1404 0.8396 Evaluation Finish\n",
      "383: Data Load Finish, Predict Finish, 3.7268 3.0815 0.1059 0.8657 Evaluation Finish\n",
      "384: Data Load Finish, Predict Finish, 4.0712 3.2206 0.1085 0.8533 Evaluation Finish\n",
      "385: Data Load Finish, "
     ]
    },
    {
     "name": "stderr",
     "output_type": "stream",
     "text": [
      "C:\\Users\\vfgtr554\\anaconda3\\envs\\cctv\\lib\\site-packages\\pandas\\core\\arraylike.py:364: RuntimeWarning: divide by zero encountered in log\n",
      "  result = getattr(ufunc, method)(*inputs, **kwargs)\n",
      "C:\\Users\\vfgtr554\\anaconda3\\envs\\cctv\\lib\\site-packages\\statsmodels\\base\\model.py:606: ConvergenceWarning: Maximum Likelihood optimization failed to converge. Check mle_retvals\n",
      "  ConvergenceWarning)\n"
     ]
    },
    {
     "name": "stdout",
     "output_type": "stream",
     "text": [
      "Predict Finish, 26.7557 26.5689 0.9632 0.0358 Evaluation Finish\n",
      "386: Data Load Finish, Predict Finish, 3.5894 3.073 0.1194 0.8706 Evaluation Finish\n",
      "387: Data Load Finish, Predict Finish, 4.8232 3.8969 0.1549 0.8262 Evaluation Finish\n",
      "388: Data Load Finish, Predict Finish, 3.2436 2.9587 0.1071 0.8831 Evaluation Finish\n",
      "389: Data Load Finish, Predict Finish, 18.0956 17.8144 0.6681 0.3479 Evaluation Finish\n",
      "390: Data Load Finish, "
     ]
    },
    {
     "name": "stderr",
     "output_type": "stream",
     "text": [
      "C:\\Users\\vfgtr554\\anaconda3\\envs\\cctv\\lib\\site-packages\\pandas\\core\\arraylike.py:364: RuntimeWarning: divide by zero encountered in log\n",
      "  result = getattr(ufunc, method)(*inputs, **kwargs)\n",
      "C:\\Users\\vfgtr554\\anaconda3\\envs\\cctv\\lib\\site-packages\\statsmodels\\base\\model.py:606: ConvergenceWarning: Maximum Likelihood optimization failed to converge. Check mle_retvals\n",
      "  ConvergenceWarning)\n"
     ]
    },
    {
     "name": "stdout",
     "output_type": "stream",
     "text": [
      "Predict Finish, 26.7557 26.5689 0.9632 0.0358 Evaluation Finish\n",
      "391: Data Load Finish, Predict Finish, 8.4966 7.8873 0.2766 0.6938 Evaluation Finish\n",
      "392: Data Load Finish, Predict Finish, 7.0783 6.3364 0.2203 0.7449 Evaluation Finish\n",
      "393: Data Load Finish, Predict Finish, 5.0519 4.2559 0.1464 0.8179 Evaluation Finish\n",
      "394: Data Load Finish, Predict Finish, 4.1697 3.3595 0.1135 0.8497 Evaluation Finish\n",
      "395: Data Load Finish, Predict Finish, 7.1086 6.3448 0.22 0.7438 Evaluation Finish\n",
      "396: Data Load Finish, Predict Finish, 4.3206 3.5661 0.1218 0.8443 Evaluation Finish\n",
      "397: Data Load Finish, Predict Finish, 4.9043 3.9746 0.158 0.8233 Evaluation Finish\n",
      "398: Data Load Finish, Predict Finish, 6.8355 6.0932 0.2112 0.7537 Evaluation Finish\n",
      "399: Data Load Finish, Predict Finish, 7.4509 6.6867 0.2326 0.7315 Evaluation Finish\n",
      "400: Data Load Finish, Predict Finish, 9.4376 8.8616 0.3124 0.6599 Evaluation Finish\n",
      "401: Data Load Finish, Predict Finish, 5.2115 4.2605 0.1445 0.8122 Evaluation Finish\n",
      "402: Data Load Finish, Predict Finish, 5.0044 4.2457 0.148 0.8197 Evaluation Finish\n",
      "403: Data Load Finish, Predict Finish, 6.5162 5.7047 0.1965 0.7652 Evaluation Finish\n",
      "404: Data Load Finish, Predict Finish, 6.7738 5.9081 0.2039 0.7559 Evaluation Finish\n",
      "405: Data Load Finish, Predict Finish, 7.6329 6.8956 0.2669 0.7249 Evaluation Finish\n",
      "406: Data Load Finish, Predict Finish, 3.4634 3.0119 0.116 0.8752 Evaluation Finish\n",
      "407: Data Load Finish, Predict Finish, 3.514 3.0614 0.1181 0.8734 Evaluation Finish\n",
      "408: Data Load Finish, Predict Finish, 3.2349 2.9513 0.1104 0.8834 Evaluation Finish\n",
      "409: Data Load Finish, Predict Finish, 6.0419 5.1558 0.2009 0.7823 Evaluation Finish\n",
      "410: Data Load Finish, Predict Finish, 3.2838 2.9845 0.1065 0.8817 Evaluation Finish\n",
      "411: Data Load Finish, Predict Finish, 3.3428 2.9967 0.1077 0.8795 Evaluation Finish\n",
      "412: Data Load Finish, Predict Finish, 11.5081 10.9841 0.4178 0.5853 Evaluation Finish\n",
      "413: Data Load Finish, Predict Finish, 7.169 6.3755 0.2208 0.7416 Evaluation Finish\n",
      "414: Data Load Finish, "
     ]
    },
    {
     "name": "stderr",
     "output_type": "stream",
     "text": [
      "C:\\Users\\vfgtr554\\anaconda3\\envs\\cctv\\lib\\site-packages\\statsmodels\\base\\model.py:606: ConvergenceWarning: Maximum Likelihood optimization failed to converge. Check mle_retvals\n",
      "  ConvergenceWarning)\n"
     ]
    },
    {
     "name": "stdout",
     "output_type": "stream",
     "text": [
      "Predict Finish, 3.536 2.9183 0.1134 0.8726 Evaluation Finish\n",
      "415: Data Load Finish, Predict Finish, 3.2523 2.9375 0.1041 0.8828 Evaluation Finish\n",
      "416: Data Load Finish, Predict Finish, 4.3435 3.512 0.1395 0.8435 Evaluation Finish\n",
      "417: Data Load Finish, Predict Finish, 4.0076 3.2147 0.1139 0.8556 Evaluation Finish\n",
      "418: Data Load Finish, Predict Finish, 15.8417 15.5241 0.5838 0.4291 Evaluation Finish\n",
      "419: Data Load Finish, Predict Finish, 7.6952 6.9624 0.2432 0.7227 Evaluation Finish\n",
      "420: Data Load Finish, Predict Finish, 3.6754 3.0169 0.1154 0.8675 Evaluation Finish\n",
      "421: Data Load Finish, Predict Finish, 4.5593 3.8103 0.1498 0.8357 Evaluation Finish\n",
      "422: Data Load Finish, Predict Finish, 6.605 5.734 0.1973 0.762 Evaluation Finish\n",
      "423: Data Load Finish, Predict Finish, 4.9965 4.0967 0.1622 0.8199 Evaluation Finish\n",
      "424: Data Load Finish, Predict Finish, 5.5695 4.6862 0.1832 0.7993 Evaluation Finish\n",
      "425: Data Load Finish, Predict Finish, 3.1767 2.8855 0.1046 0.8855 Evaluation Finish\n",
      "426: Data Load Finish, Predict Finish, 14.1595 13.8038 0.5205 0.4897 Evaluation Finish\n",
      "427: Data Load Finish, Predict Finish, 23.8472 23.6339 0.8819 0.1406 Evaluation Finish\n",
      "428: Data Load Finish, Predict Finish, 25.5137 25.3097 0.9435 0.0806 Evaluation Finish\n",
      "429: Data Load Finish, Predict Finish, 31.2892 31.0587 1.1554 -0.1276 Evaluation Finish\n",
      "430: Data Load Finish, Predict Finish, 32.5692 32.4096 1.2038 -0.1737 Evaluation Finish\n",
      "431: Data Load Finish, Predict Finish, 21.9649 21.7374 0.8121 0.2084 Evaluation Finish\n",
      "432: Data Load Finish, Predict Finish, 11.433 10.8976 0.3866 0.588 Evaluation Finish\n",
      "433: Data Load Finish, Predict Finish, 14.496 14.1608 0.5084 0.4776 Evaluation Finish\n",
      "434: Data Load Finish, Predict Finish, 6.9534 6.2274 0.2162 0.7494 Evaluation Finish\n",
      "435: Data Load Finish, Predict Finish, 8.4539 7.8608 0.2761 0.6953 Evaluation Finish\n",
      "436: Data Load Finish, Predict Finish, 10.688 10.1958 0.3613 0.6148 Evaluation Finish\n",
      "437: Data Load Finish, Predict Finish, 7.264 6.0652 0.2083 0.7382 Evaluation Finish\n",
      "438: Data Load Finish, Predict Finish, 4.2984 3.2868 0.1097 0.8451 Evaluation Finish\n",
      "439: Data Load Finish, Predict Finish, 3.1769 2.9132 0.1059 0.8855 Evaluation Finish\n",
      "440: Data Load Finish, Predict Finish, 7.5511 6.8865 0.2661 0.7279 Evaluation Finish\n",
      "441: Data Load Finish, Predict Finish, 3.766 3.2062 0.1251 0.8643 Evaluation Finish\n",
      "442: Data Load Finish, Predict Finish, 5.0656 4.0912 0.1629 0.8174 Evaluation Finish\n",
      "443: Data Load Finish, Predict Finish, 7.3162 6.586 0.2287 0.7363 Evaluation Finish\n",
      "444: Data Load Finish, Predict Finish, 6.8963 6.1736 0.2142 0.7515 Evaluation Finish\n",
      "445: Data Load Finish, Predict Finish, 10.3071 9.793 0.3465 0.6286 Evaluation Finish\n",
      "446: Data Load Finish, Predict Finish, 3.4101 3.0268 0.1065 0.8771 Evaluation Finish\n",
      "447: Data Load Finish, Predict Finish, 3.4002 3.0132 0.1058 0.8775 Evaluation Finish\n",
      "448: Data Load Finish, Predict Finish, 8.2424 7.6239 0.2933 0.703 Evaluation Finish\n",
      "449: Data Load Finish, Predict Finish, 5.0869 4.0778 0.1373 0.8167 Evaluation Finish\n",
      "450: Data Load Finish, Predict Finish, 4.1744 3.3622 0.1137 0.8496 Evaluation Finish\n",
      "451: Data Load Finish, Predict Finish, 3.2623 2.9925 0.1112 0.8824 Evaluation Finish\n",
      "452: Data Load Finish, Predict Finish, 5.0238 4.1275 0.1402 0.819 Evaluation Finish\n",
      "453: Data Load Finish, Predict Finish, 3.8387 3.1523 0.108 0.8617 Evaluation Finish\n",
      "454: "
     ]
    },
    {
     "name": "stderr",
     "output_type": "stream",
     "text": [
      "C:\\Users\\vfgtr554\\anaconda3\\envs\\cctv\\lib\\site-packages\\pandas\\core\\arraylike.py:364: RuntimeWarning: divide by zero encountered in log\n",
      "  result = getattr(ufunc, method)(*inputs, **kwargs)\n"
     ]
    },
    {
     "name": "stdout",
     "output_type": "stream",
     "text": [
      "Data Load Finish, "
     ]
    },
    {
     "name": "stderr",
     "output_type": "stream",
     "text": [
      "C:\\Users\\vfgtr554\\anaconda3\\envs\\cctv\\lib\\site-packages\\statsmodels\\base\\model.py:606: ConvergenceWarning: Maximum Likelihood optimization failed to converge. Check mle_retvals\n",
      "  ConvergenceWarning)\n"
     ]
    },
    {
     "name": "stdout",
     "output_type": "stream",
     "text": [
      "Predict Finish, 26.7557 26.5689 0.9632 0.0358 Evaluation Finish\n",
      "455: Data Load Finish, Predict Finish, 9.5365 8.99 0.3174 0.6563 Evaluation Finish\n",
      "456: Data Load Finish, Predict Finish, 6.7901 5.8993 0.204 0.7553 Evaluation Finish\n",
      "457: Data Load Finish, Predict Finish, 4.0145 3.309 0.1129 0.8553 Evaluation Finish\n",
      "458: Data Load Finish, Predict Finish, 3.7606 3.1338 0.1102 0.8645 Evaluation Finish\n",
      "459: Data Load Finish, Predict Finish, 3.17 2.9084 0.1055 0.8858 Evaluation Finish\n",
      "460: Data Load Finish, Predict Finish, 8.4201 7.8063 0.2737 0.6966 Evaluation Finish\n",
      "461: Data Load Finish, Predict Finish, 5.2323 4.0257 0.1374 0.8114 Evaluation Finish\n",
      "462: Data Load Finish, Predict Finish, 3.7881 3.1615 0.1086 0.8635 Evaluation Finish\n",
      "463: Data Load Finish, Predict Finish, 7.0447 6.3005 0.2184 0.7461 Evaluation Finish\n",
      "464: Data Load Finish, Predict Finish, 3.3393 2.958 0.1122 0.8797 Evaluation Finish\n",
      "465: Data Load Finish, Predict Finish, 6.5281 5.6918 0.1961 0.7647 Evaluation Finish\n",
      "466: Data Load Finish, Predict Finish, 9.7105 9.1698 0.3239 0.6501 Evaluation Finish\n",
      "467: Data Load Finish, Predict Finish, 3.3489 2.8673 0.1039 0.8793 Evaluation Finish\n",
      "468: Data Load Finish, Predict Finish, 11.4469 10.9715 0.4167 0.5875 Evaluation Finish\n",
      "469: Data Load Finish, Predict Finish, 3.3514 2.987 0.1145 0.8792 Evaluation Finish\n",
      "470: Data Load Finish, Predict Finish, 11.1192 10.6713 0.3791 0.5993 Evaluation Finish\n",
      "471: Data Load Finish, Predict Finish, 3.9214 3.2901 0.1261 0.8587 Evaluation Finish\n",
      "472: Data Load Finish, Predict Finish, 9.7198 9.1882 0.3246 0.6497 Evaluation Finish\n",
      "473: Data Load Finish, Predict Finish, 9.404 8.8034 0.3106 0.6611 Evaluation Finish\n",
      "474: Data Load Finish, Predict Finish, 5.2646 4.2883 0.1704 0.8103 Evaluation Finish\n",
      "475: Data Load Finish, "
     ]
    },
    {
     "name": "stderr",
     "output_type": "stream",
     "text": [
      "C:\\Users\\vfgtr554\\anaconda3\\envs\\cctv\\lib\\site-packages\\pandas\\core\\arraylike.py:364: RuntimeWarning: divide by zero encountered in log\n",
      "  result = getattr(ufunc, method)(*inputs, **kwargs)\n",
      "C:\\Users\\vfgtr554\\anaconda3\\envs\\cctv\\lib\\site-packages\\statsmodels\\base\\model.py:606: ConvergenceWarning: Maximum Likelihood optimization failed to converge. Check mle_retvals\n",
      "  ConvergenceWarning)\n"
     ]
    },
    {
     "name": "stdout",
     "output_type": "stream",
     "text": [
      "Predict Finish, 26.7557 26.5689 0.9632 0.0358 Evaluation Finish\n",
      "476: Data Load Finish, Predict Finish, 4.4453 3.6909 0.1262 0.8398 Evaluation Finish\n",
      "477: Data Load Finish, Predict Finish, 4.1016 3.1946 0.1075 0.8522 Evaluation Finish\n",
      "478: Data Load Finish, Predict Finish, 7.3542 6.6426 0.2309 0.735 Evaluation Finish\n",
      "479: Data Load Finish, Predict Finish, 4.5207 3.4367 0.1145 0.8371 Evaluation Finish\n",
      "480: Data Load Finish, Predict Finish, 7.4166 6.6859 0.2324 0.7327 Evaluation Finish\n",
      "481: Data Load Finish, Predict Finish, 3.2604 2.9558 0.1063 0.8825 Evaluation Finish\n",
      "482: Data Load Finish, Predict Finish, 8.9521 8.3456 0.2933 0.6774 Evaluation Finish\n",
      "483: Data Load Finish, Predict Finish, 3.8216 3.1934 0.1094 0.8623 Evaluation Finish\n",
      "484: Data Load Finish, Predict Finish, 3.6314 3.0849 0.1067 0.8691 Evaluation Finish\n",
      "485: Data Load Finish, Predict Finish, 3.3167 2.9871 0.1059 0.8805 Evaluation Finish\n",
      "486: Data Load Finish, Predict Finish, 3.3622 2.9113 0.1066 0.8788 Evaluation Finish\n",
      "487: Data Load Finish, Predict Finish, 11.7025 11.257 0.4271 0.5783 Evaluation Finish\n",
      "488: Data Load Finish, Predict Finish, 4.7461 3.7711 0.1506 0.829 Evaluation Finish\n",
      "489: Data Load Finish, Predict Finish, 13.9365 13.5854 0.5123 0.4978 Evaluation Finish\n",
      "490: Data Load Finish, Predict Finish, 11.6479 11.2058 0.425 0.5802 Evaluation Finish\n",
      "491: Data Load Finish, Predict Finish, 8.2096 7.2355 0.2509 0.7041 Evaluation Finish\n",
      "492: Data Load Finish, Predict Finish, 6.6195 5.6593 0.1953 0.7614 Evaluation Finish\n",
      "493: Data Load Finish, "
     ]
    },
    {
     "name": "stderr",
     "output_type": "stream",
     "text": [
      "C:\\Users\\vfgtr554\\anaconda3\\envs\\cctv\\lib\\site-packages\\pandas\\core\\arraylike.py:364: RuntimeWarning: divide by zero encountered in log\n",
      "  result = getattr(ufunc, method)(*inputs, **kwargs)\n",
      "C:\\Users\\vfgtr554\\anaconda3\\envs\\cctv\\lib\\site-packages\\statsmodels\\base\\model.py:606: ConvergenceWarning: Maximum Likelihood optimization failed to converge. Check mle_retvals\n",
      "  ConvergenceWarning)\n"
     ]
    },
    {
     "name": "stdout",
     "output_type": "stream",
     "text": [
      "Predict Finish, 26.7557 26.5689 0.9632 0.0358 Evaluation Finish\n",
      "494: Data Load Finish, Predict Finish, 7.2585 6.381 0.2212 0.7384 Evaluation Finish\n",
      "495: Data Load Finish, Predict Finish, 3.2962 2.9768 0.106 0.8812 Evaluation Finish\n",
      "496: Data Load Finish, Predict Finish, 3.189 2.9213 0.1045 0.8851 Evaluation Finish\n",
      "497: Data Load Finish, Predict Finish, 3.2758 2.9585 0.1048 0.8819 Evaluation Finish\n",
      "498: Data Load Finish, Predict Finish, 5.7024 4.7557 0.188 0.7945 Evaluation Finish\n",
      "499: Data Load Finish, Predict Finish, 3.5635 3.1642 0.116 0.8716 Evaluation Finish\n",
      "500: "
     ]
    },
    {
     "name": "stderr",
     "output_type": "stream",
     "text": [
      "C:\\Users\\vfgtr554\\anaconda3\\envs\\cctv\\lib\\site-packages\\pandas\\core\\arraylike.py:364: RuntimeWarning: divide by zero encountered in log\n",
      "  result = getattr(ufunc, method)(*inputs, **kwargs)\n"
     ]
    },
    {
     "name": "stdout",
     "output_type": "stream",
     "text": [
      "Data Load Finish, "
     ]
    },
    {
     "name": "stderr",
     "output_type": "stream",
     "text": [
      "C:\\Users\\vfgtr554\\anaconda3\\envs\\cctv\\lib\\site-packages\\statsmodels\\base\\model.py:606: ConvergenceWarning: Maximum Likelihood optimization failed to converge. Check mle_retvals\n",
      "  ConvergenceWarning)\n"
     ]
    },
    {
     "name": "stdout",
     "output_type": "stream",
     "text": [
      "Predict Finish, 26.7557 26.5689 0.9632 0.0358 Evaluation Finish\n",
      "501: Data Load Finish, Predict Finish, 3.3486 2.9592 0.1138 0.8793 Evaluation Finish\n",
      "502: Data Load Finish, Predict Finish, 3.202 2.9335 0.1078 0.8846 Evaluation Finish\n",
      "503: Data Load Finish, Predict Finish, 4.6678 3.8139 0.1296 0.8318 Evaluation Finish\n",
      "504: Data Load Finish, Predict Finish, 3.1308 2.8747 0.1069 0.8872 Evaluation Finish\n",
      "505: Data Load Finish, Predict Finish, 8.5597 7.9009 0.2768 0.6915 Evaluation Finish\n",
      "RMSE: 9.1768934513502, MAE: 8.554317996711609, MAPE: 0.31074980909276934\n",
      "ACC: 0.6738089394902244\n"
     ]
    }
   ],
   "source": [
    "predictARIMA(df, idx, 9)"
   ]
  },
  {
   "cell_type": "markdown",
   "id": "8624171f",
   "metadata": {},
   "source": [
    "### Unobserved Nodes = 20%"
   ]
  },
  {
   "cell_type": "code",
   "execution_count": 14,
   "id": "a8313c43",
   "metadata": {},
   "outputs": [
    {
     "name": "stdout",
     "output_type": "stream",
     "text": [
      "2880 506\n"
     ]
    },
    {
     "data": {
      "text/plain": [
       "290880"
      ]
     },
     "execution_count": 14,
     "metadata": {},
     "output_type": "execute_result"
    }
   ],
   "source": [
    "df, idx = csvIndexToDatetime(path_20, start, freq)\n",
    "(df == 0).sum().sum()"
   ]
  },
  {
   "cell_type": "code",
   "execution_count": 15,
   "id": "5ce0fefa",
   "metadata": {
    "scrolled": false
   },
   "outputs": [
    {
     "name": "stdout",
     "output_type": "stream",
     "text": [
      "0: Data Load Finish, Predict Finish, 3.1458 2.8845 0.1063 0.8866 Evaluation Finish\n",
      "1: Data Load Finish, Predict Finish, 3.774 3.0358 0.1076 0.864 Evaluation Finish\n",
      "2: Data Load Finish, Predict Finish, 6.379 5.5085 0.2156 0.7701 Evaluation Finish\n",
      "3: Data Load Finish, "
     ]
    },
    {
     "name": "stderr",
     "output_type": "stream",
     "text": [
      "C:\\Users\\vfgtr554\\anaconda3\\envs\\cctv\\lib\\site-packages\\pandas\\core\\arraylike.py:364: RuntimeWarning: divide by zero encountered in log\n",
      "  result = getattr(ufunc, method)(*inputs, **kwargs)\n",
      "C:\\Users\\vfgtr554\\anaconda3\\envs\\cctv\\lib\\site-packages\\statsmodels\\base\\model.py:606: ConvergenceWarning: Maximum Likelihood optimization failed to converge. Check mle_retvals\n",
      "  ConvergenceWarning)\n"
     ]
    },
    {
     "name": "stdout",
     "output_type": "stream",
     "text": [
      "Predict Finish, 26.7557 26.5689 0.9632 0.0358 Evaluation Finish\n",
      "4: Data Load Finish, Predict Finish, 7.1377 6.1099 0.2116 0.7428 Evaluation Finish\n",
      "5: Data Load Finish, Predict Finish, 5.9589 5.0701 0.1732 0.7853 Evaluation Finish\n",
      "6: Data Load Finish, Predict Finish, 3.2452 2.9393 0.1062 0.8831 Evaluation Finish\n",
      "7: Data Load Finish, Predict Finish, 9.3639 8.8158 0.3108 0.6625 Evaluation Finish\n",
      "8: Data Load Finish, "
     ]
    },
    {
     "name": "stderr",
     "output_type": "stream",
     "text": [
      "C:\\Users\\vfgtr554\\anaconda3\\envs\\cctv\\lib\\site-packages\\pandas\\core\\arraylike.py:364: RuntimeWarning: divide by zero encountered in log\n",
      "  result = getattr(ufunc, method)(*inputs, **kwargs)\n",
      "C:\\Users\\vfgtr554\\anaconda3\\envs\\cctv\\lib\\site-packages\\statsmodels\\base\\model.py:606: ConvergenceWarning: Maximum Likelihood optimization failed to converge. Check mle_retvals\n",
      "  ConvergenceWarning)\n"
     ]
    },
    {
     "name": "stdout",
     "output_type": "stream",
     "text": [
      "Predict Finish, 26.7557 26.5689 0.9632 0.0358 Evaluation Finish\n",
      "9: Data Load Finish, Predict Finish, 8.4574 7.8446 0.2751 0.6952 Evaluation Finish\n",
      "10: Data Load Finish, "
     ]
    },
    {
     "name": "stderr",
     "output_type": "stream",
     "text": [
      "C:\\Users\\vfgtr554\\anaconda3\\envs\\cctv\\lib\\site-packages\\pandas\\core\\arraylike.py:364: RuntimeWarning: divide by zero encountered in log\n",
      "  result = getattr(ufunc, method)(*inputs, **kwargs)\n",
      "C:\\Users\\vfgtr554\\anaconda3\\envs\\cctv\\lib\\site-packages\\statsmodels\\base\\model.py:606: ConvergenceWarning: Maximum Likelihood optimization failed to converge. Check mle_retvals\n",
      "  ConvergenceWarning)\n"
     ]
    },
    {
     "name": "stdout",
     "output_type": "stream",
     "text": [
      "Predict Finish, 26.7557 26.5689 0.9632 0.0358 Evaluation Finish\n",
      "11: Data Load Finish, Predict Finish, 5.9826 5.0852 0.1737 0.7844 Evaluation Finish\n",
      "12: Data Load Finish, Predict Finish, 16.1703 15.8516 0.5959 0.4173 Evaluation Finish\n",
      "13: Data Load Finish, Predict Finish, 28.0791 27.8872 1.0384 -0.0119 Evaluation Finish\n",
      "14: Data Load Finish, Predict Finish, 31.6876 31.5178 1.1719 -0.1419 Evaluation Finish\n",
      "15: Data Load Finish, Predict Finish, 18.5832 18.3047 0.6861 0.3303 Evaluation Finish\n",
      "16: Data Load Finish, Predict Finish, 4.2431 3.2946 0.1314 0.8471 Evaluation Finish\n",
      "17: Data Load Finish, "
     ]
    },
    {
     "name": "stderr",
     "output_type": "stream",
     "text": [
      "C:\\Users\\vfgtr554\\anaconda3\\envs\\cctv\\lib\\site-packages\\pandas\\core\\arraylike.py:364: RuntimeWarning: divide by zero encountered in log\n",
      "  result = getattr(ufunc, method)(*inputs, **kwargs)\n",
      "C:\\Users\\vfgtr554\\anaconda3\\envs\\cctv\\lib\\site-packages\\statsmodels\\base\\model.py:606: ConvergenceWarning: Maximum Likelihood optimization failed to converge. Check mle_retvals\n",
      "  ConvergenceWarning)\n",
      "C:\\Users\\vfgtr554\\anaconda3\\envs\\cctv\\lib\\site-packages\\pandas\\core\\arraylike.py:364: RuntimeWarning: divide by zero encountered in log\n",
      "  result = getattr(ufunc, method)(*inputs, **kwargs)\n"
     ]
    },
    {
     "name": "stdout",
     "output_type": "stream",
     "text": [
      "Predict Finish, 26.7557 26.5689 0.9632 0.0358 Evaluation Finish\n",
      "18: Data Load Finish, Predict Finish, 5.01 3.895 0.1299 0.8195 Evaluation Finish\n",
      "19: Data Load Finish, "
     ]
    },
    {
     "name": "stderr",
     "output_type": "stream",
     "text": [
      "C:\\Users\\vfgtr554\\anaconda3\\envs\\cctv\\lib\\site-packages\\statsmodels\\base\\model.py:606: ConvergenceWarning: Maximum Likelihood optimization failed to converge. Check mle_retvals\n",
      "  ConvergenceWarning)\n"
     ]
    },
    {
     "name": "stdout",
     "output_type": "stream",
     "text": [
      "Predict Finish, 26.7557 26.5689 0.9632 0.0358 Evaluation Finish\n",
      "20: Data Load Finish, Predict Finish, 9.2674 8.7028 0.3068 0.666 Evaluation Finish\n",
      "21: Data Load Finish, "
     ]
    },
    {
     "name": "stderr",
     "output_type": "stream",
     "text": [
      "C:\\Users\\vfgtr554\\anaconda3\\envs\\cctv\\lib\\site-packages\\pandas\\core\\arraylike.py:364: RuntimeWarning: divide by zero encountered in log\n",
      "  result = getattr(ufunc, method)(*inputs, **kwargs)\n",
      "C:\\Users\\vfgtr554\\anaconda3\\envs\\cctv\\lib\\site-packages\\statsmodels\\base\\model.py:606: ConvergenceWarning: Maximum Likelihood optimization failed to converge. Check mle_retvals\n",
      "  ConvergenceWarning)\n"
     ]
    },
    {
     "name": "stdout",
     "output_type": "stream",
     "text": [
      "Predict Finish, 26.7557 26.5689 0.9632 0.0358 Evaluation Finish\n",
      "22: Data Load Finish, Predict Finish, 3.4363 2.9604 0.1056 0.8762 Evaluation Finish\n",
      "23: Data Load Finish, Predict Finish, 5.1343 4.171 0.1621 0.815 Evaluation Finish\n",
      "24: Data Load Finish, Predict Finish, 17.5528 17.0469 0.6399 0.3674 Evaluation Finish\n",
      "25: Data Load Finish, Predict Finish, 5.2506 4.0891 0.1373 0.8108 Evaluation Finish\n",
      "26: Data Load Finish, Predict Finish, 5.0313 3.932 0.1318 0.8187 Evaluation Finish\n",
      "27: Data Load Finish, Predict Finish, 6.0401 5.1076 0.1743 0.7823 Evaluation Finish\n",
      "28: Data Load Finish, Predict Finish, 6.3189 5.3828 0.2101 0.7723 Evaluation Finish\n",
      "29: Data Load Finish, Predict Finish, 4.8019 3.5926 0.1189 0.827 Evaluation Finish\n",
      "30: Data Load Finish, Predict Finish, 3.3818 2.9241 0.1132 0.8781 Evaluation Finish\n",
      "31: Data Load Finish, Predict Finish, 3.3175 2.9961 0.1065 0.8804 Evaluation Finish\n",
      "32: Data Load Finish, "
     ]
    },
    {
     "name": "stderr",
     "output_type": "stream",
     "text": [
      "C:\\Users\\vfgtr554\\anaconda3\\envs\\cctv\\lib\\site-packages\\pandas\\core\\arraylike.py:364: RuntimeWarning: divide by zero encountered in log\n",
      "  result = getattr(ufunc, method)(*inputs, **kwargs)\n",
      "C:\\Users\\vfgtr554\\anaconda3\\envs\\cctv\\lib\\site-packages\\statsmodels\\base\\model.py:606: ConvergenceWarning: Maximum Likelihood optimization failed to converge. Check mle_retvals\n",
      "  ConvergenceWarning)\n",
      "C:\\Users\\vfgtr554\\anaconda3\\envs\\cctv\\lib\\site-packages\\pandas\\core\\arraylike.py:364: RuntimeWarning: divide by zero encountered in log\n",
      "  result = getattr(ufunc, method)(*inputs, **kwargs)\n"
     ]
    },
    {
     "name": "stdout",
     "output_type": "stream",
     "text": [
      "Predict Finish, 26.7557 26.5689 0.9632 0.0358 Evaluation Finish\n",
      "33: Data Load Finish, "
     ]
    },
    {
     "name": "stderr",
     "output_type": "stream",
     "text": [
      "C:\\Users\\vfgtr554\\anaconda3\\envs\\cctv\\lib\\site-packages\\statsmodels\\base\\model.py:606: ConvergenceWarning: Maximum Likelihood optimization failed to converge. Check mle_retvals\n",
      "  ConvergenceWarning)\n"
     ]
    },
    {
     "name": "stdout",
     "output_type": "stream",
     "text": [
      "Predict Finish, 26.7557 26.5689 0.9632 0.0358 Evaluation Finish\n",
      "34: Data Load Finish, Predict Finish, 4.3049 3.2513 0.1088 0.8449 Evaluation Finish\n",
      "35: Data Load Finish, Predict Finish, 6.0053 5.0507 0.174 0.7836 Evaluation Finish\n",
      "36: Data Load Finish, Predict Finish, 5.9016 4.8691 0.1654 0.7873 Evaluation Finish\n",
      "37: Data Load Finish, Predict Finish, 4.3541 3.5738 0.1225 0.8431 Evaluation Finish\n",
      "38: Data Load Finish, Predict Finish, 7.6836 6.9783 0.2431 0.7231 Evaluation Finish\n",
      "39: Data Load Finish, Predict Finish, 3.3165 2.9872 0.1057 0.8805 Evaluation Finish\n",
      "40: Data Load Finish, Predict Finish, 6.7226 5.2501 0.1784 0.7577 Evaluation Finish\n",
      "41: Data Load Finish, Predict Finish, 9.6706 9.0249 0.3178 0.6515 Evaluation Finish\n",
      "42: Data Load Finish, Predict Finish, 6.9867 6.261 0.2171 0.7482 Evaluation Finish\n",
      "43: Data Load Finish, "
     ]
    },
    {
     "name": "stderr",
     "output_type": "stream",
     "text": [
      "C:\\Users\\vfgtr554\\anaconda3\\envs\\cctv\\lib\\site-packages\\pandas\\core\\arraylike.py:364: RuntimeWarning: divide by zero encountered in log\n",
      "  result = getattr(ufunc, method)(*inputs, **kwargs)\n",
      "C:\\Users\\vfgtr554\\anaconda3\\envs\\cctv\\lib\\site-packages\\statsmodels\\base\\model.py:606: ConvergenceWarning: Maximum Likelihood optimization failed to converge. Check mle_retvals\n",
      "  ConvergenceWarning)\n"
     ]
    },
    {
     "name": "stdout",
     "output_type": "stream",
     "text": [
      "Predict Finish, 26.7557 26.5689 0.9632 0.0358 Evaluation Finish\n",
      "44: Data Load Finish, Predict Finish, 3.5341 3.1289 0.12 0.8726 Evaluation Finish\n",
      "45: Data Load Finish, Predict Finish, 8.0246 7.3717 0.2577 0.7108 Evaluation Finish\n",
      "46: Data Load Finish, "
     ]
    },
    {
     "name": "stderr",
     "output_type": "stream",
     "text": [
      "C:\\Users\\vfgtr554\\anaconda3\\envs\\cctv\\lib\\site-packages\\pandas\\core\\arraylike.py:364: RuntimeWarning: divide by zero encountered in log\n",
      "  result = getattr(ufunc, method)(*inputs, **kwargs)\n",
      "C:\\Users\\vfgtr554\\anaconda3\\envs\\cctv\\lib\\site-packages\\statsmodels\\base\\model.py:606: ConvergenceWarning: Maximum Likelihood optimization failed to converge. Check mle_retvals\n",
      "  ConvergenceWarning)\n"
     ]
    },
    {
     "name": "stdout",
     "output_type": "stream",
     "text": [
      "Predict Finish, 26.7557 26.5689 0.9632 0.0358 Evaluation Finish\n",
      "47: Data Load Finish, Predict Finish, 4.7701 3.7011 0.1234 0.8281 Evaluation Finish\n",
      "48: Data Load Finish, "
     ]
    },
    {
     "name": "stderr",
     "output_type": "stream",
     "text": [
      "C:\\Users\\vfgtr554\\anaconda3\\envs\\cctv\\lib\\site-packages\\pandas\\core\\arraylike.py:364: RuntimeWarning: divide by zero encountered in log\n",
      "  result = getattr(ufunc, method)(*inputs, **kwargs)\n",
      "C:\\Users\\vfgtr554\\anaconda3\\envs\\cctv\\lib\\site-packages\\statsmodels\\base\\model.py:606: ConvergenceWarning: Maximum Likelihood optimization failed to converge. Check mle_retvals\n",
      "  ConvergenceWarning)\n"
     ]
    },
    {
     "name": "stdout",
     "output_type": "stream",
     "text": [
      "Predict Finish, 26.7557 26.5689 0.9632 0.0358 Evaluation Finish\n",
      "49: Data Load Finish, Predict Finish, 3.2571 2.9963 0.1112 0.8826 Evaluation Finish\n",
      "50: Data Load Finish, Predict Finish, 4.6568 3.5029 0.1168 0.8322 Evaluation Finish\n",
      "51: Data Load Finish, Predict Finish, 7.4435 6.7455 0.2347 0.7318 Evaluation Finish\n",
      "52: Data Load Finish, Predict Finish, 10.7046 10.2483 0.3638 0.6142 Evaluation Finish\n",
      "53: Data Load Finish, Predict Finish, 13.1446 12.7216 0.4539 0.5263 Evaluation Finish\n",
      "54: Data Load Finish, Predict Finish, 11.0692 10.6294 0.3777 0.6011 Evaluation Finish\n",
      "55: Data Load Finish, Predict Finish, 3.9832 3.2586 0.1288 0.8565 Evaluation Finish\n",
      "56: Data Load Finish, Predict Finish, 11.3486 10.8739 0.4131 0.591 Evaluation Finish\n",
      "57: Data Load Finish, Predict Finish, 4.7033 3.7725 0.1501 0.8305 Evaluation Finish\n",
      "58: Data Load Finish, Predict Finish, 15.9209 15.5761 0.586 0.4263 Evaluation Finish\n",
      "59: Data Load Finish, Predict Finish, 7.3414 6.6111 0.2563 0.7354 Evaluation Finish\n",
      "60: Data Load Finish, "
     ]
    },
    {
     "name": "stderr",
     "output_type": "stream",
     "text": [
      "C:\\Users\\vfgtr554\\anaconda3\\envs\\cctv\\lib\\site-packages\\pandas\\core\\arraylike.py:364: RuntimeWarning: divide by zero encountered in log\n",
      "  result = getattr(ufunc, method)(*inputs, **kwargs)\n",
      "C:\\Users\\vfgtr554\\anaconda3\\envs\\cctv\\lib\\site-packages\\statsmodels\\base\\model.py:606: ConvergenceWarning: Maximum Likelihood optimization failed to converge. Check mle_retvals\n",
      "  ConvergenceWarning)\n"
     ]
    },
    {
     "name": "stdout",
     "output_type": "stream",
     "text": [
      "Predict Finish, 26.7557 26.5689 0.9632 0.0358 Evaluation Finish\n",
      "61: Data Load Finish, Predict Finish, 7.6533 6.9485 0.242 0.7242 Evaluation Finish\n",
      "62: Data Load Finish, "
     ]
    },
    {
     "name": "stderr",
     "output_type": "stream",
     "text": [
      "C:\\Users\\vfgtr554\\anaconda3\\envs\\cctv\\lib\\site-packages\\pandas\\core\\arraylike.py:364: RuntimeWarning: divide by zero encountered in log\n",
      "  result = getattr(ufunc, method)(*inputs, **kwargs)\n",
      "C:\\Users\\vfgtr554\\anaconda3\\envs\\cctv\\lib\\site-packages\\statsmodels\\base\\model.py:606: ConvergenceWarning: Maximum Likelihood optimization failed to converge. Check mle_retvals\n",
      "  ConvergenceWarning)\n"
     ]
    },
    {
     "name": "stdout",
     "output_type": "stream",
     "text": [
      "Predict Finish, 26.7557 26.5689 0.9632 0.0358 Evaluation Finish\n",
      "63: Data Load Finish, Predict Finish, 4.915 4.0224 0.1591 0.8229 Evaluation Finish\n",
      "64: Data Load Finish, Predict Finish, 6.9928 6.1912 0.2404 0.748 Evaluation Finish\n",
      "65: Data Load Finish, Predict Finish, 8.1075 7.1477 0.2498 0.7078 Evaluation Finish\n",
      "66: Data Load Finish, Predict Finish, 3.266 2.9622 0.1055 0.8823 Evaluation Finish\n",
      "67: Data Load Finish, Predict Finish, 7.202 6.42 0.2229 0.7405 Evaluation Finish\n",
      "68: Data Load Finish, Predict Finish, 3.7468 3.1631 0.1097 0.865 Evaluation Finish\n",
      "69: Data Load Finish, "
     ]
    },
    {
     "name": "stderr",
     "output_type": "stream",
     "text": [
      "C:\\Users\\vfgtr554\\anaconda3\\envs\\cctv\\lib\\site-packages\\pandas\\core\\arraylike.py:364: RuntimeWarning: divide by zero encountered in log\n",
      "  result = getattr(ufunc, method)(*inputs, **kwargs)\n",
      "C:\\Users\\vfgtr554\\anaconda3\\envs\\cctv\\lib\\site-packages\\statsmodels\\base\\model.py:606: ConvergenceWarning: Maximum Likelihood optimization failed to converge. Check mle_retvals\n",
      "  ConvergenceWarning)\n"
     ]
    },
    {
     "name": "stdout",
     "output_type": "stream",
     "text": [
      "Predict Finish, 26.7557 26.5689 0.9632 0.0358 Evaluation Finish\n",
      "70: Data Load Finish, Predict Finish, 24.9848 24.7865 0.9242 0.0996 Evaluation Finish\n",
      "71: Data Load Finish, Predict Finish, 30.2464 30.0256 1.1178 -0.09 Evaluation Finish\n",
      "72: Data Load Finish, Predict Finish, 30.1789 30.0102 1.1163 -0.0876 Evaluation Finish\n",
      "73: Data Load Finish, Predict Finish, 28.3319 28.0643 1.0453 -0.021 Evaluation Finish\n",
      "74: Data Load Finish, Predict Finish, 30.4687 30.3046 1.127 -0.098 Evaluation Finish\n",
      "75: Data Load Finish, Predict Finish, 15.5725 15.249 0.5737 0.4388 Evaluation Finish\n",
      "76: Data Load Finish, "
     ]
    },
    {
     "name": "stderr",
     "output_type": "stream",
     "text": [
      "C:\\Users\\vfgtr554\\anaconda3\\envs\\cctv\\lib\\site-packages\\pandas\\core\\arraylike.py:364: RuntimeWarning: divide by zero encountered in log\n",
      "  result = getattr(ufunc, method)(*inputs, **kwargs)\n",
      "C:\\Users\\vfgtr554\\anaconda3\\envs\\cctv\\lib\\site-packages\\statsmodels\\base\\model.py:606: ConvergenceWarning: Maximum Likelihood optimization failed to converge. Check mle_retvals\n",
      "  ConvergenceWarning)\n"
     ]
    },
    {
     "name": "stdout",
     "output_type": "stream",
     "text": [
      "Predict Finish, 26.7557 26.5689 0.9632 0.0358 Evaluation Finish\n",
      "77: Data Load Finish, Predict Finish, 3.8079 3.1105 0.106 0.8628 Evaluation Finish\n",
      "78: Data Load Finish, "
     ]
    },
    {
     "name": "stderr",
     "output_type": "stream",
     "text": [
      "C:\\Users\\vfgtr554\\anaconda3\\envs\\cctv\\lib\\site-packages\\pandas\\core\\arraylike.py:364: RuntimeWarning: divide by zero encountered in log\n",
      "  result = getattr(ufunc, method)(*inputs, **kwargs)\n",
      "C:\\Users\\vfgtr554\\anaconda3\\envs\\cctv\\lib\\site-packages\\statsmodels\\base\\model.py:606: ConvergenceWarning: Maximum Likelihood optimization failed to converge. Check mle_retvals\n",
      "  ConvergenceWarning)\n"
     ]
    },
    {
     "name": "stdout",
     "output_type": "stream",
     "text": [
      "Predict Finish, 26.7557 26.5689 0.9632 0.0358 Evaluation Finish\n",
      "79: Data Load Finish, Predict Finish, 4.8847 3.504 0.119 0.824 Evaluation Finish\n",
      "80: Data Load Finish, Predict Finish, 3.4326 2.8213 0.1014 0.8763 Evaluation Finish\n",
      "81: Data Load Finish, Predict Finish, 11.0939 10.632 0.3775 0.6002 Evaluation Finish\n",
      "82: Data Load Finish, Predict Finish, 9.1482 8.5592 0.328 0.6703 Evaluation Finish\n",
      "83: Data Load Finish, Predict Finish, 3.9215 3.2373 0.1105 0.8587 Evaluation Finish\n",
      "84: Data Load Finish, Predict Finish, 13.0791 12.685 0.4795 0.5287 Evaluation Finish\n",
      "85: Data Load Finish, "
     ]
    },
    {
     "name": "stderr",
     "output_type": "stream",
     "text": [
      "C:\\Users\\vfgtr554\\anaconda3\\envs\\cctv\\lib\\site-packages\\pandas\\core\\arraylike.py:364: RuntimeWarning: divide by zero encountered in log\n",
      "  result = getattr(ufunc, method)(*inputs, **kwargs)\n",
      "C:\\Users\\vfgtr554\\anaconda3\\envs\\cctv\\lib\\site-packages\\statsmodels\\base\\model.py:606: ConvergenceWarning: Maximum Likelihood optimization failed to converge. Check mle_retvals\n",
      "  ConvergenceWarning)\n"
     ]
    },
    {
     "name": "stdout",
     "output_type": "stream",
     "text": [
      "Predict Finish, 26.7557 26.5689 0.9632 0.0358 Evaluation Finish\n",
      "86: Data Load Finish, Predict Finish, 7.127 6.3024 0.245 0.7432 Evaluation Finish\n",
      "87: Data Load Finish, Predict Finish, 3.5389 3.0584 0.1065 0.8725 Evaluation Finish\n",
      "88: Data Load Finish, Predict Finish, 3.644 3.1543 0.1224 0.8687 Evaluation Finish\n",
      "89: Data Load Finish, "
     ]
    },
    {
     "name": "stderr",
     "output_type": "stream",
     "text": [
      "C:\\Users\\vfgtr554\\anaconda3\\envs\\cctv\\lib\\site-packages\\statsmodels\\base\\model.py:606: ConvergenceWarning: Maximum Likelihood optimization failed to converge. Check mle_retvals\n",
      "  ConvergenceWarning)\n",
      "C:\\Users\\vfgtr554\\anaconda3\\envs\\cctv\\lib\\site-packages\\pandas\\core\\arraylike.py:364: RuntimeWarning: divide by zero encountered in log\n",
      "  result = getattr(ufunc, method)(*inputs, **kwargs)\n"
     ]
    },
    {
     "name": "stdout",
     "output_type": "stream",
     "text": [
      "Predict Finish, 3.1968 2.9304 0.1094 0.8848 Evaluation Finish\n",
      "90: Data Load Finish, "
     ]
    },
    {
     "name": "stderr",
     "output_type": "stream",
     "text": [
      "C:\\Users\\vfgtr554\\anaconda3\\envs\\cctv\\lib\\site-packages\\statsmodels\\base\\model.py:606: ConvergenceWarning: Maximum Likelihood optimization failed to converge. Check mle_retvals\n",
      "  ConvergenceWarning)\n"
     ]
    },
    {
     "name": "stdout",
     "output_type": "stream",
     "text": [
      "Predict Finish, 26.7557 26.5689 0.9632 0.0358 Evaluation Finish\n",
      "91: Data Load Finish, Predict Finish, 11.0814 10.6285 0.4038 0.6007 Evaluation Finish\n",
      "92: Data Load Finish, Predict Finish, 3.4442 3.0168 0.1165 0.8759 Evaluation Finish\n",
      "93: Data Load Finish, Predict Finish, 3.7376 3.1435 0.1087 0.8653 Evaluation Finish\n",
      "94: Data Load Finish, Predict Finish, 3.5665 3.0271 0.117 0.8715 Evaluation Finish\n",
      "95: Data Load Finish, Predict Finish, 5.2384 4.156 0.1394 0.8112 Evaluation Finish\n",
      "96: "
     ]
    },
    {
     "name": "stderr",
     "output_type": "stream",
     "text": [
      "C:\\Users\\vfgtr554\\anaconda3\\envs\\cctv\\lib\\site-packages\\pandas\\core\\arraylike.py:364: RuntimeWarning: divide by zero encountered in log\n",
      "  result = getattr(ufunc, method)(*inputs, **kwargs)\n"
     ]
    },
    {
     "name": "stdout",
     "output_type": "stream",
     "text": [
      "Data Load Finish, "
     ]
    },
    {
     "name": "stderr",
     "output_type": "stream",
     "text": [
      "C:\\Users\\vfgtr554\\anaconda3\\envs\\cctv\\lib\\site-packages\\statsmodels\\base\\model.py:606: ConvergenceWarning: Maximum Likelihood optimization failed to converge. Check mle_retvals\n",
      "  ConvergenceWarning)\n"
     ]
    },
    {
     "name": "stdout",
     "output_type": "stream",
     "text": [
      "Predict Finish, 26.7557 26.5689 0.9632 0.0358 Evaluation Finish\n",
      "97: Data Load Finish, "
     ]
    },
    {
     "name": "stderr",
     "output_type": "stream",
     "text": [
      "C:\\Users\\vfgtr554\\anaconda3\\envs\\cctv\\lib\\site-packages\\statsmodels\\base\\model.py:606: ConvergenceWarning: Maximum Likelihood optimization failed to converge. Check mle_retvals\n",
      "  ConvergenceWarning)\n"
     ]
    },
    {
     "name": "stdout",
     "output_type": "stream",
     "text": [
      "Predict Finish, 5.6167 4.7654 0.1866 0.7976 Evaluation Finish\n",
      "98: Data Load Finish, Predict Finish, 4.5977 3.8403 0.1359 0.8343 Evaluation Finish\n",
      "99: Data Load Finish, "
     ]
    },
    {
     "name": "stderr",
     "output_type": "stream",
     "text": [
      "C:\\Users\\vfgtr554\\anaconda3\\envs\\cctv\\lib\\site-packages\\pandas\\core\\arraylike.py:364: RuntimeWarning: divide by zero encountered in log\n",
      "  result = getattr(ufunc, method)(*inputs, **kwargs)\n",
      "C:\\Users\\vfgtr554\\anaconda3\\envs\\cctv\\lib\\site-packages\\statsmodels\\base\\model.py:606: ConvergenceWarning: Maximum Likelihood optimization failed to converge. Check mle_retvals\n",
      "  ConvergenceWarning)\n"
     ]
    },
    {
     "name": "stdout",
     "output_type": "stream",
     "text": [
      "Predict Finish, 26.7557 26.5689 0.9632 0.0358 Evaluation Finish\n",
      "100: Data Load Finish, Predict Finish, 4.9258 3.6596 0.1215 0.8225 Evaluation Finish\n",
      "101: Data Load Finish, Predict Finish, 8.1955 7.5872 0.2919 0.7047 Evaluation Finish\n",
      "102: Data Load Finish, Predict Finish, 10.1835 9.694 0.3433 0.633 Evaluation Finish\n",
      "103: Data Load Finish, "
     ]
    },
    {
     "name": "stderr",
     "output_type": "stream",
     "text": [
      "C:\\Users\\vfgtr554\\anaconda3\\envs\\cctv\\lib\\site-packages\\statsmodels\\base\\model.py:606: ConvergenceWarning: Maximum Likelihood optimization failed to converge. Check mle_retvals\n",
      "  ConvergenceWarning)\n"
     ]
    },
    {
     "name": "stdout",
     "output_type": "stream",
     "text": [
      "Predict Finish, 3.5383 3.136 0.1202 0.8725 Evaluation Finish\n",
      "104: Data Load Finish, Predict Finish, 3.1008 2.8643 0.1038 0.8883 Evaluation Finish\n",
      "105: Data Load Finish, Predict Finish, 3.9493 3.2134 0.1092 0.8577 Evaluation Finish\n",
      "106: Data Load Finish, Predict Finish, 3.3486 3.0018 0.106 0.8793 Evaluation Finish\n",
      "107: Data Load Finish, Predict Finish, 6.1352 5.3207 0.2083 0.7789 Evaluation Finish\n",
      "108: Data Load Finish, "
     ]
    },
    {
     "name": "stderr",
     "output_type": "stream",
     "text": [
      "C:\\Users\\vfgtr554\\anaconda3\\envs\\cctv\\lib\\site-packages\\pandas\\core\\arraylike.py:364: RuntimeWarning: divide by zero encountered in log\n",
      "  result = getattr(ufunc, method)(*inputs, **kwargs)\n",
      "C:\\Users\\vfgtr554\\anaconda3\\envs\\cctv\\lib\\site-packages\\statsmodels\\base\\model.py:606: ConvergenceWarning: Maximum Likelihood optimization failed to converge. Check mle_retvals\n",
      "  ConvergenceWarning)\n",
      "C:\\Users\\vfgtr554\\anaconda3\\envs\\cctv\\lib\\site-packages\\pandas\\core\\arraylike.py:364: RuntimeWarning: divide by zero encountered in log\n",
      "  result = getattr(ufunc, method)(*inputs, **kwargs)\n"
     ]
    },
    {
     "name": "stdout",
     "output_type": "stream",
     "text": [
      "Predict Finish, 26.7557 26.5689 0.9632 0.0358 Evaluation Finish\n",
      "109: Data Load Finish, "
     ]
    },
    {
     "name": "stderr",
     "output_type": "stream",
     "text": [
      "C:\\Users\\vfgtr554\\anaconda3\\envs\\cctv\\lib\\site-packages\\statsmodels\\base\\model.py:606: ConvergenceWarning: Maximum Likelihood optimization failed to converge. Check mle_retvals\n",
      "  ConvergenceWarning)\n"
     ]
    },
    {
     "name": "stdout",
     "output_type": "stream",
     "text": [
      "Predict Finish, 26.7557 26.5689 0.9632 0.0358 Evaluation Finish\n",
      "110: Data Load Finish, Predict Finish, 3.1903 2.9104 0.1074 0.885 Evaluation Finish\n",
      "111: Data Load Finish, Predict Finish, 3.9012 3.0774 0.1108 0.8594 Evaluation Finish\n",
      "112: Data Load Finish, "
     ]
    },
    {
     "name": "stderr",
     "output_type": "stream",
     "text": [
      "C:\\Users\\vfgtr554\\anaconda3\\envs\\cctv\\lib\\site-packages\\pandas\\core\\arraylike.py:364: RuntimeWarning: divide by zero encountered in log\n",
      "  result = getattr(ufunc, method)(*inputs, **kwargs)\n",
      "C:\\Users\\vfgtr554\\anaconda3\\envs\\cctv\\lib\\site-packages\\statsmodels\\base\\model.py:606: ConvergenceWarning: Maximum Likelihood optimization failed to converge. Check mle_retvals\n",
      "  ConvergenceWarning)\n"
     ]
    },
    {
     "name": "stdout",
     "output_type": "stream",
     "text": [
      "Predict Finish, 26.7557 26.5689 0.9632 0.0358 Evaluation Finish\n",
      "113: Data Load Finish, Predict Finish, 5.8875 4.9665 0.1693 0.7878 Evaluation Finish\n",
      "114: Data Load Finish, Predict Finish, 3.534 3.0433 0.1057 0.8726 Evaluation Finish\n",
      "115: Data Load Finish, Predict Finish, 4.4368 3.4439 0.115 0.8401 Evaluation Finish\n",
      "116: Data Load Finish, Predict Finish, 5.0608 4.1282 0.1639 0.8176 Evaluation Finish\n",
      "117: Data Load Finish, Predict Finish, 13.0871 12.6811 0.4793 0.5284 Evaluation Finish\n",
      "118: Data Load Finish, Predict Finish, 31.1211 30.9436 1.1508 -0.1215 Evaluation Finish\n",
      "119: Data Load Finish, Predict Finish, 6.5044 5.7132 0.2229 0.7656 Evaluation Finish\n",
      "120: Data Load Finish, Predict Finish, 3.4708 3.0345 0.1063 0.8749 Evaluation Finish\n",
      "121: Data Load Finish, Predict Finish, 5.7385 4.771 0.162 0.7932 Evaluation Finish\n",
      "122: Data Load Finish, Predict Finish, 7.2064 6.0985 0.211 0.7403 Evaluation Finish\n",
      "123: Data Load Finish, Predict Finish, 7.3998 6.6791 0.2324 0.7333 Evaluation Finish\n",
      "124: Data Load Finish, Predict Finish, 9.4853 8.9451 0.3155 0.6582 Evaluation Finish\n",
      "125: Data Load Finish, Predict Finish, 17.0956 16.7714 0.63 0.3839 Evaluation Finish\n",
      "126: Data Load Finish, Predict Finish, 6.7064 5.8708 0.2026 0.7583 Evaluation Finish\n",
      "127: Data Load Finish, Predict Finish, 8.2137 7.5414 0.2642 0.704 Evaluation Finish\n",
      "128: Data Load Finish, Predict Finish, 7.5717 6.8554 0.2388 0.7271 Evaluation Finish\n",
      "129: "
     ]
    },
    {
     "name": "stderr",
     "output_type": "stream",
     "text": [
      "C:\\Users\\vfgtr554\\anaconda3\\envs\\cctv\\lib\\site-packages\\pandas\\core\\arraylike.py:364: RuntimeWarning: divide by zero encountered in log\n",
      "  result = getattr(ufunc, method)(*inputs, **kwargs)\n"
     ]
    },
    {
     "name": "stdout",
     "output_type": "stream",
     "text": [
      "Data Load Finish, "
     ]
    },
    {
     "name": "stderr",
     "output_type": "stream",
     "text": [
      "C:\\Users\\vfgtr554\\anaconda3\\envs\\cctv\\lib\\site-packages\\statsmodels\\base\\model.py:606: ConvergenceWarning: Maximum Likelihood optimization failed to converge. Check mle_retvals\n",
      "  ConvergenceWarning)\n"
     ]
    },
    {
     "name": "stdout",
     "output_type": "stream",
     "text": [
      "Predict Finish, 26.7557 26.5689 0.9632 0.0358 Evaluation Finish\n",
      "130: Data Load Finish, Predict Finish, 3.3563 2.9152 0.1054 0.879 Evaluation Finish\n",
      "131: Data Load Finish, Predict Finish, 3.2565 2.866 0.107 0.8826 Evaluation Finish\n",
      "132: Data Load Finish, Predict Finish, 5.8654 4.9405 0.1684 0.7886 Evaluation Finish\n",
      "133: Data Load Finish, Predict Finish, 3.9087 3.1072 0.1055 0.8591 Evaluation Finish\n",
      "134: Data Load Finish, Predict Finish, 9.6375 9.1072 0.3216 0.6527 Evaluation Finish\n",
      "135: Data Load Finish, Predict Finish, 5.0104 4.2033 0.1441 0.8194 Evaluation Finish\n",
      "136: Data Load Finish, Predict Finish, 8.9467 8.3569 0.2941 0.6776 Evaluation Finish\n",
      "137: Data Load Finish, "
     ]
    },
    {
     "name": "stderr",
     "output_type": "stream",
     "text": [
      "C:\\Users\\vfgtr554\\anaconda3\\envs\\cctv\\lib\\site-packages\\pandas\\core\\arraylike.py:364: RuntimeWarning: divide by zero encountered in log\n",
      "  result = getattr(ufunc, method)(*inputs, **kwargs)\n",
      "C:\\Users\\vfgtr554\\anaconda3\\envs\\cctv\\lib\\site-packages\\statsmodels\\base\\model.py:606: ConvergenceWarning: Maximum Likelihood optimization failed to converge. Check mle_retvals\n",
      "  ConvergenceWarning)\n"
     ]
    },
    {
     "name": "stdout",
     "output_type": "stream",
     "text": [
      "Predict Finish, 26.7557 26.5689 0.9632 0.0358 Evaluation Finish\n",
      "138: Data Load Finish, Predict Finish, 4.8577 3.8625 0.1297 0.8249 Evaluation Finish\n",
      "139: Data Load Finish, "
     ]
    },
    {
     "name": "stderr",
     "output_type": "stream",
     "text": [
      "C:\\Users\\vfgtr554\\anaconda3\\envs\\cctv\\lib\\site-packages\\pandas\\core\\arraylike.py:364: RuntimeWarning: divide by zero encountered in log\n",
      "  result = getattr(ufunc, method)(*inputs, **kwargs)\n",
      "C:\\Users\\vfgtr554\\anaconda3\\envs\\cctv\\lib\\site-packages\\statsmodels\\base\\model.py:606: ConvergenceWarning: Maximum Likelihood optimization failed to converge. Check mle_retvals\n",
      "  ConvergenceWarning)\n"
     ]
    },
    {
     "name": "stdout",
     "output_type": "stream",
     "text": [
      "Predict Finish, 26.7557 26.5689 0.9632 0.0358 Evaluation Finish\n",
      "140: Data Load Finish, Predict Finish, 3.5794 2.9861 0.1147 0.871 Evaluation Finish\n",
      "141: Data Load Finish, Predict Finish, 4.6742 3.554 0.1181 0.8316 Evaluation Finish\n",
      "142: Data Load Finish, Predict Finish, 5.7424 4.798 0.1632 0.7931 Evaluation Finish\n",
      "143: Data Load Finish, "
     ]
    },
    {
     "name": "stderr",
     "output_type": "stream",
     "text": [
      "C:\\Users\\vfgtr554\\anaconda3\\envs\\cctv\\lib\\site-packages\\pandas\\core\\arraylike.py:364: RuntimeWarning: divide by zero encountered in log\n",
      "  result = getattr(ufunc, method)(*inputs, **kwargs)\n",
      "C:\\Users\\vfgtr554\\anaconda3\\envs\\cctv\\lib\\site-packages\\statsmodels\\base\\model.py:606: ConvergenceWarning: Maximum Likelihood optimization failed to converge. Check mle_retvals\n",
      "  ConvergenceWarning)\n",
      "C:\\Users\\vfgtr554\\anaconda3\\envs\\cctv\\lib\\site-packages\\pandas\\core\\arraylike.py:364: RuntimeWarning: divide by zero encountered in log\n",
      "  result = getattr(ufunc, method)(*inputs, **kwargs)\n"
     ]
    },
    {
     "name": "stdout",
     "output_type": "stream",
     "text": [
      "Predict Finish, 26.7557 26.5689 0.9632 0.0358 Evaluation Finish\n",
      "144: Data Load Finish, "
     ]
    },
    {
     "name": "stderr",
     "output_type": "stream",
     "text": [
      "C:\\Users\\vfgtr554\\anaconda3\\envs\\cctv\\lib\\site-packages\\statsmodels\\base\\model.py:606: ConvergenceWarning: Maximum Likelihood optimization failed to converge. Check mle_retvals\n",
      "  ConvergenceWarning)\n"
     ]
    },
    {
     "name": "stdout",
     "output_type": "stream",
     "text": [
      "Predict Finish, 26.7557 26.5689 0.9632 0.0358 Evaluation Finish\n",
      "145: Data Load Finish, Predict Finish, 32.1023 31.9461 1.1874 -0.1569 Evaluation Finish\n",
      "146: Data Load Finish, Predict Finish, 3.5543 3.0856 0.1193 0.8719 Evaluation Finish\n",
      "147: Data Load Finish, Predict Finish, 4.2761 3.3227 0.1326 0.8459 Evaluation Finish\n",
      "148: Data Load Finish, Predict Finish, 9.1649 8.6041 0.303 0.6697 Evaluation Finish\n",
      "149: Data Load Finish, Predict Finish, 4.7996 4.0804 0.1417 0.827 Evaluation Finish\n",
      "150: Data Load Finish, "
     ]
    },
    {
     "name": "stderr",
     "output_type": "stream",
     "text": [
      "C:\\Users\\vfgtr554\\anaconda3\\envs\\cctv\\lib\\site-packages\\pandas\\core\\arraylike.py:364: RuntimeWarning: divide by zero encountered in log\n",
      "  result = getattr(ufunc, method)(*inputs, **kwargs)\n",
      "C:\\Users\\vfgtr554\\anaconda3\\envs\\cctv\\lib\\site-packages\\statsmodels\\base\\model.py:606: ConvergenceWarning: Maximum Likelihood optimization failed to converge. Check mle_retvals\n",
      "  ConvergenceWarning)\n",
      "C:\\Users\\vfgtr554\\anaconda3\\envs\\cctv\\lib\\site-packages\\pandas\\core\\arraylike.py:364: RuntimeWarning: divide by zero encountered in log\n",
      "  result = getattr(ufunc, method)(*inputs, **kwargs)\n"
     ]
    },
    {
     "name": "stdout",
     "output_type": "stream",
     "text": [
      "Predict Finish, 26.7557 26.5689 0.9632 0.0358 Evaluation Finish\n",
      "151: Data Load Finish, "
     ]
    },
    {
     "name": "stderr",
     "output_type": "stream",
     "text": [
      "C:\\Users\\vfgtr554\\anaconda3\\envs\\cctv\\lib\\site-packages\\statsmodels\\base\\model.py:606: ConvergenceWarning: Maximum Likelihood optimization failed to converge. Check mle_retvals\n",
      "  ConvergenceWarning)\n"
     ]
    },
    {
     "name": "stdout",
     "output_type": "stream",
     "text": [
      "Predict Finish, 26.7557 26.5689 0.9632 0.0358 Evaluation Finish\n",
      "152: Data Load Finish, Predict Finish, 5.9737 5.0345 0.1716 0.7847 Evaluation Finish\n",
      "153: Data Load Finish, "
     ]
    },
    {
     "name": "stderr",
     "output_type": "stream",
     "text": [
      "C:\\Users\\vfgtr554\\anaconda3\\envs\\cctv\\lib\\site-packages\\pandas\\core\\arraylike.py:364: RuntimeWarning: divide by zero encountered in log\n",
      "  result = getattr(ufunc, method)(*inputs, **kwargs)\n",
      "C:\\Users\\vfgtr554\\anaconda3\\envs\\cctv\\lib\\site-packages\\statsmodels\\base\\model.py:606: ConvergenceWarning: Maximum Likelihood optimization failed to converge. Check mle_retvals\n",
      "  ConvergenceWarning)\n",
      "C:\\Users\\vfgtr554\\anaconda3\\envs\\cctv\\lib\\site-packages\\pandas\\core\\arraylike.py:364: RuntimeWarning: divide by zero encountered in log\n",
      "  result = getattr(ufunc, method)(*inputs, **kwargs)\n"
     ]
    },
    {
     "name": "stdout",
     "output_type": "stream",
     "text": [
      "Predict Finish, 26.7557 26.5689 0.9632 0.0358 Evaluation Finish\n",
      "154: Data Load Finish, "
     ]
    },
    {
     "name": "stderr",
     "output_type": "stream",
     "text": [
      "C:\\Users\\vfgtr554\\anaconda3\\envs\\cctv\\lib\\site-packages\\statsmodels\\base\\model.py:606: ConvergenceWarning: Maximum Likelihood optimization failed to converge. Check mle_retvals\n",
      "  ConvergenceWarning)\n",
      "C:\\Users\\vfgtr554\\anaconda3\\envs\\cctv\\lib\\site-packages\\pandas\\core\\arraylike.py:364: RuntimeWarning: divide by zero encountered in log\n",
      "  result = getattr(ufunc, method)(*inputs, **kwargs)\n"
     ]
    },
    {
     "name": "stdout",
     "output_type": "stream",
     "text": [
      "Predict Finish, 26.7557 26.5689 0.9632 0.0358 Evaluation Finish\n",
      "155: Data Load Finish, "
     ]
    },
    {
     "name": "stderr",
     "output_type": "stream",
     "text": [
      "C:\\Users\\vfgtr554\\anaconda3\\envs\\cctv\\lib\\site-packages\\statsmodels\\base\\model.py:606: ConvergenceWarning: Maximum Likelihood optimization failed to converge. Check mle_retvals\n",
      "  ConvergenceWarning)\n"
     ]
    },
    {
     "name": "stdout",
     "output_type": "stream",
     "text": [
      "Predict Finish, 26.7557 26.5689 0.9632 0.0358 Evaluation Finish\n",
      "156: Data Load Finish, Predict Finish, 4.1567 3.3202 0.1119 0.8502 Evaluation Finish\n",
      "157: Data Load Finish, Predict Finish, 5.2595 4.3342 0.1478 0.8105 Evaluation Finish\n",
      "158: Data Load Finish, "
     ]
    },
    {
     "name": "stderr",
     "output_type": "stream",
     "text": [
      "C:\\Users\\vfgtr554\\anaconda3\\envs\\cctv\\lib\\site-packages\\pandas\\core\\arraylike.py:364: RuntimeWarning: divide by zero encountered in log\n",
      "  result = getattr(ufunc, method)(*inputs, **kwargs)\n",
      "C:\\Users\\vfgtr554\\anaconda3\\envs\\cctv\\lib\\site-packages\\statsmodels\\base\\model.py:606: ConvergenceWarning: Maximum Likelihood optimization failed to converge. Check mle_retvals\n",
      "  ConvergenceWarning)\n",
      "C:\\Users\\vfgtr554\\anaconda3\\envs\\cctv\\lib\\site-packages\\pandas\\core\\arraylike.py:364: RuntimeWarning: divide by zero encountered in log\n",
      "  result = getattr(ufunc, method)(*inputs, **kwargs)\n"
     ]
    },
    {
     "name": "stdout",
     "output_type": "stream",
     "text": [
      "Predict Finish, 26.7557 26.5689 0.9632 0.0358 Evaluation Finish\n",
      "159: Data Load Finish, "
     ]
    },
    {
     "name": "stderr",
     "output_type": "stream",
     "text": [
      "C:\\Users\\vfgtr554\\anaconda3\\envs\\cctv\\lib\\site-packages\\statsmodels\\base\\model.py:606: ConvergenceWarning: Maximum Likelihood optimization failed to converge. Check mle_retvals\n",
      "  ConvergenceWarning)\n"
     ]
    },
    {
     "name": "stdout",
     "output_type": "stream",
     "text": [
      "Predict Finish, 26.7557 26.5689 0.9632 0.0358 Evaluation Finish\n",
      "160: Data Load Finish, Predict Finish, 7.1872 6.2879 0.2179 0.741 Evaluation Finish\n",
      "161: Data Load Finish, Predict Finish, 5.8692 4.6869 0.1584 0.7885 Evaluation Finish\n",
      "162: Data Load Finish, "
     ]
    },
    {
     "name": "stderr",
     "output_type": "stream",
     "text": [
      "C:\\Users\\vfgtr554\\anaconda3\\envs\\cctv\\lib\\site-packages\\pandas\\core\\arraylike.py:364: RuntimeWarning: divide by zero encountered in log\n",
      "  result = getattr(ufunc, method)(*inputs, **kwargs)\n",
      "C:\\Users\\vfgtr554\\anaconda3\\envs\\cctv\\lib\\site-packages\\statsmodels\\base\\model.py:606: ConvergenceWarning: Maximum Likelihood optimization failed to converge. Check mle_retvals\n",
      "  ConvergenceWarning)\n",
      "C:\\Users\\vfgtr554\\anaconda3\\envs\\cctv\\lib\\site-packages\\pandas\\core\\arraylike.py:364: RuntimeWarning: divide by zero encountered in log\n",
      "  result = getattr(ufunc, method)(*inputs, **kwargs)\n"
     ]
    },
    {
     "name": "stdout",
     "output_type": "stream",
     "text": [
      "Predict Finish, 26.7557 26.5689 0.9632 0.0358 Evaluation Finish\n",
      "163: Data Load Finish, "
     ]
    },
    {
     "name": "stderr",
     "output_type": "stream",
     "text": [
      "C:\\Users\\vfgtr554\\anaconda3\\envs\\cctv\\lib\\site-packages\\statsmodels\\base\\model.py:606: ConvergenceWarning: Maximum Likelihood optimization failed to converge. Check mle_retvals\n",
      "  ConvergenceWarning)\n"
     ]
    },
    {
     "name": "stdout",
     "output_type": "stream",
     "text": [
      "Predict Finish, 26.7557 26.5689 0.9632 0.0358 Evaluation Finish\n",
      "164: Data Load Finish, Predict Finish, 3.1894 2.9125 0.1076 0.8851 Evaluation Finish\n",
      "165: Data Load Finish, Predict Finish, 3.2072 2.9415 0.1063 0.8844 Evaluation Finish\n",
      "166: Data Load Finish, Predict Finish, 9.2257 8.6534 0.3314 0.6675 Evaluation Finish\n",
      "167: Data Load Finish, Predict Finish, 11.6983 11.2491 0.4268 0.5784 Evaluation Finish\n",
      "168: Data Load Finish, Predict Finish, 25.7877 25.5852 0.9537 0.0707 Evaluation Finish\n",
      "169: Data Load Finish, Predict Finish, 10.3794 9.8075 0.3741 0.626 Evaluation Finish\n",
      "170: Data Load Finish, Predict Finish, 4.3715 3.5373 0.1198 0.8425 Evaluation Finish\n",
      "171: Data Load Finish, Predict Finish, 5.853 4.9057 0.1935 0.7891 Evaluation Finish\n",
      "172: Data Load Finish, Predict Finish, 4.084 3.3647 0.1154 0.8528 Evaluation Finish\n",
      "173: Data Load Finish, Predict Finish, 4.6723 3.7983 0.1479 0.8316 Evaluation Finish\n",
      "174: Data Load Finish, Predict Finish, 3.5725 2.9092 0.1146 0.8713 Evaluation Finish\n",
      "175: Data Load Finish, Predict Finish, 8.266 7.6898 0.2953 0.7021 Evaluation Finish\n",
      "176: Data Load Finish, Predict Finish, 8.7468 8.139 0.286 0.6848 Evaluation Finish\n",
      "177: Data Load Finish, Predict Finish, 18.0498 17.7766 0.6664 0.3495 Evaluation Finish\n",
      "178: Data Load Finish, Predict Finish, 3.7098 3.109 0.107 0.8663 Evaluation Finish\n",
      "179: Data Load Finish, Predict Finish, 3.6515 3.0643 0.1199 0.8684 Evaluation Finish\n",
      "180: Data Load Finish, Predict Finish, 18.5081 18.1892 0.6812 0.333 Evaluation Finish\n",
      "181: Data Load Finish, Predict Finish, 5.238 4.2098 0.1416 0.8112 Evaluation Finish\n",
      "182: Data Load Finish, Predict Finish, 4.8752 3.7653 0.1254 0.8243 Evaluation Finish\n",
      "183: Data Load Finish, "
     ]
    },
    {
     "name": "stderr",
     "output_type": "stream",
     "text": [
      "C:\\Users\\vfgtr554\\anaconda3\\envs\\cctv\\lib\\site-packages\\pandas\\core\\arraylike.py:364: RuntimeWarning: divide by zero encountered in log\n",
      "  result = getattr(ufunc, method)(*inputs, **kwargs)\n",
      "C:\\Users\\vfgtr554\\anaconda3\\envs\\cctv\\lib\\site-packages\\statsmodels\\base\\model.py:606: ConvergenceWarning: Maximum Likelihood optimization failed to converge. Check mle_retvals\n",
      "  ConvergenceWarning)\n"
     ]
    },
    {
     "name": "stdout",
     "output_type": "stream",
     "text": [
      "Predict Finish, 26.7557 26.5689 0.9632 0.0358 Evaluation Finish\n",
      "184: Data Load Finish, Predict Finish, 3.5457 3.028 0.1051 0.8722 Evaluation Finish\n",
      "185: Data Load Finish, Predict Finish, 5.6101 4.4649 0.1507 0.7978 Evaluation Finish\n",
      "186: Data Load Finish, "
     ]
    },
    {
     "name": "stderr",
     "output_type": "stream",
     "text": [
      "C:\\Users\\vfgtr554\\anaconda3\\envs\\cctv\\lib\\site-packages\\pandas\\core\\arraylike.py:364: RuntimeWarning: divide by zero encountered in log\n",
      "  result = getattr(ufunc, method)(*inputs, **kwargs)\n",
      "C:\\Users\\vfgtr554\\anaconda3\\envs\\cctv\\lib\\site-packages\\statsmodels\\base\\model.py:606: ConvergenceWarning: Maximum Likelihood optimization failed to converge. Check mle_retvals\n",
      "  ConvergenceWarning)\n"
     ]
    },
    {
     "name": "stdout",
     "output_type": "stream",
     "text": [
      "Predict Finish, 26.7557 26.5689 0.9632 0.0358 Evaluation Finish\n",
      "187: Data Load Finish, Predict Finish, 4.3723 3.5041 0.1182 0.8424 Evaluation Finish\n",
      "188: Data Load Finish, Predict Finish, 3.1256 2.8735 0.1051 0.8874 Evaluation Finish\n",
      "189: Data Load Finish, Predict Finish, 3.1486 2.8972 0.1058 0.8865 Evaluation Finish\n",
      "190: Data Load Finish, Predict Finish, 5.6663 4.7024 0.1596 0.7958 Evaluation Finish\n",
      "191: Data Load Finish, Predict Finish, 3.6822 3.1017 0.107 0.8673 Evaluation Finish\n",
      "192: Data Load Finish, Predict Finish, 5.9542 5.0307 0.1716 0.7854 Evaluation Finish\n",
      "193: Data Load Finish, Predict Finish, 14.8134 14.4752 0.5189 0.4662 Evaluation Finish\n",
      "194: Data Load Finish, Predict Finish, 4.3225 3.525 0.1198 0.8442 Evaluation Finish\n",
      "195: Data Load Finish, Predict Finish, 4.8665 3.7779 0.126 0.8246 Evaluation Finish\n",
      "196: Data Load Finish, Predict Finish, 6.4471 5.6214 0.1934 0.7677 Evaluation Finish\n",
      "197: Data Load Finish, "
     ]
    },
    {
     "name": "stderr",
     "output_type": "stream",
     "text": [
      "C:\\Users\\vfgtr554\\anaconda3\\envs\\cctv\\lib\\site-packages\\pandas\\core\\arraylike.py:364: RuntimeWarning: divide by zero encountered in log\n",
      "  result = getattr(ufunc, method)(*inputs, **kwargs)\n",
      "C:\\Users\\vfgtr554\\anaconda3\\envs\\cctv\\lib\\site-packages\\statsmodels\\base\\model.py:606: ConvergenceWarning: Maximum Likelihood optimization failed to converge. Check mle_retvals\n",
      "  ConvergenceWarning)\n"
     ]
    },
    {
     "name": "stdout",
     "output_type": "stream",
     "text": [
      "Predict Finish, 26.7557 26.5689 0.9632 0.0358 Evaluation Finish\n",
      "198: Data Load Finish, Predict Finish, 3.8223 3.0914 0.1052 0.8623 Evaluation Finish\n",
      "199: Data Load Finish, Predict Finish, 7.3239 6.5956 0.2292 0.7361 Evaluation Finish\n",
      "200: Data Load Finish, Predict Finish, 3.485 3.0348 0.1059 0.8744 Evaluation Finish\n",
      "201: Data Load Finish, Predict Finish, 6.651 5.6694 0.1948 0.7603 Evaluation Finish\n",
      "202: Data Load Finish, "
     ]
    },
    {
     "name": "stderr",
     "output_type": "stream",
     "text": [
      "C:\\Users\\vfgtr554\\anaconda3\\envs\\cctv\\lib\\site-packages\\pandas\\core\\arraylike.py:364: RuntimeWarning: divide by zero encountered in log\n",
      "  result = getattr(ufunc, method)(*inputs, **kwargs)\n",
      "C:\\Users\\vfgtr554\\anaconda3\\envs\\cctv\\lib\\site-packages\\statsmodels\\base\\model.py:606: ConvergenceWarning: Maximum Likelihood optimization failed to converge. Check mle_retvals\n",
      "  ConvergenceWarning)\n"
     ]
    },
    {
     "name": "stdout",
     "output_type": "stream",
     "text": [
      "Predict Finish, 26.7557 26.5689 0.9632 0.0358 Evaluation Finish\n",
      "203: Data Load Finish, Predict Finish, 9.8843 9.2229 0.3248 0.6438 Evaluation Finish\n",
      "204: Data Load Finish, Predict Finish, 5.5056 4.5097 0.1525 0.8016 Evaluation Finish\n",
      "205: Data Load Finish, Predict Finish, 6.6495 5.8204 0.201 0.7604 Evaluation Finish\n",
      "206: Data Load Finish, Predict Finish, 9.9813 9.467 0.3349 0.6403 Evaluation Finish\n",
      "207: Data Load Finish, Predict Finish, 5.6185 4.6338 0.157 0.7975 Evaluation Finish\n",
      "208: Data Load Finish, Predict Finish, 9.9518 9.4591 0.3349 0.6414 Evaluation Finish\n",
      "209: Data Load Finish, Predict Finish, 6.3581 5.5247 0.2158 0.7709 Evaluation Finish\n",
      "210: Data Load Finish, Predict Finish, 3.4213 3.0066 0.1053 0.8767 Evaluation Finish\n",
      "211: Data Load Finish, Predict Finish, 4.956 4.035 0.1602 0.8214 Evaluation Finish\n",
      "212: Data Load Finish, Predict Finish, 3.2697 2.9664 0.1075 0.8822 Evaluation Finish\n",
      "213: Data Load Finish, Predict Finish, 14.898 14.5315 0.5472 0.4631 Evaluation Finish\n",
      "214: Data Load Finish, Predict Finish, 11.8068 11.3791 0.405 0.5745 Evaluation Finish\n",
      "215: Data Load Finish, Predict Finish, 7.0068 6.2547 0.2166 0.7475 Evaluation Finish\n",
      "216: Data Load Finish, Predict Finish, 3.6195 3.053 0.1053 0.8696 Evaluation Finish\n",
      "217: Data Load Finish, Predict Finish, 14.5536 14.2065 0.5354 0.4755 Evaluation Finish\n",
      "218: Data Load Finish, Predict Finish, 7.3743 6.6473 0.2313 0.7342 Evaluation Finish\n",
      "219: Data Load Finish, Predict Finish, 5.5409 4.556 0.1807 0.8003 Evaluation Finish\n",
      "220: Data Load Finish, "
     ]
    },
    {
     "name": "stderr",
     "output_type": "stream",
     "text": [
      "C:\\Users\\vfgtr554\\anaconda3\\envs\\cctv\\lib\\site-packages\\pandas\\core\\arraylike.py:364: RuntimeWarning: divide by zero encountered in log\n",
      "  result = getattr(ufunc, method)(*inputs, **kwargs)\n",
      "C:\\Users\\vfgtr554\\anaconda3\\envs\\cctv\\lib\\site-packages\\statsmodels\\base\\model.py:606: ConvergenceWarning: Maximum Likelihood optimization failed to converge. Check mle_retvals\n",
      "  ConvergenceWarning)\n"
     ]
    },
    {
     "name": "stdout",
     "output_type": "stream",
     "text": [
      "Predict Finish, 26.7557 26.5689 0.9632 0.0358 Evaluation Finish\n",
      "221: Data Load Finish, Predict Finish, 3.4327 2.9869 0.1118 0.8763 Evaluation Finish\n",
      "222: Data Load Finish, Predict Finish, 4.1572 3.3248 0.112 0.8502 Evaluation Finish\n",
      "223: Data Load Finish, Predict Finish, 3.5892 2.9854 0.1152 0.8707 Evaluation Finish\n",
      "224: Data Load Finish, "
     ]
    },
    {
     "name": "stderr",
     "output_type": "stream",
     "text": [
      "C:\\Users\\vfgtr554\\anaconda3\\envs\\cctv\\lib\\site-packages\\pandas\\core\\arraylike.py:364: RuntimeWarning: divide by zero encountered in log\n",
      "  result = getattr(ufunc, method)(*inputs, **kwargs)\n",
      "C:\\Users\\vfgtr554\\anaconda3\\envs\\cctv\\lib\\site-packages\\statsmodels\\base\\model.py:606: ConvergenceWarning: Maximum Likelihood optimization failed to converge. Check mle_retvals\n",
      "  ConvergenceWarning)\n",
      "C:\\Users\\vfgtr554\\anaconda3\\envs\\cctv\\lib\\site-packages\\pandas\\core\\arraylike.py:364: RuntimeWarning: divide by zero encountered in log\n",
      "  result = getattr(ufunc, method)(*inputs, **kwargs)\n"
     ]
    },
    {
     "name": "stdout",
     "output_type": "stream",
     "text": [
      "Predict Finish, 26.7557 26.5689 0.9632 0.0358 Evaluation Finish\n",
      "225: Data Load Finish, "
     ]
    },
    {
     "name": "stderr",
     "output_type": "stream",
     "text": [
      "C:\\Users\\vfgtr554\\anaconda3\\envs\\cctv\\lib\\site-packages\\statsmodels\\base\\model.py:606: ConvergenceWarning: Maximum Likelihood optimization failed to converge. Check mle_retvals\n",
      "  ConvergenceWarning)\n"
     ]
    },
    {
     "name": "stdout",
     "output_type": "stream",
     "text": [
      "Predict Finish, 26.7557 26.5689 0.9632 0.0358 Evaluation Finish\n",
      "226: Data Load Finish, Predict Finish, 3.708 2.9853 0.1078 0.8664 Evaluation Finish\n",
      "227: Data Load Finish, "
     ]
    },
    {
     "name": "stderr",
     "output_type": "stream",
     "text": [
      "C:\\Users\\vfgtr554\\anaconda3\\envs\\cctv\\lib\\site-packages\\pandas\\core\\arraylike.py:364: RuntimeWarning: divide by zero encountered in log\n",
      "  result = getattr(ufunc, method)(*inputs, **kwargs)\n",
      "C:\\Users\\vfgtr554\\anaconda3\\envs\\cctv\\lib\\site-packages\\statsmodels\\base\\model.py:606: ConvergenceWarning: Maximum Likelihood optimization failed to converge. Check mle_retvals\n",
      "  ConvergenceWarning)\n"
     ]
    },
    {
     "name": "stdout",
     "output_type": "stream",
     "text": [
      "Predict Finish, 26.7557 26.5689 0.9632 0.0358 Evaluation Finish\n",
      "228: Data Load Finish, Predict Finish, 6.5693 5.6158 0.193 0.7633 Evaluation Finish\n",
      "229: Data Load Finish, Predict Finish, 14.0072 13.6288 0.5144 0.4952 Evaluation Finish\n",
      "230: Data Load Finish, Predict Finish, 3.8762 3.1646 0.1077 0.8603 Evaluation Finish\n",
      "231: Data Load Finish, Predict Finish, 3.4178 3.0446 0.1077 0.8768 Evaluation Finish\n",
      "232: Data Load Finish, "
     ]
    },
    {
     "name": "stderr",
     "output_type": "stream",
     "text": [
      "C:\\Users\\vfgtr554\\anaconda3\\envs\\cctv\\lib\\site-packages\\pandas\\core\\arraylike.py:364: RuntimeWarning: divide by zero encountered in log\n",
      "  result = getattr(ufunc, method)(*inputs, **kwargs)\n",
      "C:\\Users\\vfgtr554\\anaconda3\\envs\\cctv\\lib\\site-packages\\statsmodels\\base\\model.py:606: ConvergenceWarning: Maximum Likelihood optimization failed to converge. Check mle_retvals\n",
      "  ConvergenceWarning)\n"
     ]
    },
    {
     "name": "stdout",
     "output_type": "stream",
     "text": [
      "Predict Finish, 26.7557 26.5689 0.9632 0.0358 Evaluation Finish\n",
      "233: Data Load Finish, Predict Finish, 3.5951 3.023 0.104 0.8704 Evaluation Finish\n",
      "234: Data Load Finish, Predict Finish, 3.1881 2.9276 0.1052 0.8851 Evaluation Finish\n",
      "235: Data Load Finish, "
     ]
    },
    {
     "name": "stderr",
     "output_type": "stream",
     "text": [
      "C:\\Users\\vfgtr554\\anaconda3\\envs\\cctv\\lib\\site-packages\\pandas\\core\\arraylike.py:364: RuntimeWarning: divide by zero encountered in log\n",
      "  result = getattr(ufunc, method)(*inputs, **kwargs)\n",
      "C:\\Users\\vfgtr554\\anaconda3\\envs\\cctv\\lib\\site-packages\\statsmodels\\base\\model.py:606: ConvergenceWarning: Maximum Likelihood optimization failed to converge. Check mle_retvals\n",
      "  ConvergenceWarning)\n"
     ]
    },
    {
     "name": "stdout",
     "output_type": "stream",
     "text": [
      "Predict Finish, 26.7557 26.5689 0.9632 0.0358 Evaluation Finish\n",
      "236: Data Load Finish, Predict Finish, 5.1424 4.0484 0.1355 0.8147 Evaluation Finish\n",
      "237: Data Load Finish, Predict Finish, 4.7635 3.9188 0.1343 0.8283 Evaluation Finish\n",
      "238: Data Load Finish, Predict Finish, 5.3294 4.3263 0.146 0.8079 Evaluation Finish\n",
      "239: Data Load Finish, Predict Finish, 3.7755 3.1561 0.1082 0.8639 Evaluation Finish\n",
      "240: Data Load Finish, Predict Finish, 3.2994 2.9747 0.1056 0.8811 Evaluation Finish\n",
      "241: Data Load Finish, "
     ]
    },
    {
     "name": "stderr",
     "output_type": "stream",
     "text": [
      "C:\\Users\\vfgtr554\\anaconda3\\envs\\cctv\\lib\\site-packages\\statsmodels\\base\\model.py:606: ConvergenceWarning: Maximum Likelihood optimization failed to converge. Check mle_retvals\n",
      "  ConvergenceWarning)\n"
     ]
    },
    {
     "name": "stdout",
     "output_type": "stream",
     "text": [
      "Predict Finish, 3.8207 3.1564 0.1078 0.8623 Evaluation Finish\n",
      "242: Data Load Finish, Predict Finish, 4.8424 3.7587 0.1254 0.8255 Evaluation Finish\n",
      "243: Data Load Finish, "
     ]
    },
    {
     "name": "stderr",
     "output_type": "stream",
     "text": [
      "C:\\Users\\vfgtr554\\anaconda3\\envs\\cctv\\lib\\site-packages\\pandas\\core\\arraylike.py:364: RuntimeWarning: divide by zero encountered in log\n",
      "  result = getattr(ufunc, method)(*inputs, **kwargs)\n",
      "C:\\Users\\vfgtr554\\anaconda3\\envs\\cctv\\lib\\site-packages\\statsmodels\\base\\model.py:606: ConvergenceWarning: Maximum Likelihood optimization failed to converge. Check mle_retvals\n",
      "  ConvergenceWarning)\n"
     ]
    },
    {
     "name": "stdout",
     "output_type": "stream",
     "text": [
      "Predict Finish, 26.7557 26.5689 0.9632 0.0358 Evaluation Finish\n",
      "244: Data Load Finish, Predict Finish, 9.7987 9.3046 0.3292 0.6469 Evaluation Finish\n",
      "245: Data Load Finish, Predict Finish, 10.8745 10.4361 0.3717 0.6081 Evaluation Finish\n",
      "246: Data Load Finish, Predict Finish, 9.7622 8.4377 0.2982 0.6482 Evaluation Finish\n",
      "247: Data Load Finish, "
     ]
    },
    {
     "name": "stderr",
     "output_type": "stream",
     "text": [
      "C:\\Users\\vfgtr554\\anaconda3\\envs\\cctv\\lib\\site-packages\\pandas\\core\\arraylike.py:364: RuntimeWarning: divide by zero encountered in log\n",
      "  result = getattr(ufunc, method)(*inputs, **kwargs)\n",
      "C:\\Users\\vfgtr554\\anaconda3\\envs\\cctv\\lib\\site-packages\\statsmodels\\base\\model.py:606: ConvergenceWarning: Maximum Likelihood optimization failed to converge. Check mle_retvals\n",
      "  ConvergenceWarning)\n",
      "C:\\Users\\vfgtr554\\anaconda3\\envs\\cctv\\lib\\site-packages\\pandas\\core\\arraylike.py:364: RuntimeWarning: divide by zero encountered in log\n",
      "  result = getattr(ufunc, method)(*inputs, **kwargs)\n"
     ]
    },
    {
     "name": "stdout",
     "output_type": "stream",
     "text": [
      "Predict Finish, 26.7557 26.5689 0.9632 0.0358 Evaluation Finish\n",
      "248: Data Load Finish, "
     ]
    },
    {
     "name": "stderr",
     "output_type": "stream",
     "text": [
      "C:\\Users\\vfgtr554\\anaconda3\\envs\\cctv\\lib\\site-packages\\statsmodels\\base\\model.py:606: ConvergenceWarning: Maximum Likelihood optimization failed to converge. Check mle_retvals\n",
      "  ConvergenceWarning)\n",
      "C:\\Users\\vfgtr554\\anaconda3\\envs\\cctv\\lib\\site-packages\\pandas\\core\\arraylike.py:364: RuntimeWarning: divide by zero encountered in log\n",
      "  result = getattr(ufunc, method)(*inputs, **kwargs)\n"
     ]
    },
    {
     "name": "stdout",
     "output_type": "stream",
     "text": [
      "Predict Finish, 26.7557 26.5689 0.9632 0.0358 Evaluation Finish\n",
      "249: Data Load Finish, "
     ]
    },
    {
     "name": "stderr",
     "output_type": "stream",
     "text": [
      "C:\\Users\\vfgtr554\\anaconda3\\envs\\cctv\\lib\\site-packages\\statsmodels\\base\\model.py:606: ConvergenceWarning: Maximum Likelihood optimization failed to converge. Check mle_retvals\n",
      "  ConvergenceWarning)\n"
     ]
    },
    {
     "name": "stdout",
     "output_type": "stream",
     "text": [
      "Predict Finish, 26.7557 26.5689 0.9632 0.0358 Evaluation Finish\n",
      "250: Data Load Finish, Predict Finish, 9.1118 8.5572 0.3014 0.6716 Evaluation Finish\n",
      "251: Data Load Finish, Predict Finish, 11.0863 10.6187 0.3772 0.6005 Evaluation Finish\n",
      "252: Data Load Finish, "
     ]
    },
    {
     "name": "stderr",
     "output_type": "stream",
     "text": [
      "C:\\Users\\vfgtr554\\anaconda3\\envs\\cctv\\lib\\site-packages\\statsmodels\\base\\model.py:606: ConvergenceWarning: Maximum Likelihood optimization failed to converge. Check mle_retvals\n",
      "  ConvergenceWarning)\n"
     ]
    },
    {
     "name": "stdout",
     "output_type": "stream",
     "text": [
      "Predict Finish, 3.2621 3.0046 0.1124 0.8824 Evaluation Finish\n",
      "253: Data Load Finish, Predict Finish, 7.5479 6.8561 0.2387 0.728 Evaluation Finish\n",
      "254: Data Load Finish, "
     ]
    },
    {
     "name": "stderr",
     "output_type": "stream",
     "text": [
      "C:\\Users\\vfgtr554\\anaconda3\\envs\\cctv\\lib\\site-packages\\pandas\\core\\arraylike.py:364: RuntimeWarning: divide by zero encountered in log\n",
      "  result = getattr(ufunc, method)(*inputs, **kwargs)\n",
      "C:\\Users\\vfgtr554\\anaconda3\\envs\\cctv\\lib\\site-packages\\statsmodels\\base\\model.py:606: ConvergenceWarning: Maximum Likelihood optimization failed to converge. Check mle_retvals\n",
      "  ConvergenceWarning)\n"
     ]
    },
    {
     "name": "stdout",
     "output_type": "stream",
     "text": [
      "Predict Finish, 26.7557 26.5689 0.9632 0.0358 Evaluation Finish\n",
      "255: Data Load Finish, Predict Finish, 8.4981 7.8904 0.2768 0.6938 Evaluation Finish\n",
      "256: Data Load Finish, Predict Finish, 6.1333 5.2028 0.1778 0.779 Evaluation Finish\n",
      "257: Data Load Finish, "
     ]
    },
    {
     "name": "stderr",
     "output_type": "stream",
     "text": [
      "C:\\Users\\vfgtr554\\anaconda3\\envs\\cctv\\lib\\site-packages\\pandas\\core\\arraylike.py:364: RuntimeWarning: divide by zero encountered in log\n",
      "  result = getattr(ufunc, method)(*inputs, **kwargs)\n",
      "C:\\Users\\vfgtr554\\anaconda3\\envs\\cctv\\lib\\site-packages\\statsmodels\\base\\model.py:606: ConvergenceWarning: Maximum Likelihood optimization failed to converge. Check mle_retvals\n",
      "  ConvergenceWarning)\n"
     ]
    },
    {
     "name": "stdout",
     "output_type": "stream",
     "text": [
      "Predict Finish, 26.7557 26.5689 0.9632 0.0358 Evaluation Finish\n",
      "258: Data Load Finish, Predict Finish, 4.2237 3.4983 0.1203 0.8478 Evaluation Finish\n",
      "259: Data Load Finish, "
     ]
    },
    {
     "name": "stderr",
     "output_type": "stream",
     "text": [
      "C:\\Users\\vfgtr554\\anaconda3\\envs\\cctv\\lib\\site-packages\\pandas\\core\\arraylike.py:364: RuntimeWarning: divide by zero encountered in log\n",
      "  result = getattr(ufunc, method)(*inputs, **kwargs)\n",
      "C:\\Users\\vfgtr554\\anaconda3\\envs\\cctv\\lib\\site-packages\\statsmodels\\base\\model.py:606: ConvergenceWarning: Maximum Likelihood optimization failed to converge. Check mle_retvals\n",
      "  ConvergenceWarning)\n",
      "C:\\Users\\vfgtr554\\anaconda3\\envs\\cctv\\lib\\site-packages\\pandas\\core\\arraylike.py:364: RuntimeWarning: divide by zero encountered in log\n",
      "  result = getattr(ufunc, method)(*inputs, **kwargs)\n"
     ]
    },
    {
     "name": "stdout",
     "output_type": "stream",
     "text": [
      "Predict Finish, 26.7557 26.5689 0.9632 0.0358 Evaluation Finish\n",
      "260: Data Load Finish, "
     ]
    },
    {
     "name": "stderr",
     "output_type": "stream",
     "text": [
      "C:\\Users\\vfgtr554\\anaconda3\\envs\\cctv\\lib\\site-packages\\statsmodels\\base\\model.py:606: ConvergenceWarning: Maximum Likelihood optimization failed to converge. Check mle_retvals\n",
      "  ConvergenceWarning)\n"
     ]
    },
    {
     "name": "stdout",
     "output_type": "stream",
     "text": [
      "Predict Finish, 26.7557 26.5689 0.9632 0.0358 Evaluation Finish\n",
      "261: Data Load Finish, Predict Finish, 3.7637 3.1363 0.1224 0.8644 Evaluation Finish\n",
      "262: Data Load Finish, "
     ]
    },
    {
     "name": "stderr",
     "output_type": "stream",
     "text": [
      "C:\\Users\\vfgtr554\\anaconda3\\envs\\cctv\\lib\\site-packages\\pandas\\core\\arraylike.py:364: RuntimeWarning: divide by zero encountered in log\n",
      "  result = getattr(ufunc, method)(*inputs, **kwargs)\n",
      "C:\\Users\\vfgtr554\\anaconda3\\envs\\cctv\\lib\\site-packages\\statsmodels\\base\\model.py:606: ConvergenceWarning: Maximum Likelihood optimization failed to converge. Check mle_retvals\n",
      "  ConvergenceWarning)\n"
     ]
    },
    {
     "name": "stdout",
     "output_type": "stream",
     "text": [
      "Predict Finish, 26.7557 26.5689 0.9632 0.0358 Evaluation Finish\n",
      "263: Data Load Finish, Predict Finish, 3.3735 3.0127 0.1069 0.8784 Evaluation Finish\n",
      "264: Data Load Finish, Predict Finish, 5.745 4.828 0.1644 0.793 Evaluation Finish\n",
      "265: Data Load Finish, Predict Finish, 5.501 4.4815 0.1514 0.8018 Evaluation Finish\n",
      "266: Data Load Finish, Predict Finish, 10.1438 9.6259 0.3404 0.6344 Evaluation Finish\n",
      "267: Data Load Finish, Predict Finish, 3.9378 3.2941 0.1146 0.8581 Evaluation Finish\n",
      "268: Data Load Finish, Predict Finish, 5.3924 4.3646 0.1471 0.8057 Evaluation Finish\n",
      "269: Data Load Finish, Predict Finish, 3.8903 3.1876 0.1239 0.8598 Evaluation Finish\n",
      "270: Data Load Finish, Predict Finish, 10.9236 10.3739 0.368 0.6063 Evaluation Finish\n",
      "271: Data Load Finish, Predict Finish, 3.5124 2.9107 0.1117 0.8734 Evaluation Finish\n",
      "272: Data Load Finish, "
     ]
    },
    {
     "name": "stderr",
     "output_type": "stream",
     "text": [
      "C:\\Users\\vfgtr554\\anaconda3\\envs\\cctv\\lib\\site-packages\\pandas\\core\\arraylike.py:364: RuntimeWarning: divide by zero encountered in log\n",
      "  result = getattr(ufunc, method)(*inputs, **kwargs)\n",
      "C:\\Users\\vfgtr554\\anaconda3\\envs\\cctv\\lib\\site-packages\\statsmodels\\base\\model.py:606: ConvergenceWarning: Maximum Likelihood optimization failed to converge. Check mle_retvals\n",
      "  ConvergenceWarning)\n"
     ]
    },
    {
     "name": "stdout",
     "output_type": "stream",
     "text": [
      "Predict Finish, 26.7557 26.5689 0.9632 0.0358 Evaluation Finish\n",
      "273: Data Load Finish, Predict Finish, 3.6954 3.141 0.109 0.8668 Evaluation Finish\n",
      "274: Data Load Finish, Predict Finish, 7.5657 6.7914 0.2371 0.7274 Evaluation Finish\n",
      "275: Data Load Finish, Predict Finish, 8.7838 8.0848 0.2835 0.6835 Evaluation Finish\n",
      "276: Data Load Finish, Predict Finish, 7.4517 6.6752 0.233 0.7315 Evaluation Finish\n",
      "277: Data Load Finish, "
     ]
    },
    {
     "name": "stderr",
     "output_type": "stream",
     "text": [
      "C:\\Users\\vfgtr554\\anaconda3\\envs\\cctv\\lib\\site-packages\\pandas\\core\\arraylike.py:364: RuntimeWarning: divide by zero encountered in log\n",
      "  result = getattr(ufunc, method)(*inputs, **kwargs)\n",
      "C:\\Users\\vfgtr554\\anaconda3\\envs\\cctv\\lib\\site-packages\\statsmodels\\base\\model.py:606: ConvergenceWarning: Maximum Likelihood optimization failed to converge. Check mle_retvals\n",
      "  ConvergenceWarning)\n",
      "C:\\Users\\vfgtr554\\anaconda3\\envs\\cctv\\lib\\site-packages\\pandas\\core\\arraylike.py:364: RuntimeWarning: divide by zero encountered in log\n",
      "  result = getattr(ufunc, method)(*inputs, **kwargs)\n"
     ]
    },
    {
     "name": "stdout",
     "output_type": "stream",
     "text": [
      "Predict Finish, 26.7557 26.5689 0.9632 0.0358 Evaluation Finish\n",
      "278: Data Load Finish, "
     ]
    },
    {
     "name": "stderr",
     "output_type": "stream",
     "text": [
      "C:\\Users\\vfgtr554\\anaconda3\\envs\\cctv\\lib\\site-packages\\statsmodels\\base\\model.py:606: ConvergenceWarning: Maximum Likelihood optimization failed to converge. Check mle_retvals\n",
      "  ConvergenceWarning)\n"
     ]
    },
    {
     "name": "stdout",
     "output_type": "stream",
     "text": [
      "Predict Finish, 26.7557 26.5689 0.9632 0.0358 Evaluation Finish\n",
      "279: Data Load Finish, Predict Finish, 5.8966 4.9819 0.1699 0.7875 Evaluation Finish\n",
      "280: Data Load Finish, Predict Finish, 4.8419 3.7688 0.1261 0.8255 Evaluation Finish\n",
      "281: Data Load Finish, Predict Finish, 5.1527 4.1281 0.1389 0.8143 Evaluation Finish\n",
      "282: Data Load Finish, Predict Finish, 4.9406 3.8827 0.13 0.822 Evaluation Finish\n",
      "283: Data Load Finish, Predict Finish, 5.1207 4.1847 0.1618 0.8155 Evaluation Finish\n",
      "284: Data Load Finish, Predict Finish, 4.429 3.4427 0.138 0.8404 Evaluation Finish\n",
      "285: Data Load Finish, Predict Finish, 6.9186 5.9025 0.205 0.7507 Evaluation Finish\n",
      "286: Data Load Finish, Predict Finish, 3.491 3.0985 0.1187 0.8742 Evaluation Finish\n",
      "287: Data Load Finish, Predict Finish, 6.6093 5.8288 0.2019 0.7618 Evaluation Finish\n",
      "288: Data Load Finish, Predict Finish, 3.4008 3.0035 0.1053 0.8774 Evaluation Finish\n",
      "289: Data Load Finish, Predict Finish, 8.4876 7.8692 0.2759 0.6941 Evaluation Finish\n",
      "290: Data Load Finish, Predict Finish, 6.2818 5.4333 0.2119 0.7736 Evaluation Finish\n",
      "291: Data Load Finish, "
     ]
    },
    {
     "name": "stderr",
     "output_type": "stream",
     "text": [
      "C:\\Users\\vfgtr554\\anaconda3\\envs\\cctv\\lib\\site-packages\\pandas\\core\\arraylike.py:364: RuntimeWarning: divide by zero encountered in log\n",
      "  result = getattr(ufunc, method)(*inputs, **kwargs)\n",
      "C:\\Users\\vfgtr554\\anaconda3\\envs\\cctv\\lib\\site-packages\\statsmodels\\base\\model.py:606: ConvergenceWarning: Maximum Likelihood optimization failed to converge. Check mle_retvals\n",
      "  ConvergenceWarning)\n"
     ]
    },
    {
     "name": "stdout",
     "output_type": "stream",
     "text": [
      "Predict Finish, 26.7557 26.5689 0.9632 0.0358 Evaluation Finish\n",
      "292: Data Load Finish, Predict Finish, 5.0059 4.0705 0.1378 0.8196 Evaluation Finish\n",
      "293: Data Load Finish, "
     ]
    },
    {
     "name": "stderr",
     "output_type": "stream",
     "text": [
      "C:\\Users\\vfgtr554\\anaconda3\\envs\\cctv\\lib\\site-packages\\pandas\\core\\arraylike.py:364: RuntimeWarning: divide by zero encountered in log\n",
      "  result = getattr(ufunc, method)(*inputs, **kwargs)\n",
      "C:\\Users\\vfgtr554\\anaconda3\\envs\\cctv\\lib\\site-packages\\statsmodels\\base\\model.py:606: ConvergenceWarning: Maximum Likelihood optimization failed to converge. Check mle_retvals\n",
      "  ConvergenceWarning)\n"
     ]
    },
    {
     "name": "stdout",
     "output_type": "stream",
     "text": [
      "Predict Finish, 26.7557 26.5689 0.9632 0.0358 Evaluation Finish\n",
      "294: Data Load Finish, Predict Finish, 4.9664 3.9983 0.1349 0.821 Evaluation Finish\n",
      "295: Data Load Finish, Predict Finish, 7.176 6.4229 0.223 0.7414 Evaluation Finish\n",
      "296: Data Load Finish, Predict Finish, 4.4055 3.5065 0.118 0.8412 Evaluation Finish\n",
      "297: Data Load Finish, Predict Finish, 4.8998 3.7336 0.1239 0.8234 Evaluation Finish\n",
      "298: Data Load Finish, Predict Finish, 8.6259 7.9054 0.277 0.6891 Evaluation Finish\n",
      "299: Data Load Finish, Predict Finish, 3.8253 3.1213 0.1234 0.8621 Evaluation Finish\n",
      "300: Data Load Finish, Predict Finish, 7.4422 6.7321 0.2601 0.7318 Evaluation Finish\n",
      "301: Data Load Finish, Predict Finish, 9.8415 9.3227 0.3294 0.6453 Evaluation Finish\n",
      "302: Data Load Finish, Predict Finish, 11.6633 11.2272 0.3994 0.5797 Evaluation Finish\n",
      "303: Data Load Finish, Predict Finish, 5.7213 4.7731 0.1886 0.7938 Evaluation Finish\n",
      "304: Data Load Finish, "
     ]
    },
    {
     "name": "stderr",
     "output_type": "stream",
     "text": [
      "C:\\Users\\vfgtr554\\anaconda3\\envs\\cctv\\lib\\site-packages\\pandas\\core\\arraylike.py:364: RuntimeWarning: divide by zero encountered in log\n",
      "  result = getattr(ufunc, method)(*inputs, **kwargs)\n",
      "C:\\Users\\vfgtr554\\anaconda3\\envs\\cctv\\lib\\site-packages\\statsmodels\\base\\model.py:606: ConvergenceWarning: Maximum Likelihood optimization failed to converge. Check mle_retvals\n",
      "  ConvergenceWarning)\n",
      "C:\\Users\\vfgtr554\\anaconda3\\envs\\cctv\\lib\\site-packages\\pandas\\core\\arraylike.py:364: RuntimeWarning: divide by zero encountered in log\n",
      "  result = getattr(ufunc, method)(*inputs, **kwargs)\n"
     ]
    },
    {
     "name": "stdout",
     "output_type": "stream",
     "text": [
      "Predict Finish, 26.7557 26.5689 0.9632 0.0358 Evaluation Finish\n",
      "305: Data Load Finish, "
     ]
    },
    {
     "name": "stderr",
     "output_type": "stream",
     "text": [
      "C:\\Users\\vfgtr554\\anaconda3\\envs\\cctv\\lib\\site-packages\\statsmodels\\base\\model.py:606: ConvergenceWarning: Maximum Likelihood optimization failed to converge. Check mle_retvals\n",
      "  ConvergenceWarning)\n"
     ]
    },
    {
     "name": "stdout",
     "output_type": "stream",
     "text": [
      "Predict Finish, 26.7557 26.5689 0.9632 0.0358 Evaluation Finish\n",
      "306: Data Load Finish, Predict Finish, 9.7652 9.2339 0.3261 0.6481 Evaluation Finish\n",
      "307: Data Load Finish, "
     ]
    },
    {
     "name": "stderr",
     "output_type": "stream",
     "text": [
      "C:\\Users\\vfgtr554\\anaconda3\\envs\\cctv\\lib\\site-packages\\pandas\\core\\arraylike.py:364: RuntimeWarning: divide by zero encountered in log\n",
      "  result = getattr(ufunc, method)(*inputs, **kwargs)\n",
      "C:\\Users\\vfgtr554\\anaconda3\\envs\\cctv\\lib\\site-packages\\statsmodels\\base\\model.py:606: ConvergenceWarning: Maximum Likelihood optimization failed to converge. Check mle_retvals\n",
      "  ConvergenceWarning)\n",
      "C:\\Users\\vfgtr554\\anaconda3\\envs\\cctv\\lib\\site-packages\\pandas\\core\\arraylike.py:364: RuntimeWarning: divide by zero encountered in log\n",
      "  result = getattr(ufunc, method)(*inputs, **kwargs)\n"
     ]
    },
    {
     "name": "stdout",
     "output_type": "stream",
     "text": [
      "Predict Finish, 26.7557 26.5689 0.9632 0.0358 Evaluation Finish\n",
      "308: Data Load Finish, "
     ]
    },
    {
     "name": "stderr",
     "output_type": "stream",
     "text": [
      "C:\\Users\\vfgtr554\\anaconda3\\envs\\cctv\\lib\\site-packages\\statsmodels\\base\\model.py:606: ConvergenceWarning: Maximum Likelihood optimization failed to converge. Check mle_retvals\n",
      "  ConvergenceWarning)\n"
     ]
    },
    {
     "name": "stdout",
     "output_type": "stream",
     "text": [
      "Predict Finish, 26.7557 26.5689 0.9632 0.0358 Evaluation Finish\n",
      "309: Data Load Finish, Predict Finish, 5.3234 4.2754 0.1439 0.8082 Evaluation Finish\n",
      "310: Data Load Finish, Predict Finish, 6.8708 5.9088 0.2037 0.7524 Evaluation Finish\n",
      "311: Data Load Finish, "
     ]
    },
    {
     "name": "stderr",
     "output_type": "stream",
     "text": [
      "C:\\Users\\vfgtr554\\anaconda3\\envs\\cctv\\lib\\site-packages\\pandas\\core\\arraylike.py:364: RuntimeWarning: divide by zero encountered in log\n",
      "  result = getattr(ufunc, method)(*inputs, **kwargs)\n",
      "C:\\Users\\vfgtr554\\anaconda3\\envs\\cctv\\lib\\site-packages\\statsmodels\\base\\model.py:606: ConvergenceWarning: Maximum Likelihood optimization failed to converge. Check mle_retvals\n",
      "  ConvergenceWarning)\n"
     ]
    },
    {
     "name": "stdout",
     "output_type": "stream",
     "text": [
      "Predict Finish, 26.7557 26.5689 0.9632 0.0358 Evaluation Finish\n",
      "312: Data Load Finish, Predict Finish, 12.3535 11.9316 0.4519 0.5548 Evaluation Finish\n",
      "313: Data Load Finish, Predict Finish, 10.6131 10.1256 0.3588 0.6175 Evaluation Finish\n",
      "314: Data Load Finish, "
     ]
    },
    {
     "name": "stderr",
     "output_type": "stream",
     "text": [
      "C:\\Users\\vfgtr554\\anaconda3\\envs\\cctv\\lib\\site-packages\\pandas\\core\\arraylike.py:364: RuntimeWarning: divide by zero encountered in log\n",
      "  result = getattr(ufunc, method)(*inputs, **kwargs)\n",
      "C:\\Users\\vfgtr554\\anaconda3\\envs\\cctv\\lib\\site-packages\\statsmodels\\base\\model.py:606: ConvergenceWarning: Maximum Likelihood optimization failed to converge. Check mle_retvals\n",
      "  ConvergenceWarning)\n"
     ]
    },
    {
     "name": "stdout",
     "output_type": "stream",
     "text": [
      "Predict Finish, 26.7557 26.5689 0.9632 0.0358 Evaluation Finish\n",
      "315: Data Load Finish, Predict Finish, 5.3907 4.3368 0.146 0.8057 Evaluation Finish\n",
      "316: Data Load Finish, Predict Finish, 5.3295 4.2831 0.1441 0.8079 Evaluation Finish\n",
      "317: Data Load Finish, Predict Finish, 4.3034 3.4114 0.1146 0.8449 Evaluation Finish\n",
      "318: Data Load Finish, Predict Finish, 10.7031 10.2278 0.3627 0.6143 Evaluation Finish\n",
      "319: Data Load Finish, "
     ]
    },
    {
     "name": "stderr",
     "output_type": "stream",
     "text": [
      "C:\\Users\\vfgtr554\\anaconda3\\envs\\cctv\\lib\\site-packages\\statsmodels\\base\\model.py:606: ConvergenceWarning: Maximum Likelihood optimization failed to converge. Check mle_retvals\n",
      "  ConvergenceWarning)\n",
      "C:\\Users\\vfgtr554\\anaconda3\\envs\\cctv\\lib\\site-packages\\pandas\\core\\arraylike.py:364: RuntimeWarning: divide by zero encountered in log\n",
      "  result = getattr(ufunc, method)(*inputs, **kwargs)\n"
     ]
    },
    {
     "name": "stdout",
     "output_type": "stream",
     "text": [
      "Predict Finish, 8.892 8.3129 0.2923 0.6796 Evaluation Finish\n",
      "320: Data Load Finish, "
     ]
    },
    {
     "name": "stderr",
     "output_type": "stream",
     "text": [
      "C:\\Users\\vfgtr554\\anaconda3\\envs\\cctv\\lib\\site-packages\\statsmodels\\base\\model.py:606: ConvergenceWarning: Maximum Likelihood optimization failed to converge. Check mle_retvals\n",
      "  ConvergenceWarning)\n",
      "C:\\Users\\vfgtr554\\anaconda3\\envs\\cctv\\lib\\site-packages\\pandas\\core\\arraylike.py:364: RuntimeWarning: divide by zero encountered in log\n",
      "  result = getattr(ufunc, method)(*inputs, **kwargs)\n"
     ]
    },
    {
     "name": "stdout",
     "output_type": "stream",
     "text": [
      "Predict Finish, 26.7557 26.5689 0.9632 0.0358 Evaluation Finish\n",
      "321: Data Load Finish, "
     ]
    },
    {
     "name": "stderr",
     "output_type": "stream",
     "text": [
      "C:\\Users\\vfgtr554\\anaconda3\\envs\\cctv\\lib\\site-packages\\statsmodels\\base\\model.py:606: ConvergenceWarning: Maximum Likelihood optimization failed to converge. Check mle_retvals\n",
      "  ConvergenceWarning)\n"
     ]
    },
    {
     "name": "stdout",
     "output_type": "stream",
     "text": [
      "Predict Finish, 26.7557 26.5689 0.9632 0.0358 Evaluation Finish\n",
      "322: Data Load Finish, Predict Finish, 3.5088 3.0419 0.1165 0.8736 Evaluation Finish\n",
      "323: Data Load Finish, Predict Finish, 4.2364 3.5208 0.1212 0.8473 Evaluation Finish\n",
      "324: Data Load Finish, Predict Finish, 4.4569 3.5342 0.1411 0.8394 Evaluation Finish\n",
      "325: Data Load Finish, Predict Finish, 7.6477 6.9844 0.2697 0.7244 Evaluation Finish\n",
      "326: Data Load Finish, Predict Finish, 6.4176 5.59 0.1922 0.7687 Evaluation Finish\n",
      "327: Data Load Finish, "
     ]
    },
    {
     "name": "stderr",
     "output_type": "stream",
     "text": [
      "C:\\Users\\vfgtr554\\anaconda3\\envs\\cctv\\lib\\site-packages\\pandas\\core\\arraylike.py:364: RuntimeWarning: divide by zero encountered in log\n",
      "  result = getattr(ufunc, method)(*inputs, **kwargs)\n",
      "C:\\Users\\vfgtr554\\anaconda3\\envs\\cctv\\lib\\site-packages\\statsmodels\\base\\model.py:606: ConvergenceWarning: Maximum Likelihood optimization failed to converge. Check mle_retvals\n",
      "  ConvergenceWarning)\n"
     ]
    },
    {
     "name": "stdout",
     "output_type": "stream",
     "text": [
      "Predict Finish, 26.7557 26.5689 0.9632 0.0358 Evaluation Finish\n",
      "328: Data Load Finish, Predict Finish, 11.2424 10.729 0.4078 0.5949 Evaluation Finish\n",
      "329: Data Load Finish, Predict Finish, 9.0861 8.2653 0.3174 0.6726 Evaluation Finish\n",
      "330: Data Load Finish, "
     ]
    },
    {
     "name": "stderr",
     "output_type": "stream",
     "text": [
      "C:\\Users\\vfgtr554\\anaconda3\\envs\\cctv\\lib\\site-packages\\pandas\\core\\arraylike.py:364: RuntimeWarning: divide by zero encountered in log\n",
      "  result = getattr(ufunc, method)(*inputs, **kwargs)\n",
      "C:\\Users\\vfgtr554\\anaconda3\\envs\\cctv\\lib\\site-packages\\statsmodels\\base\\model.py:606: ConvergenceWarning: Maximum Likelihood optimization failed to converge. Check mle_retvals\n",
      "  ConvergenceWarning)\n",
      "C:\\Users\\vfgtr554\\anaconda3\\envs\\cctv\\lib\\site-packages\\pandas\\core\\arraylike.py:364: RuntimeWarning: divide by zero encountered in log\n",
      "  result = getattr(ufunc, method)(*inputs, **kwargs)\n"
     ]
    },
    {
     "name": "stdout",
     "output_type": "stream",
     "text": [
      "Predict Finish, 26.7557 26.5689 0.9632 0.0358 Evaluation Finish\n",
      "331: Data Load Finish, "
     ]
    },
    {
     "name": "stderr",
     "output_type": "stream",
     "text": [
      "C:\\Users\\vfgtr554\\anaconda3\\envs\\cctv\\lib\\site-packages\\statsmodels\\base\\model.py:606: ConvergenceWarning: Maximum Likelihood optimization failed to converge. Check mle_retvals\n",
      "  ConvergenceWarning)\n"
     ]
    },
    {
     "name": "stdout",
     "output_type": "stream",
     "text": [
      "Predict Finish, 26.7557 26.5689 0.9632 0.0358 Evaluation Finish\n",
      "332: Data Load Finish, Predict Finish, 6.4678 5.5922 0.2185 0.7669 Evaluation Finish\n",
      "333: Data Load Finish, Predict Finish, 12.223 11.7363 0.445 0.5595 Evaluation Finish\n",
      "334: Data Load Finish, Predict Finish, 20.1729 19.9236 0.7455 0.273 Evaluation Finish\n",
      "335: Data Load Finish, "
     ]
    },
    {
     "name": "stderr",
     "output_type": "stream",
     "text": [
      "C:\\Users\\vfgtr554\\anaconda3\\envs\\cctv\\lib\\site-packages\\pandas\\core\\arraylike.py:364: RuntimeWarning: divide by zero encountered in log\n",
      "  result = getattr(ufunc, method)(*inputs, **kwargs)\n",
      "C:\\Users\\vfgtr554\\anaconda3\\envs\\cctv\\lib\\site-packages\\statsmodels\\base\\model.py:606: ConvergenceWarning: Maximum Likelihood optimization failed to converge. Check mle_retvals\n",
      "  ConvergenceWarning)\n"
     ]
    },
    {
     "name": "stdout",
     "output_type": "stream",
     "text": [
      "Predict Finish, 26.7557 26.5689 0.9632 0.0358 Evaluation Finish\n",
      "336: Data Load Finish, Predict Finish, 11.2556 10.7554 0.4087 0.5944 Evaluation Finish\n",
      "337: Data Load Finish, Predict Finish, 4.3494 3.4642 0.1381 0.8433 Evaluation Finish\n",
      "338: Data Load Finish, Predict Finish, 16.2275 15.836 0.5961 0.4152 Evaluation Finish\n",
      "339: Data Load Finish, Predict Finish, 6.2199 5.3566 0.2101 0.7759 Evaluation Finish\n",
      "340: Data Load Finish, Predict Finish, 3.5524 3.1114 0.1194 0.872 Evaluation Finish\n",
      "341: Data Load Finish, Predict Finish, 3.8906 3.3276 0.1299 0.8598 Evaluation Finish\n",
      "342: Data Load Finish, "
     ]
    },
    {
     "name": "stderr",
     "output_type": "stream",
     "text": [
      "C:\\Users\\vfgtr554\\anaconda3\\envs\\cctv\\lib\\site-packages\\pandas\\core\\arraylike.py:364: RuntimeWarning: divide by zero encountered in log\n",
      "  result = getattr(ufunc, method)(*inputs, **kwargs)\n",
      "C:\\Users\\vfgtr554\\anaconda3\\envs\\cctv\\lib\\site-packages\\statsmodels\\base\\model.py:606: ConvergenceWarning: Maximum Likelihood optimization failed to converge. Check mle_retvals\n",
      "  ConvergenceWarning)\n"
     ]
    },
    {
     "name": "stdout",
     "output_type": "stream",
     "text": [
      "Predict Finish, 26.7557 26.5689 0.9632 0.0358 Evaluation Finish\n",
      "343: Data Load Finish, Predict Finish, 14.6005 14.0045 0.5286 0.4738 Evaluation Finish\n",
      "344: Data Load Finish, Predict Finish, 3.2139 2.9587 0.111 0.8842 Evaluation Finish\n",
      "345: Data Load Finish, Predict Finish, 5.4605 4.5843 0.1805 0.8032 Evaluation Finish\n",
      "346: Data Load Finish, Predict Finish, 11.2739 10.7859 0.3829 0.5937 Evaluation Finish\n",
      "347: Data Load Finish, "
     ]
    },
    {
     "name": "stderr",
     "output_type": "stream",
     "text": [
      "C:\\Users\\vfgtr554\\anaconda3\\envs\\cctv\\lib\\site-packages\\pandas\\core\\arraylike.py:364: RuntimeWarning: divide by zero encountered in log\n",
      "  result = getattr(ufunc, method)(*inputs, **kwargs)\n",
      "C:\\Users\\vfgtr554\\anaconda3\\envs\\cctv\\lib\\site-packages\\statsmodels\\base\\model.py:606: ConvergenceWarning: Maximum Likelihood optimization failed to converge. Check mle_retvals\n",
      "  ConvergenceWarning)\n",
      "C:\\Users\\vfgtr554\\anaconda3\\envs\\cctv\\lib\\site-packages\\pandas\\core\\arraylike.py:364: RuntimeWarning: divide by zero encountered in log\n",
      "  result = getattr(ufunc, method)(*inputs, **kwargs)\n"
     ]
    },
    {
     "name": "stdout",
     "output_type": "stream",
     "text": [
      "Predict Finish, 26.7557 26.5689 0.9632 0.0358 Evaluation Finish\n",
      "348: Data Load Finish, "
     ]
    },
    {
     "name": "stderr",
     "output_type": "stream",
     "text": [
      "C:\\Users\\vfgtr554\\anaconda3\\envs\\cctv\\lib\\site-packages\\statsmodels\\base\\model.py:606: ConvergenceWarning: Maximum Likelihood optimization failed to converge. Check mle_retvals\n",
      "  ConvergenceWarning)\n"
     ]
    },
    {
     "name": "stdout",
     "output_type": "stream",
     "text": [
      "Predict Finish, 26.7557 26.5689 0.9632 0.0358 Evaluation Finish\n",
      "349: Data Load Finish, Predict Finish, 7.4499 6.7564 0.2351 0.7315 Evaluation Finish\n",
      "350: Data Load Finish, Predict Finish, 13.4944 13.1164 0.4688 0.5137 Evaluation Finish\n",
      "351: Data Load Finish, Predict Finish, 3.7484 3.0652 0.1095 0.8649 Evaluation Finish\n",
      "352: Data Load Finish, Predict Finish, 4.218 3.3643 0.1133 0.848 Evaluation Finish\n",
      "353: Data Load Finish, Predict Finish, 3.8328 3.1899 0.1254 0.8619 Evaluation Finish\n",
      "354: Data Load Finish, "
     ]
    },
    {
     "name": "stderr",
     "output_type": "stream",
     "text": [
      "C:\\Users\\vfgtr554\\anaconda3\\envs\\cctv\\lib\\site-packages\\pandas\\core\\arraylike.py:364: RuntimeWarning: divide by zero encountered in log\n",
      "  result = getattr(ufunc, method)(*inputs, **kwargs)\n",
      "C:\\Users\\vfgtr554\\anaconda3\\envs\\cctv\\lib\\site-packages\\statsmodels\\base\\model.py:606: ConvergenceWarning: Maximum Likelihood optimization failed to converge. Check mle_retvals\n",
      "  ConvergenceWarning)\n"
     ]
    },
    {
     "name": "stdout",
     "output_type": "stream",
     "text": [
      "Predict Finish, 26.7557 26.5689 0.9632 0.0358 Evaluation Finish\n",
      "355: Data Load Finish, Predict Finish, 4.5972 3.6243 0.1449 0.8343 Evaluation Finish\n",
      "356: Data Load Finish, "
     ]
    },
    {
     "name": "stderr",
     "output_type": "stream",
     "text": [
      "C:\\Users\\vfgtr554\\anaconda3\\envs\\cctv\\lib\\site-packages\\pandas\\core\\arraylike.py:364: RuntimeWarning: divide by zero encountered in log\n",
      "  result = getattr(ufunc, method)(*inputs, **kwargs)\n",
      "C:\\Users\\vfgtr554\\anaconda3\\envs\\cctv\\lib\\site-packages\\statsmodels\\base\\model.py:606: ConvergenceWarning: Maximum Likelihood optimization failed to converge. Check mle_retvals\n",
      "  ConvergenceWarning)\n",
      "C:\\Users\\vfgtr554\\anaconda3\\envs\\cctv\\lib\\site-packages\\pandas\\core\\arraylike.py:364: RuntimeWarning: divide by zero encountered in log\n",
      "  result = getattr(ufunc, method)(*inputs, **kwargs)\n"
     ]
    },
    {
     "name": "stdout",
     "output_type": "stream",
     "text": [
      "Predict Finish, 26.7557 26.5689 0.9632 0.0358 Evaluation Finish\n",
      "357: Data Load Finish, Predict Finish, 4.359 3.5771 0.1415 0.8429 Evaluation Finish\n",
      "358: Data Load Finish, "
     ]
    },
    {
     "name": "stderr",
     "output_type": "stream",
     "text": [
      "C:\\Users\\vfgtr554\\anaconda3\\envs\\cctv\\lib\\site-packages\\statsmodels\\base\\model.py:606: ConvergenceWarning: Maximum Likelihood optimization failed to converge. Check mle_retvals\n",
      "  ConvergenceWarning)\n"
     ]
    },
    {
     "name": "stdout",
     "output_type": "stream",
     "text": [
      "Predict Finish, 26.7557 26.5689 0.9632 0.0358 Evaluation Finish\n",
      "359: Data Load Finish, Predict Finish, 3.2814 2.9923 0.1131 0.8817 Evaluation Finish\n",
      "360: Data Load Finish, Predict Finish, 3.6944 3.1029 0.121 0.8669 Evaluation Finish\n",
      "361: Data Load Finish, Predict Finish, 4.18 3.2552 0.1299 0.8494 Evaluation Finish\n",
      "362: Data Load Finish, Predict Finish, 4.374 3.4521 0.1158 0.8424 Evaluation Finish\n",
      "363: Data Load Finish, Predict Finish, 8.0447 7.3632 0.2575 0.7101 Evaluation Finish\n",
      "364: Data Load Finish, "
     ]
    },
    {
     "name": "stderr",
     "output_type": "stream",
     "text": [
      "C:\\Users\\vfgtr554\\anaconda3\\envs\\cctv\\lib\\site-packages\\statsmodels\\base\\model.py:606: ConvergenceWarning: Maximum Likelihood optimization failed to converge. Check mle_retvals\n",
      "  ConvergenceWarning)\n"
     ]
    },
    {
     "name": "stdout",
     "output_type": "stream",
     "text": [
      "Predict Finish, 8.6301 8.034 0.2821 0.689 Evaluation Finish\n",
      "365: Data Load Finish, Predict Finish, 4.439 3.4668 0.1386 0.84 Evaluation Finish\n",
      "366: Data Load Finish, Predict Finish, 4.2277 3.3489 0.1125 0.8476 Evaluation Finish\n",
      "367: Data Load Finish, Predict Finish, 5.2216 4.274 0.1696 0.8118 Evaluation Finish\n",
      "368: Data Load Finish, Predict Finish, 3.9731 3.2366 0.1099 0.8568 Evaluation Finish\n",
      "369: Data Load Finish, Predict Finish, 6.4397 5.6038 0.1927 0.7679 Evaluation Finish\n",
      "370: Data Load Finish, Predict Finish, 3.6541 3.0393 0.1161 0.8683 Evaluation Finish\n",
      "371: Data Load Finish, Predict Finish, 3.6671 3.0786 0.1204 0.8678 Evaluation Finish\n",
      "372: Data Load Finish, Predict Finish, 14.2186 13.8624 0.5227 0.4876 Evaluation Finish\n",
      "373: Data Load Finish, "
     ]
    },
    {
     "name": "stderr",
     "output_type": "stream",
     "text": [
      "C:\\Users\\vfgtr554\\anaconda3\\envs\\cctv\\lib\\site-packages\\pandas\\core\\arraylike.py:364: RuntimeWarning: divide by zero encountered in log\n",
      "  result = getattr(ufunc, method)(*inputs, **kwargs)\n",
      "C:\\Users\\vfgtr554\\anaconda3\\envs\\cctv\\lib\\site-packages\\statsmodels\\base\\model.py:606: ConvergenceWarning: Maximum Likelihood optimization failed to converge. Check mle_retvals\n",
      "  ConvergenceWarning)\n",
      "C:\\Users\\vfgtr554\\anaconda3\\envs\\cctv\\lib\\site-packages\\pandas\\core\\arraylike.py:364: RuntimeWarning: divide by zero encountered in log\n",
      "  result = getattr(ufunc, method)(*inputs, **kwargs)\n"
     ]
    },
    {
     "name": "stdout",
     "output_type": "stream",
     "text": [
      "Predict Finish, 26.7557 26.5689 0.9632 0.0358 Evaluation Finish\n",
      "374: Data Load Finish, "
     ]
    },
    {
     "name": "stderr",
     "output_type": "stream",
     "text": [
      "C:\\Users\\vfgtr554\\anaconda3\\envs\\cctv\\lib\\site-packages\\statsmodels\\base\\model.py:606: ConvergenceWarning: Maximum Likelihood optimization failed to converge. Check mle_retvals\n",
      "  ConvergenceWarning)\n"
     ]
    },
    {
     "name": "stdout",
     "output_type": "stream",
     "text": [
      "Predict Finish, 26.7557 26.5689 0.9632 0.0358 Evaluation Finish\n",
      "375: Data Load Finish, Predict Finish, 35.621 35.4736 1.3172 -0.2837 Evaluation Finish\n",
      "376: Data Load Finish, Predict Finish, 55.5773 55.4865 2.0525 -1.0029 Evaluation Finish\n",
      "377: Data Load Finish, Predict Finish, 29.616 29.4274 1.0951 -0.0673 Evaluation Finish\n",
      "378: Data Load Finish, Predict Finish, 32.3692 32.0399 1.1915 -0.1665 Evaluation Finish\n",
      "379: Data Load Finish, "
     ]
    },
    {
     "name": "stderr",
     "output_type": "stream",
     "text": [
      "C:\\Users\\vfgtr554\\anaconda3\\envs\\cctv\\lib\\site-packages\\pandas\\core\\arraylike.py:364: RuntimeWarning: divide by zero encountered in log\n",
      "  result = getattr(ufunc, method)(*inputs, **kwargs)\n",
      "C:\\Users\\vfgtr554\\anaconda3\\envs\\cctv\\lib\\site-packages\\statsmodels\\base\\model.py:606: ConvergenceWarning: Maximum Likelihood optimization failed to converge. Check mle_retvals\n",
      "  ConvergenceWarning)\n"
     ]
    },
    {
     "name": "stdout",
     "output_type": "stream",
     "text": [
      "Predict Finish, 26.7557 26.5689 0.9632 0.0358 Evaluation Finish\n",
      "380: Data Load Finish, "
     ]
    },
    {
     "name": "stderr",
     "output_type": "stream",
     "text": [
      "C:\\Users\\vfgtr554\\anaconda3\\envs\\cctv\\lib\\site-packages\\statsmodels\\base\\model.py:606: ConvergenceWarning: Maximum Likelihood optimization failed to converge. Check mle_retvals\n",
      "  ConvergenceWarning)\n"
     ]
    },
    {
     "name": "stdout",
     "output_type": "stream",
     "text": [
      "Predict Finish, 7.6595 6.6721 0.2581 0.724 Evaluation Finish\n",
      "381: Data Load Finish, Predict Finish, 4.0604 3.2983 0.1165 0.8537 Evaluation Finish\n",
      "382: Data Load Finish, Predict Finish, 4.4498 3.6044 0.1404 0.8396 Evaluation Finish\n",
      "383: Data Load Finish, Predict Finish, 3.7268 3.0815 0.1059 0.8657 Evaluation Finish\n",
      "384: Data Load Finish, Predict Finish, 4.0712 3.2206 0.1085 0.8533 Evaluation Finish\n",
      "385: Data Load Finish, "
     ]
    },
    {
     "name": "stderr",
     "output_type": "stream",
     "text": [
      "C:\\Users\\vfgtr554\\anaconda3\\envs\\cctv\\lib\\site-packages\\pandas\\core\\arraylike.py:364: RuntimeWarning: divide by zero encountered in log\n",
      "  result = getattr(ufunc, method)(*inputs, **kwargs)\n",
      "C:\\Users\\vfgtr554\\anaconda3\\envs\\cctv\\lib\\site-packages\\statsmodels\\base\\model.py:606: ConvergenceWarning: Maximum Likelihood optimization failed to converge. Check mle_retvals\n",
      "  ConvergenceWarning)\n"
     ]
    },
    {
     "name": "stdout",
     "output_type": "stream",
     "text": [
      "Predict Finish, 26.7557 26.5689 0.9632 0.0358 Evaluation Finish\n",
      "386: Data Load Finish, Predict Finish, 3.5894 3.073 0.1194 0.8706 Evaluation Finish\n",
      "387: Data Load Finish, Predict Finish, 4.8232 3.8969 0.1549 0.8262 Evaluation Finish\n",
      "388: Data Load Finish, Predict Finish, 3.2436 2.9587 0.1071 0.8831 Evaluation Finish\n",
      "389: Data Load Finish, Predict Finish, 18.0956 17.8144 0.6681 0.3479 Evaluation Finish\n",
      "390: Data Load Finish, "
     ]
    },
    {
     "name": "stderr",
     "output_type": "stream",
     "text": [
      "C:\\Users\\vfgtr554\\anaconda3\\envs\\cctv\\lib\\site-packages\\pandas\\core\\arraylike.py:364: RuntimeWarning: divide by zero encountered in log\n",
      "  result = getattr(ufunc, method)(*inputs, **kwargs)\n",
      "C:\\Users\\vfgtr554\\anaconda3\\envs\\cctv\\lib\\site-packages\\statsmodels\\base\\model.py:606: ConvergenceWarning: Maximum Likelihood optimization failed to converge. Check mle_retvals\n",
      "  ConvergenceWarning)\n"
     ]
    },
    {
     "name": "stdout",
     "output_type": "stream",
     "text": [
      "Predict Finish, 26.7557 26.5689 0.9632 0.0358 Evaluation Finish\n",
      "391: Data Load Finish, Predict Finish, 8.4966 7.8873 0.2766 0.6938 Evaluation Finish\n",
      "392: Data Load Finish, Predict Finish, 7.0783 6.3364 0.2203 0.7449 Evaluation Finish\n",
      "393: Data Load Finish, Predict Finish, 5.0519 4.2559 0.1464 0.8179 Evaluation Finish\n",
      "394: Data Load Finish, Predict Finish, 4.1697 3.3595 0.1135 0.8497 Evaluation Finish\n",
      "395: Data Load Finish, Predict Finish, 7.1086 6.3448 0.22 0.7438 Evaluation Finish\n",
      "396: Data Load Finish, Predict Finish, 4.3206 3.5661 0.1218 0.8443 Evaluation Finish\n",
      "397: Data Load Finish, Predict Finish, 4.9043 3.9746 0.158 0.8233 Evaluation Finish\n",
      "398: Data Load Finish, Predict Finish, 6.8355 6.0932 0.2112 0.7537 Evaluation Finish\n",
      "399: Data Load Finish, Predict Finish, 7.4509 6.6867 0.2326 0.7315 Evaluation Finish\n",
      "400: Data Load Finish, Predict Finish, 9.4376 8.8616 0.3124 0.6599 Evaluation Finish\n",
      "401: Data Load Finish, Predict Finish, 5.2115 4.2605 0.1445 0.8122 Evaluation Finish\n",
      "402: Data Load Finish, Predict Finish, 5.0044 4.2457 0.148 0.8197 Evaluation Finish\n",
      "403: Data Load Finish, Predict Finish, 6.5162 5.7047 0.1965 0.7652 Evaluation Finish\n",
      "404: Data Load Finish, Predict Finish, 6.7738 5.9081 0.2039 0.7559 Evaluation Finish\n",
      "405: Data Load Finish, Predict Finish, 7.6329 6.8956 0.2669 0.7249 Evaluation Finish\n",
      "406: Data Load Finish, Predict Finish, 3.4634 3.0119 0.116 0.8752 Evaluation Finish\n",
      "407: Data Load Finish, Predict Finish, 3.514 3.0614 0.1181 0.8734 Evaluation Finish\n",
      "408: Data Load Finish, Predict Finish, 3.2349 2.9513 0.1104 0.8834 Evaluation Finish\n",
      "409: Data Load Finish, Predict Finish, 6.0419 5.1558 0.2009 0.7823 Evaluation Finish\n",
      "410: Data Load Finish, Predict Finish, 3.2838 2.9845 0.1065 0.8817 Evaluation Finish\n",
      "411: Data Load Finish, Predict Finish, 3.3428 2.9967 0.1077 0.8795 Evaluation Finish\n",
      "412: Data Load Finish, Predict Finish, 11.5081 10.9841 0.4178 0.5853 Evaluation Finish\n",
      "413: Data Load Finish, Predict Finish, 7.169 6.3755 0.2208 0.7416 Evaluation Finish\n",
      "414: Data Load Finish, "
     ]
    },
    {
     "name": "stderr",
     "output_type": "stream",
     "text": [
      "C:\\Users\\vfgtr554\\anaconda3\\envs\\cctv\\lib\\site-packages\\statsmodels\\base\\model.py:606: ConvergenceWarning: Maximum Likelihood optimization failed to converge. Check mle_retvals\n",
      "  ConvergenceWarning)\n",
      "C:\\Users\\vfgtr554\\anaconda3\\envs\\cctv\\lib\\site-packages\\pandas\\core\\arraylike.py:364: RuntimeWarning: divide by zero encountered in log\n",
      "  result = getattr(ufunc, method)(*inputs, **kwargs)\n"
     ]
    },
    {
     "name": "stdout",
     "output_type": "stream",
     "text": [
      "Predict Finish, 3.536 2.9183 0.1134 0.8726 Evaluation Finish\n",
      "415: Data Load Finish, "
     ]
    },
    {
     "name": "stderr",
     "output_type": "stream",
     "text": [
      "C:\\Users\\vfgtr554\\anaconda3\\envs\\cctv\\lib\\site-packages\\statsmodels\\base\\model.py:606: ConvergenceWarning: Maximum Likelihood optimization failed to converge. Check mle_retvals\n",
      "  ConvergenceWarning)\n"
     ]
    },
    {
     "name": "stdout",
     "output_type": "stream",
     "text": [
      "Predict Finish, 26.7557 26.5689 0.9632 0.0358 Evaluation Finish\n",
      "416: Data Load Finish, Predict Finish, 4.3435 3.512 0.1395 0.8435 Evaluation Finish\n",
      "417: Data Load Finish, Predict Finish, 4.0076 3.2147 0.1139 0.8556 Evaluation Finish\n",
      "418: Data Load Finish, Predict Finish, 15.8417 15.5241 0.5838 0.4291 Evaluation Finish\n",
      "419: Data Load Finish, "
     ]
    },
    {
     "name": "stderr",
     "output_type": "stream",
     "text": [
      "C:\\Users\\vfgtr554\\anaconda3\\envs\\cctv\\lib\\site-packages\\pandas\\core\\arraylike.py:364: RuntimeWarning: divide by zero encountered in log\n",
      "  result = getattr(ufunc, method)(*inputs, **kwargs)\n",
      "C:\\Users\\vfgtr554\\anaconda3\\envs\\cctv\\lib\\site-packages\\statsmodels\\base\\model.py:606: ConvergenceWarning: Maximum Likelihood optimization failed to converge. Check mle_retvals\n",
      "  ConvergenceWarning)\n"
     ]
    },
    {
     "name": "stdout",
     "output_type": "stream",
     "text": [
      "Predict Finish, 26.7557 26.5689 0.9632 0.0358 Evaluation Finish\n",
      "420: Data Load Finish, Predict Finish, 3.6754 3.0169 0.1154 0.8675 Evaluation Finish\n",
      "421: Data Load Finish, "
     ]
    },
    {
     "name": "stderr",
     "output_type": "stream",
     "text": [
      "C:\\Users\\vfgtr554\\anaconda3\\envs\\cctv\\lib\\site-packages\\pandas\\core\\arraylike.py:364: RuntimeWarning: divide by zero encountered in log\n",
      "  result = getattr(ufunc, method)(*inputs, **kwargs)\n",
      "C:\\Users\\vfgtr554\\anaconda3\\envs\\cctv\\lib\\site-packages\\statsmodels\\base\\model.py:606: ConvergenceWarning: Maximum Likelihood optimization failed to converge. Check mle_retvals\n",
      "  ConvergenceWarning)\n"
     ]
    },
    {
     "name": "stdout",
     "output_type": "stream",
     "text": [
      "Predict Finish, 26.7557 26.5689 0.9632 0.0358 Evaluation Finish\n",
      "422: Data Load Finish, Predict Finish, 6.605 5.734 0.1973 0.762 Evaluation Finish\n",
      "423: Data Load Finish, "
     ]
    },
    {
     "name": "stderr",
     "output_type": "stream",
     "text": [
      "C:\\Users\\vfgtr554\\anaconda3\\envs\\cctv\\lib\\site-packages\\pandas\\core\\arraylike.py:364: RuntimeWarning: divide by zero encountered in log\n",
      "  result = getattr(ufunc, method)(*inputs, **kwargs)\n",
      "C:\\Users\\vfgtr554\\anaconda3\\envs\\cctv\\lib\\site-packages\\statsmodels\\base\\model.py:606: ConvergenceWarning: Maximum Likelihood optimization failed to converge. Check mle_retvals\n",
      "  ConvergenceWarning)\n"
     ]
    },
    {
     "name": "stdout",
     "output_type": "stream",
     "text": [
      "Predict Finish, 26.7557 26.5689 0.9632 0.0358 Evaluation Finish\n",
      "424: Data Load Finish, Predict Finish, 5.5695 4.6862 0.1832 0.7993 Evaluation Finish\n",
      "425: Data Load Finish, Predict Finish, 3.1767 2.8855 0.1046 0.8855 Evaluation Finish\n",
      "426: Data Load Finish, Predict Finish, 14.1595 13.8038 0.5205 0.4897 Evaluation Finish\n",
      "427: Data Load Finish, Predict Finish, 23.8472 23.6339 0.8819 0.1406 Evaluation Finish\n",
      "428: Data Load Finish, Predict Finish, 25.5137 25.3097 0.9435 0.0806 Evaluation Finish\n",
      "429: Data Load Finish, Predict Finish, 31.2892 31.0587 1.1554 -0.1276 Evaluation Finish\n",
      "430: Data Load Finish, "
     ]
    },
    {
     "name": "stderr",
     "output_type": "stream",
     "text": [
      "C:\\Users\\vfgtr554\\anaconda3\\envs\\cctv\\lib\\site-packages\\pandas\\core\\arraylike.py:364: RuntimeWarning: divide by zero encountered in log\n",
      "  result = getattr(ufunc, method)(*inputs, **kwargs)\n",
      "C:\\Users\\vfgtr554\\anaconda3\\envs\\cctv\\lib\\site-packages\\statsmodels\\base\\model.py:606: ConvergenceWarning: Maximum Likelihood optimization failed to converge. Check mle_retvals\n",
      "  ConvergenceWarning)\n"
     ]
    },
    {
     "name": "stdout",
     "output_type": "stream",
     "text": [
      "Predict Finish, 26.7557 26.5689 0.9632 0.0358 Evaluation Finish\n",
      "431: Data Load Finish, Predict Finish, 21.9649 21.7374 0.8121 0.2084 Evaluation Finish\n",
      "432: Data Load Finish, Predict Finish, 11.433 10.8976 0.3866 0.588 Evaluation Finish\n",
      "433: Data Load Finish, Predict Finish, 14.496 14.1608 0.5084 0.4776 Evaluation Finish\n",
      "434: Data Load Finish, Predict Finish, 6.9534 6.2274 0.2162 0.7494 Evaluation Finish\n",
      "435: Data Load Finish, Predict Finish, 8.4539 7.8608 0.2761 0.6953 Evaluation Finish\n",
      "436: Data Load Finish, Predict Finish, 10.688 10.1958 0.3613 0.6148 Evaluation Finish\n",
      "437: Data Load Finish, Predict Finish, 7.264 6.0652 0.2083 0.7382 Evaluation Finish\n",
      "438: Data Load Finish, Predict Finish, 4.2984 3.2868 0.1097 0.8451 Evaluation Finish\n",
      "439: Data Load Finish, Predict Finish, 3.1769 2.9132 0.1059 0.8855 Evaluation Finish\n",
      "440: Data Load Finish, Predict Finish, 7.5511 6.8865 0.2661 0.7279 Evaluation Finish\n",
      "441: Data Load Finish, Predict Finish, 3.766 3.2062 0.1251 0.8643 Evaluation Finish\n",
      "442: Data Load Finish, Predict Finish, 5.0656 4.0912 0.1629 0.8174 Evaluation Finish\n",
      "443: Data Load Finish, Predict Finish, 7.3162 6.586 0.2287 0.7363 Evaluation Finish\n",
      "444: Data Load Finish, "
     ]
    },
    {
     "name": "stderr",
     "output_type": "stream",
     "text": [
      "C:\\Users\\vfgtr554\\anaconda3\\envs\\cctv\\lib\\site-packages\\pandas\\core\\arraylike.py:364: RuntimeWarning: divide by zero encountered in log\n",
      "  result = getattr(ufunc, method)(*inputs, **kwargs)\n",
      "C:\\Users\\vfgtr554\\anaconda3\\envs\\cctv\\lib\\site-packages\\statsmodels\\base\\model.py:606: ConvergenceWarning: Maximum Likelihood optimization failed to converge. Check mle_retvals\n",
      "  ConvergenceWarning)\n"
     ]
    },
    {
     "name": "stdout",
     "output_type": "stream",
     "text": [
      "Predict Finish, 26.7557 26.5689 0.9632 0.0358 Evaluation Finish\n",
      "445: Data Load Finish, Predict Finish, 10.3071 9.793 0.3465 0.6286 Evaluation Finish\n",
      "446: Data Load Finish, Predict Finish, 3.4101 3.0268 0.1065 0.8771 Evaluation Finish\n",
      "447: Data Load Finish, Predict Finish, 3.4002 3.0132 0.1058 0.8775 Evaluation Finish\n",
      "448: Data Load Finish, "
     ]
    },
    {
     "name": "stderr",
     "output_type": "stream",
     "text": [
      "C:\\Users\\vfgtr554\\anaconda3\\envs\\cctv\\lib\\site-packages\\pandas\\core\\arraylike.py:364: RuntimeWarning: divide by zero encountered in log\n",
      "  result = getattr(ufunc, method)(*inputs, **kwargs)\n",
      "C:\\Users\\vfgtr554\\anaconda3\\envs\\cctv\\lib\\site-packages\\statsmodels\\base\\model.py:606: ConvergenceWarning: Maximum Likelihood optimization failed to converge. Check mle_retvals\n",
      "  ConvergenceWarning)\n"
     ]
    },
    {
     "name": "stdout",
     "output_type": "stream",
     "text": [
      "Predict Finish, 26.7557 26.5689 0.9632 0.0358 Evaluation Finish\n",
      "449: Data Load Finish, Predict Finish, 5.0869 4.0778 0.1373 0.8167 Evaluation Finish\n",
      "450: Data Load Finish, Predict Finish, 4.1744 3.3622 0.1137 0.8496 Evaluation Finish\n",
      "451: Data Load Finish, Predict Finish, 3.2623 2.9925 0.1112 0.8824 Evaluation Finish\n",
      "452: Data Load Finish, Predict Finish, 5.0238 4.1275 0.1402 0.819 Evaluation Finish\n",
      "453: Data Load Finish, "
     ]
    },
    {
     "name": "stderr",
     "output_type": "stream",
     "text": [
      "C:\\Users\\vfgtr554\\anaconda3\\envs\\cctv\\lib\\site-packages\\pandas\\core\\arraylike.py:364: RuntimeWarning: divide by zero encountered in log\n",
      "  result = getattr(ufunc, method)(*inputs, **kwargs)\n",
      "C:\\Users\\vfgtr554\\anaconda3\\envs\\cctv\\lib\\site-packages\\statsmodels\\base\\model.py:606: ConvergenceWarning: Maximum Likelihood optimization failed to converge. Check mle_retvals\n",
      "  ConvergenceWarning)\n"
     ]
    },
    {
     "name": "stdout",
     "output_type": "stream",
     "text": [
      "Predict Finish, 26.7557 26.5689 0.9632 0.0358 Evaluation Finish\n",
      "454: Data Load Finish, Predict Finish, 8.0557 7.3711 0.2575 0.7097 Evaluation Finish\n",
      "455: Data Load Finish, Predict Finish, 9.5365 8.99 0.3174 0.6563 Evaluation Finish\n",
      "456: Data Load Finish, "
     ]
    },
    {
     "name": "stderr",
     "output_type": "stream",
     "text": [
      "C:\\Users\\vfgtr554\\anaconda3\\envs\\cctv\\lib\\site-packages\\pandas\\core\\arraylike.py:364: RuntimeWarning: divide by zero encountered in log\n",
      "  result = getattr(ufunc, method)(*inputs, **kwargs)\n",
      "C:\\Users\\vfgtr554\\anaconda3\\envs\\cctv\\lib\\site-packages\\statsmodels\\base\\model.py:606: ConvergenceWarning: Maximum Likelihood optimization failed to converge. Check mle_retvals\n",
      "  ConvergenceWarning)\n"
     ]
    },
    {
     "name": "stdout",
     "output_type": "stream",
     "text": [
      "Predict Finish, 26.7557 26.5689 0.9632 0.0358 Evaluation Finish\n",
      "457: Data Load Finish, Predict Finish, 4.0145 3.309 0.1129 0.8553 Evaluation Finish\n",
      "458: Data Load Finish, Predict Finish, 3.7606 3.1338 0.1102 0.8645 Evaluation Finish\n",
      "459: Data Load Finish, "
     ]
    },
    {
     "name": "stderr",
     "output_type": "stream",
     "text": [
      "C:\\Users\\vfgtr554\\anaconda3\\envs\\cctv\\lib\\site-packages\\pandas\\core\\arraylike.py:364: RuntimeWarning: divide by zero encountered in log\n",
      "  result = getattr(ufunc, method)(*inputs, **kwargs)\n",
      "C:\\Users\\vfgtr554\\anaconda3\\envs\\cctv\\lib\\site-packages\\statsmodels\\base\\model.py:606: ConvergenceWarning: Maximum Likelihood optimization failed to converge. Check mle_retvals\n",
      "  ConvergenceWarning)\n"
     ]
    },
    {
     "name": "stdout",
     "output_type": "stream",
     "text": [
      "Predict Finish, 26.7557 26.5689 0.9632 0.0358 Evaluation Finish\n",
      "460: Data Load Finish, Predict Finish, 8.4201 7.8063 0.2737 0.6966 Evaluation Finish\n",
      "461: Data Load Finish, Predict Finish, 5.2323 4.0257 0.1374 0.8114 Evaluation Finish\n",
      "462: Data Load Finish, "
     ]
    },
    {
     "name": "stderr",
     "output_type": "stream",
     "text": [
      "C:\\Users\\vfgtr554\\anaconda3\\envs\\cctv\\lib\\site-packages\\pandas\\core\\arraylike.py:364: RuntimeWarning: divide by zero encountered in log\n",
      "  result = getattr(ufunc, method)(*inputs, **kwargs)\n",
      "C:\\Users\\vfgtr554\\anaconda3\\envs\\cctv\\lib\\site-packages\\statsmodels\\base\\model.py:606: ConvergenceWarning: Maximum Likelihood optimization failed to converge. Check mle_retvals\n",
      "  ConvergenceWarning)\n"
     ]
    },
    {
     "name": "stdout",
     "output_type": "stream",
     "text": [
      "Predict Finish, 26.7557 26.5689 0.9632 0.0358 Evaluation Finish\n",
      "463: Data Load Finish, Predict Finish, 7.0447 6.3005 0.2184 0.7461 Evaluation Finish\n",
      "464: Data Load Finish, Predict Finish, 3.3393 2.958 0.1122 0.8797 Evaluation Finish\n",
      "465: Data Load Finish, Predict Finish, 6.5281 5.6918 0.1961 0.7647 Evaluation Finish\n",
      "466: Data Load Finish, Predict Finish, 9.7105 9.1698 0.3239 0.6501 Evaluation Finish\n",
      "467: Data Load Finish, Predict Finish, 3.3489 2.8673 0.1039 0.8793 Evaluation Finish\n",
      "468: Data Load Finish, Predict Finish, 11.4469 10.9715 0.4167 0.5875 Evaluation Finish\n",
      "469: Data Load Finish, Predict Finish, 3.3514 2.987 0.1145 0.8792 Evaluation Finish\n",
      "470: Data Load Finish, Predict Finish, 11.1192 10.6713 0.3791 0.5993 Evaluation Finish\n",
      "471: Data Load Finish, Predict Finish, 3.9214 3.2901 0.1261 0.8587 Evaluation Finish\n",
      "472: Data Load Finish, Predict Finish, 9.7198 9.1882 0.3246 0.6497 Evaluation Finish\n",
      "473: Data Load Finish, Predict Finish, 9.404 8.8034 0.3106 0.6611 Evaluation Finish\n",
      "474: Data Load Finish, Predict Finish, 5.2646 4.2883 0.1704 0.8103 Evaluation Finish\n",
      "475: Data Load Finish, Predict Finish, 6.5434 5.5507 0.1908 0.7642 Evaluation Finish\n",
      "476: Data Load Finish, Predict Finish, 4.4453 3.6909 0.1262 0.8398 Evaluation Finish\n",
      "477: Data Load Finish, Predict Finish, 4.1016 3.1946 0.1075 0.8522 Evaluation Finish\n",
      "478: Data Load Finish, Predict Finish, 7.3542 6.6426 0.2309 0.735 Evaluation Finish\n",
      "479: Data Load Finish, Predict Finish, 4.5207 3.4367 0.1145 0.8371 Evaluation Finish\n",
      "480: Data Load Finish, Predict Finish, 7.4166 6.6859 0.2324 0.7327 Evaluation Finish\n",
      "481: Data Load Finish, Predict Finish, 3.2604 2.9558 0.1063 0.8825 Evaluation Finish\n",
      "482: Data Load Finish, Predict Finish, 8.9521 8.3456 0.2933 0.6774 Evaluation Finish\n",
      "483: Data Load Finish, "
     ]
    },
    {
     "name": "stderr",
     "output_type": "stream",
     "text": [
      "C:\\Users\\vfgtr554\\anaconda3\\envs\\cctv\\lib\\site-packages\\pandas\\core\\arraylike.py:364: RuntimeWarning: divide by zero encountered in log\n",
      "  result = getattr(ufunc, method)(*inputs, **kwargs)\n",
      "C:\\Users\\vfgtr554\\anaconda3\\envs\\cctv\\lib\\site-packages\\statsmodels\\base\\model.py:606: ConvergenceWarning: Maximum Likelihood optimization failed to converge. Check mle_retvals\n",
      "  ConvergenceWarning)\n",
      "C:\\Users\\vfgtr554\\anaconda3\\envs\\cctv\\lib\\site-packages\\pandas\\core\\arraylike.py:364: RuntimeWarning: divide by zero encountered in log\n",
      "  result = getattr(ufunc, method)(*inputs, **kwargs)\n"
     ]
    },
    {
     "name": "stdout",
     "output_type": "stream",
     "text": [
      "Predict Finish, 26.7557 26.5689 0.9632 0.0358 Evaluation Finish\n",
      "484: Data Load Finish, "
     ]
    },
    {
     "name": "stderr",
     "output_type": "stream",
     "text": [
      "C:\\Users\\vfgtr554\\anaconda3\\envs\\cctv\\lib\\site-packages\\statsmodels\\base\\model.py:606: ConvergenceWarning: Maximum Likelihood optimization failed to converge. Check mle_retvals\n",
      "  ConvergenceWarning)\n"
     ]
    },
    {
     "name": "stdout",
     "output_type": "stream",
     "text": [
      "Predict Finish, 26.7557 26.5689 0.9632 0.0358 Evaluation Finish\n",
      "485: Data Load Finish, Predict Finish, 3.3167 2.9871 0.1059 0.8805 Evaluation Finish\n",
      "486: Data Load Finish, Predict Finish, 3.3622 2.9113 0.1066 0.8788 Evaluation Finish\n",
      "487: Data Load Finish, Predict Finish, 11.7025 11.257 0.4271 0.5783 Evaluation Finish\n",
      "488: Data Load Finish, Predict Finish, 4.7461 3.7711 0.1506 0.829 Evaluation Finish\n",
      "489: Data Load Finish, Predict Finish, 13.9365 13.5854 0.5123 0.4978 Evaluation Finish\n",
      "490: Data Load Finish, Predict Finish, 11.6479 11.2058 0.425 0.5802 Evaluation Finish\n",
      "491: Data Load Finish, Predict Finish, 8.2096 7.2355 0.2509 0.7041 Evaluation Finish\n",
      "492: Data Load Finish, Predict Finish, 6.6195 5.6593 0.1953 0.7614 Evaluation Finish\n",
      "493: Data Load Finish, Predict Finish, 3.6676 3.1093 0.1214 0.8678 Evaluation Finish\n",
      "494: Data Load Finish, "
     ]
    },
    {
     "name": "stderr",
     "output_type": "stream",
     "text": [
      "C:\\Users\\vfgtr554\\anaconda3\\envs\\cctv\\lib\\site-packages\\pandas\\core\\arraylike.py:364: RuntimeWarning: divide by zero encountered in log\n",
      "  result = getattr(ufunc, method)(*inputs, **kwargs)\n",
      "C:\\Users\\vfgtr554\\anaconda3\\envs\\cctv\\lib\\site-packages\\statsmodels\\base\\model.py:606: ConvergenceWarning: Maximum Likelihood optimization failed to converge. Check mle_retvals\n",
      "  ConvergenceWarning)\n"
     ]
    },
    {
     "name": "stdout",
     "output_type": "stream",
     "text": [
      "Predict Finish, 26.7557 26.5689 0.9632 0.0358 Evaluation Finish\n",
      "495: Data Load Finish, Predict Finish, 3.2962 2.9768 0.106 0.8812 Evaluation Finish\n",
      "496: Data Load Finish, "
     ]
    },
    {
     "name": "stderr",
     "output_type": "stream",
     "text": [
      "C:\\Users\\vfgtr554\\anaconda3\\envs\\cctv\\lib\\site-packages\\pandas\\core\\arraylike.py:364: RuntimeWarning: divide by zero encountered in log\n",
      "  result = getattr(ufunc, method)(*inputs, **kwargs)\n",
      "C:\\Users\\vfgtr554\\anaconda3\\envs\\cctv\\lib\\site-packages\\statsmodels\\base\\model.py:606: ConvergenceWarning: Maximum Likelihood optimization failed to converge. Check mle_retvals\n",
      "  ConvergenceWarning)\n"
     ]
    },
    {
     "name": "stdout",
     "output_type": "stream",
     "text": [
      "Predict Finish, 26.7557 26.5689 0.9632 0.0358 Evaluation Finish\n",
      "497: Data Load Finish, Predict Finish, 3.2758 2.9585 0.1048 0.8819 Evaluation Finish\n",
      "498: Data Load Finish, Predict Finish, 5.7024 4.7557 0.188 0.7945 Evaluation Finish\n",
      "499: Data Load Finish, Predict Finish, 3.5635 3.1642 0.116 0.8716 Evaluation Finish\n",
      "500: Data Load Finish, Predict Finish, 3.1949 2.7056 0.1038 0.8849 Evaluation Finish\n",
      "501: Data Load Finish, Predict Finish, 3.3486 2.9592 0.1138 0.8793 Evaluation Finish\n",
      "502: Data Load Finish, Predict Finish, 3.202 2.9335 0.1078 0.8846 Evaluation Finish\n",
      "503: Data Load Finish, "
     ]
    },
    {
     "name": "stderr",
     "output_type": "stream",
     "text": [
      "C:\\Users\\vfgtr554\\anaconda3\\envs\\cctv\\lib\\site-packages\\pandas\\core\\arraylike.py:364: RuntimeWarning: divide by zero encountered in log\n",
      "  result = getattr(ufunc, method)(*inputs, **kwargs)\n",
      "C:\\Users\\vfgtr554\\anaconda3\\envs\\cctv\\lib\\site-packages\\statsmodels\\base\\model.py:606: ConvergenceWarning: Maximum Likelihood optimization failed to converge. Check mle_retvals\n",
      "  ConvergenceWarning)\n",
      "C:\\Users\\vfgtr554\\anaconda3\\envs\\cctv\\lib\\site-packages\\pandas\\core\\arraylike.py:364: RuntimeWarning: divide by zero encountered in log\n",
      "  result = getattr(ufunc, method)(*inputs, **kwargs)\n"
     ]
    },
    {
     "name": "stdout",
     "output_type": "stream",
     "text": [
      "Predict Finish, 26.7557 26.5689 0.9632 0.0358 Evaluation Finish\n",
      "504: Data Load Finish, Predict Finish, 26.7557 26.5689 0.9632 0.0358 Evaluation Finish\n",
      "505: Data Load Finish, Predict Finish, 8.5597 7.9009 0.2768 0.6915 Evaluation Finish\n",
      "RMSE: 11.385264086563451, MAE: 10.817146567196929, MAPE: 0.3927501041782199\n",
      "ACC: 0.5944025166824469\n"
     ]
    },
    {
     "name": "stderr",
     "output_type": "stream",
     "text": [
      "C:\\Users\\vfgtr554\\anaconda3\\envs\\cctv\\lib\\site-packages\\statsmodels\\base\\model.py:606: ConvergenceWarning: Maximum Likelihood optimization failed to converge. Check mle_retvals\n",
      "  ConvergenceWarning)\n"
     ]
    }
   ],
   "source": [
    "predictARIMA(df, idx, 9)"
   ]
  }
 ],
 "metadata": {
  "kernelspec": {
   "display_name": "cctv",
   "language": "python",
   "name": "cctv"
  },
  "language_info": {
   "codemirror_mode": {
    "name": "ipython",
    "version": 3
   },
   "file_extension": ".py",
   "mimetype": "text/x-python",
   "name": "python",
   "nbconvert_exporter": "python",
   "pygments_lexer": "ipython3",
   "version": "3.7.13"
  }
 },
 "nbformat": 4,
 "nbformat_minor": 5
}
