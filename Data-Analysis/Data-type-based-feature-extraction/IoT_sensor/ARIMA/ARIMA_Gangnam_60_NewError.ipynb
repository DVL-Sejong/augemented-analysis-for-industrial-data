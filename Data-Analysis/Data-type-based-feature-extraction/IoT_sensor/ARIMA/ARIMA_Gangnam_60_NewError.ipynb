{
 "cells": [
  {
   "cell_type": "code",
   "execution_count": 1,
   "id": "ea68090e",
   "metadata": {},
   "outputs": [],
   "source": [
    "import math\n",
    "import pandas as pd\n",
    "import numpy as np\n",
    "import numpy.linalg as la\n",
    "\n",
    "from sklearn.metrics import mean_squared_error, mean_absolute_error, mean_absolute_percentage_error\n",
    "from statsmodels.tsa.arima.model import ARIMA"
   ]
  },
  {
   "cell_type": "code",
   "execution_count": 2,
   "id": "844c2224",
   "metadata": {},
   "outputs": [],
   "source": [
    "def csvIndexToDatetime(path, start, freq):\n",
    "    df = pd.read_csv(path)\n",
    "    df = df.drop(columns=['Unnamed: 0'])\n",
    "    time_len = df.shape[0]\n",
    "    num_nodes = df.shape[1]\n",
    "    print(time_len, num_nodes)\n",
    "    rng = pd.date_range(start, periods=time_len, freq=freq)\n",
    "    idx = pd.DatetimeIndex(rng)\n",
    "    df.index = idx\n",
    "    return df, idx"
   ]
  },
  {
   "cell_type": "code",
   "execution_count": 3,
   "id": "aa8af9c0",
   "metadata": {},
   "outputs": [],
   "source": [
    "def evaluation(a,b):\n",
    "    rmse = math.sqrt(mean_squared_error(a,b))\n",
    "    mae = mean_absolute_error(a, b)\n",
    "    mape = mean_absolute_percentage_error(a, b)\n",
    "    F_norm = la.norm(a-b)/la.norm(a)\n",
    "    return rmse, mae, mape, 1-F_norm"
   ]
  },
  {
   "cell_type": "code",
   "execution_count": 4,
   "id": "ee5c0335",
   "metadata": {},
   "outputs": [],
   "source": [
    "def predictARIMA(df, idx, timelag):\n",
    "    rmse, mae, mape, acc =  [], [], [], []\n",
    "    \n",
    "    for i in range(df.shape[1]):\n",
    "        print(i, end = ': ')\n",
    "        ts = df.iloc[:-timelag, i]\n",
    "        ts_log = np.log(ts)\n",
    "        ts_log = np.array(ts_log, dtype=np.float64)\n",
    "        where_are_inf = np.isinf(ts_log)\n",
    "        ts_log[where_are_inf] = 0\n",
    "        ts_log = pd.Series(ts_log)\n",
    "        ts_log.index = idx[:-timelag]\n",
    "        print('Data Load Finish', end = ', ')\n",
    "        \n",
    "        model = ARIMA(ts_log, order=[1,0,0])\n",
    "        properModel = model.fit()\n",
    "        predict_ts = properModel.forecast(steps=timelag)\n",
    "        log_recover = np.exp(predict_ts)\n",
    "        testX = org_df.iloc[-timelag:, 0]\n",
    "        print('Predict Finish', end = ', ')\n",
    "        \n",
    "        er_rmse, er_mae, er_mape, er_acc = evaluation(testX, log_recover)\n",
    "        print(round(er_rmse,4), round(er_mae,4), round(er_mape,4), round(er_acc,4), end = ' ')\n",
    "        \n",
    "        rmse.append(er_rmse)\n",
    "        mae.append(er_mae)\n",
    "        mape.append(er_mape)\n",
    "        acc.append(er_acc)\n",
    "        print('Evaluation Finish')\n",
    "        \n",
    "    acc = np.mat(acc)\n",
    "    acc[acc<0] = 0\n",
    "    print('RMSE: ' + str(np.mean(rmse)) + ', MAE: ' + str(np.mean(mae)) + ', MAPE: ' + str(np.mean(mape))  + '\\n'\n",
    "          + 'ACC: ' + str(np.mean(acc)))"
   ]
  },
  {
   "cell_type": "code",
   "execution_count": 5,
   "id": "e171bd77",
   "metadata": {
    "scrolled": true
   },
   "outputs": [],
   "source": [
    "path_0 = '../Data/Gangnam/speed_gangnam_0.csv'\n",
    "path_5 = '../Data/Gangnam/speed_gangnam_5.csv'\n",
    "path_10 = '../Data/Gangnam/speed_gangnam_10.csv'\n",
    "path_20 = '../Data/Gangnam/speed_gangnam_20.csv'"
   ]
  },
  {
   "cell_type": "code",
   "execution_count": 6,
   "id": "ee4dc616",
   "metadata": {},
   "outputs": [],
   "source": [
    "start = '1/10/2020'\n",
    "freq = '5min'"
   ]
  },
  {
   "cell_type": "code",
   "execution_count": 7,
   "id": "2daa6189",
   "metadata": {},
   "outputs": [
    {
     "name": "stdout",
     "output_type": "stream",
     "text": [
      "2880 506\n"
     ]
    }
   ],
   "source": [
    "org_path = '../Data/Gangnam/speed_gangnam_0.csv'\n",
    "org_df, org_idx = csvIndexToDatetime(org_path, start, freq)"
   ]
  },
  {
   "cell_type": "markdown",
   "id": "2e7d6fc6",
   "metadata": {},
   "source": [
    "### Unobserved Nodes = 0%"
   ]
  },
  {
   "cell_type": "code",
   "execution_count": 8,
   "id": "9eaf61b7",
   "metadata": {},
   "outputs": [
    {
     "name": "stdout",
     "output_type": "stream",
     "text": [
      "2880 506\n"
     ]
    },
    {
     "data": {
      "text/plain": [
       "0"
      ]
     },
     "execution_count": 8,
     "metadata": {},
     "output_type": "execute_result"
    }
   ],
   "source": [
    "df, idx = csvIndexToDatetime(path_0, start, freq)\n",
    "(df == 0).sum().sum()"
   ]
  },
  {
   "cell_type": "code",
   "execution_count": 9,
   "id": "60f8ff1e",
   "metadata": {
    "scrolled": false
   },
   "outputs": [
    {
     "name": "stdout",
     "output_type": "stream",
     "text": [
      "0: Data Load Finish, Predict Finish, 2.7873 2.4036 0.0885 0.8993 Evaluation Finish\n",
      "1: Data Load Finish, Predict Finish, 3.7924 3.0657 0.1047 0.863 Evaluation Finish\n",
      "2: Data Load Finish, Predict Finish, 6.7166 6.106 0.2343 0.7574 Evaluation Finish\n",
      "3: Data Load Finish, Predict Finish, 15.6519 15.1833 0.5667 0.4347 Evaluation Finish\n",
      "4: Data Load Finish, Predict Finish, 7.8211 7.1486 0.2522 0.7175 Evaluation Finish\n",
      "5: Data Load Finish, Predict Finish, 6.4856 5.7711 0.2011 0.7658 Evaluation Finish\n",
      "6: Data Load Finish, Predict Finish, 3.013 2.612 0.0932 0.8912 Evaluation Finish\n",
      "7: Data Load Finish, Predict Finish, 9.5495 9.1278 0.3244 0.6551 Evaluation Finish\n",
      "8: Data Load Finish, Predict Finish, 4.853 3.7955 0.1291 0.8247 Evaluation Finish\n",
      "9: Data Load Finish, "
     ]
    },
    {
     "name": "stderr",
     "output_type": "stream",
     "text": [
      "C:\\Users\\vfgtr554\\anaconda3\\envs\\cctv\\lib\\site-packages\\statsmodels\\base\\model.py:606: ConvergenceWarning: Maximum Likelihood optimization failed to converge. Check mle_retvals\n",
      "  ConvergenceWarning)\n"
     ]
    },
    {
     "name": "stdout",
     "output_type": "stream",
     "text": [
      "Predict Finish, 8.7375 8.2804 0.2933 0.6844 Evaluation Finish\n",
      "10: Data Load Finish, Predict Finish, 8.0607 7.5584 0.2668 0.7089 Evaluation Finish\n",
      "11: Data Load Finish, Predict Finish, 3.1435 2.6236 0.0917 0.8865 Evaluation Finish\n",
      "12: Data Load Finish, Predict Finish, 15.9716 15.7129 0.5868 0.4232 Evaluation Finish\n",
      "13: Data Load Finish, Predict Finish, 25.594 25.4393 0.9433 0.0757 Evaluation Finish\n",
      "14: Data Load Finish, Predict Finish, 28.8289 28.6851 1.0624 -0.0412 Evaluation Finish\n",
      "15: Data Load Finish, Predict Finish, 17.1789 16.9477 0.6319 0.3796 Evaluation Finish\n",
      "16: Data Load Finish, Predict Finish, 4.7104 3.9606 0.1537 0.8299 Evaluation Finish\n",
      "17: Data Load Finish, Predict Finish, 8.4519 7.9609 0.2816 0.6948 Evaluation Finish\n",
      "18: Data Load Finish, Predict Finish, 3.2412 2.567 0.0901 0.8829 Evaluation Finish\n",
      "19: Data Load Finish, Predict Finish, 8.5039 7.8517 0.2774 0.6929 Evaluation Finish\n",
      "20: Data Load Finish, Predict Finish, 9.231 8.7655 0.3111 0.6666 Evaluation Finish\n",
      "21: Data Load Finish, Predict Finish, 3.7837 2.8444 0.0966 0.8634 Evaluation Finish\n",
      "22: Data Load Finish, Predict Finish, 3.2974 2.6078 0.09 0.8809 Evaluation Finish\n",
      "23: Data Load Finish, Predict Finish, 3.8114 3.4058 0.1286 0.8624 Evaluation Finish\n",
      "24: Data Load Finish, Predict Finish, 13.1675 12.8618 0.482 0.5245 Evaluation Finish\n",
      "25: Data Load Finish, Predict Finish, 4.2185 3.4415 0.1173 0.8476 Evaluation Finish\n",
      "26: Data Load Finish, Predict Finish, 4.6209 3.7627 0.1284 0.8331 Evaluation Finish\n",
      "27: Data Load Finish, Predict Finish, 5.4033 4.6268 0.1594 0.8049 Evaluation Finish\n",
      "28: Data Load Finish, Predict Finish, 5.2131 4.4185 0.172 0.8117 Evaluation Finish\n",
      "29: Data Load Finish, Predict Finish, 4.0271 3.1351 0.1061 0.8546 Evaluation Finish\n",
      "30: Data Load Finish, Predict Finish, 3.0966 2.7534 0.1045 0.8882 Evaluation Finish\n",
      "31: Data Load Finish, Predict Finish, 2.8706 2.4319 0.087 0.8963 Evaluation Finish\n",
      "32: Data Load Finish, Predict Finish, 2.9517 2.5856 0.0921 0.8934 Evaluation Finish\n",
      "33: Data Load Finish, Predict Finish, 11.4741 11.1305 0.398 0.5856 Evaluation Finish\n",
      "34: Data Load Finish, Predict Finish, 3.737 3.1336 0.1083 0.865 Evaluation Finish\n",
      "35: Data Load Finish, Predict Finish, 6.3807 5.4872 0.1913 0.7696 Evaluation Finish\n",
      "36: Data Load Finish, Predict Finish, 5.0787 4.2462 0.1454 0.8166 Evaluation Finish\n",
      "37: Data Load Finish, Predict Finish, 4.5585 3.5663 0.1207 0.8354 Evaluation Finish\n",
      "38: Data Load Finish, Predict Finish, 6.5653 5.8838 0.2057 0.7629 Evaluation Finish\n",
      "39: Data Load Finish, Predict Finish, 2.9532 2.5425 0.0901 0.8933 Evaluation Finish\n",
      "40: Data Load Finish, Predict Finish, 5.3907 4.3737 0.1496 0.8053 Evaluation Finish\n",
      "41: Data Load Finish, Predict Finish, 8.2065 7.603 0.269 0.7036 Evaluation Finish\n",
      "42: Data Load Finish, Predict Finish, 6.5643 5.8652 0.2052 0.7629 Evaluation Finish\n",
      "43: Data Load Finish, Predict Finish, 4.0495 3.3808 0.132 0.8538 Evaluation Finish\n",
      "44: Data Load Finish, Predict Finish, 3.1574 2.6701 0.1027 0.886 Evaluation Finish\n",
      "45: Data Load Finish, Predict Finish, 9.4551 9.0154 0.3203 0.6585 Evaluation Finish\n",
      "46: Data Load Finish, Predict Finish, 6.3622 5.6509 0.2172 0.7702 Evaluation Finish\n",
      "47: Data Load Finish, Predict Finish, 4.7355 3.8231 0.1298 0.829 Evaluation Finish\n",
      "48: Data Load Finish, Predict Finish, 3.4211 3.1212 0.1173 0.8764 Evaluation Finish\n",
      "49: Data Load Finish, Predict Finish, 2.9725 2.6211 0.0973 0.8926 Evaluation Finish\n",
      "50: Data Load Finish, Predict Finish, 3.7001 2.9731 0.1015 0.8664 Evaluation Finish\n",
      "51: Data Load Finish, Predict Finish, 6.9385 6.3163 0.2215 0.7494 Evaluation Finish\n",
      "52: Data Load Finish, Predict Finish, 10.4103 9.9951 0.3566 0.624 Evaluation Finish\n",
      "53: Data Load Finish, Predict Finish, 12.9098 12.5939 0.4514 0.5338 Evaluation Finish\n",
      "54: Data Load Finish, Predict Finish, 11.1047 10.749 0.3839 0.599 Evaluation Finish\n",
      "55: Data Load Finish, Predict Finish, 3.6042 3.0412 0.1181 0.8698 Evaluation Finish\n",
      "56: Data Load Finish, Predict Finish, 9.2295 8.798 0.333 0.6667 Evaluation Finish\n",
      "57: Data Load Finish, Predict Finish, 3.4918 2.8983 0.1127 0.8739 Evaluation Finish\n",
      "58: Data Load Finish, Predict Finish, 14.5892 14.2942 0.5346 0.4731 Evaluation Finish\n",
      "59: Data Load Finish, Predict Finish, 6.5775 5.9545 0.2287 0.7625 Evaluation Finish\n",
      "60: Data Load Finish, Predict Finish, 5.6703 4.9266 0.1911 0.7952 Evaluation Finish\n",
      "61: Data Load Finish, Predict Finish, 7.3212 6.7674 0.2378 0.7356 Evaluation Finish\n",
      "62: Data Load Finish, Predict Finish, 5.9167 5.1538 0.1992 0.7863 Evaluation Finish\n",
      "63: Data Load Finish, Predict Finish, 4.1873 3.5168 0.1364 0.8488 Evaluation Finish\n",
      "64: Data Load Finish, Predict Finish, 6.9778 6.2169 0.2386 0.748 Evaluation Finish\n",
      "65: Data Load Finish, Predict Finish, 6.4237 5.4966 0.191 0.768 Evaluation Finish\n",
      "66: Data Load Finish, Predict Finish, 2.7996 2.4558 0.0895 0.8989 Evaluation Finish\n",
      "67: Data Load Finish, Predict Finish, 6.8551 6.1781 0.2161 0.7524 Evaluation Finish\n",
      "68: Data Load Finish, Predict Finish, 3.8707 2.9895 0.1014 0.8602 Evaluation Finish\n",
      "69: Data Load Finish, Predict Finish, 16.2785 16.0192 0.5977 0.4121 Evaluation Finish\n",
      "70: Data Load Finish, Predict Finish, 25.2287 25.0704 0.9296 0.0889 Evaluation Finish\n",
      "71: Data Load Finish, Predict Finish, 30.9996 30.8742 1.1426 -0.1196 Evaluation Finish\n",
      "72: Data Load Finish, Predict Finish, 31.2244 31.0806 1.1502 -0.1277 Evaluation Finish\n",
      "73: Data Load Finish, Predict Finish, 25.1499 24.9215 0.9244 0.0917 Evaluation Finish\n",
      "74: Data Load Finish, Predict Finish, 30.5591 30.4314 1.1264 -0.1036 Evaluation Finish\n",
      "75: Data Load Finish, Predict Finish, 15.797 15.5482 0.5805 0.4295 Evaluation Finish\n",
      "76: Data Load Finish, Predict Finish, 6.5956 5.9777 0.2296 0.7618 Evaluation Finish\n",
      "77: Data Load Finish, Predict Finish, 2.862 2.4877 0.0895 0.8966 Evaluation Finish\n",
      "78: Data Load Finish, Predict Finish, 3.0812 2.6066 0.0915 0.8887 Evaluation Finish\n",
      "79: Data Load Finish, Predict Finish, 3.896 3.403 0.1217 0.8593 Evaluation Finish\n",
      "80: Data Load Finish, Predict Finish, 4.136 3.2387 0.1277 0.8506 Evaluation Finish\n",
      "81: Data Load Finish, Predict Finish, 11.8959 11.5642 0.4138 0.5704 Evaluation Finish\n",
      "82: Data Load Finish, Predict Finish, 5.5206 4.7647 0.1851 0.8006 Evaluation Finish\n",
      "83: Data Load Finish, Predict Finish, 3.4561 2.7615 0.0949 0.8752 Evaluation Finish\n",
      "84: Data Load Finish, Predict Finish, 11.9529 11.6229 0.4366 0.5683 Evaluation Finish\n",
      "85: Data Load Finish, Predict Finish, 16.9326 16.6909 0.6225 0.3885 Evaluation Finish\n",
      "86: Data Load Finish, Predict Finish, 5.4085 4.625 0.1799 0.8047 Evaluation Finish\n",
      "87: Data Load Finish, Predict Finish, 3.5671 2.9481 0.1015 0.8712 Evaluation Finish\n",
      "88: Data Load Finish, Predict Finish, 3.2364 2.6563 0.1027 0.8831 Evaluation Finish\n",
      "89: Data Load Finish, Predict Finish, 2.9188 2.5658 0.0923 0.8946 Evaluation Finish\n",
      "90: Data Load Finish, Predict Finish, 9.1118 8.6734 0.3284 0.6709 Evaluation Finish\n",
      "91: Data Load Finish, Predict Finish, 10.965 10.6026 0.3992 0.604 Evaluation Finish\n",
      "92: Data Load Finish, Predict Finish, 3.4158 3.0615 0.1166 0.8766 Evaluation Finish\n",
      "93: Data Load Finish, Predict Finish, 4.4358 3.5106 0.1189 0.8398 Evaluation Finish\n",
      "94: Data Load Finish, Predict Finish, 2.8066 2.4624 0.0895 0.8986 Evaluation Finish\n",
      "95: Data Load Finish, Predict Finish, 5.7774 5.0551 0.1751 0.7913 Evaluation Finish\n",
      "96: Data Load Finish, Predict Finish, 3.4049 3.0253 0.1155 0.877 Evaluation Finish\n",
      "97: Data Load Finish, Predict Finish, 3.4113 3.0709 0.1161 0.8768 Evaluation Finish\n",
      "98: Data Load Finish, Predict Finish, 5.1381 3.9521 0.1351 0.8144 Evaluation Finish\n",
      "99: Data Load Finish, Predict Finish, 3.0341 2.7017 0.102 0.8904 Evaluation Finish\n",
      "100: Data Load Finish, Predict Finish, 3.9516 3.2071 0.1094 0.8573 Evaluation Finish\n",
      "101: Data Load Finish, Predict Finish, 7.9851 7.4734 0.2845 0.7116 Evaluation Finish\n",
      "102: Data Load Finish, Predict Finish, 10.8237 10.4366 0.3723 0.6091 Evaluation Finish\n",
      "103: Data Load Finish, Predict Finish, 3.1565 2.6462 0.1019 0.886 Evaluation Finish\n",
      "104: Data Load Finish, "
     ]
    },
    {
     "name": "stderr",
     "output_type": "stream",
     "text": [
      "C:\\Users\\vfgtr554\\anaconda3\\envs\\cctv\\lib\\site-packages\\statsmodels\\base\\model.py:606: ConvergenceWarning: Maximum Likelihood optimization failed to converge. Check mle_retvals\n",
      "  ConvergenceWarning)\n"
     ]
    },
    {
     "name": "stdout",
     "output_type": "stream",
     "text": [
      "Predict Finish, 2.8252 2.4193 0.0873 0.898 Evaluation Finish\n",
      "105: Data Load Finish, Predict Finish, 4.209 3.4318 0.117 0.848 Evaluation Finish\n",
      "106: Data Load Finish, Predict Finish, 2.9466 2.5341 0.0898 0.8936 Evaluation Finish\n",
      "107: Data Load Finish, Predict Finish, 5.9461 5.2515 0.2028 0.7853 Evaluation Finish\n",
      "108: Data Load Finish, Predict Finish, 6.0776 5.3942 0.1874 0.7805 Evaluation Finish\n",
      "109: Data Load Finish, Predict Finish, 6.9097 6.3151 0.2212 0.7505 Evaluation Finish\n",
      "110: Data Load Finish, Predict Finish, 2.9444 2.5646 0.0912 0.8937 Evaluation Finish\n",
      "111: Data Load Finish, Predict Finish, 4.1622 3.1459 0.1061 0.8497 Evaluation Finish\n",
      "112: Data Load Finish, Predict Finish, 3.1767 2.8033 0.0991 0.8853 Evaluation Finish\n",
      "113: Data Load Finish, Predict Finish, 6.5797 5.9607 0.2083 0.7624 Evaluation Finish\n",
      "114: Data Load Finish, Predict Finish, 2.9374 2.5294 0.0899 0.8939 Evaluation Finish\n",
      "115: Data Load Finish, Predict Finish, 3.7742 3.0412 0.1038 0.8637 Evaluation Finish\n",
      "116: Data Load Finish, Predict Finish, 6.2232 5.3727 0.2069 0.7752 Evaluation Finish\n",
      "117: Data Load Finish, Predict Finish, 13.0985 12.7775 0.4791 0.5269 Evaluation Finish\n",
      "118: Data Load Finish, Predict Finish, 28.4479 28.2982 1.0482 -0.0274 Evaluation Finish\n",
      "119: Data Load Finish, Predict Finish, 6.5059 5.8475 0.2246 0.765 Evaluation Finish\n",
      "120: Data Load Finish, Predict Finish, 3.3454 2.7104 0.0935 0.8792 Evaluation Finish\n",
      "121: Data Load Finish, Predict Finish, 6.0777 5.3949 0.1875 0.7805 Evaluation Finish\n",
      "122: Data Load Finish, Predict Finish, 6.0735 5.0796 0.1757 0.7807 Evaluation Finish\n",
      "123: Data Load Finish, Predict Finish, 7.3206 6.7315 0.2365 0.7356 Evaluation Finish\n",
      "124: Data Load Finish, Predict Finish, 7.9305 7.2199 0.2548 0.7136 Evaluation Finish\n",
      "125: Data Load Finish, Predict Finish, 17.0385 16.7887 0.6263 0.3847 Evaluation Finish\n",
      "126: Data Load Finish, Predict Finish, 5.956 5.2309 0.1814 0.7849 Evaluation Finish\n",
      "127: Data Load Finish, Predict Finish, 8.1601 7.5757 0.2674 0.7053 Evaluation Finish\n",
      "128: Data Load Finish, Predict Finish, 8.6792 8.0561 0.2849 0.6865 Evaluation Finish\n",
      "129: Data Load Finish, Predict Finish, 3.3164 2.7311 0.0945 0.8802 Evaluation Finish\n",
      "130: Data Load Finish, Predict Finish, 2.8851 2.5326 0.0948 0.8958 Evaluation Finish\n",
      "131: Data Load Finish, Predict Finish, 2.982 2.5993 0.0923 0.8923 Evaluation Finish\n",
      "132: Data Load Finish, Predict Finish, 6.1588 5.4554 0.1897 0.7776 Evaluation Finish\n",
      "133: Data Load Finish, Predict Finish, 2.9538 2.4874 0.0885 0.8933 Evaluation Finish\n",
      "134: Data Load Finish, Predict Finish, 9.4765 9.05 0.3216 0.6578 Evaluation Finish\n",
      "135: Data Load Finish, Predict Finish, 5.4668 4.4823 0.1541 0.8026 Evaluation Finish\n",
      "136: Data Load Finish, Predict Finish, 9.3589 8.8769 0.3153 0.662 Evaluation Finish\n",
      "137: Data Load Finish, "
     ]
    },
    {
     "name": "stderr",
     "output_type": "stream",
     "text": [
      "C:\\Users\\vfgtr554\\anaconda3\\envs\\cctv\\lib\\site-packages\\statsmodels\\base\\model.py:606: ConvergenceWarning: Maximum Likelihood optimization failed to converge. Check mle_retvals\n",
      "  ConvergenceWarning)\n"
     ]
    },
    {
     "name": "stdout",
     "output_type": "stream",
     "text": [
      "Predict Finish, 4.9476 4.0725 0.1391 0.8213 Evaluation Finish\n",
      "138: Data Load Finish, Predict Finish, 5.4164 4.6414 0.1599 0.8044 Evaluation Finish\n",
      "139: Data Load Finish, Predict Finish, 5.1018 4.2665 0.1461 0.8157 Evaluation Finish\n",
      "140: Data Load Finish, Predict Finish, 2.9863 2.5848 0.0915 0.8921 Evaluation Finish\n",
      "141: Data Load Finish, Predict Finish, 4.1727 3.4147 0.1165 0.8493 Evaluation Finish\n",
      "142: Data Load Finish, Predict Finish, 3.596 2.8404 0.0971 0.8701 Evaluation Finish\n",
      "143: Data Load Finish, Predict Finish, 4.8147 3.9249 0.1336 0.8261 Evaluation Finish\n",
      "144: Data Load Finish, Predict Finish, 14.4688 14.1975 0.531 0.4775 Evaluation Finish\n",
      "145: Data Load Finish, "
     ]
    },
    {
     "name": "stderr",
     "output_type": "stream",
     "text": [
      "C:\\Users\\vfgtr554\\anaconda3\\envs\\cctv\\lib\\site-packages\\statsmodels\\base\\model.py:606: ConvergenceWarning: Maximum Likelihood optimization failed to converge. Check mle_retvals\n",
      "  ConvergenceWarning)\n"
     ]
    },
    {
     "name": "stdout",
     "output_type": "stream",
     "text": [
      "Predict Finish, 32.2514 32.1286 1.1886 -0.1648 Evaluation Finish\n",
      "146: Data Load Finish, Predict Finish, 3.9864 3.3578 0.1302 0.856 Evaluation Finish\n",
      "147: Data Load Finish, Predict Finish, 4.3143 3.5935 0.1397 0.8442 Evaluation Finish\n",
      "148: Data Load Finish, Predict Finish, 6.1918 5.3522 0.186 0.7764 Evaluation Finish\n",
      "149: Data Load Finish, Predict Finish, 5.6553 4.5833 0.1578 0.7958 Evaluation Finish\n",
      "150: Data Load Finish, Predict Finish, 6.3473 5.6189 0.1955 0.7708 Evaluation Finish\n",
      "151: Data Load Finish, Predict Finish, 4.8819 3.9922 0.1362 0.8237 Evaluation Finish\n",
      "152: Data Load Finish, Predict Finish, 4.8882 3.799 0.1294 0.8235 Evaluation Finish\n",
      "153: Data Load Finish, Predict Finish, 2.8025 2.3736 0.0881 0.8988 Evaluation Finish\n",
      "154: Data Load Finish, Predict Finish, 3.7785 3.0392 0.1037 0.8635 Evaluation Finish\n",
      "155: Data Load Finish, Predict Finish, 2.8061 2.3972 0.087 0.8987 Evaluation Finish\n",
      "156: Data Load Finish, Predict Finish, 4.3409 3.5107 0.1194 0.8432 Evaluation Finish\n",
      "157: Data Load Finish, Predict Finish, 5.896 5.1852 0.1798 0.7871 Evaluation Finish\n",
      "158: Data Load Finish, Predict Finish, 5.5879 4.7501 0.1643 0.7982 Evaluation Finish\n",
      "159: Data Load Finish, Predict Finish, 7.6434 6.9962 0.2467 0.724 Evaluation Finish\n",
      "160: Data Load Finish, Predict Finish, 4.527 3.5582 0.1204 0.8365 Evaluation Finish\n",
      "161: Data Load Finish, Predict Finish, 4.5031 3.527 0.1192 0.8374 Evaluation Finish\n",
      "162: Data Load Finish, Predict Finish, 7.3043 6.6062 0.2322 0.7362 Evaluation Finish\n",
      "163: Data Load Finish, Predict Finish, 3.7814 2.9854 0.1015 0.8634 Evaluation Finish\n",
      "164: Data Load Finish, Predict Finish, 3.0282 2.717 0.1016 0.8906 Evaluation Finish\n",
      "165: Data Load Finish, Predict Finish, 2.8318 2.4622 0.0892 0.8977 Evaluation Finish\n",
      "166: Data Load Finish, Predict Finish, 10.2744 9.8614 0.3721 0.6289 Evaluation Finish\n",
      "167: Data Load Finish, Predict Finish, 10.9444 10.5695 0.398 0.6047 Evaluation Finish\n",
      "168: Data Load Finish, Predict Finish, 25.2485 25.0869 0.9304 0.0881 Evaluation Finish\n",
      "169: Data Load Finish, Predict Finish, 7.0535 6.3878 0.2447 0.7453 Evaluation Finish\n",
      "170: Data Load Finish, Predict Finish, 4.2959 3.3233 0.1124 0.8449 Evaluation Finish\n",
      "171: Data Load Finish, Predict Finish, 5.5147 4.7758 0.185 0.8008 Evaluation Finish\n",
      "172: Data Load Finish, Predict Finish, 5.0561 4.119 0.1407 0.8174 Evaluation Finish\n",
      "173: Data Load Finish, Predict Finish, 3.3472 3.0532 0.1139 0.8791 Evaluation Finish\n",
      "174: Data Load Finish, Predict Finish, 3.3659 2.9772 0.1138 0.8784 Evaluation Finish\n",
      "175: Data Load Finish, Predict Finish, 7.9295 7.4133 0.2823 0.7136 Evaluation Finish\n",
      "176: Data Load Finish, Predict Finish, 6.1244 5.3387 0.1856 0.7788 Evaluation Finish\n",
      "177: Data Load Finish, Predict Finish, 17.519 17.2923 0.6446 0.3673 Evaluation Finish\n",
      "178: Data Load Finish, Predict Finish, 3.6416 2.934 0.1004 0.8685 Evaluation Finish\n",
      "179: Data Load Finish, Predict Finish, 3.3073 2.8288 0.109 0.8806 Evaluation Finish\n",
      "180: Data Load Finish, Predict Finish, 17.5399 17.2992 0.6446 0.3665 Evaluation Finish\n",
      "181: Data Load Finish, Predict Finish, 4.9991 4.1504 0.142 0.8195 Evaluation Finish\n",
      "182: Data Load Finish, Predict Finish, 4.792 3.8954 0.1325 0.8269 Evaluation Finish\n",
      "183: Data Load Finish, Predict Finish, 4.5064 3.5556 0.1202 0.8372 Evaluation Finish\n",
      "184: Data Load Finish, Predict Finish, 3.4921 2.8472 0.0979 0.8739 Evaluation Finish\n",
      "185: Data Load Finish, Predict Finish, 4.1747 3.3032 0.1119 0.8492 Evaluation Finish\n",
      "186: Data Load Finish, Predict Finish, 5.8788 4.7883 0.1656 0.7877 Evaluation Finish\n",
      "187: Data Load Finish, Predict Finish, 4.2567 3.286 0.1108 0.8463 Evaluation Finish\n",
      "188: Data Load Finish, Predict Finish, 2.8148 2.4543 0.0898 0.8983 Evaluation Finish\n",
      "189: Data Load Finish, Predict Finish, 2.8185 2.4114 0.0877 0.8982 Evaluation Finish\n",
      "190: Data Load Finish, Predict Finish, 4.8698 3.9649 0.1352 0.8241 Evaluation Finish\n",
      "191: Data Load Finish, Predict Finish, 3.4105 2.7364 0.0941 0.8768 Evaluation Finish\n",
      "192: Data Load Finish, Predict Finish, 5.8253 5.0846 0.1762 0.7896 Evaluation Finish\n",
      "193: Data Load Finish, "
     ]
    },
    {
     "name": "stderr",
     "output_type": "stream",
     "text": [
      "C:\\Users\\vfgtr554\\anaconda3\\envs\\cctv\\lib\\site-packages\\statsmodels\\base\\model.py:606: ConvergenceWarning: Maximum Likelihood optimization failed to converge. Check mle_retvals\n",
      "  ConvergenceWarning)\n"
     ]
    },
    {
     "name": "stdout",
     "output_type": "stream",
     "text": [
      "Predict Finish, 15.8208 15.5696 0.5607 0.4286 Evaluation Finish\n",
      "194: Data Load Finish, Predict Finish, 4.3285 3.3408 0.113 0.8437 Evaluation Finish\n",
      "195: Data Load Finish, Predict Finish, 5.3595 4.5654 0.1571 0.8064 Evaluation Finish\n",
      "196: Data Load Finish, Predict Finish, 6.977 6.366 0.2231 0.748 Evaluation Finish\n",
      "197: Data Load Finish, Predict Finish, 5.9447 5.2447 0.182 0.7853 Evaluation Finish\n",
      "198: Data Load Finish, Predict Finish, 3.7531 3.1957 0.1108 0.8645 Evaluation Finish\n",
      "199: Data Load Finish, Predict Finish, 7.4308 6.8462 0.2407 0.7316 Evaluation Finish\n",
      "200: Data Load Finish, Predict Finish, 3.4091 2.9846 0.1047 0.8769 Evaluation Finish\n",
      "201: Data Load Finish, Predict Finish, 7.6545 6.5708 0.2299 0.7236 Evaluation Finish\n",
      "202: Data Load Finish, Predict Finish, 3.7908 3.1572 0.1086 0.8631 Evaluation Finish\n",
      "203: Data Load Finish, Predict Finish, 9.0829 8.6433 0.3066 0.672 Evaluation Finish\n",
      "204: Data Load Finish, Predict Finish, 4.9081 3.9848 0.136 0.8227 Evaluation Finish\n",
      "205: Data Load Finish, Predict Finish, 6.7075 6.0439 0.2116 0.7578 Evaluation Finish\n",
      "206: Data Load Finish, Predict Finish, 9.793 9.346 0.3327 0.6463 Evaluation Finish\n",
      "207: Data Load Finish, Predict Finish, 5.3295 4.5432 0.1563 0.8075 Evaluation Finish\n",
      "208: Data Load Finish, Predict Finish, 9.9574 9.5504 0.3401 0.6404 Evaluation Finish\n",
      "209: Data Load Finish, Predict Finish, 5.405 4.6013 0.1792 0.8048 Evaluation Finish\n",
      "210: Data Load Finish, Predict Finish, 2.8524 2.509 0.0903 0.897 Evaluation Finish\n",
      "211: Data Load Finish, Predict Finish, 9.9198 9.1022 0.3442 0.6417 Evaluation Finish\n",
      "212: Data Load Finish, Predict Finish, 4.1177 3.2593 0.1105 0.8513 Evaluation Finish\n",
      "213: Data Load Finish, Predict Finish, 14.7731 14.4571 0.5403 0.4665 Evaluation Finish\n",
      "214: Data Load Finish, Predict Finish, 11.9118 11.5743 0.4141 0.5698 Evaluation Finish\n",
      "215: Data Load Finish, Predict Finish, 5.9059 5.1313 0.178 0.7867 Evaluation Finish\n",
      "216: Data Load Finish, Predict Finish, 3.3242 2.8693 0.1002 0.8799 Evaluation Finish\n",
      "217: Data Load Finish, Predict Finish, 15.5571 15.2893 0.571 0.4382 Evaluation Finish\n",
      "218: Data Load Finish, Predict Finish, 6.7169 6.0767 0.2125 0.7574 Evaluation Finish\n",
      "219: Data Load Finish, Predict Finish, 3.8745 3.0224 0.1189 0.8601 Evaluation Finish\n",
      "220: Data Load Finish, Predict Finish, 5.7541 5.0329 0.1949 0.7922 Evaluation Finish\n",
      "221: Data Load Finish, Predict Finish, 3.5843 2.9104 0.1137 0.8706 Evaluation Finish\n",
      "222: Data Load Finish, Predict Finish, 3.841 3.0823 0.105 0.8613 Evaluation Finish\n",
      "223: Data Load Finish, Predict Finish, 2.8149 2.405 0.0877 0.8983 Evaluation Finish\n",
      "224: Data Load Finish, Predict Finish, 3.3687 3.0102 0.1146 0.8783 Evaluation Finish\n",
      "225: Data Load Finish, Predict Finish, 2.9312 2.5125 0.0896 0.8941 Evaluation Finish\n",
      "226: Data Load Finish, Predict Finish, 3.5888 2.9306 0.1014 0.8704 Evaluation Finish\n",
      "227: Data Load Finish, Predict Finish, 5.5938 4.745 0.1635 0.798 Evaluation Finish\n",
      "228: Data Load Finish, Predict Finish, 5.4469 4.6556 0.1603 0.8033 Evaluation Finish\n",
      "229: Data Load Finish, Predict Finish, 13.5514 13.1885 0.4944 0.5106 Evaluation Finish\n",
      "230: Data Load Finish, Predict Finish, 3.6097 2.979 0.1025 0.8696 Evaluation Finish\n",
      "231: Data Load Finish, Predict Finish, 2.9934 2.6277 0.0935 0.8919 Evaluation Finish\n",
      "232: Data Load Finish, Predict Finish, 9.0439 8.5793 0.3042 0.6734 Evaluation Finish\n",
      "233: Data Load Finish, Predict Finish, 3.3356 2.559 0.0879 0.8795 Evaluation Finish\n",
      "234: Data Load Finish, Predict Finish, 3.6588 3.2184 0.114 0.8679 Evaluation Finish\n",
      "235: Data Load Finish, Predict Finish, 15.6765 15.4149 0.5758 0.4338 Evaluation Finish\n",
      "236: Data Load Finish, Predict Finish, 4.1787 3.2743 0.1112 0.8491 Evaluation Finish\n",
      "237: Data Load Finish, Predict Finish, 5.3598 4.5785 0.1576 0.8064 Evaluation Finish\n",
      "238: Data Load Finish, Predict Finish, 5.1492 4.3282 0.1485 0.814 Evaluation Finish\n",
      "239: Data Load Finish, Predict Finish, 3.7482 3.0911 0.106 0.8646 Evaluation Finish\n",
      "240: Data Load Finish, Predict Finish, 2.865 2.519 0.0904 0.8965 Evaluation Finish\n",
      "241: Data Load Finish, "
     ]
    },
    {
     "name": "stderr",
     "output_type": "stream",
     "text": [
      "C:\\Users\\vfgtr554\\anaconda3\\envs\\cctv\\lib\\site-packages\\statsmodels\\base\\model.py:606: ConvergenceWarning: Maximum Likelihood optimization failed to converge. Check mle_retvals\n",
      "  ConvergenceWarning)\n"
     ]
    },
    {
     "name": "stdout",
     "output_type": "stream",
     "text": [
      "Predict Finish, 3.6704 2.9925 0.1025 0.8674 Evaluation Finish\n",
      "242: Data Load Finish, Predict Finish, 4.7542 3.8479 0.1308 0.8283 Evaluation Finish\n",
      "243: Data Load Finish, Predict Finish, 21.6349 21.4529 0.7972 0.2187 Evaluation Finish\n",
      "244: Data Load Finish, Predict Finish, 9.656 9.232 0.3285 0.6513 Evaluation Finish\n",
      "245: Data Load Finish, Predict Finish, 10.9796 10.5674 0.3777 0.6035 Evaluation Finish\n",
      "246: Data Load Finish, Predict Finish, 12.213 11.8693 0.4252 0.5589 Evaluation Finish\n",
      "247: Data Load Finish, Predict Finish, 9.284 8.8524 0.3144 0.6647 Evaluation Finish\n",
      "248: Data Load Finish, Predict Finish, 11.6362 11.2965 0.4039 0.5798 Evaluation Finish\n",
      "249: Data Load Finish, Predict Finish, 9.1892 8.7569 0.3109 0.6681 Evaluation Finish\n",
      "250: Data Load Finish, Predict Finish, 9.0546 8.6151 0.3056 0.673 Evaluation Finish\n",
      "251: Data Load Finish, Predict Finish, 12.035 11.6993 0.4187 0.5654 Evaluation Finish\n",
      "252: Data Load Finish, Predict Finish, 2.8849 2.5216 0.0945 0.8958 Evaluation Finish\n",
      "253: Data Load Finish, Predict Finish, 7.3942 6.8475 0.2408 0.733 Evaluation Finish\n",
      "254: Data Load Finish, Predict Finish, 3.8772 3.2185 0.1258 0.86 Evaluation Finish\n",
      "255: Data Load Finish, Predict Finish, 7.7288 7.1756 0.253 0.7209 Evaluation Finish\n",
      "256: Data Load Finish, Predict Finish, 6.3607 5.6687 0.1976 0.7703 Evaluation Finish\n",
      "257: Data Load Finish, Predict Finish, 8.3936 7.8316 0.2975 0.6969 Evaluation Finish\n",
      "258: Data Load Finish, Predict Finish, 5.2161 4.2883 0.1469 0.8116 Evaluation Finish\n",
      "259: Data Load Finish, Predict Finish, 4.769 3.8026 0.1497 0.8278 Evaluation Finish\n",
      "260: Data Load Finish, Predict Finish, 3.5254 2.9727 0.1153 0.8727 Evaluation Finish\n",
      "261: Data Load Finish, Predict Finish, 3.2746 2.9493 0.1113 0.8817 Evaluation Finish\n",
      "262: Data Load Finish, Predict Finish, 4.007 3.3559 0.131 0.8553 Evaluation Finish\n",
      "263: Data Load Finish, Predict Finish, 3.0852 2.5331 0.0889 0.8886 Evaluation Finish\n",
      "264: Data Load Finish, Predict Finish, 5.5824 4.8381 0.1672 0.7984 Evaluation Finish\n",
      "265: Data Load Finish, Predict Finish, 5.0707 4.2366 0.1451 0.8169 Evaluation Finish\n",
      "266: Data Load Finish, Predict Finish, 9.8466 9.4445 0.3361 0.6444 Evaluation Finish\n",
      "267: Data Load Finish, Predict Finish, 3.882 2.9788 0.1012 0.8598 Evaluation Finish\n",
      "268: Data Load Finish, Predict Finish, 5.2373 4.4223 0.1518 0.8109 Evaluation Finish\n",
      "269: Data Load Finish, Predict Finish, 3.7362 3.3442 0.1252 0.8651 Evaluation Finish\n",
      "270: Data Load Finish, Predict Finish, 11.3135 10.8839 0.3891 0.5914 Evaluation Finish\n",
      "271: Data Load Finish, Predict Finish, 3.4782 3.1434 0.1163 0.8744 Evaluation Finish\n",
      "272: Data Load Finish, Predict Finish, 3.6572 3.2587 0.1242 0.8679 Evaluation Finish\n",
      "273: Data Load Finish, Predict Finish, 3.4299 2.6892 0.0927 0.8761 Evaluation Finish\n",
      "274: Data Load Finish, Predict Finish, 7.9584 7.3985 0.2613 0.7126 Evaluation Finish\n",
      "275: Data Load Finish, Predict Finish, 8.0366 7.5143 0.2651 0.7098 Evaluation Finish\n",
      "276: Data Load Finish, Predict Finish, 7.5286 6.7831 0.239 0.7281 Evaluation Finish\n",
      "277: Data Load Finish, Predict Finish, 8.3448 7.843 0.2772 0.6986 Evaluation Finish\n",
      "278: Data Load Finish, Predict Finish, 4.7084 3.7946 0.1289 0.83 Evaluation Finish\n",
      "279: Data Load Finish, Predict Finish, 5.3573 4.5511 0.1567 0.8065 Evaluation Finish\n",
      "280: Data Load Finish, Predict Finish, 4.2696 3.5011 0.1196 0.8458 Evaluation Finish\n",
      "281: Data Load Finish, Predict Finish, 5.0944 4.2291 0.1449 0.816 Evaluation Finish\n",
      "282: Data Load Finish, Predict Finish, 4.0302 3.0885 0.1054 0.8545 Evaluation Finish\n",
      "283: Data Load Finish, Predict Finish, 2.9183 2.5162 0.0897 0.8946 Evaluation Finish\n",
      "284: Data Load Finish, Predict Finish, 4.251 3.5598 0.1389 0.8465 Evaluation Finish\n",
      "285: Data Load Finish, Predict Finish, 8.8562 8.4051 0.2979 0.6802 Evaluation Finish\n",
      "286: Data Load Finish, Predict Finish, 3.6931 3.2504 0.1244 0.8666 Evaluation Finish\n",
      "287: Data Load Finish, Predict Finish, 7.3311 6.759 0.2374 0.7352 Evaluation Finish\n",
      "288: Data Load Finish, Predict Finish, 3.3302 2.8495 0.0995 0.8797 Evaluation Finish\n",
      "289: Data Load Finish, Predict Finish, 7.9816 7.4725 0.2639 0.7117 Evaluation Finish\n",
      "290: Data Load Finish, Predict Finish, 5.218 4.3755 0.171 0.8116 Evaluation Finish\n",
      "291: Data Load Finish, Predict Finish, 3.2089 2.7541 0.0965 0.8841 Evaluation Finish\n",
      "292: Data Load Finish, Predict Finish, 4.9368 3.9639 0.1352 0.8217 Evaluation Finish\n",
      "293: Data Load Finish, Predict Finish, 5.0407 4.1136 0.1403 0.818 Evaluation Finish\n",
      "294: Data Load Finish, Predict Finish, 4.8383 3.8684 0.1318 0.8253 Evaluation Finish\n",
      "295: Data Load Finish, Predict Finish, 4.8798 4.0037 0.1365 0.8238 Evaluation Finish\n",
      "296: Data Load Finish, Predict Finish, 4.378 3.4311 0.1159 0.8419 Evaluation Finish\n",
      "297: Data Load Finish, Predict Finish, 4.5844 3.6539 0.1237 0.8344 Evaluation Finish\n",
      "298: Data Load Finish, Predict Finish, 7.9221 7.3732 0.2599 0.7139 Evaluation Finish\n",
      "299: Data Load Finish, Predict Finish, 3.5316 2.9685 0.1153 0.8725 Evaluation Finish\n",
      "300: Data Load Finish, Predict Finish, 7.0322 6.4219 0.2456 0.746 Evaluation Finish\n",
      "301: Data Load Finish, Predict Finish, 8.2607 7.756 0.2741 0.7017 Evaluation Finish\n",
      "302: Data Load Finish, Predict Finish, 12.0275 11.6983 0.4187 0.5656 Evaluation Finish\n",
      "303: Data Load Finish, Predict Finish, 5.1406 4.3012 0.1681 0.8143 Evaluation Finish\n",
      "304: Data Load Finish, Predict Finish, 5.6186 4.6754 0.1616 0.7971 Evaluation Finish\n",
      "305: Data Load Finish, Predict Finish, 3.6594 3.0228 0.1039 0.8678 Evaluation Finish\n",
      "306: Data Load Finish, Predict Finish, 9.6157 9.2005 0.3271 0.6527 Evaluation Finish\n",
      "307: Data Load Finish, Predict Finish, 6.5545 5.9192 0.2067 0.7633 Evaluation Finish\n",
      "308: Data Load Finish, Predict Finish, 3.8974 3.2255 0.1106 0.8592 Evaluation Finish\n",
      "309: Data Load Finish, Predict Finish, 5.1843 4.3566 0.1495 0.8128 Evaluation Finish\n",
      "310: Data Load Finish, Predict Finish, 7.6133 6.956 0.2449 0.725 Evaluation Finish\n",
      "311: Data Load Finish, Predict Finish, 3.1582 2.6058 0.0907 0.8859 Evaluation Finish\n",
      "312: Data Load Finish, Predict Finish, 12.5957 12.283 0.4607 0.5451 Evaluation Finish\n",
      "313: Data Load Finish, Predict Finish, 9.9154 9.4917 0.3378 0.6419 Evaluation Finish\n",
      "314: Data Load Finish, Predict Finish, 4.5191 3.6257 0.123 0.8368 Evaluation Finish\n",
      "315: Data Load Finish, Predict Finish, 5.4381 4.6385 0.1597 0.8036 Evaluation Finish\n",
      "316: Data Load Finish, Predict Finish, 4.6432 3.6938 0.1253 0.8323 Evaluation Finish\n",
      "317: Data Load Finish, Predict Finish, 4.2085 3.372 0.1145 0.848 Evaluation Finish\n",
      "318: Data Load Finish, Predict Finish, 10.1939 9.8039 0.3492 0.6318 Evaluation Finish\n",
      "319: Data Load Finish, Predict Finish, 8.0986 7.599 0.2684 0.7075 Evaluation Finish\n",
      "320: Data Load Finish, Predict Finish, 5.7275 4.9876 0.1725 0.7932 Evaluation Finish\n",
      "321: Data Load Finish, Predict Finish, 2.9383 2.5832 0.093 0.8939 Evaluation Finish\n",
      "322: Data Load Finish, Predict Finish, 2.9022 2.48 0.089 0.8952 Evaluation Finish\n",
      "323: Data Load Finish, Predict Finish, 4.4269 3.3946 0.1153 0.8401 Evaluation Finish\n",
      "324: Data Load Finish, Predict Finish, 4.4551 3.7225 0.1454 0.8391 Evaluation Finish\n",
      "325: Data Load Finish, Predict Finish, 7.4981 6.9595 0.2655 0.7292 Evaluation Finish\n",
      "326: Data Load Finish, Predict Finish, 6.232 5.5729 0.194 0.7749 Evaluation Finish\n",
      "327: Data Load Finish, Predict Finish, 15.5114 15.2583 0.5699 0.4398 Evaluation Finish\n",
      "328: Data Load Finish, Predict Finish, 10.0883 9.6482 0.3642 0.6357 Evaluation Finish\n",
      "329: Data Load Finish, Predict Finish, 3.7949 3.0652 0.1202 0.8629 Evaluation Finish\n",
      "330: Data Load Finish, Predict Finish, 6.011 5.3195 0.2054 0.7829 Evaluation Finish\n",
      "331: Data Load Finish, Predict Finish, 6.6394 5.9196 0.2278 0.7602 Evaluation Finish\n",
      "332: Data Load Finish, Predict Finish, 5.8595 5.112 0.1976 0.7884 Evaluation Finish\n",
      "333: Data Load Finish, Predict Finish, 12.1515 11.7611 0.442 0.5611 Evaluation Finish\n",
      "334: Data Load Finish, Predict Finish, 19.5891 19.3888 0.7215 0.2925 Evaluation Finish\n",
      "335: Data Load Finish, Predict Finish, 3.1867 2.6271 0.1014 0.8849 Evaluation Finish\n",
      "336: Data Load Finish, Predict Finish, 10.444 10.0264 0.378 0.6228 Evaluation Finish\n",
      "337: Data Load Finish, Predict Finish, 4.3161 3.5933 0.1405 0.8441 Evaluation Finish\n",
      "338: Data Load Finish, Predict Finish, 16.553 16.307 0.6085 0.4022 Evaluation Finish\n"
     ]
    },
    {
     "name": "stdout",
     "output_type": "stream",
     "text": [
      "339: Data Load Finish, Predict Finish, 6.2687 5.614 0.2162 0.7736 Evaluation Finish\n",
      "340: Data Load Finish, Predict Finish, 3.8654 3.1234 0.1225 0.8604 Evaluation Finish\n",
      "341: Data Load Finish, Predict Finish, 5.1663 4.3883 0.1709 0.8134 Evaluation Finish\n",
      "342: Data Load Finish, Predict Finish, 14.8526 14.5676 0.5447 0.4636 Evaluation Finish\n",
      "343: Data Load Finish, Predict Finish, 8.3299 7.7683 0.2953 0.6992 Evaluation Finish\n",
      "344: Data Load Finish, Predict Finish, 3.2685 2.9089 0.1108 0.882 Evaluation Finish\n",
      "345: Data Load Finish, Predict Finish, 3.1355 2.7598 0.1051 0.8868 Evaluation Finish\n",
      "346: Data Load Finish, Predict Finish, 11.1026 10.7271 0.3829 0.599 Evaluation Finish\n",
      "347: Data Load Finish, Predict Finish, 3.0355 2.6185 0.0924 0.8904 Evaluation Finish\n",
      "348: Data Load Finish, Predict Finish, 8.9678 8.5255 0.3229 0.6761 Evaluation Finish\n",
      "349: Data Load Finish, Predict Finish, 7.2517 6.6958 0.2353 0.7381 Evaluation Finish\n",
      "350: Data Load Finish, Predict Finish, 13.1637 12.8641 0.4616 0.5246 Evaluation Finish\n",
      "351: Data Load Finish, Predict Finish, 3.8408 2.9334 0.0993 0.8613 Evaluation Finish\n",
      "352: Data Load Finish, Predict Finish, 3.812 3.0459 0.1038 0.8623 Evaluation Finish\n",
      "353: Data Load Finish, Predict Finish, 4.068 3.4113 0.1329 0.8531 Evaluation Finish\n",
      "354: Data Load Finish, Predict Finish, 4.1211 3.4473 0.1345 0.8512 Evaluation Finish\n",
      "355: Data Load Finish, Predict Finish, 4.1722 3.4614 0.1354 0.8493 Evaluation Finish\n",
      "356: Data Load Finish, Predict Finish, 2.7901 2.4245 0.0895 0.8992 Evaluation Finish\n",
      "357: Data Load Finish, Predict Finish, 4.3928 3.599 0.1413 0.8414 Evaluation Finish\n",
      "358: Data Load Finish, Predict Finish, 2.8896 2.5419 0.091 0.8956 Evaluation Finish\n",
      "359: Data Load Finish, Predict Finish, 2.8442 2.4229 0.0903 0.8973 Evaluation Finish\n",
      "360: Data Load Finish, Predict Finish, 2.7991 2.3942 0.0882 0.8989 Evaluation Finish\n",
      "361: Data Load Finish, Predict Finish, 3.0524 2.5524 0.0978 0.8898 Evaluation Finish\n",
      "362: Data Load Finish, Predict Finish, 3.6572 2.8321 0.0966 0.8679 Evaluation Finish\n",
      "363: Data Load Finish, Predict Finish, 7.5499 6.8052 0.2396 0.7273 Evaluation Finish\n",
      "364: Data Load Finish, Predict Finish, 7.8001 7.2828 0.2568 0.7183 Evaluation Finish\n",
      "365: Data Load Finish, Predict Finish, 3.8146 3.2254 0.1254 0.8622 Evaluation Finish\n",
      "366: Data Load Finish, Predict Finish, 3.4534 2.7884 0.0958 0.8753 Evaluation Finish\n",
      "367: Data Load Finish, Predict Finish, 5.0439 4.2945 0.1671 0.8178 Evaluation Finish\n",
      "368: Data Load Finish, Predict Finish, 3.3277 2.6879 0.0928 0.8798 Evaluation Finish\n",
      "369: Data Load Finish, Predict Finish, 5.0298 4.0735 0.1391 0.8183 Evaluation Finish\n",
      "370: Data Load Finish, Predict Finish, 3.2229 2.9476 0.1079 0.8836 Evaluation Finish\n",
      "371: Data Load Finish, Predict Finish, 2.933 2.5381 0.0957 0.8941 Evaluation Finish\n",
      "372: Data Load Finish, Predict Finish, 14.3566 14.0709 0.5263 0.4815 Evaluation Finish\n",
      "373: Data Load Finish, Predict Finish, 5.2854 4.3166 0.1481 0.8091 Evaluation Finish\n",
      "374: Data Load Finish, Predict Finish, 8.8156 8.3402 0.3162 0.6816 Evaluation Finish\n",
      "375: Data Load Finish, Predict Finish, 35.0792 34.961 1.2926 -0.2669 Evaluation Finish\n",
      "376: Data Load Finish, Predict Finish, 54.9154 54.8445 2.0218 -0.9833 Evaluation Finish\n",
      "377: Data Load Finish, Predict Finish, 28.1343 27.985 1.0367 -0.0161 Evaluation Finish\n",
      "378: Data Load Finish, Predict Finish, 29.9164 29.6217 1.0966 -0.0804 Evaluation Finish\n",
      "379: Data Load Finish, Predict Finish, 3.3251 3.0093 0.1094 0.8799 Evaluation Finish\n",
      "380: Data Load Finish, Predict Finish, 8.4491 7.1977 0.2735 0.6949 Evaluation Finish\n",
      "381: Data Load Finish, Predict Finish, 4.2226 3.1883 0.1084 0.8475 Evaluation Finish\n",
      "382: Data Load Finish, Predict Finish, 3.2348 2.5497 0.0892 0.8832 Evaluation Finish\n",
      "383: Data Load Finish, Predict Finish, 3.1796 2.7479 0.0965 0.8852 Evaluation Finish\n",
      "384: Data Load Finish, Predict Finish, 3.5989 2.961 0.1018 0.87 Evaluation Finish\n",
      "385: Data Load Finish, Predict Finish, 3.1085 2.6258 0.0919 0.8877 Evaluation Finish\n",
      "386: Data Load Finish, Predict Finish, 3.3745 2.9922 0.1144 0.8781 Evaluation Finish\n",
      "387: Data Load Finish, Predict Finish, 4.6232 3.8704 0.1507 0.833 Evaluation Finish\n",
      "388: Data Load Finish, Predict Finish, 3.1225 2.615 0.0916 0.8872 Evaluation Finish\n",
      "389: Data Load Finish, Predict Finish, 17.579 17.3538 0.6468 0.3651 Evaluation Finish\n",
      "390: Data Load Finish, Predict Finish, 20.0862 19.8902 0.7398 0.2746 Evaluation Finish\n",
      "391: Data Load Finish, Predict Finish, 8.5603 8.0771 0.2858 0.6908 Evaluation Finish\n",
      "392: Data Load Finish, Predict Finish, 7.6248 7.0967 0.2499 0.7246 Evaluation Finish\n",
      "393: Data Load Finish, Predict Finish, 5.2285 4.088 0.1399 0.8112 Evaluation Finish\n",
      "394: Data Load Finish, Predict Finish, 4.1805 3.3418 0.1134 0.849 Evaluation Finish\n",
      "395: Data Load Finish, Predict Finish, 6.9734 6.3317 0.2221 0.7482 Evaluation Finish\n",
      "396: Data Load Finish, Predict Finish, 4.6051 3.6509 0.1237 0.8337 Evaluation Finish\n",
      "397: Data Load Finish, Predict Finish, 5.2824 4.415 0.171 0.8092 Evaluation Finish\n",
      "398: Data Load Finish, Predict Finish, 6.7436 6.0974 0.2136 0.7565 Evaluation Finish\n",
      "399: Data Load Finish, Predict Finish, 8.8649 8.4066 0.2979 0.6798 Evaluation Finish\n",
      "400: Data Load Finish, Predict Finish, 9.6468 9.1605 0.3254 0.6516 Evaluation Finish\n",
      "401: Data Load Finish, Predict Finish, 5.4894 4.7126 0.1626 0.8018 Evaluation Finish\n",
      "402: Data Load Finish, Predict Finish, 5.7379 4.8541 0.1679 0.7928 Evaluation Finish\n",
      "403: Data Load Finish, Predict Finish, 7.8997 7.2429 0.255 0.7147 Evaluation Finish\n",
      "404: Data Load Finish, Predict Finish, 6.9246 6.2491 0.219 0.7499 Evaluation Finish\n",
      "405: Data Load Finish, Predict Finish, 6.2811 5.5815 0.2151 0.7732 Evaluation Finish\n",
      "406: Data Load Finish, Predict Finish, 2.8442 2.4248 0.0907 0.8973 Evaluation Finish\n",
      "407: Data Load Finish, Predict Finish, 3.6237 2.9651 0.1158 0.8691 Evaluation Finish\n",
      "408: Data Load Finish, Predict Finish, 2.8477 2.4157 0.0891 0.8972 Evaluation Finish\n",
      "409: Data Load Finish, Predict Finish, 4.1292 3.5164 0.1356 0.8509 Evaluation Finish\n",
      "410: Data Load Finish, Predict Finish, 2.9899 2.5709 0.0909 0.892 Evaluation Finish\n",
      "411: Data Load Finish, Predict Finish, 4.9714 4.1029 0.1405 0.8205 Evaluation Finish\n",
      "412: Data Load Finish, Predict Finish, 11.8487 11.5148 0.4325 0.5721 Evaluation Finish\n",
      "413: Data Load Finish, Predict Finish, 6.9577 6.3358 0.2218 0.7487 Evaluation Finish\n",
      "414: Data Load Finish, Predict Finish, 2.9588 2.6625 0.0996 0.8931 Evaluation Finish\n",
      "415: Data Load Finish, Predict Finish, 3.0022 2.5773 0.0911 0.8916 Evaluation Finish\n",
      "416: Data Load Finish, Predict Finish, 3.9309 3.1457 0.1237 0.858 Evaluation Finish\n",
      "417: Data Load Finish, Predict Finish, 4.3754 3.5428 0.1223 0.842 Evaluation Finish\n",
      "418: Data Load Finish, Predict Finish, 14.9106 14.6275 0.5469 0.4615 Evaluation Finish\n",
      "419: Data Load Finish, Predict Finish, 9.0292 8.56 0.3034 0.6739 Evaluation Finish\n",
      "420: Data Load Finish, Predict Finish, 3.5038 3.1404 0.1154 0.8735 Evaluation Finish\n",
      "421: Data Load Finish, Predict Finish, 4.3553 3.4542 0.1361 0.8427 Evaluation Finish\n",
      "422: Data Load Finish, Predict Finish, 6.3186 5.616 0.1954 0.7718 Evaluation Finish\n",
      "423: Data Load Finish, Predict Finish, 3.131 2.7054 0.1035 0.8869 Evaluation Finish\n",
      "424: Data Load Finish, Predict Finish, 5.5291 4.5981 0.1764 0.8003 Evaluation Finish\n",
      "425: Data Load Finish, Predict Finish, 2.9834 2.6318 0.0944 0.8923 Evaluation Finish\n",
      "426: Data Load Finish, Predict Finish, 15.6651 15.4036 0.5753 0.4343 Evaluation Finish\n",
      "427: Data Load Finish, Predict Finish, 22.5818 22.4081 0.8322 0.1845 Evaluation Finish\n",
      "428: Data Load Finish, Predict Finish, 25.7057 25.5493 0.9475 0.0716 Evaluation Finish\n",
      "429: Data Load Finish, Predict Finish, 29.9941 29.7775 1.1025 -0.0832 Evaluation Finish\n",
      "430: Data Load Finish, Predict Finish, 30.989 30.8453 1.1419 -0.1192 Evaluation Finish\n",
      "431: Data Load Finish, Predict Finish, 21.9331 21.7552 0.8082 0.2079 Evaluation Finish\n",
      "432: Data Load Finish, Predict Finish, 10.9813 10.602 0.3783 0.6034 Evaluation Finish\n",
      "433: Data Load Finish, Predict Finish, 15.1397 14.881 0.5354 0.4532 Evaluation Finish\n",
      "434: Data Load Finish, Predict Finish, 7.5576 6.9911 0.2459 0.7271 Evaluation Finish\n"
     ]
    },
    {
     "name": "stdout",
     "output_type": "stream",
     "text": [
      "435: Data Load Finish, Predict Finish, 9.5706 9.0575 0.3215 0.6544 Evaluation Finish\n",
      "436: Data Load Finish, Predict Finish, 10.183 9.7861 0.3488 0.6322 Evaluation Finish\n",
      "437: Data Load Finish, Predict Finish, 5.1756 4.2571 0.1462 0.8131 Evaluation Finish\n",
      "438: Data Load Finish, Predict Finish, 3.9222 3.2644 0.1122 0.8583 Evaluation Finish\n",
      "439: Data Load Finish, Predict Finish, 2.8044 2.4603 0.0896 0.8987 Evaluation Finish\n",
      "440: Data Load Finish, Predict Finish, 7.087 6.4915 0.2486 0.7441 Evaluation Finish\n",
      "441: Data Load Finish, Predict Finish, 3.4477 2.8578 0.1111 0.8755 Evaluation Finish\n",
      "442: Data Load Finish, Predict Finish, 4.8649 3.9988 0.1569 0.8243 Evaluation Finish\n",
      "443: Data Load Finish, Predict Finish, 7.5211 6.924 0.2433 0.7284 Evaluation Finish\n",
      "444: Data Load Finish, Predict Finish, 6.9311 6.34 0.2223 0.7497 Evaluation Finish\n",
      "445: Data Load Finish, Predict Finish, 8.8795 8.3512 0.2959 0.6793 Evaluation Finish\n",
      "446: Data Load Finish, Predict Finish, 3.1495 2.7154 0.0957 0.8863 Evaluation Finish\n",
      "447: Data Load Finish, Predict Finish, 3.151 2.6902 0.0944 0.8862 Evaluation Finish\n",
      "448: Data Load Finish, Predict Finish, 8.1063 7.6123 0.2895 0.7072 Evaluation Finish\n",
      "449: Data Load Finish, Predict Finish, 5.1547 4.316 0.148 0.8138 Evaluation Finish\n",
      "450: Data Load Finish, Predict Finish, 4.1593 3.2372 0.1094 0.8498 Evaluation Finish\n",
      "451: Data Load Finish, Predict Finish, 2.8878 2.4852 0.0937 0.8957 Evaluation Finish\n",
      "452: Data Load Finish, Predict Finish, 5.9094 5.206 0.1806 0.7866 Evaluation Finish\n",
      "453: Data Load Finish, Predict Finish, 3.4239 2.9306 0.1022 0.8763 Evaluation Finish\n",
      "454: Data Load Finish, Predict Finish, 7.5964 7.0619 0.2486 0.7257 Evaluation Finish\n",
      "455: Data Load Finish, Predict Finish, 8.8652 8.3959 0.2976 0.6798 Evaluation Finish\n",
      "456: Data Load Finish, Predict Finish, 5.2348 4.3894 0.151 0.8109 Evaluation Finish\n",
      "457: Data Load Finish, Predict Finish, 6.4265 5.7781 0.2016 0.7679 Evaluation Finish\n",
      "458: Data Load Finish, Predict Finish, 4.7783 3.8188 0.1298 0.8274 Evaluation Finish\n",
      "459: Data Load Finish, Predict Finish, 2.9551 2.5344 0.0961 0.8933 Evaluation Finish\n",
      "460: Data Load Finish, Predict Finish, 9.1388 8.6986 0.3087 0.6699 Evaluation Finish\n",
      "461: Data Load Finish, Predict Finish, 4.0753 3.5191 0.1242 0.8528 Evaluation Finish\n",
      "462: Data Load Finish, Predict Finish, 4.4641 3.5386 0.1197 0.8388 Evaluation Finish\n",
      "463: Data Load Finish, Predict Finish, 5.6954 4.9667 0.1718 0.7943 Evaluation Finish\n",
      "464: Data Load Finish, Predict Finish, 2.8022 2.4293 0.0885 0.8988 Evaluation Finish\n",
      "465: Data Load Finish, Predict Finish, 6.7223 6.0407 0.2111 0.7572 Evaluation Finish\n",
      "466: Data Load Finish, Predict Finish, 9.333 8.8875 0.3156 0.6629 Evaluation Finish\n",
      "467: Data Load Finish, Predict Finish, 3.1863 2.8368 0.1046 0.8849 Evaluation Finish\n",
      "468: Data Load Finish, Predict Finish, 8.6212 8.1575 0.3095 0.6886 Evaluation Finish\n",
      "469: Data Load Finish, Predict Finish, 2.9946 2.5729 0.0978 0.8919 Evaluation Finish\n",
      "470: Data Load Finish, Predict Finish, 12.5165 12.0745 0.432 0.548 Evaluation Finish\n",
      "471: Data Load Finish, Predict Finish, 3.2108 2.8263 0.0997 0.884 Evaluation Finish\n",
      "472: Data Load Finish, Predict Finish, 11.0953 10.6865 0.3814 0.5993 Evaluation Finish\n",
      "473: Data Load Finish, Predict Finish, 4.7534 3.6302 0.1235 0.8283 Evaluation Finish\n",
      "474: Data Load Finish, Predict Finish, 5.4262 4.6701 0.1813 0.804 Evaluation Finish\n",
      "475: Data Load Finish, Predict Finish, 3.8524 3.0607 0.1049 0.8609 Evaluation Finish\n",
      "476: Data Load Finish, Predict Finish, 4.8439 3.9314 0.1339 0.8251 Evaluation Finish\n",
      "477: Data Load Finish, Predict Finish, 3.6266 3.0237 0.1043 0.869 Evaluation Finish\n",
      "478: Data Load Finish, Predict Finish, 5.8734 5.0877 0.1763 0.7879 Evaluation Finish\n",
      "479: Data Load Finish, Predict Finish, 3.3512 2.8408 0.0987 0.879 Evaluation Finish\n",
      "480: Data Load Finish, Predict Finish, 8.2896 7.7993 0.2757 0.7006 Evaluation Finish\n",
      "481: Data Load Finish, Predict Finish, 3.0098 2.546 0.0897 0.8913 Evaluation Finish\n",
      "482: Data Load Finish, Predict Finish, 10.4633 10.0799 0.3593 0.6221 Evaluation Finish\n",
      "483: Data Load Finish, Predict Finish, 3.4288 2.7015 0.0928 0.8762 Evaluation Finish\n",
      "484: Data Load Finish, Predict Finish, 3.629 2.9778 0.1022 0.8689 Evaluation Finish\n",
      "485: Data Load Finish, Predict Finish, 2.8504 2.4359 0.0878 0.8971 Evaluation Finish\n",
      "486: Data Load Finish, Predict Finish, 4.0142 3.5104 0.1266 0.855 Evaluation Finish\n",
      "487: Data Load Finish, Predict Finish, 12.0244 11.689 0.4388 0.5657 Evaluation Finish\n",
      "488: Data Load Finish, Predict Finish, 4.425 3.6726 0.1438 0.8402 Evaluation Finish\n",
      "489: Data Load Finish, Predict Finish, 13.8305 13.5467 0.5072 0.5005 Evaluation Finish\n",
      "490: Data Load Finish, Predict Finish, 11.2061 10.8492 0.4081 0.5953 Evaluation Finish\n",
      "491: Data Load Finish, Predict Finish, 6.9324 6.3445 0.2225 0.7496 Evaluation Finish\n",
      "492: Data Load Finish, Predict Finish, 7.1528 6.5293 0.2294 0.7417 Evaluation Finish\n",
      "493: Data Load Finish, Predict Finish, 3.2388 2.6349 0.1021 0.883 Evaluation Finish\n",
      "494: Data Load Finish, Predict Finish, 6.9954 6.2137 0.2172 0.7474 Evaluation Finish\n",
      "495: Data Load Finish, Predict Finish, 2.8377 2.4714 0.089 0.8975 Evaluation Finish\n",
      "496: Data Load Finish, Predict Finish, 2.8834 2.5008 0.0893 0.8959 Evaluation Finish\n",
      "497: Data Load Finish, Predict Finish, 2.9544 2.4757 0.0876 0.8933 Evaluation Finish\n",
      "498: Data Load Finish, Predict Finish, 5.5548 4.8041 0.1865 0.7994 Evaluation Finish\n",
      "499: Data Load Finish, Predict Finish, 2.9229 2.5707 0.0961 0.8944 Evaluation Finish\n",
      "500: Data Load Finish, Predict Finish, 2.8126 2.4392 0.0907 0.8984 Evaluation Finish\n",
      "501: Data Load Finish, Predict Finish, 3.0652 2.7208 0.1032 0.8893 Evaluation Finish\n",
      "502: Data Load Finish, Predict Finish, 2.8089 2.4012 0.0893 0.8986 Evaluation Finish\n",
      "503: Data Load Finish, Predict Finish, 4.4822 3.3911 0.1147 0.8381 Evaluation Finish\n",
      "504: Data Load Finish, Predict Finish, 2.7926 2.4176 0.0893 0.8991 Evaluation Finish\n",
      "505: Data Load Finish, Predict Finish, 8.2482 7.7414 0.2734 0.7021 Evaluation Finish\n",
      "RMSE: 7.066610648734252, MAE: 6.482070583925236, MAPE: 0.2353525424672083\n",
      "ACC: 0.7490039925393975\n"
     ]
    }
   ],
   "source": [
    "predictARIMA(df, idx, 12)"
   ]
  },
  {
   "cell_type": "markdown",
   "id": "c1acb05c",
   "metadata": {},
   "source": [
    "### Unobserved Nodes = 5%"
   ]
  },
  {
   "cell_type": "code",
   "execution_count": 10,
   "id": "8a799433",
   "metadata": {},
   "outputs": [
    {
     "name": "stdout",
     "output_type": "stream",
     "text": [
      "2880 506\n"
     ]
    },
    {
     "data": {
      "text/plain": [
       "72000"
      ]
     },
     "execution_count": 10,
     "metadata": {},
     "output_type": "execute_result"
    }
   ],
   "source": [
    "df, idx = csvIndexToDatetime(path_5, start, freq)\n",
    "(df == 0).sum().sum()"
   ]
  },
  {
   "cell_type": "code",
   "execution_count": 11,
   "id": "83ef8625",
   "metadata": {
    "scrolled": false
   },
   "outputs": [
    {
     "name": "stdout",
     "output_type": "stream",
     "text": [
      "0: Data Load Finish, Predict Finish, 2.7873 2.4036 0.0885 0.8993 Evaluation Finish\n",
      "1: Data Load Finish, Predict Finish, 3.7924 3.0657 0.1047 0.863 Evaluation Finish\n",
      "2: Data Load Finish, Predict Finish, 6.7166 6.106 0.2343 0.7574 Evaluation Finish\n",
      "3: Data Load Finish, Predict Finish, 15.6519 15.1833 0.5667 0.4347 Evaluation Finish\n",
      "4: Data Load Finish, Predict Finish, 7.8211 7.1486 0.2522 0.7175 Evaluation Finish\n",
      "5: Data Load Finish, Predict Finish, 6.4856 5.7711 0.2011 0.7658 Evaluation Finish\n",
      "6: Data Load Finish, Predict Finish, 3.013 2.612 0.0932 0.8912 Evaluation Finish\n",
      "7: Data Load Finish, Predict Finish, 9.5495 9.1278 0.3244 0.6551 Evaluation Finish\n",
      "8: Data Load Finish, Predict Finish, 4.853 3.7955 0.1291 0.8247 Evaluation Finish\n",
      "9: Data Load Finish, "
     ]
    },
    {
     "name": "stderr",
     "output_type": "stream",
     "text": [
      "C:\\Users\\vfgtr554\\anaconda3\\envs\\cctv\\lib\\site-packages\\statsmodels\\base\\model.py:606: ConvergenceWarning: Maximum Likelihood optimization failed to converge. Check mle_retvals\n",
      "  ConvergenceWarning)\n"
     ]
    },
    {
     "name": "stdout",
     "output_type": "stream",
     "text": [
      "Predict Finish, 8.7375 8.2804 0.2933 0.6844 Evaluation Finish\n",
      "10: Data Load Finish, Predict Finish, 8.0607 7.5584 0.2668 0.7089 Evaluation Finish\n",
      "11: Data Load Finish, Predict Finish, 3.1435 2.6236 0.0917 0.8865 Evaluation Finish\n",
      "12: Data Load Finish, Predict Finish, 15.9716 15.7129 0.5868 0.4232 Evaluation Finish\n",
      "13: Data Load Finish, Predict Finish, 25.594 25.4393 0.9433 0.0757 Evaluation Finish\n",
      "14: Data Load Finish, Predict Finish, 28.8289 28.6851 1.0624 -0.0412 Evaluation Finish\n",
      "15: Data Load Finish, Predict Finish, 17.1789 16.9477 0.6319 0.3796 Evaluation Finish\n",
      "16: Data Load Finish, Predict Finish, 4.7104 3.9606 0.1537 0.8299 Evaluation Finish\n",
      "17: Data Load Finish, Predict Finish, 8.4519 7.9609 0.2816 0.6948 Evaluation Finish\n",
      "18: Data Load Finish, Predict Finish, 3.2412 2.567 0.0901 0.8829 Evaluation Finish\n",
      "19: Data Load Finish, Predict Finish, 8.5039 7.8517 0.2774 0.6929 Evaluation Finish\n",
      "20: Data Load Finish, Predict Finish, 9.231 8.7655 0.3111 0.6666 Evaluation Finish\n",
      "21: Data Load Finish, Predict Finish, 3.7837 2.8444 0.0966 0.8634 Evaluation Finish\n",
      "22: Data Load Finish, Predict Finish, 3.2974 2.6078 0.09 0.8809 Evaluation Finish\n",
      "23: Data Load Finish, Predict Finish, 3.8114 3.4058 0.1286 0.8624 Evaluation Finish\n",
      "24: Data Load Finish, Predict Finish, 13.1675 12.8618 0.482 0.5245 Evaluation Finish\n",
      "25: Data Load Finish, "
     ]
    },
    {
     "name": "stderr",
     "output_type": "stream",
     "text": [
      "C:\\Users\\vfgtr554\\anaconda3\\envs\\cctv\\lib\\site-packages\\pandas\\core\\arraylike.py:364: RuntimeWarning: divide by zero encountered in log\n",
      "  result = getattr(ufunc, method)(*inputs, **kwargs)\n",
      "C:\\Users\\vfgtr554\\anaconda3\\envs\\cctv\\lib\\site-packages\\statsmodels\\base\\model.py:606: ConvergenceWarning: Maximum Likelihood optimization failed to converge. Check mle_retvals\n",
      "  ConvergenceWarning)\n"
     ]
    },
    {
     "name": "stdout",
     "output_type": "stream",
     "text": [
      "Predict Finish, 26.6945 26.5483 0.9633 0.0359 Evaluation Finish\n",
      "26: Data Load Finish, Predict Finish, 4.6209 3.7627 0.1284 0.8331 Evaluation Finish\n",
      "27: Data Load Finish, Predict Finish, 5.4033 4.6268 0.1594 0.8049 Evaluation Finish\n",
      "28: Data Load Finish, Predict Finish, 5.2131 4.4185 0.172 0.8117 Evaluation Finish\n",
      "29: Data Load Finish, Predict Finish, 4.0271 3.1351 0.1061 0.8546 Evaluation Finish\n",
      "30: Data Load Finish, Predict Finish, 3.0966 2.7534 0.1045 0.8882 Evaluation Finish\n",
      "31: Data Load Finish, Predict Finish, 2.8706 2.4319 0.087 0.8963 Evaluation Finish\n",
      "32: Data Load Finish, Predict Finish, 2.9517 2.5856 0.0921 0.8934 Evaluation Finish\n",
      "33: Data Load Finish, Predict Finish, 11.4741 11.1305 0.398 0.5856 Evaluation Finish\n",
      "34: Data Load Finish, Predict Finish, 3.737 3.1336 0.1083 0.865 Evaluation Finish\n",
      "35: Data Load Finish, Predict Finish, 6.3807 5.4872 0.1913 0.7696 Evaluation Finish\n",
      "36: Data Load Finish, "
     ]
    },
    {
     "name": "stderr",
     "output_type": "stream",
     "text": [
      "C:\\Users\\vfgtr554\\anaconda3\\envs\\cctv\\lib\\site-packages\\pandas\\core\\arraylike.py:364: RuntimeWarning: divide by zero encountered in log\n",
      "  result = getattr(ufunc, method)(*inputs, **kwargs)\n",
      "C:\\Users\\vfgtr554\\anaconda3\\envs\\cctv\\lib\\site-packages\\statsmodels\\base\\model.py:606: ConvergenceWarning: Maximum Likelihood optimization failed to converge. Check mle_retvals\n",
      "  ConvergenceWarning)\n"
     ]
    },
    {
     "name": "stdout",
     "output_type": "stream",
     "text": [
      "Predict Finish, 26.6945 26.5483 0.9633 0.0359 Evaluation Finish\n",
      "37: Data Load Finish, Predict Finish, 4.5585 3.5663 0.1207 0.8354 Evaluation Finish\n",
      "38: Data Load Finish, Predict Finish, 6.5653 5.8838 0.2057 0.7629 Evaluation Finish\n",
      "39: Data Load Finish, Predict Finish, 2.9532 2.5425 0.0901 0.8933 Evaluation Finish\n",
      "40: Data Load Finish, Predict Finish, 5.3907 4.3737 0.1496 0.8053 Evaluation Finish\n",
      "41: Data Load Finish, Predict Finish, 8.2065 7.603 0.269 0.7036 Evaluation Finish\n",
      "42: Data Load Finish, Predict Finish, 6.5643 5.8652 0.2052 0.7629 Evaluation Finish\n",
      "43: Data Load Finish, Predict Finish, 4.0495 3.3808 0.132 0.8538 Evaluation Finish\n",
      "44: Data Load Finish, Predict Finish, 3.1574 2.6701 0.1027 0.886 Evaluation Finish\n",
      "45: Data Load Finish, Predict Finish, 9.4551 9.0154 0.3203 0.6585 Evaluation Finish\n",
      "46: Data Load Finish, Predict Finish, 6.3622 5.6509 0.2172 0.7702 Evaluation Finish\n",
      "47: Data Load Finish, Predict Finish, 4.7355 3.8231 0.1298 0.829 Evaluation Finish\n",
      "48: Data Load Finish, Predict Finish, 3.4211 3.1212 0.1173 0.8764 Evaluation Finish\n",
      "49: Data Load Finish, Predict Finish, 2.9725 2.6211 0.0973 0.8926 Evaluation Finish\n",
      "50: Data Load Finish, Predict Finish, 3.7001 2.9731 0.1015 0.8664 Evaluation Finish\n",
      "51: Data Load Finish, Predict Finish, 6.9385 6.3163 0.2215 0.7494 Evaluation Finish\n",
      "52: Data Load Finish, Predict Finish, 10.4103 9.9951 0.3566 0.624 Evaluation Finish\n",
      "53: Data Load Finish, Predict Finish, 12.9098 12.5939 0.4514 0.5338 Evaluation Finish\n",
      "54: Data Load Finish, Predict Finish, 11.1047 10.749 0.3839 0.599 Evaluation Finish\n",
      "55: Data Load Finish, Predict Finish, 3.6042 3.0412 0.1181 0.8698 Evaluation Finish\n",
      "56: Data Load Finish, Predict Finish, 9.2295 8.798 0.333 0.6667 Evaluation Finish\n",
      "57: Data Load Finish, Predict Finish, 3.4918 2.8983 0.1127 0.8739 Evaluation Finish\n",
      "58: Data Load Finish, Predict Finish, 14.5892 14.2942 0.5346 0.4731 Evaluation Finish\n",
      "59: Data Load Finish, Predict Finish, 6.5775 5.9545 0.2287 0.7625 Evaluation Finish\n",
      "60: Data Load Finish, Predict Finish, 5.6703 4.9266 0.1911 0.7952 Evaluation Finish\n",
      "61: Data Load Finish, Predict Finish, 7.3212 6.7674 0.2378 0.7356 Evaluation Finish\n",
      "62: Data Load Finish, "
     ]
    },
    {
     "name": "stderr",
     "output_type": "stream",
     "text": [
      "C:\\Users\\vfgtr554\\anaconda3\\envs\\cctv\\lib\\site-packages\\pandas\\core\\arraylike.py:364: RuntimeWarning: divide by zero encountered in log\n",
      "  result = getattr(ufunc, method)(*inputs, **kwargs)\n",
      "C:\\Users\\vfgtr554\\anaconda3\\envs\\cctv\\lib\\site-packages\\statsmodels\\base\\model.py:606: ConvergenceWarning: Maximum Likelihood optimization failed to converge. Check mle_retvals\n",
      "  ConvergenceWarning)\n"
     ]
    },
    {
     "name": "stdout",
     "output_type": "stream",
     "text": [
      "Predict Finish, 26.6945 26.5483 0.9633 0.0359 Evaluation Finish\n",
      "63: Data Load Finish, Predict Finish, 4.1873 3.5168 0.1364 0.8488 Evaluation Finish\n",
      "64: Data Load Finish, Predict Finish, 6.9778 6.2169 0.2386 0.748 Evaluation Finish\n",
      "65: Data Load Finish, Predict Finish, 6.4237 5.4966 0.191 0.768 Evaluation Finish\n",
      "66: Data Load Finish, Predict Finish, 2.7996 2.4558 0.0895 0.8989 Evaluation Finish\n",
      "67: Data Load Finish, Predict Finish, 6.8551 6.1781 0.2161 0.7524 Evaluation Finish\n",
      "68: Data Load Finish, Predict Finish, 3.8707 2.9895 0.1014 0.8602 Evaluation Finish\n",
      "69: Data Load Finish, Predict Finish, 16.2785 16.0192 0.5977 0.4121 Evaluation Finish\n",
      "70: Data Load Finish, Predict Finish, 25.2287 25.0704 0.9296 0.0889 Evaluation Finish\n",
      "71: Data Load Finish, Predict Finish, 30.9996 30.8742 1.1426 -0.1196 Evaluation Finish\n",
      "72: Data Load Finish, Predict Finish, 31.2244 31.0806 1.1502 -0.1277 Evaluation Finish\n",
      "73: Data Load Finish, Predict Finish, 25.1499 24.9215 0.9244 0.0917 Evaluation Finish\n",
      "74: Data Load Finish, Predict Finish, 30.5591 30.4314 1.1264 -0.1036 Evaluation Finish\n",
      "75: Data Load Finish, Predict Finish, 15.797 15.5482 0.5805 0.4295 Evaluation Finish\n",
      "76: Data Load Finish, Predict Finish, 6.5956 5.9777 0.2296 0.7618 Evaluation Finish\n",
      "77: Data Load Finish, Predict Finish, 2.862 2.4877 0.0895 0.8966 Evaluation Finish\n",
      "78: Data Load Finish, Predict Finish, 3.0812 2.6066 0.0915 0.8887 Evaluation Finish\n",
      "79: Data Load Finish, Predict Finish, 3.896 3.403 0.1217 0.8593 Evaluation Finish\n",
      "80: Data Load Finish, Predict Finish, 4.136 3.2387 0.1277 0.8506 Evaluation Finish\n",
      "81: Data Load Finish, Predict Finish, 11.8959 11.5642 0.4138 0.5704 Evaluation Finish\n",
      "82: Data Load Finish, Predict Finish, 5.5206 4.7647 0.1851 0.8006 Evaluation Finish\n",
      "83: Data Load Finish, Predict Finish, 3.4561 2.7615 0.0949 0.8752 Evaluation Finish\n",
      "84: Data Load Finish, Predict Finish, 11.9529 11.6229 0.4366 0.5683 Evaluation Finish\n",
      "85: Data Load Finish, Predict Finish, 16.9326 16.6909 0.6225 0.3885 Evaluation Finish\n",
      "86: Data Load Finish, Predict Finish, 5.4085 4.625 0.1799 0.8047 Evaluation Finish\n",
      "87: Data Load Finish, Predict Finish, 3.5671 2.9481 0.1015 0.8712 Evaluation Finish\n",
      "88: Data Load Finish, Predict Finish, 3.2364 2.6563 0.1027 0.8831 Evaluation Finish\n",
      "89: Data Load Finish, Predict Finish, 2.9188 2.5658 0.0923 0.8946 Evaluation Finish\n",
      "90: Data Load Finish, Predict Finish, 9.1118 8.6734 0.3284 0.6709 Evaluation Finish\n",
      "91: Data Load Finish, Predict Finish, 10.965 10.6026 0.3992 0.604 Evaluation Finish\n",
      "92: Data Load Finish, Predict Finish, 3.4158 3.0615 0.1166 0.8766 Evaluation Finish\n",
      "93: Data Load Finish, Predict Finish, 4.4358 3.5106 0.1189 0.8398 Evaluation Finish\n",
      "94: Data Load Finish, Predict Finish, 2.8066 2.4624 0.0895 0.8986 Evaluation Finish\n",
      "95: Data Load Finish, Predict Finish, 5.7774 5.0551 0.1751 0.7913 Evaluation Finish\n",
      "96: Data Load Finish, Predict Finish, 3.4049 3.0253 0.1155 0.877 Evaluation Finish\n",
      "97: Data Load Finish, Predict Finish, 3.4113 3.0709 0.1161 0.8768 Evaluation Finish\n",
      "98: Data Load Finish, Predict Finish, 5.1381 3.9521 0.1351 0.8144 Evaluation Finish\n",
      "99: Data Load Finish, Predict Finish, 3.0341 2.7017 0.102 0.8904 Evaluation Finish\n",
      "100: Data Load Finish, Predict Finish, 3.9516 3.2071 0.1094 0.8573 Evaluation Finish\n",
      "101: Data Load Finish, Predict Finish, 7.9851 7.4734 0.2845 0.7116 Evaluation Finish\n",
      "102: Data Load Finish, Predict Finish, 10.8237 10.4366 0.3723 0.6091 Evaluation Finish\n",
      "103: Data Load Finish, Predict Finish, 3.1565 2.6462 0.1019 0.886 Evaluation Finish\n",
      "104: Data Load Finish, "
     ]
    },
    {
     "name": "stderr",
     "output_type": "stream",
     "text": [
      "C:\\Users\\vfgtr554\\anaconda3\\envs\\cctv\\lib\\site-packages\\statsmodels\\base\\model.py:606: ConvergenceWarning: Maximum Likelihood optimization failed to converge. Check mle_retvals\n",
      "  ConvergenceWarning)\n",
      "C:\\Users\\vfgtr554\\anaconda3\\envs\\cctv\\lib\\site-packages\\pandas\\core\\arraylike.py:364: RuntimeWarning: divide by zero encountered in log\n",
      "  result = getattr(ufunc, method)(*inputs, **kwargs)\n"
     ]
    },
    {
     "name": "stdout",
     "output_type": "stream",
     "text": [
      "Predict Finish, 2.8252 2.4193 0.0873 0.898 Evaluation Finish\n",
      "105: Data Load Finish, "
     ]
    },
    {
     "name": "stderr",
     "output_type": "stream",
     "text": [
      "C:\\Users\\vfgtr554\\anaconda3\\envs\\cctv\\lib\\site-packages\\statsmodels\\base\\model.py:606: ConvergenceWarning: Maximum Likelihood optimization failed to converge. Check mle_retvals\n",
      "  ConvergenceWarning)\n",
      "C:\\Users\\vfgtr554\\anaconda3\\envs\\cctv\\lib\\site-packages\\pandas\\core\\arraylike.py:364: RuntimeWarning: divide by zero encountered in log\n",
      "  result = getattr(ufunc, method)(*inputs, **kwargs)\n"
     ]
    },
    {
     "name": "stdout",
     "output_type": "stream",
     "text": [
      "Predict Finish, 26.6945 26.5483 0.9633 0.0359 Evaluation Finish\n",
      "106: Data Load Finish, "
     ]
    },
    {
     "name": "stderr",
     "output_type": "stream",
     "text": [
      "C:\\Users\\vfgtr554\\anaconda3\\envs\\cctv\\lib\\site-packages\\statsmodels\\base\\model.py:606: ConvergenceWarning: Maximum Likelihood optimization failed to converge. Check mle_retvals\n",
      "  ConvergenceWarning)\n"
     ]
    },
    {
     "name": "stdout",
     "output_type": "stream",
     "text": [
      "Predict Finish, 26.6945 26.5483 0.9633 0.0359 Evaluation Finish\n",
      "107: Data Load Finish, Predict Finish, 5.9461 5.2515 0.2028 0.7853 Evaluation Finish\n",
      "108: Data Load Finish, "
     ]
    },
    {
     "name": "stderr",
     "output_type": "stream",
     "text": [
      "C:\\Users\\vfgtr554\\anaconda3\\envs\\cctv\\lib\\site-packages\\pandas\\core\\arraylike.py:364: RuntimeWarning: divide by zero encountered in log\n",
      "  result = getattr(ufunc, method)(*inputs, **kwargs)\n",
      "C:\\Users\\vfgtr554\\anaconda3\\envs\\cctv\\lib\\site-packages\\statsmodels\\base\\model.py:606: ConvergenceWarning: Maximum Likelihood optimization failed to converge. Check mle_retvals\n",
      "  ConvergenceWarning)\n"
     ]
    },
    {
     "name": "stdout",
     "output_type": "stream",
     "text": [
      "Predict Finish, 26.6945 26.5483 0.9633 0.0359 Evaluation Finish\n",
      "109: Data Load Finish, Predict Finish, 6.9097 6.3151 0.2212 0.7505 Evaluation Finish\n",
      "110: Data Load Finish, Predict Finish, 2.9444 2.5646 0.0912 0.8937 Evaluation Finish\n",
      "111: Data Load Finish, Predict Finish, 4.1622 3.1459 0.1061 0.8497 Evaluation Finish\n",
      "112: Data Load Finish, Predict Finish, 3.1767 2.8033 0.0991 0.8853 Evaluation Finish\n",
      "113: Data Load Finish, Predict Finish, 6.5797 5.9607 0.2083 0.7624 Evaluation Finish\n",
      "114: Data Load Finish, Predict Finish, 2.9374 2.5294 0.0899 0.8939 Evaluation Finish\n",
      "115: Data Load Finish, Predict Finish, 3.7742 3.0412 0.1038 0.8637 Evaluation Finish\n",
      "116: Data Load Finish, Predict Finish, 6.2232 5.3727 0.2069 0.7752 Evaluation Finish\n",
      "117: Data Load Finish, "
     ]
    },
    {
     "name": "stderr",
     "output_type": "stream",
     "text": [
      "C:\\Users\\vfgtr554\\anaconda3\\envs\\cctv\\lib\\site-packages\\pandas\\core\\arraylike.py:364: RuntimeWarning: divide by zero encountered in log\n",
      "  result = getattr(ufunc, method)(*inputs, **kwargs)\n",
      "C:\\Users\\vfgtr554\\anaconda3\\envs\\cctv\\lib\\site-packages\\statsmodels\\base\\model.py:606: ConvergenceWarning: Maximum Likelihood optimization failed to converge. Check mle_retvals\n",
      "  ConvergenceWarning)\n"
     ]
    },
    {
     "name": "stdout",
     "output_type": "stream",
     "text": [
      "Predict Finish, 26.6945 26.5483 0.9633 0.0359 Evaluation Finish\n",
      "118: Data Load Finish, Predict Finish, 28.4479 28.2982 1.0482 -0.0274 Evaluation Finish\n",
      "119: Data Load Finish, Predict Finish, 6.5059 5.8475 0.2246 0.765 Evaluation Finish\n",
      "120: Data Load Finish, Predict Finish, 3.3454 2.7104 0.0935 0.8792 Evaluation Finish\n",
      "121: Data Load Finish, Predict Finish, 6.0777 5.3949 0.1875 0.7805 Evaluation Finish\n",
      "122: Data Load Finish, Predict Finish, 6.0735 5.0796 0.1757 0.7807 Evaluation Finish\n",
      "123: Data Load Finish, Predict Finish, 7.3206 6.7315 0.2365 0.7356 Evaluation Finish\n",
      "124: Data Load Finish, Predict Finish, 7.9305 7.2199 0.2548 0.7136 Evaluation Finish\n",
      "125: Data Load Finish, Predict Finish, 17.0385 16.7887 0.6263 0.3847 Evaluation Finish\n",
      "126: Data Load Finish, Predict Finish, 5.956 5.2309 0.1814 0.7849 Evaluation Finish\n",
      "127: Data Load Finish, Predict Finish, 8.1601 7.5757 0.2674 0.7053 Evaluation Finish\n",
      "128: Data Load Finish, Predict Finish, 8.6792 8.0561 0.2849 0.6865 Evaluation Finish\n",
      "129: Data Load Finish, Predict Finish, 3.3164 2.7311 0.0945 0.8802 Evaluation Finish\n",
      "130: Data Load Finish, Predict Finish, 2.8851 2.5326 0.0948 0.8958 Evaluation Finish\n",
      "131: Data Load Finish, "
     ]
    },
    {
     "name": "stderr",
     "output_type": "stream",
     "text": [
      "C:\\Users\\vfgtr554\\anaconda3\\envs\\cctv\\lib\\site-packages\\pandas\\core\\arraylike.py:364: RuntimeWarning: divide by zero encountered in log\n",
      "  result = getattr(ufunc, method)(*inputs, **kwargs)\n",
      "C:\\Users\\vfgtr554\\anaconda3\\envs\\cctv\\lib\\site-packages\\statsmodels\\base\\model.py:606: ConvergenceWarning: Maximum Likelihood optimization failed to converge. Check mle_retvals\n",
      "  ConvergenceWarning)\n"
     ]
    },
    {
     "name": "stdout",
     "output_type": "stream",
     "text": [
      "Predict Finish, 26.6945 26.5483 0.9633 0.0359 Evaluation Finish\n",
      "132: Data Load Finish, Predict Finish, 6.1588 5.4554 0.1897 0.7776 Evaluation Finish\n",
      "133: Data Load Finish, Predict Finish, 2.9538 2.4874 0.0885 0.8933 Evaluation Finish\n",
      "134: Data Load Finish, Predict Finish, 9.4765 9.05 0.3216 0.6578 Evaluation Finish\n",
      "135: Data Load Finish, Predict Finish, 5.4668 4.4823 0.1541 0.8026 Evaluation Finish\n",
      "136: Data Load Finish, Predict Finish, 9.3589 8.8769 0.3153 0.662 Evaluation Finish\n",
      "137: Data Load Finish, "
     ]
    },
    {
     "name": "stderr",
     "output_type": "stream",
     "text": [
      "C:\\Users\\vfgtr554\\anaconda3\\envs\\cctv\\lib\\site-packages\\statsmodels\\base\\model.py:606: ConvergenceWarning: Maximum Likelihood optimization failed to converge. Check mle_retvals\n",
      "  ConvergenceWarning)\n"
     ]
    },
    {
     "name": "stdout",
     "output_type": "stream",
     "text": [
      "Predict Finish, 4.9476 4.0725 0.1391 0.8213 Evaluation Finish\n",
      "138: Data Load Finish, Predict Finish, 5.4164 4.6414 0.1599 0.8044 Evaluation Finish\n",
      "139: Data Load Finish, Predict Finish, 5.1018 4.2665 0.1461 0.8157 Evaluation Finish\n",
      "140: Data Load Finish, Predict Finish, 2.9863 2.5848 0.0915 0.8921 Evaluation Finish\n",
      "141: Data Load Finish, Predict Finish, 4.1727 3.4147 0.1165 0.8493 Evaluation Finish\n",
      "142: Data Load Finish, "
     ]
    },
    {
     "name": "stderr",
     "output_type": "stream",
     "text": [
      "C:\\Users\\vfgtr554\\anaconda3\\envs\\cctv\\lib\\site-packages\\pandas\\core\\arraylike.py:364: RuntimeWarning: divide by zero encountered in log\n",
      "  result = getattr(ufunc, method)(*inputs, **kwargs)\n",
      "C:\\Users\\vfgtr554\\anaconda3\\envs\\cctv\\lib\\site-packages\\statsmodels\\base\\model.py:606: ConvergenceWarning: Maximum Likelihood optimization failed to converge. Check mle_retvals\n",
      "  ConvergenceWarning)\n"
     ]
    },
    {
     "name": "stdout",
     "output_type": "stream",
     "text": [
      "Predict Finish, 26.6945 26.5483 0.9633 0.0359 Evaluation Finish\n",
      "143: Data Load Finish, Predict Finish, 4.8147 3.9249 0.1336 0.8261 Evaluation Finish\n",
      "144: Data Load Finish, Predict Finish, 14.4688 14.1975 0.531 0.4775 Evaluation Finish\n",
      "145: Data Load Finish, "
     ]
    },
    {
     "name": "stderr",
     "output_type": "stream",
     "text": [
      "C:\\Users\\vfgtr554\\anaconda3\\envs\\cctv\\lib\\site-packages\\statsmodels\\base\\model.py:606: ConvergenceWarning: Maximum Likelihood optimization failed to converge. Check mle_retvals\n",
      "  ConvergenceWarning)\n"
     ]
    },
    {
     "name": "stdout",
     "output_type": "stream",
     "text": [
      "Predict Finish, 32.2514 32.1286 1.1886 -0.1648 Evaluation Finish\n",
      "146: Data Load Finish, Predict Finish, 3.9864 3.3578 0.1302 0.856 Evaluation Finish\n",
      "147: Data Load Finish, Predict Finish, 4.3143 3.5935 0.1397 0.8442 Evaluation Finish\n",
      "148: Data Load Finish, Predict Finish, 6.1918 5.3522 0.186 0.7764 Evaluation Finish\n",
      "149: Data Load Finish, Predict Finish, 5.6553 4.5833 0.1578 0.7958 Evaluation Finish\n",
      "150: Data Load Finish, Predict Finish, 6.3473 5.6189 0.1955 0.7708 Evaluation Finish\n",
      "151: Data Load Finish, Predict Finish, 4.8819 3.9922 0.1362 0.8237 Evaluation Finish\n",
      "152: Data Load Finish, Predict Finish, 4.8882 3.799 0.1294 0.8235 Evaluation Finish\n",
      "153: Data Load Finish, Predict Finish, 2.8025 2.3736 0.0881 0.8988 Evaluation Finish\n",
      "154: Data Load Finish, Predict Finish, 3.7785 3.0392 0.1037 0.8635 Evaluation Finish\n",
      "155: Data Load Finish, Predict Finish, 2.8061 2.3972 0.087 0.8987 Evaluation Finish\n",
      "156: Data Load Finish, Predict Finish, 4.3409 3.5107 0.1194 0.8432 Evaluation Finish\n",
      "157: Data Load Finish, Predict Finish, 5.896 5.1852 0.1798 0.7871 Evaluation Finish\n",
      "158: Data Load Finish, Predict Finish, 5.5879 4.7501 0.1643 0.7982 Evaluation Finish\n",
      "159: Data Load Finish, Predict Finish, 7.6434 6.9962 0.2467 0.724 Evaluation Finish\n",
      "160: Data Load Finish, Predict Finish, 4.527 3.5582 0.1204 0.8365 Evaluation Finish\n",
      "161: Data Load Finish, Predict Finish, 4.5031 3.527 0.1192 0.8374 Evaluation Finish\n",
      "162: Data Load Finish, Predict Finish, 7.3043 6.6062 0.2322 0.7362 Evaluation Finish\n",
      "163: Data Load Finish, Predict Finish, 3.7814 2.9854 0.1015 0.8634 Evaluation Finish\n",
      "164: Data Load Finish, Predict Finish, 3.0282 2.717 0.1016 0.8906 Evaluation Finish\n",
      "165: Data Load Finish, Predict Finish, 2.8318 2.4622 0.0892 0.8977 Evaluation Finish\n",
      "166: Data Load Finish, Predict Finish, 10.2744 9.8614 0.3721 0.6289 Evaluation Finish\n",
      "167: Data Load Finish, Predict Finish, 10.9444 10.5695 0.398 0.6047 Evaluation Finish\n",
      "168: Data Load Finish, Predict Finish, 25.2485 25.0869 0.9304 0.0881 Evaluation Finish\n",
      "169: Data Load Finish, Predict Finish, 7.0535 6.3878 0.2447 0.7453 Evaluation Finish\n",
      "170: Data Load Finish, Predict Finish, 4.2959 3.3233 0.1124 0.8449 Evaluation Finish\n",
      "171: Data Load Finish, Predict Finish, 5.5147 4.7758 0.185 0.8008 Evaluation Finish\n",
      "172: Data Load Finish, Predict Finish, 5.0561 4.119 0.1407 0.8174 Evaluation Finish\n",
      "173: Data Load Finish, Predict Finish, 3.3472 3.0532 0.1139 0.8791 Evaluation Finish\n",
      "174: Data Load Finish, Predict Finish, 3.3659 2.9772 0.1138 0.8784 Evaluation Finish\n",
      "175: Data Load Finish, Predict Finish, 7.9295 7.4133 0.2823 0.7136 Evaluation Finish\n",
      "176: Data Load Finish, Predict Finish, 6.1244 5.3387 0.1856 0.7788 Evaluation Finish\n",
      "177: Data Load Finish, Predict Finish, 17.519 17.2923 0.6446 0.3673 Evaluation Finish\n",
      "178: Data Load Finish, Predict Finish, 3.6416 2.934 0.1004 0.8685 Evaluation Finish\n",
      "179: Data Load Finish, Predict Finish, 3.3073 2.8288 0.109 0.8806 Evaluation Finish\n",
      "180: Data Load Finish, Predict Finish, 17.5399 17.2992 0.6446 0.3665 Evaluation Finish\n",
      "181: Data Load Finish, Predict Finish, 4.9991 4.1504 0.142 0.8195 Evaluation Finish\n",
      "182: Data Load Finish, Predict Finish, 4.792 3.8954 0.1325 0.8269 Evaluation Finish\n",
      "183: Data Load Finish, Predict Finish, 4.5064 3.5556 0.1202 0.8372 Evaluation Finish\n",
      "184: Data Load Finish, Predict Finish, 3.4921 2.8472 0.0979 0.8739 Evaluation Finish\n",
      "185: Data Load Finish, Predict Finish, 4.1747 3.3032 0.1119 0.8492 Evaluation Finish\n",
      "186: Data Load Finish, Predict Finish, 5.8788 4.7883 0.1656 0.7877 Evaluation Finish\n",
      "187: Data Load Finish, Predict Finish, 4.2567 3.286 0.1108 0.8463 Evaluation Finish\n",
      "188: Data Load Finish, Predict Finish, 2.8148 2.4543 0.0898 0.8983 Evaluation Finish\n",
      "189: Data Load Finish, Predict Finish, 2.8185 2.4114 0.0877 0.8982 Evaluation Finish\n",
      "190: Data Load Finish, Predict Finish, 4.8698 3.9649 0.1352 0.8241 Evaluation Finish\n",
      "191: Data Load Finish, Predict Finish, 3.4105 2.7364 0.0941 0.8768 Evaluation Finish\n",
      "192: Data Load Finish, Predict Finish, 5.8253 5.0846 0.1762 0.7896 Evaluation Finish\n",
      "193: Data Load Finish, "
     ]
    },
    {
     "name": "stderr",
     "output_type": "stream",
     "text": [
      "C:\\Users\\vfgtr554\\anaconda3\\envs\\cctv\\lib\\site-packages\\statsmodels\\base\\model.py:606: ConvergenceWarning: Maximum Likelihood optimization failed to converge. Check mle_retvals\n",
      "  ConvergenceWarning)\n"
     ]
    },
    {
     "name": "stdout",
     "output_type": "stream",
     "text": [
      "Predict Finish, 15.8208 15.5696 0.5607 0.4286 Evaluation Finish\n",
      "194: Data Load Finish, Predict Finish, 4.3285 3.3408 0.113 0.8437 Evaluation Finish\n",
      "195: Data Load Finish, Predict Finish, 5.3595 4.5654 0.1571 0.8064 Evaluation Finish\n",
      "196: Data Load Finish, Predict Finish, 6.977 6.366 0.2231 0.748 Evaluation Finish\n",
      "197: Data Load Finish, Predict Finish, 5.9447 5.2447 0.182 0.7853 Evaluation Finish\n",
      "198: Data Load Finish, Predict Finish, 3.7531 3.1957 0.1108 0.8645 Evaluation Finish\n",
      "199: Data Load Finish, Predict Finish, 7.4308 6.8462 0.2407 0.7316 Evaluation Finish\n",
      "200: Data Load Finish, Predict Finish, 3.4091 2.9846 0.1047 0.8769 Evaluation Finish\n",
      "201: Data Load Finish, "
     ]
    },
    {
     "name": "stderr",
     "output_type": "stream",
     "text": [
      "C:\\Users\\vfgtr554\\anaconda3\\envs\\cctv\\lib\\site-packages\\pandas\\core\\arraylike.py:364: RuntimeWarning: divide by zero encountered in log\n",
      "  result = getattr(ufunc, method)(*inputs, **kwargs)\n",
      "C:\\Users\\vfgtr554\\anaconda3\\envs\\cctv\\lib\\site-packages\\statsmodels\\base\\model.py:606: ConvergenceWarning: Maximum Likelihood optimization failed to converge. Check mle_retvals\n",
      "  ConvergenceWarning)\n"
     ]
    },
    {
     "name": "stdout",
     "output_type": "stream",
     "text": [
      "Predict Finish, 26.6945 26.5483 0.9633 0.0359 Evaluation Finish\n",
      "202: Data Load Finish, Predict Finish, 3.7908 3.1572 0.1086 0.8631 Evaluation Finish\n",
      "203: Data Load Finish, Predict Finish, 9.0829 8.6433 0.3066 0.672 Evaluation Finish\n",
      "204: Data Load Finish, Predict Finish, 4.9081 3.9848 0.136 0.8227 Evaluation Finish\n",
      "205: Data Load Finish, Predict Finish, 6.7075 6.0439 0.2116 0.7578 Evaluation Finish\n",
      "206: Data Load Finish, Predict Finish, 9.793 9.346 0.3327 0.6463 Evaluation Finish\n",
      "207: Data Load Finish, Predict Finish, 5.3295 4.5432 0.1563 0.8075 Evaluation Finish\n",
      "208: Data Load Finish, Predict Finish, 9.9574 9.5504 0.3401 0.6404 Evaluation Finish\n",
      "209: Data Load Finish, Predict Finish, 5.405 4.6013 0.1792 0.8048 Evaluation Finish\n",
      "210: Data Load Finish, Predict Finish, 2.8524 2.509 0.0903 0.897 Evaluation Finish\n",
      "211: Data Load Finish, Predict Finish, 9.9198 9.1022 0.3442 0.6417 Evaluation Finish\n",
      "212: Data Load Finish, Predict Finish, 4.1177 3.2593 0.1105 0.8513 Evaluation Finish\n",
      "213: Data Load Finish, Predict Finish, 14.7731 14.4571 0.5403 0.4665 Evaluation Finish\n",
      "214: Data Load Finish, Predict Finish, 11.9118 11.5743 0.4141 0.5698 Evaluation Finish\n",
      "215: Data Load Finish, Predict Finish, 5.9059 5.1313 0.178 0.7867 Evaluation Finish\n",
      "216: Data Load Finish, Predict Finish, 3.3242 2.8693 0.1002 0.8799 Evaluation Finish\n",
      "217: Data Load Finish, Predict Finish, 15.5571 15.2893 0.571 0.4382 Evaluation Finish\n",
      "218: Data Load Finish, Predict Finish, 6.7169 6.0767 0.2125 0.7574 Evaluation Finish\n",
      "219: Data Load Finish, Predict Finish, 3.8745 3.0224 0.1189 0.8601 Evaluation Finish\n",
      "220: Data Load Finish, Predict Finish, 5.7541 5.0329 0.1949 0.7922 Evaluation Finish\n",
      "221: Data Load Finish, Predict Finish, 3.5843 2.9104 0.1137 0.8706 Evaluation Finish\n",
      "222: Data Load Finish, Predict Finish, 3.841 3.0823 0.105 0.8613 Evaluation Finish\n",
      "223: Data Load Finish, Predict Finish, 2.8149 2.405 0.0877 0.8983 Evaluation Finish\n",
      "224: Data Load Finish, Predict Finish, 3.3687 3.0102 0.1146 0.8783 Evaluation Finish\n",
      "225: Data Load Finish, Predict Finish, 2.9312 2.5125 0.0896 0.8941 Evaluation Finish\n",
      "226: Data Load Finish, Predict Finish, 3.5888 2.9306 0.1014 0.8704 Evaluation Finish\n",
      "227: Data Load Finish, Predict Finish, 5.5938 4.745 0.1635 0.798 Evaluation Finish\n",
      "228: Data Load Finish, Predict Finish, 5.4469 4.6556 0.1603 0.8033 Evaluation Finish\n",
      "229: Data Load Finish, Predict Finish, 13.5514 13.1885 0.4944 0.5106 Evaluation Finish\n",
      "230: Data Load Finish, Predict Finish, 3.6097 2.979 0.1025 0.8696 Evaluation Finish\n",
      "231: Data Load Finish, Predict Finish, 2.9934 2.6277 0.0935 0.8919 Evaluation Finish\n",
      "232: Data Load Finish, Predict Finish, 9.0439 8.5793 0.3042 0.6734 Evaluation Finish\n",
      "233: Data Load Finish, Predict Finish, 3.3356 2.559 0.0879 0.8795 Evaluation Finish\n",
      "234: Data Load Finish, Predict Finish, 3.6588 3.2184 0.114 0.8679 Evaluation Finish\n",
      "235: Data Load Finish, Predict Finish, 15.6765 15.4149 0.5758 0.4338 Evaluation Finish\n",
      "236: Data Load Finish, Predict Finish, 4.1787 3.2743 0.1112 0.8491 Evaluation Finish\n",
      "237: Data Load Finish, Predict Finish, 5.3598 4.5785 0.1576 0.8064 Evaluation Finish\n",
      "238: Data Load Finish, Predict Finish, 5.1492 4.3282 0.1485 0.814 Evaluation Finish\n",
      "239: Data Load Finish, Predict Finish, 3.7482 3.0911 0.106 0.8646 Evaluation Finish\n",
      "240: Data Load Finish, Predict Finish, 2.865 2.519 0.0904 0.8965 Evaluation Finish\n",
      "241: Data Load Finish, "
     ]
    },
    {
     "name": "stderr",
     "output_type": "stream",
     "text": [
      "C:\\Users\\vfgtr554\\anaconda3\\envs\\cctv\\lib\\site-packages\\statsmodels\\base\\model.py:606: ConvergenceWarning: Maximum Likelihood optimization failed to converge. Check mle_retvals\n",
      "  ConvergenceWarning)\n"
     ]
    },
    {
     "name": "stdout",
     "output_type": "stream",
     "text": [
      "Predict Finish, 3.6704 2.9925 0.1025 0.8674 Evaluation Finish\n",
      "242: Data Load Finish, Predict Finish, 4.7542 3.8479 0.1308 0.8283 Evaluation Finish\n",
      "243: Data Load Finish, Predict Finish, 21.6349 21.4529 0.7972 0.2187 Evaluation Finish\n",
      "244: Data Load Finish, Predict Finish, 9.656 9.232 0.3285 0.6513 Evaluation Finish\n",
      "245: Data Load Finish, Predict Finish, 10.9796 10.5674 0.3777 0.6035 Evaluation Finish\n",
      "246: Data Load Finish, Predict Finish, 12.213 11.8693 0.4252 0.5589 Evaluation Finish\n",
      "247: Data Load Finish, Predict Finish, 9.284 8.8524 0.3144 0.6647 Evaluation Finish\n",
      "248: Data Load Finish, Predict Finish, 11.6362 11.2965 0.4039 0.5798 Evaluation Finish\n",
      "249: Data Load Finish, Predict Finish, 9.1892 8.7569 0.3109 0.6681 Evaluation Finish\n",
      "250: Data Load Finish, Predict Finish, 9.0546 8.6151 0.3056 0.673 Evaluation Finish\n",
      "251: Data Load Finish, Predict Finish, 12.035 11.6993 0.4187 0.5654 Evaluation Finish\n",
      "252: Data Load Finish, Predict Finish, 2.8849 2.5216 0.0945 0.8958 Evaluation Finish\n",
      "253: Data Load Finish, Predict Finish, 7.3942 6.8475 0.2408 0.733 Evaluation Finish\n",
      "254: Data Load Finish, Predict Finish, 3.8772 3.2185 0.1258 0.86 Evaluation Finish\n",
      "255: Data Load Finish, Predict Finish, 7.7288 7.1756 0.253 0.7209 Evaluation Finish\n",
      "256: Data Load Finish, Predict Finish, 6.3607 5.6687 0.1976 0.7703 Evaluation Finish\n",
      "257: Data Load Finish, Predict Finish, 8.3936 7.8316 0.2975 0.6969 Evaluation Finish\n",
      "258: Data Load Finish, Predict Finish, 5.2161 4.2883 0.1469 0.8116 Evaluation Finish\n",
      "259: Data Load Finish, Predict Finish, 4.769 3.8026 0.1497 0.8278 Evaluation Finish\n",
      "260: Data Load Finish, Predict Finish, 3.5254 2.9727 0.1153 0.8727 Evaluation Finish\n",
      "261: Data Load Finish, Predict Finish, 3.2746 2.9493 0.1113 0.8817 Evaluation Finish\n",
      "262: Data Load Finish, Predict Finish, 4.007 3.3559 0.131 0.8553 Evaluation Finish\n",
      "263: Data Load Finish, Predict Finish, 3.0852 2.5331 0.0889 0.8886 Evaluation Finish\n",
      "264: Data Load Finish, Predict Finish, 5.5824 4.8381 0.1672 0.7984 Evaluation Finish\n",
      "265: Data Load Finish, Predict Finish, 5.0707 4.2366 0.1451 0.8169 Evaluation Finish\n",
      "266: "
     ]
    },
    {
     "name": "stderr",
     "output_type": "stream",
     "text": [
      "C:\\Users\\vfgtr554\\anaconda3\\envs\\cctv\\lib\\site-packages\\pandas\\core\\arraylike.py:364: RuntimeWarning: divide by zero encountered in log\n",
      "  result = getattr(ufunc, method)(*inputs, **kwargs)\n"
     ]
    },
    {
     "name": "stdout",
     "output_type": "stream",
     "text": [
      "Data Load Finish, "
     ]
    },
    {
     "name": "stderr",
     "output_type": "stream",
     "text": [
      "C:\\Users\\vfgtr554\\anaconda3\\envs\\cctv\\lib\\site-packages\\statsmodels\\base\\model.py:606: ConvergenceWarning: Maximum Likelihood optimization failed to converge. Check mle_retvals\n",
      "  ConvergenceWarning)\n"
     ]
    },
    {
     "name": "stdout",
     "output_type": "stream",
     "text": [
      "Predict Finish, 26.6945 26.5483 0.9633 0.0359 Evaluation Finish\n",
      "267: Data Load Finish, Predict Finish, 3.882 2.9788 0.1012 0.8598 Evaluation Finish\n",
      "268: Data Load Finish, Predict Finish, 5.2373 4.4223 0.1518 0.8109 Evaluation Finish\n",
      "269: Data Load Finish, Predict Finish, 3.7362 3.3442 0.1252 0.8651 Evaluation Finish\n",
      "270: Data Load Finish, Predict Finish, 11.3135 10.8839 0.3891 0.5914 Evaluation Finish\n",
      "271: Data Load Finish, Predict Finish, 3.4782 3.1434 0.1163 0.8744 Evaluation Finish\n",
      "272: Data Load Finish, Predict Finish, 3.6572 3.2587 0.1242 0.8679 Evaluation Finish\n",
      "273: Data Load Finish, "
     ]
    },
    {
     "name": "stderr",
     "output_type": "stream",
     "text": [
      "C:\\Users\\vfgtr554\\anaconda3\\envs\\cctv\\lib\\site-packages\\pandas\\core\\arraylike.py:364: RuntimeWarning: divide by zero encountered in log\n",
      "  result = getattr(ufunc, method)(*inputs, **kwargs)\n",
      "C:\\Users\\vfgtr554\\anaconda3\\envs\\cctv\\lib\\site-packages\\statsmodels\\base\\model.py:606: ConvergenceWarning: Maximum Likelihood optimization failed to converge. Check mle_retvals\n",
      "  ConvergenceWarning)\n"
     ]
    },
    {
     "name": "stdout",
     "output_type": "stream",
     "text": [
      "Predict Finish, 26.6945 26.5483 0.9633 0.0359 Evaluation Finish\n",
      "274: Data Load Finish, Predict Finish, 7.9584 7.3985 0.2613 0.7126 Evaluation Finish\n",
      "275: Data Load Finish, Predict Finish, 8.0366 7.5143 0.2651 0.7098 Evaluation Finish\n",
      "276: Data Load Finish, Predict Finish, 7.5286 6.7831 0.239 0.7281 Evaluation Finish\n",
      "277: Data Load Finish, Predict Finish, 8.3448 7.843 0.2772 0.6986 Evaluation Finish\n",
      "278: Data Load Finish, Predict Finish, 4.7084 3.7946 0.1289 0.83 Evaluation Finish\n",
      "279: Data Load Finish, Predict Finish, 5.3573 4.5511 0.1567 0.8065 Evaluation Finish\n",
      "280: Data Load Finish, Predict Finish, 4.2696 3.5011 0.1196 0.8458 Evaluation Finish\n",
      "281: Data Load Finish, Predict Finish, 5.0944 4.2291 0.1449 0.816 Evaluation Finish\n",
      "282: Data Load Finish, Predict Finish, 4.0302 3.0885 0.1054 0.8545 Evaluation Finish\n",
      "283: Data Load Finish, Predict Finish, 2.9183 2.5162 0.0897 0.8946 Evaluation Finish\n",
      "284: Data Load Finish, Predict Finish, 4.251 3.5598 0.1389 0.8465 Evaluation Finish\n",
      "285: Data Load Finish, Predict Finish, 8.8562 8.4051 0.2979 0.6802 Evaluation Finish\n",
      "286: Data Load Finish, Predict Finish, 3.6931 3.2504 0.1244 0.8666 Evaluation Finish\n",
      "287: Data Load Finish, Predict Finish, 7.3311 6.759 0.2374 0.7352 Evaluation Finish\n",
      "288: Data Load Finish, Predict Finish, 3.3302 2.8495 0.0995 0.8797 Evaluation Finish\n",
      "289: Data Load Finish, Predict Finish, 7.9816 7.4725 0.2639 0.7117 Evaluation Finish\n",
      "290: Data Load Finish, Predict Finish, 5.218 4.3755 0.171 0.8116 Evaluation Finish\n",
      "291: Data Load Finish, Predict Finish, 3.2089 2.7541 0.0965 0.8841 Evaluation Finish\n",
      "292: Data Load Finish, Predict Finish, 4.9368 3.9639 0.1352 0.8217 Evaluation Finish\n",
      "293: Data Load Finish, Predict Finish, 5.0407 4.1136 0.1403 0.818 Evaluation Finish\n",
      "294: Data Load Finish, Predict Finish, 4.8383 3.8684 0.1318 0.8253 Evaluation Finish\n",
      "295: Data Load Finish, Predict Finish, 4.8798 4.0037 0.1365 0.8238 Evaluation Finish\n",
      "296: Data Load Finish, Predict Finish, 4.378 3.4311 0.1159 0.8419 Evaluation Finish\n",
      "297: Data Load Finish, Predict Finish, 4.5844 3.6539 0.1237 0.8344 Evaluation Finish\n",
      "298: Data Load Finish, Predict Finish, 7.9221 7.3732 0.2599 0.7139 Evaluation Finish\n",
      "299: Data Load Finish, Predict Finish, 3.5316 2.9685 0.1153 0.8725 Evaluation Finish\n",
      "300: Data Load Finish, Predict Finish, 7.0322 6.4219 0.2456 0.746 Evaluation Finish\n",
      "301: Data Load Finish, Predict Finish, 8.2607 7.756 0.2741 0.7017 Evaluation Finish\n",
      "302: Data Load Finish, Predict Finish, 12.0275 11.6983 0.4187 0.5656 Evaluation Finish\n",
      "303: Data Load Finish, Predict Finish, 5.1406 4.3012 0.1681 0.8143 Evaluation Finish\n",
      "304: Data Load Finish, Predict Finish, 5.6186 4.6754 0.1616 0.7971 Evaluation Finish\n",
      "305: Data Load Finish, Predict Finish, 3.6594 3.0228 0.1039 0.8678 Evaluation Finish\n",
      "306: Data Load Finish, Predict Finish, 9.6157 9.2005 0.3271 0.6527 Evaluation Finish\n",
      "307: Data Load Finish, Predict Finish, 6.5545 5.9192 0.2067 0.7633 Evaluation Finish\n",
      "308: Data Load Finish, Predict Finish, 3.8974 3.2255 0.1106 0.8592 Evaluation Finish\n",
      "309: Data Load Finish, "
     ]
    },
    {
     "name": "stderr",
     "output_type": "stream",
     "text": [
      "C:\\Users\\vfgtr554\\anaconda3\\envs\\cctv\\lib\\site-packages\\pandas\\core\\arraylike.py:364: RuntimeWarning: divide by zero encountered in log\n",
      "  result = getattr(ufunc, method)(*inputs, **kwargs)\n",
      "C:\\Users\\vfgtr554\\anaconda3\\envs\\cctv\\lib\\site-packages\\statsmodels\\base\\model.py:606: ConvergenceWarning: Maximum Likelihood optimization failed to converge. Check mle_retvals\n",
      "  ConvergenceWarning)\n",
      "C:\\Users\\vfgtr554\\anaconda3\\envs\\cctv\\lib\\site-packages\\pandas\\core\\arraylike.py:364: RuntimeWarning: divide by zero encountered in log\n",
      "  result = getattr(ufunc, method)(*inputs, **kwargs)\n"
     ]
    },
    {
     "name": "stdout",
     "output_type": "stream",
     "text": [
      "Predict Finish, 26.6945 26.5483 0.9633 0.0359 Evaluation Finish\n",
      "310: Data Load Finish, "
     ]
    },
    {
     "name": "stderr",
     "output_type": "stream",
     "text": [
      "C:\\Users\\vfgtr554\\anaconda3\\envs\\cctv\\lib\\site-packages\\statsmodels\\base\\model.py:606: ConvergenceWarning: Maximum Likelihood optimization failed to converge. Check mle_retvals\n",
      "  ConvergenceWarning)\n"
     ]
    },
    {
     "name": "stdout",
     "output_type": "stream",
     "text": [
      "Predict Finish, 26.6945 26.5483 0.9633 0.0359 Evaluation Finish\n",
      "311: Data Load Finish, Predict Finish, 3.1582 2.6058 0.0907 0.8859 Evaluation Finish\n",
      "312: Data Load Finish, Predict Finish, 12.5957 12.283 0.4607 0.5451 Evaluation Finish\n",
      "313: Data Load Finish, Predict Finish, 9.9154 9.4917 0.3378 0.6419 Evaluation Finish\n",
      "314: Data Load Finish, Predict Finish, 4.5191 3.6257 0.123 0.8368 Evaluation Finish\n",
      "315: Data Load Finish, Predict Finish, 5.4381 4.6385 0.1597 0.8036 Evaluation Finish\n",
      "316: Data Load Finish, Predict Finish, 4.6432 3.6938 0.1253 0.8323 Evaluation Finish\n",
      "317: Data Load Finish, Predict Finish, 4.2085 3.372 0.1145 0.848 Evaluation Finish\n",
      "318: Data Load Finish, Predict Finish, 10.1939 9.8039 0.3492 0.6318 Evaluation Finish\n",
      "319: Data Load Finish, Predict Finish, 8.0986 7.599 0.2684 0.7075 Evaluation Finish\n",
      "320: Data Load Finish, Predict Finish, 5.7275 4.9876 0.1725 0.7932 Evaluation Finish\n",
      "321: Data Load Finish, Predict Finish, 2.9383 2.5832 0.093 0.8939 Evaluation Finish\n",
      "322: Data Load Finish, Predict Finish, 2.9022 2.48 0.089 0.8952 Evaluation Finish\n",
      "323: Data Load Finish, Predict Finish, 4.4269 3.3946 0.1153 0.8401 Evaluation Finish\n",
      "324: Data Load Finish, Predict Finish, 4.4551 3.7225 0.1454 0.8391 Evaluation Finish\n",
      "325: Data Load Finish, Predict Finish, 7.4981 6.9595 0.2655 0.7292 Evaluation Finish\n",
      "326: Data Load Finish, Predict Finish, 6.232 5.5729 0.194 0.7749 Evaluation Finish\n",
      "327: Data Load Finish, Predict Finish, 15.5114 15.2583 0.5699 0.4398 Evaluation Finish\n",
      "328: Data Load Finish, "
     ]
    },
    {
     "name": "stderr",
     "output_type": "stream",
     "text": [
      "C:\\Users\\vfgtr554\\anaconda3\\envs\\cctv\\lib\\site-packages\\pandas\\core\\arraylike.py:364: RuntimeWarning: divide by zero encountered in log\n",
      "  result = getattr(ufunc, method)(*inputs, **kwargs)\n",
      "C:\\Users\\vfgtr554\\anaconda3\\envs\\cctv\\lib\\site-packages\\statsmodels\\base\\model.py:606: ConvergenceWarning: Maximum Likelihood optimization failed to converge. Check mle_retvals\n",
      "  ConvergenceWarning)\n"
     ]
    },
    {
     "name": "stdout",
     "output_type": "stream",
     "text": [
      "Predict Finish, 26.6945 26.5483 0.9633 0.0359 Evaluation Finish\n",
      "329: Data Load Finish, Predict Finish, 3.7949 3.0652 0.1202 0.8629 Evaluation Finish\n",
      "330: Data Load Finish, Predict Finish, 6.011 5.3195 0.2054 0.7829 Evaluation Finish\n",
      "331: Data Load Finish, Predict Finish, 6.6394 5.9196 0.2278 0.7602 Evaluation Finish\n",
      "332: Data Load Finish, Predict Finish, 5.8595 5.112 0.1976 0.7884 Evaluation Finish\n",
      "333: Data Load Finish, Predict Finish, 12.1515 11.7611 0.442 0.5611 Evaluation Finish\n",
      "334: Data Load Finish, Predict Finish, 19.5891 19.3888 0.7215 0.2925 Evaluation Finish\n",
      "335: Data Load Finish, Predict Finish, 3.1867 2.6271 0.1014 0.8849 Evaluation Finish\n",
      "336: Data Load Finish, Predict Finish, 10.444 10.0264 0.378 0.6228 Evaluation Finish\n",
      "337: Data Load Finish, Predict Finish, 4.3161 3.5933 0.1405 0.8441 Evaluation Finish\n",
      "338: Data Load Finish, Predict Finish, 16.553 16.307 0.6085 0.4022 Evaluation Finish\n",
      "339: Data Load Finish, Predict Finish, 6.2687 5.614 0.2162 0.7736 Evaluation Finish\n",
      "340: Data Load Finish, Predict Finish, 3.8654 3.1234 0.1225 0.8604 Evaluation Finish\n",
      "341: Data Load Finish, Predict Finish, 5.1663 4.3883 0.1709 0.8134 Evaluation Finish\n",
      "342: Data Load Finish, Predict Finish, 14.8526 14.5676 0.5447 0.4636 Evaluation Finish\n",
      "343: Data Load Finish, Predict Finish, 8.3299 7.7683 0.2953 0.6992 Evaluation Finish\n",
      "344: Data Load Finish, Predict Finish, 3.2685 2.9089 0.1108 0.882 Evaluation Finish\n",
      "345: Data Load Finish, Predict Finish, 3.1355 2.7598 0.1051 0.8868 Evaluation Finish\n",
      "346: Data Load Finish, Predict Finish, 11.1026 10.7271 0.3829 0.599 Evaluation Finish\n",
      "347: Data Load Finish, Predict Finish, 3.0355 2.6185 0.0924 0.8904 Evaluation Finish\n",
      "348: Data Load Finish, Predict Finish, 8.9678 8.5255 0.3229 0.6761 Evaluation Finish\n",
      "349: Data Load Finish, Predict Finish, 7.2517 6.6958 0.2353 0.7381 Evaluation Finish\n",
      "350: Data Load Finish, Predict Finish, 13.1637 12.8641 0.4616 0.5246 Evaluation Finish\n",
      "351: Data Load Finish, Predict Finish, 3.8408 2.9334 0.0993 0.8613 Evaluation Finish\n",
      "352: "
     ]
    },
    {
     "name": "stderr",
     "output_type": "stream",
     "text": [
      "C:\\Users\\vfgtr554\\anaconda3\\envs\\cctv\\lib\\site-packages\\pandas\\core\\arraylike.py:364: RuntimeWarning: divide by zero encountered in log\n",
      "  result = getattr(ufunc, method)(*inputs, **kwargs)\n"
     ]
    },
    {
     "name": "stdout",
     "output_type": "stream",
     "text": [
      "Data Load Finish, "
     ]
    },
    {
     "name": "stderr",
     "output_type": "stream",
     "text": [
      "C:\\Users\\vfgtr554\\anaconda3\\envs\\cctv\\lib\\site-packages\\statsmodels\\base\\model.py:606: ConvergenceWarning: Maximum Likelihood optimization failed to converge. Check mle_retvals\n",
      "  ConvergenceWarning)\n"
     ]
    },
    {
     "name": "stdout",
     "output_type": "stream",
     "text": [
      "Predict Finish, 26.6945 26.5483 0.9633 0.0359 Evaluation Finish\n",
      "353: Data Load Finish, Predict Finish, 4.068 3.4113 0.1329 0.8531 Evaluation Finish\n",
      "354: Data Load Finish, Predict Finish, 4.1211 3.4473 0.1345 0.8512 Evaluation Finish\n",
      "355: Data Load Finish, Predict Finish, 4.1722 3.4614 0.1354 0.8493 Evaluation Finish\n",
      "356: Data Load Finish, Predict Finish, 2.7901 2.4245 0.0895 0.8992 Evaluation Finish\n",
      "357: Data Load Finish, Predict Finish, 4.3928 3.599 0.1413 0.8414 Evaluation Finish\n",
      "358: Data Load Finish, Predict Finish, 2.8896 2.5419 0.091 0.8956 Evaluation Finish\n",
      "359: Data Load Finish, Predict Finish, 2.8442 2.4229 0.0903 0.8973 Evaluation Finish\n",
      "360: Data Load Finish, Predict Finish, 2.7991 2.3942 0.0882 0.8989 Evaluation Finish\n",
      "361: Data Load Finish, Predict Finish, 3.0524 2.5524 0.0978 0.8898 Evaluation Finish\n",
      "362: Data Load Finish, Predict Finish, 3.6572 2.8321 0.0966 0.8679 Evaluation Finish\n",
      "363: Data Load Finish, Predict Finish, 7.5499 6.8052 0.2396 0.7273 Evaluation Finish\n",
      "364: Data Load Finish, Predict Finish, 7.8001 7.2828 0.2568 0.7183 Evaluation Finish\n",
      "365: Data Load Finish, Predict Finish, 3.8146 3.2254 0.1254 0.8622 Evaluation Finish\n",
      "366: Data Load Finish, Predict Finish, 3.4534 2.7884 0.0958 0.8753 Evaluation Finish\n",
      "367: Data Load Finish, Predict Finish, 5.0439 4.2945 0.1671 0.8178 Evaluation Finish\n",
      "368: Data Load Finish, Predict Finish, 3.3277 2.6879 0.0928 0.8798 Evaluation Finish\n",
      "369: Data Load Finish, Predict Finish, 5.0298 4.0735 0.1391 0.8183 Evaluation Finish\n",
      "370: Data Load Finish, Predict Finish, 3.2229 2.9476 0.1079 0.8836 Evaluation Finish\n",
      "371: Data Load Finish, Predict Finish, 2.933 2.5381 0.0957 0.8941 Evaluation Finish\n",
      "372: Data Load Finish, Predict Finish, 14.3566 14.0709 0.5263 0.4815 Evaluation Finish\n",
      "373: Data Load Finish, Predict Finish, 5.2854 4.3166 0.1481 0.8091 Evaluation Finish\n",
      "374: Data Load Finish, Predict Finish, 8.8156 8.3402 0.3162 0.6816 Evaluation Finish\n",
      "375: Data Load Finish, Predict Finish, 35.0792 34.961 1.2926 -0.2669 Evaluation Finish\n",
      "376: Data Load Finish, Predict Finish, 54.9154 54.8445 2.0218 -0.9833 Evaluation Finish\n",
      "377: Data Load Finish, Predict Finish, 28.1343 27.985 1.0367 -0.0161 Evaluation Finish\n",
      "378: Data Load Finish, Predict Finish, 29.9164 29.6217 1.0966 -0.0804 Evaluation Finish\n",
      "379: Data Load Finish, Predict Finish, 3.3251 3.0093 0.1094 0.8799 Evaluation Finish\n",
      "380: Data Load Finish, Predict Finish, 8.4491 7.1977 0.2735 0.6949 Evaluation Finish\n",
      "381: Data Load Finish, Predict Finish, 4.2226 3.1883 0.1084 0.8475 Evaluation Finish\n",
      "382: Data Load Finish, "
     ]
    },
    {
     "name": "stderr",
     "output_type": "stream",
     "text": [
      "C:\\Users\\vfgtr554\\anaconda3\\envs\\cctv\\lib\\site-packages\\pandas\\core\\arraylike.py:364: RuntimeWarning: divide by zero encountered in log\n",
      "  result = getattr(ufunc, method)(*inputs, **kwargs)\n",
      "C:\\Users\\vfgtr554\\anaconda3\\envs\\cctv\\lib\\site-packages\\statsmodels\\base\\model.py:606: ConvergenceWarning: Maximum Likelihood optimization failed to converge. Check mle_retvals\n",
      "  ConvergenceWarning)\n"
     ]
    },
    {
     "name": "stdout",
     "output_type": "stream",
     "text": [
      "Predict Finish, 26.6945 26.5483 0.9633 0.0359 Evaluation Finish\n",
      "383: Data Load Finish, Predict Finish, 3.1796 2.7479 0.0965 0.8852 Evaluation Finish\n",
      "384: Data Load Finish, Predict Finish, 3.5989 2.961 0.1018 0.87 Evaluation Finish\n",
      "385: Data Load Finish, Predict Finish, 3.1085 2.6258 0.0919 0.8877 Evaluation Finish\n",
      "386: Data Load Finish, Predict Finish, 3.3745 2.9922 0.1144 0.8781 Evaluation Finish\n",
      "387: Data Load Finish, Predict Finish, 4.6232 3.8704 0.1507 0.833 Evaluation Finish\n",
      "388: Data Load Finish, Predict Finish, 3.1225 2.615 0.0916 0.8872 Evaluation Finish\n",
      "389: Data Load Finish, Predict Finish, 17.579 17.3538 0.6468 0.3651 Evaluation Finish\n",
      "390: Data Load Finish, Predict Finish, 20.0862 19.8902 0.7398 0.2746 Evaluation Finish\n",
      "391: Data Load Finish, Predict Finish, 8.5603 8.0771 0.2858 0.6908 Evaluation Finish\n",
      "392: Data Load Finish, Predict Finish, 7.6248 7.0967 0.2499 0.7246 Evaluation Finish\n",
      "393: Data Load Finish, Predict Finish, 5.2285 4.088 0.1399 0.8112 Evaluation Finish\n",
      "394: Data Load Finish, Predict Finish, 4.1805 3.3418 0.1134 0.849 Evaluation Finish\n",
      "395: Data Load Finish, Predict Finish, 6.9734 6.3317 0.2221 0.7482 Evaluation Finish\n",
      "396: Data Load Finish, Predict Finish, 4.6051 3.6509 0.1237 0.8337 Evaluation Finish\n",
      "397: Data Load Finish, Predict Finish, 5.2824 4.415 0.171 0.8092 Evaluation Finish\n",
      "398: Data Load Finish, Predict Finish, 6.7436 6.0974 0.2136 0.7565 Evaluation Finish\n",
      "399: Data Load Finish, Predict Finish, 8.8649 8.4066 0.2979 0.6798 Evaluation Finish\n",
      "400: Data Load Finish, Predict Finish, 9.6468 9.1605 0.3254 0.6516 Evaluation Finish\n",
      "401: Data Load Finish, Predict Finish, 5.4894 4.7126 0.1626 0.8018 Evaluation Finish\n",
      "402: Data Load Finish, Predict Finish, 5.7379 4.8541 0.1679 0.7928 Evaluation Finish\n",
      "403: Data Load Finish, Predict Finish, 7.8997 7.2429 0.255 0.7147 Evaluation Finish\n",
      "404: Data Load Finish, Predict Finish, 6.9246 6.2491 0.219 0.7499 Evaluation Finish\n",
      "405: Data Load Finish, Predict Finish, 6.2811 5.5815 0.2151 0.7732 Evaluation Finish\n",
      "406: Data Load Finish, Predict Finish, 2.8442 2.4248 0.0907 0.8973 Evaluation Finish\n",
      "407: Data Load Finish, Predict Finish, 3.6237 2.9651 0.1158 0.8691 Evaluation Finish\n",
      "408: Data Load Finish, Predict Finish, 2.8477 2.4157 0.0891 0.8972 Evaluation Finish\n",
      "409: Data Load Finish, Predict Finish, 4.1292 3.5164 0.1356 0.8509 Evaluation Finish\n",
      "410: Data Load Finish, Predict Finish, 2.9899 2.5709 0.0909 0.892 Evaluation Finish\n",
      "411: Data Load Finish, Predict Finish, 4.9714 4.1029 0.1405 0.8205 Evaluation Finish\n",
      "412: Data Load Finish, Predict Finish, 11.8487 11.5148 0.4325 0.5721 Evaluation Finish\n",
      "413: Data Load Finish, Predict Finish, 6.9577 6.3358 0.2218 0.7487 Evaluation Finish\n",
      "414: Data Load Finish, Predict Finish, 2.9588 2.6625 0.0996 0.8931 Evaluation Finish\n",
      "415: Data Load Finish, Predict Finish, 3.0022 2.5773 0.0911 0.8916 Evaluation Finish\n",
      "416: Data Load Finish, Predict Finish, 3.9309 3.1457 0.1237 0.858 Evaluation Finish\n",
      "417: Data Load Finish, Predict Finish, 4.3754 3.5428 0.1223 0.842 Evaluation Finish\n",
      "418: Data Load Finish, Predict Finish, 14.9106 14.6275 0.5469 0.4615 Evaluation Finish\n",
      "419: Data Load Finish, Predict Finish, 9.0292 8.56 0.3034 0.6739 Evaluation Finish\n",
      "420: Data Load Finish, Predict Finish, 3.5038 3.1404 0.1154 0.8735 Evaluation Finish\n",
      "421: Data Load Finish, Predict Finish, 4.3553 3.4542 0.1361 0.8427 Evaluation Finish\n",
      "422: Data Load Finish, Predict Finish, 6.3186 5.616 0.1954 0.7718 Evaluation Finish\n",
      "423: Data Load Finish, Predict Finish, 3.131 2.7054 0.1035 0.8869 Evaluation Finish\n",
      "424: Data Load Finish, "
     ]
    },
    {
     "name": "stderr",
     "output_type": "stream",
     "text": [
      "C:\\Users\\vfgtr554\\anaconda3\\envs\\cctv\\lib\\site-packages\\pandas\\core\\arraylike.py:364: RuntimeWarning: divide by zero encountered in log\n",
      "  result = getattr(ufunc, method)(*inputs, **kwargs)\n",
      "C:\\Users\\vfgtr554\\anaconda3\\envs\\cctv\\lib\\site-packages\\statsmodels\\base\\model.py:606: ConvergenceWarning: Maximum Likelihood optimization failed to converge. Check mle_retvals\n",
      "  ConvergenceWarning)\n"
     ]
    },
    {
     "name": "stdout",
     "output_type": "stream",
     "text": [
      "Predict Finish, 26.6945 26.5483 0.9633 0.0359 Evaluation Finish\n",
      "425: Data Load Finish, Predict Finish, 2.9834 2.6318 0.0944 0.8923 Evaluation Finish\n",
      "426: Data Load Finish, Predict Finish, 15.6651 15.4036 0.5753 0.4343 Evaluation Finish\n",
      "427: Data Load Finish, Predict Finish, 22.5818 22.4081 0.8322 0.1845 Evaluation Finish\n",
      "428: Data Load Finish, Predict Finish, 25.7057 25.5493 0.9475 0.0716 Evaluation Finish\n",
      "429: Data Load Finish, Predict Finish, 29.9941 29.7775 1.1025 -0.0832 Evaluation Finish\n",
      "430: Data Load Finish, Predict Finish, 30.989 30.8453 1.1419 -0.1192 Evaluation Finish\n",
      "431: Data Load Finish, Predict Finish, 21.9331 21.7552 0.8082 0.2079 Evaluation Finish\n",
      "432: Data Load Finish, Predict Finish, 10.9813 10.602 0.3783 0.6034 Evaluation Finish\n",
      "433: Data Load Finish, Predict Finish, 15.1397 14.881 0.5354 0.4532 Evaluation Finish\n",
      "434: Data Load Finish, "
     ]
    },
    {
     "name": "stderr",
     "output_type": "stream",
     "text": [
      "C:\\Users\\vfgtr554\\anaconda3\\envs\\cctv\\lib\\site-packages\\pandas\\core\\arraylike.py:364: RuntimeWarning: divide by zero encountered in log\n",
      "  result = getattr(ufunc, method)(*inputs, **kwargs)\n",
      "C:\\Users\\vfgtr554\\anaconda3\\envs\\cctv\\lib\\site-packages\\statsmodels\\base\\model.py:606: ConvergenceWarning: Maximum Likelihood optimization failed to converge. Check mle_retvals\n",
      "  ConvergenceWarning)\n"
     ]
    },
    {
     "name": "stdout",
     "output_type": "stream",
     "text": [
      "Predict Finish, 26.6945 26.5483 0.9633 0.0359 Evaluation Finish\n",
      "435: Data Load Finish, Predict Finish, 9.5706 9.0575 0.3215 0.6544 Evaluation Finish\n",
      "436: Data Load Finish, Predict Finish, 10.183 9.7861 0.3488 0.6322 Evaluation Finish\n",
      "437: Data Load Finish, Predict Finish, 5.1756 4.2571 0.1462 0.8131 Evaluation Finish\n",
      "438: Data Load Finish, Predict Finish, 3.9222 3.2644 0.1122 0.8583 Evaluation Finish\n",
      "439: Data Load Finish, Predict Finish, 2.8044 2.4603 0.0896 0.8987 Evaluation Finish\n",
      "440: Data Load Finish, Predict Finish, 7.087 6.4915 0.2486 0.7441 Evaluation Finish\n",
      "441: Data Load Finish, Predict Finish, 3.4477 2.8578 0.1111 0.8755 Evaluation Finish\n",
      "442: Data Load Finish, Predict Finish, 4.8649 3.9988 0.1569 0.8243 Evaluation Finish\n",
      "443: Data Load Finish, Predict Finish, 7.5211 6.924 0.2433 0.7284 Evaluation Finish\n",
      "444: Data Load Finish, Predict Finish, 6.9311 6.34 0.2223 0.7497 Evaluation Finish\n",
      "445: Data Load Finish, Predict Finish, 8.8795 8.3512 0.2959 0.6793 Evaluation Finish\n",
      "446: Data Load Finish, Predict Finish, 3.1495 2.7154 0.0957 0.8863 Evaluation Finish\n",
      "447: "
     ]
    },
    {
     "name": "stderr",
     "output_type": "stream",
     "text": [
      "C:\\Users\\vfgtr554\\anaconda3\\envs\\cctv\\lib\\site-packages\\pandas\\core\\arraylike.py:364: RuntimeWarning: divide by zero encountered in log\n",
      "  result = getattr(ufunc, method)(*inputs, **kwargs)\n"
     ]
    },
    {
     "name": "stdout",
     "output_type": "stream",
     "text": [
      "Data Load Finish, "
     ]
    },
    {
     "name": "stderr",
     "output_type": "stream",
     "text": [
      "C:\\Users\\vfgtr554\\anaconda3\\envs\\cctv\\lib\\site-packages\\statsmodels\\base\\model.py:606: ConvergenceWarning: Maximum Likelihood optimization failed to converge. Check mle_retvals\n",
      "  ConvergenceWarning)\n"
     ]
    },
    {
     "name": "stdout",
     "output_type": "stream",
     "text": [
      "Predict Finish, 26.6945 26.5483 0.9633 0.0359 Evaluation Finish\n",
      "448: Data Load Finish, Predict Finish, 8.1063 7.6123 0.2895 0.7072 Evaluation Finish\n",
      "449: Data Load Finish, Predict Finish, 5.1547 4.316 0.148 0.8138 Evaluation Finish\n",
      "450: Data Load Finish, Predict Finish, 4.1593 3.2372 0.1094 0.8498 Evaluation Finish\n",
      "451: Data Load Finish, Predict Finish, 2.8878 2.4852 0.0937 0.8957 Evaluation Finish\n",
      "452: Data Load Finish, Predict Finish, 5.9094 5.206 0.1806 0.7866 Evaluation Finish\n",
      "453: Data Load Finish, Predict Finish, 3.4239 2.9306 0.1022 0.8763 Evaluation Finish\n",
      "454: Data Load Finish, Predict Finish, 7.5964 7.0619 0.2486 0.7257 Evaluation Finish\n",
      "455: Data Load Finish, Predict Finish, 8.8652 8.3959 0.2976 0.6798 Evaluation Finish\n",
      "456: Data Load Finish, Predict Finish, 5.2348 4.3894 0.151 0.8109 Evaluation Finish\n",
      "457: Data Load Finish, Predict Finish, 6.4265 5.7781 0.2016 0.7679 Evaluation Finish\n",
      "458: Data Load Finish, "
     ]
    },
    {
     "name": "stderr",
     "output_type": "stream",
     "text": [
      "C:\\Users\\vfgtr554\\anaconda3\\envs\\cctv\\lib\\site-packages\\pandas\\core\\arraylike.py:364: RuntimeWarning: divide by zero encountered in log\n",
      "  result = getattr(ufunc, method)(*inputs, **kwargs)\n",
      "C:\\Users\\vfgtr554\\anaconda3\\envs\\cctv\\lib\\site-packages\\statsmodels\\base\\model.py:606: ConvergenceWarning: Maximum Likelihood optimization failed to converge. Check mle_retvals\n",
      "  ConvergenceWarning)\n"
     ]
    },
    {
     "name": "stdout",
     "output_type": "stream",
     "text": [
      "Predict Finish, 26.6945 26.5483 0.9633 0.0359 Evaluation Finish\n",
      "459: Data Load Finish, Predict Finish, 2.9551 2.5344 0.0961 0.8933 Evaluation Finish\n",
      "460: Data Load Finish, Predict Finish, 9.1388 8.6986 0.3087 0.6699 Evaluation Finish\n",
      "461: Data Load Finish, Predict Finish, 4.0753 3.5191 0.1242 0.8528 Evaluation Finish\n",
      "462: Data Load Finish, Predict Finish, 4.4641 3.5386 0.1197 0.8388 Evaluation Finish\n",
      "463: Data Load Finish, Predict Finish, 5.6954 4.9667 0.1718 0.7943 Evaluation Finish\n",
      "464: Data Load Finish, Predict Finish, 2.8022 2.4293 0.0885 0.8988 Evaluation Finish\n",
      "465: Data Load Finish, Predict Finish, 6.7223 6.0407 0.2111 0.7572 Evaluation Finish\n",
      "466: Data Load Finish, "
     ]
    },
    {
     "name": "stderr",
     "output_type": "stream",
     "text": [
      "C:\\Users\\vfgtr554\\anaconda3\\envs\\cctv\\lib\\site-packages\\pandas\\core\\arraylike.py:364: RuntimeWarning: divide by zero encountered in log\n",
      "  result = getattr(ufunc, method)(*inputs, **kwargs)\n",
      "C:\\Users\\vfgtr554\\anaconda3\\envs\\cctv\\lib\\site-packages\\statsmodels\\base\\model.py:606: ConvergenceWarning: Maximum Likelihood optimization failed to converge. Check mle_retvals\n",
      "  ConvergenceWarning)\n"
     ]
    },
    {
     "name": "stdout",
     "output_type": "stream",
     "text": [
      "Predict Finish, 26.6945 26.5483 0.9633 0.0359 Evaluation Finish\n",
      "467: Data Load Finish, Predict Finish, 3.1863 2.8368 0.1046 0.8849 Evaluation Finish\n",
      "468: Data Load Finish, Predict Finish, 8.6212 8.1575 0.3095 0.6886 Evaluation Finish\n",
      "469: Data Load Finish, Predict Finish, 2.9946 2.5729 0.0978 0.8919 Evaluation Finish\n",
      "470: Data Load Finish, Predict Finish, 12.5165 12.0745 0.432 0.548 Evaluation Finish\n",
      "471: Data Load Finish, Predict Finish, 3.2108 2.8263 0.0997 0.884 Evaluation Finish\n",
      "472: Data Load Finish, Predict Finish, 11.0953 10.6865 0.3814 0.5993 Evaluation Finish\n",
      "473: Data Load Finish, Predict Finish, 4.7534 3.6302 0.1235 0.8283 Evaluation Finish\n",
      "474: Data Load Finish, "
     ]
    },
    {
     "name": "stderr",
     "output_type": "stream",
     "text": [
      "C:\\Users\\vfgtr554\\anaconda3\\envs\\cctv\\lib\\site-packages\\pandas\\core\\arraylike.py:364: RuntimeWarning: divide by zero encountered in log\n",
      "  result = getattr(ufunc, method)(*inputs, **kwargs)\n",
      "C:\\Users\\vfgtr554\\anaconda3\\envs\\cctv\\lib\\site-packages\\statsmodels\\base\\model.py:606: ConvergenceWarning: Maximum Likelihood optimization failed to converge. Check mle_retvals\n",
      "  ConvergenceWarning)\n"
     ]
    },
    {
     "name": "stdout",
     "output_type": "stream",
     "text": [
      "Predict Finish, 26.6945 26.5483 0.9633 0.0359 Evaluation Finish\n",
      "475: Data Load Finish, Predict Finish, 3.8524 3.0607 0.1049 0.8609 Evaluation Finish\n",
      "476: Data Load Finish, Predict Finish, 4.8439 3.9314 0.1339 0.8251 Evaluation Finish\n",
      "477: Data Load Finish, "
     ]
    },
    {
     "name": "stderr",
     "output_type": "stream",
     "text": [
      "C:\\Users\\vfgtr554\\anaconda3\\envs\\cctv\\lib\\site-packages\\pandas\\core\\arraylike.py:364: RuntimeWarning: divide by zero encountered in log\n",
      "  result = getattr(ufunc, method)(*inputs, **kwargs)\n",
      "C:\\Users\\vfgtr554\\anaconda3\\envs\\cctv\\lib\\site-packages\\statsmodels\\base\\model.py:606: ConvergenceWarning: Maximum Likelihood optimization failed to converge. Check mle_retvals\n",
      "  ConvergenceWarning)\n"
     ]
    },
    {
     "name": "stdout",
     "output_type": "stream",
     "text": [
      "Predict Finish, 26.6945 26.5483 0.9633 0.0359 Evaluation Finish\n",
      "478: Data Load Finish, Predict Finish, 5.8734 5.0877 0.1763 0.7879 Evaluation Finish\n",
      "479: Data Load Finish, Predict Finish, 3.3512 2.8408 0.0987 0.879 Evaluation Finish\n",
      "480: Data Load Finish, Predict Finish, 8.2896 7.7993 0.2757 0.7006 Evaluation Finish\n",
      "481: Data Load Finish, Predict Finish, 3.0098 2.546 0.0897 0.8913 Evaluation Finish\n",
      "482: Data Load Finish, Predict Finish, 10.4633 10.0799 0.3593 0.6221 Evaluation Finish\n",
      "483: Data Load Finish, Predict Finish, 3.4288 2.7015 0.0928 0.8762 Evaluation Finish\n",
      "484: Data Load Finish, "
     ]
    },
    {
     "name": "stderr",
     "output_type": "stream",
     "text": [
      "C:\\Users\\vfgtr554\\anaconda3\\envs\\cctv\\lib\\site-packages\\pandas\\core\\arraylike.py:364: RuntimeWarning: divide by zero encountered in log\n",
      "  result = getattr(ufunc, method)(*inputs, **kwargs)\n",
      "C:\\Users\\vfgtr554\\anaconda3\\envs\\cctv\\lib\\site-packages\\statsmodels\\base\\model.py:606: ConvergenceWarning: Maximum Likelihood optimization failed to converge. Check mle_retvals\n",
      "  ConvergenceWarning)\n"
     ]
    },
    {
     "name": "stdout",
     "output_type": "stream",
     "text": [
      "Predict Finish, 26.6945 26.5483 0.9633 0.0359 Evaluation Finish\n",
      "485: Data Load Finish, Predict Finish, 2.8504 2.4359 0.0878 0.8971 Evaluation Finish\n",
      "486: Data Load Finish, Predict Finish, 4.0142 3.5104 0.1266 0.855 Evaluation Finish\n",
      "487: Data Load Finish, Predict Finish, 12.0244 11.689 0.4388 0.5657 Evaluation Finish\n",
      "488: Data Load Finish, Predict Finish, 4.425 3.6726 0.1438 0.8402 Evaluation Finish\n",
      "489: Data Load Finish, Predict Finish, 13.8305 13.5467 0.5072 0.5005 Evaluation Finish\n",
      "490: Data Load Finish, Predict Finish, 11.2061 10.8492 0.4081 0.5953 Evaluation Finish\n",
      "491: Data Load Finish, Predict Finish, 6.9324 6.3445 0.2225 0.7496 Evaluation Finish\n",
      "492: Data Load Finish, Predict Finish, 7.1528 6.5293 0.2294 0.7417 Evaluation Finish\n",
      "493: Data Load Finish, Predict Finish, 3.2388 2.6349 0.1021 0.883 Evaluation Finish\n",
      "494: Data Load Finish, Predict Finish, 6.9954 6.2137 0.2172 0.7474 Evaluation Finish\n",
      "495: Data Load Finish, Predict Finish, 2.8377 2.4714 0.089 0.8975 Evaluation Finish\n",
      "496: Data Load Finish, Predict Finish, 2.8834 2.5008 0.0893 0.8959 Evaluation Finish\n",
      "497: Data Load Finish, Predict Finish, 2.9544 2.4757 0.0876 0.8933 Evaluation Finish\n",
      "498: Data Load Finish, Predict Finish, 5.5548 4.8041 0.1865 0.7994 Evaluation Finish\n",
      "499: Data Load Finish, Predict Finish, 2.9229 2.5707 0.0961 0.8944 Evaluation Finish\n",
      "500: Data Load Finish, Predict Finish, 2.8126 2.4392 0.0907 0.8984 Evaluation Finish\n",
      "501: Data Load Finish, Predict Finish, 3.0652 2.7208 0.1032 0.8893 Evaluation Finish\n",
      "502: Data Load Finish, Predict Finish, 2.8089 2.4012 0.0893 0.8986 Evaluation Finish\n",
      "503: Data Load Finish, Predict Finish, 4.4822 3.3911 0.1147 0.8381 Evaluation Finish\n",
      "504: Data Load Finish, Predict Finish, 2.7926 2.4176 0.0893 0.8991 Evaluation Finish\n",
      "505: Data Load Finish, Predict Finish, 8.2482 7.7414 0.2734 0.7021 Evaluation Finish\n",
      "RMSE: 8.10483894466535, MAE: 7.546045360994729, MAPE: 0.2740843327121367\n",
      "ACC: 0.7115081743965965\n"
     ]
    }
   ],
   "source": [
    "predictARIMA(df, idx, 12)"
   ]
  },
  {
   "cell_type": "markdown",
   "id": "dcb35d64",
   "metadata": {},
   "source": [
    "### Unobserved Nodes = 10%"
   ]
  },
  {
   "cell_type": "code",
   "execution_count": 12,
   "id": "83ad788d",
   "metadata": {},
   "outputs": [
    {
     "name": "stdout",
     "output_type": "stream",
     "text": [
      "2880 506\n"
     ]
    },
    {
     "data": {
      "text/plain": [
       "144000"
      ]
     },
     "execution_count": 12,
     "metadata": {},
     "output_type": "execute_result"
    }
   ],
   "source": [
    "df, idx = csvIndexToDatetime(path_10, start, freq)\n",
    "(df == 0).sum().sum()"
   ]
  },
  {
   "cell_type": "code",
   "execution_count": 13,
   "id": "010ff399",
   "metadata": {
    "scrolled": false
   },
   "outputs": [
    {
     "name": "stdout",
     "output_type": "stream",
     "text": [
      "0: Data Load Finish, Predict Finish, 2.7873 2.4036 0.0885 0.8993 Evaluation Finish\n",
      "1: Data Load Finish, Predict Finish, 3.7924 3.0657 0.1047 0.863 Evaluation Finish\n",
      "2: Data Load Finish, Predict Finish, 6.7166 6.106 0.2343 0.7574 Evaluation Finish\n",
      "3: "
     ]
    },
    {
     "name": "stderr",
     "output_type": "stream",
     "text": [
      "C:\\Users\\vfgtr554\\anaconda3\\envs\\cctv\\lib\\site-packages\\pandas\\core\\arraylike.py:364: RuntimeWarning: divide by zero encountered in log\n",
      "  result = getattr(ufunc, method)(*inputs, **kwargs)\n"
     ]
    },
    {
     "name": "stdout",
     "output_type": "stream",
     "text": [
      "Data Load Finish, "
     ]
    },
    {
     "name": "stderr",
     "output_type": "stream",
     "text": [
      "C:\\Users\\vfgtr554\\anaconda3\\envs\\cctv\\lib\\site-packages\\statsmodels\\base\\model.py:606: ConvergenceWarning: Maximum Likelihood optimization failed to converge. Check mle_retvals\n",
      "  ConvergenceWarning)\n"
     ]
    },
    {
     "name": "stdout",
     "output_type": "stream",
     "text": [
      "Predict Finish, 26.6945 26.5483 0.9633 0.0359 Evaluation Finish\n",
      "4: Data Load Finish, Predict Finish, 7.8211 7.1486 0.2522 0.7175 Evaluation Finish\n",
      "5: Data Load Finish, Predict Finish, 6.4856 5.7711 0.2011 0.7658 Evaluation Finish\n",
      "6: "
     ]
    },
    {
     "name": "stderr",
     "output_type": "stream",
     "text": [
      "C:\\Users\\vfgtr554\\anaconda3\\envs\\cctv\\lib\\site-packages\\pandas\\core\\arraylike.py:364: RuntimeWarning: divide by zero encountered in log\n",
      "  result = getattr(ufunc, method)(*inputs, **kwargs)\n"
     ]
    },
    {
     "name": "stdout",
     "output_type": "stream",
     "text": [
      "Data Load Finish, "
     ]
    },
    {
     "name": "stderr",
     "output_type": "stream",
     "text": [
      "C:\\Users\\vfgtr554\\anaconda3\\envs\\cctv\\lib\\site-packages\\statsmodels\\base\\model.py:606: ConvergenceWarning: Maximum Likelihood optimization failed to converge. Check mle_retvals\n",
      "  ConvergenceWarning)\n"
     ]
    },
    {
     "name": "stdout",
     "output_type": "stream",
     "text": [
      "Predict Finish, 26.6945 26.5483 0.9633 0.0359 Evaluation Finish\n",
      "7: Data Load Finish, Predict Finish, 9.5495 9.1278 0.3244 0.6551 Evaluation Finish\n",
      "8: Data Load Finish, "
     ]
    },
    {
     "name": "stderr",
     "output_type": "stream",
     "text": [
      "C:\\Users\\vfgtr554\\anaconda3\\envs\\cctv\\lib\\site-packages\\pandas\\core\\arraylike.py:364: RuntimeWarning: divide by zero encountered in log\n",
      "  result = getattr(ufunc, method)(*inputs, **kwargs)\n",
      "C:\\Users\\vfgtr554\\anaconda3\\envs\\cctv\\lib\\site-packages\\statsmodels\\base\\model.py:606: ConvergenceWarning: Maximum Likelihood optimization failed to converge. Check mle_retvals\n",
      "  ConvergenceWarning)\n"
     ]
    },
    {
     "name": "stdout",
     "output_type": "stream",
     "text": [
      "Predict Finish, 26.6945 26.5483 0.9633 0.0359 Evaluation Finish\n",
      "9: Data Load Finish, "
     ]
    },
    {
     "name": "stderr",
     "output_type": "stream",
     "text": [
      "C:\\Users\\vfgtr554\\anaconda3\\envs\\cctv\\lib\\site-packages\\statsmodels\\base\\model.py:606: ConvergenceWarning: Maximum Likelihood optimization failed to converge. Check mle_retvals\n",
      "  ConvergenceWarning)\n"
     ]
    },
    {
     "name": "stdout",
     "output_type": "stream",
     "text": [
      "Predict Finish, 8.7375 8.2804 0.2933 0.6844 Evaluation Finish\n",
      "10: Data Load Finish, Predict Finish, 8.0607 7.5584 0.2668 0.7089 Evaluation Finish\n",
      "11: Data Load Finish, Predict Finish, 3.1435 2.6236 0.0917 0.8865 Evaluation Finish\n",
      "12: Data Load Finish, Predict Finish, 15.9716 15.7129 0.5868 0.4232 Evaluation Finish\n",
      "13: Data Load Finish, Predict Finish, 25.594 25.4393 0.9433 0.0757 Evaluation Finish\n",
      "14: Data Load Finish, "
     ]
    },
    {
     "name": "stderr",
     "output_type": "stream",
     "text": [
      "C:\\Users\\vfgtr554\\anaconda3\\envs\\cctv\\lib\\site-packages\\pandas\\core\\arraylike.py:364: RuntimeWarning: divide by zero encountered in log\n",
      "  result = getattr(ufunc, method)(*inputs, **kwargs)\n",
      "C:\\Users\\vfgtr554\\anaconda3\\envs\\cctv\\lib\\site-packages\\statsmodels\\base\\model.py:606: ConvergenceWarning: Maximum Likelihood optimization failed to converge. Check mle_retvals\n",
      "  ConvergenceWarning)\n",
      "C:\\Users\\vfgtr554\\anaconda3\\envs\\cctv\\lib\\site-packages\\pandas\\core\\arraylike.py:364: RuntimeWarning: divide by zero encountered in log\n",
      "  result = getattr(ufunc, method)(*inputs, **kwargs)\n"
     ]
    },
    {
     "name": "stdout",
     "output_type": "stream",
     "text": [
      "Predict Finish, 26.6945 26.5483 0.9633 0.0359 Evaluation Finish\n",
      "15: Data Load Finish, "
     ]
    },
    {
     "name": "stderr",
     "output_type": "stream",
     "text": [
      "C:\\Users\\vfgtr554\\anaconda3\\envs\\cctv\\lib\\site-packages\\statsmodels\\base\\model.py:606: ConvergenceWarning: Maximum Likelihood optimization failed to converge. Check mle_retvals\n",
      "  ConvergenceWarning)\n"
     ]
    },
    {
     "name": "stdout",
     "output_type": "stream",
     "text": [
      "Predict Finish, 26.6945 26.5483 0.9633 0.0359 Evaluation Finish\n",
      "16: Data Load Finish, Predict Finish, 4.7104 3.9606 0.1537 0.8299 Evaluation Finish\n",
      "17: Data Load Finish, "
     ]
    },
    {
     "name": "stderr",
     "output_type": "stream",
     "text": [
      "C:\\Users\\vfgtr554\\anaconda3\\envs\\cctv\\lib\\site-packages\\pandas\\core\\arraylike.py:364: RuntimeWarning: divide by zero encountered in log\n",
      "  result = getattr(ufunc, method)(*inputs, **kwargs)\n",
      "C:\\Users\\vfgtr554\\anaconda3\\envs\\cctv\\lib\\site-packages\\statsmodels\\base\\model.py:606: ConvergenceWarning: Maximum Likelihood optimization failed to converge. Check mle_retvals\n",
      "  ConvergenceWarning)\n"
     ]
    },
    {
     "name": "stdout",
     "output_type": "stream",
     "text": [
      "Predict Finish, 26.6945 26.5483 0.9633 0.0359 Evaluation Finish\n",
      "18: Data Load Finish, Predict Finish, 3.2412 2.567 0.0901 0.8829 Evaluation Finish\n",
      "19: Data Load Finish, Predict Finish, 8.5039 7.8517 0.2774 0.6929 Evaluation Finish\n",
      "20: Data Load Finish, Predict Finish, 9.231 8.7655 0.3111 0.6666 Evaluation Finish\n",
      "21: Data Load Finish, Predict Finish, 3.7837 2.8444 0.0966 0.8634 Evaluation Finish\n",
      "22: Data Load Finish, Predict Finish, 3.2974 2.6078 0.09 0.8809 Evaluation Finish\n",
      "23: Data Load Finish, Predict Finish, 3.8114 3.4058 0.1286 0.8624 Evaluation Finish\n",
      "24: Data Load Finish, Predict Finish, 13.1675 12.8618 0.482 0.5245 Evaluation Finish\n",
      "25: Data Load Finish, Predict Finish, 4.2185 3.4415 0.1173 0.8476 Evaluation Finish\n",
      "26: Data Load Finish, "
     ]
    },
    {
     "name": "stderr",
     "output_type": "stream",
     "text": [
      "C:\\Users\\vfgtr554\\anaconda3\\envs\\cctv\\lib\\site-packages\\pandas\\core\\arraylike.py:364: RuntimeWarning: divide by zero encountered in log\n",
      "  result = getattr(ufunc, method)(*inputs, **kwargs)\n",
      "C:\\Users\\vfgtr554\\anaconda3\\envs\\cctv\\lib\\site-packages\\statsmodels\\base\\model.py:606: ConvergenceWarning: Maximum Likelihood optimization failed to converge. Check mle_retvals\n",
      "  ConvergenceWarning)\n",
      "C:\\Users\\vfgtr554\\anaconda3\\envs\\cctv\\lib\\site-packages\\pandas\\core\\arraylike.py:364: RuntimeWarning: divide by zero encountered in log\n",
      "  result = getattr(ufunc, method)(*inputs, **kwargs)\n"
     ]
    },
    {
     "name": "stdout",
     "output_type": "stream",
     "text": [
      "Predict Finish, 26.6945 26.5483 0.9633 0.0359 Evaluation Finish\n",
      "27: Data Load Finish, "
     ]
    },
    {
     "name": "stderr",
     "output_type": "stream",
     "text": [
      "C:\\Users\\vfgtr554\\anaconda3\\envs\\cctv\\lib\\site-packages\\statsmodels\\base\\model.py:606: ConvergenceWarning: Maximum Likelihood optimization failed to converge. Check mle_retvals\n",
      "  ConvergenceWarning)\n"
     ]
    },
    {
     "name": "stdout",
     "output_type": "stream",
     "text": [
      "Predict Finish, 26.6945 26.5483 0.9633 0.0359 Evaluation Finish\n",
      "28: Data Load Finish, Predict Finish, 5.2131 4.4185 0.172 0.8117 Evaluation Finish\n",
      "29: Data Load Finish, "
     ]
    },
    {
     "name": "stderr",
     "output_type": "stream",
     "text": [
      "C:\\Users\\vfgtr554\\anaconda3\\envs\\cctv\\lib\\site-packages\\pandas\\core\\arraylike.py:364: RuntimeWarning: divide by zero encountered in log\n",
      "  result = getattr(ufunc, method)(*inputs, **kwargs)\n",
      "C:\\Users\\vfgtr554\\anaconda3\\envs\\cctv\\lib\\site-packages\\statsmodels\\base\\model.py:606: ConvergenceWarning: Maximum Likelihood optimization failed to converge. Check mle_retvals\n",
      "  ConvergenceWarning)\n"
     ]
    },
    {
     "name": "stdout",
     "output_type": "stream",
     "text": [
      "Predict Finish, 26.6945 26.5483 0.9633 0.0359 Evaluation Finish\n",
      "30: Data Load Finish, Predict Finish, 3.0966 2.7534 0.1045 0.8882 Evaluation Finish\n",
      "31: Data Load Finish, Predict Finish, 2.8706 2.4319 0.087 0.8963 Evaluation Finish\n",
      "32: Data Load Finish, Predict Finish, 2.9517 2.5856 0.0921 0.8934 Evaluation Finish\n",
      "33: Data Load Finish, Predict Finish, 11.4741 11.1305 0.398 0.5856 Evaluation Finish\n",
      "34: Data Load Finish, Predict Finish, 3.737 3.1336 0.1083 0.865 Evaluation Finish\n",
      "35: Data Load Finish, Predict Finish, 6.3807 5.4872 0.1913 0.7696 Evaluation Finish\n",
      "36: Data Load Finish, Predict Finish, 5.0787 4.2462 0.1454 0.8166 Evaluation Finish\n",
      "37: Data Load Finish, Predict Finish, 4.5585 3.5663 0.1207 0.8354 Evaluation Finish\n",
      "38: Data Load Finish, Predict Finish, 6.5653 5.8838 0.2057 0.7629 Evaluation Finish\n",
      "39: Data Load Finish, Predict Finish, 2.9532 2.5425 0.0901 0.8933 Evaluation Finish\n",
      "40: Data Load Finish, Predict Finish, 5.3907 4.3737 0.1496 0.8053 Evaluation Finish\n",
      "41: Data Load Finish, Predict Finish, 8.2065 7.603 0.269 0.7036 Evaluation Finish\n",
      "42: Data Load Finish, Predict Finish, 6.5643 5.8652 0.2052 0.7629 Evaluation Finish\n",
      "43: Data Load Finish, Predict Finish, 4.0495 3.3808 0.132 0.8538 Evaluation Finish\n",
      "44: Data Load Finish, Predict Finish, 3.1574 2.6701 0.1027 0.886 Evaluation Finish\n",
      "45: Data Load Finish, Predict Finish, 9.4551 9.0154 0.3203 0.6585 Evaluation Finish\n",
      "46: Data Load Finish, Predict Finish, 6.3622 5.6509 0.2172 0.7702 Evaluation Finish\n",
      "47: Data Load Finish, "
     ]
    },
    {
     "name": "stderr",
     "output_type": "stream",
     "text": [
      "C:\\Users\\vfgtr554\\anaconda3\\envs\\cctv\\lib\\site-packages\\pandas\\core\\arraylike.py:364: RuntimeWarning: divide by zero encountered in log\n",
      "  result = getattr(ufunc, method)(*inputs, **kwargs)\n",
      "C:\\Users\\vfgtr554\\anaconda3\\envs\\cctv\\lib\\site-packages\\statsmodels\\base\\model.py:606: ConvergenceWarning: Maximum Likelihood optimization failed to converge. Check mle_retvals\n",
      "  ConvergenceWarning)\n"
     ]
    },
    {
     "name": "stdout",
     "output_type": "stream",
     "text": [
      "Predict Finish, 26.6945 26.5483 0.9633 0.0359 Evaluation Finish\n",
      "48: Data Load Finish, Predict Finish, 3.4211 3.1212 0.1173 0.8764 Evaluation Finish\n",
      "49: Data Load Finish, Predict Finish, 2.9725 2.6211 0.0973 0.8926 Evaluation Finish\n",
      "50: Data Load Finish, Predict Finish, 3.7001 2.9731 0.1015 0.8664 Evaluation Finish\n",
      "51: Data Load Finish, Predict Finish, 6.9385 6.3163 0.2215 0.7494 Evaluation Finish\n",
      "52: Data Load Finish, Predict Finish, 10.4103 9.9951 0.3566 0.624 Evaluation Finish\n",
      "53: Data Load Finish, Predict Finish, 12.9098 12.5939 0.4514 0.5338 Evaluation Finish\n",
      "54: Data Load Finish, Predict Finish, 11.1047 10.749 0.3839 0.599 Evaluation Finish\n",
      "55: Data Load Finish, "
     ]
    },
    {
     "name": "stderr",
     "output_type": "stream",
     "text": [
      "C:\\Users\\vfgtr554\\anaconda3\\envs\\cctv\\lib\\site-packages\\pandas\\core\\arraylike.py:364: RuntimeWarning: divide by zero encountered in log\n",
      "  result = getattr(ufunc, method)(*inputs, **kwargs)\n",
      "C:\\Users\\vfgtr554\\anaconda3\\envs\\cctv\\lib\\site-packages\\statsmodels\\base\\model.py:606: ConvergenceWarning: Maximum Likelihood optimization failed to converge. Check mle_retvals\n",
      "  ConvergenceWarning)\n"
     ]
    },
    {
     "name": "stdout",
     "output_type": "stream",
     "text": [
      "Predict Finish, 26.6945 26.5483 0.9633 0.0359 Evaluation Finish\n",
      "56: Data Load Finish, Predict Finish, 9.2295 8.798 0.333 0.6667 Evaluation Finish\n",
      "57: Data Load Finish, Predict Finish, 3.4918 2.8983 0.1127 0.8739 Evaluation Finish\n",
      "58: Data Load Finish, Predict Finish, 14.5892 14.2942 0.5346 0.4731 Evaluation Finish\n",
      "59: Data Load Finish, Predict Finish, 6.5775 5.9545 0.2287 0.7625 Evaluation Finish\n",
      "60: Data Load Finish, Predict Finish, 5.6703 4.9266 0.1911 0.7952 Evaluation Finish\n",
      "61: Data Load Finish, Predict Finish, 7.3212 6.7674 0.2378 0.7356 Evaluation Finish\n",
      "62: Data Load Finish, Predict Finish, 5.9167 5.1538 0.1992 0.7863 Evaluation Finish\n",
      "63: Data Load Finish, Predict Finish, 4.1873 3.5168 0.1364 0.8488 Evaluation Finish\n",
      "64: Data Load Finish, Predict Finish, 6.9778 6.2169 0.2386 0.748 Evaluation Finish\n",
      "65: Data Load Finish, Predict Finish, 6.4237 5.4966 0.191 0.768 Evaluation Finish\n",
      "66: Data Load Finish, Predict Finish, 2.7996 2.4558 0.0895 0.8989 Evaluation Finish\n",
      "67: Data Load Finish, Predict Finish, 6.8551 6.1781 0.2161 0.7524 Evaluation Finish\n",
      "68: Data Load Finish, Predict Finish, 3.8707 2.9895 0.1014 0.8602 Evaluation Finish\n",
      "69: Data Load Finish, Predict Finish, 16.2785 16.0192 0.5977 0.4121 Evaluation Finish\n",
      "70: Data Load Finish, "
     ]
    },
    {
     "name": "stderr",
     "output_type": "stream",
     "text": [
      "C:\\Users\\vfgtr554\\anaconda3\\envs\\cctv\\lib\\site-packages\\pandas\\core\\arraylike.py:364: RuntimeWarning: divide by zero encountered in log\n",
      "  result = getattr(ufunc, method)(*inputs, **kwargs)\n",
      "C:\\Users\\vfgtr554\\anaconda3\\envs\\cctv\\lib\\site-packages\\statsmodels\\base\\model.py:606: ConvergenceWarning: Maximum Likelihood optimization failed to converge. Check mle_retvals\n",
      "  ConvergenceWarning)\n"
     ]
    },
    {
     "name": "stdout",
     "output_type": "stream",
     "text": [
      "Predict Finish, 26.6945 26.5483 0.9633 0.0359 Evaluation Finish\n",
      "71: Data Load Finish, Predict Finish, 30.9996 30.8742 1.1426 -0.1196 Evaluation Finish\n",
      "72: Data Load Finish, Predict Finish, 31.2244 31.0806 1.1502 -0.1277 Evaluation Finish\n",
      "73: Data Load Finish, Predict Finish, 25.1499 24.9215 0.9244 0.0917 Evaluation Finish\n",
      "74: Data Load Finish, Predict Finish, 30.5591 30.4314 1.1264 -0.1036 Evaluation Finish\n",
      "75: Data Load Finish, Predict Finish, 15.797 15.5482 0.5805 0.4295 Evaluation Finish\n",
      "76: Data Load Finish, Predict Finish, 6.5956 5.9777 0.2296 0.7618 Evaluation Finish\n",
      "77: Data Load Finish, Predict Finish, 2.862 2.4877 0.0895 0.8966 Evaluation Finish\n",
      "78: Data Load Finish, Predict Finish, 3.0812 2.6066 0.0915 0.8887 Evaluation Finish\n",
      "79: Data Load Finish, Predict Finish, 3.896 3.403 0.1217 0.8593 Evaluation Finish\n",
      "80: Data Load Finish, Predict Finish, 4.136 3.2387 0.1277 0.8506 Evaluation Finish\n",
      "81: Data Load Finish, Predict Finish, 11.8959 11.5642 0.4138 0.5704 Evaluation Finish\n",
      "82: Data Load Finish, Predict Finish, 5.5206 4.7647 0.1851 0.8006 Evaluation Finish\n",
      "83: Data Load Finish, "
     ]
    },
    {
     "name": "stderr",
     "output_type": "stream",
     "text": [
      "C:\\Users\\vfgtr554\\anaconda3\\envs\\cctv\\lib\\site-packages\\pandas\\core\\arraylike.py:364: RuntimeWarning: divide by zero encountered in log\n",
      "  result = getattr(ufunc, method)(*inputs, **kwargs)\n",
      "C:\\Users\\vfgtr554\\anaconda3\\envs\\cctv\\lib\\site-packages\\statsmodels\\base\\model.py:606: ConvergenceWarning: Maximum Likelihood optimization failed to converge. Check mle_retvals\n",
      "  ConvergenceWarning)\n"
     ]
    },
    {
     "name": "stdout",
     "output_type": "stream",
     "text": [
      "Predict Finish, 26.6945 26.5483 0.9633 0.0359 Evaluation Finish\n",
      "84: Data Load Finish, Predict Finish, 11.9529 11.6229 0.4366 0.5683 Evaluation Finish\n",
      "85: Data Load Finish, Predict Finish, 16.9326 16.6909 0.6225 0.3885 Evaluation Finish\n",
      "86: Data Load Finish, Predict Finish, 5.4085 4.625 0.1799 0.8047 Evaluation Finish\n",
      "87: Data Load Finish, "
     ]
    },
    {
     "name": "stderr",
     "output_type": "stream",
     "text": [
      "C:\\Users\\vfgtr554\\anaconda3\\envs\\cctv\\lib\\site-packages\\pandas\\core\\arraylike.py:364: RuntimeWarning: divide by zero encountered in log\n",
      "  result = getattr(ufunc, method)(*inputs, **kwargs)\n",
      "C:\\Users\\vfgtr554\\anaconda3\\envs\\cctv\\lib\\site-packages\\statsmodels\\base\\model.py:606: ConvergenceWarning: Maximum Likelihood optimization failed to converge. Check mle_retvals\n",
      "  ConvergenceWarning)\n"
     ]
    },
    {
     "name": "stdout",
     "output_type": "stream",
     "text": [
      "Predict Finish, 26.6945 26.5483 0.9633 0.0359 Evaluation Finish\n",
      "88: Data Load Finish, Predict Finish, 3.2364 2.6563 0.1027 0.8831 Evaluation Finish\n",
      "89: Data Load Finish, Predict Finish, 2.9188 2.5658 0.0923 0.8946 Evaluation Finish\n",
      "90: Data Load Finish, Predict Finish, 9.1118 8.6734 0.3284 0.6709 Evaluation Finish\n",
      "91: Data Load Finish, Predict Finish, 10.965 10.6026 0.3992 0.604 Evaluation Finish\n",
      "92: Data Load Finish, Predict Finish, 3.4158 3.0615 0.1166 0.8766 Evaluation Finish\n",
      "93: Data Load Finish, Predict Finish, 4.4358 3.5106 0.1189 0.8398 Evaluation Finish\n",
      "94: Data Load Finish, Predict Finish, 2.8066 2.4624 0.0895 0.8986 Evaluation Finish\n",
      "95: Data Load Finish, Predict Finish, 5.7774 5.0551 0.1751 0.7913 Evaluation Finish\n",
      "96: Data Load Finish, Predict Finish, 3.4049 3.0253 0.1155 0.877 Evaluation Finish\n",
      "97: Data Load Finish, Predict Finish, 3.4113 3.0709 0.1161 0.8768 Evaluation Finish\n",
      "98: Data Load Finish, Predict Finish, 5.1381 3.9521 0.1351 0.8144 Evaluation Finish\n",
      "99: Data Load Finish, Predict Finish, 3.0341 2.7017 0.102 0.8904 Evaluation Finish\n",
      "100: Data Load Finish, Predict Finish, 3.9516 3.2071 0.1094 0.8573 Evaluation Finish\n",
      "101: Data Load Finish, Predict Finish, 7.9851 7.4734 0.2845 0.7116 Evaluation Finish\n",
      "102: Data Load Finish, Predict Finish, 10.8237 10.4366 0.3723 0.6091 Evaluation Finish\n",
      "103: Data Load Finish, Predict Finish, 3.1565 2.6462 0.1019 0.886 Evaluation Finish\n",
      "104: Data Load Finish, "
     ]
    },
    {
     "name": "stderr",
     "output_type": "stream",
     "text": [
      "C:\\Users\\vfgtr554\\anaconda3\\envs\\cctv\\lib\\site-packages\\statsmodels\\base\\model.py:606: ConvergenceWarning: Maximum Likelihood optimization failed to converge. Check mle_retvals\n",
      "  ConvergenceWarning)\n"
     ]
    },
    {
     "name": "stdout",
     "output_type": "stream",
     "text": [
      "Predict Finish, 2.8252 2.4193 0.0873 0.898 Evaluation Finish\n",
      "105: Data Load Finish, Predict Finish, 4.209 3.4318 0.117 0.848 Evaluation Finish\n",
      "106: Data Load Finish, "
     ]
    },
    {
     "name": "stderr",
     "output_type": "stream",
     "text": [
      "C:\\Users\\vfgtr554\\anaconda3\\envs\\cctv\\lib\\site-packages\\pandas\\core\\arraylike.py:364: RuntimeWarning: divide by zero encountered in log\n",
      "  result = getattr(ufunc, method)(*inputs, **kwargs)\n",
      "C:\\Users\\vfgtr554\\anaconda3\\envs\\cctv\\lib\\site-packages\\statsmodels\\base\\model.py:606: ConvergenceWarning: Maximum Likelihood optimization failed to converge. Check mle_retvals\n",
      "  ConvergenceWarning)\n"
     ]
    },
    {
     "name": "stdout",
     "output_type": "stream",
     "text": [
      "Predict Finish, 26.6945 26.5483 0.9633 0.0359 Evaluation Finish\n",
      "107: Data Load Finish, Predict Finish, 5.9461 5.2515 0.2028 0.7853 Evaluation Finish\n",
      "108: Data Load Finish, Predict Finish, 6.0776 5.3942 0.1874 0.7805 Evaluation Finish\n",
      "109: Data Load Finish, Predict Finish, 6.9097 6.3151 0.2212 0.7505 Evaluation Finish\n",
      "110: Data Load Finish, Predict Finish, 2.9444 2.5646 0.0912 0.8937 Evaluation Finish\n",
      "111: Data Load Finish, Predict Finish, 4.1622 3.1459 0.1061 0.8497 Evaluation Finish\n",
      "112: Data Load Finish, Predict Finish, 3.1767 2.8033 0.0991 0.8853 Evaluation Finish\n",
      "113: Data Load Finish, Predict Finish, 6.5797 5.9607 0.2083 0.7624 Evaluation Finish\n",
      "114: Data Load Finish, Predict Finish, 2.9374 2.5294 0.0899 0.8939 Evaluation Finish\n",
      "115: Data Load Finish, Predict Finish, 3.7742 3.0412 0.1038 0.8637 Evaluation Finish\n",
      "116: Data Load Finish, Predict Finish, 6.2232 5.3727 0.2069 0.7752 Evaluation Finish\n",
      "117: Data Load Finish, Predict Finish, 13.0985 12.7775 0.4791 0.5269 Evaluation Finish\n",
      "118: Data Load Finish, "
     ]
    },
    {
     "name": "stderr",
     "output_type": "stream",
     "text": [
      "C:\\Users\\vfgtr554\\anaconda3\\envs\\cctv\\lib\\site-packages\\pandas\\core\\arraylike.py:364: RuntimeWarning: divide by zero encountered in log\n",
      "  result = getattr(ufunc, method)(*inputs, **kwargs)\n",
      "C:\\Users\\vfgtr554\\anaconda3\\envs\\cctv\\lib\\site-packages\\statsmodels\\base\\model.py:606: ConvergenceWarning: Maximum Likelihood optimization failed to converge. Check mle_retvals\n",
      "  ConvergenceWarning)\n"
     ]
    },
    {
     "name": "stdout",
     "output_type": "stream",
     "text": [
      "Predict Finish, 26.6945 26.5483 0.9633 0.0359 Evaluation Finish\n",
      "119: Data Load Finish, Predict Finish, 6.5059 5.8475 0.2246 0.765 Evaluation Finish\n",
      "120: Data Load Finish, Predict Finish, 3.3454 2.7104 0.0935 0.8792 Evaluation Finish\n",
      "121: Data Load Finish, Predict Finish, 6.0777 5.3949 0.1875 0.7805 Evaluation Finish\n",
      "122: Data Load Finish, "
     ]
    },
    {
     "name": "stderr",
     "output_type": "stream",
     "text": [
      "C:\\Users\\vfgtr554\\anaconda3\\envs\\cctv\\lib\\site-packages\\pandas\\core\\arraylike.py:364: RuntimeWarning: divide by zero encountered in log\n",
      "  result = getattr(ufunc, method)(*inputs, **kwargs)\n",
      "C:\\Users\\vfgtr554\\anaconda3\\envs\\cctv\\lib\\site-packages\\statsmodels\\base\\model.py:606: ConvergenceWarning: Maximum Likelihood optimization failed to converge. Check mle_retvals\n",
      "  ConvergenceWarning)\n"
     ]
    },
    {
     "name": "stdout",
     "output_type": "stream",
     "text": [
      "Predict Finish, 26.6945 26.5483 0.9633 0.0359 Evaluation Finish\n",
      "123: Data Load Finish, Predict Finish, 7.3206 6.7315 0.2365 0.7356 Evaluation Finish\n",
      "124: Data Load Finish, Predict Finish, 7.9305 7.2199 0.2548 0.7136 Evaluation Finish\n",
      "125: Data Load Finish, "
     ]
    },
    {
     "name": "stderr",
     "output_type": "stream",
     "text": [
      "C:\\Users\\vfgtr554\\anaconda3\\envs\\cctv\\lib\\site-packages\\pandas\\core\\arraylike.py:364: RuntimeWarning: divide by zero encountered in log\n",
      "  result = getattr(ufunc, method)(*inputs, **kwargs)\n",
      "C:\\Users\\vfgtr554\\anaconda3\\envs\\cctv\\lib\\site-packages\\statsmodels\\base\\model.py:606: ConvergenceWarning: Maximum Likelihood optimization failed to converge. Check mle_retvals\n",
      "  ConvergenceWarning)\n"
     ]
    },
    {
     "name": "stdout",
     "output_type": "stream",
     "text": [
      "Predict Finish, 26.6945 26.5483 0.9633 0.0359 Evaluation Finish\n",
      "126: Data Load Finish, Predict Finish, 5.956 5.2309 0.1814 0.7849 Evaluation Finish\n",
      "127: Data Load Finish, Predict Finish, 8.1601 7.5757 0.2674 0.7053 Evaluation Finish\n",
      "128: Data Load Finish, Predict Finish, 8.6792 8.0561 0.2849 0.6865 Evaluation Finish\n",
      "129: Data Load Finish, Predict Finish, 3.3164 2.7311 0.0945 0.8802 Evaluation Finish\n",
      "130: Data Load Finish, Predict Finish, 2.8851 2.5326 0.0948 0.8958 Evaluation Finish\n",
      "131: Data Load Finish, Predict Finish, 2.982 2.5993 0.0923 0.8923 Evaluation Finish\n",
      "132: Data Load Finish, "
     ]
    },
    {
     "name": "stderr",
     "output_type": "stream",
     "text": [
      "C:\\Users\\vfgtr554\\anaconda3\\envs\\cctv\\lib\\site-packages\\pandas\\core\\arraylike.py:364: RuntimeWarning: divide by zero encountered in log\n",
      "  result = getattr(ufunc, method)(*inputs, **kwargs)\n",
      "C:\\Users\\vfgtr554\\anaconda3\\envs\\cctv\\lib\\site-packages\\statsmodels\\base\\model.py:606: ConvergenceWarning: Maximum Likelihood optimization failed to converge. Check mle_retvals\n",
      "  ConvergenceWarning)\n",
      "C:\\Users\\vfgtr554\\anaconda3\\envs\\cctv\\lib\\site-packages\\pandas\\core\\arraylike.py:364: RuntimeWarning: divide by zero encountered in log\n",
      "  result = getattr(ufunc, method)(*inputs, **kwargs)\n"
     ]
    },
    {
     "name": "stdout",
     "output_type": "stream",
     "text": [
      "Predict Finish, 26.6945 26.5483 0.9633 0.0359 Evaluation Finish\n",
      "133: Data Load Finish, "
     ]
    },
    {
     "name": "stderr",
     "output_type": "stream",
     "text": [
      "C:\\Users\\vfgtr554\\anaconda3\\envs\\cctv\\lib\\site-packages\\statsmodels\\base\\model.py:606: ConvergenceWarning: Maximum Likelihood optimization failed to converge. Check mle_retvals\n",
      "  ConvergenceWarning)\n"
     ]
    },
    {
     "name": "stdout",
     "output_type": "stream",
     "text": [
      "Predict Finish, 26.6945 26.5483 0.9633 0.0359 Evaluation Finish\n",
      "134: Data Load Finish, Predict Finish, 9.4765 9.05 0.3216 0.6578 Evaluation Finish\n",
      "135: Data Load Finish, Predict Finish, 5.4668 4.4823 0.1541 0.8026 Evaluation Finish\n",
      "136: Data Load Finish, Predict Finish, 9.3589 8.8769 0.3153 0.662 Evaluation Finish\n",
      "137: Data Load Finish, "
     ]
    },
    {
     "name": "stderr",
     "output_type": "stream",
     "text": [
      "C:\\Users\\vfgtr554\\anaconda3\\envs\\cctv\\lib\\site-packages\\statsmodels\\base\\model.py:606: ConvergenceWarning: Maximum Likelihood optimization failed to converge. Check mle_retvals\n",
      "  ConvergenceWarning)\n",
      "C:\\Users\\vfgtr554\\anaconda3\\envs\\cctv\\lib\\site-packages\\pandas\\core\\arraylike.py:364: RuntimeWarning: divide by zero encountered in log\n",
      "  result = getattr(ufunc, method)(*inputs, **kwargs)\n"
     ]
    },
    {
     "name": "stdout",
     "output_type": "stream",
     "text": [
      "Predict Finish, 4.9476 4.0725 0.1391 0.8213 Evaluation Finish\n",
      "138: Data Load Finish, "
     ]
    },
    {
     "name": "stderr",
     "output_type": "stream",
     "text": [
      "C:\\Users\\vfgtr554\\anaconda3\\envs\\cctv\\lib\\site-packages\\statsmodels\\base\\model.py:606: ConvergenceWarning: Maximum Likelihood optimization failed to converge. Check mle_retvals\n",
      "  ConvergenceWarning)\n",
      "C:\\Users\\vfgtr554\\anaconda3\\envs\\cctv\\lib\\site-packages\\pandas\\core\\arraylike.py:364: RuntimeWarning: divide by zero encountered in log\n",
      "  result = getattr(ufunc, method)(*inputs, **kwargs)\n"
     ]
    },
    {
     "name": "stdout",
     "output_type": "stream",
     "text": [
      "Predict Finish, 26.6945 26.5483 0.9633 0.0359 Evaluation Finish\n",
      "139: Data Load Finish, Predict Finish, 5.1018 4.2665 0.1461 0.8157 Evaluation Finish\n",
      "140: Data Load Finish, "
     ]
    },
    {
     "name": "stderr",
     "output_type": "stream",
     "text": [
      "C:\\Users\\vfgtr554\\anaconda3\\envs\\cctv\\lib\\site-packages\\statsmodels\\base\\model.py:606: ConvergenceWarning: Maximum Likelihood optimization failed to converge. Check mle_retvals\n",
      "  ConvergenceWarning)\n"
     ]
    },
    {
     "name": "stdout",
     "output_type": "stream",
     "text": [
      "Predict Finish, 26.6945 26.5483 0.9633 0.0359 Evaluation Finish\n",
      "141: Data Load Finish, Predict Finish, 4.1727 3.4147 0.1165 0.8493 Evaluation Finish\n",
      "142: Data Load Finish, Predict Finish, 3.596 2.8404 0.0971 0.8701 Evaluation Finish\n",
      "143: Data Load Finish, Predict Finish, 4.8147 3.9249 0.1336 0.8261 Evaluation Finish\n",
      "144: Data Load Finish, Predict Finish, 14.4688 14.1975 0.531 0.4775 Evaluation Finish\n",
      "145: Data Load Finish, "
     ]
    },
    {
     "name": "stderr",
     "output_type": "stream",
     "text": [
      "C:\\Users\\vfgtr554\\anaconda3\\envs\\cctv\\lib\\site-packages\\statsmodels\\base\\model.py:606: ConvergenceWarning: Maximum Likelihood optimization failed to converge. Check mle_retvals\n",
      "  ConvergenceWarning)\n"
     ]
    },
    {
     "name": "stdout",
     "output_type": "stream",
     "text": [
      "Predict Finish, 32.2514 32.1286 1.1886 -0.1648 Evaluation Finish\n",
      "146: Data Load Finish, Predict Finish, 3.9864 3.3578 0.1302 0.856 Evaluation Finish\n",
      "147: Data Load Finish, Predict Finish, 4.3143 3.5935 0.1397 0.8442 Evaluation Finish\n",
      "148: Data Load Finish, Predict Finish, 6.1918 5.3522 0.186 0.7764 Evaluation Finish\n",
      "149: Data Load Finish, Predict Finish, 5.6553 4.5833 0.1578 0.7958 Evaluation Finish\n",
      "150: Data Load Finish, Predict Finish, 6.3473 5.6189 0.1955 0.7708 Evaluation Finish\n",
      "151: Data Load Finish, Predict Finish, 4.8819 3.9922 0.1362 0.8237 Evaluation Finish\n",
      "152: Data Load Finish, Predict Finish, 4.8882 3.799 0.1294 0.8235 Evaluation Finish\n",
      "153: Data Load Finish, Predict Finish, 2.8025 2.3736 0.0881 0.8988 Evaluation Finish\n",
      "154: Data Load Finish, "
     ]
    },
    {
     "name": "stderr",
     "output_type": "stream",
     "text": [
      "C:\\Users\\vfgtr554\\anaconda3\\envs\\cctv\\lib\\site-packages\\pandas\\core\\arraylike.py:364: RuntimeWarning: divide by zero encountered in log\n",
      "  result = getattr(ufunc, method)(*inputs, **kwargs)\n",
      "C:\\Users\\vfgtr554\\anaconda3\\envs\\cctv\\lib\\site-packages\\statsmodels\\base\\model.py:606: ConvergenceWarning: Maximum Likelihood optimization failed to converge. Check mle_retvals\n",
      "  ConvergenceWarning)\n"
     ]
    },
    {
     "name": "stdout",
     "output_type": "stream",
     "text": [
      "Predict Finish, 26.6945 26.5483 0.9633 0.0359 Evaluation Finish\n",
      "155: Data Load Finish, Predict Finish, 2.8061 2.3972 0.087 0.8987 Evaluation Finish\n",
      "156: Data Load Finish, Predict Finish, 4.3409 3.5107 0.1194 0.8432 Evaluation Finish\n",
      "157: Data Load Finish, Predict Finish, 5.896 5.1852 0.1798 0.7871 Evaluation Finish\n",
      "158: Data Load Finish, Predict Finish, 5.5879 4.7501 0.1643 0.7982 Evaluation Finish\n",
      "159: Data Load Finish, Predict Finish, 7.6434 6.9962 0.2467 0.724 Evaluation Finish\n",
      "160: Data Load Finish, Predict Finish, 4.527 3.5582 0.1204 0.8365 Evaluation Finish\n",
      "161: Data Load Finish, Predict Finish, 4.5031 3.527 0.1192 0.8374 Evaluation Finish\n",
      "162: Data Load Finish, Predict Finish, 7.3043 6.6062 0.2322 0.7362 Evaluation Finish\n",
      "163: Data Load Finish, Predict Finish, 3.7814 2.9854 0.1015 0.8634 Evaluation Finish\n",
      "164: Data Load Finish, Predict Finish, 3.0282 2.717 0.1016 0.8906 Evaluation Finish\n",
      "165: Data Load Finish, Predict Finish, 2.8318 2.4622 0.0892 0.8977 Evaluation Finish\n",
      "166: Data Load Finish, Predict Finish, 10.2744 9.8614 0.3721 0.6289 Evaluation Finish\n",
      "167: Data Load Finish, Predict Finish, 10.9444 10.5695 0.398 0.6047 Evaluation Finish\n",
      "168: Data Load Finish, Predict Finish, 25.2485 25.0869 0.9304 0.0881 Evaluation Finish\n",
      "169: Data Load Finish, Predict Finish, 7.0535 6.3878 0.2447 0.7453 Evaluation Finish\n",
      "170: Data Load Finish, Predict Finish, 4.2959 3.3233 0.1124 0.8449 Evaluation Finish\n",
      "171: Data Load Finish, Predict Finish, 5.5147 4.7758 0.185 0.8008 Evaluation Finish\n",
      "172: Data Load Finish, Predict Finish, 5.0561 4.119 0.1407 0.8174 Evaluation Finish\n",
      "173: Data Load Finish, Predict Finish, 3.3472 3.0532 0.1139 0.8791 Evaluation Finish\n",
      "174: Data Load Finish, Predict Finish, 3.3659 2.9772 0.1138 0.8784 Evaluation Finish\n",
      "175: Data Load Finish, Predict Finish, 7.9295 7.4133 0.2823 0.7136 Evaluation Finish\n",
      "176: Data Load Finish, Predict Finish, 6.1244 5.3387 0.1856 0.7788 Evaluation Finish\n",
      "177: Data Load Finish, Predict Finish, 17.519 17.2923 0.6446 0.3673 Evaluation Finish\n",
      "178: Data Load Finish, Predict Finish, 3.6416 2.934 0.1004 0.8685 Evaluation Finish\n",
      "179: Data Load Finish, Predict Finish, 3.3073 2.8288 0.109 0.8806 Evaluation Finish\n",
      "180: Data Load Finish, Predict Finish, 17.5399 17.2992 0.6446 0.3665 Evaluation Finish\n",
      "181: Data Load Finish, Predict Finish, 4.9991 4.1504 0.142 0.8195 Evaluation Finish\n",
      "182: Data Load Finish, Predict Finish, 4.792 3.8954 0.1325 0.8269 Evaluation Finish\n",
      "183: Data Load Finish, Predict Finish, 4.5064 3.5556 0.1202 0.8372 Evaluation Finish\n",
      "184: Data Load Finish, Predict Finish, 3.4921 2.8472 0.0979 0.8739 Evaluation Finish\n",
      "185: Data Load Finish, Predict Finish, 4.1747 3.3032 0.1119 0.8492 Evaluation Finish\n",
      "186: Data Load Finish, Predict Finish, 5.8788 4.7883 0.1656 0.7877 Evaluation Finish\n",
      "187: Data Load Finish, "
     ]
    },
    {
     "name": "stderr",
     "output_type": "stream",
     "text": [
      "C:\\Users\\vfgtr554\\anaconda3\\envs\\cctv\\lib\\site-packages\\pandas\\core\\arraylike.py:364: RuntimeWarning: divide by zero encountered in log\n",
      "  result = getattr(ufunc, method)(*inputs, **kwargs)\n",
      "C:\\Users\\vfgtr554\\anaconda3\\envs\\cctv\\lib\\site-packages\\statsmodels\\base\\model.py:606: ConvergenceWarning: Maximum Likelihood optimization failed to converge. Check mle_retvals\n",
      "  ConvergenceWarning)\n"
     ]
    },
    {
     "name": "stdout",
     "output_type": "stream",
     "text": [
      "Predict Finish, 26.6945 26.5483 0.9633 0.0359 Evaluation Finish\n",
      "188: Data Load Finish, Predict Finish, 2.8148 2.4543 0.0898 0.8983 Evaluation Finish\n",
      "189: Data Load Finish, Predict Finish, 2.8185 2.4114 0.0877 0.8982 Evaluation Finish\n",
      "190: Data Load Finish, Predict Finish, 4.8698 3.9649 0.1352 0.8241 Evaluation Finish\n",
      "191: Data Load Finish, Predict Finish, 3.4105 2.7364 0.0941 0.8768 Evaluation Finish\n",
      "192: Data Load Finish, Predict Finish, 5.8253 5.0846 0.1762 0.7896 Evaluation Finish\n",
      "193: Data Load Finish, "
     ]
    },
    {
     "name": "stderr",
     "output_type": "stream",
     "text": [
      "C:\\Users\\vfgtr554\\anaconda3\\envs\\cctv\\lib\\site-packages\\statsmodels\\base\\model.py:606: ConvergenceWarning: Maximum Likelihood optimization failed to converge. Check mle_retvals\n",
      "  ConvergenceWarning)\n"
     ]
    },
    {
     "name": "stdout",
     "output_type": "stream",
     "text": [
      "Predict Finish, 15.8208 15.5696 0.5607 0.4286 Evaluation Finish\n",
      "194: Data Load Finish, Predict Finish, 4.3285 3.3408 0.113 0.8437 Evaluation Finish\n",
      "195: Data Load Finish, Predict Finish, 5.3595 4.5654 0.1571 0.8064 Evaluation Finish\n",
      "196: Data Load Finish, "
     ]
    },
    {
     "name": "stderr",
     "output_type": "stream",
     "text": [
      "C:\\Users\\vfgtr554\\anaconda3\\envs\\cctv\\lib\\site-packages\\pandas\\core\\arraylike.py:364: RuntimeWarning: divide by zero encountered in log\n",
      "  result = getattr(ufunc, method)(*inputs, **kwargs)\n",
      "C:\\Users\\vfgtr554\\anaconda3\\envs\\cctv\\lib\\site-packages\\statsmodels\\base\\model.py:606: ConvergenceWarning: Maximum Likelihood optimization failed to converge. Check mle_retvals\n",
      "  ConvergenceWarning)\n"
     ]
    },
    {
     "name": "stdout",
     "output_type": "stream",
     "text": [
      "Predict Finish, 26.6945 26.5483 0.9633 0.0359 Evaluation Finish\n",
      "197: Data Load Finish, Predict Finish, 5.9447 5.2447 0.182 0.7853 Evaluation Finish\n",
      "198: Data Load Finish, Predict Finish, 3.7531 3.1957 0.1108 0.8645 Evaluation Finish\n",
      "199: Data Load Finish, Predict Finish, 7.4308 6.8462 0.2407 0.7316 Evaluation Finish\n",
      "200: Data Load Finish, Predict Finish, 3.4091 2.9846 0.1047 0.8769 Evaluation Finish\n",
      "201: Data Load Finish, Predict Finish, 7.6545 6.5708 0.2299 0.7236 Evaluation Finish\n",
      "202: Data Load Finish, Predict Finish, 3.7908 3.1572 0.1086 0.8631 Evaluation Finish\n",
      "203: Data Load Finish, Predict Finish, 9.0829 8.6433 0.3066 0.672 Evaluation Finish\n",
      "204: Data Load Finish, Predict Finish, 4.9081 3.9848 0.136 0.8227 Evaluation Finish\n",
      "205: Data Load Finish, "
     ]
    },
    {
     "name": "stderr",
     "output_type": "stream",
     "text": [
      "C:\\Users\\vfgtr554\\anaconda3\\envs\\cctv\\lib\\site-packages\\pandas\\core\\arraylike.py:364: RuntimeWarning: divide by zero encountered in log\n",
      "  result = getattr(ufunc, method)(*inputs, **kwargs)\n",
      "C:\\Users\\vfgtr554\\anaconda3\\envs\\cctv\\lib\\site-packages\\statsmodels\\base\\model.py:606: ConvergenceWarning: Maximum Likelihood optimization failed to converge. Check mle_retvals\n",
      "  ConvergenceWarning)\n"
     ]
    },
    {
     "name": "stdout",
     "output_type": "stream",
     "text": [
      "Predict Finish, 26.6945 26.5483 0.9633 0.0359 Evaluation Finish\n",
      "206: Data Load Finish, Predict Finish, 9.793 9.346 0.3327 0.6463 Evaluation Finish\n",
      "207: Data Load Finish, Predict Finish, 5.3295 4.5432 0.1563 0.8075 Evaluation Finish\n",
      "208: Data Load Finish, Predict Finish, 9.9574 9.5504 0.3401 0.6404 Evaluation Finish\n",
      "209: Data Load Finish, Predict Finish, 5.405 4.6013 0.1792 0.8048 Evaluation Finish\n",
      "210: Data Load Finish, Predict Finish, 2.8524 2.509 0.0903 0.897 Evaluation Finish\n",
      "211: Data Load Finish, Predict Finish, 9.9198 9.1022 0.3442 0.6417 Evaluation Finish\n",
      "212: Data Load Finish, Predict Finish, 4.1177 3.2593 0.1105 0.8513 Evaluation Finish\n",
      "213: Data Load Finish, Predict Finish, 14.7731 14.4571 0.5403 0.4665 Evaluation Finish\n",
      "214: Data Load Finish, Predict Finish, 11.9118 11.5743 0.4141 0.5698 Evaluation Finish\n",
      "215: Data Load Finish, Predict Finish, 5.9059 5.1313 0.178 0.7867 Evaluation Finish\n",
      "216: Data Load Finish, Predict Finish, 3.3242 2.8693 0.1002 0.8799 Evaluation Finish\n",
      "217: Data Load Finish, "
     ]
    },
    {
     "name": "stderr",
     "output_type": "stream",
     "text": [
      "C:\\Users\\vfgtr554\\anaconda3\\envs\\cctv\\lib\\site-packages\\pandas\\core\\arraylike.py:364: RuntimeWarning: divide by zero encountered in log\n",
      "  result = getattr(ufunc, method)(*inputs, **kwargs)\n",
      "C:\\Users\\vfgtr554\\anaconda3\\envs\\cctv\\lib\\site-packages\\statsmodels\\base\\model.py:606: ConvergenceWarning: Maximum Likelihood optimization failed to converge. Check mle_retvals\n",
      "  ConvergenceWarning)\n"
     ]
    },
    {
     "name": "stdout",
     "output_type": "stream",
     "text": [
      "Predict Finish, 26.6945 26.5483 0.9633 0.0359 Evaluation Finish\n",
      "218: Data Load Finish, Predict Finish, 6.7169 6.0767 0.2125 0.7574 Evaluation Finish\n",
      "219: Data Load Finish, Predict Finish, 3.8745 3.0224 0.1189 0.8601 Evaluation Finish\n",
      "220: Data Load Finish, Predict Finish, 5.7541 5.0329 0.1949 0.7922 Evaluation Finish\n",
      "221: Data Load Finish, Predict Finish, 3.5843 2.9104 0.1137 0.8706 Evaluation Finish\n",
      "222: Data Load Finish, Predict Finish, 3.841 3.0823 0.105 0.8613 Evaluation Finish\n",
      "223: Data Load Finish, Predict Finish, 2.8149 2.405 0.0877 0.8983 Evaluation Finish\n",
      "224: Data Load Finish, "
     ]
    },
    {
     "name": "stderr",
     "output_type": "stream",
     "text": [
      "C:\\Users\\vfgtr554\\anaconda3\\envs\\cctv\\lib\\site-packages\\pandas\\core\\arraylike.py:364: RuntimeWarning: divide by zero encountered in log\n",
      "  result = getattr(ufunc, method)(*inputs, **kwargs)\n",
      "C:\\Users\\vfgtr554\\anaconda3\\envs\\cctv\\lib\\site-packages\\statsmodels\\base\\model.py:606: ConvergenceWarning: Maximum Likelihood optimization failed to converge. Check mle_retvals\n",
      "  ConvergenceWarning)\n"
     ]
    },
    {
     "name": "stdout",
     "output_type": "stream",
     "text": [
      "Predict Finish, 26.6945 26.5483 0.9633 0.0359 Evaluation Finish\n",
      "225: Data Load Finish, Predict Finish, 2.9312 2.5125 0.0896 0.8941 Evaluation Finish\n",
      "226: Data Load Finish, Predict Finish, 3.5888 2.9306 0.1014 0.8704 Evaluation Finish\n",
      "227: Data Load Finish, Predict Finish, 5.5938 4.745 0.1635 0.798 Evaluation Finish\n",
      "228: Data Load Finish, Predict Finish, 5.4469 4.6556 0.1603 0.8033 Evaluation Finish\n",
      "229: Data Load Finish, Predict Finish, 13.5514 13.1885 0.4944 0.5106 Evaluation Finish\n",
      "230: Data Load Finish, Predict Finish, 3.6097 2.979 0.1025 0.8696 Evaluation Finish\n",
      "231: Data Load Finish, Predict Finish, 2.9934 2.6277 0.0935 0.8919 Evaluation Finish\n",
      "232: Data Load Finish, Predict Finish, 9.0439 8.5793 0.3042 0.6734 Evaluation Finish\n",
      "233: Data Load Finish, Predict Finish, 3.3356 2.559 0.0879 0.8795 Evaluation Finish\n",
      "234: Data Load Finish, Predict Finish, 3.6588 3.2184 0.114 0.8679 Evaluation Finish\n",
      "235: Data Load Finish, Predict Finish, 15.6765 15.4149 0.5758 0.4338 Evaluation Finish\n",
      "236: Data Load Finish, Predict Finish, 4.1787 3.2743 0.1112 0.8491 Evaluation Finish\n",
      "237: Data Load Finish, Predict Finish, 5.3598 4.5785 0.1576 0.8064 Evaluation Finish\n",
      "238: Data Load Finish, Predict Finish, 5.1492 4.3282 0.1485 0.814 Evaluation Finish\n",
      "239: Data Load Finish, Predict Finish, 3.7482 3.0911 0.106 0.8646 Evaluation Finish\n",
      "240: Data Load Finish, Predict Finish, 2.865 2.519 0.0904 0.8965 Evaluation Finish\n",
      "241: Data Load Finish, "
     ]
    },
    {
     "name": "stderr",
     "output_type": "stream",
     "text": [
      "C:\\Users\\vfgtr554\\anaconda3\\envs\\cctv\\lib\\site-packages\\statsmodels\\base\\model.py:606: ConvergenceWarning: Maximum Likelihood optimization failed to converge. Check mle_retvals\n",
      "  ConvergenceWarning)\n"
     ]
    },
    {
     "name": "stdout",
     "output_type": "stream",
     "text": [
      "Predict Finish, 3.6704 2.9925 0.1025 0.8674 Evaluation Finish\n",
      "242: Data Load Finish, Predict Finish, 4.7542 3.8479 0.1308 0.8283 Evaluation Finish\n",
      "243: Data Load Finish, Predict Finish, 21.6349 21.4529 0.7972 0.2187 Evaluation Finish\n",
      "244: Data Load Finish, Predict Finish, 9.656 9.232 0.3285 0.6513 Evaluation Finish\n",
      "245: Data Load Finish, "
     ]
    },
    {
     "name": "stderr",
     "output_type": "stream",
     "text": [
      "C:\\Users\\vfgtr554\\anaconda3\\envs\\cctv\\lib\\site-packages\\pandas\\core\\arraylike.py:364: RuntimeWarning: divide by zero encountered in log\n",
      "  result = getattr(ufunc, method)(*inputs, **kwargs)\n",
      "C:\\Users\\vfgtr554\\anaconda3\\envs\\cctv\\lib\\site-packages\\statsmodels\\base\\model.py:606: ConvergenceWarning: Maximum Likelihood optimization failed to converge. Check mle_retvals\n",
      "  ConvergenceWarning)\n"
     ]
    },
    {
     "name": "stdout",
     "output_type": "stream",
     "text": [
      "Predict Finish, 26.6945 26.5483 0.9633 0.0359 Evaluation Finish\n",
      "246: Data Load Finish, Predict Finish, 12.213 11.8693 0.4252 0.5589 Evaluation Finish\n",
      "247: Data Load Finish, "
     ]
    },
    {
     "name": "stderr",
     "output_type": "stream",
     "text": [
      "C:\\Users\\vfgtr554\\anaconda3\\envs\\cctv\\lib\\site-packages\\pandas\\core\\arraylike.py:364: RuntimeWarning: divide by zero encountered in log\n",
      "  result = getattr(ufunc, method)(*inputs, **kwargs)\n",
      "C:\\Users\\vfgtr554\\anaconda3\\envs\\cctv\\lib\\site-packages\\statsmodels\\base\\model.py:606: ConvergenceWarning: Maximum Likelihood optimization failed to converge. Check mle_retvals\n",
      "  ConvergenceWarning)\n",
      "C:\\Users\\vfgtr554\\anaconda3\\envs\\cctv\\lib\\site-packages\\pandas\\core\\arraylike.py:364: RuntimeWarning: divide by zero encountered in log\n",
      "  result = getattr(ufunc, method)(*inputs, **kwargs)\n"
     ]
    },
    {
     "name": "stdout",
     "output_type": "stream",
     "text": [
      "Predict Finish, 26.6945 26.5483 0.9633 0.0359 Evaluation Finish\n",
      "248: Data Load Finish, "
     ]
    },
    {
     "name": "stderr",
     "output_type": "stream",
     "text": [
      "C:\\Users\\vfgtr554\\anaconda3\\envs\\cctv\\lib\\site-packages\\statsmodels\\base\\model.py:606: ConvergenceWarning: Maximum Likelihood optimization failed to converge. Check mle_retvals\n",
      "  ConvergenceWarning)\n"
     ]
    },
    {
     "name": "stdout",
     "output_type": "stream",
     "text": [
      "Predict Finish, 26.6945 26.5483 0.9633 0.0359 Evaluation Finish\n",
      "249: Data Load Finish, Predict Finish, 9.1892 8.7569 0.3109 0.6681 Evaluation Finish\n",
      "250: Data Load Finish, Predict Finish, 9.0546 8.6151 0.3056 0.673 Evaluation Finish\n",
      "251: "
     ]
    },
    {
     "name": "stderr",
     "output_type": "stream",
     "text": [
      "C:\\Users\\vfgtr554\\anaconda3\\envs\\cctv\\lib\\site-packages\\pandas\\core\\arraylike.py:364: RuntimeWarning: divide by zero encountered in log\n",
      "  result = getattr(ufunc, method)(*inputs, **kwargs)\n"
     ]
    },
    {
     "name": "stdout",
     "output_type": "stream",
     "text": [
      "Data Load Finish, "
     ]
    },
    {
     "name": "stderr",
     "output_type": "stream",
     "text": [
      "C:\\Users\\vfgtr554\\anaconda3\\envs\\cctv\\lib\\site-packages\\statsmodels\\base\\model.py:606: ConvergenceWarning: Maximum Likelihood optimization failed to converge. Check mle_retvals\n",
      "  ConvergenceWarning)\n"
     ]
    },
    {
     "name": "stdout",
     "output_type": "stream",
     "text": [
      "Predict Finish, 26.6945 26.5483 0.9633 0.0359 Evaluation Finish\n",
      "252: Data Load Finish, Predict Finish, 2.8849 2.5216 0.0945 0.8958 Evaluation Finish\n",
      "253: Data Load Finish, Predict Finish, 7.3942 6.8475 0.2408 0.733 Evaluation Finish\n",
      "254: Data Load Finish, Predict Finish, 3.8772 3.2185 0.1258 0.86 Evaluation Finish\n",
      "255: Data Load Finish, Predict Finish, 7.7288 7.1756 0.253 0.7209 Evaluation Finish\n",
      "256: Data Load Finish, Predict Finish, 6.3607 5.6687 0.1976 0.7703 Evaluation Finish\n",
      "257: Data Load Finish, Predict Finish, 8.3936 7.8316 0.2975 0.6969 Evaluation Finish\n",
      "258: Data Load Finish, Predict Finish, 5.2161 4.2883 0.1469 0.8116 Evaluation Finish\n",
      "259: Data Load Finish, Predict Finish, 4.769 3.8026 0.1497 0.8278 Evaluation Finish\n",
      "260: Data Load Finish, "
     ]
    },
    {
     "name": "stderr",
     "output_type": "stream",
     "text": [
      "C:\\Users\\vfgtr554\\anaconda3\\envs\\cctv\\lib\\site-packages\\pandas\\core\\arraylike.py:364: RuntimeWarning: divide by zero encountered in log\n",
      "  result = getattr(ufunc, method)(*inputs, **kwargs)\n",
      "C:\\Users\\vfgtr554\\anaconda3\\envs\\cctv\\lib\\site-packages\\statsmodels\\base\\model.py:606: ConvergenceWarning: Maximum Likelihood optimization failed to converge. Check mle_retvals\n",
      "  ConvergenceWarning)\n"
     ]
    },
    {
     "name": "stdout",
     "output_type": "stream",
     "text": [
      "Predict Finish, 26.6945 26.5483 0.9633 0.0359 Evaluation Finish\n",
      "261: Data Load Finish, Predict Finish, 3.2746 2.9493 0.1113 0.8817 Evaluation Finish\n",
      "262: Data Load Finish, Predict Finish, 4.007 3.3559 0.131 0.8553 Evaluation Finish\n",
      "263: Data Load Finish, Predict Finish, 3.0852 2.5331 0.0889 0.8886 Evaluation Finish\n",
      "264: Data Load Finish, Predict Finish, 5.5824 4.8381 0.1672 0.7984 Evaluation Finish\n",
      "265: Data Load Finish, Predict Finish, 5.0707 4.2366 0.1451 0.8169 Evaluation Finish\n",
      "266: Data Load Finish, Predict Finish, 9.8466 9.4445 0.3361 0.6444 Evaluation Finish\n",
      "267: Data Load Finish, Predict Finish, 3.882 2.9788 0.1012 0.8598 Evaluation Finish\n",
      "268: Data Load Finish, Predict Finish, 5.2373 4.4223 0.1518 0.8109 Evaluation Finish\n",
      "269: Data Load Finish, Predict Finish, 3.7362 3.3442 0.1252 0.8651 Evaluation Finish\n",
      "270: Data Load Finish, Predict Finish, 11.3135 10.8839 0.3891 0.5914 Evaluation Finish\n",
      "271: Data Load Finish, Predict Finish, 3.4782 3.1434 0.1163 0.8744 Evaluation Finish\n",
      "272: Data Load Finish, Predict Finish, 3.6572 3.2587 0.1242 0.8679 Evaluation Finish\n",
      "273: Data Load Finish, Predict Finish, 3.4299 2.6892 0.0927 0.8761 Evaluation Finish\n",
      "274: Data Load Finish, Predict Finish, 7.9584 7.3985 0.2613 0.7126 Evaluation Finish\n",
      "275: Data Load Finish, Predict Finish, 8.0366 7.5143 0.2651 0.7098 Evaluation Finish\n",
      "276: Data Load Finish, "
     ]
    },
    {
     "name": "stderr",
     "output_type": "stream",
     "text": [
      "C:\\Users\\vfgtr554\\anaconda3\\envs\\cctv\\lib\\site-packages\\pandas\\core\\arraylike.py:364: RuntimeWarning: divide by zero encountered in log\n",
      "  result = getattr(ufunc, method)(*inputs, **kwargs)\n",
      "C:\\Users\\vfgtr554\\anaconda3\\envs\\cctv\\lib\\site-packages\\statsmodels\\base\\model.py:606: ConvergenceWarning: Maximum Likelihood optimization failed to converge. Check mle_retvals\n",
      "  ConvergenceWarning)\n"
     ]
    },
    {
     "name": "stdout",
     "output_type": "stream",
     "text": [
      "Predict Finish, 26.6945 26.5483 0.9633 0.0359 Evaluation Finish\n",
      "277: Data Load Finish, Predict Finish, 8.3448 7.843 0.2772 0.6986 Evaluation Finish\n",
      "278: Data Load Finish, Predict Finish, 4.7084 3.7946 0.1289 0.83 Evaluation Finish\n",
      "279: Data Load Finish, Predict Finish, 5.3573 4.5511 0.1567 0.8065 Evaluation Finish\n",
      "280: Data Load Finish, Predict Finish, 4.2696 3.5011 0.1196 0.8458 Evaluation Finish\n",
      "281: Data Load Finish, Predict Finish, 5.0944 4.2291 0.1449 0.816 Evaluation Finish\n",
      "282: Data Load Finish, Predict Finish, 4.0302 3.0885 0.1054 0.8545 Evaluation Finish\n",
      "283: Data Load Finish, Predict Finish, 2.9183 2.5162 0.0897 0.8946 Evaluation Finish\n",
      "284: Data Load Finish, Predict Finish, 4.251 3.5598 0.1389 0.8465 Evaluation Finish\n",
      "285: Data Load Finish, Predict Finish, 8.8562 8.4051 0.2979 0.6802 Evaluation Finish\n",
      "286: Data Load Finish, Predict Finish, 3.6931 3.2504 0.1244 0.8666 Evaluation Finish\n",
      "287: Data Load Finish, "
     ]
    },
    {
     "name": "stderr",
     "output_type": "stream",
     "text": [
      "C:\\Users\\vfgtr554\\anaconda3\\envs\\cctv\\lib\\site-packages\\pandas\\core\\arraylike.py:364: RuntimeWarning: divide by zero encountered in log\n",
      "  result = getattr(ufunc, method)(*inputs, **kwargs)\n",
      "C:\\Users\\vfgtr554\\anaconda3\\envs\\cctv\\lib\\site-packages\\statsmodels\\base\\model.py:606: ConvergenceWarning: Maximum Likelihood optimization failed to converge. Check mle_retvals\n",
      "  ConvergenceWarning)\n"
     ]
    },
    {
     "name": "stdout",
     "output_type": "stream",
     "text": [
      "Predict Finish, 26.6945 26.5483 0.9633 0.0359 Evaluation Finish\n",
      "288: Data Load Finish, Predict Finish, 3.3302 2.8495 0.0995 0.8797 Evaluation Finish\n",
      "289: Data Load Finish, Predict Finish, 7.9816 7.4725 0.2639 0.7117 Evaluation Finish\n",
      "290: Data Load Finish, "
     ]
    },
    {
     "name": "stderr",
     "output_type": "stream",
     "text": [
      "C:\\Users\\vfgtr554\\anaconda3\\envs\\cctv\\lib\\site-packages\\pandas\\core\\arraylike.py:364: RuntimeWarning: divide by zero encountered in log\n",
      "  result = getattr(ufunc, method)(*inputs, **kwargs)\n",
      "C:\\Users\\vfgtr554\\anaconda3\\envs\\cctv\\lib\\site-packages\\statsmodels\\base\\model.py:606: ConvergenceWarning: Maximum Likelihood optimization failed to converge. Check mle_retvals\n",
      "  ConvergenceWarning)\n"
     ]
    },
    {
     "name": "stdout",
     "output_type": "stream",
     "text": [
      "Predict Finish, 26.6945 26.5483 0.9633 0.0359 Evaluation Finish\n",
      "291: Data Load Finish, Predict Finish, 3.2089 2.7541 0.0965 0.8841 Evaluation Finish\n",
      "292: Data Load Finish, Predict Finish, 4.9368 3.9639 0.1352 0.8217 Evaluation Finish\n",
      "293: Data Load Finish, Predict Finish, 5.0407 4.1136 0.1403 0.818 Evaluation Finish\n",
      "294: Data Load Finish, Predict Finish, 4.8383 3.8684 0.1318 0.8253 Evaluation Finish\n",
      "295: Data Load Finish, Predict Finish, 4.8798 4.0037 0.1365 0.8238 Evaluation Finish\n",
      "296: Data Load Finish, Predict Finish, 4.378 3.4311 0.1159 0.8419 Evaluation Finish\n",
      "297: Data Load Finish, Predict Finish, 4.5844 3.6539 0.1237 0.8344 Evaluation Finish\n",
      "298: Data Load Finish, "
     ]
    },
    {
     "name": "stderr",
     "output_type": "stream",
     "text": [
      "C:\\Users\\vfgtr554\\anaconda3\\envs\\cctv\\lib\\site-packages\\pandas\\core\\arraylike.py:364: RuntimeWarning: divide by zero encountered in log\n",
      "  result = getattr(ufunc, method)(*inputs, **kwargs)\n",
      "C:\\Users\\vfgtr554\\anaconda3\\envs\\cctv\\lib\\site-packages\\statsmodels\\base\\model.py:606: ConvergenceWarning: Maximum Likelihood optimization failed to converge. Check mle_retvals\n",
      "  ConvergenceWarning)\n"
     ]
    },
    {
     "name": "stdout",
     "output_type": "stream",
     "text": [
      "Predict Finish, 26.6945 26.5483 0.9633 0.0359 Evaluation Finish\n",
      "299: Data Load Finish, Predict Finish, 3.5316 2.9685 0.1153 0.8725 Evaluation Finish\n",
      "300: Data Load Finish, Predict Finish, 7.0322 6.4219 0.2456 0.746 Evaluation Finish\n",
      "301: Data Load Finish, Predict Finish, 8.2607 7.756 0.2741 0.7017 Evaluation Finish\n",
      "302: Data Load Finish, Predict Finish, 12.0275 11.6983 0.4187 0.5656 Evaluation Finish\n",
      "303: Data Load Finish, Predict Finish, 5.1406 4.3012 0.1681 0.8143 Evaluation Finish\n",
      "304: Data Load Finish, Predict Finish, 5.6186 4.6754 0.1616 0.7971 Evaluation Finish\n",
      "305: Data Load Finish, Predict Finish, 3.6594 3.0228 0.1039 0.8678 Evaluation Finish\n",
      "306: Data Load Finish, Predict Finish, 9.6157 9.2005 0.3271 0.6527 Evaluation Finish\n",
      "307: Data Load Finish, Predict Finish, 6.5545 5.9192 0.2067 0.7633 Evaluation Finish\n",
      "308: Data Load Finish, Predict Finish, 3.8974 3.2255 0.1106 0.8592 Evaluation Finish\n",
      "309: Data Load Finish, Predict Finish, 5.1843 4.3566 0.1495 0.8128 Evaluation Finish\n",
      "310: Data Load Finish, "
     ]
    },
    {
     "name": "stderr",
     "output_type": "stream",
     "text": [
      "C:\\Users\\vfgtr554\\anaconda3\\envs\\cctv\\lib\\site-packages\\pandas\\core\\arraylike.py:364: RuntimeWarning: divide by zero encountered in log\n",
      "  result = getattr(ufunc, method)(*inputs, **kwargs)\n",
      "C:\\Users\\vfgtr554\\anaconda3\\envs\\cctv\\lib\\site-packages\\statsmodels\\base\\model.py:606: ConvergenceWarning: Maximum Likelihood optimization failed to converge. Check mle_retvals\n",
      "  ConvergenceWarning)\n"
     ]
    },
    {
     "name": "stdout",
     "output_type": "stream",
     "text": [
      "Predict Finish, 26.6945 26.5483 0.9633 0.0359 Evaluation Finish\n",
      "311: Data Load Finish, Predict Finish, 3.1582 2.6058 0.0907 0.8859 Evaluation Finish\n",
      "312: Data Load Finish, Predict Finish, 12.5957 12.283 0.4607 0.5451 Evaluation Finish\n",
      "313: Data Load Finish, Predict Finish, 9.9154 9.4917 0.3378 0.6419 Evaluation Finish\n",
      "314: Data Load Finish, Predict Finish, 4.5191 3.6257 0.123 0.8368 Evaluation Finish\n",
      "315: Data Load Finish, Predict Finish, 5.4381 4.6385 0.1597 0.8036 Evaluation Finish\n",
      "316: Data Load Finish, Predict Finish, 4.6432 3.6938 0.1253 0.8323 Evaluation Finish\n",
      "317: Data Load Finish, Predict Finish, 4.2085 3.372 0.1145 0.848 Evaluation Finish\n",
      "318: Data Load Finish, Predict Finish, 10.1939 9.8039 0.3492 0.6318 Evaluation Finish\n",
      "319: Data Load Finish, Predict Finish, 8.0986 7.599 0.2684 0.7075 Evaluation Finish\n",
      "320: Data Load Finish, Predict Finish, 5.7275 4.9876 0.1725 0.7932 Evaluation Finish\n",
      "321: Data Load Finish, Predict Finish, 2.9383 2.5832 0.093 0.8939 Evaluation Finish\n",
      "322: Data Load Finish, "
     ]
    },
    {
     "name": "stderr",
     "output_type": "stream",
     "text": [
      "C:\\Users\\vfgtr554\\anaconda3\\envs\\cctv\\lib\\site-packages\\pandas\\core\\arraylike.py:364: RuntimeWarning: divide by zero encountered in log\n",
      "  result = getattr(ufunc, method)(*inputs, **kwargs)\n",
      "C:\\Users\\vfgtr554\\anaconda3\\envs\\cctv\\lib\\site-packages\\statsmodels\\base\\model.py:606: ConvergenceWarning: Maximum Likelihood optimization failed to converge. Check mle_retvals\n",
      "  ConvergenceWarning)\n"
     ]
    },
    {
     "name": "stdout",
     "output_type": "stream",
     "text": [
      "Predict Finish, 26.6945 26.5483 0.9633 0.0359 Evaluation Finish\n",
      "323: Data Load Finish, Predict Finish, 4.4269 3.3946 0.1153 0.8401 Evaluation Finish\n",
      "324: Data Load Finish, Predict Finish, 4.4551 3.7225 0.1454 0.8391 Evaluation Finish\n",
      "325: Data Load Finish, Predict Finish, 7.4981 6.9595 0.2655 0.7292 Evaluation Finish\n",
      "326: Data Load Finish, Predict Finish, 6.232 5.5729 0.194 0.7749 Evaluation Finish\n",
      "327: Data Load Finish, Predict Finish, 15.5114 15.2583 0.5699 0.4398 Evaluation Finish\n",
      "328: Data Load Finish, "
     ]
    },
    {
     "name": "stderr",
     "output_type": "stream",
     "text": [
      "C:\\Users\\vfgtr554\\anaconda3\\envs\\cctv\\lib\\site-packages\\pandas\\core\\arraylike.py:364: RuntimeWarning: divide by zero encountered in log\n",
      "  result = getattr(ufunc, method)(*inputs, **kwargs)\n",
      "C:\\Users\\vfgtr554\\anaconda3\\envs\\cctv\\lib\\site-packages\\statsmodels\\base\\model.py:606: ConvergenceWarning: Maximum Likelihood optimization failed to converge. Check mle_retvals\n",
      "  ConvergenceWarning)\n"
     ]
    },
    {
     "name": "stdout",
     "output_type": "stream",
     "text": [
      "Predict Finish, 26.6945 26.5483 0.9633 0.0359 Evaluation Finish\n",
      "329: Data Load Finish, Predict Finish, 3.7949 3.0652 0.1202 0.8629 Evaluation Finish\n",
      "330: Data Load Finish, "
     ]
    },
    {
     "name": "stderr",
     "output_type": "stream",
     "text": [
      "C:\\Users\\vfgtr554\\anaconda3\\envs\\cctv\\lib\\site-packages\\pandas\\core\\arraylike.py:364: RuntimeWarning: divide by zero encountered in log\n",
      "  result = getattr(ufunc, method)(*inputs, **kwargs)\n",
      "C:\\Users\\vfgtr554\\anaconda3\\envs\\cctv\\lib\\site-packages\\statsmodels\\base\\model.py:606: ConvergenceWarning: Maximum Likelihood optimization failed to converge. Check mle_retvals\n",
      "  ConvergenceWarning)\n"
     ]
    },
    {
     "name": "stdout",
     "output_type": "stream",
     "text": [
      "Predict Finish, 26.6945 26.5483 0.9633 0.0359 Evaluation Finish\n",
      "331: Data Load Finish, Predict Finish, 6.6394 5.9196 0.2278 0.7602 Evaluation Finish\n",
      "332: Data Load Finish, Predict Finish, 5.8595 5.112 0.1976 0.7884 Evaluation Finish\n",
      "333: Data Load Finish, Predict Finish, 12.1515 11.7611 0.442 0.5611 Evaluation Finish\n",
      "334: Data Load Finish, "
     ]
    },
    {
     "name": "stderr",
     "output_type": "stream",
     "text": [
      "C:\\Users\\vfgtr554\\anaconda3\\envs\\cctv\\lib\\site-packages\\pandas\\core\\arraylike.py:364: RuntimeWarning: divide by zero encountered in log\n",
      "  result = getattr(ufunc, method)(*inputs, **kwargs)\n",
      "C:\\Users\\vfgtr554\\anaconda3\\envs\\cctv\\lib\\site-packages\\statsmodels\\base\\model.py:606: ConvergenceWarning: Maximum Likelihood optimization failed to converge. Check mle_retvals\n",
      "  ConvergenceWarning)\n"
     ]
    },
    {
     "name": "stdout",
     "output_type": "stream",
     "text": [
      "Predict Finish, 26.6945 26.5483 0.9633 0.0359 Evaluation Finish\n",
      "335: Data Load Finish, Predict Finish, 3.1867 2.6271 0.1014 0.8849 Evaluation Finish\n",
      "336: Data Load Finish, Predict Finish, 10.444 10.0264 0.378 0.6228 Evaluation Finish\n",
      "337: Data Load Finish, "
     ]
    },
    {
     "name": "stderr",
     "output_type": "stream",
     "text": [
      "C:\\Users\\vfgtr554\\anaconda3\\envs\\cctv\\lib\\site-packages\\pandas\\core\\arraylike.py:364: RuntimeWarning: divide by zero encountered in log\n",
      "  result = getattr(ufunc, method)(*inputs, **kwargs)\n",
      "C:\\Users\\vfgtr554\\anaconda3\\envs\\cctv\\lib\\site-packages\\statsmodels\\base\\model.py:606: ConvergenceWarning: Maximum Likelihood optimization failed to converge. Check mle_retvals\n",
      "  ConvergenceWarning)\n"
     ]
    },
    {
     "name": "stdout",
     "output_type": "stream",
     "text": [
      "Predict Finish, 26.6945 26.5483 0.9633 0.0359 Evaluation Finish\n",
      "338: Data Load Finish, Predict Finish, 16.553 16.307 0.6085 0.4022 Evaluation Finish\n",
      "339: Data Load Finish, Predict Finish, 6.2687 5.614 0.2162 0.7736 Evaluation Finish\n",
      "340: Data Load Finish, Predict Finish, 3.8654 3.1234 0.1225 0.8604 Evaluation Finish\n",
      "341: Data Load Finish, Predict Finish, 5.1663 4.3883 0.1709 0.8134 Evaluation Finish\n",
      "342: Data Load Finish, "
     ]
    },
    {
     "name": "stderr",
     "output_type": "stream",
     "text": [
      "C:\\Users\\vfgtr554\\anaconda3\\envs\\cctv\\lib\\site-packages\\pandas\\core\\arraylike.py:364: RuntimeWarning: divide by zero encountered in log\n",
      "  result = getattr(ufunc, method)(*inputs, **kwargs)\n",
      "C:\\Users\\vfgtr554\\anaconda3\\envs\\cctv\\lib\\site-packages\\statsmodels\\base\\model.py:606: ConvergenceWarning: Maximum Likelihood optimization failed to converge. Check mle_retvals\n",
      "  ConvergenceWarning)\n"
     ]
    },
    {
     "name": "stdout",
     "output_type": "stream",
     "text": [
      "Predict Finish, 26.6945 26.5483 0.9633 0.0359 Evaluation Finish\n",
      "343: Data Load Finish, Predict Finish, 8.3299 7.7683 0.2953 0.6992 Evaluation Finish\n",
      "344: Data Load Finish, Predict Finish, 3.2685 2.9089 0.1108 0.882 Evaluation Finish\n",
      "345: Data Load Finish, Predict Finish, 3.1355 2.7598 0.1051 0.8868 Evaluation Finish\n",
      "346: Data Load Finish, Predict Finish, 11.1026 10.7271 0.3829 0.599 Evaluation Finish\n",
      "347: Data Load Finish, Predict Finish, 3.0355 2.6185 0.0924 0.8904 Evaluation Finish\n",
      "348: Data Load Finish, Predict Finish, 8.9678 8.5255 0.3229 0.6761 Evaluation Finish\n",
      "349: Data Load Finish, Predict Finish, 7.2517 6.6958 0.2353 0.7381 Evaluation Finish\n",
      "350: Data Load Finish, Predict Finish, 13.1637 12.8641 0.4616 0.5246 Evaluation Finish\n",
      "351: Data Load Finish, Predict Finish, 3.8408 2.9334 0.0993 0.8613 Evaluation Finish\n",
      "352: Data Load Finish, Predict Finish, 3.812 3.0459 0.1038 0.8623 Evaluation Finish\n",
      "353: Data Load Finish, Predict Finish, 4.068 3.4113 0.1329 0.8531 Evaluation Finish\n",
      "354: Data Load Finish, Predict Finish, 4.1211 3.4473 0.1345 0.8512 Evaluation Finish\n",
      "355: Data Load Finish, Predict Finish, 4.1722 3.4614 0.1354 0.8493 Evaluation Finish\n",
      "356: Data Load Finish, Predict Finish, 2.7901 2.4245 0.0895 0.8992 Evaluation Finish\n",
      "357: Data Load Finish, Predict Finish, 4.3928 3.599 0.1413 0.8414 Evaluation Finish\n",
      "358: Data Load Finish, Predict Finish, 2.8896 2.5419 0.091 0.8956 Evaluation Finish\n",
      "359: Data Load Finish, Predict Finish, 2.8442 2.4229 0.0903 0.8973 Evaluation Finish\n",
      "360: Data Load Finish, Predict Finish, 2.7991 2.3942 0.0882 0.8989 Evaluation Finish\n",
      "361: Data Load Finish, Predict Finish, 3.0524 2.5524 0.0978 0.8898 Evaluation Finish\n",
      "362: Data Load Finish, Predict Finish, 3.6572 2.8321 0.0966 0.8679 Evaluation Finish\n",
      "363: Data Load Finish, Predict Finish, 7.5499 6.8052 0.2396 0.7273 Evaluation Finish\n",
      "364: Data Load Finish, Predict Finish, 7.8001 7.2828 0.2568 0.7183 Evaluation Finish\n",
      "365: Data Load Finish, Predict Finish, 3.8146 3.2254 0.1254 0.8622 Evaluation Finish\n",
      "366: Data Load Finish, Predict Finish, 3.4534 2.7884 0.0958 0.8753 Evaluation Finish\n",
      "367: Data Load Finish, Predict Finish, 5.0439 4.2945 0.1671 0.8178 Evaluation Finish\n",
      "368: Data Load Finish, Predict Finish, 3.3277 2.6879 0.0928 0.8798 Evaluation Finish\n",
      "369: Data Load Finish, Predict Finish, 5.0298 4.0735 0.1391 0.8183 Evaluation Finish\n",
      "370: Data Load Finish, Predict Finish, 3.2229 2.9476 0.1079 0.8836 Evaluation Finish\n",
      "371: Data Load Finish, Predict Finish, 2.933 2.5381 0.0957 0.8941 Evaluation Finish\n",
      "372: Data Load Finish, Predict Finish, 14.3566 14.0709 0.5263 0.4815 Evaluation Finish\n",
      "373: Data Load Finish, Predict Finish, 5.2854 4.3166 0.1481 0.8091 Evaluation Finish\n",
      "374: Data Load Finish, Predict Finish, 8.8156 8.3402 0.3162 0.6816 Evaluation Finish\n",
      "375: Data Load Finish, Predict Finish, 35.0792 34.961 1.2926 -0.2669 Evaluation Finish\n",
      "376: Data Load Finish, Predict Finish, 54.9154 54.8445 2.0218 -0.9833 Evaluation Finish\n",
      "377: Data Load Finish, Predict Finish, 28.1343 27.985 1.0367 -0.0161 Evaluation Finish\n",
      "378: Data Load Finish, Predict Finish, 29.9164 29.6217 1.0966 -0.0804 Evaluation Finish\n",
      "379: Data Load Finish, Predict Finish, 3.3251 3.0093 0.1094 0.8799 Evaluation Finish\n",
      "380: Data Load Finish, Predict Finish, 8.4491 7.1977 0.2735 0.6949 Evaluation Finish\n",
      "381: Data Load Finish, Predict Finish, 4.2226 3.1883 0.1084 0.8475 Evaluation Finish\n",
      "382: Data Load Finish, Predict Finish, 3.2348 2.5497 0.0892 0.8832 Evaluation Finish\n",
      "383: Data Load Finish, Predict Finish, 3.1796 2.7479 0.0965 0.8852 Evaluation Finish\n",
      "384: Data Load Finish, Predict Finish, 3.5989 2.961 0.1018 0.87 Evaluation Finish\n",
      "385: Data Load Finish, "
     ]
    },
    {
     "name": "stderr",
     "output_type": "stream",
     "text": [
      "C:\\Users\\vfgtr554\\anaconda3\\envs\\cctv\\lib\\site-packages\\pandas\\core\\arraylike.py:364: RuntimeWarning: divide by zero encountered in log\n",
      "  result = getattr(ufunc, method)(*inputs, **kwargs)\n",
      "C:\\Users\\vfgtr554\\anaconda3\\envs\\cctv\\lib\\site-packages\\statsmodels\\base\\model.py:606: ConvergenceWarning: Maximum Likelihood optimization failed to converge. Check mle_retvals\n",
      "  ConvergenceWarning)\n"
     ]
    },
    {
     "name": "stdout",
     "output_type": "stream",
     "text": [
      "Predict Finish, 26.6945 26.5483 0.9633 0.0359 Evaluation Finish\n",
      "386: Data Load Finish, Predict Finish, 3.3745 2.9922 0.1144 0.8781 Evaluation Finish\n",
      "387: Data Load Finish, Predict Finish, 4.6232 3.8704 0.1507 0.833 Evaluation Finish\n",
      "388: Data Load Finish, Predict Finish, 3.1225 2.615 0.0916 0.8872 Evaluation Finish\n",
      "389: Data Load Finish, Predict Finish, 17.579 17.3538 0.6468 0.3651 Evaluation Finish\n",
      "390: Data Load Finish, "
     ]
    },
    {
     "name": "stderr",
     "output_type": "stream",
     "text": [
      "C:\\Users\\vfgtr554\\anaconda3\\envs\\cctv\\lib\\site-packages\\pandas\\core\\arraylike.py:364: RuntimeWarning: divide by zero encountered in log\n",
      "  result = getattr(ufunc, method)(*inputs, **kwargs)\n",
      "C:\\Users\\vfgtr554\\anaconda3\\envs\\cctv\\lib\\site-packages\\statsmodels\\base\\model.py:606: ConvergenceWarning: Maximum Likelihood optimization failed to converge. Check mle_retvals\n",
      "  ConvergenceWarning)\n"
     ]
    },
    {
     "name": "stdout",
     "output_type": "stream",
     "text": [
      "Predict Finish, 26.6945 26.5483 0.9633 0.0359 Evaluation Finish\n",
      "391: Data Load Finish, Predict Finish, 8.5603 8.0771 0.2858 0.6908 Evaluation Finish\n",
      "392: Data Load Finish, Predict Finish, 7.6248 7.0967 0.2499 0.7246 Evaluation Finish\n",
      "393: Data Load Finish, Predict Finish, 5.2285 4.088 0.1399 0.8112 Evaluation Finish\n",
      "394: Data Load Finish, Predict Finish, 4.1805 3.3418 0.1134 0.849 Evaluation Finish\n",
      "395: Data Load Finish, Predict Finish, 6.9734 6.3317 0.2221 0.7482 Evaluation Finish\n",
      "396: Data Load Finish, Predict Finish, 4.6051 3.6509 0.1237 0.8337 Evaluation Finish\n",
      "397: Data Load Finish, Predict Finish, 5.2824 4.415 0.171 0.8092 Evaluation Finish\n",
      "398: Data Load Finish, Predict Finish, 6.7436 6.0974 0.2136 0.7565 Evaluation Finish\n",
      "399: Data Load Finish, Predict Finish, 8.8649 8.4066 0.2979 0.6798 Evaluation Finish\n",
      "400: Data Load Finish, Predict Finish, 9.6468 9.1605 0.3254 0.6516 Evaluation Finish\n",
      "401: Data Load Finish, Predict Finish, 5.4894 4.7126 0.1626 0.8018 Evaluation Finish\n",
      "402: Data Load Finish, Predict Finish, 5.7379 4.8541 0.1679 0.7928 Evaluation Finish\n",
      "403: Data Load Finish, Predict Finish, 7.8997 7.2429 0.255 0.7147 Evaluation Finish\n",
      "404: Data Load Finish, Predict Finish, 6.9246 6.2491 0.219 0.7499 Evaluation Finish\n",
      "405: Data Load Finish, Predict Finish, 6.2811 5.5815 0.2151 0.7732 Evaluation Finish\n",
      "406: Data Load Finish, Predict Finish, 2.8442 2.4248 0.0907 0.8973 Evaluation Finish\n",
      "407: Data Load Finish, Predict Finish, 3.6237 2.9651 0.1158 0.8691 Evaluation Finish\n",
      "408: Data Load Finish, Predict Finish, 2.8477 2.4157 0.0891 0.8972 Evaluation Finish\n",
      "409: Data Load Finish, Predict Finish, 4.1292 3.5164 0.1356 0.8509 Evaluation Finish\n",
      "410: Data Load Finish, Predict Finish, 2.9899 2.5709 0.0909 0.892 Evaluation Finish\n",
      "411: Data Load Finish, Predict Finish, 4.9714 4.1029 0.1405 0.8205 Evaluation Finish\n",
      "412: Data Load Finish, Predict Finish, 11.8487 11.5148 0.4325 0.5721 Evaluation Finish\n",
      "413: Data Load Finish, Predict Finish, 6.9577 6.3358 0.2218 0.7487 Evaluation Finish\n",
      "414: Data Load Finish, Predict Finish, 2.9588 2.6625 0.0996 0.8931 Evaluation Finish\n",
      "415: Data Load Finish, Predict Finish, 3.0022 2.5773 0.0911 0.8916 Evaluation Finish\n",
      "416: Data Load Finish, Predict Finish, 3.9309 3.1457 0.1237 0.858 Evaluation Finish\n",
      "417: Data Load Finish, Predict Finish, 4.3754 3.5428 0.1223 0.842 Evaluation Finish\n",
      "418: Data Load Finish, Predict Finish, 14.9106 14.6275 0.5469 0.4615 Evaluation Finish\n",
      "419: Data Load Finish, Predict Finish, 9.0292 8.56 0.3034 0.6739 Evaluation Finish\n",
      "420: Data Load Finish, Predict Finish, 3.5038 3.1404 0.1154 0.8735 Evaluation Finish\n",
      "421: Data Load Finish, Predict Finish, 4.3553 3.4542 0.1361 0.8427 Evaluation Finish\n",
      "422: Data Load Finish, Predict Finish, 6.3186 5.616 0.1954 0.7718 Evaluation Finish\n",
      "423: Data Load Finish, Predict Finish, 3.131 2.7054 0.1035 0.8869 Evaluation Finish\n",
      "424: Data Load Finish, Predict Finish, 5.5291 4.5981 0.1764 0.8003 Evaluation Finish\n",
      "425: Data Load Finish, Predict Finish, 2.9834 2.6318 0.0944 0.8923 Evaluation Finish\n",
      "426: Data Load Finish, Predict Finish, 15.6651 15.4036 0.5753 0.4343 Evaluation Finish\n",
      "427: Data Load Finish, Predict Finish, 22.5818 22.4081 0.8322 0.1845 Evaluation Finish\n",
      "428: Data Load Finish, Predict Finish, 25.7057 25.5493 0.9475 0.0716 Evaluation Finish\n",
      "429: Data Load Finish, Predict Finish, 29.9941 29.7775 1.1025 -0.0832 Evaluation Finish\n",
      "430: Data Load Finish, Predict Finish, 30.989 30.8453 1.1419 -0.1192 Evaluation Finish\n",
      "431: Data Load Finish, Predict Finish, 21.9331 21.7552 0.8082 0.2079 Evaluation Finish\n",
      "432: Data Load Finish, Predict Finish, 10.9813 10.602 0.3783 0.6034 Evaluation Finish\n",
      "433: Data Load Finish, Predict Finish, 15.1397 14.881 0.5354 0.4532 Evaluation Finish\n",
      "434: Data Load Finish, Predict Finish, 7.5576 6.9911 0.2459 0.7271 Evaluation Finish\n",
      "435: Data Load Finish, Predict Finish, 9.5706 9.0575 0.3215 0.6544 Evaluation Finish\n",
      "436: Data Load Finish, Predict Finish, 10.183 9.7861 0.3488 0.6322 Evaluation Finish\n",
      "437: Data Load Finish, Predict Finish, 5.1756 4.2571 0.1462 0.8131 Evaluation Finish\n",
      "438: Data Load Finish, Predict Finish, 3.9222 3.2644 0.1122 0.8583 Evaluation Finish\n",
      "439: Data Load Finish, Predict Finish, 2.8044 2.4603 0.0896 0.8987 Evaluation Finish\n",
      "440: Data Load Finish, Predict Finish, 7.087 6.4915 0.2486 0.7441 Evaluation Finish\n",
      "441: Data Load Finish, Predict Finish, 3.4477 2.8578 0.1111 0.8755 Evaluation Finish\n",
      "442: Data Load Finish, Predict Finish, 4.8649 3.9988 0.1569 0.8243 Evaluation Finish\n",
      "443: Data Load Finish, Predict Finish, 7.5211 6.924 0.2433 0.7284 Evaluation Finish\n",
      "444: Data Load Finish, Predict Finish, 6.9311 6.34 0.2223 0.7497 Evaluation Finish\n",
      "445: Data Load Finish, Predict Finish, 8.8795 8.3512 0.2959 0.6793 Evaluation Finish\n",
      "446: Data Load Finish, Predict Finish, 3.1495 2.7154 0.0957 0.8863 Evaluation Finish\n",
      "447: Data Load Finish, Predict Finish, 3.151 2.6902 0.0944 0.8862 Evaluation Finish\n",
      "448: Data Load Finish, Predict Finish, 8.1063 7.6123 0.2895 0.7072 Evaluation Finish\n",
      "449: Data Load Finish, Predict Finish, 5.1547 4.316 0.148 0.8138 Evaluation Finish\n",
      "450: Data Load Finish, Predict Finish, 4.1593 3.2372 0.1094 0.8498 Evaluation Finish\n",
      "451: Data Load Finish, Predict Finish, 2.8878 2.4852 0.0937 0.8957 Evaluation Finish\n",
      "452: Data Load Finish, Predict Finish, 5.9094 5.206 0.1806 0.7866 Evaluation Finish\n",
      "453: Data Load Finish, Predict Finish, 3.4239 2.9306 0.1022 0.8763 Evaluation Finish\n",
      "454: Data Load Finish, "
     ]
    },
    {
     "name": "stderr",
     "output_type": "stream",
     "text": [
      "C:\\Users\\vfgtr554\\anaconda3\\envs\\cctv\\lib\\site-packages\\pandas\\core\\arraylike.py:364: RuntimeWarning: divide by zero encountered in log\n",
      "  result = getattr(ufunc, method)(*inputs, **kwargs)\n",
      "C:\\Users\\vfgtr554\\anaconda3\\envs\\cctv\\lib\\site-packages\\statsmodels\\base\\model.py:606: ConvergenceWarning: Maximum Likelihood optimization failed to converge. Check mle_retvals\n",
      "  ConvergenceWarning)\n"
     ]
    },
    {
     "name": "stdout",
     "output_type": "stream",
     "text": [
      "Predict Finish, 26.6945 26.5483 0.9633 0.0359 Evaluation Finish\n",
      "455: Data Load Finish, Predict Finish, 8.8652 8.3959 0.2976 0.6798 Evaluation Finish\n",
      "456: Data Load Finish, Predict Finish, 5.2348 4.3894 0.151 0.8109 Evaluation Finish\n",
      "457: Data Load Finish, Predict Finish, 6.4265 5.7781 0.2016 0.7679 Evaluation Finish\n",
      "458: Data Load Finish, Predict Finish, 4.7783 3.8188 0.1298 0.8274 Evaluation Finish\n",
      "459: Data Load Finish, Predict Finish, 2.9551 2.5344 0.0961 0.8933 Evaluation Finish\n",
      "460: Data Load Finish, Predict Finish, 9.1388 8.6986 0.3087 0.6699 Evaluation Finish\n",
      "461: Data Load Finish, Predict Finish, 4.0753 3.5191 0.1242 0.8528 Evaluation Finish\n",
      "462: Data Load Finish, Predict Finish, 4.4641 3.5386 0.1197 0.8388 Evaluation Finish\n",
      "463: Data Load Finish, Predict Finish, 5.6954 4.9667 0.1718 0.7943 Evaluation Finish\n",
      "464: Data Load Finish, Predict Finish, 2.8022 2.4293 0.0885 0.8988 Evaluation Finish\n",
      "465: Data Load Finish, Predict Finish, 6.7223 6.0407 0.2111 0.7572 Evaluation Finish\n",
      "466: Data Load Finish, Predict Finish, 9.333 8.8875 0.3156 0.6629 Evaluation Finish\n",
      "467: Data Load Finish, Predict Finish, 3.1863 2.8368 0.1046 0.8849 Evaluation Finish\n",
      "468: Data Load Finish, Predict Finish, 8.6212 8.1575 0.3095 0.6886 Evaluation Finish\n",
      "469: Data Load Finish, Predict Finish, 2.9946 2.5729 0.0978 0.8919 Evaluation Finish\n",
      "470: Data Load Finish, Predict Finish, 12.5165 12.0745 0.432 0.548 Evaluation Finish\n",
      "471: Data Load Finish, Predict Finish, 3.2108 2.8263 0.0997 0.884 Evaluation Finish\n",
      "472: Data Load Finish, Predict Finish, 11.0953 10.6865 0.3814 0.5993 Evaluation Finish\n",
      "473: Data Load Finish, Predict Finish, 4.7534 3.6302 0.1235 0.8283 Evaluation Finish\n",
      "474: Data Load Finish, Predict Finish, 5.4262 4.6701 0.1813 0.804 Evaluation Finish\n",
      "475: Data Load Finish, "
     ]
    },
    {
     "name": "stderr",
     "output_type": "stream",
     "text": [
      "C:\\Users\\vfgtr554\\anaconda3\\envs\\cctv\\lib\\site-packages\\pandas\\core\\arraylike.py:364: RuntimeWarning: divide by zero encountered in log\n",
      "  result = getattr(ufunc, method)(*inputs, **kwargs)\n",
      "C:\\Users\\vfgtr554\\anaconda3\\envs\\cctv\\lib\\site-packages\\statsmodels\\base\\model.py:606: ConvergenceWarning: Maximum Likelihood optimization failed to converge. Check mle_retvals\n",
      "  ConvergenceWarning)\n"
     ]
    },
    {
     "name": "stdout",
     "output_type": "stream",
     "text": [
      "Predict Finish, 26.6945 26.5483 0.9633 0.0359 Evaluation Finish\n",
      "476: Data Load Finish, Predict Finish, 4.8439 3.9314 0.1339 0.8251 Evaluation Finish\n",
      "477: Data Load Finish, Predict Finish, 3.6266 3.0237 0.1043 0.869 Evaluation Finish\n",
      "478: Data Load Finish, Predict Finish, 5.8734 5.0877 0.1763 0.7879 Evaluation Finish\n",
      "479: Data Load Finish, Predict Finish, 3.3512 2.8408 0.0987 0.879 Evaluation Finish\n",
      "480: Data Load Finish, Predict Finish, 8.2896 7.7993 0.2757 0.7006 Evaluation Finish\n",
      "481: Data Load Finish, Predict Finish, 3.0098 2.546 0.0897 0.8913 Evaluation Finish\n",
      "482: Data Load Finish, Predict Finish, 10.4633 10.0799 0.3593 0.6221 Evaluation Finish\n",
      "483: Data Load Finish, Predict Finish, 3.4288 2.7015 0.0928 0.8762 Evaluation Finish\n",
      "484: Data Load Finish, Predict Finish, 3.629 2.9778 0.1022 0.8689 Evaluation Finish\n",
      "485: Data Load Finish, Predict Finish, 2.8504 2.4359 0.0878 0.8971 Evaluation Finish\n",
      "486: Data Load Finish, Predict Finish, 4.0142 3.5104 0.1266 0.855 Evaluation Finish\n",
      "487: Data Load Finish, Predict Finish, 12.0244 11.689 0.4388 0.5657 Evaluation Finish\n",
      "488: Data Load Finish, Predict Finish, 4.425 3.6726 0.1438 0.8402 Evaluation Finish\n",
      "489: Data Load Finish, Predict Finish, 13.8305 13.5467 0.5072 0.5005 Evaluation Finish\n",
      "490: Data Load Finish, Predict Finish, 11.2061 10.8492 0.4081 0.5953 Evaluation Finish\n",
      "491: Data Load Finish, Predict Finish, 6.9324 6.3445 0.2225 0.7496 Evaluation Finish\n",
      "492: Data Load Finish, Predict Finish, 7.1528 6.5293 0.2294 0.7417 Evaluation Finish\n",
      "493: Data Load Finish, "
     ]
    },
    {
     "name": "stderr",
     "output_type": "stream",
     "text": [
      "C:\\Users\\vfgtr554\\anaconda3\\envs\\cctv\\lib\\site-packages\\pandas\\core\\arraylike.py:364: RuntimeWarning: divide by zero encountered in log\n",
      "  result = getattr(ufunc, method)(*inputs, **kwargs)\n",
      "C:\\Users\\vfgtr554\\anaconda3\\envs\\cctv\\lib\\site-packages\\statsmodels\\base\\model.py:606: ConvergenceWarning: Maximum Likelihood optimization failed to converge. Check mle_retvals\n",
      "  ConvergenceWarning)\n"
     ]
    },
    {
     "name": "stdout",
     "output_type": "stream",
     "text": [
      "Predict Finish, 26.6945 26.5483 0.9633 0.0359 Evaluation Finish\n",
      "494: Data Load Finish, Predict Finish, 6.9954 6.2137 0.2172 0.7474 Evaluation Finish\n",
      "495: Data Load Finish, Predict Finish, 2.8377 2.4714 0.089 0.8975 Evaluation Finish\n",
      "496: Data Load Finish, Predict Finish, 2.8834 2.5008 0.0893 0.8959 Evaluation Finish\n",
      "497: Data Load Finish, Predict Finish, 2.9544 2.4757 0.0876 0.8933 Evaluation Finish\n",
      "498: Data Load Finish, Predict Finish, 5.5548 4.8041 0.1865 0.7994 Evaluation Finish\n",
      "499: Data Load Finish, Predict Finish, 2.9229 2.5707 0.0961 0.8944 Evaluation Finish\n",
      "500: Data Load Finish, "
     ]
    },
    {
     "name": "stderr",
     "output_type": "stream",
     "text": [
      "C:\\Users\\vfgtr554\\anaconda3\\envs\\cctv\\lib\\site-packages\\pandas\\core\\arraylike.py:364: RuntimeWarning: divide by zero encountered in log\n",
      "  result = getattr(ufunc, method)(*inputs, **kwargs)\n",
      "C:\\Users\\vfgtr554\\anaconda3\\envs\\cctv\\lib\\site-packages\\statsmodels\\base\\model.py:606: ConvergenceWarning: Maximum Likelihood optimization failed to converge. Check mle_retvals\n",
      "  ConvergenceWarning)\n"
     ]
    },
    {
     "name": "stdout",
     "output_type": "stream",
     "text": [
      "Predict Finish, 26.6945 26.5483 0.9633 0.0359 Evaluation Finish\n",
      "501: Data Load Finish, Predict Finish, 3.0652 2.7208 0.1032 0.8893 Evaluation Finish\n",
      "502: Data Load Finish, Predict Finish, 2.8089 2.4012 0.0893 0.8986 Evaluation Finish\n",
      "503: Data Load Finish, Predict Finish, 4.4822 3.3911 0.1147 0.8381 Evaluation Finish\n",
      "504: Data Load Finish, Predict Finish, 2.7926 2.4176 0.0893 0.8991 Evaluation Finish\n",
      "505: Data Load Finish, Predict Finish, 8.2482 7.7414 0.2734 0.7021 Evaluation Finish\n",
      "RMSE: 8.860893671499456, MAE: 8.315694943171485, MAPE: 0.3017630772319299\n",
      "ACC: 0.6840676154919284\n"
     ]
    }
   ],
   "source": [
    "predictARIMA(df, idx, 12)"
   ]
  },
  {
   "cell_type": "markdown",
   "id": "8624171f",
   "metadata": {},
   "source": [
    "### Unobserved Nodes = 20%"
   ]
  },
  {
   "cell_type": "code",
   "execution_count": 14,
   "id": "a8313c43",
   "metadata": {},
   "outputs": [
    {
     "name": "stdout",
     "output_type": "stream",
     "text": [
      "2880 506\n"
     ]
    },
    {
     "data": {
      "text/plain": [
       "290880"
      ]
     },
     "execution_count": 14,
     "metadata": {},
     "output_type": "execute_result"
    }
   ],
   "source": [
    "df, idx = csvIndexToDatetime(path_20, start, freq)\n",
    "(df == 0).sum().sum()"
   ]
  },
  {
   "cell_type": "code",
   "execution_count": 15,
   "id": "5ce0fefa",
   "metadata": {
    "scrolled": false
   },
   "outputs": [
    {
     "name": "stdout",
     "output_type": "stream",
     "text": [
      "0: Data Load Finish, Predict Finish, 2.7873 2.4036 0.0885 0.8993 Evaluation Finish\n",
      "1: Data Load Finish, Predict Finish, 3.7924 3.0657 0.1047 0.863 Evaluation Finish\n",
      "2: Data Load Finish, Predict Finish, 6.7166 6.106 0.2343 0.7574 Evaluation Finish\n",
      "3: Data Load Finish, "
     ]
    },
    {
     "name": "stderr",
     "output_type": "stream",
     "text": [
      "C:\\Users\\vfgtr554\\anaconda3\\envs\\cctv\\lib\\site-packages\\pandas\\core\\arraylike.py:364: RuntimeWarning: divide by zero encountered in log\n",
      "  result = getattr(ufunc, method)(*inputs, **kwargs)\n",
      "C:\\Users\\vfgtr554\\anaconda3\\envs\\cctv\\lib\\site-packages\\statsmodels\\base\\model.py:606: ConvergenceWarning: Maximum Likelihood optimization failed to converge. Check mle_retvals\n",
      "  ConvergenceWarning)\n"
     ]
    },
    {
     "name": "stdout",
     "output_type": "stream",
     "text": [
      "Predict Finish, 26.6945 26.5483 0.9633 0.0359 Evaluation Finish\n",
      "4: Data Load Finish, Predict Finish, 7.8211 7.1486 0.2522 0.7175 Evaluation Finish\n",
      "5: Data Load Finish, Predict Finish, 6.4856 5.7711 0.2011 0.7658 Evaluation Finish\n",
      "6: Data Load Finish, Predict Finish, 3.013 2.612 0.0932 0.8912 Evaluation Finish\n",
      "7: Data Load Finish, Predict Finish, 9.5495 9.1278 0.3244 0.6551 Evaluation Finish\n",
      "8: Data Load Finish, "
     ]
    },
    {
     "name": "stderr",
     "output_type": "stream",
     "text": [
      "C:\\Users\\vfgtr554\\anaconda3\\envs\\cctv\\lib\\site-packages\\pandas\\core\\arraylike.py:364: RuntimeWarning: divide by zero encountered in log\n",
      "  result = getattr(ufunc, method)(*inputs, **kwargs)\n",
      "C:\\Users\\vfgtr554\\anaconda3\\envs\\cctv\\lib\\site-packages\\statsmodels\\base\\model.py:606: ConvergenceWarning: Maximum Likelihood optimization failed to converge. Check mle_retvals\n",
      "  ConvergenceWarning)\n"
     ]
    },
    {
     "name": "stdout",
     "output_type": "stream",
     "text": [
      "Predict Finish, 26.6945 26.5483 0.9633 0.0359 Evaluation Finish\n",
      "9: Data Load Finish, "
     ]
    },
    {
     "name": "stderr",
     "output_type": "stream",
     "text": [
      "C:\\Users\\vfgtr554\\anaconda3\\envs\\cctv\\lib\\site-packages\\statsmodels\\base\\model.py:606: ConvergenceWarning: Maximum Likelihood optimization failed to converge. Check mle_retvals\n",
      "  ConvergenceWarning)\n",
      "C:\\Users\\vfgtr554\\anaconda3\\envs\\cctv\\lib\\site-packages\\pandas\\core\\arraylike.py:364: RuntimeWarning: divide by zero encountered in log\n",
      "  result = getattr(ufunc, method)(*inputs, **kwargs)\n"
     ]
    },
    {
     "name": "stdout",
     "output_type": "stream",
     "text": [
      "Predict Finish, 8.7375 8.2804 0.2933 0.6844 Evaluation Finish\n",
      "10: Data Load Finish, "
     ]
    },
    {
     "name": "stderr",
     "output_type": "stream",
     "text": [
      "C:\\Users\\vfgtr554\\anaconda3\\envs\\cctv\\lib\\site-packages\\statsmodels\\base\\model.py:606: ConvergenceWarning: Maximum Likelihood optimization failed to converge. Check mle_retvals\n",
      "  ConvergenceWarning)\n"
     ]
    },
    {
     "name": "stdout",
     "output_type": "stream",
     "text": [
      "Predict Finish, 26.6945 26.5483 0.9633 0.0359 Evaluation Finish\n",
      "11: Data Load Finish, Predict Finish, 3.1435 2.6236 0.0917 0.8865 Evaluation Finish\n",
      "12: Data Load Finish, Predict Finish, 15.9716 15.7129 0.5868 0.4232 Evaluation Finish\n",
      "13: Data Load Finish, Predict Finish, 25.594 25.4393 0.9433 0.0757 Evaluation Finish\n",
      "14: Data Load Finish, Predict Finish, 28.8289 28.6851 1.0624 -0.0412 Evaluation Finish\n",
      "15: Data Load Finish, Predict Finish, 17.1789 16.9477 0.6319 0.3796 Evaluation Finish\n",
      "16: Data Load Finish, Predict Finish, 4.7104 3.9606 0.1537 0.8299 Evaluation Finish\n",
      "17: Data Load Finish, "
     ]
    },
    {
     "name": "stderr",
     "output_type": "stream",
     "text": [
      "C:\\Users\\vfgtr554\\anaconda3\\envs\\cctv\\lib\\site-packages\\pandas\\core\\arraylike.py:364: RuntimeWarning: divide by zero encountered in log\n",
      "  result = getattr(ufunc, method)(*inputs, **kwargs)\n",
      "C:\\Users\\vfgtr554\\anaconda3\\envs\\cctv\\lib\\site-packages\\statsmodels\\base\\model.py:606: ConvergenceWarning: Maximum Likelihood optimization failed to converge. Check mle_retvals\n",
      "  ConvergenceWarning)\n"
     ]
    },
    {
     "name": "stdout",
     "output_type": "stream",
     "text": [
      "Predict Finish, 26.6945 26.5483 0.9633 0.0359 Evaluation Finish\n",
      "18: Data Load Finish, Predict Finish, 3.2412 2.567 0.0901 0.8829 Evaluation Finish\n",
      "19: Data Load Finish, "
     ]
    },
    {
     "name": "stderr",
     "output_type": "stream",
     "text": [
      "C:\\Users\\vfgtr554\\anaconda3\\envs\\cctv\\lib\\site-packages\\pandas\\core\\arraylike.py:364: RuntimeWarning: divide by zero encountered in log\n",
      "  result = getattr(ufunc, method)(*inputs, **kwargs)\n",
      "C:\\Users\\vfgtr554\\anaconda3\\envs\\cctv\\lib\\site-packages\\statsmodels\\base\\model.py:606: ConvergenceWarning: Maximum Likelihood optimization failed to converge. Check mle_retvals\n",
      "  ConvergenceWarning)\n"
     ]
    },
    {
     "name": "stdout",
     "output_type": "stream",
     "text": [
      "Predict Finish, 26.6945 26.5483 0.9633 0.0359 Evaluation Finish\n",
      "20: Data Load Finish, Predict Finish, 9.231 8.7655 0.3111 0.6666 Evaluation Finish\n",
      "21: Data Load Finish, "
     ]
    },
    {
     "name": "stderr",
     "output_type": "stream",
     "text": [
      "C:\\Users\\vfgtr554\\anaconda3\\envs\\cctv\\lib\\site-packages\\pandas\\core\\arraylike.py:364: RuntimeWarning: divide by zero encountered in log\n",
      "  result = getattr(ufunc, method)(*inputs, **kwargs)\n",
      "C:\\Users\\vfgtr554\\anaconda3\\envs\\cctv\\lib\\site-packages\\statsmodels\\base\\model.py:606: ConvergenceWarning: Maximum Likelihood optimization failed to converge. Check mle_retvals\n",
      "  ConvergenceWarning)\n"
     ]
    },
    {
     "name": "stdout",
     "output_type": "stream",
     "text": [
      "Predict Finish, 26.6945 26.5483 0.9633 0.0359 Evaluation Finish\n",
      "22: Data Load Finish, Predict Finish, 3.2974 2.6078 0.09 0.8809 Evaluation Finish\n",
      "23: Data Load Finish, Predict Finish, 3.8114 3.4058 0.1286 0.8624 Evaluation Finish\n",
      "24: Data Load Finish, Predict Finish, 13.1675 12.8618 0.482 0.5245 Evaluation Finish\n",
      "25: Data Load Finish, Predict Finish, 4.2185 3.4415 0.1173 0.8476 Evaluation Finish\n",
      "26: Data Load Finish, Predict Finish, 4.6209 3.7627 0.1284 0.8331 Evaluation Finish\n",
      "27: Data Load Finish, Predict Finish, 5.4033 4.6268 0.1594 0.8049 Evaluation Finish\n",
      "28: Data Load Finish, Predict Finish, 5.2131 4.4185 0.172 0.8117 Evaluation Finish\n",
      "29: Data Load Finish, Predict Finish, 4.0271 3.1351 0.1061 0.8546 Evaluation Finish\n",
      "30: Data Load Finish, Predict Finish, 3.0966 2.7534 0.1045 0.8882 Evaluation Finish\n",
      "31: Data Load Finish, Predict Finish, 2.8706 2.4319 0.087 0.8963 Evaluation Finish\n",
      "32: "
     ]
    },
    {
     "name": "stderr",
     "output_type": "stream",
     "text": [
      "C:\\Users\\vfgtr554\\anaconda3\\envs\\cctv\\lib\\site-packages\\pandas\\core\\arraylike.py:364: RuntimeWarning: divide by zero encountered in log\n",
      "  result = getattr(ufunc, method)(*inputs, **kwargs)\n"
     ]
    },
    {
     "name": "stdout",
     "output_type": "stream",
     "text": [
      "Data Load Finish, "
     ]
    },
    {
     "name": "stderr",
     "output_type": "stream",
     "text": [
      "C:\\Users\\vfgtr554\\anaconda3\\envs\\cctv\\lib\\site-packages\\statsmodels\\base\\model.py:606: ConvergenceWarning: Maximum Likelihood optimization failed to converge. Check mle_retvals\n",
      "  ConvergenceWarning)\n",
      "C:\\Users\\vfgtr554\\anaconda3\\envs\\cctv\\lib\\site-packages\\pandas\\core\\arraylike.py:364: RuntimeWarning: divide by zero encountered in log\n",
      "  result = getattr(ufunc, method)(*inputs, **kwargs)\n"
     ]
    },
    {
     "name": "stdout",
     "output_type": "stream",
     "text": [
      "Predict Finish, 26.6945 26.5483 0.9633 0.0359 Evaluation Finish\n",
      "33: Data Load Finish, "
     ]
    },
    {
     "name": "stderr",
     "output_type": "stream",
     "text": [
      "C:\\Users\\vfgtr554\\anaconda3\\envs\\cctv\\lib\\site-packages\\statsmodels\\base\\model.py:606: ConvergenceWarning: Maximum Likelihood optimization failed to converge. Check mle_retvals\n",
      "  ConvergenceWarning)\n"
     ]
    },
    {
     "name": "stdout",
     "output_type": "stream",
     "text": [
      "Predict Finish, 26.6945 26.5483 0.9633 0.0359 Evaluation Finish\n",
      "34: Data Load Finish, Predict Finish, 3.737 3.1336 0.1083 0.865 Evaluation Finish\n",
      "35: Data Load Finish, Predict Finish, 6.3807 5.4872 0.1913 0.7696 Evaluation Finish\n",
      "36: Data Load Finish, Predict Finish, 5.0787 4.2462 0.1454 0.8166 Evaluation Finish\n",
      "37: Data Load Finish, Predict Finish, 4.5585 3.5663 0.1207 0.8354 Evaluation Finish\n",
      "38: Data Load Finish, Predict Finish, 6.5653 5.8838 0.2057 0.7629 Evaluation Finish\n",
      "39: Data Load Finish, Predict Finish, 2.9532 2.5425 0.0901 0.8933 Evaluation Finish\n",
      "40: Data Load Finish, Predict Finish, 5.3907 4.3737 0.1496 0.8053 Evaluation Finish\n",
      "41: Data Load Finish, Predict Finish, 8.2065 7.603 0.269 0.7036 Evaluation Finish\n",
      "42: Data Load Finish, Predict Finish, 6.5643 5.8652 0.2052 0.7629 Evaluation Finish\n",
      "43: Data Load Finish, "
     ]
    },
    {
     "name": "stderr",
     "output_type": "stream",
     "text": [
      "C:\\Users\\vfgtr554\\anaconda3\\envs\\cctv\\lib\\site-packages\\pandas\\core\\arraylike.py:364: RuntimeWarning: divide by zero encountered in log\n",
      "  result = getattr(ufunc, method)(*inputs, **kwargs)\n",
      "C:\\Users\\vfgtr554\\anaconda3\\envs\\cctv\\lib\\site-packages\\statsmodels\\base\\model.py:606: ConvergenceWarning: Maximum Likelihood optimization failed to converge. Check mle_retvals\n",
      "  ConvergenceWarning)\n"
     ]
    },
    {
     "name": "stdout",
     "output_type": "stream",
     "text": [
      "Predict Finish, 26.6945 26.5483 0.9633 0.0359 Evaluation Finish\n",
      "44: Data Load Finish, Predict Finish, 3.1574 2.6701 0.1027 0.886 Evaluation Finish\n",
      "45: Data Load Finish, Predict Finish, 9.4551 9.0154 0.3203 0.6585 Evaluation Finish\n",
      "46: Data Load Finish, "
     ]
    },
    {
     "name": "stderr",
     "output_type": "stream",
     "text": [
      "C:\\Users\\vfgtr554\\anaconda3\\envs\\cctv\\lib\\site-packages\\pandas\\core\\arraylike.py:364: RuntimeWarning: divide by zero encountered in log\n",
      "  result = getattr(ufunc, method)(*inputs, **kwargs)\n",
      "C:\\Users\\vfgtr554\\anaconda3\\envs\\cctv\\lib\\site-packages\\statsmodels\\base\\model.py:606: ConvergenceWarning: Maximum Likelihood optimization failed to converge. Check mle_retvals\n",
      "  ConvergenceWarning)\n"
     ]
    },
    {
     "name": "stdout",
     "output_type": "stream",
     "text": [
      "Predict Finish, 26.6945 26.5483 0.9633 0.0359 Evaluation Finish\n",
      "47: Data Load Finish, Predict Finish, 4.7355 3.8231 0.1298 0.829 Evaluation Finish\n",
      "48: Data Load Finish, "
     ]
    },
    {
     "name": "stderr",
     "output_type": "stream",
     "text": [
      "C:\\Users\\vfgtr554\\anaconda3\\envs\\cctv\\lib\\site-packages\\pandas\\core\\arraylike.py:364: RuntimeWarning: divide by zero encountered in log\n",
      "  result = getattr(ufunc, method)(*inputs, **kwargs)\n",
      "C:\\Users\\vfgtr554\\anaconda3\\envs\\cctv\\lib\\site-packages\\statsmodels\\base\\model.py:606: ConvergenceWarning: Maximum Likelihood optimization failed to converge. Check mle_retvals\n",
      "  ConvergenceWarning)\n"
     ]
    },
    {
     "name": "stdout",
     "output_type": "stream",
     "text": [
      "Predict Finish, 26.6945 26.5483 0.9633 0.0359 Evaluation Finish\n",
      "49: Data Load Finish, Predict Finish, 2.9725 2.6211 0.0973 0.8926 Evaluation Finish\n",
      "50: Data Load Finish, Predict Finish, 3.7001 2.9731 0.1015 0.8664 Evaluation Finish\n",
      "51: Data Load Finish, Predict Finish, 6.9385 6.3163 0.2215 0.7494 Evaluation Finish\n",
      "52: Data Load Finish, Predict Finish, 10.4103 9.9951 0.3566 0.624 Evaluation Finish\n",
      "53: Data Load Finish, Predict Finish, 12.9098 12.5939 0.4514 0.5338 Evaluation Finish\n",
      "54: Data Load Finish, Predict Finish, 11.1047 10.749 0.3839 0.599 Evaluation Finish\n",
      "55: Data Load Finish, Predict Finish, 3.6042 3.0412 0.1181 0.8698 Evaluation Finish\n",
      "56: Data Load Finish, Predict Finish, 9.2295 8.798 0.333 0.6667 Evaluation Finish\n",
      "57: Data Load Finish, Predict Finish, 3.4918 2.8983 0.1127 0.8739 Evaluation Finish\n",
      "58: Data Load Finish, Predict Finish, 14.5892 14.2942 0.5346 0.4731 Evaluation Finish\n",
      "59: Data Load Finish, Predict Finish, 6.5775 5.9545 0.2287 0.7625 Evaluation Finish\n",
      "60: Data Load Finish, "
     ]
    },
    {
     "name": "stderr",
     "output_type": "stream",
     "text": [
      "C:\\Users\\vfgtr554\\anaconda3\\envs\\cctv\\lib\\site-packages\\pandas\\core\\arraylike.py:364: RuntimeWarning: divide by zero encountered in log\n",
      "  result = getattr(ufunc, method)(*inputs, **kwargs)\n",
      "C:\\Users\\vfgtr554\\anaconda3\\envs\\cctv\\lib\\site-packages\\statsmodels\\base\\model.py:606: ConvergenceWarning: Maximum Likelihood optimization failed to converge. Check mle_retvals\n",
      "  ConvergenceWarning)\n"
     ]
    },
    {
     "name": "stdout",
     "output_type": "stream",
     "text": [
      "Predict Finish, 26.6945 26.5483 0.9633 0.0359 Evaluation Finish\n",
      "61: Data Load Finish, Predict Finish, 7.3212 6.7674 0.2378 0.7356 Evaluation Finish\n",
      "62: Data Load Finish, "
     ]
    },
    {
     "name": "stderr",
     "output_type": "stream",
     "text": [
      "C:\\Users\\vfgtr554\\anaconda3\\envs\\cctv\\lib\\site-packages\\pandas\\core\\arraylike.py:364: RuntimeWarning: divide by zero encountered in log\n",
      "  result = getattr(ufunc, method)(*inputs, **kwargs)\n",
      "C:\\Users\\vfgtr554\\anaconda3\\envs\\cctv\\lib\\site-packages\\statsmodels\\base\\model.py:606: ConvergenceWarning: Maximum Likelihood optimization failed to converge. Check mle_retvals\n",
      "  ConvergenceWarning)\n"
     ]
    },
    {
     "name": "stdout",
     "output_type": "stream",
     "text": [
      "Predict Finish, 26.6945 26.5483 0.9633 0.0359 Evaluation Finish\n",
      "63: Data Load Finish, Predict Finish, 4.1873 3.5168 0.1364 0.8488 Evaluation Finish\n",
      "64: Data Load Finish, Predict Finish, 6.9778 6.2169 0.2386 0.748 Evaluation Finish\n",
      "65: Data Load Finish, Predict Finish, 6.4237 5.4966 0.191 0.768 Evaluation Finish\n",
      "66: Data Load Finish, Predict Finish, 2.7996 2.4558 0.0895 0.8989 Evaluation Finish\n",
      "67: Data Load Finish, Predict Finish, 6.8551 6.1781 0.2161 0.7524 Evaluation Finish\n",
      "68: Data Load Finish, Predict Finish, 3.8707 2.9895 0.1014 0.8602 Evaluation Finish\n",
      "69: "
     ]
    },
    {
     "name": "stderr",
     "output_type": "stream",
     "text": [
      "C:\\Users\\vfgtr554\\anaconda3\\envs\\cctv\\lib\\site-packages\\pandas\\core\\arraylike.py:364: RuntimeWarning: divide by zero encountered in log\n",
      "  result = getattr(ufunc, method)(*inputs, **kwargs)\n"
     ]
    },
    {
     "name": "stdout",
     "output_type": "stream",
     "text": [
      "Data Load Finish, "
     ]
    },
    {
     "name": "stderr",
     "output_type": "stream",
     "text": [
      "C:\\Users\\vfgtr554\\anaconda3\\envs\\cctv\\lib\\site-packages\\statsmodels\\base\\model.py:606: ConvergenceWarning: Maximum Likelihood optimization failed to converge. Check mle_retvals\n",
      "  ConvergenceWarning)\n"
     ]
    },
    {
     "name": "stdout",
     "output_type": "stream",
     "text": [
      "Predict Finish, 26.6945 26.5483 0.9633 0.0359 Evaluation Finish\n",
      "70: Data Load Finish, Predict Finish, 25.2287 25.0704 0.9296 0.0889 Evaluation Finish\n",
      "71: Data Load Finish, Predict Finish, 30.9996 30.8742 1.1426 -0.1196 Evaluation Finish\n",
      "72: Data Load Finish, Predict Finish, 31.2244 31.0806 1.1502 -0.1277 Evaluation Finish\n",
      "73: Data Load Finish, Predict Finish, 25.1499 24.9215 0.9244 0.0917 Evaluation Finish\n",
      "74: Data Load Finish, Predict Finish, 30.5591 30.4314 1.1264 -0.1036 Evaluation Finish\n",
      "75: Data Load Finish, Predict Finish, 15.797 15.5482 0.5805 0.4295 Evaluation Finish\n",
      "76: Data Load Finish, "
     ]
    },
    {
     "name": "stderr",
     "output_type": "stream",
     "text": [
      "C:\\Users\\vfgtr554\\anaconda3\\envs\\cctv\\lib\\site-packages\\pandas\\core\\arraylike.py:364: RuntimeWarning: divide by zero encountered in log\n",
      "  result = getattr(ufunc, method)(*inputs, **kwargs)\n",
      "C:\\Users\\vfgtr554\\anaconda3\\envs\\cctv\\lib\\site-packages\\statsmodels\\base\\model.py:606: ConvergenceWarning: Maximum Likelihood optimization failed to converge. Check mle_retvals\n",
      "  ConvergenceWarning)\n"
     ]
    },
    {
     "name": "stdout",
     "output_type": "stream",
     "text": [
      "Predict Finish, 26.6945 26.5483 0.9633 0.0359 Evaluation Finish\n",
      "77: Data Load Finish, Predict Finish, 2.862 2.4877 0.0895 0.8966 Evaluation Finish\n",
      "78: "
     ]
    },
    {
     "name": "stderr",
     "output_type": "stream",
     "text": [
      "C:\\Users\\vfgtr554\\anaconda3\\envs\\cctv\\lib\\site-packages\\pandas\\core\\arraylike.py:364: RuntimeWarning: divide by zero encountered in log\n",
      "  result = getattr(ufunc, method)(*inputs, **kwargs)\n"
     ]
    },
    {
     "name": "stdout",
     "output_type": "stream",
     "text": [
      "Data Load Finish, "
     ]
    },
    {
     "name": "stderr",
     "output_type": "stream",
     "text": [
      "C:\\Users\\vfgtr554\\anaconda3\\envs\\cctv\\lib\\site-packages\\statsmodels\\base\\model.py:606: ConvergenceWarning: Maximum Likelihood optimization failed to converge. Check mle_retvals\n",
      "  ConvergenceWarning)\n"
     ]
    },
    {
     "name": "stdout",
     "output_type": "stream",
     "text": [
      "Predict Finish, 26.6945 26.5483 0.9633 0.0359 Evaluation Finish\n",
      "79: Data Load Finish, Predict Finish, 3.896 3.403 0.1217 0.8593 Evaluation Finish\n",
      "80: Data Load Finish, Predict Finish, 4.136 3.2387 0.1277 0.8506 Evaluation Finish\n",
      "81: Data Load Finish, Predict Finish, 11.8959 11.5642 0.4138 0.5704 Evaluation Finish\n",
      "82: Data Load Finish, Predict Finish, 5.5206 4.7647 0.1851 0.8006 Evaluation Finish\n",
      "83: Data Load Finish, Predict Finish, 3.4561 2.7615 0.0949 0.8752 Evaluation Finish\n",
      "84: Data Load Finish, Predict Finish, 11.9529 11.6229 0.4366 0.5683 Evaluation Finish\n",
      "85: Data Load Finish, "
     ]
    },
    {
     "name": "stderr",
     "output_type": "stream",
     "text": [
      "C:\\Users\\vfgtr554\\anaconda3\\envs\\cctv\\lib\\site-packages\\pandas\\core\\arraylike.py:364: RuntimeWarning: divide by zero encountered in log\n",
      "  result = getattr(ufunc, method)(*inputs, **kwargs)\n",
      "C:\\Users\\vfgtr554\\anaconda3\\envs\\cctv\\lib\\site-packages\\statsmodels\\base\\model.py:606: ConvergenceWarning: Maximum Likelihood optimization failed to converge. Check mle_retvals\n",
      "  ConvergenceWarning)\n"
     ]
    },
    {
     "name": "stdout",
     "output_type": "stream",
     "text": [
      "Predict Finish, 26.6945 26.5483 0.9633 0.0359 Evaluation Finish\n",
      "86: Data Load Finish, Predict Finish, 5.4085 4.625 0.1799 0.8047 Evaluation Finish\n",
      "87: Data Load Finish, Predict Finish, 3.5671 2.9481 0.1015 0.8712 Evaluation Finish\n",
      "88: Data Load Finish, Predict Finish, 3.2364 2.6563 0.1027 0.8831 Evaluation Finish\n",
      "89: Data Load Finish, Predict Finish, 2.9188 2.5658 0.0923 0.8946 Evaluation Finish\n",
      "90: Data Load Finish, "
     ]
    },
    {
     "name": "stderr",
     "output_type": "stream",
     "text": [
      "C:\\Users\\vfgtr554\\anaconda3\\envs\\cctv\\lib\\site-packages\\pandas\\core\\arraylike.py:364: RuntimeWarning: divide by zero encountered in log\n",
      "  result = getattr(ufunc, method)(*inputs, **kwargs)\n",
      "C:\\Users\\vfgtr554\\anaconda3\\envs\\cctv\\lib\\site-packages\\statsmodels\\base\\model.py:606: ConvergenceWarning: Maximum Likelihood optimization failed to converge. Check mle_retvals\n",
      "  ConvergenceWarning)\n"
     ]
    },
    {
     "name": "stdout",
     "output_type": "stream",
     "text": [
      "Predict Finish, 26.6945 26.5483 0.9633 0.0359 Evaluation Finish\n",
      "91: Data Load Finish, Predict Finish, 10.965 10.6026 0.3992 0.604 Evaluation Finish\n",
      "92: Data Load Finish, Predict Finish, 3.4158 3.0615 0.1166 0.8766 Evaluation Finish\n",
      "93: Data Load Finish, Predict Finish, 4.4358 3.5106 0.1189 0.8398 Evaluation Finish\n",
      "94: Data Load Finish, Predict Finish, 2.8066 2.4624 0.0895 0.8986 Evaluation Finish\n",
      "95: Data Load Finish, Predict Finish, 5.7774 5.0551 0.1751 0.7913 Evaluation Finish\n",
      "96: Data Load Finish, "
     ]
    },
    {
     "name": "stderr",
     "output_type": "stream",
     "text": [
      "C:\\Users\\vfgtr554\\anaconda3\\envs\\cctv\\lib\\site-packages\\pandas\\core\\arraylike.py:364: RuntimeWarning: divide by zero encountered in log\n",
      "  result = getattr(ufunc, method)(*inputs, **kwargs)\n",
      "C:\\Users\\vfgtr554\\anaconda3\\envs\\cctv\\lib\\site-packages\\statsmodels\\base\\model.py:606: ConvergenceWarning: Maximum Likelihood optimization failed to converge. Check mle_retvals\n",
      "  ConvergenceWarning)\n"
     ]
    },
    {
     "name": "stdout",
     "output_type": "stream",
     "text": [
      "Predict Finish, 26.6945 26.5483 0.9633 0.0359 Evaluation Finish\n",
      "97: Data Load Finish, Predict Finish, 3.4113 3.0709 0.1161 0.8768 Evaluation Finish\n",
      "98: Data Load Finish, Predict Finish, 5.1381 3.9521 0.1351 0.8144 Evaluation Finish\n",
      "99: Data Load Finish, "
     ]
    },
    {
     "name": "stderr",
     "output_type": "stream",
     "text": [
      "C:\\Users\\vfgtr554\\anaconda3\\envs\\cctv\\lib\\site-packages\\pandas\\core\\arraylike.py:364: RuntimeWarning: divide by zero encountered in log\n",
      "  result = getattr(ufunc, method)(*inputs, **kwargs)\n",
      "C:\\Users\\vfgtr554\\anaconda3\\envs\\cctv\\lib\\site-packages\\statsmodels\\base\\model.py:606: ConvergenceWarning: Maximum Likelihood optimization failed to converge. Check mle_retvals\n",
      "  ConvergenceWarning)\n"
     ]
    },
    {
     "name": "stdout",
     "output_type": "stream",
     "text": [
      "Predict Finish, 26.6945 26.5483 0.9633 0.0359 Evaluation Finish\n",
      "100: Data Load Finish, Predict Finish, 3.9516 3.2071 0.1094 0.8573 Evaluation Finish\n",
      "101: Data Load Finish, Predict Finish, 7.9851 7.4734 0.2845 0.7116 Evaluation Finish\n",
      "102: Data Load Finish, Predict Finish, 10.8237 10.4366 0.3723 0.6091 Evaluation Finish\n",
      "103: Data Load Finish, Predict Finish, 3.1565 2.6462 0.1019 0.886 Evaluation Finish\n",
      "104: Data Load Finish, "
     ]
    },
    {
     "name": "stderr",
     "output_type": "stream",
     "text": [
      "C:\\Users\\vfgtr554\\anaconda3\\envs\\cctv\\lib\\site-packages\\statsmodels\\base\\model.py:606: ConvergenceWarning: Maximum Likelihood optimization failed to converge. Check mle_retvals\n",
      "  ConvergenceWarning)\n"
     ]
    },
    {
     "name": "stdout",
     "output_type": "stream",
     "text": [
      "Predict Finish, 2.8252 2.4193 0.0873 0.898 Evaluation Finish\n",
      "105: Data Load Finish, Predict Finish, 4.209 3.4318 0.117 0.848 Evaluation Finish\n",
      "106: Data Load Finish, Predict Finish, 2.9466 2.5341 0.0898 0.8936 Evaluation Finish\n",
      "107: Data Load Finish, Predict Finish, 5.9461 5.2515 0.2028 0.7853 Evaluation Finish\n",
      "108: Data Load Finish, "
     ]
    },
    {
     "name": "stderr",
     "output_type": "stream",
     "text": [
      "C:\\Users\\vfgtr554\\anaconda3\\envs\\cctv\\lib\\site-packages\\pandas\\core\\arraylike.py:364: RuntimeWarning: divide by zero encountered in log\n",
      "  result = getattr(ufunc, method)(*inputs, **kwargs)\n",
      "C:\\Users\\vfgtr554\\anaconda3\\envs\\cctv\\lib\\site-packages\\statsmodels\\base\\model.py:606: ConvergenceWarning: Maximum Likelihood optimization failed to converge. Check mle_retvals\n",
      "  ConvergenceWarning)\n",
      "C:\\Users\\vfgtr554\\anaconda3\\envs\\cctv\\lib\\site-packages\\pandas\\core\\arraylike.py:364: RuntimeWarning: divide by zero encountered in log\n",
      "  result = getattr(ufunc, method)(*inputs, **kwargs)\n"
     ]
    },
    {
     "name": "stdout",
     "output_type": "stream",
     "text": [
      "Predict Finish, 26.6945 26.5483 0.9633 0.0359 Evaluation Finish\n",
      "109: Data Load Finish, "
     ]
    },
    {
     "name": "stderr",
     "output_type": "stream",
     "text": [
      "C:\\Users\\vfgtr554\\anaconda3\\envs\\cctv\\lib\\site-packages\\statsmodels\\base\\model.py:606: ConvergenceWarning: Maximum Likelihood optimization failed to converge. Check mle_retvals\n",
      "  ConvergenceWarning)\n"
     ]
    },
    {
     "name": "stdout",
     "output_type": "stream",
     "text": [
      "Predict Finish, 26.6945 26.5483 0.9633 0.0359 Evaluation Finish\n",
      "110: Data Load Finish, Predict Finish, 2.9444 2.5646 0.0912 0.8937 Evaluation Finish\n",
      "111: Data Load Finish, Predict Finish, 4.1622 3.1459 0.1061 0.8497 Evaluation Finish\n",
      "112: Data Load Finish, "
     ]
    },
    {
     "name": "stderr",
     "output_type": "stream",
     "text": [
      "C:\\Users\\vfgtr554\\anaconda3\\envs\\cctv\\lib\\site-packages\\pandas\\core\\arraylike.py:364: RuntimeWarning: divide by zero encountered in log\n",
      "  result = getattr(ufunc, method)(*inputs, **kwargs)\n",
      "C:\\Users\\vfgtr554\\anaconda3\\envs\\cctv\\lib\\site-packages\\statsmodels\\base\\model.py:606: ConvergenceWarning: Maximum Likelihood optimization failed to converge. Check mle_retvals\n",
      "  ConvergenceWarning)\n"
     ]
    },
    {
     "name": "stdout",
     "output_type": "stream",
     "text": [
      "Predict Finish, 26.6945 26.5483 0.9633 0.0359 Evaluation Finish\n",
      "113: Data Load Finish, Predict Finish, 6.5797 5.9607 0.2083 0.7624 Evaluation Finish\n",
      "114: Data Load Finish, Predict Finish, 2.9374 2.5294 0.0899 0.8939 Evaluation Finish\n",
      "115: Data Load Finish, Predict Finish, 3.7742 3.0412 0.1038 0.8637 Evaluation Finish\n",
      "116: Data Load Finish, Predict Finish, 6.2232 5.3727 0.2069 0.7752 Evaluation Finish\n",
      "117: Data Load Finish, Predict Finish, 13.0985 12.7775 0.4791 0.5269 Evaluation Finish\n",
      "118: Data Load Finish, Predict Finish, 28.4479 28.2982 1.0482 -0.0274 Evaluation Finish\n",
      "119: Data Load Finish, Predict Finish, 6.5059 5.8475 0.2246 0.765 Evaluation Finish\n",
      "120: Data Load Finish, Predict Finish, 3.3454 2.7104 0.0935 0.8792 Evaluation Finish\n",
      "121: Data Load Finish, Predict Finish, 6.0777 5.3949 0.1875 0.7805 Evaluation Finish\n",
      "122: Data Load Finish, Predict Finish, 6.0735 5.0796 0.1757 0.7807 Evaluation Finish\n",
      "123: Data Load Finish, Predict Finish, 7.3206 6.7315 0.2365 0.7356 Evaluation Finish\n",
      "124: Data Load Finish, Predict Finish, 7.9305 7.2199 0.2548 0.7136 Evaluation Finish\n",
      "125: Data Load Finish, Predict Finish, 17.0385 16.7887 0.6263 0.3847 Evaluation Finish\n",
      "126: Data Load Finish, Predict Finish, 5.956 5.2309 0.1814 0.7849 Evaluation Finish\n",
      "127: Data Load Finish, Predict Finish, 8.1601 7.5757 0.2674 0.7053 Evaluation Finish\n",
      "128: Data Load Finish, Predict Finish, 8.6792 8.0561 0.2849 0.6865 Evaluation Finish\n",
      "129: Data Load Finish, "
     ]
    },
    {
     "name": "stderr",
     "output_type": "stream",
     "text": [
      "C:\\Users\\vfgtr554\\anaconda3\\envs\\cctv\\lib\\site-packages\\pandas\\core\\arraylike.py:364: RuntimeWarning: divide by zero encountered in log\n",
      "  result = getattr(ufunc, method)(*inputs, **kwargs)\n",
      "C:\\Users\\vfgtr554\\anaconda3\\envs\\cctv\\lib\\site-packages\\statsmodels\\base\\model.py:606: ConvergenceWarning: Maximum Likelihood optimization failed to converge. Check mle_retvals\n",
      "  ConvergenceWarning)\n"
     ]
    },
    {
     "name": "stdout",
     "output_type": "stream",
     "text": [
      "Predict Finish, 26.6945 26.5483 0.9633 0.0359 Evaluation Finish\n",
      "130: Data Load Finish, Predict Finish, 2.8851 2.5326 0.0948 0.8958 Evaluation Finish\n",
      "131: Data Load Finish, Predict Finish, 2.982 2.5993 0.0923 0.8923 Evaluation Finish\n",
      "132: Data Load Finish, Predict Finish, 6.1588 5.4554 0.1897 0.7776 Evaluation Finish\n",
      "133: Data Load Finish, Predict Finish, 2.9538 2.4874 0.0885 0.8933 Evaluation Finish\n",
      "134: Data Load Finish, Predict Finish, 9.4765 9.05 0.3216 0.6578 Evaluation Finish\n",
      "135: Data Load Finish, Predict Finish, 5.4668 4.4823 0.1541 0.8026 Evaluation Finish\n",
      "136: Data Load Finish, Predict Finish, 9.3589 8.8769 0.3153 0.662 Evaluation Finish\n",
      "137: Data Load Finish, "
     ]
    },
    {
     "name": "stderr",
     "output_type": "stream",
     "text": [
      "C:\\Users\\vfgtr554\\anaconda3\\envs\\cctv\\lib\\site-packages\\pandas\\core\\arraylike.py:364: RuntimeWarning: divide by zero encountered in log\n",
      "  result = getattr(ufunc, method)(*inputs, **kwargs)\n",
      "C:\\Users\\vfgtr554\\anaconda3\\envs\\cctv\\lib\\site-packages\\statsmodels\\base\\model.py:606: ConvergenceWarning: Maximum Likelihood optimization failed to converge. Check mle_retvals\n",
      "  ConvergenceWarning)\n"
     ]
    },
    {
     "name": "stdout",
     "output_type": "stream",
     "text": [
      "Predict Finish, 26.6945 26.5483 0.9633 0.0359 Evaluation Finish\n",
      "138: Data Load Finish, Predict Finish, 5.4164 4.6414 0.1599 0.8044 Evaluation Finish\n",
      "139: Data Load Finish, "
     ]
    },
    {
     "name": "stderr",
     "output_type": "stream",
     "text": [
      "C:\\Users\\vfgtr554\\anaconda3\\envs\\cctv\\lib\\site-packages\\pandas\\core\\arraylike.py:364: RuntimeWarning: divide by zero encountered in log\n",
      "  result = getattr(ufunc, method)(*inputs, **kwargs)\n",
      "C:\\Users\\vfgtr554\\anaconda3\\envs\\cctv\\lib\\site-packages\\statsmodels\\base\\model.py:606: ConvergenceWarning: Maximum Likelihood optimization failed to converge. Check mle_retvals\n",
      "  ConvergenceWarning)\n"
     ]
    },
    {
     "name": "stdout",
     "output_type": "stream",
     "text": [
      "Predict Finish, 26.6945 26.5483 0.9633 0.0359 Evaluation Finish\n",
      "140: Data Load Finish, Predict Finish, 2.9863 2.5848 0.0915 0.8921 Evaluation Finish\n",
      "141: Data Load Finish, Predict Finish, 4.1727 3.4147 0.1165 0.8493 Evaluation Finish\n",
      "142: Data Load Finish, Predict Finish, 3.596 2.8404 0.0971 0.8701 Evaluation Finish\n",
      "143: Data Load Finish, "
     ]
    },
    {
     "name": "stderr",
     "output_type": "stream",
     "text": [
      "C:\\Users\\vfgtr554\\anaconda3\\envs\\cctv\\lib\\site-packages\\pandas\\core\\arraylike.py:364: RuntimeWarning: divide by zero encountered in log\n",
      "  result = getattr(ufunc, method)(*inputs, **kwargs)\n",
      "C:\\Users\\vfgtr554\\anaconda3\\envs\\cctv\\lib\\site-packages\\statsmodels\\base\\model.py:606: ConvergenceWarning: Maximum Likelihood optimization failed to converge. Check mle_retvals\n",
      "  ConvergenceWarning)\n",
      "C:\\Users\\vfgtr554\\anaconda3\\envs\\cctv\\lib\\site-packages\\pandas\\core\\arraylike.py:364: RuntimeWarning: divide by zero encountered in log\n",
      "  result = getattr(ufunc, method)(*inputs, **kwargs)\n"
     ]
    },
    {
     "name": "stdout",
     "output_type": "stream",
     "text": [
      "Predict Finish, 26.6945 26.5483 0.9633 0.0359 Evaluation Finish\n",
      "144: Data Load Finish, "
     ]
    },
    {
     "name": "stderr",
     "output_type": "stream",
     "text": [
      "C:\\Users\\vfgtr554\\anaconda3\\envs\\cctv\\lib\\site-packages\\statsmodels\\base\\model.py:606: ConvergenceWarning: Maximum Likelihood optimization failed to converge. Check mle_retvals\n",
      "  ConvergenceWarning)\n"
     ]
    },
    {
     "name": "stdout",
     "output_type": "stream",
     "text": [
      "Predict Finish, 26.6945 26.5483 0.9633 0.0359 Evaluation Finish\n",
      "145: Data Load Finish, "
     ]
    },
    {
     "name": "stderr",
     "output_type": "stream",
     "text": [
      "C:\\Users\\vfgtr554\\anaconda3\\envs\\cctv\\lib\\site-packages\\statsmodels\\base\\model.py:606: ConvergenceWarning: Maximum Likelihood optimization failed to converge. Check mle_retvals\n",
      "  ConvergenceWarning)\n"
     ]
    },
    {
     "name": "stdout",
     "output_type": "stream",
     "text": [
      "Predict Finish, 32.2514 32.1286 1.1886 -0.1648 Evaluation Finish\n",
      "146: Data Load Finish, Predict Finish, 3.9864 3.3578 0.1302 0.856 Evaluation Finish\n",
      "147: Data Load Finish, Predict Finish, 4.3143 3.5935 0.1397 0.8442 Evaluation Finish\n",
      "148: Data Load Finish, Predict Finish, 6.1918 5.3522 0.186 0.7764 Evaluation Finish\n",
      "149: Data Load Finish, Predict Finish, 5.6553 4.5833 0.1578 0.7958 Evaluation Finish\n",
      "150: Data Load Finish, "
     ]
    },
    {
     "name": "stderr",
     "output_type": "stream",
     "text": [
      "C:\\Users\\vfgtr554\\anaconda3\\envs\\cctv\\lib\\site-packages\\pandas\\core\\arraylike.py:364: RuntimeWarning: divide by zero encountered in log\n",
      "  result = getattr(ufunc, method)(*inputs, **kwargs)\n",
      "C:\\Users\\vfgtr554\\anaconda3\\envs\\cctv\\lib\\site-packages\\statsmodels\\base\\model.py:606: ConvergenceWarning: Maximum Likelihood optimization failed to converge. Check mle_retvals\n",
      "  ConvergenceWarning)\n",
      "C:\\Users\\vfgtr554\\anaconda3\\envs\\cctv\\lib\\site-packages\\pandas\\core\\arraylike.py:364: RuntimeWarning: divide by zero encountered in log\n",
      "  result = getattr(ufunc, method)(*inputs, **kwargs)\n"
     ]
    },
    {
     "name": "stdout",
     "output_type": "stream",
     "text": [
      "Predict Finish, 26.6945 26.5483 0.9633 0.0359 Evaluation Finish\n",
      "151: Data Load Finish, "
     ]
    },
    {
     "name": "stderr",
     "output_type": "stream",
     "text": [
      "C:\\Users\\vfgtr554\\anaconda3\\envs\\cctv\\lib\\site-packages\\statsmodels\\base\\model.py:606: ConvergenceWarning: Maximum Likelihood optimization failed to converge. Check mle_retvals\n",
      "  ConvergenceWarning)\n"
     ]
    },
    {
     "name": "stdout",
     "output_type": "stream",
     "text": [
      "Predict Finish, 26.6945 26.5483 0.9633 0.0359 Evaluation Finish\n",
      "152: Data Load Finish, Predict Finish, 4.8882 3.799 0.1294 0.8235 Evaluation Finish\n",
      "153: Data Load Finish, "
     ]
    },
    {
     "name": "stderr",
     "output_type": "stream",
     "text": [
      "C:\\Users\\vfgtr554\\anaconda3\\envs\\cctv\\lib\\site-packages\\pandas\\core\\arraylike.py:364: RuntimeWarning: divide by zero encountered in log\n",
      "  result = getattr(ufunc, method)(*inputs, **kwargs)\n",
      "C:\\Users\\vfgtr554\\anaconda3\\envs\\cctv\\lib\\site-packages\\statsmodels\\base\\model.py:606: ConvergenceWarning: Maximum Likelihood optimization failed to converge. Check mle_retvals\n",
      "  ConvergenceWarning)\n",
      "C:\\Users\\vfgtr554\\anaconda3\\envs\\cctv\\lib\\site-packages\\pandas\\core\\arraylike.py:364: RuntimeWarning: divide by zero encountered in log\n",
      "  result = getattr(ufunc, method)(*inputs, **kwargs)\n"
     ]
    },
    {
     "name": "stdout",
     "output_type": "stream",
     "text": [
      "Predict Finish, 26.6945 26.5483 0.9633 0.0359 Evaluation Finish\n",
      "154: Data Load Finish, "
     ]
    },
    {
     "name": "stderr",
     "output_type": "stream",
     "text": [
      "C:\\Users\\vfgtr554\\anaconda3\\envs\\cctv\\lib\\site-packages\\statsmodels\\base\\model.py:606: ConvergenceWarning: Maximum Likelihood optimization failed to converge. Check mle_retvals\n",
      "  ConvergenceWarning)\n",
      "C:\\Users\\vfgtr554\\anaconda3\\envs\\cctv\\lib\\site-packages\\pandas\\core\\arraylike.py:364: RuntimeWarning: divide by zero encountered in log\n",
      "  result = getattr(ufunc, method)(*inputs, **kwargs)\n"
     ]
    },
    {
     "name": "stdout",
     "output_type": "stream",
     "text": [
      "Predict Finish, 26.6945 26.5483 0.9633 0.0359 Evaluation Finish\n",
      "155: Data Load Finish, "
     ]
    },
    {
     "name": "stderr",
     "output_type": "stream",
     "text": [
      "C:\\Users\\vfgtr554\\anaconda3\\envs\\cctv\\lib\\site-packages\\statsmodels\\base\\model.py:606: ConvergenceWarning: Maximum Likelihood optimization failed to converge. Check mle_retvals\n",
      "  ConvergenceWarning)\n"
     ]
    },
    {
     "name": "stdout",
     "output_type": "stream",
     "text": [
      "Predict Finish, 26.6945 26.5483 0.9633 0.0359 Evaluation Finish\n",
      "156: Data Load Finish, Predict Finish, 4.3409 3.5107 0.1194 0.8432 Evaluation Finish\n",
      "157: Data Load Finish, Predict Finish, 5.896 5.1852 0.1798 0.7871 Evaluation Finish\n",
      "158: Data Load Finish, "
     ]
    },
    {
     "name": "stderr",
     "output_type": "stream",
     "text": [
      "C:\\Users\\vfgtr554\\anaconda3\\envs\\cctv\\lib\\site-packages\\pandas\\core\\arraylike.py:364: RuntimeWarning: divide by zero encountered in log\n",
      "  result = getattr(ufunc, method)(*inputs, **kwargs)\n",
      "C:\\Users\\vfgtr554\\anaconda3\\envs\\cctv\\lib\\site-packages\\statsmodels\\base\\model.py:606: ConvergenceWarning: Maximum Likelihood optimization failed to converge. Check mle_retvals\n",
      "  ConvergenceWarning)\n",
      "C:\\Users\\vfgtr554\\anaconda3\\envs\\cctv\\lib\\site-packages\\pandas\\core\\arraylike.py:364: RuntimeWarning: divide by zero encountered in log\n",
      "  result = getattr(ufunc, method)(*inputs, **kwargs)\n"
     ]
    },
    {
     "name": "stdout",
     "output_type": "stream",
     "text": [
      "Predict Finish, 26.6945 26.5483 0.9633 0.0359 Evaluation Finish\n",
      "159: Data Load Finish, "
     ]
    },
    {
     "name": "stderr",
     "output_type": "stream",
     "text": [
      "C:\\Users\\vfgtr554\\anaconda3\\envs\\cctv\\lib\\site-packages\\statsmodels\\base\\model.py:606: ConvergenceWarning: Maximum Likelihood optimization failed to converge. Check mle_retvals\n",
      "  ConvergenceWarning)\n"
     ]
    },
    {
     "name": "stdout",
     "output_type": "stream",
     "text": [
      "Predict Finish, 26.6945 26.5483 0.9633 0.0359 Evaluation Finish\n",
      "160: Data Load Finish, Predict Finish, 4.527 3.5582 0.1204 0.8365 Evaluation Finish\n",
      "161: Data Load Finish, Predict Finish, 4.5031 3.527 0.1192 0.8374 Evaluation Finish\n",
      "162: Data Load Finish, "
     ]
    },
    {
     "name": "stderr",
     "output_type": "stream",
     "text": [
      "C:\\Users\\vfgtr554\\anaconda3\\envs\\cctv\\lib\\site-packages\\pandas\\core\\arraylike.py:364: RuntimeWarning: divide by zero encountered in log\n",
      "  result = getattr(ufunc, method)(*inputs, **kwargs)\n",
      "C:\\Users\\vfgtr554\\anaconda3\\envs\\cctv\\lib\\site-packages\\statsmodels\\base\\model.py:606: ConvergenceWarning: Maximum Likelihood optimization failed to converge. Check mle_retvals\n",
      "  ConvergenceWarning)\n",
      "C:\\Users\\vfgtr554\\anaconda3\\envs\\cctv\\lib\\site-packages\\pandas\\core\\arraylike.py:364: RuntimeWarning: divide by zero encountered in log\n",
      "  result = getattr(ufunc, method)(*inputs, **kwargs)\n"
     ]
    },
    {
     "name": "stdout",
     "output_type": "stream",
     "text": [
      "Predict Finish, 26.6945 26.5483 0.9633 0.0359 Evaluation Finish\n",
      "163: Data Load Finish, "
     ]
    },
    {
     "name": "stderr",
     "output_type": "stream",
     "text": [
      "C:\\Users\\vfgtr554\\anaconda3\\envs\\cctv\\lib\\site-packages\\statsmodels\\base\\model.py:606: ConvergenceWarning: Maximum Likelihood optimization failed to converge. Check mle_retvals\n",
      "  ConvergenceWarning)\n"
     ]
    },
    {
     "name": "stdout",
     "output_type": "stream",
     "text": [
      "Predict Finish, 26.6945 26.5483 0.9633 0.0359 Evaluation Finish\n",
      "164: Data Load Finish, Predict Finish, 3.0282 2.717 0.1016 0.8906 Evaluation Finish\n",
      "165: Data Load Finish, Predict Finish, 2.8318 2.4622 0.0892 0.8977 Evaluation Finish\n",
      "166: Data Load Finish, Predict Finish, 10.2744 9.8614 0.3721 0.6289 Evaluation Finish\n",
      "167: Data Load Finish, Predict Finish, 10.9444 10.5695 0.398 0.6047 Evaluation Finish\n",
      "168: Data Load Finish, Predict Finish, 25.2485 25.0869 0.9304 0.0881 Evaluation Finish\n",
      "169: Data Load Finish, Predict Finish, 7.0535 6.3878 0.2447 0.7453 Evaluation Finish\n",
      "170: Data Load Finish, Predict Finish, 4.2959 3.3233 0.1124 0.8449 Evaluation Finish\n",
      "171: Data Load Finish, Predict Finish, 5.5147 4.7758 0.185 0.8008 Evaluation Finish\n",
      "172: Data Load Finish, Predict Finish, 5.0561 4.119 0.1407 0.8174 Evaluation Finish\n",
      "173: Data Load Finish, Predict Finish, 3.3472 3.0532 0.1139 0.8791 Evaluation Finish\n",
      "174: Data Load Finish, Predict Finish, 3.3659 2.9772 0.1138 0.8784 Evaluation Finish\n",
      "175: Data Load Finish, Predict Finish, 7.9295 7.4133 0.2823 0.7136 Evaluation Finish\n",
      "176: Data Load Finish, Predict Finish, 6.1244 5.3387 0.1856 0.7788 Evaluation Finish\n",
      "177: Data Load Finish, Predict Finish, 17.519 17.2923 0.6446 0.3673 Evaluation Finish\n",
      "178: Data Load Finish, Predict Finish, 3.6416 2.934 0.1004 0.8685 Evaluation Finish\n",
      "179: Data Load Finish, Predict Finish, 3.3073 2.8288 0.109 0.8806 Evaluation Finish\n",
      "180: Data Load Finish, Predict Finish, 17.5399 17.2992 0.6446 0.3665 Evaluation Finish\n",
      "181: Data Load Finish, Predict Finish, 4.9991 4.1504 0.142 0.8195 Evaluation Finish\n",
      "182: Data Load Finish, Predict Finish, 4.792 3.8954 0.1325 0.8269 Evaluation Finish\n",
      "183: Data Load Finish, "
     ]
    },
    {
     "name": "stderr",
     "output_type": "stream",
     "text": [
      "C:\\Users\\vfgtr554\\anaconda3\\envs\\cctv\\lib\\site-packages\\pandas\\core\\arraylike.py:364: RuntimeWarning: divide by zero encountered in log\n",
      "  result = getattr(ufunc, method)(*inputs, **kwargs)\n",
      "C:\\Users\\vfgtr554\\anaconda3\\envs\\cctv\\lib\\site-packages\\statsmodels\\base\\model.py:606: ConvergenceWarning: Maximum Likelihood optimization failed to converge. Check mle_retvals\n",
      "  ConvergenceWarning)\n"
     ]
    },
    {
     "name": "stdout",
     "output_type": "stream",
     "text": [
      "Predict Finish, 26.6945 26.5483 0.9633 0.0359 Evaluation Finish\n",
      "184: Data Load Finish, Predict Finish, 3.4921 2.8472 0.0979 0.8739 Evaluation Finish\n",
      "185: Data Load Finish, Predict Finish, 4.1747 3.3032 0.1119 0.8492 Evaluation Finish\n",
      "186: Data Load Finish, "
     ]
    },
    {
     "name": "stderr",
     "output_type": "stream",
     "text": [
      "C:\\Users\\vfgtr554\\anaconda3\\envs\\cctv\\lib\\site-packages\\pandas\\core\\arraylike.py:364: RuntimeWarning: divide by zero encountered in log\n",
      "  result = getattr(ufunc, method)(*inputs, **kwargs)\n",
      "C:\\Users\\vfgtr554\\anaconda3\\envs\\cctv\\lib\\site-packages\\statsmodels\\base\\model.py:606: ConvergenceWarning: Maximum Likelihood optimization failed to converge. Check mle_retvals\n",
      "  ConvergenceWarning)\n"
     ]
    },
    {
     "name": "stdout",
     "output_type": "stream",
     "text": [
      "Predict Finish, 26.6945 26.5483 0.9633 0.0359 Evaluation Finish\n",
      "187: Data Load Finish, Predict Finish, 4.2567 3.286 0.1108 0.8463 Evaluation Finish\n",
      "188: Data Load Finish, Predict Finish, 2.8148 2.4543 0.0898 0.8983 Evaluation Finish\n",
      "189: Data Load Finish, Predict Finish, 2.8185 2.4114 0.0877 0.8982 Evaluation Finish\n",
      "190: Data Load Finish, Predict Finish, 4.8698 3.9649 0.1352 0.8241 Evaluation Finish\n",
      "191: Data Load Finish, Predict Finish, 3.4105 2.7364 0.0941 0.8768 Evaluation Finish\n",
      "192: Data Load Finish, Predict Finish, 5.8253 5.0846 0.1762 0.7896 Evaluation Finish\n",
      "193: Data Load Finish, "
     ]
    },
    {
     "name": "stderr",
     "output_type": "stream",
     "text": [
      "C:\\Users\\vfgtr554\\anaconda3\\envs\\cctv\\lib\\site-packages\\statsmodels\\base\\model.py:606: ConvergenceWarning: Maximum Likelihood optimization failed to converge. Check mle_retvals\n",
      "  ConvergenceWarning)\n"
     ]
    },
    {
     "name": "stdout",
     "output_type": "stream",
     "text": [
      "Predict Finish, 15.8208 15.5696 0.5607 0.4286 Evaluation Finish\n",
      "194: Data Load Finish, Predict Finish, 4.3285 3.3408 0.113 0.8437 Evaluation Finish\n",
      "195: Data Load Finish, Predict Finish, 5.3595 4.5654 0.1571 0.8064 Evaluation Finish\n",
      "196: Data Load Finish, Predict Finish, 6.977 6.366 0.2231 0.748 Evaluation Finish\n",
      "197: Data Load Finish, "
     ]
    },
    {
     "name": "stderr",
     "output_type": "stream",
     "text": [
      "C:\\Users\\vfgtr554\\anaconda3\\envs\\cctv\\lib\\site-packages\\pandas\\core\\arraylike.py:364: RuntimeWarning: divide by zero encountered in log\n",
      "  result = getattr(ufunc, method)(*inputs, **kwargs)\n",
      "C:\\Users\\vfgtr554\\anaconda3\\envs\\cctv\\lib\\site-packages\\statsmodels\\base\\model.py:606: ConvergenceWarning: Maximum Likelihood optimization failed to converge. Check mle_retvals\n",
      "  ConvergenceWarning)\n"
     ]
    },
    {
     "name": "stdout",
     "output_type": "stream",
     "text": [
      "Predict Finish, 26.6945 26.5483 0.9633 0.0359 Evaluation Finish\n",
      "198: Data Load Finish, Predict Finish, 3.7531 3.1957 0.1108 0.8645 Evaluation Finish\n",
      "199: Data Load Finish, Predict Finish, 7.4308 6.8462 0.2407 0.7316 Evaluation Finish\n",
      "200: Data Load Finish, Predict Finish, 3.4091 2.9846 0.1047 0.8769 Evaluation Finish\n",
      "201: Data Load Finish, Predict Finish, 7.6545 6.5708 0.2299 0.7236 Evaluation Finish\n",
      "202: Data Load Finish, "
     ]
    },
    {
     "name": "stderr",
     "output_type": "stream",
     "text": [
      "C:\\Users\\vfgtr554\\anaconda3\\envs\\cctv\\lib\\site-packages\\pandas\\core\\arraylike.py:364: RuntimeWarning: divide by zero encountered in log\n",
      "  result = getattr(ufunc, method)(*inputs, **kwargs)\n",
      "C:\\Users\\vfgtr554\\anaconda3\\envs\\cctv\\lib\\site-packages\\statsmodels\\base\\model.py:606: ConvergenceWarning: Maximum Likelihood optimization failed to converge. Check mle_retvals\n",
      "  ConvergenceWarning)\n"
     ]
    },
    {
     "name": "stdout",
     "output_type": "stream",
     "text": [
      "Predict Finish, 26.6945 26.5483 0.9633 0.0359 Evaluation Finish\n",
      "203: Data Load Finish, Predict Finish, 9.0829 8.6433 0.3066 0.672 Evaluation Finish\n",
      "204: Data Load Finish, Predict Finish, 4.9081 3.9848 0.136 0.8227 Evaluation Finish\n",
      "205: Data Load Finish, Predict Finish, 6.7075 6.0439 0.2116 0.7578 Evaluation Finish\n",
      "206: Data Load Finish, Predict Finish, 9.793 9.346 0.3327 0.6463 Evaluation Finish\n",
      "207: Data Load Finish, Predict Finish, 5.3295 4.5432 0.1563 0.8075 Evaluation Finish\n",
      "208: Data Load Finish, Predict Finish, 9.9574 9.5504 0.3401 0.6404 Evaluation Finish\n",
      "209: Data Load Finish, Predict Finish, 5.405 4.6013 0.1792 0.8048 Evaluation Finish\n",
      "210: Data Load Finish, Predict Finish, 2.8524 2.509 0.0903 0.897 Evaluation Finish\n",
      "211: Data Load Finish, Predict Finish, 9.9198 9.1022 0.3442 0.6417 Evaluation Finish\n",
      "212: Data Load Finish, Predict Finish, 4.1177 3.2593 0.1105 0.8513 Evaluation Finish\n",
      "213: Data Load Finish, Predict Finish, 14.7731 14.4571 0.5403 0.4665 Evaluation Finish\n",
      "214: Data Load Finish, Predict Finish, 11.9118 11.5743 0.4141 0.5698 Evaluation Finish\n",
      "215: Data Load Finish, Predict Finish, 5.9059 5.1313 0.178 0.7867 Evaluation Finish\n",
      "216: Data Load Finish, Predict Finish, 3.3242 2.8693 0.1002 0.8799 Evaluation Finish\n",
      "217: Data Load Finish, Predict Finish, 15.5571 15.2893 0.571 0.4382 Evaluation Finish\n",
      "218: Data Load Finish, Predict Finish, 6.7169 6.0767 0.2125 0.7574 Evaluation Finish\n",
      "219: Data Load Finish, Predict Finish, 3.8745 3.0224 0.1189 0.8601 Evaluation Finish\n",
      "220: "
     ]
    },
    {
     "name": "stderr",
     "output_type": "stream",
     "text": [
      "C:\\Users\\vfgtr554\\anaconda3\\envs\\cctv\\lib\\site-packages\\pandas\\core\\arraylike.py:364: RuntimeWarning: divide by zero encountered in log\n",
      "  result = getattr(ufunc, method)(*inputs, **kwargs)\n"
     ]
    },
    {
     "name": "stdout",
     "output_type": "stream",
     "text": [
      "Data Load Finish, "
     ]
    },
    {
     "name": "stderr",
     "output_type": "stream",
     "text": [
      "C:\\Users\\vfgtr554\\anaconda3\\envs\\cctv\\lib\\site-packages\\statsmodels\\base\\model.py:606: ConvergenceWarning: Maximum Likelihood optimization failed to converge. Check mle_retvals\n",
      "  ConvergenceWarning)\n"
     ]
    },
    {
     "name": "stdout",
     "output_type": "stream",
     "text": [
      "Predict Finish, 26.6945 26.5483 0.9633 0.0359 Evaluation Finish\n",
      "221: Data Load Finish, Predict Finish, 3.5843 2.9104 0.1137 0.8706 Evaluation Finish\n",
      "222: Data Load Finish, Predict Finish, 3.841 3.0823 0.105 0.8613 Evaluation Finish\n",
      "223: Data Load Finish, Predict Finish, 2.8149 2.405 0.0877 0.8983 Evaluation Finish\n",
      "224: Data Load Finish, "
     ]
    },
    {
     "name": "stderr",
     "output_type": "stream",
     "text": [
      "C:\\Users\\vfgtr554\\anaconda3\\envs\\cctv\\lib\\site-packages\\pandas\\core\\arraylike.py:364: RuntimeWarning: divide by zero encountered in log\n",
      "  result = getattr(ufunc, method)(*inputs, **kwargs)\n",
      "C:\\Users\\vfgtr554\\anaconda3\\envs\\cctv\\lib\\site-packages\\statsmodels\\base\\model.py:606: ConvergenceWarning: Maximum Likelihood optimization failed to converge. Check mle_retvals\n",
      "  ConvergenceWarning)\n",
      "C:\\Users\\vfgtr554\\anaconda3\\envs\\cctv\\lib\\site-packages\\pandas\\core\\arraylike.py:364: RuntimeWarning: divide by zero encountered in log\n",
      "  result = getattr(ufunc, method)(*inputs, **kwargs)\n"
     ]
    },
    {
     "name": "stdout",
     "output_type": "stream",
     "text": [
      "Predict Finish, 26.6945 26.5483 0.9633 0.0359 Evaluation Finish\n",
      "225: Data Load Finish, "
     ]
    },
    {
     "name": "stderr",
     "output_type": "stream",
     "text": [
      "C:\\Users\\vfgtr554\\anaconda3\\envs\\cctv\\lib\\site-packages\\statsmodels\\base\\model.py:606: ConvergenceWarning: Maximum Likelihood optimization failed to converge. Check mle_retvals\n",
      "  ConvergenceWarning)\n"
     ]
    },
    {
     "name": "stdout",
     "output_type": "stream",
     "text": [
      "Predict Finish, 26.6945 26.5483 0.9633 0.0359 Evaluation Finish\n",
      "226: Data Load Finish, Predict Finish, 3.5888 2.9306 0.1014 0.8704 Evaluation Finish\n",
      "227: Data Load Finish, "
     ]
    },
    {
     "name": "stderr",
     "output_type": "stream",
     "text": [
      "C:\\Users\\vfgtr554\\anaconda3\\envs\\cctv\\lib\\site-packages\\pandas\\core\\arraylike.py:364: RuntimeWarning: divide by zero encountered in log\n",
      "  result = getattr(ufunc, method)(*inputs, **kwargs)\n",
      "C:\\Users\\vfgtr554\\anaconda3\\envs\\cctv\\lib\\site-packages\\statsmodels\\base\\model.py:606: ConvergenceWarning: Maximum Likelihood optimization failed to converge. Check mle_retvals\n",
      "  ConvergenceWarning)\n"
     ]
    },
    {
     "name": "stdout",
     "output_type": "stream",
     "text": [
      "Predict Finish, 26.6945 26.5483 0.9633 0.0359 Evaluation Finish\n",
      "228: Data Load Finish, Predict Finish, 5.4469 4.6556 0.1603 0.8033 Evaluation Finish\n",
      "229: Data Load Finish, Predict Finish, 13.5514 13.1885 0.4944 0.5106 Evaluation Finish\n",
      "230: Data Load Finish, Predict Finish, 3.6097 2.979 0.1025 0.8696 Evaluation Finish\n",
      "231: Data Load Finish, Predict Finish, 2.9934 2.6277 0.0935 0.8919 Evaluation Finish\n",
      "232: Data Load Finish, "
     ]
    },
    {
     "name": "stderr",
     "output_type": "stream",
     "text": [
      "C:\\Users\\vfgtr554\\anaconda3\\envs\\cctv\\lib\\site-packages\\pandas\\core\\arraylike.py:364: RuntimeWarning: divide by zero encountered in log\n",
      "  result = getattr(ufunc, method)(*inputs, **kwargs)\n",
      "C:\\Users\\vfgtr554\\anaconda3\\envs\\cctv\\lib\\site-packages\\statsmodels\\base\\model.py:606: ConvergenceWarning: Maximum Likelihood optimization failed to converge. Check mle_retvals\n",
      "  ConvergenceWarning)\n"
     ]
    },
    {
     "name": "stdout",
     "output_type": "stream",
     "text": [
      "Predict Finish, 26.6945 26.5483 0.9633 0.0359 Evaluation Finish\n",
      "233: Data Load Finish, Predict Finish, 3.3356 2.559 0.0879 0.8795 Evaluation Finish\n",
      "234: Data Load Finish, Predict Finish, 3.6588 3.2184 0.114 0.8679 Evaluation Finish\n",
      "235: Data Load Finish, "
     ]
    },
    {
     "name": "stderr",
     "output_type": "stream",
     "text": [
      "C:\\Users\\vfgtr554\\anaconda3\\envs\\cctv\\lib\\site-packages\\pandas\\core\\arraylike.py:364: RuntimeWarning: divide by zero encountered in log\n",
      "  result = getattr(ufunc, method)(*inputs, **kwargs)\n",
      "C:\\Users\\vfgtr554\\anaconda3\\envs\\cctv\\lib\\site-packages\\statsmodels\\base\\model.py:606: ConvergenceWarning: Maximum Likelihood optimization failed to converge. Check mle_retvals\n",
      "  ConvergenceWarning)\n"
     ]
    },
    {
     "name": "stdout",
     "output_type": "stream",
     "text": [
      "Predict Finish, 26.6945 26.5483 0.9633 0.0359 Evaluation Finish\n",
      "236: Data Load Finish, Predict Finish, 4.1787 3.2743 0.1112 0.8491 Evaluation Finish\n",
      "237: Data Load Finish, Predict Finish, 5.3598 4.5785 0.1576 0.8064 Evaluation Finish\n",
      "238: Data Load Finish, Predict Finish, 5.1492 4.3282 0.1485 0.814 Evaluation Finish\n",
      "239: Data Load Finish, Predict Finish, 3.7482 3.0911 0.106 0.8646 Evaluation Finish\n",
      "240: Data Load Finish, Predict Finish, 2.865 2.519 0.0904 0.8965 Evaluation Finish\n",
      "241: Data Load Finish, "
     ]
    },
    {
     "name": "stderr",
     "output_type": "stream",
     "text": [
      "C:\\Users\\vfgtr554\\anaconda3\\envs\\cctv\\lib\\site-packages\\statsmodels\\base\\model.py:606: ConvergenceWarning: Maximum Likelihood optimization failed to converge. Check mle_retvals\n",
      "  ConvergenceWarning)\n"
     ]
    },
    {
     "name": "stdout",
     "output_type": "stream",
     "text": [
      "Predict Finish, 3.6704 2.9925 0.1025 0.8674 Evaluation Finish\n",
      "242: Data Load Finish, Predict Finish, 4.7542 3.8479 0.1308 0.8283 Evaluation Finish\n",
      "243: Data Load Finish, "
     ]
    },
    {
     "name": "stderr",
     "output_type": "stream",
     "text": [
      "C:\\Users\\vfgtr554\\anaconda3\\envs\\cctv\\lib\\site-packages\\pandas\\core\\arraylike.py:364: RuntimeWarning: divide by zero encountered in log\n",
      "  result = getattr(ufunc, method)(*inputs, **kwargs)\n",
      "C:\\Users\\vfgtr554\\anaconda3\\envs\\cctv\\lib\\site-packages\\statsmodels\\base\\model.py:606: ConvergenceWarning: Maximum Likelihood optimization failed to converge. Check mle_retvals\n",
      "  ConvergenceWarning)\n"
     ]
    },
    {
     "name": "stdout",
     "output_type": "stream",
     "text": [
      "Predict Finish, 26.6945 26.5483 0.9633 0.0359 Evaluation Finish\n",
      "244: Data Load Finish, Predict Finish, 9.656 9.232 0.3285 0.6513 Evaluation Finish\n",
      "245: Data Load Finish, Predict Finish, 10.9796 10.5674 0.3777 0.6035 Evaluation Finish\n",
      "246: Data Load Finish, Predict Finish, 12.213 11.8693 0.4252 0.5589 Evaluation Finish\n",
      "247: Data Load Finish, "
     ]
    },
    {
     "name": "stderr",
     "output_type": "stream",
     "text": [
      "C:\\Users\\vfgtr554\\anaconda3\\envs\\cctv\\lib\\site-packages\\pandas\\core\\arraylike.py:364: RuntimeWarning: divide by zero encountered in log\n",
      "  result = getattr(ufunc, method)(*inputs, **kwargs)\n",
      "C:\\Users\\vfgtr554\\anaconda3\\envs\\cctv\\lib\\site-packages\\statsmodels\\base\\model.py:606: ConvergenceWarning: Maximum Likelihood optimization failed to converge. Check mle_retvals\n",
      "  ConvergenceWarning)\n",
      "C:\\Users\\vfgtr554\\anaconda3\\envs\\cctv\\lib\\site-packages\\pandas\\core\\arraylike.py:364: RuntimeWarning: divide by zero encountered in log\n",
      "  result = getattr(ufunc, method)(*inputs, **kwargs)\n"
     ]
    },
    {
     "name": "stdout",
     "output_type": "stream",
     "text": [
      "Predict Finish, 26.6945 26.5483 0.9633 0.0359 Evaluation Finish\n",
      "248: Data Load Finish, "
     ]
    },
    {
     "name": "stderr",
     "output_type": "stream",
     "text": [
      "C:\\Users\\vfgtr554\\anaconda3\\envs\\cctv\\lib\\site-packages\\statsmodels\\base\\model.py:606: ConvergenceWarning: Maximum Likelihood optimization failed to converge. Check mle_retvals\n",
      "  ConvergenceWarning)\n",
      "C:\\Users\\vfgtr554\\anaconda3\\envs\\cctv\\lib\\site-packages\\pandas\\core\\arraylike.py:364: RuntimeWarning: divide by zero encountered in log\n",
      "  result = getattr(ufunc, method)(*inputs, **kwargs)\n"
     ]
    },
    {
     "name": "stdout",
     "output_type": "stream",
     "text": [
      "Predict Finish, 26.6945 26.5483 0.9633 0.0359 Evaluation Finish\n",
      "249: Data Load Finish, "
     ]
    },
    {
     "name": "stderr",
     "output_type": "stream",
     "text": [
      "C:\\Users\\vfgtr554\\anaconda3\\envs\\cctv\\lib\\site-packages\\statsmodels\\base\\model.py:606: ConvergenceWarning: Maximum Likelihood optimization failed to converge. Check mle_retvals\n",
      "  ConvergenceWarning)\n"
     ]
    },
    {
     "name": "stdout",
     "output_type": "stream",
     "text": [
      "Predict Finish, 26.6945 26.5483 0.9633 0.0359 Evaluation Finish\n",
      "250: Data Load Finish, Predict Finish, 9.0546 8.6151 0.3056 0.673 Evaluation Finish\n",
      "251: Data Load Finish, Predict Finish, 12.035 11.6993 0.4187 0.5654 Evaluation Finish\n",
      "252: Data Load Finish, Predict Finish, 2.8849 2.5216 0.0945 0.8958 Evaluation Finish\n",
      "253: Data Load Finish, Predict Finish, 7.3942 6.8475 0.2408 0.733 Evaluation Finish\n",
      "254: "
     ]
    },
    {
     "name": "stderr",
     "output_type": "stream",
     "text": [
      "C:\\Users\\vfgtr554\\anaconda3\\envs\\cctv\\lib\\site-packages\\pandas\\core\\arraylike.py:364: RuntimeWarning: divide by zero encountered in log\n",
      "  result = getattr(ufunc, method)(*inputs, **kwargs)\n"
     ]
    },
    {
     "name": "stdout",
     "output_type": "stream",
     "text": [
      "Data Load Finish, "
     ]
    },
    {
     "name": "stderr",
     "output_type": "stream",
     "text": [
      "C:\\Users\\vfgtr554\\anaconda3\\envs\\cctv\\lib\\site-packages\\statsmodels\\base\\model.py:606: ConvergenceWarning: Maximum Likelihood optimization failed to converge. Check mle_retvals\n",
      "  ConvergenceWarning)\n"
     ]
    },
    {
     "name": "stdout",
     "output_type": "stream",
     "text": [
      "Predict Finish, 26.6945 26.5483 0.9633 0.0359 Evaluation Finish\n",
      "255: Data Load Finish, Predict Finish, 7.7288 7.1756 0.253 0.7209 Evaluation Finish\n",
      "256: Data Load Finish, Predict Finish, 6.3607 5.6687 0.1976 0.7703 Evaluation Finish\n",
      "257: Data Load Finish, "
     ]
    },
    {
     "name": "stderr",
     "output_type": "stream",
     "text": [
      "C:\\Users\\vfgtr554\\anaconda3\\envs\\cctv\\lib\\site-packages\\pandas\\core\\arraylike.py:364: RuntimeWarning: divide by zero encountered in log\n",
      "  result = getattr(ufunc, method)(*inputs, **kwargs)\n",
      "C:\\Users\\vfgtr554\\anaconda3\\envs\\cctv\\lib\\site-packages\\statsmodels\\base\\model.py:606: ConvergenceWarning: Maximum Likelihood optimization failed to converge. Check mle_retvals\n",
      "  ConvergenceWarning)\n"
     ]
    },
    {
     "name": "stdout",
     "output_type": "stream",
     "text": [
      "Predict Finish, 26.6945 26.5483 0.9633 0.0359 Evaluation Finish\n",
      "258: Data Load Finish, Predict Finish, 5.2161 4.2883 0.1469 0.8116 Evaluation Finish\n",
      "259: Data Load Finish, "
     ]
    },
    {
     "name": "stderr",
     "output_type": "stream",
     "text": [
      "C:\\Users\\vfgtr554\\anaconda3\\envs\\cctv\\lib\\site-packages\\pandas\\core\\arraylike.py:364: RuntimeWarning: divide by zero encountered in log\n",
      "  result = getattr(ufunc, method)(*inputs, **kwargs)\n",
      "C:\\Users\\vfgtr554\\anaconda3\\envs\\cctv\\lib\\site-packages\\statsmodels\\base\\model.py:606: ConvergenceWarning: Maximum Likelihood optimization failed to converge. Check mle_retvals\n",
      "  ConvergenceWarning)\n",
      "C:\\Users\\vfgtr554\\anaconda3\\envs\\cctv\\lib\\site-packages\\pandas\\core\\arraylike.py:364: RuntimeWarning: divide by zero encountered in log\n",
      "  result = getattr(ufunc, method)(*inputs, **kwargs)\n"
     ]
    },
    {
     "name": "stdout",
     "output_type": "stream",
     "text": [
      "Predict Finish, 26.6945 26.5483 0.9633 0.0359 Evaluation Finish\n",
      "260: Data Load Finish, "
     ]
    },
    {
     "name": "stderr",
     "output_type": "stream",
     "text": [
      "C:\\Users\\vfgtr554\\anaconda3\\envs\\cctv\\lib\\site-packages\\statsmodels\\base\\model.py:606: ConvergenceWarning: Maximum Likelihood optimization failed to converge. Check mle_retvals\n",
      "  ConvergenceWarning)\n"
     ]
    },
    {
     "name": "stdout",
     "output_type": "stream",
     "text": [
      "Predict Finish, 26.6945 26.5483 0.9633 0.0359 Evaluation Finish\n",
      "261: Data Load Finish, Predict Finish, 3.2746 2.9493 0.1113 0.8817 Evaluation Finish\n",
      "262: Data Load Finish, "
     ]
    },
    {
     "name": "stderr",
     "output_type": "stream",
     "text": [
      "C:\\Users\\vfgtr554\\anaconda3\\envs\\cctv\\lib\\site-packages\\pandas\\core\\arraylike.py:364: RuntimeWarning: divide by zero encountered in log\n",
      "  result = getattr(ufunc, method)(*inputs, **kwargs)\n",
      "C:\\Users\\vfgtr554\\anaconda3\\envs\\cctv\\lib\\site-packages\\statsmodels\\base\\model.py:606: ConvergenceWarning: Maximum Likelihood optimization failed to converge. Check mle_retvals\n",
      "  ConvergenceWarning)\n"
     ]
    },
    {
     "name": "stdout",
     "output_type": "stream",
     "text": [
      "Predict Finish, 26.6945 26.5483 0.9633 0.0359 Evaluation Finish\n",
      "263: Data Load Finish, Predict Finish, 3.0852 2.5331 0.0889 0.8886 Evaluation Finish\n",
      "264: Data Load Finish, Predict Finish, 5.5824 4.8381 0.1672 0.7984 Evaluation Finish\n",
      "265: Data Load Finish, Predict Finish, 5.0707 4.2366 0.1451 0.8169 Evaluation Finish\n",
      "266: Data Load Finish, Predict Finish, 9.8466 9.4445 0.3361 0.6444 Evaluation Finish\n",
      "267: Data Load Finish, Predict Finish, 3.882 2.9788 0.1012 0.8598 Evaluation Finish\n",
      "268: Data Load Finish, Predict Finish, 5.2373 4.4223 0.1518 0.8109 Evaluation Finish\n",
      "269: Data Load Finish, Predict Finish, 3.7362 3.3442 0.1252 0.8651 Evaluation Finish\n",
      "270: Data Load Finish, Predict Finish, 11.3135 10.8839 0.3891 0.5914 Evaluation Finish\n",
      "271: Data Load Finish, Predict Finish, 3.4782 3.1434 0.1163 0.8744 Evaluation Finish\n",
      "272: Data Load Finish, "
     ]
    },
    {
     "name": "stderr",
     "output_type": "stream",
     "text": [
      "C:\\Users\\vfgtr554\\anaconda3\\envs\\cctv\\lib\\site-packages\\pandas\\core\\arraylike.py:364: RuntimeWarning: divide by zero encountered in log\n",
      "  result = getattr(ufunc, method)(*inputs, **kwargs)\n",
      "C:\\Users\\vfgtr554\\anaconda3\\envs\\cctv\\lib\\site-packages\\statsmodels\\base\\model.py:606: ConvergenceWarning: Maximum Likelihood optimization failed to converge. Check mle_retvals\n",
      "  ConvergenceWarning)\n"
     ]
    },
    {
     "name": "stdout",
     "output_type": "stream",
     "text": [
      "Predict Finish, 26.6945 26.5483 0.9633 0.0359 Evaluation Finish\n",
      "273: Data Load Finish, Predict Finish, 3.4299 2.6892 0.0927 0.8761 Evaluation Finish\n",
      "274: Data Load Finish, Predict Finish, 7.9584 7.3985 0.2613 0.7126 Evaluation Finish\n",
      "275: Data Load Finish, Predict Finish, 8.0366 7.5143 0.2651 0.7098 Evaluation Finish\n",
      "276: Data Load Finish, Predict Finish, 7.5286 6.7831 0.239 0.7281 Evaluation Finish\n",
      "277: Data Load Finish, "
     ]
    },
    {
     "name": "stderr",
     "output_type": "stream",
     "text": [
      "C:\\Users\\vfgtr554\\anaconda3\\envs\\cctv\\lib\\site-packages\\pandas\\core\\arraylike.py:364: RuntimeWarning: divide by zero encountered in log\n",
      "  result = getattr(ufunc, method)(*inputs, **kwargs)\n",
      "C:\\Users\\vfgtr554\\anaconda3\\envs\\cctv\\lib\\site-packages\\statsmodels\\base\\model.py:606: ConvergenceWarning: Maximum Likelihood optimization failed to converge. Check mle_retvals\n",
      "  ConvergenceWarning)\n",
      "C:\\Users\\vfgtr554\\anaconda3\\envs\\cctv\\lib\\site-packages\\pandas\\core\\arraylike.py:364: RuntimeWarning: divide by zero encountered in log\n",
      "  result = getattr(ufunc, method)(*inputs, **kwargs)\n"
     ]
    },
    {
     "name": "stdout",
     "output_type": "stream",
     "text": [
      "Predict Finish, 26.6945 26.5483 0.9633 0.0359 Evaluation Finish\n",
      "278: Data Load Finish, "
     ]
    },
    {
     "name": "stderr",
     "output_type": "stream",
     "text": [
      "C:\\Users\\vfgtr554\\anaconda3\\envs\\cctv\\lib\\site-packages\\statsmodels\\base\\model.py:606: ConvergenceWarning: Maximum Likelihood optimization failed to converge. Check mle_retvals\n",
      "  ConvergenceWarning)\n"
     ]
    },
    {
     "name": "stdout",
     "output_type": "stream",
     "text": [
      "Predict Finish, 26.6945 26.5483 0.9633 0.0359 Evaluation Finish\n",
      "279: Data Load Finish, Predict Finish, 5.3573 4.5511 0.1567 0.8065 Evaluation Finish\n",
      "280: Data Load Finish, Predict Finish, 4.2696 3.5011 0.1196 0.8458 Evaluation Finish\n",
      "281: Data Load Finish, Predict Finish, 5.0944 4.2291 0.1449 0.816 Evaluation Finish\n",
      "282: Data Load Finish, Predict Finish, 4.0302 3.0885 0.1054 0.8545 Evaluation Finish\n",
      "283: Data Load Finish, Predict Finish, 2.9183 2.5162 0.0897 0.8946 Evaluation Finish\n",
      "284: Data Load Finish, Predict Finish, 4.251 3.5598 0.1389 0.8465 Evaluation Finish\n",
      "285: Data Load Finish, Predict Finish, 8.8562 8.4051 0.2979 0.6802 Evaluation Finish\n",
      "286: Data Load Finish, Predict Finish, 3.6931 3.2504 0.1244 0.8666 Evaluation Finish\n",
      "287: Data Load Finish, Predict Finish, 7.3311 6.759 0.2374 0.7352 Evaluation Finish\n",
      "288: Data Load Finish, Predict Finish, 3.3302 2.8495 0.0995 0.8797 Evaluation Finish\n",
      "289: Data Load Finish, Predict Finish, 7.9816 7.4725 0.2639 0.7117 Evaluation Finish\n",
      "290: Data Load Finish, Predict Finish, 5.218 4.3755 0.171 0.8116 Evaluation Finish\n",
      "291: Data Load Finish, "
     ]
    },
    {
     "name": "stderr",
     "output_type": "stream",
     "text": [
      "C:\\Users\\vfgtr554\\anaconda3\\envs\\cctv\\lib\\site-packages\\pandas\\core\\arraylike.py:364: RuntimeWarning: divide by zero encountered in log\n",
      "  result = getattr(ufunc, method)(*inputs, **kwargs)\n",
      "C:\\Users\\vfgtr554\\anaconda3\\envs\\cctv\\lib\\site-packages\\statsmodels\\base\\model.py:606: ConvergenceWarning: Maximum Likelihood optimization failed to converge. Check mle_retvals\n",
      "  ConvergenceWarning)\n"
     ]
    },
    {
     "name": "stdout",
     "output_type": "stream",
     "text": [
      "Predict Finish, 26.6945 26.5483 0.9633 0.0359 Evaluation Finish\n",
      "292: Data Load Finish, Predict Finish, 4.9368 3.9639 0.1352 0.8217 Evaluation Finish\n",
      "293: Data Load Finish, "
     ]
    },
    {
     "name": "stderr",
     "output_type": "stream",
     "text": [
      "C:\\Users\\vfgtr554\\anaconda3\\envs\\cctv\\lib\\site-packages\\pandas\\core\\arraylike.py:364: RuntimeWarning: divide by zero encountered in log\n",
      "  result = getattr(ufunc, method)(*inputs, **kwargs)\n",
      "C:\\Users\\vfgtr554\\anaconda3\\envs\\cctv\\lib\\site-packages\\statsmodels\\base\\model.py:606: ConvergenceWarning: Maximum Likelihood optimization failed to converge. Check mle_retvals\n",
      "  ConvergenceWarning)\n"
     ]
    },
    {
     "name": "stdout",
     "output_type": "stream",
     "text": [
      "Predict Finish, 26.6945 26.5483 0.9633 0.0359 Evaluation Finish\n",
      "294: Data Load Finish, Predict Finish, 4.8383 3.8684 0.1318 0.8253 Evaluation Finish\n",
      "295: Data Load Finish, Predict Finish, 4.8798 4.0037 0.1365 0.8238 Evaluation Finish\n",
      "296: Data Load Finish, Predict Finish, 4.378 3.4311 0.1159 0.8419 Evaluation Finish\n",
      "297: Data Load Finish, Predict Finish, 4.5844 3.6539 0.1237 0.8344 Evaluation Finish\n",
      "298: Data Load Finish, Predict Finish, 7.9221 7.3732 0.2599 0.7139 Evaluation Finish\n",
      "299: Data Load Finish, Predict Finish, 3.5316 2.9685 0.1153 0.8725 Evaluation Finish\n",
      "300: Data Load Finish, Predict Finish, 7.0322 6.4219 0.2456 0.746 Evaluation Finish\n",
      "301: Data Load Finish, Predict Finish, 8.2607 7.756 0.2741 0.7017 Evaluation Finish\n",
      "302: Data Load Finish, Predict Finish, 12.0275 11.6983 0.4187 0.5656 Evaluation Finish\n",
      "303: Data Load Finish, Predict Finish, 5.1406 4.3012 0.1681 0.8143 Evaluation Finish\n",
      "304: Data Load Finish, "
     ]
    },
    {
     "name": "stderr",
     "output_type": "stream",
     "text": [
      "C:\\Users\\vfgtr554\\anaconda3\\envs\\cctv\\lib\\site-packages\\pandas\\core\\arraylike.py:364: RuntimeWarning: divide by zero encountered in log\n",
      "  result = getattr(ufunc, method)(*inputs, **kwargs)\n",
      "C:\\Users\\vfgtr554\\anaconda3\\envs\\cctv\\lib\\site-packages\\statsmodels\\base\\model.py:606: ConvergenceWarning: Maximum Likelihood optimization failed to converge. Check mle_retvals\n",
      "  ConvergenceWarning)\n",
      "C:\\Users\\vfgtr554\\anaconda3\\envs\\cctv\\lib\\site-packages\\pandas\\core\\arraylike.py:364: RuntimeWarning: divide by zero encountered in log\n",
      "  result = getattr(ufunc, method)(*inputs, **kwargs)\n"
     ]
    },
    {
     "name": "stdout",
     "output_type": "stream",
     "text": [
      "Predict Finish, 26.6945 26.5483 0.9633 0.0359 Evaluation Finish\n",
      "305: Data Load Finish, "
     ]
    },
    {
     "name": "stderr",
     "output_type": "stream",
     "text": [
      "C:\\Users\\vfgtr554\\anaconda3\\envs\\cctv\\lib\\site-packages\\statsmodels\\base\\model.py:606: ConvergenceWarning: Maximum Likelihood optimization failed to converge. Check mle_retvals\n",
      "  ConvergenceWarning)\n"
     ]
    },
    {
     "name": "stdout",
     "output_type": "stream",
     "text": [
      "Predict Finish, 26.6945 26.5483 0.9633 0.0359 Evaluation Finish\n",
      "306: Data Load Finish, Predict Finish, 9.6157 9.2005 0.3271 0.6527 Evaluation Finish\n",
      "307: Data Load Finish, "
     ]
    },
    {
     "name": "stderr",
     "output_type": "stream",
     "text": [
      "C:\\Users\\vfgtr554\\anaconda3\\envs\\cctv\\lib\\site-packages\\pandas\\core\\arraylike.py:364: RuntimeWarning: divide by zero encountered in log\n",
      "  result = getattr(ufunc, method)(*inputs, **kwargs)\n",
      "C:\\Users\\vfgtr554\\anaconda3\\envs\\cctv\\lib\\site-packages\\statsmodels\\base\\model.py:606: ConvergenceWarning: Maximum Likelihood optimization failed to converge. Check mle_retvals\n",
      "  ConvergenceWarning)\n",
      "C:\\Users\\vfgtr554\\anaconda3\\envs\\cctv\\lib\\site-packages\\pandas\\core\\arraylike.py:364: RuntimeWarning: divide by zero encountered in log\n",
      "  result = getattr(ufunc, method)(*inputs, **kwargs)\n"
     ]
    },
    {
     "name": "stdout",
     "output_type": "stream",
     "text": [
      "Predict Finish, 26.6945 26.5483 0.9633 0.0359 Evaluation Finish\n",
      "308: Data Load Finish, "
     ]
    },
    {
     "name": "stderr",
     "output_type": "stream",
     "text": [
      "C:\\Users\\vfgtr554\\anaconda3\\envs\\cctv\\lib\\site-packages\\statsmodels\\base\\model.py:606: ConvergenceWarning: Maximum Likelihood optimization failed to converge. Check mle_retvals\n",
      "  ConvergenceWarning)\n"
     ]
    },
    {
     "name": "stdout",
     "output_type": "stream",
     "text": [
      "Predict Finish, 26.6945 26.5483 0.9633 0.0359 Evaluation Finish\n",
      "309: Data Load Finish, Predict Finish, 5.1843 4.3566 0.1495 0.8128 Evaluation Finish\n",
      "310: Data Load Finish, Predict Finish, 7.6133 6.956 0.2449 0.725 Evaluation Finish\n",
      "311: Data Load Finish, "
     ]
    },
    {
     "name": "stderr",
     "output_type": "stream",
     "text": [
      "C:\\Users\\vfgtr554\\anaconda3\\envs\\cctv\\lib\\site-packages\\pandas\\core\\arraylike.py:364: RuntimeWarning: divide by zero encountered in log\n",
      "  result = getattr(ufunc, method)(*inputs, **kwargs)\n",
      "C:\\Users\\vfgtr554\\anaconda3\\envs\\cctv\\lib\\site-packages\\statsmodels\\base\\model.py:606: ConvergenceWarning: Maximum Likelihood optimization failed to converge. Check mle_retvals\n",
      "  ConvergenceWarning)\n"
     ]
    },
    {
     "name": "stdout",
     "output_type": "stream",
     "text": [
      "Predict Finish, 26.6945 26.5483 0.9633 0.0359 Evaluation Finish\n",
      "312: Data Load Finish, Predict Finish, 12.5957 12.283 0.4607 0.5451 Evaluation Finish\n",
      "313: Data Load Finish, Predict Finish, 9.9154 9.4917 0.3378 0.6419 Evaluation Finish\n",
      "314: Data Load Finish, "
     ]
    },
    {
     "name": "stderr",
     "output_type": "stream",
     "text": [
      "C:\\Users\\vfgtr554\\anaconda3\\envs\\cctv\\lib\\site-packages\\pandas\\core\\arraylike.py:364: RuntimeWarning: divide by zero encountered in log\n",
      "  result = getattr(ufunc, method)(*inputs, **kwargs)\n",
      "C:\\Users\\vfgtr554\\anaconda3\\envs\\cctv\\lib\\site-packages\\statsmodels\\base\\model.py:606: ConvergenceWarning: Maximum Likelihood optimization failed to converge. Check mle_retvals\n",
      "  ConvergenceWarning)\n"
     ]
    },
    {
     "name": "stdout",
     "output_type": "stream",
     "text": [
      "Predict Finish, 26.6945 26.5483 0.9633 0.0359 Evaluation Finish\n",
      "315: Data Load Finish, Predict Finish, 5.4381 4.6385 0.1597 0.8036 Evaluation Finish\n",
      "316: Data Load Finish, Predict Finish, 4.6432 3.6938 0.1253 0.8323 Evaluation Finish\n",
      "317: Data Load Finish, Predict Finish, 4.2085 3.372 0.1145 0.848 Evaluation Finish\n",
      "318: Data Load Finish, Predict Finish, 10.1939 9.8039 0.3492 0.6318 Evaluation Finish\n",
      "319: Data Load Finish, Predict Finish, 8.0986 7.599 0.2684 0.7075 Evaluation Finish\n",
      "320: Data Load Finish, "
     ]
    },
    {
     "name": "stderr",
     "output_type": "stream",
     "text": [
      "C:\\Users\\vfgtr554\\anaconda3\\envs\\cctv\\lib\\site-packages\\pandas\\core\\arraylike.py:364: RuntimeWarning: divide by zero encountered in log\n",
      "  result = getattr(ufunc, method)(*inputs, **kwargs)\n",
      "C:\\Users\\vfgtr554\\anaconda3\\envs\\cctv\\lib\\site-packages\\statsmodels\\base\\model.py:606: ConvergenceWarning: Maximum Likelihood optimization failed to converge. Check mle_retvals\n",
      "  ConvergenceWarning)\n",
      "C:\\Users\\vfgtr554\\anaconda3\\envs\\cctv\\lib\\site-packages\\pandas\\core\\arraylike.py:364: RuntimeWarning: divide by zero encountered in log\n",
      "  result = getattr(ufunc, method)(*inputs, **kwargs)\n"
     ]
    },
    {
     "name": "stdout",
     "output_type": "stream",
     "text": [
      "Predict Finish, 26.6945 26.5483 0.9633 0.0359 Evaluation Finish\n",
      "321: Data Load Finish, "
     ]
    },
    {
     "name": "stderr",
     "output_type": "stream",
     "text": [
      "C:\\Users\\vfgtr554\\anaconda3\\envs\\cctv\\lib\\site-packages\\statsmodels\\base\\model.py:606: ConvergenceWarning: Maximum Likelihood optimization failed to converge. Check mle_retvals\n",
      "  ConvergenceWarning)\n"
     ]
    },
    {
     "name": "stdout",
     "output_type": "stream",
     "text": [
      "Predict Finish, 26.6945 26.5483 0.9633 0.0359 Evaluation Finish\n",
      "322: Data Load Finish, Predict Finish, 2.9022 2.48 0.089 0.8952 Evaluation Finish\n",
      "323: Data Load Finish, Predict Finish, 4.4269 3.3946 0.1153 0.8401 Evaluation Finish\n",
      "324: Data Load Finish, Predict Finish, 4.4551 3.7225 0.1454 0.8391 Evaluation Finish\n",
      "325: Data Load Finish, Predict Finish, 7.4981 6.9595 0.2655 0.7292 Evaluation Finish\n",
      "326: Data Load Finish, Predict Finish, 6.232 5.5729 0.194 0.7749 Evaluation Finish\n",
      "327: "
     ]
    },
    {
     "name": "stderr",
     "output_type": "stream",
     "text": [
      "C:\\Users\\vfgtr554\\anaconda3\\envs\\cctv\\lib\\site-packages\\pandas\\core\\arraylike.py:364: RuntimeWarning: divide by zero encountered in log\n",
      "  result = getattr(ufunc, method)(*inputs, **kwargs)\n"
     ]
    },
    {
     "name": "stdout",
     "output_type": "stream",
     "text": [
      "Data Load Finish, "
     ]
    },
    {
     "name": "stderr",
     "output_type": "stream",
     "text": [
      "C:\\Users\\vfgtr554\\anaconda3\\envs\\cctv\\lib\\site-packages\\statsmodels\\base\\model.py:606: ConvergenceWarning: Maximum Likelihood optimization failed to converge. Check mle_retvals\n",
      "  ConvergenceWarning)\n"
     ]
    },
    {
     "name": "stdout",
     "output_type": "stream",
     "text": [
      "Predict Finish, 26.6945 26.5483 0.9633 0.0359 Evaluation Finish\n",
      "328: Data Load Finish, Predict Finish, 10.0883 9.6482 0.3642 0.6357 Evaluation Finish\n",
      "329: Data Load Finish, Predict Finish, 3.7949 3.0652 0.1202 0.8629 Evaluation Finish\n",
      "330: "
     ]
    },
    {
     "name": "stderr",
     "output_type": "stream",
     "text": [
      "C:\\Users\\vfgtr554\\anaconda3\\envs\\cctv\\lib\\site-packages\\pandas\\core\\arraylike.py:364: RuntimeWarning: divide by zero encountered in log\n",
      "  result = getattr(ufunc, method)(*inputs, **kwargs)\n"
     ]
    },
    {
     "name": "stdout",
     "output_type": "stream",
     "text": [
      "Data Load Finish, "
     ]
    },
    {
     "name": "stderr",
     "output_type": "stream",
     "text": [
      "C:\\Users\\vfgtr554\\anaconda3\\envs\\cctv\\lib\\site-packages\\statsmodels\\base\\model.py:606: ConvergenceWarning: Maximum Likelihood optimization failed to converge. Check mle_retvals\n",
      "  ConvergenceWarning)\n",
      "C:\\Users\\vfgtr554\\anaconda3\\envs\\cctv\\lib\\site-packages\\pandas\\core\\arraylike.py:364: RuntimeWarning: divide by zero encountered in log\n",
      "  result = getattr(ufunc, method)(*inputs, **kwargs)\n"
     ]
    },
    {
     "name": "stdout",
     "output_type": "stream",
     "text": [
      "Predict Finish, 26.6945 26.5483 0.9633 0.0359 Evaluation Finish\n",
      "331: Data Load Finish, "
     ]
    },
    {
     "name": "stderr",
     "output_type": "stream",
     "text": [
      "C:\\Users\\vfgtr554\\anaconda3\\envs\\cctv\\lib\\site-packages\\statsmodels\\base\\model.py:606: ConvergenceWarning: Maximum Likelihood optimization failed to converge. Check mle_retvals\n",
      "  ConvergenceWarning)\n"
     ]
    },
    {
     "name": "stdout",
     "output_type": "stream",
     "text": [
      "Predict Finish, 26.6945 26.5483 0.9633 0.0359 Evaluation Finish\n",
      "332: Data Load Finish, Predict Finish, 5.8595 5.112 0.1976 0.7884 Evaluation Finish\n",
      "333: Data Load Finish, Predict Finish, 12.1515 11.7611 0.442 0.5611 Evaluation Finish\n",
      "334: Data Load Finish, Predict Finish, 19.5891 19.3888 0.7215 0.2925 Evaluation Finish\n",
      "335: Data Load Finish, "
     ]
    },
    {
     "name": "stderr",
     "output_type": "stream",
     "text": [
      "C:\\Users\\vfgtr554\\anaconda3\\envs\\cctv\\lib\\site-packages\\pandas\\core\\arraylike.py:364: RuntimeWarning: divide by zero encountered in log\n",
      "  result = getattr(ufunc, method)(*inputs, **kwargs)\n",
      "C:\\Users\\vfgtr554\\anaconda3\\envs\\cctv\\lib\\site-packages\\statsmodels\\base\\model.py:606: ConvergenceWarning: Maximum Likelihood optimization failed to converge. Check mle_retvals\n",
      "  ConvergenceWarning)\n"
     ]
    },
    {
     "name": "stdout",
     "output_type": "stream",
     "text": [
      "Predict Finish, 26.6945 26.5483 0.9633 0.0359 Evaluation Finish\n",
      "336: Data Load Finish, Predict Finish, 10.444 10.0264 0.378 0.6228 Evaluation Finish\n",
      "337: Data Load Finish, Predict Finish, 4.3161 3.5933 0.1405 0.8441 Evaluation Finish\n",
      "338: Data Load Finish, Predict Finish, 16.553 16.307 0.6085 0.4022 Evaluation Finish\n",
      "339: Data Load Finish, Predict Finish, 6.2687 5.614 0.2162 0.7736 Evaluation Finish\n",
      "340: Data Load Finish, Predict Finish, 3.8654 3.1234 0.1225 0.8604 Evaluation Finish\n",
      "341: Data Load Finish, Predict Finish, 5.1663 4.3883 0.1709 0.8134 Evaluation Finish\n",
      "342: Data Load Finish, "
     ]
    },
    {
     "name": "stderr",
     "output_type": "stream",
     "text": [
      "C:\\Users\\vfgtr554\\anaconda3\\envs\\cctv\\lib\\site-packages\\pandas\\core\\arraylike.py:364: RuntimeWarning: divide by zero encountered in log\n",
      "  result = getattr(ufunc, method)(*inputs, **kwargs)\n",
      "C:\\Users\\vfgtr554\\anaconda3\\envs\\cctv\\lib\\site-packages\\statsmodels\\base\\model.py:606: ConvergenceWarning: Maximum Likelihood optimization failed to converge. Check mle_retvals\n",
      "  ConvergenceWarning)\n"
     ]
    },
    {
     "name": "stdout",
     "output_type": "stream",
     "text": [
      "Predict Finish, 26.6945 26.5483 0.9633 0.0359 Evaluation Finish\n",
      "343: Data Load Finish, Predict Finish, 8.3299 7.7683 0.2953 0.6992 Evaluation Finish\n",
      "344: Data Load Finish, Predict Finish, 3.2685 2.9089 0.1108 0.882 Evaluation Finish\n",
      "345: Data Load Finish, Predict Finish, 3.1355 2.7598 0.1051 0.8868 Evaluation Finish\n",
      "346: Data Load Finish, Predict Finish, 11.1026 10.7271 0.3829 0.599 Evaluation Finish\n",
      "347: Data Load Finish, "
     ]
    },
    {
     "name": "stderr",
     "output_type": "stream",
     "text": [
      "C:\\Users\\vfgtr554\\anaconda3\\envs\\cctv\\lib\\site-packages\\pandas\\core\\arraylike.py:364: RuntimeWarning: divide by zero encountered in log\n",
      "  result = getattr(ufunc, method)(*inputs, **kwargs)\n",
      "C:\\Users\\vfgtr554\\anaconda3\\envs\\cctv\\lib\\site-packages\\statsmodels\\base\\model.py:606: ConvergenceWarning: Maximum Likelihood optimization failed to converge. Check mle_retvals\n",
      "  ConvergenceWarning)\n",
      "C:\\Users\\vfgtr554\\anaconda3\\envs\\cctv\\lib\\site-packages\\pandas\\core\\arraylike.py:364: RuntimeWarning: divide by zero encountered in log\n",
      "  result = getattr(ufunc, method)(*inputs, **kwargs)\n"
     ]
    },
    {
     "name": "stdout",
     "output_type": "stream",
     "text": [
      "Predict Finish, 26.6945 26.5483 0.9633 0.0359 Evaluation Finish\n",
      "348: Data Load Finish, "
     ]
    },
    {
     "name": "stderr",
     "output_type": "stream",
     "text": [
      "C:\\Users\\vfgtr554\\anaconda3\\envs\\cctv\\lib\\site-packages\\statsmodels\\base\\model.py:606: ConvergenceWarning: Maximum Likelihood optimization failed to converge. Check mle_retvals\n",
      "  ConvergenceWarning)\n"
     ]
    },
    {
     "name": "stdout",
     "output_type": "stream",
     "text": [
      "Predict Finish, 26.6945 26.5483 0.9633 0.0359 Evaluation Finish\n",
      "349: Data Load Finish, Predict Finish, 7.2517 6.6958 0.2353 0.7381 Evaluation Finish\n",
      "350: Data Load Finish, Predict Finish, 13.1637 12.8641 0.4616 0.5246 Evaluation Finish\n",
      "351: Data Load Finish, Predict Finish, 3.8408 2.9334 0.0993 0.8613 Evaluation Finish\n",
      "352: Data Load Finish, Predict Finish, 3.812 3.0459 0.1038 0.8623 Evaluation Finish\n",
      "353: Data Load Finish, Predict Finish, 4.068 3.4113 0.1329 0.8531 Evaluation Finish\n",
      "354: "
     ]
    },
    {
     "name": "stderr",
     "output_type": "stream",
     "text": [
      "C:\\Users\\vfgtr554\\anaconda3\\envs\\cctv\\lib\\site-packages\\pandas\\core\\arraylike.py:364: RuntimeWarning: divide by zero encountered in log\n",
      "  result = getattr(ufunc, method)(*inputs, **kwargs)\n"
     ]
    },
    {
     "name": "stdout",
     "output_type": "stream",
     "text": [
      "Data Load Finish, "
     ]
    },
    {
     "name": "stderr",
     "output_type": "stream",
     "text": [
      "C:\\Users\\vfgtr554\\anaconda3\\envs\\cctv\\lib\\site-packages\\statsmodels\\base\\model.py:606: ConvergenceWarning: Maximum Likelihood optimization failed to converge. Check mle_retvals\n",
      "  ConvergenceWarning)\n"
     ]
    },
    {
     "name": "stdout",
     "output_type": "stream",
     "text": [
      "Predict Finish, 26.6945 26.5483 0.9633 0.0359 Evaluation Finish\n",
      "355: Data Load Finish, Predict Finish, 4.1722 3.4614 0.1354 0.8493 Evaluation Finish\n",
      "356: Data Load Finish, "
     ]
    },
    {
     "name": "stderr",
     "output_type": "stream",
     "text": [
      "C:\\Users\\vfgtr554\\anaconda3\\envs\\cctv\\lib\\site-packages\\pandas\\core\\arraylike.py:364: RuntimeWarning: divide by zero encountered in log\n",
      "  result = getattr(ufunc, method)(*inputs, **kwargs)\n",
      "C:\\Users\\vfgtr554\\anaconda3\\envs\\cctv\\lib\\site-packages\\statsmodels\\base\\model.py:606: ConvergenceWarning: Maximum Likelihood optimization failed to converge. Check mle_retvals\n",
      "  ConvergenceWarning)\n"
     ]
    },
    {
     "name": "stdout",
     "output_type": "stream",
     "text": [
      "Predict Finish, 26.6945 26.5483 0.9633 0.0359 Evaluation Finish\n",
      "357: Data Load Finish, Predict Finish, 4.3928 3.599 0.1413 0.8414 Evaluation Finish\n",
      "358: Data Load Finish, "
     ]
    },
    {
     "name": "stderr",
     "output_type": "stream",
     "text": [
      "C:\\Users\\vfgtr554\\anaconda3\\envs\\cctv\\lib\\site-packages\\pandas\\core\\arraylike.py:364: RuntimeWarning: divide by zero encountered in log\n",
      "  result = getattr(ufunc, method)(*inputs, **kwargs)\n",
      "C:\\Users\\vfgtr554\\anaconda3\\envs\\cctv\\lib\\site-packages\\statsmodels\\base\\model.py:606: ConvergenceWarning: Maximum Likelihood optimization failed to converge. Check mle_retvals\n",
      "  ConvergenceWarning)\n"
     ]
    },
    {
     "name": "stdout",
     "output_type": "stream",
     "text": [
      "Predict Finish, 26.6945 26.5483 0.9633 0.0359 Evaluation Finish\n",
      "359: Data Load Finish, Predict Finish, 2.8442 2.4229 0.0903 0.8973 Evaluation Finish\n",
      "360: Data Load Finish, Predict Finish, 2.7991 2.3942 0.0882 0.8989 Evaluation Finish\n",
      "361: Data Load Finish, Predict Finish, 3.0524 2.5524 0.0978 0.8898 Evaluation Finish\n",
      "362: Data Load Finish, Predict Finish, 3.6572 2.8321 0.0966 0.8679 Evaluation Finish\n",
      "363: Data Load Finish, Predict Finish, 7.5499 6.8052 0.2396 0.7273 Evaluation Finish\n",
      "364: Data Load Finish, Predict Finish, 7.8001 7.2828 0.2568 0.7183 Evaluation Finish\n",
      "365: Data Load Finish, Predict Finish, 3.8146 3.2254 0.1254 0.8622 Evaluation Finish\n",
      "366: Data Load Finish, Predict Finish, 3.4534 2.7884 0.0958 0.8753 Evaluation Finish\n",
      "367: Data Load Finish, Predict Finish, 5.0439 4.2945 0.1671 0.8178 Evaluation Finish\n",
      "368: Data Load Finish, Predict Finish, 3.3277 2.6879 0.0928 0.8798 Evaluation Finish\n",
      "369: Data Load Finish, Predict Finish, 5.0298 4.0735 0.1391 0.8183 Evaluation Finish\n",
      "370: Data Load Finish, Predict Finish, 3.2229 2.9476 0.1079 0.8836 Evaluation Finish\n",
      "371: Data Load Finish, Predict Finish, 2.933 2.5381 0.0957 0.8941 Evaluation Finish\n",
      "372: Data Load Finish, Predict Finish, 14.3566 14.0709 0.5263 0.4815 Evaluation Finish\n",
      "373: Data Load Finish, "
     ]
    },
    {
     "name": "stderr",
     "output_type": "stream",
     "text": [
      "C:\\Users\\vfgtr554\\anaconda3\\envs\\cctv\\lib\\site-packages\\pandas\\core\\arraylike.py:364: RuntimeWarning: divide by zero encountered in log\n",
      "  result = getattr(ufunc, method)(*inputs, **kwargs)\n",
      "C:\\Users\\vfgtr554\\anaconda3\\envs\\cctv\\lib\\site-packages\\statsmodels\\base\\model.py:606: ConvergenceWarning: Maximum Likelihood optimization failed to converge. Check mle_retvals\n",
      "  ConvergenceWarning)\n",
      "C:\\Users\\vfgtr554\\anaconda3\\envs\\cctv\\lib\\site-packages\\pandas\\core\\arraylike.py:364: RuntimeWarning: divide by zero encountered in log\n",
      "  result = getattr(ufunc, method)(*inputs, **kwargs)\n"
     ]
    },
    {
     "name": "stdout",
     "output_type": "stream",
     "text": [
      "Predict Finish, 26.6945 26.5483 0.9633 0.0359 Evaluation Finish\n",
      "374: Data Load Finish, "
     ]
    },
    {
     "name": "stderr",
     "output_type": "stream",
     "text": [
      "C:\\Users\\vfgtr554\\anaconda3\\envs\\cctv\\lib\\site-packages\\statsmodels\\base\\model.py:606: ConvergenceWarning: Maximum Likelihood optimization failed to converge. Check mle_retvals\n",
      "  ConvergenceWarning)\n"
     ]
    },
    {
     "name": "stdout",
     "output_type": "stream",
     "text": [
      "Predict Finish, 26.6945 26.5483 0.9633 0.0359 Evaluation Finish\n",
      "375: Data Load Finish, Predict Finish, 35.0792 34.961 1.2926 -0.2669 Evaluation Finish\n",
      "376: Data Load Finish, Predict Finish, 54.9154 54.8445 2.0218 -0.9833 Evaluation Finish\n",
      "377: Data Load Finish, Predict Finish, 28.1343 27.985 1.0367 -0.0161 Evaluation Finish\n",
      "378: Data Load Finish, Predict Finish, 29.9164 29.6217 1.0966 -0.0804 Evaluation Finish\n",
      "379: Data Load Finish, "
     ]
    },
    {
     "name": "stderr",
     "output_type": "stream",
     "text": [
      "C:\\Users\\vfgtr554\\anaconda3\\envs\\cctv\\lib\\site-packages\\pandas\\core\\arraylike.py:364: RuntimeWarning: divide by zero encountered in log\n",
      "  result = getattr(ufunc, method)(*inputs, **kwargs)\n",
      "C:\\Users\\vfgtr554\\anaconda3\\envs\\cctv\\lib\\site-packages\\statsmodels\\base\\model.py:606: ConvergenceWarning: Maximum Likelihood optimization failed to converge. Check mle_retvals\n",
      "  ConvergenceWarning)\n"
     ]
    },
    {
     "name": "stdout",
     "output_type": "stream",
     "text": [
      "Predict Finish, 26.6945 26.5483 0.9633 0.0359 Evaluation Finish\n",
      "380: Data Load Finish, Predict Finish, 8.4491 7.1977 0.2735 0.6949 Evaluation Finish\n",
      "381: Data Load Finish, Predict Finish, 4.2226 3.1883 0.1084 0.8475 Evaluation Finish\n",
      "382: Data Load Finish, Predict Finish, 3.2348 2.5497 0.0892 0.8832 Evaluation Finish\n",
      "383: Data Load Finish, Predict Finish, 3.1796 2.7479 0.0965 0.8852 Evaluation Finish\n",
      "384: Data Load Finish, Predict Finish, 3.5989 2.961 0.1018 0.87 Evaluation Finish\n",
      "385: "
     ]
    },
    {
     "name": "stderr",
     "output_type": "stream",
     "text": [
      "C:\\Users\\vfgtr554\\anaconda3\\envs\\cctv\\lib\\site-packages\\pandas\\core\\arraylike.py:364: RuntimeWarning: divide by zero encountered in log\n",
      "  result = getattr(ufunc, method)(*inputs, **kwargs)\n"
     ]
    },
    {
     "name": "stdout",
     "output_type": "stream",
     "text": [
      "Data Load Finish, "
     ]
    },
    {
     "name": "stderr",
     "output_type": "stream",
     "text": [
      "C:\\Users\\vfgtr554\\anaconda3\\envs\\cctv\\lib\\site-packages\\statsmodels\\base\\model.py:606: ConvergenceWarning: Maximum Likelihood optimization failed to converge. Check mle_retvals\n",
      "  ConvergenceWarning)\n"
     ]
    },
    {
     "name": "stdout",
     "output_type": "stream",
     "text": [
      "Predict Finish, 26.6945 26.5483 0.9633 0.0359 Evaluation Finish\n",
      "386: Data Load Finish, Predict Finish, 3.3745 2.9922 0.1144 0.8781 Evaluation Finish\n",
      "387: Data Load Finish, Predict Finish, 4.6232 3.8704 0.1507 0.833 Evaluation Finish\n",
      "388: Data Load Finish, Predict Finish, 3.1225 2.615 0.0916 0.8872 Evaluation Finish\n",
      "389: Data Load Finish, Predict Finish, 17.579 17.3538 0.6468 0.3651 Evaluation Finish\n",
      "390: Data Load Finish, "
     ]
    },
    {
     "name": "stderr",
     "output_type": "stream",
     "text": [
      "C:\\Users\\vfgtr554\\anaconda3\\envs\\cctv\\lib\\site-packages\\pandas\\core\\arraylike.py:364: RuntimeWarning: divide by zero encountered in log\n",
      "  result = getattr(ufunc, method)(*inputs, **kwargs)\n",
      "C:\\Users\\vfgtr554\\anaconda3\\envs\\cctv\\lib\\site-packages\\statsmodels\\base\\model.py:606: ConvergenceWarning: Maximum Likelihood optimization failed to converge. Check mle_retvals\n",
      "  ConvergenceWarning)\n"
     ]
    },
    {
     "name": "stdout",
     "output_type": "stream",
     "text": [
      "Predict Finish, 26.6945 26.5483 0.9633 0.0359 Evaluation Finish\n",
      "391: Data Load Finish, Predict Finish, 8.5603 8.0771 0.2858 0.6908 Evaluation Finish\n",
      "392: Data Load Finish, Predict Finish, 7.6248 7.0967 0.2499 0.7246 Evaluation Finish\n",
      "393: Data Load Finish, Predict Finish, 5.2285 4.088 0.1399 0.8112 Evaluation Finish\n",
      "394: Data Load Finish, Predict Finish, 4.1805 3.3418 0.1134 0.849 Evaluation Finish\n",
      "395: Data Load Finish, Predict Finish, 6.9734 6.3317 0.2221 0.7482 Evaluation Finish\n",
      "396: Data Load Finish, Predict Finish, 4.6051 3.6509 0.1237 0.8337 Evaluation Finish\n",
      "397: Data Load Finish, Predict Finish, 5.2824 4.415 0.171 0.8092 Evaluation Finish\n",
      "398: Data Load Finish, Predict Finish, 6.7436 6.0974 0.2136 0.7565 Evaluation Finish\n",
      "399: Data Load Finish, Predict Finish, 8.8649 8.4066 0.2979 0.6798 Evaluation Finish\n",
      "400: Data Load Finish, Predict Finish, 9.6468 9.1605 0.3254 0.6516 Evaluation Finish\n",
      "401: Data Load Finish, Predict Finish, 5.4894 4.7126 0.1626 0.8018 Evaluation Finish\n",
      "402: Data Load Finish, Predict Finish, 5.7379 4.8541 0.1679 0.7928 Evaluation Finish\n",
      "403: Data Load Finish, Predict Finish, 7.8997 7.2429 0.255 0.7147 Evaluation Finish\n",
      "404: Data Load Finish, Predict Finish, 6.9246 6.2491 0.219 0.7499 Evaluation Finish\n",
      "405: Data Load Finish, Predict Finish, 6.2811 5.5815 0.2151 0.7732 Evaluation Finish\n",
      "406: Data Load Finish, Predict Finish, 2.8442 2.4248 0.0907 0.8973 Evaluation Finish\n",
      "407: Data Load Finish, Predict Finish, 3.6237 2.9651 0.1158 0.8691 Evaluation Finish\n",
      "408: Data Load Finish, Predict Finish, 2.8477 2.4157 0.0891 0.8972 Evaluation Finish\n",
      "409: Data Load Finish, Predict Finish, 4.1292 3.5164 0.1356 0.8509 Evaluation Finish\n",
      "410: Data Load Finish, Predict Finish, 2.9899 2.5709 0.0909 0.892 Evaluation Finish\n",
      "411: Data Load Finish, Predict Finish, 4.9714 4.1029 0.1405 0.8205 Evaluation Finish\n",
      "412: Data Load Finish, Predict Finish, 11.8487 11.5148 0.4325 0.5721 Evaluation Finish\n",
      "413: Data Load Finish, Predict Finish, 6.9577 6.3358 0.2218 0.7487 Evaluation Finish\n",
      "414: Data Load Finish, Predict Finish, 2.9588 2.6625 0.0996 0.8931 Evaluation Finish\n",
      "415: Data Load Finish, "
     ]
    },
    {
     "name": "stderr",
     "output_type": "stream",
     "text": [
      "C:\\Users\\vfgtr554\\anaconda3\\envs\\cctv\\lib\\site-packages\\pandas\\core\\arraylike.py:364: RuntimeWarning: divide by zero encountered in log\n",
      "  result = getattr(ufunc, method)(*inputs, **kwargs)\n",
      "C:\\Users\\vfgtr554\\anaconda3\\envs\\cctv\\lib\\site-packages\\statsmodels\\base\\model.py:606: ConvergenceWarning: Maximum Likelihood optimization failed to converge. Check mle_retvals\n",
      "  ConvergenceWarning)\n"
     ]
    },
    {
     "name": "stdout",
     "output_type": "stream",
     "text": [
      "Predict Finish, 26.6945 26.5483 0.9633 0.0359 Evaluation Finish\n",
      "416: Data Load Finish, Predict Finish, 3.9309 3.1457 0.1237 0.858 Evaluation Finish\n",
      "417: Data Load Finish, Predict Finish, 4.3754 3.5428 0.1223 0.842 Evaluation Finish\n",
      "418: Data Load Finish, Predict Finish, 14.9106 14.6275 0.5469 0.4615 Evaluation Finish\n",
      "419: Data Load Finish, "
     ]
    },
    {
     "name": "stderr",
     "output_type": "stream",
     "text": [
      "C:\\Users\\vfgtr554\\anaconda3\\envs\\cctv\\lib\\site-packages\\pandas\\core\\arraylike.py:364: RuntimeWarning: divide by zero encountered in log\n",
      "  result = getattr(ufunc, method)(*inputs, **kwargs)\n",
      "C:\\Users\\vfgtr554\\anaconda3\\envs\\cctv\\lib\\site-packages\\statsmodels\\base\\model.py:606: ConvergenceWarning: Maximum Likelihood optimization failed to converge. Check mle_retvals\n",
      "  ConvergenceWarning)\n"
     ]
    },
    {
     "name": "stdout",
     "output_type": "stream",
     "text": [
      "Predict Finish, 26.6945 26.5483 0.9633 0.0359 Evaluation Finish\n",
      "420: Data Load Finish, Predict Finish, 3.5038 3.1404 0.1154 0.8735 Evaluation Finish\n",
      "421: Data Load Finish, "
     ]
    },
    {
     "name": "stderr",
     "output_type": "stream",
     "text": [
      "C:\\Users\\vfgtr554\\anaconda3\\envs\\cctv\\lib\\site-packages\\pandas\\core\\arraylike.py:364: RuntimeWarning: divide by zero encountered in log\n",
      "  result = getattr(ufunc, method)(*inputs, **kwargs)\n",
      "C:\\Users\\vfgtr554\\anaconda3\\envs\\cctv\\lib\\site-packages\\statsmodels\\base\\model.py:606: ConvergenceWarning: Maximum Likelihood optimization failed to converge. Check mle_retvals\n",
      "  ConvergenceWarning)\n"
     ]
    },
    {
     "name": "stdout",
     "output_type": "stream",
     "text": [
      "Predict Finish, 26.6945 26.5483 0.9633 0.0359 Evaluation Finish\n",
      "422: Data Load Finish, Predict Finish, 6.3186 5.616 0.1954 0.7718 Evaluation Finish\n",
      "423: Data Load Finish, "
     ]
    },
    {
     "name": "stderr",
     "output_type": "stream",
     "text": [
      "C:\\Users\\vfgtr554\\anaconda3\\envs\\cctv\\lib\\site-packages\\pandas\\core\\arraylike.py:364: RuntimeWarning: divide by zero encountered in log\n",
      "  result = getattr(ufunc, method)(*inputs, **kwargs)\n",
      "C:\\Users\\vfgtr554\\anaconda3\\envs\\cctv\\lib\\site-packages\\statsmodels\\base\\model.py:606: ConvergenceWarning: Maximum Likelihood optimization failed to converge. Check mle_retvals\n",
      "  ConvergenceWarning)\n"
     ]
    },
    {
     "name": "stdout",
     "output_type": "stream",
     "text": [
      "Predict Finish, 26.6945 26.5483 0.9633 0.0359 Evaluation Finish\n",
      "424: Data Load Finish, Predict Finish, 5.5291 4.5981 0.1764 0.8003 Evaluation Finish\n",
      "425: Data Load Finish, Predict Finish, 2.9834 2.6318 0.0944 0.8923 Evaluation Finish\n",
      "426: Data Load Finish, Predict Finish, 15.6651 15.4036 0.5753 0.4343 Evaluation Finish\n",
      "427: Data Load Finish, Predict Finish, 22.5818 22.4081 0.8322 0.1845 Evaluation Finish\n",
      "428: Data Load Finish, Predict Finish, 25.7057 25.5493 0.9475 0.0716 Evaluation Finish\n",
      "429: Data Load Finish, Predict Finish, 29.9941 29.7775 1.1025 -0.0832 Evaluation Finish\n",
      "430: Data Load Finish, "
     ]
    },
    {
     "name": "stderr",
     "output_type": "stream",
     "text": [
      "C:\\Users\\vfgtr554\\anaconda3\\envs\\cctv\\lib\\site-packages\\pandas\\core\\arraylike.py:364: RuntimeWarning: divide by zero encountered in log\n",
      "  result = getattr(ufunc, method)(*inputs, **kwargs)\n",
      "C:\\Users\\vfgtr554\\anaconda3\\envs\\cctv\\lib\\site-packages\\statsmodels\\base\\model.py:606: ConvergenceWarning: Maximum Likelihood optimization failed to converge. Check mle_retvals\n",
      "  ConvergenceWarning)\n"
     ]
    },
    {
     "name": "stdout",
     "output_type": "stream",
     "text": [
      "Predict Finish, 26.6945 26.5483 0.9633 0.0359 Evaluation Finish\n",
      "431: Data Load Finish, Predict Finish, 21.9331 21.7552 0.8082 0.2079 Evaluation Finish\n",
      "432: Data Load Finish, Predict Finish, 10.9813 10.602 0.3783 0.6034 Evaluation Finish\n",
      "433: Data Load Finish, Predict Finish, 15.1397 14.881 0.5354 0.4532 Evaluation Finish\n",
      "434: Data Load Finish, Predict Finish, 7.5576 6.9911 0.2459 0.7271 Evaluation Finish\n",
      "435: Data Load Finish, Predict Finish, 9.5706 9.0575 0.3215 0.6544 Evaluation Finish\n",
      "436: Data Load Finish, Predict Finish, 10.183 9.7861 0.3488 0.6322 Evaluation Finish\n",
      "437: Data Load Finish, Predict Finish, 5.1756 4.2571 0.1462 0.8131 Evaluation Finish\n",
      "438: Data Load Finish, Predict Finish, 3.9222 3.2644 0.1122 0.8583 Evaluation Finish\n",
      "439: Data Load Finish, Predict Finish, 2.8044 2.4603 0.0896 0.8987 Evaluation Finish\n",
      "440: Data Load Finish, Predict Finish, 7.087 6.4915 0.2486 0.7441 Evaluation Finish\n",
      "441: Data Load Finish, Predict Finish, 3.4477 2.8578 0.1111 0.8755 Evaluation Finish\n",
      "442: Data Load Finish, Predict Finish, 4.8649 3.9988 0.1569 0.8243 Evaluation Finish\n",
      "443: Data Load Finish, Predict Finish, 7.5211 6.924 0.2433 0.7284 Evaluation Finish\n",
      "444: Data Load Finish, "
     ]
    },
    {
     "name": "stderr",
     "output_type": "stream",
     "text": [
      "C:\\Users\\vfgtr554\\anaconda3\\envs\\cctv\\lib\\site-packages\\pandas\\core\\arraylike.py:364: RuntimeWarning: divide by zero encountered in log\n",
      "  result = getattr(ufunc, method)(*inputs, **kwargs)\n",
      "C:\\Users\\vfgtr554\\anaconda3\\envs\\cctv\\lib\\site-packages\\statsmodels\\base\\model.py:606: ConvergenceWarning: Maximum Likelihood optimization failed to converge. Check mle_retvals\n",
      "  ConvergenceWarning)\n"
     ]
    },
    {
     "name": "stdout",
     "output_type": "stream",
     "text": [
      "Predict Finish, 26.6945 26.5483 0.9633 0.0359 Evaluation Finish\n",
      "445: Data Load Finish, Predict Finish, 8.8795 8.3512 0.2959 0.6793 Evaluation Finish\n",
      "446: Data Load Finish, Predict Finish, 3.1495 2.7154 0.0957 0.8863 Evaluation Finish\n",
      "447: Data Load Finish, Predict Finish, 3.151 2.6902 0.0944 0.8862 Evaluation Finish\n",
      "448: Data Load Finish, "
     ]
    },
    {
     "name": "stderr",
     "output_type": "stream",
     "text": [
      "C:\\Users\\vfgtr554\\anaconda3\\envs\\cctv\\lib\\site-packages\\pandas\\core\\arraylike.py:364: RuntimeWarning: divide by zero encountered in log\n",
      "  result = getattr(ufunc, method)(*inputs, **kwargs)\n",
      "C:\\Users\\vfgtr554\\anaconda3\\envs\\cctv\\lib\\site-packages\\statsmodels\\base\\model.py:606: ConvergenceWarning: Maximum Likelihood optimization failed to converge. Check mle_retvals\n",
      "  ConvergenceWarning)\n"
     ]
    },
    {
     "name": "stdout",
     "output_type": "stream",
     "text": [
      "Predict Finish, 26.6945 26.5483 0.9633 0.0359 Evaluation Finish\n",
      "449: Data Load Finish, Predict Finish, 5.1547 4.316 0.148 0.8138 Evaluation Finish\n",
      "450: Data Load Finish, Predict Finish, 4.1593 3.2372 0.1094 0.8498 Evaluation Finish\n",
      "451: Data Load Finish, Predict Finish, 2.8878 2.4852 0.0937 0.8957 Evaluation Finish\n",
      "452: Data Load Finish, Predict Finish, 5.9094 5.206 0.1806 0.7866 Evaluation Finish\n",
      "453: Data Load Finish, "
     ]
    },
    {
     "name": "stderr",
     "output_type": "stream",
     "text": [
      "C:\\Users\\vfgtr554\\anaconda3\\envs\\cctv\\lib\\site-packages\\pandas\\core\\arraylike.py:364: RuntimeWarning: divide by zero encountered in log\n",
      "  result = getattr(ufunc, method)(*inputs, **kwargs)\n",
      "C:\\Users\\vfgtr554\\anaconda3\\envs\\cctv\\lib\\site-packages\\statsmodels\\base\\model.py:606: ConvergenceWarning: Maximum Likelihood optimization failed to converge. Check mle_retvals\n",
      "  ConvergenceWarning)\n"
     ]
    },
    {
     "name": "stdout",
     "output_type": "stream",
     "text": [
      "Predict Finish, 26.6945 26.5483 0.9633 0.0359 Evaluation Finish\n",
      "454: Data Load Finish, Predict Finish, 7.5964 7.0619 0.2486 0.7257 Evaluation Finish\n",
      "455: Data Load Finish, Predict Finish, 8.8652 8.3959 0.2976 0.6798 Evaluation Finish\n",
      "456: Data Load Finish, "
     ]
    },
    {
     "name": "stderr",
     "output_type": "stream",
     "text": [
      "C:\\Users\\vfgtr554\\anaconda3\\envs\\cctv\\lib\\site-packages\\pandas\\core\\arraylike.py:364: RuntimeWarning: divide by zero encountered in log\n",
      "  result = getattr(ufunc, method)(*inputs, **kwargs)\n",
      "C:\\Users\\vfgtr554\\anaconda3\\envs\\cctv\\lib\\site-packages\\statsmodels\\base\\model.py:606: ConvergenceWarning: Maximum Likelihood optimization failed to converge. Check mle_retvals\n",
      "  ConvergenceWarning)\n"
     ]
    },
    {
     "name": "stdout",
     "output_type": "stream",
     "text": [
      "Predict Finish, 26.6945 26.5483 0.9633 0.0359 Evaluation Finish\n",
      "457: Data Load Finish, Predict Finish, 6.4265 5.7781 0.2016 0.7679 Evaluation Finish\n",
      "458: Data Load Finish, Predict Finish, 4.7783 3.8188 0.1298 0.8274 Evaluation Finish\n",
      "459: Data Load Finish, "
     ]
    },
    {
     "name": "stderr",
     "output_type": "stream",
     "text": [
      "C:\\Users\\vfgtr554\\anaconda3\\envs\\cctv\\lib\\site-packages\\pandas\\core\\arraylike.py:364: RuntimeWarning: divide by zero encountered in log\n",
      "  result = getattr(ufunc, method)(*inputs, **kwargs)\n",
      "C:\\Users\\vfgtr554\\anaconda3\\envs\\cctv\\lib\\site-packages\\statsmodels\\base\\model.py:606: ConvergenceWarning: Maximum Likelihood optimization failed to converge. Check mle_retvals\n",
      "  ConvergenceWarning)\n"
     ]
    },
    {
     "name": "stdout",
     "output_type": "stream",
     "text": [
      "Predict Finish, 26.6945 26.5483 0.9633 0.0359 Evaluation Finish\n",
      "460: Data Load Finish, Predict Finish, 9.1388 8.6986 0.3087 0.6699 Evaluation Finish\n",
      "461: Data Load Finish, Predict Finish, 4.0753 3.5191 0.1242 0.8528 Evaluation Finish\n",
      "462: Data Load Finish, "
     ]
    },
    {
     "name": "stderr",
     "output_type": "stream",
     "text": [
      "C:\\Users\\vfgtr554\\anaconda3\\envs\\cctv\\lib\\site-packages\\pandas\\core\\arraylike.py:364: RuntimeWarning: divide by zero encountered in log\n",
      "  result = getattr(ufunc, method)(*inputs, **kwargs)\n",
      "C:\\Users\\vfgtr554\\anaconda3\\envs\\cctv\\lib\\site-packages\\statsmodels\\base\\model.py:606: ConvergenceWarning: Maximum Likelihood optimization failed to converge. Check mle_retvals\n",
      "  ConvergenceWarning)\n"
     ]
    },
    {
     "name": "stdout",
     "output_type": "stream",
     "text": [
      "Predict Finish, 26.6945 26.5483 0.9633 0.0359 Evaluation Finish\n",
      "463: Data Load Finish, Predict Finish, 5.6954 4.9667 0.1718 0.7943 Evaluation Finish\n",
      "464: Data Load Finish, Predict Finish, 2.8022 2.4293 0.0885 0.8988 Evaluation Finish\n",
      "465: Data Load Finish, Predict Finish, 6.7223 6.0407 0.2111 0.7572 Evaluation Finish\n",
      "466: Data Load Finish, Predict Finish, 9.333 8.8875 0.3156 0.6629 Evaluation Finish\n",
      "467: Data Load Finish, Predict Finish, 3.1863 2.8368 0.1046 0.8849 Evaluation Finish\n",
      "468: Data Load Finish, Predict Finish, 8.6212 8.1575 0.3095 0.6886 Evaluation Finish\n",
      "469: Data Load Finish, Predict Finish, 2.9946 2.5729 0.0978 0.8919 Evaluation Finish\n",
      "470: Data Load Finish, Predict Finish, 12.5165 12.0745 0.432 0.548 Evaluation Finish\n",
      "471: Data Load Finish, Predict Finish, 3.2108 2.8263 0.0997 0.884 Evaluation Finish\n",
      "472: Data Load Finish, Predict Finish, 11.0953 10.6865 0.3814 0.5993 Evaluation Finish\n",
      "473: Data Load Finish, Predict Finish, 4.7534 3.6302 0.1235 0.8283 Evaluation Finish\n",
      "474: Data Load Finish, Predict Finish, 5.4262 4.6701 0.1813 0.804 Evaluation Finish\n",
      "475: Data Load Finish, Predict Finish, 3.8524 3.0607 0.1049 0.8609 Evaluation Finish\n",
      "476: Data Load Finish, Predict Finish, 4.8439 3.9314 0.1339 0.8251 Evaluation Finish\n",
      "477: Data Load Finish, Predict Finish, 3.6266 3.0237 0.1043 0.869 Evaluation Finish\n",
      "478: Data Load Finish, Predict Finish, 5.8734 5.0877 0.1763 0.7879 Evaluation Finish\n",
      "479: Data Load Finish, Predict Finish, 3.3512 2.8408 0.0987 0.879 Evaluation Finish\n",
      "480: Data Load Finish, Predict Finish, 8.2896 7.7993 0.2757 0.7006 Evaluation Finish\n",
      "481: Data Load Finish, Predict Finish, 3.0098 2.546 0.0897 0.8913 Evaluation Finish\n",
      "482: Data Load Finish, Predict Finish, 10.4633 10.0799 0.3593 0.6221 Evaluation Finish\n",
      "483: Data Load Finish, "
     ]
    },
    {
     "name": "stderr",
     "output_type": "stream",
     "text": [
      "C:\\Users\\vfgtr554\\anaconda3\\envs\\cctv\\lib\\site-packages\\pandas\\core\\arraylike.py:364: RuntimeWarning: divide by zero encountered in log\n",
      "  result = getattr(ufunc, method)(*inputs, **kwargs)\n",
      "C:\\Users\\vfgtr554\\anaconda3\\envs\\cctv\\lib\\site-packages\\statsmodels\\base\\model.py:606: ConvergenceWarning: Maximum Likelihood optimization failed to converge. Check mle_retvals\n",
      "  ConvergenceWarning)\n",
      "C:\\Users\\vfgtr554\\anaconda3\\envs\\cctv\\lib\\site-packages\\pandas\\core\\arraylike.py:364: RuntimeWarning: divide by zero encountered in log\n",
      "  result = getattr(ufunc, method)(*inputs, **kwargs)\n"
     ]
    },
    {
     "name": "stdout",
     "output_type": "stream",
     "text": [
      "Predict Finish, 26.6945 26.5483 0.9633 0.0359 Evaluation Finish\n",
      "484: Data Load Finish, "
     ]
    },
    {
     "name": "stderr",
     "output_type": "stream",
     "text": [
      "C:\\Users\\vfgtr554\\anaconda3\\envs\\cctv\\lib\\site-packages\\statsmodels\\base\\model.py:606: ConvergenceWarning: Maximum Likelihood optimization failed to converge. Check mle_retvals\n",
      "  ConvergenceWarning)\n"
     ]
    },
    {
     "name": "stdout",
     "output_type": "stream",
     "text": [
      "Predict Finish, 26.6945 26.5483 0.9633 0.0359 Evaluation Finish\n",
      "485: Data Load Finish, Predict Finish, 2.8504 2.4359 0.0878 0.8971 Evaluation Finish\n",
      "486: Data Load Finish, Predict Finish, 4.0142 3.5104 0.1266 0.855 Evaluation Finish\n",
      "487: Data Load Finish, Predict Finish, 12.0244 11.689 0.4388 0.5657 Evaluation Finish\n",
      "488: Data Load Finish, Predict Finish, 4.425 3.6726 0.1438 0.8402 Evaluation Finish\n",
      "489: Data Load Finish, Predict Finish, 13.8305 13.5467 0.5072 0.5005 Evaluation Finish\n",
      "490: Data Load Finish, Predict Finish, 11.2061 10.8492 0.4081 0.5953 Evaluation Finish\n",
      "491: Data Load Finish, Predict Finish, 6.9324 6.3445 0.2225 0.7496 Evaluation Finish\n",
      "492: Data Load Finish, Predict Finish, 7.1528 6.5293 0.2294 0.7417 Evaluation Finish\n",
      "493: Data Load Finish, Predict Finish, 3.2388 2.6349 0.1021 0.883 Evaluation Finish\n",
      "494: Data Load Finish, "
     ]
    },
    {
     "name": "stderr",
     "output_type": "stream",
     "text": [
      "C:\\Users\\vfgtr554\\anaconda3\\envs\\cctv\\lib\\site-packages\\pandas\\core\\arraylike.py:364: RuntimeWarning: divide by zero encountered in log\n",
      "  result = getattr(ufunc, method)(*inputs, **kwargs)\n",
      "C:\\Users\\vfgtr554\\anaconda3\\envs\\cctv\\lib\\site-packages\\statsmodels\\base\\model.py:606: ConvergenceWarning: Maximum Likelihood optimization failed to converge. Check mle_retvals\n",
      "  ConvergenceWarning)\n"
     ]
    },
    {
     "name": "stdout",
     "output_type": "stream",
     "text": [
      "Predict Finish, 26.6945 26.5483 0.9633 0.0359 Evaluation Finish\n",
      "495: Data Load Finish, Predict Finish, 2.8377 2.4714 0.089 0.8975 Evaluation Finish\n",
      "496: Data Load Finish, "
     ]
    },
    {
     "name": "stderr",
     "output_type": "stream",
     "text": [
      "C:\\Users\\vfgtr554\\anaconda3\\envs\\cctv\\lib\\site-packages\\pandas\\core\\arraylike.py:364: RuntimeWarning: divide by zero encountered in log\n",
      "  result = getattr(ufunc, method)(*inputs, **kwargs)\n",
      "C:\\Users\\vfgtr554\\anaconda3\\envs\\cctv\\lib\\site-packages\\statsmodels\\base\\model.py:606: ConvergenceWarning: Maximum Likelihood optimization failed to converge. Check mle_retvals\n",
      "  ConvergenceWarning)\n"
     ]
    },
    {
     "name": "stdout",
     "output_type": "stream",
     "text": [
      "Predict Finish, 26.6945 26.5483 0.9633 0.0359 Evaluation Finish\n",
      "497: Data Load Finish, Predict Finish, 2.9544 2.4757 0.0876 0.8933 Evaluation Finish\n",
      "498: Data Load Finish, Predict Finish, 5.5548 4.8041 0.1865 0.7994 Evaluation Finish\n",
      "499: Data Load Finish, Predict Finish, 2.9229 2.5707 0.0961 0.8944 Evaluation Finish\n",
      "500: Data Load Finish, Predict Finish, 2.8126 2.4392 0.0907 0.8984 Evaluation Finish\n",
      "501: Data Load Finish, Predict Finish, 3.0652 2.7208 0.1032 0.8893 Evaluation Finish\n",
      "502: Data Load Finish, Predict Finish, 2.8089 2.4012 0.0893 0.8986 Evaluation Finish\n",
      "503: Data Load Finish, "
     ]
    },
    {
     "name": "stderr",
     "output_type": "stream",
     "text": [
      "C:\\Users\\vfgtr554\\anaconda3\\envs\\cctv\\lib\\site-packages\\pandas\\core\\arraylike.py:364: RuntimeWarning: divide by zero encountered in log\n",
      "  result = getattr(ufunc, method)(*inputs, **kwargs)\n",
      "C:\\Users\\vfgtr554\\anaconda3\\envs\\cctv\\lib\\site-packages\\statsmodels\\base\\model.py:606: ConvergenceWarning: Maximum Likelihood optimization failed to converge. Check mle_retvals\n",
      "  ConvergenceWarning)\n",
      "C:\\Users\\vfgtr554\\anaconda3\\envs\\cctv\\lib\\site-packages\\pandas\\core\\arraylike.py:364: RuntimeWarning: divide by zero encountered in log\n",
      "  result = getattr(ufunc, method)(*inputs, **kwargs)\n"
     ]
    },
    {
     "name": "stdout",
     "output_type": "stream",
     "text": [
      "Predict Finish, 26.6945 26.5483 0.9633 0.0359 Evaluation Finish\n",
      "504: Data Load Finish, Predict Finish, 26.6945 26.5483 0.9633 0.0359 Evaluation Finish\n",
      "505: Data Load Finish, Predict Finish, 8.2482 7.7414 0.2734 0.7021 Evaluation Finish\n",
      "RMSE: 11.099231642327712, MAE: 10.602560150784614, MAPE: 0.38474962053913997\n",
      "ACC: 0.6031295743290478\n"
     ]
    },
    {
     "name": "stderr",
     "output_type": "stream",
     "text": [
      "C:\\Users\\vfgtr554\\anaconda3\\envs\\cctv\\lib\\site-packages\\statsmodels\\base\\model.py:606: ConvergenceWarning: Maximum Likelihood optimization failed to converge. Check mle_retvals\n",
      "  ConvergenceWarning)\n"
     ]
    }
   ],
   "source": [
    "predictARIMA(df, idx, 12)"
   ]
  },
  {
   "cell_type": "code",
   "execution_count": null,
   "id": "1107ea03",
   "metadata": {},
   "outputs": [],
   "source": []
  }
 ],
 "metadata": {
  "kernelspec": {
   "display_name": "cctv",
   "language": "python",
   "name": "cctv"
  },
  "language_info": {
   "codemirror_mode": {
    "name": "ipython",
    "version": 3
   },
   "file_extension": ".py",
   "mimetype": "text/x-python",
   "name": "python",
   "nbconvert_exporter": "python",
   "pygments_lexer": "ipython3",
   "version": "3.7.13"
  }
 },
 "nbformat": 4,
 "nbformat_minor": 5
}
