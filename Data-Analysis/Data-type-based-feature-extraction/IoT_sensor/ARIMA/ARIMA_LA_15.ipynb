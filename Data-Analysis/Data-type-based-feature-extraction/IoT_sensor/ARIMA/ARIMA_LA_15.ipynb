{
 "cells": [
  {
   "cell_type": "code",
   "execution_count": 1,
   "id": "de3fb51e",
   "metadata": {},
   "outputs": [],
   "source": [
    "import math\n",
    "import pandas as pd\n",
    "import numpy as np\n",
    "import numpy.linalg as la\n",
    "\n",
    "from sklearn.metrics import mean_squared_error, mean_absolute_error, mean_absolute_percentage_error\n",
    "from statsmodels.tsa.arima.model import ARIMA"
   ]
  },
  {
   "cell_type": "code",
   "execution_count": 2,
   "id": "f9cd5ee2",
   "metadata": {},
   "outputs": [],
   "source": [
    "def csvIndexToDatetime(path, start, freq):\n",
    "    df = pd.read_csv(path)\n",
    "    df = df.drop(columns=['Unnamed: 0'])\n",
    "    time_len = df.shape[0]\n",
    "    num_nodes = df.shape[1]\n",
    "    print(time_len, num_nodes)\n",
    "    rng = pd.date_range(start, periods=time_len, freq=freq)\n",
    "    idx = pd.DatetimeIndex(rng)\n",
    "    df.index = idx\n",
    "    return df, idx"
   ]
  },
  {
   "cell_type": "code",
   "execution_count": 3,
   "id": "91f72990",
   "metadata": {},
   "outputs": [],
   "source": [
    "def evaluation(a,b):\n",
    "    rmse = math.sqrt(mean_squared_error(a,b))\n",
    "    mae = mean_absolute_error(a, b)\n",
    "    mape = mean_absolute_percentage_error(a, b)\n",
    "    F_norm = la.norm(a-b)/la.norm(a)\n",
    "    return rmse, mae, mape, 1-F_norm"
   ]
  },
  {
   "cell_type": "code",
   "execution_count": 4,
   "id": "629b9843",
   "metadata": {},
   "outputs": [],
   "source": [
    "def predictARIMA(df, idx, timelag):\n",
    "    rmse, mae, mape, acc =  [], [], [], []\n",
    "    \n",
    "    for i in range(df.shape[1]):\n",
    "        print(i, end = ': ')\n",
    "        ts = df.iloc[:-timelag, i]\n",
    "        ts_log = np.log(ts)\n",
    "        ts_log = np.array(ts_log, dtype=np.float64)\n",
    "        where_are_inf = np.isinf(ts_log)\n",
    "        ts_log[where_are_inf] = 0\n",
    "        ts_log = pd.Series(ts_log)\n",
    "        ts_log.index = idx[:-timelag]\n",
    "        print('Data Load Finish', end = ', ')\n",
    "        \n",
    "        model = ARIMA(ts_log, order=[1,0,0])\n",
    "        properModel = model.fit()\n",
    "        predict_ts = properModel.forecast(steps=timelag)\n",
    "        log_recover = np.exp(predict_ts)\n",
    "        testX = org_df.iloc[-timelag:, 0]\n",
    "        print('Predict Finish', end = ', ')\n",
    "        \n",
    "        er_rmse, er_mae, er_mape, er_acc = evaluation(testX, log_recover)\n",
    "        print(round(er_rmse,4), round(er_mae,4), round(er_mape,4), round(er_acc,4), end = ' ')\n",
    "        \n",
    "        rmse.append(er_rmse)\n",
    "        mae.append(er_mae)\n",
    "        mape.append(er_mape)\n",
    "        acc.append(er_acc)\n",
    "        print('Evaluation Finish')\n",
    "        \n",
    "    acc = np.mat(acc)\n",
    "    acc[acc<0] = 0\n",
    "    print('RMSE: ' + str(np.mean(rmse)) + ', MAE: ' + str(np.mean(mae)) + ', MAPE: ' + str(np.mean(mape))  + '\\n'\n",
    "          + 'ACC: ' + str(np.mean(acc)))"
   ]
  },
  {
   "cell_type": "code",
   "execution_count": 5,
   "id": "e171bd77",
   "metadata": {
    "scrolled": true
   },
   "outputs": [],
   "source": [
    "path_0 = '../Data/METR-LA/speed_la_0.csv'\n",
    "path_5 = '../Data/METR-LA/speed_la_5.csv'\n",
    "path_10 = '../Data/METR-LA/speed_la_10.csv'\n",
    "path_20 = '../Data/METR-LA/speed_la_20.csv'"
   ]
  },
  {
   "cell_type": "code",
   "execution_count": 6,
   "id": "ee4dc616",
   "metadata": {},
   "outputs": [],
   "source": [
    "start = '1/3/2012'\n",
    "freq = '5min'"
   ]
  },
  {
   "cell_type": "code",
   "execution_count": 7,
   "id": "d1a0efeb",
   "metadata": {},
   "outputs": [
    {
     "name": "stdout",
     "output_type": "stream",
     "text": [
      "34272 207\n"
     ]
    }
   ],
   "source": [
    "org_path = '../Data/METR-LA/speed_la_0.csv'\n",
    "org_df, org_idx = csvIndexToDatetime(org_path, start, freq)"
   ]
  },
  {
   "cell_type": "markdown",
   "id": "ec94d006",
   "metadata": {},
   "source": [
    "### Unobserved Nodes = 0%"
   ]
  },
  {
   "cell_type": "code",
   "execution_count": 8,
   "id": "9eaf61b7",
   "metadata": {},
   "outputs": [
    {
     "name": "stdout",
     "output_type": "stream",
     "text": [
      "34272 207\n"
     ]
    },
    {
     "data": {
      "text/plain": [
       "0"
      ]
     },
     "execution_count": 8,
     "metadata": {},
     "output_type": "execute_result"
    }
   ],
   "source": [
    "df, idx = csvIndexToDatetime(path_0, start, freq)\n",
    "(df == 0).sum().sum()"
   ]
  },
  {
   "cell_type": "code",
   "execution_count": 9,
   "id": "60f8ff1e",
   "metadata": {
    "scrolled": true
   },
   "outputs": [
    {
     "name": "stdout",
     "output_type": "stream",
     "text": [
      "0: Data Load Finish, Predict Finish, 5.1389 5.0797 0.0765 0.9225 Evaluation Finish\n",
      "1: Data Load Finish, Predict Finish, 1.4324 1.2576 0.0188 0.9784 Evaluation Finish\n",
      "2: Data Load Finish, Predict Finish, 0.7313 0.7184 0.0109 0.989 Evaluation Finish\n",
      "3: Data Load Finish, Predict Finish, 6.0713 6.0587 0.0914 0.9084 Evaluation Finish\n",
      "4: Data Load Finish, Predict Finish, 31.6438 31.6072 0.4766 0.5227 Evaluation Finish\n",
      "5: Data Load Finish, Predict Finish, 15.3814 15.3499 0.2314 0.768 Evaluation Finish\n",
      "6: Data Load Finish, Predict Finish, 4.9422 4.902 0.0738 0.9254 Evaluation Finish\n",
      "7: Data Load Finish, "
     ]
    },
    {
     "name": "stderr",
     "output_type": "stream",
     "text": [
      "/home/vislab/anaconda3/envs/test/lib/python3.8/site-packages/statsmodels/base/model.py:604: ConvergenceWarning: Maximum Likelihood optimization failed to converge. Check mle_retvals\n",
      "  warnings.warn(\"Maximum Likelihood optimization failed to \"\n"
     ]
    },
    {
     "name": "stdout",
     "output_type": "stream",
     "text": [
      "Predict Finish, 1.9843 1.9258 0.029 0.9701 Evaluation Finish\n",
      "8: Data Load Finish, Predict Finish, 2.2266 2.1722 0.0327 0.9664 Evaluation Finish\n",
      "9: Data Load Finish, Predict Finish, 0.5269 0.5146 0.0078 0.9921 Evaluation Finish\n",
      "10: Data Load Finish, Predict Finish, 4.5824 4.5504 0.0686 0.9309 Evaluation Finish\n",
      "11: Data Load Finish, Predict Finish, 2.0587 1.977 0.0297 0.9689 Evaluation Finish\n",
      "12: Data Load Finish, Predict Finish, 6.0948 6.0744 0.0917 0.9081 Evaluation Finish\n",
      "13: Data Load Finish, Predict Finish, 0.9814 0.8346 0.0125 0.9852 Evaluation Finish\n",
      "14: Data Load Finish, Predict Finish, 4.2081 4.1821 0.063 0.9365 Evaluation Finish\n",
      "15: Data Load Finish, Predict Finish, 4.6611 4.6428 0.0701 0.9297 Evaluation Finish\n",
      "16: Data Load Finish, Predict Finish, 50.878 50.8472 0.7669 0.2325 Evaluation Finish\n",
      "17: Data Load Finish, Predict Finish, 2.3606 2.3335 0.0352 0.9644 Evaluation Finish\n",
      "18: Data Load Finish, Predict Finish, 16.8531 16.7079 0.2517 0.7458 Evaluation Finish\n",
      "19: Data Load Finish, Predict Finish, 4.5072 4.4706 0.0673 0.932 Evaluation Finish\n",
      "20: Data Load Finish, Predict Finish, 0.7712 0.514 0.0079 0.9884 Evaluation Finish\n",
      "21: Data Load Finish, Predict Finish, 10.9672 10.8148 0.1628 0.8346 Evaluation Finish\n",
      "22: Data Load Finish, Predict Finish, 12.7598 12.7532 0.1924 0.8075 Evaluation Finish\n",
      "23: Data Load Finish, Predict Finish, 8.2681 8.2541 0.1245 0.8753 Evaluation Finish\n",
      "24: Data Load Finish, Predict Finish, 6.3954 6.2704 0.0944 0.9035 Evaluation Finish\n",
      "25: Data Load Finish, Predict Finish, 5.8848 5.8704 0.0885 0.9112 Evaluation Finish\n",
      "26: Data Load Finish, Predict Finish, 8.8861 8.8787 0.1339 0.866 Evaluation Finish\n",
      "27: Data Load Finish, Predict Finish, 4.25 4.1991 0.0632 0.9359 Evaluation Finish\n",
      "28: Data Load Finish, Predict Finish, 0.7667 0.6747 0.0102 0.9884 Evaluation Finish\n",
      "29: Data Load Finish, Predict Finish, 2.4984 2.4751 0.0373 0.9623 Evaluation Finish\n",
      "30: Data Load Finish, Predict Finish, 4.4545 4.436 0.0669 0.9328 Evaluation Finish\n",
      "31: Data Load Finish, Predict Finish, 1.9103 1.6047 0.024 0.9712 Evaluation Finish\n",
      "32: Data Load Finish, Predict Finish, 0.6798 0.455 0.007 0.9897 Evaluation Finish\n",
      "33: Data Load Finish, Predict Finish, 3.7347 3.7032 0.0558 0.9437 Evaluation Finish\n",
      "34: Data Load Finish, Predict Finish, 0.7814 0.6244 0.0095 0.9882 Evaluation Finish\n",
      "35: Data Load Finish, Predict Finish, 11.224 11.092 0.167 0.8307 Evaluation Finish\n",
      "36: Data Load Finish, Predict Finish, 10.5597 10.4592 0.1575 0.8407 Evaluation Finish\n",
      "37: Data Load Finish, Predict Finish, 0.8323 0.7699 0.0116 0.9874 Evaluation Finish\n",
      "38: Data Load Finish, Predict Finish, 10.2267 10.2197 0.1541 0.8457 Evaluation Finish\n",
      "39: Data Load Finish, Predict Finish, 12.1683 12.1212 0.1827 0.8164 Evaluation Finish\n",
      "40: Data Load Finish, Predict Finish, 2.4072 2.3035 0.0346 0.9637 Evaluation Finish\n",
      "41: Data Load Finish, Predict Finish, 12.3152 12.28 0.1851 0.8142 Evaluation Finish\n",
      "42: Data Load Finish, Predict Finish, 0.4793 0.4461 0.0068 0.9928 Evaluation Finish\n",
      "43: Data Load Finish, Predict Finish, 3.9119 3.8898 0.0586 0.941 Evaluation Finish\n",
      "44: Data Load Finish, "
     ]
    },
    {
     "name": "stderr",
     "output_type": "stream",
     "text": [
      "/home/vislab/anaconda3/envs/test/lib/python3.8/site-packages/statsmodels/base/model.py:604: ConvergenceWarning: Maximum Likelihood optimization failed to converge. Check mle_retvals\n",
      "  warnings.warn(\"Maximum Likelihood optimization failed to \"\n"
     ]
    },
    {
     "name": "stdout",
     "output_type": "stream",
     "text": [
      "Predict Finish, 1.1235 0.9168 0.014 0.9831 Evaluation Finish\n",
      "45: Data Load Finish, Predict Finish, 0.9493 0.9391 0.0142 0.9857 Evaluation Finish\n",
      "46: Data Load Finish, Predict Finish, 4.3441 4.2955 0.0647 0.9345 Evaluation Finish\n",
      "47: Data Load Finish, Predict Finish, 4.2285 4.2137 0.0636 0.9362 Evaluation Finish\n",
      "48: Data Load Finish, Predict Finish, 9.4457 9.4325 0.1422 0.8575 Evaluation Finish\n",
      "49: Data Load Finish, Predict Finish, 10.891 10.8184 0.163 0.8357 Evaluation Finish\n",
      "50: Data Load Finish, Predict Finish, 10.7224 10.587 0.1594 0.8383 Evaluation Finish\n",
      "51: Data Load Finish, Predict Finish, 18.2942 18.2644 0.2754 0.724 Evaluation Finish\n",
      "52: Data Load Finish, Predict Finish, 1.4028 1.3549 0.0204 0.9788 Evaluation Finish\n",
      "53: Data Load Finish, Predict Finish, 11.029 11.0077 0.166 0.8336 Evaluation Finish\n",
      "54: Data Load Finish, Predict Finish, 4.4458 4.4012 0.0663 0.9329 Evaluation Finish\n",
      "55: Data Load Finish, Predict Finish, 5.0886 5.0479 0.076 0.9232 Evaluation Finish\n",
      "56: Data Load Finish, Predict Finish, 26.3362 26.3259 0.3971 0.6027 Evaluation Finish\n",
      "57: Data Load Finish, Predict Finish, 6.0473 6.0144 0.0906 0.9088 Evaluation Finish\n",
      "58: Data Load Finish, Predict Finish, 4.5535 4.5221 0.0681 0.9313 Evaluation Finish\n",
      "59: Data Load Finish, Predict Finish, 3.186 3.1351 0.0472 0.9519 Evaluation Finish\n",
      "60: Data Load Finish, Predict Finish, 3.7746 3.7578 0.0567 0.9431 Evaluation Finish\n",
      "61: Data Load Finish, Predict Finish, 1.3841 1.3244 0.02 0.9791 Evaluation Finish\n",
      "62: Data Load Finish, Predict Finish, 4.9035 4.8777 0.0735 0.926 Evaluation Finish\n",
      "63: Data Load Finish, Predict Finish, 0.9505 0.8763 0.0132 0.9857 Evaluation Finish\n",
      "64: Data Load Finish, Predict Finish, 3.8539 3.7796 0.0569 0.9419 Evaluation Finish\n",
      "65: Data Load Finish, Predict Finish, 3.9329 3.8592 0.0581 0.9407 Evaluation Finish\n",
      "66: Data Load Finish, Predict Finish, 0.5814 0.5077 0.0077 0.9912 Evaluation Finish\n",
      "67: Data Load Finish, Predict Finish, 0.8604 0.8357 0.0126 0.987 Evaluation Finish\n",
      "68: Data Load Finish, Predict Finish, 0.7091 0.6875 0.0103 0.9893 Evaluation Finish\n",
      "69: Data Load Finish, Predict Finish, 0.4446 0.3942 0.0059 0.9933 Evaluation Finish\n",
      "70: Data Load Finish, Predict Finish, 6.4706 6.4278 0.0968 0.9024 Evaluation Finish\n",
      "71: Data Load Finish, Predict Finish, 2.1045 2.0675 0.0312 0.9683 Evaluation Finish\n",
      "72: Data Load Finish, Predict Finish, 1.2135 1.1166 0.0169 0.9817 Evaluation Finish\n",
      "73: Data Load Finish, Predict Finish, 6.9491 6.937 0.1046 0.8952 Evaluation Finish\n",
      "74: Data Load Finish, Predict Finish, 2.896 2.821 0.0427 0.9563 Evaluation Finish\n",
      "75: Data Load Finish, Predict Finish, 13.5473 13.5425 0.2043 0.7956 Evaluation Finish\n",
      "76: Data Load Finish, Predict Finish, 8.5859 8.5758 0.1294 0.8705 Evaluation Finish\n",
      "77: Data Load Finish, Predict Finish, 4.7561 4.7277 0.0712 0.9283 Evaluation Finish\n",
      "78: Data Load Finish, Predict Finish, 0.7161 0.6757 0.0102 0.9892 Evaluation Finish\n",
      "79: Data Load Finish, Predict Finish, 0.7269 0.675 0.0102 0.989 Evaluation Finish\n",
      "80: Data Load Finish, Predict Finish, 0.6073 0.5018 0.0076 0.9908 Evaluation Finish\n",
      "81: Data Load Finish, Predict Finish, 4.1739 4.1589 0.0627 0.937 Evaluation Finish\n",
      "82: Data Load Finish, Predict Finish, 2.857 2.8323 0.0427 0.9569 Evaluation Finish\n",
      "83: Data Load Finish, Predict Finish, 5.5533 5.4942 0.0827 0.9162 Evaluation Finish\n",
      "84: Data Load Finish, Predict Finish, 5.4419 5.4246 0.0818 0.9179 Evaluation Finish\n",
      "85: Data Load Finish, Predict Finish, 0.8035 0.8016 0.0121 0.9879 Evaluation Finish\n",
      "86: Data Load Finish, Predict Finish, 0.7886 0.693 0.0104 0.9881 Evaluation Finish\n",
      "87: Data Load Finish, Predict Finish, 3.0276 3.0044 0.0453 0.9543 Evaluation Finish\n",
      "88: Data Load Finish, Predict Finish, 0.7596 0.4856 0.0074 0.9885 Evaluation Finish\n",
      "89: Data Load Finish, Predict Finish, 1.057 0.9093 0.0138 0.9841 Evaluation Finish\n",
      "90: Data Load Finish, Predict Finish, 0.9567 0.6297 0.0096 0.9856 Evaluation Finish\n",
      "91: Data Load Finish, "
     ]
    },
    {
     "name": "stderr",
     "output_type": "stream",
     "text": [
      "/home/vislab/anaconda3/envs/test/lib/python3.8/site-packages/statsmodels/base/model.py:604: ConvergenceWarning: Maximum Likelihood optimization failed to converge. Check mle_retvals\n",
      "  warnings.warn(\"Maximum Likelihood optimization failed to \"\n"
     ]
    },
    {
     "name": "stdout",
     "output_type": "stream",
     "text": [
      "Predict Finish, 16.3074 16.3038 0.246 0.754 Evaluation Finish\n",
      "92: Data Load Finish, Predict Finish, 1.4871 1.2915 0.0196 0.9776 Evaluation Finish\n",
      "93: Data Load Finish, Predict Finish, 1.9086 1.7906 0.0269 0.9712 Evaluation Finish\n",
      "94: Data Load Finish, Predict Finish, 3.8217 3.7694 0.0568 0.9424 Evaluation Finish\n",
      "95: Data Load Finish, Predict Finish, 13.523 13.4989 0.2035 0.796 Evaluation Finish\n",
      "96: Data Load Finish, Predict Finish, 4.2735 4.1621 0.0626 0.9355 Evaluation Finish\n",
      "97: Data Load Finish, Predict Finish, 1.0251 0.8436 0.0128 0.9845 Evaluation Finish\n",
      "98: Data Load Finish, Predict Finish, 8.3296 8.3065 0.1252 0.8743 Evaluation Finish\n",
      "99: Data Load Finish, Predict Finish, 1.9753 1.8537 0.0281 0.9702 Evaluation Finish\n",
      "100: Data Load Finish, Predict Finish, 6.9114 6.8998 0.104 0.8957 Evaluation Finish\n",
      "101: Data Load Finish, Predict Finish, 5.6893 5.6683 0.0854 0.9142 Evaluation Finish\n",
      "102: Data Load Finish, Predict Finish, 4.7072 4.6715 0.0704 0.929 Evaluation Finish\n",
      "103: Data Load Finish, Predict Finish, 3.872 3.8228 0.0576 0.9416 Evaluation Finish\n",
      "104: Data Load Finish, Predict Finish, 7.2098 7.1497 0.1077 0.8912 Evaluation Finish\n",
      "105: Data Load Finish, Predict Finish, 1.8367 1.7199 0.0261 0.9723 Evaluation Finish\n",
      "106: Data Load Finish, Predict Finish, 0.9827 0.684 0.0105 0.9852 Evaluation Finish\n",
      "107: Data Load Finish, Predict Finish, 1.8933 1.7865 0.0271 0.9714 Evaluation Finish\n",
      "108: Data Load Finish, Predict Finish, 2.7473 2.6579 0.0402 0.9586 Evaluation Finish\n",
      "109: Data Load Finish, Predict Finish, 7.9379 7.9051 0.1191 0.8803 Evaluation Finish\n",
      "110: Data Load Finish, Predict Finish, 6.0921 5.9284 0.0892 0.9081 Evaluation Finish\n",
      "111: Data Load Finish, Predict Finish, 1.2774 1.1473 0.0174 0.9807 Evaluation Finish\n",
      "112: Data Load Finish, Predict Finish, 10.8964 10.8723 0.1639 0.8356 Evaluation Finish\n",
      "113: Data Load Finish, Predict Finish, 9.6151 9.5951 0.1447 0.855 Evaluation Finish\n",
      "114: Data Load Finish, Predict Finish, 2.2904 2.1616 0.0325 0.9654 Evaluation Finish\n",
      "115: Data Load Finish, Predict Finish, 3.9953 3.9253 0.0591 0.9397 Evaluation Finish\n",
      "116: Data Load Finish, Predict Finish, 1.5645 1.469 0.0221 0.9764 Evaluation Finish\n",
      "117: Data Load Finish, Predict Finish, 1.2652 1.1495 0.0174 0.9809 Evaluation Finish\n",
      "118: Data Load Finish, Predict Finish, 4.2333 4.0439 0.0608 0.9361 Evaluation Finish\n",
      "119: Data Load Finish, Predict Finish, 2.2834 2.1885 0.0331 0.9656 Evaluation Finish\n",
      "120: Data Load Finish, Predict Finish, 8.5724 8.5463 0.1288 0.8707 Evaluation Finish\n",
      "121: Data Load Finish, Predict Finish, 11.4323 11.2906 0.17 0.8275 Evaluation Finish\n",
      "122: Data Load Finish, Predict Finish, 0.7797 0.4693 0.0072 0.9882 Evaluation Finish\n",
      "123: Data Load Finish, Predict Finish, 1.5136 1.3108 0.0199 0.9772 Evaluation Finish\n",
      "124: Data Load Finish, Predict Finish, 8.9397 8.9207 0.1345 0.8651 Evaluation Finish\n",
      "125: Data Load Finish, Predict Finish, 9.5704 9.5589 0.1441 0.8556 Evaluation Finish\n",
      "126: Data Load Finish, Predict Finish, 13.5374 13.4012 0.2018 0.7958 Evaluation Finish\n",
      "127: Data Load Finish, Predict Finish, 2.3367 2.3113 0.0348 0.9648 Evaluation Finish\n",
      "128: Data Load Finish, Predict Finish, 1.1503 1.0507 0.0159 0.9826 Evaluation Finish\n",
      "129: Data Load Finish, Predict Finish, 6.3787 6.3304 0.0954 0.9038 Evaluation Finish\n",
      "130: Data Load Finish, Predict Finish, 3.442 3.4163 0.0515 0.9481 Evaluation Finish\n",
      "131: Data Load Finish, Predict Finish, 3.687 3.6703 0.0553 0.9444 Evaluation Finish\n",
      "132: Data Load Finish, Predict Finish, 0.8957 0.5931 0.0091 0.9865 Evaluation Finish\n",
      "133: Data Load Finish, Predict Finish, 5.3743 5.3536 0.0807 0.9189 Evaluation Finish\n",
      "134: Data Load Finish, Predict Finish, 1.7632 1.7158 0.0258 0.9734 Evaluation Finish\n",
      "135: Data Load Finish, Predict Finish, 0.6626 0.537 0.0081 0.99 Evaluation Finish\n",
      "136: Data Load Finish, Predict Finish, 1.8059 1.6801 0.0252 0.9728 Evaluation Finish\n",
      "137: Data Load Finish, Predict Finish, 3.8481 3.8253 0.0577 0.942 Evaluation Finish\n",
      "138: Data Load Finish, Predict Finish, 47.3327 47.2805 0.713 0.286 Evaluation Finish\n",
      "139: Data Load Finish, Predict Finish, 4.8734 4.8597 0.0733 0.9265 Evaluation Finish\n",
      "140: Data Load Finish, Predict Finish, 4.0872 4.0699 0.0614 0.9383 Evaluation Finish\n",
      "141: Data Load Finish, Predict Finish, 1.2763 1.2228 0.0184 0.9807 Evaluation Finish\n",
      "142: Data Load Finish, Predict Finish, 2.3299 2.2533 0.0339 0.9649 Evaluation Finish\n",
      "143: Data Load Finish, Predict Finish, 5.2073 5.1767 0.078 0.9214 Evaluation Finish\n",
      "144: Data Load Finish, Predict Finish, 8.034 8.0269 0.1211 0.8788 Evaluation Finish\n",
      "145: Data Load Finish, Predict Finish, 0.77 0.7612 0.0115 0.9884 Evaluation Finish\n",
      "146: Data Load Finish, Predict Finish, 1.6707 1.6344 0.0246 0.9748 Evaluation Finish\n",
      "147: Data Load Finish, Predict Finish, 6.1673 6.1077 0.092 0.907 Evaluation Finish\n",
      "148: Data Load Finish, Predict Finish, 3.0293 3.0031 0.0452 0.9543 Evaluation Finish\n",
      "149: Data Load Finish, Predict Finish, 2.7722 2.726 0.0412 0.9582 Evaluation Finish\n",
      "150: Data Load Finish, Predict Finish, 3.4681 3.4475 0.052 0.9477 Evaluation Finish\n",
      "151: Data Load Finish, Predict Finish, 8.7984 8.773 0.1322 0.8673 Evaluation Finish\n",
      "152: Data Load Finish, Predict Finish, 3.171 3.1402 0.0473 0.9522 Evaluation Finish\n",
      "153: Data Load Finish, Predict Finish, 2.2882 2.2221 0.0334 0.9655 Evaluation Finish\n",
      "154: Data Load Finish, Predict Finish, 4.6494 4.6201 0.0696 0.9299 Evaluation Finish\n",
      "155: Data Load Finish, Predict Finish, 3.6328 3.6157 0.0545 0.9452 Evaluation Finish\n",
      "156: Data Load Finish, Predict Finish, 8.3425 8.3314 0.1256 0.8742 Evaluation Finish\n",
      "157: Data Load Finish, Predict Finish, 0.5315 0.5221 0.0079 0.992 Evaluation Finish\n",
      "158: Data Load Finish, Predict Finish, 2.0517 2.0148 0.0304 0.9691 Evaluation Finish\n",
      "159: Data Load Finish, Predict Finish, 2.6619 2.6206 0.0396 0.9598 Evaluation Finish\n",
      "160: Data Load Finish, Predict Finish, 0.8112 0.8028 0.0121 0.9878 Evaluation Finish\n",
      "161: Data Load Finish, Predict Finish, 2.7046 2.6589 0.0402 0.9592 Evaluation Finish\n",
      "162: Data Load Finish, Predict Finish, 2.4044 2.342 0.0354 0.9637 Evaluation Finish\n",
      "163: Data Load Finish, Predict Finish, 1.3197 1.1607 0.0176 0.9801 Evaluation Finish\n",
      "164: Data Load Finish, Predict Finish, 2.5414 2.5119 0.0379 0.9617 Evaluation Finish\n",
      "165: Data Load Finish, Predict Finish, 15.4713 15.4605 0.2332 0.7666 Evaluation Finish\n",
      "166: Data Load Finish, Predict Finish, 2.283 2.2452 0.0339 0.9656 Evaluation Finish\n",
      "167: Data Load Finish, Predict Finish, 1.2184 1.1137 0.0167 0.9816 Evaluation Finish\n",
      "168: Data Load Finish, Predict Finish, 0.6353 0.4603 0.007 0.9904 Evaluation Finish\n",
      "169: Data Load Finish, Predict Finish, 0.7139 0.6936 0.0104 0.9892 Evaluation Finish\n",
      "170: Data Load Finish, Predict Finish, 11.0645 11.0327 0.1663 0.8331 Evaluation Finish\n",
      "171: Data Load Finish, Predict Finish, 0.6771 0.6527 0.0099 0.9898 Evaluation Finish\n",
      "172: Data Load Finish, Predict Finish, 3.781 3.7476 0.0566 0.943 Evaluation Finish\n",
      "173: Data Load Finish, Predict Finish, 0.6433 0.6381 0.0096 0.9903 Evaluation Finish\n",
      "174: Data Load Finish, Predict Finish, 10.489 10.4718 0.1579 0.8418 Evaluation Finish\n",
      "175: Data Load Finish, Predict Finish, 4.0019 3.9404 0.0593 0.9396 Evaluation Finish\n",
      "176: Data Load Finish, Predict Finish, 4.5307 4.4643 0.0672 0.9317 Evaluation Finish\n",
      "177: Data Load Finish, Predict Finish, 4.0705 4.0091 0.0604 0.9386 Evaluation Finish\n",
      "178: Data Load Finish, Predict Finish, 2.8752 2.7466 0.0413 0.9566 Evaluation Finish\n",
      "179: Data Load Finish, Predict Finish, 12.172 12.104 0.1824 0.8164 Evaluation Finish\n",
      "180: Data Load Finish, Predict Finish, 2.6164 2.5808 0.0389 0.9605 Evaluation Finish\n",
      "181: Data Load Finish, Predict Finish, 2.5164 2.4715 0.0372 0.962 Evaluation Finish\n",
      "182: Data Load Finish, Predict Finish, 0.7591 0.5223 0.008 0.9885 Evaluation Finish\n",
      "183: Data Load Finish, Predict Finish, 1.8829 1.7392 0.0264 0.9716 Evaluation Finish\n",
      "184: Data Load Finish, Predict Finish, 1.5097 1.3536 0.0203 0.9772 Evaluation Finish\n",
      "185: Data Load Finish, Predict Finish, 0.8118 0.732 0.011 0.9878 Evaluation Finish\n",
      "186: Data Load Finish, Predict Finish, 2.4843 2.4134 0.0363 0.9625 Evaluation Finish\n",
      "187: Data Load Finish, Predict Finish, 5.104 5.0537 0.0763 0.923 Evaluation Finish\n"
     ]
    },
    {
     "name": "stdout",
     "output_type": "stream",
     "text": [
      "188: Data Load Finish, Predict Finish, 1.8032 1.7614 0.0266 0.9728 Evaluation Finish\n",
      "189: Data Load Finish, Predict Finish, 11.8499 11.6346 0.1751 0.8212 Evaluation Finish\n",
      "190: Data Load Finish, Predict Finish, 0.4195 0.3502 0.0052 0.9937 Evaluation Finish\n",
      "191: Data Load Finish, Predict Finish, 6.8811 6.8502 0.1034 0.8962 Evaluation Finish\n",
      "192: Data Load Finish, Predict Finish, 0.736 0.6397 0.0096 0.9889 Evaluation Finish\n",
      "193: Data Load Finish, Predict Finish, 5.4937 5.4435 0.0822 0.9171 Evaluation Finish\n",
      "194: Data Load Finish, Predict Finish, 8.2014 8.1839 0.1234 0.8763 Evaluation Finish\n",
      "195: Data Load Finish, Predict Finish, 1.276 1.1947 0.0181 0.9808 Evaluation Finish\n",
      "196: Data Load Finish, Predict Finish, 64.7391 64.7301 0.9765 0.0234 Evaluation Finish\n",
      "197: Data Load Finish, Predict Finish, 15.766 15.7543 0.2378 0.7622 Evaluation Finish\n",
      "198: Data Load Finish, Predict Finish, 2.1683 2.0987 0.0318 0.9673 Evaluation Finish\n",
      "199: Data Load Finish, Predict Finish, 6.7355 6.7044 0.101 0.8984 Evaluation Finish\n",
      "200: Data Load Finish, Predict Finish, 3.9833 3.765 0.0566 0.9399 Evaluation Finish\n",
      "201: Data Load Finish, Predict Finish, 0.8022 0.4796 0.0074 0.9879 Evaluation Finish\n",
      "202: Data Load Finish, Predict Finish, 5.1147 4.9489 0.0744 0.9228 Evaluation Finish\n",
      "203: Data Load Finish, Predict Finish, 0.9425 0.8445 0.0128 0.9858 Evaluation Finish\n",
      "204: Data Load Finish, Predict Finish, 5.6062 5.5675 0.0839 0.9154 Evaluation Finish\n",
      "205: Data Load Finish, Predict Finish, 0.8114 0.7195 0.0109 0.9878 Evaluation Finish\n",
      "206: Data Load Finish, Predict Finish, 5.705 5.6906 0.0858 0.9139 Evaluation Finish\n",
      "RMSE: 5.438594036307197, MAE: 5.36791119451542, MAPE: 0.08093321876971288\n",
      "ACC: 0.9179604339313397\n"
     ]
    }
   ],
   "source": [
    "predictARIMA(df, idx, 3)"
   ]
  },
  {
   "cell_type": "markdown",
   "id": "c1acb05c",
   "metadata": {},
   "source": [
    "### Unobserved Nodes = 5%"
   ]
  },
  {
   "cell_type": "code",
   "execution_count": 10,
   "id": "8a799433",
   "metadata": {},
   "outputs": [
    {
     "name": "stdout",
     "output_type": "stream",
     "text": [
      "34272 207\n"
     ]
    },
    {
     "data": {
      "text/plain": [
       "342720"
      ]
     },
     "execution_count": 10,
     "metadata": {},
     "output_type": "execute_result"
    }
   ],
   "source": [
    "df, idx = csvIndexToDatetime(path_5, start, freq)\n",
    "(df == 0).sum().sum()"
   ]
  },
  {
   "cell_type": "code",
   "execution_count": 11,
   "id": "83ef8625",
   "metadata": {
    "scrolled": false
   },
   "outputs": [
    {
     "name": "stdout",
     "output_type": "stream",
     "text": [
      "0: Data Load Finish, Predict Finish, 5.1389 5.0797 0.0765 0.9225 Evaluation Finish\n",
      "1: Data Load Finish, Predict Finish, 1.4324 1.2576 0.0188 0.9784 Evaluation Finish\n",
      "2: Data Load Finish, Predict Finish, 0.7313 0.7184 0.0109 0.989 Evaluation Finish\n",
      "3: Data Load Finish, Predict Finish, 6.0713 6.0587 0.0914 0.9084 Evaluation Finish\n",
      "4: Data Load Finish, Predict Finish, 31.6438 31.6072 0.4766 0.5227 Evaluation Finish\n",
      "5: Data Load Finish, Predict Finish, 15.3814 15.3499 0.2314 0.768 Evaluation Finish\n",
      "6: Data Load Finish, Predict Finish, 4.9422 4.902 0.0738 0.9254 Evaluation Finish\n",
      "7: Data Load Finish, "
     ]
    },
    {
     "name": "stderr",
     "output_type": "stream",
     "text": [
      "/home/vislab/anaconda3/envs/test/lib/python3.8/site-packages/statsmodels/base/model.py:604: ConvergenceWarning: Maximum Likelihood optimization failed to converge. Check mle_retvals\n",
      "  warnings.warn(\"Maximum Likelihood optimization failed to \"\n"
     ]
    },
    {
     "name": "stdout",
     "output_type": "stream",
     "text": [
      "Predict Finish, 1.9843 1.9258 0.029 0.9701 Evaluation Finish\n",
      "8: Data Load Finish, Predict Finish, 2.2266 2.1722 0.0327 0.9664 Evaluation Finish\n",
      "9: Data Load Finish, Predict Finish, 0.5269 0.5146 0.0078 0.9921 Evaluation Finish\n",
      "10: Data Load Finish, Predict Finish, 4.5824 4.5504 0.0686 0.9309 Evaluation Finish\n",
      "11: Data Load Finish, Predict Finish, 2.0587 1.977 0.0297 0.9689 Evaluation Finish\n",
      "12: Data Load Finish, Predict Finish, 6.0948 6.0744 0.0917 0.9081 Evaluation Finish\n",
      "13: Data Load Finish, Predict Finish, 0.9814 0.8346 0.0125 0.9852 Evaluation Finish\n",
      "14: Data Load Finish, Predict Finish, 4.2081 4.1821 0.063 0.9365 Evaluation Finish\n",
      "15: Data Load Finish, Predict Finish, 4.6611 4.6428 0.0701 0.9297 Evaluation Finish\n",
      "16: Data Load Finish, Predict Finish, 50.878 50.8472 0.7669 0.2325 Evaluation Finish\n",
      "17: Data Load Finish, Predict Finish, 2.3606 2.3335 0.0352 0.9644 Evaluation Finish\n",
      "18: Data Load Finish, Predict Finish, 16.8531 16.7079 0.2517 0.7458 Evaluation Finish\n",
      "19: Data Load Finish, Predict Finish, 4.5072 4.4706 0.0673 0.932 Evaluation Finish\n",
      "20: Data Load Finish, Predict Finish, 0.7712 0.514 0.0079 0.9884 Evaluation Finish\n",
      "21: Data Load Finish, Predict Finish, 10.9672 10.8148 0.1628 0.8346 Evaluation Finish\n",
      "22: Data Load Finish, Predict Finish, 12.7598 12.7532 0.1924 0.8075 Evaluation Finish\n",
      "23: Data Load Finish, Predict Finish, 8.2681 8.2541 0.1245 0.8753 Evaluation Finish\n",
      "24: Data Load Finish, Predict Finish, 6.3954 6.2704 0.0944 0.9035 Evaluation Finish\n",
      "25: Data Load Finish, Predict Finish, 5.8848 5.8704 0.0885 0.9112 Evaluation Finish\n",
      "26: Data Load Finish, Predict Finish, 8.8861 8.8787 0.1339 0.866 Evaluation Finish\n",
      "27: Data Load Finish, Predict Finish, 4.25 4.1991 0.0632 0.9359 Evaluation Finish\n",
      "28: Data Load Finish, Predict Finish, 0.7667 0.6747 0.0102 0.9884 Evaluation Finish\n",
      "29: Data Load Finish, Predict Finish, 2.4984 2.4751 0.0373 0.9623 Evaluation Finish\n",
      "30: Data Load Finish, "
     ]
    },
    {
     "name": "stderr",
     "output_type": "stream",
     "text": [
      "/home/vislab/anaconda3/envs/test/lib/python3.8/site-packages/pandas/core/arraylike.py:364: RuntimeWarning: divide by zero encountered in log\n",
      "  result = getattr(ufunc, method)(*inputs, **kwargs)\n"
     ]
    },
    {
     "name": "stdout",
     "output_type": "stream",
     "text": [
      "Predict Finish, 65.2924 65.287 0.9849 0.0151 Evaluation Finish\n",
      "31: Data Load Finish, Predict Finish, 1.9103 1.6047 0.024 0.9712 Evaluation Finish\n",
      "32: Data Load Finish, Predict Finish, 0.6798 0.455 0.007 0.9897 Evaluation Finish\n",
      "33: Data Load Finish, Predict Finish, 3.7347 3.7032 0.0558 0.9437 Evaluation Finish\n",
      "34: Data Load Finish, Predict Finish, 0.7814 0.6244 0.0095 0.9882 Evaluation Finish\n",
      "35: Data Load Finish, Predict Finish, 11.224 11.092 0.167 0.8307 Evaluation Finish\n",
      "36: Data Load Finish, Predict Finish, 10.5597 10.4592 0.1575 0.8407 Evaluation Finish\n",
      "37: Data Load Finish, Predict Finish, 0.8323 0.7699 0.0116 0.9874 Evaluation Finish\n",
      "38: Data Load Finish, Predict Finish, 10.2267 10.2197 0.1541 0.8457 Evaluation Finish\n",
      "39: Data Load Finish, Predict Finish, 12.1683 12.1212 0.1827 0.8164 Evaluation Finish\n",
      "40: Data Load Finish, Predict Finish, 2.4072 2.3035 0.0346 0.9637 Evaluation Finish\n",
      "41: Data Load Finish, Predict Finish, 12.3152 12.28 0.1851 0.8142 Evaluation Finish\n",
      "42: Data Load Finish, Predict Finish, 0.4793 0.4461 0.0068 0.9928 Evaluation Finish\n",
      "43: Data Load Finish, Predict Finish, 3.9119 3.8898 0.0586 0.941 Evaluation Finish\n",
      "44: Data Load Finish, "
     ]
    },
    {
     "name": "stderr",
     "output_type": "stream",
     "text": [
      "/home/vislab/anaconda3/envs/test/lib/python3.8/site-packages/statsmodels/base/model.py:604: ConvergenceWarning: Maximum Likelihood optimization failed to converge. Check mle_retvals\n",
      "  warnings.warn(\"Maximum Likelihood optimization failed to \"\n"
     ]
    },
    {
     "name": "stdout",
     "output_type": "stream",
     "text": [
      "Predict Finish, 1.1235 0.9168 0.014 0.9831 Evaluation Finish\n",
      "45: Data Load Finish, Predict Finish, 0.9493 0.9391 0.0142 0.9857 Evaluation Finish\n",
      "46: Data Load Finish, Predict Finish, 4.3441 4.2955 0.0647 0.9345 Evaluation Finish\n",
      "47: Data Load Finish, Predict Finish, 4.2285 4.2137 0.0636 0.9362 Evaluation Finish\n",
      "48: Data Load Finish, Predict Finish, 9.4457 9.4325 0.1422 0.8575 Evaluation Finish\n",
      "49: Data Load Finish, Predict Finish, 10.891 10.8184 0.163 0.8357 Evaluation Finish\n",
      "50: Data Load Finish, Predict Finish, 10.7224 10.587 0.1594 0.8383 Evaluation Finish\n",
      "51: Data Load Finish, Predict Finish, 18.2942 18.2644 0.2754 0.724 Evaluation Finish\n",
      "52: Data Load Finish, Predict Finish, 1.4028 1.3549 0.0204 0.9788 Evaluation Finish\n",
      "53: Data Load Finish, Predict Finish, 11.029 11.0077 0.166 0.8336 Evaluation Finish\n",
      "54: Data Load Finish, Predict Finish, 4.4458 4.4012 0.0663 0.9329 Evaluation Finish\n",
      "55: Data Load Finish, Predict Finish, 5.0886 5.0479 0.076 0.9232 Evaluation Finish\n",
      "56: Data Load Finish, Predict Finish, 26.3362 26.3259 0.3971 0.6027 Evaluation Finish\n",
      "57: Data Load Finish, Predict Finish, 6.0473 6.0144 0.0906 0.9088 Evaluation Finish\n",
      "58: Data Load Finish, Predict Finish, 4.5535 4.5221 0.0681 0.9313 Evaluation Finish\n",
      "59: Data Load Finish, Predict Finish, 3.186 3.1351 0.0472 0.9519 Evaluation Finish\n",
      "60: Data Load Finish, Predict Finish, 3.7746 3.7578 0.0567 0.9431 Evaluation Finish\n",
      "61: Data Load Finish, Predict Finish, 1.3841 1.3244 0.02 0.9791 Evaluation Finish\n",
      "62: Data Load Finish, Predict Finish, 4.9035 4.8777 0.0735 0.926 Evaluation Finish\n",
      "63: Data Load Finish, Predict Finish, 0.9505 0.8763 0.0132 0.9857 Evaluation Finish\n",
      "64: Data Load Finish, Predict Finish, 3.8539 3.7796 0.0569 0.9419 Evaluation Finish\n",
      "65: Data Load Finish, Predict Finish, 3.9329 3.8592 0.0581 0.9407 Evaluation Finish\n",
      "66: Data Load Finish, Predict Finish, 0.5814 0.5077 0.0077 0.9912 Evaluation Finish\n",
      "67: Data Load Finish, Predict Finish, 0.8604 0.8357 0.0126 0.987 Evaluation Finish\n",
      "68: Data Load Finish, "
     ]
    },
    {
     "name": "stderr",
     "output_type": "stream",
     "text": [
      "/home/vislab/anaconda3/envs/test/lib/python3.8/site-packages/pandas/core/arraylike.py:364: RuntimeWarning: divide by zero encountered in log\n",
      "  result = getattr(ufunc, method)(*inputs, **kwargs)\n"
     ]
    },
    {
     "name": "stdout",
     "output_type": "stream",
     "text": [
      "Predict Finish, 65.2924 65.287 0.9849 0.0151 Evaluation Finish\n",
      "69: Data Load Finish, Predict Finish, 0.4446 0.3942 0.0059 0.9933 Evaluation Finish\n",
      "70: Data Load Finish, Predict Finish, 6.4706 6.4278 0.0968 0.9024 Evaluation Finish\n",
      "71: Data Load Finish, Predict Finish, 2.1045 2.0675 0.0312 0.9683 Evaluation Finish\n",
      "72: Data Load Finish, Predict Finish, 1.2135 1.1166 0.0169 0.9817 Evaluation Finish\n",
      "73: Data Load Finish, Predict Finish, 6.9491 6.937 0.1046 0.8952 Evaluation Finish\n",
      "74: Data Load Finish, Predict Finish, 2.896 2.821 0.0427 0.9563 Evaluation Finish\n",
      "75: Data Load Finish, Predict Finish, 13.5473 13.5425 0.2043 0.7956 Evaluation Finish\n",
      "76: Data Load Finish, Predict Finish, 8.5859 8.5758 0.1294 0.8705 Evaluation Finish\n",
      "77: Data Load Finish, Predict Finish, 4.7561 4.7277 0.0712 0.9283 Evaluation Finish\n",
      "78: Data Load Finish, Predict Finish, 0.7161 0.6757 0.0102 0.9892 Evaluation Finish\n",
      "79: Data Load Finish, Predict Finish, 0.7269 0.675 0.0102 0.989 Evaluation Finish\n",
      "80: Data Load Finish, Predict Finish, 0.6073 0.5018 0.0076 0.9908 Evaluation Finish\n",
      "81: Data Load Finish, Predict Finish, 4.1739 4.1589 0.0627 0.937 Evaluation Finish\n",
      "82: Data Load Finish, Predict Finish, 2.857 2.8323 0.0427 0.9569 Evaluation Finish\n",
      "83: Data Load Finish, Predict Finish, 5.5533 5.4942 0.0827 0.9162 Evaluation Finish\n",
      "84: Data Load Finish, Predict Finish, 5.4419 5.4246 0.0818 0.9179 Evaluation Finish\n",
      "85: Data Load Finish, Predict Finish, 0.8035 0.8016 0.0121 0.9879 Evaluation Finish\n",
      "86: Data Load Finish, Predict Finish, 0.7886 0.693 0.0104 0.9881 Evaluation Finish\n",
      "87: Data Load Finish, Predict Finish, 3.0276 3.0044 0.0453 0.9543 Evaluation Finish\n",
      "88: Data Load Finish, Predict Finish, 0.7596 0.4856 0.0074 0.9885 Evaluation Finish\n",
      "89: Data Load Finish, Predict Finish, 1.057 0.9093 0.0138 0.9841 Evaluation Finish\n",
      "90: Data Load Finish, Predict Finish, 0.9567 0.6297 0.0096 0.9856 Evaluation Finish\n",
      "91: Data Load Finish, "
     ]
    },
    {
     "name": "stderr",
     "output_type": "stream",
     "text": [
      "/home/vislab/anaconda3/envs/test/lib/python3.8/site-packages/statsmodels/base/model.py:604: ConvergenceWarning: Maximum Likelihood optimization failed to converge. Check mle_retvals\n",
      "  warnings.warn(\"Maximum Likelihood optimization failed to \"\n"
     ]
    },
    {
     "name": "stdout",
     "output_type": "stream",
     "text": [
      "Predict Finish, 16.3074 16.3038 0.246 0.754 Evaluation Finish\n",
      "92: Data Load Finish, Predict Finish, 1.4871 1.2915 0.0196 0.9776 Evaluation Finish\n",
      "93: Data Load Finish, Predict Finish, 1.9086 1.7906 0.0269 0.9712 Evaluation Finish\n",
      "94: Data Load Finish, Predict Finish, 3.8217 3.7694 0.0568 0.9424 Evaluation Finish\n",
      "95: Data Load Finish, Predict Finish, 13.523 13.4989 0.2035 0.796 Evaluation Finish\n",
      "96: Data Load Finish, Predict Finish, 4.2735 4.1621 0.0626 0.9355 Evaluation Finish\n",
      "97: Data Load Finish, Predict Finish, 1.0251 0.8436 0.0128 0.9845 Evaluation Finish\n",
      "98: Data Load Finish, Predict Finish, 8.3296 8.3065 0.1252 0.8743 Evaluation Finish\n",
      "99: Data Load Finish, Predict Finish, 1.9753 1.8537 0.0281 0.9702 Evaluation Finish\n",
      "100: Data Load Finish, Predict Finish, 6.9114 6.8998 0.104 0.8957 Evaluation Finish\n",
      "101: Data Load Finish, Predict Finish, 5.6893 5.6683 0.0854 0.9142 Evaluation Finish\n",
      "102: Data Load Finish, Predict Finish, 4.7072 4.6715 0.0704 0.929 Evaluation Finish\n",
      "103: Data Load Finish, Predict Finish, 3.872 3.8228 0.0576 0.9416 Evaluation Finish\n",
      "104: Data Load Finish, Predict Finish, 7.2098 7.1497 0.1077 0.8912 Evaluation Finish\n",
      "105: Data Load Finish, Predict Finish, 1.8367 1.7199 0.0261 0.9723 Evaluation Finish\n",
      "106: Data Load Finish, Predict Finish, 0.9827 0.684 0.0105 0.9852 Evaluation Finish\n",
      "107: Data Load Finish, Predict Finish, 1.8933 1.7865 0.0271 0.9714 Evaluation Finish\n",
      "108: Data Load Finish, Predict Finish, 2.7473 2.6579 0.0402 0.9586 Evaluation Finish\n",
      "109: Data Load Finish, Predict Finish, 7.9379 7.9051 0.1191 0.8803 Evaluation Finish\n",
      "110: Data Load Finish, Predict Finish, 6.0921 5.9284 0.0892 0.9081 Evaluation Finish\n",
      "111: Data Load Finish, Predict Finish, 1.2774 1.1473 0.0174 0.9807 Evaluation Finish\n",
      "112: Data Load Finish, Predict Finish, 10.8964 10.8723 0.1639 0.8356 Evaluation Finish\n",
      "113: Data Load Finish, Predict Finish, 9.6151 9.5951 0.1447 0.855 Evaluation Finish\n",
      "114: Data Load Finish, Predict Finish, 2.2904 2.1616 0.0325 0.9654 Evaluation Finish\n",
      "115: Data Load Finish, Predict Finish, 3.9953 3.9253 0.0591 0.9397 Evaluation Finish\n",
      "116: Data Load Finish, Predict Finish, 1.5645 1.469 0.0221 0.9764 Evaluation Finish\n",
      "117: Data Load Finish, Predict Finish, 1.2652 1.1495 0.0174 0.9809 Evaluation Finish\n",
      "118: Data Load Finish, Predict Finish, 4.2333 4.0439 0.0608 0.9361 Evaluation Finish\n",
      "119: Data Load Finish, Predict Finish, 2.2834 2.1885 0.0331 0.9656 Evaluation Finish\n",
      "120: Data Load Finish, "
     ]
    },
    {
     "name": "stderr",
     "output_type": "stream",
     "text": [
      "/home/vislab/anaconda3/envs/test/lib/python3.8/site-packages/pandas/core/arraylike.py:364: RuntimeWarning: divide by zero encountered in log\n",
      "  result = getattr(ufunc, method)(*inputs, **kwargs)\n"
     ]
    },
    {
     "name": "stdout",
     "output_type": "stream",
     "text": [
      "Predict Finish, 65.2924 65.287 0.9849 0.0151 Evaluation Finish\n",
      "121: Data Load Finish, Predict Finish, 11.4323 11.2906 0.17 0.8275 Evaluation Finish\n",
      "122: Data Load Finish, Predict Finish, 0.7797 0.4693 0.0072 0.9882 Evaluation Finish\n",
      "123: Data Load Finish, Predict Finish, 1.5136 1.3108 0.0199 0.9772 Evaluation Finish\n",
      "124: Data Load Finish, Predict Finish, 8.9397 8.9207 0.1345 0.8651 Evaluation Finish\n",
      "125: Data Load Finish, "
     ]
    },
    {
     "name": "stderr",
     "output_type": "stream",
     "text": [
      "/home/vislab/anaconda3/envs/test/lib/python3.8/site-packages/pandas/core/arraylike.py:364: RuntimeWarning: divide by zero encountered in log\n",
      "  result = getattr(ufunc, method)(*inputs, **kwargs)\n"
     ]
    },
    {
     "name": "stdout",
     "output_type": "stream",
     "text": [
      "Predict Finish, 65.2924 65.287 0.9849 0.0151 Evaluation Finish\n",
      "126: Data Load Finish, Predict Finish, 13.5374 13.4012 0.2018 0.7958 Evaluation Finish\n",
      "127: Data Load Finish, Predict Finish, 2.3367 2.3113 0.0348 0.9648 Evaluation Finish\n",
      "128: Data Load Finish, Predict Finish, 1.1503 1.0507 0.0159 0.9826 Evaluation Finish\n",
      "129: Data Load Finish, Predict Finish, 6.3787 6.3304 0.0954 0.9038 Evaluation Finish\n",
      "130: Data Load Finish, Predict Finish, 3.442 3.4163 0.0515 0.9481 Evaluation Finish\n",
      "131: Data Load Finish, Predict Finish, 3.687 3.6703 0.0553 0.9444 Evaluation Finish\n",
      "132: Data Load Finish, Predict Finish, 0.8957 0.5931 0.0091 0.9865 Evaluation Finish\n",
      "133: Data Load Finish, Predict Finish, 5.3743 5.3536 0.0807 0.9189 Evaluation Finish\n",
      "134: Data Load Finish, Predict Finish, 1.7632 1.7158 0.0258 0.9734 Evaluation Finish\n",
      "135: Data Load Finish, Predict Finish, 0.6626 0.537 0.0081 0.99 Evaluation Finish\n",
      "136: Data Load Finish, Predict Finish, 1.8059 1.6801 0.0252 0.9728 Evaluation Finish\n",
      "137: Data Load Finish, Predict Finish, 3.8481 3.8253 0.0577 0.942 Evaluation Finish\n",
      "138: Data Load Finish, Predict Finish, 47.3327 47.2805 0.713 0.286 Evaluation Finish\n",
      "139: Data Load Finish, Predict Finish, 4.8734 4.8597 0.0733 0.9265 Evaluation Finish\n",
      "140: Data Load Finish, Predict Finish, 4.0872 4.0699 0.0614 0.9383 Evaluation Finish\n",
      "141: Data Load Finish, "
     ]
    },
    {
     "name": "stderr",
     "output_type": "stream",
     "text": [
      "/home/vislab/anaconda3/envs/test/lib/python3.8/site-packages/pandas/core/arraylike.py:364: RuntimeWarning: divide by zero encountered in log\n",
      "  result = getattr(ufunc, method)(*inputs, **kwargs)\n"
     ]
    },
    {
     "name": "stdout",
     "output_type": "stream",
     "text": [
      "Predict Finish, 65.2924 65.287 0.9849 0.0151 Evaluation Finish\n",
      "142: Data Load Finish, Predict Finish, 2.3299 2.2533 0.0339 0.9649 Evaluation Finish\n",
      "143: Data Load Finish, "
     ]
    },
    {
     "name": "stderr",
     "output_type": "stream",
     "text": [
      "/home/vislab/anaconda3/envs/test/lib/python3.8/site-packages/pandas/core/arraylike.py:364: RuntimeWarning: divide by zero encountered in log\n",
      "  result = getattr(ufunc, method)(*inputs, **kwargs)\n"
     ]
    },
    {
     "name": "stdout",
     "output_type": "stream",
     "text": [
      "Predict Finish, 65.2924 65.287 0.9849 0.0151 Evaluation Finish\n",
      "144: Data Load Finish, "
     ]
    },
    {
     "name": "stderr",
     "output_type": "stream",
     "text": [
      "/home/vislab/anaconda3/envs/test/lib/python3.8/site-packages/pandas/core/arraylike.py:364: RuntimeWarning: divide by zero encountered in log\n",
      "  result = getattr(ufunc, method)(*inputs, **kwargs)\n"
     ]
    },
    {
     "name": "stdout",
     "output_type": "stream",
     "text": [
      "Predict Finish, 65.2924 65.287 0.9849 0.0151 Evaluation Finish\n",
      "145: Data Load Finish, Predict Finish, 0.77 0.7612 0.0115 0.9884 Evaluation Finish\n",
      "146: Data Load Finish, Predict Finish, 1.6707 1.6344 0.0246 0.9748 Evaluation Finish\n",
      "147: Data Load Finish, Predict Finish, 6.1673 6.1077 0.092 0.907 Evaluation Finish\n",
      "148: Data Load Finish, Predict Finish, 3.0293 3.0031 0.0452 0.9543 Evaluation Finish\n",
      "149: Data Load Finish, Predict Finish, 2.7722 2.726 0.0412 0.9582 Evaluation Finish\n",
      "150: Data Load Finish, Predict Finish, 3.4681 3.4475 0.052 0.9477 Evaluation Finish\n",
      "151: Data Load Finish, Predict Finish, 8.7984 8.773 0.1322 0.8673 Evaluation Finish\n",
      "152: Data Load Finish, Predict Finish, 3.171 3.1402 0.0473 0.9522 Evaluation Finish\n",
      "153: Data Load Finish, Predict Finish, 2.2882 2.2221 0.0334 0.9655 Evaluation Finish\n",
      "154: Data Load Finish, "
     ]
    },
    {
     "name": "stderr",
     "output_type": "stream",
     "text": [
      "/home/vislab/anaconda3/envs/test/lib/python3.8/site-packages/pandas/core/arraylike.py:364: RuntimeWarning: divide by zero encountered in log\n",
      "  result = getattr(ufunc, method)(*inputs, **kwargs)\n"
     ]
    },
    {
     "name": "stdout",
     "output_type": "stream",
     "text": [
      "Predict Finish, 65.2924 65.287 0.9849 0.0151 Evaluation Finish\n",
      "155: Data Load Finish, Predict Finish, 3.6328 3.6157 0.0545 0.9452 Evaluation Finish\n",
      "156: Data Load Finish, Predict Finish, 8.3425 8.3314 0.1256 0.8742 Evaluation Finish\n",
      "157: Data Load Finish, "
     ]
    },
    {
     "name": "stderr",
     "output_type": "stream",
     "text": [
      "/home/vislab/anaconda3/envs/test/lib/python3.8/site-packages/pandas/core/arraylike.py:364: RuntimeWarning: divide by zero encountered in log\n",
      "  result = getattr(ufunc, method)(*inputs, **kwargs)\n"
     ]
    },
    {
     "name": "stdout",
     "output_type": "stream",
     "text": [
      "Predict Finish, 65.2924 65.287 0.9849 0.0151 Evaluation Finish\n",
      "158: Data Load Finish, Predict Finish, 2.0517 2.0148 0.0304 0.9691 Evaluation Finish\n",
      "159: Data Load Finish, Predict Finish, 2.6619 2.6206 0.0396 0.9598 Evaluation Finish\n",
      "160: Data Load Finish, Predict Finish, 0.8112 0.8028 0.0121 0.9878 Evaluation Finish\n",
      "161: Data Load Finish, Predict Finish, 2.7046 2.6589 0.0402 0.9592 Evaluation Finish\n",
      "162: Data Load Finish, Predict Finish, 2.4044 2.342 0.0354 0.9637 Evaluation Finish\n",
      "163: Data Load Finish, Predict Finish, 1.3197 1.1607 0.0176 0.9801 Evaluation Finish\n",
      "164: Data Load Finish, Predict Finish, 2.5414 2.5119 0.0379 0.9617 Evaluation Finish\n",
      "165: Data Load Finish, Predict Finish, 15.4713 15.4605 0.2332 0.7666 Evaluation Finish\n",
      "166: Data Load Finish, Predict Finish, 2.283 2.2452 0.0339 0.9656 Evaluation Finish\n",
      "167: Data Load Finish, Predict Finish, 1.2184 1.1137 0.0167 0.9816 Evaluation Finish\n",
      "168: Data Load Finish, Predict Finish, 0.6353 0.4603 0.007 0.9904 Evaluation Finish\n",
      "169: Data Load Finish, Predict Finish, 0.7139 0.6936 0.0104 0.9892 Evaluation Finish\n",
      "170: Data Load Finish, "
     ]
    },
    {
     "name": "stderr",
     "output_type": "stream",
     "text": [
      "/home/vislab/anaconda3/envs/test/lib/python3.8/site-packages/pandas/core/arraylike.py:364: RuntimeWarning: divide by zero encountered in log\n",
      "  result = getattr(ufunc, method)(*inputs, **kwargs)\n"
     ]
    },
    {
     "name": "stdout",
     "output_type": "stream",
     "text": [
      "Predict Finish, 65.2924 65.287 0.9849 0.0151 Evaluation Finish\n",
      "171: Data Load Finish, Predict Finish, 0.6771 0.6527 0.0099 0.9898 Evaluation Finish\n",
      "172: Data Load Finish, Predict Finish, 3.781 3.7476 0.0566 0.943 Evaluation Finish\n",
      "173: Data Load Finish, Predict Finish, 0.6433 0.6381 0.0096 0.9903 Evaluation Finish\n",
      "174: Data Load Finish, Predict Finish, 10.489 10.4718 0.1579 0.8418 Evaluation Finish\n",
      "175: Data Load Finish, Predict Finish, 4.0019 3.9404 0.0593 0.9396 Evaluation Finish\n",
      "176: Data Load Finish, Predict Finish, 4.5307 4.4643 0.0672 0.9317 Evaluation Finish\n",
      "177: Data Load Finish, Predict Finish, 4.0705 4.0091 0.0604 0.9386 Evaluation Finish\n",
      "178: Data Load Finish, Predict Finish, 2.8752 2.7466 0.0413 0.9566 Evaluation Finish\n",
      "179: Data Load Finish, Predict Finish, 12.172 12.104 0.1824 0.8164 Evaluation Finish\n",
      "180: Data Load Finish, Predict Finish, 2.6164 2.5808 0.0389 0.9605 Evaluation Finish\n",
      "181: Data Load Finish, Predict Finish, 2.5164 2.4715 0.0372 0.962 Evaluation Finish\n",
      "182: Data Load Finish, Predict Finish, 0.7591 0.5223 0.008 0.9885 Evaluation Finish\n",
      "183: Data Load Finish, Predict Finish, 1.8829 1.7392 0.0264 0.9716 Evaluation Finish\n",
      "184: Data Load Finish, Predict Finish, 1.5097 1.3536 0.0203 0.9772 Evaluation Finish\n",
      "185: Data Load Finish, Predict Finish, 0.8118 0.732 0.011 0.9878 Evaluation Finish\n",
      "186: Data Load Finish, Predict Finish, 2.4843 2.4134 0.0363 0.9625 Evaluation Finish\n",
      "187: Data Load Finish, Predict Finish, 5.104 5.0537 0.0763 0.923 Evaluation Finish\n",
      "188: Data Load Finish, Predict Finish, 1.8032 1.7614 0.0266 0.9728 Evaluation Finish\n",
      "189: Data Load Finish, Predict Finish, 11.8499 11.6346 0.1751 0.8212 Evaluation Finish\n",
      "190: Data Load Finish, Predict Finish, 0.4195 0.3502 0.0052 0.9937 Evaluation Finish\n",
      "191: Data Load Finish, Predict Finish, 6.8811 6.8502 0.1034 0.8962 Evaluation Finish\n",
      "192: Data Load Finish, Predict Finish, 0.736 0.6397 0.0096 0.9889 Evaluation Finish\n",
      "193: Data Load Finish, Predict Finish, 5.4937 5.4435 0.0822 0.9171 Evaluation Finish\n",
      "194: Data Load Finish, Predict Finish, 8.2014 8.1839 0.1234 0.8763 Evaluation Finish\n",
      "195: Data Load Finish, Predict Finish, 1.276 1.1947 0.0181 0.9808 Evaluation Finish\n",
      "196: Data Load Finish, Predict Finish, 64.7391 64.7301 0.9765 0.0234 Evaluation Finish\n",
      "197: Data Load Finish, Predict Finish, 15.766 15.7543 0.2378 0.7622 Evaluation Finish\n",
      "198: Data Load Finish, Predict Finish, 2.1683 2.0987 0.0318 0.9673 Evaluation Finish\n",
      "199: Data Load Finish, Predict Finish, 6.7355 6.7044 0.101 0.8984 Evaluation Finish\n",
      "200: Data Load Finish, Predict Finish, 3.9833 3.765 0.0566 0.9399 Evaluation Finish\n",
      "201: Data Load Finish, Predict Finish, 0.8022 0.4796 0.0074 0.9879 Evaluation Finish\n",
      "202: Data Load Finish, Predict Finish, 5.1147 4.9489 0.0744 0.9228 Evaluation Finish\n",
      "203: Data Load Finish, Predict Finish, 0.9425 0.8445 0.0128 0.9858 Evaluation Finish\n",
      "204: Data Load Finish, Predict Finish, 5.6062 5.5675 0.0839 0.9154 Evaluation Finish\n",
      "205: Data Load Finish, Predict Finish, 0.8114 0.7195 0.0109 0.9878 Evaluation Finish\n",
      "206: Data Load Finish, Predict Finish, 5.705 5.6906 0.0858 0.9139 Evaluation Finish\n",
      "RMSE: 8.33161184713342, MAE: 8.26182647651837, MAPE: 0.12459315874315807\n",
      "ACC: 0.874320124644669\n"
     ]
    }
   ],
   "source": [
    "predictARIMA(df, idx, 3)"
   ]
  },
  {
   "cell_type": "markdown",
   "id": "dcb35d64",
   "metadata": {},
   "source": [
    "### Unobserved Nodes = 10%"
   ]
  },
  {
   "cell_type": "code",
   "execution_count": 12,
   "id": "79128717",
   "metadata": {},
   "outputs": [
    {
     "data": {
      "text/plain": [
       "0.04060913705583756"
      ]
     },
     "execution_count": 12,
     "metadata": {},
     "output_type": "execute_result"
    }
   ],
   "source": [
    "(217564149736451.78 * 207 - 4503577899544551.5 * 10) / 197"
   ]
  },
  {
   "cell_type": "code",
   "execution_count": 13,
   "id": "83ad788d",
   "metadata": {},
   "outputs": [
    {
     "name": "stdout",
     "output_type": "stream",
     "text": [
      "34272 207\n"
     ]
    },
    {
     "data": {
      "text/plain": [
       "685440"
      ]
     },
     "execution_count": 13,
     "metadata": {},
     "output_type": "execute_result"
    }
   ],
   "source": [
    "df, idx = csvIndexToDatetime(path_10, start, freq)\n",
    "(df == 0).sum().sum()"
   ]
  },
  {
   "cell_type": "code",
   "execution_count": 14,
   "id": "010ff399",
   "metadata": {
    "scrolled": false
   },
   "outputs": [
    {
     "name": "stdout",
     "output_type": "stream",
     "text": [
      "0: Data Load Finish, Predict Finish, 5.1389 5.0797 0.0765 0.9225 Evaluation Finish\n",
      "1: Data Load Finish, Predict Finish, 1.4324 1.2576 0.0188 0.9784 Evaluation Finish\n",
      "2: Data Load Finish, Predict Finish, 0.7313 0.7184 0.0109 0.989 Evaluation Finish\n",
      "3: Data Load Finish, Predict Finish, 6.0713 6.0587 0.0914 0.9084 Evaluation Finish\n",
      "4: Data Load Finish, Predict Finish, 31.6438 31.6072 0.4766 0.5227 Evaluation Finish\n",
      "5: Data Load Finish, Predict Finish, 15.3814 15.3499 0.2314 0.768 Evaluation Finish\n",
      "6: Data Load Finish, "
     ]
    },
    {
     "name": "stderr",
     "output_type": "stream",
     "text": [
      "/home/vislab/anaconda3/envs/test/lib/python3.8/site-packages/pandas/core/arraylike.py:364: RuntimeWarning: divide by zero encountered in log\n",
      "  result = getattr(ufunc, method)(*inputs, **kwargs)\n"
     ]
    },
    {
     "name": "stdout",
     "output_type": "stream",
     "text": [
      "Predict Finish, 65.2924 65.287 0.9849 0.0151 Evaluation Finish\n",
      "7: Data Load Finish, "
     ]
    },
    {
     "name": "stderr",
     "output_type": "stream",
     "text": [
      "/home/vislab/anaconda3/envs/test/lib/python3.8/site-packages/statsmodels/base/model.py:604: ConvergenceWarning: Maximum Likelihood optimization failed to converge. Check mle_retvals\n",
      "  warnings.warn(\"Maximum Likelihood optimization failed to \"\n"
     ]
    },
    {
     "name": "stdout",
     "output_type": "stream",
     "text": [
      "Predict Finish, 1.9843 1.9258 0.029 0.9701 Evaluation Finish\n",
      "8: Data Load Finish, Predict Finish, 2.2266 2.1722 0.0327 0.9664 Evaluation Finish\n",
      "9: Data Load Finish, "
     ]
    },
    {
     "name": "stderr",
     "output_type": "stream",
     "text": [
      "/home/vislab/anaconda3/envs/test/lib/python3.8/site-packages/pandas/core/arraylike.py:364: RuntimeWarning: divide by zero encountered in log\n",
      "  result = getattr(ufunc, method)(*inputs, **kwargs)\n"
     ]
    },
    {
     "name": "stdout",
     "output_type": "stream",
     "text": [
      "Predict Finish, 65.2924 65.287 0.9849 0.0151 Evaluation Finish\n",
      "10: Data Load Finish, Predict Finish, 4.5824 4.5504 0.0686 0.9309 Evaluation Finish\n",
      "11: Data Load Finish, "
     ]
    },
    {
     "name": "stderr",
     "output_type": "stream",
     "text": [
      "/home/vislab/anaconda3/envs/test/lib/python3.8/site-packages/pandas/core/arraylike.py:364: RuntimeWarning: divide by zero encountered in log\n",
      "  result = getattr(ufunc, method)(*inputs, **kwargs)\n"
     ]
    },
    {
     "name": "stdout",
     "output_type": "stream",
     "text": [
      "Predict Finish, 65.2924 65.287 0.9849 0.0151 Evaluation Finish\n",
      "12: Data Load Finish, Predict Finish, 6.0948 6.0744 0.0917 0.9081 Evaluation Finish\n",
      "13: Data Load Finish, Predict Finish, 0.9814 0.8346 0.0125 0.9852 Evaluation Finish\n",
      "14: Data Load Finish, Predict Finish, 4.2081 4.1821 0.063 0.9365 Evaluation Finish\n",
      "15: Data Load Finish, "
     ]
    },
    {
     "name": "stderr",
     "output_type": "stream",
     "text": [
      "/home/vislab/anaconda3/envs/test/lib/python3.8/site-packages/pandas/core/arraylike.py:364: RuntimeWarning: divide by zero encountered in log\n",
      "  result = getattr(ufunc, method)(*inputs, **kwargs)\n"
     ]
    },
    {
     "name": "stdout",
     "output_type": "stream",
     "text": [
      "Predict Finish, 65.2924 65.287 0.9849 0.0151 Evaluation Finish\n",
      "16: Data Load Finish, Predict Finish, 50.878 50.8472 0.7669 0.2325 Evaluation Finish\n",
      "17: Data Load Finish, Predict Finish, 2.3606 2.3335 0.0352 0.9644 Evaluation Finish\n",
      "18: Data Load Finish, Predict Finish, 16.8531 16.7079 0.2517 0.7458 Evaluation Finish\n",
      "19: Data Load Finish, Predict Finish, 4.5072 4.4706 0.0673 0.932 Evaluation Finish\n",
      "20: Data Load Finish, Predict Finish, 0.7712 0.514 0.0079 0.9884 Evaluation Finish\n",
      "21: Data Load Finish, Predict Finish, 10.9672 10.8148 0.1628 0.8346 Evaluation Finish\n",
      "22: Data Load Finish, Predict Finish, 12.7598 12.7532 0.1924 0.8075 Evaluation Finish\n",
      "23: Data Load Finish, "
     ]
    },
    {
     "name": "stderr",
     "output_type": "stream",
     "text": [
      "/home/vislab/anaconda3/envs/test/lib/python3.8/site-packages/pandas/core/arraylike.py:364: RuntimeWarning: divide by zero encountered in log\n",
      "  result = getattr(ufunc, method)(*inputs, **kwargs)\n"
     ]
    },
    {
     "name": "stdout",
     "output_type": "stream",
     "text": [
      "Predict Finish, 65.2924 65.287 0.9849 0.0151 Evaluation Finish\n",
      "24: Data Load Finish, Predict Finish, 6.3954 6.2704 0.0944 0.9035 Evaluation Finish\n",
      "25: Data Load Finish, Predict Finish, 5.8848 5.8704 0.0885 0.9112 Evaluation Finish\n",
      "26: Data Load Finish, Predict Finish, 8.8861 8.8787 0.1339 0.866 Evaluation Finish\n",
      "27: Data Load Finish, "
     ]
    },
    {
     "name": "stderr",
     "output_type": "stream",
     "text": [
      "/home/vislab/anaconda3/envs/test/lib/python3.8/site-packages/pandas/core/arraylike.py:364: RuntimeWarning: divide by zero encountered in log\n",
      "  result = getattr(ufunc, method)(*inputs, **kwargs)\n"
     ]
    },
    {
     "name": "stdout",
     "output_type": "stream",
     "text": [
      "Predict Finish, 65.2924 65.287 0.9849 0.0151 Evaluation Finish\n",
      "28: Data Load Finish, Predict Finish, 0.7667 0.6747 0.0102 0.9884 Evaluation Finish\n",
      "29: Data Load Finish, Predict Finish, 2.4984 2.4751 0.0373 0.9623 Evaluation Finish\n",
      "30: Data Load Finish, Predict Finish, 4.4545 4.436 0.0669 0.9328 Evaluation Finish\n",
      "31: Data Load Finish, Predict Finish, 1.9103 1.6047 0.024 0.9712 Evaluation Finish\n",
      "32: Data Load Finish, Predict Finish, 0.6798 0.455 0.007 0.9897 Evaluation Finish\n",
      "33: Data Load Finish, Predict Finish, 3.7347 3.7032 0.0558 0.9437 Evaluation Finish\n",
      "34: Data Load Finish, Predict Finish, 0.7814 0.6244 0.0095 0.9882 Evaluation Finish\n",
      "35: Data Load Finish, Predict Finish, 11.224 11.092 0.167 0.8307 Evaluation Finish\n",
      "36: Data Load Finish, Predict Finish, 10.5597 10.4592 0.1575 0.8407 Evaluation Finish\n",
      "37: Data Load Finish, Predict Finish, 0.8323 0.7699 0.0116 0.9874 Evaluation Finish\n",
      "38: Data Load Finish, Predict Finish, 10.2267 10.2197 0.1541 0.8457 Evaluation Finish\n",
      "39: Data Load Finish, Predict Finish, 12.1683 12.1212 0.1827 0.8164 Evaluation Finish\n",
      "40: Data Load Finish, Predict Finish, 2.4072 2.3035 0.0346 0.9637 Evaluation Finish\n",
      "41: Data Load Finish, Predict Finish, 12.3152 12.28 0.1851 0.8142 Evaluation Finish\n",
      "42: Data Load Finish, Predict Finish, 0.4793 0.4461 0.0068 0.9928 Evaluation Finish\n",
      "43: Data Load Finish, Predict Finish, 3.9119 3.8898 0.0586 0.941 Evaluation Finish\n",
      "44: Data Load Finish, "
     ]
    },
    {
     "name": "stderr",
     "output_type": "stream",
     "text": [
      "/home/vislab/anaconda3/envs/test/lib/python3.8/site-packages/statsmodels/base/model.py:604: ConvergenceWarning: Maximum Likelihood optimization failed to converge. Check mle_retvals\n",
      "  warnings.warn(\"Maximum Likelihood optimization failed to \"\n"
     ]
    },
    {
     "name": "stdout",
     "output_type": "stream",
     "text": [
      "Predict Finish, 1.1235 0.9168 0.014 0.9831 Evaluation Finish\n",
      "45: Data Load Finish, Predict Finish, 0.9493 0.9391 0.0142 0.9857 Evaluation Finish\n",
      "46: Data Load Finish, Predict Finish, 4.3441 4.2955 0.0647 0.9345 Evaluation Finish\n",
      "47: Data Load Finish, Predict Finish, 4.2285 4.2137 0.0636 0.9362 Evaluation Finish\n",
      "48: Data Load Finish, Predict Finish, 9.4457 9.4325 0.1422 0.8575 Evaluation Finish\n",
      "49: Data Load Finish, Predict Finish, 10.891 10.8184 0.163 0.8357 Evaluation Finish\n",
      "50: Data Load Finish, Predict Finish, 10.7224 10.587 0.1594 0.8383 Evaluation Finish\n",
      "51: Data Load Finish, "
     ]
    },
    {
     "name": "stderr",
     "output_type": "stream",
     "text": [
      "/home/vislab/anaconda3/envs/test/lib/python3.8/site-packages/pandas/core/arraylike.py:364: RuntimeWarning: divide by zero encountered in log\n",
      "  result = getattr(ufunc, method)(*inputs, **kwargs)\n"
     ]
    },
    {
     "name": "stdout",
     "output_type": "stream",
     "text": [
      "Predict Finish, 65.2924 65.287 0.9849 0.0151 Evaluation Finish\n",
      "52: Data Load Finish, Predict Finish, 1.4028 1.3549 0.0204 0.9788 Evaluation Finish\n",
      "53: Data Load Finish, "
     ]
    },
    {
     "name": "stderr",
     "output_type": "stream",
     "text": [
      "/home/vislab/anaconda3/envs/test/lib/python3.8/site-packages/pandas/core/arraylike.py:364: RuntimeWarning: divide by zero encountered in log\n",
      "  result = getattr(ufunc, method)(*inputs, **kwargs)\n"
     ]
    },
    {
     "name": "stdout",
     "output_type": "stream",
     "text": [
      "Predict Finish, 65.2924 65.287 0.9849 0.0151 Evaluation Finish\n",
      "54: Data Load Finish, Predict Finish, 4.4458 4.4012 0.0663 0.9329 Evaluation Finish\n",
      "55: Data Load Finish, Predict Finish, 5.0886 5.0479 0.076 0.9232 Evaluation Finish\n",
      "56: Data Load Finish, Predict Finish, 26.3362 26.3259 0.3971 0.6027 Evaluation Finish\n",
      "57: Data Load Finish, Predict Finish, 6.0473 6.0144 0.0906 0.9088 Evaluation Finish\n",
      "58: Data Load Finish, Predict Finish, 4.5535 4.5221 0.0681 0.9313 Evaluation Finish\n",
      "59: Data Load Finish, "
     ]
    },
    {
     "name": "stderr",
     "output_type": "stream",
     "text": [
      "/home/vislab/anaconda3/envs/test/lib/python3.8/site-packages/pandas/core/arraylike.py:364: RuntimeWarning: divide by zero encountered in log\n",
      "  result = getattr(ufunc, method)(*inputs, **kwargs)\n"
     ]
    },
    {
     "name": "stdout",
     "output_type": "stream",
     "text": [
      "Predict Finish, 65.2924 65.287 0.9849 0.0151 Evaluation Finish\n",
      "60: Data Load Finish, Predict Finish, 3.7746 3.7578 0.0567 0.9431 Evaluation Finish\n",
      "61: Data Load Finish, Predict Finish, 1.3841 1.3244 0.02 0.9791 Evaluation Finish\n",
      "62: Data Load Finish, Predict Finish, 4.9035 4.8777 0.0735 0.926 Evaluation Finish\n",
      "63: Data Load Finish, Predict Finish, 0.9505 0.8763 0.0132 0.9857 Evaluation Finish\n",
      "64: Data Load Finish, Predict Finish, 3.8539 3.7796 0.0569 0.9419 Evaluation Finish\n",
      "65: Data Load Finish, Predict Finish, 3.9329 3.8592 0.0581 0.9407 Evaluation Finish\n",
      "66: Data Load Finish, "
     ]
    },
    {
     "name": "stderr",
     "output_type": "stream",
     "text": [
      "/home/vislab/anaconda3/envs/test/lib/python3.8/site-packages/pandas/core/arraylike.py:364: RuntimeWarning: divide by zero encountered in log\n",
      "  result = getattr(ufunc, method)(*inputs, **kwargs)\n"
     ]
    },
    {
     "name": "stdout",
     "output_type": "stream",
     "text": [
      "Predict Finish, 65.2924 65.287 0.9849 0.0151 Evaluation Finish\n",
      "67: Data Load Finish, Predict Finish, 0.8604 0.8357 0.0126 0.987 Evaluation Finish\n",
      "68: Data Load Finish, Predict Finish, 0.7091 0.6875 0.0103 0.9893 Evaluation Finish\n",
      "69: Data Load Finish, Predict Finish, 0.4446 0.3942 0.0059 0.9933 Evaluation Finish\n",
      "70: Data Load Finish, Predict Finish, 6.4706 6.4278 0.0968 0.9024 Evaluation Finish\n",
      "71: Data Load Finish, Predict Finish, 2.1045 2.0675 0.0312 0.9683 Evaluation Finish\n",
      "72: Data Load Finish, Predict Finish, 1.2135 1.1166 0.0169 0.9817 Evaluation Finish\n",
      "73: Data Load Finish, Predict Finish, 6.9491 6.937 0.1046 0.8952 Evaluation Finish\n",
      "74: Data Load Finish, Predict Finish, 2.896 2.821 0.0427 0.9563 Evaluation Finish\n",
      "75: Data Load Finish, Predict Finish, 13.5473 13.5425 0.2043 0.7956 Evaluation Finish\n",
      "76: Data Load Finish, Predict Finish, 8.5859 8.5758 0.1294 0.8705 Evaluation Finish\n",
      "77: Data Load Finish, Predict Finish, 4.7561 4.7277 0.0712 0.9283 Evaluation Finish\n",
      "78: Data Load Finish, Predict Finish, 0.7161 0.6757 0.0102 0.9892 Evaluation Finish\n",
      "79: Data Load Finish, Predict Finish, 0.7269 0.675 0.0102 0.989 Evaluation Finish\n",
      "80: Data Load Finish, Predict Finish, 0.6073 0.5018 0.0076 0.9908 Evaluation Finish\n",
      "81: Data Load Finish, Predict Finish, 4.1739 4.1589 0.0627 0.937 Evaluation Finish\n",
      "82: Data Load Finish, "
     ]
    },
    {
     "name": "stderr",
     "output_type": "stream",
     "text": [
      "/home/vislab/anaconda3/envs/test/lib/python3.8/site-packages/pandas/core/arraylike.py:364: RuntimeWarning: divide by zero encountered in log\n",
      "  result = getattr(ufunc, method)(*inputs, **kwargs)\n"
     ]
    },
    {
     "name": "stdout",
     "output_type": "stream",
     "text": [
      "Predict Finish, 65.2924 65.287 0.9849 0.0151 Evaluation Finish\n",
      "83: Data Load Finish, Predict Finish, 5.5533 5.4942 0.0827 0.9162 Evaluation Finish\n",
      "84: Data Load Finish, Predict Finish, 5.4419 5.4246 0.0818 0.9179 Evaluation Finish\n",
      "85: Data Load Finish, Predict Finish, 0.8035 0.8016 0.0121 0.9879 Evaluation Finish\n",
      "86: Data Load Finish, Predict Finish, 0.7886 0.693 0.0104 0.9881 Evaluation Finish\n",
      "87: Data Load Finish, Predict Finish, 3.0276 3.0044 0.0453 0.9543 Evaluation Finish\n",
      "88: Data Load Finish, Predict Finish, 0.7596 0.4856 0.0074 0.9885 Evaluation Finish\n",
      "89: Data Load Finish, Predict Finish, 1.057 0.9093 0.0138 0.9841 Evaluation Finish\n",
      "90: Data Load Finish, Predict Finish, 0.9567 0.6297 0.0096 0.9856 Evaluation Finish\n",
      "91: Data Load Finish, "
     ]
    },
    {
     "name": "stderr",
     "output_type": "stream",
     "text": [
      "/home/vislab/anaconda3/envs/test/lib/python3.8/site-packages/statsmodels/base/model.py:604: ConvergenceWarning: Maximum Likelihood optimization failed to converge. Check mle_retvals\n",
      "  warnings.warn(\"Maximum Likelihood optimization failed to \"\n"
     ]
    },
    {
     "name": "stdout",
     "output_type": "stream",
     "text": [
      "Predict Finish, 16.3074 16.3038 0.246 0.754 Evaluation Finish\n",
      "92: Data Load Finish, Predict Finish, 1.4871 1.2915 0.0196 0.9776 Evaluation Finish\n",
      "93: Data Load Finish, Predict Finish, 1.9086 1.7906 0.0269 0.9712 Evaluation Finish\n",
      "94: Data Load Finish, Predict Finish, 3.8217 3.7694 0.0568 0.9424 Evaluation Finish\n",
      "95: Data Load Finish, Predict Finish, 13.523 13.4989 0.2035 0.796 Evaluation Finish\n",
      "96: Data Load Finish, Predict Finish, 4.2735 4.1621 0.0626 0.9355 Evaluation Finish\n",
      "97: Data Load Finish, Predict Finish, 1.0251 0.8436 0.0128 0.9845 Evaluation Finish\n",
      "98: Data Load Finish, Predict Finish, 8.3296 8.3065 0.1252 0.8743 Evaluation Finish\n",
      "99: Data Load Finish, Predict Finish, 1.9753 1.8537 0.0281 0.9702 Evaluation Finish\n",
      "100: Data Load Finish, Predict Finish, 6.9114 6.8998 0.104 0.8957 Evaluation Finish\n",
      "101: Data Load Finish, Predict Finish, 5.6893 5.6683 0.0854 0.9142 Evaluation Finish\n",
      "102: Data Load Finish, Predict Finish, 4.7072 4.6715 0.0704 0.929 Evaluation Finish\n",
      "103: Data Load Finish, Predict Finish, 3.872 3.8228 0.0576 0.9416 Evaluation Finish\n",
      "104: Data Load Finish, Predict Finish, 7.2098 7.1497 0.1077 0.8912 Evaluation Finish\n",
      "105: Data Load Finish, Predict Finish, 1.8367 1.7199 0.0261 0.9723 Evaluation Finish\n",
      "106: Data Load Finish, Predict Finish, 0.9827 0.684 0.0105 0.9852 Evaluation Finish\n",
      "107: Data Load Finish, Predict Finish, 1.8933 1.7865 0.0271 0.9714 Evaluation Finish\n",
      "108: Data Load Finish, Predict Finish, 2.7473 2.6579 0.0402 0.9586 Evaluation Finish\n",
      "109: Data Load Finish, Predict Finish, 7.9379 7.9051 0.1191 0.8803 Evaluation Finish\n",
      "110: Data Load Finish, Predict Finish, 6.0921 5.9284 0.0892 0.9081 Evaluation Finish\n",
      "111: Data Load Finish, Predict Finish, 1.2774 1.1473 0.0174 0.9807 Evaluation Finish\n",
      "112: Data Load Finish, Predict Finish, 10.8964 10.8723 0.1639 0.8356 Evaluation Finish\n",
      "113: Data Load Finish, Predict Finish, 9.6151 9.5951 0.1447 0.855 Evaluation Finish\n",
      "114: Data Load Finish, Predict Finish, 2.2904 2.1616 0.0325 0.9654 Evaluation Finish\n",
      "115: Data Load Finish, Predict Finish, 3.9953 3.9253 0.0591 0.9397 Evaluation Finish\n",
      "116: Data Load Finish, "
     ]
    },
    {
     "name": "stderr",
     "output_type": "stream",
     "text": [
      "/home/vislab/anaconda3/envs/test/lib/python3.8/site-packages/pandas/core/arraylike.py:364: RuntimeWarning: divide by zero encountered in log\n",
      "  result = getattr(ufunc, method)(*inputs, **kwargs)\n"
     ]
    },
    {
     "name": "stdout",
     "output_type": "stream",
     "text": [
      "Predict Finish, 65.2924 65.287 0.9849 0.0151 Evaluation Finish\n",
      "117: Data Load Finish, Predict Finish, 1.2652 1.1495 0.0174 0.9809 Evaluation Finish\n",
      "118: Data Load Finish, Predict Finish, 4.2333 4.0439 0.0608 0.9361 Evaluation Finish\n",
      "119: Data Load Finish, Predict Finish, 2.2834 2.1885 0.0331 0.9656 Evaluation Finish\n",
      "120: Data Load Finish, Predict Finish, 8.5724 8.5463 0.1288 0.8707 Evaluation Finish\n",
      "121: Data Load Finish, Predict Finish, 11.4323 11.2906 0.17 0.8275 Evaluation Finish\n",
      "122: Data Load Finish, Predict Finish, 0.7797 0.4693 0.0072 0.9882 Evaluation Finish\n",
      "123: Data Load Finish, Predict Finish, 1.5136 1.3108 0.0199 0.9772 Evaluation Finish\n",
      "124: Data Load Finish, Predict Finish, 8.9397 8.9207 0.1345 0.8651 Evaluation Finish\n",
      "125: Data Load Finish, Predict Finish, 9.5704 9.5589 0.1441 0.8556 Evaluation Finish\n",
      "126: Data Load Finish, Predict Finish, 13.5374 13.4012 0.2018 0.7958 Evaluation Finish\n",
      "127: Data Load Finish, Predict Finish, 2.3367 2.3113 0.0348 0.9648 Evaluation Finish\n",
      "128: Data Load Finish, Predict Finish, 1.1503 1.0507 0.0159 0.9826 Evaluation Finish\n",
      "129: Data Load Finish, Predict Finish, 6.3787 6.3304 0.0954 0.9038 Evaluation Finish\n",
      "130: Data Load Finish, Predict Finish, 3.442 3.4163 0.0515 0.9481 Evaluation Finish\n",
      "131: Data Load Finish, "
     ]
    },
    {
     "name": "stderr",
     "output_type": "stream",
     "text": [
      "/home/vislab/anaconda3/envs/test/lib/python3.8/site-packages/pandas/core/arraylike.py:364: RuntimeWarning: divide by zero encountered in log\n",
      "  result = getattr(ufunc, method)(*inputs, **kwargs)\n"
     ]
    },
    {
     "name": "stdout",
     "output_type": "stream",
     "text": [
      "Predict Finish, 65.2924 65.287 0.9849 0.0151 Evaluation Finish\n",
      "132: Data Load Finish, Predict Finish, 0.8957 0.5931 0.0091 0.9865 Evaluation Finish\n",
      "133: Data Load Finish, Predict Finish, 5.3743 5.3536 0.0807 0.9189 Evaluation Finish\n",
      "134: Data Load Finish, Predict Finish, 1.7632 1.7158 0.0258 0.9734 Evaluation Finish\n",
      "135: Data Load Finish, Predict Finish, 0.6626 0.537 0.0081 0.99 Evaluation Finish\n",
      "136: Data Load Finish, Predict Finish, 1.8059 1.6801 0.0252 0.9728 Evaluation Finish\n",
      "137: Data Load Finish, Predict Finish, 3.8481 3.8253 0.0577 0.942 Evaluation Finish\n",
      "138: Data Load Finish, Predict Finish, 47.3327 47.2805 0.713 0.286 Evaluation Finish\n",
      "139: Data Load Finish, Predict Finish, 4.8734 4.8597 0.0733 0.9265 Evaluation Finish\n",
      "140: Data Load Finish, Predict Finish, 4.0872 4.0699 0.0614 0.9383 Evaluation Finish\n",
      "141: Data Load Finish, Predict Finish, 1.2763 1.2228 0.0184 0.9807 Evaluation Finish\n",
      "142: Data Load Finish, Predict Finish, 2.3299 2.2533 0.0339 0.9649 Evaluation Finish\n",
      "143: Data Load Finish, Predict Finish, 5.2073 5.1767 0.078 0.9214 Evaluation Finish\n",
      "144: Data Load Finish, Predict Finish, 8.034 8.0269 0.1211 0.8788 Evaluation Finish\n",
      "145: Data Load Finish, Predict Finish, 0.77 0.7612 0.0115 0.9884 Evaluation Finish\n",
      "146: Data Load Finish, "
     ]
    },
    {
     "name": "stderr",
     "output_type": "stream",
     "text": [
      "/home/vislab/anaconda3/envs/test/lib/python3.8/site-packages/pandas/core/arraylike.py:364: RuntimeWarning: divide by zero encountered in log\n",
      "  result = getattr(ufunc, method)(*inputs, **kwargs)\n"
     ]
    },
    {
     "name": "stdout",
     "output_type": "stream",
     "text": [
      "Predict Finish, 65.2924 65.287 0.9849 0.0151 Evaluation Finish\n",
      "147: Data Load Finish, Predict Finish, 6.1673 6.1077 0.092 0.907 Evaluation Finish\n",
      "148: Data Load Finish, Predict Finish, 3.0293 3.0031 0.0452 0.9543 Evaluation Finish\n",
      "149: Data Load Finish, Predict Finish, 2.7722 2.726 0.0412 0.9582 Evaluation Finish\n",
      "150: Data Load Finish, Predict Finish, 3.4681 3.4475 0.052 0.9477 Evaluation Finish\n",
      "151: Data Load Finish, Predict Finish, 8.7984 8.773 0.1322 0.8673 Evaluation Finish\n",
      "152: Data Load Finish, Predict Finish, 3.171 3.1402 0.0473 0.9522 Evaluation Finish\n",
      "153: Data Load Finish, Predict Finish, 2.2882 2.2221 0.0334 0.9655 Evaluation Finish\n",
      "154: Data Load Finish, Predict Finish, 4.6494 4.6201 0.0696 0.9299 Evaluation Finish\n",
      "155: Data Load Finish, Predict Finish, 3.6328 3.6157 0.0545 0.9452 Evaluation Finish\n",
      "156: Data Load Finish, Predict Finish, 8.3425 8.3314 0.1256 0.8742 Evaluation Finish\n",
      "157: Data Load Finish, Predict Finish, 0.5315 0.5221 0.0079 0.992 Evaluation Finish\n",
      "158: Data Load Finish, Predict Finish, 2.0517 2.0148 0.0304 0.9691 Evaluation Finish\n",
      "159: Data Load Finish, Predict Finish, 2.6619 2.6206 0.0396 0.9598 Evaluation Finish\n",
      "160: Data Load Finish, Predict Finish, 0.8112 0.8028 0.0121 0.9878 Evaluation Finish\n",
      "161: Data Load Finish, Predict Finish, 2.7046 2.6589 0.0402 0.9592 Evaluation Finish\n",
      "162: Data Load Finish, Predict Finish, 2.4044 2.342 0.0354 0.9637 Evaluation Finish\n",
      "163: Data Load Finish, Predict Finish, 1.3197 1.1607 0.0176 0.9801 Evaluation Finish\n",
      "164: Data Load Finish, "
     ]
    },
    {
     "name": "stderr",
     "output_type": "stream",
     "text": [
      "/home/vislab/anaconda3/envs/test/lib/python3.8/site-packages/pandas/core/arraylike.py:364: RuntimeWarning: divide by zero encountered in log\n",
      "  result = getattr(ufunc, method)(*inputs, **kwargs)\n"
     ]
    },
    {
     "name": "stdout",
     "output_type": "stream",
     "text": [
      "Predict Finish, 65.2924 65.287 0.9849 0.0151 Evaluation Finish\n",
      "165: Data Load Finish, Predict Finish, 15.4713 15.4605 0.2332 0.7666 Evaluation Finish\n",
      "166: Data Load Finish, Predict Finish, 2.283 2.2452 0.0339 0.9656 Evaluation Finish\n",
      "167: Data Load Finish, Predict Finish, 1.2184 1.1137 0.0167 0.9816 Evaluation Finish\n",
      "168: Data Load Finish, Predict Finish, 0.6353 0.4603 0.007 0.9904 Evaluation Finish\n",
      "169: Data Load Finish, Predict Finish, 0.7139 0.6936 0.0104 0.9892 Evaluation Finish\n",
      "170: Data Load Finish, Predict Finish, 11.0645 11.0327 0.1663 0.8331 Evaluation Finish\n",
      "171: Data Load Finish, Predict Finish, 0.6771 0.6527 0.0099 0.9898 Evaluation Finish\n",
      "172: Data Load Finish, Predict Finish, 3.781 3.7476 0.0566 0.943 Evaluation Finish\n",
      "173: Data Load Finish, Predict Finish, 0.6433 0.6381 0.0096 0.9903 Evaluation Finish\n",
      "174: Data Load Finish, Predict Finish, 10.489 10.4718 0.1579 0.8418 Evaluation Finish\n",
      "175: Data Load Finish, "
     ]
    },
    {
     "name": "stderr",
     "output_type": "stream",
     "text": [
      "/home/vislab/anaconda3/envs/test/lib/python3.8/site-packages/pandas/core/arraylike.py:364: RuntimeWarning: divide by zero encountered in log\n",
      "  result = getattr(ufunc, method)(*inputs, **kwargs)\n"
     ]
    },
    {
     "name": "stdout",
     "output_type": "stream",
     "text": [
      "Predict Finish, 65.2924 65.287 0.9849 0.0151 Evaluation Finish\n",
      "176: Data Load Finish, "
     ]
    },
    {
     "name": "stderr",
     "output_type": "stream",
     "text": [
      "/home/vislab/anaconda3/envs/test/lib/python3.8/site-packages/pandas/core/arraylike.py:364: RuntimeWarning: divide by zero encountered in log\n",
      "  result = getattr(ufunc, method)(*inputs, **kwargs)\n"
     ]
    },
    {
     "name": "stdout",
     "output_type": "stream",
     "text": [
      "Predict Finish, 65.2924 65.287 0.9849 0.0151 Evaluation Finish\n",
      "177: Data Load Finish, Predict Finish, 4.0705 4.0091 0.0604 0.9386 Evaluation Finish\n",
      "178: Data Load Finish, "
     ]
    },
    {
     "name": "stderr",
     "output_type": "stream",
     "text": [
      "/home/vislab/anaconda3/envs/test/lib/python3.8/site-packages/pandas/core/arraylike.py:364: RuntimeWarning: divide by zero encountered in log\n",
      "  result = getattr(ufunc, method)(*inputs, **kwargs)\n"
     ]
    },
    {
     "name": "stdout",
     "output_type": "stream",
     "text": [
      "Predict Finish, 65.2924 65.287 0.9849 0.0151 Evaluation Finish\n",
      "179: Data Load Finish, Predict Finish, 12.172 12.104 0.1824 0.8164 Evaluation Finish\n",
      "180: Data Load Finish, Predict Finish, 2.6164 2.5808 0.0389 0.9605 Evaluation Finish\n",
      "181: Data Load Finish, Predict Finish, 2.5164 2.4715 0.0372 0.962 Evaluation Finish\n",
      "182: Data Load Finish, Predict Finish, 0.7591 0.5223 0.008 0.9885 Evaluation Finish\n",
      "183: Data Load Finish, Predict Finish, 1.8829 1.7392 0.0264 0.9716 Evaluation Finish\n",
      "184: Data Load Finish, Predict Finish, 1.5097 1.3536 0.0203 0.9772 Evaluation Finish\n",
      "185: Data Load Finish, "
     ]
    },
    {
     "name": "stderr",
     "output_type": "stream",
     "text": [
      "/home/vislab/anaconda3/envs/test/lib/python3.8/site-packages/pandas/core/arraylike.py:364: RuntimeWarning: divide by zero encountered in log\n",
      "  result = getattr(ufunc, method)(*inputs, **kwargs)\n"
     ]
    },
    {
     "name": "stdout",
     "output_type": "stream",
     "text": [
      "Predict Finish, 65.2924 65.287 0.9849 0.0151 Evaluation Finish\n",
      "186: Data Load Finish, Predict Finish, 2.4843 2.4134 0.0363 0.9625 Evaluation Finish\n",
      "187: Data Load Finish, Predict Finish, 5.104 5.0537 0.0763 0.923 Evaluation Finish\n",
      "188: Data Load Finish, Predict Finish, 1.8032 1.7614 0.0266 0.9728 Evaluation Finish\n",
      "189: Data Load Finish, Predict Finish, 11.8499 11.6346 0.1751 0.8212 Evaluation Finish\n",
      "190: Data Load Finish, Predict Finish, 0.4195 0.3502 0.0052 0.9937 Evaluation Finish\n",
      "191: Data Load Finish, Predict Finish, 6.8811 6.8502 0.1034 0.8962 Evaluation Finish\n",
      "192: Data Load Finish, Predict Finish, 0.736 0.6397 0.0096 0.9889 Evaluation Finish\n",
      "193: Data Load Finish, Predict Finish, 5.4937 5.4435 0.0822 0.9171 Evaluation Finish\n",
      "194: Data Load Finish, Predict Finish, 8.2014 8.1839 0.1234 0.8763 Evaluation Finish\n",
      "195: Data Load Finish, Predict Finish, 1.276 1.1947 0.0181 0.9808 Evaluation Finish\n",
      "196: Data Load Finish, Predict Finish, 64.7391 64.7301 0.9765 0.0234 Evaluation Finish\n",
      "197: Data Load Finish, Predict Finish, 15.766 15.7543 0.2378 0.7622 Evaluation Finish\n",
      "198: Data Load Finish, Predict Finish, 2.1683 2.0987 0.0318 0.9673 Evaluation Finish\n",
      "199: Data Load Finish, Predict Finish, 6.7355 6.7044 0.101 0.8984 Evaluation Finish\n",
      "200: Data Load Finish, Predict Finish, 3.9833 3.765 0.0566 0.9399 Evaluation Finish\n",
      "201: Data Load Finish, Predict Finish, 0.8022 0.4796 0.0074 0.9879 Evaluation Finish\n",
      "202: Data Load Finish, Predict Finish, 5.1147 4.9489 0.0744 0.9228 Evaluation Finish\n",
      "203: Data Load Finish, Predict Finish, 0.9425 0.8445 0.0128 0.9858 Evaluation Finish\n",
      "204: Data Load Finish, "
     ]
    },
    {
     "name": "stderr",
     "output_type": "stream",
     "text": [
      "/home/vislab/anaconda3/envs/test/lib/python3.8/site-packages/pandas/core/arraylike.py:364: RuntimeWarning: divide by zero encountered in log\n",
      "  result = getattr(ufunc, method)(*inputs, **kwargs)\n"
     ]
    },
    {
     "name": "stdout",
     "output_type": "stream",
     "text": [
      "Predict Finish, 65.2924 65.287 0.9849 0.0151 Evaluation Finish\n",
      "205: Data Load Finish, Predict Finish, 0.8114 0.7195 0.0109 0.9878 Evaluation Finish\n",
      "206: Data Load Finish, Predict Finish, 5.705 5.6906 0.0858 0.9139 Evaluation Finish\n",
      "RMSE: 11.32218978549259, MAE: 11.255678119574291, MAPE: 0.16976225341061518\n",
      "ACC: 0.8292081499836436\n"
     ]
    }
   ],
   "source": [
    "predictARIMA(df, idx, 3)"
   ]
  },
  {
   "cell_type": "code",
   "execution_count": 15,
   "id": "be49bca3",
   "metadata": {},
   "outputs": [
    {
     "data": {
      "text/plain": [
       "0.0855614973262032"
      ]
     },
     "execution_count": 15,
     "metadata": {},
     "output_type": "execute_result"
    }
   ],
   "source": [
    "(435128299472903.56 * 207 - 4503577899544551.5 * 20) / 187"
   ]
  },
  {
   "cell_type": "markdown",
   "id": "8624171f",
   "metadata": {},
   "source": [
    "### Unobserved Nodes = 20%"
   ]
  },
  {
   "cell_type": "code",
   "execution_count": 16,
   "id": "a8313c43",
   "metadata": {},
   "outputs": [
    {
     "name": "stdout",
     "output_type": "stream",
     "text": [
      "34272 207\n"
     ]
    },
    {
     "data": {
      "text/plain": [
       "1405152"
      ]
     },
     "execution_count": 16,
     "metadata": {},
     "output_type": "execute_result"
    }
   ],
   "source": [
    "df, idx = csvIndexToDatetime(path_20, start, freq)\n",
    "(df == 0).sum().sum()"
   ]
  },
  {
   "cell_type": "code",
   "execution_count": 17,
   "id": "5ce0fefa",
   "metadata": {
    "scrolled": false
   },
   "outputs": [
    {
     "name": "stdout",
     "output_type": "stream",
     "text": [
      "0: Data Load Finish, "
     ]
    },
    {
     "name": "stderr",
     "output_type": "stream",
     "text": [
      "/home/vislab/anaconda3/envs/test/lib/python3.8/site-packages/pandas/core/arraylike.py:364: RuntimeWarning: divide by zero encountered in log\n",
      "  result = getattr(ufunc, method)(*inputs, **kwargs)\n"
     ]
    },
    {
     "name": "stdout",
     "output_type": "stream",
     "text": [
      "Predict Finish, 65.2924 65.287 0.9849 0.0151 Evaluation Finish\n",
      "1: Data Load Finish, "
     ]
    },
    {
     "name": "stderr",
     "output_type": "stream",
     "text": [
      "/home/vislab/anaconda3/envs/test/lib/python3.8/site-packages/pandas/core/arraylike.py:364: RuntimeWarning: divide by zero encountered in log\n",
      "  result = getattr(ufunc, method)(*inputs, **kwargs)\n"
     ]
    },
    {
     "name": "stdout",
     "output_type": "stream",
     "text": [
      "Predict Finish, 65.2924 65.287 0.9849 0.0151 Evaluation Finish\n",
      "2: Data Load Finish, "
     ]
    },
    {
     "name": "stderr",
     "output_type": "stream",
     "text": [
      "/home/vislab/anaconda3/envs/test/lib/python3.8/site-packages/pandas/core/arraylike.py:364: RuntimeWarning: divide by zero encountered in log\n",
      "  result = getattr(ufunc, method)(*inputs, **kwargs)\n"
     ]
    },
    {
     "name": "stdout",
     "output_type": "stream",
     "text": [
      "Predict Finish, 65.2924 65.287 0.9849 0.0151 Evaluation Finish\n",
      "3: Data Load Finish, Predict Finish, 6.0713 6.0587 0.0914 0.9084 Evaluation Finish\n",
      "4: Data Load Finish, Predict Finish, 31.6438 31.6072 0.4766 0.5227 Evaluation Finish\n",
      "5: Data Load Finish, Predict Finish, 15.3814 15.3499 0.2314 0.768 Evaluation Finish\n",
      "6: Data Load Finish, Predict Finish, 4.9422 4.902 0.0738 0.9254 Evaluation Finish\n",
      "7: Data Load Finish, "
     ]
    },
    {
     "name": "stderr",
     "output_type": "stream",
     "text": [
      "/home/vislab/anaconda3/envs/test/lib/python3.8/site-packages/statsmodels/base/model.py:604: ConvergenceWarning: Maximum Likelihood optimization failed to converge. Check mle_retvals\n",
      "  warnings.warn(\"Maximum Likelihood optimization failed to \"\n"
     ]
    },
    {
     "name": "stdout",
     "output_type": "stream",
     "text": [
      "Predict Finish, 1.9843 1.9258 0.029 0.9701 Evaluation Finish\n",
      "8: Data Load Finish, "
     ]
    },
    {
     "name": "stderr",
     "output_type": "stream",
     "text": [
      "/home/vislab/anaconda3/envs/test/lib/python3.8/site-packages/pandas/core/arraylike.py:364: RuntimeWarning: divide by zero encountered in log\n",
      "  result = getattr(ufunc, method)(*inputs, **kwargs)\n"
     ]
    },
    {
     "name": "stdout",
     "output_type": "stream",
     "text": [
      "Predict Finish, 65.2924 65.287 0.9849 0.0151 Evaluation Finish\n",
      "9: Data Load Finish, Predict Finish, 0.5269 0.5146 0.0078 0.9921 Evaluation Finish\n",
      "10: Data Load Finish, Predict Finish, 4.5824 4.5504 0.0686 0.9309 Evaluation Finish\n",
      "11: Data Load Finish, Predict Finish, 2.0587 1.977 0.0297 0.9689 Evaluation Finish\n",
      "12: Data Load Finish, "
     ]
    },
    {
     "name": "stderr",
     "output_type": "stream",
     "text": [
      "/home/vislab/anaconda3/envs/test/lib/python3.8/site-packages/pandas/core/arraylike.py:364: RuntimeWarning: divide by zero encountered in log\n",
      "  result = getattr(ufunc, method)(*inputs, **kwargs)\n"
     ]
    },
    {
     "name": "stdout",
     "output_type": "stream",
     "text": [
      "Predict Finish, 65.2924 65.287 0.9849 0.0151 Evaluation Finish\n",
      "13: Data Load Finish, Predict Finish, 0.9814 0.8346 0.0125 0.9852 Evaluation Finish\n",
      "14: Data Load Finish, Predict Finish, 4.2081 4.1821 0.063 0.9365 Evaluation Finish\n",
      "15: Data Load Finish, Predict Finish, 4.6611 4.6428 0.0701 0.9297 Evaluation Finish\n",
      "16: Data Load Finish, Predict Finish, 50.878 50.8472 0.7669 0.2325 Evaluation Finish\n",
      "17: Data Load Finish, Predict Finish, 2.3606 2.3335 0.0352 0.9644 Evaluation Finish\n",
      "18: Data Load Finish, Predict Finish, 16.8531 16.7079 0.2517 0.7458 Evaluation Finish\n",
      "19: Data Load Finish, Predict Finish, 4.5072 4.4706 0.0673 0.932 Evaluation Finish\n",
      "20: Data Load Finish, Predict Finish, 0.7712 0.514 0.0079 0.9884 Evaluation Finish\n",
      "21: Data Load Finish, Predict Finish, 10.9672 10.8148 0.1628 0.8346 Evaluation Finish\n",
      "22: Data Load Finish, Predict Finish, 12.7598 12.7532 0.1924 0.8075 Evaluation Finish\n",
      "23: Data Load Finish, Predict Finish, 8.2681 8.2541 0.1245 0.8753 Evaluation Finish\n",
      "24: Data Load Finish, Predict Finish, 6.3954 6.2704 0.0944 0.9035 Evaluation Finish\n",
      "25: Data Load Finish, Predict Finish, 5.8848 5.8704 0.0885 0.9112 Evaluation Finish\n",
      "26: Data Load Finish, Predict Finish, 8.8861 8.8787 0.1339 0.866 Evaluation Finish\n",
      "27: Data Load Finish, Predict Finish, 4.25 4.1991 0.0632 0.9359 Evaluation Finish\n",
      "28: Data Load Finish, Predict Finish, 0.7667 0.6747 0.0102 0.9884 Evaluation Finish\n",
      "29: Data Load Finish, Predict Finish, 2.4984 2.4751 0.0373 0.9623 Evaluation Finish\n",
      "30: Data Load Finish, Predict Finish, 4.4545 4.436 0.0669 0.9328 Evaluation Finish\n",
      "31: Data Load Finish, Predict Finish, 1.9103 1.6047 0.024 0.9712 Evaluation Finish\n",
      "32: Data Load Finish, Predict Finish, 0.6798 0.455 0.007 0.9897 Evaluation Finish\n",
      "33: Data Load Finish, Predict Finish, 3.7347 3.7032 0.0558 0.9437 Evaluation Finish\n",
      "34: Data Load Finish, Predict Finish, 0.7814 0.6244 0.0095 0.9882 Evaluation Finish\n",
      "35: Data Load Finish, Predict Finish, 11.224 11.092 0.167 0.8307 Evaluation Finish\n",
      "36: Data Load Finish, "
     ]
    },
    {
     "name": "stderr",
     "output_type": "stream",
     "text": [
      "/home/vislab/anaconda3/envs/test/lib/python3.8/site-packages/pandas/core/arraylike.py:364: RuntimeWarning: divide by zero encountered in log\n",
      "  result = getattr(ufunc, method)(*inputs, **kwargs)\n"
     ]
    },
    {
     "name": "stdout",
     "output_type": "stream",
     "text": [
      "Predict Finish, 65.2924 65.287 0.9849 0.0151 Evaluation Finish\n",
      "37: Data Load Finish, Predict Finish, 0.8323 0.7699 0.0116 0.9874 Evaluation Finish\n",
      "38: Data Load Finish, Predict Finish, 10.2267 10.2197 0.1541 0.8457 Evaluation Finish\n",
      "39: Data Load Finish, Predict Finish, 12.1683 12.1212 0.1827 0.8164 Evaluation Finish\n",
      "40: Data Load Finish, Predict Finish, 2.4072 2.3035 0.0346 0.9637 Evaluation Finish\n",
      "41: Data Load Finish, Predict Finish, 12.3152 12.28 0.1851 0.8142 Evaluation Finish\n",
      "42: Data Load Finish, Predict Finish, 0.4793 0.4461 0.0068 0.9928 Evaluation Finish\n",
      "43: Data Load Finish, Predict Finish, 3.9119 3.8898 0.0586 0.941 Evaluation Finish\n",
      "44: Data Load Finish, "
     ]
    },
    {
     "name": "stderr",
     "output_type": "stream",
     "text": [
      "/home/vislab/anaconda3/envs/test/lib/python3.8/site-packages/statsmodels/base/model.py:604: ConvergenceWarning: Maximum Likelihood optimization failed to converge. Check mle_retvals\n",
      "  warnings.warn(\"Maximum Likelihood optimization failed to \"\n"
     ]
    },
    {
     "name": "stdout",
     "output_type": "stream",
     "text": [
      "Predict Finish, 1.1235 0.9168 0.014 0.9831 Evaluation Finish\n",
      "45: Data Load Finish, Predict Finish, 0.9493 0.9391 0.0142 0.9857 Evaluation Finish\n",
      "46: Data Load Finish, Predict Finish, 4.3441 4.2955 0.0647 0.9345 Evaluation Finish\n",
      "47: Data Load Finish, Predict Finish, 4.2285 4.2137 0.0636 0.9362 Evaluation Finish\n",
      "48: Data Load Finish, Predict Finish, 9.4457 9.4325 0.1422 0.8575 Evaluation Finish\n",
      "49: Data Load Finish, Predict Finish, 10.891 10.8184 0.163 0.8357 Evaluation Finish\n",
      "50: Data Load Finish, Predict Finish, 10.7224 10.587 0.1594 0.8383 Evaluation Finish\n",
      "51: Data Load Finish, Predict Finish, 18.2942 18.2644 0.2754 0.724 Evaluation Finish\n",
      "52: Data Load Finish, Predict Finish, 1.4028 1.3549 0.0204 0.9788 Evaluation Finish\n",
      "53: Data Load Finish, Predict Finish, 11.029 11.0077 0.166 0.8336 Evaluation Finish\n",
      "54: Data Load Finish, Predict Finish, 4.4458 4.4012 0.0663 0.9329 Evaluation Finish\n",
      "55: Data Load Finish, Predict Finish, 5.0886 5.0479 0.076 0.9232 Evaluation Finish\n",
      "56: Data Load Finish, Predict Finish, 26.3362 26.3259 0.3971 0.6027 Evaluation Finish\n",
      "57: Data Load Finish, Predict Finish, 6.0473 6.0144 0.0906 0.9088 Evaluation Finish\n",
      "58: Data Load Finish, "
     ]
    },
    {
     "name": "stderr",
     "output_type": "stream",
     "text": [
      "/home/vislab/anaconda3/envs/test/lib/python3.8/site-packages/pandas/core/arraylike.py:364: RuntimeWarning: divide by zero encountered in log\n",
      "  result = getattr(ufunc, method)(*inputs, **kwargs)\n"
     ]
    },
    {
     "name": "stdout",
     "output_type": "stream",
     "text": [
      "Predict Finish, 65.2924 65.287 0.9849 0.0151 Evaluation Finish\n",
      "59: Data Load Finish, "
     ]
    },
    {
     "name": "stderr",
     "output_type": "stream",
     "text": [
      "/home/vislab/anaconda3/envs/test/lib/python3.8/site-packages/pandas/core/arraylike.py:364: RuntimeWarning: divide by zero encountered in log\n",
      "  result = getattr(ufunc, method)(*inputs, **kwargs)\n"
     ]
    },
    {
     "name": "stdout",
     "output_type": "stream",
     "text": [
      "Predict Finish, 65.2924 65.287 0.9849 0.0151 Evaluation Finish\n",
      "60: Data Load Finish, Predict Finish, 3.7746 3.7578 0.0567 0.9431 Evaluation Finish\n",
      "61: Data Load Finish, "
     ]
    },
    {
     "name": "stderr",
     "output_type": "stream",
     "text": [
      "/home/vislab/anaconda3/envs/test/lib/python3.8/site-packages/pandas/core/arraylike.py:364: RuntimeWarning: divide by zero encountered in log\n",
      "  result = getattr(ufunc, method)(*inputs, **kwargs)\n"
     ]
    },
    {
     "name": "stdout",
     "output_type": "stream",
     "text": [
      "Predict Finish, 65.2924 65.287 0.9849 0.0151 Evaluation Finish\n",
      "62: Data Load Finish, Predict Finish, 4.9035 4.8777 0.0735 0.926 Evaluation Finish\n",
      "63: Data Load Finish, Predict Finish, 0.9505 0.8763 0.0132 0.9857 Evaluation Finish\n",
      "64: Data Load Finish, Predict Finish, 3.8539 3.7796 0.0569 0.9419 Evaluation Finish\n",
      "65: Data Load Finish, Predict Finish, 3.9329 3.8592 0.0581 0.9407 Evaluation Finish\n",
      "66: Data Load Finish, "
     ]
    },
    {
     "name": "stderr",
     "output_type": "stream",
     "text": [
      "/home/vislab/anaconda3/envs/test/lib/python3.8/site-packages/pandas/core/arraylike.py:364: RuntimeWarning: divide by zero encountered in log\n",
      "  result = getattr(ufunc, method)(*inputs, **kwargs)\n"
     ]
    },
    {
     "name": "stdout",
     "output_type": "stream",
     "text": [
      "Predict Finish, 65.2924 65.287 0.9849 0.0151 Evaluation Finish\n",
      "67: Data Load Finish, Predict Finish, 0.8604 0.8357 0.0126 0.987 Evaluation Finish\n",
      "68: Data Load Finish, Predict Finish, 0.7091 0.6875 0.0103 0.9893 Evaluation Finish\n",
      "69: Data Load Finish, Predict Finish, 0.4446 0.3942 0.0059 0.9933 Evaluation Finish\n",
      "70: Data Load Finish, Predict Finish, 6.4706 6.4278 0.0968 0.9024 Evaluation Finish\n",
      "71: Data Load Finish, Predict Finish, 2.1045 2.0675 0.0312 0.9683 Evaluation Finish\n",
      "72: Data Load Finish, "
     ]
    },
    {
     "name": "stderr",
     "output_type": "stream",
     "text": [
      "/home/vislab/anaconda3/envs/test/lib/python3.8/site-packages/pandas/core/arraylike.py:364: RuntimeWarning: divide by zero encountered in log\n",
      "  result = getattr(ufunc, method)(*inputs, **kwargs)\n"
     ]
    },
    {
     "name": "stdout",
     "output_type": "stream",
     "text": [
      "Predict Finish, 65.2924 65.287 0.9849 0.0151 Evaluation Finish\n",
      "73: Data Load Finish, Predict Finish, 6.9491 6.937 0.1046 0.8952 Evaluation Finish\n",
      "74: Data Load Finish, Predict Finish, 2.896 2.821 0.0427 0.9563 Evaluation Finish\n",
      "75: Data Load Finish, Predict Finish, 13.5473 13.5425 0.2043 0.7956 Evaluation Finish\n",
      "76: Data Load Finish, Predict Finish, 8.5859 8.5758 0.1294 0.8705 Evaluation Finish\n",
      "77: Data Load Finish, "
     ]
    },
    {
     "name": "stderr",
     "output_type": "stream",
     "text": [
      "/home/vislab/anaconda3/envs/test/lib/python3.8/site-packages/pandas/core/arraylike.py:364: RuntimeWarning: divide by zero encountered in log\n",
      "  result = getattr(ufunc, method)(*inputs, **kwargs)\n"
     ]
    },
    {
     "name": "stdout",
     "output_type": "stream",
     "text": [
      "Predict Finish, 65.2924 65.287 0.9849 0.0151 Evaluation Finish\n",
      "78: Data Load Finish, Predict Finish, 0.7161 0.6757 0.0102 0.9892 Evaluation Finish\n",
      "79: Data Load Finish, Predict Finish, 0.7269 0.675 0.0102 0.989 Evaluation Finish\n",
      "80: Data Load Finish, Predict Finish, 0.6073 0.5018 0.0076 0.9908 Evaluation Finish\n",
      "81: Data Load Finish, "
     ]
    },
    {
     "name": "stderr",
     "output_type": "stream",
     "text": [
      "/home/vislab/anaconda3/envs/test/lib/python3.8/site-packages/pandas/core/arraylike.py:364: RuntimeWarning: divide by zero encountered in log\n",
      "  result = getattr(ufunc, method)(*inputs, **kwargs)\n"
     ]
    },
    {
     "name": "stdout",
     "output_type": "stream",
     "text": [
      "Predict Finish, 65.2924 65.287 0.9849 0.0151 Evaluation Finish\n",
      "82: Data Load Finish, Predict Finish, 2.857 2.8323 0.0427 0.9569 Evaluation Finish\n",
      "83: Data Load Finish, "
     ]
    },
    {
     "name": "stderr",
     "output_type": "stream",
     "text": [
      "/home/vislab/anaconda3/envs/test/lib/python3.8/site-packages/pandas/core/arraylike.py:364: RuntimeWarning: divide by zero encountered in log\n",
      "  result = getattr(ufunc, method)(*inputs, **kwargs)\n"
     ]
    },
    {
     "name": "stdout",
     "output_type": "stream",
     "text": [
      "Predict Finish, 65.2924 65.287 0.9849 0.0151 Evaluation Finish\n",
      "84: Data Load Finish, Predict Finish, 5.4419 5.4246 0.0818 0.9179 Evaluation Finish\n",
      "85: Data Load Finish, "
     ]
    },
    {
     "name": "stderr",
     "output_type": "stream",
     "text": [
      "/home/vislab/anaconda3/envs/test/lib/python3.8/site-packages/pandas/core/arraylike.py:364: RuntimeWarning: divide by zero encountered in log\n",
      "  result = getattr(ufunc, method)(*inputs, **kwargs)\n"
     ]
    },
    {
     "name": "stdout",
     "output_type": "stream",
     "text": [
      "Predict Finish, 65.2924 65.287 0.9849 0.0151 Evaluation Finish\n",
      "86: Data Load Finish, Predict Finish, 0.7886 0.693 0.0104 0.9881 Evaluation Finish\n",
      "87: Data Load Finish, Predict Finish, 3.0276 3.0044 0.0453 0.9543 Evaluation Finish\n",
      "88: Data Load Finish, Predict Finish, 0.7596 0.4856 0.0074 0.9885 Evaluation Finish\n",
      "89: Data Load Finish, Predict Finish, 1.057 0.9093 0.0138 0.9841 Evaluation Finish\n",
      "90: Data Load Finish, Predict Finish, 0.9567 0.6297 0.0096 0.9856 Evaluation Finish\n",
      "91: Data Load Finish, "
     ]
    },
    {
     "name": "stderr",
     "output_type": "stream",
     "text": [
      "/home/vislab/anaconda3/envs/test/lib/python3.8/site-packages/statsmodels/base/model.py:604: ConvergenceWarning: Maximum Likelihood optimization failed to converge. Check mle_retvals\n",
      "  warnings.warn(\"Maximum Likelihood optimization failed to \"\n"
     ]
    },
    {
     "name": "stdout",
     "output_type": "stream",
     "text": [
      "Predict Finish, 16.3074 16.3038 0.246 0.754 Evaluation Finish\n",
      "92: Data Load Finish, Predict Finish, 1.4871 1.2915 0.0196 0.9776 Evaluation Finish\n",
      "93: Data Load Finish, Predict Finish, 1.9086 1.7906 0.0269 0.9712 Evaluation Finish\n",
      "94: Data Load Finish, Predict Finish, 3.8217 3.7694 0.0568 0.9424 Evaluation Finish\n",
      "95: Data Load Finish, Predict Finish, 13.523 13.4989 0.2035 0.796 Evaluation Finish\n",
      "96: Data Load Finish, Predict Finish, 4.2735 4.1621 0.0626 0.9355 Evaluation Finish\n",
      "97: Data Load Finish, Predict Finish, 1.0251 0.8436 0.0128 0.9845 Evaluation Finish\n",
      "98: Data Load Finish, Predict Finish, 8.3296 8.3065 0.1252 0.8743 Evaluation Finish\n",
      "99: Data Load Finish, "
     ]
    },
    {
     "name": "stderr",
     "output_type": "stream",
     "text": [
      "/home/vislab/anaconda3/envs/test/lib/python3.8/site-packages/pandas/core/arraylike.py:364: RuntimeWarning: divide by zero encountered in log\n",
      "  result = getattr(ufunc, method)(*inputs, **kwargs)\n"
     ]
    },
    {
     "name": "stdout",
     "output_type": "stream",
     "text": [
      "Predict Finish, 65.2924 65.287 0.9849 0.0151 Evaluation Finish\n",
      "100: Data Load Finish, Predict Finish, 6.9114 6.8998 0.104 0.8957 Evaluation Finish\n",
      "101: Data Load Finish, Predict Finish, 5.6893 5.6683 0.0854 0.9142 Evaluation Finish\n",
      "102: Data Load Finish, Predict Finish, 4.7072 4.6715 0.0704 0.929 Evaluation Finish\n",
      "103: Data Load Finish, "
     ]
    },
    {
     "name": "stderr",
     "output_type": "stream",
     "text": [
      "/home/vislab/anaconda3/envs/test/lib/python3.8/site-packages/pandas/core/arraylike.py:364: RuntimeWarning: divide by zero encountered in log\n",
      "  result = getattr(ufunc, method)(*inputs, **kwargs)\n"
     ]
    },
    {
     "name": "stdout",
     "output_type": "stream",
     "text": [
      "Predict Finish, 65.2924 65.287 0.9849 0.0151 Evaluation Finish\n",
      "104: Data Load Finish, Predict Finish, 7.2098 7.1497 0.1077 0.8912 Evaluation Finish\n",
      "105: Data Load Finish, Predict Finish, 1.8367 1.7199 0.0261 0.9723 Evaluation Finish\n",
      "106: Data Load Finish, Predict Finish, 0.9827 0.684 0.0105 0.9852 Evaluation Finish\n",
      "107: Data Load Finish, Predict Finish, 1.8933 1.7865 0.0271 0.9714 Evaluation Finish\n",
      "108: Data Load Finish, "
     ]
    },
    {
     "name": "stderr",
     "output_type": "stream",
     "text": [
      "/home/vislab/anaconda3/envs/test/lib/python3.8/site-packages/pandas/core/arraylike.py:364: RuntimeWarning: divide by zero encountered in log\n",
      "  result = getattr(ufunc, method)(*inputs, **kwargs)\n"
     ]
    },
    {
     "name": "stdout",
     "output_type": "stream",
     "text": [
      "Predict Finish, 65.2924 65.287 0.9849 0.0151 Evaluation Finish\n",
      "109: Data Load Finish, Predict Finish, 7.9379 7.9051 0.1191 0.8803 Evaluation Finish\n",
      "110: Data Load Finish, "
     ]
    },
    {
     "name": "stderr",
     "output_type": "stream",
     "text": [
      "/home/vislab/anaconda3/envs/test/lib/python3.8/site-packages/pandas/core/arraylike.py:364: RuntimeWarning: divide by zero encountered in log\n",
      "  result = getattr(ufunc, method)(*inputs, **kwargs)\n"
     ]
    },
    {
     "name": "stdout",
     "output_type": "stream",
     "text": [
      "Predict Finish, 65.2924 65.287 0.9849 0.0151 Evaluation Finish\n",
      "111: Data Load Finish, "
     ]
    },
    {
     "name": "stderr",
     "output_type": "stream",
     "text": [
      "/home/vislab/anaconda3/envs/test/lib/python3.8/site-packages/pandas/core/arraylike.py:364: RuntimeWarning: divide by zero encountered in log\n",
      "  result = getattr(ufunc, method)(*inputs, **kwargs)\n"
     ]
    },
    {
     "name": "stdout",
     "output_type": "stream",
     "text": [
      "Predict Finish, 65.2924 65.287 0.9849 0.0151 Evaluation Finish\n",
      "112: Data Load Finish, Predict Finish, 10.8964 10.8723 0.1639 0.8356 Evaluation Finish\n",
      "113: Data Load Finish, Predict Finish, 9.6151 9.5951 0.1447 0.855 Evaluation Finish\n",
      "114: Data Load Finish, Predict Finish, 2.2904 2.1616 0.0325 0.9654 Evaluation Finish\n",
      "115: Data Load Finish, Predict Finish, 3.9953 3.9253 0.0591 0.9397 Evaluation Finish\n",
      "116: Data Load Finish, Predict Finish, 1.5645 1.469 0.0221 0.9764 Evaluation Finish\n",
      "117: Data Load Finish, Predict Finish, 1.2652 1.1495 0.0174 0.9809 Evaluation Finish\n",
      "118: Data Load Finish, Predict Finish, 4.2333 4.0439 0.0608 0.9361 Evaluation Finish\n",
      "119: Data Load Finish, Predict Finish, 2.2834 2.1885 0.0331 0.9656 Evaluation Finish\n",
      "120: Data Load Finish, "
     ]
    },
    {
     "name": "stderr",
     "output_type": "stream",
     "text": [
      "/home/vislab/anaconda3/envs/test/lib/python3.8/site-packages/pandas/core/arraylike.py:364: RuntimeWarning: divide by zero encountered in log\n",
      "  result = getattr(ufunc, method)(*inputs, **kwargs)\n"
     ]
    },
    {
     "name": "stdout",
     "output_type": "stream",
     "text": [
      "Predict Finish, 65.2924 65.287 0.9849 0.0151 Evaluation Finish\n",
      "121: Data Load Finish, Predict Finish, 11.4323 11.2906 0.17 0.8275 Evaluation Finish\n",
      "122: Data Load Finish, Predict Finish, 0.7797 0.4693 0.0072 0.9882 Evaluation Finish\n",
      "123: Data Load Finish, "
     ]
    },
    {
     "name": "stderr",
     "output_type": "stream",
     "text": [
      "/home/vislab/anaconda3/envs/test/lib/python3.8/site-packages/pandas/core/arraylike.py:364: RuntimeWarning: divide by zero encountered in log\n",
      "  result = getattr(ufunc, method)(*inputs, **kwargs)\n"
     ]
    },
    {
     "name": "stdout",
     "output_type": "stream",
     "text": [
      "Predict Finish, 65.2924 65.287 0.9849 0.0151 Evaluation Finish\n",
      "124: Data Load Finish, Predict Finish, 8.9397 8.9207 0.1345 0.8651 Evaluation Finish\n",
      "125: Data Load Finish, "
     ]
    },
    {
     "name": "stderr",
     "output_type": "stream",
     "text": [
      "/home/vislab/anaconda3/envs/test/lib/python3.8/site-packages/pandas/core/arraylike.py:364: RuntimeWarning: divide by zero encountered in log\n",
      "  result = getattr(ufunc, method)(*inputs, **kwargs)\n"
     ]
    },
    {
     "name": "stdout",
     "output_type": "stream",
     "text": [
      "Predict Finish, 65.2924 65.287 0.9849 0.0151 Evaluation Finish\n",
      "126: Data Load Finish, Predict Finish, 13.5374 13.4012 0.2018 0.7958 Evaluation Finish\n",
      "127: Data Load Finish, "
     ]
    },
    {
     "name": "stderr",
     "output_type": "stream",
     "text": [
      "/home/vislab/anaconda3/envs/test/lib/python3.8/site-packages/pandas/core/arraylike.py:364: RuntimeWarning: divide by zero encountered in log\n",
      "  result = getattr(ufunc, method)(*inputs, **kwargs)\n"
     ]
    },
    {
     "name": "stdout",
     "output_type": "stream",
     "text": [
      "Predict Finish, 65.2924 65.287 0.9849 0.0151 Evaluation Finish\n",
      "128: Data Load Finish, Predict Finish, 1.1503 1.0507 0.0159 0.9826 Evaluation Finish\n",
      "129: Data Load Finish, Predict Finish, 6.3787 6.3304 0.0954 0.9038 Evaluation Finish\n",
      "130: Data Load Finish, Predict Finish, 3.442 3.4163 0.0515 0.9481 Evaluation Finish\n",
      "131: Data Load Finish, Predict Finish, 3.687 3.6703 0.0553 0.9444 Evaluation Finish\n",
      "132: Data Load Finish, Predict Finish, 0.8957 0.5931 0.0091 0.9865 Evaluation Finish\n",
      "133: Data Load Finish, Predict Finish, 5.3743 5.3536 0.0807 0.9189 Evaluation Finish\n",
      "134: Data Load Finish, Predict Finish, 1.7632 1.7158 0.0258 0.9734 Evaluation Finish\n",
      "135: Data Load Finish, Predict Finish, 0.6626 0.537 0.0081 0.99 Evaluation Finish\n",
      "136: Data Load Finish, "
     ]
    },
    {
     "name": "stderr",
     "output_type": "stream",
     "text": [
      "/home/vislab/anaconda3/envs/test/lib/python3.8/site-packages/pandas/core/arraylike.py:364: RuntimeWarning: divide by zero encountered in log\n",
      "  result = getattr(ufunc, method)(*inputs, **kwargs)\n"
     ]
    },
    {
     "name": "stdout",
     "output_type": "stream",
     "text": [
      "Predict Finish, 65.2924 65.287 0.9849 0.0151 Evaluation Finish\n",
      "137: Data Load Finish, Predict Finish, 3.8481 3.8253 0.0577 0.942 Evaluation Finish\n",
      "138: Data Load Finish, Predict Finish, 47.3327 47.2805 0.713 0.286 Evaluation Finish\n",
      "139: Data Load Finish, "
     ]
    },
    {
     "name": "stderr",
     "output_type": "stream",
     "text": [
      "/home/vislab/anaconda3/envs/test/lib/python3.8/site-packages/pandas/core/arraylike.py:364: RuntimeWarning: divide by zero encountered in log\n",
      "  result = getattr(ufunc, method)(*inputs, **kwargs)\n"
     ]
    },
    {
     "name": "stdout",
     "output_type": "stream",
     "text": [
      "Predict Finish, 65.2924 65.287 0.9849 0.0151 Evaluation Finish\n",
      "140: Data Load Finish, Predict Finish, 4.0872 4.0699 0.0614 0.9383 Evaluation Finish\n",
      "141: Data Load Finish, "
     ]
    },
    {
     "name": "stderr",
     "output_type": "stream",
     "text": [
      "/home/vislab/anaconda3/envs/test/lib/python3.8/site-packages/pandas/core/arraylike.py:364: RuntimeWarning: divide by zero encountered in log\n",
      "  result = getattr(ufunc, method)(*inputs, **kwargs)\n"
     ]
    },
    {
     "name": "stdout",
     "output_type": "stream",
     "text": [
      "Predict Finish, 65.2924 65.287 0.9849 0.0151 Evaluation Finish\n",
      "142: Data Load Finish, Predict Finish, 2.3299 2.2533 0.0339 0.9649 Evaluation Finish\n",
      "143: Data Load Finish, Predict Finish, 5.2073 5.1767 0.078 0.9214 Evaluation Finish\n",
      "144: Data Load Finish, Predict Finish, 8.034 8.0269 0.1211 0.8788 Evaluation Finish\n",
      "145: Data Load Finish, "
     ]
    },
    {
     "name": "stderr",
     "output_type": "stream",
     "text": [
      "/home/vislab/anaconda3/envs/test/lib/python3.8/site-packages/pandas/core/arraylike.py:364: RuntimeWarning: divide by zero encountered in log\n",
      "  result = getattr(ufunc, method)(*inputs, **kwargs)\n"
     ]
    },
    {
     "name": "stdout",
     "output_type": "stream",
     "text": [
      "Predict Finish, 65.2924 65.287 0.9849 0.0151 Evaluation Finish\n",
      "146: Data Load Finish, Predict Finish, 1.6707 1.6344 0.0246 0.9748 Evaluation Finish\n",
      "147: Data Load Finish, Predict Finish, 6.1673 6.1077 0.092 0.907 Evaluation Finish\n",
      "148: Data Load Finish, Predict Finish, 3.0293 3.0031 0.0452 0.9543 Evaluation Finish\n",
      "149: Data Load Finish, Predict Finish, 2.7722 2.726 0.0412 0.9582 Evaluation Finish\n",
      "150: Data Load Finish, Predict Finish, 3.4681 3.4475 0.052 0.9477 Evaluation Finish\n",
      "151: Data Load Finish, Predict Finish, 8.7984 8.773 0.1322 0.8673 Evaluation Finish\n",
      "152: Data Load Finish, Predict Finish, 3.171 3.1402 0.0473 0.9522 Evaluation Finish\n",
      "153: Data Load Finish, Predict Finish, 2.2882 2.2221 0.0334 0.9655 Evaluation Finish\n",
      "154: Data Load Finish, Predict Finish, 4.6494 4.6201 0.0696 0.9299 Evaluation Finish\n",
      "155: Data Load Finish, Predict Finish, 3.6328 3.6157 0.0545 0.9452 Evaluation Finish\n",
      "156: Data Load Finish, Predict Finish, 8.3425 8.3314 0.1256 0.8742 Evaluation Finish\n",
      "157: Data Load Finish, Predict Finish, 0.5315 0.5221 0.0079 0.992 Evaluation Finish\n",
      "158: Data Load Finish, "
     ]
    },
    {
     "name": "stderr",
     "output_type": "stream",
     "text": [
      "/home/vislab/anaconda3/envs/test/lib/python3.8/site-packages/pandas/core/arraylike.py:364: RuntimeWarning: divide by zero encountered in log\n",
      "  result = getattr(ufunc, method)(*inputs, **kwargs)\n"
     ]
    },
    {
     "name": "stdout",
     "output_type": "stream",
     "text": [
      "Predict Finish, 65.2924 65.287 0.9849 0.0151 Evaluation Finish\n",
      "159: Data Load Finish, Predict Finish, 2.6619 2.6206 0.0396 0.9598 Evaluation Finish\n",
      "160: Data Load Finish, "
     ]
    },
    {
     "name": "stderr",
     "output_type": "stream",
     "text": [
      "/home/vislab/anaconda3/envs/test/lib/python3.8/site-packages/pandas/core/arraylike.py:364: RuntimeWarning: divide by zero encountered in log\n",
      "  result = getattr(ufunc, method)(*inputs, **kwargs)\n"
     ]
    },
    {
     "name": "stdout",
     "output_type": "stream",
     "text": [
      "Predict Finish, 65.2924 65.287 0.9849 0.0151 Evaluation Finish\n",
      "161: Data Load Finish, Predict Finish, 2.7046 2.6589 0.0402 0.9592 Evaluation Finish\n",
      "162: Data Load Finish, Predict Finish, 2.4044 2.342 0.0354 0.9637 Evaluation Finish\n",
      "163: Data Load Finish, Predict Finish, 1.3197 1.1607 0.0176 0.9801 Evaluation Finish\n",
      "164: Data Load Finish, Predict Finish, 2.5414 2.5119 0.0379 0.9617 Evaluation Finish\n",
      "165: Data Load Finish, "
     ]
    },
    {
     "name": "stderr",
     "output_type": "stream",
     "text": [
      "/home/vislab/anaconda3/envs/test/lib/python3.8/site-packages/pandas/core/arraylike.py:364: RuntimeWarning: divide by zero encountered in log\n",
      "  result = getattr(ufunc, method)(*inputs, **kwargs)\n"
     ]
    },
    {
     "name": "stdout",
     "output_type": "stream",
     "text": [
      "Predict Finish, 65.2924 65.287 0.9849 0.0151 Evaluation Finish\n",
      "166: Data Load Finish, Predict Finish, 2.283 2.2452 0.0339 0.9656 Evaluation Finish\n",
      "167: Data Load Finish, Predict Finish, 1.2184 1.1137 0.0167 0.9816 Evaluation Finish\n",
      "168: Data Load Finish, Predict Finish, 0.6353 0.4603 0.007 0.9904 Evaluation Finish\n",
      "169: Data Load Finish, "
     ]
    },
    {
     "name": "stderr",
     "output_type": "stream",
     "text": [
      "/home/vislab/anaconda3/envs/test/lib/python3.8/site-packages/pandas/core/arraylike.py:364: RuntimeWarning: divide by zero encountered in log\n",
      "  result = getattr(ufunc, method)(*inputs, **kwargs)\n"
     ]
    },
    {
     "name": "stdout",
     "output_type": "stream",
     "text": [
      "Predict Finish, 65.2924 65.287 0.9849 0.0151 Evaluation Finish\n",
      "170: Data Load Finish, Predict Finish, 11.0645 11.0327 0.1663 0.8331 Evaluation Finish\n",
      "171: Data Load Finish, Predict Finish, 0.6771 0.6527 0.0099 0.9898 Evaluation Finish\n",
      "172: Data Load Finish, Predict Finish, 3.781 3.7476 0.0566 0.943 Evaluation Finish\n",
      "173: Data Load Finish, "
     ]
    },
    {
     "name": "stderr",
     "output_type": "stream",
     "text": [
      "/home/vislab/anaconda3/envs/test/lib/python3.8/site-packages/pandas/core/arraylike.py:364: RuntimeWarning: divide by zero encountered in log\n",
      "  result = getattr(ufunc, method)(*inputs, **kwargs)\n"
     ]
    },
    {
     "name": "stdout",
     "output_type": "stream",
     "text": [
      "Predict Finish, 65.2924 65.287 0.9849 0.0151 Evaluation Finish\n",
      "174: Data Load Finish, "
     ]
    },
    {
     "name": "stderr",
     "output_type": "stream",
     "text": [
      "/home/vislab/anaconda3/envs/test/lib/python3.8/site-packages/pandas/core/arraylike.py:364: RuntimeWarning: divide by zero encountered in log\n",
      "  result = getattr(ufunc, method)(*inputs, **kwargs)\n"
     ]
    },
    {
     "name": "stdout",
     "output_type": "stream",
     "text": [
      "Predict Finish, 65.2924 65.287 0.9849 0.0151 Evaluation Finish\n",
      "175: Data Load Finish, Predict Finish, 4.0019 3.9404 0.0593 0.9396 Evaluation Finish\n",
      "176: Data Load Finish, Predict Finish, 4.5307 4.4643 0.0672 0.9317 Evaluation Finish\n",
      "177: Data Load Finish, Predict Finish, 4.0705 4.0091 0.0604 0.9386 Evaluation Finish\n",
      "178: Data Load Finish, Predict Finish, 2.8752 2.7466 0.0413 0.9566 Evaluation Finish\n",
      "179: Data Load Finish, "
     ]
    },
    {
     "name": "stderr",
     "output_type": "stream",
     "text": [
      "/home/vislab/anaconda3/envs/test/lib/python3.8/site-packages/pandas/core/arraylike.py:364: RuntimeWarning: divide by zero encountered in log\n",
      "  result = getattr(ufunc, method)(*inputs, **kwargs)\n"
     ]
    },
    {
     "name": "stdout",
     "output_type": "stream",
     "text": [
      "Predict Finish, 65.2924 65.287 0.9849 0.0151 Evaluation Finish\n",
      "180: Data Load Finish, Predict Finish, 2.6164 2.5808 0.0389 0.9605 Evaluation Finish\n",
      "181: Data Load Finish, Predict Finish, 2.5164 2.4715 0.0372 0.962 Evaluation Finish\n",
      "182: Data Load Finish, Predict Finish, 0.7591 0.5223 0.008 0.9885 Evaluation Finish\n",
      "183: Data Load Finish, "
     ]
    },
    {
     "name": "stderr",
     "output_type": "stream",
     "text": [
      "/home/vislab/anaconda3/envs/test/lib/python3.8/site-packages/pandas/core/arraylike.py:364: RuntimeWarning: divide by zero encountered in log\n",
      "  result = getattr(ufunc, method)(*inputs, **kwargs)\n"
     ]
    },
    {
     "name": "stdout",
     "output_type": "stream",
     "text": [
      "Predict Finish, 65.2924 65.287 0.9849 0.0151 Evaluation Finish\n",
      "184: Data Load Finish, "
     ]
    },
    {
     "name": "stderr",
     "output_type": "stream",
     "text": [
      "/home/vislab/anaconda3/envs/test/lib/python3.8/site-packages/pandas/core/arraylike.py:364: RuntimeWarning: divide by zero encountered in log\n",
      "  result = getattr(ufunc, method)(*inputs, **kwargs)\n"
     ]
    },
    {
     "name": "stdout",
     "output_type": "stream",
     "text": [
      "Predict Finish, 65.2924 65.287 0.9849 0.0151 Evaluation Finish\n",
      "185: Data Load Finish, Predict Finish, 0.8118 0.732 0.011 0.9878 Evaluation Finish\n",
      "186: Data Load Finish, Predict Finish, 2.4843 2.4134 0.0363 0.9625 Evaluation Finish\n",
      "187: Data Load Finish, Predict Finish, 5.104 5.0537 0.0763 0.923 Evaluation Finish\n",
      "188: Data Load Finish, Predict Finish, 1.8032 1.7614 0.0266 0.9728 Evaluation Finish\n",
      "189: Data Load Finish, "
     ]
    },
    {
     "name": "stderr",
     "output_type": "stream",
     "text": [
      "/home/vislab/anaconda3/envs/test/lib/python3.8/site-packages/pandas/core/arraylike.py:364: RuntimeWarning: divide by zero encountered in log\n",
      "  result = getattr(ufunc, method)(*inputs, **kwargs)\n"
     ]
    },
    {
     "name": "stdout",
     "output_type": "stream",
     "text": [
      "Predict Finish, 65.2924 65.287 0.9849 0.0151 Evaluation Finish\n",
      "190: Data Load Finish, "
     ]
    },
    {
     "name": "stderr",
     "output_type": "stream",
     "text": [
      "/home/vislab/anaconda3/envs/test/lib/python3.8/site-packages/pandas/core/arraylike.py:364: RuntimeWarning: divide by zero encountered in log\n",
      "  result = getattr(ufunc, method)(*inputs, **kwargs)\n"
     ]
    },
    {
     "name": "stdout",
     "output_type": "stream",
     "text": [
      "Predict Finish, 65.2924 65.287 0.9849 0.0151 Evaluation Finish\n",
      "191: Data Load Finish, Predict Finish, 6.8811 6.8502 0.1034 0.8962 Evaluation Finish\n",
      "192: Data Load Finish, Predict Finish, 0.736 0.6397 0.0096 0.9889 Evaluation Finish\n",
      "193: Data Load Finish, Predict Finish, 5.4937 5.4435 0.0822 0.9171 Evaluation Finish\n",
      "194: Data Load Finish, "
     ]
    },
    {
     "name": "stderr",
     "output_type": "stream",
     "text": [
      "/home/vislab/anaconda3/envs/test/lib/python3.8/site-packages/pandas/core/arraylike.py:364: RuntimeWarning: divide by zero encountered in log\n",
      "  result = getattr(ufunc, method)(*inputs, **kwargs)\n"
     ]
    },
    {
     "name": "stdout",
     "output_type": "stream",
     "text": [
      "Predict Finish, 65.2924 65.287 0.9849 0.0151 Evaluation Finish\n",
      "195: Data Load Finish, Predict Finish, 1.276 1.1947 0.0181 0.9808 Evaluation Finish\n",
      "196: Data Load Finish, Predict Finish, 64.7391 64.7301 0.9765 0.0234 Evaluation Finish\n",
      "197: Data Load Finish, Predict Finish, 15.766 15.7543 0.2378 0.7622 Evaluation Finish\n",
      "198: Data Load Finish, "
     ]
    },
    {
     "name": "stderr",
     "output_type": "stream",
     "text": [
      "/home/vislab/anaconda3/envs/test/lib/python3.8/site-packages/pandas/core/arraylike.py:364: RuntimeWarning: divide by zero encountered in log\n",
      "  result = getattr(ufunc, method)(*inputs, **kwargs)\n"
     ]
    },
    {
     "name": "stdout",
     "output_type": "stream",
     "text": [
      "Predict Finish, 65.2924 65.287 0.9849 0.0151 Evaluation Finish\n",
      "199: Data Load Finish, Predict Finish, 6.7355 6.7044 0.101 0.8984 Evaluation Finish\n",
      "200: Data Load Finish, Predict Finish, 3.9833 3.765 0.0566 0.9399 Evaluation Finish\n",
      "201: Data Load Finish, Predict Finish, 0.8022 0.4796 0.0074 0.9879 Evaluation Finish\n",
      "202: Data Load Finish, Predict Finish, 5.1147 4.9489 0.0744 0.9228 Evaluation Finish\n",
      "203: Data Load Finish, Predict Finish, 0.9425 0.8445 0.0128 0.9858 Evaluation Finish\n",
      "204: Data Load Finish, Predict Finish, 5.6062 5.5675 0.0839 0.9154 Evaluation Finish\n",
      "205: Data Load Finish, Predict Finish, 0.8114 0.7195 0.0109 0.9878 Evaluation Finish\n",
      "206: Data Load Finish, Predict Finish, 5.705 5.6906 0.0858 0.9139 Evaluation Finish\n",
      "RMSE: 17.56194181572389, MAE: 17.503234479787118, MAPE: 0.2640141470717132\n",
      "ACC: 0.7350833549504401\n"
     ]
    }
   ],
   "source": [
    "predictARIMA(df, idx, 3)"
   ]
  },
  {
   "cell_type": "code",
   "execution_count": null,
   "id": "4933fd4e",
   "metadata": {},
   "outputs": [],
   "source": []
  }
 ],
 "metadata": {
  "kernelspec": {
   "display_name": "test",
   "language": "python",
   "name": "test"
  },
  "language_info": {
   "codemirror_mode": {
    "name": "ipython",
    "version": 3
   },
   "file_extension": ".py",
   "mimetype": "text/x-python",
   "name": "python",
   "nbconvert_exporter": "python",
   "pygments_lexer": "ipython3",
   "version": "3.8.12"
  }
 },
 "nbformat": 4,
 "nbformat_minor": 5
}
