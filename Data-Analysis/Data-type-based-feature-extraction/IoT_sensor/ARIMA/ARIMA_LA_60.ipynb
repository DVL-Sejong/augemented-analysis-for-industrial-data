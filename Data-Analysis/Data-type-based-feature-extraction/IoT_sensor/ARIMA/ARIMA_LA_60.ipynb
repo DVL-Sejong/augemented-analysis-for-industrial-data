{
 "cells": [
  {
   "cell_type": "code",
   "execution_count": 1,
   "id": "de3fb51e",
   "metadata": {},
   "outputs": [],
   "source": [
    "import math\n",
    "import pandas as pd\n",
    "import numpy as np\n",
    "import numpy.linalg as la\n",
    "\n",
    "from sklearn.metrics import mean_squared_error, mean_absolute_error, mean_absolute_percentage_error\n",
    "from statsmodels.tsa.arima.model import ARIMA"
   ]
  },
  {
   "cell_type": "code",
   "execution_count": 2,
   "id": "f9cd5ee2",
   "metadata": {},
   "outputs": [],
   "source": [
    "def csvIndexToDatetime(path, start, freq):\n",
    "    df = pd.read_csv(path)\n",
    "    df = df.drop(columns=['Unnamed: 0'])\n",
    "    time_len = df.shape[0]\n",
    "    num_nodes = df.shape[1]\n",
    "    print(time_len, num_nodes)\n",
    "    rng = pd.date_range(start, periods=time_len, freq=freq)\n",
    "    idx = pd.DatetimeIndex(rng)\n",
    "    df.index = idx\n",
    "    return df, idx"
   ]
  },
  {
   "cell_type": "code",
   "execution_count": 3,
   "id": "f10b9e2e",
   "metadata": {},
   "outputs": [],
   "source": [
    "def evaluation(a,b):\n",
    "    rmse = math.sqrt(mean_squared_error(a,b))\n",
    "    mae = mean_absolute_error(a, b)\n",
    "    mape = mean_absolute_percentage_error(a, b)\n",
    "    F_norm = la.norm(a-b)/la.norm(a)\n",
    "    return rmse, mae, mape, 1-F_norm"
   ]
  },
  {
   "cell_type": "code",
   "execution_count": 4,
   "id": "ca85a406",
   "metadata": {},
   "outputs": [],
   "source": [
    "def predictARIMA(df, idx, timelag):\n",
    "    rmse, mae, mape, acc =  [], [], [], []\n",
    "    \n",
    "    for i in range(df.shape[1]):\n",
    "        print(i, end = ': ')\n",
    "        ts = df.iloc[:-timelag, i]\n",
    "        ts_log = np.log(ts)\n",
    "        ts_log = np.array(ts_log, dtype=np.float64)\n",
    "        where_are_inf = np.isinf(ts_log)\n",
    "        ts_log[where_are_inf] = 0\n",
    "        ts_log = pd.Series(ts_log)\n",
    "        ts_log.index = idx[:-timelag]\n",
    "        print('Data Load Finish', end = ', ')\n",
    "        \n",
    "        model = ARIMA(ts_log, order=[1,0,0])\n",
    "        properModel = model.fit()\n",
    "        predict_ts = properModel.forecast(steps=timelag)\n",
    "        log_recover = np.exp(predict_ts)\n",
    "        testX = org_df.iloc[-timelag:, 0]\n",
    "        print('Predict Finish', end = ', ')\n",
    "        \n",
    "        er_rmse, er_mae, er_mape, er_acc = evaluation(testX, log_recover)\n",
    "        print(round(er_rmse,4), round(er_mae,4), round(er_mape,4), round(er_acc,4), end = ' ')\n",
    "        \n",
    "        rmse.append(er_rmse)\n",
    "        mae.append(er_mae)\n",
    "        mape.append(er_mape)\n",
    "        acc.append(er_acc)\n",
    "        print('Evaluation Finish')\n",
    "        \n",
    "    acc = np.mat(acc)\n",
    "    acc[acc<0] = 0\n",
    "    print('RMSE: ' + str(np.mean(rmse)) + ', MAE: ' + str(np.mean(mae)) + ', MAPE: ' + str(np.mean(mape))  + '\\n'\n",
    "          + 'ACC: ' + str(np.mean(acc)))"
   ]
  },
  {
   "cell_type": "code",
   "execution_count": 5,
   "id": "e171bd77",
   "metadata": {
    "scrolled": true
   },
   "outputs": [],
   "source": [
    "path_0 = '../Data/METR-LA/speed_la_0.csv'\n",
    "path_5 = '../Data/METR-LA/speed_la_5.csv'\n",
    "path_10 = '../Data/METR-LA/speed_la_10.csv'\n",
    "path_20 = '../Data/METR-LA/speed_la_20.csv'"
   ]
  },
  {
   "cell_type": "code",
   "execution_count": 6,
   "id": "ee4dc616",
   "metadata": {},
   "outputs": [],
   "source": [
    "start = '1/3/2012'\n",
    "freq = '5min'"
   ]
  },
  {
   "cell_type": "code",
   "execution_count": 7,
   "id": "567c6d75",
   "metadata": {},
   "outputs": [
    {
     "name": "stdout",
     "output_type": "stream",
     "text": [
      "34272 207\n"
     ]
    }
   ],
   "source": [
    "org_path = '../Data/METR-LA/speed_la_0.csv'\n",
    "org_df, org_idx = csvIndexToDatetime(org_path, start, freq)"
   ]
  },
  {
   "cell_type": "markdown",
   "id": "bc8a6c28",
   "metadata": {},
   "source": [
    "### Unobserved Nodes = 0%"
   ]
  },
  {
   "cell_type": "code",
   "execution_count": 8,
   "id": "9eaf61b7",
   "metadata": {},
   "outputs": [
    {
     "name": "stdout",
     "output_type": "stream",
     "text": [
      "34272 207\n"
     ]
    },
    {
     "data": {
      "text/plain": [
       "0"
      ]
     },
     "execution_count": 8,
     "metadata": {},
     "output_type": "execute_result"
    }
   ],
   "source": [
    "df, idx = csvIndexToDatetime(path_0, start, freq)\n",
    "(df == 0).sum().sum()"
   ]
  },
  {
   "cell_type": "code",
   "execution_count": 9,
   "id": "60f8ff1e",
   "metadata": {
    "scrolled": true
   },
   "outputs": [
    {
     "name": "stdout",
     "output_type": "stream",
     "text": [
      "0: Data Load Finish, Predict Finish, 3.4707 3.0431 0.0459 0.9469 Evaluation Finish\n",
      "1: Data Load Finish, Predict Finish, 1.9184 1.6184 0.0248 0.9707 Evaluation Finish\n",
      "2: Data Load Finish, Predict Finish, 2.3336 1.8341 0.0287 0.9643 Evaluation Finish\n",
      "3: Data Load Finish, Predict Finish, 10.7139 10.5024 0.1601 0.8362 Evaluation Finish\n",
      "4: Data Load Finish, Predict Finish, 27.7005 27.5059 0.42 0.5765 Evaluation Finish\n",
      "5: Data Load Finish, Predict Finish, 10.032 9.805 0.1494 0.8466 Evaluation Finish\n",
      "6: Data Load Finish, Predict Finish, 4.4995 4.0522 0.0613 0.9312 Evaluation Finish\n",
      "7: Data Load Finish, Predict Finish, 2.6725 2.3367 0.0353 0.9591 Evaluation Finish\n",
      "8: Data Load Finish, Predict Finish, 3.3223 2.6995 0.0406 0.9492 Evaluation Finish\n",
      "9: Data Load Finish, Predict Finish, 2.7939 2.2737 0.0344 0.9573 Evaluation Finish\n",
      "10: Data Load Finish, Predict Finish, 5.2433 4.9067 0.0743 0.9198 Evaluation Finish\n",
      "11: Data Load Finish, Predict Finish, 2.7576 2.4291 0.0367 0.9578 Evaluation Finish\n",
      "12: Data Load Finish, Predict Finish, 10.0923 9.2579 0.1412 0.8457 Evaluation Finish\n",
      "13: Data Load Finish, Predict Finish, 1.9165 1.6494 0.0253 0.9707 Evaluation Finish\n",
      "14: Data Load Finish, Predict Finish, 10.1369 9.9609 0.1517 0.845 Evaluation Finish\n",
      "15: Data Load Finish, Predict Finish, 8.1551 7.51 0.1144 0.8753 Evaluation Finish\n",
      "16: Data Load Finish, Predict Finish, 45.6297 45.4463 0.6945 0.3024 Evaluation Finish\n",
      "17: Data Load Finish, Predict Finish, 5.8108 5.338 0.081 0.9112 Evaluation Finish\n",
      "18: Data Load Finish, Predict Finish, 10.8568 10.6399 0.1619 0.834 Evaluation Finish\n",
      "19: Data Load Finish, Predict Finish, 4.2523 3.7315 0.0564 0.935 Evaluation Finish\n",
      "20: Data Load Finish, Predict Finish, 2.1265 1.8087 0.0281 0.9675 Evaluation Finish\n",
      "21: Data Load Finish, Predict Finish, 5.7693 5.451 0.0826 0.9118 Evaluation Finish\n",
      "22: Data Load Finish, Predict Finish, 14.5923 14.4396 0.2203 0.7769 Evaluation Finish\n",
      "23: Data Load Finish, Predict Finish, 8.0432 7.7084 0.1173 0.877 Evaluation Finish\n",
      "24: Data Load Finish, Predict Finish, 2.0049 1.7312 0.0265 0.9693 Evaluation Finish\n",
      "25: Data Load Finish, Predict Finish, 9.9009 9.7226 0.148 0.8486 Evaluation Finish\n",
      "26: Data Load Finish, Predict Finish, 10.6255 10.361 0.1579 0.8376 Evaluation Finish\n",
      "27: Data Load Finish, Predict Finish, 4.0749 3.6612 0.0552 0.9377 Evaluation Finish\n",
      "28: Data Load Finish, Predict Finish, 3.4934 2.9382 0.0458 0.9466 Evaluation Finish\n",
      "29: Data Load Finish, Predict Finish, 6.8907 6.2235 0.0946 0.8947 Evaluation Finish\n",
      "30: Data Load Finish, Predict Finish, 6.2708 5.9921 0.0909 0.9041 Evaluation Finish\n",
      "31: Data Load Finish, Predict Finish, 1.9557 1.5279 0.0238 0.9701 Evaluation Finish\n",
      "32: Data Load Finish, Predict Finish, 2.0198 1.7592 0.0272 0.9691 Evaluation Finish\n",
      "33: Data Load Finish, Predict Finish, 4.0089 3.3682 0.0509 0.9387 Evaluation Finish\n",
      "34: Data Load Finish, Predict Finish, 2.0318 1.8031 0.0276 0.9689 Evaluation Finish\n",
      "35: Data Load Finish, Predict Finish, 4.943 4.5813 0.0693 0.9244 Evaluation Finish\n",
      "36: Data Load Finish, Predict Finish, 2.7255 2.4336 0.0369 0.9583 Evaluation Finish\n",
      "37: Data Load Finish, Predict Finish, 1.9574 1.684 0.0258 0.9701 Evaluation Finish\n",
      "38: Data Load Finish, Predict Finish, 7.8991 7.2179 0.1099 0.8792 Evaluation Finish\n",
      "39: Data Load Finish, Predict Finish, 6.0901 5.773 0.0876 0.9069 Evaluation Finish\n",
      "40: Data Load Finish, Predict Finish, 2.0012 1.7014 0.0264 0.9694 Evaluation Finish\n",
      "41: Data Load Finish, Predict Finish, 3.5109 2.7383 0.0412 0.9463 Evaluation Finish\n",
      "42: Data Load Finish, Predict Finish, 2.3164 1.9981 0.0304 0.9646 Evaluation Finish\n",
      "43: Data Load Finish, Predict Finish, 4.9133 4.2526 0.0644 0.9249 Evaluation Finish\n",
      "44: Data Load Finish, Predict Finish, 2.6144 2.0755 0.0324 0.96 Evaluation Finish\n",
      "45: Data Load Finish, Predict Finish, 2.1384 1.7074 0.0267 0.9673 Evaluation Finish\n",
      "46: Data Load Finish, Predict Finish, 4.5159 4.0815 0.0616 0.931 Evaluation Finish\n",
      "47: Data Load Finish, Predict Finish, 6.5147 5.8472 0.0889 0.9004 Evaluation Finish\n",
      "48: Data Load Finish, Predict Finish, 13.3071 13.165 0.2007 0.7966 Evaluation Finish\n",
      "49: Data Load Finish, Predict Finish, 5.0539 4.699 0.0711 0.9227 Evaluation Finish\n",
      "50: Data Load Finish, Predict Finish, 6.616 6.3528 0.0964 0.8989 Evaluation Finish\n",
      "51: Data Load Finish, Predict Finish, 16.3568 16.2399 0.2477 0.7499 Evaluation Finish\n",
      "52: Data Load Finish, Predict Finish, 3.6233 2.7285 0.0411 0.9446 Evaluation Finish\n",
      "53: Data Load Finish, Predict Finish, 7.7204 7.3456 0.1118 0.882 Evaluation Finish\n",
      "54: Data Load Finish, Predict Finish, 4.8619 4.4729 0.0677 0.9257 Evaluation Finish\n",
      "55: Data Load Finish, Predict Finish, 4.9475 4.5637 0.069 0.9244 Evaluation Finish\n",
      "56: Data Load Finish, Predict Finish, 22.319 22.2241 0.3395 0.6588 Evaluation Finish\n",
      "57: Data Load Finish, Predict Finish, 7.0189 6.7583 0.1027 0.8927 Evaluation Finish\n",
      "58: Data Load Finish, Predict Finish, 5.1237 4.7771 0.0723 0.9217 Evaluation Finish\n",
      "59: Data Load Finish, Predict Finish, 5.1168 4.7677 0.0722 0.9218 Evaluation Finish\n",
      "60: Data Load Finish, Predict Finish, 6.4484 5.7751 0.0878 0.9014 Evaluation Finish\n",
      "61: Data Load Finish, Predict Finish, 7.0661 6.4384 0.0979 0.892 Evaluation Finish\n",
      "62: Data Load Finish, Predict Finish, 8.7073 8.3402 0.1267 0.8669 Evaluation Finish\n",
      "63: Data Load Finish, Predict Finish, 4.7559 3.9185 0.0593 0.9273 Evaluation Finish\n",
      "64: Data Load Finish, Predict Finish, 3.0878 2.656 0.04 0.9528 Evaluation Finish\n",
      "65: Data Load Finish, Predict Finish, 4.1333 3.7112 0.056 0.9368 Evaluation Finish\n",
      "66: Data Load Finish, Predict Finish, 1.917 1.5123 0.0235 0.9707 Evaluation Finish\n",
      "67: Data Load Finish, Predict Finish, 2.2029 1.6311 0.0256 0.9663 Evaluation Finish\n",
      "68: Data Load Finish, Predict Finish, 2.3936 2.017 0.0313 0.9634 Evaluation Finish\n",
      "69: Data Load Finish, Predict Finish, 4.461 3.621 0.0548 0.9318 Evaluation Finish\n",
      "70: Data Load Finish, Predict Finish, 2.9246 2.4752 0.0373 0.9553 Evaluation Finish\n",
      "71: Data Load Finish, Predict Finish, 4.3163 3.8719 0.0585 0.934 Evaluation Finish\n",
      "72: Data Load Finish, Predict Finish, 6.0729 5.5656 0.0845 0.9072 Evaluation Finish\n",
      "73: Data Load Finish, Predict Finish, 7.4479 7.0157 0.1067 0.8861 Evaluation Finish\n",
      "74: Data Load Finish, Predict Finish, 2.9913 2.3151 0.0362 0.9543 Evaluation Finish\n",
      "75: Data Load Finish, Predict Finish, 18.5365 18.4409 0.2815 0.7166 Evaluation Finish\n",
      "76: Data Load Finish, Predict Finish, 12.111 11.8223 0.1803 0.8148 Evaluation Finish\n",
      "77: Data Load Finish, Predict Finish, 7.5732 7.3011 0.111 0.8842 Evaluation Finish\n",
      "78: Data Load Finish, Predict Finish, 2.6887 2.0822 0.0326 0.9589 Evaluation Finish\n",
      "79: Data Load Finish, Predict Finish, 2.0897 1.6512 0.0258 0.9681 Evaluation Finish\n",
      "80: Data Load Finish, Predict Finish, 2.7866 2.31 0.0348 0.9574 Evaluation Finish\n",
      "81: Data Load Finish, Predict Finish, 7.238 6.7849 0.1032 0.8893 Evaluation Finish\n",
      "82: Data Load Finish, Predict Finish, 4.785 4.0153 0.0608 0.9268 Evaluation Finish\n",
      "83: Data Load Finish, Predict Finish, 4.6442 4.2484 0.0642 0.929 Evaluation Finish\n",
      "84: Data Load Finish, Predict Finish, 10.2412 10.035 0.1529 0.8434 Evaluation Finish\n",
      "85: Data Load Finish, Predict Finish, 2.9672 2.3021 0.036 0.9546 Evaluation Finish\n",
      "86: Data Load Finish, Predict Finish, 10.2077 9.8341 0.1495 0.8439 Evaluation Finish\n",
      "87: Data Load Finish, Predict Finish, 3.9564 3.0903 0.0467 0.9395 Evaluation Finish\n",
      "88: Data Load Finish, Predict Finish, 2.7112 2.3327 0.0353 0.9585 Evaluation Finish\n",
      "89: Data Load Finish, Predict Finish, 2.0165 1.7484 0.027 0.9692 Evaluation Finish\n",
      "90: Data Load Finish, Predict Finish, 2.3699 1.7071 0.0269 0.9638 Evaluation Finish\n",
      "91: Data Load Finish, Predict Finish, 18.888 18.7002 0.2856 0.7112 Evaluation Finish\n",
      "92: Data Load Finish, Predict Finish, 2.8015 2.1481 0.0337 0.9572 Evaluation Finish\n",
      "93: Data Load Finish, Predict Finish, 3.0469 2.6033 0.0392 0.9534 Evaluation Finish\n",
      "94: Data Load Finish, Predict Finish, 2.6166 2.1323 0.0323 0.96 Evaluation Finish\n",
      "95: Data Load Finish, Predict Finish, 9.9901 9.8044 0.1493 0.8473 Evaluation Finish\n",
      "96: Data Load Finish, Predict Finish, 2.511 1.9967 0.0312 0.9616 Evaluation Finish\n",
      "97: Data Load Finish, Predict Finish, 2.0304 1.7556 0.0272 0.969 Evaluation Finish\n"
     ]
    },
    {
     "name": "stdout",
     "output_type": "stream",
     "text": [
      "98: Data Load Finish, Predict Finish, 6.365 6.0038 0.0912 0.9027 Evaluation Finish\n",
      "99: Data Load Finish, Predict Finish, 2.5643 1.8901 0.0297 0.9608 Evaluation Finish\n",
      "100: Data Load Finish, Predict Finish, 6.5817 5.9991 0.0912 0.8994 Evaluation Finish\n",
      "101: Data Load Finish, Predict Finish, 6.3001 5.95 0.0903 0.9037 Evaluation Finish\n",
      "102: Data Load Finish, Predict Finish, 4.8616 4.4229 0.0669 0.9257 Evaluation Finish\n",
      "103: Data Load Finish, Predict Finish, 2.5281 2.0966 0.0318 0.9613 Evaluation Finish\n",
      "104: Data Load Finish, Predict Finish, 2.4198 2.022 0.0307 0.963 Evaluation Finish\n",
      "105: Data Load Finish, Predict Finish, 2.6658 2.0479 0.0321 0.9592 Evaluation Finish\n",
      "106: Data Load Finish, Predict Finish, 3.0185 2.3739 0.0371 0.9539 Evaluation Finish\n",
      "107: Data Load Finish, Predict Finish, 2.9542 2.2623 0.0355 0.9548 Evaluation Finish\n",
      "108: Data Load Finish, Predict Finish, 3.7611 3.2669 0.0508 0.9425 Evaluation Finish\n",
      "109: Data Load Finish, Predict Finish, 7.2198 6.977 0.106 0.8896 Evaluation Finish\n",
      "110: Data Load Finish, Predict Finish, 1.8862 1.6239 0.025 0.9712 Evaluation Finish\n",
      "111: Data Load Finish, Predict Finish, 2.1419 1.8434 0.0286 0.9673 Evaluation Finish\n",
      "112: Data Load Finish, Predict Finish, 7.5365 7.2356 0.11 0.8848 Evaluation Finish\n",
      "113: Data Load Finish, Predict Finish, 6.6901 6.203 0.0943 0.8977 Evaluation Finish\n",
      "114: Data Load Finish, Predict Finish, 2.1177 1.8996 0.0289 0.9676 Evaluation Finish\n",
      "115: Data Load Finish, Predict Finish, 2.2157 1.9498 0.0297 0.9661 Evaluation Finish\n",
      "116: Data Load Finish, Predict Finish, 2.9458 2.4506 0.0369 0.955 Evaluation Finish\n",
      "117: Data Load Finish, Predict Finish, 1.9814 1.718 0.0265 0.9697 Evaluation Finish\n",
      "118: Data Load Finish, Predict Finish, 1.9953 1.5453 0.0241 0.9695 Evaluation Finish\n",
      "119: Data Load Finish, Predict Finish, 2.511 1.9573 0.0306 0.9616 Evaluation Finish\n",
      "120: Data Load Finish, Predict Finish, 7.104 6.8238 0.1037 0.8914 Evaluation Finish\n",
      "121: Data Load Finish, Predict Finish, 7.7653 7.353 0.1116 0.8813 Evaluation Finish\n",
      "122: Data Load Finish, Predict Finish, 1.9066 1.5902 0.0245 0.9709 Evaluation Finish\n",
      "123: Data Load Finish, Predict Finish, 2.9374 2.2945 0.0359 0.9551 Evaluation Finish\n",
      "124: Data Load Finish, Predict Finish, 7.527 7.2204 0.1098 0.8849 Evaluation Finish\n",
      "125: Data Load Finish, Predict Finish, 8.784 8.4469 0.1286 0.8657 Evaluation Finish\n",
      "126: Data Load Finish, Predict Finish, 10.8003 10.3636 0.1576 0.8349 Evaluation Finish\n",
      "127: Data Load Finish, Predict Finish, 4.2642 3.3238 0.0503 0.9348 Evaluation Finish\n",
      "128: Data Load Finish, Predict Finish, 2.3843 2.0019 0.0304 0.9635 Evaluation Finish\n",
      "129: Data Load Finish, Predict Finish, 5.062 4.7073 0.0713 0.9226 Evaluation Finish\n",
      "130: Data Load Finish, Predict Finish, 4.8384 4.2693 0.0647 0.926 Evaluation Finish\n",
      "131: Data Load Finish, Predict Finish, 6.5163 6.0293 0.0916 0.9004 Evaluation Finish\n",
      "132: Data Load Finish, Predict Finish, 3.384 2.807 0.0438 0.9483 Evaluation Finish\n",
      "133: Data Load Finish, Predict Finish, 6.3385 5.9875 0.0909 0.9031 Evaluation Finish\n",
      "134: Data Load Finish, Predict Finish, 3.7479 2.9467 0.0444 0.9427 Evaluation Finish\n",
      "135: Data Load Finish, Predict Finish, 2.5588 2.089 0.0316 0.9609 Evaluation Finish\n",
      "136: Data Load Finish, Predict Finish, 1.9647 1.7005 0.0262 0.97 Evaluation Finish\n",
      "137: Data Load Finish, Predict Finish, 8.0844 7.6318 0.1162 0.8764 Evaluation Finish\n",
      "138: Data Load Finish, Predict Finish, 39.0871 38.5383 0.5886 0.4024 Evaluation Finish\n",
      "139: Data Load Finish, Predict Finish, 7.3991 7.0057 0.1066 0.8869 Evaluation Finish\n",
      "140: Data Load Finish, Predict Finish, 7.6819 7.2306 0.11 0.8826 Evaluation Finish\n",
      "141: Data Load Finish, Predict Finish, 3.5663 2.672 0.0403 0.9455 Evaluation Finish\n",
      "142: Data Load Finish, Predict Finish, 5.7259 5.4125 0.082 0.9125 Evaluation Finish\n",
      "143: Data Load Finish, Predict Finish, 4.9088 4.4723 0.0677 0.925 Evaluation Finish\n",
      "144: Data Load Finish, Predict Finish, 13.5851 13.3277 0.2034 0.7923 Evaluation Finish\n",
      "145: Data Load Finish, Predict Finish, 2.2245 1.7956 0.028 0.966 Evaluation Finish\n",
      "146: Data Load Finish, Predict Finish, 4.8044 4.0395 0.0612 0.9265 Evaluation Finish\n",
      "147: Data Load Finish, Predict Finish, 9.0897 8.5956 0.1305 0.861 Evaluation Finish\n",
      "148: Data Load Finish, Predict Finish, 3.763 2.8322 0.0427 0.9425 Evaluation Finish\n",
      "149: Data Load Finish, Predict Finish, 2.5519 2.1532 0.0334 0.961 Evaluation Finish\n",
      "150: Data Load Finish, Predict Finish, 6.0298 5.1506 0.0783 0.9078 Evaluation Finish\n",
      "151: Data Load Finish, Predict Finish, 5.4051 4.9902 0.0756 0.9174 Evaluation Finish\n",
      "152: Data Load Finish, Predict Finish, 3.7767 3.2745 0.0494 0.9423 Evaluation Finish\n",
      "153: Data Load Finish, Predict Finish, 2.493 2.0238 0.0306 0.9619 Evaluation Finish\n",
      "154: Data Load Finish, Predict Finish, 5.761 5.3877 0.0817 0.9119 Evaluation Finish\n",
      "155: Data Load Finish, Predict Finish, 6.1055 5.1239 0.0779 0.9067 Evaluation Finish\n",
      "156: Data Load Finish, Predict Finish, 10.3359 10.1391 0.1543 0.842 Evaluation Finish\n",
      "157: Data Load Finish, Predict Finish, 2.715 2.2523 0.0341 0.9585 Evaluation Finish\n",
      "158: Data Load Finish, Predict Finish, 5.223 4.2356 0.0643 0.9201 Evaluation Finish\n",
      "159: Data Load Finish, Predict Finish, 7.6127 6.874 0.1047 0.8836 Evaluation Finish\n",
      "160: Data Load Finish, Predict Finish, 7.2163 5.9471 0.0905 0.8897 Evaluation Finish\n",
      "161: Data Load Finish, Predict Finish, 2.7229 2.2274 0.0347 0.9584 Evaluation Finish\n",
      "162: Data Load Finish, Predict Finish, 2.0381 1.7414 0.027 0.9688 Evaluation Finish\n",
      "163: Data Load Finish, Predict Finish, 6.7523 5.5275 0.0841 0.8968 Evaluation Finish\n",
      "164: Data Load Finish, Predict Finish, 6.6536 6.1349 0.0933 0.8983 Evaluation Finish\n",
      "165: Data Load Finish, Predict Finish, 19.8609 19.7603 0.3016 0.6964 Evaluation Finish\n",
      "166: Data Load Finish, Predict Finish, 2.3803 2.0492 0.0317 0.9636 Evaluation Finish\n",
      "167: Data Load Finish, Predict Finish, 2.2679 1.8297 0.0286 0.9653 Evaluation Finish\n",
      "168: Data Load Finish, Predict Finish, 1.8868 1.5671 0.0242 0.9712 Evaluation Finish\n",
      "169: Data Load Finish, Predict Finish, 1.8606 1.5581 0.024 0.9716 Evaluation Finish\n",
      "170: Data Load Finish, Predict Finish, 11.2596 11.0703 0.1685 0.8279 Evaluation Finish\n",
      "171: Data Load Finish, Predict Finish, 1.929 1.5115 0.0235 0.9705 Evaluation Finish\n",
      "172: Data Load Finish, Predict Finish, 19.794 19.4172 0.2961 0.6974 Evaluation Finish\n",
      "173: Data Load Finish, Predict Finish, 1.8754 1.4895 0.0231 0.9713 Evaluation Finish\n",
      "174: Data Load Finish, Predict Finish, 7.5673 7.2482 0.1102 0.8843 Evaluation Finish\n",
      "175: Data Load Finish, Predict Finish, 2.3223 2.0605 0.0318 0.9645 Evaluation Finish\n",
      "176: Data Load Finish, Predict Finish, 2.0553 1.6427 0.0256 0.9686 Evaluation Finish\n",
      "177: Data Load Finish, Predict Finish, 3.7211 3.3219 0.0501 0.9431 Evaluation Finish\n",
      "178: Data Load Finish, Predict Finish, 1.9357 1.7106 0.0263 0.9704 Evaluation Finish\n",
      "179: Data Load Finish, Predict Finish, 10.0127 9.8212 0.1495 0.8469 Evaluation Finish\n",
      "180: Data Load Finish, Predict Finish, 6.5455 6.2055 0.0943 0.8999 Evaluation Finish\n",
      "181: Data Load Finish, Predict Finish, 6.3674 6.0893 0.0924 0.9027 Evaluation Finish\n",
      "182: Data Load Finish, Predict Finish, 1.9071 1.631 0.0251 0.9708 Evaluation Finish\n",
      "183: Data Load Finish, Predict Finish, 2.8205 2.0546 0.0323 0.9569 Evaluation Finish\n",
      "184: Data Load Finish, Predict Finish, 2.1027 1.8876 0.0288 0.9679 Evaluation Finish\n",
      "185: Data Load Finish, Predict Finish, 2.1114 1.8137 0.0277 0.9677 Evaluation Finish\n",
      "186: Data Load Finish, Predict Finish, 2.6025 2.1467 0.0325 0.9602 Evaluation Finish\n",
      "187: Data Load Finish, Predict Finish, 16.0106 15.7004 0.2398 0.7552 Evaluation Finish\n",
      "188: Data Load Finish, Predict Finish, 6.3622 6.065 0.092 0.9027 Evaluation Finish\n",
      "189: Data Load Finish, Predict Finish, 4.9158 4.4336 0.0669 0.9248 Evaluation Finish\n",
      "190: Data Load Finish, Predict Finish, 3.9606 3.1227 0.0471 0.9394 Evaluation Finish\n",
      "191: Data Load Finish, Predict Finish, 10.2228 9.3897 0.1433 0.8437 Evaluation Finish\n",
      "192: Data Load Finish, Predict Finish, 4.4763 3.9226 0.0593 0.9316 Evaluation Finish\n",
      "193: Data Load Finish, Predict Finish, 10.8335 10.0167 0.1529 0.8344 Evaluation Finish\n",
      "194: Data Load Finish, Predict Finish, 9.0785 8.8863 0.1352 0.8612 Evaluation Finish\n"
     ]
    },
    {
     "name": "stdout",
     "output_type": "stream",
     "text": [
      "195: Data Load Finish, Predict Finish, 2.1015 1.8993 0.0292 0.9679 Evaluation Finish\n",
      "196: Data Load Finish, Predict Finish, 61.6529 61.5871 0.9418 0.0574 Evaluation Finish\n",
      "197: Data Load Finish, Predict Finish, 21.3796 21.2251 0.3243 0.6731 Evaluation Finish\n",
      "198: Data Load Finish, Predict Finish, 1.9594 1.6631 0.0257 0.97 Evaluation Finish\n",
      "199: Data Load Finish, Predict Finish, 3.685 3.0574 0.046 0.9437 Evaluation Finish\n",
      "200: Data Load Finish, Predict Finish, 3.3032 2.8719 0.0435 0.9495 Evaluation Finish\n",
      "201: Data Load Finish, Predict Finish, 2.659 2.1329 0.0333 0.9593 Evaluation Finish\n",
      "202: Data Load Finish, Predict Finish, 3.5046 3.1176 0.047 0.9464 Evaluation Finish\n",
      "203: Data Load Finish, Predict Finish, 2.6334 1.9926 0.0313 0.9597 Evaluation Finish\n",
      "204: Data Load Finish, Predict Finish, 2.9924 2.308 0.0348 0.9543 Evaluation Finish\n",
      "205: Data Load Finish, Predict Finish, 2.3766 2.0185 0.0306 0.9637 Evaluation Finish\n",
      "206: Data Load Finish, Predict Finish, 6.7619 6.2994 0.0957 0.8966 Evaluation Finish\n",
      "RMSE: 6.186331699282162, MAE: 5.743777003572794, MAPE: 0.08756020557568235\n",
      "ACC: 0.9054214375015467\n"
     ]
    }
   ],
   "source": [
    "predictARIMA(df, idx, 12)"
   ]
  },
  {
   "cell_type": "markdown",
   "id": "c1acb05c",
   "metadata": {},
   "source": [
    "### Unobserved Nodes = 5%"
   ]
  },
  {
   "cell_type": "code",
   "execution_count": 10,
   "id": "8a799433",
   "metadata": {},
   "outputs": [
    {
     "name": "stdout",
     "output_type": "stream",
     "text": [
      "34272 207\n"
     ]
    },
    {
     "data": {
      "text/plain": [
       "342720"
      ]
     },
     "execution_count": 10,
     "metadata": {},
     "output_type": "execute_result"
    }
   ],
   "source": [
    "df, idx = csvIndexToDatetime(path_5, start, freq)\n",
    "(df == 0).sum().sum()"
   ]
  },
  {
   "cell_type": "code",
   "execution_count": 11,
   "id": "83ef8625",
   "metadata": {
    "scrolled": false
   },
   "outputs": [
    {
     "name": "stdout",
     "output_type": "stream",
     "text": [
      "0: Data Load Finish, Predict Finish, 3.4707 3.0431 0.0459 0.9469 Evaluation Finish\n",
      "1: Data Load Finish, Predict Finish, 1.9184 1.6184 0.0248 0.9707 Evaluation Finish\n",
      "2: Data Load Finish, Predict Finish, 2.3336 1.8341 0.0287 0.9643 Evaluation Finish\n",
      "3: Data Load Finish, Predict Finish, 10.7139 10.5024 0.1601 0.8362 Evaluation Finish\n",
      "4: Data Load Finish, Predict Finish, 27.7005 27.5059 0.42 0.5765 Evaluation Finish\n",
      "5: Data Load Finish, Predict Finish, 10.032 9.805 0.1494 0.8466 Evaluation Finish\n",
      "6: Data Load Finish, Predict Finish, 4.4995 4.0522 0.0613 0.9312 Evaluation Finish\n",
      "7: Data Load Finish, Predict Finish, 2.6725 2.3367 0.0353 0.9591 Evaluation Finish\n",
      "8: Data Load Finish, Predict Finish, 3.3223 2.6995 0.0406 0.9492 Evaluation Finish\n",
      "9: Data Load Finish, Predict Finish, 2.7939 2.2737 0.0344 0.9573 Evaluation Finish\n",
      "10: Data Load Finish, Predict Finish, 5.2433 4.9067 0.0743 0.9198 Evaluation Finish\n",
      "11: Data Load Finish, Predict Finish, 2.7576 2.4291 0.0367 0.9578 Evaluation Finish\n",
      "12: Data Load Finish, Predict Finish, 10.0923 9.2579 0.1412 0.8457 Evaluation Finish\n",
      "13: Data Load Finish, Predict Finish, 1.9165 1.6494 0.0253 0.9707 Evaluation Finish\n",
      "14: Data Load Finish, Predict Finish, 10.1369 9.9609 0.1517 0.845 Evaluation Finish\n",
      "15: Data Load Finish, Predict Finish, 8.1551 7.51 0.1144 0.8753 Evaluation Finish\n",
      "16: Data Load Finish, Predict Finish, 45.6297 45.4463 0.6945 0.3024 Evaluation Finish\n",
      "17: Data Load Finish, Predict Finish, 5.8108 5.338 0.081 0.9112 Evaluation Finish\n",
      "18: Data Load Finish, Predict Finish, 10.8568 10.6399 0.1619 0.834 Evaluation Finish\n",
      "19: Data Load Finish, Predict Finish, 4.2523 3.7315 0.0564 0.935 Evaluation Finish\n",
      "20: Data Load Finish, Predict Finish, 2.1265 1.8087 0.0281 0.9675 Evaluation Finish\n",
      "21: Data Load Finish, Predict Finish, 5.7693 5.451 0.0826 0.9118 Evaluation Finish\n",
      "22: Data Load Finish, Predict Finish, 14.5923 14.4396 0.2203 0.7769 Evaluation Finish\n",
      "23: Data Load Finish, Predict Finish, 8.0432 7.7084 0.1173 0.877 Evaluation Finish\n",
      "24: Data Load Finish, Predict Finish, 2.0049 1.7312 0.0265 0.9693 Evaluation Finish\n",
      "25: Data Load Finish, Predict Finish, 9.9009 9.7226 0.148 0.8486 Evaluation Finish\n",
      "26: Data Load Finish, Predict Finish, 10.6255 10.361 0.1579 0.8376 Evaluation Finish\n",
      "27: Data Load Finish, Predict Finish, 4.0749 3.6612 0.0552 0.9377 Evaluation Finish\n",
      "28: Data Load Finish, Predict Finish, 3.4934 2.9382 0.0458 0.9466 Evaluation Finish\n",
      "29: Data Load Finish, Predict Finish, 6.8907 6.2235 0.0946 0.8947 Evaluation Finish\n",
      "30: Data Load Finish, "
     ]
    },
    {
     "name": "stderr",
     "output_type": "stream",
     "text": [
      "/home/vislab/anaconda3/envs/test/lib/python3.8/site-packages/pandas/core/arraylike.py:364: RuntimeWarning: divide by zero encountered in log\n",
      "  result = getattr(ufunc, method)(*inputs, **kwargs)\n",
      "/home/vislab/anaconda3/envs/test/lib/python3.8/site-packages/statsmodels/base/model.py:604: ConvergenceWarning: Maximum Likelihood optimization failed to converge. Check mle_retvals\n",
      "  warnings.warn(\"Maximum Likelihood optimization failed to \"\n"
     ]
    },
    {
     "name": "stdout",
     "output_type": "stream",
     "text": [
      "Predict Finish, 64.4099 64.3818 0.9847 0.0153 Evaluation Finish\n",
      "31: Data Load Finish, Predict Finish, 1.9557 1.5279 0.0238 0.9701 Evaluation Finish\n",
      "32: Data Load Finish, Predict Finish, 2.0198 1.7592 0.0272 0.9691 Evaluation Finish\n",
      "33: Data Load Finish, Predict Finish, 4.0089 3.3682 0.0509 0.9387 Evaluation Finish\n",
      "34: Data Load Finish, Predict Finish, 2.0318 1.8031 0.0276 0.9689 Evaluation Finish\n",
      "35: Data Load Finish, Predict Finish, 4.943 4.5813 0.0693 0.9244 Evaluation Finish\n",
      "36: Data Load Finish, Predict Finish, 2.7255 2.4336 0.0369 0.9583 Evaluation Finish\n",
      "37: Data Load Finish, Predict Finish, 1.9574 1.684 0.0258 0.9701 Evaluation Finish\n",
      "38: Data Load Finish, Predict Finish, 7.8991 7.2179 0.1099 0.8792 Evaluation Finish\n",
      "39: Data Load Finish, Predict Finish, 6.0901 5.773 0.0876 0.9069 Evaluation Finish\n",
      "40: Data Load Finish, Predict Finish, 2.0012 1.7014 0.0264 0.9694 Evaluation Finish\n",
      "41: Data Load Finish, Predict Finish, 3.5109 2.7383 0.0412 0.9463 Evaluation Finish\n",
      "42: Data Load Finish, Predict Finish, 2.3164 1.9981 0.0304 0.9646 Evaluation Finish\n",
      "43: Data Load Finish, Predict Finish, 4.9133 4.2526 0.0644 0.9249 Evaluation Finish\n",
      "44: Data Load Finish, Predict Finish, 2.6144 2.0755 0.0324 0.96 Evaluation Finish\n",
      "45: Data Load Finish, Predict Finish, 2.1384 1.7074 0.0267 0.9673 Evaluation Finish\n",
      "46: Data Load Finish, Predict Finish, 4.5159 4.0815 0.0616 0.931 Evaluation Finish\n",
      "47: Data Load Finish, Predict Finish, 6.5147 5.8472 0.0889 0.9004 Evaluation Finish\n",
      "48: Data Load Finish, Predict Finish, 13.3071 13.165 0.2007 0.7966 Evaluation Finish\n",
      "49: Data Load Finish, Predict Finish, 5.0539 4.699 0.0711 0.9227 Evaluation Finish\n",
      "50: Data Load Finish, Predict Finish, 6.616 6.3528 0.0964 0.8989 Evaluation Finish\n",
      "51: Data Load Finish, Predict Finish, 16.3568 16.2399 0.2477 0.7499 Evaluation Finish\n",
      "52: Data Load Finish, Predict Finish, 3.6233 2.7285 0.0411 0.9446 Evaluation Finish\n",
      "53: Data Load Finish, Predict Finish, 7.7204 7.3456 0.1118 0.882 Evaluation Finish\n",
      "54: Data Load Finish, Predict Finish, 4.8619 4.4729 0.0677 0.9257 Evaluation Finish\n",
      "55: Data Load Finish, Predict Finish, 4.9475 4.5637 0.069 0.9244 Evaluation Finish\n",
      "56: Data Load Finish, Predict Finish, 22.319 22.2241 0.3395 0.6588 Evaluation Finish\n",
      "57: Data Load Finish, Predict Finish, 7.0189 6.7583 0.1027 0.8927 Evaluation Finish\n",
      "58: Data Load Finish, Predict Finish, 5.1237 4.7771 0.0723 0.9217 Evaluation Finish\n",
      "59: Data Load Finish, Predict Finish, 5.1168 4.7677 0.0722 0.9218 Evaluation Finish\n",
      "60: Data Load Finish, Predict Finish, 6.4484 5.7751 0.0878 0.9014 Evaluation Finish\n",
      "61: Data Load Finish, Predict Finish, 7.0661 6.4384 0.0979 0.892 Evaluation Finish\n",
      "62: Data Load Finish, Predict Finish, 8.7073 8.3402 0.1267 0.8669 Evaluation Finish\n",
      "63: Data Load Finish, Predict Finish, 4.7559 3.9185 0.0593 0.9273 Evaluation Finish\n",
      "64: Data Load Finish, Predict Finish, 3.0878 2.656 0.04 0.9528 Evaluation Finish\n",
      "65: Data Load Finish, Predict Finish, 4.1333 3.7112 0.056 0.9368 Evaluation Finish\n",
      "66: Data Load Finish, Predict Finish, 1.917 1.5123 0.0235 0.9707 Evaluation Finish\n",
      "67: Data Load Finish, Predict Finish, 2.2029 1.6311 0.0256 0.9663 Evaluation Finish\n",
      "68: Data Load Finish, "
     ]
    },
    {
     "name": "stderr",
     "output_type": "stream",
     "text": [
      "/home/vislab/anaconda3/envs/test/lib/python3.8/site-packages/pandas/core/arraylike.py:364: RuntimeWarning: divide by zero encountered in log\n",
      "  result = getattr(ufunc, method)(*inputs, **kwargs)\n",
      "/home/vislab/anaconda3/envs/test/lib/python3.8/site-packages/statsmodels/base/model.py:604: ConvergenceWarning: Maximum Likelihood optimization failed to converge. Check mle_retvals\n",
      "  warnings.warn(\"Maximum Likelihood optimization failed to \"\n"
     ]
    },
    {
     "name": "stdout",
     "output_type": "stream",
     "text": [
      "Predict Finish, 64.4099 64.3818 0.9847 0.0153 Evaluation Finish\n",
      "69: Data Load Finish, Predict Finish, 4.461 3.621 0.0548 0.9318 Evaluation Finish\n",
      "70: Data Load Finish, Predict Finish, 2.9246 2.4752 0.0373 0.9553 Evaluation Finish\n",
      "71: Data Load Finish, Predict Finish, 4.3163 3.8719 0.0585 0.934 Evaluation Finish\n",
      "72: Data Load Finish, Predict Finish, 6.0729 5.5656 0.0845 0.9072 Evaluation Finish\n",
      "73: Data Load Finish, Predict Finish, 7.4479 7.0157 0.1067 0.8861 Evaluation Finish\n",
      "74: Data Load Finish, Predict Finish, 2.9913 2.3151 0.0362 0.9543 Evaluation Finish\n",
      "75: Data Load Finish, Predict Finish, 18.5365 18.4409 0.2815 0.7166 Evaluation Finish\n",
      "76: Data Load Finish, Predict Finish, 12.111 11.8223 0.1803 0.8148 Evaluation Finish\n",
      "77: Data Load Finish, Predict Finish, 7.5732 7.3011 0.111 0.8842 Evaluation Finish\n",
      "78: Data Load Finish, Predict Finish, 2.6887 2.0822 0.0326 0.9589 Evaluation Finish\n",
      "79: Data Load Finish, Predict Finish, 2.0897 1.6512 0.0258 0.9681 Evaluation Finish\n",
      "80: Data Load Finish, Predict Finish, 2.7866 2.31 0.0348 0.9574 Evaluation Finish\n",
      "81: Data Load Finish, Predict Finish, 7.238 6.7849 0.1032 0.8893 Evaluation Finish\n",
      "82: Data Load Finish, Predict Finish, 4.785 4.0153 0.0608 0.9268 Evaluation Finish\n",
      "83: Data Load Finish, Predict Finish, 4.6442 4.2484 0.0642 0.929 Evaluation Finish\n",
      "84: Data Load Finish, Predict Finish, 10.2412 10.035 0.1529 0.8434 Evaluation Finish\n",
      "85: Data Load Finish, Predict Finish, 2.9672 2.3021 0.036 0.9546 Evaluation Finish\n",
      "86: Data Load Finish, Predict Finish, 10.2077 9.8341 0.1495 0.8439 Evaluation Finish\n",
      "87: Data Load Finish, Predict Finish, 3.9564 3.0903 0.0467 0.9395 Evaluation Finish\n",
      "88: Data Load Finish, Predict Finish, 2.7112 2.3327 0.0353 0.9585 Evaluation Finish\n",
      "89: Data Load Finish, Predict Finish, 2.0165 1.7484 0.027 0.9692 Evaluation Finish\n",
      "90: Data Load Finish, Predict Finish, 2.3699 1.7071 0.0269 0.9638 Evaluation Finish\n",
      "91: Data Load Finish, Predict Finish, 18.888 18.7002 0.2856 0.7112 Evaluation Finish\n",
      "92: Data Load Finish, Predict Finish, 2.8015 2.1481 0.0337 0.9572 Evaluation Finish\n",
      "93: Data Load Finish, Predict Finish, 3.0469 2.6033 0.0392 0.9534 Evaluation Finish\n",
      "94: Data Load Finish, Predict Finish, 2.6166 2.1323 0.0323 0.96 Evaluation Finish\n",
      "95: Data Load Finish, Predict Finish, 9.9901 9.8044 0.1493 0.8473 Evaluation Finish\n",
      "96: Data Load Finish, Predict Finish, 2.511 1.9967 0.0312 0.9616 Evaluation Finish\n",
      "97: Data Load Finish, Predict Finish, 2.0304 1.7556 0.0272 0.969 Evaluation Finish\n",
      "98: Data Load Finish, Predict Finish, 6.365 6.0038 0.0912 0.9027 Evaluation Finish\n",
      "99: Data Load Finish, Predict Finish, 2.5643 1.8901 0.0297 0.9608 Evaluation Finish\n",
      "100: Data Load Finish, Predict Finish, 6.5817 5.9991 0.0912 0.8994 Evaluation Finish\n",
      "101: Data Load Finish, Predict Finish, 6.3001 5.95 0.0903 0.9037 Evaluation Finish\n",
      "102: Data Load Finish, Predict Finish, 4.8616 4.4229 0.0669 0.9257 Evaluation Finish\n",
      "103: Data Load Finish, Predict Finish, 2.5281 2.0966 0.0318 0.9613 Evaluation Finish\n",
      "104: Data Load Finish, Predict Finish, 2.4198 2.022 0.0307 0.963 Evaluation Finish\n",
      "105: Data Load Finish, Predict Finish, 2.6658 2.0479 0.0321 0.9592 Evaluation Finish\n",
      "106: Data Load Finish, Predict Finish, 3.0185 2.3739 0.0371 0.9539 Evaluation Finish\n",
      "107: Data Load Finish, Predict Finish, 2.9542 2.2623 0.0355 0.9548 Evaluation Finish\n",
      "108: Data Load Finish, Predict Finish, 3.7611 3.2669 0.0508 0.9425 Evaluation Finish\n",
      "109: Data Load Finish, Predict Finish, 7.2198 6.977 0.106 0.8896 Evaluation Finish\n",
      "110: Data Load Finish, Predict Finish, 1.8862 1.6239 0.025 0.9712 Evaluation Finish\n",
      "111: Data Load Finish, Predict Finish, 2.1419 1.8434 0.0286 0.9673 Evaluation Finish\n",
      "112: Data Load Finish, Predict Finish, 7.5365 7.2356 0.11 0.8848 Evaluation Finish\n",
      "113: Data Load Finish, Predict Finish, 6.6901 6.203 0.0943 0.8977 Evaluation Finish\n",
      "114: Data Load Finish, Predict Finish, 2.1177 1.8996 0.0289 0.9676 Evaluation Finish\n",
      "115: Data Load Finish, Predict Finish, 2.2157 1.9498 0.0297 0.9661 Evaluation Finish\n",
      "116: Data Load Finish, Predict Finish, 2.9458 2.4506 0.0369 0.955 Evaluation Finish\n",
      "117: Data Load Finish, Predict Finish, 1.9814 1.718 0.0265 0.9697 Evaluation Finish\n",
      "118: Data Load Finish, Predict Finish, 1.9953 1.5453 0.0241 0.9695 Evaluation Finish\n",
      "119: Data Load Finish, Predict Finish, 2.511 1.9573 0.0306 0.9616 Evaluation Finish\n",
      "120: Data Load Finish, "
     ]
    },
    {
     "name": "stderr",
     "output_type": "stream",
     "text": [
      "/home/vislab/anaconda3/envs/test/lib/python3.8/site-packages/pandas/core/arraylike.py:364: RuntimeWarning: divide by zero encountered in log\n",
      "  result = getattr(ufunc, method)(*inputs, **kwargs)\n",
      "/home/vislab/anaconda3/envs/test/lib/python3.8/site-packages/statsmodels/base/model.py:604: ConvergenceWarning: Maximum Likelihood optimization failed to converge. Check mle_retvals\n",
      "  warnings.warn(\"Maximum Likelihood optimization failed to \"\n"
     ]
    },
    {
     "name": "stdout",
     "output_type": "stream",
     "text": [
      "Predict Finish, 64.4099 64.3818 0.9847 0.0153 Evaluation Finish\n",
      "121: Data Load Finish, Predict Finish, 7.7653 7.353 0.1116 0.8813 Evaluation Finish\n",
      "122: Data Load Finish, Predict Finish, 1.9066 1.5902 0.0245 0.9709 Evaluation Finish\n",
      "123: Data Load Finish, Predict Finish, 2.9374 2.2945 0.0359 0.9551 Evaluation Finish\n",
      "124: Data Load Finish, Predict Finish, 7.527 7.2204 0.1098 0.8849 Evaluation Finish\n",
      "125: Data Load Finish, "
     ]
    },
    {
     "name": "stderr",
     "output_type": "stream",
     "text": [
      "/home/vislab/anaconda3/envs/test/lib/python3.8/site-packages/pandas/core/arraylike.py:364: RuntimeWarning: divide by zero encountered in log\n",
      "  result = getattr(ufunc, method)(*inputs, **kwargs)\n",
      "/home/vislab/anaconda3/envs/test/lib/python3.8/site-packages/statsmodels/base/model.py:604: ConvergenceWarning: Maximum Likelihood optimization failed to converge. Check mle_retvals\n",
      "  warnings.warn(\"Maximum Likelihood optimization failed to \"\n"
     ]
    },
    {
     "name": "stdout",
     "output_type": "stream",
     "text": [
      "Predict Finish, 64.4099 64.3818 0.9847 0.0153 Evaluation Finish\n",
      "126: Data Load Finish, Predict Finish, 10.8003 10.3636 0.1576 0.8349 Evaluation Finish\n",
      "127: Data Load Finish, Predict Finish, 4.2642 3.3238 0.0503 0.9348 Evaluation Finish\n",
      "128: Data Load Finish, Predict Finish, 2.3843 2.0019 0.0304 0.9635 Evaluation Finish\n",
      "129: Data Load Finish, Predict Finish, 5.062 4.7073 0.0713 0.9226 Evaluation Finish\n",
      "130: Data Load Finish, Predict Finish, 4.8384 4.2693 0.0647 0.926 Evaluation Finish\n",
      "131: Data Load Finish, Predict Finish, 6.5163 6.0293 0.0916 0.9004 Evaluation Finish\n",
      "132: Data Load Finish, Predict Finish, 3.384 2.807 0.0438 0.9483 Evaluation Finish\n",
      "133: Data Load Finish, Predict Finish, 6.3385 5.9875 0.0909 0.9031 Evaluation Finish\n",
      "134: Data Load Finish, Predict Finish, 3.7479 2.9467 0.0444 0.9427 Evaluation Finish\n",
      "135: Data Load Finish, Predict Finish, 2.5588 2.089 0.0316 0.9609 Evaluation Finish\n",
      "136: Data Load Finish, Predict Finish, 1.9647 1.7005 0.0262 0.97 Evaluation Finish\n",
      "137: Data Load Finish, Predict Finish, 8.0844 7.6318 0.1162 0.8764 Evaluation Finish\n",
      "138: Data Load Finish, Predict Finish, 39.0871 38.5383 0.5886 0.4024 Evaluation Finish\n",
      "139: Data Load Finish, Predict Finish, 7.3991 7.0057 0.1066 0.8869 Evaluation Finish\n",
      "140: Data Load Finish, Predict Finish, 7.6819 7.2306 0.11 0.8826 Evaluation Finish\n",
      "141: Data Load Finish, "
     ]
    },
    {
     "name": "stderr",
     "output_type": "stream",
     "text": [
      "/home/vislab/anaconda3/envs/test/lib/python3.8/site-packages/pandas/core/arraylike.py:364: RuntimeWarning: divide by zero encountered in log\n",
      "  result = getattr(ufunc, method)(*inputs, **kwargs)\n",
      "/home/vislab/anaconda3/envs/test/lib/python3.8/site-packages/statsmodels/base/model.py:604: ConvergenceWarning: Maximum Likelihood optimization failed to converge. Check mle_retvals\n",
      "  warnings.warn(\"Maximum Likelihood optimization failed to \"\n"
     ]
    },
    {
     "name": "stdout",
     "output_type": "stream",
     "text": [
      "Predict Finish, 64.4099 64.3818 0.9847 0.0153 Evaluation Finish\n",
      "142: Data Load Finish, Predict Finish, 5.7259 5.4125 0.082 0.9125 Evaluation Finish\n",
      "143: Data Load Finish, "
     ]
    },
    {
     "name": "stderr",
     "output_type": "stream",
     "text": [
      "/home/vislab/anaconda3/envs/test/lib/python3.8/site-packages/pandas/core/arraylike.py:364: RuntimeWarning: divide by zero encountered in log\n",
      "  result = getattr(ufunc, method)(*inputs, **kwargs)\n",
      "/home/vislab/anaconda3/envs/test/lib/python3.8/site-packages/statsmodels/base/model.py:604: ConvergenceWarning: Maximum Likelihood optimization failed to converge. Check mle_retvals\n",
      "  warnings.warn(\"Maximum Likelihood optimization failed to \"\n"
     ]
    },
    {
     "name": "stdout",
     "output_type": "stream",
     "text": [
      "Predict Finish, 64.4099 64.3818 0.9847 0.0153 Evaluation Finish\n",
      "144: Data Load Finish, "
     ]
    },
    {
     "name": "stderr",
     "output_type": "stream",
     "text": [
      "/home/vislab/anaconda3/envs/test/lib/python3.8/site-packages/pandas/core/arraylike.py:364: RuntimeWarning: divide by zero encountered in log\n",
      "  result = getattr(ufunc, method)(*inputs, **kwargs)\n",
      "/home/vislab/anaconda3/envs/test/lib/python3.8/site-packages/statsmodels/base/model.py:604: ConvergenceWarning: Maximum Likelihood optimization failed to converge. Check mle_retvals\n",
      "  warnings.warn(\"Maximum Likelihood optimization failed to \"\n"
     ]
    },
    {
     "name": "stdout",
     "output_type": "stream",
     "text": [
      "Predict Finish, 64.4099 64.3818 0.9847 0.0153 Evaluation Finish\n",
      "145: Data Load Finish, Predict Finish, 2.2245 1.7956 0.028 0.966 Evaluation Finish\n",
      "146: Data Load Finish, Predict Finish, 4.8044 4.0395 0.0612 0.9265 Evaluation Finish\n",
      "147: Data Load Finish, Predict Finish, 9.0897 8.5956 0.1305 0.861 Evaluation Finish\n",
      "148: Data Load Finish, Predict Finish, 3.763 2.8322 0.0427 0.9425 Evaluation Finish\n",
      "149: Data Load Finish, Predict Finish, 2.5519 2.1532 0.0334 0.961 Evaluation Finish\n",
      "150: Data Load Finish, Predict Finish, 6.0298 5.1506 0.0783 0.9078 Evaluation Finish\n",
      "151: Data Load Finish, Predict Finish, 5.4051 4.9902 0.0756 0.9174 Evaluation Finish\n",
      "152: Data Load Finish, Predict Finish, 3.7767 3.2745 0.0494 0.9423 Evaluation Finish\n",
      "153: Data Load Finish, Predict Finish, 2.493 2.0238 0.0306 0.9619 Evaluation Finish\n",
      "154: Data Load Finish, "
     ]
    },
    {
     "name": "stderr",
     "output_type": "stream",
     "text": [
      "/home/vislab/anaconda3/envs/test/lib/python3.8/site-packages/pandas/core/arraylike.py:364: RuntimeWarning: divide by zero encountered in log\n",
      "  result = getattr(ufunc, method)(*inputs, **kwargs)\n",
      "/home/vislab/anaconda3/envs/test/lib/python3.8/site-packages/statsmodels/base/model.py:604: ConvergenceWarning: Maximum Likelihood optimization failed to converge. Check mle_retvals\n",
      "  warnings.warn(\"Maximum Likelihood optimization failed to \"\n"
     ]
    },
    {
     "name": "stdout",
     "output_type": "stream",
     "text": [
      "Predict Finish, 64.4099 64.3818 0.9847 0.0153 Evaluation Finish\n",
      "155: Data Load Finish, Predict Finish, 6.1055 5.1239 0.0779 0.9067 Evaluation Finish\n",
      "156: Data Load Finish, Predict Finish, 10.3359 10.1391 0.1543 0.842 Evaluation Finish\n",
      "157: Data Load Finish, "
     ]
    },
    {
     "name": "stderr",
     "output_type": "stream",
     "text": [
      "/home/vislab/anaconda3/envs/test/lib/python3.8/site-packages/pandas/core/arraylike.py:364: RuntimeWarning: divide by zero encountered in log\n",
      "  result = getattr(ufunc, method)(*inputs, **kwargs)\n",
      "/home/vislab/anaconda3/envs/test/lib/python3.8/site-packages/statsmodels/base/model.py:604: ConvergenceWarning: Maximum Likelihood optimization failed to converge. Check mle_retvals\n",
      "  warnings.warn(\"Maximum Likelihood optimization failed to \"\n"
     ]
    },
    {
     "name": "stdout",
     "output_type": "stream",
     "text": [
      "Predict Finish, 64.4099 64.3818 0.9847 0.0153 Evaluation Finish\n",
      "158: Data Load Finish, Predict Finish, 5.223 4.2356 0.0643 0.9201 Evaluation Finish\n",
      "159: Data Load Finish, Predict Finish, 7.6127 6.874 0.1047 0.8836 Evaluation Finish\n",
      "160: Data Load Finish, Predict Finish, 7.2163 5.9471 0.0905 0.8897 Evaluation Finish\n",
      "161: Data Load Finish, Predict Finish, 2.7229 2.2274 0.0347 0.9584 Evaluation Finish\n",
      "162: Data Load Finish, Predict Finish, 2.0381 1.7414 0.027 0.9688 Evaluation Finish\n",
      "163: Data Load Finish, Predict Finish, 6.7523 5.5275 0.0841 0.8968 Evaluation Finish\n",
      "164: Data Load Finish, Predict Finish, 6.6536 6.1349 0.0933 0.8983 Evaluation Finish\n",
      "165: Data Load Finish, Predict Finish, 19.8609 19.7603 0.3016 0.6964 Evaluation Finish\n",
      "166: Data Load Finish, Predict Finish, 2.3803 2.0492 0.0317 0.9636 Evaluation Finish\n",
      "167: Data Load Finish, Predict Finish, 2.2679 1.8297 0.0286 0.9653 Evaluation Finish\n",
      "168: Data Load Finish, Predict Finish, 1.8868 1.5671 0.0242 0.9712 Evaluation Finish\n",
      "169: Data Load Finish, Predict Finish, 1.8606 1.5581 0.024 0.9716 Evaluation Finish\n",
      "170: Data Load Finish, "
     ]
    },
    {
     "name": "stderr",
     "output_type": "stream",
     "text": [
      "/home/vislab/anaconda3/envs/test/lib/python3.8/site-packages/pandas/core/arraylike.py:364: RuntimeWarning: divide by zero encountered in log\n",
      "  result = getattr(ufunc, method)(*inputs, **kwargs)\n",
      "/home/vislab/anaconda3/envs/test/lib/python3.8/site-packages/statsmodels/base/model.py:604: ConvergenceWarning: Maximum Likelihood optimization failed to converge. Check mle_retvals\n",
      "  warnings.warn(\"Maximum Likelihood optimization failed to \"\n"
     ]
    },
    {
     "name": "stdout",
     "output_type": "stream",
     "text": [
      "Predict Finish, 64.4099 64.3818 0.9847 0.0153 Evaluation Finish\n",
      "171: Data Load Finish, Predict Finish, 1.929 1.5115 0.0235 0.9705 Evaluation Finish\n",
      "172: Data Load Finish, Predict Finish, 19.794 19.4172 0.2961 0.6974 Evaluation Finish\n",
      "173: Data Load Finish, Predict Finish, 1.8754 1.4895 0.0231 0.9713 Evaluation Finish\n",
      "174: Data Load Finish, Predict Finish, 7.5673 7.2482 0.1102 0.8843 Evaluation Finish\n",
      "175: Data Load Finish, Predict Finish, 2.3223 2.0605 0.0318 0.9645 Evaluation Finish\n",
      "176: Data Load Finish, Predict Finish, 2.0553 1.6427 0.0256 0.9686 Evaluation Finish\n",
      "177: Data Load Finish, Predict Finish, 3.7211 3.3219 0.0501 0.9431 Evaluation Finish\n",
      "178: Data Load Finish, Predict Finish, 1.9357 1.7106 0.0263 0.9704 Evaluation Finish\n",
      "179: Data Load Finish, Predict Finish, 10.0127 9.8212 0.1495 0.8469 Evaluation Finish\n",
      "180: Data Load Finish, Predict Finish, 6.5455 6.2055 0.0943 0.8999 Evaluation Finish\n",
      "181: Data Load Finish, Predict Finish, 6.3674 6.0893 0.0924 0.9027 Evaluation Finish\n",
      "182: Data Load Finish, Predict Finish, 1.9071 1.631 0.0251 0.9708 Evaluation Finish\n",
      "183: Data Load Finish, Predict Finish, 2.8205 2.0546 0.0323 0.9569 Evaluation Finish\n",
      "184: Data Load Finish, Predict Finish, 2.1027 1.8876 0.0288 0.9679 Evaluation Finish\n",
      "185: Data Load Finish, Predict Finish, 2.1114 1.8137 0.0277 0.9677 Evaluation Finish\n",
      "186: Data Load Finish, Predict Finish, 2.6025 2.1467 0.0325 0.9602 Evaluation Finish\n",
      "187: Data Load Finish, Predict Finish, 16.0106 15.7004 0.2398 0.7552 Evaluation Finish\n",
      "188: Data Load Finish, Predict Finish, 6.3622 6.065 0.092 0.9027 Evaluation Finish\n",
      "189: Data Load Finish, Predict Finish, 4.9158 4.4336 0.0669 0.9248 Evaluation Finish\n",
      "190: Data Load Finish, Predict Finish, 3.9606 3.1227 0.0471 0.9394 Evaluation Finish\n",
      "191: Data Load Finish, Predict Finish, 10.2228 9.3897 0.1433 0.8437 Evaluation Finish\n",
      "192: Data Load Finish, Predict Finish, 4.4763 3.9226 0.0593 0.9316 Evaluation Finish\n",
      "193: Data Load Finish, Predict Finish, 10.8335 10.0167 0.1529 0.8344 Evaluation Finish\n",
      "194: Data Load Finish, Predict Finish, 9.0785 8.8863 0.1352 0.8612 Evaluation Finish\n",
      "195: Data Load Finish, Predict Finish, 2.1015 1.8993 0.0292 0.9679 Evaluation Finish\n",
      "196: Data Load Finish, Predict Finish, 61.6529 61.5871 0.9418 0.0574 Evaluation Finish\n",
      "197: Data Load Finish, Predict Finish, 21.3796 21.2251 0.3243 0.6731 Evaluation Finish\n",
      "198: Data Load Finish, Predict Finish, 1.9594 1.6631 0.0257 0.97 Evaluation Finish\n",
      "199: Data Load Finish, Predict Finish, 3.685 3.0574 0.046 0.9437 Evaluation Finish\n",
      "200: Data Load Finish, Predict Finish, 3.3032 2.8719 0.0435 0.9495 Evaluation Finish\n",
      "201: Data Load Finish, Predict Finish, 2.659 2.1329 0.0333 0.9593 Evaluation Finish\n",
      "202: Data Load Finish, Predict Finish, 3.5046 3.1176 0.047 0.9464 Evaluation Finish\n",
      "203: Data Load Finish, Predict Finish, 2.6334 1.9926 0.0313 0.9597 Evaluation Finish\n",
      "204: Data Load Finish, Predict Finish, 2.9924 2.308 0.0348 0.9543 Evaluation Finish\n",
      "205: Data Load Finish, Predict Finish, 2.3766 2.0185 0.0306 0.9637 Evaluation Finish\n",
      "206: Data Load Finish, Predict Finish, 6.7619 6.2994 0.0957 0.8966 Evaluation Finish\n",
      "RMSE: 8.977398272451538, MAE: 8.552259301898241, MAPE: 0.13053937101972193\n",
      "ACC: 0.8627507439209753\n"
     ]
    }
   ],
   "source": [
    "predictARIMA(df, idx, 12)"
   ]
  },
  {
   "cell_type": "markdown",
   "id": "dcb35d64",
   "metadata": {},
   "source": [
    "### Unobserved Nodes = 10%"
   ]
  },
  {
   "cell_type": "code",
   "execution_count": 12,
   "id": "83ad788d",
   "metadata": {},
   "outputs": [
    {
     "name": "stdout",
     "output_type": "stream",
     "text": [
      "34272 207\n"
     ]
    },
    {
     "data": {
      "text/plain": [
       "685440"
      ]
     },
     "execution_count": 12,
     "metadata": {},
     "output_type": "execute_result"
    }
   ],
   "source": [
    "df, idx = csvIndexToDatetime(path_10, start, freq)\n",
    "(df == 0).sum().sum()"
   ]
  },
  {
   "cell_type": "code",
   "execution_count": 13,
   "id": "010ff399",
   "metadata": {
    "scrolled": false
   },
   "outputs": [
    {
     "name": "stdout",
     "output_type": "stream",
     "text": [
      "0: Data Load Finish, Predict Finish, 3.4707 3.0431 0.0459 0.9469 Evaluation Finish\n",
      "1: Data Load Finish, Predict Finish, 1.9184 1.6184 0.0248 0.9707 Evaluation Finish\n",
      "2: Data Load Finish, Predict Finish, 2.3336 1.8341 0.0287 0.9643 Evaluation Finish\n",
      "3: Data Load Finish, Predict Finish, 10.7139 10.5024 0.1601 0.8362 Evaluation Finish\n",
      "4: Data Load Finish, Predict Finish, 27.7005 27.5059 0.42 0.5765 Evaluation Finish\n",
      "5: Data Load Finish, Predict Finish, 10.032 9.805 0.1494 0.8466 Evaluation Finish\n",
      "6: Data Load Finish, "
     ]
    },
    {
     "name": "stderr",
     "output_type": "stream",
     "text": [
      "/home/vislab/anaconda3/envs/test/lib/python3.8/site-packages/pandas/core/arraylike.py:364: RuntimeWarning: divide by zero encountered in log\n",
      "  result = getattr(ufunc, method)(*inputs, **kwargs)\n",
      "/home/vislab/anaconda3/envs/test/lib/python3.8/site-packages/statsmodels/base/model.py:604: ConvergenceWarning: Maximum Likelihood optimization failed to converge. Check mle_retvals\n",
      "  warnings.warn(\"Maximum Likelihood optimization failed to \"\n"
     ]
    },
    {
     "name": "stdout",
     "output_type": "stream",
     "text": [
      "Predict Finish, 64.4099 64.3818 0.9847 0.0153 Evaluation Finish\n",
      "7: Data Load Finish, Predict Finish, 2.6725 2.3367 0.0353 0.9591 Evaluation Finish\n",
      "8: Data Load Finish, Predict Finish, 3.3223 2.6995 0.0406 0.9492 Evaluation Finish\n",
      "9: Data Load Finish, "
     ]
    },
    {
     "name": "stderr",
     "output_type": "stream",
     "text": [
      "/home/vislab/anaconda3/envs/test/lib/python3.8/site-packages/pandas/core/arraylike.py:364: RuntimeWarning: divide by zero encountered in log\n",
      "  result = getattr(ufunc, method)(*inputs, **kwargs)\n",
      "/home/vislab/anaconda3/envs/test/lib/python3.8/site-packages/statsmodels/base/model.py:604: ConvergenceWarning: Maximum Likelihood optimization failed to converge. Check mle_retvals\n",
      "  warnings.warn(\"Maximum Likelihood optimization failed to \"\n"
     ]
    },
    {
     "name": "stdout",
     "output_type": "stream",
     "text": [
      "Predict Finish, 64.4099 64.3818 0.9847 0.0153 Evaluation Finish\n",
      "10: Data Load Finish, Predict Finish, 5.2433 4.9067 0.0743 0.9198 Evaluation Finish\n",
      "11: Data Load Finish, "
     ]
    },
    {
     "name": "stderr",
     "output_type": "stream",
     "text": [
      "/home/vislab/anaconda3/envs/test/lib/python3.8/site-packages/pandas/core/arraylike.py:364: RuntimeWarning: divide by zero encountered in log\n",
      "  result = getattr(ufunc, method)(*inputs, **kwargs)\n",
      "/home/vislab/anaconda3/envs/test/lib/python3.8/site-packages/statsmodels/base/model.py:604: ConvergenceWarning: Maximum Likelihood optimization failed to converge. Check mle_retvals\n",
      "  warnings.warn(\"Maximum Likelihood optimization failed to \"\n"
     ]
    },
    {
     "name": "stdout",
     "output_type": "stream",
     "text": [
      "Predict Finish, 64.4099 64.3818 0.9847 0.0153 Evaluation Finish\n",
      "12: Data Load Finish, Predict Finish, 10.0923 9.2579 0.1412 0.8457 Evaluation Finish\n",
      "13: Data Load Finish, Predict Finish, 1.9165 1.6494 0.0253 0.9707 Evaluation Finish\n",
      "14: Data Load Finish, Predict Finish, 10.1369 9.9609 0.1517 0.845 Evaluation Finish\n",
      "15: Data Load Finish, "
     ]
    },
    {
     "name": "stderr",
     "output_type": "stream",
     "text": [
      "/home/vislab/anaconda3/envs/test/lib/python3.8/site-packages/pandas/core/arraylike.py:364: RuntimeWarning: divide by zero encountered in log\n",
      "  result = getattr(ufunc, method)(*inputs, **kwargs)\n",
      "/home/vislab/anaconda3/envs/test/lib/python3.8/site-packages/statsmodels/base/model.py:604: ConvergenceWarning: Maximum Likelihood optimization failed to converge. Check mle_retvals\n",
      "  warnings.warn(\"Maximum Likelihood optimization failed to \"\n"
     ]
    },
    {
     "name": "stdout",
     "output_type": "stream",
     "text": [
      "Predict Finish, 64.4099 64.3818 0.9847 0.0153 Evaluation Finish\n",
      "16: Data Load Finish, Predict Finish, 45.6297 45.4463 0.6945 0.3024 Evaluation Finish\n",
      "17: Data Load Finish, Predict Finish, 5.8108 5.338 0.081 0.9112 Evaluation Finish\n",
      "18: Data Load Finish, Predict Finish, 10.8568 10.6399 0.1619 0.834 Evaluation Finish\n",
      "19: Data Load Finish, Predict Finish, 4.2523 3.7315 0.0564 0.935 Evaluation Finish\n",
      "20: Data Load Finish, Predict Finish, 2.1265 1.8087 0.0281 0.9675 Evaluation Finish\n",
      "21: Data Load Finish, Predict Finish, 5.7693 5.451 0.0826 0.9118 Evaluation Finish\n",
      "22: Data Load Finish, Predict Finish, 14.5923 14.4396 0.2203 0.7769 Evaluation Finish\n",
      "23: Data Load Finish, "
     ]
    },
    {
     "name": "stderr",
     "output_type": "stream",
     "text": [
      "/home/vislab/anaconda3/envs/test/lib/python3.8/site-packages/pandas/core/arraylike.py:364: RuntimeWarning: divide by zero encountered in log\n",
      "  result = getattr(ufunc, method)(*inputs, **kwargs)\n",
      "/home/vislab/anaconda3/envs/test/lib/python3.8/site-packages/statsmodels/base/model.py:604: ConvergenceWarning: Maximum Likelihood optimization failed to converge. Check mle_retvals\n",
      "  warnings.warn(\"Maximum Likelihood optimization failed to \"\n"
     ]
    },
    {
     "name": "stdout",
     "output_type": "stream",
     "text": [
      "Predict Finish, 64.4099 64.3818 0.9847 0.0153 Evaluation Finish\n",
      "24: Data Load Finish, Predict Finish, 2.0049 1.7312 0.0265 0.9693 Evaluation Finish\n",
      "25: Data Load Finish, Predict Finish, 9.9009 9.7226 0.148 0.8486 Evaluation Finish\n",
      "26: Data Load Finish, Predict Finish, 10.6255 10.361 0.1579 0.8376 Evaluation Finish\n",
      "27: Data Load Finish, "
     ]
    },
    {
     "name": "stderr",
     "output_type": "stream",
     "text": [
      "/home/vislab/anaconda3/envs/test/lib/python3.8/site-packages/pandas/core/arraylike.py:364: RuntimeWarning: divide by zero encountered in log\n",
      "  result = getattr(ufunc, method)(*inputs, **kwargs)\n",
      "/home/vislab/anaconda3/envs/test/lib/python3.8/site-packages/statsmodels/base/model.py:604: ConvergenceWarning: Maximum Likelihood optimization failed to converge. Check mle_retvals\n",
      "  warnings.warn(\"Maximum Likelihood optimization failed to \"\n"
     ]
    },
    {
     "name": "stdout",
     "output_type": "stream",
     "text": [
      "Predict Finish, 64.4099 64.3818 0.9847 0.0153 Evaluation Finish\n",
      "28: Data Load Finish, Predict Finish, 3.4934 2.9382 0.0458 0.9466 Evaluation Finish\n",
      "29: Data Load Finish, Predict Finish, 6.8907 6.2235 0.0946 0.8947 Evaluation Finish\n",
      "30: Data Load Finish, Predict Finish, 6.2708 5.9921 0.0909 0.9041 Evaluation Finish\n",
      "31: Data Load Finish, Predict Finish, 1.9557 1.5279 0.0238 0.9701 Evaluation Finish\n",
      "32: Data Load Finish, Predict Finish, 2.0198 1.7592 0.0272 0.9691 Evaluation Finish\n",
      "33: Data Load Finish, Predict Finish, 4.0089 3.3682 0.0509 0.9387 Evaluation Finish\n",
      "34: Data Load Finish, Predict Finish, 2.0318 1.8031 0.0276 0.9689 Evaluation Finish\n",
      "35: Data Load Finish, Predict Finish, 4.943 4.5813 0.0693 0.9244 Evaluation Finish\n",
      "36: Data Load Finish, Predict Finish, 2.7255 2.4336 0.0369 0.9583 Evaluation Finish\n",
      "37: Data Load Finish, Predict Finish, 1.9574 1.684 0.0258 0.9701 Evaluation Finish\n",
      "38: Data Load Finish, Predict Finish, 7.8991 7.2179 0.1099 0.8792 Evaluation Finish\n",
      "39: Data Load Finish, Predict Finish, 6.0901 5.773 0.0876 0.9069 Evaluation Finish\n",
      "40: Data Load Finish, Predict Finish, 2.0012 1.7014 0.0264 0.9694 Evaluation Finish\n",
      "41: Data Load Finish, Predict Finish, 3.5109 2.7383 0.0412 0.9463 Evaluation Finish\n",
      "42: Data Load Finish, Predict Finish, 2.3164 1.9981 0.0304 0.9646 Evaluation Finish\n",
      "43: Data Load Finish, Predict Finish, 4.9133 4.2526 0.0644 0.9249 Evaluation Finish\n",
      "44: Data Load Finish, Predict Finish, 2.6144 2.0755 0.0324 0.96 Evaluation Finish\n",
      "45: Data Load Finish, Predict Finish, 2.1384 1.7074 0.0267 0.9673 Evaluation Finish\n",
      "46: Data Load Finish, Predict Finish, 4.5159 4.0815 0.0616 0.931 Evaluation Finish\n",
      "47: Data Load Finish, Predict Finish, 6.5147 5.8472 0.0889 0.9004 Evaluation Finish\n",
      "48: Data Load Finish, Predict Finish, 13.3071 13.165 0.2007 0.7966 Evaluation Finish\n",
      "49: Data Load Finish, Predict Finish, 5.0539 4.699 0.0711 0.9227 Evaluation Finish\n",
      "50: Data Load Finish, Predict Finish, 6.616 6.3528 0.0964 0.8989 Evaluation Finish\n",
      "51: Data Load Finish, "
     ]
    },
    {
     "name": "stderr",
     "output_type": "stream",
     "text": [
      "/home/vislab/anaconda3/envs/test/lib/python3.8/site-packages/pandas/core/arraylike.py:364: RuntimeWarning: divide by zero encountered in log\n",
      "  result = getattr(ufunc, method)(*inputs, **kwargs)\n",
      "/home/vislab/anaconda3/envs/test/lib/python3.8/site-packages/statsmodels/base/model.py:604: ConvergenceWarning: Maximum Likelihood optimization failed to converge. Check mle_retvals\n",
      "  warnings.warn(\"Maximum Likelihood optimization failed to \"\n"
     ]
    },
    {
     "name": "stdout",
     "output_type": "stream",
     "text": [
      "Predict Finish, 64.4099 64.3818 0.9847 0.0153 Evaluation Finish\n",
      "52: Data Load Finish, Predict Finish, 3.6233 2.7285 0.0411 0.9446 Evaluation Finish\n",
      "53: Data Load Finish, "
     ]
    },
    {
     "name": "stderr",
     "output_type": "stream",
     "text": [
      "/home/vislab/anaconda3/envs/test/lib/python3.8/site-packages/pandas/core/arraylike.py:364: RuntimeWarning: divide by zero encountered in log\n",
      "  result = getattr(ufunc, method)(*inputs, **kwargs)\n",
      "/home/vislab/anaconda3/envs/test/lib/python3.8/site-packages/statsmodels/base/model.py:604: ConvergenceWarning: Maximum Likelihood optimization failed to converge. Check mle_retvals\n",
      "  warnings.warn(\"Maximum Likelihood optimization failed to \"\n"
     ]
    },
    {
     "name": "stdout",
     "output_type": "stream",
     "text": [
      "Predict Finish, 64.4099 64.3818 0.9847 0.0153 Evaluation Finish\n",
      "54: Data Load Finish, Predict Finish, 4.8619 4.4729 0.0677 0.9257 Evaluation Finish\n",
      "55: Data Load Finish, Predict Finish, 4.9475 4.5637 0.069 0.9244 Evaluation Finish\n",
      "56: Data Load Finish, Predict Finish, 22.319 22.2241 0.3395 0.6588 Evaluation Finish\n",
      "57: Data Load Finish, Predict Finish, 7.0189 6.7583 0.1027 0.8927 Evaluation Finish\n",
      "58: Data Load Finish, Predict Finish, 5.1237 4.7771 0.0723 0.9217 Evaluation Finish\n",
      "59: Data Load Finish, "
     ]
    },
    {
     "name": "stderr",
     "output_type": "stream",
     "text": [
      "/home/vislab/anaconda3/envs/test/lib/python3.8/site-packages/pandas/core/arraylike.py:364: RuntimeWarning: divide by zero encountered in log\n",
      "  result = getattr(ufunc, method)(*inputs, **kwargs)\n",
      "/home/vislab/anaconda3/envs/test/lib/python3.8/site-packages/statsmodels/base/model.py:604: ConvergenceWarning: Maximum Likelihood optimization failed to converge. Check mle_retvals\n",
      "  warnings.warn(\"Maximum Likelihood optimization failed to \"\n"
     ]
    },
    {
     "name": "stdout",
     "output_type": "stream",
     "text": [
      "Predict Finish, 64.4099 64.3818 0.9847 0.0153 Evaluation Finish\n",
      "60: Data Load Finish, Predict Finish, 6.4484 5.7751 0.0878 0.9014 Evaluation Finish\n",
      "61: Data Load Finish, Predict Finish, 7.0661 6.4384 0.0979 0.892 Evaluation Finish\n",
      "62: Data Load Finish, Predict Finish, 8.7073 8.3402 0.1267 0.8669 Evaluation Finish\n",
      "63: Data Load Finish, Predict Finish, 4.7559 3.9185 0.0593 0.9273 Evaluation Finish\n",
      "64: Data Load Finish, Predict Finish, 3.0878 2.656 0.04 0.9528 Evaluation Finish\n",
      "65: Data Load Finish, Predict Finish, 4.1333 3.7112 0.056 0.9368 Evaluation Finish\n",
      "66: Data Load Finish, "
     ]
    },
    {
     "name": "stderr",
     "output_type": "stream",
     "text": [
      "/home/vislab/anaconda3/envs/test/lib/python3.8/site-packages/pandas/core/arraylike.py:364: RuntimeWarning: divide by zero encountered in log\n",
      "  result = getattr(ufunc, method)(*inputs, **kwargs)\n",
      "/home/vislab/anaconda3/envs/test/lib/python3.8/site-packages/statsmodels/base/model.py:604: ConvergenceWarning: Maximum Likelihood optimization failed to converge. Check mle_retvals\n",
      "  warnings.warn(\"Maximum Likelihood optimization failed to \"\n"
     ]
    },
    {
     "name": "stdout",
     "output_type": "stream",
     "text": [
      "Predict Finish, 64.4099 64.3818 0.9847 0.0153 Evaluation Finish\n",
      "67: Data Load Finish, Predict Finish, 2.2029 1.6311 0.0256 0.9663 Evaluation Finish\n",
      "68: Data Load Finish, Predict Finish, 2.3936 2.017 0.0313 0.9634 Evaluation Finish\n",
      "69: Data Load Finish, Predict Finish, 4.461 3.621 0.0548 0.9318 Evaluation Finish\n",
      "70: Data Load Finish, Predict Finish, 2.9246 2.4752 0.0373 0.9553 Evaluation Finish\n",
      "71: Data Load Finish, Predict Finish, 4.3163 3.8719 0.0585 0.934 Evaluation Finish\n",
      "72: Data Load Finish, Predict Finish, 6.0729 5.5656 0.0845 0.9072 Evaluation Finish\n",
      "73: Data Load Finish, Predict Finish, 7.4479 7.0157 0.1067 0.8861 Evaluation Finish\n",
      "74: Data Load Finish, Predict Finish, 2.9913 2.3151 0.0362 0.9543 Evaluation Finish\n",
      "75: Data Load Finish, Predict Finish, 18.5365 18.4409 0.2815 0.7166 Evaluation Finish\n",
      "76: Data Load Finish, Predict Finish, 12.111 11.8223 0.1803 0.8148 Evaluation Finish\n",
      "77: Data Load Finish, Predict Finish, 7.5732 7.3011 0.111 0.8842 Evaluation Finish\n",
      "78: Data Load Finish, Predict Finish, 2.6887 2.0822 0.0326 0.9589 Evaluation Finish\n",
      "79: Data Load Finish, Predict Finish, 2.0897 1.6512 0.0258 0.9681 Evaluation Finish\n",
      "80: Data Load Finish, Predict Finish, 2.7866 2.31 0.0348 0.9574 Evaluation Finish\n",
      "81: Data Load Finish, Predict Finish, 7.238 6.7849 0.1032 0.8893 Evaluation Finish\n",
      "82: Data Load Finish, "
     ]
    },
    {
     "name": "stderr",
     "output_type": "stream",
     "text": [
      "/home/vislab/anaconda3/envs/test/lib/python3.8/site-packages/pandas/core/arraylike.py:364: RuntimeWarning: divide by zero encountered in log\n",
      "  result = getattr(ufunc, method)(*inputs, **kwargs)\n",
      "/home/vislab/anaconda3/envs/test/lib/python3.8/site-packages/statsmodels/base/model.py:604: ConvergenceWarning: Maximum Likelihood optimization failed to converge. Check mle_retvals\n",
      "  warnings.warn(\"Maximum Likelihood optimization failed to \"\n"
     ]
    },
    {
     "name": "stdout",
     "output_type": "stream",
     "text": [
      "Predict Finish, 64.4099 64.3818 0.9847 0.0153 Evaluation Finish\n",
      "83: Data Load Finish, Predict Finish, 4.6442 4.2484 0.0642 0.929 Evaluation Finish\n",
      "84: Data Load Finish, Predict Finish, 10.2412 10.035 0.1529 0.8434 Evaluation Finish\n",
      "85: Data Load Finish, Predict Finish, 2.9672 2.3021 0.036 0.9546 Evaluation Finish\n",
      "86: Data Load Finish, Predict Finish, 10.2077 9.8341 0.1495 0.8439 Evaluation Finish\n",
      "87: Data Load Finish, Predict Finish, 3.9564 3.0903 0.0467 0.9395 Evaluation Finish\n",
      "88: Data Load Finish, Predict Finish, 2.7112 2.3327 0.0353 0.9585 Evaluation Finish\n",
      "89: Data Load Finish, Predict Finish, 2.0165 1.7484 0.027 0.9692 Evaluation Finish\n",
      "90: Data Load Finish, Predict Finish, 2.3699 1.7071 0.0269 0.9638 Evaluation Finish\n",
      "91: Data Load Finish, Predict Finish, 18.888 18.7002 0.2856 0.7112 Evaluation Finish\n",
      "92: Data Load Finish, Predict Finish, 2.8015 2.1481 0.0337 0.9572 Evaluation Finish\n",
      "93: Data Load Finish, Predict Finish, 3.0469 2.6033 0.0392 0.9534 Evaluation Finish\n",
      "94: Data Load Finish, Predict Finish, 2.6166 2.1323 0.0323 0.96 Evaluation Finish\n",
      "95: Data Load Finish, Predict Finish, 9.9901 9.8044 0.1493 0.8473 Evaluation Finish\n",
      "96: Data Load Finish, Predict Finish, 2.511 1.9967 0.0312 0.9616 Evaluation Finish\n",
      "97: Data Load Finish, Predict Finish, 2.0304 1.7556 0.0272 0.969 Evaluation Finish\n",
      "98: Data Load Finish, Predict Finish, 6.365 6.0038 0.0912 0.9027 Evaluation Finish\n",
      "99: Data Load Finish, Predict Finish, 2.5643 1.8901 0.0297 0.9608 Evaluation Finish\n",
      "100: Data Load Finish, Predict Finish, 6.5817 5.9991 0.0912 0.8994 Evaluation Finish\n",
      "101: Data Load Finish, Predict Finish, 6.3001 5.95 0.0903 0.9037 Evaluation Finish\n",
      "102: Data Load Finish, Predict Finish, 4.8616 4.4229 0.0669 0.9257 Evaluation Finish\n",
      "103: Data Load Finish, Predict Finish, 2.5281 2.0966 0.0318 0.9613 Evaluation Finish\n",
      "104: Data Load Finish, Predict Finish, 2.4198 2.022 0.0307 0.963 Evaluation Finish\n",
      "105: Data Load Finish, Predict Finish, 2.6658 2.0479 0.0321 0.9592 Evaluation Finish\n",
      "106: Data Load Finish, Predict Finish, 3.0185 2.3739 0.0371 0.9539 Evaluation Finish\n",
      "107: Data Load Finish, Predict Finish, 2.9542 2.2623 0.0355 0.9548 Evaluation Finish\n",
      "108: Data Load Finish, Predict Finish, 3.7611 3.2669 0.0508 0.9425 Evaluation Finish\n",
      "109: Data Load Finish, Predict Finish, 7.2198 6.977 0.106 0.8896 Evaluation Finish\n",
      "110: Data Load Finish, Predict Finish, 1.8862 1.6239 0.025 0.9712 Evaluation Finish\n",
      "111: Data Load Finish, Predict Finish, 2.1419 1.8434 0.0286 0.9673 Evaluation Finish\n",
      "112: Data Load Finish, Predict Finish, 7.5365 7.2356 0.11 0.8848 Evaluation Finish\n",
      "113: Data Load Finish, Predict Finish, 6.6901 6.203 0.0943 0.8977 Evaluation Finish\n",
      "114: Data Load Finish, Predict Finish, 2.1177 1.8996 0.0289 0.9676 Evaluation Finish\n",
      "115: Data Load Finish, Predict Finish, 2.2157 1.9498 0.0297 0.9661 Evaluation Finish\n",
      "116: Data Load Finish, "
     ]
    },
    {
     "name": "stderr",
     "output_type": "stream",
     "text": [
      "/home/vislab/anaconda3/envs/test/lib/python3.8/site-packages/pandas/core/arraylike.py:364: RuntimeWarning: divide by zero encountered in log\n",
      "  result = getattr(ufunc, method)(*inputs, **kwargs)\n",
      "/home/vislab/anaconda3/envs/test/lib/python3.8/site-packages/statsmodels/base/model.py:604: ConvergenceWarning: Maximum Likelihood optimization failed to converge. Check mle_retvals\n",
      "  warnings.warn(\"Maximum Likelihood optimization failed to \"\n"
     ]
    },
    {
     "name": "stdout",
     "output_type": "stream",
     "text": [
      "Predict Finish, 64.4099 64.3818 0.9847 0.0153 Evaluation Finish\n",
      "117: Data Load Finish, Predict Finish, 1.9814 1.718 0.0265 0.9697 Evaluation Finish\n",
      "118: Data Load Finish, Predict Finish, 1.9953 1.5453 0.0241 0.9695 Evaluation Finish\n",
      "119: Data Load Finish, Predict Finish, 2.511 1.9573 0.0306 0.9616 Evaluation Finish\n",
      "120: Data Load Finish, Predict Finish, 7.104 6.8238 0.1037 0.8914 Evaluation Finish\n",
      "121: Data Load Finish, Predict Finish, 7.7653 7.353 0.1116 0.8813 Evaluation Finish\n",
      "122: Data Load Finish, Predict Finish, 1.9066 1.5902 0.0245 0.9709 Evaluation Finish\n",
      "123: Data Load Finish, Predict Finish, 2.9374 2.2945 0.0359 0.9551 Evaluation Finish\n",
      "124: Data Load Finish, Predict Finish, 7.527 7.2204 0.1098 0.8849 Evaluation Finish\n",
      "125: Data Load Finish, Predict Finish, 8.784 8.4469 0.1286 0.8657 Evaluation Finish\n",
      "126: Data Load Finish, Predict Finish, 10.8003 10.3636 0.1576 0.8349 Evaluation Finish\n",
      "127: Data Load Finish, Predict Finish, 4.2642 3.3238 0.0503 0.9348 Evaluation Finish\n",
      "128: Data Load Finish, Predict Finish, 2.3843 2.0019 0.0304 0.9635 Evaluation Finish\n",
      "129: Data Load Finish, Predict Finish, 5.062 4.7073 0.0713 0.9226 Evaluation Finish\n",
      "130: Data Load Finish, Predict Finish, 4.8384 4.2693 0.0647 0.926 Evaluation Finish\n",
      "131: Data Load Finish, "
     ]
    },
    {
     "name": "stderr",
     "output_type": "stream",
     "text": [
      "/home/vislab/anaconda3/envs/test/lib/python3.8/site-packages/pandas/core/arraylike.py:364: RuntimeWarning: divide by zero encountered in log\n",
      "  result = getattr(ufunc, method)(*inputs, **kwargs)\n",
      "/home/vislab/anaconda3/envs/test/lib/python3.8/site-packages/statsmodels/base/model.py:604: ConvergenceWarning: Maximum Likelihood optimization failed to converge. Check mle_retvals\n",
      "  warnings.warn(\"Maximum Likelihood optimization failed to \"\n"
     ]
    },
    {
     "name": "stdout",
     "output_type": "stream",
     "text": [
      "Predict Finish, 64.4099 64.3818 0.9847 0.0153 Evaluation Finish\n",
      "132: Data Load Finish, Predict Finish, 3.384 2.807 0.0438 0.9483 Evaluation Finish\n",
      "133: Data Load Finish, Predict Finish, 6.3385 5.9875 0.0909 0.9031 Evaluation Finish\n",
      "134: Data Load Finish, Predict Finish, 3.7479 2.9467 0.0444 0.9427 Evaluation Finish\n",
      "135: Data Load Finish, Predict Finish, 2.5588 2.089 0.0316 0.9609 Evaluation Finish\n",
      "136: Data Load Finish, Predict Finish, 1.9647 1.7005 0.0262 0.97 Evaluation Finish\n",
      "137: Data Load Finish, Predict Finish, 8.0844 7.6318 0.1162 0.8764 Evaluation Finish\n",
      "138: Data Load Finish, Predict Finish, 39.0871 38.5383 0.5886 0.4024 Evaluation Finish\n",
      "139: Data Load Finish, Predict Finish, 7.3991 7.0057 0.1066 0.8869 Evaluation Finish\n",
      "140: Data Load Finish, Predict Finish, 7.6819 7.2306 0.11 0.8826 Evaluation Finish\n",
      "141: Data Load Finish, Predict Finish, 3.5663 2.672 0.0403 0.9455 Evaluation Finish\n",
      "142: Data Load Finish, Predict Finish, 5.7259 5.4125 0.082 0.9125 Evaluation Finish\n",
      "143: Data Load Finish, Predict Finish, 4.9088 4.4723 0.0677 0.925 Evaluation Finish\n",
      "144: Data Load Finish, Predict Finish, 13.5851 13.3277 0.2034 0.7923 Evaluation Finish\n",
      "145: Data Load Finish, Predict Finish, 2.2245 1.7956 0.028 0.966 Evaluation Finish\n",
      "146: Data Load Finish, "
     ]
    },
    {
     "name": "stderr",
     "output_type": "stream",
     "text": [
      "/home/vislab/anaconda3/envs/test/lib/python3.8/site-packages/pandas/core/arraylike.py:364: RuntimeWarning: divide by zero encountered in log\n",
      "  result = getattr(ufunc, method)(*inputs, **kwargs)\n",
      "/home/vislab/anaconda3/envs/test/lib/python3.8/site-packages/statsmodels/base/model.py:604: ConvergenceWarning: Maximum Likelihood optimization failed to converge. Check mle_retvals\n",
      "  warnings.warn(\"Maximum Likelihood optimization failed to \"\n"
     ]
    },
    {
     "name": "stdout",
     "output_type": "stream",
     "text": [
      "Predict Finish, 64.4099 64.3818 0.9847 0.0153 Evaluation Finish\n",
      "147: Data Load Finish, Predict Finish, 9.0897 8.5956 0.1305 0.861 Evaluation Finish\n",
      "148: Data Load Finish, Predict Finish, 3.763 2.8322 0.0427 0.9425 Evaluation Finish\n",
      "149: Data Load Finish, Predict Finish, 2.5519 2.1532 0.0334 0.961 Evaluation Finish\n",
      "150: Data Load Finish, Predict Finish, 6.0298 5.1506 0.0783 0.9078 Evaluation Finish\n",
      "151: Data Load Finish, Predict Finish, 5.4051 4.9902 0.0756 0.9174 Evaluation Finish\n",
      "152: Data Load Finish, Predict Finish, 3.7767 3.2745 0.0494 0.9423 Evaluation Finish\n",
      "153: Data Load Finish, Predict Finish, 2.493 2.0238 0.0306 0.9619 Evaluation Finish\n",
      "154: Data Load Finish, Predict Finish, 5.761 5.3877 0.0817 0.9119 Evaluation Finish\n",
      "155: Data Load Finish, Predict Finish, 6.1055 5.1239 0.0779 0.9067 Evaluation Finish\n",
      "156: Data Load Finish, Predict Finish, 10.3359 10.1391 0.1543 0.842 Evaluation Finish\n",
      "157: Data Load Finish, Predict Finish, 2.715 2.2523 0.0341 0.9585 Evaluation Finish\n",
      "158: Data Load Finish, Predict Finish, 5.223 4.2356 0.0643 0.9201 Evaluation Finish\n",
      "159: Data Load Finish, Predict Finish, 7.6127 6.874 0.1047 0.8836 Evaluation Finish\n",
      "160: Data Load Finish, Predict Finish, 7.2163 5.9471 0.0905 0.8897 Evaluation Finish\n",
      "161: Data Load Finish, Predict Finish, 2.7229 2.2274 0.0347 0.9584 Evaluation Finish\n",
      "162: Data Load Finish, Predict Finish, 2.0381 1.7414 0.027 0.9688 Evaluation Finish\n",
      "163: Data Load Finish, Predict Finish, 6.7523 5.5275 0.0841 0.8968 Evaluation Finish\n",
      "164: Data Load Finish, "
     ]
    },
    {
     "name": "stderr",
     "output_type": "stream",
     "text": [
      "/home/vislab/anaconda3/envs/test/lib/python3.8/site-packages/pandas/core/arraylike.py:364: RuntimeWarning: divide by zero encountered in log\n",
      "  result = getattr(ufunc, method)(*inputs, **kwargs)\n",
      "/home/vislab/anaconda3/envs/test/lib/python3.8/site-packages/statsmodels/base/model.py:604: ConvergenceWarning: Maximum Likelihood optimization failed to converge. Check mle_retvals\n",
      "  warnings.warn(\"Maximum Likelihood optimization failed to \"\n"
     ]
    },
    {
     "name": "stdout",
     "output_type": "stream",
     "text": [
      "Predict Finish, 64.4099 64.3818 0.9847 0.0153 Evaluation Finish\n",
      "165: Data Load Finish, Predict Finish, 19.8609 19.7603 0.3016 0.6964 Evaluation Finish\n",
      "166: Data Load Finish, Predict Finish, 2.3803 2.0492 0.0317 0.9636 Evaluation Finish\n",
      "167: Data Load Finish, Predict Finish, 2.2679 1.8297 0.0286 0.9653 Evaluation Finish\n",
      "168: Data Load Finish, Predict Finish, 1.8868 1.5671 0.0242 0.9712 Evaluation Finish\n",
      "169: Data Load Finish, Predict Finish, 1.8606 1.5581 0.024 0.9716 Evaluation Finish\n",
      "170: Data Load Finish, Predict Finish, 11.2596 11.0703 0.1685 0.8279 Evaluation Finish\n",
      "171: Data Load Finish, Predict Finish, 1.929 1.5115 0.0235 0.9705 Evaluation Finish\n",
      "172: Data Load Finish, Predict Finish, 19.794 19.4172 0.2961 0.6974 Evaluation Finish\n",
      "173: Data Load Finish, Predict Finish, 1.8754 1.4895 0.0231 0.9713 Evaluation Finish\n",
      "174: Data Load Finish, Predict Finish, 7.5673 7.2482 0.1102 0.8843 Evaluation Finish\n",
      "175: Data Load Finish, "
     ]
    },
    {
     "name": "stderr",
     "output_type": "stream",
     "text": [
      "/home/vislab/anaconda3/envs/test/lib/python3.8/site-packages/pandas/core/arraylike.py:364: RuntimeWarning: divide by zero encountered in log\n",
      "  result = getattr(ufunc, method)(*inputs, **kwargs)\n",
      "/home/vislab/anaconda3/envs/test/lib/python3.8/site-packages/statsmodels/base/model.py:604: ConvergenceWarning: Maximum Likelihood optimization failed to converge. Check mle_retvals\n",
      "  warnings.warn(\"Maximum Likelihood optimization failed to \"\n"
     ]
    },
    {
     "name": "stdout",
     "output_type": "stream",
     "text": [
      "Predict Finish, 64.4099 64.3818 0.9847 0.0153 Evaluation Finish\n",
      "176: Data Load Finish, "
     ]
    },
    {
     "name": "stderr",
     "output_type": "stream",
     "text": [
      "/home/vislab/anaconda3/envs/test/lib/python3.8/site-packages/pandas/core/arraylike.py:364: RuntimeWarning: divide by zero encountered in log\n",
      "  result = getattr(ufunc, method)(*inputs, **kwargs)\n",
      "/home/vislab/anaconda3/envs/test/lib/python3.8/site-packages/statsmodels/base/model.py:604: ConvergenceWarning: Maximum Likelihood optimization failed to converge. Check mle_retvals\n",
      "  warnings.warn(\"Maximum Likelihood optimization failed to \"\n"
     ]
    },
    {
     "name": "stdout",
     "output_type": "stream",
     "text": [
      "Predict Finish, 64.4099 64.3818 0.9847 0.0153 Evaluation Finish\n",
      "177: Data Load Finish, Predict Finish, 3.7211 3.3219 0.0501 0.9431 Evaluation Finish\n",
      "178: Data Load Finish, "
     ]
    },
    {
     "name": "stderr",
     "output_type": "stream",
     "text": [
      "/home/vislab/anaconda3/envs/test/lib/python3.8/site-packages/pandas/core/arraylike.py:364: RuntimeWarning: divide by zero encountered in log\n",
      "  result = getattr(ufunc, method)(*inputs, **kwargs)\n",
      "/home/vislab/anaconda3/envs/test/lib/python3.8/site-packages/statsmodels/base/model.py:604: ConvergenceWarning: Maximum Likelihood optimization failed to converge. Check mle_retvals\n",
      "  warnings.warn(\"Maximum Likelihood optimization failed to \"\n"
     ]
    },
    {
     "name": "stdout",
     "output_type": "stream",
     "text": [
      "Predict Finish, 64.4099 64.3818 0.9847 0.0153 Evaluation Finish\n",
      "179: Data Load Finish, Predict Finish, 10.0127 9.8212 0.1495 0.8469 Evaluation Finish\n",
      "180: Data Load Finish, Predict Finish, 6.5455 6.2055 0.0943 0.8999 Evaluation Finish\n",
      "181: Data Load Finish, Predict Finish, 6.3674 6.0893 0.0924 0.9027 Evaluation Finish\n",
      "182: Data Load Finish, Predict Finish, 1.9071 1.631 0.0251 0.9708 Evaluation Finish\n",
      "183: Data Load Finish, Predict Finish, 2.8205 2.0546 0.0323 0.9569 Evaluation Finish\n",
      "184: Data Load Finish, Predict Finish, 2.1027 1.8876 0.0288 0.9679 Evaluation Finish\n",
      "185: Data Load Finish, "
     ]
    },
    {
     "name": "stderr",
     "output_type": "stream",
     "text": [
      "/home/vislab/anaconda3/envs/test/lib/python3.8/site-packages/pandas/core/arraylike.py:364: RuntimeWarning: divide by zero encountered in log\n",
      "  result = getattr(ufunc, method)(*inputs, **kwargs)\n",
      "/home/vislab/anaconda3/envs/test/lib/python3.8/site-packages/statsmodels/base/model.py:604: ConvergenceWarning: Maximum Likelihood optimization failed to converge. Check mle_retvals\n",
      "  warnings.warn(\"Maximum Likelihood optimization failed to \"\n"
     ]
    },
    {
     "name": "stdout",
     "output_type": "stream",
     "text": [
      "Predict Finish, 64.4099 64.3818 0.9847 0.0153 Evaluation Finish\n",
      "186: Data Load Finish, Predict Finish, 2.6025 2.1467 0.0325 0.9602 Evaluation Finish\n",
      "187: Data Load Finish, Predict Finish, 16.0106 15.7004 0.2398 0.7552 Evaluation Finish\n",
      "188: Data Load Finish, Predict Finish, 6.3622 6.065 0.092 0.9027 Evaluation Finish\n",
      "189: Data Load Finish, Predict Finish, 4.9158 4.4336 0.0669 0.9248 Evaluation Finish\n",
      "190: Data Load Finish, Predict Finish, 3.9606 3.1227 0.0471 0.9394 Evaluation Finish\n",
      "191: Data Load Finish, Predict Finish, 10.2228 9.3897 0.1433 0.8437 Evaluation Finish\n",
      "192: Data Load Finish, Predict Finish, 4.4763 3.9226 0.0593 0.9316 Evaluation Finish\n",
      "193: Data Load Finish, Predict Finish, 10.8335 10.0167 0.1529 0.8344 Evaluation Finish\n",
      "194: Data Load Finish, Predict Finish, 9.0785 8.8863 0.1352 0.8612 Evaluation Finish\n",
      "195: Data Load Finish, Predict Finish, 2.1015 1.8993 0.0292 0.9679 Evaluation Finish\n",
      "196: Data Load Finish, Predict Finish, 61.6529 61.5871 0.9418 0.0574 Evaluation Finish\n",
      "197: Data Load Finish, Predict Finish, 21.3796 21.2251 0.3243 0.6731 Evaluation Finish\n",
      "198: Data Load Finish, Predict Finish, 1.9594 1.6631 0.0257 0.97 Evaluation Finish\n",
      "199: Data Load Finish, Predict Finish, 3.685 3.0574 0.046 0.9437 Evaluation Finish\n",
      "200: Data Load Finish, Predict Finish, 3.3032 2.8719 0.0435 0.9495 Evaluation Finish\n",
      "201: Data Load Finish, Predict Finish, 2.659 2.1329 0.0333 0.9593 Evaluation Finish\n",
      "202: Data Load Finish, Predict Finish, 3.5046 3.1176 0.047 0.9464 Evaluation Finish\n",
      "203: Data Load Finish, Predict Finish, 2.6334 1.9926 0.0313 0.9597 Evaluation Finish\n",
      "204: Data Load Finish, "
     ]
    },
    {
     "name": "stderr",
     "output_type": "stream",
     "text": [
      "/home/vislab/anaconda3/envs/test/lib/python3.8/site-packages/pandas/core/arraylike.py:364: RuntimeWarning: divide by zero encountered in log\n",
      "  result = getattr(ufunc, method)(*inputs, **kwargs)\n",
      "/home/vislab/anaconda3/envs/test/lib/python3.8/site-packages/statsmodels/base/model.py:604: ConvergenceWarning: Maximum Likelihood optimization failed to converge. Check mle_retvals\n",
      "  warnings.warn(\"Maximum Likelihood optimization failed to \"\n"
     ]
    },
    {
     "name": "stdout",
     "output_type": "stream",
     "text": [
      "Predict Finish, 64.4099 64.3818 0.9847 0.0153 Evaluation Finish\n",
      "205: Data Load Finish, Predict Finish, 2.3766 2.0185 0.0306 0.9637 Evaluation Finish\n",
      "206: Data Load Finish, Predict Finish, 6.7619 6.2994 0.0957 0.8966 Evaluation Finish\n",
      "RMSE: 11.93338573833366, MAE: 11.530879979319222, MAPE: 0.17610813371647918\n",
      "ACC: 0.8175586884547258\n"
     ]
    }
   ],
   "source": [
    "predictARIMA(df, idx, 12)"
   ]
  },
  {
   "cell_type": "markdown",
   "id": "8624171f",
   "metadata": {},
   "source": [
    "### Unobserved Nodes = 20%"
   ]
  },
  {
   "cell_type": "code",
   "execution_count": 14,
   "id": "a8313c43",
   "metadata": {},
   "outputs": [
    {
     "name": "stdout",
     "output_type": "stream",
     "text": [
      "34272 207\n"
     ]
    },
    {
     "data": {
      "text/plain": [
       "1405152"
      ]
     },
     "execution_count": 14,
     "metadata": {},
     "output_type": "execute_result"
    }
   ],
   "source": [
    "df, idx = csvIndexToDatetime(path_20, start, freq)\n",
    "(df == 0).sum().sum()"
   ]
  },
  {
   "cell_type": "code",
   "execution_count": 15,
   "id": "5ce0fefa",
   "metadata": {
    "scrolled": false
   },
   "outputs": [
    {
     "name": "stdout",
     "output_type": "stream",
     "text": [
      "0: Data Load Finish, "
     ]
    },
    {
     "name": "stderr",
     "output_type": "stream",
     "text": [
      "/home/vislab/anaconda3/envs/test/lib/python3.8/site-packages/pandas/core/arraylike.py:364: RuntimeWarning: divide by zero encountered in log\n",
      "  result = getattr(ufunc, method)(*inputs, **kwargs)\n",
      "/home/vislab/anaconda3/envs/test/lib/python3.8/site-packages/statsmodels/base/model.py:604: ConvergenceWarning: Maximum Likelihood optimization failed to converge. Check mle_retvals\n",
      "  warnings.warn(\"Maximum Likelihood optimization failed to \"\n"
     ]
    },
    {
     "name": "stdout",
     "output_type": "stream",
     "text": [
      "Predict Finish, 64.4099 64.3818 0.9847 0.0153 Evaluation Finish\n",
      "1: Data Load Finish, "
     ]
    },
    {
     "name": "stderr",
     "output_type": "stream",
     "text": [
      "/home/vislab/anaconda3/envs/test/lib/python3.8/site-packages/pandas/core/arraylike.py:364: RuntimeWarning: divide by zero encountered in log\n",
      "  result = getattr(ufunc, method)(*inputs, **kwargs)\n",
      "/home/vislab/anaconda3/envs/test/lib/python3.8/site-packages/statsmodels/base/model.py:604: ConvergenceWarning: Maximum Likelihood optimization failed to converge. Check mle_retvals\n",
      "  warnings.warn(\"Maximum Likelihood optimization failed to \"\n"
     ]
    },
    {
     "name": "stdout",
     "output_type": "stream",
     "text": [
      "Predict Finish, 64.4099 64.3818 0.9847 0.0153 Evaluation Finish\n",
      "2: Data Load Finish, "
     ]
    },
    {
     "name": "stderr",
     "output_type": "stream",
     "text": [
      "/home/vislab/anaconda3/envs/test/lib/python3.8/site-packages/pandas/core/arraylike.py:364: RuntimeWarning: divide by zero encountered in log\n",
      "  result = getattr(ufunc, method)(*inputs, **kwargs)\n",
      "/home/vislab/anaconda3/envs/test/lib/python3.8/site-packages/statsmodels/base/model.py:604: ConvergenceWarning: Maximum Likelihood optimization failed to converge. Check mle_retvals\n",
      "  warnings.warn(\"Maximum Likelihood optimization failed to \"\n"
     ]
    },
    {
     "name": "stdout",
     "output_type": "stream",
     "text": [
      "Predict Finish, 64.4099 64.3818 0.9847 0.0153 Evaluation Finish\n",
      "3: Data Load Finish, Predict Finish, 10.7139 10.5024 0.1601 0.8362 Evaluation Finish\n",
      "4: Data Load Finish, Predict Finish, 27.7005 27.5059 0.42 0.5765 Evaluation Finish\n",
      "5: Data Load Finish, Predict Finish, 10.032 9.805 0.1494 0.8466 Evaluation Finish\n",
      "6: Data Load Finish, Predict Finish, 4.4995 4.0522 0.0613 0.9312 Evaluation Finish\n",
      "7: Data Load Finish, Predict Finish, 2.6725 2.3367 0.0353 0.9591 Evaluation Finish\n",
      "8: Data Load Finish, "
     ]
    },
    {
     "name": "stderr",
     "output_type": "stream",
     "text": [
      "/home/vislab/anaconda3/envs/test/lib/python3.8/site-packages/pandas/core/arraylike.py:364: RuntimeWarning: divide by zero encountered in log\n",
      "  result = getattr(ufunc, method)(*inputs, **kwargs)\n",
      "/home/vislab/anaconda3/envs/test/lib/python3.8/site-packages/statsmodels/base/model.py:604: ConvergenceWarning: Maximum Likelihood optimization failed to converge. Check mle_retvals\n",
      "  warnings.warn(\"Maximum Likelihood optimization failed to \"\n"
     ]
    },
    {
     "name": "stdout",
     "output_type": "stream",
     "text": [
      "Predict Finish, 64.4099 64.3818 0.9847 0.0153 Evaluation Finish\n",
      "9: Data Load Finish, Predict Finish, 2.7939 2.2737 0.0344 0.9573 Evaluation Finish\n",
      "10: Data Load Finish, Predict Finish, 5.2433 4.9067 0.0743 0.9198 Evaluation Finish\n",
      "11: Data Load Finish, Predict Finish, 2.7576 2.4291 0.0367 0.9578 Evaluation Finish\n",
      "12: Data Load Finish, "
     ]
    },
    {
     "name": "stderr",
     "output_type": "stream",
     "text": [
      "/home/vislab/anaconda3/envs/test/lib/python3.8/site-packages/pandas/core/arraylike.py:364: RuntimeWarning: divide by zero encountered in log\n",
      "  result = getattr(ufunc, method)(*inputs, **kwargs)\n",
      "/home/vislab/anaconda3/envs/test/lib/python3.8/site-packages/statsmodels/base/model.py:604: ConvergenceWarning: Maximum Likelihood optimization failed to converge. Check mle_retvals\n",
      "  warnings.warn(\"Maximum Likelihood optimization failed to \"\n"
     ]
    },
    {
     "name": "stdout",
     "output_type": "stream",
     "text": [
      "Predict Finish, 64.4099 64.3818 0.9847 0.0153 Evaluation Finish\n",
      "13: Data Load Finish, Predict Finish, 1.9165 1.6494 0.0253 0.9707 Evaluation Finish\n",
      "14: Data Load Finish, Predict Finish, 10.1369 9.9609 0.1517 0.845 Evaluation Finish\n",
      "15: Data Load Finish, Predict Finish, 8.1551 7.51 0.1144 0.8753 Evaluation Finish\n",
      "16: Data Load Finish, Predict Finish, 45.6297 45.4463 0.6945 0.3024 Evaluation Finish\n",
      "17: Data Load Finish, Predict Finish, 5.8108 5.338 0.081 0.9112 Evaluation Finish\n",
      "18: Data Load Finish, Predict Finish, 10.8568 10.6399 0.1619 0.834 Evaluation Finish\n",
      "19: Data Load Finish, Predict Finish, 4.2523 3.7315 0.0564 0.935 Evaluation Finish\n",
      "20: Data Load Finish, Predict Finish, 2.1265 1.8087 0.0281 0.9675 Evaluation Finish\n",
      "21: Data Load Finish, Predict Finish, 5.7693 5.451 0.0826 0.9118 Evaluation Finish\n",
      "22: Data Load Finish, Predict Finish, 14.5923 14.4396 0.2203 0.7769 Evaluation Finish\n",
      "23: Data Load Finish, Predict Finish, 8.0432 7.7084 0.1173 0.877 Evaluation Finish\n",
      "24: Data Load Finish, Predict Finish, 2.0049 1.7312 0.0265 0.9693 Evaluation Finish\n",
      "25: Data Load Finish, Predict Finish, 9.9009 9.7226 0.148 0.8486 Evaluation Finish\n",
      "26: Data Load Finish, Predict Finish, 10.6255 10.361 0.1579 0.8376 Evaluation Finish\n",
      "27: Data Load Finish, Predict Finish, 4.0749 3.6612 0.0552 0.9377 Evaluation Finish\n",
      "28: Data Load Finish, Predict Finish, 3.4934 2.9382 0.0458 0.9466 Evaluation Finish\n",
      "29: Data Load Finish, Predict Finish, 6.8907 6.2235 0.0946 0.8947 Evaluation Finish\n",
      "30: Data Load Finish, Predict Finish, 6.2708 5.9921 0.0909 0.9041 Evaluation Finish\n",
      "31: Data Load Finish, Predict Finish, 1.9557 1.5279 0.0238 0.9701 Evaluation Finish\n",
      "32: Data Load Finish, Predict Finish, 2.0198 1.7592 0.0272 0.9691 Evaluation Finish\n",
      "33: Data Load Finish, Predict Finish, 4.0089 3.3682 0.0509 0.9387 Evaluation Finish\n",
      "34: Data Load Finish, Predict Finish, 2.0318 1.8031 0.0276 0.9689 Evaluation Finish\n",
      "35: Data Load Finish, Predict Finish, 4.943 4.5813 0.0693 0.9244 Evaluation Finish\n",
      "36: Data Load Finish, "
     ]
    },
    {
     "name": "stderr",
     "output_type": "stream",
     "text": [
      "/home/vislab/anaconda3/envs/test/lib/python3.8/site-packages/pandas/core/arraylike.py:364: RuntimeWarning: divide by zero encountered in log\n",
      "  result = getattr(ufunc, method)(*inputs, **kwargs)\n",
      "/home/vislab/anaconda3/envs/test/lib/python3.8/site-packages/statsmodels/base/model.py:604: ConvergenceWarning: Maximum Likelihood optimization failed to converge. Check mle_retvals\n",
      "  warnings.warn(\"Maximum Likelihood optimization failed to \"\n"
     ]
    },
    {
     "name": "stdout",
     "output_type": "stream",
     "text": [
      "Predict Finish, 64.4099 64.3818 0.9847 0.0153 Evaluation Finish\n",
      "37: Data Load Finish, Predict Finish, 1.9574 1.684 0.0258 0.9701 Evaluation Finish\n",
      "38: Data Load Finish, Predict Finish, 7.8991 7.2179 0.1099 0.8792 Evaluation Finish\n",
      "39: Data Load Finish, Predict Finish, 6.0901 5.773 0.0876 0.9069 Evaluation Finish\n",
      "40: Data Load Finish, Predict Finish, 2.0012 1.7014 0.0264 0.9694 Evaluation Finish\n",
      "41: Data Load Finish, Predict Finish, 3.5109 2.7383 0.0412 0.9463 Evaluation Finish\n",
      "42: Data Load Finish, Predict Finish, 2.3164 1.9981 0.0304 0.9646 Evaluation Finish\n",
      "43: Data Load Finish, Predict Finish, 4.9133 4.2526 0.0644 0.9249 Evaluation Finish\n",
      "44: Data Load Finish, Predict Finish, 2.6144 2.0755 0.0324 0.96 Evaluation Finish\n",
      "45: Data Load Finish, Predict Finish, 2.1384 1.7074 0.0267 0.9673 Evaluation Finish\n",
      "46: Data Load Finish, Predict Finish, 4.5159 4.0815 0.0616 0.931 Evaluation Finish\n",
      "47: Data Load Finish, Predict Finish, 6.5147 5.8472 0.0889 0.9004 Evaluation Finish\n",
      "48: Data Load Finish, Predict Finish, 13.3071 13.165 0.2007 0.7966 Evaluation Finish\n",
      "49: Data Load Finish, Predict Finish, 5.0539 4.699 0.0711 0.9227 Evaluation Finish\n",
      "50: Data Load Finish, Predict Finish, 6.616 6.3528 0.0964 0.8989 Evaluation Finish\n",
      "51: Data Load Finish, Predict Finish, 16.3568 16.2399 0.2477 0.7499 Evaluation Finish\n",
      "52: Data Load Finish, Predict Finish, 3.6233 2.7285 0.0411 0.9446 Evaluation Finish\n",
      "53: Data Load Finish, Predict Finish, 7.7204 7.3456 0.1118 0.882 Evaluation Finish\n",
      "54: Data Load Finish, Predict Finish, 4.8619 4.4729 0.0677 0.9257 Evaluation Finish\n",
      "55: Data Load Finish, Predict Finish, 4.9475 4.5637 0.069 0.9244 Evaluation Finish\n",
      "56: Data Load Finish, Predict Finish, 22.319 22.2241 0.3395 0.6588 Evaluation Finish\n",
      "57: Data Load Finish, Predict Finish, 7.0189 6.7583 0.1027 0.8927 Evaluation Finish\n",
      "58: Data Load Finish, "
     ]
    },
    {
     "name": "stderr",
     "output_type": "stream",
     "text": [
      "/home/vislab/anaconda3/envs/test/lib/python3.8/site-packages/pandas/core/arraylike.py:364: RuntimeWarning: divide by zero encountered in log\n",
      "  result = getattr(ufunc, method)(*inputs, **kwargs)\n",
      "/home/vislab/anaconda3/envs/test/lib/python3.8/site-packages/statsmodels/base/model.py:604: ConvergenceWarning: Maximum Likelihood optimization failed to converge. Check mle_retvals\n",
      "  warnings.warn(\"Maximum Likelihood optimization failed to \"\n"
     ]
    },
    {
     "name": "stdout",
     "output_type": "stream",
     "text": [
      "Predict Finish, 64.4099 64.3818 0.9847 0.0153 Evaluation Finish\n",
      "59: Data Load Finish, "
     ]
    },
    {
     "name": "stderr",
     "output_type": "stream",
     "text": [
      "/home/vislab/anaconda3/envs/test/lib/python3.8/site-packages/pandas/core/arraylike.py:364: RuntimeWarning: divide by zero encountered in log\n",
      "  result = getattr(ufunc, method)(*inputs, **kwargs)\n",
      "/home/vislab/anaconda3/envs/test/lib/python3.8/site-packages/statsmodels/base/model.py:604: ConvergenceWarning: Maximum Likelihood optimization failed to converge. Check mle_retvals\n",
      "  warnings.warn(\"Maximum Likelihood optimization failed to \"\n"
     ]
    },
    {
     "name": "stdout",
     "output_type": "stream",
     "text": [
      "Predict Finish, 64.4099 64.3818 0.9847 0.0153 Evaluation Finish\n",
      "60: Data Load Finish, Predict Finish, 6.4484 5.7751 0.0878 0.9014 Evaluation Finish\n",
      "61: Data Load Finish, "
     ]
    },
    {
     "name": "stderr",
     "output_type": "stream",
     "text": [
      "/home/vislab/anaconda3/envs/test/lib/python3.8/site-packages/pandas/core/arraylike.py:364: RuntimeWarning: divide by zero encountered in log\n",
      "  result = getattr(ufunc, method)(*inputs, **kwargs)\n",
      "/home/vislab/anaconda3/envs/test/lib/python3.8/site-packages/statsmodels/base/model.py:604: ConvergenceWarning: Maximum Likelihood optimization failed to converge. Check mle_retvals\n",
      "  warnings.warn(\"Maximum Likelihood optimization failed to \"\n"
     ]
    },
    {
     "name": "stdout",
     "output_type": "stream",
     "text": [
      "Predict Finish, 64.4099 64.3818 0.9847 0.0153 Evaluation Finish\n",
      "62: Data Load Finish, Predict Finish, 8.7073 8.3402 0.1267 0.8669 Evaluation Finish\n",
      "63: Data Load Finish, Predict Finish, 4.7559 3.9185 0.0593 0.9273 Evaluation Finish\n",
      "64: Data Load Finish, Predict Finish, 3.0878 2.656 0.04 0.9528 Evaluation Finish\n",
      "65: Data Load Finish, Predict Finish, 4.1333 3.7112 0.056 0.9368 Evaluation Finish\n",
      "66: Data Load Finish, "
     ]
    },
    {
     "name": "stderr",
     "output_type": "stream",
     "text": [
      "/home/vislab/anaconda3/envs/test/lib/python3.8/site-packages/pandas/core/arraylike.py:364: RuntimeWarning: divide by zero encountered in log\n",
      "  result = getattr(ufunc, method)(*inputs, **kwargs)\n",
      "/home/vislab/anaconda3/envs/test/lib/python3.8/site-packages/statsmodels/base/model.py:604: ConvergenceWarning: Maximum Likelihood optimization failed to converge. Check mle_retvals\n",
      "  warnings.warn(\"Maximum Likelihood optimization failed to \"\n"
     ]
    },
    {
     "name": "stdout",
     "output_type": "stream",
     "text": [
      "Predict Finish, 64.4099 64.3818 0.9847 0.0153 Evaluation Finish\n",
      "67: Data Load Finish, Predict Finish, 2.2029 1.6311 0.0256 0.9663 Evaluation Finish\n",
      "68: Data Load Finish, Predict Finish, 2.3936 2.017 0.0313 0.9634 Evaluation Finish\n",
      "69: Data Load Finish, Predict Finish, 4.461 3.621 0.0548 0.9318 Evaluation Finish\n",
      "70: Data Load Finish, Predict Finish, 2.9246 2.4752 0.0373 0.9553 Evaluation Finish\n",
      "71: Data Load Finish, Predict Finish, 4.3163 3.8719 0.0585 0.934 Evaluation Finish\n",
      "72: Data Load Finish, "
     ]
    },
    {
     "name": "stderr",
     "output_type": "stream",
     "text": [
      "/home/vislab/anaconda3/envs/test/lib/python3.8/site-packages/pandas/core/arraylike.py:364: RuntimeWarning: divide by zero encountered in log\n",
      "  result = getattr(ufunc, method)(*inputs, **kwargs)\n",
      "/home/vislab/anaconda3/envs/test/lib/python3.8/site-packages/statsmodels/base/model.py:604: ConvergenceWarning: Maximum Likelihood optimization failed to converge. Check mle_retvals\n",
      "  warnings.warn(\"Maximum Likelihood optimization failed to \"\n"
     ]
    },
    {
     "name": "stdout",
     "output_type": "stream",
     "text": [
      "Predict Finish, 64.4099 64.3818 0.9847 0.0153 Evaluation Finish\n",
      "73: Data Load Finish, Predict Finish, 7.4479 7.0157 0.1067 0.8861 Evaluation Finish\n",
      "74: Data Load Finish, Predict Finish, 2.9913 2.3151 0.0362 0.9543 Evaluation Finish\n",
      "75: Data Load Finish, Predict Finish, 18.5365 18.4409 0.2815 0.7166 Evaluation Finish\n",
      "76: Data Load Finish, Predict Finish, 12.111 11.8223 0.1803 0.8148 Evaluation Finish\n",
      "77: Data Load Finish, "
     ]
    },
    {
     "name": "stderr",
     "output_type": "stream",
     "text": [
      "/home/vislab/anaconda3/envs/test/lib/python3.8/site-packages/pandas/core/arraylike.py:364: RuntimeWarning: divide by zero encountered in log\n",
      "  result = getattr(ufunc, method)(*inputs, **kwargs)\n",
      "/home/vislab/anaconda3/envs/test/lib/python3.8/site-packages/statsmodels/base/model.py:604: ConvergenceWarning: Maximum Likelihood optimization failed to converge. Check mle_retvals\n",
      "  warnings.warn(\"Maximum Likelihood optimization failed to \"\n"
     ]
    },
    {
     "name": "stdout",
     "output_type": "stream",
     "text": [
      "Predict Finish, 64.4099 64.3818 0.9847 0.0153 Evaluation Finish\n",
      "78: Data Load Finish, Predict Finish, 2.6887 2.0822 0.0326 0.9589 Evaluation Finish\n",
      "79: Data Load Finish, Predict Finish, 2.0897 1.6512 0.0258 0.9681 Evaluation Finish\n",
      "80: Data Load Finish, Predict Finish, 2.7866 2.31 0.0348 0.9574 Evaluation Finish\n",
      "81: Data Load Finish, "
     ]
    },
    {
     "name": "stderr",
     "output_type": "stream",
     "text": [
      "/home/vislab/anaconda3/envs/test/lib/python3.8/site-packages/pandas/core/arraylike.py:364: RuntimeWarning: divide by zero encountered in log\n",
      "  result = getattr(ufunc, method)(*inputs, **kwargs)\n",
      "/home/vislab/anaconda3/envs/test/lib/python3.8/site-packages/statsmodels/base/model.py:604: ConvergenceWarning: Maximum Likelihood optimization failed to converge. Check mle_retvals\n",
      "  warnings.warn(\"Maximum Likelihood optimization failed to \"\n"
     ]
    },
    {
     "name": "stdout",
     "output_type": "stream",
     "text": [
      "Predict Finish, 64.4099 64.3818 0.9847 0.0153 Evaluation Finish\n",
      "82: Data Load Finish, Predict Finish, 4.785 4.0153 0.0608 0.9268 Evaluation Finish\n",
      "83: Data Load Finish, "
     ]
    },
    {
     "name": "stderr",
     "output_type": "stream",
     "text": [
      "/home/vislab/anaconda3/envs/test/lib/python3.8/site-packages/pandas/core/arraylike.py:364: RuntimeWarning: divide by zero encountered in log\n",
      "  result = getattr(ufunc, method)(*inputs, **kwargs)\n",
      "/home/vislab/anaconda3/envs/test/lib/python3.8/site-packages/statsmodels/base/model.py:604: ConvergenceWarning: Maximum Likelihood optimization failed to converge. Check mle_retvals\n",
      "  warnings.warn(\"Maximum Likelihood optimization failed to \"\n"
     ]
    },
    {
     "name": "stdout",
     "output_type": "stream",
     "text": [
      "Predict Finish, 64.4099 64.3818 0.9847 0.0153 Evaluation Finish\n",
      "84: Data Load Finish, Predict Finish, 10.2412 10.035 0.1529 0.8434 Evaluation Finish\n",
      "85: Data Load Finish, "
     ]
    },
    {
     "name": "stderr",
     "output_type": "stream",
     "text": [
      "/home/vislab/anaconda3/envs/test/lib/python3.8/site-packages/pandas/core/arraylike.py:364: RuntimeWarning: divide by zero encountered in log\n",
      "  result = getattr(ufunc, method)(*inputs, **kwargs)\n",
      "/home/vislab/anaconda3/envs/test/lib/python3.8/site-packages/statsmodels/base/model.py:604: ConvergenceWarning: Maximum Likelihood optimization failed to converge. Check mle_retvals\n",
      "  warnings.warn(\"Maximum Likelihood optimization failed to \"\n"
     ]
    },
    {
     "name": "stdout",
     "output_type": "stream",
     "text": [
      "Predict Finish, 64.4099 64.3818 0.9847 0.0153 Evaluation Finish\n",
      "86: Data Load Finish, Predict Finish, 10.2077 9.8341 0.1495 0.8439 Evaluation Finish\n",
      "87: Data Load Finish, Predict Finish, 3.9564 3.0903 0.0467 0.9395 Evaluation Finish\n",
      "88: Data Load Finish, Predict Finish, 2.7112 2.3327 0.0353 0.9585 Evaluation Finish\n",
      "89: Data Load Finish, Predict Finish, 2.0165 1.7484 0.027 0.9692 Evaluation Finish\n",
      "90: Data Load Finish, Predict Finish, 2.3699 1.7071 0.0269 0.9638 Evaluation Finish\n",
      "91: Data Load Finish, Predict Finish, 18.888 18.7002 0.2856 0.7112 Evaluation Finish\n",
      "92: Data Load Finish, Predict Finish, 2.8015 2.1481 0.0337 0.9572 Evaluation Finish\n",
      "93: Data Load Finish, Predict Finish, 3.0469 2.6033 0.0392 0.9534 Evaluation Finish\n",
      "94: Data Load Finish, Predict Finish, 2.6166 2.1323 0.0323 0.96 Evaluation Finish\n",
      "95: Data Load Finish, Predict Finish, 9.9901 9.8044 0.1493 0.8473 Evaluation Finish\n",
      "96: Data Load Finish, Predict Finish, 2.511 1.9967 0.0312 0.9616 Evaluation Finish\n",
      "97: Data Load Finish, Predict Finish, 2.0304 1.7556 0.0272 0.969 Evaluation Finish\n",
      "98: Data Load Finish, Predict Finish, 6.365 6.0038 0.0912 0.9027 Evaluation Finish\n",
      "99: Data Load Finish, "
     ]
    },
    {
     "name": "stderr",
     "output_type": "stream",
     "text": [
      "/home/vislab/anaconda3/envs/test/lib/python3.8/site-packages/pandas/core/arraylike.py:364: RuntimeWarning: divide by zero encountered in log\n",
      "  result = getattr(ufunc, method)(*inputs, **kwargs)\n",
      "/home/vislab/anaconda3/envs/test/lib/python3.8/site-packages/statsmodels/base/model.py:604: ConvergenceWarning: Maximum Likelihood optimization failed to converge. Check mle_retvals\n",
      "  warnings.warn(\"Maximum Likelihood optimization failed to \"\n"
     ]
    },
    {
     "name": "stdout",
     "output_type": "stream",
     "text": [
      "Predict Finish, 64.4099 64.3818 0.9847 0.0153 Evaluation Finish\n",
      "100: Data Load Finish, Predict Finish, 6.5817 5.9991 0.0912 0.8994 Evaluation Finish\n",
      "101: Data Load Finish, Predict Finish, 6.3001 5.95 0.0903 0.9037 Evaluation Finish\n",
      "102: Data Load Finish, Predict Finish, 4.8616 4.4229 0.0669 0.9257 Evaluation Finish\n",
      "103: Data Load Finish, "
     ]
    },
    {
     "name": "stderr",
     "output_type": "stream",
     "text": [
      "/home/vislab/anaconda3/envs/test/lib/python3.8/site-packages/pandas/core/arraylike.py:364: RuntimeWarning: divide by zero encountered in log\n",
      "  result = getattr(ufunc, method)(*inputs, **kwargs)\n",
      "/home/vislab/anaconda3/envs/test/lib/python3.8/site-packages/statsmodels/base/model.py:604: ConvergenceWarning: Maximum Likelihood optimization failed to converge. Check mle_retvals\n",
      "  warnings.warn(\"Maximum Likelihood optimization failed to \"\n"
     ]
    },
    {
     "name": "stdout",
     "output_type": "stream",
     "text": [
      "Predict Finish, 64.4099 64.3818 0.9847 0.0153 Evaluation Finish\n",
      "104: Data Load Finish, Predict Finish, 2.4198 2.022 0.0307 0.963 Evaluation Finish\n",
      "105: Data Load Finish, Predict Finish, 2.6658 2.0479 0.0321 0.9592 Evaluation Finish\n",
      "106: Data Load Finish, Predict Finish, 3.0185 2.3739 0.0371 0.9539 Evaluation Finish\n",
      "107: Data Load Finish, Predict Finish, 2.9542 2.2623 0.0355 0.9548 Evaluation Finish\n",
      "108: Data Load Finish, "
     ]
    },
    {
     "name": "stderr",
     "output_type": "stream",
     "text": [
      "/home/vislab/anaconda3/envs/test/lib/python3.8/site-packages/pandas/core/arraylike.py:364: RuntimeWarning: divide by zero encountered in log\n",
      "  result = getattr(ufunc, method)(*inputs, **kwargs)\n",
      "/home/vislab/anaconda3/envs/test/lib/python3.8/site-packages/statsmodels/base/model.py:604: ConvergenceWarning: Maximum Likelihood optimization failed to converge. Check mle_retvals\n",
      "  warnings.warn(\"Maximum Likelihood optimization failed to \"\n"
     ]
    },
    {
     "name": "stdout",
     "output_type": "stream",
     "text": [
      "Predict Finish, 64.4099 64.3818 0.9847 0.0153 Evaluation Finish\n",
      "109: Data Load Finish, Predict Finish, 7.2198 6.977 0.106 0.8896 Evaluation Finish\n",
      "110: Data Load Finish, "
     ]
    },
    {
     "name": "stderr",
     "output_type": "stream",
     "text": [
      "/home/vislab/anaconda3/envs/test/lib/python3.8/site-packages/pandas/core/arraylike.py:364: RuntimeWarning: divide by zero encountered in log\n",
      "  result = getattr(ufunc, method)(*inputs, **kwargs)\n",
      "/home/vislab/anaconda3/envs/test/lib/python3.8/site-packages/statsmodels/base/model.py:604: ConvergenceWarning: Maximum Likelihood optimization failed to converge. Check mle_retvals\n",
      "  warnings.warn(\"Maximum Likelihood optimization failed to \"\n"
     ]
    },
    {
     "name": "stdout",
     "output_type": "stream",
     "text": [
      "Predict Finish, 64.4099 64.3818 0.9847 0.0153 Evaluation Finish\n",
      "111: Data Load Finish, "
     ]
    },
    {
     "name": "stderr",
     "output_type": "stream",
     "text": [
      "/home/vislab/anaconda3/envs/test/lib/python3.8/site-packages/pandas/core/arraylike.py:364: RuntimeWarning: divide by zero encountered in log\n",
      "  result = getattr(ufunc, method)(*inputs, **kwargs)\n",
      "/home/vislab/anaconda3/envs/test/lib/python3.8/site-packages/statsmodels/base/model.py:604: ConvergenceWarning: Maximum Likelihood optimization failed to converge. Check mle_retvals\n",
      "  warnings.warn(\"Maximum Likelihood optimization failed to \"\n"
     ]
    },
    {
     "name": "stdout",
     "output_type": "stream",
     "text": [
      "Predict Finish, 64.4099 64.3818 0.9847 0.0153 Evaluation Finish\n",
      "112: Data Load Finish, Predict Finish, 7.5365 7.2356 0.11 0.8848 Evaluation Finish\n",
      "113: Data Load Finish, Predict Finish, 6.6901 6.203 0.0943 0.8977 Evaluation Finish\n",
      "114: Data Load Finish, Predict Finish, 2.1177 1.8996 0.0289 0.9676 Evaluation Finish\n",
      "115: Data Load Finish, Predict Finish, 2.2157 1.9498 0.0297 0.9661 Evaluation Finish\n",
      "116: Data Load Finish, Predict Finish, 2.9458 2.4506 0.0369 0.955 Evaluation Finish\n",
      "117: Data Load Finish, Predict Finish, 1.9814 1.718 0.0265 0.9697 Evaluation Finish\n",
      "118: Data Load Finish, Predict Finish, 1.9953 1.5453 0.0241 0.9695 Evaluation Finish\n",
      "119: Data Load Finish, Predict Finish, 2.511 1.9573 0.0306 0.9616 Evaluation Finish\n",
      "120: Data Load Finish, "
     ]
    },
    {
     "name": "stderr",
     "output_type": "stream",
     "text": [
      "/home/vislab/anaconda3/envs/test/lib/python3.8/site-packages/pandas/core/arraylike.py:364: RuntimeWarning: divide by zero encountered in log\n",
      "  result = getattr(ufunc, method)(*inputs, **kwargs)\n",
      "/home/vislab/anaconda3/envs/test/lib/python3.8/site-packages/statsmodels/base/model.py:604: ConvergenceWarning: Maximum Likelihood optimization failed to converge. Check mle_retvals\n",
      "  warnings.warn(\"Maximum Likelihood optimization failed to \"\n"
     ]
    },
    {
     "name": "stdout",
     "output_type": "stream",
     "text": [
      "Predict Finish, 64.4099 64.3818 0.9847 0.0153 Evaluation Finish\n",
      "121: Data Load Finish, Predict Finish, 7.7653 7.353 0.1116 0.8813 Evaluation Finish\n",
      "122: Data Load Finish, Predict Finish, 1.9066 1.5902 0.0245 0.9709 Evaluation Finish\n",
      "123: Data Load Finish, "
     ]
    },
    {
     "name": "stderr",
     "output_type": "stream",
     "text": [
      "/home/vislab/anaconda3/envs/test/lib/python3.8/site-packages/pandas/core/arraylike.py:364: RuntimeWarning: divide by zero encountered in log\n",
      "  result = getattr(ufunc, method)(*inputs, **kwargs)\n",
      "/home/vislab/anaconda3/envs/test/lib/python3.8/site-packages/statsmodels/base/model.py:604: ConvergenceWarning: Maximum Likelihood optimization failed to converge. Check mle_retvals\n",
      "  warnings.warn(\"Maximum Likelihood optimization failed to \"\n"
     ]
    },
    {
     "name": "stdout",
     "output_type": "stream",
     "text": [
      "Predict Finish, 64.4099 64.3818 0.9847 0.0153 Evaluation Finish\n",
      "124: Data Load Finish, Predict Finish, 7.527 7.2204 0.1098 0.8849 Evaluation Finish\n",
      "125: Data Load Finish, "
     ]
    },
    {
     "name": "stderr",
     "output_type": "stream",
     "text": [
      "/home/vislab/anaconda3/envs/test/lib/python3.8/site-packages/pandas/core/arraylike.py:364: RuntimeWarning: divide by zero encountered in log\n",
      "  result = getattr(ufunc, method)(*inputs, **kwargs)\n",
      "/home/vislab/anaconda3/envs/test/lib/python3.8/site-packages/statsmodels/base/model.py:604: ConvergenceWarning: Maximum Likelihood optimization failed to converge. Check mle_retvals\n",
      "  warnings.warn(\"Maximum Likelihood optimization failed to \"\n"
     ]
    },
    {
     "name": "stdout",
     "output_type": "stream",
     "text": [
      "Predict Finish, 64.4099 64.3818 0.9847 0.0153 Evaluation Finish\n",
      "126: Data Load Finish, Predict Finish, 10.8003 10.3636 0.1576 0.8349 Evaluation Finish\n",
      "127: Data Load Finish, "
     ]
    },
    {
     "name": "stderr",
     "output_type": "stream",
     "text": [
      "/home/vislab/anaconda3/envs/test/lib/python3.8/site-packages/pandas/core/arraylike.py:364: RuntimeWarning: divide by zero encountered in log\n",
      "  result = getattr(ufunc, method)(*inputs, **kwargs)\n",
      "/home/vislab/anaconda3/envs/test/lib/python3.8/site-packages/statsmodels/base/model.py:604: ConvergenceWarning: Maximum Likelihood optimization failed to converge. Check mle_retvals\n",
      "  warnings.warn(\"Maximum Likelihood optimization failed to \"\n"
     ]
    },
    {
     "name": "stdout",
     "output_type": "stream",
     "text": [
      "Predict Finish, 64.4099 64.3818 0.9847 0.0153 Evaluation Finish\n",
      "128: Data Load Finish, Predict Finish, 2.3843 2.0019 0.0304 0.9635 Evaluation Finish\n",
      "129: Data Load Finish, Predict Finish, 5.062 4.7073 0.0713 0.9226 Evaluation Finish\n",
      "130: Data Load Finish, Predict Finish, 4.8384 4.2693 0.0647 0.926 Evaluation Finish\n",
      "131: Data Load Finish, Predict Finish, 6.5163 6.0293 0.0916 0.9004 Evaluation Finish\n",
      "132: Data Load Finish, Predict Finish, 3.384 2.807 0.0438 0.9483 Evaluation Finish\n",
      "133: Data Load Finish, Predict Finish, 6.3385 5.9875 0.0909 0.9031 Evaluation Finish\n",
      "134: Data Load Finish, Predict Finish, 3.7479 2.9467 0.0444 0.9427 Evaluation Finish\n",
      "135: Data Load Finish, Predict Finish, 2.5588 2.089 0.0316 0.9609 Evaluation Finish\n",
      "136: Data Load Finish, "
     ]
    },
    {
     "name": "stderr",
     "output_type": "stream",
     "text": [
      "/home/vislab/anaconda3/envs/test/lib/python3.8/site-packages/pandas/core/arraylike.py:364: RuntimeWarning: divide by zero encountered in log\n",
      "  result = getattr(ufunc, method)(*inputs, **kwargs)\n",
      "/home/vislab/anaconda3/envs/test/lib/python3.8/site-packages/statsmodels/base/model.py:604: ConvergenceWarning: Maximum Likelihood optimization failed to converge. Check mle_retvals\n",
      "  warnings.warn(\"Maximum Likelihood optimization failed to \"\n"
     ]
    },
    {
     "name": "stdout",
     "output_type": "stream",
     "text": [
      "Predict Finish, 64.4099 64.3818 0.9847 0.0153 Evaluation Finish\n",
      "137: Data Load Finish, Predict Finish, 8.0844 7.6318 0.1162 0.8764 Evaluation Finish\n",
      "138: Data Load Finish, Predict Finish, 39.0871 38.5383 0.5886 0.4024 Evaluation Finish\n",
      "139: Data Load Finish, "
     ]
    },
    {
     "name": "stderr",
     "output_type": "stream",
     "text": [
      "/home/vislab/anaconda3/envs/test/lib/python3.8/site-packages/pandas/core/arraylike.py:364: RuntimeWarning: divide by zero encountered in log\n",
      "  result = getattr(ufunc, method)(*inputs, **kwargs)\n",
      "/home/vislab/anaconda3/envs/test/lib/python3.8/site-packages/statsmodels/base/model.py:604: ConvergenceWarning: Maximum Likelihood optimization failed to converge. Check mle_retvals\n",
      "  warnings.warn(\"Maximum Likelihood optimization failed to \"\n"
     ]
    },
    {
     "name": "stdout",
     "output_type": "stream",
     "text": [
      "Predict Finish, 64.4099 64.3818 0.9847 0.0153 Evaluation Finish\n",
      "140: Data Load Finish, Predict Finish, 7.6819 7.2306 0.11 0.8826 Evaluation Finish\n",
      "141: Data Load Finish, "
     ]
    },
    {
     "name": "stderr",
     "output_type": "stream",
     "text": [
      "/home/vislab/anaconda3/envs/test/lib/python3.8/site-packages/pandas/core/arraylike.py:364: RuntimeWarning: divide by zero encountered in log\n",
      "  result = getattr(ufunc, method)(*inputs, **kwargs)\n",
      "/home/vislab/anaconda3/envs/test/lib/python3.8/site-packages/statsmodels/base/model.py:604: ConvergenceWarning: Maximum Likelihood optimization failed to converge. Check mle_retvals\n",
      "  warnings.warn(\"Maximum Likelihood optimization failed to \"\n"
     ]
    },
    {
     "name": "stdout",
     "output_type": "stream",
     "text": [
      "Predict Finish, 64.4099 64.3818 0.9847 0.0153 Evaluation Finish\n",
      "142: Data Load Finish, Predict Finish, 5.7259 5.4125 0.082 0.9125 Evaluation Finish\n",
      "143: Data Load Finish, Predict Finish, 4.9088 4.4723 0.0677 0.925 Evaluation Finish\n",
      "144: Data Load Finish, Predict Finish, 13.5851 13.3277 0.2034 0.7923 Evaluation Finish\n",
      "145: Data Load Finish, "
     ]
    },
    {
     "name": "stderr",
     "output_type": "stream",
     "text": [
      "/home/vislab/anaconda3/envs/test/lib/python3.8/site-packages/pandas/core/arraylike.py:364: RuntimeWarning: divide by zero encountered in log\n",
      "  result = getattr(ufunc, method)(*inputs, **kwargs)\n",
      "/home/vislab/anaconda3/envs/test/lib/python3.8/site-packages/statsmodels/base/model.py:604: ConvergenceWarning: Maximum Likelihood optimization failed to converge. Check mle_retvals\n",
      "  warnings.warn(\"Maximum Likelihood optimization failed to \"\n"
     ]
    },
    {
     "name": "stdout",
     "output_type": "stream",
     "text": [
      "Predict Finish, 64.4099 64.3818 0.9847 0.0153 Evaluation Finish\n",
      "146: Data Load Finish, Predict Finish, 4.8044 4.0395 0.0612 0.9265 Evaluation Finish\n",
      "147: Data Load Finish, Predict Finish, 9.0897 8.5956 0.1305 0.861 Evaluation Finish\n",
      "148: Data Load Finish, Predict Finish, 3.763 2.8322 0.0427 0.9425 Evaluation Finish\n",
      "149: Data Load Finish, Predict Finish, 2.5519 2.1532 0.0334 0.961 Evaluation Finish\n",
      "150: Data Load Finish, Predict Finish, 6.0298 5.1506 0.0783 0.9078 Evaluation Finish\n",
      "151: Data Load Finish, Predict Finish, 5.4051 4.9902 0.0756 0.9174 Evaluation Finish\n",
      "152: Data Load Finish, Predict Finish, 3.7767 3.2745 0.0494 0.9423 Evaluation Finish\n",
      "153: Data Load Finish, Predict Finish, 2.493 2.0238 0.0306 0.9619 Evaluation Finish\n",
      "154: Data Load Finish, Predict Finish, 5.761 5.3877 0.0817 0.9119 Evaluation Finish\n",
      "155: Data Load Finish, Predict Finish, 6.1055 5.1239 0.0779 0.9067 Evaluation Finish\n",
      "156: Data Load Finish, Predict Finish, 10.3359 10.1391 0.1543 0.842 Evaluation Finish\n",
      "157: Data Load Finish, Predict Finish, 2.715 2.2523 0.0341 0.9585 Evaluation Finish\n",
      "158: Data Load Finish, "
     ]
    },
    {
     "name": "stderr",
     "output_type": "stream",
     "text": [
      "/home/vislab/anaconda3/envs/test/lib/python3.8/site-packages/pandas/core/arraylike.py:364: RuntimeWarning: divide by zero encountered in log\n",
      "  result = getattr(ufunc, method)(*inputs, **kwargs)\n",
      "/home/vislab/anaconda3/envs/test/lib/python3.8/site-packages/statsmodels/base/model.py:604: ConvergenceWarning: Maximum Likelihood optimization failed to converge. Check mle_retvals\n",
      "  warnings.warn(\"Maximum Likelihood optimization failed to \"\n"
     ]
    },
    {
     "name": "stdout",
     "output_type": "stream",
     "text": [
      "Predict Finish, 64.4099 64.3818 0.9847 0.0153 Evaluation Finish\n",
      "159: Data Load Finish, Predict Finish, 7.6127 6.874 0.1047 0.8836 Evaluation Finish\n",
      "160: Data Load Finish, "
     ]
    },
    {
     "name": "stderr",
     "output_type": "stream",
     "text": [
      "/home/vislab/anaconda3/envs/test/lib/python3.8/site-packages/pandas/core/arraylike.py:364: RuntimeWarning: divide by zero encountered in log\n",
      "  result = getattr(ufunc, method)(*inputs, **kwargs)\n",
      "/home/vislab/anaconda3/envs/test/lib/python3.8/site-packages/statsmodels/base/model.py:604: ConvergenceWarning: Maximum Likelihood optimization failed to converge. Check mle_retvals\n",
      "  warnings.warn(\"Maximum Likelihood optimization failed to \"\n"
     ]
    },
    {
     "name": "stdout",
     "output_type": "stream",
     "text": [
      "Predict Finish, 64.4099 64.3818 0.9847 0.0153 Evaluation Finish\n",
      "161: Data Load Finish, Predict Finish, 2.7229 2.2274 0.0347 0.9584 Evaluation Finish\n",
      "162: Data Load Finish, Predict Finish, 2.0381 1.7414 0.027 0.9688 Evaluation Finish\n",
      "163: Data Load Finish, Predict Finish, 6.7523 5.5275 0.0841 0.8968 Evaluation Finish\n",
      "164: Data Load Finish, Predict Finish, 6.6536 6.1349 0.0933 0.8983 Evaluation Finish\n",
      "165: Data Load Finish, "
     ]
    },
    {
     "name": "stderr",
     "output_type": "stream",
     "text": [
      "/home/vislab/anaconda3/envs/test/lib/python3.8/site-packages/pandas/core/arraylike.py:364: RuntimeWarning: divide by zero encountered in log\n",
      "  result = getattr(ufunc, method)(*inputs, **kwargs)\n",
      "/home/vislab/anaconda3/envs/test/lib/python3.8/site-packages/statsmodels/base/model.py:604: ConvergenceWarning: Maximum Likelihood optimization failed to converge. Check mle_retvals\n",
      "  warnings.warn(\"Maximum Likelihood optimization failed to \"\n"
     ]
    },
    {
     "name": "stdout",
     "output_type": "stream",
     "text": [
      "Predict Finish, 64.4099 64.3818 0.9847 0.0153 Evaluation Finish\n",
      "166: Data Load Finish, Predict Finish, 2.3803 2.0492 0.0317 0.9636 Evaluation Finish\n",
      "167: Data Load Finish, Predict Finish, 2.2679 1.8297 0.0286 0.9653 Evaluation Finish\n",
      "168: Data Load Finish, Predict Finish, 1.8868 1.5671 0.0242 0.9712 Evaluation Finish\n",
      "169: Data Load Finish, "
     ]
    },
    {
     "name": "stderr",
     "output_type": "stream",
     "text": [
      "/home/vislab/anaconda3/envs/test/lib/python3.8/site-packages/pandas/core/arraylike.py:364: RuntimeWarning: divide by zero encountered in log\n",
      "  result = getattr(ufunc, method)(*inputs, **kwargs)\n",
      "/home/vislab/anaconda3/envs/test/lib/python3.8/site-packages/statsmodels/base/model.py:604: ConvergenceWarning: Maximum Likelihood optimization failed to converge. Check mle_retvals\n",
      "  warnings.warn(\"Maximum Likelihood optimization failed to \"\n"
     ]
    },
    {
     "name": "stdout",
     "output_type": "stream",
     "text": [
      "Predict Finish, 64.4099 64.3818 0.9847 0.0153 Evaluation Finish\n",
      "170: Data Load Finish, Predict Finish, 11.2596 11.0703 0.1685 0.8279 Evaluation Finish\n",
      "171: Data Load Finish, Predict Finish, 1.929 1.5115 0.0235 0.9705 Evaluation Finish\n",
      "172: Data Load Finish, Predict Finish, 19.794 19.4172 0.2961 0.6974 Evaluation Finish\n",
      "173: Data Load Finish, "
     ]
    },
    {
     "name": "stderr",
     "output_type": "stream",
     "text": [
      "/home/vislab/anaconda3/envs/test/lib/python3.8/site-packages/pandas/core/arraylike.py:364: RuntimeWarning: divide by zero encountered in log\n",
      "  result = getattr(ufunc, method)(*inputs, **kwargs)\n",
      "/home/vislab/anaconda3/envs/test/lib/python3.8/site-packages/statsmodels/base/model.py:604: ConvergenceWarning: Maximum Likelihood optimization failed to converge. Check mle_retvals\n",
      "  warnings.warn(\"Maximum Likelihood optimization failed to \"\n"
     ]
    },
    {
     "name": "stdout",
     "output_type": "stream",
     "text": [
      "Predict Finish, 64.4099 64.3818 0.9847 0.0153 Evaluation Finish\n",
      "174: Data Load Finish, "
     ]
    },
    {
     "name": "stderr",
     "output_type": "stream",
     "text": [
      "/home/vislab/anaconda3/envs/test/lib/python3.8/site-packages/pandas/core/arraylike.py:364: RuntimeWarning: divide by zero encountered in log\n",
      "  result = getattr(ufunc, method)(*inputs, **kwargs)\n",
      "/home/vislab/anaconda3/envs/test/lib/python3.8/site-packages/statsmodels/base/model.py:604: ConvergenceWarning: Maximum Likelihood optimization failed to converge. Check mle_retvals\n",
      "  warnings.warn(\"Maximum Likelihood optimization failed to \"\n"
     ]
    },
    {
     "name": "stdout",
     "output_type": "stream",
     "text": [
      "Predict Finish, 64.4099 64.3818 0.9847 0.0153 Evaluation Finish\n",
      "175: Data Load Finish, Predict Finish, 2.3223 2.0605 0.0318 0.9645 Evaluation Finish\n",
      "176: Data Load Finish, Predict Finish, 2.0553 1.6427 0.0256 0.9686 Evaluation Finish\n",
      "177: Data Load Finish, Predict Finish, 3.7211 3.3219 0.0501 0.9431 Evaluation Finish\n",
      "178: Data Load Finish, Predict Finish, 1.9357 1.7106 0.0263 0.9704 Evaluation Finish\n",
      "179: Data Load Finish, "
     ]
    },
    {
     "name": "stderr",
     "output_type": "stream",
     "text": [
      "/home/vislab/anaconda3/envs/test/lib/python3.8/site-packages/pandas/core/arraylike.py:364: RuntimeWarning: divide by zero encountered in log\n",
      "  result = getattr(ufunc, method)(*inputs, **kwargs)\n",
      "/home/vislab/anaconda3/envs/test/lib/python3.8/site-packages/statsmodels/base/model.py:604: ConvergenceWarning: Maximum Likelihood optimization failed to converge. Check mle_retvals\n",
      "  warnings.warn(\"Maximum Likelihood optimization failed to \"\n"
     ]
    },
    {
     "name": "stdout",
     "output_type": "stream",
     "text": [
      "Predict Finish, 64.4099 64.3818 0.9847 0.0153 Evaluation Finish\n",
      "180: Data Load Finish, Predict Finish, 6.5455 6.2055 0.0943 0.8999 Evaluation Finish\n",
      "181: Data Load Finish, Predict Finish, 6.3674 6.0893 0.0924 0.9027 Evaluation Finish\n",
      "182: Data Load Finish, Predict Finish, 1.9071 1.631 0.0251 0.9708 Evaluation Finish\n",
      "183: Data Load Finish, "
     ]
    },
    {
     "name": "stderr",
     "output_type": "stream",
     "text": [
      "/home/vislab/anaconda3/envs/test/lib/python3.8/site-packages/pandas/core/arraylike.py:364: RuntimeWarning: divide by zero encountered in log\n",
      "  result = getattr(ufunc, method)(*inputs, **kwargs)\n",
      "/home/vislab/anaconda3/envs/test/lib/python3.8/site-packages/statsmodels/base/model.py:604: ConvergenceWarning: Maximum Likelihood optimization failed to converge. Check mle_retvals\n",
      "  warnings.warn(\"Maximum Likelihood optimization failed to \"\n"
     ]
    },
    {
     "name": "stdout",
     "output_type": "stream",
     "text": [
      "Predict Finish, 64.4099 64.3818 0.9847 0.0153 Evaluation Finish\n",
      "184: Data Load Finish, "
     ]
    },
    {
     "name": "stderr",
     "output_type": "stream",
     "text": [
      "/home/vislab/anaconda3/envs/test/lib/python3.8/site-packages/pandas/core/arraylike.py:364: RuntimeWarning: divide by zero encountered in log\n",
      "  result = getattr(ufunc, method)(*inputs, **kwargs)\n",
      "/home/vislab/anaconda3/envs/test/lib/python3.8/site-packages/statsmodels/base/model.py:604: ConvergenceWarning: Maximum Likelihood optimization failed to converge. Check mle_retvals\n",
      "  warnings.warn(\"Maximum Likelihood optimization failed to \"\n"
     ]
    },
    {
     "name": "stdout",
     "output_type": "stream",
     "text": [
      "Predict Finish, 64.4099 64.3818 0.9847 0.0153 Evaluation Finish\n",
      "185: Data Load Finish, Predict Finish, 2.1114 1.8137 0.0277 0.9677 Evaluation Finish\n",
      "186: Data Load Finish, Predict Finish, 2.6025 2.1467 0.0325 0.9602 Evaluation Finish\n",
      "187: Data Load Finish, Predict Finish, 16.0106 15.7004 0.2398 0.7552 Evaluation Finish\n",
      "188: Data Load Finish, Predict Finish, 6.3622 6.065 0.092 0.9027 Evaluation Finish\n",
      "189: Data Load Finish, "
     ]
    },
    {
     "name": "stderr",
     "output_type": "stream",
     "text": [
      "/home/vislab/anaconda3/envs/test/lib/python3.8/site-packages/pandas/core/arraylike.py:364: RuntimeWarning: divide by zero encountered in log\n",
      "  result = getattr(ufunc, method)(*inputs, **kwargs)\n",
      "/home/vislab/anaconda3/envs/test/lib/python3.8/site-packages/statsmodels/base/model.py:604: ConvergenceWarning: Maximum Likelihood optimization failed to converge. Check mle_retvals\n",
      "  warnings.warn(\"Maximum Likelihood optimization failed to \"\n"
     ]
    },
    {
     "name": "stdout",
     "output_type": "stream",
     "text": [
      "Predict Finish, 64.4099 64.3818 0.9847 0.0153 Evaluation Finish\n",
      "190: Data Load Finish, "
     ]
    },
    {
     "name": "stderr",
     "output_type": "stream",
     "text": [
      "/home/vislab/anaconda3/envs/test/lib/python3.8/site-packages/pandas/core/arraylike.py:364: RuntimeWarning: divide by zero encountered in log\n",
      "  result = getattr(ufunc, method)(*inputs, **kwargs)\n",
      "/home/vislab/anaconda3/envs/test/lib/python3.8/site-packages/statsmodels/base/model.py:604: ConvergenceWarning: Maximum Likelihood optimization failed to converge. Check mle_retvals\n",
      "  warnings.warn(\"Maximum Likelihood optimization failed to \"\n"
     ]
    },
    {
     "name": "stdout",
     "output_type": "stream",
     "text": [
      "Predict Finish, 64.4099 64.3818 0.9847 0.0153 Evaluation Finish\n",
      "191: Data Load Finish, Predict Finish, 10.2228 9.3897 0.1433 0.8437 Evaluation Finish\n",
      "192: Data Load Finish, Predict Finish, 4.4763 3.9226 0.0593 0.9316 Evaluation Finish\n",
      "193: Data Load Finish, Predict Finish, 10.8335 10.0167 0.1529 0.8344 Evaluation Finish\n",
      "194: Data Load Finish, "
     ]
    },
    {
     "name": "stderr",
     "output_type": "stream",
     "text": [
      "/home/vislab/anaconda3/envs/test/lib/python3.8/site-packages/pandas/core/arraylike.py:364: RuntimeWarning: divide by zero encountered in log\n",
      "  result = getattr(ufunc, method)(*inputs, **kwargs)\n",
      "/home/vislab/anaconda3/envs/test/lib/python3.8/site-packages/statsmodels/base/model.py:604: ConvergenceWarning: Maximum Likelihood optimization failed to converge. Check mle_retvals\n",
      "  warnings.warn(\"Maximum Likelihood optimization failed to \"\n"
     ]
    },
    {
     "name": "stdout",
     "output_type": "stream",
     "text": [
      "Predict Finish, 64.4099 64.3818 0.9847 0.0153 Evaluation Finish\n",
      "195: Data Load Finish, Predict Finish, 2.1015 1.8993 0.0292 0.9679 Evaluation Finish\n",
      "196: Data Load Finish, Predict Finish, 61.6529 61.5871 0.9418 0.0574 Evaluation Finish\n",
      "197: Data Load Finish, Predict Finish, 21.3796 21.2251 0.3243 0.6731 Evaluation Finish\n",
      "198: Data Load Finish, "
     ]
    },
    {
     "name": "stderr",
     "output_type": "stream",
     "text": [
      "/home/vislab/anaconda3/envs/test/lib/python3.8/site-packages/pandas/core/arraylike.py:364: RuntimeWarning: divide by zero encountered in log\n",
      "  result = getattr(ufunc, method)(*inputs, **kwargs)\n",
      "/home/vislab/anaconda3/envs/test/lib/python3.8/site-packages/statsmodels/base/model.py:604: ConvergenceWarning: Maximum Likelihood optimization failed to converge. Check mle_retvals\n",
      "  warnings.warn(\"Maximum Likelihood optimization failed to \"\n"
     ]
    },
    {
     "name": "stdout",
     "output_type": "stream",
     "text": [
      "Predict Finish, 64.4099 64.3818 0.9847 0.0153 Evaluation Finish\n",
      "199: Data Load Finish, Predict Finish, 3.685 3.0574 0.046 0.9437 Evaluation Finish\n",
      "200: Data Load Finish, Predict Finish, 3.3032 2.8719 0.0435 0.9495 Evaluation Finish\n",
      "201: Data Load Finish, Predict Finish, 2.659 2.1329 0.0333 0.9593 Evaluation Finish\n",
      "202: Data Load Finish, Predict Finish, 3.5046 3.1176 0.047 0.9464 Evaluation Finish\n",
      "203: Data Load Finish, Predict Finish, 2.6334 1.9926 0.0313 0.9597 Evaluation Finish\n",
      "204: Data Load Finish, Predict Finish, 2.9924 2.308 0.0348 0.9543 Evaluation Finish\n",
      "205: Data Load Finish, Predict Finish, 2.3766 2.0185 0.0306 0.9637 Evaluation Finish\n",
      "206: Data Load Finish, Predict Finish, 6.7619 6.2994 0.0957 0.8966 Evaluation Finish\n",
      "RMSE: 17.972050778687162, MAE: 17.619029992126304, MAPE: 0.26922524242022583\n",
      "ACC: 0.7252376997511019\n"
     ]
    }
   ],
   "source": [
    "predictARIMA(df, idx, 12)"
   ]
  },
  {
   "cell_type": "code",
   "execution_count": null,
   "id": "e5836458",
   "metadata": {},
   "outputs": [],
   "source": []
  }
 ],
 "metadata": {
  "kernelspec": {
   "display_name": "test",
   "language": "python",
   "name": "test"
  },
  "language_info": {
   "codemirror_mode": {
    "name": "ipython",
    "version": 3
   },
   "file_extension": ".py",
   "mimetype": "text/x-python",
   "name": "python",
   "nbconvert_exporter": "python",
   "pygments_lexer": "ipython3",
   "version": "3.8.12"
  }
 },
 "nbformat": 4,
 "nbformat_minor": 5
}
