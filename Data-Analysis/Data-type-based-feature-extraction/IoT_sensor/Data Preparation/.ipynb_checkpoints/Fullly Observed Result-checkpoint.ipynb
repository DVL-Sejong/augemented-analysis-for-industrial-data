{
 "cells": [
  {
   "cell_type": "code",
   "execution_count": 1,
   "id": "4efdefbb",
   "metadata": {},
   "outputs": [],
   "source": [
    "import argparse\n",
    "import numpy as np\n",
    "import os\n",
    "import sys\n",
    "import yaml\n",
    "import torch\n",
    "import torchmetrics\n",
    "\n",
    "from argparse import Namespace\n",
    "from lib import utils\n",
    "from lib.utils import load_graph_data\n",
    "from model.att.dcrnn_supervisor import DCRNNSupervisor as atDCRNN\n",
    "from model.noatt.dcrnn_supervisor import DCRNNSupervisor as DCRNN"
   ]
  },
  {
   "cell_type": "code",
   "execution_count": 9,
   "id": "8653ae24",
   "metadata": {},
   "outputs": [],
   "source": [
    "def get_supervisor(config_filename, model_path, model):\n",
    "    args = Namespace(\n",
    "        use_cpu_only = False,\n",
    "        config_filename=config_filename\n",
    "    )\n",
    "    \n",
    "    with open(args.config_filename) as f:\n",
    "        supervisor_config = yaml.load(f)\n",
    "        \n",
    "        graph_pkl_filename = supervisor_config['data'].get('graph_pkl_filename')\n",
    "        sensor_ids, sensor_id_to_ind, adj_mx = load_graph_data(graph_pkl_filename)\n",
    "        \n",
    "        supervisor = model(adj_mx = adj_mx, **supervisor_config)\n",
    "        supervisor._setup_graph()\n",
    "        \n",
    "        checkpoint = torch.load(model_path, map_location='cpu')\n",
    "        supervisor.dcrnn_model.load_state_dict(checkpoint['model_state_dict'])\n",
    "        \n",
    "        return supervisor"
   ]
  },
  {
   "cell_type": "code",
   "execution_count": 3,
   "id": "848aa6f9",
   "metadata": {},
   "outputs": [],
   "source": [
    "def get_prediction_data(supervisor):\n",
    "    with torch.no_grad():\n",
    "        supervisor.dcrnn_model = supervisor.dcrnn_model.eval()\n",
    "        \n",
    "        val_iterator = supervisor._data['test_loader'].get_iterator()\n",
    "        y_preds = []\n",
    "        \n",
    "        for _, (x, y) in enumerate(val_iterator):\n",
    "            x, y = supervisor._prepare_data(x, y)\n",
    "            output = supervisor.dcrnn_model(x)\n",
    "            y_preds.append(output.cpu())\n",
    "            \n",
    "        y_preds = np.concatenate(y_preds, axis=1)\n",
    "        y_preds_scaled = []\n",
    "        \n",
    "        for t in range(y_preds.shape[0]):\n",
    "            y_pred = supervisor.standard_scaler.inverse_transform(y_preds[t])\n",
    "            y_preds_scaled.append(y_pred)\n",
    "            \n",
    "        return y_preds_scaled"
   ]
  },
  {
   "cell_type": "code",
   "execution_count": 4,
   "id": "3d068a64",
   "metadata": {},
   "outputs": [],
   "source": [
    "def get_truth_data(supervisor, dataset_dir):\n",
    "    supervisor._data = utils.load_dataset(dataset_dir = dataset_dir, \n",
    "                                          batch_size = 64, \n",
    "                                          val_batch_size = 64,\n",
    "                                          test_batch_size=64)\n",
    "    supervisor.standard_scaler = supervisor._data['scaler']\n",
    "    val_iterator = supervisor._data['test_loader'].get_iterator()\n",
    "    y_truths = []\n",
    "    \n",
    "    for _, (x, y) in enumerate(val_iterator):\n",
    "        x, y = supervisor._prepare_data(x, y)\n",
    "        y_truths.append(y.cpu())\n",
    "    y_truths = np.concatenate(y_truths, axis=1)\n",
    "    y_truth_scaled = []\n",
    "    \n",
    "    for t in range(y_truths.shape[0]):\n",
    "        y_truth = supervisor.standard_scaler.inverse_transform(y_truths[t])\n",
    "        y_truth_scaled.append(y_truth)\n",
    "        \n",
    "    return y_truth_scaled"
   ]
  },
  {
   "cell_type": "code",
   "execution_count": 5,
   "id": "dd4f2809",
   "metadata": {},
   "outputs": [],
   "source": [
    "def evaluation(y_pred, y_true):\n",
    "    for i in range(4):\n",
    "        idx = i * 3 + 2\n",
    "        prediction = y_pred[idx]\n",
    "        real = y_true[idx]\n",
    "        print(idx)\n",
    "\n",
    "        mae = torchmetrics.functional.mean_absolute_error(\n",
    "            torch.from_numpy(prediction), \n",
    "            torch.from_numpy(real)\n",
    "        )\n",
    "        rmse = torch.sqrt(\n",
    "            torchmetrics.functional.mean_squared_error(\n",
    "                torch.from_numpy(prediction), \n",
    "                torch.from_numpy(real)\n",
    "            )\n",
    "        )\n",
    "\n",
    "        mapes = torchmetrics.MeanAbsolutePercentageError()\n",
    "        mape2 = mapes(preds = torch.from_numpy(prediction), \n",
    "                      target = torch.from_numpy(real))\n",
    "        mape = np.sum(np.abs(real - prediction) / real) / (real.shape[0] * real.shape[1])\n",
    "\n",
    "        print((idx+1) * 5, 'Min')\n",
    "        print('MAE:', mae, 'RMSE:', rmse, 'MAPE:', mape * 100, 'MAPE2:', mape2*100)"
   ]
  },
  {
   "cell_type": "markdown",
   "id": "957f0424",
   "metadata": {},
   "source": [
    "### Fully Observed Virtual Network + No AT"
   ]
  },
  {
   "cell_type": "code",
   "execution_count": 20,
   "id": "429cc1a8",
   "metadata": {},
   "outputs": [
    {
     "name": "stdout",
     "output_type": "stream",
     "text": [
      "2023-08-11 16:31:03,880 - INFO - Log directory: data/model\\dcrnn_DR_2_h_12_64-64_lr_0.01_bs_64_0811163103/\n",
      "2023-08-11 16:31:03,880 - INFO - Log directory: data/model\\dcrnn_DR_2_h_12_64-64_lr_0.01_bs_64_0811163103/\n",
      "2023-08-11 16:31:03,880 - INFO - Log directory: data/model\\dcrnn_DR_2_h_12_64-64_lr_0.01_bs_64_0811163103/\n",
      "2023-08-11 16:31:03,880 - INFO - Log directory: data/model\\dcrnn_DR_2_h_12_64-64_lr_0.01_bs_64_0811163103/\n",
      "2023-08-11 16:31:04,036 - INFO - Model created\n",
      "2023-08-11 16:31:04,036 - INFO - Model created\n",
      "2023-08-11 16:31:04,036 - INFO - Model created\n",
      "2023-08-11 16:31:04,036 - INFO - Model created\n"
     ]
    },
    {
     "name": "stderr",
     "output_type": "stream",
     "text": [
      "C:\\Users\\vfgtr554\\AppData\\Local\\Temp\\ipykernel_58696\\1439812130.py:8: YAMLLoadWarning: calling yaml.load() without Loader=... is deprecated, as the default Loader is unsafe. Please read https://msg.pyyaml.org/load for full details.\n",
      "  supervisor_config = yaml.load(f)\n"
     ]
    },
    {
     "name": "stdout",
     "output_type": "stream",
     "text": [
      "2\n",
      "15 Min\n",
      "MAE: tensor(1.9839) RMSE: tensor(2.8890) MAPE: 8.462608007737147 MAPE2: tensor(8.4626)\n",
      "5\n",
      "30 Min\n",
      "MAE: tensor(2.2699) RMSE: tensor(3.1865) MAPE: 9.663029070253726 MAPE2: tensor(9.6630)\n",
      "8\n",
      "45 Min\n",
      "MAE: tensor(2.4911) RMSE: tensor(3.4194) MAPE: 10.575803120930988 MAPE2: tensor(10.5758)\n",
      "11\n",
      "60 Min\n",
      "MAE: tensor(2.7096) RMSE: tensor(3.6547) MAPE: 11.508985213291497 MAPE2: tensor(11.5090)\n"
     ]
    }
   ],
   "source": [
    "supervisor = get_supervisor('data/yamls/virtual_no_att.yaml', 'models/virtual_no_att/epo35.tar', DCRNN)\n",
    "y_pred = get_prediction_data(supervisor)\n",
    "y_true = get_truth_data(supervisor, 'data/virtual_no_att')\n",
    "evaluation(y_pred, y_true)"
   ]
  },
  {
   "cell_type": "code",
   "execution_count": 21,
   "id": "dde0f8e1",
   "metadata": {},
   "outputs": [
    {
     "name": "stdout",
     "output_type": "stream",
     "text": [
      "2\n",
      "15 Min\n",
      "MAE: tensor(1.6608) RMSE: tensor(2.3066) MAPE: 6.456345098989981 MAPE2: tensor(6.4563)\n",
      "5\n",
      "30 Min\n",
      "MAE: tensor(1.8847) RMSE: tensor(2.6043) MAPE: 7.235167938985942 MAPE2: tensor(7.2352)\n",
      "8\n",
      "45 Min\n",
      "MAE: tensor(2.0631) RMSE: tensor(2.8504) MAPE: 7.896725925398462 MAPE2: tensor(7.8967)\n",
      "11\n",
      "60 Min\n",
      "MAE: tensor(2.1881) RMSE: tensor(2.9875) MAPE: 8.307663010962216 MAPE2: tensor(8.3077)\n"
     ]
    }
   ],
   "source": [
    "y_preds = []\n",
    "y_truth = []\n",
    "for i in range(12):\n",
    "    y_preds.append(y_pred[i][:36])\n",
    "    y_truth.append(y_true[i][:36])\n",
    "evaluation(y_preds, y_truth)"
   ]
  },
  {
   "cell_type": "markdown",
   "id": "6487a685",
   "metadata": {},
   "source": [
    "### Fully Observed Normal Network + No AT"
   ]
  },
  {
   "cell_type": "code",
   "execution_count": 13,
   "id": "17b53570",
   "metadata": {},
   "outputs": [
    {
     "name": "stdout",
     "output_type": "stream",
     "text": [
      "2023-08-11 16:04:11,316 - INFO - Log directory: data/model\\dcrnn_DR_2_h_12_64-64_lr_0.01_bs_64_0811160411/\n",
      "2023-08-11 16:04:11,316 - INFO - Log directory: data/model\\dcrnn_DR_2_h_12_64-64_lr_0.01_bs_64_0811160411/\n",
      "2023-08-11 16:04:11,316 - INFO - Log directory: data/model\\dcrnn_DR_2_h_12_64-64_lr_0.01_bs_64_0811160411/\n",
      "2023-08-11 16:04:11,392 - INFO - Model created\n",
      "2023-08-11 16:04:11,392 - INFO - Model created\n",
      "2023-08-11 16:04:11,392 - INFO - Model created\n"
     ]
    },
    {
     "name": "stderr",
     "output_type": "stream",
     "text": [
      "C:\\Users\\vfgtr554\\AppData\\Local\\Temp\\ipykernel_58696\\1439812130.py:8: YAMLLoadWarning: calling yaml.load() without Loader=... is deprecated, as the default Loader is unsafe. Please read https://msg.pyyaml.org/load for full details.\n",
      "  supervisor_config = yaml.load(f)\n"
     ]
    },
    {
     "name": "stdout",
     "output_type": "stream",
     "text": [
      "2\n",
      "15 Min\n",
      "MAE: tensor(2.2745) RMSE: tensor(3.3061) MAPE: 9.884766001760225 MAPE2: tensor(9.8848)\n",
      "5\n",
      "30 Min\n",
      "MAE: tensor(2.5836) RMSE: tensor(3.6258) MAPE: 11.163897573212047 MAPE2: tensor(11.1639)\n",
      "8\n",
      "45 Min\n",
      "MAE: tensor(2.8630) RMSE: tensor(3.9267) MAPE: 12.221037311318481 MAPE2: tensor(12.2210)\n",
      "11\n",
      "60 Min\n",
      "MAE: tensor(3.1526) RMSE: tensor(4.2359) MAPE: 13.35264370765215 MAPE2: tensor(13.3526)\n"
     ]
    }
   ],
   "source": [
    "supervisor = get_supervisor('data/yamls/normal_no_att.yaml', 'models/normal_no_att/epo18.tar', DCRNN)\n",
    "y_pred = get_prediction_data(supervisor)\n",
    "y_true = get_truth_data(supervisor, 'data/normal_no_att')\n",
    "evaluation(y_pred, y_true)"
   ]
  },
  {
   "cell_type": "markdown",
   "id": "fed54eaf",
   "metadata": {},
   "source": [
    "### Fully Observed Virtual Network + AT"
   ]
  },
  {
   "cell_type": "code",
   "execution_count": 16,
   "id": "69cdf24d",
   "metadata": {},
   "outputs": [
    {
     "name": "stdout",
     "output_type": "stream",
     "text": [
      "2023-08-11 16:04:33,903 - INFO - Log directory: data/model\\dcrnn_DR_2_h_12_64-64_lr_0.01_bs_64_0811160433/\n",
      "2023-08-11 16:04:33,903 - INFO - Log directory: data/model\\dcrnn_DR_2_h_12_64-64_lr_0.01_bs_64_0811160433/\n",
      "2023-08-11 16:04:33,989 - INFO - Model created\n",
      "2023-08-11 16:04:33,989 - INFO - Model created\n"
     ]
    },
    {
     "name": "stderr",
     "output_type": "stream",
     "text": [
      "C:\\Users\\vfgtr554\\AppData\\Local\\Temp\\ipykernel_58696\\1439812130.py:8: YAMLLoadWarning: calling yaml.load() without Loader=... is deprecated, as the default Loader is unsafe. Please read https://msg.pyyaml.org/load for full details.\n",
      "  supervisor_config = yaml.load(f)\n"
     ]
    },
    {
     "name": "stdout",
     "output_type": "stream",
     "text": [
      "2\n",
      "15 Min\n",
      "MAE: tensor(4.0899) RMSE: tensor(5.2343) MAPE: 19.271208916181397 MAPE2: tensor(19.2712)\n",
      "5\n",
      "30 Min\n",
      "MAE: tensor(4.0639) RMSE: tensor(5.2010) MAPE: 18.831055252640336 MAPE2: tensor(18.8311)\n",
      "8\n",
      "45 Min\n",
      "MAE: tensor(4.0703) RMSE: tensor(5.2041) MAPE: 18.603107075632355 MAPE2: tensor(18.6031)\n",
      "11\n",
      "60 Min\n",
      "MAE: tensor(4.1101) RMSE: tensor(5.2436) MAPE: 18.53663244365174 MAPE2: tensor(18.5366)\n"
     ]
    }
   ],
   "source": [
    "supervisor = get_supervisor('data/yamls/virtual_att.yaml', 'models/virtual_att/epo74.tar', atDCRNN)\n",
    "y_pred = get_prediction_data(supervisor)\n",
    "y_true = get_truth_data(supervisor, 'data/virtual_att')\n",
    "evaluation(y_pred, y_true)"
   ]
  },
  {
   "cell_type": "code",
   "execution_count": 18,
   "id": "951bcadf",
   "metadata": {},
   "outputs": [
    {
     "name": "stdout",
     "output_type": "stream",
     "text": [
      "2\n",
      "15 Min\n",
      "MAE: tensor(2.9944) RMSE: tensor(3.8820) MAPE: 11.758876141206716 MAPE2: tensor(11.7589)\n",
      "5\n",
      "30 Min\n",
      "MAE: tensor(3.1355) RMSE: tensor(4.0462) MAPE: 11.688255969388987 MAPE2: tensor(11.6883)\n",
      "8\n",
      "45 Min\n",
      "MAE: tensor(3.2868) RMSE: tensor(4.2213) MAPE: 11.967480035475743 MAPE2: tensor(11.9675)\n",
      "11\n",
      "60 Min\n",
      "MAE: tensor(3.5231) RMSE: tensor(4.4833) MAPE: 12.56317327051987 MAPE2: tensor(12.5632)\n"
     ]
    }
   ],
   "source": [
    "y_preds = []\n",
    "y_truth = []\n",
    "for i in range(12):\n",
    "    y_preds.append(y_pred[i][:36])\n",
    "    y_truth.append(y_true[i][:36])\n",
    "evaluation(y_preds, y_truth)"
   ]
  },
  {
   "cell_type": "markdown",
   "id": "61c6ccb1",
   "metadata": {},
   "source": [
    "### Fully Observed Normal Network + AT"
   ]
  },
  {
   "cell_type": "code",
   "execution_count": 23,
   "id": "80a789e9",
   "metadata": {},
   "outputs": [
    {
     "name": "stdout",
     "output_type": "stream",
     "text": [
      "2023-08-11 16:32:07,345 - INFO - Log directory: data/model\\dcrnn_DR_2_h_12_64-64_lr_0.01_bs_64_0811163207/\n",
      "2023-08-11 16:32:07,345 - INFO - Log directory: data/model\\dcrnn_DR_2_h_12_64-64_lr_0.01_bs_64_0811163207/\n",
      "2023-08-11 16:32:07,345 - INFO - Log directory: data/model\\dcrnn_DR_2_h_12_64-64_lr_0.01_bs_64_0811163207/\n",
      "2023-08-11 16:32:07,417 - INFO - Model created\n",
      "2023-08-11 16:32:07,417 - INFO - Model created\n",
      "2023-08-11 16:32:07,417 - INFO - Model created\n"
     ]
    },
    {
     "name": "stderr",
     "output_type": "stream",
     "text": [
      "C:\\Users\\vfgtr554\\AppData\\Local\\Temp\\ipykernel_58696\\1439812130.py:8: YAMLLoadWarning: calling yaml.load() without Loader=... is deprecated, as the default Loader is unsafe. Please read https://msg.pyyaml.org/load for full details.\n",
      "  supervisor_config = yaml.load(f)\n"
     ]
    },
    {
     "name": "stdout",
     "output_type": "stream",
     "text": [
      "2\n",
      "15 Min\n",
      "MAE: tensor(4.5776) RMSE: tensor(5.8655) MAPE: 22.796013914508585 MAPE2: tensor(22.7960)\n",
      "5\n",
      "30 Min\n",
      "MAE: tensor(4.5397) RMSE: tensor(5.8208) MAPE: 22.403604012948495 MAPE2: tensor(22.4036)\n",
      "8\n",
      "45 Min\n",
      "MAE: tensor(4.4938) RMSE: tensor(5.7596) MAPE: 21.71051119580681 MAPE2: tensor(21.7105)\n",
      "11\n",
      "60 Min\n",
      "MAE: tensor(4.5189) RMSE: tensor(5.7684) MAPE: 21.256971947940777 MAPE2: tensor(21.2570)\n"
     ]
    }
   ],
   "source": [
    "supervisor = get_supervisor('data/yamls/normal_att.yaml', 'models/normal_att/epo1.tar', atDCRNN)\n",
    "y_pred = get_prediction_data(supervisor)\n",
    "y_true = get_truth_data(supervisor, 'data/normal_att')\n",
    "evaluation(y_pred, y_true)"
   ]
  },
  {
   "cell_type": "code",
   "execution_count": null,
   "id": "bebd0d32",
   "metadata": {},
   "outputs": [],
   "source": []
  }
 ],
 "metadata": {
  "kernelspec": {
   "display_name": "torchgpu",
   "language": "python",
   "name": "torchgpu"
  },
  "language_info": {
   "codemirror_mode": {
    "name": "ipython",
    "version": 3
   },
   "file_extension": ".py",
   "mimetype": "text/x-python",
   "name": "python",
   "nbconvert_exporter": "python",
   "pygments_lexer": "ipython3",
   "version": "3.8.16"
  }
 },
 "nbformat": 4,
 "nbformat_minor": 5
}
