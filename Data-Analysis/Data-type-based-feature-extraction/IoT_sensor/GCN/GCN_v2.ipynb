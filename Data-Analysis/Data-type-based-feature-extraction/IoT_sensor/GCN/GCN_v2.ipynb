{
 "cells": [
  {
   "cell_type": "code",
   "execution_count": 1,
   "id": "895fbfb9",
   "metadata": {},
   "outputs": [
    {
     "name": "stderr",
     "output_type": "stream",
     "text": [
      "C:\\Users\\vfgtr554\\anaconda3\\envs\\cctv\\lib\\site-packages\\tensorflow\\python\\framework\\dtypes.py:526: FutureWarning: Passing (type, 1) or '1type' as a synonym of type is deprecated; in a future version of numpy, it will be understood as (type, (1,)) / '(1,)type'.\n",
      "  _np_qint8 = np.dtype([(\"qint8\", np.int8, 1)])\n",
      "C:\\Users\\vfgtr554\\anaconda3\\envs\\cctv\\lib\\site-packages\\tensorflow\\python\\framework\\dtypes.py:527: FutureWarning: Passing (type, 1) or '1type' as a synonym of type is deprecated; in a future version of numpy, it will be understood as (type, (1,)) / '(1,)type'.\n",
      "  _np_quint8 = np.dtype([(\"quint8\", np.uint8, 1)])\n",
      "C:\\Users\\vfgtr554\\anaconda3\\envs\\cctv\\lib\\site-packages\\tensorflow\\python\\framework\\dtypes.py:528: FutureWarning: Passing (type, 1) or '1type' as a synonym of type is deprecated; in a future version of numpy, it will be understood as (type, (1,)) / '(1,)type'.\n",
      "  _np_qint16 = np.dtype([(\"qint16\", np.int16, 1)])\n",
      "C:\\Users\\vfgtr554\\anaconda3\\envs\\cctv\\lib\\site-packages\\tensorflow\\python\\framework\\dtypes.py:529: FutureWarning: Passing (type, 1) or '1type' as a synonym of type is deprecated; in a future version of numpy, it will be understood as (type, (1,)) / '(1,)type'.\n",
      "  _np_quint16 = np.dtype([(\"quint16\", np.uint16, 1)])\n",
      "C:\\Users\\vfgtr554\\anaconda3\\envs\\cctv\\lib\\site-packages\\tensorflow\\python\\framework\\dtypes.py:530: FutureWarning: Passing (type, 1) or '1type' as a synonym of type is deprecated; in a future version of numpy, it will be understood as (type, (1,)) / '(1,)type'.\n",
      "  _np_qint32 = np.dtype([(\"qint32\", np.int32, 1)])\n",
      "C:\\Users\\vfgtr554\\anaconda3\\envs\\cctv\\lib\\site-packages\\tensorflow\\python\\framework\\dtypes.py:535: FutureWarning: Passing (type, 1) or '1type' as a synonym of type is deprecated; in a future version of numpy, it will be understood as (type, (1,)) / '(1,)type'.\n",
      "  np_resource = np.dtype([(\"resource\", np.ubyte, 1)])\n"
     ]
    }
   ],
   "source": [
    "import pickle\n",
    "import numpy as np\n",
    "import pandas as pd\n",
    "import tensorflow as tf\n",
    "\n",
    "from tensorflow.python.platform import tf_logging as logging"
   ]
  },
  {
   "cell_type": "code",
   "execution_count": 2,
   "id": "2c173573",
   "metadata": {},
   "outputs": [],
   "source": [
    "def calculate_laplacian(adj, lambda_max = 1):\n",
    "    adj = normalized_adj"
   ]
  },
  {
   "cell_type": "code",
   "execution_count": 3,
   "id": "01b5bfb7",
   "metadata": {},
   "outputs": [],
   "source": [
    "def __init__(self, num_units, adj, inputs, output_dim, activation=tf.nn.tanh,\n",
    "            input_size = None, num_proj = None, reuse = None, **kwargs):\n",
    "    super(GCN, self).__init__(**kwargs)\n",
    "    \n",
    "    self.num_unitus = num_units\n",
    "    self.output_dim = output_dim\n",
    "    self.inputs = inputs\n",
    "    self.num_nodes = inputs.get_shape()[2].value\n",
    "    self.input_dim = inputs.get_shape()[1].value\n",
    "    self.batch_size = tf.shape(inputs)[0]\n",
    "    \n",
    "    self.adj = []\n",
    "    self.adj.append(calculate_laplacian(adj))\n",
    "    self.activation = activation\n",
    "    self.gconv()"
   ]
  },
  {
   "cell_type": "code",
   "execution_count": 4,
   "id": "fa897de5",
   "metadata": {},
   "outputs": [],
   "source": [
    "data_path = '../Data/METR-LA/speed_la.csv'\n",
    "adj_path = '../Data/METR-LA/adj_mx_la.pkl'"
   ]
  },
  {
   "cell_type": "code",
   "execution_count": 5,
   "id": "c9fb7ed8",
   "metadata": {},
   "outputs": [
    {
     "data": {
      "text/plain": [
       "[['773869',\n",
       "  '767541',\n",
       "  '767542',\n",
       "  '717447',\n",
       "  '717446',\n",
       "  '717445',\n",
       "  '773062',\n",
       "  '767620',\n",
       "  '737529',\n",
       "  '717816',\n",
       "  '765604',\n",
       "  '767471',\n",
       "  '716339',\n",
       "  '773906',\n",
       "  '765273',\n",
       "  '716331',\n",
       "  '771667',\n",
       "  '716337',\n",
       "  '769953',\n",
       "  '769402',\n",
       "  '769403',\n",
       "  '769819',\n",
       "  '769405',\n",
       "  '716941',\n",
       "  '717578',\n",
       "  '716960',\n",
       "  '717804',\n",
       "  '767572',\n",
       "  '767573',\n",
       "  '773012',\n",
       "  '773013',\n",
       "  '764424',\n",
       "  '769388',\n",
       "  '716328',\n",
       "  '717819',\n",
       "  '769941',\n",
       "  '760987',\n",
       "  '718204',\n",
       "  '718045',\n",
       "  '769418',\n",
       "  '768066',\n",
       "  '772140',\n",
       "  '773927',\n",
       "  '760024',\n",
       "  '774012',\n",
       "  '774011',\n",
       "  '767609',\n",
       "  '769359',\n",
       "  '760650',\n",
       "  '716956',\n",
       "  '769831',\n",
       "  '761604',\n",
       "  '717495',\n",
       "  '716554',\n",
       "  '773953',\n",
       "  '767470',\n",
       "  '716955',\n",
       "  '764949',\n",
       "  '773954',\n",
       "  '767366',\n",
       "  '769444',\n",
       "  '773939',\n",
       "  '774067',\n",
       "  '769443',\n",
       "  '767750',\n",
       "  '767751',\n",
       "  '767610',\n",
       "  '773880',\n",
       "  '764766',\n",
       "  '717497',\n",
       "  '717490',\n",
       "  '717491',\n",
       "  '717492',\n",
       "  '717493',\n",
       "  '765176',\n",
       "  '717498',\n",
       "  '717499',\n",
       "  '765171',\n",
       "  '718064',\n",
       "  '718066',\n",
       "  '765164',\n",
       "  '769431',\n",
       "  '769430',\n",
       "  '717610',\n",
       "  '767053',\n",
       "  '767621',\n",
       "  '772596',\n",
       "  '772597',\n",
       "  '767350',\n",
       "  '767351',\n",
       "  '716571',\n",
       "  '773023',\n",
       "  '767585',\n",
       "  '773024',\n",
       "  '717483',\n",
       "  '718379',\n",
       "  '717481',\n",
       "  '717480',\n",
       "  '717486',\n",
       "  '764120',\n",
       "  '772151',\n",
       "  '718371',\n",
       "  '717489',\n",
       "  '717488',\n",
       "  '717818',\n",
       "  '718076',\n",
       "  '718072',\n",
       "  '767455',\n",
       "  '767454',\n",
       "  '761599',\n",
       "  '717099',\n",
       "  '773916',\n",
       "  '716968',\n",
       "  '769467',\n",
       "  '717576',\n",
       "  '717573',\n",
       "  '717572',\n",
       "  '717571',\n",
       "  '717570',\n",
       "  '764760',\n",
       "  '718089',\n",
       "  '769847',\n",
       "  '717608',\n",
       "  '767523',\n",
       "  '716942',\n",
       "  '718090',\n",
       "  '769867',\n",
       "  '717472',\n",
       "  '717473',\n",
       "  '759591',\n",
       "  '764781',\n",
       "  '765099',\n",
       "  '762329',\n",
       "  '716953',\n",
       "  '716951',\n",
       "  '767509',\n",
       "  '765182',\n",
       "  '769358',\n",
       "  '772513',\n",
       "  '716958',\n",
       "  '718496',\n",
       "  '769346',\n",
       "  '773904',\n",
       "  '718499',\n",
       "  '764853',\n",
       "  '761003',\n",
       "  '717502',\n",
       "  '759602',\n",
       "  '717504',\n",
       "  '763995',\n",
       "  '717508',\n",
       "  '765265',\n",
       "  '773996',\n",
       "  '773995',\n",
       "  '717469',\n",
       "  '717468',\n",
       "  '764106',\n",
       "  '717465',\n",
       "  '764794',\n",
       "  '717466',\n",
       "  '717461',\n",
       "  '717460',\n",
       "  '717463',\n",
       "  '717462',\n",
       "  '769345',\n",
       "  '716943',\n",
       "  '772669',\n",
       "  '717582',\n",
       "  '717583',\n",
       "  '717580',\n",
       "  '716949',\n",
       "  '717587',\n",
       "  '772178',\n",
       "  '717585',\n",
       "  '716939',\n",
       "  '768469',\n",
       "  '764101',\n",
       "  '767554',\n",
       "  '773975',\n",
       "  '773974',\n",
       "  '717510',\n",
       "  '717513',\n",
       "  '717825',\n",
       "  '767495',\n",
       "  '767494',\n",
       "  '717821',\n",
       "  '717823',\n",
       "  '717458',\n",
       "  '717459',\n",
       "  '769926',\n",
       "  '764858',\n",
       "  '717450',\n",
       "  '717452',\n",
       "  '717453',\n",
       "  '759772',\n",
       "  '717456',\n",
       "  '771673',\n",
       "  '772167',\n",
       "  '769372',\n",
       "  '774204',\n",
       "  '769806',\n",
       "  '717590',\n",
       "  '717592',\n",
       "  '717595',\n",
       "  '772168',\n",
       "  '718141',\n",
       "  '769373'],\n",
       " {'717099': 110,\n",
       "  '773869': 0,\n",
       "  '767541': 1,\n",
       "  '767542': 2,\n",
       "  '717447': 3,\n",
       "  '717446': 4,\n",
       "  '717445': 5,\n",
       "  '773062': 6,\n",
       "  '767053': 84,\n",
       "  '737529': 8,\n",
       "  '717816': 9,\n",
       "  '765604': 10,\n",
       "  '767471': 11,\n",
       "  '716339': 12,\n",
       "  '772596': 86,\n",
       "  '765273': 14,\n",
       "  '716331': 15,\n",
       "  '771667': 16,\n",
       "  '716337': 17,\n",
       "  '769953': 18,\n",
       "  '769402': 19,\n",
       "  '769403': 20,\n",
       "  '769819': 21,\n",
       "  '769405': 22,\n",
       "  '769345': 164,\n",
       "  '716960': 25,\n",
       "  '717804': 26,\n",
       "  '767572': 27,\n",
       "  '767573': 28,\n",
       "  '773012': 29,\n",
       "  '773013': 30,\n",
       "  '764424': 31,\n",
       "  '764101': 176,\n",
       "  '769388': 32,\n",
       "  '716328': 33,\n",
       "  '717819': 34,\n",
       "  '769941': 35,\n",
       "  '760987': 36,\n",
       "  '718204': 37,\n",
       "  '718045': 38,\n",
       "  '769418': 39,\n",
       "  '768066': 40,\n",
       "  '772140': 41,\n",
       "  '773927': 42,\n",
       "  '769867': 126,\n",
       "  '772513': 138,\n",
       "  '774012': 44,\n",
       "  '774011': 45,\n",
       "  '767609': 46,\n",
       "  '760650': 48,\n",
       "  '765099': 131,\n",
       "  '769831': 50,\n",
       "  '772669': 166,\n",
       "  '767585': 92,\n",
       "  '716554': 53,\n",
       "  '773953': 54,\n",
       "  '767470': 55,\n",
       "  '762329': 132,\n",
       "  '764949': 57,\n",
       "  '773954': 58,\n",
       "  '767366': 59,\n",
       "  '769444': 60,\n",
       "  '773939': 61,\n",
       "  '774067': 62,\n",
       "  '769443': 63,\n",
       "  '767750': 64,\n",
       "  '767751': 65,\n",
       "  '767610': 66,\n",
       "  '773880': 67,\n",
       "  '764766': 68,\n",
       "  '717497': 69,\n",
       "  '717490': 70,\n",
       "  '717491': 71,\n",
       "  '717492': 72,\n",
       "  '717493': 73,\n",
       "  '765176': 74,\n",
       "  '717498': 75,\n",
       "  '717499': 76,\n",
       "  '765171': 77,\n",
       "  '718064': 78,\n",
       "  '718066': 79,\n",
       "  '718371': 101,\n",
       "  '769431': 81,\n",
       "  '769430': 82,\n",
       "  '717489': 102,\n",
       "  '767620': 7,\n",
       "  '767621': 85,\n",
       "  '773906': 13,\n",
       "  '772597': 87,\n",
       "  '767350': 88,\n",
       "  '767351': 89,\n",
       "  '716571': 90,\n",
       "  '773023': 91,\n",
       "  '761604': 51,\n",
       "  '773024': 93,\n",
       "  '717483': 94,\n",
       "  '718379': 95,\n",
       "  '717481': 96,\n",
       "  '717480': 97,\n",
       "  '717486': 98,\n",
       "  '764120': 99,\n",
       "  '772151': 100,\n",
       "  '765164': 80,\n",
       "  '717610': 83,\n",
       "  '717488': 103,\n",
       "  '769806': 200,\n",
       "  '717818': 104,\n",
       "  '718076': 105,\n",
       "  '718072': 106,\n",
       "  '767455': 107,\n",
       "  '767454': 108,\n",
       "  '769847': 121,\n",
       "  '761599': 109,\n",
       "  '717495': 52,\n",
       "  '773916': 111,\n",
       "  '716968': 112,\n",
       "  '769467': 113,\n",
       "  '717576': 114,\n",
       "  '717573': 115,\n",
       "  '717572': 116,\n",
       "  '717571': 117,\n",
       "  '717570': 118,\n",
       "  '764760': 119,\n",
       "  '718089': 120,\n",
       "  '717578': 24,\n",
       "  '717608': 122,\n",
       "  '759602': 147,\n",
       "  '760024': 43,\n",
       "  '717472': 127,\n",
       "  '717473': 128,\n",
       "  '759591': 129,\n",
       "  '764781': 130,\n",
       "  '716956': 49,\n",
       "  '716955': 56,\n",
       "  '716953': 133,\n",
       "  '716951': 134,\n",
       "  '767509': 135,\n",
       "  '769358': 137,\n",
       "  '769359': 47,\n",
       "  '716958': 139,\n",
       "  '718496': 140,\n",
       "  '769346': 141,\n",
       "  '773904': 142,\n",
       "  '718499': 143,\n",
       "  '764853': 144,\n",
       "  '761003': 145,\n",
       "  '717502': 146,\n",
       "  '718090': 125,\n",
       "  '717504': 148,\n",
       "  '763995': 149,\n",
       "  '717508': 150,\n",
       "  '771673': 196,\n",
       "  '773996': 152,\n",
       "  '773995': 153,\n",
       "  '717469': 154,\n",
       "  '717468': 155,\n",
       "  '764106': 156,\n",
       "  '717465': 157,\n",
       "  '764794': 158,\n",
       "  '717466': 159,\n",
       "  '717461': 160,\n",
       "  '717460': 161,\n",
       "  '717463': 162,\n",
       "  '717462': 163,\n",
       "  '716941': 23,\n",
       "  '716943': 165,\n",
       "  '716942': 124,\n",
       "  '717582': 167,\n",
       "  '717583': 168,\n",
       "  '717580': 169,\n",
       "  '716949': 170,\n",
       "  '717587': 171,\n",
       "  '772178': 172,\n",
       "  '717585': 173,\n",
       "  '716939': 174,\n",
       "  '768469': 175,\n",
       "  '765182': 136,\n",
       "  '767554': 177,\n",
       "  '773975': 178,\n",
       "  '773974': 179,\n",
       "  '717510': 180,\n",
       "  '717513': 181,\n",
       "  '717825': 182,\n",
       "  '767495': 183,\n",
       "  '767494': 184,\n",
       "  '717821': 185,\n",
       "  '717823': 186,\n",
       "  '717458': 187,\n",
       "  '717459': 188,\n",
       "  '769926': 189,\n",
       "  '764858': 190,\n",
       "  '717450': 191,\n",
       "  '717452': 192,\n",
       "  '717453': 193,\n",
       "  '759772': 194,\n",
       "  '717456': 195,\n",
       "  '765265': 151,\n",
       "  '772167': 197,\n",
       "  '718141': 205,\n",
       "  '774204': 199,\n",
       "  '767523': 123,\n",
       "  '717590': 201,\n",
       "  '717592': 202,\n",
       "  '717595': 203,\n",
       "  '772168': 204,\n",
       "  '769372': 198,\n",
       "  '769373': 206},\n",
       " array([[1.       , 0.       , 0.       , ..., 0.       , 0.       ,\n",
       "         0.       ],\n",
       "        [0.       , 1.       , 0.3909554, ..., 0.       , 0.       ,\n",
       "         0.       ],\n",
       "        [0.       , 0.7174379, 1.       , ..., 0.       , 0.       ,\n",
       "         0.       ],\n",
       "        ...,\n",
       "        [0.       , 0.       , 0.       , ..., 1.       , 0.       ,\n",
       "         0.       ],\n",
       "        [0.       , 0.       , 0.       , ..., 0.       , 1.       ,\n",
       "         0.       ],\n",
       "        [0.       , 0.       , 0.       , ..., 0.       , 0.       ,\n",
       "         1.       ]], dtype=float32)]"
      ]
     },
     "execution_count": 5,
     "metadata": {},
     "output_type": "execute_result"
    }
   ],
   "source": [
    "with open(adj_path, 'rb') as file:\n",
    "    data = pickle.load(file, encoding='latin1')\n",
    "data"
   ]
  },
  {
   "cell_type": "code",
   "execution_count": 6,
   "id": "3e89c36a",
   "metadata": {},
   "outputs": [
    {
     "data": {
      "text/plain": [
       "(207, 207)"
      ]
     },
     "execution_count": 6,
     "metadata": {},
     "output_type": "execute_result"
    }
   ],
   "source": [
    "adj = data[2]\n",
    "adj.shape"
   ]
  },
  {
   "cell_type": "code",
   "execution_count": 7,
   "id": "a2ccc11f",
   "metadata": {},
   "outputs": [
    {
     "data": {
      "text/plain": [
       "array([[1.       , 0.       , 0.       , ..., 0.       , 0.       ,\n",
       "        0.       ],\n",
       "       [0.       , 1.       , 0.3909554, ..., 0.       , 0.       ,\n",
       "        0.       ],\n",
       "       [0.       , 0.7174379, 1.       , ..., 0.       , 0.       ,\n",
       "        0.       ],\n",
       "       ...,\n",
       "       [0.       , 0.       , 0.       , ..., 1.       , 0.       ,\n",
       "        0.       ],\n",
       "       [0.       , 0.       , 0.       , ..., 0.       , 1.       ,\n",
       "        0.       ],\n",
       "       [0.       , 0.       , 0.       , ..., 0.       , 0.       ,\n",
       "        1.       ]], dtype=float32)"
      ]
     },
     "execution_count": 7,
     "metadata": {},
     "output_type": "execute_result"
    }
   ],
   "source": [
    "adj"
   ]
  },
  {
   "cell_type": "code",
   "execution_count": 8,
   "id": "cab8e8a2",
   "metadata": {},
   "outputs": [
    {
     "data": {
      "text/html": [
       "<div>\n",
       "<style scoped>\n",
       "    .dataframe tbody tr th:only-of-type {\n",
       "        vertical-align: middle;\n",
       "    }\n",
       "\n",
       "    .dataframe tbody tr th {\n",
       "        vertical-align: top;\n",
       "    }\n",
       "\n",
       "    .dataframe thead th {\n",
       "        text-align: right;\n",
       "    }\n",
       "</style>\n",
       "<table border=\"1\" class=\"dataframe\">\n",
       "  <thead>\n",
       "    <tr style=\"text-align: right;\">\n",
       "      <th></th>\n",
       "      <th>773869</th>\n",
       "      <th>767541</th>\n",
       "      <th>767542</th>\n",
       "      <th>717447</th>\n",
       "      <th>717446</th>\n",
       "      <th>717445</th>\n",
       "      <th>773062</th>\n",
       "      <th>767620</th>\n",
       "      <th>737529</th>\n",
       "      <th>717816</th>\n",
       "      <th>...</th>\n",
       "      <th>772167</th>\n",
       "      <th>769372</th>\n",
       "      <th>774204</th>\n",
       "      <th>769806</th>\n",
       "      <th>717590</th>\n",
       "      <th>717592</th>\n",
       "      <th>717595</th>\n",
       "      <th>772168</th>\n",
       "      <th>718141</th>\n",
       "      <th>769373</th>\n",
       "    </tr>\n",
       "  </thead>\n",
       "  <tbody>\n",
       "    <tr>\n",
       "      <th>0</th>\n",
       "      <td>64.375000</td>\n",
       "      <td>67.625000</td>\n",
       "      <td>67.125000</td>\n",
       "      <td>61.500000</td>\n",
       "      <td>66.875000</td>\n",
       "      <td>68.750000</td>\n",
       "      <td>65.125000</td>\n",
       "      <td>67.125000</td>\n",
       "      <td>59.625000</td>\n",
       "      <td>62.750000</td>\n",
       "      <td>...</td>\n",
       "      <td>45.625000</td>\n",
       "      <td>65.500000</td>\n",
       "      <td>64.500000</td>\n",
       "      <td>66.428571</td>\n",
       "      <td>66.875000</td>\n",
       "      <td>59.375000</td>\n",
       "      <td>69.000000</td>\n",
       "      <td>59.250000</td>\n",
       "      <td>69.000000</td>\n",
       "      <td>61.875000</td>\n",
       "    </tr>\n",
       "    <tr>\n",
       "      <th>1</th>\n",
       "      <td>62.666667</td>\n",
       "      <td>68.555556</td>\n",
       "      <td>65.444444</td>\n",
       "      <td>62.444444</td>\n",
       "      <td>64.444444</td>\n",
       "      <td>68.111111</td>\n",
       "      <td>65.000000</td>\n",
       "      <td>65.000000</td>\n",
       "      <td>57.444444</td>\n",
       "      <td>63.333333</td>\n",
       "      <td>...</td>\n",
       "      <td>50.666667</td>\n",
       "      <td>69.875000</td>\n",
       "      <td>66.666667</td>\n",
       "      <td>58.555556</td>\n",
       "      <td>62.000000</td>\n",
       "      <td>61.111111</td>\n",
       "      <td>64.444444</td>\n",
       "      <td>55.888889</td>\n",
       "      <td>68.444444</td>\n",
       "      <td>62.875000</td>\n",
       "    </tr>\n",
       "    <tr>\n",
       "      <th>2</th>\n",
       "      <td>64.000000</td>\n",
       "      <td>63.750000</td>\n",
       "      <td>60.000000</td>\n",
       "      <td>59.000000</td>\n",
       "      <td>66.500000</td>\n",
       "      <td>66.250000</td>\n",
       "      <td>64.500000</td>\n",
       "      <td>64.250000</td>\n",
       "      <td>63.875000</td>\n",
       "      <td>65.375000</td>\n",
       "      <td>...</td>\n",
       "      <td>44.125000</td>\n",
       "      <td>69.000000</td>\n",
       "      <td>56.500000</td>\n",
       "      <td>59.250000</td>\n",
       "      <td>68.125000</td>\n",
       "      <td>62.500000</td>\n",
       "      <td>65.625000</td>\n",
       "      <td>61.375000</td>\n",
       "      <td>69.857143</td>\n",
       "      <td>62.000000</td>\n",
       "    </tr>\n",
       "    <tr>\n",
       "      <th>3</th>\n",
       "      <td>64.000000</td>\n",
       "      <td>63.750000</td>\n",
       "      <td>60.000000</td>\n",
       "      <td>59.000000</td>\n",
       "      <td>66.500000</td>\n",
       "      <td>66.250000</td>\n",
       "      <td>64.500000</td>\n",
       "      <td>64.250000</td>\n",
       "      <td>63.875000</td>\n",
       "      <td>65.375000</td>\n",
       "      <td>...</td>\n",
       "      <td>44.125000</td>\n",
       "      <td>69.000000</td>\n",
       "      <td>56.500000</td>\n",
       "      <td>59.250000</td>\n",
       "      <td>68.125000</td>\n",
       "      <td>62.500000</td>\n",
       "      <td>65.625000</td>\n",
       "      <td>61.375000</td>\n",
       "      <td>69.857143</td>\n",
       "      <td>62.000000</td>\n",
       "    </tr>\n",
       "    <tr>\n",
       "      <th>4</th>\n",
       "      <td>64.000000</td>\n",
       "      <td>63.750000</td>\n",
       "      <td>60.000000</td>\n",
       "      <td>59.000000</td>\n",
       "      <td>66.500000</td>\n",
       "      <td>66.250000</td>\n",
       "      <td>64.500000</td>\n",
       "      <td>64.250000</td>\n",
       "      <td>63.875000</td>\n",
       "      <td>65.375000</td>\n",
       "      <td>...</td>\n",
       "      <td>44.125000</td>\n",
       "      <td>69.000000</td>\n",
       "      <td>56.500000</td>\n",
       "      <td>59.250000</td>\n",
       "      <td>68.125000</td>\n",
       "      <td>62.500000</td>\n",
       "      <td>65.625000</td>\n",
       "      <td>61.375000</td>\n",
       "      <td>69.857143</td>\n",
       "      <td>62.000000</td>\n",
       "    </tr>\n",
       "    <tr>\n",
       "      <th>...</th>\n",
       "      <td>...</td>\n",
       "      <td>...</td>\n",
       "      <td>...</td>\n",
       "      <td>...</td>\n",
       "      <td>...</td>\n",
       "      <td>...</td>\n",
       "      <td>...</td>\n",
       "      <td>...</td>\n",
       "      <td>...</td>\n",
       "      <td>...</td>\n",
       "      <td>...</td>\n",
       "      <td>...</td>\n",
       "      <td>...</td>\n",
       "      <td>...</td>\n",
       "      <td>...</td>\n",
       "      <td>...</td>\n",
       "      <td>...</td>\n",
       "      <td>...</td>\n",
       "      <td>...</td>\n",
       "      <td>...</td>\n",
       "      <td>...</td>\n",
       "    </tr>\n",
       "    <tr>\n",
       "      <th>34267</th>\n",
       "      <td>65.000000</td>\n",
       "      <td>65.888889</td>\n",
       "      <td>68.555556</td>\n",
       "      <td>61.666667</td>\n",
       "      <td>32.833333</td>\n",
       "      <td>54.555556</td>\n",
       "      <td>62.444444</td>\n",
       "      <td>63.333333</td>\n",
       "      <td>59.222222</td>\n",
       "      <td>65.333333</td>\n",
       "      <td>...</td>\n",
       "      <td>52.888889</td>\n",
       "      <td>69.000000</td>\n",
       "      <td>65.111111</td>\n",
       "      <td>55.666667</td>\n",
       "      <td>66.333333</td>\n",
       "      <td>62.444444</td>\n",
       "      <td>66.777778</td>\n",
       "      <td>64.888889</td>\n",
       "      <td>69.666667</td>\n",
       "      <td>62.333333</td>\n",
       "    </tr>\n",
       "    <tr>\n",
       "      <th>34268</th>\n",
       "      <td>61.375000</td>\n",
       "      <td>65.625000</td>\n",
       "      <td>66.500000</td>\n",
       "      <td>62.750000</td>\n",
       "      <td>32.833333</td>\n",
       "      <td>50.500000</td>\n",
       "      <td>62.000000</td>\n",
       "      <td>67.000000</td>\n",
       "      <td>65.250000</td>\n",
       "      <td>67.125000</td>\n",
       "      <td>...</td>\n",
       "      <td>54.000000</td>\n",
       "      <td>69.250000</td>\n",
       "      <td>60.125000</td>\n",
       "      <td>60.500000</td>\n",
       "      <td>67.250000</td>\n",
       "      <td>59.375000</td>\n",
       "      <td>66.000000</td>\n",
       "      <td>61.250000</td>\n",
       "      <td>69.000000</td>\n",
       "      <td>62.000000</td>\n",
       "    </tr>\n",
       "    <tr>\n",
       "      <th>34269</th>\n",
       "      <td>67.000000</td>\n",
       "      <td>59.666667</td>\n",
       "      <td>69.555556</td>\n",
       "      <td>61.000000</td>\n",
       "      <td>32.833333</td>\n",
       "      <td>44.777778</td>\n",
       "      <td>64.222222</td>\n",
       "      <td>63.777778</td>\n",
       "      <td>59.777778</td>\n",
       "      <td>57.666667</td>\n",
       "      <td>...</td>\n",
       "      <td>51.333333</td>\n",
       "      <td>67.888889</td>\n",
       "      <td>64.333333</td>\n",
       "      <td>57.000000</td>\n",
       "      <td>66.000000</td>\n",
       "      <td>62.666667</td>\n",
       "      <td>68.666667</td>\n",
       "      <td>63.333333</td>\n",
       "      <td>67.444444</td>\n",
       "      <td>61.222222</td>\n",
       "    </tr>\n",
       "    <tr>\n",
       "      <th>34270</th>\n",
       "      <td>66.750000</td>\n",
       "      <td>62.250000</td>\n",
       "      <td>66.000000</td>\n",
       "      <td>59.625000</td>\n",
       "      <td>32.833333</td>\n",
       "      <td>53.000000</td>\n",
       "      <td>64.285714</td>\n",
       "      <td>64.125000</td>\n",
       "      <td>60.875000</td>\n",
       "      <td>66.250000</td>\n",
       "      <td>...</td>\n",
       "      <td>51.125000</td>\n",
       "      <td>69.375000</td>\n",
       "      <td>61.625000</td>\n",
       "      <td>60.500000</td>\n",
       "      <td>65.625000</td>\n",
       "      <td>66.375000</td>\n",
       "      <td>69.500000</td>\n",
       "      <td>63.000000</td>\n",
       "      <td>67.875000</td>\n",
       "      <td>63.500000</td>\n",
       "    </tr>\n",
       "    <tr>\n",
       "      <th>34271</th>\n",
       "      <td>65.111111</td>\n",
       "      <td>66.888889</td>\n",
       "      <td>66.777778</td>\n",
       "      <td>61.222222</td>\n",
       "      <td>32.833333</td>\n",
       "      <td>49.555556</td>\n",
       "      <td>65.777778</td>\n",
       "      <td>65.111111</td>\n",
       "      <td>63.000000</td>\n",
       "      <td>61.666667</td>\n",
       "      <td>...</td>\n",
       "      <td>56.000000</td>\n",
       "      <td>67.444444</td>\n",
       "      <td>64.888889</td>\n",
       "      <td>60.888889</td>\n",
       "      <td>64.222222</td>\n",
       "      <td>66.444444</td>\n",
       "      <td>68.444444</td>\n",
       "      <td>63.555556</td>\n",
       "      <td>68.666667</td>\n",
       "      <td>61.777778</td>\n",
       "    </tr>\n",
       "  </tbody>\n",
       "</table>\n",
       "<p>34272 rows × 207 columns</p>\n",
       "</div>"
      ],
      "text/plain": [
       "          773869     767541     767542     717447     717446     717445  \\\n",
       "0      64.375000  67.625000  67.125000  61.500000  66.875000  68.750000   \n",
       "1      62.666667  68.555556  65.444444  62.444444  64.444444  68.111111   \n",
       "2      64.000000  63.750000  60.000000  59.000000  66.500000  66.250000   \n",
       "3      64.000000  63.750000  60.000000  59.000000  66.500000  66.250000   \n",
       "4      64.000000  63.750000  60.000000  59.000000  66.500000  66.250000   \n",
       "...          ...        ...        ...        ...        ...        ...   \n",
       "34267  65.000000  65.888889  68.555556  61.666667  32.833333  54.555556   \n",
       "34268  61.375000  65.625000  66.500000  62.750000  32.833333  50.500000   \n",
       "34269  67.000000  59.666667  69.555556  61.000000  32.833333  44.777778   \n",
       "34270  66.750000  62.250000  66.000000  59.625000  32.833333  53.000000   \n",
       "34271  65.111111  66.888889  66.777778  61.222222  32.833333  49.555556   \n",
       "\n",
       "          773062     767620     737529     717816  ...     772167     769372  \\\n",
       "0      65.125000  67.125000  59.625000  62.750000  ...  45.625000  65.500000   \n",
       "1      65.000000  65.000000  57.444444  63.333333  ...  50.666667  69.875000   \n",
       "2      64.500000  64.250000  63.875000  65.375000  ...  44.125000  69.000000   \n",
       "3      64.500000  64.250000  63.875000  65.375000  ...  44.125000  69.000000   \n",
       "4      64.500000  64.250000  63.875000  65.375000  ...  44.125000  69.000000   \n",
       "...          ...        ...        ...        ...  ...        ...        ...   \n",
       "34267  62.444444  63.333333  59.222222  65.333333  ...  52.888889  69.000000   \n",
       "34268  62.000000  67.000000  65.250000  67.125000  ...  54.000000  69.250000   \n",
       "34269  64.222222  63.777778  59.777778  57.666667  ...  51.333333  67.888889   \n",
       "34270  64.285714  64.125000  60.875000  66.250000  ...  51.125000  69.375000   \n",
       "34271  65.777778  65.111111  63.000000  61.666667  ...  56.000000  67.444444   \n",
       "\n",
       "          774204     769806     717590     717592     717595     772168  \\\n",
       "0      64.500000  66.428571  66.875000  59.375000  69.000000  59.250000   \n",
       "1      66.666667  58.555556  62.000000  61.111111  64.444444  55.888889   \n",
       "2      56.500000  59.250000  68.125000  62.500000  65.625000  61.375000   \n",
       "3      56.500000  59.250000  68.125000  62.500000  65.625000  61.375000   \n",
       "4      56.500000  59.250000  68.125000  62.500000  65.625000  61.375000   \n",
       "...          ...        ...        ...        ...        ...        ...   \n",
       "34267  65.111111  55.666667  66.333333  62.444444  66.777778  64.888889   \n",
       "34268  60.125000  60.500000  67.250000  59.375000  66.000000  61.250000   \n",
       "34269  64.333333  57.000000  66.000000  62.666667  68.666667  63.333333   \n",
       "34270  61.625000  60.500000  65.625000  66.375000  69.500000  63.000000   \n",
       "34271  64.888889  60.888889  64.222222  66.444444  68.444444  63.555556   \n",
       "\n",
       "          718141     769373  \n",
       "0      69.000000  61.875000  \n",
       "1      68.444444  62.875000  \n",
       "2      69.857143  62.000000  \n",
       "3      69.857143  62.000000  \n",
       "4      69.857143  62.000000  \n",
       "...          ...        ...  \n",
       "34267  69.666667  62.333333  \n",
       "34268  69.000000  62.000000  \n",
       "34269  67.444444  61.222222  \n",
       "34270  67.875000  63.500000  \n",
       "34271  68.666667  61.777778  \n",
       "\n",
       "[34272 rows x 207 columns]"
      ]
     },
     "execution_count": 8,
     "metadata": {},
     "output_type": "execute_result"
    }
   ],
   "source": [
    "data = pd.read_csv(data_path)\n",
    "data = data.drop(['Unnamed: 0'], axis=1)\n",
    "data"
   ]
  },
  {
   "cell_type": "code",
   "execution_count": 9,
   "id": "d4761eae",
   "metadata": {},
   "outputs": [],
   "source": [
    "adj = np.mat(adj)"
   ]
  },
  {
   "cell_type": "code",
   "execution_count": 10,
   "id": "03d7bf1b",
   "metadata": {},
   "outputs": [],
   "source": [
    "import scipy.sparse as sp"
   ]
  },
  {
   "cell_type": "code",
   "execution_count": 11,
   "id": "a437773d",
   "metadata": {},
   "outputs": [
    {
     "data": {
      "text/plain": [
       "matrix([[1.       , 0.       , 0.       , ..., 0.       , 0.       ,\n",
       "         0.       ],\n",
       "        [0.       , 1.       , 0.3909554, ..., 0.       , 0.       ,\n",
       "         0.       ],\n",
       "        [0.       , 0.7174379, 1.       , ..., 0.       , 0.       ,\n",
       "         0.       ],\n",
       "        ...,\n",
       "        [0.       , 0.       , 0.       , ..., 1.       , 0.       ,\n",
       "         0.       ],\n",
       "        [0.       , 0.       , 0.       , ..., 0.       , 1.       ,\n",
       "         0.       ],\n",
       "        [0.       , 0.       , 0.       , ..., 0.       , 0.       ,\n",
       "         1.       ]], dtype=float32)"
      ]
     },
     "execution_count": 11,
     "metadata": {},
     "output_type": "execute_result"
    }
   ],
   "source": [
    "adj"
   ]
  },
  {
   "cell_type": "code",
   "execution_count": 12,
   "id": "633139b0",
   "metadata": {},
   "outputs": [
    {
     "data": {
      "text/plain": [
       "<207x207 sparse matrix of type '<class 'numpy.float32'>'\n",
       "\twith 1722 stored elements in COOrdinate format>"
      ]
     },
     "execution_count": 12,
     "metadata": {},
     "output_type": "execute_result"
    }
   ],
   "source": [
    "adj = sp.coo_matrix(adj + sp.eye(adj.shape[0]))\n",
    "rowsum = np.array(adj.sum(1))\n",
    "d_inv_sqrt = np.power(rowsum, -0.5).flatten()\n",
    "d_inv_sqrt[np.isinf(d_inv_sqrt)] = 0.\n",
    "d_mat_inv_sqrt = sp.diags(d_inv_sqrt)\n",
    "normalized_adj = adj.dot(d_mat_inv_sqrt).transpose().dot(d_mat_inv_sqrt).tocoo()\n",
    "normalized_adj = normalized_adj.astype(np.float32)\n",
    "normalized_adj"
   ]
  },
  {
   "cell_type": "code",
   "execution_count": 13,
   "id": "c74f0709",
   "metadata": {},
   "outputs": [
    {
     "data": {
      "text/plain": [
       "<207x207 sparse matrix of type '<class 'numpy.float32'>'\n",
       "\twith 1722 stored elements in Compressed Sparse Row format>"
      ]
     },
     "execution_count": 13,
     "metadata": {},
     "output_type": "execute_result"
    }
   ],
   "source": [
    "adj = sp.csr_matrix(adj)\n",
    "adj = adj.astype(np.float32)\n",
    "adj"
   ]
  },
  {
   "cell_type": "code",
   "execution_count": 14,
   "id": "986a5563",
   "metadata": {},
   "outputs": [
    {
     "data": {
      "text/plain": [
       "array([[  0,   0],\n",
       "       [  0,  13],\n",
       "       [  0,  37],\n",
       "       ...,\n",
       "       [206, 187],\n",
       "       [206, 198],\n",
       "       [206, 206]], dtype=int32)"
      ]
     },
     "execution_count": 14,
     "metadata": {},
     "output_type": "execute_result"
    }
   ],
   "source": [
    "adj = adj.tocoo()\n",
    "coords = np.vstack((adj.row, adj.col)).transpose()\n",
    "coords"
   ]
  },
  {
   "cell_type": "code",
   "execution_count": 15,
   "id": "a15f76ca",
   "metadata": {},
   "outputs": [
    {
     "data": {
      "text/plain": [
       "<tensorflow.python.framework.sparse_tensor.SparseTensor at 0x1c9a5a273c8>"
      ]
     },
     "execution_count": 15,
     "metadata": {},
     "output_type": "execute_result"
    }
   ],
   "source": [
    "L = tf.SparseTensor(coords, adj.data, adj.shape)\n",
    "tf.sparse_reorder(L)"
   ]
  },
  {
   "cell_type": "code",
   "execution_count": 17,
   "id": "176a4e01",
   "metadata": {},
   "outputs": [
    {
     "data": {
      "text/plain": [
       "<tensorflow.python.framework.sparse_tensor.SparseTensor at 0x1c9a66c8208>"
      ]
     },
     "execution_count": 17,
     "metadata": {},
     "output_type": "execute_result"
    }
   ],
   "source": [
    "L"
   ]
  },
  {
   "cell_type": "code",
   "execution_count": 18,
   "id": "c987d019",
   "metadata": {},
   "outputs": [
    {
     "data": {
      "text/plain": [
       "['__class__',\n",
       " '__delattr__',\n",
       " '__dict__',\n",
       " '__dir__',\n",
       " '__div__',\n",
       " '__doc__',\n",
       " '__eq__',\n",
       " '__format__',\n",
       " '__ge__',\n",
       " '__getattribute__',\n",
       " '__gt__',\n",
       " '__hash__',\n",
       " '__init__',\n",
       " '__init_subclass__',\n",
       " '__le__',\n",
       " '__lt__',\n",
       " '__module__',\n",
       " '__mul__',\n",
       " '__ne__',\n",
       " '__new__',\n",
       " '__reduce__',\n",
       " '__reduce_ex__',\n",
       " '__repr__',\n",
       " '__setattr__',\n",
       " '__sizeof__',\n",
       " '__str__',\n",
       " '__subclasshook__',\n",
       " '__truediv__',\n",
       " '__weakref__',\n",
       " '_dense_shape',\n",
       " '_indices',\n",
       " '_override_operator',\n",
       " '_tf_api_names',\n",
       " '_tf_api_names_v1',\n",
       " '_values',\n",
       " 'consumers',\n",
       " 'dense_shape',\n",
       " 'dtype',\n",
       " 'eval',\n",
       " 'from_value',\n",
       " 'get_shape',\n",
       " 'graph',\n",
       " 'indices',\n",
       " 'op',\n",
       " 'shape',\n",
       " 'values']"
      ]
     },
     "execution_count": 18,
     "metadata": {},
     "output_type": "execute_result"
    }
   ],
   "source": [
    "dir(L)"
   ]
  },
  {
   "cell_type": "code",
   "execution_count": 20,
   "id": "e18134a2",
   "metadata": {},
   "outputs": [
    {
     "data": {
      "text/plain": [
       "<tf.Tensor 'SparseTensor/values:0' shape=(1722,) dtype=float32>"
      ]
     },
     "execution_count": 20,
     "metadata": {},
     "output_type": "execute_result"
    }
   ],
   "source": [
    "L._values"
   ]
  },
  {
   "cell_type": "code",
   "execution_count": null,
   "id": "3a57ff00",
   "metadata": {},
   "outputs": [],
   "source": []
  },
  {
   "cell_type": "code",
   "execution_count": null,
   "id": "8bc07d6d",
   "metadata": {},
   "outputs": [],
   "source": []
  },
  {
   "cell_type": "code",
   "execution_count": null,
   "id": "ffea8930",
   "metadata": {},
   "outputs": [],
   "source": []
  },
  {
   "cell_type": "code",
   "execution_count": null,
   "id": "ef287734",
   "metadata": {},
   "outputs": [],
   "source": []
  },
  {
   "cell_type": "code",
   "execution_count": null,
   "id": "74dfd185",
   "metadata": {},
   "outputs": [],
   "source": []
  },
  {
   "cell_type": "code",
   "execution_count": null,
   "id": "6cd1275b",
   "metadata": {},
   "outputs": [],
   "source": []
  },
  {
   "cell_type": "code",
   "execution_count": null,
   "id": "b798d8d6",
   "metadata": {},
   "outputs": [],
   "source": []
  },
  {
   "cell_type": "code",
   "execution_count": null,
   "id": "e647c07b",
   "metadata": {},
   "outputs": [],
   "source": []
  },
  {
   "cell_type": "code",
   "execution_count": null,
   "id": "b918943e",
   "metadata": {},
   "outputs": [],
   "source": []
  },
  {
   "cell_type": "code",
   "execution_count": null,
   "id": "daf455c2",
   "metadata": {},
   "outputs": [],
   "source": []
  },
  {
   "cell_type": "code",
   "execution_count": null,
   "id": "d8e5ef34",
   "metadata": {},
   "outputs": [],
   "source": []
  },
  {
   "cell_type": "code",
   "execution_count": null,
   "id": "8e6b9279",
   "metadata": {},
   "outputs": [],
   "source": []
  },
  {
   "cell_type": "code",
   "execution_count": null,
   "id": "81b252c4",
   "metadata": {},
   "outputs": [],
   "source": []
  },
  {
   "cell_type": "code",
   "execution_count": null,
   "id": "80f9bc6a",
   "metadata": {},
   "outputs": [],
   "source": []
  },
  {
   "cell_type": "code",
   "execution_count": null,
   "id": "ec5320a2",
   "metadata": {},
   "outputs": [],
   "source": []
  },
  {
   "cell_type": "code",
   "execution_count": null,
   "id": "f528d88c",
   "metadata": {},
   "outputs": [],
   "source": []
  },
  {
   "cell_type": "code",
   "execution_count": null,
   "id": "15dd34f1",
   "metadata": {},
   "outputs": [],
   "source": []
  },
  {
   "cell_type": "code",
   "execution_count": null,
   "id": "855a575b",
   "metadata": {},
   "outputs": [],
   "source": []
  },
  {
   "cell_type": "code",
   "execution_count": null,
   "id": "88d6da64",
   "metadata": {},
   "outputs": [],
   "source": []
  },
  {
   "cell_type": "code",
   "execution_count": null,
   "id": "7e3b644e",
   "metadata": {},
   "outputs": [],
   "source": []
  },
  {
   "cell_type": "code",
   "execution_count": null,
   "id": "d8a5e8be",
   "metadata": {},
   "outputs": [],
   "source": []
  },
  {
   "cell_type": "code",
   "execution_count": null,
   "id": "261ca1bf",
   "metadata": {},
   "outputs": [],
   "source": []
  },
  {
   "cell_type": "code",
   "execution_count": null,
   "id": "e1e6a65a",
   "metadata": {},
   "outputs": [],
   "source": []
  },
  {
   "cell_type": "code",
   "execution_count": 21,
   "id": "de8c345e",
   "metadata": {},
   "outputs": [
    {
     "ename": "NameError",
     "evalue": "name 'T' is not defined",
     "output_type": "error",
     "traceback": [
      "\u001b[1;31m---------------------------------------------------------------------------\u001b[0m",
      "\u001b[1;31mNameError\u001b[0m                                 Traceback (most recent call last)",
      "\u001b[1;32m~\\AppData\\Local\\Temp\\ipykernel_79716\\2203278621.py\u001b[0m in \u001b[0;36m<module>\u001b[1;34m\u001b[0m\n\u001b[1;32m----> 1\u001b[1;33m \u001b[0mT\u001b[0m\u001b[1;33m\u001b[0m\u001b[1;33m\u001b[0m\u001b[0m\n\u001b[0m",
      "\u001b[1;31mNameError\u001b[0m: name 'T' is not defined"
     ]
    }
   ],
   "source": [
    "T"
   ]
  },
  {
   "cell_type": "code",
   "execution_count": 22,
   "id": "c9c8c889",
   "metadata": {},
   "outputs": [
    {
     "ename": "NameError",
     "evalue": "name 'TLQKFFUSDL' is not defined",
     "output_type": "error",
     "traceback": [
      "\u001b[1;31m---------------------------------------------------------------------------\u001b[0m",
      "\u001b[1;31mNameError\u001b[0m                                 Traceback (most recent call last)",
      "\u001b[1;32m~\\AppData\\Local\\Temp\\ipykernel_79716\\2746087528.py\u001b[0m in \u001b[0;36m<module>\u001b[1;34m\u001b[0m\n\u001b[1;32m----> 1\u001b[1;33m \u001b[0mTLQKFFUSDL\u001b[0m\u001b[1;33m\u001b[0m\u001b[1;33m\u001b[0m\u001b[0m\n\u001b[0m",
      "\u001b[1;31mNameError\u001b[0m: name 'TLQKFFUSDL' is not defined"
     ]
    }
   ],
   "source": [
    "TLQKFFUSDL\n"
   ]
  },
  {
   "cell_type": "code",
   "execution_count": 23,
   "id": "e7df4be9",
   "metadata": {},
   "outputs": [
    {
     "ename": "NameError",
     "evalue": "name 'asdp' is not defined",
     "output_type": "error",
     "traceback": [
      "\u001b[1;31m---------------------------------------------------------------------------\u001b[0m",
      "\u001b[1;31mNameError\u001b[0m                                 Traceback (most recent call last)",
      "\u001b[1;32m~\\AppData\\Local\\Temp\\ipykernel_79716\\2501715964.py\u001b[0m in \u001b[0;36m<module>\u001b[1;34m\u001b[0m\n\u001b[1;32m----> 1\u001b[1;33m asdp[katopkfopkasopdkopaskfopakdopaskd\n\u001b[0m\u001b[0;32m      2\u001b[0m     ][p]\n",
      "\u001b[1;31mNameError\u001b[0m: name 'asdp' is not defined"
     ]
    }
   ],
   "source": [
    "asdp[katopkfopkasopdkopaskfopakdopaskd\n",
    "    ][p]"
   ]
  },
  {
   "cell_type": "code",
   "execution_count": 24,
   "id": "4e45c93d",
   "metadata": {},
   "outputs": [
    {
     "ename": "SyntaxError",
     "evalue": "invalid syntax (4021962491.py, line 1)",
     "output_type": "error",
     "traceback": [
      "\u001b[1;36m  File \u001b[1;32m\"C:\\Users\\vfgtr554\\AppData\\Local\\Temp\\ipykernel_79716\\4021962491.py\"\u001b[1;36m, line \u001b[1;32m1\u001b[0m\n\u001b[1;33m    Lspa dlkspd[f\u001b[0m\n\u001b[1;37m              ^\u001b[0m\n\u001b[1;31mSyntaxError\u001b[0m\u001b[1;31m:\u001b[0m invalid syntax\n"
     ]
    }
   ],
   "source": [
    "Lspa dlkspd[f\n",
    "           o SP{F}]"
   ]
  },
  {
   "cell_type": "code",
   "execution_count": 25,
   "id": "d63b74dd",
   "metadata": {},
   "outputs": [
    {
     "ename": "SyntaxError",
     "evalue": "invalid syntax (1630455370.py, line 1)",
     "output_type": "error",
     "traceback": [
      "\u001b[1;36m  File \u001b[1;32m\"C:\\Users\\vfgtr554\\AppData\\Local\\Temp\\ipykernel_79716\\1630455370.py\"\u001b[1;36m, line \u001b[1;32m1\u001b[0m\n\u001b[1;33m    as][sadd []\u001b[0m\n\u001b[1;37m     ^\u001b[0m\n\u001b[1;31mSyntaxError\u001b[0m\u001b[1;31m:\u001b[0m invalid syntax\n"
     ]
    }
   ],
   "source": [
    "as][sadd []\n",
    "   as[d\n",
    "     [\n",
    "         as{ }\n",
    "     ]]]"
   ]
  },
  {
   "cell_type": "code",
   "execution_count": 26,
   "id": "abfe0eae",
   "metadata": {},
   "outputs": [
    {
     "ename": "SyntaxError",
     "evalue": "invalid syntax (257595061.py, line 1)",
     "output_type": "error",
     "traceback": [
      "\u001b[1;36m  File \u001b[1;32m\"C:\\Users\\vfgtr554\\AppData\\Local\\Temp\\ipykernel_79716\\257595061.py\"\u001b[1;36m, line \u001b[1;32m1\u001b[0m\n\u001b[1;33m    AS{ d\u001b[0m\n\u001b[1;37m      ^\u001b[0m\n\u001b[1;31mSyntaxError\u001b[0m\u001b[1;31m:\u001b[0m invalid syntax\n"
     ]
    }
   ],
   "source": [
    "AS{ d\n",
    "  as[ d\n",
    "    A{D \n",
    "     s[ad\n",
    "       [as\n",
    "       { }]]}]}"
   ]
  },
  {
   "cell_type": "code",
   "execution_count": 27,
   "id": "bda02095",
   "metadata": {},
   "outputs": [
    {
     "ename": "SyntaxError",
     "evalue": "invalid syntax (3473700265.py, line 2)",
     "output_type": "error",
     "traceback": [
      "\u001b[1;36m  File \u001b[1;32m\"C:\\Users\\vfgtr554\\AppData\\Local\\Temp\\ipykernel_79716\\3473700265.py\"\u001b[1;36m, line \u001b[1;32m2\u001b[0m\n\u001b[1;33m    as[\u001b[0m\n\u001b[1;37m     ^\u001b[0m\n\u001b[1;31mSyntaxError\u001b[0m\u001b[1;31m:\u001b[0m invalid syntax\n"
     ]
    }
   ],
   "source": [
    "[d \n",
    "as[ \n",
    "as [d\n",
    "   as [\n",
    "       sa[d\n",
    "         as[d \n",
    "           as[d]]]\n",
    "   ]]]]"
   ]
  },
  {
   "cell_type": "code",
   "execution_count": 28,
   "id": "c630986e",
   "metadata": {},
   "outputs": [
    {
     "ename": "SyntaxError",
     "evalue": "invalid syntax (3602416160.py, line 1)",
     "output_type": "error",
     "traceback": [
      "\u001b[1;36m  File \u001b[1;32m\"C:\\Users\\vfgtr554\\AppData\\Local\\Temp\\ipykernel_79716\\3602416160.py\"\u001b[1;36m, line \u001b[1;32m1\u001b[0m\n\u001b[1;33m    AS{\u001b[0m\n\u001b[1;37m      ^\u001b[0m\n\u001b[1;31mSyntaxError\u001b[0m\u001b[1;31m:\u001b[0m invalid syntax\n"
     ]
    }
   ],
   "source": [
    "AS{\n",
    "    A{D}\n",
    "}"
   ]
  },
  {
   "cell_type": "code",
   "execution_count": 29,
   "id": "01fee078",
   "metadata": {},
   "outputs": [
    {
     "ename": "SyntaxError",
     "evalue": "invalid syntax (1711249932.py, line 1)",
     "output_type": "error",
     "traceback": [
      "\u001b[1;36m  File \u001b[1;32m\"C:\\Users\\vfgtr554\\AppData\\Local\\Temp\\ipykernel_79716\\1711249932.py\"\u001b[1;36m, line \u001b[1;32m1\u001b[0m\n\u001b[1;33m    A{D}\u001b[0m\n\u001b[1;37m     ^\u001b[0m\n\u001b[1;31mSyntaxError\u001b[0m\u001b[1;31m:\u001b[0m invalid syntax\n"
     ]
    }
   ],
   "source": [
    "A{D}"
   ]
  },
  {
   "cell_type": "code",
   "execution_count": 30,
   "id": "802c1ef9",
   "metadata": {},
   "outputs": [
    {
     "ename": "SyntaxError",
     "evalue": "invalid syntax (2404329100.py, line 1)",
     "output_type": "error",
     "traceback": [
      "\u001b[1;36m  File \u001b[1;32m\"C:\\Users\\vfgtr554\\AppData\\Local\\Temp\\ipykernel_79716\\2404329100.py\"\u001b[1;36m, line \u001b[1;32m1\u001b[0m\n\u001b[1;33m    AS{D}\u001b[0m\n\u001b[1;37m      ^\u001b[0m\n\u001b[1;31mSyntaxError\u001b[0m\u001b[1;31m:\u001b[0m invalid syntax\n"
     ]
    }
   ],
   "source": [
    "AS{D}"
   ]
  },
  {
   "cell_type": "code",
   "execution_count": 31,
   "id": "e3e5c214",
   "metadata": {},
   "outputs": [
    {
     "ename": "SyntaxError",
     "evalue": "invalid syntax (2404329100.py, line 1)",
     "output_type": "error",
     "traceback": [
      "\u001b[1;36m  File \u001b[1;32m\"C:\\Users\\vfgtr554\\AppData\\Local\\Temp\\ipykernel_79716\\2404329100.py\"\u001b[1;36m, line \u001b[1;32m1\u001b[0m\n\u001b[1;33m    AS{D}\u001b[0m\n\u001b[1;37m      ^\u001b[0m\n\u001b[1;31mSyntaxError\u001b[0m\u001b[1;31m:\u001b[0m invalid syntax\n"
     ]
    }
   ],
   "source": [
    "AS{D}"
   ]
  },
  {
   "cell_type": "code",
   "execution_count": 32,
   "id": "2c27fa9e",
   "metadata": {},
   "outputs": [
    {
     "ename": "SyntaxError",
     "evalue": "invalid syntax (2665485733.py, line 1)",
     "output_type": "error",
     "traceback": [
      "\u001b[1;36m  File \u001b[1;32m\"C:\\Users\\vfgtr554\\AppData\\Local\\Temp\\ipykernel_79716\\2665485733.py\"\u001b[1;36m, line \u001b[1;32m1\u001b[0m\n\u001b[1;33m    AS{DA}\u001b[0m\n\u001b[1;37m      ^\u001b[0m\n\u001b[1;31mSyntaxError\u001b[0m\u001b[1;31m:\u001b[0m invalid syntax\n"
     ]
    }
   ],
   "source": [
    "AS{DA}"
   ]
  },
  {
   "cell_type": "code",
   "execution_count": 33,
   "id": "38636668",
   "metadata": {},
   "outputs": [
    {
     "ename": "SyntaxError",
     "evalue": "invalid syntax (310253483.py, line 1)",
     "output_type": "error",
     "traceback": [
      "\u001b[1;36m  File \u001b[1;32m\"C:\\Users\\vfgtr554\\AppData\\Local\\Temp\\ipykernel_79716\\310253483.py\"\u001b[1;36m, line \u001b[1;32m1\u001b[0m\n\u001b[1;33m    S{D}\u001b[0m\n\u001b[1;37m     ^\u001b[0m\n\u001b[1;31mSyntaxError\u001b[0m\u001b[1;31m:\u001b[0m invalid syntax\n"
     ]
    }
   ],
   "source": [
    "S{D}"
   ]
  },
  {
   "cell_type": "code",
   "execution_count": 34,
   "id": "02c976e4",
   "metadata": {},
   "outputs": [
    {
     "ename": "SyntaxError",
     "evalue": "invalid syntax (2404329100.py, line 1)",
     "output_type": "error",
     "traceback": [
      "\u001b[1;36m  File \u001b[1;32m\"C:\\Users\\vfgtr554\\AppData\\Local\\Temp\\ipykernel_79716\\2404329100.py\"\u001b[1;36m, line \u001b[1;32m1\u001b[0m\n\u001b[1;33m    AS{D}\u001b[0m\n\u001b[1;37m      ^\u001b[0m\n\u001b[1;31mSyntaxError\u001b[0m\u001b[1;31m:\u001b[0m invalid syntax\n"
     ]
    }
   ],
   "source": [
    "AS{D}"
   ]
  },
  {
   "cell_type": "code",
   "execution_count": 35,
   "id": "1d8bfd56",
   "metadata": {},
   "outputs": [
    {
     "ename": "SyntaxError",
     "evalue": "invalid syntax (2404329100.py, line 1)",
     "output_type": "error",
     "traceback": [
      "\u001b[1;36m  File \u001b[1;32m\"C:\\Users\\vfgtr554\\AppData\\Local\\Temp\\ipykernel_79716\\2404329100.py\"\u001b[1;36m, line \u001b[1;32m1\u001b[0m\n\u001b[1;33m    AS{D}\u001b[0m\n\u001b[1;37m      ^\u001b[0m\n\u001b[1;31mSyntaxError\u001b[0m\u001b[1;31m:\u001b[0m invalid syntax\n"
     ]
    }
   ],
   "source": [
    "AS{D}"
   ]
  },
  {
   "cell_type": "code",
   "execution_count": 36,
   "id": "336c11d8",
   "metadata": {},
   "outputs": [
    {
     "ename": "SyntaxError",
     "evalue": "invalid syntax (2404329100.py, line 1)",
     "output_type": "error",
     "traceback": [
      "\u001b[1;36m  File \u001b[1;32m\"C:\\Users\\vfgtr554\\AppData\\Local\\Temp\\ipykernel_79716\\2404329100.py\"\u001b[1;36m, line \u001b[1;32m1\u001b[0m\n\u001b[1;33m    AS{D}\u001b[0m\n\u001b[1;37m      ^\u001b[0m\n\u001b[1;31mSyntaxError\u001b[0m\u001b[1;31m:\u001b[0m invalid syntax\n"
     ]
    }
   ],
   "source": [
    "AS{D}"
   ]
  },
  {
   "cell_type": "code",
   "execution_count": 37,
   "id": "e97999fc",
   "metadata": {},
   "outputs": [
    {
     "ename": "SyntaxError",
     "evalue": "invalid syntax (2404329100.py, line 1)",
     "output_type": "error",
     "traceback": [
      "\u001b[1;36m  File \u001b[1;32m\"C:\\Users\\vfgtr554\\AppData\\Local\\Temp\\ipykernel_79716\\2404329100.py\"\u001b[1;36m, line \u001b[1;32m1\u001b[0m\n\u001b[1;33m    AS{D}\u001b[0m\n\u001b[1;37m      ^\u001b[0m\n\u001b[1;31mSyntaxError\u001b[0m\u001b[1;31m:\u001b[0m invalid syntax\n"
     ]
    }
   ],
   "source": [
    "AS{D}"
   ]
  },
  {
   "cell_type": "code",
   "execution_count": 38,
   "id": "0411d818",
   "metadata": {},
   "outputs": [
    {
     "ename": "SyntaxError",
     "evalue": "invalid syntax (1364653402.py, line 1)",
     "output_type": "error",
     "traceback": [
      "\u001b[1;36m  File \u001b[1;32m\"C:\\Users\\vfgtr554\\AppData\\Local\\Temp\\ipykernel_79716\\1364653402.py\"\u001b[1;36m, line \u001b[1;32m1\u001b[0m\n\u001b[1;33m    SA{D}\u001b[0m\n\u001b[1;37m      ^\u001b[0m\n\u001b[1;31mSyntaxError\u001b[0m\u001b[1;31m:\u001b[0m invalid syntax\n"
     ]
    }
   ],
   "source": [
    "SA{D}"
   ]
  },
  {
   "cell_type": "code",
   "execution_count": null,
   "id": "13b9fd83",
   "metadata": {},
   "outputs": [],
   "source": [
    "SA{\n",
    "    \n",
    "}"
   ]
  }
 ],
 "metadata": {
  "kernelspec": {
   "display_name": "cctv",
   "language": "python",
   "name": "cctv"
  },
  "language_info": {
   "codemirror_mode": {
    "name": "ipython",
    "version": 3
   },
   "file_extension": ".py",
   "mimetype": "text/x-python",
   "name": "python",
   "nbconvert_exporter": "python",
   "pygments_lexer": "ipython3",
   "version": "3.7.13"
  }
 },
 "nbformat": 4,
 "nbformat_minor": 5
}
