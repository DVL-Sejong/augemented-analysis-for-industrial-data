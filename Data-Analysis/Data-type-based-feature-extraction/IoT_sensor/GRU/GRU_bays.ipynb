{
 "cells": [
  {
   "cell_type": "code",
   "execution_count": 1,
   "id": "7c235400",
   "metadata": {},
   "outputs": [],
   "source": [
    "import math\n",
    "import os\n",
    "import time\n",
    "import pickle as pkl\n",
    "import tensorflow as tf\n",
    "import pandas as pd\n",
    "import numpy as np\n",
    "import numpy.linalg as la\n",
    "\n",
    "from sklearn.metrics import mean_squared_error,mean_absolute_error,mean_absolute_percentage_error"
   ]
  },
  {
   "cell_type": "code",
   "execution_count": 2,
   "id": "4fa0265e",
   "metadata": {},
   "outputs": [],
   "source": [
    "physical_devices = tf.config.list_physical_devices('GPU')\n",
    "try:\n",
    "    tf.config.experimental.set_memory_growth(physical_devices[0], True)\n",
    "except:\n",
    "    pass"
   ]
  },
  {
   "cell_type": "code",
   "execution_count": 3,
   "id": "6ae8b6a2",
   "metadata": {},
   "outputs": [],
   "source": [
    "def load_data(path):\n",
    "    data = pd.read_csv(path)\n",
    "    data = data.drop(columns = ['Unnamed: 0'])\n",
    "    data = data[1:]\n",
    "    print(data.shape, (data == 0).sum().sum())\n",
    "    return data"
   ]
  },
  {
   "cell_type": "code",
   "execution_count": 4,
   "id": "6f180cb3",
   "metadata": {},
   "outputs": [],
   "source": [
    "def preprocess_data(data, time_len, rate, seq_len, pre_len):\n",
    "    train_size = int(time_len * rate)\n",
    "    train_data = data[0:train_size]\n",
    "    test_data = data[train_size:time_len]\n",
    "    \n",
    "    trainX, trainY, testX, testY = [], [], [], []\n",
    "    for i in range(len(train_data) - seq_len - pre_len):\n",
    "        a = train_data[i: i + seq_len + pre_len]\n",
    "        trainX.append(a[0 : seq_len])\n",
    "        trainY.append(a[seq_len : seq_len + pre_len])\n",
    "    for i in range(len(test_data) - seq_len -pre_len):\n",
    "        b = test_data[i: i + seq_len + pre_len]\n",
    "        testX.append(b[0 : seq_len])\n",
    "        testY.append(b[seq_len : seq_len + pre_len])\n",
    "        \n",
    "    trainX = np.array(trainX)\n",
    "    trainY = np.array(trainY)\n",
    "    testX = np.array(testX)\n",
    "    testY = np.array(testY)\n",
    "    return trainX, trainY, testX, testY"
   ]
  },
  {
   "cell_type": "code",
   "execution_count": 5,
   "id": "77e56d7e",
   "metadata": {},
   "outputs": [],
   "source": [
    "def generate_model(seq_len, node_num, pre_len):\n",
    "    model = tf.keras.Sequential([\n",
    "        tf.keras.layers.GRU(units=64, return_sequences=True, input_shape = [seq_len, node_num]),\n",
    "        tf.keras.layers.GRU(units=64),\n",
    "        tf.keras.layers.Dense(pre_len * node_num)\n",
    "    ])\n",
    "    \n",
    "    model.compile(optimizer='adam', loss='mse', metrics=['mae'])\n",
    "    \n",
    "    return model"
   ]
  },
  {
   "cell_type": "code",
   "execution_count": 6,
   "id": "48852f4a",
   "metadata": {},
   "outputs": [],
   "source": [
    "def train_model(model, train_datas, realY):\n",
    "    trainX, trainY, testX, testY = train_datas[0], train_datas[1], train_datas[2], train_datas[3]\n",
    "    print(trainX.shape, trainY.shape, testX.shape, testY.shape, realY.shape)\n",
    "    \n",
    "    model.fit(trainX, trainY, epochs=20, batch_size=32)\n",
    "    y_pred = model.predict(testX)\n",
    "    print(y_pred.shape)\n",
    "    \n",
    "    rmse = math.sqrt(mean_squared_error(realY, y_pred))\n",
    "    mae = mean_absolute_error(realY, y_pred)\n",
    "    mape = mean_absolute_percentage_error(realY, y_pred)\n",
    "    f_norm = la.norm(realY - y_pred) / la.norm(realY)\n",
    "    acc = 1-f_norm\n",
    "    \n",
    "    print(rmse, mae, mape, acc)"
   ]
  },
  {
   "cell_type": "code",
   "execution_count": 7,
   "id": "9d2cf417",
   "metadata": {},
   "outputs": [],
   "source": [
    "path_0 = '../Data/PEMS-BAY/speed_bay_0.csv'\n",
    "path_5 = '../Data/PEMS-BAY/speed_bay_5.csv'\n",
    "path_10 = '../Data/PEMS-BAY/speed_bay_10.csv'\n",
    "path_20 = '../Data/PEMS-BAY/speed_bay_20.csv'"
   ]
  },
  {
   "cell_type": "code",
   "execution_count": 8,
   "id": "919a065e",
   "metadata": {},
   "outputs": [],
   "source": [
    "train_rate = 0.8\n",
    "seq_len = 12"
   ]
  },
  {
   "cell_type": "code",
   "execution_count": 9,
   "id": "930ad756",
   "metadata": {},
   "outputs": [
    {
     "name": "stdout",
     "output_type": "stream",
     "text": [
      "(52115, 325) 0\n",
      "(52115, 325) 0\n",
      "(52115, 325) 833840\n",
      "(52115, 325) 1667680\n",
      "(52115, 325) 3387475\n"
     ]
    }
   ],
   "source": [
    "mainData = load_data(path_0)\n",
    "data_0 = load_data(path_0)\n",
    "data_5 = load_data(path_5)\n",
    "data_10 = load_data(path_10)\n",
    "data_20 = load_data(path_20)"
   ]
  },
  {
   "cell_type": "markdown",
   "id": "6431cdec",
   "metadata": {},
   "source": [
    "# Pred = 15min"
   ]
  },
  {
   "cell_type": "code",
   "execution_count": 10,
   "id": "8702d907",
   "metadata": {},
   "outputs": [],
   "source": [
    "pre_len = 3"
   ]
  },
  {
   "cell_type": "code",
   "execution_count": 11,
   "id": "374b307b",
   "metadata": {},
   "outputs": [
    {
     "name": "stdout",
     "output_type": "stream",
     "text": [
      "52115 325\n"
     ]
    },
    {
     "data": {
      "text/plain": [
       "(10408, 975)"
      ]
     },
     "execution_count": 11,
     "metadata": {},
     "output_type": "execute_result"
    }
   ],
   "source": [
    "time_len = mainData.shape[0]\n",
    "node_num = mainData.shape[1]\n",
    "\n",
    "print(time_len, node_num)\n",
    "\n",
    "_, _, _, realY = preprocess_data(mainData, time_len, train_rate, seq_len, pre_len)\n",
    "realY = realY.reshape([-1, node_num * pre_len])\n",
    "realY.shape"
   ]
  },
  {
   "cell_type": "markdown",
   "id": "6f724a6d",
   "metadata": {},
   "source": [
    "### Unobserved nodes = 0%"
   ]
  },
  {
   "cell_type": "code",
   "execution_count": 12,
   "id": "e407502f",
   "metadata": {},
   "outputs": [
    {
     "name": "stdout",
     "output_type": "stream",
     "text": [
      "(41677, 12, 325) (41677, 975) (10408, 12, 325) (10408, 975)\n",
      "(41677, 12, 325) (41677, 975) (10408, 12, 325) (10408, 975) (10408, 975)\n",
      "Epoch 1/20\n",
      "1303/1303 [==============================] - 17s 10ms/step - loss: 1213.2606 - mae: 30.5899\n",
      "Epoch 2/20\n",
      "1303/1303 [==============================] - 11s 8ms/step - loss: 93.3513 - mae: 6.5989\n",
      "Epoch 3/20\n",
      "1303/1303 [==============================] - 12s 9ms/step - loss: 84.9942 - mae: 5.3785\n",
      "Epoch 4/20\n",
      "1303/1303 [==============================] - 10s 8ms/step - loss: 84.9994 - mae: 5.3710\n",
      "Epoch 5/20\n",
      "1303/1303 [==============================] - 9s 7ms/step - loss: 85.0062 - mae: 5.3752\n",
      "Epoch 6/20\n",
      "1303/1303 [==============================] - 11s 8ms/step - loss: 85.0264 - mae: 5.3723\n",
      "Epoch 7/20\n",
      "1303/1303 [==============================] - 13s 10ms/step - loss: 85.0352 - mae: 5.3698\n",
      "Epoch 8/20\n",
      "1303/1303 [==============================] - 11s 8ms/step - loss: 85.0317 - mae: 5.3762\n",
      "Epoch 9/20\n",
      "1303/1303 [==============================] - 13s 10ms/step - loss: 85.0352 - mae: 5.3729\n",
      "Epoch 10/20\n",
      "1303/1303 [==============================] - 11s 9ms/step - loss: 85.0303 - mae: 5.3742\n",
      "Epoch 11/20\n",
      "1303/1303 [==============================] - 13s 10ms/step - loss: 85.0371 - mae: 5.3758\n",
      "Epoch 12/20\n",
      "1303/1303 [==============================] - 12s 9ms/step - loss: 85.0302 - mae: 5.3741\n",
      "Epoch 13/20\n",
      "1303/1303 [==============================] - 12s 9ms/step - loss: 85.0309 - mae: 5.3713\n",
      "Epoch 14/20\n",
      "1303/1303 [==============================] - 11s 8ms/step - loss: 85.0330 - mae: 5.3754\n",
      "Epoch 15/20\n",
      "1303/1303 [==============================] - 7s 5ms/step - loss: 85.0296 - mae: 5.3755\n",
      "Epoch 16/20\n",
      "1303/1303 [==============================] - 13s 10ms/step - loss: 85.0403 - mae: 5.3729\n",
      "Epoch 17/20\n",
      "1303/1303 [==============================] - 11s 9ms/step - loss: 85.0371 - mae: 5.3721\n",
      "Epoch 18/20\n",
      "1303/1303 [==============================] - 13s 10ms/step - loss: 85.0403 - mae: 5.3729\n",
      "Epoch 19/20\n",
      "1303/1303 [==============================] - 12s 9ms/step - loss: 85.0362 - mae: 5.3765\n",
      "Epoch 20/20\n",
      "1303/1303 [==============================] - 12s 9ms/step - loss: 85.0312 - mae: 5.3758\n",
      "(10408, 975)\n",
      "9.331420295268863 5.3472402616152115 0.13822684887020303 0.8523710178458276\n"
     ]
    }
   ],
   "source": [
    "time_len = data_0.shape[0]\n",
    "node_num = data_0.shape[1]\n",
    "\n",
    "trainX, trainY, testX, testY = preprocess_data(data_0, time_len, train_rate, seq_len, pre_len)\n",
    "trainY = trainY.reshape([-1, pre_len * node_num])\n",
    "testY = testY.reshape([-1, pre_len * node_num])\n",
    "print(trainX.shape, trainY.shape, testX.shape, testY.shape)\n",
    "\n",
    "model = generate_model(seq_len, node_num, pre_len)\n",
    "train_model(model, (trainX,trainY,testX,testY), realY)"
   ]
  },
  {
   "cell_type": "markdown",
   "id": "c706e4f0",
   "metadata": {},
   "source": [
    "### Unobserved nodes = 5%"
   ]
  },
  {
   "cell_type": "code",
   "execution_count": 13,
   "id": "17034005",
   "metadata": {},
   "outputs": [
    {
     "name": "stdout",
     "output_type": "stream",
     "text": [
      "(41677, 12, 325) (41677, 975) (10408, 12, 325) (10408, 975)\n",
      "(41677, 12, 325) (41677, 975) (10408, 12, 325) (10408, 975) (10408, 975)\n",
      "Epoch 1/20\n",
      "1303/1303 [==============================] - 14s 9ms/step - loss: 1147.8242 - mae: 28.9897\n",
      "Epoch 2/20\n",
      "1303/1303 [==============================] - 13s 10ms/step - loss: 88.6340 - mae: 6.2670\n",
      "Epoch 3/20\n",
      "1303/1303 [==============================] - 12s 9ms/step - loss: 80.8739 - mae: 5.1250\n",
      "Epoch 4/20\n",
      "1303/1303 [==============================] - 12s 9ms/step - loss: 80.8793 - mae: 5.1203\n",
      "Epoch 5/20\n",
      "1303/1303 [==============================] - 12s 10ms/step - loss: 80.8874 - mae: 5.1135\n",
      "Epoch 6/20\n",
      "1303/1303 [==============================] - 7s 5ms/step - loss: 80.8908 - mae: 5.1207\n",
      "Epoch 7/20\n",
      "1303/1303 [==============================] - 10s 8ms/step - loss: 80.9092 - mae: 5.1177\n",
      "Epoch 8/20\n",
      "1303/1303 [==============================] - 11s 8ms/step - loss: 80.9149 - mae: 5.1171\n",
      "Epoch 9/20\n",
      "1303/1303 [==============================] - 13s 10ms/step - loss: 80.9091 - mae: 5.1212\n",
      "Epoch 10/20\n",
      "1303/1303 [==============================] - 12s 9ms/step - loss: 80.9042 - mae: 5.1212\n",
      "Epoch 11/20\n",
      "1303/1303 [==============================] - 13s 10ms/step - loss: 80.9141 - mae: 5.1172\n",
      "Epoch 12/20\n",
      "1303/1303 [==============================] - 12s 9ms/step - loss: 80.9118 - mae: 5.1207\n",
      "Epoch 13/20\n",
      "1303/1303 [==============================] - 12s 9ms/step - loss: 80.9042 - mae: 5.1188\n",
      "Epoch 14/20\n",
      "1303/1303 [==============================] - 13s 10ms/step - loss: 80.9134 - mae: 5.1176\n",
      "Epoch 15/20\n",
      "1303/1303 [==============================] - 12s 9ms/step - loss: 80.9031 - mae: 5.1200\n",
      "Epoch 16/20\n",
      "1303/1303 [==============================] - 13s 10ms/step - loss: 80.9064 - mae: 5.1179\n",
      "Epoch 17/20\n",
      "1303/1303 [==============================] - 11s 9ms/step - loss: 80.9103 - mae: 5.1198\n",
      "Epoch 18/20\n",
      "1303/1303 [==============================] - 13s 10ms/step - loss: 80.9065 - mae: 5.1206\n",
      "Epoch 19/20\n",
      "1303/1303 [==============================] - 10s 8ms/step - loss: 80.9042 - mae: 5.1171\n",
      "Epoch 20/20\n",
      "1303/1303 [==============================] - 10s 7ms/step - loss: 80.9058 - mae: 5.1164\n",
      "(10408, 975)\n",
      "16.905890773102893 8.355674815041766 0.18145086618803422 0.7325380951377966\n"
     ]
    }
   ],
   "source": [
    "time_len = data_5.shape[0]\n",
    "node_num = data_5.shape[1]\n",
    "\n",
    "trainX, trainY, testX, testY = preprocess_data(data_5, time_len, train_rate, seq_len, pre_len)\n",
    "trainY = trainY.reshape([-1, pre_len * node_num])\n",
    "testY = testY.reshape([-1, pre_len * node_num])\n",
    "print(trainX.shape, trainY.shape, testX.shape, testY.shape)\n",
    "\n",
    "model = generate_model(seq_len, node_num, pre_len)\n",
    "train_model(model, (trainX,trainY,testX,testY), realY)"
   ]
  },
  {
   "cell_type": "markdown",
   "id": "e328c1cd",
   "metadata": {},
   "source": [
    "### Unobserved nodes = 10%"
   ]
  },
  {
   "cell_type": "code",
   "execution_count": 14,
   "id": "33e099d7",
   "metadata": {},
   "outputs": [
    {
     "name": "stdout",
     "output_type": "stream",
     "text": [
      "(41677, 12, 325) (41677, 975) (10408, 12, 325) (10408, 975)\n",
      "(41677, 12, 325) (41677, 975) (10408, 12, 325) (10408, 975) (10408, 975)\n",
      "Epoch 1/20\n",
      "1303/1303 [==============================] - 12s 7ms/step - loss: 1089.5057 - mae: 27.5028\n",
      "Epoch 2/20\n",
      "1303/1303 [==============================] - 9s 7ms/step - loss: 83.6044 - mae: 5.9246\n",
      "Epoch 3/20\n",
      "1303/1303 [==============================] - 10s 7ms/step - loss: 76.2578 - mae: 4.8230\n",
      "Epoch 4/20\n",
      "1303/1303 [==============================] - 9s 7ms/step - loss: 76.2625 - mae: 4.8271\n",
      "Epoch 5/20\n",
      "1303/1303 [==============================] - 9s 7ms/step - loss: 76.2710 - mae: 4.8252\n",
      "Epoch 6/20\n",
      "1303/1303 [==============================] - 9s 7ms/step - loss: 76.2864 - mae: 4.8254\n",
      "Epoch 7/20\n",
      "1303/1303 [==============================] - 9s 7ms/step - loss: 76.2878 - mae: 4.8266\n",
      "Epoch 8/20\n",
      "1303/1303 [==============================] - 9s 7ms/step - loss: 76.2917 - mae: 4.8264\n",
      "Epoch 9/20\n",
      "1303/1303 [==============================] - 9s 7ms/step - loss: 76.2946 - mae: 4.8289\n",
      "Epoch 10/20\n",
      "1303/1303 [==============================] - 9s 7ms/step - loss: 76.2898 - mae: 4.8221\n",
      "Epoch 11/20\n",
      "1303/1303 [==============================] - 9s 7ms/step - loss: 76.2898 - mae: 4.8288\n",
      "Epoch 12/20\n",
      "1303/1303 [==============================] - 9s 7ms/step - loss: 76.2906 - mae: 4.8249\n",
      "Epoch 13/20\n",
      "1303/1303 [==============================] - 7s 5ms/step - loss: 76.2936 - mae: 4.8251\n",
      "Epoch 14/20\n",
      "1303/1303 [==============================] - 5s 4ms/step - loss: 76.2928 - mae: 4.8263\n",
      "Epoch 15/20\n",
      "1303/1303 [==============================] - 8s 6ms/step - loss: 76.2938 - mae: 4.8265\n",
      "Epoch 16/20\n",
      "1303/1303 [==============================] - 9s 7ms/step - loss: 76.2946 - mae: 4.8290\n",
      "Epoch 17/20\n",
      "1303/1303 [==============================] - 9s 7ms/step - loss: 76.2956 - mae: 4.8257\n",
      "Epoch 18/20\n",
      "1303/1303 [==============================] - 9s 7ms/step - loss: 76.2865 - mae: 4.8277\n",
      "Epoch 19/20\n",
      "1303/1303 [==============================] - 9s 7ms/step - loss: 76.2908 - mae: 4.8253\n",
      "Epoch 20/20\n",
      "1303/1303 [==============================] - 9s 7ms/step - loss: 76.2949 - mae: 4.8260\n",
      "(10408, 975)\n",
      "21.64706493901558 11.04125150601337 0.22244536280915755 0.6575297154719428\n"
     ]
    }
   ],
   "source": [
    "time_len = data_10.shape[0]\n",
    "node_num = data_10.shape[1]\n",
    "\n",
    "trainX, trainY, testX, testY = preprocess_data(data_10, time_len, train_rate, seq_len, pre_len)\n",
    "trainY = trainY.reshape([-1, pre_len * node_num])\n",
    "testY = testY.reshape([-1, pre_len * node_num])\n",
    "print(trainX.shape, trainY.shape, testX.shape, testY.shape)\n",
    "\n",
    "model = generate_model(seq_len, node_num, pre_len)\n",
    "train_model(model, (trainX,trainY,testX,testY), realY)"
   ]
  },
  {
   "cell_type": "markdown",
   "id": "fbfa8d21",
   "metadata": {},
   "source": [
    "### Unobserved nodes = 20%"
   ]
  },
  {
   "cell_type": "code",
   "execution_count": 15,
   "id": "a6c01ed8",
   "metadata": {},
   "outputs": [
    {
     "name": "stdout",
     "output_type": "stream",
     "text": [
      "(41677, 12, 325) (41677, 975) (10408, 12, 325) (10408, 975)\n",
      "(41677, 12, 325) (41677, 975) (10408, 12, 325) (10408, 975) (10408, 975)\n",
      "Epoch 1/20\n",
      "1303/1303 [==============================] - 12s 7ms/step - loss: 966.7930 - mae: 24.4110\n",
      "Epoch 2/20\n",
      "1303/1303 [==============================] - 9s 7ms/step - loss: 75.8443 - mae: 5.3410\n",
      "Epoch 3/20\n",
      "1303/1303 [==============================] - 9s 7ms/step - loss: 69.2816 - mae: 4.3654\n",
      "Epoch 4/20\n",
      "1303/1303 [==============================] - 5s 4ms/step - loss: 69.2850 - mae: 4.3676\n",
      "Epoch 5/20\n",
      "1303/1303 [==============================] - 5s 4ms/step - loss: 69.2969 - mae: 4.3647\n",
      "Epoch 6/20\n",
      "1303/1303 [==============================] - 5s 4ms/step - loss: 69.2981 - mae: 4.3703\n",
      "Epoch 7/20\n",
      "1303/1303 [==============================] - 9s 7ms/step - loss: 69.3051 - mae: 4.3656\n",
      "Epoch 8/20\n",
      "1303/1303 [==============================] - 9s 7ms/step - loss: 69.3188 - mae: 4.3688\n",
      "Epoch 9/20\n",
      "1303/1303 [==============================] - 9s 7ms/step - loss: 69.3158 - mae: 4.3690\n",
      "Epoch 10/20\n",
      "1303/1303 [==============================] - 9s 7ms/step - loss: 69.3157 - mae: 4.3681\n",
      "Epoch 11/20\n",
      "1303/1303 [==============================] - 9s 7ms/step - loss: 69.3138 - mae: 4.3673\n",
      "Epoch 12/20\n",
      "1303/1303 [==============================] - 9s 7ms/step - loss: 69.3150 - mae: 4.3688\n",
      "Epoch 13/20\n",
      "1303/1303 [==============================] - 10s 8ms/step - loss: 69.3091 - mae: 4.3665\n",
      "Epoch 14/20\n",
      "1303/1303 [==============================] - 10s 7ms/step - loss: 69.3118 - mae: 4.3700\n",
      "Epoch 15/20\n",
      "1303/1303 [==============================] - 10s 7ms/step - loss: 69.3061 - mae: 4.3659\n",
      "Epoch 16/20\n",
      "1303/1303 [==============================] - 10s 7ms/step - loss: 69.3171 - mae: 4.3670\n",
      "Epoch 17/20\n",
      "1303/1303 [==============================] - 10s 8ms/step - loss: 69.3116 - mae: 4.3687\n",
      "Epoch 18/20\n",
      "1303/1303 [==============================] - 9s 7ms/step - loss: 69.3178 - mae: 4.3702\n",
      "Epoch 19/20\n",
      "1303/1303 [==============================] - 9s 7ms/step - loss: 69.3073 - mae: 4.3661\n",
      "Epoch 20/20\n",
      "1303/1303 [==============================] - 6s 5ms/step - loss: 69.3133 - mae: 4.3670\n",
      "(10408, 975)\n",
      "29.649274536739156 17.04108260228144 0.3139107831724281 0.5309296888399013\n"
     ]
    }
   ],
   "source": [
    "time_len = data_20.shape[0]\n",
    "node_num = data_20.shape[1]\n",
    "\n",
    "trainX, trainY, testX, testY = preprocess_data(data_20, time_len, train_rate, seq_len, pre_len)\n",
    "trainY = trainY.reshape([-1, pre_len * node_num])\n",
    "testY = testY.reshape([-1, pre_len * node_num])\n",
    "print(trainX.shape, trainY.shape, testX.shape, testY.shape)\n",
    "\n",
    "model = generate_model(seq_len, node_num, pre_len)\n",
    "train_model(model, (trainX,trainY,testX,testY), realY)"
   ]
  },
  {
   "cell_type": "markdown",
   "id": "950ad5d0",
   "metadata": {},
   "source": [
    "# Pred = 30min"
   ]
  },
  {
   "cell_type": "code",
   "execution_count": 16,
   "id": "6bc1af46",
   "metadata": {},
   "outputs": [],
   "source": [
    "pre_len = 6"
   ]
  },
  {
   "cell_type": "code",
   "execution_count": 17,
   "id": "b4cf6e1c",
   "metadata": {},
   "outputs": [
    {
     "name": "stdout",
     "output_type": "stream",
     "text": [
      "52115 325\n"
     ]
    },
    {
     "data": {
      "text/plain": [
       "(10405, 1950)"
      ]
     },
     "execution_count": 17,
     "metadata": {},
     "output_type": "execute_result"
    }
   ],
   "source": [
    "time_len = mainData.shape[0]\n",
    "node_num = mainData.shape[1]\n",
    "\n",
    "print(time_len, node_num)\n",
    "\n",
    "_, _, _, realY = preprocess_data(mainData, time_len, train_rate, seq_len, pre_len)\n",
    "realY = realY.reshape([-1, node_num * pre_len])\n",
    "realY.shape"
   ]
  },
  {
   "cell_type": "markdown",
   "id": "ea23d7df",
   "metadata": {},
   "source": [
    "### Unobserved nodes = 0%"
   ]
  },
  {
   "cell_type": "code",
   "execution_count": 18,
   "id": "dc6b8376",
   "metadata": {},
   "outputs": [
    {
     "name": "stdout",
     "output_type": "stream",
     "text": [
      "(41674, 12, 325) (41674, 1950) (10405, 12, 325) (10405, 1950)\n",
      "(41674, 12, 325) (41674, 1950) (10405, 12, 325) (10405, 1950) (10405, 1950)\n",
      "Epoch 1/20\n",
      "1303/1303 [==============================] - 12s 7ms/step - loss: 1216.1260 - mae: 30.6360\n",
      "Epoch 2/20\n",
      "1303/1303 [==============================] - 9s 7ms/step - loss: 93.4049 - mae: 6.6104\n",
      "Epoch 3/20\n",
      "1303/1303 [==============================] - 10s 8ms/step - loss: 84.9924 - mae: 5.3764\n",
      "Epoch 4/20\n",
      "1303/1303 [==============================] - 9s 7ms/step - loss: 84.9967 - mae: 5.3698\n",
      "Epoch 5/20\n",
      "1303/1303 [==============================] - 9s 7ms/step - loss: 85.0131 - mae: 5.3716\n",
      "Epoch 6/20\n",
      "1303/1303 [==============================] - 9s 7ms/step - loss: 85.0222 - mae: 5.3743\n",
      "Epoch 7/20\n",
      "1303/1303 [==============================] - 9s 7ms/step - loss: 85.0281 - mae: 5.3732\n",
      "Epoch 8/20\n",
      "1303/1303 [==============================] - 9s 7ms/step - loss: 85.0280 - mae: 5.3751\n",
      "Epoch 9/20\n",
      "1303/1303 [==============================] - 9s 7ms/step - loss: 85.0259 - mae: 5.3723\n",
      "Epoch 10/20\n",
      "1303/1303 [==============================] - 10s 7ms/step - loss: 85.0318 - mae: 5.3705\n",
      "Epoch 11/20\n",
      "1303/1303 [==============================] - 10s 7ms/step - loss: 85.0359 - mae: 5.3746\n",
      "Epoch 12/20\n",
      "1303/1303 [==============================] - 10s 7ms/step - loss: 85.0328 - mae: 5.3780\n",
      "Epoch 13/20\n",
      "1303/1303 [==============================] - 8s 6ms/step - loss: 85.0366 - mae: 5.3677\n",
      "Epoch 14/20\n",
      "1303/1303 [==============================] - 5s 4ms/step - loss: 85.0355 - mae: 5.3752\n",
      "Epoch 15/20\n",
      "1303/1303 [==============================] - 5s 4ms/step - loss: 85.0237 - mae: 5.3712\n",
      "Epoch 16/20\n",
      "1303/1303 [==============================] - 7s 5ms/step - loss: 85.0230 - mae: 5.3765\n",
      "Epoch 17/20\n",
      "1303/1303 [==============================] - 9s 7ms/step - loss: 85.0254 - mae: 5.3738\n",
      "Epoch 18/20\n",
      "1303/1303 [==============================] - 9s 7ms/step - loss: 85.0320 - mae: 5.3702\n",
      "Epoch 19/20\n",
      "1303/1303 [==============================] - 9s 7ms/step - loss: 85.0297 - mae: 5.3743\n",
      "Epoch 20/20\n",
      "1303/1303 [==============================] - 9s 7ms/step - loss: 85.0217 - mae: 5.3743\n",
      "(10405, 1950)\n",
      "9.33126697359567 5.3889021280041955 0.13873657750663088 0.852371155931136\n"
     ]
    }
   ],
   "source": [
    "time_len = data_0.shape[0]\n",
    "node_num = data_0.shape[1]\n",
    "\n",
    "trainX, trainY, testX, testY = preprocess_data(data_0, time_len, train_rate, seq_len, pre_len)\n",
    "trainY = trainY.reshape([-1, pre_len * node_num])\n",
    "testY = testY.reshape([-1, pre_len * node_num])\n",
    "print(trainX.shape, trainY.shape, testX.shape, testY.shape)\n",
    "\n",
    "model = generate_model(seq_len, node_num, pre_len)\n",
    "train_model(model, (trainX,trainY,testX,testY), realY)"
   ]
  },
  {
   "cell_type": "markdown",
   "id": "58bc3fb5",
   "metadata": {},
   "source": [
    "### Unobserved nodes = 5%"
   ]
  },
  {
   "cell_type": "code",
   "execution_count": 19,
   "id": "95f41aaa",
   "metadata": {},
   "outputs": [
    {
     "name": "stdout",
     "output_type": "stream",
     "text": [
      "(41674, 12, 325) (41674, 1950) (10405, 12, 325) (10405, 1950)\n",
      "(41674, 12, 325) (41674, 1950) (10405, 12, 325) (10405, 1950) (10405, 1950)\n",
      "Epoch 1/20\n",
      "1303/1303 [==============================] - 12s 7ms/step - loss: 1157.6827 - mae: 29.1464\n",
      "Epoch 2/20\n",
      "1303/1303 [==============================] - 9s 7ms/step - loss: 88.9413 - mae: 6.3025\n",
      "Epoch 3/20\n",
      "1303/1303 [==============================] - 9s 7ms/step - loss: 80.8687 - mae: 5.1235\n",
      "Epoch 4/20\n",
      "1303/1303 [==============================] - 9s 7ms/step - loss: 80.8798 - mae: 5.1164\n",
      "Epoch 5/20\n",
      "1303/1303 [==============================] - 5s 4ms/step - loss: 80.8877 - mae: 5.1180\n",
      "Epoch 6/20\n",
      "1303/1303 [==============================] - 6s 4ms/step - loss: 80.8895 - mae: 5.1192\n",
      "Epoch 7/20\n",
      "1303/1303 [==============================] - 9s 7ms/step - loss: 80.8992 - mae: 5.1178\n",
      "Epoch 8/20\n",
      "1303/1303 [==============================] - 9s 7ms/step - loss: 80.9120 - mae: 5.1189\n",
      "Epoch 9/20\n",
      "1303/1303 [==============================] - 10s 7ms/step - loss: 80.9004 - mae: 5.1158\n",
      "Epoch 10/20\n",
      "1303/1303 [==============================] - 10s 8ms/step - loss: 80.9059 - mae: 5.1208\n",
      "Epoch 11/20\n",
      "1303/1303 [==============================] - 10s 8ms/step - loss: 80.9127 - mae: 5.1214\n",
      "Epoch 12/20\n",
      "1303/1303 [==============================] - 9s 7ms/step - loss: 80.9091 - mae: 5.1162\n",
      "Epoch 13/20\n",
      "1303/1303 [==============================] - 9s 7ms/step - loss: 80.9019 - mae: 5.1214\n",
      "Epoch 14/20\n",
      "1303/1303 [==============================] - 9s 7ms/step - loss: 80.9083 - mae: 5.1154\n",
      "Epoch 15/20\n",
      "1303/1303 [==============================] - 10s 7ms/step - loss: 80.9133 - mae: 5.1229\n",
      "Epoch 16/20\n",
      "1303/1303 [==============================] - 9s 7ms/step - loss: 80.8952 - mae: 5.1201\n",
      "Epoch 17/20\n",
      "1303/1303 [==============================] - 9s 7ms/step - loss: 80.8978 - mae: 5.1156\n",
      "Epoch 18/20\n",
      "1303/1303 [==============================] - 9s 7ms/step - loss: 80.8995 - mae: 5.1218\n",
      "Epoch 19/20\n",
      "1303/1303 [==============================] - 9s 7ms/step - loss: 80.9116 - mae: 5.1153\n",
      "Epoch 20/20\n",
      "1303/1303 [==============================] - 6s 4ms/step - loss: 80.9082 - mae: 5.1216\n",
      "(10405, 1950)\n",
      "16.905475233532513 8.268269155035613 0.18051684502565327 0.7325405248587562\n"
     ]
    }
   ],
   "source": [
    "time_len = data_5.shape[0]\n",
    "node_num = data_5.shape[1]\n",
    "\n",
    "trainX, trainY, testX, testY = preprocess_data(data_5, time_len, train_rate, seq_len, pre_len)\n",
    "trainY = trainY.reshape([-1, pre_len * node_num])\n",
    "testY = testY.reshape([-1, pre_len * node_num])\n",
    "print(trainX.shape, trainY.shape, testX.shape, testY.shape)\n",
    "\n",
    "model = generate_model(seq_len, node_num, pre_len)\n",
    "train_model(model, (trainX,trainY,testX,testY), realY)"
   ]
  },
  {
   "cell_type": "markdown",
   "id": "afe7281f",
   "metadata": {},
   "source": [
    "### Unobserved nodes = 10%"
   ]
  },
  {
   "cell_type": "code",
   "execution_count": 20,
   "id": "3663cbaa",
   "metadata": {},
   "outputs": [
    {
     "name": "stdout",
     "output_type": "stream",
     "text": [
      "(41674, 12, 325) (41674, 1950) (10405, 12, 325) (10405, 1950)\n",
      "(41674, 12, 325) (41674, 1950) (10405, 12, 325) (10405, 1950) (10405, 1950)\n",
      "Epoch 1/20\n",
      "1303/1303 [==============================] - 12s 7ms/step - loss: 1093.4764 - mae: 27.5724\n",
      "Epoch 2/20\n",
      "1303/1303 [==============================] - 10s 7ms/step - loss: 83.7650 - mae: 5.9365\n",
      "Epoch 3/20\n",
      "1303/1303 [==============================] - 10s 8ms/step - loss: 76.2526 - mae: 4.8253\n",
      "Epoch 4/20\n",
      "1303/1303 [==============================] - 10s 7ms/step - loss: 76.2613 - mae: 4.8271\n",
      "Epoch 5/20\n",
      "1303/1303 [==============================] - 9s 7ms/step - loss: 76.2733 - mae: 4.8235\n",
      "Epoch 6/20\n",
      "1303/1303 [==============================] - 9s 7ms/step - loss: 76.2734 - mae: 4.8283\n",
      "Epoch 7/20\n",
      "1303/1303 [==============================] - 9s 7ms/step - loss: 76.2936 - mae: 4.8236\n",
      "Epoch 8/20\n",
      "1303/1303 [==============================] - 9s 7ms/step - loss: 76.2886 - mae: 4.8260\n",
      "Epoch 9/20\n",
      "1303/1303 [==============================] - 9s 7ms/step - loss: 76.2872 - mae: 4.8268\n",
      "Epoch 10/20\n",
      "1303/1303 [==============================] - 9s 7ms/step - loss: 76.2940 - mae: 4.8275\n",
      "Epoch 11/20\n",
      "1303/1303 [==============================] - 9s 7ms/step - loss: 76.2799 - mae: 4.8261\n",
      "Epoch 12/20\n",
      "1303/1303 [==============================] - 5s 4ms/step - loss: 76.2897 - mae: 4.8319\n",
      "Epoch 13/20\n",
      "1303/1303 [==============================] - 5s 4ms/step - loss: 76.2926 - mae: 4.8220\n",
      "Epoch 14/20\n",
      "1303/1303 [==============================] - 5s 4ms/step - loss: 76.2980 - mae: 4.8272\n",
      "Epoch 15/20\n",
      "1303/1303 [==============================] - 8s 6ms/step - loss: 76.2767 - mae: 4.8263\n",
      "Epoch 16/20\n",
      "1303/1303 [==============================] - 9s 7ms/step - loss: 76.2922 - mae: 4.8249\n",
      "Epoch 17/20\n",
      "1303/1303 [==============================] - 9s 7ms/step - loss: 76.2937 - mae: 4.8268\n",
      "Epoch 18/20\n",
      "1303/1303 [==============================] - 9s 7ms/step - loss: 76.2924 - mae: 4.8274\n",
      "Epoch 19/20\n",
      "1303/1303 [==============================] - 9s 7ms/step - loss: 76.2893 - mae: 4.8240\n",
      "Epoch 20/20\n",
      "1303/1303 [==============================] - 9s 7ms/step - loss: 76.2945 - mae: 4.8273\n",
      "(10405, 1950)\n",
      "21.64773165260908 10.974397826212297 0.22181097415696077 0.6575138606975863\n"
     ]
    }
   ],
   "source": [
    "time_len = data_10.shape[0]\n",
    "node_num = data_10.shape[1]\n",
    "\n",
    "trainX, trainY, testX, testY = preprocess_data(data_10, time_len, train_rate, seq_len, pre_len)\n",
    "trainY = trainY.reshape([-1, pre_len * node_num])\n",
    "testY = testY.reshape([-1, pre_len * node_num])\n",
    "print(trainX.shape, trainY.shape, testX.shape, testY.shape)\n",
    "\n",
    "model = generate_model(seq_len, node_num, pre_len)\n",
    "train_model(model, (trainX,trainY,testX,testY), realY)"
   ]
  },
  {
   "cell_type": "markdown",
   "id": "b8063aec",
   "metadata": {},
   "source": [
    "### Unobserved nodes = 20%"
   ]
  },
  {
   "cell_type": "code",
   "execution_count": 21,
   "id": "a4ddd5db",
   "metadata": {},
   "outputs": [
    {
     "name": "stdout",
     "output_type": "stream",
     "text": [
      "(41674, 12, 325) (41674, 1950) (10405, 12, 325) (10405, 1950)\n",
      "(41674, 12, 325) (41674, 1950) (10405, 12, 325) (10405, 1950) (10405, 1950)\n",
      "Epoch 1/20\n",
      "1303/1303 [==============================] - 12s 7ms/step - loss: 961.8629 - mae: 24.3267\n",
      "Epoch 2/20\n",
      "1303/1303 [==============================] - 9s 7ms/step - loss: 75.6019 - mae: 5.3207\n",
      "Epoch 3/20\n",
      "1303/1303 [==============================] - 8s 6ms/step - loss: 69.2824 - mae: 4.3674\n",
      "Epoch 4/20\n",
      "1303/1303 [==============================] - 5s 4ms/step - loss: 69.2842 - mae: 4.3673\n",
      "Epoch 5/20\n",
      "1303/1303 [==============================] - 5s 4ms/step - loss: 69.2961 - mae: 4.3641\n",
      "Epoch 6/20\n",
      "1303/1303 [==============================] - 6s 4ms/step - loss: 69.3014 - mae: 4.3705\n",
      "Epoch 7/20\n",
      "1303/1303 [==============================] - 9s 7ms/step - loss: 69.3068 - mae: 4.3657\n",
      "Epoch 8/20\n",
      "1303/1303 [==============================] - 9s 7ms/step - loss: 69.3124 - mae: 4.3676\n",
      "Epoch 9/20\n",
      "1303/1303 [==============================] - 9s 7ms/step - loss: 69.3147 - mae: 4.3680\n",
      "Epoch 10/20\n",
      "1303/1303 [==============================] - 9s 7ms/step - loss: 69.3157 - mae: 4.3678\n",
      "Epoch 11/20\n",
      "1303/1303 [==============================] - 10s 7ms/step - loss: 69.3089 - mae: 4.3683\n",
      "Epoch 12/20\n",
      "1303/1303 [==============================] - 10s 8ms/step - loss: 69.3056 - mae: 4.3689\n",
      "Epoch 13/20\n",
      "1303/1303 [==============================] - 9s 7ms/step - loss: 69.3138 - mae: 4.3686\n",
      "Epoch 14/20\n",
      "1303/1303 [==============================] - 9s 7ms/step - loss: 69.3062 - mae: 4.3661\n",
      "Epoch 15/20\n",
      "1303/1303 [==============================] - 10s 7ms/step - loss: 69.3058 - mae: 4.3667\n",
      "Epoch 16/20\n",
      "1303/1303 [==============================] - 9s 7ms/step - loss: 69.3124 - mae: 4.3682\n",
      "Epoch 17/20\n",
      "1303/1303 [==============================] - 9s 7ms/step - loss: 69.3044 - mae: 4.3675\n",
      "Epoch 18/20\n",
      "1303/1303 [==============================] - 9s 7ms/step - loss: 69.3121 - mae: 4.3694\n",
      "Epoch 19/20\n",
      "1303/1303 [==============================] - 9s 7ms/step - loss: 69.3091 - mae: 4.3690\n",
      "Epoch 20/20\n",
      "1303/1303 [==============================] - 6s 5ms/step - loss: 69.3127 - mae: 4.3662\n",
      "(10405, 1950)\n",
      "29.648775265956942 17.026145411407715 0.3137845171244644 0.530930319220926\n"
     ]
    }
   ],
   "source": [
    "time_len = data_20.shape[0]\n",
    "node_num = data_20.shape[1]\n",
    "\n",
    "trainX, trainY, testX, testY = preprocess_data(data_20, time_len, train_rate, seq_len, pre_len)\n",
    "trainY = trainY.reshape([-1, pre_len * node_num])\n",
    "testY = testY.reshape([-1, pre_len * node_num])\n",
    "print(trainX.shape, trainY.shape, testX.shape, testY.shape)\n",
    "\n",
    "model = generate_model(seq_len, node_num, pre_len)\n",
    "train_model(model, (trainX,trainY,testX,testY), realY)"
   ]
  },
  {
   "cell_type": "markdown",
   "id": "76875e00",
   "metadata": {},
   "source": [
    "# Pred = 45min"
   ]
  },
  {
   "cell_type": "code",
   "execution_count": 22,
   "id": "842e0a96",
   "metadata": {},
   "outputs": [],
   "source": [
    "pre_len = 9"
   ]
  },
  {
   "cell_type": "code",
   "execution_count": 23,
   "id": "e245a4d2",
   "metadata": {},
   "outputs": [
    {
     "name": "stdout",
     "output_type": "stream",
     "text": [
      "52115 325\n"
     ]
    },
    {
     "data": {
      "text/plain": [
       "(10402, 2925)"
      ]
     },
     "execution_count": 23,
     "metadata": {},
     "output_type": "execute_result"
    }
   ],
   "source": [
    "time_len = mainData.shape[0]\n",
    "node_num = mainData.shape[1]\n",
    "\n",
    "print(time_len, node_num)\n",
    "\n",
    "_, _, _, realY = preprocess_data(mainData, time_len, train_rate, seq_len, pre_len)\n",
    "realY = realY.reshape([-1, node_num * pre_len])\n",
    "realY.shape"
   ]
  },
  {
   "cell_type": "markdown",
   "id": "bfea487b",
   "metadata": {},
   "source": [
    "### Unobserved nodes = 0%"
   ]
  },
  {
   "cell_type": "code",
   "execution_count": 24,
   "id": "7b2391c2",
   "metadata": {},
   "outputs": [
    {
     "name": "stdout",
     "output_type": "stream",
     "text": [
      "(41671, 12, 325) (41671, 2925) (10402, 12, 325) (10402, 2925)\n",
      "(41671, 12, 325) (41671, 2925) (10402, 12, 325) (10402, 2925) (10402, 2925)\n",
      "Epoch 1/20\n",
      "1303/1303 [==============================] - 11s 7ms/step - loss: 1212.7516 - mae: 30.5764\n",
      "Epoch 2/20\n",
      "1303/1303 [==============================] - 9s 7ms/step - loss: 93.2401 - mae: 6.5931\n",
      "Epoch 3/20\n",
      "1303/1303 [==============================] - 9s 7ms/step - loss: 84.9858 - mae: 5.3756\n",
      "Epoch 4/20\n",
      "1303/1303 [==============================] - 9s 7ms/step - loss: 84.9927 - mae: 5.3722\n",
      "Epoch 5/20\n",
      "1303/1303 [==============================] - 9s 7ms/step - loss: 85.0054 - mae: 5.3709\n",
      "Epoch 6/20\n",
      "1303/1303 [==============================] - 9s 7ms/step - loss: 85.0029 - mae: 5.3743\n",
      "Epoch 7/20\n",
      "1303/1303 [==============================] - 9s 7ms/step - loss: 85.0269 - mae: 5.3737\n",
      "Epoch 8/20\n",
      "1303/1303 [==============================] - 9s 7ms/step - loss: 85.0296 - mae: 5.3732\n",
      "Epoch 9/20\n",
      "1303/1303 [==============================] - 9s 7ms/step - loss: 85.0169 - mae: 5.3737\n",
      "Epoch 10/20\n",
      "1303/1303 [==============================] - 7s 6ms/step - loss: 85.0272 - mae: 5.3708\n",
      "Epoch 11/20\n",
      "1303/1303 [==============================] - 5s 4ms/step - loss: 85.0285 - mae: 5.3750\n",
      "Epoch 12/20\n",
      "1303/1303 [==============================] - 5s 4ms/step - loss: 85.0198 - mae: 5.3710\n",
      "Epoch 13/20\n",
      "1303/1303 [==============================] - 7s 5ms/step - loss: 85.0132 - mae: 5.3738\n",
      "Epoch 14/20\n",
      "1303/1303 [==============================] - 9s 7ms/step - loss: 85.0266 - mae: 5.3744\n",
      "Epoch 15/20\n",
      "1303/1303 [==============================] - 9s 7ms/step - loss: 85.0320 - mae: 5.3731\n",
      "Epoch 16/20\n",
      "1303/1303 [==============================] - 9s 7ms/step - loss: 85.0161 - mae: 5.3756\n",
      "Epoch 17/20\n",
      "1303/1303 [==============================] - 9s 7ms/step - loss: 85.0320 - mae: 5.3721\n",
      "Epoch 18/20\n",
      "1303/1303 [==============================] - 9s 7ms/step - loss: 85.0228 - mae: 5.3728\n",
      "Epoch 19/20\n",
      "1303/1303 [==============================] - 9s 7ms/step - loss: 85.0224 - mae: 5.3735\n",
      "Epoch 20/20\n",
      "1303/1303 [==============================] - 9s 7ms/step - loss: 85.0257 - mae: 5.3751\n",
      "(10402, 2925)\n",
      "9.334654130606719 5.4015506342348845 0.13889974285732715 0.8523153777479864\n"
     ]
    }
   ],
   "source": [
    "time_len = data_0.shape[0]\n",
    "node_num = data_0.shape[1]\n",
    "\n",
    "trainX, trainY, testX, testY = preprocess_data(data_0, time_len, train_rate, seq_len, pre_len)\n",
    "trainY = trainY.reshape([-1, pre_len * node_num])\n",
    "testY = testY.reshape([-1, pre_len * node_num])\n",
    "print(trainX.shape, trainY.shape, testX.shape, testY.shape)\n",
    "\n",
    "model = generate_model(seq_len, node_num, pre_len)\n",
    "train_model(model, (trainX,trainY,testX,testY), realY)"
   ]
  },
  {
   "cell_type": "markdown",
   "id": "1f5c9b89",
   "metadata": {},
   "source": [
    "### Unobserved nodes = 5%"
   ]
  },
  {
   "cell_type": "code",
   "execution_count": 25,
   "id": "5159d484",
   "metadata": {},
   "outputs": [
    {
     "name": "stdout",
     "output_type": "stream",
     "text": [
      "(41671, 12, 325) (41671, 2925) (10402, 12, 325) (10402, 2925)\n",
      "(41671, 12, 325) (41671, 2925) (10402, 12, 325) (10402, 2925) (10402, 2925)\n",
      "Epoch 1/20\n",
      "1303/1303 [==============================] - 8s 4ms/step - loss: 1156.1705 - mae: 29.1328\n",
      "Epoch 2/20\n",
      "1303/1303 [==============================] - 5s 4ms/step - loss: 89.0081 - mae: 6.3040\n",
      "Epoch 3/20\n",
      "1303/1303 [==============================] - 7s 6ms/step - loss: 80.8648 - mae: 5.1222\n",
      "Epoch 4/20\n",
      "1303/1303 [==============================] - 9s 7ms/step - loss: 80.8720 - mae: 5.1137\n",
      "Epoch 5/20\n",
      "1303/1303 [==============================] - 9s 7ms/step - loss: 80.8809 - mae: 5.1213\n",
      "Epoch 6/20\n",
      "1303/1303 [==============================] - 9s 7ms/step - loss: 80.8852 - mae: 5.1147\n",
      "Epoch 7/20\n",
      "1303/1303 [==============================] - 9s 7ms/step - loss: 80.8792 - mae: 5.1200\n",
      "Epoch 8/20\n",
      "1303/1303 [==============================] - 9s 7ms/step - loss: 80.9026 - mae: 5.1164\n",
      "Epoch 9/20\n",
      "1303/1303 [==============================] - 9s 7ms/step - loss: 80.9005 - mae: 5.1180\n",
      "Epoch 10/20\n",
      "1303/1303 [==============================] - 9s 7ms/step - loss: 80.9006 - mae: 5.1177\n",
      "Epoch 11/20\n",
      "1303/1303 [==============================] - 9s 7ms/step - loss: 80.9013 - mae: 5.1207\n",
      "Epoch 12/20\n",
      "1303/1303 [==============================] - 9s 7ms/step - loss: 80.8951 - mae: 5.1181\n",
      "Epoch 13/20\n",
      "1303/1303 [==============================] - 9s 7ms/step - loss: 80.9048 - mae: 5.1207\n",
      "Epoch 14/20\n",
      "1303/1303 [==============================] - 9s 7ms/step - loss: 80.9080 - mae: 5.1211\n",
      "Epoch 15/20\n",
      "1303/1303 [==============================] - 6s 4ms/step - loss: 80.8969 - mae: 5.1171\n",
      "Epoch 16/20\n",
      "1303/1303 [==============================] - 5s 4ms/step - loss: 80.8929 - mae: 5.1200\n",
      "Epoch 17/20\n",
      "1303/1303 [==============================] - 5s 4ms/step - loss: 80.8993 - mae: 5.1156\n",
      "Epoch 18/20\n",
      "1303/1303 [==============================] - 9s 7ms/step - loss: 80.9165 - mae: 5.1212\n",
      "Epoch 19/20\n",
      "1303/1303 [==============================] - 9s 7ms/step - loss: 80.8985 - mae: 5.1180\n",
      "Epoch 20/20\n",
      "1303/1303 [==============================] - 9s 7ms/step - loss: 80.9051 - mae: 5.1202\n",
      "(10402, 2925)\n",
      "16.908013931920607 8.196104857312747 0.17979620085556453 0.732496392943017\n"
     ]
    }
   ],
   "source": [
    "time_len = data_5.shape[0]\n",
    "node_num = data_5.shape[1]\n",
    "\n",
    "trainX, trainY, testX, testY = preprocess_data(data_5, time_len, train_rate, seq_len, pre_len)\n",
    "trainY = trainY.reshape([-1, pre_len * node_num])\n",
    "testY = testY.reshape([-1, pre_len * node_num])\n",
    "print(trainX.shape, trainY.shape, testX.shape, testY.shape)\n",
    "\n",
    "model = generate_model(seq_len, node_num, pre_len)\n",
    "train_model(model, (trainX,trainY,testX,testY), realY)"
   ]
  },
  {
   "cell_type": "markdown",
   "id": "4dcd4727",
   "metadata": {},
   "source": [
    "### Unobserved nodes = 10%"
   ]
  },
  {
   "cell_type": "code",
   "execution_count": 26,
   "id": "2a5f6a14",
   "metadata": {},
   "outputs": [
    {
     "name": "stdout",
     "output_type": "stream",
     "text": [
      "(41671, 12, 325) (41671, 2925) (10402, 12, 325) (10402, 2925)\n",
      "(41671, 12, 325) (41671, 2925) (10402, 12, 325) (10402, 2925) (10402, 2925)\n",
      "Epoch 1/20\n",
      "1303/1303 [==============================] - 11s 7ms/step - loss: 1095.9984 - mae: 27.6113\n",
      "Epoch 2/20\n",
      "1303/1303 [==============================] - 9s 7ms/step - loss: 83.7545 - mae: 5.9386\n",
      "Epoch 3/20\n",
      "1303/1303 [==============================] - 9s 7ms/step - loss: 76.2530 - mae: 4.8269\n",
      "Epoch 4/20\n",
      "1303/1303 [==============================] - 8s 6ms/step - loss: 76.2611 - mae: 4.8240\n",
      "Epoch 5/20\n",
      "1303/1303 [==============================] - 5s 4ms/step - loss: 76.2662 - mae: 4.8253\n",
      "Epoch 6/20\n",
      "1303/1303 [==============================] - 5s 4ms/step - loss: 76.2760 - mae: 4.8264\n",
      "Epoch 7/20\n",
      "1303/1303 [==============================] - 5s 4ms/step - loss: 76.2805 - mae: 4.8274\n",
      "Epoch 8/20\n",
      "1303/1303 [==============================] - 5s 4ms/step - loss: 76.2869 - mae: 4.8264\n",
      "Epoch 9/20\n",
      "1303/1303 [==============================] - 5s 4ms/step - loss: 76.2878 - mae: 4.8280\n",
      "Epoch 10/20\n",
      "1303/1303 [==============================] - 5s 4ms/step - loss: 76.2866 - mae: 4.8241\n",
      "Epoch 11/20\n",
      "1303/1303 [==============================] - 5s 4ms/step - loss: 76.2844 - mae: 4.8267\n",
      "Epoch 12/20\n",
      "1303/1303 [==============================] - 5s 4ms/step - loss: 76.2826 - mae: 4.8273\n",
      "Epoch 13/20\n",
      "1303/1303 [==============================] - 5s 4ms/step - loss: 76.2828 - mae: 4.8269\n",
      "Epoch 14/20\n",
      "1303/1303 [==============================] - 5s 4ms/step - loss: 76.2924 - mae: 4.8252\n",
      "Epoch 15/20\n",
      "1303/1303 [==============================] - 5s 4ms/step - loss: 76.2911 - mae: 4.8268\n",
      "Epoch 16/20\n",
      "1303/1303 [==============================] - 5s 4ms/step - loss: 76.2831 - mae: 4.8247\n",
      "Epoch 17/20\n",
      "1303/1303 [==============================] - 5s 4ms/step - loss: 76.2903 - mae: 4.8287\n",
      "Epoch 18/20\n",
      "1303/1303 [==============================] - 5s 4ms/step - loss: 76.2861 - mae: 4.8226\n",
      "Epoch 19/20\n",
      "1303/1303 [==============================] - 5s 4ms/step - loss: 76.2905 - mae: 4.8292\n",
      "Epoch 20/20\n",
      "1303/1303 [==============================] - 5s 4ms/step - loss: 76.2814 - mae: 4.8284\n",
      "(10402, 2925)\n",
      "21.651829723895013 10.882561862446465 0.22093233475260932 0.6574439449927375\n"
     ]
    }
   ],
   "source": [
    "time_len = data_10.shape[0]\n",
    "node_num = data_10.shape[1]\n",
    "\n",
    "trainX, trainY, testX, testY = preprocess_data(data_10, time_len, train_rate, seq_len, pre_len)\n",
    "trainY = trainY.reshape([-1, pre_len * node_num])\n",
    "testY = testY.reshape([-1, pre_len * node_num])\n",
    "print(trainX.shape, trainY.shape, testX.shape, testY.shape)\n",
    "\n",
    "model = generate_model(seq_len, node_num, pre_len)\n",
    "train_model(model, (trainX,trainY,testX,testY), realY)"
   ]
  },
  {
   "cell_type": "markdown",
   "id": "39721ba4",
   "metadata": {},
   "source": [
    "### Unobserved nodes = 20%"
   ]
  },
  {
   "cell_type": "code",
   "execution_count": 27,
   "id": "32fe25ec",
   "metadata": {},
   "outputs": [
    {
     "name": "stdout",
     "output_type": "stream",
     "text": [
      "(41671, 12, 325) (41671, 2925) (10402, 12, 325) (10402, 2925)\n",
      "(41671, 12, 325) (41671, 2925) (10402, 12, 325) (10402, 2925) (10402, 2925)\n",
      "Epoch 1/20\n",
      "1303/1303 [==============================] - 7s 4ms/step - loss: 965.2993 - mae: 24.3906\n",
      "Epoch 2/20\n",
      "1303/1303 [==============================] - 5s 4ms/step - loss: 75.7373 - mae: 5.3326\n",
      "Epoch 3/20\n",
      "1303/1303 [==============================] - 5s 4ms/step - loss: 69.2749 - mae: 4.3660\n",
      "Epoch 4/20\n",
      "1303/1303 [==============================] - 5s 4ms/step - loss: 69.2843 - mae: 4.3688\n",
      "Epoch 5/20\n",
      "1303/1303 [==============================] - 5s 4ms/step - loss: 69.2880 - mae: 4.3650\n",
      "Epoch 6/20\n",
      "1303/1303 [==============================] - 5s 4ms/step - loss: 69.2958 - mae: 4.3664\n",
      "Epoch 7/20\n",
      "1303/1303 [==============================] - 5s 4ms/step - loss: 69.3016 - mae: 4.3666\n",
      "Epoch 8/20\n",
      "1303/1303 [==============================] - 5s 4ms/step - loss: 69.3031 - mae: 4.3695\n",
      "Epoch 9/20\n",
      "1303/1303 [==============================] - 5s 4ms/step - loss: 69.3116 - mae: 4.3658\n",
      "Epoch 10/20\n",
      "1303/1303 [==============================] - 5s 4ms/step - loss: 69.3028 - mae: 4.3704\n",
      "Epoch 11/20\n",
      "1303/1303 [==============================] - 5s 4ms/step - loss: 69.3101 - mae: 4.3685\n",
      "Epoch 12/20\n",
      "1303/1303 [==============================] - 5s 4ms/step - loss: 69.2992 - mae: 4.3685\n",
      "Epoch 13/20\n",
      "1303/1303 [==============================] - 5s 4ms/step - loss: 69.3142 - mae: 4.3670\n",
      "Epoch 14/20\n",
      "1303/1303 [==============================] - 5s 4ms/step - loss: 69.3120 - mae: 4.3684\n",
      "Epoch 15/20\n",
      "1303/1303 [==============================] - 5s 4ms/step - loss: 69.3035 - mae: 4.3661\n",
      "Epoch 16/20\n",
      "1303/1303 [==============================] - 5s 4ms/step - loss: 69.2986 - mae: 4.3683\n",
      "Epoch 17/20\n",
      "1303/1303 [==============================] - 5s 4ms/step - loss: 69.2993 - mae: 4.3695\n",
      "Epoch 18/20\n",
      "1303/1303 [==============================] - 5s 4ms/step - loss: 69.3067 - mae: 4.3670\n",
      "Epoch 19/20\n",
      "1303/1303 [==============================] - 5s 4ms/step - loss: 69.3012 - mae: 4.3691\n",
      "Epoch 20/20\n",
      "1303/1303 [==============================] - 6s 5ms/step - loss: 69.3026 - mae: 4.3639\n",
      "(10402, 2925)\n",
      "29.64904592930254 17.11750733782689 0.314765446025223 0.530919079921474\n"
     ]
    }
   ],
   "source": [
    "time_len = data_20.shape[0]\n",
    "node_num = data_20.shape[1]\n",
    "\n",
    "trainX, trainY, testX, testY = preprocess_data(data_20, time_len, train_rate, seq_len, pre_len)\n",
    "trainY = trainY.reshape([-1, pre_len * node_num])\n",
    "testY = testY.reshape([-1, pre_len * node_num])\n",
    "print(trainX.shape, trainY.shape, testX.shape, testY.shape)\n",
    "\n",
    "model = generate_model(seq_len, node_num, pre_len)\n",
    "train_model(model, (trainX,trainY,testX,testY), realY)"
   ]
  },
  {
   "cell_type": "markdown",
   "id": "78d7c3e5",
   "metadata": {},
   "source": [
    "# Pred = 60min"
   ]
  },
  {
   "cell_type": "code",
   "execution_count": 28,
   "id": "26471571",
   "metadata": {},
   "outputs": [],
   "source": [
    "pre_len = 12"
   ]
  },
  {
   "cell_type": "code",
   "execution_count": 29,
   "id": "5edb119d",
   "metadata": {},
   "outputs": [
    {
     "name": "stdout",
     "output_type": "stream",
     "text": [
      "52115 325\n"
     ]
    },
    {
     "data": {
      "text/plain": [
       "(10399, 3900)"
      ]
     },
     "execution_count": 29,
     "metadata": {},
     "output_type": "execute_result"
    }
   ],
   "source": [
    "time_len = mainData.shape[0]\n",
    "node_num = mainData.shape[1]\n",
    "\n",
    "print(time_len, node_num)\n",
    "\n",
    "_, _, _, realY = preprocess_data(mainData, time_len, train_rate, seq_len, pre_len)\n",
    "realY = realY.reshape([-1, node_num * pre_len])\n",
    "realY.shape"
   ]
  },
  {
   "cell_type": "markdown",
   "id": "2d9fc3a1",
   "metadata": {},
   "source": [
    "### Unobserved nodes = 0%"
   ]
  },
  {
   "cell_type": "code",
   "execution_count": 30,
   "id": "eda89425",
   "metadata": {},
   "outputs": [
    {
     "name": "stdout",
     "output_type": "stream",
     "text": [
      "(41668, 12, 325) (41668, 3900) (10399, 12, 325) (10399, 3900)\n",
      "(41668, 12, 325) (41668, 3900) (10399, 12, 325) (10399, 3900) (10399, 3900)\n",
      "Epoch 1/20\n",
      "1303/1303 [==============================] - 7s 4ms/step - loss: 1221.2584 - mae: 30.7208\n",
      "Epoch 2/20\n",
      "1303/1303 [==============================] - 5s 4ms/step - loss: 93.5188 - mae: 6.6197\n",
      "Epoch 3/20\n",
      "1303/1303 [==============================] - 5s 4ms/step - loss: 84.9754 - mae: 5.3768\n",
      "Epoch 4/20\n",
      "1303/1303 [==============================] - 5s 4ms/step - loss: 84.9881 - mae: 5.3765\n",
      "Epoch 5/20\n",
      "1303/1303 [==============================] - 5s 4ms/step - loss: 84.9926 - mae: 5.3714\n",
      "Epoch 6/20\n",
      "1303/1303 [==============================] - 5s 4ms/step - loss: 85.0039 - mae: 5.3679\n",
      "Epoch 7/20\n",
      "1303/1303 [==============================] - 5s 4ms/step - loss: 85.0068 - mae: 5.3751\n",
      "Epoch 8/20\n",
      "1303/1303 [==============================] - 5s 4ms/step - loss: 85.0183 - mae: 5.3757\n",
      "Epoch 9/20\n",
      "1303/1303 [==============================] - 5s 4ms/step - loss: 85.0168 - mae: 5.3699\n",
      "Epoch 10/20\n",
      "1303/1303 [==============================] - 5s 4ms/step - loss: 85.0214 - mae: 5.3754\n",
      "Epoch 11/20\n",
      "1303/1303 [==============================] - 5s 4ms/step - loss: 85.0217 - mae: 5.3748\n",
      "Epoch 12/20\n",
      "1303/1303 [==============================] - 5s 4ms/step - loss: 85.0221 - mae: 5.3724\n",
      "Epoch 13/20\n",
      "1303/1303 [==============================] - 5s 4ms/step - loss: 85.0215 - mae: 5.3730\n",
      "Epoch 14/20\n",
      "1303/1303 [==============================] - 5s 4ms/step - loss: 85.0284 - mae: 5.3733\n",
      "Epoch 15/20\n",
      "1303/1303 [==============================] - 5s 4ms/step - loss: 85.0145 - mae: 5.3731\n",
      "Epoch 16/20\n",
      "1303/1303 [==============================] - 5s 4ms/step - loss: 85.0164 - mae: 5.3710\n",
      "Epoch 17/20\n",
      "1303/1303 [==============================] - 5s 4ms/step - loss: 85.0061 - mae: 5.3708\n",
      "Epoch 18/20\n",
      "1303/1303 [==============================] - 5s 4ms/step - loss: 85.0153 - mae: 5.3775\n",
      "Epoch 19/20\n",
      "1303/1303 [==============================] - 5s 4ms/step - loss: 85.0152 - mae: 5.3701\n",
      "Epoch 20/20\n",
      "1303/1303 [==============================] - 5s 4ms/step - loss: 85.0143 - mae: 5.3713\n",
      "(10399, 3900)\n",
      "9.328883633917883 5.521142237512447 0.14005963882104727 0.8524044523114034\n"
     ]
    }
   ],
   "source": [
    "time_len = data_0.shape[0]\n",
    "node_num = data_0.shape[1]\n",
    "\n",
    "trainX, trainY, testX, testY = preprocess_data(data_0, time_len, train_rate, seq_len, pre_len)\n",
    "trainY = trainY.reshape([-1, pre_len * node_num])\n",
    "testY = testY.reshape([-1, pre_len * node_num])\n",
    "print(trainX.shape, trainY.shape, testX.shape, testY.shape)\n",
    "\n",
    "model = generate_model(seq_len, node_num, pre_len)\n",
    "train_model(model, (trainX,trainY,testX,testY), realY)"
   ]
  },
  {
   "cell_type": "markdown",
   "id": "a295464f",
   "metadata": {},
   "source": [
    "### Unobserved nodes = 5%"
   ]
  },
  {
   "cell_type": "code",
   "execution_count": 31,
   "id": "56288690",
   "metadata": {},
   "outputs": [
    {
     "name": "stdout",
     "output_type": "stream",
     "text": [
      "(41668, 12, 325) (41668, 3900) (10399, 12, 325) (10399, 3900)\n",
      "(41668, 12, 325) (41668, 3900) (10399, 12, 325) (10399, 3900) (10399, 3900)\n",
      "Epoch 1/20\n",
      "1303/1303 [==============================] - 7s 4ms/step - loss: 1153.6931 - mae: 29.0805\n",
      "Epoch 2/20\n",
      "1303/1303 [==============================] - 5s 4ms/step - loss: 88.6844 - mae: 6.2863\n",
      "Epoch 3/20\n",
      "1303/1303 [==============================] - 5s 4ms/step - loss: 80.8542 - mae: 5.1109\n",
      "Epoch 4/20\n",
      "1303/1303 [==============================] - 5s 4ms/step - loss: 80.8616 - mae: 5.1197\n",
      "Epoch 5/20\n",
      "1303/1303 [==============================] - 4s 3ms/step - loss: 80.8794 - mae: 5.1189\n",
      "Epoch 6/20\n",
      "1303/1303 [==============================] - 4s 3ms/step - loss: 80.8863 - mae: 5.1174\n",
      "Epoch 7/20\n",
      "1303/1303 [==============================] - 4s 3ms/step - loss: 80.8926 - mae: 5.1147\n",
      "Epoch 8/20\n",
      "1303/1303 [==============================] - 4s 3ms/step - loss: 80.8945 - mae: 5.1211\n",
      "Epoch 9/20\n",
      "1303/1303 [==============================] - 5s 3ms/step - loss: 80.8901 - mae: 5.1176\n",
      "Epoch 10/20\n",
      "1303/1303 [==============================] - 4s 3ms/step - loss: 80.8933 - mae: 5.1171\n",
      "Epoch 11/20\n",
      "1303/1303 [==============================] - 4s 3ms/step - loss: 80.8953 - mae: 5.1200\n",
      "Epoch 12/20\n",
      "1303/1303 [==============================] - 4s 3ms/step - loss: 80.8905 - mae: 5.1160\n",
      "Epoch 13/20\n",
      "1303/1303 [==============================] - 4s 3ms/step - loss: 80.8943 - mae: 5.1207\n",
      "Epoch 14/20\n",
      "1303/1303 [==============================] - 4s 3ms/step - loss: 80.8972 - mae: 5.1144\n",
      "Epoch 15/20\n",
      "1303/1303 [==============================] - 4s 3ms/step - loss: 80.8969 - mae: 5.1220\n",
      "Epoch 16/20\n",
      "1303/1303 [==============================] - 4s 3ms/step - loss: 80.8900 - mae: 5.1178\n",
      "Epoch 17/20\n",
      "1303/1303 [==============================] - 4s 3ms/step - loss: 80.8978 - mae: 5.1188\n",
      "Epoch 18/20\n",
      "1303/1303 [==============================] - 4s 3ms/step - loss: 80.8910 - mae: 5.1210\n",
      "Epoch 19/20\n",
      "1303/1303 [==============================] - 4s 3ms/step - loss: 80.8955 - mae: 5.1155\n",
      "Epoch 20/20\n",
      "1303/1303 [==============================] - 4s 3ms/step - loss: 80.8945 - mae: 5.1196\n",
      "(10399, 3900)\n",
      "16.90853559539241 8.2354615042714 0.18025231356265994 0.7324841138826153\n"
     ]
    }
   ],
   "source": [
    "time_len = data_5.shape[0]\n",
    "node_num = data_5.shape[1]\n",
    "\n",
    "trainX, trainY, testX, testY = preprocess_data(data_5, time_len, train_rate, seq_len, pre_len)\n",
    "trainY = trainY.reshape([-1, pre_len * node_num])\n",
    "testY = testY.reshape([-1, pre_len * node_num])\n",
    "print(trainX.shape, trainY.shape, testX.shape, testY.shape)\n",
    "\n",
    "model = generate_model(seq_len, node_num, pre_len)\n",
    "train_model(model, (trainX,trainY,testX,testY), realY)"
   ]
  },
  {
   "cell_type": "markdown",
   "id": "3e849f52",
   "metadata": {},
   "source": [
    "### Unobserved nodes = 10%"
   ]
  },
  {
   "cell_type": "code",
   "execution_count": 32,
   "id": "043ba15f",
   "metadata": {},
   "outputs": [
    {
     "name": "stdout",
     "output_type": "stream",
     "text": [
      "(41668, 12, 325) (41668, 3900) (10399, 12, 325) (10399, 3900)\n",
      "(41668, 12, 325) (41668, 3900) (10399, 12, 325) (10399, 3900) (10399, 3900)\n",
      "Epoch 1/20\n",
      "1303/1303 [==============================] - 7s 4ms/step - loss: 1098.4819 - mae: 27.6547\n",
      "Epoch 2/20\n",
      "1303/1303 [==============================] - 4s 3ms/step - loss: 83.8393 - mae: 5.9454\n",
      "Epoch 3/20\n",
      "1303/1303 [==============================] - 4s 3ms/step - loss: 76.2414 - mae: 4.8259\n",
      "Epoch 4/20\n",
      "1303/1303 [==============================] - 4s 3ms/step - loss: 76.2455 - mae: 4.8262\n",
      "Epoch 5/20\n",
      "1303/1303 [==============================] - 4s 3ms/step - loss: 76.2617 - mae: 4.8234\n",
      "Epoch 6/20\n",
      "1303/1303 [==============================] - 5s 4ms/step - loss: 76.2725 - mae: 4.8240\n",
      "Epoch 7/20\n",
      "1303/1303 [==============================] - 5s 4ms/step - loss: 76.2697 - mae: 4.8272\n",
      "Epoch 8/20\n",
      "1303/1303 [==============================] - 4s 3ms/step - loss: 76.2777 - mae: 4.8249\n",
      "Epoch 9/20\n",
      "1303/1303 [==============================] - 4s 3ms/step - loss: 76.2677 - mae: 4.8261\n",
      "Epoch 10/20\n",
      "1303/1303 [==============================] - 4s 3ms/step - loss: 76.2751 - mae: 4.8244\n",
      "Epoch 11/20\n",
      "1303/1303 [==============================] - 4s 3ms/step - loss: 76.2733 - mae: 4.8267: 0s - loss: 76.55\n",
      "Epoch 12/20\n",
      "1303/1303 [==============================] - 5s 3ms/step - loss: 76.2794 - mae: 4.8238\n",
      "Epoch 13/20\n",
      "1303/1303 [==============================] - 4s 3ms/step - loss: 76.2789 - mae: 4.8256\n",
      "Epoch 14/20\n",
      "1303/1303 [==============================] - 5s 3ms/step - loss: 76.2814 - mae: 4.8308\n",
      "Epoch 15/20\n",
      "1303/1303 [==============================] - 5s 3ms/step - loss: 76.2682 - mae: 4.8221\n",
      "Epoch 16/20\n",
      "1303/1303 [==============================] - 5s 3ms/step - loss: 76.2848 - mae: 4.8272\n",
      "Epoch 17/20\n",
      "1303/1303 [==============================] - 4s 3ms/step - loss: 76.2656 - mae: 4.8261\n",
      "Epoch 18/20\n",
      "1303/1303 [==============================] - 5s 4ms/step - loss: 76.2728 - mae: 4.8242\n",
      "Epoch 19/20\n",
      "1303/1303 [==============================] - 5s 4ms/step - loss: 76.2754 - mae: 4.8278\n",
      "Epoch 20/20\n",
      "1303/1303 [==============================] - 4s 3ms/step - loss: 76.2858 - mae: 4.8261\n",
      "(10399, 3900)\n",
      "21.649107326224076 10.993001178008756 0.22207396740322505 0.6574818619062854\n"
     ]
    }
   ],
   "source": [
    "time_len = data_10.shape[0]\n",
    "node_num = data_10.shape[1]\n",
    "\n",
    "trainX, trainY, testX, testY = preprocess_data(data_10, time_len, train_rate, seq_len, pre_len)\n",
    "trainY = trainY.reshape([-1, pre_len * node_num])\n",
    "testY = testY.reshape([-1, pre_len * node_num])\n",
    "print(trainX.shape, trainY.shape, testX.shape, testY.shape)\n",
    "\n",
    "model = generate_model(seq_len, node_num, pre_len)\n",
    "train_model(model, (trainX,trainY,testX,testY), realY)"
   ]
  },
  {
   "cell_type": "markdown",
   "id": "53bf37f3",
   "metadata": {},
   "source": [
    "### Unobserved nodes = 20%"
   ]
  },
  {
   "cell_type": "code",
   "execution_count": 33,
   "id": "e4c8c195",
   "metadata": {},
   "outputs": [
    {
     "name": "stdout",
     "output_type": "stream",
     "text": [
      "(41668, 12, 325) (41668, 3900) (10399, 12, 325) (10399, 3900)\n",
      "(41668, 12, 325) (41668, 3900) (10399, 12, 325) (10399, 3900) (10399, 3900)\n",
      "Epoch 1/20\n",
      "1303/1303 [==============================] - 7s 4ms/step - loss: 965.1754 - mae: 24.3855\n",
      "Epoch 2/20\n",
      "1303/1303 [==============================] - 5s 4ms/step - loss: 75.7137 - mae: 5.3265\n",
      "Epoch 3/20\n",
      "1303/1303 [==============================] - 5s 4ms/step - loss: 69.2687 - mae: 4.3689\n",
      "Epoch 4/20\n",
      "1303/1303 [==============================] - 5s 4ms/step - loss: 69.2734 - mae: 4.3672\n",
      "Epoch 5/20\n",
      "1303/1303 [==============================] - 5s 4ms/step - loss: 69.2803 - mae: 4.3676\n",
      "Epoch 6/20\n",
      "1303/1303 [==============================] - 5s 4ms/step - loss: 69.2925 - mae: 4.3631\n",
      "Epoch 7/20\n",
      "1303/1303 [==============================] - 5s 4ms/step - loss: 69.2926 - mae: 4.3651\n",
      "Epoch 8/20\n",
      "1303/1303 [==============================] - 5s 4ms/step - loss: 69.3033 - mae: 4.3707\n",
      "Epoch 9/20\n",
      "1303/1303 [==============================] - 5s 4ms/step - loss: 69.2896 - mae: 4.3635\n",
      "Epoch 10/20\n",
      "1303/1303 [==============================] - 5s 4ms/step - loss: 69.3008 - mae: 4.3698\n",
      "Epoch 11/20\n",
      "1303/1303 [==============================] - 5s 4ms/step - loss: 69.3037 - mae: 4.3696\n",
      "Epoch 12/20\n",
      "1303/1303 [==============================] - 5s 4ms/step - loss: 69.2959 - mae: 4.3619\n",
      "Epoch 13/20\n",
      "1303/1303 [==============================] - 5s 4ms/step - loss: 69.2930 - mae: 4.3696\n",
      "Epoch 14/20\n",
      "1303/1303 [==============================] - 5s 4ms/step - loss: 69.3002 - mae: 4.3676\n",
      "Epoch 15/20\n",
      "1303/1303 [==============================] - 5s 4ms/step - loss: 69.2909 - mae: 4.3694\n",
      "Epoch 16/20\n",
      "1303/1303 [==============================] - 5s 4ms/step - loss: 69.2984 - mae: 4.3657\n",
      "Epoch 17/20\n",
      "1303/1303 [==============================] - 5s 4ms/step - loss: 69.2952 - mae: 4.3668\n",
      "Epoch 18/20\n",
      "1303/1303 [==============================] - 5s 4ms/step - loss: 69.2962 - mae: 4.3677\n",
      "Epoch 19/20\n",
      "1303/1303 [==============================] - 5s 4ms/step - loss: 69.3052 - mae: 4.3660\n",
      "Epoch 20/20\n",
      "1303/1303 [==============================] - 5s 4ms/step - loss: 69.2911 - mae: 4.3674\n",
      "(10399, 3900)\n",
      "29.648496315841303 17.016343755539513 0.31371624856455377 0.5309207163900926\n"
     ]
    }
   ],
   "source": [
    "time_len = data_20.shape[0]\n",
    "node_num = data_20.shape[1]\n",
    "\n",
    "trainX, trainY, testX, testY = preprocess_data(data_20, time_len, train_rate, seq_len, pre_len)\n",
    "trainY = trainY.reshape([-1, pre_len * node_num])\n",
    "testY = testY.reshape([-1, pre_len * node_num])\n",
    "print(trainX.shape, trainY.shape, testX.shape, testY.shape)\n",
    "\n",
    "model = generate_model(seq_len, node_num, pre_len)\n",
    "train_model(model, (trainX,trainY,testX,testY), realY)"
   ]
  },
  {
   "cell_type": "code",
   "execution_count": null,
   "id": "fb40c344",
   "metadata": {},
   "outputs": [],
   "source": []
  }
 ],
 "metadata": {
  "kernelspec": {
   "display_name": "test",
   "language": "python",
   "name": "test"
  },
  "language_info": {
   "codemirror_mode": {
    "name": "ipython",
    "version": 3
   },
   "file_extension": ".py",
   "mimetype": "text/x-python",
   "name": "python",
   "nbconvert_exporter": "python",
   "pygments_lexer": "ipython3",
   "version": "3.8.12"
  }
 },
 "nbformat": 4,
 "nbformat_minor": 5
}
