{
 "cells": [
  {
   "cell_type": "code",
   "execution_count": 1,
   "id": "48def2a2",
   "metadata": {},
   "outputs": [],
   "source": [
    "import math\n",
    "import os\n",
    "import time\n",
    "import pickle as pkl\n",
    "import tensorflow as tf\n",
    "import pandas as pd\n",
    "import numpy as np\n",
    "import numpy.linalg as la\n",
    "\n",
    "from sklearn.metrics import mean_squared_error,mean_absolute_error,mean_absolute_percentage_error"
   ]
  },
  {
   "cell_type": "code",
   "execution_count": 2,
   "id": "bc426ab9",
   "metadata": {},
   "outputs": [],
   "source": [
    "physical_devices = tf.config.list_physical_devices('GPU')\n",
    "try:\n",
    "    tf.config.experimental.set_memory_growth(physical_devices[0], True)\n",
    "except:\n",
    "    pass"
   ]
  },
  {
   "cell_type": "code",
   "execution_count": 3,
   "id": "0a1f715a",
   "metadata": {},
   "outputs": [],
   "source": [
    "def load_data(path):\n",
    "    data = pd.read_csv(path)\n",
    "    data = data.drop(columns = ['Unnamed: 0'])\n",
    "    data = data[1:]\n",
    "    print(data.shape, (data == 0).sum().sum())\n",
    "    return data"
   ]
  },
  {
   "cell_type": "code",
   "execution_count": 4,
   "id": "72e37ee6",
   "metadata": {},
   "outputs": [],
   "source": [
    "def preprocess_data(data, time_len, rate, seq_len, pre_len):\n",
    "    train_size = int(time_len * rate)\n",
    "    train_data = data[0:train_size]\n",
    "    test_data = data[train_size:time_len]\n",
    "    \n",
    "    trainX, trainY, testX, testY = [], [], [], []\n",
    "    for i in range(len(train_data) - seq_len - pre_len):\n",
    "        a = train_data[i: i + seq_len + pre_len]\n",
    "        trainX.append(a[0 : seq_len])\n",
    "        trainY.append(a[seq_len : seq_len + pre_len])\n",
    "    for i in range(len(test_data) - seq_len -pre_len):\n",
    "        b = test_data[i: i + seq_len + pre_len]\n",
    "        testX.append(b[0 : seq_len])\n",
    "        testY.append(b[seq_len : seq_len + pre_len])\n",
    "        \n",
    "    trainX = np.array(trainX)\n",
    "    trainY = np.array(trainY)\n",
    "    testX = np.array(testX)\n",
    "    testY = np.array(testY)\n",
    "    return trainX, trainY, testX, testY"
   ]
  },
  {
   "cell_type": "code",
   "execution_count": 5,
   "id": "9fd29796",
   "metadata": {},
   "outputs": [],
   "source": [
    "def generate_model(seq_len, node_num, pre_len):\n",
    "    model = tf.keras.Sequential([\n",
    "        tf.keras.layers.GRU(units=64, return_sequences=True, input_shape = [seq_len, node_num]),\n",
    "        tf.keras.layers.GRU(units=64),\n",
    "        tf.keras.layers.Dense(pre_len * node_num)\n",
    "    ])\n",
    "    \n",
    "    model.compile(optimizer='adam', loss='mse', metrics=['mae'])\n",
    "    \n",
    "    return model"
   ]
  },
  {
   "cell_type": "code",
   "execution_count": 6,
   "id": "47eb5d33",
   "metadata": {},
   "outputs": [],
   "source": [
    "def train_model(model, train_datas, realY):\n",
    "    trainX, trainY, testX, testY = train_datas[0], train_datas[1], train_datas[2], train_datas[3]\n",
    "    print(trainX.shape, trainY.shape, testX.shape, testY.shape, realY.shape)\n",
    "    \n",
    "    model.fit(trainX, trainY, epochs=20, batch_size=32)\n",
    "    y_pred = model.predict(testX)\n",
    "    print(y_pred.shape)\n",
    "    \n",
    "    rmse = math.sqrt(mean_squared_error(realY, y_pred))\n",
    "    mae = mean_absolute_error(realY, y_pred)\n",
    "    mape = mean_absolute_percentage_error(realY, y_pred)\n",
    "    f_norm = la.norm(realY - y_pred) / la.norm(realY)\n",
    "    acc = 1-f_norm\n",
    "    \n",
    "    print(rmse, mae, mape, acc)"
   ]
  },
  {
   "cell_type": "code",
   "execution_count": 7,
   "id": "2e898a37",
   "metadata": {},
   "outputs": [],
   "source": [
    "path_0 = '../Data/METR-LA/speed_la_0.csv'\n",
    "path_5 = '../Data/METR-LA/speed_la_5.csv'\n",
    "path_10 = '../Data/METR-LA/speed_la_10.csv'\n",
    "path_20 = '../Data/METR-LA/speed_la_20.csv'"
   ]
  },
  {
   "cell_type": "code",
   "execution_count": 8,
   "id": "660d09b1",
   "metadata": {},
   "outputs": [],
   "source": [
    "train_rate = 0.8\n",
    "seq_len = 12"
   ]
  },
  {
   "cell_type": "code",
   "execution_count": 9,
   "id": "0da5bbfd",
   "metadata": {},
   "outputs": [
    {
     "name": "stdout",
     "output_type": "stream",
     "text": [
      "(34271, 207) 0\n",
      "(34271, 207) 0\n",
      "(34271, 207) 342710\n",
      "(34271, 207) 685420\n",
      "(34271, 207) 1405111\n"
     ]
    }
   ],
   "source": [
    "mainData = load_data(path_0)\n",
    "data_0 = load_data(path_0)\n",
    "data_5 = load_data(path_5)\n",
    "data_10 = load_data(path_10)\n",
    "data_20 = load_data(path_20)"
   ]
  },
  {
   "cell_type": "markdown",
   "id": "27df3b50",
   "metadata": {},
   "source": [
    "# Pred = 15min"
   ]
  },
  {
   "cell_type": "code",
   "execution_count": 10,
   "id": "ee9dadf0",
   "metadata": {},
   "outputs": [],
   "source": [
    "pre_len = 3"
   ]
  },
  {
   "cell_type": "code",
   "execution_count": 11,
   "id": "e8192788",
   "metadata": {},
   "outputs": [
    {
     "name": "stdout",
     "output_type": "stream",
     "text": [
      "34271 207\n"
     ]
    },
    {
     "data": {
      "text/plain": [
       "(6840, 621)"
      ]
     },
     "execution_count": 11,
     "metadata": {},
     "output_type": "execute_result"
    }
   ],
   "source": [
    "time_len = mainData.shape[0]\n",
    "node_num = mainData.shape[1]\n",
    "\n",
    "print(time_len, node_num)\n",
    "\n",
    "_, _, _, realY = preprocess_data(mainData, time_len, train_rate, seq_len, pre_len)\n",
    "realY = realY.reshape([-1, node_num * pre_len])\n",
    "realY.shape"
   ]
  },
  {
   "cell_type": "markdown",
   "id": "a0d88bb7",
   "metadata": {},
   "source": [
    "### Unobserved nodes = 0%"
   ]
  },
  {
   "cell_type": "code",
   "execution_count": 12,
   "id": "28bd3af5",
   "metadata": {},
   "outputs": [
    {
     "name": "stdout",
     "output_type": "stream",
     "text": [
      "(27401, 12, 207) (27401, 621) (6840, 12, 207) (6840, 621)\n",
      "(27401, 12, 207) (27401, 621) (6840, 12, 207) (6840, 621) (6840, 621)\n",
      "Epoch 1/20\n",
      "857/857 [==============================] - 8s 4ms/step - loss: 1502.9126 - mae: 35.5230\n",
      "Epoch 2/20\n",
      "857/857 [==============================] - 8s 9ms/step - loss: 204.2280 - mae: 12.2335\n",
      "Epoch 3/20\n",
      "857/857 [==============================] - 8s 9ms/step - loss: 131.4650 - mae: 7.6707\n",
      "Epoch 4/20\n",
      "857/857 [==============================] - 7s 8ms/step - loss: 130.7554 - mae: 7.3923\n",
      "Epoch 5/20\n",
      "857/857 [==============================] - 8s 10ms/step - loss: 130.7639 - mae: 7.3941\n",
      "Epoch 6/20\n",
      "857/857 [==============================] - 7s 8ms/step - loss: 130.7667 - mae: 7.3903\n",
      "Epoch 7/20\n",
      "857/857 [==============================] - 7s 8ms/step - loss: 130.7756 - mae: 7.3912\n",
      "Epoch 8/20\n",
      "857/857 [==============================] - 6s 7ms/step - loss: 130.7929 - mae: 7.3912\n",
      "Epoch 9/20\n",
      "857/857 [==============================] - 6s 7ms/step - loss: 130.7852 - mae: 7.3958\n",
      "Epoch 10/20\n",
      "857/857 [==============================] - 7s 8ms/step - loss: 130.8103 - mae: 7.3910\n",
      "Epoch 11/20\n",
      "857/857 [==============================] - 8s 10ms/step - loss: 130.7980 - mae: 7.3903\n",
      "Epoch 12/20\n",
      "857/857 [==============================] - 8s 10ms/step - loss: 130.8055 - mae: 7.3952\n",
      "Epoch 13/20\n",
      "857/857 [==============================] - 7s 8ms/step - loss: 130.7991 - mae: 7.3938\n",
      "Epoch 14/20\n",
      "857/857 [==============================] - 8s 10ms/step - loss: 130.7980 - mae: 7.3905\n",
      "Epoch 15/20\n",
      "857/857 [==============================] - 8s 10ms/step - loss: 130.8043 - mae: 7.3950\n",
      "Epoch 16/20\n",
      "857/857 [==============================] - 8s 9ms/step - loss: 130.8120 - mae: 7.3933\n",
      "Epoch 17/20\n",
      "857/857 [==============================] - 8s 9ms/step - loss: 130.7986 - mae: 7.3963\n",
      "Epoch 18/20\n",
      "857/857 [==============================] - 8s 10ms/step - loss: 130.7956 - mae: 7.3860\n",
      "Epoch 19/20\n",
      "857/857 [==============================] - 8s 10ms/step - loss: 130.8079 - mae: 7.3933\n",
      "Epoch 20/20\n",
      "857/857 [==============================] - 7s 8ms/step - loss: 130.7985 - mae: 7.3937\n",
      "(6840, 621)\n",
      "11.965192558100668 7.680331830323802 0.25556080225487127 0.7986768294356222\n"
     ]
    }
   ],
   "source": [
    "time_len = data_0.shape[0]\n",
    "node_num = data_0.shape[1]\n",
    "\n",
    "trainX, trainY, testX, testY = preprocess_data(data_0, time_len, train_rate, seq_len, pre_len)\n",
    "trainY = trainY.reshape([-1, pre_len * node_num])\n",
    "testY = testY.reshape([-1, pre_len * node_num])\n",
    "print(trainX.shape, trainY.shape, testX.shape, testY.shape)\n",
    "\n",
    "model = generate_model(seq_len, node_num, pre_len)\n",
    "train_model(model, (trainX,trainY,testX,testY), realY)"
   ]
  },
  {
   "cell_type": "markdown",
   "id": "2b572984",
   "metadata": {},
   "source": [
    "### Unobserved nodes = 5%"
   ]
  },
  {
   "cell_type": "code",
   "execution_count": 13,
   "id": "d3e9803c",
   "metadata": {},
   "outputs": [
    {
     "name": "stdout",
     "output_type": "stream",
     "text": [
      "(27401, 12, 207) (27401, 621) (6840, 12, 207) (6840, 621)\n",
      "(27401, 12, 207) (27401, 621) (6840, 12, 207) (6840, 621) (6840, 621)\n",
      "Epoch 1/20\n",
      "857/857 [==============================] - 12s 10ms/step - loss: 1435.7461 - mae: 33.8716\n",
      "Epoch 2/20\n",
      "857/857 [==============================] - 8s 10ms/step - loss: 193.9535 - mae: 11.6234\n",
      "Epoch 3/20\n",
      "857/857 [==============================] - 7s 9ms/step - loss: 124.1986 - mae: 7.2441\n",
      "Epoch 4/20\n",
      "857/857 [==============================] - 8s 9ms/step - loss: 123.5611 - mae: 6.9846\n",
      "Epoch 5/20\n",
      "857/857 [==============================] - 9s 10ms/step - loss: 123.5675 - mae: 6.9777\n",
      "Epoch 6/20\n",
      "857/857 [==============================] - 8s 10ms/step - loss: 123.5718 - mae: 6.9772\n",
      "Epoch 7/20\n",
      "857/857 [==============================] - 7s 8ms/step - loss: 123.5817 - mae: 6.9860\n",
      "Epoch 8/20\n",
      "857/857 [==============================] - 8s 10ms/step - loss: 123.6003 - mae: 6.9801\n",
      "Epoch 9/20\n",
      "857/857 [==============================] - 6s 7ms/step - loss: 123.5963 - mae: 6.9754\n",
      "Epoch 10/20\n",
      "857/857 [==============================] - 4s 4ms/step - loss: 123.6005 - mae: 6.9890\n",
      "Epoch 11/20\n",
      "857/857 [==============================] - 4s 5ms/step - loss: 123.5969 - mae: 6.9765\n",
      "Epoch 12/20\n",
      "857/857 [==============================] - 6s 7ms/step - loss: 123.6057 - mae: 6.9862\n",
      "Epoch 13/20\n",
      "857/857 [==============================] - 8s 9ms/step - loss: 123.6071 - mae: 6.9812\n",
      "Epoch 14/20\n",
      "857/857 [==============================] - 7s 8ms/step - loss: 123.6075 - mae: 6.9824\n",
      "Epoch 15/20\n",
      "857/857 [==============================] - 9s 10ms/step - loss: 123.6050 - mae: 6.9813\n",
      "Epoch 16/20\n",
      "857/857 [==============================] - 9s 10ms/step - loss: 123.5904 - mae: 6.9839\n",
      "Epoch 17/20\n",
      "857/857 [==============================] - 7s 8ms/step - loss: 123.6053 - mae: 6.9788\n",
      "Epoch 18/20\n",
      "857/857 [==============================] - 8s 9ms/step - loss: 123.6046 - mae: 6.9827\n",
      "Epoch 19/20\n",
      "857/857 [==============================] - 9s 10ms/step - loss: 123.6030 - mae: 6.9790\n",
      "Epoch 20/20\n",
      "857/857 [==============================] - 8s 9ms/step - loss: 123.5971 - mae: 6.9780\n",
      "(6840, 621)\n",
      "17.12190609646615 9.906677322003002 0.29028231632110213 0.711911329073253\n"
     ]
    }
   ],
   "source": [
    "time_len = data_5.shape[0]\n",
    "node_num = data_5.shape[1]\n",
    "\n",
    "trainX, trainY, testX, testY = preprocess_data(data_5, time_len, train_rate, seq_len, pre_len)\n",
    "trainY = trainY.reshape([-1, pre_len * node_num])\n",
    "testY = testY.reshape([-1, pre_len * node_num])\n",
    "print(trainX.shape, trainY.shape, testX.shape, testY.shape)\n",
    "\n",
    "model = generate_model(seq_len, node_num, pre_len)\n",
    "train_model(model, (trainX,trainY,testX,testY), realY)"
   ]
  },
  {
   "cell_type": "markdown",
   "id": "d48f6715",
   "metadata": {},
   "source": [
    "### Unobserved nodes = 10%"
   ]
  },
  {
   "cell_type": "code",
   "execution_count": 14,
   "id": "e421e02c",
   "metadata": {},
   "outputs": [
    {
     "name": "stdout",
     "output_type": "stream",
     "text": [
      "(27401, 12, 207) (27401, 621) (6840, 12, 207) (6840, 621)\n",
      "(27401, 12, 207) (27401, 621) (6840, 12, 207) (6840, 621) (6840, 621)\n",
      "Epoch 1/20\n",
      "857/857 [==============================] - 10s 8ms/step - loss: 1350.5264 - mae: 31.9818\n",
      "Epoch 2/20\n",
      "857/857 [==============================] - 9s 10ms/step - loss: 182.8601 - mae: 10.9837\n",
      "Epoch 3/20\n",
      "857/857 [==============================] - 9s 11ms/step - loss: 118.1636 - mae: 6.8881\n",
      "Epoch 4/20\n",
      "857/857 [==============================] - 8s 9ms/step - loss: 117.5265 - mae: 6.6508\n",
      "Epoch 5/20\n",
      "857/857 [==============================] - 8s 9ms/step - loss: 117.5289 - mae: 6.6455\n",
      "Epoch 6/20\n",
      "857/857 [==============================] - 8s 10ms/step - loss: 117.5454 - mae: 6.6375\n",
      "Epoch 7/20\n",
      "857/857 [==============================] - 8s 10ms/step - loss: 117.5486 - mae: 6.6422\n",
      "Epoch 8/20\n",
      "857/857 [==============================] - 7s 8ms/step - loss: 117.5575 - mae: 6.6447\n",
      "Epoch 9/20\n",
      "857/857 [==============================] - 9s 10ms/step - loss: 117.5579 - mae: 6.6385\n",
      "Epoch 10/20\n",
      "857/857 [==============================] - 9s 10ms/step - loss: 117.5659 - mae: 6.6390\n",
      "Epoch 11/20\n",
      "857/857 [==============================] - 7s 8ms/step - loss: 117.5648 - mae: 6.6451\n",
      "Epoch 12/20\n",
      "857/857 [==============================] - 9s 11ms/step - loss: 117.5583 - mae: 6.6390\n",
      "Epoch 13/20\n",
      "857/857 [==============================] - 9s 10ms/step - loss: 117.5777 - mae: 6.6468\n",
      "Epoch 14/20\n",
      "857/857 [==============================] - 7s 9ms/step - loss: 117.5552 - mae: 6.6438\n",
      "Epoch 15/20\n",
      "857/857 [==============================] - 8s 9ms/step - loss: 117.5711 - mae: 6.6393A: 1s - loss:\n",
      "Epoch 16/20\n",
      "857/857 [==============================] - 9s 10ms/step - loss: 117.5636 - mae: 6.6444\n",
      "Epoch 17/20\n",
      "857/857 [==============================] - 8s 10ms/step - loss: 117.5730 - mae: 6.6435\n",
      "Epoch 18/20\n",
      "857/857 [==============================] - 6s 7ms/step - loss: 117.5746 - mae: 6.6388\n",
      "Epoch 19/20\n",
      "857/857 [==============================] - 6s 7ms/step - loss: 117.5672 - mae: 6.6470\n",
      "Epoch 20/20\n",
      "857/857 [==============================] - 5s 6ms/step - loss: 117.5590 - mae: 6.6381\n",
      "(6840, 621)\n",
      "21.437630305500853 12.40595334023799 0.32066053165029956 0.6392960931023578\n"
     ]
    }
   ],
   "source": [
    "time_len = data_10.shape[0]\n",
    "node_num = data_10.shape[1]\n",
    "\n",
    "trainX, trainY, testX, testY = preprocess_data(data_10, time_len, train_rate, seq_len, pre_len)\n",
    "trainY = trainY.reshape([-1, pre_len * node_num])\n",
    "testY = testY.reshape([-1, pre_len * node_num])\n",
    "print(trainX.shape, trainY.shape, testX.shape, testY.shape)\n",
    "\n",
    "model = generate_model(seq_len, node_num, pre_len)\n",
    "train_model(model, (trainX,trainY,testX,testY), realY)"
   ]
  },
  {
   "cell_type": "markdown",
   "id": "b44c4c28",
   "metadata": {},
   "source": [
    "### Unobserved nodes = 20%"
   ]
  },
  {
   "cell_type": "code",
   "execution_count": 15,
   "id": "6bf12b8e",
   "metadata": {},
   "outputs": [
    {
     "name": "stdout",
     "output_type": "stream",
     "text": [
      "(27401, 12, 207) (27401, 621) (6840, 12, 207) (6840, 621)\n",
      "(27401, 12, 207) (27401, 621) (6840, 12, 207) (6840, 621) (6840, 621)\n",
      "Epoch 1/20\n",
      "857/857 [==============================] - 6s 4ms/step - loss: 1187.0391 - mae: 28.2146\n",
      "Epoch 2/20\n",
      "857/857 [==============================] - 5s 6ms/step - loss: 159.5265 - mae: 9.6742\n",
      "Epoch 3/20\n",
      "857/857 [==============================] - 6s 7ms/step - loss: 102.9210 - mae: 6.1258\n",
      "Epoch 4/20\n",
      "857/857 [==============================] - 6s 7ms/step - loss: 102.3839 - mae: 5.9183\n",
      "Epoch 5/20\n",
      "857/857 [==============================] - 6s 7ms/step - loss: 102.3878 - mae: 5.9093\n",
      "Epoch 6/20\n",
      "857/857 [==============================] - 6s 8ms/step - loss: 102.3985 - mae: 5.9126\n",
      "Epoch 7/20\n",
      "857/857 [==============================] - 6s 7ms/step - loss: 102.4028 - mae: 5.9138\n",
      "Epoch 8/20\n",
      "857/857 [==============================] - 6s 7ms/step - loss: 102.4064 - mae: 5.9103\n",
      "Epoch 9/20\n",
      "857/857 [==============================] - 6s 7ms/step - loss: 102.4094 - mae: 5.9094\n",
      "Epoch 10/20\n",
      "857/857 [==============================] - 6s 7ms/step - loss: 102.4217 - mae: 5.9171\n",
      "Epoch 11/20\n",
      "857/857 [==============================] - 6s 7ms/step - loss: 102.4111 - mae: 5.9079\n",
      "Epoch 12/20\n",
      "857/857 [==============================] - 6s 7ms/step - loss: 102.4214 - mae: 5.9149\n",
      "Epoch 13/20\n",
      "857/857 [==============================] - 6s 7ms/step - loss: 102.4180 - mae: 5.9114\n",
      "Epoch 14/20\n",
      "857/857 [==============================] - 6s 7ms/step - loss: 102.4090 - mae: 5.9092\n",
      "Epoch 15/20\n",
      "857/857 [==============================] - 6s 7ms/step - loss: 102.4228 - mae: 5.9145\n",
      "Epoch 16/20\n",
      "857/857 [==============================] - 6s 7ms/step - loss: 102.4180 - mae: 5.9086\n",
      "Epoch 17/20\n",
      "857/857 [==============================] - 6s 7ms/step - loss: 102.4215 - mae: 5.9170\n",
      "Epoch 18/20\n",
      "857/857 [==============================] - 6s 7ms/step - loss: 102.4216 - mae: 5.9164\n",
      "Epoch 19/20\n",
      "857/857 [==============================] - 6s 7ms/step - loss: 102.4171 - mae: 5.9099\n",
      "Epoch 20/20\n",
      "857/857 [==============================] - 6s 7ms/step - loss: 102.4214 - mae: 5.9116\n",
      "(6840, 621)\n",
      "28.95882378504688 17.76480530830909 0.3983388969963329 0.5127464775923888\n"
     ]
    }
   ],
   "source": [
    "time_len = data_20.shape[0]\n",
    "node_num = data_20.shape[1]\n",
    "\n",
    "trainX, trainY, testX, testY = preprocess_data(data_20, time_len, train_rate, seq_len, pre_len)\n",
    "trainY = trainY.reshape([-1, pre_len * node_num])\n",
    "testY = testY.reshape([-1, pre_len * node_num])\n",
    "print(trainX.shape, trainY.shape, testX.shape, testY.shape)\n",
    "\n",
    "model = generate_model(seq_len, node_num, pre_len)\n",
    "train_model(model, (trainX,trainY,testX,testY), realY)"
   ]
  },
  {
   "cell_type": "markdown",
   "id": "812fbb79",
   "metadata": {},
   "source": [
    "# Pred = 30min"
   ]
  },
  {
   "cell_type": "code",
   "execution_count": 16,
   "id": "955a72e3",
   "metadata": {},
   "outputs": [],
   "source": [
    "pre_len = 6"
   ]
  },
  {
   "cell_type": "code",
   "execution_count": 17,
   "id": "65dff490",
   "metadata": {},
   "outputs": [
    {
     "name": "stdout",
     "output_type": "stream",
     "text": [
      "34271 207\n"
     ]
    },
    {
     "data": {
      "text/plain": [
       "(6837, 1242)"
      ]
     },
     "execution_count": 17,
     "metadata": {},
     "output_type": "execute_result"
    }
   ],
   "source": [
    "time_len = mainData.shape[0]\n",
    "node_num = mainData.shape[1]\n",
    "\n",
    "print(time_len, node_num)\n",
    "\n",
    "_, _, _, realY = preprocess_data(mainData, time_len, train_rate, seq_len, pre_len)\n",
    "realY = realY.reshape([-1, node_num * pre_len])\n",
    "realY.shape"
   ]
  },
  {
   "cell_type": "markdown",
   "id": "da98c2be",
   "metadata": {},
   "source": [
    "### Unobserved nodes = 0%"
   ]
  },
  {
   "cell_type": "code",
   "execution_count": 18,
   "id": "aa4efbf4",
   "metadata": {},
   "outputs": [
    {
     "name": "stdout",
     "output_type": "stream",
     "text": [
      "(27398, 12, 207) (27398, 1242) (6837, 12, 207) (6837, 1242)\n",
      "(27398, 12, 207) (27398, 1242) (6837, 12, 207) (6837, 1242) (6837, 1242)\n",
      "Epoch 1/20\n",
      "857/857 [==============================] - 9s 7ms/step - loss: 1502.1238 - mae: 35.5039\n",
      "Epoch 2/20\n",
      "857/857 [==============================] - 6s 7ms/step - loss: 203.8766 - mae: 12.2177\n",
      "Epoch 3/20\n",
      "857/857 [==============================] - 6s 7ms/step - loss: 131.4487 - mae: 7.6624\n",
      "Epoch 4/20\n",
      "857/857 [==============================] - 6s 7ms/step - loss: 130.7713 - mae: 7.4036\n",
      "Epoch 5/20\n",
      "857/857 [==============================] - 6s 7ms/step - loss: 130.7667 - mae: 7.3923\n",
      "Epoch 6/20\n",
      "857/857 [==============================] - 6s 7ms/step - loss: 130.7788 - mae: 7.3949\n",
      "Epoch 7/20\n",
      "857/857 [==============================] - 6s 7ms/step - loss: 130.7846 - mae: 7.3888\n",
      "Epoch 8/20\n",
      "857/857 [==============================] - 6s 7ms/step - loss: 130.7965 - mae: 7.3914A: 0s - loss: 130.6722 - mae:\n",
      "Epoch 9/20\n",
      "857/857 [==============================] - 5s 6ms/step - loss: 130.8056 - mae: 7.3956\n",
      "Epoch 10/20\n",
      "857/857 [==============================] - 3s 4ms/step - loss: 130.8068 - mae: 7.3904\n",
      "Epoch 11/20\n",
      "857/857 [==============================] - 3s 4ms/step - loss: 130.8054 - mae: 7.3959\n",
      "Epoch 12/20\n",
      "857/857 [==============================] - 3s 4ms/step - loss: 130.8087 - mae: 7.3923\n",
      "Epoch 13/20\n",
      "857/857 [==============================] - 3s 4ms/step - loss: 130.8113 - mae: 7.3900\n",
      "Epoch 14/20\n",
      "857/857 [==============================] - 3s 4ms/step - loss: 130.8087 - mae: 7.4005\n",
      "Epoch 15/20\n",
      "857/857 [==============================] - 3s 4ms/step - loss: 130.8056 - mae: 7.3920\n",
      "Epoch 16/20\n",
      "857/857 [==============================] - 4s 5ms/step - loss: 130.8111 - mae: 7.3912\n",
      "Epoch 17/20\n",
      "857/857 [==============================] - 6s 7ms/step - loss: 130.8127 - mae: 7.3933\n",
      "Epoch 18/20\n",
      "857/857 [==============================] - 6s 7ms/step - loss: 130.8039 - mae: 7.3946\n",
      "Epoch 19/20\n",
      "857/857 [==============================] - 6s 7ms/step - loss: 130.8126 - mae: 7.3894\n",
      "Epoch 20/20\n",
      "857/857 [==============================] - 6s 7ms/step - loss: 130.8160 - mae: 7.3934\n",
      "(6837, 1242)\n",
      "11.98343956493431 7.619599770407659 0.2557414741649021 0.7983647021388082\n"
     ]
    }
   ],
   "source": [
    "time_len = data_0.shape[0]\n",
    "node_num = data_0.shape[1]\n",
    "\n",
    "trainX, trainY, testX, testY = preprocess_data(data_0, time_len, train_rate, seq_len, pre_len)\n",
    "trainY = trainY.reshape([-1, pre_len * node_num])\n",
    "testY = testY.reshape([-1, pre_len * node_num])\n",
    "print(trainX.shape, trainY.shape, testX.shape, testY.shape)\n",
    "\n",
    "model = generate_model(seq_len, node_num, pre_len)\n",
    "train_model(model, (trainX,trainY,testX,testY), realY)"
   ]
  },
  {
   "cell_type": "markdown",
   "id": "05c6d8c5",
   "metadata": {},
   "source": [
    "### Unobserved nodes = 5%"
   ]
  },
  {
   "cell_type": "code",
   "execution_count": 19,
   "id": "2dec1a78",
   "metadata": {},
   "outputs": [
    {
     "name": "stdout",
     "output_type": "stream",
     "text": [
      "(27398, 12, 207) (27398, 1242) (6837, 12, 207) (6837, 1242)\n",
      "(27398, 12, 207) (27398, 1242) (6837, 12, 207) (6837, 1242) (6837, 1242)\n",
      "Epoch 1/20\n",
      "857/857 [==============================] - 8s 7ms/step - loss: 1437.0582 - mae: 33.8902\n",
      "Epoch 2/20\n",
      "857/857 [==============================] - 6s 7ms/step - loss: 193.9685 - mae: 11.6239\n",
      "Epoch 3/20\n",
      "857/857 [==============================] - 6s 7ms/step - loss: 124.2315 - mae: 7.2457\n",
      "Epoch 4/20\n",
      "857/857 [==============================] - 6s 7ms/step - loss: 123.5738 - mae: 6.9899\n",
      "Epoch 5/20\n",
      "857/857 [==============================] - 6s 7ms/step - loss: 123.5758 - mae: 6.9794\n",
      "Epoch 6/20\n",
      "857/857 [==============================] - 6s 7ms/step - loss: 123.5851 - mae: 6.9793\n",
      "Epoch 7/20\n",
      "857/857 [==============================] - 6s 7ms/step - loss: 123.5898 - mae: 6.9789\n",
      "Epoch 8/20\n",
      "857/857 [==============================] - 6s 7ms/step - loss: 123.5967 - mae: 6.9794\n",
      "Epoch 9/20\n",
      "857/857 [==============================] - 6s 7ms/step - loss: 123.6043 - mae: 6.9830\n",
      "Epoch 10/20\n",
      "857/857 [==============================] - 7s 8ms/step - loss: 123.5907 - mae: 6.9786\n",
      "Epoch 11/20\n",
      "857/857 [==============================] - 6s 7ms/step - loss: 123.6079 - mae: 6.9837\n",
      "Epoch 12/20\n",
      "857/857 [==============================] - 7s 8ms/step - loss: 123.6047 - mae: 6.9817\n",
      "Epoch 13/20\n",
      "857/857 [==============================] - 6s 7ms/step - loss: 123.6080 - mae: 6.9851\n",
      "Epoch 14/20\n",
      "857/857 [==============================] - 6s 7ms/step - loss: 123.6116 - mae: 6.9824\n",
      "Epoch 15/20\n",
      "857/857 [==============================] - 6s 8ms/step - loss: 123.6158 - mae: 6.9771\n",
      "Epoch 16/20\n",
      "857/857 [==============================] - 6s 7ms/step - loss: 123.6005 - mae: 6.9805\n",
      "Epoch 17/20\n",
      "857/857 [==============================] - 6s 7ms/step - loss: 123.6123 - mae: 6.9831\n",
      "Epoch 18/20\n",
      "857/857 [==============================] - 6s 7ms/step - loss: 123.6119 - mae: 6.9806\n",
      "Epoch 19/20\n",
      "857/857 [==============================] - 6s 7ms/step - loss: 123.6108 - mae: 6.9825\n",
      "Epoch 20/20\n",
      "857/857 [==============================] - 6s 7ms/step - loss: 123.6128 - mae: 6.9843\n",
      "(6837, 1242)\n",
      "17.12870203871489 9.871975862772006 0.2903227433732254 0.7117896811815293\n"
     ]
    }
   ],
   "source": [
    "time_len = data_5.shape[0]\n",
    "node_num = data_5.shape[1]\n",
    "\n",
    "trainX, trainY, testX, testY = preprocess_data(data_5, time_len, train_rate, seq_len, pre_len)\n",
    "trainY = trainY.reshape([-1, pre_len * node_num])\n",
    "testY = testY.reshape([-1, pre_len * node_num])\n",
    "print(trainX.shape, trainY.shape, testX.shape, testY.shape)\n",
    "\n",
    "model = generate_model(seq_len, node_num, pre_len)\n",
    "train_model(model, (trainX,trainY,testX,testY), realY)"
   ]
  },
  {
   "cell_type": "markdown",
   "id": "6c1aa15d",
   "metadata": {},
   "source": [
    "### Unobserved nodes = 10%"
   ]
  },
  {
   "cell_type": "code",
   "execution_count": 20,
   "id": "8023b840",
   "metadata": {},
   "outputs": [
    {
     "name": "stdout",
     "output_type": "stream",
     "text": [
      "(27398, 12, 207) (27398, 1242) (6837, 12, 207) (6837, 1242)\n",
      "(27398, 12, 207) (27398, 1242) (6837, 12, 207) (6837, 1242) (6837, 1242)\n",
      "Epoch 1/20\n",
      "857/857 [==============================] - 6s 5ms/step - loss: 1362.6788 - mae: 32.1521\n",
      "Epoch 2/20\n",
      "857/857 [==============================] - 6s 7ms/step - loss: 185.1276 - mae: 11.0831\n",
      "Epoch 3/20\n",
      "857/857 [==============================] - 6s 7ms/step - loss: 118.1715 - mae: 6.9062\n",
      "Epoch 4/20\n",
      "857/857 [==============================] - 6s 7ms/step - loss: 117.5309 - mae: 6.6368\n",
      "Epoch 5/20\n",
      "857/857 [==============================] - 6s 8ms/step - loss: 117.5432 - mae: 6.6422\n",
      "Epoch 6/20\n",
      "857/857 [==============================] - 6s 7ms/step - loss: 117.5460 - mae: 6.6483\n",
      "Epoch 7/20\n",
      "857/857 [==============================] - 6s 7ms/step - loss: 117.5574 - mae: 6.6390\n",
      "Epoch 8/20\n",
      "857/857 [==============================] - 6s 7ms/step - loss: 117.5643 - mae: 6.6439\n",
      "Epoch 9/20\n",
      "857/857 [==============================] - 6s 7ms/step - loss: 117.5535 - mae: 6.6444\n",
      "Epoch 10/20\n",
      "857/857 [==============================] - 6s 7ms/step - loss: 117.5791 - mae: 6.6355\n",
      "Epoch 11/20\n",
      "857/857 [==============================] - 6s 7ms/step - loss: 117.5643 - mae: 6.6492\n",
      "Epoch 12/20\n",
      "857/857 [==============================] - 6s 7ms/step - loss: 117.5658 - mae: 6.6366\n",
      "Epoch 13/20\n",
      "857/857 [==============================] - 6s 7ms/step - loss: 117.5718 - mae: 6.6435\n",
      "Epoch 14/20\n",
      "857/857 [==============================] - 6s 7ms/step - loss: 117.5846 - mae: 6.6426\n",
      "Epoch 15/20\n",
      "857/857 [==============================] - 6s 8ms/step - loss: 117.5728 - mae: 6.6431\n",
      "Epoch 16/20\n",
      "857/857 [==============================] - 6s 7ms/step - loss: 117.5717 - mae: 6.6406\n",
      "Epoch 17/20\n",
      "857/857 [==============================] - 6s 7ms/step - loss: 117.5770 - mae: 6.6438\n",
      "Epoch 18/20\n",
      "857/857 [==============================] - 6s 7ms/step - loss: 117.5735 - mae: 6.6429\n",
      "Epoch 19/20\n",
      "857/857 [==============================] - 6s 7ms/step - loss: 117.5727 - mae: 6.6432\n",
      "Epoch 20/20\n",
      "857/857 [==============================] - 6s 7ms/step - loss: 117.5722 - mae: 6.6425\n",
      "(6837, 1242)\n",
      "21.44419784143365 12.37359528285809 0.3206953386877108 0.6391764488216777\n"
     ]
    }
   ],
   "source": [
    "time_len = data_10.shape[0]\n",
    "node_num = data_10.shape[1]\n",
    "\n",
    "trainX, trainY, testX, testY = preprocess_data(data_10, time_len, train_rate, seq_len, pre_len)\n",
    "trainY = trainY.reshape([-1, pre_len * node_num])\n",
    "testY = testY.reshape([-1, pre_len * node_num])\n",
    "print(trainX.shape, trainY.shape, testX.shape, testY.shape)\n",
    "\n",
    "model = generate_model(seq_len, node_num, pre_len)\n",
    "train_model(model, (trainX,trainY,testX,testY), realY)"
   ]
  },
  {
   "cell_type": "markdown",
   "id": "c4c91bdf",
   "metadata": {},
   "source": [
    "### Unobserved nodes = 20%"
   ]
  },
  {
   "cell_type": "code",
   "execution_count": 21,
   "id": "a574abcc",
   "metadata": {},
   "outputs": [
    {
     "name": "stdout",
     "output_type": "stream",
     "text": [
      "(27398, 12, 207) (27398, 1242) (6837, 12, 207) (6837, 1242)\n",
      "(27398, 12, 207) (27398, 1242) (6837, 12, 207) (6837, 1242) (6837, 1242)\n",
      "Epoch 1/20\n",
      "857/857 [==============================] - 9s 7ms/step - loss: 1190.3441 - mae: 28.2675\n",
      "Epoch 2/20\n",
      "857/857 [==============================] - 6s 7ms/step - loss: 159.9064 - mae: 9.6934\n",
      "Epoch 3/20\n",
      "857/857 [==============================] - 6s 7ms/step - loss: 102.9237 - mae: 6.1285\n",
      "Epoch 4/20\n",
      "857/857 [==============================] - 6s 7ms/step - loss: 102.3918 - mae: 5.9151\n",
      "Epoch 5/20\n",
      "857/857 [==============================] - 6s 7ms/step - loss: 102.3939 - mae: 5.9061\n",
      "Epoch 6/20\n",
      "857/857 [==============================] - 6s 7ms/step - loss: 102.4014 - mae: 5.9146\n",
      "Epoch 7/20\n",
      "857/857 [==============================] - 5s 6ms/step - loss: 102.4092 - mae: 5.9120\n",
      "Epoch 8/20\n",
      "857/857 [==============================] - 3s 4ms/step - loss: 102.4188 - mae: 5.9141\n",
      "Epoch 9/20\n",
      "857/857 [==============================] - 3s 3ms/step - loss: 102.4250 - mae: 5.9089\n",
      "Epoch 10/20\n",
      "857/857 [==============================] - 3s 3ms/step - loss: 102.4270 - mae: 5.9153\n",
      "Epoch 11/20\n",
      "857/857 [==============================] - 3s 3ms/step - loss: 102.4283 - mae: 5.9174\n",
      "Epoch 12/20\n",
      "857/857 [==============================] - 3s 4ms/step - loss: 102.4299 - mae: 5.9082\n",
      "Epoch 13/20\n",
      "857/857 [==============================] - 3s 4ms/step - loss: 102.4165 - mae: 5.9104\n",
      "Epoch 14/20\n",
      "857/857 [==============================] - 3s 4ms/step - loss: 102.4146 - mae: 5.9133\n",
      "Epoch 15/20\n",
      "857/857 [==============================] - 6s 7ms/step - loss: 102.4190 - mae: 5.9115\n",
      "Epoch 16/20\n",
      "857/857 [==============================] - 6s 7ms/step - loss: 102.4288 - mae: 5.9121\n",
      "Epoch 17/20\n",
      "857/857 [==============================] - 6s 7ms/step - loss: 102.4328 - mae: 5.9171\n",
      "Epoch 18/20\n",
      "857/857 [==============================] - 6s 7ms/step - loss: 102.4307 - mae: 5.9130\n",
      "Epoch 19/20\n",
      "857/857 [==============================] - 6s 7ms/step - loss: 102.4306 - mae: 5.9135\n",
      "Epoch 20/20\n",
      "857/857 [==============================] - 6s 7ms/step - loss: 102.4257 - mae: 5.9137\n",
      "(6837, 1242)\n",
      "28.96041353915377 17.748584461147527 0.39856149011712716 0.5127073843442262\n"
     ]
    }
   ],
   "source": [
    "time_len = data_20.shape[0]\n",
    "node_num = data_20.shape[1]\n",
    "\n",
    "trainX, trainY, testX, testY = preprocess_data(data_20, time_len, train_rate, seq_len, pre_len)\n",
    "trainY = trainY.reshape([-1, pre_len * node_num])\n",
    "testY = testY.reshape([-1, pre_len * node_num])\n",
    "print(trainX.shape, trainY.shape, testX.shape, testY.shape)\n",
    "\n",
    "model = generate_model(seq_len, node_num, pre_len)\n",
    "train_model(model, (trainX,trainY,testX,testY), realY)"
   ]
  },
  {
   "cell_type": "markdown",
   "id": "94aee54e",
   "metadata": {},
   "source": [
    "# Pred = 45min"
   ]
  },
  {
   "cell_type": "code",
   "execution_count": 22,
   "id": "e6369780",
   "metadata": {},
   "outputs": [],
   "source": [
    "pre_len = 9"
   ]
  },
  {
   "cell_type": "code",
   "execution_count": 23,
   "id": "d8712527",
   "metadata": {},
   "outputs": [
    {
     "name": "stdout",
     "output_type": "stream",
     "text": [
      "34271 207\n"
     ]
    },
    {
     "data": {
      "text/plain": [
       "(6834, 1863)"
      ]
     },
     "execution_count": 23,
     "metadata": {},
     "output_type": "execute_result"
    }
   ],
   "source": [
    "time_len = mainData.shape[0]\n",
    "node_num = mainData.shape[1]\n",
    "\n",
    "print(time_len, node_num)\n",
    "\n",
    "_, _, _, realY = preprocess_data(mainData, time_len, train_rate, seq_len, pre_len)\n",
    "realY = realY.reshape([-1, node_num * pre_len])\n",
    "realY.shape"
   ]
  },
  {
   "cell_type": "markdown",
   "id": "33e2a85a",
   "metadata": {},
   "source": [
    "### Unobserved nodes = 0%"
   ]
  },
  {
   "cell_type": "code",
   "execution_count": 24,
   "id": "75a8b3d1",
   "metadata": {},
   "outputs": [
    {
     "name": "stdout",
     "output_type": "stream",
     "text": [
      "(27395, 12, 207) (27395, 1863) (6834, 12, 207) (6834, 1863)\n",
      "(27395, 12, 207) (27395, 1863) (6834, 12, 207) (6834, 1863) (6834, 1863)\n",
      "Epoch 1/20\n",
      "857/857 [==============================] - 9s 7ms/step - loss: 1511.0881 - mae: 35.6267\n",
      "Epoch 2/20\n",
      "857/857 [==============================] - 6s 7ms/step - loss: 205.8959 - mae: 12.2975\n",
      "Epoch 3/20\n",
      "857/857 [==============================] - 6s 7ms/step - loss: 131.4950 - mae: 7.6831\n",
      "Epoch 4/20\n",
      "857/857 [==============================] - 6s 7ms/step - loss: 130.7778 - mae: 7.4001\n",
      "Epoch 5/20\n",
      "857/857 [==============================] - 6s 7ms/step - loss: 130.7813 - mae: 7.3920\n",
      "Epoch 6/20\n",
      "857/857 [==============================] - 6s 7ms/step - loss: 130.7902 - mae: 7.3947\n",
      "Epoch 7/20\n",
      "857/857 [==============================] - 7s 8ms/step - loss: 130.8046 - mae: 7.3859\n",
      "Epoch 8/20\n",
      "857/857 [==============================] - 6s 7ms/step - loss: 130.8013 - mae: 7.3960\n",
      "Epoch 9/20\n",
      "857/857 [==============================] - 6s 7ms/step - loss: 130.8123 - mae: 7.3931\n",
      "Epoch 10/20\n",
      "857/857 [==============================] - 6s 7ms/step - loss: 130.8200 - mae: 7.3897\n",
      "Epoch 11/20\n",
      "857/857 [==============================] - 6s 7ms/step - loss: 130.8257 - mae: 7.3962\n",
      "Epoch 12/20\n",
      "857/857 [==============================] - 6s 7ms/step - loss: 130.8198 - mae: 7.3969\n",
      "Epoch 13/20\n",
      "857/857 [==============================] - 6s 8ms/step - loss: 130.8154 - mae: 7.3917A: 1s - loss: \n",
      "Epoch 14/20\n",
      "857/857 [==============================] - 6s 7ms/step - loss: 130.8183 - mae: 7.3906\n",
      "Epoch 15/20\n",
      "857/857 [==============================] - 6s 7ms/step - loss: 130.8148 - mae: 7.3919\n",
      "Epoch 16/20\n",
      "857/857 [==============================] - 6s 7ms/step - loss: 130.8173 - mae: 7.3888\n",
      "Epoch 17/20\n",
      "857/857 [==============================] - 6s 7ms/step - loss: 130.8153 - mae: 7.3928\n",
      "Epoch 18/20\n",
      "857/857 [==============================] - 6s 7ms/step - loss: 130.8248 - mae: 7.3935\n",
      "Epoch 19/20\n",
      "857/857 [==============================] - 6s 7ms/step - loss: 130.8109 - mae: 7.3942\n",
      "Epoch 20/20\n",
      "857/857 [==============================] - 6s 7ms/step - loss: 130.8210 - mae: 7.3956\n",
      "(6834, 1863)\n",
      "11.997048485670986 7.608703538617683 0.2559532503161502 0.7981308382455885\n"
     ]
    }
   ],
   "source": [
    "time_len = data_0.shape[0]\n",
    "node_num = data_0.shape[1]\n",
    "\n",
    "trainX, trainY, testX, testY = preprocess_data(data_0, time_len, train_rate, seq_len, pre_len)\n",
    "trainY = trainY.reshape([-1, pre_len * node_num])\n",
    "testY = testY.reshape([-1, pre_len * node_num])\n",
    "print(trainX.shape, trainY.shape, testX.shape, testY.shape)\n",
    "\n",
    "model = generate_model(seq_len, node_num, pre_len)\n",
    "train_model(model, (trainX,trainY,testX,testY), realY)"
   ]
  },
  {
   "cell_type": "markdown",
   "id": "4c35fca4",
   "metadata": {},
   "source": [
    "### Unobserved nodes = 5%"
   ]
  },
  {
   "cell_type": "code",
   "execution_count": 25,
   "id": "1a060b2d",
   "metadata": {},
   "outputs": [
    {
     "name": "stdout",
     "output_type": "stream",
     "text": [
      "(27395, 12, 207) (27395, 1863) (6834, 12, 207) (6834, 1863)\n",
      "(27395, 12, 207) (27395, 1863) (6834, 12, 207) (6834, 1863) (6834, 1863)\n",
      "Epoch 1/20\n",
      "857/857 [==============================] - 6s 4ms/step - loss: 1438.9631 - mae: 33.9240\n",
      "Epoch 2/20\n",
      "857/857 [==============================] - 3s 4ms/step - loss: 194.7126 - mae: 11.6533\n",
      "Epoch 3/20\n",
      "857/857 [==============================] - 3s 4ms/step - loss: 124.2894 - mae: 7.2565\n",
      "Epoch 4/20\n",
      "857/857 [==============================] - 4s 5ms/step - loss: 123.5799 - mae: 6.9882\n",
      "Epoch 5/20\n",
      "857/857 [==============================] - 6s 7ms/step - loss: 123.5812 - mae: 6.9788\n",
      "Epoch 6/20\n",
      "857/857 [==============================] - ETA: 0s - loss: 123.5883 - mae: 6.982 - 6s 7ms/step - loss: 123.5767 - mae: 6.9821\n",
      "Epoch 7/20\n",
      "857/857 [==============================] - 6s 7ms/step - loss: 123.6011 - mae: 6.9806\n",
      "Epoch 8/20\n",
      "857/857 [==============================] - 7s 8ms/step - loss: 123.6097 - mae: 6.9824\n",
      "Epoch 9/20\n",
      "857/857 [==============================] - 6s 8ms/step - loss: 123.6065 - mae: 6.9835\n",
      "Epoch 10/20\n",
      "857/857 [==============================] - 6s 7ms/step - loss: 123.6190 - mae: 6.9822\n",
      "Epoch 11/20\n",
      "857/857 [==============================] - 6s 7ms/step - loss: 123.6059 - mae: 6.9793\n",
      "Epoch 12/20\n",
      "857/857 [==============================] - 6s 7ms/step - loss: 123.6091 - mae: 6.9823\n",
      "Epoch 13/20\n",
      "857/857 [==============================] - 6s 7ms/step - loss: 123.6174 - mae: 6.9829\n",
      "Epoch 14/20\n",
      "857/857 [==============================] - 6s 7ms/step - loss: 123.6196 - mae: 6.9860\n",
      "Epoch 15/20\n",
      "857/857 [==============================] - 6s 7ms/step - loss: 123.6212 - mae: 6.9771\n",
      "Epoch 16/20\n",
      "857/857 [==============================] - 6s 7ms/step - loss: 123.6209 - mae: 6.9847\n",
      "Epoch 17/20\n",
      "857/857 [==============================] - 6s 7ms/step - loss: 123.6208 - mae: 6.9820\n",
      "Epoch 18/20\n",
      "857/857 [==============================] - 6s 7ms/step - loss: 123.6259 - mae: 6.9826\n",
      "Epoch 19/20\n",
      "857/857 [==============================] - 6s 7ms/step - loss: 123.6138 - mae: 6.9807\n",
      "Epoch 20/20\n",
      "857/857 [==============================] - 6s 7ms/step - loss: 123.6041 - mae: 6.9859\n",
      "(6834, 1863)\n",
      "17.137182782795456 9.845463506836387 0.29038193780973803 0.7116400148481318\n"
     ]
    }
   ],
   "source": [
    "time_len = data_5.shape[0]\n",
    "node_num = data_5.shape[1]\n",
    "\n",
    "trainX, trainY, testX, testY = preprocess_data(data_5, time_len, train_rate, seq_len, pre_len)\n",
    "trainY = trainY.reshape([-1, pre_len * node_num])\n",
    "testY = testY.reshape([-1, pre_len * node_num])\n",
    "print(trainX.shape, trainY.shape, testX.shape, testY.shape)\n",
    "\n",
    "model = generate_model(seq_len, node_num, pre_len)\n",
    "train_model(model, (trainX,trainY,testX,testY), realY)"
   ]
  },
  {
   "cell_type": "markdown",
   "id": "61037980",
   "metadata": {},
   "source": [
    "### Unobserved nodes = 10%"
   ]
  },
  {
   "cell_type": "code",
   "execution_count": 26,
   "id": "2ae076a8",
   "metadata": {},
   "outputs": [
    {
     "name": "stdout",
     "output_type": "stream",
     "text": [
      "(27395, 12, 207) (27395, 1863) (6834, 12, 207) (6834, 1863)\n",
      "(27395, 12, 207) (27395, 1863) (6834, 12, 207) (6834, 1863) (6834, 1863)\n",
      "Epoch 1/20\n",
      "857/857 [==============================] - 8s 7ms/step - loss: 1359.5983 - mae: 32.1036\n",
      "Epoch 2/20\n",
      "857/857 [==============================] - 6s 7ms/step - loss: 184.3209 - mae: 11.0475\n",
      "Epoch 3/20\n",
      "857/857 [==============================] - 6s 7ms/step - loss: 118.1825 - mae: 6.9014\n",
      "Epoch 4/20\n",
      "857/857 [==============================] - 6s 7ms/step - loss: 117.5429 - mae: 6.6495\n",
      "Epoch 5/20\n",
      "857/857 [==============================] - 6s 7ms/step - loss: 117.5395 - mae: 6.6340\n",
      "Epoch 6/20\n",
      "857/857 [==============================] - 6s 7ms/step - loss: 117.5505 - mae: 6.6498\n",
      "Epoch 7/20\n",
      "857/857 [==============================] - 6s 7ms/step - loss: 117.5588 - mae: 6.6431\n",
      "Epoch 8/20\n",
      "857/857 [==============================] - 6s 7ms/step - loss: 117.5701 - mae: 6.6318\n",
      "Epoch 9/20\n",
      "857/857 [==============================] - 5s 6ms/step - loss: 117.5796 - mae: 6.6479\n",
      "Epoch 10/20\n",
      "857/857 [==============================] - 4s 4ms/step - loss: 117.5838 - mae: 6.6431\n",
      "Epoch 11/20\n",
      "857/857 [==============================] - 3s 4ms/step - loss: 117.5801 - mae: 6.6439\n",
      "Epoch 12/20\n",
      "857/857 [==============================] - 3s 4ms/step - loss: 117.5737 - mae: 6.6398\n",
      "Epoch 13/20\n",
      "857/857 [==============================] - 3s 4ms/step - loss: 117.5868 - mae: 6.6456\n",
      "Epoch 14/20\n",
      "857/857 [==============================] - 4s 4ms/step - loss: 117.5843 - mae: 6.6432\n",
      "Epoch 15/20\n",
      "857/857 [==============================] - 3s 4ms/step - loss: 117.5858 - mae: 6.6409\n",
      "Epoch 16/20\n",
      "857/857 [==============================] - 4s 5ms/step - loss: 117.5798 - mae: 6.6481\n",
      "Epoch 17/20\n",
      "857/857 [==============================] - 6s 7ms/step - loss: 117.5839 - mae: 6.6394\n",
      "Epoch 18/20\n",
      "857/857 [==============================] - 6s 7ms/step - loss: 117.5870 - mae: 6.6462\n",
      "Epoch 19/20\n",
      "857/857 [==============================] - 6s 7ms/step - loss: 117.5825 - mae: 6.6427\n",
      "Epoch 20/20\n",
      "857/857 [==============================] - 6s 7ms/step - loss: 117.5880 - mae: 6.6425\n",
      "(6834, 1863)\n",
      "21.443989845975775 12.356045450172324 0.3205927471745785 0.639171229486402\n"
     ]
    }
   ],
   "source": [
    "time_len = data_10.shape[0]\n",
    "node_num = data_10.shape[1]\n",
    "\n",
    "trainX, trainY, testX, testY = preprocess_data(data_10, time_len, train_rate, seq_len, pre_len)\n",
    "trainY = trainY.reshape([-1, pre_len * node_num])\n",
    "testY = testY.reshape([-1, pre_len * node_num])\n",
    "print(trainX.shape, trainY.shape, testX.shape, testY.shape)\n",
    "\n",
    "model = generate_model(seq_len, node_num, pre_len)\n",
    "train_model(model, (trainX,trainY,testX,testY), realY)"
   ]
  },
  {
   "cell_type": "markdown",
   "id": "5978b2b2",
   "metadata": {},
   "source": [
    "### Unobserved nodes = 20%"
   ]
  },
  {
   "cell_type": "code",
   "execution_count": 27,
   "id": "3765d9d8",
   "metadata": {},
   "outputs": [
    {
     "name": "stdout",
     "output_type": "stream",
     "text": [
      "(27395, 12, 207) (27395, 1863) (6834, 12, 207) (6834, 1863)\n",
      "(27395, 12, 207) (27395, 1863) (6834, 12, 207) (6834, 1863) (6834, 1863)\n",
      "Epoch 1/20\n",
      "857/857 [==============================] - 9s 8ms/step - loss: 1190.6027 - mae: 28.2769\n",
      "Epoch 2/20\n",
      "857/857 [==============================] - 6s 7ms/step - loss: 159.9947 - mae: 9.6991\n",
      "Epoch 3/20\n",
      "857/857 [==============================] - 6s 7ms/step - loss: 102.9151 - mae: 6.1302\n",
      "Epoch 4/20\n",
      "857/857 [==============================] - 6s 7ms/step - loss: 102.3985 - mae: 5.9061\n",
      "Epoch 5/20\n",
      "857/857 [==============================] - 6s 7ms/step - loss: 98.2290 - mae: 5.9024\n",
      "Epoch 6/20\n",
      "857/857 [==============================] - 6s 7ms/step - loss: 86.2564 - mae: 5.5670\n",
      "Epoch 7/20\n",
      "857/857 [==============================] - 6s 7ms/step - loss: 81.1425 - mae: 5.2592\n",
      "Epoch 8/20\n",
      "857/857 [==============================] - 6s 7ms/step - loss: 78.6843 - mae: 5.0730\n",
      "Epoch 9/20\n",
      "857/857 [==============================] - 7s 8ms/step - loss: 78.3690 - mae: 5.0191\n",
      "Epoch 10/20\n",
      "857/857 [==============================] - 6s 7ms/step - loss: 77.1322 - mae: 4.9708\n",
      "Epoch 11/20\n",
      "857/857 [==============================] - 6s 7ms/step - loss: 76.8614 - mae: 4.9550\n",
      "Epoch 12/20\n",
      "857/857 [==============================] - 6s 7ms/step - loss: 77.0312 - mae: 4.9489\n",
      "Epoch 13/20\n",
      "857/857 [==============================] - 6s 7ms/step - loss: 76.4211 - mae: 4.9302\n",
      "Epoch 14/20\n",
      "857/857 [==============================] - 6s 7ms/step - loss: 76.1416 - mae: 4.9171\n",
      "Epoch 15/20\n",
      "857/857 [==============================] - 6s 7ms/step - loss: 75.7213 - mae: 4.9036\n",
      "Epoch 16/20\n",
      "857/857 [==============================] - 6s 7ms/step - loss: 75.6258 - mae: 4.8892\n",
      "Epoch 17/20\n",
      "857/857 [==============================] - 6s 7ms/step - loss: 75.4811 - mae: 4.8821\n",
      "Epoch 18/20\n",
      "857/857 [==============================] - 6s 7ms/step - loss: 75.0220 - mae: 4.8637\n",
      "Epoch 19/20\n",
      "857/857 [==============================] - 6s 7ms/step - loss: 75.4795 - mae: 4.8887\n",
      "Epoch 20/20\n",
      "857/857 [==============================] - 6s 7ms/step - loss: 75.2496 - mae: 4.8766\n",
      "(6834, 1863)\n",
      "28.451126775473792 16.756085432515043 0.35939364591382356 0.521265157843587\n"
     ]
    }
   ],
   "source": [
    "time_len = data_20.shape[0]\n",
    "node_num = data_20.shape[1]\n",
    "\n",
    "trainX, trainY, testX, testY = preprocess_data(data_20, time_len, train_rate, seq_len, pre_len)\n",
    "trainY = trainY.reshape([-1, pre_len * node_num])\n",
    "testY = testY.reshape([-1, pre_len * node_num])\n",
    "print(trainX.shape, trainY.shape, testX.shape, testY.shape)\n",
    "\n",
    "model = generate_model(seq_len, node_num, pre_len)\n",
    "train_model(model, (trainX,trainY,testX,testY), realY)"
   ]
  },
  {
   "cell_type": "markdown",
   "id": "b691fe0b",
   "metadata": {},
   "source": [
    "# Pred = 60min"
   ]
  },
  {
   "cell_type": "code",
   "execution_count": 28,
   "id": "b7c2ce42",
   "metadata": {},
   "outputs": [],
   "source": [
    "pre_len = 12"
   ]
  },
  {
   "cell_type": "code",
   "execution_count": 29,
   "id": "77aa5fa2",
   "metadata": {},
   "outputs": [
    {
     "name": "stdout",
     "output_type": "stream",
     "text": [
      "34271 207\n"
     ]
    },
    {
     "data": {
      "text/plain": [
       "(6831, 2484)"
      ]
     },
     "execution_count": 29,
     "metadata": {},
     "output_type": "execute_result"
    }
   ],
   "source": [
    "time_len = mainData.shape[0]\n",
    "node_num = mainData.shape[1]\n",
    "\n",
    "print(time_len, node_num)\n",
    "\n",
    "_, _, _, realY = preprocess_data(mainData, time_len, train_rate, seq_len, pre_len)\n",
    "realY = realY.reshape([-1, node_num * pre_len])\n",
    "realY.shape"
   ]
  },
  {
   "cell_type": "markdown",
   "id": "443a921b",
   "metadata": {},
   "source": [
    "### Unobserved nodes = 0%"
   ]
  },
  {
   "cell_type": "code",
   "execution_count": 30,
   "id": "fbdc49b8",
   "metadata": {},
   "outputs": [
    {
     "name": "stdout",
     "output_type": "stream",
     "text": [
      "(27392, 12, 207) (27392, 2484) (6831, 12, 207) (6831, 2484)\n",
      "(27392, 12, 207) (27392, 2484) (6831, 12, 207) (6831, 2484) (6831, 2484)\n",
      "Epoch 1/20\n",
      "856/856 [==============================] - 5s 3ms/step - loss: 1501.9988 - mae: 35.5172\n",
      "Epoch 2/20\n",
      "856/856 [==============================] - 3s 3ms/step - loss: 204.7742 - mae: 12.2560\n",
      "Epoch 3/20\n",
      "856/856 [==============================] - 3s 4ms/step - loss: 131.4792 - mae: 7.6743\n",
      "Epoch 4/20\n",
      "856/856 [==============================] - 4s 5ms/step - loss: 130.7801 - mae: 7.4042\n",
      "Epoch 5/20\n",
      "856/856 [==============================] - 5s 6ms/step - loss: 130.7873 - mae: 7.3909\n",
      "Epoch 6/20\n",
      "856/856 [==============================] - 5s 6ms/step - loss: 130.8036 - mae: 7.3879\n",
      "Epoch 7/20\n",
      "856/856 [==============================] - 5s 6ms/step - loss: 130.8042 - mae: 7.3935\n",
      "Epoch 8/20\n",
      "856/856 [==============================] - 5s 6ms/step - loss: 130.8219 - mae: 7.3928\n",
      "Epoch 9/20\n",
      "856/856 [==============================] - 5s 6ms/step - loss: 130.8107 - mae: 7.3880\n",
      "Epoch 10/20\n",
      "856/856 [==============================] - 5s 6ms/step - loss: 130.8246 - mae: 7.3945\n",
      "Epoch 11/20\n",
      "856/856 [==============================] - 5s 6ms/step - loss: 130.8243 - mae: 7.3962\n",
      "Epoch 12/20\n",
      "856/856 [==============================] - 5s 6ms/step - loss: 130.8419 - mae: 7.3948\n",
      "Epoch 13/20\n",
      "856/856 [==============================] - 5s 6ms/step - loss: 130.8221 - mae: 7.3935\n",
      "Epoch 14/20\n",
      "856/856 [==============================] - 5s 6ms/step - loss: 130.8323 - mae: 7.3949\n",
      "Epoch 15/20\n",
      "856/856 [==============================] - 5s 6ms/step - loss: 130.8219 - mae: 7.3911\n",
      "Epoch 16/20\n",
      "856/856 [==============================] - 5s 6ms/step - loss: 130.8321 - mae: 7.3983\n",
      "Epoch 17/20\n",
      "856/856 [==============================] - 5s 6ms/step - loss: 130.8225 - mae: 7.3861\n",
      "Epoch 18/20\n",
      "856/856 [==============================] - 5s 6ms/step - loss: 130.8327 - mae: 7.3999\n",
      "Epoch 19/20\n",
      "856/856 [==============================] - 5s 6ms/step - loss: 130.8315 - mae: 7.3910\n",
      "Epoch 20/20\n",
      "856/856 [==============================] - 5s 6ms/step - loss: 130.8245 - mae: 7.3973\n",
      "(6831, 2484)\n",
      "11.986142563226826 7.599504644220502 0.2555280354274007 0.7983098680852659\n"
     ]
    }
   ],
   "source": [
    "time_len = data_0.shape[0]\n",
    "node_num = data_0.shape[1]\n",
    "\n",
    "trainX, trainY, testX, testY = preprocess_data(data_0, time_len, train_rate, seq_len, pre_len)\n",
    "trainY = trainY.reshape([-1, pre_len * node_num])\n",
    "testY = testY.reshape([-1, pre_len * node_num])\n",
    "print(trainX.shape, trainY.shape, testX.shape, testY.shape)\n",
    "\n",
    "model = generate_model(seq_len, node_num, pre_len)\n",
    "train_model(model, (trainX,trainY,testX,testY), realY)"
   ]
  },
  {
   "cell_type": "markdown",
   "id": "704060d5",
   "metadata": {},
   "source": [
    "### Unobserved nodes = 5%"
   ]
  },
  {
   "cell_type": "code",
   "execution_count": 31,
   "id": "9d2578f6",
   "metadata": {},
   "outputs": [
    {
     "name": "stdout",
     "output_type": "stream",
     "text": [
      "(27392, 12, 207) (27392, 2484) (6831, 12, 207) (6831, 2484)\n",
      "(27392, 12, 207) (27392, 2484) (6831, 12, 207) (6831, 2484) (6831, 2484)\n",
      "Epoch 1/20\n",
      "856/856 [==============================] - 7s 6ms/step - loss: 1437.8763 - mae: 33.9095\n",
      "Epoch 2/20\n",
      "856/856 [==============================] - 5s 6ms/step - loss: 194.7819 - mae: 11.6581\n",
      "Epoch 3/20\n",
      "856/856 [==============================] - 5s 6ms/step - loss: 124.2644 - mae: 7.2593\n",
      "Epoch 4/20\n",
      "856/856 [==============================] - 5s 6ms/step - loss: 123.5869 - mae: 6.9774\n",
      "Epoch 5/20\n",
      "856/856 [==============================] - 5s 6ms/step - loss: 123.5898 - mae: 6.9855\n",
      "Epoch 6/20\n",
      "856/856 [==============================] - 5s 6ms/step - loss: 123.5922 - mae: 6.9851\n",
      "Epoch 7/20\n",
      "856/856 [==============================] - 5s 6ms/step - loss: 123.6111 - mae: 6.9741\n",
      "Epoch 8/20\n",
      "856/856 [==============================] - 5s 6ms/step - loss: 123.6158 - mae: 6.9852\n",
      "Epoch 9/20\n",
      "856/856 [==============================] - 5s 6ms/step - loss: 123.6263 - mae: 6.9808\n",
      "Epoch 10/20\n",
      "856/856 [==============================] - 5s 6ms/step - loss: 123.6318 - mae: 6.9823\n",
      "Epoch 11/20\n",
      "856/856 [==============================] - 5s 6ms/step - loss: 123.6251 - mae: 6.9862\n",
      "Epoch 12/20\n",
      "856/856 [==============================] - 5s 6ms/step - loss: 123.6254 - mae: 6.9808\n",
      "Epoch 13/20\n",
      "856/856 [==============================] - 5s 5ms/step - loss: 123.6247 - mae: 6.9791\n",
      "Epoch 14/20\n",
      "856/856 [==============================] - 4s 4ms/step - loss: 123.6277 - mae: 6.9804\n",
      "Epoch 15/20\n",
      "856/856 [==============================] - 3s 3ms/step - loss: 123.6337 - mae: 6.9823\n",
      "Epoch 16/20\n",
      "856/856 [==============================] - 3s 3ms/step - loss: 123.6101 - mae: 6.9853\n",
      "Epoch 17/20\n",
      "856/856 [==============================] - 3s 3ms/step - loss: 123.6276 - mae: 6.9802\n",
      "Epoch 18/20\n",
      "856/856 [==============================] - 3s 3ms/step - loss: 123.6389 - mae: 6.9806\n",
      "Epoch 19/20\n",
      "856/856 [==============================] - 3s 3ms/step - loss: 123.6234 - mae: 6.9868\n",
      "Epoch 20/20\n",
      "856/856 [==============================] - 3s 3ms/step - loss: 123.6337 - mae: 6.9767\n",
      "(6831, 2484)\n",
      "17.124457990327095 9.938911359186658 0.2907471376616583 0.7118477297580807\n"
     ]
    }
   ],
   "source": [
    "time_len = data_5.shape[0]\n",
    "node_num = data_5.shape[1]\n",
    "\n",
    "trainX, trainY, testX, testY = preprocess_data(data_5, time_len, train_rate, seq_len, pre_len)\n",
    "trainY = trainY.reshape([-1, pre_len * node_num])\n",
    "testY = testY.reshape([-1, pre_len * node_num])\n",
    "print(trainX.shape, trainY.shape, testX.shape, testY.shape)\n",
    "\n",
    "model = generate_model(seq_len, node_num, pre_len)\n",
    "train_model(model, (trainX,trainY,testX,testY), realY)"
   ]
  },
  {
   "cell_type": "markdown",
   "id": "5ff07f2f",
   "metadata": {},
   "source": [
    "### Unobserved nodes = 10%"
   ]
  },
  {
   "cell_type": "code",
   "execution_count": 32,
   "id": "f5560c53",
   "metadata": {},
   "outputs": [
    {
     "name": "stdout",
     "output_type": "stream",
     "text": [
      "(27392, 12, 207) (27392, 2484) (6831, 12, 207) (6831, 2484)\n",
      "(27392, 12, 207) (27392, 2484) (6831, 12, 207) (6831, 2484) (6831, 2484)\n",
      "Epoch 1/20\n",
      "856/856 [==============================] - 7s 6ms/step - loss: 1362.0382 - mae: 32.1466\n",
      "Epoch 2/20\n",
      "856/856 [==============================] - 5s 6ms/step - loss: 185.2062 - mae: 11.0819\n",
      "Epoch 3/20\n",
      "856/856 [==============================] - 5s 6ms/step - loss: 118.1999 - mae: 6.9047\n",
      "Epoch 4/20\n",
      "856/856 [==============================] - 5s 6ms/step - loss: 117.5472 - mae: 6.6468\n",
      "Epoch 5/20\n",
      "856/856 [==============================] - 5s 6ms/step - loss: 117.5530 - mae: 6.6406\n",
      "Epoch 6/20\n",
      "856/856 [==============================] - 5s 6ms/step - loss: 117.5615 - mae: 6.6392\n",
      "Epoch 7/20\n",
      "856/856 [==============================] - 5s 6ms/step - loss: 117.5627 - mae: 6.6454\n",
      "Epoch 8/20\n",
      "856/856 [==============================] - 5s 6ms/step - loss: 117.5701 - mae: 6.6440\n",
      "Epoch 9/20\n",
      "856/856 [==============================] - 5s 6ms/step - loss: 117.5819 - mae: 6.6429\n",
      "Epoch 10/20\n",
      "856/856 [==============================] - 5s 6ms/step - loss: 117.5812 - mae: 6.6481\n",
      "Epoch 11/20\n",
      "856/856 [==============================] - 5s 6ms/step - loss: 117.5950 - mae: 6.6386\n",
      "Epoch 12/20\n",
      "856/856 [==============================] - 5s 6ms/step - loss: 117.5892 - mae: 6.6396\n",
      "Epoch 13/20\n",
      "856/856 [==============================] - 5s 6ms/step - loss: 117.5937 - mae: 6.6512\n",
      "Epoch 14/20\n",
      "856/856 [==============================] - 5s 6ms/step - loss: 117.5846 - mae: 6.6436\n",
      "Epoch 15/20\n",
      "856/856 [==============================] - 5s 6ms/step - loss: 117.5874 - mae: 6.6395\n",
      "Epoch 16/20\n",
      "856/856 [==============================] - 5s 6ms/step - loss: 117.5903 - mae: 6.6456\n",
      "Epoch 17/20\n",
      "856/856 [==============================] - 5s 6ms/step - loss: 117.5850 - mae: 6.6443\n",
      "Epoch 18/20\n",
      "856/856 [==============================] - 5s 6ms/step - loss: 117.5905 - mae: 6.6412\n",
      "Epoch 19/20\n",
      "856/856 [==============================] - 5s 6ms/step - loss: 117.5865 - mae: 6.6461\n",
      "Epoch 20/20\n",
      "856/856 [==============================] - 5s 6ms/step - loss: 117.5838 - mae: 6.6439\n",
      "(6831, 2484)\n",
      "21.447375467429055 12.357021893201347 0.32087038306131416 0.6391062458642907\n"
     ]
    }
   ],
   "source": [
    "time_len = data_10.shape[0]\n",
    "node_num = data_10.shape[1]\n",
    "\n",
    "trainX, trainY, testX, testY = preprocess_data(data_10, time_len, train_rate, seq_len, pre_len)\n",
    "trainY = trainY.reshape([-1, pre_len * node_num])\n",
    "testY = testY.reshape([-1, pre_len * node_num])\n",
    "print(trainX.shape, trainY.shape, testX.shape, testY.shape)\n",
    "\n",
    "model = generate_model(seq_len, node_num, pre_len)\n",
    "train_model(model, (trainX,trainY,testX,testY), realY)"
   ]
  },
  {
   "cell_type": "markdown",
   "id": "fdf46a24",
   "metadata": {},
   "source": [
    "### Unobserved nodes = 20%"
   ]
  },
  {
   "cell_type": "code",
   "execution_count": 33,
   "id": "b4202cfd",
   "metadata": {},
   "outputs": [
    {
     "name": "stdout",
     "output_type": "stream",
     "text": [
      "(27392, 12, 207) (27392, 2484) (6831, 12, 207) (6831, 2484)\n",
      "(27392, 12, 207) (27392, 2484) (6831, 12, 207) (6831, 2484) (6831, 2484)\n",
      "Epoch 1/20\n",
      "856/856 [==============================] - 7s 6ms/step - loss: 1184.5098 - mae: 28.1892\n",
      "Epoch 2/20\n",
      "856/856 [==============================] - 5s 6ms/step - loss: 159.1259 - mae: 9.6632\n",
      "Epoch 3/20\n",
      "856/856 [==============================] - 5s 6ms/step - loss: 102.9046 - mae: 6.1203\n",
      "Epoch 4/20\n",
      "856/856 [==============================] - 5s 6ms/step - loss: 102.4040 - mae: 5.9156\n",
      "Epoch 5/20\n",
      "856/856 [==============================] - 5s 6ms/step - loss: 102.4081 - mae: 5.9130\n",
      "Epoch 6/20\n",
      "856/856 [==============================] - 4s 4ms/step - loss: 102.4146 - mae: 5.9056\n",
      "Epoch 7/20\n",
      "856/856 [==============================] - 3s 3ms/step - loss: 102.4211 - mae: 5.9193\n",
      "Epoch 8/20\n",
      "856/856 [==============================] - 3s 3ms/step - loss: 102.4292 - mae: 5.9117\n",
      "Epoch 9/20\n",
      "856/856 [==============================] - 3s 3ms/step - loss: 102.4340 - mae: 5.9121\n",
      "Epoch 10/20\n",
      "856/856 [==============================] - 3s 3ms/step - loss: 102.4505 - mae: 5.9138\n",
      "Epoch 11/20\n",
      "856/856 [==============================] - 3s 3ms/step - loss: 102.4381 - mae: 5.9117\n",
      "Epoch 12/20\n",
      "856/856 [==============================] - 3s 3ms/step - loss: 102.4369 - mae: 5.9151\n",
      "Epoch 13/20\n",
      "856/856 [==============================] - 3s 4ms/step - loss: 102.4468 - mae: 5.9117\n",
      "Epoch 14/20\n",
      "856/856 [==============================] - 4s 5ms/step - loss: 102.4416 - mae: 5.9163\n",
      "Epoch 15/20\n",
      "856/856 [==============================] - 5s 6ms/step - loss: 102.4404 - mae: 5.9091\n",
      "Epoch 16/20\n",
      "856/856 [==============================] - 5s 6ms/step - loss: 102.4488 - mae: 5.9168\n",
      "Epoch 17/20\n",
      "856/856 [==============================] - 5s 6ms/step - loss: 102.4322 - mae: 5.9129A: 0s - loss: 102.\n",
      "Epoch 18/20\n",
      "856/856 [==============================] - 5s 6ms/step - loss: 102.4424 - mae: 5.9109\n",
      "Epoch 19/20\n",
      "856/856 [==============================] - 5s 6ms/step - loss: 102.4420 - mae: 5.9162\n",
      "Epoch 20/20\n",
      "856/856 [==============================] - 5s 6ms/step - loss: 102.4315 - mae: 5.9107\n",
      "(6831, 2484)\n",
      "28.954848750173326 17.792433114163195 0.3983337319090879 0.5127784244860638\n"
     ]
    }
   ],
   "source": [
    "time_len = data_20.shape[0]\n",
    "node_num = data_20.shape[1]\n",
    "\n",
    "trainX, trainY, testX, testY = preprocess_data(data_20, time_len, train_rate, seq_len, pre_len)\n",
    "trainY = trainY.reshape([-1, pre_len * node_num])\n",
    "testY = testY.reshape([-1, pre_len * node_num])\n",
    "print(trainX.shape, trainY.shape, testX.shape, testY.shape)\n",
    "\n",
    "model = generate_model(seq_len, node_num, pre_len)\n",
    "train_model(model, (trainX,trainY,testX,testY), realY)"
   ]
  },
  {
   "cell_type": "code",
   "execution_count": null,
   "id": "36198880",
   "metadata": {},
   "outputs": [],
   "source": []
  }
 ],
 "metadata": {
  "kernelspec": {
   "display_name": "test",
   "language": "python",
   "name": "test"
  },
  "language_info": {
   "codemirror_mode": {
    "name": "ipython",
    "version": 3
   },
   "file_extension": ".py",
   "mimetype": "text/x-python",
   "name": "python",
   "nbconvert_exporter": "python",
   "pygments_lexer": "ipython3",
   "version": "3.8.12"
  }
 },
 "nbformat": 4,
 "nbformat_minor": 5
}
