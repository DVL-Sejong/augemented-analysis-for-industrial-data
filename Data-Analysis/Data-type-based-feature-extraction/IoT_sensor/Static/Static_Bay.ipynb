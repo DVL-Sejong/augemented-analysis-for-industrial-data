{
 "cells": [
  {
   "cell_type": "code",
   "execution_count": 1,
   "id": "c5fe9355",
   "metadata": {},
   "outputs": [],
   "source": [
    "import pandas as pd\n",
    "import numpy as np"
   ]
  },
  {
   "cell_type": "code",
   "execution_count": 2,
   "id": "2c248278",
   "metadata": {},
   "outputs": [],
   "source": [
    "def masked_rmse_np(preds, labels, null_val=np.nan):\n",
    "    return np.sqrt(masked_mse_np(preds=preds, labels=labels, null_val=null_val))\n",
    "\n",
    "def masked_mse_np(preds, labels, null_val=np.nan):\n",
    "    with np.errstate(divide='ignore', invalid='ignore'):\n",
    "        if np.isnan(null_val):\n",
    "            mask = ~np.isnan(labels)\n",
    "        else:\n",
    "            mask = np.not_equal(labels, null_val)\n",
    "        mask = mask.astype('float32')\n",
    "        mask /= np.mean(mask)\n",
    "        rmse = np.square(np.subtract(preds, labels)).astype('float32')\n",
    "        rmse = np.nan_to_num(rmse * mask)\n",
    "        return np.mean(rmse)\n",
    "\n",
    "def masked_mae_np(preds, labels, null_val=np.nan):\n",
    "    with np.errstate(divide='ignore', invalid='ignore'):\n",
    "        if np.isnan(null_val):\n",
    "            mask = ~np.isnan(labels)\n",
    "        else:\n",
    "            mask = np.not_equal(labels, null_val)\n",
    "        mask = mask.astype('float32')\n",
    "        mask /= np.mean(mask)\n",
    "        mae = np.abs(np.subtract(preds, labels)).astype('float32')\n",
    "        mae = np.nan_to_num(mae * mask)\n",
    "        return np.mean(mae)\n",
    "\n",
    "def masked_mape_np(preds, labels, null_val=np.nan):\n",
    "    with np.errstate(divide='ignore', invalid='ignore'):\n",
    "        if np.isnan(null_val):\n",
    "            mask = ~np.isnan(labels)\n",
    "        else:\n",
    "            mask = np.not_equal(labels, null_val)\n",
    "        mask = mask.astype('float32')\n",
    "        mask /= np.mean(mask)\n",
    "        mape = np.abs(np.divide(np.subtract(preds, labels).astype('float32'), labels))\n",
    "        mape = np.nan_to_num(mask * mape)\n",
    "        return np.mean(mape)"
   ]
  },
  {
   "cell_type": "code",
   "execution_count": 3,
   "id": "c561a032",
   "metadata": {},
   "outputs": [],
   "source": [
    "def static_predict(df, n_forward, test_ratio=0.2):\n",
    "    \"\"\"\n",
    "    Assumes $x^{t+1} = x^{t}$\n",
    "    :param df:\n",
    "    :param n_forward:\n",
    "    :param test_ratio:\n",
    "    :return:\n",
    "    \"\"\"\n",
    "    test_num = int(round(df.shape[0] * test_ratio))\n",
    "    y_test = df[-test_num:]\n",
    "    y_predict = df.shift(n_forward).iloc[-test_num:]\n",
    "    return y_predict, y_test\n"
   ]
  },
  {
   "cell_type": "code",
   "execution_count": 4,
   "id": "949c3584",
   "metadata": {},
   "outputs": [],
   "source": [
    "path_0 = 'bay/speed_bay_0.csv'\n",
    "path_5 = 'bay/speed_bay_5.csv'\n",
    "path_10 = 'bay/speed_bay_10.csv'\n",
    "path_20 = 'bay/speed_bay_20.csv'"
   ]
  },
  {
   "cell_type": "code",
   "execution_count": 5,
   "id": "7e38db30",
   "metadata": {},
   "outputs": [],
   "source": [
    "org_path = 'bay/speed_bay_0.csv'"
   ]
  },
  {
   "cell_type": "code",
   "execution_count": 6,
   "id": "39417cf6",
   "metadata": {},
   "outputs": [],
   "source": [
    "org_df = pd.read_csv(org_path).drop(columns=['Unnamed: 0'])\n",
    "df_0 = pd.read_csv(path_0).drop(columns=['Unnamed: 0'])\n",
    "df_5 = pd.read_csv(path_5).drop(columns=['Unnamed: 0'])\n",
    "df_10 = pd.read_csv(path_10).drop(columns=['Unnamed: 0'])\n",
    "df_20 = pd.read_csv(path_20).drop(columns=['Unnamed: 0'])"
   ]
  },
  {
   "cell_type": "code",
   "execution_count": 7,
   "id": "1abe887a",
   "metadata": {},
   "outputs": [],
   "source": [
    "test_ratio = 0.2\n",
    "n_sample, n_output = org_df.shape\n",
    "n_test = int(round(n_sample * test_ratio))\n",
    "n_train = n_sample - n_test\n",
    "y_test = org_df[n_train:]"
   ]
  },
  {
   "cell_type": "code",
   "execution_count": 8,
   "id": "362c0206",
   "metadata": {
    "scrolled": true
   },
   "outputs": [
    {
     "name": "stdout",
     "output_type": "stream",
     "text": [
      "HA\t15 min\t1.59154\t3.38682\t3.23085\n",
      "HA\t30 min\t2.17300\t4.95251\t4.64266\n",
      "HA\t45 min\t2.63596\t6.07937\t5.80040\n",
      "HA\t60 min\t3.04716\t7.00177\t6.83315\n"
     ]
    }
   ],
   "source": [
    "n_forwards = [3, 6, 9, 12]\n",
    "\n",
    "for i, forward in enumerate(n_forwards):\n",
    "    y_predict, _ = static_predict(df_0, n_forward=forward, test_ratio=0.2)\n",
    "    rmse = masked_rmse_np(preds=y_predict.values, labels=y_test.values, null_val=0)\n",
    "    mape = masked_mape_np(preds=y_predict.values, labels=y_test.values, null_val=0)\n",
    "    mae = masked_mae_np(preds=y_predict.values, labels=y_test.values, null_val=0)\n",
    "    line = 'HA\\t%d min\\t%.5f\\t%.5f\\t%.5f' % (forward*5, mae, rmse, mape * 100)\n",
    "    print(line)"
   ]
  },
  {
   "cell_type": "code",
   "execution_count": 9,
   "id": "2d786228",
   "metadata": {},
   "outputs": [
    {
     "name": "stdout",
     "output_type": "stream",
     "text": [
      "HA\t15 min\t4.64753\t14.64935\t8.00728\n",
      "HA\t30 min\t5.20233\t15.06677\t9.35308\n",
      "HA\t45 min\t5.64420\t15.45396\t10.45685\n",
      "HA\t60 min\t6.03585\t15.81995\t11.43884\n"
     ]
    }
   ],
   "source": [
    "n_forwards = [3, 6, 9, 12]\n",
    "\n",
    "for i, forward in enumerate(n_forwards):\n",
    "    y_predict, _ = static_predict(df_5, n_forward=forward, test_ratio=0.2)\n",
    "    rmse = masked_rmse_np(preds=y_predict.values, labels=y_test.values, null_val=0)\n",
    "    mape = masked_mape_np(preds=y_predict.values, labels=y_test.values, null_val=0)\n",
    "    mae = masked_mae_np(preds=y_predict.values, labels=y_test.values, null_val=0)\n",
    "    line = 'HA\\t%d min\\t%.5f\\t%.5f\\t%.5f' % (forward*5, mae, rmse, mape * 100)\n",
    "    print(line)"
   ]
  },
  {
   "cell_type": "code",
   "execution_count": 10,
   "id": "e937cf52",
   "metadata": {},
   "outputs": [
    {
     "name": "stdout",
     "output_type": "stream",
     "text": [
      "HA\t15 min\t7.54843\t20.03372\t12.72533\n",
      "HA\t30 min\t8.06659\t20.32022\t13.97899\n",
      "HA\t45 min\t8.48074\t20.59047\t15.00941\n",
      "HA\t60 min\t8.84890\t20.84984\t15.92812\n"
     ]
    }
   ],
   "source": [
    "n_forwards = [3, 6, 9, 12]\n",
    "\n",
    "for i, forward in enumerate(n_forwards):\n",
    "    y_predict, _ = static_predict(df_10, n_forward=forward, test_ratio=0.2)\n",
    "    rmse = masked_rmse_np(preds=y_predict.values, labels=y_test.values, null_val=0)\n",
    "    mape = masked_mape_np(preds=y_predict.values, labels=y_test.values, null_val=0)\n",
    "    mae = masked_mae_np(preds=y_predict.values, labels=y_test.values, null_val=0)\n",
    "    line = 'HA\\t%d min\\t%.5f\\t%.5f\\t%.5f' % (forward*5, mae, rmse, mape * 100)\n",
    "    print(line)"
   ]
  },
  {
   "cell_type": "code",
   "execution_count": 11,
   "id": "afe163db",
   "metadata": {},
   "outputs": [
    {
     "name": "stdout",
     "output_type": "stream",
     "text": [
      "HA\t15 min\t13.87815\t28.58653\t22.64576\n",
      "HA\t30 min\t14.35514\t28.77482\t23.81063\n",
      "HA\t45 min\t14.73492\t28.95298\t24.76641\n",
      "HA\t60 min\t15.07346\t29.12509\t25.62024\n"
     ]
    }
   ],
   "source": [
    "n_forwards = [3, 6, 9, 12]\n",
    "\n",
    "for i, forward in enumerate(n_forwards):\n",
    "    y_predict, _ = static_predict(df_20, n_forward=forward, test_ratio=0.2)\n",
    "    rmse = masked_rmse_np(preds=y_predict.values, labels=y_test.values, null_val=0)\n",
    "    mape = masked_mape_np(preds=y_predict.values, labels=y_test.values, null_val=0)\n",
    "    mae = masked_mae_np(preds=y_predict.values, labels=y_test.values, null_val=0)\n",
    "    line = 'HA\\t%d min\\t%.5f\\t%.5f\\t%.5f' % (forward*5, mae, rmse, mape * 100)\n",
    "    print(line)"
   ]
  },
  {
   "cell_type": "code",
   "execution_count": null,
   "id": "678275fe",
   "metadata": {},
   "outputs": [],
   "source": []
  }
 ],
 "metadata": {
  "kernelspec": {
   "display_name": "torchgpu",
   "language": "python",
   "name": "torchgpu"
  },
  "language_info": {
   "codemirror_mode": {
    "name": "ipython",
    "version": 3
   },
   "file_extension": ".py",
   "mimetype": "text/x-python",
   "name": "python",
   "nbconvert_exporter": "python",
   "pygments_lexer": "ipython3",
   "version": "3.8.16"
  }
 },
 "nbformat": 4,
 "nbformat_minor": 5
}
