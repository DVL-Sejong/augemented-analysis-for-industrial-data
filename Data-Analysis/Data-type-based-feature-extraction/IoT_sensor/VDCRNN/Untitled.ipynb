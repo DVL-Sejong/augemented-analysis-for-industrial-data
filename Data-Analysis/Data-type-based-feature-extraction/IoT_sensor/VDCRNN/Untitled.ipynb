{
 "cells": [
  {
   "cell_type": "markdown",
   "id": "a0d7ac9d",
   "metadata": {},
   "source": [
    "### Step 1. Import Package"
   ]
  },
  {
   "cell_type": "code",
   "execution_count": 1,
   "id": "c8feb317",
   "metadata": {},
   "outputs": [],
   "source": [
    "import os\n",
    "import pickle\n",
    "\n",
    "import pandas as pd\n",
    "import numpy as np\n",
    "import matplotlib.pyplot as plt\n",
    "\n",
    "import torch\n",
    "import torch.nn as nn"
   ]
  },
  {
   "cell_type": "markdown",
   "id": "05bc25b6",
   "metadata": {},
   "source": [
    "### Step 2. Load Data"
   ]
  },
  {
   "cell_type": "code",
   "execution_count": null,
   "id": "02d993cb",
   "metadata": {},
   "outputs": [],
   "source": [
    "traffic_path = \n",
    "adj_path = \n",
    "\n",
    "df = pd.read_csv(traffic_path)\n",
    "\n",
    "with open('adj_mx.pkl', 'r') as file:\n",
    "    adj = pickle.load(file, encoding='CP949')\n",
    "    \n",
    "adj = adj[adj_idx]\n",
    "sensors = adj[sensor_idx]"
   ]
  },
  {
   "cell_type": "markdown",
   "id": "dc08186c",
   "metadata": {},
   "source": [
    "### Step 3. Reduce Graph"
   ]
  },
  {
   "cell_type": "code",
   "execution_count": null,
   "id": "c13b621f",
   "metadata": {},
   "outputs": [],
   "source": []
  },
  {
   "cell_type": "markdown",
   "id": "814c0b7a",
   "metadata": {},
   "source": [
    "### Step 4. Make Unobserved Data\n",
    "##### Step 4, 5는 변경될 수 있음"
   ]
  },
  {
   "cell_type": "code",
   "execution_count": null,
   "id": "b00f312c",
   "metadata": {},
   "outputs": [],
   "source": []
  },
  {
   "cell_type": "markdown",
   "id": "27ee968f",
   "metadata": {},
   "source": [
    "### Step 5. Make Virtual Netwrk\n",
    "##### Step 4, 5는 변경될 수 있음"
   ]
  },
  {
   "cell_type": "code",
   "execution_count": null,
   "id": "4dfb544d",
   "metadata": {},
   "outputs": [],
   "source": []
  },
  {
   "cell_type": "markdown",
   "id": "c87a8570",
   "metadata": {},
   "source": [
    "### Step 6. Store Data"
   ]
  },
  {
   "cell_type": "code",
   "execution_count": null,
   "id": "6be4b1b5",
   "metadata": {},
   "outputs": [],
   "source": [
    "df0 = pd.to_csv('traffic_0_feature.csv')\n",
    "df5 = pd.to_csv('traffic_5_feature.csv')\n",
    "df10 = pd.to_csv('traffic_10_feature.csv')\n",
    "df20 = pd.to_csv('traffic_20_feature.csv')\n",
    "\n",
    "adj0 = pd.to_csv('traffic_0_adj.csv')\n",
    "adj5 = pd.to_csv('traffic_5_adj.csv')\n",
    "adj10 = pd.to_csv('traffic_10_adj.csv')\n",
    "adj20 = pd.to_csv('traffic_20_adj.csv')"
   ]
  },
  {
   "cell_type": "markdown",
   "id": "9e48ff21",
   "metadata": {},
   "source": [
    "### Step 7. Load Data"
   ]
  },
  {
   "cell_type": "code",
   "execution_count": null,
   "id": "90c96ade",
   "metadata": {},
   "outputs": [],
   "source": [
    "df0 = pd.read_csv('traffic_0_feature.csv')\n",
    "df5 = pd.read_csv('traffic_5_feature.csv')\n",
    "df10 = pd.read_csv('traffic_10_feature.csv')\n",
    "df20 = pd.read_csv('traffic_20_feature.csv')\n",
    "\n",
    "adj0 = pd.read_csv('traffic_0_adj.csv')\n",
    "adj5 = pd.read_csv('traffic_5_adj.csv')\n",
    "adj10 = pd.read_csv('traffic_10_adj.csv')\n",
    "adj20 = pd.read_csv('traffic_20_adj.csv')"
   ]
  },
  {
   "cell_type": "markdown",
   "id": "25ca0979",
   "metadata": {},
   "source": [
    "### Step 8. Make Attention Network"
   ]
  },
  {
   "cell_type": "code",
   "execution_count": null,
   "id": "5723df4e",
   "metadata": {},
   "outputs": [],
   "source": []
  },
  {
   "cell_type": "markdown",
   "id": "c8a3a11a",
   "metadata": {},
   "source": [
    "### Step 9. Make DCRNN Network"
   ]
  },
  {
   "cell_type": "code",
   "execution_count": null,
   "id": "64ed8cfa",
   "metadata": {},
   "outputs": [],
   "source": []
  },
  {
   "cell_type": "markdown",
   "id": "796afc90",
   "metadata": {},
   "source": [
    "### Step 10. Combine Attention and DCRNN"
   ]
  },
  {
   "cell_type": "code",
   "execution_count": null,
   "id": "dc8d0cb5",
   "metadata": {},
   "outputs": [],
   "source": []
  },
  {
   "cell_type": "markdown",
   "id": "5e314f0d",
   "metadata": {},
   "source": [
    "### Step 11. Result (all nodes)"
   ]
  },
  {
   "cell_type": "code",
   "execution_count": null,
   "id": "c5ad6e1f",
   "metadata": {},
   "outputs": [],
   "source": []
  },
  {
   "cell_type": "markdown",
   "id": "f63b7136",
   "metadata": {},
   "source": [
    "### Step 12. Result (unobserved nodes)"
   ]
  },
  {
   "cell_type": "code",
   "execution_count": null,
   "id": "1d081d18",
   "metadata": {},
   "outputs": [],
   "source": []
  }
 ],
 "metadata": {
  "kernelspec": {
   "display_name": "torchgpu",
   "language": "python",
   "name": "torchgpu"
  },
  "language_info": {
   "codemirror_mode": {
    "name": "ipython",
    "version": 3
   },
   "file_extension": ".py",
   "mimetype": "text/x-python",
   "name": "python",
   "nbconvert_exporter": "python",
   "pygments_lexer": "ipython3",
   "version": "3.8.16"
  }
 },
 "nbformat": 4,
 "nbformat_minor": 5
}
