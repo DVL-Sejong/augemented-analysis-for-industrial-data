{
 "cells": [
  {
   "cell_type": "code",
   "execution_count": 1,
   "id": "ae969930",
   "metadata": {},
   "outputs": [],
   "source": [
    "import pandas as pd\n",
    "import numpy as np\n",
    "import plotly.express as px\n",
    "import plotly.graph_objects as go"
   ]
  },
  {
   "cell_type": "code",
   "execution_count": 3,
   "id": "9bd9fe02",
   "metadata": {},
   "outputs": [
    {
     "name": "stderr",
     "output_type": "stream",
     "text": [
      "C:\\Users\\vfgtr554\\anaconda3\\envs\\hdf\\lib\\site-packages\\IPython\\core\\interactiveshell.py:3457: DtypeWarning: Columns (2) have mixed types.Specify dtype option on import or set low_memory=False.\n",
      "  exec(code_obj, self.user_global_ns, self.user_ns)\n"
     ]
    },
    {
     "data": {
      "text/html": [
       "<div>\n",
       "<style scoped>\n",
       "    .dataframe tbody tr th:only-of-type {\n",
       "        vertical-align: middle;\n",
       "    }\n",
       "\n",
       "    .dataframe tbody tr th {\n",
       "        vertical-align: top;\n",
       "    }\n",
       "\n",
       "    .dataframe thead th {\n",
       "        text-align: right;\n",
       "    }\n",
       "</style>\n",
       "<table border=\"1\" class=\"dataframe\">\n",
       "  <thead>\n",
       "    <tr style=\"text-align: right;\">\n",
       "      <th></th>\n",
       "      <th>day</th>\n",
       "      <th>interval</th>\n",
       "      <th>detid</th>\n",
       "      <th>flow</th>\n",
       "      <th>occ</th>\n",
       "      <th>error</th>\n",
       "      <th>city</th>\n",
       "      <th>speed</th>\n",
       "    </tr>\n",
       "  </thead>\n",
       "  <tbody>\n",
       "    <tr>\n",
       "      <th>0</th>\n",
       "      <td>2017-05-06</td>\n",
       "      <td>0</td>\n",
       "      <td>06.X-2li</td>\n",
       "      <td>12.0</td>\n",
       "      <td>0.0</td>\n",
       "      <td>1.0</td>\n",
       "      <td>augsburg</td>\n",
       "      <td>NaN</td>\n",
       "    </tr>\n",
       "    <tr>\n",
       "      <th>1</th>\n",
       "      <td>2017-05-06</td>\n",
       "      <td>300</td>\n",
       "      <td>06.X-2li</td>\n",
       "      <td>12.0</td>\n",
       "      <td>0.0</td>\n",
       "      <td>1.0</td>\n",
       "      <td>augsburg</td>\n",
       "      <td>NaN</td>\n",
       "    </tr>\n",
       "    <tr>\n",
       "      <th>2</th>\n",
       "      <td>2017-05-06</td>\n",
       "      <td>600</td>\n",
       "      <td>06.X-2li</td>\n",
       "      <td>12.0</td>\n",
       "      <td>0.0</td>\n",
       "      <td>1.0</td>\n",
       "      <td>augsburg</td>\n",
       "      <td>NaN</td>\n",
       "    </tr>\n",
       "    <tr>\n",
       "      <th>3</th>\n",
       "      <td>2017-05-06</td>\n",
       "      <td>900</td>\n",
       "      <td>06.X-2li</td>\n",
       "      <td>16.0</td>\n",
       "      <td>0.0</td>\n",
       "      <td>1.0</td>\n",
       "      <td>augsburg</td>\n",
       "      <td>NaN</td>\n",
       "    </tr>\n",
       "    <tr>\n",
       "      <th>4</th>\n",
       "      <td>2017-05-06</td>\n",
       "      <td>1200</td>\n",
       "      <td>06.X-2li</td>\n",
       "      <td>16.0</td>\n",
       "      <td>0.0</td>\n",
       "      <td>1.0</td>\n",
       "      <td>augsburg</td>\n",
       "      <td>NaN</td>\n",
       "    </tr>\n",
       "  </tbody>\n",
       "</table>\n",
       "</div>"
      ],
      "text/plain": [
       "          day  interval     detid  flow  occ  error      city  speed\n",
       "0  2017-05-06         0  06.X-2li  12.0  0.0    1.0  augsburg    NaN\n",
       "1  2017-05-06       300  06.X-2li  12.0  0.0    1.0  augsburg    NaN\n",
       "2  2017-05-06       600  06.X-2li  12.0  0.0    1.0  augsburg    NaN\n",
       "3  2017-05-06       900  06.X-2li  16.0  0.0    1.0  augsburg    NaN\n",
       "4  2017-05-06      1200  06.X-2li  16.0  0.0    1.0  augsburg    NaN"
      ]
     },
     "execution_count": 3,
     "metadata": {},
     "output_type": "execute_result"
    }
   ],
   "source": [
    "df = pd.read_csv('utd19_u.csv')\n",
    "df.head()"
   ]
  },
  {
   "cell_type": "code",
   "execution_count": 12,
   "id": "4b5eb277",
   "metadata": {},
   "outputs": [],
   "source": [
    "dict(list(df.groupby('city')))['essen'].to_csv('essen.csv')"
   ]
  },
  {
   "cell_type": "code",
   "execution_count": 13,
   "id": "7cbd2076",
   "metadata": {},
   "outputs": [],
   "source": [
    "dict(list(df.groupby('city')))['rotterdam'].to_csv('rotterdam.csv')"
   ]
  },
  {
   "cell_type": "code",
   "execution_count": 14,
   "id": "be0b43f2",
   "metadata": {},
   "outputs": [],
   "source": [
    "dict(list(df.groupby('city')))['manchester'].to_csv('manchester.csv')"
   ]
  },
  {
   "cell_type": "code",
   "execution_count": 15,
   "id": "a87cf7cb",
   "metadata": {},
   "outputs": [],
   "source": [
    "dict(list(df.groupby('city')))['torino'].to_csv('torino.csv')"
   ]
  },
  {
   "cell_type": "code",
   "execution_count": 16,
   "id": "b3ebb574",
   "metadata": {},
   "outputs": [
    {
     "data": {
      "text/html": [
       "<div>\n",
       "<style scoped>\n",
       "    .dataframe tbody tr th:only-of-type {\n",
       "        vertical-align: middle;\n",
       "    }\n",
       "\n",
       "    .dataframe tbody tr th {\n",
       "        vertical-align: top;\n",
       "    }\n",
       "\n",
       "    .dataframe thead th {\n",
       "        text-align: right;\n",
       "    }\n",
       "</style>\n",
       "<table border=\"1\" class=\"dataframe\">\n",
       "  <thead>\n",
       "    <tr style=\"text-align: right;\">\n",
       "      <th></th>\n",
       "      <th>Unnamed: 0</th>\n",
       "      <th>day</th>\n",
       "      <th>interval</th>\n",
       "      <th>detid</th>\n",
       "      <th>flow</th>\n",
       "      <th>occ</th>\n",
       "      <th>error</th>\n",
       "      <th>city</th>\n",
       "      <th>speed</th>\n",
       "    </tr>\n",
       "  </thead>\n",
       "  <tbody>\n",
       "    <tr>\n",
       "      <th>0</th>\n",
       "      <td>17651245</td>\n",
       "      <td>2017-03-27</td>\n",
       "      <td>36000</td>\n",
       "      <td>esss102n</td>\n",
       "      <td>214.75</td>\n",
       "      <td>0.00625</td>\n",
       "      <td>1.0</td>\n",
       "      <td>essen</td>\n",
       "      <td>25.662790</td>\n",
       "    </tr>\n",
       "    <tr>\n",
       "      <th>1</th>\n",
       "      <td>17651246</td>\n",
       "      <td>2017-03-27</td>\n",
       "      <td>36300</td>\n",
       "      <td>esss102n</td>\n",
       "      <td>455.00</td>\n",
       "      <td>0.01500</td>\n",
       "      <td>0.0</td>\n",
       "      <td>essen</td>\n",
       "      <td>52.758244</td>\n",
       "    </tr>\n",
       "    <tr>\n",
       "      <th>2</th>\n",
       "      <td>17651247</td>\n",
       "      <td>2017-03-27</td>\n",
       "      <td>36600</td>\n",
       "      <td>esss102n</td>\n",
       "      <td>410.00</td>\n",
       "      <td>0.01500</td>\n",
       "      <td>0.0</td>\n",
       "      <td>essen</td>\n",
       "      <td>52.219513</td>\n",
       "    </tr>\n",
       "    <tr>\n",
       "      <th>3</th>\n",
       "      <td>17651248</td>\n",
       "      <td>2017-03-27</td>\n",
       "      <td>36900</td>\n",
       "      <td>esss102n</td>\n",
       "      <td>415.00</td>\n",
       "      <td>0.01500</td>\n",
       "      <td>0.0</td>\n",
       "      <td>essen</td>\n",
       "      <td>50.120483</td>\n",
       "    </tr>\n",
       "    <tr>\n",
       "      <th>4</th>\n",
       "      <td>17651249</td>\n",
       "      <td>2017-03-27</td>\n",
       "      <td>37200</td>\n",
       "      <td>esss102n</td>\n",
       "      <td>380.00</td>\n",
       "      <td>0.01500</td>\n",
       "      <td>0.0</td>\n",
       "      <td>essen</td>\n",
       "      <td>50.684210</td>\n",
       "    </tr>\n",
       "    <tr>\n",
       "      <th>...</th>\n",
       "      <td>...</td>\n",
       "      <td>...</td>\n",
       "      <td>...</td>\n",
       "      <td>...</td>\n",
       "      <td>...</td>\n",
       "      <td>...</td>\n",
       "      <td>...</td>\n",
       "      <td>...</td>\n",
       "      <td>...</td>\n",
       "    </tr>\n",
       "    <tr>\n",
       "      <th>291888</th>\n",
       "      <td>17943133</td>\n",
       "      <td>2017-09-30</td>\n",
       "      <td>84600</td>\n",
       "      <td>esss052s</td>\n",
       "      <td>105.00</td>\n",
       "      <td>0.00000</td>\n",
       "      <td>0.0</td>\n",
       "      <td>essen</td>\n",
       "      <td>64.952380</td>\n",
       "    </tr>\n",
       "    <tr>\n",
       "      <th>291889</th>\n",
       "      <td>17943134</td>\n",
       "      <td>2017-09-30</td>\n",
       "      <td>84900</td>\n",
       "      <td>esss052s</td>\n",
       "      <td>110.00</td>\n",
       "      <td>0.00000</td>\n",
       "      <td>0.0</td>\n",
       "      <td>essen</td>\n",
       "      <td>63.772728</td>\n",
       "    </tr>\n",
       "    <tr>\n",
       "      <th>291890</th>\n",
       "      <td>17943135</td>\n",
       "      <td>2017-09-30</td>\n",
       "      <td>85200</td>\n",
       "      <td>esss052s</td>\n",
       "      <td>150.00</td>\n",
       "      <td>0.00250</td>\n",
       "      <td>0.0</td>\n",
       "      <td>essen</td>\n",
       "      <td>60.333332</td>\n",
       "    </tr>\n",
       "    <tr>\n",
       "      <th>291891</th>\n",
       "      <td>17943136</td>\n",
       "      <td>2017-09-30</td>\n",
       "      <td>85500</td>\n",
       "      <td>esss052s</td>\n",
       "      <td>130.00</td>\n",
       "      <td>0.00250</td>\n",
       "      <td>0.0</td>\n",
       "      <td>essen</td>\n",
       "      <td>58.730770</td>\n",
       "    </tr>\n",
       "    <tr>\n",
       "      <th>291892</th>\n",
       "      <td>17943137</td>\n",
       "      <td>2017-09-30</td>\n",
       "      <td>85800</td>\n",
       "      <td>esss052s</td>\n",
       "      <td>115.00</td>\n",
       "      <td>0.00250</td>\n",
       "      <td>0.0</td>\n",
       "      <td>essen</td>\n",
       "      <td>63.826088</td>\n",
       "    </tr>\n",
       "  </tbody>\n",
       "</table>\n",
       "<p>291893 rows × 9 columns</p>\n",
       "</div>"
      ],
      "text/plain": [
       "        Unnamed: 0         day  interval     detid    flow      occ  error  \\\n",
       "0         17651245  2017-03-27     36000  esss102n  214.75  0.00625    1.0   \n",
       "1         17651246  2017-03-27     36300  esss102n  455.00  0.01500    0.0   \n",
       "2         17651247  2017-03-27     36600  esss102n  410.00  0.01500    0.0   \n",
       "3         17651248  2017-03-27     36900  esss102n  415.00  0.01500    0.0   \n",
       "4         17651249  2017-03-27     37200  esss102n  380.00  0.01500    0.0   \n",
       "...            ...         ...       ...       ...     ...      ...    ...   \n",
       "291888    17943133  2017-09-30     84600  esss052s  105.00  0.00000    0.0   \n",
       "291889    17943134  2017-09-30     84900  esss052s  110.00  0.00000    0.0   \n",
       "291890    17943135  2017-09-30     85200  esss052s  150.00  0.00250    0.0   \n",
       "291891    17943136  2017-09-30     85500  esss052s  130.00  0.00250    0.0   \n",
       "291892    17943137  2017-09-30     85800  esss052s  115.00  0.00250    0.0   \n",
       "\n",
       "         city      speed  \n",
       "0       essen  25.662790  \n",
       "1       essen  52.758244  \n",
       "2       essen  52.219513  \n",
       "3       essen  50.120483  \n",
       "4       essen  50.684210  \n",
       "...       ...        ...  \n",
       "291888  essen  64.952380  \n",
       "291889  essen  63.772728  \n",
       "291890  essen  60.333332  \n",
       "291891  essen  58.730770  \n",
       "291892  essen  63.826088  \n",
       "\n",
       "[291893 rows x 9 columns]"
      ]
     },
     "execution_count": 16,
     "metadata": {},
     "output_type": "execute_result"
    }
   ],
   "source": [
    "df = pd.read_csv('essen.csv')\n",
    "df"
   ]
  },
  {
   "cell_type": "code",
   "execution_count": 20,
   "id": "5fca671f",
   "metadata": {
    "scrolled": true
   },
   "outputs": [
    {
     "data": {
      "text/html": [
       "<div>\n",
       "<style scoped>\n",
       "    .dataframe tbody tr th:only-of-type {\n",
       "        vertical-align: middle;\n",
       "    }\n",
       "\n",
       "    .dataframe tbody tr th {\n",
       "        vertical-align: top;\n",
       "    }\n",
       "\n",
       "    .dataframe thead th {\n",
       "        text-align: right;\n",
       "    }\n",
       "</style>\n",
       "<table border=\"1\" class=\"dataframe\">\n",
       "  <thead>\n",
       "    <tr style=\"text-align: right;\">\n",
       "      <th></th>\n",
       "      <th>detid</th>\n",
       "      <th>length</th>\n",
       "      <th>pos</th>\n",
       "      <th>fclass</th>\n",
       "      <th>road</th>\n",
       "      <th>limit</th>\n",
       "      <th>citycode</th>\n",
       "      <th>lanes</th>\n",
       "      <th>linkid</th>\n",
       "      <th>long</th>\n",
       "      <th>lat</th>\n",
       "    </tr>\n",
       "  </thead>\n",
       "  <tbody>\n",
       "    <tr>\n",
       "      <th>3403</th>\n",
       "      <td>esss102n</td>\n",
       "      <td>0.510107252472063</td>\n",
       "      <td>0.488893175446213</td>\n",
       "      <td>primary</td>\n",
       "      <td>HerzogstraÃ?e</td>\n",
       "      <td>50</td>\n",
       "      <td>essen</td>\n",
       "      <td>1</td>\n",
       "      <td>28</td>\n",
       "      <td>7.0280099</td>\n",
       "      <td>51.4635947</td>\n",
       "    </tr>\n",
       "    <tr>\n",
       "      <th>3404</th>\n",
       "      <td>esss102s</td>\n",
       "      <td>0.353923289079167</td>\n",
       "      <td>0.339990028920585</td>\n",
       "      <td>primary</td>\n",
       "      <td>Burggrafenstra??e</td>\n",
       "      <td>50</td>\n",
       "      <td>essen</td>\n",
       "      <td>1</td>\n",
       "      <td>29</td>\n",
       "      <td>7.0282593</td>\n",
       "      <td>51.4631502</td>\n",
       "    </tr>\n",
       "    <tr>\n",
       "      <th>3405</th>\n",
       "      <td>esss037n</td>\n",
       "      <td>0.392348392754351</td>\n",
       "      <td>0.378357280671117</td>\n",
       "      <td>secondary</td>\n",
       "      <td>UnsuhrstraÃ?e</td>\n",
       "      <td>50</td>\n",
       "      <td>essen</td>\n",
       "      <td>1</td>\n",
       "      <td>26</td>\n",
       "      <td>7.0170692</td>\n",
       "      <td>51.4716852</td>\n",
       "    </tr>\n",
       "    <tr>\n",
       "      <th>3406</th>\n",
       "      <td>esss037s</td>\n",
       "      <td>0.145155071873586</td>\n",
       "      <td>0.126750133599844</td>\n",
       "      <td>secondary</td>\n",
       "      <td>KarolingerstraÃ?e</td>\n",
       "      <td>50</td>\n",
       "      <td>essen</td>\n",
       "      <td>1</td>\n",
       "      <td>25</td>\n",
       "      <td>7.0174152</td>\n",
       "      <td>51.4711172</td>\n",
       "    </tr>\n",
       "    <tr>\n",
       "      <th>3407</th>\n",
       "      <td>esss093n</td>\n",
       "      <td>0.32739391953105</td>\n",
       "      <td>0.234281399055499</td>\n",
       "      <td>primary</td>\n",
       "      <td>Gladbecker StraÃ?e</td>\n",
       "      <td>50</td>\n",
       "      <td>essen</td>\n",
       "      <td>1</td>\n",
       "      <td>7</td>\n",
       "      <td>7.0088053</td>\n",
       "      <td>51.4660294</td>\n",
       "    </tr>\n",
       "    <tr>\n",
       "      <th>3408</th>\n",
       "      <td>esss093s</td>\n",
       "      <td>0.32024626466978</td>\n",
       "      <td>0.077262116010402</td>\n",
       "      <td>primary</td>\n",
       "      <td>Gladbecker StraÃ?e</td>\n",
       "      <td>50</td>\n",
       "      <td>essen</td>\n",
       "      <td>1</td>\n",
       "      <td>6</td>\n",
       "      <td>7.0086658</td>\n",
       "      <td>51.4659976</td>\n",
       "    </tr>\n",
       "    <tr>\n",
       "      <th>3409</th>\n",
       "      <td>esss053n</td>\n",
       "      <td>0.704850874802381</td>\n",
       "      <td>0.415177609383656</td>\n",
       "      <td>primary</td>\n",
       "      <td>Gladbecker StraÃ?e</td>\n",
       "      <td>50</td>\n",
       "      <td>essen</td>\n",
       "      <td>1</td>\n",
       "      <td>24</td>\n",
       "      <td>7.0069331</td>\n",
       "      <td>51.4723736</td>\n",
       "    </tr>\n",
       "    <tr>\n",
       "      <th>3410</th>\n",
       "      <td>esss053s</td>\n",
       "      <td>0.348624032096518</td>\n",
       "      <td>0.281231993659004</td>\n",
       "      <td>primary</td>\n",
       "      <td>Gladbecker StraÃ?e</td>\n",
       "      <td>50</td>\n",
       "      <td>essen</td>\n",
       "      <td>1</td>\n",
       "      <td>27</td>\n",
       "      <td>7.0040283</td>\n",
       "      <td>51.4784612</td>\n",
       "    </tr>\n",
       "    <tr>\n",
       "      <th>3411</th>\n",
       "      <td>esss092n</td>\n",
       "      <td>0.300742179791684</td>\n",
       "      <td>0.224175679910793</td>\n",
       "      <td>secondary</td>\n",
       "      <td>SegerothstraÃ?e</td>\n",
       "      <td>50</td>\n",
       "      <td>essen</td>\n",
       "      <td>1</td>\n",
       "      <td>4</td>\n",
       "      <td>7.0028508</td>\n",
       "      <td>51.4630282</td>\n",
       "    </tr>\n",
       "    <tr>\n",
       "      <th>3412</th>\n",
       "      <td>esss092s</td>\n",
       "      <td>0.313745557563303</td>\n",
       "      <td>0.26521624161373</td>\n",
       "      <td>secondary</td>\n",
       "      <td>SegerothstraÃ?e</td>\n",
       "      <td>50</td>\n",
       "      <td>essen</td>\n",
       "      <td>1</td>\n",
       "      <td>5</td>\n",
       "      <td>7.0032987</td>\n",
       "      <td>51.4620456</td>\n",
       "    </tr>\n",
       "    <tr>\n",
       "      <th>3413</th>\n",
       "      <td>esss094s</td>\n",
       "      <td>0.604309045327114</td>\n",
       "      <td>0.366717805785441</td>\n",
       "      <td>primary</td>\n",
       "      <td>Hans-Böckler-StraÃ?e</td>\n",
       "      <td>50</td>\n",
       "      <td>essen</td>\n",
       "      <td>1</td>\n",
       "      <td>8</td>\n",
       "      <td>6.9968399</td>\n",
       "      <td>51.4623364</td>\n",
       "    </tr>\n",
       "    <tr>\n",
       "      <th>3414</th>\n",
       "      <td>esss094n</td>\n",
       "      <td>0.614473357282125</td>\n",
       "      <td>0.330820864155951</td>\n",
       "      <td>primary</td>\n",
       "      <td>Hans-Böckler-StraÃ?e</td>\n",
       "      <td>50</td>\n",
       "      <td>essen</td>\n",
       "      <td>1</td>\n",
       "      <td>9</td>\n",
       "      <td>6.9968668</td>\n",
       "      <td>51.461429</td>\n",
       "    </tr>\n",
       "    <tr>\n",
       "      <th>3415</th>\n",
       "      <td>esss926o</td>\n",
       "      <td>0.192397776444305</td>\n",
       "      <td>0.161605681142512</td>\n",
       "      <td>primary</td>\n",
       "      <td>Altendorfer StraÃ?e</td>\n",
       "      <td>50</td>\n",
       "      <td>essen</td>\n",
       "      <td>1</td>\n",
       "      <td>15</td>\n",
       "      <td>6.9915318</td>\n",
       "      <td>51.4592799</td>\n",
       "    </tr>\n",
       "    <tr>\n",
       "      <th>3416</th>\n",
       "      <td>esss926w</td>\n",
       "      <td>0.193303382746774</td>\n",
       "      <td>0.034445110046712</td>\n",
       "      <td>primary</td>\n",
       "      <td>Altendorfer StraÃ?e</td>\n",
       "      <td>50</td>\n",
       "      <td>essen</td>\n",
       "      <td>1</td>\n",
       "      <td>14</td>\n",
       "      <td>6.9917732</td>\n",
       "      <td>51.459452</td>\n",
       "    </tr>\n",
       "    <tr>\n",
       "      <th>3417</th>\n",
       "      <td>esss095n</td>\n",
       "      <td>0.388860218300086</td>\n",
       "      <td>0.210819312836519</td>\n",
       "      <td>primary</td>\n",
       "      <td>Hans-Böckler-StraÃ?e</td>\n",
       "      <td>50</td>\n",
       "      <td>essen</td>\n",
       "      <td>1</td>\n",
       "      <td>11</td>\n",
       "      <td>6.9976714</td>\n",
       "      <td>51.4567162</td>\n",
       "    </tr>\n",
       "    <tr>\n",
       "      <th>3418</th>\n",
       "      <td>esss095s</td>\n",
       "      <td>0.383595830948629</td>\n",
       "      <td>0.167459009837282</td>\n",
       "      <td>primary</td>\n",
       "      <td>Hans-Böckler-StraÃ?e</td>\n",
       "      <td>50</td>\n",
       "      <td>essen</td>\n",
       "      <td>1</td>\n",
       "      <td>10</td>\n",
       "      <td>6.9975829</td>\n",
       "      <td>51.4567162</td>\n",
       "    </tr>\n",
       "    <tr>\n",
       "      <th>3419</th>\n",
       "      <td>esss090n</td>\n",
       "      <td>0.462229134642388</td>\n",
       "      <td>0.284636856624246</td>\n",
       "      <td>secondary</td>\n",
       "      <td>HindenburgstraÃ?e</td>\n",
       "      <td>50</td>\n",
       "      <td>essen</td>\n",
       "      <td>1</td>\n",
       "      <td>3</td>\n",
       "      <td>7.0072362</td>\n",
       "      <td>51.4532514</td>\n",
       "    </tr>\n",
       "    <tr>\n",
       "      <th>3420</th>\n",
       "      <td>esss090s</td>\n",
       "      <td>0.442587084719399</td>\n",
       "      <td>0.150194541233045</td>\n",
       "      <td>secondary</td>\n",
       "      <td>HindenburgstraÃ?e</td>\n",
       "      <td>50</td>\n",
       "      <td>essen</td>\n",
       "      <td>1</td>\n",
       "      <td>2</td>\n",
       "      <td>7.0070913</td>\n",
       "      <td>51.453218</td>\n",
       "    </tr>\n",
       "    <tr>\n",
       "      <th>3421</th>\n",
       "      <td>esss097o</td>\n",
       "      <td>0.452031816410734</td>\n",
       "      <td>0.43762843493151</td>\n",
       "      <td>secondary</td>\n",
       "      <td>Frohnhauser StraÃ?e</td>\n",
       "      <td>50</td>\n",
       "      <td>essen</td>\n",
       "      <td>1</td>\n",
       "      <td>13</td>\n",
       "      <td>6.9915909</td>\n",
       "      <td>51.454271</td>\n",
       "    </tr>\n",
       "    <tr>\n",
       "      <th>3422</th>\n",
       "      <td>esss097w</td>\n",
       "      <td>0.452418738604049</td>\n",
       "      <td>0.206820905026112</td>\n",
       "      <td>secondary</td>\n",
       "      <td>Frohnhauser StraÃ?e</td>\n",
       "      <td>50</td>\n",
       "      <td>essen</td>\n",
       "      <td>1</td>\n",
       "      <td>12</td>\n",
       "      <td>6.9942945</td>\n",
       "      <td>51.4548125</td>\n",
       "    </tr>\n",
       "    <tr>\n",
       "      <th>3423</th>\n",
       "      <td>esss050n</td>\n",
       "      <td>0.217049967433416</td>\n",
       "      <td>0.194474926962937</td>\n",
       "      <td>secondary</td>\n",
       "      <td>HelenenstraÃ?e</td>\n",
       "      <td>50</td>\n",
       "      <td>essen</td>\n",
       "      <td>1</td>\n",
       "      <td>20</td>\n",
       "      <td>6.9821146</td>\n",
       "      <td>51.4640492</td>\n",
       "    </tr>\n",
       "    <tr>\n",
       "      <th>3424</th>\n",
       "      <td>esss050s</td>\n",
       "      <td>0.362797734398895</td>\n",
       "      <td>0.31914041765512</td>\n",
       "      <td>secondary</td>\n",
       "      <td>HelenenstraÃ?e</td>\n",
       "      <td>50</td>\n",
       "      <td>essen</td>\n",
       "      <td>1</td>\n",
       "      <td>21</td>\n",
       "      <td>6.9817981</td>\n",
       "      <td>51.4636148</td>\n",
       "    </tr>\n",
       "    <tr>\n",
       "      <th>3425</th>\n",
       "      <td>esss088s</td>\n",
       "      <td>0.395107654540115</td>\n",
       "      <td>0.25612982004692</td>\n",
       "      <td>secondary</td>\n",
       "      <td>OnckenstraÃ?e</td>\n",
       "      <td>50</td>\n",
       "      <td>essen</td>\n",
       "      <td>1</td>\n",
       "      <td>34</td>\n",
       "      <td>6.963425</td>\n",
       "      <td>51.4553524</td>\n",
       "    </tr>\n",
       "    <tr>\n",
       "      <th>3426</th>\n",
       "      <td>esss088n</td>\n",
       "      <td>0.375118037435422</td>\n",
       "      <td>0.101200674024899</td>\n",
       "      <td>secondary</td>\n",
       "      <td>OnckenstraÃ?e</td>\n",
       "      <td>50</td>\n",
       "      <td>essen</td>\n",
       "      <td>1</td>\n",
       "      <td>35</td>\n",
       "      <td>6.9636047</td>\n",
       "      <td>51.4553474</td>\n",
       "    </tr>\n",
       "    <tr>\n",
       "      <th>3427</th>\n",
       "      <td>esss051n</td>\n",
       "      <td>0.213337636429666</td>\n",
       "      <td>0.200106699207643</td>\n",
       "      <td>secondary</td>\n",
       "      <td>Martin-Luther-StraÃ?e</td>\n",
       "      <td>50</td>\n",
       "      <td>essen</td>\n",
       "      <td>1</td>\n",
       "      <td>22</td>\n",
       "      <td>6.9830856</td>\n",
       "      <td>51.4523154</td>\n",
       "    </tr>\n",
       "    <tr>\n",
       "      <th>3428</th>\n",
       "      <td>esss051s</td>\n",
       "      <td>0.239900175441511</td>\n",
       "      <td>0.211331239427387</td>\n",
       "      <td>secondary</td>\n",
       "      <td>Martin-Luther-StraÃ?e</td>\n",
       "      <td>50</td>\n",
       "      <td>essen</td>\n",
       "      <td>1</td>\n",
       "      <td>23</td>\n",
       "      <td>6.9811222</td>\n",
       "      <td>51.4534453</td>\n",
       "    </tr>\n",
       "    <tr>\n",
       "      <th>3429</th>\n",
       "      <td>esss098n</td>\n",
       "      <td>0.535959233862689</td>\n",
       "      <td>0.057468413005246</td>\n",
       "      <td>tertiary</td>\n",
       "      <td>Huyssenallee</td>\n",
       "      <td>0</td>\n",
       "      <td>essen</td>\n",
       "      <td>1</td>\n",
       "      <td>33</td>\n",
       "      <td>7.0108116</td>\n",
       "      <td>51.4476301</td>\n",
       "    </tr>\n",
       "    <tr>\n",
       "      <th>3430</th>\n",
       "      <td>esss098s</td>\n",
       "      <td>0.523662719843988</td>\n",
       "      <td>0.457385664250931</td>\n",
       "      <td>tertiary</td>\n",
       "      <td>Huyssenallee</td>\n",
       "      <td>0</td>\n",
       "      <td>essen</td>\n",
       "      <td>1</td>\n",
       "      <td>32</td>\n",
       "      <td>7.0106104</td>\n",
       "      <td>51.4476117</td>\n",
       "    </tr>\n",
       "    <tr>\n",
       "      <th>3431</th>\n",
       "      <td>esss038w</td>\n",
       "      <td>0.521194548371616</td>\n",
       "      <td>0.344559636062558</td>\n",
       "      <td>secondary</td>\n",
       "      <td>HövelstraÃ?e</td>\n",
       "      <td>30</td>\n",
       "      <td>essen</td>\n",
       "      <td>1</td>\n",
       "      <td>36</td>\n",
       "      <td>7.0062894</td>\n",
       "      <td>51.4829798</td>\n",
       "    </tr>\n",
       "    <tr>\n",
       "      <th>3432</th>\n",
       "      <td>esss038o</td>\n",
       "      <td>0.52082130406342</td>\n",
       "      <td>0.167453171198902</td>\n",
       "      <td>secondary</td>\n",
       "      <td>HövelstraÃ?e</td>\n",
       "      <td>30</td>\n",
       "      <td>essen</td>\n",
       "      <td>1</td>\n",
       "      <td>37</td>\n",
       "      <td>7.0062599</td>\n",
       "      <td>51.4829163</td>\n",
       "    </tr>\n",
       "    <tr>\n",
       "      <th>3433</th>\n",
       "      <td>esss928w</td>\n",
       "      <td>0.281916443124158</td>\n",
       "      <td>0.262801469462305</td>\n",
       "      <td>tertiary</td>\n",
       "      <td>PferdebahnstraÃ?e</td>\n",
       "      <td>50</td>\n",
       "      <td>essen</td>\n",
       "      <td>1</td>\n",
       "      <td>19</td>\n",
       "      <td>6.9866341</td>\n",
       "      <td>51.4659391</td>\n",
       "    </tr>\n",
       "    <tr>\n",
       "      <th>3434</th>\n",
       "      <td>esss928o</td>\n",
       "      <td>0.780929294383722</td>\n",
       "      <td>0.764973259620456</td>\n",
       "      <td>tertiary</td>\n",
       "      <td>PferdebahnstraÃ?e</td>\n",
       "      <td>50</td>\n",
       "      <td>essen</td>\n",
       "      <td>1</td>\n",
       "      <td>18</td>\n",
       "      <td>6.9876507</td>\n",
       "      <td>51.4657921</td>\n",
       "    </tr>\n",
       "    <tr>\n",
       "      <th>3435</th>\n",
       "      <td>esss943o</td>\n",
       "      <td>0.265588435784305</td>\n",
       "      <td>0.228554854326057</td>\n",
       "      <td>secondary</td>\n",
       "      <td>Friedrich-Ebert-StraÃ?e</td>\n",
       "      <td>50</td>\n",
       "      <td>essen</td>\n",
       "      <td>1</td>\n",
       "      <td>1</td>\n",
       "      <td>7.0076171</td>\n",
       "      <td>51.4597211</td>\n",
       "    </tr>\n",
       "    <tr>\n",
       "      <th>3436</th>\n",
       "      <td>esss943w</td>\n",
       "      <td>0.267321505333357</td>\n",
       "      <td>0.137240302976475</td>\n",
       "      <td>secondary</td>\n",
       "      <td>Friedrich-Ebert-StraÃ?e</td>\n",
       "      <td>50</td>\n",
       "      <td>essen</td>\n",
       "      <td>1</td>\n",
       "      <td>0</td>\n",
       "      <td>7.0091003</td>\n",
       "      <td>51.460453</td>\n",
       "    </tr>\n",
       "    <tr>\n",
       "      <th>3437</th>\n",
       "      <td>esss052n</td>\n",
       "      <td>0.85716543129868</td>\n",
       "      <td>0.693453251745992</td>\n",
       "      <td>primary</td>\n",
       "      <td>Bottroper StraÃ?e</td>\n",
       "      <td>50</td>\n",
       "      <td>essen</td>\n",
       "      <td>1</td>\n",
       "      <td>16</td>\n",
       "      <td>6.9991654</td>\n",
       "      <td>51.4676452</td>\n",
       "    </tr>\n",
       "    <tr>\n",
       "      <th>3438</th>\n",
       "      <td>esss052s</td>\n",
       "      <td>0.840241249064382</td>\n",
       "      <td>0.135122853439649</td>\n",
       "      <td>primary</td>\n",
       "      <td>Bottroper StraÃ?e</td>\n",
       "      <td>50</td>\n",
       "      <td>essen</td>\n",
       "      <td>1</td>\n",
       "      <td>17</td>\n",
       "      <td>6.9991037</td>\n",
       "      <td>51.4675081</td>\n",
       "    </tr>\n",
       "    <tr>\n",
       "      <th>3439</th>\n",
       "      <td>ess101w</td>\n",
       "      <td>0.42693981525095</td>\n",
       "      <td>0.173308186964075</td>\n",
       "      <td>primary</td>\n",
       "      <td>Frillendorfer StraÃ?e</td>\n",
       "      <td>50</td>\n",
       "      <td>essen</td>\n",
       "      <td>1</td>\n",
       "      <td>31</td>\n",
       "      <td>7.0404607</td>\n",
       "      <td>51.4601087</td>\n",
       "    </tr>\n",
       "    <tr>\n",
       "      <th>3440</th>\n",
       "      <td>ess101o</td>\n",
       "      <td>0.413035356123105</td>\n",
       "      <td>0.348585492663662</td>\n",
       "      <td>primary</td>\n",
       "      <td>Frillendorfer StraÃ?e</td>\n",
       "      <td>50</td>\n",
       "      <td>essen</td>\n",
       "      <td>1</td>\n",
       "      <td>30</td>\n",
       "      <td>7.0388004</td>\n",
       "      <td>51.4598614</td>\n",
       "    </tr>\n",
       "  </tbody>\n",
       "</table>\n",
       "</div>"
      ],
      "text/plain": [
       "         detid             length                pos     fclass  \\\n",
       "3403  esss102n  0.510107252472063  0.488893175446213    primary   \n",
       "3404  esss102s  0.353923289079167  0.339990028920585    primary   \n",
       "3405  esss037n  0.392348392754351  0.378357280671117  secondary   \n",
       "3406  esss037s  0.145155071873586  0.126750133599844  secondary   \n",
       "3407  esss093n   0.32739391953105  0.234281399055499    primary   \n",
       "3408  esss093s   0.32024626466978  0.077262116010402    primary   \n",
       "3409  esss053n  0.704850874802381  0.415177609383656    primary   \n",
       "3410  esss053s  0.348624032096518  0.281231993659004    primary   \n",
       "3411  esss092n  0.300742179791684  0.224175679910793  secondary   \n",
       "3412  esss092s  0.313745557563303   0.26521624161373  secondary   \n",
       "3413  esss094s  0.604309045327114  0.366717805785441    primary   \n",
       "3414  esss094n  0.614473357282125  0.330820864155951    primary   \n",
       "3415  esss926o  0.192397776444305  0.161605681142512    primary   \n",
       "3416  esss926w  0.193303382746774  0.034445110046712    primary   \n",
       "3417  esss095n  0.388860218300086  0.210819312836519    primary   \n",
       "3418  esss095s  0.383595830948629  0.167459009837282    primary   \n",
       "3419  esss090n  0.462229134642388  0.284636856624246  secondary   \n",
       "3420  esss090s  0.442587084719399  0.150194541233045  secondary   \n",
       "3421  esss097o  0.452031816410734   0.43762843493151  secondary   \n",
       "3422  esss097w  0.452418738604049  0.206820905026112  secondary   \n",
       "3423  esss050n  0.217049967433416  0.194474926962937  secondary   \n",
       "3424  esss050s  0.362797734398895   0.31914041765512  secondary   \n",
       "3425  esss088s  0.395107654540115   0.25612982004692  secondary   \n",
       "3426  esss088n  0.375118037435422  0.101200674024899  secondary   \n",
       "3427  esss051n  0.213337636429666  0.200106699207643  secondary   \n",
       "3428  esss051s  0.239900175441511  0.211331239427387  secondary   \n",
       "3429  esss098n  0.535959233862689  0.057468413005246   tertiary   \n",
       "3430  esss098s  0.523662719843988  0.457385664250931   tertiary   \n",
       "3431  esss038w  0.521194548371616  0.344559636062558  secondary   \n",
       "3432  esss038o   0.52082130406342  0.167453171198902  secondary   \n",
       "3433  esss928w  0.281916443124158  0.262801469462305   tertiary   \n",
       "3434  esss928o  0.780929294383722  0.764973259620456   tertiary   \n",
       "3435  esss943o  0.265588435784305  0.228554854326057  secondary   \n",
       "3436  esss943w  0.267321505333357  0.137240302976475  secondary   \n",
       "3437  esss052n   0.85716543129868  0.693453251745992    primary   \n",
       "3438  esss052s  0.840241249064382  0.135122853439649    primary   \n",
       "3439   ess101w   0.42693981525095  0.173308186964075    primary   \n",
       "3440   ess101o  0.413035356123105  0.348585492663662    primary   \n",
       "\n",
       "                         road limit citycode lanes linkid       long  \\\n",
       "3403            HerzogstraÃ?e    50    essen     1     28  7.0280099   \n",
       "3404        Burggrafenstra??e    50    essen     1     29  7.0282593   \n",
       "3405            UnsuhrstraÃ?e    50    essen     1     26  7.0170692   \n",
       "3406        KarolingerstraÃ?e    50    essen     1     25  7.0174152   \n",
       "3407       Gladbecker StraÃ?e    50    essen     1      7  7.0088053   \n",
       "3408       Gladbecker StraÃ?e    50    essen     1      6  7.0086658   \n",
       "3409       Gladbecker StraÃ?e    50    essen     1     24  7.0069331   \n",
       "3410       Gladbecker StraÃ?e    50    essen     1     27  7.0040283   \n",
       "3411          SegerothstraÃ?e    50    essen     1      4  7.0028508   \n",
       "3412          SegerothstraÃ?e    50    essen     1      5  7.0032987   \n",
       "3413     Hans-Böckler-StraÃ?e    50    essen     1      8  6.9968399   \n",
       "3414     Hans-Böckler-StraÃ?e    50    essen     1      9  6.9968668   \n",
       "3415      Altendorfer StraÃ?e    50    essen     1     15  6.9915318   \n",
       "3416      Altendorfer StraÃ?e    50    essen     1     14  6.9917732   \n",
       "3417     Hans-Böckler-StraÃ?e    50    essen     1     11  6.9976714   \n",
       "3418     Hans-Böckler-StraÃ?e    50    essen     1     10  6.9975829   \n",
       "3419        HindenburgstraÃ?e    50    essen     1      3  7.0072362   \n",
       "3420        HindenburgstraÃ?e    50    essen     1      2  7.0070913   \n",
       "3421      Frohnhauser StraÃ?e    50    essen     1     13  6.9915909   \n",
       "3422      Frohnhauser StraÃ?e    50    essen     1     12  6.9942945   \n",
       "3423           HelenenstraÃ?e    50    essen     1     20  6.9821146   \n",
       "3424           HelenenstraÃ?e    50    essen     1     21  6.9817981   \n",
       "3425            OnckenstraÃ?e    50    essen     1     34   6.963425   \n",
       "3426            OnckenstraÃ?e    50    essen     1     35  6.9636047   \n",
       "3427    Martin-Luther-StraÃ?e    50    essen     1     22  6.9830856   \n",
       "3428    Martin-Luther-StraÃ?e    50    essen     1     23  6.9811222   \n",
       "3429             Huyssenallee     0    essen     1     33  7.0108116   \n",
       "3430             Huyssenallee     0    essen     1     32  7.0106104   \n",
       "3431             HövelstraÃ?e    30    essen     1     36  7.0062894   \n",
       "3432             HövelstraÃ?e    30    essen     1     37  7.0062599   \n",
       "3433        PferdebahnstraÃ?e    50    essen     1     19  6.9866341   \n",
       "3434        PferdebahnstraÃ?e    50    essen     1     18  6.9876507   \n",
       "3435  Friedrich-Ebert-StraÃ?e    50    essen     1      1  7.0076171   \n",
       "3436  Friedrich-Ebert-StraÃ?e    50    essen     1      0  7.0091003   \n",
       "3437        Bottroper StraÃ?e    50    essen     1     16  6.9991654   \n",
       "3438        Bottroper StraÃ?e    50    essen     1     17  6.9991037   \n",
       "3439    Frillendorfer StraÃ?e    50    essen     1     31  7.0404607   \n",
       "3440    Frillendorfer StraÃ?e    50    essen     1     30  7.0388004   \n",
       "\n",
       "             lat  \n",
       "3403  51.4635947  \n",
       "3404  51.4631502  \n",
       "3405  51.4716852  \n",
       "3406  51.4711172  \n",
       "3407  51.4660294  \n",
       "3408  51.4659976  \n",
       "3409  51.4723736  \n",
       "3410  51.4784612  \n",
       "3411  51.4630282  \n",
       "3412  51.4620456  \n",
       "3413  51.4623364  \n",
       "3414   51.461429  \n",
       "3415  51.4592799  \n",
       "3416   51.459452  \n",
       "3417  51.4567162  \n",
       "3418  51.4567162  \n",
       "3419  51.4532514  \n",
       "3420   51.453218  \n",
       "3421   51.454271  \n",
       "3422  51.4548125  \n",
       "3423  51.4640492  \n",
       "3424  51.4636148  \n",
       "3425  51.4553524  \n",
       "3426  51.4553474  \n",
       "3427  51.4523154  \n",
       "3428  51.4534453  \n",
       "3429  51.4476301  \n",
       "3430  51.4476117  \n",
       "3431  51.4829798  \n",
       "3432  51.4829163  \n",
       "3433  51.4659391  \n",
       "3434  51.4657921  \n",
       "3435  51.4597211  \n",
       "3436   51.460453  \n",
       "3437  51.4676452  \n",
       "3438  51.4675081  \n",
       "3439  51.4601087  \n",
       "3440  51.4598614  "
      ]
     },
     "execution_count": 20,
     "metadata": {},
     "output_type": "execute_result"
    }
   ],
   "source": [
    "dict(list(geo.groupby('citycode')))['essen']"
   ]
  },
  {
   "cell_type": "code",
   "execution_count": 3,
   "id": "7a515b0a",
   "metadata": {},
   "outputs": [
    {
     "data": {
      "text/html": [
       "<div>\n",
       "<style scoped>\n",
       "    .dataframe tbody tr th:only-of-type {\n",
       "        vertical-align: middle;\n",
       "    }\n",
       "\n",
       "    .dataframe tbody tr th {\n",
       "        vertical-align: top;\n",
       "    }\n",
       "\n",
       "    .dataframe thead th {\n",
       "        text-align: right;\n",
       "    }\n",
       "</style>\n",
       "<table border=\"1\" class=\"dataframe\">\n",
       "  <thead>\n",
       "    <tr style=\"text-align: right;\">\n",
       "      <th></th>\n",
       "      <th>detid</th>\n",
       "      <th>length</th>\n",
       "      <th>pos</th>\n",
       "      <th>fclass</th>\n",
       "      <th>road</th>\n",
       "      <th>limit</th>\n",
       "      <th>citycode</th>\n",
       "      <th>lanes</th>\n",
       "      <th>linkid</th>\n",
       "      <th>long</th>\n",
       "      <th>lat</th>\n",
       "    </tr>\n",
       "  </thead>\n",
       "  <tbody>\n",
       "    <tr>\n",
       "      <th>0</th>\n",
       "      <td>U1-52G</td>\n",
       "      <td>0.196036689548578</td>\n",
       "      <td>0.005511921838942</td>\n",
       "      <td>secondary</td>\n",
       "      <td>Gögginger Straße</td>\n",
       "      <td>50</td>\n",
       "      <td>augsburg</td>\n",
       "      <td>1</td>\n",
       "      <td>72</td>\n",
       "      <td>10.8895527</td>\n",
       "      <td>48.359957</td>\n",
       "    </tr>\n",
       "    <tr>\n",
       "      <th>1</th>\n",
       "      <td>U1-51G</td>\n",
       "      <td>0.130039071784385</td>\n",
       "      <td>0.004013209518671</td>\n",
       "      <td>secondary</td>\n",
       "      <td>Gögginger Straße</td>\n",
       "      <td>50</td>\n",
       "      <td>augsburg</td>\n",
       "      <td>1</td>\n",
       "      <td>73</td>\n",
       "      <td>10.889601</td>\n",
       "      <td>48.3599454</td>\n",
       "    </tr>\n",
       "    <tr>\n",
       "      <th>2</th>\n",
       "      <td>U1-52L</td>\n",
       "      <td>0.155863214591286</td>\n",
       "      <td>0.022227823915315</td>\n",
       "      <td>secondary</td>\n",
       "      <td>Gögginger Straße</td>\n",
       "      <td>50</td>\n",
       "      <td>augsburg</td>\n",
       "      <td>1</td>\n",
       "      <td>70</td>\n",
       "      <td>10.8893555</td>\n",
       "      <td>48.3598759</td>\n",
       "    </tr>\n",
       "    <tr>\n",
       "      <th>3</th>\n",
       "      <td>U1-51L</td>\n",
       "      <td>0.197675412740605</td>\n",
       "      <td>0.021889369247481</td>\n",
       "      <td>secondary</td>\n",
       "      <td>Gögginger Straße</td>\n",
       "      <td>50</td>\n",
       "      <td>augsburg</td>\n",
       "      <td>1</td>\n",
       "      <td>71</td>\n",
       "      <td>10.8893958</td>\n",
       "      <td>48.3598617</td>\n",
       "    </tr>\n",
       "    <tr>\n",
       "      <th>4</th>\n",
       "      <td>U1-62</td>\n",
       "      <td>0.065182655061287</td>\n",
       "      <td>0.024465133197684</td>\n",
       "      <td>secondary</td>\n",
       "      <td>Rosenaustraße</td>\n",
       "      <td>50</td>\n",
       "      <td>augsburg</td>\n",
       "      <td>1</td>\n",
       "      <td>68</td>\n",
       "      <td>10.8893609</td>\n",
       "      <td>48.3605781</td>\n",
       "    </tr>\n",
       "    <tr>\n",
       "      <th>...</th>\n",
       "      <td>...</td>\n",
       "      <td>...</td>\n",
       "      <td>...</td>\n",
       "      <td>...</td>\n",
       "      <td>...</td>\n",
       "      <td>...</td>\n",
       "      <td>...</td>\n",
       "      <td>...</td>\n",
       "      <td>...</td>\n",
       "      <td>...</td>\n",
       "      <td>...</td>\n",
       "    </tr>\n",
       "    <tr>\n",
       "      <th>23621</th>\n",
       "      <td>K419D17</td>\n",
       "      <td>0.507889707596885</td>\n",
       "      <td>0.073105068230818</td>\n",
       "      <td>secondary</td>\n",
       "      <td>Gutstrasse</td>\n",
       "      <td>50</td>\n",
       "      <td>zurich</td>\n",
       "      <td>1</td>\n",
       "      <td>1199</td>\n",
       "      <td>8.4997219</td>\n",
       "      <td>47.376703</td>\n",
       "    </tr>\n",
       "    <tr>\n",
       "      <th>23622</th>\n",
       "      <td>K426D14</td>\n",
       "      <td>0.591130928912286</td>\n",
       "      <td>0.579360788484941</td>\n",
       "      <td>primary</td>\n",
       "      <td>Duttweilerbrücke</td>\n",
       "      <td>0</td>\n",
       "      <td>zurich</td>\n",
       "      <td>1</td>\n",
       "      <td>1200</td>\n",
       "      <td>8.5115746</td>\n",
       "      <td>47.3895447</td>\n",
       "    </tr>\n",
       "    <tr>\n",
       "      <th>23623</th>\n",
       "      <td>K426D11</td>\n",
       "      <td>0.650268197558552</td>\n",
       "      <td>0.592645229297594</td>\n",
       "      <td>primary</td>\n",
       "      <td>Duttweilerbrücke</td>\n",
       "      <td>50</td>\n",
       "      <td>zurich</td>\n",
       "      <td>1</td>\n",
       "      <td>1201</td>\n",
       "      <td>8.5117301</td>\n",
       "      <td>47.389532</td>\n",
       "    </tr>\n",
       "    <tr>\n",
       "      <th>23624</th>\n",
       "      <td>K437D17</td>\n",
       "      <td>0.301828917683716</td>\n",
       "      <td>0.005193529420127</td>\n",
       "      <td>tertiary</td>\n",
       "      <td>Europabrücke</td>\n",
       "      <td>50</td>\n",
       "      <td>zurich</td>\n",
       "      <td>1</td>\n",
       "      <td>1203</td>\n",
       "      <td>8.4930016</td>\n",
       "      <td>47.393101</td>\n",
       "    </tr>\n",
       "    <tr>\n",
       "      <th>23625</th>\n",
       "      <td>K38D11</td>\n",
       "      <td>0.176827929958034</td>\n",
       "      <td>0.152221761817854</td>\n",
       "      <td>tertiary</td>\n",
       "      <td>Badenerstrasse</td>\n",
       "      <td>50</td>\n",
       "      <td>zurich</td>\n",
       "      <td>1</td>\n",
       "      <td>1207</td>\n",
       "      <td>8.512525</td>\n",
       "      <td>47.377435</td>\n",
       "    </tr>\n",
       "  </tbody>\n",
       "</table>\n",
       "<p>23626 rows × 11 columns</p>\n",
       "</div>"
      ],
      "text/plain": [
       "         detid             length                pos     fclass  \\\n",
       "0       U1-52G  0.196036689548578  0.005511921838942  secondary   \n",
       "1       U1-51G  0.130039071784385  0.004013209518671  secondary   \n",
       "2       U1-52L  0.155863214591286  0.022227823915315  secondary   \n",
       "3       U1-51L  0.197675412740605  0.021889369247481  secondary   \n",
       "4        U1-62  0.065182655061287  0.024465133197684  secondary   \n",
       "...        ...                ...                ...        ...   \n",
       "23621  K419D17  0.507889707596885  0.073105068230818  secondary   \n",
       "23622  K426D14  0.591130928912286  0.579360788484941    primary   \n",
       "23623  K426D11  0.650268197558552  0.592645229297594    primary   \n",
       "23624  K437D17  0.301828917683716  0.005193529420127   tertiary   \n",
       "23625   K38D11  0.176827929958034  0.152221761817854   tertiary   \n",
       "\n",
       "                   road limit  citycode lanes linkid        long         lat  \n",
       "0      Gögginger Straße    50  augsburg     1     72  10.8895527   48.359957  \n",
       "1      Gögginger Straße    50  augsburg     1     73   10.889601  48.3599454  \n",
       "2      Gögginger Straße    50  augsburg     1     70  10.8893555  48.3598759  \n",
       "3      Gögginger Straße    50  augsburg     1     71  10.8893958  48.3598617  \n",
       "4         Rosenaustraße    50  augsburg     1     68  10.8893609  48.3605781  \n",
       "...                 ...   ...       ...   ...    ...         ...         ...  \n",
       "23621        Gutstrasse    50    zurich     1   1199   8.4997219   47.376703  \n",
       "23622  Duttweilerbrücke     0    zurich     1   1200   8.5115746  47.3895447  \n",
       "23623  Duttweilerbrücke    50    zurich     1   1201   8.5117301   47.389532  \n",
       "23624      Europabrücke    50    zurich     1   1203   8.4930016   47.393101  \n",
       "23625    Badenerstrasse    50    zurich     1   1207    8.512525   47.377435  \n",
       "\n",
       "[23626 rows x 11 columns]"
      ]
     },
     "execution_count": 3,
     "metadata": {},
     "output_type": "execute_result"
    }
   ],
   "source": [
    "geo = pd.read_csv('detectors_public.csv', dtype='str')\n",
    "geo"
   ]
  },
  {
   "cell_type": "code",
   "execution_count": 8,
   "id": "8746246b",
   "metadata": {
    "scrolled": true
   },
   "outputs": [
    {
     "data": {
      "text/plain": [
       "(38, 55, 16, 181, 259, 399)"
      ]
     },
     "execution_count": 8,
     "metadata": {},
     "output_type": "execute_result"
    }
   ],
   "source": [
    "len(dict(list(geo.groupby('citycode')))['essen']),\\\n",
    "len(dict(list(geo.groupby('citycode')))['groningen']),\\\n",
    "len(dict(list(geo.groupby('citycode')))['innsbruck']),\\\n",
    "len(dict(list(geo.groupby('citycode')))['manchester']),\\\n",
    "len(dict(list(geo.groupby('citycode')))['rotterdam']),\\\n",
    "len(dict(list(geo.groupby('citycode')))['torino'])"
   ]
  },
  {
   "cell_type": "code",
   "execution_count": 2,
   "id": "4c24f96c",
   "metadata": {},
   "outputs": [
    {
     "data": {
      "text/html": [
       "<div>\n",
       "<style scoped>\n",
       "    .dataframe tbody tr th:only-of-type {\n",
       "        vertical-align: middle;\n",
       "    }\n",
       "\n",
       "    .dataframe tbody tr th {\n",
       "        vertical-align: top;\n",
       "    }\n",
       "\n",
       "    .dataframe thead th {\n",
       "        text-align: right;\n",
       "    }\n",
       "</style>\n",
       "<table border=\"1\" class=\"dataframe\">\n",
       "  <thead>\n",
       "    <tr style=\"text-align: right;\">\n",
       "      <th></th>\n",
       "      <th>long</th>\n",
       "      <th>lat</th>\n",
       "      <th>order</th>\n",
       "      <th>piece</th>\n",
       "      <th>linkid</th>\n",
       "      <th>group</th>\n",
       "      <th>citycode</th>\n",
       "    </tr>\n",
       "  </thead>\n",
       "  <tbody>\n",
       "    <tr>\n",
       "      <th>0</th>\n",
       "      <td>10.891016</td>\n",
       "      <td>48.361079</td>\n",
       "      <td>1</td>\n",
       "      <td>1</td>\n",
       "      <td>0</td>\n",
       "      <td>0.1</td>\n",
       "      <td>augsburg</td>\n",
       "    </tr>\n",
       "    <tr>\n",
       "      <th>1</th>\n",
       "      <td>10.890894</td>\n",
       "      <td>48.360993</td>\n",
       "      <td>2</td>\n",
       "      <td>1</td>\n",
       "      <td>0</td>\n",
       "      <td>0.1</td>\n",
       "      <td>augsburg</td>\n",
       "    </tr>\n",
       "    <tr>\n",
       "      <th>2</th>\n",
       "      <td>10.890642</td>\n",
       "      <td>48.360853</td>\n",
       "      <td>3</td>\n",
       "      <td>1</td>\n",
       "      <td>0</td>\n",
       "      <td>0.1</td>\n",
       "      <td>augsburg</td>\n",
       "    </tr>\n",
       "    <tr>\n",
       "      <th>3</th>\n",
       "      <td>10.890404</td>\n",
       "      <td>48.360719</td>\n",
       "      <td>4</td>\n",
       "      <td>1</td>\n",
       "      <td>0</td>\n",
       "      <td>0.1</td>\n",
       "      <td>augsburg</td>\n",
       "    </tr>\n",
       "    <tr>\n",
       "      <th>4</th>\n",
       "      <td>10.889994</td>\n",
       "      <td>48.360497</td>\n",
       "      <td>5</td>\n",
       "      <td>1</td>\n",
       "      <td>0</td>\n",
       "      <td>0.1</td>\n",
       "      <td>augsburg</td>\n",
       "    </tr>\n",
       "    <tr>\n",
       "      <th>...</th>\n",
       "      <td>...</td>\n",
       "      <td>...</td>\n",
       "      <td>...</td>\n",
       "      <td>...</td>\n",
       "      <td>...</td>\n",
       "      <td>...</td>\n",
       "      <td>...</td>\n",
       "    </tr>\n",
       "    <tr>\n",
       "      <th>140853</th>\n",
       "      <td>8.567437</td>\n",
       "      <td>47.363242</td>\n",
       "      <td>20</td>\n",
       "      <td>1</td>\n",
       "      <td>1224</td>\n",
       "      <td>1224.1</td>\n",
       "      <td>zurich</td>\n",
       "    </tr>\n",
       "    <tr>\n",
       "      <th>140854</th>\n",
       "      <td>8.567520</td>\n",
       "      <td>47.363171</td>\n",
       "      <td>21</td>\n",
       "      <td>1</td>\n",
       "      <td>1224</td>\n",
       "      <td>1224.1</td>\n",
       "      <td>zurich</td>\n",
       "    </tr>\n",
       "    <tr>\n",
       "      <th>140855</th>\n",
       "      <td>8.567633</td>\n",
       "      <td>47.363072</td>\n",
       "      <td>22</td>\n",
       "      <td>1</td>\n",
       "      <td>1224</td>\n",
       "      <td>1224.1</td>\n",
       "      <td>zurich</td>\n",
       "    </tr>\n",
       "    <tr>\n",
       "      <th>140856</th>\n",
       "      <td>8.567745</td>\n",
       "      <td>47.362966</td>\n",
       "      <td>23</td>\n",
       "      <td>1</td>\n",
       "      <td>1224</td>\n",
       "      <td>1224.1</td>\n",
       "      <td>zurich</td>\n",
       "    </tr>\n",
       "    <tr>\n",
       "      <th>140857</th>\n",
       "      <td>8.567812</td>\n",
       "      <td>47.362897</td>\n",
       "      <td>24</td>\n",
       "      <td>1</td>\n",
       "      <td>1224</td>\n",
       "      <td>1224.1</td>\n",
       "      <td>zurich</td>\n",
       "    </tr>\n",
       "  </tbody>\n",
       "</table>\n",
       "<p>140858 rows × 7 columns</p>\n",
       "</div>"
      ],
      "text/plain": [
       "             long        lat  order  piece  linkid   group  citycode\n",
       "0       10.891016  48.361079      1      1       0     0.1  augsburg\n",
       "1       10.890894  48.360993      2      1       0     0.1  augsburg\n",
       "2       10.890642  48.360853      3      1       0     0.1  augsburg\n",
       "3       10.890404  48.360719      4      1       0     0.1  augsburg\n",
       "4       10.889994  48.360497      5      1       0     0.1  augsburg\n",
       "...           ...        ...    ...    ...     ...     ...       ...\n",
       "140853   8.567437  47.363242     20      1    1224  1224.1    zurich\n",
       "140854   8.567520  47.363171     21      1    1224  1224.1    zurich\n",
       "140855   8.567633  47.363072     22      1    1224  1224.1    zurich\n",
       "140856   8.567745  47.362966     23      1    1224  1224.1    zurich\n",
       "140857   8.567812  47.362897     24      1    1224  1224.1    zurich\n",
       "\n",
       "[140858 rows x 7 columns]"
      ]
     },
     "execution_count": 2,
     "metadata": {},
     "output_type": "execute_result"
    }
   ],
   "source": [
    "links = pd.read_csv('links.csv')\n",
    "links"
   ]
  },
  {
   "cell_type": "code",
   "execution_count": 42,
   "id": "c081d433",
   "metadata": {},
   "outputs": [
    {
     "data": {
      "text/html": [
       "<div>\n",
       "<style scoped>\n",
       "    .dataframe tbody tr th:only-of-type {\n",
       "        vertical-align: middle;\n",
       "    }\n",
       "\n",
       "    .dataframe tbody tr th {\n",
       "        vertical-align: top;\n",
       "    }\n",
       "\n",
       "    .dataframe thead th {\n",
       "        text-align: right;\n",
       "    }\n",
       "</style>\n",
       "<table border=\"1\" class=\"dataframe\">\n",
       "  <thead>\n",
       "    <tr style=\"text-align: right;\">\n",
       "      <th></th>\n",
       "      <th>Unnamed: 0</th>\n",
       "      <th>day</th>\n",
       "      <th>interval</th>\n",
       "      <th>detid</th>\n",
       "      <th>flow</th>\n",
       "      <th>occ</th>\n",
       "      <th>error</th>\n",
       "      <th>city</th>\n",
       "      <th>speed</th>\n",
       "    </tr>\n",
       "  </thead>\n",
       "  <tbody>\n",
       "    <tr>\n",
       "      <th>0</th>\n",
       "      <td>17651245</td>\n",
       "      <td>2017-03-27</td>\n",
       "      <td>36000</td>\n",
       "      <td>esss102n</td>\n",
       "      <td>214.75</td>\n",
       "      <td>0.00625</td>\n",
       "      <td>1.0</td>\n",
       "      <td>essen</td>\n",
       "      <td>25.662790</td>\n",
       "    </tr>\n",
       "    <tr>\n",
       "      <th>1</th>\n",
       "      <td>17651246</td>\n",
       "      <td>2017-03-27</td>\n",
       "      <td>36300</td>\n",
       "      <td>esss102n</td>\n",
       "      <td>455.00</td>\n",
       "      <td>0.01500</td>\n",
       "      <td>0.0</td>\n",
       "      <td>essen</td>\n",
       "      <td>52.758244</td>\n",
       "    </tr>\n",
       "    <tr>\n",
       "      <th>2</th>\n",
       "      <td>17651247</td>\n",
       "      <td>2017-03-27</td>\n",
       "      <td>36600</td>\n",
       "      <td>esss102n</td>\n",
       "      <td>410.00</td>\n",
       "      <td>0.01500</td>\n",
       "      <td>0.0</td>\n",
       "      <td>essen</td>\n",
       "      <td>52.219513</td>\n",
       "    </tr>\n",
       "    <tr>\n",
       "      <th>3</th>\n",
       "      <td>17651248</td>\n",
       "      <td>2017-03-27</td>\n",
       "      <td>36900</td>\n",
       "      <td>esss102n</td>\n",
       "      <td>415.00</td>\n",
       "      <td>0.01500</td>\n",
       "      <td>0.0</td>\n",
       "      <td>essen</td>\n",
       "      <td>50.120483</td>\n",
       "    </tr>\n",
       "    <tr>\n",
       "      <th>4</th>\n",
       "      <td>17651249</td>\n",
       "      <td>2017-03-27</td>\n",
       "      <td>37200</td>\n",
       "      <td>esss102n</td>\n",
       "      <td>380.00</td>\n",
       "      <td>0.01500</td>\n",
       "      <td>0.0</td>\n",
       "      <td>essen</td>\n",
       "      <td>50.684210</td>\n",
       "    </tr>\n",
       "    <tr>\n",
       "      <th>...</th>\n",
       "      <td>...</td>\n",
       "      <td>...</td>\n",
       "      <td>...</td>\n",
       "      <td>...</td>\n",
       "      <td>...</td>\n",
       "      <td>...</td>\n",
       "      <td>...</td>\n",
       "      <td>...</td>\n",
       "      <td>...</td>\n",
       "    </tr>\n",
       "    <tr>\n",
       "      <th>8117</th>\n",
       "      <td>17659362</td>\n",
       "      <td>2017-09-30</td>\n",
       "      <td>84600</td>\n",
       "      <td>esss102n</td>\n",
       "      <td>120.00</td>\n",
       "      <td>0.00000</td>\n",
       "      <td>0.0</td>\n",
       "      <td>essen</td>\n",
       "      <td>55.500000</td>\n",
       "    </tr>\n",
       "    <tr>\n",
       "      <th>8118</th>\n",
       "      <td>17659363</td>\n",
       "      <td>2017-09-30</td>\n",
       "      <td>84900</td>\n",
       "      <td>esss102n</td>\n",
       "      <td>120.00</td>\n",
       "      <td>0.00250</td>\n",
       "      <td>0.0</td>\n",
       "      <td>essen</td>\n",
       "      <td>57.666668</td>\n",
       "    </tr>\n",
       "    <tr>\n",
       "      <th>8119</th>\n",
       "      <td>17659364</td>\n",
       "      <td>2017-09-30</td>\n",
       "      <td>85200</td>\n",
       "      <td>esss102n</td>\n",
       "      <td>130.00</td>\n",
       "      <td>0.00250</td>\n",
       "      <td>0.0</td>\n",
       "      <td>essen</td>\n",
       "      <td>55.384617</td>\n",
       "    </tr>\n",
       "    <tr>\n",
       "      <th>8120</th>\n",
       "      <td>17659365</td>\n",
       "      <td>2017-09-30</td>\n",
       "      <td>85500</td>\n",
       "      <td>esss102n</td>\n",
       "      <td>130.00</td>\n",
       "      <td>0.00250</td>\n",
       "      <td>0.0</td>\n",
       "      <td>essen</td>\n",
       "      <td>54.000000</td>\n",
       "    </tr>\n",
       "    <tr>\n",
       "      <th>8121</th>\n",
       "      <td>17659366</td>\n",
       "      <td>2017-09-30</td>\n",
       "      <td>85800</td>\n",
       "      <td>esss102n</td>\n",
       "      <td>135.00</td>\n",
       "      <td>0.00250</td>\n",
       "      <td>0.0</td>\n",
       "      <td>essen</td>\n",
       "      <td>54.333332</td>\n",
       "    </tr>\n",
       "  </tbody>\n",
       "</table>\n",
       "<p>8122 rows × 9 columns</p>\n",
       "</div>"
      ],
      "text/plain": [
       "      Unnamed: 0         day  interval     detid    flow      occ  error  \\\n",
       "0       17651245  2017-03-27     36000  esss102n  214.75  0.00625    1.0   \n",
       "1       17651246  2017-03-27     36300  esss102n  455.00  0.01500    0.0   \n",
       "2       17651247  2017-03-27     36600  esss102n  410.00  0.01500    0.0   \n",
       "3       17651248  2017-03-27     36900  esss102n  415.00  0.01500    0.0   \n",
       "4       17651249  2017-03-27     37200  esss102n  380.00  0.01500    0.0   \n",
       "...          ...         ...       ...       ...     ...      ...    ...   \n",
       "8117    17659362  2017-09-30     84600  esss102n  120.00  0.00000    0.0   \n",
       "8118    17659363  2017-09-30     84900  esss102n  120.00  0.00250    0.0   \n",
       "8119    17659364  2017-09-30     85200  esss102n  130.00  0.00250    0.0   \n",
       "8120    17659365  2017-09-30     85500  esss102n  130.00  0.00250    0.0   \n",
       "8121    17659366  2017-09-30     85800  esss102n  135.00  0.00250    0.0   \n",
       "\n",
       "       city      speed  \n",
       "0     essen  25.662790  \n",
       "1     essen  52.758244  \n",
       "2     essen  52.219513  \n",
       "3     essen  50.120483  \n",
       "4     essen  50.684210  \n",
       "...     ...        ...  \n",
       "8117  essen  55.500000  \n",
       "8118  essen  57.666668  \n",
       "8119  essen  55.384617  \n",
       "8120  essen  54.000000  \n",
       "8121  essen  54.333332  \n",
       "\n",
       "[8122 rows x 9 columns]"
      ]
     },
     "execution_count": 42,
     "metadata": {},
     "output_type": "execute_result"
    }
   ],
   "source": [
    "nc = dict(list(df.groupby('city')))['essen']\n",
    "nc2 = dict(list(nc.groupby('detid')))['esss102n']\n",
    "nc2\n",
    "#dict(list(nc2.groupby('day'))).keys()\n",
    "#len(dict(list(nc2.groupby('error')))[1.0])"
   ]
  },
  {
   "cell_type": "code",
   "execution_count": 48,
   "id": "bf584d8b",
   "metadata": {},
   "outputs": [
    {
     "data": {
      "text/html": [
       "<div>\n",
       "<style scoped>\n",
       "    .dataframe tbody tr th:only-of-type {\n",
       "        vertical-align: middle;\n",
       "    }\n",
       "\n",
       "    .dataframe tbody tr th {\n",
       "        vertical-align: top;\n",
       "    }\n",
       "\n",
       "    .dataframe thead th {\n",
       "        text-align: right;\n",
       "    }\n",
       "</style>\n",
       "<table border=\"1\" class=\"dataframe\">\n",
       "  <thead>\n",
       "    <tr style=\"text-align: right;\">\n",
       "      <th></th>\n",
       "      <th>detid</th>\n",
       "      <th>length</th>\n",
       "      <th>pos</th>\n",
       "      <th>fclass</th>\n",
       "      <th>road</th>\n",
       "      <th>limit</th>\n",
       "      <th>citycode</th>\n",
       "      <th>lanes</th>\n",
       "      <th>linkid</th>\n",
       "      <th>long</th>\n",
       "      <th>lat</th>\n",
       "    </tr>\n",
       "  </thead>\n",
       "  <tbody>\n",
       "    <tr>\n",
       "      <th>3403</th>\n",
       "      <td>esss102n</td>\n",
       "      <td>0.510107252472063</td>\n",
       "      <td>0.488893175446213</td>\n",
       "      <td>primary</td>\n",
       "      <td>HerzogstraÃ?e</td>\n",
       "      <td>50</td>\n",
       "      <td>essen</td>\n",
       "      <td>1</td>\n",
       "      <td>28</td>\n",
       "      <td>7.0280099</td>\n",
       "      <td>51.4635947</td>\n",
       "    </tr>\n",
       "    <tr>\n",
       "      <th>3404</th>\n",
       "      <td>esss102s</td>\n",
       "      <td>0.353923289079167</td>\n",
       "      <td>0.339990028920585</td>\n",
       "      <td>primary</td>\n",
       "      <td>Burggrafenstra??e</td>\n",
       "      <td>50</td>\n",
       "      <td>essen</td>\n",
       "      <td>1</td>\n",
       "      <td>29</td>\n",
       "      <td>7.0282593</td>\n",
       "      <td>51.4631502</td>\n",
       "    </tr>\n",
       "    <tr>\n",
       "      <th>3405</th>\n",
       "      <td>esss037n</td>\n",
       "      <td>0.392348392754351</td>\n",
       "      <td>0.378357280671117</td>\n",
       "      <td>secondary</td>\n",
       "      <td>UnsuhrstraÃ?e</td>\n",
       "      <td>50</td>\n",
       "      <td>essen</td>\n",
       "      <td>1</td>\n",
       "      <td>26</td>\n",
       "      <td>7.0170692</td>\n",
       "      <td>51.4716852</td>\n",
       "    </tr>\n",
       "    <tr>\n",
       "      <th>3406</th>\n",
       "      <td>esss037s</td>\n",
       "      <td>0.145155071873586</td>\n",
       "      <td>0.126750133599844</td>\n",
       "      <td>secondary</td>\n",
       "      <td>KarolingerstraÃ?e</td>\n",
       "      <td>50</td>\n",
       "      <td>essen</td>\n",
       "      <td>1</td>\n",
       "      <td>25</td>\n",
       "      <td>7.0174152</td>\n",
       "      <td>51.4711172</td>\n",
       "    </tr>\n",
       "    <tr>\n",
       "      <th>3407</th>\n",
       "      <td>esss093n</td>\n",
       "      <td>0.32739391953105</td>\n",
       "      <td>0.234281399055499</td>\n",
       "      <td>primary</td>\n",
       "      <td>Gladbecker StraÃ?e</td>\n",
       "      <td>50</td>\n",
       "      <td>essen</td>\n",
       "      <td>1</td>\n",
       "      <td>7</td>\n",
       "      <td>7.0088053</td>\n",
       "      <td>51.4660294</td>\n",
       "    </tr>\n",
       "    <tr>\n",
       "      <th>3408</th>\n",
       "      <td>esss093s</td>\n",
       "      <td>0.32024626466978</td>\n",
       "      <td>0.077262116010402</td>\n",
       "      <td>primary</td>\n",
       "      <td>Gladbecker StraÃ?e</td>\n",
       "      <td>50</td>\n",
       "      <td>essen</td>\n",
       "      <td>1</td>\n",
       "      <td>6</td>\n",
       "      <td>7.0086658</td>\n",
       "      <td>51.4659976</td>\n",
       "    </tr>\n",
       "    <tr>\n",
       "      <th>3409</th>\n",
       "      <td>esss053n</td>\n",
       "      <td>0.704850874802381</td>\n",
       "      <td>0.415177609383656</td>\n",
       "      <td>primary</td>\n",
       "      <td>Gladbecker StraÃ?e</td>\n",
       "      <td>50</td>\n",
       "      <td>essen</td>\n",
       "      <td>1</td>\n",
       "      <td>24</td>\n",
       "      <td>7.0069331</td>\n",
       "      <td>51.4723736</td>\n",
       "    </tr>\n",
       "    <tr>\n",
       "      <th>3410</th>\n",
       "      <td>esss053s</td>\n",
       "      <td>0.348624032096518</td>\n",
       "      <td>0.281231993659004</td>\n",
       "      <td>primary</td>\n",
       "      <td>Gladbecker StraÃ?e</td>\n",
       "      <td>50</td>\n",
       "      <td>essen</td>\n",
       "      <td>1</td>\n",
       "      <td>27</td>\n",
       "      <td>7.0040283</td>\n",
       "      <td>51.4784612</td>\n",
       "    </tr>\n",
       "    <tr>\n",
       "      <th>3411</th>\n",
       "      <td>esss092n</td>\n",
       "      <td>0.300742179791684</td>\n",
       "      <td>0.224175679910793</td>\n",
       "      <td>secondary</td>\n",
       "      <td>SegerothstraÃ?e</td>\n",
       "      <td>50</td>\n",
       "      <td>essen</td>\n",
       "      <td>1</td>\n",
       "      <td>4</td>\n",
       "      <td>7.0028508</td>\n",
       "      <td>51.4630282</td>\n",
       "    </tr>\n",
       "    <tr>\n",
       "      <th>3412</th>\n",
       "      <td>esss092s</td>\n",
       "      <td>0.313745557563303</td>\n",
       "      <td>0.26521624161373</td>\n",
       "      <td>secondary</td>\n",
       "      <td>SegerothstraÃ?e</td>\n",
       "      <td>50</td>\n",
       "      <td>essen</td>\n",
       "      <td>1</td>\n",
       "      <td>5</td>\n",
       "      <td>7.0032987</td>\n",
       "      <td>51.4620456</td>\n",
       "    </tr>\n",
       "    <tr>\n",
       "      <th>3413</th>\n",
       "      <td>esss094s</td>\n",
       "      <td>0.604309045327114</td>\n",
       "      <td>0.366717805785441</td>\n",
       "      <td>primary</td>\n",
       "      <td>Hans-Böckler-StraÃ?e</td>\n",
       "      <td>50</td>\n",
       "      <td>essen</td>\n",
       "      <td>1</td>\n",
       "      <td>8</td>\n",
       "      <td>6.9968399</td>\n",
       "      <td>51.4623364</td>\n",
       "    </tr>\n",
       "    <tr>\n",
       "      <th>3414</th>\n",
       "      <td>esss094n</td>\n",
       "      <td>0.614473357282125</td>\n",
       "      <td>0.330820864155951</td>\n",
       "      <td>primary</td>\n",
       "      <td>Hans-Böckler-StraÃ?e</td>\n",
       "      <td>50</td>\n",
       "      <td>essen</td>\n",
       "      <td>1</td>\n",
       "      <td>9</td>\n",
       "      <td>6.9968668</td>\n",
       "      <td>51.461429</td>\n",
       "    </tr>\n",
       "    <tr>\n",
       "      <th>3415</th>\n",
       "      <td>esss926o</td>\n",
       "      <td>0.192397776444305</td>\n",
       "      <td>0.161605681142512</td>\n",
       "      <td>primary</td>\n",
       "      <td>Altendorfer StraÃ?e</td>\n",
       "      <td>50</td>\n",
       "      <td>essen</td>\n",
       "      <td>1</td>\n",
       "      <td>15</td>\n",
       "      <td>6.9915318</td>\n",
       "      <td>51.4592799</td>\n",
       "    </tr>\n",
       "    <tr>\n",
       "      <th>3416</th>\n",
       "      <td>esss926w</td>\n",
       "      <td>0.193303382746774</td>\n",
       "      <td>0.034445110046712</td>\n",
       "      <td>primary</td>\n",
       "      <td>Altendorfer StraÃ?e</td>\n",
       "      <td>50</td>\n",
       "      <td>essen</td>\n",
       "      <td>1</td>\n",
       "      <td>14</td>\n",
       "      <td>6.9917732</td>\n",
       "      <td>51.459452</td>\n",
       "    </tr>\n",
       "    <tr>\n",
       "      <th>3417</th>\n",
       "      <td>esss095n</td>\n",
       "      <td>0.388860218300086</td>\n",
       "      <td>0.210819312836519</td>\n",
       "      <td>primary</td>\n",
       "      <td>Hans-Böckler-StraÃ?e</td>\n",
       "      <td>50</td>\n",
       "      <td>essen</td>\n",
       "      <td>1</td>\n",
       "      <td>11</td>\n",
       "      <td>6.9976714</td>\n",
       "      <td>51.4567162</td>\n",
       "    </tr>\n",
       "    <tr>\n",
       "      <th>3418</th>\n",
       "      <td>esss095s</td>\n",
       "      <td>0.383595830948629</td>\n",
       "      <td>0.167459009837282</td>\n",
       "      <td>primary</td>\n",
       "      <td>Hans-Böckler-StraÃ?e</td>\n",
       "      <td>50</td>\n",
       "      <td>essen</td>\n",
       "      <td>1</td>\n",
       "      <td>10</td>\n",
       "      <td>6.9975829</td>\n",
       "      <td>51.4567162</td>\n",
       "    </tr>\n",
       "    <tr>\n",
       "      <th>3419</th>\n",
       "      <td>esss090n</td>\n",
       "      <td>0.462229134642388</td>\n",
       "      <td>0.284636856624246</td>\n",
       "      <td>secondary</td>\n",
       "      <td>HindenburgstraÃ?e</td>\n",
       "      <td>50</td>\n",
       "      <td>essen</td>\n",
       "      <td>1</td>\n",
       "      <td>3</td>\n",
       "      <td>7.0072362</td>\n",
       "      <td>51.4532514</td>\n",
       "    </tr>\n",
       "    <tr>\n",
       "      <th>3420</th>\n",
       "      <td>esss090s</td>\n",
       "      <td>0.442587084719399</td>\n",
       "      <td>0.150194541233045</td>\n",
       "      <td>secondary</td>\n",
       "      <td>HindenburgstraÃ?e</td>\n",
       "      <td>50</td>\n",
       "      <td>essen</td>\n",
       "      <td>1</td>\n",
       "      <td>2</td>\n",
       "      <td>7.0070913</td>\n",
       "      <td>51.453218</td>\n",
       "    </tr>\n",
       "    <tr>\n",
       "      <th>3421</th>\n",
       "      <td>esss097o</td>\n",
       "      <td>0.452031816410734</td>\n",
       "      <td>0.43762843493151</td>\n",
       "      <td>secondary</td>\n",
       "      <td>Frohnhauser StraÃ?e</td>\n",
       "      <td>50</td>\n",
       "      <td>essen</td>\n",
       "      <td>1</td>\n",
       "      <td>13</td>\n",
       "      <td>6.9915909</td>\n",
       "      <td>51.454271</td>\n",
       "    </tr>\n",
       "    <tr>\n",
       "      <th>3422</th>\n",
       "      <td>esss097w</td>\n",
       "      <td>0.452418738604049</td>\n",
       "      <td>0.206820905026112</td>\n",
       "      <td>secondary</td>\n",
       "      <td>Frohnhauser StraÃ?e</td>\n",
       "      <td>50</td>\n",
       "      <td>essen</td>\n",
       "      <td>1</td>\n",
       "      <td>12</td>\n",
       "      <td>6.9942945</td>\n",
       "      <td>51.4548125</td>\n",
       "    </tr>\n",
       "    <tr>\n",
       "      <th>3423</th>\n",
       "      <td>esss050n</td>\n",
       "      <td>0.217049967433416</td>\n",
       "      <td>0.194474926962937</td>\n",
       "      <td>secondary</td>\n",
       "      <td>HelenenstraÃ?e</td>\n",
       "      <td>50</td>\n",
       "      <td>essen</td>\n",
       "      <td>1</td>\n",
       "      <td>20</td>\n",
       "      <td>6.9821146</td>\n",
       "      <td>51.4640492</td>\n",
       "    </tr>\n",
       "    <tr>\n",
       "      <th>3424</th>\n",
       "      <td>esss050s</td>\n",
       "      <td>0.362797734398895</td>\n",
       "      <td>0.31914041765512</td>\n",
       "      <td>secondary</td>\n",
       "      <td>HelenenstraÃ?e</td>\n",
       "      <td>50</td>\n",
       "      <td>essen</td>\n",
       "      <td>1</td>\n",
       "      <td>21</td>\n",
       "      <td>6.9817981</td>\n",
       "      <td>51.4636148</td>\n",
       "    </tr>\n",
       "    <tr>\n",
       "      <th>3425</th>\n",
       "      <td>esss088s</td>\n",
       "      <td>0.395107654540115</td>\n",
       "      <td>0.25612982004692</td>\n",
       "      <td>secondary</td>\n",
       "      <td>OnckenstraÃ?e</td>\n",
       "      <td>50</td>\n",
       "      <td>essen</td>\n",
       "      <td>1</td>\n",
       "      <td>34</td>\n",
       "      <td>6.963425</td>\n",
       "      <td>51.4553524</td>\n",
       "    </tr>\n",
       "    <tr>\n",
       "      <th>3426</th>\n",
       "      <td>esss088n</td>\n",
       "      <td>0.375118037435422</td>\n",
       "      <td>0.101200674024899</td>\n",
       "      <td>secondary</td>\n",
       "      <td>OnckenstraÃ?e</td>\n",
       "      <td>50</td>\n",
       "      <td>essen</td>\n",
       "      <td>1</td>\n",
       "      <td>35</td>\n",
       "      <td>6.9636047</td>\n",
       "      <td>51.4553474</td>\n",
       "    </tr>\n",
       "    <tr>\n",
       "      <th>3427</th>\n",
       "      <td>esss051n</td>\n",
       "      <td>0.213337636429666</td>\n",
       "      <td>0.200106699207643</td>\n",
       "      <td>secondary</td>\n",
       "      <td>Martin-Luther-StraÃ?e</td>\n",
       "      <td>50</td>\n",
       "      <td>essen</td>\n",
       "      <td>1</td>\n",
       "      <td>22</td>\n",
       "      <td>6.9830856</td>\n",
       "      <td>51.4523154</td>\n",
       "    </tr>\n",
       "    <tr>\n",
       "      <th>3428</th>\n",
       "      <td>esss051s</td>\n",
       "      <td>0.239900175441511</td>\n",
       "      <td>0.211331239427387</td>\n",
       "      <td>secondary</td>\n",
       "      <td>Martin-Luther-StraÃ?e</td>\n",
       "      <td>50</td>\n",
       "      <td>essen</td>\n",
       "      <td>1</td>\n",
       "      <td>23</td>\n",
       "      <td>6.9811222</td>\n",
       "      <td>51.4534453</td>\n",
       "    </tr>\n",
       "    <tr>\n",
       "      <th>3429</th>\n",
       "      <td>esss098n</td>\n",
       "      <td>0.535959233862689</td>\n",
       "      <td>0.057468413005246</td>\n",
       "      <td>tertiary</td>\n",
       "      <td>Huyssenallee</td>\n",
       "      <td>0</td>\n",
       "      <td>essen</td>\n",
       "      <td>1</td>\n",
       "      <td>33</td>\n",
       "      <td>7.0108116</td>\n",
       "      <td>51.4476301</td>\n",
       "    </tr>\n",
       "    <tr>\n",
       "      <th>3430</th>\n",
       "      <td>esss098s</td>\n",
       "      <td>0.523662719843988</td>\n",
       "      <td>0.457385664250931</td>\n",
       "      <td>tertiary</td>\n",
       "      <td>Huyssenallee</td>\n",
       "      <td>0</td>\n",
       "      <td>essen</td>\n",
       "      <td>1</td>\n",
       "      <td>32</td>\n",
       "      <td>7.0106104</td>\n",
       "      <td>51.4476117</td>\n",
       "    </tr>\n",
       "    <tr>\n",
       "      <th>3431</th>\n",
       "      <td>esss038w</td>\n",
       "      <td>0.521194548371616</td>\n",
       "      <td>0.344559636062558</td>\n",
       "      <td>secondary</td>\n",
       "      <td>HövelstraÃ?e</td>\n",
       "      <td>30</td>\n",
       "      <td>essen</td>\n",
       "      <td>1</td>\n",
       "      <td>36</td>\n",
       "      <td>7.0062894</td>\n",
       "      <td>51.4829798</td>\n",
       "    </tr>\n",
       "    <tr>\n",
       "      <th>3432</th>\n",
       "      <td>esss038o</td>\n",
       "      <td>0.52082130406342</td>\n",
       "      <td>0.167453171198902</td>\n",
       "      <td>secondary</td>\n",
       "      <td>HövelstraÃ?e</td>\n",
       "      <td>30</td>\n",
       "      <td>essen</td>\n",
       "      <td>1</td>\n",
       "      <td>37</td>\n",
       "      <td>7.0062599</td>\n",
       "      <td>51.4829163</td>\n",
       "    </tr>\n",
       "    <tr>\n",
       "      <th>3433</th>\n",
       "      <td>esss928w</td>\n",
       "      <td>0.281916443124158</td>\n",
       "      <td>0.262801469462305</td>\n",
       "      <td>tertiary</td>\n",
       "      <td>PferdebahnstraÃ?e</td>\n",
       "      <td>50</td>\n",
       "      <td>essen</td>\n",
       "      <td>1</td>\n",
       "      <td>19</td>\n",
       "      <td>6.9866341</td>\n",
       "      <td>51.4659391</td>\n",
       "    </tr>\n",
       "    <tr>\n",
       "      <th>3434</th>\n",
       "      <td>esss928o</td>\n",
       "      <td>0.780929294383722</td>\n",
       "      <td>0.764973259620456</td>\n",
       "      <td>tertiary</td>\n",
       "      <td>PferdebahnstraÃ?e</td>\n",
       "      <td>50</td>\n",
       "      <td>essen</td>\n",
       "      <td>1</td>\n",
       "      <td>18</td>\n",
       "      <td>6.9876507</td>\n",
       "      <td>51.4657921</td>\n",
       "    </tr>\n",
       "    <tr>\n",
       "      <th>3435</th>\n",
       "      <td>esss943o</td>\n",
       "      <td>0.265588435784305</td>\n",
       "      <td>0.228554854326057</td>\n",
       "      <td>secondary</td>\n",
       "      <td>Friedrich-Ebert-StraÃ?e</td>\n",
       "      <td>50</td>\n",
       "      <td>essen</td>\n",
       "      <td>1</td>\n",
       "      <td>1</td>\n",
       "      <td>7.0076171</td>\n",
       "      <td>51.4597211</td>\n",
       "    </tr>\n",
       "    <tr>\n",
       "      <th>3436</th>\n",
       "      <td>esss943w</td>\n",
       "      <td>0.267321505333357</td>\n",
       "      <td>0.137240302976475</td>\n",
       "      <td>secondary</td>\n",
       "      <td>Friedrich-Ebert-StraÃ?e</td>\n",
       "      <td>50</td>\n",
       "      <td>essen</td>\n",
       "      <td>1</td>\n",
       "      <td>0</td>\n",
       "      <td>7.0091003</td>\n",
       "      <td>51.460453</td>\n",
       "    </tr>\n",
       "    <tr>\n",
       "      <th>3437</th>\n",
       "      <td>esss052n</td>\n",
       "      <td>0.85716543129868</td>\n",
       "      <td>0.693453251745992</td>\n",
       "      <td>primary</td>\n",
       "      <td>Bottroper StraÃ?e</td>\n",
       "      <td>50</td>\n",
       "      <td>essen</td>\n",
       "      <td>1</td>\n",
       "      <td>16</td>\n",
       "      <td>6.9991654</td>\n",
       "      <td>51.4676452</td>\n",
       "    </tr>\n",
       "    <tr>\n",
       "      <th>3438</th>\n",
       "      <td>esss052s</td>\n",
       "      <td>0.840241249064382</td>\n",
       "      <td>0.135122853439649</td>\n",
       "      <td>primary</td>\n",
       "      <td>Bottroper StraÃ?e</td>\n",
       "      <td>50</td>\n",
       "      <td>essen</td>\n",
       "      <td>1</td>\n",
       "      <td>17</td>\n",
       "      <td>6.9991037</td>\n",
       "      <td>51.4675081</td>\n",
       "    </tr>\n",
       "    <tr>\n",
       "      <th>3439</th>\n",
       "      <td>ess101w</td>\n",
       "      <td>0.42693981525095</td>\n",
       "      <td>0.173308186964075</td>\n",
       "      <td>primary</td>\n",
       "      <td>Frillendorfer StraÃ?e</td>\n",
       "      <td>50</td>\n",
       "      <td>essen</td>\n",
       "      <td>1</td>\n",
       "      <td>31</td>\n",
       "      <td>7.0404607</td>\n",
       "      <td>51.4601087</td>\n",
       "    </tr>\n",
       "    <tr>\n",
       "      <th>3440</th>\n",
       "      <td>ess101o</td>\n",
       "      <td>0.413035356123105</td>\n",
       "      <td>0.348585492663662</td>\n",
       "      <td>primary</td>\n",
       "      <td>Frillendorfer StraÃ?e</td>\n",
       "      <td>50</td>\n",
       "      <td>essen</td>\n",
       "      <td>1</td>\n",
       "      <td>30</td>\n",
       "      <td>7.0388004</td>\n",
       "      <td>51.4598614</td>\n",
       "    </tr>\n",
       "  </tbody>\n",
       "</table>\n",
       "</div>"
      ],
      "text/plain": [
       "         detid             length                pos     fclass  \\\n",
       "3403  esss102n  0.510107252472063  0.488893175446213    primary   \n",
       "3404  esss102s  0.353923289079167  0.339990028920585    primary   \n",
       "3405  esss037n  0.392348392754351  0.378357280671117  secondary   \n",
       "3406  esss037s  0.145155071873586  0.126750133599844  secondary   \n",
       "3407  esss093n   0.32739391953105  0.234281399055499    primary   \n",
       "3408  esss093s   0.32024626466978  0.077262116010402    primary   \n",
       "3409  esss053n  0.704850874802381  0.415177609383656    primary   \n",
       "3410  esss053s  0.348624032096518  0.281231993659004    primary   \n",
       "3411  esss092n  0.300742179791684  0.224175679910793  secondary   \n",
       "3412  esss092s  0.313745557563303   0.26521624161373  secondary   \n",
       "3413  esss094s  0.604309045327114  0.366717805785441    primary   \n",
       "3414  esss094n  0.614473357282125  0.330820864155951    primary   \n",
       "3415  esss926o  0.192397776444305  0.161605681142512    primary   \n",
       "3416  esss926w  0.193303382746774  0.034445110046712    primary   \n",
       "3417  esss095n  0.388860218300086  0.210819312836519    primary   \n",
       "3418  esss095s  0.383595830948629  0.167459009837282    primary   \n",
       "3419  esss090n  0.462229134642388  0.284636856624246  secondary   \n",
       "3420  esss090s  0.442587084719399  0.150194541233045  secondary   \n",
       "3421  esss097o  0.452031816410734   0.43762843493151  secondary   \n",
       "3422  esss097w  0.452418738604049  0.206820905026112  secondary   \n",
       "3423  esss050n  0.217049967433416  0.194474926962937  secondary   \n",
       "3424  esss050s  0.362797734398895   0.31914041765512  secondary   \n",
       "3425  esss088s  0.395107654540115   0.25612982004692  secondary   \n",
       "3426  esss088n  0.375118037435422  0.101200674024899  secondary   \n",
       "3427  esss051n  0.213337636429666  0.200106699207643  secondary   \n",
       "3428  esss051s  0.239900175441511  0.211331239427387  secondary   \n",
       "3429  esss098n  0.535959233862689  0.057468413005246   tertiary   \n",
       "3430  esss098s  0.523662719843988  0.457385664250931   tertiary   \n",
       "3431  esss038w  0.521194548371616  0.344559636062558  secondary   \n",
       "3432  esss038o   0.52082130406342  0.167453171198902  secondary   \n",
       "3433  esss928w  0.281916443124158  0.262801469462305   tertiary   \n",
       "3434  esss928o  0.780929294383722  0.764973259620456   tertiary   \n",
       "3435  esss943o  0.265588435784305  0.228554854326057  secondary   \n",
       "3436  esss943w  0.267321505333357  0.137240302976475  secondary   \n",
       "3437  esss052n   0.85716543129868  0.693453251745992    primary   \n",
       "3438  esss052s  0.840241249064382  0.135122853439649    primary   \n",
       "3439   ess101w   0.42693981525095  0.173308186964075    primary   \n",
       "3440   ess101o  0.413035356123105  0.348585492663662    primary   \n",
       "\n",
       "                         road limit citycode lanes linkid       long  \\\n",
       "3403            HerzogstraÃ?e    50    essen     1     28  7.0280099   \n",
       "3404        Burggrafenstra??e    50    essen     1     29  7.0282593   \n",
       "3405            UnsuhrstraÃ?e    50    essen     1     26  7.0170692   \n",
       "3406        KarolingerstraÃ?e    50    essen     1     25  7.0174152   \n",
       "3407       Gladbecker StraÃ?e    50    essen     1      7  7.0088053   \n",
       "3408       Gladbecker StraÃ?e    50    essen     1      6  7.0086658   \n",
       "3409       Gladbecker StraÃ?e    50    essen     1     24  7.0069331   \n",
       "3410       Gladbecker StraÃ?e    50    essen     1     27  7.0040283   \n",
       "3411          SegerothstraÃ?e    50    essen     1      4  7.0028508   \n",
       "3412          SegerothstraÃ?e    50    essen     1      5  7.0032987   \n",
       "3413     Hans-Böckler-StraÃ?e    50    essen     1      8  6.9968399   \n",
       "3414     Hans-Böckler-StraÃ?e    50    essen     1      9  6.9968668   \n",
       "3415      Altendorfer StraÃ?e    50    essen     1     15  6.9915318   \n",
       "3416      Altendorfer StraÃ?e    50    essen     1     14  6.9917732   \n",
       "3417     Hans-Böckler-StraÃ?e    50    essen     1     11  6.9976714   \n",
       "3418     Hans-Böckler-StraÃ?e    50    essen     1     10  6.9975829   \n",
       "3419        HindenburgstraÃ?e    50    essen     1      3  7.0072362   \n",
       "3420        HindenburgstraÃ?e    50    essen     1      2  7.0070913   \n",
       "3421      Frohnhauser StraÃ?e    50    essen     1     13  6.9915909   \n",
       "3422      Frohnhauser StraÃ?e    50    essen     1     12  6.9942945   \n",
       "3423           HelenenstraÃ?e    50    essen     1     20  6.9821146   \n",
       "3424           HelenenstraÃ?e    50    essen     1     21  6.9817981   \n",
       "3425            OnckenstraÃ?e    50    essen     1     34   6.963425   \n",
       "3426            OnckenstraÃ?e    50    essen     1     35  6.9636047   \n",
       "3427    Martin-Luther-StraÃ?e    50    essen     1     22  6.9830856   \n",
       "3428    Martin-Luther-StraÃ?e    50    essen     1     23  6.9811222   \n",
       "3429             Huyssenallee     0    essen     1     33  7.0108116   \n",
       "3430             Huyssenallee     0    essen     1     32  7.0106104   \n",
       "3431             HövelstraÃ?e    30    essen     1     36  7.0062894   \n",
       "3432             HövelstraÃ?e    30    essen     1     37  7.0062599   \n",
       "3433        PferdebahnstraÃ?e    50    essen     1     19  6.9866341   \n",
       "3434        PferdebahnstraÃ?e    50    essen     1     18  6.9876507   \n",
       "3435  Friedrich-Ebert-StraÃ?e    50    essen     1      1  7.0076171   \n",
       "3436  Friedrich-Ebert-StraÃ?e    50    essen     1      0  7.0091003   \n",
       "3437        Bottroper StraÃ?e    50    essen     1     16  6.9991654   \n",
       "3438        Bottroper StraÃ?e    50    essen     1     17  6.9991037   \n",
       "3439    Frillendorfer StraÃ?e    50    essen     1     31  7.0404607   \n",
       "3440    Frillendorfer StraÃ?e    50    essen     1     30  7.0388004   \n",
       "\n",
       "             lat  \n",
       "3403  51.4635947  \n",
       "3404  51.4631502  \n",
       "3405  51.4716852  \n",
       "3406  51.4711172  \n",
       "3407  51.4660294  \n",
       "3408  51.4659976  \n",
       "3409  51.4723736  \n",
       "3410  51.4784612  \n",
       "3411  51.4630282  \n",
       "3412  51.4620456  \n",
       "3413  51.4623364  \n",
       "3414   51.461429  \n",
       "3415  51.4592799  \n",
       "3416   51.459452  \n",
       "3417  51.4567162  \n",
       "3418  51.4567162  \n",
       "3419  51.4532514  \n",
       "3420   51.453218  \n",
       "3421   51.454271  \n",
       "3422  51.4548125  \n",
       "3423  51.4640492  \n",
       "3424  51.4636148  \n",
       "3425  51.4553524  \n",
       "3426  51.4553474  \n",
       "3427  51.4523154  \n",
       "3428  51.4534453  \n",
       "3429  51.4476301  \n",
       "3430  51.4476117  \n",
       "3431  51.4829798  \n",
       "3432  51.4829163  \n",
       "3433  51.4659391  \n",
       "3434  51.4657921  \n",
       "3435  51.4597211  \n",
       "3436   51.460453  \n",
       "3437  51.4676452  \n",
       "3438  51.4675081  \n",
       "3439  51.4601087  \n",
       "3440  51.4598614  "
      ]
     },
     "execution_count": 48,
     "metadata": {},
     "output_type": "execute_result"
    }
   ],
   "source": [
    "nw = dict(list(geo.groupby('citycode')))['essen']\n",
    "nw"
   ]
  },
  {
   "cell_type": "code",
   "execution_count": 31,
   "id": "0deb4973",
   "metadata": {},
   "outputs": [
    {
     "data": {
      "text/html": [
       "<div>\n",
       "<style scoped>\n",
       "    .dataframe tbody tr th:only-of-type {\n",
       "        vertical-align: middle;\n",
       "    }\n",
       "\n",
       "    .dataframe tbody tr th {\n",
       "        vertical-align: top;\n",
       "    }\n",
       "\n",
       "    .dataframe thead th {\n",
       "        text-align: right;\n",
       "    }\n",
       "</style>\n",
       "<table border=\"1\" class=\"dataframe\">\n",
       "  <thead>\n",
       "    <tr style=\"text-align: right;\">\n",
       "      <th></th>\n",
       "      <th>long</th>\n",
       "      <th>lat</th>\n",
       "      <th>order</th>\n",
       "      <th>piece</th>\n",
       "      <th>linkid</th>\n",
       "      <th>group</th>\n",
       "      <th>citycode</th>\n",
       "    </tr>\n",
       "  </thead>\n",
       "  <tbody>\n",
       "    <tr>\n",
       "      <th>30249</th>\n",
       "      <td>7.028171</td>\n",
       "      <td>51.463433</td>\n",
       "      <td>1</td>\n",
       "      <td>1</td>\n",
       "      <td>28</td>\n",
       "      <td>28.1</td>\n",
       "      <td>essen</td>\n",
       "    </tr>\n",
       "    <tr>\n",
       "      <th>30250</th>\n",
       "      <td>7.027999</td>\n",
       "      <td>51.463616</td>\n",
       "      <td>2</td>\n",
       "      <td>1</td>\n",
       "      <td>28</td>\n",
       "      <td>28.1</td>\n",
       "      <td>essen</td>\n",
       "    </tr>\n",
       "    <tr>\n",
       "      <th>30251</th>\n",
       "      <td>7.027200</td>\n",
       "      <td>51.464375</td>\n",
       "      <td>3</td>\n",
       "      <td>1</td>\n",
       "      <td>28</td>\n",
       "      <td>28.1</td>\n",
       "      <td>essen</td>\n",
       "    </tr>\n",
       "    <tr>\n",
       "      <th>30252</th>\n",
       "      <td>7.026647</td>\n",
       "      <td>51.464937</td>\n",
       "      <td>4</td>\n",
       "      <td>1</td>\n",
       "      <td>28</td>\n",
       "      <td>28.1</td>\n",
       "      <td>essen</td>\n",
       "    </tr>\n",
       "    <tr>\n",
       "      <th>30253</th>\n",
       "      <td>7.026293</td>\n",
       "      <td>51.465378</td>\n",
       "      <td>5</td>\n",
       "      <td>1</td>\n",
       "      <td>28</td>\n",
       "      <td>28.1</td>\n",
       "      <td>essen</td>\n",
       "    </tr>\n",
       "    <tr>\n",
       "      <th>30254</th>\n",
       "      <td>7.025896</td>\n",
       "      <td>51.465933</td>\n",
       "      <td>6</td>\n",
       "      <td>1</td>\n",
       "      <td>28</td>\n",
       "      <td>28.1</td>\n",
       "      <td>essen</td>\n",
       "    </tr>\n",
       "    <tr>\n",
       "      <th>30255</th>\n",
       "      <td>7.025489</td>\n",
       "      <td>51.466654</td>\n",
       "      <td>7</td>\n",
       "      <td>1</td>\n",
       "      <td>28</td>\n",
       "      <td>28.1</td>\n",
       "      <td>essen</td>\n",
       "    </tr>\n",
       "    <tr>\n",
       "      <th>30256</th>\n",
       "      <td>7.025274</td>\n",
       "      <td>51.467025</td>\n",
       "      <td>8</td>\n",
       "      <td>1</td>\n",
       "      <td>28</td>\n",
       "      <td>28.1</td>\n",
       "      <td>essen</td>\n",
       "    </tr>\n",
       "    <tr>\n",
       "      <th>30257</th>\n",
       "      <td>7.025049</td>\n",
       "      <td>51.467393</td>\n",
       "      <td>9</td>\n",
       "      <td>1</td>\n",
       "      <td>28</td>\n",
       "      <td>28.1</td>\n",
       "      <td>essen</td>\n",
       "    </tr>\n",
       "    <tr>\n",
       "      <th>30258</th>\n",
       "      <td>7.024963</td>\n",
       "      <td>51.467533</td>\n",
       "      <td>10</td>\n",
       "      <td>1</td>\n",
       "      <td>28</td>\n",
       "      <td>28.1</td>\n",
       "      <td>essen</td>\n",
       "    </tr>\n",
       "  </tbody>\n",
       "</table>\n",
       "</div>"
      ],
      "text/plain": [
       "           long        lat  order  piece  linkid  group citycode\n",
       "30249  7.028171  51.463433      1      1      28   28.1    essen\n",
       "30250  7.027999  51.463616      2      1      28   28.1    essen\n",
       "30251  7.027200  51.464375      3      1      28   28.1    essen\n",
       "30252  7.026647  51.464937      4      1      28   28.1    essen\n",
       "30253  7.026293  51.465378      5      1      28   28.1    essen\n",
       "30254  7.025896  51.465933      6      1      28   28.1    essen\n",
       "30255  7.025489  51.466654      7      1      28   28.1    essen\n",
       "30256  7.025274  51.467025      8      1      28   28.1    essen\n",
       "30257  7.025049  51.467393      9      1      28   28.1    essen\n",
       "30258  7.024963  51.467533     10      1      28   28.1    essen"
      ]
     },
     "execution_count": 31,
     "metadata": {},
     "output_type": "execute_result"
    }
   ],
   "source": [
    "ns = dict(list(links.groupby('citycode')))['essen']\n",
    "dict(list(ns.groupby('linkid')))[28]"
   ]
  },
  {
   "cell_type": "code",
   "execution_count": 22,
   "id": "82f7abec",
   "metadata": {},
   "outputs": [
    {
     "data": {
      "text/html": [
       "<div>\n",
       "<style scoped>\n",
       "    .dataframe tbody tr th:only-of-type {\n",
       "        vertical-align: middle;\n",
       "    }\n",
       "\n",
       "    .dataframe tbody tr th {\n",
       "        vertical-align: top;\n",
       "    }\n",
       "\n",
       "    .dataframe thead th {\n",
       "        text-align: right;\n",
       "    }\n",
       "</style>\n",
       "<table border=\"1\" class=\"dataframe\">\n",
       "  <thead>\n",
       "    <tr style=\"text-align: right;\">\n",
       "      <th></th>\n",
       "      <th>long</th>\n",
       "      <th>lat</th>\n",
       "      <th>order</th>\n",
       "      <th>piece</th>\n",
       "      <th>linkid</th>\n",
       "      <th>group</th>\n",
       "      <th>citycode</th>\n",
       "    </tr>\n",
       "  </thead>\n",
       "  <tbody>\n",
       "    <tr>\n",
       "      <th>35351</th>\n",
       "      <td>11.387401</td>\n",
       "      <td>47.256964</td>\n",
       "      <td>1</td>\n",
       "      <td>1</td>\n",
       "      <td>0</td>\n",
       "      <td>0.1</td>\n",
       "      <td>innsbruck</td>\n",
       "    </tr>\n",
       "    <tr>\n",
       "      <th>35352</th>\n",
       "      <td>11.386793</td>\n",
       "      <td>47.257090</td>\n",
       "      <td>2</td>\n",
       "      <td>1</td>\n",
       "      <td>0</td>\n",
       "      <td>0.1</td>\n",
       "      <td>innsbruck</td>\n",
       "    </tr>\n",
       "    <tr>\n",
       "      <th>35353</th>\n",
       "      <td>11.385846</td>\n",
       "      <td>47.257181</td>\n",
       "      <td>3</td>\n",
       "      <td>1</td>\n",
       "      <td>0</td>\n",
       "      <td>0.1</td>\n",
       "      <td>innsbruck</td>\n",
       "    </tr>\n",
       "    <tr>\n",
       "      <th>35354</th>\n",
       "      <td>11.384545</td>\n",
       "      <td>47.257325</td>\n",
       "      <td>4</td>\n",
       "      <td>1</td>\n",
       "      <td>0</td>\n",
       "      <td>0.1</td>\n",
       "      <td>innsbruck</td>\n",
       "    </tr>\n",
       "    <tr>\n",
       "      <th>35355</th>\n",
       "      <td>11.383974</td>\n",
       "      <td>47.257383</td>\n",
       "      <td>5</td>\n",
       "      <td>1</td>\n",
       "      <td>0</td>\n",
       "      <td>0.1</td>\n",
       "      <td>innsbruck</td>\n",
       "    </tr>\n",
       "    <tr>\n",
       "      <th>35356</th>\n",
       "      <td>11.383523</td>\n",
       "      <td>47.257448</td>\n",
       "      <td>6</td>\n",
       "      <td>1</td>\n",
       "      <td>0</td>\n",
       "      <td>0.1</td>\n",
       "      <td>innsbruck</td>\n",
       "    </tr>\n",
       "    <tr>\n",
       "      <th>35357</th>\n",
       "      <td>11.383239</td>\n",
       "      <td>47.257516</td>\n",
       "      <td>7</td>\n",
       "      <td>1</td>\n",
       "      <td>0</td>\n",
       "      <td>0.1</td>\n",
       "      <td>innsbruck</td>\n",
       "    </tr>\n",
       "    <tr>\n",
       "      <th>35358</th>\n",
       "      <td>11.386962</td>\n",
       "      <td>47.257050</td>\n",
       "      <td>1</td>\n",
       "      <td>1</td>\n",
       "      <td>1</td>\n",
       "      <td>1.1</td>\n",
       "      <td>innsbruck</td>\n",
       "    </tr>\n",
       "    <tr>\n",
       "      <th>35359</th>\n",
       "      <td>11.386023</td>\n",
       "      <td>47.257079</td>\n",
       "      <td>2</td>\n",
       "      <td>1</td>\n",
       "      <td>1</td>\n",
       "      <td>1.1</td>\n",
       "      <td>innsbruck</td>\n",
       "    </tr>\n",
       "    <tr>\n",
       "      <th>35360</th>\n",
       "      <td>11.384636</td>\n",
       "      <td>47.257206</td>\n",
       "      <td>3</td>\n",
       "      <td>1</td>\n",
       "      <td>1</td>\n",
       "      <td>1.1</td>\n",
       "      <td>innsbruck</td>\n",
       "    </tr>\n",
       "    <tr>\n",
       "      <th>35361</th>\n",
       "      <td>11.384290</td>\n",
       "      <td>47.257244</td>\n",
       "      <td>4</td>\n",
       "      <td>1</td>\n",
       "      <td>1</td>\n",
       "      <td>1.1</td>\n",
       "      <td>innsbruck</td>\n",
       "    </tr>\n",
       "    <tr>\n",
       "      <th>35362</th>\n",
       "      <td>11.383826</td>\n",
       "      <td>47.257305</td>\n",
       "      <td>5</td>\n",
       "      <td>1</td>\n",
       "      <td>1</td>\n",
       "      <td>1.1</td>\n",
       "      <td>innsbruck</td>\n",
       "    </tr>\n",
       "    <tr>\n",
       "      <th>35363</th>\n",
       "      <td>11.383343</td>\n",
       "      <td>47.257274</td>\n",
       "      <td>6</td>\n",
       "      <td>1</td>\n",
       "      <td>1</td>\n",
       "      <td>1.1</td>\n",
       "      <td>innsbruck</td>\n",
       "    </tr>\n",
       "    <tr>\n",
       "      <th>35364</th>\n",
       "      <td>11.382796</td>\n",
       "      <td>47.257066</td>\n",
       "      <td>7</td>\n",
       "      <td>1</td>\n",
       "      <td>1</td>\n",
       "      <td>1.1</td>\n",
       "      <td>innsbruck</td>\n",
       "    </tr>\n",
       "    <tr>\n",
       "      <th>35365</th>\n",
       "      <td>11.382383</td>\n",
       "      <td>47.256766</td>\n",
       "      <td>8</td>\n",
       "      <td>1</td>\n",
       "      <td>1</td>\n",
       "      <td>1.1</td>\n",
       "      <td>innsbruck</td>\n",
       "    </tr>\n",
       "    <tr>\n",
       "      <th>35366</th>\n",
       "      <td>11.382061</td>\n",
       "      <td>47.256394</td>\n",
       "      <td>9</td>\n",
       "      <td>1</td>\n",
       "      <td>1</td>\n",
       "      <td>1.1</td>\n",
       "      <td>innsbruck</td>\n",
       "    </tr>\n",
       "    <tr>\n",
       "      <th>35367</th>\n",
       "      <td>11.381514</td>\n",
       "      <td>47.255715</td>\n",
       "      <td>10</td>\n",
       "      <td>1</td>\n",
       "      <td>1</td>\n",
       "      <td>1.1</td>\n",
       "      <td>innsbruck</td>\n",
       "    </tr>\n",
       "    <tr>\n",
       "      <th>35368</th>\n",
       "      <td>11.381082</td>\n",
       "      <td>47.255229</td>\n",
       "      <td>11</td>\n",
       "      <td>1</td>\n",
       "      <td>1</td>\n",
       "      <td>1.1</td>\n",
       "      <td>innsbruck</td>\n",
       "    </tr>\n",
       "    <tr>\n",
       "      <th>35369</th>\n",
       "      <td>11.380771</td>\n",
       "      <td>47.255084</td>\n",
       "      <td>12</td>\n",
       "      <td>1</td>\n",
       "      <td>1</td>\n",
       "      <td>1.1</td>\n",
       "      <td>innsbruck</td>\n",
       "    </tr>\n",
       "    <tr>\n",
       "      <th>35370</th>\n",
       "      <td>11.379577</td>\n",
       "      <td>47.254783</td>\n",
       "      <td>13</td>\n",
       "      <td>1</td>\n",
       "      <td>1</td>\n",
       "      <td>1.1</td>\n",
       "      <td>innsbruck</td>\n",
       "    </tr>\n",
       "  </tbody>\n",
       "</table>\n",
       "</div>"
      ],
      "text/plain": [
       "            long        lat  order  piece  linkid  group   citycode\n",
       "35351  11.387401  47.256964      1      1       0    0.1  innsbruck\n",
       "35352  11.386793  47.257090      2      1       0    0.1  innsbruck\n",
       "35353  11.385846  47.257181      3      1       0    0.1  innsbruck\n",
       "35354  11.384545  47.257325      4      1       0    0.1  innsbruck\n",
       "35355  11.383974  47.257383      5      1       0    0.1  innsbruck\n",
       "35356  11.383523  47.257448      6      1       0    0.1  innsbruck\n",
       "35357  11.383239  47.257516      7      1       0    0.1  innsbruck\n",
       "35358  11.386962  47.257050      1      1       1    1.1  innsbruck\n",
       "35359  11.386023  47.257079      2      1       1    1.1  innsbruck\n",
       "35360  11.384636  47.257206      3      1       1    1.1  innsbruck\n",
       "35361  11.384290  47.257244      4      1       1    1.1  innsbruck\n",
       "35362  11.383826  47.257305      5      1       1    1.1  innsbruck\n",
       "35363  11.383343  47.257274      6      1       1    1.1  innsbruck\n",
       "35364  11.382796  47.257066      7      1       1    1.1  innsbruck\n",
       "35365  11.382383  47.256766      8      1       1    1.1  innsbruck\n",
       "35366  11.382061  47.256394      9      1       1    1.1  innsbruck\n",
       "35367  11.381514  47.255715     10      1       1    1.1  innsbruck\n",
       "35368  11.381082  47.255229     11      1       1    1.1  innsbruck\n",
       "35369  11.380771  47.255084     12      1       1    1.1  innsbruck\n",
       "35370  11.379577  47.254783     13      1       1    1.1  innsbruck"
      ]
     },
     "execution_count": 22,
     "metadata": {},
     "output_type": "execute_result"
    }
   ],
   "source": [
    "dict(list(links.groupby('citycode')))['innsbruck'].head(20)"
   ]
  },
  {
   "cell_type": "code",
   "execution_count": 24,
   "id": "f06bcb18",
   "metadata": {
    "scrolled": false
   },
   "outputs": [
    {
     "data": {
      "application/vnd.plotly.v1+json": {
       "config": {
        "plotlyServerURL": "https://plot.ly"
       },
       "data": [
        {
         "hovertemplate": "<b>%{hovertext}</b><br><br>lat=%{lat}<br>long=%{lon}<extra></extra>",
         "hovertext": [
          "esss102n",
          "esss102s",
          "esss037n",
          "esss037s",
          "esss093n",
          "esss093s",
          "esss053n",
          "esss053s",
          "esss092n",
          "esss092s",
          "esss094s",
          "esss094n",
          "esss926o",
          "esss926w",
          "esss095n",
          "esss095s",
          "esss090n",
          "esss090s",
          "esss097o",
          "esss097w",
          "esss050n",
          "esss050s",
          "esss088s",
          "esss088n",
          "esss051n",
          "esss051s",
          "esss098n",
          "esss098s",
          "esss038w",
          "esss038o",
          "esss928w",
          "esss928o",
          "esss943o",
          "esss943w",
          "esss052n",
          "esss052s",
          "ess101w",
          "ess101o"
         ],
         "lat": [
          51.4635947,
          51.4631502,
          51.4716852,
          51.4711172,
          51.4660294,
          51.4659976,
          51.4723736,
          51.4784612,
          51.4630282,
          51.4620456,
          51.4623364,
          51.461429,
          51.4592799,
          51.459452,
          51.4567162,
          51.4567162,
          51.4532514,
          51.453218,
          51.454271,
          51.4548125,
          51.4640492,
          51.4636148,
          51.4553524,
          51.4553474,
          51.4523154,
          51.4534453,
          51.4476301,
          51.4476117,
          51.4829798,
          51.4829163,
          51.4659391,
          51.4657921,
          51.4597211,
          51.460453,
          51.4676452,
          51.4675081,
          51.4601087,
          51.4598614
         ],
         "legendgroup": "",
         "lon": [
          7.0280099,
          7.0282593,
          7.0170692,
          7.0174152,
          7.0088053,
          7.0086658,
          7.0069331,
          7.0040283,
          7.0028508,
          7.0032987,
          6.9968399,
          6.9968668,
          6.9915318,
          6.9917732,
          6.9976714,
          6.9975829,
          7.0072362,
          7.0070913,
          6.9915909,
          6.9942945,
          6.9821146,
          6.9817981,
          6.963425,
          6.9636047,
          6.9830856,
          6.9811222,
          7.0108116,
          7.0106104,
          7.0062894,
          7.0062599,
          6.9866341,
          6.9876507,
          7.0076171,
          7.0091003,
          6.9991654,
          6.9991037,
          7.0404607,
          7.0388004
         ],
         "marker": {
          "color": "#636efa"
         },
         "mode": "markers",
         "name": "",
         "showlegend": false,
         "subplot": "mapbox",
         "type": "scattermapbox"
        }
       ],
       "layout": {
        "legend": {
         "tracegroupgap": 0
        },
        "mapbox": {
         "center": {
          "lat": 51.46213833157895,
          "lon": 7.001459694736842
         },
         "domain": {
          "x": [
           0,
           1
          ],
          "y": [
           0,
           1
          ]
         },
         "style": "open-street-map",
         "zoom": 8
        },
        "margin": {
         "t": 60
        },
        "template": {
         "data": {
          "bar": [
           {
            "error_x": {
             "color": "#2a3f5f"
            },
            "error_y": {
             "color": "#2a3f5f"
            },
            "marker": {
             "line": {
              "color": "#E5ECF6",
              "width": 0.5
             },
             "pattern": {
              "fillmode": "overlay",
              "size": 10,
              "solidity": 0.2
             }
            },
            "type": "bar"
           }
          ],
          "barpolar": [
           {
            "marker": {
             "line": {
              "color": "#E5ECF6",
              "width": 0.5
             },
             "pattern": {
              "fillmode": "overlay",
              "size": 10,
              "solidity": 0.2
             }
            },
            "type": "barpolar"
           }
          ],
          "carpet": [
           {
            "aaxis": {
             "endlinecolor": "#2a3f5f",
             "gridcolor": "white",
             "linecolor": "white",
             "minorgridcolor": "white",
             "startlinecolor": "#2a3f5f"
            },
            "baxis": {
             "endlinecolor": "#2a3f5f",
             "gridcolor": "white",
             "linecolor": "white",
             "minorgridcolor": "white",
             "startlinecolor": "#2a3f5f"
            },
            "type": "carpet"
           }
          ],
          "choropleth": [
           {
            "colorbar": {
             "outlinewidth": 0,
             "ticks": ""
            },
            "type": "choropleth"
           }
          ],
          "contour": [
           {
            "colorbar": {
             "outlinewidth": 0,
             "ticks": ""
            },
            "colorscale": [
             [
              0,
              "#0d0887"
             ],
             [
              0.1111111111111111,
              "#46039f"
             ],
             [
              0.2222222222222222,
              "#7201a8"
             ],
             [
              0.3333333333333333,
              "#9c179e"
             ],
             [
              0.4444444444444444,
              "#bd3786"
             ],
             [
              0.5555555555555556,
              "#d8576b"
             ],
             [
              0.6666666666666666,
              "#ed7953"
             ],
             [
              0.7777777777777778,
              "#fb9f3a"
             ],
             [
              0.8888888888888888,
              "#fdca26"
             ],
             [
              1,
              "#f0f921"
             ]
            ],
            "type": "contour"
           }
          ],
          "contourcarpet": [
           {
            "colorbar": {
             "outlinewidth": 0,
             "ticks": ""
            },
            "type": "contourcarpet"
           }
          ],
          "heatmap": [
           {
            "colorbar": {
             "outlinewidth": 0,
             "ticks": ""
            },
            "colorscale": [
             [
              0,
              "#0d0887"
             ],
             [
              0.1111111111111111,
              "#46039f"
             ],
             [
              0.2222222222222222,
              "#7201a8"
             ],
             [
              0.3333333333333333,
              "#9c179e"
             ],
             [
              0.4444444444444444,
              "#bd3786"
             ],
             [
              0.5555555555555556,
              "#d8576b"
             ],
             [
              0.6666666666666666,
              "#ed7953"
             ],
             [
              0.7777777777777778,
              "#fb9f3a"
             ],
             [
              0.8888888888888888,
              "#fdca26"
             ],
             [
              1,
              "#f0f921"
             ]
            ],
            "type": "heatmap"
           }
          ],
          "heatmapgl": [
           {
            "colorbar": {
             "outlinewidth": 0,
             "ticks": ""
            },
            "colorscale": [
             [
              0,
              "#0d0887"
             ],
             [
              0.1111111111111111,
              "#46039f"
             ],
             [
              0.2222222222222222,
              "#7201a8"
             ],
             [
              0.3333333333333333,
              "#9c179e"
             ],
             [
              0.4444444444444444,
              "#bd3786"
             ],
             [
              0.5555555555555556,
              "#d8576b"
             ],
             [
              0.6666666666666666,
              "#ed7953"
             ],
             [
              0.7777777777777778,
              "#fb9f3a"
             ],
             [
              0.8888888888888888,
              "#fdca26"
             ],
             [
              1,
              "#f0f921"
             ]
            ],
            "type": "heatmapgl"
           }
          ],
          "histogram": [
           {
            "marker": {
             "pattern": {
              "fillmode": "overlay",
              "size": 10,
              "solidity": 0.2
             }
            },
            "type": "histogram"
           }
          ],
          "histogram2d": [
           {
            "colorbar": {
             "outlinewidth": 0,
             "ticks": ""
            },
            "colorscale": [
             [
              0,
              "#0d0887"
             ],
             [
              0.1111111111111111,
              "#46039f"
             ],
             [
              0.2222222222222222,
              "#7201a8"
             ],
             [
              0.3333333333333333,
              "#9c179e"
             ],
             [
              0.4444444444444444,
              "#bd3786"
             ],
             [
              0.5555555555555556,
              "#d8576b"
             ],
             [
              0.6666666666666666,
              "#ed7953"
             ],
             [
              0.7777777777777778,
              "#fb9f3a"
             ],
             [
              0.8888888888888888,
              "#fdca26"
             ],
             [
              1,
              "#f0f921"
             ]
            ],
            "type": "histogram2d"
           }
          ],
          "histogram2dcontour": [
           {
            "colorbar": {
             "outlinewidth": 0,
             "ticks": ""
            },
            "colorscale": [
             [
              0,
              "#0d0887"
             ],
             [
              0.1111111111111111,
              "#46039f"
             ],
             [
              0.2222222222222222,
              "#7201a8"
             ],
             [
              0.3333333333333333,
              "#9c179e"
             ],
             [
              0.4444444444444444,
              "#bd3786"
             ],
             [
              0.5555555555555556,
              "#d8576b"
             ],
             [
              0.6666666666666666,
              "#ed7953"
             ],
             [
              0.7777777777777778,
              "#fb9f3a"
             ],
             [
              0.8888888888888888,
              "#fdca26"
             ],
             [
              1,
              "#f0f921"
             ]
            ],
            "type": "histogram2dcontour"
           }
          ],
          "mesh3d": [
           {
            "colorbar": {
             "outlinewidth": 0,
             "ticks": ""
            },
            "type": "mesh3d"
           }
          ],
          "parcoords": [
           {
            "line": {
             "colorbar": {
              "outlinewidth": 0,
              "ticks": ""
             }
            },
            "type": "parcoords"
           }
          ],
          "pie": [
           {
            "automargin": true,
            "type": "pie"
           }
          ],
          "scatter": [
           {
            "fillpattern": {
             "fillmode": "overlay",
             "size": 10,
             "solidity": 0.2
            },
            "type": "scatter"
           }
          ],
          "scatter3d": [
           {
            "line": {
             "colorbar": {
              "outlinewidth": 0,
              "ticks": ""
             }
            },
            "marker": {
             "colorbar": {
              "outlinewidth": 0,
              "ticks": ""
             }
            },
            "type": "scatter3d"
           }
          ],
          "scattercarpet": [
           {
            "marker": {
             "colorbar": {
              "outlinewidth": 0,
              "ticks": ""
             }
            },
            "type": "scattercarpet"
           }
          ],
          "scattergeo": [
           {
            "marker": {
             "colorbar": {
              "outlinewidth": 0,
              "ticks": ""
             }
            },
            "type": "scattergeo"
           }
          ],
          "scattergl": [
           {
            "marker": {
             "colorbar": {
              "outlinewidth": 0,
              "ticks": ""
             }
            },
            "type": "scattergl"
           }
          ],
          "scattermapbox": [
           {
            "marker": {
             "colorbar": {
              "outlinewidth": 0,
              "ticks": ""
             }
            },
            "type": "scattermapbox"
           }
          ],
          "scatterpolar": [
           {
            "marker": {
             "colorbar": {
              "outlinewidth": 0,
              "ticks": ""
             }
            },
            "type": "scatterpolar"
           }
          ],
          "scatterpolargl": [
           {
            "marker": {
             "colorbar": {
              "outlinewidth": 0,
              "ticks": ""
             }
            },
            "type": "scatterpolargl"
           }
          ],
          "scatterternary": [
           {
            "marker": {
             "colorbar": {
              "outlinewidth": 0,
              "ticks": ""
             }
            },
            "type": "scatterternary"
           }
          ],
          "surface": [
           {
            "colorbar": {
             "outlinewidth": 0,
             "ticks": ""
            },
            "colorscale": [
             [
              0,
              "#0d0887"
             ],
             [
              0.1111111111111111,
              "#46039f"
             ],
             [
              0.2222222222222222,
              "#7201a8"
             ],
             [
              0.3333333333333333,
              "#9c179e"
             ],
             [
              0.4444444444444444,
              "#bd3786"
             ],
             [
              0.5555555555555556,
              "#d8576b"
             ],
             [
              0.6666666666666666,
              "#ed7953"
             ],
             [
              0.7777777777777778,
              "#fb9f3a"
             ],
             [
              0.8888888888888888,
              "#fdca26"
             ],
             [
              1,
              "#f0f921"
             ]
            ],
            "type": "surface"
           }
          ],
          "table": [
           {
            "cells": {
             "fill": {
              "color": "#EBF0F8"
             },
             "line": {
              "color": "white"
             }
            },
            "header": {
             "fill": {
              "color": "#C8D4E3"
             },
             "line": {
              "color": "white"
             }
            },
            "type": "table"
           }
          ]
         },
         "layout": {
          "annotationdefaults": {
           "arrowcolor": "#2a3f5f",
           "arrowhead": 0,
           "arrowwidth": 1
          },
          "autotypenumbers": "strict",
          "coloraxis": {
           "colorbar": {
            "outlinewidth": 0,
            "ticks": ""
           }
          },
          "colorscale": {
           "diverging": [
            [
             0,
             "#8e0152"
            ],
            [
             0.1,
             "#c51b7d"
            ],
            [
             0.2,
             "#de77ae"
            ],
            [
             0.3,
             "#f1b6da"
            ],
            [
             0.4,
             "#fde0ef"
            ],
            [
             0.5,
             "#f7f7f7"
            ],
            [
             0.6,
             "#e6f5d0"
            ],
            [
             0.7,
             "#b8e186"
            ],
            [
             0.8,
             "#7fbc41"
            ],
            [
             0.9,
             "#4d9221"
            ],
            [
             1,
             "#276419"
            ]
           ],
           "sequential": [
            [
             0,
             "#0d0887"
            ],
            [
             0.1111111111111111,
             "#46039f"
            ],
            [
             0.2222222222222222,
             "#7201a8"
            ],
            [
             0.3333333333333333,
             "#9c179e"
            ],
            [
             0.4444444444444444,
             "#bd3786"
            ],
            [
             0.5555555555555556,
             "#d8576b"
            ],
            [
             0.6666666666666666,
             "#ed7953"
            ],
            [
             0.7777777777777778,
             "#fb9f3a"
            ],
            [
             0.8888888888888888,
             "#fdca26"
            ],
            [
             1,
             "#f0f921"
            ]
           ],
           "sequentialminus": [
            [
             0,
             "#0d0887"
            ],
            [
             0.1111111111111111,
             "#46039f"
            ],
            [
             0.2222222222222222,
             "#7201a8"
            ],
            [
             0.3333333333333333,
             "#9c179e"
            ],
            [
             0.4444444444444444,
             "#bd3786"
            ],
            [
             0.5555555555555556,
             "#d8576b"
            ],
            [
             0.6666666666666666,
             "#ed7953"
            ],
            [
             0.7777777777777778,
             "#fb9f3a"
            ],
            [
             0.8888888888888888,
             "#fdca26"
            ],
            [
             1,
             "#f0f921"
            ]
           ]
          },
          "colorway": [
           "#636efa",
           "#EF553B",
           "#00cc96",
           "#ab63fa",
           "#FFA15A",
           "#19d3f3",
           "#FF6692",
           "#B6E880",
           "#FF97FF",
           "#FECB52"
          ],
          "font": {
           "color": "#2a3f5f"
          },
          "geo": {
           "bgcolor": "white",
           "lakecolor": "white",
           "landcolor": "#E5ECF6",
           "showlakes": true,
           "showland": true,
           "subunitcolor": "white"
          },
          "hoverlabel": {
           "align": "left"
          },
          "hovermode": "closest",
          "mapbox": {
           "style": "light"
          },
          "paper_bgcolor": "white",
          "plot_bgcolor": "#E5ECF6",
          "polar": {
           "angularaxis": {
            "gridcolor": "white",
            "linecolor": "white",
            "ticks": ""
           },
           "bgcolor": "#E5ECF6",
           "radialaxis": {
            "gridcolor": "white",
            "linecolor": "white",
            "ticks": ""
           }
          },
          "scene": {
           "xaxis": {
            "backgroundcolor": "#E5ECF6",
            "gridcolor": "white",
            "gridwidth": 2,
            "linecolor": "white",
            "showbackground": true,
            "ticks": "",
            "zerolinecolor": "white"
           },
           "yaxis": {
            "backgroundcolor": "#E5ECF6",
            "gridcolor": "white",
            "gridwidth": 2,
            "linecolor": "white",
            "showbackground": true,
            "ticks": "",
            "zerolinecolor": "white"
           },
           "zaxis": {
            "backgroundcolor": "#E5ECF6",
            "gridcolor": "white",
            "gridwidth": 2,
            "linecolor": "white",
            "showbackground": true,
            "ticks": "",
            "zerolinecolor": "white"
           }
          },
          "shapedefaults": {
           "line": {
            "color": "#2a3f5f"
           }
          },
          "ternary": {
           "aaxis": {
            "gridcolor": "white",
            "linecolor": "white",
            "ticks": ""
           },
           "baxis": {
            "gridcolor": "white",
            "linecolor": "white",
            "ticks": ""
           },
           "bgcolor": "#E5ECF6",
           "caxis": {
            "gridcolor": "white",
            "linecolor": "white",
            "ticks": ""
           }
          },
          "title": {
           "x": 0.05
          },
          "xaxis": {
           "automargin": true,
           "gridcolor": "white",
           "linecolor": "white",
           "ticks": "",
           "title": {
            "standoff": 15
           },
           "zerolinecolor": "white",
           "zerolinewidth": 2
          },
          "yaxis": {
           "automargin": true,
           "gridcolor": "white",
           "linecolor": "white",
           "ticks": "",
           "title": {
            "standoff": 15
           },
           "zerolinecolor": "white",
           "zerolinewidth": 2
          }
         }
        }
       }
      },
      "text/html": [
       "<div>                            <div id=\"77993b85-89eb-42f1-9a38-728eb5384ebb\" class=\"plotly-graph-div\" style=\"height:525px; width:100%;\"></div>            <script type=\"text/javascript\">                require([\"plotly\"], function(Plotly) {                    window.PLOTLYENV=window.PLOTLYENV || {};                                    if (document.getElementById(\"77993b85-89eb-42f1-9a38-728eb5384ebb\")) {                    Plotly.newPlot(                        \"77993b85-89eb-42f1-9a38-728eb5384ebb\",                        [{\"hovertemplate\":\"<b>%{hovertext}</b><br><br>lat=%{lat}<br>long=%{lon}<extra></extra>\",\"hovertext\":[\"esss102n\",\"esss102s\",\"esss037n\",\"esss037s\",\"esss093n\",\"esss093s\",\"esss053n\",\"esss053s\",\"esss092n\",\"esss092s\",\"esss094s\",\"esss094n\",\"esss926o\",\"esss926w\",\"esss095n\",\"esss095s\",\"esss090n\",\"esss090s\",\"esss097o\",\"esss097w\",\"esss050n\",\"esss050s\",\"esss088s\",\"esss088n\",\"esss051n\",\"esss051s\",\"esss098n\",\"esss098s\",\"esss038w\",\"esss038o\",\"esss928w\",\"esss928o\",\"esss943o\",\"esss943w\",\"esss052n\",\"esss052s\",\"ess101w\",\"ess101o\"],\"lat\":[51.4635947,51.4631502,51.4716852,51.4711172,51.4660294,51.4659976,51.4723736,51.4784612,51.4630282,51.4620456,51.4623364,51.461429,51.4592799,51.459452,51.4567162,51.4567162,51.4532514,51.453218,51.454271,51.4548125,51.4640492,51.4636148,51.4553524,51.4553474,51.4523154,51.4534453,51.4476301,51.4476117,51.4829798,51.4829163,51.4659391,51.4657921,51.4597211,51.460453,51.4676452,51.4675081,51.4601087,51.4598614],\"legendgroup\":\"\",\"lon\":[7.0280099,7.0282593,7.0170692,7.0174152,7.0088053,7.0086658,7.0069331,7.0040283,7.0028508,7.0032987,6.9968399,6.9968668,6.9915318,6.9917732,6.9976714,6.9975829,7.0072362,7.0070913,6.9915909,6.9942945,6.9821146,6.9817981,6.963425,6.9636047,6.9830856,6.9811222,7.0108116,7.0106104,7.0062894,7.0062599,6.9866341,6.9876507,7.0076171,7.0091003,6.9991654,6.9991037,7.0404607,7.0388004],\"marker\":{\"color\":\"#636efa\"},\"mode\":\"markers\",\"name\":\"\",\"showlegend\":false,\"subplot\":\"mapbox\",\"type\":\"scattermapbox\"}],                        {\"template\":{\"data\":{\"histogram2dcontour\":[{\"type\":\"histogram2dcontour\",\"colorbar\":{\"outlinewidth\":0,\"ticks\":\"\"},\"colorscale\":[[0.0,\"#0d0887\"],[0.1111111111111111,\"#46039f\"],[0.2222222222222222,\"#7201a8\"],[0.3333333333333333,\"#9c179e\"],[0.4444444444444444,\"#bd3786\"],[0.5555555555555556,\"#d8576b\"],[0.6666666666666666,\"#ed7953\"],[0.7777777777777778,\"#fb9f3a\"],[0.8888888888888888,\"#fdca26\"],[1.0,\"#f0f921\"]]}],\"choropleth\":[{\"type\":\"choropleth\",\"colorbar\":{\"outlinewidth\":0,\"ticks\":\"\"}}],\"histogram2d\":[{\"type\":\"histogram2d\",\"colorbar\":{\"outlinewidth\":0,\"ticks\":\"\"},\"colorscale\":[[0.0,\"#0d0887\"],[0.1111111111111111,\"#46039f\"],[0.2222222222222222,\"#7201a8\"],[0.3333333333333333,\"#9c179e\"],[0.4444444444444444,\"#bd3786\"],[0.5555555555555556,\"#d8576b\"],[0.6666666666666666,\"#ed7953\"],[0.7777777777777778,\"#fb9f3a\"],[0.8888888888888888,\"#fdca26\"],[1.0,\"#f0f921\"]]}],\"heatmap\":[{\"type\":\"heatmap\",\"colorbar\":{\"outlinewidth\":0,\"ticks\":\"\"},\"colorscale\":[[0.0,\"#0d0887\"],[0.1111111111111111,\"#46039f\"],[0.2222222222222222,\"#7201a8\"],[0.3333333333333333,\"#9c179e\"],[0.4444444444444444,\"#bd3786\"],[0.5555555555555556,\"#d8576b\"],[0.6666666666666666,\"#ed7953\"],[0.7777777777777778,\"#fb9f3a\"],[0.8888888888888888,\"#fdca26\"],[1.0,\"#f0f921\"]]}],\"heatmapgl\":[{\"type\":\"heatmapgl\",\"colorbar\":{\"outlinewidth\":0,\"ticks\":\"\"},\"colorscale\":[[0.0,\"#0d0887\"],[0.1111111111111111,\"#46039f\"],[0.2222222222222222,\"#7201a8\"],[0.3333333333333333,\"#9c179e\"],[0.4444444444444444,\"#bd3786\"],[0.5555555555555556,\"#d8576b\"],[0.6666666666666666,\"#ed7953\"],[0.7777777777777778,\"#fb9f3a\"],[0.8888888888888888,\"#fdca26\"],[1.0,\"#f0f921\"]]}],\"contourcarpet\":[{\"type\":\"contourcarpet\",\"colorbar\":{\"outlinewidth\":0,\"ticks\":\"\"}}],\"contour\":[{\"type\":\"contour\",\"colorbar\":{\"outlinewidth\":0,\"ticks\":\"\"},\"colorscale\":[[0.0,\"#0d0887\"],[0.1111111111111111,\"#46039f\"],[0.2222222222222222,\"#7201a8\"],[0.3333333333333333,\"#9c179e\"],[0.4444444444444444,\"#bd3786\"],[0.5555555555555556,\"#d8576b\"],[0.6666666666666666,\"#ed7953\"],[0.7777777777777778,\"#fb9f3a\"],[0.8888888888888888,\"#fdca26\"],[1.0,\"#f0f921\"]]}],\"surface\":[{\"type\":\"surface\",\"colorbar\":{\"outlinewidth\":0,\"ticks\":\"\"},\"colorscale\":[[0.0,\"#0d0887\"],[0.1111111111111111,\"#46039f\"],[0.2222222222222222,\"#7201a8\"],[0.3333333333333333,\"#9c179e\"],[0.4444444444444444,\"#bd3786\"],[0.5555555555555556,\"#d8576b\"],[0.6666666666666666,\"#ed7953\"],[0.7777777777777778,\"#fb9f3a\"],[0.8888888888888888,\"#fdca26\"],[1.0,\"#f0f921\"]]}],\"mesh3d\":[{\"type\":\"mesh3d\",\"colorbar\":{\"outlinewidth\":0,\"ticks\":\"\"}}],\"scatter\":[{\"fillpattern\":{\"fillmode\":\"overlay\",\"size\":10,\"solidity\":0.2},\"type\":\"scatter\"}],\"parcoords\":[{\"type\":\"parcoords\",\"line\":{\"colorbar\":{\"outlinewidth\":0,\"ticks\":\"\"}}}],\"scatterpolargl\":[{\"type\":\"scatterpolargl\",\"marker\":{\"colorbar\":{\"outlinewidth\":0,\"ticks\":\"\"}}}],\"bar\":[{\"error_x\":{\"color\":\"#2a3f5f\"},\"error_y\":{\"color\":\"#2a3f5f\"},\"marker\":{\"line\":{\"color\":\"#E5ECF6\",\"width\":0.5},\"pattern\":{\"fillmode\":\"overlay\",\"size\":10,\"solidity\":0.2}},\"type\":\"bar\"}],\"scattergeo\":[{\"type\":\"scattergeo\",\"marker\":{\"colorbar\":{\"outlinewidth\":0,\"ticks\":\"\"}}}],\"scatterpolar\":[{\"type\":\"scatterpolar\",\"marker\":{\"colorbar\":{\"outlinewidth\":0,\"ticks\":\"\"}}}],\"histogram\":[{\"marker\":{\"pattern\":{\"fillmode\":\"overlay\",\"size\":10,\"solidity\":0.2}},\"type\":\"histogram\"}],\"scattergl\":[{\"type\":\"scattergl\",\"marker\":{\"colorbar\":{\"outlinewidth\":0,\"ticks\":\"\"}}}],\"scatter3d\":[{\"type\":\"scatter3d\",\"line\":{\"colorbar\":{\"outlinewidth\":0,\"ticks\":\"\"}},\"marker\":{\"colorbar\":{\"outlinewidth\":0,\"ticks\":\"\"}}}],\"scattermapbox\":[{\"type\":\"scattermapbox\",\"marker\":{\"colorbar\":{\"outlinewidth\":0,\"ticks\":\"\"}}}],\"scatterternary\":[{\"type\":\"scatterternary\",\"marker\":{\"colorbar\":{\"outlinewidth\":0,\"ticks\":\"\"}}}],\"scattercarpet\":[{\"type\":\"scattercarpet\",\"marker\":{\"colorbar\":{\"outlinewidth\":0,\"ticks\":\"\"}}}],\"carpet\":[{\"aaxis\":{\"endlinecolor\":\"#2a3f5f\",\"gridcolor\":\"white\",\"linecolor\":\"white\",\"minorgridcolor\":\"white\",\"startlinecolor\":\"#2a3f5f\"},\"baxis\":{\"endlinecolor\":\"#2a3f5f\",\"gridcolor\":\"white\",\"linecolor\":\"white\",\"minorgridcolor\":\"white\",\"startlinecolor\":\"#2a3f5f\"},\"type\":\"carpet\"}],\"table\":[{\"cells\":{\"fill\":{\"color\":\"#EBF0F8\"},\"line\":{\"color\":\"white\"}},\"header\":{\"fill\":{\"color\":\"#C8D4E3\"},\"line\":{\"color\":\"white\"}},\"type\":\"table\"}],\"barpolar\":[{\"marker\":{\"line\":{\"color\":\"#E5ECF6\",\"width\":0.5},\"pattern\":{\"fillmode\":\"overlay\",\"size\":10,\"solidity\":0.2}},\"type\":\"barpolar\"}],\"pie\":[{\"automargin\":true,\"type\":\"pie\"}]},\"layout\":{\"autotypenumbers\":\"strict\",\"colorway\":[\"#636efa\",\"#EF553B\",\"#00cc96\",\"#ab63fa\",\"#FFA15A\",\"#19d3f3\",\"#FF6692\",\"#B6E880\",\"#FF97FF\",\"#FECB52\"],\"font\":{\"color\":\"#2a3f5f\"},\"hovermode\":\"closest\",\"hoverlabel\":{\"align\":\"left\"},\"paper_bgcolor\":\"white\",\"plot_bgcolor\":\"#E5ECF6\",\"polar\":{\"bgcolor\":\"#E5ECF6\",\"angularaxis\":{\"gridcolor\":\"white\",\"linecolor\":\"white\",\"ticks\":\"\"},\"radialaxis\":{\"gridcolor\":\"white\",\"linecolor\":\"white\",\"ticks\":\"\"}},\"ternary\":{\"bgcolor\":\"#E5ECF6\",\"aaxis\":{\"gridcolor\":\"white\",\"linecolor\":\"white\",\"ticks\":\"\"},\"baxis\":{\"gridcolor\":\"white\",\"linecolor\":\"white\",\"ticks\":\"\"},\"caxis\":{\"gridcolor\":\"white\",\"linecolor\":\"white\",\"ticks\":\"\"}},\"coloraxis\":{\"colorbar\":{\"outlinewidth\":0,\"ticks\":\"\"}},\"colorscale\":{\"sequential\":[[0.0,\"#0d0887\"],[0.1111111111111111,\"#46039f\"],[0.2222222222222222,\"#7201a8\"],[0.3333333333333333,\"#9c179e\"],[0.4444444444444444,\"#bd3786\"],[0.5555555555555556,\"#d8576b\"],[0.6666666666666666,\"#ed7953\"],[0.7777777777777778,\"#fb9f3a\"],[0.8888888888888888,\"#fdca26\"],[1.0,\"#f0f921\"]],\"sequentialminus\":[[0.0,\"#0d0887\"],[0.1111111111111111,\"#46039f\"],[0.2222222222222222,\"#7201a8\"],[0.3333333333333333,\"#9c179e\"],[0.4444444444444444,\"#bd3786\"],[0.5555555555555556,\"#d8576b\"],[0.6666666666666666,\"#ed7953\"],[0.7777777777777778,\"#fb9f3a\"],[0.8888888888888888,\"#fdca26\"],[1.0,\"#f0f921\"]],\"diverging\":[[0,\"#8e0152\"],[0.1,\"#c51b7d\"],[0.2,\"#de77ae\"],[0.3,\"#f1b6da\"],[0.4,\"#fde0ef\"],[0.5,\"#f7f7f7\"],[0.6,\"#e6f5d0\"],[0.7,\"#b8e186\"],[0.8,\"#7fbc41\"],[0.9,\"#4d9221\"],[1,\"#276419\"]]},\"xaxis\":{\"gridcolor\":\"white\",\"linecolor\":\"white\",\"ticks\":\"\",\"title\":{\"standoff\":15},\"zerolinecolor\":\"white\",\"automargin\":true,\"zerolinewidth\":2},\"yaxis\":{\"gridcolor\":\"white\",\"linecolor\":\"white\",\"ticks\":\"\",\"title\":{\"standoff\":15},\"zerolinecolor\":\"white\",\"automargin\":true,\"zerolinewidth\":2},\"scene\":{\"xaxis\":{\"backgroundcolor\":\"#E5ECF6\",\"gridcolor\":\"white\",\"linecolor\":\"white\",\"showbackground\":true,\"ticks\":\"\",\"zerolinecolor\":\"white\",\"gridwidth\":2},\"yaxis\":{\"backgroundcolor\":\"#E5ECF6\",\"gridcolor\":\"white\",\"linecolor\":\"white\",\"showbackground\":true,\"ticks\":\"\",\"zerolinecolor\":\"white\",\"gridwidth\":2},\"zaxis\":{\"backgroundcolor\":\"#E5ECF6\",\"gridcolor\":\"white\",\"linecolor\":\"white\",\"showbackground\":true,\"ticks\":\"\",\"zerolinecolor\":\"white\",\"gridwidth\":2}},\"shapedefaults\":{\"line\":{\"color\":\"#2a3f5f\"}},\"annotationdefaults\":{\"arrowcolor\":\"#2a3f5f\",\"arrowhead\":0,\"arrowwidth\":1},\"geo\":{\"bgcolor\":\"white\",\"landcolor\":\"#E5ECF6\",\"subunitcolor\":\"white\",\"showland\":true,\"showlakes\":true,\"lakecolor\":\"white\"},\"title\":{\"x\":0.05},\"mapbox\":{\"style\":\"light\"}}},\"mapbox\":{\"domain\":{\"x\":[0.0,1.0],\"y\":[0.0,1.0]},\"center\":{\"lat\":51.46213833157895,\"lon\":7.001459694736842},\"zoom\":8,\"style\":\"open-street-map\"},\"legend\":{\"tracegroupgap\":0},\"margin\":{\"t\":60}},                        {\"responsive\": true}                    ).then(function(){\n",
       "                            \n",
       "var gd = document.getElementById('77993b85-89eb-42f1-9a38-728eb5384ebb');\n",
       "var x = new MutationObserver(function (mutations, observer) {{\n",
       "        var display = window.getComputedStyle(gd).display;\n",
       "        if (!display || display === 'none') {{\n",
       "            console.log([gd, 'removed!']);\n",
       "            Plotly.purge(gd);\n",
       "            observer.disconnect();\n",
       "        }}\n",
       "}});\n",
       "\n",
       "// Listen for the removal of the full notebook cells\n",
       "var notebookContainer = gd.closest('#notebook-container');\n",
       "if (notebookContainer) {{\n",
       "    x.observe(notebookContainer, {childList: true});\n",
       "}}\n",
       "\n",
       "// Listen for the clearing of the current output cell\n",
       "var outputEl = gd.closest('.output');\n",
       "if (outputEl) {{\n",
       "    x.observe(outputEl, {childList: true});\n",
       "}}\n",
       "\n",
       "                        })                };                });            </script>        </div>"
      ]
     },
     "metadata": {},
     "output_type": "display_data"
    }
   ],
   "source": [
    "fig = px.scatter_mapbox(geo_df, lat='lat', lon='long', hover_name='detid')\n",
    "fig.update_layout(mapbox_style=\"open-street-map\")\n",
    "#fig.update_layout(title='World', title_x=0.5)\n",
    "fig.show()"
   ]
  },
  {
   "cell_type": "code",
   "execution_count": 17,
   "id": "2f16551c",
   "metadata": {},
   "outputs": [],
   "source": [
    "geo_df.to_csv('test.csv')"
   ]
  },
  {
   "cell_type": "code",
   "execution_count": 21,
   "id": "955354dc",
   "metadata": {},
   "outputs": [
    {
     "data": {
      "text/plain": [
       "detid     object\n",
       "long     float64\n",
       "lat      float64\n",
       "dtype: object"
      ]
     },
     "execution_count": 21,
     "metadata": {},
     "output_type": "execute_result"
    }
   ],
   "source": [
    "geo_df = geo_df.astype({'long':'float', 'lat':'float'})\n",
    "geo_df.dtypes"
   ]
  },
  {
   "cell_type": "code",
   "execution_count": 11,
   "id": "310ea749",
   "metadata": {
    "scrolled": true
   },
   "outputs": [
    {
     "data": {
      "text/html": [
       "<div>\n",
       "<style scoped>\n",
       "    .dataframe tbody tr th:only-of-type {\n",
       "        vertical-align: middle;\n",
       "    }\n",
       "\n",
       "    .dataframe tbody tr th {\n",
       "        vertical-align: top;\n",
       "    }\n",
       "\n",
       "    .dataframe thead th {\n",
       "        text-align: right;\n",
       "    }\n",
       "</style>\n",
       "<table border=\"1\" class=\"dataframe\">\n",
       "  <thead>\n",
       "    <tr style=\"text-align: right;\">\n",
       "      <th></th>\n",
       "      <th>detid</th>\n",
       "      <th>long</th>\n",
       "      <th>lat</th>\n",
       "    </tr>\n",
       "  </thead>\n",
       "  <tbody>\n",
       "    <tr>\n",
       "      <th>3403</th>\n",
       "      <td>esss102n</td>\n",
       "      <td>7.0280099</td>\n",
       "      <td>51.4635947</td>\n",
       "    </tr>\n",
       "    <tr>\n",
       "      <th>3404</th>\n",
       "      <td>esss102s</td>\n",
       "      <td>7.0282593</td>\n",
       "      <td>51.4631502</td>\n",
       "    </tr>\n",
       "    <tr>\n",
       "      <th>3405</th>\n",
       "      <td>esss037n</td>\n",
       "      <td>7.0170692</td>\n",
       "      <td>51.4716852</td>\n",
       "    </tr>\n",
       "    <tr>\n",
       "      <th>3406</th>\n",
       "      <td>esss037s</td>\n",
       "      <td>7.0174152</td>\n",
       "      <td>51.4711172</td>\n",
       "    </tr>\n",
       "    <tr>\n",
       "      <th>3407</th>\n",
       "      <td>esss093n</td>\n",
       "      <td>7.0088053</td>\n",
       "      <td>51.4660294</td>\n",
       "    </tr>\n",
       "    <tr>\n",
       "      <th>3408</th>\n",
       "      <td>esss093s</td>\n",
       "      <td>7.0086658</td>\n",
       "      <td>51.4659976</td>\n",
       "    </tr>\n",
       "    <tr>\n",
       "      <th>3409</th>\n",
       "      <td>esss053n</td>\n",
       "      <td>7.0069331</td>\n",
       "      <td>51.4723736</td>\n",
       "    </tr>\n",
       "    <tr>\n",
       "      <th>3410</th>\n",
       "      <td>esss053s</td>\n",
       "      <td>7.0040283</td>\n",
       "      <td>51.4784612</td>\n",
       "    </tr>\n",
       "    <tr>\n",
       "      <th>3411</th>\n",
       "      <td>esss092n</td>\n",
       "      <td>7.0028508</td>\n",
       "      <td>51.4630282</td>\n",
       "    </tr>\n",
       "    <tr>\n",
       "      <th>3412</th>\n",
       "      <td>esss092s</td>\n",
       "      <td>7.0032987</td>\n",
       "      <td>51.4620456</td>\n",
       "    </tr>\n",
       "    <tr>\n",
       "      <th>3413</th>\n",
       "      <td>esss094s</td>\n",
       "      <td>6.9968399</td>\n",
       "      <td>51.4623364</td>\n",
       "    </tr>\n",
       "    <tr>\n",
       "      <th>3414</th>\n",
       "      <td>esss094n</td>\n",
       "      <td>6.9968668</td>\n",
       "      <td>51.461429</td>\n",
       "    </tr>\n",
       "    <tr>\n",
       "      <th>3415</th>\n",
       "      <td>esss926o</td>\n",
       "      <td>6.9915318</td>\n",
       "      <td>51.4592799</td>\n",
       "    </tr>\n",
       "    <tr>\n",
       "      <th>3416</th>\n",
       "      <td>esss926w</td>\n",
       "      <td>6.9917732</td>\n",
       "      <td>51.459452</td>\n",
       "    </tr>\n",
       "    <tr>\n",
       "      <th>3417</th>\n",
       "      <td>esss095n</td>\n",
       "      <td>6.9976714</td>\n",
       "      <td>51.4567162</td>\n",
       "    </tr>\n",
       "    <tr>\n",
       "      <th>3418</th>\n",
       "      <td>esss095s</td>\n",
       "      <td>6.9975829</td>\n",
       "      <td>51.4567162</td>\n",
       "    </tr>\n",
       "    <tr>\n",
       "      <th>3419</th>\n",
       "      <td>esss090n</td>\n",
       "      <td>7.0072362</td>\n",
       "      <td>51.4532514</td>\n",
       "    </tr>\n",
       "    <tr>\n",
       "      <th>3420</th>\n",
       "      <td>esss090s</td>\n",
       "      <td>7.0070913</td>\n",
       "      <td>51.453218</td>\n",
       "    </tr>\n",
       "    <tr>\n",
       "      <th>3421</th>\n",
       "      <td>esss097o</td>\n",
       "      <td>6.9915909</td>\n",
       "      <td>51.454271</td>\n",
       "    </tr>\n",
       "    <tr>\n",
       "      <th>3422</th>\n",
       "      <td>esss097w</td>\n",
       "      <td>6.9942945</td>\n",
       "      <td>51.4548125</td>\n",
       "    </tr>\n",
       "    <tr>\n",
       "      <th>3423</th>\n",
       "      <td>esss050n</td>\n",
       "      <td>6.9821146</td>\n",
       "      <td>51.4640492</td>\n",
       "    </tr>\n",
       "    <tr>\n",
       "      <th>3424</th>\n",
       "      <td>esss050s</td>\n",
       "      <td>6.9817981</td>\n",
       "      <td>51.4636148</td>\n",
       "    </tr>\n",
       "    <tr>\n",
       "      <th>3425</th>\n",
       "      <td>esss088s</td>\n",
       "      <td>6.963425</td>\n",
       "      <td>51.4553524</td>\n",
       "    </tr>\n",
       "    <tr>\n",
       "      <th>3426</th>\n",
       "      <td>esss088n</td>\n",
       "      <td>6.9636047</td>\n",
       "      <td>51.4553474</td>\n",
       "    </tr>\n",
       "    <tr>\n",
       "      <th>3427</th>\n",
       "      <td>esss051n</td>\n",
       "      <td>6.9830856</td>\n",
       "      <td>51.4523154</td>\n",
       "    </tr>\n",
       "    <tr>\n",
       "      <th>3428</th>\n",
       "      <td>esss051s</td>\n",
       "      <td>6.9811222</td>\n",
       "      <td>51.4534453</td>\n",
       "    </tr>\n",
       "    <tr>\n",
       "      <th>3429</th>\n",
       "      <td>esss098n</td>\n",
       "      <td>7.0108116</td>\n",
       "      <td>51.4476301</td>\n",
       "    </tr>\n",
       "    <tr>\n",
       "      <th>3430</th>\n",
       "      <td>esss098s</td>\n",
       "      <td>7.0106104</td>\n",
       "      <td>51.4476117</td>\n",
       "    </tr>\n",
       "    <tr>\n",
       "      <th>3431</th>\n",
       "      <td>esss038w</td>\n",
       "      <td>7.0062894</td>\n",
       "      <td>51.4829798</td>\n",
       "    </tr>\n",
       "    <tr>\n",
       "      <th>3432</th>\n",
       "      <td>esss038o</td>\n",
       "      <td>7.0062599</td>\n",
       "      <td>51.4829163</td>\n",
       "    </tr>\n",
       "    <tr>\n",
       "      <th>3433</th>\n",
       "      <td>esss928w</td>\n",
       "      <td>6.9866341</td>\n",
       "      <td>51.4659391</td>\n",
       "    </tr>\n",
       "    <tr>\n",
       "      <th>3434</th>\n",
       "      <td>esss928o</td>\n",
       "      <td>6.9876507</td>\n",
       "      <td>51.4657921</td>\n",
       "    </tr>\n",
       "    <tr>\n",
       "      <th>3435</th>\n",
       "      <td>esss943o</td>\n",
       "      <td>7.0076171</td>\n",
       "      <td>51.4597211</td>\n",
       "    </tr>\n",
       "    <tr>\n",
       "      <th>3436</th>\n",
       "      <td>esss943w</td>\n",
       "      <td>7.0091003</td>\n",
       "      <td>51.460453</td>\n",
       "    </tr>\n",
       "    <tr>\n",
       "      <th>3437</th>\n",
       "      <td>esss052n</td>\n",
       "      <td>6.9991654</td>\n",
       "      <td>51.4676452</td>\n",
       "    </tr>\n",
       "    <tr>\n",
       "      <th>3438</th>\n",
       "      <td>esss052s</td>\n",
       "      <td>6.9991037</td>\n",
       "      <td>51.4675081</td>\n",
       "    </tr>\n",
       "    <tr>\n",
       "      <th>3439</th>\n",
       "      <td>ess101w</td>\n",
       "      <td>7.0404607</td>\n",
       "      <td>51.4601087</td>\n",
       "    </tr>\n",
       "    <tr>\n",
       "      <th>3440</th>\n",
       "      <td>ess101o</td>\n",
       "      <td>7.0388004</td>\n",
       "      <td>51.4598614</td>\n",
       "    </tr>\n",
       "  </tbody>\n",
       "</table>\n",
       "</div>"
      ],
      "text/plain": [
       "         detid       long         lat\n",
       "3403  esss102n  7.0280099  51.4635947\n",
       "3404  esss102s  7.0282593  51.4631502\n",
       "3405  esss037n  7.0170692  51.4716852\n",
       "3406  esss037s  7.0174152  51.4711172\n",
       "3407  esss093n  7.0088053  51.4660294\n",
       "3408  esss093s  7.0086658  51.4659976\n",
       "3409  esss053n  7.0069331  51.4723736\n",
       "3410  esss053s  7.0040283  51.4784612\n",
       "3411  esss092n  7.0028508  51.4630282\n",
       "3412  esss092s  7.0032987  51.4620456\n",
       "3413  esss094s  6.9968399  51.4623364\n",
       "3414  esss094n  6.9968668   51.461429\n",
       "3415  esss926o  6.9915318  51.4592799\n",
       "3416  esss926w  6.9917732   51.459452\n",
       "3417  esss095n  6.9976714  51.4567162\n",
       "3418  esss095s  6.9975829  51.4567162\n",
       "3419  esss090n  7.0072362  51.4532514\n",
       "3420  esss090s  7.0070913   51.453218\n",
       "3421  esss097o  6.9915909   51.454271\n",
       "3422  esss097w  6.9942945  51.4548125\n",
       "3423  esss050n  6.9821146  51.4640492\n",
       "3424  esss050s  6.9817981  51.4636148\n",
       "3425  esss088s   6.963425  51.4553524\n",
       "3426  esss088n  6.9636047  51.4553474\n",
       "3427  esss051n  6.9830856  51.4523154\n",
       "3428  esss051s  6.9811222  51.4534453\n",
       "3429  esss098n  7.0108116  51.4476301\n",
       "3430  esss098s  7.0106104  51.4476117\n",
       "3431  esss038w  7.0062894  51.4829798\n",
       "3432  esss038o  7.0062599  51.4829163\n",
       "3433  esss928w  6.9866341  51.4659391\n",
       "3434  esss928o  6.9876507  51.4657921\n",
       "3435  esss943o  7.0076171  51.4597211\n",
       "3436  esss943w  7.0091003   51.460453\n",
       "3437  esss052n  6.9991654  51.4676452\n",
       "3438  esss052s  6.9991037  51.4675081\n",
       "3439   ess101w  7.0404607  51.4601087\n",
       "3440   ess101o  7.0388004  51.4598614"
      ]
     },
     "execution_count": 11,
     "metadata": {},
     "output_type": "execute_result"
    }
   ],
   "source": [
    "geo_df = dict(list(geo.groupby('citycode')))['essen']\n",
    "geo_df = geo_df[['detid', 'long', 'lat']]\n",
    "geo_df"
   ]
  },
  {
   "cell_type": "code",
   "execution_count": 8,
   "id": "e23bbe9c",
   "metadata": {},
   "outputs": [
    {
     "data": {
      "text/html": [
       "<div>\n",
       "<style scoped>\n",
       "    .dataframe tbody tr th:only-of-type {\n",
       "        vertical-align: middle;\n",
       "    }\n",
       "\n",
       "    .dataframe tbody tr th {\n",
       "        vertical-align: top;\n",
       "    }\n",
       "\n",
       "    .dataframe thead th {\n",
       "        text-align: right;\n",
       "    }\n",
       "</style>\n",
       "<table border=\"1\" class=\"dataframe\">\n",
       "  <thead>\n",
       "    <tr style=\"text-align: right;\">\n",
       "      <th></th>\n",
       "      <th>City</th>\n",
       "      <th>State</th>\n",
       "      <th>Population</th>\n",
       "      <th>lat</th>\n",
       "      <th>lon</th>\n",
       "    </tr>\n",
       "  </thead>\n",
       "  <tbody>\n",
       "    <tr>\n",
       "      <th>0</th>\n",
       "      <td>Marysville</td>\n",
       "      <td>Washington</td>\n",
       "      <td>63269</td>\n",
       "      <td>48.051764</td>\n",
       "      <td>-122.177082</td>\n",
       "    </tr>\n",
       "    <tr>\n",
       "      <th>1</th>\n",
       "      <td>Perris</td>\n",
       "      <td>California</td>\n",
       "      <td>72326</td>\n",
       "      <td>33.782519</td>\n",
       "      <td>-117.228648</td>\n",
       "    </tr>\n",
       "    <tr>\n",
       "      <th>2</th>\n",
       "      <td>Cleveland</td>\n",
       "      <td>Ohio</td>\n",
       "      <td>390113</td>\n",
       "      <td>41.499320</td>\n",
       "      <td>-81.694361</td>\n",
       "    </tr>\n",
       "    <tr>\n",
       "      <th>3</th>\n",
       "      <td>Worcester</td>\n",
       "      <td>Massachusetts</td>\n",
       "      <td>182544</td>\n",
       "      <td>42.262593</td>\n",
       "      <td>-71.802293</td>\n",
       "    </tr>\n",
       "    <tr>\n",
       "      <th>4</th>\n",
       "      <td>Columbia</td>\n",
       "      <td>South Carolina</td>\n",
       "      <td>133358</td>\n",
       "      <td>34.000710</td>\n",
       "      <td>-81.034814</td>\n",
       "    </tr>\n",
       "    <tr>\n",
       "      <th>...</th>\n",
       "      <td>...</td>\n",
       "      <td>...</td>\n",
       "      <td>...</td>\n",
       "      <td>...</td>\n",
       "      <td>...</td>\n",
       "    </tr>\n",
       "    <tr>\n",
       "      <th>995</th>\n",
       "      <td>West New York</td>\n",
       "      <td>New Jersey</td>\n",
       "      <td>52122</td>\n",
       "      <td>40.787879</td>\n",
       "      <td>-74.014306</td>\n",
       "    </tr>\n",
       "    <tr>\n",
       "      <th>996</th>\n",
       "      <td>Everett</td>\n",
       "      <td>Massachusetts</td>\n",
       "      <td>42935</td>\n",
       "      <td>42.408430</td>\n",
       "      <td>-71.053663</td>\n",
       "    </tr>\n",
       "    <tr>\n",
       "      <th>997</th>\n",
       "      <td>Linden</td>\n",
       "      <td>New Jersey</td>\n",
       "      <td>41301</td>\n",
       "      <td>40.622048</td>\n",
       "      <td>-74.244590</td>\n",
       "    </tr>\n",
       "    <tr>\n",
       "      <th>998</th>\n",
       "      <td>Asheville</td>\n",
       "      <td>North Carolina</td>\n",
       "      <td>87236</td>\n",
       "      <td>35.595058</td>\n",
       "      <td>-82.551487</td>\n",
       "    </tr>\n",
       "    <tr>\n",
       "      <th>999</th>\n",
       "      <td>Compton</td>\n",
       "      <td>California</td>\n",
       "      <td>97877</td>\n",
       "      <td>33.895849</td>\n",
       "      <td>-118.220071</td>\n",
       "    </tr>\n",
       "  </tbody>\n",
       "</table>\n",
       "<p>1000 rows × 5 columns</p>\n",
       "</div>"
      ],
      "text/plain": [
       "              City           State  Population        lat         lon\n",
       "0       Marysville      Washington       63269  48.051764 -122.177082\n",
       "1           Perris      California       72326  33.782519 -117.228648\n",
       "2        Cleveland            Ohio      390113  41.499320  -81.694361\n",
       "3        Worcester   Massachusetts      182544  42.262593  -71.802293\n",
       "4         Columbia  South Carolina      133358  34.000710  -81.034814\n",
       "..             ...             ...         ...        ...         ...\n",
       "995  West New York      New Jersey       52122  40.787879  -74.014306\n",
       "996        Everett   Massachusetts       42935  42.408430  -71.053663\n",
       "997         Linden      New Jersey       41301  40.622048  -74.244590\n",
       "998      Asheville  North Carolina       87236  35.595058  -82.551487\n",
       "999        Compton      California       97877  33.895849 -118.220071\n",
       "\n",
       "[1000 rows x 5 columns]"
      ]
     },
     "execution_count": 8,
     "metadata": {},
     "output_type": "execute_result"
    }
   ],
   "source": [
    "us_cities"
   ]
  },
  {
   "cell_type": "code",
   "execution_count": 5,
   "id": "d4daf62c",
   "metadata": {},
   "outputs": [
    {
     "data": {
      "application/vnd.plotly.v1+json": {
       "config": {
        "plotlyServerURL": "https://plot.ly"
       },
       "data": [
        {
         "customdata": [
          [
           "Washington",
           63269
          ],
          [
           "California",
           72326
          ],
          [
           "Ohio",
           390113
          ],
          [
           "Massachusetts",
           182544
          ],
          [
           "South Carolina",
           133358
          ],
          [
           "Connecticut",
           109676
          ],
          [
           "Minnesota",
           65453
          ],
          [
           "Michigan",
           73006
          ],
          [
           "Louisiana",
           124276
          ],
          [
           "Idaho",
           214237
          ],
          [
           "Indiana",
           51265
          ],
          [
           "California",
           82882
          ],
          [
           "Georgia",
           59089
          ],
          [
           "Colorado",
           48608
          ],
          [
           "Florida",
           102436
          ],
          [
           "Massachusetts",
           42544
          ],
          [
           "Illinois",
           199963
          ],
          [
           "Virginia",
           47673
          ],
          [
           "Florida",
           50213
          ],
          [
           "California",
           91739
          ],
          [
           "Texas",
           239538
          ],
          [
           "Kansas",
           181260
          ],
          [
           "Mississippi",
           172638
          ],
          [
           "North Carolina",
           73209
          ],
          [
           "Florida",
           62316
          ],
          [
           "Missouri",
           467007
          ],
          [
           "California",
           42448
          ],
          [
           "Minnesota",
           61434
          ],
          [
           "Texas",
           58043
          ],
          [
           "New Mexico",
           48611
          ],
          [
           "Alabama",
           201332
          ],
          [
           "Utah",
           48913
          ],
          [
           "Massachusetts",
           39083
          ],
          [
           "Pennsylvania",
           118577
          ],
          [
           "South Carolina",
           74885
          ],
          [
           "Georgia",
           202824
          ],
          [
           "New York",
           258959
          ],
          [
           "Wisconsin",
           39834
          ],
          [
           "Texas",
           67317
          ],
          [
           "Ohio",
           38355
          ],
          [
           "California",
           479686
          ],
          [
           "Arkansas",
           87650
          ],
          [
           "Rhode Island",
           47149
          ],
          [
           "Iowa",
           41776
          ],
          [
           "New York",
           68224
          ],
          [
           "Colorado",
           147214
          ],
          [
           "Nevada",
           270811
          ],
          [
           "California",
           48508
          ],
          [
           "Connecticut",
           126456
          ],
          [
           "Indiana",
           82575
          ],
          [
           "Tennessee",
           52962
          ],
          [
           "Washington",
           210721
          ],
          [
           "Washington",
           76762
          ],
          [
           "Pennsylvania",
           1553165
          ],
          [
           "Washington",
           82631
          ],
          [
           "California",
           127763
          ],
          [
           "Wisconsin",
           51522
          ],
          [
           "Iowa",
           61969
          ],
          [
           "Florida",
           42757
          ],
          [
           "Texas",
           1257676
          ],
          [
           "California",
           107100
          ],
          [
           "Michigan",
           131224
          ],
          [
           "Florida",
           78041
          ],
          [
           "Indiana",
           83891
          ],
          [
           "Wyoming",
           62448
          ],
          [
           "California",
           107479
          ],
          [
           "Kansas",
           50344
          ],
          [
           "Indiana",
           56540
          ],
          [
           "Mississippi",
           50997
          ],
          [
           "California",
           80988
          ],
          [
           "Maryland",
           65690
          ],
          [
           "California",
           56707
          ],
          [
           "Maryland",
           66893
          ],
          [
           "North Carolina",
           89130
          ],
          [
           "Illinois",
           43849
          ],
          [
           "Wisconsin",
           60697
          ],
          [
           "Colorado",
           127359
          ],
          [
           "Iowa",
           61255
          ],
          [
           "Massachusetts",
           88697
          ],
          [
           "California",
           61170
          ],
          [
           "California",
           256780
          ],
          [
           "Florida",
           126604
          ],
          [
           "North Carolina",
           83506
          ],
          [
           "Georgia",
           53438
          ],
          [
           "Florida",
           45587
          ],
          [
           "North Dakota",
           54932
          ],
          [
           "Ohio",
           39325
          ],
          [
           "Illinois",
           144864
          ],
          [
           "Florida",
           146526
          ],
          [
           "Arkansas",
           60112
          ],
          [
           "Louisiana",
           378715
          ],
          [
           "Washington",
           59097
          ],
          [
           "Illinois",
           57073
          ],
          [
           "Idaho",
           48957
          ],
          [
           "Oregon",
           609456
          ],
          [
           "California",
           125880
          ],
          [
           "Washington",
           49858
          ],
          [
           "Missouri",
           67569
          ],
          [
           "Wisconsin",
           71016
          ],
          [
           "Arizona",
           68667
          ],
          [
           "Washington",
           38609
          ],
          [
           "New York",
           65902
          ],
          [
           "Colorado",
           649495
          ],
          [
           "Illinois",
           117006
          ],
          [
           "California",
           40584
          ],
          [
           "California",
           201175
          ],
          [
           "Ohio",
           55870
          ],
          [
           "Michigan",
           37313
          ],
          [
           "Arizona",
           52844
          ],
          [
           "Arkansas",
           66075
          ],
          [
           "Nevada",
           233294
          ],
          [
           "Colorado",
           44275
          ],
          [
           "Arizona",
           40590
          ],
          [
           "California",
           52105
          ],
          [
           "Texas",
           37442
          ],
          [
           "Maine",
           66318
          ],
          [
           "Minnesota",
           78373
          ],
          [
           "Connecticut",
           55046
          ],
          [
           "California",
           43363
          ],
          [
           "Texas",
           39458
          ],
          [
           "Michigan",
           99763
          ],
          [
           "California",
           66695
          ],
          [
           "Arizona",
           56683
          ],
          [
           "California",
           40963
          ],
          [
           "California",
           83539
          ],
          [
           "Arizona",
           226918
          ],
          [
           "Ohio",
           822553
          ],
          [
           "Pennsylvania",
           59325
          ],
          [
           "Nebraska",
           268738
          ],
          [
           "New Jersey",
           84349
          ],
          [
           "Massachusetts",
           645966
          ],
          [
           "California",
           51074
          ],
          [
           "Minnesota",
           110742
          ],
          [
           "Missouri",
           52363
          ],
          [
           "Maryland",
           38722
          ],
          [
           "North Carolina",
           59635
          ],
          [
           "Indiana",
           47135
          ],
          [
           "California",
           39389
          ],
          [
           "Illinois",
           37240
          ],
          [
           "Montana",
           69122
          ],
          [
           "California",
           99769
          ],
          [
           "Texas",
           100065
          ],
          [
           "Arizona",
           229972
          ],
          [
           "Wisconsin",
           39309
          ],
          [
           "North Carolina",
           431746
          ],
          [
           "California",
           139969
          ],
          [
           "California",
           66900
          ],
          [
           "Washington",
           39056
          ],
          [
           "California",
           55174
          ],
          [
           "Arizona",
           38290
          ],
          [
           "Florida",
           186411
          ],
          [
           "Texas",
           63032
          ],
          [
           "Virginia",
           43609
          ],
          [
           "Texas",
           1409019
          ],
          [
           "Connecticut",
           125017
          ],
          [
           "Iowa",
           68366
          ],
          [
           "New York",
           46444
          ],
          [
           "Idaho",
           83596
          ],
          [
           "Wisconsin",
           42970
          ],
          [
           "Texas",
           75418
          ],
          [
           "North Carolina",
           151088
          ],
          [
           "Massachusetts",
           55419
          ],
          [
           "Oklahoma",
           398121
          ],
          [
           "Texas",
           81050
          ],
          [
           "Ohio",
           49267
          ],
          [
           "Massachusetts",
           60509
          ],
          [
           "Texas",
           92020
          ],
          [
           "Arizona",
           526116
          ],
          [
           "Tennessee",
           68886
          ],
          [
           "Minnesota",
           39167
          ],
          [
           "Florida",
           842583
          ],
          [
           "New Jersey",
           39551
          ],
          [
           "Pennsylvania",
           100671
          ],
          [
           "California",
           81102
          ],
          [
           "Texas",
           120099
          ],
          [
           "California",
           67032
          ],
          [
           "South Carolina",
           61397
          ],
          [
           "North Carolina",
           50458
          ],
          [
           "Michigan",
           60070
          ],
          [
           "Pennsylvania",
           49188
          ],
          [
           "California",
           108817
          ],
          [
           "California",
           224922
          ],
          [
           "Colorado",
           108249
          ],
          [
           "Massachusetts",
           37670
          ],
          [
           "Illinois",
           42895
          ],
          [
           "Minnesota",
           400070
          ],
          [
           "Tennessee",
           58226
          ],
          [
           "Texas",
           104898
          ],
          [
           "Texas",
           70185
          ],
          [
           "Missouri",
           318416
          ],
          [
           "Texas",
           73790
          ],
          [
           "New Mexico",
           556495
          ],
          [
           "Georgia",
           119980
          ],
          [
           "Utah",
           59366
          ],
          [
           "Nevada",
           226877
          ],
          [
           "California",
           151348
          ],
          [
           "California",
           55191
          ],
          [
           "Ohio",
           37490
          ],
          [
           "Kansas",
           90811
          ],
          [
           "Texas",
           123933
          ],
          [
           "Oklahoma",
           610613
          ],
          [
           "Arizona",
           41627
          ],
          [
           "Arizona",
           457587
          ],
          [
           "Connecticut",
           87776
          ],
          [
           "Michigan",
           50233
          ],
          [
           "Wisconsin",
           37999
          ],
          [
           "Texas",
           40922
          ],
          [
           "Indiana",
           47989
          ],
          [
           "California",
           78327
          ],
          [
           "Minnesota",
           66297
          ],
          [
           "New Jersey",
           70868
          ],
          [
           "California",
           148738
          ],
          [
           "California",
           42443
          ],
          [
           "California",
           116768
          ],
          [
           "California",
           65040
          ],
          [
           "Oklahoma",
           97151
          ],
          [
           "Wisconsin",
           67545
          ],
          [
           "Arizona",
           45508
          ],
          [
           "Texas",
           51483
          ],
          [
           "Indiana",
           256496
          ],
          [
           "Washington",
           54790
          ],
          [
           "Massachusetts",
           57170
          ],
          [
           "California",
           61653
          ],
          [
           "New York",
           98424
          ],
          [
           "California",
           104739
          ],
          [
           "Michigan",
           61817
          ],
          [
           "Virginia",
           78014
          ],
          [
           "Maryland",
           56759
          ],
          [
           "Connecticut",
           83684
          ],
          [
           "Virginia",
           44349
          ],
          [
           "Florida",
           49631
          ],
          [
           "Idaho",
           46402
          ],
          [
           "California",
           115708
          ],
          [
           "Illinois",
           40388
          ],
          [
           "California",
           43341
          ],
          [
           "Arizona",
           72864
          ],
          [
           "New Jersey",
           145948
          ],
          [
           "Oregon",
           160614
          ],
          [
           "Florida",
           65173
          ],
          [
           "Michigan",
           50303
          ],
          [
           "Texas",
           181860
          ],
          [
           "Texas",
           68609
          ],
          [
           "Texas",
           50195
          ],
          [
           "Minnesota",
           49376
          ],
          [
           "Michigan",
           688701
          ],
          [
           "Ohio",
           42635
          ],
          [
           "Texas",
           60872
          ],
          [
           "New York",
           210358
          ],
          [
           "Alabama",
           212113
          ],
          [
           "Texas",
           885400
          ],
          [
           "California",
           90412
          ],
          [
           "Illinois",
           37385
          ],
          [
           "New Mexico",
           91956
          ],
          [
           "Illinois",
           54664
          ],
          [
           "Illinois",
           39650
          ],
          [
           "Minnesota",
           62103
          ],
          [
           "California",
           101128
          ],
          [
           "Florida",
           255483
          ],
          [
           "Wyoming",
           59628
          ],
          [
           "Texas",
           48592
          ],
          [
           "North Carolina",
           112067
          ],
          [
           "Florida",
           49998
          ],
          [
           "Florida",
           43250
          ],
          [
           "Kansas",
           148483
          ],
          [
           "Massachusetts",
           40383
          ],
          [
           "Illinois",
           38015
          ],
          [
           "Massachusetts",
           87971
          ],
          [
           "Florida",
           61007
          ],
          [
           "Connecticut",
           40347
          ],
          [
           "New Jersey",
           278427
          ],
          [
           "Louisiana",
           48426
          ],
          [
           "Minnesota",
           60407
          ],
          [
           "Texas",
           65665
          ],
          [
           "California",
           43509
          ],
          [
           "Texas",
           123099
          ],
          [
           "Texas",
           48733
          ],
          [
           "Indiana",
           53665
          ],
          [
           "California",
           155662
          ],
          [
           "Florida",
           111378
          ],
          [
           "West Virginia",
           49177
          ],
          [
           "Texas",
           248142
          ],
          [
           "Florida",
           77508
          ],
          [
           "Texas",
           43580
          ],
          [
           "Florida",
           104898
          ],
          [
           "North Carolina",
           49628
          ],
          [
           "Utah",
           43023
          ],
          [
           "California",
           46714
          ],
          [
           "Ohio",
           80429
          ],
          [
           "South Dakota",
           70812
          ],
          [
           "California",
           42889
          ],
          [
           "Colorado",
           49799
          ],
          [
           "Massachusetts",
           153703
          ],
          [
           "Colorado",
           152061
          ],
          [
           "California",
           87965
          ],
          [
           "California",
           96929
          ],
          [
           "New York",
           199766
          ],
          [
           "Ohio",
           297517
          ],
          [
           "Maryland",
           40612
          ],
          [
           "Florida",
           56002
          ],
          [
           "New Jersey",
           68247
          ],
          [
           "Ohio",
           282313
          ],
          [
           "Arizona",
           45129
          ],
          [
           "Virginia",
           182020
          ],
          [
           "Indiana",
           78967
          ],
          [
           "Illinois",
           41778
          ],
          [
           "Texas",
           83860
          ],
          [
           "Alabama",
           186254
          ],
          [
           "California",
           63338
          ],
          [
           "Washington",
           40727
          ],
          [
           "Texas",
           39605
          ],
          [
           "North Carolina",
           56954
          ],
          [
           "Michigan",
           59887
          ],
          [
           "California",
           59834
          ],
          [
           "California",
           151574
          ],
          [
           "New York",
           49468
          ],
          [
           "Nevada",
           93282
          ],
          [
           "California",
           54686
          ],
          [
           "California",
           49087
          ],
          [
           "Ohio",
           65184
          ],
          [
           "Alabama",
           45799
          ],
          [
           "California",
           69999
          ],
          [
           "Missouri",
           38816
          ],
          [
           "Idaho",
           86518
          ],
          [
           "District of Columbia",
           646449
          ],
          [
           "Illinois",
           53648
          ],
          [
           "Texas",
           38071
          ],
          [
           "California",
           101910
          ],
          [
           "North Dakota",
           113658
          ],
          [
           "Illinois",
           116513
          ],
          [
           "Nebraska",
           434353
          ],
          [
           "California",
           49228
          ],
          [
           "Kansas",
           56143
          ],
          [
           "California",
           46281
          ],
          [
           "California",
           1355896
          ],
          [
           "California",
           171990
          ],
          [
           "Massachusetts",
           108861
          ],
          [
           "Oklahoma",
           103500
          ],
          [
           "Washington",
           124435
          ],
          [
           "Tennessee",
           634464
          ],
          [
           "New Jersey",
           44113
          ],
          [
           "Colorado",
           59471
          ],
          [
           "North Carolina",
           245475
          ],
          [
           "Kansas",
           386552
          ],
          [
           "California",
           52977
          ],
          [
           "Minnesota",
           58562
          ],
          [
           "Illinois",
           45556
          ],
          [
           "Texas",
           37093
          ],
          [
           "Wisconsin",
           37159
          ],
          [
           "California",
           147559
          ],
          [
           "California",
           62864
          ],
          [
           "Wisconsin",
           99889
          ],
          [
           "Pennsylvania",
           41757
          ],
          [
           "Ohio",
           46454
          ],
          [
           "Illinois",
           40915
          ],
          [
           "Florida",
           104410
          ],
          [
           "Texas",
           97492
          ],
          [
           "Illinois",
           78902
          ],
          [
           "California",
           84691
          ],
          [
           "South Carolina",
           37647
          ],
          [
           "New Hampshire",
           87137
          ],
          [
           "Georgia",
           89981
          ],
          [
           "New York",
           55361
          ],
          [
           "New Jersey",
           76903
          ],
          [
           "California",
           50508
          ],
          [
           "Illinois",
           40351
          ],
          [
           "Virginia",
           230571
          ],
          [
           "Ohio",
           43607
          ],
          [
           "California",
           66086
          ],
          [
           "Michigan",
           37213
          ],
          [
           "New Jersey",
           127558
          ],
          [
           "Alaska",
           300950
          ],
          [
           "North Dakota",
           46321
          ],
          [
           "Florida",
           96830
          ],
          [
           "Texas",
           136639
          ],
          [
           "Texas",
           148559
          ],
          [
           "Texas",
           137147
          ],
          [
           "Ohio",
           41512
          ],
          [
           "California",
           406253
          ],
          [
           "California",
           77846
          ],
          [
           "California",
           57525
          ],
          [
           "Texas",
           196429
          ],
          [
           "Utah",
           116288
          ],
          [
           "Georgia",
           447841
          ],
          [
           "California",
           61085
          ],
          [
           "Ohio",
           44730
          ],
          [
           "California",
           63105
          ],
          [
           "Illinois",
           74710
          ],
          [
           "Rhode Island",
           41026
          ],
          [
           "Alabama",
           194899
          ],
          [
           "California",
           118837
          ],
          [
           "California",
           57639
          ],
          [
           "Tennessee",
           47333
          ],
          [
           "Missouri",
           43330
          ],
          [
           "Texas",
           81443
          ],
          [
           "Arizona",
           249146
          ],
          [
           "Colorado",
           111707
          ],
          [
           "California",
           84577
          ],
          [
           "Indiana",
           56895
          ],
          [
           "Florida",
           43286
          ],
          [
           "Indiana",
           843393
          ],
          [
           "Florida",
           71097
          ],
          [
           "Arizona",
           37130
          ],
          [
           "Illinois",
           54771
          ],
          [
           "Rhode Island",
           80566
          ],
          [
           "Indiana",
           70373
          ],
          [
           "Kansas",
           131885
          ],
          [
           "Georgia",
           82788
          ],
          [
           "North Carolina",
           279639
          ],
          [
           "Michigan",
           75548
          ],
          [
           "Oregon",
           50444
          ],
          [
           "North Carolina",
           69079
          ],
          [
           "California",
           85285
          ],
          [
           "Alabama",
           95334
          ],
          [
           "Iowa",
           51567
          ],
          [
           "California",
           86199
          ],
          [
           "Alabama",
           84126
          ],
          [
           "Florida",
           64072
          ],
          [
           "Florida",
           60202
          ],
          [
           "Arizona",
           39383
          ],
          [
           "Florida",
           68388
          ],
          [
           "Michigan",
           82821
          ],
          [
           "New York",
           79446
          ],
          [
           "California",
           298118
          ],
          [
           "Michigan",
           58946
          ],
          [
           "Florida",
           44206
          ],
          [
           "California",
           64652
          ],
          [
           "Washington",
           91113
          ],
          [
           "California",
           112174
          ],
          [
           "Texas",
           183372
          ],
          [
           "Virginia",
           96205
          ],
          [
           "Washington",
           44919
          ],
          [
           "North Carolina",
           42214
          ],
          [
           "Iowa",
           82459
          ],
          [
           "California",
           61588
          ],
          [
           "Utah",
           36956
          ],
          [
           "California",
           58879
          ],
          [
           "Minnesota",
           62603
          ],
          [
           "Arizona",
           162592
          ],
          [
           "Arizona",
           168228
          ],
          [
           "Delaware",
           71525
          ],
          [
           "Utah",
           60519
          ],
          [
           "Michigan",
           82578
          ],
          [
           "Texas",
           143484
          ],
          [
           "North Carolina",
           51510
          ],
          [
           "Texas",
           234566
          ],
          [
           "California",
           107571
          ],
          [
           "North Dakota",
           67034
          ],
          [
           "Nevada",
           54080
          ],
          [
           "Oklahoma",
           38863
          ],
          [
           "Georgia",
           197350
          ],
          [
           "North Carolina",
           204408
          ],
          [
           "Georgia",
           76185
          ],
          [
           "New Jersey",
           44412
          ],
          [
           "California",
           44096
          ],
          [
           "California",
           56449
          ],
          [
           "Alabama",
           55816
          ],
          [
           "Tennessee",
           173366
          ],
          [
           "Indiana",
           45929
          ],
          [
           "Illinois",
           41679
          ],
          [
           "California",
           76635
          ],
          [
           "Florida",
           91026
          ],
          [
           "Tennessee",
           67685
          ],
          [
           "Texas",
           54135
          ],
          [
           "California",
           46377
          ],
          [
           "Texas",
           40714
          ],
          [
           "California",
           87273
          ],
          [
           "Utah",
           40921
          ],
          [
           "Washington",
           93257
          ],
          [
           "Ohio",
           143355
          ],
          [
           "Mississippi",
           71012
          ],
          [
           "California",
           469428
          ],
          [
           "California",
           88077
          ],
          [
           "Mississippi",
           47556
          ],
          [
           "Oregon",
           159190
          ],
          [
           "California",
           53243
          ],
          [
           "California",
           63495
          ],
          [
           "California",
           74110
          ],
          [
           "Washington",
           105370
          ],
          [
           "Kansas",
           41889
          ],
          [
           "California",
           109320
          ],
          [
           "Arizona",
           78822
          ],
          [
           "Ohio",
           48139
          ],
          [
           "Michigan",
           51848
          ],
          [
           "Minnesota",
           86319
          ],
          [
           "Illinois",
           38877
          ],
          [
           "Oregon",
           93542
          ],
          [
           "Louisiana",
           66975
          ],
          [
           "New Mexico",
           39508
          ],
          [
           "New York",
           49974
          ],
          [
           "California",
           69783
          ],
          [
           "Illinois",
           58918
          ],
          [
           "California",
           52206
          ],
          [
           "Massachusetts",
           56069
          ],
          [
           "California",
           38027
          ],
          [
           "Tennessee",
           65123
          ],
          [
           "Georgia",
           142772
          ],
          [
           "Ohio",
           40768
          ],
          [
           "Washington",
           167405
          ],
          [
           "Florida",
           90116
          ],
          [
           "Indiana",
           70316
          ],
          [
           "Utah",
           54382
          ],
          [
           "California",
           837442
          ],
          [
           "California",
           203003
          ],
          [
           "Texas",
           136791
          ],
          [
           "California",
           76572
          ],
          [
           "California",
           49417
          ],
          [
           "Ohio",
           38142
          ],
          [
           "New Jersey",
           55831
          ],
          [
           "Virginia",
           246139
          ],
          [
           "Oregon",
           97368
          ],
          [
           "California",
           45851
          ],
          [
           "Florida",
           52703
          ],
          [
           "Ohio",
           62258
          ],
          [
           "South Carolina",
           37792
          ],
          [
           "California",
           213708
          ],
          [
           "Georgia",
           40059
          ],
          [
           "California",
           121096
          ],
          [
           "Indiana",
           78450
          ],
          [
           "Arizona",
           50111
          ],
          [
           "California",
           40836
          ],
          [
           "Iowa",
           58253
          ],
          [
           "New York",
           144669
          ],
          [
           "Tennessee",
           142357
          ],
          [
           "Florida",
           100710
          ],
          [
           "New York",
           37659
          ],
          [
           "Delaware",
           37366
          ],
          [
           "Minnesota",
           39398
          ],
          [
           "California",
           39428
          ],
          [
           "Illinois",
           69350
          ],
          [
           "Washington",
           652405
          ],
          [
           "Kentucky",
           40956
          ],
          [
           "California",
           161007
          ],
          [
           "Louisiana",
           200327
          ],
          [
           "Utah",
           84249
          ],
          [
           "Virginia",
           51395
          ],
          [
           "California",
           111542
          ],
          [
           "California",
           139731
          ],
          [
           "Massachusetts",
           77657
          ],
          [
           "Oregon",
           37610
          ],
          [
           "California",
           59440
          ],
          [
           "Ohio",
           59357
          ],
          [
           "California",
           79068
          ],
          [
           "Colorado",
           345803
          ],
          [
           "Minnesota",
           86128
          ],
          [
           "Virginia",
           98465
          ],
          [
           "Oregon",
           81236
          ],
          [
           "California",
           70924
          ],
          [
           "Massachusetts",
           62227
          ],
          [
           "Florida",
           68190
          ],
          [
           "Florida",
           352957
          ],
          [
           "California",
           75413
          ],
          [
           "Virginia",
           42907
          ],
          [
           "Wisconsin",
           36888
          ],
          [
           "Florida",
           90268
          ],
          [
           "Colorado",
           439886
          ],
          [
           "California",
           204933
          ],
          [
           "Michigan",
           192294
          ],
          [
           "Illinois",
           52066
          ],
          [
           "Florida",
           53326
          ],
          [
           "California",
           98030
          ],
          [
           "California",
           77593
          ],
          [
           "Colorado",
           103166
          ],
          [
           "New Mexico",
           69976
          ],
          [
           "California",
           43092
          ],
          [
           "Massachusetts",
           39414
          ],
          [
           "California",
           316619
          ],
          [
           "California",
           157161
          ],
          [
           "California",
           54194
          ],
          [
           "Utah",
           70790
          ],
          [
           "Illinois",
           73936
          ],
          [
           "California",
           96346
          ],
          [
           "Illinois",
           45417
          ],
          [
           "California",
           45237
          ],
          [
           "California",
           73098
          ],
          [
           "Arizona",
           39791
          ],
          [
           "New Mexico",
           101324
          ],
          [
           "Montana",
           39860
          ],
          [
           "Illinois",
           74907
          ],
          [
           "Michigan",
           134873
          ],
          [
           "Missouri",
           54842
          ],
          [
           "Iowa",
           61792
          ],
          [
           "Arizona",
           123546
          ],
          [
           "Texas",
           104475
          ],
          [
           "Michigan",
           42181
          ],
          [
           "Texas",
           54076
          ],
          [
           "Pennsylvania",
           41108
          ],
          [
           "Wisconsin",
           73596
          ],
          [
           "Kansas",
           64323
          ],
          [
           "Ohio",
           46979
          ],
          [
           "California",
           85156
          ],
          [
           "North Carolina",
           792862
          ],
          [
           "Kentucky",
           58416
          ],
          [
           "Florida",
           58298
          ],
          [
           "California",
           41398
          ],
          [
           "Illinois",
           2718782
          ],
          [
           "Montana",
           109059
          ],
          [
           "Wisconsin",
           47134
          ],
          [
           "Illinois",
           43907
          ],
          [
           "Connecticut",
           130660
          ],
          [
           "Pennsylvania",
           43935
          ],
          [
           "Tennessee",
           183270
          ],
          [
           "Ohio",
           53956
          ],
          [
           "Massachusetts",
           44641
          ],
          [
           "Utah",
           48612
          ],
          [
           "California",
           76419
          ],
          [
           "California",
           71948
          ],
          [
           "Minnesota",
           39765
          ],
          [
           "Oregon",
           77677
          ],
          [
           "Tennessee",
           117044
          ],
          [
           "California",
           65416
          ],
          [
           "Connecticut",
           40999
          ],
          [
           "Iowa",
           40566
          ],
          [
           "Tennessee",
           39375
          ],
          [
           "Pennsylvania",
           75806
          ],
          [
           "Alabama",
           58582
          ],
          [
           "Virginia",
           41705
          ],
          [
           "California",
           94275
          ],
          [
           "California",
           92472
          ],
          [
           "Virginia",
           85728
          ],
          [
           "Michigan",
           72952
          ],
          [
           "California",
           39331
          ],
          [
           "West Virginia",
           50821
          ],
          [
           "California",
           52403
          ],
          [
           "Florida",
           40918
          ],
          [
           "South Carolina",
           127999
          ],
          [
           "North Carolina",
           44359
          ],
          [
           "California",
           159503
          ],
          [
           "California",
           59738
          ],
          [
           "Missouri",
           93184
          ],
          [
           "Florida",
           78740
          ],
          [
           "Utah",
           90231
          ],
          [
           "Arkansas",
           40167
          ],
          [
           "California",
           179590
          ],
          [
           "Florida",
           42150
          ],
          [
           "Texas",
           63279
          ],
          [
           "Tennessee",
           653450
          ],
          [
           "Texas",
           228653
          ],
          [
           "Virginia",
           148892
          ],
          [
           "California",
           92147
          ],
          [
           "Massachusetts",
           40249
          ],
          [
           "Georgia",
           47591
          ],
          [
           "Illinois",
           65176
          ],
          [
           "New Jersey",
           41664
          ],
          [
           "Pennsylvania",
           75018
          ],
          [
           "Missouri",
           77147
          ],
          [
           "California",
           67815
          ],
          [
           "Texas",
           2195914
          ],
          [
           "California",
           106780
          ],
          [
           "Michigan",
           117025
          ],
          [
           "Texas",
           117796
          ],
          [
           "Michigan",
           48554
          ],
          [
           "California",
           56105
          ],
          [
           "Florida",
           63155
          ],
          [
           "Nebraska",
           53663
          ],
          [
           "Florida",
           162329
          ],
          [
           "Arkansas",
           75229
          ],
          [
           "California",
           203007
          ],
          [
           "Texas",
           110720
          ],
          [
           "Oklahoma",
           47186
          ],
          [
           "Massachusetts",
           94089
          ],
          [
           "New Jersey",
           65028
          ],
          [
           "California",
           54980
          ],
          [
           "Illinois",
           43116
          ],
          [
           "Mississippi",
           40921
          ],
          [
           "Tennessee",
           42774
          ],
          [
           "New Jersey",
           257342
          ],
          [
           "Minnesota",
           294873
          ],
          [
           "Florida",
           86290
          ],
          [
           "New York",
           43167
          ],
          [
           "Iowa",
           71591
          ],
          [
           "California",
           345012
          ],
          [
           "Minnesota",
           50201
          ],
          [
           "Montana",
           59351
          ],
          [
           "Utah",
           133579
          ],
          [
           "Virginia",
           136699
          ],
          [
           "Texas",
           54898
          ],
          [
           "Utah",
           91648
          ],
          [
           "California",
           37101
          ],
          [
           "Texas",
           42907
          ],
          [
           "South Carolina",
           39823
          ],
          [
           "Arkansas",
           197357
          ],
          [
           "California",
           334227
          ],
          [
           "New York",
           57866
          ],
          [
           "Idaho",
           58292
          ],
          [
           "Washington",
           133992
          ],
          [
           "California",
           127035
          ],
          [
           "New Jersey",
           51982
          ],
          [
           "Massachusetts",
           52044
          ],
          [
           "Nebraska",
           50550
          ],
          [
           "Missouri",
           115276
          ],
          [
           "Wisconsin",
           78199
          ],
          [
           "Indiana",
           85927
          ],
          [
           "Michigan",
           47523
          ],
          [
           "Ohio",
           48630
          ],
          [
           "California",
           56590
          ],
          [
           "Massachusetts",
           53756
          ],
          [
           "Texas",
           53224
          ],
          [
           "Illinois",
           75994
          ],
          [
           "California",
           81750
          ],
          [
           "North Carolina",
           107741
          ],
          [
           "Ohio",
           47777
          ],
          [
           "Oklahoma",
           56756
          ],
          [
           "California",
           89387
          ],
          [
           "Florida",
           57203
          ],
          [
           "California",
           81121
          ],
          [
           "Ohio",
           37530
          ],
          [
           "Illinois",
           150251
          ],
          [
           "California",
           102211
          ],
          [
           "Florida",
           249688
          ],
          [
           "Illinois",
           49670
          ],
          [
           "Connecticut",
           51644
          ],
          [
           "Oregon",
           51583
          ],
          [
           "Nevada",
           603488
          ],
          [
           "Texas",
           152735
          ],
          [
           "Florida",
           171016
          ],
          [
           "Iowa",
           128429
          ],
          [
           "Florida",
           38661
          ],
          [
           "Massachusetts",
           93494
          ],
          [
           "Florida",
           130288
          ],
          [
           "Texas",
           674433
          ],
          [
           "Kansas",
           127679
          ],
          [
           "California",
           54561
          ],
          [
           "Oregon",
           37064
          ],
          [
           "Minnesota",
           51368
          ],
          [
           "Ohio",
           198100
          ],
          [
           "Texas",
           80836
          ],
          [
           "California",
           171386
          ],
          [
           "South Carolina",
           104054
          ],
          [
           "Kentucky",
           609893
          ],
          [
           "California",
           52477
          ],
          [
           "Florida",
           56792
          ],
          [
           "Florida",
           51763
          ],
          [
           "California",
           110972
          ],
          [
           "Texas",
           46081
          ],
          [
           "California",
           91119
          ],
          [
           "Michigan",
           74100
          ],
          [
           "Ohio",
           63710
          ],
          [
           "Utah",
           37733
          ],
          [
           "Florida",
           172389
          ],
          [
           "Georgia",
           72531
          ],
          [
           "Florida",
           109703
          ],
          [
           "Florida",
           43328
          ],
          [
           "Alabama",
           40059
          ],
          [
           "Indiana",
           61025
          ],
          [
           "Texas",
           70190
          ],
          [
           "Ohio",
           45712
          ],
          [
           "South Dakota",
           164676
          ],
          [
           "Indiana",
           45775
          ],
          [
           "Florida",
           55456
          ],
          [
           "Massachusetts",
           41002
          ],
          [
           "Rhode Island",
           81971
          ],
          [
           "California",
           363630
          ],
          [
           "Florida",
           417650
          ],
          [
           "Louisiana",
           74024
          ],
          [
           "Washington",
           52413
          ],
          [
           "North Carolina",
           40361
          ],
          [
           "California",
           66174
          ],
          [
           "Minnesota",
           73987
          ],
          [
           "Indiana",
           100886
          ],
          [
           "Oklahoma",
           87004
          ],
          [
           "Iowa",
           207510
          ],
          [
           "Florida",
           47547
          ],
          [
           "Utah",
           45285
          ],
          [
           "California",
           86635
          ],
          [
           "Michigan",
           95208
          ],
          [
           "Wisconsin",
           599164
          ],
          [
           "Washington",
           74860
          ],
          [
           "South Carolina",
           41190
          ],
          [
           "Massachusetts",
           40664
          ],
          [
           "Washington",
           97003
          ],
          [
           "Colorado",
           106114
          ],
          [
           "Virginia",
           214114
          ],
          [
           "Indiana",
           55670
          ],
          [
           "California",
           40481
          ],
          [
           "Texas",
           53752
          ],
          [
           "New Jersey",
           52575
          ],
          [
           "Kentucky",
           308428
          ],
          [
           "California",
           106589
          ],
          [
           "Arizona",
           91923
          ],
          [
           "California",
           54291
          ],
          [
           "Illinois",
           40379
          ],
          [
           "Illinois",
           147806
          ],
          [
           "South Carolina",
           69103
          ],
          [
           "California",
           67911
          ],
          [
           "Michigan",
           56620
          ],
          [
           "Hawaii",
           347884
          ],
          [
           "Texas",
           65098
          ],
          [
           "Massachusetts",
           43886
          ],
          [
           "Texas",
           44575
          ],
          [
           "Texas",
           126700
          ],
          [
           "Illinois",
           41734
          ],
          [
           "Illinois",
           52398
          ],
          [
           "Massachusetts",
           48514
          ],
          [
           "Florida",
           59212
          ],
          [
           "Maryland",
           64072
          ],
          [
           "California",
           104709
          ],
          [
           "California",
           138981
          ],
          [
           "Wisconsin",
           66778
          ],
          [
           "Texas",
           39795
          ],
          [
           "Michigan",
           81295
          ],
          [
           "California",
           63771
          ],
          [
           "California",
           49707
          ],
          [
           "California",
           40435
          ],
          [
           "Colorado",
           59778
          ],
          [
           "Oklahoma",
           50725
          ],
          [
           "California",
           998537
          ],
          [
           "Texas",
           109821
          ],
          [
           "Minnesota",
           65415
          ],
          [
           "Oklahoma",
           118197
          ],
          [
           "Florida",
           64079
          ],
          [
           "Texas",
           37587
          ],
          [
           "California",
           236716
          ],
          [
           "Idaho",
           54350
          ],
          [
           "California",
           38606
          ],
          [
           "Wisconsin",
           48725
          ],
          [
           "Louisiana",
           66333
          ],
          [
           "Texas",
           61238
          ],
          [
           "Georgia",
           99770
          ],
          [
           "Illinois",
           83424
          ],
          [
           "New Jersey",
           85390
          ],
          [
           "Oklahoma",
           58414
          ],
          [
           "Missouri",
           53294
          ],
          [
           "California",
           159523
          ],
          [
           "Texas",
           78709
          ],
          [
           "Texas",
           38448
          ],
          [
           "Florida",
           165831
          ],
          [
           "California",
           60189
          ],
          [
           "Massachusetts",
           44057
          ],
          [
           "California",
           51701
          ],
          [
           "New Hampshire",
           110378
          ],
          [
           "Virginia",
           448479
          ],
          [
           "Kansas",
           47846
          ],
          [
           "Massachusetts",
           78804
          ],
          [
           "Florida",
           78409
          ],
          [
           "California",
           509924
          ],
          [
           "Alabama",
           37498
          ],
          [
           "Illinois",
           56758
          ],
          [
           "Florida",
           50699
          ],
          [
           "Rhode Island",
           71172
          ],
          [
           "California",
           40275
          ],
          [
           "North Carolina",
           236441
          ],
          [
           "Georgia",
           62298
          ],
          [
           "Missouri",
           82809
          ],
          [
           "California",
           80872
          ],
          [
           "California",
           72528
          ],
          [
           "Florida",
           38632
          ],
          [
           "Minnesota",
           40641
          ],
          [
           "California",
           50175
          ],
          [
           "California",
           83447
          ],
          [
           "Colorado",
           71334
          ],
          [
           "Illinois",
           38241
          ],
          [
           "Rhode Island",
           177994
          ],
          [
           "Florida",
           233394
          ],
          [
           "California",
           74513
          ],
          [
           "California",
           167500
          ],
          [
           "Washington",
           84430
          ],
          [
           "Utah",
           76817
          ],
          [
           "South Carolina",
           39412
          ],
          [
           "California",
           196021
          ],
          [
           "Connecticut",
           60456
          ],
          [
           "California",
           59957
          ],
          [
           "Massachusetts",
           41301
          ],
          [
           "Illinois",
           110145
          ],
          [
           "Texas",
           274409
          ],
          [
           "Colorado",
           89919
          ],
          [
           "Texas",
           40342
          ],
          [
           "Ohio",
           51143
          ],
          [
           "Arkansas",
           71551
          ],
          [
           "Texas",
           100050
          ],
          [
           "Michigan",
           95884
          ],
          [
           "New York",
           61808
          ],
          [
           "Louisiana",
           49761
          ],
          [
           "Maryland",
           622104
          ],
          [
           "Missouri",
           164122
          ],
          [
           "Arkansas",
           46094
          ],
          [
           "New Jersey",
           50588
          ],
          [
           "Massachusetts",
           91589
          ],
          [
           "Minnesota",
           65656
          ],
          [
           "Florida",
           127488
          ],
          [
           "California",
           49891
          ],
          [
           "Washington",
           50169
          ],
          [
           "Florida",
           37199
          ],
          [
           "Arkansas",
           78960
          ],
          [
           "California",
           58994
          ],
          [
           "Arkansas",
           63816
          ],
          [
           "Washington",
           203446
          ],
          [
           "Connecticut",
           47333
          ],
          [
           "Vermont",
           42284
          ],
          [
           "Idaho",
           45981
          ],
          [
           "Texas",
           39296
          ],
          [
           "New York",
           8405837
          ],
          [
           "California",
           126181
          ],
          [
           "California",
           107740
          ],
          [
           "Colorado",
           53063
          ],
          [
           "Georgia",
           56481
          ],
          [
           "Texas",
           792727
          ],
          [
           "California",
           92599
          ],
          [
           "Indiana",
           120310
          ],
          [
           "California",
           102216
          ],
          [
           "Tennessee",
           40021
          ],
          [
           "California",
           58642
          ],
          [
           "Colorado",
           110945
          ],
          [
           "Pennsylvania",
           87893
          ],
          [
           "California",
           70365
          ],
          [
           "Colorado",
           96539
          ],
          [
           "Texas",
           100223
          ],
          [
           "Florida",
           37711
          ],
          [
           "Texas",
           129030
          ],
          [
           "California",
           37165
          ],
          [
           "California",
           128731
          ],
          [
           "California",
           47842
          ],
          [
           "Connecticut",
           147216
          ],
          [
           "Minnesota",
           47411
          ],
          [
           "Missouri",
           47749
          ],
          [
           "Florida",
           38696
          ],
          [
           "Washington",
           67599
          ],
          [
           "California",
           147478
          ],
          [
           "Wisconsin",
           243344
          ],
          [
           "Wisconsin",
           63820
          ],
          [
           "Illinois",
           88826
          ],
          [
           "Kentucky",
           61488
          ],
          [
           "Texas",
           379577
          ],
          [
           "Texas",
           101074
          ],
          [
           "New Mexico",
           45426
          ],
          [
           "California",
           38194
          ],
          [
           "California",
           66642
          ],
          [
           "Oregon",
           60177
          ],
          [
           "Massachusetts",
           95078
          ],
          [
           "Washington",
           57530
          ],
          [
           "California",
           55000
          ],
          [
           "California",
           66205
          ],
          [
           "California",
           49133
          ],
          [
           "Tennessee",
           43060
          ],
          [
           "Pennsylvania",
           45796
          ],
          [
           "Alabama",
           68001
          ],
          [
           "New Jersey",
           64544
          ],
          [
           "Illinois",
           57282
          ],
          [
           "Mississippi",
           44820
          ],
          [
           "Illinois",
           41752
          ],
          [
           "California",
           175140
          ],
          [
           "California",
           71371
          ],
          [
           "Colorado",
           37499
          ],
          [
           "Ohio",
           72535
          ],
          [
           "Georgia",
           50603
          ],
          [
           "Louisiana",
           229426
          ],
          [
           "Connecticut",
           60568
          ],
          [
           "Missouri",
           117240
          ],
          [
           "Michigan",
           113972
          ],
          [
           "Illinois",
           58590
          ],
          [
           "New Jersey",
           61050
          ],
          [
           "Wisconsin",
           104779
          ],
          [
           "Illinois",
           75570
          ],
          [
           "Florida",
           39172
          ],
          [
           "California",
           3884307
          ],
          [
           "Washington",
           92734
          ],
          [
           "Utah",
           110077
          ],
          [
           "California",
           52536
          ],
          [
           "Pennsylvania",
           305841
          ],
          [
           "California",
           113242
          ],
          [
           "Illinois",
           84103
          ],
          [
           "California",
           95677
          ],
          [
           "Florida",
           36877
          ],
          [
           "Missouri",
           50789
          ],
          [
           "Texas",
           90983
          ],
          [
           "Utah",
           191180
          ],
          [
           "Florida",
           43074
          ],
          [
           "Arizona",
           1513367
          ],
          [
           "Oregon",
           55298
          ],
          [
           "Texas",
           46663
          ],
          [
           "Massachusetts",
           55717
          ],
          [
           "Florida",
           57468
          ],
          [
           "Georgia",
           94034
          ],
          [
           "Illinois",
           37839
          ],
          [
           "New Hampshire",
           42419
          ],
          [
           "Washington",
           48338
          ],
          [
           "California",
           197575
          ],
          [
           "Texas",
           316381
          ],
          [
           "Massachusetts",
           62088
          ],
          [
           "Illinois",
           38510
          ],
          [
           "Massachusetts",
           107289
          ],
          [
           "Arizona",
           234632
          ],
          [
           "California",
           38623
          ],
          [
           "South Carolina",
           46074
          ],
          [
           "Iowa",
           102157
          ],
          [
           "Florida",
           89407
          ],
          [
           "Connecticut",
           72939
          ],
          [
           "Michigan",
           47555
          ],
          [
           "Ohio",
           45394
          ],
          [
           "Oregon",
           109397
          ],
          [
           "Florida",
           69813
          ],
          [
           "Tennessee",
           54068
          ],
          [
           "California",
           120245
          ],
          [
           "California",
           172794
          ],
          [
           "California",
           79312
          ],
          [
           "Michigan",
           57960
          ],
          [
           "New Jersey",
           52122
          ],
          [
           "Massachusetts",
           42935
          ],
          [
           "New Jersey",
           41301
          ],
          [
           "North Carolina",
           87236
          ],
          [
           "California",
           97877
          ]
         ],
         "hovertemplate": "<b>%{hovertext}</b><br><br>lat=%{lat}<br>lon=%{lon}<br>State=%{customdata[0]}<br>Population=%{customdata[1]}<extra></extra>",
         "hovertext": [
          "Marysville",
          "Perris",
          "Cleveland",
          "Worcester",
          "Columbia",
          "Waterbury",
          "Eagan",
          "Southfield",
          "Lafayette",
          "Boise City",
          "Elkhart",
          "Buena Park",
          "Marietta",
          "Parker",
          "West Palm Beach",
          "Salem",
          "Aurora",
          "Leesburg",
          "Doral",
          "Westminster",
          "Lubbock",
          "Overland Park",
          "Jackson",
          "Gastonia",
          "Daytona Beach",
          "Kansas City",
          "Rancho Palos Verdes",
          "Burnsville",
          "Rowlett",
          "Roswell",
          "Montgomery",
          "Logan",
          "Woburn",
          "Allentown",
          "Mount Pleasant",
          "Columbus",
          "Buffalo",
          "New Berlin",
          "North Richland Hills",
          "Lima",
          "Sacramento",
          "Fort Smith",
          "East Providence",
          "Urbandale",
          "Mount Vernon",
          "Lakewood",
          "Henderson",
          "Covina",
          "Stamford",
          "Bloomington",
          "Kingsport",
          "Spokane",
          "Kennewick",
          "Philadelphia",
          "Bellingham",
          "Visalia",
          "La Crosse",
          "Council Bluffs",
          "North Lauderdale",
          "Dallas",
          "Antioch",
          "Sterling Heights",
          "Deerfield Beach",
          "Fishers",
          "Cheyenne",
          "Murrieta",
          "Lenexa",
          "Noblesville",
          "Southaven",
          "Chino",
          "Gaithersburg",
          "Fountain Valley",
          "Frederick",
          "Greenville",
          "DeKalb",
          "West Allis",
          "Thornton",
          "West Des Moines",
          "Fall River",
          "Tulare",
          "Chula Vista",
          "Coral Springs",
          "Concord",
          "Smyrna",
          "Apopka",
          "Grand Forks",
          "Lancaster",
          "Naperville",
          "Hollywood",
          "Rogers",
          "New Orleans",
          "Lakewood",
          "Oak Lawn",
          "Caldwell",
          "Portland",
          "Concord",
          "Burien",
          "St. Charles",
          "Waukesha",
          "Flagstaff",
          "Puyallup",
          "Schenectady",
          "Denver",
          "Springfield",
          "Campbell",
          "Moreno Valley",
          "Kettering",
          "Lincoln Park",
          "Lake Havasu City",
          "North Little Rock",
          "Reno",
          "Littleton",
          "Prescott",
          "Dublin",
          "Texarkana",
          "Portland",
          "Brooklyn Park",
          "West Haven",
          "El Centro",
          "The Colony",
          "Flint",
          "Pittsburg",
          "Buckeye",
          "Brea",
          "Indio",
          "Scottsdale",
          "Columbus",
          "Lancaster",
          "Lincoln",
          "Trenton",
          "Boston",
          "Glendora",
          "Rochester",
          "Florissant",
          "Annapolis",
          "Chapel Hill",
          "Lawrence",
          "Calexico",
          "Calumet City",
          "Missoula",
          "Clovis",
          "Pearland",
          "Gilbert",
          "Wausau",
          "Raleigh",
          "Orange",
          "Walnut Creek",
          "Bremerton",
          "Porterville",
          "Marana",
          "Tallahassee",
          "Conroe",
          "Blacksburg",
          "San Antonio",
          "Hartford",
          "Waterloo",
          "Binghamton",
          "Meridian",
          "Fond du Lac",
          "Baytown",
          "Cary",
          "Weymouth Town",
          "Tulsa",
          "Mission",
          "Cuyahoga Falls",
          "Malden",
          "Allen",
          "Tucson",
          "Franklin",
          "Shakopee",
          "Jacksonville",
          "Atlantic City",
          "Erie",
          "Merced",
          "Abilene",
          "Yorba Linda",
          "Greenville",
          "Huntersville",
          "St. Clair Shores",
          "Harrisburg",
          "San Buenaventura (Ventura)",
          "Fremont",
          "Pueblo",
          "Chelsea",
          "Belleville",
          "Minneapolis",
          "Bartlett",
          "Wichita Falls",
          "Missouri City",
          "St. Louis",
          "Pharr",
          "Albuquerque",
          "Athens-Clarke County",
          "South Jordan",
          "North Las Vegas",
          "Pomona",
          "Eastvale",
          "Grove City",
          "Lawrence",
          "Midland",
          "Oklahoma City",
          "Oro Valley",
          "Mesa",
          "Norwalk",
          "Kentwood",
          "Brookfield",
          "Rockwall",
          "Mishawaka",
          "Tustin",
          "St. Cloud",
          "Passaic",
          "Escondido",
          "San Bruno",
          "Berkeley",
          "San Clemente",
          "Lawton",
          "Eau Claire",
          "Maricopa",
          "DeSoto",
          "Fort Wayne",
          "Shoreline",
          "Medford",
          "La Habra",
          "Albany",
          "Daly City",
          "Taylor",
          "Lynchburg",
          "Bowie",
          "Danbury",
          "Charlottesville",
          "Coral Gables",
          "Coeur d'Alene",
          "El Monte",
          "Crystal Lake",
          "Danville",
          "Goodyear",
          "Paterson",
          "Salem",
          "Kissimmee",
          "Saginaw",
          "Brownsville",
          "Flower Mound",
          "Grapevine",
          "Edina",
          "Detroit",
          "Fairfield",
          "Mansfield",
          "Rochester",
          "Birmingham",
          "Austin",
          "Santa Barbara",
          "Addison",
          "Rio Rancho",
          "Normal",
          "Romeoville",
          "Coon Rapids",
          "San Mateo",
          "Orlando",
          "Casper",
          "Bedford",
          "Wilmington",
          "Pinellas Park",
          "North Miami Beach",
          "Kansas City",
          "Fitchburg",
          "Wheeling",
          "Newton",
          "North Miami",
          "Norwich",
          "Newark",
          "Alexandria",
          "Blaine",
          "Harlingen",
          "Lompoc",
          "Denton",
          "Galveston",
          "Greenwood",
          "Salinas",
          "Miami Gardens",
          "Huntington",
          "Laredo",
          "Melbourne",
          "Haltom City",
          "Palm Bay",
          "Wilson",
          "Bountiful",
          "Ceres",
          "Parma",
          "Rapid City",
          "Bell Gardens",
          "Commerce City",
          "Springfield",
          "Fort Collins",
          "San Leandro",
          "Vista",
          "Yonkers",
          "Cincinnati",
          "Hagerstown",
          "Sanford",
          "Union City",
          "Toledo",
          "Sierra Vista",
          "Newport News",
          "Hammond",
          "Buffalo Grove",
          "Sugar Land",
          "Huntsville",
          "Lodi",
          "Edmonds",
          "Duncanville",
          "Rocky Mount",
          "Pontiac",
          "National City",
          "Hayward",
          "Niagara Falls",
          "Sparks",
          "Hanford",
          "Cypress",
          "Youngstown",
          "Madison",
          "Redlands",
          "Cape Girardeau",
          "Nampa",
          "Washington",
          "Wheaton",
          "Lancaster",
          "Rialto",
          "Fargo",
          "Peoria",
          "Omaha",
          "Rancho Santa Margarita",
          "Manhattan",
          "Palm Springs",
          "San Diego",
          "Santa Rosa",
          "Lowell",
          "Broken Arrow",
          "Kent",
          "Nashville",
          "Hackensack",
          "Broomfield",
          "Durham",
          "Wichita",
          "Cathedral City",
          "Lakeville",
          "Elmhurst",
          "Weslaco",
          "Greenfield",
          "Sunnyvale",
          "Santa Cruz",
          "Kenosha",
          "State College",
          "Mansfield",
          "Quincy",
          "Pompano Beach",
          "San Angelo",
          "Bloomington",
          "Tracy",
          "Spartanburg",
          "Nashua",
          "Macon",
          "Hempstead",
          "Camden",
          "Palm Desert",
          "Streamwood",
          "Chesapeake",
          "Dublin",
          "Camarillo",
          "Muskegon",
          "Elizabeth",
          "Anchorage",
          "Minot",
          "Davie",
          "McAllen",
          "McKinney",
          "Killeen",
          "Findlay",
          "Oakland",
          "Mountain View",
          "Lake Elsinore",
          "Amarillo",
          "Provo",
          "Atlanta",
          "Monterey Park",
          "Strongsville",
          "Madera",
          "Decatur",
          "Woonsocket",
          "Mobile",
          "Vallejo",
          "Arcadia",
          "Collierville",
          "Jefferson City",
          "Longview",
          "Chandler",
          "Arvada",
          "Alhambra",
          "Kokomo",
          "Oakland Park",
          "Indianapolis",
          "Boynton Beach",
          "Apache Junction",
          "Mount Prospect",
          "Cranston",
          "Lafayette",
          "Olathe",
          "Johns Creek",
          "Greensboro",
          "Kalamazoo",
          "Tigard",
          "Jacksonville",
          "Citrus Heights",
          "Tuscaloosa",
          "Ankeny",
          "Hawthorne",
          "Hoover",
          "Delray Beach",
          "Wellington",
          "Bullhead City",
          "Weston",
          "Troy",
          "New Rochelle",
          "Stockton",
          "Royal Oak",
          "Titusville",
          "Laguna Niguel",
          "Spokane Valley",
          "Costa Mesa",
          "Grand Prairie",
          "Portsmouth",
          "Lacey",
          "Apex",
          "Sioux City",
          "Encinitas",
          "Spanish Fork",
          "Huntington Park",
          "Eden Prairie",
          "Peoria",
          "Tempe",
          "Wilmington",
          "Taylorsville",
          "Westland",
          "Mesquite",
          "Burlington",
          "Garland",
          "Richmond",
          "Bismarck",
          "Carson City",
          "Muskogee",
          "Augusta-Richmond County",
          "Fayetteville",
          "Albany",
          "Sayreville",
          "Newark",
          "Diamond Bar",
          "Decatur",
          "Chattanooga",
          "Jeffersonville",
          "Bartlett",
          "Baldwin Park",
          "Miami Beach",
          "Jackson",
          "Port Arthur",
          "San Luis Obispo",
          "Burleson",
          "Newport Beach",
          "Riverton",
          "Yakima",
          "Dayton",
          "Gulfport",
          "Long Beach",
          "Chico",
          "Hattiesburg",
          "Eugene",
          "Colton",
          "Montebello",
          "Pleasanton",
          "Everett",
          "Hutchinson",
          "Fairfield",
          "Avondale",
          "Euclid",
          "Battle Creek",
          "Bloomington",
          "Rock Island",
          "Beaverton",
          "Kenner",
          "Clovis",
          "Troy",
          "Milpitas",
          "Des Plaines",
          "Placentia",
          "Taunton",
          "Montclair",
          "Johnson City",
          "Savannah",
          "Warren",
          "Vancouver",
          "Sunrise",
          "Muncie",
          "Lehi",
          "San Francisco",
          "Fontana",
          "Frisco",
          "Chino Hills",
          "Poway",
          "Huber Heights",
          "New Brunswick",
          "Norfolk",
          "Hillsboro",
          "San Jacinto",
          "Pensacola",
          "Hamilton",
          "Florence",
          "San Bernardino",
          "Peachtree Corners",
          "Victorville",
          "Gary",
          "Casa Grande",
          "Morgan Hill",
          "Dubuque",
          "Syracuse",
          "Clarksville",
          "Lakeland",
          "Valley Stream",
          "Dover",
          "Moorhead",
          "Culver City",
          "Palatine",
          "Seattle",
          "Covington",
          "Elk Grove",
          "Shreveport",
          "Ogden",
          "Harrisonburg",
          "Inglewood",
          "Pasadena",
          "Lawrence",
          "Lake Oswego",
          "Petaluma",
          "Springfield",
          "Napa",
          "Aurora",
          "Duluth",
          "Roanoke",
          "Bend",
          "Apple Valley",
          "Waltham",
          "Fort Myers",
          "Tampa",
          "Upland",
          "Danville",
          "Beloit",
          "Plantation",
          "Colorado Springs",
          "Modesto",
          "Grand Rapids",
          "Oak Park",
          "Sarasota",
          "Jurupa Valley",
          "Bellflower",
          "Boulder",
          "Santa Fe",
          "Coachella",
          "Marlborough",
          "Riverside",
          "Palmdale",
          "Novato",
          "Layton",
          "Bolingbrook",
          "Mission Viejo",
          "Glenview",
          "Lincoln",
          "Folsom",
          "Prescott Valley",
          "Las Cruces",
          "Bozeman",
          "Schaumburg",
          "Warren",
          "St. Peters",
          "Ames",
          "Surprise",
          "Richardson",
          "Midland",
          "San Marcos",
          "Wilkes-Barre",
          "Appleton",
          "Shawnee",
          "Mentor",
          "Livermore",
          "Charlotte",
          "Owensboro",
          "Jupiter",
          "Rohnert Park",
          "Chicago",
          "Billings",
          "Wauwatosa",
          "Lombard",
          "New Haven",
          "York",
          "Knoxville",
          "Elyria",
          "Barnstable Town",
          "Murray",
          "Alameda",
          "Manteca",
          "Maplewood",
          "Medford",
          "Murfreesboro",
          "Yuba City",
          "Shelton",
          "Cedar Falls",
          "Germantown",
          "Scranton",
          "Auburn",
          "Manassas",
          "Vacaville",
          "Santa Monica",
          "Suffolk",
          "Rochester Hills",
          "La Quinta",
          "Charleston",
          "Delano",
          "St. Cloud",
          "Charleston",
          "Kannapolis",
          "Corona",
          "Rocklin",
          "Lee's Summit",
          "Palm Coast",
          "Sandy",
          "Bentonville",
          "Santa Clarita",
          "Altamonte Springs",
          "New Braunfels",
          "Memphis",
          "Irving",
          "Alexandria",
          "Hesperia",
          "Holyoke",
          "Dunwoody",
          "Skokie",
          "Kearny",
          "Bethlehem",
          "St. Joseph",
          "Redondo Beach",
          "Houston",
          "Temecula",
          "Ann Arbor",
          "Beaumont",
          "East Lansing",
          "Santee",
          "Tamarac",
          "Bellevue",
          "Pembroke Pines",
          "Springdale",
          "Oxnard",
          "Odessa",
          "Stillwater",
          "Brockton",
          "Bayonne",
          "Paramount",
          "Moline",
          "Meridian",
          "Cleveland",
          "Jersey City",
          "St. Paul",
          "Deltona",
          "Freeport",
          "Iowa City",
          "Anaheim",
          "Apple Valley",
          "Great Falls",
          "West Valley City",
          "Hampton",
          "Georgetown",
          "Orem",
          "Monrovia",
          "Keller",
          "Goose Creek",
          "Little Rock",
          "Santa Ana",
          "White Plains",
          "Idaho Falls",
          "Bellevue",
          "Roseville",
          "Perth Amboy",
          "Peabody",
          "Grand Island",
          "Columbia",
          "Racine",
          "Carmel",
          "Portage",
          "Middletown",
          "Woodland",
          "Revere",
          "Euless",
          "Arlington Heights",
          "Hemet",
          "High Point",
          "Newark",
          "Midwest City",
          "San Marcos",
          "Port Orange",
          "Lakewood",
          "Westerville",
          "Rockford",
          "El Cajon",
          "St. Petersburg",
          "Downers Grove",
          "Milford",
          "Albany",
          "Las Vegas",
          "Pasadena",
          "Port St. Lucie",
          "Cedar Rapids",
          "Ormond Beach",
          "Quincy",
          "Miramar",
          "El Paso",
          "Topeka",
          "Rosemead",
          "Keizer",
          "Minnetonka",
          "Akron",
          "Edinburg",
          "Rancho Cucamonga",
          "North Charleston",
          "Louisville",
          "Watsonville",
          "Coconut Creek",
          "Bradenton",
          "Carlsbad",
          "Texas City",
          "Redding",
          "Wyoming",
          "Lorain",
          "Roy",
          "Fort Lauderdale",
          "Warner Robins",
          "Clearwater",
          "Cutler Bay",
          "Florence",
          "Terre Haute",
          "Temple",
          "Beavercreek",
          "Sioux Falls",
          "Columbus",
          "Margate",
          "Leominster",
          "Warwick",
          "Bakersfield",
          "Miami",
          "Lake Charles",
          "Richland",
          "Hickory",
          "South San Francisco",
          "Plymouth",
          "South Bend",
          "Edmond",
          "Des Moines",
          "Bonita Springs",
          "Draper",
          "Whittier",
          "Livonia",
          "Milwaukee",
          "Auburn",
          "Sumter",
          "Beverly",
          "Renton",
          "Centennial",
          "Richmond",
          "Anderson",
          "Beaumont",
          "Pflugerville",
          "Hoboken",
          "Lexington-Fayette",
          "Norwalk",
          "Yuma",
          "Highland",
          "Carol Stream",
          "Joliet",
          "Rock Hill",
          "Rancho Cordova",
          "Dearborn Heights",
          "Honolulu",
          "Victoria",
          "Attleboro",
          "Wylie",
          "Carrollton",
          "Plainfield",
          "Hoffman Estates",
          "Methuen",
          "North Port",
          "Rockville",
          "Burbank",
          "Fullerton",
          "Oshkosh",
          "Huntsville",
          "Farmington Hills",
          "Pico Rivera",
          "Cerritos",
          "La Puente",
          "Grand Junction",
          "Enid",
          "San Jose",
          "Round Rock",
          "Maple Grove",
          "Norman",
          "Homestead",
          "Friendswood",
          "Irvine",
          "Pocatello",
          "Pacifica",
          "Sheboygan",
          "Bossier City",
          "Cedar Park",
          "Sandy Springs",
          "Champaign",
          "Clifton",
          "Moore",
          "Blue Springs",
          "Lancaster",
          "Bryan",
          "Hurst",
          "Cape Coral",
          "Cupertino",
          "Pittsfield",
          "Gilroy",
          "Manchester",
          "Virginia Beach",
          "Salina",
          "Somerville",
          "Largo",
          "Fresno",
          "Phenix City",
          "Berwyn",
          "Palm Beach Gardens",
          "Pawtucket",
          "San Gabriel",
          "Winston-Salem",
          "Alpharetta",
          "O'Fallon",
          "Redwood City",
          "Union City",
          "Hallandale Beach",
          "Mankato",
          "Aliso Viejo",
          "Menifee",
          "Loveland",
          "Carpentersville",
          "Providence",
          "Hialeah",
          "San Ramon",
          "Ontario",
          "Kirkland",
          "St. George",
          "Hilton Head Island",
          "Glendale",
          "Meriden",
          "Gardena",
          "Westfield",
          "Elgin",
          "Plano",
          "Longmont",
          "Coppell",
          "Lakewood",
          "Jonesboro",
          "College Station",
          "Dearborn",
          "Utica",
          "Monroe",
          "Baltimore",
          "Springfield",
          "Pine Bluff",
          "Plainfield",
          "Lynn",
          "Woodbury",
          "Gainesville",
          "West Sacramento",
          "Sammamish",
          "Aventura",
          "Fayetteville",
          "San Rafael",
          "Conway",
          "Tacoma",
          "Middletown",
          "Burlington",
          "Twin Falls",
          "Sherman",
          "New York",
          "Simi Valley",
          "West Covina",
          "Castle Rock",
          "Valdosta",
          "Fort Worth",
          "Carson",
          "Evansville",
          "Santa Maria",
          "Brentwood",
          "La Mesa",
          "Westminster",
          "Reading",
          "Turlock",
          "Greeley",
          "Tyler",
          "Winter Garden",
          "Waco",
          "Martinez",
          "Thousand Oaks",
          "Azusa",
          "Bridgeport",
          "St. Louis Park",
          "Chesterfield",
          "Greenacres",
          "Pasco",
          "Torrance",
          "Madison",
          "Janesville",
          "Waukegan",
          "Bowling Green",
          "Arlington",
          "Lewisville",
          "Farmington",
          "Oakley",
          "Palo Alto",
          "Springfield",
          "New Bedford",
          "Redmond",
          "Brentwood",
          "Davis",
          "La Mirada",
          "Smyrna",
          "Altoona",
          "Dothan",
          "East Orange",
          "Tinley Park",
          "Biloxi",
          "Urbana",
          "Garden Grove",
          "Lynwood",
          "Northglenn",
          "Canton",
          "Brookhaven",
          "Baton Rouge",
          "Bristol",
          "Independence",
          "Lansing",
          "Orland Park",
          "Vineland",
          "Green Bay",
          "Evanston",
          "Ocoee",
          "Los Angeles",
          "Federal Way",
          "West Jordan",
          "Yucaipa",
          "Pittsburgh",
          "Downey",
          "Cicero",
          "South Gate",
          "Panama City",
          "Joplin",
          "League City",
          "Salt Lake City",
          "Fort Pierce",
          "Phoenix",
          "Corvallis",
          "Cedar Hill",
          "Chicopee",
          "Ocala",
          "Roswell",
          "Park Ridge",
          "Concord",
          "Olympia",
          "Huntington Beach",
          "Corpus Christi",
          "Haverhill",
          "Hanover Park",
          "Cambridge",
          "Glendale",
          "Stanton",
          "Summerville",
          "Davenport",
          "Boca Raton",
          "New Britain",
          "Roseville",
          "Cleveland Heights",
          "Gresham",
          "Lauderhill",
          "Hendersonville",
          "Santa Clara",
          "Oceanside",
          "Lake Forest",
          "Novi",
          "West New York",
          "Everett",
          "Linden",
          "Asheville",
          "Compton"
         ],
         "lat": [
          48.0517637,
          33.7825194,
          41.49932,
          42.262593200000005,
          34.0007104,
          41.558152500000006,
          44.804132200000005,
          42.4733688,
          30.2240897,
          43.6187102,
          41.6819935,
          33.8675143,
          33.952602,
          39.5186002,
          26.7153424,
          42.51954,
          41.7605849,
          39.1156615,
          25.8195424,
          33.7513419,
          33.5778631,
          38.9822282,
          32.298757300000005,
          35.262082,
          29.2108147,
          39.0997265,
          33.7444613,
          44.7677424,
          32.9029017,
          33.3942655,
          32.366805199999995,
          41.7369803,
          42.4792618,
          40.6084305,
          32.8323225,
          32.4609764,
          42.8864468,
          42.9764027,
          32.8342952,
          40.742551,
          38.5815719,
          35.385924200000005,
          41.813711600000005,
          41.6266555,
          40.9125992,
          39.7047095,
          36.0395247,
          34.0900091,
          41.0534302,
          39.165325,
          36.548434,
          47.6587802,
          46.2112458,
          39.9525839,
          48.74908,
          36.3302284,
          43.8013556,
          41.2619444,
          26.217305,
          32.7766642,
          38.0049214,
          42.5803122,
          26.3184123,
          39.95675479999999,
          41.1399814,
          33.553914299999995,
          38.9536174,
          40.0455917,
          34.9889818,
          34.0122346,
          39.143440600000005,
          33.7091847,
          39.4142688,
          35.612661,
          41.9294736,
          43.0166806,
          39.8680412,
          41.5772115,
          41.7014912,
          36.20772879999999,
          32.6400541,
          26.271192,
          35.4087517,
          33.883992600000006,
          28.6934076,
          47.9252568,
          39.71367539999999,
          41.7508391,
          26.0112014,
          36.3320196,
          29.9510658,
          47.1717649,
          41.719978000000005,
          43.6629384,
          45.523062200000005,
          37.9779776,
          47.4703767,
          38.7881062,
          43.0116784,
          35.1982836,
          47.1853785,
          42.8142432,
          39.7392358,
          39.7817213,
          37.2871651,
          33.9424658,
          39.6895036,
          42.2505943,
          34.483901,
          34.769535999999995,
          39.5296329,
          39.613321,
          34.540024200000005,
          37.7021521,
          33.425125,
          43.661471,
          45.0941315,
          41.2705484,
          32.792,
          33.0806083,
          43.0125274,
          38.027976200000005,
          33.3703197,
          33.9166805,
          33.7205771,
          33.494170399999994,
          39.9611755,
          40.0378755,
          40.8257625,
          40.2170534,
          42.3600825,
          34.136118700000004,
          44.0121221,
          38.789217,
          38.9784453,
          35.913199600000006,
          39.8386516,
          32.6789476,
          41.6155909,
          46.8787176,
          36.8252277,
          29.5635666,
          33.3528264,
          44.9591352,
          35.7795897,
          33.7877944,
          37.9100783,
          47.567320200000005,
          36.06523,
          32.436381,
          30.4382559,
          30.3118769,
          37.2295733,
          29.4241219,
          41.7637111,
          42.492786,
          42.0986867,
          43.61210870000001,
          43.7730448,
          29.735504700000003,
          35.791540000000005,
          42.2180724,
          36.1539816,
          26.2159066,
          41.1339449,
          42.4250964,
          33.1031744,
          32.2217429,
          35.9250637,
          44.79739620000001,
          30.3321838,
          39.3642834,
          42.1292241,
          37.3021632,
          32.4487364,
          33.888625899999994,
          34.8526176,
          35.410694,
          42.4974085,
          40.273191100000005,
          34.274646000000004,
          37.548269700000006,
          38.2544472,
          42.3917638,
          38.5200504,
          44.977753,
          35.2045328,
          33.913708500000006,
          29.6185669,
          38.6270025,
          26.1947962,
          35.0853336,
          33.9519347,
          40.5621704,
          36.1988592,
          34.055103,
          33.952463,
          39.8814519,
          38.9716689,
          31.9973456,
          35.4675602,
          32.3909071,
          33.4151843,
          41.117744,
          42.8694731,
          43.0605671,
          32.9312336,
          41.6619927,
          33.7458511,
          45.5579451,
          40.8567662,
          33.1192068,
          37.6304904,
          37.87159260000001,
          33.4269728,
          34.6035669,
          44.811349,
          33.058106300000006,
          32.589699800000005,
          41.079273,
          47.7556531,
          42.4184296,
          33.9319578,
          42.65257929999999,
          37.6879241,
          42.240872,
          37.4137536,
          39.0067768,
          41.394817,
          38.0293059,
          25.72149,
          47.6776832,
          34.0686206,
          42.2411344,
          37.8215929,
          33.4353394,
          40.9167654,
          44.9428975,
          28.291955699999995,
          43.4194699,
          25.9017472,
          33.0145673,
          32.9342919,
          44.889686600000005,
          42.331427000000005,
          39.3454673,
          32.5631924,
          43.16103,
          33.5206608,
          30.267153000000004,
          34.4208305,
          41.931696,
          35.2327544,
          40.5142026,
          41.6475306,
          45.1732394,
          37.562991700000005,
          28.5383355,
          42.866632,
          32.844017,
          34.2257255,
          27.8428025,
          25.9331488,
          39.114053000000006,
          42.5834228,
          42.1391927,
          42.3370413,
          25.8900949,
          41.5242649,
          40.735657,
          31.3112936,
          45.1607987,
          26.1906306,
          34.6391501,
          33.2148412,
          29.3013479,
          39.6136578,
          36.6777372,
          25.9420377,
          38.41924960000001,
          27.530567100000003,
          28.0836269,
          32.799573800000005,
          28.03446210000001,
          35.7212689,
          40.8893895,
          37.5949316,
          41.404774200000006,
          44.0805434,
          33.9652918,
          39.8083196,
          42.1014831,
          40.5852602,
          37.7249296,
          33.2000368,
          40.9312099,
          39.1031182,
          39.6417629,
          28.802861199999995,
          40.6975898,
          41.6639383,
          31.5455001,
          37.0870821,
          41.5833688,
          42.1662831,
          29.6196787,
          34.730368799999994,
          38.1341477,
          47.8106521,
          32.6518004,
          35.938210299999994,
          42.6389216,
          32.6781085,
          37.6688205,
          43.0962143,
          39.5349112,
          36.3274502,
          33.8169599,
          41.0997803,
          34.6992579,
          34.055569299999995,
          37.3058839,
          43.5407172,
          38.9071923,
          41.8661403,
          32.5920798,
          34.1064001,
          46.8771863,
          40.6936488,
          41.25236339999999,
          33.640855,
          39.1836082,
          33.8302961,
          32.715738,
          38.440429,
          42.633424700000006,
          36.060949,
          47.380933500000005,
          36.1626638,
          40.8859325,
          39.9205411,
          35.99403289999999,
          37.688889,
          33.780538799999995,
          44.6496868,
          41.8994744,
          26.1595194,
          42.9614039,
          37.36883,
          36.9741171,
          42.5847425,
          40.7933949,
          40.758390000000006,
          39.9356016,
          26.2378597,
          31.4637723,
          40.4842027,
          37.7396513,
          34.949567200000004,
          42.7653662,
          32.8406946,
          40.7062128,
          39.9259463,
          33.7222445,
          42.02558270000001,
          36.7682088,
          40.0992294,
          34.216393700000005,
          43.2341813,
          40.6639916,
          61.2180556,
          48.23296679999999,
          26.0764783,
          26.203407100000003,
          33.197246500000006,
          31.1171194,
          41.04422,
          37.8043637,
          37.3860517,
          33.668077200000006,
          35.2219971,
          40.2338438,
          33.7489954,
          34.0625106,
          41.3144966,
          36.961335600000005,
          39.84031470000001,
          42.0028761,
          30.6953657,
          38.1040864,
          34.139729200000005,
          35.042036,
          38.57670170000001,
          32.5007037,
          33.3061605,
          39.8027644,
          34.095287,
          40.486427,
          26.1723065,
          39.768403,
          26.531786600000004,
          33.4150485,
          42.066416700000005,
          41.7798226,
          40.4167022,
          38.8813958,
          34.0289259,
          36.0726354,
          42.2917069,
          45.4312294,
          34.7540524,
          38.7071247,
          33.2098407,
          41.7317884,
          33.9164032,
          33.405386699999994,
          26.4614625,
          26.6617635,
          35.1359386,
          26.1003654,
          42.6064095,
          40.9114882,
          37.9577016,
          42.4894801,
          28.6122187,
          33.5225261,
          47.6732281,
          33.6411316,
          32.7459645,
          36.8354258,
          47.0342629,
          35.732652,
          42.4999942,
          33.0369867,
          40.114955,
          33.981681200000004,
          44.8546856,
          33.5805955,
          33.4255104,
          39.7390721,
          40.6677248,
          42.324204,
          32.7667955,
          36.0956918,
          32.912624,
          37.9357576,
          46.8083268,
          39.1637984,
          35.747876899999994,
          33.4734978,
          35.0526641,
          31.5785074,
          40.4594021,
          37.5296593,
          34.028622600000006,
          34.6059253,
          35.0456297,
          38.27757020000001,
          41.9950276,
          34.0852868,
          25.790654,
          35.6145169,
          29.8849504,
          35.2827524,
          32.5420821,
          33.6189101,
          40.521893,
          46.6020711,
          39.7589478,
          30.367419800000004,
          33.770050399999995,
          39.7284944,
          31.3271189,
          44.0520691,
          34.0739016,
          34.0165053,
          37.6624312,
          47.9789848,
          38.0608445,
          38.2493581,
          33.4355977,
          41.5931049,
          42.32115220000001,
          44.840798,
          41.5094771,
          45.487062,
          29.9940924,
          34.4047987,
          42.7284117,
          37.4323341,
          42.03336229999999,
          33.87223710000001,
          41.900101,
          34.0775104,
          36.3134397,
          32.0835407,
          41.2375569,
          45.6387281,
          26.1669711,
          40.1933767,
          40.3916172,
          37.7749295,
          34.0922335,
          33.1506744,
          33.989818799999995,
          32.9628232,
          39.843947,
          40.4862157,
          36.8507689,
          45.5228939,
          33.783908399999994,
          30.421309,
          39.3995008,
          34.1954331,
          34.1083449,
          33.9698929,
          34.5362184,
          41.5933696,
          32.8795022,
          37.130501200000005,
          42.5005583,
          43.0481221,
          36.5297706,
          28.0394654,
          40.6642699,
          39.158168,
          46.8737648,
          34.0211224,
          42.1103041,
          47.6062095,
          39.083671200000005,
          38.4087993,
          32.5251516,
          41.223,
          38.4495688,
          33.9616801,
          34.1477849,
          42.7070354,
          45.4206749,
          38.232417,
          39.9242266,
          38.2975381,
          39.7294319,
          46.7866719,
          37.2709704,
          44.0581728,
          34.5008311,
          42.376485200000005,
          26.640628000000003,
          27.950575,
          34.09751,
          36.5859718,
          42.5083482,
          26.1275862,
          38.8338816,
          37.6390972,
          42.9633599,
          41.885031700000006,
          27.3364347,
          33.9971974,
          33.8816818,
          40.0149856,
          35.686975200000006,
          33.6803003,
          42.3459271,
          33.9533487,
          34.5794343,
          38.1074198,
          41.0602216,
          41.6986416,
          33.6000232,
          42.0697509,
          38.891565,
          38.6779591,
          34.6100243,
          32.3199396,
          45.6769979,
          42.0333607,
          42.5144566,
          38.7874699,
          42.034722,
          33.62923370000001,
          32.948333500000004,
          43.6155825,
          29.8832749,
          41.2459149,
          44.2619309,
          39.0228485,
          41.6661573,
          37.6818745,
          35.2270869,
          37.7719074,
          26.934224600000004,
          38.3396367,
          41.8781136,
          45.783285600000006,
          43.049457200000006,
          41.8800296,
          41.308274,
          39.9625984,
          35.96063839999999,
          41.36837979999999,
          41.7003208,
          40.6668916,
          37.7652065,
          37.7974273,
          44.953021500000006,
          42.3265152,
          35.8456213,
          39.1404477,
          41.3164856,
          42.5348993,
          35.08675770000001,
          41.408969,
          32.6098566,
          38.7509488,
          38.3565773,
          34.01945429999999,
          36.7282054,
          42.6583661,
          33.663357299999994,
          38.3498195,
          35.7688425,
          28.2489016,
          32.776474900000004,
          35.4873613,
          33.8752935,
          38.7907339,
          38.9108408,
          29.5844524,
          40.564978100000005,
          36.3728538,
          34.3916641,
          28.6611089,
          29.7030024,
          35.1495343,
          32.814017699999994,
          38.8048355,
          34.4263886,
          42.2042586,
          33.9462125,
          42.0324025,
          40.7684342,
          40.6259316,
          39.7674578,
          33.8491816,
          29.7604267,
          33.4936391,
          42.2808256,
          30.080174,
          42.7369792,
          32.8383828,
          26.2128609,
          41.1543623,
          26.007765,
          36.18674420000001,
          34.1975048,
          31.8456816,
          36.1156071,
          42.083433500000005,
          40.6687141,
          33.8894598,
          41.5067003,
          32.3643098,
          35.1595182,
          40.7281575,
          44.9537029,
          28.9005446,
          40.65760220000001,
          41.6611277,
          33.8352932,
          44.7319094,
          47.4941836,
          40.691613200000006,
          37.0298687,
          30.633261800000003,
          40.2968979,
          34.14426160000001,
          32.9341893,
          32.9810059,
          34.7464809,
          33.7455731,
          41.0339862,
          43.4916514,
          47.610377,
          38.7521235,
          40.5067723,
          42.5278731,
          40.92639570000001,
          38.95170529999999,
          42.7261309,
          39.978371,
          42.20115379999999,
          39.5150576,
          38.6785157,
          42.408430200000005,
          32.8370727,
          42.0883603,
          33.7475203,
          35.955692299999995,
          40.0581205,
          35.4495065,
          33.1433723,
          29.1383165,
          33.853626899999995,
          40.1261743,
          42.2711311,
          32.7947731,
          27.773056,
          41.8089191,
          41.2306979,
          44.6365107,
          36.1699412,
          29.6910625,
          27.2730492,
          41.9778795,
          29.2858129,
          42.25287720000001,
          25.9860762,
          31.7775757,
          39.0558235,
          34.0805651,
          44.9901194,
          44.9211836,
          41.081444700000006,
          26.3017374,
          34.1063989,
          32.8546197,
          38.2526647,
          36.910231,
          26.2517482,
          27.4989278,
          33.158093300000004,
          29.383845,
          40.5865396,
          42.9133602,
          41.452819,
          41.1616108,
          26.1224386,
          32.6130007,
          27.9658533,
          25.5808323,
          34.79981,
          39.4667034,
          31.0982344,
          39.7092262,
          43.5445959,
          39.2014404,
          26.244526300000004,
          42.5250906,
          41.7001009,
          35.3732921,
          25.7616798,
          30.226594899999995,
          46.2856907,
          35.7344538,
          37.654656,
          45.01051939999999,
          41.6763545,
          35.6528323,
          41.6005448,
          26.339806,
          40.5246711,
          33.97917929999999,
          42.36837,
          43.0389025,
          47.3073228,
          33.9204354,
          42.5584283,
          47.4828776,
          39.5807452,
          37.5407246,
          40.1053196,
          33.929460600000006,
          30.4393696,
          40.7439905,
          38.040583700000006,
          33.9022367,
          32.6926512,
          34.1283442,
          41.9125286,
          41.525031,
          34.9248667,
          38.5890723,
          42.3369816,
          21.3069444,
          28.8052674,
          41.9445441,
          33.0151201,
          32.975641499999995,
          41.632223,
          42.0629915,
          42.7262016,
          27.044224,
          39.0839973,
          34.18083920000001,
          33.8703596,
          44.0247062,
          30.723526300000003,
          42.4989936,
          33.9830688,
          33.8583483,
          34.0200114,
          39.0638705,
          36.3955891,
          37.3382082,
          30.508255100000003,
          45.072464200000006,
          35.2225668,
          25.4687224,
          29.529399800000004,
          33.6839473,
          42.8713032,
          37.6138253,
          43.7508284,
          32.5159852,
          30.505198,
          33.9304352,
          40.1164204,
          40.8584328,
          35.339507899999994,
          39.0169509,
          34.6867846,
          30.6743643,
          32.82346210000001,
          26.5628537,
          37.3229978,
          42.4500845,
          37.0057816,
          42.995639700000005,
          36.8529263,
          38.8402805,
          42.3875968,
          27.9094665,
          36.7468422,
          32.4709761,
          41.8505874,
          26.8233946,
          41.878711,
          34.0961111,
          36.0998596,
          34.07537620000001,
          38.8106075,
          37.4852152,
          37.59339179999999,
          25.9812024,
          44.1635775,
          33.5676842,
          33.6971468,
          40.397761200000005,
          42.1211364,
          41.8239891,
          25.8575963,
          37.7799273,
          34.0633443,
          47.6814875,
          37.0965278,
          32.216316,
          34.1425078,
          41.5381535,
          33.8883487,
          42.1250929,
          42.0354084,
          33.0198431,
          40.1672068,
          32.9545687,
          41.481993200000005,
          35.8422967,
          30.627977,
          42.3222599,
          43.100903,
          32.5093109,
          39.2903848,
          37.20895720000001,
          34.2284312,
          40.6337136,
          42.466763,
          44.923855200000006,
          29.6516344,
          38.5804609,
          47.6162683,
          25.9564812,
          36.0625795,
          37.9735346,
          35.0886963,
          47.2528768,
          41.5623209,
          44.4758825,
          42.5629668,
          33.635661799999994,
          40.7127837,
          34.2694474,
          34.0686208,
          39.372212100000006,
          30.8327022,
          32.7554883,
          33.8316745,
          37.9715592,
          34.953033700000006,
          36.0331164,
          32.7678287,
          39.8366528,
          40.3356483,
          37.4946568,
          40.42331420000001,
          32.351260100000005,
          28.5652787,
          31.549333,
          38.0193657,
          34.1705609,
          34.1336186,
          41.18654779999999,
          44.9597376,
          38.6631083,
          26.6276276,
          46.2395793,
          33.835849200000006,
          43.07305170000001,
          42.6827885,
          42.3636331,
          36.9685219,
          32.735687,
          33.046233,
          36.7280583,
          37.9974219,
          37.4418834,
          44.0462362,
          41.6362152,
          47.6739881,
          37.931868,
          38.5449065,
          33.9172357,
          35.9828412,
          40.5186809,
          31.2232313,
          40.767323,
          41.5731442,
          30.396031800000003,
          40.1105875,
          33.7739053,
          33.930293,
          39.8961821,
          40.7989473,
          33.8651033,
          30.4582829,
          41.6717648,
          39.0911161,
          42.732535,
          41.6303103,
          39.4863773,
          44.519159,
          42.0450722,
          28.5691677,
          34.0522342,
          47.3223221,
          40.6096698,
          34.033625,
          40.4406248,
          33.9401088,
          41.8455877,
          33.954737,
          30.1588129,
          37.0842271,
          29.5074538,
          40.7607793,
          27.446705600000005,
          33.4483771,
          44.5645659,
          32.5884689,
          42.14870429999999,
          29.1871986,
          34.0232431,
          42.0111412,
          43.2081366,
          47.0378741,
          33.660297,
          27.8005828,
          42.7762015,
          41.9994722,
          42.3736158,
          33.538652299999995,
          33.802515500000005,
          33.0185039,
          41.5236437,
          26.3683064,
          41.6612104,
          42.4972583,
          41.5200518,
          45.5001357,
          26.1403635,
          36.3047735,
          37.3541079,
          33.1958696,
          33.6469661,
          42.48059,
          40.7878788,
          42.40843,
          40.6220478,
          35.5950581,
          33.8958492
         ],
         "legendgroup": "",
         "lon": [
          -122.1770818,
          -117.2286478,
          -81.6943605,
          -71.8022934,
          -81.0348144,
          -73.0514965,
          -93.1668858,
          -83.2218731,
          -92.0198427,
          -116.2146068,
          -85.9766671,
          -117.9981181,
          -84.5499327,
          -104.7613633,
          -80.0533746,
          -70.8967155,
          -88.3200715,
          -77.5636015,
          -80.3553302,
          -117.9939921,
          -101.8551665,
          -94.6707917,
          -90.1848103,
          -81.1873005,
          -81.02283309999999,
          -94.5785667,
          -118.3870173,
          -93.2777226,
          -96.56388,
          -104.5230242,
          -86.2999689,
          -111.8338359,
          -71.1522765,
          -75.4901833,
          -79.82842579999999,
          -84.9877094,
          -78.8783689,
          -88.10842240000001,
          -97.2289029,
          -84.1052256,
          -121.4943996,
          -94.3985475,
          -71.37005450000001,
          -93.7121656,
          -73.8370786,
          -105.08137340000002,
          -114.9817213,
          -117.8903397,
          -73.53873409999999,
          -86.5263857,
          -82.5618186,
          -117.4260466,
          -119.1372338,
          -75.1652215,
          -122.4781473,
          -119.2920585,
          -91.2395807,
          -95.8608333,
          -80.2258811,
          -96.7969879,
          -121.805789,
          -83.0302033,
          -80.0997657,
          -86.01335,
          -104.8202462,
          -117.2139232,
          -94.7335709,
          -86.0085955,
          -90.0125913,
          -117.688944,
          -77.2013705,
          -117.9536697,
          -77.41054090000002,
          -77.3663538,
          -88.7503647,
          -88.0070315,
          -104.9719243,
          -93.711332,
          -71.1550451,
          -119.3473379,
          -117.0841955,
          -80.27060440000001,
          -80.579511,
          -84.51437609999999,
          -81.53221490000001,
          -97.0328547,
          -82.59932940000002,
          -88.15353520000001,
          -80.1494901,
          -94.1185366,
          -90.0715323,
          -122.518458,
          -87.7479528,
          -116.6873596,
          -122.6764816,
          -122.0310733,
          -122.3467918,
          -90.4974359,
          -88.2314813,
          -111.651302,
          -122.29289740000002,
          -73.93956870000001,
          -104.990251,
          -89.6501481,
          -121.9499568,
          -117.2296717,
          -84.16882740000001,
          -83.17853609999999,
          -114.3224548,
          -92.2670941,
          -119.8138027,
          -105.0166498,
          -112.4685025,
          -121.9357918,
          -94.0476882,
          -70.2553259,
          -93.3563405,
          -72.94697109999998,
          -115.5630514,
          -96.8928309,
          -83.6874562,
          -121.88468059999998,
          -112.58377659999998,
          -117.9000604,
          -116.2155619,
          -111.9260519,
          -82.9987942,
          -76.3055144,
          -96.6851982,
          -74.74293840000001,
          -71.0588801,
          -117.865339,
          -92.4801989,
          -90.322614,
          -76.4921829,
          -79.05584449999999,
          -86.0252612,
          -115.4988834,
          -87.5294871,
          -113.996586,
          -119.7029194,
          -95.2860474,
          -111.789027,
          -89.6301221,
          -78.6381787,
          -117.8531119,
          -122.0651819,
          -122.6329356,
          -119.0167679,
          -111.2224422,
          -84.2807329,
          -95.4560512,
          -80.4139393,
          -98.4936282,
          -72.6850932,
          -92.3425775,
          -75.9179738,
          -116.3915131,
          -88.44705079999999,
          -94.9774274,
          -78.78111690000001,
          -70.94103559999999,
          -95.992775,
          -98.3252932,
          -81.48455849999999,
          -71.066163,
          -96.6705503,
          -110.926479,
          -86.86888990000001,
          -93.5272861,
          -81.655651,
          -74.4229266,
          -80.085059,
          -120.48296770000002,
          -99.7331439,
          -117.8131125,
          -82.3940104,
          -80.8428504,
          -82.8963604,
          -76.88670079999999,
          -119.22903159999998,
          -121.9885719,
          -104.6091409,
          -71.03282840000001,
          -89.98399350000001,
          -93.2650108,
          -89.8739753,
          -98.4933873,
          -95.5377215,
          -90.1994042,
          -98.1836216,
          -106.6055534,
          -83.357567,
          -111.929658,
          -115.1175013,
          -117.7499909,
          -117.5848025,
          -83.09296440000001,
          -95.2352501,
          -102.0779146,
          -97.5164276,
          -110.96648799999998,
          -111.8314724,
          -73.4081575,
          -85.6447492,
          -88.1064787,
          -96.4597089,
          -86.15861559999999,
          -117.826166,
          -94.1632404,
          -74.12847640000001,
          -117.086421,
          -122.4110835,
          -122.272747,
          -117.6119925,
          -98.3959291,
          -91.4984941,
          -112.0476423,
          -96.8570738,
          -85.13935129999999,
          -122.3415178,
          -71.10616390000001,
          -117.94617340000002,
          -73.7562317,
          -122.47020790000002,
          -83.2696509,
          -79.1422464,
          -76.77913649999999,
          -73.45401109999999,
          -78.4766781,
          -80.2683838,
          -116.7804664,
          -118.0275667,
          -88.3161965,
          -121.9999606,
          -112.3576567,
          -74.171811,
          -123.0350963,
          -81.40757099999999,
          -83.9508068,
          -97.4974838,
          -97.0969552,
          -97.0780654,
          -93.3499489,
          -83.0457538,
          -84.56031870000001,
          -97.1416768,
          -77.61092190000001,
          -86.80249,
          -97.7430608,
          -119.6981901,
          -87.9889556,
          -106.6630437,
          -88.99063120000001,
          -88.0895061,
          -93.3030063,
          -122.3255254,
          -81.3792365,
          -106.313081,
          -97.1430671,
          -77.9447102,
          -82.6995443,
          -80.1625463,
          -94.6274636,
          -71.8022955,
          -87.92895909999999,
          -71.2092214,
          -80.18671379999999,
          -72.07591049999999,
          -74.1723667,
          -92.4451371,
          -93.2349489,
          -97.6961026,
          -120.4579409,
          -97.1330683,
          -94.7976958,
          -86.10665259999999,
          -121.6555013,
          -80.2456045,
          -82.445154,
          -99.4803241,
          -80.6081089,
          -97.2691817,
          -80.5886646,
          -77.91553950000001,
          -111.880771,
          -120.9577098,
          -81.72290859999998,
          -103.2310149,
          -118.1514588,
          -104.9338675,
          -72.589811,
          -105.084423,
          -122.1560768,
          -117.2425355,
          -73.8987469,
          -84.5120196,
          -77.7199932,
          -81.269453,
          -74.2631635,
          -83.555212,
          -110.27728559999998,
          -76.4730122,
          -87.5000412,
          -87.9631308,
          -95.6349463,
          -86.5861037,
          -121.2722194,
          -122.3773552,
          -96.9083366,
          -77.7905339,
          -83.2910468,
          -117.0991967,
          -122.0807964,
          -79.03773879999999,
          -119.7526886,
          -119.6456844,
          -118.0372852,
          -80.6495194,
          -86.7483318,
          -117.1825381,
          -89.51814759999999,
          -116.5634624,
          -77.03687070000001,
          -88.1070127,
          -96.7561082,
          -117.3703235,
          -96.7898034,
          -89.58898640000001,
          -95.9979883,
          -117.603104,
          -96.5716694,
          -116.54529209999998,
          -117.1610838,
          -122.7140548,
          -71.3161718,
          -95.7974526,
          -122.2348431,
          -86.78160159999999,
          -74.0434736,
          -105.0866504,
          -78.898619,
          -97.336111,
          -116.4668036,
          -93.24272,
          -87.9403418,
          -97.9908366,
          -88.0125865,
          -122.0363496,
          -122.0307963,
          -87.8211854,
          -77.8600012,
          -82.51544709999999,
          -91.4098726,
          -80.1247667,
          -100.4370375,
          -88.9936873,
          -121.4252227,
          -81.93204820000001,
          -71.467566,
          -83.6324022,
          -73.6187397,
          -75.1196199,
          -116.3744556,
          -88.1784085,
          -76.2874927,
          -83.11407709999999,
          -119.0376023,
          -86.2483921,
          -74.2107006,
          -149.90027780000003,
          -101.2922906,
          -80.2521157,
          -98.2300124,
          -96.6397822,
          -97.7277959,
          -83.6499321,
          -122.27111370000002,
          -122.0838511,
          -117.3272615,
          -101.8312969,
          -111.6585337,
          -84.3879824,
          -118.1228476,
          -81.83569,
          -120.0607176,
          -88.9548001,
          -71.5147839,
          -88.0398912,
          -122.25663670000002,
          -118.0353449,
          -89.66452659999999,
          -92.1735164,
          -94.7404891,
          -111.8412502,
          -105.0874842,
          -118.1270146,
          -86.13360329999999,
          -80.13198929999999,
          -86.158068,
          -80.0905465,
          -111.5495777,
          -87.9372908,
          -71.4372796,
          -86.8752869,
          -94.8191285,
          -84.19857900000001,
          -79.79197540000001,
          -85.5872286,
          -122.7714861,
          -77.43024140000001,
          -121.2810611,
          -87.5691735,
          -93.6001278,
          -118.3525748,
          -86.8113781,
          -80.07282009999999,
          -80.2683571,
          -114.5285981,
          -80.3997748,
          -83.1497751,
          -73.78235490000002,
          -121.29077959999998,
          -83.1446485,
          -80.8075537,
          -117.7075526,
          -117.2393748,
          -117.9186689,
          -96.9977846,
          -76.29827420000001,
          -122.8231915,
          -78.85028559999999,
          -96.4003069,
          -117.2919818,
          -111.654923,
          -118.2250725,
          -93.470786,
          -112.2373779,
          -111.9400054,
          -75.5397878,
          -111.9388258,
          -83.400211,
          -96.5991593,
          -79.43779909999999,
          -96.6388833,
          -122.3477486,
          -100.7837392,
          -119.7674034,
          -95.3696909,
          -82.0105148,
          -78.87835849999999,
          -84.155741,
          -74.360846,
          -122.0402399,
          -117.8103367,
          -86.9833417,
          -85.3096801,
          -85.7371847,
          -88.1856301,
          -117.96089779999998,
          -80.1300455,
          -88.8139469,
          -93.939947,
          -120.6596156,
          -97.3208492,
          -117.9289469,
          -111.9391023,
          -120.5058987,
          -84.1916069,
          -89.0928155,
          -118.1937395,
          -121.8374777,
          -89.2903392,
          -123.08675359999998,
          -117.3136547,
          -118.1137535,
          -121.8746789,
          -122.2020794,
          -97.9297743,
          -122.0399663,
          -112.3496021,
          -81.5267873,
          -85.17971419999999,
          -93.2982799,
          -90.5787476,
          -122.8037102,
          -90.2417434,
          -103.2052272,
          -73.69178509999999,
          -121.8995741,
          -87.88339909999999,
          -117.8703363,
          -71.08976740000001,
          -117.6897776,
          -82.35347270000001,
          -81.0998342,
          -80.81841659999999,
          -122.6614861,
          -80.25659499999999,
          -85.3863599,
          -111.8507662,
          -122.4194155,
          -117.435048,
          -96.8236116,
          -117.7325848,
          -117.0358646,
          -84.1246608,
          -74.4518188,
          -76.28587259999999,
          -122.989827,
          -116.95863500000002,
          -87.2169149,
          -84.5613355,
          -79.7625625,
          -117.2897652,
          -84.2214551,
          -117.2927641,
          -87.3464271,
          -111.7573521,
          -121.6543901,
          -90.6645718,
          -76.1474244,
          -87.3594528,
          -81.9498042,
          -73.7084645,
          -75.5243682,
          -96.7678039,
          -118.3964665,
          -88.03424,
          -122.33207079999998,
          -84.5085536,
          -121.3716178,
          -93.7501789,
          -111.9738304,
          -78.8689155,
          -118.3531311,
          -118.1445155,
          -71.1631137,
          -122.6706498,
          -122.6366524,
          -83.8088171,
          -122.286865,
          -104.8319195,
          -92.1004852,
          -79.9414266,
          -121.3153096,
          -117.1858759,
          -71.2356113,
          -81.87230840000001,
          -82.4571776,
          -117.6483876,
          -79.3950228,
          -89.0317765,
          -80.23310359999999,
          -104.8213634,
          -120.9968782,
          -85.6680863,
          -87.7845025,
          -82.5306527,
          -117.4854802,
          -118.1170117,
          -105.2705456,
          -105.937799,
          -116.173894,
          -71.55228740000001,
          -117.3961564,
          -118.11646129999998,
          -122.5697032,
          -111.9710529,
          -88.0683955,
          -117.6719953,
          -87.7878408,
          -121.29300790000002,
          -121.17605829999998,
          -112.315721,
          -106.7636538,
          -111.0429339,
          -88.0834059,
          -83.01465259999999,
          -90.6298922,
          -93.62,
          -112.3679279,
          -96.7298519,
          -84.24721159999999,
          -97.9413941,
          -75.88130749999999,
          -88.4153847,
          -94.7151865,
          -81.339552,
          -121.7680088,
          -80.8431267,
          -87.1111676,
          -80.09420870000001,
          -122.70109840000002,
          -87.62979820000001,
          -108.5006904,
          -88.0075875,
          -88.0078435,
          -72.9278835,
          -76.727745,
          -83.9207392,
          -82.10764859999999,
          -70.3002024,
          -111.8879909,
          -122.2416355,
          -121.21605259999998,
          -92.9952153,
          -122.8755949,
          -86.39027,
          -121.6169108,
          -73.0931641,
          -92.4453161,
          -89.8100858,
          -75.66241219999999,
          -85.48078249999999,
          -77.4752667,
          -121.9877444,
          -118.4911912,
          -76.5835621,
          -83.14993220000001,
          -116.3100095,
          -81.6326234,
          -119.2470536,
          -81.2811801,
          -79.9310512,
          -80.62173409999998,
          -117.5664384,
          -121.2357828,
          -94.3821724,
          -81.2078699,
          -111.8389726,
          -94.2088172,
          -118.542586,
          -81.36562420000001,
          -98.1244531,
          -90.0489801,
          -96.9488945,
          -77.0469214,
          -117.3008784,
          -72.61620090000001,
          -84.3346473,
          -87.7416246,
          -74.1454214,
          -75.3704579,
          -94.846681,
          -118.3884078,
          -95.3698028,
          -117.1483648,
          -83.7430378,
          -94.1265562,
          -84.48386540000001,
          -116.97391670000002,
          -80.2497707,
          -95.9145568,
          -80.2962555,
          -94.1288141,
          -119.17705159999998,
          -102.3676431,
          -97.0583681,
          -71.0183787,
          -74.11430909999999,
          -118.15979109999998,
          -90.5151342,
          -88.70365600000001,
          -84.8766115,
          -74.0776417,
          -93.0899578,
          -81.2636738,
          -73.58318349999999,
          -91.5301683,
          -117.9145036,
          -93.21772,
          -111.2833449,
          -112.0010501,
          -76.3452218,
          -97.6779842,
          -111.69464750000002,
          -118.0019482,
          -97.229298,
          -80.03258670000001,
          -92.2895948,
          -117.8678338,
          -73.76290970000001,
          -112.0339645,
          -122.2006786,
          -121.28800590000002,
          -74.2654234,
          -70.92866090000001,
          -98.3420118,
          -92.3340724,
          -87.78285229999999,
          -86.1180435,
          -85.5800022,
          -84.39827629999999,
          -121.7732971,
          -71.0119948,
          -97.0819541,
          -87.9806265,
          -116.9719684,
          -80.0053176,
          -82.4012642,
          -97.3967019,
          -117.1661449,
          -80.9956105,
          -118.1339563,
          -82.9290696,
          -89.09399520000001,
          -116.9625269,
          -82.64,
          -88.01117459999999,
          -73.064036,
          -123.1059282,
          -115.13982959999998,
          -95.2091006,
          -80.3582261,
          -91.6656232,
          -81.05588940000001,
          -71.0022705,
          -80.3035602,
          -106.4424559,
          -95.6890185,
          -118.072846,
          -123.0262077,
          -93.4687489,
          -81.51900529999999,
          -98.1633432,
          -117.5931084,
          -79.9748103,
          -85.7584557,
          -121.7568946,
          -80.17893509999999,
          -82.5748194,
          -117.3505939,
          -94.9027002,
          -122.3916754,
          -85.7053085,
          -82.18237459999999,
          -112.0263313,
          -80.13731740000001,
          -83.624201,
          -82.8001026,
          -80.3468593,
          -87.677251,
          -87.4139092,
          -97.342782,
          -84.0632685,
          -96.7311034,
          -85.9213796,
          -80.206436,
          -71.759794,
          -71.4161671,
          -119.0187125,
          -80.1917902,
          -93.2173758,
          -119.2844621,
          -81.3444573,
          -122.4077498,
          -93.4555093,
          -86.25198979999999,
          -97.4780954,
          -93.6091064,
          -81.77869720000001,
          -111.8638226,
          -118.032844,
          -83.3527097,
          -87.9064736,
          -122.22845320000002,
          -80.3414693,
          -70.880049,
          -122.21706609999998,
          -104.8771726,
          -77.4360481,
          -85.6802541,
          -116.977248,
          -97.6200043,
          -74.0323626,
          -84.50371640000002,
          -118.081733,
          -114.6276916,
          -117.2086513,
          -88.1347927,
          -88.0817251,
          -81.02507840000001,
          -121.302728,
          -83.2732627,
          -157.8583333,
          -97.0035982,
          -71.2856082,
          -96.5388789,
          -96.8899636,
          -88.2120315,
          -88.1227199,
          -71.19089240000001,
          -82.23592540000001,
          -77.1527578,
          -118.30896609999998,
          -117.9242966,
          -88.5426136,
          -95.5507771,
          -83.3677168,
          -118.096735,
          -118.0647871,
          -117.9495083,
          -108.5506486,
          -97.8783911,
          -121.88632859999998,
          -97.678896,
          -93.4557877,
          -97.4394777,
          -80.4775569,
          -95.2010447,
          -117.7946942,
          -112.4455344,
          -122.48691940000002,
          -87.71453000000001,
          -93.7321228,
          -97.8202888,
          -84.3733147,
          -88.2433829,
          -74.16375529999999,
          -97.4867028,
          -94.2816148,
          -118.1541632,
          -96.3699632,
          -97.1705678,
          -81.94953309999998,
          -122.0321823,
          -73.2453824,
          -121.5682751,
          -71.4547891,
          -75.977985,
          -97.6114237,
          -71.0994968,
          -82.7873244,
          -119.7725868,
          -85.0007653,
          -87.79366850000001,
          -80.1386547,
          -71.38255579999999,
          -118.1058333,
          -80.24421600000001,
          -84.2940899,
          -90.6998477,
          -122.2363548,
          -122.0438298,
          -80.148379,
          -93.9993996,
          -117.7256083,
          -117.185294,
          -105.0749801,
          -88.2578582,
          -71.4128343,
          -80.2781057,
          -121.9780153,
          -117.6508876,
          -122.2087353,
          -113.5684164,
          -80.752608,
          -118.255075,
          -72.8070435,
          -118.3089624,
          -72.749538,
          -88.2825668,
          -96.6988856,
          -105.1019275,
          -97.0150078,
          -81.7981908,
          -90.704279,
          -96.3344068,
          -83.1763145,
          -75.232664,
          -92.1193012,
          -76.6121893,
          -93.2922989,
          -92.0031955,
          -74.40737359999999,
          -70.9494938,
          -92.9593797,
          -82.3248262,
          -121.530234,
          -122.0355736,
          -80.1392121,
          -94.1574263,
          -122.5310874,
          -92.4421011,
          -122.4442906,
          -72.6506488,
          -73.21207199999999,
          -114.4608711,
          -96.6088805,
          -74.00594129999999,
          -118.781482,
          -117.93895259999998,
          -104.8560902,
          -83.2784851,
          -97.3307658,
          -118.281693,
          -87.5710898,
          -120.4357191,
          -86.7827772,
          -117.02308390000002,
          -105.03720459999998,
          -75.9268747,
          -120.8465941,
          -104.7091322,
          -95.3010624,
          -81.5861847,
          -97.1466695,
          -122.1341321,
          -118.8375937,
          -117.9075627,
          -73.1951767,
          -93.3702186,
          -90.5770675,
          -80.1353896,
          -119.10056570000002,
          -118.3406288,
          -89.4012302,
          -89.01872220000001,
          -87.84479379999999,
          -86.48080429999999,
          -97.1080656,
          -96.994174,
          -108.2186856,
          -121.7124536,
          -122.1430195,
          -123.0220289,
          -70.934205,
          -122.121512,
          -121.6957863,
          -121.7405167,
          -118.0120086,
          -86.51860450000001,
          -78.3947359,
          -85.39048879999999,
          -74.20486770000001,
          -87.7932939,
          -88.88530779999999,
          -88.2072697,
          -117.9414477,
          -118.21146029999998,
          -104.9811468,
          -81.378447,
          -84.3365917,
          -91.1403196,
          -72.9492703,
          -94.4155068,
          -84.55553470000001,
          -87.8539425,
          -75.0259637,
          -88.019826,
          -87.6876969,
          -81.5439619,
          -118.24368490000002,
          -122.3126222,
          -111.9391031,
          -117.0430865,
          -79.9958864,
          -118.1331593,
          -87.7539448,
          -118.2120161,
          -85.6602058,
          -94.513281,
          -95.0949303,
          -111.89104740000002,
          -80.3256056,
          -112.0740373,
          -123.2620435,
          -96.9561152,
          -72.6078672,
          -82.14009229999999,
          -84.36155550000001,
          -87.8406192,
          -71.5375718,
          -122.9006951,
          -117.9992265,
          -97.396381,
          -71.0772796,
          -88.1450735,
          -71.10973349999999,
          -112.1859866,
          -117.9931165,
          -80.17564809999999,
          -90.5776367,
          -80.1289321,
          -72.77954190000001,
          -82.93714090000002,
          -81.556235,
          -122.4302013,
          -80.2133808,
          -86.6199957,
          -121.9552356,
          -117.3794834,
          -117.689218,
          -83.47549129999999,
          -74.0143064,
          -71.0536625,
          -74.2445902,
          -82.5514869,
          -118.2200712
         ],
         "marker": {
          "color": "fuchsia"
         },
         "mode": "markers",
         "name": "",
         "showlegend": false,
         "subplot": "mapbox",
         "type": "scattermapbox"
        }
       ],
       "layout": {
        "height": 300,
        "legend": {
         "tracegroupgap": 0
        },
        "mapbox": {
         "center": {
          "lat": 37.338240701500006,
          "lon": -96.48302336069996
         },
         "domain": {
          "x": [
           0,
           1
          ],
          "y": [
           0,
           1
          ]
         },
         "style": "open-street-map",
         "zoom": 3
        },
        "margin": {
         "b": 0,
         "l": 0,
         "r": 0,
         "t": 0
        },
        "template": {
         "data": {
          "bar": [
           {
            "error_x": {
             "color": "#2a3f5f"
            },
            "error_y": {
             "color": "#2a3f5f"
            },
            "marker": {
             "line": {
              "color": "#E5ECF6",
              "width": 0.5
             },
             "pattern": {
              "fillmode": "overlay",
              "size": 10,
              "solidity": 0.2
             }
            },
            "type": "bar"
           }
          ],
          "barpolar": [
           {
            "marker": {
             "line": {
              "color": "#E5ECF6",
              "width": 0.5
             },
             "pattern": {
              "fillmode": "overlay",
              "size": 10,
              "solidity": 0.2
             }
            },
            "type": "barpolar"
           }
          ],
          "carpet": [
           {
            "aaxis": {
             "endlinecolor": "#2a3f5f",
             "gridcolor": "white",
             "linecolor": "white",
             "minorgridcolor": "white",
             "startlinecolor": "#2a3f5f"
            },
            "baxis": {
             "endlinecolor": "#2a3f5f",
             "gridcolor": "white",
             "linecolor": "white",
             "minorgridcolor": "white",
             "startlinecolor": "#2a3f5f"
            },
            "type": "carpet"
           }
          ],
          "choropleth": [
           {
            "colorbar": {
             "outlinewidth": 0,
             "ticks": ""
            },
            "type": "choropleth"
           }
          ],
          "contour": [
           {
            "colorbar": {
             "outlinewidth": 0,
             "ticks": ""
            },
            "colorscale": [
             [
              0,
              "#0d0887"
             ],
             [
              0.1111111111111111,
              "#46039f"
             ],
             [
              0.2222222222222222,
              "#7201a8"
             ],
             [
              0.3333333333333333,
              "#9c179e"
             ],
             [
              0.4444444444444444,
              "#bd3786"
             ],
             [
              0.5555555555555556,
              "#d8576b"
             ],
             [
              0.6666666666666666,
              "#ed7953"
             ],
             [
              0.7777777777777778,
              "#fb9f3a"
             ],
             [
              0.8888888888888888,
              "#fdca26"
             ],
             [
              1,
              "#f0f921"
             ]
            ],
            "type": "contour"
           }
          ],
          "contourcarpet": [
           {
            "colorbar": {
             "outlinewidth": 0,
             "ticks": ""
            },
            "type": "contourcarpet"
           }
          ],
          "heatmap": [
           {
            "colorbar": {
             "outlinewidth": 0,
             "ticks": ""
            },
            "colorscale": [
             [
              0,
              "#0d0887"
             ],
             [
              0.1111111111111111,
              "#46039f"
             ],
             [
              0.2222222222222222,
              "#7201a8"
             ],
             [
              0.3333333333333333,
              "#9c179e"
             ],
             [
              0.4444444444444444,
              "#bd3786"
             ],
             [
              0.5555555555555556,
              "#d8576b"
             ],
             [
              0.6666666666666666,
              "#ed7953"
             ],
             [
              0.7777777777777778,
              "#fb9f3a"
             ],
             [
              0.8888888888888888,
              "#fdca26"
             ],
             [
              1,
              "#f0f921"
             ]
            ],
            "type": "heatmap"
           }
          ],
          "heatmapgl": [
           {
            "colorbar": {
             "outlinewidth": 0,
             "ticks": ""
            },
            "colorscale": [
             [
              0,
              "#0d0887"
             ],
             [
              0.1111111111111111,
              "#46039f"
             ],
             [
              0.2222222222222222,
              "#7201a8"
             ],
             [
              0.3333333333333333,
              "#9c179e"
             ],
             [
              0.4444444444444444,
              "#bd3786"
             ],
             [
              0.5555555555555556,
              "#d8576b"
             ],
             [
              0.6666666666666666,
              "#ed7953"
             ],
             [
              0.7777777777777778,
              "#fb9f3a"
             ],
             [
              0.8888888888888888,
              "#fdca26"
             ],
             [
              1,
              "#f0f921"
             ]
            ],
            "type": "heatmapgl"
           }
          ],
          "histogram": [
           {
            "marker": {
             "pattern": {
              "fillmode": "overlay",
              "size": 10,
              "solidity": 0.2
             }
            },
            "type": "histogram"
           }
          ],
          "histogram2d": [
           {
            "colorbar": {
             "outlinewidth": 0,
             "ticks": ""
            },
            "colorscale": [
             [
              0,
              "#0d0887"
             ],
             [
              0.1111111111111111,
              "#46039f"
             ],
             [
              0.2222222222222222,
              "#7201a8"
             ],
             [
              0.3333333333333333,
              "#9c179e"
             ],
             [
              0.4444444444444444,
              "#bd3786"
             ],
             [
              0.5555555555555556,
              "#d8576b"
             ],
             [
              0.6666666666666666,
              "#ed7953"
             ],
             [
              0.7777777777777778,
              "#fb9f3a"
             ],
             [
              0.8888888888888888,
              "#fdca26"
             ],
             [
              1,
              "#f0f921"
             ]
            ],
            "type": "histogram2d"
           }
          ],
          "histogram2dcontour": [
           {
            "colorbar": {
             "outlinewidth": 0,
             "ticks": ""
            },
            "colorscale": [
             [
              0,
              "#0d0887"
             ],
             [
              0.1111111111111111,
              "#46039f"
             ],
             [
              0.2222222222222222,
              "#7201a8"
             ],
             [
              0.3333333333333333,
              "#9c179e"
             ],
             [
              0.4444444444444444,
              "#bd3786"
             ],
             [
              0.5555555555555556,
              "#d8576b"
             ],
             [
              0.6666666666666666,
              "#ed7953"
             ],
             [
              0.7777777777777778,
              "#fb9f3a"
             ],
             [
              0.8888888888888888,
              "#fdca26"
             ],
             [
              1,
              "#f0f921"
             ]
            ],
            "type": "histogram2dcontour"
           }
          ],
          "mesh3d": [
           {
            "colorbar": {
             "outlinewidth": 0,
             "ticks": ""
            },
            "type": "mesh3d"
           }
          ],
          "parcoords": [
           {
            "line": {
             "colorbar": {
              "outlinewidth": 0,
              "ticks": ""
             }
            },
            "type": "parcoords"
           }
          ],
          "pie": [
           {
            "automargin": true,
            "type": "pie"
           }
          ],
          "scatter": [
           {
            "fillpattern": {
             "fillmode": "overlay",
             "size": 10,
             "solidity": 0.2
            },
            "type": "scatter"
           }
          ],
          "scatter3d": [
           {
            "line": {
             "colorbar": {
              "outlinewidth": 0,
              "ticks": ""
             }
            },
            "marker": {
             "colorbar": {
              "outlinewidth": 0,
              "ticks": ""
             }
            },
            "type": "scatter3d"
           }
          ],
          "scattercarpet": [
           {
            "marker": {
             "colorbar": {
              "outlinewidth": 0,
              "ticks": ""
             }
            },
            "type": "scattercarpet"
           }
          ],
          "scattergeo": [
           {
            "marker": {
             "colorbar": {
              "outlinewidth": 0,
              "ticks": ""
             }
            },
            "type": "scattergeo"
           }
          ],
          "scattergl": [
           {
            "marker": {
             "colorbar": {
              "outlinewidth": 0,
              "ticks": ""
             }
            },
            "type": "scattergl"
           }
          ],
          "scattermapbox": [
           {
            "marker": {
             "colorbar": {
              "outlinewidth": 0,
              "ticks": ""
             }
            },
            "type": "scattermapbox"
           }
          ],
          "scatterpolar": [
           {
            "marker": {
             "colorbar": {
              "outlinewidth": 0,
              "ticks": ""
             }
            },
            "type": "scatterpolar"
           }
          ],
          "scatterpolargl": [
           {
            "marker": {
             "colorbar": {
              "outlinewidth": 0,
              "ticks": ""
             }
            },
            "type": "scatterpolargl"
           }
          ],
          "scatterternary": [
           {
            "marker": {
             "colorbar": {
              "outlinewidth": 0,
              "ticks": ""
             }
            },
            "type": "scatterternary"
           }
          ],
          "surface": [
           {
            "colorbar": {
             "outlinewidth": 0,
             "ticks": ""
            },
            "colorscale": [
             [
              0,
              "#0d0887"
             ],
             [
              0.1111111111111111,
              "#46039f"
             ],
             [
              0.2222222222222222,
              "#7201a8"
             ],
             [
              0.3333333333333333,
              "#9c179e"
             ],
             [
              0.4444444444444444,
              "#bd3786"
             ],
             [
              0.5555555555555556,
              "#d8576b"
             ],
             [
              0.6666666666666666,
              "#ed7953"
             ],
             [
              0.7777777777777778,
              "#fb9f3a"
             ],
             [
              0.8888888888888888,
              "#fdca26"
             ],
             [
              1,
              "#f0f921"
             ]
            ],
            "type": "surface"
           }
          ],
          "table": [
           {
            "cells": {
             "fill": {
              "color": "#EBF0F8"
             },
             "line": {
              "color": "white"
             }
            },
            "header": {
             "fill": {
              "color": "#C8D4E3"
             },
             "line": {
              "color": "white"
             }
            },
            "type": "table"
           }
          ]
         },
         "layout": {
          "annotationdefaults": {
           "arrowcolor": "#2a3f5f",
           "arrowhead": 0,
           "arrowwidth": 1
          },
          "autotypenumbers": "strict",
          "coloraxis": {
           "colorbar": {
            "outlinewidth": 0,
            "ticks": ""
           }
          },
          "colorscale": {
           "diverging": [
            [
             0,
             "#8e0152"
            ],
            [
             0.1,
             "#c51b7d"
            ],
            [
             0.2,
             "#de77ae"
            ],
            [
             0.3,
             "#f1b6da"
            ],
            [
             0.4,
             "#fde0ef"
            ],
            [
             0.5,
             "#f7f7f7"
            ],
            [
             0.6,
             "#e6f5d0"
            ],
            [
             0.7,
             "#b8e186"
            ],
            [
             0.8,
             "#7fbc41"
            ],
            [
             0.9,
             "#4d9221"
            ],
            [
             1,
             "#276419"
            ]
           ],
           "sequential": [
            [
             0,
             "#0d0887"
            ],
            [
             0.1111111111111111,
             "#46039f"
            ],
            [
             0.2222222222222222,
             "#7201a8"
            ],
            [
             0.3333333333333333,
             "#9c179e"
            ],
            [
             0.4444444444444444,
             "#bd3786"
            ],
            [
             0.5555555555555556,
             "#d8576b"
            ],
            [
             0.6666666666666666,
             "#ed7953"
            ],
            [
             0.7777777777777778,
             "#fb9f3a"
            ],
            [
             0.8888888888888888,
             "#fdca26"
            ],
            [
             1,
             "#f0f921"
            ]
           ],
           "sequentialminus": [
            [
             0,
             "#0d0887"
            ],
            [
             0.1111111111111111,
             "#46039f"
            ],
            [
             0.2222222222222222,
             "#7201a8"
            ],
            [
             0.3333333333333333,
             "#9c179e"
            ],
            [
             0.4444444444444444,
             "#bd3786"
            ],
            [
             0.5555555555555556,
             "#d8576b"
            ],
            [
             0.6666666666666666,
             "#ed7953"
            ],
            [
             0.7777777777777778,
             "#fb9f3a"
            ],
            [
             0.8888888888888888,
             "#fdca26"
            ],
            [
             1,
             "#f0f921"
            ]
           ]
          },
          "colorway": [
           "#636efa",
           "#EF553B",
           "#00cc96",
           "#ab63fa",
           "#FFA15A",
           "#19d3f3",
           "#FF6692",
           "#B6E880",
           "#FF97FF",
           "#FECB52"
          ],
          "font": {
           "color": "#2a3f5f"
          },
          "geo": {
           "bgcolor": "white",
           "lakecolor": "white",
           "landcolor": "#E5ECF6",
           "showlakes": true,
           "showland": true,
           "subunitcolor": "white"
          },
          "hoverlabel": {
           "align": "left"
          },
          "hovermode": "closest",
          "mapbox": {
           "style": "light"
          },
          "paper_bgcolor": "white",
          "plot_bgcolor": "#E5ECF6",
          "polar": {
           "angularaxis": {
            "gridcolor": "white",
            "linecolor": "white",
            "ticks": ""
           },
           "bgcolor": "#E5ECF6",
           "radialaxis": {
            "gridcolor": "white",
            "linecolor": "white",
            "ticks": ""
           }
          },
          "scene": {
           "xaxis": {
            "backgroundcolor": "#E5ECF6",
            "gridcolor": "white",
            "gridwidth": 2,
            "linecolor": "white",
            "showbackground": true,
            "ticks": "",
            "zerolinecolor": "white"
           },
           "yaxis": {
            "backgroundcolor": "#E5ECF6",
            "gridcolor": "white",
            "gridwidth": 2,
            "linecolor": "white",
            "showbackground": true,
            "ticks": "",
            "zerolinecolor": "white"
           },
           "zaxis": {
            "backgroundcolor": "#E5ECF6",
            "gridcolor": "white",
            "gridwidth": 2,
            "linecolor": "white",
            "showbackground": true,
            "ticks": "",
            "zerolinecolor": "white"
           }
          },
          "shapedefaults": {
           "line": {
            "color": "#2a3f5f"
           }
          },
          "ternary": {
           "aaxis": {
            "gridcolor": "white",
            "linecolor": "white",
            "ticks": ""
           },
           "baxis": {
            "gridcolor": "white",
            "linecolor": "white",
            "ticks": ""
           },
           "bgcolor": "#E5ECF6",
           "caxis": {
            "gridcolor": "white",
            "linecolor": "white",
            "ticks": ""
           }
          },
          "title": {
           "x": 0.05
          },
          "xaxis": {
           "automargin": true,
           "gridcolor": "white",
           "linecolor": "white",
           "ticks": "",
           "title": {
            "standoff": 15
           },
           "zerolinecolor": "white",
           "zerolinewidth": 2
          },
          "yaxis": {
           "automargin": true,
           "gridcolor": "white",
           "linecolor": "white",
           "ticks": "",
           "title": {
            "standoff": 15
           },
           "zerolinecolor": "white",
           "zerolinewidth": 2
          }
         }
        }
       }
      },
      "text/html": [
       "<div>                            <div id=\"51ab5630-34a7-4ce4-9b84-970d6c7dd148\" class=\"plotly-graph-div\" style=\"height:300px; width:100%;\"></div>            <script type=\"text/javascript\">                require([\"plotly\"], function(Plotly) {                    window.PLOTLYENV=window.PLOTLYENV || {};                                    if (document.getElementById(\"51ab5630-34a7-4ce4-9b84-970d6c7dd148\")) {                    Plotly.newPlot(                        \"51ab5630-34a7-4ce4-9b84-970d6c7dd148\",                        [{\"customdata\":[[\"Washington\",63269],[\"California\",72326],[\"Ohio\",390113],[\"Massachusetts\",182544],[\"South Carolina\",133358],[\"Connecticut\",109676],[\"Minnesota\",65453],[\"Michigan\",73006],[\"Louisiana\",124276],[\"Idaho\",214237],[\"Indiana\",51265],[\"California\",82882],[\"Georgia\",59089],[\"Colorado\",48608],[\"Florida\",102436],[\"Massachusetts\",42544],[\"Illinois\",199963],[\"Virginia\",47673],[\"Florida\",50213],[\"California\",91739],[\"Texas\",239538],[\"Kansas\",181260],[\"Mississippi\",172638],[\"North Carolina\",73209],[\"Florida\",62316],[\"Missouri\",467007],[\"California\",42448],[\"Minnesota\",61434],[\"Texas\",58043],[\"New Mexico\",48611],[\"Alabama\",201332],[\"Utah\",48913],[\"Massachusetts\",39083],[\"Pennsylvania\",118577],[\"South Carolina\",74885],[\"Georgia\",202824],[\"New York\",258959],[\"Wisconsin\",39834],[\"Texas\",67317],[\"Ohio\",38355],[\"California\",479686],[\"Arkansas\",87650],[\"Rhode Island\",47149],[\"Iowa\",41776],[\"New York\",68224],[\"Colorado\",147214],[\"Nevada\",270811],[\"California\",48508],[\"Connecticut\",126456],[\"Indiana\",82575],[\"Tennessee\",52962],[\"Washington\",210721],[\"Washington\",76762],[\"Pennsylvania\",1553165],[\"Washington\",82631],[\"California\",127763],[\"Wisconsin\",51522],[\"Iowa\",61969],[\"Florida\",42757],[\"Texas\",1257676],[\"California\",107100],[\"Michigan\",131224],[\"Florida\",78041],[\"Indiana\",83891],[\"Wyoming\",62448],[\"California\",107479],[\"Kansas\",50344],[\"Indiana\",56540],[\"Mississippi\",50997],[\"California\",80988],[\"Maryland\",65690],[\"California\",56707],[\"Maryland\",66893],[\"North Carolina\",89130],[\"Illinois\",43849],[\"Wisconsin\",60697],[\"Colorado\",127359],[\"Iowa\",61255],[\"Massachusetts\",88697],[\"California\",61170],[\"California\",256780],[\"Florida\",126604],[\"North Carolina\",83506],[\"Georgia\",53438],[\"Florida\",45587],[\"North Dakota\",54932],[\"Ohio\",39325],[\"Illinois\",144864],[\"Florida\",146526],[\"Arkansas\",60112],[\"Louisiana\",378715],[\"Washington\",59097],[\"Illinois\",57073],[\"Idaho\",48957],[\"Oregon\",609456],[\"California\",125880],[\"Washington\",49858],[\"Missouri\",67569],[\"Wisconsin\",71016],[\"Arizona\",68667],[\"Washington\",38609],[\"New York\",65902],[\"Colorado\",649495],[\"Illinois\",117006],[\"California\",40584],[\"California\",201175],[\"Ohio\",55870],[\"Michigan\",37313],[\"Arizona\",52844],[\"Arkansas\",66075],[\"Nevada\",233294],[\"Colorado\",44275],[\"Arizona\",40590],[\"California\",52105],[\"Texas\",37442],[\"Maine\",66318],[\"Minnesota\",78373],[\"Connecticut\",55046],[\"California\",43363],[\"Texas\",39458],[\"Michigan\",99763],[\"California\",66695],[\"Arizona\",56683],[\"California\",40963],[\"California\",83539],[\"Arizona\",226918],[\"Ohio\",822553],[\"Pennsylvania\",59325],[\"Nebraska\",268738],[\"New Jersey\",84349],[\"Massachusetts\",645966],[\"California\",51074],[\"Minnesota\",110742],[\"Missouri\",52363],[\"Maryland\",38722],[\"North Carolina\",59635],[\"Indiana\",47135],[\"California\",39389],[\"Illinois\",37240],[\"Montana\",69122],[\"California\",99769],[\"Texas\",100065],[\"Arizona\",229972],[\"Wisconsin\",39309],[\"North Carolina\",431746],[\"California\",139969],[\"California\",66900],[\"Washington\",39056],[\"California\",55174],[\"Arizona\",38290],[\"Florida\",186411],[\"Texas\",63032],[\"Virginia\",43609],[\"Texas\",1409019],[\"Connecticut\",125017],[\"Iowa\",68366],[\"New York\",46444],[\"Idaho\",83596],[\"Wisconsin\",42970],[\"Texas\",75418],[\"North Carolina\",151088],[\"Massachusetts\",55419],[\"Oklahoma\",398121],[\"Texas\",81050],[\"Ohio\",49267],[\"Massachusetts\",60509],[\"Texas\",92020],[\"Arizona\",526116],[\"Tennessee\",68886],[\"Minnesota\",39167],[\"Florida\",842583],[\"New Jersey\",39551],[\"Pennsylvania\",100671],[\"California\",81102],[\"Texas\",120099],[\"California\",67032],[\"South Carolina\",61397],[\"North Carolina\",50458],[\"Michigan\",60070],[\"Pennsylvania\",49188],[\"California\",108817],[\"California\",224922],[\"Colorado\",108249],[\"Massachusetts\",37670],[\"Illinois\",42895],[\"Minnesota\",400070],[\"Tennessee\",58226],[\"Texas\",104898],[\"Texas\",70185],[\"Missouri\",318416],[\"Texas\",73790],[\"New Mexico\",556495],[\"Georgia\",119980],[\"Utah\",59366],[\"Nevada\",226877],[\"California\",151348],[\"California\",55191],[\"Ohio\",37490],[\"Kansas\",90811],[\"Texas\",123933],[\"Oklahoma\",610613],[\"Arizona\",41627],[\"Arizona\",457587],[\"Connecticut\",87776],[\"Michigan\",50233],[\"Wisconsin\",37999],[\"Texas\",40922],[\"Indiana\",47989],[\"California\",78327],[\"Minnesota\",66297],[\"New Jersey\",70868],[\"California\",148738],[\"California\",42443],[\"California\",116768],[\"California\",65040],[\"Oklahoma\",97151],[\"Wisconsin\",67545],[\"Arizona\",45508],[\"Texas\",51483],[\"Indiana\",256496],[\"Washington\",54790],[\"Massachusetts\",57170],[\"California\",61653],[\"New York\",98424],[\"California\",104739],[\"Michigan\",61817],[\"Virginia\",78014],[\"Maryland\",56759],[\"Connecticut\",83684],[\"Virginia\",44349],[\"Florida\",49631],[\"Idaho\",46402],[\"California\",115708],[\"Illinois\",40388],[\"California\",43341],[\"Arizona\",72864],[\"New Jersey\",145948],[\"Oregon\",160614],[\"Florida\",65173],[\"Michigan\",50303],[\"Texas\",181860],[\"Texas\",68609],[\"Texas\",50195],[\"Minnesota\",49376],[\"Michigan\",688701],[\"Ohio\",42635],[\"Texas\",60872],[\"New York\",210358],[\"Alabama\",212113],[\"Texas\",885400],[\"California\",90412],[\"Illinois\",37385],[\"New Mexico\",91956],[\"Illinois\",54664],[\"Illinois\",39650],[\"Minnesota\",62103],[\"California\",101128],[\"Florida\",255483],[\"Wyoming\",59628],[\"Texas\",48592],[\"North Carolina\",112067],[\"Florida\",49998],[\"Florida\",43250],[\"Kansas\",148483],[\"Massachusetts\",40383],[\"Illinois\",38015],[\"Massachusetts\",87971],[\"Florida\",61007],[\"Connecticut\",40347],[\"New Jersey\",278427],[\"Louisiana\",48426],[\"Minnesota\",60407],[\"Texas\",65665],[\"California\",43509],[\"Texas\",123099],[\"Texas\",48733],[\"Indiana\",53665],[\"California\",155662],[\"Florida\",111378],[\"West Virginia\",49177],[\"Texas\",248142],[\"Florida\",77508],[\"Texas\",43580],[\"Florida\",104898],[\"North Carolina\",49628],[\"Utah\",43023],[\"California\",46714],[\"Ohio\",80429],[\"South Dakota\",70812],[\"California\",42889],[\"Colorado\",49799],[\"Massachusetts\",153703],[\"Colorado\",152061],[\"California\",87965],[\"California\",96929],[\"New York\",199766],[\"Ohio\",297517],[\"Maryland\",40612],[\"Florida\",56002],[\"New Jersey\",68247],[\"Ohio\",282313],[\"Arizona\",45129],[\"Virginia\",182020],[\"Indiana\",78967],[\"Illinois\",41778],[\"Texas\",83860],[\"Alabama\",186254],[\"California\",63338],[\"Washington\",40727],[\"Texas\",39605],[\"North Carolina\",56954],[\"Michigan\",59887],[\"California\",59834],[\"California\",151574],[\"New York\",49468],[\"Nevada\",93282],[\"California\",54686],[\"California\",49087],[\"Ohio\",65184],[\"Alabama\",45799],[\"California\",69999],[\"Missouri\",38816],[\"Idaho\",86518],[\"District of Columbia\",646449],[\"Illinois\",53648],[\"Texas\",38071],[\"California\",101910],[\"North Dakota\",113658],[\"Illinois\",116513],[\"Nebraska\",434353],[\"California\",49228],[\"Kansas\",56143],[\"California\",46281],[\"California\",1355896],[\"California\",171990],[\"Massachusetts\",108861],[\"Oklahoma\",103500],[\"Washington\",124435],[\"Tennessee\",634464],[\"New Jersey\",44113],[\"Colorado\",59471],[\"North Carolina\",245475],[\"Kansas\",386552],[\"California\",52977],[\"Minnesota\",58562],[\"Illinois\",45556],[\"Texas\",37093],[\"Wisconsin\",37159],[\"California\",147559],[\"California\",62864],[\"Wisconsin\",99889],[\"Pennsylvania\",41757],[\"Ohio\",46454],[\"Illinois\",40915],[\"Florida\",104410],[\"Texas\",97492],[\"Illinois\",78902],[\"California\",84691],[\"South Carolina\",37647],[\"New Hampshire\",87137],[\"Georgia\",89981],[\"New York\",55361],[\"New Jersey\",76903],[\"California\",50508],[\"Illinois\",40351],[\"Virginia\",230571],[\"Ohio\",43607],[\"California\",66086],[\"Michigan\",37213],[\"New Jersey\",127558],[\"Alaska\",300950],[\"North Dakota\",46321],[\"Florida\",96830],[\"Texas\",136639],[\"Texas\",148559],[\"Texas\",137147],[\"Ohio\",41512],[\"California\",406253],[\"California\",77846],[\"California\",57525],[\"Texas\",196429],[\"Utah\",116288],[\"Georgia\",447841],[\"California\",61085],[\"Ohio\",44730],[\"California\",63105],[\"Illinois\",74710],[\"Rhode Island\",41026],[\"Alabama\",194899],[\"California\",118837],[\"California\",57639],[\"Tennessee\",47333],[\"Missouri\",43330],[\"Texas\",81443],[\"Arizona\",249146],[\"Colorado\",111707],[\"California\",84577],[\"Indiana\",56895],[\"Florida\",43286],[\"Indiana\",843393],[\"Florida\",71097],[\"Arizona\",37130],[\"Illinois\",54771],[\"Rhode Island\",80566],[\"Indiana\",70373],[\"Kansas\",131885],[\"Georgia\",82788],[\"North Carolina\",279639],[\"Michigan\",75548],[\"Oregon\",50444],[\"North Carolina\",69079],[\"California\",85285],[\"Alabama\",95334],[\"Iowa\",51567],[\"California\",86199],[\"Alabama\",84126],[\"Florida\",64072],[\"Florida\",60202],[\"Arizona\",39383],[\"Florida\",68388],[\"Michigan\",82821],[\"New York\",79446],[\"California\",298118],[\"Michigan\",58946],[\"Florida\",44206],[\"California\",64652],[\"Washington\",91113],[\"California\",112174],[\"Texas\",183372],[\"Virginia\",96205],[\"Washington\",44919],[\"North Carolina\",42214],[\"Iowa\",82459],[\"California\",61588],[\"Utah\",36956],[\"California\",58879],[\"Minnesota\",62603],[\"Arizona\",162592],[\"Arizona\",168228],[\"Delaware\",71525],[\"Utah\",60519],[\"Michigan\",82578],[\"Texas\",143484],[\"North Carolina\",51510],[\"Texas\",234566],[\"California\",107571],[\"North Dakota\",67034],[\"Nevada\",54080],[\"Oklahoma\",38863],[\"Georgia\",197350],[\"North Carolina\",204408],[\"Georgia\",76185],[\"New Jersey\",44412],[\"California\",44096],[\"California\",56449],[\"Alabama\",55816],[\"Tennessee\",173366],[\"Indiana\",45929],[\"Illinois\",41679],[\"California\",76635],[\"Florida\",91026],[\"Tennessee\",67685],[\"Texas\",54135],[\"California\",46377],[\"Texas\",40714],[\"California\",87273],[\"Utah\",40921],[\"Washington\",93257],[\"Ohio\",143355],[\"Mississippi\",71012],[\"California\",469428],[\"California\",88077],[\"Mississippi\",47556],[\"Oregon\",159190],[\"California\",53243],[\"California\",63495],[\"California\",74110],[\"Washington\",105370],[\"Kansas\",41889],[\"California\",109320],[\"Arizona\",78822],[\"Ohio\",48139],[\"Michigan\",51848],[\"Minnesota\",86319],[\"Illinois\",38877],[\"Oregon\",93542],[\"Louisiana\",66975],[\"New Mexico\",39508],[\"New York\",49974],[\"California\",69783],[\"Illinois\",58918],[\"California\",52206],[\"Massachusetts\",56069],[\"California\",38027],[\"Tennessee\",65123],[\"Georgia\",142772],[\"Ohio\",40768],[\"Washington\",167405],[\"Florida\",90116],[\"Indiana\",70316],[\"Utah\",54382],[\"California\",837442],[\"California\",203003],[\"Texas\",136791],[\"California\",76572],[\"California\",49417],[\"Ohio\",38142],[\"New Jersey\",55831],[\"Virginia\",246139],[\"Oregon\",97368],[\"California\",45851],[\"Florida\",52703],[\"Ohio\",62258],[\"South Carolina\",37792],[\"California\",213708],[\"Georgia\",40059],[\"California\",121096],[\"Indiana\",78450],[\"Arizona\",50111],[\"California\",40836],[\"Iowa\",58253],[\"New York\",144669],[\"Tennessee\",142357],[\"Florida\",100710],[\"New York\",37659],[\"Delaware\",37366],[\"Minnesota\",39398],[\"California\",39428],[\"Illinois\",69350],[\"Washington\",652405],[\"Kentucky\",40956],[\"California\",161007],[\"Louisiana\",200327],[\"Utah\",84249],[\"Virginia\",51395],[\"California\",111542],[\"California\",139731],[\"Massachusetts\",77657],[\"Oregon\",37610],[\"California\",59440],[\"Ohio\",59357],[\"California\",79068],[\"Colorado\",345803],[\"Minnesota\",86128],[\"Virginia\",98465],[\"Oregon\",81236],[\"California\",70924],[\"Massachusetts\",62227],[\"Florida\",68190],[\"Florida\",352957],[\"California\",75413],[\"Virginia\",42907],[\"Wisconsin\",36888],[\"Florida\",90268],[\"Colorado\",439886],[\"California\",204933],[\"Michigan\",192294],[\"Illinois\",52066],[\"Florida\",53326],[\"California\",98030],[\"California\",77593],[\"Colorado\",103166],[\"New Mexico\",69976],[\"California\",43092],[\"Massachusetts\",39414],[\"California\",316619],[\"California\",157161],[\"California\",54194],[\"Utah\",70790],[\"Illinois\",73936],[\"California\",96346],[\"Illinois\",45417],[\"California\",45237],[\"California\",73098],[\"Arizona\",39791],[\"New Mexico\",101324],[\"Montana\",39860],[\"Illinois\",74907],[\"Michigan\",134873],[\"Missouri\",54842],[\"Iowa\",61792],[\"Arizona\",123546],[\"Texas\",104475],[\"Michigan\",42181],[\"Texas\",54076],[\"Pennsylvania\",41108],[\"Wisconsin\",73596],[\"Kansas\",64323],[\"Ohio\",46979],[\"California\",85156],[\"North Carolina\",792862],[\"Kentucky\",58416],[\"Florida\",58298],[\"California\",41398],[\"Illinois\",2718782],[\"Montana\",109059],[\"Wisconsin\",47134],[\"Illinois\",43907],[\"Connecticut\",130660],[\"Pennsylvania\",43935],[\"Tennessee\",183270],[\"Ohio\",53956],[\"Massachusetts\",44641],[\"Utah\",48612],[\"California\",76419],[\"California\",71948],[\"Minnesota\",39765],[\"Oregon\",77677],[\"Tennessee\",117044],[\"California\",65416],[\"Connecticut\",40999],[\"Iowa\",40566],[\"Tennessee\",39375],[\"Pennsylvania\",75806],[\"Alabama\",58582],[\"Virginia\",41705],[\"California\",94275],[\"California\",92472],[\"Virginia\",85728],[\"Michigan\",72952],[\"California\",39331],[\"West Virginia\",50821],[\"California\",52403],[\"Florida\",40918],[\"South Carolina\",127999],[\"North Carolina\",44359],[\"California\",159503],[\"California\",59738],[\"Missouri\",93184],[\"Florida\",78740],[\"Utah\",90231],[\"Arkansas\",40167],[\"California\",179590],[\"Florida\",42150],[\"Texas\",63279],[\"Tennessee\",653450],[\"Texas\",228653],[\"Virginia\",148892],[\"California\",92147],[\"Massachusetts\",40249],[\"Georgia\",47591],[\"Illinois\",65176],[\"New Jersey\",41664],[\"Pennsylvania\",75018],[\"Missouri\",77147],[\"California\",67815],[\"Texas\",2195914],[\"California\",106780],[\"Michigan\",117025],[\"Texas\",117796],[\"Michigan\",48554],[\"California\",56105],[\"Florida\",63155],[\"Nebraska\",53663],[\"Florida\",162329],[\"Arkansas\",75229],[\"California\",203007],[\"Texas\",110720],[\"Oklahoma\",47186],[\"Massachusetts\",94089],[\"New Jersey\",65028],[\"California\",54980],[\"Illinois\",43116],[\"Mississippi\",40921],[\"Tennessee\",42774],[\"New Jersey\",257342],[\"Minnesota\",294873],[\"Florida\",86290],[\"New York\",43167],[\"Iowa\",71591],[\"California\",345012],[\"Minnesota\",50201],[\"Montana\",59351],[\"Utah\",133579],[\"Virginia\",136699],[\"Texas\",54898],[\"Utah\",91648],[\"California\",37101],[\"Texas\",42907],[\"South Carolina\",39823],[\"Arkansas\",197357],[\"California\",334227],[\"New York\",57866],[\"Idaho\",58292],[\"Washington\",133992],[\"California\",127035],[\"New Jersey\",51982],[\"Massachusetts\",52044],[\"Nebraska\",50550],[\"Missouri\",115276],[\"Wisconsin\",78199],[\"Indiana\",85927],[\"Michigan\",47523],[\"Ohio\",48630],[\"California\",56590],[\"Massachusetts\",53756],[\"Texas\",53224],[\"Illinois\",75994],[\"California\",81750],[\"North Carolina\",107741],[\"Ohio\",47777],[\"Oklahoma\",56756],[\"California\",89387],[\"Florida\",57203],[\"California\",81121],[\"Ohio\",37530],[\"Illinois\",150251],[\"California\",102211],[\"Florida\",249688],[\"Illinois\",49670],[\"Connecticut\",51644],[\"Oregon\",51583],[\"Nevada\",603488],[\"Texas\",152735],[\"Florida\",171016],[\"Iowa\",128429],[\"Florida\",38661],[\"Massachusetts\",93494],[\"Florida\",130288],[\"Texas\",674433],[\"Kansas\",127679],[\"California\",54561],[\"Oregon\",37064],[\"Minnesota\",51368],[\"Ohio\",198100],[\"Texas\",80836],[\"California\",171386],[\"South Carolina\",104054],[\"Kentucky\",609893],[\"California\",52477],[\"Florida\",56792],[\"Florida\",51763],[\"California\",110972],[\"Texas\",46081],[\"California\",91119],[\"Michigan\",74100],[\"Ohio\",63710],[\"Utah\",37733],[\"Florida\",172389],[\"Georgia\",72531],[\"Florida\",109703],[\"Florida\",43328],[\"Alabama\",40059],[\"Indiana\",61025],[\"Texas\",70190],[\"Ohio\",45712],[\"South Dakota\",164676],[\"Indiana\",45775],[\"Florida\",55456],[\"Massachusetts\",41002],[\"Rhode Island\",81971],[\"California\",363630],[\"Florida\",417650],[\"Louisiana\",74024],[\"Washington\",52413],[\"North Carolina\",40361],[\"California\",66174],[\"Minnesota\",73987],[\"Indiana\",100886],[\"Oklahoma\",87004],[\"Iowa\",207510],[\"Florida\",47547],[\"Utah\",45285],[\"California\",86635],[\"Michigan\",95208],[\"Wisconsin\",599164],[\"Washington\",74860],[\"South Carolina\",41190],[\"Massachusetts\",40664],[\"Washington\",97003],[\"Colorado\",106114],[\"Virginia\",214114],[\"Indiana\",55670],[\"California\",40481],[\"Texas\",53752],[\"New Jersey\",52575],[\"Kentucky\",308428],[\"California\",106589],[\"Arizona\",91923],[\"California\",54291],[\"Illinois\",40379],[\"Illinois\",147806],[\"South Carolina\",69103],[\"California\",67911],[\"Michigan\",56620],[\"Hawaii\",347884],[\"Texas\",65098],[\"Massachusetts\",43886],[\"Texas\",44575],[\"Texas\",126700],[\"Illinois\",41734],[\"Illinois\",52398],[\"Massachusetts\",48514],[\"Florida\",59212],[\"Maryland\",64072],[\"California\",104709],[\"California\",138981],[\"Wisconsin\",66778],[\"Texas\",39795],[\"Michigan\",81295],[\"California\",63771],[\"California\",49707],[\"California\",40435],[\"Colorado\",59778],[\"Oklahoma\",50725],[\"California\",998537],[\"Texas\",109821],[\"Minnesota\",65415],[\"Oklahoma\",118197],[\"Florida\",64079],[\"Texas\",37587],[\"California\",236716],[\"Idaho\",54350],[\"California\",38606],[\"Wisconsin\",48725],[\"Louisiana\",66333],[\"Texas\",61238],[\"Georgia\",99770],[\"Illinois\",83424],[\"New Jersey\",85390],[\"Oklahoma\",58414],[\"Missouri\",53294],[\"California\",159523],[\"Texas\",78709],[\"Texas\",38448],[\"Florida\",165831],[\"California\",60189],[\"Massachusetts\",44057],[\"California\",51701],[\"New Hampshire\",110378],[\"Virginia\",448479],[\"Kansas\",47846],[\"Massachusetts\",78804],[\"Florida\",78409],[\"California\",509924],[\"Alabama\",37498],[\"Illinois\",56758],[\"Florida\",50699],[\"Rhode Island\",71172],[\"California\",40275],[\"North Carolina\",236441],[\"Georgia\",62298],[\"Missouri\",82809],[\"California\",80872],[\"California\",72528],[\"Florida\",38632],[\"Minnesota\",40641],[\"California\",50175],[\"California\",83447],[\"Colorado\",71334],[\"Illinois\",38241],[\"Rhode Island\",177994],[\"Florida\",233394],[\"California\",74513],[\"California\",167500],[\"Washington\",84430],[\"Utah\",76817],[\"South Carolina\",39412],[\"California\",196021],[\"Connecticut\",60456],[\"California\",59957],[\"Massachusetts\",41301],[\"Illinois\",110145],[\"Texas\",274409],[\"Colorado\",89919],[\"Texas\",40342],[\"Ohio\",51143],[\"Arkansas\",71551],[\"Texas\",100050],[\"Michigan\",95884],[\"New York\",61808],[\"Louisiana\",49761],[\"Maryland\",622104],[\"Missouri\",164122],[\"Arkansas\",46094],[\"New Jersey\",50588],[\"Massachusetts\",91589],[\"Minnesota\",65656],[\"Florida\",127488],[\"California\",49891],[\"Washington\",50169],[\"Florida\",37199],[\"Arkansas\",78960],[\"California\",58994],[\"Arkansas\",63816],[\"Washington\",203446],[\"Connecticut\",47333],[\"Vermont\",42284],[\"Idaho\",45981],[\"Texas\",39296],[\"New York\",8405837],[\"California\",126181],[\"California\",107740],[\"Colorado\",53063],[\"Georgia\",56481],[\"Texas\",792727],[\"California\",92599],[\"Indiana\",120310],[\"California\",102216],[\"Tennessee\",40021],[\"California\",58642],[\"Colorado\",110945],[\"Pennsylvania\",87893],[\"California\",70365],[\"Colorado\",96539],[\"Texas\",100223],[\"Florida\",37711],[\"Texas\",129030],[\"California\",37165],[\"California\",128731],[\"California\",47842],[\"Connecticut\",147216],[\"Minnesota\",47411],[\"Missouri\",47749],[\"Florida\",38696],[\"Washington\",67599],[\"California\",147478],[\"Wisconsin\",243344],[\"Wisconsin\",63820],[\"Illinois\",88826],[\"Kentucky\",61488],[\"Texas\",379577],[\"Texas\",101074],[\"New Mexico\",45426],[\"California\",38194],[\"California\",66642],[\"Oregon\",60177],[\"Massachusetts\",95078],[\"Washington\",57530],[\"California\",55000],[\"California\",66205],[\"California\",49133],[\"Tennessee\",43060],[\"Pennsylvania\",45796],[\"Alabama\",68001],[\"New Jersey\",64544],[\"Illinois\",57282],[\"Mississippi\",44820],[\"Illinois\",41752],[\"California\",175140],[\"California\",71371],[\"Colorado\",37499],[\"Ohio\",72535],[\"Georgia\",50603],[\"Louisiana\",229426],[\"Connecticut\",60568],[\"Missouri\",117240],[\"Michigan\",113972],[\"Illinois\",58590],[\"New Jersey\",61050],[\"Wisconsin\",104779],[\"Illinois\",75570],[\"Florida\",39172],[\"California\",3884307],[\"Washington\",92734],[\"Utah\",110077],[\"California\",52536],[\"Pennsylvania\",305841],[\"California\",113242],[\"Illinois\",84103],[\"California\",95677],[\"Florida\",36877],[\"Missouri\",50789],[\"Texas\",90983],[\"Utah\",191180],[\"Florida\",43074],[\"Arizona\",1513367],[\"Oregon\",55298],[\"Texas\",46663],[\"Massachusetts\",55717],[\"Florida\",57468],[\"Georgia\",94034],[\"Illinois\",37839],[\"New Hampshire\",42419],[\"Washington\",48338],[\"California\",197575],[\"Texas\",316381],[\"Massachusetts\",62088],[\"Illinois\",38510],[\"Massachusetts\",107289],[\"Arizona\",234632],[\"California\",38623],[\"South Carolina\",46074],[\"Iowa\",102157],[\"Florida\",89407],[\"Connecticut\",72939],[\"Michigan\",47555],[\"Ohio\",45394],[\"Oregon\",109397],[\"Florida\",69813],[\"Tennessee\",54068],[\"California\",120245],[\"California\",172794],[\"California\",79312],[\"Michigan\",57960],[\"New Jersey\",52122],[\"Massachusetts\",42935],[\"New Jersey\",41301],[\"North Carolina\",87236],[\"California\",97877]],\"hovertemplate\":\"<b>%{hovertext}</b><br><br>lat=%{lat}<br>lon=%{lon}<br>State=%{customdata[0]}<br>Population=%{customdata[1]}<extra></extra>\",\"hovertext\":[\"Marysville\",\"Perris\",\"Cleveland\",\"Worcester\",\"Columbia\",\"Waterbury\",\"Eagan\",\"Southfield\",\"Lafayette\",\"Boise City\",\"Elkhart\",\"Buena Park\",\"Marietta\",\"Parker\",\"West Palm Beach\",\"Salem\",\"Aurora\",\"Leesburg\",\"Doral\",\"Westminster\",\"Lubbock\",\"Overland Park\",\"Jackson\",\"Gastonia\",\"Daytona Beach\",\"Kansas City\",\"Rancho Palos Verdes\",\"Burnsville\",\"Rowlett\",\"Roswell\",\"Montgomery\",\"Logan\",\"Woburn\",\"Allentown\",\"Mount Pleasant\",\"Columbus\",\"Buffalo\",\"New Berlin\",\"North Richland Hills\",\"Lima\",\"Sacramento\",\"Fort Smith\",\"East Providence\",\"Urbandale\",\"Mount Vernon\",\"Lakewood\",\"Henderson\",\"Covina\",\"Stamford\",\"Bloomington\",\"Kingsport\",\"Spokane\",\"Kennewick\",\"Philadelphia\",\"Bellingham\",\"Visalia\",\"La Crosse\",\"Council Bluffs\",\"North Lauderdale\",\"Dallas\",\"Antioch\",\"Sterling Heights\",\"Deerfield Beach\",\"Fishers\",\"Cheyenne\",\"Murrieta\",\"Lenexa\",\"Noblesville\",\"Southaven\",\"Chino\",\"Gaithersburg\",\"Fountain Valley\",\"Frederick\",\"Greenville\",\"DeKalb\",\"West Allis\",\"Thornton\",\"West Des Moines\",\"Fall River\",\"Tulare\",\"Chula Vista\",\"Coral Springs\",\"Concord\",\"Smyrna\",\"Apopka\",\"Grand Forks\",\"Lancaster\",\"Naperville\",\"Hollywood\",\"Rogers\",\"New Orleans\",\"Lakewood\",\"Oak Lawn\",\"Caldwell\",\"Portland\",\"Concord\",\"Burien\",\"St. Charles\",\"Waukesha\",\"Flagstaff\",\"Puyallup\",\"Schenectady\",\"Denver\",\"Springfield\",\"Campbell\",\"Moreno Valley\",\"Kettering\",\"Lincoln Park\",\"Lake Havasu City\",\"North Little Rock\",\"Reno\",\"Littleton\",\"Prescott\",\"Dublin\",\"Texarkana\",\"Portland\",\"Brooklyn Park\",\"West Haven\",\"El Centro\",\"The Colony\",\"Flint\",\"Pittsburg\",\"Buckeye\",\"Brea\",\"Indio\",\"Scottsdale\",\"Columbus\",\"Lancaster\",\"Lincoln\",\"Trenton\",\"Boston\",\"Glendora\",\"Rochester\",\"Florissant\",\"Annapolis\",\"Chapel Hill\",\"Lawrence\",\"Calexico\",\"Calumet City\",\"Missoula\",\"Clovis\",\"Pearland\",\"Gilbert\",\"Wausau\",\"Raleigh\",\"Orange\",\"Walnut Creek\",\"Bremerton\",\"Porterville\",\"Marana\",\"Tallahassee\",\"Conroe\",\"Blacksburg\",\"San Antonio\",\"Hartford\",\"Waterloo\",\"Binghamton\",\"Meridian\",\"Fond du Lac\",\"Baytown\",\"Cary\",\"Weymouth Town\",\"Tulsa\",\"Mission\",\"Cuyahoga Falls\",\"Malden\",\"Allen\",\"Tucson\",\"Franklin\",\"Shakopee\",\"Jacksonville\",\"Atlantic City\",\"Erie\",\"Merced\",\"Abilene\",\"Yorba Linda\",\"Greenville\",\"Huntersville\",\"St. Clair Shores\",\"Harrisburg\",\"San Buenaventura (Ventura)\",\"Fremont\",\"Pueblo\",\"Chelsea\",\"Belleville\",\"Minneapolis\",\"Bartlett\",\"Wichita Falls\",\"Missouri City\",\"St. Louis\",\"Pharr\",\"Albuquerque\",\"Athens-Clarke County\",\"South Jordan\",\"North Las Vegas\",\"Pomona\",\"Eastvale\",\"Grove City\",\"Lawrence\",\"Midland\",\"Oklahoma City\",\"Oro Valley\",\"Mesa\",\"Norwalk\",\"Kentwood\",\"Brookfield\",\"Rockwall\",\"Mishawaka\",\"Tustin\",\"St. Cloud\",\"Passaic\",\"Escondido\",\"San Bruno\",\"Berkeley\",\"San Clemente\",\"Lawton\",\"Eau Claire\",\"Maricopa\",\"DeSoto\",\"Fort Wayne\",\"Shoreline\",\"Medford\",\"La Habra\",\"Albany\",\"Daly City\",\"Taylor\",\"Lynchburg\",\"Bowie\",\"Danbury\",\"Charlottesville\",\"Coral Gables\",\"Coeur d'Alene\",\"El Monte\",\"Crystal Lake\",\"Danville\",\"Goodyear\",\"Paterson\",\"Salem\",\"Kissimmee\",\"Saginaw\",\"Brownsville\",\"Flower Mound\",\"Grapevine\",\"Edina\",\"Detroit\",\"Fairfield\",\"Mansfield\",\"Rochester\",\"Birmingham\",\"Austin\",\"Santa Barbara\",\"Addison\",\"Rio Rancho\",\"Normal\",\"Romeoville\",\"Coon Rapids\",\"San Mateo\",\"Orlando\",\"Casper\",\"Bedford\",\"Wilmington\",\"Pinellas Park\",\"North Miami Beach\",\"Kansas City\",\"Fitchburg\",\"Wheeling\",\"Newton\",\"North Miami\",\"Norwich\",\"Newark\",\"Alexandria\",\"Blaine\",\"Harlingen\",\"Lompoc\",\"Denton\",\"Galveston\",\"Greenwood\",\"Salinas\",\"Miami Gardens\",\"Huntington\",\"Laredo\",\"Melbourne\",\"Haltom City\",\"Palm Bay\",\"Wilson\",\"Bountiful\",\"Ceres\",\"Parma\",\"Rapid City\",\"Bell Gardens\",\"Commerce City\",\"Springfield\",\"Fort Collins\",\"San Leandro\",\"Vista\",\"Yonkers\",\"Cincinnati\",\"Hagerstown\",\"Sanford\",\"Union City\",\"Toledo\",\"Sierra Vista\",\"Newport News\",\"Hammond\",\"Buffalo Grove\",\"Sugar Land\",\"Huntsville\",\"Lodi\",\"Edmonds\",\"Duncanville\",\"Rocky Mount\",\"Pontiac\",\"National City\",\"Hayward\",\"Niagara Falls\",\"Sparks\",\"Hanford\",\"Cypress\",\"Youngstown\",\"Madison\",\"Redlands\",\"Cape Girardeau\",\"Nampa\",\"Washington\",\"Wheaton\",\"Lancaster\",\"Rialto\",\"Fargo\",\"Peoria\",\"Omaha\",\"Rancho Santa Margarita\",\"Manhattan\",\"Palm Springs\",\"San Diego\",\"Santa Rosa\",\"Lowell\",\"Broken Arrow\",\"Kent\",\"Nashville\",\"Hackensack\",\"Broomfield\",\"Durham\",\"Wichita\",\"Cathedral City\",\"Lakeville\",\"Elmhurst\",\"Weslaco\",\"Greenfield\",\"Sunnyvale\",\"Santa Cruz\",\"Kenosha\",\"State College\",\"Mansfield\",\"Quincy\",\"Pompano Beach\",\"San Angelo\",\"Bloomington\",\"Tracy\",\"Spartanburg\",\"Nashua\",\"Macon\",\"Hempstead\",\"Camden\",\"Palm Desert\",\"Streamwood\",\"Chesapeake\",\"Dublin\",\"Camarillo\",\"Muskegon\",\"Elizabeth\",\"Anchorage\",\"Minot\",\"Davie\",\"McAllen\",\"McKinney\",\"Killeen\",\"Findlay\",\"Oakland\",\"Mountain View\",\"Lake Elsinore\",\"Amarillo\",\"Provo\",\"Atlanta\",\"Monterey Park\",\"Strongsville\",\"Madera\",\"Decatur\",\"Woonsocket\",\"Mobile\",\"Vallejo\",\"Arcadia\",\"Collierville\",\"Jefferson City\",\"Longview\",\"Chandler\",\"Arvada\",\"Alhambra\",\"Kokomo\",\"Oakland Park\",\"Indianapolis\",\"Boynton Beach\",\"Apache Junction\",\"Mount Prospect\",\"Cranston\",\"Lafayette\",\"Olathe\",\"Johns Creek\",\"Greensboro\",\"Kalamazoo\",\"Tigard\",\"Jacksonville\",\"Citrus Heights\",\"Tuscaloosa\",\"Ankeny\",\"Hawthorne\",\"Hoover\",\"Delray Beach\",\"Wellington\",\"Bullhead City\",\"Weston\",\"Troy\",\"New Rochelle\",\"Stockton\",\"Royal Oak\",\"Titusville\",\"Laguna Niguel\",\"Spokane Valley\",\"Costa Mesa\",\"Grand Prairie\",\"Portsmouth\",\"Lacey\",\"Apex\",\"Sioux City\",\"Encinitas\",\"Spanish Fork\",\"Huntington Park\",\"Eden Prairie\",\"Peoria\",\"Tempe\",\"Wilmington\",\"Taylorsville\",\"Westland\",\"Mesquite\",\"Burlington\",\"Garland\",\"Richmond\",\"Bismarck\",\"Carson City\",\"Muskogee\",\"Augusta-Richmond County\",\"Fayetteville\",\"Albany\",\"Sayreville\",\"Newark\",\"Diamond Bar\",\"Decatur\",\"Chattanooga\",\"Jeffersonville\",\"Bartlett\",\"Baldwin Park\",\"Miami Beach\",\"Jackson\",\"Port Arthur\",\"San Luis Obispo\",\"Burleson\",\"Newport Beach\",\"Riverton\",\"Yakima\",\"Dayton\",\"Gulfport\",\"Long Beach\",\"Chico\",\"Hattiesburg\",\"Eugene\",\"Colton\",\"Montebello\",\"Pleasanton\",\"Everett\",\"Hutchinson\",\"Fairfield\",\"Avondale\",\"Euclid\",\"Battle Creek\",\"Bloomington\",\"Rock Island\",\"Beaverton\",\"Kenner\",\"Clovis\",\"Troy\",\"Milpitas\",\"Des Plaines\",\"Placentia\",\"Taunton\",\"Montclair\",\"Johnson City\",\"Savannah\",\"Warren\",\"Vancouver\",\"Sunrise\",\"Muncie\",\"Lehi\",\"San Francisco\",\"Fontana\",\"Frisco\",\"Chino Hills\",\"Poway\",\"Huber Heights\",\"New Brunswick\",\"Norfolk\",\"Hillsboro\",\"San Jacinto\",\"Pensacola\",\"Hamilton\",\"Florence\",\"San Bernardino\",\"Peachtree Corners\",\"Victorville\",\"Gary\",\"Casa Grande\",\"Morgan Hill\",\"Dubuque\",\"Syracuse\",\"Clarksville\",\"Lakeland\",\"Valley Stream\",\"Dover\",\"Moorhead\",\"Culver City\",\"Palatine\",\"Seattle\",\"Covington\",\"Elk Grove\",\"Shreveport\",\"Ogden\",\"Harrisonburg\",\"Inglewood\",\"Pasadena\",\"Lawrence\",\"Lake Oswego\",\"Petaluma\",\"Springfield\",\"Napa\",\"Aurora\",\"Duluth\",\"Roanoke\",\"Bend\",\"Apple Valley\",\"Waltham\",\"Fort Myers\",\"Tampa\",\"Upland\",\"Danville\",\"Beloit\",\"Plantation\",\"Colorado Springs\",\"Modesto\",\"Grand Rapids\",\"Oak Park\",\"Sarasota\",\"Jurupa Valley\",\"Bellflower\",\"Boulder\",\"Santa Fe\",\"Coachella\",\"Marlborough\",\"Riverside\",\"Palmdale\",\"Novato\",\"Layton\",\"Bolingbrook\",\"Mission Viejo\",\"Glenview\",\"Lincoln\",\"Folsom\",\"Prescott Valley\",\"Las Cruces\",\"Bozeman\",\"Schaumburg\",\"Warren\",\"St. Peters\",\"Ames\",\"Surprise\",\"Richardson\",\"Midland\",\"San Marcos\",\"Wilkes-Barre\",\"Appleton\",\"Shawnee\",\"Mentor\",\"Livermore\",\"Charlotte\",\"Owensboro\",\"Jupiter\",\"Rohnert Park\",\"Chicago\",\"Billings\",\"Wauwatosa\",\"Lombard\",\"New Haven\",\"York\",\"Knoxville\",\"Elyria\",\"Barnstable Town\",\"Murray\",\"Alameda\",\"Manteca\",\"Maplewood\",\"Medford\",\"Murfreesboro\",\"Yuba City\",\"Shelton\",\"Cedar Falls\",\"Germantown\",\"Scranton\",\"Auburn\",\"Manassas\",\"Vacaville\",\"Santa Monica\",\"Suffolk\",\"Rochester Hills\",\"La Quinta\",\"Charleston\",\"Delano\",\"St. Cloud\",\"Charleston\",\"Kannapolis\",\"Corona\",\"Rocklin\",\"Lee's Summit\",\"Palm Coast\",\"Sandy\",\"Bentonville\",\"Santa Clarita\",\"Altamonte Springs\",\"New Braunfels\",\"Memphis\",\"Irving\",\"Alexandria\",\"Hesperia\",\"Holyoke\",\"Dunwoody\",\"Skokie\",\"Kearny\",\"Bethlehem\",\"St. Joseph\",\"Redondo Beach\",\"Houston\",\"Temecula\",\"Ann Arbor\",\"Beaumont\",\"East Lansing\",\"Santee\",\"Tamarac\",\"Bellevue\",\"Pembroke Pines\",\"Springdale\",\"Oxnard\",\"Odessa\",\"Stillwater\",\"Brockton\",\"Bayonne\",\"Paramount\",\"Moline\",\"Meridian\",\"Cleveland\",\"Jersey City\",\"St. Paul\",\"Deltona\",\"Freeport\",\"Iowa City\",\"Anaheim\",\"Apple Valley\",\"Great Falls\",\"West Valley City\",\"Hampton\",\"Georgetown\",\"Orem\",\"Monrovia\",\"Keller\",\"Goose Creek\",\"Little Rock\",\"Santa Ana\",\"White Plains\",\"Idaho Falls\",\"Bellevue\",\"Roseville\",\"Perth Amboy\",\"Peabody\",\"Grand Island\",\"Columbia\",\"Racine\",\"Carmel\",\"Portage\",\"Middletown\",\"Woodland\",\"Revere\",\"Euless\",\"Arlington Heights\",\"Hemet\",\"High Point\",\"Newark\",\"Midwest City\",\"San Marcos\",\"Port Orange\",\"Lakewood\",\"Westerville\",\"Rockford\",\"El Cajon\",\"St. Petersburg\",\"Downers Grove\",\"Milford\",\"Albany\",\"Las Vegas\",\"Pasadena\",\"Port St. Lucie\",\"Cedar Rapids\",\"Ormond Beach\",\"Quincy\",\"Miramar\",\"El Paso\",\"Topeka\",\"Rosemead\",\"Keizer\",\"Minnetonka\",\"Akron\",\"Edinburg\",\"Rancho Cucamonga\",\"North Charleston\",\"Louisville\",\"Watsonville\",\"Coconut Creek\",\"Bradenton\",\"Carlsbad\",\"Texas City\",\"Redding\",\"Wyoming\",\"Lorain\",\"Roy\",\"Fort Lauderdale\",\"Warner Robins\",\"Clearwater\",\"Cutler Bay\",\"Florence\",\"Terre Haute\",\"Temple\",\"Beavercreek\",\"Sioux Falls\",\"Columbus\",\"Margate\",\"Leominster\",\"Warwick\",\"Bakersfield\",\"Miami\",\"Lake Charles\",\"Richland\",\"Hickory\",\"South San Francisco\",\"Plymouth\",\"South Bend\",\"Edmond\",\"Des Moines\",\"Bonita Springs\",\"Draper\",\"Whittier\",\"Livonia\",\"Milwaukee\",\"Auburn\",\"Sumter\",\"Beverly\",\"Renton\",\"Centennial\",\"Richmond\",\"Anderson\",\"Beaumont\",\"Pflugerville\",\"Hoboken\",\"Lexington-Fayette\",\"Norwalk\",\"Yuma\",\"Highland\",\"Carol Stream\",\"Joliet\",\"Rock Hill\",\"Rancho Cordova\",\"Dearborn Heights\",\"Honolulu\",\"Victoria\",\"Attleboro\",\"Wylie\",\"Carrollton\",\"Plainfield\",\"Hoffman Estates\",\"Methuen\",\"North Port\",\"Rockville\",\"Burbank\",\"Fullerton\",\"Oshkosh\",\"Huntsville\",\"Farmington Hills\",\"Pico Rivera\",\"Cerritos\",\"La Puente\",\"Grand Junction\",\"Enid\",\"San Jose\",\"Round Rock\",\"Maple Grove\",\"Norman\",\"Homestead\",\"Friendswood\",\"Irvine\",\"Pocatello\",\"Pacifica\",\"Sheboygan\",\"Bossier City\",\"Cedar Park\",\"Sandy Springs\",\"Champaign\",\"Clifton\",\"Moore\",\"Blue Springs\",\"Lancaster\",\"Bryan\",\"Hurst\",\"Cape Coral\",\"Cupertino\",\"Pittsfield\",\"Gilroy\",\"Manchester\",\"Virginia Beach\",\"Salina\",\"Somerville\",\"Largo\",\"Fresno\",\"Phenix City\",\"Berwyn\",\"Palm Beach Gardens\",\"Pawtucket\",\"San Gabriel\",\"Winston-Salem\",\"Alpharetta\",\"O'Fallon\",\"Redwood City\",\"Union City\",\"Hallandale Beach\",\"Mankato\",\"Aliso Viejo\",\"Menifee\",\"Loveland\",\"Carpentersville\",\"Providence\",\"Hialeah\",\"San Ramon\",\"Ontario\",\"Kirkland\",\"St. George\",\"Hilton Head Island\",\"Glendale\",\"Meriden\",\"Gardena\",\"Westfield\",\"Elgin\",\"Plano\",\"Longmont\",\"Coppell\",\"Lakewood\",\"Jonesboro\",\"College Station\",\"Dearborn\",\"Utica\",\"Monroe\",\"Baltimore\",\"Springfield\",\"Pine Bluff\",\"Plainfield\",\"Lynn\",\"Woodbury\",\"Gainesville\",\"West Sacramento\",\"Sammamish\",\"Aventura\",\"Fayetteville\",\"San Rafael\",\"Conway\",\"Tacoma\",\"Middletown\",\"Burlington\",\"Twin Falls\",\"Sherman\",\"New York\",\"Simi Valley\",\"West Covina\",\"Castle Rock\",\"Valdosta\",\"Fort Worth\",\"Carson\",\"Evansville\",\"Santa Maria\",\"Brentwood\",\"La Mesa\",\"Westminster\",\"Reading\",\"Turlock\",\"Greeley\",\"Tyler\",\"Winter Garden\",\"Waco\",\"Martinez\",\"Thousand Oaks\",\"Azusa\",\"Bridgeport\",\"St. Louis Park\",\"Chesterfield\",\"Greenacres\",\"Pasco\",\"Torrance\",\"Madison\",\"Janesville\",\"Waukegan\",\"Bowling Green\",\"Arlington\",\"Lewisville\",\"Farmington\",\"Oakley\",\"Palo Alto\",\"Springfield\",\"New Bedford\",\"Redmond\",\"Brentwood\",\"Davis\",\"La Mirada\",\"Smyrna\",\"Altoona\",\"Dothan\",\"East Orange\",\"Tinley Park\",\"Biloxi\",\"Urbana\",\"Garden Grove\",\"Lynwood\",\"Northglenn\",\"Canton\",\"Brookhaven\",\"Baton Rouge\",\"Bristol\",\"Independence\",\"Lansing\",\"Orland Park\",\"Vineland\",\"Green Bay\",\"Evanston\",\"Ocoee\",\"Los Angeles\",\"Federal Way\",\"West Jordan\",\"Yucaipa\",\"Pittsburgh\",\"Downey\",\"Cicero\",\"South Gate\",\"Panama City\",\"Joplin\",\"League City\",\"Salt Lake City\",\"Fort Pierce\",\"Phoenix\",\"Corvallis\",\"Cedar Hill\",\"Chicopee\",\"Ocala\",\"Roswell\",\"Park Ridge\",\"Concord\",\"Olympia\",\"Huntington Beach\",\"Corpus Christi\",\"Haverhill\",\"Hanover Park\",\"Cambridge\",\"Glendale\",\"Stanton\",\"Summerville\",\"Davenport\",\"Boca Raton\",\"New Britain\",\"Roseville\",\"Cleveland Heights\",\"Gresham\",\"Lauderhill\",\"Hendersonville\",\"Santa Clara\",\"Oceanside\",\"Lake Forest\",\"Novi\",\"West New York\",\"Everett\",\"Linden\",\"Asheville\",\"Compton\"],\"lat\":[48.0517637,33.7825194,41.49932,42.262593200000005,34.0007104,41.558152500000006,44.804132200000005,42.4733688,30.2240897,43.6187102,41.6819935,33.8675143,33.952602,39.5186002,26.7153424,42.51954,41.7605849,39.1156615,25.8195424,33.7513419,33.5778631,38.9822282,32.298757300000005,35.262082,29.2108147,39.0997265,33.7444613,44.7677424,32.9029017,33.3942655,32.366805199999995,41.7369803,42.4792618,40.6084305,32.8323225,32.4609764,42.8864468,42.9764027,32.8342952,40.742551,38.5815719,35.385924200000005,41.813711600000005,41.6266555,40.9125992,39.7047095,36.0395247,34.0900091,41.0534302,39.165325,36.548434,47.6587802,46.2112458,39.9525839,48.74908,36.3302284,43.8013556,41.2619444,26.217305,32.7766642,38.0049214,42.5803122,26.3184123,39.95675479999999,41.1399814,33.553914299999995,38.9536174,40.0455917,34.9889818,34.0122346,39.143440600000005,33.7091847,39.4142688,35.612661,41.9294736,43.0166806,39.8680412,41.5772115,41.7014912,36.20772879999999,32.6400541,26.271192,35.4087517,33.883992600000006,28.6934076,47.9252568,39.71367539999999,41.7508391,26.0112014,36.3320196,29.9510658,47.1717649,41.719978000000005,43.6629384,45.523062200000005,37.9779776,47.4703767,38.7881062,43.0116784,35.1982836,47.1853785,42.8142432,39.7392358,39.7817213,37.2871651,33.9424658,39.6895036,42.2505943,34.483901,34.769535999999995,39.5296329,39.613321,34.540024200000005,37.7021521,33.425125,43.661471,45.0941315,41.2705484,32.792,33.0806083,43.0125274,38.027976200000005,33.3703197,33.9166805,33.7205771,33.494170399999994,39.9611755,40.0378755,40.8257625,40.2170534,42.3600825,34.136118700000004,44.0121221,38.789217,38.9784453,35.913199600000006,39.8386516,32.6789476,41.6155909,46.8787176,36.8252277,29.5635666,33.3528264,44.9591352,35.7795897,33.7877944,37.9100783,47.567320200000005,36.06523,32.436381,30.4382559,30.3118769,37.2295733,29.4241219,41.7637111,42.492786,42.0986867,43.61210870000001,43.7730448,29.735504700000003,35.791540000000005,42.2180724,36.1539816,26.2159066,41.1339449,42.4250964,33.1031744,32.2217429,35.9250637,44.79739620000001,30.3321838,39.3642834,42.1292241,37.3021632,32.4487364,33.888625899999994,34.8526176,35.410694,42.4974085,40.273191100000005,34.274646000000004,37.548269700000006,38.2544472,42.3917638,38.5200504,44.977753,35.2045328,33.913708500000006,29.6185669,38.6270025,26.1947962,35.0853336,33.9519347,40.5621704,36.1988592,34.055103,33.952463,39.8814519,38.9716689,31.9973456,35.4675602,32.3909071,33.4151843,41.117744,42.8694731,43.0605671,32.9312336,41.6619927,33.7458511,45.5579451,40.8567662,33.1192068,37.6304904,37.87159260000001,33.4269728,34.6035669,44.811349,33.058106300000006,32.589699800000005,41.079273,47.7556531,42.4184296,33.9319578,42.65257929999999,37.6879241,42.240872,37.4137536,39.0067768,41.394817,38.0293059,25.72149,47.6776832,34.0686206,42.2411344,37.8215929,33.4353394,40.9167654,44.9428975,28.291955699999995,43.4194699,25.9017472,33.0145673,32.9342919,44.889686600000005,42.331427000000005,39.3454673,32.5631924,43.16103,33.5206608,30.267153000000004,34.4208305,41.931696,35.2327544,40.5142026,41.6475306,45.1732394,37.562991700000005,28.5383355,42.866632,32.844017,34.2257255,27.8428025,25.9331488,39.114053000000006,42.5834228,42.1391927,42.3370413,25.8900949,41.5242649,40.735657,31.3112936,45.1607987,26.1906306,34.6391501,33.2148412,29.3013479,39.6136578,36.6777372,25.9420377,38.41924960000001,27.530567100000003,28.0836269,32.799573800000005,28.03446210000001,35.7212689,40.8893895,37.5949316,41.404774200000006,44.0805434,33.9652918,39.8083196,42.1014831,40.5852602,37.7249296,33.2000368,40.9312099,39.1031182,39.6417629,28.802861199999995,40.6975898,41.6639383,31.5455001,37.0870821,41.5833688,42.1662831,29.6196787,34.730368799999994,38.1341477,47.8106521,32.6518004,35.938210299999994,42.6389216,32.6781085,37.6688205,43.0962143,39.5349112,36.3274502,33.8169599,41.0997803,34.6992579,34.055569299999995,37.3058839,43.5407172,38.9071923,41.8661403,32.5920798,34.1064001,46.8771863,40.6936488,41.25236339999999,33.640855,39.1836082,33.8302961,32.715738,38.440429,42.633424700000006,36.060949,47.380933500000005,36.1626638,40.8859325,39.9205411,35.99403289999999,37.688889,33.780538799999995,44.6496868,41.8994744,26.1595194,42.9614039,37.36883,36.9741171,42.5847425,40.7933949,40.758390000000006,39.9356016,26.2378597,31.4637723,40.4842027,37.7396513,34.949567200000004,42.7653662,32.8406946,40.7062128,39.9259463,33.7222445,42.02558270000001,36.7682088,40.0992294,34.216393700000005,43.2341813,40.6639916,61.2180556,48.23296679999999,26.0764783,26.203407100000003,33.197246500000006,31.1171194,41.04422,37.8043637,37.3860517,33.668077200000006,35.2219971,40.2338438,33.7489954,34.0625106,41.3144966,36.961335600000005,39.84031470000001,42.0028761,30.6953657,38.1040864,34.139729200000005,35.042036,38.57670170000001,32.5007037,33.3061605,39.8027644,34.095287,40.486427,26.1723065,39.768403,26.531786600000004,33.4150485,42.066416700000005,41.7798226,40.4167022,38.8813958,34.0289259,36.0726354,42.2917069,45.4312294,34.7540524,38.7071247,33.2098407,41.7317884,33.9164032,33.405386699999994,26.4614625,26.6617635,35.1359386,26.1003654,42.6064095,40.9114882,37.9577016,42.4894801,28.6122187,33.5225261,47.6732281,33.6411316,32.7459645,36.8354258,47.0342629,35.732652,42.4999942,33.0369867,40.114955,33.981681200000004,44.8546856,33.5805955,33.4255104,39.7390721,40.6677248,42.324204,32.7667955,36.0956918,32.912624,37.9357576,46.8083268,39.1637984,35.747876899999994,33.4734978,35.0526641,31.5785074,40.4594021,37.5296593,34.028622600000006,34.6059253,35.0456297,38.27757020000001,41.9950276,34.0852868,25.790654,35.6145169,29.8849504,35.2827524,32.5420821,33.6189101,40.521893,46.6020711,39.7589478,30.367419800000004,33.770050399999995,39.7284944,31.3271189,44.0520691,34.0739016,34.0165053,37.6624312,47.9789848,38.0608445,38.2493581,33.4355977,41.5931049,42.32115220000001,44.840798,41.5094771,45.487062,29.9940924,34.4047987,42.7284117,37.4323341,42.03336229999999,33.87223710000001,41.900101,34.0775104,36.3134397,32.0835407,41.2375569,45.6387281,26.1669711,40.1933767,40.3916172,37.7749295,34.0922335,33.1506744,33.989818799999995,32.9628232,39.843947,40.4862157,36.8507689,45.5228939,33.783908399999994,30.421309,39.3995008,34.1954331,34.1083449,33.9698929,34.5362184,41.5933696,32.8795022,37.130501200000005,42.5005583,43.0481221,36.5297706,28.0394654,40.6642699,39.158168,46.8737648,34.0211224,42.1103041,47.6062095,39.083671200000005,38.4087993,32.5251516,41.223,38.4495688,33.9616801,34.1477849,42.7070354,45.4206749,38.232417,39.9242266,38.2975381,39.7294319,46.7866719,37.2709704,44.0581728,34.5008311,42.376485200000005,26.640628000000003,27.950575,34.09751,36.5859718,42.5083482,26.1275862,38.8338816,37.6390972,42.9633599,41.885031700000006,27.3364347,33.9971974,33.8816818,40.0149856,35.686975200000006,33.6803003,42.3459271,33.9533487,34.5794343,38.1074198,41.0602216,41.6986416,33.6000232,42.0697509,38.891565,38.6779591,34.6100243,32.3199396,45.6769979,42.0333607,42.5144566,38.7874699,42.034722,33.62923370000001,32.948333500000004,43.6155825,29.8832749,41.2459149,44.2619309,39.0228485,41.6661573,37.6818745,35.2270869,37.7719074,26.934224600000004,38.3396367,41.8781136,45.783285600000006,43.049457200000006,41.8800296,41.308274,39.9625984,35.96063839999999,41.36837979999999,41.7003208,40.6668916,37.7652065,37.7974273,44.953021500000006,42.3265152,35.8456213,39.1404477,41.3164856,42.5348993,35.08675770000001,41.408969,32.6098566,38.7509488,38.3565773,34.01945429999999,36.7282054,42.6583661,33.663357299999994,38.3498195,35.7688425,28.2489016,32.776474900000004,35.4873613,33.8752935,38.7907339,38.9108408,29.5844524,40.564978100000005,36.3728538,34.3916641,28.6611089,29.7030024,35.1495343,32.814017699999994,38.8048355,34.4263886,42.2042586,33.9462125,42.0324025,40.7684342,40.6259316,39.7674578,33.8491816,29.7604267,33.4936391,42.2808256,30.080174,42.7369792,32.8383828,26.2128609,41.1543623,26.007765,36.18674420000001,34.1975048,31.8456816,36.1156071,42.083433500000005,40.6687141,33.8894598,41.5067003,32.3643098,35.1595182,40.7281575,44.9537029,28.9005446,40.65760220000001,41.6611277,33.8352932,44.7319094,47.4941836,40.691613200000006,37.0298687,30.633261800000003,40.2968979,34.14426160000001,32.9341893,32.9810059,34.7464809,33.7455731,41.0339862,43.4916514,47.610377,38.7521235,40.5067723,42.5278731,40.92639570000001,38.95170529999999,42.7261309,39.978371,42.20115379999999,39.5150576,38.6785157,42.408430200000005,32.8370727,42.0883603,33.7475203,35.955692299999995,40.0581205,35.4495065,33.1433723,29.1383165,33.853626899999995,40.1261743,42.2711311,32.7947731,27.773056,41.8089191,41.2306979,44.6365107,36.1699412,29.6910625,27.2730492,41.9778795,29.2858129,42.25287720000001,25.9860762,31.7775757,39.0558235,34.0805651,44.9901194,44.9211836,41.081444700000006,26.3017374,34.1063989,32.8546197,38.2526647,36.910231,26.2517482,27.4989278,33.158093300000004,29.383845,40.5865396,42.9133602,41.452819,41.1616108,26.1224386,32.6130007,27.9658533,25.5808323,34.79981,39.4667034,31.0982344,39.7092262,43.5445959,39.2014404,26.244526300000004,42.5250906,41.7001009,35.3732921,25.7616798,30.226594899999995,46.2856907,35.7344538,37.654656,45.01051939999999,41.6763545,35.6528323,41.6005448,26.339806,40.5246711,33.97917929999999,42.36837,43.0389025,47.3073228,33.9204354,42.5584283,47.4828776,39.5807452,37.5407246,40.1053196,33.929460600000006,30.4393696,40.7439905,38.040583700000006,33.9022367,32.6926512,34.1283442,41.9125286,41.525031,34.9248667,38.5890723,42.3369816,21.3069444,28.8052674,41.9445441,33.0151201,32.975641499999995,41.632223,42.0629915,42.7262016,27.044224,39.0839973,34.18083920000001,33.8703596,44.0247062,30.723526300000003,42.4989936,33.9830688,33.8583483,34.0200114,39.0638705,36.3955891,37.3382082,30.508255100000003,45.072464200000006,35.2225668,25.4687224,29.529399800000004,33.6839473,42.8713032,37.6138253,43.7508284,32.5159852,30.505198,33.9304352,40.1164204,40.8584328,35.339507899999994,39.0169509,34.6867846,30.6743643,32.82346210000001,26.5628537,37.3229978,42.4500845,37.0057816,42.995639700000005,36.8529263,38.8402805,42.3875968,27.9094665,36.7468422,32.4709761,41.8505874,26.8233946,41.878711,34.0961111,36.0998596,34.07537620000001,38.8106075,37.4852152,37.59339179999999,25.9812024,44.1635775,33.5676842,33.6971468,40.397761200000005,42.1211364,41.8239891,25.8575963,37.7799273,34.0633443,47.6814875,37.0965278,32.216316,34.1425078,41.5381535,33.8883487,42.1250929,42.0354084,33.0198431,40.1672068,32.9545687,41.481993200000005,35.8422967,30.627977,42.3222599,43.100903,32.5093109,39.2903848,37.20895720000001,34.2284312,40.6337136,42.466763,44.923855200000006,29.6516344,38.5804609,47.6162683,25.9564812,36.0625795,37.9735346,35.0886963,47.2528768,41.5623209,44.4758825,42.5629668,33.635661799999994,40.7127837,34.2694474,34.0686208,39.372212100000006,30.8327022,32.7554883,33.8316745,37.9715592,34.953033700000006,36.0331164,32.7678287,39.8366528,40.3356483,37.4946568,40.42331420000001,32.351260100000005,28.5652787,31.549333,38.0193657,34.1705609,34.1336186,41.18654779999999,44.9597376,38.6631083,26.6276276,46.2395793,33.835849200000006,43.07305170000001,42.6827885,42.3636331,36.9685219,32.735687,33.046233,36.7280583,37.9974219,37.4418834,44.0462362,41.6362152,47.6739881,37.931868,38.5449065,33.9172357,35.9828412,40.5186809,31.2232313,40.767323,41.5731442,30.396031800000003,40.1105875,33.7739053,33.930293,39.8961821,40.7989473,33.8651033,30.4582829,41.6717648,39.0911161,42.732535,41.6303103,39.4863773,44.519159,42.0450722,28.5691677,34.0522342,47.3223221,40.6096698,34.033625,40.4406248,33.9401088,41.8455877,33.954737,30.1588129,37.0842271,29.5074538,40.7607793,27.446705600000005,33.4483771,44.5645659,32.5884689,42.14870429999999,29.1871986,34.0232431,42.0111412,43.2081366,47.0378741,33.660297,27.8005828,42.7762015,41.9994722,42.3736158,33.538652299999995,33.802515500000005,33.0185039,41.5236437,26.3683064,41.6612104,42.4972583,41.5200518,45.5001357,26.1403635,36.3047735,37.3541079,33.1958696,33.6469661,42.48059,40.7878788,42.40843,40.6220478,35.5950581,33.8958492],\"legendgroup\":\"\",\"lon\":[-122.1770818,-117.2286478,-81.6943605,-71.8022934,-81.0348144,-73.0514965,-93.1668858,-83.2218731,-92.0198427,-116.2146068,-85.9766671,-117.9981181,-84.5499327,-104.7613633,-80.0533746,-70.8967155,-88.3200715,-77.5636015,-80.3553302,-117.9939921,-101.8551665,-94.6707917,-90.1848103,-81.1873005,-81.02283309999999,-94.5785667,-118.3870173,-93.2777226,-96.56388,-104.5230242,-86.2999689,-111.8338359,-71.1522765,-75.4901833,-79.82842579999999,-84.9877094,-78.8783689,-88.10842240000001,-97.2289029,-84.1052256,-121.4943996,-94.3985475,-71.37005450000001,-93.7121656,-73.8370786,-105.08137340000002,-114.9817213,-117.8903397,-73.53873409999999,-86.5263857,-82.5618186,-117.4260466,-119.1372338,-75.1652215,-122.4781473,-119.2920585,-91.2395807,-95.8608333,-80.2258811,-96.7969879,-121.805789,-83.0302033,-80.0997657,-86.01335,-104.8202462,-117.2139232,-94.7335709,-86.0085955,-90.0125913,-117.688944,-77.2013705,-117.9536697,-77.41054090000002,-77.3663538,-88.7503647,-88.0070315,-104.9719243,-93.711332,-71.1550451,-119.3473379,-117.0841955,-80.27060440000001,-80.579511,-84.51437609999999,-81.53221490000001,-97.0328547,-82.59932940000002,-88.15353520000001,-80.1494901,-94.1185366,-90.0715323,-122.518458,-87.7479528,-116.6873596,-122.6764816,-122.0310733,-122.3467918,-90.4974359,-88.2314813,-111.651302,-122.29289740000002,-73.93956870000001,-104.990251,-89.6501481,-121.9499568,-117.2296717,-84.16882740000001,-83.17853609999999,-114.3224548,-92.2670941,-119.8138027,-105.0166498,-112.4685025,-121.9357918,-94.0476882,-70.2553259,-93.3563405,-72.94697109999998,-115.5630514,-96.8928309,-83.6874562,-121.88468059999998,-112.58377659999998,-117.9000604,-116.2155619,-111.9260519,-82.9987942,-76.3055144,-96.6851982,-74.74293840000001,-71.0588801,-117.865339,-92.4801989,-90.322614,-76.4921829,-79.05584449999999,-86.0252612,-115.4988834,-87.5294871,-113.996586,-119.7029194,-95.2860474,-111.789027,-89.6301221,-78.6381787,-117.8531119,-122.0651819,-122.6329356,-119.0167679,-111.2224422,-84.2807329,-95.4560512,-80.4139393,-98.4936282,-72.6850932,-92.3425775,-75.9179738,-116.3915131,-88.44705079999999,-94.9774274,-78.78111690000001,-70.94103559999999,-95.992775,-98.3252932,-81.48455849999999,-71.066163,-96.6705503,-110.926479,-86.86888990000001,-93.5272861,-81.655651,-74.4229266,-80.085059,-120.48296770000002,-99.7331439,-117.8131125,-82.3940104,-80.8428504,-82.8963604,-76.88670079999999,-119.22903159999998,-121.9885719,-104.6091409,-71.03282840000001,-89.98399350000001,-93.2650108,-89.8739753,-98.4933873,-95.5377215,-90.1994042,-98.1836216,-106.6055534,-83.357567,-111.929658,-115.1175013,-117.7499909,-117.5848025,-83.09296440000001,-95.2352501,-102.0779146,-97.5164276,-110.96648799999998,-111.8314724,-73.4081575,-85.6447492,-88.1064787,-96.4597089,-86.15861559999999,-117.826166,-94.1632404,-74.12847640000001,-117.086421,-122.4110835,-122.272747,-117.6119925,-98.3959291,-91.4984941,-112.0476423,-96.8570738,-85.13935129999999,-122.3415178,-71.10616390000001,-117.94617340000002,-73.7562317,-122.47020790000002,-83.2696509,-79.1422464,-76.77913649999999,-73.45401109999999,-78.4766781,-80.2683838,-116.7804664,-118.0275667,-88.3161965,-121.9999606,-112.3576567,-74.171811,-123.0350963,-81.40757099999999,-83.9508068,-97.4974838,-97.0969552,-97.0780654,-93.3499489,-83.0457538,-84.56031870000001,-97.1416768,-77.61092190000001,-86.80249,-97.7430608,-119.6981901,-87.9889556,-106.6630437,-88.99063120000001,-88.0895061,-93.3030063,-122.3255254,-81.3792365,-106.313081,-97.1430671,-77.9447102,-82.6995443,-80.1625463,-94.6274636,-71.8022955,-87.92895909999999,-71.2092214,-80.18671379999999,-72.07591049999999,-74.1723667,-92.4451371,-93.2349489,-97.6961026,-120.4579409,-97.1330683,-94.7976958,-86.10665259999999,-121.6555013,-80.2456045,-82.445154,-99.4803241,-80.6081089,-97.2691817,-80.5886646,-77.91553950000001,-111.880771,-120.9577098,-81.72290859999998,-103.2310149,-118.1514588,-104.9338675,-72.589811,-105.084423,-122.1560768,-117.2425355,-73.8987469,-84.5120196,-77.7199932,-81.269453,-74.2631635,-83.555212,-110.27728559999998,-76.4730122,-87.5000412,-87.9631308,-95.6349463,-86.5861037,-121.2722194,-122.3773552,-96.9083366,-77.7905339,-83.2910468,-117.0991967,-122.0807964,-79.03773879999999,-119.7526886,-119.6456844,-118.0372852,-80.6495194,-86.7483318,-117.1825381,-89.51814759999999,-116.5634624,-77.03687070000001,-88.1070127,-96.7561082,-117.3703235,-96.7898034,-89.58898640000001,-95.9979883,-117.603104,-96.5716694,-116.54529209999998,-117.1610838,-122.7140548,-71.3161718,-95.7974526,-122.2348431,-86.78160159999999,-74.0434736,-105.0866504,-78.898619,-97.336111,-116.4668036,-93.24272,-87.9403418,-97.9908366,-88.0125865,-122.0363496,-122.0307963,-87.8211854,-77.8600012,-82.51544709999999,-91.4098726,-80.1247667,-100.4370375,-88.9936873,-121.4252227,-81.93204820000001,-71.467566,-83.6324022,-73.6187397,-75.1196199,-116.3744556,-88.1784085,-76.2874927,-83.11407709999999,-119.0376023,-86.2483921,-74.2107006,-149.90027780000003,-101.2922906,-80.2521157,-98.2300124,-96.6397822,-97.7277959,-83.6499321,-122.27111370000002,-122.0838511,-117.3272615,-101.8312969,-111.6585337,-84.3879824,-118.1228476,-81.83569,-120.0607176,-88.9548001,-71.5147839,-88.0398912,-122.25663670000002,-118.0353449,-89.66452659999999,-92.1735164,-94.7404891,-111.8412502,-105.0874842,-118.1270146,-86.13360329999999,-80.13198929999999,-86.158068,-80.0905465,-111.5495777,-87.9372908,-71.4372796,-86.8752869,-94.8191285,-84.19857900000001,-79.79197540000001,-85.5872286,-122.7714861,-77.43024140000001,-121.2810611,-87.5691735,-93.6001278,-118.3525748,-86.8113781,-80.07282009999999,-80.2683571,-114.5285981,-80.3997748,-83.1497751,-73.78235490000002,-121.29077959999998,-83.1446485,-80.8075537,-117.7075526,-117.2393748,-117.9186689,-96.9977846,-76.29827420000001,-122.8231915,-78.85028559999999,-96.4003069,-117.2919818,-111.654923,-118.2250725,-93.470786,-112.2373779,-111.9400054,-75.5397878,-111.9388258,-83.400211,-96.5991593,-79.43779909999999,-96.6388833,-122.3477486,-100.7837392,-119.7674034,-95.3696909,-82.0105148,-78.87835849999999,-84.155741,-74.360846,-122.0402399,-117.8103367,-86.9833417,-85.3096801,-85.7371847,-88.1856301,-117.96089779999998,-80.1300455,-88.8139469,-93.939947,-120.6596156,-97.3208492,-117.9289469,-111.9391023,-120.5058987,-84.1916069,-89.0928155,-118.1937395,-121.8374777,-89.2903392,-123.08675359999998,-117.3136547,-118.1137535,-121.8746789,-122.2020794,-97.9297743,-122.0399663,-112.3496021,-81.5267873,-85.17971419999999,-93.2982799,-90.5787476,-122.8037102,-90.2417434,-103.2052272,-73.69178509999999,-121.8995741,-87.88339909999999,-117.8703363,-71.08976740000001,-117.6897776,-82.35347270000001,-81.0998342,-80.81841659999999,-122.6614861,-80.25659499999999,-85.3863599,-111.8507662,-122.4194155,-117.435048,-96.8236116,-117.7325848,-117.0358646,-84.1246608,-74.4518188,-76.28587259999999,-122.989827,-116.95863500000002,-87.2169149,-84.5613355,-79.7625625,-117.2897652,-84.2214551,-117.2927641,-87.3464271,-111.7573521,-121.6543901,-90.6645718,-76.1474244,-87.3594528,-81.9498042,-73.7084645,-75.5243682,-96.7678039,-118.3964665,-88.03424,-122.33207079999998,-84.5085536,-121.3716178,-93.7501789,-111.9738304,-78.8689155,-118.3531311,-118.1445155,-71.1631137,-122.6706498,-122.6366524,-83.8088171,-122.286865,-104.8319195,-92.1004852,-79.9414266,-121.3153096,-117.1858759,-71.2356113,-81.87230840000001,-82.4571776,-117.6483876,-79.3950228,-89.0317765,-80.23310359999999,-104.8213634,-120.9968782,-85.6680863,-87.7845025,-82.5306527,-117.4854802,-118.1170117,-105.2705456,-105.937799,-116.173894,-71.55228740000001,-117.3961564,-118.11646129999998,-122.5697032,-111.9710529,-88.0683955,-117.6719953,-87.7878408,-121.29300790000002,-121.17605829999998,-112.315721,-106.7636538,-111.0429339,-88.0834059,-83.01465259999999,-90.6298922,-93.62,-112.3679279,-96.7298519,-84.24721159999999,-97.9413941,-75.88130749999999,-88.4153847,-94.7151865,-81.339552,-121.7680088,-80.8431267,-87.1111676,-80.09420870000001,-122.70109840000002,-87.62979820000001,-108.5006904,-88.0075875,-88.0078435,-72.9278835,-76.727745,-83.9207392,-82.10764859999999,-70.3002024,-111.8879909,-122.2416355,-121.21605259999998,-92.9952153,-122.8755949,-86.39027,-121.6169108,-73.0931641,-92.4453161,-89.8100858,-75.66241219999999,-85.48078249999999,-77.4752667,-121.9877444,-118.4911912,-76.5835621,-83.14993220000001,-116.3100095,-81.6326234,-119.2470536,-81.2811801,-79.9310512,-80.62173409999998,-117.5664384,-121.2357828,-94.3821724,-81.2078699,-111.8389726,-94.2088172,-118.542586,-81.36562420000001,-98.1244531,-90.0489801,-96.9488945,-77.0469214,-117.3008784,-72.61620090000001,-84.3346473,-87.7416246,-74.1454214,-75.3704579,-94.846681,-118.3884078,-95.3698028,-117.1483648,-83.7430378,-94.1265562,-84.48386540000001,-116.97391670000002,-80.2497707,-95.9145568,-80.2962555,-94.1288141,-119.17705159999998,-102.3676431,-97.0583681,-71.0183787,-74.11430909999999,-118.15979109999998,-90.5151342,-88.70365600000001,-84.8766115,-74.0776417,-93.0899578,-81.2636738,-73.58318349999999,-91.5301683,-117.9145036,-93.21772,-111.2833449,-112.0010501,-76.3452218,-97.6779842,-111.69464750000002,-118.0019482,-97.229298,-80.03258670000001,-92.2895948,-117.8678338,-73.76290970000001,-112.0339645,-122.2006786,-121.28800590000002,-74.2654234,-70.92866090000001,-98.3420118,-92.3340724,-87.78285229999999,-86.1180435,-85.5800022,-84.39827629999999,-121.7732971,-71.0119948,-97.0819541,-87.9806265,-116.9719684,-80.0053176,-82.4012642,-97.3967019,-117.1661449,-80.9956105,-118.1339563,-82.9290696,-89.09399520000001,-116.9625269,-82.64,-88.01117459999999,-73.064036,-123.1059282,-115.13982959999998,-95.2091006,-80.3582261,-91.6656232,-81.05588940000001,-71.0022705,-80.3035602,-106.4424559,-95.6890185,-118.072846,-123.0262077,-93.4687489,-81.51900529999999,-98.1633432,-117.5931084,-79.9748103,-85.7584557,-121.7568946,-80.17893509999999,-82.5748194,-117.3505939,-94.9027002,-122.3916754,-85.7053085,-82.18237459999999,-112.0263313,-80.13731740000001,-83.624201,-82.8001026,-80.3468593,-87.677251,-87.4139092,-97.342782,-84.0632685,-96.7311034,-85.9213796,-80.206436,-71.759794,-71.4161671,-119.0187125,-80.1917902,-93.2173758,-119.2844621,-81.3444573,-122.4077498,-93.4555093,-86.25198979999999,-97.4780954,-93.6091064,-81.77869720000001,-111.8638226,-118.032844,-83.3527097,-87.9064736,-122.22845320000002,-80.3414693,-70.880049,-122.21706609999998,-104.8771726,-77.4360481,-85.6802541,-116.977248,-97.6200043,-74.0323626,-84.50371640000002,-118.081733,-114.6276916,-117.2086513,-88.1347927,-88.0817251,-81.02507840000001,-121.302728,-83.2732627,-157.8583333,-97.0035982,-71.2856082,-96.5388789,-96.8899636,-88.2120315,-88.1227199,-71.19089240000001,-82.23592540000001,-77.1527578,-118.30896609999998,-117.9242966,-88.5426136,-95.5507771,-83.3677168,-118.096735,-118.0647871,-117.9495083,-108.5506486,-97.8783911,-121.88632859999998,-97.678896,-93.4557877,-97.4394777,-80.4775569,-95.2010447,-117.7946942,-112.4455344,-122.48691940000002,-87.71453000000001,-93.7321228,-97.8202888,-84.3733147,-88.2433829,-74.16375529999999,-97.4867028,-94.2816148,-118.1541632,-96.3699632,-97.1705678,-81.94953309999998,-122.0321823,-73.2453824,-121.5682751,-71.4547891,-75.977985,-97.6114237,-71.0994968,-82.7873244,-119.7725868,-85.0007653,-87.79366850000001,-80.1386547,-71.38255579999999,-118.1058333,-80.24421600000001,-84.2940899,-90.6998477,-122.2363548,-122.0438298,-80.148379,-93.9993996,-117.7256083,-117.185294,-105.0749801,-88.2578582,-71.4128343,-80.2781057,-121.9780153,-117.6508876,-122.2087353,-113.5684164,-80.752608,-118.255075,-72.8070435,-118.3089624,-72.749538,-88.2825668,-96.6988856,-105.1019275,-97.0150078,-81.7981908,-90.704279,-96.3344068,-83.1763145,-75.232664,-92.1193012,-76.6121893,-93.2922989,-92.0031955,-74.40737359999999,-70.9494938,-92.9593797,-82.3248262,-121.530234,-122.0355736,-80.1392121,-94.1574263,-122.5310874,-92.4421011,-122.4442906,-72.6506488,-73.21207199999999,-114.4608711,-96.6088805,-74.00594129999999,-118.781482,-117.93895259999998,-104.8560902,-83.2784851,-97.3307658,-118.281693,-87.5710898,-120.4357191,-86.7827772,-117.02308390000002,-105.03720459999998,-75.9268747,-120.8465941,-104.7091322,-95.3010624,-81.5861847,-97.1466695,-122.1341321,-118.8375937,-117.9075627,-73.1951767,-93.3702186,-90.5770675,-80.1353896,-119.10056570000002,-118.3406288,-89.4012302,-89.01872220000001,-87.84479379999999,-86.48080429999999,-97.1080656,-96.994174,-108.2186856,-121.7124536,-122.1430195,-123.0220289,-70.934205,-122.121512,-121.6957863,-121.7405167,-118.0120086,-86.51860450000001,-78.3947359,-85.39048879999999,-74.20486770000001,-87.7932939,-88.88530779999999,-88.2072697,-117.9414477,-118.21146029999998,-104.9811468,-81.378447,-84.3365917,-91.1403196,-72.9492703,-94.4155068,-84.55553470000001,-87.8539425,-75.0259637,-88.019826,-87.6876969,-81.5439619,-118.24368490000002,-122.3126222,-111.9391031,-117.0430865,-79.9958864,-118.1331593,-87.7539448,-118.2120161,-85.6602058,-94.513281,-95.0949303,-111.89104740000002,-80.3256056,-112.0740373,-123.2620435,-96.9561152,-72.6078672,-82.14009229999999,-84.36155550000001,-87.8406192,-71.5375718,-122.9006951,-117.9992265,-97.396381,-71.0772796,-88.1450735,-71.10973349999999,-112.1859866,-117.9931165,-80.17564809999999,-90.5776367,-80.1289321,-72.77954190000001,-82.93714090000002,-81.556235,-122.4302013,-80.2133808,-86.6199957,-121.9552356,-117.3794834,-117.689218,-83.47549129999999,-74.0143064,-71.0536625,-74.2445902,-82.5514869,-118.2200712],\"marker\":{\"color\":\"fuchsia\"},\"mode\":\"markers\",\"name\":\"\",\"showlegend\":false,\"subplot\":\"mapbox\",\"type\":\"scattermapbox\"}],                        {\"template\":{\"data\":{\"histogram2dcontour\":[{\"type\":\"histogram2dcontour\",\"colorbar\":{\"outlinewidth\":0,\"ticks\":\"\"},\"colorscale\":[[0.0,\"#0d0887\"],[0.1111111111111111,\"#46039f\"],[0.2222222222222222,\"#7201a8\"],[0.3333333333333333,\"#9c179e\"],[0.4444444444444444,\"#bd3786\"],[0.5555555555555556,\"#d8576b\"],[0.6666666666666666,\"#ed7953\"],[0.7777777777777778,\"#fb9f3a\"],[0.8888888888888888,\"#fdca26\"],[1.0,\"#f0f921\"]]}],\"choropleth\":[{\"type\":\"choropleth\",\"colorbar\":{\"outlinewidth\":0,\"ticks\":\"\"}}],\"histogram2d\":[{\"type\":\"histogram2d\",\"colorbar\":{\"outlinewidth\":0,\"ticks\":\"\"},\"colorscale\":[[0.0,\"#0d0887\"],[0.1111111111111111,\"#46039f\"],[0.2222222222222222,\"#7201a8\"],[0.3333333333333333,\"#9c179e\"],[0.4444444444444444,\"#bd3786\"],[0.5555555555555556,\"#d8576b\"],[0.6666666666666666,\"#ed7953\"],[0.7777777777777778,\"#fb9f3a\"],[0.8888888888888888,\"#fdca26\"],[1.0,\"#f0f921\"]]}],\"heatmap\":[{\"type\":\"heatmap\",\"colorbar\":{\"outlinewidth\":0,\"ticks\":\"\"},\"colorscale\":[[0.0,\"#0d0887\"],[0.1111111111111111,\"#46039f\"],[0.2222222222222222,\"#7201a8\"],[0.3333333333333333,\"#9c179e\"],[0.4444444444444444,\"#bd3786\"],[0.5555555555555556,\"#d8576b\"],[0.6666666666666666,\"#ed7953\"],[0.7777777777777778,\"#fb9f3a\"],[0.8888888888888888,\"#fdca26\"],[1.0,\"#f0f921\"]]}],\"heatmapgl\":[{\"type\":\"heatmapgl\",\"colorbar\":{\"outlinewidth\":0,\"ticks\":\"\"},\"colorscale\":[[0.0,\"#0d0887\"],[0.1111111111111111,\"#46039f\"],[0.2222222222222222,\"#7201a8\"],[0.3333333333333333,\"#9c179e\"],[0.4444444444444444,\"#bd3786\"],[0.5555555555555556,\"#d8576b\"],[0.6666666666666666,\"#ed7953\"],[0.7777777777777778,\"#fb9f3a\"],[0.8888888888888888,\"#fdca26\"],[1.0,\"#f0f921\"]]}],\"contourcarpet\":[{\"type\":\"contourcarpet\",\"colorbar\":{\"outlinewidth\":0,\"ticks\":\"\"}}],\"contour\":[{\"type\":\"contour\",\"colorbar\":{\"outlinewidth\":0,\"ticks\":\"\"},\"colorscale\":[[0.0,\"#0d0887\"],[0.1111111111111111,\"#46039f\"],[0.2222222222222222,\"#7201a8\"],[0.3333333333333333,\"#9c179e\"],[0.4444444444444444,\"#bd3786\"],[0.5555555555555556,\"#d8576b\"],[0.6666666666666666,\"#ed7953\"],[0.7777777777777778,\"#fb9f3a\"],[0.8888888888888888,\"#fdca26\"],[1.0,\"#f0f921\"]]}],\"surface\":[{\"type\":\"surface\",\"colorbar\":{\"outlinewidth\":0,\"ticks\":\"\"},\"colorscale\":[[0.0,\"#0d0887\"],[0.1111111111111111,\"#46039f\"],[0.2222222222222222,\"#7201a8\"],[0.3333333333333333,\"#9c179e\"],[0.4444444444444444,\"#bd3786\"],[0.5555555555555556,\"#d8576b\"],[0.6666666666666666,\"#ed7953\"],[0.7777777777777778,\"#fb9f3a\"],[0.8888888888888888,\"#fdca26\"],[1.0,\"#f0f921\"]]}],\"mesh3d\":[{\"type\":\"mesh3d\",\"colorbar\":{\"outlinewidth\":0,\"ticks\":\"\"}}],\"scatter\":[{\"fillpattern\":{\"fillmode\":\"overlay\",\"size\":10,\"solidity\":0.2},\"type\":\"scatter\"}],\"parcoords\":[{\"type\":\"parcoords\",\"line\":{\"colorbar\":{\"outlinewidth\":0,\"ticks\":\"\"}}}],\"scatterpolargl\":[{\"type\":\"scatterpolargl\",\"marker\":{\"colorbar\":{\"outlinewidth\":0,\"ticks\":\"\"}}}],\"bar\":[{\"error_x\":{\"color\":\"#2a3f5f\"},\"error_y\":{\"color\":\"#2a3f5f\"},\"marker\":{\"line\":{\"color\":\"#E5ECF6\",\"width\":0.5},\"pattern\":{\"fillmode\":\"overlay\",\"size\":10,\"solidity\":0.2}},\"type\":\"bar\"}],\"scattergeo\":[{\"type\":\"scattergeo\",\"marker\":{\"colorbar\":{\"outlinewidth\":0,\"ticks\":\"\"}}}],\"scatterpolar\":[{\"type\":\"scatterpolar\",\"marker\":{\"colorbar\":{\"outlinewidth\":0,\"ticks\":\"\"}}}],\"histogram\":[{\"marker\":{\"pattern\":{\"fillmode\":\"overlay\",\"size\":10,\"solidity\":0.2}},\"type\":\"histogram\"}],\"scattergl\":[{\"type\":\"scattergl\",\"marker\":{\"colorbar\":{\"outlinewidth\":0,\"ticks\":\"\"}}}],\"scatter3d\":[{\"type\":\"scatter3d\",\"line\":{\"colorbar\":{\"outlinewidth\":0,\"ticks\":\"\"}},\"marker\":{\"colorbar\":{\"outlinewidth\":0,\"ticks\":\"\"}}}],\"scattermapbox\":[{\"type\":\"scattermapbox\",\"marker\":{\"colorbar\":{\"outlinewidth\":0,\"ticks\":\"\"}}}],\"scatterternary\":[{\"type\":\"scatterternary\",\"marker\":{\"colorbar\":{\"outlinewidth\":0,\"ticks\":\"\"}}}],\"scattercarpet\":[{\"type\":\"scattercarpet\",\"marker\":{\"colorbar\":{\"outlinewidth\":0,\"ticks\":\"\"}}}],\"carpet\":[{\"aaxis\":{\"endlinecolor\":\"#2a3f5f\",\"gridcolor\":\"white\",\"linecolor\":\"white\",\"minorgridcolor\":\"white\",\"startlinecolor\":\"#2a3f5f\"},\"baxis\":{\"endlinecolor\":\"#2a3f5f\",\"gridcolor\":\"white\",\"linecolor\":\"white\",\"minorgridcolor\":\"white\",\"startlinecolor\":\"#2a3f5f\"},\"type\":\"carpet\"}],\"table\":[{\"cells\":{\"fill\":{\"color\":\"#EBF0F8\"},\"line\":{\"color\":\"white\"}},\"header\":{\"fill\":{\"color\":\"#C8D4E3\"},\"line\":{\"color\":\"white\"}},\"type\":\"table\"}],\"barpolar\":[{\"marker\":{\"line\":{\"color\":\"#E5ECF6\",\"width\":0.5},\"pattern\":{\"fillmode\":\"overlay\",\"size\":10,\"solidity\":0.2}},\"type\":\"barpolar\"}],\"pie\":[{\"automargin\":true,\"type\":\"pie\"}]},\"layout\":{\"autotypenumbers\":\"strict\",\"colorway\":[\"#636efa\",\"#EF553B\",\"#00cc96\",\"#ab63fa\",\"#FFA15A\",\"#19d3f3\",\"#FF6692\",\"#B6E880\",\"#FF97FF\",\"#FECB52\"],\"font\":{\"color\":\"#2a3f5f\"},\"hovermode\":\"closest\",\"hoverlabel\":{\"align\":\"left\"},\"paper_bgcolor\":\"white\",\"plot_bgcolor\":\"#E5ECF6\",\"polar\":{\"bgcolor\":\"#E5ECF6\",\"angularaxis\":{\"gridcolor\":\"white\",\"linecolor\":\"white\",\"ticks\":\"\"},\"radialaxis\":{\"gridcolor\":\"white\",\"linecolor\":\"white\",\"ticks\":\"\"}},\"ternary\":{\"bgcolor\":\"#E5ECF6\",\"aaxis\":{\"gridcolor\":\"white\",\"linecolor\":\"white\",\"ticks\":\"\"},\"baxis\":{\"gridcolor\":\"white\",\"linecolor\":\"white\",\"ticks\":\"\"},\"caxis\":{\"gridcolor\":\"white\",\"linecolor\":\"white\",\"ticks\":\"\"}},\"coloraxis\":{\"colorbar\":{\"outlinewidth\":0,\"ticks\":\"\"}},\"colorscale\":{\"sequential\":[[0.0,\"#0d0887\"],[0.1111111111111111,\"#46039f\"],[0.2222222222222222,\"#7201a8\"],[0.3333333333333333,\"#9c179e\"],[0.4444444444444444,\"#bd3786\"],[0.5555555555555556,\"#d8576b\"],[0.6666666666666666,\"#ed7953\"],[0.7777777777777778,\"#fb9f3a\"],[0.8888888888888888,\"#fdca26\"],[1.0,\"#f0f921\"]],\"sequentialminus\":[[0.0,\"#0d0887\"],[0.1111111111111111,\"#46039f\"],[0.2222222222222222,\"#7201a8\"],[0.3333333333333333,\"#9c179e\"],[0.4444444444444444,\"#bd3786\"],[0.5555555555555556,\"#d8576b\"],[0.6666666666666666,\"#ed7953\"],[0.7777777777777778,\"#fb9f3a\"],[0.8888888888888888,\"#fdca26\"],[1.0,\"#f0f921\"]],\"diverging\":[[0,\"#8e0152\"],[0.1,\"#c51b7d\"],[0.2,\"#de77ae\"],[0.3,\"#f1b6da\"],[0.4,\"#fde0ef\"],[0.5,\"#f7f7f7\"],[0.6,\"#e6f5d0\"],[0.7,\"#b8e186\"],[0.8,\"#7fbc41\"],[0.9,\"#4d9221\"],[1,\"#276419\"]]},\"xaxis\":{\"gridcolor\":\"white\",\"linecolor\":\"white\",\"ticks\":\"\",\"title\":{\"standoff\":15},\"zerolinecolor\":\"white\",\"automargin\":true,\"zerolinewidth\":2},\"yaxis\":{\"gridcolor\":\"white\",\"linecolor\":\"white\",\"ticks\":\"\",\"title\":{\"standoff\":15},\"zerolinecolor\":\"white\",\"automargin\":true,\"zerolinewidth\":2},\"scene\":{\"xaxis\":{\"backgroundcolor\":\"#E5ECF6\",\"gridcolor\":\"white\",\"linecolor\":\"white\",\"showbackground\":true,\"ticks\":\"\",\"zerolinecolor\":\"white\",\"gridwidth\":2},\"yaxis\":{\"backgroundcolor\":\"#E5ECF6\",\"gridcolor\":\"white\",\"linecolor\":\"white\",\"showbackground\":true,\"ticks\":\"\",\"zerolinecolor\":\"white\",\"gridwidth\":2},\"zaxis\":{\"backgroundcolor\":\"#E5ECF6\",\"gridcolor\":\"white\",\"linecolor\":\"white\",\"showbackground\":true,\"ticks\":\"\",\"zerolinecolor\":\"white\",\"gridwidth\":2}},\"shapedefaults\":{\"line\":{\"color\":\"#2a3f5f\"}},\"annotationdefaults\":{\"arrowcolor\":\"#2a3f5f\",\"arrowhead\":0,\"arrowwidth\":1},\"geo\":{\"bgcolor\":\"white\",\"landcolor\":\"#E5ECF6\",\"subunitcolor\":\"white\",\"showland\":true,\"showlakes\":true,\"lakecolor\":\"white\"},\"title\":{\"x\":0.05},\"mapbox\":{\"style\":\"light\"}}},\"mapbox\":{\"domain\":{\"x\":[0.0,1.0],\"y\":[0.0,1.0]},\"center\":{\"lat\":37.338240701500006,\"lon\":-96.48302336069996},\"zoom\":3,\"style\":\"open-street-map\"},\"legend\":{\"tracegroupgap\":0},\"margin\":{\"t\":0,\"r\":0,\"l\":0,\"b\":0},\"height\":300},                        {\"responsive\": true}                    ).then(function(){\n",
       "                            \n",
       "var gd = document.getElementById('51ab5630-34a7-4ce4-9b84-970d6c7dd148');\n",
       "var x = new MutationObserver(function (mutations, observer) {{\n",
       "        var display = window.getComputedStyle(gd).display;\n",
       "        if (!display || display === 'none') {{\n",
       "            console.log([gd, 'removed!']);\n",
       "            Plotly.purge(gd);\n",
       "            observer.disconnect();\n",
       "        }}\n",
       "}});\n",
       "\n",
       "// Listen for the removal of the full notebook cells\n",
       "var notebookContainer = gd.closest('#notebook-container');\n",
       "if (notebookContainer) {{\n",
       "    x.observe(notebookContainer, {childList: true});\n",
       "}}\n",
       "\n",
       "// Listen for the clearing of the current output cell\n",
       "var outputEl = gd.closest('.output');\n",
       "if (outputEl) {{\n",
       "    x.observe(outputEl, {childList: true});\n",
       "}}\n",
       "\n",
       "                        })                };                });            </script>        </div>"
      ]
     },
     "metadata": {},
     "output_type": "display_data"
    }
   ],
   "source": [
    "import pandas as pd\n",
    "us_cities = pd.read_csv(\"https://raw.githubusercontent.com/plotly/datasets/master/us-cities-top-1k.csv\")\n",
    "\n",
    "import plotly.express as px\n",
    "\n",
    "fig = px.scatter_mapbox(us_cities, lat=\"lat\", lon=\"lon\", hover_name=\"City\", hover_data=[\"State\", \"Population\"],\n",
    "                        color_discrete_sequence=[\"fuchsia\"], zoom=3, height=300)\n",
    "fig.update_layout(mapbox_style=\"open-street-map\")\n",
    "fig.update_layout(margin={\"r\":0,\"t\":0,\"l\":0,\"b\":0})\n",
    "fig.show()"
   ]
  },
  {
   "cell_type": "code",
   "execution_count": null,
   "id": "2fda1e99",
   "metadata": {},
   "outputs": [],
   "source": []
  },
  {
   "cell_type": "code",
   "execution_count": 18,
   "id": "7b253abf",
   "metadata": {},
   "outputs": [
    {
     "data": {
      "text/html": [
       "<div>\n",
       "<style scoped>\n",
       "    .dataframe tbody tr th:only-of-type {\n",
       "        vertical-align: middle;\n",
       "    }\n",
       "\n",
       "    .dataframe tbody tr th {\n",
       "        vertical-align: top;\n",
       "    }\n",
       "\n",
       "    .dataframe thead th {\n",
       "        text-align: right;\n",
       "    }\n",
       "</style>\n",
       "<table border=\"1\" class=\"dataframe\">\n",
       "  <thead>\n",
       "    <tr style=\"text-align: right;\">\n",
       "      <th></th>\n",
       "      <th>index</th>\n",
       "      <th>sensor_id</th>\n",
       "      <th>latitude</th>\n",
       "      <th>longitude</th>\n",
       "    </tr>\n",
       "  </thead>\n",
       "  <tbody>\n",
       "    <tr>\n",
       "      <th>0</th>\n",
       "      <td>0</td>\n",
       "      <td>1210007700</td>\n",
       "      <td>37.465729</td>\n",
       "      <td>127.043049</td>\n",
       "    </tr>\n",
       "    <tr>\n",
       "      <th>1</th>\n",
       "      <td>1</td>\n",
       "      <td>1210008500</td>\n",
       "      <td>37.468666</td>\n",
       "      <td>127.039901</td>\n",
       "    </tr>\n",
       "    <tr>\n",
       "      <th>2</th>\n",
       "      <td>2</td>\n",
       "      <td>1210009500</td>\n",
       "      <td>37.469759</td>\n",
       "      <td>127.039182</td>\n",
       "    </tr>\n",
       "    <tr>\n",
       "      <th>3</th>\n",
       "      <td>3</td>\n",
       "      <td>1210010300</td>\n",
       "      <td>37.473751</td>\n",
       "      <td>127.038730</td>\n",
       "    </tr>\n",
       "    <tr>\n",
       "      <th>4</th>\n",
       "      <td>4</td>\n",
       "      <td>1210011300</td>\n",
       "      <td>37.475672</td>\n",
       "      <td>127.038728</td>\n",
       "    </tr>\n",
       "    <tr>\n",
       "      <th>...</th>\n",
       "      <td>...</td>\n",
       "      <td>...</td>\n",
       "      <td>...</td>\n",
       "      <td>...</td>\n",
       "    </tr>\n",
       "    <tr>\n",
       "      <th>501</th>\n",
       "      <td>501</td>\n",
       "      <td>1210013900</td>\n",
       "      <td>37.481518</td>\n",
       "      <td>126.997702</td>\n",
       "    </tr>\n",
       "    <tr>\n",
       "      <th>502</th>\n",
       "      <td>502</td>\n",
       "      <td>1210014900</td>\n",
       "      <td>37.482781</td>\n",
       "      <td>127.004530</td>\n",
       "    </tr>\n",
       "    <tr>\n",
       "      <th>503</th>\n",
       "      <td>503</td>\n",
       "      <td>1210015900</td>\n",
       "      <td>37.484124</td>\n",
       "      <td>127.011497</td>\n",
       "    </tr>\n",
       "    <tr>\n",
       "      <th>504</th>\n",
       "      <td>504</td>\n",
       "      <td>1210017100</td>\n",
       "      <td>37.485058</td>\n",
       "      <td>127.016338</td>\n",
       "    </tr>\n",
       "    <tr>\n",
       "      <th>505</th>\n",
       "      <td>505</td>\n",
       "      <td>1210018300</td>\n",
       "      <td>37.488513</td>\n",
       "      <td>127.028190</td>\n",
       "    </tr>\n",
       "  </tbody>\n",
       "</table>\n",
       "<p>506 rows × 4 columns</p>\n",
       "</div>"
      ],
      "text/plain": [
       "     index   sensor_id   latitude   longitude\n",
       "0        0  1210007700  37.465729  127.043049\n",
       "1        1  1210008500  37.468666  127.039901\n",
       "2        2  1210009500  37.469759  127.039182\n",
       "3        3  1210010300  37.473751  127.038730\n",
       "4        4  1210011300  37.475672  127.038728\n",
       "..     ...         ...        ...         ...\n",
       "501    501  1210013900  37.481518  126.997702\n",
       "502    502  1210014900  37.482781  127.004530\n",
       "503    503  1210015900  37.484124  127.011497\n",
       "504    504  1210017100  37.485058  127.016338\n",
       "505    505  1210018300  37.488513  127.028190\n",
       "\n",
       "[506 rows x 4 columns]"
      ]
     },
     "execution_count": 18,
     "metadata": {},
     "output_type": "execute_result"
    }
   ],
   "source": [
    "df = pd.read_csv('graph_sensor_locations_Seoul_all.csv')\n",
    "df"
   ]
  },
  {
   "cell_type": "code",
   "execution_count": 20,
   "id": "af286076",
   "metadata": {},
   "outputs": [
    {
     "data": {
      "application/vnd.plotly.v1+json": {
       "config": {
        "plotlyServerURL": "https://plot.ly"
       },
       "data": [
        {
         "customdata": [
          [
           1210007700
          ],
          [
           1210008500
          ],
          [
           1210009500
          ],
          [
           1210010300
          ],
          [
           1210011300
          ],
          [
           1210013700
          ],
          [
           1220011900
          ],
          [
           1220016300
          ],
          [
           1220021100
          ],
          [
           1220025100
          ],
          [
           1220027900
          ],
          [
           1220030700
          ],
          [
           1210030100
          ],
          [
           1210006300
          ],
          [
           1210030700
          ],
          [
           1210006200
          ],
          [
           1210030000
          ],
          [
           1220030600
          ],
          [
           1220027800
          ],
          [
           1220025000
          ],
          [
           1220021000
          ],
          [
           1220016200
          ],
          [
           1220011800
          ],
          [
           1210013600
          ],
          [
           1210011200
          ],
          [
           1210010200
          ],
          [
           1210009400
          ],
          [
           1210008400
          ],
          [
           1210007600
          ],
          [
           1220020500
          ],
          [
           1220018600
          ],
          [
           1220017200
          ],
          [
           1220015600
          ],
          [
           1220013600
          ],
          [
           1220012000
          ],
          [
           1220008200
          ],
          [
           1220007000
          ],
          [
           1220007100
          ],
          [
           1220008300
          ],
          [
           1220012100
          ],
          [
           1220013700
          ],
          [
           1220015700
          ],
          [
           1220017300
          ],
          [
           1220018700
          ],
          [
           1220020400
          ],
          [
           1210008100
          ],
          [
           1220008000
          ],
          [
           1220010100
          ],
          [
           1220013300
          ],
          [
           1220010000
          ],
          [
           1220008100
          ],
          [
           1210029400
          ],
          [
           1210029700
          ],
          [
           1210029600
          ],
          [
           1210029500
          ],
          [
           1210009800
          ],
          [
           1210011100
          ],
          [
           1210012500
          ],
          [
           1210013500
          ],
          [
           1210014300
          ],
          [
           1210003500
          ],
          [
           1210015200
          ],
          [
           1210015500
          ],
          [
           1220010300
          ],
          [
           1220010700
          ],
          [
           1220012500
          ],
          [
           1220014300
          ],
          [
           1220018500
          ],
          [
           1220021300
          ],
          [
           1220022800
          ],
          [
           1220023500
          ],
          [
           1220022000
          ],
          [
           1220020200
          ],
          [
           1220020300
          ],
          [
           1220022100
          ],
          [
           1220023600
          ],
          [
           1220022700
          ],
          [
           1220021200
          ],
          [
           1220018400
          ],
          [
           1220014200
          ],
          [
           1220012400
          ],
          [
           1220010600
          ],
          [
           1220010200
          ],
          [
           1210015400
          ],
          [
           1210015300
          ],
          [
           1210003800
          ],
          [
           1210014200
          ],
          [
           1210013400
          ],
          [
           1210012400
          ],
          [
           1210011000
          ],
          [
           1210009900
          ],
          [
           1210010900
          ],
          [
           1220036600
          ],
          [
           1220034400
          ],
          [
           1220032200
          ],
          [
           1220029600
          ],
          [
           1220026200
          ],
          [
           1220022900
          ],
          [
           1220019800
          ],
          [
           1220013400
          ],
          [
           1220009000
          ],
          [
           1220007600
          ],
          [
           1220007200
          ],
          [
           1220006400
          ],
          [
           1220006200
          ],
          [
           1220006300
          ],
          [
           1220006500
          ],
          [
           1220007300
          ],
          [
           1220007700
          ],
          [
           1220009100
          ],
          [
           1220013500
          ],
          [
           1220019900
          ],
          [
           1220023000
          ],
          [
           1220026300
          ],
          [
           1220029700
          ],
          [
           1220032300
          ],
          [
           1220034500
          ],
          [
           1220036700
          ],
          [
           1220037100
          ],
          [
           1220015500
          ],
          [
           1220016700
          ],
          [
           1220019100
          ],
          [
           1220020900
          ],
          [
           1220022600
          ],
          [
           1220024300
          ],
          [
           1220025700
          ],
          [
           1220024200
          ],
          [
           1220022500
          ],
          [
           1220020800
          ],
          [
           1220019000
          ],
          [
           1220016600
          ],
          [
           1220015400
          ],
          [
           1220034800
          ],
          [
           1220034600
          ],
          [
           1220034200
          ],
          [
           1220033600
          ],
          [
           1220032600
          ],
          [
           1220032700
          ],
          [
           1220033700
          ],
          [
           1220034300
          ],
          [
           1220034700
          ],
          [
           1220034900
          ],
          [
           1210017700
          ],
          [
           1210021700
          ],
          [
           1210023500
          ],
          [
           1210027900
          ],
          [
           1210024000
          ],
          [
           1210021600
          ],
          [
           1210017600
          ],
          [
           1210013200
          ],
          [
           1210010700
          ],
          [
           1210010600
          ],
          [
           1210012900
          ],
          [
           1210016900
          ],
          [
           1210016800
          ],
          [
           1210012800
          ],
          [
           3201504500
          ],
          [
           3201504100
          ],
          [
           3201503900
          ],
          [
           3201503800
          ],
          [
           3201504000
          ],
          [
           3201504400
          ],
          [
           1210014100
          ],
          [
           1210016100
          ],
          [
           1210018500
          ],
          [
           1210021900
          ],
          [
           1210025100
          ],
          [
           1210026700
          ],
          [
           1210028900
          ],
          [
           1210026600
          ],
          [
           1210025000
          ],
          [
           1210021800
          ],
          [
           1210018400
          ],
          [
           1210016000
          ],
          [
           1210014000
          ],
          [
           1220005900
          ],
          [
           1220006700
          ],
          [
           1220013900
          ],
          [
           1220013800
          ],
          [
           1220006600
          ],
          [
           1220005800
          ],
          [
           1210011900
          ],
          [
           1210015700
          ],
          [
           1210018900
          ],
          [
           1210021300
          ],
          [
           1210021200
          ],
          [
           1210018800
          ],
          [
           1210015600
          ],
          [
           1210011800
          ],
          [
           1220031400
          ],
          [
           1220030800
          ],
          [
           1220030000
          ],
          [
           1220029000
          ],
          [
           1220028200
          ],
          [
           1220027200
          ],
          [
           1220027300
          ],
          [
           1220028300
          ],
          [
           1220029100
          ],
          [
           1220030100
          ],
          [
           1220030900
          ],
          [
           1220031500
          ],
          [
           1220031700
          ],
          [
           1210014500
          ],
          [
           1210020000
          ],
          [
           1210019000
          ],
          [
           1210017400
          ],
          [
           1210017500
          ],
          [
           1210019100
          ],
          [
           1210020100
          ],
          [
           1210022800
          ],
          [
           1210022700
          ],
          [
           1210023700
          ],
          [
           1210024900
          ],
          [
           1210025800
          ],
          [
           1210024500
          ],
          [
           1210025500
          ],
          [
           1210025400
          ],
          [
           1210024400
          ],
          [
           1210025900
          ],
          [
           1210024800
          ],
          [
           1210023600
          ],
          [
           1210022600
          ],
          [
           1210022900
          ],
          [
           1220034000
          ],
          [
           1220031800
          ],
          [
           1220029200
          ],
          [
           1220026600
          ],
          [
           1220024800
          ],
          [
           1220021800
          ],
          [
           1220018200
          ],
          [
           1220015000
          ],
          [
           1220012600
          ],
          [
           1220009400
          ],
          [
           1220009500
          ],
          [
           1220012700
          ],
          [
           1220015100
          ],
          [
           1220018300
          ],
          [
           1220021900
          ],
          [
           1220024900
          ],
          [
           1220026700
          ],
          [
           1220029300
          ],
          [
           1220031900
          ],
          [
           1220034100
          ],
          [
           1220024500
          ],
          [
           1210023000
          ],
          [
           1210020800
          ],
          [
           1210018600
          ],
          [
           1210016400
          ],
          [
           1210016500
          ],
          [
           1210018700
          ],
          [
           1210020900
          ],
          [
           1210023100
          ],
          [
           1210016300
          ],
          [
           1210017300
          ],
          [
           1210017900
          ],
          [
           1210019700
          ],
          [
           1210020300
          ],
          [
           1210021100
          ],
          [
           1210022300
          ],
          [
           1210022200
          ],
          [
           1210021000
          ],
          [
           1210020200
          ],
          [
           1210019600
          ],
          [
           1210017800
          ],
          [
           1210017200
          ],
          [
           1210016200
          ],
          [
           1210015100
          ],
          [
           1210016700
          ],
          [
           1210019500
          ],
          [
           1210022500
          ],
          [
           1210025300
          ],
          [
           1210025200
          ],
          [
           1210022400
          ],
          [
           1210019400
          ],
          [
           1210016600
          ],
          [
           1210015000
          ],
          [
           1220036400
          ],
          [
           1220035400
          ],
          [
           1220033400
          ],
          [
           1220031000
          ],
          [
           1220027600
          ],
          [
           1220025800
          ],
          [
           1220023100
          ],
          [
           1220019200
          ],
          [
           1220014000
          ],
          [
           1220011000
          ],
          [
           1220008600
          ],
          [
           1220007400
          ],
          [
           1220007500
          ],
          [
           1220008700
          ],
          [
           1220011100
          ],
          [
           1220014100
          ],
          [
           1220019300
          ],
          [
           1220023200
          ],
          [
           1220025900
          ],
          [
           1220027700
          ],
          [
           1220031100
          ],
          [
           1220033500
          ],
          [
           1220035500
          ],
          [
           1220036500
          ],
          [
           1210027600
          ],
          [
           1210027000
          ],
          [
           1210026800
          ],
          [
           1210026400
          ],
          [
           1210026000
          ],
          [
           1210024200
          ],
          [
           1210023200
          ],
          [
           1210023300
          ],
          [
           1210024300
          ],
          [
           1210026100
          ],
          [
           1210026500
          ],
          [
           1210026900
          ],
          [
           1210027100
          ],
          [
           1210027700
          ],
          [
           1220035900
          ],
          [
           1220036300
          ],
          [
           1220036000
          ],
          [
           1220035000
          ],
          [
           1220035100
          ],
          [
           1220036100
          ],
          [
           1220036200
          ],
          [
           1220035800
          ],
          [
           1210000500
          ],
          [
           1210001000
          ],
          [
           1210001200
          ],
          [
           1210001800
          ],
          [
           1210002600
          ],
          [
           1210002800
          ],
          [
           1220000200
          ],
          [
           1220000400
          ],
          [
           1220000600
          ],
          [
           1220000800
          ],
          [
           1220012900
          ],
          [
           1220014500
          ],
          [
           1220017100
          ],
          [
           1220018900
          ],
          [
           1220017000
          ],
          [
           1220014400
          ],
          [
           1220012800
          ],
          [
           1220000700
          ],
          [
           1220000500
          ],
          [
           1220000300
          ],
          [
           1220000100
          ],
          [
           1210002700
          ],
          [
           1210002500
          ],
          [
           1210001700
          ],
          [
           1210001100
          ],
          [
           1210000900
          ],
          [
           1210000600
          ],
          [
           1220017500
          ],
          [
           1220017400
          ],
          [
           1210010100
          ],
          [
           1210011500
          ],
          [
           1220007900
          ],
          [
           1220009900
          ],
          [
           1220011700
          ],
          [
           1220016900
          ],
          [
           1220016800
          ],
          [
           1220015200
          ],
          [
           1220011600
          ],
          [
           1220009800
          ],
          [
           1220007800
          ],
          [
           1210011400
          ],
          [
           1210010000
          ],
          [
           1220036800
          ],
          [
           1220035200
          ],
          [
           1220033000
          ],
          [
           1220029800
          ],
          [
           1220027400
          ],
          [
           1220024600
          ],
          [
           1220021400
          ],
          [
           1220016000
          ],
          [
           1220011400
          ],
          [
           1220008400
          ],
          [
           1220006800
          ],
          [
           1210007800
          ],
          [
           1210006600
          ],
          [
           1210006700
          ],
          [
           1210007900
          ],
          [
           1220006900
          ],
          [
           1220008500
          ],
          [
           1220011500
          ],
          [
           1220016100
          ],
          [
           1220021500
          ],
          [
           1220024700
          ],
          [
           1220027500
          ],
          [
           1220029900
          ],
          [
           1220033100
          ],
          [
           1220035300
          ],
          [
           1220036900
          ],
          [
           1220037300
          ],
          [
           1220019500
          ],
          [
           1220020700
          ],
          [
           1220022300
          ],
          [
           1220023900
          ],
          [
           1220025500
          ],
          [
           1220026500
          ],
          [
           1220027100
          ],
          [
           1220027000
          ],
          [
           1220026400
          ],
          [
           1220025400
          ],
          [
           1220023800
          ],
          [
           1220022200
          ],
          [
           1220020600
          ],
          [
           1220019400
          ],
          [
           1220004800
          ],
          [
           1220004200
          ],
          [
           1220004000
          ],
          [
           1220003300
          ],
          [
           1220003100
          ],
          [
           1220002700
          ],
          [
           1220002200
          ],
          [
           1220001900
          ],
          [
           1220001500
          ],
          [
           1220001100
          ],
          [
           1220000900
          ],
          [
           1220001000
          ],
          [
           1220001200
          ],
          [
           1220001600
          ],
          [
           1220002000
          ],
          [
           1220002300
          ],
          [
           1220002800
          ],
          [
           1220003200
          ],
          [
           1220003400
          ],
          [
           1220004100
          ],
          [
           1220004300
          ],
          [
           1220004900
          ],
          [
           1220005300
          ],
          [
           1210000400
          ],
          [
           1210008900
          ],
          [
           1210008800
          ],
          [
           1210000300
          ],
          [
           1220017800
          ],
          [
           1220014800
          ],
          [
           1220010800
          ],
          [
           1220010900
          ],
          [
           1220014900
          ],
          [
           1220017900
          ],
          [
           1220043900
          ],
          [
           1220043800
          ],
          [
           1210030400
          ],
          [
           1210030200
          ],
          [
           1210029000
          ],
          [
           1210028200
          ],
          [
           1210027200
          ],
          [
           1210026200
          ],
          [
           1210026300
          ],
          [
           1210027300
          ],
          [
           1210028300
          ],
          [
           1210029100
          ],
          [
           1210030300
          ],
          [
           1210030500
          ],
          [
           1210007500
          ],
          [
           1210007400
          ],
          [
           1220028800
          ],
          [
           1220028000
          ],
          [
           1220026800
          ],
          [
           1220026000
          ],
          [
           1220025200
          ],
          [
           1220024000
          ],
          [
           1220023300
          ],
          [
           1220023400
          ],
          [
           1220024100
          ],
          [
           1220025300
          ],
          [
           1220026100
          ],
          [
           1220026900
          ],
          [
           1220028100
          ],
          [
           1220028900
          ],
          [
           1220029500
          ],
          [
           1220028400
          ],
          [
           1220028500
          ],
          [
           1220032400
          ],
          [
           1220028700
          ],
          [
           1220030300
          ],
          [
           1220032500
          ],
          [
           1220033800
          ],
          [
           1220033200
          ],
          [
           1220032800
          ],
          [
           1220032000
          ],
          [
           1220031200
          ],
          [
           1220030400
          ],
          [
           1220030500
          ],
          [
           1220031300
          ],
          [
           1220032100
          ],
          [
           1220032900
          ],
          [
           1220033300
          ],
          [
           1220033900
          ],
          [
           1210006800
          ],
          [
           1210007100
          ],
          [
           1220006100
          ],
          [
           1210007000
          ],
          [
           1210006900
          ],
          [
           1210018200
          ],
          [
           1210017000
          ],
          [
           1210015800
          ],
          [
           1210014800
          ],
          [
           1210013800
          ],
          [
           1210013000
          ],
          [
           1210012200
          ],
          [
           1210012300
          ],
          [
           1210013100
          ],
          [
           1210013900
          ],
          [
           1210014900
          ],
          [
           1210015900
          ],
          [
           1210017100
          ],
          [
           1210018300
          ]
         ],
         "hovertemplate": "latitude=%{lat}<br>longitude=%{lon}<br>sensor_id=%{customdata[0]}<extra></extra>",
         "lat": [
          37.4657287,
          37.46866596,
          37.46975889,
          37.47375095,
          37.47567232,
          37.47814585,
          37.48458373,
          37.48956871,
          37.49306675,
          37.49799729,
          37.50452973,
          37.51114129,
          37.51614723,
          37.5210197,
          37.52379377,
          37.52379377,
          37.52099711,
          37.51614723,
          37.51114129,
          37.50452973,
          37.49799729,
          37.49306675,
          37.48956871,
          37.48458373,
          37.47814585,
          37.47567232,
          37.47375095,
          37.46975889,
          37.46866596,
          37.49349975,
          37.49371742,
          37.49263131,
          37.49148301,
          37.48962324,
          37.48919154,
          37.48481141,
          37.48113548,
          37.4782324,
          37.48113548,
          37.48481141,
          37.48919154,
          37.48962324,
          37.49148301,
          37.49263131,
          37.49371742,
          37.458135,
          37.48617264,
          37.48323659,
          37.48730681,
          37.48730681,
          37.48323659,
          37.51614723,
          37.51529913,
          37.51710318,
          37.51529913,
          37.47576444,
          37.47507867,
          37.4775673,
          37.4806119,
          37.48211421,
          37.48309741,
          37.4837533,
          37.48392445,
          37.48458373,
          37.48551929,
          37.48629073,
          37.48838931,
          37.49089235,
          37.49446671,
          37.49644459,
          37.49940958,
          37.49812512,
          37.49589915,
          37.49245916,
          37.49589915,
          37.49812512,
          37.49940958,
          37.49644459,
          37.49446671,
          37.49089235,
          37.48838931,
          37.48629073,
          37.48551929,
          37.48458373,
          37.48392445,
          37.4837533,
          37.48309741,
          37.48211421,
          37.4806119,
          37.4775673,
          37.47507867,
          37.47576444,
          37.53171896,
          37.52720999,
          37.51970002,
          37.51398114,
          37.50729686,
          37.50080954,
          37.49583952,
          37.49239543,
          37.48551929,
          37.48191891,
          37.48041773,
          37.4782324,
          37.47367011,
          37.47151985,
          37.47367011,
          37.4782324,
          37.48041773,
          37.48191891,
          37.48551929,
          37.49239543,
          37.49583952,
          37.50080954,
          37.50729686,
          37.51398114,
          37.51970002,
          37.52720999,
          37.53171896,
          37.48956871,
          37.49057492,
          37.49239543,
          37.49417364,
          37.49625735,
          37.49883697,
          37.50094972,
          37.50094972,
          37.49883697,
          37.49625735,
          37.49417364,
          37.49239543,
          37.49057492,
          37.52512357,
          37.52428102,
          37.52325509,
          37.5216031,
          37.51970002,
          37.51614723,
          37.51970002,
          37.5216031,
          37.52325509,
          37.52428102,
          37.48539201,
          37.49088778,
          37.49985676,
          37.50485741,
          37.50485741,
          37.49985676,
          37.49088778,
          37.48539201,
          37.47375095,
          37.4782324,
          37.4775673,
          37.4827813,
          37.49084711,
          37.4827813,
          37.47310862,
          37.47375016,
          37.47814585,
          37.48191891,
          37.47814585,
          37.47375016,
          37.4806119,
          37.48412361,
          37.48703422,
          37.49188691,
          37.50217512,
          37.50500770000001,
          37.51009851,
          37.51009851,
          37.50500770000001,
          37.50217512,
          37.49188691,
          37.48703422,
          37.48412361,
          37.46224025,
          37.46473507,
          37.48730681,
          37.49245916,
          37.48730681,
          37.46473507,
          37.47507867,
          37.48151779,
          37.48770938,
          37.49286488,
          37.49831213,
          37.49286488,
          37.48770938,
          37.48151779,
          37.51547905,
          37.51430359,
          37.5131059,
          37.51033061,
          37.50875832,
          37.50729686,
          37.50452973,
          37.50729686,
          37.50875832,
          37.51033061,
          37.5131059,
          37.51430359,
          37.51547905,
          37.48539201,
          37.49306675,
          37.49207005,
          37.48843298,
          37.48703422,
          37.48843298,
          37.49207005,
          37.49985676,
          37.49831213,
          37.49987512,
          37.50217512,
          37.50471441,
          37.50297473,
          37.5034321,
          37.50452973,
          37.5034321,
          37.50297473,
          37.50471441,
          37.50217512,
          37.49987512,
          37.49831213,
          37.52428102,
          37.51882231,
          37.5131059,
          37.50684574,
          37.50310451,
          37.49883697,
          37.49446671,
          37.49152399,
          37.48919154,
          37.48612271,
          37.48258555,
          37.48612271,
          37.48919154,
          37.49152399,
          37.49446671,
          37.49883697,
          37.50310451,
          37.50684574,
          37.5131059,
          37.51882231,
          37.49940958,
          37.5034321,
          37.49691463,
          37.49207005,
          37.48851336,
          37.48392445,
          37.48851336,
          37.49207005,
          37.49691463,
          37.48539201,
          37.48641886,
          37.48770938,
          37.49084711,
          37.49188691,
          37.49365877,
          37.49691463,
          37.49799729,
          37.49691463,
          37.49365877,
          37.49188691,
          37.48945535,
          37.48770938,
          37.48641886,
          37.48211421,
          37.48505781,
          37.48843298,
          37.49365877,
          37.50255311,
          37.50471441,
          37.50255311,
          37.49365877,
          37.48843298,
          37.48505781,
          37.53060055,
          37.52786497,
          37.52325509,
          37.51719999,
          37.51033061,
          37.50450739,
          37.50054265,
          37.49625735,
          37.49089235,
          37.48707353,
          37.48481141,
          37.48192598,
          37.47927189,
          37.48192598,
          37.48481141,
          37.48707353,
          37.49089235,
          37.49625735,
          37.50054265,
          37.50450739,
          37.51033061,
          37.51719999,
          37.52325509,
          37.52786497,
          37.51114129,
          37.50922682,
          37.50825622,
          37.50747405,
          37.50610097,
          37.50500770000001,
          37.501313,
          37.49985676,
          37.501313,
          37.50500770000001,
          37.50610097,
          37.50747405,
          37.50825622,
          37.50922682,
          37.52428102,
          37.52786497,
          37.52923331,
          37.52720999,
          37.52246256,
          37.52720999,
          37.52923331,
          37.52786497,
          37.4602024,
          37.45987161,
          37.46157858,
          37.46205121,
          37.46489851,
          37.4657287,
          37.47151985,
          37.47595972,
          37.47927189,
          37.48258555,
          37.48617264,
          37.48874337,
          37.49067125,
          37.49245916,
          37.49245916,
          37.49067125,
          37.48874337,
          37.48617264,
          37.48258555,
          37.47927189,
          37.47595972,
          37.47151985,
          37.4657287,
          37.46489851,
          37.46205121,
          37.46157858,
          37.45987161,
          37.49067125,
          37.49349975,
          37.47310862,
          37.47567232,
          37.48041773,
          37.48321721,
          37.48628122,
          37.49012412,
          37.49429372,
          37.49152399,
          37.49012412,
          37.48628122,
          37.48321721,
          37.48041773,
          37.47567232,
          37.53294297,
          37.52923331,
          37.5216031,
          37.51542568,
          37.50875832,
          37.50258441,
          37.49850896,
          37.49417364,
          37.48838931,
          37.48453166,
          37.48113548,
          37.47595972,
          37.45852195,
          37.44217685,
          37.45852195,
          37.47595972,
          37.48113548,
          37.48453166,
          37.48838931,
          37.49417364,
          37.49850896,
          37.50258441,
          37.50875832,
          37.51542568,
          37.5216031,
          37.52923331,
          37.53294297,
          37.49306675,
          37.49403804,
          37.49583952,
          37.49850896,
          37.50054265,
          37.50310451,
          37.50517808,
          37.50706017,
          37.50517808,
          37.50310451,
          37.50054265,
          37.49850896,
          37.49583952,
          37.49403804,
          37.52657958,
          37.52512357,
          37.52005108,
          37.51430359,
          37.50884721,
          37.50517808,
          37.50094972,
          37.49644459,
          37.49429372,
          37.49148301,
          37.48875982,
          37.48617264,
          37.48875982,
          37.49148301,
          37.49429372,
          37.49644459,
          37.50094972,
          37.50517808,
          37.50884721,
          37.51430359,
          37.52005108,
          37.52512357,
          37.52657958,
          37.45626114,
          37.46027425,
          37.4806119,
          37.4602356,
          37.49371742,
          37.49101651,
          37.48874337,
          37.48323659,
          37.48874337,
          37.49101651,
          37.47880147,
          37.47550401,
          37.52246256,
          37.5210981,
          37.51710318,
          37.51280058,
          37.51078565,
          37.50747405,
          37.50471441,
          37.50747405,
          37.51078565,
          37.51280058,
          37.51710318,
          37.5210981,
          37.4602024,
          37.47310862,
          37.50995504,
          37.50884721,
          37.50684574,
          37.50450739,
          37.50258441,
          37.50080954,
          37.49906153,
          37.49799729,
          37.49906153,
          37.50080954,
          37.50258441,
          37.50450739,
          37.50684574,
          37.50884721,
          37.50995504,
          37.50995504,
          37.50706017,
          37.51812946,
          37.50706017,
          37.51006239,
          37.51547905,
          37.52114452,
          37.52005108,
          37.51882231,
          37.51719999,
          37.51542568,
          37.51398114,
          37.51114129,
          37.51398114,
          37.51542568,
          37.51719999,
          37.51882231,
          37.52005108,
          37.4657287,
          37.45852195,
          37.46473507,
          37.46473507,
          37.45852195,
          37.48956871,
          37.48851336,
          37.48505781,
          37.48412361,
          37.4827813,
          37.48151779,
          37.48024846,
          37.47576444,
          37.48024846,
          37.48151779,
          37.4827813,
          37.48412361,
          37.48505781,
          37.48851336
         ],
         "legendgroup": "",
         "lon": [
          127.0430491,
          127.0399013,
          127.0391822,
          127.0387301,
          127.0387276,
          127.038727,
          127.0341011,
          127.0316791,
          127.0300431,
          127.0276731,
          127.0245504,
          127.0214022,
          127.0196126,
          127.0181112,
          127.0161511,
          127.0161511,
          127.01797859999998,
          127.0196126,
          127.0214022,
          127.0245504,
          127.0276731,
          127.0300431,
          127.0316791,
          127.0341011,
          127.038727,
          127.0387276,
          127.0387301,
          127.0391822,
          127.0399013,
          127.0869682,
          127.0795193,
          127.0761971,
          127.0726951,
          127.0690384,
          127.0660169,
          127.0579559,
          127.0537429,
          127.04461299999998,
          127.0537429,
          127.0579559,
          127.0660169,
          127.0690384,
          127.0726951,
          127.0761971,
          127.0795193,
          126.9886182,
          127.0754739,
          127.0838643,
          127.10170990000002,
          127.10170990000002,
          127.0838643,
          127.0196126,
          127.0138143,
          127.010403,
          127.0138143,
          126.9859936,
          127.0018832,
          127.0070221,
          127.0131383,
          127.0181036,
          127.0237981,
          127.0285853,
          127.0298642,
          127.0341011,
          127.0413748,
          127.045451,
          127.0499027,
          127.0554473,
          127.0632736,
          127.069924,
          127.0800187,
          127.084159,
          127.0908634,
          127.0972142,
          127.0908634,
          127.084159,
          127.0800187,
          127.069924,
          127.0632736,
          127.0554473,
          127.0499027,
          127.045451,
          127.0413748,
          127.0341011,
          127.0298642,
          127.0285853,
          127.0237981,
          127.0181036,
          127.0131383,
          127.0070221,
          127.0018832,
          126.9859936,
          127.0240855,
          127.0283788,
          127.028039,
          127.0306894,
          127.0338119,
          127.0368404,
          127.0391892,
          127.0408225,
          127.0413748,
          127.0428854,
          127.0435521,
          127.04461299999998,
          127.0486737,
          127.0510665,
          127.0486737,
          127.04461299999998,
          127.0435521,
          127.0428854,
          127.0413748,
          127.0408225,
          127.0391892,
          127.0368404,
          127.0338119,
          127.0306894,
          127.028039,
          127.0283788,
          127.0240855,
          127.0316791,
          127.0350997,
          127.0408225,
          127.0467485,
          127.052918,
          127.0609329,
          127.0674758,
          127.0674758,
          127.0609329,
          127.052918,
          127.0467485,
          127.0408225,
          127.0350997,
          127.0545077,
          127.0473196,
          127.0391209,
          127.0337983,
          127.028039,
          127.0196126,
          127.028039,
          127.0337983,
          127.0391209,
          127.0473196,
          126.9821904,
          126.9826916,
          126.9850693,
          126.98041840000002,
          126.98041840000002,
          126.9850693,
          126.9826916,
          126.9821904,
          127.0387301,
          127.04461299999998,
          127.0070221,
          127.00453,
          127.00424850000002,
          127.00453,
          127.0296885,
          127.0307506,
          127.038727,
          127.0428854,
          127.038727,
          127.0307506,
          127.0131383,
          127.0114969,
          127.0101133,
          127.0077513,
          127.0035147,
          127.0011479,
          126.9987366,
          126.9987366,
          127.0011479,
          127.0035147,
          127.0077513,
          127.0101133,
          127.0114969,
          127.1079978,
          127.1083576,
          127.10170990000002,
          127.0972142,
          127.10170990000002,
          127.1083576,
          127.0018832,
          126.9977019,
          126.9936877,
          126.9905015,
          126.9870671,
          126.9905015,
          126.9936877,
          126.9977019,
          127.0665604,
          127.0602011,
          127.0532882,
          127.0438316,
          127.0384636,
          127.0338119,
          127.0245504,
          127.0338119,
          127.0384636,
          127.0438316,
          127.0532882,
          127.0602011,
          127.0665604,
          126.9821904,
          127.0300431,
          127.0265594,
          127.0145943,
          127.0101133,
          127.0145943,
          127.0265594,
          126.9850693,
          126.9870671,
          126.9980012,
          127.0035147,
          127.0103955,
          127.0185602,
          127.0211189,
          127.0245504,
          127.0211189,
          127.0185602,
          127.0103955,
          127.0035147,
          126.9980012,
          126.9870671,
          127.0473196,
          127.0501615,
          127.0532882,
          127.0565295,
          127.05858,
          127.0609329,
          127.0632736,
          127.0647094,
          127.0660169,
          127.0674839,
          127.070307,
          127.0674839,
          127.0660169,
          127.0647094,
          127.0632736,
          127.0609329,
          127.05858,
          127.0565295,
          127.0532882,
          127.0501615,
          127.0800187,
          127.0211189,
          127.0241533,
          127.0265594,
          127.0281898,
          127.0298642,
          127.0281898,
          127.0265594,
          127.0241533,
          126.9821904,
          126.9896229,
          126.9936877,
          127.00424850000002,
          127.0077513,
          127.0137188,
          127.0241533,
          127.0276731,
          127.0241533,
          127.0137188,
          127.0077513,
          126.9993345,
          126.9936877,
          126.9896229,
          127.0181036,
          127.0163382,
          127.0145943,
          127.0137188,
          127.0116377,
          127.0103955,
          127.0116377,
          127.0137188,
          127.0145943,
          127.0163382,
          127.041578,
          127.04064,
          127.0391209,
          127.0412033,
          127.0438316,
          127.0489185,
          127.0507941,
          127.052918,
          127.0554473,
          127.0565699,
          127.0579559,
          127.0614202,
          127.064797,
          127.0614202,
          127.0579559,
          127.0565699,
          127.0554473,
          127.052918,
          127.0507941,
          127.0489185,
          127.0438316,
          127.0412033,
          127.0391209,
          127.04064,
          127.0214022,
          127.0149336,
          127.011695,
          127.0089652,
          127.0043713,
          127.0011479,
          126.9866412,
          126.9850693,
          126.9866412,
          127.0011479,
          127.0043713,
          127.0089652,
          127.011695,
          127.0149336,
          127.0473196,
          127.04064,
          127.0337711,
          127.0283788,
          127.0192354,
          127.0283788,
          127.0337711,
          127.04064,
          127.020255,
          127.0326977,
          127.0372939,
          127.03795990000002,
          127.0420018,
          127.0430491,
          127.0510665,
          127.0588154,
          127.064797,
          127.070307,
          127.0754739,
          127.0818489,
          127.0883331,
          127.0972142,
          127.0972142,
          127.0883331,
          127.0818489,
          127.0754739,
          127.070307,
          127.064797,
          127.0588154,
          127.0510665,
          127.0430491,
          127.0420018,
          127.03795990000002,
          127.0372939,
          127.0326977,
          127.0883331,
          127.0869682,
          127.0296885,
          127.0387276,
          127.0435521,
          127.0476891,
          127.0528269,
          127.06182340000002,
          127.0711306,
          127.0647094,
          127.06182340000002,
          127.0528269,
          127.0476891,
          127.0435521,
          127.0387276,
          127.0342523,
          127.0337711,
          127.0337983,
          127.0352981,
          127.0384636,
          127.0427035,
          127.0446588,
          127.0467485,
          127.0499027,
          127.0518574,
          127.0537429,
          127.0588154,
          127.0752088,
          127.0763167,
          127.0752088,
          127.0588154,
          127.0537429,
          127.0518574,
          127.0499027,
          127.0467485,
          127.0446588,
          127.0427035,
          127.0384636,
          127.0352981,
          127.0337983,
          127.0337711,
          127.0342523,
          127.0300431,
          127.0334272,
          127.0391892,
          127.0446588,
          127.0507941,
          127.05858,
          127.0651583,
          127.0674063,
          127.0651583,
          127.05858,
          127.0507941,
          127.0446588,
          127.0391892,
          127.0334272,
          127.0551071,
          127.0545077,
          127.0569889,
          127.0602011,
          127.0630996,
          127.0651583,
          127.0674758,
          127.069924,
          127.0711306,
          127.0726951,
          127.074107,
          127.0754739,
          127.074107,
          127.0726951,
          127.0711306,
          127.069924,
          127.0674758,
          127.0651583,
          127.0630996,
          127.0602011,
          127.0569889,
          127.0545077,
          127.0551071,
          127.0208983,
          127.0203023,
          127.0131383,
          127.0201757,
          127.0795193,
          127.0807105,
          127.0818489,
          127.0838643,
          127.0818489,
          127.0807105,
          127.1154942,
          127.1063186,
          127.0192354,
          127.0162439,
          127.010403,
          127.0059847,
          127.0070457,
          127.0089652,
          127.0103955,
          127.0089652,
          127.0070457,
          127.0059847,
          127.010403,
          127.0162439,
          127.020255,
          127.0296885,
          127.06640159999998,
          127.0630996,
          127.0565295,
          127.0489185,
          127.0427035,
          127.0368404,
          127.0310081,
          127.0276731,
          127.0310081,
          127.0368404,
          127.0427035,
          127.0489185,
          127.0565295,
          127.0630996,
          127.06640159999998,
          127.06640159999998,
          127.0674063,
          127.06528459999998,
          127.0674063,
          127.0673844,
          127.0665604,
          127.0599871,
          127.0569889,
          127.0501615,
          127.0412033,
          127.0352981,
          127.0306894,
          127.0214022,
          127.0306894,
          127.0352981,
          127.0412033,
          127.0501615,
          127.0569889,
          127.0430491,
          127.0752088,
          127.1083576,
          127.1083576,
          127.0752088,
          127.0316791,
          127.0281898,
          127.0163382,
          127.0114969,
          127.00453,
          126.9977019,
          126.9936038,
          126.9859936,
          126.9936038,
          126.9977019,
          127.00453,
          127.0114969,
          127.0163382,
          127.0281898
         ],
         "marker": {
          "color": "#636efa"
         },
         "mode": "markers",
         "name": "",
         "showlegend": false,
         "subplot": "mapbox",
         "type": "scattermapbox"
        }
       ],
       "layout": {
        "legend": {
         "tracegroupgap": 0
        },
        "mapbox": {
         "center": {
          "lat": 37.49544816849806,
          "lon": 127.03931200019781
         },
         "domain": {
          "x": [
           0,
           1
          ],
          "y": [
           0,
           1
          ]
         },
         "style": "carto-positron",
         "zoom": 8
        },
        "margin": {
         "b": 0,
         "l": 0,
         "r": 0,
         "t": 0
        },
        "template": {
         "data": {
          "bar": [
           {
            "error_x": {
             "color": "#2a3f5f"
            },
            "error_y": {
             "color": "#2a3f5f"
            },
            "marker": {
             "line": {
              "color": "#E5ECF6",
              "width": 0.5
             },
             "pattern": {
              "fillmode": "overlay",
              "size": 10,
              "solidity": 0.2
             }
            },
            "type": "bar"
           }
          ],
          "barpolar": [
           {
            "marker": {
             "line": {
              "color": "#E5ECF6",
              "width": 0.5
             },
             "pattern": {
              "fillmode": "overlay",
              "size": 10,
              "solidity": 0.2
             }
            },
            "type": "barpolar"
           }
          ],
          "carpet": [
           {
            "aaxis": {
             "endlinecolor": "#2a3f5f",
             "gridcolor": "white",
             "linecolor": "white",
             "minorgridcolor": "white",
             "startlinecolor": "#2a3f5f"
            },
            "baxis": {
             "endlinecolor": "#2a3f5f",
             "gridcolor": "white",
             "linecolor": "white",
             "minorgridcolor": "white",
             "startlinecolor": "#2a3f5f"
            },
            "type": "carpet"
           }
          ],
          "choropleth": [
           {
            "colorbar": {
             "outlinewidth": 0,
             "ticks": ""
            },
            "type": "choropleth"
           }
          ],
          "contour": [
           {
            "colorbar": {
             "outlinewidth": 0,
             "ticks": ""
            },
            "colorscale": [
             [
              0,
              "#0d0887"
             ],
             [
              0.1111111111111111,
              "#46039f"
             ],
             [
              0.2222222222222222,
              "#7201a8"
             ],
             [
              0.3333333333333333,
              "#9c179e"
             ],
             [
              0.4444444444444444,
              "#bd3786"
             ],
             [
              0.5555555555555556,
              "#d8576b"
             ],
             [
              0.6666666666666666,
              "#ed7953"
             ],
             [
              0.7777777777777778,
              "#fb9f3a"
             ],
             [
              0.8888888888888888,
              "#fdca26"
             ],
             [
              1,
              "#f0f921"
             ]
            ],
            "type": "contour"
           }
          ],
          "contourcarpet": [
           {
            "colorbar": {
             "outlinewidth": 0,
             "ticks": ""
            },
            "type": "contourcarpet"
           }
          ],
          "heatmap": [
           {
            "colorbar": {
             "outlinewidth": 0,
             "ticks": ""
            },
            "colorscale": [
             [
              0,
              "#0d0887"
             ],
             [
              0.1111111111111111,
              "#46039f"
             ],
             [
              0.2222222222222222,
              "#7201a8"
             ],
             [
              0.3333333333333333,
              "#9c179e"
             ],
             [
              0.4444444444444444,
              "#bd3786"
             ],
             [
              0.5555555555555556,
              "#d8576b"
             ],
             [
              0.6666666666666666,
              "#ed7953"
             ],
             [
              0.7777777777777778,
              "#fb9f3a"
             ],
             [
              0.8888888888888888,
              "#fdca26"
             ],
             [
              1,
              "#f0f921"
             ]
            ],
            "type": "heatmap"
           }
          ],
          "heatmapgl": [
           {
            "colorbar": {
             "outlinewidth": 0,
             "ticks": ""
            },
            "colorscale": [
             [
              0,
              "#0d0887"
             ],
             [
              0.1111111111111111,
              "#46039f"
             ],
             [
              0.2222222222222222,
              "#7201a8"
             ],
             [
              0.3333333333333333,
              "#9c179e"
             ],
             [
              0.4444444444444444,
              "#bd3786"
             ],
             [
              0.5555555555555556,
              "#d8576b"
             ],
             [
              0.6666666666666666,
              "#ed7953"
             ],
             [
              0.7777777777777778,
              "#fb9f3a"
             ],
             [
              0.8888888888888888,
              "#fdca26"
             ],
             [
              1,
              "#f0f921"
             ]
            ],
            "type": "heatmapgl"
           }
          ],
          "histogram": [
           {
            "marker": {
             "pattern": {
              "fillmode": "overlay",
              "size": 10,
              "solidity": 0.2
             }
            },
            "type": "histogram"
           }
          ],
          "histogram2d": [
           {
            "colorbar": {
             "outlinewidth": 0,
             "ticks": ""
            },
            "colorscale": [
             [
              0,
              "#0d0887"
             ],
             [
              0.1111111111111111,
              "#46039f"
             ],
             [
              0.2222222222222222,
              "#7201a8"
             ],
             [
              0.3333333333333333,
              "#9c179e"
             ],
             [
              0.4444444444444444,
              "#bd3786"
             ],
             [
              0.5555555555555556,
              "#d8576b"
             ],
             [
              0.6666666666666666,
              "#ed7953"
             ],
             [
              0.7777777777777778,
              "#fb9f3a"
             ],
             [
              0.8888888888888888,
              "#fdca26"
             ],
             [
              1,
              "#f0f921"
             ]
            ],
            "type": "histogram2d"
           }
          ],
          "histogram2dcontour": [
           {
            "colorbar": {
             "outlinewidth": 0,
             "ticks": ""
            },
            "colorscale": [
             [
              0,
              "#0d0887"
             ],
             [
              0.1111111111111111,
              "#46039f"
             ],
             [
              0.2222222222222222,
              "#7201a8"
             ],
             [
              0.3333333333333333,
              "#9c179e"
             ],
             [
              0.4444444444444444,
              "#bd3786"
             ],
             [
              0.5555555555555556,
              "#d8576b"
             ],
             [
              0.6666666666666666,
              "#ed7953"
             ],
             [
              0.7777777777777778,
              "#fb9f3a"
             ],
             [
              0.8888888888888888,
              "#fdca26"
             ],
             [
              1,
              "#f0f921"
             ]
            ],
            "type": "histogram2dcontour"
           }
          ],
          "mesh3d": [
           {
            "colorbar": {
             "outlinewidth": 0,
             "ticks": ""
            },
            "type": "mesh3d"
           }
          ],
          "parcoords": [
           {
            "line": {
             "colorbar": {
              "outlinewidth": 0,
              "ticks": ""
             }
            },
            "type": "parcoords"
           }
          ],
          "pie": [
           {
            "automargin": true,
            "type": "pie"
           }
          ],
          "scatter": [
           {
            "fillpattern": {
             "fillmode": "overlay",
             "size": 10,
             "solidity": 0.2
            },
            "type": "scatter"
           }
          ],
          "scatter3d": [
           {
            "line": {
             "colorbar": {
              "outlinewidth": 0,
              "ticks": ""
             }
            },
            "marker": {
             "colorbar": {
              "outlinewidth": 0,
              "ticks": ""
             }
            },
            "type": "scatter3d"
           }
          ],
          "scattercarpet": [
           {
            "marker": {
             "colorbar": {
              "outlinewidth": 0,
              "ticks": ""
             }
            },
            "type": "scattercarpet"
           }
          ],
          "scattergeo": [
           {
            "marker": {
             "colorbar": {
              "outlinewidth": 0,
              "ticks": ""
             }
            },
            "type": "scattergeo"
           }
          ],
          "scattergl": [
           {
            "marker": {
             "colorbar": {
              "outlinewidth": 0,
              "ticks": ""
             }
            },
            "type": "scattergl"
           }
          ],
          "scattermapbox": [
           {
            "marker": {
             "colorbar": {
              "outlinewidth": 0,
              "ticks": ""
             }
            },
            "type": "scattermapbox"
           }
          ],
          "scatterpolar": [
           {
            "marker": {
             "colorbar": {
              "outlinewidth": 0,
              "ticks": ""
             }
            },
            "type": "scatterpolar"
           }
          ],
          "scatterpolargl": [
           {
            "marker": {
             "colorbar": {
              "outlinewidth": 0,
              "ticks": ""
             }
            },
            "type": "scatterpolargl"
           }
          ],
          "scatterternary": [
           {
            "marker": {
             "colorbar": {
              "outlinewidth": 0,
              "ticks": ""
             }
            },
            "type": "scatterternary"
           }
          ],
          "surface": [
           {
            "colorbar": {
             "outlinewidth": 0,
             "ticks": ""
            },
            "colorscale": [
             [
              0,
              "#0d0887"
             ],
             [
              0.1111111111111111,
              "#46039f"
             ],
             [
              0.2222222222222222,
              "#7201a8"
             ],
             [
              0.3333333333333333,
              "#9c179e"
             ],
             [
              0.4444444444444444,
              "#bd3786"
             ],
             [
              0.5555555555555556,
              "#d8576b"
             ],
             [
              0.6666666666666666,
              "#ed7953"
             ],
             [
              0.7777777777777778,
              "#fb9f3a"
             ],
             [
              0.8888888888888888,
              "#fdca26"
             ],
             [
              1,
              "#f0f921"
             ]
            ],
            "type": "surface"
           }
          ],
          "table": [
           {
            "cells": {
             "fill": {
              "color": "#EBF0F8"
             },
             "line": {
              "color": "white"
             }
            },
            "header": {
             "fill": {
              "color": "#C8D4E3"
             },
             "line": {
              "color": "white"
             }
            },
            "type": "table"
           }
          ]
         },
         "layout": {
          "annotationdefaults": {
           "arrowcolor": "#2a3f5f",
           "arrowhead": 0,
           "arrowwidth": 1
          },
          "autotypenumbers": "strict",
          "coloraxis": {
           "colorbar": {
            "outlinewidth": 0,
            "ticks": ""
           }
          },
          "colorscale": {
           "diverging": [
            [
             0,
             "#8e0152"
            ],
            [
             0.1,
             "#c51b7d"
            ],
            [
             0.2,
             "#de77ae"
            ],
            [
             0.3,
             "#f1b6da"
            ],
            [
             0.4,
             "#fde0ef"
            ],
            [
             0.5,
             "#f7f7f7"
            ],
            [
             0.6,
             "#e6f5d0"
            ],
            [
             0.7,
             "#b8e186"
            ],
            [
             0.8,
             "#7fbc41"
            ],
            [
             0.9,
             "#4d9221"
            ],
            [
             1,
             "#276419"
            ]
           ],
           "sequential": [
            [
             0,
             "#0d0887"
            ],
            [
             0.1111111111111111,
             "#46039f"
            ],
            [
             0.2222222222222222,
             "#7201a8"
            ],
            [
             0.3333333333333333,
             "#9c179e"
            ],
            [
             0.4444444444444444,
             "#bd3786"
            ],
            [
             0.5555555555555556,
             "#d8576b"
            ],
            [
             0.6666666666666666,
             "#ed7953"
            ],
            [
             0.7777777777777778,
             "#fb9f3a"
            ],
            [
             0.8888888888888888,
             "#fdca26"
            ],
            [
             1,
             "#f0f921"
            ]
           ],
           "sequentialminus": [
            [
             0,
             "#0d0887"
            ],
            [
             0.1111111111111111,
             "#46039f"
            ],
            [
             0.2222222222222222,
             "#7201a8"
            ],
            [
             0.3333333333333333,
             "#9c179e"
            ],
            [
             0.4444444444444444,
             "#bd3786"
            ],
            [
             0.5555555555555556,
             "#d8576b"
            ],
            [
             0.6666666666666666,
             "#ed7953"
            ],
            [
             0.7777777777777778,
             "#fb9f3a"
            ],
            [
             0.8888888888888888,
             "#fdca26"
            ],
            [
             1,
             "#f0f921"
            ]
           ]
          },
          "colorway": [
           "#636efa",
           "#EF553B",
           "#00cc96",
           "#ab63fa",
           "#FFA15A",
           "#19d3f3",
           "#FF6692",
           "#B6E880",
           "#FF97FF",
           "#FECB52"
          ],
          "font": {
           "color": "#2a3f5f"
          },
          "geo": {
           "bgcolor": "white",
           "lakecolor": "white",
           "landcolor": "#E5ECF6",
           "showlakes": true,
           "showland": true,
           "subunitcolor": "white"
          },
          "hoverlabel": {
           "align": "left"
          },
          "hovermode": "closest",
          "mapbox": {
           "style": "light"
          },
          "paper_bgcolor": "white",
          "plot_bgcolor": "#E5ECF6",
          "polar": {
           "angularaxis": {
            "gridcolor": "white",
            "linecolor": "white",
            "ticks": ""
           },
           "bgcolor": "#E5ECF6",
           "radialaxis": {
            "gridcolor": "white",
            "linecolor": "white",
            "ticks": ""
           }
          },
          "scene": {
           "xaxis": {
            "backgroundcolor": "#E5ECF6",
            "gridcolor": "white",
            "gridwidth": 2,
            "linecolor": "white",
            "showbackground": true,
            "ticks": "",
            "zerolinecolor": "white"
           },
           "yaxis": {
            "backgroundcolor": "#E5ECF6",
            "gridcolor": "white",
            "gridwidth": 2,
            "linecolor": "white",
            "showbackground": true,
            "ticks": "",
            "zerolinecolor": "white"
           },
           "zaxis": {
            "backgroundcolor": "#E5ECF6",
            "gridcolor": "white",
            "gridwidth": 2,
            "linecolor": "white",
            "showbackground": true,
            "ticks": "",
            "zerolinecolor": "white"
           }
          },
          "shapedefaults": {
           "line": {
            "color": "#2a3f5f"
           }
          },
          "ternary": {
           "aaxis": {
            "gridcolor": "white",
            "linecolor": "white",
            "ticks": ""
           },
           "baxis": {
            "gridcolor": "white",
            "linecolor": "white",
            "ticks": ""
           },
           "bgcolor": "#E5ECF6",
           "caxis": {
            "gridcolor": "white",
            "linecolor": "white",
            "ticks": ""
           }
          },
          "title": {
           "x": 0.05
          },
          "xaxis": {
           "automargin": true,
           "gridcolor": "white",
           "linecolor": "white",
           "ticks": "",
           "title": {
            "standoff": 15
           },
           "zerolinecolor": "white",
           "zerolinewidth": 2
          },
          "yaxis": {
           "automargin": true,
           "gridcolor": "white",
           "linecolor": "white",
           "ticks": "",
           "title": {
            "standoff": 15
           },
           "zerolinecolor": "white",
           "zerolinewidth": 2
          }
         }
        }
       }
      },
      "text/html": [
       "<div>                            <div id=\"46f1be1f-cfd3-4126-89eb-d3f7693c8cf3\" class=\"plotly-graph-div\" style=\"height:525px; width:100%;\"></div>            <script type=\"text/javascript\">                require([\"plotly\"], function(Plotly) {                    window.PLOTLYENV=window.PLOTLYENV || {};                                    if (document.getElementById(\"46f1be1f-cfd3-4126-89eb-d3f7693c8cf3\")) {                    Plotly.newPlot(                        \"46f1be1f-cfd3-4126-89eb-d3f7693c8cf3\",                        [{\"customdata\":[[1210007700],[1210008500],[1210009500],[1210010300],[1210011300],[1210013700],[1220011900],[1220016300],[1220021100],[1220025100],[1220027900],[1220030700],[1210030100],[1210006300],[1210030700],[1210006200],[1210030000],[1220030600],[1220027800],[1220025000],[1220021000],[1220016200],[1220011800],[1210013600],[1210011200],[1210010200],[1210009400],[1210008400],[1210007600],[1220020500],[1220018600],[1220017200],[1220015600],[1220013600],[1220012000],[1220008200],[1220007000],[1220007100],[1220008300],[1220012100],[1220013700],[1220015700],[1220017300],[1220018700],[1220020400],[1210008100],[1220008000],[1220010100],[1220013300],[1220010000],[1220008100],[1210029400],[1210029700],[1210029600],[1210029500],[1210009800],[1210011100],[1210012500],[1210013500],[1210014300],[1210003500],[1210015200],[1210015500],[1220010300],[1220010700],[1220012500],[1220014300],[1220018500],[1220021300],[1220022800],[1220023500],[1220022000],[1220020200],[1220020300],[1220022100],[1220023600],[1220022700],[1220021200],[1220018400],[1220014200],[1220012400],[1220010600],[1220010200],[1210015400],[1210015300],[1210003800],[1210014200],[1210013400],[1210012400],[1210011000],[1210009900],[1210010900],[1220036600],[1220034400],[1220032200],[1220029600],[1220026200],[1220022900],[1220019800],[1220013400],[1220009000],[1220007600],[1220007200],[1220006400],[1220006200],[1220006300],[1220006500],[1220007300],[1220007700],[1220009100],[1220013500],[1220019900],[1220023000],[1220026300],[1220029700],[1220032300],[1220034500],[1220036700],[1220037100],[1220015500],[1220016700],[1220019100],[1220020900],[1220022600],[1220024300],[1220025700],[1220024200],[1220022500],[1220020800],[1220019000],[1220016600],[1220015400],[1220034800],[1220034600],[1220034200],[1220033600],[1220032600],[1220032700],[1220033700],[1220034300],[1220034700],[1220034900],[1210017700],[1210021700],[1210023500],[1210027900],[1210024000],[1210021600],[1210017600],[1210013200],[1210010700],[1210010600],[1210012900],[1210016900],[1210016800],[1210012800],[3201504500],[3201504100],[3201503900],[3201503800],[3201504000],[3201504400],[1210014100],[1210016100],[1210018500],[1210021900],[1210025100],[1210026700],[1210028900],[1210026600],[1210025000],[1210021800],[1210018400],[1210016000],[1210014000],[1220005900],[1220006700],[1220013900],[1220013800],[1220006600],[1220005800],[1210011900],[1210015700],[1210018900],[1210021300],[1210021200],[1210018800],[1210015600],[1210011800],[1220031400],[1220030800],[1220030000],[1220029000],[1220028200],[1220027200],[1220027300],[1220028300],[1220029100],[1220030100],[1220030900],[1220031500],[1220031700],[1210014500],[1210020000],[1210019000],[1210017400],[1210017500],[1210019100],[1210020100],[1210022800],[1210022700],[1210023700],[1210024900],[1210025800],[1210024500],[1210025500],[1210025400],[1210024400],[1210025900],[1210024800],[1210023600],[1210022600],[1210022900],[1220034000],[1220031800],[1220029200],[1220026600],[1220024800],[1220021800],[1220018200],[1220015000],[1220012600],[1220009400],[1220009500],[1220012700],[1220015100],[1220018300],[1220021900],[1220024900],[1220026700],[1220029300],[1220031900],[1220034100],[1220024500],[1210023000],[1210020800],[1210018600],[1210016400],[1210016500],[1210018700],[1210020900],[1210023100],[1210016300],[1210017300],[1210017900],[1210019700],[1210020300],[1210021100],[1210022300],[1210022200],[1210021000],[1210020200],[1210019600],[1210017800],[1210017200],[1210016200],[1210015100],[1210016700],[1210019500],[1210022500],[1210025300],[1210025200],[1210022400],[1210019400],[1210016600],[1210015000],[1220036400],[1220035400],[1220033400],[1220031000],[1220027600],[1220025800],[1220023100],[1220019200],[1220014000],[1220011000],[1220008600],[1220007400],[1220007500],[1220008700],[1220011100],[1220014100],[1220019300],[1220023200],[1220025900],[1220027700],[1220031100],[1220033500],[1220035500],[1220036500],[1210027600],[1210027000],[1210026800],[1210026400],[1210026000],[1210024200],[1210023200],[1210023300],[1210024300],[1210026100],[1210026500],[1210026900],[1210027100],[1210027700],[1220035900],[1220036300],[1220036000],[1220035000],[1220035100],[1220036100],[1220036200],[1220035800],[1210000500],[1210001000],[1210001200],[1210001800],[1210002600],[1210002800],[1220000200],[1220000400],[1220000600],[1220000800],[1220012900],[1220014500],[1220017100],[1220018900],[1220017000],[1220014400],[1220012800],[1220000700],[1220000500],[1220000300],[1220000100],[1210002700],[1210002500],[1210001700],[1210001100],[1210000900],[1210000600],[1220017500],[1220017400],[1210010100],[1210011500],[1220007900],[1220009900],[1220011700],[1220016900],[1220016800],[1220015200],[1220011600],[1220009800],[1220007800],[1210011400],[1210010000],[1220036800],[1220035200],[1220033000],[1220029800],[1220027400],[1220024600],[1220021400],[1220016000],[1220011400],[1220008400],[1220006800],[1210007800],[1210006600],[1210006700],[1210007900],[1220006900],[1220008500],[1220011500],[1220016100],[1220021500],[1220024700],[1220027500],[1220029900],[1220033100],[1220035300],[1220036900],[1220037300],[1220019500],[1220020700],[1220022300],[1220023900],[1220025500],[1220026500],[1220027100],[1220027000],[1220026400],[1220025400],[1220023800],[1220022200],[1220020600],[1220019400],[1220004800],[1220004200],[1220004000],[1220003300],[1220003100],[1220002700],[1220002200],[1220001900],[1220001500],[1220001100],[1220000900],[1220001000],[1220001200],[1220001600],[1220002000],[1220002300],[1220002800],[1220003200],[1220003400],[1220004100],[1220004300],[1220004900],[1220005300],[1210000400],[1210008900],[1210008800],[1210000300],[1220017800],[1220014800],[1220010800],[1220010900],[1220014900],[1220017900],[1220043900],[1220043800],[1210030400],[1210030200],[1210029000],[1210028200],[1210027200],[1210026200],[1210026300],[1210027300],[1210028300],[1210029100],[1210030300],[1210030500],[1210007500],[1210007400],[1220028800],[1220028000],[1220026800],[1220026000],[1220025200],[1220024000],[1220023300],[1220023400],[1220024100],[1220025300],[1220026100],[1220026900],[1220028100],[1220028900],[1220029500],[1220028400],[1220028500],[1220032400],[1220028700],[1220030300],[1220032500],[1220033800],[1220033200],[1220032800],[1220032000],[1220031200],[1220030400],[1220030500],[1220031300],[1220032100],[1220032900],[1220033300],[1220033900],[1210006800],[1210007100],[1220006100],[1210007000],[1210006900],[1210018200],[1210017000],[1210015800],[1210014800],[1210013800],[1210013000],[1210012200],[1210012300],[1210013100],[1210013900],[1210014900],[1210015900],[1210017100],[1210018300]],\"hovertemplate\":\"latitude=%{lat}<br>longitude=%{lon}<br>sensor_id=%{customdata[0]}<extra></extra>\",\"lat\":[37.4657287,37.46866596,37.46975889,37.47375095,37.47567232,37.47814585,37.48458373,37.48956871,37.49306675,37.49799729,37.50452973,37.51114129,37.51614723,37.5210197,37.52379377,37.52379377,37.52099711,37.51614723,37.51114129,37.50452973,37.49799729,37.49306675,37.48956871,37.48458373,37.47814585,37.47567232,37.47375095,37.46975889,37.46866596,37.49349975,37.49371742,37.49263131,37.49148301,37.48962324,37.48919154,37.48481141,37.48113548,37.4782324,37.48113548,37.48481141,37.48919154,37.48962324,37.49148301,37.49263131,37.49371742,37.458135,37.48617264,37.48323659,37.48730681,37.48730681,37.48323659,37.51614723,37.51529913,37.51710318,37.51529913,37.47576444,37.47507867,37.4775673,37.4806119,37.48211421,37.48309741,37.4837533,37.48392445,37.48458373,37.48551929,37.48629073,37.48838931,37.49089235,37.49446671,37.49644459,37.49940958,37.49812512,37.49589915,37.49245916,37.49589915,37.49812512,37.49940958,37.49644459,37.49446671,37.49089235,37.48838931,37.48629073,37.48551929,37.48458373,37.48392445,37.4837533,37.48309741,37.48211421,37.4806119,37.4775673,37.47507867,37.47576444,37.53171896,37.52720999,37.51970002,37.51398114,37.50729686,37.50080954,37.49583952,37.49239543,37.48551929,37.48191891,37.48041773,37.4782324,37.47367011,37.47151985,37.47367011,37.4782324,37.48041773,37.48191891,37.48551929,37.49239543,37.49583952,37.50080954,37.50729686,37.51398114,37.51970002,37.52720999,37.53171896,37.48956871,37.49057492,37.49239543,37.49417364,37.49625735,37.49883697,37.50094972,37.50094972,37.49883697,37.49625735,37.49417364,37.49239543,37.49057492,37.52512357,37.52428102,37.52325509,37.5216031,37.51970002,37.51614723,37.51970002,37.5216031,37.52325509,37.52428102,37.48539201,37.49088778,37.49985676,37.50485741,37.50485741,37.49985676,37.49088778,37.48539201,37.47375095,37.4782324,37.4775673,37.4827813,37.49084711,37.4827813,37.47310862,37.47375016,37.47814585,37.48191891,37.47814585,37.47375016,37.4806119,37.48412361,37.48703422,37.49188691,37.50217512,37.50500770000001,37.51009851,37.51009851,37.50500770000001,37.50217512,37.49188691,37.48703422,37.48412361,37.46224025,37.46473507,37.48730681,37.49245916,37.48730681,37.46473507,37.47507867,37.48151779,37.48770938,37.49286488,37.49831213,37.49286488,37.48770938,37.48151779,37.51547905,37.51430359,37.5131059,37.51033061,37.50875832,37.50729686,37.50452973,37.50729686,37.50875832,37.51033061,37.5131059,37.51430359,37.51547905,37.48539201,37.49306675,37.49207005,37.48843298,37.48703422,37.48843298,37.49207005,37.49985676,37.49831213,37.49987512,37.50217512,37.50471441,37.50297473,37.5034321,37.50452973,37.5034321,37.50297473,37.50471441,37.50217512,37.49987512,37.49831213,37.52428102,37.51882231,37.5131059,37.50684574,37.50310451,37.49883697,37.49446671,37.49152399,37.48919154,37.48612271,37.48258555,37.48612271,37.48919154,37.49152399,37.49446671,37.49883697,37.50310451,37.50684574,37.5131059,37.51882231,37.49940958,37.5034321,37.49691463,37.49207005,37.48851336,37.48392445,37.48851336,37.49207005,37.49691463,37.48539201,37.48641886,37.48770938,37.49084711,37.49188691,37.49365877,37.49691463,37.49799729,37.49691463,37.49365877,37.49188691,37.48945535,37.48770938,37.48641886,37.48211421,37.48505781,37.48843298,37.49365877,37.50255311,37.50471441,37.50255311,37.49365877,37.48843298,37.48505781,37.53060055,37.52786497,37.52325509,37.51719999,37.51033061,37.50450739,37.50054265,37.49625735,37.49089235,37.48707353,37.48481141,37.48192598,37.47927189,37.48192598,37.48481141,37.48707353,37.49089235,37.49625735,37.50054265,37.50450739,37.51033061,37.51719999,37.52325509,37.52786497,37.51114129,37.50922682,37.50825622,37.50747405,37.50610097,37.50500770000001,37.501313,37.49985676,37.501313,37.50500770000001,37.50610097,37.50747405,37.50825622,37.50922682,37.52428102,37.52786497,37.52923331,37.52720999,37.52246256,37.52720999,37.52923331,37.52786497,37.4602024,37.45987161,37.46157858,37.46205121,37.46489851,37.4657287,37.47151985,37.47595972,37.47927189,37.48258555,37.48617264,37.48874337,37.49067125,37.49245916,37.49245916,37.49067125,37.48874337,37.48617264,37.48258555,37.47927189,37.47595972,37.47151985,37.4657287,37.46489851,37.46205121,37.46157858,37.45987161,37.49067125,37.49349975,37.47310862,37.47567232,37.48041773,37.48321721,37.48628122,37.49012412,37.49429372,37.49152399,37.49012412,37.48628122,37.48321721,37.48041773,37.47567232,37.53294297,37.52923331,37.5216031,37.51542568,37.50875832,37.50258441,37.49850896,37.49417364,37.48838931,37.48453166,37.48113548,37.47595972,37.45852195,37.44217685,37.45852195,37.47595972,37.48113548,37.48453166,37.48838931,37.49417364,37.49850896,37.50258441,37.50875832,37.51542568,37.5216031,37.52923331,37.53294297,37.49306675,37.49403804,37.49583952,37.49850896,37.50054265,37.50310451,37.50517808,37.50706017,37.50517808,37.50310451,37.50054265,37.49850896,37.49583952,37.49403804,37.52657958,37.52512357,37.52005108,37.51430359,37.50884721,37.50517808,37.50094972,37.49644459,37.49429372,37.49148301,37.48875982,37.48617264,37.48875982,37.49148301,37.49429372,37.49644459,37.50094972,37.50517808,37.50884721,37.51430359,37.52005108,37.52512357,37.52657958,37.45626114,37.46027425,37.4806119,37.4602356,37.49371742,37.49101651,37.48874337,37.48323659,37.48874337,37.49101651,37.47880147,37.47550401,37.52246256,37.5210981,37.51710318,37.51280058,37.51078565,37.50747405,37.50471441,37.50747405,37.51078565,37.51280058,37.51710318,37.5210981,37.4602024,37.47310862,37.50995504,37.50884721,37.50684574,37.50450739,37.50258441,37.50080954,37.49906153,37.49799729,37.49906153,37.50080954,37.50258441,37.50450739,37.50684574,37.50884721,37.50995504,37.50995504,37.50706017,37.51812946,37.50706017,37.51006239,37.51547905,37.52114452,37.52005108,37.51882231,37.51719999,37.51542568,37.51398114,37.51114129,37.51398114,37.51542568,37.51719999,37.51882231,37.52005108,37.4657287,37.45852195,37.46473507,37.46473507,37.45852195,37.48956871,37.48851336,37.48505781,37.48412361,37.4827813,37.48151779,37.48024846,37.47576444,37.48024846,37.48151779,37.4827813,37.48412361,37.48505781,37.48851336],\"legendgroup\":\"\",\"lon\":[127.0430491,127.0399013,127.0391822,127.0387301,127.0387276,127.038727,127.0341011,127.0316791,127.0300431,127.0276731,127.0245504,127.0214022,127.0196126,127.0181112,127.0161511,127.0161511,127.01797859999998,127.0196126,127.0214022,127.0245504,127.0276731,127.0300431,127.0316791,127.0341011,127.038727,127.0387276,127.0387301,127.0391822,127.0399013,127.0869682,127.0795193,127.0761971,127.0726951,127.0690384,127.0660169,127.0579559,127.0537429,127.04461299999998,127.0537429,127.0579559,127.0660169,127.0690384,127.0726951,127.0761971,127.0795193,126.9886182,127.0754739,127.0838643,127.10170990000002,127.10170990000002,127.0838643,127.0196126,127.0138143,127.010403,127.0138143,126.9859936,127.0018832,127.0070221,127.0131383,127.0181036,127.0237981,127.0285853,127.0298642,127.0341011,127.0413748,127.045451,127.0499027,127.0554473,127.0632736,127.069924,127.0800187,127.084159,127.0908634,127.0972142,127.0908634,127.084159,127.0800187,127.069924,127.0632736,127.0554473,127.0499027,127.045451,127.0413748,127.0341011,127.0298642,127.0285853,127.0237981,127.0181036,127.0131383,127.0070221,127.0018832,126.9859936,127.0240855,127.0283788,127.028039,127.0306894,127.0338119,127.0368404,127.0391892,127.0408225,127.0413748,127.0428854,127.0435521,127.04461299999998,127.0486737,127.0510665,127.0486737,127.04461299999998,127.0435521,127.0428854,127.0413748,127.0408225,127.0391892,127.0368404,127.0338119,127.0306894,127.028039,127.0283788,127.0240855,127.0316791,127.0350997,127.0408225,127.0467485,127.052918,127.0609329,127.0674758,127.0674758,127.0609329,127.052918,127.0467485,127.0408225,127.0350997,127.0545077,127.0473196,127.0391209,127.0337983,127.028039,127.0196126,127.028039,127.0337983,127.0391209,127.0473196,126.9821904,126.9826916,126.9850693,126.98041840000002,126.98041840000002,126.9850693,126.9826916,126.9821904,127.0387301,127.04461299999998,127.0070221,127.00453,127.00424850000002,127.00453,127.0296885,127.0307506,127.038727,127.0428854,127.038727,127.0307506,127.0131383,127.0114969,127.0101133,127.0077513,127.0035147,127.0011479,126.9987366,126.9987366,127.0011479,127.0035147,127.0077513,127.0101133,127.0114969,127.1079978,127.1083576,127.10170990000002,127.0972142,127.10170990000002,127.1083576,127.0018832,126.9977019,126.9936877,126.9905015,126.9870671,126.9905015,126.9936877,126.9977019,127.0665604,127.0602011,127.0532882,127.0438316,127.0384636,127.0338119,127.0245504,127.0338119,127.0384636,127.0438316,127.0532882,127.0602011,127.0665604,126.9821904,127.0300431,127.0265594,127.0145943,127.0101133,127.0145943,127.0265594,126.9850693,126.9870671,126.9980012,127.0035147,127.0103955,127.0185602,127.0211189,127.0245504,127.0211189,127.0185602,127.0103955,127.0035147,126.9980012,126.9870671,127.0473196,127.0501615,127.0532882,127.0565295,127.05858,127.0609329,127.0632736,127.0647094,127.0660169,127.0674839,127.070307,127.0674839,127.0660169,127.0647094,127.0632736,127.0609329,127.05858,127.0565295,127.0532882,127.0501615,127.0800187,127.0211189,127.0241533,127.0265594,127.0281898,127.0298642,127.0281898,127.0265594,127.0241533,126.9821904,126.9896229,126.9936877,127.00424850000002,127.0077513,127.0137188,127.0241533,127.0276731,127.0241533,127.0137188,127.0077513,126.9993345,126.9936877,126.9896229,127.0181036,127.0163382,127.0145943,127.0137188,127.0116377,127.0103955,127.0116377,127.0137188,127.0145943,127.0163382,127.041578,127.04064,127.0391209,127.0412033,127.0438316,127.0489185,127.0507941,127.052918,127.0554473,127.0565699,127.0579559,127.0614202,127.064797,127.0614202,127.0579559,127.0565699,127.0554473,127.052918,127.0507941,127.0489185,127.0438316,127.0412033,127.0391209,127.04064,127.0214022,127.0149336,127.011695,127.0089652,127.0043713,127.0011479,126.9866412,126.9850693,126.9866412,127.0011479,127.0043713,127.0089652,127.011695,127.0149336,127.0473196,127.04064,127.0337711,127.0283788,127.0192354,127.0283788,127.0337711,127.04064,127.020255,127.0326977,127.0372939,127.03795990000002,127.0420018,127.0430491,127.0510665,127.0588154,127.064797,127.070307,127.0754739,127.0818489,127.0883331,127.0972142,127.0972142,127.0883331,127.0818489,127.0754739,127.070307,127.064797,127.0588154,127.0510665,127.0430491,127.0420018,127.03795990000002,127.0372939,127.0326977,127.0883331,127.0869682,127.0296885,127.0387276,127.0435521,127.0476891,127.0528269,127.06182340000002,127.0711306,127.0647094,127.06182340000002,127.0528269,127.0476891,127.0435521,127.0387276,127.0342523,127.0337711,127.0337983,127.0352981,127.0384636,127.0427035,127.0446588,127.0467485,127.0499027,127.0518574,127.0537429,127.0588154,127.0752088,127.0763167,127.0752088,127.0588154,127.0537429,127.0518574,127.0499027,127.0467485,127.0446588,127.0427035,127.0384636,127.0352981,127.0337983,127.0337711,127.0342523,127.0300431,127.0334272,127.0391892,127.0446588,127.0507941,127.05858,127.0651583,127.0674063,127.0651583,127.05858,127.0507941,127.0446588,127.0391892,127.0334272,127.0551071,127.0545077,127.0569889,127.0602011,127.0630996,127.0651583,127.0674758,127.069924,127.0711306,127.0726951,127.074107,127.0754739,127.074107,127.0726951,127.0711306,127.069924,127.0674758,127.0651583,127.0630996,127.0602011,127.0569889,127.0545077,127.0551071,127.0208983,127.0203023,127.0131383,127.0201757,127.0795193,127.0807105,127.0818489,127.0838643,127.0818489,127.0807105,127.1154942,127.1063186,127.0192354,127.0162439,127.010403,127.0059847,127.0070457,127.0089652,127.0103955,127.0089652,127.0070457,127.0059847,127.010403,127.0162439,127.020255,127.0296885,127.06640159999998,127.0630996,127.0565295,127.0489185,127.0427035,127.0368404,127.0310081,127.0276731,127.0310081,127.0368404,127.0427035,127.0489185,127.0565295,127.0630996,127.06640159999998,127.06640159999998,127.0674063,127.06528459999998,127.0674063,127.0673844,127.0665604,127.0599871,127.0569889,127.0501615,127.0412033,127.0352981,127.0306894,127.0214022,127.0306894,127.0352981,127.0412033,127.0501615,127.0569889,127.0430491,127.0752088,127.1083576,127.1083576,127.0752088,127.0316791,127.0281898,127.0163382,127.0114969,127.00453,126.9977019,126.9936038,126.9859936,126.9936038,126.9977019,127.00453,127.0114969,127.0163382,127.0281898],\"marker\":{\"color\":\"#636efa\"},\"mode\":\"markers\",\"name\":\"\",\"showlegend\":false,\"subplot\":\"mapbox\",\"type\":\"scattermapbox\"}],                        {\"template\":{\"data\":{\"histogram2dcontour\":[{\"type\":\"histogram2dcontour\",\"colorbar\":{\"outlinewidth\":0,\"ticks\":\"\"},\"colorscale\":[[0.0,\"#0d0887\"],[0.1111111111111111,\"#46039f\"],[0.2222222222222222,\"#7201a8\"],[0.3333333333333333,\"#9c179e\"],[0.4444444444444444,\"#bd3786\"],[0.5555555555555556,\"#d8576b\"],[0.6666666666666666,\"#ed7953\"],[0.7777777777777778,\"#fb9f3a\"],[0.8888888888888888,\"#fdca26\"],[1.0,\"#f0f921\"]]}],\"choropleth\":[{\"type\":\"choropleth\",\"colorbar\":{\"outlinewidth\":0,\"ticks\":\"\"}}],\"histogram2d\":[{\"type\":\"histogram2d\",\"colorbar\":{\"outlinewidth\":0,\"ticks\":\"\"},\"colorscale\":[[0.0,\"#0d0887\"],[0.1111111111111111,\"#46039f\"],[0.2222222222222222,\"#7201a8\"],[0.3333333333333333,\"#9c179e\"],[0.4444444444444444,\"#bd3786\"],[0.5555555555555556,\"#d8576b\"],[0.6666666666666666,\"#ed7953\"],[0.7777777777777778,\"#fb9f3a\"],[0.8888888888888888,\"#fdca26\"],[1.0,\"#f0f921\"]]}],\"heatmap\":[{\"type\":\"heatmap\",\"colorbar\":{\"outlinewidth\":0,\"ticks\":\"\"},\"colorscale\":[[0.0,\"#0d0887\"],[0.1111111111111111,\"#46039f\"],[0.2222222222222222,\"#7201a8\"],[0.3333333333333333,\"#9c179e\"],[0.4444444444444444,\"#bd3786\"],[0.5555555555555556,\"#d8576b\"],[0.6666666666666666,\"#ed7953\"],[0.7777777777777778,\"#fb9f3a\"],[0.8888888888888888,\"#fdca26\"],[1.0,\"#f0f921\"]]}],\"heatmapgl\":[{\"type\":\"heatmapgl\",\"colorbar\":{\"outlinewidth\":0,\"ticks\":\"\"},\"colorscale\":[[0.0,\"#0d0887\"],[0.1111111111111111,\"#46039f\"],[0.2222222222222222,\"#7201a8\"],[0.3333333333333333,\"#9c179e\"],[0.4444444444444444,\"#bd3786\"],[0.5555555555555556,\"#d8576b\"],[0.6666666666666666,\"#ed7953\"],[0.7777777777777778,\"#fb9f3a\"],[0.8888888888888888,\"#fdca26\"],[1.0,\"#f0f921\"]]}],\"contourcarpet\":[{\"type\":\"contourcarpet\",\"colorbar\":{\"outlinewidth\":0,\"ticks\":\"\"}}],\"contour\":[{\"type\":\"contour\",\"colorbar\":{\"outlinewidth\":0,\"ticks\":\"\"},\"colorscale\":[[0.0,\"#0d0887\"],[0.1111111111111111,\"#46039f\"],[0.2222222222222222,\"#7201a8\"],[0.3333333333333333,\"#9c179e\"],[0.4444444444444444,\"#bd3786\"],[0.5555555555555556,\"#d8576b\"],[0.6666666666666666,\"#ed7953\"],[0.7777777777777778,\"#fb9f3a\"],[0.8888888888888888,\"#fdca26\"],[1.0,\"#f0f921\"]]}],\"surface\":[{\"type\":\"surface\",\"colorbar\":{\"outlinewidth\":0,\"ticks\":\"\"},\"colorscale\":[[0.0,\"#0d0887\"],[0.1111111111111111,\"#46039f\"],[0.2222222222222222,\"#7201a8\"],[0.3333333333333333,\"#9c179e\"],[0.4444444444444444,\"#bd3786\"],[0.5555555555555556,\"#d8576b\"],[0.6666666666666666,\"#ed7953\"],[0.7777777777777778,\"#fb9f3a\"],[0.8888888888888888,\"#fdca26\"],[1.0,\"#f0f921\"]]}],\"mesh3d\":[{\"type\":\"mesh3d\",\"colorbar\":{\"outlinewidth\":0,\"ticks\":\"\"}}],\"scatter\":[{\"fillpattern\":{\"fillmode\":\"overlay\",\"size\":10,\"solidity\":0.2},\"type\":\"scatter\"}],\"parcoords\":[{\"type\":\"parcoords\",\"line\":{\"colorbar\":{\"outlinewidth\":0,\"ticks\":\"\"}}}],\"scatterpolargl\":[{\"type\":\"scatterpolargl\",\"marker\":{\"colorbar\":{\"outlinewidth\":0,\"ticks\":\"\"}}}],\"bar\":[{\"error_x\":{\"color\":\"#2a3f5f\"},\"error_y\":{\"color\":\"#2a3f5f\"},\"marker\":{\"line\":{\"color\":\"#E5ECF6\",\"width\":0.5},\"pattern\":{\"fillmode\":\"overlay\",\"size\":10,\"solidity\":0.2}},\"type\":\"bar\"}],\"scattergeo\":[{\"type\":\"scattergeo\",\"marker\":{\"colorbar\":{\"outlinewidth\":0,\"ticks\":\"\"}}}],\"scatterpolar\":[{\"type\":\"scatterpolar\",\"marker\":{\"colorbar\":{\"outlinewidth\":0,\"ticks\":\"\"}}}],\"histogram\":[{\"marker\":{\"pattern\":{\"fillmode\":\"overlay\",\"size\":10,\"solidity\":0.2}},\"type\":\"histogram\"}],\"scattergl\":[{\"type\":\"scattergl\",\"marker\":{\"colorbar\":{\"outlinewidth\":0,\"ticks\":\"\"}}}],\"scatter3d\":[{\"type\":\"scatter3d\",\"line\":{\"colorbar\":{\"outlinewidth\":0,\"ticks\":\"\"}},\"marker\":{\"colorbar\":{\"outlinewidth\":0,\"ticks\":\"\"}}}],\"scattermapbox\":[{\"type\":\"scattermapbox\",\"marker\":{\"colorbar\":{\"outlinewidth\":0,\"ticks\":\"\"}}}],\"scatterternary\":[{\"type\":\"scatterternary\",\"marker\":{\"colorbar\":{\"outlinewidth\":0,\"ticks\":\"\"}}}],\"scattercarpet\":[{\"type\":\"scattercarpet\",\"marker\":{\"colorbar\":{\"outlinewidth\":0,\"ticks\":\"\"}}}],\"carpet\":[{\"aaxis\":{\"endlinecolor\":\"#2a3f5f\",\"gridcolor\":\"white\",\"linecolor\":\"white\",\"minorgridcolor\":\"white\",\"startlinecolor\":\"#2a3f5f\"},\"baxis\":{\"endlinecolor\":\"#2a3f5f\",\"gridcolor\":\"white\",\"linecolor\":\"white\",\"minorgridcolor\":\"white\",\"startlinecolor\":\"#2a3f5f\"},\"type\":\"carpet\"}],\"table\":[{\"cells\":{\"fill\":{\"color\":\"#EBF0F8\"},\"line\":{\"color\":\"white\"}},\"header\":{\"fill\":{\"color\":\"#C8D4E3\"},\"line\":{\"color\":\"white\"}},\"type\":\"table\"}],\"barpolar\":[{\"marker\":{\"line\":{\"color\":\"#E5ECF6\",\"width\":0.5},\"pattern\":{\"fillmode\":\"overlay\",\"size\":10,\"solidity\":0.2}},\"type\":\"barpolar\"}],\"pie\":[{\"automargin\":true,\"type\":\"pie\"}]},\"layout\":{\"autotypenumbers\":\"strict\",\"colorway\":[\"#636efa\",\"#EF553B\",\"#00cc96\",\"#ab63fa\",\"#FFA15A\",\"#19d3f3\",\"#FF6692\",\"#B6E880\",\"#FF97FF\",\"#FECB52\"],\"font\":{\"color\":\"#2a3f5f\"},\"hovermode\":\"closest\",\"hoverlabel\":{\"align\":\"left\"},\"paper_bgcolor\":\"white\",\"plot_bgcolor\":\"#E5ECF6\",\"polar\":{\"bgcolor\":\"#E5ECF6\",\"angularaxis\":{\"gridcolor\":\"white\",\"linecolor\":\"white\",\"ticks\":\"\"},\"radialaxis\":{\"gridcolor\":\"white\",\"linecolor\":\"white\",\"ticks\":\"\"}},\"ternary\":{\"bgcolor\":\"#E5ECF6\",\"aaxis\":{\"gridcolor\":\"white\",\"linecolor\":\"white\",\"ticks\":\"\"},\"baxis\":{\"gridcolor\":\"white\",\"linecolor\":\"white\",\"ticks\":\"\"},\"caxis\":{\"gridcolor\":\"white\",\"linecolor\":\"white\",\"ticks\":\"\"}},\"coloraxis\":{\"colorbar\":{\"outlinewidth\":0,\"ticks\":\"\"}},\"colorscale\":{\"sequential\":[[0.0,\"#0d0887\"],[0.1111111111111111,\"#46039f\"],[0.2222222222222222,\"#7201a8\"],[0.3333333333333333,\"#9c179e\"],[0.4444444444444444,\"#bd3786\"],[0.5555555555555556,\"#d8576b\"],[0.6666666666666666,\"#ed7953\"],[0.7777777777777778,\"#fb9f3a\"],[0.8888888888888888,\"#fdca26\"],[1.0,\"#f0f921\"]],\"sequentialminus\":[[0.0,\"#0d0887\"],[0.1111111111111111,\"#46039f\"],[0.2222222222222222,\"#7201a8\"],[0.3333333333333333,\"#9c179e\"],[0.4444444444444444,\"#bd3786\"],[0.5555555555555556,\"#d8576b\"],[0.6666666666666666,\"#ed7953\"],[0.7777777777777778,\"#fb9f3a\"],[0.8888888888888888,\"#fdca26\"],[1.0,\"#f0f921\"]],\"diverging\":[[0,\"#8e0152\"],[0.1,\"#c51b7d\"],[0.2,\"#de77ae\"],[0.3,\"#f1b6da\"],[0.4,\"#fde0ef\"],[0.5,\"#f7f7f7\"],[0.6,\"#e6f5d0\"],[0.7,\"#b8e186\"],[0.8,\"#7fbc41\"],[0.9,\"#4d9221\"],[1,\"#276419\"]]},\"xaxis\":{\"gridcolor\":\"white\",\"linecolor\":\"white\",\"ticks\":\"\",\"title\":{\"standoff\":15},\"zerolinecolor\":\"white\",\"automargin\":true,\"zerolinewidth\":2},\"yaxis\":{\"gridcolor\":\"white\",\"linecolor\":\"white\",\"ticks\":\"\",\"title\":{\"standoff\":15},\"zerolinecolor\":\"white\",\"automargin\":true,\"zerolinewidth\":2},\"scene\":{\"xaxis\":{\"backgroundcolor\":\"#E5ECF6\",\"gridcolor\":\"white\",\"linecolor\":\"white\",\"showbackground\":true,\"ticks\":\"\",\"zerolinecolor\":\"white\",\"gridwidth\":2},\"yaxis\":{\"backgroundcolor\":\"#E5ECF6\",\"gridcolor\":\"white\",\"linecolor\":\"white\",\"showbackground\":true,\"ticks\":\"\",\"zerolinecolor\":\"white\",\"gridwidth\":2},\"zaxis\":{\"backgroundcolor\":\"#E5ECF6\",\"gridcolor\":\"white\",\"linecolor\":\"white\",\"showbackground\":true,\"ticks\":\"\",\"zerolinecolor\":\"white\",\"gridwidth\":2}},\"shapedefaults\":{\"line\":{\"color\":\"#2a3f5f\"}},\"annotationdefaults\":{\"arrowcolor\":\"#2a3f5f\",\"arrowhead\":0,\"arrowwidth\":1},\"geo\":{\"bgcolor\":\"white\",\"landcolor\":\"#E5ECF6\",\"subunitcolor\":\"white\",\"showland\":true,\"showlakes\":true,\"lakecolor\":\"white\"},\"title\":{\"x\":0.05},\"mapbox\":{\"style\":\"light\"}}},\"mapbox\":{\"domain\":{\"x\":[0.0,1.0],\"y\":[0.0,1.0]},\"center\":{\"lat\":37.49544816849806,\"lon\":127.03931200019781},\"zoom\":8,\"style\":\"carto-positron\"},\"legend\":{\"tracegroupgap\":0},\"margin\":{\"t\":0,\"r\":0,\"l\":0,\"b\":0}},                        {\"responsive\": true}                    ).then(function(){\n",
       "                            \n",
       "var gd = document.getElementById('46f1be1f-cfd3-4126-89eb-d3f7693c8cf3');\n",
       "var x = new MutationObserver(function (mutations, observer) {{\n",
       "        var display = window.getComputedStyle(gd).display;\n",
       "        if (!display || display === 'none') {{\n",
       "            console.log([gd, 'removed!']);\n",
       "            Plotly.purge(gd);\n",
       "            observer.disconnect();\n",
       "        }}\n",
       "}});\n",
       "\n",
       "// Listen for the removal of the full notebook cells\n",
       "var notebookContainer = gd.closest('#notebook-container');\n",
       "if (notebookContainer) {{\n",
       "    x.observe(notebookContainer, {childList: true});\n",
       "}}\n",
       "\n",
       "// Listen for the clearing of the current output cell\n",
       "var outputEl = gd.closest('.output');\n",
       "if (outputEl) {{\n",
       "    x.observe(outputEl, {childList: true});\n",
       "}}\n",
       "\n",
       "                        })                };                });            </script>        </div>"
      ]
     },
     "metadata": {},
     "output_type": "display_data"
    }
   ],
   "source": [
    "import plotly.express as px\n",
    "\n",
    "fig = px.scatter_mapbox(df, lat=\"latitude\", lon=\"longitude\", hover_data=[\"sensor_id\"])\n",
    "fig.update_layout(mapbox_style=\"carto-positron\")\n",
    "fig.update_layout(margin={\"r\":0,\"t\":0,\"l\":0,\"b\":0})\n",
    "fig.show()"
   ]
  },
  {
   "cell_type": "code",
   "execution_count": 7,
   "id": "ded0e78b",
   "metadata": {},
   "outputs": [
    {
     "data": {
      "application/vnd.plotly.v1+json": {
       "config": {
        "plotlyServerURL": "https://plot.ly"
       },
       "data": [
        {
         "customdata": [
          [
           773869
          ],
          [
           767541
          ],
          [
           767542
          ],
          [
           717447
          ],
          [
           717446
          ],
          [
           717445
          ],
          [
           773062
          ],
          [
           767620
          ],
          [
           737529
          ],
          [
           717816
          ],
          [
           765604
          ],
          [
           767471
          ],
          [
           716339
          ],
          [
           773906
          ],
          [
           765273
          ],
          [
           716331
          ],
          [
           771667
          ],
          [
           716337
          ],
          [
           769953
          ],
          [
           769402
          ],
          [
           769403
          ],
          [
           769819
          ],
          [
           769405
          ],
          [
           716941
          ],
          [
           717578
          ],
          [
           716960
          ],
          [
           717804
          ],
          [
           767572
          ],
          [
           767573
          ],
          [
           773012
          ],
          [
           773013
          ],
          [
           764424
          ],
          [
           769388
          ],
          [
           716328
          ],
          [
           717819
          ],
          [
           769941
          ],
          [
           760987
          ],
          [
           718204
          ],
          [
           718045
          ],
          [
           769418
          ],
          [
           768066
          ],
          [
           772140
          ],
          [
           773927
          ],
          [
           760024
          ],
          [
           774012
          ],
          [
           774011
          ],
          [
           767609
          ],
          [
           769359
          ],
          [
           760650
          ],
          [
           716956
          ],
          [
           769831
          ],
          [
           761604
          ],
          [
           717495
          ],
          [
           716554
          ],
          [
           773953
          ],
          [
           767470
          ],
          [
           716955
          ],
          [
           764949
          ],
          [
           773954
          ],
          [
           767366
          ],
          [
           769444
          ],
          [
           773939
          ],
          [
           774067
          ],
          [
           769443
          ],
          [
           767750
          ],
          [
           767751
          ],
          [
           767610
          ],
          [
           773880
          ],
          [
           764766
          ],
          [
           717497
          ],
          [
           717490
          ],
          [
           717491
          ],
          [
           717492
          ],
          [
           717493
          ],
          [
           765176
          ],
          [
           717498
          ],
          [
           717499
          ],
          [
           765171
          ],
          [
           718064
          ],
          [
           718066
          ],
          [
           765164
          ],
          [
           769431
          ],
          [
           769430
          ],
          [
           717610
          ],
          [
           767053
          ],
          [
           767621
          ],
          [
           772596
          ],
          [
           772597
          ],
          [
           767350
          ],
          [
           767351
          ],
          [
           716571
          ],
          [
           773023
          ],
          [
           767585
          ],
          [
           773024
          ],
          [
           717483
          ],
          [
           718379
          ],
          [
           717481
          ],
          [
           717480
          ],
          [
           717486
          ],
          [
           764120
          ],
          [
           772151
          ],
          [
           718371
          ],
          [
           717489
          ],
          [
           717488
          ],
          [
           717818
          ],
          [
           718076
          ],
          [
           718072
          ],
          [
           767455
          ],
          [
           767454
          ],
          [
           761599
          ],
          [
           717099
          ],
          [
           773916
          ],
          [
           716968
          ],
          [
           769467
          ],
          [
           717576
          ],
          [
           717573
          ],
          [
           717572
          ],
          [
           717571
          ],
          [
           717570
          ],
          [
           764760
          ],
          [
           718089
          ],
          [
           769847
          ],
          [
           717608
          ],
          [
           767523
          ],
          [
           716942
          ],
          [
           718090
          ],
          [
           769867
          ],
          [
           717472
          ],
          [
           717473
          ],
          [
           759591
          ],
          [
           764781
          ],
          [
           765099
          ],
          [
           762329
          ],
          [
           716953
          ],
          [
           716951
          ],
          [
           767509
          ],
          [
           765182
          ],
          [
           769358
          ],
          [
           772513
          ],
          [
           716958
          ],
          [
           718496
          ],
          [
           769346
          ],
          [
           773904
          ],
          [
           718499
          ],
          [
           764853
          ],
          [
           761003
          ],
          [
           717502
          ],
          [
           759602
          ],
          [
           717504
          ],
          [
           763995
          ],
          [
           717508
          ],
          [
           765265
          ],
          [
           773996
          ],
          [
           773995
          ],
          [
           717469
          ],
          [
           717468
          ],
          [
           764106
          ],
          [
           717465
          ],
          [
           764794
          ],
          [
           717466
          ],
          [
           717461
          ],
          [
           717460
          ],
          [
           717463
          ],
          [
           717462
          ],
          [
           769345
          ],
          [
           716943
          ],
          [
           772669
          ],
          [
           717582
          ],
          [
           717583
          ],
          [
           717580
          ],
          [
           716949
          ],
          [
           717587
          ],
          [
           772178
          ],
          [
           717585
          ],
          [
           716939
          ],
          [
           768469
          ],
          [
           764101
          ],
          [
           767554
          ],
          [
           773975
          ],
          [
           773974
          ],
          [
           717510
          ],
          [
           717513
          ],
          [
           717825
          ],
          [
           767495
          ],
          [
           767494
          ],
          [
           717821
          ],
          [
           717823
          ],
          [
           717458
          ],
          [
           717459
          ],
          [
           769926
          ],
          [
           764858
          ],
          [
           717450
          ],
          [
           717452
          ],
          [
           717453
          ],
          [
           759772
          ],
          [
           717456
          ],
          [
           771673
          ],
          [
           772167
          ],
          [
           769372
          ],
          [
           774204
          ],
          [
           769806
          ],
          [
           717590
          ],
          [
           717592
          ],
          [
           717595
          ],
          [
           772168
          ],
          [
           718141
          ],
          [
           769373
          ]
         ],
         "hovertemplate": "latitude=%{lat}<br>longitude=%{lon}<br>sensor_id=%{customdata[0]}<extra></extra>",
         "lat": [
          34.15497,
          34.11621,
          34.11641,
          34.07248,
          34.07142,
          34.06913,
          34.05368,
          34.13486,
          34.20264,
          34.15562,
          34.16415,
          34.15691,
          34.07821,
          34.1566,
          34.18949,
          34.07006,
          34.07314,
          34.07732,
          34.20672,
          34.12095,
          34.12073,
          34.20584,
          34.12634,
          34.05767,
          34.15478,
          34.12121,
          34.09478,
          34.12967,
          34.12964,
          34.0839,
          34.08374,
          34.17878,
          34.11027,
          34.06664,
          34.18784,
          34.20699,
          34.15359,
          34.15541,
          34.06712,
          34.12659,
          34.15118,
          34.16498,
          34.15262,
          34.1593,
          34.14769,
          34.14747,
          34.18555,
          34.1566,
          34.07505,
          34.10658,
          34.20663,
          34.15407,
          34.15664,
          34.15597,
          34.15522,
          34.15699,
          34.09579,
          34.12881,
          34.15544,
          34.21216,
          34.15555,
          34.15297,
          34.15362,
          34.15574,
          34.09335,
          34.09335,
          34.18555,
          34.15367,
          34.13338,
          34.15685,
          34.14745,
          34.14761,
          34.15459,
          34.15434,
          34.13286,
          34.15571,
          34.15666,
          34.16789,
          34.11296,
          34.12302,
          34.07898,
          34.15843,
          34.15818,
          34.17886,
          34.17091,
          34.13486,
          34.17126,
          34.17109,
          34.18011,
          34.18022,
          34.2,
          34.05773,
          34.16556,
          34.05759,
          34.11684,
          34.14224,
          34.10634,
          34.10478,
          34.12974,
          34.20164,
          34.16928,
          34.09017,
          34.13876,
          34.13561,
          34.1722,
          34.16339,
          34.1491,
          34.14347,
          34.14352,
          34.14226,
          34.15648,
          34.15247,
          34.16588,
          34.15451,
          34.15559,
          34.15384,
          34.15351,
          34.15326,
          34.15302,
          34.13401,
          34.12769,
          34.20983,
          34.17154,
          34.11439,
          34.0593,
          34.14847,
          34.21846,
          34.10045,
          34.10054,
          34.11521,
          34.16037,
          34.16378,
          34.13904,
          34.09458,
          34.08581,
          34.11059,
          34.06491,
          34.15679,
          34.06871,
          34.11167,
          34.15403,
          34.15677,
          34.15641,
          34.15469,
          34.06461,
          34.15546,
          34.16521,
          34.12199,
          34.16519,
          34.21979,
          34.17112,
          34.18529,
          34.14511,
          34.14483,
          34.0971,
          34.09699,
          34.17169,
          34.09373,
          34.16028,
          34.09359,
          34.08558,
          34.08571,
          34.09004,
          34.08993,
          34.15655,
          34.05987,
          34.07828,
          34.15646,
          34.15627,
          34.1562,
          34.08406,
          34.15402,
          34.16903,
          34.15564,
          34.04301,
          34.13583,
          34.16421,
          34.11966,
          34.14584,
          34.14559,
          34.17128,
          34.17339,
          34.22164,
          34.10377,
          34.10377,
          34.20112,
          34.20264,
          34.08265,
          34.08294,
          34.21356,
          34.1527,
          34.07488,
          34.07502,
          34.07696,
          34.17115,
          34.08102,
          34.07787,
          34.16526,
          34.1027,
          34.15397,
          34.19638,
          34.14929,
          34.14604,
          34.14163,
          34.16542,
          34.15133,
          34.10262
         ],
         "legendgroup": "",
         "lon": [
          -118.31829,
          -118.23799,
          -118.23819,
          -118.26772,
          -118.26572,
          -118.25932,
          -118.23369,
          -118.22932,
          -118.47352,
          -118.4686,
          -118.38223,
          -118.22469,
          -118.28795,
          -118.30266,
          -118.47437,
          -118.26246,
          -118.23388,
          -118.28186,
          -118.19992,
          -118.33911,
          -118.33928,
          -118.19803,
          -118.34482,
          -118.21435,
          -118.27076,
          -118.27164,
          -118.47605,
          -118.22871,
          -118.22901,
          -118.22086,
          -118.22076,
          -118.39469,
          -118.33441,
          -118.25397,
          -118.47407,
          -118.20237,
          -118.34043,
          -118.29575,
          -118.23973,
          -118.34465,
          -118.3748,
          -118.47493,
          -118.28034,
          -118.46483,
          -118.20137,
          -118.20123,
          -118.21733,
          -118.42216,
          -118.23256,
          -118.25544,
          -118.20101,
          -118.28711,
          -118.41326,
          -118.2666,
          -118.29344,
          -118.22436,
          -118.24427,
          -118.34684,
          -118.29344,
          -118.47341,
          -118.43908,
          -118.37226,
          -118.28441,
          -118.43931,
          -118.20635,
          -118.20616,
          -118.21766,
          -118.3484,
          -118.3535,
          -118.41456,
          -118.37124,
          -118.3711,
          -118.37935,
          -118.39618,
          -118.35135,
          -118.43273,
          -118.44808,
          -118.46896,
          -118.24489,
          -118.22889,
          -118.28911,
          -118.45664,
          -118.45658,
          -118.39497,
          -118.46775,
          -118.22969,
          -118.50495,
          -118.50495,
          -118.47045,
          -118.47022,
          -118.40337,
          -118.24348,
          -118.22432,
          -118.24357,
          -118.33698,
          -118.27812,
          -118.32826,
          -118.32497,
          -118.34809,
          -118.40366,
          -118.49872,
          -118.23849,
          -118.36438,
          -118.36006,
          -118.46753,
          -118.2253,
          -118.2257,
          -118.22704,
          -118.22733,
          -118.27786,
          -118.24674,
          -118.2852,
          -118.29809,
          -118.39699,
          -118.2957,
          -118.325,
          -118.32751,
          -118.35921,
          -118.35921,
          -118.35506,
          -118.27372,
          -118.22351,
          -118.38812,
          -118.24209,
          -118.21451,
          -118.27969,
          -118.23931,
          -118.31601,
          -118.31581,
          -118.26825,
          -118.47012,
          -118.47224,
          -118.22862,
          -118.24279,
          -118.23182,
          -118.24819,
          -118.25126,
          -118.42222,
          -118.23661,
          -118.26501,
          -118.34232,
          -118.40424,
          -118.30266,
          -118.31253,
          -118.25102,
          -118.30841,
          -118.47484,
          -118.27178,
          -118.49166,
          -118.40931,
          -118.51814,
          -118.47395,
          -118.21587,
          -118.21587,
          -118.31366,
          -118.31381,
          -118.38801,
          -118.30907,
          -118.46808,
          -118.30918,
          -118.30174,
          -118.30161,
          -118.3059,
          -118.30607,
          -118.40441,
          -118.21492,
          -118.22834,
          -118.26092,
          -118.25506,
          -118.26359,
          -118.22974,
          -118.23893,
          -118.49885,
          -118.24188,
          -118.21724,
          -118.35993,
          -118.38246,
          -118.23143,
          -118.22251,
          -118.22251,
          -118.51976,
          -118.5368,
          -118.47307,
          -118.24992,
          -118.24962,
          -118.47361,
          -118.47326,
          -118.29755,
          -118.29729,
          -118.23113,
          -118.3754,
          -118.27362,
          -118.27356,
          -118.28093,
          -118.30539,
          -118.29325,
          -118.22871,
          -118.47985,
          -118.3173,
          -118.34172,
          -118.18442,
          -118.23182,
          -118.2243,
          -118.1829,
          -118.47985,
          -118.37456,
          -118.31747
         ],
         "marker": {
          "color": "#636efa"
         },
         "mode": "markers",
         "name": "",
         "showlegend": false,
         "subplot": "mapbox",
         "type": "scattermapbox"
        }
       ],
       "layout": {
        "legend": {
         "tracegroupgap": 0
        },
        "mapbox": {
         "center": {
          "lat": 34.13685429951692,
          "lon": -118.32048154589368
         },
         "domain": {
          "x": [
           0,
           1
          ],
          "y": [
           0,
           1
          ]
         },
         "style": "open-street-map",
         "zoom": 8
        },
        "margin": {
         "b": 0,
         "l": 0,
         "r": 0,
         "t": 0
        },
        "template": {
         "data": {
          "bar": [
           {
            "error_x": {
             "color": "#2a3f5f"
            },
            "error_y": {
             "color": "#2a3f5f"
            },
            "marker": {
             "line": {
              "color": "#E5ECF6",
              "width": 0.5
             },
             "pattern": {
              "fillmode": "overlay",
              "size": 10,
              "solidity": 0.2
             }
            },
            "type": "bar"
           }
          ],
          "barpolar": [
           {
            "marker": {
             "line": {
              "color": "#E5ECF6",
              "width": 0.5
             },
             "pattern": {
              "fillmode": "overlay",
              "size": 10,
              "solidity": 0.2
             }
            },
            "type": "barpolar"
           }
          ],
          "carpet": [
           {
            "aaxis": {
             "endlinecolor": "#2a3f5f",
             "gridcolor": "white",
             "linecolor": "white",
             "minorgridcolor": "white",
             "startlinecolor": "#2a3f5f"
            },
            "baxis": {
             "endlinecolor": "#2a3f5f",
             "gridcolor": "white",
             "linecolor": "white",
             "minorgridcolor": "white",
             "startlinecolor": "#2a3f5f"
            },
            "type": "carpet"
           }
          ],
          "choropleth": [
           {
            "colorbar": {
             "outlinewidth": 0,
             "ticks": ""
            },
            "type": "choropleth"
           }
          ],
          "contour": [
           {
            "colorbar": {
             "outlinewidth": 0,
             "ticks": ""
            },
            "colorscale": [
             [
              0,
              "#0d0887"
             ],
             [
              0.1111111111111111,
              "#46039f"
             ],
             [
              0.2222222222222222,
              "#7201a8"
             ],
             [
              0.3333333333333333,
              "#9c179e"
             ],
             [
              0.4444444444444444,
              "#bd3786"
             ],
             [
              0.5555555555555556,
              "#d8576b"
             ],
             [
              0.6666666666666666,
              "#ed7953"
             ],
             [
              0.7777777777777778,
              "#fb9f3a"
             ],
             [
              0.8888888888888888,
              "#fdca26"
             ],
             [
              1,
              "#f0f921"
             ]
            ],
            "type": "contour"
           }
          ],
          "contourcarpet": [
           {
            "colorbar": {
             "outlinewidth": 0,
             "ticks": ""
            },
            "type": "contourcarpet"
           }
          ],
          "heatmap": [
           {
            "colorbar": {
             "outlinewidth": 0,
             "ticks": ""
            },
            "colorscale": [
             [
              0,
              "#0d0887"
             ],
             [
              0.1111111111111111,
              "#46039f"
             ],
             [
              0.2222222222222222,
              "#7201a8"
             ],
             [
              0.3333333333333333,
              "#9c179e"
             ],
             [
              0.4444444444444444,
              "#bd3786"
             ],
             [
              0.5555555555555556,
              "#d8576b"
             ],
             [
              0.6666666666666666,
              "#ed7953"
             ],
             [
              0.7777777777777778,
              "#fb9f3a"
             ],
             [
              0.8888888888888888,
              "#fdca26"
             ],
             [
              1,
              "#f0f921"
             ]
            ],
            "type": "heatmap"
           }
          ],
          "heatmapgl": [
           {
            "colorbar": {
             "outlinewidth": 0,
             "ticks": ""
            },
            "colorscale": [
             [
              0,
              "#0d0887"
             ],
             [
              0.1111111111111111,
              "#46039f"
             ],
             [
              0.2222222222222222,
              "#7201a8"
             ],
             [
              0.3333333333333333,
              "#9c179e"
             ],
             [
              0.4444444444444444,
              "#bd3786"
             ],
             [
              0.5555555555555556,
              "#d8576b"
             ],
             [
              0.6666666666666666,
              "#ed7953"
             ],
             [
              0.7777777777777778,
              "#fb9f3a"
             ],
             [
              0.8888888888888888,
              "#fdca26"
             ],
             [
              1,
              "#f0f921"
             ]
            ],
            "type": "heatmapgl"
           }
          ],
          "histogram": [
           {
            "marker": {
             "pattern": {
              "fillmode": "overlay",
              "size": 10,
              "solidity": 0.2
             }
            },
            "type": "histogram"
           }
          ],
          "histogram2d": [
           {
            "colorbar": {
             "outlinewidth": 0,
             "ticks": ""
            },
            "colorscale": [
             [
              0,
              "#0d0887"
             ],
             [
              0.1111111111111111,
              "#46039f"
             ],
             [
              0.2222222222222222,
              "#7201a8"
             ],
             [
              0.3333333333333333,
              "#9c179e"
             ],
             [
              0.4444444444444444,
              "#bd3786"
             ],
             [
              0.5555555555555556,
              "#d8576b"
             ],
             [
              0.6666666666666666,
              "#ed7953"
             ],
             [
              0.7777777777777778,
              "#fb9f3a"
             ],
             [
              0.8888888888888888,
              "#fdca26"
             ],
             [
              1,
              "#f0f921"
             ]
            ],
            "type": "histogram2d"
           }
          ],
          "histogram2dcontour": [
           {
            "colorbar": {
             "outlinewidth": 0,
             "ticks": ""
            },
            "colorscale": [
             [
              0,
              "#0d0887"
             ],
             [
              0.1111111111111111,
              "#46039f"
             ],
             [
              0.2222222222222222,
              "#7201a8"
             ],
             [
              0.3333333333333333,
              "#9c179e"
             ],
             [
              0.4444444444444444,
              "#bd3786"
             ],
             [
              0.5555555555555556,
              "#d8576b"
             ],
             [
              0.6666666666666666,
              "#ed7953"
             ],
             [
              0.7777777777777778,
              "#fb9f3a"
             ],
             [
              0.8888888888888888,
              "#fdca26"
             ],
             [
              1,
              "#f0f921"
             ]
            ],
            "type": "histogram2dcontour"
           }
          ],
          "mesh3d": [
           {
            "colorbar": {
             "outlinewidth": 0,
             "ticks": ""
            },
            "type": "mesh3d"
           }
          ],
          "parcoords": [
           {
            "line": {
             "colorbar": {
              "outlinewidth": 0,
              "ticks": ""
             }
            },
            "type": "parcoords"
           }
          ],
          "pie": [
           {
            "automargin": true,
            "type": "pie"
           }
          ],
          "scatter": [
           {
            "fillpattern": {
             "fillmode": "overlay",
             "size": 10,
             "solidity": 0.2
            },
            "type": "scatter"
           }
          ],
          "scatter3d": [
           {
            "line": {
             "colorbar": {
              "outlinewidth": 0,
              "ticks": ""
             }
            },
            "marker": {
             "colorbar": {
              "outlinewidth": 0,
              "ticks": ""
             }
            },
            "type": "scatter3d"
           }
          ],
          "scattercarpet": [
           {
            "marker": {
             "colorbar": {
              "outlinewidth": 0,
              "ticks": ""
             }
            },
            "type": "scattercarpet"
           }
          ],
          "scattergeo": [
           {
            "marker": {
             "colorbar": {
              "outlinewidth": 0,
              "ticks": ""
             }
            },
            "type": "scattergeo"
           }
          ],
          "scattergl": [
           {
            "marker": {
             "colorbar": {
              "outlinewidth": 0,
              "ticks": ""
             }
            },
            "type": "scattergl"
           }
          ],
          "scattermapbox": [
           {
            "marker": {
             "colorbar": {
              "outlinewidth": 0,
              "ticks": ""
             }
            },
            "type": "scattermapbox"
           }
          ],
          "scatterpolar": [
           {
            "marker": {
             "colorbar": {
              "outlinewidth": 0,
              "ticks": ""
             }
            },
            "type": "scatterpolar"
           }
          ],
          "scatterpolargl": [
           {
            "marker": {
             "colorbar": {
              "outlinewidth": 0,
              "ticks": ""
             }
            },
            "type": "scatterpolargl"
           }
          ],
          "scatterternary": [
           {
            "marker": {
             "colorbar": {
              "outlinewidth": 0,
              "ticks": ""
             }
            },
            "type": "scatterternary"
           }
          ],
          "surface": [
           {
            "colorbar": {
             "outlinewidth": 0,
             "ticks": ""
            },
            "colorscale": [
             [
              0,
              "#0d0887"
             ],
             [
              0.1111111111111111,
              "#46039f"
             ],
             [
              0.2222222222222222,
              "#7201a8"
             ],
             [
              0.3333333333333333,
              "#9c179e"
             ],
             [
              0.4444444444444444,
              "#bd3786"
             ],
             [
              0.5555555555555556,
              "#d8576b"
             ],
             [
              0.6666666666666666,
              "#ed7953"
             ],
             [
              0.7777777777777778,
              "#fb9f3a"
             ],
             [
              0.8888888888888888,
              "#fdca26"
             ],
             [
              1,
              "#f0f921"
             ]
            ],
            "type": "surface"
           }
          ],
          "table": [
           {
            "cells": {
             "fill": {
              "color": "#EBF0F8"
             },
             "line": {
              "color": "white"
             }
            },
            "header": {
             "fill": {
              "color": "#C8D4E3"
             },
             "line": {
              "color": "white"
             }
            },
            "type": "table"
           }
          ]
         },
         "layout": {
          "annotationdefaults": {
           "arrowcolor": "#2a3f5f",
           "arrowhead": 0,
           "arrowwidth": 1
          },
          "autotypenumbers": "strict",
          "coloraxis": {
           "colorbar": {
            "outlinewidth": 0,
            "ticks": ""
           }
          },
          "colorscale": {
           "diverging": [
            [
             0,
             "#8e0152"
            ],
            [
             0.1,
             "#c51b7d"
            ],
            [
             0.2,
             "#de77ae"
            ],
            [
             0.3,
             "#f1b6da"
            ],
            [
             0.4,
             "#fde0ef"
            ],
            [
             0.5,
             "#f7f7f7"
            ],
            [
             0.6,
             "#e6f5d0"
            ],
            [
             0.7,
             "#b8e186"
            ],
            [
             0.8,
             "#7fbc41"
            ],
            [
             0.9,
             "#4d9221"
            ],
            [
             1,
             "#276419"
            ]
           ],
           "sequential": [
            [
             0,
             "#0d0887"
            ],
            [
             0.1111111111111111,
             "#46039f"
            ],
            [
             0.2222222222222222,
             "#7201a8"
            ],
            [
             0.3333333333333333,
             "#9c179e"
            ],
            [
             0.4444444444444444,
             "#bd3786"
            ],
            [
             0.5555555555555556,
             "#d8576b"
            ],
            [
             0.6666666666666666,
             "#ed7953"
            ],
            [
             0.7777777777777778,
             "#fb9f3a"
            ],
            [
             0.8888888888888888,
             "#fdca26"
            ],
            [
             1,
             "#f0f921"
            ]
           ],
           "sequentialminus": [
            [
             0,
             "#0d0887"
            ],
            [
             0.1111111111111111,
             "#46039f"
            ],
            [
             0.2222222222222222,
             "#7201a8"
            ],
            [
             0.3333333333333333,
             "#9c179e"
            ],
            [
             0.4444444444444444,
             "#bd3786"
            ],
            [
             0.5555555555555556,
             "#d8576b"
            ],
            [
             0.6666666666666666,
             "#ed7953"
            ],
            [
             0.7777777777777778,
             "#fb9f3a"
            ],
            [
             0.8888888888888888,
             "#fdca26"
            ],
            [
             1,
             "#f0f921"
            ]
           ]
          },
          "colorway": [
           "#636efa",
           "#EF553B",
           "#00cc96",
           "#ab63fa",
           "#FFA15A",
           "#19d3f3",
           "#FF6692",
           "#B6E880",
           "#FF97FF",
           "#FECB52"
          ],
          "font": {
           "color": "#2a3f5f"
          },
          "geo": {
           "bgcolor": "white",
           "lakecolor": "white",
           "landcolor": "#E5ECF6",
           "showlakes": true,
           "showland": true,
           "subunitcolor": "white"
          },
          "hoverlabel": {
           "align": "left"
          },
          "hovermode": "closest",
          "mapbox": {
           "style": "light"
          },
          "paper_bgcolor": "white",
          "plot_bgcolor": "#E5ECF6",
          "polar": {
           "angularaxis": {
            "gridcolor": "white",
            "linecolor": "white",
            "ticks": ""
           },
           "bgcolor": "#E5ECF6",
           "radialaxis": {
            "gridcolor": "white",
            "linecolor": "white",
            "ticks": ""
           }
          },
          "scene": {
           "xaxis": {
            "backgroundcolor": "#E5ECF6",
            "gridcolor": "white",
            "gridwidth": 2,
            "linecolor": "white",
            "showbackground": true,
            "ticks": "",
            "zerolinecolor": "white"
           },
           "yaxis": {
            "backgroundcolor": "#E5ECF6",
            "gridcolor": "white",
            "gridwidth": 2,
            "linecolor": "white",
            "showbackground": true,
            "ticks": "",
            "zerolinecolor": "white"
           },
           "zaxis": {
            "backgroundcolor": "#E5ECF6",
            "gridcolor": "white",
            "gridwidth": 2,
            "linecolor": "white",
            "showbackground": true,
            "ticks": "",
            "zerolinecolor": "white"
           }
          },
          "shapedefaults": {
           "line": {
            "color": "#2a3f5f"
           }
          },
          "ternary": {
           "aaxis": {
            "gridcolor": "white",
            "linecolor": "white",
            "ticks": ""
           },
           "baxis": {
            "gridcolor": "white",
            "linecolor": "white",
            "ticks": ""
           },
           "bgcolor": "#E5ECF6",
           "caxis": {
            "gridcolor": "white",
            "linecolor": "white",
            "ticks": ""
           }
          },
          "title": {
           "x": 0.05
          },
          "xaxis": {
           "automargin": true,
           "gridcolor": "white",
           "linecolor": "white",
           "ticks": "",
           "title": {
            "standoff": 15
           },
           "zerolinecolor": "white",
           "zerolinewidth": 2
          },
          "yaxis": {
           "automargin": true,
           "gridcolor": "white",
           "linecolor": "white",
           "ticks": "",
           "title": {
            "standoff": 15
           },
           "zerolinecolor": "white",
           "zerolinewidth": 2
          }
         }
        }
       }
      },
      "text/html": [
       "<div>                            <div id=\"a9c1642a-44a8-41c3-8ceb-8870054f613f\" class=\"plotly-graph-div\" style=\"height:525px; width:100%;\"></div>            <script type=\"text/javascript\">                require([\"plotly\"], function(Plotly) {                    window.PLOTLYENV=window.PLOTLYENV || {};                                    if (document.getElementById(\"a9c1642a-44a8-41c3-8ceb-8870054f613f\")) {                    Plotly.newPlot(                        \"a9c1642a-44a8-41c3-8ceb-8870054f613f\",                        [{\"customdata\":[[773869],[767541],[767542],[717447],[717446],[717445],[773062],[767620],[737529],[717816],[765604],[767471],[716339],[773906],[765273],[716331],[771667],[716337],[769953],[769402],[769403],[769819],[769405],[716941],[717578],[716960],[717804],[767572],[767573],[773012],[773013],[764424],[769388],[716328],[717819],[769941],[760987],[718204],[718045],[769418],[768066],[772140],[773927],[760024],[774012],[774011],[767609],[769359],[760650],[716956],[769831],[761604],[717495],[716554],[773953],[767470],[716955],[764949],[773954],[767366],[769444],[773939],[774067],[769443],[767750],[767751],[767610],[773880],[764766],[717497],[717490],[717491],[717492],[717493],[765176],[717498],[717499],[765171],[718064],[718066],[765164],[769431],[769430],[717610],[767053],[767621],[772596],[772597],[767350],[767351],[716571],[773023],[767585],[773024],[717483],[718379],[717481],[717480],[717486],[764120],[772151],[718371],[717489],[717488],[717818],[718076],[718072],[767455],[767454],[761599],[717099],[773916],[716968],[769467],[717576],[717573],[717572],[717571],[717570],[764760],[718089],[769847],[717608],[767523],[716942],[718090],[769867],[717472],[717473],[759591],[764781],[765099],[762329],[716953],[716951],[767509],[765182],[769358],[772513],[716958],[718496],[769346],[773904],[718499],[764853],[761003],[717502],[759602],[717504],[763995],[717508],[765265],[773996],[773995],[717469],[717468],[764106],[717465],[764794],[717466],[717461],[717460],[717463],[717462],[769345],[716943],[772669],[717582],[717583],[717580],[716949],[717587],[772178],[717585],[716939],[768469],[764101],[767554],[773975],[773974],[717510],[717513],[717825],[767495],[767494],[717821],[717823],[717458],[717459],[769926],[764858],[717450],[717452],[717453],[759772],[717456],[771673],[772167],[769372],[774204],[769806],[717590],[717592],[717595],[772168],[718141],[769373]],\"hovertemplate\":\"latitude=%{lat}<br>longitude=%{lon}<br>sensor_id=%{customdata[0]}<extra></extra>\",\"lat\":[34.15497,34.11621,34.11641,34.07248,34.07142,34.06913,34.05368,34.13486,34.20264,34.15562,34.16415,34.15691,34.07821,34.1566,34.18949,34.07006,34.07314,34.07732,34.20672,34.12095,34.12073,34.20584,34.12634,34.05767,34.15478,34.12121,34.09478,34.12967,34.12964,34.0839,34.08374,34.17878,34.11027,34.06664,34.18784,34.20699,34.15359,34.15541,34.06712,34.12659,34.15118,34.16498,34.15262,34.1593,34.14769,34.14747,34.18555,34.1566,34.07505,34.10658,34.20663,34.15407,34.15664,34.15597,34.15522,34.15699,34.09579,34.12881,34.15544,34.21216,34.15555,34.15297,34.15362,34.15574,34.09335,34.09335,34.18555,34.15367,34.13338,34.15685,34.14745,34.14761,34.15459,34.15434,34.13286,34.15571,34.15666,34.16789,34.11296,34.12302,34.07898,34.15843,34.15818,34.17886,34.17091,34.13486,34.17126,34.17109,34.18011,34.18022,34.2,34.05773,34.16556,34.05759,34.11684,34.14224,34.10634,34.10478,34.12974,34.20164,34.16928,34.09017,34.13876,34.13561,34.1722,34.16339,34.1491,34.14347,34.14352,34.14226,34.15648,34.15247,34.16588,34.15451,34.15559,34.15384,34.15351,34.15326,34.15302,34.13401,34.12769,34.20983,34.17154,34.11439,34.0593,34.14847,34.21846,34.10045,34.10054,34.11521,34.16037,34.16378,34.13904,34.09458,34.08581,34.11059,34.06491,34.15679,34.06871,34.11167,34.15403,34.15677,34.15641,34.15469,34.06461,34.15546,34.16521,34.12199,34.16519,34.21979,34.17112,34.18529,34.14511,34.14483,34.0971,34.09699,34.17169,34.09373,34.16028,34.09359,34.08558,34.08571,34.09004,34.08993,34.15655,34.05987,34.07828,34.15646,34.15627,34.1562,34.08406,34.15402,34.16903,34.15564,34.04301,34.13583,34.16421,34.11966,34.14584,34.14559,34.17128,34.17339,34.22164,34.10377,34.10377,34.20112,34.20264,34.08265,34.08294,34.21356,34.1527,34.07488,34.07502,34.07696,34.17115,34.08102,34.07787,34.16526,34.1027,34.15397,34.19638,34.14929,34.14604,34.14163,34.16542,34.15133,34.10262],\"legendgroup\":\"\",\"lon\":[-118.31829,-118.23799,-118.23819,-118.26772,-118.26572,-118.25932,-118.23369,-118.22932,-118.47352,-118.4686,-118.38223,-118.22469,-118.28795,-118.30266,-118.47437,-118.26246,-118.23388,-118.28186,-118.19992,-118.33911,-118.33928,-118.19803,-118.34482,-118.21435,-118.27076,-118.27164,-118.47605,-118.22871,-118.22901,-118.22086,-118.22076,-118.39469,-118.33441,-118.25397,-118.47407,-118.20237,-118.34043,-118.29575,-118.23973,-118.34465,-118.3748,-118.47493,-118.28034,-118.46483,-118.20137,-118.20123,-118.21733,-118.42216,-118.23256,-118.25544,-118.20101,-118.28711,-118.41326,-118.2666,-118.29344,-118.22436,-118.24427,-118.34684,-118.29344,-118.47341,-118.43908,-118.37226,-118.28441,-118.43931,-118.20635,-118.20616,-118.21766,-118.3484,-118.3535,-118.41456,-118.37124,-118.3711,-118.37935,-118.39618,-118.35135,-118.43273,-118.44808,-118.46896,-118.24489,-118.22889,-118.28911,-118.45664,-118.45658,-118.39497,-118.46775,-118.22969,-118.50495,-118.50495,-118.47045,-118.47022,-118.40337,-118.24348,-118.22432,-118.24357,-118.33698,-118.27812,-118.32826,-118.32497,-118.34809,-118.40366,-118.49872,-118.23849,-118.36438,-118.36006,-118.46753,-118.2253,-118.2257,-118.22704,-118.22733,-118.27786,-118.24674,-118.2852,-118.29809,-118.39699,-118.2957,-118.325,-118.32751,-118.35921,-118.35921,-118.35506,-118.27372,-118.22351,-118.38812,-118.24209,-118.21451,-118.27969,-118.23931,-118.31601,-118.31581,-118.26825,-118.47012,-118.47224,-118.22862,-118.24279,-118.23182,-118.24819,-118.25126,-118.42222,-118.23661,-118.26501,-118.34232,-118.40424,-118.30266,-118.31253,-118.25102,-118.30841,-118.47484,-118.27178,-118.49166,-118.40931,-118.51814,-118.47395,-118.21587,-118.21587,-118.31366,-118.31381,-118.38801,-118.30907,-118.46808,-118.30918,-118.30174,-118.30161,-118.3059,-118.30607,-118.40441,-118.21492,-118.22834,-118.26092,-118.25506,-118.26359,-118.22974,-118.23893,-118.49885,-118.24188,-118.21724,-118.35993,-118.38246,-118.23143,-118.22251,-118.22251,-118.51976,-118.5368,-118.47307,-118.24992,-118.24962,-118.47361,-118.47326,-118.29755,-118.29729,-118.23113,-118.3754,-118.27362,-118.27356,-118.28093,-118.30539,-118.29325,-118.22871,-118.47985,-118.3173,-118.34172,-118.18442,-118.23182,-118.2243,-118.1829,-118.47985,-118.37456,-118.31747],\"marker\":{\"color\":\"#636efa\"},\"mode\":\"markers\",\"name\":\"\",\"showlegend\":false,\"subplot\":\"mapbox\",\"type\":\"scattermapbox\"}],                        {\"template\":{\"data\":{\"histogram2dcontour\":[{\"type\":\"histogram2dcontour\",\"colorbar\":{\"outlinewidth\":0,\"ticks\":\"\"},\"colorscale\":[[0.0,\"#0d0887\"],[0.1111111111111111,\"#46039f\"],[0.2222222222222222,\"#7201a8\"],[0.3333333333333333,\"#9c179e\"],[0.4444444444444444,\"#bd3786\"],[0.5555555555555556,\"#d8576b\"],[0.6666666666666666,\"#ed7953\"],[0.7777777777777778,\"#fb9f3a\"],[0.8888888888888888,\"#fdca26\"],[1.0,\"#f0f921\"]]}],\"choropleth\":[{\"type\":\"choropleth\",\"colorbar\":{\"outlinewidth\":0,\"ticks\":\"\"}}],\"histogram2d\":[{\"type\":\"histogram2d\",\"colorbar\":{\"outlinewidth\":0,\"ticks\":\"\"},\"colorscale\":[[0.0,\"#0d0887\"],[0.1111111111111111,\"#46039f\"],[0.2222222222222222,\"#7201a8\"],[0.3333333333333333,\"#9c179e\"],[0.4444444444444444,\"#bd3786\"],[0.5555555555555556,\"#d8576b\"],[0.6666666666666666,\"#ed7953\"],[0.7777777777777778,\"#fb9f3a\"],[0.8888888888888888,\"#fdca26\"],[1.0,\"#f0f921\"]]}],\"heatmap\":[{\"type\":\"heatmap\",\"colorbar\":{\"outlinewidth\":0,\"ticks\":\"\"},\"colorscale\":[[0.0,\"#0d0887\"],[0.1111111111111111,\"#46039f\"],[0.2222222222222222,\"#7201a8\"],[0.3333333333333333,\"#9c179e\"],[0.4444444444444444,\"#bd3786\"],[0.5555555555555556,\"#d8576b\"],[0.6666666666666666,\"#ed7953\"],[0.7777777777777778,\"#fb9f3a\"],[0.8888888888888888,\"#fdca26\"],[1.0,\"#f0f921\"]]}],\"heatmapgl\":[{\"type\":\"heatmapgl\",\"colorbar\":{\"outlinewidth\":0,\"ticks\":\"\"},\"colorscale\":[[0.0,\"#0d0887\"],[0.1111111111111111,\"#46039f\"],[0.2222222222222222,\"#7201a8\"],[0.3333333333333333,\"#9c179e\"],[0.4444444444444444,\"#bd3786\"],[0.5555555555555556,\"#d8576b\"],[0.6666666666666666,\"#ed7953\"],[0.7777777777777778,\"#fb9f3a\"],[0.8888888888888888,\"#fdca26\"],[1.0,\"#f0f921\"]]}],\"contourcarpet\":[{\"type\":\"contourcarpet\",\"colorbar\":{\"outlinewidth\":0,\"ticks\":\"\"}}],\"contour\":[{\"type\":\"contour\",\"colorbar\":{\"outlinewidth\":0,\"ticks\":\"\"},\"colorscale\":[[0.0,\"#0d0887\"],[0.1111111111111111,\"#46039f\"],[0.2222222222222222,\"#7201a8\"],[0.3333333333333333,\"#9c179e\"],[0.4444444444444444,\"#bd3786\"],[0.5555555555555556,\"#d8576b\"],[0.6666666666666666,\"#ed7953\"],[0.7777777777777778,\"#fb9f3a\"],[0.8888888888888888,\"#fdca26\"],[1.0,\"#f0f921\"]]}],\"surface\":[{\"type\":\"surface\",\"colorbar\":{\"outlinewidth\":0,\"ticks\":\"\"},\"colorscale\":[[0.0,\"#0d0887\"],[0.1111111111111111,\"#46039f\"],[0.2222222222222222,\"#7201a8\"],[0.3333333333333333,\"#9c179e\"],[0.4444444444444444,\"#bd3786\"],[0.5555555555555556,\"#d8576b\"],[0.6666666666666666,\"#ed7953\"],[0.7777777777777778,\"#fb9f3a\"],[0.8888888888888888,\"#fdca26\"],[1.0,\"#f0f921\"]]}],\"mesh3d\":[{\"type\":\"mesh3d\",\"colorbar\":{\"outlinewidth\":0,\"ticks\":\"\"}}],\"scatter\":[{\"fillpattern\":{\"fillmode\":\"overlay\",\"size\":10,\"solidity\":0.2},\"type\":\"scatter\"}],\"parcoords\":[{\"type\":\"parcoords\",\"line\":{\"colorbar\":{\"outlinewidth\":0,\"ticks\":\"\"}}}],\"scatterpolargl\":[{\"type\":\"scatterpolargl\",\"marker\":{\"colorbar\":{\"outlinewidth\":0,\"ticks\":\"\"}}}],\"bar\":[{\"error_x\":{\"color\":\"#2a3f5f\"},\"error_y\":{\"color\":\"#2a3f5f\"},\"marker\":{\"line\":{\"color\":\"#E5ECF6\",\"width\":0.5},\"pattern\":{\"fillmode\":\"overlay\",\"size\":10,\"solidity\":0.2}},\"type\":\"bar\"}],\"scattergeo\":[{\"type\":\"scattergeo\",\"marker\":{\"colorbar\":{\"outlinewidth\":0,\"ticks\":\"\"}}}],\"scatterpolar\":[{\"type\":\"scatterpolar\",\"marker\":{\"colorbar\":{\"outlinewidth\":0,\"ticks\":\"\"}}}],\"histogram\":[{\"marker\":{\"pattern\":{\"fillmode\":\"overlay\",\"size\":10,\"solidity\":0.2}},\"type\":\"histogram\"}],\"scattergl\":[{\"type\":\"scattergl\",\"marker\":{\"colorbar\":{\"outlinewidth\":0,\"ticks\":\"\"}}}],\"scatter3d\":[{\"type\":\"scatter3d\",\"line\":{\"colorbar\":{\"outlinewidth\":0,\"ticks\":\"\"}},\"marker\":{\"colorbar\":{\"outlinewidth\":0,\"ticks\":\"\"}}}],\"scattermapbox\":[{\"type\":\"scattermapbox\",\"marker\":{\"colorbar\":{\"outlinewidth\":0,\"ticks\":\"\"}}}],\"scatterternary\":[{\"type\":\"scatterternary\",\"marker\":{\"colorbar\":{\"outlinewidth\":0,\"ticks\":\"\"}}}],\"scattercarpet\":[{\"type\":\"scattercarpet\",\"marker\":{\"colorbar\":{\"outlinewidth\":0,\"ticks\":\"\"}}}],\"carpet\":[{\"aaxis\":{\"endlinecolor\":\"#2a3f5f\",\"gridcolor\":\"white\",\"linecolor\":\"white\",\"minorgridcolor\":\"white\",\"startlinecolor\":\"#2a3f5f\"},\"baxis\":{\"endlinecolor\":\"#2a3f5f\",\"gridcolor\":\"white\",\"linecolor\":\"white\",\"minorgridcolor\":\"white\",\"startlinecolor\":\"#2a3f5f\"},\"type\":\"carpet\"}],\"table\":[{\"cells\":{\"fill\":{\"color\":\"#EBF0F8\"},\"line\":{\"color\":\"white\"}},\"header\":{\"fill\":{\"color\":\"#C8D4E3\"},\"line\":{\"color\":\"white\"}},\"type\":\"table\"}],\"barpolar\":[{\"marker\":{\"line\":{\"color\":\"#E5ECF6\",\"width\":0.5},\"pattern\":{\"fillmode\":\"overlay\",\"size\":10,\"solidity\":0.2}},\"type\":\"barpolar\"}],\"pie\":[{\"automargin\":true,\"type\":\"pie\"}]},\"layout\":{\"autotypenumbers\":\"strict\",\"colorway\":[\"#636efa\",\"#EF553B\",\"#00cc96\",\"#ab63fa\",\"#FFA15A\",\"#19d3f3\",\"#FF6692\",\"#B6E880\",\"#FF97FF\",\"#FECB52\"],\"font\":{\"color\":\"#2a3f5f\"},\"hovermode\":\"closest\",\"hoverlabel\":{\"align\":\"left\"},\"paper_bgcolor\":\"white\",\"plot_bgcolor\":\"#E5ECF6\",\"polar\":{\"bgcolor\":\"#E5ECF6\",\"angularaxis\":{\"gridcolor\":\"white\",\"linecolor\":\"white\",\"ticks\":\"\"},\"radialaxis\":{\"gridcolor\":\"white\",\"linecolor\":\"white\",\"ticks\":\"\"}},\"ternary\":{\"bgcolor\":\"#E5ECF6\",\"aaxis\":{\"gridcolor\":\"white\",\"linecolor\":\"white\",\"ticks\":\"\"},\"baxis\":{\"gridcolor\":\"white\",\"linecolor\":\"white\",\"ticks\":\"\"},\"caxis\":{\"gridcolor\":\"white\",\"linecolor\":\"white\",\"ticks\":\"\"}},\"coloraxis\":{\"colorbar\":{\"outlinewidth\":0,\"ticks\":\"\"}},\"colorscale\":{\"sequential\":[[0.0,\"#0d0887\"],[0.1111111111111111,\"#46039f\"],[0.2222222222222222,\"#7201a8\"],[0.3333333333333333,\"#9c179e\"],[0.4444444444444444,\"#bd3786\"],[0.5555555555555556,\"#d8576b\"],[0.6666666666666666,\"#ed7953\"],[0.7777777777777778,\"#fb9f3a\"],[0.8888888888888888,\"#fdca26\"],[1.0,\"#f0f921\"]],\"sequentialminus\":[[0.0,\"#0d0887\"],[0.1111111111111111,\"#46039f\"],[0.2222222222222222,\"#7201a8\"],[0.3333333333333333,\"#9c179e\"],[0.4444444444444444,\"#bd3786\"],[0.5555555555555556,\"#d8576b\"],[0.6666666666666666,\"#ed7953\"],[0.7777777777777778,\"#fb9f3a\"],[0.8888888888888888,\"#fdca26\"],[1.0,\"#f0f921\"]],\"diverging\":[[0,\"#8e0152\"],[0.1,\"#c51b7d\"],[0.2,\"#de77ae\"],[0.3,\"#f1b6da\"],[0.4,\"#fde0ef\"],[0.5,\"#f7f7f7\"],[0.6,\"#e6f5d0\"],[0.7,\"#b8e186\"],[0.8,\"#7fbc41\"],[0.9,\"#4d9221\"],[1,\"#276419\"]]},\"xaxis\":{\"gridcolor\":\"white\",\"linecolor\":\"white\",\"ticks\":\"\",\"title\":{\"standoff\":15},\"zerolinecolor\":\"white\",\"automargin\":true,\"zerolinewidth\":2},\"yaxis\":{\"gridcolor\":\"white\",\"linecolor\":\"white\",\"ticks\":\"\",\"title\":{\"standoff\":15},\"zerolinecolor\":\"white\",\"automargin\":true,\"zerolinewidth\":2},\"scene\":{\"xaxis\":{\"backgroundcolor\":\"#E5ECF6\",\"gridcolor\":\"white\",\"linecolor\":\"white\",\"showbackground\":true,\"ticks\":\"\",\"zerolinecolor\":\"white\",\"gridwidth\":2},\"yaxis\":{\"backgroundcolor\":\"#E5ECF6\",\"gridcolor\":\"white\",\"linecolor\":\"white\",\"showbackground\":true,\"ticks\":\"\",\"zerolinecolor\":\"white\",\"gridwidth\":2},\"zaxis\":{\"backgroundcolor\":\"#E5ECF6\",\"gridcolor\":\"white\",\"linecolor\":\"white\",\"showbackground\":true,\"ticks\":\"\",\"zerolinecolor\":\"white\",\"gridwidth\":2}},\"shapedefaults\":{\"line\":{\"color\":\"#2a3f5f\"}},\"annotationdefaults\":{\"arrowcolor\":\"#2a3f5f\",\"arrowhead\":0,\"arrowwidth\":1},\"geo\":{\"bgcolor\":\"white\",\"landcolor\":\"#E5ECF6\",\"subunitcolor\":\"white\",\"showland\":true,\"showlakes\":true,\"lakecolor\":\"white\"},\"title\":{\"x\":0.05},\"mapbox\":{\"style\":\"light\"}}},\"mapbox\":{\"domain\":{\"x\":[0.0,1.0],\"y\":[0.0,1.0]},\"center\":{\"lat\":34.13685429951692,\"lon\":-118.32048154589368},\"zoom\":8,\"style\":\"open-street-map\"},\"legend\":{\"tracegroupgap\":0},\"margin\":{\"t\":0,\"r\":0,\"l\":0,\"b\":0}},                        {\"responsive\": true}                    ).then(function(){\n",
       "                            \n",
       "var gd = document.getElementById('a9c1642a-44a8-41c3-8ceb-8870054f613f');\n",
       "var x = new MutationObserver(function (mutations, observer) {{\n",
       "        var display = window.getComputedStyle(gd).display;\n",
       "        if (!display || display === 'none') {{\n",
       "            console.log([gd, 'removed!']);\n",
       "            Plotly.purge(gd);\n",
       "            observer.disconnect();\n",
       "        }}\n",
       "}});\n",
       "\n",
       "// Listen for the removal of the full notebook cells\n",
       "var notebookContainer = gd.closest('#notebook-container');\n",
       "if (notebookContainer) {{\n",
       "    x.observe(notebookContainer, {childList: true});\n",
       "}}\n",
       "\n",
       "// Listen for the clearing of the current output cell\n",
       "var outputEl = gd.closest('.output');\n",
       "if (outputEl) {{\n",
       "    x.observe(outputEl, {childList: true});\n",
       "}}\n",
       "\n",
       "                        })                };                });            </script>        </div>"
      ]
     },
     "metadata": {},
     "output_type": "display_data"
    }
   ],
   "source": [
    "df = pd.read_csv('graph_sensor_locations.csv')\n",
    "\n",
    "fig = px.scatter_mapbox(df, lat=\"latitude\", lon=\"longitude\", hover_data=[\"sensor_id\"])\n",
    "fig.update_layout(mapbox_style=\"open-street-map\")\n",
    "fig.update_layout(margin={\"r\":0,\"t\":0,\"l\":0,\"b\":0})\n",
    "fig.show()"
   ]
  },
  {
   "cell_type": "code",
   "execution_count": null,
   "id": "8d3681ea",
   "metadata": {},
   "outputs": [],
   "source": []
  }
 ],
 "metadata": {
  "kernelspec": {
   "display_name": "hdf",
   "language": "python",
   "name": "hdf"
  },
  "language_info": {
   "codemirror_mode": {
    "name": "ipython",
    "version": 3
   },
   "file_extension": ".py",
   "mimetype": "text/x-python",
   "name": "python",
   "nbconvert_exporter": "python",
   "pygments_lexer": "ipython3",
   "version": "3.7.15"
  }
 },
 "nbformat": 4,
 "nbformat_minor": 5
}
