{
 "cells": [
  {
   "cell_type": "code",
   "execution_count": 1,
   "id": "afe68f35",
   "metadata": {},
   "outputs": [],
   "source": [
    "import pandas as pd\n",
    "import numpy as np\n",
    "import pickle"
   ]
  },
  {
   "cell_type": "code",
   "execution_count": 5,
   "id": "072ad621",
   "metadata": {},
   "outputs": [
    {
     "data": {
      "text/html": [
       "<div>\n",
       "<style scoped>\n",
       "    .dataframe tbody tr th:only-of-type {\n",
       "        vertical-align: middle;\n",
       "    }\n",
       "\n",
       "    .dataframe tbody tr th {\n",
       "        vertical-align: top;\n",
       "    }\n",
       "\n",
       "    .dataframe thead th {\n",
       "        text-align: right;\n",
       "    }\n",
       "</style>\n",
       "<table border=\"1\" class=\"dataframe\">\n",
       "  <thead>\n",
       "    <tr style=\"text-align: right;\">\n",
       "      <th></th>\n",
       "      <th>1210007700</th>\n",
       "      <th>1210008500</th>\n",
       "      <th>1210009500</th>\n",
       "      <th>1210010300</th>\n",
       "      <th>1210011300</th>\n",
       "      <th>1210013700</th>\n",
       "      <th>1220011900</th>\n",
       "      <th>1220016300</th>\n",
       "      <th>1220021100</th>\n",
       "      <th>1220025100</th>\n",
       "      <th>...</th>\n",
       "      <th>1210013800</th>\n",
       "      <th>1210013000</th>\n",
       "      <th>1210012200</th>\n",
       "      <th>1210012300</th>\n",
       "      <th>1210013100</th>\n",
       "      <th>1210013900</th>\n",
       "      <th>1210014900</th>\n",
       "      <th>1210015900</th>\n",
       "      <th>1210017100</th>\n",
       "      <th>1210018300</th>\n",
       "    </tr>\n",
       "  </thead>\n",
       "  <tbody>\n",
       "    <tr>\n",
       "      <th>1210007700</th>\n",
       "      <td>1.000000</td>\n",
       "      <td>0.403277</td>\n",
       "      <td>0.000000</td>\n",
       "      <td>0.000000</td>\n",
       "      <td>0.000000</td>\n",
       "      <td>0.000000</td>\n",
       "      <td>0.0</td>\n",
       "      <td>0.000000</td>\n",
       "      <td>0.0</td>\n",
       "      <td>0.0</td>\n",
       "      <td>...</td>\n",
       "      <td>0.000000</td>\n",
       "      <td>0.000000</td>\n",
       "      <td>0.000000</td>\n",
       "      <td>0.0</td>\n",
       "      <td>0.000000</td>\n",
       "      <td>0.000000</td>\n",
       "      <td>0.000000</td>\n",
       "      <td>0.000000</td>\n",
       "      <td>0.000000</td>\n",
       "      <td>0.0</td>\n",
       "    </tr>\n",
       "    <tr>\n",
       "      <th>1210008500</th>\n",
       "      <td>0.403277</td>\n",
       "      <td>1.000000</td>\n",
       "      <td>0.911334</td>\n",
       "      <td>0.000000</td>\n",
       "      <td>0.000000</td>\n",
       "      <td>0.000000</td>\n",
       "      <td>0.0</td>\n",
       "      <td>0.000000</td>\n",
       "      <td>0.0</td>\n",
       "      <td>0.0</td>\n",
       "      <td>...</td>\n",
       "      <td>0.000000</td>\n",
       "      <td>0.000000</td>\n",
       "      <td>0.000000</td>\n",
       "      <td>0.0</td>\n",
       "      <td>0.000000</td>\n",
       "      <td>0.000000</td>\n",
       "      <td>0.000000</td>\n",
       "      <td>0.000000</td>\n",
       "      <td>0.000000</td>\n",
       "      <td>0.0</td>\n",
       "    </tr>\n",
       "    <tr>\n",
       "      <th>1210009500</th>\n",
       "      <td>0.000000</td>\n",
       "      <td>0.911334</td>\n",
       "      <td>1.000000</td>\n",
       "      <td>0.374877</td>\n",
       "      <td>0.000000</td>\n",
       "      <td>0.000000</td>\n",
       "      <td>0.0</td>\n",
       "      <td>0.000000</td>\n",
       "      <td>0.0</td>\n",
       "      <td>0.0</td>\n",
       "      <td>...</td>\n",
       "      <td>0.000000</td>\n",
       "      <td>0.000000</td>\n",
       "      <td>0.000000</td>\n",
       "      <td>0.0</td>\n",
       "      <td>0.000000</td>\n",
       "      <td>0.000000</td>\n",
       "      <td>0.000000</td>\n",
       "      <td>0.000000</td>\n",
       "      <td>0.000000</td>\n",
       "      <td>0.0</td>\n",
       "    </tr>\n",
       "    <tr>\n",
       "      <th>1210010300</th>\n",
       "      <td>0.000000</td>\n",
       "      <td>0.000000</td>\n",
       "      <td>0.374877</td>\n",
       "      <td>1.000000</td>\n",
       "      <td>0.798147</td>\n",
       "      <td>0.000000</td>\n",
       "      <td>0.0</td>\n",
       "      <td>0.000000</td>\n",
       "      <td>0.0</td>\n",
       "      <td>0.0</td>\n",
       "      <td>...</td>\n",
       "      <td>0.000000</td>\n",
       "      <td>0.000000</td>\n",
       "      <td>0.000000</td>\n",
       "      <td>0.0</td>\n",
       "      <td>0.000000</td>\n",
       "      <td>0.000000</td>\n",
       "      <td>0.000000</td>\n",
       "      <td>0.000000</td>\n",
       "      <td>0.000000</td>\n",
       "      <td>0.0</td>\n",
       "    </tr>\n",
       "    <tr>\n",
       "      <th>1210011300</th>\n",
       "      <td>0.000000</td>\n",
       "      <td>0.000000</td>\n",
       "      <td>0.000000</td>\n",
       "      <td>0.798147</td>\n",
       "      <td>1.000000</td>\n",
       "      <td>0.688206</td>\n",
       "      <td>0.0</td>\n",
       "      <td>0.000000</td>\n",
       "      <td>0.0</td>\n",
       "      <td>0.0</td>\n",
       "      <td>...</td>\n",
       "      <td>0.000000</td>\n",
       "      <td>0.000000</td>\n",
       "      <td>0.000000</td>\n",
       "      <td>0.0</td>\n",
       "      <td>0.000000</td>\n",
       "      <td>0.000000</td>\n",
       "      <td>0.000000</td>\n",
       "      <td>0.000000</td>\n",
       "      <td>0.000000</td>\n",
       "      <td>0.0</td>\n",
       "    </tr>\n",
       "    <tr>\n",
       "      <th>...</th>\n",
       "      <td>...</td>\n",
       "      <td>...</td>\n",
       "      <td>...</td>\n",
       "      <td>...</td>\n",
       "      <td>...</td>\n",
       "      <td>...</td>\n",
       "      <td>...</td>\n",
       "      <td>...</td>\n",
       "      <td>...</td>\n",
       "      <td>...</td>\n",
       "      <td>...</td>\n",
       "      <td>...</td>\n",
       "      <td>...</td>\n",
       "      <td>...</td>\n",
       "      <td>...</td>\n",
       "      <td>...</td>\n",
       "      <td>...</td>\n",
       "      <td>...</td>\n",
       "      <td>...</td>\n",
       "      <td>...</td>\n",
       "      <td>...</td>\n",
       "    </tr>\n",
       "    <tr>\n",
       "      <th>1210013900</th>\n",
       "      <td>0.000000</td>\n",
       "      <td>0.000000</td>\n",
       "      <td>0.000000</td>\n",
       "      <td>0.000000</td>\n",
       "      <td>0.000000</td>\n",
       "      <td>0.000000</td>\n",
       "      <td>0.0</td>\n",
       "      <td>0.000000</td>\n",
       "      <td>0.0</td>\n",
       "      <td>0.0</td>\n",
       "      <td>...</td>\n",
       "      <td>0.150989</td>\n",
       "      <td>0.999506</td>\n",
       "      <td>0.475062</td>\n",
       "      <td>0.0</td>\n",
       "      <td>0.475062</td>\n",
       "      <td>1.000000</td>\n",
       "      <td>0.150989</td>\n",
       "      <td>0.000000</td>\n",
       "      <td>0.000000</td>\n",
       "      <td>0.0</td>\n",
       "    </tr>\n",
       "    <tr>\n",
       "      <th>1210014900</th>\n",
       "      <td>0.000000</td>\n",
       "      <td>0.000000</td>\n",
       "      <td>0.000000</td>\n",
       "      <td>0.000000</td>\n",
       "      <td>0.000000</td>\n",
       "      <td>0.000000</td>\n",
       "      <td>0.0</td>\n",
       "      <td>0.000000</td>\n",
       "      <td>0.0</td>\n",
       "      <td>0.0</td>\n",
       "      <td>...</td>\n",
       "      <td>0.999506</td>\n",
       "      <td>0.150989</td>\n",
       "      <td>0.000000</td>\n",
       "      <td>0.0</td>\n",
       "      <td>0.000000</td>\n",
       "      <td>0.150989</td>\n",
       "      <td>1.000000</td>\n",
       "      <td>0.138531</td>\n",
       "      <td>0.000000</td>\n",
       "      <td>0.0</td>\n",
       "    </tr>\n",
       "    <tr>\n",
       "      <th>1210015900</th>\n",
       "      <td>0.000000</td>\n",
       "      <td>0.000000</td>\n",
       "      <td>0.000000</td>\n",
       "      <td>0.000000</td>\n",
       "      <td>0.000000</td>\n",
       "      <td>0.000000</td>\n",
       "      <td>0.0</td>\n",
       "      <td>0.000000</td>\n",
       "      <td>0.0</td>\n",
       "      <td>0.0</td>\n",
       "      <td>...</td>\n",
       "      <td>0.138531</td>\n",
       "      <td>0.000000</td>\n",
       "      <td>0.000000</td>\n",
       "      <td>0.0</td>\n",
       "      <td>0.000000</td>\n",
       "      <td>0.000000</td>\n",
       "      <td>0.138531</td>\n",
       "      <td>1.000000</td>\n",
       "      <td>0.384952</td>\n",
       "      <td>0.0</td>\n",
       "    </tr>\n",
       "    <tr>\n",
       "      <th>1210017100</th>\n",
       "      <td>0.000000</td>\n",
       "      <td>0.000000</td>\n",
       "      <td>0.000000</td>\n",
       "      <td>0.000000</td>\n",
       "      <td>0.000000</td>\n",
       "      <td>0.000000</td>\n",
       "      <td>0.0</td>\n",
       "      <td>0.000000</td>\n",
       "      <td>0.0</td>\n",
       "      <td>0.0</td>\n",
       "      <td>...</td>\n",
       "      <td>0.000000</td>\n",
       "      <td>0.000000</td>\n",
       "      <td>0.000000</td>\n",
       "      <td>0.0</td>\n",
       "      <td>0.000000</td>\n",
       "      <td>0.000000</td>\n",
       "      <td>0.000000</td>\n",
       "      <td>0.384952</td>\n",
       "      <td>1.000000</td>\n",
       "      <td>0.0</td>\n",
       "    </tr>\n",
       "    <tr>\n",
       "      <th>1210018300</th>\n",
       "      <td>0.000000</td>\n",
       "      <td>0.000000</td>\n",
       "      <td>0.000000</td>\n",
       "      <td>0.000000</td>\n",
       "      <td>0.000000</td>\n",
       "      <td>0.000000</td>\n",
       "      <td>0.0</td>\n",
       "      <td>0.584982</td>\n",
       "      <td>0.0</td>\n",
       "      <td>0.0</td>\n",
       "      <td>...</td>\n",
       "      <td>0.000000</td>\n",
       "      <td>0.000000</td>\n",
       "      <td>0.000000</td>\n",
       "      <td>0.0</td>\n",
       "      <td>0.000000</td>\n",
       "      <td>0.000000</td>\n",
       "      <td>0.000000</td>\n",
       "      <td>0.000000</td>\n",
       "      <td>0.000000</td>\n",
       "      <td>1.0</td>\n",
       "    </tr>\n",
       "  </tbody>\n",
       "</table>\n",
       "<p>506 rows × 506 columns</p>\n",
       "</div>"
      ],
      "text/plain": [
       "            1210007700  1210008500  1210009500  1210010300  1210011300  \\\n",
       "1210007700    1.000000    0.403277    0.000000    0.000000    0.000000   \n",
       "1210008500    0.403277    1.000000    0.911334    0.000000    0.000000   \n",
       "1210009500    0.000000    0.911334    1.000000    0.374877    0.000000   \n",
       "1210010300    0.000000    0.000000    0.374877    1.000000    0.798147   \n",
       "1210011300    0.000000    0.000000    0.000000    0.798147    1.000000   \n",
       "...                ...         ...         ...         ...         ...   \n",
       "1210013900    0.000000    0.000000    0.000000    0.000000    0.000000   \n",
       "1210014900    0.000000    0.000000    0.000000    0.000000    0.000000   \n",
       "1210015900    0.000000    0.000000    0.000000    0.000000    0.000000   \n",
       "1210017100    0.000000    0.000000    0.000000    0.000000    0.000000   \n",
       "1210018300    0.000000    0.000000    0.000000    0.000000    0.000000   \n",
       "\n",
       "            1210013700  1220011900  1220016300  1220021100  1220025100  ...  \\\n",
       "1210007700    0.000000         0.0    0.000000         0.0         0.0  ...   \n",
       "1210008500    0.000000         0.0    0.000000         0.0         0.0  ...   \n",
       "1210009500    0.000000         0.0    0.000000         0.0         0.0  ...   \n",
       "1210010300    0.000000         0.0    0.000000         0.0         0.0  ...   \n",
       "1210011300    0.688206         0.0    0.000000         0.0         0.0  ...   \n",
       "...                ...         ...         ...         ...         ...  ...   \n",
       "1210013900    0.000000         0.0    0.000000         0.0         0.0  ...   \n",
       "1210014900    0.000000         0.0    0.000000         0.0         0.0  ...   \n",
       "1210015900    0.000000         0.0    0.000000         0.0         0.0  ...   \n",
       "1210017100    0.000000         0.0    0.000000         0.0         0.0  ...   \n",
       "1210018300    0.000000         0.0    0.584982         0.0         0.0  ...   \n",
       "\n",
       "            1210013800  1210013000  1210012200  1210012300  1210013100  \\\n",
       "1210007700    0.000000    0.000000    0.000000         0.0    0.000000   \n",
       "1210008500    0.000000    0.000000    0.000000         0.0    0.000000   \n",
       "1210009500    0.000000    0.000000    0.000000         0.0    0.000000   \n",
       "1210010300    0.000000    0.000000    0.000000         0.0    0.000000   \n",
       "1210011300    0.000000    0.000000    0.000000         0.0    0.000000   \n",
       "...                ...         ...         ...         ...         ...   \n",
       "1210013900    0.150989    0.999506    0.475062         0.0    0.475062   \n",
       "1210014900    0.999506    0.150989    0.000000         0.0    0.000000   \n",
       "1210015900    0.138531    0.000000    0.000000         0.0    0.000000   \n",
       "1210017100    0.000000    0.000000    0.000000         0.0    0.000000   \n",
       "1210018300    0.000000    0.000000    0.000000         0.0    0.000000   \n",
       "\n",
       "            1210013900  1210014900  1210015900  1210017100  1210018300  \n",
       "1210007700    0.000000    0.000000    0.000000    0.000000         0.0  \n",
       "1210008500    0.000000    0.000000    0.000000    0.000000         0.0  \n",
       "1210009500    0.000000    0.000000    0.000000    0.000000         0.0  \n",
       "1210010300    0.000000    0.000000    0.000000    0.000000         0.0  \n",
       "1210011300    0.000000    0.000000    0.000000    0.000000         0.0  \n",
       "...                ...         ...         ...         ...         ...  \n",
       "1210013900    1.000000    0.150989    0.000000    0.000000         0.0  \n",
       "1210014900    0.150989    1.000000    0.138531    0.000000         0.0  \n",
       "1210015900    0.000000    0.138531    1.000000    0.384952         0.0  \n",
       "1210017100    0.000000    0.000000    0.384952    1.000000         0.0  \n",
       "1210018300    0.000000    0.000000    0.000000    0.000000         1.0  \n",
       "\n",
       "[506 rows x 506 columns]"
      ]
     },
     "execution_count": 5,
     "metadata": {},
     "output_type": "execute_result"
    }
   ],
   "source": [
    "with open('adj_mx_Seoul_all.pkl', 'rb') as f:\n",
    "    data = pickle.load(f)\n",
    "    \n",
    "adj = data[2]\n",
    "adj_col = data[0]\n",
    "\n",
    "adj_df = pd.DataFrame(adj, columns=adj_col, index = adj_col)\n",
    "adj_df"
   ]
  },
  {
   "cell_type": "code",
   "execution_count": 9,
   "id": "5e95737f",
   "metadata": {},
   "outputs": [],
   "source": [
    "df0 = pd.read_csv('speed_gangnam_0.csv').drop(columns=['Unnamed: 0'])\n",
    "df5 = pd.read_csv('speed_gangnam_5.csv').drop(columns=['Unnamed: 0'])"
   ]
  },
  {
   "cell_type": "code",
   "execution_count": 19,
   "id": "f1b5fc32",
   "metadata": {},
   "outputs": [],
   "source": [
    "result = []\n",
    "mx, my = np.shape(df0.values)\n",
    "fx, fy = np.shape(adj)"
   ]
  },
  {
   "cell_type": "code",
   "execution_count": 21,
   "id": "4176c08a",
   "metadata": {},
   "outputs": [],
   "source": [
    "df0_val = df0.values"
   ]
  },
  {
   "cell_type": "code",
   "execution_count": 23,
   "id": "458ce8f7",
   "metadata": {},
   "outputs": [],
   "source": [
    "for i in range(mx-fx+1):\n",
    "    for j in range(my-fy+1):\n",
    "        result.append((df0_val[i:i+fy,j:j+fy] * adj).sum())"
   ]
  },
  {
   "cell_type": "code",
   "execution_count": 24,
   "id": "1df0e84d",
   "metadata": {},
   "outputs": [
    {
     "data": {
      "text/plain": [
       "(2375,)"
      ]
     },
     "execution_count": 24,
     "metadata": {},
     "output_type": "execute_result"
    }
   ],
   "source": [
    "result = np.array(result)\n",
    "result.shape"
   ]
  },
  {
   "cell_type": "code",
   "execution_count": 29,
   "id": "6e2af184",
   "metadata": {},
   "outputs": [
    {
     "data": {
      "text/plain": [
       "array([ 5, 14, 26, 40, 55, 40, 26, 14,  5])"
      ]
     },
     "execution_count": 29,
     "metadata": {},
     "output_type": "execute_result"
    }
   ],
   "source": [
    "np.convolve([1,2,3,4,5], [5,4,3,2,1])"
   ]
  },
  {
   "cell_type": "code",
   "execution_count": 28,
   "id": "87e97876",
   "metadata": {},
   "outputs": [
    {
     "data": {
      "text/plain": [
       "(array([26, 40, 55, 40, 26]), array([55]))"
      ]
     },
     "execution_count": 28,
     "metadata": {},
     "output_type": "execute_result"
    }
   ],
   "source": [
    "np.convolve([1,2,3,4,5], [5,4,3,2,1], 'same'), np.convolve([1,2,3,4,5], [5,4,3,2,1], 'valid')"
   ]
  },
  {
   "cell_type": "code",
   "execution_count": 70,
   "id": "1d012678",
   "metadata": {},
   "outputs": [
    {
     "data": {
      "text/plain": [
       "((506,), (506,))"
      ]
     },
     "execution_count": 70,
     "metadata": {},
     "output_type": "execute_result"
    }
   ],
   "source": [
    "x1 = df0_val[0]\n",
    "x2 = df0_val[1]\n",
    "x1.shape, x2.shape"
   ]
  },
  {
   "cell_type": "code",
   "execution_count": 71,
   "id": "2edbc9b1",
   "metadata": {},
   "outputs": [],
   "source": [
    "from sklearn.preprocessing import StandardScaler\n",
    "\n",
    "scaler = StandardScaler()"
   ]
  },
  {
   "cell_type": "code",
   "execution_count": 72,
   "id": "84ffc015",
   "metadata": {},
   "outputs": [
    {
     "data": {
      "text/html": [
       "<style>#sk-container-id-3 {color: black;background-color: white;}#sk-container-id-3 pre{padding: 0;}#sk-container-id-3 div.sk-toggleable {background-color: white;}#sk-container-id-3 label.sk-toggleable__label {cursor: pointer;display: block;width: 100%;margin-bottom: 0;padding: 0.3em;box-sizing: border-box;text-align: center;}#sk-container-id-3 label.sk-toggleable__label-arrow:before {content: \"▸\";float: left;margin-right: 0.25em;color: #696969;}#sk-container-id-3 label.sk-toggleable__label-arrow:hover:before {color: black;}#sk-container-id-3 div.sk-estimator:hover label.sk-toggleable__label-arrow:before {color: black;}#sk-container-id-3 div.sk-toggleable__content {max-height: 0;max-width: 0;overflow: hidden;text-align: left;background-color: #f0f8ff;}#sk-container-id-3 div.sk-toggleable__content pre {margin: 0.2em;color: black;border-radius: 0.25em;background-color: #f0f8ff;}#sk-container-id-3 input.sk-toggleable__control:checked~div.sk-toggleable__content {max-height: 200px;max-width: 100%;overflow: auto;}#sk-container-id-3 input.sk-toggleable__control:checked~label.sk-toggleable__label-arrow:before {content: \"▾\";}#sk-container-id-3 div.sk-estimator input.sk-toggleable__control:checked~label.sk-toggleable__label {background-color: #d4ebff;}#sk-container-id-3 div.sk-label input.sk-toggleable__control:checked~label.sk-toggleable__label {background-color: #d4ebff;}#sk-container-id-3 input.sk-hidden--visually {border: 0;clip: rect(1px 1px 1px 1px);clip: rect(1px, 1px, 1px, 1px);height: 1px;margin: -1px;overflow: hidden;padding: 0;position: absolute;width: 1px;}#sk-container-id-3 div.sk-estimator {font-family: monospace;background-color: #f0f8ff;border: 1px dotted black;border-radius: 0.25em;box-sizing: border-box;margin-bottom: 0.5em;}#sk-container-id-3 div.sk-estimator:hover {background-color: #d4ebff;}#sk-container-id-3 div.sk-parallel-item::after {content: \"\";width: 100%;border-bottom: 1px solid gray;flex-grow: 1;}#sk-container-id-3 div.sk-label:hover label.sk-toggleable__label {background-color: #d4ebff;}#sk-container-id-3 div.sk-serial::before {content: \"\";position: absolute;border-left: 1px solid gray;box-sizing: border-box;top: 0;bottom: 0;left: 50%;z-index: 0;}#sk-container-id-3 div.sk-serial {display: flex;flex-direction: column;align-items: center;background-color: white;padding-right: 0.2em;padding-left: 0.2em;position: relative;}#sk-container-id-3 div.sk-item {position: relative;z-index: 1;}#sk-container-id-3 div.sk-parallel {display: flex;align-items: stretch;justify-content: center;background-color: white;position: relative;}#sk-container-id-3 div.sk-item::before, #sk-container-id-3 div.sk-parallel-item::before {content: \"\";position: absolute;border-left: 1px solid gray;box-sizing: border-box;top: 0;bottom: 0;left: 50%;z-index: -1;}#sk-container-id-3 div.sk-parallel-item {display: flex;flex-direction: column;z-index: 1;position: relative;background-color: white;}#sk-container-id-3 div.sk-parallel-item:first-child::after {align-self: flex-end;width: 50%;}#sk-container-id-3 div.sk-parallel-item:last-child::after {align-self: flex-start;width: 50%;}#sk-container-id-3 div.sk-parallel-item:only-child::after {width: 0;}#sk-container-id-3 div.sk-dashed-wrapped {border: 1px dashed gray;margin: 0 0.4em 0.5em 0.4em;box-sizing: border-box;padding-bottom: 0.4em;background-color: white;}#sk-container-id-3 div.sk-label label {font-family: monospace;font-weight: bold;display: inline-block;line-height: 1.2em;}#sk-container-id-3 div.sk-label-container {text-align: center;}#sk-container-id-3 div.sk-container {/* jupyter's `normalize.less` sets `[hidden] { display: none; }` but bootstrap.min.css set `[hidden] { display: none !important; }` so we also need the `!important` here to be able to override the default hidden behavior on the sphinx rendered scikit-learn.org. See: https://github.com/scikit-learn/scikit-learn/issues/21755 */display: inline-block !important;position: relative;}#sk-container-id-3 div.sk-text-repr-fallback {display: none;}</style><div id=\"sk-container-id-3\" class=\"sk-top-container\"><div class=\"sk-text-repr-fallback\"><pre>StandardScaler()</pre><b>In a Jupyter environment, please rerun this cell to show the HTML representation or trust the notebook. <br />On GitHub, the HTML representation is unable to render, please try loading this page with nbviewer.org.</b></div><div class=\"sk-container\" hidden><div class=\"sk-item\"><div class=\"sk-estimator sk-toggleable\"><input class=\"sk-toggleable__control sk-hidden--visually\" id=\"sk-estimator-id-3\" type=\"checkbox\" checked><label for=\"sk-estimator-id-3\" class=\"sk-toggleable__label sk-toggleable__label-arrow\">StandardScaler</label><div class=\"sk-toggleable__content\"><pre>StandardScaler()</pre></div></div></div></div></div>"
      ],
      "text/plain": [
       "StandardScaler()"
      ]
     },
     "execution_count": 72,
     "metadata": {},
     "output_type": "execute_result"
    }
   ],
   "source": [
    "scaler.fit(df0_val)"
   ]
  },
  {
   "cell_type": "code",
   "execution_count": 73,
   "id": "38c49804",
   "metadata": {},
   "outputs": [],
   "source": [
    "x1 = scaler.transform(x1.reshape(1, -1)).reshape(-1,)\n",
    "x2 = scaler.transform(x2.reshape(1, -1)).reshape(-1,)"
   ]
  },
  {
   "cell_type": "code",
   "execution_count": 74,
   "id": "39ca9cfd",
   "metadata": {
    "scrolled": true
   },
   "outputs": [
    {
     "data": {
      "text/plain": [
       "[<matplotlib.lines.Line2D at 0x235819e9e80>]"
      ]
     },
     "execution_count": 74,
     "metadata": {},
     "output_type": "execute_result"
    },
    {
     "data": {
      "image/png": "[encoded data removed]",
      "text/plain": [
       "<Figure size 640x480 with 1 Axes>"
      ]
     },
     "metadata": {},
     "output_type": "display_data"
    }
   ],
   "source": [
    "import matplotlib.pyplot as plt\n",
    "\n",
    "plt.plot(x1)"
   ]
  },
  {
   "cell_type": "code",
   "execution_count": 80,
   "id": "eece83a5",
   "metadata": {},
   "outputs": [
    {
     "data": {
      "text/plain": [
       "(1011,)"
      ]
     },
     "execution_count": 80,
     "metadata": {},
     "output_type": "execute_result"
    }
   ],
   "source": [
    "np.convolve(x1, x2).shape"
   ]
  },
  {
   "cell_type": "code",
   "execution_count": 84,
   "id": "71dcbb3c",
   "metadata": {},
   "outputs": [],
   "source": [
    "t = scaler.transform(np.convolve(x1, x2, 'same').reshape(1, -1)).reshape(-1,)"
   ]
  },
  {
   "cell_type": "code",
   "execution_count": 86,
   "id": "0008be57",
   "metadata": {},
   "outputs": [
    {
     "data": {
      "text/plain": [
       "[<matplotlib.lines.Line2D at 0x23581c12df0>]"
      ]
     },
     "execution_count": 86,
     "metadata": {},
     "output_type": "execute_result"
    },
    {
     "data": {
      "image/png": "[encoded data removed]",
      "text/plain": [
       "<Figure size 640x480 with 1 Axes>"
      ]
     },
     "metadata": {},
     "output_type": "display_data"
    }
   ],
   "source": [
    "plt.plot(t)"
   ]
  },
  {
   "cell_type": "code",
   "execution_count": null,
   "id": "7426a71f",
   "metadata": {},
   "outputs": [],
   "source": []
  }
 ],
 "metadata": {
  "kernelspec": {
   "display_name": "torchgpu",
   "language": "python",
   "name": "torchgpu"
  },
  "language_info": {
   "codemirror_mode": {
    "name": "ipython",
    "version": 3
   },
   "file_extension": ".py",
   "mimetype": "text/x-python",
   "name": "python",
   "nbconvert_exporter": "python",
   "pygments_lexer": "ipython3",
   "version": "3.8.16"
  }
 },
 "nbformat": 4,
 "nbformat_minor": 5
}
