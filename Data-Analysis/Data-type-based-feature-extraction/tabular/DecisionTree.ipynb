{
  "nbformat": 4,
  "nbformat_minor": 0,
  "metadata": {
    "colab": {
      "provenance": []
    },
    "kernelspec": {
      "name": "python3",
      "display_name": "Python 3"
    },
    "language_info": {
      "name": "python"
    }
  },
  "cells": [
    {
      "cell_type": "code",
      "execution_count": null,
      "metadata": {
        "id": "_s5KSN4uQ-43"
      },
      "outputs": [],
      "source": [
        "# 데이터 불러오기\n",
        "import seaborn as sns\n",
        "iris = sns.load_dataset('iris')\n",
        "\n",
        "X = iris.drop('species', axis=1) # 'species'열을 drop하고 input X를 정의\n",
        "y = iris['species']"
      ]
    },
    {
      "cell_type": "code",
      "source": [
        "# y data를 범주형으로 변환\n",
        "from sklearn.preprocessing import LabelEncoder    # LabelEncoder() method를 불러옴\n",
        "classle = LabelEncoder()\n",
        "y = classle.fit_transform(iris['species'].values) # species 열의 문자열을 categorical 값으로 전환"
      ],
      "metadata": {
        "id": "tHCEdzAjRF06"
      },
      "execution_count": null,
      "outputs": []
    },
    {
      "cell_type": "code",
      "source": [
        "\n",
        "# 전체 data를 training set과 test set으로 split\n",
        "from sklearn.model_selection import train_test_split\n",
        "X_train, X_test, y_train, y_test = train_test_split(X, y, test_size=0.3, random_state=1, stratify=y)"
      ],
      "metadata": {
        "id": "5BNNu9_RRIYw"
      },
      "execution_count": null,
      "outputs": []
    },
    {
      "cell_type": "code",
      "source": [
        "# 표준화\n",
        "from sklearn.preprocessing import StandardScaler\n",
        "sc = StandardScaler()\n",
        "sc.fit(X_train)\n",
        "X_train_std = sc.transform(X_train)\n",
        "X_test_std = sc.transform(X_test)\n",
        "     "
      ],
      "metadata": {
        "id": "ErxemeiPRIWZ"
      },
      "execution_count": null,
      "outputs": []
    },
    {
      "cell_type": "code",
      "source": [
        "# Classification Tree# 또는 from sklearn import DecisionTreeClassifier\n",
        "from sklearn import tree\n",
        "# 과적합 사례 확인 법: max_depth 3=> 5=> 7 높일 수록 학습 데이터 정확도 올라라고 테스트 정확도 고정\n",
        "dtc = tree.DecisionTreeClassifier(criterion='gini', max_depth=5, random_state=1)\n",
        "#dtc = tree.DecisionTreeClassifier(criterion='entropy', max_depth=7, random_state=1)\n",
        "dtc.fit(X_train, y_train)\n",
        "y_train_pred = dtc.predict(X_train)  # Training accuracy\n",
        "y_test_pred = dtc.predict(X_test)    # Test accuracy\n",
        "     "
      ],
      "metadata": {
        "id": "ihbTKErORKD9"
      },
      "execution_count": null,
      "outputs": []
    },
    {
      "cell_type": "code",
      "source": [
        "from sklearn.metrics import accuracy_score\n",
        "print(accuracy_score(y_train, y_train_pred))\n",
        "print(accuracy_score(y_test, y_test_pred))"
      ],
      "metadata": {
        "id": "aL5NCB8MRISb"
      },
      "execution_count": null,
      "outputs": []
    },
    {
      "cell_type": "code",
      "source": [
        "from sklearn.metrics import confusion_matrix\n",
        "print(confusion_matrix(y_test,y_test_pred))"
      ],
      "metadata": {
        "id": "pVZuiLOtRIQO"
      },
      "execution_count": null,
      "outputs": []
    },
    {
      "cell_type": "code",
      "source": [
        "import matplotlib.pyplot as plt\n",
        "#tree.plot_tree(dtc.fit(X_train,y_train))\n",
        "fig, ax = plt.subplots(figsize=(25, 12))\n",
        "tree.plot_tree(dtc.fit(X_train, y_train), fontsize=15)\n",
        "plt.savefig('tree_high_dpi', dpi=100)\n",
        "     "
      ],
      "metadata": {
        "id": "R0vr7bgIRIN4"
      },
      "execution_count": null,
      "outputs": []
    },
    {
      "cell_type": "code",
      "source": [
        "# Accuracy score\n",
        "from sklearn import metrics\n",
        "print(metrics.accuracy_score(y_train, y_train_pred))\n",
        "print(metrics.accuracy_score(y_test, y_test_pred))"
      ],
      "metadata": {
        "id": "pQVbzYNpRILm"
      },
      "execution_count": null,
      "outputs": []
    },
    {
      "cell_type": "code",
      "source": [
        "from sklearn import metrics\n",
        "\n",
        "# Confusion matrix\n",
        "print(metrics.confusion_matrix(y_test, y_test_pred))"
      ],
      "metadata": {
        "id": "eYAAMzFGRIJL"
      },
      "execution_count": null,
      "outputs": []
    },
    {
      "cell_type": "code",
      "source": [
        "#from sklearn import tree\n",
        "\n",
        "import numpy as np\n",
        "from sklearn.tree import DecisionTreeRegressor\n",
        "import matplotlib.pyplot as plt\n",
        "\n",
        "# Create a random dataset\n",
        "rng = np.random.RandomState(1)\n",
        "X = np.sort(5 * rng.rand(80, 1), axis=0)\n",
        "y = np.sin(X).ravel()\n",
        "y[::5] += 3 * (0.5 - rng.rand(16))"
      ],
      "metadata": {
        "id": "242tGfd0RIGt"
      },
      "execution_count": null,
      "outputs": []
    },
    {
      "cell_type": "code",
      "source": [
        "# Fit regression model\n",
        "regr_1 = DecisionTreeRegressor(max_depth=2)\n",
        "regr_2 = DecisionTreeRegressor(max_depth=5)\n",
        "regr_1.fit(X, y)\n",
        "regr_2.fit(X, y)\n",
        "\n",
        "y_pred_1 = regr_1.predict(X)\n",
        "y_pred_2 = regr_2.predict(X)\n",
        "     "
      ],
      "metadata": {
        "id": "CUGckxYnRICH"
      },
      "execution_count": null,
      "outputs": []
    },
    {
      "cell_type": "code",
      "source": [
        "from sklearn.metrics import mean_squared_error\n",
        "\n",
        "print(mean_squared_error(y, y_pred_1))\n",
        "print(mean_squared_error(y, y_pred_2))\n",
        "     "
      ],
      "metadata": {
        "id": "SqjEnwnURH7F"
      },
      "execution_count": null,
      "outputs": []
    },
    {
      "cell_type": "code",
      "source": [
        "# Predict\n",
        "X_test = np.arange(0.0, 5.0, 0.01)[:, np.newaxis]\n",
        "\n",
        "y_pred_1 = regr_1.predict(X_test)\n",
        "y_pred_2 = regr_2.predict(X_test)"
      ],
      "metadata": {
        "id": "iU63L9_hRThJ"
      },
      "execution_count": null,
      "outputs": []
    },
    {
      "cell_type": "code",
      "source": [],
      "metadata": {
        "id": "w5QHt51rRUdK"
      },
      "execution_count": null,
      "outputs": []
    }
  ]
}