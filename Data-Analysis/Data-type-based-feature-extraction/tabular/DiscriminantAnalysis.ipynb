{
 "cells": [
  {
   "cell_type": "code",
   "execution_count": 1,
   "id": "f594be8a",
   "metadata": {
    "_cell_guid": "b1076dfc-b9ad-4769-8c92-a6c4dae69d19",
    "_uuid": "8f2839f25d086af736a60e9eeb907d3b93b6e0e5",
    "execution": {
     "iopub.execute_input": "2023-04-11T10:13:22.155340Z",
     "iopub.status.busy": "2023-04-11T10:13:22.154468Z",
     "iopub.status.idle": "2023-04-11T10:13:22.177302Z",
     "shell.execute_reply": "2023-04-11T10:13:22.175273Z"
    },
    "papermill": {
     "duration": 0.03406,
     "end_time": "2023-04-11T10:13:22.180831",
     "exception": false,
     "start_time": "2023-04-11T10:13:22.146771",
     "status": "completed"
    },
    "tags": []
   },
   "outputs": [
    {
     "name": "stdout",
     "output_type": "stream",
     "text": [
      "/kaggle/input/2023-ml-quiz-p1/2023-ml-quiz-p1/sample.csv\n",
      "/kaggle/input/2023-ml-quiz-p1/2023-ml-quiz-p1/train.csv\n",
      "/kaggle/input/2023-ml-quiz-p1/2023-ml-quiz-p1/test.csv\n"
     ]
    }
   ],
   "source": [
    "# This Python 3 environment comes with many helpful analytics libraries installed\n",
    "# It is defined by the kaggle/python Docker image: https://github.com/kaggle/docker-python\n",
    "# For example, here's several helpful packages to load\n",
    "\n",
    "import numpy as np # linear algebra\n",
    "import pandas as pd # data processing, CSV file I/O (e.g. pd.read_csv)\n",
    "\n",
    "# Input data files are available in the read-only \"../input/\" directory\n",
    "# For example, running this (by clicking run or pressing Shift+Enter) will list all files under the input directory\n",
    "\n",
    "import os\n",
    "for dirname, _, filenames in os.walk('/kaggle/input'):\n",
    "    for filename in filenames:\n",
    "        print(os.path.join(dirname, filename))\n",
    "\n",
    "# You can write up to 20GB to the current directory (/kaggle/working/) that gets preserved as output when you create a version using \"Save & Run All\" \n",
    "# You can also write temporary files to /kaggle/temp/, but they won't be saved outside of the current session"
   ]
  },
  {
   "cell_type": "code",
   "execution_count": 2,
   "id": "c6592d87",
   "metadata": {
    "execution": {
     "iopub.execute_input": "2023-04-11T10:13:22.191134Z",
     "iopub.status.busy": "2023-04-11T10:13:22.190330Z",
     "iopub.status.idle": "2023-04-11T10:13:22.196368Z",
     "shell.execute_reply": "2023-04-11T10:13:22.195536Z"
    },
    "papermill": {
     "duration": 0.01359,
     "end_time": "2023-04-11T10:13:22.198593",
     "exception": false,
     "start_time": "2023-04-11T10:13:22.185003",
     "status": "completed"
    },
    "tags": []
   },
   "outputs": [],
   "source": [
    "import random\n",
    "import os\n",
    "\n",
    "seed = 42\n",
    "random.seed(seed)\n",
    "np.random.seed(seed)\n",
    "os.environ['PYTHONHASHSEED'] = str(seed)"
   ]
  },
  {
   "cell_type": "code",
   "execution_count": 3,
   "id": "6ef09695",
   "metadata": {
    "execution": {
     "iopub.execute_input": "2023-04-11T10:13:22.211067Z",
     "iopub.status.busy": "2023-04-11T10:13:22.210109Z",
     "iopub.status.idle": "2023-04-11T10:13:22.241877Z",
     "shell.execute_reply": "2023-04-11T10:13:22.240853Z"
    },
    "papermill": {
     "duration": 0.04211,
     "end_time": "2023-04-11T10:13:22.244394",
     "exception": false,
     "start_time": "2023-04-11T10:13:22.202284",
     "status": "completed"
    },
    "tags": []
   },
   "outputs": [],
   "source": [
    "train = pd.read_csv('/kaggle/input/2023-ml-quiz-p1/2023-ml-quiz-p1/train.csv')\n",
    "test = pd.read_csv('/kaggle/input/2023-ml-quiz-p1/2023-ml-quiz-p1/test.csv')\n",
    "submit = pd.read_csv('/kaggle/input/2023-ml-quiz-p1/2023-ml-quiz-p1/sample.csv')"
   ]
  },
  {
   "cell_type": "code",
   "execution_count": 4,
   "id": "15ab89e6",
   "metadata": {
    "execution": {
     "iopub.execute_input": "2023-04-11T10:13:22.253529Z",
     "iopub.status.busy": "2023-04-11T10:13:22.253100Z",
     "iopub.status.idle": "2023-04-11T10:13:22.286879Z",
     "shell.execute_reply": "2023-04-11T10:13:22.285536Z"
    },
    "papermill": {
     "duration": 0.041264,
     "end_time": "2023-04-11T10:13:22.289481",
     "exception": false,
     "start_time": "2023-04-11T10:13:22.248217",
     "status": "completed"
    },
    "tags": []
   },
   "outputs": [
    {
     "data": {
      "text/html": [
       "<div>\n",
       "<style scoped>\n",
       "    .dataframe tbody tr th:only-of-type {\n",
       "        vertical-align: middle;\n",
       "    }\n",
       "\n",
       "    .dataframe tbody tr th {\n",
       "        vertical-align: top;\n",
       "    }\n",
       "\n",
       "    .dataframe thead th {\n",
       "        text-align: right;\n",
       "    }\n",
       "</style>\n",
       "<table border=\"1\" class=\"dataframe\">\n",
       "  <thead>\n",
       "    <tr style=\"text-align: right;\">\n",
       "      <th></th>\n",
       "      <th>N</th>\n",
       "      <th>P</th>\n",
       "      <th>K</th>\n",
       "      <th>temperature</th>\n",
       "      <th>humidity</th>\n",
       "      <th>ph</th>\n",
       "      <th>rainfall</th>\n",
       "      <th>label</th>\n",
       "    </tr>\n",
       "  </thead>\n",
       "  <tbody>\n",
       "    <tr>\n",
       "      <th>0</th>\n",
       "      <td>22</td>\n",
       "      <td>36</td>\n",
       "      <td>16</td>\n",
       "      <td>30.581395</td>\n",
       "      <td>50.771481</td>\n",
       "      <td>8.184229</td>\n",
       "      <td>64.585596</td>\n",
       "      <td>mothbeans</td>\n",
       "    </tr>\n",
       "    <tr>\n",
       "      <th>1</th>\n",
       "      <td>18</td>\n",
       "      <td>27</td>\n",
       "      <td>41</td>\n",
       "      <td>22.365094</td>\n",
       "      <td>92.308824</td>\n",
       "      <td>7.175344</td>\n",
       "      <td>104.821633</td>\n",
       "      <td>pomegranate</td>\n",
       "    </tr>\n",
       "    <tr>\n",
       "      <th>2</th>\n",
       "      <td>61</td>\n",
       "      <td>68</td>\n",
       "      <td>50</td>\n",
       "      <td>35.214628</td>\n",
       "      <td>91.497251</td>\n",
       "      <td>6.793245</td>\n",
       "      <td>243.074507</td>\n",
       "      <td>papaya</td>\n",
       "    </tr>\n",
       "    <tr>\n",
       "      <th>3</th>\n",
       "      <td>26</td>\n",
       "      <td>72</td>\n",
       "      <td>22</td>\n",
       "      <td>28.767949</td>\n",
       "      <td>37.577921</td>\n",
       "      <td>4.674942</td>\n",
       "      <td>91.720849</td>\n",
       "      <td>pigeonpeas</td>\n",
       "    </tr>\n",
       "    <tr>\n",
       "      <th>4</th>\n",
       "      <td>2</td>\n",
       "      <td>140</td>\n",
       "      <td>197</td>\n",
       "      <td>22.697801</td>\n",
       "      <td>92.822234</td>\n",
       "      <td>5.534567</td>\n",
       "      <td>105.050823</td>\n",
       "      <td>apple</td>\n",
       "    </tr>\n",
       "    <tr>\n",
       "      <th>...</th>\n",
       "      <td>...</td>\n",
       "      <td>...</td>\n",
       "      <td>...</td>\n",
       "      <td>...</td>\n",
       "      <td>...</td>\n",
       "      <td>...</td>\n",
       "      <td>...</td>\n",
       "      <td>...</td>\n",
       "    </tr>\n",
       "    <tr>\n",
       "      <th>1645</th>\n",
       "      <td>10</td>\n",
       "      <td>5</td>\n",
       "      <td>5</td>\n",
       "      <td>21.213070</td>\n",
       "      <td>91.353492</td>\n",
       "      <td>7.817846</td>\n",
       "      <td>112.983436</td>\n",
       "      <td>orange</td>\n",
       "    </tr>\n",
       "    <tr>\n",
       "      <th>1646</th>\n",
       "      <td>108</td>\n",
       "      <td>94</td>\n",
       "      <td>47</td>\n",
       "      <td>27.359116</td>\n",
       "      <td>84.546250</td>\n",
       "      <td>6.387431</td>\n",
       "      <td>90.812505</td>\n",
       "      <td>banana</td>\n",
       "    </tr>\n",
       "    <tr>\n",
       "      <th>1647</th>\n",
       "      <td>11</td>\n",
       "      <td>36</td>\n",
       "      <td>31</td>\n",
       "      <td>27.920633</td>\n",
       "      <td>51.779659</td>\n",
       "      <td>6.475449</td>\n",
       "      <td>100.258567</td>\n",
       "      <td>mango</td>\n",
       "    </tr>\n",
       "    <tr>\n",
       "      <th>1648</th>\n",
       "      <td>11</td>\n",
       "      <td>124</td>\n",
       "      <td>204</td>\n",
       "      <td>13.429886</td>\n",
       "      <td>80.066340</td>\n",
       "      <td>6.361141</td>\n",
       "      <td>71.400430</td>\n",
       "      <td>grapes</td>\n",
       "    </tr>\n",
       "    <tr>\n",
       "      <th>1649</th>\n",
       "      <td>32</td>\n",
       "      <td>78</td>\n",
       "      <td>22</td>\n",
       "      <td>23.970814</td>\n",
       "      <td>62.355576</td>\n",
       "      <td>7.007038</td>\n",
       "      <td>53.409060</td>\n",
       "      <td>lentil</td>\n",
       "    </tr>\n",
       "  </tbody>\n",
       "</table>\n",
       "<p>1650 rows × 8 columns</p>\n",
       "</div>"
      ],
      "text/plain": [
       "        N    P    K  temperature   humidity        ph    rainfall        label\n",
       "0      22   36   16    30.581395  50.771481  8.184229   64.585596    mothbeans\n",
       "1      18   27   41    22.365094  92.308824  7.175344  104.821633  pomegranate\n",
       "2      61   68   50    35.214628  91.497251  6.793245  243.074507       papaya\n",
       "3      26   72   22    28.767949  37.577921  4.674942   91.720849   pigeonpeas\n",
       "4       2  140  197    22.697801  92.822234  5.534567  105.050823        apple\n",
       "...   ...  ...  ...          ...        ...       ...         ...          ...\n",
       "1645   10    5    5    21.213070  91.353492  7.817846  112.983436       orange\n",
       "1646  108   94   47    27.359116  84.546250  6.387431   90.812505       banana\n",
       "1647   11   36   31    27.920633  51.779659  6.475449  100.258567        mango\n",
       "1648   11  124  204    13.429886  80.066340  6.361141   71.400430       grapes\n",
       "1649   32   78   22    23.970814  62.355576  7.007038   53.409060       lentil\n",
       "\n",
       "[1650 rows x 8 columns]"
      ]
     },
     "execution_count": 4,
     "metadata": {},
     "output_type": "execute_result"
    }
   ],
   "source": [
    "train"
   ]
  },
  {
   "cell_type": "code",
   "execution_count": 5,
   "id": "a0ced50b",
   "metadata": {
    "execution": {
     "iopub.execute_input": "2023-04-11T10:13:22.299356Z",
     "iopub.status.busy": "2023-04-11T10:13:22.298940Z",
     "iopub.status.idle": "2023-04-11T10:13:22.311348Z",
     "shell.execute_reply": "2023-04-11T10:13:22.310105Z"
    },
    "papermill": {
     "duration": 0.02062,
     "end_time": "2023-04-11T10:13:22.314264",
     "exception": false,
     "start_time": "2023-04-11T10:13:22.293644",
     "status": "completed"
    },
    "tags": []
   },
   "outputs": [],
   "source": [
    "X = train.drop('label', axis=1)\n",
    "y = train['label']"
   ]
  },
  {
   "cell_type": "code",
   "execution_count": 6,
   "id": "f7259f64",
   "metadata": {
    "execution": {
     "iopub.execute_input": "2023-04-11T10:13:22.325243Z",
     "iopub.status.busy": "2023-04-11T10:13:22.324413Z",
     "iopub.status.idle": "2023-04-11T10:13:23.374925Z",
     "shell.execute_reply": "2023-04-11T10:13:23.373443Z"
    },
    "papermill": {
     "duration": 1.059339,
     "end_time": "2023-04-11T10:13:23.377770",
     "exception": false,
     "start_time": "2023-04-11T10:13:22.318431",
     "status": "completed"
    },
    "tags": []
   },
   "outputs": [],
   "source": [
    "from sklearn.preprocessing import LabelEncoder\n",
    "\n",
    "le = LabelEncoder()\n",
    "\n",
    "yy = le.fit_transform(y)"
   ]
  },
  {
   "cell_type": "code",
   "execution_count": 7,
   "id": "ce6ded86",
   "metadata": {
    "execution": {
     "iopub.execute_input": "2023-04-11T10:13:23.387586Z",
     "iopub.status.busy": "2023-04-11T10:13:23.387166Z",
     "iopub.status.idle": "2023-04-11T10:13:23.394647Z",
     "shell.execute_reply": "2023-04-11T10:13:23.393424Z"
    },
    "papermill": {
     "duration": 0.015421,
     "end_time": "2023-04-11T10:13:23.397271",
     "exception": false,
     "start_time": "2023-04-11T10:13:23.381850",
     "status": "completed"
    },
    "tags": []
   },
   "outputs": [
    {
     "data": {
      "text/plain": [
       "array([13, 19, 17, ..., 12,  7, 10])"
      ]
     },
     "execution_count": 7,
     "metadata": {},
     "output_type": "execute_result"
    }
   ],
   "source": [
    "yy"
   ]
  },
  {
   "cell_type": "code",
   "execution_count": 8,
   "id": "78191131",
   "metadata": {
    "execution": {
     "iopub.execute_input": "2023-04-11T10:13:23.407453Z",
     "iopub.status.busy": "2023-04-11T10:13:23.407066Z",
     "iopub.status.idle": "2023-04-11T10:13:23.622603Z",
     "shell.execute_reply": "2023-04-11T10:13:23.621218Z"
    },
    "papermill": {
     "duration": 0.22402,
     "end_time": "2023-04-11T10:13:23.625429",
     "exception": false,
     "start_time": "2023-04-11T10:13:23.401409",
     "status": "completed"
    },
    "tags": []
   },
   "outputs": [
    {
     "data": {
      "text/plain": [
       "QuadraticDiscriminantAnalysis(store_covariance=True)"
      ]
     },
     "execution_count": 8,
     "metadata": {},
     "output_type": "execute_result"
    }
   ],
   "source": [
    "from sklearn.discriminant_analysis import QuadraticDiscriminantAnalysis\n",
    "qda = QuadraticDiscriminantAnalysis(store_covariance=True)\n",
    "\n",
    "qda.fit(X, yy)"
   ]
  },
  {
   "cell_type": "code",
   "execution_count": 9,
   "id": "ba3f0d5e",
   "metadata": {
    "execution": {
     "iopub.execute_input": "2023-04-11T10:13:23.635864Z",
     "iopub.status.busy": "2023-04-11T10:13:23.635422Z",
     "iopub.status.idle": "2023-04-11T10:13:23.646110Z",
     "shell.execute_reply": "2023-04-11T10:13:23.644663Z"
    },
    "papermill": {
     "duration": 0.019464,
     "end_time": "2023-04-11T10:13:23.649240",
     "exception": false,
     "start_time": "2023-04-11T10:13:23.629776",
     "status": "completed"
    },
    "tags": []
   },
   "outputs": [],
   "source": [
    "pred = qda.predict(test)"
   ]
  },
  {
   "cell_type": "code",
   "execution_count": 10,
   "id": "76e0b219",
   "metadata": {
    "execution": {
     "iopub.execute_input": "2023-04-11T10:13:23.660799Z",
     "iopub.status.busy": "2023-04-11T10:13:23.659723Z",
     "iopub.status.idle": "2023-04-11T10:13:23.673032Z",
     "shell.execute_reply": "2023-04-11T10:13:23.671686Z"
    },
    "papermill": {
     "duration": 0.022275,
     "end_time": "2023-04-11T10:13:23.676171",
     "exception": false,
     "start_time": "2023-04-11T10:13:23.653896",
     "status": "completed"
    },
    "tags": []
   },
   "outputs": [],
   "source": [
    "yyy = le.inverse_transform(pred)\n",
    "submit['label'] = yyy\n",
    "submit.to_csv(\"submit.csv\", index=False)"
   ]
  },
  {
   "cell_type": "code",
   "execution_count": 11,
   "id": "1348b930",
   "metadata": {
    "execution": {
     "iopub.execute_input": "2023-04-11T10:13:23.686786Z",
     "iopub.status.busy": "2023-04-11T10:13:23.686357Z",
     "iopub.status.idle": "2023-04-11T10:13:23.695431Z",
     "shell.execute_reply": "2023-04-11T10:13:23.694211Z"
    },
    "papermill": {
     "duration": 0.017299,
     "end_time": "2023-04-11T10:13:23.697892",
     "exception": false,
     "start_time": "2023-04-11T10:13:23.680593",
     "status": "completed"
    },
    "tags": []
   },
   "outputs": [
    {
     "data": {
      "text/plain": [
       "array(['muskmelon', 'watermelon', 'papaya', 'papaya', 'apple', 'mango',\n",
       "       'apple', 'mothbeans', 'mungbean', 'lentil', 'blackgram', 'coconut',\n",
       "       'pomegranate', 'jute', 'coconut', 'pomegranate', 'apple', 'maize',\n",
       "       'papaya', 'muskmelon', 'coffee', 'papaya', 'orange', 'papaya',\n",
       "       'chickpea', 'jute', 'mungbean', 'orange', 'pigeonpeas', 'rice',\n",
       "       'pomegranate', 'mothbeans', 'jute', 'lentil', 'jute', 'blackgram',\n",
       "       'jute', 'chickpea', 'chickpea', 'kidneybeans', 'papaya', 'mango',\n",
       "       'blackgram', 'maize', 'mungbean', 'maize', 'pigeonpeas', 'coconut',\n",
       "       'muskmelon', 'maize', 'blackgram', 'coffee', 'grapes', 'mungbean',\n",
       "       'coffee', 'kidneybeans', 'cotton', 'apple', 'banana', 'blackgram',\n",
       "       'watermelon', 'coconut', 'lentil', 'orange', 'papaya',\n",
       "       'pigeonpeas', 'orange', 'rice', 'muskmelon', 'pigeonpeas',\n",
       "       'muskmelon', 'coconut', 'jute', 'banana', 'blackgram', 'papaya',\n",
       "       'banana', 'cotton', 'watermelon', 'orange', 'coffee', 'chickpea',\n",
       "       'rice', 'mothbeans', 'orange', 'mango', 'coffee', 'mothbeans',\n",
       "       'blackgram', 'pomegranate', 'maize', 'mothbeans', 'cotton',\n",
       "       'papaya', 'pigeonpeas', 'mothbeans', 'kidneybeans', 'coffee',\n",
       "       'blackgram', 'lentil', 'coconut', 'rice', 'orange', 'muskmelon',\n",
       "       'watermelon', 'kidneybeans', 'watermelon', 'banana', 'pigeonpeas',\n",
       "       'mothbeans', 'banana', 'jute', 'cotton', 'pomegranate',\n",
       "       'pigeonpeas', 'chickpea', 'maize', 'coconut', 'pomegranate',\n",
       "       'rice', 'pigeonpeas', 'grapes', 'blackgram', 'coconut', 'chickpea',\n",
       "       'blackgram', 'coconut', 'maize', 'banana', 'mothbeans', 'banana',\n",
       "       'kidneybeans', 'pomegranate', 'chickpea', 'coconut', 'orange',\n",
       "       'pigeonpeas', 'banana', 'banana', 'apple', 'kidneybeans',\n",
       "       'muskmelon', 'mungbean', 'mothbeans', 'coconut', 'maize', 'apple',\n",
       "       'coconut', 'kidneybeans', 'mothbeans', 'mungbean', 'lentil',\n",
       "       'watermelon', 'mungbean', 'pigeonpeas', 'pigeonpeas', 'pigeonpeas',\n",
       "       'kidneybeans', 'maize', 'jute', 'chickpea', 'apple', 'orange',\n",
       "       'cotton', 'rice', 'coconut', 'grapes', 'lentil', 'watermelon',\n",
       "       'grapes', 'grapes', 'blackgram', 'pomegranate', 'chickpea',\n",
       "       'coconut', 'maize', 'lentil', 'grapes', 'watermelon', 'jute',\n",
       "       'coffee', 'coffee', 'kidneybeans', 'jute', 'mothbeans',\n",
       "       'kidneybeans', 'banana', 'kidneybeans', 'coconut', 'papaya',\n",
       "       'papaya', 'mungbean', 'mango', 'pomegranate', 'watermelon',\n",
       "       'kidneybeans', 'maize', 'apple', 'blackgram', 'chickpea', 'grapes',\n",
       "       'grapes', 'banana', 'cotton', 'rice', 'pomegranate', 'mungbean',\n",
       "       'banana', 'jute', 'mungbean', 'maize', 'chickpea', 'chickpea',\n",
       "       'chickpea', 'apple', 'rice', 'kidneybeans', 'papaya', 'coffee',\n",
       "       'blackgram', 'kidneybeans', 'mango', 'mango', 'coconut', 'papaya',\n",
       "       'apple', 'chickpea', 'pomegranate', 'chickpea', 'muskmelon',\n",
       "       'apple', 'muskmelon', 'muskmelon', 'mango', 'mango', 'cotton',\n",
       "       'coconut', 'pomegranate', 'rice', 'muskmelon', 'coffee', 'papaya',\n",
       "       'lentil', 'maize', 'mango', 'muskmelon', 'pigeonpeas', 'mungbean',\n",
       "       'coffee', 'grapes', 'coconut', 'cotton', 'pigeonpeas', 'rice',\n",
       "       'apple', 'pomegranate', 'coffee', 'chickpea', 'cotton', 'jute',\n",
       "       'mango', 'banana', 'papaya', 'apple', 'chickpea', 'rice',\n",
       "       'pigeonpeas', 'mothbeans', 'mungbean', 'jute', 'pomegranate',\n",
       "       'grapes', 'mothbeans', 'jute', 'maize', 'coconut', 'maize',\n",
       "       'chickpea', 'banana', 'jute', 'coconut', 'jute', 'mango',\n",
       "       'muskmelon', 'apple', 'banana', 'pigeonpeas', 'blackgram',\n",
       "       'orange', 'chickpea', 'watermelon', 'banana', 'apple', 'chickpea',\n",
       "       'coffee', 'pigeonpeas', 'orange', 'apple', 'coconut', 'papaya',\n",
       "       'watermelon', 'mothbeans', 'papaya', 'chickpea', 'pomegranate',\n",
       "       'chickpea', 'papaya', 'lentil', 'apple', 'pomegranate', 'chickpea',\n",
       "       'mango', 'chickpea', 'pomegranate', 'watermelon', 'kidneybeans',\n",
       "       'mungbean', 'muskmelon', 'watermelon', 'kidneybeans', 'muskmelon',\n",
       "       'mango', 'jute', 'blackgram', 'chickpea', 'banana', 'blackgram',\n",
       "       'pigeonpeas', 'papaya', 'pigeonpeas', 'mungbean', 'coconut',\n",
       "       'cotton', 'grapes', 'apple', 'lentil', 'banana', 'jute', 'apple',\n",
       "       'pomegranate', 'apple', 'mungbean', 'muskmelon', 'coffee',\n",
       "       'coffee', 'pigeonpeas', 'jute', 'kidneybeans', 'banana', 'maize',\n",
       "       'jute', 'maize', 'pigeonpeas', 'mango', 'kidneybeans',\n",
       "       'pomegranate', 'watermelon', 'blackgram', 'maize', 'rice',\n",
       "       'mothbeans', 'kidneybeans', 'mango', 'cotton', 'papaya',\n",
       "       'mothbeans', 'cotton', 'mungbean', 'orange', 'jute', 'blackgram',\n",
       "       'mungbean', 'coffee', 'banana', 'pigeonpeas', 'papaya', 'apple',\n",
       "       'pomegranate', 'maize', 'mango', 'coconut', 'apple', 'lentil',\n",
       "       'jute', 'mothbeans', 'lentil', 'coconut', 'blackgram', 'jute',\n",
       "       'mungbean', 'cotton', 'watermelon', 'apple', 'grapes', 'coconut',\n",
       "       'grapes', 'watermelon', 'rice', 'mango', 'mango', 'coffee',\n",
       "       'pomegranate', 'banana', 'grapes', 'jute', 'orange', 'cotton',\n",
       "       'mango', 'papaya', 'muskmelon', 'mothbeans', 'jute', 'chickpea',\n",
       "       'mothbeans', 'pomegranate', 'watermelon', 'mothbeans', 'cotton',\n",
       "       'papaya', 'watermelon', 'lentil', 'rice', 'coconut', 'mothbeans',\n",
       "       'mothbeans', 'maize', 'rice', 'maize', 'coconut', 'orange',\n",
       "       'pomegranate', 'kidneybeans', 'watermelon', 'mungbean',\n",
       "       'blackgram', 'rice', 'rice', 'cotton', 'cotton', 'pigeonpeas',\n",
       "       'orange', 'blackgram', 'lentil', 'banana', 'mango', 'maize',\n",
       "       'apple', 'pomegranate', 'mango', 'cotton', 'mungbean',\n",
       "       'pigeonpeas', 'chickpea', 'apple', 'coffee', 'pigeonpeas', 'jute',\n",
       "       'jute', 'jute', 'papaya', 'lentil', 'grapes', 'rice', 'orange',\n",
       "       'mungbean', 'mango', 'kidneybeans', 'grapes', 'mungbean', 'orange',\n",
       "       'pigeonpeas', 'banana', 'jute', 'pigeonpeas', 'pomegranate',\n",
       "       'coffee', 'muskmelon', 'blackgram', 'papaya', 'papaya',\n",
       "       'pomegranate', 'kidneybeans', 'chickpea', 'mungbean', 'mungbean',\n",
       "       'mango', 'pigeonpeas', 'muskmelon', 'mango', 'mothbeans',\n",
       "       'pigeonpeas', 'muskmelon', 'rice', 'pomegranate', 'muskmelon',\n",
       "       'pigeonpeas', 'apple', 'mungbean', 'rice', 'kidneybeans', 'apple',\n",
       "       'rice', 'mango', 'papaya', 'mothbeans', 'cotton', 'pomegranate',\n",
       "       'pigeonpeas', 'papaya', 'lentil', 'maize', 'chickpea', 'muskmelon',\n",
       "       'cotton', 'kidneybeans', 'chickpea', 'mungbean', 'coffee',\n",
       "       'coffee', 'orange', 'watermelon', 'orange', 'grapes', 'coffee',\n",
       "       'pigeonpeas', 'mango', 'apple', 'mango', 'pomegranate', 'coffee',\n",
       "       'pigeonpeas', 'coffee', 'grapes', 'cotton', 'pomegranate',\n",
       "       'papaya', 'apple', 'blackgram', 'pigeonpeas', 'watermelon',\n",
       "       'papaya', 'blackgram', 'grapes', 'lentil', 'jute', 'coffee',\n",
       "       'papaya', 'chickpea', 'coffee', 'jute'], dtype=object)"
      ]
     },
     "execution_count": 11,
     "metadata": {},
     "output_type": "execute_result"
    }
   ],
   "source": [
    "yyy"
   ]
  },
  {
   "cell_type": "code",
   "execution_count": null,
   "id": "ea86deed",
   "metadata": {
    "papermill": {
     "duration": 0.004196,
     "end_time": "2023-04-11T10:13:23.706521",
     "exception": false,
     "start_time": "2023-04-11T10:13:23.702325",
     "status": "completed"
    },
    "tags": []
   },
   "outputs": [],
   "source": []
  }
 ],
 "metadata": {
  "kernelspec": {
   "display_name": "Python 3",
   "language": "python",
   "name": "python3"
  },
  "language_info": {
   "codemirror_mode": {
    "name": "ipython",
    "version": 3
   },
   "file_extension": ".py",
   "mimetype": "text/x-python",
   "name": "python",
   "nbconvert_exporter": "python",
   "pygments_lexer": "ipython3",
   "version": "3.7.12"
  },
  "papermill": {
   "default_parameters": {},
   "duration": 12.930368,
   "end_time": "2023-04-11T10:13:24.433035",
   "environment_variables": {},
   "exception": null,
   "input_path": "__notebook__.ipynb",
   "output_path": "__notebook__.ipynb",
   "parameters": {},
   "start_time": "2023-04-11T10:13:11.502667",
   "version": "2.4.0"
  }
 },
 "nbformat": 4,
 "nbformat_minor": 5
}
