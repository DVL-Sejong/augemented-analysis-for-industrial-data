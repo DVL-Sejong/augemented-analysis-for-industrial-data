{
  "cells": [
    {
      "cell_type": "code",
      "execution_count": null,
      "id": "bdbb7237",
      "metadata": {
        "id": "bdbb7237",
        "outputId": "0bf6f735-b102-4331-9979-d10aa7364dbd"
      },
      "outputs": [
        {
          "name": "stdout",
          "output_type": "stream",
          "text": [
            "C:\\Users\\VISLAB-seongwon\\workspace\n"
          ]
        }
      ],
      "source": [
        "import os\n",
        "\n",
        "current_directory = os.getcwd()\n",
        "print(current_directory)"
      ]
    },
    {
      "cell_type": "code",
      "execution_count": null,
      "id": "a7b0cf8c",
      "metadata": {
        "id": "a7b0cf8c"
      },
      "outputs": [],
      "source": [
        "import pandas as pd\n",
        "all_df = pd.DataFrame(columns=['task', '상봉', '석환', '성범', '유진','재훈', '정수', '윤찬영', '정찬영', 'total'])"
      ]
    },
    {
      "cell_type": "code",
      "execution_count": null,
      "id": "3efb98f8",
      "metadata": {
        "id": "3efb98f8"
      },
      "outputs": [],
      "source": [
        "del[all_df]"
      ]
    },
    {
      "cell_type": "code",
      "execution_count": null,
      "id": "cd143c73",
      "metadata": {
        "id": "cd143c73",
        "outputId": "d6d60bb8-ad1d-459b-ec08-798f060c078e"
      },
      "outputs": [
        {
          "data": {
            "text/html": [
              "<div>\n",
              "<style scoped>\n",
              "    .dataframe tbody tr th:only-of-type {\n",
              "        vertical-align: middle;\n",
              "    }\n",
              "\n",
              "    .dataframe tbody tr th {\n",
              "        vertical-align: top;\n",
              "    }\n",
              "\n",
              "    .dataframe thead th {\n",
              "        text-align: right;\n",
              "    }\n",
              "</style>\n",
              "<table border=\"1\" class=\"dataframe\">\n",
              "  <thead>\n",
              "    <tr style=\"text-align: right;\">\n",
              "      <th></th>\n",
              "      <th>task</th>\n",
              "      <th>상봉</th>\n",
              "      <th>석환</th>\n",
              "      <th>성범</th>\n",
              "      <th>유진</th>\n",
              "      <th>재훈</th>\n",
              "      <th>정수</th>\n",
              "      <th>윤찬영</th>\n",
              "      <th>정찬영</th>\n",
              "      <th>total</th>\n",
              "    </tr>\n",
              "  </thead>\n",
              "  <tbody>\n",
              "  </tbody>\n",
              "</table>\n",
              "</div>"
            ],
            "text/plain": [
              "Empty DataFrame\n",
              "Columns: [task, 상봉, 석환, 성범, 유진, 재훈, 정수, 윤찬영, 정찬영, total]\n",
              "Index: []"
            ]
          },
          "execution_count": 9,
          "metadata": {},
          "output_type": "execute_result"
        }
      ],
      "source": [
        "all_df"
      ]
    },
    {
      "cell_type": "code",
      "execution_count": null,
      "id": "ff8956d2",
      "metadata": {
        "id": "ff8956d2"
      },
      "outputs": [],
      "source": [
        "root_dir = '실험데이터'\n",
        "TASK = ['1back', '3back', '10', '20']\n",
        "ANS = 'ans'\n",
        "BASE = 'base'"
      ]
    },
    {
      "cell_type": "code",
      "execution_count": null,
      "id": "59d4a827",
      "metadata": {
        "scrolled": true,
        "id": "59d4a827"
      },
      "outputs": [],
      "source": [
        "for task in TASK:\n",
        "    task_row = []\n",
        "    task_row.append(task)\n",
        "    for subdir, dirs, files in os.walk(root_dir):\n",
        "        if ANS in subdir:\n",
        "            pass\n",
        "        else:\n",
        "            continue\n",
        "        if BASE in subdir:\n",
        "            pass\n",
        "        else:\n",
        "            continue\n",
        "        \n",
        "        for file in files:\n",
        "            \n",
        "            if file.endswith(task + '.csv'):\n",
        "                \n",
        "                df = pd.read_csv(subdir+'\\\\'+file, header=None)\n",
        "                is_numeric = pd.to_numeric(df.iloc[0], errors='coerce').notnull()\n",
        "                df = df.loc[:, is_numeric]\n",
        "                df = pd.read_csv(subdir+'\\\\'+file)\n",
        "            \n",
        "                rows_w = df[(df.iloc[:, 2] == -1)]\n",
        "                count_w = len(rows_w)\n",
        "            \n",
        "                rows_t = df[(df.iloc[:, 2] == 1) | (df.iloc[:, 2] == -1)]\n",
        "                count_t = len(rows_t)\n",
        "                \n",
        "                \n",
        "                print(subdir +'\\\\'+ file)\n",
        "                print(count_w, count_t)\n",
        "                \n",
        "                task_row.append(count_w)\n",
        "                print(task_row)\n",
        "            \n",
        "                del [[df,rows_w,rows_t]]\n",
        "        \n",
        "    task_row.append(count_t)\n",
        "    all_df.loc[len(all_df)] = task_row"
      ]
    },
    {
      "cell_type": "code",
      "execution_count": null,
      "id": "ab8f5353",
      "metadata": {
        "id": "ab8f5353"
      },
      "outputs": [],
      "source": [
        "all_df = all_df.set_index(keys='task')"
      ]
    },
    {
      "cell_type": "code",
      "execution_count": null,
      "id": "64a88adb",
      "metadata": {
        "scrolled": true,
        "id": "64a88adb",
        "outputId": "1cb68919-8d80-448d-ef48-6e9cddb827de"
      },
      "outputs": [
        {
          "data": {
            "text/html": [
              "<div>\n",
              "<style scoped>\n",
              "    .dataframe tbody tr th:only-of-type {\n",
              "        vertical-align: middle;\n",
              "    }\n",
              "\n",
              "    .dataframe tbody tr th {\n",
              "        vertical-align: top;\n",
              "    }\n",
              "\n",
              "    .dataframe thead th {\n",
              "        text-align: right;\n",
              "    }\n",
              "</style>\n",
              "<table border=\"1\" class=\"dataframe\">\n",
              "  <thead>\n",
              "    <tr style=\"text-align: right;\">\n",
              "      <th></th>\n",
              "      <th>상봉</th>\n",
              "      <th>석환</th>\n",
              "      <th>성범</th>\n",
              "      <th>유진</th>\n",
              "      <th>재훈</th>\n",
              "      <th>정수</th>\n",
              "      <th>윤찬영</th>\n",
              "      <th>정찬영</th>\n",
              "      <th>total</th>\n",
              "    </tr>\n",
              "    <tr>\n",
              "      <th>task</th>\n",
              "      <th></th>\n",
              "      <th></th>\n",
              "      <th></th>\n",
              "      <th></th>\n",
              "      <th></th>\n",
              "      <th></th>\n",
              "      <th></th>\n",
              "      <th></th>\n",
              "      <th></th>\n",
              "    </tr>\n",
              "  </thead>\n",
              "  <tbody>\n",
              "    <tr>\n",
              "      <th>1back</th>\n",
              "      <td>2</td>\n",
              "      <td>0</td>\n",
              "      <td>1</td>\n",
              "      <td>1</td>\n",
              "      <td>1</td>\n",
              "      <td>2</td>\n",
              "      <td>0</td>\n",
              "      <td>1</td>\n",
              "      <td>200</td>\n",
              "    </tr>\n",
              "    <tr>\n",
              "      <th>3back</th>\n",
              "      <td>16</td>\n",
              "      <td>15</td>\n",
              "      <td>19</td>\n",
              "      <td>21</td>\n",
              "      <td>7</td>\n",
              "      <td>7</td>\n",
              "      <td>21</td>\n",
              "      <td>14</td>\n",
              "      <td>198</td>\n",
              "    </tr>\n",
              "    <tr>\n",
              "      <th>10</th>\n",
              "      <td>0</td>\n",
              "      <td>0</td>\n",
              "      <td>0</td>\n",
              "      <td>0</td>\n",
              "      <td>0</td>\n",
              "      <td>0</td>\n",
              "      <td>0</td>\n",
              "      <td>0</td>\n",
              "      <td>200</td>\n",
              "    </tr>\n",
              "    <tr>\n",
              "      <th>20</th>\n",
              "      <td>0</td>\n",
              "      <td>0</td>\n",
              "      <td>2</td>\n",
              "      <td>1</td>\n",
              "      <td>0</td>\n",
              "      <td>0</td>\n",
              "      <td>0</td>\n",
              "      <td>0</td>\n",
              "      <td>199</td>\n",
              "    </tr>\n",
              "  </tbody>\n",
              "</table>\n",
              "</div>"
            ],
            "text/plain": [
              "       상봉  석환  성범  유진  재훈  정수  윤찬영  정찬영  total\n",
              "task                                          \n",
              "1back   2   0   1   1   1   2    0    1    200\n",
              "3back  16  15  19  21   7   7   21   14    198\n",
              "10      0   0   0   0   0   0    0    0    200\n",
              "20      0   0   2   1   0   0    0    0    199"
            ]
          },
          "execution_count": 14,
          "metadata": {},
          "output_type": "execute_result"
        }
      ],
      "source": [
        "all_df"
      ]
    },
    {
      "cell_type": "code",
      "execution_count": null,
      "id": "672653f4",
      "metadata": {
        "id": "672653f4"
      },
      "outputs": [],
      "source": [
        "row_mean = all_df.mean(axis = 1)"
      ]
    },
    {
      "cell_type": "code",
      "execution_count": null,
      "id": "9d46ae0b",
      "metadata": {
        "id": "9d46ae0b",
        "outputId": "4c3bcd5b-3855-485c-ba88-dabf6eceeb2c"
      },
      "outputs": [
        {
          "ename": "NameError",
          "evalue": "name 'avg_df' is not defined",
          "output_type": "error",
          "traceback": [
            "\u001b[1;31m---------------------------------------------------------------------------\u001b[0m",
            "\u001b[1;31mNameError\u001b[0m                                 Traceback (most recent call last)",
            "Cell \u001b[1;32mIn[16], line 1\u001b[0m\n\u001b[1;32m----> 1\u001b[0m \u001b[38;5;28;01mdel\u001b[39;00m[avg_df]\n",
            "\u001b[1;31mNameError\u001b[0m: name 'avg_df' is not defined"
          ]
        }
      ],
      "source": [
        "del[avg_df]"
      ]
    },
    {
      "cell_type": "code",
      "execution_count": null,
      "id": "28a54ac9",
      "metadata": {
        "id": "28a54ac9"
      },
      "outputs": [],
      "source": [
        "avg_df = pd.DataFrame(columns=['task', '상봉', '석환', '성범', '유진','재훈', '정수', '윤찬영', '정찬영', 'avg'])    "
      ]
    },
    {
      "cell_type": "code",
      "execution_count": null,
      "id": "2f2c3ff7",
      "metadata": {
        "id": "2f2c3ff7"
      },
      "outputs": [],
      "source": [
        "i = 0\n",
        "for index, row in all_df.iterrows():\n",
        "    tmp_row = []\n",
        "    tmp_row.append(TASK[i])\n",
        "    avg_task = 0\n",
        "    for column in all_df.columns:\n",
        "        if column == 'total':\n",
        "            continue\n",
        "        tmp_row.append(row[column]/row['total'])\n",
        "        avg_task += (row[column]/row['total'])\n",
        "    avg_task = avg_task / (len(tmp_row)-1)\n",
        "    tmp_row.append(avg_task)\n",
        "    i+=1\n",
        "    avg_df.loc[len(avg_df)] = tmp_row"
      ]
    },
    {
      "cell_type": "code",
      "execution_count": null,
      "id": "f82ec434",
      "metadata": {
        "id": "f82ec434"
      },
      "outputs": [],
      "source": [
        "avg_df = avg_df.set_index(keys='task')"
      ]
    },
    {
      "cell_type": "code",
      "execution_count": null,
      "id": "4db9e6d5",
      "metadata": {
        "id": "4db9e6d5",
        "outputId": "2d691e0e-6a9a-4e9a-86ed-468886bd752e"
      },
      "outputs": [
        {
          "data": {
            "text/html": [
              "<div>\n",
              "<style scoped>\n",
              "    .dataframe tbody tr th:only-of-type {\n",
              "        vertical-align: middle;\n",
              "    }\n",
              "\n",
              "    .dataframe tbody tr th {\n",
              "        vertical-align: top;\n",
              "    }\n",
              "\n",
              "    .dataframe thead th {\n",
              "        text-align: right;\n",
              "    }\n",
              "</style>\n",
              "<table border=\"1\" class=\"dataframe\">\n",
              "  <thead>\n",
              "    <tr style=\"text-align: right;\">\n",
              "      <th></th>\n",
              "      <th>상봉</th>\n",
              "      <th>석환</th>\n",
              "      <th>성범</th>\n",
              "      <th>유진</th>\n",
              "      <th>재훈</th>\n",
              "      <th>정수</th>\n",
              "      <th>윤찬영</th>\n",
              "      <th>정찬영</th>\n",
              "      <th>avg</th>\n",
              "    </tr>\n",
              "    <tr>\n",
              "      <th>task</th>\n",
              "      <th></th>\n",
              "      <th></th>\n",
              "      <th></th>\n",
              "      <th></th>\n",
              "      <th></th>\n",
              "      <th></th>\n",
              "      <th></th>\n",
              "      <th></th>\n",
              "      <th></th>\n",
              "    </tr>\n",
              "  </thead>\n",
              "  <tbody>\n",
              "    <tr>\n",
              "      <th>1back</th>\n",
              "      <td>0.010000</td>\n",
              "      <td>0.000000</td>\n",
              "      <td>0.00500</td>\n",
              "      <td>0.005000</td>\n",
              "      <td>0.005000</td>\n",
              "      <td>0.010000</td>\n",
              "      <td>0.000000</td>\n",
              "      <td>0.005000</td>\n",
              "      <td>0.005000</td>\n",
              "    </tr>\n",
              "    <tr>\n",
              "      <th>3back</th>\n",
              "      <td>0.080808</td>\n",
              "      <td>0.075758</td>\n",
              "      <td>0.09596</td>\n",
              "      <td>0.106061</td>\n",
              "      <td>0.035354</td>\n",
              "      <td>0.035354</td>\n",
              "      <td>0.106061</td>\n",
              "      <td>0.070707</td>\n",
              "      <td>0.075758</td>\n",
              "    </tr>\n",
              "    <tr>\n",
              "      <th>10</th>\n",
              "      <td>0.000000</td>\n",
              "      <td>0.000000</td>\n",
              "      <td>0.00000</td>\n",
              "      <td>0.000000</td>\n",
              "      <td>0.000000</td>\n",
              "      <td>0.000000</td>\n",
              "      <td>0.000000</td>\n",
              "      <td>0.000000</td>\n",
              "      <td>0.000000</td>\n",
              "    </tr>\n",
              "    <tr>\n",
              "      <th>20</th>\n",
              "      <td>0.000000</td>\n",
              "      <td>0.000000</td>\n",
              "      <td>0.01005</td>\n",
              "      <td>0.005025</td>\n",
              "      <td>0.000000</td>\n",
              "      <td>0.000000</td>\n",
              "      <td>0.000000</td>\n",
              "      <td>0.000000</td>\n",
              "      <td>0.001884</td>\n",
              "    </tr>\n",
              "  </tbody>\n",
              "</table>\n",
              "</div>"
            ],
            "text/plain": [
              "             상봉        석환       성범        유진        재훈        정수       윤찬영  \\\n",
              "task                                                                         \n",
              "1back  0.010000  0.000000  0.00500  0.005000  0.005000  0.010000  0.000000   \n",
              "3back  0.080808  0.075758  0.09596  0.106061  0.035354  0.035354  0.106061   \n",
              "10     0.000000  0.000000  0.00000  0.000000  0.000000  0.000000  0.000000   \n",
              "20     0.000000  0.000000  0.01005  0.005025  0.000000  0.000000  0.000000   \n",
              "\n",
              "            정찬영       avg  \n",
              "task                       \n",
              "1back  0.005000  0.005000  \n",
              "3back  0.070707  0.075758  \n",
              "10     0.000000  0.000000  \n",
              "20     0.000000  0.001884  "
            ]
          },
          "execution_count": 20,
          "metadata": {},
          "output_type": "execute_result"
        }
      ],
      "source": [
        "avg_df"
      ]
    },
    {
      "cell_type": "code",
      "execution_count": null,
      "id": "f93d04e3",
      "metadata": {
        "id": "f93d04e3"
      },
      "outputs": [],
      "source": [
        "filename = 'C:/Users/VISLAB-seongwon/workspace/eeg_data.xlsx'\n",
        "\n",
        "with pd.ExcelWriter(filename) as writer:\n",
        "    all_df.to_excel(writer, sheet_name='num_of_wrong')\n",
        "    avg_df.to_excel(writer, sheet_name='wrong_rate')"
      ]
    },
    {
      "cell_type": "code",
      "execution_count": null,
      "id": "a9e734c2",
      "metadata": {
        "id": "a9e734c2"
      },
      "outputs": [],
      "source": []
    }
  ],
  "metadata": {
    "kernelspec": {
      "display_name": "Python 3 (ipykernel)",
      "language": "python",
      "name": "python3"
    },
    "language_info": {
      "codemirror_mode": {
        "name": "ipython",
        "version": 3
      },
      "file_extension": ".py",
      "mimetype": "text/x-python",
      "name": "python",
      "nbconvert_exporter": "python",
      "pygments_lexer": "ipython3",
      "version": "3.10.9"
    },
    "colab": {
      "provenance": []
    }
  },
  "nbformat": 4,
  "nbformat_minor": 5
}
