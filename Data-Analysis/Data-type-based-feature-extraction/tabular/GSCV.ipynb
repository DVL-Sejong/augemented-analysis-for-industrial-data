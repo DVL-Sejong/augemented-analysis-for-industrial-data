{
 "cells": [
  {
   "cell_type": "code",
   "execution_count": 1,
   "id": "aa5aa3d4",
   "metadata": {
    "_cell_guid": "b1076dfc-b9ad-4769-8c92-a6c4dae69d19",
    "_uuid": "8f2839f25d086af736a60e9eeb907d3b93b6e0e5",
    "execution": {
     "iopub.execute_input": "2023-04-11T08:38:53.325872Z",
     "iopub.status.busy": "2023-04-11T08:38:53.325260Z",
     "iopub.status.idle": "2023-04-11T08:38:53.342628Z",
     "shell.execute_reply": "2023-04-11T08:38:53.341377Z"
    },
    "papermill": {
     "duration": 0.029619,
     "end_time": "2023-04-11T08:38:53.345503",
     "exception": false,
     "start_time": "2023-04-11T08:38:53.315884",
     "status": "completed"
    },
    "tags": []
   },
   "outputs": [
    {
     "name": "stdout",
     "output_type": "stream",
     "text": [
      "/kaggle/input/2023-ml-w4p1/train.csv\n",
      "/kaggle/input/2023-ml-w4p1/test.csv\n",
      "/kaggle/input/2023-ml-w4p1/sample_submit.csv\n"
     ]
    }
   ],
   "source": [
    "# This Python 3 environment comes with many helpful analytics libraries installed\n",
    "# It is defined by the kaggle/python Docker image: https://github.com/kaggle/docker-python\n",
    "# For example, here's several helpful packages to load\n",
    "\n",
    "import numpy as np # linear algebra\n",
    "import pandas as pd # data processing, CSV file I/O (e.g. pd.read_csv)\n",
    "\n",
    "# Input data files are available in the read-only \"../input/\" directory\n",
    "# For example, running this (by clicking run or pressing Shift+Enter) will list all files under the input directory\n",
    "\n",
    "import os\n",
    "for dirname, _, filenames in os.walk('/kaggle/input'):\n",
    "    for filename in filenames:\n",
    "        print(os.path.join(dirname, filename))\n",
    "\n",
    "# You can write up to 20GB to the current directory (/kaggle/working/) that gets preserved as output when you create a version using \"Save & Run All\" \n",
    "# You can also write temporary files to /kaggle/temp/, but they won't be saved outside of the current session"
   ]
  },
  {
   "cell_type": "code",
   "execution_count": 2,
   "id": "3bbc89e8",
   "metadata": {
    "execution": {
     "iopub.execute_input": "2023-04-11T08:38:53.359766Z",
     "iopub.status.busy": "2023-04-11T08:38:53.359354Z",
     "iopub.status.idle": "2023-04-11T08:38:53.367909Z",
     "shell.execute_reply": "2023-04-11T08:38:53.366498Z"
    },
    "papermill": {
     "duration": 0.018457,
     "end_time": "2023-04-11T08:38:53.370249",
     "exception": false,
     "start_time": "2023-04-11T08:38:53.351792",
     "status": "completed"
    },
    "tags": []
   },
   "outputs": [],
   "source": [
    "%config Completer.use_jedi = False"
   ]
  },
  {
   "cell_type": "code",
   "execution_count": 3,
   "id": "0a448dfc",
   "metadata": {
    "execution": {
     "iopub.execute_input": "2023-04-11T08:38:53.384837Z",
     "iopub.status.busy": "2023-04-11T08:38:53.384411Z",
     "iopub.status.idle": "2023-04-11T08:38:53.390468Z",
     "shell.execute_reply": "2023-04-11T08:38:53.389129Z"
    },
    "papermill": {
     "duration": 0.016236,
     "end_time": "2023-04-11T08:38:53.392879",
     "exception": false,
     "start_time": "2023-04-11T08:38:53.376643",
     "status": "completed"
    },
    "tags": []
   },
   "outputs": [],
   "source": [
    "import random\n",
    "import os\n",
    "seed = 42\n",
    "random.seed(seed)\n",
    "np.random.seed(seed)\n",
    "os.environ[\"PYTHONHASHSEED\"] = str(seed)"
   ]
  },
  {
   "cell_type": "code",
   "execution_count": 4,
   "id": "23d3c3e3",
   "metadata": {
    "execution": {
     "iopub.execute_input": "2023-04-11T08:38:53.407069Z",
     "iopub.status.busy": "2023-04-11T08:38:53.406648Z",
     "iopub.status.idle": "2023-04-11T08:38:53.412220Z",
     "shell.execute_reply": "2023-04-11T08:38:53.410986Z"
    },
    "papermill": {
     "duration": 0.015665,
     "end_time": "2023-04-11T08:38:53.414741",
     "exception": false,
     "start_time": "2023-04-11T08:38:53.399076",
     "status": "completed"
    },
    "tags": []
   },
   "outputs": [],
   "source": [
    "import numpy as np\n",
    "import pandas as pd\n",
    "import matplotlib.pyplot as plt"
   ]
  },
  {
   "cell_type": "code",
   "execution_count": 5,
   "id": "fbfdc721",
   "metadata": {
    "execution": {
     "iopub.execute_input": "2023-04-11T08:38:53.429150Z",
     "iopub.status.busy": "2023-04-11T08:38:53.428718Z",
     "iopub.status.idle": "2023-04-11T08:38:53.458801Z",
     "shell.execute_reply": "2023-04-11T08:38:53.457643Z"
    },
    "papermill": {
     "duration": 0.040826,
     "end_time": "2023-04-11T08:38:53.461704",
     "exception": false,
     "start_time": "2023-04-11T08:38:53.420878",
     "status": "completed"
    },
    "tags": []
   },
   "outputs": [],
   "source": [
    "train = pd.read_csv(\"/kaggle/input/2023-ml-w4p1/train.csv\")\n",
    "test = pd.read_csv(\"/kaggle/input/2023-ml-w4p1/test.csv\")\n",
    "submit = pd.read_csv(\"/kaggle/input/2023-ml-w4p1/sample_submit.csv\")"
   ]
  },
  {
   "cell_type": "code",
   "execution_count": 6,
   "id": "93419876",
   "metadata": {
    "execution": {
     "iopub.execute_input": "2023-04-11T08:38:53.475729Z",
     "iopub.status.busy": "2023-04-11T08:38:53.475330Z",
     "iopub.status.idle": "2023-04-11T08:38:53.509697Z",
     "shell.execute_reply": "2023-04-11T08:38:53.508536Z"
    },
    "papermill": {
     "duration": 0.044462,
     "end_time": "2023-04-11T08:38:53.512349",
     "exception": false,
     "start_time": "2023-04-11T08:38:53.467887",
     "status": "completed"
    },
    "tags": []
   },
   "outputs": [
    {
     "data": {
      "text/html": [
       "<div>\n",
       "<style scoped>\n",
       "    .dataframe tbody tr th:only-of-type {\n",
       "        vertical-align: middle;\n",
       "    }\n",
       "\n",
       "    .dataframe tbody tr th {\n",
       "        vertical-align: top;\n",
       "    }\n",
       "\n",
       "    .dataframe thead th {\n",
       "        text-align: right;\n",
       "    }\n",
       "</style>\n",
       "<table border=\"1\" class=\"dataframe\">\n",
       "  <thead>\n",
       "    <tr style=\"text-align: right;\">\n",
       "      <th></th>\n",
       "      <th>N</th>\n",
       "      <th>P</th>\n",
       "      <th>K</th>\n",
       "      <th>temperature</th>\n",
       "      <th>humidity</th>\n",
       "      <th>ph</th>\n",
       "      <th>rainfall</th>\n",
       "      <th>label</th>\n",
       "    </tr>\n",
       "  </thead>\n",
       "  <tbody>\n",
       "    <tr>\n",
       "      <th>0</th>\n",
       "      <td>22</td>\n",
       "      <td>36</td>\n",
       "      <td>16</td>\n",
       "      <td>30.581395</td>\n",
       "      <td>50.771481</td>\n",
       "      <td>8.184229</td>\n",
       "      <td>64.585596</td>\n",
       "      <td>mothbeans</td>\n",
       "    </tr>\n",
       "    <tr>\n",
       "      <th>1</th>\n",
       "      <td>18</td>\n",
       "      <td>27</td>\n",
       "      <td>41</td>\n",
       "      <td>22.365094</td>\n",
       "      <td>92.308824</td>\n",
       "      <td>7.175344</td>\n",
       "      <td>104.821633</td>\n",
       "      <td>pomegranate</td>\n",
       "    </tr>\n",
       "    <tr>\n",
       "      <th>2</th>\n",
       "      <td>61</td>\n",
       "      <td>68</td>\n",
       "      <td>50</td>\n",
       "      <td>35.214628</td>\n",
       "      <td>91.497251</td>\n",
       "      <td>6.793245</td>\n",
       "      <td>243.074507</td>\n",
       "      <td>papaya</td>\n",
       "    </tr>\n",
       "    <tr>\n",
       "      <th>3</th>\n",
       "      <td>26</td>\n",
       "      <td>72</td>\n",
       "      <td>22</td>\n",
       "      <td>28.767949</td>\n",
       "      <td>37.577921</td>\n",
       "      <td>4.674942</td>\n",
       "      <td>91.720849</td>\n",
       "      <td>pigeonpeas</td>\n",
       "    </tr>\n",
       "    <tr>\n",
       "      <th>4</th>\n",
       "      <td>2</td>\n",
       "      <td>140</td>\n",
       "      <td>197</td>\n",
       "      <td>22.697801</td>\n",
       "      <td>92.822234</td>\n",
       "      <td>5.534567</td>\n",
       "      <td>105.050823</td>\n",
       "      <td>apple</td>\n",
       "    </tr>\n",
       "    <tr>\n",
       "      <th>...</th>\n",
       "      <td>...</td>\n",
       "      <td>...</td>\n",
       "      <td>...</td>\n",
       "      <td>...</td>\n",
       "      <td>...</td>\n",
       "      <td>...</td>\n",
       "      <td>...</td>\n",
       "      <td>...</td>\n",
       "    </tr>\n",
       "    <tr>\n",
       "      <th>1645</th>\n",
       "      <td>10</td>\n",
       "      <td>5</td>\n",
       "      <td>5</td>\n",
       "      <td>21.213070</td>\n",
       "      <td>91.353492</td>\n",
       "      <td>7.817846</td>\n",
       "      <td>112.983436</td>\n",
       "      <td>orange</td>\n",
       "    </tr>\n",
       "    <tr>\n",
       "      <th>1646</th>\n",
       "      <td>108</td>\n",
       "      <td>94</td>\n",
       "      <td>47</td>\n",
       "      <td>27.359116</td>\n",
       "      <td>84.546250</td>\n",
       "      <td>6.387431</td>\n",
       "      <td>90.812505</td>\n",
       "      <td>banana</td>\n",
       "    </tr>\n",
       "    <tr>\n",
       "      <th>1647</th>\n",
       "      <td>11</td>\n",
       "      <td>36</td>\n",
       "      <td>31</td>\n",
       "      <td>27.920633</td>\n",
       "      <td>51.779659</td>\n",
       "      <td>6.475449</td>\n",
       "      <td>100.258567</td>\n",
       "      <td>mango</td>\n",
       "    </tr>\n",
       "    <tr>\n",
       "      <th>1648</th>\n",
       "      <td>11</td>\n",
       "      <td>124</td>\n",
       "      <td>204</td>\n",
       "      <td>13.429886</td>\n",
       "      <td>80.066340</td>\n",
       "      <td>6.361141</td>\n",
       "      <td>71.400430</td>\n",
       "      <td>grapes</td>\n",
       "    </tr>\n",
       "    <tr>\n",
       "      <th>1649</th>\n",
       "      <td>32</td>\n",
       "      <td>78</td>\n",
       "      <td>22</td>\n",
       "      <td>23.970814</td>\n",
       "      <td>62.355576</td>\n",
       "      <td>7.007038</td>\n",
       "      <td>53.409060</td>\n",
       "      <td>lentil</td>\n",
       "    </tr>\n",
       "  </tbody>\n",
       "</table>\n",
       "<p>1650 rows × 8 columns</p>\n",
       "</div>"
      ],
      "text/plain": [
       "        N    P    K  temperature   humidity        ph    rainfall        label\n",
       "0      22   36   16    30.581395  50.771481  8.184229   64.585596    mothbeans\n",
       "1      18   27   41    22.365094  92.308824  7.175344  104.821633  pomegranate\n",
       "2      61   68   50    35.214628  91.497251  6.793245  243.074507       papaya\n",
       "3      26   72   22    28.767949  37.577921  4.674942   91.720849   pigeonpeas\n",
       "4       2  140  197    22.697801  92.822234  5.534567  105.050823        apple\n",
       "...   ...  ...  ...          ...        ...       ...         ...          ...\n",
       "1645   10    5    5    21.213070  91.353492  7.817846  112.983436       orange\n",
       "1646  108   94   47    27.359116  84.546250  6.387431   90.812505       banana\n",
       "1647   11   36   31    27.920633  51.779659  6.475449  100.258567        mango\n",
       "1648   11  124  204    13.429886  80.066340  6.361141   71.400430       grapes\n",
       "1649   32   78   22    23.970814  62.355576  7.007038   53.409060       lentil\n",
       "\n",
       "[1650 rows x 8 columns]"
      ]
     },
     "execution_count": 6,
     "metadata": {},
     "output_type": "execute_result"
    }
   ],
   "source": [
    "train"
   ]
  },
  {
   "cell_type": "code",
   "execution_count": 7,
   "id": "53e39061",
   "metadata": {
    "execution": {
     "iopub.execute_input": "2023-04-11T08:38:53.528030Z",
     "iopub.status.busy": "2023-04-11T08:38:53.526932Z",
     "iopub.status.idle": "2023-04-11T08:38:53.540321Z",
     "shell.execute_reply": "2023-04-11T08:38:53.538818Z"
    },
    "papermill": {
     "duration": 0.023794,
     "end_time": "2023-04-11T08:38:53.542783",
     "exception": false,
     "start_time": "2023-04-11T08:38:53.518989",
     "status": "completed"
    },
    "tags": []
   },
   "outputs": [
    {
     "name": "stdout",
     "output_type": "stream",
     "text": [
      "(1650, 7)\n",
      "(1650,)\n"
     ]
    }
   ],
   "source": [
    "X = train.drop('label', axis=1)\n",
    "print(X.shape)\n",
    "\n",
    "y = train['label']\n",
    "print(y.shape)"
   ]
  },
  {
   "cell_type": "code",
   "execution_count": 8,
   "id": "c7f3694e",
   "metadata": {
    "execution": {
     "iopub.execute_input": "2023-04-11T08:38:53.558418Z",
     "iopub.status.busy": "2023-04-11T08:38:53.557504Z",
     "iopub.status.idle": "2023-04-11T08:38:55.333953Z",
     "shell.execute_reply": "2023-04-11T08:38:55.332459Z"
    },
    "papermill": {
     "duration": 1.786883,
     "end_time": "2023-04-11T08:38:55.336399",
     "exception": false,
     "start_time": "2023-04-11T08:38:53.549516",
     "status": "completed"
    },
    "tags": []
   },
   "outputs": [
    {
     "name": "stdout",
     "output_type": "stream",
     "text": [
      "   sepal_length  sepal_width  petal_length  petal_width species\n",
      "0           5.1          3.5           1.4          0.2  setosa\n",
      "1           4.9          3.0           1.4          0.2  setosa\n",
      "2           4.7          3.2           1.3          0.2  setosa\n",
      "3           4.6          3.1           1.5          0.2  setosa\n",
      "4           5.0          3.6           1.4          0.2  setosa\n"
     ]
    }
   ],
   "source": [
    "# 혹시 모르니깐 아이리스 \n",
    "import seaborn as sns\n",
    "iris = sns.load_dataset('iris')\n",
    "print(iris.head())"
   ]
  },
  {
   "cell_type": "code",
   "execution_count": 9,
   "id": "6fecb077",
   "metadata": {
    "execution": {
     "iopub.execute_input": "2023-04-11T08:38:55.351973Z",
     "iopub.status.busy": "2023-04-11T08:38:55.350978Z",
     "iopub.status.idle": "2023-04-11T08:38:55.359504Z",
     "shell.execute_reply": "2023-04-11T08:38:55.358502Z"
    },
    "papermill": {
     "duration": 0.018897,
     "end_time": "2023-04-11T08:38:55.361844",
     "exception": false,
     "start_time": "2023-04-11T08:38:55.342947",
     "status": "completed"
    },
    "tags": []
   },
   "outputs": [
    {
     "data": {
      "text/plain": [
       "0         mothbeans\n",
       "1       pomegranate\n",
       "2            papaya\n",
       "3        pigeonpeas\n",
       "4             apple\n",
       "           ...     \n",
       "1645         orange\n",
       "1646         banana\n",
       "1647          mango\n",
       "1648         grapes\n",
       "1649         lentil\n",
       "Name: label, Length: 1650, dtype: object"
      ]
     },
     "execution_count": 9,
     "metadata": {},
     "output_type": "execute_result"
    }
   ],
   "source": [
    "y"
   ]
  },
  {
   "cell_type": "code",
   "execution_count": 10,
   "id": "1e71b875",
   "metadata": {
    "execution": {
     "iopub.execute_input": "2023-04-11T08:38:55.377455Z",
     "iopub.status.busy": "2023-04-11T08:38:55.376951Z",
     "iopub.status.idle": "2023-04-11T08:38:55.538969Z",
     "shell.execute_reply": "2023-04-11T08:38:55.537813Z"
    },
    "papermill": {
     "duration": 0.173116,
     "end_time": "2023-04-11T08:38:55.541727",
     "exception": false,
     "start_time": "2023-04-11T08:38:55.368611",
     "status": "completed"
    },
    "tags": []
   },
   "outputs": [
    {
     "name": "stdout",
     "output_type": "stream",
     "text": [
      "[ 0  1  2  3  4  5  6  7  8  9 10 11 12 13 14 15 16 17 18 19 20 21]\n"
     ]
    }
   ],
   "source": [
    "# 문자 라벨 숫자로 바꾸기\n",
    "from sklearn.preprocessing import LabelEncoder\n",
    "\n",
    "le = LabelEncoder()\n",
    "#yy = le.fit_transform(y['label'].values) \n",
    "#yy = yy.values.ravel() # labels.squeeze()#y가 데이터프레임일 경우\n",
    "yy = le.fit_transform(y)\n",
    "print(np.unique(yy))"
   ]
  },
  {
   "cell_type": "code",
   "execution_count": 11,
   "id": "b93295bd",
   "metadata": {
    "execution": {
     "iopub.execute_input": "2023-04-11T08:38:55.557770Z",
     "iopub.status.busy": "2023-04-11T08:38:55.557372Z",
     "iopub.status.idle": "2023-04-11T08:38:55.637418Z",
     "shell.execute_reply": "2023-04-11T08:38:55.636060Z"
    },
    "papermill": {
     "duration": 0.091305,
     "end_time": "2023-04-11T08:38:55.640032",
     "exception": false,
     "start_time": "2023-04-11T08:38:55.548727",
     "status": "completed"
    },
    "tags": []
   },
   "outputs": [
    {
     "name": "stdout",
     "output_type": "stream",
     "text": [
      "(1320, 7)\n",
      "(330, 7)\n",
      "(1320,)\n",
      "(330,)\n"
     ]
    }
   ],
   "source": [
    "from sklearn.model_selection import train_test_split as sp\n",
    "\n",
    "X_train, X_test, y_train, y_test = sp(X, y, random_state=1, test_size=0.2, stratify=y)\n",
    "\n",
    "print(X_train.shape)\n",
    "print(X_test.shape)\n",
    "print(y_train.shape)\n",
    "print(y_test.shape)"
   ]
  },
  {
   "cell_type": "code",
   "execution_count": 12,
   "id": "552918d5",
   "metadata": {
    "execution": {
     "iopub.execute_input": "2023-04-11T08:38:55.657261Z",
     "iopub.status.busy": "2023-04-11T08:38:55.656143Z",
     "iopub.status.idle": "2023-04-11T08:38:55.673226Z",
     "shell.execute_reply": "2023-04-11T08:38:55.672165Z"
    },
    "papermill": {
     "duration": 0.02802,
     "end_time": "2023-04-11T08:38:55.675979",
     "exception": false,
     "start_time": "2023-04-11T08:38:55.647959",
     "status": "completed"
    },
    "tags": []
   },
   "outputs": [],
   "source": [
    "from sklearn.preprocessing import StandardScaler\n",
    "from sklearn.preprocessing import MinMaxScaler\n",
    "\n",
    "ss = StandardScaler()\n",
    "ms = MinMaxScaler()\n",
    "\n",
    "X_train_ss = ss.fit_transform(X_train)\n",
    "X_test_ss = ss.transform(X_test)\n",
    "\n",
    "X_train_ms = ms.fit_transform(X_train)\n",
    "X_test_ms = ms.transform(X_test)"
   ]
  },
  {
   "cell_type": "code",
   "execution_count": 13,
   "id": "33c1ca4e",
   "metadata": {
    "execution": {
     "iopub.execute_input": "2023-04-11T08:38:55.691802Z",
     "iopub.status.busy": "2023-04-11T08:38:55.691033Z",
     "iopub.status.idle": "2023-04-11T08:38:55.911777Z",
     "shell.execute_reply": "2023-04-11T08:38:55.910409Z"
    },
    "papermill": {
     "duration": 0.231775,
     "end_time": "2023-04-11T08:38:55.914625",
     "exception": false,
     "start_time": "2023-04-11T08:38:55.682850",
     "status": "completed"
    },
    "tags": []
   },
   "outputs": [],
   "source": [
    "from sklearn.neighbors import KNeighborsClassifier\n",
    "from sklearn.linear_model import LogisticRegression\n",
    "from sklearn.discriminant_analysis import LinearDiscriminantAnalysis\n",
    "from sklearn.discriminant_analysis import QuadraticDiscriminantAnalysis\n",
    "\n",
    "knn = KNeighborsClassifier()\n",
    "logi = LogisticRegression()\n",
    "# lda = LinearDiscriminantAnalysis()\n",
    "# qda = QuadraticDiscriminantAnalysis()"
   ]
  },
  {
   "cell_type": "code",
   "execution_count": 14,
   "id": "05d48221",
   "metadata": {
    "execution": {
     "iopub.execute_input": "2023-04-11T08:38:55.930663Z",
     "iopub.status.busy": "2023-04-11T08:38:55.930236Z",
     "iopub.status.idle": "2023-04-11T08:38:55.939572Z",
     "shell.execute_reply": "2023-04-11T08:38:55.938122Z"
    },
    "papermill": {
     "duration": 0.020416,
     "end_time": "2023-04-11T08:38:55.942018",
     "exception": false,
     "start_time": "2023-04-11T08:38:55.921602",
     "status": "completed"
    },
    "tags": []
   },
   "outputs": [],
   "source": [
    "from sklearn.model_selection import GridSearchCV\n",
    "\n",
    "SCORING = 'accuracy'\n",
    "\n",
    "param_knn = {\"n_neighbors\":[3, 4, 5, 6], \"p\":[1, 2], \"weights\":['uniform', 'distance']}\n",
    "param_logi = {'solver':['saga'], \"penalty\":['ll', 'l2'], 'C':[0.1,1,5,10,100], 'max_iter':[5000]}\n",
    "param_lda = {'solver':['lsqr', 'eigen'], 'shrinkage':['None', 'auto']}\n",
    "param_qda = {'store_covariance':[True, False]}\n",
    "\n",
    "gscv_knn = GridSearchCV(estimator = knn, param_grid = param_knn, scoring = SCORING, cv = 3, refit = True)\n",
    "gscv_logi = GridSearchCV(estimator = logi, param_grid = param_logi, scoring = SCORING, cv = 3, refit = True)\n",
    "gscv_lda = GridSearchCV(estimator = lda, param_grid = param_lda, scoring = SCORING, cv = 3, refit = True)\n",
    "gscv_qda = GridSearchCV(estimator = qda, param_grid = param_qda, scoring = SCORING, cv = 3, refit = True)"
   ]
  },
  {
   "cell_type": "code",
   "execution_count": 15,
   "id": "b27b5146",
   "metadata": {
    "execution": {
     "iopub.execute_input": "2023-04-11T08:38:55.957829Z",
     "iopub.status.busy": "2023-04-11T08:38:55.957429Z",
     "iopub.status.idle": "2023-04-11T08:38:55.961852Z",
     "shell.execute_reply": "2023-04-11T08:38:55.960687Z"
    },
    "papermill": {
     "duration": 0.015328,
     "end_time": "2023-04-11T08:38:55.964287",
     "exception": false,
     "start_time": "2023-04-11T08:38:55.948959",
     "status": "completed"
    },
    "tags": []
   },
   "outputs": [],
   "source": [
    "#gscv_knn.fit(X_train, y_train)\n",
    "#gscv_logi.fit(X_train, y_train)\n",
    "#gscv_lda.fit(X_train, y_train)\n",
    "#gscv_qda.fit(X_train, y_train)"
   ]
  },
  {
   "cell_type": "code",
   "execution_count": 16,
   "id": "560b0b0c",
   "metadata": {
    "execution": {
     "iopub.execute_input": "2023-04-11T08:38:55.980252Z",
     "iopub.status.busy": "2023-04-11T08:38:55.979845Z",
     "iopub.status.idle": "2023-04-11T08:38:55.984481Z",
     "shell.execute_reply": "2023-04-11T08:38:55.983276Z"
    },
    "papermill": {
     "duration": 0.015195,
     "end_time": "2023-04-11T08:38:55.986736",
     "exception": false,
     "start_time": "2023-04-11T08:38:55.971541",
     "status": "completed"
    },
    "tags": []
   },
   "outputs": [],
   "source": [
    "# print(gscv_knn.best_params_)\n",
    "# print(gscv_knn.best_score_)\n",
    "# print(gscv_logi.best_params_)\n",
    "# print(gscv_logi.best_score_)\n",
    "# print(gscv_lda.best_params_)\n",
    "# print(gscv_lda.best_score_)\n",
    "# print(gscv_qda.best_params_)\n",
    "# print(gscv_qda.best_score_)"
   ]
  },
  {
   "cell_type": "code",
   "execution_count": 17,
   "id": "f6fe1780",
   "metadata": {
    "execution": {
     "iopub.execute_input": "2023-04-11T08:38:56.002959Z",
     "iopub.status.busy": "2023-04-11T08:38:56.002510Z",
     "iopub.status.idle": "2023-04-11T08:38:56.008197Z",
     "shell.execute_reply": "2023-04-11T08:38:56.006639Z"
    },
    "papermill": {
     "duration": 0.017106,
     "end_time": "2023-04-11T08:38:56.011012",
     "exception": false,
     "start_time": "2023-04-11T08:38:55.993906",
     "status": "completed"
    },
    "tags": []
   },
   "outputs": [],
   "source": [
    "model = QuadraticDiscriminantAnalysis(store_covariance = True)"
   ]
  },
  {
   "cell_type": "code",
   "execution_count": 18,
   "id": "55139b28",
   "metadata": {
    "execution": {
     "iopub.execute_input": "2023-04-11T08:38:56.026865Z",
     "iopub.status.busy": "2023-04-11T08:38:56.026451Z",
     "iopub.status.idle": "2023-04-11T08:38:56.057235Z",
     "shell.execute_reply": "2023-04-11T08:38:56.055847Z"
    },
    "papermill": {
     "duration": 0.041763,
     "end_time": "2023-04-11T08:38:56.059802",
     "exception": false,
     "start_time": "2023-04-11T08:38:56.018039",
     "status": "completed"
    },
    "tags": []
   },
   "outputs": [
    {
     "data": {
      "text/plain": [
       "QuadraticDiscriminantAnalysis(store_covariance=True)"
      ]
     },
     "execution_count": 18,
     "metadata": {},
     "output_type": "execute_result"
    }
   ],
   "source": [
    "model.fit(X, yy)"
   ]
  },
  {
   "cell_type": "code",
   "execution_count": 19,
   "id": "b13bcc6d",
   "metadata": {
    "execution": {
     "iopub.execute_input": "2023-04-11T08:38:56.075899Z",
     "iopub.status.busy": "2023-04-11T08:38:56.075429Z",
     "iopub.status.idle": "2023-04-11T08:38:56.088461Z",
     "shell.execute_reply": "2023-04-11T08:38:56.087133Z"
    },
    "papermill": {
     "duration": 0.024217,
     "end_time": "2023-04-11T08:38:56.091012",
     "exception": false,
     "start_time": "2023-04-11T08:38:56.066795",
     "status": "completed"
    },
    "tags": []
   },
   "outputs": [
    {
     "data": {
      "text/plain": [
       "array([15, 21, 17, 17,  0, 12,  0, 13, 14, 10,  2,  4, 19,  8,  4, 19,  0,\n",
       "       11, 17, 15,  5, 17, 16, 17,  3,  8, 14, 16, 18, 20, 19, 13,  8, 10,\n",
       "        8,  2,  8,  3,  3,  9, 17, 12,  2, 11, 14, 11, 18,  4, 15, 11,  2,\n",
       "        5,  7, 14,  5,  9,  6,  0,  1,  2, 21,  4, 10, 16, 17, 18, 16, 20,\n",
       "       15, 18, 15,  4,  8,  1,  2, 17,  1,  6, 21, 16,  5,  3, 20, 13, 16,\n",
       "       12,  5, 13,  2, 19, 11, 13,  6, 17, 18, 13,  9,  5,  2, 10,  4, 20,\n",
       "       16, 15, 21,  9, 21,  1, 18, 13,  1,  8,  6, 19, 18,  3, 11,  4, 19,\n",
       "       20, 18,  7,  2,  4,  3,  2,  4, 11,  1, 13,  1,  9, 19,  3,  4, 16,\n",
       "       18,  1,  1,  0,  9, 15, 14, 13,  4, 11,  0,  4,  9, 13, 14, 10, 21,\n",
       "       14, 18, 18, 18,  9, 11,  8,  3,  0, 16,  6, 20,  4,  7, 10, 21,  7,\n",
       "        7,  2, 19,  3,  4, 11, 10,  7, 21,  8,  5,  5,  9,  8, 13,  9,  1,\n",
       "        9,  4, 17, 17, 14, 12, 19, 21,  9, 11,  0,  2,  3,  7,  7,  1,  6,\n",
       "       20, 19, 14,  1,  8, 14, 11,  3,  3,  3,  0, 20,  9, 17,  5,  2,  9,\n",
       "       12, 12,  4, 17,  0,  3, 19,  3, 15,  0, 15, 15, 12, 12,  6,  4, 19,\n",
       "       20, 15,  5, 17, 10, 11, 12, 15, 18, 14,  5,  7,  4,  6, 18, 20,  0,\n",
       "       19,  5,  3,  6,  8, 12,  1, 17,  0,  3, 20, 18, 13, 14,  8, 19,  7,\n",
       "       13,  8, 11,  4, 11,  3,  1,  8,  4,  8, 12, 15,  0,  1, 18,  2, 16,\n",
       "        3, 21,  1,  0,  3,  5, 18, 16,  0,  4, 17, 21, 13, 17,  3, 19,  3,\n",
       "       17, 10,  0, 19,  3, 12,  3, 19, 21,  9, 14, 15, 21,  9, 15, 12,  8,\n",
       "        2,  3,  1,  2, 18, 17, 18, 14,  4,  6,  7,  0, 10,  1,  8,  0, 19,\n",
       "        0, 14, 15,  5,  5, 18,  8,  9,  1, 11,  8, 11, 18, 12,  9, 19, 21,\n",
       "        2, 11, 20, 13,  9, 12,  6, 17, 13,  6, 14, 16,  8,  2, 14,  5,  1,\n",
       "       18, 17,  0, 19, 11, 12,  4,  0, 10,  8, 13, 10,  4,  2,  8, 14,  6,\n",
       "       21,  0,  7,  4,  7, 21, 20, 12, 12,  5, 19,  1,  7,  8, 16,  6, 12,\n",
       "       17, 15, 13,  8,  3, 13, 19, 21, 13,  6, 17, 21, 10, 20,  4, 13, 13,\n",
       "       11, 20, 11,  4, 16, 19,  9, 21, 14,  2, 20, 20,  6,  6, 18, 16,  2,\n",
       "       10,  1, 12, 11,  0, 19, 12,  6, 14, 18,  3,  0,  5, 18,  8,  8,  8,\n",
       "       17, 10,  7, 20, 16, 14, 12,  9,  7, 14, 16, 18,  1,  8, 18, 19,  5,\n",
       "       15,  2, 17, 17, 19,  9,  3, 14, 14, 12, 18, 15, 12, 13, 18, 15, 20,\n",
       "       19, 15, 18,  0, 14, 20,  9,  0, 20, 12, 17, 13,  6, 19, 18, 17, 10,\n",
       "       11,  3, 15,  6,  9,  3, 14,  5,  5, 16, 21, 16,  7,  5, 18, 12,  0,\n",
       "       12, 19,  5, 18,  5,  7,  6, 19, 17,  0,  2, 18, 21, 17,  2,  7, 10,\n",
       "        8,  5, 17,  3,  5,  8])"
      ]
     },
     "execution_count": 19,
     "metadata": {},
     "output_type": "execute_result"
    }
   ],
   "source": [
    "y_pred = model.predict(test)\n",
    "y_pred"
   ]
  },
  {
   "cell_type": "code",
   "execution_count": 20,
   "id": "65a40daf",
   "metadata": {
    "execution": {
     "iopub.execute_input": "2023-04-11T08:38:56.109329Z",
     "iopub.status.busy": "2023-04-11T08:38:56.108310Z",
     "iopub.status.idle": "2023-04-11T08:38:56.114671Z",
     "shell.execute_reply": "2023-04-11T08:38:56.113473Z"
    },
    "papermill": {
     "duration": 0.019104,
     "end_time": "2023-04-11T08:38:56.117529",
     "exception": false,
     "start_time": "2023-04-11T08:38:56.098425",
     "status": "completed"
    },
    "tags": []
   },
   "outputs": [],
   "source": [
    "yyy = le.inverse_transform(y_pred)"
   ]
  },
  {
   "cell_type": "code",
   "execution_count": 21,
   "id": "b4717a3f",
   "metadata": {
    "execution": {
     "iopub.execute_input": "2023-04-11T08:38:56.134629Z",
     "iopub.status.busy": "2023-04-11T08:38:56.133592Z",
     "iopub.status.idle": "2023-04-11T08:38:56.143488Z",
     "shell.execute_reply": "2023-04-11T08:38:56.142210Z"
    },
    "papermill": {
     "duration": 0.021377,
     "end_time": "2023-04-11T08:38:56.146134",
     "exception": false,
     "start_time": "2023-04-11T08:38:56.124757",
     "status": "completed"
    },
    "tags": []
   },
   "outputs": [
    {
     "data": {
      "text/plain": [
       "array(['muskmelon', 'watermelon', 'papaya', 'papaya', 'apple', 'mango',\n",
       "       'apple', 'mothbeans', 'mungbean', 'lentil', 'blackgram', 'coconut',\n",
       "       'pomegranate', 'jute', 'coconut', 'pomegranate', 'apple', 'maize',\n",
       "       'papaya', 'muskmelon', 'coffee', 'papaya', 'orange', 'papaya',\n",
       "       'chickpea', 'jute', 'mungbean', 'orange', 'pigeonpeas', 'rice',\n",
       "       'pomegranate', 'mothbeans', 'jute', 'lentil', 'jute', 'blackgram',\n",
       "       'jute', 'chickpea', 'chickpea', 'kidneybeans', 'papaya', 'mango',\n",
       "       'blackgram', 'maize', 'mungbean', 'maize', 'pigeonpeas', 'coconut',\n",
       "       'muskmelon', 'maize', 'blackgram', 'coffee', 'grapes', 'mungbean',\n",
       "       'coffee', 'kidneybeans', 'cotton', 'apple', 'banana', 'blackgram',\n",
       "       'watermelon', 'coconut', 'lentil', 'orange', 'papaya',\n",
       "       'pigeonpeas', 'orange', 'rice', 'muskmelon', 'pigeonpeas',\n",
       "       'muskmelon', 'coconut', 'jute', 'banana', 'blackgram', 'papaya',\n",
       "       'banana', 'cotton', 'watermelon', 'orange', 'coffee', 'chickpea',\n",
       "       'rice', 'mothbeans', 'orange', 'mango', 'coffee', 'mothbeans',\n",
       "       'blackgram', 'pomegranate', 'maize', 'mothbeans', 'cotton',\n",
       "       'papaya', 'pigeonpeas', 'mothbeans', 'kidneybeans', 'coffee',\n",
       "       'blackgram', 'lentil', 'coconut', 'rice', 'orange', 'muskmelon',\n",
       "       'watermelon', 'kidneybeans', 'watermelon', 'banana', 'pigeonpeas',\n",
       "       'mothbeans', 'banana', 'jute', 'cotton', 'pomegranate',\n",
       "       'pigeonpeas', 'chickpea', 'maize', 'coconut', 'pomegranate',\n",
       "       'rice', 'pigeonpeas', 'grapes', 'blackgram', 'coconut', 'chickpea',\n",
       "       'blackgram', 'coconut', 'maize', 'banana', 'mothbeans', 'banana',\n",
       "       'kidneybeans', 'pomegranate', 'chickpea', 'coconut', 'orange',\n",
       "       'pigeonpeas', 'banana', 'banana', 'apple', 'kidneybeans',\n",
       "       'muskmelon', 'mungbean', 'mothbeans', 'coconut', 'maize', 'apple',\n",
       "       'coconut', 'kidneybeans', 'mothbeans', 'mungbean', 'lentil',\n",
       "       'watermelon', 'mungbean', 'pigeonpeas', 'pigeonpeas', 'pigeonpeas',\n",
       "       'kidneybeans', 'maize', 'jute', 'chickpea', 'apple', 'orange',\n",
       "       'cotton', 'rice', 'coconut', 'grapes', 'lentil', 'watermelon',\n",
       "       'grapes', 'grapes', 'blackgram', 'pomegranate', 'chickpea',\n",
       "       'coconut', 'maize', 'lentil', 'grapes', 'watermelon', 'jute',\n",
       "       'coffee', 'coffee', 'kidneybeans', 'jute', 'mothbeans',\n",
       "       'kidneybeans', 'banana', 'kidneybeans', 'coconut', 'papaya',\n",
       "       'papaya', 'mungbean', 'mango', 'pomegranate', 'watermelon',\n",
       "       'kidneybeans', 'maize', 'apple', 'blackgram', 'chickpea', 'grapes',\n",
       "       'grapes', 'banana', 'cotton', 'rice', 'pomegranate', 'mungbean',\n",
       "       'banana', 'jute', 'mungbean', 'maize', 'chickpea', 'chickpea',\n",
       "       'chickpea', 'apple', 'rice', 'kidneybeans', 'papaya', 'coffee',\n",
       "       'blackgram', 'kidneybeans', 'mango', 'mango', 'coconut', 'papaya',\n",
       "       'apple', 'chickpea', 'pomegranate', 'chickpea', 'muskmelon',\n",
       "       'apple', 'muskmelon', 'muskmelon', 'mango', 'mango', 'cotton',\n",
       "       'coconut', 'pomegranate', 'rice', 'muskmelon', 'coffee', 'papaya',\n",
       "       'lentil', 'maize', 'mango', 'muskmelon', 'pigeonpeas', 'mungbean',\n",
       "       'coffee', 'grapes', 'coconut', 'cotton', 'pigeonpeas', 'rice',\n",
       "       'apple', 'pomegranate', 'coffee', 'chickpea', 'cotton', 'jute',\n",
       "       'mango', 'banana', 'papaya', 'apple', 'chickpea', 'rice',\n",
       "       'pigeonpeas', 'mothbeans', 'mungbean', 'jute', 'pomegranate',\n",
       "       'grapes', 'mothbeans', 'jute', 'maize', 'coconut', 'maize',\n",
       "       'chickpea', 'banana', 'jute', 'coconut', 'jute', 'mango',\n",
       "       'muskmelon', 'apple', 'banana', 'pigeonpeas', 'blackgram',\n",
       "       'orange', 'chickpea', 'watermelon', 'banana', 'apple', 'chickpea',\n",
       "       'coffee', 'pigeonpeas', 'orange', 'apple', 'coconut', 'papaya',\n",
       "       'watermelon', 'mothbeans', 'papaya', 'chickpea', 'pomegranate',\n",
       "       'chickpea', 'papaya', 'lentil', 'apple', 'pomegranate', 'chickpea',\n",
       "       'mango', 'chickpea', 'pomegranate', 'watermelon', 'kidneybeans',\n",
       "       'mungbean', 'muskmelon', 'watermelon', 'kidneybeans', 'muskmelon',\n",
       "       'mango', 'jute', 'blackgram', 'chickpea', 'banana', 'blackgram',\n",
       "       'pigeonpeas', 'papaya', 'pigeonpeas', 'mungbean', 'coconut',\n",
       "       'cotton', 'grapes', 'apple', 'lentil', 'banana', 'jute', 'apple',\n",
       "       'pomegranate', 'apple', 'mungbean', 'muskmelon', 'coffee',\n",
       "       'coffee', 'pigeonpeas', 'jute', 'kidneybeans', 'banana', 'maize',\n",
       "       'jute', 'maize', 'pigeonpeas', 'mango', 'kidneybeans',\n",
       "       'pomegranate', 'watermelon', 'blackgram', 'maize', 'rice',\n",
       "       'mothbeans', 'kidneybeans', 'mango', 'cotton', 'papaya',\n",
       "       'mothbeans', 'cotton', 'mungbean', 'orange', 'jute', 'blackgram',\n",
       "       'mungbean', 'coffee', 'banana', 'pigeonpeas', 'papaya', 'apple',\n",
       "       'pomegranate', 'maize', 'mango', 'coconut', 'apple', 'lentil',\n",
       "       'jute', 'mothbeans', 'lentil', 'coconut', 'blackgram', 'jute',\n",
       "       'mungbean', 'cotton', 'watermelon', 'apple', 'grapes', 'coconut',\n",
       "       'grapes', 'watermelon', 'rice', 'mango', 'mango', 'coffee',\n",
       "       'pomegranate', 'banana', 'grapes', 'jute', 'orange', 'cotton',\n",
       "       'mango', 'papaya', 'muskmelon', 'mothbeans', 'jute', 'chickpea',\n",
       "       'mothbeans', 'pomegranate', 'watermelon', 'mothbeans', 'cotton',\n",
       "       'papaya', 'watermelon', 'lentil', 'rice', 'coconut', 'mothbeans',\n",
       "       'mothbeans', 'maize', 'rice', 'maize', 'coconut', 'orange',\n",
       "       'pomegranate', 'kidneybeans', 'watermelon', 'mungbean',\n",
       "       'blackgram', 'rice', 'rice', 'cotton', 'cotton', 'pigeonpeas',\n",
       "       'orange', 'blackgram', 'lentil', 'banana', 'mango', 'maize',\n",
       "       'apple', 'pomegranate', 'mango', 'cotton', 'mungbean',\n",
       "       'pigeonpeas', 'chickpea', 'apple', 'coffee', 'pigeonpeas', 'jute',\n",
       "       'jute', 'jute', 'papaya', 'lentil', 'grapes', 'rice', 'orange',\n",
       "       'mungbean', 'mango', 'kidneybeans', 'grapes', 'mungbean', 'orange',\n",
       "       'pigeonpeas', 'banana', 'jute', 'pigeonpeas', 'pomegranate',\n",
       "       'coffee', 'muskmelon', 'blackgram', 'papaya', 'papaya',\n",
       "       'pomegranate', 'kidneybeans', 'chickpea', 'mungbean', 'mungbean',\n",
       "       'mango', 'pigeonpeas', 'muskmelon', 'mango', 'mothbeans',\n",
       "       'pigeonpeas', 'muskmelon', 'rice', 'pomegranate', 'muskmelon',\n",
       "       'pigeonpeas', 'apple', 'mungbean', 'rice', 'kidneybeans', 'apple',\n",
       "       'rice', 'mango', 'papaya', 'mothbeans', 'cotton', 'pomegranate',\n",
       "       'pigeonpeas', 'papaya', 'lentil', 'maize', 'chickpea', 'muskmelon',\n",
       "       'cotton', 'kidneybeans', 'chickpea', 'mungbean', 'coffee',\n",
       "       'coffee', 'orange', 'watermelon', 'orange', 'grapes', 'coffee',\n",
       "       'pigeonpeas', 'mango', 'apple', 'mango', 'pomegranate', 'coffee',\n",
       "       'pigeonpeas', 'coffee', 'grapes', 'cotton', 'pomegranate',\n",
       "       'papaya', 'apple', 'blackgram', 'pigeonpeas', 'watermelon',\n",
       "       'papaya', 'blackgram', 'grapes', 'lentil', 'jute', 'coffee',\n",
       "       'papaya', 'chickpea', 'coffee', 'jute'], dtype=object)"
      ]
     },
     "execution_count": 21,
     "metadata": {},
     "output_type": "execute_result"
    }
   ],
   "source": [
    "yyy"
   ]
  },
  {
   "cell_type": "code",
   "execution_count": 22,
   "id": "e0fdde6e",
   "metadata": {
    "execution": {
     "iopub.execute_input": "2023-04-11T08:38:56.164411Z",
     "iopub.status.busy": "2023-04-11T08:38:56.163936Z",
     "iopub.status.idle": "2023-04-11T08:38:56.176008Z",
     "shell.execute_reply": "2023-04-11T08:38:56.174666Z"
    },
    "papermill": {
     "duration": 0.024147,
     "end_time": "2023-04-11T08:38:56.178726",
     "exception": false,
     "start_time": "2023-04-11T08:38:56.154579",
     "status": "completed"
    },
    "tags": []
   },
   "outputs": [],
   "source": [
    "submit['label'] = yyy\n",
    "submit.to_csv(\"submit.csv\", index=False)"
   ]
  },
  {
   "cell_type": "code",
   "execution_count": null,
   "id": "0ecb2a82",
   "metadata": {
    "papermill": {
     "duration": 0.007141,
     "end_time": "2023-04-11T08:38:56.193791",
     "exception": false,
     "start_time": "2023-04-11T08:38:56.186650",
     "status": "completed"
    },
    "tags": []
   },
   "outputs": [],
   "source": []
  }
 ],
 "metadata": {
  "kernelspec": {
   "display_name": "Python 3",
   "language": "python",
   "name": "python3"
  },
  "language_info": {
   "codemirror_mode": {
    "name": "ipython",
    "version": 3
   },
   "file_extension": ".py",
   "mimetype": "text/x-python",
   "name": "python",
   "nbconvert_exporter": "python",
   "pygments_lexer": "ipython3",
   "version": "3.7.12"
  },
  "papermill": {
   "default_parameters": {},
   "duration": 13.806597,
   "end_time": "2023-04-11T08:38:56.924356",
   "environment_variables": {},
   "exception": null,
   "input_path": "__notebook__.ipynb",
   "output_path": "__notebook__.ipynb",
   "parameters": {},
   "start_time": "2023-04-11T08:38:43.117759",
   "version": "2.4.0"
  }
 },
 "nbformat": 4,
 "nbformat_minor": 5
}
