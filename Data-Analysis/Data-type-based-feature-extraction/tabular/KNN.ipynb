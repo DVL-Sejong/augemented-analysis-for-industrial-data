{
 "cells": [
  {
   "cell_type": "code",
   "execution_count": 1,
   "id": "2d45775b",
   "metadata": {
    "execution": {
     "iopub.execute_input": "2023-04-11T06:17:11.618400Z",
     "iopub.status.busy": "2023-04-11T06:17:11.617950Z",
     "iopub.status.idle": "2023-04-11T06:17:11.634410Z",
     "shell.execute_reply": "2023-04-11T06:17:11.632889Z"
    },
    "id": "cDKfdqZTgqjq",
    "papermill": {
     "duration": 0.027185,
     "end_time": "2023-04-11T06:17:11.637137",
     "exception": false,
     "start_time": "2023-04-11T06:17:11.609952",
     "status": "completed"
    },
    "tags": []
   },
   "outputs": [
    {
     "name": "stdout",
     "output_type": "stream",
     "text": [
      "/kaggle/input/2023-ml-w4p1/train.csv\n",
      "/kaggle/input/2023-ml-w4p1/test.csv\n",
      "/kaggle/input/2023-ml-w4p1/sample_submit.csv\n"
     ]
    }
   ],
   "source": [
    "# This Python 3 environment comes with many helpful analytics libraries installed\n",
    "# It is defined by the kaggle/python Docker image: https://github.com/kaggle/docker-python\n",
    "# For example, here's several helpful packages to load\n",
    "\n",
    "import numpy as np # linear algebra\n",
    "import pandas as pd # data processing, CSV file I/O (e.g. pd.read_csv)\n",
    "\n",
    "# Input data files are available in the read-only \"../input/\" directory\n",
    "# For example, running this (by clicking run or pressing Shift+Enter) will list all files under the input directory\n",
    "\n",
    "import os\n",
    "for dirname, _, filenames in os.walk('/kaggle/input'):\n",
    "    for filename in filenames:\n",
    "        print(os.path.join(dirname, filename))\n",
    "\n",
    "# You can write up to 20GB to the current directory (/kaggle/working/) that gets preserved as output when you create a version using \"Save & Run All\" \n",
    "# You can also write temporary files to /kaggle/temp/, but they won't be saved outside of the current session"
   ]
  },
  {
   "cell_type": "code",
   "execution_count": 2,
   "id": "5d85d514",
   "metadata": {
    "execution": {
     "iopub.execute_input": "2023-04-11T06:17:11.650197Z",
     "iopub.status.busy": "2023-04-11T06:17:11.649414Z",
     "iopub.status.idle": "2023-04-11T06:17:12.946085Z",
     "shell.execute_reply": "2023-04-11T06:17:12.944948Z"
    },
    "id": "121d0df0",
    "papermill": {
     "duration": 1.306437,
     "end_time": "2023-04-11T06:17:12.949118",
     "exception": false,
     "start_time": "2023-04-11T06:17:11.642681",
     "status": "completed"
    },
    "tags": []
   },
   "outputs": [],
   "source": [
    "import numpy as np\n",
    "import pandas as pd\n",
    "import matplotlib.pyplot as plt\n",
    "import seaborn as sns"
   ]
  },
  {
   "cell_type": "code",
   "execution_count": 3,
   "id": "bc278a8d",
   "metadata": {
    "execution": {
     "iopub.execute_input": "2023-04-11T06:17:12.962038Z",
     "iopub.status.busy": "2023-04-11T06:17:12.961603Z",
     "iopub.status.idle": "2023-04-11T06:17:12.992820Z",
     "shell.execute_reply": "2023-04-11T06:17:12.991346Z"
    },
    "id": "72ee058e",
    "papermill": {
     "duration": 0.041218,
     "end_time": "2023-04-11T06:17:12.995890",
     "exception": false,
     "start_time": "2023-04-11T06:17:12.954672",
     "status": "completed"
    },
    "tags": []
   },
   "outputs": [],
   "source": [
    "train = pd.read_csv('/kaggle/input/2023-ml-w4p1/train.csv')\n",
    "test = pd.read_csv('/kaggle/input/2023-ml-w4p1/test.csv')"
   ]
  },
  {
   "cell_type": "code",
   "execution_count": 4,
   "id": "918e9690",
   "metadata": {
    "execution": {
     "iopub.execute_input": "2023-04-11T06:17:13.008773Z",
     "iopub.status.busy": "2023-04-11T06:17:13.008285Z",
     "iopub.status.idle": "2023-04-11T06:17:13.046867Z",
     "shell.execute_reply": "2023-04-11T06:17:13.045459Z"
    },
    "id": "c8469311",
    "outputId": "e1df4c0d-818e-4bfd-f721-219e6d78f32d",
    "papermill": {
     "duration": 0.048207,
     "end_time": "2023-04-11T06:17:13.049595",
     "exception": false,
     "start_time": "2023-04-11T06:17:13.001388",
     "status": "completed"
    },
    "tags": []
   },
   "outputs": [
    {
     "data": {
      "text/html": [
       "<div>\n",
       "<style scoped>\n",
       "    .dataframe tbody tr th:only-of-type {\n",
       "        vertical-align: middle;\n",
       "    }\n",
       "\n",
       "    .dataframe tbody tr th {\n",
       "        vertical-align: top;\n",
       "    }\n",
       "\n",
       "    .dataframe thead th {\n",
       "        text-align: right;\n",
       "    }\n",
       "</style>\n",
       "<table border=\"1\" class=\"dataframe\">\n",
       "  <thead>\n",
       "    <tr style=\"text-align: right;\">\n",
       "      <th></th>\n",
       "      <th>N</th>\n",
       "      <th>P</th>\n",
       "      <th>K</th>\n",
       "      <th>temperature</th>\n",
       "      <th>humidity</th>\n",
       "      <th>ph</th>\n",
       "      <th>rainfall</th>\n",
       "      <th>label</th>\n",
       "    </tr>\n",
       "  </thead>\n",
       "  <tbody>\n",
       "    <tr>\n",
       "      <th>0</th>\n",
       "      <td>22</td>\n",
       "      <td>36</td>\n",
       "      <td>16</td>\n",
       "      <td>30.581395</td>\n",
       "      <td>50.771481</td>\n",
       "      <td>8.184229</td>\n",
       "      <td>64.585596</td>\n",
       "      <td>mothbeans</td>\n",
       "    </tr>\n",
       "    <tr>\n",
       "      <th>1</th>\n",
       "      <td>18</td>\n",
       "      <td>27</td>\n",
       "      <td>41</td>\n",
       "      <td>22.365094</td>\n",
       "      <td>92.308824</td>\n",
       "      <td>7.175344</td>\n",
       "      <td>104.821633</td>\n",
       "      <td>pomegranate</td>\n",
       "    </tr>\n",
       "    <tr>\n",
       "      <th>2</th>\n",
       "      <td>61</td>\n",
       "      <td>68</td>\n",
       "      <td>50</td>\n",
       "      <td>35.214628</td>\n",
       "      <td>91.497251</td>\n",
       "      <td>6.793245</td>\n",
       "      <td>243.074507</td>\n",
       "      <td>papaya</td>\n",
       "    </tr>\n",
       "    <tr>\n",
       "      <th>3</th>\n",
       "      <td>26</td>\n",
       "      <td>72</td>\n",
       "      <td>22</td>\n",
       "      <td>28.767949</td>\n",
       "      <td>37.577921</td>\n",
       "      <td>4.674942</td>\n",
       "      <td>91.720849</td>\n",
       "      <td>pigeonpeas</td>\n",
       "    </tr>\n",
       "    <tr>\n",
       "      <th>4</th>\n",
       "      <td>2</td>\n",
       "      <td>140</td>\n",
       "      <td>197</td>\n",
       "      <td>22.697801</td>\n",
       "      <td>92.822234</td>\n",
       "      <td>5.534567</td>\n",
       "      <td>105.050823</td>\n",
       "      <td>apple</td>\n",
       "    </tr>\n",
       "    <tr>\n",
       "      <th>...</th>\n",
       "      <td>...</td>\n",
       "      <td>...</td>\n",
       "      <td>...</td>\n",
       "      <td>...</td>\n",
       "      <td>...</td>\n",
       "      <td>...</td>\n",
       "      <td>...</td>\n",
       "      <td>...</td>\n",
       "    </tr>\n",
       "    <tr>\n",
       "      <th>1645</th>\n",
       "      <td>10</td>\n",
       "      <td>5</td>\n",
       "      <td>5</td>\n",
       "      <td>21.213070</td>\n",
       "      <td>91.353492</td>\n",
       "      <td>7.817846</td>\n",
       "      <td>112.983436</td>\n",
       "      <td>orange</td>\n",
       "    </tr>\n",
       "    <tr>\n",
       "      <th>1646</th>\n",
       "      <td>108</td>\n",
       "      <td>94</td>\n",
       "      <td>47</td>\n",
       "      <td>27.359116</td>\n",
       "      <td>84.546250</td>\n",
       "      <td>6.387431</td>\n",
       "      <td>90.812505</td>\n",
       "      <td>banana</td>\n",
       "    </tr>\n",
       "    <tr>\n",
       "      <th>1647</th>\n",
       "      <td>11</td>\n",
       "      <td>36</td>\n",
       "      <td>31</td>\n",
       "      <td>27.920633</td>\n",
       "      <td>51.779659</td>\n",
       "      <td>6.475449</td>\n",
       "      <td>100.258567</td>\n",
       "      <td>mango</td>\n",
       "    </tr>\n",
       "    <tr>\n",
       "      <th>1648</th>\n",
       "      <td>11</td>\n",
       "      <td>124</td>\n",
       "      <td>204</td>\n",
       "      <td>13.429886</td>\n",
       "      <td>80.066340</td>\n",
       "      <td>6.361141</td>\n",
       "      <td>71.400430</td>\n",
       "      <td>grapes</td>\n",
       "    </tr>\n",
       "    <tr>\n",
       "      <th>1649</th>\n",
       "      <td>32</td>\n",
       "      <td>78</td>\n",
       "      <td>22</td>\n",
       "      <td>23.970814</td>\n",
       "      <td>62.355576</td>\n",
       "      <td>7.007038</td>\n",
       "      <td>53.409060</td>\n",
       "      <td>lentil</td>\n",
       "    </tr>\n",
       "  </tbody>\n",
       "</table>\n",
       "<p>1650 rows × 8 columns</p>\n",
       "</div>"
      ],
      "text/plain": [
       "        N    P    K  temperature   humidity        ph    rainfall        label\n",
       "0      22   36   16    30.581395  50.771481  8.184229   64.585596    mothbeans\n",
       "1      18   27   41    22.365094  92.308824  7.175344  104.821633  pomegranate\n",
       "2      61   68   50    35.214628  91.497251  6.793245  243.074507       papaya\n",
       "3      26   72   22    28.767949  37.577921  4.674942   91.720849   pigeonpeas\n",
       "4       2  140  197    22.697801  92.822234  5.534567  105.050823        apple\n",
       "...   ...  ...  ...          ...        ...       ...         ...          ...\n",
       "1645   10    5    5    21.213070  91.353492  7.817846  112.983436       orange\n",
       "1646  108   94   47    27.359116  84.546250  6.387431   90.812505       banana\n",
       "1647   11   36   31    27.920633  51.779659  6.475449  100.258567        mango\n",
       "1648   11  124  204    13.429886  80.066340  6.361141   71.400430       grapes\n",
       "1649   32   78   22    23.970814  62.355576  7.007038   53.409060       lentil\n",
       "\n",
       "[1650 rows x 8 columns]"
      ]
     },
     "execution_count": 4,
     "metadata": {},
     "output_type": "execute_result"
    }
   ],
   "source": [
    "train"
   ]
  },
  {
   "cell_type": "code",
   "execution_count": 5,
   "id": "e3040f00",
   "metadata": {
    "execution": {
     "iopub.execute_input": "2023-04-11T06:17:13.062891Z",
     "iopub.status.busy": "2023-04-11T06:17:13.062487Z",
     "iopub.status.idle": "2023-04-11T06:17:13.081453Z",
     "shell.execute_reply": "2023-04-11T06:17:13.080188Z"
    },
    "id": "98c03ba0",
    "outputId": "6d9e73b4-8fd3-447f-ac0c-5a45fd09d82a",
    "papermill": {
     "duration": 0.028592,
     "end_time": "2023-04-11T06:17:13.083885",
     "exception": false,
     "start_time": "2023-04-11T06:17:13.055293",
     "status": "completed"
    },
    "tags": []
   },
   "outputs": [
    {
     "data": {
      "text/html": [
       "<div>\n",
       "<style scoped>\n",
       "    .dataframe tbody tr th:only-of-type {\n",
       "        vertical-align: middle;\n",
       "    }\n",
       "\n",
       "    .dataframe tbody tr th {\n",
       "        vertical-align: top;\n",
       "    }\n",
       "\n",
       "    .dataframe thead th {\n",
       "        text-align: right;\n",
       "    }\n",
       "</style>\n",
       "<table border=\"1\" class=\"dataframe\">\n",
       "  <thead>\n",
       "    <tr style=\"text-align: right;\">\n",
       "      <th></th>\n",
       "      <th>N</th>\n",
       "      <th>P</th>\n",
       "      <th>K</th>\n",
       "      <th>temperature</th>\n",
       "      <th>humidity</th>\n",
       "      <th>ph</th>\n",
       "      <th>rainfall</th>\n",
       "    </tr>\n",
       "  </thead>\n",
       "  <tbody>\n",
       "    <tr>\n",
       "      <th>0</th>\n",
       "      <td>101</td>\n",
       "      <td>17</td>\n",
       "      <td>47</td>\n",
       "      <td>29.494014</td>\n",
       "      <td>94.729813</td>\n",
       "      <td>6.185053</td>\n",
       "      <td>26.308209</td>\n",
       "    </tr>\n",
       "    <tr>\n",
       "      <th>1</th>\n",
       "      <td>98</td>\n",
       "      <td>8</td>\n",
       "      <td>51</td>\n",
       "      <td>26.179346</td>\n",
       "      <td>86.522581</td>\n",
       "      <td>6.259336</td>\n",
       "      <td>49.430510</td>\n",
       "    </tr>\n",
       "    <tr>\n",
       "      <th>2</th>\n",
       "      <td>59</td>\n",
       "      <td>62</td>\n",
       "      <td>49</td>\n",
       "      <td>43.360515</td>\n",
       "      <td>93.351916</td>\n",
       "      <td>6.941497</td>\n",
       "      <td>114.778071</td>\n",
       "    </tr>\n",
       "    <tr>\n",
       "      <th>3</th>\n",
       "      <td>44</td>\n",
       "      <td>60</td>\n",
       "      <td>55</td>\n",
       "      <td>34.280461</td>\n",
       "      <td>90.555616</td>\n",
       "      <td>6.825371</td>\n",
       "      <td>98.540477</td>\n",
       "    </tr>\n",
       "    <tr>\n",
       "      <th>4</th>\n",
       "      <td>30</td>\n",
       "      <td>137</td>\n",
       "      <td>200</td>\n",
       "      <td>22.914300</td>\n",
       "      <td>90.704756</td>\n",
       "      <td>5.603413</td>\n",
       "      <td>118.604465</td>\n",
       "    </tr>\n",
       "    <tr>\n",
       "      <th>...</th>\n",
       "      <td>...</td>\n",
       "      <td>...</td>\n",
       "      <td>...</td>\n",
       "      <td>...</td>\n",
       "      <td>...</td>\n",
       "      <td>...</td>\n",
       "      <td>...</td>\n",
       "    </tr>\n",
       "    <tr>\n",
       "      <th>545</th>\n",
       "      <td>100</td>\n",
       "      <td>32</td>\n",
       "      <td>26</td>\n",
       "      <td>25.234661</td>\n",
       "      <td>57.531615</td>\n",
       "      <td>6.043486</td>\n",
       "      <td>124.226174</td>\n",
       "    </tr>\n",
       "    <tr>\n",
       "      <th>546</th>\n",
       "      <td>50</td>\n",
       "      <td>46</td>\n",
       "      <td>52</td>\n",
       "      <td>31.182984</td>\n",
       "      <td>90.216469</td>\n",
       "      <td>6.734006</td>\n",
       "      <td>54.018724</td>\n",
       "    </tr>\n",
       "    <tr>\n",
       "      <th>547</th>\n",
       "      <td>30</td>\n",
       "      <td>65</td>\n",
       "      <td>82</td>\n",
       "      <td>20.714244</td>\n",
       "      <td>15.278241</td>\n",
       "      <td>7.103798</td>\n",
       "      <td>76.778887</td>\n",
       "    </tr>\n",
       "    <tr>\n",
       "      <th>548</th>\n",
       "      <td>93</td>\n",
       "      <td>26</td>\n",
       "      <td>27</td>\n",
       "      <td>24.592457</td>\n",
       "      <td>56.468296</td>\n",
       "      <td>7.288212</td>\n",
       "      <td>137.704405</td>\n",
       "    </tr>\n",
       "    <tr>\n",
       "      <th>549</th>\n",
       "      <td>63</td>\n",
       "      <td>47</td>\n",
       "      <td>35</td>\n",
       "      <td>26.985822</td>\n",
       "      <td>89.055879</td>\n",
       "      <td>7.432768</td>\n",
       "      <td>193.877871</td>\n",
       "    </tr>\n",
       "  </tbody>\n",
       "</table>\n",
       "<p>550 rows × 7 columns</p>\n",
       "</div>"
      ],
      "text/plain": [
       "       N    P    K  temperature   humidity        ph    rainfall\n",
       "0    101   17   47    29.494014  94.729813  6.185053   26.308209\n",
       "1     98    8   51    26.179346  86.522581  6.259336   49.430510\n",
       "2     59   62   49    43.360515  93.351916  6.941497  114.778071\n",
       "3     44   60   55    34.280461  90.555616  6.825371   98.540477\n",
       "4     30  137  200    22.914300  90.704756  5.603413  118.604465\n",
       "..   ...  ...  ...          ...        ...       ...         ...\n",
       "545  100   32   26    25.234661  57.531615  6.043486  124.226174\n",
       "546   50   46   52    31.182984  90.216469  6.734006   54.018724\n",
       "547   30   65   82    20.714244  15.278241  7.103798   76.778887\n",
       "548   93   26   27    24.592457  56.468296  7.288212  137.704405\n",
       "549   63   47   35    26.985822  89.055879  7.432768  193.877871\n",
       "\n",
       "[550 rows x 7 columns]"
      ]
     },
     "execution_count": 5,
     "metadata": {},
     "output_type": "execute_result"
    }
   ],
   "source": [
    "test"
   ]
  },
  {
   "cell_type": "code",
   "execution_count": 6,
   "id": "69e71a3d",
   "metadata": {
    "execution": {
     "iopub.execute_input": "2023-04-11T06:17:13.098167Z",
     "iopub.status.busy": "2023-04-11T06:17:13.097720Z",
     "iopub.status.idle": "2023-04-11T06:17:13.112537Z",
     "shell.execute_reply": "2023-04-11T06:17:13.111108Z"
    },
    "id": "c8fc690e",
    "outputId": "55cc6b6b-bc2c-4199-d0d3-920f9234704c",
    "papermill": {
     "duration": 0.025036,
     "end_time": "2023-04-11T06:17:13.115163",
     "exception": false,
     "start_time": "2023-04-11T06:17:13.090127",
     "status": "completed"
    },
    "tags": []
   },
   "outputs": [
    {
     "name": "stdout",
     "output_type": "stream",
     "text": [
      "(1650, 8)\n",
      "(1650, 7)\n"
     ]
    }
   ],
   "source": [
    "print(train.shape)\n",
    "X = train.drop('label', axis=1) \n",
    "print(X.shape)\n",
    "\n",
    "y = train['label'] "
   ]
  },
  {
   "cell_type": "code",
   "execution_count": 7,
   "id": "303c946b",
   "metadata": {
    "execution": {
     "iopub.execute_input": "2023-04-11T06:17:13.129191Z",
     "iopub.status.busy": "2023-04-11T06:17:13.128724Z",
     "iopub.status.idle": "2023-04-11T06:17:13.314899Z",
     "shell.execute_reply": "2023-04-11T06:17:13.313311Z"
    },
    "id": "01c88692",
    "outputId": "9f8c2b6d-1905-4c63-8074-a70eeab88d00",
    "papermill": {
     "duration": 0.196386,
     "end_time": "2023-04-11T06:17:13.317705",
     "exception": false,
     "start_time": "2023-04-11T06:17:13.121319",
     "status": "completed"
    },
    "tags": []
   },
   "outputs": [
    {
     "name": "stdout",
     "output_type": "stream",
     "text": [
      "fruits : [ 0  1  2  3  4  5  6  7  8  9 10 11 12 13 14 15 16 17 18 19 20 21]\n"
     ]
    }
   ],
   "source": [
    "from sklearn.preprocessing import LabelEncoder\n",
    "import numpy as np\n",
    "\n",
    "classle = LabelEncoder()  # class Label Encoder 인스턴스 생성\n",
    "y = classle.fit_transform(train['label'].values) # 라벨 열의 문자열은 categorical 값으로 전환\n",
    "print('fruits :', np.unique(y))  # 중복되는 y값을 하나로 정리하여 print"
   ]
  },
  {
   "cell_type": "code",
   "execution_count": 8,
   "id": "98dc758f",
   "metadata": {
    "execution": {
     "iopub.execute_input": "2023-04-11T06:17:13.331414Z",
     "iopub.status.busy": "2023-04-11T06:17:13.330986Z",
     "iopub.status.idle": "2023-04-11T06:17:13.339221Z",
     "shell.execute_reply": "2023-04-11T06:17:13.337941Z"
    },
    "id": "1bc8d795",
    "outputId": "1cc935b4-9bc7-416f-dc45-cdc9894b8824",
    "papermill": {
     "duration": 0.018244,
     "end_time": "2023-04-11T06:17:13.341902",
     "exception": false,
     "start_time": "2023-04-11T06:17:13.323658",
     "status": "completed"
    },
    "tags": []
   },
   "outputs": [
    {
     "name": "stdout",
     "output_type": "stream",
     "text": [
      "species: ['apple' 'banana' 'blackgram' 'chickpea' 'coconut' 'coffee' 'cotton'\n",
      " 'grapes' 'jute' 'kidneybeans' 'lentil' 'maize' 'mango' 'mothbeans'\n",
      " 'mungbean' 'muskmelon' 'orange' 'papaya' 'pigeonpeas' 'pomegranate'\n",
      " 'rice' 'watermelon']\n"
     ]
    }
   ],
   "source": [
    "yo = classle.inverse_transform(y)\n",
    "print('species:', np.unique(yo))"
   ]
  },
  {
   "cell_type": "code",
   "execution_count": 9,
   "id": "b31e8674",
   "metadata": {
    "execution": {
     "iopub.execute_input": "2023-04-11T06:17:13.355878Z",
     "iopub.status.busy": "2023-04-11T06:17:13.355441Z",
     "iopub.status.idle": "2023-04-11T06:17:13.446694Z",
     "shell.execute_reply": "2023-04-11T06:17:13.445132Z"
    },
    "id": "a6bc6936",
    "outputId": "c4fbef1c-2b53-46b0-bc5c-e9dace434e67",
    "papermill": {
     "duration": 0.101724,
     "end_time": "2023-04-11T06:17:13.449755",
     "exception": false,
     "start_time": "2023-04-11T06:17:13.348031",
     "status": "completed"
    },
    "tags": []
   },
   "outputs": [
    {
     "name": "stdout",
     "output_type": "stream",
     "text": [
      "(1485, 7)\n",
      "(165, 7)\n",
      "(1485,)\n",
      "(165,)\n"
     ]
    }
   ],
   "source": [
    "from sklearn.model_selection import train_test_split # scikit-learn의 model_selection library를 train_test_split로 명명\n",
    "X_train, X_test, y_train, y_test = train_test_split(X, y, test_size=0.1, random_state=1, stratify=y)  # X와 y의 data를 분할\n",
    "\n",
    "print(X_train.shape)\n",
    "print(X_test.shape)\n",
    "print(y_train.shape)\n",
    "print(y_test.shape)"
   ]
  },
  {
   "cell_type": "code",
   "execution_count": 10,
   "id": "f563c5c2",
   "metadata": {
    "execution": {
     "iopub.execute_input": "2023-04-11T06:17:13.464161Z",
     "iopub.status.busy": "2023-04-11T06:17:13.463715Z",
     "iopub.status.idle": "2023-04-11T06:17:13.476723Z",
     "shell.execute_reply": "2023-04-11T06:17:13.475542Z"
    },
    "id": "8567639d",
    "papermill": {
     "duration": 0.023964,
     "end_time": "2023-04-11T06:17:13.480068",
     "exception": false,
     "start_time": "2023-04-11T06:17:13.456104",
     "status": "completed"
    },
    "tags": []
   },
   "outputs": [],
   "source": [
    "#(옵션)\n",
    "from sklearn.preprocessing import StandardScaler\n",
    "\n",
    "std=StandardScaler()\n",
    "\n",
    "X_train_std=std.fit_transform(X_train)\n",
    "X_test_std=std.transform(X_test)"
   ]
  },
  {
   "cell_type": "code",
   "execution_count": 11,
   "id": "02e9e138",
   "metadata": {
    "execution": {
     "iopub.execute_input": "2023-04-11T06:17:13.495398Z",
     "iopub.status.busy": "2023-04-11T06:17:13.494559Z",
     "iopub.status.idle": "2023-04-11T06:17:13.736041Z",
     "shell.execute_reply": "2023-04-11T06:17:13.734698Z"
    },
    "id": "d816a994",
    "outputId": "334873a3-1926-4f12-cdb2-89cfa8292900",
    "papermill": {
     "duration": 0.252027,
     "end_time": "2023-04-11T06:17:13.738706",
     "exception": false,
     "start_time": "2023-04-11T06:17:13.486679",
     "status": "completed"
    },
    "tags": []
   },
   "outputs": [
    {
     "data": {
      "text/plain": [
       "KNeighborsClassifier(p=1, weights='distance')"
      ]
     },
     "execution_count": 11,
     "metadata": {},
     "output_type": "execute_result"
    }
   ],
   "source": [
    "# KNN 적용\n",
    "from sklearn.neighbors import KNeighborsClassifier  # KNN 불러오기\n",
    "knn = KNeighborsClassifier(n_neighbors=5, p=1, weights ='distance')\n",
    "#knn.fit(X_train_std, y_train)  #모델 fitting 과정\n",
    "knn.fit(X_train, y_train)"
   ]
  },
  {
   "cell_type": "code",
   "execution_count": 12,
   "id": "213831e3",
   "metadata": {
    "execution": {
     "iopub.execute_input": "2023-04-11T06:17:13.753677Z",
     "iopub.status.busy": "2023-04-11T06:17:13.752486Z",
     "iopub.status.idle": "2023-04-11T06:17:13.781747Z",
     "shell.execute_reply": "2023-04-11T06:17:13.780331Z"
    },
    "id": "9a1922f7",
    "outputId": "dae5f86d-4d38-4a5d-c289-688f4d039f53",
    "papermill": {
     "duration": 0.03958,
     "end_time": "2023-04-11T06:17:13.784444",
     "exception": false,
     "start_time": "2023-04-11T06:17:13.744864",
     "status": "completed"
    },
    "tags": []
   },
   "outputs": [
    {
     "name": "stdout",
     "output_type": "stream",
     "text": [
      "Misclassified training samples: 0\n",
      "Misclassified test samples: 2\n"
     ]
    }
   ],
   "source": [
    "#y_train_pred = knn.predict(X_train_std)  # train data의 y값 예측치\n",
    "y_train_pred = knn.predict(X_train)  # train data의 y값 예측치\n",
    "#y_test_pred = knn.predict(X_test_std)  # 모델을 적용한 test data의 y값 예측치\n",
    "y_test_pred = knn.predict(X_test)  # 모델을 적용한 test data의 y값 예측치\n",
    "print('Misclassified training samples: %d' %(y_train != y_train_pred).sum())  # 오분류 데이터 갯수 확인\n",
    "print('Misclassified test samples: %d'%(y_test != y_test_pred).sum()) # 오분류 데이터 갯수 확인"
   ]
  },
  {
   "cell_type": "code",
   "execution_count": 13,
   "id": "594df0f9",
   "metadata": {
    "execution": {
     "iopub.execute_input": "2023-04-11T06:17:13.799309Z",
     "iopub.status.busy": "2023-04-11T06:17:13.798814Z",
     "iopub.status.idle": "2023-04-11T06:17:13.805910Z",
     "shell.execute_reply": "2023-04-11T06:17:13.804645Z"
    },
    "id": "43db6e69",
    "outputId": "d00c553e-9a78-4c2b-a4e1-4af96620e8ce",
    "papermill": {
     "duration": 0.017339,
     "end_time": "2023-04-11T06:17:13.808290",
     "exception": false,
     "start_time": "2023-04-11T06:17:13.790951",
     "status": "completed"
    },
    "tags": []
   },
   "outputs": [
    {
     "name": "stdout",
     "output_type": "stream",
     "text": [
      "0.9878787878787879\n"
     ]
    }
   ],
   "source": [
    "from sklearn.metrics import accuracy_score  # 정확도 계산을 위한 모듈 import\n",
    "print(accuracy_score(y_test, y_test_pred)) "
   ]
  },
  {
   "cell_type": "code",
   "execution_count": 14,
   "id": "6dfd7f33",
   "metadata": {
    "execution": {
     "iopub.execute_input": "2023-04-11T06:17:13.823118Z",
     "iopub.status.busy": "2023-04-11T06:17:13.822664Z",
     "iopub.status.idle": "2023-04-11T06:17:13.836681Z",
     "shell.execute_reply": "2023-04-11T06:17:13.835234Z"
    },
    "id": "753963da",
    "papermill": {
     "duration": 0.02472,
     "end_time": "2023-04-11T06:17:13.839553",
     "exception": false,
     "start_time": "2023-04-11T06:17:13.814833",
     "status": "completed"
    },
    "tags": []
   },
   "outputs": [],
   "source": [
    "y_pred = knn.predict(test)  # 모델을 적용한 test data의 y값 예측치"
   ]
  },
  {
   "cell_type": "code",
   "execution_count": 15,
   "id": "470f8bdc",
   "metadata": {
    "execution": {
     "iopub.execute_input": "2023-04-11T06:17:13.854063Z",
     "iopub.status.busy": "2023-04-11T06:17:13.853592Z",
     "iopub.status.idle": "2023-04-11T06:17:13.862955Z",
     "shell.execute_reply": "2023-04-11T06:17:13.861947Z"
    },
    "id": "e61eb1eb",
    "outputId": "5a2c0cb2-bbfe-471d-958b-6b518253c345",
    "papermill": {
     "duration": 0.019715,
     "end_time": "2023-04-11T06:17:13.865572",
     "exception": false,
     "start_time": "2023-04-11T06:17:13.845857",
     "status": "completed"
    },
    "tags": []
   },
   "outputs": [
    {
     "data": {
      "text/plain": [
       "array(['muskmelon', 'watermelon', 'papaya', 'papaya', 'apple', 'mango',\n",
       "       'apple', 'mothbeans', 'mungbean', 'lentil', 'blackgram', 'coconut',\n",
       "       'pomegranate', 'jute', 'coconut', 'pomegranate', 'apple', 'cotton',\n",
       "       'papaya', 'muskmelon', 'coffee', 'papaya', 'orange', 'papaya',\n",
       "       'chickpea', 'jute', 'mungbean', 'orange', 'pigeonpeas', 'jute',\n",
       "       'pomegranate', 'mothbeans', 'jute', 'lentil', 'jute', 'blackgram',\n",
       "       'jute', 'chickpea', 'chickpea', 'kidneybeans', 'papaya', 'mango',\n",
       "       'blackgram', 'maize', 'mungbean', 'maize', 'pigeonpeas', 'coconut',\n",
       "       'muskmelon', 'maize', 'blackgram', 'coffee', 'grapes', 'mungbean',\n",
       "       'coffee', 'kidneybeans', 'cotton', 'apple', 'banana', 'blackgram',\n",
       "       'watermelon', 'coconut', 'lentil', 'orange', 'papaya', 'blackgram',\n",
       "       'orange', 'rice', 'muskmelon', 'pigeonpeas', 'muskmelon',\n",
       "       'coconut', 'jute', 'banana', 'blackgram', 'papaya', 'banana',\n",
       "       'cotton', 'watermelon', 'orange', 'coffee', 'chickpea', 'rice',\n",
       "       'mothbeans', 'orange', 'mango', 'coffee', 'mothbeans', 'blackgram',\n",
       "       'pomegranate', 'maize', 'mothbeans', 'cotton', 'papaya',\n",
       "       'pigeonpeas', 'mothbeans', 'kidneybeans', 'coffee', 'blackgram',\n",
       "       'lentil', 'coconut', 'rice', 'orange', 'muskmelon', 'watermelon',\n",
       "       'kidneybeans', 'watermelon', 'banana', 'pigeonpeas', 'mothbeans',\n",
       "       'banana', 'jute', 'cotton', 'pomegranate', 'pigeonpeas',\n",
       "       'chickpea', 'maize', 'coconut', 'pomegranate', 'rice',\n",
       "       'pigeonpeas', 'grapes', 'blackgram', 'coconut', 'chickpea',\n",
       "       'blackgram', 'coconut', 'maize', 'banana', 'mothbeans', 'banana',\n",
       "       'kidneybeans', 'pomegranate', 'chickpea', 'coconut', 'orange',\n",
       "       'pigeonpeas', 'banana', 'banana', 'apple', 'kidneybeans',\n",
       "       'muskmelon', 'mungbean', 'mothbeans', 'coconut', 'maize', 'apple',\n",
       "       'coconut', 'kidneybeans', 'mothbeans', 'mungbean', 'lentil',\n",
       "       'watermelon', 'mungbean', 'pigeonpeas', 'pigeonpeas', 'pigeonpeas',\n",
       "       'kidneybeans', 'maize', 'jute', 'chickpea', 'apple', 'orange',\n",
       "       'cotton', 'rice', 'coconut', 'grapes', 'lentil', 'watermelon',\n",
       "       'grapes', 'grapes', 'blackgram', 'pomegranate', 'chickpea',\n",
       "       'coconut', 'maize', 'lentil', 'grapes', 'watermelon', 'jute',\n",
       "       'coffee', 'coffee', 'kidneybeans', 'jute', 'mothbeans',\n",
       "       'kidneybeans', 'banana', 'kidneybeans', 'coconut', 'papaya',\n",
       "       'papaya', 'mungbean', 'mango', 'pomegranate', 'watermelon',\n",
       "       'kidneybeans', 'maize', 'apple', 'blackgram', 'chickpea', 'grapes',\n",
       "       'grapes', 'banana', 'cotton', 'rice', 'pomegranate', 'mungbean',\n",
       "       'banana', 'jute', 'mungbean', 'maize', 'chickpea', 'chickpea',\n",
       "       'chickpea', 'apple', 'rice', 'kidneybeans', 'papaya', 'coffee',\n",
       "       'blackgram', 'kidneybeans', 'mango', 'mango', 'coconut', 'papaya',\n",
       "       'apple', 'chickpea', 'pomegranate', 'chickpea', 'muskmelon',\n",
       "       'apple', 'muskmelon', 'muskmelon', 'mango', 'mango', 'cotton',\n",
       "       'coconut', 'pomegranate', 'rice', 'muskmelon', 'coffee', 'papaya',\n",
       "       'lentil', 'maize', 'mango', 'muskmelon', 'pigeonpeas', 'mungbean',\n",
       "       'coffee', 'grapes', 'coconut', 'cotton', 'pigeonpeas', 'rice',\n",
       "       'apple', 'pomegranate', 'coffee', 'chickpea', 'cotton', 'jute',\n",
       "       'mango', 'banana', 'papaya', 'apple', 'chickpea', 'jute',\n",
       "       'pigeonpeas', 'mothbeans', 'mungbean', 'jute', 'pomegranate',\n",
       "       'grapes', 'mothbeans', 'jute', 'maize', 'coconut', 'maize',\n",
       "       'chickpea', 'banana', 'jute', 'coconut', 'jute', 'mango',\n",
       "       'muskmelon', 'apple', 'banana', 'pigeonpeas', 'blackgram',\n",
       "       'orange', 'chickpea', 'watermelon', 'banana', 'apple', 'chickpea',\n",
       "       'coffee', 'pigeonpeas', 'orange', 'apple', 'coconut', 'papaya',\n",
       "       'watermelon', 'mothbeans', 'papaya', 'chickpea', 'pomegranate',\n",
       "       'chickpea', 'papaya', 'lentil', 'apple', 'pomegranate', 'chickpea',\n",
       "       'mango', 'chickpea', 'pomegranate', 'watermelon', 'kidneybeans',\n",
       "       'mungbean', 'muskmelon', 'watermelon', 'kidneybeans', 'muskmelon',\n",
       "       'mango', 'jute', 'blackgram', 'chickpea', 'banana', 'blackgram',\n",
       "       'pigeonpeas', 'papaya', 'kidneybeans', 'mungbean', 'coconut',\n",
       "       'cotton', 'grapes', 'apple', 'lentil', 'banana', 'jute', 'apple',\n",
       "       'pomegranate', 'apple', 'mungbean', 'muskmelon', 'coffee', 'jute',\n",
       "       'pigeonpeas', 'jute', 'kidneybeans', 'banana', 'maize', 'jute',\n",
       "       'maize', 'pigeonpeas', 'mango', 'kidneybeans', 'pomegranate',\n",
       "       'watermelon', 'blackgram', 'maize', 'rice', 'mothbeans',\n",
       "       'kidneybeans', 'mango', 'cotton', 'papaya', 'mothbeans', 'cotton',\n",
       "       'mungbean', 'orange', 'jute', 'blackgram', 'mungbean', 'coffee',\n",
       "       'banana', 'pigeonpeas', 'papaya', 'apple', 'pomegranate', 'maize',\n",
       "       'mango', 'coconut', 'apple', 'lentil', 'jute', 'mothbeans',\n",
       "       'lentil', 'coconut', 'blackgram', 'jute', 'mungbean', 'cotton',\n",
       "       'watermelon', 'apple', 'grapes', 'coconut', 'grapes', 'watermelon',\n",
       "       'rice', 'mango', 'mango', 'coffee', 'pomegranate', 'banana',\n",
       "       'grapes', 'jute', 'orange', 'cotton', 'mango', 'papaya',\n",
       "       'muskmelon', 'mothbeans', 'jute', 'chickpea', 'mothbeans',\n",
       "       'pomegranate', 'watermelon', 'mothbeans', 'cotton', 'papaya',\n",
       "       'watermelon', 'lentil', 'rice', 'coconut', 'mothbeans',\n",
       "       'mothbeans', 'maize', 'rice', 'maize', 'coconut', 'orange',\n",
       "       'pomegranate', 'kidneybeans', 'watermelon', 'mungbean',\n",
       "       'blackgram', 'rice', 'rice', 'cotton', 'cotton', 'pigeonpeas',\n",
       "       'orange', 'blackgram', 'lentil', 'banana', 'mango', 'maize',\n",
       "       'apple', 'pomegranate', 'mango', 'cotton', 'mungbean',\n",
       "       'pigeonpeas', 'chickpea', 'apple', 'coffee', 'pigeonpeas', 'jute',\n",
       "       'jute', 'jute', 'papaya', 'lentil', 'grapes', 'jute', 'orange',\n",
       "       'mungbean', 'mango', 'kidneybeans', 'grapes', 'mungbean', 'orange',\n",
       "       'pigeonpeas', 'banana', 'jute', 'pigeonpeas', 'pomegranate',\n",
       "       'coffee', 'muskmelon', 'blackgram', 'papaya', 'papaya',\n",
       "       'pomegranate', 'kidneybeans', 'chickpea', 'mungbean', 'mungbean',\n",
       "       'mango', 'pigeonpeas', 'muskmelon', 'mango', 'mothbeans',\n",
       "       'pigeonpeas', 'muskmelon', 'rice', 'pomegranate', 'muskmelon',\n",
       "       'pigeonpeas', 'apple', 'mungbean', 'jute', 'kidneybeans', 'apple',\n",
       "       'rice', 'mango', 'papaya', 'mothbeans', 'cotton', 'pomegranate',\n",
       "       'pigeonpeas', 'papaya', 'lentil', 'maize', 'chickpea', 'muskmelon',\n",
       "       'cotton', 'kidneybeans', 'chickpea', 'mungbean', 'coffee',\n",
       "       'coffee', 'orange', 'watermelon', 'orange', 'grapes', 'coffee',\n",
       "       'pigeonpeas', 'mango', 'apple', 'mango', 'pomegranate', 'coffee',\n",
       "       'pigeonpeas', 'coffee', 'grapes', 'cotton', 'pomegranate',\n",
       "       'papaya', 'apple', 'blackgram', 'pigeonpeas', 'watermelon',\n",
       "       'papaya', 'blackgram', 'grapes', 'lentil', 'jute', 'coffee',\n",
       "       'papaya', 'chickpea', 'coffee', 'jute'], dtype=object)"
      ]
     },
     "execution_count": 15,
     "metadata": {},
     "output_type": "execute_result"
    }
   ],
   "source": [
    "yyy = classle.inverse_transform(y_pred)\n",
    "yyy"
   ]
  },
  {
   "cell_type": "code",
   "execution_count": 16,
   "id": "d918eba2",
   "metadata": {
    "execution": {
     "iopub.execute_input": "2023-04-11T06:17:13.882533Z",
     "iopub.status.busy": "2023-04-11T06:17:13.881390Z",
     "iopub.status.idle": "2023-04-11T06:17:13.895334Z",
     "shell.execute_reply": "2023-04-11T06:17:13.893908Z"
    },
    "id": "5689dad7",
    "papermill": {
     "duration": 0.025265,
     "end_time": "2023-04-11T06:17:13.898587",
     "exception": false,
     "start_time": "2023-04-11T06:17:13.873322",
     "status": "completed"
    },
    "tags": []
   },
   "outputs": [],
   "source": [
    "submission = pd.DataFrame({\n",
    "    \"id\" : range(len(yyy)),\n",
    "    \"label\": yyy\n",
    "})\n",
    "\n",
    "submission.to_csv('sample_submit.csv', index = False)"
   ]
  },
  {
   "cell_type": "code",
   "execution_count": 17,
   "id": "2f3addcf",
   "metadata": {
    "execution": {
     "iopub.execute_input": "2023-04-11T06:17:13.914900Z",
     "iopub.status.busy": "2023-04-11T06:17:13.914456Z",
     "iopub.status.idle": "2023-04-11T06:17:13.929674Z",
     "shell.execute_reply": "2023-04-11T06:17:13.928341Z"
    },
    "id": "f3899631",
    "outputId": "16ce9751-21a4-4b4c-8860-3b5b421c4901",
    "papermill": {
     "duration": 0.026499,
     "end_time": "2023-04-11T06:17:13.932477",
     "exception": false,
     "start_time": "2023-04-11T06:17:13.905978",
     "status": "completed"
    },
    "tags": []
   },
   "outputs": [
    {
     "data": {
      "text/html": [
       "<div>\n",
       "<style scoped>\n",
       "    .dataframe tbody tr th:only-of-type {\n",
       "        vertical-align: middle;\n",
       "    }\n",
       "\n",
       "    .dataframe tbody tr th {\n",
       "        vertical-align: top;\n",
       "    }\n",
       "\n",
       "    .dataframe thead th {\n",
       "        text-align: right;\n",
       "    }\n",
       "</style>\n",
       "<table border=\"1\" class=\"dataframe\">\n",
       "  <thead>\n",
       "    <tr style=\"text-align: right;\">\n",
       "      <th></th>\n",
       "      <th>id</th>\n",
       "      <th>label</th>\n",
       "    </tr>\n",
       "  </thead>\n",
       "  <tbody>\n",
       "    <tr>\n",
       "      <th>0</th>\n",
       "      <td>0</td>\n",
       "      <td>muskmelon</td>\n",
       "    </tr>\n",
       "    <tr>\n",
       "      <th>1</th>\n",
       "      <td>1</td>\n",
       "      <td>watermelon</td>\n",
       "    </tr>\n",
       "    <tr>\n",
       "      <th>2</th>\n",
       "      <td>2</td>\n",
       "      <td>papaya</td>\n",
       "    </tr>\n",
       "    <tr>\n",
       "      <th>3</th>\n",
       "      <td>3</td>\n",
       "      <td>papaya</td>\n",
       "    </tr>\n",
       "    <tr>\n",
       "      <th>4</th>\n",
       "      <td>4</td>\n",
       "      <td>apple</td>\n",
       "    </tr>\n",
       "    <tr>\n",
       "      <th>...</th>\n",
       "      <td>...</td>\n",
       "      <td>...</td>\n",
       "    </tr>\n",
       "    <tr>\n",
       "      <th>545</th>\n",
       "      <td>545</td>\n",
       "      <td>coffee</td>\n",
       "    </tr>\n",
       "    <tr>\n",
       "      <th>546</th>\n",
       "      <td>546</td>\n",
       "      <td>papaya</td>\n",
       "    </tr>\n",
       "    <tr>\n",
       "      <th>547</th>\n",
       "      <td>547</td>\n",
       "      <td>chickpea</td>\n",
       "    </tr>\n",
       "    <tr>\n",
       "      <th>548</th>\n",
       "      <td>548</td>\n",
       "      <td>coffee</td>\n",
       "    </tr>\n",
       "    <tr>\n",
       "      <th>549</th>\n",
       "      <td>549</td>\n",
       "      <td>jute</td>\n",
       "    </tr>\n",
       "  </tbody>\n",
       "</table>\n",
       "<p>550 rows × 2 columns</p>\n",
       "</div>"
      ],
      "text/plain": [
       "      id       label\n",
       "0      0   muskmelon\n",
       "1      1  watermelon\n",
       "2      2      papaya\n",
       "3      3      papaya\n",
       "4      4       apple\n",
       "..   ...         ...\n",
       "545  545      coffee\n",
       "546  546      papaya\n",
       "547  547    chickpea\n",
       "548  548      coffee\n",
       "549  549        jute\n",
       "\n",
       "[550 rows x 2 columns]"
      ]
     },
     "execution_count": 17,
     "metadata": {},
     "output_type": "execute_result"
    }
   ],
   "source": [
    "submission"
   ]
  }
 ],
 "metadata": {
  "kernelspec": {
   "display_name": "Python 3",
   "language": "python",
   "name": "python3"
  },
  "language_info": {
   "codemirror_mode": {
    "name": "ipython",
    "version": 3
   },
   "file_extension": ".py",
   "mimetype": "text/x-python",
   "name": "python",
   "nbconvert_exporter": "python",
   "pygments_lexer": "ipython3",
   "version": "3.7.12"
  },
  "papermill": {
   "default_parameters": {},
   "duration": 14.720097,
   "end_time": "2023-04-11T06:17:14.763623",
   "environment_variables": {},
   "exception": null,
   "input_path": "__notebook__.ipynb",
   "output_path": "__notebook__.ipynb",
   "parameters": {},
   "start_time": "2023-04-11T06:17:00.043526",
   "version": "2.4.0"
  }
 },
 "nbformat": 4,
 "nbformat_minor": 5
}
