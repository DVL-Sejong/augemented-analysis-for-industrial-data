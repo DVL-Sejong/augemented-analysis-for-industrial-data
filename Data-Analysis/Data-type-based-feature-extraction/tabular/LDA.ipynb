{
  "metadata": {
    "kernelspec": {
      "language": "python",
      "display_name": "Python 3",
      "name": "python3"
    },
    "language_info": {
      "pygments_lexer": "ipython3",
      "nbconvert_exporter": "python",
      "version": "3.6.4",
      "file_extension": ".py",
      "codemirror_mode": {
        "name": "ipython",
        "version": 3
      },
      "name": "python",
      "mimetype": "text/x-python"
    },
    "colab": {
      "provenance": []
    }
  },
  "nbformat_minor": 0,
  "nbformat": 4,
  "cells": [
    {
      "cell_type": "code",
      "source": [
        "!mkdir -p ~/.kaggle\n",
        "!cp kaggle.json ~/.kaggle\n",
        "!chmod 600 ~/.kaggle/kaggle.json"
      ],
      "metadata": {
        "_uuid": "8f2839f25d086af736a60e9eeb907d3b93b6e0e5",
        "_cell_guid": "b1076dfc-b9ad-4769-8c92-a6c4dae69d19",
        "execution": {
          "iopub.status.busy": "2022-04-03T06:41:49.296105Z",
          "iopub.execute_input": "2022-04-03T06:41:49.297074Z",
          "iopub.status.idle": "2022-04-03T06:41:49.304048Z",
          "shell.execute_reply.started": "2022-04-03T06:41:49.297017Z",
          "shell.execute_reply": "2022-04-03T06:41:49.303228Z"
        },
        "trusted": true,
        "id": "f8wt1vwZ96sl"
      },
      "execution_count": null,
      "outputs": []
    },
    {
      "cell_type": "code",
      "source": [
        "!kaggle competitions download -c 2023-ml-w5p2\n",
        "!unzip 2023-ml-w5p2.zip"
      ],
      "metadata": {
        "id": "lX5R7jJd-oA_"
      },
      "execution_count": null,
      "outputs": []
    },
    {
      "cell_type": "code",
      "source": [
        "import numpy as np"
      ],
      "metadata": {
        "id": "1Y86ZQgn_5yQ"
      },
      "execution_count": null,
      "outputs": []
    },
    {
      "cell_type": "code",
      "source": [
        "import random\n",
        "import os\n",
        "seed = 42\n",
        "random.seed(seed)\n",
        "np.random.seed(seed)\n",
        "os.environ[\"PYTHONHASHSEED\"] = str(seed)"
      ],
      "metadata": {
        "execution": {
          "iopub.status.busy": "2022-04-03T06:41:49.324857Z",
          "iopub.execute_input": "2022-04-03T06:41:49.325324Z",
          "iopub.status.idle": "2022-04-03T06:41:49.329752Z",
          "shell.execute_reply.started": "2022-04-03T06:41:49.325287Z",
          "shell.execute_reply": "2022-04-03T06:41:49.329157Z"
        },
        "trusted": true,
        "id": "A6gBU-LS96sn"
      },
      "execution_count": null,
      "outputs": []
    },
    {
      "cell_type": "code",
      "source": [
        "# Iris data 불러오기\n",
        "import seaborn as sns # seaborn \n",
        "iris=sns.load_dataset('iris') # iris라는 변수명으로 Iris data를 download\n"
      ],
      "metadata": {
        "execution": {
          "iopub.status.busy": "2022-04-03T06:41:49.356064Z",
          "iopub.execute_input": "2022-04-03T06:41:49.35647Z",
          "iopub.status.idle": "2022-04-03T06:41:49.36278Z",
          "shell.execute_reply.started": "2022-04-03T06:41:49.35644Z",
          "shell.execute_reply": "2022-04-03T06:41:49.362219Z"
        },
        "trusted": true,
        "id": "O-ZYlW9C96so"
      },
      "execution_count": null,
      "outputs": []
    },
    {
      "cell_type": "code",
      "source": [
        "# 학습을 위해 데이터 셋 가공\n",
        "X = iris.drop('species',axis=1) # 'species'열을 drop하고 특성변수 X를 정의함.\n",
        "\n",
        "# 문자 => 범주형 값으로 변환\n",
        "from sklearn.preprocessing import LabelEncoder # LabelEncoder() method를 불러옴\n",
        "classle = LabelEncoder() \n",
        "y = classle.fit_transform(iris['species'].values) # species 열의 문자형을 범주형 값으로 전환\n"
      ],
      "metadata": {
        "execution": {
          "iopub.status.busy": "2022-04-03T06:41:49.384017Z",
          "iopub.execute_input": "2022-04-03T06:41:49.384459Z",
          "iopub.status.idle": "2022-04-03T06:41:49.390082Z",
          "shell.execute_reply.started": "2022-04-03T06:41:49.384426Z",
          "shell.execute_reply": "2022-04-03T06:41:49.389462Z"
        },
        "trusted": true,
        "id": "wShAF8q096so"
      },
      "execution_count": null,
      "outputs": []
    },
    {
      "cell_type": "code",
      "source": [
        "# 학습데이터와 테스트 데이터로 가공하여 모델 학습 및 평가 준비\n",
        "from sklearn.model_selection import train_test_split \n",
        "X_train,X_test,Y_train,Y_test=train_test_split(X,y, test_size=0.4, random_state=42, stratify=y)\n"
      ],
      "metadata": {
        "execution": {
          "iopub.status.busy": "2022-04-03T06:41:49.406859Z",
          "iopub.execute_input": "2022-04-03T06:41:49.407134Z",
          "iopub.status.idle": "2022-04-03T06:41:49.414966Z",
          "shell.execute_reply.started": "2022-04-03T06:41:49.407102Z",
          "shell.execute_reply": "2022-04-03T06:41:49.414092Z"
        },
        "trusted": true,
        "id": "rKtuFZZG96sp"
      },
      "execution_count": null,
      "outputs": []
    },
    {
      "cell_type": "code",
      "source": [
        "# Iris data에 대한 LDA 학습\n",
        "from sklearn.discriminant_analysis import LinearDiscriminantAnalysis\n",
        "lda = LinearDiscriminantAnalysis()\n",
        "X_lda = lda.fit_transform(X_train, Y_train) # LDA 학습\n",
        "Y_train_pred = lda.predict(X_train)\n",
        "Y_test_pred = lda.predict(X_test)\n",
        "\n",
        "from matplotlib import pyplot as plt\n",
        "plt.xlabel('LD1')\n",
        "plt.ylabel('LD2')\n",
        "plt.scatter(\n",
        "    X_lda[:,0],\n",
        "    X_lda[:,1],\n",
        "    c=Y_train,\n",
        "    cmap='rainbow',\n",
        "    alpha=0.7,\n",
        "    edgecolors='b'\n",
        ")"
      ],
      "metadata": {
        "execution": {
          "iopub.status.busy": "2022-04-03T06:41:49.434855Z",
          "iopub.execute_input": "2022-04-03T06:41:49.43562Z",
          "iopub.status.idle": "2022-04-03T06:41:49.653752Z",
          "shell.execute_reply.started": "2022-04-03T06:41:49.435578Z",
          "shell.execute_reply": "2022-04-03T06:41:49.652934Z"
        },
        "trusted": true,
        "id": "5GlVC0xS96sp"
      },
      "execution_count": null,
      "outputs": []
    },
    {
      "cell_type": "code",
      "source": [
        "# 분류 성능\n",
        "from sklearn.metrics import accuracy_score\n",
        "print(accuracy_score(Y_train, Y_train_pred)) # train data에 대한 accuracy\n",
        "print(accuracy_score(Y_test, Y_test_pred)) # test data에 대한 accuracy\n",
        "\n",
        "# 분류 결과\n",
        "from sklearn.metrics import confusion_matrix\n",
        "print(confusion_matrix(Y_test, Y_test_pred))"
      ],
      "metadata": {
        "execution": {
          "iopub.status.busy": "2022-04-03T06:41:49.655614Z",
          "iopub.execute_input": "2022-04-03T06:41:49.656074Z",
          "iopub.status.idle": "2022-04-03T06:41:49.665026Z",
          "shell.execute_reply.started": "2022-04-03T06:41:49.656028Z",
          "shell.execute_reply": "2022-04-03T06:41:49.664386Z"
        },
        "trusted": true,
        "id": "D3ufYpAN96sp"
      },
      "execution_count": null,
      "outputs": []
    },
    {
      "cell_type": "code",
      "source": [
        "from sklearn.discriminant_analysis import QuadraticDiscriminantAnalysis\n",
        "\n",
        "qda=QuadraticDiscriminantAnalysis(store_covariance=True)\n",
        "\n",
        "qda.fit(X_train, Y_train) # QDA 적합\n",
        "Y_train_pred=qda.predict(X_train)\n",
        "Y_test_pred=qda.predict(X_test)\n",
        "\n",
        "\n",
        "from matplotlib import pyplot as plt\n",
        "plt.xlabel('LD1')\n",
        "plt.ylabel('LD2')\n",
        "plt.scatter(\n",
        "    X_lda[:,0],\n",
        "    X_lda[:,1],\n",
        "    c=Y_train,\n",
        "    cmap='rainbow',\n",
        "    alpha=0.7,\n",
        "    edgecolors='b'\n",
        ")\n"
      ],
      "metadata": {
        "execution": {
          "iopub.status.busy": "2022-04-03T06:41:49.666669Z",
          "iopub.execute_input": "2022-04-03T06:41:49.667436Z",
          "iopub.status.idle": "2022-04-03T06:41:49.889182Z",
          "shell.execute_reply.started": "2022-04-03T06:41:49.667398Z",
          "shell.execute_reply": "2022-04-03T06:41:49.88858Z"
        },
        "trusted": true,
        "id": "3wX99uoi96sq"
      },
      "execution_count": null,
      "outputs": []
    },
    {
      "cell_type": "code",
      "source": [
        "# 분류 성능\n",
        "from sklearn.metrics import accuracy_score\n",
        "print(accuracy_score(Y_train, Y_train_pred)) # train data에 대한 accuracy\n",
        "print(accuracy_score(Y_test, Y_test_pred)) # test data에 대한 accuracy\n",
        "\n",
        "# 분류 결과\n",
        "from sklearn.metrics import confusion_matrix\n",
        "print(confusion_matrix(Y_test, Y_test_pred))"
      ],
      "metadata": {
        "execution": {
          "iopub.status.busy": "2022-04-03T06:41:49.890487Z",
          "iopub.execute_input": "2022-04-03T06:41:49.89122Z",
          "iopub.status.idle": "2022-04-03T06:41:49.898828Z",
          "shell.execute_reply.started": "2022-04-03T06:41:49.891163Z",
          "shell.execute_reply": "2022-04-03T06:41:49.898256Z"
        },
        "trusted": true,
        "id": "zg08iZ7C96sq"
      },
      "execution_count": null,
      "outputs": []
    },
    {
      "cell_type": "code",
      "source": [
        "print(qda.means_)\n",
        "print(qda.covariance_)"
      ],
      "metadata": {
        "execution": {
          "iopub.status.busy": "2022-04-03T06:41:57.388537Z",
          "iopub.execute_input": "2022-04-03T06:41:57.388836Z",
          "iopub.status.idle": "2022-04-03T06:41:57.395597Z",
          "shell.execute_reply.started": "2022-04-03T06:41:57.388791Z",
          "shell.execute_reply": "2022-04-03T06:41:57.394738Z"
        },
        "trusted": true,
        "id": "7tykIrAI96sq"
      },
      "execution_count": null,
      "outputs": []
    }
  ]
}