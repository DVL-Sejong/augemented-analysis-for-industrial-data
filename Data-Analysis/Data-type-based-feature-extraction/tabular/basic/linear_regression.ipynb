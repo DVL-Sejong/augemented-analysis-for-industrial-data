{
  "nbformat": 4,
  "nbformat_minor": 0,
  "metadata": {
    "colab": {
      "provenance": []
    },
    "kernelspec": {
      "name": "python3",
      "display_name": "Python 3"
    },
    "language_info": {
      "name": "python"
    }
  },
  "cells": [
    {
      "cell_type": "markdown",
      "source": [
        "출처\n",
        "heartcored98\n",
        "/\n",
        "Standalone-DeepLearning"
      ],
      "metadata": {
        "id": "tviu8n13TxPe"
      }
    },
    {
      "cell_type": "markdown",
      "source": [
        "데이터 생성"
      ],
      "metadata": {
        "id": "12qL2TYVjZIM"
      }
    },
    {
      "cell_type": "code",
      "execution_count": 1,
      "metadata": {
        "id": "-ekbcABjTkjD"
      },
      "outputs": [],
      "source": [
        "# X = [0, 1, 2, 3, 4, 5, 6, 7, 8, 9]\n",
        "# X = [ i for i in range(10) ]\n",
        "X = list(range(10))\n",
        "Y = [1, 1, 2, 4, 5, 7, 8, 9, 9 ,10]"
      ]
    },
    {
      "cell_type": "code",
      "source": [
        "import matplotlib.pyplot as plt\n",
        "# plt.plot(X, Y)\n",
        "plt.scatter(X, Y) # matplotlib 셀 안에서 한장에 다 그리고 보여주는 방식임\n",
        "plt.show()"
      ],
      "metadata": {
        "colab": {
          "base_uri": "https://localhost:8080/",
          "height": 430
        },
        "id": "yHnCaPQ_jXKd",
        "outputId": "17337fb1-b3f8-4798-da66-049153dcf64b"
      },
      "execution_count": 2,
      "outputs": [
        {
          "output_type": "display_data",
          "data": {
            "text/plain": [
              "<Figure size 640x480 with 1 Axes>"
            ],
            "image/png": "[encoded data removed]"
          },
          "metadata": {}
        }
      ]
    },
    {
      "cell_type": "markdown",
      "source": [
        "모델 정의"
      ],
      "metadata": {
        "id": "Pv5bNeO7jlBU"
      }
    },
    {
      "cell_type": "code",
      "source": [
        "class H():\n",
        "    def __init__(self, w): # 클래스 안의 함수는 메서드인데 메서드의 맨 앞인자는 self여야한다.\n",
        "        # 처음에 모델의 파라미터(학습을 통해 최적화될 값) w를 input으로 받아 model을 만들어준다. hypothesis를 생성을 하겠다!\n",
        "        self.w = w\n",
        "\n",
        "    def forward(self, x):\n",
        "        # 인스턴스(샘플) x가 인풋으로 들어왔을 때 모델이 예측하는 y값을 return\n",
        "        return self.w * x\n",
        "\n",
        "h = H(4) # f(x) = 4x 라는 모델\n",
        "pred_y = h.forward(5) # x=5라는 인스턴스(샘플)이 인풋으로 들어왔을 때 f(5)=4 * 5를 통해서 20이 정상적으로 출력되는 것을 확인할 수 있다.\n",
        "print('value of f(5) :', pred_y)\n",
        "print('value of w :', h.w) # 모델 h의 내부 파라미터를 출력했을 때 4가 정상적으로 출력되는 것도 확인할 수 있다."
      ],
      "metadata": {
        "colab": {
          "base_uri": "https://localhost:8080/"
        },
        "id": "zB7OHpxIjXxJ",
        "outputId": "93940fd3-0393-43b6-c699-80571a681a24"
      },
      "execution_count": 3,
      "outputs": [
        {
          "output_type": "stream",
          "name": "stdout",
          "text": [
            "value of f(5) : 20\n",
            "value of w : 4\n"
          ]
        }
      ]
    },
    {
      "cell_type": "markdown",
      "source": [
        "손실함수 정의"
      ],
      "metadata": {
        "id": "Ugg8wJXujvWg"
      }
    },
    {
      "cell_type": "code",
      "source": [
        "def cost(h, X, Y):\n",
        "    error = 0\n",
        "    for i in range(len(X)):\n",
        "        error += (h.forward(X[i]) - Y[i]) ** 2\n",
        "    error = error / len(X)\n",
        "    return error\n",
        "\n",
        "h = H(4) # 구냥 다시 생성\n",
        "print('cost value when w=4 :', cost(h, X, Y)) # f(x)=4x인 현재의 모델은 우리가 관측한 데이터셋에 대해 222.2라는 cost를 가진다.\n",
        "\n",
        "def better_cost(pred_y, true_y):\n",
        "    # 조금 더 나은 버전의 코드. cost(h, X, Y)에서는 cost function 안에서 H(x)를 계산해야해서 불편\n",
        "    # 일반적으로 코드를 짤 때 cost function(loss function)들은 모델이 예측한 y값들의 리스트와 실제 y값들의 리스트만 받아서 계산하는 구조를 취함.\n",
        "    error = 0\n",
        "    for i in range(len(X)):\n",
        "        error += (pred_y[i] - true_y[i]) ** 2\n",
        "    error = error / len(X)\n",
        "    return error\n",
        "\n",
        "pred_y = [ h.forward(X[i]) for i in range(len(X)) ] # 미리 모델 h를 통해서 각 x 인스턴스에 대한 y 값을 예측해봅시다.\n",
        "print('cost value with better code strcture :', better_cost(pred_y, Y)) # 위와 같이 똑같이 222.2 라는 값이 나오는 것을 확인할 수 있다."
      ],
      "metadata": {
        "colab": {
          "base_uri": "https://localhost:8080/"
        },
        "id": "3-athjaLju1I",
        "outputId": "df12b270-15c2-4dc5-c8b8-96d92f8ff7ee"
      },
      "execution_count": 4,
      "outputs": [
        {
          "output_type": "stream",
          "name": "stdout",
          "text": [
            "cost value when w=4 : 222.2\n",
            "cost value with better code strcture : 222.2\n"
          ]
        }
      ]
    },
    {
      "cell_type": "markdown",
      "source": [
        "cost surface visualization"
      ],
      "metadata": {
        "id": "He_byS_wkHYm"
      }
    },
    {
      "cell_type": "code",
      "source": [
        "list_w = []\n",
        "list_c = []\n",
        "for i in range(-20, 20):\n",
        "    w = i * 0.5\n",
        "    h = H(w)\n",
        "    c = cost(h, X, Y)\n",
        "    list_w.append(w)\n",
        "    list_c.append(c)\n",
        "\n",
        "print(list_w)\n",
        "print(list_c)\n",
        "\n",
        "plt.figure(figsize=(10, 5))\n",
        "plt.xlabel('w')\n",
        "plt.ylabel('cost')\n",
        "plt.scatter(list_w, list_c, s=3)"
      ],
      "metadata": {
        "colab": {
          "base_uri": "https://localhost:8080/",
          "height": 541
        },
        "id": "w_rmXsw_kHAr",
        "outputId": "aa56ffce-1857-4208-b713-2d4f1ff557ef"
      },
      "execution_count": 5,
      "outputs": [
        {
          "output_type": "stream",
          "name": "stdout",
          "text": [
            "[-10.0, -9.5, -9.0, -8.5, -8.0, -7.5, -7.0, -6.5, -6.0, -5.5, -5.0, -4.5, -4.0, -3.5, -3.0, -2.5, -2.0, -1.5, -1.0, -0.5, 0.0, 0.5, 1.0, 1.5, 2.0, 2.5, 3.0, 3.5, 4.0, 4.5, 5.0, 5.5, 6.0, 6.5, 7.0, 7.5, 8.0, 8.5, 9.0, 9.5]\n",
            "[3582.2, 3269.825, 2971.7, 2687.825, 2418.2, 2162.825, 1921.7, 1694.825, 1482.2, 1283.825, 1099.7, 929.825, 774.2, 632.825, 505.7, 392.825, 294.2, 209.825, 139.7, 83.825, 42.2, 14.825, 1.7, 2.825, 18.2, 47.825, 91.7, 149.825, 222.2, 308.825, 409.7, 524.825, 654.2, 797.825, 955.7, 1127.825, 1314.2, 1514.825, 1729.7, 1958.825]\n"
          ]
        },
        {
          "output_type": "execute_result",
          "data": {
            "text/plain": [
              "<matplotlib.collections.PathCollection at 0x7847fc6fd750>"
            ]
          },
          "metadata": {},
          "execution_count": 5
        },
        {
          "output_type": "display_data",
          "data": {
            "text/plain": [
              "<Figure size 1000x500 with 1 Axes>"
            ],
            "image/png": "[encoded data removed]"
          },
          "metadata": {}
        }
      ]
    },
    {
      "cell_type": "markdown",
      "source": [
        "경사하강법 구현"
      ],
      "metadata": {
        "id": "y7ea67uQjvvW"
      }
    },
    {
      "cell_type": "code",
      "source": [
        "# 1. 수치해석적으로 그라디언트를 근사해봅시다\n",
        "def cal_grad(w, cost):\n",
        "    h = H(w)\n",
        "    cost1 = cost(h, X, Y)\n",
        "    eps = 0.00001\n",
        "    h = H(w+eps) # w에서 epsilon만큼 떨어진 부분에서도 cost를 구해줍니당\n",
        "    cost2 = cost(h, X, Y)\n",
        "    dcost = cost2 - cost1 # delta\n",
        "    dw = eps\n",
        "    grad = dcost / dw\n",
        "    return grad, (cost1+cost2) * 0.5\n",
        "\n",
        "# 2. 편미분한 공식에 바로 대입하여 그라디언트를 근사해봅시다\n",
        "def cal_grad2(w, cost):\n",
        "    h = H(w)\n",
        "    grad = 0\n",
        "    for i in range(len(X)):\n",
        "        grad += 2 * (h.forward(X[i]) - Y[i]) * X[i]\n",
        "    grad = grad / len(X)\n",
        "    c = cost(h, X, Y)\n",
        "    return grad, c\n",
        "\n",
        "# 두 방식을 이용해서 w=1.4 지점에서 모델을 각각 초기화 한 후 GD algorithm을 통해Algorithm 을 통해 내려갔을 때 거의 같은 결과가 나오는지 살펴보자\n",
        "w1 = 1.4\n",
        "w2 = 1.4\n",
        "lr = 0.01\n",
        "\n",
        "list_w1 = []\n",
        "list_c1 = []\n",
        "list_w2 = []\n",
        "list_c2 = []\n",
        "\n",
        "for i in range(100): # 총 100번의 Iteration(반복)을 통해 학습을 진행해보자\n",
        "    grad, mean_cost = cal_grad(w1, cost)\n",
        "    grad2, mean_cost2 = cal_grad2(w2, cost)\n",
        "\n",
        "    # w = w + lr * (-grad)\n",
        "    w1 -= lr * grad\n",
        "    w2 -= lr * grad2\n",
        "    list_w1.append(w1)\n",
        "    list_w2.append(w2)\n",
        "    list_c1.append(mean_cost)\n",
        "    list_c2.append(mean_cost2)\n",
        "\n",
        "print(w1, mean_cost, w2, mean_cost2) # 100번의 학습이 끝난 후에 w1과 w2를 출력해보니 둘다 1.21 정도로 비슷한 값으로 수렴하는 것을 확인할 수 있다\n",
        "\n",
        "# 매 Iteration에서의 w 값과 cost 값을 그래프 상에 찍어보면 둘이 거의 정확하게 같은 지점을 통과\n",
        "plt.scatter(list_w1, list_c1, label='analytic')\n",
        "plt.scatter(list_w2, list_c2, label='formula', marker='*')\n",
        "plt.legend()"
      ],
      "metadata": {
        "colab": {
          "base_uri": "https://localhost:8080/",
          "height": 467
        },
        "id": "bBGGL5zqjsbU",
        "outputId": "7215d210-954a-4595-a0a9-a7223ff2a146"
      },
      "execution_count": 6,
      "outputs": [
        {
          "output_type": "stream",
          "name": "stdout",
          "text": [
            "1.2105213157896242 0.43684210597565787 1.2105263157894737 0.43684210526315803\n"
          ]
        },
        {
          "output_type": "execute_result",
          "data": {
            "text/plain": [
              "<matplotlib.legend.Legend at 0x7847fc76bee0>"
            ]
          },
          "metadata": {},
          "execution_count": 6
        },
        {
          "output_type": "display_data",
          "data": {
            "text/plain": [
              "<Figure size 640x480 with 1 Axes>"
            ],
            "image/png": "[encoded data removed]"
          },
          "metadata": {}
        }
      ]
    },
    {
      "cell_type": "markdown",
      "source": [
        "compare"
      ],
      "metadata": {
        "id": "9CTVOrpNkoTS"
      }
    },
    {
      "cell_type": "code",
      "source": [],
      "metadata": {
        "id": "KyiAL9WRkmKS"
      },
      "execution_count": null,
      "outputs": []
    }
  ]
}