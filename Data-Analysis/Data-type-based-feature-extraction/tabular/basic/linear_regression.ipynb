{
  "nbformat": 4,
  "nbformat_minor": 0,
  "metadata": {
    "colab": {
      "provenance": []
    },
    "kernelspec": {
      "name": "python3",
      "display_name": "Python 3"
    },
    "language_info": {
      "name": "python"
    }
  },
  "cells": [
    {
      "cell_type": "markdown",
      "source": [
        "출처\n",
        "heartcored98\n",
        "/\n",
        "Standalone-DeepLearning"
      ],
      "metadata": {
        "id": "tviu8n13TxPe"
      }
    },
    {
      "cell_type": "markdown",
      "source": [
        "데이터 생성"
      ],
      "metadata": {
        "id": "12qL2TYVjZIM"
      }
    },
    {
      "cell_type": "code",
      "execution_count": 1,
      "metadata": {
        "id": "-ekbcABjTkjD"
      },
      "outputs": [],
      "source": [
        "# X = [0, 1, 2, 3, 4, 5, 6, 7, 8, 9]\n",
        "# X = [ i for i in range(10) ]\n",
        "X = list(range(10))\n",
        "Y = [1, 1, 2, 4, 5, 7, 8, 9, 9 ,10]"
      ]
    },
    {
      "cell_type": "code",
      "source": [
        "import matplotlib.pyplot as plt\n",
        "# plt.plot(X, Y)\n",
        "plt.scatter(X, Y) # matplotlib 셀 안에서 한장에 다 그리고 보여주는 방식임\n",
        "plt.show()"
      ],
      "metadata": {
        "colab": {
          "base_uri": "https://localhost:8080/",
          "height": 430
        },
        "id": "yHnCaPQ_jXKd",
        "outputId": "17337fb1-b3f8-4798-da66-049153dcf64b"
      },
      "execution_count": 2,
      "outputs": [
        {
          "output_type": "display_data",
          "data": {
            "text/plain": [
              "<Figure size 640x480 with 1 Axes>"
            ],
            "image/png": "[encoded data removed]"
          },
          "metadata": {}
        }
      ]
    },
    {
      "cell_type": "markdown",
      "source": [
        "모델 정의"
      ],
      "metadata": {
        "id": "Pv5bNeO7jlBU"
      }
    },
    {
      "cell_type": "code",
      "source": [
        "class H():\n",
        "    def __init__(self, w): # 클래스 안의 함수는 메서드인데 메서드의 맨 앞인자는 self여야한다.\n",
        "        # 처음에 모델의 파라미터(학습을 통해 최적화될 값) w를 input으로 받아 model을 만들어준다. hypothesis를 생성을 하겠다!\n",
        "        self.w = w\n",
        "\n",
        "    def forward(self, x):\n",
        "        # 인스턴스(샘플) x가 인풋으로 들어왔을 때 모델이 예측하는 y값을 return\n",
        "        return self.w * x\n",
        "\n",
        "h = H(4) # f(x) = 4x 라는 모델\n",
        "pred_y = h.forward(5) # x=5라는 인스턴스(샘플)이 인풋으로 들어왔을 때 f(5)=4 * 5를 통해서 20이 정상적으로 출력되는 것을 확인할 수 있다.\n",
        "print('value of f(5) :', pred_y)\n",
        "print('value of w :', h.w) # 모델 h의 내부 파라미터를 출력했을 때 4가 정상적으로 출력되는 것도 확인할 수 있다."
      ],
      "metadata": {
        "colab": {
          "base_uri": "https://localhost:8080/"
        },
        "id": "zB7OHpxIjXxJ",
        "outputId": "93940fd3-0393-43b6-c699-80571a681a24"
      },
      "execution_count": 3,
      "outputs": [
        {
          "output_type": "stream",
          "name": "stdout",
          "text": [
            "value of f(5) : 20\n",
            "value of w : 4\n"
          ]
        }
      ]
    },
    {
      "cell_type": "code",
      "source": [],
      "metadata": {
        "id": "bBGGL5zqjsbU"
      },
      "execution_count": null,
      "outputs": []
    }
  ]
}