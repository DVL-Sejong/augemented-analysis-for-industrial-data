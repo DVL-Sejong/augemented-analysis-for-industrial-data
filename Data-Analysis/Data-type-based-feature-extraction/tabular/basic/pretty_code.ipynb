{
  "cells": [
    {
      "cell_type": "code",
      "execution_count": null,
      "metadata": {
        "colab": {
          "base_uri": "https://localhost:8080/"
        },
        "id": "uRVlZq75JUJn",
        "outputId": "bf20db6a-5e37-4d90-e862-099fe8cb97c8"
      },
      "outputs": [
        {
          "output_type": "stream",
          "name": "stdout",
          "text": [
            "\u001b[31mERROR: Could not find a version that satisfies the requirement torch==1.0.0 (from versions: 1.11.0, 1.12.0, 1.12.1, 1.13.0, 1.13.1, 2.0.0, 2.0.1)\u001b[0m\u001b[31m\n",
            "\u001b[0m\u001b[31mERROR: No matching distribution found for torch==1.0.0\u001b[0m\u001b[31m\n",
            "\u001b[0m2.0.1+cu118\n"
          ]
        }
      ],
      "source": [
        "!pip install -q torch==1.0.0 torchvision\n",
        "import torch\n",
        "print(torch.__version__)"
      ]
    },
    {
      "cell_type": "code",
      "source": [
        "import torch\n",
        "import torchvision\n",
        "import torchvision.transforms as transforms\n",
        "import torch.nn as nn\n",
        "import torch.nn.functional as F\n",
        "import torch.optim as optim\n",
        "import argparse\n",
        "import numpy as np"
      ],
      "metadata": {
        "id": "MVyYEIyJXFbq"
      },
      "execution_count": null,
      "outputs": []
    },
    {
      "cell_type": "markdown",
      "source": [
        "data preparation"
      ],
      "metadata": {
        "id": "eeHN7T58XTB_"
      }
    },
    {
      "cell_type": "code",
      "source": [
        "transform = transforms.Compose(\n",
        "    [transforms.ToTensor(),\n",
        "     transforms.Normalize((0.5, 0.5, 0.5), (0.5, 0.5, 0.5))])"
      ],
      "metadata": {
        "id": "WAthm9jJXM3k"
      },
      "execution_count": null,
      "outputs": []
    },
    {
      "cell_type": "code",
      "source": [
        "trainset = torchvision.datasets.CIFAR10(root='./data', train=True,\n",
        "                                        download=True, transform=transform)\n",
        "trainset, valset = torch.utils.data.random_split(trainset, [40000, 10000])\n",
        "testset = torchvision.datasets.CIFAR10(root='./data', train=False,\n",
        "                                       download=True, transform=transform)"
      ],
      "metadata": {
        "colab": {
          "base_uri": "https://localhost:8080/"
        },
        "id": "MMzhaO8uXWmL",
        "outputId": "738a8926-e8fc-4860-c758-195f3dbc4579"
      },
      "execution_count": null,
      "outputs": [
        {
          "output_type": "stream",
          "name": "stdout",
          "text": [
            "Files already downloaded and verified\n",
            "Files already downloaded and verified\n"
          ]
        }
      ]
    },
    {
      "cell_type": "code",
      "source": [
        "trainloader = torch.utils.data.DataLoader(trainset, batch_size=4,\n",
        "                                          shuffle=True, num_workers=2)\n",
        "valloader = torch.utils.data.DataLoader(valset, batch_size=4,\n",
        "                                        shuffle=False)\n",
        "testloader = torch.utils.data.DataLoader(testset, batch_size=4,\n",
        "                                         shuffle=False, num_workers=2)"
      ],
      "metadata": {
        "id": "LIsllj5jXb7i"
      },
      "execution_count": null,
      "outputs": []
    },
    {
      "cell_type": "code",
      "source": [
        "classes = ('plane', 'car', 'bird', 'cat',\n",
        "           'deer', 'dog', 'frog', 'horse', 'ship', 'truck')"
      ],
      "metadata": {
        "id": "xZREboYYXp_V"
      },
      "execution_count": null,
      "outputs": []
    },
    {
      "cell_type": "markdown",
      "source": [
        "model architecture"
      ],
      "metadata": {
        "id": "nc8rJ9v4XwZ1"
      }
    },
    {
      "cell_type": "code",
      "source": [
        "class MLP(nn.Module):\n",
        "    def __init__(self, in_dim, out_dim, hid_dim, n_layer, act):\n",
        "        super(MLP, self).__init__()\n",
        "        self.in_dim = in_dim\n",
        "        self.out_dim = out_dim\n",
        "        self.hid_dim = hid_dim\n",
        "        self.n_layer = n_layer\n",
        "        self.act = act\n",
        "\n",
        "        self.fc = nn.Linear(self.in_dim, self.hid_dim)\n",
        "        self.linears = nn.ModuleList()\n",
        "\n",
        "        for i in range(self.n_layer-1):\n",
        "            self.linears.append(nn.Linear(self.hid_dim, self.hid_dim))\n",
        "        self.fc2 = nn.Linear(self.hid_dim, self.out_dim)\n",
        "\n",
        "        if self.act == 'relu':\n",
        "            self.act = nn.ReLU()\n",
        "\n",
        "\n",
        "    def forward(self, x):\n",
        "        x = self.act(self.fc(x))\n",
        "        for fc in self.linears:\n",
        "            x = self.act(fc(x))\n",
        "        x = self.fc2(x)\n",
        "        return x\n",
        "\n",
        "\n",
        "net = MLP(3072, 10, 100, 4, 'relu')"
      ],
      "metadata": {
        "id": "wHsqnJF0XrvK"
      },
      "execution_count": null,
      "outputs": []
    },
    {
      "cell_type": "markdown",
      "source": [
        "define experiment"
      ],
      "metadata": {
        "id": "_U0EpugXYJ5D"
      }
    },
    {
      "cell_type": "code",
      "source": [
        "def experiment(args):\n",
        "\n",
        "    net = MLP(args.in_dim, args.out_dim, args.hid_dim, args.n_layer, args.act)\n",
        "    net.cuda()\n",
        "    print(net)\n",
        "\n",
        "    criterion = nn.CrossEntropyLoss()\n",
        "    optimizer = optim.SGD(net.parameters(), lr=args.lr, momentum=args.mm)\n",
        "\n",
        "    for epoch in range(args.epoch):\n",
        "\n",
        "        # train\n",
        "        net.train()\n",
        "\n",
        "        running_loss = 0.0\n",
        "        train_loss = 0.0\n",
        "\n",
        "        for i, data in enumerate(trainloader, 0):\n",
        "            optimizer.zero_grad()\n",
        "\n",
        "            # get the inputs\n",
        "            inputs, labels = data\n",
        "            inputs = inputs.view(-1, 3072)\n",
        "\n",
        "            inputs = inputs.cuda()\n",
        "            labels = labels.cuda()\n",
        "\n",
        "            # forward + backward + optimize\n",
        "            outputs = net(inputs)\n",
        "            loss = criterion(outputs, labels)\n",
        "            loss.backward()\n",
        "            optimizer.step()\n",
        "\n",
        "            # print statistics\n",
        "            running_loss += loss.item()\n",
        "            train_loss += loss.item()\n",
        "            if i % 2000 == 1999:    # print every 2000 mini-batches\n",
        "                print('[%d, %5d] loss: %.3f' %\n",
        "                      (epoch + 1, i + 1, running_loss / 2000))\n",
        "                running_loss = 0.0\n",
        "\n",
        "        # validation\n",
        "        net.eval()\n",
        "\n",
        "\n"
      ],
      "metadata": {
        "id": "fLZsffW1X4zA"
      },
      "execution_count": null,
      "outputs": []
    }
  ],
  "metadata": {
    "accelerator": "GPU",
    "colab": {
      "provenance": []
    },
    "kernelspec": {
      "display_name": "Python 3",
      "language": "python",
      "name": "python3"
    },
    "language_info": {
      "codemirror_mode": {
        "name": "ipython",
        "version": 3
      },
      "file_extension": ".py",
      "mimetype": "text/x-python",
      "name": "python",
      "nbconvert_exporter": "python",
      "pygments_lexer": "ipython3",
      "version": "3.6.4"
    }
  },
  "nbformat": 4,
  "nbformat_minor": 0
}