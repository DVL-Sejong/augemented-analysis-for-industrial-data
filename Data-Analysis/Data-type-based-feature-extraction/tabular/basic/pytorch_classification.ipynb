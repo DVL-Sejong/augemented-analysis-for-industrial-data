{
  "nbformat": 4,
  "nbformat_minor": 0,
  "metadata": {
    "colab": {
      "provenance": []
    },
    "kernelspec": {
      "name": "python3",
      "display_name": "Python 3"
    },
    "language_info": {
      "name": "python"
    }
  },
  "cells": [
    {
      "cell_type": "code",
      "execution_count": null,
      "metadata": {
        "id": "NXbgcJAw5aE_"
      },
      "outputs": [],
      "source": [
        "#구글 Colab에서 실행할 때는 이 주석을 해제하시고 실행해서 pytorch 1.0을 깔아주세요!\n",
        "!pip install -q torch==1.0.0 torchvision\n",
        "import torch\n",
        "print(torch.__version__)"
      ]
    },
    {
      "cell_type": "code",
      "source": [
        "%matplotlib inline\n",
        "\n",
        "import numpy as np\n",
        "import matplotlib.pyplot as plt\n",
        "\n",
        "\n",
        "# ====== Generating Dataset ====== #\n",
        "r = np.random.rand(10000)*3\n",
        "theta = np.random.rand(10000)*2*np.pi\n",
        "y = r.astype(int)\n",
        "r = r * (np.cos(theta) + 1)\n",
        "x1 = r * np.cos(theta)\n",
        "x2 = r * np.sin(theta)\n",
        "X = np.array([x1, x2]).T\n",
        "\n",
        "# ====== Split Dataset into Train, Validation, Test ======#\n",
        "train_X, train_y = X[:8000, :], y[:8000]\n",
        "val_X, val_y = X[8000:9000, :], y[8000:9000]\n",
        "test_X, test_y = X[9000:, :], y[9000:]\n"
      ],
      "metadata": {
        "id": "6R4af0hT5yoG"
      },
      "execution_count": null,
      "outputs": []
    }
  ]
}