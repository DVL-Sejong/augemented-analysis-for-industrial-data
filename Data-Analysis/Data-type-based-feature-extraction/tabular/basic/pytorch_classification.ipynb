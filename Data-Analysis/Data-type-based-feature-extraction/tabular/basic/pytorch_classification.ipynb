{
  "nbformat": 4,
  "nbformat_minor": 0,
  "metadata": {
    "colab": {
      "provenance": []
    },
    "kernelspec": {
      "name": "python3",
      "display_name": "Python 3"
    },
    "language_info": {
      "name": "python"
    }
  },
  "cells": [
    {
      "cell_type": "code",
      "execution_count": 1,
      "metadata": {
        "colab": {
          "base_uri": "https://localhost:8080/"
        },
        "id": "NXbgcJAw5aE_",
        "outputId": "355c8c2f-10a5-42e9-a1df-a7f8183acc4c"
      },
      "outputs": [
        {
          "output_type": "stream",
          "name": "stdout",
          "text": [
            "\u001b[31mERROR: Could not find a version that satisfies the requirement torch==1.0.0 (from versions: 1.11.0, 1.12.0, 1.12.1, 1.13.0, 1.13.1, 2.0.0, 2.0.1)\u001b[0m\u001b[31m\n",
            "\u001b[0m\u001b[31mERROR: No matching distribution found for torch==1.0.0\u001b[0m\u001b[31m\n",
            "\u001b[0m2.0.1+cu118\n"
          ]
        }
      ],
      "source": [
        "#구글 Colab에서 실행할 때는 이 주석을 해제하시고 실행해서 pytorch 1.0을 깔아주세요!\n",
        "!pip install -q torch==1.0.0 torchvision\n",
        "import torch\n",
        "print(torch.__version__)"
      ]
    },
    {
      "cell_type": "code",
      "source": [
        "%matplotlib inline\n",
        "\n",
        "import numpy as np\n",
        "import matplotlib.pyplot as plt\n",
        "\n",
        "\n",
        "# ====== Generating Dataset ====== #\n",
        "r = np.random.rand(10000)*3\n",
        "theta = np.random.rand(10000)*2*np.pi\n",
        "y = r.astype(int)\n",
        "r = r * (np.cos(theta) + 1)\n",
        "x1 = r * np.cos(theta)\n",
        "x2 = r * np.sin(theta)\n",
        "X = np.array([x1, x2]).T\n",
        "\n",
        "# ====== Split Dataset into Train, Validation, Test ======#\n",
        "train_X, train_y = X[:8000, :], y[:8000]\n",
        "val_X, val_y = X[8000:9000, :], y[8000:9000]\n",
        "test_X, test_y = X[9000:, :], y[9000:]\n",
        "\n",
        "# ====== Visualize Each Dataset ====== #\n",
        "fig = plt.figure(figsize=(15,5))\n",
        "ax1 = fig.add_subplot(1, 3, 1)\n",
        "ax1.scatter(train_X[:, 0], train_X[:, 1], c=train_y, s=0.7)\n",
        "ax1.set_xlabel('x1')\n",
        "ax1.set_ylabel('x2')\n",
        "ax1.set_title('Train Set Distribution')\n",
        "\n",
        "\n",
        "ax2 = fig.add_subplot(1, 3, 2)\n",
        "ax2.scatter(val_X[:, 0], val_X[:, 1], c=val_y)\n",
        "ax2.set_xlabel('x1')\n",
        "ax2.set_ylabel('x2')\n",
        "ax2.set_title('Validation Set Distribution')\n",
        "\n",
        "ax3 = fig.add_subplot(1, 3, 3)\n",
        "ax3.scatter(test_X[:, 0], test_X[:, 1], c=test_y)\n",
        "ax3.set_xlabel('x1')\n",
        "ax3.set_ylabel('x2')\n",
        "ax3.set_title('Test Set Distribution')\n",
        "\n",
        "\n",
        "plt.show()"
      ],
      "metadata": {
        "colab": {
          "base_uri": "https://localhost:8080/"
        },
        "id": "6R4af0hT5yoG",
        "outputId": "c289b6e4-1693-4cc8-cde7-274ac12f0125"
      },
      "execution_count": null,
      "outputs": [
        {
          "output_type": "execute_result",
          "data": {
            "text/plain": [
              "Text(0.5, 1.0, 'Test Set Distribution')"
            ]
          },
          "metadata": {},
          "execution_count": 2
        }
      ]
    },
    {
      "cell_type": "code",
      "source": [],
      "metadata": {
        "id": "ROrVv-5s5451"
      },
      "execution_count": null,
      "outputs": []
    }
  ]
}