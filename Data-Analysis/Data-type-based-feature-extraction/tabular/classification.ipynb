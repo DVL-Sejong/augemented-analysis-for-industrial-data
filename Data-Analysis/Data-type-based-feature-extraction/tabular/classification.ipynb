{
  "cells": [
    {
      "cell_type": "code",
      "source": [
        "!mkdir -p ~/.kaggle\n",
        "!cp kaggle.json ~/.kaggle\n",
        "!chmod 600 ~/.kaggle/kaggle.json"
      ],
      "metadata": {
        "id": "cDKfdqZTgqjq"
      },
      "id": "cDKfdqZTgqjq",
      "execution_count": null,
      "outputs": []
    },
    {
      "cell_type": "code",
      "execution_count": null,
      "id": "445a0e29",
      "metadata": {
        "_cell_guid": "b1076dfc-b9ad-4769-8c92-a6c4dae69d19",
        "_uuid": "8f2839f25d086af736a60e9eeb907d3b93b6e0e5",
        "execution": {
          "iopub.execute_input": "2023-03-23T12:39:24.544027Z",
          "iopub.status.busy": "2023-03-23T12:39:24.543580Z",
          "iopub.status.idle": "2023-03-23T12:39:24.557922Z",
          "shell.execute_reply": "2023-03-23T12:39:24.556671Z"
        },
        "papermill": {
          "duration": 0.025464,
          "end_time": "2023-03-23T12:39:24.560589",
          "exception": false,
          "start_time": "2023-03-23T12:39:24.535125",
          "status": "completed"
        },
        "tags": [],
        "colab": {
          "base_uri": "https://localhost:8080/"
        },
        "id": "445a0e29",
        "outputId": "1d3966c6-205c-4d14-c597-45a9595e4aba"
      },
      "outputs": [
        {
          "output_type": "stream",
          "name": "stdout",
          "text": [
            "Downloading 2023-ml-w4p1.zip to /content\n",
            "\r  0% 0.00/67.9k [00:00<?, ?B/s]\n",
            "\r100% 67.9k/67.9k [00:00<00:00, 36.9MB/s]\n",
            "Archive:  2023-ml-w4p1.zip\n",
            "  inflating: sample_submit.csv       \n",
            "  inflating: test.csv                \n",
            "  inflating: train.csv               \n"
          ]
        }
      ],
      "source": [
        "!kaggle competitions download -c 2023-ml-w4p1\n",
        "!unzip 2023-ml-w4p1.zip"
      ]
    },
    {
      "cell_type": "code",
      "source": [],
      "metadata": {
        "id": "V4ugUQfZjUrc"
      },
      "id": "V4ugUQfZjUrc",
      "execution_count": null,
      "outputs": []
    },
    {
      "cell_type": "code",
      "execution_count": null,
      "id": "121d0df0",
      "metadata": {
        "execution": {
          "iopub.execute_input": "2023-03-23T12:39:24.573574Z",
          "iopub.status.busy": "2023-03-23T12:39:24.572863Z",
          "iopub.status.idle": "2023-03-23T12:39:25.674477Z",
          "shell.execute_reply": "2023-03-23T12:39:25.673442Z"
        },
        "papermill": {
          "duration": 1.110841,
          "end_time": "2023-03-23T12:39:25.677066",
          "exception": false,
          "start_time": "2023-03-23T12:39:24.566225",
          "status": "completed"
        },
        "tags": [],
        "id": "121d0df0"
      },
      "outputs": [],
      "source": [
        "import numpy as np\n",
        "import pandas as pd\n",
        "import matplotlib.pyplot as plt\n",
        "import seaborn as sns"
      ]
    },
    {
      "cell_type": "code",
      "execution_count": null,
      "id": "72ee058e",
      "metadata": {
        "execution": {
          "iopub.execute_input": "2023-03-23T12:39:25.765214Z",
          "iopub.status.busy": "2023-03-23T12:39:25.764859Z",
          "iopub.status.idle": "2023-03-23T12:39:25.787538Z",
          "shell.execute_reply": "2023-03-23T12:39:25.786389Z"
        },
        "papermill": {
          "duration": 0.032325,
          "end_time": "2023-03-23T12:39:25.790083",
          "exception": false,
          "start_time": "2023-03-23T12:39:25.757758",
          "status": "completed"
        },
        "tags": [],
        "id": "72ee058e"
      },
      "outputs": [],
      "source": [
        "train = pd.read_csv('train.csv')\n",
        "test = pd.read_csv('test.csv')"
      ]
    },
    {
      "cell_type": "code",
      "execution_count": null,
      "id": "c8469311",
      "metadata": {
        "execution": {
          "iopub.execute_input": "2023-03-23T12:39:25.804215Z",
          "iopub.status.busy": "2023-03-23T12:39:25.803371Z",
          "iopub.status.idle": "2023-03-23T12:39:25.822317Z",
          "shell.execute_reply": "2023-03-23T12:39:25.821188Z"
        },
        "papermill": {
          "duration": 0.028578,
          "end_time": "2023-03-23T12:39:25.824526",
          "exception": false,
          "start_time": "2023-03-23T12:39:25.795948",
          "status": "completed"
        },
        "tags": [],
        "colab": {
          "base_uri": "https://localhost:8080/",
          "height": 423
        },
        "id": "c8469311",
        "outputId": "e1df4c0d-818e-4bfd-f721-219e6d78f32d"
      },
      "outputs": [
        {
          "output_type": "execute_result",
          "data": {
            "text/plain": [
              "        N    P    K  temperature   humidity        ph    rainfall        label\n",
              "0      22   36   16    30.581395  50.771481  8.184229   64.585596    mothbeans\n",
              "1      18   27   41    22.365094  92.308824  7.175344  104.821633  pomegranate\n",
              "2      61   68   50    35.214628  91.497251  6.793245  243.074507       papaya\n",
              "3      26   72   22    28.767949  37.577921  4.674942   91.720849   pigeonpeas\n",
              "4       2  140  197    22.697801  92.822234  5.534567  105.050823        apple\n",
              "...   ...  ...  ...          ...        ...       ...         ...          ...\n",
              "1645   10    5    5    21.213070  91.353492  7.817846  112.983436       orange\n",
              "1646  108   94   47    27.359116  84.546250  6.387431   90.812505       banana\n",
              "1647   11   36   31    27.920633  51.779659  6.475449  100.258567        mango\n",
              "1648   11  124  204    13.429886  80.066340  6.361141   71.400430       grapes\n",
              "1649   32   78   22    23.970814  62.355576  7.007038   53.409060       lentil\n",
              "\n",
              "[1650 rows x 8 columns]"
            ],
            "text/html": [
              "\n",
              "  <div id=\"df-fceaf407-aca0-4a81-bb9b-432134668087\">\n",
              "    <div class=\"colab-df-container\">\n",
              "      <div>\n",
              "<style scoped>\n",
              "    .dataframe tbody tr th:only-of-type {\n",
              "        vertical-align: middle;\n",
              "    }\n",
              "\n",
              "    .dataframe tbody tr th {\n",
              "        vertical-align: top;\n",
              "    }\n",
              "\n",
              "    .dataframe thead th {\n",
              "        text-align: right;\n",
              "    }\n",
              "</style>\n",
              "<table border=\"1\" class=\"dataframe\">\n",
              "  <thead>\n",
              "    <tr style=\"text-align: right;\">\n",
              "      <th></th>\n",
              "      <th>N</th>\n",
              "      <th>P</th>\n",
              "      <th>K</th>\n",
              "      <th>temperature</th>\n",
              "      <th>humidity</th>\n",
              "      <th>ph</th>\n",
              "      <th>rainfall</th>\n",
              "      <th>label</th>\n",
              "    </tr>\n",
              "  </thead>\n",
              "  <tbody>\n",
              "    <tr>\n",
              "      <th>0</th>\n",
              "      <td>22</td>\n",
              "      <td>36</td>\n",
              "      <td>16</td>\n",
              "      <td>30.581395</td>\n",
              "      <td>50.771481</td>\n",
              "      <td>8.184229</td>\n",
              "      <td>64.585596</td>\n",
              "      <td>mothbeans</td>\n",
              "    </tr>\n",
              "    <tr>\n",
              "      <th>1</th>\n",
              "      <td>18</td>\n",
              "      <td>27</td>\n",
              "      <td>41</td>\n",
              "      <td>22.365094</td>\n",
              "      <td>92.308824</td>\n",
              "      <td>7.175344</td>\n",
              "      <td>104.821633</td>\n",
              "      <td>pomegranate</td>\n",
              "    </tr>\n",
              "    <tr>\n",
              "      <th>2</th>\n",
              "      <td>61</td>\n",
              "      <td>68</td>\n",
              "      <td>50</td>\n",
              "      <td>35.214628</td>\n",
              "      <td>91.497251</td>\n",
              "      <td>6.793245</td>\n",
              "      <td>243.074507</td>\n",
              "      <td>papaya</td>\n",
              "    </tr>\n",
              "    <tr>\n",
              "      <th>3</th>\n",
              "      <td>26</td>\n",
              "      <td>72</td>\n",
              "      <td>22</td>\n",
              "      <td>28.767949</td>\n",
              "      <td>37.577921</td>\n",
              "      <td>4.674942</td>\n",
              "      <td>91.720849</td>\n",
              "      <td>pigeonpeas</td>\n",
              "    </tr>\n",
              "    <tr>\n",
              "      <th>4</th>\n",
              "      <td>2</td>\n",
              "      <td>140</td>\n",
              "      <td>197</td>\n",
              "      <td>22.697801</td>\n",
              "      <td>92.822234</td>\n",
              "      <td>5.534567</td>\n",
              "      <td>105.050823</td>\n",
              "      <td>apple</td>\n",
              "    </tr>\n",
              "    <tr>\n",
              "      <th>...</th>\n",
              "      <td>...</td>\n",
              "      <td>...</td>\n",
              "      <td>...</td>\n",
              "      <td>...</td>\n",
              "      <td>...</td>\n",
              "      <td>...</td>\n",
              "      <td>...</td>\n",
              "      <td>...</td>\n",
              "    </tr>\n",
              "    <tr>\n",
              "      <th>1645</th>\n",
              "      <td>10</td>\n",
              "      <td>5</td>\n",
              "      <td>5</td>\n",
              "      <td>21.213070</td>\n",
              "      <td>91.353492</td>\n",
              "      <td>7.817846</td>\n",
              "      <td>112.983436</td>\n",
              "      <td>orange</td>\n",
              "    </tr>\n",
              "    <tr>\n",
              "      <th>1646</th>\n",
              "      <td>108</td>\n",
              "      <td>94</td>\n",
              "      <td>47</td>\n",
              "      <td>27.359116</td>\n",
              "      <td>84.546250</td>\n",
              "      <td>6.387431</td>\n",
              "      <td>90.812505</td>\n",
              "      <td>banana</td>\n",
              "    </tr>\n",
              "    <tr>\n",
              "      <th>1647</th>\n",
              "      <td>11</td>\n",
              "      <td>36</td>\n",
              "      <td>31</td>\n",
              "      <td>27.920633</td>\n",
              "      <td>51.779659</td>\n",
              "      <td>6.475449</td>\n",
              "      <td>100.258567</td>\n",
              "      <td>mango</td>\n",
              "    </tr>\n",
              "    <tr>\n",
              "      <th>1648</th>\n",
              "      <td>11</td>\n",
              "      <td>124</td>\n",
              "      <td>204</td>\n",
              "      <td>13.429886</td>\n",
              "      <td>80.066340</td>\n",
              "      <td>6.361141</td>\n",
              "      <td>71.400430</td>\n",
              "      <td>grapes</td>\n",
              "    </tr>\n",
              "    <tr>\n",
              "      <th>1649</th>\n",
              "      <td>32</td>\n",
              "      <td>78</td>\n",
              "      <td>22</td>\n",
              "      <td>23.970814</td>\n",
              "      <td>62.355576</td>\n",
              "      <td>7.007038</td>\n",
              "      <td>53.409060</td>\n",
              "      <td>lentil</td>\n",
              "    </tr>\n",
              "  </tbody>\n",
              "</table>\n",
              "<p>1650 rows × 8 columns</p>\n",
              "</div>\n",
              "      <button class=\"colab-df-convert\" onclick=\"convertToInteractive('df-fceaf407-aca0-4a81-bb9b-432134668087')\"\n",
              "              title=\"Convert this dataframe to an interactive table.\"\n",
              "              style=\"display:none;\">\n",
              "        \n",
              "  <svg xmlns=\"http://www.w3.org/2000/svg\" height=\"24px\"viewBox=\"0 0 24 24\"\n",
              "       width=\"24px\">\n",
              "    <path d=\"M0 0h24v24H0V0z\" fill=\"none\"/>\n",
              "    <path d=\"M18.56 5.44l.94 2.06.94-2.06 2.06-.94-2.06-.94-.94-2.06-.94 2.06-2.06.94zm-11 1L8.5 8.5l.94-2.06 2.06-.94-2.06-.94L8.5 2.5l-.94 2.06-2.06.94zm10 10l.94 2.06.94-2.06 2.06-.94-2.06-.94-.94-2.06-.94 2.06-2.06.94z\"/><path d=\"M17.41 7.96l-1.37-1.37c-.4-.4-.92-.59-1.43-.59-.52 0-1.04.2-1.43.59L10.3 9.45l-7.72 7.72c-.78.78-.78 2.05 0 2.83L4 21.41c.39.39.9.59 1.41.59.51 0 1.02-.2 1.41-.59l7.78-7.78 2.81-2.81c.8-.78.8-2.07 0-2.86zM5.41 20L4 18.59l7.72-7.72 1.47 1.35L5.41 20z\"/>\n",
              "  </svg>\n",
              "      </button>\n",
              "      \n",
              "  <style>\n",
              "    .colab-df-container {\n",
              "      display:flex;\n",
              "      flex-wrap:wrap;\n",
              "      gap: 12px;\n",
              "    }\n",
              "\n",
              "    .colab-df-convert {\n",
              "      background-color: #E8F0FE;\n",
              "      border: none;\n",
              "      border-radius: 50%;\n",
              "      cursor: pointer;\n",
              "      display: none;\n",
              "      fill: #1967D2;\n",
              "      height: 32px;\n",
              "      padding: 0 0 0 0;\n",
              "      width: 32px;\n",
              "    }\n",
              "\n",
              "    .colab-df-convert:hover {\n",
              "      background-color: #E2EBFA;\n",
              "      box-shadow: 0px 1px 2px rgba(60, 64, 67, 0.3), 0px 1px 3px 1px rgba(60, 64, 67, 0.15);\n",
              "      fill: #174EA6;\n",
              "    }\n",
              "\n",
              "    [theme=dark] .colab-df-convert {\n",
              "      background-color: #3B4455;\n",
              "      fill: #D2E3FC;\n",
              "    }\n",
              "\n",
              "    [theme=dark] .colab-df-convert:hover {\n",
              "      background-color: #434B5C;\n",
              "      box-shadow: 0px 1px 3px 1px rgba(0, 0, 0, 0.15);\n",
              "      filter: drop-shadow(0px 1px 2px rgba(0, 0, 0, 0.3));\n",
              "      fill: #FFFFFF;\n",
              "    }\n",
              "  </style>\n",
              "\n",
              "      <script>\n",
              "        const buttonEl =\n",
              "          document.querySelector('#df-fceaf407-aca0-4a81-bb9b-432134668087 button.colab-df-convert');\n",
              "        buttonEl.style.display =\n",
              "          google.colab.kernel.accessAllowed ? 'block' : 'none';\n",
              "\n",
              "        async function convertToInteractive(key) {\n",
              "          const element = document.querySelector('#df-fceaf407-aca0-4a81-bb9b-432134668087');\n",
              "          const dataTable =\n",
              "            await google.colab.kernel.invokeFunction('convertToInteractive',\n",
              "                                                     [key], {});\n",
              "          if (!dataTable) return;\n",
              "\n",
              "          const docLinkHtml = 'Like what you see? Visit the ' +\n",
              "            '<a target=\"_blank\" href=https://colab.research.google.com/notebooks/data_table.ipynb>data table notebook</a>'\n",
              "            + ' to learn more about interactive tables.';\n",
              "          element.innerHTML = '';\n",
              "          dataTable['output_type'] = 'display_data';\n",
              "          await google.colab.output.renderOutput(dataTable, element);\n",
              "          const docLink = document.createElement('div');\n",
              "          docLink.innerHTML = docLinkHtml;\n",
              "          element.appendChild(docLink);\n",
              "        }\n",
              "      </script>\n",
              "    </div>\n",
              "  </div>\n",
              "  "
            ]
          },
          "metadata": {},
          "execution_count": 58
        }
      ],
      "source": [
        "train"
      ]
    },
    {
      "cell_type": "code",
      "execution_count": null,
      "id": "98c03ba0",
      "metadata": {
        "execution": {
          "iopub.execute_input": "2023-03-23T12:39:25.838901Z",
          "iopub.status.busy": "2023-03-23T12:39:25.838508Z",
          "iopub.status.idle": "2023-03-23T12:39:25.855071Z",
          "shell.execute_reply": "2023-03-23T12:39:25.853952Z"
        },
        "papermill": {
          "duration": 0.026289,
          "end_time": "2023-03-23T12:39:25.857302",
          "exception": false,
          "start_time": "2023-03-23T12:39:25.831013",
          "status": "completed"
        },
        "tags": [],
        "colab": {
          "base_uri": "https://localhost:8080/",
          "height": 423
        },
        "id": "98c03ba0",
        "outputId": "6d9e73b4-8fd3-447f-ac0c-5a45fd09d82a"
      },
      "outputs": [
        {
          "output_type": "execute_result",
          "data": {
            "text/plain": [
              "       N    P    K  temperature   humidity        ph    rainfall\n",
              "0    101   17   47    29.494014  94.729813  6.185053   26.308209\n",
              "1     98    8   51    26.179346  86.522581  6.259336   49.430510\n",
              "2     59   62   49    43.360515  93.351916  6.941497  114.778071\n",
              "3     44   60   55    34.280461  90.555616  6.825371   98.540477\n",
              "4     30  137  200    22.914300  90.704756  5.603413  118.604465\n",
              "..   ...  ...  ...          ...        ...       ...         ...\n",
              "545  100   32   26    25.234661  57.531615  6.043486  124.226174\n",
              "546   50   46   52    31.182984  90.216469  6.734006   54.018724\n",
              "547   30   65   82    20.714244  15.278241  7.103798   76.778887\n",
              "548   93   26   27    24.592457  56.468296  7.288212  137.704405\n",
              "549   63   47   35    26.985822  89.055879  7.432768  193.877871\n",
              "\n",
              "[550 rows x 7 columns]"
            ],
            "text/html": [
              "\n",
              "  <div id=\"df-cc8f6870-57bc-4acb-ab7f-466c4e3a3a15\">\n",
              "    <div class=\"colab-df-container\">\n",
              "      <div>\n",
              "<style scoped>\n",
              "    .dataframe tbody tr th:only-of-type {\n",
              "        vertical-align: middle;\n",
              "    }\n",
              "\n",
              "    .dataframe tbody tr th {\n",
              "        vertical-align: top;\n",
              "    }\n",
              "\n",
              "    .dataframe thead th {\n",
              "        text-align: right;\n",
              "    }\n",
              "</style>\n",
              "<table border=\"1\" class=\"dataframe\">\n",
              "  <thead>\n",
              "    <tr style=\"text-align: right;\">\n",
              "      <th></th>\n",
              "      <th>N</th>\n",
              "      <th>P</th>\n",
              "      <th>K</th>\n",
              "      <th>temperature</th>\n",
              "      <th>humidity</th>\n",
              "      <th>ph</th>\n",
              "      <th>rainfall</th>\n",
              "    </tr>\n",
              "  </thead>\n",
              "  <tbody>\n",
              "    <tr>\n",
              "      <th>0</th>\n",
              "      <td>101</td>\n",
              "      <td>17</td>\n",
              "      <td>47</td>\n",
              "      <td>29.494014</td>\n",
              "      <td>94.729813</td>\n",
              "      <td>6.185053</td>\n",
              "      <td>26.308209</td>\n",
              "    </tr>\n",
              "    <tr>\n",
              "      <th>1</th>\n",
              "      <td>98</td>\n",
              "      <td>8</td>\n",
              "      <td>51</td>\n",
              "      <td>26.179346</td>\n",
              "      <td>86.522581</td>\n",
              "      <td>6.259336</td>\n",
              "      <td>49.430510</td>\n",
              "    </tr>\n",
              "    <tr>\n",
              "      <th>2</th>\n",
              "      <td>59</td>\n",
              "      <td>62</td>\n",
              "      <td>49</td>\n",
              "      <td>43.360515</td>\n",
              "      <td>93.351916</td>\n",
              "      <td>6.941497</td>\n",
              "      <td>114.778071</td>\n",
              "    </tr>\n",
              "    <tr>\n",
              "      <th>3</th>\n",
              "      <td>44</td>\n",
              "      <td>60</td>\n",
              "      <td>55</td>\n",
              "      <td>34.280461</td>\n",
              "      <td>90.555616</td>\n",
              "      <td>6.825371</td>\n",
              "      <td>98.540477</td>\n",
              "    </tr>\n",
              "    <tr>\n",
              "      <th>4</th>\n",
              "      <td>30</td>\n",
              "      <td>137</td>\n",
              "      <td>200</td>\n",
              "      <td>22.914300</td>\n",
              "      <td>90.704756</td>\n",
              "      <td>5.603413</td>\n",
              "      <td>118.604465</td>\n",
              "    </tr>\n",
              "    <tr>\n",
              "      <th>...</th>\n",
              "      <td>...</td>\n",
              "      <td>...</td>\n",
              "      <td>...</td>\n",
              "      <td>...</td>\n",
              "      <td>...</td>\n",
              "      <td>...</td>\n",
              "      <td>...</td>\n",
              "    </tr>\n",
              "    <tr>\n",
              "      <th>545</th>\n",
              "      <td>100</td>\n",
              "      <td>32</td>\n",
              "      <td>26</td>\n",
              "      <td>25.234661</td>\n",
              "      <td>57.531615</td>\n",
              "      <td>6.043486</td>\n",
              "      <td>124.226174</td>\n",
              "    </tr>\n",
              "    <tr>\n",
              "      <th>546</th>\n",
              "      <td>50</td>\n",
              "      <td>46</td>\n",
              "      <td>52</td>\n",
              "      <td>31.182984</td>\n",
              "      <td>90.216469</td>\n",
              "      <td>6.734006</td>\n",
              "      <td>54.018724</td>\n",
              "    </tr>\n",
              "    <tr>\n",
              "      <th>547</th>\n",
              "      <td>30</td>\n",
              "      <td>65</td>\n",
              "      <td>82</td>\n",
              "      <td>20.714244</td>\n",
              "      <td>15.278241</td>\n",
              "      <td>7.103798</td>\n",
              "      <td>76.778887</td>\n",
              "    </tr>\n",
              "    <tr>\n",
              "      <th>548</th>\n",
              "      <td>93</td>\n",
              "      <td>26</td>\n",
              "      <td>27</td>\n",
              "      <td>24.592457</td>\n",
              "      <td>56.468296</td>\n",
              "      <td>7.288212</td>\n",
              "      <td>137.704405</td>\n",
              "    </tr>\n",
              "    <tr>\n",
              "      <th>549</th>\n",
              "      <td>63</td>\n",
              "      <td>47</td>\n",
              "      <td>35</td>\n",
              "      <td>26.985822</td>\n",
              "      <td>89.055879</td>\n",
              "      <td>7.432768</td>\n",
              "      <td>193.877871</td>\n",
              "    </tr>\n",
              "  </tbody>\n",
              "</table>\n",
              "<p>550 rows × 7 columns</p>\n",
              "</div>\n",
              "      <button class=\"colab-df-convert\" onclick=\"convertToInteractive('df-cc8f6870-57bc-4acb-ab7f-466c4e3a3a15')\"\n",
              "              title=\"Convert this dataframe to an interactive table.\"\n",
              "              style=\"display:none;\">\n",
              "        \n",
              "  <svg xmlns=\"http://www.w3.org/2000/svg\" height=\"24px\"viewBox=\"0 0 24 24\"\n",
              "       width=\"24px\">\n",
              "    <path d=\"M0 0h24v24H0V0z\" fill=\"none\"/>\n",
              "    <path d=\"M18.56 5.44l.94 2.06.94-2.06 2.06-.94-2.06-.94-.94-2.06-.94 2.06-2.06.94zm-11 1L8.5 8.5l.94-2.06 2.06-.94-2.06-.94L8.5 2.5l-.94 2.06-2.06.94zm10 10l.94 2.06.94-2.06 2.06-.94-2.06-.94-.94-2.06-.94 2.06-2.06.94z\"/><path d=\"M17.41 7.96l-1.37-1.37c-.4-.4-.92-.59-1.43-.59-.52 0-1.04.2-1.43.59L10.3 9.45l-7.72 7.72c-.78.78-.78 2.05 0 2.83L4 21.41c.39.39.9.59 1.41.59.51 0 1.02-.2 1.41-.59l7.78-7.78 2.81-2.81c.8-.78.8-2.07 0-2.86zM5.41 20L4 18.59l7.72-7.72 1.47 1.35L5.41 20z\"/>\n",
              "  </svg>\n",
              "      </button>\n",
              "      \n",
              "  <style>\n",
              "    .colab-df-container {\n",
              "      display:flex;\n",
              "      flex-wrap:wrap;\n",
              "      gap: 12px;\n",
              "    }\n",
              "\n",
              "    .colab-df-convert {\n",
              "      background-color: #E8F0FE;\n",
              "      border: none;\n",
              "      border-radius: 50%;\n",
              "      cursor: pointer;\n",
              "      display: none;\n",
              "      fill: #1967D2;\n",
              "      height: 32px;\n",
              "      padding: 0 0 0 0;\n",
              "      width: 32px;\n",
              "    }\n",
              "\n",
              "    .colab-df-convert:hover {\n",
              "      background-color: #E2EBFA;\n",
              "      box-shadow: 0px 1px 2px rgba(60, 64, 67, 0.3), 0px 1px 3px 1px rgba(60, 64, 67, 0.15);\n",
              "      fill: #174EA6;\n",
              "    }\n",
              "\n",
              "    [theme=dark] .colab-df-convert {\n",
              "      background-color: #3B4455;\n",
              "      fill: #D2E3FC;\n",
              "    }\n",
              "\n",
              "    [theme=dark] .colab-df-convert:hover {\n",
              "      background-color: #434B5C;\n",
              "      box-shadow: 0px 1px 3px 1px rgba(0, 0, 0, 0.15);\n",
              "      filter: drop-shadow(0px 1px 2px rgba(0, 0, 0, 0.3));\n",
              "      fill: #FFFFFF;\n",
              "    }\n",
              "  </style>\n",
              "\n",
              "      <script>\n",
              "        const buttonEl =\n",
              "          document.querySelector('#df-cc8f6870-57bc-4acb-ab7f-466c4e3a3a15 button.colab-df-convert');\n",
              "        buttonEl.style.display =\n",
              "          google.colab.kernel.accessAllowed ? 'block' : 'none';\n",
              "\n",
              "        async function convertToInteractive(key) {\n",
              "          const element = document.querySelector('#df-cc8f6870-57bc-4acb-ab7f-466c4e3a3a15');\n",
              "          const dataTable =\n",
              "            await google.colab.kernel.invokeFunction('convertToInteractive',\n",
              "                                                     [key], {});\n",
              "          if (!dataTable) return;\n",
              "\n",
              "          const docLinkHtml = 'Like what you see? Visit the ' +\n",
              "            '<a target=\"_blank\" href=https://colab.research.google.com/notebooks/data_table.ipynb>data table notebook</a>'\n",
              "            + ' to learn more about interactive tables.';\n",
              "          element.innerHTML = '';\n",
              "          dataTable['output_type'] = 'display_data';\n",
              "          await google.colab.output.renderOutput(dataTable, element);\n",
              "          const docLink = document.createElement('div');\n",
              "          docLink.innerHTML = docLinkHtml;\n",
              "          element.appendChild(docLink);\n",
              "        }\n",
              "      </script>\n",
              "    </div>\n",
              "  </div>\n",
              "  "
            ]
          },
          "metadata": {},
          "execution_count": 59
        }
      ],
      "source": [
        "test"
      ]
    },
    {
      "cell_type": "code",
      "execution_count": null,
      "id": "c8fc690e",
      "metadata": {
        "execution": {
          "iopub.execute_input": "2023-03-23T12:39:25.871935Z",
          "iopub.status.busy": "2023-03-23T12:39:25.871536Z",
          "iopub.status.idle": "2023-03-23T12:39:25.884984Z",
          "shell.execute_reply": "2023-03-23T12:39:25.883209Z"
        },
        "papermill": {
          "duration": 0.02392,
          "end_time": "2023-03-23T12:39:25.887544",
          "exception": false,
          "start_time": "2023-03-23T12:39:25.863624",
          "status": "completed"
        },
        "tags": [],
        "colab": {
          "base_uri": "https://localhost:8080/"
        },
        "id": "c8fc690e",
        "outputId": "55cc6b6b-bc2c-4199-d0d3-920f9234704c"
      },
      "outputs": [
        {
          "output_type": "stream",
          "name": "stdout",
          "text": [
            "(1650, 8)\n",
            "(1650, 7)\n"
          ]
        }
      ],
      "source": [
        "print(train.shape)\n",
        "X = train.drop('label', axis=1) \n",
        "print(X.shape)\n",
        "\n",
        "y = train['label'] "
      ]
    },
    {
      "cell_type": "code",
      "execution_count": null,
      "id": "01c88692",
      "metadata": {
        "execution": {
          "iopub.execute_input": "2023-03-23T12:39:25.901939Z",
          "iopub.status.busy": "2023-03-23T12:39:25.901318Z",
          "iopub.status.idle": "2023-03-23T12:39:26.049768Z",
          "shell.execute_reply": "2023-03-23T12:39:26.048326Z"
        },
        "papermill": {
          "duration": 0.159277,
          "end_time": "2023-03-23T12:39:26.053121",
          "exception": false,
          "start_time": "2023-03-23T12:39:25.893844",
          "status": "completed"
        },
        "tags": [],
        "colab": {
          "base_uri": "https://localhost:8080/"
        },
        "id": "01c88692",
        "outputId": "9f8c2b6d-1905-4c63-8074-a70eeab88d00"
      },
      "outputs": [
        {
          "output_type": "stream",
          "name": "stdout",
          "text": [
            "fruits : [ 0  1  2  3  4  5  6  7  8  9 10 11 12 13 14 15 16 17 18 19 20 21]\n"
          ]
        }
      ],
      "source": [
        "from sklearn.preprocessing import LabelEncoder\n",
        "import numpy as np\n",
        "\n",
        "classle = LabelEncoder()  # class Label Encoder 인스턴스 생성\n",
        "y = classle.fit_transform(train['label'].values) # species 열의 문자열은 categorical 값으로 전환\n",
        "print('fruits :', np.unique(y))  # 중복되는 y값을 하나로 정리하여 print"
      ]
    },
    {
      "cell_type": "code",
      "execution_count": null,
      "id": "1bc8d795",
      "metadata": {
        "execution": {
          "iopub.execute_input": "2023-03-23T12:39:26.067323Z",
          "iopub.status.busy": "2023-03-23T12:39:26.066892Z",
          "iopub.status.idle": "2023-03-23T12:39:26.074856Z",
          "shell.execute_reply": "2023-03-23T12:39:26.073416Z"
        },
        "papermill": {
          "duration": 0.017589,
          "end_time": "2023-03-23T12:39:26.077199",
          "exception": false,
          "start_time": "2023-03-23T12:39:26.059610",
          "status": "completed"
        },
        "tags": [],
        "colab": {
          "base_uri": "https://localhost:8080/"
        },
        "id": "1bc8d795",
        "outputId": "1cc935b4-9bc7-416f-dc45-cdc9894b8824"
      },
      "outputs": [
        {
          "output_type": "stream",
          "name": "stdout",
          "text": [
            "species: ['apple' 'banana' 'blackgram' 'chickpea' 'coconut' 'coffee' 'cotton'\n",
            " 'grapes' 'jute' 'kidneybeans' 'lentil' 'maize' 'mango' 'mothbeans'\n",
            " 'mungbean' 'muskmelon' 'orange' 'papaya' 'pigeonpeas' 'pomegranate'\n",
            " 'rice' 'watermelon']\n"
          ]
        }
      ],
      "source": [
        "yo = classle.inverse_transform(y)\n",
        "print('species:', np.unique(yo))"
      ]
    },
    {
      "cell_type": "code",
      "execution_count": null,
      "id": "a6bc6936",
      "metadata": {
        "execution": {
          "iopub.execute_input": "2023-03-23T12:39:26.093190Z",
          "iopub.status.busy": "2023-03-23T12:39:26.092431Z",
          "iopub.status.idle": "2023-03-23T12:39:26.171042Z",
          "shell.execute_reply": "2023-03-23T12:39:26.169804Z"
        },
        "papermill": {
          "duration": 0.090626,
          "end_time": "2023-03-23T12:39:26.174362",
          "exception": false,
          "start_time": "2023-03-23T12:39:26.083736",
          "status": "completed"
        },
        "tags": [],
        "colab": {
          "base_uri": "https://localhost:8080/"
        },
        "id": "a6bc6936",
        "outputId": "c4fbef1c-2b53-46b0-bc5c-e9dace434e67"
      },
      "outputs": [
        {
          "output_type": "stream",
          "name": "stdout",
          "text": [
            "(1485, 7)\n",
            "(165, 7)\n",
            "(1485,)\n",
            "(165,)\n"
          ]
        }
      ],
      "source": [
        "from sklearn.model_selection import train_test_split # scikit-learn의 model_selection library를 train_test_split로 명명\n",
        "X_train, X_test, y_train, y_test = train_test_split(X, y, test_size=0.1, random_state=1, stratify=y)  # X와 y의 data를 각각 30%, 70%의 비율로 분할\n",
        "\n",
        "print(X_train.shape)\n",
        "print(X_test.shape)\n",
        "print(y_train.shape)\n",
        "print(y_test.shape)"
      ]
    },
    {
      "cell_type": "code",
      "execution_count": null,
      "id": "8567639d",
      "metadata": {
        "execution": {
          "iopub.execute_input": "2023-03-23T12:39:26.190213Z",
          "iopub.status.busy": "2023-03-23T12:39:26.189006Z",
          "iopub.status.idle": "2023-03-23T12:39:26.201397Z",
          "shell.execute_reply": "2023-03-23T12:39:26.200205Z"
        },
        "papermill": {
          "duration": 0.02285,
          "end_time": "2023-03-23T12:39:26.204019",
          "exception": false,
          "start_time": "2023-03-23T12:39:26.181169",
          "status": "completed"
        },
        "tags": [],
        "id": "8567639d"
      },
      "outputs": [],
      "source": []
    },
    {
      "cell_type": "code",
      "execution_count": null,
      "id": "d816a994",
      "metadata": {
        "execution": {
          "iopub.execute_input": "2023-03-23T12:39:26.218843Z",
          "iopub.status.busy": "2023-03-23T12:39:26.218452Z",
          "iopub.status.idle": "2023-03-23T12:39:26.421456Z",
          "shell.execute_reply": "2023-03-23T12:39:26.420040Z"
        },
        "papermill": {
          "duration": 0.213418,
          "end_time": "2023-03-23T12:39:26.423989",
          "exception": false,
          "start_time": "2023-03-23T12:39:26.210571",
          "status": "completed"
        },
        "tags": [],
        "colab": {
          "base_uri": "https://localhost:8080/",
          "height": 74
        },
        "id": "d816a994",
        "outputId": "334873a3-1926-4f12-cdb2-89cfa8292900"
      },
      "outputs": [
        {
          "output_type": "execute_result",
          "data": {
            "text/plain": [
              "KNeighborsClassifier(p=1, weights='distance')"
            ],
            "text/html": [
              "<style>#sk-container-id-24 {color: black;background-color: white;}#sk-container-id-24 pre{padding: 0;}#sk-container-id-24 div.sk-toggleable {background-color: white;}#sk-container-id-24 label.sk-toggleable__label {cursor: pointer;display: block;width: 100%;margin-bottom: 0;padding: 0.3em;box-sizing: border-box;text-align: center;}#sk-container-id-24 label.sk-toggleable__label-arrow:before {content: \"▸\";float: left;margin-right: 0.25em;color: #696969;}#sk-container-id-24 label.sk-toggleable__label-arrow:hover:before {color: black;}#sk-container-id-24 div.sk-estimator:hover label.sk-toggleable__label-arrow:before {color: black;}#sk-container-id-24 div.sk-toggleable__content {max-height: 0;max-width: 0;overflow: hidden;text-align: left;background-color: #f0f8ff;}#sk-container-id-24 div.sk-toggleable__content pre {margin: 0.2em;color: black;border-radius: 0.25em;background-color: #f0f8ff;}#sk-container-id-24 input.sk-toggleable__control:checked~div.sk-toggleable__content {max-height: 200px;max-width: 100%;overflow: auto;}#sk-container-id-24 input.sk-toggleable__control:checked~label.sk-toggleable__label-arrow:before {content: \"▾\";}#sk-container-id-24 div.sk-estimator input.sk-toggleable__control:checked~label.sk-toggleable__label {background-color: #d4ebff;}#sk-container-id-24 div.sk-label input.sk-toggleable__control:checked~label.sk-toggleable__label {background-color: #d4ebff;}#sk-container-id-24 input.sk-hidden--visually {border: 0;clip: rect(1px 1px 1px 1px);clip: rect(1px, 1px, 1px, 1px);height: 1px;margin: -1px;overflow: hidden;padding: 0;position: absolute;width: 1px;}#sk-container-id-24 div.sk-estimator {font-family: monospace;background-color: #f0f8ff;border: 1px dotted black;border-radius: 0.25em;box-sizing: border-box;margin-bottom: 0.5em;}#sk-container-id-24 div.sk-estimator:hover {background-color: #d4ebff;}#sk-container-id-24 div.sk-parallel-item::after {content: \"\";width: 100%;border-bottom: 1px solid gray;flex-grow: 1;}#sk-container-id-24 div.sk-label:hover label.sk-toggleable__label {background-color: #d4ebff;}#sk-container-id-24 div.sk-serial::before {content: \"\";position: absolute;border-left: 1px solid gray;box-sizing: border-box;top: 0;bottom: 0;left: 50%;z-index: 0;}#sk-container-id-24 div.sk-serial {display: flex;flex-direction: column;align-items: center;background-color: white;padding-right: 0.2em;padding-left: 0.2em;position: relative;}#sk-container-id-24 div.sk-item {position: relative;z-index: 1;}#sk-container-id-24 div.sk-parallel {display: flex;align-items: stretch;justify-content: center;background-color: white;position: relative;}#sk-container-id-24 div.sk-item::before, #sk-container-id-24 div.sk-parallel-item::before {content: \"\";position: absolute;border-left: 1px solid gray;box-sizing: border-box;top: 0;bottom: 0;left: 50%;z-index: -1;}#sk-container-id-24 div.sk-parallel-item {display: flex;flex-direction: column;z-index: 1;position: relative;background-color: white;}#sk-container-id-24 div.sk-parallel-item:first-child::after {align-self: flex-end;width: 50%;}#sk-container-id-24 div.sk-parallel-item:last-child::after {align-self: flex-start;width: 50%;}#sk-container-id-24 div.sk-parallel-item:only-child::after {width: 0;}#sk-container-id-24 div.sk-dashed-wrapped {border: 1px dashed gray;margin: 0 0.4em 0.5em 0.4em;box-sizing: border-box;padding-bottom: 0.4em;background-color: white;}#sk-container-id-24 div.sk-label label {font-family: monospace;font-weight: bold;display: inline-block;line-height: 1.2em;}#sk-container-id-24 div.sk-label-container {text-align: center;}#sk-container-id-24 div.sk-container {/* jupyter's `normalize.less` sets `[hidden] { display: none; }` but bootstrap.min.css set `[hidden] { display: none !important; }` so we also need the `!important` here to be able to override the default hidden behavior on the sphinx rendered scikit-learn.org. See: https://github.com/scikit-learn/scikit-learn/issues/21755 */display: inline-block !important;position: relative;}#sk-container-id-24 div.sk-text-repr-fallback {display: none;}</style><div id=\"sk-container-id-24\" class=\"sk-top-container\"><div class=\"sk-text-repr-fallback\"><pre>KNeighborsClassifier(p=1, weights=&#x27;distance&#x27;)</pre><b>In a Jupyter environment, please rerun this cell to show the HTML representation or trust the notebook. <br />On GitHub, the HTML representation is unable to render, please try loading this page with nbviewer.org.</b></div><div class=\"sk-container\" hidden><div class=\"sk-item\"><div class=\"sk-estimator sk-toggleable\"><input class=\"sk-toggleable__control sk-hidden--visually\" id=\"sk-estimator-id-24\" type=\"checkbox\" checked><label for=\"sk-estimator-id-24\" class=\"sk-toggleable__label sk-toggleable__label-arrow\">KNeighborsClassifier</label><div class=\"sk-toggleable__content\"><pre>KNeighborsClassifier(p=1, weights=&#x27;distance&#x27;)</pre></div></div></div></div></div>"
            ]
          },
          "metadata": {},
          "execution_count": 117
        }
      ],
      "source": [
        "# KNN 적용\n",
        "from sklearn.neighbors import KNeighborsClassifier  # KNN 불러오기\n",
        "knn = KNeighborsClassifier(n_neighbors=5, p=1, weights ='distance')  # 5개의 인접한 이웃, 거리측정 기준: 유클리드\n",
        "#knn.fit(X_train_std, y_train)  #모델 fitting 과정\n",
        "knn.fit(X_train, y_train)"
      ]
    },
    {
      "cell_type": "code",
      "execution_count": null,
      "id": "9a1922f7",
      "metadata": {
        "execution": {
          "iopub.execute_input": "2023-03-23T12:39:26.440080Z",
          "iopub.status.busy": "2023-03-23T12:39:26.439180Z",
          "iopub.status.idle": "2023-03-23T12:39:26.498520Z",
          "shell.execute_reply": "2023-03-23T12:39:26.497142Z"
        },
        "papermill": {
          "duration": 0.070753,
          "end_time": "2023-03-23T12:39:26.501418",
          "exception": false,
          "start_time": "2023-03-23T12:39:26.430665",
          "status": "completed"
        },
        "tags": [],
        "colab": {
          "base_uri": "https://localhost:8080/"
        },
        "id": "9a1922f7",
        "outputId": "dae5f86d-4d38-4a5d-c289-688f4d039f53"
      },
      "outputs": [
        {
          "output_type": "stream",
          "name": "stdout",
          "text": [
            "Misclassified training samples: 0\n",
            "Misclassified test samples: 2\n"
          ]
        }
      ],
      "source": [
        "#y_train_pred = knn.predict(X_train_std)  # train data의 y값 예측치\n",
        "y_train_pred = knn.predict(X_train)  # train data의 y값 예측치\n",
        "#y_test_pred = knn.predict(X_test_std)  # 모델을 적용한 test data의 y값 예측치\n",
        "y_test_pred = knn.predict(X_test)  # 모델을 적용한 test data의 y값 예측치\n",
        "print('Misclassified training samples: %d' %(y_train != y_train_pred).sum())  # 오분류 데이터 갯수 확인\n",
        "print('Misclassified test samples: %d'%(y_test != y_test_pred).sum()) # 오분류 데이터 갯수 확인"
      ]
    },
    {
      "cell_type": "code",
      "execution_count": null,
      "id": "43db6e69",
      "metadata": {
        "execution": {
          "iopub.execute_input": "2023-03-23T12:39:26.517550Z",
          "iopub.status.busy": "2023-03-23T12:39:26.516790Z",
          "iopub.status.idle": "2023-03-23T12:39:26.523057Z",
          "shell.execute_reply": "2023-03-23T12:39:26.522269Z"
        },
        "papermill": {
          "duration": 0.016875,
          "end_time": "2023-03-23T12:39:26.525314",
          "exception": false,
          "start_time": "2023-03-23T12:39:26.508439",
          "status": "completed"
        },
        "tags": [],
        "colab": {
          "base_uri": "https://localhost:8080/"
        },
        "id": "43db6e69",
        "outputId": "d00c553e-9a78-4c2b-a4e1-4af96620e8ce"
      },
      "outputs": [
        {
          "output_type": "stream",
          "name": "stdout",
          "text": [
            "0.9878787878787879\n"
          ]
        }
      ],
      "source": [
        "from sklearn.metrics import accuracy_score  # 정확도 계산을 위한 모듈 import\n",
        "print(accuracy_score(y_test, y_test_pred))  # 45개 test sample 중 42개가 정확하게 분류됨."
      ]
    },
    {
      "cell_type": "code",
      "execution_count": null,
      "id": "753963da",
      "metadata": {
        "execution": {
          "iopub.execute_input": "2023-03-23T12:39:26.540699Z",
          "iopub.status.busy": "2023-03-23T12:39:26.540270Z",
          "iopub.status.idle": "2023-03-23T12:39:26.563932Z",
          "shell.execute_reply": "2023-03-23T12:39:26.562631Z"
        },
        "papermill": {
          "duration": 0.034873,
          "end_time": "2023-03-23T12:39:26.566773",
          "exception": false,
          "start_time": "2023-03-23T12:39:26.531900",
          "status": "completed"
        },
        "tags": [],
        "id": "753963da"
      },
      "outputs": [],
      "source": [
        "y_pred = knn.predict(test)  # 모델을 적용한 test data의 y값 예측치"
      ]
    },
    {
      "cell_type": "code",
      "execution_count": null,
      "id": "e61eb1eb",
      "metadata": {
        "execution": {
          "iopub.execute_input": "2023-03-23T12:39:26.582500Z",
          "iopub.status.busy": "2023-03-23T12:39:26.582105Z",
          "iopub.status.idle": "2023-03-23T12:39:26.590591Z",
          "shell.execute_reply": "2023-03-23T12:39:26.589747Z"
        },
        "papermill": {
          "duration": 0.018985,
          "end_time": "2023-03-23T12:39:26.592757",
          "exception": false,
          "start_time": "2023-03-23T12:39:26.573772",
          "status": "completed"
        },
        "tags": [],
        "colab": {
          "base_uri": "https://localhost:8080/"
        },
        "id": "e61eb1eb",
        "outputId": "5a2c0cb2-bbfe-471d-958b-6b518253c345"
      },
      "outputs": [
        {
          "output_type": "execute_result",
          "data": {
            "text/plain": [
              "array(['muskmelon', 'watermelon', 'papaya', 'papaya', 'apple', 'mango',\n",
              "       'apple', 'mothbeans', 'mungbean', 'lentil', 'blackgram', 'coconut',\n",
              "       'pomegranate', 'jute', 'coconut', 'pomegranate', 'apple', 'cotton',\n",
              "       'papaya', 'muskmelon', 'coffee', 'papaya', 'orange', 'papaya',\n",
              "       'chickpea', 'jute', 'mungbean', 'orange', 'pigeonpeas', 'jute',\n",
              "       'pomegranate', 'mothbeans', 'jute', 'lentil', 'jute', 'blackgram',\n",
              "       'jute', 'chickpea', 'chickpea', 'kidneybeans', 'papaya', 'mango',\n",
              "       'blackgram', 'maize', 'mungbean', 'maize', 'pigeonpeas', 'coconut',\n",
              "       'muskmelon', 'maize', 'blackgram', 'coffee', 'grapes', 'mungbean',\n",
              "       'coffee', 'kidneybeans', 'cotton', 'apple', 'banana', 'blackgram',\n",
              "       'watermelon', 'coconut', 'lentil', 'orange', 'papaya', 'blackgram',\n",
              "       'orange', 'rice', 'muskmelon', 'pigeonpeas', 'muskmelon',\n",
              "       'coconut', 'jute', 'banana', 'blackgram', 'papaya', 'banana',\n",
              "       'cotton', 'watermelon', 'orange', 'coffee', 'chickpea', 'rice',\n",
              "       'mothbeans', 'orange', 'mango', 'coffee', 'mothbeans', 'blackgram',\n",
              "       'pomegranate', 'maize', 'mothbeans', 'cotton', 'papaya',\n",
              "       'pigeonpeas', 'mothbeans', 'kidneybeans', 'coffee', 'blackgram',\n",
              "       'lentil', 'coconut', 'rice', 'orange', 'muskmelon', 'watermelon',\n",
              "       'kidneybeans', 'watermelon', 'banana', 'pigeonpeas', 'mothbeans',\n",
              "       'banana', 'jute', 'cotton', 'pomegranate', 'pigeonpeas',\n",
              "       'chickpea', 'maize', 'coconut', 'pomegranate', 'rice',\n",
              "       'pigeonpeas', 'grapes', 'blackgram', 'coconut', 'chickpea',\n",
              "       'blackgram', 'coconut', 'maize', 'banana', 'mothbeans', 'banana',\n",
              "       'kidneybeans', 'pomegranate', 'chickpea', 'coconut', 'orange',\n",
              "       'pigeonpeas', 'banana', 'banana', 'apple', 'kidneybeans',\n",
              "       'muskmelon', 'mungbean', 'mothbeans', 'coconut', 'maize', 'apple',\n",
              "       'coconut', 'kidneybeans', 'mothbeans', 'mungbean', 'lentil',\n",
              "       'watermelon', 'mungbean', 'pigeonpeas', 'pigeonpeas', 'pigeonpeas',\n",
              "       'kidneybeans', 'maize', 'jute', 'chickpea', 'apple', 'orange',\n",
              "       'cotton', 'rice', 'coconut', 'grapes', 'lentil', 'watermelon',\n",
              "       'grapes', 'grapes', 'blackgram', 'pomegranate', 'chickpea',\n",
              "       'coconut', 'maize', 'lentil', 'grapes', 'watermelon', 'jute',\n",
              "       'coffee', 'coffee', 'kidneybeans', 'jute', 'mothbeans',\n",
              "       'kidneybeans', 'banana', 'kidneybeans', 'coconut', 'papaya',\n",
              "       'papaya', 'mungbean', 'mango', 'pomegranate', 'watermelon',\n",
              "       'kidneybeans', 'maize', 'apple', 'blackgram', 'chickpea', 'grapes',\n",
              "       'grapes', 'banana', 'cotton', 'rice', 'pomegranate', 'mungbean',\n",
              "       'banana', 'jute', 'mungbean', 'maize', 'chickpea', 'chickpea',\n",
              "       'chickpea', 'apple', 'rice', 'kidneybeans', 'papaya', 'coffee',\n",
              "       'blackgram', 'kidneybeans', 'mango', 'mango', 'coconut', 'papaya',\n",
              "       'apple', 'chickpea', 'pomegranate', 'chickpea', 'muskmelon',\n",
              "       'apple', 'muskmelon', 'muskmelon', 'mango', 'mango', 'cotton',\n",
              "       'coconut', 'pomegranate', 'rice', 'muskmelon', 'coffee', 'papaya',\n",
              "       'lentil', 'maize', 'mango', 'muskmelon', 'pigeonpeas', 'mungbean',\n",
              "       'coffee', 'grapes', 'coconut', 'cotton', 'pigeonpeas', 'rice',\n",
              "       'apple', 'pomegranate', 'coffee', 'chickpea', 'cotton', 'jute',\n",
              "       'mango', 'banana', 'papaya', 'apple', 'chickpea', 'jute',\n",
              "       'pigeonpeas', 'mothbeans', 'mungbean', 'jute', 'pomegranate',\n",
              "       'grapes', 'mothbeans', 'jute', 'maize', 'coconut', 'maize',\n",
              "       'chickpea', 'banana', 'jute', 'coconut', 'jute', 'mango',\n",
              "       'muskmelon', 'apple', 'banana', 'pigeonpeas', 'blackgram',\n",
              "       'orange', 'chickpea', 'watermelon', 'banana', 'apple', 'chickpea',\n",
              "       'coffee', 'pigeonpeas', 'orange', 'apple', 'coconut', 'papaya',\n",
              "       'watermelon', 'mothbeans', 'papaya', 'chickpea', 'pomegranate',\n",
              "       'chickpea', 'papaya', 'lentil', 'apple', 'pomegranate', 'chickpea',\n",
              "       'mango', 'chickpea', 'pomegranate', 'watermelon', 'kidneybeans',\n",
              "       'mungbean', 'muskmelon', 'watermelon', 'kidneybeans', 'muskmelon',\n",
              "       'mango', 'jute', 'blackgram', 'chickpea', 'banana', 'blackgram',\n",
              "       'pigeonpeas', 'papaya', 'kidneybeans', 'mungbean', 'coconut',\n",
              "       'cotton', 'grapes', 'apple', 'lentil', 'banana', 'jute', 'apple',\n",
              "       'pomegranate', 'apple', 'mungbean', 'muskmelon', 'coffee', 'jute',\n",
              "       'pigeonpeas', 'jute', 'kidneybeans', 'banana', 'maize', 'jute',\n",
              "       'maize', 'pigeonpeas', 'mango', 'kidneybeans', 'pomegranate',\n",
              "       'watermelon', 'blackgram', 'maize', 'rice', 'mothbeans',\n",
              "       'kidneybeans', 'mango', 'cotton', 'papaya', 'mothbeans', 'cotton',\n",
              "       'mungbean', 'orange', 'jute', 'blackgram', 'mungbean', 'coffee',\n",
              "       'banana', 'pigeonpeas', 'papaya', 'apple', 'pomegranate', 'maize',\n",
              "       'mango', 'coconut', 'apple', 'lentil', 'jute', 'mothbeans',\n",
              "       'lentil', 'coconut', 'blackgram', 'jute', 'mungbean', 'cotton',\n",
              "       'watermelon', 'apple', 'grapes', 'coconut', 'grapes', 'watermelon',\n",
              "       'rice', 'mango', 'mango', 'coffee', 'pomegranate', 'banana',\n",
              "       'grapes', 'jute', 'orange', 'cotton', 'mango', 'papaya',\n",
              "       'muskmelon', 'mothbeans', 'jute', 'chickpea', 'mothbeans',\n",
              "       'pomegranate', 'watermelon', 'mothbeans', 'cotton', 'papaya',\n",
              "       'watermelon', 'lentil', 'rice', 'coconut', 'mothbeans',\n",
              "       'mothbeans', 'maize', 'rice', 'maize', 'coconut', 'orange',\n",
              "       'pomegranate', 'kidneybeans', 'watermelon', 'mungbean',\n",
              "       'blackgram', 'rice', 'rice', 'cotton', 'cotton', 'pigeonpeas',\n",
              "       'orange', 'blackgram', 'lentil', 'banana', 'mango', 'maize',\n",
              "       'apple', 'pomegranate', 'mango', 'cotton', 'mungbean',\n",
              "       'pigeonpeas', 'chickpea', 'apple', 'coffee', 'pigeonpeas', 'jute',\n",
              "       'jute', 'jute', 'papaya', 'lentil', 'grapes', 'jute', 'orange',\n",
              "       'mungbean', 'mango', 'kidneybeans', 'grapes', 'mungbean', 'orange',\n",
              "       'pigeonpeas', 'banana', 'jute', 'pigeonpeas', 'pomegranate',\n",
              "       'coffee', 'muskmelon', 'blackgram', 'papaya', 'papaya',\n",
              "       'pomegranate', 'kidneybeans', 'chickpea', 'mungbean', 'mungbean',\n",
              "       'mango', 'pigeonpeas', 'muskmelon', 'mango', 'mothbeans',\n",
              "       'pigeonpeas', 'muskmelon', 'rice', 'pomegranate', 'muskmelon',\n",
              "       'pigeonpeas', 'apple', 'mungbean', 'jute', 'kidneybeans', 'apple',\n",
              "       'rice', 'mango', 'papaya', 'mothbeans', 'cotton', 'pomegranate',\n",
              "       'pigeonpeas', 'papaya', 'lentil', 'maize', 'chickpea', 'muskmelon',\n",
              "       'cotton', 'kidneybeans', 'chickpea', 'mungbean', 'coffee',\n",
              "       'coffee', 'orange', 'watermelon', 'orange', 'grapes', 'coffee',\n",
              "       'pigeonpeas', 'mango', 'apple', 'mango', 'pomegranate', 'coffee',\n",
              "       'pigeonpeas', 'coffee', 'grapes', 'cotton', 'pomegranate',\n",
              "       'papaya', 'apple', 'blackgram', 'pigeonpeas', 'watermelon',\n",
              "       'papaya', 'blackgram', 'grapes', 'lentil', 'jute', 'coffee',\n",
              "       'papaya', 'chickpea', 'coffee', 'jute'], dtype=object)"
            ]
          },
          "metadata": {},
          "execution_count": 121
        }
      ],
      "source": [
        "yyy = classle.inverse_transform(y_pred)\n",
        "yyy"
      ]
    },
    {
      "cell_type": "code",
      "execution_count": null,
      "id": "9a71a1ec",
      "metadata": {
        "papermill": {
          "duration": 0.006715,
          "end_time": "2023-03-23T12:39:26.606711",
          "exception": false,
          "start_time": "2023-03-23T12:39:26.599996",
          "status": "completed"
        },
        "tags": [],
        "id": "9a71a1ec"
      },
      "outputs": [],
      "source": []
    },
    {
      "cell_type": "code",
      "execution_count": null,
      "id": "5689dad7",
      "metadata": {
        "execution": {
          "iopub.execute_input": "2023-03-23T12:39:26.623144Z",
          "iopub.status.busy": "2023-03-23T12:39:26.622358Z",
          "iopub.status.idle": "2023-03-23T12:39:26.634615Z",
          "shell.execute_reply": "2023-03-23T12:39:26.633496Z"
        },
        "papermill": {
          "duration": 0.023513,
          "end_time": "2023-03-23T12:39:26.637345",
          "exception": false,
          "start_time": "2023-03-23T12:39:26.613832",
          "status": "completed"
        },
        "tags": [],
        "id": "5689dad7"
      },
      "outputs": [],
      "source": [
        "submission = pd.DataFrame({\n",
        "    \"id\" : range(len(yyy)),\n",
        "    \"label\": yyy\n",
        "})\n",
        "\n",
        "submission.to_csv('sample_submit.csv', index = False)"
      ]
    },
    {
      "cell_type": "code",
      "execution_count": null,
      "id": "f3899631",
      "metadata": {
        "execution": {
          "iopub.execute_input": "2023-03-23T12:39:26.654062Z",
          "iopub.status.busy": "2023-03-23T12:39:26.653303Z",
          "iopub.status.idle": "2023-03-23T12:39:26.665876Z",
          "shell.execute_reply": "2023-03-23T12:39:26.664767Z"
        },
        "papermill": {
          "duration": 0.023922,
          "end_time": "2023-03-23T12:39:26.668475",
          "exception": false,
          "start_time": "2023-03-23T12:39:26.644553",
          "status": "completed"
        },
        "tags": [],
        "id": "f3899631",
        "outputId": "16ce9751-21a4-4b4c-8860-3b5b421c4901"
      },
      "outputs": [
        {
          "data": {
            "text/html": [
              "<div>\n",
              "<style scoped>\n",
              "    .dataframe tbody tr th:only-of-type {\n",
              "        vertical-align: middle;\n",
              "    }\n",
              "\n",
              "    .dataframe tbody tr th {\n",
              "        vertical-align: top;\n",
              "    }\n",
              "\n",
              "    .dataframe thead th {\n",
              "        text-align: right;\n",
              "    }\n",
              "</style>\n",
              "<table border=\"1\" class=\"dataframe\">\n",
              "  <thead>\n",
              "    <tr style=\"text-align: right;\">\n",
              "      <th></th>\n",
              "      <th>id</th>\n",
              "      <th>label</th>\n",
              "    </tr>\n",
              "  </thead>\n",
              "  <tbody>\n",
              "    <tr>\n",
              "      <th>0</th>\n",
              "      <td>0</td>\n",
              "      <td>muskmelon</td>\n",
              "    </tr>\n",
              "    <tr>\n",
              "      <th>1</th>\n",
              "      <td>1</td>\n",
              "      <td>watermelon</td>\n",
              "    </tr>\n",
              "    <tr>\n",
              "      <th>2</th>\n",
              "      <td>2</td>\n",
              "      <td>papaya</td>\n",
              "    </tr>\n",
              "    <tr>\n",
              "      <th>3</th>\n",
              "      <td>3</td>\n",
              "      <td>papaya</td>\n",
              "    </tr>\n",
              "    <tr>\n",
              "      <th>4</th>\n",
              "      <td>4</td>\n",
              "      <td>apple</td>\n",
              "    </tr>\n",
              "    <tr>\n",
              "      <th>...</th>\n",
              "      <td>...</td>\n",
              "      <td>...</td>\n",
              "    </tr>\n",
              "    <tr>\n",
              "      <th>545</th>\n",
              "      <td>545</td>\n",
              "      <td>coffee</td>\n",
              "    </tr>\n",
              "    <tr>\n",
              "      <th>546</th>\n",
              "      <td>546</td>\n",
              "      <td>papaya</td>\n",
              "    </tr>\n",
              "    <tr>\n",
              "      <th>547</th>\n",
              "      <td>547</td>\n",
              "      <td>chickpea</td>\n",
              "    </tr>\n",
              "    <tr>\n",
              "      <th>548</th>\n",
              "      <td>548</td>\n",
              "      <td>coffee</td>\n",
              "    </tr>\n",
              "    <tr>\n",
              "      <th>549</th>\n",
              "      <td>549</td>\n",
              "      <td>jute</td>\n",
              "    </tr>\n",
              "  </tbody>\n",
              "</table>\n",
              "<p>550 rows × 2 columns</p>\n",
              "</div>"
            ],
            "text/plain": [
              "      id       label\n",
              "0      0   muskmelon\n",
              "1      1  watermelon\n",
              "2      2      papaya\n",
              "3      3      papaya\n",
              "4      4       apple\n",
              "..   ...         ...\n",
              "545  545      coffee\n",
              "546  546      papaya\n",
              "547  547    chickpea\n",
              "548  548      coffee\n",
              "549  549        jute\n",
              "\n",
              "[550 rows x 2 columns]"
            ]
          },
          "execution_count": 19,
          "metadata": {},
          "output_type": "execute_result"
        }
      ],
      "source": [
        "submission"
      ]
    },
    {
      "cell_type": "code",
      "execution_count": null,
      "id": "c68d1732",
      "metadata": {
        "papermill": {
          "duration": 0.00719,
          "end_time": "2023-03-23T12:39:26.682938",
          "exception": false,
          "start_time": "2023-03-23T12:39:26.675748",
          "status": "completed"
        },
        "tags": [],
        "id": "c68d1732"
      },
      "outputs": [],
      "source": []
    }
  ],
  "metadata": {
    "kernelspec": {
      "display_name": "Python 3",
      "language": "python",
      "name": "python3"
    },
    "language_info": {
      "codemirror_mode": {
        "name": "ipython",
        "version": 3
      },
      "file_extension": ".py",
      "mimetype": "text/x-python",
      "name": "python",
      "nbconvert_exporter": "python",
      "pygments_lexer": "ipython3",
      "version": "3.7.12"
    },
    "papermill": {
      "default_parameters": {},
      "duration": 12.652837,
      "end_time": "2023-03-23T12:39:27.412821",
      "environment_variables": {},
      "exception": null,
      "input_path": "__notebook__.ipynb",
      "output_path": "__notebook__.ipynb",
      "parameters": {},
      "start_time": "2023-03-23T12:39:14.759984",
      "version": "2.4.0"
    },
    "colab": {
      "provenance": []
    }
  },
  "nbformat": 4,
  "nbformat_minor": 5
}