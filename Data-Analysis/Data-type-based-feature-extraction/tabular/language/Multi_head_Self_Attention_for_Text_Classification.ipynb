{
  "nbformat": 4,
  "nbformat_minor": 0,
  "metadata": {
    "colab": {
      "provenance": []
    },
    "kernelspec": {
      "name": "python3",
      "display_name": "Python 3"
    },
    "language_info": {
      "name": "python"
    }
  },
  "cells": [
    {
      "cell_type": "code",
      "execution_count": null,
      "metadata": {
        "id": "apfQbCX7ATL8"
      },
      "outputs": [],
      "source": [
        "import numpy as np\n",
        "import matplotlib.pyplot as plt\n",
        "import tensorflow as tf"
      ]
    },
    {
      "cell_type": "code",
      "source": [
        "# 1. Multi-Head Attention\n",
        "class MultiHeadAttention(tf.keras.layers.Layer):\n",
        "    def __init__(self, embedding_dim, num_heads=8):\n",
        "\n",
        "    def scaled_dot_product_attention(self, query, key, value):\n",
        "\n",
        "\n",
        "    def split_heads(self, x, batch_size):\n",
        "\n",
        "    def call(self, inputs):"
      ],
      "metadata": {
        "id": "GMMgEE6IAXZo"
      },
      "execution_count": null,
      "outputs": []
    }
  ]
}