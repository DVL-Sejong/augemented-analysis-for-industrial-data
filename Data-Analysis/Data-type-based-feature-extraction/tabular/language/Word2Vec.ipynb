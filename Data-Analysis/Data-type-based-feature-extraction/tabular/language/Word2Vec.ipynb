{
  "nbformat": 4,
  "nbformat_minor": 0,
  "metadata": {
    "colab": {
      "provenance": []
    },
    "kernelspec": {
      "name": "python3",
      "display_name": "Python 3"
    },
    "language_info": {
      "name": "python"
    }
  },
  "cells": [
    {
      "cell_type": "markdown",
      "source": [
        "https://wikidocs.net/50739"
      ],
      "metadata": {
        "id": "9IQHhAKDYkfD"
      }
    },
    {
      "cell_type": "code",
      "execution_count": null,
      "metadata": {
        "id": "OuqVSA5YYjSY"
      },
      "outputs": [],
      "source": []
    }
  ]
}