{
 "cells": [
  {
   "cell_type": "code",
   "execution_count": 2,
   "metadata": {},
   "outputs": [],
   "source": [
    "import numpy as np\n",
    "import pandas as pd\n",
    "import os, random\n",
    "from tqdm import tqdm # 진행도 시각화를 위한 라이브러리\n",
    "\n",
    "seed=42\n",
    "os.environ['PYTHONHASHSEED'] = str(seed)\n",
    "random.seed(seed)\n",
    "np.random.seed(seed)"
   ]
  },
  {
   "attachments": {},
   "cell_type": "markdown",
   "metadata": {},
   "source": [
    "## 데이터 불러오기"
   ]
  },
  {
   "cell_type": "code",
   "execution_count": 3,
   "metadata": {},
   "outputs": [
    {
     "name": "stdout",
     "output_type": "stream",
     "text": [
      "(149993, 2)\n",
      "(49999, 1)\n"
     ]
    }
   ],
   "source": [
    "train_data = pd.read_csv(\"nsmc_train.csv\", index_col=0)\n",
    "test_data = pd.read_csv(\"nsmc_test.csv\", index_col=0)\n",
    "print(train_data.shape)\n",
    "print(test_data.shape)"
   ]
  },
  {
   "cell_type": "code",
   "execution_count": 4,
   "metadata": {},
   "outputs": [
    {
     "data": {
      "text/html": [
       "<div>\n",
       "<style scoped>\n",
       "    .dataframe tbody tr th:only-of-type {\n",
       "        vertical-align: middle;\n",
       "    }\n",
       "\n",
       "    .dataframe tbody tr th {\n",
       "        vertical-align: top;\n",
       "    }\n",
       "\n",
       "    .dataframe thead th {\n",
       "        text-align: right;\n",
       "    }\n",
       "</style>\n",
       "<table border=\"1\" class=\"dataframe\">\n",
       "  <thead>\n",
       "    <tr style=\"text-align: right;\">\n",
       "      <th></th>\n",
       "      <th>review</th>\n",
       "      <th>rating</th>\n",
       "    </tr>\n",
       "    <tr>\n",
       "      <th>id</th>\n",
       "      <th></th>\n",
       "      <th></th>\n",
       "    </tr>\n",
       "  </thead>\n",
       "  <tbody>\n",
       "    <tr>\n",
       "      <th>9324809</th>\n",
       "      <td>배우들의 인생연기가 돋보였던... 최고의 드라마</td>\n",
       "      <td>1</td>\n",
       "    </tr>\n",
       "    <tr>\n",
       "      <th>9305425</th>\n",
       "      <td>아 혜리 보고싶다 ... 여군좀 ㅠ</td>\n",
       "      <td>0</td>\n",
       "    </tr>\n",
       "    <tr>\n",
       "      <th>5239110</th>\n",
       "      <td>눈이 팅팅..... 정말 ,..... 대박이다......</td>\n",
       "      <td>1</td>\n",
       "    </tr>\n",
       "    <tr>\n",
       "      <th>9148159</th>\n",
       "      <td>캐슬린 터너의 보디는 볼만했다</td>\n",
       "      <td>0</td>\n",
       "    </tr>\n",
       "    <tr>\n",
       "      <th>6144938</th>\n",
       "      <td>진짜 최고였다.</td>\n",
       "      <td>1</td>\n",
       "    </tr>\n",
       "  </tbody>\n",
       "</table>\n",
       "</div>"
      ],
      "text/plain": [
       "                                  review  rating\n",
       "id                                              \n",
       "9324809       배우들의 인생연기가 돋보였던... 최고의 드라마       1\n",
       "9305425              아 혜리 보고싶다 ... 여군좀 ㅠ       0\n",
       "5239110  눈이 팅팅..... 정말 ,..... 대박이다......       1\n",
       "9148159                 캐슬린 터너의 보디는 볼만했다       0\n",
       "6144938                         진짜 최고였다.       1"
      ]
     },
     "execution_count": 4,
     "metadata": {},
     "output_type": "execute_result"
    }
   ],
   "source": [
    "train_data.head()"
   ]
  },
  {
   "cell_type": "code",
   "execution_count": 5,
   "metadata": {},
   "outputs": [],
   "source": [
    "x_train = train_data[\"review\"]\n",
    "y_train = np.array(train_data[\"rating\"])"
   ]
  },
  {
   "attachments": {},
   "cell_type": "markdown",
   "metadata": {},
   "source": [
    "## 전처리\n"
   ]
  },
  {
   "attachments": {},
   "cell_type": "markdown",
   "metadata": {},
   "source": [
    "- 불용어 제거"
   ]
  },
  {
   "cell_type": "code",
   "execution_count": 6,
   "metadata": {},
   "outputs": [
    {
     "name": "stderr",
     "output_type": "stream",
     "text": [
      "C:\\Users\\VISLAB-seongwon\\AppData\\Local\\Temp\\ipykernel_17780\\3170241328.py:10: FutureWarning: iteritems is deprecated and will be removed in a future version. Use .items instead.\n",
      "  x_train_preprocessed = [apply_regex(pattern, str(x[1])) for x in tqdm(x_train.iteritems(), total=len(x_train), desc=\"pre-processing data\")]\n"
     ]
    },
    {
     "name": "stderr",
     "output_type": "stream",
     "text": [
      "pre-processing data: 100%|██████████| 149993/149993 [00:00<00:00, 387584.70it/s]\n"
     ]
    }
   ],
   "source": [
    "import re\n",
    "\n",
    "pattern = r\"[^\\uAC00-\\uD7A3a-zA-Z\\s]\"\n",
    "\n",
    "def apply_regex(pattern, text):  # 정규표현식을 이용한 필터링 적용\n",
    "    text = re.sub(pattern, \"\", text)  # 정규표현식 패턴에 맞는 값들을 텍스트에서 제거\n",
    "    text = text.upper() # 영어들을 찾아 대문자로 치환하는 코드 작성\n",
    "    return text\n",
    "\n",
    "x_train_preprocessed = [apply_regex(pattern, str(x[1])) for x in tqdm(x_train.iteritems(), total=len(x_train), desc=\"pre-processing data\")]"
   ]
  },
  {
   "attachments": {},
   "cell_type": "markdown",
   "metadata": {},
   "source": [
    "- 토큰화"
   ]
  },
  {
   "cell_type": "code",
   "execution_count": 7,
   "metadata": {},
   "outputs": [],
   "source": [
    "from konlpy.tag import Okt\n",
    "okt = Okt()\n",
    "\n",
    "def tokenize_words(sentence):\n",
    "    #sentence_n = okt.normalize(sentence)\n",
    "    sentence_tokenized = okt.morphs(sentence, stem=True)\n",
    "    #sentence_tokenized = okt.morphs(sentence_n, norm=True, stem=True)\n",
    "    return sentence_tokenized"
   ]
  },
  {
   "cell_type": "code",
   "execution_count": 8,
   "metadata": {},
   "outputs": [
    {
     "name": "stderr",
     "output_type": "stream",
     "text": [
      "tokenizing data: 100%|██████████| 149993/149993 [03:38<00:00, 686.75it/s]\n"
     ]
    }
   ],
   "source": [
    "# 약 10-15분 정도 소요됩니다. \n",
    "x_train_tokenized = [tokenize_words(x) for x in tqdm(x_train_preprocessed, desc=\"tokenizing data\")]"
   ]
  },
  {
   "attachments": {},
   "cell_type": "markdown",
   "metadata": {},
   "source": [
    "- 불용어 제거"
   ]
  },
  {
   "cell_type": "code",
   "execution_count": 9,
   "metadata": {},
   "outputs": [],
   "source": [
    "stopwords = ['의','가','이','은','들','는','좀','잘','걍','과','도','를','으로','자','에','와','한','하다']  #별다른 의미가 없는 불용어들\n",
    "\n",
    "def exclude_stopwords(text):\n",
    "    # 위 리스트에 포함된 불용어들을 제거하는 코드 작성\n",
    "    text_n = [word for word in text if word not in stopwords]\n",
    "    return text_n\n",
    "\n",
    "x_train_stopwords_excluded = [exclude_stopwords(x) for x in x_train_tokenized]"
   ]
  },
  {
   "cell_type": "code",
   "execution_count": 10,
   "metadata": {},
   "outputs": [
    {
     "data": {
      "text/plain": [
       "149993"
      ]
     },
     "execution_count": 10,
     "metadata": {},
     "output_type": "execute_result"
    }
   ],
   "source": [
    "len(x_train_stopwords_excluded)"
   ]
  },
  {
   "attachments": {},
   "cell_type": "markdown",
   "metadata": {},
   "source": [
    "- 단어 임베딩"
   ]
  },
  {
   "cell_type": "code",
   "execution_count": 11,
   "metadata": {},
   "outputs": [],
   "source": [
    "embedding_dict = dict()  # 단어 임베딩을 위한 딕셔너리 \n",
    "embedding_value = 0\n",
    "\n",
    "def embed_tokens(sentence_tokenized, mode):\n",
    "    assert mode.upper() in [\"TRAIN\", \"TEST\"]\n",
    "    global embedding_value\n",
    "    \n",
    "    sentence_embedded = list()\n",
    "    for word in sentence_tokenized:\n",
    "        # 코드 작성\n",
    "        if word in sentence_tokenized:\n",
    "            if word not in embedding_dict:\n",
    "                embedding_dict[word] = embedding_value\n",
    "                embedding_value += 1\n",
    "        sentence_embedded.append(embedding_dict[word])\n",
    "    \n",
    "    return sentence_embedded"
   ]
  },
  {
   "cell_type": "code",
   "execution_count": 12,
   "metadata": {},
   "outputs": [
    {
     "name": "stderr",
     "output_type": "stream",
     "text": [
      "embedding data: 100%|██████████| 149993/149993 [00:01<00:00, 107161.08it/s]"
     ]
    },
    {
     "name": "stdout",
     "output_type": "stream",
     "text": [
      "[[0, 1, 2, 3, 4, 5], [6, 7, 8, 9], [10, 11, 12, 13, 14], [15, 16, 17, 18, 19, 20], [21, 4, 14]]\n",
      "총 45361개의 단어가 임베딩되었습니다.\n"
     ]
    },
    {
     "name": "stderr",
     "output_type": "stream",
     "text": [
      "\n"
     ]
    }
   ],
   "source": [
    "x_train_embedded = [embed_tokens(x, mode=\"TRAIN\") for x in tqdm(x_train_stopwords_excluded, desc=\"embedding data\")]\n",
    "print(x_train_embedded[:5])\n",
    "print(\"총 %d개의 단어가 임베딩되었습니다.\"%(embedding_value))"
   ]
  },
  {
   "attachments": {},
   "cell_type": "markdown",
   "metadata": {},
   "source": [
    "- 문장 벡터화"
   ]
  },
  {
   "cell_type": "code",
   "execution_count": 13,
   "metadata": {},
   "outputs": [
    {
     "name": "stderr",
     "output_type": "stream",
     "text": [
      "making BoW representation: 100%|██████████| 149993/149993 [00:01<00:00, 135120.83it/s]\n"
     ]
    }
   ],
   "source": [
    "#########################################################################################\n",
    "# Empty Module #5\n",
    "# 입력: 임베딩 과정을 거친 데이터\n",
    "# 출력: BoW 형태로 변환되어, M차원의 고정된 크기를 가진 벡터로 변환된 데이터\n",
    "# 힌트: np.zeros((2, 3))는 [2, 3] 크기의 0으로 가득 찬 행렬을 생성합니다.\n",
    "##########################################################################################\n",
    "M = embedding_value # 전체 단어의 수\n",
    "\n",
    "def to_BoW_representation(x):\n",
    "    shape = (len(x), M) # BoW는 어떤 shape를 가져야 할까요?\n",
    "    x_BoW = np.zeros(shape)\n",
    "    for i in tqdm(range(len(x)), desc=\"making BoW representation\"):\n",
    "        # 여기에 BoW 구현\n",
    "        for word_index in x[i]:\n",
    "            x_BoW[i][word_index] += 1\n",
    "    return x_BoW\n",
    "\n",
    "x_train_BoW = to_BoW_representation(x_train_embedded)"
   ]
  },
  {
   "attachments": {},
   "cell_type": "markdown",
   "metadata": {},
   "source": [
    "- 차원축소"
   ]
  },
  {
   "cell_type": "code",
   "execution_count": 14,
   "metadata": {},
   "outputs": [
    {
     "name": "stdout",
     "output_type": "stream",
     "text": [
      "원본 BoW 크기: (149993, 45361)\n",
      "차원 축소 후 크기: (149993, 3127)\n"
     ]
    }
   ],
   "source": [
    "# 여기에 코드 작성\n",
    "def reduce_dimension(words):\n",
    "    words_cnt = np.sum(words, axis=0) # 각 단어의 등장 횟수\n",
    "    selected_words = np.where(words_cnt >= 50)[0]\n",
    "    remain = words[:, selected_words]\n",
    "    return remain, selected_words\n",
    "\n",
    "x_train_BoW_reduced, indices = reduce_dimension(x_train_BoW)\n",
    "\n",
    "print(\"원본 BoW 크기:\", x_train_BoW.shape)\n",
    "print(\"차원 축소 후 크기:\", x_train_BoW_reduced.shape)"
   ]
  },
  {
   "attachments": {},
   "cell_type": "markdown",
   "metadata": {},
   "source": [
    "- 분류"
   ]
  },
  {
   "cell_type": "code",
   "execution_count": 15,
   "metadata": {},
   "outputs": [
    {
     "name": "stderr",
     "output_type": "stream",
     "text": [
      "C:\\Users\\VISLAB-seongwon\\AppData\\Local\\Temp\\ipykernel_17780\\2619114077.py:3: FutureWarning: iteritems is deprecated and will be removed in a future version. Use .items instead.\n",
      "  x_test_preprocessed = [apply_regex(pattern, str(x[1])) for x in tqdm(x_test.iteritems(), total=len(x_test), desc=\"pre-processing data\")]\n",
      "pre-processing data: 100%|██████████| 49999/49999 [00:00<00:00, 379698.01it/s]\n",
      "tokenizing data: 100%|██████████| 49999/49999 [01:47<00:00, 465.17it/s]\n",
      "embedding data: 100%|██████████| 49999/49999 [00:00<00:00, 234306.12it/s]\n",
      "making BoW representation: 100%|██████████| 49999/49999 [00:00<00:00, 136229.94it/s]\n"
     ]
    }
   ],
   "source": [
    "# TEST 데이터를 전처리\n",
    "x_test = test_data[\"review\"]\n",
    "x_test_preprocessed = [apply_regex(pattern, str(x[1])) for x in tqdm(x_test.iteritems(), total=len(x_test), desc=\"pre-processing data\")]\n",
    "x_test_tokenized = [tokenize_words(x) for x in tqdm(x_test_preprocessed, desc=\"tokenizing data\")]\n",
    "x_test_stopwords_excluded = [exclude_stopwords(x) for x in x_test_tokenized]\n",
    "x_test_embedded = [embed_tokens(x, mode=\"TEST\") for x in tqdm(x_test_stopwords_excluded, desc=\"embedding data\")]\n",
    "M = embedding_value\n",
    "x_test_BoW = to_BoW_representation(x_test_embedded)\n",
    "x_test_BoW_reduced = x_test_BoW[:, indices]"
   ]
  },
  {
   "cell_type": "code",
   "execution_count": 16,
   "metadata": {},
   "outputs": [
    {
     "data": {
      "text/html": [
       "<style>#sk-container-id-1 {color: black;background-color: white;}#sk-container-id-1 pre{padding: 0;}#sk-container-id-1 div.sk-toggleable {background-color: white;}#sk-container-id-1 label.sk-toggleable__label {cursor: pointer;display: block;width: 100%;margin-bottom: 0;padding: 0.3em;box-sizing: border-box;text-align: center;}#sk-container-id-1 label.sk-toggleable__label-arrow:before {content: \"▸\";float: left;margin-right: 0.25em;color: #696969;}#sk-container-id-1 label.sk-toggleable__label-arrow:hover:before {color: black;}#sk-container-id-1 div.sk-estimator:hover label.sk-toggleable__label-arrow:before {color: black;}#sk-container-id-1 div.sk-toggleable__content {max-height: 0;max-width: 0;overflow: hidden;text-align: left;background-color: #f0f8ff;}#sk-container-id-1 div.sk-toggleable__content pre {margin: 0.2em;color: black;border-radius: 0.25em;background-color: #f0f8ff;}#sk-container-id-1 input.sk-toggleable__control:checked~div.sk-toggleable__content {max-height: 200px;max-width: 100%;overflow: auto;}#sk-container-id-1 input.sk-toggleable__control:checked~label.sk-toggleable__label-arrow:before {content: \"▾\";}#sk-container-id-1 div.sk-estimator input.sk-toggleable__control:checked~label.sk-toggleable__label {background-color: #d4ebff;}#sk-container-id-1 div.sk-label input.sk-toggleable__control:checked~label.sk-toggleable__label {background-color: #d4ebff;}#sk-container-id-1 input.sk-hidden--visually {border: 0;clip: rect(1px 1px 1px 1px);clip: rect(1px, 1px, 1px, 1px);height: 1px;margin: -1px;overflow: hidden;padding: 0;position: absolute;width: 1px;}#sk-container-id-1 div.sk-estimator {font-family: monospace;background-color: #f0f8ff;border: 1px dotted black;border-radius: 0.25em;box-sizing: border-box;margin-bottom: 0.5em;}#sk-container-id-1 div.sk-estimator:hover {background-color: #d4ebff;}#sk-container-id-1 div.sk-parallel-item::after {content: \"\";width: 100%;border-bottom: 1px solid gray;flex-grow: 1;}#sk-container-id-1 div.sk-label:hover label.sk-toggleable__label {background-color: #d4ebff;}#sk-container-id-1 div.sk-serial::before {content: \"\";position: absolute;border-left: 1px solid gray;box-sizing: border-box;top: 0;bottom: 0;left: 50%;z-index: 0;}#sk-container-id-1 div.sk-serial {display: flex;flex-direction: column;align-items: center;background-color: white;padding-right: 0.2em;padding-left: 0.2em;position: relative;}#sk-container-id-1 div.sk-item {position: relative;z-index: 1;}#sk-container-id-1 div.sk-parallel {display: flex;align-items: stretch;justify-content: center;background-color: white;position: relative;}#sk-container-id-1 div.sk-item::before, #sk-container-id-1 div.sk-parallel-item::before {content: \"\";position: absolute;border-left: 1px solid gray;box-sizing: border-box;top: 0;bottom: 0;left: 50%;z-index: -1;}#sk-container-id-1 div.sk-parallel-item {display: flex;flex-direction: column;z-index: 1;position: relative;background-color: white;}#sk-container-id-1 div.sk-parallel-item:first-child::after {align-self: flex-end;width: 50%;}#sk-container-id-1 div.sk-parallel-item:last-child::after {align-self: flex-start;width: 50%;}#sk-container-id-1 div.sk-parallel-item:only-child::after {width: 0;}#sk-container-id-1 div.sk-dashed-wrapped {border: 1px dashed gray;margin: 0 0.4em 0.5em 0.4em;box-sizing: border-box;padding-bottom: 0.4em;background-color: white;}#sk-container-id-1 div.sk-label label {font-family: monospace;font-weight: bold;display: inline-block;line-height: 1.2em;}#sk-container-id-1 div.sk-label-container {text-align: center;}#sk-container-id-1 div.sk-container {/* jupyter's `normalize.less` sets `[hidden] { display: none; }` but bootstrap.min.css set `[hidden] { display: none !important; }` so we also need the `!important` here to be able to override the default hidden behavior on the sphinx rendered scikit-learn.org. See: https://github.com/scikit-learn/scikit-learn/issues/21755 */display: inline-block !important;position: relative;}#sk-container-id-1 div.sk-text-repr-fallback {display: none;}</style><div id=\"sk-container-id-1\" class=\"sk-top-container\"><div class=\"sk-text-repr-fallback\"><pre>LGBMClassifier(n_estimators=3000)</pre><b>In a Jupyter environment, please rerun this cell to show the HTML representation or trust the notebook. <br />On GitHub, the HTML representation is unable to render, please try loading this page with nbviewer.org.</b></div><div class=\"sk-container\" hidden><div class=\"sk-item\"><div class=\"sk-estimator sk-toggleable\"><input class=\"sk-toggleable__control sk-hidden--visually\" id=\"sk-estimator-id-1\" type=\"checkbox\" checked><label for=\"sk-estimator-id-1\" class=\"sk-toggleable__label sk-toggleable__label-arrow\">LGBMClassifier</label><div class=\"sk-toggleable__content\"><pre>LGBMClassifier(n_estimators=3000)</pre></div></div></div></div></div>"
      ],
      "text/plain": [
       "LGBMClassifier(n_estimators=3000)"
      ]
     },
     "execution_count": 16,
     "metadata": {},
     "output_type": "execute_result"
    }
   ],
   "source": [
    "# TEST 데이터에 대한 예측 수행 코드 작성\n",
    "from lightgbm import LGBMClassifier\n",
    "clf = LGBMClassifier(n_estimators=3000)\n",
    "\n",
    "clf.fit(x_train_BoW_reduced, y_train)"
   ]
  },
  {
   "cell_type": "code",
   "execution_count": 19,
   "metadata": {},
   "outputs": [],
   "source": [
    "pred = clf.predict(x_test_BoW_reduced)\n",
    "\n",
    "#print(sum(pred == y_train) / len(y_train))\n",
    "\n",
    "submit = pd.read_csv(\"sample_submission.csv\", index_col=0)\n",
    "# TEST 데이터에 대한 예측 값을 csv로 저장하는 코드 작성\n",
    "submit['rating'] = pred\n",
    "submit.to_csv(\"submit.csv\")"
   ]
  },
  {
   "attachments": {},
   "cell_type": "markdown",
   "metadata": {},
   "source": [
    "- TF-IDF 적용"
   ]
  },
  {
   "cell_type": "code",
   "execution_count": 20,
   "metadata": {},
   "outputs": [],
   "source": [
    "N = len(x_train_BoW)  # 총 데이터 샘플의 수\n",
    "\n",
    "def calculate_document_frequency(x):\n",
    "    # 어떤 단어가 등장하는 데이터 샘플(문서)의 수(DF)를 계산하는 코드 작성\n",
    "    document_frequency = np.count_nonzero(x, axis=0)\n",
    "    return document_frequency\n",
    "\n",
    "def calculate_inverse_document_frequency(document_frequency):\n",
    "    # DF에 반비례하는 IDF를 계산하는 코드 작성\n",
    "    inverse_document_frequency = np.log(N / (document_frequency + 1))\n",
    "    return inverse_document_frequency\n",
    "\n",
    "document_frequency = calculate_document_frequency(x_train_BoW_reduced)# 여기에 코드 작성\n",
    "inverse_document_frequency = calculate_inverse_document_frequency(document_frequency)# 여기에 코드 작성"
   ]
  },
  {
   "cell_type": "code",
   "execution_count": 21,
   "metadata": {},
   "outputs": [],
   "source": [
    "x_train_BoW_tfidf = x_train_BoW_reduced * inverse_document_frequency # 데이터에 위에서 구한 IDF를 곱하는 코드 작성"
   ]
  },
  {
   "cell_type": "code",
   "execution_count": null,
   "metadata": {},
   "outputs": [],
   "source": []
  }
 ],
 "metadata": {
  "kernelspec": {
   "display_name": "2023spring",
   "language": "python",
   "name": "python3"
  },
  "language_info": {
   "codemirror_mode": {
    "name": "ipython",
    "version": 3
   },
   "file_extension": ".py",
   "mimetype": "text/x-python",
   "name": "python",
   "nbconvert_exporter": "python",
   "pygments_lexer": "ipython3",
   "version": "3.8.16"
  },
  "orig_nbformat": 4
 },
 "nbformat": 4,
 "nbformat_minor": 2
}
