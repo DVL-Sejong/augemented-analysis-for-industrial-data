{
 "cells": [
  {
   "cell_type": "code",
   "execution_count": 2,
   "metadata": {},
   "outputs": [],
   "source": [
    "import numpy as np\n",
    "import pandas as pd\n",
    "import os, random\n",
    "from tqdm import tqdm # 진행도 시각화를 위한 라이브러리\n",
    "\n",
    "seed=42\n",
    "os.environ['PYTHONHASHSEED'] = str(seed)\n",
    "random.seed(seed)\n",
    "np.random.seed(seed)"
   ]
  },
  {
   "attachments": {},
   "cell_type": "markdown",
   "metadata": {},
   "source": [
    "## 데이터 불러오기"
   ]
  },
  {
   "cell_type": "code",
   "execution_count": 3,
   "metadata": {},
   "outputs": [
    {
     "name": "stdout",
     "output_type": "stream",
     "text": [
      "(149993, 2)\n",
      "(49999, 1)\n"
     ]
    }
   ],
   "source": [
    "train_data = pd.read_csv(\"nsmc_train.csv\", index_col=0)\n",
    "test_data = pd.read_csv(\"nsmc_test.csv\", index_col=0)\n",
    "print(train_data.shape)\n",
    "print(test_data.shape)"
   ]
  },
  {
   "cell_type": "code",
   "execution_count": 4,
   "metadata": {},
   "outputs": [
    {
     "data": {
      "text/html": [
       "<div>\n",
       "<style scoped>\n",
       "    .dataframe tbody tr th:only-of-type {\n",
       "        vertical-align: middle;\n",
       "    }\n",
       "\n",
       "    .dataframe tbody tr th {\n",
       "        vertical-align: top;\n",
       "    }\n",
       "\n",
       "    .dataframe thead th {\n",
       "        text-align: right;\n",
       "    }\n",
       "</style>\n",
       "<table border=\"1\" class=\"dataframe\">\n",
       "  <thead>\n",
       "    <tr style=\"text-align: right;\">\n",
       "      <th></th>\n",
       "      <th>review</th>\n",
       "      <th>rating</th>\n",
       "    </tr>\n",
       "    <tr>\n",
       "      <th>id</th>\n",
       "      <th></th>\n",
       "      <th></th>\n",
       "    </tr>\n",
       "  </thead>\n",
       "  <tbody>\n",
       "    <tr>\n",
       "      <th>9324809</th>\n",
       "      <td>배우들의 인생연기가 돋보였던... 최고의 드라마</td>\n",
       "      <td>1</td>\n",
       "    </tr>\n",
       "    <tr>\n",
       "      <th>9305425</th>\n",
       "      <td>아 혜리 보고싶다 ... 여군좀 ㅠ</td>\n",
       "      <td>0</td>\n",
       "    </tr>\n",
       "    <tr>\n",
       "      <th>5239110</th>\n",
       "      <td>눈이 팅팅..... 정말 ,..... 대박이다......</td>\n",
       "      <td>1</td>\n",
       "    </tr>\n",
       "    <tr>\n",
       "      <th>9148159</th>\n",
       "      <td>캐슬린 터너의 보디는 볼만했다</td>\n",
       "      <td>0</td>\n",
       "    </tr>\n",
       "    <tr>\n",
       "      <th>6144938</th>\n",
       "      <td>진짜 최고였다.</td>\n",
       "      <td>1</td>\n",
       "    </tr>\n",
       "  </tbody>\n",
       "</table>\n",
       "</div>"
      ],
      "text/plain": [
       "                                  review  rating\n",
       "id                                              \n",
       "9324809       배우들의 인생연기가 돋보였던... 최고의 드라마       1\n",
       "9305425              아 혜리 보고싶다 ... 여군좀 ㅠ       0\n",
       "5239110  눈이 팅팅..... 정말 ,..... 대박이다......       1\n",
       "9148159                 캐슬린 터너의 보디는 볼만했다       0\n",
       "6144938                         진짜 최고였다.       1"
      ]
     },
     "execution_count": 4,
     "metadata": {},
     "output_type": "execute_result"
    }
   ],
   "source": [
    "train_data.head()"
   ]
  },
  {
   "cell_type": "code",
   "execution_count": 5,
   "metadata": {},
   "outputs": [],
   "source": [
    "x_train = train_data[\"review\"]\n",
    "y_train = np.array(train_data[\"rating\"])"
   ]
  },
  {
   "attachments": {},
   "cell_type": "markdown",
   "metadata": {},
   "source": [
    "## 전처리\n"
   ]
  },
  {
   "attachments": {},
   "cell_type": "markdown",
   "metadata": {},
   "source": [
    "- 불용어 제거"
   ]
  },
  {
   "cell_type": "code",
   "execution_count": 6,
   "metadata": {},
   "outputs": [
    {
     "name": "stderr",
     "output_type": "stream",
     "text": [
      "C:\\Users\\VISLAB-seongwon\\AppData\\Local\\Temp\\ipykernel_22616\\3170241328.py:10: FutureWarning: iteritems is deprecated and will be removed in a future version. Use .items instead.\n",
      "  x_train_preprocessed = [apply_regex(pattern, str(x[1])) for x in tqdm(x_train.iteritems(), total=len(x_train), desc=\"pre-processing data\")]\n",
      "pre-processing data: 100%|██████████| 149993/149993 [00:00<00:00, 390804.22it/s]\n"
     ]
    }
   ],
   "source": [
    "import re\n",
    "\n",
    "pattern = r\"[^\\uAC00-\\uD7A3a-zA-Z\\s]\"\n",
    "\n",
    "def apply_regex(pattern, text):  # 정규표현식을 이용한 필터링 적용\n",
    "    text = re.sub(pattern, \"\", text)  # 정규표현식 패턴에 맞는 값들을 텍스트에서 제거\n",
    "    text = text.upper() # 영어들을 찾아 대문자로 치환하는 코드 작성\n",
    "    return text\n",
    "\n",
    "x_train_preprocessed = [apply_regex(pattern, str(x[1])) for x in tqdm(x_train.iteritems(), total=len(x_train), desc=\"pre-processing data\")]"
   ]
  },
  {
   "attachments": {},
   "cell_type": "markdown",
   "metadata": {},
   "source": [
    "- 토큰화"
   ]
  },
  {
   "cell_type": "code",
   "execution_count": 7,
   "metadata": {},
   "outputs": [],
   "source": [
    "from konlpy.tag import Okt\n",
    "okt = Okt()\n",
    "\n",
    "def tokenize_words(sentence):\n",
    "    sentence_n = okt.normalize(sentence)\n",
    "    sentence_tokenized = okt.morphs(sentence_n, stem=True)\n",
    "    #sentence_tokenized = okt.morphs(sentence_n, norm=True, stem=True)\n",
    "    return sentence_tokenized"
   ]
  },
  {
   "cell_type": "code",
   "execution_count": 8,
   "metadata": {},
   "outputs": [
    {
     "name": "stderr",
     "output_type": "stream",
     "text": [
      "tokenizing data:  16%|█▋        | 24606/149993 [01:00<04:42, 443.92it/s]"
     ]
    }
   ],
   "source": [
    "# 약 10-15분 정도 소요됩니다. \n",
    "x_train_tokenized = [tokenize_words(x) for x in tqdm(x_train_preprocessed, desc=\"tokenizing data\")]"
   ]
  },
  {
   "attachments": {},
   "cell_type": "markdown",
   "metadata": {},
   "source": [
    "- 불용어 제거"
   ]
  },
  {
   "cell_type": "code",
   "execution_count": null,
   "metadata": {},
   "outputs": [],
   "source": [
    "stopwords = ['의','가','이','은','들','는','좀','잘','걍','과','도','를','으로','자','에','와','한','하다']  #별다른 의미가 없는 불용어들\n",
    "\n",
    "def exclude_stopwords(text):\n",
    "    # 위 리스트에 포함된 불용어들을 제거하는 코드 작성\n",
    "    text_n = [word for word in text if word not in stopwords]\n",
    "    return text_n\n",
    "\n",
    "x_train_stopwords_excluded = [exclude_stopwords(x) for x in x_train_tokenized]"
   ]
  },
  {
   "cell_type": "code",
   "execution_count": null,
   "metadata": {},
   "outputs": [],
   "source": [
    "len(x_train_stopwords_excluded)"
   ]
  }
 ],
 "metadata": {
  "kernelspec": {
   "display_name": "2023spring",
   "language": "python",
   "name": "python3"
  },
  "language_info": {
   "codemirror_mode": {
    "name": "ipython",
    "version": 3
   },
   "file_extension": ".py",
   "mimetype": "text/x-python",
   "name": "python",
   "nbconvert_exporter": "python",
   "pygments_lexer": "ipython3",
   "version": "3.8.16"
  },
  "orig_nbformat": 4
 },
 "nbformat": 4,
 "nbformat_minor": 2
}
