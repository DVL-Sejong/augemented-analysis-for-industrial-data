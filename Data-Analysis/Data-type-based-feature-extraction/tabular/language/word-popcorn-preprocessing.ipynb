{
 "cells": [
  {
   "cell_type": "code",
   "execution_count": null,
   "metadata": {},
   "outputs": [],
   "source": [
    "C:\\Users\\VISLAB-seongwon\\workspace\\2023-NLP\\word2vec-nlp-tutorial"
   ]
  },
  {
   "cell_type": "code",
   "execution_count": 1,
   "metadata": {},
   "outputs": [],
   "source": [
    "DATA_IN_PATH = './word2vec-nlp-tutorial/'"
   ]
  },
  {
   "cell_type": "code",
   "execution_count": 2,
   "metadata": {},
   "outputs": [],
   "source": [
    "import numpy as np\n",
    "import pandas as pd\n",
    "import os\n",
    "import matplotlib.pyplot as plt\n",
    "import seaborn as sns\n",
    "%matplotlib inline"
   ]
  },
  {
   "cell_type": "code",
   "execution_count": 3,
   "metadata": {},
   "outputs": [
    {
     "name": "stdout",
     "output_type": "stream",
     "text": [
      "file size : \n",
      "labeledTrainData.tsv          33.56MB\n",
      "labeledTrainData.tsv.zip      13.59MB\n",
      "testData.tsv                  32.72MB\n",
      "testData.tsv.zip              13.26MB\n",
      "unlabeledTrainData.tsv        67.28MB\n",
      "unlabeledTrainData.tsv.zip    27.24MB\n"
     ]
    }
   ],
   "source": [
    "print(\"file size : \")\n",
    "for file in os.listdir(DATA_IN_PATH):\n",
    "    #if 'tsv' in file and 'zip' not in file:\n",
    "    if 'tsv' in file:\n",
    "        print(file.ljust(30) + str(round(os.path.getsize(DATA_IN_PATH + file) / 1000000, 2)) + 'MB')"
   ]
  },
  {
   "cell_type": "code",
   "execution_count": 4,
   "metadata": {},
   "outputs": [
    {
     "data": {
      "text/html": [
       "<div>\n",
       "<style scoped>\n",
       "    .dataframe tbody tr th:only-of-type {\n",
       "        vertical-align: middle;\n",
       "    }\n",
       "\n",
       "    .dataframe tbody tr th {\n",
       "        vertical-align: top;\n",
       "    }\n",
       "\n",
       "    .dataframe thead th {\n",
       "        text-align: right;\n",
       "    }\n",
       "</style>\n",
       "<table border=\"1\" class=\"dataframe\">\n",
       "  <thead>\n",
       "    <tr style=\"text-align: right;\">\n",
       "      <th></th>\n",
       "      <th>id</th>\n",
       "      <th>sentiment</th>\n",
       "      <th>review</th>\n",
       "    </tr>\n",
       "  </thead>\n",
       "  <tbody>\n",
       "    <tr>\n",
       "      <th>0</th>\n",
       "      <td>\"5814_8\"</td>\n",
       "      <td>1</td>\n",
       "      <td>\"With all this stuff going down at the moment ...</td>\n",
       "    </tr>\n",
       "    <tr>\n",
       "      <th>1</th>\n",
       "      <td>\"2381_9\"</td>\n",
       "      <td>1</td>\n",
       "      <td>\"\\\"The Classic War of the Worlds\\\" by Timothy ...</td>\n",
       "    </tr>\n",
       "    <tr>\n",
       "      <th>2</th>\n",
       "      <td>\"7759_3\"</td>\n",
       "      <td>0</td>\n",
       "      <td>\"The film starts with a manager (Nicholas Bell...</td>\n",
       "    </tr>\n",
       "    <tr>\n",
       "      <th>3</th>\n",
       "      <td>\"3630_4\"</td>\n",
       "      <td>0</td>\n",
       "      <td>\"It must be assumed that those who praised thi...</td>\n",
       "    </tr>\n",
       "    <tr>\n",
       "      <th>4</th>\n",
       "      <td>\"9495_8\"</td>\n",
       "      <td>1</td>\n",
       "      <td>\"Superbly trashy and wondrously unpretentious ...</td>\n",
       "    </tr>\n",
       "  </tbody>\n",
       "</table>\n",
       "</div>"
      ],
      "text/plain": [
       "         id  sentiment                                             review\n",
       "0  \"5814_8\"          1  \"With all this stuff going down at the moment ...\n",
       "1  \"2381_9\"          1  \"\\\"The Classic War of the Worlds\\\" by Timothy ...\n",
       "2  \"7759_3\"          0  \"The film starts with a manager (Nicholas Bell...\n",
       "3  \"3630_4\"          0  \"It must be assumed that those who praised thi...\n",
       "4  \"9495_8\"          1  \"Superbly trashy and wondrously unpretentious ..."
      ]
     },
     "execution_count": 4,
     "metadata": {},
     "output_type": "execute_result"
    }
   ],
   "source": [
    "train_data = pd.read_csv(DATA_IN_PATH + 'labeledTrainData.tsv.zip', header = 0, delimiter = '\\t', quoting = 3)\n",
    "train_data.head()"
   ]
  },
  {
   "cell_type": "code",
   "execution_count": 5,
   "metadata": {},
   "outputs": [
    {
     "name": "stdout",
     "output_type": "stream",
     "text": [
      "전체 학습데이터의 개수 : 25000\n"
     ]
    }
   ],
   "source": [
    "print('전체 학습데이터의 개수 : {}'.format(len(train_data)))"
   ]
  },
  {
   "cell_type": "code",
   "execution_count": 6,
   "metadata": {},
   "outputs": [
    {
     "data": {
      "text/plain": [
       "0    2304\n",
       "1     948\n",
       "2    2451\n",
       "3    2247\n",
       "4    2233\n",
       "Name: review, dtype: int64"
      ]
     },
     "execution_count": 6,
     "metadata": {},
     "output_type": "execute_result"
    }
   ],
   "source": [
    "train_length = train_data['review'].apply(len)\n",
    "train_length.head()"
   ]
  },
  {
   "cell_type": "code",
   "execution_count": 7,
   "metadata": {},
   "outputs": [
    {
     "data": {
      "text/plain": [
       "Text(0, 0.5, 'Number of review')"
      ]
     },
     "execution_count": 7,
     "metadata": {},
     "output_type": "execute_result"
    },
    {
     "data": {
      "image/png": "[encoded data removed]",
      "text/plain": [
       "<Figure size 1200x500 with 1 Axes>"
      ]
     },
     "metadata": {},
     "output_type": "display_data"
    }
   ],
   "source": [
    "#그래프에 대한 이미지 사이즈 선언\n",
    "#figsize : (가로, 세로)형태의 튜플로 입력\n",
    "plt.figure(figsize=(12, 5))\n",
    "#히스토그램 선언\n",
    "#bins\n",
    "#range:\n",
    "#alpha:\n",
    "#color:\n",
    "#label:\n",
    "plt.hist(train_length, bins=200, alpha=0.5, color='r', label='word')\n",
    "plt.yscale('log')\n",
    "#그래프 제목\n",
    "plt.title('Log-Histogram of length of review')\n",
    "#그래프 x축 라벨\n",
    "plt.xlabel('Length of review')\n",
    "#그래프 y축 라벨\n",
    "plt.ylabel('Number of review')"
   ]
  },
  {
   "cell_type": "code",
   "execution_count": 8,
   "metadata": {},
   "outputs": [
    {
     "name": "stdout",
     "output_type": "stream",
     "text": [
      "리뷰 길이 최대 값 : 13710\n",
      "리뷰 길이 최소 값 : 54\n",
      "리뷰 길이 평균 값 : 1329.71056\n",
      "리뷰 길이 표준편차 값 : 1005.2191407969154\n",
      "리뷰 길이 중간 값 : 983.0\n",
      "리뷰 길이 제 1사분위 : 705.0\n",
      "리뷰 길이 제 3사분위 : 1619.0\n"
     ]
    }
   ],
   "source": [
    "print('리뷰 길이 최대 값 : {}'.format(np.max(train_length)))\n",
    "print('리뷰 길이 최소 값 : {}'.format(np.min(train_length)))\n",
    "print('리뷰 길이 평균 값 : {}'.format(np.mean(train_length)))\n",
    "print('리뷰 길이 표준편차 값 : {}'.format(np.std(train_length)))\n",
    "print('리뷰 길이 중간 값 : {}'.format(np.median(train_length)))\n",
    "#사분위의 대한 경우는 0~100 스케일로 되어있음\n",
    "print('리뷰 길이 제 1사분위 : {}'.format(np.percentile(train_length, 25)))\n",
    "print('리뷰 길이 제 3사분위 : {}'.format(np.percentile(train_length, 75)))"
   ]
  },
  {
   "cell_type": "code",
   "execution_count": 9,
   "metadata": {},
   "outputs": [
    {
     "data": {
      "text/plain": [
       "{'whiskers': [<matplotlib.lines.Line2D at 0x190a75fa100>,\n",
       "  <matplotlib.lines.Line2D at 0x190a75fa3a0>],\n",
       " 'caps': [<matplotlib.lines.Line2D at 0x190a75fa640>,\n",
       "  <matplotlib.lines.Line2D at 0x190a75fa8e0>],\n",
       " 'boxes': [<matplotlib.lines.Line2D at 0x190a75edf40>],\n",
       " 'medians': [<matplotlib.lines.Line2D at 0x190a75fab80>],\n",
       " 'fliers': [<matplotlib.lines.Line2D at 0x190a73e1100>],\n",
       " 'means': [<matplotlib.lines.Line2D at 0x190a75fae20>]}"
      ]
     },
     "execution_count": 9,
     "metadata": {},
     "output_type": "execute_result"
    },
    {
     "data": {
      "image/png": "[encoded data removed]",
      "text/plain": [
       "<Figure size 1200x500 with 1 Axes>"
      ]
     },
     "metadata": {},
     "output_type": "display_data"
    }
   ],
   "source": [
    "plt.figure(figsize = (12,5))\n",
    "#박스플롯 생성\n",
    "#첫번째 파라미터 : 여러 분포에 대한 데이터 리스트를 입력\n",
    "#레이블 : 입력한 데이터에 대한 라벨\n",
    "#showmeans : 평균값을 마크함\n",
    "plt.boxplot(train_length, labels=['counts'], showmeans=True)"
   ]
  },
  {
   "cell_type": "code",
   "execution_count": null,
   "metadata": {},
   "outputs": [],
   "source": []
  }
 ],
 "metadata": {
  "kernelspec": {
   "display_name": "2023spring",
   "language": "python",
   "name": "python3"
  },
  "language_info": {
   "codemirror_mode": {
    "name": "ipython",
    "version": 3
   },
   "file_extension": ".py",
   "mimetype": "text/x-python",
   "name": "python",
   "nbconvert_exporter": "python",
   "pygments_lexer": "ipython3",
   "version": "3.8.16"
  },
  "orig_nbformat": 4
 },
 "nbformat": 4,
 "nbformat_minor": 2
}
