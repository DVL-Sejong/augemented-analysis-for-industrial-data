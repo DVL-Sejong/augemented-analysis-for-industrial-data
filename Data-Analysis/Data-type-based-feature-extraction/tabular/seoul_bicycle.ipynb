{
 "cells": [
  {
   "cell_type": "code",
   "execution_count": 1,
   "id": "778673b0",
   "metadata": {
    "_cell_guid": "b1076dfc-b9ad-4769-8c92-a6c4dae69d19",
    "_uuid": "8f2839f25d086af736a60e9eeb907d3b93b6e0e5",
    "execution": {
     "iopub.execute_input": "2023-04-18T10:14:31.397571Z",
     "iopub.status.busy": "2023-04-18T10:14:31.397042Z",
     "iopub.status.idle": "2023-04-18T10:14:31.419281Z",
     "shell.execute_reply": "2023-04-18T10:14:31.417976Z"
    },
    "papermill": {
     "duration": 0.031954,
     "end_time": "2023-04-18T10:14:31.422329",
     "exception": false,
     "start_time": "2023-04-18T10:14:31.390375",
     "status": "completed"
    },
    "tags": []
   },
   "outputs": [
    {
     "name": "stdout",
     "output_type": "stream",
     "text": [
      "/kaggle/input/2023-ml-midterm-p1/train.csv\n",
      "/kaggle/input/2023-ml-midterm-p1/test.csv\n",
      "/kaggle/input/2023-ml-midterm-p1/submit_sample.csv\n"
     ]
    }
   ],
   "source": [
    "# This Python 3 environment comes with many helpful analytics libraries installed\n",
    "# It is defined by the kaggle/python Docker image: https://github.com/kaggle/docker-python\n",
    "# For example, here's several helpful packages to load\n",
    "\n",
    "import numpy as np # linear algebra\n",
    "import pandas as pd # data processing, CSV file I/O (e.g. pd.read_csv)\n",
    "\n",
    "# Input data files are available in the read-only \"../input/\" directory\n",
    "# For example, running this (by clicking run or pressing Shift+Enter) will list all files under the input directory\n",
    "\n",
    "import os\n",
    "for dirname, _, filenames in os.walk('/kaggle/input'):\n",
    "    for filename in filenames:\n",
    "        print(os.path.join(dirname, filename))\n",
    "\n",
    "# You can write up to 20GB to the current directory (/kaggle/working/) that gets preserved as output when you create a version using \"Save & Run All\" \n",
    "# You can also write temporary files to /kaggle/temp/, but they won't be saved outside of the current session"
   ]
  },
  {
   "cell_type": "code",
   "execution_count": 2,
   "id": "5b70bcb4",
   "metadata": {
    "execution": {
     "iopub.execute_input": "2023-04-18T10:14:31.431451Z",
     "iopub.status.busy": "2023-04-18T10:14:31.430957Z",
     "iopub.status.idle": "2023-04-18T10:14:31.437688Z",
     "shell.execute_reply": "2023-04-18T10:14:31.436274Z"
    },
    "papermill": {
     "duration": 0.014717,
     "end_time": "2023-04-18T10:14:31.440618",
     "exception": false,
     "start_time": "2023-04-18T10:14:31.425901",
     "status": "completed"
    },
    "tags": []
   },
   "outputs": [],
   "source": [
    "# 시드 고정\n",
    "import random\n",
    "import os\n",
    "seed = 42\n",
    "random.seed(seed)\n",
    "np.random.seed(seed)\n",
    "os.environ[\"PYTHONHASHSEED\"] = str(seed)"
   ]
  },
  {
   "cell_type": "code",
   "execution_count": 3,
   "id": "2be83c92",
   "metadata": {
    "execution": {
     "iopub.execute_input": "2023-04-18T10:14:31.450406Z",
     "iopub.status.busy": "2023-04-18T10:14:31.449901Z",
     "iopub.status.idle": "2023-04-18T10:14:31.482355Z",
     "shell.execute_reply": "2023-04-18T10:14:31.480935Z"
    },
    "papermill": {
     "duration": 0.041021,
     "end_time": "2023-04-18T10:14:31.485358",
     "exception": false,
     "start_time": "2023-04-18T10:14:31.444337",
     "status": "completed"
    },
    "tags": []
   },
   "outputs": [],
   "source": [
    "train = pd.read_csv('/kaggle/input/2023-ml-midterm-p1/train.csv')\n",
    "test = pd.read_csv('/kaggle/input/2023-ml-midterm-p1/test.csv')\n",
    "submit = pd.read_csv('/kaggle/input/2023-ml-midterm-p1/submit_sample.csv')"
   ]
  },
  {
   "cell_type": "code",
   "execution_count": 4,
   "id": "ff197c67",
   "metadata": {
    "execution": {
     "iopub.execute_input": "2023-04-18T10:14:31.495159Z",
     "iopub.status.busy": "2023-04-18T10:14:31.493836Z",
     "iopub.status.idle": "2023-04-18T10:14:31.511518Z",
     "shell.execute_reply": "2023-04-18T10:14:31.509754Z"
    },
    "papermill": {
     "duration": 0.025838,
     "end_time": "2023-04-18T10:14:31.514714",
     "exception": false,
     "start_time": "2023-04-18T10:14:31.488876",
     "status": "completed"
    },
    "tags": []
   },
   "outputs": [],
   "source": [
    "X = train.drop('count', axis=1)\n",
    "y = train['count']"
   ]
  },
  {
   "cell_type": "code",
   "execution_count": 5,
   "id": "78f03c69",
   "metadata": {
    "execution": {
     "iopub.execute_input": "2023-04-18T10:14:31.525254Z",
     "iopub.status.busy": "2023-04-18T10:14:31.523755Z",
     "iopub.status.idle": "2023-04-18T10:14:31.535472Z",
     "shell.execute_reply": "2023-04-18T10:14:31.533995Z"
    },
    "papermill": {
     "duration": 0.020333,
     "end_time": "2023-04-18T10:14:31.538713",
     "exception": false,
     "start_time": "2023-04-18T10:14:31.518380",
     "status": "completed"
    },
    "tags": []
   },
   "outputs": [],
   "source": [
    "X = X.drop('id', axis=1)\n",
    "test = test.drop('id', axis=1)"
   ]
  },
  {
   "cell_type": "code",
   "execution_count": 6,
   "id": "5a37c1d2",
   "metadata": {
    "execution": {
     "iopub.execute_input": "2023-04-18T10:14:31.548988Z",
     "iopub.status.busy": "2023-04-18T10:14:31.547591Z",
     "iopub.status.idle": "2023-04-18T10:14:31.555744Z",
     "shell.execute_reply": "2023-04-18T10:14:31.554643Z"
    },
    "papermill": {
     "duration": 0.016049,
     "end_time": "2023-04-18T10:14:31.558426",
     "exception": false,
     "start_time": "2023-04-18T10:14:31.542377",
     "status": "completed"
    },
    "tags": []
   },
   "outputs": [],
   "source": [
    "X = X.drop('hour_bef_ozone', axis=1)\n",
    "test = test.drop('hour_bef_ozone', axis=1)"
   ]
  },
  {
   "cell_type": "code",
   "execution_count": 7,
   "id": "8be86294",
   "metadata": {
    "execution": {
     "iopub.execute_input": "2023-04-18T10:14:31.567757Z",
     "iopub.status.busy": "2023-04-18T10:14:31.567236Z",
     "iopub.status.idle": "2023-04-18T10:14:32.701946Z",
     "shell.execute_reply": "2023-04-18T10:14:32.700490Z"
    },
    "papermill": {
     "duration": 1.143136,
     "end_time": "2023-04-18T10:14:32.705176",
     "exception": false,
     "start_time": "2023-04-18T10:14:31.562040",
     "status": "completed"
    },
    "tags": []
   },
   "outputs": [],
   "source": [
    "from sklearn.preprocessing import StandardScaler\n",
    "std = StandardScaler()\n",
    "X_std = std.fit_transform(X)\n",
    "test_std = std.transform(test)"
   ]
  },
  {
   "cell_type": "code",
   "execution_count": 8,
   "id": "15ef7f00",
   "metadata": {
    "execution": {
     "iopub.execute_input": "2023-04-18T10:14:32.715183Z",
     "iopub.status.busy": "2023-04-18T10:14:32.714304Z",
     "iopub.status.idle": "2023-04-18T10:14:33.019494Z",
     "shell.execute_reply": "2023-04-18T10:14:33.018028Z"
    },
    "papermill": {
     "duration": 0.313577,
     "end_time": "2023-04-18T10:14:33.022414",
     "exception": false,
     "start_time": "2023-04-18T10:14:32.708837",
     "status": "completed"
    },
    "tags": []
   },
   "outputs": [
    {
     "data": {
      "text/plain": [
       "KNeighborsRegressor(n_neighbors=7, p=1, weights='distance')"
      ]
     },
     "execution_count": 8,
     "metadata": {},
     "output_type": "execute_result"
    }
   ],
   "source": [
    "from sklearn.neighbors import KNeighborsRegressor\n",
    "knn = KNeighborsRegressor(n_neighbors=7, p=1, weights='distance')\n",
    "knn.fit(X_std, y)"
   ]
  },
  {
   "cell_type": "code",
   "execution_count": 9,
   "id": "ad51aa80",
   "metadata": {
    "execution": {
     "iopub.execute_input": "2023-04-18T10:14:33.032169Z",
     "iopub.status.busy": "2023-04-18T10:14:33.031206Z",
     "iopub.status.idle": "2023-04-18T10:14:33.054606Z",
     "shell.execute_reply": "2023-04-18T10:14:33.052807Z"
    },
    "papermill": {
     "duration": 0.03201,
     "end_time": "2023-04-18T10:14:33.058096",
     "exception": false,
     "start_time": "2023-04-18T10:14:33.026086",
     "status": "completed"
    },
    "tags": []
   },
   "outputs": [],
   "source": [
    "pred = knn.predict(test_std)\n",
    "submit['count'] = pred\n",
    "submit.to_csv(\"submit.csv\", index=False)"
   ]
  }
 ],
 "metadata": {
  "kernelspec": {
   "display_name": "Python 3",
   "language": "python",
   "name": "python3"
  },
  "language_info": {
   "codemirror_mode": {
    "name": "ipython",
    "version": 3
   },
   "file_extension": ".py",
   "mimetype": "text/x-python",
   "name": "python",
   "nbconvert_exporter": "python",
   "pygments_lexer": "ipython3",
   "version": "3.7.12"
  },
  "papermill": {
   "default_parameters": {},
   "duration": 14.155032,
   "end_time": "2023-04-18T10:14:34.191077",
   "environment_variables": {},
   "exception": null,
   "input_path": "__notebook__.ipynb",
   "output_path": "__notebook__.ipynb",
   "parameters": {},
   "start_time": "2023-04-18T10:14:20.036045",
   "version": "2.4.0"
  }
 },
 "nbformat": 4,
 "nbformat_minor": 5
}
