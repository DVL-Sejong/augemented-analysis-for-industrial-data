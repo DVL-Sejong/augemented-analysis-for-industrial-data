{
 "cells": [
  {
   "cell_type": "code",
   "execution_count": 1,
   "id": "15869954",
   "metadata": {
    "_cell_guid": "b1076dfc-b9ad-4769-8c92-a6c4dae69d19",
    "_uuid": "8f2839f25d086af736a60e9eeb907d3b93b6e0e5",
    "execution": {
     "iopub.execute_input": "2023-04-18T13:00:22.043341Z",
     "iopub.status.busy": "2023-04-18T13:00:22.042935Z",
     "iopub.status.idle": "2023-04-18T13:00:22.057701Z",
     "shell.execute_reply": "2023-04-18T13:00:22.056299Z"
    },
    "papermill": {
     "duration": 0.025376,
     "end_time": "2023-04-18T13:00:22.060649",
     "exception": false,
     "start_time": "2023-04-18T13:00:22.035273",
     "status": "completed"
    },
    "tags": []
   },
   "outputs": [
    {
     "name": "stdout",
     "output_type": "stream",
     "text": [
      "/kaggle/input/2023-ml-midterm-p2/train.csv\n",
      "/kaggle/input/2023-ml-midterm-p2/test.csv\n",
      "/kaggle/input/2023-ml-midterm-p2/submit_sample.csv\n"
     ]
    }
   ],
   "source": [
    "# This Python 3 environment comes with many helpful analytics libraries installed\n",
    "# It is defined by the kaggle/python Docker image: https://github.com/kaggle/docker-python\n",
    "# For example, here's several helpful packages to load\n",
    "\n",
    "import numpy as np # linear algebra\n",
    "import pandas as pd # data processing, CSV file I/O (e.g. pd.read_csv)\n",
    "\n",
    "# Input data files are available in the read-only \"../input/\" directory\n",
    "# For example, running this (by clicking run or pressing Shift+Enter) will list all files under the input directory\n",
    "\n",
    "import os\n",
    "for dirname, _, filenames in os.walk('/kaggle/input'):\n",
    "    for filename in filenames:\n",
    "        print(os.path.join(dirname, filename))\n",
    "\n",
    "# You can write up to 20GB to the current directory (/kaggle/working/) that gets preserved as output when you create a version using \"Save & Run All\" \n",
    "# You can also write temporary files to /kaggle/temp/, but they won't be saved outside of the current session"
   ]
  },
  {
   "cell_type": "code",
   "execution_count": 2,
   "id": "c6c5b00f",
   "metadata": {
    "execution": {
     "iopub.execute_input": "2023-04-18T13:00:22.072582Z",
     "iopub.status.busy": "2023-04-18T13:00:22.072169Z",
     "iopub.status.idle": "2023-04-18T13:00:22.078100Z",
     "shell.execute_reply": "2023-04-18T13:00:22.076759Z"
    },
    "papermill": {
     "duration": 0.015428,
     "end_time": "2023-04-18T13:00:22.081187",
     "exception": false,
     "start_time": "2023-04-18T13:00:22.065759",
     "status": "completed"
    },
    "tags": []
   },
   "outputs": [],
   "source": [
    "# 시드 고정\n",
    "import random\n",
    "import os\n",
    "seed = 42\n",
    "random.seed(seed)\n",
    "np.random.seed(seed)\n",
    "os.environ[\"PYTHONHASHSEED\"] = str(seed)"
   ]
  },
  {
   "cell_type": "code",
   "execution_count": 3,
   "id": "d7791592",
   "metadata": {
    "execution": {
     "iopub.execute_input": "2023-04-18T13:00:22.093317Z",
     "iopub.status.busy": "2023-04-18T13:00:22.092924Z",
     "iopub.status.idle": "2023-04-18T13:00:22.125948Z",
     "shell.execute_reply": "2023-04-18T13:00:22.123931Z"
    },
    "papermill": {
     "duration": 0.042222,
     "end_time": "2023-04-18T13:00:22.128640",
     "exception": false,
     "start_time": "2023-04-18T13:00:22.086418",
     "status": "completed"
    },
    "tags": []
   },
   "outputs": [],
   "source": [
    "# 파일 불러오기\n",
    "train = pd.read_csv('/kaggle/input/2023-ml-midterm-p2/train.csv')\n",
    "test = pd.read_csv('/kaggle/input/2023-ml-midterm-p2/test.csv')\n",
    "submit = pd.read_csv('/kaggle/input/2023-ml-midterm-p2/submit_sample.csv')"
   ]
  },
  {
   "cell_type": "code",
   "execution_count": 4,
   "id": "2dd857b0",
   "metadata": {
    "execution": {
     "iopub.execute_input": "2023-04-18T13:00:22.140283Z",
     "iopub.status.busy": "2023-04-18T13:00:22.139866Z",
     "iopub.status.idle": "2023-04-18T13:00:22.153123Z",
     "shell.execute_reply": "2023-04-18T13:00:22.151602Z"
    },
    "papermill": {
     "duration": 0.022104,
     "end_time": "2023-04-18T13:00:22.155652",
     "exception": false,
     "start_time": "2023-04-18T13:00:22.133548",
     "status": "completed"
    },
    "tags": []
   },
   "outputs": [],
   "source": [
    "# 학습데이터에서 클래스 라벨 분리\n",
    "X = train.drop('target', axis=1)\n",
    "y = train['target']"
   ]
  },
  {
   "cell_type": "code",
   "execution_count": 5,
   "id": "a3dca4ac",
   "metadata": {
    "execution": {
     "iopub.execute_input": "2023-04-18T13:00:22.168595Z",
     "iopub.status.busy": "2023-04-18T13:00:22.167624Z",
     "iopub.status.idle": "2023-04-18T13:00:22.191992Z",
     "shell.execute_reply": "2023-04-18T13:00:22.190381Z"
    },
    "papermill": {
     "duration": 0.033564,
     "end_time": "2023-04-18T13:00:22.194310",
     "exception": false,
     "start_time": "2023-04-18T13:00:22.160746",
     "status": "completed"
    },
    "tags": []
   },
   "outputs": [
    {
     "name": "stdout",
     "output_type": "stream",
     "text": [
      "<class 'pandas.core.frame.DataFrame'>\n",
      "RangeIndex: 242 entries, 0 to 241\n",
      "Data columns (total 14 columns):\n",
      " #   Column    Non-Null Count  Dtype  \n",
      "---  ------    --------------  -----  \n",
      " 0   index     242 non-null    int64  \n",
      " 1   age       242 non-null    int64  \n",
      " 2   sex       242 non-null    int64  \n",
      " 3   cp        242 non-null    int64  \n",
      " 4   trestbps  242 non-null    int64  \n",
      " 5   chol      242 non-null    int64  \n",
      " 6   fbs       242 non-null    int64  \n",
      " 7   restecg   242 non-null    int64  \n",
      " 8   thalach   242 non-null    int64  \n",
      " 9   exang     242 non-null    int64  \n",
      " 10  oldpeak   242 non-null    float64\n",
      " 11  slope     242 non-null    int64  \n",
      " 12  ca        242 non-null    object \n",
      " 13  thal      242 non-null    object \n",
      "dtypes: float64(1), int64(11), object(2)\n",
      "memory usage: 26.6+ KB\n"
     ]
    }
   ],
   "source": [
    "X.info()"
   ]
  },
  {
   "cell_type": "code",
   "execution_count": 6,
   "id": "1b165d7a",
   "metadata": {
    "execution": {
     "iopub.execute_input": "2023-04-18T13:00:22.207153Z",
     "iopub.status.busy": "2023-04-18T13:00:22.206766Z",
     "iopub.status.idle": "2023-04-18T13:00:22.221782Z",
     "shell.execute_reply": "2023-04-18T13:00:22.220229Z"
    },
    "papermill": {
     "duration": 0.024954,
     "end_time": "2023-04-18T13:00:22.224427",
     "exception": false,
     "start_time": "2023-04-18T13:00:22.199473",
     "status": "completed"
    },
    "tags": []
   },
   "outputs": [
    {
     "name": "stdout",
     "output_type": "stream",
     "text": [
      "<class 'pandas.core.frame.DataFrame'>\n",
      "RangeIndex: 61 entries, 0 to 60\n",
      "Data columns (total 14 columns):\n",
      " #   Column    Non-Null Count  Dtype  \n",
      "---  ------    --------------  -----  \n",
      " 0   index     61 non-null     int64  \n",
      " 1   age       61 non-null     int64  \n",
      " 2   sex       61 non-null     int64  \n",
      " 3   cp        61 non-null     int64  \n",
      " 4   trestbps  61 non-null     int64  \n",
      " 5   chol      61 non-null     int64  \n",
      " 6   fbs       61 non-null     int64  \n",
      " 7   restecg   61 non-null     int64  \n",
      " 8   thalach   61 non-null     int64  \n",
      " 9   exang     61 non-null     int64  \n",
      " 10  oldpeak   61 non-null     float64\n",
      " 11  slope     61 non-null     int64  \n",
      " 12  ca        61 non-null     object \n",
      " 13  thal      61 non-null     object \n",
      "dtypes: float64(1), int64(11), object(2)\n",
      "memory usage: 6.8+ KB\n"
     ]
    }
   ],
   "source": [
    "test.info()"
   ]
  },
  {
   "cell_type": "code",
   "execution_count": 7,
   "id": "4b3ac812",
   "metadata": {
    "execution": {
     "iopub.execute_input": "2023-04-18T13:00:22.237217Z",
     "iopub.status.busy": "2023-04-18T13:00:22.235909Z",
     "iopub.status.idle": "2023-04-18T13:00:22.244828Z",
     "shell.execute_reply": "2023-04-18T13:00:22.243611Z"
    },
    "papermill": {
     "duration": 0.018033,
     "end_time": "2023-04-18T13:00:22.247468",
     "exception": false,
     "start_time": "2023-04-18T13:00:22.229435",
     "status": "completed"
    },
    "tags": []
   },
   "outputs": [
    {
     "data": {
      "text/plain": [
       "array(['0', '3', '2', '1', '?'], dtype=object)"
      ]
     },
     "execution_count": 7,
     "metadata": {},
     "output_type": "execute_result"
    }
   ],
   "source": [
    "# object 자료형인 컬럼에 어떤 값이 있는지 살펴본다\n",
    "X['ca'].unique()"
   ]
  },
  {
   "cell_type": "code",
   "execution_count": 8,
   "id": "8db8dcf8",
   "metadata": {
    "execution": {
     "iopub.execute_input": "2023-04-18T13:00:22.260048Z",
     "iopub.status.busy": "2023-04-18T13:00:22.259598Z",
     "iopub.status.idle": "2023-04-18T13:00:22.267294Z",
     "shell.execute_reply": "2023-04-18T13:00:22.265916Z"
    },
    "papermill": {
     "duration": 0.017336,
     "end_time": "2023-04-18T13:00:22.269906",
     "exception": false,
     "start_time": "2023-04-18T13:00:22.252570",
     "status": "completed"
    },
    "tags": []
   },
   "outputs": [
    {
     "data": {
      "text/plain": [
       "array(['6', '3', '7', '?'], dtype=object)"
      ]
     },
     "execution_count": 8,
     "metadata": {},
     "output_type": "execute_result"
    }
   ],
   "source": [
    "X['thal'].unique()"
   ]
  },
  {
   "cell_type": "code",
   "execution_count": 9,
   "id": "4febbf81",
   "metadata": {
    "execution": {
     "iopub.execute_input": "2023-04-18T13:00:22.282809Z",
     "iopub.status.busy": "2023-04-18T13:00:22.282367Z",
     "iopub.status.idle": "2023-04-18T13:00:22.287361Z",
     "shell.execute_reply": "2023-04-18T13:00:22.286033Z"
    },
    "papermill": {
     "duration": 0.014407,
     "end_time": "2023-04-18T13:00:22.289946",
     "exception": false,
     "start_time": "2023-04-18T13:00:22.275539",
     "status": "completed"
    },
    "tags": []
   },
   "outputs": [],
   "source": [
    "# X[(X['ca']=='?')] = -1\n",
    "# test[(test['ca']=='?')] = -1"
   ]
  },
  {
   "cell_type": "code",
   "execution_count": 10,
   "id": "60634ce2",
   "metadata": {
    "execution": {
     "iopub.execute_input": "2023-04-18T13:00:22.302265Z",
     "iopub.status.busy": "2023-04-18T13:00:22.301872Z",
     "iopub.status.idle": "2023-04-18T13:00:22.306473Z",
     "shell.execute_reply": "2023-04-18T13:00:22.305275Z"
    },
    "papermill": {
     "duration": 0.013574,
     "end_time": "2023-04-18T13:00:22.308754",
     "exception": false,
     "start_time": "2023-04-18T13:00:22.295180",
     "status": "completed"
    },
    "tags": []
   },
   "outputs": [],
   "source": [
    "# X[(X['thal']=='?')] = -1\n",
    "# test[(test['thal']=='?')] = -1"
   ]
  },
  {
   "cell_type": "code",
   "execution_count": 11,
   "id": "0cf159a9",
   "metadata": {
    "execution": {
     "iopub.execute_input": "2023-04-18T13:00:22.321008Z",
     "iopub.status.busy": "2023-04-18T13:00:22.320338Z",
     "iopub.status.idle": "2023-04-18T13:00:23.300265Z",
     "shell.execute_reply": "2023-04-18T13:00:23.298966Z"
    },
    "papermill": {
     "duration": 0.989074,
     "end_time": "2023-04-18T13:00:23.303053",
     "exception": false,
     "start_time": "2023-04-18T13:00:22.313979",
     "status": "completed"
    },
    "tags": []
   },
   "outputs": [],
   "source": [
    "# 숫자가 아닌값들을 숫자로 바꿔주기 위해 LabelEncoder을 불러온다\n",
    "from sklearn.preprocessing import LabelEncoder\n",
    "index = ['thal', 'ca']\n",
    "for i in index:\n",
    "    le = LabelEncoder()\n",
    "    X[i] = le.fit_transform(X[i])\n",
    "    test[i] = le.transform(test[i])"
   ]
  },
  {
   "cell_type": "code",
   "execution_count": 12,
   "id": "1bc3a679",
   "metadata": {
    "execution": {
     "iopub.execute_input": "2023-04-18T13:00:23.315413Z",
     "iopub.status.busy": "2023-04-18T13:00:23.314947Z",
     "iopub.status.idle": "2023-04-18T13:00:23.319814Z",
     "shell.execute_reply": "2023-04-18T13:00:23.318915Z"
    },
    "papermill": {
     "duration": 0.013795,
     "end_time": "2023-04-18T13:00:23.322127",
     "exception": false,
     "start_time": "2023-04-18T13:00:23.308332",
     "status": "completed"
    },
    "tags": []
   },
   "outputs": [],
   "source": [
    "# 결측값을 채우기 위한 Simple\n",
    "# from sklearn.impute import SimpleImputer\n",
    "# imp = SimpleImputer(missing_values='?', strategy='constant')\n",
    "# X = imp.fit_transform(X['thal'], X['ca'])\n",
    "# test['thal'] = imp.transform(test['thal'])"
   ]
  },
  {
   "cell_type": "code",
   "execution_count": 13,
   "id": "7e98a5f4",
   "metadata": {
    "execution": {
     "iopub.execute_input": "2023-04-18T13:00:23.335062Z",
     "iopub.status.busy": "2023-04-18T13:00:23.333941Z",
     "iopub.status.idle": "2023-04-18T13:00:23.339397Z",
     "shell.execute_reply": "2023-04-18T13:00:23.337989Z"
    },
    "papermill": {
     "duration": 0.014661,
     "end_time": "2023-04-18T13:00:23.342003",
     "exception": false,
     "start_time": "2023-04-18T13:00:23.327342",
     "status": "completed"
    },
    "tags": []
   },
   "outputs": [],
   "source": [
    "# X['ca'] = X['ca'].astype('64')\n",
    "# test['ca'] = test['ca'].astype('int64')\n",
    "# X['thal'] = X['thal'].astype('int64')\n",
    "# test['thal'] = test['thal'].astype('int64')"
   ]
  },
  {
   "cell_type": "code",
   "execution_count": 14,
   "id": "a779a512",
   "metadata": {
    "execution": {
     "iopub.execute_input": "2023-04-18T13:00:23.354472Z",
     "iopub.status.busy": "2023-04-18T13:00:23.354059Z",
     "iopub.status.idle": "2023-04-18T13:00:23.367632Z",
     "shell.execute_reply": "2023-04-18T13:00:23.366475Z"
    },
    "papermill": {
     "duration": 0.023159,
     "end_time": "2023-04-18T13:00:23.370488",
     "exception": false,
     "start_time": "2023-04-18T13:00:23.347329",
     "status": "completed"
    },
    "tags": []
   },
   "outputs": [],
   "source": [
    "# 정규화를 위한 standardscaler import\n",
    "from sklearn.preprocessing import MinMaxScaler\n",
    "std = MinMaxScaler()\n",
    "X_std = std.fit_transform(X)\n",
    "test_std = std.transform(test)"
   ]
  },
  {
   "cell_type": "code",
   "execution_count": 15,
   "id": "065099b6",
   "metadata": {
    "execution": {
     "iopub.execute_input": "2023-04-18T13:00:23.383199Z",
     "iopub.status.busy": "2023-04-18T13:00:23.382371Z",
     "iopub.status.idle": "2023-04-18T13:00:23.599990Z",
     "shell.execute_reply": "2023-04-18T13:00:23.599079Z"
    },
    "papermill": {
     "duration": 0.226809,
     "end_time": "2023-04-18T13:00:23.602554",
     "exception": false,
     "start_time": "2023-04-18T13:00:23.375745",
     "status": "completed"
    },
    "tags": []
   },
   "outputs": [
    {
     "data": {
      "text/plain": [
       "LogisticRegression(C=1, max_iter=10000)"
      ]
     },
     "execution_count": 15,
     "metadata": {},
     "output_type": "execute_result"
    }
   ],
   "source": [
    "# LogisticRegression과 판별분석 모델 불러오고 학습\n",
    "from sklearn.linear_model import LogisticRegression\n",
    "from sklearn.discriminant_analysis import QuadraticDiscriminantAnalysis\n",
    "#model = QuadraticDiscriminantAnalysis(reg_param=0.4)\n",
    "model = LogisticRegression(C=1, max_iter=10000)\n",
    "model.fit(X_std, y)"
   ]
  },
  {
   "cell_type": "code",
   "execution_count": 16,
   "id": "d494ad98",
   "metadata": {
    "execution": {
     "iopub.execute_input": "2023-04-18T13:00:23.614686Z",
     "iopub.status.busy": "2023-04-18T13:00:23.614311Z",
     "iopub.status.idle": "2023-04-18T13:00:23.625940Z",
     "shell.execute_reply": "2023-04-18T13:00:23.624790Z"
    },
    "papermill": {
     "duration": 0.020779,
     "end_time": "2023-04-18T13:00:23.628599",
     "exception": false,
     "start_time": "2023-04-18T13:00:23.607820",
     "status": "completed"
    },
    "tags": []
   },
   "outputs": [],
   "source": [
    "#예측 수행\n",
    "pred = model.predict(test_std)\n",
    "submit['target'] = pred\n",
    "submit.to_csv(\"submit.csv\", index=False)"
   ]
  }
 ],
 "metadata": {
  "kernelspec": {
   "display_name": "Python 3",
   "language": "python",
   "name": "python3"
  },
  "language_info": {
   "codemirror_mode": {
    "name": "ipython",
    "version": 3
   },
   "file_extension": ".py",
   "mimetype": "text/x-python",
   "name": "python",
   "nbconvert_exporter": "python",
   "pygments_lexer": "ipython3",
   "version": "3.7.12"
  },
  "papermill": {
   "default_parameters": {},
   "duration": 13.6791,
   "end_time": "2023-04-18T13:00:24.458002",
   "environment_variables": {},
   "exception": null,
   "input_path": "__notebook__.ipynb",
   "output_path": "__notebook__.ipynb",
   "parameters": {},
   "start_time": "2023-04-18T13:00:10.778902",
   "version": "2.4.0"
  }
 },
 "nbformat": 4,
 "nbformat_minor": 5
}
