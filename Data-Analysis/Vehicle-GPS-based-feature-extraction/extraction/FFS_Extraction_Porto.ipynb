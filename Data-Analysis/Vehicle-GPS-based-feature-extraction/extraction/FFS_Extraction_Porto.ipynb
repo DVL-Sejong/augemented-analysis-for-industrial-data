{
 "cells": [
  {
   "cell_type": "code",
   "execution_count": 1,
   "id": "367c66b0",
   "metadata": {},
   "outputs": [],
   "source": [
    "from fmm import FastMapMatch,Network,NetworkGraph,UBODTGenAlgorithm,UBODT,FastMapMatchConfig\n",
    "from fmm import Network,NetworkGraph,STMATCH,STMATCHConfig\n",
    "from shapely.geometry import LineString,shape, mapping"
   ]
  },
  {
   "cell_type": "code",
   "execution_count": 2,
   "id": "c6429a58",
   "metadata": {},
   "outputs": [
    {
     "name": "stdout",
     "output_type": "stream",
     "text": [
      "Nodes 908 edges 1675\n"
     ]
    }
   ],
   "source": [
    "# Read network and graph\n",
    "network = Network(\"network-Porto/edges.shp\",\"fid\", \"u\", \"v\")\n",
    "print \"Nodes {} edges {}\".format(network.get_node_count(),network.get_edge_count())\n",
    "graph = NetworkGraph(network)"
   ]
  },
  {
   "cell_type": "code",
   "execution_count": 3,
   "id": "ab1cd305",
   "metadata": {},
   "outputs": [
    {
     "name": "stdout",
     "output_type": "stream",
     "text": [
      "Status: success\n",
      "Time takes 0.519 seconds\n",
      "\n"
     ]
    }
   ],
   "source": [
    "# Precompute UBODT\n",
    "# Can be skipped if you already generated an ubodt file\n",
    "ubodt_gen = UBODTGenAlgorithm(network,graph)\n",
    "# The delta is defined as 3 km approximately. 0.03 degrees. \n",
    "status = ubodt_gen.generate_ubodt(\"network-Porto/ubodt.txt\", 0.03, binary=False, use_omp=True)\n",
    "# Binary is faster for both IO and precomputation\n",
    "# status = ubodt_gen.generate_ubodt(\"stockholm/ubodt.bin\", 0.03, binary=True, use_omp=True)\n",
    "print status"
   ]
  },
  {
   "cell_type": "code",
   "execution_count": 3,
   "id": "66030dc9",
   "metadata": {},
   "outputs": [],
   "source": [
    "# Create FMM model\n",
    "### Read UBODT\n",
    "ubodt = UBODT.read_ubodt_csv(\"network-Porto/ubodt.txt\")\n",
    "### Create FMM model\n",
    "fmm_model = FastMapMatch(network,graph,ubodt)\n",
    "\n",
    "k = 8\n",
    "radius = 0.003\n",
    "gps_error = 0.0005\n",
    "fmm_config = FastMapMatchConfig(k,radius,gps_error)"
   ]
  },
  {
   "cell_type": "code",
   "execution_count": 4,
   "id": "3074cfa3",
   "metadata": {},
   "outputs": [],
   "source": [
    "import os, glob\n",
    "import pandas as pd\n",
    "import datetime\n",
    "import numpy as np\n",
    "from tqdm import tqdm"
   ]
  },
  {
   "cell_type": "code",
   "execution_count": 35,
   "id": "28a3c7a5",
   "metadata": {
    "scrolled": true
   },
   "outputs": [
    {
     "name": "stderr",
     "output_type": "stream",
     "text": [
      "100%|██████████| 13/13 [1:50:39<00:00, 510.74s/it]\n"
     ]
    }
   ],
   "source": [
    "a = np.zeros((8760, 3350))\n",
    "b = [[] for row in range(1675)]\n",
    "start = datetime.datetime(2013, 7, 1, 0, 0, 0)\n",
    "# FMM\n",
    "for t in tqdm(range(13)):\n",
    "    df = pd.read_csv('data/tra' + str(t) + '.csv')\n",
    "    for wkt, ti in zip(df['geometry'], df['TIMESTAMP']):\n",
    "\n",
    "        result = fmm_model.match_wkt(wkt, fmm_config)\n",
    "\n",
    "        candidates = []\n",
    "        for c in result.candidates:\n",
    "            candidates.append((c.edge_id,c.source,c.target,c.error,c.length,c.offset,c.spdist,c.ep,c.tp))\n",
    "\n",
    "        df_c = pd.DataFrame(candidates, columns=[\"eid\",\"source\",\"target\",\"error\",\"length\",\"offset\",\"spdist\",\"ep\",\"tp\"])\n",
    "        df_c['speed'] = df_c['spdist'] * 24000\n",
    "        \n",
    "        now_time = ti\n",
    "        if now_time.count(':') == 1:\n",
    "            now_time += ':00'\n",
    "        cnow_time = datetime.datetime.strptime(now_time, \"%Y-%m-%d %H:%M:%S\")\n",
    "        \n",
    "        for i in range(len(df_c) - 1):\n",
    "            if i != 0 or i != len(df_c) - 1:\n",
    "                if df_c['eid'][i] != df_c['eid'][i+1]:\n",
    "                    if df_c['speed'][i] >= 5 and df_c['speed'][i] < 120:\n",
    "                        b[int(df_c['eid'][i])].append(str(round(df_c['speed'][i], 2)))\n",
    "                        index = int((((cnow_time - start).total_seconds()) / 60) // 60)\n",
    "                        a[index][int(df_c['eid'][i])*2] += 1\n",
    "                        a[index][int(df_c['eid'][i])*2 + 1] += df_c['speed'][i]\n",
    "            cnow_time += datetime.timedelta(seconds=15)"
   ]
  },
  {
   "cell_type": "code",
   "execution_count": 37,
   "id": "5ebe5691",
   "metadata": {},
   "outputs": [
    {
     "name": "stderr",
     "output_type": "stream",
     "text": [
      "  0%|          | 0/8760 [00:00<?, ?it/s]/home/skang/.local/lib/python2.7/site-packages/ipykernel_launcher.py:5: RuntimeWarning: invalid value encountered in double_scalars\n",
      "  \"\"\"\n",
      "100%|██████████| 8760/8760 [05:02<00:00, 29.00it/s]\n"
     ]
    }
   ],
   "source": [
    "limit = np.zeros(1675)\n",
    "for i in range(1675):\n",
    "    temp = sorted(b[i])\n",
    "    if len(temp) >= 6:\n",
    "        lspeed = temp[int(round(len(temp) * 0.9))]\n",
    "    elif len(temp) > 0:\n",
    "        lspeed = temp[len(temp)-1]\n",
    "    else:\n",
    "        lspeed = 0\n",
    "    limit[i] = lspeed"
   ]
  },
  {
   "cell_type": "code",
   "execution_count": 38,
   "id": "84fe773b",
   "metadata": {},
   "outputs": [],
   "source": [
    "df = pd.DataFrame(limit)\n",
    "df.to_csv('data/limitSpeed.csv')\n",
    "df2 = pd.DataFrame(b)\n",
    "df2.to_csv('data/AllSpeedData.csv', index=False)"
   ]
  }
 ],
 "metadata": {
  "kernelspec": {
   "display_name": "Python 3 (ipykernel)",
   "language": "python",
   "name": "python3"
  },
  "language_info": {
   "codemirror_mode": {
    "name": "ipython",
    "version": 3
   },
   "file_extension": ".py",
   "mimetype": "text/x-python",
   "name": "python",
   "nbconvert_exporter": "python",
   "pygments_lexer": "ipython3",
   "version": "3.8.0"
  }
 },
 "nbformat": 4,
 "nbformat_minor": 5
}
