{
 "cells": [
  {
   "cell_type": "code",
   "execution_count": null,
   "id": "2c407ddd",
   "metadata": {},
   "outputs": [],
   "source": [
    "import math\n",
    "\n",
    "def GPS_linear_interpolation(cur_point, prev_point, speed):\n",
    "\n",
    "    Lat1 = math.radians(cur_point[0])\n",
    "    Lat2 = math.radians(prev_point[0])\n",
    "    Lng1 = math.radians(cur_point[1])\n",
    "    Lng2 = math.radians(prev_point[1])\n",
    "\n",
    "    y = math.sin(Lng2-Lng1)*math.cos(Lat2)\n",
    "    x = math.cos(Lat1)*math.sin(Lat2)-math.sin(Lat1)*math.cos(Lat2)*math.cos(Lng2-Lng1)\n",
    "    z = math.atan2(y, x)\n",
    "\n",
    "    a = np.rad2deg(z)\n",
    "\n",
    "    brng = math.radians(a)\n",
    "\n",
    "    R = 6378.1\n",
    "    d = (((speed * 5) / 18) / 1000)\n",
    "\n",
    "    lat2 = math.asin(math.sin(Lat1) * math.cos(d/R) + math.cos(Lat1) * math.sin(d/R) * math.cos(brng))\n",
    "    lon2 = Lng1 + math.atan2(math.sin(brng)*math.sin(d/R)*math.cos(Lat1),math.cos(d/R)-math.sin(Lat1)*math.sin(Lat2))\n",
    "    lat2 = math.degrees(lat2)\n",
    "    lon2 = math.degrees(lon2)\n",
    "    \n",
    "    return lat2, lon2"
   ]
  }
 ],
 "metadata": {
  "kernelspec": {
   "display_name": "Python 3 (ipykernel)",
   "language": "python",
   "name": "python3"
  },
  "language_info": {
   "codemirror_mode": {
    "name": "ipython",
    "version": 3
   },
   "file_extension": ".py",
   "mimetype": "text/x-python",
   "name": "python",
   "nbconvert_exporter": "python",
   "pygments_lexer": "ipython3",
   "version": "3.7.13"
  }
 },
 "nbformat": 4,
 "nbformat_minor": 5
}
