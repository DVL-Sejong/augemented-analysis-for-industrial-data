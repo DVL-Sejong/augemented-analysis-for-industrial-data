{
 "cells": [
  {
   "cell_type": "code",
   "execution_count": 1,
   "id": "cb7fae4f",
   "metadata": {},
   "outputs": [],
   "source": [
    "import pandas as pd\n",
    "import torch\n",
    "import torch.nn as nn\n",
    "from torch.utils.data import DataLoader, TensorDataset\n",
    "import torch.optim  as optim\n",
    "import numpy as np\n",
    "import matplotlib.pyplot as plt\n",
    "import time\n",
    "from copy import deepcopy\n",
    "\n",
    "device = \"cuda\" if torch.cuda.is_available() else \"cpu\""
   ]
  },
  {
   "cell_type": "code",
   "execution_count": 130,
   "id": "df457a3d",
   "metadata": {},
   "outputs": [],
   "source": [
    "data = torch.randn((100, 170,128), requires_grad = True, device = device)\n",
    "target_ = torch.randint(0, 2, (100,), device = device)\n",
    "\n",
    "trainloader = DataLoader(TensorDataset(data, target_), \n",
    "                         batch_size=50, \n",
    "                         shuffle=True)"
   ]
  },
  {
   "cell_type": "code",
   "execution_count": 121,
   "id": "6a92240f",
   "metadata": {},
   "outputs": [],
   "source": [
    "class CNNEEG(nn.Module):\n",
    "    def __init__(self, input_channel, keep_batch_dim = True):\n",
    "        super(CNNEEG, self).__init__()\n",
    "        \n",
    "        self.input_channel = input_channel # input_feature_num\n",
    "        self.keep_batch_dim = keep_batch_dim\n",
    "        self.conv1 = nn.Sequential(nn.Conv1d(self.input_channel, self.input_channel, 8, stride=2,padding = 3, groups=self.input_channel),\n",
    "                                   nn.Conv1d(self.input_channel, 128, kernel_size = 1))\n",
    "        self.conv2 = nn.Sequential(nn.Conv1d(128, 128, 8, stride=4, padding = 4, groups=128),\n",
    "                                   nn.Conv1d(128, 64, kernel_size = 1))\n",
    "        self.conv3 = nn.Sequential(nn.Conv1d(64, 64, 8, stride=10, padding = 0, groups=64),\n",
    "                                    nn.Conv1d(64, self.input_channel, kernel_size = 1))\n",
    "        \n",
    "        self.fc = nn.Linear(self.input_channel, 1)\n",
    "        self.network = nn.Sequential(self.conv1,\n",
    "                                     self.conv2,\n",
    "                                     self.conv3,\n",
    "                                     )\n",
    "        \n",
    "        self.sigmoid = nn.Sigmoid()\n",
    "        self.softmax = nn.Softmax()\n",
    "    \n",
    "    def Flatten(self, data):\n",
    "        if self.keep_batch_dim:\n",
    "            return data.view(data.size(0), -1)\n",
    "        else:\n",
    "            return data.view(-1)\n",
    "    \n",
    "    def forward(self, X):\n",
    "    \n",
    "        pred = self.network(X)\n",
    "        pred = self.fc(self.Flatten(pred))\n",
    "        pred = self.sigmoid(pred)\n",
    "        \n",
    "        return pred"
   ]
  },
  {
   "cell_type": "code",
   "execution_count": 127,
   "id": "d0574083",
   "metadata": {},
   "outputs": [],
   "source": [
    "def restore_parameters(model, best_model):\n",
    "    '''Move parameter values from best_model to model.'''\n",
    "    for params, best_params in zip(model.parameters(), best_model.parameters()):\n",
    "        params.data = best_params\n",
    "\n",
    "def train_CNNEEG(model, trainloader, epochs, lr, device):\n",
    "    model.to(device)\n",
    "    loss_fn = nn.BCELoss()\n",
    "    optimizer = optim.Adam(model.parameters(), lr=lr)\n",
    "    history = {'loss' : []}\n",
    "    \n",
    "    best_it = None\n",
    "    best_loss = np.inf\n",
    "    best_model = None\n",
    "    \n",
    "    for epoch in range(epochs):\n",
    "        losses = []\n",
    "        for X, Y in trainloader:\n",
    "            model.zero_grad()\n",
    "            pred = model(X).squeeze(1)\n",
    "            loss = loss_fn(pred, Y.float())\n",
    "            \n",
    "            loss.backward()\n",
    "            optimizer.step()\n",
    "            losses.append(float(loss))\n",
    "        avg_loss = np.mean(losses)\n",
    "        history['loss'].append(avg_loss)\n",
    "        print(\"Epoch {} / {}: Loss = {:.3f}\".format(epoch+1, epochs, avg_loss))\n",
    "        \n",
    "        if best_loss > avg_loss:\n",
    "            best_loss = avg_loss\n",
    "            best_model =  deepcopy(model)\n",
    "            \n",
    "    restore_parameters(model, best_model)\n",
    "    \n",
    "    return history"
   ]
  },
  {
   "cell_type": "code",
   "execution_count": 131,
   "id": "d6fd2b9d",
   "metadata": {},
   "outputs": [
    {
     "name": "stdout",
     "output_type": "stream",
     "text": [
      "Epoch 1 / 10: Loss = 0.789\n",
      "Epoch 2 / 10: Loss = 0.682\n",
      "Epoch 3 / 10: Loss = 0.573\n",
      "Epoch 4 / 10: Loss = 0.379\n",
      "Epoch 5 / 10: Loss = 0.067\n",
      "Epoch 6 / 10: Loss = 0.002\n",
      "Epoch 7 / 10: Loss = 0.000\n",
      "Epoch 8 / 10: Loss = 0.000\n",
      "Epoch 9 / 10: Loss = 0.000\n",
      "Epoch 10 / 10: Loss = 0.000\n"
     ]
    }
   ],
   "source": [
    "model = CNNEEG(170)\n",
    "his = train_CNNEEG(model, trainloader, 10, 0.01, device = device)"
   ]
  },
  {
   "cell_type": "code",
   "execution_count": null,
   "id": "2714756b",
   "metadata": {},
   "outputs": [],
   "source": []
  }
 ],
 "metadata": {
  "kernelspec": {
   "display_name": "Python 3 (ipykernel)",
   "language": "python",
   "name": "python3"
  },
  "language_info": {
   "codemirror_mode": {
    "name": "ipython",
    "version": 3
   },
   "file_extension": ".py",
   "mimetype": "text/x-python",
   "name": "python",
   "nbconvert_exporter": "python",
   "pygments_lexer": "ipython3",
   "version": "3.10.4"
  }
 },
 "nbformat": 4,
 "nbformat_minor": 5
}
