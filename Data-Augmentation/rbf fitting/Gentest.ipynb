{
 "cells": [
  {
   "cell_type": "code",
   "execution_count": 19,
   "metadata": {},
   "outputs": [],
   "source": [
    "from torch.utils.data import Dataset, DataLoader\n",
    "import pandas as pd\n",
    "import numpy as np\n",
    "import torch\n",
    "from torch.utils.data import Dataset, DataLoader\n",
    "device = \"cuda\" if torch.cuda.is_available() else \"cpu\"\n",
    "\n",
    "def make_deltas(masks):\n",
    "    deltas = []\n",
    "    for h in range(len(masks)):\n",
    "        if h == 0:\n",
    "            deltas.append([1 for _ in range(masks.shape[1])])\n",
    "        else:\n",
    "            deltas.append([1 for _ in range(masks.shape[1])] + (1-masks[h]) * deltas[-1])\n",
    "    \n",
    "    return list(deltas)\n",
    "\n",
    "\n",
    "class MyDataset(Dataset):\n",
    "    def __init__(self, dataset, q):\n",
    "        self.data = dataset\n",
    "        self.q = q\n",
    "\n",
    "    def __len__(self):\n",
    "        return self.data.shape[1] // self.q\n",
    "\n",
    "    def __getitem__(self, index):\n",
    "        return self.data[:,index * self.q : index * self.q + self.q,:]\n",
    "\n",
    "def missing_data_rbf(df,rbf, batch_size, seq_len):\n",
    "    \n",
    "    values = ((df - df.mean()) / df.std()).values\n",
    "    shp = values.shape\n",
    "    rbf_df = pd.read_csv(\"./RBFresult/\" + rbf)\n",
    "    masks = ~np.isnan(values)\n",
    "    \n",
    "    masks = masks.reshape(shp)\n",
    "\n",
    "    deltas = np.array(make_deltas(masks))\n",
    "    values = torch.nan_to_num(torch.from_numpy(values).to(torch.float32))\n",
    "    masks = torch.from_numpy(masks).to(torch.float32)\n",
    "    deltas = torch.from_numpy(deltas).to(torch.float32)\n",
    "    rbf_x = torch.from_numpy(rbf_df.values).to(torch.float32)\n",
    "    dataset = torch.cat([values.unsqueeze_(0), deltas.unsqueeze_(0), masks.unsqueeze_(0), rbf_x.unsqueeze_(0)], dim = 0)\n",
    "    \n",
    "    mydata  = MyDataset(dataset, seq_len)\n",
    "    data = DataLoader(mydata, batch_size, shuffle=False)\n",
    "\n",
    "    return data\n",
    "\n",
    "def val_missing_data_rbf(df,rbf):\n",
    "    \n",
    "    values = ((df - df.mean()) / df.std()).values\n",
    "    shp = values.shape\n",
    "    rbf_df = pd.read_csv(\"./RBFresult/\" + rbf)\n",
    "    \n",
    "    masks = ~np.isnan(values)\n",
    "    \n",
    "    masks = masks.reshape(shp)\n",
    "\n",
    "    deltas = np.array(make_deltas(masks))\n",
    "    values = torch.nan_to_num(torch.from_numpy(values).to(torch.float32))\n",
    "    masks = torch.from_numpy(masks).to(torch.float32)\n",
    "    deltas = torch.from_numpy(deltas).to(torch.float32)\n",
    "    rbf_x = torch.from_numpy(rbf_df.values).to(torch.float32)\n",
    "    dataset = torch.cat([values.unsqueeze_(0), deltas.unsqueeze_(0), masks.unsqueeze_(0), rbf_x.unsqueeze_(0)], dim = 0).unsqueeze_(0)\n",
    "\n",
    "    return dataset\n",
    "\n",
    "def eval_model(model, rbf, realpath, dfpath):\n",
    "    \n",
    "    df = pd.read_csv(\"./dataset/\" + dfpath).drop(['datetime'], axis = 1)\n",
    "    dataset = val_missing_data_rbf(df,rbf)\n",
    "    dataset = dataset.to(device)\n",
    "\n",
    "    real = pd.read_csv(\"./dataset/\" + realpath).drop(['datetime'], axis = 1)\n",
    "    real_scaler = (real - df.mean()) / df.std()\n",
    "\n",
    "    df_scaler = ((df-df.mean()) / df.std()).values\n",
    "    masks = ~np.isnan(df_scaler)\n",
    "    masks = torch.from_numpy(masks).to(torch.float32)\n",
    "    \n",
    "    eval_masks = ~np.isnan(real_scaler.values)\n",
    "    eval_masks = torch.from_numpy(eval_masks).to(torch.float32)\n",
    "\n",
    "    test_masks = eval_masks - masks\n",
    "    real_scaler = torch.nan_to_num(torch.from_numpy(real_scaler.values).to(torch.float32))\n",
    "    \n",
    "    model.eval()\n",
    "    imputations, x_loss, c_hat_list = model(dataset)\n",
    "\n",
    "    Nonscale_imputataion = pd.DataFrame(c_hat_list[0].cpu().detach() , columns= df.columns)\n",
    "    Nonscale_imputataion = (Nonscale_imputataion * df.std()) + df.mean()\n",
    "    \n",
    "    real = real.fillna(0)\n",
    "    print(\"Scale MAE :\", torch.sum(torch.abs(c_hat_list[0].cpu().detach() - real_scaler) * test_masks) / torch.sum(test_masks))\n",
    "    print(\"Scale MRE :\", torch.sum(torch.abs(c_hat_list[0].cpu().detach() - real_scaler) * test_masks) / torch.sum(torch.abs(real_scaler * test_masks)))\n",
    "\n",
    "    print(\"Original MAE :\", np.sum(np.abs((Nonscale_imputataion - real).values * test_masks.cpu().numpy())) / np.sum(test_masks.cpu().numpy()))\n",
    "    print(\"Original MRE :\", np.sum(np.abs((Nonscale_imputataion - real).values * test_masks.cpu().numpy())) / np.sum(np.abs(real.values * test_masks.cpu().numpy())))\n",
    "\n",
    "    print('Train MAE :', np.sum(np.abs((Nonscale_imputataion - real).values * masks.cpu().numpy())) / np.sum(masks.cpu().numpy()))\n",
    "    print(\"Train MRE :\", np.sum(np.abs((Nonscale_imputataion - real).values * masks.cpu().numpy())) / np.sum(np.abs(real.values * masks.cpu().numpy())))\n",
    "\n",
    "    return Nonscale_imputataion"
   ]
  },
  {
   "cell_type": "code",
   "execution_count": 20,
   "metadata": {},
   "outputs": [],
   "source": [
    "dfpath = 'pm25_missing.txt'\n",
    "df = pd.read_csv(\"./dataset/\"+dfpath).drop([\"datetime\"], axis = 1)\n",
    "rbfpath = \"air_1000_0.05_time.csv\"\n",
    "batch_size = 64\n",
    "dataset = missing_data_rbf(df, rbfpath, batch_size, 64)"
   ]
  },
  {
   "cell_type": "code",
   "execution_count": 21,
   "metadata": {},
   "outputs": [],
   "source": [
    "import torch\n",
    "import torch.nn as nn\n",
    "from torch.autograd import Variable\n",
    "from torch.nn.parameter import Parameter\n",
    "import torch.nn.functional as F\n",
    "from tqdm import tqdm\n",
    "import math\n",
    "import random\n",
    "import numpy as np\n",
    "import pandas as pd\n",
    "import torch.optim as optim\n",
    "\n",
    "seed = 42\n",
    "random.seed(seed)\n",
    "np.random.seed(seed)\n",
    "torch.manual_seed(seed)\n",
    "torch.cuda.manual_seed(seed)\n",
    "torch.backends.cudnn.deterministic = True\n",
    "torch.backends.cudnn.benchmark = False\n",
    "\n",
    "\n",
    "device = \"cuda\" if torch.cuda.is_available() else \"cpu\"\n",
    "\n",
    "class FeatureRegression(nn.Module):\n",
    "    def __init__(self, input_size):\n",
    "        super(FeatureRegression, self).__init__()\n",
    "        self.build(input_size)\n",
    "\n",
    "    def build(self, input_size):\n",
    "        self.W = Parameter(torch.Tensor(input_size, input_size))\n",
    "        self.b = Parameter(torch.Tensor(input_size))\n",
    "\n",
    "        m = torch.ones(input_size, input_size).cuda() - torch.eye(input_size, input_size).cuda()\n",
    "        self.register_buffer('m', m)\n",
    "\n",
    "        self.reset_parameters()\n",
    "\n",
    "    def reset_parameters(self):\n",
    "        stdv = 1. / math.sqrt(self.W.size(0))\n",
    "        self.W.data.uniform_(-stdv, stdv)\n",
    "        if self.b is not None:\n",
    "            self.b.data.uniform_(-stdv, stdv)\n",
    "\n",
    "    def forward(self, x):\n",
    "        z_h = F.linear(x, self.W * Variable(self.m), self.b)\n",
    "        return z_h\n",
    "\n",
    "class TemporalDecay(nn.Module):\n",
    "    def __init__(self, input_size, output_size, diag = False):\n",
    "        super(TemporalDecay, self).__init__()\n",
    "        self.diag = diag\n",
    "\n",
    "        self.build(input_size, output_size)\n",
    "\n",
    "    def build(self, input_size, output_size):\n",
    "        self.W = Parameter(torch.Tensor(output_size, input_size)).cuda()\n",
    "        self.b = Parameter(torch.Tensor(output_size)).cuda()\n",
    "        self.relu = nn.ReLU(inplace=False)\n",
    "        if self.diag == True:\n",
    "            assert(input_size == output_size)\n",
    "            m = torch.eye(input_size, input_size).cuda()\n",
    "            self.register_buffer('m', m)\n",
    "\n",
    "        self.reset_parameters()\n",
    "\n",
    "    def reset_parameters(self):\n",
    "        stdv = 1. / math.sqrt(self.W.size(0))\n",
    "        self.W.data.uniform_(-stdv, stdv)\n",
    "        if self.b is not None:\n",
    "            self.b.data.uniform_(-stdv, stdv)\n",
    "\n",
    "    def forward(self, d):\n",
    "        gamma = self.relu(F.linear(d, self.W, self.b))\n",
    "        gamma = torch.exp(-gamma)\n",
    "        return gamma\n",
    "\n",
    "# Generator 모델\n",
    "class MGRU(nn.Module):\n",
    "    def __init__(self, input_size, hidden_size):\n",
    "        super(MGRU, self).__init__()\n",
    "\n",
    "        self.temp_decay_h = TemporalDecay(input_size, output_size = hidden_size, diag = False)\n",
    "        self.temp_decay_x = TemporalDecay(input_size, input_size, diag = True)\n",
    "        self.temp_decay_r = TemporalDecay(input_size, input_size, diag = True)\n",
    "        \n",
    "        self.hidden_size = hidden_size\n",
    "        self.input_size = input_size\n",
    "\n",
    "        self.build()\n",
    "\n",
    "    def build(self):\n",
    "        self.output_layer = nn.Linear(self.hidden_size, self.input_size, bias=True)\n",
    "        \n",
    "        self.z_layer = FeatureRegression(self.input_size)\n",
    "        self.beta_layer = nn.Linear(self.input_size * 2, self.input_size)\n",
    "        self.grucell = nn.GRUCell(self.input_size * 2, self.hidden_size)\n",
    "        self.concat_lyaer = nn.Linear(self.input_size * 2, self.input_size)\n",
    "        \n",
    "\n",
    "    def loss(self, hat, y, m):\n",
    "        return torch.sum(torch.abs((y - hat)) * m) / (torch.sum(m) + 1e-5)\n",
    "\n",
    "    \n",
    "    def forward(self, input):\n",
    "        values = input[:,0,::]\n",
    "        delta = input[:,1,::]\n",
    "        masks = input[:,2,::]\n",
    "        rbfs = input[:,3,::]\n",
    "\n",
    "        hid = torch.zeros((values.size(0), self.hidden_size)).cuda()\n",
    "\n",
    "        x_loss = 0.0\n",
    "        imputations = []\n",
    "        c_hat_list = []\n",
    "        for i in range(values.size(1)):\n",
    "\n",
    "            v = values[:,i,:]\n",
    "            d = delta[:,i,:]\n",
    "            m = masks[:,i,:]\n",
    "            r = rbfs[:,i,:]\n",
    "\n",
    "            gamma_x = self.temp_decay_x(d)\n",
    "            gamma_h = self.temp_decay_h(d)\n",
    "            \n",
    "            hid = hid * gamma_h\n",
    "\n",
    "            r_hat = self.temp_decay_r(r)\n",
    "            \n",
    "            x_hat = self.output_layer(hid)\n",
    "            x_loss += torch.sum(torch.abs(v - x_hat) * m) / (torch.sum(m) + 1e-5)\n",
    "\n",
    "            RG = torch.cat([x_hat, r_hat], dim = 1)\n",
    "            concat_hat = self.concat_lyaer(RG)\n",
    "            x_loss += torch.sum(torch.abs(v - concat_hat) * m) / (torch.sum(m) + 1e-5)\n",
    "\n",
    "            x_c = m * v + (1 - m) * x_hat\n",
    "\n",
    "            z_hat = self.z_layer(x_c)\n",
    "            x_loss += torch.sum(torch.abs(v - z_hat) * m) / (torch.sum(m) + 1e-5)\n",
    "\n",
    "            beta_weight = torch.cat([gamma_x, m], dim = 1)\n",
    "            beta = torch.sigmoid(self.beta_layer(beta_weight))\n",
    "\n",
    "            c_hat = beta * z_hat + (1 - beta) * x_hat\n",
    "            x_loss += torch.sum(torch.abs(v - c_hat) * m) / (torch.sum(m) + 1e-5)\n",
    "\n",
    "            c_c = m * v + (1 - m) * c_hat\n",
    "\n",
    "            gru_input = torch.cat([c_c, m], dim = 1)\n",
    "            imputations.append(c_c.unsqueeze(dim = 1))\n",
    "            c_hat_list.append(c_hat.unsqueeze(1))\n",
    "            \n",
    "            # GRU cell\n",
    "            hid = self.grucell(gru_input, hid)\n",
    "\n",
    "        c_hat_list = torch.cat(c_hat_list, dim = 1)\n",
    "        imputations = torch.cat(imputations, dim = 1)\n",
    "        return imputations, x_loss, c_hat_list\n",
    "    \n",
    "class Discriminator(nn.Module):\n",
    "    def __init__(self, input_size, hidden_size):\n",
    "        super(Discriminator, self).__init__()\n",
    "        \n",
    "        self.hidden_size = hidden_size\n",
    "        self.input_size = input_size\n",
    "\n",
    "        self.grucell = nn.GRUCell(input_size, hidden_size)\n",
    "        \n",
    "        self.fc = nn.Linear(hidden_size, input_size)\n",
    "\n",
    "    \n",
    "    def forward(self, X):\n",
    "        hid = torch.zeros((X.size(0), self.hidden_size)).cuda()\n",
    "        D_list = []\n",
    "\n",
    "        for i in range(X.size(1)):\n",
    "\n",
    "            gru_input = X[:,i,:]\n",
    "            Y_hat = torch.sigmoid(self.fc(hid))\n",
    "\n",
    "            hid = self.grucell(gru_input, hid)\n",
    "            D_list.append(Y_hat.unsqueeze(1))\n",
    "        \n",
    "        D_list = torch.cat(D_list, dim = 1)\n",
    "\n",
    "        return D_list"
   ]
  },
  {
   "cell_type": "code",
   "execution_count": 22,
   "metadata": {},
   "outputs": [],
   "source": [
    "def train_MGRU(model, lr, epochs, dataset, device):\n",
    "    optimizer = optim.Adam(model.parameters(), lr=lr)\n",
    "    model.train()\n",
    "    progress = tqdm(range(epochs))\n",
    "    \n",
    "    imputation_list = []\n",
    "    loss_list = []\n",
    "    c_hat_list2 = []\n",
    "    model.to(device)\n",
    "\n",
    "    for epoch in progress:\n",
    "        batch_loss = 0.0\n",
    "        for data in dataset:\n",
    "            data = data.to(device)\n",
    "            imputations, x_loss, c_hat_list = model(data)\n",
    "        \n",
    "            optimizer.zero_grad()\n",
    "            x_loss.backward()\n",
    "            optimizer.step()\n",
    "            \n",
    "            batch_loss += x_loss\n",
    "        progress.set_description(\"loss: {}\".format(batch_loss))\n",
    "\n",
    "    return x_loss\n",
    "    "
   ]
  },
  {
   "cell_type": "code",
   "execution_count": 23,
   "metadata": {},
   "outputs": [],
   "source": [
    "def train_MGRU(model, lr, epochs, dataset, device):\n",
    "    optimizer = optim.Adam(model.parameters(), lr=lr)\n",
    "    model.train()\n",
    "    progress = tqdm(range(epochs))\n",
    "    \n",
    "    imputation_list = []\n",
    "    loss_list = []\n",
    "    c_hat_list2 = []\n",
    "    model.to(device)\n",
    "\n",
    "    for epoch in progress:\n",
    "        batch_loss = 0.0\n",
    "        for data in dataset:\n",
    "            data = data.to(device)\n",
    "            imputations, x_loss, c_hat_list = model(data)\n",
    "        \n",
    "            optimizer.zero_grad()\n",
    "            x_loss.backward()\n",
    "            optimizer.step()\n",
    "            \n",
    "            batch_loss += x_loss\n",
    "        progress.set_description(\"loss: {}\".format(batch_loss))\n",
    "\n",
    "    return x_loss\n",
    "    "
   ]
  },
  {
   "cell_type": "code",
   "execution_count": 25,
   "metadata": {},
   "outputs": [
    {
     "name": "stderr",
     "output_type": "stream",
     "text": [
      "loss: 102.03832244873047: 100%|██████████| 1000/1000 [14:28<00:00,  1.15it/s]\n"
     ]
    },
    {
     "name": "stdout",
     "output_type": "stream",
     "text": [
      "Scale MAE : tensor(0.1931)\n",
      "Scale MRE : tensor(0.2788)\n",
      "Original MAE : 15.602317905134681\n",
      "Original MRE : 0.21916334266558632\n",
      "Train MAE : 9.867832214826137\n",
      "Train MRE : 0.1164007089212494\n"
     ]
    }
   ],
   "source": [
    "model = MGRU(36, 64)\n",
    "model.to(device)\n",
    "loss_list = train_MGRU(model, 0.001, 1000, dataset, device)\n",
    "Nonscale_imputataion = eval_model(model, rbfpath, \"pm25_ground.csv\", \"pm25_missing.csv\")"
   ]
  },
  {
   "cell_type": "code",
   "execution_count": 7,
   "metadata": {},
   "outputs": [
    {
     "name": "stderr",
     "output_type": "stream",
     "text": [
      "loss: 97.75187683105469: 100%|██████████| 1000/1000 [14:21<00:00,  1.16it/s]\n"
     ]
    },
    {
     "name": "stdout",
     "output_type": "stream",
     "text": [
      "Scale MAE : tensor(0.1768)\n",
      "Scale MRE : tensor(0.2553)\n",
      "Original MAE : 14.2635652756038\n",
      "Original MRE : 0.20035809186411582\n"
     ]
    }
   ],
   "source": [
    "model = MGRU(36, 64)\n",
    "model.to(device)\n",
    "loss_list = train_MGRU(model, 0.001, 1000, dataset, device)\n",
    "Nonscale_imputataion = eval_model(model, rbfpath, \"pm25_ground.csv\", \"pm25_missing.csv\")"
   ]
  },
  {
   "cell_type": "code",
   "execution_count": 8,
   "metadata": {},
   "outputs": [
    {
     "name": "stderr",
     "output_type": "stream",
     "text": [
      "loss: 108.84825134277344: 100%|██████████| 1000/1000 [14:32<00:00,  1.15it/s]\n"
     ]
    },
    {
     "name": "stdout",
     "output_type": "stream",
     "text": [
      "Scale MAE : tensor(0.1717)\n",
      "Scale MRE : tensor(0.2479)\n",
      "Original MAE : 13.85137359181268\n",
      "Original MRE : 0.19456809913432477\n"
     ]
    }
   ],
   "source": [
    "model = MGRU(36, 64)\n",
    "model.to(device)\n",
    "loss_list = train_MGRU(model, 0.001, 1000, dataset, device)\n",
    "Nonscale_imputataion = eval_model(model, rbfpath, \"pm25_ground.csv\", \"pm25_missing.csv\")"
   ]
  },
  {
   "cell_type": "code",
   "execution_count": 9,
   "metadata": {},
   "outputs": [
    {
     "name": "stderr",
     "output_type": "stream",
     "text": [
      "loss: 108.54731750488281: 100%|██████████| 1000/1000 [14:26<00:00,  1.15it/s]\n"
     ]
    },
    {
     "name": "stdout",
     "output_type": "stream",
     "text": [
      "Scale MAE : tensor(0.1736)\n",
      "Scale MRE : tensor(0.2506)\n",
      "Original MAE : 13.97785646138444\n",
      "Original MRE : 0.19634478440979655\n"
     ]
    }
   ],
   "source": [
    "model = MGRU(36, 64)\n",
    "model.to(device)\n",
    "loss_list = train_MGRU(model, 0.001, 1000, dataset, device)\n",
    "Nonscale_imputataion = eval_model(model, rbfpath, \"pm25_ground.csv\", \"pm25_missing.csv\")"
   ]
  },
  {
   "cell_type": "code",
   "execution_count": 17,
   "metadata": {},
   "outputs": [
    {
     "name": "stderr",
     "output_type": "stream",
     "text": [
      "loss: 113.53192138671875: 100%|██████████| 1000/1000 [12:54<00:00,  1.29it/s]\n"
     ]
    },
    {
     "name": "stdout",
     "output_type": "stream",
     "text": [
      "Scale MAE : tensor(0.1753)\n",
      "Scale MRE : tensor(0.2531)\n",
      "Original MAE : 14.139500094776402\n",
      "Original MRE : 0.19861536748791309\n",
      "Train MAE : 9.671704676288563\n",
      "Train MRE : 0.11408719324447768\n"
     ]
    }
   ],
   "source": [
    "model = MGRU(36, 64)\n",
    "model.to(device)\n",
    "loss_list = train_MGRU(model, 0.001, 1000, dataset, device)\n",
    "Nonscale_imputataion = eval_model(model, rbfpath, \"pm25_ground.csv\", \"pm25_missing.csv\")"
   ]
  },
  {
   "cell_type": "code",
   "execution_count": 18,
   "metadata": {},
   "outputs": [
    {
     "name": "stderr",
     "output_type": "stream",
     "text": [
      "loss: 97.75187683105469: 100%|██████████| 1000/1000 [14:37<00:00,  1.14it/s]\n"
     ]
    },
    {
     "name": "stdout",
     "output_type": "stream",
     "text": [
      "Scale MAE : tensor(0.1768)\n",
      "Scale MRE : tensor(0.2553)\n",
      "Original MAE : 14.2635652756038\n",
      "Original MRE : 0.20035809186411582\n",
      "Train MAE : 9.504182306608\n",
      "Train MRE : 0.11211110344415785\n"
     ]
    }
   ],
   "source": [
    "model = MGRU(36, 64)\n",
    "model.to(device)\n",
    "loss_list = train_MGRU(model, 0.001, 1000, dataset, device)\n",
    "Nonscale_imputataion = eval_model(model, rbfpath, \"pm25_ground.csv\", \"pm25_missing.csv\")"
   ]
  },
  {
   "cell_type": "code",
   "execution_count": 26,
   "metadata": {},
   "outputs": [],
   "source": [
    "dfpath = 'pm25_missing.txt'\n",
    "df = pd.read_csv(\"./dataset/\"+dfpath).drop([\"datetime\"], axis = 1)\n",
    "rbfpath = \"air_20_8.0_scale.csv\"\n",
    "batch_size = 64\n",
    "dataset = missing_data_rbf(df, rbfpath, batch_size, 64)"
   ]
  },
  {
   "cell_type": "code",
   "execution_count": 27,
   "metadata": {},
   "outputs": [
    {
     "name": "stderr",
     "output_type": "stream",
     "text": [
      "loss: 102.06137084960938: 100%|██████████| 1000/1000 [12:51<00:00,  1.30it/s]\n"
     ]
    },
    {
     "name": "stdout",
     "output_type": "stream",
     "text": [
      "Scale MAE : tensor(0.1824)\n",
      "Scale MRE : tensor(0.2634)\n",
      "Original MAE : 14.786748656331092\n",
      "Original MRE : 0.2077071677670969\n",
      "Train MAE : 9.859373299496665\n",
      "Train MRE : 0.11630092776165732\n"
     ]
    }
   ],
   "source": [
    "model = MGRU(36, 64)\n",
    "model.to(device)\n",
    "loss_list = train_MGRU(model, 0.001, 1000, dataset, device)\n",
    "Nonscale_imputataion = eval_model(model, rbfpath, \"pm25_ground.csv\", \"pm25_missing.csv\")"
   ]
  },
  {
   "cell_type": "code",
   "execution_count": null,
   "metadata": {},
   "outputs": [],
   "source": []
  }
 ],
 "metadata": {
  "kernelspec": {
   "display_name": "cooling",
   "language": "python",
   "name": "python3"
  },
  "language_info": {
   "codemirror_mode": {
    "name": "ipython",
    "version": 3
   },
   "file_extension": ".py",
   "mimetype": "text/x-python",
   "name": "python",
   "nbconvert_exporter": "python",
   "pygments_lexer": "ipython3",
   "version": "3.10.4"
  },
  "orig_nbformat": 4
 },
 "nbformat": 4,
 "nbformat_minor": 2
}
