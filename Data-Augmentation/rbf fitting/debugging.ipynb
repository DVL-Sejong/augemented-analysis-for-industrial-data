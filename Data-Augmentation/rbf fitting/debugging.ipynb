{
 "cells": [
  {
   "cell_type": "code",
   "execution_count": 1,
   "metadata": {},
   "outputs": [],
   "source": [
    "import torch\n",
    "import torch.nn as nn\n",
    "import matplotlib.pyplot as plt\n",
    "from matplotlib.pyplot import style\n",
    "style.use('seaborn-whitegrid')\n",
    "\n",
    "device = \"cuda\" if torch.cuda.is_available() else \"cpu\""
   ]
  },
  {
   "cell_type": "code",
   "execution_count": 23,
   "metadata": {},
   "outputs": [],
   "source": [
    "def first_rbf_parameter( input_data, target): # done\n",
    "        \n",
    "    find_index_input = input_data.clone().detach()\n",
    "    fine_index_target = target.clone().detach()\n",
    "    find_sigma = target.clone().detach()\n",
    "    \n",
    "    target_std = target.std()\n",
    "    \n",
    "    find_weight = target.clone().detach()\n",
    "    center_index_list = []\n",
    "\n",
    "    for i in range(5):\n",
    "        index_ = torch.argmax(torch.sum(torch.abs(fine_index_target), dim = 0)).cpu().detach().tolist()\n",
    "        fine_index_target[:,:,index_] = 0\n",
    "        center_index_list.append(index_)\n",
    "\n",
    "    center_index_list = torch.tensor(center_index_list, device=device)\n",
    "    initcenter = torch.index_select(find_index_input, 0, center_index_list)\n",
    "    initweight = torch.index_select(find_weight, 2, center_index_list)\n",
    "                    \n",
    "    sigma_list = []\n",
    "    dft = torch.log(torch.abs(torch.fft.fft(find_sigma).real))\n",
    "    dft =  torch.abs(dft / torch.max(dft)) **-1\n",
    "    for k in center_index_list:\n",
    "        sigma_list.append(torch.mean(dft[:,:,k]).reshape(1))\n",
    "\n",
    "    initsigma = torch.cat(sigma_list)\n",
    "    \n",
    "    return initcenter[-5:], initweight[-5:], initsigma[-5:]"
   ]
  },
  {
   "cell_type": "code",
   "execution_count": 24,
   "metadata": {},
   "outputs": [],
   "source": [
    "import numpy as np\n",
    "a = np.arange(0,10,0.05)\n",
    "    \n",
    "y = 2*a**3 - 16*a**2 + 2*a -10\n",
    "y2 = 3*a**2 -16*a - 30\n",
    "y3 = 5*a**2 +25*a - a**3\n",
    "\n",
    "target = np.array((y,y2,y3))\n",
    "target = torch.tensor(target, device = device).reshape(3,1,200)\n",
    "input_ = torch.tensor(a, device = device)"
   ]
  },
  {
   "cell_type": "code",
   "execution_count": 25,
   "metadata": {},
   "outputs": [],
   "source": [
    "cent, weig, sig = first_rbf_parameter(input_, target)\n",
    "radial_layer_centers = cent.reshape(5, 1)\n",
    "radial_sigma = sig.reshape(5, 1)\n",
    "weights = weig.reshape(target.size(0),5)"
   ]
  },
  {
   "cell_type": "code",
   "execution_count": 35,
   "metadata": {},
   "outputs": [],
   "source": [
    "def rbf_gaussian(input_data):\n",
    "    output = torch.exp(-1 * (torch.pow((input_ - radial_layer_centers), 2) / \\\n",
    "                                (torch.pow(radial_sigma, 2))))\n",
    "\n",
    "    return output  # size = (num_rbf, 1)"
   ]
  },
  {
   "cell_type": "code",
   "execution_count": 43,
   "metadata": {},
   "outputs": [],
   "source": [
    "rbf_output = rbf_gaussian(input_)"
   ]
  },
  {
   "cell_type": "code",
   "execution_count": 47,
   "metadata": {},
   "outputs": [],
   "source": [
    "B = torch.mm(weights, rbf_output)"
   ]
  },
  {
   "cell_type": "code",
   "execution_count": 48,
   "metadata": {},
   "outputs": [
    {
     "data": {
      "text/plain": [
       "torch.Size([3, 200])"
      ]
     },
     "execution_count": 48,
     "metadata": {},
     "output_type": "execute_result"
    }
   ],
   "source": [
    "B.size()"
   ]
  },
  {
   "cell_type": "code",
   "execution_count": 69,
   "metadata": {},
   "outputs": [
    {
     "data": {
      "text/plain": [
       "torch.Size([3, 1, 200])"
      ]
     },
     "execution_count": 69,
     "metadata": {},
     "output_type": "execute_result"
    }
   ],
   "source": [
    "target.size()"
   ]
  },
  {
   "cell_type": "code",
   "execution_count": 12,
   "metadata": {},
   "outputs": [],
   "source": [
    "def first_grad(input_data, target):  \n",
    "    space = (input_data,)\n",
    "    f_grad = torch.gradient(target, spacing = space, dim =2,edge_order  = 1)\n",
    "    return f_grad[0]"
   ]
  },
  {
   "cell_type": "code",
   "execution_count": 32,
   "metadata": {},
   "outputs": [],
   "source": [
    "fg = first_grad(input_, target).size()"
   ]
  },
  {
   "cell_type": "code",
   "execution_count": 29,
   "metadata": {},
   "outputs": [],
   "source": [
    "def rbf_gradient(input_data, centers, sigmas, weights): # done\n",
    "    rbf_output = (-2 * (input_data-centers) / torch.pow(sigmas,2)) * \\\n",
    "                    (torch.exp(-1 * (torch.pow((input_data - centers), 2) / (torch.pow(sigmas, 2)))))\n",
    "    rbf_grad = torch.mm(weights.reshape(3, 5), rbf_output)\n",
    "    \n",
    "    return rbf_grad.reshape(3, 1, input_data.size(-1))"
   ]
  },
  {
   "cell_type": "code",
   "execution_count": 43,
   "metadata": {},
   "outputs": [],
   "source": [
    "rg = rbf_gradient(input_, radial_layer_centers, radial_sigma, weights)"
   ]
  },
  {
   "cell_type": "code",
   "execution_count": 44,
   "metadata": {},
   "outputs": [
    {
     "data": {
      "text/plain": [
       "torch.Size([3, 1, 200])"
      ]
     },
     "execution_count": 44,
     "metadata": {},
     "output_type": "execute_result"
    }
   ],
   "source": [
    "rg.size()"
   ]
  },
  {
   "cell_type": "code",
   "execution_count": null,
   "metadata": {},
   "outputs": [],
   "source": []
  },
  {
   "cell_type": "code",
   "execution_count": null,
   "metadata": {},
   "outputs": [],
   "source": [
    "def rbf_gaussian(input_data):\n",
    "    output = torch.exp(-1 * (torch.pow((input_ - radial_layer_centers), 2) / \\\n",
    "                                (torch.pow(radial_sigma, 2))))\n",
    "\n",
    "    return output  # size = (num_rbf, 1)\n",
    "\n",
    "def rbf_gradient(input_data, centers, sigmas, weights): # done\n",
    "    rbf_output = (-2 * (input_data-centers) / torch.pow(sigmas,2)) * \\\n",
    "                    (torch.exp(-1 * (torch.pow((input_data - centers), 2) / (torch.pow(sigmas, 2)))))\n",
    "    rbf_grad = torch.mm(weights.reshape(3, 5), rbf_output)\n",
    "    \n",
    "    return rbf_grad.reshape(3, 1, input_data.size(-1))\n",
    "\n",
    "def first_grad(input_data, target): #done\n",
    "    space = (input_data,)\n",
    "    f_grad = torch.gradient(target[0], spacing = space, dim = 2, edge_order  = 1)\n",
    "    return f_grad[0]\n",
    "    \n",
    "def target_grad(input_data, centers, sigmas, weights, f_grad): # done\n",
    "    true_grad = f_grad - rbf_gradient(input_data, centers, sigmas, weights)\n",
    "    \n",
    "    return true_grad"
   ]
  },
  {
   "cell_type": "code",
   "execution_count": 45,
   "metadata": {},
   "outputs": [],
   "source": [
    "fg = first_grad(input_, target)"
   ]
  },
  {
   "cell_type": "code",
   "execution_count": 46,
   "metadata": {},
   "outputs": [
    {
     "data": {
      "text/plain": [
       "torch.Size([3, 1, 200])"
      ]
     },
     "execution_count": 46,
     "metadata": {},
     "output_type": "execute_result"
    }
   ],
   "source": [
    "fg.size()"
   ]
  },
  {
   "cell_type": "code",
   "execution_count": 131,
   "metadata": {},
   "outputs": [],
   "source": [
    "def forward(input_data): # done\n",
    "    rbf_output = rbf_gaussian(input_data)\n",
    "    pred = torch.mm(weights.reshape(3, 5), rbf_output)\n",
    "\n",
    "    return rbf_output, pred"
   ]
  },
  {
   "cell_type": "code",
   "execution_count": 132,
   "metadata": {},
   "outputs": [
    {
     "ename": "RuntimeError",
     "evalue": "The size of tensor a (200) must match the size of tensor b (5) at non-singleton dimension 0",
     "output_type": "error",
     "traceback": [
      "\u001b[1;31m---------------------------------------------------------------------------\u001b[0m",
      "\u001b[1;31mRuntimeError\u001b[0m                              Traceback (most recent call last)",
      "\u001b[1;32mc:\\Users\\chanyoung\\Desktop\\seqRBF\\debugging.ipynb Cell 20\u001b[0m in \u001b[0;36m<cell line: 1>\u001b[1;34m()\u001b[0m\n\u001b[1;32m----> <a href='vscode-notebook-cell:/c%3A/Users/chanyoung/Desktop/seqRBF/debugging.ipynb#X53sZmlsZQ%3D%3D?line=0'>1</a>\u001b[0m R, pred  \u001b[39m=\u001b[39m forward(input_)\n",
      "\u001b[1;32mc:\\Users\\chanyoung\\Desktop\\seqRBF\\debugging.ipynb Cell 20\u001b[0m in \u001b[0;36mforward\u001b[1;34m(input_data)\u001b[0m\n\u001b[0;32m      <a href='vscode-notebook-cell:/c%3A/Users/chanyoung/Desktop/seqRBF/debugging.ipynb#X53sZmlsZQ%3D%3D?line=0'>1</a>\u001b[0m \u001b[39mdef\u001b[39;00m \u001b[39mforward\u001b[39m(input_data): \u001b[39m# done\u001b[39;00m\n\u001b[1;32m----> <a href='vscode-notebook-cell:/c%3A/Users/chanyoung/Desktop/seqRBF/debugging.ipynb#X53sZmlsZQ%3D%3D?line=1'>2</a>\u001b[0m     rbf_output \u001b[39m=\u001b[39m rbf_gaussian(input_data)\n\u001b[0;32m      <a href='vscode-notebook-cell:/c%3A/Users/chanyoung/Desktop/seqRBF/debugging.ipynb#X53sZmlsZQ%3D%3D?line=2'>3</a>\u001b[0m     pred \u001b[39m=\u001b[39m torch\u001b[39m.\u001b[39mmm(weights\u001b[39m.\u001b[39mreshape(\u001b[39m3\u001b[39m, \u001b[39m5\u001b[39m), rbf_output)\n\u001b[0;32m      <a href='vscode-notebook-cell:/c%3A/Users/chanyoung/Desktop/seqRBF/debugging.ipynb#X53sZmlsZQ%3D%3D?line=4'>5</a>\u001b[0m     \u001b[39mreturn\u001b[39;00m rbf_output, pred\n",
      "\u001b[1;32mc:\\Users\\chanyoung\\Desktop\\seqRBF\\debugging.ipynb Cell 20\u001b[0m in \u001b[0;36mrbf_gaussian\u001b[1;34m(input_data)\u001b[0m\n\u001b[0;32m      <a href='vscode-notebook-cell:/c%3A/Users/chanyoung/Desktop/seqRBF/debugging.ipynb#X53sZmlsZQ%3D%3D?line=0'>1</a>\u001b[0m \u001b[39mdef\u001b[39;00m \u001b[39mrbf_gaussian\u001b[39m(input_data):\n\u001b[1;32m----> <a href='vscode-notebook-cell:/c%3A/Users/chanyoung/Desktop/seqRBF/debugging.ipynb#X53sZmlsZQ%3D%3D?line=1'>2</a>\u001b[0m     output \u001b[39m=\u001b[39m torch\u001b[39m.\u001b[39mexp(\u001b[39m-\u001b[39m\u001b[39m1\u001b[39m \u001b[39m*\u001b[39m (torch\u001b[39m.\u001b[39mpow((input_ \u001b[39m-\u001b[39;49m radial_layer_centers), \u001b[39m2\u001b[39m) \u001b[39m/\u001b[39m \\\n\u001b[0;32m      <a href='vscode-notebook-cell:/c%3A/Users/chanyoung/Desktop/seqRBF/debugging.ipynb#X53sZmlsZQ%3D%3D?line=2'>3</a>\u001b[0m                                 (torch\u001b[39m.\u001b[39mpow(radial_sigma, \u001b[39m2\u001b[39m))))\n\u001b[0;32m      <a href='vscode-notebook-cell:/c%3A/Users/chanyoung/Desktop/seqRBF/debugging.ipynb#X53sZmlsZQ%3D%3D?line=4'>5</a>\u001b[0m     \u001b[39mreturn\u001b[39;00m output\n",
      "\u001b[1;31mRuntimeError\u001b[0m: The size of tensor a (200) must match the size of tensor b (5) at non-singleton dimension 0"
     ]
    }
   ],
   "source": [
    "R, pred  = forward(input_)"
   ]
  },
  {
   "cell_type": "code",
   "execution_count": 40,
   "metadata": {},
   "outputs": [
    {
     "data": {
      "text/plain": [
       "torch.Size([5, 200])"
      ]
     },
     "execution_count": 40,
     "metadata": {},
     "output_type": "execute_result"
    }
   ],
   "source": [
    "R.size()"
   ]
  },
  {
   "cell_type": "code",
   "execution_count": 41,
   "metadata": {},
   "outputs": [
    {
     "data": {
      "text/plain": [
       "torch.Size([3, 200])"
      ]
     },
     "execution_count": 41,
     "metadata": {},
     "output_type": "execute_result"
    }
   ],
   "source": [
    "pred.size()"
   ]
  },
  {
   "cell_type": "code",
   "execution_count": 48,
   "metadata": {},
   "outputs": [],
   "source": [
    "L2_2_error = -2 * (fg - rg)"
   ]
  },
  {
   "cell_type": "code",
   "execution_count": 49,
   "metadata": {},
   "outputs": [
    {
     "data": {
      "text/plain": [
       "torch.Size([3, 1, 200])"
      ]
     },
     "execution_count": 49,
     "metadata": {},
     "output_type": "execute_result"
    }
   ],
   "source": [
    "L2_2_error.size()"
   ]
  },
  {
   "cell_type": "code",
   "execution_count": 55,
   "metadata": {},
   "outputs": [
    {
     "data": {
      "text/plain": [
       "torch.Size([3, 200])"
      ]
     },
     "execution_count": 55,
     "metadata": {},
     "output_type": "execute_result"
    }
   ],
   "source": [
    "pred.size()"
   ]
  },
  {
   "cell_type": "code",
   "execution_count": 56,
   "metadata": {},
   "outputs": [
    {
     "data": {
      "text/plain": [
       "torch.Size([3, 1, 200])"
      ]
     },
     "execution_count": 56,
     "metadata": {},
     "output_type": "execute_result"
    }
   ],
   "source": [
    "target.size()"
   ]
  },
  {
   "cell_type": "code",
   "execution_count": 57,
   "metadata": {},
   "outputs": [
    {
     "data": {
      "text/plain": [
       "torch.Size([3, 1, 200])"
      ]
     },
     "execution_count": 57,
     "metadata": {},
     "output_type": "execute_result"
    }
   ],
   "source": [
    "L2_1_error = -2 * (target - pred.reshape(3,1,200))\n",
    "L2_1_error.size()"
   ]
  },
  {
   "cell_type": "code",
   "execution_count": 50,
   "metadata": {},
   "outputs": [],
   "source": [
    "def rbf_gaussian_derivative_sigma( input_data): # done\n",
    "    output = (2 * torch.pow((input_data - radial_layer_centers), 2) / \\\n",
    "                (torch.pow(radial_sigma, 3))) * rbf_gaussian(input_data)\n",
    "\n",
    "    return output  # size = (num_radial, 1)"
   ]
  },
  {
   "cell_type": "code",
   "execution_count": 53,
   "metadata": {},
   "outputs": [
    {
     "data": {
      "text/plain": [
       "torch.Size([3, 5])"
      ]
     },
     "execution_count": 53,
     "metadata": {},
     "output_type": "execute_result"
    }
   ],
   "source": [
    "weights.size()"
   ]
  },
  {
   "cell_type": "code",
   "execution_count": 52,
   "metadata": {},
   "outputs": [
    {
     "data": {
      "text/plain": [
       "torch.Size([5, 200])"
      ]
     },
     "execution_count": 52,
     "metadata": {},
     "output_type": "execute_result"
    }
   ],
   "source": [
    "rbf_gaussian_derivative_sigma(input_)"
   ]
  },
  {
   "cell_type": "code",
   "execution_count": 66,
   "metadata": {},
   "outputs": [],
   "source": [
    "deltaSigma1 = rbf_gaussian_derivative_sigma(input_) * L2_1_error\n",
    "deltaSigma1 *= weights[0].reshape(3, 5, 1)\n"
   ]
  },
  {
   "cell_type": "code",
   "execution_count": 67,
   "metadata": {},
   "outputs": [
    {
     "data": {
      "text/plain": [
       "torch.Size([5, 200])"
      ]
     },
     "execution_count": 67,
     "metadata": {},
     "output_type": "execute_result"
    }
   ],
   "source": [
    "deltaSigma1.size()"
   ]
  },
  {
   "cell_type": "code",
   "execution_count": 69,
   "metadata": {},
   "outputs": [],
   "source": [
    "def L2_F( input_data): #done\n",
    "    return -2 * (input_data - radial_layer_centers) / torch.pow(radial_sigma, 2)"
   ]
  },
  {
   "cell_type": "code",
   "execution_count": 71,
   "metadata": {},
   "outputs": [
    {
     "data": {
      "text/plain": [
       "torch.Size([5, 200])"
      ]
     },
     "execution_count": 71,
     "metadata": {},
     "output_type": "execute_result"
    }
   ],
   "source": [
    "L2_F(input_).size()"
   ]
  },
  {
   "cell_type": "code",
   "execution_count": 72,
   "metadata": {},
   "outputs": [],
   "source": [
    "deltaSigma2 = rbf_gaussian_derivative_sigma(input_) * L2_2_error\n",
    "deltaSigma2 *= L2_F(input_) * weights.reshape(3, 5, 1)"
   ]
  },
  {
   "cell_type": "code",
   "execution_count": 73,
   "metadata": {},
   "outputs": [
    {
     "data": {
      "text/plain": [
       "torch.Size([3, 5, 200])"
      ]
     },
     "execution_count": 73,
     "metadata": {},
     "output_type": "execute_result"
    }
   ],
   "source": [
    "deltaSigma2.size()"
   ]
  },
  {
   "cell_type": "code",
   "execution_count": 122,
   "metadata": {},
   "outputs": [],
   "source": [
    "deltaSigma1 = rbf_gaussian_derivative_sigma(input_) * L2_1_error\n",
    "deltaSigma1 *= weights.reshape(3, 5, 1)\n",
    "\n",
    "deltaSigma2 = rbf_gaussian_derivative_sigma(input_) * L2_2_error\n",
    "deltaSigma2 *= L2_F(input_) * weights.reshape(3, 5, 1)\n",
    "deltaSigma =  torch.mean(torch.sum(deltaSigma1, dim=2) + torch.sum(deltaSigma2, dim=2), dim = 0)"
   ]
  },
  {
   "cell_type": "code",
   "execution_count": 123,
   "metadata": {},
   "outputs": [
    {
     "data": {
      "text/plain": [
       "torch.Size([5])"
      ]
     },
     "execution_count": 123,
     "metadata": {},
     "output_type": "execute_result"
    }
   ],
   "source": [
    "deltaSigma.size()"
   ]
  },
  {
   "cell_type": "code",
   "execution_count": 86,
   "metadata": {},
   "outputs": [
    {
     "data": {
      "text/plain": [
       "torch.Size([5])"
      ]
     },
     "execution_count": 86,
     "metadata": {},
     "output_type": "execute_result"
    }
   ],
   "source": [
    "torch.mean(deltaSigma, dim = 0).size()"
   ]
  },
  {
   "cell_type": "code",
   "execution_count": 87,
   "metadata": {},
   "outputs": [
    {
     "data": {
      "text/plain": [
       "torch.Size([3, 5])"
      ]
     },
     "execution_count": 87,
     "metadata": {},
     "output_type": "execute_result"
    }
   ],
   "source": [
    "weights.size()"
   ]
  },
  {
   "cell_type": "code",
   "execution_count": 90,
   "metadata": {},
   "outputs": [
    {
     "data": {
      "text/plain": [
       "torch.Size([3, 1, 200])"
      ]
     },
     "execution_count": 90,
     "metadata": {},
     "output_type": "execute_result"
    }
   ],
   "source": [
    "L2_1_error.size()"
   ]
  },
  {
   "cell_type": "code",
   "execution_count": 91,
   "metadata": {},
   "outputs": [
    {
     "data": {
      "text/plain": [
       "torch.Size([3, 5, 200])"
      ]
     },
     "execution_count": 91,
     "metadata": {},
     "output_type": "execute_result"
    }
   ],
   "source": [
    "(R * L2_1_error).size()"
   ]
  },
  {
   "cell_type": "code",
   "execution_count": 92,
   "metadata": {},
   "outputs": [
    {
     "data": {
      "text/plain": [
       "torch.Size([5])"
      ]
     },
     "execution_count": 92,
     "metadata": {},
     "output_type": "execute_result"
    }
   ],
   "source": [
    "delta_weight1 = torch.sum((R * L2_1_error)[0], dim=1)\n",
    "delta_weight1.size()"
   ]
  },
  {
   "cell_type": "code",
   "execution_count": 93,
   "metadata": {},
   "outputs": [
    {
     "data": {
      "text/plain": [
       "torch.Size([3, 5])"
      ]
     },
     "execution_count": 93,
     "metadata": {},
     "output_type": "execute_result"
    }
   ],
   "source": [
    "delta_weight1 = torch.sum((R * L2_1_error), dim=2)\n",
    "delta_weight1.size()"
   ]
  },
  {
   "cell_type": "code",
   "execution_count": 88,
   "metadata": {},
   "outputs": [],
   "source": [
    "delta_weight1 = torch.sum((R * L2_1_error), dim=2)\n",
    "# delta_weight1 = delta_weight1.reshape(3, 1, 5)"
   ]
  },
  {
   "cell_type": "code",
   "execution_count": 94,
   "metadata": {},
   "outputs": [],
   "source": [
    "def L2_2_derivateive_weight( input_data, radial_output):\n",
    "    return (-2 *(input_data - radial_layer_centers) / torch.pow(radial_sigma,2)) * radial_output"
   ]
  },
  {
   "cell_type": "code",
   "execution_count": 97,
   "metadata": {},
   "outputs": [
    {
     "data": {
      "text/plain": [
       "torch.Size([5, 200])"
      ]
     },
     "execution_count": 97,
     "metadata": {},
     "output_type": "execute_result"
    }
   ],
   "source": [
    "L2_2_derivateive_weight(input_, R).size()"
   ]
  },
  {
   "cell_type": "code",
   "execution_count": 101,
   "metadata": {},
   "outputs": [
    {
     "data": {
      "text/plain": [
       "tensor([[-2.4100e+00, -8.4000e-01,  2.2700e+00,  5.3200e+00,  8.3100e+00,\n",
       "          1.1240e+01,  1.4110e+01,  1.6920e+01,  1.9670e+01,  2.2360e+01,\n",
       "          2.4990e+01,  2.7560e+01,  3.0070e+01,  3.2520e+01,  3.4910e+01,\n",
       "          3.7240e+01,  3.9510e+01,  4.1720e+01,  4.3870e+01,  4.5960e+01,\n",
       "          4.7990e+01,  4.9960e+01,  5.1870e+01,  5.3720e+01,  5.5510e+01,\n",
       "          5.7240e+01,  5.8910e+01,  6.0520e+01,  6.2070e+01,  6.3560e+01,\n",
       "          6.4990e+01,  6.6360e+01,  6.7670e+01,  6.8920e+01,  7.0110e+01,\n",
       "          7.1240e+01,  7.2310e+01,  7.3320e+01,  7.4270e+01,  7.5160e+01,\n",
       "          7.5990e+01,  7.6760e+01,  7.7470e+01,  7.8120e+01,  7.8710e+01,\n",
       "          7.9241e+01,  7.9711e+01,  8.0121e+01,  8.0471e+01,  8.0761e+01,\n",
       "          8.0992e+01,  8.1162e+01,  8.1272e+01,  8.1323e+01,  8.1313e+01,\n",
       "          8.1244e+01,  8.1115e+01,  8.0926e+01,  8.0677e+01,  8.0368e+01,\n",
       "          8.0000e+01,  7.9572e+01,  7.9084e+01,  7.8537e+01,  7.7930e+01,\n",
       "          7.7264e+01,  7.6538e+01,  7.5753e+01,  7.4909e+01,  7.4007e+01,\n",
       "          7.3045e+01,  7.2025e+01,  7.0946e+01,  6.9810e+01,  6.8615e+01,\n",
       "          6.7363e+01,  6.6055e+01,  6.4689e+01,  6.3267e+01,  6.1790e+01,\n",
       "          6.0258e+01,  5.8672e+01,  5.7033e+01,  5.5341e+01,  5.3598e+01,\n",
       "          5.1805e+01,  4.9963e+01,  4.8073e+01,  4.6139e+01,  4.4160e+01,\n",
       "          4.2141e+01,  4.0082e+01,  3.7986e+01,  3.5857e+01,  3.3698e+01,\n",
       "          3.1512e+01,  2.9304e+01,  2.7078e+01,  2.4838e+01,  2.2591e+01,\n",
       "          2.0342e+01,  1.8098e+01,  1.5866e+01,  1.3655e+01,  1.1472e+01,\n",
       "          9.3276e+00,  7.2321e+00,  5.1968e+00,  3.2342e+00,  1.3577e+00,\n",
       "         -4.1812e-01, -2.0773e+00, -3.6027e+00, -4.9758e+00, -6.1765e+00,\n",
       "         -7.1832e+00, -7.9727e+00, -8.5200e+00, -8.7984e+00, -8.7791e+00,\n",
       "         -8.4316e+00, -7.7231e+00, -6.6188e+00, -5.0816e+00, -3.0722e+00,\n",
       "         -5.4899e-01,  2.5322e+00,  6.2178e+00,  1.0557e+01,  1.5601e+01,\n",
       "          2.1404e+01,  2.8023e+01,  3.5516e+01,  4.3945e+01,  5.3375e+01,\n",
       "          6.3870e+01,  7.5499e+01,  8.8334e+01,  1.0244e+02,  1.1791e+02,\n",
       "          1.3479e+02,  1.5318e+02,  1.7314e+02,  1.9476e+02,  2.1810e+02,\n",
       "          2.4325e+02,  2.7027e+02,  2.9924e+02,  3.3021e+02,  3.6324e+02,\n",
       "          3.9839e+02,  4.3570e+02,  4.7519e+02,  5.1690e+02,  5.6081e+02,\n",
       "          6.0692e+02,  6.5518e+02,  7.0554e+02,  7.5790e+02,  8.1215e+02,\n",
       "          8.6813e+02,  9.2564e+02,  9.8445e+02,  1.0443e+03,  1.1048e+03,\n",
       "          1.1655e+03,  1.2262e+03,  1.2862e+03,  1.3449e+03,  1.4019e+03,\n",
       "          1.4564e+03,  1.5076e+03,  1.5549e+03,  1.5973e+03,  1.6341e+03,\n",
       "          1.6644e+03,  1.6873e+03,  1.7019e+03,  1.7074e+03,  1.7029e+03,\n",
       "          1.6876e+03,  1.6608e+03,  1.6219e+03,  1.5703e+03,  1.5056e+03,\n",
       "          1.4277e+03,  1.3362e+03,  1.2314e+03,  1.1133e+03,  9.8245e+02,\n",
       "          8.3937e+02,  6.8484e+02,  5.1978e+02,  3.4532e+02,  1.6271e+02,\n",
       "         -2.6648e+01, -2.2123e+02, -4.1941e+02, -6.1952e+02, -8.1545e+02]],\n",
       "       device='cuda:0', dtype=torch.float64)"
      ]
     },
     "execution_count": 101,
     "metadata": {},
     "output_type": "execute_result"
    }
   ],
   "source": [
    "L2_2_error[0].reshape(1,200)"
   ]
  },
  {
   "cell_type": "code",
   "execution_count": 111,
   "metadata": {},
   "outputs": [
    {
     "data": {
      "text/plain": [
       "torch.Size([3, 5])"
      ]
     },
     "execution_count": 111,
     "metadata": {},
     "output_type": "execute_result"
    }
   ],
   "source": [
    "weights.size()"
   ]
  },
  {
   "cell_type": "code",
   "execution_count": 109,
   "metadata": {},
   "outputs": [
    {
     "data": {
      "text/plain": [
       "torch.Size([3, 5])"
      ]
     },
     "execution_count": 109,
     "metadata": {},
     "output_type": "execute_result"
    }
   ],
   "source": [
    "torch.sum((L2_2_derivateive_weight(input_, R)) * L2_2_error, dim = 2).size()"
   ]
  },
  {
   "cell_type": "code",
   "execution_count": 89,
   "metadata": {},
   "outputs": [
    {
     "data": {
      "text/plain": [
       "torch.Size([3, 200])"
      ]
     },
     "execution_count": 89,
     "metadata": {},
     "output_type": "execute_result"
    }
   ],
   "source": [
    "delta_weight2 = torch.sum((L2_2_derivateive_weight(input_data, R) * L2_2_error), dim = 1)\n",
    "delta_weight2 = delta_weight2.reshape(3, 1, 5)\n",
    "delta_weight = delta_weight1 + delta_weight2"
   ]
  },
  {
   "cell_type": "code",
   "execution_count": 115,
   "metadata": {},
   "outputs": [],
   "source": [
    "delta_weight1 = torch.sum((R * L2_1_error), dim=2)  #(in_feature, add_rbf_num)\n",
    "# delta_weight1 = delta_weight1.reshape(3, 1, 5)\n",
    "\n",
    "delta_weight2 = torch.sum((L2_2_derivateive_weight(input_, R) * L2_2_error), dim = 2)\n",
    "# delta_weight2 = delta_weight2.reshape(3, 1, 5)\n",
    "delta_weight = delta_weight1 + delta_weight2"
   ]
  },
  {
   "cell_type": "code",
   "execution_count": 116,
   "metadata": {},
   "outputs": [
    {
     "data": {
      "text/plain": [
       "tensor([[ 74542.1486,  82628.6870,  87331.9519,  90447.3154,  92661.7393],\n",
       "        [ 21159.3312,  23089.9276,  24091.8163,  24626.7304,  24833.5405],\n",
       "        [-45206.4535, -50172.5155, -53094.2915, -55072.8345, -56551.7174]],\n",
       "       device='cuda:0', dtype=torch.float64)"
      ]
     },
     "execution_count": 116,
     "metadata": {},
     "output_type": "execute_result"
    }
   ],
   "source": [
    "delta_weight"
   ]
  },
  {
   "cell_type": "code",
   "execution_count": 125,
   "metadata": {},
   "outputs": [],
   "source": [
    "add_rbf_number = 5"
   ]
  },
  {
   "cell_type": "code",
   "execution_count": 147,
   "metadata": {},
   "outputs": [],
   "source": [
    "def first_rbf_parameter(input_data, target): # done\n",
    "        \n",
    "    find_index_input = input_data.clone().detach()\n",
    "    fine_index_target = target.clone().detach()\n",
    "    find_sigma = target.clone().detach()\n",
    "    \n",
    "    target_std = target.std()\n",
    "    \n",
    "    find_weight = target.clone().detach()\n",
    "    center_index_list = []\n",
    "\n",
    "    for i in range(add_rbf_number):\n",
    "        index_ = torch.argmax(torch.sum(torch.abs(fine_index_target), dim = 0)).cpu().detach().tolist()\n",
    "        fine_index_target[:,:,index_] = 0\n",
    "        center_index_list.append(index_)\n",
    "    print(center_index_list)\n",
    "\n",
    "    center_index_list = torch.tensor(center_index_list, device=device)\n",
    "    initcenter = torch.index_select(find_index_input, 0, center_index_list)\n",
    "    initweight = torch.index_select(find_weight, 2, center_index_list)\n",
    "                    \n",
    "    sigma_list = []\n",
    "    dft = torch.log(torch.abs(torch.fft.fft(find_sigma).real))\n",
    "    dft =  torch.abs(dft / torch.max(dft)) **-1\n",
    "    for k in center_index_list:\n",
    "        sigma_list.append(torch.mean(dft[:,:,k]).reshape(1))\n",
    "\n",
    "    initsigma = torch.cat(sigma_list)\n",
    "\n",
    "\n",
    "    return initcenter[-add_rbf_number:].reshape(add_rbf_number,1), initweight[-add_rbf_number:].reshape(3, add_rbf_number), initsigma[-add_rbf_number:].reshape(add_rbf_number, 1)"
   ]
  },
  {
   "cell_type": "code",
   "execution_count": 148,
   "metadata": {},
   "outputs": [
    {
     "name": "stdout",
     "output_type": "stream",
     "text": [
      "[199, 198, 197, 196, 195]\n"
     ]
    }
   ],
   "source": [
    "radial_layer_centers, weights, radial_sigma = first_rbf_parameter(input_, target)"
   ]
  },
  {
   "cell_type": "code",
   "execution_count": 149,
   "metadata": {},
   "outputs": [
    {
     "name": "stdout",
     "output_type": "stream",
     "text": [
      "torch.Size([200])\n",
      "torch.Size([3, 1, 200])\n"
     ]
    }
   ],
   "source": [
    "# input, target size\n",
    "print(input_.size())\n",
    "print(target.size())"
   ]
  },
  {
   "cell_type": "code",
   "execution_count": 150,
   "metadata": {},
   "outputs": [
    {
     "name": "stdout",
     "output_type": "stream",
     "text": [
      "torch.Size([5, 1])\n",
      "torch.Size([5, 1])\n",
      "torch.Size([3, 5])\n"
     ]
    }
   ],
   "source": [
    "# initial size\n",
    "print(radial_layer_centers.size())\n",
    "print(radial_sigma.size())\n",
    "print(weights.size())"
   ]
  },
  {
   "cell_type": "code",
   "execution_count": 162,
   "metadata": {},
   "outputs": [],
   "source": [
    "def rbf_gaussian(input_data):\n",
    "    output = torch.exp(-1 * (torch.pow((input_ - radial_layer_centers), 2) / \\\n",
    "                                (torch.pow(radial_sigma, 2))))\n",
    "\n",
    "    return output  # size = (num_rbf, 1)\n",
    "\n",
    "def forward(input_data): # done\n",
    "    rbf_output = rbf_gaussian(input_data)\n",
    "    pred = torch.mm(weights, rbf_output)\n",
    "\n",
    "    return rbf_output, pred\n",
    "\n",
    "def rbf_gradient(input_data, centers, sigmas, weights): # done\n",
    "    rbf_output = (-2 * (input_data-centers) / torch.pow(sigmas,2)) * \\\n",
    "                    (torch.exp(-1 * (torch.pow((input_data - centers), 2) / (torch.pow(sigmas, 2)))))\n",
    "    rbf_grad = torch.mm(weights, rbf_output)\n",
    "    \n",
    "    return rbf_grad.reshape(3,1,200)\n",
    "\n",
    "def first_grad(input_data, target): #done\n",
    "    space = (input_data,)\n",
    "    f_grad = torch.gradient(target, spacing = space, dim = 2, edge_order  = 1)\n",
    "    return f_grad[0]\n",
    "    \n",
    "def target_grad(input_data, centers, sigmas, weights, f_grad): # done\n",
    "    true_grad = f_grad - rbf_gradient(input_data, centers, sigmas, weights)\n",
    "    \n",
    "    return true_grad"
   ]
  },
  {
   "cell_type": "code",
   "execution_count": 152,
   "metadata": {},
   "outputs": [],
   "source": [
    "R, pred = forward(input_)"
   ]
  },
  {
   "cell_type": "code",
   "execution_count": 153,
   "metadata": {},
   "outputs": [
    {
     "name": "stdout",
     "output_type": "stream",
     "text": [
      "torch.Size([5, 200])\n",
      "torch.Size([3, 200])\n"
     ]
    }
   ],
   "source": [
    "print(R.size())\n",
    "print(pred.size())"
   ]
  },
  {
   "cell_type": "code",
   "execution_count": 158,
   "metadata": {},
   "outputs": [],
   "source": [
    "rg = rbf_gradient(input_, radial_layer_centers, radial_sigma, weights)"
   ]
  },
  {
   "cell_type": "code",
   "execution_count": 159,
   "metadata": {},
   "outputs": [
    {
     "name": "stdout",
     "output_type": "stream",
     "text": [
      "torch.Size([3, 200])\n"
     ]
    }
   ],
   "source": [
    "print(rg.size())"
   ]
  },
  {
   "cell_type": "code",
   "execution_count": 163,
   "metadata": {},
   "outputs": [],
   "source": [
    "fg = first_grad(input_, target)"
   ]
  },
  {
   "cell_type": "code",
   "execution_count": 165,
   "metadata": {},
   "outputs": [
    {
     "name": "stdout",
     "output_type": "stream",
     "text": [
      "torch.Size([3, 1, 200])\n"
     ]
    }
   ],
   "source": [
    "print(fg.size())"
   ]
  },
  {
   "cell_type": "code",
   "execution_count": 166,
   "metadata": {},
   "outputs": [],
   "source": [
    "L2_1_error = -2 * (target - pred.reshape(3,1,200))\n",
    "L2_2_error = -2 * (fg - rg.reshape(3,1,200))"
   ]
  },
  {
   "cell_type": "code",
   "execution_count": 168,
   "metadata": {},
   "outputs": [
    {
     "name": "stdout",
     "output_type": "stream",
     "text": [
      "torch.Size([3, 1, 200])\n",
      "torch.Size([3, 1, 200])\n"
     ]
    }
   ],
   "source": [
    "print(L2_1_error.size())\n",
    "print(L2_2_error.size())"
   ]
  },
  {
   "cell_type": "code",
   "execution_count": 213,
   "metadata": {},
   "outputs": [],
   "source": [
    "def L2_F( input_data):\n",
    "    return -2 * (input_data - radial_layer_centers) / torch.pow(radial_sigma, 2)"
   ]
  },
  {
   "cell_type": "code",
   "execution_count": 215,
   "metadata": {},
   "outputs": [
    {
     "data": {
      "text/plain": [
       "torch.Size([5, 200])"
      ]
     },
     "execution_count": 215,
     "metadata": {},
     "output_type": "execute_result"
    }
   ],
   "source": [
    "L2_F(input_).size()"
   ]
  },
  {
   "cell_type": "code",
   "execution_count": 169,
   "metadata": {},
   "outputs": [],
   "source": [
    "def rbf_gaussian_derivative_sigma( input_data): # done\n",
    "    output = (2 * torch.pow((input_data - radial_layer_centers), 2) / \\\n",
    "                (torch.pow(radial_sigma, 3))) * rbf_gaussian(input_data)\n",
    "\n",
    "    return output  # size = (num_radial, 1)"
   ]
  },
  {
   "cell_type": "code",
   "execution_count": 170,
   "metadata": {},
   "outputs": [
    {
     "name": "stdout",
     "output_type": "stream",
     "text": [
      "torch.Size([5, 200])\n"
     ]
    }
   ],
   "source": [
    "der_sigma = rbf_gaussian_derivative_sigma(input_)\n",
    "print(der_sigma.size())"
   ]
  },
  {
   "cell_type": "code",
   "execution_count": 184,
   "metadata": {},
   "outputs": [
    {
     "data": {
      "text/plain": [
       "tensor([[1.0165e-31, 2.3548e-31, 5.4744e-31, 1.2769e-30, 2.9871e-30, 7.0050e-30,\n",
       "         1.6458e-29, 3.8710e-29, 9.1087e-29, 2.1427e-28, 5.0353e-28, 1.1813e-27,\n",
       "         2.7651e-27, 6.4541e-27, 1.5016e-26, 3.4805e-26, 8.0351e-26, 1.8469e-25,\n",
       "         4.2259e-25, 9.6232e-25, 2.1806e-24, 4.9160e-24, 1.1026e-23, 2.4599e-23,\n",
       "         5.4591e-23, 1.2050e-22, 2.6455e-22, 5.7768e-22, 1.2546e-21, 2.7099e-21,\n",
       "         5.8217e-21, 1.2439e-20, 2.6434e-20, 5.5873e-20, 1.1746e-19, 2.4562e-19,\n",
       "         5.1086e-19, 1.0569e-18, 2.1748e-18, 4.4518e-18, 9.0646e-18, 1.8360e-17,\n",
       "         3.6994e-17, 7.4151e-17, 1.4786e-16, 2.9331e-16, 5.7883e-16, 1.1364e-15,\n",
       "         2.2197e-15, 4.3136e-15, 8.3399e-15, 1.6043e-14, 3.0703e-14, 5.8464e-14,\n",
       "         1.1077e-13, 2.0880e-13, 3.9163e-13, 7.3088e-13, 1.3572e-12, 2.5077e-12,\n",
       "         4.6103e-12, 8.4339e-12, 1.5352e-11, 2.7807e-11, 5.0119e-11, 8.9885e-11,\n",
       "         1.6041e-10, 2.8486e-10, 5.0339e-10, 8.8518e-10, 1.5489e-09, 2.6970e-09,\n",
       "         4.6731e-09, 8.0575e-09, 1.3825e-08, 2.3605e-08, 4.0107e-08, 6.7813e-08,\n",
       "         1.1410e-07, 1.9104e-07, 3.1830e-07, 5.2774e-07, 8.7075e-07, 1.4297e-06,\n",
       "         2.3360e-06, 3.7981e-06, 6.1453e-06, 9.8947e-06, 1.5854e-05, 2.5278e-05,\n",
       "         4.0107e-05, 6.3326e-05, 9.9499e-05, 1.5557e-04, 2.4205e-04, 3.7477e-04,\n",
       "         5.7741e-04, 8.8528e-04, 1.3507e-03, 2.0507e-03, 3.0982e-03, 4.6579e-03,\n",
       "         6.9685e-03, 1.0375e-02, 1.5370e-02, 2.2659e-02, 3.3243e-02, 4.8532e-02,\n",
       "         7.0508e-02, 1.0194e-01, 1.4666e-01, 2.0999e-01, 2.9922e-01, 4.2431e-01,\n",
       "         5.9882e-01, 8.4108e-01, 1.1757e+00, 1.6358e+00, 2.2654e+00, 3.1226e+00,\n",
       "         4.2845e+00, 5.8521e+00, 7.9573e+00, 1.0772e+01, 1.4519e+01, 1.9485e+01,\n",
       "         2.6040e+01, 3.4656e+01, 4.5938e+01, 6.0653e+01, 7.9775e+01, 1.0454e+02,\n",
       "         1.3649e+02, 1.7758e+02, 2.3027e+02, 2.9762e+02, 3.8346e+02, 4.9256e+02,\n",
       "         6.3085e+02, 8.0567e+02, 1.0261e+03, 1.3034e+03, 1.6512e+03, 2.0864e+03,\n",
       "         2.6296e+03, 3.3056e+03, 4.1446e+03, 5.1827e+03, 6.4631e+03, 8.0369e+03,\n",
       "         9.9646e+03, 1.2317e+04, 1.5174e+04, 1.8632e+04, 2.2794e+04, 2.7782e+04,\n",
       "         3.3725e+04, 4.0768e+04, 4.9064e+04, 5.8775e+04, 7.0064e+04, 8.3095e+04,\n",
       "         9.8025e+04, 1.1499e+05, 1.3412e+05, 1.5547e+05, 1.7910e+05, 2.0496e+05,\n",
       "         2.3297e+05, 2.6294e+05, 2.9459e+05, 3.2754e+05, 3.6130e+05, 3.9528e+05,\n",
       "         4.2877e+05, 4.6096e+05, 4.9099e+05, 5.1793e+05, 5.4082e+05, 5.5874e+05,\n",
       "         5.7081e+05, 5.7627e+05, 5.7451e+05, 5.6512e+05, 5.4794e+05, 5.2308e+05,\n",
       "         4.9094e+05, 4.5225e+05, 4.0802e+05, 3.5954e+05, 3.0833e+05, 2.5609e+05,\n",
       "         2.0462e+05, 1.5575e+05, 1.1124e+05, 7.2672e+04, 4.1413e+04, 1.8505e+04,\n",
       "         4.6151e+03, 0.0000e+00],\n",
       "        [1.4739e-20, 2.6313e-20, 4.7201e-20, 8.5064e-20, 1.5395e-19, 2.7967e-19,\n",
       "         5.0964e-19, 9.3099e-19, 1.7036e-18, 3.1205e-18, 5.7175e-18, 1.0472e-17,\n",
       "         1.9161e-17, 3.5006e-17, 6.3829e-17, 1.1610e-16, 2.1062e-16, 3.8090e-16,\n",
       "         6.8660e-16, 1.2333e-15, 2.2074e-15, 3.9358e-15, 6.9903e-15, 1.2366e-14,\n",
       "         2.1789e-14, 3.8236e-14, 6.6822e-14, 1.1630e-13, 2.0158e-13, 3.4795e-13,\n",
       "         5.9811e-13, 1.0239e-12, 1.7456e-12, 2.9638e-12, 5.0115e-12, 8.4396e-12,\n",
       "         1.4155e-11, 2.3646e-11, 3.9340e-11, 6.5191e-11, 1.0760e-10, 1.7689e-10,\n",
       "         2.8966e-10, 4.7247e-10, 7.6764e-10, 1.2424e-09, 2.0029e-09, 3.2166e-09,\n",
       "         5.1460e-09, 8.2012e-09, 1.3021e-08, 2.0594e-08, 3.2450e-08, 5.0938e-08,\n",
       "         7.9660e-08, 1.2411e-07, 1.9265e-07, 2.9793e-07, 4.5903e-07, 7.0464e-07,\n",
       "         1.0777e-06, 1.6422e-06, 2.4931e-06, 3.7712e-06, 5.6837e-06, 8.5349e-06,\n",
       "         1.2770e-05, 1.9036e-05, 2.8276e-05, 4.1847e-05, 6.1708e-05, 9.0667e-05,\n",
       "         1.3274e-04, 1.9362e-04, 2.8143e-04, 4.0757e-04, 5.8814e-04, 8.4565e-04,\n",
       "         1.2116e-03, 1.7295e-03, 2.4601e-03, 3.4868e-03, 4.9241e-03, 6.9291e-03,\n",
       "         9.7154e-03, 1.3573e-02, 1.8895e-02, 2.6209e-02, 3.6224e-02, 4.9885e-02,\n",
       "         6.8452e-02, 9.3593e-02, 1.2751e-01, 1.7308e-01, 2.3411e-01, 3.1551e-01,\n",
       "         4.2369e-01, 5.6690e-01, 7.5580e-01, 1.0040e+00, 1.3289e+00, 1.7526e+00,\n",
       "         2.3031e+00, 3.0157e+00, 3.9344e+00, 5.1146e+00, 6.6250e+00, 8.5506e+00,\n",
       "         1.0996e+01, 1.4091e+01, 1.7993e+01, 2.2893e+01, 2.9025e+01, 3.6670e+01,\n",
       "         4.6167e+01, 5.7921e+01, 7.2416e+01, 9.0230e+01, 1.1205e+02, 1.3867e+02,\n",
       "         1.7105e+02, 2.1031e+02, 2.5776e+02, 3.1491e+02, 3.8355e+02, 4.6575e+02,\n",
       "         5.6392e+02, 6.8084e+02, 8.1973e+02, 9.8435e+02, 1.1790e+03, 1.4088e+03,\n",
       "         1.6793e+03, 1.9974e+03, 2.3708e+03, 2.8084e+03, 3.3207e+03, 3.9194e+03,\n",
       "         4.6184e+03, 5.4337e+03, 6.3835e+03, 7.4887e+03, 8.7734e+03, 1.0265e+04,\n",
       "         1.1995e+04, 1.3997e+04, 1.6312e+04, 1.8984e+04, 2.2060e+04, 2.5595e+04,\n",
       "         2.9646e+04, 3.4276e+04, 3.9550e+04, 4.5538e+04, 5.2309e+04, 5.9935e+04,\n",
       "         6.8485e+04, 7.8022e+04, 8.8605e+04, 1.0028e+05, 1.1308e+05, 1.2702e+05,\n",
       "         1.4209e+05, 1.5825e+05, 1.7544e+05, 1.9356e+05, 2.1246e+05, 2.3195e+05,\n",
       "         2.5180e+05, 2.7174e+05, 2.9144e+05, 3.1055e+05, 3.2866e+05, 3.4535e+05,\n",
       "         3.6017e+05, 3.7268e+05, 3.8243e+05, 3.8901e+05, 3.9206e+05, 3.9127e+05,\n",
       "         3.8642e+05, 3.7737e+05, 3.6414e+05, 3.4682e+05, 3.2568e+05, 3.0109e+05,\n",
       "         2.7359e+05, 2.4380e+05, 2.1249e+05, 1.8049e+05, 1.4868e+05, 1.1800e+05,\n",
       "         8.9328e+04, 6.3538e+04, 4.1398e+04, 2.3561e+04, 1.0529e+04, 2.6298e+03,\n",
       "         0.0000e+00, 2.5744e+03],\n",
       "        [1.4446e-14, 2.2392e-14, 3.4902e-14, 5.4690e-14, 8.6124e-14, 1.3623e-13,\n",
       "         2.1631e-13, 3.4455e-13, 5.5015e-13, 8.7990e-13, 1.4087e-12, 2.2561e-12,\n",
       "         3.6121e-12, 5.7786e-12, 9.2326e-12, 1.4726e-11, 2.3441e-11, 3.7225e-11,\n",
       "         5.8962e-11, 9.3134e-11, 1.4668e-10, 2.3029e-10, 3.6043e-10, 5.6227e-10,\n",
       "         8.7422e-10, 1.3547e-09, 2.0921e-09, 3.2198e-09, 4.9385e-09, 7.5486e-09,\n",
       "         1.1499e-08, 1.7456e-08, 2.6408e-08, 3.9817e-08, 5.9830e-08, 8.9600e-08,\n",
       "         1.3373e-07, 1.9894e-07, 2.9496e-07, 4.3588e-07, 6.4201e-07, 9.4256e-07,\n",
       "         1.3793e-06, 2.0119e-06, 2.9254e-06, 4.2399e-06, 6.1257e-06, 8.8225e-06,\n",
       "         1.2667e-05, 1.8129e-05, 2.5866e-05, 3.6792e-05, 5.2173e-05, 7.3756e-05,\n",
       "         1.0395e-04, 1.4606e-04, 2.0461e-04, 2.8577e-04, 3.9791e-04, 5.5241e-04,\n",
       "         7.6461e-04, 1.0552e-03, 1.4518e-03, 1.9917e-03, 2.7243e-03, 3.7154e-03,\n",
       "         5.0520e-03, 6.8495e-03, 9.2593e-03, 1.2480e-02, 1.6773e-02, 2.2476e-02,\n",
       "         3.0031e-02, 4.0010e-02, 5.3148e-02, 7.0397e-02, 9.2973e-02, 1.2243e-01,\n",
       "         1.6077e-01, 2.1049e-01, 2.7479e-01, 3.5770e-01, 4.6428e-01, 6.0087e-01,\n",
       "         7.7541e-01, 9.9776e-01, 1.2801e+00, 1.6377e+00, 2.0891e+00, 2.6572e+00,\n",
       "         3.3700e+00, 4.2616e+00, 5.3736e+00, 6.7560e+00, 8.4694e+00, 1.0587e+01,\n",
       "         1.3195e+01, 1.6398e+01, 2.0319e+01, 2.5104e+01, 3.0927e+01, 3.7989e+01,\n",
       "         4.6529e+01, 5.6822e+01, 6.9192e+01, 8.4010e+01, 1.0171e+02, 1.2277e+02,\n",
       "         1.4778e+02, 1.7737e+02, 2.1226e+02, 2.5331e+02, 3.0142e+02, 3.5767e+02,\n",
       "         4.2322e+02, 4.9939e+02, 5.8765e+02, 6.8962e+02, 8.0711e+02, 9.4211e+02,\n",
       "         1.0968e+03, 1.2736e+03, 1.4753e+03, 1.7047e+03, 1.9650e+03, 2.2599e+03,\n",
       "         2.5932e+03, 2.9692e+03, 3.3929e+03, 3.8693e+03, 4.4045e+03, 5.0049e+03,\n",
       "         5.6778e+03, 6.4315e+03, 7.2749e+03, 8.2182e+03, 9.2730e+03, 1.0452e+04,\n",
       "         1.1769e+04, 1.3241e+04, 1.4885e+04, 1.6722e+04, 1.8772e+04, 2.1060e+04,\n",
       "         2.3612e+04, 2.6457e+04, 2.9625e+04, 3.3148e+04, 3.7061e+04, 4.1398e+04,\n",
       "         4.6195e+04, 5.1489e+04, 5.7314e+04, 6.3703e+04, 7.0685e+04, 7.8284e+04,\n",
       "         8.6518e+04, 9.5397e+04, 1.0492e+05, 1.1507e+05, 1.2583e+05, 1.3714e+05,\n",
       "         1.4895e+05, 1.6117e+05, 1.7369e+05, 1.8639e+05, 1.9912e+05, 2.1169e+05,\n",
       "         2.2391e+05, 2.3558e+05, 2.4644e+05, 2.5627e+05, 2.6481e+05, 2.7181e+05,\n",
       "         2.7702e+05, 2.8023e+05, 2.8123e+05, 2.7985e+05, 2.7598e+05, 2.6955e+05,\n",
       "         2.6054e+05, 2.4902e+05, 2.3512e+05, 2.1904e+05, 2.0106e+05, 1.8153e+05,\n",
       "         1.6087e+05, 1.3954e+05, 1.1805e+05, 9.6932e+04, 7.6737e+04, 5.7996e+04,\n",
       "         4.1216e+04, 2.6852e+04, 1.5293e+04, 6.8440e+03, 1.7134e+03, 0.0000e+00,\n",
       "         1.6891e+03, 6.6497e+03],\n",
       "        [2.4490e-10, 3.4312e-10, 4.8363e-10, 6.8566e-10, 9.7741e-10, 1.4002e-09,\n",
       "         2.0146e-09, 2.9092e-09, 4.2134e-09, 6.1156e-09, 8.8898e-09, 1.2933e-08,\n",
       "         1.8820e-08, 2.7378e-08, 3.9797e-08, 5.7780e-08, 8.3761e-08, 1.2120e-07,\n",
       "         1.7501e-07, 2.5214e-07, 3.6237e-07, 5.1945e-07, 7.4264e-07, 1.0588e-06,\n",
       "         1.5053e-06, 2.1340e-06, 3.0165e-06, 4.2516e-06, 5.9748e-06, 8.3719e-06,\n",
       "         1.1696e-05, 1.6293e-05, 2.2631e-05, 3.1342e-05, 4.3282e-05, 5.9599e-05,\n",
       "         8.1833e-05, 1.1204e-04, 1.5298e-04, 2.0828e-04, 2.8279e-04, 3.8290e-04,\n",
       "         5.1702e-04, 6.9624e-04, 9.3504e-04, 1.2524e-03, 1.6730e-03, 2.2289e-03,\n",
       "         2.9617e-03, 3.9252e-03, 5.1886e-03, 6.8410e-03, 8.9963e-03, 1.1800e-02,\n",
       "         1.5439e-02, 2.0149e-02, 2.6229e-02, 3.4058e-02, 4.4114e-02, 5.6996e-02,\n",
       "         7.3457e-02, 9.4439e-02, 1.2111e-01, 1.5494e-01, 1.9773e-01, 2.5173e-01,\n",
       "         3.1968e-01, 4.0500e-01, 5.1184e-01, 6.4530e-01, 8.1160e-01, 1.0183e+00,\n",
       "         1.2746e+00, 1.5915e+00, 1.9824e+00, 2.4635e+00, 3.0540e+00, 3.7769e+00,\n",
       "         4.6598e+00, 5.7354e+00, 7.0423e+00, 8.6265e+00, 1.0542e+01, 1.2851e+01,\n",
       "         1.5630e+01, 1.8964e+01, 2.2953e+01, 2.7716e+01, 3.3387e+01, 4.0122e+01,\n",
       "         4.8101e+01, 5.7528e+01, 6.8638e+01, 8.1697e+01, 9.7007e+01, 1.1491e+02,\n",
       "         1.3579e+02, 1.6008e+02, 1.8826e+02, 2.2086e+02, 2.5850e+02, 3.0181e+02,\n",
       "         3.5153e+02, 4.0847e+02, 4.7348e+02, 5.4752e+02, 6.3163e+02, 7.2691e+02,\n",
       "         8.3457e+02, 9.5589e+02, 1.0923e+03, 1.2451e+03, 1.4161e+03, 1.6068e+03,\n",
       "         1.8189e+03, 2.0544e+03, 2.3151e+03, 2.6031e+03, 2.9204e+03, 3.2694e+03,\n",
       "         3.6523e+03, 4.0717e+03, 4.5300e+03, 5.0301e+03, 5.5749e+03, 6.1674e+03,\n",
       "         6.8110e+03, 7.5093e+03, 8.2663e+03, 9.0862e+03, 9.9738e+03, 1.0934e+04,\n",
       "         1.1974e+04, 1.3098e+04, 1.4315e+04, 1.5632e+04, 1.7059e+04, 1.8605e+04,\n",
       "         2.0282e+04, 2.2101e+04, 2.4076e+04, 2.6221e+04, 2.8552e+04, 3.1085e+04,\n",
       "         3.3838e+04, 3.6828e+04, 4.0076e+04, 4.3599e+04, 4.7416e+04, 5.1545e+04,\n",
       "         5.6004e+04, 6.0805e+04, 6.5962e+04, 7.1482e+04, 7.7368e+04, 8.3620e+04,\n",
       "         9.0228e+04, 9.7177e+04, 1.0444e+05, 1.1198e+05, 1.1976e+05, 1.2772e+05,\n",
       "         1.3578e+05, 1.4387e+05, 1.5189e+05, 1.5974e+05, 1.6730e+05, 1.7444e+05,\n",
       "         1.8103e+05, 1.8692e+05, 1.9197e+05, 1.9603e+05, 1.9897e+05, 2.0066e+05,\n",
       "         2.0097e+05, 1.9981e+05, 1.9710e+05, 1.9280e+05, 1.8689e+05, 1.7939e+05,\n",
       "         1.7038e+05, 1.5994e+05, 1.4824e+05, 1.3545e+05, 1.2181e+05, 1.0758e+05,\n",
       "         9.3055e+04, 7.8550e+04, 6.4394e+04, 5.0925e+04, 3.8471e+04, 2.7343e+04,\n",
       "         1.7826e+04, 1.0166e+04, 4.5581e+03, 1.1440e+03, 0.0000e+00, 1.1354e+03,\n",
       "         4.4893e+03, 9.9312e+03],\n",
       "        [9.2495e-07, 1.1876e-06, 1.5347e-06, 1.9958e-06, 2.6107e-06, 3.4335e-06,\n",
       "         4.5372e-06, 6.0203e-06, 8.0150e-06, 1.0699e-05, 1.4309e-05, 1.9161e-05,\n",
       "         2.5677e-05, 3.4412e-05, 4.6103e-05, 6.1720e-05, 8.2536e-05, 1.1022e-04,\n",
       "         1.4695e-04, 1.9555e-04, 2.5971e-04, 3.4419e-04, 4.5512e-04, 6.0042e-04,\n",
       "         7.9022e-04, 1.0375e-03, 1.3588e-03, 1.7752e-03, 2.3135e-03, 3.0075e-03,\n",
       "         3.8999e-03, 5.0446e-03, 6.5091e-03, 8.3781e-03, 1.0757e-02, 1.3779e-02,\n",
       "         1.7606e-02, 2.2443e-02, 2.8540e-02, 3.6209e-02, 4.5831e-02, 5.7876e-02,\n",
       "         7.2917e-02, 9.1659e-02, 1.1496e-01, 1.4385e-01, 1.7961e-01, 2.2377e-01,\n",
       "         2.7816e-01, 3.4503e-01, 4.2704e-01, 5.2742e-01, 6.4999e-01, 7.9936e-01,\n",
       "         9.8098e-01, 1.2013e+00, 1.4681e+00, 1.7904e+00, 2.1790e+00, 2.6465e+00,\n",
       "         3.2076e+00, 3.8799e+00, 4.6835e+00, 5.6422e+00, 6.7834e+00, 8.1390e+00,\n",
       "         9.7461e+00, 1.1647e+01, 1.3892e+01, 1.6536e+01, 1.9644e+01, 2.3290e+01,\n",
       "         2.7559e+01, 3.2546e+01, 3.8361e+01, 4.5125e+01, 5.2978e+01, 6.2076e+01,\n",
       "         7.2594e+01, 8.4729e+01, 9.8699e+01, 1.1475e+02, 1.3314e+02, 1.5419e+02,\n",
       "         1.7821e+02, 2.0558e+02, 2.3668e+02, 2.7196e+02, 3.1188e+02, 3.5697e+02,\n",
       "         4.0777e+02, 4.6489e+02, 5.2897e+02, 6.0070e+02, 6.8082e+02, 7.7011e+02,\n",
       "         8.6939e+02, 9.7954e+02, 1.1015e+03, 1.2361e+03, 1.3845e+03, 1.5477e+03,\n",
       "         1.7266e+03, 1.9225e+03, 2.1364e+03, 2.3693e+03, 2.6226e+03, 2.8972e+03,\n",
       "         3.1943e+03, 3.5150e+03, 3.8604e+03, 4.2316e+03, 4.6297e+03, 5.0556e+03,\n",
       "         5.5103e+03, 5.9948e+03, 6.5100e+03, 7.0567e+03, 7.6358e+03, 8.2481e+03,\n",
       "         8.8945e+03, 9.5759e+03, 1.0293e+04, 1.1047e+04, 1.1839e+04, 1.2670e+04,\n",
       "         1.3542e+04, 1.4456e+04, 1.5414e+04, 1.6418e+04, 1.7471e+04, 1.8576e+04,\n",
       "         1.9737e+04, 2.0958e+04, 2.2243e+04, 2.3598e+04, 2.5028e+04, 2.6541e+04,\n",
       "         2.8144e+04, 2.9844e+04, 3.1651e+04, 3.3572e+04, 3.5619e+04, 3.7800e+04,\n",
       "         4.0125e+04, 4.2603e+04, 4.5245e+04, 4.8058e+04, 5.1050e+04, 5.4227e+04,\n",
       "         5.7593e+04, 6.1150e+04, 6.4896e+04, 6.8827e+04, 7.2935e+04, 7.7208e+04,\n",
       "         8.1627e+04, 8.6169e+04, 9.0807e+04, 9.5505e+04, 1.0022e+05, 1.0491e+05,\n",
       "         1.0952e+05, 1.1398e+05, 1.1824e+05, 1.2222e+05, 1.2585e+05, 1.2905e+05,\n",
       "         1.3173e+05, 1.3384e+05, 1.3527e+05, 1.3598e+05, 1.3588e+05, 1.3493e+05,\n",
       "         1.3307e+05, 1.3029e+05, 1.2656e+05, 1.2190e+05, 1.1632e+05, 1.0989e+05,\n",
       "         1.0266e+05, 9.4743e+04, 8.6246e+04, 7.7311e+04, 6.8095e+04, 5.8772e+04,\n",
       "         4.9528e+04, 4.0556e+04, 3.2053e+04, 2.4211e+04, 1.7215e+04, 1.1234e+04,\n",
       "         6.4154e+03, 2.8823e+03, 7.2517e+02, 0.0000e+00, 7.2449e+02, 2.8764e+03,\n",
       "         6.3928e+03, 1.1171e+04]], device='cuda:0', dtype=torch.float64)"
      ]
     },
     "execution_count": 184,
     "metadata": {},
     "output_type": "execute_result"
    }
   ],
   "source": [
    "(rbf_gaussian_derivative_sigma(input_) * L2_1_error)[0] * weights.reshape(3, add_rbf_number, 1)[0]"
   ]
  },
  {
   "cell_type": "code",
   "execution_count": 190,
   "metadata": {},
   "outputs": [
    {
     "data": {
      "text/plain": [
       "tensor([[0., 0., 0., 0., 0., 0., 0., 0., 0., 0., 0., 0., 0., 0., 0., 0., 0., 0., 0., 0., 0., 0., 0., 0.,\n",
       "         0., 0., 0., 0., 0., 0., 0., 0., 0., 0., 0., 0., 0., 0., 0., 0., 0., 0., 0., 0., 0., 0., 0., 0.,\n",
       "         0., 0., 0., 0., 0., 0., 0., 0., 0., 0., 0., 0., 0., 0., 0., 0., 0., 0., 0., 0., 0., 0., 0., 0.,\n",
       "         0., 0., 0., 0., 0., 0., 0., 0., 0., 0., 0., 0., 0., 0., 0., 0., 0., 0., 0., 0., 0., 0., 0., 0.,\n",
       "         0., 0., 0., 0., 0., 0., 0., 0., 0., 0., 0., 0., 0., 0., 0., 0., 0., 0., 0., 0., 0., 0., 0., 0.,\n",
       "         0., 0., 0., 0., 0., 0., 0., 0., 0., 0., 0., 0., 0., 0., 0., 0., 0., 0., 0., 0., 0., 0., 0., 0.,\n",
       "         0., 0., 0., 0., 0., 0., 0., 0., 0., 0., 0., 0., 0., 0., 0., 0., 0., 0., 0., 0., 0., 0., 0., 0.,\n",
       "         0., 0., 0., 0., 0., 0., 0., 0., 0., 0., 0., 0., 0., 0., 0., 0., 0., 0., 0., 0., 0., 0., 0., 0.,\n",
       "         0., 0., 0., 0., 0., 0., 0., 0.],\n",
       "        [0., 0., 0., 0., 0., 0., 0., 0., 0., 0., 0., 0., 0., 0., 0., 0., 0., 0., 0., 0., 0., 0., 0., 0.,\n",
       "         0., 0., 0., 0., 0., 0., 0., 0., 0., 0., 0., 0., 0., 0., 0., 0., 0., 0., 0., 0., 0., 0., 0., 0.,\n",
       "         0., 0., 0., 0., 0., 0., 0., 0., 0., 0., 0., 0., 0., 0., 0., 0., 0., 0., 0., 0., 0., 0., 0., 0.,\n",
       "         0., 0., 0., 0., 0., 0., 0., 0., 0., 0., 0., 0., 0., 0., 0., 0., 0., 0., 0., 0., 0., 0., 0., 0.,\n",
       "         0., 0., 0., 0., 0., 0., 0., 0., 0., 0., 0., 0., 0., 0., 0., 0., 0., 0., 0., 0., 0., 0., 0., 0.,\n",
       "         0., 0., 0., 0., 0., 0., 0., 0., 0., 0., 0., 0., 0., 0., 0., 0., 0., 0., 0., 0., 0., 0., 0., 0.,\n",
       "         0., 0., 0., 0., 0., 0., 0., 0., 0., 0., 0., 0., 0., 0., 0., 0., 0., 0., 0., 0., 0., 0., 0., 0.,\n",
       "         0., 0., 0., 0., 0., 0., 0., 0., 0., 0., 0., 0., 0., 0., 0., 0., 0., 0., 0., 0., 0., 0., 0., 0.,\n",
       "         0., 0., 0., 0., 0., 0., 0., 0.],\n",
       "        [0., 0., 0., 0., 0., 0., 0., 0., 0., 0., 0., 0., 0., 0., 0., 0., 0., 0., 0., 0., 0., 0., 0., 0.,\n",
       "         0., 0., 0., 0., 0., 0., 0., 0., 0., 0., 0., 0., 0., 0., 0., 0., 0., 0., 0., 0., 0., 0., 0., 0.,\n",
       "         0., 0., 0., 0., 0., 0., 0., 0., 0., 0., 0., 0., 0., 0., 0., 0., 0., 0., 0., 0., 0., 0., 0., 0.,\n",
       "         0., 0., 0., 0., 0., 0., 0., 0., 0., 0., 0., 0., 0., 0., 0., 0., 0., 0., 0., 0., 0., 0., 0., 0.,\n",
       "         0., 0., 0., 0., 0., 0., 0., 0., 0., 0., 0., 0., 0., 0., 0., 0., 0., 0., 0., 0., 0., 0., 0., 0.,\n",
       "         0., 0., 0., 0., 0., 0., 0., 0., 0., 0., 0., 0., 0., 0., 0., 0., 0., 0., 0., 0., 0., 0., 0., 0.,\n",
       "         0., 0., 0., 0., 0., 0., 0., 0., 0., 0., 0., 0., 0., 0., 0., 0., 0., 0., 0., 0., 0., 0., 0., 0.,\n",
       "         0., 0., 0., 0., 0., 0., 0., 0., 0., 0., 0., 0., 0., 0., 0., 0., 0., 0., 0., 0., 0., 0., 0., 0.,\n",
       "         0., 0., 0., 0., 0., 0., 0., 0.],\n",
       "        [0., 0., 0., 0., 0., 0., 0., 0., 0., 0., 0., 0., 0., 0., 0., 0., 0., 0., 0., 0., 0., 0., 0., 0.,\n",
       "         0., 0., 0., 0., 0., 0., 0., 0., 0., 0., 0., 0., 0., 0., 0., 0., 0., 0., 0., 0., 0., 0., 0., 0.,\n",
       "         0., 0., 0., 0., 0., 0., 0., 0., 0., 0., 0., 0., 0., 0., 0., 0., 0., 0., 0., 0., 0., 0., 0., 0.,\n",
       "         0., 0., 0., 0., 0., 0., 0., 0., 0., 0., 0., 0., 0., 0., 0., 0., 0., 0., 0., 0., 0., 0., 0., 0.,\n",
       "         0., 0., 0., 0., 0., 0., 0., 0., 0., 0., 0., 0., 0., 0., 0., 0., 0., 0., 0., 0., 0., 0., 0., 0.,\n",
       "         0., 0., 0., 0., 0., 0., 0., 0., 0., 0., 0., 0., 0., 0., 0., 0., 0., 0., 0., 0., 0., 0., 0., 0.,\n",
       "         0., 0., 0., 0., 0., 0., 0., 0., 0., 0., 0., 0., 0., 0., 0., 0., 0., 0., 0., 0., 0., 0., 0., 0.,\n",
       "         0., 0., 0., 0., 0., 0., 0., 0., 0., 0., 0., 0., 0., 0., 0., 0., 0., 0., 0., 0., 0., 0., 0., 0.,\n",
       "         0., 0., 0., 0., 0., 0., 0., 0.],\n",
       "        [0., 0., 0., 0., 0., 0., 0., 0., 0., 0., 0., 0., 0., 0., 0., 0., 0., 0., 0., 0., 0., 0., 0., 0.,\n",
       "         0., 0., 0., 0., 0., 0., 0., 0., 0., 0., 0., 0., 0., 0., 0., 0., 0., 0., 0., 0., 0., 0., 0., 0.,\n",
       "         0., 0., 0., 0., 0., 0., 0., 0., 0., 0., 0., 0., 0., 0., 0., 0., 0., 0., 0., 0., 0., 0., 0., 0.,\n",
       "         0., 0., 0., 0., 0., 0., 0., 0., 0., 0., 0., 0., 0., 0., 0., 0., 0., 0., 0., 0., 0., 0., 0., 0.,\n",
       "         0., 0., 0., 0., 0., 0., 0., 0., 0., 0., 0., 0., 0., 0., 0., 0., 0., 0., 0., 0., 0., 0., 0., 0.,\n",
       "         0., 0., 0., 0., 0., 0., 0., 0., 0., 0., 0., 0., 0., 0., 0., 0., 0., 0., 0., 0., 0., 0., 0., 0.,\n",
       "         0., 0., 0., 0., 0., 0., 0., 0., 0., 0., 0., 0., 0., 0., 0., 0., 0., 0., 0., 0., 0., 0., 0., 0.,\n",
       "         0., 0., 0., 0., 0., 0., 0., 0., 0., 0., 0., 0., 0., 0., 0., 0., 0., 0., 0., 0., 0., 0., 0., 0.,\n",
       "         0., 0., 0., 0., 0., 0., 0., 0.]], device='cuda:0',\n",
       "       dtype=torch.float64)"
      ]
     },
     "execution_count": 190,
     "metadata": {},
     "output_type": "execute_result"
    }
   ],
   "source": [
    "deltaSigma1[2] - (rbf_gaussian_derivative_sigma(input_) * L2_1_error)[2] * weights.reshape(3, add_rbf_number, 1)[2]"
   ]
  },
  {
   "cell_type": "code",
   "execution_count": 179,
   "metadata": {},
   "outputs": [
    {
     "name": "stdout",
     "output_type": "stream",
     "text": [
      "torch.Size([3, 5, 200])\n",
      "torch.Size([3, 5, 200])\n",
      "torch.Size([3, 5, 200])\n",
      "torch.Size([3, 5, 200])\n"
     ]
    }
   ],
   "source": [
    "deltaSigma1 = rbf_gaussian_derivative_sigma(input_) * L2_1_error\n",
    "print(deltaSigma1.size())\n",
    "deltaSigma1 *= weights.reshape(3, add_rbf_number, 1)\n",
    "print(deltaSigma1.size())\n",
    "\n",
    "deltaSigma2 = rbf_gaussian_derivative_sigma(input_) * L2_2_error\n",
    "print(deltaSigma2.size())\n",
    "deltaSigma2 *= L2_F(input_) * weights.reshape(3, add_rbf_number, 1)\n",
    "print(deltaSigma2.size())\n",
    "deltaSigma =  torch.mean(torch.sum(deltaSigma1, dim=2) + torch.sum(deltaSigma2, dim=2), dim = 0) # (add_rbf_num)"
   ]
  },
  {
   "cell_type": "code",
   "execution_count": 180,
   "metadata": {},
   "outputs": [
    {
     "name": "stdout",
     "output_type": "stream",
     "text": [
      "torch.Size([5])\n"
     ]
    }
   ],
   "source": [
    "print(deltaSigma.size())"
   ]
  },
  {
   "cell_type": "code",
   "execution_count": 191,
   "metadata": {},
   "outputs": [],
   "source": [
    "def L2_2_derivateive_weight( input_data, radial_output):\n",
    "    return (-2 *(input_data - radial_layer_centers) / torch.pow(radial_sigma,2)) * radial_output"
   ]
  },
  {
   "cell_type": "code",
   "execution_count": 192,
   "metadata": {},
   "outputs": [
    {
     "data": {
      "text/plain": [
       "torch.Size([5, 200])"
      ]
     },
     "execution_count": 192,
     "metadata": {},
     "output_type": "execute_result"
    }
   ],
   "source": [
    "L2_2_derivateive_weight(input_, R).size()"
   ]
  },
  {
   "cell_type": "code",
   "execution_count": 198,
   "metadata": {},
   "outputs": [
    {
     "data": {
      "text/plain": [
       "tensor([[ 49743.4251,  57699.7949,  63618.1871,  68744.7548,  73826.4180],\n",
       "        [ 13511.3828,  15526.3073,  16973.1939,  18175.6782,  19303.8351],\n",
       "        [-30360.4084, -35265.8156, -38940.2653, -42153.1133, -45384.9690]],\n",
       "       device='cuda:0', dtype=torch.float64)"
      ]
     },
     "execution_count": 198,
     "metadata": {},
     "output_type": "execute_result"
    }
   ],
   "source": [
    "torch.sum((R * L2_1_error), dim = 2)"
   ]
  },
  {
   "cell_type": "code",
   "execution_count": 200,
   "metadata": {},
   "outputs": [
    {
     "data": {
      "text/plain": [
       "tensor([-30360.4084, -35265.8156, -38940.2653, -42153.1133, -45384.9690],\n",
       "       device='cuda:0', dtype=torch.float64)"
      ]
     },
     "execution_count": 200,
     "metadata": {},
     "output_type": "execute_result"
    }
   ],
   "source": [
    "torch.sum((R * L2_1_error)[2], dim = 1)"
   ]
  },
  {
   "cell_type": "code",
   "execution_count": 204,
   "metadata": {},
   "outputs": [
    {
     "data": {
      "text/plain": [
       "torch.Size([3, 1, 200])"
      ]
     },
     "execution_count": 204,
     "metadata": {},
     "output_type": "execute_result"
    }
   ],
   "source": [
    "L2_2_error.size()"
   ]
  },
  {
   "cell_type": "code",
   "execution_count": 201,
   "metadata": {},
   "outputs": [],
   "source": [
    "delta_weight2 = L2_2_derivateive_weight(input_, R) * L2_2_error"
   ]
  },
  {
   "cell_type": "code",
   "execution_count": 209,
   "metadata": {},
   "outputs": [
    {
     "data": {
      "text/plain": [
       "tensor([[0., 0., 0., 0., 0., 0., 0., 0., 0., 0., 0., 0., 0., 0., 0., 0., 0., 0., 0., 0., 0., 0., 0., 0.,\n",
       "         0., 0., 0., 0., 0., 0., 0., 0., 0., 0., 0., 0., 0., 0., 0., 0., 0., 0., 0., 0., 0., 0., 0., 0.,\n",
       "         0., 0., 0., 0., 0., 0., 0., 0., 0., 0., 0., 0., 0., 0., 0., 0., 0., 0., 0., 0., 0., 0., 0., 0.,\n",
       "         0., 0., 0., 0., 0., 0., 0., 0., 0., 0., 0., 0., 0., 0., 0., 0., 0., 0., 0., 0., 0., 0., 0., 0.,\n",
       "         0., 0., 0., 0., 0., 0., 0., 0., 0., 0., 0., 0., 0., 0., 0., 0., 0., 0., 0., 0., 0., 0., 0., 0.,\n",
       "         0., 0., 0., 0., 0., 0., 0., 0., 0., 0., 0., 0., 0., 0., 0., 0., 0., 0., 0., 0., 0., 0., 0., 0.,\n",
       "         0., 0., 0., 0., 0., 0., 0., 0., 0., 0., 0., 0., 0., 0., 0., 0., 0., 0., 0., 0., 0., 0., 0., 0.,\n",
       "         0., 0., 0., 0., 0., 0., 0., 0., 0., 0., 0., 0., 0., 0., 0., 0., 0., 0., 0., 0., 0., 0., 0., 0.,\n",
       "         0., 0., 0., 0., 0., 0., 0., 0.],\n",
       "        [0., 0., 0., 0., 0., 0., 0., 0., 0., 0., 0., 0., 0., 0., 0., 0., 0., 0., 0., 0., 0., 0., 0., 0.,\n",
       "         0., 0., 0., 0., 0., 0., 0., 0., 0., 0., 0., 0., 0., 0., 0., 0., 0., 0., 0., 0., 0., 0., 0., 0.,\n",
       "         0., 0., 0., 0., 0., 0., 0., 0., 0., 0., 0., 0., 0., 0., 0., 0., 0., 0., 0., 0., 0., 0., 0., 0.,\n",
       "         0., 0., 0., 0., 0., 0., 0., 0., 0., 0., 0., 0., 0., 0., 0., 0., 0., 0., 0., 0., 0., 0., 0., 0.,\n",
       "         0., 0., 0., 0., 0., 0., 0., 0., 0., 0., 0., 0., 0., 0., 0., 0., 0., 0., 0., 0., 0., 0., 0., 0.,\n",
       "         0., 0., 0., 0., 0., 0., 0., 0., 0., 0., 0., 0., 0., 0., 0., 0., 0., 0., 0., 0., 0., 0., 0., 0.,\n",
       "         0., 0., 0., 0., 0., 0., 0., 0., 0., 0., 0., 0., 0., 0., 0., 0., 0., 0., 0., 0., 0., 0., 0., 0.,\n",
       "         0., 0., 0., 0., 0., 0., 0., 0., 0., 0., 0., 0., 0., 0., 0., 0., 0., 0., 0., 0., 0., 0., 0., 0.,\n",
       "         0., 0., 0., 0., 0., 0., 0., 0.],\n",
       "        [0., 0., 0., 0., 0., 0., 0., 0., 0., 0., 0., 0., 0., 0., 0., 0., 0., 0., 0., 0., 0., 0., 0., 0.,\n",
       "         0., 0., 0., 0., 0., 0., 0., 0., 0., 0., 0., 0., 0., 0., 0., 0., 0., 0., 0., 0., 0., 0., 0., 0.,\n",
       "         0., 0., 0., 0., 0., 0., 0., 0., 0., 0., 0., 0., 0., 0., 0., 0., 0., 0., 0., 0., 0., 0., 0., 0.,\n",
       "         0., 0., 0., 0., 0., 0., 0., 0., 0., 0., 0., 0., 0., 0., 0., 0., 0., 0., 0., 0., 0., 0., 0., 0.,\n",
       "         0., 0., 0., 0., 0., 0., 0., 0., 0., 0., 0., 0., 0., 0., 0., 0., 0., 0., 0., 0., 0., 0., 0., 0.,\n",
       "         0., 0., 0., 0., 0., 0., 0., 0., 0., 0., 0., 0., 0., 0., 0., 0., 0., 0., 0., 0., 0., 0., 0., 0.,\n",
       "         0., 0., 0., 0., 0., 0., 0., 0., 0., 0., 0., 0., 0., 0., 0., 0., 0., 0., 0., 0., 0., 0., 0., 0.,\n",
       "         0., 0., 0., 0., 0., 0., 0., 0., 0., 0., 0., 0., 0., 0., 0., 0., 0., 0., 0., 0., 0., 0., 0., 0.,\n",
       "         0., 0., 0., 0., 0., 0., 0., 0.],\n",
       "        [0., 0., 0., 0., 0., 0., 0., 0., 0., 0., 0., 0., 0., 0., 0., 0., 0., 0., 0., 0., 0., 0., 0., 0.,\n",
       "         0., 0., 0., 0., 0., 0., 0., 0., 0., 0., 0., 0., 0., 0., 0., 0., 0., 0., 0., 0., 0., 0., 0., 0.,\n",
       "         0., 0., 0., 0., 0., 0., 0., 0., 0., 0., 0., 0., 0., 0., 0., 0., 0., 0., 0., 0., 0., 0., 0., 0.,\n",
       "         0., 0., 0., 0., 0., 0., 0., 0., 0., 0., 0., 0., 0., 0., 0., 0., 0., 0., 0., 0., 0., 0., 0., 0.,\n",
       "         0., 0., 0., 0., 0., 0., 0., 0., 0., 0., 0., 0., 0., 0., 0., 0., 0., 0., 0., 0., 0., 0., 0., 0.,\n",
       "         0., 0., 0., 0., 0., 0., 0., 0., 0., 0., 0., 0., 0., 0., 0., 0., 0., 0., 0., 0., 0., 0., 0., 0.,\n",
       "         0., 0., 0., 0., 0., 0., 0., 0., 0., 0., 0., 0., 0., 0., 0., 0., 0., 0., 0., 0., 0., 0., 0., 0.,\n",
       "         0., 0., 0., 0., 0., 0., 0., 0., 0., 0., 0., 0., 0., 0., 0., 0., 0., 0., 0., 0., 0., 0., 0., 0.,\n",
       "         0., 0., 0., 0., 0., 0., 0., 0.],\n",
       "        [0., 0., 0., 0., 0., 0., 0., 0., 0., 0., 0., 0., 0., 0., 0., 0., 0., 0., 0., 0., 0., 0., 0., 0.,\n",
       "         0., 0., 0., 0., 0., 0., 0., 0., 0., 0., 0., 0., 0., 0., 0., 0., 0., 0., 0., 0., 0., 0., 0., 0.,\n",
       "         0., 0., 0., 0., 0., 0., 0., 0., 0., 0., 0., 0., 0., 0., 0., 0., 0., 0., 0., 0., 0., 0., 0., 0.,\n",
       "         0., 0., 0., 0., 0., 0., 0., 0., 0., 0., 0., 0., 0., 0., 0., 0., 0., 0., 0., 0., 0., 0., 0., 0.,\n",
       "         0., 0., 0., 0., 0., 0., 0., 0., 0., 0., 0., 0., 0., 0., 0., 0., 0., 0., 0., 0., 0., 0., 0., 0.,\n",
       "         0., 0., 0., 0., 0., 0., 0., 0., 0., 0., 0., 0., 0., 0., 0., 0., 0., 0., 0., 0., 0., 0., 0., 0.,\n",
       "         0., 0., 0., 0., 0., 0., 0., 0., 0., 0., 0., 0., 0., 0., 0., 0., 0., 0., 0., 0., 0., 0., 0., 0.,\n",
       "         0., 0., 0., 0., 0., 0., 0., 0., 0., 0., 0., 0., 0., 0., 0., 0., 0., 0., 0., 0., 0., 0., 0., 0.,\n",
       "         0., 0., 0., 0., 0., 0., 0., 0.]], device='cuda:0',\n",
       "       dtype=torch.float64)"
      ]
     },
     "execution_count": 209,
     "metadata": {},
     "output_type": "execute_result"
    }
   ],
   "source": [
    "delta_weight2[2] - L2_2_derivateive_weight(input_, R) * L2_2_error[2] "
   ]
  },
  {
   "cell_type": "code",
   "execution_count": 202,
   "metadata": {},
   "outputs": [
    {
     "data": {
      "text/plain": [
       "torch.Size([3, 5, 200])"
      ]
     },
     "execution_count": 202,
     "metadata": {},
     "output_type": "execute_result"
    }
   ],
   "source": [
    "delta_weight2.size()"
   ]
  },
  {
   "cell_type": "code",
   "execution_count": null,
   "metadata": {},
   "outputs": [],
   "source": [
    "delta_weight1 = torch.sum((radial_output * L2_1_error), dim=2)        # (in_feature, add_rbf_num)\n",
    "delta_weight2 = torch.sum((L2_2_derivateive_weight(input_, R) * L2_2_error), dim = 2) # (in_feature, add_rbf_num)\n",
    "delta_weight = delta_weight1 + delta_weight2 # (in_feature, add_rbf_num)"
   ]
  },
  {
   "cell_type": "code",
   "execution_count": 226,
   "metadata": {},
   "outputs": [],
   "source": [
    "def Loss(pred, target, pred_grad, true_grad): # ?\n",
    "    # value loss + gradient loss \n",
    "\n",
    "    return torch.mean(torch.pow(target - pred.reshape(3,1,200),2) + torch.pow(true_grad - pred_grad.reshape(3,1,200), 2))"
   ]
  },
  {
   "cell_type": "code",
   "execution_count": 227,
   "metadata": {},
   "outputs": [
    {
     "data": {
      "text/plain": [
       "tensor(163445.3860, device='cuda:0', dtype=torch.float64)"
      ]
     },
     "execution_count": 227,
     "metadata": {},
     "output_type": "execute_result"
    }
   ],
   "source": [
    "Loss(pred, target, rg, fg)"
   ]
  },
  {
   "cell_type": "code",
   "execution_count": 228,
   "metadata": {},
   "outputs": [
    {
     "data": {
      "text/plain": [
       "tensor(163445.3860, device='cuda:0', dtype=torch.float64)"
      ]
     },
     "execution_count": 228,
     "metadata": {},
     "output_type": "execute_result"
    }
   ],
   "source": [
    "Loss(pred, target, rg, fg)"
   ]
  },
  {
   "cell_type": "code",
   "execution_count": 233,
   "metadata": {},
   "outputs": [
    {
     "data": {
      "text/plain": [
       "tensor([[ 321.4676,  299.6093,  281.3513,  264.8967,  249.5570],\n",
       "        [  86.6482,   82.5401,   79.3757,   76.6933,   74.3540],\n",
       "        [-196.1059, -182.5765, -171.2148, -160.9192, -151.2452]],\n",
       "       device='cuda:0', dtype=torch.float64)"
      ]
     },
     "execution_count": 233,
     "metadata": {},
     "output_type": "execute_result"
    }
   ],
   "source": [
    "weights"
   ]
  },
  {
   "cell_type": "code",
   "execution_count": 230,
   "metadata": {},
   "outputs": [],
   "source": [
    "list_weight = [weights, weights]"
   ]
  },
  {
   "cell_type": "code",
   "execution_count": 232,
   "metadata": {},
   "outputs": [
    {
     "data": {
      "text/plain": [
       "tensor([[ 321.4676,  299.6093,  281.3513,  264.8967,  249.5570,  321.4676,\n",
       "          299.6093,  281.3513,  264.8967,  249.5570],\n",
       "        [  86.6482,   82.5401,   79.3757,   76.6933,   74.3540,   86.6482,\n",
       "           82.5401,   79.3757,   76.6933,   74.3540],\n",
       "        [-196.1059, -182.5765, -171.2148, -160.9192, -151.2452, -196.1059,\n",
       "         -182.5765, -171.2148, -160.9192, -151.2452]], device='cuda:0',\n",
       "       dtype=torch.float64)"
      ]
     },
     "execution_count": 232,
     "metadata": {},
     "output_type": "execute_result"
    }
   ],
   "source": [
    "torch.cat(list_weight, dim = 1)"
   ]
  },
  {
   "cell_type": "markdown",
   "metadata": {},
   "source": []
  }
 ],
 "metadata": {
  "kernelspec": {
   "display_name": "cooling",
   "language": "python",
   "name": "python3"
  },
  "language_info": {
   "codemirror_mode": {
    "name": "ipython",
    "version": 3
   },
   "file_extension": ".py",
   "mimetype": "text/x-python",
   "name": "python",
   "nbconvert_exporter": "python",
   "pygments_lexer": "ipython3",
   "version": "3.10.4"
  },
  "orig_nbformat": 4
 },
 "nbformat": 4,
 "nbformat_minor": 2
}
