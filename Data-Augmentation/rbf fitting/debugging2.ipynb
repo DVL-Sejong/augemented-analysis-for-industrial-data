{
 "cells": [
  {
   "cell_type": "code",
   "execution_count": 2,
   "metadata": {},
   "outputs": [],
   "source": [
    "import torch\n",
    "import torch.nn as nn\n",
    "import numpy as np\n",
    "import matplotlib.pyplot as plt\n",
    "from matplotlib.pyplot import style\n",
    "style.use('seaborn-whitegrid')\n",
    "\n",
    "device = \"cuda\" if torch.cuda.is_available() else \"cpu\""
   ]
  },
  {
   "cell_type": "code",
   "execution_count": 3,
   "metadata": {},
   "outputs": [],
   "source": [
    "class MultiRBFnn(nn.Module):\n",
    "    def __init__(self, in_feature, add_rbf_num, device):\n",
    "        super(MultiRBFnn, self).__init__()\n",
    "\n",
    "        self.add_rbf_num = add_rbf_num  # additional RBFs number\n",
    "        self.in_feature = in_feature    # count features\n",
    "\n",
    "        self.centers_list = []\n",
    "        self.sigmas_list = []\n",
    "        self.weights_list = []\n",
    "\n",
    "        self.change_th = 3\n",
    "\n",
    "    def first_rbf_parameter(self, input_data, target): \n",
    "\n",
    "        # input_data shape : (data_num)\n",
    "        # target data shape : (in_feature, 1, data_num)\n",
    "        \n",
    "        # first layer centers, weights, sigmas\n",
    "        # centers, sigmas : (add_rbf_num, 1)\n",
    "        # weights : (in_feature, add_rbf_num)\n",
    "\n",
    "        find_index_input = input_data.clone().detach()\n",
    "        fine_index_target = target.clone().detach()\n",
    "\n",
    "        find_sigma = target.clone().detach()\n",
    "        find_weight = target.clone().detach()\n",
    "        center_index_list = []\n",
    "\n",
    "        # first MultiRBFs initial centers and weights parameters\n",
    "        for i in range(self.add_rbf_num):\n",
    "            index_ = torch.argmax(torch.sum(torch.abs(fine_index_target), dim = 0)).cpu().detach().tolist()\n",
    "            fine_index_target[:,:,index_] = 0\n",
    "            center_index_list.append(index_)\n",
    "\n",
    "        center_index_list = torch.tensor(center_index_list, device=device)\n",
    "        initcenter = torch.index_select(find_index_input, 0, center_index_list)[-self.add_rbf_num:].reshape(self.add_rbf_num,1)\n",
    "        initweight = torch.index_select(find_weight, 2, center_index_list)[-self.add_rbf_num:].reshape(self.in_feature, self.add_rbf_num)\n",
    "\n",
    "        # first MultiRBFs initial sigmas parameters                \n",
    "        sigma_list = []\n",
    "        dft = torch.log(torch.abs(torch.fft.fft(find_sigma).real))\n",
    "        dft =  torch.abs(dft / torch.max(dft)) **-1\n",
    "        for k in center_index_list:\n",
    "            sigma_list.append(torch.mean(dft[:,:,k]).reshape(1))\n",
    "\n",
    "        initsigma = torch.cat(sigma_list)[-self.add_rbf_num:].reshape(self.add_rbf_num, 1)\n",
    "\n",
    "\n",
    "        return initcenter, initweight, initsigma\n",
    "\n",
    "    def rbf_gaussian(self, input_data): # no problem\n",
    "        out = torch.exp(-1 *(torch.pow((input_data - self.centers), 2))) / (torch.pow(self.sigma, 2))\n",
    "\n",
    "        return out\n",
    "    \n",
    "    def forward(self, input_data): # no problem\n",
    "        R = self.rbf_gaussian(input_data)\n",
    "        pred = torch.mm(self.weights, R).reshape(self.in_feature, 1, input_data.size(-1))\n",
    "\n",
    "        return R, pred\n",
    "    \n",
    "    def rbf_gradient(self, input_data, C, S, W): # no problem\n",
    "        rbf_output = (-2 * (input_data - C) / torch.pow(S, 2)) * \\\n",
    "                        (torch.exp(-1 * (torch.pow((input_data - C), 2) / (torch.pow(S, 2)))))\n",
    "        rbf_grad = torch.mm(W, rbf_output)\n",
    "        \n",
    "        return rbf_grad.reshape(self.in_feature, 1, input_data.size(-1)) # (in_feature, 1, data_num)\n",
    "\n",
    "    def first_grad(self, input_data, target):  # no problem\n",
    "        space = (input_data,)\n",
    "        ori_grad = torch.gradient(target, spacing = space, dim = 2, edge_order  = 1)\n",
    "        return ori_grad[0] # (in_feature, 1, data_num)\n",
    "        \n",
    "    def target_grad(self, input_data, centers, sigmas, weights, ori_grad): # no problem\n",
    "        true_grad = ori_grad - self.rbf_gradient(input_data, centers, sigmas, weights)\n",
    "         \n",
    "        return true_grad # (in_feature, 1, data_num)\n",
    "    \n",
    "    def predict(self, input_data): # ? \n",
    "        rbf_output = torch.exp(-1 * (torch.pow((input_data - self.done_centers), 2) / \\\n",
    "                                     (torch.pow(self.done_sigma, 2))))\n",
    "        pred = torch.mm(self.done_weights.reshape(self.in_feature, self.add_rbf_num),\n",
    "                         rbf_output).reshape(self.in_feature, 1, input_data.size(-1))\n",
    "\n",
    "        return rbf_output, pred\n",
    "    \n",
    "    def Loss(self, pred, target, pred_grad, true_grad): # center, sigma 랑 weight loss를 따로 구해야 되나?\n",
    "        # value loss + gradient loss \n",
    "\n",
    "        return torch.mean(torch.pow(target - pred,2) + torch.pow(true_grad - pred_grad, 2))\n",
    "    \n",
    "\n",
    "    def L2_F(self, input_data): # 이상함\n",
    "        return -2 * (input_data - self.centers) / torch.pow(self.sigma, 2) # (add_rbf_num, data_num)\n",
    "\n",
    "    # partial derivative define\n",
    "\n",
    "    def L2_2_derivative_weight(self, input_data, radial_output):\n",
    "        return self.L2_F(input_data) * radial_output               # (add_rbf_num, data_num)\n",
    "\n",
    "    def rbf_gaussian_derivative_centers(self, input_data): # no problem\n",
    "        output = (2 * (input_data - self.centers) / (torch.pow(self.sigma, 2))) * self.rbf_gaussian(input_data)\n",
    "\n",
    "        return output  # size = (add_rbf_num, data_num)\n",
    "    \n",
    "    def rbf_gaussian_derivative_sigma(self, input_data): # no problem\n",
    "        output = (2 * torch.pow((input_data - self.centers), 2) / (torch.pow(self.sigma, 3))) * self.rbf_gaussian(input_data)\n",
    "\n",
    "        return output  # size = (add_rbf_num, data_num)\n",
    "    \n",
    "    # additional RBFs \n",
    "    def add_rbf_parameter(self, input_data, error):\n",
    "        find_index_input = input_data.clone().detach()\n",
    "        find_index_error = error.clone().detach()\n",
    "        \n",
    "        find_weight = error.clone().detach()\n",
    "        find_sigma = error.clone().detach()\n",
    "        \n",
    "        center_index_list = []\n",
    "\n",
    "        for i in range(self.add_rbf_num * (self.change_time + 1)):\n",
    "            index_ = torch.argmax(torch.sum(torch.abs(find_index_error), dim = 0)).cpu().detach().tolist()\n",
    "\n",
    "            find_index_error[:,:,index_] = 0\n",
    "            center_index_list.append(index_)\n",
    "\n",
    "        center_index_list = torch.tensor(center_index_list, device=device)\n",
    "        initcenter = torch.index_select(find_index_input, 0, center_index_list)[-self.add_rbf_num:].reshape(self.add_rbf_num,1)\n",
    "        initweight = torch.index_select(find_weight, 2, center_index_list)[:,:,-self.add_rbf_num:].reshape(self.in_feature, self.add_rbf_num)\n",
    "\n",
    "\n",
    "        sigma_list = []\n",
    "        dft = torch.log(torch.abs(torch.fft.fft(find_sigma).real))\n",
    "        \n",
    "        dft = (torch.abs(dft / torch.max(dft))**-1)\n",
    "        for k in center_index_list:\n",
    "            sigma_list.append(torch.mean(dft[:,:,k]).reshape(1))\n",
    "        initsigma = torch.cat(sigma_list)[-self.add_rbf_num:].reshape(self.add_rbf_num,1)\n",
    "\n",
    "        return initcenter, initweight, initsigma\n",
    "    \n",
    "    def change_init(self, na):\n",
    "        if na == 1:\n",
    "            loss_list = self.train_loss_list[-self.change_th:]\n",
    "            if self.number > self.change_th and max(loss_list) == min(loss_list):\n",
    "                self.change_time += 1\n",
    "            elif self.number > self.change_th and loss_list[0] < loss_list[1] and loss_list[1] < loss_list[2]:\n",
    "                self.change_time += 1\n",
    "            else:\n",
    "                self.change_time = 0\n",
    "        else:\n",
    "            self.change_time += 1\n",
    "\n",
    "    def best_forward(self, input_data, best_center, best_sigma, best_weight): # ?\n",
    "        rbf_output = torch.exp(-1 * (torch.pow((input_data - best_center), 2) / \\\n",
    "                                     (torch.pow(best_sigma, 2))))\n",
    "        pred = torch.mm(best_weight.reshape(self.in_feature, self.add_rbf_num), \n",
    "                        rbf_output).reshape(self.in_feature, 1, input_data.size(-1))\n",
    "\n",
    "        return rbf_output, pred\n",
    "\n",
    "    def backward_propagation(self, input_data, R, pred, target, target_grad, pred_grad):\n",
    "        \n",
    "        L2_1_error = -2 * (target - pred)\n",
    "        L2_2_error = -2 * (target_grad - pred_grad)\n",
    "\n",
    "        # updata partial derivative\n",
    "\n",
    "        deltaSigma1 = torch.mm(self.weights, self.rbf_gaussian_derivative_sigma(input_data))\n",
    "        #deltaSigma1 = self.rbf_gaussian_derivative_sigma(input_data) * L2_1_error                       # (in_feature, add_rbf_num, data_num)\n",
    "        #deltaSigma1 *= self.weights.reshape(self.in_feature, self.add_rbf_num, 1)                   # (in_feature, add_rbf_num, data_num)\n",
    "\n",
    "        deltaSigma2 = self.rbf_gaussian_derivative_sigma(input_data) * L2_2_error                       # (in_feature, add_rbf_num, data_num)\n",
    "        deltaSigma2 *= self.L2_F(input_data) * self.weights.reshape(self.in_feature, self.add_rbf_num, 1)    # (in_feature, add_rbf_num, data_num)\n",
    "\n",
    "        deltaSigma =  torch.sum(torch.sum(deltaSigma1, dim=2), dim = 0) + torch.sum(torch.sum(deltaSigma2, dim=2), dim = 0) # (add_rbf_num) \n",
    "\n",
    "        # center partial derivative\n",
    "        deltaCenter1 = self.rbf_gaussian_derivative_centers(input_data) * L2_1_error\n",
    "        deltaCenter1 *= self.weights.reshape(self.in_feature, self.add_rbf_num, 1)\n",
    "        \n",
    "        deltaCenter2 = self.rbf_gaussian_derivative_centers(input_data) * L2_2_error\n",
    "        deltaCenter2 *= self.L2_F(input_data) * self.weights.reshape(self.in_feature, self.add_rbf_num, 1)\n",
    "\n",
    "        deltaCenter =  torch.sum(torch.sum(deltaCenter1, dim=2),dim =0) + torch.sum(torch.sum(deltaCenter2, dim=2), dim = 0) # (add_rbf_num)\n",
    "\n",
    "\n",
    "        # weight partial derivative\n",
    "        delta_weight1 = torch.sum((R * L2_1_error), dim=2)        # (in_feature, add_rbf_num)\n",
    "        delta_weight2 = torch.sum((self.L2_2_derivative_weight(input_data, R) * L2_2_error), dim = 2) # (in_feature, add_rbf_num)\n",
    "        delta_weight = delta_weight1 + delta_weight2 # (in_feature, add_rbf_num)\n",
    "\n",
    "        # BP update\n",
    "        self.weights -= self.lr * delta_weight\n",
    "        self.centers -= self.lr * deltaCenter.reshape(self.add_rbf_num, 1)\n",
    "        self.sigma -= self.lr * deltaSigma.reshape(self.add_rbf_num, 1)\n",
    "\n",
    "    def plot_train(self, input_data, best_pred): #done\n",
    "        fig, ax = plt.subplots(1, 3, figsize = (30, 5))\n",
    "        for i in range(self.in_feature):\n",
    "            ax[i].plot(input_data.cpu().detach().numpy(), self.target[i][0].cpu().detach().numpy())\n",
    "            ax[i].plot(input_data.cpu().detach().numpy(), best_pred[i][0].cpu().detach().numpy())\n",
    "        plt.show()\n",
    "\n",
    "    def train(self, input_data, target, epochs, lr, loss_th):\n",
    "        self.lr = lr\n",
    "        self.target = target.clone().detach()\n",
    "        self.number = 0\n",
    "        self.train_loss_list = []\n",
    "        self.loss_th = loss_th\n",
    "        self.change_time = 0\n",
    "\n",
    "        break_time = len(input_data) / self.add_rbf_num\n",
    "        # count_loss_chage = 0\n",
    "        # count_round_change = 0\n",
    "\n",
    "        loss = 100000\n",
    "        \n",
    "        while self.loss_th < loss:\n",
    "\n",
    "            print(\"{}th additional rbflayer\".format(self.number))\n",
    "            # first rbflayer\n",
    "            if self.number == 0:\n",
    "                self.centers, self.weights, self.sigma = self.first_rbf_parameter(input_data, self.target)\n",
    "                first_grad = self.first_grad(input_data, target)\n",
    "\n",
    "                for epoch in range(epochs):\n",
    "                    R, pred = self.forward(input_data)\n",
    "                    rbf_grad = self.rbf_gradient(input_data, self.centers, self.sigma, self.weights)\n",
    "\n",
    "                    self.backward_propagation(input_data, R, pred, self.target, first_grad, rbf_grad)\n",
    "                    epoch_loss = self.Loss(pred, self.target, rbf_grad, first_grad)\n",
    "\n",
    "                    if epoch == 0:\n",
    "                        print(\"{}th additional RBFlayer {}th epoch loss: {}\".format(self.number, epoch, epoch_loss))\n",
    "                        self.best_loss = epoch_loss.clone().detach()\n",
    "                        self.best_center = self.centers.clone().detach()\n",
    "                        self.best_sigma = self.sigma.clone().detach()\n",
    "                        self.best_weight = self.weights.clone().detach()\n",
    "                    \n",
    "                    else:\n",
    "                        if self.best_loss > epoch_loss:\n",
    "                            self.best_loss = epoch_loss.clone().detach()\n",
    "                            self.best_center = self.centers.clone().detach()\n",
    "                            self.best_sigma = self.sigma.clone().detach()\n",
    "                            self.best_weight = self.weights.clone().detach()\n",
    "\n",
    "                    if (epoch + 1) % 250 == 0:\n",
    "                        print(\"{}th additional RBFlayer {}th epoch MSE Loss: {}\".format(self.number, epoch, epoch_loss))\n",
    "\n",
    "            else:\n",
    "                self.change_init(na)\n",
    "                if self.change_time > break_time:\n",
    "                    break\n",
    "                \n",
    "                self.centers, self.weights, self.sigma = self.add_rbf_parameter(input_data, self.target)\n",
    "\n",
    "                for epoch in range(epochs):\n",
    "                    R, pred = self.forward(input_data)\n",
    "                    rbf_grad = self.rbf_gradient(input_data, self.centers, self.sigma, self.weights)\n",
    "\n",
    "                    if epoch == 0:\n",
    "                        print(\"{}th additional RBFlayer {}th epoch loss: {}\".format(self.number, epoch,\n",
    "                                                                                     self.Loss(pred, self.target, rbf_grad, target_grad)))\n",
    "                        self.best_loss = self.Loss(pred, self.target, rbf_grad, target_grad).clone().detach()\n",
    "                        self.best_center = self.centers.clone().detach()\n",
    "                        self.best_sigma = self.sigma.clone().detach()\n",
    "                        self.best_weight = self.weights.clone().detach()\n",
    "\n",
    "                    self.backward_propagation(input_data, R, pred, self.target, first_grad, rbf_grad)\n",
    "                    epoch_loss = self.Loss(pred, self.target, rbf_grad, target_grad)\n",
    "\n",
    "                    if (epoch + 1) % 250 == 0:\n",
    "                        print(\"{}th additional RBFlayer {}th epoch MSE Loss: {}\".format(self.number, epoch, epoch_loss))\n",
    "                    \n",
    "                    if self.best_loss > epoch_loss:\n",
    "                        self.best_loss = epoch_loss.clone().detach()\n",
    "                        self.best_center = self.centers.clone().detach()\n",
    "                        self.best_sigma = self.sigma.clone().detach()\n",
    "                        self.best_weight = self.weights.clone().detach()\n",
    "                \n",
    "            best_R, best_pred = self.best_forward(input_data, self.best_center, self.best_sigma, self.best_weight)\n",
    "            best_grad = self.rbf_gradient(input_data, self.best_center, self.best_sigma, self.best_weight)\n",
    "\n",
    "            if self.number ==0:\n",
    "                train_loss = self.Loss(best_pred, self.target, best_grad, first_grad)\n",
    "            else:\n",
    "                train_loss = self.Loss(best_pred, self.target, best_grad, target_grad)\n",
    "\n",
    "            print(\"{}th additional RBFlayer best loss : \".format(self.number, train_loss))\n",
    "            self.train_loss_list.append(train_loss)\n",
    "\n",
    "            # additional rbf plot print\n",
    "            self.plot_train(input_data, best_pred)\n",
    "\n",
    "            if torch.isnan(train_loss) == False:\n",
    "                na = 1\n",
    "                self.target = self.target - best_pred  # target update\n",
    "                loss = train_loss  # loss update\n",
    "                self.number += 1  # additional rbf number update\n",
    "                self.centers_list.append(self.best_center)\n",
    "                self.sigmas_list.append(self.best_sigma)\n",
    "                self.weights_list.append(self.best_weight)\n",
    "\n",
    "                self.done_centers = torch.cat(self.centers_list, dim  =0)\n",
    "                self.done_sigma = torch.cat(self.sigmas_list, dim = 0)\n",
    "                self.done_weights = torch.cat(self.weights_list, dim = 1)\n",
    "                target_grad = self.target_grad(input_data, self.done_centers, self.done_sigma, self.done_weights, first_grad)\n",
    "            else:\n",
    "                na = 0"
   ]
  },
  {
   "cell_type": "code",
   "execution_count": 7,
   "metadata": {},
   "outputs": [],
   "source": [
    "import numpy as np\n",
    "a = np.arange(0,1,0.1)\n",
    "\n",
    "input_ = torch.tensor(a, device = device)"
   ]
  },
  {
   "cell_type": "code",
   "execution_count": 8,
   "metadata": {},
   "outputs": [],
   "source": [
    "target = torch.rand((3,1,10), device = device)"
   ]
  },
  {
   "cell_type": "code",
   "execution_count": 9,
   "metadata": {},
   "outputs": [
    {
     "data": {
      "text/plain": [
       "tensor([[[0.6720, 0.7563, 0.3495, 0.7097, 0.9419, 0.3091, 0.9351, 0.2300,\n",
       "          0.1129, 0.6612]],\n",
       "\n",
       "        [[0.8131, 0.0613, 0.8664, 0.2892, 0.3724, 0.7141, 0.5831, 0.7052,\n",
       "          0.1583, 0.8392]],\n",
       "\n",
       "        [[0.5025, 0.8348, 0.3649, 0.7155, 0.8703, 0.1943, 0.7555, 0.3257,\n",
       "          0.0147, 0.5034]]], device='cuda:0')"
      ]
     },
     "execution_count": 9,
     "metadata": {},
     "output_type": "execute_result"
    }
   ],
   "source": [
    "target"
   ]
  },
  {
   "cell_type": "code",
   "execution_count": 19,
   "metadata": {},
   "outputs": [],
   "source": [
    "# input_data shape : (data_num)\n",
    "# target data shape : (in_feature, 1, data_num)\n",
    "\n",
    "# first layer centers, weights, sigmas\n",
    "# centers, sigmas : (add_rbf_num, 1)\n",
    "# weights : (in_feature, add_rbf_num)\n",
    "\n",
    "centers = torch.tensor([0.3, 0.4], device = device).reshape(2,1)\n",
    "sigma = torch.tensor([0.2,0.3], device = device).reshape(2,1)\n",
    "weights = torch.tensor([[0.5, .3], [0.2, .1], [0.7, .3]], device = device, dtype= float).reshape(3, 2)"
   ]
  },
  {
   "cell_type": "code",
   "execution_count": 21,
   "metadata": {},
   "outputs": [],
   "source": [
    "def rbf_gaussian(input_data):\n",
    "    out = torch.exp(-1 *(torch.pow((input_data - centers), 2))) / (torch.pow(sigma, 2))\n",
    "\n",
    "    return out # (add_rbf_num, data_len)\n",
    "\n",
    "def forward( input_data):\n",
    "    R = rbf_gaussian(input_data)\n",
    "    pred = torch.mm(weights, R).reshape(3, 1, input_data.size(-1))\n",
    "\n",
    "    return R, pred "
   ]
  },
  {
   "cell_type": "code",
   "execution_count": 15,
   "metadata": {},
   "outputs": [
    {
     "data": {
      "text/plain": [
       "tensor([[22.8483, 24.0197, 24.7512, 25.0000, 24.7512, 24.0197, 22.8483, 21.3036,\n",
       "         19.4700, 17.4419],\n",
       "        [ 9.4683, 10.1548, 10.6754, 11.0006, 11.1111, 11.0006, 10.6754, 10.1548,\n",
       "          9.4683,  8.6533]], device='cuda:0', dtype=torch.float64)"
      ]
     },
     "execution_count": 15,
     "metadata": {},
     "output_type": "execute_result"
    }
   ],
   "source": [
    "rbf_gaussian(input_)"
   ]
  },
  {
   "cell_type": "code",
   "execution_count": 22,
   "metadata": {},
   "outputs": [
    {
     "data": {
      "text/plain": [
       "(tensor([[22.8483, 24.0197, 24.7512, 25.0000, 24.7512, 24.0197, 22.8483, 21.3036,\n",
       "          19.4700, 17.4419],\n",
       "         [ 9.4683, 10.1548, 10.6754, 11.0006, 11.1111, 11.0006, 10.6754, 10.1548,\n",
       "           9.4683,  8.6533]], device='cuda:0', dtype=torch.float64),\n",
       " tensor([[[14.2646, 15.0563, 15.5783, 15.8002, 15.7090, 15.3100, 14.6268,\n",
       "           13.6982, 12.5755, 11.3170]],\n",
       " \n",
       "         [[ 5.5165,  5.8194,  6.0178,  6.1001,  6.0614,  5.9040,  5.6372,\n",
       "            5.2762,  4.8408,  4.3537]],\n",
       " \n",
       "         [[18.8343, 19.8603, 20.5285, 20.8002, 20.6592, 20.1140, 19.1964,\n",
       "           17.9590, 16.4695, 14.8053]]], device='cuda:0', dtype=torch.float64))"
      ]
     },
     "execution_count": 22,
     "metadata": {},
     "output_type": "execute_result"
    }
   ],
   "source": [
    "forward(input_)"
   ]
  },
  {
   "cell_type": "code",
   "execution_count": 30,
   "metadata": {},
   "outputs": [],
   "source": [
    "def first_grad(input_data, target): \n",
    "    space = (input_data,)\n",
    "    ori_grad = torch.gradient(target, spacing = space, dim = 1, edge_order  = 1)\n",
    "    return ori_grad[0] # (in_feature, 1, data_num)"
   ]
  },
  {
   "cell_type": "code",
   "execution_count": 28,
   "metadata": {},
   "outputs": [
    {
     "data": {
      "text/plain": [
       "tensor([[[ 0.8421, -1.6129, -0.2327,  2.9619, -2.0032, -0.0336, -0.3955,\n",
       "          -4.1111,  2.1564,  5.4832]],\n",
       "\n",
       "        [[-7.5183,  0.2667,  1.1395, -2.4703,  2.1248,  1.0539, -0.0447,\n",
       "          -2.1241,  0.6702,  6.8092]],\n",
       "\n",
       "        [[ 3.3230, -0.6880, -0.5962,  2.5270, -2.6059, -0.5739,  0.6570,\n",
       "          -3.7041,  0.8886,  4.8876]]], device='cuda:0', dtype=torch.float64)"
      ]
     },
     "execution_count": 28,
     "metadata": {},
     "output_type": "execute_result"
    }
   ],
   "source": [
    "first_grad(input_, target)"
   ]
  },
  {
   "cell_type": "code",
   "execution_count": 33,
   "metadata": {},
   "outputs": [
    {
     "data": {
      "text/plain": [
       "tensor([[ 3.3230, -0.6880, -0.5962,  2.5270, -2.6059, -0.5739,  0.6570, -3.7041,\n",
       "          0.8886,  4.8876]], device='cuda:0', dtype=torch.float64)"
      ]
     },
     "execution_count": 33,
     "metadata": {},
     "output_type": "execute_result"
    }
   ],
   "source": [
    "first_grad(input_, target[2])"
   ]
  },
  {
   "cell_type": "code",
   "execution_count": 34,
   "metadata": {},
   "outputs": [],
   "source": [
    "def rbf_gaussian_derivative_sigma(input_data): # no problem\n",
    "    output = (2 * torch.pow((input_data - centers), 2) / (torch.pow(sigma, 3))) * rbf_gaussian(input_data)\n",
    "\n",
    "    return output  # size = (add_rbf_num, data_num)"
   ]
  },
  {
   "cell_type": "code",
   "execution_count": 35,
   "metadata": {},
   "outputs": [],
   "source": [
    "S_der = rbf_gaussian_derivative_sigma(input_)"
   ]
  },
  {
   "cell_type": "code",
   "execution_count": 36,
   "metadata": {},
   "outputs": [
    {
     "data": {
      "text/plain": [
       "torch.Size([2, 10])"
      ]
     },
     "execution_count": 36,
     "metadata": {},
     "output_type": "execute_result"
    }
   ],
   "source": [
    "S_der.size()"
   ]
  },
  {
   "cell_type": "code",
   "execution_count": 38,
   "metadata": {},
   "outputs": [
    {
     "data": {
      "text/plain": [
       "torch.Size([3, 2])"
      ]
     },
     "execution_count": 38,
     "metadata": {},
     "output_type": "execute_result"
    }
   ],
   "source": [
    "weights.size()"
   ]
  },
  {
   "cell_type": "code",
   "execution_count": 42,
   "metadata": {},
   "outputs": [
    {
     "data": {
      "text/plain": [
       "tensor([[2.9071e+02, 1.4041e+02, 4.0428e+01, 2.4446e+00, 3.0939e+01, 1.2254e+02,\n",
       "         2.6653e+02, 4.4638e+02, 6.4210e+02, 8.3296e+02],\n",
       "        [1.1404e+02, 5.4809e+01, 1.5539e+01, 8.1486e-01, 1.2376e+01, 4.8854e+01,\n",
       "         1.0598e+02, 1.7720e+02, 2.5460e+02, 3.2998e+02],\n",
       "        [3.9353e+02, 1.8845e+02, 5.2804e+01, 2.4446e+00, 4.3315e+01, 1.7058e+02,\n",
       "         3.6935e+02, 6.1681e+02, 8.8548e+02, 1.1469e+03]], device='cuda:0',\n",
       "       dtype=torch.float64)"
      ]
     },
     "execution_count": 42,
     "metadata": {},
     "output_type": "execute_result"
    }
   ],
   "source": [
    "torch.mm(weights, S_der)"
   ]
  },
  {
   "cell_type": "code",
   "execution_count": null,
   "metadata": {},
   "outputs": [],
   "source": []
  }
 ],
 "metadata": {
  "kernelspec": {
   "display_name": "cooling",
   "language": "python",
   "name": "python3"
  },
  "language_info": {
   "codemirror_mode": {
    "name": "ipython",
    "version": 3
   },
   "file_extension": ".py",
   "mimetype": "text/x-python",
   "name": "python",
   "nbconvert_exporter": "python",
   "pygments_lexer": "ipython3",
   "version": "3.10.4"
  },
  "orig_nbformat": 4
 },
 "nbformat": 4,
 "nbformat_minor": 2
}
