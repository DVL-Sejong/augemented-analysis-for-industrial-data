{
 "cells": [
  {
   "cell_type": "code",
   "execution_count": 126,
   "id": "c3001e96",
   "metadata": {},
   "outputs": [],
   "source": [
    "import pandas as pd\n",
    "import torch\n",
    "import torch.nn as nn\n",
    "from torch.utils.data import DataLoader, TensorDataset\n",
    "import torch.optim  as optim\n",
    "import numpy as np\n",
    "import matplotlib.pyplot as plt\n",
    "import time\n",
    "from copy import deepcopy\n",
    "\n",
    "device = \"cuda\" if torch.cuda.is_available() else \"cpu\""
   ]
  },
  {
   "cell_type": "code",
   "execution_count": 127,
   "id": "00a182dc",
   "metadata": {},
   "outputs": [],
   "source": [
    "data = torch.randn((100, 30, 170), requires_grad = True, device = device)\n",
    "target_ = torch.randint(0, 2, (100,), device = device)\n",
    "\n",
    "trainloader = DataLoader(TensorDataset(data, target_), \n",
    "                         batch_size=50, \n",
    "                         shuffle=True)"
   ]
  },
  {
   "cell_type": "code",
   "execution_count": 128,
   "id": "6d27f76d",
   "metadata": {},
   "outputs": [],
   "source": [
    "class LSTMEEG(nn.Module):\n",
    "    def __init__(self, input_dim, hidden_dim):\n",
    "        super(LSTMEEG, self).__init__()\n",
    "        \n",
    "        self.input_dim = input_dim\n",
    "        self.hidden_dim = hidden_dim\n",
    "        \n",
    "        self.lstm = nn.LSTM(self.input_dim, self.hidden_dim, batch_first = True)\n",
    "        self.fc = nn.Linear(hidden_dim, 1)\n",
    "        self.sigmoid = nn.Sigmoid()\n",
    "        self.softmax = nn.Softmax()\n",
    "    \n",
    "\n",
    "    def init_hidden(self, batch):\n",
    "        '''Initialize hidden states for LSTM cell.'''\n",
    "        device = self.lstm.weight_ih_l0.device\n",
    "        return (torch.zeros(1, batch, self.hidden_dim, device=device),\n",
    "                torch.zeros(1, batch, self.hidden_dim, device=device))\n",
    "    \n",
    "    def forward(self, X, hidden = None):\n",
    "        if hidden is None:\n",
    "            hidden = self.init_hidden(X.shape[0])\n",
    "            \n",
    "        lstm_out, (h, c) = self.lstm(X, hidden)\n",
    "        y = self.fc(lstm_out[:, -1])\n",
    "        y = self.sigmoid(y) # binary classification\n",
    "        # y = self.softmax(y) # multi-class\n",
    "        \n",
    "        return y"
   ]
  },
  {
   "cell_type": "code",
   "execution_count": 129,
   "id": "b900e594",
   "metadata": {},
   "outputs": [],
   "source": [
    "def restore_parameters(model, best_model):\n",
    "    '''Move parameter values from best_model to model.'''\n",
    "    for params, best_params in zip(model.parameters(), best_model.parameters()):\n",
    "        params.data = best_params\n",
    "\n",
    "def train_LSTMEEG(model, trainloader, epochs, lr, device):\n",
    "    model.to(device)\n",
    "    loss_fn = nn.BCELoss()\n",
    "    optimizer = optim.Adam(model.parameters(), lr=lr)\n",
    "    history = {'loss' : []}\n",
    "    \n",
    "    best_it = None\n",
    "    best_loss = np.inf\n",
    "    best_model = None\n",
    "    \n",
    "    for epoch in range(epochs):\n",
    "        losses = []\n",
    "        for X, Y in trainloader:\n",
    "            model.zero_grad()\n",
    "            pred = model(X).squeeze(1)\n",
    "            loss = loss_fn(pred, Y.float())\n",
    "            \n",
    "            loss.backward()\n",
    "            optimizer.step()\n",
    "            losses.append(float(loss))\n",
    "        avg_loss = np.mean(losses)\n",
    "        history['loss'].append(avg_loss)\n",
    "        print(\"Epoch {} / {}: Loss = {:.3f}\".format(epoch+1, epochs, avg_loss))\n",
    "        \n",
    "        if best_loss > avg_loss:\n",
    "            best_loss = avg_loss\n",
    "            best_model =  deepcopy(model)\n",
    "            \n",
    "    restore_parameters(model, best_model)\n",
    "    \n",
    "    return history"
   ]
  },
  {
   "cell_type": "code",
   "execution_count": 131,
   "id": "94239a1a",
   "metadata": {
    "scrolled": true
   },
   "outputs": [
    {
     "name": "stdout",
     "output_type": "stream",
     "text": [
      "Epoch 1 / 10: Loss = 0.681\n",
      "Epoch 2 / 10: Loss = 0.532\n",
      "Epoch 3 / 10: Loss = 0.396\n",
      "Epoch 4 / 10: Loss = 0.264\n",
      "Epoch 5 / 10: Loss = 0.155\n",
      "Epoch 6 / 10: Loss = 0.081\n",
      "Epoch 7 / 10: Loss = 0.040\n",
      "Epoch 8 / 10: Loss = 0.019\n",
      "Epoch 9 / 10: Loss = 0.010\n",
      "Epoch 10 / 10: Loss = 0.006\n"
     ]
    }
   ],
   "source": [
    "model = LSTMEEG(170, 50)\n",
    "his = train_LSTMEEG(model, trainloader, 10, 0.01, device= device)"
   ]
  },
  {
   "cell_type": "code",
   "execution_count": null,
   "id": "da054ec0",
   "metadata": {},
   "outputs": [],
   "source": []
  },
  {
   "cell_type": "code",
   "execution_count": null,
   "id": "c198325d",
   "metadata": {},
   "outputs": [],
   "source": []
  }
 ],
 "metadata": {
  "kernelspec": {
   "display_name": "Python 3 (ipykernel)",
   "language": "python",
   "name": "python3"
  },
  "language_info": {
   "codemirror_mode": {
    "name": "ipython",
    "version": 3
   },
   "file_extension": ".py",
   "mimetype": "text/x-python",
   "name": "python",
   "nbconvert_exporter": "python",
   "pygments_lexer": "ipython3",
   "version": "3.10.4"
  }
 },
 "nbformat": 4,
 "nbformat_minor": 5
}
