{
 "cells": [
  {
   "cell_type": "code",
   "execution_count": 21,
   "metadata": {},
   "outputs": [],
   "source": [
    "import numpy as np\n",
    "import pandas as pd\n",
    "\n",
    "def data_loader_air (file_name = 'datasets/pm25_missing.csv', seq_len = 36) :\n",
    "  \"\"\"Load complete data and introduce missingness.\n",
    "  \n",
    "  Args:\n",
    "    - file_name: the location of file to be loaded\n",
    "    - seq_len: sequence length\n",
    "    - missing_rate: rate of missing data to be introduced\n",
    "    \n",
    "  Returns:\n",
    "    - x: data with missing values\n",
    "    - m: observation indicator (m=1: observe, m=0: missing)\n",
    "    - t: time information (time difference between two measurments)\n",
    "    - ori_x: original data without missing values (for evaluation)\n",
    "  \"\"\"\n",
    "  \n",
    "  # Load the dataset\n",
    "  df = pd.read_csv('datasets/pm25_missing_value.csv')\n",
    "  ori_df = pd.read_csv('datasets/pm25_ground_value.csv')\n",
    "\n",
    "  df_scaler = (df - df.mean()) / df.std()\n",
    "  ori_scaler = (ori_df - df.mean()) / df.std()\n",
    "\n",
    "  data = df_scaler.values\n",
    "  ori_data = ori_scaler.values\n",
    "  data = data[::-1]\n",
    "  ori_data = ori_data[::-1]\n",
    "  \n",
    "  # Parameters\n",
    "  no, dim = data.shape\n",
    "  no = no // seq_len\n",
    "\n",
    "  masks = ~np.isnan(data)\n",
    "  gt_masks = ~np.isnan(ori_data)\n",
    "  \n",
    "  # Define original data\n",
    "  ori_x = list()  \n",
    "  for i in range(no):\n",
    "    temp_ori_x = ori_data[i*seq_len:((i+1)*seq_len)]\n",
    "    ori_x = ori_x + [temp_ori_x]\n",
    "  \n",
    "  x = list()\n",
    "  for i in range(no):\n",
    "    temp_x = data[i:(i+seq_len)]\n",
    "    x = x + [temp_x]\n",
    "    \n",
    "  # Introduce missingness\n",
    "  m = list()\n",
    "  gt_m = list()\n",
    "  t = list()\n",
    "  \n",
    "  for i in range(no):\n",
    "    # m\n",
    "    temp_m = masks[i:(i+seq_len)]\n",
    "    m = m + [temp_m]\n",
    "\n",
    "    gt_temp_m = gt_masks[i:(i+seq_len)]\n",
    "    gt_m = gt_m + [gt_temp_m]\n",
    "    \n",
    "    # t\n",
    "    temp_t = np.ones([seq_len, dim])\n",
    "    for j in range(dim):\n",
    "      for k in range(1, seq_len):\n",
    "        if temp_m[k, j] == 0:\n",
    "          temp_t[k, j] = temp_t[k-1, j] + 1\n",
    "    t = t + [temp_t]\n",
    "    \n",
    "  # Convert into 3d numpy array\n",
    "  x = np.asarray(x)\n",
    "  m = np.asarray(m)\n",
    "  gt_m = np.asarray(gt_m)\n",
    "  t = np.asarray(t)\n",
    "  ori_x = np.asarray(ori_x)  \n",
    "  \n",
    "  # Fill 0 to the missing values\n",
    "  x = np.nan_to_num(x, 0.)\n",
    "  ori_x = np.nan_to_num(ori_x, 0.)\n",
    "\n",
    "  return x, m, t, ori_x, gt_m"
   ]
  },
  {
   "cell_type": "code",
   "execution_count": 14,
   "metadata": {},
   "outputs": [],
   "source": [
    "import pandas as pd\n",
    "df = pd.read_csv(\"./datasets/pm25_missing.csv\")\n",
    "gt = pd.read_csv(\"./datasets/pm25_ground.csv\")"
   ]
  },
  {
   "cell_type": "code",
   "execution_count": 12,
   "metadata": {},
   "outputs": [],
   "source": [
    "df= df[df.columns[1:]]"
   ]
  },
  {
   "cell_type": "code",
   "execution_count": 13,
   "metadata": {},
   "outputs": [],
   "source": [
    "df.to_csv(\"./datasets/pm25_missing_value.csv\", index= False)"
   ]
  },
  {
   "cell_type": "code",
   "execution_count": 15,
   "metadata": {},
   "outputs": [],
   "source": [
    "gt= gt[gt.columns[1:]]"
   ]
  },
  {
   "cell_type": "code",
   "execution_count": 16,
   "metadata": {},
   "outputs": [],
   "source": [
    "gt.to_csv(\"./datasets/pm25_ground_value.csv\", index= False)"
   ]
  },
  {
   "cell_type": "code",
   "execution_count": 26,
   "metadata": {},
   "outputs": [],
   "source": [
    "x, m, t, ori_x,gt_m = data_loader_air()"
   ]
  },
  {
   "cell_type": "code",
   "execution_count": 27,
   "metadata": {},
   "outputs": [
    {
     "data": {
      "text/plain": [
       "(8723, 36, 36)"
      ]
     },
     "execution_count": 27,
     "metadata": {},
     "output_type": "execute_result"
    }
   ],
   "source": [
    "x.shape"
   ]
  },
  {
   "cell_type": "code",
   "execution_count": 28,
   "metadata": {},
   "outputs": [
    {
     "data": {
      "text/plain": [
       "(8723, 36, 36)"
      ]
     },
     "execution_count": 28,
     "metadata": {},
     "output_type": "execute_result"
    }
   ],
   "source": [
    "m.shape"
   ]
  },
  {
   "cell_type": "code",
   "execution_count": 29,
   "metadata": {},
   "outputs": [],
   "source": [
    "x, m, t, ori_x= data_loader()"
   ]
  },
  {
   "cell_type": "code",
   "execution_count": 5,
   "metadata": {},
   "outputs": [
    {
     "data": {
      "text/plain": [
       "(725, 7, 5)"
      ]
     },
     "execution_count": 5,
     "metadata": {},
     "output_type": "execute_result"
    }
   ],
   "source": [
    "x.shape"
   ]
  },
  {
   "cell_type": "code",
   "execution_count": 30,
   "metadata": {},
   "outputs": [
    {
     "data": {
      "text/plain": [
       "(725, 7, 5)"
      ]
     },
     "execution_count": 30,
     "metadata": {},
     "output_type": "execute_result"
    }
   ],
   "source": [
    "m.shape"
   ]
  },
  {
   "cell_type": "code",
   "execution_count": 31,
   "metadata": {},
   "outputs": [
    {
     "data": {
      "text/plain": [
       "(725, 7, 5)"
      ]
     },
     "execution_count": 31,
     "metadata": {},
     "output_type": "execute_result"
    }
   ],
   "source": [
    "t.shape"
   ]
  },
  {
   "cell_type": "code",
   "execution_count": 6,
   "metadata": {},
   "outputs": [
    {
     "data": {
      "text/plain": [
       "(725, 7, 5)"
      ]
     },
     "execution_count": 6,
     "metadata": {},
     "output_type": "execute_result"
    }
   ],
   "source": [
    "ori_x.shape"
   ]
  },
  {
   "cell_type": "code",
   "execution_count": 25,
   "metadata": {},
   "outputs": [
    {
     "ename": "IndentationError",
     "evalue": "unindent does not match any outer indentation level (<tokenize>, line 14)",
     "output_type": "error",
     "traceback": [
      "\u001b[1;36m  File \u001b[1;32m<tokenize>:14\u001b[1;36m\u001b[0m\n\u001b[1;33m    assert metric_name in ['mae','mse','rmse']\u001b[0m\n\u001b[1;37m    ^\u001b[0m\n\u001b[1;31mIndentationError\u001b[0m\u001b[1;31m:\u001b[0m unindent does not match any outer indentation level\n"
     ]
    }
   ],
   "source": [
    "def imputation_performance_air (ori_x, imputed_x, gt_m, m, metric_name):\n",
    "  \"\"\"Performance metrics for imputation.\n",
    "  \n",
    "  Args:\n",
    "    - ori_x: original complete data (without missing values)\n",
    "    - imputed_x: imputed data from incomplete data\n",
    "    - m: observation indicator\n",
    "    - metric_name: mae, mse, or rmse\n",
    "    \n",
    "  Returns:\n",
    "    - performance: imputation performance in terms or mae, mse, or rmse\n",
    "  \"\"\"\n",
    "  \n",
    "  assert metric_name in ['mae','mse','rmse']\n",
    "  \n",
    "  no, seq_len, dim = ori_x.shape\n",
    "  \n",
    "  # Reshape 3d array to 2d array\n",
    "  ori_x = np.reshape(ori_x, [no * seq_len, dim])\n",
    "  imputed_x = np.reshape(imputed_x, [no * seq_len, dim])\n",
    "  m = np.reshape(m, [no * seq_len, dim])\n",
    "  gt_m = np.reshape(gt_m, [no * seq_len, dim])\n",
    "  \n",
    "  # Only compute the imputation performance if m = 0 (missing)\n",
    "  if metric_name == 'mae':\n",
    "    performance = mean_absolute_error(ori_x, imputed_x, gt_m - m)\n",
    "  elif metric_name == 'mse':\n",
    "    performance = mean_squared_error(ori_x, imputed_x, gt_m - m)\n",
    "  elif metric_name == 'rmse':\n",
    "    performance = np.sqrt(mean_squared_error(ori_x, imputed_x, gt_m - m))\n",
    "    \n",
    "  return performance"
   ]
  },
  {
   "cell_type": "code",
   "execution_count": 37,
   "metadata": {},
   "outputs": [],
   "source": [
    "mx = np.zeros([1,36,1])"
   ]
  },
  {
   "cell_type": "code",
   "execution_count": 41,
   "metadata": {},
   "outputs": [],
   "source": [
    "idx = np.where(mx[0,:,0]==1)[0]"
   ]
  },
  {
   "cell_type": "code",
   "execution_count": 53,
   "metadata": {},
   "outputs": [
    {
     "data": {
      "text/plain": [
       "243"
      ]
     },
     "execution_count": 53,
     "metadata": {},
     "output_type": "execute_result"
    }
   ],
   "source": [
    "8759 // 36"
   ]
  },
  {
   "cell_type": "code",
   "execution_count": 49,
   "metadata": {},
   "outputs": [
    {
     "ename": "UnicodeDecodeError",
     "evalue": "'ascii' codec can't decode byte 0x8e in position 2: ordinal not in range(128)",
     "output_type": "error",
     "traceback": [
      "\u001b[1;31m---------------------------------------------------------------------------\u001b[0m",
      "\u001b[1;31mUnicodeDecodeError\u001b[0m                        Traceback (most recent call last)",
      "\u001b[1;32mc:\\Users\\chanyoung\\Desktop\\MRNN\\newdatapreprocessing.ipynb Cell 19\u001b[0m in \u001b[0;36m<cell line: 2>\u001b[1;34m()\u001b[0m\n\u001b[0;32m      <a href='vscode-notebook-cell:/c%3A/Users/chanyoung/Desktop/MRNN/newdatapreprocessing.ipynb#X13sZmlsZQ%3D%3D?line=0'>1</a>\u001b[0m \u001b[39mimport\u001b[39;00m \u001b[39mpickle\u001b[39;00m\n\u001b[0;32m      <a href='vscode-notebook-cell:/c%3A/Users/chanyoung/Desktop/MRNN/newdatapreprocessing.ipynb#X13sZmlsZQ%3D%3D?line=1'>2</a>\u001b[0m \u001b[39mwith\u001b[39;00m \u001b[39mopen\u001b[39m(\u001b[39m\"\u001b[39m\u001b[39moutput.pickle\u001b[39m\u001b[39m\"\u001b[39m, \u001b[39m'\u001b[39m\u001b[39mrb\u001b[39m\u001b[39m'\u001b[39m) \u001b[39mas\u001b[39;00m fw:\n\u001b[1;32m----> <a href='vscode-notebook-cell:/c%3A/Users/chanyoung/Desktop/MRNN/newdatapreprocessing.ipynb#X13sZmlsZQ%3D%3D?line=2'>3</a>\u001b[0m     data \u001b[39m=\u001b[39m pickle\u001b[39m.\u001b[39;49mload(fw)\n",
      "\u001b[1;31mUnicodeDecodeError\u001b[0m: 'ascii' codec can't decode byte 0x8e in position 2: ordinal not in range(128)"
     ]
    }
   ],
   "source": [
    "import pickle\n",
    "with open(\"output.pickle\", 'rb') as fw:\n",
    "    data = pickle.load(fw)"
   ]
  },
  {
   "cell_type": "code",
   "execution_count": 51,
   "metadata": {},
   "outputs": [
    {
     "ename": "UnicodeDecodeError",
     "evalue": "'ascii' codec can't decode byte 0x8e in position 2: ordinal not in range(128)",
     "output_type": "error",
     "traceback": [
      "\u001b[1;31m---------------------------------------------------------------------------\u001b[0m",
      "\u001b[1;31mUnicodeDecodeError\u001b[0m                        Traceback (most recent call last)",
      "\u001b[1;32mc:\\Users\\chanyoung\\Desktop\\MRNN\\newdatapreprocessing.ipynb Cell 20\u001b[0m in \u001b[0;36m<cell line: 4>\u001b[1;34m()\u001b[0m\n\u001b[0;32m      <a href='vscode-notebook-cell:/c%3A/Users/chanyoung/Desktop/MRNN/newdatapreprocessing.ipynb#X30sZmlsZQ%3D%3D?line=2'>3</a>\u001b[0m \u001b[39m# 바이너리 파일을 열 때는 'rb' 모드로 열기\u001b[39;00m\n\u001b[0;32m      <a href='vscode-notebook-cell:/c%3A/Users/chanyoung/Desktop/MRNN/newdatapreprocessing.ipynb#X30sZmlsZQ%3D%3D?line=3'>4</a>\u001b[0m \u001b[39mwith\u001b[39;00m \u001b[39mopen\u001b[39m(\u001b[39m\"\u001b[39m\u001b[39moutput.pickle\u001b[39m\u001b[39m\"\u001b[39m, \u001b[39m'\u001b[39m\u001b[39mrb\u001b[39m\u001b[39m'\u001b[39m) \u001b[39mas\u001b[39;00m fw:\n\u001b[1;32m----> <a href='vscode-notebook-cell:/c%3A/Users/chanyoung/Desktop/MRNN/newdatapreprocessing.ipynb#X30sZmlsZQ%3D%3D?line=4'>5</a>\u001b[0m     data \u001b[39m=\u001b[39m pickle\u001b[39m.\u001b[39;49mload(fw)\n",
      "\u001b[1;31mUnicodeDecodeError\u001b[0m: 'ascii' codec can't decode byte 0x8e in position 2: ordinal not in range(128)"
     ]
    }
   ],
   "source": [
    "import pickle\n",
    "\n",
    "# 바이너리 파일을 열 때는 'rb' 모드로 열기\n",
    "with open(\"output.pickle\", 'rb') as fw:\n",
    "    data = pickle.load(fw)\n"
   ]
  }
 ],
 "metadata": {
  "kernelspec": {
   "display_name": "cooling",
   "language": "python",
   "name": "python3"
  },
  "language_info": {
   "codemirror_mode": {
    "name": "ipython",
    "version": 3
   },
   "file_extension": ".py",
   "mimetype": "text/x-python",
   "name": "python",
   "nbconvert_exporter": "python",
   "pygments_lexer": "ipython3",
   "version": "3.10.4"
  },
  "orig_nbformat": 4
 },
 "nbformat": 4,
 "nbformat_minor": 2
}
