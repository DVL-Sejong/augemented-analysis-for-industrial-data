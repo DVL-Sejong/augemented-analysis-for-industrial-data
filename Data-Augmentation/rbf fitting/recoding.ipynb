{
 "cells": [
  {
   "cell_type": "code",
   "execution_count": 1,
   "metadata": {},
   "outputs": [],
   "source": [
    "import torch\n",
    "import torch.nn as nn\n",
    "from torch.autograd import Variable\n",
    "from torch.nn.parameter import Parameter\n",
    "import torch.nn.functional as F\n",
    "from tqdm import tqdm\n",
    "import math\n",
    "import torch.optim as optim"
   ]
  },
  {
   "cell_type": "code",
   "execution_count": 2,
   "metadata": {},
   "outputs": [],
   "source": [
    "import pandas as pd\n",
    "import numpy as np"
   ]
  },
  {
   "cell_type": "code",
   "execution_count": 20,
   "metadata": {},
   "outputs": [],
   "source": [
    "from dataloader import  missing_data, missing_data_rbf, eval_model, eval_bi_model\n",
    "from models.model import MGRU,BiMGRU, train_MGRU, train_BiMGRU"
   ]
  },
  {
   "cell_type": "code",
   "execution_count": 4,
   "metadata": {},
   "outputs": [],
   "source": [
    "df = pd.read_csv(\"./dataset/\"+\"pm25_missing.txt\").drop([\"datetime\"], axis = 1)\n",
    "dataset = missing_data_rbf(df, 64)"
   ]
  },
  {
   "cell_type": "code",
   "execution_count": 5,
   "metadata": {},
   "outputs": [],
   "source": [
    "device = \"cuda\" if torch.cuda.is_available() else \"cpu\""
   ]
  },
  {
   "cell_type": "code",
   "execution_count": 6,
   "metadata": {},
   "outputs": [
    {
     "data": {
      "text/plain": [
       "MGRU(\n",
       "  (temp_decay_h): TemporalDecay(\n",
       "    (relu): ReLU()\n",
       "  )\n",
       "  (temp_decay_x): TemporalDecay(\n",
       "    (relu): ReLU()\n",
       "  )\n",
       "  (output_layer): Linear(in_features=64, out_features=36, bias=True)\n",
       "  (z_layer): FeatureRegression()\n",
       "  (beta_layer): Linear(in_features=72, out_features=36, bias=True)\n",
       "  (grucell): GRUCell(72, 64)\n",
       ")"
      ]
     },
     "execution_count": 6,
     "metadata": {},
     "output_type": "execute_result"
    }
   ],
   "source": [
    "model = MGRU(36, 64)\n",
    "model.to(device)"
   ]
  },
  {
   "cell_type": "code",
   "execution_count": 11,
   "metadata": {},
   "outputs": [
    {
     "data": {
      "text/plain": [
       "136"
      ]
     },
     "execution_count": 11,
     "metadata": {},
     "output_type": "execute_result"
    }
   ],
   "source": [
    "8756 // 64"
   ]
  },
  {
   "cell_type": "code",
   "execution_count": 12,
   "metadata": {},
   "outputs": [
    {
     "name": "stdout",
     "output_type": "stream",
     "text": [
      "torch.Size([64, 3, 64, 36])\n",
      "torch.Size([64, 3, 64, 36])\n",
      "torch.Size([8, 3, 64, 36])\n"
     ]
    }
   ],
   "source": [
    "for data in dataset:\n",
    "    print(data.size())"
   ]
  },
  {
   "cell_type": "code",
   "execution_count": 15,
   "metadata": {},
   "outputs": [
    {
     "name": "stderr",
     "output_type": "stream",
     "text": [
      "loss: 104.32968139648438: 100%|██████████| 100/100 [01:12<00:00,  1.38it/s]\n"
     ]
    }
   ],
   "source": [
    "loss_list = train_MGRU(model, 0.001,100, dataset, device)"
   ]
  },
  {
   "cell_type": "code",
   "execution_count": 16,
   "metadata": {},
   "outputs": [
    {
     "name": "stdout",
     "output_type": "stream",
     "text": [
      "Scale MAE : tensor(0.1908)\n",
      "Scale MRE : tensor(0.2754)\n",
      "Original MAE : 15.360264944542333\n",
      "Original MRE : 0.21576326222445763\n"
     ]
    }
   ],
   "source": [
    "Nonscale_imputataion = eval_model(model, \"pm25_ground.csv\", \"pm25_missing.csv\")"
   ]
  },
  {
   "cell_type": "code",
   "execution_count": 17,
   "metadata": {},
   "outputs": [
    {
     "data": {
      "text/plain": [
       "BiMGRU(\n",
       "  (fmGRU): MGRU(\n",
       "    (temp_decay_h): TemporalDecay(\n",
       "      (relu): ReLU()\n",
       "    )\n",
       "    (temp_decay_x): TemporalDecay(\n",
       "      (relu): ReLU()\n",
       "    )\n",
       "    (output_layer): Linear(in_features=64, out_features=36, bias=True)\n",
       "    (z_layer): FeatureRegression()\n",
       "    (beta_layer): Linear(in_features=72, out_features=36, bias=True)\n",
       "    (grucell): GRUCell(72, 64)\n",
       "  )\n",
       "  (bmGRU): MGRU(\n",
       "    (temp_decay_h): TemporalDecay(\n",
       "      (relu): ReLU()\n",
       "    )\n",
       "    (temp_decay_x): TemporalDecay(\n",
       "      (relu): ReLU()\n",
       "    )\n",
       "    (output_layer): Linear(in_features=64, out_features=36, bias=True)\n",
       "    (z_layer): FeatureRegression()\n",
       "    (beta_layer): Linear(in_features=72, out_features=36, bias=True)\n",
       "    (grucell): GRUCell(72, 64)\n",
       "  )\n",
       ")"
      ]
     },
     "execution_count": 17,
     "metadata": {},
     "output_type": "execute_result"
    }
   ],
   "source": [
    "model2 = BiMGRU(36, 64)\n",
    "model2.to(device)"
   ]
  },
  {
   "cell_type": "code",
   "execution_count": 18,
   "metadata": {},
   "outputs": [
    {
     "name": "stderr",
     "output_type": "stream",
     "text": [
      "loss: 220.26470947265625, f_MGRU loss : 109.3384017944336, b_MGRU loss : 0.08653923124074936, consistency Loss : 110.83976745605469: 100%|██████████| 100/100 [02:16<00:00,  1.36s/it]\n"
     ]
    }
   ],
   "source": [
    "loss_list = train_BiMGRU(model2, 0.001,100, dataset, device)"
   ]
  },
  {
   "cell_type": "code",
   "execution_count": 21,
   "metadata": {},
   "outputs": [
    {
     "name": "stdout",
     "output_type": "stream",
     "text": [
      "Scale MAE : tensor(0.5123)\n",
      "Scale MRE : tensor(0.7396)\n",
      "Original MAE : 41.26353870669775\n",
      "Original MRE : 0.5796225360973133\n"
     ]
    }
   ],
   "source": [
    "Nonscale_imputataion = eval_bi_model(model2, \"pm25_ground.csv\", \"pm25_missing.csv\")"
   ]
  },
  {
   "cell_type": "code",
   "execution_count": 9,
   "metadata": {},
   "outputs": [
    {
     "name": "stdout",
     "output_type": "stream",
     "text": [
      "Scale MAE : tensor(0.2237)\n",
      "Scale MRE : tensor(0.3229)\n",
      "Original MAE : 17.981988019045428\n",
      "Original MRE : 0.2525902001220954\n"
     ]
    }
   ],
   "source": [
    "Nonscale_imputataion = eval_model(model, \"pm25_ground.csv\", \"pm25_missing.csv\")"
   ]
  },
  {
   "cell_type": "code",
   "execution_count": 10,
   "metadata": {},
   "outputs": [
    {
     "data": {
      "text/html": [
       "<div>\n",
       "<style scoped>\n",
       "    .dataframe tbody tr th:only-of-type {\n",
       "        vertical-align: middle;\n",
       "    }\n",
       "\n",
       "    .dataframe tbody tr th {\n",
       "        vertical-align: top;\n",
       "    }\n",
       "\n",
       "    .dataframe thead th {\n",
       "        text-align: right;\n",
       "    }\n",
       "</style>\n",
       "<table border=\"1\" class=\"dataframe\">\n",
       "  <thead>\n",
       "    <tr style=\"text-align: right;\">\n",
       "      <th></th>\n",
       "      <th>001001</th>\n",
       "      <th>001002</th>\n",
       "      <th>001003</th>\n",
       "      <th>001004</th>\n",
       "      <th>001005</th>\n",
       "      <th>001006</th>\n",
       "      <th>001007</th>\n",
       "      <th>001008</th>\n",
       "      <th>001009</th>\n",
       "      <th>001010</th>\n",
       "      <th>...</th>\n",
       "      <th>001027</th>\n",
       "      <th>001028</th>\n",
       "      <th>001029</th>\n",
       "      <th>001030</th>\n",
       "      <th>001031</th>\n",
       "      <th>001032</th>\n",
       "      <th>001033</th>\n",
       "      <th>001034</th>\n",
       "      <th>001035</th>\n",
       "      <th>001036</th>\n",
       "    </tr>\n",
       "  </thead>\n",
       "  <tbody>\n",
       "    <tr>\n",
       "      <th>0</th>\n",
       "      <td>137.999998</td>\n",
       "      <td>89.000000</td>\n",
       "      <td>104.999999</td>\n",
       "      <td>98.000000</td>\n",
       "      <td>109.000001</td>\n",
       "      <td>87.000000</td>\n",
       "      <td>88.000000</td>\n",
       "      <td>91.000000</td>\n",
       "      <td>87.000000</td>\n",
       "      <td>87.000000</td>\n",
       "      <td>...</td>\n",
       "      <td>69.262223</td>\n",
       "      <td>84.000000</td>\n",
       "      <td>116.999999</td>\n",
       "      <td>67.363484</td>\n",
       "      <td>96.999999</td>\n",
       "      <td>87.000000</td>\n",
       "      <td>74.000000</td>\n",
       "      <td>94.000000</td>\n",
       "      <td>107.070701</td>\n",
       "      <td>115.017861</td>\n",
       "    </tr>\n",
       "    <tr>\n",
       "      <th>1</th>\n",
       "      <td>124.000001</td>\n",
       "      <td>85.000000</td>\n",
       "      <td>121.000002</td>\n",
       "      <td>107.000000</td>\n",
       "      <td>101.000000</td>\n",
       "      <td>99.000000</td>\n",
       "      <td>104.999999</td>\n",
       "      <td>101.999999</td>\n",
       "      <td>103.000000</td>\n",
       "      <td>94.000000</td>\n",
       "      <td>...</td>\n",
       "      <td>84.608519</td>\n",
       "      <td>76.999999</td>\n",
       "      <td>108.999999</td>\n",
       "      <td>83.692972</td>\n",
       "      <td>96.999999</td>\n",
       "      <td>84.000001</td>\n",
       "      <td>84.000000</td>\n",
       "      <td>101.000000</td>\n",
       "      <td>97.214794</td>\n",
       "      <td>110.385838</td>\n",
       "    </tr>\n",
       "    <tr>\n",
       "      <th>2</th>\n",
       "      <td>127.000002</td>\n",
       "      <td>88.000000</td>\n",
       "      <td>129.999998</td>\n",
       "      <td>115.000000</td>\n",
       "      <td>102.000000</td>\n",
       "      <td>109.000000</td>\n",
       "      <td>114.000000</td>\n",
       "      <td>108.000000</td>\n",
       "      <td>112.000001</td>\n",
       "      <td>109.000000</td>\n",
       "      <td>...</td>\n",
       "      <td>95.991138</td>\n",
       "      <td>90.000000</td>\n",
       "      <td>105.000000</td>\n",
       "      <td>94.601606</td>\n",
       "      <td>103.000000</td>\n",
       "      <td>82.999999</td>\n",
       "      <td>100.000000</td>\n",
       "      <td>112.000000</td>\n",
       "      <td>106.046900</td>\n",
       "      <td>121.870493</td>\n",
       "    </tr>\n",
       "    <tr>\n",
       "      <th>3</th>\n",
       "      <td>129.000000</td>\n",
       "      <td>99.999999</td>\n",
       "      <td>136.999999</td>\n",
       "      <td>122.999999</td>\n",
       "      <td>108.000000</td>\n",
       "      <td>117.999999</td>\n",
       "      <td>118.000000</td>\n",
       "      <td>108.999999</td>\n",
       "      <td>117.000001</td>\n",
       "      <td>111.000000</td>\n",
       "      <td>...</td>\n",
       "      <td>99.828433</td>\n",
       "      <td>94.000001</td>\n",
       "      <td>105.000000</td>\n",
       "      <td>95.826133</td>\n",
       "      <td>106.999999</td>\n",
       "      <td>88.000000</td>\n",
       "      <td>103.000001</td>\n",
       "      <td>120.000000</td>\n",
       "      <td>107.410592</td>\n",
       "      <td>125.106039</td>\n",
       "    </tr>\n",
       "    <tr>\n",
       "      <th>4</th>\n",
       "      <td>111.912592</td>\n",
       "      <td>109.000000</td>\n",
       "      <td>143.999999</td>\n",
       "      <td>129.000000</td>\n",
       "      <td>115.000000</td>\n",
       "      <td>124.000001</td>\n",
       "      <td>129.999999</td>\n",
       "      <td>116.000001</td>\n",
       "      <td>123.999998</td>\n",
       "      <td>114.000000</td>\n",
       "      <td>...</td>\n",
       "      <td>101.366482</td>\n",
       "      <td>80.000000</td>\n",
       "      <td>103.999999</td>\n",
       "      <td>97.725838</td>\n",
       "      <td>110.999999</td>\n",
       "      <td>85.000000</td>\n",
       "      <td>108.000000</td>\n",
       "      <td>125.000000</td>\n",
       "      <td>109.553915</td>\n",
       "      <td>128.602624</td>\n",
       "    </tr>\n",
       "    <tr>\n",
       "      <th>...</th>\n",
       "      <td>...</td>\n",
       "      <td>...</td>\n",
       "      <td>...</td>\n",
       "      <td>...</td>\n",
       "      <td>...</td>\n",
       "      <td>...</td>\n",
       "      <td>...</td>\n",
       "      <td>...</td>\n",
       "      <td>...</td>\n",
       "      <td>...</td>\n",
       "      <td>...</td>\n",
       "      <td>...</td>\n",
       "      <td>...</td>\n",
       "      <td>...</td>\n",
       "      <td>...</td>\n",
       "      <td>...</td>\n",
       "      <td>...</td>\n",
       "      <td>...</td>\n",
       "      <td>...</td>\n",
       "      <td>...</td>\n",
       "      <td>...</td>\n",
       "    </tr>\n",
       "    <tr>\n",
       "      <th>8754</th>\n",
       "      <td>86.000000</td>\n",
       "      <td>72.000000</td>\n",
       "      <td>70.000000</td>\n",
       "      <td>72.000000</td>\n",
       "      <td>73.000000</td>\n",
       "      <td>63.000000</td>\n",
       "      <td>65.000000</td>\n",
       "      <td>69.000000</td>\n",
       "      <td>74.000000</td>\n",
       "      <td>65.999999</td>\n",
       "      <td>...</td>\n",
       "      <td>94.894990</td>\n",
       "      <td>90.824987</td>\n",
       "      <td>79.000000</td>\n",
       "      <td>69.000000</td>\n",
       "      <td>74.000000</td>\n",
       "      <td>125.000003</td>\n",
       "      <td>94.000000</td>\n",
       "      <td>67.000001</td>\n",
       "      <td>64.000001</td>\n",
       "      <td>66.729725</td>\n",
       "    </tr>\n",
       "    <tr>\n",
       "      <th>8755</th>\n",
       "      <td>87.000000</td>\n",
       "      <td>73.000000</td>\n",
       "      <td>73.000001</td>\n",
       "      <td>75.999999</td>\n",
       "      <td>83.000001</td>\n",
       "      <td>63.000000</td>\n",
       "      <td>61.000000</td>\n",
       "      <td>62.000001</td>\n",
       "      <td>62.000001</td>\n",
       "      <td>68.000001</td>\n",
       "      <td>...</td>\n",
       "      <td>92.566394</td>\n",
       "      <td>87.155220</td>\n",
       "      <td>64.000000</td>\n",
       "      <td>67.000000</td>\n",
       "      <td>75.000000</td>\n",
       "      <td>124.000003</td>\n",
       "      <td>128.000000</td>\n",
       "      <td>103.000000</td>\n",
       "      <td>69.000000</td>\n",
       "      <td>66.568798</td>\n",
       "    </tr>\n",
       "    <tr>\n",
       "      <th>8756</th>\n",
       "      <td>80.000000</td>\n",
       "      <td>74.000000</td>\n",
       "      <td>80.000000</td>\n",
       "      <td>70.000000</td>\n",
       "      <td>84.000000</td>\n",
       "      <td>69.000000</td>\n",
       "      <td>72.000000</td>\n",
       "      <td>75.000000</td>\n",
       "      <td>77.000000</td>\n",
       "      <td>73.000000</td>\n",
       "      <td>...</td>\n",
       "      <td>94.001082</td>\n",
       "      <td>95.405078</td>\n",
       "      <td>72.000000</td>\n",
       "      <td>70.000000</td>\n",
       "      <td>82.000000</td>\n",
       "      <td>125.000003</td>\n",
       "      <td>139.000000</td>\n",
       "      <td>166.000001</td>\n",
       "      <td>77.999999</td>\n",
       "      <td>71.062419</td>\n",
       "    </tr>\n",
       "    <tr>\n",
       "      <th>8757</th>\n",
       "      <td>90.294533</td>\n",
       "      <td>74.725859</td>\n",
       "      <td>87.000000</td>\n",
       "      <td>73.313409</td>\n",
       "      <td>76.624333</td>\n",
       "      <td>76.000000</td>\n",
       "      <td>79.000000</td>\n",
       "      <td>82.689084</td>\n",
       "      <td>82.000000</td>\n",
       "      <td>76.621252</td>\n",
       "      <td>...</td>\n",
       "      <td>92.629487</td>\n",
       "      <td>90.050429</td>\n",
       "      <td>89.644663</td>\n",
       "      <td>74.000000</td>\n",
       "      <td>86.013496</td>\n",
       "      <td>83.363710</td>\n",
       "      <td>83.193227</td>\n",
       "      <td>100.033523</td>\n",
       "      <td>88.824713</td>\n",
       "      <td>80.787288</td>\n",
       "    </tr>\n",
       "    <tr>\n",
       "      <th>8758</th>\n",
       "      <td>79.000000</td>\n",
       "      <td>73.000000</td>\n",
       "      <td>93.000001</td>\n",
       "      <td>77.000000</td>\n",
       "      <td>80.000000</td>\n",
       "      <td>73.000000</td>\n",
       "      <td>130.999998</td>\n",
       "      <td>74.000000</td>\n",
       "      <td>82.000000</td>\n",
       "      <td>94.000000</td>\n",
       "      <td>...</td>\n",
       "      <td>92.220461</td>\n",
       "      <td>112.712490</td>\n",
       "      <td>79.000000</td>\n",
       "      <td>87.000001</td>\n",
       "      <td>80.000000</td>\n",
       "      <td>146.999998</td>\n",
       "      <td>163.999999</td>\n",
       "      <td>244.000002</td>\n",
       "      <td>94.000000</td>\n",
       "      <td>82.289234</td>\n",
       "    </tr>\n",
       "  </tbody>\n",
       "</table>\n",
       "<p>8759 rows × 36 columns</p>\n",
       "</div>"
      ],
      "text/plain": [
       "          001001      001002      001003      001004      001005      001006  \\\n",
       "0     137.999998   89.000000  104.999999   98.000000  109.000001   87.000000   \n",
       "1     124.000001   85.000000  121.000002  107.000000  101.000000   99.000000   \n",
       "2     127.000002   88.000000  129.999998  115.000000  102.000000  109.000000   \n",
       "3     129.000000   99.999999  136.999999  122.999999  108.000000  117.999999   \n",
       "4     111.912592  109.000000  143.999999  129.000000  115.000000  124.000001   \n",
       "...          ...         ...         ...         ...         ...         ...   \n",
       "8754   86.000000   72.000000   70.000000   72.000000   73.000000   63.000000   \n",
       "8755   87.000000   73.000000   73.000001   75.999999   83.000001   63.000000   \n",
       "8756   80.000000   74.000000   80.000000   70.000000   84.000000   69.000000   \n",
       "8757   90.294533   74.725859   87.000000   73.313409   76.624333   76.000000   \n",
       "8758   79.000000   73.000000   93.000001   77.000000   80.000000   73.000000   \n",
       "\n",
       "          001007      001008      001009      001010  ...      001027  \\\n",
       "0      88.000000   91.000000   87.000000   87.000000  ...   69.262223   \n",
       "1     104.999999  101.999999  103.000000   94.000000  ...   84.608519   \n",
       "2     114.000000  108.000000  112.000001  109.000000  ...   95.991138   \n",
       "3     118.000000  108.999999  117.000001  111.000000  ...   99.828433   \n",
       "4     129.999999  116.000001  123.999998  114.000000  ...  101.366482   \n",
       "...          ...         ...         ...         ...  ...         ...   \n",
       "8754   65.000000   69.000000   74.000000   65.999999  ...   94.894990   \n",
       "8755   61.000000   62.000001   62.000001   68.000001  ...   92.566394   \n",
       "8756   72.000000   75.000000   77.000000   73.000000  ...   94.001082   \n",
       "8757   79.000000   82.689084   82.000000   76.621252  ...   92.629487   \n",
       "8758  130.999998   74.000000   82.000000   94.000000  ...   92.220461   \n",
       "\n",
       "          001028      001029     001030      001031      001032      001033  \\\n",
       "0      84.000000  116.999999  67.363484   96.999999   87.000000   74.000000   \n",
       "1      76.999999  108.999999  83.692972   96.999999   84.000001   84.000000   \n",
       "2      90.000000  105.000000  94.601606  103.000000   82.999999  100.000000   \n",
       "3      94.000001  105.000000  95.826133  106.999999   88.000000  103.000001   \n",
       "4      80.000000  103.999999  97.725838  110.999999   85.000000  108.000000   \n",
       "...          ...         ...        ...         ...         ...         ...   \n",
       "8754   90.824987   79.000000  69.000000   74.000000  125.000003   94.000000   \n",
       "8755   87.155220   64.000000  67.000000   75.000000  124.000003  128.000000   \n",
       "8756   95.405078   72.000000  70.000000   82.000000  125.000003  139.000000   \n",
       "8757   90.050429   89.644663  74.000000   86.013496   83.363710   83.193227   \n",
       "8758  112.712490   79.000000  87.000001   80.000000  146.999998  163.999999   \n",
       "\n",
       "          001034      001035      001036  \n",
       "0      94.000000  107.070701  115.017861  \n",
       "1     101.000000   97.214794  110.385838  \n",
       "2     112.000000  106.046900  121.870493  \n",
       "3     120.000000  107.410592  125.106039  \n",
       "4     125.000000  109.553915  128.602624  \n",
       "...          ...         ...         ...  \n",
       "8754   67.000001   64.000001   66.729725  \n",
       "8755  103.000000   69.000000   66.568798  \n",
       "8756  166.000001   77.999999   71.062419  \n",
       "8757  100.033523   88.824713   80.787288  \n",
       "8758  244.000002   94.000000   82.289234  \n",
       "\n",
       "[8759 rows x 36 columns]"
      ]
     },
     "execution_count": 10,
     "metadata": {},
     "output_type": "execute_result"
    }
   ],
   "source": [
    "Nonscale_imputataion"
   ]
  }
 ],
 "metadata": {
  "kernelspec": {
   "display_name": "cooling",
   "language": "python",
   "name": "python3"
  },
  "language_info": {
   "codemirror_mode": {
    "name": "ipython",
    "version": 3
   },
   "file_extension": ".py",
   "mimetype": "text/x-python",
   "name": "python",
   "nbconvert_exporter": "python",
   "pygments_lexer": "ipython3",
   "version": "3.10.4"
  },
  "orig_nbformat": 4
 },
 "nbformat": 4,
 "nbformat_minor": 2
}
