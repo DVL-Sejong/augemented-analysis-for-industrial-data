{
 "cells": [
  {
   "cell_type": "code",
   "execution_count": 1,
   "metadata": {},
   "outputs": [],
   "source": [
    "import torch\n",
    "import torch.nn as nn\n",
    "from torch.autograd import Variable\n",
    "from torch.nn.parameter import Parameter\n",
    "import torch.nn.functional as F\n",
    "from tqdm import tqdm\n",
    "import math\n",
    "import torch.optim as optim\n",
    "import pandas as pd\n",
    "import numpy as np"
   ]
  },
  {
   "cell_type": "code",
   "execution_count": 2,
   "metadata": {},
   "outputs": [],
   "source": [
    "from dataloader import  missing_data_rbf, eval_model, eval_bi_model\n",
    "from models.model import MGRU,BiMGRU, train_MGRU, train_BiMGRU, MGRU3"
   ]
  },
  {
   "cell_type": "code",
   "execution_count": 3,
   "metadata": {},
   "outputs": [],
   "source": [
    "device = \"cuda\" if torch.cuda.is_available() else \"cpu\""
   ]
  },
  {
   "cell_type": "code",
   "execution_count": 4,
   "metadata": {},
   "outputs": [],
   "source": [
    "df = pd.read_csv(\"./dataset/\"+\"pm25_missing.txt\").drop([\"datetime\"], axis = 1)\n",
    "dataset = missing_data_rbf(df,\"air_1000_0.05_time.csv\", 64, type_ = 2)"
   ]
  },
  {
   "cell_type": "code",
   "execution_count": 8,
   "metadata": {},
   "outputs": [
    {
     "name": "stderr",
     "output_type": "stream",
     "text": [
      "loss: 48.25734329223633: 100%|██████████| 1000/1000 [11:02<00:00,  1.51it/s]\n"
     ]
    },
    {
     "name": "stdout",
     "output_type": "stream",
     "text": [
      "Scale MAE : tensor(0.2487)\n",
      "Scale MRE : tensor(0.3590)\n",
      "Original MAE : 20.094764966010413\n",
      "Original MRE : 0.2822680506068142\n"
     ]
    }
   ],
   "source": [
    "model = MGRU(36, 64)\n",
    "model.to(device)\n",
    "loss_list = train_MGRU(model, 0.001, 1000, dataset, device)\n",
    "Nonscale_imputataion = eval_model(model,\"air_1000_0.05_time.csv\", \"pm25_ground.csv\", \"pm25_missing.csv\")"
   ]
  },
  {
   "cell_type": "code",
   "execution_count": 5,
   "metadata": {},
   "outputs": [
    {
     "name": "stderr",
     "output_type": "stream",
     "text": [
      "loss: 47.58953857421875: 100%|██████████| 1000/1000 [10:41<00:00,  1.56it/s]\n"
     ]
    },
    {
     "name": "stdout",
     "output_type": "stream",
     "text": [
      "Scale MAE : tensor(0.2534)\n",
      "Scale MRE : tensor(0.3659)\n",
      "Original MAE : 20.518115169974404\n",
      "Original MRE : 0.2882147853409123\n"
     ]
    }
   ],
   "source": [
    "# dropout 적용. hidden\n",
    "model = MGRU(36, 64)\n",
    "model.to(device)\n",
    "loss_list = train_MGRU(model, 0.001, 1000, dataset, device)\n",
    "Nonscale_imputataion = eval_model(model,\"air_1000_0.05_time.csv\", \"pm25_ground.csv\", \"pm25_missing.csv\")"
   ]
  },
  {
   "cell_type": "code",
   "execution_count": 6,
   "metadata": {},
   "outputs": [
    {
     "name": "stderr",
     "output_type": "stream",
     "text": [
      "loss: 52.77819061279297: 100%|██████████| 1000/1000 [10:32<00:00,  1.58it/s]\n"
     ]
    },
    {
     "name": "stdout",
     "output_type": "stream",
     "text": [
      "Scale MAE : tensor(0.1950)\n",
      "Scale MRE : tensor(0.2816)\n",
      "Original MAE : 15.92204668634376\n",
      "Original MRE : 0.22365452332619284\n"
     ]
    }
   ],
   "source": [
    "# diagnal 적용\n",
    "model = MGRU2(36, 64)\n",
    "model.to(device)\n",
    "loss_list = train_MGRU(model, 0.001, 1000, dataset, device)\n",
    "Nonscale_imputataion = eval_model(model,\"air_1000_0.05_time.csv\", \"pm25_ground.csv\", \"pm25_missing.csv\")"
   ]
  },
  {
   "cell_type": "code",
   "execution_count": 5,
   "metadata": {},
   "outputs": [
    {
     "name": "stderr",
     "output_type": "stream",
     "text": [
      "loss: 51.63648986816406: 100%|██████████| 1000/1000 [10:31<00:00,  1.58it/s]\n"
     ]
    },
    {
     "name": "stdout",
     "output_type": "stream",
     "text": [
      "Scale MAE : tensor(0.2097)\n",
      "Scale MRE : tensor(0.3028)\n",
      "Original MAE : 16.955475149690933\n",
      "Original MRE : 0.23817093286290594\n"
     ]
    }
   ],
   "source": [
    "# diagnal 적용\n",
    "model = MGRU2(36, 64)\n",
    "model.to(device)\n",
    "loss_list = train_MGRU(model, 0.001, 1000, dataset, device)\n",
    "Nonscale_imputataion = eval_model(model,\"air_1000_0.05_time.csv\", \"pm25_ground.csv\", \"pm25_missing.csv\")"
   ]
  },
  {
   "cell_type": "code",
   "execution_count": 6,
   "metadata": {},
   "outputs": [
    {
     "name": "stderr",
     "output_type": "stream",
     "text": [
      "loss: 52.53706359863281: 100%|██████████| 1000/1000 [10:39<00:00,  1.56it/s]\n"
     ]
    },
    {
     "name": "stdout",
     "output_type": "stream",
     "text": [
      "Scale MAE : tensor(0.2063)\n",
      "Scale MRE : tensor(0.2978)\n",
      "Original MAE : 16.642216390429734\n",
      "Original MRE : 0.23377063559833322\n"
     ]
    }
   ],
   "source": [
    "# diagnal 적용\n",
    "model = MGRU2(36, 64)\n",
    "model.to(device)\n",
    "loss_list = train_MGRU(model, 0.001, 1000, dataset, device)\n",
    "Nonscale_imputataion = eval_model(model,\"air_1000_0.05_time.csv\", \"pm25_ground.csv\", \"pm25_missing.csv\")"
   ]
  },
  {
   "cell_type": "code",
   "execution_count": 5,
   "metadata": {},
   "outputs": [
    {
     "name": "stderr",
     "output_type": "stream",
     "text": [
      "loss: 287.3460998535156: 100%|██████████| 1000/1000 [11:50<00:00,  1.41it/s]\n"
     ]
    },
    {
     "name": "stdout",
     "output_type": "stream",
     "text": [
      "Scale MAE : tensor(0.2022)\n",
      "Scale MRE : tensor(0.2920)\n",
      "Original MAE : 16.518949028151116\n",
      "Original MRE : 0.23203911805569546\n"
     ]
    }
   ],
   "source": [
    "# diagnal 적용\n",
    "model = MGRU3(36, 64)\n",
    "model.to(device)\n",
    "loss_list = train_MGRU(model, 0.001, 1000, dataset, device)\n",
    "Nonscale_imputataion = eval_model(model,\"air_1000_0.05_time.csv\", \"pm25_ground.csv\", \"pm25_missing.csv\")"
   ]
  },
  {
   "cell_type": "code",
   "execution_count": 6,
   "metadata": {},
   "outputs": [
    {
     "name": "stderr",
     "output_type": "stream",
     "text": [
      "loss: 53.69843292236328: 100%|██████████| 1000/1000 [10:56<00:00,  1.52it/s]\n"
     ]
    },
    {
     "name": "stdout",
     "output_type": "stream",
     "text": [
      "Scale MAE : tensor(0.1893)\n",
      "Scale MRE : tensor(0.2733)\n",
      "Original MAE : 15.287116439955748\n",
      "Original MRE : 0.2147357565119308\n"
     ]
    }
   ],
   "source": [
    "# diagnal 적용\n",
    "model = MGRU(36, 64)\n",
    "model.to(device)\n",
    "loss_list = train_MGRU(model, 0.001, 1000, dataset, device)\n",
    "Nonscale_imputataion = eval_model(model,\"air_1000_0.05_time.csv\", \"pm25_ground.csv\", \"pm25_missing.csv\")"
   ]
  },
  {
   "cell_type": "code",
   "execution_count": 7,
   "metadata": {},
   "outputs": [
    {
     "name": "stderr",
     "output_type": "stream",
     "text": [
      "loss: 111.76488494873047, f_MGRU loss : 55.584327697753906, b_MGRU loss : 0.08000271022319794, consistency Loss : 56.10054397583008: 100%|██████████| 1000/1000 [19:59<00:00,  1.20s/it]\n"
     ]
    },
    {
     "name": "stdout",
     "output_type": "stream",
     "text": [
      "Scale MAE : tensor(0.1972)\n",
      "Scale MRE : tensor(0.2847)\n",
      "Original MAE : 16.07418021887127\n",
      "Original MRE : 0.22579151949067167\n"
     ]
    }
   ],
   "source": [
    "# diagnal 적용\n",
    "model = BiMGRU(36, 64)\n",
    "model.to(device)\n",
    "loss_list = train_BiMGRU(model, 0.001, 1000, dataset, device)\n",
    "Nonscale_imputataion = eval_bi_model(model,\"air_1000_0.05_time.csv\", \"pm25_ground.csv\", \"pm25_missing.csv\")"
   ]
  },
  {
   "cell_type": "code",
   "execution_count": null,
   "metadata": {},
   "outputs": [],
   "source": []
  }
 ],
 "metadata": {
  "kernelspec": {
   "display_name": "cooling",
   "language": "python",
   "name": "python3"
  },
  "language_info": {
   "codemirror_mode": {
    "name": "ipython",
    "version": 3
   },
   "file_extension": ".py",
   "mimetype": "text/x-python",
   "name": "python",
   "nbconvert_exporter": "python",
   "pygments_lexer": "ipython3",
   "version": "3.10.4"
  },
  "orig_nbformat": 4
 },
 "nbformat": 4,
 "nbformat_minor": 2
}
