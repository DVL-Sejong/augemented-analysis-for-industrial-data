{
 "cells": [
  {
   "cell_type": "code",
   "execution_count": 1,
   "metadata": {},
   "outputs": [],
   "source": [
    "import torch\n",
    "import torch.nn as nn\n",
    "from torch.autograd import Variable\n",
    "from torch.nn.parameter import Parameter\n",
    "import torch.nn.functional as F\n",
    "from tqdm import tqdm\n",
    "import math\n",
    "import random\n",
    "import numpy as np\n",
    "import pandas as pd\n",
    "import torch.optim as optim\n",
    "from torch.utils.data import Dataset, DataLoader\n",
    "\n",
    "seed = 42\n",
    "random.seed(seed)\n",
    "np.random.seed(seed)\n",
    "torch.manual_seed(seed)\n",
    "torch.cuda.manual_seed(seed)\n",
    "torch.backends.cudnn.deterministic = True\n",
    "torch.backends.cudnn.benchmark = False\n",
    "\n",
    "device = \"cuda\" if torch.cuda.is_available() else \"cpu\""
   ]
  },
  {
   "cell_type": "code",
   "execution_count": 2,
   "metadata": {},
   "outputs": [],
   "source": [
    "df = pd.read_csv(\"./dataset/\" + 'pm25_ground.csv')\n",
    "df['datetime'] = pd.to_datetime(df['datetime'])\n",
    "month2 = df[df['datetime'].dt.month.isin([2])]\n",
    "month3 = df[df['datetime'].dt.month.isin([3])]\n",
    "month5 = df[df['datetime'].dt.month.isin([5])]\n",
    "month6 = df[df['datetime'].dt.month.isin([6])]\n",
    "month8 = df[df['datetime'].dt.month.isin([8])]\n",
    "month9 = df[df['datetime'].dt.month.isin([9])]\n",
    "month11 = df[df['datetime'].dt.month.isin([11])]\n",
    "month12 = df[df['datetime'].dt.month.isin([12])]"
   ]
  },
  {
   "cell_type": "code",
   "execution_count": 2,
   "metadata": {},
   "outputs": [],
   "source": [
    "\n",
    "def make_deltas(masks):\n",
    "    deltas = []\n",
    "    for h in range(len(masks)):\n",
    "        if h == 0:\n",
    "            deltas.append([1 for _ in range(masks.shape[1])])\n",
    "        else:\n",
    "            deltas.append([1 for _ in range(masks.shape[1])] + (1-masks[h]) * deltas[-1])\n",
    "    \n",
    "    return list(deltas)"
   ]
  },
  {
   "cell_type": "code",
   "execution_count": null,
   "metadata": {},
   "outputs": [],
   "source": [
    "def eval_bi_model_test(model,df, rbf_df):\n",
    "    df['datetime'] = pd.to_datetime(df['datetime'])\n",
    "    rbf_df['datetime'] = pd.to_datetime(rbf_df['datetime'])\n",
    "    ground_df = pd.to_datetime(ground_df['datetime'])\n",
    "\n",
    "    ori_error = 0.0\n",
    "    ori_test_mask_num = 0.0\n",
    "\n",
    "    for a in [6,9,12,3]:\n",
    "\n",
    "        missing_month = df[df['datetime'].dt.month.isin([a])]\n",
    "        before_month = df[df['datetime'].dt.month.isin([a - 1])]\n",
    "        ground_month = ground_df[ground_df['datetime'].dt.month.isin([a])]\n",
    "\n",
    "        rbf_month = rbf_df[rbf_df['datetime'].dt.month.isin([a])][df.columns[1:]]\n",
    "\n",
    "        before_mask = np.where(np.isnan(before_month[before_month.columns[1:]]), np.nan, 1.) \n",
    "        missing_mask = np.where(np.isnan(missing_month[missing_month.columns[1:]]), np.nan, 1.)\n",
    "        gt_mask = np.where(np.isnan(ground_month[ground_month.columns[1:]]), np.nan, 1.)\n",
    "        len_ = min(before_mask.shape[0], missing_mask.shape[0])\n",
    "\n",
    "        test_index = gt_mask - before_mask\n",
    "\n",
    "        test_df = pd.DataFrame(missing_month[missing_month.columns[1:]].values[:len_] * np.where(np.isnan(before_month[before_month.columns[1:]]), np.nan, 1.)[:len_], columns=df.columns[1:])\n",
    "\n",
    "        \n",
    "        values = ((test_df - df[df.columns[1:]].mean()) / df[df.columns[1:]].std()).values\n",
    "        shp = values.shape\n",
    "\n",
    "        test_masks = ~np.isnan(values)\n",
    "        ori_masks = ~np.isnan(missing_month[missing_month.columns[1:]].values[:len_])\n",
    "        test_masks = test_masks.reshape(shp)\n",
    "        rbf_x = torch.from_numpy(rbf_month.values[:len_]).to(torch.float32)\n",
    "\n",
    "        deltas = np.array(make_deltas(test_masks))\n",
    "        deltas = torch.from_numpy(deltas).to(torch.float32)\n",
    "        ori_masks = torch.from_numpy(ori_masks).to(torch.float32)\n",
    "        test_masks = torch.from_numpy(test_masks).to(torch.float32)\n",
    "        values = torch.nan_to_num(torch.from_numpy(values).to(torch.float32))\n",
    "\n",
    "        dataset = torch.cat([values.unsqueeze_(0), deltas.unsqueeze_(0), test_masks.unsqueeze_(0), rbf_x.unsqueeze_(0)], dim = 0).unsqueeze_(0)\n",
    "\n",
    "        model.eval()\n",
    "        loss, x_loss, back_x_loss, loss_c, bi_c_hat, bi_imputation = model(dataset.to(device))\n",
    "\n",
    "        Nonscale_imputataion = pd.DataFrame(bi_c_hat[0].cpu().detach() , columns= df.columns[1:])\n",
    "        Nonscale_imputataion = (Nonscale_imputataion * df[df.columns[1:]].std()) + df[df.columns[1:]].mean()\n",
    "        missing_month = missing_month[df.columns[1:]].fillna(0)\n",
    "\n",
    "        masks = ori_masks - test_masks\n",
    "\n",
    "        ori_error += np.sum(np.abs((Nonscale_imputataion.values - missing_month.values[:len_]) * masks.cpu().numpy()))\n",
    "        ori_test_mask_num += np.sum(masks.cpu().numpy())\n",
    "\n",
    "        print(a,\"month\")\n",
    "        print(np.sum(masks.cpu().numpy()))\n",
    "        print(np.sum(np.abs((Nonscale_imputataion.values - missing_month.values[:len_]) * masks.cpu().numpy())) / np.sum(masks.cpu().numpy()))\n",
    "\n",
    "    print(\"Original MAE :\", ori_error / ori_test_mask_num)"
   ]
  },
  {
   "cell_type": "code",
   "execution_count": null,
   "metadata": {},
   "outputs": [],
   "source": []
  },
  {
   "cell_type": "code",
   "execution_count": null,
   "metadata": {},
   "outputs": [],
   "source": []
  },
  {
   "cell_type": "code",
   "execution_count": null,
   "metadata": {},
   "outputs": [],
   "source": []
  },
  {
   "cell_type": "code",
   "execution_count": 7,
   "metadata": {},
   "outputs": [],
   "source": [
    "def eval_bi_model_test(model,df, rbf_df):\n",
    "    df['datetime'] = pd.to_datetime(df['datetime'])\n",
    "    rbf_df['datetime'] = pd.to_datetime(rbf_df['datetime'])\n",
    "\n",
    "    ori_error = 0.0\n",
    "    ori_test_mask_num = 0.0\n",
    "\n",
    "    for a in [6,9,12,3]:\n",
    "\n",
    "        ground_month = df[df['datetime'].dt.month.isin([a])]\n",
    "        before_month = df[df['datetime'].dt.month.isin([a - 1])]\n",
    "        rbf_month = rbf_df[rbf_df['datetime'].dt.month.isin([a])][df.columns[1:]]\n",
    "\n",
    "        before_mask = np.where(np.isnan(before_month[before_month.columns[1:]]), np.nan, 1.) \n",
    "        ground_mask = np.where(np.isnan(ground_month[ground_month.columns[1:]]), np.nan, 1.)\n",
    "        len_ = min(before_mask.shape[0], ground_mask.shape[0])\n",
    "\n",
    "        test_df = pd.DataFrame(ground_month[ground_month.columns[1:]].values[:len_] * np.where(np.isnan(before_month[before_month.columns[1:]]), np.nan, 1.)[:len_], columns=df.columns[1:])\n",
    "\n",
    "        values = ((test_df - df[df.columns[1:]].mean()) / df[df.columns[1:]].std()).values\n",
    "        shp = values.shape\n",
    "\n",
    "        test_masks = ~np.isnan(values)\n",
    "        ori_masks = ~np.isnan(ground_month[ground_month.columns[1:]].values[:len_])\n",
    "        test_masks = test_masks.reshape(shp)\n",
    "        rbf_x = torch.from_numpy(rbf_month.values[:len_]).to(torch.float32)\n",
    "\n",
    "        deltas = np.array(make_deltas(test_masks))\n",
    "        deltas = torch.from_numpy(deltas).to(torch.float32)\n",
    "        ori_masks = torch.from_numpy(ori_masks).to(torch.float32)\n",
    "        test_masks = torch.from_numpy(test_masks).to(torch.float32)\n",
    "        values = torch.nan_to_num(torch.from_numpy(values).to(torch.float32))\n",
    "\n",
    "        dataset = torch.cat([values.unsqueeze_(0), deltas.unsqueeze_(0), test_masks.unsqueeze_(0), rbf_x.unsqueeze_(0)], dim = 0).unsqueeze_(0)\n",
    "\n",
    "        model.eval()\n",
    "        loss, x_loss, back_x_loss, loss_c, bi_c_hat, bi_imputation = model(dataset.to(device))\n",
    "\n",
    "        Nonscale_imputataion = pd.DataFrame(bi_c_hat[0].cpu().detach() , columns= df.columns[1:])\n",
    "        Nonscale_imputataion = (Nonscale_imputataion * df[df.columns[1:]].std()) + df[df.columns[1:]].mean()\n",
    "        ground_month = ground_month[df.columns[1:]].fillna(0)\n",
    "\n",
    "        masks = ori_masks - test_masks\n",
    "\n",
    "        ori_error += np.sum(np.abs((Nonscale_imputataion.values - ground_month.values[:len_]) * masks.cpu().numpy()))\n",
    "        ori_test_mask_num += np.sum(masks.cpu().numpy())\n",
    "\n",
    "        print(a,\"month\")\n",
    "        print(np.sum(masks.cpu().numpy()))\n",
    "        print(np.sum(np.abs((Nonscale_imputataion.values - ground_month.values[:len_]) * masks.cpu().numpy())) / np.sum(masks.cpu().numpy()))\n",
    "\n",
    "    print(\"Original MAE :\", ori_error / ori_test_mask_num)"
   ]
  },
  {
   "cell_type": "code",
   "execution_count": 10,
   "metadata": {},
   "outputs": [],
   "source": [
    "df['datetime'] = pd.to_datetime(df['datetime'])\n",
    "rbf_df['datetime'] = pd.to_datetime(rbf_df['datetime'])\n",
    "\n",
    "ori_error = 0.0\n",
    "ori_test_mask_num = 0.0\n",
    "\n",
    "for a in [6,9,12,3]:\n",
    "\n",
    "    ground_month = df[df['datetime'].dt.month.isin([a])]\n",
    "    before_month = df[df['datetime'].dt.month.isin([a - 1])]\n",
    "    rbf_month = rbf_df[rbf_df['datetime'].dt.month.isin([a])][df.columns[1:]]\n",
    "\n",
    "    before_mask = np.where(np.isnan(before_month[before_month.columns[1:]]), np.nan, 1.) \n",
    "    ground_mask = np.where(np.isnan(ground_month[ground_month.columns[1:]]), np.nan, 1.)\n",
    "    len_ = min(before_mask.shape[0], ground_mask.shape[0])\n",
    "\n",
    "    test_df = pd.DataFrame(ground_month[ground_month.columns[1:]].values[:len_] * np.where(np.isnan(before_month[before_month.columns[1:]]), np.nan, 1.)[:len_], columns=df.columns[1:])\n",
    "    test_df.to_csv('./dataset/air_month{}.csv'.format(a))"
   ]
  },
  {
   "cell_type": "code",
   "execution_count": 14,
   "metadata": {},
   "outputs": [],
   "source": [
    "model = torch.load(\"./result/G_0.001_64_36.pt\")"
   ]
  },
  {
   "cell_type": "code",
   "execution_count": 15,
   "metadata": {},
   "outputs": [],
   "source": [
    "model2 = torch.load(\"./result/G_0.001_64_36_bi.pt\")"
   ]
  },
  {
   "cell_type": "code",
   "execution_count": 11,
   "metadata": {},
   "outputs": [],
   "source": [
    "df = pd.read_csv(\"./dataset/\" + 'pm25_missing.csv')\n",
    "rbf_df = pd.read_csv('./RBFresult/air_20_8.0_scale_month.csv')"
   ]
  },
  {
   "cell_type": "code",
   "execution_count": 16,
   "metadata": {},
   "outputs": [
    {
     "name": "stdout",
     "output_type": "stream",
     "text": [
      "6 month\n",
      "2363.0\n",
      "9.908082354858813\n",
      "9 month\n",
      "436.0\n",
      "7.801500918461435\n",
      "12 month\n",
      "1663.0\n",
      "14.8840539535835\n",
      "3 month\n",
      "3006.0\n",
      "29.541862561926205\n",
      "Original MAE : 18.796099838101245\n"
     ]
    }
   ],
   "source": [
    "eval_bi_model_test(model2, df, rbf_df)"
   ]
  },
  {
   "cell_type": "code",
   "execution_count": 17,
   "metadata": {},
   "outputs": [
    {
     "name": "stdout",
     "output_type": "stream",
     "text": [
      "6 month\n",
      "2363.0\n",
      "12.00065267713261\n",
      "9 month\n",
      "436.0\n",
      "8.95075150539117\n",
      "12 month\n",
      "1663.0\n",
      "17.034228502749336\n",
      "3 month\n",
      "3006.0\n",
      "44.80962179441939\n",
      "Original MAE : 26.149667253148333\n"
     ]
    }
   ],
   "source": [
    "eval_bi_model_test(model, df, rbf_df)"
   ]
  },
  {
   "cell_type": "code",
   "execution_count": 12,
   "metadata": {},
   "outputs": [
    {
     "name": "stdout",
     "output_type": "stream",
     "text": [
      "6 month\n",
      "2363.0\n",
      "12.358835852535394\n",
      "9 month\n",
      "436.0\n",
      "9.015566666400593\n",
      "12 month\n",
      "1663.0\n",
      "17.42227444238936\n",
      "3 month\n",
      "3006.0\n",
      "52.41223830373716\n",
      "Original MAE : 29.413383358974187\n"
     ]
    }
   ],
   "source": [
    "model3 = torch.load(\"./result/G_0.001_64_24.pt\")\n",
    "eval_bi_model_test(model3, df, rbf_df)"
   ]
  },
  {
   "cell_type": "code",
   "execution_count": 18,
   "metadata": {},
   "outputs": [
    {
     "name": "stdout",
     "output_type": "stream",
     "text": [
      "6 month\n",
      "2363.0\n",
      "11.454270304716294\n",
      "9 month\n",
      "436.0\n",
      "8.223317520722238\n",
      "12 month\n",
      "1663.0\n",
      "17.320703306732995\n",
      "3 month\n",
      "3006.0\n",
      "51.730878652753056\n",
      "Original MAE : 28.784032940325673\n"
     ]
    }
   ],
   "source": [
    "model4 = torch.load(\"./result/G_0.001_64_24_train2.pt\")\n",
    "eval_bi_model_test(model4, df, rbf_df)"
   ]
  },
  {
   "cell_type": "code",
   "execution_count": 19,
   "metadata": {},
   "outputs": [
    {
     "name": "stdout",
     "output_type": "stream",
     "text": [
      "6 month\n",
      "2363.0\n",
      "11.868504649142594\n",
      "9 month\n",
      "436.0\n",
      "8.18624378242992\n",
      "12 month\n",
      "1663.0\n",
      "17.97931498210259\n",
      "3 month\n",
      "3006.0\n",
      "43.377197514724116\n",
      "Original MAE : 25.69709899833432\n"
     ]
    }
   ],
   "source": [
    "model4 = torch.load(\"./result/G_0.001_64_36_train2.pt\")\n",
    "eval_bi_model_test(model4, df, rbf_df)"
   ]
  },
  {
   "cell_type": "code",
   "execution_count": 26,
   "metadata": {},
   "outputs": [],
   "source": [
    "def eval_bi_model_test(model,df, rbf_df, train_df):\n",
    "    df['datetime'] = pd.to_datetime(df['datetime'])\n",
    "    rbf_df['datetime'] = pd.to_datetime(rbf_df['datetime'])\n",
    "\n",
    "    ori_error = 0.0\n",
    "    ori_test_mask_num = 0.0\n",
    "\n",
    "    for a in [6,9,12,3]:\n",
    "\n",
    "        ground_month = df[df['datetime'].dt.month.isin([a])]\n",
    "        before_month = df[df['datetime'].dt.month.isin([a - 1])]\n",
    "        rbf_month = rbf_df[rbf_df['datetime'].dt.month.isin([a])][df.columns[1:]]\n",
    "\n",
    "        before_mask = np.where(np.isnan(before_month[before_month.columns[1:]]), np.nan, 1.) \n",
    "        ground_mask = np.where(np.isnan(ground_month[ground_month.columns[1:]]), np.nan, 1.)\n",
    "        len_ = min(before_mask.shape[0], ground_mask.shape[0])\n",
    "\n",
    "        test_df = pd.DataFrame(ground_month[ground_month.columns[1:]].values[:len_] * np.where(np.isnan(before_month[before_month.columns[1:]]), np.nan, 1.)[:len_], columns=df.columns[1:])\n",
    "\n",
    "        values = ((test_df - train_df[train_df.columns[1:]].mean()) / train_df[train_df.columns[1:]].std()).values\n",
    "        shp = values.shape\n",
    "\n",
    "        test_masks = ~np.isnan(values)\n",
    "        ori_masks = ~np.isnan(ground_month[ground_month.columns[1:]].values[:len_])\n",
    "        test_masks = test_masks.reshape(shp)\n",
    "        rbf_x = torch.from_numpy(rbf_month.values[:len_]).to(torch.float32)\n",
    "\n",
    "        deltas = np.array(make_deltas(test_masks))\n",
    "        deltas = torch.from_numpy(deltas).to(torch.float32)\n",
    "        ori_masks = torch.from_numpy(ori_masks).to(torch.float32)\n",
    "        test_masks = torch.from_numpy(test_masks).to(torch.float32)\n",
    "        values = torch.nan_to_num(torch.from_numpy(values).to(torch.float32))\n",
    "\n",
    "        dataset = torch.cat([values.unsqueeze_(0), deltas.unsqueeze_(0), test_masks.unsqueeze_(0), rbf_x.unsqueeze_(0)], dim = 0).unsqueeze_(0)\n",
    "\n",
    "        model.eval()\n",
    "        loss, x_loss, back_x_loss, loss_c, bi_c_hat, bi_imputation = model(dataset.to(device))\n",
    "\n",
    "        Nonscale_imputataion = pd.DataFrame(bi_c_hat[0].cpu().detach() , columns= df.columns[1:])\n",
    "        Nonscale_imputataion = (Nonscale_imputataion * train_df[train_df.columns[1:]].std()) + train_df[train_df.columns[1:]].mean()\n",
    "        ground_month = ground_month[df.columns[1:]].fillna(0)\n",
    "\n",
    "        masks = ori_masks - test_masks\n",
    "\n",
    "        ori_error += np.sum(np.abs((Nonscale_imputataion.values - ground_month.values[:len_]) * masks.cpu().numpy()))\n",
    "        ori_test_mask_num += np.sum(masks.cpu().numpy())\n",
    "\n",
    "        print(a,\"month\")\n",
    "        print(np.sum(masks.cpu().numpy()))\n",
    "        print(np.sum(np.abs((Nonscale_imputataion.values - ground_month.values[:len_]) * masks.cpu().numpy())) / np.sum(masks.cpu().numpy()))\n",
    "\n",
    "    print(\"Original MAE :\", ori_error / ori_test_mask_num)"
   ]
  },
  {
   "cell_type": "code",
   "execution_count": 27,
   "metadata": {},
   "outputs": [],
   "source": [
    "df = pd.read_csv(\"./dataset/\" + 'pm25_missing_test.csv')\n",
    "train_df = pd.read_csv(\"./dataset/\" + 'pm25_missing.csv')\n",
    "rbf_df = pd.read_csv('./RBFresult/air_20_8.0_scale_month.csv')"
   ]
  },
  {
   "cell_type": "code",
   "execution_count": 30,
   "metadata": {},
   "outputs": [],
   "source": [
    "df.columns = train_df.columns"
   ]
  },
  {
   "cell_type": "code",
   "execution_count": 31,
   "metadata": {},
   "outputs": [
    {
     "name": "stdout",
     "output_type": "stream",
     "text": [
      "6 month\n",
      "0.0\n",
      "nan\n"
     ]
    },
    {
     "name": "stderr",
     "output_type": "stream",
     "text": [
      "C:\\Users\\chanyoung\\AppData\\Local\\Temp\\ipykernel_53012\\1930258206.py:50: RuntimeWarning: invalid value encountered in double_scalars\n",
      "  print(np.sum(np.abs((Nonscale_imputataion.values - ground_month.values[:len_]) * masks.cpu().numpy())) / np.sum(masks.cpu().numpy()))\n"
     ]
    },
    {
     "name": "stdout",
     "output_type": "stream",
     "text": [
      "9 month\n",
      "0.0\n",
      "nan\n"
     ]
    },
    {
     "name": "stderr",
     "output_type": "stream",
     "text": [
      "C:\\Users\\chanyoung\\AppData\\Local\\Temp\\ipykernel_53012\\1930258206.py:50: RuntimeWarning: invalid value encountered in double_scalars\n",
      "  print(np.sum(np.abs((Nonscale_imputataion.values - ground_month.values[:len_]) * masks.cpu().numpy())) / np.sum(masks.cpu().numpy()))\n"
     ]
    },
    {
     "name": "stdout",
     "output_type": "stream",
     "text": [
      "12 month\n",
      "0.0\n",
      "nan\n"
     ]
    },
    {
     "name": "stderr",
     "output_type": "stream",
     "text": [
      "C:\\Users\\chanyoung\\AppData\\Local\\Temp\\ipykernel_53012\\1930258206.py:50: RuntimeWarning: invalid value encountered in double_scalars\n",
      "  print(np.sum(np.abs((Nonscale_imputataion.values - ground_month.values[:len_]) * masks.cpu().numpy())) / np.sum(masks.cpu().numpy()))\n"
     ]
    },
    {
     "name": "stdout",
     "output_type": "stream",
     "text": [
      "3 month\n",
      "0.0\n",
      "nan\n",
      "Original MAE : nan\n"
     ]
    },
    {
     "name": "stderr",
     "output_type": "stream",
     "text": [
      "C:\\Users\\chanyoung\\AppData\\Local\\Temp\\ipykernel_53012\\1930258206.py:50: RuntimeWarning: invalid value encountered in double_scalars\n",
      "  print(np.sum(np.abs((Nonscale_imputataion.values - ground_month.values[:len_]) * masks.cpu().numpy())) / np.sum(masks.cpu().numpy()))\n",
      "C:\\Users\\chanyoung\\AppData\\Local\\Temp\\ipykernel_53012\\1930258206.py:52: RuntimeWarning: invalid value encountered in double_scalars\n",
      "  print(\"Original MAE :\", ori_error / ori_test_mask_num)\n"
     ]
    }
   ],
   "source": [
    "model4 = torch.load(\"./result/G_0.001_64_36_train.pt\")\n",
    "eval_bi_model_test(model4, df, rbf_df, train_df)"
   ]
  }
 ],
 "metadata": {
  "kernelspec": {
   "display_name": "cooling",
   "language": "python",
   "name": "python3"
  },
  "language_info": {
   "codemirror_mode": {
    "name": "ipython",
    "version": 3
   },
   "file_extension": ".py",
   "mimetype": "text/x-python",
   "name": "python",
   "nbconvert_exporter": "python",
   "pygments_lexer": "ipython3",
   "version": "3.10.4"
  },
  "orig_nbformat": 4
 },
 "nbformat": 4,
 "nbformat_minor": 2
}
