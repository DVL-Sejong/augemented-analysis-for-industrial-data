{
 "cells": [
  {
   "cell_type": "code",
   "execution_count": 2,
   "id": "8c4e7a02",
   "metadata": {},
   "outputs": [],
   "source": [
    "import torch\n",
    "import torch.nn as nn\n",
    "import numpy as np\n",
    "from copy import deepcopy\n",
    "\n",
    "class LSTM(nn.Module):\n",
    "    def __init__(self, num_series, hidden):\n",
    "        '''\n",
    "        LSTM model with output layer to generate predictions.\n",
    "        Args:\n",
    "          num_series: number of input time series.\n",
    "          hidden: number of hidden units.\n",
    "        '''\n",
    "        super(LSTM, self).__init__()\n",
    "        self.p = num_series\n",
    "        self.hidden = hidden\n",
    "\n",
    "        # Set up network.\n",
    "        self.lstm = nn.LSTM(num_series, hidden, batch_first=True)\n",
    "        self.lstm.flatten_parameters()\n",
    "        self.linear = nn.Conv1d(hidden, 1, 1)\n",
    "\n",
    "    def init_hidden(self, batch):\n",
    "        '''Initialize hidden states for LSTM cell.'''\n",
    "        device = self.lstm.weight_ih_l0.device\n",
    "        return (torch.zeros(1, batch, self.hidden, device=device),\n",
    "                torch.zeros(1, batch, self.hidden, device=device))\n",
    "\n",
    "    def forward(self, X, hidden=None):\n",
    "        # Set up hidden state.\n",
    "        if hidden is None:\n",
    "            hidden = self.init_hidden(X.shape[0])\n",
    "\n",
    "        # Apply LSTM.\n",
    "        X, hidden = self.lstm(X, hidden)\n",
    "\n",
    "        # Calculate predictions using output layer.\n",
    "        X = X.transpose(2, 1)\n",
    "        X = self.linear(X)\n",
    "        return X.transpose(2, 1), hidden\n",
    "\n",
    "\n",
    "class cLSTM(nn.Module):\n",
    "    def __init__(self, num_series, hidden):\n",
    "        '''\n",
    "        cLSTM model with one LSTM per time series.\n",
    "        Args:\n",
    "          num_series: dimensionality of multivariate time series.\n",
    "          hidden: number of units in LSTM cell.\n",
    "        '''\n",
    "        super(cLSTM, self).__init__()\n",
    "        self.p = num_series\n",
    "        self.hidden = hidden\n",
    "\n",
    "        # Set up networks.\n",
    "        self.networks = nn.ModuleList([\n",
    "            LSTM(num_series, hidden) for _ in range(num_series)])\n",
    "\n",
    "    def forward(self, X, hidden=None):\n",
    "        '''\n",
    "        Perform forward pass.\n",
    "        Args:\n",
    "          X: torch tensor of shape (batch, T, p).\n",
    "          hidden: hidden states for LSTM cell.\n",
    "        '''\n",
    "        if hidden is None:\n",
    "            hidden = [None for _ in range(self.p)]\n",
    "        pred = [self.networks[i](X, hidden[i])\n",
    "                for i in range(self.p)]\n",
    "        pred, hidden = zip(*pred)\n",
    "        pred = torch.cat(pred, dim=2)\n",
    "        return pred, hidden\n",
    "\n",
    "    def GC(self, threshold=True):\n",
    "        '''\n",
    "        Extract learned Granger causality.\n",
    "        Args:\n",
    "          threshold: return norm of weights, or whether norm is nonzero.\n",
    "        Returns:\n",
    "          GC: (p x p) matrix. Entry (i, j) indicates whether variable j is\n",
    "            Granger causal of variable i.\n",
    "        '''\n",
    "        GC = [torch.norm(net.lstm.weight_ih_l0, dim=0)\n",
    "              for net in self.networks]\n",
    "        GC = torch.stack(GC)\n",
    "        if threshold:\n",
    "            return (GC > 0).int()\n",
    "        else:\n",
    "            return GC"
   ]
  },
  {
   "cell_type": "code",
   "execution_count": 17,
   "id": "ef02bce4",
   "metadata": {},
   "outputs": [],
   "source": [
    "model = cLSTM(10, 1)"
   ]
  },
  {
   "cell_type": "code",
   "execution_count": 18,
   "id": "2f05c84e",
   "metadata": {},
   "outputs": [
    {
     "data": {
      "text/plain": [
       "tensor([0.6173, 1.4973, 1.2667, 1.1568, 0.5270, 1.0651, 0.8881, 1.6661, 1.2385,\n",
       "        1.0523], grad_fn=<CopyBackwards>)"
      ]
     },
     "execution_count": 18,
     "metadata": {},
     "output_type": "execute_result"
    }
   ],
   "source": [
    "torch.norm(model.networks[0].lstm.weight_ih_l0, dim = 0)"
   ]
  },
  {
   "cell_type": "code",
   "execution_count": 19,
   "id": "07789d90",
   "metadata": {},
   "outputs": [],
   "source": [
    "GC = [torch.norm(net.lstm.weight_ih_l0, dim=0) for net in model.networks]"
   ]
  },
  {
   "cell_type": "code",
   "execution_count": 20,
   "id": "205ed02c",
   "metadata": {},
   "outputs": [],
   "source": [
    "GC = torch.stack(GC)"
   ]
  },
  {
   "cell_type": "code",
   "execution_count": 21,
   "id": "2991859b",
   "metadata": {},
   "outputs": [
    {
     "data": {
      "text/plain": [
       "tensor([[0.6173, 1.4973, 1.2667, 1.1568, 0.5270, 1.0651, 0.8881, 1.6661, 1.2385,\n",
       "         1.0523],\n",
       "        [0.9962, 0.8545, 1.4933, 0.7897, 1.3346, 1.3584, 0.8313, 1.3247, 1.0450,\n",
       "         0.7429],\n",
       "        [0.4315, 1.2793, 1.5651, 1.5193, 1.1819, 1.3165, 1.4299, 0.5405, 1.3209,\n",
       "         1.5309],\n",
       "        [0.8698, 1.0056, 0.6390, 1.2231, 1.3162, 1.3827, 1.2765, 1.1480, 1.3012,\n",
       "         1.0124],\n",
       "        [1.0124, 1.0345, 0.7956, 1.0513, 1.5305, 1.0449, 1.2376, 1.2703, 1.0327,\n",
       "         1.2977],\n",
       "        [0.8290, 1.3051, 1.2378, 1.0446, 1.3819, 1.0458, 0.9777, 1.3437, 1.0110,\n",
       "         0.6101],\n",
       "        [1.0669, 1.2738, 0.9987, 1.0002, 0.8015, 1.0384, 1.0044, 0.9458, 1.1482,\n",
       "         1.3276],\n",
       "        [1.2178, 1.1900, 1.1593, 0.6082, 0.6262, 0.7715, 1.6707, 1.2949, 1.4524,\n",
       "         0.9718],\n",
       "        [1.1711, 1.2581, 1.0922, 0.9312, 0.8908, 1.2116, 1.5612, 1.3664, 1.4758,\n",
       "         0.5883],\n",
       "        [0.6969, 0.7921, 1.3447, 1.4845, 0.5037, 1.2211, 0.9846, 0.6048, 0.8401,\n",
       "         0.7758]], grad_fn=<StackBackward0>)"
      ]
     },
     "execution_count": 21,
     "metadata": {},
     "output_type": "execute_result"
    }
   ],
   "source": [
    "GC"
   ]
  },
  {
   "cell_type": "code",
   "execution_count": null,
   "id": "f56bc286",
   "metadata": {},
   "outputs": [],
   "source": []
  }
 ],
 "metadata": {
  "kernelspec": {
   "display_name": "Python 3 (ipykernel)",
   "language": "python",
   "name": "python3"
  },
  "language_info": {
   "codemirror_mode": {
    "name": "ipython",
    "version": 3
   },
   "file_extension": ".py",
   "mimetype": "text/x-python",
   "name": "python",
   "nbconvert_exporter": "python",
   "pygments_lexer": "ipython3",
   "version": "3.10.4"
  }
 },
 "nbformat": 4,
 "nbformat_minor": 5
}
