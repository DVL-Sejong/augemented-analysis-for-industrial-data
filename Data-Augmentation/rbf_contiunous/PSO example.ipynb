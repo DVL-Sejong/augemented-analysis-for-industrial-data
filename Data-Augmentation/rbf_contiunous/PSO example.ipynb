{
 "cells": [
  {
   "cell_type": "code",
   "execution_count": 1,
   "id": "756ace96",
   "metadata": {},
   "outputs": [],
   "source": [
    "import random\n",
    "import numpy as np\n",
    "from matplotlib import pyplot as plt\n",
    "from matplotlib import animation"
   ]
  },
  {
   "cell_type": "code",
   "execution_count": 3,
   "id": "573cdeed",
   "metadata": {},
   "outputs": [],
   "source": [
    "# cost function\n",
    "def fitness_function(x1,x2):\n",
    "    f1=x1+2*-x2+3\n",
    "    f2=2*x1+x2-8\n",
    "    z = f1**2+f2**2\n",
    "    return z"
   ]
  },
  {
   "cell_type": "code",
   "execution_count": 5,
   "id": "c3bf051d",
   "metadata": {},
   "outputs": [],
   "source": [
    "def update_position(particle, velocity):\n",
    "    # Move particles by adding velocity\n",
    "    new_particle = particle + velocity\n",
    "    return new_particle"
   ]
  },
  {
   "cell_type": "code",
   "execution_count": 4,
   "id": "da1f1216",
   "metadata": {},
   "outputs": [],
   "source": [
    "def update_velocity(particle, velocity, pbest, gbest, w_min=0.5, max=1.0, c=0.1):\n",
    "  # Initialise new velocity array\n",
    "    num_particle = len(particle)\n",
    "    new_velocity = np.array([0.0 for i in range(num_particle)])\n",
    "    # Randomly generate r1, r2 and inertia weight from normal distribution\n",
    "    \n",
    "    r1 = random.uniform(0,max)\n",
    "    r2 = random.uniform(0,max)\n",
    "    c1 = c\n",
    "    c2 = c\n",
    "    \n",
    "    # Calculate new velocity\n",
    "    for i in range(num_particle):\n",
    "        new_velocity[i] = velocity[i] + c1*r1*(pbest[i]-particle[i])+c2*r2*(gbest[i]-particle[i])\n",
    "    return new_velocity"
   ]
  },
  {
   "cell_type": "code",
   "execution_count": 7,
   "id": "2d4049c1",
   "metadata": {},
   "outputs": [],
   "source": [
    "particles = [[random.uniform(-100.0, 100.0) for j in range(2)] for i in range(100)]\n",
    "pbest_position = particles\n",
    "pbest_fitness = [fitness_function(p[0],p[1]) for p in particles]\n",
    "gbest_index = np.argmin(pbest_fitness)\n",
    "gbest_position = pbest_position[gbest_index]\n",
    "velocity = [[0.0 for j in range(2)] for i in range(100)]"
   ]
  },
  {
   "cell_type": "code",
   "execution_count": 20,
   "id": "0dd01de5",
   "metadata": {},
   "outputs": [
    {
     "name": "stdout",
     "output_type": "stream",
     "text": [
      "Global Best Position:  [2.94096826 9.3324652 ]\n",
      "Best Fitness Value:  213.94680472542728\n",
      "Average Particle Best Fitness Value:  37263268.372251466\n",
      "Number of Generation:  999\n"
     ]
    }
   ],
   "source": [
    "for t in range(1000):\n",
    "    if np.average(pbest_fitness) <= 10e-4:\n",
    "        break\n",
    "    else:\n",
    "        for n in range(100):\n",
    "            velocity[n] = update_velocity(particles[n], velocity[n], pbest_position[n], gbest_position)\n",
    "            particles[n] = update_position(particles[n], velocity[n])\n",
    "\n",
    "pbest_fitness = [fitness_function(p[0],p[1]) for p in particles]\n",
    "gbest_index = np.argmin(pbest_fitness)\n",
    "gbest_position = pbest_position[gbest_index]\n",
    "\n",
    "# Print the results\n",
    "print('Global Best Position: ', gbest_position)\n",
    "print('Best Fitness Value: ', min(pbest_fitness))\n",
    "print('Average Particle Best Fitness Value: ', np.average(pbest_fitness))\n",
    "print('Number of Generation: ', t)"
   ]
  },
  {
   "cell_type": "code",
   "execution_count": null,
   "id": "b165dae2",
   "metadata": {},
   "outputs": [],
   "source": [
    "fig = plt.figure(figsize=(10, 10))\n",
    "ax = fig.add_subplot(111, projection='3d')\n",
    "ax.set_xlabel('x')\n",
    "ax.set_ylabel('y')\n",
    "ax.set_zlabel('z')\n",
    "x = np.linspace(-100.0, 100.0, 80)\n",
    "y = np.linspace(-100.0, 100.0, 80)\n",
    "X, Y = np.meshgrid(x, y)\n",
    "Z= fitness_function(X,Y)\n",
    "ax.plot_wireframe(X, Y, Z, color='r', linewidth=0.2)\n",
    "\n",
    "# Animation image placeholder\n",
    "images = []\n",
    "\n",
    "# Add plot for each generation (within the generation for-loop)\n",
    "for n in range(1000):\n",
    "    image = ax.scatter3D([particles[n][0] for n in range(100)],\n",
    "                         [particles[n][1] for n in range(100)],\n",
    "                         [fitness_function(particles[n][0],particles[n][1]) for n in range(100)], c='b')\n",
    "    images.append([image])\n",
    "\n",
    "# Generate the animation image and save\n",
    "animated_image = animation.ArtistAnimation(fig, images)\n",
    "animated_image.save('./pso_simple.gif', writer='pillow') "
   ]
  },
  {
   "cell_type": "code",
   "execution_count": null,
   "id": "4ae0ac04",
   "metadata": {},
   "outputs": [],
   "source": []
  }
 ],
 "metadata": {
  "kernelspec": {
   "display_name": "Python 3 (ipykernel)",
   "language": "python",
   "name": "python3"
  },
  "language_info": {
   "codemirror_mode": {
    "name": "ipython",
    "version": 3
   },
   "file_extension": ".py",
   "mimetype": "text/x-python",
   "name": "python",
   "nbconvert_exporter": "python",
   "pygments_lexer": "ipython3",
   "version": "3.10.4"
  }
 },
 "nbformat": 4,
 "nbformat_minor": 5
}
