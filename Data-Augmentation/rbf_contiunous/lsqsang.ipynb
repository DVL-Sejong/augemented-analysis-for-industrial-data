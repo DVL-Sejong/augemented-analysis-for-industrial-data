{
 "cells": [
  {
   "cell_type": "code",
   "execution_count": 1,
   "id": "662a6a19",
   "metadata": {},
   "outputs": [],
   "source": [
    "import pandas as pd\n",
    "import numpy as np\n",
    "from scipy import interpolate\n",
    "import matplotlib.pyplot as plt"
   ]
  },
  {
   "cell_type": "code",
   "execution_count": 2,
   "id": "568dfbdf",
   "metadata": {},
   "outputs": [],
   "source": [
    "data_df = pd.read_csv('C:/Users/chanyoung/Desktop/RBFfitting/data/sangiovese/sangiovese100.csv')\n",
    "data_df.drop('Unnamed: 0', axis = 1, inplace = True)"
   ]
  },
  {
   "cell_type": "code",
   "execution_count": 10,
   "id": "18fcdc59",
   "metadata": {},
   "outputs": [
    {
     "ename": "ValueError",
     "evalue": "Out of bounds w/ x = [ 0.  1.  2.  3.  4.  5.  6.  7.  8.  9. 10. 11. 12. 13. 14. 15. 16. 17.\n 18. 19. 20. 21. 22. 23. 24. 25. 26. 27. 28. 29. 30. 31. 32. 33. 34. 35.\n 36. 37. 38. 39. 40. 41. 42. 43. 44. 45. 46. 47. 48. 49. 50. 51. 52. 53.\n 54. 55. 56. 57. 58. 59. 60. 61. 62. 63. 64. 65. 66. 67. 68. 69. 70. 71.\n 72. 73. 74. 75. 76. 77. 78. 79. 80. 81. 82. 83. 84. 85. 86. 87. 88. 89.\n 90. 91. 92. 93. 94. 95. 96. 97. 98. 99.].",
     "output_type": "error",
     "traceback": [
      "\u001b[1;31m---------------------------------------------------------------------------\u001b[0m",
      "\u001b[1;31mValueError\u001b[0m                                Traceback (most recent call last)",
      "Input \u001b[1;32mIn [10]\u001b[0m, in \u001b[0;36m<cell line: 2>\u001b[1;34m()\u001b[0m\n\u001b[0;32m      5\u001b[0m xnew \u001b[38;5;241m=\u001b[39m np\u001b[38;5;241m.\u001b[39marange(\u001b[38;5;241m0\u001b[39m,\u001b[38;5;241m99\u001b[39m, \u001b[38;5;241m0.5\u001b[39m)\n\u001b[0;32m      6\u001b[0m t \u001b[38;5;241m=\u001b[39m np\u001b[38;5;241m.\u001b[39mlinspace(x\u001b[38;5;241m.\u001b[39mmin(), x\u001b[38;5;241m.\u001b[39mmax(), num\u001b[38;5;241m=\u001b[39m\u001b[38;5;28mlen\u001b[39m(x))\n\u001b[1;32m----> 7\u001b[0m f_quadr \u001b[38;5;241m=\u001b[39m \u001b[43minterpolate\u001b[49m\u001b[38;5;241;43m.\u001b[39;49m\u001b[43mmake_lsq_spline\u001b[49m\u001b[43m(\u001b[49m\u001b[43mx\u001b[49m\u001b[43m,\u001b[49m\u001b[43m \u001b[49m\u001b[43my\u001b[49m\u001b[43m,\u001b[49m\u001b[43m \u001b[49m\u001b[43mx\u001b[49m\u001b[43m)\u001b[49m\n\u001b[0;32m      8\u001b[0m y_new_quadr \u001b[38;5;241m=\u001b[39m f_quadr(xnew)\n\u001b[0;32m      9\u001b[0m a\u001b[38;5;241m.\u001b[39mappend([y_new_quadr])\n",
      "File \u001b[1;32m~\\anaconda3\\envs\\cooling\\lib\\site-packages\\scipy\\interpolate\\_bsplines.py:1543\u001b[0m, in \u001b[0;36mmake_lsq_spline\u001b[1;34m(x, y, t, k, w, axis, check_finite)\u001b[0m\n\u001b[0;32m   1540\u001b[0m     \u001b[38;5;28;01mraise\u001b[39;00m \u001b[38;5;167;01mValueError\u001b[39;00m(\u001b[38;5;124m'\u001b[39m\u001b[38;5;124mShapes of x \u001b[39m\u001b[38;5;132;01m{}\u001b[39;00m\u001b[38;5;124m and y \u001b[39m\u001b[38;5;132;01m{}\u001b[39;00m\u001b[38;5;124m are incompatible\u001b[39m\u001b[38;5;124m'\u001b[39m\n\u001b[0;32m   1541\u001b[0m                      \u001b[38;5;241m.\u001b[39mformat(x\u001b[38;5;241m.\u001b[39mshape, y\u001b[38;5;241m.\u001b[39mshape))\n\u001b[0;32m   1542\u001b[0m \u001b[38;5;28;01mif\u001b[39;00m k \u001b[38;5;241m>\u001b[39m \u001b[38;5;241m0\u001b[39m \u001b[38;5;129;01mand\u001b[39;00m np\u001b[38;5;241m.\u001b[39many((x \u001b[38;5;241m<\u001b[39m t[k]) \u001b[38;5;241m|\u001b[39m (x \u001b[38;5;241m>\u001b[39m t[\u001b[38;5;241m-\u001b[39mk])):\n\u001b[1;32m-> 1543\u001b[0m     \u001b[38;5;28;01mraise\u001b[39;00m \u001b[38;5;167;01mValueError\u001b[39;00m(\u001b[38;5;124m'\u001b[39m\u001b[38;5;124mOut of bounds w/ x = \u001b[39m\u001b[38;5;132;01m%s\u001b[39;00m\u001b[38;5;124m.\u001b[39m\u001b[38;5;124m'\u001b[39m \u001b[38;5;241m%\u001b[39m x)\n\u001b[0;32m   1544\u001b[0m \u001b[38;5;28;01mif\u001b[39;00m x\u001b[38;5;241m.\u001b[39msize \u001b[38;5;241m!=\u001b[39m w\u001b[38;5;241m.\u001b[39msize:\n\u001b[0;32m   1545\u001b[0m     \u001b[38;5;28;01mraise\u001b[39;00m \u001b[38;5;167;01mValueError\u001b[39;00m(\u001b[38;5;124m'\u001b[39m\u001b[38;5;124mShapes of x \u001b[39m\u001b[38;5;132;01m{}\u001b[39;00m\u001b[38;5;124m and w \u001b[39m\u001b[38;5;132;01m{}\u001b[39;00m\u001b[38;5;124m are incompatible\u001b[39m\u001b[38;5;124m'\u001b[39m\n\u001b[0;32m   1546\u001b[0m                      \u001b[38;5;241m.\u001b[39mformat(x\u001b[38;5;241m.\u001b[39mshape, w\u001b[38;5;241m.\u001b[39mshape))\n",
      "\u001b[1;31mValueError\u001b[0m: Out of bounds w/ x = [ 0.  1.  2.  3.  4.  5.  6.  7.  8.  9. 10. 11. 12. 13. 14. 15. 16. 17.\n 18. 19. 20. 21. 22. 23. 24. 25. 26. 27. 28. 29. 30. 31. 32. 33. 34. 35.\n 36. 37. 38. 39. 40. 41. 42. 43. 44. 45. 46. 47. 48. 49. 50. 51. 52. 53.\n 54. 55. 56. 57. 58. 59. 60. 61. 62. 63. 64. 65. 66. 67. 68. 69. 70. 71.\n 72. 73. 74. 75. 76. 77. 78. 79. 80. 81. 82. 83. 84. 85. 86. 87. 88. 89.\n 90. 91. 92. 93. 94. 95. 96. 97. 98. 99.]."
     ]
    }
   ],
   "source": [
    "a = list()\n",
    "for col in data_df.columns:\n",
    "    y = data_df[col].values\n",
    "    x = np.array(list(data_df.index), dtype = float)\n",
    "    xnew = np.arange(0,99, 0.5)\n",
    "    t = np.linspace(x.min(), x.max(), num=len(x))\n",
    "    f_quadr = interpolate.make_lsq_spline(x, y, x)\n",
    "    y_new_quadr = f_quadr(xnew)\n",
    "    a.append([y_new_quadr])\n",
    "new_df = pd.DataFrame(np.concatenate(a).T, columns = data_df.columns)\n",
    "new_df"
   ]
  },
  {
   "cell_type": "code",
   "execution_count": 19,
   "id": "8cefde6f",
   "metadata": {},
   "outputs": [
    {
     "ename": "ValueError",
     "evalue": "Out of bounds w/ x = [ 0.  1.  2.  3.  4.  5.  6.  7.  8.  9. 10. 11. 12. 13. 14. 15. 16. 17.\n 18. 19. 20. 21. 22. 23. 24. 25. 26. 27. 28. 29. 30. 31. 32. 33. 34. 35.\n 36. 37. 38. 39. 40. 41. 42. 43. 44. 45. 46. 47. 48. 49. 50. 51. 52. 53.\n 54. 55. 56. 57. 58. 59. 60. 61. 62. 63. 64. 65. 66. 67. 68. 69. 70. 71.\n 72. 73. 74. 75. 76. 77. 78. 79. 80. 81. 82. 83. 84. 85. 86. 87. 88. 89.\n 90. 91. 92. 93. 94. 95. 96. 97. 98. 99.].",
     "output_type": "error",
     "traceback": [
      "\u001b[1;31m---------------------------------------------------------------------------\u001b[0m",
      "\u001b[1;31mValueError\u001b[0m                                Traceback (most recent call last)",
      "Input \u001b[1;32mIn [19]\u001b[0m, in \u001b[0;36m<cell line: 15>\u001b[1;34m()\u001b[0m\n\u001b[0;32m     12\u001b[0m t \u001b[38;5;241m=\u001b[39m np\u001b[38;5;241m.\u001b[39mlinspace(\u001b[38;5;241m0\u001b[39m, \u001b[38;5;241m99\u001b[39m, \u001b[38;5;28mlen\u001b[39m(x))\n\u001b[0;32m     14\u001b[0m \u001b[38;5;66;03m# make_lsq_spline 함수를 사용하여 2차 스플라인 생성\u001b[39;00m\n\u001b[1;32m---> 15\u001b[0m f_quadr \u001b[38;5;241m=\u001b[39m \u001b[43minterpolate\u001b[49m\u001b[38;5;241;43m.\u001b[39;49m\u001b[43mmake_lsq_spline\u001b[49m\u001b[43m(\u001b[49m\u001b[43mx\u001b[49m\u001b[43m,\u001b[49m\u001b[43m \u001b[49m\u001b[43my\u001b[49m\u001b[43m,\u001b[49m\u001b[43m \u001b[49m\u001b[43mt\u001b[49m\u001b[43m,\u001b[49m\u001b[43m \u001b[49m\u001b[43mk\u001b[49m\u001b[38;5;241;43m=\u001b[39;49m\u001b[38;5;241;43m2\u001b[39;49m\u001b[43m)\u001b[49m  \u001b[38;5;66;03m# t와 xnew 값을 바꾸어 설정\u001b[39;00m\n\u001b[0;32m     16\u001b[0m y_new_quadr \u001b[38;5;241m=\u001b[39m f_quadr(xnew)\n\u001b[0;32m     18\u001b[0m \u001b[38;5;66;03m# 그래프로 결과 표시\u001b[39;00m\n",
      "File \u001b[1;32m~\\anaconda3\\envs\\cooling\\lib\\site-packages\\scipy\\interpolate\\_bsplines.py:1543\u001b[0m, in \u001b[0;36mmake_lsq_spline\u001b[1;34m(x, y, t, k, w, axis, check_finite)\u001b[0m\n\u001b[0;32m   1540\u001b[0m     \u001b[38;5;28;01mraise\u001b[39;00m \u001b[38;5;167;01mValueError\u001b[39;00m(\u001b[38;5;124m'\u001b[39m\u001b[38;5;124mShapes of x \u001b[39m\u001b[38;5;132;01m{}\u001b[39;00m\u001b[38;5;124m and y \u001b[39m\u001b[38;5;132;01m{}\u001b[39;00m\u001b[38;5;124m are incompatible\u001b[39m\u001b[38;5;124m'\u001b[39m\n\u001b[0;32m   1541\u001b[0m                      \u001b[38;5;241m.\u001b[39mformat(x\u001b[38;5;241m.\u001b[39mshape, y\u001b[38;5;241m.\u001b[39mshape))\n\u001b[0;32m   1542\u001b[0m \u001b[38;5;28;01mif\u001b[39;00m k \u001b[38;5;241m>\u001b[39m \u001b[38;5;241m0\u001b[39m \u001b[38;5;129;01mand\u001b[39;00m np\u001b[38;5;241m.\u001b[39many((x \u001b[38;5;241m<\u001b[39m t[k]) \u001b[38;5;241m|\u001b[39m (x \u001b[38;5;241m>\u001b[39m t[\u001b[38;5;241m-\u001b[39mk])):\n\u001b[1;32m-> 1543\u001b[0m     \u001b[38;5;28;01mraise\u001b[39;00m \u001b[38;5;167;01mValueError\u001b[39;00m(\u001b[38;5;124m'\u001b[39m\u001b[38;5;124mOut of bounds w/ x = \u001b[39m\u001b[38;5;132;01m%s\u001b[39;00m\u001b[38;5;124m.\u001b[39m\u001b[38;5;124m'\u001b[39m \u001b[38;5;241m%\u001b[39m x)\n\u001b[0;32m   1544\u001b[0m \u001b[38;5;28;01mif\u001b[39;00m x\u001b[38;5;241m.\u001b[39msize \u001b[38;5;241m!=\u001b[39m w\u001b[38;5;241m.\u001b[39msize:\n\u001b[0;32m   1545\u001b[0m     \u001b[38;5;28;01mraise\u001b[39;00m \u001b[38;5;167;01mValueError\u001b[39;00m(\u001b[38;5;124m'\u001b[39m\u001b[38;5;124mShapes of x \u001b[39m\u001b[38;5;132;01m{}\u001b[39;00m\u001b[38;5;124m and w \u001b[39m\u001b[38;5;132;01m{}\u001b[39;00m\u001b[38;5;124m are incompatible\u001b[39m\u001b[38;5;124m'\u001b[39m\n\u001b[0;32m   1546\u001b[0m                      \u001b[38;5;241m.\u001b[39mformat(x\u001b[38;5;241m.\u001b[39mshape, w\u001b[38;5;241m.\u001b[39mshape))\n",
      "\u001b[1;31mValueError\u001b[0m: Out of bounds w/ x = [ 0.  1.  2.  3.  4.  5.  6.  7.  8.  9. 10. 11. 12. 13. 14. 15. 16. 17.\n 18. 19. 20. 21. 22. 23. 24. 25. 26. 27. 28. 29. 30. 31. 32. 33. 34. 35.\n 36. 37. 38. 39. 40. 41. 42. 43. 44. 45. 46. 47. 48. 49. 50. 51. 52. 53.\n 54. 55. 56. 57. 58. 59. 60. 61. 62. 63. 64. 65. 66. 67. 68. 69. 70. 71.\n 72. 73. 74. 75. 76. 77. 78. 79. 80. 81. 82. 83. 84. 85. 86. 87. 88. 89.\n 90. 91. 92. 93. 94. 95. 96. 97. 98. 99.]."
     ]
    }
   ],
   "source": [
    "import numpy as np\n",
    "from scipy import interpolate\n",
    "\n",
    "# 1차원 데이터 생성\n",
    "x = np.arange(0, 100, 1)\n",
    "y = np.sin(0.1 * x) + np.random.normal(0, 0.2, len(x))\n",
    "\n",
    "# 새로운 x 값 생성\n",
    "xnew = np.arange(0, 99, 0.5)\n",
    "\n",
    "# t 값 선택 (x와 동일한 범위 내에서 설정)\n",
    "t = np.linspace(0, 99, len(x))\n",
    "\n",
    "# make_lsq_spline 함수를 사용하여 2차 스플라인 생성\n",
    "f_quadr = interpolate.make_lsq_spline(x, y, t, k=2)  # t와 xnew 값을 바꾸어 설정\n",
    "y_new_quadr = f_quadr(xnew)\n",
    "\n",
    "# 그래프로 결과 표시\n",
    "import matplotlib.pyplot as plt\n",
    "\n",
    "plt.plot(x, y, 'o', label='원본 데이터')\n",
    "plt.plot(xnew, y_new_quadr, label='2차 스플라인 보간 결과')\n",
    "plt.legend()\n",
    "plt.show()\n"
   ]
  },
  {
   "cell_type": "code",
   "execution_count": null,
   "id": "b18a6404",
   "metadata": {},
   "outputs": [],
   "source": []
  }
 ],
 "metadata": {
  "kernelspec": {
   "display_name": "Python 3 (ipykernel)",
   "language": "python",
   "name": "python3"
  },
  "language_info": {
   "codemirror_mode": {
    "name": "ipython",
    "version": 3
   },
   "file_extension": ".py",
   "mimetype": "text/x-python",
   "name": "python",
   "nbconvert_exporter": "python",
   "pygments_lexer": "ipython3",
   "version": "3.10.4"
  }
 },
 "nbformat": 4,
 "nbformat_minor": 5
}
