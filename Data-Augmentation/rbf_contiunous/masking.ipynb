{
 "cells": [
  {
   "cell_type": "code",
   "execution_count": 1,
   "metadata": {},
   "outputs": [],
   "source": [
    "import torch\n",
    "import torch.nn as nn\n",
    "import numpy as np\n",
    "import matplotlib.pyplot as plt\n",
    "from matplotlib.pyplot import style\n",
    "style.use('seaborn-whitegrid')\n",
    "\n",
    "device = \"cuda\" if torch.cuda.is_available() else \"cpu\""
   ]
  },
  {
   "cell_type": "code",
   "execution_count": 2,
   "metadata": {},
   "outputs": [],
   "source": [
    "class MultiRBFnn(nn.Module):\n",
    "    def __init__(self, in_feature, add_rbf_num, device):\n",
    "        super(MultiRBFnn, self).__init__()\n",
    "\n",
    "        self.add_rbf_num = add_rbf_num  # additional RBFs number\n",
    "        self.in_feature = in_feature    # count features\n",
    "        self.device = device\n",
    "        self.centers_list = []\n",
    "        self.sigmas_list = []\n",
    "        self.weights_list = []\n",
    "\n",
    "        self.change_th = 3\n",
    "\n",
    "    def first_rbf_parameter(self, input_data, target): # done\n",
    "\n",
    "        # input_data shape : (data_num)\n",
    "        # target data shape : (in_feature, data_num)\n",
    "        \n",
    "        # first layer centers, weights, sigmas\n",
    "        # centers, sigmas : (add_rbf_num, 1)\n",
    "        # weights : (in_feature, add_rbf_num)\n",
    "\n",
    "        find_index_input = input_data.clone().detach()\n",
    "        fine_index_target = target.clone().detach()\n",
    "\n",
    "        find_sigma = target.clone().detach()\n",
    "        find_weight = target.clone().detach()\n",
    "        center_index_list = []\n",
    "\n",
    "        # first MultiRBFs initial centers and weights parameters\n",
    "        for i in range(self.add_rbf_num):\n",
    "            index_ = torch.argmax(torch.sum(torch.abs(fine_index_target), dim = 0)).cpu().detach().tolist()\n",
    "            fine_index_target[:,index_] = 0\n",
    "            center_index_list.append(index_)\n",
    "\n",
    "        center_index_list = torch.tensor(center_index_list, device= self.device)\n",
    "        initcenter = torch.index_select(find_index_input, 0, center_index_list)[-self.add_rbf_num:].reshape(self.add_rbf_num,1)\n",
    "        initweight = torch.index_select(find_weight, 1, center_index_list)[-self.add_rbf_num:].reshape(self.in_feature, self.add_rbf_num)\n",
    "\n",
    "        # first MultiRBFs initial sigmas parameters                \n",
    "        sigma_list = []\n",
    "        dft = torch.log(torch.abs(torch.fft.fft(find_sigma).real))\n",
    "        dft =  torch.abs(dft / torch.max(dft)) **-1\n",
    "        for k in center_index_list:\n",
    "            sigma_list.append(torch.mean(dft[:,k]).reshape(1))\n",
    "\n",
    "        initsigma = torch.cat(sigma_list)[-self.add_rbf_num:].reshape(self.add_rbf_num, 1)\n",
    "\n",
    "        # print(initcenter, initweight, initsigma)\n",
    "        return initcenter, initweight, initsigma\n",
    "    \n",
    "    def add_rbf_parameter(self, input_data, error):\n",
    "        find_index_input = input_data.clone().detach()\n",
    "        find_index_error = error.clone().detach()\n",
    "        \n",
    "        find_weight = error.clone().detach()\n",
    "        find_sigma = error.clone().detach()\n",
    "        \n",
    "        center_index_list = []\n",
    "\n",
    "        for i in range(self.add_rbf_num * (self.change_time + 1)):\n",
    "            index_ = torch.argmax(torch.sum(torch.abs(find_index_error), dim = 0)).cpu().detach().tolist()\n",
    "\n",
    "            find_index_error[:,index_] = 0\n",
    "            center_index_list.append(index_)\n",
    "\n",
    "        center_index_list = torch.tensor(center_index_list, device=self.device)\n",
    "        initcenter = torch.index_select(find_index_input, 0, center_index_list)[-self.add_rbf_num:].reshape(self.add_rbf_num,1)\n",
    "        initweight = torch.index_select(find_weight, 1, center_index_list)[::,-self.add_rbf_num:].reshape(self.in_feature, self.add_rbf_num)\n",
    "\n",
    "\n",
    "        sigma_list = []\n",
    "        dft = torch.log(torch.abs(torch.fft.fft(find_sigma).real))\n",
    "        \n",
    "        dft = (torch.abs(dft / torch.max(dft))**-1)\n",
    "        for k in center_index_list:\n",
    "            sigma_list.append(torch.mean(dft[:,k]).reshape(1))\n",
    "        initsigma = torch.cat(sigma_list)[-self.add_rbf_num:].reshape(self.add_rbf_num,1)\n",
    "        #print(initcenter, initweight, initsigma)\n",
    "        return initcenter, initweight, initsigma\n",
    "    \n",
    "    \n",
    "    def rbf_gaussian(self, input_data):\n",
    "        out = torch.exp(-1 *(torch.pow((input_data - self.centers), 2)) / (torch.pow(self.sigma, 2)))\n",
    "\n",
    "        return out\n",
    "\n",
    "    def forward(self, input_data):\n",
    "        R = self.rbf_gaussian(input_data)\n",
    "        pred = torch.mm(self.weights, R)\n",
    "\n",
    "        return R, pred\n",
    "\n",
    "    def rbf_gaussian_derivative_centers(self, input_data): # done\n",
    "        output = (2 * (input_data - self.centers) / (torch.pow(self.sigma, 2))) * self.rbf_gaussian(input_data)\n",
    "\n",
    "        return output  # size = (add_rbf_num, data_num)\n",
    "\n",
    "    def rbf_gaussian_derivative_sigma(self, input_data): # done\n",
    "        output = (2 * torch.pow((input_data - self.centers), 2) / (torch.pow(self.sigma, 3))) * self.rbf_gaussian(input_data)\n",
    "\n",
    "        return output  # size = (add_rbf_num, data_num)\n",
    "    \n",
    "    # FUNCTION GRADIENT\n",
    "    def rbf_gradient(self, input_data, centers, sigmas, weights):\n",
    "        rbf_output = (-2 * (input_data-centers) / torch.pow(sigmas,2)) * \\\n",
    "                        (torch.exp(-1 * (torch.pow((input_data - centers), 2) / (torch.pow(sigmas, 2)))))\n",
    "        rbf_grad = torch.mm(weights, rbf_output)\n",
    "        \n",
    "        return rbf_grad\n",
    "    \n",
    "    def first_grad(input_data, target):\n",
    "        space = (input_data,)\n",
    "        for i in range(target.size(0)):\n",
    "            if i == 0:\n",
    "                f_grad = torch.gradient(target[i], spacing = space, edge_order  = 1)[0]\n",
    "            else:\n",
    "                f_grad = torch.vstack([f_grad, torch.gradient(target[i], spacing = space, edge_order  = 1)[0]])\n",
    "        return f_grad\n",
    "    \n",
    "    def target_grad(self, input_data, centers, sigmas, weights, f_grad):\n",
    "        true_grad = f_grad - self.rbf_gradient(input_data, centers, sigmas, weights)\n",
    "        \n",
    "        return true_grad\n",
    "    \n",
    "    def rbf_gaussian_derivative_centers(self, input_data):\n",
    "        output = (2 * (input_data - self.centers) / \\\n",
    "                  (torch.pow(self.sigma, 2))) * self.rbf_gaussian(input_data)\n",
    "\n",
    "        return output  # size = (num_radial, 1)\n",
    "    \n",
    "    def rbf_gaussian_derivative_sigma(self, input_data):\n",
    "        output = (2 * torch.pow((input_data - self.centers), 2) / \\\n",
    "                (torch.pow(self.sigma, 3))) * self.rbf_gaussian(input_data)\n",
    "\n",
    "        return output  # size = (num_radial, 1)\n",
    "\n",
    "    def L2_F(self, input_data):\n",
    "        return -2 * (input_data - self.centers) / torch.pow(self.sigma, 2)\n",
    "    \n",
    "    def L2_2_derivateive_weight(self, input_data, radial_output):\n",
    "        return (-2 *(input_data - self.centers) / torch.pow(self.sigma,2)) * radial_output\n",
    "\n",
    "\n",
    "    # Backpropagation and train\n",
    "\n",
    "    def BP(self, input_data, target, R, pred, target_grad, pred_grad):\n",
    "        L2_1_error = -2 * (target - pred)\n",
    "\n",
    "        L2_2_error = -2 * (target_grad - pred_grad)\n",
    "\n",
    "\n",
    "        # sigma update\n",
    "        deltaSigma1 = self.rbf_gaussian_derivative_sigma(input_data) * L2_1_error.reshape(self.in_feature, 1, input_data.size(0))\n",
    "        deltaSigma1 *= self.weights.reshape(self.in_feature, self.add_rbf_num, 1)\n",
    "\n",
    "        deltaSigma2 = self.rbf_gaussian_derivative_sigma(input_data) * L2_2_error.reshape(self.in_feature, 1, input_data.size(0))\n",
    "        deltaSigma2 *= self.L2_F(input_data) * self.weights.reshape(self.in_feature, self.add_rbf_num, 1)\n",
    "\n",
    "        deltaSigma =  torch.mean(torch.sum(deltaSigma1, dim=2), dim = 0) + torch.mean(torch.sum(deltaSigma2, dim=2), dim = 0)\n",
    "\n",
    "        # center update\n",
    "        deltaCenter1 = self.rbf_gaussian_derivative_centers(input_data) * L2_1_error.reshape(self.in_feature, 1, input_data.size(0))\n",
    "        deltaCenter1 *= self.weights.reshape(self.in_feature, self.add_rbf_num, 1)\n",
    "\n",
    "        deltaCenter2 = self.rbf_gaussian_derivative_centers(input_data) * L2_2_error.reshape(self.in_feature, 1, input_data.size(0))\n",
    "        deltaCenter2 *= self.L2_F(input_data) * self.weights.reshape(self.in_feature, self.add_rbf_num, 1)\n",
    "        deltaCenter =  torch.mean(torch.sum(deltaCenter1, dim=2), dim = 0) + torch.mean(torch.sum(deltaCenter2, dim=2), dim = 0)\n",
    "\n",
    "        \n",
    "        # weight update\n",
    "        delta_weight1 = torch.sum((R * L2_1_error.reshape(self.in_feature, 1, input_data.size(0))), dim=2)\n",
    "        delta_weight2 = torch.sum(self.L2_2_derivateive_weight(input_, R) * L2_2_error.reshape(self.in_feature, 1, input_data.size(0)), dim = 2)\n",
    "        delta_weight = delta_weight1 + delta_weight2\n",
    "        \n",
    "        # BP update\n",
    "        self.weights -= self.lr * delta_weight\n",
    "        #self.centers -= self.lr * torch.sum(deltaCenter1, dim=1).reshape(self.add_rbf_num, 1)\n",
    "        #self.sigma -= self.lr * torch.sum(deltaSigma1, dim=1).reshape(self.add_rbf_num, 1)\n",
    "        self.centers -= self.lr * deltaCenter.reshape(self.add_rbf_num, 1)\n",
    "        self.sigma -= self.lr * deltaSigma.reshape(self.add_rbf_num, 1)\n",
    "\n",
    "    def change_init(self, na):\n",
    "        if na == 1:\n",
    "            loss_list = self.train_loss_list[-self.change_th:]\n",
    "            if self.number > self.change_th and max(loss_list) == min(loss_list):\n",
    "                self.change_time += 1\n",
    "            elif self.number > self.change_th and loss_list[0] < loss_list[1] and loss_list[1] < loss_list[2]:\n",
    "                self.change_time += 1\n",
    "            else:\n",
    "                self.change_time = 0\n",
    "        else:\n",
    "            self.change_time += 1\n",
    "    \n",
    "    def plot_train(self, input_data, best_pred): #done\n",
    "        if self.in_feature != 1:\n",
    "            fig, ax = plt.subplots(1, self.in_feature, figsize = (30, 5))\n",
    "            for i in range(self.in_feature):\n",
    "                ax[i].plot(input_data.cpu().detach().numpy(), self.target[i].cpu().detach().numpy())\n",
    "                ax[i].plot(input_data.cpu().detach().numpy(), best_pred[i].cpu().detach().numpy())\n",
    "            plt.show()\n",
    "        \n",
    "        else:\n",
    "            plt.plot(input_data.cpu().detach().numpy(), self.target[0].cpu().detach().numpy())\n",
    "            plt.plot(input_data.cpu().detach().numpy(), best_pred[0].cpu().detach().numpy())\n",
    "            plt.show()\n",
    "\n",
    "    def best_forward(self, input_data, best_center, best_sigma, best_weight): # ?\n",
    "        rbf_output = torch.exp(-1 * (torch.pow((input_data - best_center), 2) / \\\n",
    "                                        (torch.pow(best_sigma, 2))))\n",
    "        pred = torch.mm(best_weight, rbf_output)\n",
    "\n",
    "        return pred\n",
    "    \n",
    "    def Loss(self, pred, target, pred_grad, true_grad):\n",
    "        # value L2 loss  \n",
    "\n",
    "        return torch.mean(torch.pow(target - pred,2) + torch.pow(true_grad - pred_grad, 2)) \n",
    "    \n",
    "    def pred(self, input_data):\n",
    "        rbf_output = torch.exp(-1 * (torch.pow((input_data - self.done_centers), 2) / \\\n",
    "                                     (torch.pow(self.done_sigma, 2))))\n",
    "        pred = torch.mm(self.done_weights, rbf_output)\n",
    "\n",
    "        return rbf_output, pred\n",
    "        \n",
    "    def train(self, input_data, target, epochs, lr, loss_th, lr_change_th):\n",
    "        self.lr = lr\n",
    "        self.target = target.clone().detach()\n",
    "        self.number = 0\n",
    "        self.train_loss_list = []\n",
    "        self.loss_th = loss_th\n",
    "        self.lr_change_th = lr_change_th\n",
    "        self.target_mape_th = torch.mean(torch.abs(target)) * 0.05\n",
    "        self.round_number = 5\n",
    "        self.change_time = 0\n",
    "        count_loss_chage = 0\n",
    "        count_round_change = 0\n",
    "\n",
    "        break_time = len(input_data) / self.add_rbf_num\n",
    "\n",
    "        loss = 100000\n",
    "        \n",
    "        while self.loss_th < loss:\n",
    "\n",
    "            print(\"{}th additional rbflayer\".format(self.number))\n",
    "            # first rbflayer\n",
    "            if self.number == 0:\n",
    "                self.centers, self.weights, self.sigma = self.first_rbf_parameter(input_data, self.target)\n",
    "                first_grad = self.first_grad(input_data, target)\n",
    "                for epoch in range(epochs):\n",
    "                    # print(\"epoch : {}\".format(epoch))\n",
    "                    R, pred = self.forward(input_data)\n",
    "                    rbf_grad = self.rbf_gradient(input_data, self.centers, self.sigma, self.weights)\n",
    "\n",
    "                    self.BP(input_data, self.target, R, pred, first_grad, rbf_grad)\n",
    "                    R, pred = self.forward(input_data)\n",
    "                    rbf_grad = self.rbf_gradient(input_data, self.centers, self.sigma, self.weights)\n",
    "                    epoch_loss = self.Loss(pred, self.target, rbf_grad, first_grad)\n",
    "\n",
    "                    if epoch == 0:\n",
    "                        print(\"{}th additional RBFlayer {}th epoch loss: {}\".format(self.number, epoch, epoch_loss))\n",
    "                        self.best_loss = epoch_loss.clone().detach()\n",
    "                        self.best_center = self.centers.clone().detach()\n",
    "                        self.best_sigma = self.sigma.clone().detach()\n",
    "                        self.best_weight = self.weights.clone().detach()\n",
    "                    \n",
    "                    else:\n",
    "                        if self.best_loss > epoch_loss:\n",
    "                            self.best_loss = epoch_loss.clone().detach()\n",
    "                            self.best_center = self.centers.clone().detach()\n",
    "                            self.best_sigma = self.sigma.clone().detach()\n",
    "                            self.best_weight = self.weights.clone().detach()\n",
    "\n",
    "                    if (epoch + 1) % 1000 == 0:\n",
    "                        print(\"{}th additional RBFlayer {}th epoch MSE Loss: {}\".format(self.number, epoch, epoch_loss))\n",
    "\n",
    "            else:\n",
    "                self.change_init(na)\n",
    "                if self.change_time > break_time:\n",
    "                    break\n",
    "                \n",
    "                \n",
    "                self.centers, self.weights, self.sigma = self.add_rbf_parameter(input_data, self.target)\n",
    "\n",
    "                for epoch in range(epochs):\n",
    "                    # print('epoch : {}'.format(epoch))\n",
    "                    R, pred = self.forward(input_data)\n",
    "                    rbf_grad = self.rbf_gradient(input_data, self.centers, self.sigma, self.weights)\n",
    "                    if epoch == 0:\n",
    "                        \n",
    "                        print(\"{}th additional RBFlayer {}th epoch loss: {}\".format(self.number, epoch,\n",
    "                                                                                        self.Loss(pred, self.target, rbf_grad, target_grad)))\n",
    "                        self.best_loss = self.Loss(pred, self.target, rbf_grad, target_grad).clone().detach()\n",
    "                        self.best_center = self.centers.clone().detach()\n",
    "                        self.best_sigma = self.sigma.clone().detach()\n",
    "                        self.best_weight = self.weights.clone().detach()\n",
    "\n",
    "                    self.BP(input_data, self.target, R, pred, target_grad, rbf_grad)\n",
    "                    # R, pred = self.forward(input_data)\n",
    "                    # rbf_grad = self.rbf_gradient(input_data, self.centers, self.sigma, self.weights)\n",
    "                    epoch_loss = self.Loss(pred, self.target, rbf_grad, target_grad)\n",
    "\n",
    "                    if (epoch + 1) % 1000 == 0:\n",
    "                        print(\"{}th additional RBFlayer {}th epoch MSE Loss: {}\".format(self.number, epoch, epoch_loss))\n",
    "                    \n",
    "                    if self.best_loss > epoch_loss:\n",
    "                        self.best_loss = epoch_loss.clone().detach()\n",
    "                        self.best_center = self.centers.clone().detach()\n",
    "                        self.best_sigma = self.sigma.clone().detach()\n",
    "                        self.best_weight = self.weights.clone().detach()\n",
    "                \n",
    "            best_pred = self.best_forward(input_data, self.best_center, self.best_sigma, self.best_weight)\n",
    "            best_grad = self.rbf_gradient(input_data, self.best_center, self.best_sigma, self.best_weight)\n",
    "            if self.number ==0:\n",
    "                train_loss = self.Loss(best_pred, self.target, best_grad, first_grad)\n",
    "            else:\n",
    "                train_loss = self.Loss(best_pred, self.target, best_grad, target_grad)\n",
    "\n",
    "            print(\"{}th additional RBFlayer best loss : {}\".format(self.number, train_loss))\n",
    "\n",
    "            if self.best_loss < self.lr_change_th:\n",
    "                count_loss_chage += 1\n",
    "                self.lr *= 10\n",
    "                self.lr_change_th *= 0.03\n",
    "                print(\"change lr \", self.lr)\n",
    "                print('----------------------------------------------')\n",
    "                \n",
    "            if count_round_change == 0 and train_loss < self.target_mape_th:\n",
    "                count_round_change += 1\n",
    "                self.round_number += 1\n",
    "                print(\"change round number\", self.round_number)\n",
    "                print('----------------------------------------------')\n",
    "                \n",
    "            self.train_loss_list.append(train_loss)\n",
    "\n",
    "            # additional rbf plot print\n",
    "            self.plot_train(input_data, best_pred)\n",
    "\n",
    "            if torch.isnan(train_loss) == False:\n",
    "                na = 1\n",
    "                self.target = self.target - best_pred  # target update\n",
    "                loss = train_loss  # loss update\n",
    "                self.number += 1  # additional rbf number update\n",
    "                self.centers_list.append(self.best_center)\n",
    "                self.sigmas_list.append(self.best_sigma)\n",
    "                self.weights_list.append(self.best_weight)\n",
    "\n",
    "                self.done_centers = torch.cat(self.centers_list, dim  =0)\n",
    "                self.done_sigma = torch.cat(self.sigmas_list, dim = 0)\n",
    "                self.done_weights = torch.cat(self.weights_list, dim = 1)\n",
    "                target_grad = self.target_grad(input_data, self.done_centers, self.done_sigma, self.done_weights, first_grad)\n",
    "\n",
    "            else:\n",
    "                na = 0\n",
    "    "
   ]
  },
  {
   "cell_type": "code",
   "execution_count": 3,
   "metadata": {},
   "outputs": [],
   "source": [
    "input_ = np.arange(1,15,0.5)\n",
    "input_ = torch.tensor(input_, device = device)"
   ]
  },
  {
   "cell_type": "code",
   "execution_count": 4,
   "metadata": {},
   "outputs": [
    {
     "data": {
      "text/plain": [
       "tensor([ 1.0000,  1.5000,  2.0000,  2.5000,  3.0000,  3.5000,  4.0000,  4.5000,\n",
       "         5.0000,  5.5000,  6.0000,  6.5000,  7.0000,  7.5000,  8.0000,  8.5000,\n",
       "         9.0000,  9.5000, 10.0000, 10.5000, 11.0000, 11.5000, 12.0000, 12.5000,\n",
       "        13.0000, 13.5000, 14.0000, 14.5000], device='cuda:0',\n",
       "       dtype=torch.float64)"
      ]
     },
     "execution_count": 4,
     "metadata": {},
     "output_type": "execute_result"
    }
   ],
   "source": [
    "input_"
   ]
  },
  {
   "cell_type": "code",
   "execution_count": 5,
   "metadata": {},
   "outputs": [],
   "source": [
    "r_c = torch.tensor([1.32141, 6.1256142, 4.21512, 3.16512, 7.1626, 8.735, 12.1624], dtype = float ,device= device).reshape(7,1)\n",
    "r_s = torch.tensor([1.1, 0.6142, 2.21512, 1.162, 0.626, 2.735, 1.1624], dtype = float ,device= device).reshape(7,1)\n",
    "r_w = torch.tensor([[-10, 12, 32, -33, 12, -20, 3],\n",
    "                    [12, -1, -22, 3, 32, -20, 4],\n",
    "                    [-10, 3, 23, -13, 23, 17, 2]], dtype = float, device = device)"
   ]
  },
  {
   "cell_type": "code",
   "execution_count": 6,
   "metadata": {},
   "outputs": [],
   "source": [
    "def gaussian(input_data, centers, sigma, weights):\n",
    "    out = torch.exp(-1 *(torch.pow((input_data - centers), 2)) / (torch.pow(sigma, 2)))\n",
    "    pred = torch.mm(weights, out)\n",
    "    return pred"
   ]
  },
  {
   "cell_type": "code",
   "execution_count": 7,
   "metadata": {},
   "outputs": [],
   "source": [
    "target = gaussian(input_, r_c, r_s, r_w)"
   ]
  },
  {
   "cell_type": "code",
   "execution_count": 8,
   "metadata": {},
   "outputs": [],
   "source": [
    "target[0][2] = torch.nan\n",
    "target[0][6] = torch.nan\n",
    "target[0][9] = torch.nan\n",
    "target[0][15] = torch.nan\n",
    "target[0][16] = torch.nan\n",
    "\n",
    "target[1][3] = torch.nan\n",
    "target[1][5] = torch.nan\n",
    "target[1][1] = torch.nan\n",
    "target[1][19] = torch.nan\n",
    "target[1][26] = torch.nan"
   ]
  },
  {
   "cell_type": "code",
   "execution_count": 9,
   "metadata": {},
   "outputs": [
    {
     "data": {
      "text/plain": [
       "tensor([[-6.3209e+00, -6.8688e+00,         nan, -9.4935e+00, -9.8764e+00,\n",
       "         -2.2478e+00,         nan,  2.0847e+01,  2.2817e+01,         nan,\n",
       "          2.1164e+01,  1.2967e+01,  6.0111e+00, -3.7070e+00, -1.4874e+01,\n",
       "                 nan,         nan, -1.8371e+01, -1.6019e+01, -1.2789e+01,\n",
       "         -8.9670e+00, -5.0283e+00, -1.8674e+00, -2.4894e-01,  2.7321e-02,\n",
       "         -1.6306e-01, -2.4514e-01, -1.8262e-01],\n",
       "        [ 8.4284e+00,         nan,  1.1596e+00,         nan, -1.2420e+01,\n",
       "                 nan, -2.0970e+01, -2.2654e+01, -2.2289e+01, -2.0925e+01,\n",
       "         -1.8786e+01, -8.1002e+00,  1.1878e+01,  5.1751e+00, -1.4448e+01,\n",
       "         -2.0041e+01, -2.0012e+01, -1.8548e+01, -1.6047e+01,         nan,\n",
       "         -8.6037e+00, -4.3066e+00, -8.8700e-01,  6.7013e-01,  6.2229e-01,\n",
       "          1.0296e-01,         nan, -1.6510e-01],\n",
       "        [-6.7820e+00, -6.2724e+00, -3.0908e+00,  1.8207e-01,  3.5182e+00,\n",
       "          8.9976e+00,  1.5848e+01,  2.0695e+01,  2.1950e+01,  2.1478e+01,\n",
       "          2.1844e+01,  2.6222e+01,  3.7997e+01,  3.3637e+01,  2.0899e+01,\n",
       "          1.7660e+01,  1.7063e+01,  1.5809e+01,  1.3814e+01,  1.1475e+01,\n",
       "          9.3000e+00,  7.5634e+00,  6.0496e+00,  4.3936e+00,  2.6839e+00,\n",
       "          1.3490e+00,  5.8218e-01,  2.3496e-01]], device='cuda:0',\n",
       "       dtype=torch.float64)"
      ]
     },
     "execution_count": 9,
     "metadata": {},
     "output_type": "execute_result"
    }
   ],
   "source": [
    "target"
   ]
  },
  {
   "cell_type": "code",
   "execution_count": 10,
   "metadata": {},
   "outputs": [
    {
     "data": {
      "text/plain": [
       "tensor(nan, device='cuda:0', dtype=torch.float64)"
      ]
     },
     "execution_count": 10,
     "metadata": {},
     "output_type": "execute_result"
    }
   ],
   "source": [
    "target[0][2]"
   ]
  },
  {
   "cell_type": "code",
   "execution_count": 11,
   "metadata": {},
   "outputs": [],
   "source": [
    "target2 = target.clone().detach()"
   ]
  },
  {
   "cell_type": "code",
   "execution_count": 12,
   "metadata": {},
   "outputs": [],
   "source": [
    "value_masking = torch.ones_like(target)\n",
    "\n",
    "value_masking[target2.isnan()] = 0"
   ]
  },
  {
   "cell_type": "code",
   "execution_count": 13,
   "metadata": {},
   "outputs": [
    {
     "data": {
      "text/plain": [
       "tensor([[1., 1., 0., 1., 1., 1., 0., 1., 1., 0., 1., 1., 1., 1., 1., 0., 0., 1.,\n",
       "         1., 1., 1., 1., 1., 1., 1., 1., 1., 1.],\n",
       "        [1., 0., 1., 0., 1., 0., 1., 1., 1., 1., 1., 1., 1., 1., 1., 1., 1., 1.,\n",
       "         1., 0., 1., 1., 1., 1., 1., 1., 0., 1.],\n",
       "        [1., 1., 1., 1., 1., 1., 1., 1., 1., 1., 1., 1., 1., 1., 1., 1., 1., 1.,\n",
       "         1., 1., 1., 1., 1., 1., 1., 1., 1., 1.]], device='cuda:0',\n",
       "       dtype=torch.float64)"
      ]
     },
     "execution_count": 13,
     "metadata": {},
     "output_type": "execute_result"
    }
   ],
   "source": [
    "value_masking"
   ]
  },
  {
   "cell_type": "code",
   "execution_count": 35,
   "metadata": {},
   "outputs": [],
   "source": [
    "def masking(target):\n",
    "    \n",
    "    # value_masking vector\n",
    "    value_masking = torch.where(target.isnan(), 0.0, 1.0)\n",
    "\n",
    "    # gradient masking vector\n",
    "    dim1 = (target.isnan().nonzero(as_tuple=True)[0]).detach().cpu().to().tolist()\n",
    "    dim2_backward = (target.isnan().nonzero(as_tuple=True)[1] + 1).detach().cpu().to().tolist()\n",
    "    dim2_forward = (target.isnan().nonzero(as_tuple=True)[1] -1).detach().cpu().to().tolist()\n",
    "\n",
    "    grad_masking = torch.where(target.isnan(), 0.0, 1.0)\n",
    "    grad_masking[dim1, dim2_backward] = 0.0\n",
    "    grad_masking[dim1, dim2_forward] = 0.0\n",
    "    \n",
    "    return value_masking, grad_masking"
   ]
  },
  {
   "cell_type": "code",
   "execution_count": 37,
   "metadata": {},
   "outputs": [],
   "source": [
    "Vm, Gm = masking(target)"
   ]
  },
  {
   "cell_type": "code",
   "execution_count": 38,
   "metadata": {},
   "outputs": [
    {
     "data": {
      "text/plain": [
       "tensor([[0., 1., 0., 1., 0., 1., 0., 1., 1., 0., 1., 0., 0., 0., 1., 0., 0., 1.,\n",
       "         0., 0., 0., 0., 0., 0., 0., 0., 0., 0.],\n",
       "        [1., 0., 1., 0., 1., 0., 1., 0., 0., 0., 0., 0., 0., 0., 0., 0., 0., 0.,\n",
       "         1., 0., 1., 0., 0., 0., 0., 1., 0., 1.],\n",
       "        [0., 0., 0., 0., 0., 0., 0., 0., 0., 0., 0., 0., 0., 0., 0., 0., 0., 0.,\n",
       "         0., 0., 0., 0., 0., 0., 0., 0., 0., 0.]], device='cuda:0')"
      ]
     },
     "execution_count": 38,
     "metadata": {},
     "output_type": "execute_result"
    }
   ],
   "source": [
    "Vm - Gm"
   ]
  },
  {
   "cell_type": "code",
   "execution_count": 15,
   "metadata": {},
   "outputs": [
    {
     "data": {
      "text/plain": [
       "tensor([[1., 1., 0., 1., 1., 1., 0., 1., 1., 0., 1., 1., 1., 1., 1., 0., 0., 1.,\n",
       "         1., 1., 1., 1., 1., 1., 1., 1., 1., 1.],\n",
       "        [1., 0., 1., 0., 1., 0., 1., 1., 1., 1., 1., 1., 1., 1., 1., 1., 1., 1.,\n",
       "         1., 0., 1., 1., 1., 1., 1., 1., 0., 1.],\n",
       "        [1., 1., 1., 1., 1., 1., 1., 1., 1., 1., 1., 1., 1., 1., 1., 1., 1., 1.,\n",
       "         1., 1., 1., 1., 1., 1., 1., 1., 1., 1.]], device='cuda:0')"
      ]
     },
     "execution_count": 15,
     "metadata": {},
     "output_type": "execute_result"
    }
   ],
   "source": [
    "torch.where(target2.isnan(), 0.0, 1.0)"
   ]
  },
  {
   "cell_type": "code",
   "execution_count": 16,
   "metadata": {},
   "outputs": [
    {
     "data": {
      "text/plain": [
       "(tensor([0, 0, 0, 0, 0, 1, 1, 1, 1, 1], device='cuda:0'),\n",
       " tensor([ 2,  6,  9, 15, 16,  1,  3,  5, 19, 26], device='cuda:0'))"
      ]
     },
     "execution_count": 16,
     "metadata": {},
     "output_type": "execute_result"
    }
   ],
   "source": [
    "target2.isnan().nonzero(as_tuple=True)"
   ]
  },
  {
   "cell_type": "code",
   "execution_count": 17,
   "metadata": {},
   "outputs": [],
   "source": [
    "a = target2.isnan().nonzero(as_tuple=True)[0]\n",
    "b1 = target2.isnan().nonzero(as_tuple=True)[1] + 1\n",
    "b2 = target2.isnan().nonzero(as_tuple=True)[1] -1"
   ]
  },
  {
   "cell_type": "code",
   "execution_count": 26,
   "metadata": {},
   "outputs": [
    {
     "data": {
      "text/plain": [
       "[3, 7, 10, 16, 17, 2, 4, 6, 20, 27]"
      ]
     },
     "execution_count": 26,
     "metadata": {},
     "output_type": "execute_result"
    }
   ],
   "source": [
    "b1.detach().cpu().to().tolist()"
   ]
  },
  {
   "cell_type": "code",
   "execution_count": 21,
   "metadata": {},
   "outputs": [
    {
     "data": {
      "text/plain": [
       "tensor([ 1,  5,  8, 14, 15,  0,  2,  4, 18, 25], device='cuda:0')"
      ]
     },
     "execution_count": 21,
     "metadata": {},
     "output_type": "execute_result"
    }
   ],
   "source": [
    "b2"
   ]
  },
  {
   "cell_type": "code",
   "execution_count": 29,
   "metadata": {},
   "outputs": [],
   "source": [
    "target2[a.detach().cpu().to().tolist(), b2.detach().cpu().to().tolist()] = 0"
   ]
  },
  {
   "cell_type": "code",
   "execution_count": 30,
   "metadata": {},
   "outputs": [
    {
     "data": {
      "text/plain": [
       "tensor([[-6.3209e+00,  0.0000e+00,         nan, -9.4935e+00, -9.8764e+00,\n",
       "          0.0000e+00,         nan,  2.0847e+01,  0.0000e+00,         nan,\n",
       "          2.1164e+01,  1.2967e+01,  6.0111e+00, -3.7070e+00,  0.0000e+00,\n",
       "          0.0000e+00,         nan, -1.8371e+01, -1.6019e+01, -1.2789e+01,\n",
       "         -8.9670e+00, -5.0283e+00, -1.8674e+00, -2.4894e-01,  2.7321e-02,\n",
       "         -1.6306e-01, -2.4514e-01, -1.8262e-01],\n",
       "        [ 0.0000e+00,         nan,  0.0000e+00,         nan,  0.0000e+00,\n",
       "                 nan, -2.0970e+01, -2.2654e+01, -2.2289e+01, -2.0925e+01,\n",
       "         -1.8786e+01, -8.1002e+00,  1.1878e+01,  5.1751e+00, -1.4448e+01,\n",
       "         -2.0041e+01, -2.0012e+01, -1.8548e+01,  0.0000e+00,         nan,\n",
       "         -8.6037e+00, -4.3066e+00, -8.8700e-01,  6.7013e-01,  6.2229e-01,\n",
       "          0.0000e+00,         nan, -1.6510e-01],\n",
       "        [-6.7820e+00, -6.2724e+00, -3.0908e+00,  1.8207e-01,  3.5182e+00,\n",
       "          8.9976e+00,  1.5848e+01,  2.0695e+01,  2.1950e+01,  2.1478e+01,\n",
       "          2.1844e+01,  2.6222e+01,  3.7997e+01,  3.3637e+01,  2.0899e+01,\n",
       "          1.7660e+01,  1.7063e+01,  1.5809e+01,  1.3814e+01,  1.1475e+01,\n",
       "          9.3000e+00,  7.5634e+00,  6.0496e+00,  4.3936e+00,  2.6839e+00,\n",
       "          1.3490e+00,  5.8218e-01,  2.3496e-01]], device='cuda:0',\n",
       "       dtype=torch.float64)"
      ]
     },
     "execution_count": 30,
     "metadata": {},
     "output_type": "execute_result"
    }
   ],
   "source": [
    "target2"
   ]
  }
 ],
 "metadata": {
  "kernelspec": {
   "display_name": "cooling",
   "language": "python",
   "name": "python3"
  },
  "language_info": {
   "codemirror_mode": {
    "name": "ipython",
    "version": 3
   },
   "file_extension": ".py",
   "mimetype": "text/x-python",
   "name": "python",
   "nbconvert_exporter": "python",
   "pygments_lexer": "ipython3",
   "version": "3.10.8"
  },
  "orig_nbformat": 4
 },
 "nbformat": 4,
 "nbformat_minor": 2
}
