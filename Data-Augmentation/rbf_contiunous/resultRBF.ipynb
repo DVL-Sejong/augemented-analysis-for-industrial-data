{
 "cells": [
  {
   "cell_type": "code",
   "execution_count": 20,
   "metadata": {},
   "outputs": [],
   "source": [
    "import pandas as pd\n",
    "import numpy as np"
   ]
  },
  {
   "cell_type": "code",
   "execution_count": 14,
   "metadata": {},
   "outputs": [],
   "source": [
    "def RBFmissing(missing_rate):\n",
    "    real_list = []\n",
    "    impute_list = []\n",
    "    eval_masks_list = []\n",
    "\n",
    "    for human in [\"A\", 'B', 'C', 'D', 'E']:\n",
    "        print('human :', human, end = \" \")\n",
    "        for num in [\"01\", \"02\", \"03\", \"04\", \"05\"]:\n",
    "            for Tag in ['010-000-024-033', '010-000-030-096', '020-000-033-111', '020-000-032-221']:\n",
    "                df = pd.read_csv('./RBFresult/missing{0}/Tagdataset{0}/{1}_rbf_data{0}_{2}.csv'.format(missing_rate, human + num, Tag))\n",
    "                df = df[['x_coordinate', 'y_coordinate', 'z_coordinate']]\n",
    "\n",
    "                train_df = pd.read_csv('./dataset/missing{0}/Tagdataset{0}/{1}_data{0}_{2}.csv'.format(missing_rate, human + num, Tag))\n",
    "                train_df = train_df[['x_coordinate', 'y_coordinate', 'z_coordinate']]\n",
    "                real = pd.read_csv('./dataset/Tagdataset/{}_data_{}.csv'.format(human + num, Tag))[['x_coordinate', 'y_coordinate', 'z_coordinate']]\n",
    "\n",
    "                masks = ~np.isnan(train_df.values)\n",
    "                masks = masks.reshape(train_df.values.shape)\n",
    "\n",
    "                eval_masks = np.ones_like(masks) - masks.astype(float)\n",
    "\n",
    "                real_list.append(real.values)\n",
    "                eval_masks_list.append(eval_masks)\n",
    "                impute_list.append(df.values)\n",
    "    \n",
    "    eval_masks_list = np.concatenate(eval_masks_list)\n",
    "    impute_list = np.concatenate(impute_list)\n",
    "    real_list = np.concatenate(real_list)\n",
    "    print()\n",
    "    print(\"Original MAE :\", np.sum(np.abs((impute_list - real_list) * eval_masks_list)) / np.sum(eval_masks_list))\n",
    "    print(\"Original MRE :\", np.sum(np.abs((impute_list - real_list) * eval_masks_list)) / np.sum(np.abs(real_list * eval_masks_list)))\n"
   ]
  },
  {
   "cell_type": "code",
   "execution_count": 15,
   "metadata": {},
   "outputs": [
    {
     "name": "stdout",
     "output_type": "stream",
     "text": [
      "human : A human : B human : C human : D human : E \n",
      "Original MAE : 0.14354342374828058\n",
      "Original MRE : 0.0869899923121073\n"
     ]
    }
   ],
   "source": [
    "RBFmissing(10)"
   ]
  },
  {
   "cell_type": "code",
   "execution_count": 16,
   "metadata": {},
   "outputs": [
    {
     "name": "stdout",
     "output_type": "stream",
     "text": [
      "human : A human : B human : C human : D human : E \n",
      "Original MAE : 0.15026860712252182\n",
      "Original MRE : 0.09098198821657129\n"
     ]
    }
   ],
   "source": [
    "RBFmissing(30)"
   ]
  },
  {
   "cell_type": "code",
   "execution_count": 17,
   "metadata": {},
   "outputs": [
    {
     "name": "stdout",
     "output_type": "stream",
     "text": [
      "human : A human : B human : C human : D human : E \n",
      "Original MAE : 0.16259800561168966\n",
      "Original MRE : 0.09843956333778893\n"
     ]
    }
   ],
   "source": [
    "RBFmissing(50)"
   ]
  },
  {
   "cell_type": "code",
   "execution_count": 18,
   "metadata": {},
   "outputs": [
    {
     "name": "stdout",
     "output_type": "stream",
     "text": [
      "human : A human : B human : C human : D human : E \n",
      "Original MAE : 0.2652255645065388\n",
      "Original MRE : 0.16042808085044896\n"
     ]
    }
   ],
   "source": [
    "RBFmissing(80)"
   ]
  },
  {
   "cell_type": "code",
   "execution_count": 23,
   "metadata": {},
   "outputs": [],
   "source": [
    "def RBFmissingsigma(missing_rate):\n",
    "    real_list = []\n",
    "    impute_list = []\n",
    "    eval_masks_list = []\n",
    "\n",
    "    for human in [\"A\", 'B', 'C', 'D', 'E']:\n",
    "        print('human :', human, end = \" \")\n",
    "        for num in [\"01\", \"02\", \"03\", \"04\", \"05\"]:\n",
    "            for Tag in ['010-000-024-033', '010-000-030-096', '020-000-033-111', '020-000-032-221']:\n",
    "                df = pd.read_csv('./RBFresultsigma/missing{0}/{1}_rbf_data{0}_{2}.csv'.format(missing_rate, human + num, Tag))\n",
    "                df = df[['x_coordinate', 'y_coordinate', 'z_coordinate']]\n",
    "\n",
    "                train_df = pd.read_csv('./dataset/missing{0}/Tagdataset{0}/{1}_data{0}_{2}.csv'.format(missing_rate, human + num, Tag))\n",
    "                train_df = train_df[['x_coordinate', 'y_coordinate', 'z_coordinate']]\n",
    "                real = pd.read_csv('./dataset/Tagdataset/{}_data_{}.csv'.format(human + num, Tag))[['x_coordinate', 'y_coordinate', 'z_coordinate']]\n",
    "\n",
    "                masks = ~np.isnan(train_df.values)\n",
    "                masks = masks.reshape(train_df.values.shape)\n",
    "\n",
    "                eval_masks = np.ones_like(masks) - masks.astype(float)\n",
    "\n",
    "                real_list.append(real.values)\n",
    "                eval_masks_list.append(eval_masks)\n",
    "                impute_list.append(df.values)\n",
    "    \n",
    "    eval_masks_list = np.concatenate(eval_masks_list)\n",
    "    impute_list = np.concatenate(impute_list)\n",
    "    real_list = np.concatenate(real_list)\n",
    "    print()\n",
    "    print(\"Original MAE :\", np.sum(np.abs((impute_list - real_list) * eval_masks_list)) / np.sum(eval_masks_list))\n",
    "    print(\"Original MRE :\", np.sum(np.abs((impute_list - real_list) * eval_masks_list)) / np.sum(np.abs(real_list * eval_masks_list)))\n"
   ]
  },
  {
   "cell_type": "code",
   "execution_count": 24,
   "metadata": {},
   "outputs": [
    {
     "name": "stdout",
     "output_type": "stream",
     "text": [
      "human : A human : B human : C human : D human : E \n",
      "Original MAE : 0.2759495261326343\n",
      "Original MRE : 0.16706447753510062\n"
     ]
    }
   ],
   "source": [
    "RBFmissingsigma(50)"
   ]
  },
  {
   "cell_type": "code",
   "execution_count": 25,
   "metadata": {},
   "outputs": [
    {
     "name": "stdout",
     "output_type": "stream",
     "text": [
      "human : A human : B human : C human : D human : E \n",
      "Original MAE : 0.21625421415090645\n",
      "Original MRE : 0.1309337907658877\n"
     ]
    }
   ],
   "source": [
    "RBFmissingsigma(30)"
   ]
  },
  {
   "cell_type": "code",
   "execution_count": 43,
   "metadata": {},
   "outputs": [
    {
     "name": "stdout",
     "output_type": "stream",
     "text": [
      "human : A human : B human : C human : D human : E \n",
      "Original MAE : 0.8856157156830652\n",
      "Original MRE : 0.5356860297474388\n"
     ]
    }
   ],
   "source": [
    "RBFmissingsigma(80)"
   ]
  },
  {
   "cell_type": "code",
   "execution_count": null,
   "metadata": {},
   "outputs": [],
   "source": []
  },
  {
   "cell_type": "code",
   "execution_count": 39,
   "metadata": {},
   "outputs": [],
   "source": [
    "ETT_year_long = pd.read_csv(\"./ETRBF/dataset/ETh_year_longterm.csv\").drop(['date'], axis = 1)\n",
    "ETT_year_short = pd.read_csv(\"./ETRBF/dataset/df_year20missing.csv\").drop(['date'], axis = 1)\n",
    "ETT_real_year = pd.read_csv(\"./ETRBF/dataset/ETh_year.csv\").drop(['date'], axis = 1)\n",
    "\n",
    "rbf_long = pd.read_csv(\"./ETRBF/RBFresultsigma/rbf_year_long_20.csv\")\n",
    "rbf_short = pd.read_csv(\"./ETRBF/RBFresultsigma/rbf_year_short_20.csv\")"
   ]
  },
  {
   "cell_type": "code",
   "execution_count": 40,
   "metadata": {},
   "outputs": [],
   "source": [
    "long_masks = np.where(~np.isnan(ETT_year_long.values), 1.0, 0.0)\n",
    "evals_long = np.ones_like(long_masks) - long_masks\n",
    "\n",
    "short_masks = np.where(~np.isnan(ETT_year_short.values), 1.0, 0.0)\n",
    "evals_short = np.ones_like(short_masks) - short_masks"
   ]
  },
  {
   "cell_type": "code",
   "execution_count": 41,
   "metadata": {},
   "outputs": [
    {
     "data": {
      "text/plain": [
       "11936.0"
      ]
     },
     "execution_count": 41,
     "metadata": {},
     "output_type": "execute_result"
    }
   ],
   "source": [
    "np.sum(evals_long)"
   ]
  },
  {
   "cell_type": "code",
   "execution_count": 45,
   "metadata": {},
   "outputs": [
    {
     "name": "stdout",
     "output_type": "stream",
     "text": [
      "long MAE : 1.469803659087976\n",
      "long MRE : 0.2559312106826383\n"
     ]
    }
   ],
   "source": [
    "print(\"long MAE :\", np.sum(np.abs((rbf_long.values - ETT_real_year.values) * evals_long)) / np.sum(evals_long))\n",
    "print(\"long MRE :\", np.sum(np.abs((rbf_long.values - ETT_real_year.values) * evals_long)) / np.sum(np.abs(ETT_real_year.values * evals_long)))"
   ]
  },
  {
   "cell_type": "code",
   "execution_count": 44,
   "metadata": {},
   "outputs": [
    {
     "name": "stdout",
     "output_type": "stream",
     "text": [
      "short MAE : 0.8361200296985258\n",
      "short MRE : 0.14719344890165467\n"
     ]
    }
   ],
   "source": [
    "print(\"short MAE :\", np.sum(np.abs((rbf_short.values - ETT_real_year.values) * evals_short)) / np.sum(evals_short))\n",
    "print(\"short MRE :\", np.sum(np.abs((rbf_short.values - ETT_real_year.values) * evals_short)) / np.sum(np.abs(ETT_real_year.values * evals_short)))"
   ]
  },
  {
   "cell_type": "code",
   "execution_count": 51,
   "metadata": {},
   "outputs": [],
   "source": [
    "def RBFmissingsigmasingle(missing_rate, sigma):\n",
    "    real_list = []\n",
    "    impute_list = []\n",
    "    eval_masks_list = []\n",
    "\n",
    "    for human in [\"A\", 'B', 'C', 'D', 'E']:\n",
    "        print('human :', human, end = \" \")\n",
    "        for num in [\"01\", \"02\", \"03\", \"04\", \"05\"]:\n",
    "            for Tag in ['010-000-024-033', '010-000-030-096', '020-000-033-111', '020-000-032-221']:\n",
    "                if sigma == \"time\":\n",
    "                    df = pd.read_csv('./singleRBFresult/Timeresult/missing{0}/{1}_rbf_data{0}_{2}_{3}.csv'.format(missing_rate, human + num, Tag, sigma))\n",
    "                    df = df[['x_coordinate', 'y_coordinate', 'z_coordinate']]\n",
    "                else:\n",
    "                    df = pd.read_csv('./singleRBFresult/randomresult/missing{0}/{1}_rbf_data{0}_{2}_{3}.csv'.format(missing_rate, human + num, Tag, sigma))\n",
    "                    df = df[['x_coordinate', 'y_coordinate', 'z_coordinate']]\n",
    "                train_df = pd.read_csv('./dataset/missing{0}/Tagdataset{0}/{1}_data{0}_{2}.csv'.format(missing_rate, human + num, Tag))\n",
    "                train_df = train_df[['x_coordinate', 'y_coordinate', 'z_coordinate']]\n",
    "                real = pd.read_csv('./dataset/Tagdataset/{}_data_{}.csv'.format(human + num, Tag))[['x_coordinate', 'y_coordinate', 'z_coordinate']]\n",
    "\n",
    "                masks = ~np.isnan(train_df.values)\n",
    "                masks = masks.reshape(train_df.values.shape)\n",
    "\n",
    "                eval_masks = np.ones_like(masks) - masks.astype(float)\n",
    "\n",
    "                real_list.append(real.values)\n",
    "                eval_masks_list.append(eval_masks)\n",
    "                impute_list.append(df.values)\n",
    "    \n",
    "    eval_masks_list = np.concatenate(eval_masks_list)\n",
    "    impute_list = np.concatenate(impute_list)\n",
    "    real_list = np.concatenate(real_list)\n",
    "    print()\n",
    "    print(\"Original MAE :\", np.sum(np.abs((impute_list - real_list) * eval_masks_list)) / np.sum(eval_masks_list))\n",
    "    print(\"Original MRE :\", np.sum(np.abs((impute_list - real_list) * eval_masks_list)) / np.sum(np.abs(real_list * eval_masks_list)))\n"
   ]
  },
  {
   "cell_type": "code",
   "execution_count": 50,
   "metadata": {},
   "outputs": [
    {
     "name": "stdout",
     "output_type": "stream",
     "text": [
      "human : A human : B human : C human : D human : E \n",
      "Original MAE : 0.20331722933895907\n",
      "Original MRE : 0.12309166523834236\n"
     ]
    }
   ],
   "source": [
    "RBFmissingsigmasingle(50, 'time')"
   ]
  },
  {
   "cell_type": "code",
   "execution_count": 52,
   "metadata": {},
   "outputs": [
    {
     "name": "stdout",
     "output_type": "stream",
     "text": [
      "human : A human : B human : C human : D human : E \n",
      "Original MAE : 0.576581860972377\n",
      "Original MRE : 0.3490723419951343\n"
     ]
    }
   ],
   "source": [
    "RBFmissingsigmasingle(50, 'random')"
   ]
  },
  {
   "cell_type": "code",
   "execution_count": 53,
   "metadata": {},
   "outputs": [
    {
     "name": "stdout",
     "output_type": "stream",
     "text": [
      "human : A human : B human : C human : D human : E \n",
      "Original MAE : 0.3587477394258183\n",
      "Original MRE : 0.2172082594373729\n"
     ]
    }
   ],
   "source": [
    "RBFmissingsigmasingle(30, 'random')"
   ]
  },
  {
   "cell_type": "code",
   "execution_count": 54,
   "metadata": {},
   "outputs": [
    {
     "name": "stdout",
     "output_type": "stream",
     "text": [
      "human : A human : B human : C human : D human : E \n",
      "Original MAE : 0.18216800452248313\n",
      "Original MRE : 0.1102958732251189\n"
     ]
    }
   ],
   "source": [
    "RBFmissingsigmasingle(30, 'time')"
   ]
  },
  {
   "cell_type": "code",
   "execution_count": 55,
   "metadata": {},
   "outputs": [
    {
     "name": "stdout",
     "output_type": "stream",
     "text": [
      "human : A human : B human : C human : D human : E \n",
      "Original MAE : 0.2864394807502546\n",
      "Original MRE : 0.1732598298435502\n"
     ]
    }
   ],
   "source": [
    "RBFmissingsigmasingle(80, 'time')"
   ]
  },
  {
   "cell_type": "code",
   "execution_count": 57,
   "metadata": {},
   "outputs": [
    {
     "name": "stdout",
     "output_type": "stream",
     "text": [
      "human : A human : B human : C human : D human : E \n",
      "Original MAE : 1.294670037315133\n",
      "Original MRE : 0.7831124039927354\n"
     ]
    }
   ],
   "source": [
    "RBFmissingsigmasingle(80, 'random')"
   ]
  },
  {
   "cell_type": "code",
   "execution_count": null,
   "metadata": {},
   "outputs": [],
   "source": []
  }
 ],
 "metadata": {
  "kernelspec": {
   "display_name": "cooling",
   "language": "python",
   "name": "python3"
  },
  "language_info": {
   "codemirror_mode": {
    "name": "ipython",
    "version": 3
   },
   "file_extension": ".py",
   "mimetype": "text/x-python",
   "name": "python",
   "nbconvert_exporter": "python",
   "pygments_lexer": "ipython3",
   "version": "3.10.4"
  },
  "orig_nbformat": 4
 },
 "nbformat": 4,
 "nbformat_minor": 2
}
