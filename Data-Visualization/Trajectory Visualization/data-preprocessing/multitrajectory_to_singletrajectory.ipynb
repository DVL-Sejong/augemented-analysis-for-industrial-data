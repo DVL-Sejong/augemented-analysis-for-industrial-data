{
 "cells": [
  {
   "cell_type": "code",
   "execution_count": null,
   "id": "4553b812",
   "metadata": {},
   "outputs": [],
   "source": [
    "import os, glob\n",
    "import pandas as pd\n",
    "from haversine import haversine\n",
    "\n",
    "path = 'data/cabspottingdata/Multiple_Trajectories/'\n",
    "save = 'data/cabspottingdata/Multiple_Trajectories/Single_Trajectory'\n",
    "\n",
    "file_list = os.listdir(path)\n",
    "f_name=[]\n",
    "for filename in file_list:\n",
    "    if os.path.splitext(filename)[1] == '.csv':\n",
    "        f_name.append(os.path.splitext(filename)[0])\n",
    "        \n",
    "for t in f_name:\n",
    "    df3 = pd.DataFrame(columns=(\"CarName\", \"LineString\", \"StartTime\", \"Num_p\"))\n",
    "    \n",
    "    df = pd.read_csv(path+t+'.csv', index_col=0)\n",
    "    df2 = df.sort_index(ascending=False)\n",
    "    df2 = df2.reset_index()\n",
    "    df2 = df2.drop(columns=['index'])\n",
    "    df2 = df2.loc[(df2['latitude'] <= 37.811778) & (df2['latitude'] >= 37.705258)]\n",
    "    df2 = df2.loc[(df2['longitude'] <= -122.351824) & (df2['longitude'] >= -122.526568)]\n",
    "    \n",
    "    \n",
    "    flag = df2.iloc[0]['p']\n",
    "    stime = df2.iloc[0]['time']\n",
    "    line = 'LINESTRING('\n",
    "    start = (35.1, -124.1)\n",
    "    cnt = 0\n",
    "    dis = 0\n",
    "\n",
    "    for la, lo, p, ti in zip(df2[\"latitude\"], df2[\"longitude\"], df2[\"p\"], df2[\"time\"]):        \n",
    "        if flag == p:\n",
    "            goal = (la, lo)\n",
    "            dis = haversine(start, goal, unit = 'm')\n",
    "            if dis >= 150:\n",
    "                line += str(lo) + ' ' + str(la) + ','\n",
    "                cnt = cnt + 1\n",
    "                start = goal\n",
    "        else:\n",
    "            line = line[:-1]\n",
    "            line += ')'\n",
    "            df3 = df3.append({'CarName' : t, 'LineString' : line, 'StartTime' : stime, 'Num_p' : cnt}, ignore_index=True)\n",
    "            line = 'LINESTRING('\n",
    "            line += str(lo) + ' ' + str(la) + ','\n",
    "            cnt = 0\n",
    "            stime = ti\n",
    "            flag = p\n",
    "    line = line[:-1]\n",
    "    line += ')'\n",
    "    df3 = df3.append({'CarName' : t, 'LineString' : line, 'StartTime' : stime, 'Num_p' : cnt}, ignore_index=True)\n",
    "    df3 = df3.loc[df3['Num_p'] >= 5]\n",
    "    df3 = df3.loc[df3['Num_p'] <= 110]\n",
    "    df3.to_csv(save + '/' + t + '_tra.csv')\n",
    "    df3 = pd.DataFrame(columns=(\"CarName\", \"LineString\", \"StartTime\", \"Num_p\"))"
   ]
  }
 ],
 "metadata": {
  "kernelspec": {
   "display_name": "Python 3 (ipykernel)",
   "language": "python",
   "name": "python3"
  },
  "language_info": {
   "codemirror_mode": {
    "name": "ipython",
    "version": 3
   },
   "file_extension": ".py",
   "mimetype": "text/x-python",
   "name": "python",
   "nbconvert_exporter": "python",
   "pygments_lexer": "ipython3",
   "version": "3.7.13"
  }
 },
 "nbformat": 4,
 "nbformat_minor": 5
}
