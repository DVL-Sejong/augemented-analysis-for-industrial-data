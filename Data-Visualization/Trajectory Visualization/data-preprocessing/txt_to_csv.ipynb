{
 "cells": [
  {
   "cell_type": "code",
   "execution_count": null,
   "id": "b50e792a",
   "metadata": {},
   "outputs": [],
   "source": [
    "import os, glob\n",
    "import pandas as pd\n",
    "\n",
    "path = 'data/cabspottingdata/'\n",
    "save = 'data/cabspottinddata/Multiple_Trajectories/'\n",
    "\n",
    "file_list = os.listdir(path)\n",
    "f_name=[]\n",
    "for filename in file_list:\n",
    "    if os.path.splitext(filename)[1] == '.txt':\n",
    "        f_name.append(os.path.splitext(filename)[0])\n",
    "\n",
    "for t in f_name:\n",
    "    file = pd.read_csv(path+t+'.txt', header=None)\n",
    "    file.columns = ['sample']\n",
    "    df = file['sample'].str.split(\" \", expand=True)\n",
    "    df.columns = ['latitude', 'longitude', 'p', 'time']\n",
    "    df['time'] = pd.to_datetime(df['time'], unit = 's')\n",
    "    new_csv_file = df.to_csv(save+t+'.csv')"
   ]
  }
 ],
 "metadata": {
  "kernelspec": {
   "display_name": "Python 3 (ipykernel)",
   "language": "python",
   "name": "python3"
  },
  "language_info": {
   "codemirror_mode": {
    "name": "ipython",
    "version": 3
   },
   "file_extension": ".py",
   "mimetype": "text/x-python",
   "name": "python",
   "nbconvert_exporter": "python",
   "pygments_lexer": "ipython3",
   "version": "3.7.13"
  }
 },
 "nbformat": 4,
 "nbformat_minor": 5
}
