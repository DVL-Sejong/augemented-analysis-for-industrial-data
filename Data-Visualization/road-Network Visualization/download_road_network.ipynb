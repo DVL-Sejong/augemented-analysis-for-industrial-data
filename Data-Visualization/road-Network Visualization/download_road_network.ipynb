{
 "cells": [
  {
   "cell_type": "code",
   "execution_count": null,
   "id": "bd4e9126",
   "metadata": {},
   "outputs": [],
   "source": [
    "import osmnx as ox\n",
    "import networkx as nx\n",
    "import time\n",
    "from shapely.geometry import Polygon\n",
    "from shapely.geometry import shape\n",
    "import pandas as pd\n",
    "import os\n",
    "import fiona\n",
    "import numpy as np\n",
    "\n",
    "def save_graph_shapefile_directional(G, filepath=None, encoding=\"utf-8\"):\n",
    "    if filepath is None:\n",
    "        filepath = os.path.join(ox.settings.data_folder, \"graph_shapefile\")\n",
    "\n",
    "    if not filepath == \"\" and not os.path.exists(filepath):\n",
    "        os.makedirs(filepath)\n",
    "    filepath_nodes = os.path.join(filepath, \"nodes.shp\")\n",
    "    filepath_edges = os.path.join(filepath, \"edges.shp\")\n",
    "\n",
    "    gdf_nodes, gdf_edges = ox.utils_graph.graph_to_gdfs(G)\n",
    "    gdf_nodes = ox.io._stringify_nonnumeric_cols(gdf_nodes)\n",
    "    gdf_edges = ox.io._stringify_nonnumeric_cols(gdf_edges)\n",
    "    gdf_edges[\"fid\"] = np.arange(0, gdf_edges.shape[0], dtype='int')\n",
    "\n",
    "    with fiona.Env(OSR_WKT_FORMAT=\"WKT2_2018\"):\n",
    "        gdf_nodes.to_file(filepath_nodes, encoding=encoding)\n",
    "        gdf_edges.to_file(filepath_edges, encoding=encoding)\n",
    "\n",
    "# San Francisco\n",
    "bounds = (-122.4365, -122.3859, 37.8140, 37.7673)\n",
    "x1,x2,y1,y2 = bounds\n",
    "boundary_polygon = Polygon([(x1,y1),(x2,y1),(x2,y2),(x1,y2)])\n",
    "G = ox.graph_from_polygon(boundary_polygon, network_type='drive')\n",
    "start_time = time.time()\n",
    "save_graph_shapefile_directional(G, filepath='./data')\n",
    "print(\"--- %s seconds ---\" % (time.time() - start_time))\n",
    "\n",
    "gdf_nodes, gdf_edges = ox.utils_graph.graph_to_gdfs(G)\n",
    "gdf_nodes.to_csv('.data/SanFrancisco_nodes.csv')\n",
    "gdf_edges.to_csv('.data/SanFrancisco_edges.csv')"
   ]
  }
 ],
 "metadata": {
  "kernelspec": {
   "display_name": "Python 3 (ipykernel)",
   "language": "python",
   "name": "python3"
  },
  "language_info": {
   "codemirror_mode": {
    "name": "ipython",
    "version": 3
   },
   "file_extension": ".py",
   "mimetype": "text/x-python",
   "name": "python",
   "nbconvert_exporter": "python",
   "pygments_lexer": "ipython3",
   "version": "3.7.13"
  }
 },
 "nbformat": 4,
 "nbformat_minor": 5
}
