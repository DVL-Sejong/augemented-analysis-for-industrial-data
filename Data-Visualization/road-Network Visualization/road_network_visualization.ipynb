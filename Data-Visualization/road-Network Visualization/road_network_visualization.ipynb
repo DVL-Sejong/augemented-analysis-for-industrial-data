{
 "cells": [
  {
   "cell_type": "code",
   "execution_count": null,
   "id": "dd0f4ecb",
   "metadata": {},
   "outputs": [],
   "source": [
    "import folium\n",
    "import pandas as pd\n",
    "from folium import plugins\n",
    "\n",
    "path = 'small-Sanf/'\n",
    "nodes = pd.read_csv(path + 'SanFrancisco_nodes.csv')\n",
    "edges = pd.read_csv(path + 'SanFrancisco_edges.csv')\n",
    "\n",
    "m = folium.Map(location=(37.75, -122.4), zoom_start=12)\n",
    "\n",
    "for i in range(len(nodes)):\n",
    "    folium.Circle([nodes.y[i], nodes.x[i]],\n",
    "                 radius= 10,\n",
    "                 color='green').add_to(m)\n",
    "\n",
    "for i in range(len(edges)):\n",
    "    temp = edges.geometry[i]\n",
    "    temp = temp[12:-1]\n",
    "    temp = temp.split(', ')\n",
    "    lines_g = []\n",
    "    \n",
    "    for p in temp:\n",
    "        tt = p.split(' ')\n",
    "        line = [float(tt[1]), float(tt[0])]\n",
    "        lines_g.append(line)\n",
    "        \n",
    "    folium.PolyLine(locations=lines_g, color='blue').add_to(m)\n",
    "m"
   ]
  }
 ],
 "metadata": {
  "kernelspec": {
   "display_name": "Python 3 (ipykernel)",
   "language": "python",
   "name": "python3"
  },
  "language_info": {
   "codemirror_mode": {
    "name": "ipython",
    "version": 3
   },
   "file_extension": ".py",
   "mimetype": "text/x-python",
   "name": "python",
   "nbconvert_exporter": "python",
   "pygments_lexer": "ipython3",
   "version": "3.7.13"
  }
 },
 "nbformat": 4,
 "nbformat_minor": 5
}
