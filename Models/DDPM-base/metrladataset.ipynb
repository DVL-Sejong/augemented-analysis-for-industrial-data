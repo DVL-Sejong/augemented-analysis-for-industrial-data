{
 "cells": [
  {
   "cell_type": "code",
   "execution_count": 4,
   "metadata": {},
   "outputs": [],
   "source": [
    "import tables"
   ]
  },
  {
   "cell_type": "code",
   "execution_count": 2,
   "metadata": {},
   "outputs": [],
   "source": [
    "import pandas as pd\n",
    "import numpy as np"
   ]
  },
  {
   "cell_type": "code",
   "execution_count": 8,
   "metadata": {},
   "outputs": [
    {
     "data": {
      "text/plain": [
       "Index(['773869', '767541', '767542', '717447', '717446', '717445', '773062',\n",
       "       '767620', '737529', '717816',\n",
       "       ...\n",
       "       '772167', '769372', '774204', '769806', '717590', '717592', '717595',\n",
       "       '772168', '718141', '769373'],\n",
       "      dtype='object', length=207)"
      ]
     },
     "execution_count": 8,
     "metadata": {},
     "output_type": "execute_result"
    }
   ],
   "source": [
    "df.columns"
   ]
  },
  {
   "cell_type": "code",
   "execution_count": 9,
   "metadata": {},
   "outputs": [],
   "source": [
    "import gluonts"
   ]
  },
  {
   "cell_type": "code",
   "execution_count": 12,
   "metadata": {},
   "outputs": [],
   "source": [
    "from gluonts.dataset.repository.datasets import dataset_recipes, get_dataset\n",
    "\n",
    "# 'metr_la' 데이터셋을 가져옴\n",
    "dataset = get_dataset(\"m4_hourly\", regenerate=False)\n",
    "\n",
    "# 데이터셋을 확인\n",
    "train_data = next(iter(dataset.train))\n",
    "test_data = next(iter(dataset.test))\n",
    "\n",
    "# 이제 train_data와 test_data를 사용하여 모델을 학습하고 평가할 수 있습니다.\n"
   ]
  },
  {
   "cell_type": "code",
   "execution_count": 17,
   "metadata": {},
   "outputs": [
    {
     "data": {
      "text/plain": [
       "{'target': array([605., 586., 586., 559., 511., 443., 422., 395., 382., 370., 383.,\n",
       "        397., 420., 455., 493., 554., 610., 666., 715., 755., 778., 794.,\n",
       "        806., 808., 776., 723., 709., 660., 585., 527., 462., 437., 413.,\n",
       "        407., 404., 420., 441., 471., 526., 571., 612., 635., 613., 608.,\n",
       "        614., 637., 669., 683., 687., 660., 661., 632., 573., 521., 481.,\n",
       "        452., 447., 425., 427., 441., 438., 472., 528., 596., 661., 708.,\n",
       "        754., 781., 808., 819., 820., 801., 770., 717., 697., 655., 607.,\n",
       "        552., 512., 475., 452., 436., 429., 433., 430., 472., 536., 611.,\n",
       "        662., 705., 707., 718., 733., 741., 737., 710., 647., 593., 564.,\n",
       "        528., 507., 466., 428., 396., 382., 371., 374., 372., 373., 406.,\n",
       "        451., 480., 487., 487., 494., 505., 519., 535., 560., 570., 551.,\n",
       "        541., 552., 521., 477., 426., 395., 370., 357., 349., 362., 374.,\n",
       "        402., 427., 456., 500., 558., 608., 661., 704., 736., 763., 782.,\n",
       "        782., 775., 730., 716., 657., 590., 518., 469., 438., 418., 406.,\n",
       "        405., 418., 440., 467., 526., 588., 660., 713., 767., 800., 828.,\n",
       "        837., 851., 836., 813., 776., 753., 695., 620., 542., 494., 459.,\n",
       "        439., 417., 423., 429., 450., 482., 539., 613., 677., 736., 777.,\n",
       "        820., 828., 838., 824., 805., 774., 736., 718., 666., 601., 532.,\n",
       "        485., 449., 427., 415., 418., 438., 445., 487., 535., 598., 669.,\n",
       "        730., 776., 801., 824., 826., 819., 802., 771., 740., 722., 676.,\n",
       "        603., 546., 488., 458., 438., 421., 419., 426., 450., 487., 550.,\n",
       "        612., 683., 739., 785., 818., 837., 847., 848., 834., 810., 764.,\n",
       "        746., 698., 634., 584., 519., 490., 463., 446., 439., 436., 442.,\n",
       "        483., 566., 643., 723., 773., 822., 849., 865., 881., 882., 872.,\n",
       "        840., 797., 773., 724., 661., 593., 547., 512., 484., 463., 452.,\n",
       "        442., 447., 506., 598., 692., 756., 804., 836., 866., 886., 890.,\n",
       "        878., 863., 830., 770., 756., 704., 629., 566., 518., 484., 461.,\n",
       "        450., 446., 467., 485., 525., 585., 670., 747., 805., 839., 857.,\n",
       "        844., 834., 828., 834., 815., 781., 762., 710., 641., 571., 527.,\n",
       "        498., 475., 466., 472., 478., 506., 542., 594., 661., 728., 786.,\n",
       "        828., 846., 854., 852., 862., 859., 853., 815., 802., 749., 679.,\n",
       "        604., 569., 529., 513., 500., 495., 511., 525., 557., 605., 676.,\n",
       "        737., 791., 837., 856., 886., 901., 916., 905., 871., 823., 798.,\n",
       "        738., 666., 593., 553., 515., 494., 487., 482., 498., 515., 540.,\n",
       "        584., 633., 705., 754., 801., 833., 863., 872., 867., 845., 819.,\n",
       "        787., 762., 717., 651., 575., 537., 500., 470., 457., 465., 467.,\n",
       "        488., 525., 581., 654., 732., 789., 826., 852., 870., 859., 853.,\n",
       "        820., 789., 741., 731., 683., 620., 566., 514., 478., 462., 435.,\n",
       "        432., 434., 441., 483., 563., 644., 729., 798., 847., 874., 890.,\n",
       "        908., 902., 895., 860., 815., 792., 732., 672., 605., 554., 517.,\n",
       "        492., 473., 452., 458., 452., 506., 607., 691., 761., 820., 860.,\n",
       "        867., 852., 820., 768., 729., 689., 661., 652., 612., 559., 503.,\n",
       "        468., 441., 423., 412., 424., 441., 460., 494., 548., 609., 694.,\n",
       "        758., 817., 863., 881., 900., 909., 900., 875., 830., 812., 758.,\n",
       "        688., 607., 570., 536., 504., 487., 495., 503., 521., 554., 612.,\n",
       "        680., 753., 817., 863., 889., 883., 867., 840., 810., 779., 744.,\n",
       "        722., 668., 613., 550., 509., 481., 460., 458., 456., 474., 488.,\n",
       "        527., 583., 652., 723., 796., 846., 877., 881., 884., 857., 835.,\n",
       "        809., 766., 755., 703., 635., 577., 533., 504., 485., 473., 474.,\n",
       "        494., 507., 545., 599., 672., 740., 790., 823., 822., 817., 801.,\n",
       "        792., 775., 735., 723., 699., 658., 598., 547., 503., 474., 459.,\n",
       "        450., 450., 469., 488., 520., 566., 640., 705., 762., 808., 838.,\n",
       "        820., 784., 753., 739., 720., 690., 678., 634., 587., 537., 492.,\n",
       "        464., 443., 427., 424., 430., 424., 473., 537., 616., 684., 761.,\n",
       "        793., 826., 833., 835., 838., 823., 795., 750., 739., 679., 622.,\n",
       "        558., 513., 476., 449., 437., 422., 423., 415., 475., 553., 624.,\n",
       "        680., 720., 769., 805., 828., 836., 849., 844., 808., 757., 730.,\n",
       "        670., 594., 528., 474., 447., 423., 412., 413., 431., 449., 489.,\n",
       "        544., 610., 696., 765., 813., 851., 872., 883., 899., 897., 871.,\n",
       "        831., 813., 749., 664., 550., 544., 505., 483., 469., 466., 487.,\n",
       "        492., 531., 583., 659., 743., 811., 863., 898., 914., 920., 926.,\n",
       "        919., 887., 862., 829., 769., 691., 618., 563., 529., 504., 489.,\n",
       "        487., 508., 513., 555., 606., 676., 761., 837., 878., 890., 879.,\n",
       "        847., 820., 790., 784., 752., 739., 684.], dtype=float32),\n",
       " 'start': Period('1750-01-01 00:00', 'H'),\n",
       " 'feat_static_cat': array([0]),\n",
       " 'item_id': 0}"
      ]
     },
     "execution_count": 17,
     "metadata": {},
     "output_type": "execute_result"
    }
   ],
   "source": [
    "train_data"
   ]
  },
  {
   "cell_type": "code",
   "execution_count": 18,
   "metadata": {},
   "outputs": [
    {
     "ename": "AttributeError",
     "evalue": "'numpy.bytes_' object has no attribute 'freqstr'",
     "output_type": "error",
     "traceback": [
      "\u001b[1;31m---------------------------------------------------------------------------\u001b[0m",
      "\u001b[1;31mAttributeError\u001b[0m                            Traceback (most recent call last)",
      "\u001b[1;32mc:\\Users\\chanyoung\\anaconda3\\envs\\coolingts\\lib\\site-packages\\IPython\\core\\formatters.py\u001b[0m in \u001b[0;36m__call__\u001b[1;34m(self, obj)\u001b[0m\n\u001b[0;32m    700\u001b[0m                 \u001b[0mtype_pprinters\u001b[0m\u001b[1;33m=\u001b[0m\u001b[0mself\u001b[0m\u001b[1;33m.\u001b[0m\u001b[0mtype_printers\u001b[0m\u001b[1;33m,\u001b[0m\u001b[1;33m\u001b[0m\u001b[1;33m\u001b[0m\u001b[0m\n\u001b[0;32m    701\u001b[0m                 deferred_pprinters=self.deferred_printers)\n\u001b[1;32m--> 702\u001b[1;33m             \u001b[0mprinter\u001b[0m\u001b[1;33m.\u001b[0m\u001b[0mpretty\u001b[0m\u001b[1;33m(\u001b[0m\u001b[0mobj\u001b[0m\u001b[1;33m)\u001b[0m\u001b[1;33m\u001b[0m\u001b[1;33m\u001b[0m\u001b[0m\n\u001b[0m\u001b[0;32m    703\u001b[0m             \u001b[0mprinter\u001b[0m\u001b[1;33m.\u001b[0m\u001b[0mflush\u001b[0m\u001b[1;33m(\u001b[0m\u001b[1;33m)\u001b[0m\u001b[1;33m\u001b[0m\u001b[1;33m\u001b[0m\u001b[0m\n\u001b[0;32m    704\u001b[0m             \u001b[1;32mreturn\u001b[0m \u001b[0mstream\u001b[0m\u001b[1;33m.\u001b[0m\u001b[0mgetvalue\u001b[0m\u001b[1;33m(\u001b[0m\u001b[1;33m)\u001b[0m\u001b[1;33m\u001b[0m\u001b[1;33m\u001b[0m\u001b[0m\n",
      "\u001b[1;32mc:\\Users\\chanyoung\\anaconda3\\envs\\coolingts\\lib\\site-packages\\IPython\\lib\\pretty.py\u001b[0m in \u001b[0;36mpretty\u001b[1;34m(self, obj)\u001b[0m\n\u001b[0;32m    392\u001b[0m                         \u001b[1;32mif\u001b[0m \u001b[0mcls\u001b[0m \u001b[1;32mis\u001b[0m \u001b[1;32mnot\u001b[0m \u001b[0mobject\u001b[0m\u001b[0;31m \u001b[0m\u001b[0;31m\\\u001b[0m\u001b[1;33m\u001b[0m\u001b[1;33m\u001b[0m\u001b[0m\n\u001b[0;32m    393\u001b[0m                                 \u001b[1;32mand\u001b[0m \u001b[0mcallable\u001b[0m\u001b[1;33m(\u001b[0m\u001b[0mcls\u001b[0m\u001b[1;33m.\u001b[0m\u001b[0m__dict__\u001b[0m\u001b[1;33m.\u001b[0m\u001b[0mget\u001b[0m\u001b[1;33m(\u001b[0m\u001b[1;34m'__repr__'\u001b[0m\u001b[1;33m)\u001b[0m\u001b[1;33m)\u001b[0m\u001b[1;33m:\u001b[0m\u001b[1;33m\u001b[0m\u001b[1;33m\u001b[0m\u001b[0m\n\u001b[1;32m--> 394\u001b[1;33m                             \u001b[1;32mreturn\u001b[0m \u001b[0m_repr_pprint\u001b[0m\u001b[1;33m(\u001b[0m\u001b[0mobj\u001b[0m\u001b[1;33m,\u001b[0m \u001b[0mself\u001b[0m\u001b[1;33m,\u001b[0m \u001b[0mcycle\u001b[0m\u001b[1;33m)\u001b[0m\u001b[1;33m\u001b[0m\u001b[1;33m\u001b[0m\u001b[0m\n\u001b[0m\u001b[0;32m    395\u001b[0m \u001b[1;33m\u001b[0m\u001b[0m\n\u001b[0;32m    396\u001b[0m             \u001b[1;32mreturn\u001b[0m \u001b[0m_default_pprint\u001b[0m\u001b[1;33m(\u001b[0m\u001b[0mobj\u001b[0m\u001b[1;33m,\u001b[0m \u001b[0mself\u001b[0m\u001b[1;33m,\u001b[0m \u001b[0mcycle\u001b[0m\u001b[1;33m)\u001b[0m\u001b[1;33m\u001b[0m\u001b[1;33m\u001b[0m\u001b[0m\n",
      "\u001b[1;32mc:\\Users\\chanyoung\\anaconda3\\envs\\coolingts\\lib\\site-packages\\IPython\\lib\\pretty.py\u001b[0m in \u001b[0;36m_repr_pprint\u001b[1;34m(obj, p, cycle)\u001b[0m\n\u001b[0;32m    698\u001b[0m     \u001b[1;34m\"\"\"A pprint that just redirects to the normal repr function.\"\"\"\u001b[0m\u001b[1;33m\u001b[0m\u001b[1;33m\u001b[0m\u001b[0m\n\u001b[0;32m    699\u001b[0m     \u001b[1;31m# Find newlines and replace them with p.break_()\u001b[0m\u001b[1;33m\u001b[0m\u001b[1;33m\u001b[0m\u001b[1;33m\u001b[0m\u001b[0m\n\u001b[1;32m--> 700\u001b[1;33m     \u001b[0moutput\u001b[0m \u001b[1;33m=\u001b[0m \u001b[0mrepr\u001b[0m\u001b[1;33m(\u001b[0m\u001b[0mobj\u001b[0m\u001b[1;33m)\u001b[0m\u001b[1;33m\u001b[0m\u001b[1;33m\u001b[0m\u001b[0m\n\u001b[0m\u001b[0;32m    701\u001b[0m     \u001b[0mlines\u001b[0m \u001b[1;33m=\u001b[0m \u001b[0moutput\u001b[0m\u001b[1;33m.\u001b[0m\u001b[0msplitlines\u001b[0m\u001b[1;33m(\u001b[0m\u001b[1;33m)\u001b[0m\u001b[1;33m\u001b[0m\u001b[1;33m\u001b[0m\u001b[0m\n\u001b[0;32m    702\u001b[0m     \u001b[1;32mwith\u001b[0m \u001b[0mp\u001b[0m\u001b[1;33m.\u001b[0m\u001b[0mgroup\u001b[0m\u001b[1;33m(\u001b[0m\u001b[1;33m)\u001b[0m\u001b[1;33m:\u001b[0m\u001b[1;33m\u001b[0m\u001b[1;33m\u001b[0m\u001b[0m\n",
      "\u001b[1;32mc:\\Users\\chanyoung\\anaconda3\\envs\\coolingts\\lib\\site-packages\\pandas\\core\\indexes\\base.py\u001b[0m in \u001b[0;36m__repr__\u001b[1;34m(self)\u001b[0m\n\u001b[0;32m   1113\u001b[0m         \u001b[0mklass_name\u001b[0m \u001b[1;33m=\u001b[0m \u001b[0mtype\u001b[0m\u001b[1;33m(\u001b[0m\u001b[0mself\u001b[0m\u001b[1;33m)\u001b[0m\u001b[1;33m.\u001b[0m\u001b[0m__name__\u001b[0m\u001b[1;33m\u001b[0m\u001b[1;33m\u001b[0m\u001b[0m\n\u001b[0;32m   1114\u001b[0m         \u001b[0mdata\u001b[0m \u001b[1;33m=\u001b[0m \u001b[0mself\u001b[0m\u001b[1;33m.\u001b[0m\u001b[0m_format_data\u001b[0m\u001b[1;33m(\u001b[0m\u001b[1;33m)\u001b[0m\u001b[1;33m\u001b[0m\u001b[1;33m\u001b[0m\u001b[0m\n\u001b[1;32m-> 1115\u001b[1;33m         \u001b[0mattrs\u001b[0m \u001b[1;33m=\u001b[0m \u001b[0mself\u001b[0m\u001b[1;33m.\u001b[0m\u001b[0m_format_attrs\u001b[0m\u001b[1;33m(\u001b[0m\u001b[1;33m)\u001b[0m\u001b[1;33m\u001b[0m\u001b[1;33m\u001b[0m\u001b[0m\n\u001b[0m\u001b[0;32m   1116\u001b[0m         \u001b[0mspace\u001b[0m \u001b[1;33m=\u001b[0m \u001b[0mself\u001b[0m\u001b[1;33m.\u001b[0m\u001b[0m_format_space\u001b[0m\u001b[1;33m(\u001b[0m\u001b[1;33m)\u001b[0m\u001b[1;33m\u001b[0m\u001b[1;33m\u001b[0m\u001b[0m\n\u001b[0;32m   1117\u001b[0m         \u001b[0mattrs_str\u001b[0m \u001b[1;33m=\u001b[0m \u001b[1;33m[\u001b[0m\u001b[1;34mf\"{k}={v}\"\u001b[0m \u001b[1;32mfor\u001b[0m \u001b[0mk\u001b[0m\u001b[1;33m,\u001b[0m \u001b[0mv\u001b[0m \u001b[1;32min\u001b[0m \u001b[0mattrs\u001b[0m\u001b[1;33m]\u001b[0m\u001b[1;33m\u001b[0m\u001b[1;33m\u001b[0m\u001b[0m\n",
      "\u001b[1;32mc:\\Users\\chanyoung\\anaconda3\\envs\\coolingts\\lib\\site-packages\\pandas\\core\\indexes\\datetimelike.py\u001b[0m in \u001b[0;36m_format_attrs\u001b[1;34m(self)\u001b[0m\n\u001b[0;32m    357\u001b[0m         \u001b[1;32mfor\u001b[0m \u001b[0mattrib\u001b[0m \u001b[1;32min\u001b[0m \u001b[0mself\u001b[0m\u001b[1;33m.\u001b[0m\u001b[0m_attributes\u001b[0m\u001b[1;33m:\u001b[0m\u001b[1;33m\u001b[0m\u001b[1;33m\u001b[0m\u001b[0m\n\u001b[0;32m    358\u001b[0m             \u001b[1;32mif\u001b[0m \u001b[0mattrib\u001b[0m \u001b[1;33m==\u001b[0m \u001b[1;34m\"freq\"\u001b[0m\u001b[1;33m:\u001b[0m\u001b[1;33m\u001b[0m\u001b[1;33m\u001b[0m\u001b[0m\n\u001b[1;32m--> 359\u001b[1;33m                 \u001b[0mfreq\u001b[0m \u001b[1;33m=\u001b[0m \u001b[0mself\u001b[0m\u001b[1;33m.\u001b[0m\u001b[0mfreqstr\u001b[0m\u001b[1;33m\u001b[0m\u001b[1;33m\u001b[0m\u001b[0m\n\u001b[0m\u001b[0;32m    360\u001b[0m                 \u001b[1;32mif\u001b[0m \u001b[0mfreq\u001b[0m \u001b[1;32mis\u001b[0m \u001b[1;32mnot\u001b[0m \u001b[1;32mNone\u001b[0m\u001b[1;33m:\u001b[0m\u001b[1;33m\u001b[0m\u001b[1;33m\u001b[0m\u001b[0m\n\u001b[0;32m    361\u001b[0m                     \u001b[0mfreq\u001b[0m \u001b[1;33m=\u001b[0m \u001b[0mrepr\u001b[0m\u001b[1;33m(\u001b[0m\u001b[0mfreq\u001b[0m\u001b[1;33m)\u001b[0m\u001b[1;33m\u001b[0m\u001b[1;33m\u001b[0m\u001b[0m\n",
      "\u001b[1;32mc:\\Users\\chanyoung\\anaconda3\\envs\\coolingts\\lib\\site-packages\\pandas\\core\\indexes\\extension.py\u001b[0m in \u001b[0;36mfget\u001b[1;34m(self)\u001b[0m\n\u001b[0;32m     79\u001b[0m \u001b[1;33m\u001b[0m\u001b[0m\n\u001b[0;32m     80\u001b[0m             \u001b[1;32mdef\u001b[0m \u001b[0mfget\u001b[0m\u001b[1;33m(\u001b[0m\u001b[0mself\u001b[0m\u001b[1;33m)\u001b[0m\u001b[1;33m:\u001b[0m\u001b[1;33m\u001b[0m\u001b[1;33m\u001b[0m\u001b[0m\n\u001b[1;32m---> 81\u001b[1;33m                 \u001b[0mresult\u001b[0m \u001b[1;33m=\u001b[0m \u001b[0mgetattr\u001b[0m\u001b[1;33m(\u001b[0m\u001b[0mself\u001b[0m\u001b[1;33m.\u001b[0m\u001b[0m_data\u001b[0m\u001b[1;33m,\u001b[0m \u001b[0mname\u001b[0m\u001b[1;33m)\u001b[0m\u001b[1;33m\u001b[0m\u001b[1;33m\u001b[0m\u001b[0m\n\u001b[0m\u001b[0;32m     82\u001b[0m                 \u001b[1;32mif\u001b[0m \u001b[0mwrap\u001b[0m\u001b[1;33m:\u001b[0m\u001b[1;33m\u001b[0m\u001b[1;33m\u001b[0m\u001b[0m\n\u001b[0;32m     83\u001b[0m                     \u001b[1;32mif\u001b[0m \u001b[0misinstance\u001b[0m\u001b[1;33m(\u001b[0m\u001b[0mresult\u001b[0m\u001b[1;33m,\u001b[0m \u001b[0mtype\u001b[0m\u001b[1;33m(\u001b[0m\u001b[0mself\u001b[0m\u001b[1;33m.\u001b[0m\u001b[0m_data\u001b[0m\u001b[1;33m)\u001b[0m\u001b[1;33m)\u001b[0m\u001b[1;33m:\u001b[0m\u001b[1;33m\u001b[0m\u001b[1;33m\u001b[0m\u001b[0m\n",
      "\u001b[1;32mc:\\Users\\chanyoung\\anaconda3\\envs\\coolingts\\lib\\site-packages\\pandas\\core\\arrays\\datetimelike.py\u001b[0m in \u001b[0;36mfreqstr\u001b[1;34m(self)\u001b[0m\n\u001b[0;32m    903\u001b[0m         \u001b[1;32mif\u001b[0m \u001b[0mself\u001b[0m\u001b[1;33m.\u001b[0m\u001b[0mfreq\u001b[0m \u001b[1;32mis\u001b[0m \u001b[1;32mNone\u001b[0m\u001b[1;33m:\u001b[0m\u001b[1;33m\u001b[0m\u001b[1;33m\u001b[0m\u001b[0m\n\u001b[0;32m    904\u001b[0m             \u001b[1;32mreturn\u001b[0m \u001b[1;32mNone\u001b[0m\u001b[1;33m\u001b[0m\u001b[1;33m\u001b[0m\u001b[0m\n\u001b[1;32m--> 905\u001b[1;33m         \u001b[1;32mreturn\u001b[0m \u001b[0mself\u001b[0m\u001b[1;33m.\u001b[0m\u001b[0mfreq\u001b[0m\u001b[1;33m.\u001b[0m\u001b[0mfreqstr\u001b[0m\u001b[1;33m\u001b[0m\u001b[1;33m\u001b[0m\u001b[0m\n\u001b[0m\u001b[0;32m    906\u001b[0m \u001b[1;33m\u001b[0m\u001b[0m\n\u001b[0;32m    907\u001b[0m     \u001b[1;33m@\u001b[0m\u001b[0mproperty\u001b[0m  \u001b[1;31m# NB: override with cache_readonly in immutable subclasses\u001b[0m\u001b[1;33m\u001b[0m\u001b[1;33m\u001b[0m\u001b[0m\n",
      "\u001b[1;31mAttributeError\u001b[0m: 'numpy.bytes_' object has no attribute 'freqstr'"
     ]
    }
   ],
   "source": [
    "df.index"
   ]
  },
  {
   "cell_type": "code",
   "execution_count": 24,
   "metadata": {},
   "outputs": [],
   "source": [
    "df = pd.read_hdf('./dataset/metrla/metr-la.h5')"
   ]
  },
  {
   "cell_type": "code",
   "execution_count": 31,
   "metadata": {},
   "outputs": [
    {
     "data": {
      "text/plain": [
       "array(['2012-03-01T00:00:00.000000000', '2012-03-01T00:05:00.000000000',\n",
       "       '2012-03-01T00:10:00.000000000', ...,\n",
       "       '2012-06-27T23:45:00.000000000', '2012-06-27T23:50:00.000000000',\n",
       "       '2012-06-27T23:55:00.000000000'], dtype='datetime64[ns]')"
      ]
     },
     "execution_count": 31,
     "metadata": {},
     "output_type": "execute_result"
    }
   ],
   "source": [
    "df.index.values"
   ]
  },
  {
   "cell_type": "code",
   "execution_count": 35,
   "metadata": {},
   "outputs": [],
   "source": [
    "timestamps = df.index"
   ]
  },
  {
   "cell_type": "code",
   "execution_count": 36,
   "metadata": {},
   "outputs": [],
   "source": [
    "timestamps.freq = timestamps.inferred_freq"
   ]
  },
  {
   "cell_type": "code",
   "execution_count": 38,
   "metadata": {},
   "outputs": [],
   "source": [
    "def time_to_idx(time_indexes, freq: str = \"5min\"):\n",
    "    hashmap = {\n",
    "        t: i for i, t in enumerate(pd.date_range(\"00:00\", \"23:55\", freq=freq).time)\n",
    "    }\n",
    "    results = []\n",
    "    for timestamp in time_indexes:\n",
    "        results.append([hashmap[timestamp.time()], timestamp.weekday()])\n",
    "    return np.array(results, dtype=np.int32)"
   ]
  },
  {
   "cell_type": "code",
   "execution_count": 39,
   "metadata": {},
   "outputs": [],
   "source": [
    "time_index = time_to_idx(timestamps, freq=\"5min\")"
   ]
  },
  {
   "cell_type": "code",
   "execution_count": 40,
   "metadata": {},
   "outputs": [
    {
     "data": {
      "text/plain": [
       "array([[  0,   3],\n",
       "       [  1,   3],\n",
       "       [  2,   3],\n",
       "       ...,\n",
       "       [285,   2],\n",
       "       [286,   2],\n",
       "       [287,   2]])"
      ]
     },
     "execution_count": 40,
     "metadata": {},
     "output_type": "execute_result"
    }
   ],
   "source": [
    "time_index"
   ]
  }
 ],
 "metadata": {
  "kernelspec": {
   "display_name": "coolingts",
   "language": "python",
   "name": "python3"
  },
  "language_info": {
   "codemirror_mode": {
    "name": "ipython",
    "version": 3
   },
   "file_extension": ".py",
   "mimetype": "text/x-python",
   "name": "python",
   "nbconvert_exporter": "python",
   "pygments_lexer": "ipython3",
   "version": "3.7.16"
  }
 },
 "nbformat": 4,
 "nbformat_minor": 2
}
