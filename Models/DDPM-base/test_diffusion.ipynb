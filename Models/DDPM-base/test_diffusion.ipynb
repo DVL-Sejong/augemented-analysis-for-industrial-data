{
 "cells": [
  {
   "cell_type": "code",
   "execution_count": 59,
   "metadata": {},
   "outputs": [],
   "source": [
    "import os\n",
    "import torch\n",
    "import argparse\n",
    "import numpy as np\n",
    "import torch.utils.data\n",
    "from easydict import EasyDict as edict\n",
    "from timeit import default_timer as timer\n",
    "\n",
    "from utils.eval import Metric\n",
    "from utils.gpu_dispatch import GPU\n",
    "from utils.common_utils import dir_check, to_device, ws, unfold_dict, dict_merge, GpuId2CudaId, Logger\n",
    "\n",
    "from algorithm.dataset import CleanDataset, TrafficDataset\n",
    "from algorithm.diffGSL.model import DiffSTG\n",
    "from typing import Tuple, Optional"
   ]
  },
  {
   "cell_type": "code",
   "execution_count": 3,
   "metadata": {},
   "outputs": [],
   "source": [
    "def default_config(data='AIR_BJ'):\n",
    "    config = edict()\n",
    "    config.PATH_MOD = ws + '/output/model/'\n",
    "    config.PATH_LOG = ws + '/output/log/'\n",
    "    config.PATH_FORECAST = ws + '/output/forecast/'\n",
    "\n",
    "    # Data Config\n",
    "    config.data = edict()\n",
    "    config.data.name = data\n",
    "    config.data.path = ws + '/data/dataset/'\n",
    "    config.graph_diffusion_step = 3\n",
    "\n",
    "\n",
    "    config.data.feature_file = config.data.path + config.data.name + '/flow.npy'  # Add this line\n",
    "    config.data.spatial = config.data.path + config.data.name + '/adj.npy'\n",
    "    config.data.num_recent = 1\n",
    "\n",
    "    # Data settings for different datasets\n",
    "    if config.data.name == 'PEMS08':\n",
    "        config.data.num_vertices = 170\n",
    "        config.data.points_per_hour = 12\n",
    "        config.data.val_start_idx = int(17856 * 0.6)\n",
    "        config.data.test_start_idx = int(17856 * 0.8)\n",
    "\n",
    "    if config.data.name == \"AIR_BJ\":\n",
    "        config.data.num_vertices = 34\n",
    "        config.data.points_per_hour = 1\n",
    "        config.data.val_start_idx = int(8760 * 0.6)\n",
    "        config.data.test_start_idx = int(8760 * 0.8)\n",
    "\n",
    "    if config.data.name == 'AIR_GZ':\n",
    "        config.data.num_vertices = 41\n",
    "        config.data.points_per_hour = 1\n",
    "        config.data.val_start_idx = int(8760 * 10 / 12)\n",
    "        config.data.test_start_idx = int(8160 * 11 / 12)\n",
    "\n",
    "    gpu_id = GPU().get_usefuel_gpu(max_memory=6000, condidate_gpu_id=[0])\n",
    "    config.gpu_id = gpu_id\n",
    "    if gpu_id != None:\n",
    "        cuda_id = GpuId2CudaId(gpu_id)\n",
    "        torch.cuda.set_device(f\"cuda:{cuda_id}\")\n",
    "    # device = torch.device('cuda' if torch.cuda.is_available() else 'cpu')\n",
    "    device = torch.device('cpu')\n",
    "    # print(device)\n",
    "\n",
    "    # Model config\n",
    "    config.model = edict()\n",
    "    config.model.T_p = 12\n",
    "    config.model.T_h = 12\n",
    "    config.model.V = config.data.num_vertices\n",
    "    config.model.F = 1\n",
    "    config.model.week_len = 7\n",
    "    config.model.day_len = config.data.points_per_hour * 24\n",
    "    config.model.device = device\n",
    "    config.model.d_h = 32\n",
    "    config.cheb_k = 3\n",
    "\n",
    "    # Diffusion model config\n",
    "    config.model.N = 200\n",
    "    config.model.sample_steps = 10\n",
    "    config.model.epsilon_theta = 'GSTNet'\n",
    "    config.model.is_label_condition = True\n",
    "    config.model.beta_end = 0.02\n",
    "    config.model.beta_schedule = 'quad'\n",
    "    config.model.sample_strategy = 'ddpm'\n",
    "\n",
    "    config.n_samples = 2\n",
    "    config.model.channel_multipliers = [1, 2]\n",
    "    config.model.supports_len = 2\n",
    "\n",
    "    # Training config\n",
    "    config.model_name = 'DiffSTG'\n",
    "    config.is_test = False\n",
    "    config.epoch = 300\n",
    "    config.optimizer = \"adam\"\n",
    "    config.lr = 1e-4\n",
    "    config.batch_size = 32\n",
    "    config.wd = 1e-5\n",
    "    config.early_stop = 10\n",
    "    config.start_epoch = 0\n",
    "    config.device = device\n",
    "    config.logger = Logger()\n",
    "\n",
    "    if not os.path.exists(config.PATH_MOD):\n",
    "        os.makedirs(config.PATH_MOD)\n",
    "    if not os.path.exists(config.PATH_LOG):\n",
    "        os.makedirs(config.PATH_LOG)\n",
    "    if not os.path.exists(config.PATH_FORECAST):\n",
    "        os.makedirs(config.PATH_FORECAST)\n",
    "    return config"
   ]
  },
  {
   "cell_type": "code",
   "execution_count": 4,
   "metadata": {},
   "outputs": [
    {
     "name": "stdout",
     "output_type": "stream",
     "text": [
      "nvidia-smi > /Users/jcy/Desktop/DiffSTG-main/output/gpustat//gpustat.txt\n",
      "wrong in load gpu info dict list index out of range\n",
      "None gpu is avalible, try again later\n",
      "sample num: 5233\n"
     ]
    },
    {
     "name": "stderr",
     "output_type": "stream",
     "text": [
      "sh: nvidia-smi: command not found\n"
     ]
    }
   ],
   "source": [
    "config = default_config(\"AIR_BJ\")\n",
    "\n",
    "clean_data = CleanDataset(config)\n",
    "train_dataset = TrafficDataset(clean_data, (0 + config.model.T_p, config.data.val_start_idx - config.model.T_p + 1), config)\n",
    "train_loader = torch.utils.data.DataLoader(train_dataset, config.batch_size, shuffle=True, pin_memory=True)"
   ]
  },
  {
   "cell_type": "code",
   "execution_count": 5,
   "metadata": {},
   "outputs": [
    {
     "data": {
      "text/plain": [
       "<torch.utils.data.dataloader.DataLoader at 0x167f54850>"
      ]
     },
     "execution_count": 5,
     "metadata": {},
     "output_type": "execute_result"
    }
   ],
   "source": [
    "train_loader"
   ]
  },
  {
   "cell_type": "code",
   "execution_count": 6,
   "metadata": {},
   "outputs": [],
   "source": [
    "for i, batch in enumerate(train_loader):\n",
    "    if i > 3 and config.is_test:break\n",
    "    time_start =  timer()\n",
    "    future, history, pos_w, pos_d = batch # future:(B, T_p, V, F), history: (B, T_h, V, F)"
   ]
  },
  {
   "cell_type": "code",
   "execution_count": 9,
   "metadata": {},
   "outputs": [
    {
     "name": "stdout",
     "output_type": "stream",
     "text": [
      "torch.Size([17, 12, 34, 1])\n",
      "torch.Size([17, 12, 34, 1])\n"
     ]
    }
   ],
   "source": [
    "print(future.size())\n",
    "print(history.size())"
   ]
  },
  {
   "cell_type": "code",
   "execution_count": 10,
   "metadata": {},
   "outputs": [
    {
     "name": "stdout",
     "output_type": "stream",
     "text": [
      "torch.Size([17, 24, 34, 1])\n"
     ]
    }
   ],
   "source": [
    "# get x0\n",
    "x = torch.cat((history, future), dim=1).to(config.device) #  (B, T, V, F)\n",
    "print(x.size())"
   ]
  },
  {
   "cell_type": "code",
   "execution_count": 12,
   "metadata": {},
   "outputs": [],
   "source": [
    "mask =  torch.randint_like(history, low=0, high=100) < int(0.01 * 100)# mask the history in a ratio with mask_ratio\n",
    "history[mask] = 0\n",
    "x_masked = torch.cat((history, torch.zeros_like(future)), dim=1).to(config.device) # (B, T, V, F)"
   ]
  },
  {
   "cell_type": "code",
   "execution_count": 17,
   "metadata": {},
   "outputs": [
    {
     "data": {
      "text/plain": [
       "tensor(6870)"
      ]
     },
     "execution_count": 17,
     "metadata": {},
     "output_type": "execute_result"
    }
   ],
   "source": [
    "torch.sum(x_masked != 0)"
   ]
  },
  {
   "cell_type": "code",
   "execution_count": 18,
   "metadata": {},
   "outputs": [],
   "source": [
    "# reshape\n",
    "x = x.transpose(1,3) # (B, F, V, T)\n",
    "x_masked = x_masked.transpose(1,3) # (B, F, V, T)"
   ]
  },
  {
   "cell_type": "code",
   "execution_count": 20,
   "metadata": {},
   "outputs": [
    {
     "name": "stdout",
     "output_type": "stream",
     "text": [
      "torch.Size([17, 1, 34, 24])\n",
      "torch.Size([17, 1, 34, 24])\n"
     ]
    }
   ],
   "source": [
    "print(x.size())\n",
    "print(x_masked.size())"
   ]
  },
  {
   "cell_type": "code",
   "execution_count": 60,
   "metadata": {},
   "outputs": [],
   "source": [
    "# loss calculate\n",
    "\n",
    "# loss = 10 * model.loss(x, (x_masked, pos_w.to(config.device), pos_d.to(config.device))) \n",
    "# x : xo , c = c: The condition, c is a tuple of torch tensor, here c = (feature, pos_w, pos_d)"
   ]
  },
  {
   "cell_type": "code",
   "execution_count": null,
   "metadata": {},
   "outputs": [],
   "source": [
    "'''\n",
    "def loss(self, x0: torch.Tensor, c: Tuple):\n",
    "    \"\"\"\n",
    "    Loss calculation\n",
    "    x0: (B, ...)\n",
    "    c: The condition, c is a tuple of torch tensor, here c = (feature, pos_w, pos_d)\n",
    "    \"\"\"\n",
    "    #\n",
    "    t = torch.randint(0, self.N, (x0.shape[0],), device=x0.device, dtype=torch.long)\n",
    "\n",
    "    # Note that in the paper, t \\in [1, T], but in the code, t \\in [0, T-1]\n",
    "    eps = torch.randn_like(x0)\n",
    "\n",
    "    xt = self.q_xt_x0(x0, t, eps)\n",
    "\n",
    "    # rint(\"eps_model_device:\",self.eps_model.device)\n",
    "\n",
    "    x, y_cov = c\n",
    "\n",
    "    eps_theta = self.eps_model(xt, y_cov)\n",
    "    loss = nn.MSELoss()\n",
    "\n",
    "    # return F.mse_loss(eps, eps_theta)\n",
    "    return loss(eps, eps_theta)\n",
    "'''"
   ]
  },
  {
   "cell_type": "code",
   "execution_count": 37,
   "metadata": {},
   "outputs": [],
   "source": [
    "t = torch.randint(0, 12, (x.shape[0],), device=x.device, dtype=torch.long)"
   ]
  },
  {
   "cell_type": "code",
   "execution_count": 38,
   "metadata": {},
   "outputs": [
    {
     "data": {
      "text/plain": [
       "torch.Size([17])"
      ]
     },
     "execution_count": 38,
     "metadata": {},
     "output_type": "execute_result"
    }
   ],
   "source": [
    "t.size() # batch size "
   ]
  },
  {
   "cell_type": "code",
   "execution_count": 24,
   "metadata": {},
   "outputs": [],
   "source": [
    "eps = torch.randn_like(x)"
   ]
  },
  {
   "cell_type": "code",
   "execution_count": 25,
   "metadata": {},
   "outputs": [
    {
     "data": {
      "text/plain": [
       "torch.Size([17, 1, 34, 24])"
      ]
     },
     "execution_count": 25,
     "metadata": {},
     "output_type": "execute_result"
    }
   ],
   "source": [
    "eps.size()"
   ]
  },
  {
   "cell_type": "code",
   "execution_count": 52,
   "metadata": {},
   "outputs": [],
   "source": [
    "def gather(consts: torch.Tensor, t: torch.Tensor): # 이런 상수 텐서는 주로 모델의 계산 과정에서 사용되며, 특정 시간 스텝에 따라 필요한 값들을 가져올 때 사용\n",
    "    c = consts.gather(-1, t)\n",
    "    return c.reshape(-1, 1, 1, 1)"
   ]
  },
  {
   "cell_type": "code",
   "execution_count": 39,
   "metadata": {},
   "outputs": [],
   "source": [
    "beta = torch.linspace(0.0001 ** 0.5, 0.02 ** 0.5, 12) ** 2\n",
    "beta = beta.to(config.device)"
   ]
  },
  {
   "cell_type": "code",
   "execution_count": 40,
   "metadata": {},
   "outputs": [
    {
     "data": {
      "text/plain": [
       "torch.Size([12])"
      ]
     },
     "execution_count": 40,
     "metadata": {},
     "output_type": "execute_result"
    }
   ],
   "source": [
    "beta.size()"
   ]
  },
  {
   "cell_type": "code",
   "execution_count": 61,
   "metadata": {},
   "outputs": [],
   "source": [
    "beta = torch.linspace(0.0001 ** 0.5, 0.02 ** 0.5, 12) ** 2\n",
    "beta = beta.to(config.device)\n",
    "alpha = 1.0 - beta\n",
    "\n",
    "alpha_bar = torch.cumprod(alpha, dim=0) # 누적 곱은 각 시간 스텝까지의 누적된 확률이나 가중치를 계산"
   ]
  },
  {
   "cell_type": "code",
   "execution_count": 42,
   "metadata": {},
   "outputs": [
    {
     "data": {
      "text/plain": [
       "tensor([0.9999, 0.9994, 0.9983, 0.9962, 0.9928, 0.9880, 0.9814, 0.9728, 0.9620,\n",
       "        0.9487, 0.9328, 0.9141])"
      ]
     },
     "execution_count": 42,
     "metadata": {},
     "output_type": "execute_result"
    }
   ],
   "source": [
    "alpha_bar"
   ]
  },
  {
   "cell_type": "code",
   "execution_count": 43,
   "metadata": {},
   "outputs": [],
   "source": [
    "def q_xt_x0(x0: torch.Tensor, t: torch.Tensor, eps): # forward diffusion process\n",
    "    \"\"\"\n",
    "    Sample from  q(x_t|x_0) ~ N(x_t; \\sqrt\\bar\\alpha_t * x_0, (1 - \\bar\\alpha_t)I) \n",
    "    \"\"\"\n",
    "    if eps is None:\n",
    "        eps = torch.randn_like(x0)\n",
    "\n",
    "    mean = gather(alpha_bar, t) ** 0.5 * x0\n",
    "    var = 1 - gather(alpha_bar, t)\n",
    "\n",
    "    return mean + eps * (var ** 0.5)"
   ]
  },
  {
   "cell_type": "code",
   "execution_count": 46,
   "metadata": {},
   "outputs": [],
   "source": [
    "mean = gather(alpha_bar, t) ** 0.5 * x"
   ]
  },
  {
   "cell_type": "code",
   "execution_count": 47,
   "metadata": {},
   "outputs": [
    {
     "data": {
      "text/plain": [
       "torch.Size([17, 1, 34, 24])"
      ]
     },
     "execution_count": 47,
     "metadata": {},
     "output_type": "execute_result"
    }
   ],
   "source": [
    "mean.size()"
   ]
  },
  {
   "cell_type": "code",
   "execution_count": 51,
   "metadata": {},
   "outputs": [
    {
     "data": {
      "text/plain": [
       "torch.Size([17])"
      ]
     },
     "execution_count": 51,
     "metadata": {},
     "output_type": "execute_result"
    }
   ],
   "source": [
    "t.size()"
   ]
  },
  {
   "cell_type": "code",
   "execution_count": 53,
   "metadata": {},
   "outputs": [
    {
     "data": {
      "text/plain": [
       "torch.Size([17, 1, 1, 1])"
      ]
     },
     "execution_count": 53,
     "metadata": {},
     "output_type": "execute_result"
    }
   ],
   "source": [
    "gather(alpha_bar, t).size()"
   ]
  },
  {
   "cell_type": "code",
   "execution_count": 57,
   "metadata": {},
   "outputs": [
    {
     "data": {
      "text/plain": [
       "torch.Size([12])"
      ]
     },
     "execution_count": 57,
     "metadata": {},
     "output_type": "execute_result"
    }
   ],
   "source": [
    "alpha_bar.size()"
   ]
  },
  {
   "cell_type": "code",
   "execution_count": 58,
   "metadata": {},
   "outputs": [
    {
     "data": {
      "text/plain": [
       "torch.Size([17])"
      ]
     },
     "execution_count": 58,
     "metadata": {},
     "output_type": "execute_result"
    }
   ],
   "source": [
    "t.size()"
   ]
  },
  {
   "cell_type": "code",
   "execution_count": 54,
   "metadata": {},
   "outputs": [],
   "source": [
    "c = alpha_bar.gather(-1, t)"
   ]
  },
  {
   "cell_type": "code",
   "execution_count": 55,
   "metadata": {},
   "outputs": [
    {
     "data": {
      "text/plain": [
       "torch.Size([17])"
      ]
     },
     "execution_count": 55,
     "metadata": {},
     "output_type": "execute_result"
    }
   ],
   "source": [
    "c.size()"
   ]
  },
  {
   "cell_type": "code",
   "execution_count": 48,
   "metadata": {},
   "outputs": [],
   "source": [
    "var = 1 - gather(alpha_bar, t)"
   ]
  },
  {
   "cell_type": "code",
   "execution_count": 49,
   "metadata": {},
   "outputs": [
    {
     "data": {
      "text/plain": [
       "torch.Size([17, 1, 1, 1])"
      ]
     },
     "execution_count": 49,
     "metadata": {},
     "output_type": "execute_result"
    }
   ],
   "source": [
    "var.size()"
   ]
  },
  {
   "cell_type": "code",
   "execution_count": 44,
   "metadata": {},
   "outputs": [],
   "source": [
    "xt = q_xt_x0(x, t, eps)"
   ]
  },
  {
   "cell_type": "code",
   "execution_count": 45,
   "metadata": {},
   "outputs": [
    {
     "data": {
      "text/plain": [
       "torch.Size([17, 1, 34, 24])"
      ]
     },
     "execution_count": 45,
     "metadata": {},
     "output_type": "execute_result"
    }
   ],
   "source": [
    "xt.size()"
   ]
  },
  {
   "cell_type": "code",
   "execution_count": null,
   "metadata": {},
   "outputs": [],
   "source": []
  }
 ],
 "metadata": {
  "kernelspec": {
   "display_name": "cooling0",
   "language": "python",
   "name": "python3"
  },
  "language_info": {
   "codemirror_mode": {
    "name": "ipython",
    "version": 3
   },
   "file_extension": ".py",
   "mimetype": "text/x-python",
   "name": "python",
   "nbconvert_exporter": "python",
   "pygments_lexer": "ipython3",
   "version": "3.10.13"
  }
 },
 "nbformat": 4,
 "nbformat_minor": 2
}
