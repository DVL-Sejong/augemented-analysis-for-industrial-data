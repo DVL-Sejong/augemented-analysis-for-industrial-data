{
 "cells": [
  {
   "cell_type": "code",
   "execution_count": 20,
   "metadata": {},
   "outputs": [],
   "source": [
    "import os\n",
    "import torch\n",
    "import argparse\n",
    "import numpy as np\n",
    "import torch.utils.data\n",
    "from easydict import EasyDict as edict\n",
    "from timeit import default_timer as timer\n",
    "\n",
    "from utils.eval import Metric\n",
    "from utils.gpu_dispatch import GPU\n",
    "from utils.common_utils import dir_check, to_device, ws, unfold_dict, dict_merge, GpuId2CudaId, Logger\n",
    "\n",
    "from algorithm.dataset import CleanDataset, TrafficDataset\n",
    "from algorithm.diffGSL.model import DiffSTG, save2file"
   ]
  },
  {
   "cell_type": "code",
   "execution_count": 2,
   "metadata": {},
   "outputs": [],
   "source": [
    "def default_config(data='AIR_BJ'):\n",
    "    config = edict()\n",
    "    config.PATH_MOD = ws + '/output/model/'\n",
    "    config.PATH_LOG = ws + '/output/log/'\n",
    "    config.PATH_FORECAST = ws + '/output/forecast/'\n",
    "\n",
    "    # Data Config\n",
    "    config.data = edict()\n",
    "    config.data.name = data\n",
    "    config.data.path = ws + '/data/dataset/'\n",
    "    config.graph_diffusion_step = 3\n",
    "\n",
    "\n",
    "    config.data.feature_file = config.data.path + config.data.name + '/flow.npy'  # Add this line\n",
    "    config.data.spatial = config.data.path + config.data.name + '/adj.npy'\n",
    "    config.data.num_recent = 1\n",
    "\n",
    "    # Data settings for different datasets\n",
    "    if config.data.name == 'PEMS08':\n",
    "        config.data.num_vertices = 170\n",
    "        config.data.points_per_hour = 12\n",
    "        config.data.val_start_idx = int(17856 * 0.6)\n",
    "        config.data.test_start_idx = int(17856 * 0.8)\n",
    "\n",
    "    if config.data.name == \"AIR_BJ\":\n",
    "        config.data.num_vertices = 34\n",
    "        config.data.points_per_hour = 1\n",
    "        config.data.val_start_idx = int(8760 * 0.6)\n",
    "        config.data.test_start_idx = int(8760 * 0.8)\n",
    "\n",
    "    if config.data.name == 'AIR_GZ':\n",
    "        config.data.num_vertices = 41\n",
    "        config.data.points_per_hour = 1\n",
    "        config.data.val_start_idx = int(8760 * 10 / 12)\n",
    "        config.data.test_start_idx = int(8160 * 11 / 12)\n",
    "\n",
    "    gpu_id = GPU().get_usefuel_gpu(max_memory=6000, condidate_gpu_id=[0])\n",
    "    config.gpu_id = gpu_id\n",
    "    if gpu_id != None:\n",
    "        cuda_id = GpuId2CudaId(gpu_id)\n",
    "        torch.cuda.set_device(f\"cuda:{cuda_id}\")\n",
    "    # device = torch.device('cuda' if torch.cuda.is_available() else 'cpu')\n",
    "    device = torch.device('cpu')\n",
    "    # print(device)\n",
    "\n",
    "    # Model config\n",
    "    config.model = edict()\n",
    "    config.model.T_p = 12\n",
    "    config.model.T_h = 12\n",
    "    config.model.V = config.data.num_vertices\n",
    "    config.model.F = 1\n",
    "    config.model.week_len = 7\n",
    "    config.model.day_len = config.data.points_per_hour * 24\n",
    "    config.model.device = device\n",
    "    config.model.d_h = 32\n",
    "    config.cheb_k = 3\n",
    "\n",
    "    # Diffusion model config\n",
    "    config.model.N = 200\n",
    "    config.model.sample_steps = 10\n",
    "    config.model.epsilon_theta = 'GSTNet'\n",
    "    config.model.is_label_condition = True\n",
    "    config.model.beta_end = 0.02\n",
    "    config.model.beta_schedule = 'quad'\n",
    "    config.model.sample_strategy = 'ddpm'\n",
    "\n",
    "    config.n_samples = 2\n",
    "    config.model.channel_multipliers = [1, 2]\n",
    "    config.model.supports_len = 2\n",
    "\n",
    "    # Training config\n",
    "    config.model_name = 'DiffSTG'\n",
    "    config.is_test = False\n",
    "    config.epoch = 300\n",
    "    config.optimizer = \"adam\"\n",
    "    config.lr = 1e-4\n",
    "    config.batch_size = 32\n",
    "    config.wd = 1e-5\n",
    "    config.early_stop = 10\n",
    "    config.start_epoch = 0\n",
    "    config.device = device\n",
    "    config.logger = Logger()\n",
    "\n",
    "    if not os.path.exists(config.PATH_MOD):\n",
    "        os.makedirs(config.PATH_MOD)\n",
    "    if not os.path.exists(config.PATH_LOG):\n",
    "        os.makedirs(config.PATH_LOG)\n",
    "    if not os.path.exists(config.PATH_FORECAST):\n",
    "        os.makedirs(config.PATH_FORECAST)\n",
    "    return config"
   ]
  },
  {
   "cell_type": "code",
   "execution_count": 3,
   "metadata": {},
   "outputs": [
    {
     "name": "stdout",
     "output_type": "stream",
     "text": [
      "nvidia-smi > /Users/jcy/Desktop/DiffSTG-main/output/gpustat//gpustat.txt\n",
      "wrong in load gpu info dict list index out of range\n",
      "None gpu is avalible, try again later\n"
     ]
    },
    {
     "name": "stderr",
     "output_type": "stream",
     "text": [
      "sh: nvidia-smi: command not found\n"
     ]
    }
   ],
   "source": [
    "config = default_config(\"AIR_BJ\")\n",
    "\n",
    "clean_data = CleanDataset(config)"
   ]
  },
  {
   "cell_type": "code",
   "execution_count": 4,
   "metadata": {},
   "outputs": [
    {
     "name": "stdout",
     "output_type": "stream",
     "text": [
      "sample num: 5233\n"
     ]
    }
   ],
   "source": [
    "train_dataset = TrafficDataset(clean_data, (0 + config.model.T_p, config.data.val_start_idx - config.model.T_p + 1), config)\n",
    "train_loader = torch.utils.data.DataLoader(train_dataset, config.batch_size, shuffle=True, pin_memory=True)"
   ]
  },
  {
   "cell_type": "code",
   "execution_count": 25,
   "metadata": {},
   "outputs": [],
   "source": [
    "for i, batch in enumerate(train_loader):\n",
    "    b = batch"
   ]
  },
  {
   "cell_type": "code",
   "execution_count": 26,
   "metadata": {},
   "outputs": [],
   "source": [
    "future, history, pos_w, pos_d = b"
   ]
  },
  {
   "cell_type": "code",
   "execution_count": 27,
   "metadata": {},
   "outputs": [
    {
     "data": {
      "text/plain": [
       "torch.Size([17, 12, 34, 1])"
      ]
     },
     "execution_count": 27,
     "metadata": {},
     "output_type": "execute_result"
    }
   ],
   "source": [
    "future.size()"
   ]
  },
  {
   "cell_type": "code",
   "execution_count": 28,
   "metadata": {},
   "outputs": [
    {
     "data": {
      "text/plain": [
       "torch.Size([17, 12, 34, 1])"
      ]
     },
     "execution_count": 28,
     "metadata": {},
     "output_type": "execute_result"
    }
   ],
   "source": [
    "history.size()"
   ]
  },
  {
   "cell_type": "code",
   "execution_count": 29,
   "metadata": {},
   "outputs": [],
   "source": [
    "def prepare_x_y(x, y):\n",
    "    \"\"\"\n",
    "    :param x: shape (batch_size, seq_len, num_sensor, input_dim)\n",
    "    :param y: shape (batch_size, horizon, num_sensor, input_dim)\n",
    "    :return1: x shape (seq_len, batch_size, num_sensor, input_dim)\n",
    "              y shape (horizon, batch_size, num_sensor, input_dim)\n",
    "    :return2: x: shape (seq_len, batch_size, num_sensor * input_dim)\n",
    "              y: shape (horizon, batch_size, num_sensor * output_dim)\n",
    "    \"\"\"\n",
    "    x0 = x[..., :1]\n",
    "    y0 = y[..., :1]\n",
    "    y1 = y[..., 1:]\n",
    "    return x0.to(config.device), y0.to(config.device), y1.to(config.device) # x, y, y_cov"
   ]
  },
  {
   "cell_type": "code",
   "execution_count": 30,
   "metadata": {},
   "outputs": [],
   "source": [
    "input_, y, y_cov = prepare_x_y(history, future)\n",
    "\n",
    "# get x0\n",
    "x = torch.cat((history, future), dim=1).to(config.device) #  (B, T, V, F)"
   ]
  },
  {
   "cell_type": "code",
   "execution_count": 31,
   "metadata": {},
   "outputs": [],
   "source": [
    "mask =  torch.randint_like(history, low=0, high=100) < int(config.mask_ratio * 100) # mask the history in a ratio with mask_ratio\n",
    "history[mask] = 0\n",
    "x_masked = torch.cat((history, torch.zeros_like(future)), dim=1).to(config.device) # (B, T, V, F)"
   ]
  },
  {
   "cell_type": "code",
   "execution_count": 21,
   "metadata": {},
   "outputs": [],
   "source": [
    "from algorithm.diffgraph.graphnet_ver2 import GraphNet"
   ]
  },
  {
   "cell_type": "code",
   "execution_count": 22,
   "metadata": {},
   "outputs": [],
   "source": [
    "config.num_layers = 3\n",
    "config.V = 34\n",
    "config.T_h = 12"
   ]
  },
  {
   "cell_type": "code",
   "execution_count": 33,
   "metadata": {},
   "outputs": [],
   "source": [
    "def gather(consts: torch.Tensor, t: torch.Tensor): # 이런 상수 텐서는 주로 모델의 계산 과정에서 사용되며, 특정 시간 스텝에 따라 필요한 값들을 가져올 때 사용\n",
    "    c = consts.gather(-1, t)\n",
    "    return c.reshape(-1, 1, 1, 1)"
   ]
  },
  {
   "cell_type": "code",
   "execution_count": 34,
   "metadata": {},
   "outputs": [],
   "source": [
    "beta = torch.linspace(0.0001 ** 0.5, 0.02 ** 0.5, 12) ** 2\n",
    "beta = beta.to(config.device)\n",
    "alpha = 1.0 - beta\n",
    "\n",
    "alpha_bar = torch.cumprod(alpha, dim=0) # 누적 곱은 각 시간 스텝까지의 누적된 확률이나 가중치를 계산"
   ]
  },
  {
   "cell_type": "code",
   "execution_count": 35,
   "metadata": {},
   "outputs": [],
   "source": [
    "def q_xt_x0(x0: torch.Tensor, t: torch.Tensor, eps): # forward diffusion process\n",
    "    \"\"\"\n",
    "    Sample from  q(x_t|x_0) ~ N(x_t; \\sqrt\\bar\\alpha_t * x_0, (1 - \\bar\\alpha_t)I) \n",
    "    \"\"\"\n",
    "    if eps is None:\n",
    "        eps = torch.randn_like(x0)\n",
    "\n",
    "    mean = gather(alpha_bar, t) ** 0.5 * x0\n",
    "    var = 1 - gather(alpha_bar, t)\n",
    "\n",
    "    return mean + eps * (var ** 0.5)"
   ]
  },
  {
   "cell_type": "code",
   "execution_count": 36,
   "metadata": {},
   "outputs": [],
   "source": [
    "t = torch.randint(0, 12, (x.shape[0],), device=x.device, dtype=torch.long)\n",
    "eps = torch.randn_like(x)\n",
    "xt = q_xt_x0(x, t, eps)"
   ]
  },
  {
   "cell_type": "code",
   "execution_count": 39,
   "metadata": {},
   "outputs": [],
   "source": [
    "# config, rnn_num_units, input_dim, y_cov_dim, out_dim)\n",
    "\n",
    "model = GraphNet(config, rnn_num_units= 16, input_dim= 1, y_cov_dim=1, out_dim=1)"
   ]
  },
  {
   "cell_type": "code",
   "execution_count": 40,
   "metadata": {},
   "outputs": [],
   "source": [
    "out = model(x_masked, xt)"
   ]
  },
  {
   "cell_type": "code",
   "execution_count": 41,
   "metadata": {},
   "outputs": [
    {
     "data": {
      "text/plain": [
       "torch.Size([17, 12, 34, 1])"
      ]
     },
     "execution_count": 41,
     "metadata": {},
     "output_type": "execute_result"
    }
   ],
   "source": [
    "out.size()"
   ]
  },
  {
   "cell_type": "code",
   "execution_count": 42,
   "metadata": {},
   "outputs": [
    {
     "data": {
      "text/plain": [
       "tensor([[[[nan],\n",
       "          [nan],\n",
       "          [nan],\n",
       "          ...,\n",
       "          [nan],\n",
       "          [nan],\n",
       "          [nan]],\n",
       "\n",
       "         [[nan],\n",
       "          [nan],\n",
       "          [nan],\n",
       "          ...,\n",
       "          [nan],\n",
       "          [nan],\n",
       "          [nan]],\n",
       "\n",
       "         [[nan],\n",
       "          [nan],\n",
       "          [nan],\n",
       "          ...,\n",
       "          [nan],\n",
       "          [nan],\n",
       "          [nan]],\n",
       "\n",
       "         ...,\n",
       "\n",
       "         [[nan],\n",
       "          [nan],\n",
       "          [nan],\n",
       "          ...,\n",
       "          [nan],\n",
       "          [nan],\n",
       "          [nan]],\n",
       "\n",
       "         [[nan],\n",
       "          [nan],\n",
       "          [nan],\n",
       "          ...,\n",
       "          [nan],\n",
       "          [nan],\n",
       "          [nan]],\n",
       "\n",
       "         [[nan],\n",
       "          [nan],\n",
       "          [nan],\n",
       "          ...,\n",
       "          [nan],\n",
       "          [nan],\n",
       "          [nan]]],\n",
       "\n",
       "\n",
       "        [[[nan],\n",
       "          [nan],\n",
       "          [nan],\n",
       "          ...,\n",
       "          [nan],\n",
       "          [nan],\n",
       "          [nan]],\n",
       "\n",
       "         [[nan],\n",
       "          [nan],\n",
       "          [nan],\n",
       "          ...,\n",
       "          [nan],\n",
       "          [nan],\n",
       "          [nan]],\n",
       "\n",
       "         [[nan],\n",
       "          [nan],\n",
       "          [nan],\n",
       "          ...,\n",
       "          [nan],\n",
       "          [nan],\n",
       "          [nan]],\n",
       "\n",
       "         ...,\n",
       "\n",
       "         [[nan],\n",
       "          [nan],\n",
       "          [nan],\n",
       "          ...,\n",
       "          [nan],\n",
       "          [nan],\n",
       "          [nan]],\n",
       "\n",
       "         [[nan],\n",
       "          [nan],\n",
       "          [nan],\n",
       "          ...,\n",
       "          [nan],\n",
       "          [nan],\n",
       "          [nan]],\n",
       "\n",
       "         [[nan],\n",
       "          [nan],\n",
       "          [nan],\n",
       "          ...,\n",
       "          [nan],\n",
       "          [nan],\n",
       "          [nan]]],\n",
       "\n",
       "\n",
       "        [[[nan],\n",
       "          [nan],\n",
       "          [nan],\n",
       "          ...,\n",
       "          [nan],\n",
       "          [nan],\n",
       "          [nan]],\n",
       "\n",
       "         [[nan],\n",
       "          [nan],\n",
       "          [nan],\n",
       "          ...,\n",
       "          [nan],\n",
       "          [nan],\n",
       "          [nan]],\n",
       "\n",
       "         [[nan],\n",
       "          [nan],\n",
       "          [nan],\n",
       "          ...,\n",
       "          [nan],\n",
       "          [nan],\n",
       "          [nan]],\n",
       "\n",
       "         ...,\n",
       "\n",
       "         [[nan],\n",
       "          [nan],\n",
       "          [nan],\n",
       "          ...,\n",
       "          [nan],\n",
       "          [nan],\n",
       "          [nan]],\n",
       "\n",
       "         [[nan],\n",
       "          [nan],\n",
       "          [nan],\n",
       "          ...,\n",
       "          [nan],\n",
       "          [nan],\n",
       "          [nan]],\n",
       "\n",
       "         [[nan],\n",
       "          [nan],\n",
       "          [nan],\n",
       "          ...,\n",
       "          [nan],\n",
       "          [nan],\n",
       "          [nan]]],\n",
       "\n",
       "\n",
       "        ...,\n",
       "\n",
       "\n",
       "        [[[nan],\n",
       "          [nan],\n",
       "          [nan],\n",
       "          ...,\n",
       "          [nan],\n",
       "          [nan],\n",
       "          [nan]],\n",
       "\n",
       "         [[nan],\n",
       "          [nan],\n",
       "          [nan],\n",
       "          ...,\n",
       "          [nan],\n",
       "          [nan],\n",
       "          [nan]],\n",
       "\n",
       "         [[nan],\n",
       "          [nan],\n",
       "          [nan],\n",
       "          ...,\n",
       "          [nan],\n",
       "          [nan],\n",
       "          [nan]],\n",
       "\n",
       "         ...,\n",
       "\n",
       "         [[nan],\n",
       "          [nan],\n",
       "          [nan],\n",
       "          ...,\n",
       "          [nan],\n",
       "          [nan],\n",
       "          [nan]],\n",
       "\n",
       "         [[nan],\n",
       "          [nan],\n",
       "          [nan],\n",
       "          ...,\n",
       "          [nan],\n",
       "          [nan],\n",
       "          [nan]],\n",
       "\n",
       "         [[nan],\n",
       "          [nan],\n",
       "          [nan],\n",
       "          ...,\n",
       "          [nan],\n",
       "          [nan],\n",
       "          [nan]]],\n",
       "\n",
       "\n",
       "        [[[nan],\n",
       "          [nan],\n",
       "          [nan],\n",
       "          ...,\n",
       "          [nan],\n",
       "          [nan],\n",
       "          [nan]],\n",
       "\n",
       "         [[nan],\n",
       "          [nan],\n",
       "          [nan],\n",
       "          ...,\n",
       "          [nan],\n",
       "          [nan],\n",
       "          [nan]],\n",
       "\n",
       "         [[nan],\n",
       "          [nan],\n",
       "          [nan],\n",
       "          ...,\n",
       "          [nan],\n",
       "          [nan],\n",
       "          [nan]],\n",
       "\n",
       "         ...,\n",
       "\n",
       "         [[nan],\n",
       "          [nan],\n",
       "          [nan],\n",
       "          ...,\n",
       "          [nan],\n",
       "          [nan],\n",
       "          [nan]],\n",
       "\n",
       "         [[nan],\n",
       "          [nan],\n",
       "          [nan],\n",
       "          ...,\n",
       "          [nan],\n",
       "          [nan],\n",
       "          [nan]],\n",
       "\n",
       "         [[nan],\n",
       "          [nan],\n",
       "          [nan],\n",
       "          ...,\n",
       "          [nan],\n",
       "          [nan],\n",
       "          [nan]]],\n",
       "\n",
       "\n",
       "        [[[nan],\n",
       "          [nan],\n",
       "          [nan],\n",
       "          ...,\n",
       "          [nan],\n",
       "          [nan],\n",
       "          [nan]],\n",
       "\n",
       "         [[nan],\n",
       "          [nan],\n",
       "          [nan],\n",
       "          ...,\n",
       "          [nan],\n",
       "          [nan],\n",
       "          [nan]],\n",
       "\n",
       "         [[nan],\n",
       "          [nan],\n",
       "          [nan],\n",
       "          ...,\n",
       "          [nan],\n",
       "          [nan],\n",
       "          [nan]],\n",
       "\n",
       "         ...,\n",
       "\n",
       "         [[nan],\n",
       "          [nan],\n",
       "          [nan],\n",
       "          ...,\n",
       "          [nan],\n",
       "          [nan],\n",
       "          [nan]],\n",
       "\n",
       "         [[nan],\n",
       "          [nan],\n",
       "          [nan],\n",
       "          ...,\n",
       "          [nan],\n",
       "          [nan],\n",
       "          [nan]],\n",
       "\n",
       "         [[nan],\n",
       "          [nan],\n",
       "          [nan],\n",
       "          ...,\n",
       "          [nan],\n",
       "          [nan],\n",
       "          [nan]]]], grad_fn=<StackBackward0>)"
      ]
     },
     "execution_count": 42,
     "metadata": {},
     "output_type": "execute_result"
    }
   ],
   "source": [
    "out"
   ]
  },
  {
   "cell_type": "code",
   "execution_count": 16,
   "metadata": {},
   "outputs": [],
   "source": [
    "from algorithm.diffgraph.model import DiffSTG"
   ]
  },
  {
   "cell_type": "code",
   "execution_count": 17,
   "metadata": {},
   "outputs": [],
   "source": [
    "config.mask_ratio = 0.0\n",
    "config.N = 10\n",
    "config.sample_steps = 10\n",
    "config.sample_strategy = 'ddpm'\n",
    "config.beta_schedule = 'quad'\n",
    "model = DiffSTG(config)"
   ]
  },
  {
   "cell_type": "code",
   "execution_count": 18,
   "metadata": {},
   "outputs": [],
   "source": [
    "for i, batch in enumerate(train_loader):\n",
    "    # if i > 3 and config.is_test:break\n",
    "    # time_start =  timer()\n",
    "    future, history, pos_w, pos_d = batch # future:(B, T_p, V, F), history: (B, T_h, V, F)\n",
    "    input_, y, y_cov = prepare_x_y(history, future)\n",
    "\n",
    "    # get x0\n",
    "    x = torch.cat((history, future), dim=1).to(config.device) #  (B, T, V, F)\n",
    "\n",
    "    # get x0_masked\n",
    "    mask =  torch.randint_like(history, low=0, high=100) < int(config.mask_ratio * 100) # mask the history in a ratio with mask_ratio\n",
    "    history[mask] = 0\n",
    "    x_masked = torch.cat((history, torch.zeros_like(future)), dim=1).to(config.device) # (B, T, V, F)\n",
    "\n",
    "    # reshape\n",
    "    # x = x.transpose(1,3) # (B, F, V, T)\n",
    "    # x_masked = x_masked.transpose(1,3) # (B, F, V, T)\n",
    "\n",
    "    # loss calculate\n",
    "    \n",
    "    loss = 10 * model.loss(y, (input_, y_cov))"
   ]
  },
  {
   "cell_type": "code",
   "execution_count": 19,
   "metadata": {},
   "outputs": [
    {
     "data": {
      "text/plain": [
       "tensor(nan, grad_fn=<MulBackward0>)"
      ]
     },
     "execution_count": 19,
     "metadata": {},
     "output_type": "execute_result"
    }
   ],
   "source": [
    "loss"
   ]
  },
  {
   "cell_type": "code",
   "execution_count": null,
   "metadata": {},
   "outputs": [],
   "source": []
  }
 ],
 "metadata": {
  "kernelspec": {
   "display_name": "cooling0",
   "language": "python",
   "name": "python3"
  },
  "language_info": {
   "codemirror_mode": {
    "name": "ipython",
    "version": 3
   },
   "file_extension": ".py",
   "mimetype": "text/x-python",
   "name": "python",
   "nbconvert_exporter": "python",
   "pygments_lexer": "ipython3",
   "version": "3.10.13"
  }
 },
 "nbformat": 4,
 "nbformat_minor": 2
}
