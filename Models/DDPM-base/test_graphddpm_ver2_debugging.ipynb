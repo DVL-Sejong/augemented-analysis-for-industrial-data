{
 "cells": [
  {
   "cell_type": "code",
   "execution_count": 1,
   "metadata": {},
   "outputs": [],
   "source": [
    "import os\n",
    "import torch\n",
    "import argparse\n",
    "import numpy as np\n",
    "import torch.utils.data\n",
    "from easydict import EasyDict as edict\n",
    "from timeit import default_timer as timer\n",
    "\n",
    "from utils.eval import Metric\n",
    "from utils.gpu_dispatch import GPU\n",
    "from utils.common_utils import dir_check, to_device, ws, unfold_dict, dict_merge, GpuId2CudaId, Logger\n",
    "\n",
    "from algorithm.dataset import CleanDataset, TrafficDataset\n",
    "from algorithm.diffGSL.model import DiffSTG, save2file"
   ]
  },
  {
   "cell_type": "code",
   "execution_count": 2,
   "metadata": {},
   "outputs": [],
   "source": [
    "def default_config(data='AIR_BJ'):\n",
    "    config = edict()\n",
    "    config.PATH_MOD = ws + '/output/model/'\n",
    "    config.PATH_LOG = ws + '/output/log/'\n",
    "    config.PATH_FORECAST = ws + '/output/forecast/'\n",
    "\n",
    "    # Data Config\n",
    "    config.data = edict()\n",
    "    config.data.name = data\n",
    "    config.data.path = ws + '/data/dataset/'\n",
    "    config.graph_diffusion_step = 3\n",
    "\n",
    "\n",
    "    config.data.feature_file = config.data.path + config.data.name + '/flow.npy'  # Add this line\n",
    "    config.data.spatial = config.data.path + config.data.name + '/adj.npy'\n",
    "    config.data.num_recent = 1\n",
    "\n",
    "    # Data settings for different datasets\n",
    "    if config.data.name == 'PEMS08':\n",
    "        config.data.num_vertices = 170\n",
    "        config.data.points_per_hour = 12\n",
    "        config.data.val_start_idx = int(17856 * 0.6)\n",
    "        config.data.test_start_idx = int(17856 * 0.8)\n",
    "\n",
    "    if config.data.name == \"AIR_BJ\":\n",
    "        config.data.num_vertices = 34\n",
    "        config.data.points_per_hour = 1\n",
    "        config.data.val_start_idx = int(8760 * 0.6)\n",
    "        config.data.test_start_idx = int(8760 * 0.8)\n",
    "\n",
    "    if config.data.name == 'AIR_GZ':\n",
    "        config.data.num_vertices = 41\n",
    "        config.data.points_per_hour = 1\n",
    "        config.data.val_start_idx = int(8760 * 10 / 12)\n",
    "        config.data.test_start_idx = int(8160 * 11 / 12)\n",
    "\n",
    "    gpu_id = GPU().get_usefuel_gpu(max_memory=6000, condidate_gpu_id=[0])\n",
    "    config.gpu_id = gpu_id\n",
    "    if gpu_id != None:\n",
    "        cuda_id = GpuId2CudaId(gpu_id)\n",
    "        torch.cuda.set_device(f\"cuda:{cuda_id}\")\n",
    "    # device = torch.device('cuda' if torch.cuda.is_available() else 'cpu')\n",
    "    device = torch.device('cpu')\n",
    "    # print(device)\n",
    "\n",
    "    # Model config\n",
    "    config.model = edict()\n",
    "    config.model.T_p = 12\n",
    "    config.model.T_h = 12\n",
    "    config.model.V = config.data.num_vertices\n",
    "    config.model.F = 1\n",
    "    config.model.week_len = 7\n",
    "    config.model.day_len = config.data.points_per_hour * 24\n",
    "    config.model.device = device\n",
    "    config.model.d_h = 32\n",
    "    config.cheb_k = 3\n",
    "\n",
    "    # Diffusion model config\n",
    "    config.model.N = 200\n",
    "    config.model.sample_steps = 10\n",
    "    config.model.epsilon_theta = 'GSTNet'\n",
    "    config.model.is_label_condition = True\n",
    "    config.model.beta_end = 0.02\n",
    "    config.model.beta_schedule = 'quad'\n",
    "    config.model.sample_strategy = 'ddpm'\n",
    "\n",
    "    config.n_samples = 2\n",
    "    config.model.channel_multipliers = [1, 2]\n",
    "    config.model.supports_len = 2\n",
    "\n",
    "    # Training config\n",
    "    config.model_name = 'DiffSTG'\n",
    "    config.is_test = False\n",
    "    config.epoch = 300\n",
    "    config.optimizer = \"adam\"\n",
    "    config.lr = 1e-4\n",
    "    config.batch_size = 32\n",
    "    config.wd = 1e-5\n",
    "    config.early_stop = 10\n",
    "    config.start_epoch = 0\n",
    "    config.device = device\n",
    "    config.logger = Logger()\n",
    "\n",
    "    if not os.path.exists(config.PATH_MOD):\n",
    "        os.makedirs(config.PATH_MOD)\n",
    "    if not os.path.exists(config.PATH_LOG):\n",
    "        os.makedirs(config.PATH_LOG)\n",
    "    if not os.path.exists(config.PATH_FORECAST):\n",
    "        os.makedirs(config.PATH_FORECAST)\n",
    "    return config"
   ]
  },
  {
   "cell_type": "code",
   "execution_count": 3,
   "metadata": {},
   "outputs": [
    {
     "name": "stdout",
     "output_type": "stream",
     "text": [
      "nvidia-smi > /Users/jcy/Desktop/DiffSTG-main/output/gpustat//gpustat.txt\n",
      "wrong in load gpu info dict list index out of range\n",
      "None gpu is avalible, try again later\n",
      "sample num: 5233\n"
     ]
    },
    {
     "name": "stderr",
     "output_type": "stream",
     "text": [
      "sh: nvidia-smi: command not found\n"
     ]
    }
   ],
   "source": [
    "config = default_config(\"AIR_BJ\")\n",
    "\n",
    "clean_data = CleanDataset(config)\n",
    "train_dataset = TrafficDataset(clean_data, (0 + config.model.T_p, config.data.val_start_idx - config.model.T_p + 1), config)\n",
    "train_loader = torch.utils.data.DataLoader(train_dataset, config.batch_size, shuffle=True, pin_memory=True)"
   ]
  },
  {
   "cell_type": "code",
   "execution_count": 4,
   "metadata": {},
   "outputs": [],
   "source": [
    "def prepare_x_y(x, y):\n",
    "    \"\"\"\n",
    "    :param x: shape (batch_size, seq_len, num_sensor, input_dim)\n",
    "    :param y: shape (batch_size, horizon, num_sensor, input_dim)\n",
    "    :return1: x shape (seq_len, batch_size, num_sensor, input_dim)\n",
    "              y shape (horizon, batch_size, num_sensor, input_dim)\n",
    "    :return2: x: shape (seq_len, batch_size, num_sensor * input_dim)\n",
    "              y: shape (horizon, batch_size, num_sensor * output_dim)\n",
    "    \"\"\"\n",
    "    x0 = x[..., :1]\n",
    "    y0 = y[..., :1]\n",
    "    y1 = y[..., 1:]\n",
    "    return x0.to(config.device), y0.to(config.device), y1.to(config.device) # x, y, y_cov"
   ]
  },
  {
   "cell_type": "code",
   "execution_count": 5,
   "metadata": {},
   "outputs": [],
   "source": [
    "for i, batch in enumerate(train_loader):\n",
    "    b = batch\n",
    "future, history, pos_w, pos_d = b"
   ]
  },
  {
   "cell_type": "code",
   "execution_count": 6,
   "metadata": {},
   "outputs": [],
   "source": [
    "x0 = torch.cat((history, future), dim=1).to(config.device) #  (B, T, V, F)"
   ]
  },
  {
   "cell_type": "code",
   "execution_count": 7,
   "metadata": {},
   "outputs": [],
   "source": [
    "config.mask_ratio = 0.0\n",
    "config.N = 10\n",
    "config.sample_steps = 10\n",
    "config.sample_strategy = 'ddpm'\n",
    "config.beta_schedule = 'quad'\n",
    "config.num_layers = 1\n",
    "config.V = 34\n",
    "config.T_h = 12"
   ]
  },
  {
   "cell_type": "code",
   "execution_count": 8,
   "metadata": {},
   "outputs": [],
   "source": [
    "mask =  torch.randint_like(history, low=0, high=100) < int(config.mask_ratio * 100) # mask the history in a ratio with mask_ratio\n",
    "history[mask] = 0\n",
    "x_masked = torch.cat((history, torch.zeros_like(future)), dim=1).to(config.device) # (B, T, V, F)"
   ]
  },
  {
   "cell_type": "markdown",
   "metadata": {},
   "source": [
    "# debugging of graphnet"
   ]
  },
  {
   "cell_type": "code",
   "execution_count": 9,
   "metadata": {},
   "outputs": [],
   "source": [
    "from algorithm.diffgraph.graphnet_ver2_copy import GraphNet"
   ]
  },
  {
   "cell_type": "code",
   "execution_count": 10,
   "metadata": {},
   "outputs": [],
   "source": [
    "eps_model = GraphNet(config, rnn_num_units= 16, input_dim= 1, y_cov_dim=1, out_dim=1)"
   ]
  },
  {
   "cell_type": "code",
   "execution_count": 11,
   "metadata": {},
   "outputs": [],
   "source": [
    "def gather(consts: torch.Tensor, t: torch.Tensor):\n",
    "    c = consts.gather(-1, t)\n",
    "    return c.reshape(-1, 1, 1, 1)"
   ]
  },
  {
   "cell_type": "code",
   "execution_count": 12,
   "metadata": {},
   "outputs": [],
   "source": [
    "def q_xt_x0( x0: torch.Tensor, t: torch.Tensor, eps): # forward diffusion process\n",
    "    \"\"\"\n",
    "    Sample from  q(x_t|x_0) ~ N(x_t; \\sqrt\\bar\\alpha_t * x_0, (1 - \\bar\\alpha_t)I) \n",
    "    \"\"\"\n",
    "    if eps is None:\n",
    "        eps = torch.randn_like(x0)\n",
    "\n",
    "    mean = gather(alpha_bar, t) ** 0.5 * x0\n",
    "    var = 1 - gather(alpha_bar, t)\n",
    "\n",
    "    return mean + eps * (var ** 0.5)"
   ]
  },
  {
   "cell_type": "code",
   "execution_count": 13,
   "metadata": {},
   "outputs": [],
   "source": [
    "beta = torch.linspace(0.001 ** 0.5, 0.02 ** 0.5, 10) ** 2\n",
    "beta = beta.to(config.device)\n",
    "alpha = 1.0 - beta\n",
    "alpha_bar = torch.cumprod(alpha, dim=0)"
   ]
  },
  {
   "cell_type": "code",
   "execution_count": 14,
   "metadata": {},
   "outputs": [],
   "source": [
    "t = torch.randint(0, 10, (x0.shape[0],), device=x0.device, dtype=torch.long)\n",
    "eps = torch.randn_like(x0)\n",
    "xt = q_xt_x0(x0, t, eps)"
   ]
  },
  {
   "cell_type": "code",
   "execution_count": 15,
   "metadata": {},
   "outputs": [
    {
     "name": "stdout",
     "output_type": "stream",
     "text": [
      "torch.Size([17])\n",
      "torch.Size([17, 24, 34, 1])\n",
      "torch.Size([17, 24, 34, 1])\n"
     ]
    }
   ],
   "source": [
    "print(t.size()) # time \n",
    "print(eps.size()) # epsilon target\n",
    "print(xt.size()) # noise"
   ]
  },
  {
   "cell_type": "code",
   "execution_count": 16,
   "metadata": {},
   "outputs": [
    {
     "data": {
      "text/plain": [
       "torch.Size([17, 24, 34, 1])"
      ]
     },
     "execution_count": 16,
     "metadata": {},
     "output_type": "execute_result"
    }
   ],
   "source": [
    "x_masked.size()"
   ]
  },
  {
   "cell_type": "code",
   "execution_count": 17,
   "metadata": {},
   "outputs": [],
   "source": [
    "x = torch.cat((history, xt[:,:config.T_h,:,:]), dim=3)"
   ]
  },
  {
   "cell_type": "code",
   "execution_count": 18,
   "metadata": {},
   "outputs": [
    {
     "data": {
      "text/plain": [
       "torch.Size([17, 12, 34, 2])"
      ]
     },
     "execution_count": 18,
     "metadata": {},
     "output_type": "execute_result"
    }
   ],
   "source": [
    "x.size()"
   ]
  },
  {
   "cell_type": "code",
   "execution_count": 19,
   "metadata": {},
   "outputs": [],
   "source": [
    "import torch.nn as nn\n",
    "x_proj = nn.Conv2d(2, 1, (1,1))"
   ]
  },
  {
   "cell_type": "code",
   "execution_count": 20,
   "metadata": {},
   "outputs": [],
   "source": [
    "x_P = x_proj(x.transpose(1,3))\n",
    "x_P = x_P.transpose(1,3)"
   ]
  },
  {
   "cell_type": "code",
   "execution_count": 21,
   "metadata": {},
   "outputs": [
    {
     "data": {
      "text/plain": [
       "torch.Size([17, 12, 34, 1])"
      ]
     },
     "execution_count": 21,
     "metadata": {},
     "output_type": "execute_result"
    }
   ],
   "source": [
    "x_P.size()"
   ]
  },
  {
   "cell_type": "code",
   "execution_count": 22,
   "metadata": {},
   "outputs": [
    {
     "name": "stdout",
     "output_type": "stream",
     "text": [
      "torch.Size([17, 12, 34, 16])\n"
     ]
    }
   ],
   "source": [
    "eps_theta = eps_model(x_P, xt)"
   ]
  },
  {
   "cell_type": "code",
   "execution_count": 23,
   "metadata": {},
   "outputs": [
    {
     "data": {
      "text/plain": [
       "torch.Size([17, 24, 34, 1])"
      ]
     },
     "execution_count": 23,
     "metadata": {},
     "output_type": "execute_result"
    }
   ],
   "source": [
    "eps_theta.size()"
   ]
  },
  {
   "cell_type": "code",
   "execution_count": 24,
   "metadata": {},
   "outputs": [
    {
     "data": {
      "text/plain": [
       "tensor(-2.5992, grad_fn=<MinBackward1>)"
      ]
     },
     "execution_count": 24,
     "metadata": {},
     "output_type": "execute_result"
    }
   ],
   "source": [
    "torch.min(eps_theta)"
   ]
  },
  {
   "cell_type": "code",
   "execution_count": 26,
   "metadata": {},
   "outputs": [
    {
     "data": {
      "text/plain": [
       "tensor(1.3794, grad_fn=<MseLossBackward0>)"
      ]
     },
     "execution_count": 26,
     "metadata": {},
     "output_type": "execute_result"
    }
   ],
   "source": [
    "from torch.nn import functional as F\n",
    "F.mse_loss(eps, eps_theta)"
   ]
  },
  {
   "cell_type": "code",
   "execution_count": 27,
   "metadata": {},
   "outputs": [
    {
     "name": "stdout",
     "output_type": "stream",
     "text": [
      "총 파라미터 수 : 60898\n"
     ]
    }
   ],
   "source": [
    "total_params = sum(p.numel() for p in eps_model.parameters())\n",
    "print(f\"총 파라미터 수 : {total_params}\")"
   ]
  },
  {
   "cell_type": "code",
   "execution_count": null,
   "metadata": {},
   "outputs": [],
   "source": []
  },
  {
   "cell_type": "code",
   "execution_count": null,
   "metadata": {},
   "outputs": [],
   "source": [
    "import torch.nn as nn\n",
    "x_proj = nn.Conv2d(2, 1, (1,1))"
   ]
  },
  {
   "cell_type": "code",
   "execution_count": null,
   "metadata": {},
   "outputs": [],
   "source": [
    "x_proj = nn.Conv2d(2, 1, (1,1))"
   ]
  },
  {
   "cell_type": "code",
   "execution_count": null,
   "metadata": {},
   "outputs": [
    {
     "ename": "NameError",
     "evalue": "name 'c' is not defined",
     "output_type": "error",
     "traceback": [
      "\u001b[0;31m---------------------------------------------------------------------------\u001b[0m",
      "\u001b[0;31mNameError\u001b[0m                                 Traceback (most recent call last)",
      "Cell \u001b[0;32mIn[28], line 1\u001b[0m\n\u001b[0;32m----> 1\u001b[0m _masked, pos_w, pos_d \u001b[38;5;241m=\u001b[39m \u001b[43mc\u001b[49m  \u001b[38;5;66;03m# x_masked: (B, F, V, T), pos_w: (B,T,1,1), pos_d: (B,T,1,1)\u001b[39;00m\n\u001b[1;32m      3\u001b[0m x \u001b[38;5;241m=\u001b[39m torch\u001b[38;5;241m.\u001b[39mcat((x, x_masked), dim\u001b[38;5;241m=\u001b[39m\u001b[38;5;241m3\u001b[39m) \u001b[38;5;66;03m# (B, F, V, 2 * T) noise + history\u001b[39;00m\n\u001b[1;32m      5\u001b[0m x \u001b[38;5;241m=\u001b[39m \u001b[38;5;28mself\u001b[39m\u001b[38;5;241m.\u001b[39mx_proj(x)\n",
      "\u001b[0;31mNameError\u001b[0m: name 'c' is not defined"
     ]
    }
   ],
   "source": [
    "_masked, pos_w, pos_d = c  # x_masked: (B, F, V, T), pos_w: (B,T,1,1), pos_d: (B,T,1,1)\n",
    "\n",
    "x = torch.cat((x, x_masked), dim=3) # (B, F, V, 2 * T) noise + history\n",
    "\n",
    "x = self.x_proj(x)\n",
    "\n",
    "t = TimeEmbedding(t, self.d_h)\n",
    "\n",
    "h = [x]"
   ]
  },
  {
   "cell_type": "code",
   "execution_count": null,
   "metadata": {},
   "outputs": [],
   "source": [
    "def loss(self, x0: torch.Tensor, c: Tuple):\n",
    "        \"\"\"\n",
    "        Loss calculation\n",
    "        x0: (B, ...) : history + futrue\n",
    "        c: The condition, c is a tuple of torch tensor, here c = (feature, pos_w, pos_d)\n",
    "        \"\"\"\n",
    "        #\n",
    "        t = torch.randint(0, self.N, (x0.shape[0],), device=x0.device, dtype=torch.long)\n",
    "\n",
    "        # Note that in the paper, t \\in [1, T], but in the code, t \\in [0, T-1]\n",
    "        eps = torch.randn_like(x0)\n",
    "\n",
    "        xt = self.q_xt_x0(x0, t, eps)\n",
    "        eps_theta = self.eps_model(xt, t, c)\n",
    "        return F.mse_loss(eps, eps_theta)"
   ]
  },
  {
   "cell_type": "code",
   "execution_count": null,
   "metadata": {},
   "outputs": [],
   "source": [
    "def loss(self, x0: torch.Tensor, c: Tuple):\n",
    "        \"\"\"\n",
    "        Loss calculation\n",
    "        x0: (B, ...) : history + futrue\n",
    "        c: The condition, c is a tuple of torch tensor, here c = (feature, pos_w, pos_d)\n",
    "        \"\"\"\n",
    "        #\n",
    "        t = torch.randint(0, self.N, (x0.shape[0],), device=x0.device, dtype=torch.long)\n",
    "\n",
    "        # Note that in the paper, t \\in [1, T], but in the code, t \\in [0, T-1]\n",
    "        eps = torch.randn_like(x0)\n",
    "\n",
    "        xt = self.q_xt_x0(x0, t, eps) # noisng of history + future\n",
    "\n",
    "        # x_masked, y, y_cov = c\n",
    "        xt = xt.transpose(1,3)\n",
    "        xt_masked = xt[:,:self.config.T_h,:,:]\n",
    "        # x_masked = x_masked.transpose(1,3)\n",
    "        # xt = xt.transpose(1,3)\n",
    "\n",
    "        eps_theta = self.eps_model(xt_masked, xt)\n",
    "        loss = nn.MSELoss()\n",
    "\n",
    "        # return F.mse_loss(eps, eps_theta)\n",
    "        return loss(eps.transpose(1,3)[:,-self.config.T_h:,:,], eps_theta)"
   ]
  }
 ],
 "metadata": {
  "kernelspec": {
   "display_name": "cooling0",
   "language": "python",
   "name": "python3"
  },
  "language_info": {
   "codemirror_mode": {
    "name": "ipython",
    "version": 3
   },
   "file_extension": ".py",
   "mimetype": "text/x-python",
   "name": "python",
   "nbconvert_exporter": "python",
   "pygments_lexer": "ipython3",
   "version": "3.10.13"
  }
 },
 "nbformat": 4,
 "nbformat_minor": 2
}
