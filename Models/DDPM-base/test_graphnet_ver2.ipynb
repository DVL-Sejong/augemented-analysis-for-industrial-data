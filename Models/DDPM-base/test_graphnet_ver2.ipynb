{
 "cells": [
  {
   "cell_type": "code",
   "execution_count": 1,
   "metadata": {},
   "outputs": [],
   "source": [
    "import os\n",
    "import torch\n",
    "import argparse\n",
    "import numpy as np\n",
    "import torch.utils.data\n",
    "from easydict import EasyDict as edict\n",
    "from timeit import default_timer as timer\n",
    "\n",
    "from utils.eval import Metric\n",
    "from utils.gpu_dispatch import GPU\n",
    "from utils.common_utils import dir_check, to_device, ws, unfold_dict, dict_merge, GpuId2CudaId, Logger\n",
    "\n",
    "from algorithm.dataset import CleanDataset, TrafficDataset\n",
    "from algorithm.diffGSL.model import DiffSTG\n",
    "from typing import Tuple, Optional\n",
    "def default_config(data='AIR_BJ'):\n",
    "    config = edict()\n",
    "    config.PATH_MOD = ws + '/output/model/'\n",
    "    config.PATH_LOG = ws + '/output/log/'\n",
    "    config.PATH_FORECAST = ws + '/output/forecast/'\n",
    "\n",
    "    # Data Config\n",
    "    config.data = edict()\n",
    "    config.data.name = data\n",
    "    config.data.path = ws + '/data/dataset/'\n",
    "    config.graph_diffusion_step = 3\n",
    "\n",
    "\n",
    "    config.data.feature_file = config.data.path + config.data.name + '/flow.npy'  # Add this line\n",
    "    config.data.spatial = config.data.path + config.data.name + '/adj.npy'\n",
    "    config.data.num_recent = 1\n",
    "\n",
    "    # Data settings for different datasets\n",
    "    if config.data.name == 'PEMS08':\n",
    "        config.data.num_vertices = 170\n",
    "        config.data.points_per_hour = 12\n",
    "        config.data.val_start_idx = int(17856 * 0.6)\n",
    "        config.data.test_start_idx = int(17856 * 0.8)\n",
    "\n",
    "    if config.data.name == \"AIR_BJ\":\n",
    "        config.data.num_vertices = 34\n",
    "        config.data.points_per_hour = 1\n",
    "        config.data.val_start_idx = int(8760 * 0.6)\n",
    "        config.data.test_start_idx = int(8760 * 0.8)\n",
    "\n",
    "    if config.data.name == 'AIR_GZ':\n",
    "        config.data.num_vertices = 41\n",
    "        config.data.points_per_hour = 1\n",
    "        config.data.val_start_idx = int(8760 * 10 / 12)\n",
    "        config.data.test_start_idx = int(8160 * 11 / 12)\n",
    "\n",
    "    gpu_id = GPU().get_usefuel_gpu(max_memory=6000, condidate_gpu_id=[0])\n",
    "    config.gpu_id = gpu_id\n",
    "    if gpu_id != None:\n",
    "        cuda_id = GpuId2CudaId(gpu_id)\n",
    "        torch.cuda.set_device(f\"cuda:{cuda_id}\")\n",
    "    # device = torch.device('cuda' if torch.cuda.is_available() else 'cpu')\n",
    "    device = torch.device('mps')\n",
    "    # print(device)\n",
    "\n",
    "    # Model config\n",
    "    config.model = edict()\n",
    "    config.model.T_p = 12\n",
    "    config.model.T_h = 12\n",
    "    config.model.V = config.data.num_vertices\n",
    "    config.model.F = 1\n",
    "    config.model.week_len = 7\n",
    "    config.model.day_len = config.data.points_per_hour * 24\n",
    "    config.model.device = device\n",
    "    config.model.d_h = 32\n",
    "    config.model.cheb_k = 3\n",
    "    config.model.graph_diffusion_step = 3\n",
    "    config.model.num_layers = 4\n",
    "\n",
    "    # Diffusion model config\n",
    "    config.model.N = 200\n",
    "    config.model.sample_steps = 10\n",
    "    config.model.epsilon_theta = 'GSTNet'\n",
    "    config.model.is_label_condition = True\n",
    "    config.model.beta_end = 0.02\n",
    "    config.model.beta_schedule = 'quad'\n",
    "    config.model.sample_strategy = 'ddpm'\n",
    "\n",
    "    config.n_samples = 2\n",
    "    config.model.channel_multipliers = [1, 2]\n",
    "    config.model.supports_len = 2\n",
    "\n",
    "    # Training config\n",
    "    config.model_name = 'DiffSTG'\n",
    "    config.is_test = False\n",
    "    config.epoch = 50\n",
    "    config.optimizer = \"adam\"\n",
    "    config.lr = 1e-4\n",
    "    config.batch_size = 32\n",
    "    config.wd = 1e-5\n",
    "    config.early_stop = 10\n",
    "    config.start_epoch = 0\n",
    "    config.device = device\n",
    "    config.logger = Logger()\n",
    "\n",
    "    if not os.path.exists(config.PATH_MOD):\n",
    "        os.makedirs(config.PATH_MOD)\n",
    "    if not os.path.exists(config.PATH_LOG):\n",
    "        os.makedirs(config.PATH_LOG)\n",
    "    if not os.path.exists(config.PATH_FORECAST):\n",
    "        os.makedirs(config.PATH_FORECAST)\n",
    "    return config"
   ]
  },
  {
   "cell_type": "code",
   "execution_count": 2,
   "metadata": {},
   "outputs": [],
   "source": [
    "from algorithm.diffgraph2.graphnet_ver2 import GraphNet"
   ]
  },
  {
   "cell_type": "code",
   "execution_count": 3,
   "metadata": {},
   "outputs": [
    {
     "name": "stdout",
     "output_type": "stream",
     "text": [
      "nvidia-smi > /Users/jcy/Desktop/DiffSTG-main/output/gpustat//gpustat.txt\n",
      "wrong in load gpu info dict list index out of range\n",
      "None gpu is avalible, try again later\n",
      "sample num: 10690\n"
     ]
    },
    {
     "name": "stderr",
     "output_type": "stream",
     "text": [
      "sh: nvidia-smi: command not found\n"
     ]
    }
   ],
   "source": [
    "from algorithm.dataset import CleanDataset, TrafficDataset\n",
    "config = default_config(\"PEMS08\")\n",
    "\n",
    "clean_data = CleanDataset(config)\n",
    "config.model.A = clean_data.adj\n",
    "train_dataset = TrafficDataset(clean_data, (0 + config.model.T_p, config.data.val_start_idx - config.model.T_p + 1), config)\n",
    "train_loader = torch.utils.data.DataLoader(train_dataset, config.batch_size, shuffle=True, pin_memory=True)"
   ]
  },
  {
   "cell_type": "code",
   "execution_count": 4,
   "metadata": {},
   "outputs": [],
   "source": [
    "beta_start = 0.002\n",
    "beta_end = 0.01\n",
    "N = 200\n",
    "beta = torch.linspace(beta_start ** 0.5, beta_end ** 0.5, N) ** 2\n",
    "beta = beta.to(config.device)\n",
    "\n",
    "alpha = 1.0 - beta\n",
    "\n",
    "alpha_bar = torch.cumprod(alpha, dim=0)\n",
    "\n",
    "def gather(consts: torch.Tensor, t: torch.Tensor):\n",
    "    c = consts.gather(-1, t)\n",
    "    return c.reshape(-1, 1, 1, 1)\n",
    "\n",
    "def q_xt_x0(x0: torch.Tensor, t: torch.Tensor, eps: Optional[torch.Tensor]=None):\n",
    "\n",
    "    if eps is None:\n",
    "        eps = torch.randn_like(x0)\n",
    "\n",
    "    mean = gather(alpha_bar, t) ** 0.5 * x0\n",
    "    var = 1 - gather(alpha_bar, t)\n",
    "\n",
    "    return mean + eps * (var ** 0.5)"
   ]
  },
  {
   "cell_type": "code",
   "execution_count": 5,
   "metadata": {},
   "outputs": [
    {
     "data": {
      "text/plain": [
       "device(type='mps')"
      ]
     },
     "execution_count": 5,
     "metadata": {},
     "output_type": "execute_result"
    }
   ],
   "source": [
    "config.device"
   ]
  },
  {
   "cell_type": "code",
   "execution_count": 6,
   "metadata": {},
   "outputs": [],
   "source": [
    "import torch.nn.functional as F"
   ]
  },
  {
   "cell_type": "code",
   "execution_count": 7,
   "metadata": {},
   "outputs": [
    {
     "name": "stdout",
     "output_type": "stream",
     "text": [
      "total parameters of the model: 570690\n",
      "\n",
      "We1 torch.Size([170, 32])\n",
      "We2 torch.Size([170, 32])\n",
      "Memory torch.Size([32, 32])\n",
      "Wq torch.Size([32, 32])\n",
      "encoder.cells.0.weight torch.Size([198, 33])\n",
      "encoder.cells.0.bias torch.Size([33])\n",
      "encoder.cells.1.weight torch.Size([384, 64])\n",
      "encoder.cells.1.bias torch.Size([64])\n",
      "encoder.cells.2.weight torch.Size([384, 64])\n",
      "encoder.cells.2.bias torch.Size([64])\n",
      "encoder.cells.3.weight torch.Size([384, 64])\n",
      "encoder.cells.3.bias torch.Size([64])\n",
      "encoder.cells.4.weight torch.Size([384, 64])\n",
      "encoder.cells.4.bias torch.Size([64])\n",
      "encoder.norm.weight torch.Size([170, 32])\n",
      "encoder.norm.bias torch.Size([170, 32])\n",
      "decoder.cells.0.weight torch.Size([396, 66])\n",
      "decoder.cells.0.bias torch.Size([66])\n",
      "decoder.cells.1.weight torch.Size([768, 128])\n",
      "decoder.cells.1.bias torch.Size([128])\n",
      "decoder.cells.2.weight torch.Size([768, 128])\n",
      "decoder.cells.2.bias torch.Size([128])\n",
      "decoder.cells.3.weight torch.Size([768, 128])\n",
      "decoder.cells.3.bias torch.Size([128])\n",
      "decoder.cells.4.weight torch.Size([768, 128])\n",
      "decoder.cells.4.bias torch.Size([128])\n",
      "decoder.norm.weight torch.Size([170, 64])\n",
      "decoder.norm.bias torch.Size([170, 64])\n",
      "proj.0.weight torch.Size([1, 64])\n",
      "proj.0.bias torch.Size([1])\n"
     ]
    }
   ],
   "source": [
    "graphnet = GraphNet(config.model, rnn_num_units=32, input_dim=1, y_cov_dim=1,out_dim=1)\n",
    "total_params = sum(p.numel() for p in graphnet.parameters())\n",
    "print(f\"total parameters of the model: {total_params}\")\n",
    "print()\n",
    "for name, param in graphnet.named_parameters():\n",
    "    print(name, param.shape)"
   ]
  },
  {
   "cell_type": "code",
   "execution_count": 8,
   "metadata": {},
   "outputs": [
    {
     "name": "stdout",
     "output_type": "stream",
     "text": [
      "   0.0| 5.359 7.1s"
     ]
    },
    {
     "ename": "KeyboardInterrupt",
     "evalue": "",
     "output_type": "error",
     "traceback": [
      "\u001b[0;31m---------------------------------------------------------------------------\u001b[0m",
      "\u001b[0;31mKeyboardInterrupt\u001b[0m                         Traceback (most recent call last)",
      "Cell \u001b[0;32mIn[8], line 28\u001b[0m\n\u001b[1;32m     25\u001b[0m loss \u001b[38;5;241m=\u001b[39m \u001b[38;5;241m10\u001b[39m \u001b[38;5;241m*\u001b[39m F\u001b[38;5;241m.\u001b[39mmse_loss(eps_theta, eps)\n\u001b[1;32m     27\u001b[0m optimizer\u001b[38;5;241m.\u001b[39mzero_grad()\n\u001b[0;32m---> 28\u001b[0m \u001b[43mloss\u001b[49m\u001b[38;5;241;43m.\u001b[39;49m\u001b[43mbackward\u001b[49m\u001b[43m(\u001b[49m\u001b[43m)\u001b[49m\n\u001b[1;32m     29\u001b[0m optimizer\u001b[38;5;241m.\u001b[39mstep()\n\u001b[1;32m     31\u001b[0m n \u001b[38;5;241m+\u001b[39m\u001b[38;5;241m=\u001b[39m \u001b[38;5;241m1\u001b[39m\n",
      "File \u001b[0;32m~/anaconda3/envs/cooling0/lib/python3.10/site-packages/torch/_tensor.py:492\u001b[0m, in \u001b[0;36mTensor.backward\u001b[0;34m(self, gradient, retain_graph, create_graph, inputs)\u001b[0m\n\u001b[1;32m    482\u001b[0m \u001b[38;5;28;01mif\u001b[39;00m has_torch_function_unary(\u001b[38;5;28mself\u001b[39m):\n\u001b[1;32m    483\u001b[0m     \u001b[38;5;28;01mreturn\u001b[39;00m handle_torch_function(\n\u001b[1;32m    484\u001b[0m         Tensor\u001b[38;5;241m.\u001b[39mbackward,\n\u001b[1;32m    485\u001b[0m         (\u001b[38;5;28mself\u001b[39m,),\n\u001b[0;32m   (...)\u001b[0m\n\u001b[1;32m    490\u001b[0m         inputs\u001b[38;5;241m=\u001b[39minputs,\n\u001b[1;32m    491\u001b[0m     )\n\u001b[0;32m--> 492\u001b[0m \u001b[43mtorch\u001b[49m\u001b[38;5;241;43m.\u001b[39;49m\u001b[43mautograd\u001b[49m\u001b[38;5;241;43m.\u001b[39;49m\u001b[43mbackward\u001b[49m\u001b[43m(\u001b[49m\n\u001b[1;32m    493\u001b[0m \u001b[43m    \u001b[49m\u001b[38;5;28;43mself\u001b[39;49m\u001b[43m,\u001b[49m\u001b[43m \u001b[49m\u001b[43mgradient\u001b[49m\u001b[43m,\u001b[49m\u001b[43m \u001b[49m\u001b[43mretain_graph\u001b[49m\u001b[43m,\u001b[49m\u001b[43m \u001b[49m\u001b[43mcreate_graph\u001b[49m\u001b[43m,\u001b[49m\u001b[43m \u001b[49m\u001b[43minputs\u001b[49m\u001b[38;5;241;43m=\u001b[39;49m\u001b[43minputs\u001b[49m\n\u001b[1;32m    494\u001b[0m \u001b[43m\u001b[49m\u001b[43m)\u001b[49m\n",
      "File \u001b[0;32m~/anaconda3/envs/cooling0/lib/python3.10/site-packages/torch/autograd/__init__.py:251\u001b[0m, in \u001b[0;36mbackward\u001b[0;34m(tensors, grad_tensors, retain_graph, create_graph, grad_variables, inputs)\u001b[0m\n\u001b[1;32m    246\u001b[0m     retain_graph \u001b[38;5;241m=\u001b[39m create_graph\n\u001b[1;32m    248\u001b[0m \u001b[38;5;66;03m# The reason we repeat the same comment below is that\u001b[39;00m\n\u001b[1;32m    249\u001b[0m \u001b[38;5;66;03m# some Python versions print out the first line of a multi-line function\u001b[39;00m\n\u001b[1;32m    250\u001b[0m \u001b[38;5;66;03m# calls in the traceback and some print out the last line\u001b[39;00m\n\u001b[0;32m--> 251\u001b[0m \u001b[43mVariable\u001b[49m\u001b[38;5;241;43m.\u001b[39;49m\u001b[43m_execution_engine\u001b[49m\u001b[38;5;241;43m.\u001b[39;49m\u001b[43mrun_backward\u001b[49m\u001b[43m(\u001b[49m\u001b[43m  \u001b[49m\u001b[38;5;66;43;03m# Calls into the C++ engine to run the backward pass\u001b[39;49;00m\n\u001b[1;32m    252\u001b[0m \u001b[43m    \u001b[49m\u001b[43mtensors\u001b[49m\u001b[43m,\u001b[49m\n\u001b[1;32m    253\u001b[0m \u001b[43m    \u001b[49m\u001b[43mgrad_tensors_\u001b[49m\u001b[43m,\u001b[49m\n\u001b[1;32m    254\u001b[0m \u001b[43m    \u001b[49m\u001b[43mretain_graph\u001b[49m\u001b[43m,\u001b[49m\n\u001b[1;32m    255\u001b[0m \u001b[43m    \u001b[49m\u001b[43mcreate_graph\u001b[49m\u001b[43m,\u001b[49m\n\u001b[1;32m    256\u001b[0m \u001b[43m    \u001b[49m\u001b[43minputs\u001b[49m\u001b[43m,\u001b[49m\n\u001b[1;32m    257\u001b[0m \u001b[43m    \u001b[49m\u001b[43mallow_unreachable\u001b[49m\u001b[38;5;241;43m=\u001b[39;49m\u001b[38;5;28;43;01mTrue\u001b[39;49;00m\u001b[43m,\u001b[49m\n\u001b[1;32m    258\u001b[0m \u001b[43m    \u001b[49m\u001b[43maccumulate_grad\u001b[49m\u001b[38;5;241;43m=\u001b[39;49m\u001b[38;5;28;43;01mTrue\u001b[39;49;00m\u001b[43m,\u001b[49m\n\u001b[1;32m    259\u001b[0m \u001b[43m\u001b[49m\u001b[43m)\u001b[49m\n",
      "\u001b[0;31mKeyboardInterrupt\u001b[0m: "
     ]
    }
   ],
   "source": [
    "optimizer = torch.optim.Adam(graphnet.parameters(), lr=0.001, weight_decay=0)\n",
    "scheduler = torch.optim.lr_scheduler.ReduceLROnPlateau(optimizer, mode='min', factor=0.5, patience=5)\n",
    "\n",
    "graphnet = graphnet.to(config.device)\n",
    "batch_seen = 0\n",
    "\n",
    "for epoch in range(config.epoch):\n",
    "    n, avg_loss, time_lst = 0, 0, []\n",
    "    for i, batch in enumerate(train_loader):\n",
    "        # if i > 3 and config.is_test:break\n",
    "        time_start =  timer()\n",
    "        future, history, pos_w, pos_d = batch # future:(B, T_p, V, F), history: (B, T_h, V, F)\n",
    "\n",
    "        future = future.to(config.device)\n",
    "        history = history.to(config.device)\n",
    "\n",
    "        t = torch.randint(0, N, (future.shape[0],), device=config.device, dtype=torch.long)\n",
    "        eps = torch.rand_like(future)\n",
    "        xt = q_xt_x0(future, t, eps)\n",
    "\n",
    "        eps_theta = graphnet(history, xt, labels = eps, training= True, batches_seen=batch_seen)\n",
    "\n",
    "        batch_seen += 1\n",
    "\n",
    "        loss = 10 * F.mse_loss(eps_theta, eps)\n",
    "\n",
    "        optimizer.zero_grad()\n",
    "        loss.backward()\n",
    "        optimizer.step()\n",
    "\n",
    "        n += 1\n",
    "        avg_loss = avg_loss * (n - 1) / n + loss.item() / n\n",
    "\n",
    "        time_lst.append((timer() - time_start))\n",
    "        message = f\"{i / len(train_loader) + epoch:6.1f}| {avg_loss:0.3f} {np.sum(time_lst):.1f}s\"\n",
    "        print('\\r' + message, end='', flush=True)"
   ]
  },
  {
   "cell_type": "code",
   "execution_count": null,
   "metadata": {},
   "outputs": [],
   "source": []
  }
 ],
 "metadata": {
  "kernelspec": {
   "display_name": "cooling0",
   "language": "python",
   "name": "python3"
  },
  "language_info": {
   "codemirror_mode": {
    "name": "ipython",
    "version": 3
   },
   "file_extension": ".py",
   "mimetype": "text/x-python",
   "name": "python",
   "nbconvert_exporter": "python",
   "pygments_lexer": "ipython3",
   "version": "3.10.13"
  }
 },
 "nbformat": 4,
 "nbformat_minor": 2
}
