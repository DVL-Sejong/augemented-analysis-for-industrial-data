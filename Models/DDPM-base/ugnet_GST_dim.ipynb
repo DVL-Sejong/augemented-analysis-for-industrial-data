{
 "cells": [
  {
   "cell_type": "code",
   "execution_count": 1,
   "metadata": {},
   "outputs": [],
   "source": [
    "import os\n",
    "import torch\n",
    "import argparse\n",
    "import numpy as np\n",
    "import torch.utils.data\n",
    "from easydict import EasyDict as edict\n",
    "from timeit import default_timer as timer\n",
    "\n",
    "from utils.eval import Metric\n",
    "from utils.gpu_dispatch import GPU\n",
    "from utils.common_utils import dir_check, to_device, ws, unfold_dict, dict_merge, GpuId2CudaId, Logger\n",
    "\n",
    "from algorithm.dataset import CleanDataset, TrafficDataset\n",
    "from algorithm.diffGSL.model import DiffSTG, save2file"
   ]
  },
  {
   "cell_type": "code",
   "execution_count": 2,
   "metadata": {},
   "outputs": [],
   "source": [
    "def default_config(data='AIR_BJ'):\n",
    "    config = edict()\n",
    "    config.PATH_MOD = ws + '/output/model/'\n",
    "    config.PATH_LOG = ws + '/output/log/'\n",
    "    config.PATH_FORECAST = ws + '/output/forecast/'\n",
    "\n",
    "    # Data Config\n",
    "    config.data = edict()\n",
    "    config.data.name = data\n",
    "    config.data.path = ws + '/data/dataset/'\n",
    "    config.graph_diffusion_step = 3\n",
    "\n",
    "\n",
    "    config.data.feature_file = config.data.path + config.data.name + '/flow.npy'  # Add this line\n",
    "    config.data.spatial = config.data.path + config.data.name + '/adj.npy'\n",
    "    config.data.num_recent = 1\n",
    "\n",
    "    # Data settings for different datasets\n",
    "    if config.data.name == 'PEMS08':\n",
    "        config.data.num_vertices = 170\n",
    "        config.data.points_per_hour = 12\n",
    "        config.data.val_start_idx = int(17856 * 0.6)\n",
    "        config.data.test_start_idx = int(17856 * 0.8)\n",
    "\n",
    "    if config.data.name == \"AIR_BJ\":\n",
    "        config.data.num_vertices = 34\n",
    "        config.data.points_per_hour = 1\n",
    "        config.data.val_start_idx = int(8760 * 0.6)\n",
    "        config.data.test_start_idx = int(8760 * 0.8)\n",
    "\n",
    "    if config.data.name == 'AIR_GZ':\n",
    "        config.data.num_vertices = 41\n",
    "        config.data.points_per_hour = 1\n",
    "        config.data.val_start_idx = int(8760 * 10 / 12)\n",
    "        config.data.test_start_idx = int(8160 * 11 / 12)\n",
    "\n",
    "    gpu_id = GPU().get_usefuel_gpu(max_memory=6000, condidate_gpu_id=[0])\n",
    "    config.gpu_id = gpu_id\n",
    "    if gpu_id != None:\n",
    "        cuda_id = GpuId2CudaId(gpu_id)\n",
    "        torch.cuda.set_device(f\"cuda:{cuda_id}\")\n",
    "    # device = torch.device('cuda' if torch.cuda.is_available() else 'cpu')\n",
    "    device = torch.device('cpu')\n",
    "    # print(device)\n",
    "\n",
    "    # Model config\n",
    "    config.model = edict()\n",
    "    config.model.T_p = 12\n",
    "    config.model.T_h = 12\n",
    "    config.model.V = config.data.num_vertices\n",
    "    config.model.F = 1\n",
    "    config.model.week_len = 7\n",
    "    config.model.day_len = config.data.points_per_hour * 24\n",
    "    config.model.device = device\n",
    "    config.model.d_h = 32\n",
    "    config.cheb_k = 3\n",
    "\n",
    "    # Diffusion model config\n",
    "    config.model.N = 200\n",
    "    config.model.sample_steps = 10\n",
    "    config.model.epsilon_theta = 'GSTNet'\n",
    "    config.model.is_label_condition = True\n",
    "    config.model.beta_end = 0.02\n",
    "    config.model.beta_schedule = 'quad'\n",
    "    config.model.sample_strategy = 'ddpm'\n",
    "\n",
    "    config.n_samples = 2\n",
    "    config.model.channel_multipliers = [1, 2]\n",
    "    config.model.supports_len = 6\n",
    "    config.model.mask_ratio = 0.0\n",
    "    config.model.cheb_k = 3\n",
    "\n",
    "    # Training config\n",
    "    config.model_name = 'DiffSTG'\n",
    "    config.is_test = False\n",
    "    config.epoch = 300\n",
    "    config.optimizer = \"adam\"\n",
    "    config.lr = 1e-4\n",
    "    config.batch_size = 32\n",
    "    config.wd = 1e-5\n",
    "    config.early_stop = 10\n",
    "    config.start_epoch = 0\n",
    "    config.device = device\n",
    "    config.logger = Logger()\n",
    "\n",
    "    if not os.path.exists(config.PATH_MOD):\n",
    "        os.makedirs(config.PATH_MOD)\n",
    "    if not os.path.exists(config.PATH_LOG):\n",
    "        os.makedirs(config.PATH_LOG)\n",
    "    if not os.path.exists(config.PATH_FORECAST):\n",
    "        os.makedirs(config.PATH_FORECAST)\n",
    "    return config"
   ]
  },
  {
   "cell_type": "code",
   "execution_count": 3,
   "metadata": {},
   "outputs": [
    {
     "name": "stdout",
     "output_type": "stream",
     "text": [
      "nvidia-smi > c:\\Users\\cyjun\\OneDrive\\바탕 화면\\GSLDiff/output/gpustat//gpustat.txt\n",
      "wrong in load gpu info dict [Errno 2] No such file or directory: 'c:\\\\Users\\\\cyjun\\\\OneDrive\\\\바탕 화면\\\\GSLDiff/output/gpustat//gpustat.txt'\n",
      "None gpu is avalible, try again later\n",
      "sample num: 10690\n"
     ]
    }
   ],
   "source": [
    "config = default_config(\"PEMS08\")\n",
    "\n",
    "clean_data = CleanDataset(config)\n",
    "train_dataset = TrafficDataset(clean_data, (0 + config.model.T_p, config.data.val_start_idx - config.model.T_p + 1), config)\n",
    "train_loader = torch.utils.data.DataLoader(train_dataset, config.batch_size, shuffle=True, pin_memory=True)\n",
    "config.model.A = clean_data.adj"
   ]
  },
  {
   "cell_type": "code",
   "execution_count": 4,
   "metadata": {},
   "outputs": [],
   "source": [
    "from algorithm.diffstg2.ugnet import UGnet"
   ]
  },
  {
   "cell_type": "code",
   "execution_count": 5,
   "metadata": {},
   "outputs": [],
   "source": [
    "def gather(consts: torch.Tensor, t: torch.Tensor):\n",
    "    c = consts.gather(-1, t)\n",
    "    return c.reshape(-1, 1, 1, 1)\n",
    "\n",
    "def q_xt_x0( x0: torch.Tensor, t: torch.Tensor, eps): # forward diffusion process\n",
    "    \"\"\"\n",
    "    Sample from  q(x_t|x_0) ~ N(x_t; \\sqrt\\bar\\alpha_t * x_0, (1 - \\bar\\alpha_t)I) \n",
    "    \"\"\"\n",
    "    if eps is None:\n",
    "        eps = torch.randn_like(x0)\n",
    "\n",
    "    mean = gather(alpha_bar, t) ** 0.5 * x0\n",
    "    var = 1 - gather(alpha_bar, t)\n",
    "\n",
    "    return mean + eps * (var ** 0.5)\n",
    "\n",
    "beta = torch.linspace(0.001 ** 0.5, 0.02 ** 0.5, config.model.N) ** 2\n",
    "beta = beta.to(config.device)\n",
    "alpha = 1.0 - beta\n",
    "alpha_bar = torch.cumprod(alpha, dim=0)"
   ]
  },
  {
   "cell_type": "code",
   "execution_count": 6,
   "metadata": {},
   "outputs": [],
   "source": [
    "eps_model = UGnet(config.model)"
   ]
  },
  {
   "cell_type": "code",
   "execution_count": 7,
   "metadata": {},
   "outputs": [],
   "source": [
    "for i, batch in enumerate(train_loader):\n",
    "    b = batch\n",
    "    future, history, pos_w, pos_d = b\n",
    "    x0 = torch.cat((history, future), dim=1).to(config.device) #  (B, T, V, F)\n",
    "    mask =  torch.randint_like(history, low=0, high=100) < int(config.model.mask_ratio * 100) # mask the history in a ratio with mask_ratio\n",
    "    history[mask] = 0\n",
    "    x_masked = torch.cat((history, torch.zeros_like(future)), dim=1).to(config.device) # (B, T, V, F)\n",
    "\n",
    "    x0 = x0.transpose(1,3) # (B, F, V, T)\n",
    "    x_masked = x_masked.transpose(1,3) # (B, F, V, T)\n",
    "    eps = torch.randn_like(x0)\n",
    "    t = torch.randint(0, config.model.N, (x0.shape[0],), device=x0.device, dtype=torch.long)\n",
    "    xt = q_xt_x0(x0, t, eps)\n",
    "\n",
    "    if i == 2:\n",
    "        break\n"
   ]
  },
  {
   "cell_type": "code",
   "execution_count": 8,
   "metadata": {},
   "outputs": [
    {
     "data": {
      "text/plain": [
       "tensor([156, 179, 147, 148, 115,  13, 115, 191,   2, 127,  61,  58,  83, 152,\n",
       "         13,  93, 195,  91,  72, 103,  83,  52,   7,  51,  88,  24,  75,  75,\n",
       "        111, 144,  12, 195])"
      ]
     },
     "execution_count": 8,
     "metadata": {},
     "output_type": "execute_result"
    }
   ],
   "source": [
    "t"
   ]
  },
  {
   "cell_type": "code",
   "execution_count": 9,
   "metadata": {},
   "outputs": [
    {
     "name": "stdout",
     "output_type": "stream",
     "text": [
      "torch.Size([32])\n",
      "torch.Size([32, 1, 170, 24])\n",
      "torch.Size([32, 1, 170, 24])\n",
      "torch.Size([32, 1, 170, 24])\n"
     ]
    }
   ],
   "source": [
    "print(t.size()) # time \n",
    "print(eps.size()) # epsilon target (after denoising)\n",
    "print(xt.size()) # before denoising\n",
    "print(x_masked.size())"
   ]
  },
  {
   "cell_type": "code",
   "execution_count": 10,
   "metadata": {},
   "outputs": [
    {
     "name": "stdout",
     "output_type": "stream",
     "text": [
      "start DownSample\n",
      "torch.Size([32, 64, 170, 24])\n",
      "done middle\n",
      "torch.Size([32, 128, 170, 24])\n",
      "torch.Size([32, 128, 170, 24])\n",
      "torch.Size([32, 96, 170, 24])\n",
      "start UpSample\n",
      "torch.Size([32, 64, 170, 48])\n",
      "torch.Size([32, 64, 170, 48])\n",
      "torch.Size([32, 64, 170, 48])\n"
     ]
    }
   ],
   "source": [
    "eps_theta = eps_model(xt, t, (x_masked, pos_w, pos_d))"
   ]
  },
  {
   "cell_type": "code",
   "execution_count": 11,
   "metadata": {},
   "outputs": [
    {
     "data": {
      "text/plain": [
       "torch.Size([32, 1, 170, 24])"
      ]
     },
     "execution_count": 11,
     "metadata": {},
     "output_type": "execute_result"
    }
   ],
   "source": [
    "eps_theta.size()"
   ]
  }
 ],
 "metadata": {
  "kernelspec": {
   "display_name": "cooling",
   "language": "python",
   "name": "python3"
  },
  "language_info": {
   "codemirror_mode": {
    "name": "ipython",
    "version": 3
   },
   "file_extension": ".py",
   "mimetype": "text/x-python",
   "name": "python",
   "nbconvert_exporter": "python",
   "pygments_lexer": "ipython3",
   "version": "3.8.18"
  }
 },
 "nbformat": 4,
 "nbformat_minor": 2
}
