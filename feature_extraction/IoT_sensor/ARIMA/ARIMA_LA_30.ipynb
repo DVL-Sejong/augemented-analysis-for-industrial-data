{
 "cells": [
  {
   "cell_type": "code",
   "execution_count": 1,
   "id": "de3fb51e",
   "metadata": {},
   "outputs": [],
   "source": [
    "import math\n",
    "import pandas as pd\n",
    "import numpy as np\n",
    "import numpy.linalg as la\n",
    "\n",
    "from sklearn.metrics import mean_squared_error, mean_absolute_error, mean_absolute_percentage_error\n",
    "from statsmodels.tsa.arima.model import ARIMA"
   ]
  },
  {
   "cell_type": "code",
   "execution_count": 2,
   "id": "f9cd5ee2",
   "metadata": {},
   "outputs": [],
   "source": [
    "def csvIndexToDatetime(path, start, freq):\n",
    "    df = pd.read_csv(path)\n",
    "    df = df.drop(columns=['Unnamed: 0'])\n",
    "    time_len = df.shape[0]\n",
    "    num_nodes = df.shape[1]\n",
    "    print(time_len, num_nodes)\n",
    "    rng = pd.date_range(start, periods=time_len, freq=freq)\n",
    "    idx = pd.DatetimeIndex(rng)\n",
    "    df.index = idx\n",
    "    return df, idx"
   ]
  },
  {
   "cell_type": "code",
   "execution_count": 3,
   "id": "91f72990",
   "metadata": {},
   "outputs": [],
   "source": [
    "def evaluation(a,b):\n",
    "    rmse = math.sqrt(mean_squared_error(a,b))\n",
    "    mae = mean_absolute_error(a, b)\n",
    "    mape = mean_absolute_percentage_error(a, b)\n",
    "    F_norm = la.norm(a-b)/la.norm(a)\n",
    "    return rmse, mae, mape, 1-F_norm"
   ]
  },
  {
   "cell_type": "code",
   "execution_count": 4,
   "id": "629b9843",
   "metadata": {},
   "outputs": [],
   "source": [
    "def predictARIMA(df, idx, timelag):\n",
    "    rmse, mae, mape, acc =  [], [], [], []\n",
    "    \n",
    "    for i in range(df.shape[1]):\n",
    "        print(i, end = ': ')\n",
    "        ts = df.iloc[:-timelag, i]\n",
    "        ts_log = np.log(ts)\n",
    "        ts_log = np.array(ts_log, dtype=np.float64)\n",
    "        where_are_inf = np.isinf(ts_log)\n",
    "        ts_log[where_are_inf] = 0\n",
    "        ts_log = pd.Series(ts_log)\n",
    "        ts_log.index = idx[:-timelag]\n",
    "        print('Data Load Finish', end = ', ')\n",
    "        \n",
    "        model = ARIMA(ts_log, order=[1,0,0])\n",
    "        properModel = model.fit()\n",
    "        predict_ts = properModel.forecast(steps=timelag)\n",
    "        log_recover = np.exp(predict_ts)\n",
    "        testX = org_df.iloc[-timelag:, 0]\n",
    "        print('Predict Finish', end = ', ')\n",
    "        \n",
    "        er_rmse, er_mae, er_mape, er_acc = evaluation(testX, log_recover)\n",
    "        print(round(er_rmse,4), round(er_mae,4), round(er_mape,4), round(er_acc,4), end = ' ')\n",
    "        \n",
    "        rmse.append(er_rmse)\n",
    "        mae.append(er_mae)\n",
    "        mape.append(er_mape)\n",
    "        acc.append(er_acc)\n",
    "        print('Evaluation Finish')\n",
    "        \n",
    "    acc = np.mat(acc)\n",
    "    acc[acc<0] = 0\n",
    "    print('RMSE: ' + str(np.mean(rmse)) + ', MAE: ' + str(np.mean(mae)) + ', MAPE: ' + str(np.mean(mape))  + '\\n'\n",
    "          + 'ACC: ' + str(np.mean(acc)))"
   ]
  },
  {
   "cell_type": "code",
   "execution_count": 5,
   "id": "e171bd77",
   "metadata": {
    "scrolled": true
   },
   "outputs": [],
   "source": [
    "path_0 = '../Data/METR-LA/speed_la_0.csv'\n",
    "path_5 = '../Data/METR-LA/speed_la_5.csv'\n",
    "path_10 = '../Data/METR-LA/speed_la_10.csv'\n",
    "path_20 = '../Data/METR-LA/speed_la_20.csv'"
   ]
  },
  {
   "cell_type": "code",
   "execution_count": 6,
   "id": "ee4dc616",
   "metadata": {},
   "outputs": [],
   "source": [
    "start = '1/3/2012'\n",
    "freq = '5min'"
   ]
  },
  {
   "cell_type": "code",
   "execution_count": 7,
   "id": "098fc151",
   "metadata": {},
   "outputs": [
    {
     "name": "stdout",
     "output_type": "stream",
     "text": [
      "34272 207\n"
     ]
    }
   ],
   "source": [
    "org_path = '../Data/METR-LA/speed_la_0.csv'\n",
    "org_df, org_idx = csvIndexToDatetime(org_path, start, freq)"
   ]
  },
  {
   "cell_type": "markdown",
   "id": "d6c9d0bd",
   "metadata": {},
   "source": [
    "### Unobserved Nodes = 0%"
   ]
  },
  {
   "cell_type": "code",
   "execution_count": 8,
   "id": "9eaf61b7",
   "metadata": {},
   "outputs": [
    {
     "name": "stdout",
     "output_type": "stream",
     "text": [
      "34272 207\n"
     ]
    },
    {
     "data": {
      "text/plain": [
       "0"
      ]
     },
     "execution_count": 8,
     "metadata": {},
     "output_type": "execute_result"
    }
   ],
   "source": [
    "df, idx = csvIndexToDatetime(path_0, start, freq)\n",
    "(df == 0).sum().sum()"
   ]
  },
  {
   "cell_type": "code",
   "execution_count": 9,
   "id": "60f8ff1e",
   "metadata": {
    "scrolled": true
   },
   "outputs": [
    {
     "name": "stdout",
     "output_type": "stream",
     "text": [
      "0: Data Load Finish, Predict Finish, 2.8892 2.2472 0.0356 0.9554 Evaluation Finish\n",
      "1: Data Load Finish, Predict Finish, 2.1718 1.8305 0.0286 0.9664 Evaluation Finish\n",
      "2: Data Load Finish, Predict Finish, 3.3639 2.5271 0.0402 0.948 Evaluation Finish\n",
      "3: Data Load Finish, Predict Finish, 7.5682 6.9666 0.1065 0.8831 Evaluation Finish\n",
      "4: Data Load Finish, Predict Finish, 28.8526 28.8018 0.4451 0.5542 Evaluation Finish\n",
      "5: Data Load Finish, Predict Finish, 14.2728 14.1574 0.2182 0.7795 Evaluation Finish\n",
      "6: Data Load Finish, Predict Finish, 3.3233 2.8358 0.0431 0.9486 Evaluation Finish\n",
      "7: Data Load Finish, Predict Finish, 2.5194 2.3456 0.0361 0.9611 Evaluation Finish\n",
      "8: Data Load Finish, Predict Finish, 2.8476 2.5759 0.0403 0.956 Evaluation Finish\n",
      "9: Data Load Finish, Predict Finish, 2.683 2.4746 0.038 0.9585 Evaluation Finish\n",
      "10: Data Load Finish, Predict Finish, 4.105 3.3582 0.0508 0.9366 Evaluation Finish\n",
      "11: Data Load Finish, Predict Finish, 2.6968 2.3654 0.0361 0.9583 Evaluation Finish\n",
      "12: Data Load Finish, Predict Finish, 11.073 10.5687 0.1621 0.8289 Evaluation Finish\n",
      "13: Data Load Finish, Predict Finish, 2.7788 2.1973 0.0347 0.9571 Evaluation Finish\n",
      "14: Data Load Finish, Predict Finish, 26.6715 26.6177 0.4112 0.5879 Evaluation Finish\n",
      "15: Data Load Finish, "
     ]
    },
    {
     "name": "stderr",
     "output_type": "stream",
     "text": [
      "/home/vislab/anaconda3/envs/test/lib/python3.8/site-packages/statsmodels/base/model.py:604: ConvergenceWarning: Maximum Likelihood optimization failed to converge. Check mle_retvals\n",
      "  warnings.warn(\"Maximum Likelihood optimization failed to \"\n"
     ]
    },
    {
     "name": "stdout",
     "output_type": "stream",
     "text": [
      "Predict Finish, 9.8408 9.4468 0.1449 0.8479 Evaluation Finish\n",
      "16: Data Load Finish, Predict Finish, 47.6079 47.571 0.7357 0.2644 Evaluation Finish\n",
      "17: Data Load Finish, Predict Finish, 9.6148 9.4047 0.1446 0.8514 Evaluation Finish\n",
      "18: Data Load Finish, Predict Finish, 12.9558 12.8245 0.1979 0.7998 Evaluation Finish\n",
      "19: Data Load Finish, Predict Finish, 7.9421 7.6918 0.1181 0.8773 Evaluation Finish\n",
      "20: Data Load Finish, Predict Finish, 3.5115 3.0682 0.0467 0.9457 Evaluation Finish\n",
      "21: Data Load Finish, Predict Finish, 6.9324 6.7225 0.1033 0.8929 Evaluation Finish\n",
      "22: Data Load Finish, Predict Finish, 12.5647 12.2839 0.1889 0.8059 Evaluation Finish\n",
      "23: Data Load Finish, Predict Finish, 6.8622 6.3428 0.0969 0.894 Evaluation Finish\n",
      "24: Data Load Finish, Predict Finish, 2.645 2.2188 0.0349 0.9591 Evaluation Finish\n",
      "25: Data Load Finish, Predict Finish, 10.0652 9.8425 0.1513 0.8445 Evaluation Finish\n",
      "26: Data Load Finish, Predict Finish, 9.2735 8.8383 0.1355 0.8567 Evaluation Finish\n",
      "27: Data Load Finish, Predict Finish, 3.4927 2.8867 0.0438 0.946 Evaluation Finish\n",
      "28: Data Load Finish, Predict Finish, 3.5741 2.8434 0.045 0.9448 Evaluation Finish\n",
      "29: Data Load Finish, Predict Finish, 5.3195 4.3854 0.0665 0.9178 Evaluation Finish\n",
      "30: Data Load Finish, Predict Finish, 4.6524 3.7619 0.057 0.9281 Evaluation Finish\n",
      "31: Data Load Finish, Predict Finish, 2.3411 1.8675 0.0295 0.9638 Evaluation Finish\n",
      "32: Data Load Finish, Predict Finish, 2.6545 2.1045 0.0332 0.959 Evaluation Finish\n",
      "33: Data Load Finish, Predict Finish, 7.4947 7.2404 0.1111 0.8842 Evaluation Finish\n",
      "34: Data Load Finish, Predict Finish, 5.3277 5.0066 0.0766 0.9177 Evaluation Finish\n",
      "35: Data Load Finish, Predict Finish, 9.1187 8.94 0.1378 0.8591 Evaluation Finish\n",
      "36: Data Load Finish, Predict Finish, 6.4395 6.2139 0.0954 0.9005 Evaluation Finish\n",
      "37: Data Load Finish, Predict Finish, 2.4647 2.252 0.0345 0.9619 Evaluation Finish\n",
      "38: Data Load Finish, Predict Finish, 8.4724 7.9427 0.1216 0.8691 Evaluation Finish\n",
      "39: Data Load Finish, Predict Finish, 5.0234 4.414 0.0672 0.9224 Evaluation Finish\n",
      "40: Data Load Finish, Predict Finish, 2.391 1.9741 0.031 0.9631 Evaluation Finish\n",
      "41: Data Load Finish, Predict Finish, 3.8464 3.1378 0.0475 0.9406 Evaluation Finish\n",
      "42: Data Load Finish, Predict Finish, 3.2783 2.4962 0.0396 0.9493 Evaluation Finish\n",
      "43: Data Load Finish, Predict Finish, 4.8238 4.0407 0.0613 0.9255 Evaluation Finish\n",
      "44: Data Load Finish, Predict Finish, 2.4675 1.9392 0.0307 0.9619 Evaluation Finish\n",
      "45: Data Load Finish, Predict Finish, 2.2311 2.0526 0.0318 0.9655 Evaluation Finish\n",
      "46: Data Load Finish, Predict Finish, 4.966 4.6644 0.0715 0.9233 Evaluation Finish\n",
      "47: Data Load Finish, Predict Finish, 7.2501 6.7231 0.1028 0.888 Evaluation Finish\n",
      "48: Data Load Finish, Predict Finish, 5.9552 5.2947 0.0807 0.908 Evaluation Finish\n",
      "49: Data Load Finish, Predict Finish, 3.1461 2.8157 0.043 0.9514 Evaluation Finish\n",
      "50: Data Load Finish, Predict Finish, 7.4078 7.2054 0.1107 0.8855 Evaluation Finish\n",
      "51: Data Load Finish, Predict Finish, 13.1635 12.915 0.1987 0.7966 Evaluation Finish\n",
      "52: Data Load Finish, Predict Finish, 3.2849 2.9476 0.0451 0.9492 Evaluation Finish\n",
      "53: Data Load Finish, Predict Finish, 7.365 6.8874 0.1054 0.8862 Evaluation Finish\n",
      "54: Data Load Finish, Predict Finish, 11.509 11.3624 0.1749 0.8222 Evaluation Finish\n",
      "55: Data Load Finish, Predict Finish, 4.2563 3.703 0.0563 0.9342 Evaluation Finish\n",
      "56: Data Load Finish, Predict Finish, 22.9673 22.853 0.3525 0.6451 Evaluation Finish\n",
      "57: Data Load Finish, Predict Finish, 6.5669 6.1841 0.0946 0.8985 Evaluation Finish\n",
      "58: Data Load Finish, Predict Finish, 7.3465 7.1466 0.1098 0.8865 Evaluation Finish\n",
      "59: Data Load Finish, Predict Finish, 3.2084 2.7536 0.0419 0.9504 Evaluation Finish\n",
      "60: Data Load Finish, Predict Finish, 12.2325 12.0402 0.1853 0.811 Evaluation Finish\n",
      "61: Data Load Finish, Predict Finish, 3.9515 3.4595 0.0528 0.9389 Evaluation Finish\n",
      "62: Data Load Finish, Predict Finish, 3.6988 3.2011 0.0487 0.9428 Evaluation Finish\n",
      "63: Data Load Finish, Predict Finish, 6.9015 6.4607 0.0988 0.8934 Evaluation Finish\n",
      "64: Data Load Finish, Predict Finish, 2.2807 2.0654 0.032 0.9648 Evaluation Finish\n",
      "65: Data Load Finish, Predict Finish, 6.0624 5.7489 0.0885 0.9063 Evaluation Finish\n",
      "66: Data Load Finish, Predict Finish, 2.3686 1.9019 0.03 0.9634 Evaluation Finish\n",
      "67: Data Load Finish, Predict Finish, 3.0817 2.2958 0.0365 0.9524 Evaluation Finish\n",
      "68: Data Load Finish, Predict Finish, 2.8521 2.2292 0.0353 0.9559 Evaluation Finish\n",
      "69: Data Load Finish, Predict Finish, 3.2436 3.0255 0.0468 0.9499 Evaluation Finish\n",
      "70: Data Load Finish, Predict Finish, 2.8392 2.5267 0.0386 0.9561 Evaluation Finish\n",
      "71: Data Load Finish, Predict Finish, 3.3308 2.966 0.0453 0.9485 Evaluation Finish\n",
      "72: Data Load Finish, Predict Finish, 5.6249 4.9519 0.0754 0.9131 Evaluation Finish\n",
      "73: Data Load Finish, Predict Finish, 6.7098 6.137 0.0937 0.8963 Evaluation Finish\n",
      "74: Data Load Finish, Predict Finish, 3.5963 2.8397 0.045 0.9444 Evaluation Finish\n",
      "75: Data Load Finish, Predict Finish, 17.4669 17.3193 0.2669 0.7301 Evaluation Finish\n",
      "76: Data Load Finish, Predict Finish, 10.2982 9.8481 0.1511 0.8409 Evaluation Finish\n",
      "77: Data Load Finish, Predict Finish, 6.0235 5.5251 0.0844 0.9069 Evaluation Finish\n",
      "78: Data Load Finish, Predict Finish, 2.1185 1.7659 0.0276 0.9673 Evaluation Finish\n",
      "79: Data Load Finish, Predict Finish, 2.7053 2.1084 0.0334 0.9582 Evaluation Finish\n",
      "80: Data Load Finish, Predict Finish, 3.2767 2.7175 0.0428 0.9494 Evaluation Finish\n",
      "81: Data Load Finish, Predict Finish, 3.8017 3.3181 0.0506 0.9413 Evaluation Finish\n",
      "82: Data Load Finish, Predict Finish, 5.2987 4.5793 0.0696 0.9181 Evaluation Finish\n",
      "83: Data Load Finish, Predict Finish, 2.2854 2.1113 0.0326 0.9647 Evaluation Finish\n",
      "84: Data Load Finish, Predict Finish, 7.4461 7.009 0.1073 0.8849 Evaluation Finish\n",
      "85: Data Load Finish, Predict Finish, 6.4104 6.1675 0.0946 0.9009 Evaluation Finish\n",
      "86: Data Load Finish, Predict Finish, 3.0387 2.7467 0.0424 0.953 Evaluation Finish\n",
      "87: Data Load Finish, Predict Finish, 3.695 3.1767 0.0483 0.9429 Evaluation Finish\n",
      "88: Data Load Finish, Predict Finish, 2.3822 2.1995 0.034 0.9632 Evaluation Finish\n",
      "89: Data Load Finish, Predict Finish, 2.6846 2.1221 0.0335 0.9585 Evaluation Finish\n",
      "90: Data Load Finish, Predict Finish, 3.4239 2.6528 0.0421 0.9471 Evaluation Finish\n",
      "91: Data Load Finish, "
     ]
    },
    {
     "name": "stderr",
     "output_type": "stream",
     "text": [
      "/home/vislab/anaconda3/envs/test/lib/python3.8/site-packages/statsmodels/base/model.py:604: ConvergenceWarning: Maximum Likelihood optimization failed to converge. Check mle_retvals\n",
      "  warnings.warn(\"Maximum Likelihood optimization failed to \"\n"
     ]
    },
    {
     "name": "stdout",
     "output_type": "stream",
     "text": [
      "Predict Finish, 12.7468 12.2969 0.1888 0.803 Evaluation Finish\n",
      "92: Data Load Finish, Predict Finish, 3.5819 2.8757 0.0455 0.9447 Evaluation Finish\n",
      "93: Data Load Finish, Predict Finish, 8.4262 8.1978 0.1259 0.8698 Evaluation Finish\n",
      "94: Data Load Finish, Predict Finish, 2.5519 2.2789 0.0356 0.9606 Evaluation Finish\n",
      "95: Data Load Finish, Predict Finish, 15.6063 15.498 0.2389 0.7589 Evaluation Finish\n",
      "96: Data Load Finish, Predict Finish, 4.0124 3.2417 0.0513 0.938 Evaluation Finish\n",
      "97: Data Load Finish, Predict Finish, 3.6082 2.6894 0.0428 0.9442 Evaluation Finish\n",
      "98: Data Load Finish, Predict Finish, 6.3219 5.8479 0.0894 0.9023 Evaluation Finish\n",
      "99: Data Load Finish, Predict Finish, 1.9513 1.5278 0.024 0.9698 Evaluation Finish\n",
      "100: Data Load Finish, Predict Finish, 6.1449 5.4684 0.0833 0.905 Evaluation Finish\n",
      "101: Data Load Finish, Predict Finish, 4.0646 3.3434 0.0507 0.9372 Evaluation Finish\n",
      "102: Data Load Finish, Predict Finish, 5.1826 4.6392 0.0707 0.9199 Evaluation Finish\n",
      "103: Data Load Finish, Predict Finish, 7.6035 7.3476 0.1127 0.8825 Evaluation Finish\n",
      "104: Data Load Finish, Predict Finish, 2.5558 2.2518 0.0353 0.9605 Evaluation Finish\n",
      "105: Data Load Finish, Predict Finish, 3.7352 3.0452 0.0482 0.9423 Evaluation Finish\n",
      "106: Data Load Finish, Predict Finish, 4.7631 4.4545 0.0682 0.9264 Evaluation Finish\n",
      "107: Data Load Finish, Predict Finish, 3.7482 3.1028 0.049 0.9421 Evaluation Finish\n",
      "108: Data Load Finish, Predict Finish, 2.404 1.8731 0.0297 0.9629 Evaluation Finish\n",
      "109: Data Load Finish, Predict Finish, 5.9038 5.4315 0.0829 0.9088 Evaluation Finish\n",
      "110: Data Load Finish, Predict Finish, 2.2708 1.9174 0.03 0.9649 Evaluation Finish\n",
      "111: Data Load Finish, Predict Finish, 2.3549 2.0132 0.0316 0.9636 Evaluation Finish\n",
      "112: Data Load Finish, Predict Finish, 6.5956 6.1006 0.0932 0.8981 Evaluation Finish\n",
      "113: Data Load Finish, Predict Finish, 4.2092 3.5963 0.0547 0.935 Evaluation Finish\n",
      "114: Data Load Finish, Predict Finish, 2.9063 2.2792 0.036 0.9551 Evaluation Finish\n",
      "115: Data Load Finish, Predict Finish, 2.4629 2.0355 0.032 0.9619 Evaluation Finish\n",
      "116: Data Load Finish, Predict Finish, 3.0287 2.4333 0.0384 0.9532 Evaluation Finish\n",
      "117: Data Load Finish, Predict Finish, 3.1854 2.4205 0.0384 0.9508 Evaluation Finish\n",
      "118: Data Load Finish, Predict Finish, 2.0045 1.5699 0.0247 0.969 Evaluation Finish\n",
      "119: Data Load Finish, Predict Finish, 2.8005 2.1694 0.0344 0.9567 Evaluation Finish\n",
      "120: Data Load Finish, Predict Finish, 5.4581 4.8511 0.0739 0.9157 Evaluation Finish\n",
      "121: Data Load Finish, Predict Finish, 7.2614 7.0584 0.1085 0.8878 Evaluation Finish\n",
      "122: Data Load Finish, Predict Finish, 5.2899 4.8868 0.0746 0.9183 Evaluation Finish\n",
      "123: Data Load Finish, Predict Finish, 1.7267 1.507 0.0234 0.9733 Evaluation Finish\n",
      "124: Data Load Finish, Predict Finish, 11.0572 10.8469 0.1668 0.8291 Evaluation Finish\n",
      "125: Data Load Finish, Predict Finish, 14.1464 13.9769 0.2152 0.7814 Evaluation Finish\n",
      "126: Data Load Finish, Predict Finish, 9.7807 9.633 0.1484 0.8489 Evaluation Finish\n",
      "127: Data Load Finish, Predict Finish, 3.2879 3.1202 0.0485 0.9492 Evaluation Finish\n",
      "128: Data Load Finish, Predict Finish, 2.8923 2.2859 0.0361 0.9553 Evaluation Finish\n",
      "129: Data Load Finish, Predict Finish, 3.7648 3.0691 0.0465 0.9418 Evaluation Finish\n",
      "130: Data Load Finish, Predict Finish, 3.4935 3.0542 0.0466 0.946 Evaluation Finish\n",
      "131: Data Load Finish, Predict Finish, 3.9145 3.3766 0.0514 0.9395 Evaluation Finish\n",
      "132: Data Load Finish, Predict Finish, 2.2914 1.8261 0.0289 0.9646 Evaluation Finish\n",
      "133: Data Load Finish, Predict Finish, 3.8652 3.2635 0.0496 0.9403 Evaluation Finish\n",
      "134: Data Load Finish, Predict Finish, 2.8299 2.5783 0.0398 0.9563 Evaluation Finish\n",
      "135: Data Load Finish, Predict Finish, 2.8161 2.5718 0.0401 0.9565 Evaluation Finish\n",
      "136: Data Load Finish, Predict Finish, 2.6224 2.106 0.0332 0.9595 Evaluation Finish\n",
      "137: Data Load Finish, Predict Finish, 4.953 3.9829 0.0603 0.9235 Evaluation Finish\n",
      "138: Data Load Finish, Predict Finish, 43.0977 43.0211 0.6655 0.3341 Evaluation Finish\n",
      "139: Data Load Finish, Predict Finish, 6.1746 5.5479 0.0846 0.9046 Evaluation Finish\n",
      "140: Data Load Finish, Predict Finish, 6.1604 5.418 0.0825 0.9048 Evaluation Finish\n",
      "141: Data Load Finish, Predict Finish, 3.3159 2.9539 0.0451 0.9488 Evaluation Finish\n",
      "142: Data Load Finish, Predict Finish, 2.4742 2.285 0.0353 0.9618 Evaluation Finish\n",
      "143: Data Load Finish, Predict Finish, 3.4681 3.033 0.0462 0.9464 Evaluation Finish\n",
      "144: Data Load Finish, Predict Finish, 9.2092 8.6969 0.1332 0.8577 Evaluation Finish\n",
      "145: Data Load Finish, Predict Finish, 3.943 3.1825 0.0504 0.9391 Evaluation Finish\n",
      "146: Data Load Finish, Predict Finish, 3.1519 2.8794 0.0444 0.9513 Evaluation Finish\n",
      "147: Data Load Finish, Predict Finish, 3.9615 3.3244 0.0504 0.9388 Evaluation Finish\n",
      "148: Data Load Finish, Predict Finish, 8.3279 8.0138 0.1229 0.8713 Evaluation Finish\n",
      "149: Data Load Finish, Predict Finish, 4.1079 3.2615 0.0516 0.9365 Evaluation Finish\n",
      "150: Data Load Finish, Predict Finish, 9.4376 9.1075 0.1398 0.8542 Evaluation Finish\n",
      "151: Data Load Finish, Predict Finish, 3.4503 2.9631 0.0451 0.9467 Evaluation Finish\n",
      "152: Data Load Finish, Predict Finish, 3.5731 2.9663 0.045 0.9448 Evaluation Finish\n",
      "153: Data Load Finish, Predict Finish, 4.4242 4.0896 0.0626 0.9316 Evaluation Finish\n",
      "154: Data Load Finish, Predict Finish, 8.9036 8.6462 0.1328 0.8624 Evaluation Finish\n",
      "155: Data Load Finish, Predict Finish, 9.9168 9.5328 0.1463 0.8468 Evaluation Finish\n",
      "156: Data Load Finish, Predict Finish, 11.2402 11.1123 0.1712 0.8263 Evaluation Finish\n",
      "157: Data Load Finish, Predict Finish, 2.4893 2.2194 0.0347 0.9615 Evaluation Finish\n",
      "158: Data Load Finish, Predict Finish, 3.5713 3.1893 0.049 0.9448 Evaluation Finish\n",
      "159: Data Load Finish, Predict Finish, 3.9853 3.5069 0.0539 0.9384 Evaluation Finish\n",
      "160: Data Load Finish, Predict Finish, 4.3183 4.0241 0.0621 0.9333 Evaluation Finish\n",
      "161: Data Load Finish, Predict Finish, 4.3745 3.5832 0.0566 0.9324 Evaluation Finish\n",
      "162: Data Load Finish, Predict Finish, 3.8002 2.9461 0.0467 0.9413 Evaluation Finish\n",
      "163: Data Load Finish, Predict Finish, 4.1185 3.7713 0.0581 0.9364 Evaluation Finish\n",
      "164: Data Load Finish, Predict Finish, 3.9846 3.4667 0.0529 0.9384 Evaluation Finish\n",
      "165: Data Load Finish, Predict Finish, 15.7793 15.623 0.2407 0.7562 Evaluation Finish\n",
      "166: Data Load Finish, Predict Finish, 4.009 2.9987 0.0476 0.9381 Evaluation Finish\n",
      "167: Data Load Finish, Predict Finish, 3.2827 2.4544 0.039 0.9493 Evaluation Finish\n",
      "168: Data Load Finish, Predict Finish, 2.3229 1.8987 0.0299 0.9641 Evaluation Finish\n",
      "169: Data Load Finish, Predict Finish, 2.5672 2.3442 0.0358 0.9603 Evaluation Finish\n",
      "170: Data Load Finish, Predict Finish, 13.7447 13.6408 0.2104 0.7876 Evaluation Finish\n",
      "171: Data Load Finish, Predict Finish, 2.3457 1.8773 0.0297 0.9638 Evaluation Finish\n",
      "172: Data Load Finish, Predict Finish, 9.2579 8.9432 0.1373 0.8569 Evaluation Finish\n",
      "173: Data Load Finish, Predict Finish, 2.1565 1.7242 0.0272 0.9667 Evaluation Finish\n",
      "174: Data Load Finish, Predict Finish, 4.9459 4.1946 0.0637 0.9236 Evaluation Finish\n",
      "175: Data Load Finish, Predict Finish, 5.4602 5.0769 0.0776 0.9156 Evaluation Finish\n",
      "176: Data Load Finish, Predict Finish, 2.1596 1.8602 0.029 0.9666 Evaluation Finish\n",
      "177: Data Load Finish, Predict Finish, 3.1855 2.7609 0.042 0.9508 Evaluation Finish\n",
      "178: Data Load Finish, Predict Finish, 2.3386 2.0166 0.0316 0.9639 Evaluation Finish\n",
      "179: Data Load Finish, Predict Finish, 9.0613 8.8225 0.1355 0.86 Evaluation Finish\n",
      "180: Data Load Finish, Predict Finish, 8.5774 8.3501 0.1283 0.8675 Evaluation Finish\n",
      "181: Data Load Finish, Predict Finish, 3.6186 2.9687 0.045 0.9441 Evaluation Finish\n",
      "182: Data Load Finish, Predict Finish, 2.5254 2.0346 0.0321 0.961 Evaluation Finish\n",
      "183: Data Load Finish, Predict Finish, 3.8647 3.2293 0.051 0.9403 Evaluation Finish\n",
      "184: Data Load Finish, Predict Finish, 5.2527 4.9722 0.0763 0.9188 Evaluation Finish\n",
      "185: Data Load Finish, Predict Finish, 2.368 2.0761 0.0325 0.9634 Evaluation Finish\n",
      "186: Data Load Finish, Predict Finish, 2.9346 2.5883 0.0395 0.9547 Evaluation Finish\n",
      "187: Data Load Finish, Predict Finish, 12.5532 12.1024 0.1858 0.806 Evaluation Finish\n"
     ]
    },
    {
     "name": "stdout",
     "output_type": "stream",
     "text": [
      "188: Data Load Finish, Predict Finish, 3.6586 2.718 0.0432 0.9435 Evaluation Finish\n",
      "189: Data Load Finish, Predict Finish, 4.8069 4.4824 0.0686 0.9257 Evaluation Finish\n",
      "190: Data Load Finish, Predict Finish, 6.1972 5.8211 0.089 0.9042 Evaluation Finish\n",
      "191: Data Load Finish, Predict Finish, 10.3626 9.8175 0.1505 0.8399 Evaluation Finish\n",
      "192: Data Load Finish, Predict Finish, 2.879 2.6296 0.0406 0.9555 Evaluation Finish\n",
      "193: Data Load Finish, Predict Finish, 6.9108 5.6915 0.0865 0.8932 Evaluation Finish\n",
      "194: Data Load Finish, Predict Finish, 11.9212 11.7938 0.1817 0.8158 Evaluation Finish\n",
      "195: Data Load Finish, Predict Finish, 4.3378 3.8423 0.0585 0.933 Evaluation Finish\n",
      "196: Data Load Finish, Predict Finish, 62.566 62.5415 0.967 0.0332 Evaluation Finish\n",
      "197: Data Load Finish, Predict Finish, 16.4308 16.021 0.2464 0.7461 Evaluation Finish\n",
      "198: Data Load Finish, Predict Finish, 4.7458 4.275 0.0652 0.9267 Evaluation Finish\n",
      "199: Data Load Finish, Predict Finish, 2.7569 2.5342 0.0389 0.9574 Evaluation Finish\n",
      "200: Data Load Finish, Predict Finish, 2.3768 2.1594 0.0331 0.9633 Evaluation Finish\n",
      "201: Data Load Finish, Predict Finish, 2.1414 1.7259 0.0271 0.9669 Evaluation Finish\n",
      "202: Data Load Finish, Predict Finish, 2.8943 2.4588 0.0374 0.9553 Evaluation Finish\n",
      "203: Data Load Finish, Predict Finish, 2.9406 2.2027 0.035 0.9546 Evaluation Finish\n",
      "204: Data Load Finish, Predict Finish, 2.6182 2.3928 0.0371 0.9595 Evaluation Finish\n",
      "205: Data Load Finish, Predict Finish, 3.1339 2.5872 0.0408 0.9516 Evaluation Finish\n",
      "206: Data Load Finish, Predict Finish, 11.4963 11.2698 0.1733 0.8224 Evaluation Finish\n",
      "RMSE: 6.276419165318466, MAE: 5.838185629531918, MAPE: 0.08996473613158432\n",
      "ACC: 0.9030163678304918\n"
     ]
    }
   ],
   "source": [
    "predictARIMA(df, idx, 6)"
   ]
  },
  {
   "cell_type": "markdown",
   "id": "c1acb05c",
   "metadata": {},
   "source": [
    "### Unobserved Nodes = 5%"
   ]
  },
  {
   "cell_type": "code",
   "execution_count": 10,
   "id": "8a799433",
   "metadata": {},
   "outputs": [
    {
     "name": "stdout",
     "output_type": "stream",
     "text": [
      "34272 207\n"
     ]
    },
    {
     "data": {
      "text/plain": [
       "342720"
      ]
     },
     "execution_count": 10,
     "metadata": {},
     "output_type": "execute_result"
    }
   ],
   "source": [
    "df, idx = csvIndexToDatetime(path_5, start, freq)\n",
    "(df == 0).sum().sum()"
   ]
  },
  {
   "cell_type": "code",
   "execution_count": 11,
   "id": "83ef8625",
   "metadata": {
    "scrolled": false
   },
   "outputs": [
    {
     "name": "stdout",
     "output_type": "stream",
     "text": [
      "0: Data Load Finish, Predict Finish, 2.8892 2.2472 0.0356 0.9554 Evaluation Finish\n",
      "1: Data Load Finish, Predict Finish, 2.1718 1.8305 0.0286 0.9664 Evaluation Finish\n",
      "2: Data Load Finish, Predict Finish, 3.3639 2.5271 0.0402 0.948 Evaluation Finish\n",
      "3: Data Load Finish, Predict Finish, 7.5682 6.9666 0.1065 0.8831 Evaluation Finish\n",
      "4: Data Load Finish, Predict Finish, 28.8526 28.8018 0.4451 0.5542 Evaluation Finish\n",
      "5: Data Load Finish, Predict Finish, 14.2728 14.1574 0.2182 0.7795 Evaluation Finish\n",
      "6: Data Load Finish, Predict Finish, 3.3233 2.8358 0.0431 0.9486 Evaluation Finish\n",
      "7: Data Load Finish, Predict Finish, 2.5194 2.3456 0.0361 0.9611 Evaluation Finish\n",
      "8: Data Load Finish, Predict Finish, 2.8476 2.5759 0.0403 0.956 Evaluation Finish\n",
      "9: Data Load Finish, Predict Finish, 2.683 2.4746 0.038 0.9585 Evaluation Finish\n",
      "10: Data Load Finish, Predict Finish, 4.105 3.3582 0.0508 0.9366 Evaluation Finish\n",
      "11: Data Load Finish, Predict Finish, 2.6968 2.3654 0.0361 0.9583 Evaluation Finish\n",
      "12: Data Load Finish, Predict Finish, 11.073 10.5687 0.1621 0.8289 Evaluation Finish\n",
      "13: Data Load Finish, Predict Finish, 2.7788 2.1973 0.0347 0.9571 Evaluation Finish\n",
      "14: Data Load Finish, Predict Finish, 26.6715 26.6177 0.4112 0.5879 Evaluation Finish\n",
      "15: Data Load Finish, "
     ]
    },
    {
     "name": "stderr",
     "output_type": "stream",
     "text": [
      "/home/vislab/anaconda3/envs/test/lib/python3.8/site-packages/statsmodels/base/model.py:604: ConvergenceWarning: Maximum Likelihood optimization failed to converge. Check mle_retvals\n",
      "  warnings.warn(\"Maximum Likelihood optimization failed to \"\n"
     ]
    },
    {
     "name": "stdout",
     "output_type": "stream",
     "text": [
      "Predict Finish, 9.8408 9.4468 0.1449 0.8479 Evaluation Finish\n",
      "16: Data Load Finish, Predict Finish, 47.6079 47.571 0.7357 0.2644 Evaluation Finish\n",
      "17: Data Load Finish, Predict Finish, 9.6148 9.4047 0.1446 0.8514 Evaluation Finish\n",
      "18: Data Load Finish, Predict Finish, 12.9558 12.8245 0.1979 0.7998 Evaluation Finish\n",
      "19: Data Load Finish, Predict Finish, 7.9421 7.6918 0.1181 0.8773 Evaluation Finish\n",
      "20: Data Load Finish, Predict Finish, 3.5115 3.0682 0.0467 0.9457 Evaluation Finish\n",
      "21: Data Load Finish, Predict Finish, 6.9324 6.7225 0.1033 0.8929 Evaluation Finish\n",
      "22: Data Load Finish, Predict Finish, 12.5647 12.2839 0.1889 0.8059 Evaluation Finish\n",
      "23: Data Load Finish, Predict Finish, 6.8622 6.3428 0.0969 0.894 Evaluation Finish\n",
      "24: Data Load Finish, Predict Finish, 2.645 2.2188 0.0349 0.9591 Evaluation Finish\n",
      "25: Data Load Finish, Predict Finish, 10.0652 9.8425 0.1513 0.8445 Evaluation Finish\n",
      "26: Data Load Finish, Predict Finish, 9.2735 8.8383 0.1355 0.8567 Evaluation Finish\n",
      "27: Data Load Finish, Predict Finish, 3.4927 2.8867 0.0438 0.946 Evaluation Finish\n",
      "28: Data Load Finish, Predict Finish, 3.5741 2.8434 0.045 0.9448 Evaluation Finish\n",
      "29: Data Load Finish, Predict Finish, 5.3195 4.3854 0.0665 0.9178 Evaluation Finish\n",
      "30: Data Load Finish, "
     ]
    },
    {
     "name": "stderr",
     "output_type": "stream",
     "text": [
      "/home/vislab/anaconda3/envs/test/lib/python3.8/site-packages/pandas/core/arraylike.py:364: RuntimeWarning: divide by zero encountered in log\n",
      "  result = getattr(ufunc, method)(*inputs, **kwargs)\n"
     ]
    },
    {
     "name": "stdout",
     "output_type": "stream",
     "text": [
      "Predict Finish, 63.7168 63.6852 0.9845 0.0154 Evaluation Finish\n",
      "31: Data Load Finish, Predict Finish, 2.3411 1.8675 0.0295 0.9638 Evaluation Finish\n",
      "32: Data Load Finish, Predict Finish, 2.6545 2.1045 0.0332 0.959 Evaluation Finish\n",
      "33: Data Load Finish, Predict Finish, 7.4947 7.2404 0.1111 0.8842 Evaluation Finish\n",
      "34: Data Load Finish, Predict Finish, 5.3277 5.0066 0.0766 0.9177 Evaluation Finish\n",
      "35: Data Load Finish, Predict Finish, 9.1187 8.94 0.1378 0.8591 Evaluation Finish\n",
      "36: Data Load Finish, Predict Finish, 6.4395 6.2139 0.0954 0.9005 Evaluation Finish\n",
      "37: Data Load Finish, Predict Finish, 2.4647 2.252 0.0345 0.9619 Evaluation Finish\n",
      "38: Data Load Finish, Predict Finish, 8.4724 7.9427 0.1216 0.8691 Evaluation Finish\n",
      "39: Data Load Finish, Predict Finish, 5.0234 4.414 0.0672 0.9224 Evaluation Finish\n",
      "40: Data Load Finish, Predict Finish, 2.391 1.9741 0.031 0.9631 Evaluation Finish\n",
      "41: Data Load Finish, Predict Finish, 3.8464 3.1378 0.0475 0.9406 Evaluation Finish\n",
      "42: Data Load Finish, Predict Finish, 3.2783 2.4962 0.0396 0.9493 Evaluation Finish\n",
      "43: Data Load Finish, Predict Finish, 4.8238 4.0407 0.0613 0.9255 Evaluation Finish\n",
      "44: Data Load Finish, Predict Finish, 2.4675 1.9392 0.0307 0.9619 Evaluation Finish\n",
      "45: Data Load Finish, Predict Finish, 2.2311 2.0526 0.0318 0.9655 Evaluation Finish\n",
      "46: Data Load Finish, Predict Finish, 4.966 4.6644 0.0715 0.9233 Evaluation Finish\n",
      "47: Data Load Finish, Predict Finish, 7.2501 6.7231 0.1028 0.888 Evaluation Finish\n",
      "48: Data Load Finish, Predict Finish, 5.9552 5.2947 0.0807 0.908 Evaluation Finish\n",
      "49: Data Load Finish, Predict Finish, 3.1461 2.8157 0.043 0.9514 Evaluation Finish\n",
      "50: Data Load Finish, Predict Finish, 7.4078 7.2054 0.1107 0.8855 Evaluation Finish\n",
      "51: Data Load Finish, Predict Finish, 13.1635 12.915 0.1987 0.7966 Evaluation Finish\n",
      "52: Data Load Finish, Predict Finish, 3.2849 2.9476 0.0451 0.9492 Evaluation Finish\n",
      "53: Data Load Finish, Predict Finish, 7.365 6.8874 0.1054 0.8862 Evaluation Finish\n",
      "54: Data Load Finish, Predict Finish, 11.509 11.3624 0.1749 0.8222 Evaluation Finish\n",
      "55: Data Load Finish, Predict Finish, 4.2563 3.703 0.0563 0.9342 Evaluation Finish\n",
      "56: Data Load Finish, Predict Finish, 22.9673 22.853 0.3525 0.6451 Evaluation Finish\n",
      "57: Data Load Finish, Predict Finish, 6.5669 6.1841 0.0946 0.8985 Evaluation Finish\n",
      "58: Data Load Finish, Predict Finish, 7.3465 7.1466 0.1098 0.8865 Evaluation Finish\n",
      "59: Data Load Finish, Predict Finish, 3.2084 2.7536 0.0419 0.9504 Evaluation Finish\n",
      "60: Data Load Finish, Predict Finish, 12.2325 12.0402 0.1853 0.811 Evaluation Finish\n",
      "61: Data Load Finish, Predict Finish, 3.9515 3.4595 0.0528 0.9389 Evaluation Finish\n",
      "62: Data Load Finish, Predict Finish, 3.6988 3.2011 0.0487 0.9428 Evaluation Finish\n",
      "63: Data Load Finish, Predict Finish, 6.9015 6.4607 0.0988 0.8934 Evaluation Finish\n",
      "64: Data Load Finish, Predict Finish, 2.2807 2.0654 0.032 0.9648 Evaluation Finish\n",
      "65: Data Load Finish, Predict Finish, 6.0624 5.7489 0.0885 0.9063 Evaluation Finish\n",
      "66: Data Load Finish, Predict Finish, 2.3686 1.9019 0.03 0.9634 Evaluation Finish\n",
      "67: Data Load Finish, Predict Finish, 3.0817 2.2958 0.0365 0.9524 Evaluation Finish\n",
      "68: Data Load Finish, "
     ]
    },
    {
     "name": "stderr",
     "output_type": "stream",
     "text": [
      "/home/vislab/anaconda3/envs/test/lib/python3.8/site-packages/pandas/core/arraylike.py:364: RuntimeWarning: divide by zero encountered in log\n",
      "  result = getattr(ufunc, method)(*inputs, **kwargs)\n"
     ]
    },
    {
     "name": "stdout",
     "output_type": "stream",
     "text": [
      "Predict Finish, 63.7168 63.6852 0.9845 0.0154 Evaluation Finish\n",
      "69: Data Load Finish, Predict Finish, 3.2436 3.0255 0.0468 0.9499 Evaluation Finish\n",
      "70: Data Load Finish, Predict Finish, 2.8392 2.5267 0.0386 0.9561 Evaluation Finish\n",
      "71: Data Load Finish, Predict Finish, 3.3308 2.966 0.0453 0.9485 Evaluation Finish\n",
      "72: Data Load Finish, Predict Finish, 5.6249 4.9519 0.0754 0.9131 Evaluation Finish\n",
      "73: Data Load Finish, Predict Finish, 6.7098 6.137 0.0937 0.8963 Evaluation Finish\n",
      "74: Data Load Finish, Predict Finish, 3.5963 2.8397 0.045 0.9444 Evaluation Finish\n",
      "75: Data Load Finish, Predict Finish, 17.4669 17.3193 0.2669 0.7301 Evaluation Finish\n",
      "76: Data Load Finish, Predict Finish, 10.2982 9.8481 0.1511 0.8409 Evaluation Finish\n",
      "77: Data Load Finish, Predict Finish, 6.0235 5.5251 0.0844 0.9069 Evaluation Finish\n",
      "78: Data Load Finish, Predict Finish, 2.1185 1.7659 0.0276 0.9673 Evaluation Finish\n",
      "79: Data Load Finish, Predict Finish, 2.7053 2.1084 0.0334 0.9582 Evaluation Finish\n",
      "80: Data Load Finish, Predict Finish, 3.2767 2.7175 0.0428 0.9494 Evaluation Finish\n",
      "81: Data Load Finish, Predict Finish, 3.8017 3.3181 0.0506 0.9413 Evaluation Finish\n",
      "82: Data Load Finish, Predict Finish, 5.2987 4.5793 0.0696 0.9181 Evaluation Finish\n",
      "83: Data Load Finish, Predict Finish, 2.2854 2.1113 0.0326 0.9647 Evaluation Finish\n",
      "84: Data Load Finish, Predict Finish, 7.4461 7.009 0.1073 0.8849 Evaluation Finish\n",
      "85: Data Load Finish, Predict Finish, 6.4104 6.1675 0.0946 0.9009 Evaluation Finish\n",
      "86: Data Load Finish, Predict Finish, 3.0387 2.7467 0.0424 0.953 Evaluation Finish\n",
      "87: Data Load Finish, Predict Finish, 3.695 3.1767 0.0483 0.9429 Evaluation Finish\n",
      "88: Data Load Finish, Predict Finish, 2.3822 2.1995 0.034 0.9632 Evaluation Finish\n",
      "89: Data Load Finish, Predict Finish, 2.6846 2.1221 0.0335 0.9585 Evaluation Finish\n",
      "90: Data Load Finish, Predict Finish, 3.4239 2.6528 0.0421 0.9471 Evaluation Finish\n",
      "91: Data Load Finish, "
     ]
    },
    {
     "name": "stderr",
     "output_type": "stream",
     "text": [
      "/home/vislab/anaconda3/envs/test/lib/python3.8/site-packages/statsmodels/base/model.py:604: ConvergenceWarning: Maximum Likelihood optimization failed to converge. Check mle_retvals\n",
      "  warnings.warn(\"Maximum Likelihood optimization failed to \"\n"
     ]
    },
    {
     "name": "stdout",
     "output_type": "stream",
     "text": [
      "Predict Finish, 12.7468 12.2969 0.1888 0.803 Evaluation Finish\n",
      "92: Data Load Finish, Predict Finish, 3.5819 2.8757 0.0455 0.9447 Evaluation Finish\n",
      "93: Data Load Finish, Predict Finish, 8.4262 8.1978 0.1259 0.8698 Evaluation Finish\n",
      "94: Data Load Finish, Predict Finish, 2.5519 2.2789 0.0356 0.9606 Evaluation Finish\n",
      "95: Data Load Finish, Predict Finish, 15.6063 15.498 0.2389 0.7589 Evaluation Finish\n",
      "96: Data Load Finish, Predict Finish, 4.0124 3.2417 0.0513 0.938 Evaluation Finish\n",
      "97: Data Load Finish, Predict Finish, 3.6082 2.6894 0.0428 0.9442 Evaluation Finish\n",
      "98: Data Load Finish, Predict Finish, 6.3219 5.8479 0.0894 0.9023 Evaluation Finish\n",
      "99: Data Load Finish, Predict Finish, 1.9513 1.5278 0.024 0.9698 Evaluation Finish\n",
      "100: Data Load Finish, Predict Finish, 6.1449 5.4684 0.0833 0.905 Evaluation Finish\n",
      "101: Data Load Finish, Predict Finish, 4.0646 3.3434 0.0507 0.9372 Evaluation Finish\n",
      "102: Data Load Finish, Predict Finish, 5.1826 4.6392 0.0707 0.9199 Evaluation Finish\n",
      "103: Data Load Finish, Predict Finish, 7.6035 7.3476 0.1127 0.8825 Evaluation Finish\n",
      "104: Data Load Finish, Predict Finish, 2.5558 2.2518 0.0353 0.9605 Evaluation Finish\n",
      "105: Data Load Finish, Predict Finish, 3.7352 3.0452 0.0482 0.9423 Evaluation Finish\n",
      "106: Data Load Finish, Predict Finish, 4.7631 4.4545 0.0682 0.9264 Evaluation Finish\n",
      "107: Data Load Finish, Predict Finish, 3.7482 3.1028 0.049 0.9421 Evaluation Finish\n",
      "108: Data Load Finish, Predict Finish, 2.404 1.8731 0.0297 0.9629 Evaluation Finish\n",
      "109: Data Load Finish, Predict Finish, 5.9038 5.4315 0.0829 0.9088 Evaluation Finish\n",
      "110: Data Load Finish, Predict Finish, 2.2708 1.9174 0.03 0.9649 Evaluation Finish\n",
      "111: Data Load Finish, Predict Finish, 2.3549 2.0132 0.0316 0.9636 Evaluation Finish\n",
      "112: Data Load Finish, Predict Finish, 6.5956 6.1006 0.0932 0.8981 Evaluation Finish\n",
      "113: Data Load Finish, Predict Finish, 4.2092 3.5963 0.0547 0.935 Evaluation Finish\n",
      "114: Data Load Finish, Predict Finish, 2.9063 2.2792 0.036 0.9551 Evaluation Finish\n",
      "115: Data Load Finish, Predict Finish, 2.4629 2.0355 0.032 0.9619 Evaluation Finish\n",
      "116: Data Load Finish, Predict Finish, 3.0287 2.4333 0.0384 0.9532 Evaluation Finish\n",
      "117: Data Load Finish, Predict Finish, 3.1854 2.4205 0.0384 0.9508 Evaluation Finish\n",
      "118: Data Load Finish, Predict Finish, 2.0045 1.5699 0.0247 0.969 Evaluation Finish\n",
      "119: Data Load Finish, Predict Finish, 2.8005 2.1694 0.0344 0.9567 Evaluation Finish\n",
      "120: Data Load Finish, "
     ]
    },
    {
     "name": "stderr",
     "output_type": "stream",
     "text": [
      "/home/vislab/anaconda3/envs/test/lib/python3.8/site-packages/pandas/core/arraylike.py:364: RuntimeWarning: divide by zero encountered in log\n",
      "  result = getattr(ufunc, method)(*inputs, **kwargs)\n"
     ]
    },
    {
     "name": "stdout",
     "output_type": "stream",
     "text": [
      "Predict Finish, 63.7168 63.6852 0.9845 0.0154 Evaluation Finish\n",
      "121: Data Load Finish, Predict Finish, 7.2614 7.0584 0.1085 0.8878 Evaluation Finish\n",
      "122: Data Load Finish, Predict Finish, 5.2899 4.8868 0.0746 0.9183 Evaluation Finish\n",
      "123: Data Load Finish, Predict Finish, 1.7267 1.507 0.0234 0.9733 Evaluation Finish\n",
      "124: Data Load Finish, Predict Finish, 11.0572 10.8469 0.1668 0.8291 Evaluation Finish\n",
      "125: Data Load Finish, "
     ]
    },
    {
     "name": "stderr",
     "output_type": "stream",
     "text": [
      "/home/vislab/anaconda3/envs/test/lib/python3.8/site-packages/pandas/core/arraylike.py:364: RuntimeWarning: divide by zero encountered in log\n",
      "  result = getattr(ufunc, method)(*inputs, **kwargs)\n"
     ]
    },
    {
     "name": "stdout",
     "output_type": "stream",
     "text": [
      "Predict Finish, 63.7168 63.6852 0.9845 0.0154 Evaluation Finish\n",
      "126: Data Load Finish, Predict Finish, 9.7807 9.633 0.1484 0.8489 Evaluation Finish\n",
      "127: Data Load Finish, Predict Finish, 3.2879 3.1202 0.0485 0.9492 Evaluation Finish\n",
      "128: Data Load Finish, Predict Finish, 2.8923 2.2859 0.0361 0.9553 Evaluation Finish\n",
      "129: Data Load Finish, Predict Finish, 3.7648 3.0691 0.0465 0.9418 Evaluation Finish\n",
      "130: Data Load Finish, Predict Finish, 3.4935 3.0542 0.0466 0.946 Evaluation Finish\n",
      "131: Data Load Finish, Predict Finish, 3.9145 3.3766 0.0514 0.9395 Evaluation Finish\n",
      "132: Data Load Finish, Predict Finish, 2.2914 1.8261 0.0289 0.9646 Evaluation Finish\n",
      "133: Data Load Finish, Predict Finish, 3.8652 3.2635 0.0496 0.9403 Evaluation Finish\n",
      "134: Data Load Finish, Predict Finish, 2.8299 2.5783 0.0398 0.9563 Evaluation Finish\n",
      "135: Data Load Finish, Predict Finish, 2.8161 2.5718 0.0401 0.9565 Evaluation Finish\n",
      "136: Data Load Finish, Predict Finish, 2.6224 2.106 0.0332 0.9595 Evaluation Finish\n",
      "137: Data Load Finish, Predict Finish, 4.953 3.9829 0.0603 0.9235 Evaluation Finish\n",
      "138: Data Load Finish, Predict Finish, 43.0977 43.0211 0.6655 0.3341 Evaluation Finish\n",
      "139: Data Load Finish, Predict Finish, 6.1746 5.5479 0.0846 0.9046 Evaluation Finish\n",
      "140: Data Load Finish, Predict Finish, 6.1604 5.418 0.0825 0.9048 Evaluation Finish\n",
      "141: Data Load Finish, "
     ]
    },
    {
     "name": "stderr",
     "output_type": "stream",
     "text": [
      "/home/vislab/anaconda3/envs/test/lib/python3.8/site-packages/pandas/core/arraylike.py:364: RuntimeWarning: divide by zero encountered in log\n",
      "  result = getattr(ufunc, method)(*inputs, **kwargs)\n"
     ]
    },
    {
     "name": "stdout",
     "output_type": "stream",
     "text": [
      "Predict Finish, 63.7168 63.6852 0.9845 0.0154 Evaluation Finish\n",
      "142: Data Load Finish, Predict Finish, 2.4742 2.285 0.0353 0.9618 Evaluation Finish\n",
      "143: Data Load Finish, "
     ]
    },
    {
     "name": "stderr",
     "output_type": "stream",
     "text": [
      "/home/vislab/anaconda3/envs/test/lib/python3.8/site-packages/pandas/core/arraylike.py:364: RuntimeWarning: divide by zero encountered in log\n",
      "  result = getattr(ufunc, method)(*inputs, **kwargs)\n"
     ]
    },
    {
     "name": "stdout",
     "output_type": "stream",
     "text": [
      "Predict Finish, 63.7168 63.6852 0.9845 0.0154 Evaluation Finish\n",
      "144: Data Load Finish, "
     ]
    },
    {
     "name": "stderr",
     "output_type": "stream",
     "text": [
      "/home/vislab/anaconda3/envs/test/lib/python3.8/site-packages/pandas/core/arraylike.py:364: RuntimeWarning: divide by zero encountered in log\n",
      "  result = getattr(ufunc, method)(*inputs, **kwargs)\n"
     ]
    },
    {
     "name": "stdout",
     "output_type": "stream",
     "text": [
      "Predict Finish, 63.7168 63.6852 0.9845 0.0154 Evaluation Finish\n",
      "145: Data Load Finish, Predict Finish, 3.943 3.1825 0.0504 0.9391 Evaluation Finish\n",
      "146: Data Load Finish, Predict Finish, 3.1519 2.8794 0.0444 0.9513 Evaluation Finish\n",
      "147: Data Load Finish, Predict Finish, 3.9615 3.3244 0.0504 0.9388 Evaluation Finish\n",
      "148: Data Load Finish, Predict Finish, 8.3279 8.0138 0.1229 0.8713 Evaluation Finish\n",
      "149: Data Load Finish, Predict Finish, 4.1079 3.2615 0.0516 0.9365 Evaluation Finish\n",
      "150: Data Load Finish, Predict Finish, 9.4376 9.1075 0.1398 0.8542 Evaluation Finish\n",
      "151: Data Load Finish, Predict Finish, 3.4503 2.9631 0.0451 0.9467 Evaluation Finish\n",
      "152: Data Load Finish, Predict Finish, 3.5731 2.9663 0.045 0.9448 Evaluation Finish\n",
      "153: Data Load Finish, Predict Finish, 4.4242 4.0896 0.0626 0.9316 Evaluation Finish\n",
      "154: Data Load Finish, "
     ]
    },
    {
     "name": "stderr",
     "output_type": "stream",
     "text": [
      "/home/vislab/anaconda3/envs/test/lib/python3.8/site-packages/pandas/core/arraylike.py:364: RuntimeWarning: divide by zero encountered in log\n",
      "  result = getattr(ufunc, method)(*inputs, **kwargs)\n"
     ]
    },
    {
     "name": "stdout",
     "output_type": "stream",
     "text": [
      "Predict Finish, 63.7168 63.6852 0.9845 0.0154 Evaluation Finish\n",
      "155: Data Load Finish, Predict Finish, 9.9168 9.5328 0.1463 0.8468 Evaluation Finish\n",
      "156: Data Load Finish, Predict Finish, 11.2402 11.1123 0.1712 0.8263 Evaluation Finish\n",
      "157: Data Load Finish, "
     ]
    },
    {
     "name": "stderr",
     "output_type": "stream",
     "text": [
      "/home/vislab/anaconda3/envs/test/lib/python3.8/site-packages/pandas/core/arraylike.py:364: RuntimeWarning: divide by zero encountered in log\n",
      "  result = getattr(ufunc, method)(*inputs, **kwargs)\n"
     ]
    },
    {
     "name": "stdout",
     "output_type": "stream",
     "text": [
      "Predict Finish, 63.7168 63.6852 0.9845 0.0154 Evaluation Finish\n",
      "158: Data Load Finish, Predict Finish, 3.5713 3.1893 0.049 0.9448 Evaluation Finish\n",
      "159: Data Load Finish, Predict Finish, 3.9853 3.5069 0.0539 0.9384 Evaluation Finish\n",
      "160: Data Load Finish, Predict Finish, 4.3183 4.0241 0.0621 0.9333 Evaluation Finish\n",
      "161: Data Load Finish, Predict Finish, 4.3745 3.5832 0.0566 0.9324 Evaluation Finish\n",
      "162: Data Load Finish, Predict Finish, 3.8002 2.9461 0.0467 0.9413 Evaluation Finish\n",
      "163: Data Load Finish, Predict Finish, 4.1185 3.7713 0.0581 0.9364 Evaluation Finish\n",
      "164: Data Load Finish, Predict Finish, 3.9846 3.4667 0.0529 0.9384 Evaluation Finish\n",
      "165: Data Load Finish, Predict Finish, 15.7793 15.623 0.2407 0.7562 Evaluation Finish\n",
      "166: Data Load Finish, Predict Finish, 4.009 2.9987 0.0476 0.9381 Evaluation Finish\n",
      "167: Data Load Finish, Predict Finish, 3.2827 2.4544 0.039 0.9493 Evaluation Finish\n",
      "168: Data Load Finish, Predict Finish, 2.3229 1.8987 0.0299 0.9641 Evaluation Finish\n",
      "169: Data Load Finish, Predict Finish, 2.5672 2.3442 0.0358 0.9603 Evaluation Finish\n",
      "170: Data Load Finish, "
     ]
    },
    {
     "name": "stderr",
     "output_type": "stream",
     "text": [
      "/home/vislab/anaconda3/envs/test/lib/python3.8/site-packages/pandas/core/arraylike.py:364: RuntimeWarning: divide by zero encountered in log\n",
      "  result = getattr(ufunc, method)(*inputs, **kwargs)\n"
     ]
    },
    {
     "name": "stdout",
     "output_type": "stream",
     "text": [
      "Predict Finish, 63.7168 63.6852 0.9845 0.0154 Evaluation Finish\n",
      "171: Data Load Finish, Predict Finish, 2.3457 1.8773 0.0297 0.9638 Evaluation Finish\n",
      "172: Data Load Finish, Predict Finish, 9.2579 8.9432 0.1373 0.8569 Evaluation Finish\n",
      "173: Data Load Finish, Predict Finish, 2.1565 1.7242 0.0272 0.9667 Evaluation Finish\n",
      "174: Data Load Finish, Predict Finish, 4.9459 4.1946 0.0637 0.9236 Evaluation Finish\n",
      "175: Data Load Finish, Predict Finish, 5.4602 5.0769 0.0776 0.9156 Evaluation Finish\n",
      "176: Data Load Finish, Predict Finish, 2.1596 1.8602 0.029 0.9666 Evaluation Finish\n",
      "177: Data Load Finish, Predict Finish, 3.1855 2.7609 0.042 0.9508 Evaluation Finish\n",
      "178: Data Load Finish, Predict Finish, 2.3386 2.0166 0.0316 0.9639 Evaluation Finish\n",
      "179: Data Load Finish, Predict Finish, 9.0613 8.8225 0.1355 0.86 Evaluation Finish\n",
      "180: Data Load Finish, Predict Finish, 8.5774 8.3501 0.1283 0.8675 Evaluation Finish\n",
      "181: Data Load Finish, Predict Finish, 3.6186 2.9687 0.045 0.9441 Evaluation Finish\n",
      "182: Data Load Finish, Predict Finish, 2.5254 2.0346 0.0321 0.961 Evaluation Finish\n",
      "183: Data Load Finish, Predict Finish, 3.8647 3.2293 0.051 0.9403 Evaluation Finish\n",
      "184: Data Load Finish, Predict Finish, 5.2527 4.9722 0.0763 0.9188 Evaluation Finish\n",
      "185: Data Load Finish, Predict Finish, 2.368 2.0761 0.0325 0.9634 Evaluation Finish\n",
      "186: Data Load Finish, Predict Finish, 2.9346 2.5883 0.0395 0.9547 Evaluation Finish\n",
      "187: Data Load Finish, Predict Finish, 12.5532 12.1024 0.1858 0.806 Evaluation Finish\n",
      "188: Data Load Finish, Predict Finish, 3.6586 2.718 0.0432 0.9435 Evaluation Finish\n",
      "189: Data Load Finish, Predict Finish, 4.8069 4.4824 0.0686 0.9257 Evaluation Finish\n",
      "190: Data Load Finish, Predict Finish, 6.1972 5.8211 0.089 0.9042 Evaluation Finish\n",
      "191: Data Load Finish, Predict Finish, 10.3626 9.8175 0.1505 0.8399 Evaluation Finish\n",
      "192: Data Load Finish, Predict Finish, 2.879 2.6296 0.0406 0.9555 Evaluation Finish\n",
      "193: Data Load Finish, Predict Finish, 6.9108 5.6915 0.0865 0.8932 Evaluation Finish\n",
      "194: Data Load Finish, Predict Finish, 11.9212 11.7938 0.1817 0.8158 Evaluation Finish\n",
      "195: Data Load Finish, Predict Finish, 4.3378 3.8423 0.0585 0.933 Evaluation Finish\n",
      "196: Data Load Finish, Predict Finish, 62.566 62.5415 0.967 0.0332 Evaluation Finish\n",
      "197: Data Load Finish, Predict Finish, 16.4308 16.021 0.2464 0.7461 Evaluation Finish\n",
      "198: Data Load Finish, Predict Finish, 4.7458 4.275 0.0652 0.9267 Evaluation Finish\n",
      "199: Data Load Finish, Predict Finish, 2.7569 2.5342 0.0389 0.9574 Evaluation Finish\n",
      "200: Data Load Finish, Predict Finish, 2.3768 2.1594 0.0331 0.9633 Evaluation Finish\n",
      "201: Data Load Finish, Predict Finish, 2.1414 1.7259 0.0271 0.9669 Evaluation Finish\n",
      "202: Data Load Finish, Predict Finish, 2.8943 2.4588 0.0374 0.9553 Evaluation Finish\n",
      "203: Data Load Finish, Predict Finish, 2.9406 2.2027 0.035 0.9546 Evaluation Finish\n",
      "204: Data Load Finish, Predict Finish, 2.6182 2.3928 0.0371 0.9595 Evaluation Finish\n",
      "205: Data Load Finish, Predict Finish, 3.1339 2.5872 0.0408 0.9516 Evaluation Finish\n",
      "206: Data Load Finish, Predict Finish, 11.4963 11.2698 0.1733 0.8224 Evaluation Finish\n",
      "RMSE: 9.024863547139999, MAE: 8.605541009785297, MAPE: 0.13277384125745822\n",
      "ACC: 0.8605472286694514\n"
     ]
    }
   ],
   "source": [
    "predictARIMA(df, idx, 6)"
   ]
  },
  {
   "cell_type": "markdown",
   "id": "dcb35d64",
   "metadata": {},
   "source": [
    "### Unobserved Nodes = 10%"
   ]
  },
  {
   "cell_type": "code",
   "execution_count": 12,
   "id": "83ad788d",
   "metadata": {},
   "outputs": [
    {
     "name": "stdout",
     "output_type": "stream",
     "text": [
      "34272 207\n"
     ]
    },
    {
     "data": {
      "text/plain": [
       "685440"
      ]
     },
     "execution_count": 12,
     "metadata": {},
     "output_type": "execute_result"
    }
   ],
   "source": [
    "df, idx = csvIndexToDatetime(path_10, start, freq)\n",
    "(df == 0).sum().sum()"
   ]
  },
  {
   "cell_type": "code",
   "execution_count": 13,
   "id": "010ff399",
   "metadata": {
    "scrolled": false
   },
   "outputs": [
    {
     "name": "stdout",
     "output_type": "stream",
     "text": [
      "0: Data Load Finish, Predict Finish, 2.8892 2.2472 0.0356 0.9554 Evaluation Finish\n",
      "1: Data Load Finish, Predict Finish, 2.1718 1.8305 0.0286 0.9664 Evaluation Finish\n",
      "2: Data Load Finish, Predict Finish, 3.3639 2.5271 0.0402 0.948 Evaluation Finish\n",
      "3: Data Load Finish, Predict Finish, 7.5682 6.9666 0.1065 0.8831 Evaluation Finish\n",
      "4: Data Load Finish, Predict Finish, 28.8526 28.8018 0.4451 0.5542 Evaluation Finish\n",
      "5: Data Load Finish, Predict Finish, 14.2728 14.1574 0.2182 0.7795 Evaluation Finish\n",
      "6: Data Load Finish, "
     ]
    },
    {
     "name": "stderr",
     "output_type": "stream",
     "text": [
      "/home/vislab/anaconda3/envs/test/lib/python3.8/site-packages/pandas/core/arraylike.py:364: RuntimeWarning: divide by zero encountered in log\n",
      "  result = getattr(ufunc, method)(*inputs, **kwargs)\n"
     ]
    },
    {
     "name": "stdout",
     "output_type": "stream",
     "text": [
      "Predict Finish, 63.7168 63.6852 0.9845 0.0154 Evaluation Finish\n",
      "7: Data Load Finish, Predict Finish, 2.5194 2.3456 0.0361 0.9611 Evaluation Finish\n",
      "8: Data Load Finish, Predict Finish, 2.8476 2.5759 0.0403 0.956 Evaluation Finish\n",
      "9: Data Load Finish, "
     ]
    },
    {
     "name": "stderr",
     "output_type": "stream",
     "text": [
      "/home/vislab/anaconda3/envs/test/lib/python3.8/site-packages/pandas/core/arraylike.py:364: RuntimeWarning: divide by zero encountered in log\n",
      "  result = getattr(ufunc, method)(*inputs, **kwargs)\n"
     ]
    },
    {
     "name": "stdout",
     "output_type": "stream",
     "text": [
      "Predict Finish, 63.7168 63.6852 0.9845 0.0154 Evaluation Finish\n",
      "10: Data Load Finish, Predict Finish, 4.105 3.3582 0.0508 0.9366 Evaluation Finish\n",
      "11: Data Load Finish, "
     ]
    },
    {
     "name": "stderr",
     "output_type": "stream",
     "text": [
      "/home/vislab/anaconda3/envs/test/lib/python3.8/site-packages/pandas/core/arraylike.py:364: RuntimeWarning: divide by zero encountered in log\n",
      "  result = getattr(ufunc, method)(*inputs, **kwargs)\n"
     ]
    },
    {
     "name": "stdout",
     "output_type": "stream",
     "text": [
      "Predict Finish, 63.7168 63.6852 0.9845 0.0154 Evaluation Finish\n",
      "12: Data Load Finish, Predict Finish, 11.073 10.5687 0.1621 0.8289 Evaluation Finish\n",
      "13: Data Load Finish, Predict Finish, 2.7788 2.1973 0.0347 0.9571 Evaluation Finish\n",
      "14: Data Load Finish, Predict Finish, 26.6715 26.6177 0.4112 0.5879 Evaluation Finish\n",
      "15: Data Load Finish, "
     ]
    },
    {
     "name": "stderr",
     "output_type": "stream",
     "text": [
      "/home/vislab/anaconda3/envs/test/lib/python3.8/site-packages/pandas/core/arraylike.py:364: RuntimeWarning: divide by zero encountered in log\n",
      "  result = getattr(ufunc, method)(*inputs, **kwargs)\n"
     ]
    },
    {
     "name": "stdout",
     "output_type": "stream",
     "text": [
      "Predict Finish, 63.7168 63.6852 0.9845 0.0154 Evaluation Finish\n",
      "16: Data Load Finish, Predict Finish, 47.6079 47.571 0.7357 0.2644 Evaluation Finish\n",
      "17: Data Load Finish, Predict Finish, 9.6148 9.4047 0.1446 0.8514 Evaluation Finish\n",
      "18: Data Load Finish, Predict Finish, 12.9558 12.8245 0.1979 0.7998 Evaluation Finish\n",
      "19: Data Load Finish, Predict Finish, 7.9421 7.6918 0.1181 0.8773 Evaluation Finish\n",
      "20: Data Load Finish, Predict Finish, 3.5115 3.0682 0.0467 0.9457 Evaluation Finish\n",
      "21: Data Load Finish, Predict Finish, 6.9324 6.7225 0.1033 0.8929 Evaluation Finish\n",
      "22: Data Load Finish, Predict Finish, 12.5647 12.2839 0.1889 0.8059 Evaluation Finish\n",
      "23: Data Load Finish, "
     ]
    },
    {
     "name": "stderr",
     "output_type": "stream",
     "text": [
      "/home/vislab/anaconda3/envs/test/lib/python3.8/site-packages/pandas/core/arraylike.py:364: RuntimeWarning: divide by zero encountered in log\n",
      "  result = getattr(ufunc, method)(*inputs, **kwargs)\n"
     ]
    },
    {
     "name": "stdout",
     "output_type": "stream",
     "text": [
      "Predict Finish, 63.7168 63.6852 0.9845 0.0154 Evaluation Finish\n",
      "24: Data Load Finish, Predict Finish, 2.645 2.2188 0.0349 0.9591 Evaluation Finish\n",
      "25: Data Load Finish, Predict Finish, 10.0652 9.8425 0.1513 0.8445 Evaluation Finish\n",
      "26: Data Load Finish, Predict Finish, 9.2735 8.8383 0.1355 0.8567 Evaluation Finish\n",
      "27: Data Load Finish, "
     ]
    },
    {
     "name": "stderr",
     "output_type": "stream",
     "text": [
      "/home/vislab/anaconda3/envs/test/lib/python3.8/site-packages/pandas/core/arraylike.py:364: RuntimeWarning: divide by zero encountered in log\n",
      "  result = getattr(ufunc, method)(*inputs, **kwargs)\n"
     ]
    },
    {
     "name": "stdout",
     "output_type": "stream",
     "text": [
      "Predict Finish, 63.7168 63.6852 0.9845 0.0154 Evaluation Finish\n",
      "28: Data Load Finish, Predict Finish, 3.5741 2.8434 0.045 0.9448 Evaluation Finish\n",
      "29: Data Load Finish, Predict Finish, 5.3195 4.3854 0.0665 0.9178 Evaluation Finish\n",
      "30: Data Load Finish, Predict Finish, 4.6524 3.7619 0.057 0.9281 Evaluation Finish\n",
      "31: Data Load Finish, Predict Finish, 2.3411 1.8675 0.0295 0.9638 Evaluation Finish\n",
      "32: Data Load Finish, Predict Finish, 2.6545 2.1045 0.0332 0.959 Evaluation Finish\n",
      "33: Data Load Finish, Predict Finish, 7.4947 7.2404 0.1111 0.8842 Evaluation Finish\n",
      "34: Data Load Finish, Predict Finish, 5.3277 5.0066 0.0766 0.9177 Evaluation Finish\n",
      "35: Data Load Finish, Predict Finish, 9.1187 8.94 0.1378 0.8591 Evaluation Finish\n",
      "36: Data Load Finish, Predict Finish, 6.4395 6.2139 0.0954 0.9005 Evaluation Finish\n",
      "37: Data Load Finish, Predict Finish, 2.4647 2.252 0.0345 0.9619 Evaluation Finish\n",
      "38: Data Load Finish, Predict Finish, 8.4724 7.9427 0.1216 0.8691 Evaluation Finish\n",
      "39: Data Load Finish, Predict Finish, 5.0234 4.414 0.0672 0.9224 Evaluation Finish\n",
      "40: Data Load Finish, Predict Finish, 2.391 1.9741 0.031 0.9631 Evaluation Finish\n",
      "41: Data Load Finish, Predict Finish, 3.8464 3.1378 0.0475 0.9406 Evaluation Finish\n",
      "42: Data Load Finish, Predict Finish, 3.2783 2.4962 0.0396 0.9493 Evaluation Finish\n",
      "43: Data Load Finish, Predict Finish, 4.8238 4.0407 0.0613 0.9255 Evaluation Finish\n",
      "44: Data Load Finish, Predict Finish, 2.4675 1.9392 0.0307 0.9619 Evaluation Finish\n",
      "45: Data Load Finish, Predict Finish, 2.2311 2.0526 0.0318 0.9655 Evaluation Finish\n",
      "46: Data Load Finish, Predict Finish, 4.966 4.6644 0.0715 0.9233 Evaluation Finish\n",
      "47: Data Load Finish, Predict Finish, 7.2501 6.7231 0.1028 0.888 Evaluation Finish\n",
      "48: Data Load Finish, Predict Finish, 5.9552 5.2947 0.0807 0.908 Evaluation Finish\n",
      "49: Data Load Finish, Predict Finish, 3.1461 2.8157 0.043 0.9514 Evaluation Finish\n",
      "50: Data Load Finish, Predict Finish, 7.4078 7.2054 0.1107 0.8855 Evaluation Finish\n",
      "51: Data Load Finish, "
     ]
    },
    {
     "name": "stderr",
     "output_type": "stream",
     "text": [
      "/home/vislab/anaconda3/envs/test/lib/python3.8/site-packages/pandas/core/arraylike.py:364: RuntimeWarning: divide by zero encountered in log\n",
      "  result = getattr(ufunc, method)(*inputs, **kwargs)\n"
     ]
    },
    {
     "name": "stdout",
     "output_type": "stream",
     "text": [
      "Predict Finish, 63.7168 63.6852 0.9845 0.0154 Evaluation Finish\n",
      "52: Data Load Finish, Predict Finish, 3.2849 2.9476 0.0451 0.9492 Evaluation Finish\n",
      "53: Data Load Finish, "
     ]
    },
    {
     "name": "stderr",
     "output_type": "stream",
     "text": [
      "/home/vislab/anaconda3/envs/test/lib/python3.8/site-packages/pandas/core/arraylike.py:364: RuntimeWarning: divide by zero encountered in log\n",
      "  result = getattr(ufunc, method)(*inputs, **kwargs)\n"
     ]
    },
    {
     "name": "stdout",
     "output_type": "stream",
     "text": [
      "Predict Finish, 63.7168 63.6852 0.9845 0.0154 Evaluation Finish\n",
      "54: Data Load Finish, Predict Finish, 11.509 11.3624 0.1749 0.8222 Evaluation Finish\n",
      "55: Data Load Finish, Predict Finish, 4.2563 3.703 0.0563 0.9342 Evaluation Finish\n",
      "56: Data Load Finish, Predict Finish, 22.9673 22.853 0.3525 0.6451 Evaluation Finish\n",
      "57: Data Load Finish, Predict Finish, 6.5669 6.1841 0.0946 0.8985 Evaluation Finish\n",
      "58: Data Load Finish, Predict Finish, 7.3465 7.1466 0.1098 0.8865 Evaluation Finish\n",
      "59: Data Load Finish, "
     ]
    },
    {
     "name": "stderr",
     "output_type": "stream",
     "text": [
      "/home/vislab/anaconda3/envs/test/lib/python3.8/site-packages/pandas/core/arraylike.py:364: RuntimeWarning: divide by zero encountered in log\n",
      "  result = getattr(ufunc, method)(*inputs, **kwargs)\n"
     ]
    },
    {
     "name": "stdout",
     "output_type": "stream",
     "text": [
      "Predict Finish, 63.7168 63.6852 0.9845 0.0154 Evaluation Finish\n",
      "60: Data Load Finish, Predict Finish, 12.2325 12.0402 0.1853 0.811 Evaluation Finish\n",
      "61: Data Load Finish, Predict Finish, 3.9515 3.4595 0.0528 0.9389 Evaluation Finish\n",
      "62: Data Load Finish, Predict Finish, 3.6988 3.2011 0.0487 0.9428 Evaluation Finish\n",
      "63: Data Load Finish, Predict Finish, 6.9015 6.4607 0.0988 0.8934 Evaluation Finish\n",
      "64: Data Load Finish, Predict Finish, 2.2807 2.0654 0.032 0.9648 Evaluation Finish\n",
      "65: Data Load Finish, Predict Finish, 6.0624 5.7489 0.0885 0.9063 Evaluation Finish\n",
      "66: Data Load Finish, "
     ]
    },
    {
     "name": "stderr",
     "output_type": "stream",
     "text": [
      "/home/vislab/anaconda3/envs/test/lib/python3.8/site-packages/pandas/core/arraylike.py:364: RuntimeWarning: divide by zero encountered in log\n",
      "  result = getattr(ufunc, method)(*inputs, **kwargs)\n"
     ]
    },
    {
     "name": "stdout",
     "output_type": "stream",
     "text": [
      "Predict Finish, 63.7168 63.6852 0.9845 0.0154 Evaluation Finish\n",
      "67: Data Load Finish, Predict Finish, 3.0817 2.2958 0.0365 0.9524 Evaluation Finish\n",
      "68: Data Load Finish, Predict Finish, 2.8521 2.2292 0.0353 0.9559 Evaluation Finish\n",
      "69: Data Load Finish, Predict Finish, 3.2436 3.0255 0.0468 0.9499 Evaluation Finish\n",
      "70: Data Load Finish, Predict Finish, 2.8392 2.5267 0.0386 0.9561 Evaluation Finish\n",
      "71: Data Load Finish, Predict Finish, 3.3308 2.966 0.0453 0.9485 Evaluation Finish\n",
      "72: Data Load Finish, Predict Finish, 5.6249 4.9519 0.0754 0.9131 Evaluation Finish\n",
      "73: Data Load Finish, Predict Finish, 6.7098 6.137 0.0937 0.8963 Evaluation Finish\n",
      "74: Data Load Finish, Predict Finish, 3.5963 2.8397 0.045 0.9444 Evaluation Finish\n",
      "75: Data Load Finish, Predict Finish, 17.4669 17.3193 0.2669 0.7301 Evaluation Finish\n",
      "76: Data Load Finish, Predict Finish, 10.2982 9.8481 0.1511 0.8409 Evaluation Finish\n",
      "77: Data Load Finish, Predict Finish, 6.0235 5.5251 0.0844 0.9069 Evaluation Finish\n",
      "78: Data Load Finish, Predict Finish, 2.1185 1.7659 0.0276 0.9673 Evaluation Finish\n",
      "79: Data Load Finish, Predict Finish, 2.7053 2.1084 0.0334 0.9582 Evaluation Finish\n",
      "80: Data Load Finish, Predict Finish, 3.2767 2.7175 0.0428 0.9494 Evaluation Finish\n",
      "81: Data Load Finish, Predict Finish, 3.8017 3.3181 0.0506 0.9413 Evaluation Finish\n",
      "82: Data Load Finish, "
     ]
    },
    {
     "name": "stderr",
     "output_type": "stream",
     "text": [
      "/home/vislab/anaconda3/envs/test/lib/python3.8/site-packages/pandas/core/arraylike.py:364: RuntimeWarning: divide by zero encountered in log\n",
      "  result = getattr(ufunc, method)(*inputs, **kwargs)\n"
     ]
    },
    {
     "name": "stdout",
     "output_type": "stream",
     "text": [
      "Predict Finish, 63.7168 63.6852 0.9845 0.0154 Evaluation Finish\n",
      "83: Data Load Finish, Predict Finish, 2.2854 2.1113 0.0326 0.9647 Evaluation Finish\n",
      "84: Data Load Finish, Predict Finish, 7.4461 7.009 0.1073 0.8849 Evaluation Finish\n",
      "85: Data Load Finish, Predict Finish, 6.4104 6.1675 0.0946 0.9009 Evaluation Finish\n",
      "86: Data Load Finish, Predict Finish, 3.0387 2.7467 0.0424 0.953 Evaluation Finish\n",
      "87: Data Load Finish, Predict Finish, 3.695 3.1767 0.0483 0.9429 Evaluation Finish\n",
      "88: Data Load Finish, Predict Finish, 2.3822 2.1995 0.034 0.9632 Evaluation Finish\n",
      "89: Data Load Finish, Predict Finish, 2.6846 2.1221 0.0335 0.9585 Evaluation Finish\n",
      "90: Data Load Finish, Predict Finish, 3.4239 2.6528 0.0421 0.9471 Evaluation Finish\n",
      "91: Data Load Finish, "
     ]
    },
    {
     "name": "stderr",
     "output_type": "stream",
     "text": [
      "/home/vislab/anaconda3/envs/test/lib/python3.8/site-packages/statsmodels/base/model.py:604: ConvergenceWarning: Maximum Likelihood optimization failed to converge. Check mle_retvals\n",
      "  warnings.warn(\"Maximum Likelihood optimization failed to \"\n"
     ]
    },
    {
     "name": "stdout",
     "output_type": "stream",
     "text": [
      "Predict Finish, 12.7468 12.2969 0.1888 0.803 Evaluation Finish\n",
      "92: Data Load Finish, Predict Finish, 3.5819 2.8757 0.0455 0.9447 Evaluation Finish\n",
      "93: Data Load Finish, Predict Finish, 8.4262 8.1978 0.1259 0.8698 Evaluation Finish\n",
      "94: Data Load Finish, Predict Finish, 2.5519 2.2789 0.0356 0.9606 Evaluation Finish\n",
      "95: Data Load Finish, Predict Finish, 15.6063 15.498 0.2389 0.7589 Evaluation Finish\n",
      "96: Data Load Finish, Predict Finish, 4.0124 3.2417 0.0513 0.938 Evaluation Finish\n",
      "97: Data Load Finish, Predict Finish, 3.6082 2.6894 0.0428 0.9442 Evaluation Finish\n",
      "98: Data Load Finish, Predict Finish, 6.3219 5.8479 0.0894 0.9023 Evaluation Finish\n",
      "99: Data Load Finish, Predict Finish, 1.9513 1.5278 0.024 0.9698 Evaluation Finish\n",
      "100: Data Load Finish, Predict Finish, 6.1449 5.4684 0.0833 0.905 Evaluation Finish\n",
      "101: Data Load Finish, Predict Finish, 4.0646 3.3434 0.0507 0.9372 Evaluation Finish\n",
      "102: Data Load Finish, Predict Finish, 5.1826 4.6392 0.0707 0.9199 Evaluation Finish\n",
      "103: Data Load Finish, Predict Finish, 7.6035 7.3476 0.1127 0.8825 Evaluation Finish\n",
      "104: Data Load Finish, Predict Finish, 2.5558 2.2518 0.0353 0.9605 Evaluation Finish\n",
      "105: Data Load Finish, Predict Finish, 3.7352 3.0452 0.0482 0.9423 Evaluation Finish\n",
      "106: Data Load Finish, Predict Finish, 4.7631 4.4545 0.0682 0.9264 Evaluation Finish\n",
      "107: Data Load Finish, Predict Finish, 3.7482 3.1028 0.049 0.9421 Evaluation Finish\n",
      "108: Data Load Finish, Predict Finish, 2.404 1.8731 0.0297 0.9629 Evaluation Finish\n",
      "109: Data Load Finish, Predict Finish, 5.9038 5.4315 0.0829 0.9088 Evaluation Finish\n",
      "110: Data Load Finish, Predict Finish, 2.2708 1.9174 0.03 0.9649 Evaluation Finish\n",
      "111: Data Load Finish, Predict Finish, 2.3549 2.0132 0.0316 0.9636 Evaluation Finish\n",
      "112: Data Load Finish, Predict Finish, 6.5956 6.1006 0.0932 0.8981 Evaluation Finish\n",
      "113: Data Load Finish, Predict Finish, 4.2092 3.5963 0.0547 0.935 Evaluation Finish\n",
      "114: Data Load Finish, Predict Finish, 2.9063 2.2792 0.036 0.9551 Evaluation Finish\n",
      "115: Data Load Finish, Predict Finish, 2.4629 2.0355 0.032 0.9619 Evaluation Finish\n",
      "116: Data Load Finish, "
     ]
    },
    {
     "name": "stderr",
     "output_type": "stream",
     "text": [
      "/home/vislab/anaconda3/envs/test/lib/python3.8/site-packages/pandas/core/arraylike.py:364: RuntimeWarning: divide by zero encountered in log\n",
      "  result = getattr(ufunc, method)(*inputs, **kwargs)\n"
     ]
    },
    {
     "name": "stdout",
     "output_type": "stream",
     "text": [
      "Predict Finish, 63.7168 63.6852 0.9845 0.0154 Evaluation Finish\n",
      "117: Data Load Finish, Predict Finish, 3.1854 2.4205 0.0384 0.9508 Evaluation Finish\n",
      "118: Data Load Finish, Predict Finish, 2.0045 1.5699 0.0247 0.969 Evaluation Finish\n",
      "119: Data Load Finish, Predict Finish, 2.8005 2.1694 0.0344 0.9567 Evaluation Finish\n",
      "120: Data Load Finish, Predict Finish, 5.4581 4.8511 0.0739 0.9157 Evaluation Finish\n",
      "121: Data Load Finish, Predict Finish, 7.2614 7.0584 0.1085 0.8878 Evaluation Finish\n",
      "122: Data Load Finish, Predict Finish, 5.2899 4.8868 0.0746 0.9183 Evaluation Finish\n",
      "123: Data Load Finish, Predict Finish, 1.7267 1.507 0.0234 0.9733 Evaluation Finish\n",
      "124: Data Load Finish, Predict Finish, 11.0572 10.8469 0.1668 0.8291 Evaluation Finish\n",
      "125: Data Load Finish, Predict Finish, 14.1464 13.9769 0.2152 0.7814 Evaluation Finish\n",
      "126: Data Load Finish, Predict Finish, 9.7807 9.633 0.1484 0.8489 Evaluation Finish\n",
      "127: Data Load Finish, Predict Finish, 3.2879 3.1202 0.0485 0.9492 Evaluation Finish\n",
      "128: Data Load Finish, Predict Finish, 2.8923 2.2859 0.0361 0.9553 Evaluation Finish\n",
      "129: Data Load Finish, Predict Finish, 3.7648 3.0691 0.0465 0.9418 Evaluation Finish\n",
      "130: Data Load Finish, Predict Finish, 3.4935 3.0542 0.0466 0.946 Evaluation Finish\n",
      "131: Data Load Finish, "
     ]
    },
    {
     "name": "stderr",
     "output_type": "stream",
     "text": [
      "/home/vislab/anaconda3/envs/test/lib/python3.8/site-packages/pandas/core/arraylike.py:364: RuntimeWarning: divide by zero encountered in log\n",
      "  result = getattr(ufunc, method)(*inputs, **kwargs)\n"
     ]
    },
    {
     "name": "stdout",
     "output_type": "stream",
     "text": [
      "Predict Finish, 63.7168 63.6852 0.9845 0.0154 Evaluation Finish\n",
      "132: Data Load Finish, Predict Finish, 2.2914 1.8261 0.0289 0.9646 Evaluation Finish\n",
      "133: Data Load Finish, Predict Finish, 3.8652 3.2635 0.0496 0.9403 Evaluation Finish\n",
      "134: Data Load Finish, Predict Finish, 2.8299 2.5783 0.0398 0.9563 Evaluation Finish\n",
      "135: Data Load Finish, Predict Finish, 2.8161 2.5718 0.0401 0.9565 Evaluation Finish\n",
      "136: Data Load Finish, Predict Finish, 2.6224 2.106 0.0332 0.9595 Evaluation Finish\n",
      "137: Data Load Finish, Predict Finish, 4.953 3.9829 0.0603 0.9235 Evaluation Finish\n",
      "138: Data Load Finish, Predict Finish, 43.0977 43.0211 0.6655 0.3341 Evaluation Finish\n",
      "139: Data Load Finish, Predict Finish, 6.1746 5.5479 0.0846 0.9046 Evaluation Finish\n",
      "140: Data Load Finish, Predict Finish, 6.1604 5.418 0.0825 0.9048 Evaluation Finish\n",
      "141: Data Load Finish, Predict Finish, 3.3159 2.9539 0.0451 0.9488 Evaluation Finish\n",
      "142: Data Load Finish, Predict Finish, 2.4742 2.285 0.0353 0.9618 Evaluation Finish\n",
      "143: Data Load Finish, Predict Finish, 3.4681 3.033 0.0462 0.9464 Evaluation Finish\n",
      "144: Data Load Finish, Predict Finish, 9.2092 8.6969 0.1332 0.8577 Evaluation Finish\n",
      "145: Data Load Finish, Predict Finish, 3.943 3.1825 0.0504 0.9391 Evaluation Finish\n",
      "146: Data Load Finish, "
     ]
    },
    {
     "name": "stderr",
     "output_type": "stream",
     "text": [
      "/home/vislab/anaconda3/envs/test/lib/python3.8/site-packages/pandas/core/arraylike.py:364: RuntimeWarning: divide by zero encountered in log\n",
      "  result = getattr(ufunc, method)(*inputs, **kwargs)\n"
     ]
    },
    {
     "name": "stdout",
     "output_type": "stream",
     "text": [
      "Predict Finish, 63.7168 63.6852 0.9845 0.0154 Evaluation Finish\n",
      "147: Data Load Finish, Predict Finish, 3.9615 3.3244 0.0504 0.9388 Evaluation Finish\n",
      "148: Data Load Finish, Predict Finish, 8.3279 8.0138 0.1229 0.8713 Evaluation Finish\n",
      "149: Data Load Finish, Predict Finish, 4.1079 3.2615 0.0516 0.9365 Evaluation Finish\n",
      "150: Data Load Finish, Predict Finish, 9.4376 9.1075 0.1398 0.8542 Evaluation Finish\n",
      "151: Data Load Finish, Predict Finish, 3.4503 2.9631 0.0451 0.9467 Evaluation Finish\n",
      "152: Data Load Finish, Predict Finish, 3.5731 2.9663 0.045 0.9448 Evaluation Finish\n",
      "153: Data Load Finish, Predict Finish, 4.4242 4.0896 0.0626 0.9316 Evaluation Finish\n",
      "154: Data Load Finish, Predict Finish, 8.9036 8.6462 0.1328 0.8624 Evaluation Finish\n",
      "155: Data Load Finish, Predict Finish, 9.9168 9.5328 0.1463 0.8468 Evaluation Finish\n",
      "156: Data Load Finish, Predict Finish, 11.2402 11.1123 0.1712 0.8263 Evaluation Finish\n",
      "157: Data Load Finish, Predict Finish, 2.4893 2.2194 0.0347 0.9615 Evaluation Finish\n",
      "158: Data Load Finish, Predict Finish, 3.5713 3.1893 0.049 0.9448 Evaluation Finish\n",
      "159: Data Load Finish, Predict Finish, 3.9853 3.5069 0.0539 0.9384 Evaluation Finish\n",
      "160: Data Load Finish, Predict Finish, 4.3183 4.0241 0.0621 0.9333 Evaluation Finish\n",
      "161: Data Load Finish, Predict Finish, 4.3745 3.5832 0.0566 0.9324 Evaluation Finish\n",
      "162: Data Load Finish, Predict Finish, 3.8002 2.9461 0.0467 0.9413 Evaluation Finish\n",
      "163: Data Load Finish, Predict Finish, 4.1185 3.7713 0.0581 0.9364 Evaluation Finish\n",
      "164: Data Load Finish, "
     ]
    },
    {
     "name": "stderr",
     "output_type": "stream",
     "text": [
      "/home/vislab/anaconda3/envs/test/lib/python3.8/site-packages/pandas/core/arraylike.py:364: RuntimeWarning: divide by zero encountered in log\n",
      "  result = getattr(ufunc, method)(*inputs, **kwargs)\n"
     ]
    },
    {
     "name": "stdout",
     "output_type": "stream",
     "text": [
      "Predict Finish, 63.7168 63.6852 0.9845 0.0154 Evaluation Finish\n",
      "165: Data Load Finish, Predict Finish, 15.7793 15.623 0.2407 0.7562 Evaluation Finish\n",
      "166: Data Load Finish, Predict Finish, 4.009 2.9987 0.0476 0.9381 Evaluation Finish\n",
      "167: Data Load Finish, Predict Finish, 3.2827 2.4544 0.039 0.9493 Evaluation Finish\n",
      "168: Data Load Finish, Predict Finish, 2.3229 1.8987 0.0299 0.9641 Evaluation Finish\n",
      "169: Data Load Finish, Predict Finish, 2.5672 2.3442 0.0358 0.9603 Evaluation Finish\n",
      "170: Data Load Finish, Predict Finish, 13.7447 13.6408 0.2104 0.7876 Evaluation Finish\n",
      "171: Data Load Finish, Predict Finish, 2.3457 1.8773 0.0297 0.9638 Evaluation Finish\n",
      "172: Data Load Finish, Predict Finish, 9.2579 8.9432 0.1373 0.8569 Evaluation Finish\n",
      "173: Data Load Finish, Predict Finish, 2.1565 1.7242 0.0272 0.9667 Evaluation Finish\n",
      "174: Data Load Finish, Predict Finish, 4.9459 4.1946 0.0637 0.9236 Evaluation Finish\n",
      "175: Data Load Finish, "
     ]
    },
    {
     "name": "stderr",
     "output_type": "stream",
     "text": [
      "/home/vislab/anaconda3/envs/test/lib/python3.8/site-packages/pandas/core/arraylike.py:364: RuntimeWarning: divide by zero encountered in log\n",
      "  result = getattr(ufunc, method)(*inputs, **kwargs)\n"
     ]
    },
    {
     "name": "stdout",
     "output_type": "stream",
     "text": [
      "Predict Finish, 63.7168 63.6852 0.9845 0.0154 Evaluation Finish\n",
      "176: Data Load Finish, "
     ]
    },
    {
     "name": "stderr",
     "output_type": "stream",
     "text": [
      "/home/vislab/anaconda3/envs/test/lib/python3.8/site-packages/pandas/core/arraylike.py:364: RuntimeWarning: divide by zero encountered in log\n",
      "  result = getattr(ufunc, method)(*inputs, **kwargs)\n"
     ]
    },
    {
     "name": "stdout",
     "output_type": "stream",
     "text": [
      "Predict Finish, 63.7168 63.6852 0.9845 0.0154 Evaluation Finish\n",
      "177: Data Load Finish, Predict Finish, 3.1855 2.7609 0.042 0.9508 Evaluation Finish\n",
      "178: Data Load Finish, "
     ]
    },
    {
     "name": "stderr",
     "output_type": "stream",
     "text": [
      "/home/vislab/anaconda3/envs/test/lib/python3.8/site-packages/pandas/core/arraylike.py:364: RuntimeWarning: divide by zero encountered in log\n",
      "  result = getattr(ufunc, method)(*inputs, **kwargs)\n"
     ]
    },
    {
     "name": "stdout",
     "output_type": "stream",
     "text": [
      "Predict Finish, 63.7168 63.6852 0.9845 0.0154 Evaluation Finish\n",
      "179: Data Load Finish, Predict Finish, 9.0613 8.8225 0.1355 0.86 Evaluation Finish\n",
      "180: Data Load Finish, Predict Finish, 8.5774 8.3501 0.1283 0.8675 Evaluation Finish\n",
      "181: Data Load Finish, Predict Finish, 3.6186 2.9687 0.045 0.9441 Evaluation Finish\n",
      "182: Data Load Finish, Predict Finish, 2.5254 2.0346 0.0321 0.961 Evaluation Finish\n",
      "183: Data Load Finish, Predict Finish, 3.8647 3.2293 0.051 0.9403 Evaluation Finish\n",
      "184: Data Load Finish, Predict Finish, 5.2527 4.9722 0.0763 0.9188 Evaluation Finish\n",
      "185: Data Load Finish, "
     ]
    },
    {
     "name": "stderr",
     "output_type": "stream",
     "text": [
      "/home/vislab/anaconda3/envs/test/lib/python3.8/site-packages/pandas/core/arraylike.py:364: RuntimeWarning: divide by zero encountered in log\n",
      "  result = getattr(ufunc, method)(*inputs, **kwargs)\n"
     ]
    },
    {
     "name": "stdout",
     "output_type": "stream",
     "text": [
      "Predict Finish, 63.7168 63.6852 0.9845 0.0154 Evaluation Finish\n",
      "186: Data Load Finish, Predict Finish, 2.9346 2.5883 0.0395 0.9547 Evaluation Finish\n",
      "187: Data Load Finish, Predict Finish, 12.5532 12.1024 0.1858 0.806 Evaluation Finish\n",
      "188: Data Load Finish, Predict Finish, 3.6586 2.718 0.0432 0.9435 Evaluation Finish\n",
      "189: Data Load Finish, Predict Finish, 4.8069 4.4824 0.0686 0.9257 Evaluation Finish\n",
      "190: Data Load Finish, Predict Finish, 6.1972 5.8211 0.089 0.9042 Evaluation Finish\n",
      "191: Data Load Finish, Predict Finish, 10.3626 9.8175 0.1505 0.8399 Evaluation Finish\n",
      "192: Data Load Finish, Predict Finish, 2.879 2.6296 0.0406 0.9555 Evaluation Finish\n",
      "193: Data Load Finish, Predict Finish, 6.9108 5.6915 0.0865 0.8932 Evaluation Finish\n",
      "194: Data Load Finish, Predict Finish, 11.9212 11.7938 0.1817 0.8158 Evaluation Finish\n",
      "195: Data Load Finish, Predict Finish, 4.3378 3.8423 0.0585 0.933 Evaluation Finish\n",
      "196: Data Load Finish, Predict Finish, 62.566 62.5415 0.967 0.0332 Evaluation Finish\n",
      "197: Data Load Finish, Predict Finish, 16.4308 16.021 0.2464 0.7461 Evaluation Finish\n",
      "198: Data Load Finish, Predict Finish, 4.7458 4.275 0.0652 0.9267 Evaluation Finish\n",
      "199: Data Load Finish, Predict Finish, 2.7569 2.5342 0.0389 0.9574 Evaluation Finish\n",
      "200: Data Load Finish, Predict Finish, 2.3768 2.1594 0.0331 0.9633 Evaluation Finish\n",
      "201: Data Load Finish, Predict Finish, 2.1414 1.7259 0.0271 0.9669 Evaluation Finish\n",
      "202: Data Load Finish, Predict Finish, 2.8943 2.4588 0.0374 0.9553 Evaluation Finish\n",
      "203: Data Load Finish, Predict Finish, 2.9406 2.2027 0.035 0.9546 Evaluation Finish\n",
      "204: Data Load Finish, "
     ]
    },
    {
     "name": "stderr",
     "output_type": "stream",
     "text": [
      "/home/vislab/anaconda3/envs/test/lib/python3.8/site-packages/pandas/core/arraylike.py:364: RuntimeWarning: divide by zero encountered in log\n",
      "  result = getattr(ufunc, method)(*inputs, **kwargs)\n"
     ]
    },
    {
     "name": "stdout",
     "output_type": "stream",
     "text": [
      "Predict Finish, 63.7168 63.6852 0.9845 0.0154 Evaluation Finish\n",
      "205: Data Load Finish, Predict Finish, 3.1339 2.5872 0.0408 0.9516 Evaluation Finish\n",
      "206: Data Load Finish, Predict Finish, 11.4963 11.2698 0.1733 0.8224 Evaluation Finish\n",
      "RMSE: 12.001095828740096, MAE: 11.60019440927722, MAPE: 0.17908173919809078\n",
      "ACC: 0.814558296246855\n"
     ]
    }
   ],
   "source": [
    "predictARIMA(df, idx, 6)"
   ]
  },
  {
   "cell_type": "markdown",
   "id": "8624171f",
   "metadata": {},
   "source": [
    "### Unobserved Nodes = 20%"
   ]
  },
  {
   "cell_type": "code",
   "execution_count": 14,
   "id": "a8313c43",
   "metadata": {},
   "outputs": [
    {
     "name": "stdout",
     "output_type": "stream",
     "text": [
      "34272 207\n"
     ]
    },
    {
     "data": {
      "text/plain": [
       "1405152"
      ]
     },
     "execution_count": 14,
     "metadata": {},
     "output_type": "execute_result"
    }
   ],
   "source": [
    "df, idx = csvIndexToDatetime(path_20, start, freq)\n",
    "(df == 0).sum().sum()"
   ]
  },
  {
   "cell_type": "code",
   "execution_count": 15,
   "id": "5ce0fefa",
   "metadata": {
    "scrolled": false
   },
   "outputs": [
    {
     "name": "stdout",
     "output_type": "stream",
     "text": [
      "0: Data Load Finish, "
     ]
    },
    {
     "name": "stderr",
     "output_type": "stream",
     "text": [
      "/home/vislab/anaconda3/envs/test/lib/python3.8/site-packages/pandas/core/arraylike.py:364: RuntimeWarning: divide by zero encountered in log\n",
      "  result = getattr(ufunc, method)(*inputs, **kwargs)\n"
     ]
    },
    {
     "name": "stdout",
     "output_type": "stream",
     "text": [
      "Predict Finish, 63.7168 63.6852 0.9845 0.0154 Evaluation Finish\n",
      "1: Data Load Finish, "
     ]
    },
    {
     "name": "stderr",
     "output_type": "stream",
     "text": [
      "/home/vislab/anaconda3/envs/test/lib/python3.8/site-packages/pandas/core/arraylike.py:364: RuntimeWarning: divide by zero encountered in log\n",
      "  result = getattr(ufunc, method)(*inputs, **kwargs)\n"
     ]
    },
    {
     "name": "stdout",
     "output_type": "stream",
     "text": [
      "Predict Finish, 63.7168 63.6852 0.9845 0.0154 Evaluation Finish\n",
      "2: Data Load Finish, "
     ]
    },
    {
     "name": "stderr",
     "output_type": "stream",
     "text": [
      "/home/vislab/anaconda3/envs/test/lib/python3.8/site-packages/pandas/core/arraylike.py:364: RuntimeWarning: divide by zero encountered in log\n",
      "  result = getattr(ufunc, method)(*inputs, **kwargs)\n"
     ]
    },
    {
     "name": "stdout",
     "output_type": "stream",
     "text": [
      "Predict Finish, 63.7168 63.6852 0.9845 0.0154 Evaluation Finish\n",
      "3: Data Load Finish, Predict Finish, 7.5682 6.9666 0.1065 0.8831 Evaluation Finish\n",
      "4: Data Load Finish, Predict Finish, 28.8526 28.8018 0.4451 0.5542 Evaluation Finish\n",
      "5: Data Load Finish, Predict Finish, 14.2728 14.1574 0.2182 0.7795 Evaluation Finish\n",
      "6: Data Load Finish, Predict Finish, 3.3233 2.8358 0.0431 0.9486 Evaluation Finish\n",
      "7: Data Load Finish, Predict Finish, 2.5194 2.3456 0.0361 0.9611 Evaluation Finish\n",
      "8: Data Load Finish, "
     ]
    },
    {
     "name": "stderr",
     "output_type": "stream",
     "text": [
      "/home/vislab/anaconda3/envs/test/lib/python3.8/site-packages/pandas/core/arraylike.py:364: RuntimeWarning: divide by zero encountered in log\n",
      "  result = getattr(ufunc, method)(*inputs, **kwargs)\n"
     ]
    },
    {
     "name": "stdout",
     "output_type": "stream",
     "text": [
      "Predict Finish, 63.7168 63.6852 0.9845 0.0154 Evaluation Finish\n",
      "9: Data Load Finish, Predict Finish, 2.683 2.4746 0.038 0.9585 Evaluation Finish\n",
      "10: Data Load Finish, Predict Finish, 4.105 3.3582 0.0508 0.9366 Evaluation Finish\n",
      "11: Data Load Finish, Predict Finish, 2.6968 2.3654 0.0361 0.9583 Evaluation Finish\n",
      "12: Data Load Finish, "
     ]
    },
    {
     "name": "stderr",
     "output_type": "stream",
     "text": [
      "/home/vislab/anaconda3/envs/test/lib/python3.8/site-packages/pandas/core/arraylike.py:364: RuntimeWarning: divide by zero encountered in log\n",
      "  result = getattr(ufunc, method)(*inputs, **kwargs)\n"
     ]
    },
    {
     "name": "stdout",
     "output_type": "stream",
     "text": [
      "Predict Finish, 63.7168 63.6852 0.9845 0.0154 Evaluation Finish\n",
      "13: Data Load Finish, Predict Finish, 2.7788 2.1973 0.0347 0.9571 Evaluation Finish\n",
      "14: Data Load Finish, Predict Finish, 26.6715 26.6177 0.4112 0.5879 Evaluation Finish\n",
      "15: Data Load Finish, "
     ]
    },
    {
     "name": "stderr",
     "output_type": "stream",
     "text": [
      "/home/vislab/anaconda3/envs/test/lib/python3.8/site-packages/statsmodels/base/model.py:604: ConvergenceWarning: Maximum Likelihood optimization failed to converge. Check mle_retvals\n",
      "  warnings.warn(\"Maximum Likelihood optimization failed to \"\n"
     ]
    },
    {
     "name": "stdout",
     "output_type": "stream",
     "text": [
      "Predict Finish, 9.8408 9.4468 0.1449 0.8479 Evaluation Finish\n",
      "16: Data Load Finish, Predict Finish, 47.6079 47.571 0.7357 0.2644 Evaluation Finish\n",
      "17: Data Load Finish, Predict Finish, 9.6148 9.4047 0.1446 0.8514 Evaluation Finish\n",
      "18: Data Load Finish, Predict Finish, 12.9558 12.8245 0.1979 0.7998 Evaluation Finish\n",
      "19: Data Load Finish, Predict Finish, 7.9421 7.6918 0.1181 0.8773 Evaluation Finish\n",
      "20: Data Load Finish, Predict Finish, 3.5115 3.0682 0.0467 0.9457 Evaluation Finish\n",
      "21: Data Load Finish, Predict Finish, 6.9324 6.7225 0.1033 0.8929 Evaluation Finish\n",
      "22: Data Load Finish, Predict Finish, 12.5647 12.2839 0.1889 0.8059 Evaluation Finish\n",
      "23: Data Load Finish, Predict Finish, 6.8622 6.3428 0.0969 0.894 Evaluation Finish\n",
      "24: Data Load Finish, Predict Finish, 2.645 2.2188 0.0349 0.9591 Evaluation Finish\n",
      "25: Data Load Finish, Predict Finish, 10.0652 9.8425 0.1513 0.8445 Evaluation Finish\n",
      "26: Data Load Finish, Predict Finish, 9.2735 8.8383 0.1355 0.8567 Evaluation Finish\n",
      "27: Data Load Finish, Predict Finish, 3.4927 2.8867 0.0438 0.946 Evaluation Finish\n",
      "28: Data Load Finish, Predict Finish, 3.5741 2.8434 0.045 0.9448 Evaluation Finish\n",
      "29: Data Load Finish, Predict Finish, 5.3195 4.3854 0.0665 0.9178 Evaluation Finish\n",
      "30: Data Load Finish, Predict Finish, 4.6524 3.7619 0.057 0.9281 Evaluation Finish\n",
      "31: Data Load Finish, Predict Finish, 2.3411 1.8675 0.0295 0.9638 Evaluation Finish\n",
      "32: Data Load Finish, Predict Finish, 2.6545 2.1045 0.0332 0.959 Evaluation Finish\n",
      "33: Data Load Finish, Predict Finish, 7.4947 7.2404 0.1111 0.8842 Evaluation Finish\n",
      "34: Data Load Finish, Predict Finish, 5.3277 5.0066 0.0766 0.9177 Evaluation Finish\n",
      "35: Data Load Finish, Predict Finish, 9.1187 8.94 0.1378 0.8591 Evaluation Finish\n",
      "36: Data Load Finish, "
     ]
    },
    {
     "name": "stderr",
     "output_type": "stream",
     "text": [
      "/home/vislab/anaconda3/envs/test/lib/python3.8/site-packages/pandas/core/arraylike.py:364: RuntimeWarning: divide by zero encountered in log\n",
      "  result = getattr(ufunc, method)(*inputs, **kwargs)\n"
     ]
    },
    {
     "name": "stdout",
     "output_type": "stream",
     "text": [
      "Predict Finish, 63.7168 63.6852 0.9845 0.0154 Evaluation Finish\n",
      "37: Data Load Finish, Predict Finish, 2.4647 2.252 0.0345 0.9619 Evaluation Finish\n",
      "38: Data Load Finish, Predict Finish, 8.4724 7.9427 0.1216 0.8691 Evaluation Finish\n",
      "39: Data Load Finish, Predict Finish, 5.0234 4.414 0.0672 0.9224 Evaluation Finish\n",
      "40: Data Load Finish, Predict Finish, 2.391 1.9741 0.031 0.9631 Evaluation Finish\n",
      "41: Data Load Finish, Predict Finish, 3.8464 3.1378 0.0475 0.9406 Evaluation Finish\n",
      "42: Data Load Finish, Predict Finish, 3.2783 2.4962 0.0396 0.9493 Evaluation Finish\n",
      "43: Data Load Finish, Predict Finish, 4.8238 4.0407 0.0613 0.9255 Evaluation Finish\n",
      "44: Data Load Finish, Predict Finish, 2.4675 1.9392 0.0307 0.9619 Evaluation Finish\n",
      "45: Data Load Finish, Predict Finish, 2.2311 2.0526 0.0318 0.9655 Evaluation Finish\n",
      "46: Data Load Finish, Predict Finish, 4.966 4.6644 0.0715 0.9233 Evaluation Finish\n",
      "47: Data Load Finish, Predict Finish, 7.2501 6.7231 0.1028 0.888 Evaluation Finish\n",
      "48: Data Load Finish, Predict Finish, 5.9552 5.2947 0.0807 0.908 Evaluation Finish\n",
      "49: Data Load Finish, Predict Finish, 3.1461 2.8157 0.043 0.9514 Evaluation Finish\n",
      "50: Data Load Finish, Predict Finish, 7.4078 7.2054 0.1107 0.8855 Evaluation Finish\n",
      "51: Data Load Finish, Predict Finish, 13.1635 12.915 0.1987 0.7966 Evaluation Finish\n",
      "52: Data Load Finish, Predict Finish, 3.2849 2.9476 0.0451 0.9492 Evaluation Finish\n",
      "53: Data Load Finish, Predict Finish, 7.365 6.8874 0.1054 0.8862 Evaluation Finish\n",
      "54: Data Load Finish, Predict Finish, 11.509 11.3624 0.1749 0.8222 Evaluation Finish\n",
      "55: Data Load Finish, Predict Finish, 4.2563 3.703 0.0563 0.9342 Evaluation Finish\n",
      "56: Data Load Finish, Predict Finish, 22.9673 22.853 0.3525 0.6451 Evaluation Finish\n",
      "57: Data Load Finish, Predict Finish, 6.5669 6.1841 0.0946 0.8985 Evaluation Finish\n",
      "58: Data Load Finish, "
     ]
    },
    {
     "name": "stderr",
     "output_type": "stream",
     "text": [
      "/home/vislab/anaconda3/envs/test/lib/python3.8/site-packages/pandas/core/arraylike.py:364: RuntimeWarning: divide by zero encountered in log\n",
      "  result = getattr(ufunc, method)(*inputs, **kwargs)\n"
     ]
    },
    {
     "name": "stdout",
     "output_type": "stream",
     "text": [
      "Predict Finish, 63.7168 63.6852 0.9845 0.0154 Evaluation Finish\n",
      "59: Data Load Finish, "
     ]
    },
    {
     "name": "stderr",
     "output_type": "stream",
     "text": [
      "/home/vislab/anaconda3/envs/test/lib/python3.8/site-packages/pandas/core/arraylike.py:364: RuntimeWarning: divide by zero encountered in log\n",
      "  result = getattr(ufunc, method)(*inputs, **kwargs)\n"
     ]
    },
    {
     "name": "stdout",
     "output_type": "stream",
     "text": [
      "Predict Finish, 63.7168 63.6852 0.9845 0.0154 Evaluation Finish\n",
      "60: Data Load Finish, Predict Finish, 12.2325 12.0402 0.1853 0.811 Evaluation Finish\n",
      "61: Data Load Finish, "
     ]
    },
    {
     "name": "stderr",
     "output_type": "stream",
     "text": [
      "/home/vislab/anaconda3/envs/test/lib/python3.8/site-packages/pandas/core/arraylike.py:364: RuntimeWarning: divide by zero encountered in log\n",
      "  result = getattr(ufunc, method)(*inputs, **kwargs)\n"
     ]
    },
    {
     "name": "stdout",
     "output_type": "stream",
     "text": [
      "Predict Finish, 63.7168 63.6852 0.9845 0.0154 Evaluation Finish\n",
      "62: Data Load Finish, Predict Finish, 3.6988 3.2011 0.0487 0.9428 Evaluation Finish\n",
      "63: Data Load Finish, Predict Finish, 6.9015 6.4607 0.0988 0.8934 Evaluation Finish\n",
      "64: Data Load Finish, Predict Finish, 2.2807 2.0654 0.032 0.9648 Evaluation Finish\n",
      "65: Data Load Finish, Predict Finish, 6.0624 5.7489 0.0885 0.9063 Evaluation Finish\n",
      "66: Data Load Finish, "
     ]
    },
    {
     "name": "stderr",
     "output_type": "stream",
     "text": [
      "/home/vislab/anaconda3/envs/test/lib/python3.8/site-packages/pandas/core/arraylike.py:364: RuntimeWarning: divide by zero encountered in log\n",
      "  result = getattr(ufunc, method)(*inputs, **kwargs)\n"
     ]
    },
    {
     "name": "stdout",
     "output_type": "stream",
     "text": [
      "Predict Finish, 63.7168 63.6852 0.9845 0.0154 Evaluation Finish\n",
      "67: Data Load Finish, Predict Finish, 3.0817 2.2958 0.0365 0.9524 Evaluation Finish\n",
      "68: Data Load Finish, Predict Finish, 2.8521 2.2292 0.0353 0.9559 Evaluation Finish\n",
      "69: Data Load Finish, Predict Finish, 3.2436 3.0255 0.0468 0.9499 Evaluation Finish\n",
      "70: Data Load Finish, Predict Finish, 2.8392 2.5267 0.0386 0.9561 Evaluation Finish\n",
      "71: Data Load Finish, Predict Finish, 3.3308 2.966 0.0453 0.9485 Evaluation Finish\n",
      "72: Data Load Finish, "
     ]
    },
    {
     "name": "stderr",
     "output_type": "stream",
     "text": [
      "/home/vislab/anaconda3/envs/test/lib/python3.8/site-packages/pandas/core/arraylike.py:364: RuntimeWarning: divide by zero encountered in log\n",
      "  result = getattr(ufunc, method)(*inputs, **kwargs)\n"
     ]
    },
    {
     "name": "stdout",
     "output_type": "stream",
     "text": [
      "Predict Finish, 63.7168 63.6852 0.9845 0.0154 Evaluation Finish\n",
      "73: Data Load Finish, Predict Finish, 6.7098 6.137 0.0937 0.8963 Evaluation Finish\n",
      "74: Data Load Finish, Predict Finish, 3.5963 2.8397 0.045 0.9444 Evaluation Finish\n",
      "75: Data Load Finish, Predict Finish, 17.4669 17.3193 0.2669 0.7301 Evaluation Finish\n",
      "76: Data Load Finish, Predict Finish, 10.2982 9.8481 0.1511 0.8409 Evaluation Finish\n",
      "77: Data Load Finish, "
     ]
    },
    {
     "name": "stderr",
     "output_type": "stream",
     "text": [
      "/home/vislab/anaconda3/envs/test/lib/python3.8/site-packages/pandas/core/arraylike.py:364: RuntimeWarning: divide by zero encountered in log\n",
      "  result = getattr(ufunc, method)(*inputs, **kwargs)\n"
     ]
    },
    {
     "name": "stdout",
     "output_type": "stream",
     "text": [
      "Predict Finish, 63.7168 63.6852 0.9845 0.0154 Evaluation Finish\n",
      "78: Data Load Finish, Predict Finish, 2.1185 1.7659 0.0276 0.9673 Evaluation Finish\n",
      "79: Data Load Finish, Predict Finish, 2.7053 2.1084 0.0334 0.9582 Evaluation Finish\n",
      "80: Data Load Finish, Predict Finish, 3.2767 2.7175 0.0428 0.9494 Evaluation Finish\n",
      "81: Data Load Finish, "
     ]
    },
    {
     "name": "stderr",
     "output_type": "stream",
     "text": [
      "/home/vislab/anaconda3/envs/test/lib/python3.8/site-packages/pandas/core/arraylike.py:364: RuntimeWarning: divide by zero encountered in log\n",
      "  result = getattr(ufunc, method)(*inputs, **kwargs)\n"
     ]
    },
    {
     "name": "stdout",
     "output_type": "stream",
     "text": [
      "Predict Finish, 63.7168 63.6852 0.9845 0.0154 Evaluation Finish\n",
      "82: Data Load Finish, Predict Finish, 5.2987 4.5793 0.0696 0.9181 Evaluation Finish\n",
      "83: Data Load Finish, "
     ]
    },
    {
     "name": "stderr",
     "output_type": "stream",
     "text": [
      "/home/vislab/anaconda3/envs/test/lib/python3.8/site-packages/pandas/core/arraylike.py:364: RuntimeWarning: divide by zero encountered in log\n",
      "  result = getattr(ufunc, method)(*inputs, **kwargs)\n"
     ]
    },
    {
     "name": "stdout",
     "output_type": "stream",
     "text": [
      "Predict Finish, 63.7168 63.6852 0.9845 0.0154 Evaluation Finish\n",
      "84: Data Load Finish, Predict Finish, 7.4461 7.009 0.1073 0.8849 Evaluation Finish\n",
      "85: Data Load Finish, "
     ]
    },
    {
     "name": "stderr",
     "output_type": "stream",
     "text": [
      "/home/vislab/anaconda3/envs/test/lib/python3.8/site-packages/pandas/core/arraylike.py:364: RuntimeWarning: divide by zero encountered in log\n",
      "  result = getattr(ufunc, method)(*inputs, **kwargs)\n"
     ]
    },
    {
     "name": "stdout",
     "output_type": "stream",
     "text": [
      "Predict Finish, 63.7168 63.6852 0.9845 0.0154 Evaluation Finish\n",
      "86: Data Load Finish, Predict Finish, 3.0387 2.7467 0.0424 0.953 Evaluation Finish\n",
      "87: Data Load Finish, Predict Finish, 3.695 3.1767 0.0483 0.9429 Evaluation Finish\n",
      "88: Data Load Finish, Predict Finish, 2.3822 2.1995 0.034 0.9632 Evaluation Finish\n",
      "89: Data Load Finish, Predict Finish, 2.6846 2.1221 0.0335 0.9585 Evaluation Finish\n",
      "90: Data Load Finish, Predict Finish, 3.4239 2.6528 0.0421 0.9471 Evaluation Finish\n",
      "91: Data Load Finish, "
     ]
    },
    {
     "name": "stderr",
     "output_type": "stream",
     "text": [
      "/home/vislab/anaconda3/envs/test/lib/python3.8/site-packages/statsmodels/base/model.py:604: ConvergenceWarning: Maximum Likelihood optimization failed to converge. Check mle_retvals\n",
      "  warnings.warn(\"Maximum Likelihood optimization failed to \"\n"
     ]
    },
    {
     "name": "stdout",
     "output_type": "stream",
     "text": [
      "Predict Finish, 12.7468 12.2969 0.1888 0.803 Evaluation Finish\n",
      "92: Data Load Finish, Predict Finish, 3.5819 2.8757 0.0455 0.9447 Evaluation Finish\n",
      "93: Data Load Finish, Predict Finish, 8.4262 8.1978 0.1259 0.8698 Evaluation Finish\n",
      "94: Data Load Finish, Predict Finish, 2.5519 2.2789 0.0356 0.9606 Evaluation Finish\n",
      "95: Data Load Finish, Predict Finish, 15.6063 15.498 0.2389 0.7589 Evaluation Finish\n",
      "96: Data Load Finish, Predict Finish, 4.0124 3.2417 0.0513 0.938 Evaluation Finish\n",
      "97: Data Load Finish, Predict Finish, 3.6082 2.6894 0.0428 0.9442 Evaluation Finish\n",
      "98: Data Load Finish, Predict Finish, 6.3219 5.8479 0.0894 0.9023 Evaluation Finish\n",
      "99: Data Load Finish, "
     ]
    },
    {
     "name": "stderr",
     "output_type": "stream",
     "text": [
      "/home/vislab/anaconda3/envs/test/lib/python3.8/site-packages/pandas/core/arraylike.py:364: RuntimeWarning: divide by zero encountered in log\n",
      "  result = getattr(ufunc, method)(*inputs, **kwargs)\n"
     ]
    },
    {
     "name": "stdout",
     "output_type": "stream",
     "text": [
      "Predict Finish, 63.7168 63.6852 0.9845 0.0154 Evaluation Finish\n",
      "100: Data Load Finish, Predict Finish, 6.1449 5.4684 0.0833 0.905 Evaluation Finish\n",
      "101: Data Load Finish, Predict Finish, 4.0646 3.3434 0.0507 0.9372 Evaluation Finish\n",
      "102: Data Load Finish, Predict Finish, 5.1826 4.6392 0.0707 0.9199 Evaluation Finish\n",
      "103: Data Load Finish, "
     ]
    },
    {
     "name": "stderr",
     "output_type": "stream",
     "text": [
      "/home/vislab/anaconda3/envs/test/lib/python3.8/site-packages/pandas/core/arraylike.py:364: RuntimeWarning: divide by zero encountered in log\n",
      "  result = getattr(ufunc, method)(*inputs, **kwargs)\n"
     ]
    },
    {
     "name": "stdout",
     "output_type": "stream",
     "text": [
      "Predict Finish, 63.7168 63.6852 0.9845 0.0154 Evaluation Finish\n",
      "104: Data Load Finish, Predict Finish, 2.5558 2.2518 0.0353 0.9605 Evaluation Finish\n",
      "105: Data Load Finish, Predict Finish, 3.7352 3.0452 0.0482 0.9423 Evaluation Finish\n",
      "106: Data Load Finish, Predict Finish, 4.7631 4.4545 0.0682 0.9264 Evaluation Finish\n",
      "107: Data Load Finish, Predict Finish, 3.7482 3.1028 0.049 0.9421 Evaluation Finish\n",
      "108: Data Load Finish, "
     ]
    },
    {
     "name": "stderr",
     "output_type": "stream",
     "text": [
      "/home/vislab/anaconda3/envs/test/lib/python3.8/site-packages/pandas/core/arraylike.py:364: RuntimeWarning: divide by zero encountered in log\n",
      "  result = getattr(ufunc, method)(*inputs, **kwargs)\n"
     ]
    },
    {
     "name": "stdout",
     "output_type": "stream",
     "text": [
      "Predict Finish, 63.7168 63.6852 0.9845 0.0154 Evaluation Finish\n",
      "109: Data Load Finish, Predict Finish, 5.9038 5.4315 0.0829 0.9088 Evaluation Finish\n",
      "110: Data Load Finish, "
     ]
    },
    {
     "name": "stderr",
     "output_type": "stream",
     "text": [
      "/home/vislab/anaconda3/envs/test/lib/python3.8/site-packages/pandas/core/arraylike.py:364: RuntimeWarning: divide by zero encountered in log\n",
      "  result = getattr(ufunc, method)(*inputs, **kwargs)\n"
     ]
    },
    {
     "name": "stdout",
     "output_type": "stream",
     "text": [
      "Predict Finish, 63.7168 63.6852 0.9845 0.0154 Evaluation Finish\n",
      "111: Data Load Finish, "
     ]
    },
    {
     "name": "stderr",
     "output_type": "stream",
     "text": [
      "/home/vislab/anaconda3/envs/test/lib/python3.8/site-packages/pandas/core/arraylike.py:364: RuntimeWarning: divide by zero encountered in log\n",
      "  result = getattr(ufunc, method)(*inputs, **kwargs)\n"
     ]
    },
    {
     "name": "stdout",
     "output_type": "stream",
     "text": [
      "Predict Finish, 63.7168 63.6852 0.9845 0.0154 Evaluation Finish\n",
      "112: Data Load Finish, Predict Finish, 6.5956 6.1006 0.0932 0.8981 Evaluation Finish\n",
      "113: Data Load Finish, Predict Finish, 4.2092 3.5963 0.0547 0.935 Evaluation Finish\n",
      "114: Data Load Finish, Predict Finish, 2.9063 2.2792 0.036 0.9551 Evaluation Finish\n",
      "115: Data Load Finish, Predict Finish, 2.4629 2.0355 0.032 0.9619 Evaluation Finish\n",
      "116: Data Load Finish, Predict Finish, 3.0287 2.4333 0.0384 0.9532 Evaluation Finish\n",
      "117: Data Load Finish, Predict Finish, 3.1854 2.4205 0.0384 0.9508 Evaluation Finish\n",
      "118: Data Load Finish, Predict Finish, 2.0045 1.5699 0.0247 0.969 Evaluation Finish\n",
      "119: Data Load Finish, Predict Finish, 2.8005 2.1694 0.0344 0.9567 Evaluation Finish\n",
      "120: Data Load Finish, "
     ]
    },
    {
     "name": "stderr",
     "output_type": "stream",
     "text": [
      "/home/vislab/anaconda3/envs/test/lib/python3.8/site-packages/pandas/core/arraylike.py:364: RuntimeWarning: divide by zero encountered in log\n",
      "  result = getattr(ufunc, method)(*inputs, **kwargs)\n"
     ]
    },
    {
     "name": "stdout",
     "output_type": "stream",
     "text": [
      "Predict Finish, 63.7168 63.6852 0.9845 0.0154 Evaluation Finish\n",
      "121: Data Load Finish, Predict Finish, 7.2614 7.0584 0.1085 0.8878 Evaluation Finish\n",
      "122: Data Load Finish, Predict Finish, 5.2899 4.8868 0.0746 0.9183 Evaluation Finish\n",
      "123: Data Load Finish, "
     ]
    },
    {
     "name": "stderr",
     "output_type": "stream",
     "text": [
      "/home/vislab/anaconda3/envs/test/lib/python3.8/site-packages/pandas/core/arraylike.py:364: RuntimeWarning: divide by zero encountered in log\n",
      "  result = getattr(ufunc, method)(*inputs, **kwargs)\n"
     ]
    },
    {
     "name": "stdout",
     "output_type": "stream",
     "text": [
      "Predict Finish, 63.7168 63.6852 0.9845 0.0154 Evaluation Finish\n",
      "124: Data Load Finish, Predict Finish, 11.0572 10.8469 0.1668 0.8291 Evaluation Finish\n",
      "125: Data Load Finish, "
     ]
    },
    {
     "name": "stderr",
     "output_type": "stream",
     "text": [
      "/home/vislab/anaconda3/envs/test/lib/python3.8/site-packages/pandas/core/arraylike.py:364: RuntimeWarning: divide by zero encountered in log\n",
      "  result = getattr(ufunc, method)(*inputs, **kwargs)\n"
     ]
    },
    {
     "name": "stdout",
     "output_type": "stream",
     "text": [
      "Predict Finish, 63.7168 63.6852 0.9845 0.0154 Evaluation Finish\n",
      "126: Data Load Finish, Predict Finish, 9.7807 9.633 0.1484 0.8489 Evaluation Finish\n",
      "127: Data Load Finish, "
     ]
    },
    {
     "name": "stderr",
     "output_type": "stream",
     "text": [
      "/home/vislab/anaconda3/envs/test/lib/python3.8/site-packages/pandas/core/arraylike.py:364: RuntimeWarning: divide by zero encountered in log\n",
      "  result = getattr(ufunc, method)(*inputs, **kwargs)\n"
     ]
    },
    {
     "name": "stdout",
     "output_type": "stream",
     "text": [
      "Predict Finish, 63.7168 63.6852 0.9845 0.0154 Evaluation Finish\n",
      "128: Data Load Finish, Predict Finish, 2.8923 2.2859 0.0361 0.9553 Evaluation Finish\n",
      "129: Data Load Finish, Predict Finish, 3.7648 3.0691 0.0465 0.9418 Evaluation Finish\n",
      "130: Data Load Finish, Predict Finish, 3.4935 3.0542 0.0466 0.946 Evaluation Finish\n",
      "131: Data Load Finish, Predict Finish, 3.9145 3.3766 0.0514 0.9395 Evaluation Finish\n",
      "132: Data Load Finish, Predict Finish, 2.2914 1.8261 0.0289 0.9646 Evaluation Finish\n",
      "133: Data Load Finish, Predict Finish, 3.8652 3.2635 0.0496 0.9403 Evaluation Finish\n",
      "134: Data Load Finish, Predict Finish, 2.8299 2.5783 0.0398 0.9563 Evaluation Finish\n",
      "135: Data Load Finish, Predict Finish, 2.8161 2.5718 0.0401 0.9565 Evaluation Finish\n",
      "136: Data Load Finish, "
     ]
    },
    {
     "name": "stderr",
     "output_type": "stream",
     "text": [
      "/home/vislab/anaconda3/envs/test/lib/python3.8/site-packages/pandas/core/arraylike.py:364: RuntimeWarning: divide by zero encountered in log\n",
      "  result = getattr(ufunc, method)(*inputs, **kwargs)\n"
     ]
    },
    {
     "name": "stdout",
     "output_type": "stream",
     "text": [
      "Predict Finish, 63.7168 63.6852 0.9845 0.0154 Evaluation Finish\n",
      "137: Data Load Finish, Predict Finish, 4.953 3.9829 0.0603 0.9235 Evaluation Finish\n",
      "138: Data Load Finish, Predict Finish, 43.0977 43.0211 0.6655 0.3341 Evaluation Finish\n",
      "139: Data Load Finish, "
     ]
    },
    {
     "name": "stderr",
     "output_type": "stream",
     "text": [
      "/home/vislab/anaconda3/envs/test/lib/python3.8/site-packages/pandas/core/arraylike.py:364: RuntimeWarning: divide by zero encountered in log\n",
      "  result = getattr(ufunc, method)(*inputs, **kwargs)\n"
     ]
    },
    {
     "name": "stdout",
     "output_type": "stream",
     "text": [
      "Predict Finish, 63.7168 63.6852 0.9845 0.0154 Evaluation Finish\n",
      "140: Data Load Finish, Predict Finish, 6.1604 5.418 0.0825 0.9048 Evaluation Finish\n",
      "141: Data Load Finish, "
     ]
    },
    {
     "name": "stderr",
     "output_type": "stream",
     "text": [
      "/home/vislab/anaconda3/envs/test/lib/python3.8/site-packages/pandas/core/arraylike.py:364: RuntimeWarning: divide by zero encountered in log\n",
      "  result = getattr(ufunc, method)(*inputs, **kwargs)\n"
     ]
    },
    {
     "name": "stdout",
     "output_type": "stream",
     "text": [
      "Predict Finish, 63.7168 63.6852 0.9845 0.0154 Evaluation Finish\n",
      "142: Data Load Finish, Predict Finish, 2.4742 2.285 0.0353 0.9618 Evaluation Finish\n",
      "143: Data Load Finish, Predict Finish, 3.4681 3.033 0.0462 0.9464 Evaluation Finish\n",
      "144: Data Load Finish, Predict Finish, 9.2092 8.6969 0.1332 0.8577 Evaluation Finish\n",
      "145: Data Load Finish, "
     ]
    },
    {
     "name": "stderr",
     "output_type": "stream",
     "text": [
      "/home/vislab/anaconda3/envs/test/lib/python3.8/site-packages/pandas/core/arraylike.py:364: RuntimeWarning: divide by zero encountered in log\n",
      "  result = getattr(ufunc, method)(*inputs, **kwargs)\n"
     ]
    },
    {
     "name": "stdout",
     "output_type": "stream",
     "text": [
      "Predict Finish, 63.7168 63.6852 0.9845 0.0154 Evaluation Finish\n",
      "146: Data Load Finish, Predict Finish, 3.1519 2.8794 0.0444 0.9513 Evaluation Finish\n",
      "147: Data Load Finish, Predict Finish, 3.9615 3.3244 0.0504 0.9388 Evaluation Finish\n",
      "148: Data Load Finish, Predict Finish, 8.3279 8.0138 0.1229 0.8713 Evaluation Finish\n",
      "149: Data Load Finish, Predict Finish, 4.1079 3.2615 0.0516 0.9365 Evaluation Finish\n",
      "150: Data Load Finish, Predict Finish, 9.4376 9.1075 0.1398 0.8542 Evaluation Finish\n",
      "151: Data Load Finish, Predict Finish, 3.4503 2.9631 0.0451 0.9467 Evaluation Finish\n",
      "152: Data Load Finish, Predict Finish, 3.5731 2.9663 0.045 0.9448 Evaluation Finish\n",
      "153: Data Load Finish, Predict Finish, 4.4242 4.0896 0.0626 0.9316 Evaluation Finish\n",
      "154: Data Load Finish, Predict Finish, 8.9036 8.6462 0.1328 0.8624 Evaluation Finish\n",
      "155: Data Load Finish, Predict Finish, 9.9168 9.5328 0.1463 0.8468 Evaluation Finish\n",
      "156: Data Load Finish, Predict Finish, 11.2402 11.1123 0.1712 0.8263 Evaluation Finish\n",
      "157: Data Load Finish, Predict Finish, 2.4893 2.2194 0.0347 0.9615 Evaluation Finish\n",
      "158: Data Load Finish, "
     ]
    },
    {
     "name": "stderr",
     "output_type": "stream",
     "text": [
      "/home/vislab/anaconda3/envs/test/lib/python3.8/site-packages/pandas/core/arraylike.py:364: RuntimeWarning: divide by zero encountered in log\n",
      "  result = getattr(ufunc, method)(*inputs, **kwargs)\n"
     ]
    },
    {
     "name": "stdout",
     "output_type": "stream",
     "text": [
      "Predict Finish, 63.7168 63.6852 0.9845 0.0154 Evaluation Finish\n",
      "159: Data Load Finish, Predict Finish, 3.9853 3.5069 0.0539 0.9384 Evaluation Finish\n",
      "160: Data Load Finish, "
     ]
    },
    {
     "name": "stderr",
     "output_type": "stream",
     "text": [
      "/home/vislab/anaconda3/envs/test/lib/python3.8/site-packages/pandas/core/arraylike.py:364: RuntimeWarning: divide by zero encountered in log\n",
      "  result = getattr(ufunc, method)(*inputs, **kwargs)\n"
     ]
    },
    {
     "name": "stdout",
     "output_type": "stream",
     "text": [
      "Predict Finish, 63.7168 63.6852 0.9845 0.0154 Evaluation Finish\n",
      "161: Data Load Finish, Predict Finish, 4.3745 3.5832 0.0566 0.9324 Evaluation Finish\n",
      "162: Data Load Finish, Predict Finish, 3.8002 2.9461 0.0467 0.9413 Evaluation Finish\n",
      "163: Data Load Finish, Predict Finish, 4.1185 3.7713 0.0581 0.9364 Evaluation Finish\n",
      "164: Data Load Finish, Predict Finish, 3.9846 3.4667 0.0529 0.9384 Evaluation Finish\n",
      "165: Data Load Finish, "
     ]
    },
    {
     "name": "stderr",
     "output_type": "stream",
     "text": [
      "/home/vislab/anaconda3/envs/test/lib/python3.8/site-packages/pandas/core/arraylike.py:364: RuntimeWarning: divide by zero encountered in log\n",
      "  result = getattr(ufunc, method)(*inputs, **kwargs)\n"
     ]
    },
    {
     "name": "stdout",
     "output_type": "stream",
     "text": [
      "Predict Finish, 63.7168 63.6852 0.9845 0.0154 Evaluation Finish\n",
      "166: Data Load Finish, Predict Finish, 4.009 2.9987 0.0476 0.9381 Evaluation Finish\n",
      "167: Data Load Finish, Predict Finish, 3.2827 2.4544 0.039 0.9493 Evaluation Finish\n",
      "168: Data Load Finish, Predict Finish, 2.3229 1.8987 0.0299 0.9641 Evaluation Finish\n",
      "169: Data Load Finish, "
     ]
    },
    {
     "name": "stderr",
     "output_type": "stream",
     "text": [
      "/home/vislab/anaconda3/envs/test/lib/python3.8/site-packages/pandas/core/arraylike.py:364: RuntimeWarning: divide by zero encountered in log\n",
      "  result = getattr(ufunc, method)(*inputs, **kwargs)\n"
     ]
    },
    {
     "name": "stdout",
     "output_type": "stream",
     "text": [
      "Predict Finish, 63.7168 63.6852 0.9845 0.0154 Evaluation Finish\n",
      "170: Data Load Finish, Predict Finish, 13.7447 13.6408 0.2104 0.7876 Evaluation Finish\n",
      "171: Data Load Finish, Predict Finish, 2.3457 1.8773 0.0297 0.9638 Evaluation Finish\n",
      "172: Data Load Finish, Predict Finish, 9.2579 8.9432 0.1373 0.8569 Evaluation Finish\n",
      "173: Data Load Finish, "
     ]
    },
    {
     "name": "stderr",
     "output_type": "stream",
     "text": [
      "/home/vislab/anaconda3/envs/test/lib/python3.8/site-packages/pandas/core/arraylike.py:364: RuntimeWarning: divide by zero encountered in log\n",
      "  result = getattr(ufunc, method)(*inputs, **kwargs)\n"
     ]
    },
    {
     "name": "stdout",
     "output_type": "stream",
     "text": [
      "Predict Finish, 63.7168 63.6852 0.9845 0.0154 Evaluation Finish\n",
      "174: Data Load Finish, "
     ]
    },
    {
     "name": "stderr",
     "output_type": "stream",
     "text": [
      "/home/vislab/anaconda3/envs/test/lib/python3.8/site-packages/pandas/core/arraylike.py:364: RuntimeWarning: divide by zero encountered in log\n",
      "  result = getattr(ufunc, method)(*inputs, **kwargs)\n"
     ]
    },
    {
     "name": "stdout",
     "output_type": "stream",
     "text": [
      "Predict Finish, 63.7168 63.6852 0.9845 0.0154 Evaluation Finish\n",
      "175: Data Load Finish, Predict Finish, 5.4602 5.0769 0.0776 0.9156 Evaluation Finish\n",
      "176: Data Load Finish, Predict Finish, 2.1596 1.8602 0.029 0.9666 Evaluation Finish\n",
      "177: Data Load Finish, Predict Finish, 3.1855 2.7609 0.042 0.9508 Evaluation Finish\n",
      "178: Data Load Finish, Predict Finish, 2.3386 2.0166 0.0316 0.9639 Evaluation Finish\n",
      "179: Data Load Finish, "
     ]
    },
    {
     "name": "stderr",
     "output_type": "stream",
     "text": [
      "/home/vislab/anaconda3/envs/test/lib/python3.8/site-packages/pandas/core/arraylike.py:364: RuntimeWarning: divide by zero encountered in log\n",
      "  result = getattr(ufunc, method)(*inputs, **kwargs)\n"
     ]
    },
    {
     "name": "stdout",
     "output_type": "stream",
     "text": [
      "Predict Finish, 63.7168 63.6852 0.9845 0.0154 Evaluation Finish\n",
      "180: Data Load Finish, Predict Finish, 8.5774 8.3501 0.1283 0.8675 Evaluation Finish\n",
      "181: Data Load Finish, Predict Finish, 3.6186 2.9687 0.045 0.9441 Evaluation Finish\n",
      "182: Data Load Finish, Predict Finish, 2.5254 2.0346 0.0321 0.961 Evaluation Finish\n",
      "183: Data Load Finish, "
     ]
    },
    {
     "name": "stderr",
     "output_type": "stream",
     "text": [
      "/home/vislab/anaconda3/envs/test/lib/python3.8/site-packages/pandas/core/arraylike.py:364: RuntimeWarning: divide by zero encountered in log\n",
      "  result = getattr(ufunc, method)(*inputs, **kwargs)\n"
     ]
    },
    {
     "name": "stdout",
     "output_type": "stream",
     "text": [
      "Predict Finish, 63.7168 63.6852 0.9845 0.0154 Evaluation Finish\n",
      "184: Data Load Finish, "
     ]
    },
    {
     "name": "stderr",
     "output_type": "stream",
     "text": [
      "/home/vislab/anaconda3/envs/test/lib/python3.8/site-packages/pandas/core/arraylike.py:364: RuntimeWarning: divide by zero encountered in log\n",
      "  result = getattr(ufunc, method)(*inputs, **kwargs)\n"
     ]
    },
    {
     "name": "stdout",
     "output_type": "stream",
     "text": [
      "Predict Finish, 63.7168 63.6852 0.9845 0.0154 Evaluation Finish\n",
      "185: Data Load Finish, Predict Finish, 2.368 2.0761 0.0325 0.9634 Evaluation Finish\n",
      "186: Data Load Finish, Predict Finish, 2.9346 2.5883 0.0395 0.9547 Evaluation Finish\n",
      "187: Data Load Finish, Predict Finish, 12.5532 12.1024 0.1858 0.806 Evaluation Finish\n",
      "188: Data Load Finish, Predict Finish, 3.6586 2.718 0.0432 0.9435 Evaluation Finish\n",
      "189: Data Load Finish, "
     ]
    },
    {
     "name": "stderr",
     "output_type": "stream",
     "text": [
      "/home/vislab/anaconda3/envs/test/lib/python3.8/site-packages/pandas/core/arraylike.py:364: RuntimeWarning: divide by zero encountered in log\n",
      "  result = getattr(ufunc, method)(*inputs, **kwargs)\n"
     ]
    },
    {
     "name": "stdout",
     "output_type": "stream",
     "text": [
      "Predict Finish, 63.7168 63.6852 0.9845 0.0154 Evaluation Finish\n",
      "190: Data Load Finish, "
     ]
    },
    {
     "name": "stderr",
     "output_type": "stream",
     "text": [
      "/home/vislab/anaconda3/envs/test/lib/python3.8/site-packages/pandas/core/arraylike.py:364: RuntimeWarning: divide by zero encountered in log\n",
      "  result = getattr(ufunc, method)(*inputs, **kwargs)\n"
     ]
    },
    {
     "name": "stdout",
     "output_type": "stream",
     "text": [
      "Predict Finish, 63.7168 63.6852 0.9845 0.0154 Evaluation Finish\n",
      "191: Data Load Finish, Predict Finish, 10.3626 9.8175 0.1505 0.8399 Evaluation Finish\n",
      "192: Data Load Finish, Predict Finish, 2.879 2.6296 0.0406 0.9555 Evaluation Finish\n",
      "193: Data Load Finish, Predict Finish, 6.9108 5.6915 0.0865 0.8932 Evaluation Finish\n",
      "194: Data Load Finish, "
     ]
    },
    {
     "name": "stderr",
     "output_type": "stream",
     "text": [
      "/home/vislab/anaconda3/envs/test/lib/python3.8/site-packages/pandas/core/arraylike.py:364: RuntimeWarning: divide by zero encountered in log\n",
      "  result = getattr(ufunc, method)(*inputs, **kwargs)\n"
     ]
    },
    {
     "name": "stdout",
     "output_type": "stream",
     "text": [
      "Predict Finish, 63.7168 63.6852 0.9845 0.0154 Evaluation Finish\n",
      "195: Data Load Finish, Predict Finish, 4.3378 3.8423 0.0585 0.933 Evaluation Finish\n",
      "196: Data Load Finish, Predict Finish, 62.566 62.5415 0.967 0.0332 Evaluation Finish\n",
      "197: Data Load Finish, Predict Finish, 16.4308 16.021 0.2464 0.7461 Evaluation Finish\n",
      "198: Data Load Finish, "
     ]
    },
    {
     "name": "stderr",
     "output_type": "stream",
     "text": [
      "/home/vislab/anaconda3/envs/test/lib/python3.8/site-packages/pandas/core/arraylike.py:364: RuntimeWarning: divide by zero encountered in log\n",
      "  result = getattr(ufunc, method)(*inputs, **kwargs)\n"
     ]
    },
    {
     "name": "stdout",
     "output_type": "stream",
     "text": [
      "Predict Finish, 63.7168 63.6852 0.9845 0.0154 Evaluation Finish\n",
      "199: Data Load Finish, Predict Finish, 2.7569 2.5342 0.0389 0.9574 Evaluation Finish\n",
      "200: Data Load Finish, Predict Finish, 2.3768 2.1594 0.0331 0.9633 Evaluation Finish\n",
      "201: Data Load Finish, Predict Finish, 2.1414 1.7259 0.0271 0.9669 Evaluation Finish\n",
      "202: Data Load Finish, Predict Finish, 2.8943 2.4588 0.0374 0.9553 Evaluation Finish\n",
      "203: Data Load Finish, Predict Finish, 2.9406 2.2027 0.035 0.9546 Evaluation Finish\n",
      "204: Data Load Finish, Predict Finish, 2.6182 2.3928 0.0371 0.9595 Evaluation Finish\n",
      "205: Data Load Finish, Predict Finish, 3.1339 2.5872 0.0408 0.9516 Evaluation Finish\n",
      "206: Data Load Finish, Predict Finish, 11.4963 11.2698 0.1733 0.8224 Evaluation Finish\n",
      "RMSE: 17.900253702862436, MAE: 17.535643143837184, MAPE: 0.27084861905987345\n",
      "ACC: 0.7234041297859681\n"
     ]
    }
   ],
   "source": [
    "predictARIMA(df, idx, 6)"
   ]
  },
  {
   "cell_type": "code",
   "execution_count": null,
   "id": "b38d2514",
   "metadata": {},
   "outputs": [],
   "source": []
  }
 ],
 "metadata": {
  "kernelspec": {
   "display_name": "test",
   "language": "python",
   "name": "test"
  },
  "language_info": {
   "codemirror_mode": {
    "name": "ipython",
    "version": 3
   },
   "file_extension": ".py",
   "mimetype": "text/x-python",
   "name": "python",
   "nbconvert_exporter": "python",
   "pygments_lexer": "ipython3",
   "version": "3.8.12"
  }
 },
 "nbformat": 4,
 "nbformat_minor": 5
}
