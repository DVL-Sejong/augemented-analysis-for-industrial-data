{
 "cells": [
  {
   "cell_type": "code",
   "execution_count": 1,
   "id": "de3fb51e",
   "metadata": {},
   "outputs": [],
   "source": [
    "import math\n",
    "import pandas as pd\n",
    "import numpy as np\n",
    "import numpy.linalg as la\n",
    "\n",
    "from sklearn.metrics import mean_squared_error, mean_absolute_error, mean_absolute_percentage_error\n",
    "from statsmodels.tsa.arima.model import ARIMA"
   ]
  },
  {
   "cell_type": "code",
   "execution_count": 2,
   "id": "33b9915f",
   "metadata": {},
   "outputs": [],
   "source": [
    "def csvIndexToDatetime(path, start, freq):\n",
    "    df = pd.read_csv(path)\n",
    "    df = df.drop(columns=['Unnamed: 0'])\n",
    "    time_len = df.shape[0]\n",
    "    num_nodes = df.shape[1]\n",
    "    print(time_len, num_nodes)\n",
    "    rng = pd.date_range(start, periods=time_len, freq=freq)\n",
    "    idx = pd.DatetimeIndex(rng)\n",
    "    df.index = idx\n",
    "    return df, idx"
   ]
  },
  {
   "cell_type": "code",
   "execution_count": 3,
   "id": "91f72990",
   "metadata": {},
   "outputs": [],
   "source": [
    "def evaluation(a,b):\n",
    "    rmse = math.sqrt(mean_squared_error(a,b))\n",
    "    mae = mean_absolute_error(a, b)\n",
    "    mape = mean_absolute_percentage_error(a, b)\n",
    "    F_norm = la.norm(a-b)/la.norm(a)\n",
    "    return rmse, mae, mape, 1-F_norm"
   ]
  },
  {
   "cell_type": "code",
   "execution_count": 4,
   "id": "629b9843",
   "metadata": {},
   "outputs": [],
   "source": [
    "def predictARIMA(df, idx, timelag):\n",
    "    rmse, mae, mape, acc =  [], [], [], []\n",
    "    \n",
    "    for i in range(df.shape[1]):\n",
    "        print(i, end = ': ')\n",
    "        ts = df.iloc[:-timelag, i]\n",
    "        ts_log = np.log(ts)\n",
    "        ts_log = np.array(ts_log, dtype=np.float64)\n",
    "        where_are_inf = np.isinf(ts_log)\n",
    "        ts_log[where_are_inf] = 0\n",
    "        ts_log = pd.Series(ts_log)\n",
    "        ts_log.index = idx[:-timelag]\n",
    "        print('Data Load Finish', end = ', ')\n",
    "        \n",
    "        model = ARIMA(ts_log, order=[1,0,0])\n",
    "        properModel = model.fit()\n",
    "        predict_ts = properModel.forecast(steps=timelag)\n",
    "        log_recover = np.exp(predict_ts)\n",
    "        testX = org_df.iloc[-timelag:, 0]\n",
    "        print('Predict Finish', end = ', ')\n",
    "        \n",
    "        er_rmse, er_mae, er_mape, er_acc = evaluation(testX, log_recover)\n",
    "        print(round(er_rmse,4), round(er_mae,4), round(er_mape,4), round(er_acc,4), end = ' ')\n",
    "        \n",
    "        rmse.append(er_rmse)\n",
    "        mae.append(er_mae)\n",
    "        mape.append(er_mape)\n",
    "        acc.append(er_acc)\n",
    "        print('Evaluation Finish')\n",
    "        \n",
    "    acc = np.mat(acc)\n",
    "    acc[acc<0] = 0\n",
    "    print('RMSE: ' + str(np.mean(rmse)) + ', MAE: ' + str(np.mean(mae)) + ', MAPE: ' + str(np.mean(mape))  + '\\n'\n",
    "          + 'ACC: ' + str(np.mean(acc)))"
   ]
  },
  {
   "cell_type": "code",
   "execution_count": 5,
   "id": "e171bd77",
   "metadata": {
    "scrolled": true
   },
   "outputs": [],
   "source": [
    "path_0 = '../Data/METR-LA/speed_la_0.csv'\n",
    "path_5 = '../Data/METR-LA/speed_la_5.csv'\n",
    "path_10 = '../Data/METR-LA/speed_la_10.csv'\n",
    "path_20 = '../Data/METR-LA/speed_la_20.csv'"
   ]
  },
  {
   "cell_type": "code",
   "execution_count": 6,
   "id": "ee4dc616",
   "metadata": {},
   "outputs": [],
   "source": [
    "start = '1/3/2012'\n",
    "freq = '5min'"
   ]
  },
  {
   "cell_type": "code",
   "execution_count": 7,
   "id": "05988c84",
   "metadata": {},
   "outputs": [
    {
     "name": "stdout",
     "output_type": "stream",
     "text": [
      "34272 207\n"
     ]
    }
   ],
   "source": [
    "org_path = '../Data/METR-LA/speed_la_0.csv'\n",
    "org_df, org_idx = csvIndexToDatetime(org_path, start, freq)"
   ]
  },
  {
   "cell_type": "markdown",
   "id": "04b7175f",
   "metadata": {},
   "source": [
    "### Unobserved Nodes = 0%"
   ]
  },
  {
   "cell_type": "code",
   "execution_count": 8,
   "id": "9eaf61b7",
   "metadata": {},
   "outputs": [
    {
     "name": "stdout",
     "output_type": "stream",
     "text": [
      "34272 207\n"
     ]
    },
    {
     "data": {
      "text/plain": [
       "0"
      ]
     },
     "execution_count": 8,
     "metadata": {},
     "output_type": "execute_result"
    }
   ],
   "source": [
    "df, idx = csvIndexToDatetime(path_0, start, freq)\n",
    "(df == 0).sum().sum()"
   ]
  },
  {
   "cell_type": "code",
   "execution_count": 9,
   "id": "60f8ff1e",
   "metadata": {
    "scrolled": true
   },
   "outputs": [
    {
     "name": "stdout",
     "output_type": "stream",
     "text": [
      "0: Data Load Finish, Predict Finish, 2.2251 2.0381 0.0315 0.9659 Evaluation Finish\n",
      "1: Data Load Finish, Predict Finish, 2.112 1.8903 0.0292 0.9676 Evaluation Finish\n",
      "2: Data Load Finish, Predict Finish, 2.1654 1.9685 0.0303 0.9668 Evaluation Finish\n",
      "3: Data Load Finish, Predict Finish, 9.2423 8.891 0.1356 0.8582 Evaluation Finish\n",
      "4: Data Load Finish, Predict Finish, 28.3486 28.1976 0.4322 0.565 Evaluation Finish\n",
      "5: Data Load Finish, Predict Finish, 12.1845 11.9977 0.1833 0.8131 Evaluation Finish\n",
      "6: Data Load Finish, Predict Finish, 3.0554 2.695 0.0408 0.9531 Evaluation Finish\n",
      "7: Data Load Finish, "
     ]
    },
    {
     "name": "stderr",
     "output_type": "stream",
     "text": [
      "/home/vislab/anaconda3/envs/test/lib/python3.8/site-packages/statsmodels/base/model.py:604: ConvergenceWarning: Maximum Likelihood optimization failed to converge. Check mle_retvals\n",
      "  warnings.warn(\"Maximum Likelihood optimization failed to \"\n"
     ]
    },
    {
     "name": "stdout",
     "output_type": "stream",
     "text": [
      "Predict Finish, 2.7414 2.3817 0.036 0.9579 Evaluation Finish\n",
      "8: Data Load Finish, Predict Finish, 3.9833 3.3542 0.0505 0.9389 Evaluation Finish\n",
      "9: Data Load Finish, Predict Finish, 2.4593 2.3026 0.0353 0.9623 Evaluation Finish\n",
      "10: Data Load Finish, Predict Finish, 4.9173 4.4395 0.0672 0.9246 Evaluation Finish\n",
      "11: Data Load Finish, Predict Finish, 5.0667 4.2958 0.0649 0.9223 Evaluation Finish\n",
      "12: Data Load Finish, Predict Finish, 8.147 7.2202 0.1099 0.875 Evaluation Finish\n",
      "13: Data Load Finish, Predict Finish, 3.3845 2.88 0.0434 0.9481 Evaluation Finish\n",
      "14: Data Load Finish, Predict Finish, 4.5155 3.7987 0.0573 0.9307 Evaluation Finish\n",
      "15: Data Load Finish, Predict Finish, 7.2101 6.5027 0.0989 0.8894 Evaluation Finish\n",
      "16: Data Load Finish, Predict Finish, 46.6564 46.5262 0.7139 0.2842 Evaluation Finish\n",
      "17: Data Load Finish, Predict Finish, 5.5693 5.0061 0.0759 0.9146 Evaluation Finish\n",
      "18: Data Load Finish, Predict Finish, 11.1807 10.9112 0.1665 0.8285 Evaluation Finish\n",
      "19: Data Load Finish, Predict Finish, 3.731 3.0795 0.0464 0.9428 Evaluation Finish\n",
      "20: Data Load Finish, Predict Finish, 2.1976 1.8915 0.0294 0.9663 Evaluation Finish\n",
      "21: Data Load Finish, Predict Finish, 5.8628 5.4518 0.0827 0.91 Evaluation Finish\n",
      "22: Data Load Finish, Predict Finish, 15.8482 15.6957 0.2401 0.7568 Evaluation Finish\n",
      "23: Data Load Finish, Predict Finish, 9.9835 9.715 0.1482 0.8468 Evaluation Finish\n",
      "24: Data Load Finish, Predict Finish, 2.46 2.0553 0.0321 0.9623 Evaluation Finish\n",
      "25: Data Load Finish, Predict Finish, 10.2656 10.041 0.1532 0.8425 Evaluation Finish\n",
      "26: Data Load Finish, Predict Finish, 9.7832 9.4322 0.1439 0.8499 Evaluation Finish\n",
      "27: Data Load Finish, Predict Finish, 4.1362 3.5926 0.0542 0.9365 Evaluation Finish\n",
      "28: Data Load Finish, Predict Finish, 2.5406 1.9537 0.0308 0.961 Evaluation Finish\n",
      "29: Data Load Finish, Predict Finish, 4.3118 3.4076 0.0515 0.9338 Evaluation Finish\n",
      "30: Data Load Finish, Predict Finish, 5.6134 5.1706 0.0784 0.9139 Evaluation Finish\n",
      "31: Data Load Finish, Predict Finish, 2.2571 1.873 0.0293 0.9654 Evaluation Finish\n",
      "32: Data Load Finish, Predict Finish, 2.2492 1.903 0.0297 0.9655 Evaluation Finish\n",
      "33: Data Load Finish, Predict Finish, 3.3939 2.8624 0.0433 0.9479 Evaluation Finish\n",
      "34: Data Load Finish, Predict Finish, 2.2599 1.9829 0.0308 0.9653 Evaluation Finish\n",
      "35: Data Load Finish, Predict Finish, 6.7121 6.2684 0.0952 0.897 Evaluation Finish\n",
      "36: Data Load Finish, Predict Finish, 2.3066 1.8825 0.0295 0.9646 Evaluation Finish\n",
      "37: Data Load Finish, Predict Finish, 2.1988 1.9615 0.0304 0.9663 Evaluation Finish\n",
      "38: Data Load Finish, Predict Finish, 10.5611 10.2162 0.156 0.838 Evaluation Finish\n",
      "39: Data Load Finish, Predict Finish, 4.9968 4.4309 0.067 0.9233 Evaluation Finish\n",
      "40: Data Load Finish, Predict Finish, 2.5588 2.3604 0.0359 0.9607 Evaluation Finish\n",
      "41: Data Load Finish, Predict Finish, 5.9692 5.5517 0.0842 0.9084 Evaluation Finish\n",
      "42: Data Load Finish, Predict Finish, 2.4238 2.2616 0.0347 0.9628 Evaluation Finish\n",
      "43: Data Load Finish, Predict Finish, 5.1034 4.4435 0.0672 0.9217 Evaluation Finish\n",
      "44: Data Load Finish, Predict Finish, 2.915 2.1531 0.0341 0.9553 Evaluation Finish\n",
      "45: Data Load Finish, Predict Finish, 2.3836 1.9202 0.0302 0.9634 Evaluation Finish\n",
      "46: Data Load Finish, Predict Finish, 4.6386 4.0686 0.0614 0.9288 Evaluation Finish\n",
      "47: Data Load Finish, Predict Finish, 8.7684 8.4297 0.1285 0.8655 Evaluation Finish\n",
      "48: Data Load Finish, Predict Finish, 11.1054 10.8669 0.1659 0.8296 Evaluation Finish\n",
      "49: Data Load Finish, Predict Finish, 3.4411 2.8645 0.0432 0.9472 Evaluation Finish\n",
      "50: Data Load Finish, Predict Finish, 7.5697 7.1924 0.1094 0.8839 Evaluation Finish\n",
      "51: Data Load Finish, Predict Finish, 16.6291 16.4823 0.2522 0.7449 Evaluation Finish\n",
      "52: Data Load Finish, Predict Finish, 3.6909 3.0315 0.0458 0.9434 Evaluation Finish\n",
      "53: Data Load Finish, Predict Finish, 9.5408 9.2842 0.1416 0.8536 Evaluation Finish\n",
      "54: Data Load Finish, Predict Finish, 4.8057 4.2819 0.0647 0.9263 Evaluation Finish\n",
      "55: Data Load Finish, Predict Finish, 4.7388 4.2451 0.0642 0.9273 Evaluation Finish\n",
      "56: Data Load Finish, Predict Finish, 24.1124 24.0141 0.368 0.63 Evaluation Finish\n",
      "57: Data Load Finish, Predict Finish, 5.9602 5.5382 0.084 0.9086 Evaluation Finish\n",
      "58: Data Load Finish, Predict Finish, 5.379 4.9453 0.0749 0.9175 Evaluation Finish\n",
      "59: Data Load Finish, Predict Finish, 4.4159 3.8576 0.0582 0.9322 Evaluation Finish\n",
      "60: Data Load Finish, Predict Finish, 7.5619 7.1111 0.1082 0.884 Evaluation Finish\n",
      "61: Data Load Finish, Predict Finish, 6.143 5.4061 0.082 0.9057 Evaluation Finish\n",
      "62: Data Load Finish, Predict Finish, 4.352 3.6445 0.055 0.9332 Evaluation Finish\n",
      "63: Data Load Finish, Predict Finish, 3.773 3.0592 0.0463 0.9421 Evaluation Finish\n",
      "64: Data Load Finish, Predict Finish, 2.4618 1.9605 0.0308 0.9622 Evaluation Finish\n",
      "65: Data Load Finish, Predict Finish, 3.3138 2.7765 0.0418 0.9492 Evaluation Finish\n",
      "66: Data Load Finish, Predict Finish, 2.3127 1.9861 0.0308 0.9645 Evaluation Finish\n",
      "67: Data Load Finish, Predict Finish, 2.4708 1.9643 0.0309 0.9621 Evaluation Finish\n",
      "68: Data Load Finish, Predict Finish, 2.8306 2.5046 0.0379 0.9566 Evaluation Finish\n",
      "69: Data Load Finish, Predict Finish, 3.7256 3.0221 0.0457 0.9428 Evaluation Finish\n",
      "70: Data Load Finish, Predict Finish, 5.3559 4.9057 0.0743 0.9178 Evaluation Finish\n",
      "71: Data Load Finish, Predict Finish, 3.967 3.2926 0.0496 0.9391 Evaluation Finish\n",
      "72: Data Load Finish, Predict Finish, 4.7088 3.9239 0.0594 0.9278 Evaluation Finish\n",
      "73: Data Load Finish, Predict Finish, 8.574 8.2199 0.1253 0.8684 Evaluation Finish\n",
      "74: Data Load Finish, Predict Finish, 3.0225 2.1516 0.0341 0.9536 Evaluation Finish\n",
      "75: Data Load Finish, Predict Finish, 14.4408 14.205 0.2173 0.7784 Evaluation Finish\n",
      "76: Data Load Finish, Predict Finish, 13.3393 13.1246 0.2007 0.7953 Evaluation Finish\n",
      "77: Data Load Finish, Predict Finish, 4.0646 3.3139 0.0499 0.9376 Evaluation Finish\n",
      "78: Data Load Finish, Predict Finish, 3.5966 2.8514 0.0449 0.9448 Evaluation Finish\n",
      "79: Data Load Finish, Predict Finish, 2.1572 1.9511 0.0301 0.9669 Evaluation Finish\n",
      "80: Data Load Finish, Predict Finish, 3.5729 3.038 0.0458 0.9452 Evaluation Finish\n",
      "81: Data Load Finish, Predict Finish, 5.8149 5.1448 0.078 0.9108 Evaluation Finish\n",
      "82: Data Load Finish, Predict Finish, 6.7753 6.3132 0.096 0.896 Evaluation Finish\n",
      "83: Data Load Finish, Predict Finish, 2.1994 2.0346 0.0313 0.9663 Evaluation Finish\n",
      "84: Data Load Finish, Predict Finish, 10.0574 9.7953 0.1495 0.8457 Evaluation Finish\n",
      "85: Data Load Finish, Predict Finish, 2.3023 2.0787 0.0317 0.9647 Evaluation Finish\n",
      "86: Data Load Finish, Predict Finish, 3.3368 2.8186 0.0427 0.9488 Evaluation Finish\n",
      "87: Data Load Finish, Predict Finish, 4.1534 3.4333 0.0518 0.9363 Evaluation Finish\n",
      "88: Data Load Finish, Predict Finish, 2.3503 2.2208 0.034 0.9639 Evaluation Finish\n",
      "89: Data Load Finish, Predict Finish, 2.2538 1.9153 0.0299 0.9654 Evaluation Finish\n",
      "90: Data Load Finish, Predict Finish, 2.5912 2.0097 0.0317 0.9602 Evaluation Finish\n",
      "91: Data Load Finish, Predict Finish, 18.8658 18.6802 0.286 0.7105 Evaluation Finish\n",
      "92: Data Load Finish, Predict Finish, 2.8463 2.2207 0.035 0.9563 Evaluation Finish\n",
      "93: Data Load Finish, Predict Finish, 2.2148 1.9904 0.0308 0.966 Evaluation Finish\n",
      "94: Data Load Finish, Predict Finish, 2.8868 2.5933 0.0393 0.9557 Evaluation Finish\n",
      "95: Data Load Finish, Predict Finish, 8.0143 7.6743 0.1169 0.877 Evaluation Finish\n",
      "96: Data Load Finish, Predict Finish, 3.4349 2.6082 0.0411 0.9473 Evaluation Finish\n",
      "97: Data Load Finish, Predict Finish, 2.3525 1.9181 0.03 0.9639 Evaluation Finish\n",
      "98: Data Load Finish, Predict Finish, 7.4726 7.1316 0.1085 0.8853 Evaluation Finish\n",
      "99: Data Load Finish, Predict Finish, 2.3717 1.9573 0.0307 0.9636 Evaluation Finish\n",
      "100: Data Load Finish, Predict Finish, 6.3858 5.794 0.088 0.902 Evaluation Finish\n",
      "101: Data Load Finish, Predict Finish, 4.6032 3.8488 0.0581 0.9294 Evaluation Finish\n",
      "102: Data Load Finish, Predict Finish, 7.5052 7.1852 0.1093 0.8848 Evaluation Finish\n",
      "103: Data Load Finish, Predict Finish, 3.611 2.9918 0.045 0.9446 Evaluation Finish\n",
      "104: Data Load Finish, Predict Finish, 2.3285 2.035 0.0315 0.9643 Evaluation Finish\n"
     ]
    },
    {
     "name": "stdout",
     "output_type": "stream",
     "text": [
      "105: Data Load Finish, Predict Finish, 3.0614 2.2902 0.0362 0.953 Evaluation Finish\n",
      "106: Data Load Finish, Predict Finish, 5.0718 4.3718 0.0661 0.9222 Evaluation Finish\n",
      "107: Data Load Finish, Predict Finish, 3.27 2.4699 0.039 0.9498 Evaluation Finish\n",
      "108: Data Load Finish, Predict Finish, 2.2207 1.8883 0.0291 0.9659 Evaluation Finish\n",
      "109: Data Load Finish, Predict Finish, 7.912 7.6211 0.116 0.8786 Evaluation Finish\n",
      "110: Data Load Finish, Predict Finish, 2.3669 1.9181 0.03 0.9637 Evaluation Finish\n",
      "111: Data Load Finish, Predict Finish, 2.2131 1.9793 0.0307 0.966 Evaluation Finish\n",
      "112: Data Load Finish, Predict Finish, 7.1173 6.7208 0.1022 0.8908 Evaluation Finish\n",
      "113: Data Load Finish, Predict Finish, 5.2238 4.4032 0.0667 0.9199 Evaluation Finish\n",
      "114: Data Load Finish, Predict Finish, 2.7758 2.3856 0.0361 0.9574 Evaluation Finish\n",
      "115: Data Load Finish, Predict Finish, 2.2201 2.0429 0.0315 0.9659 Evaluation Finish\n",
      "116: Data Load Finish, Predict Finish, 2.4287 2.2766 0.0349 0.9627 Evaluation Finish\n",
      "117: Data Load Finish, Predict Finish, 2.3109 1.9434 0.0303 0.9645 Evaluation Finish\n",
      "118: Data Load Finish, Predict Finish, 2.1948 1.8547 0.0285 0.9663 Evaluation Finish\n",
      "119: Data Load Finish, Predict Finish, 2.9416 2.1247 0.0337 0.9549 Evaluation Finish\n",
      "120: Data Load Finish, Predict Finish, 7.2822 6.9407 0.1056 0.8883 Evaluation Finish\n",
      "121: Data Load Finish, Predict Finish, 5.6151 5.2033 0.0789 0.9138 Evaluation Finish\n",
      "122: Data Load Finish, Predict Finish, 2.5499 1.9185 0.0303 0.9609 Evaluation Finish\n",
      "123: Data Load Finish, Predict Finish, 3.3294 2.5705 0.0406 0.9489 Evaluation Finish\n",
      "124: Data Load Finish, Predict Finish, 9.7847 9.5351 0.1455 0.8499 Evaluation Finish\n",
      "125: Data Load Finish, Predict Finish, 10.6295 10.3681 0.1583 0.8369 Evaluation Finish\n",
      "126: Data Load Finish, Predict Finish, 9.5152 9.2137 0.1404 0.854 Evaluation Finish\n",
      "127: Data Load Finish, Predict Finish, 3.9609 3.1678 0.0479 0.9392 Evaluation Finish\n",
      "128: Data Load Finish, Predict Finish, 2.4098 2.0173 0.0315 0.963 Evaluation Finish\n",
      "129: Data Load Finish, Predict Finish, 4.7567 4.2408 0.0641 0.927 Evaluation Finish\n",
      "130: Data Load Finish, Predict Finish, 5.1179 4.534 0.0686 0.9215 Evaluation Finish\n",
      "131: Data Load Finish, Predict Finish, 5.1165 4.3265 0.0655 0.9215 Evaluation Finish\n",
      "132: Data Load Finish, Predict Finish, 2.7855 2.0018 0.0317 0.9573 Evaluation Finish\n",
      "133: Data Load Finish, Predict Finish, 4.5054 3.7521 0.0566 0.9309 Evaluation Finish\n",
      "134: Data Load Finish, Predict Finish, 3.3629 2.8676 0.0434 0.9484 Evaluation Finish\n",
      "135: Data Load Finish, Predict Finish, 2.7114 2.4434 0.0371 0.9584 Evaluation Finish\n",
      "136: Data Load Finish, Predict Finish, 2.4916 1.9704 0.0309 0.9618 Evaluation Finish\n",
      "137: Data Load Finish, Predict Finish, 6.7717 6.1266 0.0931 0.8961 Evaluation Finish\n",
      "138: Data Load Finish, Predict Finish, 41.1549 40.8454 0.6266 0.3686 Evaluation Finish\n",
      "139: Data Load Finish, Predict Finish, 5.8859 5.2507 0.0797 0.9097 Evaluation Finish\n",
      "140: Data Load Finish, Predict Finish, 13.3439 13.173 0.2014 0.7953 Evaluation Finish\n",
      "141: Data Load Finish, Predict Finish, 3.7721 3.0836 0.0465 0.9421 Evaluation Finish\n",
      "142: Data Load Finish, Predict Finish, 2.5399 2.3814 0.0364 0.961 Evaluation Finish\n",
      "143: Data Load Finish, Predict Finish, 5.1276 4.6262 0.07 0.9213 Evaluation Finish\n",
      "144: Data Load Finish, Predict Finish, 12.276 11.9676 0.1829 0.8117 Evaluation Finish\n",
      "145: Data Load Finish, Predict Finish, 2.5014 1.904 0.03 0.9616 Evaluation Finish\n",
      "146: Data Load Finish, Predict Finish, 4.0551 3.27 0.0493 0.9378 Evaluation Finish\n",
      "147: Data Load Finish, Predict Finish, 5.7594 5.3379 0.0809 0.9116 Evaluation Finish\n",
      "148: Data Load Finish, Predict Finish, 5.2874 4.6966 0.0711 0.9189 Evaluation Finish\n",
      "149: Data Load Finish, Predict Finish, 2.9578 2.2273 0.0351 0.9546 Evaluation Finish\n",
      "150: Data Load Finish, Predict Finish, 4.9188 4.0381 0.0612 0.9245 Evaluation Finish\n",
      "151: Data Load Finish, Predict Finish, 6.571 6.1779 0.0939 0.8992 Evaluation Finish\n",
      "152: Data Load Finish, Predict Finish, 4.5713 4.0245 0.0607 0.9299 Evaluation Finish\n",
      "153: Data Load Finish, Predict Finish, 2.5347 2.3304 0.0355 0.9611 Evaluation Finish\n",
      "154: Data Load Finish, Predict Finish, 6.4526 6.0546 0.092 0.901 Evaluation Finish\n",
      "155: Data Load Finish, Predict Finish, 5.7359 4.8283 0.0732 0.912 Evaluation Finish\n",
      "156: Data Load Finish, Predict Finish, 10.3557 10.1136 0.1543 0.8411 Evaluation Finish\n",
      "157: Data Load Finish, Predict Finish, 2.714 2.4964 0.038 0.9584 Evaluation Finish\n",
      "158: Data Load Finish, Predict Finish, 3.7789 3.1003 0.0472 0.942 Evaluation Finish\n",
      "159: Data Load Finish, Predict Finish, 5.792 4.8437 0.0735 0.9111 Evaluation Finish\n",
      "160: Data Load Finish, Predict Finish, 5.5031 4.3109 0.0655 0.9156 Evaluation Finish\n",
      "161: Data Load Finish, Predict Finish, 3.4418 2.6324 0.0415 0.9472 Evaluation Finish\n",
      "162: Data Load Finish, Predict Finish, 2.4949 1.8951 0.0298 0.9617 Evaluation Finish\n",
      "163: Data Load Finish, Predict Finish, 5.6084 4.5257 0.0687 0.914 Evaluation Finish\n",
      "164: Data Load Finish, Predict Finish, 4.8969 4.0746 0.0617 0.9249 Evaluation Finish\n",
      "165: Data Load Finish, Predict Finish, 17.2072 17.0743 0.2613 0.736 Evaluation Finish\n",
      "166: Data Load Finish, Predict Finish, 3.0321 2.3373 0.0368 0.9535 Evaluation Finish\n",
      "167: Data Load Finish, Predict Finish, 2.591 1.9447 0.0307 0.9602 Evaluation Finish\n",
      "168: Data Load Finish, Predict Finish, 2.525 1.9518 0.0307 0.9613 Evaluation Finish\n",
      "169: Data Load Finish, Predict Finish, 2.5785 2.0442 0.0321 0.9604 Evaluation Finish\n",
      "170: Data Load Finish, Predict Finish, 7.8972 7.5768 0.1154 0.8788 Evaluation Finish\n",
      "171: Data Load Finish, Predict Finish, 2.2155 1.8933 0.0295 0.966 Evaluation Finish\n",
      "172: Data Load Finish, Predict Finish, 6.8047 6.1785 0.094 0.8956 Evaluation Finish\n",
      "173: Data Load Finish, Predict Finish, 2.1536 1.8255 0.0285 0.967 Evaluation Finish\n",
      "174: Data Load Finish, Predict Finish, 8.7085 8.3994 0.128 0.8664 Evaluation Finish\n",
      "175: Data Load Finish, Predict Finish, 2.5766 2.1133 0.0331 0.9605 Evaluation Finish\n",
      "176: Data Load Finish, Predict Finish, 2.6697 1.9738 0.0312 0.959 Evaluation Finish\n",
      "177: Data Load Finish, Predict Finish, 3.5643 3.0387 0.0458 0.9453 Evaluation Finish\n",
      "178: Data Load Finish, Predict Finish, 2.1922 2.0438 0.0314 0.9664 Evaluation Finish\n",
      "179: Data Load Finish, Predict Finish, 9.6989 9.4611 0.1443 0.8512 Evaluation Finish\n",
      "180: Data Load Finish, Predict Finish, 5.309 4.6591 0.0706 0.9185 Evaluation Finish\n",
      "181: Data Load Finish, Predict Finish, 4.5653 4.0018 0.0604 0.93 Evaluation Finish\n",
      "182: Data Load Finish, Predict Finish, 2.2328 2.0898 0.0321 0.9657 Evaluation Finish\n",
      "183: Data Load Finish, Predict Finish, 3.0191 2.4085 0.0379 0.9537 Evaluation Finish\n",
      "184: Data Load Finish, Predict Finish, 2.4934 2.2363 0.034 0.9617 Evaluation Finish\n",
      "185: Data Load Finish, Predict Finish, 2.4336 2.2907 0.035 0.9627 Evaluation Finish\n",
      "186: Data Load Finish, Predict Finish, 2.8136 2.5432 0.0386 0.9568 Evaluation Finish\n",
      "187: Data Load Finish, Predict Finish, 8.6095 7.5548 0.1151 0.8679 Evaluation Finish\n",
      "188: Data Load Finish, Predict Finish, 2.3707 2.13 0.0329 0.9636 Evaluation Finish\n",
      "189: Data Load Finish, Predict Finish, 4.7332 4.1651 0.0629 0.9274 Evaluation Finish\n",
      "190: Data Load Finish, Predict Finish, 3.4773 2.8936 0.0438 0.9466 Evaluation Finish\n",
      "191: Data Load Finish, Predict Finish, 8.4859 7.4947 0.1142 0.8698 Evaluation Finish\n",
      "192: Data Load Finish, Predict Finish, 3.684 3.0328 0.0457 0.9435 Evaluation Finish\n",
      "193: Data Load Finish, Predict Finish, 8.5264 7.4797 0.114 0.8692 Evaluation Finish\n",
      "194: Data Load Finish, Predict Finish, 9.4571 9.2158 0.1405 0.8549 Evaluation Finish\n",
      "195: Data Load Finish, Predict Finish, 2.6633 2.1564 0.0338 0.9591 Evaluation Finish\n",
      "196: Data Load Finish, Predict Finish, 62.2991 62.252 0.9556 0.0441 Evaluation Finish\n",
      "197: Data Load Finish, Predict Finish, 20.7406 20.5678 0.3151 0.6818 Evaluation Finish\n",
      "198: Data Load Finish, Predict Finish, 2.6787 2.0253 0.0319 0.9589 Evaluation Finish\n",
      "199: Data Load Finish, Predict Finish, 4.93 4.3897 0.0664 0.9244 Evaluation Finish\n",
      "200: Data Load Finish, Predict Finish, 2.6932 2.3149 0.0351 0.9587 Evaluation Finish\n",
      "201: Data Load Finish, Predict Finish, 2.3847 1.8907 0.0297 0.9634 Evaluation Finish\n"
     ]
    },
    {
     "name": "stdout",
     "output_type": "stream",
     "text": [
      "202: Data Load Finish, Predict Finish, 3.6551 3.1368 0.0473 0.9439 Evaluation Finish\n",
      "203: Data Load Finish, Predict Finish, 2.9395 2.1267 0.0337 0.9549 Evaluation Finish\n",
      "204: Data Load Finish, Predict Finish, 3.7859 3.1176 0.0469 0.9419 Evaluation Finish\n",
      "205: Data Load Finish, Predict Finish, 2.3484 2.0221 0.0313 0.964 Evaluation Finish\n",
      "206: Data Load Finish, Predict Finish, 6.935 6.4664 0.0983 0.8936 Evaluation Finish\n",
      "RMSE: 5.942962574598552, MAE: 5.463677770476225, MAPE: 0.08349957758161182\n",
      "ACC: 0.908817587663597\n"
     ]
    }
   ],
   "source": [
    "predictARIMA(df, idx, 9)"
   ]
  },
  {
   "cell_type": "markdown",
   "id": "c1acb05c",
   "metadata": {},
   "source": [
    "### Unobserved Nodes = 5%"
   ]
  },
  {
   "cell_type": "code",
   "execution_count": 10,
   "id": "8a799433",
   "metadata": {},
   "outputs": [
    {
     "name": "stdout",
     "output_type": "stream",
     "text": [
      "34272 207\n"
     ]
    },
    {
     "data": {
      "text/plain": [
       "342720"
      ]
     },
     "execution_count": 10,
     "metadata": {},
     "output_type": "execute_result"
    }
   ],
   "source": [
    "df, idx = csvIndexToDatetime(path_5, start, freq)\n",
    "(df == 0).sum().sum()"
   ]
  },
  {
   "cell_type": "code",
   "execution_count": 11,
   "id": "83ef8625",
   "metadata": {
    "scrolled": false
   },
   "outputs": [
    {
     "name": "stdout",
     "output_type": "stream",
     "text": [
      "0: Data Load Finish, Predict Finish, 2.2251 2.0381 0.0315 0.9659 Evaluation Finish\n",
      "1: Data Load Finish, Predict Finish, 2.112 1.8903 0.0292 0.9676 Evaluation Finish\n",
      "2: Data Load Finish, Predict Finish, 2.1654 1.9685 0.0303 0.9668 Evaluation Finish\n",
      "3: Data Load Finish, Predict Finish, 9.2423 8.891 0.1356 0.8582 Evaluation Finish\n",
      "4: Data Load Finish, Predict Finish, 28.3486 28.1976 0.4322 0.565 Evaluation Finish\n",
      "5: Data Load Finish, Predict Finish, 12.1845 11.9977 0.1833 0.8131 Evaluation Finish\n",
      "6: Data Load Finish, Predict Finish, 3.0554 2.695 0.0408 0.9531 Evaluation Finish\n",
      "7: Data Load Finish, "
     ]
    },
    {
     "name": "stderr",
     "output_type": "stream",
     "text": [
      "/home/vislab/anaconda3/envs/test/lib/python3.8/site-packages/statsmodels/base/model.py:604: ConvergenceWarning: Maximum Likelihood optimization failed to converge. Check mle_retvals\n",
      "  warnings.warn(\"Maximum Likelihood optimization failed to \"\n"
     ]
    },
    {
     "name": "stdout",
     "output_type": "stream",
     "text": [
      "Predict Finish, 2.7414 2.3817 0.036 0.9579 Evaluation Finish\n",
      "8: Data Load Finish, Predict Finish, 3.9833 3.3542 0.0505 0.9389 Evaluation Finish\n",
      "9: Data Load Finish, Predict Finish, 2.4593 2.3026 0.0353 0.9623 Evaluation Finish\n",
      "10: Data Load Finish, Predict Finish, 4.9173 4.4395 0.0672 0.9246 Evaluation Finish\n",
      "11: Data Load Finish, Predict Finish, 5.0667 4.2958 0.0649 0.9223 Evaluation Finish\n",
      "12: Data Load Finish, Predict Finish, 8.147 7.2202 0.1099 0.875 Evaluation Finish\n",
      "13: Data Load Finish, Predict Finish, 3.3845 2.88 0.0434 0.9481 Evaluation Finish\n",
      "14: Data Load Finish, Predict Finish, 4.5155 3.7987 0.0573 0.9307 Evaluation Finish\n",
      "15: Data Load Finish, Predict Finish, 7.2101 6.5027 0.0989 0.8894 Evaluation Finish\n",
      "16: Data Load Finish, Predict Finish, 46.6564 46.5262 0.7139 0.2842 Evaluation Finish\n",
      "17: Data Load Finish, Predict Finish, 5.5693 5.0061 0.0759 0.9146 Evaluation Finish\n",
      "18: Data Load Finish, Predict Finish, 11.1807 10.9112 0.1665 0.8285 Evaluation Finish\n",
      "19: Data Load Finish, Predict Finish, 3.731 3.0795 0.0464 0.9428 Evaluation Finish\n",
      "20: Data Load Finish, Predict Finish, 2.1976 1.8915 0.0294 0.9663 Evaluation Finish\n",
      "21: Data Load Finish, Predict Finish, 5.8628 5.4518 0.0827 0.91 Evaluation Finish\n",
      "22: Data Load Finish, Predict Finish, 15.8482 15.6957 0.2401 0.7568 Evaluation Finish\n",
      "23: Data Load Finish, Predict Finish, 9.9835 9.715 0.1482 0.8468 Evaluation Finish\n",
      "24: Data Load Finish, Predict Finish, 2.46 2.0553 0.0321 0.9623 Evaluation Finish\n",
      "25: Data Load Finish, Predict Finish, 10.2656 10.041 0.1532 0.8425 Evaluation Finish\n",
      "26: Data Load Finish, Predict Finish, 9.7832 9.4322 0.1439 0.8499 Evaluation Finish\n",
      "27: Data Load Finish, Predict Finish, 4.1362 3.5926 0.0542 0.9365 Evaluation Finish\n",
      "28: Data Load Finish, Predict Finish, 2.5406 1.9537 0.0308 0.961 Evaluation Finish\n",
      "29: Data Load Finish, Predict Finish, 4.3118 3.4076 0.0515 0.9338 Evaluation Finish\n",
      "30: Data Load Finish, "
     ]
    },
    {
     "name": "stderr",
     "output_type": "stream",
     "text": [
      "/home/vislab/anaconda3/envs/test/lib/python3.8/site-packages/pandas/core/arraylike.py:364: RuntimeWarning: divide by zero encountered in log\n",
      "  result = getattr(ufunc, method)(*inputs, **kwargs)\n",
      "/home/vislab/anaconda3/envs/test/lib/python3.8/site-packages/statsmodels/base/model.py:604: ConvergenceWarning: Maximum Likelihood optimization failed to converge. Check mle_retvals\n",
      "  warnings.warn(\"Maximum Likelihood optimization failed to \"\n"
     ]
    },
    {
     "name": "stdout",
     "output_type": "stream",
     "text": [
      "Predict Finish, 64.1772 64.1418 0.9846 0.0153 Evaluation Finish\n",
      "31: Data Load Finish, Predict Finish, 2.2571 1.873 0.0293 0.9654 Evaluation Finish\n",
      "32: Data Load Finish, Predict Finish, 2.2492 1.903 0.0297 0.9655 Evaluation Finish\n",
      "33: Data Load Finish, Predict Finish, 3.3939 2.8624 0.0433 0.9479 Evaluation Finish\n",
      "34: Data Load Finish, Predict Finish, 2.2599 1.9829 0.0308 0.9653 Evaluation Finish\n",
      "35: Data Load Finish, Predict Finish, 6.7121 6.2684 0.0952 0.897 Evaluation Finish\n",
      "36: Data Load Finish, Predict Finish, 2.3066 1.8825 0.0295 0.9646 Evaluation Finish\n",
      "37: Data Load Finish, Predict Finish, 2.1988 1.9615 0.0304 0.9663 Evaluation Finish\n",
      "38: Data Load Finish, Predict Finish, 10.5611 10.2162 0.156 0.838 Evaluation Finish\n",
      "39: Data Load Finish, Predict Finish, 4.9968 4.4309 0.067 0.9233 Evaluation Finish\n",
      "40: Data Load Finish, Predict Finish, 2.5588 2.3604 0.0359 0.9607 Evaluation Finish\n",
      "41: Data Load Finish, Predict Finish, 5.9692 5.5517 0.0842 0.9084 Evaluation Finish\n",
      "42: Data Load Finish, Predict Finish, 2.4238 2.2616 0.0347 0.9628 Evaluation Finish\n",
      "43: Data Load Finish, Predict Finish, 5.1034 4.4435 0.0672 0.9217 Evaluation Finish\n",
      "44: Data Load Finish, Predict Finish, 2.915 2.1531 0.0341 0.9553 Evaluation Finish\n",
      "45: Data Load Finish, Predict Finish, 2.3836 1.9202 0.0302 0.9634 Evaluation Finish\n",
      "46: Data Load Finish, Predict Finish, 4.6386 4.0686 0.0614 0.9288 Evaluation Finish\n",
      "47: Data Load Finish, Predict Finish, 8.7684 8.4297 0.1285 0.8655 Evaluation Finish\n",
      "48: Data Load Finish, Predict Finish, 11.1054 10.8669 0.1659 0.8296 Evaluation Finish\n",
      "49: Data Load Finish, Predict Finish, 3.4411 2.8645 0.0432 0.9472 Evaluation Finish\n",
      "50: Data Load Finish, Predict Finish, 7.5697 7.1924 0.1094 0.8839 Evaluation Finish\n",
      "51: Data Load Finish, Predict Finish, 16.6291 16.4823 0.2522 0.7449 Evaluation Finish\n",
      "52: Data Load Finish, Predict Finish, 3.6909 3.0315 0.0458 0.9434 Evaluation Finish\n",
      "53: Data Load Finish, Predict Finish, 9.5408 9.2842 0.1416 0.8536 Evaluation Finish\n",
      "54: Data Load Finish, Predict Finish, 4.8057 4.2819 0.0647 0.9263 Evaluation Finish\n",
      "55: Data Load Finish, Predict Finish, 4.7388 4.2451 0.0642 0.9273 Evaluation Finish\n",
      "56: Data Load Finish, Predict Finish, 24.1124 24.0141 0.368 0.63 Evaluation Finish\n",
      "57: Data Load Finish, Predict Finish, 5.9602 5.5382 0.084 0.9086 Evaluation Finish\n",
      "58: Data Load Finish, Predict Finish, 5.379 4.9453 0.0749 0.9175 Evaluation Finish\n",
      "59: Data Load Finish, Predict Finish, 4.4159 3.8576 0.0582 0.9322 Evaluation Finish\n",
      "60: Data Load Finish, Predict Finish, 7.5619 7.1111 0.1082 0.884 Evaluation Finish\n",
      "61: Data Load Finish, Predict Finish, 6.143 5.4061 0.082 0.9057 Evaluation Finish\n",
      "62: Data Load Finish, Predict Finish, 4.352 3.6445 0.055 0.9332 Evaluation Finish\n",
      "63: Data Load Finish, Predict Finish, 3.773 3.0592 0.0463 0.9421 Evaluation Finish\n",
      "64: Data Load Finish, Predict Finish, 2.4618 1.9605 0.0308 0.9622 Evaluation Finish\n",
      "65: Data Load Finish, Predict Finish, 3.3138 2.7765 0.0418 0.9492 Evaluation Finish\n",
      "66: Data Load Finish, Predict Finish, 2.3127 1.9861 0.0308 0.9645 Evaluation Finish\n",
      "67: Data Load Finish, Predict Finish, 2.4708 1.9643 0.0309 0.9621 Evaluation Finish\n",
      "68: Data Load Finish, "
     ]
    },
    {
     "name": "stderr",
     "output_type": "stream",
     "text": [
      "/home/vislab/anaconda3/envs/test/lib/python3.8/site-packages/pandas/core/arraylike.py:364: RuntimeWarning: divide by zero encountered in log\n",
      "  result = getattr(ufunc, method)(*inputs, **kwargs)\n",
      "/home/vislab/anaconda3/envs/test/lib/python3.8/site-packages/statsmodels/base/model.py:604: ConvergenceWarning: Maximum Likelihood optimization failed to converge. Check mle_retvals\n",
      "  warnings.warn(\"Maximum Likelihood optimization failed to \"\n"
     ]
    },
    {
     "name": "stdout",
     "output_type": "stream",
     "text": [
      "Predict Finish, 64.1772 64.1418 0.9846 0.0153 Evaluation Finish\n",
      "69: Data Load Finish, Predict Finish, 3.7256 3.0221 0.0457 0.9428 Evaluation Finish\n",
      "70: Data Load Finish, Predict Finish, 5.3559 4.9057 0.0743 0.9178 Evaluation Finish\n",
      "71: Data Load Finish, Predict Finish, 3.967 3.2926 0.0496 0.9391 Evaluation Finish\n",
      "72: Data Load Finish, Predict Finish, 4.7088 3.9239 0.0594 0.9278 Evaluation Finish\n",
      "73: Data Load Finish, Predict Finish, 8.574 8.2199 0.1253 0.8684 Evaluation Finish\n",
      "74: Data Load Finish, Predict Finish, 3.0225 2.1516 0.0341 0.9536 Evaluation Finish\n",
      "75: Data Load Finish, Predict Finish, 14.4408 14.205 0.2173 0.7784 Evaluation Finish\n",
      "76: Data Load Finish, Predict Finish, 13.3393 13.1246 0.2007 0.7953 Evaluation Finish\n",
      "77: Data Load Finish, Predict Finish, 4.0646 3.3139 0.0499 0.9376 Evaluation Finish\n",
      "78: Data Load Finish, Predict Finish, 3.5966 2.8514 0.0449 0.9448 Evaluation Finish\n",
      "79: Data Load Finish, Predict Finish, 2.1572 1.9511 0.0301 0.9669 Evaluation Finish\n",
      "80: Data Load Finish, Predict Finish, 3.5729 3.038 0.0458 0.9452 Evaluation Finish\n",
      "81: Data Load Finish, Predict Finish, 5.8149 5.1448 0.078 0.9108 Evaluation Finish\n",
      "82: Data Load Finish, Predict Finish, 6.7753 6.3132 0.096 0.896 Evaluation Finish\n",
      "83: Data Load Finish, Predict Finish, 2.1994 2.0346 0.0313 0.9663 Evaluation Finish\n",
      "84: Data Load Finish, Predict Finish, 10.0574 9.7953 0.1495 0.8457 Evaluation Finish\n",
      "85: Data Load Finish, Predict Finish, 2.3023 2.0787 0.0317 0.9647 Evaluation Finish\n",
      "86: Data Load Finish, Predict Finish, 3.3368 2.8186 0.0427 0.9488 Evaluation Finish\n",
      "87: Data Load Finish, Predict Finish, 4.1534 3.4333 0.0518 0.9363 Evaluation Finish\n",
      "88: Data Load Finish, Predict Finish, 2.3503 2.2208 0.034 0.9639 Evaluation Finish\n",
      "89: Data Load Finish, Predict Finish, 2.2538 1.9153 0.0299 0.9654 Evaluation Finish\n",
      "90: Data Load Finish, Predict Finish, 2.5912 2.0097 0.0317 0.9602 Evaluation Finish\n",
      "91: Data Load Finish, Predict Finish, 18.8658 18.6802 0.286 0.7105 Evaluation Finish\n",
      "92: Data Load Finish, Predict Finish, 2.8463 2.2207 0.035 0.9563 Evaluation Finish\n",
      "93: Data Load Finish, Predict Finish, 2.2148 1.9904 0.0308 0.966 Evaluation Finish\n",
      "94: Data Load Finish, Predict Finish, 2.8868 2.5933 0.0393 0.9557 Evaluation Finish\n",
      "95: Data Load Finish, Predict Finish, 8.0143 7.6743 0.1169 0.877 Evaluation Finish\n",
      "96: Data Load Finish, Predict Finish, 3.4349 2.6082 0.0411 0.9473 Evaluation Finish\n",
      "97: Data Load Finish, Predict Finish, 2.3525 1.9181 0.03 0.9639 Evaluation Finish\n",
      "98: Data Load Finish, Predict Finish, 7.4726 7.1316 0.1085 0.8853 Evaluation Finish\n",
      "99: Data Load Finish, Predict Finish, 2.3717 1.9573 0.0307 0.9636 Evaluation Finish\n",
      "100: Data Load Finish, Predict Finish, 6.3858 5.794 0.088 0.902 Evaluation Finish\n",
      "101: Data Load Finish, Predict Finish, 4.6032 3.8488 0.0581 0.9294 Evaluation Finish\n",
      "102: Data Load Finish, Predict Finish, 7.5052 7.1852 0.1093 0.8848 Evaluation Finish\n",
      "103: Data Load Finish, Predict Finish, 3.611 2.9918 0.045 0.9446 Evaluation Finish\n",
      "104: Data Load Finish, Predict Finish, 2.3285 2.035 0.0315 0.9643 Evaluation Finish\n",
      "105: Data Load Finish, Predict Finish, 3.0614 2.2902 0.0362 0.953 Evaluation Finish\n",
      "106: Data Load Finish, Predict Finish, 5.0718 4.3718 0.0661 0.9222 Evaluation Finish\n",
      "107: Data Load Finish, Predict Finish, 3.27 2.4699 0.039 0.9498 Evaluation Finish\n",
      "108: Data Load Finish, Predict Finish, 2.2207 1.8883 0.0291 0.9659 Evaluation Finish\n",
      "109: Data Load Finish, Predict Finish, 7.912 7.6211 0.116 0.8786 Evaluation Finish\n",
      "110: Data Load Finish, Predict Finish, 2.3669 1.9181 0.03 0.9637 Evaluation Finish\n",
      "111: Data Load Finish, Predict Finish, 2.2131 1.9793 0.0307 0.966 Evaluation Finish\n",
      "112: Data Load Finish, Predict Finish, 7.1173 6.7208 0.1022 0.8908 Evaluation Finish\n",
      "113: Data Load Finish, Predict Finish, 5.2238 4.4032 0.0667 0.9199 Evaluation Finish\n",
      "114: Data Load Finish, Predict Finish, 2.7758 2.3856 0.0361 0.9574 Evaluation Finish\n",
      "115: Data Load Finish, Predict Finish, 2.2201 2.0429 0.0315 0.9659 Evaluation Finish\n",
      "116: Data Load Finish, Predict Finish, 2.4287 2.2766 0.0349 0.9627 Evaluation Finish\n",
      "117: Data Load Finish, Predict Finish, 2.3109 1.9434 0.0303 0.9645 Evaluation Finish\n",
      "118: Data Load Finish, Predict Finish, 2.1948 1.8547 0.0285 0.9663 Evaluation Finish\n",
      "119: Data Load Finish, Predict Finish, 2.9416 2.1247 0.0337 0.9549 Evaluation Finish\n",
      "120: Data Load Finish, "
     ]
    },
    {
     "name": "stderr",
     "output_type": "stream",
     "text": [
      "/home/vislab/anaconda3/envs/test/lib/python3.8/site-packages/pandas/core/arraylike.py:364: RuntimeWarning: divide by zero encountered in log\n",
      "  result = getattr(ufunc, method)(*inputs, **kwargs)\n",
      "/home/vislab/anaconda3/envs/test/lib/python3.8/site-packages/statsmodels/base/model.py:604: ConvergenceWarning: Maximum Likelihood optimization failed to converge. Check mle_retvals\n",
      "  warnings.warn(\"Maximum Likelihood optimization failed to \"\n"
     ]
    },
    {
     "name": "stdout",
     "output_type": "stream",
     "text": [
      "Predict Finish, 64.1772 64.1418 0.9846 0.0153 Evaluation Finish\n",
      "121: Data Load Finish, Predict Finish, 5.6151 5.2033 0.0789 0.9138 Evaluation Finish\n",
      "122: Data Load Finish, Predict Finish, 2.5499 1.9185 0.0303 0.9609 Evaluation Finish\n",
      "123: Data Load Finish, Predict Finish, 3.3294 2.5705 0.0406 0.9489 Evaluation Finish\n",
      "124: Data Load Finish, Predict Finish, 9.7847 9.5351 0.1455 0.8499 Evaluation Finish\n",
      "125: Data Load Finish, "
     ]
    },
    {
     "name": "stderr",
     "output_type": "stream",
     "text": [
      "/home/vislab/anaconda3/envs/test/lib/python3.8/site-packages/pandas/core/arraylike.py:364: RuntimeWarning: divide by zero encountered in log\n",
      "  result = getattr(ufunc, method)(*inputs, **kwargs)\n",
      "/home/vislab/anaconda3/envs/test/lib/python3.8/site-packages/statsmodels/base/model.py:604: ConvergenceWarning: Maximum Likelihood optimization failed to converge. Check mle_retvals\n",
      "  warnings.warn(\"Maximum Likelihood optimization failed to \"\n"
     ]
    },
    {
     "name": "stdout",
     "output_type": "stream",
     "text": [
      "Predict Finish, 64.1772 64.1418 0.9846 0.0153 Evaluation Finish\n",
      "126: Data Load Finish, Predict Finish, 9.5152 9.2137 0.1404 0.854 Evaluation Finish\n",
      "127: Data Load Finish, Predict Finish, 3.9609 3.1678 0.0479 0.9392 Evaluation Finish\n",
      "128: Data Load Finish, Predict Finish, 2.4098 2.0173 0.0315 0.963 Evaluation Finish\n",
      "129: Data Load Finish, Predict Finish, 4.7567 4.2408 0.0641 0.927 Evaluation Finish\n",
      "130: Data Load Finish, Predict Finish, 5.1179 4.534 0.0686 0.9215 Evaluation Finish\n",
      "131: Data Load Finish, Predict Finish, 5.1165 4.3265 0.0655 0.9215 Evaluation Finish\n",
      "132: Data Load Finish, Predict Finish, 2.7855 2.0018 0.0317 0.9573 Evaluation Finish\n",
      "133: Data Load Finish, Predict Finish, 4.5054 3.7521 0.0566 0.9309 Evaluation Finish\n",
      "134: Data Load Finish, Predict Finish, 3.3629 2.8676 0.0434 0.9484 Evaluation Finish\n",
      "135: Data Load Finish, Predict Finish, 2.7114 2.4434 0.0371 0.9584 Evaluation Finish\n",
      "136: Data Load Finish, Predict Finish, 2.4916 1.9704 0.0309 0.9618 Evaluation Finish\n",
      "137: Data Load Finish, Predict Finish, 6.7717 6.1266 0.0931 0.8961 Evaluation Finish\n",
      "138: Data Load Finish, Predict Finish, 41.1549 40.8454 0.6266 0.3686 Evaluation Finish\n",
      "139: Data Load Finish, Predict Finish, 5.8859 5.2507 0.0797 0.9097 Evaluation Finish\n",
      "140: Data Load Finish, Predict Finish, 13.3439 13.173 0.2014 0.7953 Evaluation Finish\n",
      "141: Data Load Finish, "
     ]
    },
    {
     "name": "stderr",
     "output_type": "stream",
     "text": [
      "/home/vislab/anaconda3/envs/test/lib/python3.8/site-packages/pandas/core/arraylike.py:364: RuntimeWarning: divide by zero encountered in log\n",
      "  result = getattr(ufunc, method)(*inputs, **kwargs)\n",
      "/home/vislab/anaconda3/envs/test/lib/python3.8/site-packages/statsmodels/base/model.py:604: ConvergenceWarning: Maximum Likelihood optimization failed to converge. Check mle_retvals\n",
      "  warnings.warn(\"Maximum Likelihood optimization failed to \"\n"
     ]
    },
    {
     "name": "stdout",
     "output_type": "stream",
     "text": [
      "Predict Finish, 64.1772 64.1418 0.9846 0.0153 Evaluation Finish\n",
      "142: Data Load Finish, Predict Finish, 2.5399 2.3814 0.0364 0.961 Evaluation Finish\n",
      "143: Data Load Finish, "
     ]
    },
    {
     "name": "stderr",
     "output_type": "stream",
     "text": [
      "/home/vislab/anaconda3/envs/test/lib/python3.8/site-packages/pandas/core/arraylike.py:364: RuntimeWarning: divide by zero encountered in log\n",
      "  result = getattr(ufunc, method)(*inputs, **kwargs)\n",
      "/home/vislab/anaconda3/envs/test/lib/python3.8/site-packages/statsmodels/base/model.py:604: ConvergenceWarning: Maximum Likelihood optimization failed to converge. Check mle_retvals\n",
      "  warnings.warn(\"Maximum Likelihood optimization failed to \"\n"
     ]
    },
    {
     "name": "stdout",
     "output_type": "stream",
     "text": [
      "Predict Finish, 64.1772 64.1418 0.9846 0.0153 Evaluation Finish\n",
      "144: Data Load Finish, "
     ]
    },
    {
     "name": "stderr",
     "output_type": "stream",
     "text": [
      "/home/vislab/anaconda3/envs/test/lib/python3.8/site-packages/pandas/core/arraylike.py:364: RuntimeWarning: divide by zero encountered in log\n",
      "  result = getattr(ufunc, method)(*inputs, **kwargs)\n",
      "/home/vislab/anaconda3/envs/test/lib/python3.8/site-packages/statsmodels/base/model.py:604: ConvergenceWarning: Maximum Likelihood optimization failed to converge. Check mle_retvals\n",
      "  warnings.warn(\"Maximum Likelihood optimization failed to \"\n"
     ]
    },
    {
     "name": "stdout",
     "output_type": "stream",
     "text": [
      "Predict Finish, 64.1772 64.1418 0.9846 0.0153 Evaluation Finish\n",
      "145: Data Load Finish, Predict Finish, 2.5014 1.904 0.03 0.9616 Evaluation Finish\n",
      "146: Data Load Finish, Predict Finish, 4.0551 3.27 0.0493 0.9378 Evaluation Finish\n",
      "147: Data Load Finish, Predict Finish, 5.7594 5.3379 0.0809 0.9116 Evaluation Finish\n",
      "148: Data Load Finish, Predict Finish, 5.2874 4.6966 0.0711 0.9189 Evaluation Finish\n",
      "149: Data Load Finish, Predict Finish, 2.9578 2.2273 0.0351 0.9546 Evaluation Finish\n",
      "150: Data Load Finish, Predict Finish, 4.9188 4.0381 0.0612 0.9245 Evaluation Finish\n",
      "151: Data Load Finish, Predict Finish, 6.571 6.1779 0.0939 0.8992 Evaluation Finish\n",
      "152: Data Load Finish, Predict Finish, 4.5713 4.0245 0.0607 0.9299 Evaluation Finish\n",
      "153: Data Load Finish, Predict Finish, 2.5347 2.3304 0.0355 0.9611 Evaluation Finish\n",
      "154: Data Load Finish, "
     ]
    },
    {
     "name": "stderr",
     "output_type": "stream",
     "text": [
      "/home/vislab/anaconda3/envs/test/lib/python3.8/site-packages/pandas/core/arraylike.py:364: RuntimeWarning: divide by zero encountered in log\n",
      "  result = getattr(ufunc, method)(*inputs, **kwargs)\n",
      "/home/vislab/anaconda3/envs/test/lib/python3.8/site-packages/statsmodels/base/model.py:604: ConvergenceWarning: Maximum Likelihood optimization failed to converge. Check mle_retvals\n",
      "  warnings.warn(\"Maximum Likelihood optimization failed to \"\n"
     ]
    },
    {
     "name": "stdout",
     "output_type": "stream",
     "text": [
      "Predict Finish, 64.1772 64.1418 0.9846 0.0153 Evaluation Finish\n",
      "155: Data Load Finish, Predict Finish, 5.7359 4.8283 0.0732 0.912 Evaluation Finish\n",
      "156: Data Load Finish, Predict Finish, 10.3557 10.1136 0.1543 0.8411 Evaluation Finish\n",
      "157: Data Load Finish, "
     ]
    },
    {
     "name": "stderr",
     "output_type": "stream",
     "text": [
      "/home/vislab/anaconda3/envs/test/lib/python3.8/site-packages/pandas/core/arraylike.py:364: RuntimeWarning: divide by zero encountered in log\n",
      "  result = getattr(ufunc, method)(*inputs, **kwargs)\n",
      "/home/vislab/anaconda3/envs/test/lib/python3.8/site-packages/statsmodels/base/model.py:604: ConvergenceWarning: Maximum Likelihood optimization failed to converge. Check mle_retvals\n",
      "  warnings.warn(\"Maximum Likelihood optimization failed to \"\n"
     ]
    },
    {
     "name": "stdout",
     "output_type": "stream",
     "text": [
      "Predict Finish, 64.1772 64.1418 0.9846 0.0153 Evaluation Finish\n",
      "158: Data Load Finish, Predict Finish, 3.7789 3.1003 0.0472 0.942 Evaluation Finish\n",
      "159: Data Load Finish, Predict Finish, 5.792 4.8437 0.0735 0.9111 Evaluation Finish\n",
      "160: Data Load Finish, Predict Finish, 5.5031 4.3109 0.0655 0.9156 Evaluation Finish\n",
      "161: Data Load Finish, Predict Finish, 3.4418 2.6324 0.0415 0.9472 Evaluation Finish\n",
      "162: Data Load Finish, Predict Finish, 2.4949 1.8951 0.0298 0.9617 Evaluation Finish\n",
      "163: Data Load Finish, Predict Finish, 5.6084 4.5257 0.0687 0.914 Evaluation Finish\n",
      "164: Data Load Finish, Predict Finish, 4.8969 4.0746 0.0617 0.9249 Evaluation Finish\n",
      "165: Data Load Finish, Predict Finish, 17.2072 17.0743 0.2613 0.736 Evaluation Finish\n",
      "166: Data Load Finish, Predict Finish, 3.0321 2.3373 0.0368 0.9535 Evaluation Finish\n",
      "167: Data Load Finish, Predict Finish, 2.591 1.9447 0.0307 0.9602 Evaluation Finish\n",
      "168: Data Load Finish, Predict Finish, 2.525 1.9518 0.0307 0.9613 Evaluation Finish\n",
      "169: Data Load Finish, Predict Finish, 2.5785 2.0442 0.0321 0.9604 Evaluation Finish\n",
      "170: Data Load Finish, "
     ]
    },
    {
     "name": "stderr",
     "output_type": "stream",
     "text": [
      "/home/vislab/anaconda3/envs/test/lib/python3.8/site-packages/pandas/core/arraylike.py:364: RuntimeWarning: divide by zero encountered in log\n",
      "  result = getattr(ufunc, method)(*inputs, **kwargs)\n",
      "/home/vislab/anaconda3/envs/test/lib/python3.8/site-packages/statsmodels/base/model.py:604: ConvergenceWarning: Maximum Likelihood optimization failed to converge. Check mle_retvals\n",
      "  warnings.warn(\"Maximum Likelihood optimization failed to \"\n"
     ]
    },
    {
     "name": "stdout",
     "output_type": "stream",
     "text": [
      "Predict Finish, 64.1772 64.1418 0.9846 0.0153 Evaluation Finish\n",
      "171: Data Load Finish, Predict Finish, 2.2155 1.8933 0.0295 0.966 Evaluation Finish\n",
      "172: Data Load Finish, Predict Finish, 6.8047 6.1785 0.094 0.8956 Evaluation Finish\n",
      "173: Data Load Finish, Predict Finish, 2.1536 1.8255 0.0285 0.967 Evaluation Finish\n",
      "174: Data Load Finish, Predict Finish, 8.7085 8.3994 0.128 0.8664 Evaluation Finish\n",
      "175: Data Load Finish, Predict Finish, 2.5766 2.1133 0.0331 0.9605 Evaluation Finish\n",
      "176: Data Load Finish, Predict Finish, 2.6697 1.9738 0.0312 0.959 Evaluation Finish\n",
      "177: Data Load Finish, Predict Finish, 3.5643 3.0387 0.0458 0.9453 Evaluation Finish\n",
      "178: Data Load Finish, Predict Finish, 2.1922 2.0438 0.0314 0.9664 Evaluation Finish\n",
      "179: Data Load Finish, Predict Finish, 9.6989 9.4611 0.1443 0.8512 Evaluation Finish\n",
      "180: Data Load Finish, Predict Finish, 5.309 4.6591 0.0706 0.9185 Evaluation Finish\n",
      "181: Data Load Finish, Predict Finish, 4.5653 4.0018 0.0604 0.93 Evaluation Finish\n",
      "182: Data Load Finish, Predict Finish, 2.2328 2.0898 0.0321 0.9657 Evaluation Finish\n",
      "183: Data Load Finish, Predict Finish, 3.0191 2.4085 0.0379 0.9537 Evaluation Finish\n",
      "184: Data Load Finish, Predict Finish, 2.4934 2.2363 0.034 0.9617 Evaluation Finish\n",
      "185: Data Load Finish, Predict Finish, 2.4336 2.2907 0.035 0.9627 Evaluation Finish\n",
      "186: Data Load Finish, Predict Finish, 2.8136 2.5432 0.0386 0.9568 Evaluation Finish\n",
      "187: Data Load Finish, Predict Finish, 8.6095 7.5548 0.1151 0.8679 Evaluation Finish\n",
      "188: Data Load Finish, Predict Finish, 2.3707 2.13 0.0329 0.9636 Evaluation Finish\n",
      "189: Data Load Finish, Predict Finish, 4.7332 4.1651 0.0629 0.9274 Evaluation Finish\n",
      "190: Data Load Finish, Predict Finish, 3.4773 2.8936 0.0438 0.9466 Evaluation Finish\n",
      "191: Data Load Finish, Predict Finish, 8.4859 7.4947 0.1142 0.8698 Evaluation Finish\n",
      "192: Data Load Finish, Predict Finish, 3.684 3.0328 0.0457 0.9435 Evaluation Finish\n",
      "193: Data Load Finish, Predict Finish, 8.5264 7.4797 0.114 0.8692 Evaluation Finish\n",
      "194: Data Load Finish, Predict Finish, 9.4571 9.2158 0.1405 0.8549 Evaluation Finish\n",
      "195: Data Load Finish, Predict Finish, 2.6633 2.1564 0.0338 0.9591 Evaluation Finish\n",
      "196: Data Load Finish, Predict Finish, 62.2991 62.252 0.9556 0.0441 Evaluation Finish\n",
      "197: Data Load Finish, Predict Finish, 20.7406 20.5678 0.3151 0.6818 Evaluation Finish\n",
      "198: Data Load Finish, Predict Finish, 2.6787 2.0253 0.0319 0.9589 Evaluation Finish\n",
      "199: Data Load Finish, Predict Finish, 4.93 4.3897 0.0664 0.9244 Evaluation Finish\n",
      "200: Data Load Finish, Predict Finish, 2.6932 2.3149 0.0351 0.9587 Evaluation Finish\n",
      "201: Data Load Finish, Predict Finish, 2.3847 1.8907 0.0297 0.9634 Evaluation Finish\n",
      "202: Data Load Finish, Predict Finish, 3.6551 3.1368 0.0473 0.9439 Evaluation Finish\n",
      "203: Data Load Finish, Predict Finish, 2.9395 2.1267 0.0337 0.9549 Evaluation Finish\n",
      "204: Data Load Finish, Predict Finish, 3.7859 3.1176 0.0469 0.9419 Evaluation Finish\n",
      "205: Data Load Finish, Predict Finish, 2.3484 2.0221 0.0313 0.964 Evaluation Finish\n",
      "206: Data Load Finish, Predict Finish, 6.935 6.4664 0.0983 0.8936 Evaluation Finish\n",
      "RMSE: 8.731255280552102, MAE: 8.268644403413205, MAPE: 0.1265978967350657\n",
      "ACC: 0.8660370296443476\n"
     ]
    }
   ],
   "source": [
    "predictARIMA(df, idx, 9)"
   ]
  },
  {
   "cell_type": "markdown",
   "id": "dcb35d64",
   "metadata": {},
   "source": [
    "### Unobserved Nodes = 10%"
   ]
  },
  {
   "cell_type": "code",
   "execution_count": 12,
   "id": "83ad788d",
   "metadata": {},
   "outputs": [
    {
     "name": "stdout",
     "output_type": "stream",
     "text": [
      "34272 207\n"
     ]
    },
    {
     "data": {
      "text/plain": [
       "685440"
      ]
     },
     "execution_count": 12,
     "metadata": {},
     "output_type": "execute_result"
    }
   ],
   "source": [
    "df, idx = csvIndexToDatetime(path_10, start, freq)\n",
    "(df == 0).sum().sum()"
   ]
  },
  {
   "cell_type": "code",
   "execution_count": 13,
   "id": "010ff399",
   "metadata": {
    "scrolled": false
   },
   "outputs": [
    {
     "name": "stdout",
     "output_type": "stream",
     "text": [
      "0: Data Load Finish, Predict Finish, 2.2251 2.0381 0.0315 0.9659 Evaluation Finish\n",
      "1: Data Load Finish, Predict Finish, 2.112 1.8903 0.0292 0.9676 Evaluation Finish\n",
      "2: Data Load Finish, Predict Finish, 2.1654 1.9685 0.0303 0.9668 Evaluation Finish\n",
      "3: Data Load Finish, Predict Finish, 9.2423 8.891 0.1356 0.8582 Evaluation Finish\n",
      "4: Data Load Finish, Predict Finish, 28.3486 28.1976 0.4322 0.565 Evaluation Finish\n",
      "5: Data Load Finish, Predict Finish, 12.1845 11.9977 0.1833 0.8131 Evaluation Finish\n",
      "6: Data Load Finish, "
     ]
    },
    {
     "name": "stderr",
     "output_type": "stream",
     "text": [
      "/home/vislab/anaconda3/envs/test/lib/python3.8/site-packages/pandas/core/arraylike.py:364: RuntimeWarning: divide by zero encountered in log\n",
      "  result = getattr(ufunc, method)(*inputs, **kwargs)\n",
      "/home/vislab/anaconda3/envs/test/lib/python3.8/site-packages/statsmodels/base/model.py:604: ConvergenceWarning: Maximum Likelihood optimization failed to converge. Check mle_retvals\n",
      "  warnings.warn(\"Maximum Likelihood optimization failed to \"\n"
     ]
    },
    {
     "name": "stdout",
     "output_type": "stream",
     "text": [
      "Predict Finish, 64.1772 64.1418 0.9846 0.0153 Evaluation Finish\n",
      "7: Data Load Finish, "
     ]
    },
    {
     "name": "stderr",
     "output_type": "stream",
     "text": [
      "/home/vislab/anaconda3/envs/test/lib/python3.8/site-packages/statsmodels/base/model.py:604: ConvergenceWarning: Maximum Likelihood optimization failed to converge. Check mle_retvals\n",
      "  warnings.warn(\"Maximum Likelihood optimization failed to \"\n"
     ]
    },
    {
     "name": "stdout",
     "output_type": "stream",
     "text": [
      "Predict Finish, 2.7414 2.3817 0.036 0.9579 Evaluation Finish\n",
      "8: Data Load Finish, Predict Finish, 3.9833 3.3542 0.0505 0.9389 Evaluation Finish\n",
      "9: Data Load Finish, "
     ]
    },
    {
     "name": "stderr",
     "output_type": "stream",
     "text": [
      "/home/vislab/anaconda3/envs/test/lib/python3.8/site-packages/pandas/core/arraylike.py:364: RuntimeWarning: divide by zero encountered in log\n",
      "  result = getattr(ufunc, method)(*inputs, **kwargs)\n",
      "/home/vislab/anaconda3/envs/test/lib/python3.8/site-packages/statsmodels/base/model.py:604: ConvergenceWarning: Maximum Likelihood optimization failed to converge. Check mle_retvals\n",
      "  warnings.warn(\"Maximum Likelihood optimization failed to \"\n"
     ]
    },
    {
     "name": "stdout",
     "output_type": "stream",
     "text": [
      "Predict Finish, 64.1772 64.1418 0.9846 0.0153 Evaluation Finish\n",
      "10: Data Load Finish, Predict Finish, 4.9173 4.4395 0.0672 0.9246 Evaluation Finish\n",
      "11: Data Load Finish, "
     ]
    },
    {
     "name": "stderr",
     "output_type": "stream",
     "text": [
      "/home/vislab/anaconda3/envs/test/lib/python3.8/site-packages/pandas/core/arraylike.py:364: RuntimeWarning: divide by zero encountered in log\n",
      "  result = getattr(ufunc, method)(*inputs, **kwargs)\n",
      "/home/vislab/anaconda3/envs/test/lib/python3.8/site-packages/statsmodels/base/model.py:604: ConvergenceWarning: Maximum Likelihood optimization failed to converge. Check mle_retvals\n",
      "  warnings.warn(\"Maximum Likelihood optimization failed to \"\n"
     ]
    },
    {
     "name": "stdout",
     "output_type": "stream",
     "text": [
      "Predict Finish, 64.1772 64.1418 0.9846 0.0153 Evaluation Finish\n",
      "12: Data Load Finish, Predict Finish, 8.147 7.2202 0.1099 0.875 Evaluation Finish\n",
      "13: Data Load Finish, Predict Finish, 3.3845 2.88 0.0434 0.9481 Evaluation Finish\n",
      "14: Data Load Finish, Predict Finish, 4.5155 3.7987 0.0573 0.9307 Evaluation Finish\n",
      "15: Data Load Finish, "
     ]
    },
    {
     "name": "stderr",
     "output_type": "stream",
     "text": [
      "/home/vislab/anaconda3/envs/test/lib/python3.8/site-packages/pandas/core/arraylike.py:364: RuntimeWarning: divide by zero encountered in log\n",
      "  result = getattr(ufunc, method)(*inputs, **kwargs)\n",
      "/home/vislab/anaconda3/envs/test/lib/python3.8/site-packages/statsmodels/base/model.py:604: ConvergenceWarning: Maximum Likelihood optimization failed to converge. Check mle_retvals\n",
      "  warnings.warn(\"Maximum Likelihood optimization failed to \"\n"
     ]
    },
    {
     "name": "stdout",
     "output_type": "stream",
     "text": [
      "Predict Finish, 64.1772 64.1418 0.9846 0.0153 Evaluation Finish\n",
      "16: Data Load Finish, Predict Finish, 46.6564 46.5262 0.7139 0.2842 Evaluation Finish\n",
      "17: Data Load Finish, Predict Finish, 5.5693 5.0061 0.0759 0.9146 Evaluation Finish\n",
      "18: Data Load Finish, Predict Finish, 11.1807 10.9112 0.1665 0.8285 Evaluation Finish\n",
      "19: Data Load Finish, Predict Finish, 3.731 3.0795 0.0464 0.9428 Evaluation Finish\n",
      "20: Data Load Finish, Predict Finish, 2.1976 1.8915 0.0294 0.9663 Evaluation Finish\n",
      "21: Data Load Finish, Predict Finish, 5.8628 5.4518 0.0827 0.91 Evaluation Finish\n",
      "22: Data Load Finish, Predict Finish, 15.8482 15.6957 0.2401 0.7568 Evaluation Finish\n",
      "23: Data Load Finish, "
     ]
    },
    {
     "name": "stderr",
     "output_type": "stream",
     "text": [
      "/home/vislab/anaconda3/envs/test/lib/python3.8/site-packages/pandas/core/arraylike.py:364: RuntimeWarning: divide by zero encountered in log\n",
      "  result = getattr(ufunc, method)(*inputs, **kwargs)\n",
      "/home/vislab/anaconda3/envs/test/lib/python3.8/site-packages/statsmodels/base/model.py:604: ConvergenceWarning: Maximum Likelihood optimization failed to converge. Check mle_retvals\n",
      "  warnings.warn(\"Maximum Likelihood optimization failed to \"\n"
     ]
    },
    {
     "name": "stdout",
     "output_type": "stream",
     "text": [
      "Predict Finish, 64.1772 64.1418 0.9846 0.0153 Evaluation Finish\n",
      "24: Data Load Finish, Predict Finish, 2.46 2.0553 0.0321 0.9623 Evaluation Finish\n",
      "25: Data Load Finish, Predict Finish, 10.2656 10.041 0.1532 0.8425 Evaluation Finish\n",
      "26: Data Load Finish, Predict Finish, 9.7832 9.4322 0.1439 0.8499 Evaluation Finish\n",
      "27: Data Load Finish, "
     ]
    },
    {
     "name": "stderr",
     "output_type": "stream",
     "text": [
      "/home/vislab/anaconda3/envs/test/lib/python3.8/site-packages/pandas/core/arraylike.py:364: RuntimeWarning: divide by zero encountered in log\n",
      "  result = getattr(ufunc, method)(*inputs, **kwargs)\n",
      "/home/vislab/anaconda3/envs/test/lib/python3.8/site-packages/statsmodels/base/model.py:604: ConvergenceWarning: Maximum Likelihood optimization failed to converge. Check mle_retvals\n",
      "  warnings.warn(\"Maximum Likelihood optimization failed to \"\n"
     ]
    },
    {
     "name": "stdout",
     "output_type": "stream",
     "text": [
      "Predict Finish, 64.1772 64.1418 0.9846 0.0153 Evaluation Finish\n",
      "28: Data Load Finish, Predict Finish, 2.5406 1.9537 0.0308 0.961 Evaluation Finish\n",
      "29: Data Load Finish, Predict Finish, 4.3118 3.4076 0.0515 0.9338 Evaluation Finish\n",
      "30: Data Load Finish, Predict Finish, 5.6134 5.1706 0.0784 0.9139 Evaluation Finish\n",
      "31: Data Load Finish, Predict Finish, 2.2571 1.873 0.0293 0.9654 Evaluation Finish\n",
      "32: Data Load Finish, Predict Finish, 2.2492 1.903 0.0297 0.9655 Evaluation Finish\n",
      "33: Data Load Finish, Predict Finish, 3.3939 2.8624 0.0433 0.9479 Evaluation Finish\n",
      "34: Data Load Finish, Predict Finish, 2.2599 1.9829 0.0308 0.9653 Evaluation Finish\n",
      "35: Data Load Finish, Predict Finish, 6.7121 6.2684 0.0952 0.897 Evaluation Finish\n",
      "36: Data Load Finish, Predict Finish, 2.3066 1.8825 0.0295 0.9646 Evaluation Finish\n",
      "37: Data Load Finish, Predict Finish, 2.1988 1.9615 0.0304 0.9663 Evaluation Finish\n",
      "38: Data Load Finish, Predict Finish, 10.5611 10.2162 0.156 0.838 Evaluation Finish\n",
      "39: Data Load Finish, Predict Finish, 4.9968 4.4309 0.067 0.9233 Evaluation Finish\n",
      "40: Data Load Finish, Predict Finish, 2.5588 2.3604 0.0359 0.9607 Evaluation Finish\n",
      "41: Data Load Finish, Predict Finish, 5.9692 5.5517 0.0842 0.9084 Evaluation Finish\n",
      "42: Data Load Finish, Predict Finish, 2.4238 2.2616 0.0347 0.9628 Evaluation Finish\n",
      "43: Data Load Finish, Predict Finish, 5.1034 4.4435 0.0672 0.9217 Evaluation Finish\n",
      "44: Data Load Finish, Predict Finish, 2.915 2.1531 0.0341 0.9553 Evaluation Finish\n",
      "45: Data Load Finish, Predict Finish, 2.3836 1.9202 0.0302 0.9634 Evaluation Finish\n",
      "46: Data Load Finish, Predict Finish, 4.6386 4.0686 0.0614 0.9288 Evaluation Finish\n",
      "47: Data Load Finish, Predict Finish, 8.7684 8.4297 0.1285 0.8655 Evaluation Finish\n",
      "48: Data Load Finish, Predict Finish, 11.1054 10.8669 0.1659 0.8296 Evaluation Finish\n",
      "49: Data Load Finish, Predict Finish, 3.4411 2.8645 0.0432 0.9472 Evaluation Finish\n",
      "50: Data Load Finish, Predict Finish, 7.5697 7.1924 0.1094 0.8839 Evaluation Finish\n",
      "51: Data Load Finish, "
     ]
    },
    {
     "name": "stderr",
     "output_type": "stream",
     "text": [
      "/home/vislab/anaconda3/envs/test/lib/python3.8/site-packages/pandas/core/arraylike.py:364: RuntimeWarning: divide by zero encountered in log\n",
      "  result = getattr(ufunc, method)(*inputs, **kwargs)\n",
      "/home/vislab/anaconda3/envs/test/lib/python3.8/site-packages/statsmodels/base/model.py:604: ConvergenceWarning: Maximum Likelihood optimization failed to converge. Check mle_retvals\n",
      "  warnings.warn(\"Maximum Likelihood optimization failed to \"\n"
     ]
    },
    {
     "name": "stdout",
     "output_type": "stream",
     "text": [
      "Predict Finish, 64.1772 64.1418 0.9846 0.0153 Evaluation Finish\n",
      "52: Data Load Finish, Predict Finish, 3.6909 3.0315 0.0458 0.9434 Evaluation Finish\n",
      "53: Data Load Finish, "
     ]
    },
    {
     "name": "stderr",
     "output_type": "stream",
     "text": [
      "/home/vislab/anaconda3/envs/test/lib/python3.8/site-packages/pandas/core/arraylike.py:364: RuntimeWarning: divide by zero encountered in log\n",
      "  result = getattr(ufunc, method)(*inputs, **kwargs)\n",
      "/home/vislab/anaconda3/envs/test/lib/python3.8/site-packages/statsmodels/base/model.py:604: ConvergenceWarning: Maximum Likelihood optimization failed to converge. Check mle_retvals\n",
      "  warnings.warn(\"Maximum Likelihood optimization failed to \"\n"
     ]
    },
    {
     "name": "stdout",
     "output_type": "stream",
     "text": [
      "Predict Finish, 64.1772 64.1418 0.9846 0.0153 Evaluation Finish\n",
      "54: Data Load Finish, Predict Finish, 4.8057 4.2819 0.0647 0.9263 Evaluation Finish\n",
      "55: Data Load Finish, Predict Finish, 4.7388 4.2451 0.0642 0.9273 Evaluation Finish\n",
      "56: Data Load Finish, Predict Finish, 24.1124 24.0141 0.368 0.63 Evaluation Finish\n",
      "57: Data Load Finish, Predict Finish, 5.9602 5.5382 0.084 0.9086 Evaluation Finish\n",
      "58: Data Load Finish, Predict Finish, 5.379 4.9453 0.0749 0.9175 Evaluation Finish\n",
      "59: Data Load Finish, "
     ]
    },
    {
     "name": "stderr",
     "output_type": "stream",
     "text": [
      "/home/vislab/anaconda3/envs/test/lib/python3.8/site-packages/pandas/core/arraylike.py:364: RuntimeWarning: divide by zero encountered in log\n",
      "  result = getattr(ufunc, method)(*inputs, **kwargs)\n",
      "/home/vislab/anaconda3/envs/test/lib/python3.8/site-packages/statsmodels/base/model.py:604: ConvergenceWarning: Maximum Likelihood optimization failed to converge. Check mle_retvals\n",
      "  warnings.warn(\"Maximum Likelihood optimization failed to \"\n"
     ]
    },
    {
     "name": "stdout",
     "output_type": "stream",
     "text": [
      "Predict Finish, 64.1772 64.1418 0.9846 0.0153 Evaluation Finish\n",
      "60: Data Load Finish, Predict Finish, 7.5619 7.1111 0.1082 0.884 Evaluation Finish\n",
      "61: Data Load Finish, Predict Finish, 6.143 5.4061 0.082 0.9057 Evaluation Finish\n",
      "62: Data Load Finish, Predict Finish, 4.352 3.6445 0.055 0.9332 Evaluation Finish\n",
      "63: Data Load Finish, Predict Finish, 3.773 3.0592 0.0463 0.9421 Evaluation Finish\n",
      "64: Data Load Finish, Predict Finish, 2.4618 1.9605 0.0308 0.9622 Evaluation Finish\n",
      "65: Data Load Finish, Predict Finish, 3.3138 2.7765 0.0418 0.9492 Evaluation Finish\n",
      "66: Data Load Finish, "
     ]
    },
    {
     "name": "stderr",
     "output_type": "stream",
     "text": [
      "/home/vislab/anaconda3/envs/test/lib/python3.8/site-packages/pandas/core/arraylike.py:364: RuntimeWarning: divide by zero encountered in log\n",
      "  result = getattr(ufunc, method)(*inputs, **kwargs)\n",
      "/home/vislab/anaconda3/envs/test/lib/python3.8/site-packages/statsmodels/base/model.py:604: ConvergenceWarning: Maximum Likelihood optimization failed to converge. Check mle_retvals\n",
      "  warnings.warn(\"Maximum Likelihood optimization failed to \"\n"
     ]
    },
    {
     "name": "stdout",
     "output_type": "stream",
     "text": [
      "Predict Finish, 64.1772 64.1418 0.9846 0.0153 Evaluation Finish\n",
      "67: Data Load Finish, Predict Finish, 2.4708 1.9643 0.0309 0.9621 Evaluation Finish\n",
      "68: Data Load Finish, Predict Finish, 2.8306 2.5046 0.0379 0.9566 Evaluation Finish\n",
      "69: Data Load Finish, Predict Finish, 3.7256 3.0221 0.0457 0.9428 Evaluation Finish\n",
      "70: Data Load Finish, Predict Finish, 5.3559 4.9057 0.0743 0.9178 Evaluation Finish\n",
      "71: Data Load Finish, Predict Finish, 3.967 3.2926 0.0496 0.9391 Evaluation Finish\n",
      "72: Data Load Finish, Predict Finish, 4.7088 3.9239 0.0594 0.9278 Evaluation Finish\n",
      "73: Data Load Finish, Predict Finish, 8.574 8.2199 0.1253 0.8684 Evaluation Finish\n",
      "74: Data Load Finish, Predict Finish, 3.0225 2.1516 0.0341 0.9536 Evaluation Finish\n",
      "75: Data Load Finish, Predict Finish, 14.4408 14.205 0.2173 0.7784 Evaluation Finish\n",
      "76: Data Load Finish, Predict Finish, 13.3393 13.1246 0.2007 0.7953 Evaluation Finish\n",
      "77: Data Load Finish, Predict Finish, 4.0646 3.3139 0.0499 0.9376 Evaluation Finish\n",
      "78: Data Load Finish, Predict Finish, 3.5966 2.8514 0.0449 0.9448 Evaluation Finish\n",
      "79: Data Load Finish, Predict Finish, 2.1572 1.9511 0.0301 0.9669 Evaluation Finish\n",
      "80: Data Load Finish, Predict Finish, 3.5729 3.038 0.0458 0.9452 Evaluation Finish\n",
      "81: Data Load Finish, Predict Finish, 5.8149 5.1448 0.078 0.9108 Evaluation Finish\n",
      "82: Data Load Finish, "
     ]
    },
    {
     "name": "stderr",
     "output_type": "stream",
     "text": [
      "/home/vislab/anaconda3/envs/test/lib/python3.8/site-packages/pandas/core/arraylike.py:364: RuntimeWarning: divide by zero encountered in log\n",
      "  result = getattr(ufunc, method)(*inputs, **kwargs)\n",
      "/home/vislab/anaconda3/envs/test/lib/python3.8/site-packages/statsmodels/base/model.py:604: ConvergenceWarning: Maximum Likelihood optimization failed to converge. Check mle_retvals\n",
      "  warnings.warn(\"Maximum Likelihood optimization failed to \"\n"
     ]
    },
    {
     "name": "stdout",
     "output_type": "stream",
     "text": [
      "Predict Finish, 64.1772 64.1418 0.9846 0.0153 Evaluation Finish\n",
      "83: Data Load Finish, Predict Finish, 2.1994 2.0346 0.0313 0.9663 Evaluation Finish\n",
      "84: Data Load Finish, Predict Finish, 10.0574 9.7953 0.1495 0.8457 Evaluation Finish\n",
      "85: Data Load Finish, Predict Finish, 2.3023 2.0787 0.0317 0.9647 Evaluation Finish\n",
      "86: Data Load Finish, Predict Finish, 3.3368 2.8186 0.0427 0.9488 Evaluation Finish\n",
      "87: Data Load Finish, Predict Finish, 4.1534 3.4333 0.0518 0.9363 Evaluation Finish\n",
      "88: Data Load Finish, Predict Finish, 2.3503 2.2208 0.034 0.9639 Evaluation Finish\n",
      "89: Data Load Finish, Predict Finish, 2.2538 1.9153 0.0299 0.9654 Evaluation Finish\n",
      "90: Data Load Finish, Predict Finish, 2.5912 2.0097 0.0317 0.9602 Evaluation Finish\n",
      "91: Data Load Finish, Predict Finish, 18.8658 18.6802 0.286 0.7105 Evaluation Finish\n",
      "92: Data Load Finish, Predict Finish, 2.8463 2.2207 0.035 0.9563 Evaluation Finish\n",
      "93: Data Load Finish, Predict Finish, 2.2148 1.9904 0.0308 0.966 Evaluation Finish\n",
      "94: Data Load Finish, Predict Finish, 2.8868 2.5933 0.0393 0.9557 Evaluation Finish\n",
      "95: Data Load Finish, Predict Finish, 8.0143 7.6743 0.1169 0.877 Evaluation Finish\n",
      "96: Data Load Finish, Predict Finish, 3.4349 2.6082 0.0411 0.9473 Evaluation Finish\n",
      "97: Data Load Finish, Predict Finish, 2.3525 1.9181 0.03 0.9639 Evaluation Finish\n",
      "98: Data Load Finish, Predict Finish, 7.4726 7.1316 0.1085 0.8853 Evaluation Finish\n",
      "99: Data Load Finish, Predict Finish, 2.3717 1.9573 0.0307 0.9636 Evaluation Finish\n",
      "100: Data Load Finish, Predict Finish, 6.3858 5.794 0.088 0.902 Evaluation Finish\n",
      "101: Data Load Finish, Predict Finish, 4.6032 3.8488 0.0581 0.9294 Evaluation Finish\n",
      "102: Data Load Finish, Predict Finish, 7.5052 7.1852 0.1093 0.8848 Evaluation Finish\n",
      "103: Data Load Finish, Predict Finish, 3.611 2.9918 0.045 0.9446 Evaluation Finish\n",
      "104: Data Load Finish, Predict Finish, 2.3285 2.035 0.0315 0.9643 Evaluation Finish\n",
      "105: Data Load Finish, Predict Finish, 3.0614 2.2902 0.0362 0.953 Evaluation Finish\n",
      "106: Data Load Finish, Predict Finish, 5.0718 4.3718 0.0661 0.9222 Evaluation Finish\n",
      "107: Data Load Finish, Predict Finish, 3.27 2.4699 0.039 0.9498 Evaluation Finish\n",
      "108: Data Load Finish, Predict Finish, 2.2207 1.8883 0.0291 0.9659 Evaluation Finish\n",
      "109: Data Load Finish, Predict Finish, 7.912 7.6211 0.116 0.8786 Evaluation Finish\n",
      "110: Data Load Finish, Predict Finish, 2.3669 1.9181 0.03 0.9637 Evaluation Finish\n",
      "111: Data Load Finish, Predict Finish, 2.2131 1.9793 0.0307 0.966 Evaluation Finish\n",
      "112: Data Load Finish, Predict Finish, 7.1173 6.7208 0.1022 0.8908 Evaluation Finish\n",
      "113: Data Load Finish, Predict Finish, 5.2238 4.4032 0.0667 0.9199 Evaluation Finish\n",
      "114: Data Load Finish, Predict Finish, 2.7758 2.3856 0.0361 0.9574 Evaluation Finish\n",
      "115: Data Load Finish, Predict Finish, 2.2201 2.0429 0.0315 0.9659 Evaluation Finish\n",
      "116: Data Load Finish, "
     ]
    },
    {
     "name": "stderr",
     "output_type": "stream",
     "text": [
      "/home/vislab/anaconda3/envs/test/lib/python3.8/site-packages/pandas/core/arraylike.py:364: RuntimeWarning: divide by zero encountered in log\n",
      "  result = getattr(ufunc, method)(*inputs, **kwargs)\n",
      "/home/vislab/anaconda3/envs/test/lib/python3.8/site-packages/statsmodels/base/model.py:604: ConvergenceWarning: Maximum Likelihood optimization failed to converge. Check mle_retvals\n",
      "  warnings.warn(\"Maximum Likelihood optimization failed to \"\n"
     ]
    },
    {
     "name": "stdout",
     "output_type": "stream",
     "text": [
      "Predict Finish, 64.1772 64.1418 0.9846 0.0153 Evaluation Finish\n",
      "117: Data Load Finish, Predict Finish, 2.3109 1.9434 0.0303 0.9645 Evaluation Finish\n",
      "118: Data Load Finish, Predict Finish, 2.1948 1.8547 0.0285 0.9663 Evaluation Finish\n",
      "119: Data Load Finish, Predict Finish, 2.9416 2.1247 0.0337 0.9549 Evaluation Finish\n",
      "120: Data Load Finish, Predict Finish, 7.2822 6.9407 0.1056 0.8883 Evaluation Finish\n",
      "121: Data Load Finish, Predict Finish, 5.6151 5.2033 0.0789 0.9138 Evaluation Finish\n",
      "122: Data Load Finish, Predict Finish, 2.5499 1.9185 0.0303 0.9609 Evaluation Finish\n",
      "123: Data Load Finish, Predict Finish, 3.3294 2.5705 0.0406 0.9489 Evaluation Finish\n",
      "124: Data Load Finish, Predict Finish, 9.7847 9.5351 0.1455 0.8499 Evaluation Finish\n",
      "125: Data Load Finish, Predict Finish, 10.6295 10.3681 0.1583 0.8369 Evaluation Finish\n",
      "126: Data Load Finish, Predict Finish, 9.5152 9.2137 0.1404 0.854 Evaluation Finish\n",
      "127: Data Load Finish, Predict Finish, 3.9609 3.1678 0.0479 0.9392 Evaluation Finish\n",
      "128: Data Load Finish, Predict Finish, 2.4098 2.0173 0.0315 0.963 Evaluation Finish\n",
      "129: Data Load Finish, Predict Finish, 4.7567 4.2408 0.0641 0.927 Evaluation Finish\n",
      "130: Data Load Finish, Predict Finish, 5.1179 4.534 0.0686 0.9215 Evaluation Finish\n",
      "131: Data Load Finish, "
     ]
    },
    {
     "name": "stderr",
     "output_type": "stream",
     "text": [
      "/home/vislab/anaconda3/envs/test/lib/python3.8/site-packages/pandas/core/arraylike.py:364: RuntimeWarning: divide by zero encountered in log\n",
      "  result = getattr(ufunc, method)(*inputs, **kwargs)\n",
      "/home/vislab/anaconda3/envs/test/lib/python3.8/site-packages/statsmodels/base/model.py:604: ConvergenceWarning: Maximum Likelihood optimization failed to converge. Check mle_retvals\n",
      "  warnings.warn(\"Maximum Likelihood optimization failed to \"\n"
     ]
    },
    {
     "name": "stdout",
     "output_type": "stream",
     "text": [
      "Predict Finish, 64.1772 64.1418 0.9846 0.0153 Evaluation Finish\n",
      "132: Data Load Finish, Predict Finish, 2.7855 2.0018 0.0317 0.9573 Evaluation Finish\n",
      "133: Data Load Finish, Predict Finish, 4.5054 3.7521 0.0566 0.9309 Evaluation Finish\n",
      "134: Data Load Finish, Predict Finish, 3.3629 2.8676 0.0434 0.9484 Evaluation Finish\n",
      "135: Data Load Finish, Predict Finish, 2.7114 2.4434 0.0371 0.9584 Evaluation Finish\n",
      "136: Data Load Finish, Predict Finish, 2.4916 1.9704 0.0309 0.9618 Evaluation Finish\n",
      "137: Data Load Finish, Predict Finish, 6.7717 6.1266 0.0931 0.8961 Evaluation Finish\n",
      "138: Data Load Finish, Predict Finish, 41.1549 40.8454 0.6266 0.3686 Evaluation Finish\n",
      "139: Data Load Finish, Predict Finish, 5.8859 5.2507 0.0797 0.9097 Evaluation Finish\n",
      "140: Data Load Finish, Predict Finish, 13.3439 13.173 0.2014 0.7953 Evaluation Finish\n",
      "141: Data Load Finish, Predict Finish, 3.7721 3.0836 0.0465 0.9421 Evaluation Finish\n",
      "142: Data Load Finish, Predict Finish, 2.5399 2.3814 0.0364 0.961 Evaluation Finish\n",
      "143: Data Load Finish, Predict Finish, 5.1276 4.6262 0.07 0.9213 Evaluation Finish\n",
      "144: Data Load Finish, Predict Finish, 12.276 11.9676 0.1829 0.8117 Evaluation Finish\n",
      "145: Data Load Finish, Predict Finish, 2.5014 1.904 0.03 0.9616 Evaluation Finish\n",
      "146: Data Load Finish, "
     ]
    },
    {
     "name": "stderr",
     "output_type": "stream",
     "text": [
      "/home/vislab/anaconda3/envs/test/lib/python3.8/site-packages/pandas/core/arraylike.py:364: RuntimeWarning: divide by zero encountered in log\n",
      "  result = getattr(ufunc, method)(*inputs, **kwargs)\n",
      "/home/vislab/anaconda3/envs/test/lib/python3.8/site-packages/statsmodels/base/model.py:604: ConvergenceWarning: Maximum Likelihood optimization failed to converge. Check mle_retvals\n",
      "  warnings.warn(\"Maximum Likelihood optimization failed to \"\n"
     ]
    },
    {
     "name": "stdout",
     "output_type": "stream",
     "text": [
      "Predict Finish, 64.1772 64.1418 0.9846 0.0153 Evaluation Finish\n",
      "147: Data Load Finish, Predict Finish, 5.7594 5.3379 0.0809 0.9116 Evaluation Finish\n",
      "148: Data Load Finish, Predict Finish, 5.2874 4.6966 0.0711 0.9189 Evaluation Finish\n",
      "149: Data Load Finish, Predict Finish, 2.9578 2.2273 0.0351 0.9546 Evaluation Finish\n",
      "150: Data Load Finish, Predict Finish, 4.9188 4.0381 0.0612 0.9245 Evaluation Finish\n",
      "151: Data Load Finish, Predict Finish, 6.571 6.1779 0.0939 0.8992 Evaluation Finish\n",
      "152: Data Load Finish, Predict Finish, 4.5713 4.0245 0.0607 0.9299 Evaluation Finish\n",
      "153: Data Load Finish, Predict Finish, 2.5347 2.3304 0.0355 0.9611 Evaluation Finish\n",
      "154: Data Load Finish, Predict Finish, 6.4526 6.0546 0.092 0.901 Evaluation Finish\n",
      "155: Data Load Finish, Predict Finish, 5.7359 4.8283 0.0732 0.912 Evaluation Finish\n",
      "156: Data Load Finish, Predict Finish, 10.3557 10.1136 0.1543 0.8411 Evaluation Finish\n",
      "157: Data Load Finish, Predict Finish, 2.714 2.4964 0.038 0.9584 Evaluation Finish\n",
      "158: Data Load Finish, Predict Finish, 3.7789 3.1003 0.0472 0.942 Evaluation Finish\n",
      "159: Data Load Finish, Predict Finish, 5.792 4.8437 0.0735 0.9111 Evaluation Finish\n",
      "160: Data Load Finish, Predict Finish, 5.5031 4.3109 0.0655 0.9156 Evaluation Finish\n",
      "161: Data Load Finish, Predict Finish, 3.4418 2.6324 0.0415 0.9472 Evaluation Finish\n",
      "162: Data Load Finish, Predict Finish, 2.4949 1.8951 0.0298 0.9617 Evaluation Finish\n",
      "163: Data Load Finish, Predict Finish, 5.6084 4.5257 0.0687 0.914 Evaluation Finish\n",
      "164: Data Load Finish, "
     ]
    },
    {
     "name": "stderr",
     "output_type": "stream",
     "text": [
      "/home/vislab/anaconda3/envs/test/lib/python3.8/site-packages/pandas/core/arraylike.py:364: RuntimeWarning: divide by zero encountered in log\n",
      "  result = getattr(ufunc, method)(*inputs, **kwargs)\n",
      "/home/vislab/anaconda3/envs/test/lib/python3.8/site-packages/statsmodels/base/model.py:604: ConvergenceWarning: Maximum Likelihood optimization failed to converge. Check mle_retvals\n",
      "  warnings.warn(\"Maximum Likelihood optimization failed to \"\n"
     ]
    },
    {
     "name": "stdout",
     "output_type": "stream",
     "text": [
      "Predict Finish, 64.1772 64.1418 0.9846 0.0153 Evaluation Finish\n",
      "165: Data Load Finish, Predict Finish, 17.2072 17.0743 0.2613 0.736 Evaluation Finish\n",
      "166: Data Load Finish, Predict Finish, 3.0321 2.3373 0.0368 0.9535 Evaluation Finish\n",
      "167: Data Load Finish, Predict Finish, 2.591 1.9447 0.0307 0.9602 Evaluation Finish\n",
      "168: Data Load Finish, Predict Finish, 2.525 1.9518 0.0307 0.9613 Evaluation Finish\n",
      "169: Data Load Finish, Predict Finish, 2.5785 2.0442 0.0321 0.9604 Evaluation Finish\n",
      "170: Data Load Finish, Predict Finish, 7.8972 7.5768 0.1154 0.8788 Evaluation Finish\n",
      "171: Data Load Finish, Predict Finish, 2.2155 1.8933 0.0295 0.966 Evaluation Finish\n",
      "172: Data Load Finish, Predict Finish, 6.8047 6.1785 0.094 0.8956 Evaluation Finish\n",
      "173: Data Load Finish, Predict Finish, 2.1536 1.8255 0.0285 0.967 Evaluation Finish\n",
      "174: Data Load Finish, Predict Finish, 8.7085 8.3994 0.128 0.8664 Evaluation Finish\n",
      "175: Data Load Finish, "
     ]
    },
    {
     "name": "stderr",
     "output_type": "stream",
     "text": [
      "/home/vislab/anaconda3/envs/test/lib/python3.8/site-packages/pandas/core/arraylike.py:364: RuntimeWarning: divide by zero encountered in log\n",
      "  result = getattr(ufunc, method)(*inputs, **kwargs)\n",
      "/home/vislab/anaconda3/envs/test/lib/python3.8/site-packages/statsmodels/base/model.py:604: ConvergenceWarning: Maximum Likelihood optimization failed to converge. Check mle_retvals\n",
      "  warnings.warn(\"Maximum Likelihood optimization failed to \"\n"
     ]
    },
    {
     "name": "stdout",
     "output_type": "stream",
     "text": [
      "Predict Finish, 64.1772 64.1418 0.9846 0.0153 Evaluation Finish\n",
      "176: Data Load Finish, "
     ]
    },
    {
     "name": "stderr",
     "output_type": "stream",
     "text": [
      "/home/vislab/anaconda3/envs/test/lib/python3.8/site-packages/pandas/core/arraylike.py:364: RuntimeWarning: divide by zero encountered in log\n",
      "  result = getattr(ufunc, method)(*inputs, **kwargs)\n",
      "/home/vislab/anaconda3/envs/test/lib/python3.8/site-packages/statsmodels/base/model.py:604: ConvergenceWarning: Maximum Likelihood optimization failed to converge. Check mle_retvals\n",
      "  warnings.warn(\"Maximum Likelihood optimization failed to \"\n"
     ]
    },
    {
     "name": "stdout",
     "output_type": "stream",
     "text": [
      "Predict Finish, 64.1772 64.1418 0.9846 0.0153 Evaluation Finish\n",
      "177: Data Load Finish, Predict Finish, 3.5643 3.0387 0.0458 0.9453 Evaluation Finish\n",
      "178: Data Load Finish, "
     ]
    },
    {
     "name": "stderr",
     "output_type": "stream",
     "text": [
      "/home/vislab/anaconda3/envs/test/lib/python3.8/site-packages/pandas/core/arraylike.py:364: RuntimeWarning: divide by zero encountered in log\n",
      "  result = getattr(ufunc, method)(*inputs, **kwargs)\n",
      "/home/vislab/anaconda3/envs/test/lib/python3.8/site-packages/statsmodels/base/model.py:604: ConvergenceWarning: Maximum Likelihood optimization failed to converge. Check mle_retvals\n",
      "  warnings.warn(\"Maximum Likelihood optimization failed to \"\n"
     ]
    },
    {
     "name": "stdout",
     "output_type": "stream",
     "text": [
      "Predict Finish, 64.1772 64.1418 0.9846 0.0153 Evaluation Finish\n",
      "179: Data Load Finish, Predict Finish, 9.6989 9.4611 0.1443 0.8512 Evaluation Finish\n",
      "180: Data Load Finish, Predict Finish, 5.309 4.6591 0.0706 0.9185 Evaluation Finish\n",
      "181: Data Load Finish, Predict Finish, 4.5653 4.0018 0.0604 0.93 Evaluation Finish\n",
      "182: Data Load Finish, Predict Finish, 2.2328 2.0898 0.0321 0.9657 Evaluation Finish\n",
      "183: Data Load Finish, Predict Finish, 3.0191 2.4085 0.0379 0.9537 Evaluation Finish\n",
      "184: Data Load Finish, Predict Finish, 2.4934 2.2363 0.034 0.9617 Evaluation Finish\n",
      "185: Data Load Finish, "
     ]
    },
    {
     "name": "stderr",
     "output_type": "stream",
     "text": [
      "/home/vislab/anaconda3/envs/test/lib/python3.8/site-packages/pandas/core/arraylike.py:364: RuntimeWarning: divide by zero encountered in log\n",
      "  result = getattr(ufunc, method)(*inputs, **kwargs)\n",
      "/home/vislab/anaconda3/envs/test/lib/python3.8/site-packages/statsmodels/base/model.py:604: ConvergenceWarning: Maximum Likelihood optimization failed to converge. Check mle_retvals\n",
      "  warnings.warn(\"Maximum Likelihood optimization failed to \"\n"
     ]
    },
    {
     "name": "stdout",
     "output_type": "stream",
     "text": [
      "Predict Finish, 64.1772 64.1418 0.9846 0.0153 Evaluation Finish\n",
      "186: Data Load Finish, Predict Finish, 2.8136 2.5432 0.0386 0.9568 Evaluation Finish\n",
      "187: Data Load Finish, Predict Finish, 8.6095 7.5548 0.1151 0.8679 Evaluation Finish\n",
      "188: Data Load Finish, Predict Finish, 2.3707 2.13 0.0329 0.9636 Evaluation Finish\n",
      "189: Data Load Finish, Predict Finish, 4.7332 4.1651 0.0629 0.9274 Evaluation Finish\n",
      "190: Data Load Finish, Predict Finish, 3.4773 2.8936 0.0438 0.9466 Evaluation Finish\n",
      "191: Data Load Finish, Predict Finish, 8.4859 7.4947 0.1142 0.8698 Evaluation Finish\n",
      "192: Data Load Finish, Predict Finish, 3.684 3.0328 0.0457 0.9435 Evaluation Finish\n",
      "193: Data Load Finish, Predict Finish, 8.5264 7.4797 0.114 0.8692 Evaluation Finish\n",
      "194: Data Load Finish, Predict Finish, 9.4571 9.2158 0.1405 0.8549 Evaluation Finish\n",
      "195: Data Load Finish, Predict Finish, 2.6633 2.1564 0.0338 0.9591 Evaluation Finish\n",
      "196: Data Load Finish, Predict Finish, 62.2991 62.252 0.9556 0.0441 Evaluation Finish\n",
      "197: Data Load Finish, Predict Finish, 20.7406 20.5678 0.3151 0.6818 Evaluation Finish\n",
      "198: Data Load Finish, Predict Finish, 2.6787 2.0253 0.0319 0.9589 Evaluation Finish\n",
      "199: Data Load Finish, Predict Finish, 4.93 4.3897 0.0664 0.9244 Evaluation Finish\n",
      "200: Data Load Finish, Predict Finish, 2.6932 2.3149 0.0351 0.9587 Evaluation Finish\n",
      "201: Data Load Finish, Predict Finish, 2.3847 1.8907 0.0297 0.9634 Evaluation Finish\n",
      "202: Data Load Finish, Predict Finish, 3.6551 3.1368 0.0473 0.9439 Evaluation Finish\n",
      "203: Data Load Finish, Predict Finish, 2.9395 2.1267 0.0337 0.9549 Evaluation Finish\n",
      "204: Data Load Finish, "
     ]
    },
    {
     "name": "stderr",
     "output_type": "stream",
     "text": [
      "/home/vislab/anaconda3/envs/test/lib/python3.8/site-packages/pandas/core/arraylike.py:364: RuntimeWarning: divide by zero encountered in log\n",
      "  result = getattr(ufunc, method)(*inputs, **kwargs)\n",
      "/home/vislab/anaconda3/envs/test/lib/python3.8/site-packages/statsmodels/base/model.py:604: ConvergenceWarning: Maximum Likelihood optimization failed to converge. Check mle_retvals\n",
      "  warnings.warn(\"Maximum Likelihood optimization failed to \"\n"
     ]
    },
    {
     "name": "stdout",
     "output_type": "stream",
     "text": [
      "Predict Finish, 64.1772 64.1418 0.9846 0.0153 Evaluation Finish\n",
      "205: Data Load Finish, Predict Finish, 2.3484 2.0221 0.0313 0.964 Evaluation Finish\n",
      "206: Data Load Finish, Predict Finish, 6.935 6.4664 0.0983 0.8936 Evaluation Finish\n",
      "RMSE: 11.652157430686422, MAE: 11.21402272280063, MAPE: 0.17182087050056374\n",
      "ACC: 0.8212218552419034\n"
     ]
    }
   ],
   "source": [
    "predictARIMA(df, idx, 9)"
   ]
  },
  {
   "cell_type": "markdown",
   "id": "8624171f",
   "metadata": {},
   "source": [
    "### Unobserved Nodes = 20%"
   ]
  },
  {
   "cell_type": "code",
   "execution_count": 14,
   "id": "a8313c43",
   "metadata": {},
   "outputs": [
    {
     "name": "stdout",
     "output_type": "stream",
     "text": [
      "34272 207\n"
     ]
    },
    {
     "data": {
      "text/plain": [
       "1405152"
      ]
     },
     "execution_count": 14,
     "metadata": {},
     "output_type": "execute_result"
    }
   ],
   "source": [
    "df, idx = csvIndexToDatetime(path_20, start, freq)\n",
    "(df == 0).sum().sum()"
   ]
  },
  {
   "cell_type": "code",
   "execution_count": 15,
   "id": "5ce0fefa",
   "metadata": {
    "scrolled": false
   },
   "outputs": [
    {
     "name": "stdout",
     "output_type": "stream",
     "text": [
      "0: Data Load Finish, "
     ]
    },
    {
     "name": "stderr",
     "output_type": "stream",
     "text": [
      "/home/vislab/anaconda3/envs/test/lib/python3.8/site-packages/pandas/core/arraylike.py:364: RuntimeWarning: divide by zero encountered in log\n",
      "  result = getattr(ufunc, method)(*inputs, **kwargs)\n",
      "/home/vislab/anaconda3/envs/test/lib/python3.8/site-packages/statsmodels/base/model.py:604: ConvergenceWarning: Maximum Likelihood optimization failed to converge. Check mle_retvals\n",
      "  warnings.warn(\"Maximum Likelihood optimization failed to \"\n"
     ]
    },
    {
     "name": "stdout",
     "output_type": "stream",
     "text": [
      "Predict Finish, 64.1772 64.1418 0.9846 0.0153 Evaluation Finish\n",
      "1: Data Load Finish, "
     ]
    },
    {
     "name": "stderr",
     "output_type": "stream",
     "text": [
      "/home/vislab/anaconda3/envs/test/lib/python3.8/site-packages/pandas/core/arraylike.py:364: RuntimeWarning: divide by zero encountered in log\n",
      "  result = getattr(ufunc, method)(*inputs, **kwargs)\n",
      "/home/vislab/anaconda3/envs/test/lib/python3.8/site-packages/statsmodels/base/model.py:604: ConvergenceWarning: Maximum Likelihood optimization failed to converge. Check mle_retvals\n",
      "  warnings.warn(\"Maximum Likelihood optimization failed to \"\n"
     ]
    },
    {
     "name": "stdout",
     "output_type": "stream",
     "text": [
      "Predict Finish, 64.1772 64.1418 0.9846 0.0153 Evaluation Finish\n",
      "2: Data Load Finish, "
     ]
    },
    {
     "name": "stderr",
     "output_type": "stream",
     "text": [
      "/home/vislab/anaconda3/envs/test/lib/python3.8/site-packages/pandas/core/arraylike.py:364: RuntimeWarning: divide by zero encountered in log\n",
      "  result = getattr(ufunc, method)(*inputs, **kwargs)\n",
      "/home/vislab/anaconda3/envs/test/lib/python3.8/site-packages/statsmodels/base/model.py:604: ConvergenceWarning: Maximum Likelihood optimization failed to converge. Check mle_retvals\n",
      "  warnings.warn(\"Maximum Likelihood optimization failed to \"\n"
     ]
    },
    {
     "name": "stdout",
     "output_type": "stream",
     "text": [
      "Predict Finish, 64.1772 64.1418 0.9846 0.0153 Evaluation Finish\n",
      "3: Data Load Finish, Predict Finish, 9.2423 8.891 0.1356 0.8582 Evaluation Finish\n",
      "4: Data Load Finish, Predict Finish, 28.3486 28.1976 0.4322 0.565 Evaluation Finish\n",
      "5: Data Load Finish, Predict Finish, 12.1845 11.9977 0.1833 0.8131 Evaluation Finish\n",
      "6: Data Load Finish, Predict Finish, 3.0554 2.695 0.0408 0.9531 Evaluation Finish\n",
      "7: Data Load Finish, "
     ]
    },
    {
     "name": "stderr",
     "output_type": "stream",
     "text": [
      "/home/vislab/anaconda3/envs/test/lib/python3.8/site-packages/statsmodels/base/model.py:604: ConvergenceWarning: Maximum Likelihood optimization failed to converge. Check mle_retvals\n",
      "  warnings.warn(\"Maximum Likelihood optimization failed to \"\n"
     ]
    },
    {
     "name": "stdout",
     "output_type": "stream",
     "text": [
      "Predict Finish, 2.7414 2.3817 0.036 0.9579 Evaluation Finish\n",
      "8: Data Load Finish, "
     ]
    },
    {
     "name": "stderr",
     "output_type": "stream",
     "text": [
      "/home/vislab/anaconda3/envs/test/lib/python3.8/site-packages/pandas/core/arraylike.py:364: RuntimeWarning: divide by zero encountered in log\n",
      "  result = getattr(ufunc, method)(*inputs, **kwargs)\n",
      "/home/vislab/anaconda3/envs/test/lib/python3.8/site-packages/statsmodels/base/model.py:604: ConvergenceWarning: Maximum Likelihood optimization failed to converge. Check mle_retvals\n",
      "  warnings.warn(\"Maximum Likelihood optimization failed to \"\n"
     ]
    },
    {
     "name": "stdout",
     "output_type": "stream",
     "text": [
      "Predict Finish, 64.1772 64.1418 0.9846 0.0153 Evaluation Finish\n",
      "9: Data Load Finish, Predict Finish, 2.4593 2.3026 0.0353 0.9623 Evaluation Finish\n",
      "10: Data Load Finish, Predict Finish, 4.9173 4.4395 0.0672 0.9246 Evaluation Finish\n",
      "11: Data Load Finish, Predict Finish, 5.0667 4.2958 0.0649 0.9223 Evaluation Finish\n",
      "12: Data Load Finish, "
     ]
    },
    {
     "name": "stderr",
     "output_type": "stream",
     "text": [
      "/home/vislab/anaconda3/envs/test/lib/python3.8/site-packages/pandas/core/arraylike.py:364: RuntimeWarning: divide by zero encountered in log\n",
      "  result = getattr(ufunc, method)(*inputs, **kwargs)\n",
      "/home/vislab/anaconda3/envs/test/lib/python3.8/site-packages/statsmodels/base/model.py:604: ConvergenceWarning: Maximum Likelihood optimization failed to converge. Check mle_retvals\n",
      "  warnings.warn(\"Maximum Likelihood optimization failed to \"\n"
     ]
    },
    {
     "name": "stdout",
     "output_type": "stream",
     "text": [
      "Predict Finish, 64.1772 64.1418 0.9846 0.0153 Evaluation Finish\n",
      "13: Data Load Finish, Predict Finish, 3.3845 2.88 0.0434 0.9481 Evaluation Finish\n",
      "14: Data Load Finish, Predict Finish, 4.5155 3.7987 0.0573 0.9307 Evaluation Finish\n",
      "15: Data Load Finish, Predict Finish, 7.2101 6.5027 0.0989 0.8894 Evaluation Finish\n",
      "16: Data Load Finish, Predict Finish, 46.6564 46.5262 0.7139 0.2842 Evaluation Finish\n",
      "17: Data Load Finish, Predict Finish, 5.5693 5.0061 0.0759 0.9146 Evaluation Finish\n",
      "18: Data Load Finish, Predict Finish, 11.1807 10.9112 0.1665 0.8285 Evaluation Finish\n",
      "19: Data Load Finish, Predict Finish, 3.731 3.0795 0.0464 0.9428 Evaluation Finish\n",
      "20: Data Load Finish, Predict Finish, 2.1976 1.8915 0.0294 0.9663 Evaluation Finish\n",
      "21: Data Load Finish, Predict Finish, 5.8628 5.4518 0.0827 0.91 Evaluation Finish\n",
      "22: Data Load Finish, Predict Finish, 15.8482 15.6957 0.2401 0.7568 Evaluation Finish\n",
      "23: Data Load Finish, Predict Finish, 9.9835 9.715 0.1482 0.8468 Evaluation Finish\n",
      "24: Data Load Finish, Predict Finish, 2.46 2.0553 0.0321 0.9623 Evaluation Finish\n",
      "25: Data Load Finish, Predict Finish, 10.2656 10.041 0.1532 0.8425 Evaluation Finish\n",
      "26: Data Load Finish, Predict Finish, 9.7832 9.4322 0.1439 0.8499 Evaluation Finish\n",
      "27: Data Load Finish, Predict Finish, 4.1362 3.5926 0.0542 0.9365 Evaluation Finish\n",
      "28: Data Load Finish, Predict Finish, 2.5406 1.9537 0.0308 0.961 Evaluation Finish\n",
      "29: Data Load Finish, Predict Finish, 4.3118 3.4076 0.0515 0.9338 Evaluation Finish\n",
      "30: Data Load Finish, Predict Finish, 5.6134 5.1706 0.0784 0.9139 Evaluation Finish\n",
      "31: Data Load Finish, Predict Finish, 2.2571 1.873 0.0293 0.9654 Evaluation Finish\n",
      "32: Data Load Finish, Predict Finish, 2.2492 1.903 0.0297 0.9655 Evaluation Finish\n",
      "33: Data Load Finish, Predict Finish, 3.3939 2.8624 0.0433 0.9479 Evaluation Finish\n",
      "34: Data Load Finish, Predict Finish, 2.2599 1.9829 0.0308 0.9653 Evaluation Finish\n",
      "35: Data Load Finish, Predict Finish, 6.7121 6.2684 0.0952 0.897 Evaluation Finish\n",
      "36: Data Load Finish, "
     ]
    },
    {
     "name": "stderr",
     "output_type": "stream",
     "text": [
      "/home/vislab/anaconda3/envs/test/lib/python3.8/site-packages/pandas/core/arraylike.py:364: RuntimeWarning: divide by zero encountered in log\n",
      "  result = getattr(ufunc, method)(*inputs, **kwargs)\n",
      "/home/vislab/anaconda3/envs/test/lib/python3.8/site-packages/statsmodels/base/model.py:604: ConvergenceWarning: Maximum Likelihood optimization failed to converge. Check mle_retvals\n",
      "  warnings.warn(\"Maximum Likelihood optimization failed to \"\n"
     ]
    },
    {
     "name": "stdout",
     "output_type": "stream",
     "text": [
      "Predict Finish, 64.1772 64.1418 0.9846 0.0153 Evaluation Finish\n",
      "37: Data Load Finish, Predict Finish, 2.1988 1.9615 0.0304 0.9663 Evaluation Finish\n",
      "38: Data Load Finish, Predict Finish, 10.5611 10.2162 0.156 0.838 Evaluation Finish\n",
      "39: Data Load Finish, Predict Finish, 4.9968 4.4309 0.067 0.9233 Evaluation Finish\n",
      "40: Data Load Finish, Predict Finish, 2.5588 2.3604 0.0359 0.9607 Evaluation Finish\n",
      "41: Data Load Finish, Predict Finish, 5.9692 5.5517 0.0842 0.9084 Evaluation Finish\n",
      "42: Data Load Finish, Predict Finish, 2.4238 2.2616 0.0347 0.9628 Evaluation Finish\n",
      "43: Data Load Finish, Predict Finish, 5.1034 4.4435 0.0672 0.9217 Evaluation Finish\n",
      "44: Data Load Finish, Predict Finish, 2.915 2.1531 0.0341 0.9553 Evaluation Finish\n",
      "45: Data Load Finish, Predict Finish, 2.3836 1.9202 0.0302 0.9634 Evaluation Finish\n",
      "46: Data Load Finish, Predict Finish, 4.6386 4.0686 0.0614 0.9288 Evaluation Finish\n",
      "47: Data Load Finish, Predict Finish, 8.7684 8.4297 0.1285 0.8655 Evaluation Finish\n",
      "48: Data Load Finish, Predict Finish, 11.1054 10.8669 0.1659 0.8296 Evaluation Finish\n",
      "49: Data Load Finish, Predict Finish, 3.4411 2.8645 0.0432 0.9472 Evaluation Finish\n",
      "50: Data Load Finish, Predict Finish, 7.5697 7.1924 0.1094 0.8839 Evaluation Finish\n",
      "51: Data Load Finish, Predict Finish, 16.6291 16.4823 0.2522 0.7449 Evaluation Finish\n",
      "52: Data Load Finish, Predict Finish, 3.6909 3.0315 0.0458 0.9434 Evaluation Finish\n",
      "53: Data Load Finish, Predict Finish, 9.5408 9.2842 0.1416 0.8536 Evaluation Finish\n",
      "54: Data Load Finish, Predict Finish, 4.8057 4.2819 0.0647 0.9263 Evaluation Finish\n",
      "55: Data Load Finish, Predict Finish, 4.7388 4.2451 0.0642 0.9273 Evaluation Finish\n",
      "56: Data Load Finish, Predict Finish, 24.1124 24.0141 0.368 0.63 Evaluation Finish\n",
      "57: Data Load Finish, Predict Finish, 5.9602 5.5382 0.084 0.9086 Evaluation Finish\n",
      "58: Data Load Finish, "
     ]
    },
    {
     "name": "stderr",
     "output_type": "stream",
     "text": [
      "/home/vislab/anaconda3/envs/test/lib/python3.8/site-packages/pandas/core/arraylike.py:364: RuntimeWarning: divide by zero encountered in log\n",
      "  result = getattr(ufunc, method)(*inputs, **kwargs)\n",
      "/home/vislab/anaconda3/envs/test/lib/python3.8/site-packages/statsmodels/base/model.py:604: ConvergenceWarning: Maximum Likelihood optimization failed to converge. Check mle_retvals\n",
      "  warnings.warn(\"Maximum Likelihood optimization failed to \"\n"
     ]
    },
    {
     "name": "stdout",
     "output_type": "stream",
     "text": [
      "Predict Finish, 64.1772 64.1418 0.9846 0.0153 Evaluation Finish\n",
      "59: Data Load Finish, "
     ]
    },
    {
     "name": "stderr",
     "output_type": "stream",
     "text": [
      "/home/vislab/anaconda3/envs/test/lib/python3.8/site-packages/pandas/core/arraylike.py:364: RuntimeWarning: divide by zero encountered in log\n",
      "  result = getattr(ufunc, method)(*inputs, **kwargs)\n",
      "/home/vislab/anaconda3/envs/test/lib/python3.8/site-packages/statsmodels/base/model.py:604: ConvergenceWarning: Maximum Likelihood optimization failed to converge. Check mle_retvals\n",
      "  warnings.warn(\"Maximum Likelihood optimization failed to \"\n"
     ]
    },
    {
     "name": "stdout",
     "output_type": "stream",
     "text": [
      "Predict Finish, 64.1772 64.1418 0.9846 0.0153 Evaluation Finish\n",
      "60: Data Load Finish, Predict Finish, 7.5619 7.1111 0.1082 0.884 Evaluation Finish\n",
      "61: Data Load Finish, "
     ]
    },
    {
     "name": "stderr",
     "output_type": "stream",
     "text": [
      "/home/vislab/anaconda3/envs/test/lib/python3.8/site-packages/pandas/core/arraylike.py:364: RuntimeWarning: divide by zero encountered in log\n",
      "  result = getattr(ufunc, method)(*inputs, **kwargs)\n",
      "/home/vislab/anaconda3/envs/test/lib/python3.8/site-packages/statsmodels/base/model.py:604: ConvergenceWarning: Maximum Likelihood optimization failed to converge. Check mle_retvals\n",
      "  warnings.warn(\"Maximum Likelihood optimization failed to \"\n"
     ]
    },
    {
     "name": "stdout",
     "output_type": "stream",
     "text": [
      "Predict Finish, 64.1772 64.1418 0.9846 0.0153 Evaluation Finish\n",
      "62: Data Load Finish, Predict Finish, 4.352 3.6445 0.055 0.9332 Evaluation Finish\n",
      "63: Data Load Finish, Predict Finish, 3.773 3.0592 0.0463 0.9421 Evaluation Finish\n",
      "64: Data Load Finish, Predict Finish, 2.4618 1.9605 0.0308 0.9622 Evaluation Finish\n",
      "65: Data Load Finish, Predict Finish, 3.3138 2.7765 0.0418 0.9492 Evaluation Finish\n",
      "66: Data Load Finish, "
     ]
    },
    {
     "name": "stderr",
     "output_type": "stream",
     "text": [
      "/home/vislab/anaconda3/envs/test/lib/python3.8/site-packages/pandas/core/arraylike.py:364: RuntimeWarning: divide by zero encountered in log\n",
      "  result = getattr(ufunc, method)(*inputs, **kwargs)\n",
      "/home/vislab/anaconda3/envs/test/lib/python3.8/site-packages/statsmodels/base/model.py:604: ConvergenceWarning: Maximum Likelihood optimization failed to converge. Check mle_retvals\n",
      "  warnings.warn(\"Maximum Likelihood optimization failed to \"\n"
     ]
    },
    {
     "name": "stdout",
     "output_type": "stream",
     "text": [
      "Predict Finish, 64.1772 64.1418 0.9846 0.0153 Evaluation Finish\n",
      "67: Data Load Finish, Predict Finish, 2.4708 1.9643 0.0309 0.9621 Evaluation Finish\n",
      "68: Data Load Finish, Predict Finish, 2.8306 2.5046 0.0379 0.9566 Evaluation Finish\n",
      "69: Data Load Finish, Predict Finish, 3.7256 3.0221 0.0457 0.9428 Evaluation Finish\n",
      "70: Data Load Finish, Predict Finish, 5.3559 4.9057 0.0743 0.9178 Evaluation Finish\n",
      "71: Data Load Finish, Predict Finish, 3.967 3.2926 0.0496 0.9391 Evaluation Finish\n",
      "72: Data Load Finish, "
     ]
    },
    {
     "name": "stderr",
     "output_type": "stream",
     "text": [
      "/home/vislab/anaconda3/envs/test/lib/python3.8/site-packages/pandas/core/arraylike.py:364: RuntimeWarning: divide by zero encountered in log\n",
      "  result = getattr(ufunc, method)(*inputs, **kwargs)\n",
      "/home/vislab/anaconda3/envs/test/lib/python3.8/site-packages/statsmodels/base/model.py:604: ConvergenceWarning: Maximum Likelihood optimization failed to converge. Check mle_retvals\n",
      "  warnings.warn(\"Maximum Likelihood optimization failed to \"\n"
     ]
    },
    {
     "name": "stdout",
     "output_type": "stream",
     "text": [
      "Predict Finish, 64.1772 64.1418 0.9846 0.0153 Evaluation Finish\n",
      "73: Data Load Finish, Predict Finish, 8.574 8.2199 0.1253 0.8684 Evaluation Finish\n",
      "74: Data Load Finish, Predict Finish, 3.0225 2.1516 0.0341 0.9536 Evaluation Finish\n",
      "75: Data Load Finish, Predict Finish, 14.4408 14.205 0.2173 0.7784 Evaluation Finish\n",
      "76: Data Load Finish, Predict Finish, 13.3393 13.1246 0.2007 0.7953 Evaluation Finish\n",
      "77: Data Load Finish, "
     ]
    },
    {
     "name": "stderr",
     "output_type": "stream",
     "text": [
      "/home/vislab/anaconda3/envs/test/lib/python3.8/site-packages/pandas/core/arraylike.py:364: RuntimeWarning: divide by zero encountered in log\n",
      "  result = getattr(ufunc, method)(*inputs, **kwargs)\n",
      "/home/vislab/anaconda3/envs/test/lib/python3.8/site-packages/statsmodels/base/model.py:604: ConvergenceWarning: Maximum Likelihood optimization failed to converge. Check mle_retvals\n",
      "  warnings.warn(\"Maximum Likelihood optimization failed to \"\n"
     ]
    },
    {
     "name": "stdout",
     "output_type": "stream",
     "text": [
      "Predict Finish, 64.1772 64.1418 0.9846 0.0153 Evaluation Finish\n",
      "78: Data Load Finish, Predict Finish, 3.5966 2.8514 0.0449 0.9448 Evaluation Finish\n",
      "79: Data Load Finish, Predict Finish, 2.1572 1.9511 0.0301 0.9669 Evaluation Finish\n",
      "80: Data Load Finish, Predict Finish, 3.5729 3.038 0.0458 0.9452 Evaluation Finish\n",
      "81: Data Load Finish, "
     ]
    },
    {
     "name": "stderr",
     "output_type": "stream",
     "text": [
      "/home/vislab/anaconda3/envs/test/lib/python3.8/site-packages/pandas/core/arraylike.py:364: RuntimeWarning: divide by zero encountered in log\n",
      "  result = getattr(ufunc, method)(*inputs, **kwargs)\n",
      "/home/vislab/anaconda3/envs/test/lib/python3.8/site-packages/statsmodels/base/model.py:604: ConvergenceWarning: Maximum Likelihood optimization failed to converge. Check mle_retvals\n",
      "  warnings.warn(\"Maximum Likelihood optimization failed to \"\n"
     ]
    },
    {
     "name": "stdout",
     "output_type": "stream",
     "text": [
      "Predict Finish, 64.1772 64.1418 0.9846 0.0153 Evaluation Finish\n",
      "82: Data Load Finish, Predict Finish, 6.7753 6.3132 0.096 0.896 Evaluation Finish\n",
      "83: Data Load Finish, "
     ]
    },
    {
     "name": "stderr",
     "output_type": "stream",
     "text": [
      "/home/vislab/anaconda3/envs/test/lib/python3.8/site-packages/pandas/core/arraylike.py:364: RuntimeWarning: divide by zero encountered in log\n",
      "  result = getattr(ufunc, method)(*inputs, **kwargs)\n",
      "/home/vislab/anaconda3/envs/test/lib/python3.8/site-packages/statsmodels/base/model.py:604: ConvergenceWarning: Maximum Likelihood optimization failed to converge. Check mle_retvals\n",
      "  warnings.warn(\"Maximum Likelihood optimization failed to \"\n"
     ]
    },
    {
     "name": "stdout",
     "output_type": "stream",
     "text": [
      "Predict Finish, 64.1772 64.1418 0.9846 0.0153 Evaluation Finish\n",
      "84: Data Load Finish, Predict Finish, 10.0574 9.7953 0.1495 0.8457 Evaluation Finish\n",
      "85: Data Load Finish, "
     ]
    },
    {
     "name": "stderr",
     "output_type": "stream",
     "text": [
      "/home/vislab/anaconda3/envs/test/lib/python3.8/site-packages/pandas/core/arraylike.py:364: RuntimeWarning: divide by zero encountered in log\n",
      "  result = getattr(ufunc, method)(*inputs, **kwargs)\n",
      "/home/vislab/anaconda3/envs/test/lib/python3.8/site-packages/statsmodels/base/model.py:604: ConvergenceWarning: Maximum Likelihood optimization failed to converge. Check mle_retvals\n",
      "  warnings.warn(\"Maximum Likelihood optimization failed to \"\n"
     ]
    },
    {
     "name": "stdout",
     "output_type": "stream",
     "text": [
      "Predict Finish, 64.1772 64.1418 0.9846 0.0153 Evaluation Finish\n",
      "86: Data Load Finish, Predict Finish, 3.3368 2.8186 0.0427 0.9488 Evaluation Finish\n",
      "87: Data Load Finish, Predict Finish, 4.1534 3.4333 0.0518 0.9363 Evaluation Finish\n",
      "88: Data Load Finish, Predict Finish, 2.3503 2.2208 0.034 0.9639 Evaluation Finish\n",
      "89: Data Load Finish, Predict Finish, 2.2538 1.9153 0.0299 0.9654 Evaluation Finish\n",
      "90: Data Load Finish, Predict Finish, 2.5912 2.0097 0.0317 0.9602 Evaluation Finish\n",
      "91: Data Load Finish, Predict Finish, 18.8658 18.6802 0.286 0.7105 Evaluation Finish\n",
      "92: Data Load Finish, Predict Finish, 2.8463 2.2207 0.035 0.9563 Evaluation Finish\n",
      "93: Data Load Finish, Predict Finish, 2.2148 1.9904 0.0308 0.966 Evaluation Finish\n",
      "94: Data Load Finish, Predict Finish, 2.8868 2.5933 0.0393 0.9557 Evaluation Finish\n",
      "95: Data Load Finish, Predict Finish, 8.0143 7.6743 0.1169 0.877 Evaluation Finish\n",
      "96: Data Load Finish, Predict Finish, 3.4349 2.6082 0.0411 0.9473 Evaluation Finish\n",
      "97: Data Load Finish, Predict Finish, 2.3525 1.9181 0.03 0.9639 Evaluation Finish\n",
      "98: Data Load Finish, Predict Finish, 7.4726 7.1316 0.1085 0.8853 Evaluation Finish\n",
      "99: Data Load Finish, "
     ]
    },
    {
     "name": "stderr",
     "output_type": "stream",
     "text": [
      "/home/vislab/anaconda3/envs/test/lib/python3.8/site-packages/pandas/core/arraylike.py:364: RuntimeWarning: divide by zero encountered in log\n",
      "  result = getattr(ufunc, method)(*inputs, **kwargs)\n",
      "/home/vislab/anaconda3/envs/test/lib/python3.8/site-packages/statsmodels/base/model.py:604: ConvergenceWarning: Maximum Likelihood optimization failed to converge. Check mle_retvals\n",
      "  warnings.warn(\"Maximum Likelihood optimization failed to \"\n"
     ]
    },
    {
     "name": "stdout",
     "output_type": "stream",
     "text": [
      "Predict Finish, 64.1772 64.1418 0.9846 0.0153 Evaluation Finish\n",
      "100: Data Load Finish, Predict Finish, 6.3858 5.794 0.088 0.902 Evaluation Finish\n",
      "101: Data Load Finish, Predict Finish, 4.6032 3.8488 0.0581 0.9294 Evaluation Finish\n",
      "102: Data Load Finish, Predict Finish, 7.5052 7.1852 0.1093 0.8848 Evaluation Finish\n",
      "103: Data Load Finish, "
     ]
    },
    {
     "name": "stderr",
     "output_type": "stream",
     "text": [
      "/home/vislab/anaconda3/envs/test/lib/python3.8/site-packages/pandas/core/arraylike.py:364: RuntimeWarning: divide by zero encountered in log\n",
      "  result = getattr(ufunc, method)(*inputs, **kwargs)\n",
      "/home/vislab/anaconda3/envs/test/lib/python3.8/site-packages/statsmodels/base/model.py:604: ConvergenceWarning: Maximum Likelihood optimization failed to converge. Check mle_retvals\n",
      "  warnings.warn(\"Maximum Likelihood optimization failed to \"\n"
     ]
    },
    {
     "name": "stdout",
     "output_type": "stream",
     "text": [
      "Predict Finish, 64.1772 64.1418 0.9846 0.0153 Evaluation Finish\n",
      "104: Data Load Finish, Predict Finish, 2.3285 2.035 0.0315 0.9643 Evaluation Finish\n",
      "105: Data Load Finish, Predict Finish, 3.0614 2.2902 0.0362 0.953 Evaluation Finish\n",
      "106: Data Load Finish, Predict Finish, 5.0718 4.3718 0.0661 0.9222 Evaluation Finish\n",
      "107: Data Load Finish, Predict Finish, 3.27 2.4699 0.039 0.9498 Evaluation Finish\n",
      "108: Data Load Finish, "
     ]
    },
    {
     "name": "stderr",
     "output_type": "stream",
     "text": [
      "/home/vislab/anaconda3/envs/test/lib/python3.8/site-packages/pandas/core/arraylike.py:364: RuntimeWarning: divide by zero encountered in log\n",
      "  result = getattr(ufunc, method)(*inputs, **kwargs)\n",
      "/home/vislab/anaconda3/envs/test/lib/python3.8/site-packages/statsmodels/base/model.py:604: ConvergenceWarning: Maximum Likelihood optimization failed to converge. Check mle_retvals\n",
      "  warnings.warn(\"Maximum Likelihood optimization failed to \"\n"
     ]
    },
    {
     "name": "stdout",
     "output_type": "stream",
     "text": [
      "Predict Finish, 64.1772 64.1418 0.9846 0.0153 Evaluation Finish\n",
      "109: Data Load Finish, Predict Finish, 7.912 7.6211 0.116 0.8786 Evaluation Finish\n",
      "110: Data Load Finish, "
     ]
    },
    {
     "name": "stderr",
     "output_type": "stream",
     "text": [
      "/home/vislab/anaconda3/envs/test/lib/python3.8/site-packages/pandas/core/arraylike.py:364: RuntimeWarning: divide by zero encountered in log\n",
      "  result = getattr(ufunc, method)(*inputs, **kwargs)\n",
      "/home/vislab/anaconda3/envs/test/lib/python3.8/site-packages/statsmodels/base/model.py:604: ConvergenceWarning: Maximum Likelihood optimization failed to converge. Check mle_retvals\n",
      "  warnings.warn(\"Maximum Likelihood optimization failed to \"\n"
     ]
    },
    {
     "name": "stdout",
     "output_type": "stream",
     "text": [
      "Predict Finish, 64.1772 64.1418 0.9846 0.0153 Evaluation Finish\n",
      "111: Data Load Finish, "
     ]
    },
    {
     "name": "stderr",
     "output_type": "stream",
     "text": [
      "/home/vislab/anaconda3/envs/test/lib/python3.8/site-packages/pandas/core/arraylike.py:364: RuntimeWarning: divide by zero encountered in log\n",
      "  result = getattr(ufunc, method)(*inputs, **kwargs)\n",
      "/home/vislab/anaconda3/envs/test/lib/python3.8/site-packages/statsmodels/base/model.py:604: ConvergenceWarning: Maximum Likelihood optimization failed to converge. Check mle_retvals\n",
      "  warnings.warn(\"Maximum Likelihood optimization failed to \"\n"
     ]
    },
    {
     "name": "stdout",
     "output_type": "stream",
     "text": [
      "Predict Finish, 64.1772 64.1418 0.9846 0.0153 Evaluation Finish\n",
      "112: Data Load Finish, Predict Finish, 7.1173 6.7208 0.1022 0.8908 Evaluation Finish\n",
      "113: Data Load Finish, Predict Finish, 5.2238 4.4032 0.0667 0.9199 Evaluation Finish\n",
      "114: Data Load Finish, Predict Finish, 2.7758 2.3856 0.0361 0.9574 Evaluation Finish\n",
      "115: Data Load Finish, Predict Finish, 2.2201 2.0429 0.0315 0.9659 Evaluation Finish\n",
      "116: Data Load Finish, Predict Finish, 2.4287 2.2766 0.0349 0.9627 Evaluation Finish\n",
      "117: Data Load Finish, Predict Finish, 2.3109 1.9434 0.0303 0.9645 Evaluation Finish\n",
      "118: Data Load Finish, Predict Finish, 2.1948 1.8547 0.0285 0.9663 Evaluation Finish\n",
      "119: Data Load Finish, Predict Finish, 2.9416 2.1247 0.0337 0.9549 Evaluation Finish\n",
      "120: Data Load Finish, "
     ]
    },
    {
     "name": "stderr",
     "output_type": "stream",
     "text": [
      "/home/vislab/anaconda3/envs/test/lib/python3.8/site-packages/pandas/core/arraylike.py:364: RuntimeWarning: divide by zero encountered in log\n",
      "  result = getattr(ufunc, method)(*inputs, **kwargs)\n",
      "/home/vislab/anaconda3/envs/test/lib/python3.8/site-packages/statsmodels/base/model.py:604: ConvergenceWarning: Maximum Likelihood optimization failed to converge. Check mle_retvals\n",
      "  warnings.warn(\"Maximum Likelihood optimization failed to \"\n"
     ]
    },
    {
     "name": "stdout",
     "output_type": "stream",
     "text": [
      "Predict Finish, 64.1772 64.1418 0.9846 0.0153 Evaluation Finish\n",
      "121: Data Load Finish, Predict Finish, 5.6151 5.2033 0.0789 0.9138 Evaluation Finish\n",
      "122: Data Load Finish, Predict Finish, 2.5499 1.9185 0.0303 0.9609 Evaluation Finish\n",
      "123: Data Load Finish, "
     ]
    },
    {
     "name": "stderr",
     "output_type": "stream",
     "text": [
      "/home/vislab/anaconda3/envs/test/lib/python3.8/site-packages/pandas/core/arraylike.py:364: RuntimeWarning: divide by zero encountered in log\n",
      "  result = getattr(ufunc, method)(*inputs, **kwargs)\n",
      "/home/vislab/anaconda3/envs/test/lib/python3.8/site-packages/statsmodels/base/model.py:604: ConvergenceWarning: Maximum Likelihood optimization failed to converge. Check mle_retvals\n",
      "  warnings.warn(\"Maximum Likelihood optimization failed to \"\n"
     ]
    },
    {
     "name": "stdout",
     "output_type": "stream",
     "text": [
      "Predict Finish, 64.1772 64.1418 0.9846 0.0153 Evaluation Finish\n",
      "124: Data Load Finish, Predict Finish, 9.7847 9.5351 0.1455 0.8499 Evaluation Finish\n",
      "125: Data Load Finish, "
     ]
    },
    {
     "name": "stderr",
     "output_type": "stream",
     "text": [
      "/home/vislab/anaconda3/envs/test/lib/python3.8/site-packages/pandas/core/arraylike.py:364: RuntimeWarning: divide by zero encountered in log\n",
      "  result = getattr(ufunc, method)(*inputs, **kwargs)\n",
      "/home/vislab/anaconda3/envs/test/lib/python3.8/site-packages/statsmodels/base/model.py:604: ConvergenceWarning: Maximum Likelihood optimization failed to converge. Check mle_retvals\n",
      "  warnings.warn(\"Maximum Likelihood optimization failed to \"\n"
     ]
    },
    {
     "name": "stdout",
     "output_type": "stream",
     "text": [
      "Predict Finish, 64.1772 64.1418 0.9846 0.0153 Evaluation Finish\n",
      "126: Data Load Finish, Predict Finish, 9.5152 9.2137 0.1404 0.854 Evaluation Finish\n",
      "127: Data Load Finish, "
     ]
    },
    {
     "name": "stderr",
     "output_type": "stream",
     "text": [
      "/home/vislab/anaconda3/envs/test/lib/python3.8/site-packages/pandas/core/arraylike.py:364: RuntimeWarning: divide by zero encountered in log\n",
      "  result = getattr(ufunc, method)(*inputs, **kwargs)\n",
      "/home/vislab/anaconda3/envs/test/lib/python3.8/site-packages/statsmodels/base/model.py:604: ConvergenceWarning: Maximum Likelihood optimization failed to converge. Check mle_retvals\n",
      "  warnings.warn(\"Maximum Likelihood optimization failed to \"\n"
     ]
    },
    {
     "name": "stdout",
     "output_type": "stream",
     "text": [
      "Predict Finish, 64.1772 64.1418 0.9846 0.0153 Evaluation Finish\n",
      "128: Data Load Finish, Predict Finish, 2.4098 2.0173 0.0315 0.963 Evaluation Finish\n",
      "129: Data Load Finish, Predict Finish, 4.7567 4.2408 0.0641 0.927 Evaluation Finish\n",
      "130: Data Load Finish, Predict Finish, 5.1179 4.534 0.0686 0.9215 Evaluation Finish\n",
      "131: Data Load Finish, Predict Finish, 5.1165 4.3265 0.0655 0.9215 Evaluation Finish\n",
      "132: Data Load Finish, Predict Finish, 2.7855 2.0018 0.0317 0.9573 Evaluation Finish\n",
      "133: Data Load Finish, Predict Finish, 4.5054 3.7521 0.0566 0.9309 Evaluation Finish\n",
      "134: Data Load Finish, Predict Finish, 3.3629 2.8676 0.0434 0.9484 Evaluation Finish\n",
      "135: Data Load Finish, Predict Finish, 2.7114 2.4434 0.0371 0.9584 Evaluation Finish\n",
      "136: Data Load Finish, "
     ]
    },
    {
     "name": "stderr",
     "output_type": "stream",
     "text": [
      "/home/vislab/anaconda3/envs/test/lib/python3.8/site-packages/pandas/core/arraylike.py:364: RuntimeWarning: divide by zero encountered in log\n",
      "  result = getattr(ufunc, method)(*inputs, **kwargs)\n",
      "/home/vislab/anaconda3/envs/test/lib/python3.8/site-packages/statsmodels/base/model.py:604: ConvergenceWarning: Maximum Likelihood optimization failed to converge. Check mle_retvals\n",
      "  warnings.warn(\"Maximum Likelihood optimization failed to \"\n"
     ]
    },
    {
     "name": "stdout",
     "output_type": "stream",
     "text": [
      "Predict Finish, 64.1772 64.1418 0.9846 0.0153 Evaluation Finish\n",
      "137: Data Load Finish, Predict Finish, 6.7717 6.1266 0.0931 0.8961 Evaluation Finish\n",
      "138: Data Load Finish, Predict Finish, 41.1549 40.8454 0.6266 0.3686 Evaluation Finish\n",
      "139: Data Load Finish, "
     ]
    },
    {
     "name": "stderr",
     "output_type": "stream",
     "text": [
      "/home/vislab/anaconda3/envs/test/lib/python3.8/site-packages/pandas/core/arraylike.py:364: RuntimeWarning: divide by zero encountered in log\n",
      "  result = getattr(ufunc, method)(*inputs, **kwargs)\n",
      "/home/vislab/anaconda3/envs/test/lib/python3.8/site-packages/statsmodels/base/model.py:604: ConvergenceWarning: Maximum Likelihood optimization failed to converge. Check mle_retvals\n",
      "  warnings.warn(\"Maximum Likelihood optimization failed to \"\n"
     ]
    },
    {
     "name": "stdout",
     "output_type": "stream",
     "text": [
      "Predict Finish, 64.1772 64.1418 0.9846 0.0153 Evaluation Finish\n",
      "140: Data Load Finish, Predict Finish, 13.3439 13.173 0.2014 0.7953 Evaluation Finish\n",
      "141: Data Load Finish, "
     ]
    },
    {
     "name": "stderr",
     "output_type": "stream",
     "text": [
      "/home/vislab/anaconda3/envs/test/lib/python3.8/site-packages/pandas/core/arraylike.py:364: RuntimeWarning: divide by zero encountered in log\n",
      "  result = getattr(ufunc, method)(*inputs, **kwargs)\n",
      "/home/vislab/anaconda3/envs/test/lib/python3.8/site-packages/statsmodels/base/model.py:604: ConvergenceWarning: Maximum Likelihood optimization failed to converge. Check mle_retvals\n",
      "  warnings.warn(\"Maximum Likelihood optimization failed to \"\n"
     ]
    },
    {
     "name": "stdout",
     "output_type": "stream",
     "text": [
      "Predict Finish, 64.1772 64.1418 0.9846 0.0153 Evaluation Finish\n",
      "142: Data Load Finish, Predict Finish, 2.5399 2.3814 0.0364 0.961 Evaluation Finish\n",
      "143: Data Load Finish, Predict Finish, 5.1276 4.6262 0.07 0.9213 Evaluation Finish\n",
      "144: Data Load Finish, Predict Finish, 12.276 11.9676 0.1829 0.8117 Evaluation Finish\n",
      "145: Data Load Finish, "
     ]
    },
    {
     "name": "stderr",
     "output_type": "stream",
     "text": [
      "/home/vislab/anaconda3/envs/test/lib/python3.8/site-packages/pandas/core/arraylike.py:364: RuntimeWarning: divide by zero encountered in log\n",
      "  result = getattr(ufunc, method)(*inputs, **kwargs)\n",
      "/home/vislab/anaconda3/envs/test/lib/python3.8/site-packages/statsmodels/base/model.py:604: ConvergenceWarning: Maximum Likelihood optimization failed to converge. Check mle_retvals\n",
      "  warnings.warn(\"Maximum Likelihood optimization failed to \"\n"
     ]
    },
    {
     "name": "stdout",
     "output_type": "stream",
     "text": [
      "Predict Finish, 64.1772 64.1418 0.9846 0.0153 Evaluation Finish\n",
      "146: Data Load Finish, Predict Finish, 4.0551 3.27 0.0493 0.9378 Evaluation Finish\n",
      "147: Data Load Finish, Predict Finish, 5.7594 5.3379 0.0809 0.9116 Evaluation Finish\n",
      "148: Data Load Finish, Predict Finish, 5.2874 4.6966 0.0711 0.9189 Evaluation Finish\n",
      "149: Data Load Finish, Predict Finish, 2.9578 2.2273 0.0351 0.9546 Evaluation Finish\n",
      "150: Data Load Finish, Predict Finish, 4.9188 4.0381 0.0612 0.9245 Evaluation Finish\n",
      "151: Data Load Finish, Predict Finish, 6.571 6.1779 0.0939 0.8992 Evaluation Finish\n",
      "152: Data Load Finish, Predict Finish, 4.5713 4.0245 0.0607 0.9299 Evaluation Finish\n",
      "153: Data Load Finish, Predict Finish, 2.5347 2.3304 0.0355 0.9611 Evaluation Finish\n",
      "154: Data Load Finish, Predict Finish, 6.4526 6.0546 0.092 0.901 Evaluation Finish\n",
      "155: Data Load Finish, Predict Finish, 5.7359 4.8283 0.0732 0.912 Evaluation Finish\n",
      "156: Data Load Finish, Predict Finish, 10.3557 10.1136 0.1543 0.8411 Evaluation Finish\n",
      "157: Data Load Finish, Predict Finish, 2.714 2.4964 0.038 0.9584 Evaluation Finish\n",
      "158: Data Load Finish, "
     ]
    },
    {
     "name": "stderr",
     "output_type": "stream",
     "text": [
      "/home/vislab/anaconda3/envs/test/lib/python3.8/site-packages/pandas/core/arraylike.py:364: RuntimeWarning: divide by zero encountered in log\n",
      "  result = getattr(ufunc, method)(*inputs, **kwargs)\n",
      "/home/vislab/anaconda3/envs/test/lib/python3.8/site-packages/statsmodels/base/model.py:604: ConvergenceWarning: Maximum Likelihood optimization failed to converge. Check mle_retvals\n",
      "  warnings.warn(\"Maximum Likelihood optimization failed to \"\n"
     ]
    },
    {
     "name": "stdout",
     "output_type": "stream",
     "text": [
      "Predict Finish, 64.1772 64.1418 0.9846 0.0153 Evaluation Finish\n",
      "159: Data Load Finish, Predict Finish, 5.792 4.8437 0.0735 0.9111 Evaluation Finish\n",
      "160: Data Load Finish, "
     ]
    },
    {
     "name": "stderr",
     "output_type": "stream",
     "text": [
      "/home/vislab/anaconda3/envs/test/lib/python3.8/site-packages/pandas/core/arraylike.py:364: RuntimeWarning: divide by zero encountered in log\n",
      "  result = getattr(ufunc, method)(*inputs, **kwargs)\n",
      "/home/vislab/anaconda3/envs/test/lib/python3.8/site-packages/statsmodels/base/model.py:604: ConvergenceWarning: Maximum Likelihood optimization failed to converge. Check mle_retvals\n",
      "  warnings.warn(\"Maximum Likelihood optimization failed to \"\n"
     ]
    },
    {
     "name": "stdout",
     "output_type": "stream",
     "text": [
      "Predict Finish, 64.1772 64.1418 0.9846 0.0153 Evaluation Finish\n",
      "161: Data Load Finish, Predict Finish, 3.4418 2.6324 0.0415 0.9472 Evaluation Finish\n",
      "162: Data Load Finish, Predict Finish, 2.4949 1.8951 0.0298 0.9617 Evaluation Finish\n",
      "163: Data Load Finish, Predict Finish, 5.6084 4.5257 0.0687 0.914 Evaluation Finish\n",
      "164: Data Load Finish, Predict Finish, 4.8969 4.0746 0.0617 0.9249 Evaluation Finish\n",
      "165: Data Load Finish, "
     ]
    },
    {
     "name": "stderr",
     "output_type": "stream",
     "text": [
      "/home/vislab/anaconda3/envs/test/lib/python3.8/site-packages/pandas/core/arraylike.py:364: RuntimeWarning: divide by zero encountered in log\n",
      "  result = getattr(ufunc, method)(*inputs, **kwargs)\n",
      "/home/vislab/anaconda3/envs/test/lib/python3.8/site-packages/statsmodels/base/model.py:604: ConvergenceWarning: Maximum Likelihood optimization failed to converge. Check mle_retvals\n",
      "  warnings.warn(\"Maximum Likelihood optimization failed to \"\n"
     ]
    },
    {
     "name": "stdout",
     "output_type": "stream",
     "text": [
      "Predict Finish, 64.1772 64.1418 0.9846 0.0153 Evaluation Finish\n",
      "166: Data Load Finish, Predict Finish, 3.0321 2.3373 0.0368 0.9535 Evaluation Finish\n",
      "167: Data Load Finish, Predict Finish, 2.591 1.9447 0.0307 0.9602 Evaluation Finish\n",
      "168: Data Load Finish, Predict Finish, 2.525 1.9518 0.0307 0.9613 Evaluation Finish\n",
      "169: Data Load Finish, "
     ]
    },
    {
     "name": "stderr",
     "output_type": "stream",
     "text": [
      "/home/vislab/anaconda3/envs/test/lib/python3.8/site-packages/pandas/core/arraylike.py:364: RuntimeWarning: divide by zero encountered in log\n",
      "  result = getattr(ufunc, method)(*inputs, **kwargs)\n",
      "/home/vislab/anaconda3/envs/test/lib/python3.8/site-packages/statsmodels/base/model.py:604: ConvergenceWarning: Maximum Likelihood optimization failed to converge. Check mle_retvals\n",
      "  warnings.warn(\"Maximum Likelihood optimization failed to \"\n"
     ]
    },
    {
     "name": "stdout",
     "output_type": "stream",
     "text": [
      "Predict Finish, 64.1772 64.1418 0.9846 0.0153 Evaluation Finish\n",
      "170: Data Load Finish, Predict Finish, 7.8972 7.5768 0.1154 0.8788 Evaluation Finish\n",
      "171: Data Load Finish, Predict Finish, 2.2155 1.8933 0.0295 0.966 Evaluation Finish\n",
      "172: Data Load Finish, Predict Finish, 6.8047 6.1785 0.094 0.8956 Evaluation Finish\n",
      "173: Data Load Finish, "
     ]
    },
    {
     "name": "stderr",
     "output_type": "stream",
     "text": [
      "/home/vislab/anaconda3/envs/test/lib/python3.8/site-packages/pandas/core/arraylike.py:364: RuntimeWarning: divide by zero encountered in log\n",
      "  result = getattr(ufunc, method)(*inputs, **kwargs)\n",
      "/home/vislab/anaconda3/envs/test/lib/python3.8/site-packages/statsmodels/base/model.py:604: ConvergenceWarning: Maximum Likelihood optimization failed to converge. Check mle_retvals\n",
      "  warnings.warn(\"Maximum Likelihood optimization failed to \"\n"
     ]
    },
    {
     "name": "stdout",
     "output_type": "stream",
     "text": [
      "Predict Finish, 64.1772 64.1418 0.9846 0.0153 Evaluation Finish\n",
      "174: Data Load Finish, "
     ]
    },
    {
     "name": "stderr",
     "output_type": "stream",
     "text": [
      "/home/vislab/anaconda3/envs/test/lib/python3.8/site-packages/pandas/core/arraylike.py:364: RuntimeWarning: divide by zero encountered in log\n",
      "  result = getattr(ufunc, method)(*inputs, **kwargs)\n",
      "/home/vislab/anaconda3/envs/test/lib/python3.8/site-packages/statsmodels/base/model.py:604: ConvergenceWarning: Maximum Likelihood optimization failed to converge. Check mle_retvals\n",
      "  warnings.warn(\"Maximum Likelihood optimization failed to \"\n"
     ]
    },
    {
     "name": "stdout",
     "output_type": "stream",
     "text": [
      "Predict Finish, 64.1772 64.1418 0.9846 0.0153 Evaluation Finish\n",
      "175: Data Load Finish, Predict Finish, 2.5766 2.1133 0.0331 0.9605 Evaluation Finish\n",
      "176: Data Load Finish, Predict Finish, 2.6697 1.9738 0.0312 0.959 Evaluation Finish\n",
      "177: Data Load Finish, Predict Finish, 3.5643 3.0387 0.0458 0.9453 Evaluation Finish\n",
      "178: Data Load Finish, Predict Finish, 2.1922 2.0438 0.0314 0.9664 Evaluation Finish\n",
      "179: Data Load Finish, "
     ]
    },
    {
     "name": "stderr",
     "output_type": "stream",
     "text": [
      "/home/vislab/anaconda3/envs/test/lib/python3.8/site-packages/pandas/core/arraylike.py:364: RuntimeWarning: divide by zero encountered in log\n",
      "  result = getattr(ufunc, method)(*inputs, **kwargs)\n",
      "/home/vislab/anaconda3/envs/test/lib/python3.8/site-packages/statsmodels/base/model.py:604: ConvergenceWarning: Maximum Likelihood optimization failed to converge. Check mle_retvals\n",
      "  warnings.warn(\"Maximum Likelihood optimization failed to \"\n"
     ]
    },
    {
     "name": "stdout",
     "output_type": "stream",
     "text": [
      "Predict Finish, 64.1772 64.1418 0.9846 0.0153 Evaluation Finish\n",
      "180: Data Load Finish, Predict Finish, 5.309 4.6591 0.0706 0.9185 Evaluation Finish\n",
      "181: Data Load Finish, Predict Finish, 4.5653 4.0018 0.0604 0.93 Evaluation Finish\n",
      "182: Data Load Finish, Predict Finish, 2.2328 2.0898 0.0321 0.9657 Evaluation Finish\n",
      "183: Data Load Finish, "
     ]
    },
    {
     "name": "stderr",
     "output_type": "stream",
     "text": [
      "/home/vislab/anaconda3/envs/test/lib/python3.8/site-packages/pandas/core/arraylike.py:364: RuntimeWarning: divide by zero encountered in log\n",
      "  result = getattr(ufunc, method)(*inputs, **kwargs)\n",
      "/home/vislab/anaconda3/envs/test/lib/python3.8/site-packages/statsmodels/base/model.py:604: ConvergenceWarning: Maximum Likelihood optimization failed to converge. Check mle_retvals\n",
      "  warnings.warn(\"Maximum Likelihood optimization failed to \"\n"
     ]
    },
    {
     "name": "stdout",
     "output_type": "stream",
     "text": [
      "Predict Finish, 64.1772 64.1418 0.9846 0.0153 Evaluation Finish\n",
      "184: Data Load Finish, "
     ]
    },
    {
     "name": "stderr",
     "output_type": "stream",
     "text": [
      "/home/vislab/anaconda3/envs/test/lib/python3.8/site-packages/pandas/core/arraylike.py:364: RuntimeWarning: divide by zero encountered in log\n",
      "  result = getattr(ufunc, method)(*inputs, **kwargs)\n",
      "/home/vislab/anaconda3/envs/test/lib/python3.8/site-packages/statsmodels/base/model.py:604: ConvergenceWarning: Maximum Likelihood optimization failed to converge. Check mle_retvals\n",
      "  warnings.warn(\"Maximum Likelihood optimization failed to \"\n"
     ]
    },
    {
     "name": "stdout",
     "output_type": "stream",
     "text": [
      "Predict Finish, 64.1772 64.1418 0.9846 0.0153 Evaluation Finish\n",
      "185: Data Load Finish, Predict Finish, 2.4336 2.2907 0.035 0.9627 Evaluation Finish\n",
      "186: Data Load Finish, Predict Finish, 2.8136 2.5432 0.0386 0.9568 Evaluation Finish\n",
      "187: Data Load Finish, Predict Finish, 8.6095 7.5548 0.1151 0.8679 Evaluation Finish\n",
      "188: Data Load Finish, Predict Finish, 2.3707 2.13 0.0329 0.9636 Evaluation Finish\n",
      "189: Data Load Finish, "
     ]
    },
    {
     "name": "stderr",
     "output_type": "stream",
     "text": [
      "/home/vislab/anaconda3/envs/test/lib/python3.8/site-packages/pandas/core/arraylike.py:364: RuntimeWarning: divide by zero encountered in log\n",
      "  result = getattr(ufunc, method)(*inputs, **kwargs)\n",
      "/home/vislab/anaconda3/envs/test/lib/python3.8/site-packages/statsmodels/base/model.py:604: ConvergenceWarning: Maximum Likelihood optimization failed to converge. Check mle_retvals\n",
      "  warnings.warn(\"Maximum Likelihood optimization failed to \"\n"
     ]
    },
    {
     "name": "stdout",
     "output_type": "stream",
     "text": [
      "Predict Finish, 64.1772 64.1418 0.9846 0.0153 Evaluation Finish\n",
      "190: Data Load Finish, "
     ]
    },
    {
     "name": "stderr",
     "output_type": "stream",
     "text": [
      "/home/vislab/anaconda3/envs/test/lib/python3.8/site-packages/pandas/core/arraylike.py:364: RuntimeWarning: divide by zero encountered in log\n",
      "  result = getattr(ufunc, method)(*inputs, **kwargs)\n",
      "/home/vislab/anaconda3/envs/test/lib/python3.8/site-packages/statsmodels/base/model.py:604: ConvergenceWarning: Maximum Likelihood optimization failed to converge. Check mle_retvals\n",
      "  warnings.warn(\"Maximum Likelihood optimization failed to \"\n"
     ]
    },
    {
     "name": "stdout",
     "output_type": "stream",
     "text": [
      "Predict Finish, 64.1772 64.1418 0.9846 0.0153 Evaluation Finish\n",
      "191: Data Load Finish, Predict Finish, 8.4859 7.4947 0.1142 0.8698 Evaluation Finish\n",
      "192: Data Load Finish, Predict Finish, 3.684 3.0328 0.0457 0.9435 Evaluation Finish\n",
      "193: Data Load Finish, Predict Finish, 8.5264 7.4797 0.114 0.8692 Evaluation Finish\n",
      "194: Data Load Finish, "
     ]
    },
    {
     "name": "stderr",
     "output_type": "stream",
     "text": [
      "/home/vislab/anaconda3/envs/test/lib/python3.8/site-packages/pandas/core/arraylike.py:364: RuntimeWarning: divide by zero encountered in log\n",
      "  result = getattr(ufunc, method)(*inputs, **kwargs)\n",
      "/home/vislab/anaconda3/envs/test/lib/python3.8/site-packages/statsmodels/base/model.py:604: ConvergenceWarning: Maximum Likelihood optimization failed to converge. Check mle_retvals\n",
      "  warnings.warn(\"Maximum Likelihood optimization failed to \"\n"
     ]
    },
    {
     "name": "stdout",
     "output_type": "stream",
     "text": [
      "Predict Finish, 64.1772 64.1418 0.9846 0.0153 Evaluation Finish\n",
      "195: Data Load Finish, Predict Finish, 2.6633 2.1564 0.0338 0.9591 Evaluation Finish\n",
      "196: Data Load Finish, Predict Finish, 62.2991 62.252 0.9556 0.0441 Evaluation Finish\n",
      "197: Data Load Finish, Predict Finish, 20.7406 20.5678 0.3151 0.6818 Evaluation Finish\n",
      "198: Data Load Finish, "
     ]
    },
    {
     "name": "stderr",
     "output_type": "stream",
     "text": [
      "/home/vislab/anaconda3/envs/test/lib/python3.8/site-packages/pandas/core/arraylike.py:364: RuntimeWarning: divide by zero encountered in log\n",
      "  result = getattr(ufunc, method)(*inputs, **kwargs)\n",
      "/home/vislab/anaconda3/envs/test/lib/python3.8/site-packages/statsmodels/base/model.py:604: ConvergenceWarning: Maximum Likelihood optimization failed to converge. Check mle_retvals\n",
      "  warnings.warn(\"Maximum Likelihood optimization failed to \"\n"
     ]
    },
    {
     "name": "stdout",
     "output_type": "stream",
     "text": [
      "Predict Finish, 64.1772 64.1418 0.9846 0.0153 Evaluation Finish\n",
      "199: Data Load Finish, Predict Finish, 4.93 4.3897 0.0664 0.9244 Evaluation Finish\n",
      "200: Data Load Finish, Predict Finish, 2.6932 2.3149 0.0351 0.9587 Evaluation Finish\n",
      "201: Data Load Finish, Predict Finish, 2.3847 1.8907 0.0297 0.9634 Evaluation Finish\n",
      "202: Data Load Finish, Predict Finish, 3.6551 3.1368 0.0473 0.9439 Evaluation Finish\n",
      "203: Data Load Finish, Predict Finish, 2.9395 2.1267 0.0337 0.9549 Evaluation Finish\n",
      "204: Data Load Finish, Predict Finish, 3.7859 3.1176 0.0469 0.9419 Evaluation Finish\n",
      "205: Data Load Finish, Predict Finish, 2.3484 2.0221 0.0313 0.964 Evaluation Finish\n",
      "206: Data Load Finish, Predict Finish, 6.935 6.4664 0.0983 0.8936 Evaluation Finish\n",
      "RMSE: 17.753883500864685, MAE: 17.36520513655002, MAPE: 0.2662519539996839\n",
      "ACC: 0.7276035469468426\n"
     ]
    }
   ],
   "source": [
    "predictARIMA(df, idx, 9)"
   ]
  },
  {
   "cell_type": "code",
   "execution_count": null,
   "id": "dfc718de",
   "metadata": {},
   "outputs": [],
   "source": []
  }
 ],
 "metadata": {
  "kernelspec": {
   "display_name": "test",
   "language": "python",
   "name": "test"
  },
  "language_info": {
   "codemirror_mode": {
    "name": "ipython",
    "version": 3
   },
   "file_extension": ".py",
   "mimetype": "text/x-python",
   "name": "python",
   "nbconvert_exporter": "python",
   "pygments_lexer": "ipython3",
   "version": "3.8.12"
  }
 },
 "nbformat": 4,
 "nbformat_minor": 5
}
